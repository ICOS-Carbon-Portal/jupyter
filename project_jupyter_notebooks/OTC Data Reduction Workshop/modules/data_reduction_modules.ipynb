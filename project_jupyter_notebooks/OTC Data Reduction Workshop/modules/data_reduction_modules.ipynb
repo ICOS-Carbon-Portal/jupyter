{
 "cells": [
  {
   "cell_type": "markdown",
   "metadata": {},
   "source": [
    "# Functions and Settings\n",
    "\n",
    "This notebook contains various functions and settings used by the notebooks for the Data Reduction Workshop.\n",
    "\n",
    "- [Imports and basic setup](#setup)\n",
    "- [Progress Bar](#progress)\n",
    "- [Load a file](#load)\n",
    "- [Plots](#plots)\n",
    "- [Gas Calibration](#gascal)"
   ]
  },
  {
   "cell_type": "markdown",
   "metadata": {},
   "source": [
    "### Imports and basic setup\n",
    "<a id='setup'></a>"
   ]
  },
  {
   "cell_type": "code",
   "execution_count": null,
   "metadata": {},
   "outputs": [],
   "source": [
    "# General data imports\n",
    "import datetime\n",
    "import pandas\n",
    "import numpy as np\n",
    "import math\n",
    "from scipy import stats\n",
    "\n",
    "# Jupyter imports\n",
    "from ipywidgets import interact, widgets\n",
    "\n",
    "# Plotting imports\n",
    "from bokeh.io import output_notebook, push_notebook, show\n",
    "from bokeh.plotting import figure\n",
    "from bokeh.models import ColumnDataSource, Select, CustomJS\n",
    "from bokeh.layouts import column, row\n",
    "output_notebook()\n",
    "\n",
    "import folium\n",
    "\n",
    "# Suppress warnings\n",
    "import warnings\n",
    "warnings.filterwarnings('ignore')\n",
    "\n",
    "# Other options\n",
    "pandas.options.display.max_columns = None\n",
    "pandas.options.display.max_rows = None\n"
   ]
  },
  {
   "cell_type": "markdown",
   "metadata": {},
   "source": [
    "### Progress Bar\n",
    "<a id=\"load\"></a>\n",
    "Display a progress bar for long actions\n",
    "\n",
    "From https://github.com/kuk/log-progress"
   ]
  },
  {
   "cell_type": "code",
   "execution_count": null,
   "metadata": {},
   "outputs": [],
   "source": [
    "def log_progress(sequence, every=None, size=None, name='Items'):\n",
    "    from ipywidgets import IntProgress, HTML, VBox\n",
    "    from IPython.display import display\n",
    "\n",
    "    is_iterator = False\n",
    "    if size is None:\n",
    "        try:\n",
    "            size = len(sequence)\n",
    "        except TypeError:\n",
    "            is_iterator = True\n",
    "    if size is not None:\n",
    "        if every is None:\n",
    "            if size <= 200:\n",
    "                every = 1\n",
    "            else:\n",
    "                every = int(size / 200)     # every 0.5%\n",
    "    else:\n",
    "        assert every is not None, 'sequence is iterator, set every'\n",
    "\n",
    "    if is_iterator:\n",
    "        progress = IntProgress(min=0, max=1, value=1)\n",
    "        progress.bar_style = 'info'\n",
    "    else:\n",
    "        progress = IntProgress(min=0, max=size, value=0)\n",
    "    label = HTML()\n",
    "    box = VBox(children=[label, progress])\n",
    "    display(box)\n",
    "\n",
    "    index = 0\n",
    "    try:\n",
    "        for index, record in enumerate(sequence, 1):\n",
    "            if index == 1 or index % every == 0:\n",
    "                if is_iterator:\n",
    "                    label.value = '{name}: {index} / ?'.format(\n",
    "                        name=name,\n",
    "                        index=index\n",
    "                    )\n",
    "                else:\n",
    "                    progress.value = index\n",
    "                    label.value = u'{name}: {index} / {size}'.format(\n",
    "                        name=name,\n",
    "                        index=index,\n",
    "                        size=size\n",
    "                    )\n",
    "            yield record\n",
    "    except:\n",
    "        progress.bar_style = 'danger'\n",
    "        raise\n",
    "    else:\n",
    "        progress.bar_style = 'success'\n",
    "        progress.value = index\n",
    "        label.value = \"{name}: {index}\".format(\n",
    "            name=name,\n",
    "            index=str(index or '?')\n",
    "        )"
   ]
  },
  {
   "cell_type": "markdown",
   "metadata": {},
   "source": [
    "### Load a file\n",
    "<a id=\"load\"></a>\n",
    "All files used in this workshop use the same format. This function loads a requested file and into a pandas dataframe ensures that all the data types are set correctly."
   ]
  },
  {
   "cell_type": "code",
   "execution_count": null,
   "metadata": {},
   "outputs": [],
   "source": [
    "def load_file(filename):\n",
    "  # Load the file\n",
    "  df = pandas.read_csv(filename, sep=\"\\t\")\n",
    "  \n",
    "  # Set the Timestamp column as datetime\n",
    "  df['Timestamp'] = df['Timestamp'].apply(pandas.to_datetime)\n",
    "\n",
    "  return df"
   ]
  },
  {
   "cell_type": "markdown",
   "metadata": {},
   "source": [
    "### Plots\n",
    "<a id=\"plots\"></a>\n",
    "Some shortcut functions to make plots"
   ]
  },
  {
   "cell_type": "code",
   "execution_count": null,
   "metadata": {},
   "outputs": [],
   "source": [
    "def scatter_plot(xdata, ydata, xlabel, ylabel):\n",
    "  p = figure(plot_width=600, plot_height=600, x_axis_label=xlabel, y_axis_label=ylabel)\n",
    "  p.circle(xdata, ydata, size=5)\n",
    "  return p\n",
    "\n",
    "def time_series(xdata, ydata, ylabel):\n",
    "  p = figure(plot_width=600, plot_height=600, x_axis_type='datetime', x_axis_label='Time', y_axis_label=ylabel)\n",
    "  p.circle(xdata, ydata, size=5)\n",
    "  return p\n"
   ]
  },
  {
   "cell_type": "markdown",
   "metadata": {},
   "source": [
    "### Gas Calibration\n",
    "<a id=\"gascal\"></a>\n",
    "Regression functions for gas calibration notebook"
   ]
  },
  {
   "cell_type": "code",
   "execution_count": null,
   "metadata": {},
   "outputs": [],
   "source": [
    "### Functions for Gas Calibration: (8)\n",
    "\n",
    "def gascal_calc_regression(standard_indices):\n",
    "    measured = []\n",
    "    ref = []\n",
    "    \n",
    "    converted_slope = None\n",
    "    converted_intercept = None\n",
    "    \n",
    "    if len(standard_indices) > 1:\n",
    "        for i in standard_indices:\n",
    "            measured.append(standard_measurements['CO2 um/m'][i])\n",
    "            ref.append(standard_measurements['Reference'][i])\n",
    "\n",
    "        slope, intercept, r, p, std_err = stats.linregress(measured, ref)\n",
    "\n",
    "        # Convert slope and intercept\n",
    "        converted_slope = 1 / slope\n",
    "        converted_intercept = (intercept * -1) / slope\n",
    "\n",
    "    return converted_slope, converted_intercept\n",
    "\n",
    "def gascal_plot_regression8(plot, standard_indices, name, color):\n",
    "    measured = []\n",
    "    ref = []\n",
    "\n",
    "    existing_line = plot.select_one({'name': name})\n",
    "    if existing_line is not None:\n",
    "        plot.renderers.remove(existing_line)\n",
    "\n",
    "    if (len(standard_indices) > 1):\n",
    "        converted_slope, converted_intercept = gascal_calc_regression(standard_indices)\n",
    "        plot.line([0, 550],\n",
    "                  [0 * converted_slope + converted_intercept, 550 * converted_slope + converted_intercept],\n",
    "                  line_dash='dashed', line_color=color, name=name)\n",
    "    \n",
    "    \n",
    "    push_notebook()\n",
    "\n",
    "def gascal_get_standard_indices(STD1, STD2, STD3, STD4):\n",
    "    indices = []\n",
    "    if STD1:\n",
    "        indices.append(s1 + 0)\n",
    "    if STD2:\n",
    "        indices.append(s1 + 1)\n",
    "    if STD3:\n",
    "        indices.append(s1 + 2)\n",
    "    if STD4:\n",
    "        indices.append(s1 + 3)\n",
    "        \n",
    "    return indices\n",
    "\n",
    "def gascal_standard_chosen8(STD1, STD2, STD3, STD4):\n",
    "    chosen_indices = gascal_get_standard_indices(STD1, STD2, STD3, STD4)\n",
    "    gascal_plot_regression8(plot, chosen_indices, 'chosen', 'red')\n"
   ]
  },
  {
   "cell_type": "code",
   "execution_count": null,
   "metadata": {},
   "outputs": [],
   "source": []
  }
 ],
 "metadata": {
  "kernelspec": {
   "display_name": "Python 3",
   "language": "python",
   "name": "python3"
  },
  "language_info": {
   "codemirror_mode": {
    "name": "ipython",
    "version": 3
   },
   "file_extension": ".py",
   "mimetype": "text/x-python",
   "name": "python",
   "nbconvert_exporter": "python",
   "pygments_lexer": "ipython3",
   "version": "3.8.6"
  }
 },
 "nbformat": 4,
 "nbformat_minor": 4
}
