{
 "cells": [
  {
   "cell_type": "code",
   "execution_count": null,
   "metadata": {},
   "outputs": [],
   "source": [
    "# Import functions and settings used in this notebook\n",
    "%run ./modules/data_reduction_modules.ipynb"
   ]
  },
  {
   "cell_type": "markdown",
   "metadata": {},
   "source": [
    "# pCO₂ Data Reduction part 4 - UW pCO₂ cruise\n",
    "\n",
    "We will use the same data set as in part 1 but with all recorded variables. We will perform all necessary steps as also described in Denis' talk.\n",
    "\n",
    "## Data set\n",
    "Here you find an example dataset, which was prepared for this exercise. You can download it to your computer and have a look at it: https://fileshare.icos-cp.eu/s/fxXNYSiPjoGJeZ9\n",
    "This is not needed for further calculations but you might want to know how your dataset looks. The columns are described below in the meta data section. The dataset starts with a zero and span measurement to adjust the Licor. Normally one uses CO₂ free air as zero gas and the highest reference gas as span gas. This is followed by a calibration using three non-zero reference gases.\n",
    "\n",
    "\n",
    "### Here are the metadata:\n",
    "**xCO₂ sensor:** Licor 6262  \n",
    "**xCO₂ concentration of reference gases:**  \n",
    "\n",
    "| Standard | Concentration |\n",
    "| :- | -: |\n",
    "| STD1 | 0 ppm |\n",
    "| STD2 | 228.4 ppm | \n",
    "| STD3 | 412.5 ppm |\n",
    "| STD4 | 507.77 ppm |\n",
    "\n",
    "**column header:**\n",
    "\n",
    "| Column | Notes | GO specific |\n",
    "| :- | :- | :-|\n",
    "| Timestamp | | |\n",
    "| Type | Type of measurement (`STDx`: standard gas x, `EQU`: equilibrator,`ATM` )** | |\n",
    "| error | GO instrument specific error code - will not be used here | * |\n",
    "| PC date and time | date and time from system clock | |\n",
    "| GPS date and time | datae and time from GPS signal | |\n",
    "| latitude | in °N |   |\n",
    "| longitude | in °E |   |\n",
    "| equ temp | temperature measurement inside equilibrator in °C | |\n",
    "| std val | referenced value of CO₂ standards as entered by the user |  |\n",
    "| CO2 mv | raw data readings for CO₂ channel from Licor |  |\n",
    "| CO2 um/m | xCO₂ measurement from LI6262 in µmol/mol or ppm |  |\n",
    "| H2O mv | raw data readings for H2O channel from Licor |  |\n",
    "| H2O mm/m | xH₂O measurement from LI6262 in mmol/mol|  |\n",
    "| licor temp | temperature inside Licor cell in °C |  |\n",
    "| licor press | pressure inside Licor cell in mbar |  |\n",
    "| atm press | atmospheric pressure measured 40 m above sea level (ship specific) |  |\n",
    "| equ press | pressure difference between inside and outside the equilibrator |  * can also be absolute |\n",
    "| H2O flow | water flow through the GO system in L/min | |\n",
    "| licor flow | gas flow through the Licor cell in mL/min |\n",
    "| equ pump | equilibrator pump speed | * |\n",
    "| vent flow | gas flow in mL/min at equilibrator vent | * |\n",
    "| atm cond | GO housekeeping variable | * |\n",
    "| equ cond | GO housekeeping variable | * |\n",
    "| drip1 | GO housekeeping variable |  |\n",
    "| drip2 | GO housekeeping variable | * |\n",
    "| cond temp | temperature inside condenser in °C | * |\n",
    "| dry box temp | housing temperature |  |\n",
    "| deck box temp | GO housekeeping variable | * |\n",
    "| WB pressure | pressure next to equilibrator in mbar | |\n",
    "| Intake Temp | intake temperature in °C, here from a SBE38 | |\n",
    "| Salinity | salinity in PSU, here frome a SBE21 | |\n",
    "\n",
    "\n",
    "** Note the type for the first two measurements. It just tells you that the system starts running and that water filter is flushed (both GO specific). \n",
    "\n",
    "### Next cell (1)\n",
    "Load the data file and display. Here we will use the GPS date/time as our time stamp.\n"
   ]
  },
  {
   "cell_type": "code",
   "execution_count": null,
   "metadata": {
    "scrolled": false
   },
   "outputs": [],
   "source": [
    "input_data = pandas.read_csv(\"data/part4_input_raw_cruise_dat.txt\", sep=\"\\t\")\n",
    "\n",
    "# Fix data types\n",
    "input_data['std val'] = input_data['std val'].apply(pandas.to_numeric)\n",
    "\n",
    "# We also create a real timestamp field from the GPS date and time\n",
    "input_data['Timestamp'] = input_data[['GPS date', 'gps time']].apply(lambda x: \n",
    "                            pandas.to_datetime(' '.join(x), format=\"%d.%m.%Y %H:%M:%S\"), axis=1)\n",
    "\n",
    "# display the first 100 lines\n",
    "input_data[0:99]"
   ]
  },
  {
   "cell_type": "markdown",
   "metadata": {},
   "source": [
    "### Cell (2) - xCO2 calibration\n",
    "This is the calibration of our xCO₂ measurements from part 1. It's basically the same as in cell (10) of \"Gas Calibration.ipynb\". The resulting corrected xCO₂ is saved in xco2_corr."
   ]
  },
  {
   "cell_type": "code",
   "execution_count": null,
   "metadata": {
    "scrolled": false
   },
   "outputs": [],
   "source": [
    "# These are our true gas standard concentrations\n",
    "ref1 = 0\n",
    "ref2 = 228.4\n",
    "ref3 = 412.5\n",
    "ref4 = 507.77\n",
    "\n",
    "# Add a column for the calibrated CO2\n",
    "input_data['xco2_corr'] = np.nan\n",
    "\n",
    "# Function to predict the measurement of one of the\n",
    "# standards at a specified time\n",
    "def measured_co2_at_row(standard, time):\n",
    "    \n",
    "    # Find the row for the required standard that is before the specified time\n",
    "    # Note that there are a lot of ways to do this in Python - this is one that's easy to read.\n",
    "    prior = input_data[(input_data['Type'] == standard) & (input_data['Timestamp'] < time)].iloc[-1]\n",
    "    \n",
    "    # Find the row for the required standard that is after the specified time\n",
    "    post = input_data[(input_data['Type'] == standard) & (input_data['Timestamp'] > time)].iloc[0]\n",
    "    \n",
    "    # Get the times and measured values together\n",
    "    \n",
    "    # The times are converted to seconds\n",
    "    times = [prior['Timestamp'].timestamp(), post['Timestamp'].timestamp()]\n",
    "    measurements = [prior['CO2 um/m'], post['CO2 um/m']]\n",
    "\n",
    "    # Make the linear fit\n",
    "    slope, intercept, r, p, std_err = stats.linregress(times, measurements)\n",
    "    \n",
    "    # Calculate the value at the specified time and return it\n",
    "    return time.timestamp() * slope + intercept\n",
    "\n",
    "# Function to calibrate the CO2 value for a given row\n",
    "# in the input data\n",
    "def calibrate(index, row):\n",
    "    \n",
    "    # Calculate the measured standard values at the specified time\n",
    "    std2_at_time = measured_co2_at_row('STD2', row['Timestamp'])\n",
    "    std3_at_time = measured_co2_at_row('STD3', row['Timestamp'])\n",
    "    std4_at_time = measured_co2_at_row('STD4', row['Timestamp'])\n",
    "    \n",
    "    # Perform the linear regression to the true standard concentrations\n",
    "    measured_stds = [std2_at_time, std3_at_time, std4_at_time]\n",
    "    true_stds = [ref2, ref3, ref4] # From cell 3\n",
    "    slope, intercept, r, p, std_err = stats.linregress(measured_stds, true_stds)\n",
    "\n",
    "    # Convert the regression\n",
    "    converted_slope = 1 / slope\n",
    "    converted_intercept = (intercept * -1) / slope\n",
    "    \n",
    "    # Calculate the calibrated CO2 and return it\n",
    "    return row['CO2 um/m'] * converted_slope + converted_intercept\n",
    "\n",
    "# Loop through each row in the input dataset\n",
    "for row_index, row_data in log_progress(input_data.iterrows(), every=10, size=input_data.shape[0], name='Calibrating'):\n",
    "    \n",
    "    # We only want to work with EQU rows\n",
    "    if row_data['Type'].startswith('EQU') or row_data['Type'].startswith('ATM'):\n",
    "\n",
    "        # Extract the timestamp and measured CO2 value\n",
    "        time = row_data['Timestamp']\n",
    "        measured = row_data['CO2 um/m']\n",
    "        \n",
    "        # Run the calibration function\n",
    "        calibrated = calibrate(row_index, row_data)\n",
    "        \n",
    "        # Add the data to the output\n",
    "        input_data['xco2_corr'][row_index] = calibrated\n",
    "\n",
    "# display data, first 100 rows\n",
    "input_data[['Timestamp', 'CO2 um/m', 'xco2_corr']][0:99]\n"
   ]
  },
  {
   "cell_type": "markdown",
   "metadata": {},
   "source": [
    "### Cell (3) - check calibration\n",
    "By plotting the difference between the measured and calibrated xCO₂ one can easily see the magnitude of adjustment that was applied to the data set. When the system is running optimally the adjustments shouldn't exceed 5 ppm. But adjustments of more than 5 ppm don't necessarily mean that the data are bad. It just needs further examination."
   ]
  },
  {
   "cell_type": "code",
   "execution_count": null,
   "metadata": {},
   "outputs": [],
   "source": [
    "calibration_plot = time_series(input_data['Timestamp'], input_data['CO2 um/m'] - input_data['xco2_corr'],\n",
    "  'Measured - Correlated CO₂ [ppm]')\n",
    "\n",
    "show(calibration_plot)"
   ]
  },
  {
   "cell_type": "markdown",
   "metadata": {},
   "source": [
    "### Cell (4) - quick check of data\n",
    "First one perform an automatic range check that captures only clear outliers (like salinity > 50). This data could be flagged automatically as bad or questionable.  \n",
    "After the automatic range check we should quickly check the data set for erronous measurements. This can be due to malfunction of the whole system or just some spikes in the data. The next cell plots several data that are relevant for the following fCO₂ calculations. Please use the drop down menu to click through the variables.  \n",
    "Below the plot you find a table with some explanations what to look for."
   ]
  },
  {
   "cell_type": "code",
   "execution_count": null,
   "metadata": {},
   "outputs": [],
   "source": [
    "plotsource = ColumnDataSource(input_data)\n",
    "selectable_vars = ['equ temp', 'Intake Temp', 'Salinity', 'atm press', 'WBPressure','equ press',\n",
    "                   'licor flow', 'vent flow', 'equ pump', 'H2O flow', 'licor temp', 'licor press']\n",
    "column_select = Select(title='Variable', value=selectable_vars[0], options=selectable_vars)\n",
    "\n",
    "p = figure(plot_width=600, plot_height=600, x_axis_type='datetime', min_border_left=50)\n",
    "circle = p.circle('Timestamp', column_select.value, size=5, source=plotsource)\n",
    "\n",
    "update_plot = CustomJS(args=dict(circle=circle), code=\"\"\"\n",
    "    circle.glyph.y = {field: cb_obj.value};\n",
    "  \"\"\")\n",
    "\n",
    "column_select.js_on_change('value', update_plot)\n",
    "show(column(column_select, p))\n"
   ]
  },
  {
   "cell_type": "markdown",
   "metadata": {},
   "source": [
    "| Variable | long name |Notes |\n",
    "| :- | :-| :-|\n",
    "| equ temp | Equilibrator temperature | Compare the equ temp with the intake temp (intake temperature or SST). The equ temp should be higher than the intake (might be different in the low latitudes). They shouldn't differ more than 1.5 degC. This could mean too low water flow etc. |\n",
    "| Intake temp | Intake temperature | see equ temp |\n",
    "| Salinity | Salinity | Check if the salinity is in the expected range. Since it's impact on the CO₂ calculation is rather small we don't need high precision. |\n",
    "| atm press | atmospheric pressure | Check for major outlier. Compare to other pressures of the system. Mostly it's smaller than the pressure next to the instrument when the instrument is inside a ship. The inside of ships has often a higher pressure than the outside (fans, A/C). Also the height of the atmospheric pressure sensor needs to be taken into account. |\n",
    "| WBPressure | Wet box pressure | Pressure measurement next to the instrument. See comments at atm press. |\n",
    "| equ press | Equilibrator pressure | Pressure inside the equilibrator. This can be either an absolute measurement inside the equilibration chamber or a differential measurement between the equilibration chamber and outside. The differential pressure gives the possibility for additional information. It should be at a more or less constant value (+- 0.4 mbar) otherwise it can indicate leaks or blockages. |\n",
    "| licor flow | gas flow in Licor | Check if the gas flows are at a constant (+- 20 ml/min) value. |\n",
    "| vent flow | Gas flow at equilibrator vent | Since the equilibrator is open to the atmosphere air can get flow in or out the system. A huge change in vent flow indicates alos leackages or blockages. |\n",
    "| equ pump | equilibrator pump speed | The GO system can adjust the pump speed of the equilibrator pump and will adjust it when the licor flow is below/above certain limits. It is a random number, but changes can again indicate leackages or blockages. |\n",
    "| H2O flow | water flow | One needs to know the lower flow limit until the equilibration works fine. This is instrument specific. |\n",
    "| licor temp | Licor cell temperature | Just for information. If the temperature increases too much the Licor will stop working. |\n",
    "| licor press | Licor cell pressure | Strong pressure gradients can be an indication for leackages or blockages.\n",
    "\n",
    "\n",
    "\n",
    "\n",
    "### Cell (5) - position data\n",
    "Check the position data. Here we only plot the cruise track."
   ]
  },
  {
   "cell_type": "code",
   "execution_count": null,
   "metadata": {},
   "outputs": [],
   "source": [
    "# Extract the cooridnates\n",
    "coord = zip(input_data['latitude'], input_data['longitude'])\n",
    "\n",
    "# Create the map\n",
    "mid_lat = min(input_data['latitude']) + ((max(input_data['latitude']) - min(input_data['latitude'])) / 2)\n",
    "mid_lon = min(input_data['longitude']) + ((max(input_data['longitude']) - min(input_data['longitude'])) / 2)\n",
    "myMap = folium.Map(location=[mid_lat, mid_lon], zoom_start=5)\n",
    "\n",
    "# Add dataframe coordinates\n",
    "folium.PolyLine(locations = coord,color='black').add_to(myMap)\n",
    "myMap"
   ]
  },
  {
   "cell_type": "markdown",
   "metadata": {},
   "source": [
    "### Cell (7) - correcting atm. pressure\n",
    "Very often the atmospheric pressure measurement onboard ships is taken way above the sea level. Since we are interested in processes at the sea level we need to correct this measurement to sea level (World Meteorological Organization / CIMO/ET-Stand-1/Doc. 10 (20.XI.2012), https://www.wmo.int/pages/prog/www/IMOP/meetings/SI/ET-Stand-1/Doc-10_Pressure-red.pdf):\n",
    "\n",
    "\\begin{equation*}\n",
    "P_{atm, sealevel} = atm\\ press * \\left(1 - \\frac{0.0065 * h}{SST + 273.15 + 0.0065 * h}\\right)^{-5.257}\n",
    "\\end{equation*}  \n",
    "\n",
    "where $h$ is the height of the measurement in metres and $SST$ is the seawater temperature (we assume air temperature = water temperature, the temperature effect is only 0.02 mbar per °C).\n"
   ]
  },
  {
   "cell_type": "code",
   "execution_count": null,
   "metadata": {
    "scrolled": false
   },
   "outputs": [],
   "source": [
    "# correcting atm. pressure to sea level\n",
    "def press_at_sea_level(measured_pressure, sst, height):\n",
    "    return measured_pressure * pow((1 - (0.0065 * height)/(sst + 0.0065 * height + 273.15)),-5.257)\n",
    "\n",
    "# height above sea level in m\n",
    "atm_sensor_height = 10\n",
    "\n",
    "# Add a column for the adjusted pressure\n",
    "input_data['P_atm_sealevel'] = press_at_sea_level(\n",
    "    input_data['atm press'], input_data['Intake Temp'], atm_sensor_height)\n",
    "\n",
    "# # display data, first 100 rows\n",
    "input_data[['Timestamp', 'Intake Temp', 'atm press', 'P_atm_sealevel']][0:99]\n"
   ]
  },
  {
   "cell_type": "markdown",
   "metadata": {},
   "source": [
    "### Calculate pCO₂ and fCO₂\n",
    "The corrected CO₂ value (`xco2_corr`) is xCO₂ in dry air at the temperature of equilibration. We need to convert this to pCO₂ in water at the sea surface temperature. And since we have measurements for both, seawater and atmospheric air, we have to do it for both slightly different. The subscript $equ$ stands for seawater measurement and the subscript $atm$ for the atmospheric measurements.\n",
    "\n",
    "### Cell (7) - xCO₂(dry) to pCO₂(dry)\n",
    "\n",
    "First we use the corrected xCO₂ and the pressure inside the equilibrator (equ) or at sealevel (atm) to calculate the dry pCO₂. This instrument uses a differential pressure sensor inside the equilibrator. The column in  the data file is called (a bit misleading) 'equ press' but in the following calculation we call it $P_{diff}$. The differential pressure must be subtracted from a reference pressure sensor (WB pressure) and then converted to atmospheres:\n",
    "\n",
    "\n",
    "$$P_{equ} = \\left(P_{WB} - P_{diff}\\right)\\times100\\times9.86923266716013\\text{E-10 [atm]}$$ \n",
    "\n",
    "The pressure $P_{equ}$ and $P_{atm, sealevel}$ can then be used to calculate $pCO_2(dry)$:\n",
    "\n",
    "$$\\left(pCO_2\\right)_{equ}^{dry} = \\left(xCO_2\\right)^{dry} \\times P_{equ}\\text{ [µatm]}$$\n",
    "$$\\left(pCO_2\\right)_{atm}^{dry} = \\left(xCO_2\\right)^{dry} \\times P_{atm, sealevel}\\text{ [µatm]}$$\n"
   ]
  },
  {
   "cell_type": "code",
   "execution_count": null,
   "metadata": {
    "scrolled": false
   },
   "outputs": [],
   "source": [
    "# Create new columns\n",
    "input_data['pequ'] = np.nan\n",
    "input_data['pco2_dry'] = np.nan\n",
    "\n",
    "for row_index, row_data in input_data.iterrows():\n",
    "    if row_data['Type'].startswith('EQU'):\n",
    "        pequ = (row_data['WBPressure'] - row_data['equ press']) * 100 * 0.00000986923266716013   # wet box press - diff press\n",
    "        input_data.at[row_index, 'pequ'] = pequ\n",
    "        input_data.at[row_index, 'pco2_dry'] = row_data['xco2_corr'] * pequ                  # equ pCO2 calculation \n",
    "\n",
    "    elif row_data['Type'].startswith('ATM'):\n",
    "        input_data.at[row_index, 'pco2_dry'] = row_data['xco2_corr'] * row_data['P_atm_sealevel'] * 100 * 0.00000986923266716013    # atm pCO2 calculation \n",
    "\n",
    "# display data, first 100 rows\n",
    "input_data[['Timestamp', 'Type', 'equ press', 'WBPressure', 'pequ', 'P_atm_sealevel', 'CO2 um/m', 'xco2_corr', 'pco2_dry']][0:99]"
   ]
  },
  {
   "cell_type": "markdown",
   "metadata": {},
   "source": [
    "### Cell (8) - pCO₂(dry) to pCO₂(wet)\n",
    "To convert the dry into a wet pCO₂ we need to substract the water vapor pressure pH₂O. \n",
    "\n",
    "$$\\left(pCO_2\\right)_{equ}^{wet} = \\left(xCO_2\\right)_{equT}^{dry}\\left[ P_{equ} - \\left(pH_2O\\right)_{equ}\\right]\\text{ [µatm]}$$\n",
    "$$\\left(pCO_2\\right)_{atm}^{wet} = \\left(xCO_2\\right)_{equT}^{dry}\\left[ P_{atm,sealevel} - \\left(pH_2O\\right)_{atm}\\right]\\text{ [µatm]}$$\n",
    "\n",
    "where $pH_2O$ is the water vapour pressure at the sea surface salinity and equilbrator temperature. The water vapor pressure can be calculated from salinity ($S$) and temperature (Weiss and Price, 1980). As mentioned above we use the temperature inside the equilibrator $equT_K$ for sewater $pCO_2$ and $SST_K$ for the atmospheric $pCO_2$, where the temperature is given in Kelvin.\n",
    "$$\n",
    "\\left(pH_2O\\right)_{equ} = exp\\left[ 24.4543 - 67.4509\\left( \\frac{100}{equT_K} \\right) - 4.8489 ln\\left( \\frac{equT_K}{100} \\right) - 0.000544S \\right]\\text{ [atm]}\n",
    "$$\n",
    "$$\n",
    "\\left(pH_2O\\right)_{atm} = exp\\left[ 24.4543 - 67.4509\\left( \\frac{100}{SST_K} \\right) - 4.8489 ln\\left( \\frac{SST_K}{100} \\right) - 0.000544S \\right]\\text{ [atm]}\n",
    "$$\n"
   ]
  },
  {
   "cell_type": "code",
   "execution_count": null,
   "metadata": {},
   "outputs": [],
   "source": [
    "def calc_ph2o(temp, salinity):\n",
    "    kelvin = temp + 273.15\n",
    "    return math.exp(24.4543 - 67.4509 * (100/kelvin) - 4.8489 * math.log(kelvin/100) - 0.000544 * salinity)        \n",
    "\n",
    "# Create columns\n",
    "input_data['pco2_wet'] = np.nan\n",
    "\n",
    "for row_index, row_data in log_progress(input_data.iterrows(), every=100, size=input_data.shape[0], name='Calculating'):\n",
    "    if row_data['Type'].startswith('EQU'):\n",
    "        \n",
    "        ph2o_equ = calc_ph2o(row_data['equ temp'], row_data['Salinity'])\n",
    "        input_data.at[row_index, 'pco2_wet'] = row_data['xco2_corr'] * (row_data['pequ'] - ph2o_equ)\n",
    "        \n",
    "    elif row_data['Type'].startswith('ATM'):\n",
    "        ph2o_atm = calc_ph2o(row_data['Intake Temp'], row_data['Salinity'])\n",
    "        P_atm_sealevel_atmos = row_data['P_atm_sealevel'] * 100 * 0.00000986923266716013\n",
    "        input_data.at[row_index, 'pco2_wet'] = row_data['xco2_corr'] * (P_atm_sealevel_atmos - ph2o_atm)\n",
    "\n",
    "# display data, first 100 rows\n",
    "input_data[['Timestamp', 'Type', 'equ temp', 'pequ', 'P_atm_sealevel', 'xco2_corr', 'pco2_dry', 'pco2_wet']][0:99]\n"
   ]
  },
  {
   "cell_type": "markdown",
   "metadata": {},
   "source": [
    "### Cell (9) - pCO₂ to fCO₂\n",
    "\n",
    "CO₂ is a non-ideal gas, so we often use fCO₂ to account for its non-ideal behaviour. We calculate fCO₂ from pCO₂ as follows:\n",
    "\n",
    "$$\\left(fCO_2\\right)_{equ}^{wet} = \\left(pCO_2\\right)_{equ}^{wet} \\: exp \\left\\{ \\frac{\\left[ B \\left( CO_2, equT_K \\right) + 2 \\left( 1 - \\left(xCO_2\\right)^{dry} \\right)^2 \\times \\delta \\left( CO_2, equT_K \\right) \\right] \\times P_{equ} }{R\\times equT_K} \\right\\}\n",
    "$$\n",
    "$$\\left(fCO_2\\right)_{atm}^{wet} = \\left(pCO_2\\right)_{atm}^{wet} \\: exp \\left\\{ \\frac{\\left[ B \\left( CO_2, SST_K \\right) + 2 \\left( 1 - \\left(xCO_2\\right)^{dry} \\right)^2 \\times \\delta \\left( CO_2, SST_K \\right) \\right] \\times P_{equ} }{R\\times SST_K} \\right\\}\n",
    "$$\n",
    "\n",
    "where $R$ is the gas constant, and $B$ and $\\delta$ are the virial coefficients:\n",
    "\\begin{equation*}\n",
    "B \\left( CO_2, T \\right) = -1636.75 + 12.0408\\,T - 3.27957\\times10^{-2}\\,T^2 + 3.16528\\times10^{-5}\\,T^3\n",
    "\\end{equation*}\n",
    "\n",
    "\n",
    "\\begin{equation*}\n",
    "\\delta \\left( CO_2, T \\right) = 57.7 - 0.118\\,T\n",
    "\\end{equation*}\n",
    "\n",
    "\n"
   ]
  },
  {
   "cell_type": "code",
   "execution_count": null,
   "metadata": {
    "scrolled": true
   },
   "outputs": [],
   "source": [
    "# Calculate fCO2\n",
    "input_data['fco2_wet'] = np.nan\n",
    "\n",
    "def calc_fco2(pco2_wet, xco2_corr, temp, pressure):\n",
    "    kelvin = temp + 273.15\n",
    "    \n",
    "    B = -1636.75 + 12.0408 * kelvin - 0.0327957 * math.pow(kelvin, 2) + (3.16528 * 1e-5) * math.pow(kelvin, 3)\n",
    "    delta = 57.7 - 0.118 * temp\n",
    "    \n",
    "    return pco2_wet * math.exp(((B + 2 * math.pow(1 - xco2_corr * 1e-6, 2) * delta) * pressure) / (82.0575 * kelvin));\n",
    "\n",
    "for row_index, row_data in log_progress(input_data.iterrows(), every=100, size=input_data.shape[0], name='Calculating'):\n",
    "    if row_data['Type'].startswith('EQU'):\n",
    "        input_data.at[row_index, 'fco2_wet'] = calc_fco2(row_data['pco2_wet'], row_data['xco2_corr'], row_data['equ temp'], row_data['pequ'])\n",
    "    elif row_data['Type'].startswith('ATM'):\n",
    "        P_atm_sealevel_atmos = row_data['P_atm_sealevel'] * 100 * 0.00000986923266716013\n",
    "        input_data.at[row_index, 'fco2_wet'] = calc_fco2(row_data['pco2_wet'], row_data['xco2_corr'], row_data['Intake Temp'], P_atm_sealevel_atmos)\n",
    "\n",
    "        \n",
    "# display data, first 100 rows\n",
    "input_data[['Timestamp', 'Type', 'Intake Temp', 'equ temp', 'pequ', 'P_atm_sealevel', 'xco2_corr', 'pco2_wet', 'fco2_wet']][0:99]\n"
   ]
  },
  {
   "cell_type": "markdown",
   "metadata": {},
   "source": [
    "### Cell (10) - correct for $\\Delta T$\n",
    "\n",
    "Finally we must convert pCO₂ from equilibrator temperature to sea surface temperature:\n",
    "\n",
    "\\begin{equation*}\n",
    "\\left(pCO_2\\right)_{SST}^{wet} = \\left(pCO_2\\right)_{equT}^{wet} \\times exp \\left\\{ 0.0423 \\left(SST - equT \\right) \\right\\}\n",
    "\\end{equation*}\n",
    "\n",
    "with $SST$ and $equT$ both in °K.\n",
    "\n",
    "\n",
    "And finally we can calculate fCO₂ at SST as before:\n",
    "\n",
    "\\begin{equation*}\n",
    "\\left(fCO_2\\right)_{SST}^{wet} = \\left(fCO_2\\right)_{equT}^{wet} \\times exp \\left\\{ 0.0423 \\left(SST_k - equT_k \\right) \\right\\}\n",
    "\\end{equation*}"
   ]
  },
  {
   "cell_type": "code",
   "execution_count": null,
   "metadata": {},
   "outputs": [],
   "source": [
    "# in situ data\n",
    "\n",
    "# create new columns\n",
    "input_data['pco2_wet_sst'] = np.nan\n",
    "input_data['fco2_wet_sst'] = np.nan\n",
    "\n",
    "for row_index, row_data in input_data.iterrows():\n",
    "    if row_data['Type'].startswith('EQU'):\n",
    "        sst = row_data['Intake Temp'] \n",
    "        equt = row_data['equ temp'] \n",
    "        \n",
    "        input_data.at[row_index, 'pco2_wet_sst'] = row_data['pco2_wet'] * math.exp(0.0423 * (sst - equt)) # temp correction after Takahashi\n",
    "        input_data.at[row_index, 'fco2_wet_sst'] = row_data['fco2_wet'] * math.exp(0.0423 * (sst - equt)) # temp correction after Takahashi\n",
    "\n",
    "# display data, first 100 rows\n",
    "input_data[['Timestamp', 'Type', 'pco2_wet', 'fco2_wet', 'pco2_wet_sst', 'fco2_wet_sst']][0:99]"
   ]
  },
  {
   "cell_type": "markdown",
   "metadata": {},
   "source": [
    "### Cell (11) - QC\n",
    "The tool below is the same as in cell(4). You have the ability to plot different variables including the one we recently calculated. Play around with it and use the tool to QC the data set. At this point we can't manipulate the dataset. But write down your findings and ideas how to make this a SOCAT-ready data set."
   ]
  },
  {
   "cell_type": "code",
   "execution_count": null,
   "metadata": {
    "scrolled": false
   },
   "outputs": [],
   "source": [
    "plotsource = ColumnDataSource(input_data)\n",
    "selectable_vars = ['equ temp', 'Intake Temp', 'Salinity', 'atm press', 'WBPressure','equ press', 'pequ', 'P_atm_sealevel',\n",
    "                   'licor flow', 'vent flow','H2O flow', 'equ pump',  \n",
    "                   'xco2_corr', 'pco2_wet', 'fco2_wet', 'fco2_wet', 'pco2_wet_sst', 'fco2_wet_sst']\n",
    "\n",
    "column_select = Select(title='Variable', value=selectable_vars[0], options=selectable_vars)\n",
    "\n",
    "p = figure(plot_width=600, plot_height=600, x_axis_type='datetime', min_border_left=50)\n",
    "circle = p.circle('Timestamp', column_select.value, size=5, source=plotsource)\n",
    "\n",
    "update_plot = CustomJS(args=dict(circle=circle), code=\"\"\"\n",
    "    circle.glyph.y = {field: cb_obj.value};\n",
    "  \"\"\")\n",
    "\n",
    "column_select.js_on_change('value', update_plot)\n",
    "\n",
    "\n",
    "controls = column(column_select)\n",
    "show(column(column_select, p))\n"
   ]
  },
  {
   "cell_type": "code",
   "execution_count": null,
   "metadata": {},
   "outputs": [],
   "source": []
  }
 ],
 "metadata": {
  "kernelspec": {
   "display_name": "Python 3",
   "language": "python",
   "name": "python3"
  },
  "language_info": {
   "codemirror_mode": {
    "name": "ipython",
    "version": 3
   },
   "file_extension": ".py",
   "mimetype": "text/x-python",
   "name": "python",
   "nbconvert_exporter": "python",
   "pygments_lexer": "ipython3",
   "version": "3.8.6"
  }
 },
 "nbformat": 4,
 "nbformat_minor": 2
}
