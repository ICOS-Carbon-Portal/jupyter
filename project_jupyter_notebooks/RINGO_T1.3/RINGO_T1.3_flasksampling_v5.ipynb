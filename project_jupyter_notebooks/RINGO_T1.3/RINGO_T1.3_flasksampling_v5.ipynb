{
 "cells": [
  {
   "cell_type": "markdown",
   "metadata": {},
   "source": [
    "<img src=\"logos/ringo_logo_0.jpg\" width=\"200\" align=\"left\"/>"
   ]
  },
  {
   "cell_type": "markdown",
   "metadata": {},
   "source": [
    "## Jupyter Notebook for RINGO Task 1.3     \n",
    "\n",
    "\n",
    "### This Jupyter Notebook provides analyses of model results for RINGO Task 1.3 and ICOS measurement time series for 2017 and 2018.\n",
    "\n",
    "For questions and feedback contact ute.karstens@nateko.lu.se\n",
    "\n",
    "<br>\n",
    "\n",
    "The notebook supports the analysis presented in the paper:\n",
    "\n",
    "<b> A dedicated flask sampling strategy developed for ICOS stations based on CO2 and CO measurements and STILT footprint modelling </b>\n",
    "\n",
    "Ingeborg Levin, Ute Karstens, Markus Eritt, Fabian Maier, Sabrina Arnold, Daniel Rzesanke, Samuel Hammer, Michel Ramonet, Gabriela Vítková, Sebastien Conil, Michal Heliasz, Dagmar Kubistin, Matthias Lindauer\n",
    "\n",
    "Abstract:\n",
    "\n",
    "First in situ CO2 and CO measurements from five atmospheric ICOS (Integrated Carbon Observation System) stations have been analysed together with footprint model runs conducted with the regional transport model STILT, to develop a dedicated strategy for flask sampling with an automated sampler. Flask sampling in ICOS has three different purposes: 1) Provide an independent quality control for in situ observations, 2) provide representative information on atmospheric components currently not monitored in situ at the stations, 3) collect samples for 14CO2 analysis that are significantly influenced by fossil fuel CO2 (ffCO2) emission areas. Based on the existing data and experimental results obtained at the Heidelberg pilot station with a prototype flask sampler, we suggest that single flask samples should be collected regularly every 3rd day around noon/afternoon from the highest level of a tower station. Air samples shall be collected over one hour with equal temporal weighting to obtain a true hourly mean. At all stations studied, more than 50% of flasks to be collected around mid-day will likely be sampled during low ambient variability (<0.5 ppm standard deviation of one-minute values). Based on experimental tests, such flask data will be suitable to detect CO2 concentration biases larger than 0.1 ppm with a one-sigma confidence level between flask and in situ observations if about four flask comparisons would be averaged. In order to have a maximum chance to also sample ffCO2 emission areas, additional flasks need to be collected on all other days in the afternoon. Using the continuous in situ CO observations, the CO offset compared to an estimated background value must be determined the day after each flask sampling and, depending on this offset, a decision must be made if a flask shall be retained for 14CO2 analysis. It turned out that, based on existing data, ffCO2 events of more than 4-5 ppm will be very rare, particularly in summer. During the other seasons, events could be collected more frequently. The strategy developed in this project is currently being implemented at the ICOS stations.\n",
    "\n",
    "Atmos. Chem. Phys. Discuss., https://doi.org/10.5194/acp-2020-185, in review, 2020\n",
    "\n",
    "<br>\n",
    "\n",
    "### The analysis consists of 4 parts and is started by selecting station, time range.\n"
   ]
  },
  {
   "cell_type": "markdown",
   "metadata": {},
   "source": [
    "<a id='Top'></a>\n",
    "### 1. Test sampling strategy on 1-hourly STILT time series\n",
    "- Highest level at ICOS tower sites\n",
    "- 1-hourly STILT results currently available for 2017 and 2018 at:\n",
    "    - GAT 341m \n",
    "    - OPE 120m \n",
    "    - KRE 250m \n",
    "    - HPB 131m \n",
    "    - HTM 150m \n",
    "- selection criteria for QC\n",
    "    - minimum variability of total CO2 during afternoon hours (12-15 local time)\n",
    "    - use range between min and max in this time period\n",
    "    - set threshold 'var_limit'\n",
    "- selection of 'target' events\n",
    "    - select high fossil fuel CO2 events (only available in model results)\n",
    "        - set theshold 'high'\n",
    "    - select background conditions with low fossil fuel CO2 (only available in model results)\n",
    "        - set threshold 'low'\n",
    "    - select CO offset (difference signal - background) as indicator for high fossil fuel CO2 event\n",
    "        - background defined as lowest value in last 7 days\n",
    "        - set theshold for offset 'highco'\n",
    "- restrict selection to 13:00 local time (12 UTC) \n",
    "- aggregated footprints and contributions (emission x footprint)\n",
    "    - monthly aggregation of 13:00 LT\n",
    "    - low ffCO2\n",
    "    - high ffCO2\n",
    "    - high CO\n",
    "    \n",
    "### 2. Comparison ICOS observation time series with STILT results\n",
    "- currently only ICOS level 2 data is included, downloaded from ICOS Carbon Portal to local folder\n",
    "    - separate files for CO2, CO (and meteo)\n",
    "    - GAT 341 m for 2017 (Apr-Dec) and 2018 (Jan-Dec)\n",
    "    - OPE 120 m for 2017 (Jan-Nov) and 2018 (Jan-Dec)\n",
    "    - KRE 250m for 2017 (Apr-Dec) and 2018 (Jan-Dec)\n",
    "    - HPB 131m for 2017 (Feb-Dec) and 2018 (Jan-Dec)\n",
    "    - HTM 150m for 2017 (Apr-Dec) and 2018 (Jan-Dec)\n",
    "- STILT results from standard footprint tool (3-hourly version) complemented with specific runs for RINGO Task1.3 (1-hourly)\n",
    "- comparison of time series as monthly plots\n",
    "\n",
    "\n",
    "### 3. Apply selection to ICOS observation time series\n",
    "- Highest level at ICOS tower sites\n",
    "    - GAT 341 m for 2017 (Apr-Dec) and 2018 (Jan-Dec)\n",
    "    - OPE 120 m for 2017 (Jan-Nov) and 2018 (Jan-Dec)\n",
    "    - KRE 250m for 2017 (Apr-Dec) and 2018 (Jan-Dec)\n",
    "    - HPB 131m for 2017 (Feb-Dec) and 2018 (Jan-Dec)\n",
    "    - HTM 150m for 2017 (Apr-Dec) and 2018 (Jan-Dec)\n",
    "- selection criteria for QC (same as for model results)\n",
    "    - minimum variability of total CO2 during afternoon hours (12-15 local time)\n",
    "    - use range between min and max in this time period\n",
    "    - set threshold 'var_limit'\n",
    "- selection criteria for QC based on hourly standard deviation provided in ICOS data set\n",
    "    - set threshold 'stdev_limit'\n",
    "- selection of 'target' events\n",
    "    - select CO offset (difference signal - background) as indicator for high fossil fuel CO2 event\n",
    "        - background defined as lowest value in last 7 days\n",
    "        - set theshold for offset 'highco'\n",
    "- restrict selection to 13:00 local time (12 UTC) \n",
    "\n",
    "\n",
    "### 4. Evaluate sensitivity of monthly mean to data selection using ICOS observation time series\n",
    "- Highest level at ICOS tower sites\n",
    "    - GAT 341 m for 2017 (Apr-Dec) and 2018 (Jan-Dec)\n",
    "    - OPE 120 m for 2017 (Jan-Nov) and 2018 (Jan-Dec)\n",
    "    - KRE 250m for 2017 (Apr-Dec) and 2018 (Jan-Dec)\n",
    "    - HPB 131m for 2017 (Feb-Dec) and 2018 (Jan-Dec)\n",
    "    - HTM 150m for 2017 (Apr-Dec) and 2018 (Jan-Dec)\n",
    "- Selection criteria tested\n",
    "    - all afternoon hours (11h -15h local time)\n",
    "    - 13h LT or afternoon every 3rd day\n",
    "    - 10 afternoon values with lowest variability per month\n",
    "    \n",
    "<br>\n",
    "\n",
    "### <font color='red'> Please run 'Restart & Run All' from the 'Kernel' dropdown first .</font>\n",
    "\n",
    "<br>\n",
    "\n",
    "###  [Click here to directly go to the analysis of STILT and ICOS observation time series  ](#Selection)\n",
    "\n",
    "###  [Click here to directly go to the analysis of ICOS observation time series only ](#Selection3)\n",
    "\n"
   ]
  },
  {
   "cell_type": "markdown",
   "metadata": {},
   "source": [
    "### Preparations\n",
    "#### Import tools & basic settings"
   ]
  },
  {
   "cell_type": "code",
   "execution_count": 1,
   "metadata": {},
   "outputs": [],
   "source": [
    "# import required libaries\n",
    "import sys\n",
    "import os\n",
    "\n",
    "#Set path to ICOS tools:\n",
    "sys.path.insert(0,'/data/project/pytools')\n",
    "\n",
    "#Import ICOS tools:\n",
    "from icoscp.cpb.cpbinfile import CpBinFile\n",
    "from icoscp.sparql import sparqls, runsparql\n",
    "\n",
    "my_home = os.getenv('HOME')\n",
    "#sys.path.insert(1,my_home+'/new_jupyter/modules')\n",
    "#sys.path.insert(1,my_home+'/modules')\n",
    "sys.path.insert(1,'modules')\n",
    "\n",
    "# import functions to create widgets for selection of STILT results & ICOS data or ICOS data only\n",
    "from flasksampling_modules import create_widget_selection, create_widget_selection_icos\n",
    "# import call of all functions for selection of STILT time series, footprints and comparison with ICOS measurement data\n",
    "from flasksampling_modules import run_all\n",
    "# import call of all functions for selection of ICOS measurement time series\n",
    "from flasksampling_modules import run_obs\n"
   ]
  },
  {
   "cell_type": "code",
   "execution_count": 2,
   "metadata": {},
   "outputs": [
    {
     "data": {
      "application/javascript": [
       "IPython.OutputArea.prototype._should_scroll = function(lines) {\n",
       "    return false;\n",
       "}\n"
      ],
      "text/plain": [
       "<IPython.core.display.Javascript object>"
      ]
     },
     "metadata": {},
     "output_type": "display_data"
    }
   ],
   "source": [
    "%%javascript\n",
    "IPython.OutputArea.prototype._should_scroll = function(lines) {\n",
    "    return false;\n",
    "}"
   ]
  },
  {
   "cell_type": "markdown",
   "metadata": {},
   "source": [
    "<a id='Selection'></a>\n",
    "### Test sampling strategy based on STILT model results and ICOS observation time series\n",
    "\n",
    "#### Steps 1 - 4"
   ]
  },
  {
   "cell_type": "markdown",
   "metadata": {},
   "source": [
    "[Back to top](#Top)"
   ]
  },
  {
   "cell_type": "code",
   "execution_count": 3,
   "metadata": {
    "scrolled": true
   },
   "outputs": [
    {
     "data": {
      "application/vnd.jupyter.widget-view+json": {
       "model_id": "fd663137be8e4722b210cf6d611ceaff",
       "version_major": 2,
       "version_minor": 0
      },
      "text/plain": [
       "Output()"
      ]
     },
     "metadata": {},
     "output_type": "display_data"
    }
   ],
   "source": [
    "#Call function to present widget:\n",
    "create_widget_selection()"
   ]
  },
  {
   "cell_type": "markdown",
   "metadata": {},
   "source": [
    "[Back to selection](#Selection)\n"
   ]
  },
  {
   "cell_type": "markdown",
   "metadata": {},
   "source": [
    "[Back to top](#Top)"
   ]
  },
  {
   "cell_type": "markdown",
   "metadata": {},
   "source": [
    "<a id='Selection3'></a>"
   ]
  },
  {
   "cell_type": "markdown",
   "metadata": {},
   "source": [
    "### Apply selection to ICOS observation time series\n",
    "#### Step 4\n",
    "- Highest level at ICOS tower sites\n",
    "    - GAT 341 m for April    2017 - April 2019\n",
    "    - OPE 120 m for January  2017 - April 2019\n",
    "    - KRE 250 m for April    2017 - April 2019\n",
    "    - HPB 131 m for Fegruary 2017 - April 2019\n",
    "    - HTM 150 m for April    2017 - April 2019\n",
    "- selection criteria for QC (same as for model results)\n",
    "    - minimum variability of total CO2 during afternoon hours (12-15 local time)\n",
    "    - use range between min and max in this time period\n",
    "    - set threshold 'var_limit'\n",
    "- selection criteria for QC based on hourly standard deviation provided in ICOS data set\n",
    "    - set threshold 'stdev_limit'\n",
    "- selection of 'target' events\n",
    "    - select CO offset (difference signal - background) as indicator for high fossil fuel CO2 event\n",
    "        - background defined as lowest value in last 7 days\n",
    "        - set theshold for offset 'highco'\n",
    "- restrict selection to noon time (default is 13:00 local time (12 UTC))"
   ]
  },
  {
   "cell_type": "code",
   "execution_count": 4,
   "metadata": {},
   "outputs": [
    {
     "data": {
      "application/vnd.jupyter.widget-view+json": {
       "model_id": "ee4772fffbce4d93be95ccfb7645a25b",
       "version_major": 2,
       "version_minor": 0
      },
      "text/plain": [
       "Output()"
      ]
     },
     "metadata": {},
     "output_type": "display_data"
    }
   ],
   "source": [
    "#Call function to present widget:\n",
    "create_widget_selection_icos()"
   ]
  },
  {
   "cell_type": "markdown",
   "metadata": {},
   "source": [
    "[Back to selection](#Selection3)"
   ]
  },
  {
   "cell_type": "markdown",
   "metadata": {},
   "source": [
    "[Back to top](#Top)\n"
   ]
  }
 ],
 "metadata": {
  "kernelspec": {
   "display_name": "Python 3",
   "language": "python",
   "name": "python3"
  },
  "language_info": {
   "codemirror_mode": {
    "name": "ipython",
    "version": 3
   },
   "file_extension": ".py",
   "mimetype": "text/x-python",
   "name": "python",
   "nbconvert_exporter": "python",
   "pygments_lexer": "ipython3",
   "version": "3.7.6"
  }
 },
 "nbformat": 4,
 "nbformat_minor": 2
}
