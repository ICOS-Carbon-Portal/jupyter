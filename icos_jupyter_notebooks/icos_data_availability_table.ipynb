{
 "cells": [
  {
   "cell_type": "markdown",
   "metadata": {},
   "source": [
    "<img src=\"logos/Icos_cp_Logo_RGB.svg\" width=\"400\" align=\"left\"/>\n",
    "<br>\n",
    "<br>\n",
    "<a id='intro'></a>\n",
    "<br>\n",
    "<br>\n",
    "<br>\n",
    "<br>\n",
    "<br>\n",
    "<br>\n",
    "\n",
    "# Explore ICOS data product availability\n",
    "This notebook is dedicated on exploring the availability of ICOS data products from all domains (i.e. atmosphere, ecosystem and ocean). Explore the monthly availability of different data products per station and domain by interacting with the presented availability table.\n",
    "\n",
    "The notebook is divided in the following parts:\n",
    "\n",
    "- [Import tools](#tools)\n",
    "- [Import ICOS station info](#import_icos_info)\n",
    "- [Availability table](#availability_table)\n",
    "- [Get Access to ICOS Jupyter Notebook Developing Environment](#access_to_jup_hub)"
   ]
  },
  {
   "cell_type": "markdown",
   "metadata": {},
   "source": [
    "<br>\n",
    "<br>\n",
    "<a id='tools'></a>\n",
    "\n",
    "## 1. Import tools\n",
    "The current notebook was developed for the visualization of the results and is therefore limited to contain as little code as possible. The majority of the underlying Python code is included in another notebook ```icos_availability_tools.ipynb``` which is stored under the ```availability_tools``` folder. In order for the functions in this notebook to work, we need to execute the following code-cell, which, in turn, will run the notebook that includes the underlying Python code."
   ]
  },
  {
   "cell_type": "code",
   "execution_count": null,
   "metadata": {},
   "outputs": [],
   "source": [
    "#Run notebook with tools:\n",
    "%run availability_tools/icos_availability_tools.ipynb"
   ]
  },
  {
   "cell_type": "markdown",
   "metadata": {},
   "source": [
    "<br>\n",
    "<div style=\"text-align: right\"> \n",
    "    <a href=\"#intro\">Back to top</a>\n",
    "</div>\n",
    "<br>\n",
    "<br>\n",
    "<br>\n",
    "<a id='access_to_jup_hub'></a>\n",
    "<a id='import_icos_info'></a>\n",
    "<br>\n",
    "<br>\n",
    "\n",
    "## 2. Import ICOS station info\n",
    "Execute the code-cells below to import information for all ICOS stations per domain. "
   ]
  },
  {
   "cell_type": "code",
   "execution_count": null,
   "metadata": {},
   "outputs": [],
   "source": [
    "#Get ICOS stations for the selected domain:\n",
    "atm_stations = station.getList(['as'])"
   ]
  },
  {
   "cell_type": "code",
   "execution_count": null,
   "metadata": {
    "scrolled": true
   },
   "outputs": [],
   "source": [
    "#Get ICOS stations for the selected domain:\n",
    "eco_stations = station.getList(['es'])"
   ]
  },
  {
   "cell_type": "code",
   "execution_count": null,
   "metadata": {},
   "outputs": [],
   "source": [
    "#Get ICOS stations for the selected domain:\n",
    "ocean_stations = station.getList(['os'])"
   ]
  },
  {
   "cell_type": "markdown",
   "metadata": {},
   "source": [
    "<br>\n",
    "<div style=\"text-align: right\"> \n",
    "    <a href=\"#intro\">Back to top</a>\n",
    "</div>\n",
    "<br>\n",
    "<br>\n",
    "<br>\n",
    "<a id='access_to_jup_hub'></a>\n",
    "<a id='availability_table'></a>\n",
    "<br>\n",
    "<br>\n",
    "\n",
    "## 3. Availability table\n",
    "Select a domain of interest and then pick 1 to max 3 data products. Once you click on the ```Update Table```-button an interactive availability table will appear. The y-axis of the table includes all ICOS stations for which data products are availabe for per domain. The x-axis represents time in years. Click on the interactive legend items to switch the corresponding layer on or off. Use the tools in the table toolbox to zoom-in or zoom-out (i.e. ```Box Zoom``` or ```Wheel Zoom```) to the contents of the table. Use ```Reset``` to restore the table to its initial state. Activate the ```Hover```tool and hover over the table glyphs (i.e. table polygons) to extract more detailed information (e.g. station code, year, month and name of data product). Observe that you need to activate a tool before you can use it. It is possible to activate/deactivate a tool simply by clicking on it. Active tools are highlighted with a coloured line to the left of the tool icon.\n",
    "\n",
    "Note that only stations that include data products that are previewable are made available through this visualization."
   ]
  },
  {
   "cell_type": "code",
   "execution_count": null,
   "metadata": {},
   "outputs": [],
   "source": [
    "#Call function to display \n",
    "as_availability_wform()"
   ]
  },
  {
   "cell_type": "markdown",
   "metadata": {},
   "source": [
    "<br>\n",
    "<div style=\"text-align: right\"> \n",
    "    <a href=\"#intro\">Back to top</a>\n",
    "</div>\n",
    "<br>\n",
    "<br>\n",
    "<br>\n",
    "<a id='access_to_jup_hub'></a>\n",
    "\n",
    "## 4. Get Access to ICOS Jupyter Notebook Developing Environment\n",
    "If you wish to extend the functionality of the already existent ICOS notebooks or develop your own Jupyter notebook with direct access to ICOS data, send an email with your request to <jupyter-info@icos-cp.eu>.\n",
    "\n",
    "<br>\n",
    "<div style=\"text-align: right\"> \n",
    "    <a href=\"#intro\">Back to top</a>\n",
    "</div>\n",
    "<br>\n",
    "<br>\n",
    "<br>"
   ]
  }
 ],
 "metadata": {
  "kernelspec": {
   "display_name": "Python 3",
   "language": "python",
   "name": "python3"
  },
  "language_info": {
   "codemirror_mode": {
    "name": "ipython",
    "version": 3
   },
   "file_extension": ".py",
   "mimetype": "text/x-python",
   "name": "python",
   "nbconvert_exporter": "python",
   "pygments_lexer": "ipython3",
   "version": "3.8.4"
  }
 },
 "nbformat": 4,
 "nbformat_minor": 4
}
