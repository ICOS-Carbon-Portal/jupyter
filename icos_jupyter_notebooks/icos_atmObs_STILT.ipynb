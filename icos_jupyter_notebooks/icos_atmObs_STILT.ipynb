{
 "cells": [
  {
   "cell_type": "markdown",
   "metadata": {},
   "source": [
    "<img src=\"https://www.icos-cp.eu/sites/default/files/2017-11/ICOS_CP_logo.png\" width=\"400\" align=\"left\"/>"
   ]
  },
  {
   "cell_type": "markdown",
   "metadata": {},
   "source": [
    "<a id='intro'></a>"
   ]
  },
  {
   "cell_type": "markdown",
   "metadata": {},
   "source": [
    "# 1. Introduction\n",
    "In this notebook we present data from [ICOS CP](https://www.icos-cp.eu/)  in conjunction with results of the Stochastic Time-Inverted Lagrangian Transport model - [STILT](http://stilt-model.org/index.php/Main/HomePage). It is possible to run the STILT model and produce new results using the [STILT footprint tool](https://www.icos-cp.eu/footprint-tool), which is available on ICOS CP.\n",
    "<br>\n",
    "\n",
    "The notebook is divided in three parts; the first part shows a [data availability table](#data_availability) per data package, the second presents [visualizations of STILT Model Results and ICOS Atmospheric Observations](#stilt_icosAtmObs) and the third part displays STILT [footprint maps](#fp_maps). Some parts is subdivided to sections. Every part or section contains a short description of the output and/or tool to use to produce the output as well as the Python code used for the implementation.\n",
    "\n",
    "It is possible to navigate to different parts of the notebook using the links at the right side of the notebook code cells.\n",
    "\n",
    "Type __?__ and the name of a Python function, to view a short description of what that particular function does. \n",
    "\n",
    "\n",
    "<br>\n",
    "<br>\n",
    "<br>\n",
    "<a id='tools'></a>\n",
    "\n",
    "## Import tools"
   ]
  },
  {
   "cell_type": "code",
   "execution_count": null,
   "metadata": {},
   "outputs": [],
   "source": [
    "#Run notebook with tools:\n",
    "%run icos_STILT/icos_stilt_tools.ipynb"
   ]
  },
  {
   "cell_type": "markdown",
   "metadata": {},
   "source": [
    "<a id='data_availability'></a>\n",
    "<br>\n",
    "<br>\n",
    "<br>"
   ]
  },
  {
   "cell_type": "markdown",
   "metadata": {},
   "source": [
    "# 2. Data Availability\n",
    "This part presents the data availability of different data packages. More in particular, it presents a table of available STILT model results for ICOS Atmospheric Stations. It should be noted that the content of the table is continuously updated. At present, STILT model results are only available for a subset of the existent ICOS Atmospheric Stations. The table is colorcoded to mark the availability of ICOS Level-1 Atmospheric $CO_2$ Data (pink color) and ICOS Level-2 Atmospheric $CO_2$ Data (blue color). A legend with the marker symbols for every data category can be found below the table. \n",
    "\n",
    "An interactive map is also provided, depicting the location of all ICOS Atmospheric Stations. Hover with your mouse over the station locations and get more information about every station (e.g. station name, station PI, station country, station longitude, station latitude, availability of ICOS Level-1 $CO_2$ data, availability of ICOS Level-2 $CO_2$ data, etc.). Click on the station and be redirected to the corresponding station landing page o ICOS CP. From there it is possible to view and download available data.\n",
    "\n",
    "<br>\n",
    "<br>\n",
    "<div style=\"text-align: right\"> \n",
    "    <a href=\"#intro\">Back to top</a>\n",
    "</div>"
   ]
  },
  {
   "cell_type": "markdown",
   "metadata": {},
   "source": [
    "<a id='data_availability_table'></a>\n",
    "## 2.1 Data Availability Table\n",
    "<br>"
   ]
  },
  {
   "cell_type": "code",
   "execution_count": null,
   "metadata": {},
   "outputs": [],
   "source": [
    "#Plot STILT & ICOS data availability (for ICOS Atmosphere Stations only):\n",
    "update_availability_plot(availability_df,\n",
    "                         path_stiltweb_stations,\n",
    "                         'stiltStationId',\n",
    "                         'samplingheight',\n",
    "                         'specLabel',\n",
    "                         ['ICOS ATC NRT CO2 growing time series', 'ICOS ATC CO2 Release'],\n",
    "                         'timeStart',\n",
    "                         'timeEnd')"
   ]
  },
  {
   "cell_type": "markdown",
   "metadata": {},
   "source": [
    "<br>\n",
    "<div style=\"text-align: right\"> \n",
    "    <a href=\"#stilt_icosAtmObs\">[Go to plot]</a>\n",
    "    &nbsp;&nbsp;&nbsp;&nbsp;&nbsp;&nbsp;&nbsp;&nbsp;\n",
    "    <a href=\"#fp_maps\">[Go to footprint map]</a>\n",
    "    &nbsp;&nbsp;&nbsp;&nbsp;&nbsp;&nbsp;&nbsp;&nbsp;\n",
    "    <a href=\"#intro\">Back to top</a>\n",
    "<br>\n",
    "<br>\n",
    "<br>\n"
   ]
  },
  {
   "cell_type": "markdown",
   "metadata": {},
   "source": [
    "<a id='icos_stilt_station_map'></a>\n",
    "## 2.2 Map displaying ICOS Atmospheric Stations with STILT Model Outputs\n",
    "<br>"
   ]
  },
  {
   "cell_type": "code",
   "execution_count": null,
   "metadata": {
    "scrolled": false
   },
   "outputs": [],
   "source": [
    "#Call function to display widget-form with ICOS stations\n",
    "#for which STILT-results are available:\n",
    "map_wdgt_form_icos_stilt(atm_stations, availability_df, st_info_df)"
   ]
  },
  {
   "cell_type": "markdown",
   "metadata": {},
   "source": [
    "<br>\n",
    "<div style=\"text-align: right\"> \n",
    "    <a href=\"#intro\">Back to top</a>\n",
    "</div>\n",
    "<br>\n",
    "<br>\n",
    "<br>"
   ]
  },
  {
   "cell_type": "markdown",
   "metadata": {},
   "source": [
    "<a id='stilt_icosAtmObs'></a>"
   ]
  },
  {
   "cell_type": "markdown",
   "metadata": {},
   "source": [
    "# 3. Plot STILT Model Results with ICOS Atmospheric Observations\n",
    "This part presents visualizations of STILT Model Results in combination with ICOS Level-1 and/or Level-2 Atmospheric Observations for $CO_2$. More in particular, this part presents an interactive plot with STILT Model results in conjunction with ICOS Level-1 and Level-2 CO2 Atmospheric Data. The results can be viewed by year.\n",
    "\n",
    "If you wish to use data from this tool in your work, click on the \"citation\" checkbox to get the text of the recommended citation format.\n",
    "\n",
    "Note that the sampling height in the Station dropdown list refers to the sampling height defined by the user for the STILT model run and not to the actual sampling height(s) of the station. Plots displaying ICOS data (with or without STILT model results) will have the actual station sampling height stated in the title, whereas plots displaying only STILT model results will display the sampling height defined by the user for the model run.\n",
    "\n",
    "<br>\n",
    "<div style=\"text-align: right\"> \n",
    "    <a href=\"#intro\">Back to top</a>\n",
    "</div>\n",
    "<br>"
   ]
  },
  {
   "cell_type": "code",
   "execution_count": null,
   "metadata": {
    "scrolled": false
   },
   "outputs": [],
   "source": [
    "#Call function to display widgets:\n",
    "create_widgets_stilt_icos_plots(availability_df, st_info_df, path_fp)"
   ]
  },
  {
   "cell_type": "markdown",
   "metadata": {},
   "source": [
    "<br>\n",
    "<div style=\"text-align: right\"> \n",
    "    <a href=\"#data_availability_table\">[Back to availability table]</a>\n",
    "    &emsp; &emsp;\n",
    "    <a href=\"#intro\">Back to top</a>\n",
    "</div>\n",
    "<br>\n",
    "<br>\n",
    "<br>"
   ]
  },
  {
   "cell_type": "markdown",
   "metadata": {},
   "source": [
    "<a id='fp_maps'></a>"
   ]
  },
  {
   "cell_type": "markdown",
   "metadata": {},
   "source": [
    "# 4. STILT Footprint Maps\n",
    "This part presents an interactive plot with STILT Model results in conjunction with ICOS Level-1 and Level-2 CO2 Atmospheric Data. It is possible to perform a more detailed search with the help of the date-picker widgets. These features enable you to perform a search that may span over a few days, months or years.\n",
    "\n",
    "In cases, where STILT Model Results are available it is also possible to view maps of their corresponding footprints.\n",
    "If you wish to use data from this tool in your work, click on the \"citation\" checkbox to get the text of the recommended citation format.\n",
    "\n",
    "In the title of the footprint maps, \"n\" represents the total number of footprints that were aggregated, whilst \"min\" and \"max\" correspond to the minimum and maximum footprint values. Note that, if a logarithmic colorscale is used, the \"min\" and \"max\" values in the title will not correspond to the min and max values of the colormap values.\n",
    "\n",
    "<br>\n",
    "<div style=\"text-align: right\"> \n",
    "    <a href=\"#intro\">Back to top</a>\n",
    "</div>\n",
    "<br>\n",
    "<br>\n",
    "<br>"
   ]
  },
  {
   "cell_type": "code",
   "execution_count": null,
   "metadata": {},
   "outputs": [],
   "source": [
    "#Call function to show widgets:\n",
    "create_widgets_stilt_icos_fp(availability_df, st_info_df, path_fp)"
   ]
  },
  {
   "cell_type": "markdown",
   "metadata": {},
   "source": [
    "<br>\n",
    "<div style=\"text-align: right\"> \n",
    "    <a href=\"#data_availability_table\">[Back to availability table]</a>\n",
    "    &emsp; &emsp;\n",
    "    <a href=\"#intro\">Back to top</a>\n",
    "</div>\n",
    "<br>\n",
    "<br>\n",
    "<br>"
   ]
  },
  {
   "cell_type": "markdown",
   "metadata": {},
   "source": [
    "# 5. Get Access to ICOS Jupyter Notebook Developing Environment\n",
    "If you wish to extend the functionality of the already existent ICOS notebooks or develop your own Jupyter notebook, send an email with your request to <jupyter-info@icos-cp.eu>.\n",
    "\n",
    "<br>\n",
    "<br>\n",
    "<div style=\"text-align: right\"> \n",
    "    <a href=\"#intro\">Back to top</a>\n",
    "</div>\n",
    "<br>\n",
    "<br>\n",
    "<br>"
   ]
  }
 ],
 "metadata": {
  "kernelspec": {
   "display_name": "Python 3",
   "language": "python",
   "name": "python3"
  },
  "language_info": {
   "codemirror_mode": {
    "name": "ipython",
    "version": 3
   },
   "file_extension": ".py",
   "mimetype": "text/x-python",
   "name": "python",
   "nbconvert_exporter": "python",
   "pygments_lexer": "ipython3",
   "version": "3.8.4"
  }
 },
 "nbformat": 4,
 "nbformat_minor": 2
}
