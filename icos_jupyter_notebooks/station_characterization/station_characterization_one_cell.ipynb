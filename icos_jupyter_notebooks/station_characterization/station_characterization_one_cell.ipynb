{
 "cells": [
  {
   "cell_type": "markdown",
   "metadata": {},
   "source": [
    "<div class=\"image\">\n",
    "    <img src=\"Icos_Logo_RGB.png\" width=\"400\" align=\"top\"/>\n",
    "    <h1>Station characterization of atmospheric stations</h1>\n",
    "    <p style=\"font-size:17px;\">This notebook makes it possible to generate characterizations of atmospheric stations based on \n",
    "    their influence areas.<br>The influence area of a station is determined by the transport model STILT\n",
    "    and the result is called a footprint. To generate the characterization visualizations the average footprint for the user-defined date rage is combined\n",
    "    with an anthropogenic emissions database, a biogenic flux model and ancillary data layers. Any point in the STILT domain \n",
    "    with footprints (not necessarily existing stations) will appear in the STILT stations dropdown and can be analyzed. \n",
    "    More details are found in <a href=\"specifications.pdf\" target=\"_blank\">this</a> document.</p>\n",
    "</div>"
   ]
  },
  {
   "cell_type": "code",
   "execution_count": null,
   "metadata": {},
   "outputs": [],
   "source": [
    "%%javascript\n",
    "IPython.OutputArea.prototype._should_scroll = function(lines) {\n",
    "    return false;\n",
    "}"
   ]
  },
  {
   "cell_type": "code",
   "execution_count": null,
   "metadata": {},
   "outputs": [],
   "source": [
    "import station_characterization_functions as scf\n",
    "scf.station_characterization_widget_selection()"
   ]
  }
 ],
 "metadata": {
  "kernelspec": {
   "display_name": "Python 3",
   "language": "python",
   "name": "python3"
  },
  "language_info": {
   "codemirror_mode": {
    "name": "ipython",
    "version": 3
   },
   "file_extension": ".py",
   "mimetype": "text/x-python",
   "name": "python",
   "nbconvert_exporter": "python",
   "pygments_lexer": "ipython3",
   "version": "3.8.4"
  }
 },
 "nbformat": 4,
 "nbformat_minor": 4
}
