{
 "cells": [
  {
   "cell_type": "markdown",
   "metadata": {},
   "source": [
    "<img style=\"float: right;\" src='https://www.icos-cp.eu/sites/default/files/2017-11/ICOS_CP_logo.png' width=\"300\" align=\"top\"/>\n",
    "\n",
    "# Station characterization of atmospheric stations\n",
    "<p style=\"font-size:17px;\">This notebook makes it possible to generate characterizations of atmospheric stations based on their influence areas. The influence area of a station is determined by the transport model STILT  and the result is called a footprint. To generate the characterization visualizations the average footprint for the user-defined date rage is combined with an anthropogenic emissions database, a biogenic flux model and ancillary data layers. Any point in the STILT domain with footprints (not necessarily existing stations) will appear in the STILT stations dropdown and can be analyzed. More details are found in <a href=\"specifications.pdf\" target=\"_blank\">this</a> document.</p>"
   ]
  },
  {
   "cell_type": "code",
   "execution_count": null,
   "metadata": {},
   "outputs": [],
   "source": [
    "%%javascript\n",
    "IPython.OutputArea.prototype._should_scroll = function(lines) {return false;}"
   ]
  },
  {
   "cell_type": "code",
   "execution_count": null,
   "metadata": {},
   "outputs": [],
   "source": [
    "import gui"
   ]
  },
  {
   "cell_type": "code",
   "execution_count": null,
   "metadata": {},
   "outputs": [],
   "source": []
  }
 ],
 "metadata": {
  "kernelspec": {
   "display_name": "Python 3",
   "language": "python",
   "name": "python3"
  },
  "language_info": {
   "codemirror_mode": {
    "name": "ipython",
    "version": 3
   },
   "file_extension": ".py",
   "mimetype": "text/x-python",
   "name": "python",
   "nbconvert_exporter": "python",
   "pygments_lexer": "ipython3",
   "version": "3.8.5"
  },
  "toc": {
   "base_numbering": 1,
   "nav_menu": {},
   "number_sections": false,
   "sideBar": true,
   "skip_h1_title": false,
   "title_cell": "Table of Contents",
   "title_sidebar": "Contents",
   "toc_cell": false,
   "toc_position": {
    "height": "calc(100% - 180px)",
    "left": "10px",
    "top": "150px",
    "width": "165px"
   },
   "toc_section_display": true,
   "toc_window_display": false
  }
 },
 "nbformat": 4,
 "nbformat_minor": 4
}
