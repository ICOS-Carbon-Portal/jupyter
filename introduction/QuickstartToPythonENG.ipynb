{
 "cells": [
  {
   "cell_type": "markdown",
   "metadata": {},
   "source": [
    "<img src=\"logos/python.png\" width=\"320\" align=\"right\"/>\n",
    "<img src=\"logos/Icos_Logo_CMYK_Regular_SMpng.png\" width=\"250\" align=\"left\"/>\n",
    "\n",
    "<br>\n",
    "<br>\n",
    "<br>\n",
    "<br>"
   ]
  },
  {
   "cell_type": "markdown",
   "metadata": {},
   "source": [
    "<a id='intro'></a>"
   ]
  },
  {
   "cell_type": "markdown",
   "metadata": {},
   "source": [
    "# Quickstart to Python\n",
    "This notebook contains a short introduction of basic principles of coding in Python. It is aimed for people who have no prior knowledge in programming but also for people who wish to brush up their memory in programmng with Python or are already familiar with programming in another programming language and want to become acquainted with Python. The notebook is organized in a series of chapters where the main principles of programming are introduced. There is an emphasis on providing brief descriptions of the coding principles in conjuction with simple and self-explanatory coding examples. People who are new to programming are advised to follow this manual step by step. For people that are already familiar with Python or programming in general, it is possible to use the links to navigate to specific chapters. \n",
    "\n",
    "Observe that this tutorial was developed using **Python 3.6.7**."
   ]
  },
  {
   "cell_type": "markdown",
   "metadata": {},
   "source": [
    "<a id='toc'></a>"
   ]
  },
  {
   "cell_type": "markdown",
   "metadata": {},
   "source": [
    "# Table of Contents\n",
    "\n",
    "- [Introduction](#intro)\n",
    "<br>\n",
    "<br>\n",
    "- [1. Import Python modules](#importera_py_moduler)\n",
    "<br>\n",
    "<br>\n",
    "- [2. Variables and data types in Python](#py_variables_and_dataTypes)\n",
    "    -  [2.1. Variables](#py_variables)\n",
    "    -  [2.2. Data types](#py_dataTypes)\n",
    "    -  [2.3. Python conventions](#py_conventions)\n",
    "    -  [2.4. Comments](#py_comments)\n",
    "<br>\n",
    "<br>\n",
    "- [3. Python operators](#py_operators)\n",
    "    -  [3.1. Arithmetic operators](#arithmetic_operators_py)\n",
    "    -  [3.2. Assignment operators](#assignement_operators_py)\n",
    "    -  [3.3. Comparison operators](#comparison_operators_py)\n",
    "    -  [3.4. Logical operators](#logical_operators_py)\n",
    "    -  [3.5. Identity operators](#identity_operators_py)\n",
    "    -  [3.6. Membership operators](#membership_operators_py)\n",
    "    -  [3.7. Bitwise operators](#bitwise_operators_py)\n",
    "<br>\n",
    "<br>\n",
    "- [4. Data structures in Python](#data_structures_py)\n",
    "    -  [4.1. Lists](#list_py)\n",
    "    -  [4.2. Sets](#set_py)\n",
    "    -  [4.3. Tuples](#tuple_py)\n",
    "    -  [4.4. Dictionaries](#dictionary_py)\n",
    "<br>\n",
    "<br>\n",
    "- [5. String manipulation in Python](#py_string_manipulation)\n",
    "<br>\n",
    "<br>\n",
    "- [6. Control flow in Python](#py_control_flow)\n",
    "    -  [6.1. If-statements](#if_statement_py)\n",
    "    -  [6.2. For-loops](#for_loop_py)\n",
    "    -  [6.3. While-loops](#for_loop_py)\n",
    "<br>\n",
    "<br>\n",
    "- [7. Create functions in Python](#python_func)\n",
    "<br>\n",
    "<br>\n",
    "- [8. Local and global variables in Python](#local_and_global_var)\n",
    "<br>\n",
    "<br>\n",
    "- [9. List comprehensions](#list_comprehensions_py)\n",
    "<br>\n",
    "<br>\n"
   ]
  },
  {
   "cell_type": "markdown",
   "metadata": {},
   "source": [
    "<a id='data_HTM_station'></a>"
   ]
  },
  {
   "cell_type": "markdown",
   "metadata": {},
   "source": [
    "<br>\n",
    "<br>\n",
    "<div style=\"text-align: right\"> \n",
    "    <a href=\"#toc\">Back to top</a>\n",
    "</div>"
   ]
  },
  {
   "cell_type": "markdown",
   "metadata": {},
   "source": [
    "<a id='importera_py_moduler'></a>\n",
    "<br>"
   ]
  },
  {
   "cell_type": "markdown",
   "metadata": {},
   "source": [
    "## 1. Import Python Modules\n",
    "Like all programming languages, Python includes an extended number of libraries. Libraries are essentially packages of pre-written code. A package may contain many pre-written modules. A module is a file that contains various Python functions and global variables. [Global variables](#local_and_global_var) are described in detail later.\n",
    "\n",
    "To use a pre-written function in your Python code, you need to make sure that the package it belongs to has already been installed and that its corresponding module has been imported. It is common practice to import all modules that will be used in a Python program at the beginning of the program.\n",
    "\n",
    "The next code-cell displays the Python syntax for importing modules. It is possible to import all functions from a module (e.g. <code style=\"color:#CD5C5C\">import math</code> or  <code style=\"color:#CD5C5C\">from math import *</code>). It is also possible to only import a specific function of a module (t.ex. <code style=\"color:#CD5C5C\">from datetime import datetime</code>).\n",
    "\n",
    "When you install Python on your machine, you also install a set of predefined libraries. However, once you start writing code in Python, you might discover that you need to install more libraries. To use a function from your newly installed library, you need to import it (e.g. <code style=\"color:#CD5C5C\">from bokeh.plotting import figure</code>). For example, the <code style=\"color:#CD5C5C\">bokeh</code> visualization library contains a package of modules called <code style=\"color:#CD5C5C\">plotting</code> that, in turn, includes the module <code style=\"color:#CD5C5C\">figure</code>. It is not considered good practice to use the <code style=\"color:#CD5C5C\">from module_name import *</code> syntax. Instead try to import strictly defined modules or functions.\n",
    "\n",
    "It is possible to give an alias to a library- or module-name at import, using the keyword <code style=\"color:#CD5C5C\">as</code>. Usually the alias is a shorter version of the library's or module's name. For instance, <code style=\"color:#CD5C5C\">import pandas as pd</code>, stands for importing the _pandas_ library and renaming it to _pd_. In this way, whenever a module or a function from the pandas library is called, it is only necessary to write _pd_ instead of the library's full name. "
   ]
  },
  {
   "cell_type": "code",
   "execution_count": null,
   "metadata": {},
   "outputs": [],
   "source": [
    "#Import modules:\n",
    "import numpy as np\n",
    "import pandas as pd\n",
    "import itertools\n",
    "from datetime import datetime\n",
    "import math\n",
    "from bokeh.plotting import figure\n",
    "from bokeh.models import ColumnDataSource, HoverTool, Label, Legend, SingleIntervalTicker, LinearAxis, Range1d\n",
    "from bokeh.io import show, output_notebook"
   ]
  },
  {
   "cell_type": "markdown",
   "metadata": {},
   "source": [
    "<br>\n",
    "<br>\n",
    "<div style=\"text-align: right\"> \n",
    "    <a href=\"#toc\">Back to top</a>\n",
    "</div>"
   ]
  },
  {
   "cell_type": "markdown",
   "metadata": {},
   "source": [
    "<a id='py_variables_and_dataTypes'></a>\n",
    "<br>"
   ]
  },
  {
   "cell_type": "markdown",
   "metadata": {},
   "source": [
    "## 2. Variables and Data Types in Python\n",
    "This chapter is dedicated to describing how variables are handled in Python. Variables consist of values that, in turn, belong to different data types. The most common data types in Python are: integers, floating point numbers, strings and booleans. \n",
    "\n",
    "Once starting to learn a new programming language it is good to become acquainted with what the good practices of writing code in that language are. The chapter [Python Conventions](#py_conventions) includes some common rules and suggestions for how to produce high quality Python code.\n",
    "\n",
    "If you have some prior experience in coding, you will know how hard it can be to understand code written by others when there are insufficient or no comments. Therefore, the last part of this chapter is dedicated to different ways of commenting in Python. \n"
   ]
  },
  {
   "cell_type": "markdown",
   "metadata": {},
   "source": [
    "<a id='py_variables'></a>\n",
    "<br>"
   ]
  },
  {
   "cell_type": "markdown",
   "metadata": {},
   "source": [
    "### 2.1. Variables in Python \n",
    "Variables are used in programming to store different types of values. To create a variable, write the name of the variable followed by an equal sign and the value you wish to store. There are strict rules regarding what a variable name can be. Read more about these rules in [Python Conventions](#py_conventions).\n",
    "\n",
    "For example write,\n",
    "```python\n",
    "x = 10\n",
    "```\n",
    "\n",
    "to store the numerical value _10_ in a variable called _x_.\n"
   ]
  },
  {
   "cell_type": "code",
   "execution_count": null,
   "metadata": {},
   "outputs": [],
   "source": [
    "#Create a variable and assign a value:\n",
    "x = 10\n",
    "\n",
    "#Print the variable's value:\n",
    "print(x)"
   ]
  },
  {
   "cell_type": "markdown",
   "metadata": {},
   "source": [
    "<br>\n",
    "<div style=\"text-align: right\"> \n",
    "    <a href=\"#toc\">Back to top</a>\n",
    "</div>"
   ]
  },
  {
   "cell_type": "markdown",
   "metadata": {},
   "source": [
    "<a id='py_dataTypes'></a>\n",
    "<br>"
   ]
  },
  {
   "cell_type": "markdown",
   "metadata": {},
   "source": [
    "### 2.2. Data Types in Python \n",
    "Variables can store values that belong to different data types. Common data types in Python are:\n",
    "\n",
    "- **Integers** (int) &emsp;&emsp;&emsp;&emsp;&emsp;&emsp;&emsp;&emsp;&emsp;&emsp;&emsp;--- > &emsp; e.g. 100\n",
    "- **Floating Point Numbers** (float) &emsp; --- > &emsp; e.g. -0.4\n",
    "- **Strings** (str)&emsp;&emsp;&emsp;&emsp;&emsp;&emsp;&emsp;&emsp;&emsp;&emsp;&emsp;&emsp;--- > &emsp; e.g. 'CO2' or \"Ecosystem\"\n",
    "- **Booleans** (bool) &emsp;&emsp;&emsp;&emsp;&emsp;&emsp;&emsp;&emsp;&emsp; --- > &emsp; e.g. True or False\n"
   ]
  },
  {
   "cell_type": "code",
   "execution_count": null,
   "metadata": {},
   "outputs": [],
   "source": [
    "#Create variables:\n",
    "int_var = 100           #integer\n",
    "float_var = -0.4        #float\n",
    "str_var = \"Storgatan 7\" #string\n",
    "bool_var = True         #boolean\n",
    "\n",
    "#Print the value stored in every variable:\n",
    "print(int_var)\n",
    "print(float_var)\n",
    "print(str_var)\n",
    "print(bool_var)"
   ]
  },
  {
   "cell_type": "markdown",
   "metadata": {},
   "source": [
    "<br>\n",
    "\n",
    "Python has a built-in function called <code style=\"color:#CD5C5C\">type()</code> that can be used to return the data type of a given variable."
   ]
  },
  {
   "cell_type": "code",
   "execution_count": null,
   "metadata": {},
   "outputs": [],
   "source": [
    "#Return the data type of the \"str_var\" variable:\n",
    "type(str_var)"
   ]
  },
  {
   "cell_type": "markdown",
   "metadata": {},
   "source": [
    "<br>\n",
    "<div style=\"text-align: right\"> \n",
    "    <a href=\"#toc\">Back to top</a>\n",
    "</div>"
   ]
  },
  {
   "cell_type": "markdown",
   "metadata": {},
   "source": [
    "<a id='py_conventions'></a>"
   ]
  },
  {
   "cell_type": "markdown",
   "metadata": {},
   "source": [
    "### 2.3. Python Conventions\n",
    "Here are some rules and suggestions to improve the readability of your Python code and make it more comprehensible.\n",
    "\n",
    "- Variable names consist strictly of letters, numbers and underscores.\n",
    "\n",
    "\n",
    "- A valid variable name cannot begin with a number.\n",
    "\n",
    "\n",
    "- Python has a number of reserved words that cannot be used as variable or function names. A list of reserved words in Python can be found [here](https://www.w3schools.com/python/python_ref_keywords.asp).\n",
    "\n",
    "\n",
    "- It is considered good practice to avoid using national characters (e.g. <code style=\"color:black\">ö</code>) in  variable or function names. \n",
    "\n",
    "\n",
    "- Try to give variables, functions and parameters short, describing and representative names. It should be easy to understand what a variable stands for or what kind of process a function is responsible for just by reading their corresponding name.\n",
    "\n",
    "\n",
    "- In cases were it is impossible to avoid giving a variable or a function a long name, try to use underscores <code style=\"color:black\">_</code> between the words.\n",
    "    - Other programming languages might use the camel case notation for this purpose. The camel case notation represents a way of writing together words without the use of underscores or hyphens. Instead, each word or abbreviation in the middle of the phrase will begin with an upper case character (e.g. rectangelAreaKm2).\n",
    "    \n",
    "    \n",
    "- Function and variable names should begin with a lower case character.\n",
    "\n",
    "\n",
    "- Names of classes should begin with an upper case character.\n",
    "\n",
    "\n",
    "- Use backspace characters and blank lines to improve the readility of your code.\n",
    "    - Use backspace characters before and after operators.\n",
    "    - Add blank lines after imports and between function definitions.  \n",
    "    \n",
    "    \n",
    "- We live in a world where interacting with people from different countries is a given. If you wish to share your code with other people, try to write it in a language that everyone will understand.\n",
    "\n",
    "\n",
    "- Always include a comment after a function definition. This will make it easier for people to understand what the function does.\n"
   ]
  },
  {
   "cell_type": "code",
   "execution_count": null,
   "metadata": {},
   "outputs": [],
   "source": [
    "#Example of invalid variable name:\n",
    "name$v = 1        #contains a character that is not a letter, a number or an underscore"
   ]
  },
  {
   "cell_type": "code",
   "execution_count": null,
   "metadata": {},
   "outputs": [],
   "source": [
    "#Example of invalid variable name:\n",
    "2varName = \"hej!\" #start with a number"
   ]
  },
  {
   "cell_type": "code",
   "execution_count": null,
   "metadata": {},
   "outputs": [],
   "source": [
    "#Example of invalid variable name:\n",
    "from = 7          #invalid use of reserved word \"from\""
   ]
  },
  {
   "cell_type": "code",
   "execution_count": null,
   "metadata": {},
   "outputs": [],
   "source": [
    "#Example of valid variable names:\n",
    "name_v = 1\n",
    "varName2 = \"hej!\"\n",
    "from_0_10 = 7\n"
   ]
  },
  {
   "cell_type": "code",
   "execution_count": null,
   "metadata": {},
   "outputs": [],
   "source": [
    "#Example of valid variable name that should be avoided:\n",
    "compute_circle_area_with_π = \"Includes national character...\"\n",
    "\n",
    "#Example of valid variable name that should be used instead:\n",
    "compute_circle_area_with_pi = \"Includes no national characters...\""
   ]
  },
  {
   "cell_type": "code",
   "execution_count": null,
   "metadata": {},
   "outputs": [],
   "source": [
    "#Create variables:\n",
    "b = 100\n",
    "h = 60\n",
    "\n",
    "#Example of long variable names:\n",
    "rectangleArea = b * h   # camel case notation\n",
    "rectangle_area = b * h  # underscores\n",
    "rect_area = b * h       # abbreviations with underscores"
   ]
  },
  {
   "cell_type": "markdown",
   "metadata": {},
   "source": [
    "<br>\n",
    "<div style=\"text-align: right\"> \n",
    "    <a href=\"#toc\">Back to top</a>\n",
    "</div>"
   ]
  },
  {
   "cell_type": "markdown",
   "metadata": {},
   "source": [
    "<a id='py_comments'></a>"
   ]
  },
  {
   "cell_type": "markdown",
   "metadata": {},
   "source": [
    "### 2.4. Comments in Python\n",
    "Commments are essential for making a piece of code easily understandable by others. Imagine a developer that  produced a piece of code for project A a couple of months ago but has since worked on another project. How easy will it be for this developer to update the code produced for project A if the code does not include any comments? Comments also help developers remember what a piece of code they produced a while ago does when they revisit it a long time later.\n",
    "\n",
    "Python includes single-line comments. To write a single-line comment in Python, simply put the hash mark **#** before your desired comment. Python will ignore everything between the hash mark and the end of the line. "
   ]
  },
  {
   "cell_type": "code",
   "execution_count": null,
   "metadata": {},
   "outputs": [],
   "source": [
    "#This is a single-line comment.\n",
    "\n",
    "print(\"This will run.\") #This will not run.\n",
    "\n"
   ]
  },
  {
   "cell_type": "markdown",
   "metadata": {},
   "source": [
    "<br>\n",
    "While Python does not have a native multiline commenting functionality, it is possible to create multiline comments. One way of doing so, is to add a new hash mark before your comment in every line."
   ]
  },
  {
   "cell_type": "code",
   "execution_count": null,
   "metadata": {},
   "outputs": [],
   "source": [
    "# This is an example of how\n",
    "# you can spread comments\n",
    "# over multiple lines in Python"
   ]
  },
  {
   "cell_type": "markdown",
   "metadata": {},
   "source": [
    "<br>\n",
    "Another way to create a multiline comment is to use multiline strings. Multiline strings can be produced by wrapping text inside a set of triple quotes. While this will provide the multiline functionality it is technically not a comment. It is a string that has not been assigned to any variable and will therefore not be called or referenced by your program at runtime.\n",
    "\n",
    "However, one should be careful when writing multiline comments. Depending on where they are placed in a program, multiline comments could turn into docstrings (i.e. Python documentation strings used to provide information for Python modules, classes and methods.). If a multiline comment is entered right after a function or class definition, then it will become a docstring associated with that object."
   ]
  },
  {
   "cell_type": "code",
   "execution_count": null,
   "metadata": {},
   "outputs": [],
   "source": [
    "\"\"\"\n",
    "    This is a \n",
    "    multi-line comment\n",
    "\n",
    "\"\"\"\n",
    "\n",
    "\n",
    "\n",
    "'''\n",
    "    Text within \"\"\" \"\"\"\n",
    "    or ''' '''\n",
    "    will not be executed!\n",
    "\n",
    "'''\n",
    "\n",
    "\n",
    "\n",
    "print('This line will be executed.')"
   ]
  },
  {
   "cell_type": "markdown",
   "metadata": {},
   "source": [
    "Use this [link](https://realpython.com/python-comments-guide/) to get more information about how to use comments."
   ]
  },
  {
   "cell_type": "markdown",
   "metadata": {},
   "source": [
    "<br>\n",
    "<div style=\"text-align: right\"> \n",
    "    <a href=\"#toc\">Back to top</a>\n",
    "</div>"
   ]
  },
  {
   "cell_type": "markdown",
   "metadata": {},
   "source": [
    "<a id='py_operators'></a>\n",
    "<br>"
   ]
  },
  {
   "cell_type": "markdown",
   "metadata": {},
   "source": [
    "## 3. Operators in Python\n",
    "An operator is a character (e.g. \"+\") that represents an action. For example ```+``` is an arithmetic operator that represents the addition of two numbers. There are different types of operators. The most commonly used types of Python operators are presented below. Typical examples of the use of every operator are also included.\n"
   ]
  },
  {
   "cell_type": "markdown",
   "metadata": {},
   "source": [
    "<a id='arithmetic_operators_py'></a>\n",
    "<br>"
   ]
  },
  {
   "cell_type": "markdown",
   "metadata": {},
   "source": [
    "### 3.1. Arithmetic Operators\n",
    "Arithmetic operators are typically used with numerical values or variables to perform mathematical computations such as, for example, addition, subtraction, multiplication, division and modulus.\n",
    "<br>\n",
    "<br>\n",
    "\n",
    "<img src=\"images/operators/arithmetic_operators_py.png\" width=\"670\" align=\"center\">\n",
    "<br>\n",
    "<br>"
   ]
  },
  {
   "cell_type": "markdown",
   "metadata": {},
   "source": [
    "<div style=\"text-align: right\"> \n",
    "    <a href=\"#toc\">Back to top</a>\n",
    "</div>"
   ]
  },
  {
   "cell_type": "markdown",
   "metadata": {},
   "source": [
    "<a id='assignement_operators_py'></a>\n",
    "<br>"
   ]
  },
  {
   "cell_type": "markdown",
   "metadata": {},
   "source": [
    "### 3.2.  Assignment Operators\n",
    "Assignment operators are used to assign values to variables.\n",
    "<br>\n",
    "<br>\n",
    "<img src=\"images/operators/assignment_operators_py.png\" width=\"420\" align=\"center\">\n",
    "<br>\n",
    "<br>"
   ]
  },
  {
   "cell_type": "markdown",
   "metadata": {},
   "source": [
    "<div style=\"text-align: right\"> \n",
    "    <a href=\"#toc\">Back to top</a>\n",
    "</div>"
   ]
  },
  {
   "cell_type": "markdown",
   "metadata": {},
   "source": [
    "<a id='comparison_operators_py'></a>\n",
    "<br>"
   ]
  },
  {
   "cell_type": "markdown",
   "metadata": {},
   "source": [
    "### 3.3. Comparison Operators\n",
    "Comparison operators are used to compare one or two sets of values. They return a value that is ```True``` or ```False``` depending on the result of the comparison.\n",
    "<br>\n",
    "<br>\n",
    "<img src=\"images/operators/comparison_operators_py.png\" width=\"790\" align=\"center\">\n",
    "<br>\n",
    "<br>"
   ]
  },
  {
   "cell_type": "markdown",
   "metadata": {},
   "source": [
    "<div style=\"text-align: right\"> \n",
    "    <a href=\"#toc\">Back to top</a>\n",
    "</div>"
   ]
  },
  {
   "cell_type": "markdown",
   "metadata": {},
   "source": [
    "<a id='logical_operators_py'></a>\n",
    "<br>"
   ]
  },
  {
   "cell_type": "markdown",
   "metadata": {},
   "source": [
    "### 3.4. Logical Operators\n",
    "Logical operators are typically used to combine statements that include comparison operators. The only exception to that, is the Logical Operator ```not```, which operates over a single statement. Logical operators return a value that is ```True``` or ```False``` depending on the result of the statements including the comparison operators.\n",
    "<br>\n",
    "<br>\n",
    "<img src=\"images/operators/logical_operators_py.png\" width=\"650\" align=\"center\">\n",
    "<br>\n",
    "<br>"
   ]
  },
  {
   "cell_type": "markdown",
   "metadata": {},
   "source": [
    "<div style=\"text-align: right\"> \n",
    "    <a href=\"#toc\">Back to top</a>\n",
    "</div>"
   ]
  },
  {
   "cell_type": "markdown",
   "metadata": {},
   "source": [
    "<a id='identity_operators_py'></a>\n",
    "<br>"
   ]
  },
  {
   "cell_type": "markdown",
   "metadata": {},
   "source": [
    "### 3.5. Identity Operators\n",
    "Identity operators are used to compare objects. Identity operators do not control if two objects contain the same set of values. Instead, they control if two variables refer to the same object. More in specific, they control if two variables contain references to the same memmory address.\n",
    "<br>\n",
    "<br>\n",
    "<img src=\"images/operators/identity_operators_py.png\" width=\"760\" align=\"center\">\n",
    "<br>\n",
    "<br>"
   ]
  },
  {
   "cell_type": "markdown",
   "metadata": {},
   "source": [
    "<div style=\"text-align: right\"> \n",
    "    <a href=\"#toc\">Back to top</a>\n",
    "</div>"
   ]
  },
  {
   "cell_type": "markdown",
   "metadata": {},
   "source": [
    "<a id='membership_operators_py'></a>\n",
    "<br>"
   ]
  },
  {
   "cell_type": "markdown",
   "metadata": {},
   "source": [
    "### 3.6. Membership Operators\n",
    "Membership Operators are used to control if a value is included in a sequence (strings, lists, or tuples).\n",
    "\n",
    "<br>\n",
    "<br>\n",
    "<img src=\"images/operators/membership_operators_py.png\" width=\"810\" align=\"center\">\n",
    "<br>\n",
    "<br>"
   ]
  },
  {
   "cell_type": "markdown",
   "metadata": {},
   "source": [
    "<div style=\"text-align: right\"> \n",
    "    <a href=\"#toc\">Back to top</a>\n",
    "</div>"
   ]
  },
  {
   "cell_type": "markdown",
   "metadata": {},
   "source": [
    "<a id='bitwise_operators_py'></a>\n",
    "<br>"
   ]
  },
  {
   "cell_type": "markdown",
   "metadata": {},
   "source": [
    "### 3.7. Bitwise Operators\n",
    "Bitwise operators perform a bitwise operation over one or several binary values at the bit-level. In the examples below, the first bit to the right is considered as the least significant bit whilst the first bit to the left is considered the most significant bit.\n",
    "<br>\n",
    "<br>\n",
    "<img src=\"images/operators/bitwise_operator_py.png\" width=\"900\" align=\"center\">\n",
    "<br>\n",
    "<br>"
   ]
  },
  {
   "cell_type": "markdown",
   "metadata": {},
   "source": [
    "<br>\n",
    "<br>\n",
    "<div style=\"text-align: right\"> \n",
    "    <a href=\"#toc\">Back to top</a>\n",
    "</div>"
   ]
  },
  {
   "cell_type": "markdown",
   "metadata": {},
   "source": [
    "<a id='data_structures_py'></a>\n",
    "<br>"
   ]
  },
  {
   "cell_type": "markdown",
   "metadata": {},
   "source": [
    "## 4. Data Structures in Python\n",
    "Data structures are objects that may include a number of other objects. Some typical examples of Python's data structures are:\n",
    "sets, lists, tuples and dictionaries. \n",
    "\n",
    "Python has also other structures such as NumPy arrays, Pandas DataFrames and objects. This part focues on the following data structures:\n",
    "-  [Lists](#list_py)\n",
    "-  [Sets](#set_py)\n",
    "-  [Tuples](#tuple_py)\n",
    "-  [Dictionaries](#dictionary_py)\n",
    "<br>\n",
    "<br>"
   ]
  },
  {
   "cell_type": "markdown",
   "metadata": {},
   "source": [
    "<a id='list_py'></a>\n",
    "<br>"
   ]
  },
  {
   "cell_type": "markdown",
   "metadata": {},
   "source": [
    "### 4.1. Lists\n",
    "A list is a collection of items that usually belong to the same data type. Lists are ordered and may include duplicates. In Python lists are written with square brackets <code style=\"color:#CD5C5C\">[]</code>.\n",
    "<br>\n",
    "<br>\n",
    "\n",
    "<img src=\"images/lists/list_py_eng.png\" width=\"350\" align=\"center\">\n",
    "<br>\n",
    "<br>\n",
    "\n",
    "It is possible to create a list by enclosing a number of comma-separated values within square brackets. Another way of creating a list is by using the constructor <code style=\"color:#CD5C5C\">list()</code>. In Python, constructors are used to create an object from a class. Classes and objects are described in more detail in the chapter [**Classes and Objects in Python**](#py_objects).\n",
    "\n",
    "This part focuses on the following list-related topics:\n",
    "\n",
    "-  [Access list items](#access_list_items_py)\n",
    "-  [Change the value of a list item](#change_list_items_py)\n",
    "-  [Return the total number of items in a list](#list_length_py)\n",
    "-  [Add/remove items from a list](#update_list_py)\n",
    "-  [Copy list](#copy_list_py)\n",
    "-  [Sort List](#order_list_py)\n",
    "<br>\n",
    "<br>"
   ]
  },
  {
   "cell_type": "markdown",
   "metadata": {},
   "source": [
    "<div style=\"text-align: right\"> \n",
    "    <a href=\"#data_structures_py\">[Data structures]</a>\n",
    "</div>"
   ]
  },
  {
   "cell_type": "code",
   "execution_count": null,
   "metadata": {},
   "outputs": [],
   "source": [
    "#Create a list:\n",
    "tracers = [\"co2\", \"co\", \"ch4\"]\n",
    "\n",
    "#Print all list items:\n",
    "print(tracers)"
   ]
  },
  {
   "cell_type": "code",
   "execution_count": null,
   "metadata": {},
   "outputs": [],
   "source": [
    "#Create a list using the list constructor:\n",
    "gases = list((\"o2\", \"co2\", \"n2o\"))\n",
    "\n",
    "#Print all the list items:\n",
    "print(gases)"
   ]
  },
  {
   "cell_type": "markdown",
   "metadata": {},
   "source": [
    "<a id='access_list_items_py'></a>\n",
    "<br>"
   ]
  },
  {
   "cell_type": "markdown",
   "metadata": {},
   "source": [
    "#### 4.1.1. Access list items\n",
    "Lists are ordered and indexed. This means that every list item has a different index number. Indeces in Python start at **0** and continue incrementally. Consequently, the first list item has an index number that is equal to 0.\n",
    "\n",
    "It is possible to access a specific list item using its corresponding index number."
   ]
  },
  {
   "cell_type": "code",
   "execution_count": null,
   "metadata": {},
   "outputs": [],
   "source": [
    "#Print the 1st list item:\n",
    "print(tracers[0])"
   ]
  },
  {
   "cell_type": "code",
   "execution_count": null,
   "metadata": {},
   "outputs": [],
   "source": [
    "#Print the 3rd list item:\n",
    "print(tracers[2])"
   ]
  },
  {
   "cell_type": "markdown",
   "metadata": {},
   "source": [
    "<br>\n",
    "\n",
    "Use the keyword <code style=\"color:#CD5C5C\">in</code> to check if a value is included in a list."
   ]
  },
  {
   "cell_type": "code",
   "execution_count": null,
   "metadata": {},
   "outputs": [],
   "source": [
    "#Check if \"co2\" is included in \"tracers\":\n",
    "print(\"co2\" in tracers)"
   ]
  },
  {
   "cell_type": "code",
   "execution_count": null,
   "metadata": {},
   "outputs": [],
   "source": [
    "#Check if \"so2\" is included in \"tracers\":\n",
    "print(\"so2\" in tracers)"
   ]
  },
  {
   "cell_type": "markdown",
   "metadata": {},
   "source": [
    "<div style=\"text-align: right\"> \n",
    "    <a href=\"#list_py\">[Lists intro]</a>\n",
    "</div>"
   ]
  },
  {
   "cell_type": "markdown",
   "metadata": {},
   "source": [
    "<a id='change_list_items_py'></a>\n",
    "<br>"
   ]
  },
  {
   "cell_type": "markdown",
   "metadata": {},
   "source": [
    "#### 4.1.2. Change the value of a list item\n",
    "To change the value of an existent list item, use its corresponding index number.  \n",
    "<br>\n",
    "<br>\n",
    "_Syntax:_\n",
    "\n",
    "<br>\n",
    "<br>\n",
    "\n",
    "<img src=\"images/lists/change_value_list_py.png\" width=\"200\" align=\"center\">\n",
    "<br>\n",
    "<br>\n"
   ]
  },
  {
   "cell_type": "code",
   "execution_count": null,
   "metadata": {},
   "outputs": [],
   "source": [
    "#Change the value of the list's 2nd item from \"co\" to \"n2o2\":\n",
    "tracers[1] = \"n2o\"\n",
    "\n",
    "#Print list:\n",
    "print(tracers)"
   ]
  },
  {
   "cell_type": "markdown",
   "metadata": {},
   "source": [
    "<div style=\"text-align: right\"> \n",
    "    <a href=\"#list_py\">[Lists intro]</a>\n",
    "</div>"
   ]
  },
  {
   "cell_type": "markdown",
   "metadata": {},
   "source": [
    "<a id='list_length_py'></a>\n",
    "<br>"
   ]
  },
  {
   "cell_type": "markdown",
   "metadata": {},
   "source": [
    "#### 4.1.3. Return the total number of items in a list\n",
    "The method <code style=\"color:#CD5C5C\">len()</code> returns an integer representing the total number of items in a list (_len_ is short for _length_ - refering to the length of a list).\n",
    "<br>\n",
    "<br>\n",
    "_Syntax:_\n",
    "<br>\n",
    "<br>\n",
    "\n",
    "<img src=\"images/lists/len_list_py.png\" width=\"170\" align=\"center\">\n",
    "<br>\n",
    "<br>\n"
   ]
  },
  {
   "cell_type": "code",
   "execution_count": null,
   "metadata": {},
   "outputs": [],
   "source": [
    "#Print the total number of items in a list:\n",
    "print(len(tracers))"
   ]
  },
  {
   "cell_type": "markdown",
   "metadata": {},
   "source": [
    "<div style=\"text-align: right\"> \n",
    "    <a href=\"#list_py\">[Lists intro]</a>\n",
    "</div>"
   ]
  },
  {
   "cell_type": "markdown",
   "metadata": {},
   "source": [
    "<a id='update_list_py'></a>\n",
    "<br>"
   ]
  },
  {
   "cell_type": "markdown",
   "metadata": {},
   "source": [
    "#### 4.1.4.   Add/remove items from a list\n",
    "Python includes a number of keywords and built-in methods to process lists. Here's a description of the most common of them:\n",
    "\n",
    "- <code style=\"color:#CD5C5C\">append()</code> is used to add an item to the end of an existent list.\n",
    "\n",
    "- <code style=\"color:#CD5C5C\">insert()</code> adds a new item to a list at a given position (index-number). \n",
    "\n",
    "- <code style=\"color:#CD5C5C\">remove()</code> deletes an item from a list.\n",
    "\n",
    "- <code style=\"color:#CD5C5C\">pop()</code> removes an item from a list and returns its value. The method removes an item based on a given index-number. If no index number is specified, the method will by default remove the list's last item.\n",
    "\n",
    "- The keyword <code style=\"color:#CD5C5C\">del</code> deletes items from a list based on their index-number. It is possible to delete one or more items at the same time. <code style=\"color:#CD5C5C\">del</code> can also be used to delete an entire list.\n",
    "\n",
    "- <code style=\"color:#CD5C5C\">clear()</code> deletes all items in a list and returns an empty list."
   ]
  },
  {
   "cell_type": "code",
   "execution_count": null,
   "metadata": {},
   "outputs": [],
   "source": [
    "#Add an item at the end of a list:\n",
    "tracers.append('co')\n",
    "\n",
    "#Print list:\n",
    "print(tracers)"
   ]
  },
  {
   "cell_type": "code",
   "execution_count": null,
   "metadata": {},
   "outputs": [],
   "source": [
    "#Add an item to list at a specific position (index-number = 2):\n",
    "tracers.insert(2, 'Pb')\n",
    "\n",
    "#Print list:\n",
    "print(tracers)"
   ]
  },
  {
   "cell_type": "code",
   "execution_count": null,
   "metadata": {},
   "outputs": [],
   "source": [
    "#Remove item from list:\n",
    "tracers.remove('Pb')\n",
    "\n",
    "#Print list:\n",
    "print(tracers)"
   ]
  },
  {
   "cell_type": "code",
   "execution_count": null,
   "metadata": {},
   "outputs": [],
   "source": [
    "#Remove item from list based on its index-number:\n",
    "#(if no index number is specified, the method will remove the list's last item)\n",
    "last_item = tracers.pop()\n",
    "\n",
    "#Print removed item:\n",
    "print(last_item)\n",
    "\n",
    "#Print list:\n",
    "print(tracers)"
   ]
  },
  {
   "cell_type": "code",
   "execution_count": null,
   "metadata": {},
   "outputs": [],
   "source": [
    "#Remove item from list based on its index-number:\n",
    "removed_item = tracers.pop(2)\n",
    "\n",
    "#Print removed item:\n",
    "print(removed_item)\n",
    "\n",
    "#Print list:\n",
    "print(tracers)"
   ]
  },
  {
   "cell_type": "code",
   "execution_count": null,
   "metadata": {},
   "outputs": [],
   "source": [
    "#Delete item from list based on its index-number:\n",
    "del tracers[1]\n",
    "\n",
    "#Print list:\n",
    "print(tracers)"
   ]
  },
  {
   "cell_type": "code",
   "execution_count": null,
   "metadata": {},
   "outputs": [],
   "source": [
    "#Delete list:\n",
    "del tracers\n",
    "\n",
    "#Print list:\n",
    "print(tracers)\n",
    "\n",
    "#An error-message will appear, stating that the variable \"tracers\" no longer exists."
   ]
  },
  {
   "cell_type": "code",
   "execution_count": null,
   "metadata": {},
   "outputs": [],
   "source": [
    "#Create a list:\n",
    "tracers = [\"co2\", \"co\", \"ch4\", \"n2o\"]\n",
    "\n",
    "#Delete items with index nuber 1 and 2:\n",
    "del tracers[1:3]\n",
    "\n",
    "#Print list:\n",
    "print(tracers)"
   ]
  },
  {
   "cell_type": "code",
   "execution_count": null,
   "metadata": {},
   "outputs": [],
   "source": [
    "#Create a list:\n",
    "tracers = [\"co2\", \"co\", \"ch4\", \"n2o\"]\n",
    "\n",
    "#Print list:\n",
    "print(tracers)\n",
    "\n",
    "#Delete al items:\n",
    "tracers.clear()\n",
    "\n",
    "#Print list:\n",
    "print(tracers)"
   ]
  },
  {
   "cell_type": "markdown",
   "metadata": {},
   "source": [
    "<div style=\"text-align: right\"> \n",
    "    <a href=\"#list_py\">[Lists intro]</a>\n",
    "</div>"
   ]
  },
  {
   "cell_type": "markdown",
   "metadata": {},
   "source": [
    "<a id='copy_list_py'></a>\n",
    "<br>"
   ]
  },
  {
   "cell_type": "markdown",
   "metadata": {},
   "source": [
    "#### 4.1.5. Copy list\n",
    "It is not possible to create a copy of a list by typing <code style=\"color:#CD5C5C\">new_list = old_list</code>. This is because there is a _reference_ between new_list and old_list. A reference is a mechanism that allows two or more different variables to point to the same memory location. As a result, changes in __old_list__ will be visible in __new_list__.\n",
    "\n",
    "Python includes two built-in methods to copy a list:\n",
    "\n",
    "-  <code style=\"color:#CD5C5C\">copy()</code> creates a copy of a list.\n",
    "\n",
    "-  <code style=\"color:#CD5C5C\">list()</code> may also be used to create a copy of a list."
   ]
  },
  {
   "cell_type": "code",
   "execution_count": null,
   "metadata": {},
   "outputs": [],
   "source": [
    "#Create a list:\n",
    "tracers = [\"co2\", \"co\", \"ch4\", \"n2o\"]\n",
    "\n",
    "#Bad example:\n",
    "tracers2 = tracers\n",
    "\n",
    "#Remove last item from \"tracers2\":\n",
    "tracers2.pop()\n",
    "\n",
    "#Print list:\n",
    "print(tracers)\n",
    "\n",
    "#Print copy:\n",
    "print(tracers2)"
   ]
  },
  {
   "cell_type": "code",
   "execution_count": null,
   "metadata": {},
   "outputs": [],
   "source": [
    "#Create a list:\n",
    "tracers = [\"co2\", \"co\", \"ch4\", \"n2o\"]\n",
    "\n",
    "#Create a copy of the list using copy():\n",
    "tracers_copy = tracers.copy()\n",
    "\n",
    "#Print copy:\n",
    "tracers_copy"
   ]
  },
  {
   "cell_type": "code",
   "execution_count": null,
   "metadata": {},
   "outputs": [],
   "source": [
    "#Delete last item from \"tracers_copy\":\n",
    "tracers_copy.pop()\n",
    "\n",
    "#Print list:\n",
    "print(tracers)\n",
    "\n",
    "#Print copy:\n",
    "print(tracers_copy)"
   ]
  },
  {
   "cell_type": "code",
   "execution_count": null,
   "metadata": {},
   "outputs": [],
   "source": [
    "#Create a copy of the list using list():\n",
    "tracers_copy2 = list(tracers)\n",
    "\n",
    "#Print copy:\n",
    "tracers_copy2"
   ]
  },
  {
   "cell_type": "code",
   "execution_count": null,
   "metadata": {},
   "outputs": [],
   "source": [
    "#Delete last item from \"tracers_copy2\":\n",
    "tracers_copy2.pop()\n",
    "\n",
    "#Print list:\n",
    "print(tracers)\n",
    "\n",
    "#Print copy:\n",
    "print(tracers_copy2)"
   ]
  },
  {
   "cell_type": "markdown",
   "metadata": {},
   "source": [
    "<div style=\"text-align: right\"> \n",
    "    <a href=\"#list_py\">[Lists intro]</a>\n",
    "</div>"
   ]
  },
  {
   "cell_type": "markdown",
   "metadata": {},
   "source": [
    "<a id='order_list_py'></a>\n",
    "<br>"
   ]
  },
  {
   "cell_type": "markdown",
   "metadata": {},
   "source": [
    "#### 4.1.6. Sort list\n",
    "Python has two built-in methods for sorting lists:\n",
    "\n",
    "-  <code style=\"color:#CD5C5C\">reverse()</code> presents the items of a list in reversed order.\n",
    "\n",
    "-  <code style=\"color:#CD5C5C\">sort()</code> sorts the items of a list in ascending or descending order. It is also possible to call a function for specifying the criteria of the sorting order.\n",
    "\n",
    "<br>\n",
    "<br>\n",
    "\n",
    "<img src=\"images/lists/sorting_lists_py.png\" width=\"320\" align=\"center\">\n",
    "<br>\n",
    "<br>\n"
   ]
  },
  {
   "cell_type": "code",
   "execution_count": null,
   "metadata": {},
   "outputs": [],
   "source": [
    "#Create list:\n",
    "tracers = [\"co2\", \"co\", \"ch4\", \"n2o\"]\n",
    "\n",
    "#Present the list items in a reversed order:\n",
    "tracers.reverse()\n",
    "\n",
    "#Print sorted list:\n",
    "tracers"
   ]
  },
  {
   "cell_type": "code",
   "execution_count": null,
   "metadata": {},
   "outputs": [],
   "source": [
    "#Create list:\n",
    "tracers = [\"co2\", \"co\", \"ch4\", \"n2o\"]\n",
    "\n",
    "#Sort the list items in descending order using sort():\n",
    "tracers.sort(reverse=False)\n",
    "\n",
    "#Print sorted list:\n",
    "tracers"
   ]
  },
  {
   "cell_type": "code",
   "execution_count": null,
   "metadata": {},
   "outputs": [],
   "source": [
    "#Create list:\n",
    "tracers = [\"co2\", \"co\", \"ch4\", \"n2o\"]\n",
    "\n",
    "#Sort the list items in ascending order using sort():\n",
    "tracers.sort(reverse=True)\n",
    "\n",
    "#Print sorted list:\n",
    "tracers"
   ]
  },
  {
   "cell_type": "code",
   "execution_count": null,
   "metadata": {},
   "outputs": [],
   "source": [
    "#Sort the items of a list using a function.\n",
    "\n",
    "#Create list:\n",
    "tracers = [\"co2\", \"co\", \"ch4\", \"n2o\"]\n",
    "\n",
    "#Define sorting-function:\n",
    "def sortFunc(str):\n",
    "    \n",
    "    #Return the number of charcters in a string:\n",
    "    return len(str)\n",
    "\n",
    "#Sort list according to the number of characters of every item:\n",
    "#Items with the largest number of characters are put in the beginning of the list:\n",
    "tracers.sort(reverse=True, key=sortFunc)\n",
    "\n",
    "#Print sorted list:\n",
    "tracers"
   ]
  },
  {
   "cell_type": "markdown",
   "metadata": {},
   "source": [
    "<div style=\"text-align: right\"> \n",
    "    <a href=\"#list_py\">[Lists intro]</a>\n",
    "</div>\n",
    "<br>\n",
    "<div style=\"text-align: right\"> \n",
    "    <a href=\"#toc\">Back to top</a>\n",
    "</div>"
   ]
  },
  {
   "cell_type": "markdown",
   "metadata": {},
   "source": [
    "<a id='set_py'></a>\n",
    "<br>"
   ]
  },
  {
   "cell_type": "markdown",
   "metadata": {},
   "source": [
    "### 4.2. Sets\n",
    "In Python, a set is a random collection of unique values. A set does not include duplicates (i.e. repetions of the same item) and its items are not ordered. A set is not indexed. Sets are used when focusing on checking if an item is inlcuded in a collection rather than checking the order items are stored in or how many copies of the same item can be found.\n",
    "\n",
    "<br>\n",
    "\n",
    "Sets are written with curly brackets <code style=\"color:#CD5C5C\">{}</code>. Sets can also be created with the help of the constructor: <code style=\"color:#CD5C5C\">set()</code>.\n",
    "\n",
    "<br>\n",
    "<br>\n",
    "\n",
    "<img src=\"images/sets/set_py.png\" width=\"340\" align=\"center\">\n",
    "<br>\n",
    "<br>\n",
    "\n",
    "The chapter focuses on the following set-related topics:\n",
    "-  [Create set](#create_set_py)\n",
    "-  [Access item in a set](#access_set_items)\n",
    "-  [Add, remove and update items in a set](#update_set_items)\n",
    "-  [Return the total number of items in a set](#get_set_length)\n",
    "<br>\n",
    "<br>"
   ]
  },
  {
   "cell_type": "markdown",
   "metadata": {},
   "source": [
    "<a id='create_set_py'></a>\n",
    "<br>"
   ]
  },
  {
   "cell_type": "markdown",
   "metadata": {},
   "source": [
    "#### 4.2.1. Create a set in Python"
   ]
  },
  {
   "cell_type": "code",
   "execution_count": null,
   "metadata": {},
   "outputs": [],
   "source": [
    "#Create set:\n",
    "set_1 = {\"co2\", \"co\", \"ch4\"}\n",
    "\n",
    "#Print all items stored in the set:\n",
    "print(set_1)\n",
    "\n",
    "#Observe that the order the items are printed\n",
    "#is not necessarily the same as the order they had \n",
    "#when the set was created.\n",
    "\n"
   ]
  },
  {
   "cell_type": "code",
   "execution_count": null,
   "metadata": {},
   "outputs": [],
   "source": [
    "#Create a set using the constructor set():\n",
    "set_2 = set([\"n2o\", \"so2\", \"Pb\"])\n",
    "\n",
    "#Print all items:\n",
    "print(set_2)"
   ]
  },
  {
   "cell_type": "markdown",
   "metadata": {},
   "source": [
    "<a id='access_set_items'></a>\n",
    "<br>"
   ]
  },
  {
   "cell_type": "markdown",
   "metadata": {},
   "source": [
    "#### 4.2.2. Access item in a set\n",
    "Sets have no index. Therefore, it is not possible to use an item's index-number to access it. Items can be accessed with the help of a <code style=\"color:#CD5C5C\">for</code>-loop.\n",
    "\n",
    "The keyword <code style=\"color:#CD5C5C\">in</code> is used to control if a value is included in a set."
   ]
  },
  {
   "cell_type": "code",
   "execution_count": null,
   "metadata": {},
   "outputs": [],
   "source": [
    "#Loop through all the items of a set, one by one, and print them:\n",
    "for set_element in set_1:\n",
    "    print(set_element)"
   ]
  },
  {
   "cell_type": "code",
   "execution_count": null,
   "metadata": {},
   "outputs": [],
   "source": [
    "#Check if a the value \"co2\" is included in the set:\n",
    "print(\"co2\" in set_1)"
   ]
  },
  {
   "cell_type": "code",
   "execution_count": null,
   "metadata": {},
   "outputs": [],
   "source": [
    "#Check if a the value \"Pb\" is included in the set:\n",
    "print(\"Pb\" in set_1)"
   ]
  },
  {
   "cell_type": "markdown",
   "metadata": {},
   "source": [
    "<a id='update_set_items'></a>\n",
    "<br>"
   ]
  },
  {
   "cell_type": "markdown",
   "metadata": {},
   "source": [
    "#### 4.2.3. Add, remove and update items in a set\n",
    "Python includes a number of built-in methods for sets. The following methods are used to add, delete and update the content of a set.\n",
    "\n",
    "- <code style=\"color:#CD5C5C\">add()</code> is used to add __one__ item to a set. \n",
    "\n",
    "- <code style=\"color:#CD5C5C\">update()</code> adds __more than one__ item to a set.\n",
    "\n",
    "- <code style=\"color:#CD5C5C\">remove()</code> deletes an item from a set. An error-message will be generated if the specified value is not included in the set.\n",
    "\n",
    "- <code style=\"color:#CD5C5C\">discard()</code> can also be used to delete an item from a set. __No__ erorr-message will be generated if the specified value is not included in the set.\n",
    "\n",
    "- <code style=\"color:#CD5C5C\">pop()</code> deletes the last item of a set. Observe that as a set is not indexed, there is no way of knowing which item will be deleted. _pop()_ returns the value of the deleted item. \n",
    "\n",
    "- <code style=\"color:#CD5C5C\">clear()</code> deletes all items from a set.\n",
    "\n",
    "- The keyword <code style=\"color:#CD5C5C\">del</code> is used to delete an entire set."
   ]
  },
  {
   "cell_type": "code",
   "execution_count": null,
   "metadata": {},
   "outputs": [],
   "source": [
    "#Add item to set:\n",
    "set_1.add(\"so2\")\n",
    "\n",
    "#Print all items in the set:\n",
    "print(set_1)"
   ]
  },
  {
   "cell_type": "code",
   "execution_count": null,
   "metadata": {},
   "outputs": [],
   "source": [
    "#Add multiple items to set:\n",
    "set_1.update([\"Pb\", \"n2o\"])\n",
    "\n",
    "#Print all items in the set:\n",
    "print(set_1)"
   ]
  },
  {
   "cell_type": "code",
   "execution_count": null,
   "metadata": {},
   "outputs": [],
   "source": [
    "#Remove item from set:\n",
    "set_1.remove(\"Pb\")\n",
    "\n",
    "#Print set:\n",
    "print(set_1)"
   ]
  },
  {
   "cell_type": "code",
   "execution_count": null,
   "metadata": {},
   "outputs": [],
   "source": [
    "#Remove item from set:\n",
    "set_1.remove(\"h2o\")\n",
    "\n",
    "#The set does not include any items with the value \"h20\".\n",
    "#This will generate an error-message."
   ]
  },
  {
   "cell_type": "code",
   "execution_count": null,
   "metadata": {},
   "outputs": [],
   "source": [
    "#Remove item from set:\n",
    "set_1.discard(\"co\")\n",
    "\n",
    "#Print set:\n",
    "print(set_1)"
   ]
  },
  {
   "cell_type": "code",
   "execution_count": null,
   "metadata": {},
   "outputs": [],
   "source": [
    "#Remove item from set:\n",
    "set_1.discard(\"o3\")\n",
    "\n",
    "#The set does not include any items with the value \"o3\".\n",
    "#This will not generate an error-message as we used the discard() built-in method."
   ]
  },
  {
   "cell_type": "code",
   "execution_count": null,
   "metadata": {},
   "outputs": [],
   "source": [
    "#Remove the last item of a set:\n",
    "removed_item = set_1.pop()\n",
    "\n",
    "#Print removed item:\n",
    "print(removed_item)"
   ]
  },
  {
   "cell_type": "code",
   "execution_count": null,
   "metadata": {},
   "outputs": [],
   "source": [
    "#Delete all items of a set:\n",
    "set_1.clear()\n",
    "\n",
    "#Print set:\n",
    "print(set_1)"
   ]
  },
  {
   "cell_type": "code",
   "execution_count": null,
   "metadata": {},
   "outputs": [],
   "source": [
    "#Delete set:\n",
    "del set_1\n",
    "\n",
    "#Print set:\n",
    "print(set_1)\n",
    "\n",
    "#An error-message will be generated when print() is called\n",
    "#because set_1 has been deleted."
   ]
  },
  {
   "cell_type": "markdown",
   "metadata": {},
   "source": [
    "<a id='get_set_length'></a>\n",
    "<br>"
   ]
  },
  {
   "cell_type": "markdown",
   "metadata": {},
   "source": [
    "#### 4.2.4. Return the total number of items in a set\n",
    "The built-in method <code style=\"color:#CD5C5C\">len()</code> returns the total number of items included in a set."
   ]
  },
  {
   "cell_type": "code",
   "execution_count": null,
   "metadata": {},
   "outputs": [],
   "source": [
    "#Create set:\n",
    "set_2 = set([\"n2o\", \"so2\", \"Pb\"])\n",
    "\n",
    "#Return the total number of values included in \"set_2\":\n",
    "len(set_2)"
   ]
  },
  {
   "cell_type": "markdown",
   "metadata": {},
   "source": [
    "<div style=\"text-align: right\"> \n",
    "    <a href=\"#data_structures_py\">[Data structures]</a>\n",
    "</div>\n",
    "<br>\n",
    "<div style=\"text-align: right\"> \n",
    "    <a href=\"#toc\">Back to top</a>\n",
    "</div>"
   ]
  },
  {
   "cell_type": "markdown",
   "metadata": {},
   "source": [
    "<a id='tuple_py'></a>\n",
    "<br>"
   ]
  },
  {
   "cell_type": "markdown",
   "metadata": {},
   "source": [
    "### 4.3. Tuples \n",
    "Tuples are collections of ordered items that are immutable (i.e. can not be changed). Tuples are used to group values that are somehow related. The items of a tuple may belong to different data types. In Python, tuples are presented as comma-separated values within round brackets.\n",
    "\n",
    "\n",
    "<br>\n",
    "<br>\n",
    "\n",
    "<img src=\"images/tuples/tuple_py.png\" width=\"310\" align=\"center\">\n",
    "<br>\n",
    "<br>\n",
    "\n",
    "\n",
    "The chapter focuses on the following tuple-related topics:\n",
    "-  [Create tuple](#create_tuple_py)\n",
    "-  [Access item in tuple](#access_tuple_items)\n",
    "-  [Extract value(s) from tuple](#unpack_tuple)\n",
    "-  [Return the total number of items stored in a tuple](#tuple_len)\n",
    "-  [Built-in methods for tuples](#tuple_methods)\n",
    "-  [Examples of tuple implementations](#tuple_implementations)\n"
   ]
  },
  {
   "cell_type": "markdown",
   "metadata": {},
   "source": [
    "<div style=\"text-align: right\"> \n",
    "    <a href=\"#data_structures_py\">[Data structures]</a>\n",
    "</div>"
   ]
  },
  {
   "cell_type": "markdown",
   "metadata": {},
   "source": [
    "<a id='create_tuple_py'></a>\n",
    "<br>"
   ]
  },
  {
   "cell_type": "markdown",
   "metadata": {},
   "source": [
    "#### 4.3.1. Create Tuple\n",
    "It is possible to create a tuple by:\n",
    "- enclosing comma-separatd values within round brackets. \n",
    "- using the constructor <code style=\"color:#CD5C5C\">tuple()</code>. "
   ]
  },
  {
   "cell_type": "code",
   "execution_count": null,
   "metadata": {},
   "outputs": [],
   "source": [
    "#Create tuple:\n",
    "gas = (\"ch4\", \"co\", \"co2\", \"n2o\")\n",
    "\n",
    "#Print tuple:\n",
    "print(gas)"
   ]
  },
  {
   "cell_type": "code",
   "execution_count": null,
   "metadata": {},
   "outputs": [],
   "source": [
    "#Create tuple using the constructor tuple():\n",
    "htm_station = tuple((\"Hyltemossa\", 150, \"Sweden\")) # station name, sampling height & country\n",
    "\n",
    "#Skriv ut tupel:\n",
    "print(htm_station)\n"
   ]
  },
  {
   "cell_type": "markdown",
   "metadata": {},
   "source": [
    "<div style=\"text-align: right\"> \n",
    "    <a href=\"#tuple_py\">[Tuples intro]</a>\n",
    "</div>"
   ]
  },
  {
   "cell_type": "markdown",
   "metadata": {},
   "source": [
    "<a id='access_tuple_items'></a>\n",
    "<br>"
   ]
  },
  {
   "cell_type": "markdown",
   "metadata": {},
   "source": [
    "#### 4.3.2. Access item in tuple\n",
    "It is possible to access an item in a tuple by using its corresponding index-number.<br>\n",
    "The keyword <code style=\"color:#CD5C5C\">in</code> can be used to control if a value is included in a tuple."
   ]
  },
  {
   "cell_type": "code",
   "execution_count": null,
   "metadata": {},
   "outputs": [],
   "source": [
    "#Print item with index-number 3:\n",
    "print(gas[3])"
   ]
  },
  {
   "cell_type": "code",
   "execution_count": null,
   "metadata": {},
   "outputs": [],
   "source": [
    "#Check if the value \"Pb\" is included in \"gas\":\n",
    "print(\"Pb\" in gas)"
   ]
  },
  {
   "cell_type": "markdown",
   "metadata": {},
   "source": [
    "<div style=\"text-align: right\"> \n",
    "    <a href=\"#tuple_py\">[Tuples intro]</a>\n",
    "</div>"
   ]
  },
  {
   "cell_type": "markdown",
   "metadata": {},
   "source": [
    "<a id='unpack_tuple'></a>\n",
    "<br>"
   ]
  },
  {
   "cell_type": "markdown",
   "metadata": {},
   "source": [
    "#### 4.3.3. Extract values from tuple"
   ]
  },
  {
   "cell_type": "code",
   "execution_count": null,
   "metadata": {},
   "outputs": [],
   "source": [
    "#Create tuple with the x- and y-coordinates of a point:\n",
    "point = (17, 18)\n",
    "\n",
    "#Unpack tuple:\n",
    "x_coordinate, y_coordinate = point\n",
    "\n",
    "#Print tuple unpacked items:\n",
    "print('x-coordinate: ', x_coordinate)\n",
    "print('y-coordinate: ', y_coordinate)"
   ]
  },
  {
   "cell_type": "markdown",
   "metadata": {},
   "source": [
    "<div style=\"text-align: right\"> \n",
    "    <a href=\"#tuple_py\">[Tuples intro]</a>\n",
    "</div>"
   ]
  },
  {
   "cell_type": "markdown",
   "metadata": {},
   "source": [
    "<a id='tuple_len'></a>\n",
    "<br>"
   ]
  },
  {
   "cell_type": "markdown",
   "metadata": {},
   "source": [
    "#### 4.3.4. Return the total number of items stored in a tuple\n",
    "The built-in method <code style=\"color:#CD5C5C\">len()</code> returns the total amount of items stored in a tuple."
   ]
  },
  {
   "cell_type": "code",
   "execution_count": null,
   "metadata": {},
   "outputs": [],
   "source": [
    "#Returnera det total antalet element:\n",
    "print(len(htm_station))"
   ]
  },
  {
   "cell_type": "markdown",
   "metadata": {},
   "source": [
    "<div style=\"text-align: right\"> \n",
    "    <a href=\"#tuple_py\">[Tuples intro]</a>\n",
    "</div>"
   ]
  },
  {
   "cell_type": "markdown",
   "metadata": {},
   "source": [
    "<a id='tuple_methods'></a>\n",
    "<br>"
   ]
  },
  {
   "cell_type": "markdown",
   "metadata": {},
   "source": [
    "#### 4.3.5. Built-in methods for tuples\n",
    "Python has two built-in methods for tuples. \n",
    "\n",
    "-  <code style=\"color:#CD5C5C\">count()</code> returns the total number of times a value is stored in a tuple.\n",
    "\n",
    "-  <code style=\"color:#CD5C5C\">index()</code> controls if a value is stored in a tuple and, if this is the case, returns the index-number of the corresponding item."
   ]
  },
  {
   "cell_type": "code",
   "execution_count": null,
   "metadata": {},
   "outputs": [],
   "source": [
    "#Create tuple:\n",
    "station_info = (\"Hyltemossa\", \"Sweden\", 150, \"atmosphere\") #station name, country, sampling height, domain\n",
    "\n",
    "#Hur många gånger finns värdet \"27\" sparat:\n",
    "station_info.count(\"Sweden\")"
   ]
  },
  {
   "cell_type": "code",
   "execution_count": null,
   "metadata": {},
   "outputs": [],
   "source": [
    "#Return the index-number of the item whose value is \"Hyltemossa\":\n",
    "station_info.index(\"Hyltemossa\")"
   ]
  },
  {
   "cell_type": "markdown",
   "metadata": {},
   "source": [
    "<div style=\"text-align: right\"> \n",
    "    <a href=\"#tuple_py\">[Tuples intro]</a>\n",
    "</div>"
   ]
  },
  {
   "cell_type": "markdown",
   "metadata": {},
   "source": [
    "<a id='tuple_implementations'></a>\n",
    "<br>"
   ]
  },
  {
   "cell_type": "markdown",
   "metadata": {},
   "source": [
    "#### 4.3.6. Examples of tuple implementations\n",
    "A typical use case of tuples is when it is desired for a function to return more than one value. [Functions](#python_func) are described in detail later on."
   ]
  },
  {
   "cell_type": "code",
   "execution_count": null,
   "metadata": {},
   "outputs": [],
   "source": [
    "#Function that returns mirrored coordinates on x-axis:\n",
    "def mirror_x_axis(p):\n",
    "    \n",
    "    #Extract values from tuple:\n",
    "    x, y = p\n",
    "    \n",
    "    #Returned mirrored values in x-axis:\n",
    "    return -x, y\n",
    "\n",
    "\n",
    "#Create tuple to store point coordinates:\n",
    "point = (4, 5)\n",
    "\n",
    "#Call function:\n",
    "x_mirrored, y_mirrored = mirror_x_axis(point)\n",
    "\n",
    "#Print results:\n",
    "print('x-coord: ', x_mirrored)\n",
    "print('y-coord: ', y_mirrored)"
   ]
  },
  {
   "cell_type": "markdown",
   "metadata": {},
   "source": [
    "<div style=\"text-align: right\"> \n",
    "    <a href=\"#tuple_py\">[Tuples intro]</a>\n",
    "</div>\n",
    "<br>\n",
    "<div style=\"text-align: right\"> \n",
    "    <a href=\"#toc\">Back to top</a>\n",
    "</div>"
   ]
  },
  {
   "cell_type": "markdown",
   "metadata": {},
   "source": [
    "<a id='dictionary_py'></a>\n",
    "<br>"
   ]
  },
  {
   "cell_type": "markdown",
   "metadata": {},
   "source": [
    "### 4.4. Dictionaries\n",
    "Dictionaries are unordered, indexed collections that can be updated. More in particular, a dictionary consists of a collection of key-value pairs. Every key-value pair maps the key to its corresponding value. It is possible to extract a value from a dictionary by usong its key. Keys are unique. The same key cannot occur twice. \n",
    "\n",
    "Dictionaries in Python are enclosed by curly brackets <code style=\"color:#CD5C5C\">{}</code>. \n",
    "<br>\n",
    "<br>\n",
    "\n",
    "<img src=\"images/dictionaries/dict_py.png\" width=\"450\" align=\"center\">\n",
    "<br>\n",
    "<br>\n",
    "\n",
    "\n",
    "The chapter focuses on the following dictionary-related topics:\n",
    "-  [Create dictionary](#create_dictionary_py)\n",
    "-  [Access items in dictionary](#accessing_dictionary_items_py)\n",
    "-  [Update existent values in dictionary](#changing_dictionary_items_py)\n",
    "-  [Return the total number of items stored in a dictionary](#dict_len_py)\n",
    "-  [Add/remove items from dictionary](#add_remove_items_dict_py)\n",
    "-  [Copy dictionary](#copy_dict_py)\n",
    "-  [Loop through dictionary items](#loop_dictionary_items_py)\n"
   ]
  },
  {
   "cell_type": "markdown",
   "metadata": {},
   "source": [
    "<div style=\"text-align: right\"> \n",
    "    <a href=\"#data_structures_py\">[Data structures]</a>\n",
    "</div>"
   ]
  },
  {
   "cell_type": "markdown",
   "metadata": {},
   "source": [
    "<a id='create_dictionary_py'></a>\n",
    "<br>"
   ]
  },
  {
   "cell_type": "markdown",
   "metadata": {},
   "source": [
    "#### 4.4.1. Create dictionary\n",
    "Dictionaries can be created:\n",
    "-  by enclosing comma-separated pairs of values with the format \"key1\":\"value1\" within curly brackets <code style=\"color:#CD5C5C\">{}</code>. \n",
    "\n",
    "-  with the help of the <code style=\"color:#CD5C5C\">dict()</code> constructor."
   ]
  },
  {
   "cell_type": "code",
   "execution_count": null,
   "metadata": {},
   "outputs": [],
   "source": [
    "#Create dictionary with a selection of icos atmposhere stations (key=\"station name\":value=\"country\"):\n",
    "icos_stations_atc = {\"Hyltemossa\":\"Sweden\",\n",
    "                     \"Svartberget\":\"Sweden\",\n",
    "                     \"Gartow\":\"Germany\",\n",
    "                     \"Ispra\":\"Italy\",\n",
    "                     \"Cabauw\":\"Netherlands\",\n",
    "                     \"Pallas\":\"Finland\",\n",
    "                     \"Trainou\":\"France\"}\n",
    "\n",
    "#Print dictionary:\n",
    "print(icos_stations_atc)"
   ]
  },
  {
   "cell_type": "code",
   "execution_count": null,
   "metadata": {},
   "outputs": [],
   "source": [
    "#Create dictionary with a selection of icos ecosystem stations using a constructor:\n",
    "#(key=\"station name\", value=\"country\")\n",
    "icos_stations_etc = dict(Hyltemossa = \"Sweden\",\n",
    "                         Skjern = \"Denmark\",\n",
    "                         Siikaneva = \"Finland\",\n",
    "                         Lanzhot = \"Czech Republic\",\n",
    "                         Hesse = \"France\",\n",
    "                         Grignon = \"France\",\n",
    "                         Kumpula = \"Finland\",\n",
    "                         Varrio = \"Finland\")\n",
    "\n",
    "#Skriv ut nyckel-värdetabell:\n",
    "print(icos_stations_etc)"
   ]
  },
  {
   "cell_type": "markdown",
   "metadata": {},
   "source": [
    "<div style=\"text-align: right\"> \n",
    "    <a href=\"#dictionary_py\">[Dictionary intro]</a>\n",
    "</div>"
   ]
  },
  {
   "cell_type": "markdown",
   "metadata": {},
   "source": [
    "<a id='accessing_dictionary_items_py'></a>\n",
    "<br>"
   ]
  },
  {
   "cell_type": "markdown",
   "metadata": {},
   "source": [
    "#### 4.4.2. Access items in dictionary\n",
    "It is possible to access a value in a dictionary:\n",
    "-  by using its corresponding key. \n",
    "-  with the help of the built-in method <code style=\"color:#CD5C5C\">get()</code>.\n",
    "\n",
    "The keyword <code style=\"color:#CD5C5C\">in</code> can be used to check if a key or value is included in a dictionary. The keyword is used in combination with other built-in methods.\n",
    "-  <code style=\"color:#CD5C5C\">keys()</code> returns all the keys of the dictionary.\n",
    "-  <code style=\"color:#CD5C5C\">values()</code> returns all the values of the dictionary.\n",
    "-  <code style=\"color:#CD5C5C\">items()</code> returns all the key-value pairs of the dictionary."
   ]
  },
  {
   "cell_type": "code",
   "execution_count": null,
   "metadata": {},
   "outputs": [],
   "source": [
    "#Return the country where Cabauw is located in:\n",
    "print(icos_stations_atc[\"Cabauw\"])"
   ]
  },
  {
   "cell_type": "code",
   "execution_count": null,
   "metadata": {},
   "outputs": [],
   "source": [
    "#Return the country where Hyltemossa is located in::\n",
    "icos_stations_atc.get(\"Hyltemossa\")"
   ]
  },
  {
   "cell_type": "code",
   "execution_count": null,
   "metadata": {},
   "outputs": [],
   "source": [
    "#Return all keys of a dictionary:\n",
    "icos_stations_etc.keys()"
   ]
  },
  {
   "cell_type": "code",
   "execution_count": null,
   "metadata": {},
   "outputs": [],
   "source": [
    "#Return all values of a dictionary:\n",
    "icos_stations_etc.values()"
   ]
  },
  {
   "cell_type": "code",
   "execution_count": null,
   "metadata": {},
   "outputs": [],
   "source": [
    "#Return all \"key-value\" pairs of a dictionary:\n",
    "icos_stations_etc.items()"
   ]
  },
  {
   "cell_type": "code",
   "execution_count": null,
   "metadata": {},
   "outputs": [],
   "source": [
    "#Check if the key \"Norunda\" is included in icos_stations_atc:\n",
    "print(\"Norunda\" in icos_stations_atc)"
   ]
  },
  {
   "cell_type": "code",
   "execution_count": null,
   "metadata": {},
   "outputs": [],
   "source": [
    "#Check if the key \"Hyltemossa\" is included in icos_stations_atc:\n",
    "print(\"Hyltemossa\" in icos_stations_atc)"
   ]
  },
  {
   "cell_type": "code",
   "execution_count": null,
   "metadata": {},
   "outputs": [],
   "source": [
    "#Check if the value \"Finland\" is included in icos_stations_atc:\n",
    "print(\"Finland\" in icos_stations_atc.values())"
   ]
  },
  {
   "cell_type": "code",
   "execution_count": null,
   "metadata": {},
   "outputs": [],
   "source": [
    "#Check if the key \"Pallas\" is included in icos_stations_atc:\n",
    "print(\"Pallas\" in icos_stations_atc.keys())"
   ]
  },
  {
   "cell_type": "code",
   "execution_count": null,
   "metadata": {},
   "outputs": [],
   "source": [
    "#Check if the \"key-value\" pair (\"Pallas\", \"Finland\") is included in icos_stations_atc:\n",
    "print((\"Pallas\", \"Finland\") in icos_stations_atc.items())"
   ]
  },
  {
   "cell_type": "markdown",
   "metadata": {},
   "source": [
    "<div style=\"text-align: right\"> \n",
    "    <a href=\"#dictionary_py\">[Dictionary intro]</a>\n",
    "</div>"
   ]
  },
  {
   "cell_type": "markdown",
   "metadata": {},
   "source": [
    "<a id='changing_dictionary_items_py'></a>\n",
    "<br>"
   ]
  },
  {
   "cell_type": "markdown",
   "metadata": {},
   "source": [
    "#### 4.4.3. Update existent values in dictionary\n",
    "The value of a key-value pair in a dictionary can be changed by using its key.\n"
   ]
  },
  {
   "cell_type": "code",
   "execution_count": null,
   "metadata": {},
   "outputs": [],
   "source": [
    "#Create a dictionary with the station name and the type of station:\n",
    "station_type = dict(Hyltemossa = \"ecosystem\",\n",
    "                    Skjern = \"ecosystem\",\n",
    "                    Siikaneva = \"ecosystem\")\n",
    "\n",
    "#Change the value for the key \"Hyltemossa\" from \"ecosystem\" to \"atmosphere\":\n",
    "station_type['Hyltemossa']=\"atmosphere\"\n",
    "\n",
    "#Print dictionary:\n",
    "print(station_type)"
   ]
  },
  {
   "cell_type": "markdown",
   "metadata": {},
   "source": [
    "<div style=\"text-align: right\"> \n",
    "    <a href=\"#dictionary_py\">[Dictionary intro]</a>\n",
    "</div>"
   ]
  },
  {
   "cell_type": "markdown",
   "metadata": {},
   "source": [
    "<a id='dict_len_py'></a>\n",
    "<br>"
   ]
  },
  {
   "cell_type": "markdown",
   "metadata": {},
   "source": [
    "#### 4.4.4. Return the total number of items stored in a dictionary\n",
    "<code style=\"color:#CD5C5C\">len()</code> stands for dictionary lenght and is a Python built-im method for dictionaries that returns an integer representing the total number of \"key-value\" pairs in a dictionary."
   ]
  },
  {
   "cell_type": "code",
   "execution_count": null,
   "metadata": {},
   "outputs": [],
   "source": [
    "#Create a dictionary with the station name and the type of station:\n",
    "station_type = dict(Hyltemossa = \"ecosystem\",\n",
    "                    Skjern = \"ecosystem\",\n",
    "                    Siikaneva = \"ecosystem\")\n",
    "\n",
    "#Get the total number of \"key-value\" pairs in station_type:\n",
    "len(station_type)"
   ]
  },
  {
   "cell_type": "markdown",
   "metadata": {},
   "source": [
    "<div style=\"text-align: right\"> \n",
    "    <a href=\"#dictionary_py\">[Dictionary intro]</a>\n",
    "</div>"
   ]
  },
  {
   "cell_type": "markdown",
   "metadata": {},
   "source": [
    "<a id='add_remove_items_dict_py'></a>\n",
    "<br>"
   ]
  },
  {
   "cell_type": "markdown",
   "metadata": {},
   "source": [
    "#### 4.4.5. Add/remove items from dictionary\n",
    "It is possible to add new \"key-value\" pairs to a dictionary.\n",
    "\n",
    "-  The built-in method <code style=\"color:#CD5C5C\">update()</code> is used to add new \"key-value\" pairs to an existent dictionary.\n",
    "\n",
    "Python includes a number of built-in methods and keywords to remove \"key-value\" pairs from a dictionary. \n",
    "\n",
    "-  <code style=\"color:#CD5C5C\">pop()</code> deletes the \"key-value\" pair that is related to a specific key. The method returns the value of the deleted \"key-value\" pair. \n",
    "-  <code style=\"color:#CD5C5C\">popitem()</code> deletes the last \"key-value\" pair. The method returns the deleted \"key-value\" pair.\n",
    "-  <code style=\"color:#CD5C5C\">clear()</code> deletes all \"key-value\" pairs from a dictionary (i.e. it returns an empty dictionary).\n",
    "-  The keyword <code style=\"color:#CD5C5C\">del</code> deletes a \"key-value\" pair for a given key. It can also be used to delete an entire dictionary."
   ]
  },
  {
   "cell_type": "code",
   "execution_count": null,
   "metadata": {},
   "outputs": [],
   "source": [
    "#Create dictionary with a selection of icos ecosystem stations using a constructor:\n",
    "#(key=\"station name\", value=\"country\")\n",
    "icos_stations_etc = dict(Hyltemossa = \"Sweden\",\n",
    "                         Skjern = \"Denmark\",\n",
    "                         Siikaneva = \"Finland\",\n",
    "                         Lanzhot = \"Czech Republic\",\n",
    "                         Hesse = \"France\",\n",
    "                         Grignon = \"France\",\n",
    "                         Kumpula = \"Finland\",\n",
    "                         Varrio = \"Finland\")\n",
    "\n",
    "#Add the \"key-value\" pair \"Lonzee\":\"Belgium\" to the icos_station_etc dictionary:\n",
    "icos_stations_etc[\"Lonzee\"] = \"Belgium\"\n",
    "\n",
    "#Print dictionary:\n",
    "print(icos_stations_etc)"
   ]
  },
  {
   "cell_type": "code",
   "execution_count": null,
   "metadata": {},
   "outputs": [],
   "source": [
    "#Use the built-in method update() to add the \"key-value\" pair \"Lusignan:France\" to the dictionary:\n",
    "icos_stations_etc.update({\"Lusignan\":\"France\"})\n",
    "\n",
    "#Print dictionary:\n",
    "print(icos_stations_etc)"
   ]
  },
  {
   "cell_type": "code",
   "execution_count": null,
   "metadata": {},
   "outputs": [],
   "source": [
    "#Delete \"key-value\" pair with key=\"Varrio\":\n",
    "icos_stations_etc.pop(\"Varrio\")\n",
    "\n",
    "#Print dictionary:\n",
    "print(icos_stations_etc)"
   ]
  },
  {
   "cell_type": "code",
   "execution_count": null,
   "metadata": {},
   "outputs": [],
   "source": [
    "#Remove the last \"key-value\" pair:\n",
    "icos_stations_etc.popitem()\n",
    "\n",
    "#Skriv ut nyckel-värdetabell\n",
    "print(icos_stations_etc)"
   ]
  },
  {
   "cell_type": "code",
   "execution_count": null,
   "metadata": {},
   "outputs": [],
   "source": [
    "#Delete all \"key-value\" pairs from a dictionary:\n",
    "icos_stations_etc.clear()\n",
    "\n",
    "#Print dictionary:\n",
    "print(icos_stations_etc)"
   ]
  },
  {
   "cell_type": "code",
   "execution_count": null,
   "metadata": {},
   "outputs": [],
   "source": [
    "#Create dictionary with a selection of icos ecosystem stations using a constructor:\n",
    "#(key=\"station name\", value=\"country\")\n",
    "icos_stations_etc = dict(Hyltemossa = \"Sweden\",\n",
    "                         Skjern = \"Denmark\",\n",
    "                         Siikaneva = \"Finland\",\n",
    "                         Lanzhot = \"Czech Republic\",\n",
    "                         Hesse = \"France\",\n",
    "                         Grignon = \"France\",\n",
    "                         Kumpula = \"Finland\",\n",
    "                         Varrio = \"Finland\")\n",
    "\n",
    "#Delete \"key-value\" pair with the key \"Hesse\":\n",
    "del icos_stations_etc[\"Hesse\"]\n",
    "\n",
    "#Print dictionary:\n",
    "print(icos_stations_etc)"
   ]
  },
  {
   "cell_type": "code",
   "execution_count": null,
   "metadata": {},
   "outputs": [],
   "source": [
    "#Delete icos_stations_etc dictionary:\n",
    "del icos_stations_etc\n",
    "\n",
    "#Print dictionary:\n",
    "print(icos_stations_etc)\n",
    "\n",
    "#print() will generate an error-message\n",
    "#because the dictionary \"icos_stations_etc\"\n",
    "#has been deleted and no longer exists.."
   ]
  },
  {
   "cell_type": "markdown",
   "metadata": {},
   "source": [
    "<div style=\"text-align: right\"> \n",
    "    <a href=\"#dictionary_py\">[Dictionary intro]</a>\n",
    "</div>"
   ]
  },
  {
   "cell_type": "markdown",
   "metadata": {},
   "source": [
    "<a id='copy_dict_py'></a>\n",
    "<br>"
   ]
  },
  {
   "cell_type": "markdown",
   "metadata": {},
   "source": [
    "#### 4.4.6. Copy dictionary\n",
    "It is not possible to copy a dictionary by typing <code style=\"color:#CD5C5C\">new_dict = old_dict</code>. This is because there is a _reference_ between new_dict and old_dict. A reference is a mechanism that allows for two different variables to point to the same memory location. As a result, changes made in __old_dict__ will also be visible in  __new_dict__.\n",
    "\n",
    "Python has two built-in methods for copying dictionaries:\n",
    "\n",
    "-  <code style=\"color:#CD5C5C\">copy()</code> is used to create a copy of a dictionary.\n",
    "\n",
    "-  <code style=\"color:#CD5C5C\">dict()</code> may also be used to copy a dictionary."
   ]
  },
  {
   "cell_type": "code",
   "execution_count": null,
   "metadata": {},
   "outputs": [],
   "source": [
    "#Create dictionary with a selection of icos atmposhere stations:\n",
    "#(key=\"icos station name\":value=\"country\")\n",
    "icos_stations_atc = {\"Hyltemossa\":\"Sweden\",\n",
    "                     \"Svartberget\":\"Sweden\",\n",
    "                     \"Gartow\":\"Germany\",\n",
    "                     \"Ispra\":\"Italy\",\n",
    "                     \"Cabauw\":\"Netherlands\",\n",
    "                     \"Pallas\":\"Finland\",\n",
    "                     \"Trainou\":\"France\"}\n",
    "\n",
    "#Copy \"icos_stations_atc\" dictionary:\n",
    "icos_stations_atc_copy = icos_stations_atc.copy()\n",
    "\n",
    "#Print copy:\n",
    "print(icos_stations_atc_copy)"
   ]
  },
  {
   "cell_type": "code",
   "execution_count": null,
   "metadata": {},
   "outputs": [],
   "source": [
    "#Create a new copy of the \"icos_stations_atc\" dictionary using copy():\n",
    "icos_stations_atc_copy2 = dict(icos_stations_atc)\n",
    "\n",
    "#Print new copy:\n",
    "print(icos_stations_atc_copy2)"
   ]
  },
  {
   "cell_type": "markdown",
   "metadata": {},
   "source": [
    "<div style=\"text-align: right\"> \n",
    "    <a href=\"#dictionary_py\">[Dictionary intro]</a>\n",
    "</div>"
   ]
  },
  {
   "cell_type": "markdown",
   "metadata": {},
   "source": [
    "<a id='loop_dictionary_items_py'></a>\n",
    "<br>"
   ]
  },
  {
   "cell_type": "markdown",
   "metadata": {},
   "source": [
    "#### 4.4.7. Loop through dictionary items\n",
    "Use a <code style=\"color:#CD5C5C\">for</code>-loop to loop through all items (i.e. \"key-value\" pairs) in a dictionary. Using a loop enables users to return different kind of information from a dictionary (e.g. keys, values or \"key-value\" pairs). \n",
    "\n",
    "Here are some examples."
   ]
  },
  {
   "cell_type": "code",
   "execution_count": null,
   "metadata": {},
   "outputs": [],
   "source": [
    "#Loop through all the \"key-value\" pairs in a dictionary and print their keys one-by-one:\n",
    "for m in icos_stations_atc:\n",
    "    print(m)"
   ]
  },
  {
   "cell_type": "code",
   "execution_count": null,
   "metadata": {},
   "outputs": [],
   "source": [
    "#Loop through all the keys of a dictionary and print them one-by-one:\n",
    "for n in icos_stations_atc.keys():\n",
    "    print(n)"
   ]
  },
  {
   "cell_type": "code",
   "execution_count": null,
   "metadata": {},
   "outputs": [],
   "source": [
    "#Loop through all the \"key-value\" pairs of a dictionary one-by-one and print their value:\n",
    "for v in icos_stations_atc:\n",
    "    print(icos_stations_atc[v])"
   ]
  },
  {
   "cell_type": "code",
   "execution_count": null,
   "metadata": {},
   "outputs": [],
   "source": [
    "#Loop through all the values of a dictionary and print them one-by-one:\n",
    "for w in icos_stations_atc.values():\n",
    "    print(w)"
   ]
  },
  {
   "cell_type": "code",
   "execution_count": null,
   "metadata": {},
   "outputs": [],
   "source": [
    "#Loop through all the \"key-value\" pairs of a dictionary with the help of items() and\n",
    "#print every \"key-value\" pair:\n",
    "for x, y in icos_stations_atc.items():\n",
    "    print(x,y)"
   ]
  },
  {
   "cell_type": "markdown",
   "metadata": {},
   "source": [
    "<div style=\"text-align: right\"> \n",
    "    <a href=\"#dictionary_py\">[Dictionary intro]</a>\n",
    "</div>\n",
    "<br>\n",
    "<div style=\"text-align: right\"> \n",
    "    <a href=\"#toc\">Back to top</a>\n",
    "</div>"
   ]
  },
  {
   "cell_type": "markdown",
   "metadata": {},
   "source": [
    "<a id='py_string_manipulation'></a>\n",
    "<br>"
   ]
  },
  {
   "cell_type": "markdown",
   "metadata": {},
   "source": [
    "## 5. String manipulation in Python\n",
    "In Python, text is represented with the data type _String_. A string object is generally defined as text within double or single quotation marks. Python includes a set of built-in methods for string manipulation. Here are some examples of the most common methods.\n",
    "\n",
    "-  <code style=\"color:#CD5C5C\">find()</code> finds the first occurrence of a value and returns its corresponding index-number. If the given value is not included in the string, the method returns the value ___-1___.\n",
    "\n",
    "\n",
    "-  <code style=\"color:#CD5C5C\">upper()</code> returns a string where all characters have been converted to their upper case equivalents.\n",
    "\n",
    "\n",
    "-  <code style=\"color:#CD5C5C\">lower()</code> returns a string where all characters have been converted to their lower case equivalents.\n",
    "\n",
    "\n",
    "-  <code style=\"color:#CD5C5C\">capitalize()</code> returns a string where only the first character is upper case and all the rest are lower case.\n",
    "\n",
    "\n",
    "-  <code style=\"color:#CD5C5C\">count()</code> returns the total number of times a substring is encountered in another string.\n",
    "\n",
    "\n",
    "-  <code style=\"color:#CD5C5C\">split()</code> divides the original string to substrings and returns a list of the aforementioned substrings. The original string is split every time a given substring is encountered.\n",
    "\n",
    "\n",
    "-  <code style=\"color:#CD5C5C\">strip()</code> removes backspace characters from the beginning or the end of a string. The method can also be used to remove user-defined substrings from the beginning or the end of a string.\n",
    "\n",
    "\n",
    "-  <code style=\"color:#CD5C5C\">replace()</code> is used to replace a given substring with another substring in a string.\n",
    "\n",
    "\n",
    "-  <code style=\"color:#CD5C5C\">join()</code> joins a list of strings to one string with a user-defined string between every string in the list.\n",
    "\n",
    "\n",
    "-  <code style=\"color:#CD5C5C\">encode()</code> returns a string in utf-8 encoding. An error-message will be generated, if the conversion should fail. It is also possible to return text in other encodings (e.g. ascii, latin1, etc.). This may be required when processing special characters or symbols.\n"
   ]
  },
  {
   "cell_type": "code",
   "execution_count": null,
   "metadata": {},
   "outputs": [],
   "source": [
    "#Create a string usign single or double quotation marks:\n",
    "text1 = 'Max temperature last summer-period'\n",
    "text2 = \": \"\n",
    "text3 = \"32 C\\xb0\"\n",
    "\n",
    "#Print string:\n",
    "print(text1)"
   ]
  },
  {
   "cell_type": "code",
   "execution_count": null,
   "metadata": {},
   "outputs": [],
   "source": [
    "#Return character with index-number \"1\" in text1:\n",
    "print(text1[1])"
   ]
  },
  {
   "cell_type": "code",
   "execution_count": null,
   "metadata": {},
   "outputs": [],
   "source": [
    "#Return the index-number of the first occurrence of the character \"a\" in text1:\n",
    "print(text1.find(\"a\"))"
   ]
  },
  {
   "cell_type": "code",
   "execution_count": null,
   "metadata": {},
   "outputs": [],
   "source": [
    "#Return the index-number of the first occurence of the character \"t\" in text1:\n",
    "print(text1.find(\"t\"))"
   ]
  },
  {
   "cell_type": "code",
   "execution_count": null,
   "metadata": {},
   "outputs": [],
   "source": [
    "#Convert all characters in text1 to upper case:\n",
    "print(text1.upper())"
   ]
  },
  {
   "cell_type": "code",
   "execution_count": null,
   "metadata": {},
   "outputs": [],
   "source": [
    "#Convert all characters in text1 to lower case:\n",
    "print(text1.lower())"
   ]
  },
  {
   "cell_type": "code",
   "execution_count": null,
   "metadata": {},
   "outputs": [],
   "source": [
    "#Return text1 with only the first character in upper case:\n",
    "print(text1.capitalize())"
   ]
  },
  {
   "cell_type": "code",
   "execution_count": null,
   "metadata": {},
   "outputs": [],
   "source": [
    "#Return the total number of times the character \"e\" is repeated in text1:\n",
    "print(text1.count(\"e\"))"
   ]
  },
  {
   "cell_type": "code",
   "execution_count": null,
   "metadata": {},
   "outputs": [],
   "source": [
    "#Return the total number of times the substring \"er\" is occurring in text1:\n",
    "print(text1.count(\"er\"))"
   ]
  },
  {
   "cell_type": "code",
   "execution_count": null,
   "metadata": {},
   "outputs": [],
   "source": [
    "#Split the original string to substrings whenever a backspace character is encountered:\n",
    "split_text = text1.split(\" \")\n",
    "\n",
    "#Print list:\n",
    "print(split_text)"
   ]
  },
  {
   "cell_type": "code",
   "execution_count": null,
   "metadata": {},
   "outputs": [],
   "source": [
    "#Remove the substring \"period\" from the original string:\n",
    "print(text1.strip(\"period\"))"
   ]
  },
  {
   "cell_type": "code",
   "execution_count": null,
   "metadata": {},
   "outputs": [],
   "source": [
    "#Replace the substring \"Max\" with \"Min\":\n",
    "replaced_text = text1.replace(\"Max\", \"Min\")\n",
    "\n",
    "#Print string:\n",
    "print(replaced_text)"
   ]
  },
  {
   "cell_type": "code",
   "execution_count": null,
   "metadata": {},
   "outputs": [],
   "source": [
    "#Create a string usign single or double quotation marks:\n",
    "text1 = 'Max temperature last summer'\n",
    "text2 = \": \"\n",
    "text3 = \"32 C\\xb0\"\n",
    "\n",
    "#Concatenate strings:\n",
    "fulltext = text1 + text2 + text3\n",
    "\n",
    "#Print result:\n",
    "print(fulltext)"
   ]
  },
  {
   "cell_type": "code",
   "execution_count": null,
   "metadata": {},
   "outputs": [],
   "source": [
    "#Concatenate strings using the built-in method join():\n",
    "\n",
    "#Create a list of strings:\n",
    "text_list = [text1, text2, text3]\n",
    "\n",
    "#Create a variable to store the string to be included between the strings in the list:\n",
    "between_text = \" \"\n",
    "\n",
    "#Concatenate the strings in the list including the \"between_text\"-string\n",
    "#between every string in the list:\n",
    "fulltext2 = between_text.join(text_list)\n",
    "\n",
    "#Print concatenated string:\n",
    "print(fulltext2)"
   ]
  },
  {
   "cell_type": "code",
   "execution_count": null,
   "metadata": {},
   "outputs": [],
   "source": [
    "#Create a new string with the character \"ö\":\n",
    "text = 'Degerö'\n",
    "\n",
    "#Prin string:\n",
    "print('ICOS station: ', text)\n",
    "print()\n",
    "\n",
    "#Change the current encoding to utf-8:\n",
    "string_utf = text.encode()\n",
    "\n",
    "#Change the encoding to ascii:\n",
    "string_ascii = text.encode(\"ascii\", \"replace\")\n",
    "\n",
    "#change back the encoding from ascii to utf-8:\n",
    "string_ascii_ign = text.encode(\"ascii\", \"ignore\")\n",
    "\n",
    "#Print results:\n",
    "print('ICOS station: ', string_utf)\n",
    "print('ICOS station: ', string_ascii)\n",
    "print('ICOS station: ', string_ascii_ign)"
   ]
  },
  {
   "cell_type": "markdown",
   "metadata": {},
   "source": [
    "<br>\n",
    "<br>\n",
    "<div style=\"text-align: right\"> \n",
    "    <a href=\"#toc\">Back to top</a>\n",
    "</div>"
   ]
  },
  {
   "cell_type": "markdown",
   "metadata": {},
   "source": [
    "<a id='py_control_flow'></a>\n",
    "<br>"
   ]
  },
  {
   "cell_type": "markdown",
   "metadata": {},
   "source": [
    "## 6. Control flow in Python\n",
    "Control flow can be described as the order in which statements and functions calls are executed in a program. In Python, the control flow can be steered by <code style=\"color:#CD5C5C\">if</code>-statements, <code style=\"color:#CD5C5C\">for</code>-loops, <code style=\"color:#CD5C5C\">while</code>-loops and function calls. Functions and function calls are described in greater detail in the chapter [Create Python functions](#python_func).\n",
    "\n",
    "This chapter focuses upon the following control statements:\n",
    "\n",
    "-  [if-statements](#if_statement_py)\n",
    "-  [for-loops](#for_loop_py)\n",
    "-  [while-loops](#while_loop_py)"
   ]
  },
  {
   "cell_type": "markdown",
   "metadata": {},
   "source": [
    "<br>\n",
    "<br>\n",
    "<div style=\"text-align: right\"> \n",
    "    <a href=\"#toc\">Back to top</a>\n",
    "</div>"
   ]
  },
  {
   "cell_type": "markdown",
   "metadata": {},
   "source": [
    "<a id='if_statement_py'></a>\n",
    "<br>"
   ]
  },
  {
   "cell_type": "markdown",
   "metadata": {},
   "source": [
    "### 6.1. If-statements\n",
    "<code style=\"color:#CD5C5C\">if</code>-statements are used in cases when a piece of code should only be executed when a condition is met. Conditions often include comparison operators that generate results that are _True_ or _False_. It is possible to combine several conditions using logical operators. \n",
    "\n",
    "Here's the if-statement syntax:\n",
    "\n",
    "<br>\n",
    "<br>\n",
    "\n",
    "<img src=\"images/control_flow/if_statement_py.png\" width=\"670\" align=\"center\">\n",
    "<br>\n",
    "<br>\n"
   ]
  },
  {
   "cell_type": "code",
   "execution_count": null,
   "metadata": {},
   "outputs": [],
   "source": [
    "#Example of simple if-statement with comparison operators\n",
    "\n",
    "#Create variable to store CO-value:\n",
    "co = 101\n",
    "\n",
    "#Check if the CO-value is greater than 100 ppm:\n",
    "if co > 100:\n",
    "    \n",
    "    #Print the following if the CO-value is greater than 100 ppm:\n",
    "    print(\"High level of CO !\")"
   ]
  },
  {
   "cell_type": "code",
   "execution_count": null,
   "metadata": {},
   "outputs": [],
   "source": [
    "#Example of if-else-statement with comparison operators\n",
    "\n",
    "#Create variable to store CO-value:\n",
    "co = 35\n",
    "\n",
    "#Check if the CO-value is greater than 100 ppm:\n",
    "if co > 100:\n",
    "    \n",
    "    #Print the following if the CO-value is greater than 100 ppm:\n",
    "    print(\"Dangerous level of CO !\")\n",
    "\n",
    "#If the CO-value is less than 100 ppm:\n",
    "else:\n",
    "    print(\"Low to medium level of CO\")\n",
    "    "
   ]
  },
  {
   "cell_type": "code",
   "execution_count": null,
   "metadata": {},
   "outputs": [],
   "source": [
    "#Example of if-elif-else-statements with comparison operators and logigal operators\n",
    "\n",
    "#Create variable to store CO-value:\n",
    "co = 60\n",
    "\n",
    "#Check if the CO-value is greater than 100 ppm:\n",
    "if co > 100:\n",
    "    \n",
    "    #Print the following if the CO-value is greater than 100 ppm:\n",
    "    print(\"High level of CO !\")\n",
    "\n",
    "#Check if the CO-value is greater than 100 ppm:\n",
    "elif ((co >= 50) and (co <= 100)):\n",
    "    \n",
    "    #Print the following if the CO-value is greater than 50 ppm but less than 100 ppm:\n",
    "    print(\"Medium level of CO\")    \n",
    "\n",
    "#If the CO-value is less than 50 ppm:\n",
    "else:\n",
    "    print(\"Low level of CO\")\n"
   ]
  },
  {
   "cell_type": "markdown",
   "metadata": {},
   "source": [
    "<br>\n",
    "\n",
    "<code style=\"color:#CD5C5C\">If</code>-statements can be **nested**. This means that an <code style=\"color:#CD5C5C\">if</code>-statement can be placed inside another <code style=\"color:#CD5C5C\">if</code>-statement. An example of nested if-statetements is presented below:\n",
    "\n",
    "\n"
   ]
  },
  {
   "cell_type": "code",
   "execution_count": null,
   "metadata": {},
   "outputs": [],
   "source": [
    "#Create variable to store CO-value:\n",
    "co = 50\n",
    "\n",
    "\n",
    "#Check if the CO-value is less or equal to 100 ppm:\n",
    "if co < 100:\n",
    "\n",
    "    #Check if the CO-value is greater or equal to 50 ppm:\n",
    "    if (co >= 50):\n",
    "        \n",
    "        print(\"Medium level of CO\")    \n",
    "\n",
    "    #If the CO-value is less than 50 ppm:\n",
    "    else:\n",
    "        \n",
    "        print(\"Low level of CO\")\n",
    "        \n",
    "#If the CO-value is greater than 100 ppm:\n",
    "else:\n",
    "    print(\"High level of CO !\")        \n"
   ]
  },
  {
   "cell_type": "markdown",
   "metadata": {},
   "source": [
    "<br>\n",
    "<div style=\"text-align: right\"> \n",
    "    <a href=\"#py_control_flow\">[Control flow intro]</a>\n",
    "</div>"
   ]
  },
  {
   "cell_type": "markdown",
   "metadata": {},
   "source": [
    "<a id='for_loop_py'></a>\n",
    "<br>"
   ]
  },
  {
   "cell_type": "markdown",
   "metadata": {},
   "source": [
    "### 6.2. For-loops\n",
    "<code style=\"color:#CD5C5C\">for</code>-loops are used for operations that are expected to be repeated a known number of times. For example, it is possible to go through the items of a list using a for-loop.\n",
    "<br>\n",
    "<br>\n",
    "\n",
    "<img src=\"images/control_flow/for_loop_py.png\" width=\"610\" align=\"center\">\n",
    "<br>\n",
    "<br>\n"
   ]
  },
  {
   "cell_type": "code",
   "execution_count": null,
   "metadata": {},
   "outputs": [],
   "source": [
    "#Example of for-loop iterating over the items of a list & printing them:\n",
    "for gas in ['co2','n2o','ch4']:\n",
    "    print(gas, \" is a greenhouse gas\")"
   ]
  },
  {
   "cell_type": "markdown",
   "metadata": {},
   "source": [
    "The built-in method <code style=\"color:#CD5C5C\">range()</code> returns a sequence of numbers, starting from 0 (by default) and ending at specified number. The integer number specifying the incrementation (step) is by default equal to 1. The user has to define the ending value of the sequence. However, the _start_ and _step_ parameters of the method are optional. The method can be used in conjunction with a ```for```-loop to iterate over a set of values.\n",
    "\n",
    "The syntax for <code style=\"color:#CD5C5C\">range()</code> is presented below:\n",
    "<br>\n",
    "<br>\n",
    "\n",
    "<img src=\"images/control_flow/range_py.png\" width=\"185\" align=\"center\">\n",
    "<br>\n",
    "<br>\n"
   ]
  },
  {
   "cell_type": "code",
   "execution_count": null,
   "metadata": {},
   "outputs": [],
   "source": [
    "#Create a sequence of 4 values that begin with 0:\n",
    "check_range = range(0, 4, 1)\n",
    "\n",
    "#Print every value in the sequence:\n",
    "for num in check_range:\n",
    "    print(num)"
   ]
  },
  {
   "cell_type": "markdown",
   "metadata": {},
   "source": [
    "<br>\n",
    "<br>\n",
    "The syntax for the combined <code style=\"color:#CD5C5C\">for</code>-loop and <code style=\"color:#CD5C5C\">range()</code> example is presented below:\n",
    "\n",
    "<br>\n",
    "<br>\n",
    "\n",
    "<img src=\"images/control_flow/for_loop_py_2.png\" width=\"500\" align=\"center\">\n",
    "<br>\n",
    "<br>"
   ]
  },
  {
   "cell_type": "code",
   "execution_count": null,
   "metadata": {},
   "outputs": [],
   "source": [
    "#Create a list of gases:\n",
    "gases = [\"co2\", \"co\", \"ch4\", \"n2o\"]\n",
    "\n",
    "#Print list:\n",
    "print(\"List: \", gases)\n",
    "\n",
    "#Print the total number of items included in the list:\n",
    "print(\"Total num of items: \", len(gases))\n",
    "\n",
    "#Iterate over a sequence of values representing the index-number of every item in the list:\n",
    "for i in range(len(gases)):\n",
    "    \n",
    "    #Print the index-number and the value of every item in the list:\n",
    "    print()\n",
    "    print('index-number: \\t', i)\n",
    "    print('item: \\t', gases[i])"
   ]
  },
  {
   "cell_type": "markdown",
   "metadata": {},
   "source": [
    "<br>\n",
    "\n",
    "<code style=\"color:#CD5C5C\">For</code>-loops can be nested. A **nested loop** is a loop inside a loop. Observe that an inner loop is executed one time for every iteration of its immediate outer loop."
   ]
  },
  {
   "cell_type": "code",
   "execution_count": null,
   "metadata": {},
   "outputs": [],
   "source": [
    "#Create a list with level-info & another with greenhouse gases:\n",
    "levels = [\"high\", \"medium\", \"low\"]\n",
    "gases = [\"co2\", \"co\", \"ch4\", \"n2o\"]\n",
    "\n",
    "#Outer loop:\n",
    "for x in levels:\n",
    "    \n",
    "    #Inner loop:\n",
    "    for y in gases:\n",
    "        \n",
    "        #Print current x-value and y-value:\n",
    "        print(x, y) "
   ]
  },
  {
   "cell_type": "markdown",
   "metadata": {},
   "source": [
    "<br>\n",
    "<div style=\"text-align: right\"> \n",
    "    <a href=\"#py_control_flow\">[Control flow intro]</a>\n",
    "</div>"
   ]
  },
  {
   "cell_type": "markdown",
   "metadata": {},
   "source": [
    "<a id='while_loop_py'></a>\n",
    "<br>"
   ]
  },
  {
   "cell_type": "markdown",
   "metadata": {},
   "source": [
    "### 6.3. While-Loops\n",
    "<code style=\"color:#CD5C5C\">While</code>-loops are used in cases where an operation is to be repeated an unknown number of times.\n",
    "\n",
    "While-loops should be used with caution so that no endless loops (or infinite loops) are created. An endless loop will cause the program to continue executing indefinitely. The only way to exit an endless loop is by manually stopping the execution of the program. \n",
    "\n",
    "The code in the following example prints the value of the help variable __w__ at every iteration, as long as **w** has a value that is less than 10. The initial value of the help variable is zero. Its value is increased by one at every iteration. \n",
    "\n",
    "\n",
    "<br>\n",
    "<br>\n",
    "\n",
    "<img src=\"images/control_flow/while_loop_py.png\" width=\"430\" align=\"center\">\n",
    "<br>\n",
    "<br>\n",
    "\n",
    "If the line ```w = w + 1``` was deleted, then the aforementioned example would become an endless loop (see code example below). This is because, in that case, ```w```would always be equal to zero and the condition ```w < 10``` would always be true. As a consequence, the code would never finnish executing. To avoid that, it is important to never forget including the statement that controls the increase of the value of the loop's help variable at every iteration.\n",
    "\n",
    "\n",
    "```python\n",
    "\n",
    "#Declare & initialize help variable:\n",
    "w = 0\n",
    "\n",
    "#Loop that will continue executing as long as w < 10:\n",
    "while(w < 10):\n",
    "    \n",
    "    #Print the value of the help variable:\n",
    "    print(w)\n",
    "    \n",
    "```\n"
   ]
  },
  {
   "cell_type": "code",
   "execution_count": null,
   "metadata": {},
   "outputs": [],
   "source": [
    "#Define and initialize help variable:\n",
    "w = 0\n",
    "\n",
    "#Loop that will keep executing as long as the condition \"w <10\" is true:\n",
    "while w < 10:\n",
    "    \n",
    "    #Print the current value of the help variable:\n",
    "    print(w)\n",
    "    \n",
    "    #Increase the value of the help variable by 1:\n",
    "    w = w + 1\n",
    "    "
   ]
  },
  {
   "cell_type": "markdown",
   "metadata": {},
   "source": [
    "<br>\n",
    "<div style=\"text-align: right\"> \n",
    "    <a href=\"#py_control_flow\">[Control flow intro]</a>\n",
    "</div>\n",
    "<br>\n",
    "<div style=\"text-align: right\"> \n",
    "    <a href=\"#toc\">Back to top</a>\n",
    "</div>"
   ]
  },
  {
   "cell_type": "markdown",
   "metadata": {},
   "source": [
    "<a id='python_func'></a>\n",
    "<br>\n",
    "<br>"
   ]
  },
  {
   "cell_type": "markdown",
   "metadata": {},
   "source": [
    "## 7. Create functions in Python\n",
    "A functions is a collection of code (i.e. a code block) that is executed only when the function is called. \n",
    "A function may include variables, operators (e.g. <code style=\"color:gray\">+</code>, <code style=\"color:gray\">-</code>, <code style=\"color:gray\">*</code>, <code style=\"color:gray\">/</code> eller <code style=\"color:gray\">%</code>), if-statements, loops, etc. The syntax to create a function in Python is:\n",
    "\n",
    "<br>\n",
    "\n",
    "```python\n",
    "def function_name_1():\n",
    "    \n",
    "    #code\n",
    "```\n",
    "<br>\n",
    "\n",
    "It is possible to pass values (data) to functions. This is acheved with the help of parameters. Parameters are variables that are included in a method definition. Arguments are the data that are passed to a method's parameters. A function may have zero, one or many parameters. \n",
    "\n",
    "<br>\n",
    "\n",
    "```python\n",
    "def function_name_2(parameter1, parameter2):\n",
    "    \n",
    "    #code\n",
    "    \n",
    "```\n",
    "\n",
    "<br>\n",
    "\n",
    "A function may return data with the help of the <code style=\"color:#CD5C5C\">return</code>-statement. <code style=\"color:#CD5C5C\">return</code> is generally used at the end of a function to return a result.\n",
    "\n",
    "<br>\n",
    "\n",
    "```python\n",
    "def function_name_3(parameter1, parameter2, parameter3):\n",
    "    \n",
    "    total_sum = parameter1 + parameter2 + parameter3\n",
    "    \n",
    "    return total_sum\n",
    "```\n",
    "\n",
    "<br>\n",
    "\n",
    "It is possible for a function to include calls to other functions. \n",
    "\n",
    "<br>\n",
    "\n",
    "```python\n",
    "def function_name(param1, param2, param3, param4):\n",
    "    \n",
    "    #Call another function:\n",
    "    var = function_name_3(param1, param2, param3)\n",
    "    \n",
    "    result = param4 - var\n",
    "    \n",
    "    return result\n",
    "```\n",
    "\n",
    "<br>"
   ]
  },
  {
   "cell_type": "markdown",
   "metadata": {},
   "source": [
    "<br>\n",
    "<br>\n",
    "<div style=\"text-align: right\"> \n",
    "    <a href=\"#toc\">Back to top</a>\n",
    "</div>"
   ]
  },
  {
   "cell_type": "code",
   "execution_count": null,
   "metadata": {},
   "outputs": [],
   "source": [
    "## Example 1 ##\n",
    "\n",
    "#Create function that prints a string:\n",
    "def printText():\n",
    "    \n",
    "    print(\"Hello World!\")\n",
    "\n",
    "\n",
    "#Call function:\n",
    "printText()"
   ]
  },
  {
   "cell_type": "code",
   "execution_count": null,
   "metadata": {},
   "outputs": [],
   "source": [
    "## Example 2 ##\n",
    "\n",
    "#Create a function that takes one parameter\n",
    "#of type String as input and prints it: \n",
    "def print_input_string(inputString):\n",
    "    \n",
    "    print(inputString)\n",
    "    \n",
    "\n",
    "#Call function and show result:\n",
    "print_input_string(\"We will save the world!\")"
   ]
  },
  {
   "cell_type": "code",
   "execution_count": null,
   "metadata": {},
   "outputs": [],
   "source": [
    "## Example 3 ##\n",
    "\n",
    "#Create a function that takes one parameter as input,\n",
    "#calculates a the area of a circle and returns the result.\n",
    "#The input parameter is an integer or float\n",
    "#representing the radius of a circle.\n",
    "def calc_circle_area(radius):\n",
    "    \n",
    "    #Import module:\n",
    "    import math\n",
    "    \n",
    "    #Compute circle area:\n",
    "    circle_area = math.pi * math.pow(radius, 2)\n",
    "    \n",
    "    #Return result:\n",
    "    return circle_area\n",
    "\n",
    "#Call function and store result in variable:\n",
    "result = calc_circle_area(2.0)\n",
    "\n",
    "\n",
    "#Round up your result to 1 decimal and print it:\n",
    "print(\"The circle area is: \", round(result,1))"
   ]
  },
  {
   "cell_type": "code",
   "execution_count": null,
   "metadata": {},
   "outputs": [],
   "source": [
    "## Example 4 ##\n",
    "\n",
    "#Create a function that takes two arguments as input, \n",
    "#calls another function to compute the circle area \n",
    "#and prints the result.\n",
    "#1st input parameter: circle radius (data type: int or float) \n",
    "#2nd input parameter: area unit (data type: string) \n",
    "def calc_circle_area_2(radius, units):\n",
    "    \n",
    "    #Import module:\n",
    "    import math\n",
    "    \n",
    "    #Call function to compute circle area:\n",
    "    circle_area = calc_circle_area(radius)\n",
    "    \n",
    "    #Print result:\n",
    "    print(\"The circle area is: \", round(circle_area,1), \" \", units)\n",
    "\n",
    "    \n",
    "#Call function:\n",
    "calc_circle_area_2(2.0, \"m2\")"
   ]
  },
  {
   "cell_type": "markdown",
   "metadata": {},
   "source": [
    "<br>\n",
    "<br>\n",
    "<div style=\"text-align: right\"> \n",
    "    <a href=\"#python_func\">Python functions</a>\n",
    "</div>"
   ]
  },
  {
   "cell_type": "markdown",
   "metadata": {},
   "source": [
    "<a id='local_and_global_var'></a>\n",
    "<br>\n",
    "<br>"
   ]
  },
  {
   "cell_type": "markdown",
   "metadata": {},
   "source": [
    "## 8. Local and global variables in Python\n",
    "Local variables are defined and accessible only inside a function. It is _not_ possible to get access to the value of a local variable outside of the function it was defined in.  \n",
    "\n",
    "In Python, a variable declared outside of a function or in global scope is defined as a global variable. Global variables can be accessed inside and outside of functions. Their value is always available.\n",
    "\n",
    "It is considered good practice to avoid using global variables as much as possible. For example, saving a password as a global variable can make this sensitive piece of information easily accesible to a hacker. Another problem with using global variables is when developing code for larger projects. The use of global variables in larger projects may increase the risk of the system crashing due to conflicts. \n",
    "\n",
    "The examples below show how local and global variables can be used in funtions.\n"
   ]
  },
  {
   "cell_type": "markdown",
   "metadata": {},
   "source": [
    "<br>\n",
    "<br>\n",
    "<div style=\"text-align: right\"> \n",
    "    <a href=\"#toc\">Back to top</a>\n",
    "</div>"
   ]
  },
  {
   "cell_type": "code",
   "execution_count": null,
   "metadata": {},
   "outputs": [],
   "source": [
    "##Example 1##\n",
    "\n",
    "#Define global variable:\n",
    "glob_var = 5\n",
    "\n",
    "#Function that prints the value of alocal variable:\n",
    "def test_func():\n",
    "    \n",
    "    #Define local variable:\n",
    "    local_var = glob_var + 10\n",
    "    \n",
    "    #Print local variable:\n",
    "    print(\"local variable:\", local_var)\n",
    "\n",
    "    \n",
    "#Call function:\n",
    "test_func()\n",
    "\n",
    "#Print global variable:\n",
    "print(\"global variable:\", glob_var)"
   ]
  },
  {
   "cell_type": "code",
   "execution_count": null,
   "metadata": {},
   "outputs": [],
   "source": [
    "#Print the value of the local variable \"local_var\":\n",
    "print(local_var)\n",
    "\n",
    "#This will generate an error-message as the variable\n",
    "#\"local_var\" can only be accessed from code\n",
    "#written inside the \"test_func\" function."
   ]
  },
  {
   "cell_type": "code",
   "execution_count": null,
   "metadata": {},
   "outputs": [],
   "source": [
    "##Example 2##\n",
    "\n",
    "#This is an example of how it is possible for two variables \n",
    "#(one global and the other local) to have the same name\n",
    "#but store different values.\n",
    "\n",
    "#Define global variable:\n",
    "test_var = 5\n",
    "\n",
    "#Function that prints the value of a local variable:\n",
    "def print_var():\n",
    "    \n",
    "    #Define Local variable:\n",
    "    test_var = 10\n",
    "    \n",
    "    #Print local variable:\n",
    "    print(\"local variable: \", test_var)\n",
    "\n",
    "    \n",
    "#Call function:\n",
    "print_var()\n",
    "\n",
    "#Print global variable:\n",
    "print(\"global variable: \", test_var)"
   ]
  },
  {
   "cell_type": "markdown",
   "metadata": {},
   "source": [
    "<br>\n",
    "<br>\n",
    "<div style=\"text-align: right\"> \n",
    "    <a href=\"#local_and_global_var\">Local & Global Variables</a>\n",
    "</div>"
   ]
  },
  {
   "cell_type": "markdown",
   "metadata": {},
   "source": [
    "<a id='list_comprehensions_py'></a>\n",
    "<br>\n",
    "<br>"
   ]
  },
  {
   "cell_type": "markdown",
   "metadata": {},
   "source": [
    "## 9. List Comprehensions\n",
    "List comprehensions can be used to create lists from existent lists. This is a concise way to write code in Python. List comprehensions execute faster than simple functions with loops. The syntax for building a list comprehension is presented below:\n",
    "\n",
    "<br>\n",
    "<br>\n",
    "\n",
    "<img src=\"images/list_compr/list_comprehensions_py.png\" width=\"410\" align=\"center\">\n",
    "<br>\n",
    "<br>\n",
    "\n",
    "Here are some basic examples of list comprehensions."
   ]
  },
  {
   "cell_type": "markdown",
   "metadata": {},
   "source": [
    "<br>\n",
    "<br>\n",
    "<div style=\"text-align: right\"> \n",
    "    <a href=\"#toc\">Back to top</a>\n",
    "</div>"
   ]
  },
  {
   "cell_type": "code",
   "execution_count": null,
   "metadata": {},
   "outputs": [],
   "source": [
    "# Example 1 #\n",
    "\n",
    "#Create a list with 10 items with values from 0 to 9:\n",
    "list_1 = [i for i in range(10)]\n",
    "\n",
    "#Print results:\n",
    "print(type(list_1))\n",
    "print(list_1)"
   ]
  },
  {
   "cell_type": "code",
   "execution_count": null,
   "metadata": {},
   "outputs": [],
   "source": [
    "# Alternative code for Example 1 #\n",
    "\n",
    "#Create a list to store values:\n",
    "ls_1 = []\n",
    "\n",
    "\n",
    "#Loop through every value in a sequence:\n",
    "for num_1 in range(10):\n",
    "    \n",
    "    #Add current sequence value to list:\n",
    "    ls_1.append(num_1)\n",
    "\n",
    "    \n",
    "#Print result:\n",
    "print(ls_1)"
   ]
  },
  {
   "cell_type": "code",
   "execution_count": null,
   "metadata": {},
   "outputs": [],
   "source": [
    "# Example 2 #\n",
    "\n",
    "#Create a list that consists of even numbers that are squared:\n",
    "list_2 = [i**2 for i in range(10) if i%2==0]\n",
    "\n",
    "#Print result:\n",
    "print(list_2)"
   ]
  },
  {
   "cell_type": "code",
   "execution_count": null,
   "metadata": {},
   "outputs": [],
   "source": [
    "# Alternative code for Example 2 #\n",
    "\n",
    "#Create a list to store values:\n",
    "ls_2 = []\n",
    "\n",
    "\n",
    "#Loop through every value in a sequence:\n",
    "for num_2 in range(10):\n",
    "    \n",
    "    #Control if the current value is an even number:\n",
    "    if(num_2%2==0):\n",
    "        \n",
    "        #Store the squared value in the list:\n",
    "        ls_2.append(num_2**2)\n",
    "\n",
    "    \n",
    "#Print result:\n",
    "print(ls_2)"
   ]
  },
  {
   "cell_type": "code",
   "execution_count": null,
   "metadata": {},
   "outputs": [],
   "source": [
    "# Example 3 #\n",
    "\n",
    "#Create lists:\n",
    "list_a = [10, 30, 50, 70]\n",
    "list_b = [20, 40, 60, 80]\n",
    "\n",
    "#Create a list storing the sum of every item in a list with every separate item in another list:\n",
    "list_3 = [i1+i2 for i1 in list_a for i2 in list_b]\n",
    "\n",
    "#Print result:\n",
    "print(list_3)"
   ]
  },
  {
   "cell_type": "code",
   "execution_count": null,
   "metadata": {},
   "outputs": [],
   "source": [
    "# Alternative code for Example 3 #\n",
    "\n",
    "#Create a list to store values:\n",
    "ls_3 = []\n",
    "\n",
    "\n",
    "#Loop through every item in list_a:\n",
    "for i_1 in list_a:\n",
    "    \n",
    "    #Loop through every item in list_b:\n",
    "    for i_2 in list_b:\n",
    "        \n",
    "        #Add the sum of the current values of i_1 and i_2 to the list:\n",
    "        ls_3.append(i_1+i_2)\n",
    "\n",
    "    \n",
    "#Print result:\n",
    "print(ls_3)"
   ]
  },
  {
   "cell_type": "markdown",
   "metadata": {},
   "source": [
    "<br>\n",
    "<br>\n",
    "<div style=\"text-align: right\"> \n",
    "    <a href=\"#list_comprehensions_py\">List comprehensions intro</a>\n",
    "</div>"
   ]
  },
  {
   "cell_type": "markdown",
   "metadata": {},
   "source": [
    "<a id='numpy'></a>\n",
    "<br>\n",
    "<br>"
   ]
  }
 ],
 "metadata": {
  "kernelspec": {
   "display_name": "Python 3",
   "language": "python",
   "name": "python3"
  },
  "language_info": {
   "codemirror_mode": {
    "name": "ipython",
    "version": 3
   },
   "file_extension": ".py",
   "mimetype": "text/x-python",
   "name": "python",
   "nbconvert_exporter": "python",
   "pygments_lexer": "ipython3",
   "version": "3.7.6"
  }
 },
 "nbformat": 4,
 "nbformat_minor": 2
}
