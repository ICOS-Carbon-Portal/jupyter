{
 "cells": [
  {
   "cell_type": "markdown",
   "metadata": {},
   "source": [
    "## How to use the CarbonPortal Binary File extractor\n",
    "\n",
    "### This shows how to use the binary file access module. Not all the data is available, but in essence everything which is available in the \"preview\" on http://data.icos-cp.eu can be accessed and processed directly in python.\n"
   ]
  },
  {
   "cell_type": "code",
   "execution_count": null,
   "metadata": {},
   "outputs": [],
   "source": [
    "# python lib\n",
    "import matplotlib.pyplot as plt\n",
    "import pandas as pd\n",
    "from pandas.plotting import register_matplotlib_converters\n",
    "register_matplotlib_converters()\n",
    "from tqdm import tqdm"
   ]
  },
  {
   "cell_type": "markdown",
   "metadata": {},
   "source": [
    "###  ICOS specific libraries"
   ]
  },
  {
   "cell_type": "code",
   "execution_count": null,
   "metadata": {},
   "outputs": [],
   "source": [
    "#Import module:\n",
    "import sys\n",
    "\n",
    "#Set path to ICOS tools:\n",
    "sys.path.insert(0,'/data/project/pytools')\n",
    "\n",
    "#Import ICOS tools:\n",
    "from icoscp.sparql import sparqls\n",
    "from icoscp.cpb.cpbinfile import CpBinFile\n",
    "from icoscp.sparql.runsparql import RunSparql\n"
   ]
  },
  {
   "cell_type": "markdown",
   "metadata": {},
   "source": [
    "### Get a list of all Atmosphere CO2 level2 data objects"
   ]
  },
  {
   "cell_type": "code",
   "execution_count": null,
   "metadata": {},
   "outputs": [],
   "source": [
    "query = sparqls.atc_co2_level2()\n",
    "fmt = 'pandas'\n",
    "sparql = RunSparql(query, fmt)\n",
    "files = sparql.run()\n",
    "files"
   ]
  },
  {
   "cell_type": "markdown",
   "metadata": {},
   "source": [
    "### Lets see what columns are inside the \"first\" object. To extract data you need to have the persistent digital object identifier (PID). The \"files\" from above contain that link in the column 'dobj'"
   ]
  },
  {
   "cell_type": "code",
   "execution_count": null,
   "metadata": {},
   "outputs": [],
   "source": [
    "f = CpBinFile(files['dobj'][0])\n",
    "if f.valid:\n",
    "    print(f.colNames)\n",
    "else:\n",
    "    SystemExit('no binary data found', 0)"
   ]
  },
  {
   "cell_type": "markdown",
   "metadata": {},
   "source": [
    "### Extract the data as a pandas dataframe"
   ]
  },
  {
   "cell_type": "code",
   "execution_count": null,
   "metadata": {},
   "outputs": [],
   "source": [
    "data = f.getColumns() \n",
    "data"
   ]
  },
  {
   "cell_type": "markdown",
   "metadata": {},
   "source": [
    "### Extract the units from the metadata"
   ]
  },
  {
   "cell_type": "code",
   "execution_count": null,
   "metadata": {},
   "outputs": [],
   "source": [
    "time_idx = list(f.colNames).index('TIMESTAMP')\n",
    "time_unit = f.info[1].iloc[time_idx]['valueType']\n",
    "print('time: ' + time_unit)\n",
    "\n",
    "co2_idx = list(f.colNames).index('co2')\n",
    "co2_unit = f.info[1].iloc[co2_idx]['unit']\n",
    "print('co2: ' + co2_unit)"
   ]
  },
  {
   "cell_type": "markdown",
   "metadata": {},
   "source": [
    " ### Lets create a figure, to plot the co2 series  for the first object with proper labels and a moving window mean"
   ]
  },
  {
   "cell_type": "code",
   "execution_count": null,
   "metadata": {},
   "outputs": [],
   "source": [
    "fig1, ax1 = plt.subplots(figsize=(10,7))\n",
    "fig1.suptitle(\"CO2 data for one site \\n and a moving window mean  \")\n",
    "\n",
    "ax1.plot(data['TIMESTAMP'], data['co2'])\n",
    "\n",
    "# create a smoothed data series (moving window), with the mean of a month\n",
    "# if you look at the timestamps, you see each record is one hour, hence\n",
    "\n",
    "smooth =  data['co2'].ewm(span = 4*7*24).mean()   \n",
    "ax1.plot(data['TIMESTAMP'], smooth)\n",
    "\n",
    "# set the labels for x and y axis\n",
    "ax1.set_xlabel(time_unit)\n",
    "ax1.set_ylabel(co2_unit)\n",
    "\n",
    "plt.grid(True)\n",
    "plt.show()"
   ]
  },
  {
   "cell_type": "markdown",
   "metadata": {},
   "source": [
    "### Since we now know all about the files, loop through datasets and plot the smoothed data only\n"
   ]
  },
  {
   "cell_type": "code",
   "execution_count": null,
   "metadata": {
    "scrolled": true
   },
   "outputs": [],
   "source": [
    "fig2, ax2 = plt.subplots(figsize=(10,7))\n",
    "fig2.suptitle(\"Moving window mean for all datasets\")\n",
    "for dobjId in tqdm(files['dobj']):\n",
    "    f.dobj = dobjId\n",
    "    try:\n",
    "        data = f.getColumns(['TIMESTAMP','co2']) \n",
    "        data['TIMESTAMP'] = pd.to_datetime(data['TIMESTAMP'], unit='ms')\n",
    "        smooth =  data['co2'].ewm(span = 4*7*24).mean()   \n",
    "        ax2.plot(data['TIMESTAMP'], smooth)\n",
    "    except: \n",
    "        pass\n",
    "# set the labels for x and y axis\n",
    "ax2.set_xlabel(time_unit)\n",
    "ax2.set_ylabel(co2_unit)\n",
    "plt.grid(True)    "
   ]
  },
  {
   "cell_type": "code",
   "execution_count": null,
   "metadata": {},
   "outputs": [],
   "source": []
  }
 ],
 "metadata": {
  "kernelspec": {
   "display_name": "Python 3",
   "language": "python",
   "name": "python3"
  },
  "language_info": {
   "codemirror_mode": {
    "name": "ipython",
    "version": 3
   },
   "file_extension": ".py",
   "mimetype": "text/x-python",
   "name": "python",
   "nbconvert_exporter": "python",
   "pygments_lexer": "ipython3",
   "version": "3.7.6"
  }
 },
 "nbformat": 4,
 "nbformat_minor": 4
}
