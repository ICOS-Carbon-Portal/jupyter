{
 "cells": [
  {
   "cell_type": "markdown",
   "metadata": {},
   "source": [
    "## How to use the station module"
   ]
  },
  {
   "cell_type": "markdown",
   "metadata": {},
   "source": [
    "###  ICOS specific libraries"
   ]
  },
  {
   "cell_type": "code",
   "execution_count": 1,
   "metadata": {},
   "outputs": [],
   "source": [
    "###  ICOS specific libraries\n",
    "\n",
    "#Import module:\n",
    "import sys\n",
    "\n",
    "#Set path to ICOS tools:\n",
    "sys.path.insert(0,'/home/claudio/pytools')\n",
    "\n",
    "\n",
    "#Import ICOS tools:\n",
    "from icoscp.api import station\n"
   ]
  },
  {
   "cell_type": "code",
   "execution_count": 2,
   "metadata": {},
   "outputs": [],
   "source": [
    "myStation = station.get('JFJ')"
   ]
  },
  {
   "cell_type": "markdown",
   "metadata": {},
   "source": [
    "### Get information about a station, output format [ 'dict', 'json', 'list','pandas','html'] . Default is dict.\n",
    "\n",
    "#### TODO: add array of sampling heights for all associated products"
   ]
  },
  {
   "cell_type": "code",
   "execution_count": 3,
   "metadata": {},
   "outputs": [
    {
     "data": {
      "text/plain": [
       "{'stationId': 'JFJ',\n",
       " 'name': 'Jungfraujoch',\n",
       " 'theme': 'AS',\n",
       " 'icosclass': '1',\n",
       " 'lat': 46.5475,\n",
       " 'lon': 7.9851,\n",
       " 'eas': 3571.5,\n",
       " 'eag': 10.0,\n",
       " 'firstName': 'Markus',\n",
       " 'lastName': 'Leuenberger',\n",
       " 'email': 'leuenberger@climate.unibe.ch',\n",
       " 'country': 'CH',\n",
       " 'url': 'http://meta.icos-cp.eu/resources/stations/AS_JFJ'}"
      ]
     },
     "execution_count": 3,
     "metadata": {},
     "output_type": "execute_result"
    }
   ],
   "source": [
    "myStation.info()"
   ]
  },
  {
   "cell_type": "markdown",
   "metadata": {},
   "source": [
    "### All entries from info are Attributes, and can be used with dot notation"
   ]
  },
  {
   "cell_type": "code",
   "execution_count": 4,
   "metadata": {},
   "outputs": [
    {
     "data": {
      "text/plain": [
       "'http://meta.icos-cp.eu/resources/stations/AS_JFJ'"
      ]
     },
     "execution_count": 4,
     "metadata": {},
     "output_type": "execute_result"
    }
   ],
   "source": [
    "myStation.url"
   ]
  },
  {
   "cell_type": "markdown",
   "metadata": {},
   "source": [
    "### Data products for this station"
   ]
  },
  {
   "cell_type": "code",
   "execution_count": 5,
   "metadata": {},
   "outputs": [
    {
     "data": {
      "text/html": [
       "<div>\n",
       "<style scoped>\n",
       "    .dataframe tbody tr th:only-of-type {\n",
       "        vertical-align: middle;\n",
       "    }\n",
       "\n",
       "    .dataframe tbody tr th {\n",
       "        vertical-align: top;\n",
       "    }\n",
       "\n",
       "    .dataframe thead th {\n",
       "        text-align: right;\n",
       "    }\n",
       "</style>\n",
       "<table border=\"1\" class=\"dataframe\">\n",
       "  <thead>\n",
       "    <tr style=\"text-align: right;\">\n",
       "      <th></th>\n",
       "      <th>0</th>\n",
       "    </tr>\n",
       "  </thead>\n",
       "  <tbody>\n",
       "    <tr>\n",
       "      <th>0</th>\n",
       "      <td>InGOS CH4 Release</td>\n",
       "    </tr>\n",
       "    <tr>\n",
       "      <th>1</th>\n",
       "      <td>ICOS ATC MTO Release</td>\n",
       "    </tr>\n",
       "    <tr>\n",
       "      <th>2</th>\n",
       "      <td>ICOS ATC CO Release</td>\n",
       "    </tr>\n",
       "    <tr>\n",
       "      <th>3</th>\n",
       "      <td>ICOS ATC CO2 Release</td>\n",
       "    </tr>\n",
       "    <tr>\n",
       "      <th>4</th>\n",
       "      <td>ICOS ATC CH4 Release</td>\n",
       "    </tr>\n",
       "    <tr>\n",
       "      <th>5</th>\n",
       "      <td>ICOS ATC 14C Release</td>\n",
       "    </tr>\n",
       "    <tr>\n",
       "      <th>6</th>\n",
       "      <td>ICOS ATC NRT radon data csv time series</td>\n",
       "    </tr>\n",
       "    <tr>\n",
       "      <th>7</th>\n",
       "      <td>Drought 2018 Atmospheric Product</td>\n",
       "    </tr>\n",
       "    <tr>\n",
       "      <th>8</th>\n",
       "      <td>ICOS ATC NRT Meteo growing time series</td>\n",
       "    </tr>\n",
       "    <tr>\n",
       "      <th>9</th>\n",
       "      <td>ICOS ATC NRT CH4 growing time series</td>\n",
       "    </tr>\n",
       "    <tr>\n",
       "      <th>10</th>\n",
       "      <td>ICOS ATC NRT CO growing time series</td>\n",
       "    </tr>\n",
       "    <tr>\n",
       "      <th>11</th>\n",
       "      <td>ICOS ATC NRT CO2 growing time series</td>\n",
       "    </tr>\n",
       "  </tbody>\n",
       "</table>\n",
       "</div>"
      ],
      "text/plain": [
       "                                          0\n",
       "0                         InGOS CH4 Release\n",
       "1                      ICOS ATC MTO Release\n",
       "2                       ICOS ATC CO Release\n",
       "3                      ICOS ATC CO2 Release\n",
       "4                      ICOS ATC CH4 Release\n",
       "5                      ICOS ATC 14C Release\n",
       "6   ICOS ATC NRT radon data csv time series\n",
       "7          Drought 2018 Atmospheric Product\n",
       "8    ICOS ATC NRT Meteo growing time series\n",
       "9      ICOS ATC NRT CH4 growing time series\n",
       "10      ICOS ATC NRT CO growing time series\n",
       "11     ICOS ATC NRT CO2 growing time series"
      ]
     },
     "execution_count": 5,
     "metadata": {},
     "output_type": "execute_result"
    }
   ],
   "source": [
    "myStation.products()"
   ]
  },
  {
   "cell_type": "markdown",
   "metadata": {},
   "source": [
    "### DOBJ for station (filter by level), default 'None', returns all levels)\n",
    "\n",
    "#### TODO: add filter for obj spec, not implemented yet"
   ]
  },
  {
   "cell_type": "code",
   "execution_count": 6,
   "metadata": {
    "scrolled": true
   },
   "outputs": [
    {
     "data": {
      "text/html": [
       "<div>\n",
       "<style scoped>\n",
       "    .dataframe tbody tr th:only-of-type {\n",
       "        vertical-align: middle;\n",
       "    }\n",
       "\n",
       "    .dataframe tbody tr th {\n",
       "        vertical-align: top;\n",
       "    }\n",
       "\n",
       "    .dataframe thead th {\n",
       "        text-align: right;\n",
       "    }\n",
       "</style>\n",
       "<table border=\"1\" class=\"dataframe\">\n",
       "  <thead>\n",
       "    <tr style=\"text-align: right;\">\n",
       "      <th></th>\n",
       "      <th>station</th>\n",
       "      <th>dobj</th>\n",
       "      <th>spec</th>\n",
       "      <th>timeStart</th>\n",
       "      <th>timeEnd</th>\n",
       "      <th>specLabel</th>\n",
       "      <th>samplingheight</th>\n",
       "      <th>datalevel</th>\n",
       "    </tr>\n",
       "  </thead>\n",
       "  <tbody>\n",
       "    <tr>\n",
       "      <th>0</th>\n",
       "      <td>http://meta.icos-cp.eu/resources/stations/AS_JFJ</td>\n",
       "      <td>https://meta.icos-cp.eu/objects/F5LbbXnWZ9sW5O...</td>\n",
       "      <td>http://meta.icos-cp.eu/resources/cpmeta/ingosC...</td>\n",
       "      <td>2005-01-01T23:00:00Z</td>\n",
       "      <td>2015-06-01T23:00:00Z</td>\n",
       "      <td>InGOS CH4 Release</td>\n",
       "      <td>5.0</td>\n",
       "      <td>2</td>\n",
       "    </tr>\n",
       "    <tr>\n",
       "      <th>1</th>\n",
       "      <td>http://meta.icos-cp.eu/resources/stations/AS_JFJ</td>\n",
       "      <td>https://meta.icos-cp.eu/objects/VYuIXhTRbp8BqW...</td>\n",
       "      <td>http://meta.icos-cp.eu/resources/cpmeta/atcMto...</td>\n",
       "      <td>2016-12-12T00:00:00Z</td>\n",
       "      <td>2019-04-30T23:00:00Z</td>\n",
       "      <td>ICOS ATC MTO Release</td>\n",
       "      <td>2.0</td>\n",
       "      <td>2</td>\n",
       "    </tr>\n",
       "    <tr>\n",
       "      <th>2</th>\n",
       "      <td>http://meta.icos-cp.eu/resources/stations/AS_JFJ</td>\n",
       "      <td>https://meta.icos-cp.eu/objects/a1AibX_pMGXC8q...</td>\n",
       "      <td>http://meta.icos-cp.eu/resources/cpmeta/atcMto...</td>\n",
       "      <td>2016-12-12T00:00:00Z</td>\n",
       "      <td>2019-04-30T23:00:00Z</td>\n",
       "      <td>ICOS ATC MTO Release</td>\n",
       "      <td>1.0</td>\n",
       "      <td>2</td>\n",
       "    </tr>\n",
       "    <tr>\n",
       "      <th>3</th>\n",
       "      <td>http://meta.icos-cp.eu/resources/stations/AS_JFJ</td>\n",
       "      <td>https://meta.icos-cp.eu/objects/q9X0y36jPvNTKE...</td>\n",
       "      <td>http://meta.icos-cp.eu/resources/cpmeta/atcMto...</td>\n",
       "      <td>2016-12-12T00:00:00Z</td>\n",
       "      <td>2019-04-30T23:00:00Z</td>\n",
       "      <td>ICOS ATC MTO Release</td>\n",
       "      <td>10.0</td>\n",
       "      <td>2</td>\n",
       "    </tr>\n",
       "    <tr>\n",
       "      <th>4</th>\n",
       "      <td>http://meta.icos-cp.eu/resources/stations/AS_JFJ</td>\n",
       "      <td>https://meta.icos-cp.eu/objects/8KCIyFYh4ApWtG...</td>\n",
       "      <td>http://meta.icos-cp.eu/resources/cpmeta/atcCoL...</td>\n",
       "      <td>2016-12-12T00:00:00Z</td>\n",
       "      <td>2019-04-30T23:00:00Z</td>\n",
       "      <td>ICOS ATC CO Release</td>\n",
       "      <td>5.0</td>\n",
       "      <td>2</td>\n",
       "    </tr>\n",
       "    <tr>\n",
       "      <th>5</th>\n",
       "      <td>http://meta.icos-cp.eu/resources/stations/AS_JFJ</td>\n",
       "      <td>https://meta.icos-cp.eu/objects/CxSEgLqKrkG5L-...</td>\n",
       "      <td>http://meta.icos-cp.eu/resources/cpmeta/atcCo2...</td>\n",
       "      <td>2016-12-12T00:00:00Z</td>\n",
       "      <td>2019-04-30T23:00:00Z</td>\n",
       "      <td>ICOS ATC CO2 Release</td>\n",
       "      <td>5.0</td>\n",
       "      <td>2</td>\n",
       "    </tr>\n",
       "    <tr>\n",
       "      <th>6</th>\n",
       "      <td>http://meta.icos-cp.eu/resources/stations/AS_JFJ</td>\n",
       "      <td>https://meta.icos-cp.eu/objects/aGoZEbSFIu5JnF...</td>\n",
       "      <td>http://meta.icos-cp.eu/resources/cpmeta/atcCh4...</td>\n",
       "      <td>2016-12-12T00:00:00Z</td>\n",
       "      <td>2019-04-30T23:00:00Z</td>\n",
       "      <td>ICOS ATC CH4 Release</td>\n",
       "      <td>5.0</td>\n",
       "      <td>2</td>\n",
       "    </tr>\n",
       "    <tr>\n",
       "      <th>7</th>\n",
       "      <td>http://meta.icos-cp.eu/resources/stations/AS_JFJ</td>\n",
       "      <td>https://meta.icos-cp.eu/objects/0yDrKllpdGVPtM...</td>\n",
       "      <td>http://meta.icos-cp.eu/resources/cpmeta/atcC14...</td>\n",
       "      <td>2016-01-04T00:00:00Z</td>\n",
       "      <td>2018-07-16T00:00:00Z</td>\n",
       "      <td>ICOS ATC 14C Release</td>\n",
       "      <td>10.0</td>\n",
       "      <td>2</td>\n",
       "    </tr>\n",
       "    <tr>\n",
       "      <th>61</th>\n",
       "      <td>http://meta.icos-cp.eu/resources/stations/AS_JFJ</td>\n",
       "      <td>https://meta.icos-cp.eu/objects/NNrtd3T2c5V5gH...</td>\n",
       "      <td>http://meta.icos-cp.eu/resources/cpmeta/drough...</td>\n",
       "      <td>2009-12-31T23:00:00Z</td>\n",
       "      <td>2019-04-01T23:00:00Z</td>\n",
       "      <td>Drought 2018 Atmospheric Product</td>\n",
       "      <td>10.0</td>\n",
       "      <td>2</td>\n",
       "    </tr>\n",
       "  </tbody>\n",
       "</table>\n",
       "</div>"
      ],
      "text/plain": [
       "                                             station  \\\n",
       "0   http://meta.icos-cp.eu/resources/stations/AS_JFJ   \n",
       "1   http://meta.icos-cp.eu/resources/stations/AS_JFJ   \n",
       "2   http://meta.icos-cp.eu/resources/stations/AS_JFJ   \n",
       "3   http://meta.icos-cp.eu/resources/stations/AS_JFJ   \n",
       "4   http://meta.icos-cp.eu/resources/stations/AS_JFJ   \n",
       "5   http://meta.icos-cp.eu/resources/stations/AS_JFJ   \n",
       "6   http://meta.icos-cp.eu/resources/stations/AS_JFJ   \n",
       "7   http://meta.icos-cp.eu/resources/stations/AS_JFJ   \n",
       "61  http://meta.icos-cp.eu/resources/stations/AS_JFJ   \n",
       "\n",
       "                                                 dobj  \\\n",
       "0   https://meta.icos-cp.eu/objects/F5LbbXnWZ9sW5O...   \n",
       "1   https://meta.icos-cp.eu/objects/VYuIXhTRbp8BqW...   \n",
       "2   https://meta.icos-cp.eu/objects/a1AibX_pMGXC8q...   \n",
       "3   https://meta.icos-cp.eu/objects/q9X0y36jPvNTKE...   \n",
       "4   https://meta.icos-cp.eu/objects/8KCIyFYh4ApWtG...   \n",
       "5   https://meta.icos-cp.eu/objects/CxSEgLqKrkG5L-...   \n",
       "6   https://meta.icos-cp.eu/objects/aGoZEbSFIu5JnF...   \n",
       "7   https://meta.icos-cp.eu/objects/0yDrKllpdGVPtM...   \n",
       "61  https://meta.icos-cp.eu/objects/NNrtd3T2c5V5gH...   \n",
       "\n",
       "                                                 spec             timeStart  \\\n",
       "0   http://meta.icos-cp.eu/resources/cpmeta/ingosC...  2005-01-01T23:00:00Z   \n",
       "1   http://meta.icos-cp.eu/resources/cpmeta/atcMto...  2016-12-12T00:00:00Z   \n",
       "2   http://meta.icos-cp.eu/resources/cpmeta/atcMto...  2016-12-12T00:00:00Z   \n",
       "3   http://meta.icos-cp.eu/resources/cpmeta/atcMto...  2016-12-12T00:00:00Z   \n",
       "4   http://meta.icos-cp.eu/resources/cpmeta/atcCoL...  2016-12-12T00:00:00Z   \n",
       "5   http://meta.icos-cp.eu/resources/cpmeta/atcCo2...  2016-12-12T00:00:00Z   \n",
       "6   http://meta.icos-cp.eu/resources/cpmeta/atcCh4...  2016-12-12T00:00:00Z   \n",
       "7   http://meta.icos-cp.eu/resources/cpmeta/atcC14...  2016-01-04T00:00:00Z   \n",
       "61  http://meta.icos-cp.eu/resources/cpmeta/drough...  2009-12-31T23:00:00Z   \n",
       "\n",
       "                 timeEnd                         specLabel samplingheight  \\\n",
       "0   2015-06-01T23:00:00Z                 InGOS CH4 Release            5.0   \n",
       "1   2019-04-30T23:00:00Z              ICOS ATC MTO Release            2.0   \n",
       "2   2019-04-30T23:00:00Z              ICOS ATC MTO Release            1.0   \n",
       "3   2019-04-30T23:00:00Z              ICOS ATC MTO Release           10.0   \n",
       "4   2019-04-30T23:00:00Z               ICOS ATC CO Release            5.0   \n",
       "5   2019-04-30T23:00:00Z              ICOS ATC CO2 Release            5.0   \n",
       "6   2019-04-30T23:00:00Z              ICOS ATC CH4 Release            5.0   \n",
       "7   2018-07-16T00:00:00Z              ICOS ATC 14C Release           10.0   \n",
       "61  2019-04-01T23:00:00Z  Drought 2018 Atmospheric Product           10.0   \n",
       "\n",
       "   datalevel  \n",
       "0          2  \n",
       "1          2  \n",
       "2          2  \n",
       "3          2  \n",
       "4          2  \n",
       "5          2  \n",
       "6          2  \n",
       "7          2  \n",
       "61         2  "
      ]
     },
     "execution_count": 6,
     "metadata": {},
     "output_type": "execute_result"
    }
   ],
   "source": [
    "myStation.data(level=2)"
   ]
  },
  {
   "cell_type": "code",
   "execution_count": null,
   "metadata": {},
   "outputs": [],
   "source": []
  },
  {
   "cell_type": "markdown",
   "metadata": {},
   "source": [
    "### Extract all stations for Theme & Class\n",
    "### remember: the base information is from the labelling app for the moment"
   ]
  },
  {
   "cell_type": "code",
   "execution_count": 12,
   "metadata": {
    "scrolled": true
   },
   "outputs": [
    {
     "name": "stderr",
     "output_type": "stream",
     "text": [
      "100%|██████████| 131/131 [00:04<00:00, 26.89it/s]\n"
     ]
    }
   ],
   "source": [
    "stationList = station.getList(['as'])"
   ]
  },
  {
   "cell_type": "code",
   "execution_count": 13,
   "metadata": {},
   "outputs": [
    {
     "name": "stdout",
     "output_type": "stream",
     "text": [
      "ICOS Utö - Baltic sea\n",
      "Birkenes Observatory\n",
      "Zeppelin Observatory\n",
      "Monte Cimone\n",
      "Jungfraujoch\n",
      "Jungfraujoch\n",
      "Lampedusa\n",
      "Plateau Rosa\n",
      "Puy de Dome\n",
      "Saclay\n",
      "Trainou\n",
      "Hyltemossa\n",
      "Norunda\n",
      "Observatoire Pérenne de l'Environnement\n",
      "Pallas\n",
      "Lutjewad\n",
      "Puijo\n",
      "Cabauw\n",
      "SMEAR II-ICOS Hyytiälä\n",
      "Observatoire de l'Atmosphère du Maïdo\n",
      "Station Nord \n",
      "Weybourne Atmospheric Observatory\n",
      "Křešín u Pacova\n",
      "Ispra\n",
      "Weybourne Atmospheric Observatory\n",
      "Gartow\n",
      "Helgoland\n",
      "Hohenpeißenberg\n",
      "Lindenberg\n",
      "Karlsruhe\n",
      "Jülich\n",
      "Torfhaus\n",
      "Steinkimmen\n",
      "Ochsenkopf\n",
      "Schauinsland\n",
      "Westerland\n",
      "Zugspitze-Schneefernerhaus\n",
      "Svartberget\n"
     ]
    }
   ],
   "source": [
    "for s in stationList:\n",
    "    print(s.name)"
   ]
  },
  {
   "cell_type": "markdown",
   "metadata": {},
   "source": [
    "### Assuming we have folium installed, lets make a  simple  map with\n",
    "- individual icons for each theme\n",
    "- a popup window with the station information\n",
    "- country flag from the internet.\n",
    "\n",
    "#### It would be easy to add different basemaps, control layers, feature groups, etc, but that's out of scope for this demo."
   ]
  },
  {
   "cell_type": "code",
   "execution_count": 14,
   "metadata": {},
   "outputs": [],
   "source": [
    "import folium\n",
    "from folium.plugins import MarkerCluster"
   ]
  },
  {
   "cell_type": "code",
   "execution_count": 15,
   "metadata": {},
   "outputs": [],
   "source": [
    "mc = MarkerCluster()\n",
    "for s in stationList:\n",
    "    msg = ('<table><tr><td><img src=\"https://www.countryflags.io/'+ s.country +\n",
    "           '/shiny/64.png\"></td><td>' + s.info('html') +'</td></tr></table>')\n",
    "    marker = folium.Marker(location=[s.lat, s.lon], popup=msg)\n",
    "    if(s.theme == \"AS\"):        \n",
    "        marker.add_child(folium.Icon(color = 'lightblue', icon='cloud'))\n",
    "    if(s.theme == \"ES\"):\n",
    "        marker.add_child(folium.Icon(color = 'green', icon='leaf'))\n",
    "    if(s.theme == \"OS\"):\n",
    "        marker.add_child(folium.Icon(color = 'blue', icon='tint'))\n",
    "    mc.add_child(marker)"
   ]
  },
  {
   "cell_type": "code",
   "execution_count": 16,
   "metadata": {
    "scrolled": true
   },
   "outputs": [
    {
     "data": {
      "text/html": [
       "<div style=\"width:100%;\"><div style=\"position:relative;width:100%;height:0;padding-bottom:60%;\"><iframe src=\"data:text/html;charset=utf-8;base64,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\" style=\"position:absolute;width:100%;height:100%;left:0;top:0;border:none !important;\" allowfullscreen webkitallowfullscreen mozallowfullscreen></iframe></div></div>"
      ],
      "text/plain": [
       "<folium.folium.Map at 0x7f69fd532510>"
      ]
     },
     "execution_count": 16,
     "metadata": {},
     "output_type": "execute_result"
    }
   ],
   "source": [
    "# define the initinal paramters of centre point and zoom\n",
    "Center = [43, 5]\n",
    "Zoom = 4\n",
    "\n",
    "#create the map\n",
    "myMap = folium.Map(location=Center,zoom_start=Zoom,no_wrap=True, preferCanvas=True)\n",
    "#add the MarkerCluster\n",
    "myMap.add_child(mc)"
   ]
  },
  {
   "cell_type": "code",
   "execution_count": null,
   "metadata": {},
   "outputs": [],
   "source": []
  }
 ],
 "metadata": {
  "kernelspec": {
   "display_name": "Python 3",
   "language": "python",
   "name": "python3"
  },
  "language_info": {
   "codemirror_mode": {
    "name": "ipython",
    "version": 3
   },
   "file_extension": ".py",
   "mimetype": "text/x-python",
   "name": "python",
   "nbconvert_exporter": "python",
   "pygments_lexer": "ipython3",
   "version": "3.7.6"
  }
 },
 "nbformat": 4,
 "nbformat_minor": 4
}
