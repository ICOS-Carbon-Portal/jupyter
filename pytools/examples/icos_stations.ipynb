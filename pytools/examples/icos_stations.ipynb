{
 "cells": [
  {
   "cell_type": "markdown",
   "metadata": {},
   "source": [
    "## How to use the station module\n",
    "### This notebook demonstrates the station module"
   ]
  },
  {
   "cell_type": "markdown",
   "metadata": {},
   "source": [
    "###  ICOS specific libraries"
   ]
  },
  {
   "cell_type": "code",
   "execution_count": null,
   "metadata": {},
   "outputs": [],
   "source": [
    "###  ICOS specific libraries\n",
    "\n",
    "#Import module:\n",
    "import sys\n",
    "\n",
    "#Set path to ICOS tools:\n",
    "#sys.path.insert(0,'/data/project/pytools')\n",
    "sys.path.insert(0,'C:\\\\Users\\\\Claudio\\\\Documents\\\\GitHub\\\\ICOS-CP\\\\jupyter\\\\pytools')\n",
    "\n",
    "#Import ICOS tools:\n",
    "from icoscp.api import station\n"
   ]
  },
  {
   "cell_type": "code",
   "execution_count": null,
   "metadata": {},
   "outputs": [],
   "source": [
    "stationList = station.getStationList()"
   ]
  },
  {
   "cell_type": "markdown",
   "metadata": {},
   "source": [
    "#### Get all information about a station with the following command (output format can be controlled with ('dict'), ('json') ('list')('pandas')('html'). Default is dict.\n",
    "> stationList[1].getInfo()"
   ]
  },
  {
   "cell_type": "code",
   "execution_count": null,
   "metadata": {},
   "outputs": [],
   "source": [
    "station = stationList[2]\n",
    "station.getInfo('pandas')"
   ]
  },
  {
   "cell_type": "markdown",
   "metadata": {},
   "source": [
    "#### Get a single attribute from a station:"
   ]
  },
  {
   "cell_type": "code",
   "execution_count": null,
   "metadata": {},
   "outputs": [],
   "source": [
    "station.email"
   ]
  },
  {
   "cell_type": "markdown",
   "metadata": {},
   "source": [
    "#### Assuming we have folium installed, lets make a map with individual icons for each theme"
   ]
  },
  {
   "cell_type": "code",
   "execution_count": null,
   "metadata": {},
   "outputs": [],
   "source": [
    "import folium\n",
    "from folium.plugins import MarkerCluster"
   ]
  },
  {
   "cell_type": "code",
   "execution_count": null,
   "metadata": {},
   "outputs": [],
   "source": [
    "mc = MarkerCluster()\n",
    "for s in stationList:\n",
    "    marker = folium.Marker(location=[s.lat, s.lon], popup=s.getInfo('html'))\n",
    "    if(s.theme == \"AS\"):        \n",
    "        marker.add_child(folium.Icon(color = 'lightblue', icon='cloud'))\n",
    "    if(s.theme == \"ES\"):\n",
    "        marker.add_child(folium.Icon(color = 'green', icon='leaf'))\n",
    "    if(s.theme == \"OS\"):\n",
    "        marker.add_child(folium.Icon(color = 'blue', icon='tint'))\n",
    "    mc.add_child(marker)"
   ]
  },
  {
   "cell_type": "code",
   "execution_count": null,
   "metadata": {},
   "outputs": [],
   "source": [
    "# define the initinal paramters of centre point and zoom\n",
    "Center = [43, 5]\n",
    "Zoom = 4\n",
    "\n",
    "#create the map\n",
    "myMap = folium.Map(location=Center,zoom_start=Zoom,no_wrap=True, preferCanvas=True)\n",
    "#add the MarkerCluster\n",
    "myMap.add_child(mc)"
   ]
  },
  {
   "cell_type": "code",
   "execution_count": null,
   "metadata": {},
   "outputs": [],
   "source": []
  }
 ],
 "metadata": {
  "kernelspec": {
   "display_name": "Python 3",
   "language": "python",
   "name": "python3"
  },
  "language_info": {
   "codemirror_mode": {
    "name": "ipython",
    "version": 3
   },
   "file_extension": ".py",
   "mimetype": "text/x-python",
   "name": "python",
   "nbconvert_exporter": "python",
   "pygments_lexer": "ipython3",
   "version": "3.7.6"
  }
 },
 "nbformat": 4,
 "nbformat_minor": 4
}
