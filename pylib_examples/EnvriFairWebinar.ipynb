{
 "cells": [
  {
   "cell_type": "markdown",
   "metadata": {},
   "source": [
    "<img src=\"img/logo.svg\" width=\"400\" align=\"right\"> \n",
    "### ICOS Carbon Portal Python Library<br>Hands on for EnvriFair Webinar\n",
    "\n",
    "<br><hr>\n",
    "Full documentation for the ICOS library on the [project page](https://icos-carbon-portal.github.io/pylib/), how to install and wheel on [pypi.org](https://pypi.org/project/icoscp/\"), source available on [github](https://github.com/ICOS-Carbon-Portal/pylib).\n",
    "<hr>"
   ]
  },
  {
   "cell_type": "code",
   "execution_count": null,
   "metadata": {},
   "outputs": [],
   "source": [
    "# import some standard libraries\n",
    "import folium\n",
    "import matplotlib.pyplot as plt\n",
    "%matplotlib inline\n",
    "\n",
    "# import ICOS library\n",
    "from icoscp.cpb.dobj import Dobj"
   ]
  },
  {
   "cell_type": "markdown",
   "metadata": {},
   "source": [
    "### An example to load an ICOS data set\n",
    "\n",
    "This example shows how to load a dataset from the ICOS Carbon Portal **Ocean Domain**. The data was obtained from a ship traveling from Europe to Brazil. We will plot the water temperature over time and a map to show where the data was collected."
   ]
  },
  {
   "cell_type": "markdown",
   "metadata": {},
   "source": [
    "### Loading data from ICOS\n",
    "You need to know the PID from the data portal. Go to https://data.icos-cp.eu to find more datasets from the Ocean Thematic Centre..."
   ]
  },
  {
   "cell_type": "code",
   "execution_count": null,
   "metadata": {},
   "outputs": [],
   "source": [
    "dobj = Dobj('https://meta.icos-cp.eu/objects/xgu4rfCmqvXb4w1wGGD6mYsB')\n",
    "data = dobj.get()\n",
    "\n",
    "# dobj2 =\n",
    "# data2 = "
   ]
  },
  {
   "cell_type": "markdown",
   "metadata": {},
   "source": [
    "### Lets have a look at the data\n",
    "or actually the first three rows with .head(3)"
   ]
  },
  {
   "cell_type": "code",
   "execution_count": null,
   "metadata": {},
   "outputs": [],
   "source": [
    "data.head(3)"
   ]
  },
  {
   "cell_type": "markdown",
   "metadata": {},
   "source": [
    "### Calculate the water temperature mean for this campaign"
   ]
  },
  {
   "cell_type": "code",
   "execution_count": null,
   "metadata": {},
   "outputs": [],
   "source": [
    "data['Temp [degC]'].mean()"
   ]
  },
  {
   "cell_type": "markdown",
   "metadata": {},
   "source": [
    "### Plotting water temperature\n",
    "Now we can plot the water temperature from both campaigns into one plot. You will see the rise in temperature while traveling through the equator."
   ]
  },
  {
   "cell_type": "code",
   "execution_count": null,
   "metadata": {},
   "outputs": [],
   "source": [
    "plt.figure(figsize=(12,12))\n",
    "ax = plt.axes()\n",
    "data.plot(x='TIMESTAMP', y='Temp [degC]',ax=ax,linestyle='None', marker='.',grid='on',legend=True)\n",
    "# data2.plot...\n",
    "plt.show()"
   ]
  },
  {
   "cell_type": "markdown",
   "metadata": {},
   "source": [
    "### To make more sense, of the data plot, we probably want to get a map\n",
    "Using folium, which is the python interface to leaflet, we get a zoomable map, we can add different basemaps etc."
   ]
  },
  {
   "cell_type": "code",
   "execution_count": null,
   "metadata": {},
   "outputs": [],
   "source": [
    "import folium\n",
    "#extract the cooridnates from both datasets\n",
    "data_coord = list(zip(data.Latitude, data.Longitude))\n",
    "\n",
    "#data2_coord =\n",
    "\n",
    "#create the map with two layers of tiles\n",
    "myMap = folium.Map(location=[20, 0], zoom_start=2)\n",
    "folium.TileLayer('openstreetmap').add_to(myMap)\n",
    "folium.TileLayer('stamenterrain').add_to(myMap)\n",
    "\n",
    "# add dataframe coordinates\n",
    "folium.PolyLine(locations = data_coord,color='red').add_to(myMap)\n",
    "\n",
    "folium.LayerControl().add_to(myMap)\n",
    "myMap"
   ]
  },
  {
   "cell_type": "markdown",
   "metadata": {},
   "source": [
    "# Citation for the data set?  =  easy"
   ]
  },
  {
   "cell_type": "code",
   "execution_count": null,
   "metadata": {
    "scrolled": true
   },
   "outputs": [],
   "source": [
    "dobj.citation"
   ]
  },
  {
   "cell_type": "code",
   "execution_count": null,
   "metadata": {},
   "outputs": [],
   "source": []
  }
 ],
 "metadata": {
  "kernelspec": {
   "display_name": "Python 3",
   "language": "python",
   "name": "python3"
  },
  "language_info": {
   "codemirror_mode": {
    "name": "ipython",
    "version": 3
   },
   "file_extension": ".py",
   "mimetype": "text/x-python",
   "name": "python",
   "nbconvert_exporter": "python",
   "pygments_lexer": "ipython3",
   "version": "3.8.4"
  }
 },
 "nbformat": 4,
 "nbformat_minor": 2
}
