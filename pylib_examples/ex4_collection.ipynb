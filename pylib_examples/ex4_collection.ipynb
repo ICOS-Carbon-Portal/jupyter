{
 "cells": [
  {
   "cell_type": "markdown",
   "metadata": {},
   "source": [
    "<img src=\"img/logo.svg\" width=\"400\" align=\"right\"> \n",
    "### ICOS Carbon Portal Python Library<br><br>Example: Access data and meta data\n",
    "\n",
    "<br><hr>\n",
    "Full documentation for the library on the [project page](https://icos-carbon-portal.github.io/pylib/), how to install and wheel on [pypi.org](https://pypi.org/project/icoscp/\"), source available on [github](https://github.com/ICOS-Carbon-Portal/pylib)\n",
    "<hr>"
   ]
  },
  {
   "cell_type": "markdown",
   "metadata": {},
   "source": [
    "### Import the library"
   ]
  },
  {
   "cell_type": "code",
   "execution_count": null,
   "metadata": {},
   "outputs": [],
   "source": [
    "#icos library for collection\n",
    "from icoscp.collection import collection\n",
    "\n",
    "# bokeh for plotting the data\n",
    "from bokeh.plotting import figure, show\n",
    "from bokeh.layouts import gridplot, column, row\n",
    "from bokeh.io import output_notebook\n",
    "from bokeh.models import Div\n",
    "output_notebook()"
   ]
  },
  {
   "cell_type": "markdown",
   "metadata": {},
   "source": [
    "### Get a list of all collections available \n",
    "#### Please pay close attention to the 'count' column. This is the amount of data files included in the collection. <br>We have collections with a LOT of files...."
   ]
  },
  {
   "cell_type": "code",
   "execution_count": null,
   "metadata": {},
   "outputs": [],
   "source": [
    "cl = collection.getIdList()\n",
    "cl"
   ]
  },
  {
   "cell_type": "markdown",
   "metadata": {},
   "source": [
    "### Create a collection object, containing the metadata and data"
   ]
  },
  {
   "cell_type": "code",
   "execution_count": null,
   "metadata": {},
   "outputs": [],
   "source": [
    "coll = collection.get('10.18160/r963-j906')"
   ]
  },
  {
   "cell_type": "markdown",
   "metadata": {},
   "source": [
    "### An overview for the collection is available with coll.info(). More attributes are available [data, datalink, getCitation()], check it out in the [documentation](https://icos-carbon-portal.github.io/pylib/modules#collection)."
   ]
  },
  {
   "cell_type": "code",
   "execution_count": null,
   "metadata": {},
   "outputs": [],
   "source": [
    "# by default returns a dict, but you can get html or a pandas data frame with coll.info('html'), coll.info('pandas')\n",
    "coll.info()"
   ]
  },
  {
   "cell_type": "markdown",
   "metadata": {},
   "source": [
    "### Lets create a plot to compare CO, CO2, and CH4, data provided by collection. The plot is interactive (the toolbar is on the top right) and the x-axes are linked. So if you zoom in in one plot, all three plots are zoomed.<br> As a title we use meta data provided from the collection"
   ]
  },
  {
   "cell_type": "code",
   "execution_count": null,
   "metadata": {},
   "outputs": [],
   "source": [
    "# create subplots\n",
    "\n",
    "s1 = figure(plot_width=300, plot_height=300, title='CH4', x_axis_type='datetime',y_axis_label='nmol mol-1')\n",
    "s1.circle(coll.data[1].data.TIMESTAMP, coll.data[1].data.ch4, size=1, color=\"navy\", alpha=0.3)\n",
    "\n",
    "s2 = figure(plot_width=300, plot_height=300, title='CO', x_axis_type='datetime',x_range=s1.x_range,y_axis_label='nmol mol-1')\n",
    "s2.circle(coll.data[2].data.TIMESTAMP, coll.data[2].data.co, size=1, color=\"navy\", alpha=0.3)\n",
    "\n",
    "s3 = figure(plot_width=300, plot_height=300, title='CO2', x_axis_type='datetime',x_range=s1.x_range,y_axis_label='umol mol-1')\n",
    "s3.circle(coll.data[3].data.TIMESTAMP, coll.data[3].data.co2, size=1, color=\"navy\", alpha=0.3)\n",
    "\n",
    "p = gridplot([[s1, s2, s3]])\n",
    "\n",
    "# show the results\n",
    "\n",
    "show(column(Div(text='<h2>'+coll.title+'</h2><br>'+coll.description+'<br>'+coll.citation),p))"
   ]
  },
  {
   "cell_type": "code",
   "execution_count": null,
   "metadata": {},
   "outputs": [],
   "source": []
  }
 ],
 "metadata": {
  "kernelspec": {
   "display_name": "Python 3",
   "language": "python",
   "name": "python3"
  },
  "language_info": {
   "codemirror_mode": {
    "name": "ipython",
    "version": 3
   },
   "file_extension": ".py",
   "mimetype": "text/x-python",
   "name": "python",
   "nbconvert_exporter": "python",
   "pygments_lexer": "ipython3",
   "version": "3.8.1"
  }
 },
 "nbformat": 4,
 "nbformat_minor": 4
}
