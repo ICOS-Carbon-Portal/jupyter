{
 "cells": [
  {
   "cell_type": "markdown",
   "id": "ceramic-auction",
   "metadata": {},
   "source": [
    "# PID4NB wizard for ICOS notebooks"
   ]
  },
  {
   "cell_type": "code",
   "execution_count": 1,
   "id": "danish-religion",
   "metadata": {},
   "outputs": [],
   "source": [
    "#Import module:\n",
    "from pid4nb.wizard import wizard"
   ]
  },
  {
   "cell_type": "code",
   "execution_count": 2,
   "id": "found-clinton",
   "metadata": {
    "scrolled": false
   },
   "outputs": [
    {
     "data": {
      "application/vnd.jupyter.widget-view+json": {
       "model_id": "4c7a176e9f4146bca5424307c0171802",
       "version_major": 2,
       "version_minor": 0
      },
      "text/plain": [
       "VBox(children=(Output(), Output()))"
      ]
     },
     "metadata": {},
     "output_type": "display_data"
    }
   ],
   "source": [
    "#Call function to display wizard:\n",
    "wizard()"
   ]
  },
  {
   "cell_type": "code",
   "execution_count": 3,
   "id": "classical-composition",
   "metadata": {},
   "outputs": [],
   "source": [
    "#Example ORCiDs for testing:\n",
    "#0000-0003-0081-7814, 0000-0002-8985-7742, 0000-0002-1982-3889, 0000-0002-4154-2610, 0000-0002-8158-8787\n",
    "#https://orcid.org/0000-0002-1982-3889"
   ]
  },
  {
   "cell_type": "markdown",
   "id": "interim-investing",
   "metadata": {},
   "source": [
    "<br>\n",
    "<br>\n",
    "\n",
    "## View output JSON file"
   ]
  },
  {
   "cell_type": "code",
   "execution_count": null,
   "id": "obvious-advocate",
   "metadata": {},
   "outputs": [],
   "source": [
    "import json\n",
    "\n",
    "with open('PPFD/metafile.json') as json_file:\n",
    "    data = json.load(json_file)\n",
    "    \n",
    "data"
   ]
  },
  {
   "cell_type": "markdown",
   "id": "different-building",
   "metadata": {},
   "source": [
    "<br>\n",
    "<br>\n",
    "<br>"
   ]
  }
 ],
 "metadata": {
  "kernelspec": {
   "display_name": "Python 3",
   "language": "python",
   "name": "python3"
  },
  "language_info": {
   "codemirror_mode": {
    "name": "ipython",
    "version": 3
   },
   "file_extension": ".py",
   "mimetype": "text/x-python",
   "name": "python",
   "nbconvert_exporter": "python",
   "pygments_lexer": "ipython3",
   "version": "3.8.5"
  },
  "toc": {
   "base_numbering": 1,
   "nav_menu": {},
   "number_sections": true,
   "sideBar": true,
   "skip_h1_title": false,
   "title_cell": "Table of Contents",
   "title_sidebar": "Contents",
   "toc_cell": false,
   "toc_position": {},
   "toc_section_display": true,
   "toc_window_display": false
  }
 },
 "nbformat": 4,
 "nbformat_minor": 5
}
