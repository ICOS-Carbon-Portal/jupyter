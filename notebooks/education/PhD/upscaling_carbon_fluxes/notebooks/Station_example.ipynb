{
 "cells": [
  {
   "cell_type": "markdown",
   "metadata": {},
   "source": [
    "<img src=\"../ancillarydata/logos/LundUniversity_C2line_RGB.png\" width=\"150\" align=\"left\"/>\n",
    "<br>\n",
    "<img src=\"../ancillarydata/logos/Icos_Logo_CMYK_Regular_SMpng.png\" width=\"327\" align=\"right\"/>\n",
    "<br>"
   ]
  },
  {
   "cell_type": "markdown",
   "metadata": {},
   "source": [
    "<br>\n",
    "\n",
    "# <font color=#B98F57>Notebook developed for the purposes of a PhD course titled</font>\n",
    "### <font color=#000083>From CO$_2$ in situ measurements to carbon balance maps as a tool to support national carbon accounting</font>\n",
    "\n",
    "<br>\n",
    "\n",
    "<meta content=\"text/html; charset=UTF-8\">\n",
    "\n",
    "<style>td{padding: 3px;}\n",
    "</style>\n",
    "\n",
    "<table style=\"width: 100%\">\n",
    "    <colgroup>\n",
    "        <col span=\"1\" style=\"width: 17%;\">\n",
    "        <col span=\"1\" style=\"width: 83%;\">\n",
    "    </colgroup>\n",
    "    <tr>\n",
    "        <th><font size=\"2\">Organized by:</font></th>\n",
    "        <td>\n",
    "            <div style=\"float:left;\">\n",
    "                <font size=\"2\">\n",
    "                    The PhD course was held by the dept. of Physcial Geography and Ecosystem Science at Lund University and<br>supported by ICOS Carbon Portal, ICOS Sweden and Lund University ClimBEco Graduate Research School.\n",
    "                </font>\n",
    "            </div>\n",
    "        </td>\n",
    "    </tr>\n",
    "    <tr>\n",
    "        <th><font size=\"2\">Course dates:</font></th>\n",
    "        <td><div style=\"float:left;\"><font size=\"2\">March 9th 2020 - March 13th 2020</font></div></td>\n",
    "    </tr>\n",
    "    <tr>\n",
    "        <th><font size=\"2\">Location:</font></th>\n",
    "        <td><div style=\"float:left;\"><font size=\"2\">Lund, Sweden</font></div></td>\n",
    "    </tr>\n",
    "    <tr>\n",
    "        <th><font size=\"2\">Code developed by:</font></th>\n",
    "        <td><div style=\"float:left;\"><font size=\"2\">Karolina Pantazatou & Claudio D' Onofrio</font></div></td>\n",
    "    </tr>\n",
    "</table>\n",
    "</font>\n",
    "<br>\n",
    "<br>\n"
   ]
  },
  {
   "cell_type": "markdown",
   "metadata": {},
   "source": [
    "# Station Class - Example"
   ]
  },
  {
   "cell_type": "code",
   "execution_count": null,
   "metadata": {
    "scrolled": false
   },
   "outputs": [],
   "source": [
    "#from tools import read_fluxnet_dd, read_fluxnet_hh\n",
    "%run ./tools.ipynb"
   ]
  },
  {
   "cell_type": "markdown",
   "metadata": {},
   "source": [
    "Use the following variables as input parameters to the function that reads LPJ-GUESS output:\n",
    "\n",
    "LPJ-GUESS Vegetation Types:\n",
    "- coniferous\n",
    "- deciduous\n",
    "- grass_wet_crop\n",
    "- pnv\n",
    "\n",
    "LPJ-GUES Ecosystem Variables:\n",
    "- gpp\n",
    "- npp\n",
    "- nee\n",
    "- rtot\n",
    "- prec\n",
    "- swrad\n",
    "- temp"
   ]
  },
  {
   "cell_type": "code",
   "execution_count": null,
   "metadata": {
    "scrolled": false
   },
   "outputs": [],
   "source": [
    "#Create station obj from Station class:\n",
    "loobos = Station('Loo', 'gpp')\n",
    "\n",
    "#Show station info:\n",
    "loobos.info"
   ]
  },
  {
   "cell_type": "code",
   "execution_count": null,
   "metadata": {
    "scrolled": false
   },
   "outputs": [],
   "source": [
    "#Read LPJ-data to a Pandas DataFrame and store in station obj:\n",
    "loobos.lpj=read_lpjguess_st('conif', 'gpp', 'Loo')\n",
    "\n",
    "#Show DataFrame:\n",
    "loobos.lpj"
   ]
  },
  {
   "cell_type": "code",
   "execution_count": null,
   "metadata": {
    "scrolled": false
   },
   "outputs": [],
   "source": [
    "#Plot LPJ-data for station obj:\n",
    "loobos.lpj.plot(x='time', y='Value', figsize=(20,5))"
   ]
  },
  {
   "cell_type": "code",
   "execution_count": null,
   "metadata": {
    "scrolled": false
   },
   "outputs": [],
   "source": [
    "#Read FLUXNET-data:\n",
    "loobos.fluxnet=read_fluxnet_dd(\"/data/project/climbeco/data/fluxnet/obs_dd/\" , 'Loo')\n",
    "\n",
    "#Show DataFrame:\n",
    "loobos.fluxnet"
   ]
  },
  {
   "cell_type": "code",
   "execution_count": null,
   "metadata": {
    "scrolled": false
   },
   "outputs": [],
   "source": [
    "#Plot FLUXNET-data for station obj:\n",
    "loobos.fluxnet.plot(x='TIMESTAMP', y='GPP_DT_VUT_MEAN', figsize=(20,5))"
   ]
  },
  {
   "cell_type": "code",
   "execution_count": null,
   "metadata": {
    "scrolled": false
   },
   "outputs": [],
   "source": [
    "#Add grid:\n",
    "plt.style.use('seaborn-whitegrid')\n",
    "\n",
    "#Create a plot (i.e. \"figure\") object and set the size of your plot:\n",
    "fig = plt.figure(figsize=(15, 6))\n",
    "\n",
    "#Add plot title:\n",
    "plt.title('GPP - FLUXNET TIMESERIES (daily values)')\n",
    "\n",
    "#Plot values for Hyltemossa:\n",
    "plt.plot(loobos.lpj.time, loobos.lpj.Value*1000,\n",
    "         linestyle = 'dotted', linewidth = 0.5, color = 'blue',\n",
    "         label = 'Loobos - LPJ')\n",
    "\n",
    "#Plot values for Lanna:\n",
    "plt.plot(loobos.fluxnet.TIMESTAMP, loobos.fluxnet.GPP_DT_VUT_MEAN,\n",
    "         linestyle = 'dotted', linewidth = 0.5, color = 'darkgreen',\n",
    "         label = 'Loobos -FLUXNET')\n",
    "\n",
    "\n",
    "\n",
    "#Add x-axis label:\n",
    "plt.xlabel('Time')\n",
    "\n",
    "#Add y-axis label:\n",
    "plt.ylabel('GPP (gC / m2 / d)')\n",
    "\n",
    "#Add legend:\n",
    "plt.legend(bbox_to_anchor=(1.05, 1), loc='upper left', borderaxespad=0.)\n",
    "\n",
    "#Show plot:\n",
    "plt.show()"
   ]
  },
  {
   "cell_type": "markdown",
   "metadata": {},
   "source": [
    "<br>\n",
    "<br>\n",
    "<br>\n",
    "<br>\n",
    "<br>\n",
    "<br>"
   ]
  }
 ],
 "metadata": {
  "kernelspec": {
   "display_name": "Python 3",
   "language": "python",
   "name": "python3"
  },
  "language_info": {
   "codemirror_mode": {
    "name": "ipython",
    "version": 3
   },
   "file_extension": ".py",
   "mimetype": "text/x-python",
   "name": "python",
   "nbconvert_exporter": "python",
   "pygments_lexer": "ipython3",
   "version": "3.8.4"
  }
 },
 "nbformat": 4,
 "nbformat_minor": 4
}
