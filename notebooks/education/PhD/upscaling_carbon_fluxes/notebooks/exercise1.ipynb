{
 "cells": [
  {
   "cell_type": "markdown",
   "metadata": {},
   "source": [
    "<img src=\"../ancillarydata/logos/LundUniversity_C2line_RGB.png\" width=\"150\" align=\"left\"/>\n",
    "<br>\n",
    "<img src=\"../ancillarydata/logos/Icos_Logo_CMYK_Regular_SMpng.png\" width=\"327\" align=\"right\"/>\n",
    "<br>"
   ]
  },
  {
   "cell_type": "markdown",
   "metadata": {},
   "source": [
    "\n",
    "<br>\n",
    "\n",
    "# <font color=#B98F57>Exercises taken from a PhD course titled</font>\n",
    "### <font color=#000083>From CO$_2$ in situ measurements to carbon balance maps as a tool to support national carbon accounting</font>\n",
    "\n",
    "<br>\n",
    "\n",
    "<meta content=\"text/html; charset=UTF-8\">\n",
    "\n",
    "<style>td{padding: 3px;}\n",
    "</style>\n",
    "\n",
    "<table style=\"width: 100%\">\n",
    "    <colgroup>\n",
    "        <col span=\"1\" style=\"width: 17%;\">\n",
    "        <col span=\"1\" style=\"width: 83%;\">\n",
    "    </colgroup>\n",
    "    <tr>\n",
    "        <th><font size=\"2\">Organized by:</font></th>\n",
    "        <td>\n",
    "            <div style=\"float:left;\">\n",
    "                <font size=\"2\">\n",
    "                    The PhD course was held by the dept. of Physcial Geography and Ecosystem Science at Lund University and<br>supported by ICOS Carbon Portal, ICOS Sweden and Lund University ClimBEco Graduate Research School.\n",
    "                </font>\n",
    "            </div>\n",
    "        </td>\n",
    "    </tr>\n",
    "    <tr>\n",
    "        <th><font size=\"2\">Course dates:</font></th>\n",
    "        <td><div style=\"float:left;\"><font size=\"2\">March 9th 2020 - March 13th 2020</font></div></td>\n",
    "    </tr>\n",
    "    <tr>\n",
    "        <th><font size=\"2\">Location:</font></th>\n",
    "        <td><div style=\"float:left;\"><font size=\"2\">Lund, Sweden</font></div></td>\n",
    "    </tr>\n",
    "    <tr>\n",
    "        <th><font size=\"2\">Exercise developed by:</font></th>\n",
    "        <td><div style=\"float:left;\"><font size=\"2\">Karolina Pantazatou & Claudio D' Onofrio</font></div></td>\n",
    "    </tr>\n",
    "    <tr>\n",
    "        <th><font size=\"2\">Data references:</font></th>\n",
    "        <td><div style=\"float:left;\"><font size=\"2\">For more information regarding the datasets used in this exercise please click on the <a href=\"#data_ref\">link</a>.</font></div></td>\n",
    "    </tr>\n",
    "</table>\n",
    "</font>\n",
    "<br>\n",
    "<br>\n",
    "\n",
    "\n"
   ]
  },
  {
   "cell_type": "markdown",
   "metadata": {},
   "source": [
    "<a id=\"intro\"></a>\n",
    "<br>\n",
    "<br>\n",
    "\n",
    "\n",
    "# <font color=#800000> Exercise 1</font>  \n",
    "## _Intro to Jupyter Notebooks using ICOS/FLUXNET data_\n",
    "<br> \n",
    "\n",
    "In this exercise you will learn how to read data from csv-files to Pandas DataFrames (i.e. two-dimensional arrays) using Python. You will also learn how to process data in your Pandas DataFrame and create static plots with Matplotlib. You will then be able to use the these tools to statisitcally compare measurements from different stations in northern Europe. Follow the [link](https://www.kirschbaum.id.au/definitions.pdf) to get a quick overview over how NPP, GPP and Respiration are defined and related.\n",
    "\n",
    "The exercise includes the following tasks:\n",
    "\n",
    "- [Read data from csv into a Pandas DataFrame](#import_data)\n",
    "\n",
    "\n",
    "- [Create plot with Matplotlib](#create_plot)\n",
    "    \n",
    "    - [Plot single variable](#plot_single_var)\n",
    "    \n",
    "    - [Plot two variables](#plot_two_var)\n",
    "\n",
    "\n",
    "- [Format plot parameters](#plot_param)\n",
    "\n",
    "\n",
    "- [Compare variables from different stations](#compare_var)\n",
    "\n",
    "\n",
    "- [Calculate statistics](#calc_stat)\n",
    "\n"
   ]
  },
  {
   "cell_type": "markdown",
   "metadata": {},
   "source": [
    "<a id=\"import_data\"></a>"
   ]
  },
  {
   "cell_type": "markdown",
   "metadata": {},
   "source": [
    "### <font color='#B22222'>Task 1</font> - Import data from csv \n",
    "Read the FLUXNET data for a specific ICOS station and save it to a Pandas DataFrame. <br>\n",
    "There are two ways to do this: <br>\n",
    "1. Read data from a FLUXNET csv-file to a Pandas DataFrame using the example below.\n",
    "\n",
    "```python\n",
    "    pd.read_csv(\"/data/project/climbeco/data/fluxnet/obs_dd/FLX_SE-Htm_DD_2015_2018.csv\",\n",
    "                header = 0,\n",
    "                sep = \",\",\n",
    "                parse_dates = [\"TIMESTAMP\"])```\n",
    "\n",
    "\n",
    "2. Use the pre-prepared functions (*dd* for daily values, *hh* for half hourly values):\n",
    "    - ```python\n",
    "         read_fluxnet_dd(path, station_code)\n",
    "         \n",
    "         #example\n",
    "         read_fluxnet_dd(path_fluxnet_dd, 'Htm')\n",
    "         ```      \n",
    "    \n",
    "    - ```python\n",
    "         read_fluxnet_hh(path, station_code)\n",
    "         \n",
    "         #example\n",
    "         read_fluxnet_hh(path_fluxnet_hh, 'Htm')\n",
    "         \n",
    "         ```\n",
    "\n",
    "\n",
    "#### <font color='#8b0000'> Information to read the files </font>\n",
    "\n",
    "**Paths** <br>\n",
    "The path to the FLUXNET files (daily values) is: <font color='royalblue'> _\"~/climbeco/fluxnet/obs_dd/\"_ </font>\n",
    "<br>\n",
    "The path to the FLUXNET files (half-hourly values) is: <font color='royalblue'> _\"~/climbeco/fluxnet/obs_hh/\"_ </font>\n",
    "\n",
    "\n",
    "**Data filename format** <br>\n",
    "The filename format of a FLUXNET file (daily values) is: _\"FLX_countryCode-stationCode_DD_2015_2018.csv\"_\n",
    "<br>\n",
    "(e.g. <font color='darkorange'> _FLX_<b>SE</b>-<b>Htm</b>_DD_2015_2018.csv_ </font>)\n",
    "<br>\n",
    "The filename format of a FLUXNET file (half-hourly values) is: _\"FLX_countryCode-stationCode_HH_2015_2018.csv\"_\n",
    "<br>\n",
    "(e.g. <font color='darkorange'> _FLX_<b>SE</b>-<b>Htm</b>_HH_2015_2018.csv_ </font>)\n",
    "\n",
    "To import dara for a specific station you need to know the 3-character long station code (e.g. \"Htm\" for Hyltemossa). A list of the available station names can be found [here](../ancillarydata/docs/climbeco_course_station_list.png)."
   ]
  },
  {
   "cell_type": "code",
   "execution_count": null,
   "metadata": {
    "scrolled": false
   },
   "outputs": [],
   "source": [
    "%matplotlib inline\n",
    "\n",
    "#Import modules:\n",
    "import pandas as pd\n",
    "from datetime import datetime\n",
    "from matplotlib import pyplot as plt\n",
    "\n",
    "#from tools import read_fluxnet_dd, read_fluxnet_hh\n",
    "%run ./tools.ipynb"
   ]
  },
  {
   "cell_type": "code",
   "execution_count": null,
   "metadata": {
    "scrolled": false
   },
   "outputs": [],
   "source": [
    "#Define path to data:\n",
    "path_fluxnet_hh = \"/data/project/climbeco/data/fluxnet/obs_hh/\" #Path to directory storing half-hourly values\n",
    "path_fluxnet_dd = \"/data/project/climbeco/data/fluxnet/obs_dd/\" #Path to directory storing daily values"
   ]
  },
  {
   "cell_type": "code",
   "execution_count": null,
   "metadata": {
    "scrolled": false
   },
   "outputs": [],
   "source": [
    "#Write your own code here:\n"
   ]
  },
  {
   "cell_type": "markdown",
   "metadata": {},
   "source": [
    "<br>\n",
    "<br>\n",
    "<div style=\"text-align: right\"> \n",
    "    <a href=\"#intro\">Back to top</a>\n",
    "</div>"
   ]
  },
  {
   "cell_type": "markdown",
   "metadata": {},
   "source": [
    "<a id=\"create_plot\"></a>"
   ]
  },
  {
   "cell_type": "markdown",
   "metadata": {},
   "source": [
    "<br>\n",
    "\n",
    "### <font color='#B22222'>Task 2</font> - Create a plot using Matplotlib\n",
    "Matplotlib is a visualization library for plotting in Python. In this twofold task you will learn how to create plots for one or more variables stored as columns in a Pandas DataFrame.\n",
    "\n",
    "Before you move on creating the plots, take a look at the columns of your Pandas DataFrame. It can be hard to guess the content of a column based on its current name. A detailed description of the FLUXNET variables along with their corresponding unit can be found [here](https://fluxnet.fluxdata.org/data/fluxnet2015-dataset/fullset-data-product/). \n",
    "\n",
    "Observe that some variables are only available for the dataset with daily values whilst others might only be available for the dataset with half-hourly values. Also note that the unit for a variable available in both datasets (i.e. half-hourly & daily) might be different. "
   ]
  },
  {
   "cell_type": "markdown",
   "metadata": {},
   "source": [
    "<a id=\"plot_single_var\"></a>"
   ]
  },
  {
   "cell_type": "markdown",
   "metadata": {},
   "source": [
    "\n",
    "#### <font color='#B22222'>Task 2.1</font> - Create a plot using Matplotlib (1 variable)\n",
    "In this part, you will plot a timeseries for one variable. The code in the example below plots air temperature (daily values) over time (2015-2018).\n",
    "\n",
    "<br>\n",
    "\n",
    "Here's the syntax to create a simple plot in Python:\n",
    "\n",
    "```python\n",
    "%matplotlib inline\n",
    "\n",
    "#Import modules:\n",
    "from matplotlib import pyplot as plt\n",
    "\n",
    "#Create a plot (i.e. \"figure\") object and set the size of your plot:\n",
    "fig = plt.figure(figsize=(10, 6))\n",
    "\n",
    "#Plot Air Temperature (daily values):\n",
    "plt.plot(dd_df.TIMESTAMP, dd_df.TA_F)\n",
    "\n",
    "#Show plot:\n",
    "plt.show()\n",
    "\n",
    "```\n",
    "\n",
    "<br>\n",
    "\n",
    "```%matplotlib inline``` is a command that tells your Jupyter notebook to create static matplotlib plots. The command is used once, in the first code-cell of the notebook. **dd_df** is a variable representing a Pandas DataFrame with FLUXNET daily values. **TIMESTAMP** and **TA_F** are the FLUXNET variable names for time and air temperature respectively.  \n",
    "If you execute the code above, it should generate the following output. \n",
    "\n",
    "<img src=\"../ancillarydata/images/exercise1/plot1_ex.png\">\n",
    "\n",
    "<br>\n",
    "\n",
    "Try to create plots for other variables in your Pandas DataFrame.\n",
    "\n",
    "<br>\n",
    "<br>"
   ]
  },
  {
   "cell_type": "code",
   "execution_count": null,
   "metadata": {
    "scrolled": false
   },
   "outputs": [],
   "source": [
    "#Write your own code here:\n"
   ]
  },
  {
   "cell_type": "markdown",
   "metadata": {},
   "source": [
    "<br>\n",
    "<br>\n",
    "<div style=\"text-align: right\"> \n",
    "    <a href=\"#intro\">Back to top</a>\n",
    "</div>\n",
    "<br>\n",
    "<br>"
   ]
  },
  {
   "cell_type": "markdown",
   "metadata": {},
   "source": [
    "<a id=\"plot_two_var\"></a>"
   ]
  },
  {
   "cell_type": "markdown",
   "metadata": {},
   "source": [
    "#### <font color='#B22222'>Task 2.2</font> - Create a plot using Matplotlib (two variables)\n",
    "Here's the syntax to create a simple plot of two variables in Python:\n",
    "\n",
    "```python\n",
    "\n",
    "#Import modules:\n",
    "from matplotlib import pyplot as plt\n",
    "\n",
    "#Create a plot (i.e. \"figure\") object and set the size of your plot:\n",
    "fig = plt.figure(figsize=(10, 6))\n",
    "\n",
    "#Plot values for Air Temperature (daily values):\n",
    "plt.plot(dd_df.TIMESTAMP, dd_df.TA_F)\n",
    "\n",
    "#Plot values for daytime GPP (daily values):\n",
    "plt.plot(dd_df.TIMESTAMP, dd_df.GPP_DT_VUT_MEAN)\n",
    "\n",
    "#Show plot:\n",
    "plt.show()\n",
    "\n",
    "```\n",
    "\n",
    "<br>\n",
    "\n",
    " **dd_df** is a variable representing a Pandas DataFrame with daily values for FLUXNET variables measured at Hyltemossa ICOS station in Sweden. **TIMESTAMP**, **TA_F** and **GPP_DT_VUT_MEAN** are the corresponding FLUXNET variable names for time, air temperature and GPP (daytime).  \n",
    "If you execute the code above, it should generate the following output. \n",
    "\n",
    "<img src=\"../ancillarydata/images/exercise1/plot2_ex.png\">\n",
    "\n",
    "<br>\n",
    "\n",
    "Try to produce a plot for another combination of variables."
   ]
  },
  {
   "cell_type": "code",
   "execution_count": null,
   "metadata": {
    "scrolled": false
   },
   "outputs": [],
   "source": [
    "#Write your own code here:\n"
   ]
  },
  {
   "cell_type": "markdown",
   "metadata": {},
   "source": [
    "<br>\n",
    "<br>\n",
    "<div style=\"text-align: right\"> \n",
    "    <a href=\"#intro\">Back to top</a>\n",
    "</div>\n",
    "<br>\n",
    "<br>"
   ]
  },
  {
   "cell_type": "markdown",
   "metadata": {},
   "source": [
    "<a id=\"plot_param\">"
   ]
  },
  {
   "cell_type": "markdown",
   "metadata": {},
   "source": [
    "<br>\n",
    "\n",
    "### <font color='#B22222'>Task 3</font> - Format plot parameters\n",
    "A plot is not complete without a title, axes labels and a legend. The next example showcases how these can be added to your plot. You will also see how to change the type and/or color of the line as well as how to add a secondary y-axis to the plot. More information on how to style your plot can be found [here](https://matplotlib.org/3.1.1/api/_as_gen/matplotlib.pyplot.plot.html).\n",
    "\n",
    "```python\n",
    "\n",
    "#Add grid:\n",
    "plt.style.use('seaborn-whitegrid')\n",
    "\n",
    "#Create a plot (i.e. \"figure\") object and set the size of your plot:\n",
    "fig, ax = plt.subplots(figsize=(16, 6))\n",
    "\n",
    "#Add plot title:\n",
    "plt.title('AIR TEMPERATURE & GPP - FLUXNET TIMESERIES (HTM, SE)')\n",
    "\n",
    "#Plot values for daily Air Temperature:\n",
    "ax.plot(dd_df.TIMESTAMP, dd_df.TA_F,\n",
    "        linestyle = '-.', linewidth = 0.6, color = 'darkorange',\n",
    "        label = 'Air Temperature')\n",
    "\n",
    "#Plot values for daytime GPP (daily values):\n",
    "ax.plot(dd_df.TIMESTAMP, dd_df.GPP_DT_VUT_MEAN,\n",
    "        linestyle = '-', linewidth = 1.7, color = '#6699CC',\n",
    "        label = 'GPP')\n",
    "\n",
    "#Add secondary y-axis:\n",
    "secaxy = ax.secondary_yaxis('right')\n",
    "\n",
    "#Add x-axis label:\n",
    "plt.xlabel('Time')\n",
    "\n",
    "#Add y-axis label:\n",
    "plt.ylabel('Air Temperature (C \\N{DEGREE SIGN})')\n",
    "\n",
    "#Add secondary y-axis label:\n",
    "secaxy.set_ylabel('GPP (gC / m2 / d)')\n",
    "\n",
    "#Add legend:\n",
    "ax.legend(bbox_to_anchor=(1.05, 1), loc='upper left', borderaxespad=0.)\n",
    "    \n",
    "#Show plot:\n",
    "plt.show()\n",
    "```\n",
    "\n",
    "<br>\n",
    "\n",
    "If you run the code above, you should get the following output:\n",
    "<br>\n",
    "\n",
    "<img src='../ancillarydata/images/exercise1/plot2ndyaxis_ex.png' width=800>\n",
    "\n",
    "<br>\n",
    "\n",
    "Try to add and format the plot parameters of the plots you created in task 2.\n",
    "\n",
    "<br>\n",
    "<br>"
   ]
  },
  {
   "cell_type": "code",
   "execution_count": null,
   "metadata": {
    "scrolled": false
   },
   "outputs": [],
   "source": [
    "#Write your own code here:\n"
   ]
  },
  {
   "cell_type": "markdown",
   "metadata": {},
   "source": [
    "<br>\n",
    "<br>\n",
    "<div style=\"text-align: right\"> \n",
    "    <a href=\"#intro\">Back to top</a>\n",
    "</div>\n",
    "<br>\n",
    "<br>"
   ]
  },
  {
   "cell_type": "markdown",
   "metadata": {},
   "source": [
    "<a id=\"compare_var\">"
   ]
  },
  {
   "cell_type": "markdown",
   "metadata": {},
   "source": [
    "<br>\n",
    "\n",
    "### <font color='#B22222'>Task 4</font> - Compare the same variable from 2 stations\n",
    "Here you will create a matplotlib plot including values from the same variable from two different stations. Before you create the plot, you need to read the values from another station to a Pandas DataFrame (see task 1). Then you plot the values of the same variable for both stations.\n",
    "\n",
    "Here's an example of the code:\n",
    "\n",
    "```python\n",
    "\n",
    "#Read data from Hyltemossa station:\n",
    "htm_df = pd.read_csv(\"/data/project/climbeco/data/fluxnet/obs_dd/FLX_SE-Htm_DD_2015_2018.csv\",\n",
    "                     header = 0,\n",
    "                     sep = \",\",\n",
    "                     parse_dates = [\"TIMESTAMP\"])\n",
    "\n",
    "#Read data from Lanna station:\n",
    "lnn_df = pd.read_csv(\"/data/project/climbeco/data/fluxnet/obs_dd/FLX_SE-Lnn_DD_2015_2018.csv\",\n",
    "                     header = 0,\n",
    "                     sep = \",\",\n",
    "                     parse_dates = [\"TIMESTAMP\"])\n",
    "\n",
    "\n",
    "\n",
    "#Add grid:\n",
    "plt.style.use('seaborn-whitegrid')\n",
    "\n",
    "#Create a plot (i.e. \"figure\") object and set the size of your plot:\n",
    "fig = plt.figure(figsize=(16, 6))\n",
    "\n",
    "#Add plot title:\n",
    "plt.title('GPP - FLUXNET TIMESERIES (daily values)')\n",
    "\n",
    "#Plot values for Hyltemossa:\n",
    "plt.plot(htm_df.TIMESTAMP, htm_df.GPP_DT_VUT_MEAN,\n",
    "         linestyle = '-.', linewidth = 0.5, color = 'green',\n",
    "         label = 'Hyltemossa')\n",
    "\n",
    "#Plot values for Lanna:\n",
    "plt.plot(lnn_df.TIMESTAMP, lnn_df.GPP_DT_VUT_MEAN,\n",
    "         linestyle = '-', linewidth = 1.7, color = 'darkgreen',\n",
    "         label = 'Lanna')\n",
    "\n",
    "#Add x-axis label:\n",
    "plt.xlabel('Time')\n",
    "\n",
    "#Add y-axis label:\n",
    "plt.ylabel('GPP (gC / m2 / d)')\n",
    "\n",
    "#Add legend:\n",
    "plt.legend(bbox_to_anchor=(1.05, 1), loc='upper left', borderaxespad=0.)\n",
    "    \n",
    "#Show plot:\n",
    "plt.show()\n",
    "\n",
    "```\n",
    "\n",
    "<br>\n",
    "\n",
    "The code from the example above creates a plot of GPP daily values for the stations Hyltemossa and Lanna in Sweden. The output should look like this:\n",
    "\n",
    "<img src='../ancillarydata/images/exercise1/plot2stations.png'>\n",
    "\n",
    "<br>\n",
    "\n",
    "Now, try to create plots for other stations. For instance, it might be interesting to compare variables from stations with the same vegetation type. It might also be worth to compare the same variable from stations that have different vegetation types.\n",
    "\n",
    "Use the _inspect_fluxnet_files_ notebok to view a map of the stations. Hover over the markers to get a pop-up window with additional info about the corresponding station. Alternatively, click [here](../ancillarydata/docs/climbeco_course_station_list.png) to view the station info table.\n",
    "\n",
    "<br>\n",
    "<br>"
   ]
  },
  {
   "cell_type": "code",
   "execution_count": null,
   "metadata": {
    "scrolled": false
   },
   "outputs": [],
   "source": [
    "#Write your own code here:\n"
   ]
  },
  {
   "cell_type": "markdown",
   "metadata": {},
   "source": [
    "<br>\n",
    "<br>\n",
    "<div style=\"text-align: right\"> \n",
    "    <a href=\"#intro\">Back to top</a>\n",
    "</div>\n",
    "<br>\n",
    "<br>"
   ]
  },
  {
   "cell_type": "markdown",
   "metadata": {},
   "source": [
    "<a id=\"calc_stat\">"
   ]
  },
  {
   "cell_type": "markdown",
   "metadata": {},
   "source": [
    "<br>\n",
    "\n",
    "### <font color='#B22222'>Task 5</font> - Calculate and plot statistics\n",
    "Use the _drought 2018_ - notebook with ICOS data from Hyltemossa station to see how to filter a Pandas DataFrame by time and calculate statistics. Apply the same code to the FLUXNET-data to calculate statistics for variables and stations of your choice. You can plot the results using code from the previous tasks or by using the [\"one-liner\"](https://pandas.pydata.org/pandas-docs/stable/reference/api/pandas.DataFrame.plot.html) command below:\n",
    "\n",
    "```python\n",
    "pandas_df_name.plot(type='line', 'colName_Xaxis', 'colName_Yaxis')```\n",
    "\n",
    "<br>\n",
    "<br>\n",
    "\n",
    "<font color='darkred'>**Example 1 (barplot)**</font>\n",
    "<br>\n",
    "Here's an example of calculating the minimum air temperature per year for Hyltemossa station:\n",
    "\n",
    "```python\n",
    "\n",
    "#Read data from Hyltemossa station:\n",
    "htm_df = pd.read_csv(\"/data/project/climbeco/data/fluxnet/obs_dd/FLX_SE-Htm_DD_2015_2018.csv\",\n",
    "                     header = 0,\n",
    "                     sep = \",\",\n",
    "                     parse_dates = [\"TIMESTAMP\"])\n",
    "\n",
    "#Set the \"TIMESTAMP\" column as index:\n",
    "htm_df_ind = htm_df.set_index('TIMESTAMP')\n",
    "\n",
    "#Calculate minimum temperature for every year:\n",
    "annual_mean_temp = htm_df_ind.TA_F.resample('Y').min().dropna()\n",
    "\n",
    "#Create barplot:\n",
    "annual_mean_temp.plot(kind='bar', figsize=(10,6))\n",
    "```\n",
    "\n",
    "<br>\n",
    "\n",
    "The code above will generate the following output:\n",
    "<br>\n",
    "<img src=\"../ancillarydata/images/exercise1/barplot.png\" width=500>\n",
    "\n",
    "<br>\n",
    "<br>\n",
    "\n",
    "<font color='darkred'>**Example 2 (line-plot)**</font>\n",
    "<br>\n",
    "Here's an example of calculating the mean GPP per month for Hyltemossa station:\n",
    "\n",
    "```python\n",
    "\n",
    "#Read data from Hyltemossa station:\n",
    "htm_df = pd.read_csv(\"/data/project/climbeco/data/fluxnet/obs_dd/FLX_SE-Htm_DD_2015_2018.csv\",\n",
    "                     header = 0,\n",
    "                     sep = \",\",\n",
    "                     parse_dates = [\"TIMESTAMP\"])\n",
    "\n",
    "#Set the \"TIMESTAMP\" column as index:\n",
    "htm_df_ind = htm_df.set_index('TIMESTAMP')\n",
    "\n",
    "#Calculate the mean GPP value for every month in the dataset:\n",
    "monthly_mean_gpp = htm_df_ind.GPP_DT_VUT_MEAN.resample('M').mean().dropna()\n",
    "\n",
    "#Create line-plot:\n",
    "monthly_mean_gpp.plot(kind='line', figsize=(10,6))\n",
    "```\n",
    "\n",
    "<br>\n",
    "\n",
    "The code above will generate the following output:\n",
    "<br>\n",
    "<img src=\"../ancillarydata/images/exercise1/lineplot.png\" width=500>\n"
   ]
  },
  {
   "cell_type": "code",
   "execution_count": null,
   "metadata": {
    "scrolled": false
   },
   "outputs": [],
   "source": [
    "#Write your own code here:\n"
   ]
  },
  {
   "cell_type": "markdown",
   "metadata": {},
   "source": [
    "<br>\n",
    "<br>\n",
    "<div style=\"text-align: right\"> \n",
    "    <a href=\"#intro\">Back to top</a>\n",
    "</div>\n",
    "<br>\n",
    "<br>\n",
    "<a id='data_ref'>"
   ]
  },
  {
   "cell_type": "markdown",
   "metadata": {},
   "source": [
    "\n",
    "# Data references\n",
    "    \n",
    "   \n",
    "Drought 2018 Team & ICOS Ecosystem Thematic Centre (2020). Drought-2018 ecosystem eddy covariance flux product in FLUXNET-Archive format - release 2019-2 (Version 1.0). ICOS Carbon Portal. https://doi.org/10.18160/yvr0-4898\n",
    "\n",
    "<br>\n",
    "<br>\n",
    "<div style=\"text-align: right\"> \n",
    "    <a href=\"#intro\">Back to top</a>\n",
    "</div>\n",
    "<br>\n",
    "<br>"
   ]
  }
 ],
 "metadata": {
  "kernelspec": {
   "display_name": "Python 3",
   "language": "python",
   "name": "python3"
  },
  "language_info": {
   "codemirror_mode": {
    "name": "ipython",
    "version": 3
   },
   "file_extension": ".py",
   "mimetype": "text/x-python",
   "name": "python",
   "nbconvert_exporter": "python",
   "pygments_lexer": "ipython3",
   "version": "3.8.4"
  }
 },
 "nbformat": 4,
 "nbformat_minor": 4
}
