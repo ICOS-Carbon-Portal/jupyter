{
 "cells": [
  {
   "cell_type": "markdown",
   "metadata": {},
   "source": [
    "<img src=\"../ancillarydata/logos/LundUniversity_C2line_RGB.png\" width=\"150\" align=\"left\"/>\n",
    "<br>\n",
    "<img src=\"../ancillarydata/logos/Icos_Logo_CMYK_Regular_SMpng.png\" width=\"327\" align=\"right\"/>\n",
    "<br>\n",
    "<a id='introduction'></a>\n",
    "<br>"
   ]
  },
  {
   "cell_type": "markdown",
   "metadata": {},
   "source": [
    "<br>\n",
    "\n",
    "# <font color=#B98F57>Notebook developed for the purposes of a PhD course titled</font>\n",
    "### <font color=#000083>From CO$_2$ in situ measurements to carbon balance maps as a tool to support national carbon accounting</font>\n",
    "\n",
    "<br>\n",
    "\n",
    "<meta content=\"text/html; charset=UTF-8\">\n",
    "\n",
    "<style>td{padding: 3px;}\n",
    "</style>\n",
    "\n",
    "<table style=\"width: 100%\">\n",
    "    <colgroup>\n",
    "        <col span=\"1\" style=\"width: 17%;\">\n",
    "        <col span=\"1\" style=\"width: 83%;\">\n",
    "    </colgroup>\n",
    "    <tr>\n",
    "        <th><font size=\"2\">Organized by:</font></th>\n",
    "        <td>\n",
    "            <div style=\"float:left;\">\n",
    "                <font size=\"2\">\n",
    "                    The PhD course was held by the dept. of Physcial Geography and Ecosystem Science at Lund University and<br>supported by ICOS Carbon Portal, ICOS Sweden and Lund University ClimBEco Graduate Research School.\n",
    "                </font>\n",
    "            </div>\n",
    "        </td>\n",
    "    </tr>\n",
    "    <tr>\n",
    "        <th><font size=\"2\">Course dates:</font></th>\n",
    "        <td><div style=\"float:left;\"><font size=\"2\">March 9th 2020 - March 13th 2020</font></div></td>\n",
    "    </tr>\n",
    "    <tr>\n",
    "        <th><font size=\"2\">Location:</font></th>\n",
    "        <td><div style=\"float:left;\"><font size=\"2\">Lund, Sweden</font></div></td>\n",
    "    </tr>\n",
    "    <tr>\n",
    "        <th><font size=\"2\">Code developed by:</font></th>\n",
    "        <td>\n",
    "            <div style=\"float:left;\"><font size=\"2\">Karolina Pantazatou</font>\n",
    "            </div>\n",
    "        </td>\n",
    "    </tr>\n",
    "    <tr>\n",
    "        <th><font size=\"2\">Data references:</font></th>\n",
    "        <td><div style=\"float:left;\"><font size=\"2\">Site runs with LPJ-GUESS were made without site-specific calibration and with minimal<br>adaptation to local conditions. For more details, please read the <a href=\"#data_ref\">data references</a>.</font></div></td>\n",
    "    </tr>\n",
    "</table>\n",
    "</font>\n",
    "<br>\n",
    "<br>\n",
    "<br>\n",
    "<br>\n",
    "\n",
    "# <font color=#800000>Compare LPJ-GUESS model output & FLUXNET observations</font>\n",
    "This notebook is dedicated on presenting interactive NEE-, GPP- and RTOT-plots for a given station. You can compare, zoom-in and hover over the content of the plot. It is also possible to switch layers on or off by clicking on the layer names in the legend. By clicking on the checkbox, you will view averaged monthly values.\n",
    "\n",
    "<br>\n",
    "<br>\n",
    "\n",
    "### Run functions in the tools-notebook"
   ]
  },
  {
   "cell_type": "code",
   "execution_count": null,
   "metadata": {
    "collapsed": false
   },
   "outputs": [],
   "source": [
    "#from tools import read_fluxnet_dd, read_fluxnet_hh\n",
    "%run ./tools.ipynb"
   ]
  },
  {
   "cell_type": "markdown",
   "metadata": {},
   "source": [
    "<a id='plot'></a>"
   ]
  },
  {
   "cell_type": "code",
   "execution_count": null,
   "metadata": {
    "collapsed": false
   },
   "outputs": [],
   "source": [
    "#Call function to display form:\n",
    "lpj_var_dropdown(lpj_var_dict)"
   ]
  },
  {
   "cell_type": "markdown",
   "metadata": {},
   "source": [
    "<a id=\"data_ref\">"
   ]
  },
  {
   "cell_type": "markdown",
   "metadata": {},
   "source": [
    "<br>\n",
    "<br>\n",
    "<br>\n",
    "\n",
    "# <font color=#800000>Data references</font>\n",
    "    \n",
    "Site runs with LPJ-GUESS (http://iis4.nateko.lu.se/lpj-guess/) were carried out with version 4.0 of the model (Smith et al. 2014), but without site-specific calibration. To mimic local conditions, the model was forced with daily surface air temperature, precipitation and incoming shortwave radiation measured at the sites (for years 2015-2018), but inputs of nitrogen deposition and soil properties were taken from global datasets. In certain cases, the plant functional types and species that can establish in the model were restricted to match site conditions, but neither site management history nor disturbances were considered. Finally, no wetland features were activated.\n",
    "\n",
    "The model output is strictly for educational purposes, and not to be used for research publications or commercial applications.\n",
    "\n",
    "Smith, B., Wårlind, D., Arneth, A., Hickler, T., Leadley, P., Siltberg, J. & Zaehle, S. 2014. Implications of incorporating N cycling and N limitations on primary production in an individual-based dynamic vegetation model. Biogeosciences 11: 2027-2054.\n",
    "\n",
    "<br>\n",
    "<br>\n",
    "<br>\n",
    "<br>\n",
    "<br>\n",
    "<br>"
   ]
  }
 ],
 "metadata": {
  "kernelspec": {
   "display_name": "Python 3",
   "language": "python",
   "name": "python3"
  },
  "language_info": {
   "codemirror_mode": {
    "name": "ipython",
    "version": 3
   },
   "file_extension": ".py",
   "mimetype": "text/x-python",
   "name": "python",
   "nbconvert_exporter": "python",
   "pygments_lexer": "ipython3",
   "version": "3.8.4"
  }
 },
 "nbformat": 4,
 "nbformat_minor": 4
}
