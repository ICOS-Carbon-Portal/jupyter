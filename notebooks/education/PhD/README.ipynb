{
 "cells": [
  {
   "cell_type": "markdown",
   "id": "occupied-rotation",
   "metadata": {},
   "source": [
    "<img src=\"https://www.icos-cp.eu/sites/default/files/2017-11/ICOS_CP_logo.png\" width=\"300\" align=\"right\"/>\n",
    "<br>\n",
    "<br>\n",
    "<br> \n",
    "<br>\n",
    "<br>\n",
    "\n",
    "# ICOS Carbon Portal - Jupyter Notebooks for PhD courses\n",
    "This folder contains subfolders with educational material for PhD courses that make use of ICOS data.\n",
    "\n",
    "<br>\n",
    "\n",
    "## Structure\n",
    "The educational material is divided into folders baced on courses.\n",
    "\n",
    "* **upscaling carbon fluxes:** includes notebooks that where used as exercise material in a PhD course titled: **\"From CO2 in situ measurements to carbon balance maps as a tool to support national carbon accounting\"**. The course was organized by Lund University dept. of Physical Geography and Ecosystem Science and supported by ICOS Carbon Portal, ICOS Sweden and  Lund University ClimBEco Graduate Research School. The course was held at Lund University campus between March 9th 2020 and March 13th 2020. All developed material includes references to the people involved and the datasets used.\n",
    "\n",
    "<br>\n",
    "\n",
    "## Licence\n",
    "This work is licensed under a Creative Commons Attribution 4.0 International License (CC BY 4.0). <br>\n",
    "Copyright © 2019-2020 ICOS ERIC"
   ]
  }
 ],
 "metadata": {
  "kernelspec": {
   "display_name": "Python 3",
   "language": "python",
   "name": "python3"
  },
  "language_info": {
   "codemirror_mode": {
    "name": "ipython",
    "version": 3
   },
   "file_extension": ".py",
   "mimetype": "text/x-python",
   "name": "python",
   "nbconvert_exporter": "python",
   "pygments_lexer": "ipython3",
   "version": "3.8.6"
  },
  "toc": {
   "base_numbering": 1,
   "nav_menu": {},
   "number_sections": false,
   "sideBar": true,
   "skip_h1_title": true,
   "title_cell": "Table of Contents",
   "title_sidebar": "Contents",
   "toc_cell": false,
   "toc_position": {},
   "toc_section_display": true,
   "toc_window_display": false
  }
 },
 "nbformat": 4,
 "nbformat_minor": 5
}
