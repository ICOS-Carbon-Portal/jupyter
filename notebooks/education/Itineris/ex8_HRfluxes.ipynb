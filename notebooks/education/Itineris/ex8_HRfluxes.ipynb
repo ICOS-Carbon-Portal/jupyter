{
 "cells": [
  {
   "cell_type": "markdown",
   "id": "7ac5a879-2aee-47bc-a0c7-32d95461bc42",
   "metadata": {},
   "source": [
    "<img src='https://www.icos-cp.eu/sites/default/files/2017-11/ICOS_CP_logo.png' width=400 align=right>\n",
    "\n",
    "# ICOS Carbon Portal Python Libraries\n",
    "\n",
    "\n",
    "# Direct access to spatiotemporal datasets without the need to download big data\n",
    "\n",
    "Also demonstrating the use of xarray for plotting and pickle for storing intermediate results"
   ]
  },
  {
   "cell_type": "code",
   "execution_count": null,
   "id": "6b81f94c",
   "metadata": {
    "ExecuteTime": {
     "end_time": "2022-06-23T13:29:10.078674Z",
     "start_time": "2022-06-23T13:25:41.790765Z"
    },
    "code_folding": [
     0
    ],
    "tags": []
   },
   "outputs": [],
   "source": [
    "# import and read data\n",
    "from icoscp_core.icos import meta,data,auth,bootstrap\n",
    "import xarray as xr\n",
    "import pandas as pd\n",
    "import numpy as np\n",
    "import datetime as dt\n",
    "import os\n",
    "import pickle\n",
    "import cartopy.crs as ccrs\n",
    "import cartopy\n",
    "import matplotlib.pyplot as plt\n",
    "from IPython.core.display import HTML\n",
    "import warnings\n",
    "warnings.filterwarnings('ignore')\n",
    "\n",
    "cwd = os.getcwd()\n",
    "cwd"
   ]
  },
  {
   "cell_type": "markdown",
   "id": "d3e80c15-b307-42ed-b609-bdb30abd4515",
   "metadata": {},
   "source": [
    "This little helper function gives us direct access to a netcdf data object in the ICOS data store through and returns a xarray data object"
   ]
  },
  {
   "cell_type": "code",
   "execution_count": null,
   "id": "e2d806b4-a894-4177-85d2-1609707031e2",
   "metadata": {
    "tags": []
   },
   "outputs": [],
   "source": [
    "def xr_nc_CP(uri : str):\n",
    "    '''\n",
    "    Little helper function\n",
    "    At the ICOS Jupyter instances we can access (read only) all data files directly through their \n",
    "    hash sums. These hases are included in the data object URI. In this function we access the \n",
    "    spatiotemporal netcdf files, where we know that their path in the ICOS Jupyterhub is \n",
    "    /data/dataAppStorage/netcdf. The netcdf timeseries (for example for Obspack) are in path\n",
    "    /data/dataAppStorage/netcdfTimeSeries. This function returns an xarray data structure\n",
    "    for a netcdf file with the given URI\n",
    "    '''\n",
    "    dobj_meta = meta.get_dobj_meta(uri)\n",
    "    ncpath='/data/dataAppStorage/netcdf/'+dobj_meta.pid[6:] # remove the handle prefix ('11676/')\n",
    "    data=xr.open_dataset(ncpath)\n",
    "    return data\n",
    "    "
   ]
  },
  {
   "cell_type": "markdown",
   "id": "033a0f96-6388-4943-9c69-cfac3d7bf931",
   "metadata": {},
   "source": [
    "We define the datatypes for the Carbontracker High resolution flux data we want to use and the year for which we want to access the data, and show the flux timeseries in a point [lat, lon]"
   ]
  },
  {
   "cell_type": "code",
   "execution_count": null,
   "id": "c849cc32-709a-47eb-bf0c-850949f42be1",
   "metadata": {
    "tags": []
   },
   "outputs": [],
   "source": [
    "fire = 'http://meta.icos-cp.eu/resources/cpmeta/fireEmissionModelResults'\n",
    "ocean = 'http://meta.icos-cp.eu/resources/cpmeta/oceanicFluxModelResults'\n",
    "anthro = 'http://meta.icos-cp.eu/resources/cpmeta/anthropogenicEmissionModelResults'\n",
    "nep = 'http://meta.icos-cp.eu/resources/cpmeta/biosphericModelResults'   \n",
    "\n",
    "datatypes = [ocean,anthro,nep,fire]\n",
    "ouryear = 2022\n",
    "ourlat = 53.0\n",
    "ourlon = 5.0"
   ]
  },
  {
   "cell_type": "markdown",
   "id": "bb417a75-7d5b-4d35-ab14-2f8f623e5b26",
   "metadata": {},
   "source": [
    "## Show a map of average modelled antropogenic CO2 emissions for a the chosen year"
   ]
  },
  {
   "cell_type": "code",
   "execution_count": null,
   "id": "63332bf3-2dd0-4594-b849-8029fdd40a99",
   "metadata": {
    "tags": []
   },
   "outputs": [],
   "source": [
    "# Get a list of data objects of the CTHRE type for anthropogenic emissions and select those \n",
    "# for the year we are interested in; list the description and the variables contained in this datatype\n",
    "\n",
    "latest = meta.list_data_objects(datatype=anthro,limit=10000)\n",
    "selection = [do for do in latest if (do.time_start.year==2022) and not('persector' in do.filename)]\n",
    "dobj_meta = meta.get_dobj_meta(selection[0].uri)\n",
    "print(dobj_meta.specificInfo.description)\n",
    "print('Variables:')\n",
    "[print(do.label,'=',do.valueType.self.label,'['+do.valueType.unit+']') for do in dobj_meta.specificInfo.variables]"
   ]
  },
  {
   "cell_type": "code",
   "execution_count": null,
   "id": "157aadad-9cd1-4814-95e3-8261eecfc780",
   "metadata": {
    "tags": []
   },
   "outputs": [],
   "source": [
    "# read the netcdf files for the selected period and calculate the average\n",
    "# the result is saved in a pickle file to save 1 minute per netcdf file when rerunning\n",
    "\n",
    "show=False # is show is True then we plot a map for each individual file\n",
    "if not(os.path.isfile('data/aaver.pkl')): \n",
    "    i=0\n",
    "    for do in selection:\n",
    "        print(i)\n",
    "        anthro=xr_nc_CP(do.uri)\n",
    "        if i==0:\n",
    "            aaver=anthro.combustion.mean(dim=\"time\",skipna=True)+anthro.cement.mean(dim=\"time\",skipna=True)\n",
    "        else:                       \n",
    "            aaver=aaver+anthro.combustion.mean(dim=\"time\",skipna=True)+anthro.cement.mean(dim=\"time\",skipna=True)\n",
    "        if show:\n",
    "            fig = plt.figure(figsize=(5, 5))\n",
    "            aaver.plot(levels=[1e-8,2e-8,5e-8,1e-7,2e-7,5e-7,1e-6,2e-6,5e-6,1e-5,2e-5,5e-5])\n",
    "            plt.show()\n",
    "        anthro.close()    \n",
    "        i=i+1\n",
    "    aaver=aaver/len(selection)\n",
    "    with open('data/aaver.pkl', 'wb') as f:\n",
    "        pickle.dump(aaver,f,protocol=pickle.HIGHEST_PROTOCOL)"
   ]
  },
  {
   "cell_type": "code",
   "execution_count": null,
   "id": "ddcdb09d-5034-4638-9807-508fd9f6f90b",
   "metadata": {
    "tags": []
   },
   "outputs": [],
   "source": [
    "with open('data/aaver.pkl', 'rb') as f:\n",
    "    aaver=pickle.load(f)"
   ]
  },
  {
   "cell_type": "code",
   "execution_count": null,
   "id": "ddfe2ea7-bb82-47a5-917c-d81fd0b3878d",
   "metadata": {
    "tags": []
   },
   "outputs": [],
   "source": [
    "fig = plt.figure(figsize=(10, 10))\n",
    "ax = plt.axes(projection=ccrs.Robinson())\n",
    "ax.coastlines(resolution=\"10m\")\n",
    "plot=aaver.plot(levels=[1e-8,2e-8,5e-8,1e-7,2e-7,5e-7,1e-6,2e-6,5e-6,1e-5,2e-5,5e-5],\n",
    "           cmap=plt.cm.coolwarm,\n",
    "           transform=ccrs.PlateCarree(),\n",
    "           cbar_kwargs={\"shrink\": 0.6})\n",
    "plt.title('Anthropogenic emissions')\n",
    "plt.show()"
   ]
  },
  {
   "cell_type": "code",
   "execution_count": null,
   "id": "6b2dea12-1be8-47ab-b018-8f4595a5f7e6",
   "metadata": {},
   "outputs": [],
   "source": []
  },
  {
   "cell_type": "markdown",
   "id": "300aad8c-d69c-4bc2-8599-811b694776a9",
   "metadata": {},
   "source": [
    "## Show a timeseries plot of modelled Anthropogenic combustion fluxes for a point on the map"
   ]
  },
  {
   "cell_type": "code",
   "execution_count": null,
   "id": "890ce2d6-9a6d-4a0d-9164-159b0b7debe9",
   "metadata": {
    "tags": []
   },
   "outputs": [],
   "source": [
    "selection = [do for do in latest if (do.time_start.year==ouryear) & (do.time_start.month==6)]\n",
    "anthro=xr_nc_CP(selection[0])\n",
    "anthroNL=anthro.combustion.sel(latitude=ourlat, longitude=ourlon, method=\"nearest\")\n",
    "\n",
    "fig,[ax1,ax2]=plt.subplots(1,2,figsize=(15,5))\n",
    "ax1.plot(anthroNL)\n",
    "ax1.set_title('June')\n",
    "\n",
    "selection = [do for do in latest if (do.time_start.year==ouryear) & (do.time_start.month==12)]\n",
    "anthro=xr_nc_CP(selection[0])\n",
    "anthroNL=anthro.combustion.sel(latitude=53.0, longitude=5.0, method=\"nearest\")\n",
    "ax2.plot(anthroNL)\n",
    "ax2.set_title('December')\n",
    "ax2.set_ylim(ax1.get_ylim())\n",
    "plt.show()"
   ]
  },
  {
   "cell_type": "markdown",
   "id": "6b209fe2-d560-4665-98d0-510d61b94f5f",
   "metadata": {},
   "source": [
    "## Show a map of average modelled NEE for a the chosen year"
   ]
  },
  {
   "cell_type": "code",
   "execution_count": null,
   "id": "a9a6cf3f-82c9-4129-8f83-052b774307d0",
   "metadata": {
    "ExecuteTime": {
     "end_time": "2022-06-23T13:50:16.383928Z",
     "start_time": "2022-06-23T13:50:13.581172Z"
    },
    "code_folding": [],
    "tags": []
   },
   "outputs": [],
   "source": [
    "latest = meta.list_data_objects(datatype=nep,limit=10000)\n",
    "selection = [do for do in latest if (do.time_start.year==ouryear)]\n",
    "dobj_meta = meta.get_dobj_meta(selection[0].uri)\n",
    "print(dobj_meta.specificInfo.description)\n",
    "print('Variables:')\n",
    "[print(do.label,'=',do.valueType.self.label,'['+do.valueType.unit+']') for do in dobj_meta.specificInfo.variables]"
   ]
  },
  {
   "cell_type": "code",
   "execution_count": null,
   "id": "ca39041a-a0e9-49b5-9be9-2fdc0bd0f27d",
   "metadata": {
    "ExecuteTime": {
     "end_time": "2022-06-23T13:50:16.383928Z",
     "start_time": "2022-06-23T13:50:13.581172Z"
    },
    "code_folding": [],
    "tags": []
   },
   "outputs": [],
   "source": [
    "# read the netcdf files for the selected period and calculate the average\n",
    "# the result is saved in a pickle file to save 1 minute per netcdf file when rerunning\n",
    "show=False\n",
    "if not(os.path.isfile('data/nepaver.pkl')): \n",
    "    i=0\n",
    "    for do in selection:\n",
    "        print(i)\n",
    "        nep=xr_nc_CP(do.uri)\n",
    "        if i==0:\n",
    "            nepaver=nep.mean(dim=\"time\",skipna=True)\n",
    "        else:                       \n",
    "            nepaver=nepaver+nep.mean(dim=\"time\",skipna=True)\n",
    "        if show:\n",
    "            fig = plt.figure(figsize=(5, 5))\n",
    "            aaver.plot(levels=[-5e-7,-2e-7,-1e-7,-5e-8,-2e-8,-1e-8,1e-8,2e-8,5e-8,1e-7,2e-7,5e-7])\n",
    "            plt.show()\n",
    "        nep.close()    \n",
    "        i=i+1\n",
    "    nepaver=nepaver/len(selection)\n",
    "    with open('data/nepaver.pkl', 'wb') as f:\n",
    "        pickle.dump(nepaver,f,protocol=pickle.HIGHEST_PROTOCOL)"
   ]
  },
  {
   "cell_type": "code",
   "execution_count": null,
   "id": "fea7e04c-8065-4a19-8966-eee0b4a289dd",
   "metadata": {
    "tags": []
   },
   "outputs": [],
   "source": [
    "with open('data/nepaver.pkl', 'rb') as f:\n",
    "    nepaver=pickle.load(f)"
   ]
  },
  {
   "cell_type": "code",
   "execution_count": null,
   "id": "2a90c3ac-703a-4e5e-84c8-8662bb505213",
   "metadata": {
    "tags": []
   },
   "outputs": [],
   "source": [
    "fig = plt.figure(figsize=(10, 10))\n",
    "ax = plt.axes(projection=ccrs.Robinson())\n",
    "ax.coastlines(resolution=\"10m\")\n",
    "plot=nepaver.nep.plot(cmap=plt.cm.coolwarm,\n",
    "                      transform=ccrs.PlateCarree(),\n",
    "                      cbar_kwargs={\"shrink\": 0.6})\n",
    "plt.title('NEP')\n",
    "plt.show()"
   ]
  },
  {
   "cell_type": "markdown",
   "id": "72325f23-9563-44a4-828e-15fe1d9add43",
   "metadata": {},
   "source": [
    "## Show a timeseries plot of modelled NEE for a point on the map"
   ]
  },
  {
   "cell_type": "code",
   "execution_count": null,
   "id": "fe4aa959-3b0c-4816-bf42-48a28005be6f",
   "metadata": {
    "tags": []
   },
   "outputs": [],
   "source": [
    "selection = [do for do in latest if (do.time_start.year==ouryear) & (do.time_start.month==6)]\n",
    "nep=xr_nc_CP(selection[0])\n",
    "nepNL=nep.sel(latitude=ourlat, longitude=ourlon, method=\"nearest\")\n",
    "\n",
    "fig,[ax1,ax2]=plt.subplots(1,2,figsize=(10,5))\n",
    "ax1.plot(nepNL.nep)\n",
    "ax1.set_title('June')\n",
    "\n",
    "selection = [do for do in latest if (do.time_start.year==ouryear) & (do.time_start.month==12)]\n",
    "nep=xr_nc_CP(selection[0])\n",
    "nepNL=nep.sel(latitude=53.0, longitude=5.0, method=\"nearest\")\n",
    "ax2.plot(nepNL.nep)\n",
    "ax2.set_title('December')\n",
    "ax2.set_ylim(ax1.get_ylim())\n",
    "plt.show()"
   ]
  },
  {
   "cell_type": "markdown",
   "id": "cdf3a057-851f-4ae6-9140-e8991984dc21",
   "metadata": {
    "execution": {
     "iopub.execute_input": "2025-01-26T15:09:16.016537Z",
     "iopub.status.busy": "2025-01-26T15:09:16.015919Z",
     "iopub.status.idle": "2025-01-26T15:09:16.019744Z",
     "shell.execute_reply": "2025-01-26T15:09:16.018945Z",
     "shell.execute_reply.started": "2025-01-26T15:09:16.016513Z"
    },
    "tags": []
   },
   "source": [
    "## Show a map of average modelled Ocean fluxes for a the chosen year"
   ]
  },
  {
   "cell_type": "code",
   "execution_count": null,
   "id": "54ae1925-42ce-4ddd-bc55-707d8fafec39",
   "metadata": {
    "ExecuteTime": {
     "end_time": "2022-06-23T13:41:24.441134Z",
     "start_time": "2022-06-23T13:39:24.192369Z"
    },
    "scrolled": true,
    "tags": []
   },
   "outputs": [],
   "source": [
    "latest = meta.list_data_objects(datatype=ocean,limit=10000)\n",
    "selection = [do for do in latest if (do.time_start.year==ouryear) and not('persector' in do.filename)]\n",
    "dobj_meta = meta.get_dobj_meta(selection[0].uri)\n",
    "print(dobj_meta.specificInfo.description)\n",
    "print('Variables:')\n",
    "[print(do.label,'=',do.valueType.self.label,'['+do.valueType.unit+']') for do in dobj_meta.specificInfo.variables]"
   ]
  },
  {
   "cell_type": "code",
   "execution_count": null,
   "id": "a841b5bc-e583-4985-8973-8963951cf1f1",
   "metadata": {
    "ExecuteTime": {
     "end_time": "2022-06-23T13:41:24.441134Z",
     "start_time": "2022-06-23T13:39:24.192369Z"
    },
    "scrolled": true,
    "tags": []
   },
   "outputs": [],
   "source": [
    "# read the netcdf files for the selected period and calculate the average\n",
    "# the result is saved in a pickle file to save 1 minute per netcdf file when rerunning\n",
    "show=False\n",
    "if not(os.path.isfile('data/oceaver.pkl')): \n",
    "    i=0\n",
    "    for do in selection:\n",
    "        print(i)\n",
    "        oce=xr_nc_CP(do.uri)\n",
    "        if i==0:\n",
    "            oceaver=oce.ocean.mean(dim=\"time\",skipna=True)\n",
    "        else:                       \n",
    "            oceaver=oceaver+oce.ocean.mean(dim=\"time\",skipna=True)\n",
    "        if show:\n",
    "            fig = plt.figure(figsize=(5, 5))\n",
    "            ocever.plot(levels=[1e-8,2e-8,5e-8,1e-7,2e-7,5e-7,1e-6,2e-6,5e-6,1e-5,2e-5,5e-5])\n",
    "            plt.show()\n",
    "        oce.close()    \n",
    "        i=i+1\n",
    "    oceaver=oceaver/len(selection)\n",
    "    with open('data/oceaver.pkl', 'wb') as f:\n",
    "        pickle.dump(oceaver,f,protocol=pickle.HIGHEST_PROTOCOL)"
   ]
  },
  {
   "cell_type": "code",
   "execution_count": null,
   "id": "94ca10d0-aad2-40bb-b83d-e999ef36543f",
   "metadata": {
    "tags": []
   },
   "outputs": [],
   "source": [
    "with open('data/oceaver.pkl', 'rb') as f:\n",
    "    oceaver=pickle.load(f)"
   ]
  },
  {
   "cell_type": "code",
   "execution_count": null,
   "id": "fb6f00a5-69d1-47c8-930b-021a708485fc",
   "metadata": {
    "tags": []
   },
   "outputs": [],
   "source": [
    "fig = plt.figure(figsize=(10, 10))\n",
    "ax = plt.axes(projection=ccrs.Robinson())\n",
    "ax.coastlines(resolution=\"10m\")\n",
    "plot=oceaver.plot(cmap=plt.cm.coolwarm,\n",
    "                  transform=ccrs.PlateCarree(),\n",
    "                  cbar_kwargs={\"shrink\": 0.6})\n",
    "plt.title('Ocean fluxes')\n",
    "plt.show()"
   ]
  },
  {
   "cell_type": "markdown",
   "id": "c810b145-4025-46a8-b377-0edeaaea18c6",
   "metadata": {},
   "source": [
    "## Show a map of average CO2 fire emissions for the given year"
   ]
  },
  {
   "cell_type": "code",
   "execution_count": null,
   "id": "5a22d8da-1953-4a6e-a79d-53a541fd7ece",
   "metadata": {
    "tags": []
   },
   "outputs": [],
   "source": [
    "latest = meta.list_data_objects(datatype=fire,limit=10000)\n",
    "selection = [do for do in latest if (do.time_start.year==ouryear) and not('persector' in do.filename)]\n",
    "dobj_meta = meta.get_dobj_meta(selection[0].uri)\n",
    "print(dobj_meta.specificInfo.description)\n",
    "print('Variables:')\n",
    "[print(do.label,'=',do.valueType.self.label,'['+do.valueType.unit+']') for do in dobj_meta.specificInfo.variables]"
   ]
  },
  {
   "cell_type": "code",
   "execution_count": null,
   "id": "fd6e5de8-e434-4973-a7bd-36ce0f1af06b",
   "metadata": {
    "tags": []
   },
   "outputs": [],
   "source": [
    "# read the netcdf files for the selected period and calculate the average\n",
    "# the result is saved in a pickle file to save 1 minute per netcdf file when rerunning\n",
    "show=False\n",
    "if not(os.path.isfile('data/fireaver.pkl')): \n",
    "    i=0\n",
    "    for do in selection:\n",
    "        print(i)\n",
    "        fire=xr_nc_CP(do.uri)\n",
    "        next=fire.fire.mean(dim=\"time\",skipna=True)\n",
    "        if i==0:\n",
    "            res=next\n",
    "        else:                       \n",
    "            res=res+next\n",
    "        if show:\n",
    "            fig = plt.figure(figsize=(5, 5))\n",
    "            res.plot(levels=[1e-8,2e-8,5e-8,1e-7,2e-7,5e-7,1e-6,2e-6,5e-6,1e-5,2e-5,5e-5])\n",
    "            plt.show()\n",
    "        fire.close()    \n",
    "        i=i+1\n",
    "    fireaver=res/len(selection)\n",
    "    with open('data/fireaver.pkl', 'wb') as f:\n",
    "        pickle.dump(fireaver,f,protocol=pickle.HIGHEST_PROTOCOL)"
   ]
  },
  {
   "cell_type": "code",
   "execution_count": null,
   "id": "1cd61553-7099-4b0e-958d-da99db73b595",
   "metadata": {
    "tags": []
   },
   "outputs": [],
   "source": [
    "with open('data/fireaver.pkl', 'rb') as f:\n",
    "    fireaver=pickle.load(f)"
   ]
  },
  {
   "cell_type": "code",
   "execution_count": null,
   "id": "8bf02cc9-c544-49df-8521-37f17d5b57e0",
   "metadata": {
    "tags": []
   },
   "outputs": [],
   "source": [
    "fig = plt.figure(figsize=(10, 10))\n",
    "ax = plt.axes(projection=ccrs.Robinson())\n",
    "ax.coastlines(resolution=\"10m\")\n",
    "plot=fireaver.plot(levels=[1e-8,2e-8,5e-8,1e-7,2e-7,5e-7,1e-6,2e-6,5e-6,1e-5,2e-5,5e-5],\n",
    "                  cmap=plt.cm.coolwarm,\n",
    "                  transform=ccrs.PlateCarree(),\n",
    "                  cbar_kwargs={\"shrink\": 0.6})\n",
    "plt.title('Fire fluxes')\n",
    "plt.show()"
   ]
  },
  {
   "cell_type": "code",
   "execution_count": null,
   "id": "ad455d38-c0cd-4da0-bb51-49d6d6891b08",
   "metadata": {},
   "outputs": [],
   "source": []
  }
 ],
 "metadata": {
  "kernelspec": {
   "display_name": "Python 3 (ipykernel)",
   "language": "python",
   "name": "python3"
  },
  "language_info": {
   "codemirror_mode": {
    "name": "ipython",
    "version": 3
   },
   "file_extension": ".py",
   "mimetype": "text/x-python",
   "name": "python",
   "nbconvert_exporter": "python",
   "pygments_lexer": "ipython3",
   "version": "3.10.6"
  },
  "toc": {
   "base_numbering": 1,
   "nav_menu": {},
   "number_sections": false,
   "sideBar": true,
   "skip_h1_title": true,
   "title_cell": "Table of Contents",
   "title_sidebar": "Contents",
   "toc_cell": false,
   "toc_position": {},
   "toc_section_display": true,
   "toc_window_display": false
  }
 },
 "nbformat": 4,
 "nbformat_minor": 5
}
