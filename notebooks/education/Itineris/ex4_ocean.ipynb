{
 "cells": [
  {
   "cell_type": "markdown",
   "id": "f9037e00-5923-4936-bb0a-5d1c3ce031a6",
   "metadata": {},
   "source": [
    "<img src='https://www.icos-cp.eu/sites/default/files/2017-11/ICOS_CP_logo.png' width=400 align=right>\n",
    "\n",
    "# ICOS Carbon Portal Python Libraries\n",
    "\n",
    "\n",
    "# Explore some ocean data, load an external csv file and do some filtering. Make some quick and dirty maps using plotly express\n",
    "\n",
    "Also demonstrating the use of pickle for storing intermediate results"
   ]
  },
  {
   "cell_type": "markdown",
   "id": "1dc1727a-aa4d-4f1f-accf-29681772f649",
   "metadata": {},
   "source": [
    "Loading required packages.\n",
    "If PyCO2SYS is not installed, then uncomment the first line for the first run."
   ]
  },
  {
   "cell_type": "code",
   "execution_count": null,
   "id": "ed142f38-ab5e-42fe-a299-e6c78150f1e5",
   "metadata": {
    "tags": []
   },
   "outputs": [],
   "source": [
    "#!pip install PyCO2SYS\n",
    "import PyCO2SYS as pyco2\n",
    "import pandas as pd\n",
    "from icoscp_core.icos import bootstrap,auth, meta,data, OCEAN_STATION\n",
    "import plotly.express as px\n",
    "import os.path\n",
    "\n",
    "def humanbytes(B):\n",
    "    \"\"\"Return the given bytes as a human friendly KB, MB, GB, or TB string.\"\"\"\n",
    "    B = float(B)\n",
    "    KB = float(1024)\n",
    "    MB = float(KB ** 2) \n",
    "    GB = float(KB ** 3) \n",
    "    TB = float(KB ** 4) \n",
    "    if B < KB:\n",
    "        return '{0} {1}'.format(B,'Bytes' if 0 == B > 1 else 'Byte')\n",
    "    elif KB <= B < MB:\n",
    "        return '{0:.2f} KB'.format(B / KB)\n",
    "    elif MB <= B < GB:\n",
    "        return '{0:.2f} MB'.format(B / MB)\n",
    "    elif GB <= B < TB:\n",
    "        return '{0:.2f} GB'.format(B / GB)\n",
    "    elif TB <= B:\n",
    "        return '{0:.2f} TB'.format(B / TB)"
   ]
  },
  {
   "cell_type": "code",
   "execution_count": null,
   "id": "43a43e91-19e5-481f-8ede-aa05d8f35d05",
   "metadata": {
    "tags": []
   },
   "outputs": [],
   "source": [
    "#auth.init_config_file()  # only for the first run, then move .password to your root directory with attrib 400\n",
    "auth,meta,data = bootstrap.fromPasswordFile('~/.password')"
   ]
  },
  {
   "cell_type": "code",
   "execution_count": null,
   "id": "bed351f6-a348-4726-a82c-f3445a1f76e5",
   "metadata": {
    "tags": []
   },
   "outputs": [],
   "source": [
    "all_datatypes = meta.list_datatypes()\n",
    "previewable_datatypes = [dt for dt in all_datatypes if ((dt.has_data_access) & (dt.theme.label=='Ocean data') ) ]\n",
    "previewable_datatypes"
   ]
  },
  {
   "cell_type": "code",
   "execution_count": null,
   "id": "a0866a6e-d1f6-40e4-83e7-84d67834e8fc",
   "metadata": {
    "tags": []
   },
   "outputs": [],
   "source": [
    "oceanStations = meta.list_stations(OCEAN_STATION)\n",
    "station = [st for st in oceanStations if ('Tukuma' in st.label) ]\n",
    "station"
   ]
  },
  {
   "cell_type": "code",
   "execution_count": null,
   "id": "c3a3e7c0-7ac2-4d8e-b849-575329368f37",
   "metadata": {
    "tags": []
   },
   "outputs": [],
   "source": [
    "otcReleaseType='http://meta.icos-cp.eu/resources/cpmeta/icosOtcL2Product'\n",
    "tukumaArctica='http://meta.icos-cp.eu/resources/stations/OS_26RA'\n",
    "latest_release = meta.list_data_objects(datatype=otcReleaseType,station=tukumaArctica)\n",
    "latest_release[0]"
   ]
  },
  {
   "cell_type": "code",
   "execution_count": null,
   "id": "7ada5ac1-4ada-4ef3-a06f-cb975f4d10ed",
   "metadata": {
    "tags": []
   },
   "outputs": [],
   "source": [
    "dobj_meta = meta.get_dobj_meta(latest_release[0].uri)\n",
    "dobj_meta"
   ]
  },
  {
   "cell_type": "code",
   "execution_count": null,
   "id": "3cb666a8-942c-4a5d-949a-76ea9819cca4",
   "metadata": {
    "tags": []
   },
   "outputs": [],
   "source": [
    "dobj_arrays = data.get_columns_as_arrays(dobj_meta)\n",
    "dobj_arrays"
   ]
  },
  {
   "cell_type": "code",
   "execution_count": null,
   "id": "8620a030-cd39-4e00-9c24-5749b2c7de54",
   "metadata": {
    "tags": []
   },
   "outputs": [],
   "source": [
    "dobj_arrays = data.get_columns_as_arrays(dobj_meta,['TIMESTAMP','Latitude','Longitude','fCO2 [uatm]'])\n",
    "df = pd.DataFrame(dobj_arrays)\n",
    "display(df)"
   ]
  },
  {
   "cell_type": "code",
   "execution_count": null,
   "id": "4ca233de-a4e9-45ed-bef4-e9e5bb943fb4",
   "metadata": {
    "tags": []
   },
   "outputs": [],
   "source": [
    "df = df[df['fCO2 [uatm]'] > 0]\n",
    "fig = px.scatter_geo(df,lat='Latitude',lon='Longitude', \n",
    "                     fitbounds='locations',\n",
    "                     hover_data='fCO2 [uatm]', \n",
    "                     hover_name = 'TIMESTAMP',\n",
    "                     color='fCO2 [uatm]', range_color=[330,410], \n",
    "                     width = 1024, height=500,\n",
    "                     projection= 'natural earth')\n",
    "fig.update_geos(resolution=50,\n",
    "                showcoastlines=True, coastlinecolor=\"RebeccaPurple\",\n",
    "                showland=True, landcolor=\"LightGreen\",\n",
    "                showocean=True, oceancolor=\"LightBlue\",\n",
    "                showlakes=True, lakecolor=\"Blue\")\n",
    "fig.update_layout(title = station[0].label+' '+dobj_meta.fileName, title_x=0.5)\n",
    "fig.show()"
   ]
  },
  {
   "cell_type": "code",
   "execution_count": null,
   "id": "b690a553-1ff0-49e3-889b-a16128aac19c",
   "metadata": {
    "tags": []
   },
   "outputs": [],
   "source": [
    "if not(os.path.isfile('data/glodap.pkl')):\n",
    "    glodap_df = pd.read_csv('data/GLODAPv2.2023_Arctic_Ocean.zip',sep=',',decimal='.',compression='zip')\n",
    "    glodap_df.rename(columns={'G2year':'year','G2month':'month','G2day':'day','G2hour':'hour','G2minute':'minute'},inplace=True)\n",
    "    glodap_df['year']=glodap_df['year'].astype('Int16') \n",
    "    glodap_df['month']=glodap_df['month'].astype('Int16') \n",
    "    glodap_df['day']=glodap_df['day'].astype('Int16') \n",
    "    glodap_df['hour']=glodap_df['hour'].astype('Int16') \n",
    "    glodap_df['minute']=glodap_df['minute'].astype('Int16') \n",
    "    glodap_df['Datetime'] = pd.to_datetime(glodap_df[['year','month','day','hour','minute']])\n",
    "    glodap_df.drop(['year','month','day','hour','minute'],axis=1,inplace=True)\n",
    "    glodap_df.set_index('Datetime',inplace=True)\n",
    "    glodap_df.to_pickle('data/glodap.pkl') # now save for next time"
   ]
  },
  {
   "cell_type": "code",
   "execution_count": null,
   "id": "3ff80924-9fc8-439d-9d9e-b4487f29dd2c",
   "metadata": {
    "tags": []
   },
   "outputs": [],
   "source": [
    "glodap_df=pd.DataFrame()\n",
    "glodap_df=pd.read_pickle('data/glodap.pkl')\n",
    "print('Memory size of glodap dataframe: ', humanbytes(glodap_df.memory_usage().sum()) )\n",
    "glodap_df"
   ]
  },
  {
   "cell_type": "code",
   "execution_count": null,
   "id": "df057d7f-0b49-4afc-b588-4eb0178630c1",
   "metadata": {
    "tags": []
   },
   "outputs": [],
   "source": [
    "selected=glodap_df[(glodap_df['G2depth'] <10) \n",
    "                   & (glodap_df['G2fco2']>0) \n",
    "                   & (glodap_df.index.year>2014)].filter(['G2fco2','G2latitude','G2longitude'],axis=1)\n",
    "fig = px.scatter_geo(selected,lat='G2latitude',lon='G2longitude', \n",
    "                     fitbounds='locations',\n",
    "                     hover_data = 'G2fco2', \n",
    "                     color='G2fco2', \n",
    "                     width = 1024, height=500,\n",
    "                     projection= 'natural earth')\n",
    "fig.update_geos(resolution=50,showcoastlines=True,\n",
    "                coastlinecolor=\"RebeccaPurple\",\n",
    "                showland=True,landcolor=\"LightGreen\",\n",
    "                showocean=True,oceancolor=\"LightBlue\",\n",
    "                showlakes=True,lakecolor=\"Blue\")\n",
    "fig.update_layout(title = 'GLODAP 2015-2021', title_x=0.5)\n",
    "fig.show()"
   ]
  },
  {
   "cell_type": "code",
   "execution_count": null,
   "id": "7f942fe5-fd47-4a0c-ae5e-83b8b7cda2b1",
   "metadata": {},
   "outputs": [],
   "source": []
  }
 ],
 "metadata": {
  "kernelspec": {
   "display_name": "Python 3 (ipykernel)",
   "language": "python",
   "name": "python3"
  },
  "language_info": {
   "codemirror_mode": {
    "name": "ipython",
    "version": 3
   },
   "file_extension": ".py",
   "mimetype": "text/x-python",
   "name": "python",
   "nbconvert_exporter": "python",
   "pygments_lexer": "ipython3",
   "version": "3.10.6"
  }
 },
 "nbformat": 4,
 "nbformat_minor": 5
}
