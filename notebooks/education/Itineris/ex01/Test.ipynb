{
 "cells": [
  {
   "cell_type": "markdown",
   "id": "1dc1727a-aa4d-4f1f-accf-29681772f649",
   "metadata": {},
   "source": [
    "Loading required packages.\n",
    "If PyCO2SYS is not installed, then uncomment the first line for the first run."
   ]
  },
  {
   "cell_type": "code",
   "execution_count": null,
   "id": "ed142f38-ab5e-42fe-a299-e6c78150f1e5",
   "metadata": {
    "tags": []
   },
   "outputs": [],
   "source": [
    "#!pip install PyCO2SYS\n",
    "import PyCO2SYS as pyco2\n",
    "import pandas as pd\n",
    "from icoscp_core.icos import bootstrap,auth, meta,data\n",
    "import os.path\n",
    "\n",
    "def humanbytes(B):\n",
    "    \"\"\"Return the given bytes as a human friendly KB, MB, GB, or TB string.\"\"\"\n",
    "    B = float(B)\n",
    "    KB = float(1024)\n",
    "    MB = float(KB ** 2) \n",
    "    GB = float(KB ** 3) \n",
    "    TB = float(KB ** 4) \n",
    "    if B < KB:\n",
    "        return '{0} {1}'.format(B,'Bytes' if 0 == B > 1 else 'Byte')\n",
    "    elif KB <= B < MB:\n",
    "        return '{0:.2f} KB'.format(B / KB)\n",
    "    elif MB <= B < GB:\n",
    "        return '{0:.2f} MB'.format(B / MB)\n",
    "    elif GB <= B < TB:\n",
    "        return '{0:.2f} GB'.format(B / GB)\n",
    "    elif TB <= B:\n",
    "        return '{0:.2f} TB'.format(B / TB)"
   ]
  },
  {
   "cell_type": "code",
   "execution_count": null,
   "id": "036f953c-4d76-4239-bc68-4c558c87e581",
   "metadata": {
    "tags": []
   },
   "outputs": [],
   "source": [
    "#auth.init_config_file()  # only for the first run, then move .password to your root directory with attrib 400\n",
    "auth,meta,data = bootstrap.fromPasswordFile('~/.password')\n",
    "all_datatypes = meta.list_datatypes()\n",
    "previewable_datatypes = [dt for dt in all_datatypes if ((dt.has_data_access) & (dt.theme.label=='Ocean data') ) ]\n",
    "previewable_datatypes"
   ]
  },
  {
   "cell_type": "code",
   "execution_count": null,
   "id": "b690a553-1ff0-49e3-889b-a16128aac19c",
   "metadata": {
    "tags": []
   },
   "outputs": [],
   "source": [
    "if not(os.path.isfile('glodap.pkl')):\n",
    "    glodap_df = pd.read_csv('~/project/otc_co2sys/GLODAPv2.2023_Arctic_Ocean.zip',sep=',',decimal='.',compression='zip')\n",
    "    glodap_df.rename(columns={'G2year':'year','G2month':'month','G2day':'day','G2hour':'hour','G2minute':'minute'},inplace=True)\n",
    "    glodap_df['year']=glodap_df['year'].astype('Int16') \n",
    "    glodap_df['month']=glodap_df['month'].astype('Int16') \n",
    "    glodap_df['day']=glodap_df['day'].astype('Int16') \n",
    "    glodap_df['hour']=glodap_df['hour'].astype('Int16') \n",
    "    glodap_df['minute']=glodap_df['minute'].astype('Int16') \n",
    "    glodap_df['Datetime'] = pd.to_datetime(glodap_df[['year','month','day','hour','minute']])\n",
    "    glodap_df.drop(['year','month','day','hour','minute'],axis=1,inplace=True)\n",
    "    glodap_df.set_index('Datetime',inplace=True)\n",
    "    glodap_df.to_pickle('glodap.pkl') # now save for next time"
   ]
  },
  {
   "cell_type": "code",
   "execution_count": null,
   "id": "3ff80924-9fc8-439d-9d9e-b4487f29dd2c",
   "metadata": {
    "tags": []
   },
   "outputs": [],
   "source": [
    "glodap_df=pd.DataFrame()\n",
    "glodap_df=pd.read_pickle('glodap.pkl')\n",
    "print('Memory size of glodap dataframe: ', humanbytes(glodap_df.memory_usage().sum()) )\n",
    "glodap_df"
   ]
  },
  {
   "cell_type": "code",
   "execution_count": null,
   "id": "df057d7f-0b49-4afc-b588-4eb0178630c1",
   "metadata": {},
   "outputs": [],
   "source": []
  }
 ],
 "metadata": {
  "kernelspec": {
   "display_name": "Python 3 (ipykernel)",
   "language": "python",
   "name": "python3"
  },
  "language_info": {
   "codemirror_mode": {
    "name": "ipython",
    "version": 3
   },
   "file_extension": ".py",
   "mimetype": "text/x-python",
   "name": "python",
   "nbconvert_exporter": "python",
   "pygments_lexer": "ipython3",
   "version": "3.10.6"
  }
 },
 "nbformat": 4,
 "nbformat_minor": 5
}
