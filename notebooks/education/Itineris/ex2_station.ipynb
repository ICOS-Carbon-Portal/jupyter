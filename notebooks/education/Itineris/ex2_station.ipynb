{
 "cells": [
  {
   "cell_type": "markdown",
   "metadata": {},
   "source": [
    "<img src='https://www.icos-cp.eu/sites/default/files/2017-11/ICOS_CP_logo.png' width=400 align=right>\n",
    "\n",
    "# ICOS Carbon Portal Python Libraries\n",
    "\n",
    "This example uses a foundational library called `icoscp_core` which can be used to access time-series ICOS data that are <i>previewable</i> in the ICOS Data Portal. \"Previewable\" means that it is possible to visualize the data variables in the preview plot. The library can also be used to access (meta-)data from [ICOS Cities](https://citydata.icos-cp.eu/portal/) and [SITES](https://data.fieldsites.se/portal/) data repositories. \n",
    "\n",
    "General information on all ICOS Carbon Portal Python libraries can be found on our [help pages](https://icos-carbon-portal.github.io/pylib/). \n",
    "\n",
    "Documentation of the `icoscp_core` library, including information on running it locally, can also be found on [PyPI.org](https://pypi.org/project/icoscp_core/).\n",
    "\n",
    "\n",
    "# Example: Explore ICOS stations and list their data\n"
   ]
  },
  {
   "cell_type": "markdown",
   "metadata": {},
   "source": [
    "## Import the library"
   ]
  },
  {
   "cell_type": "code",
   "execution_count": null,
   "metadata": {},
   "outputs": [],
   "source": [
    "from icoscp_core.icos import meta, station_class_lookup"
   ]
  },
  {
   "cell_type": "markdown",
   "metadata": {},
   "source": [
    "## Get help"
   ]
  },
  {
   "cell_type": "code",
   "execution_count": null,
   "metadata": {
    "tags": []
   },
   "outputs": [],
   "source": [
    "import icoscp_core\n",
    "help(meta.list_stations)\n",
    "#help(icoscp_core.queries.stationlist.StationLite)"
   ]
  },
  {
   "cell_type": "markdown",
   "metadata": {},
   "source": [
    "## List of stations\n",
    "Get a list of all ICOS stations as a pandas dataframe table with basic information. Only final certified ICOS stations are listed.\n",
    "<br>Good to know:\n",
    "- uri => landing page URI and stable metadata id for the station at the ICOS Carbon Portal\n",
    "- id  => ICOS-internal station id\n",
    "- elevation => meter above sea level\n",
    "- type_uri => URI representing the type of station, last segment of the URI: ES=EcoSystem, AS=Atmosphere, OS=Ocean\n"
   ]
  },
  {
   "cell_type": "code",
   "execution_count": null,
   "metadata": {},
   "outputs": [],
   "source": [
    "import pandas as pd\n",
    "\n",
    "icoslike_stations = meta.list_stations()\n",
    "\n",
    "icos_stations = [\n",
    "    s for s in icoslike_stations\n",
    "    # only stations with ICOS station class are proper ICOS stations\n",
    "    if station_class_lookup().get(s.uri)\n",
    "]\n",
    "\n",
    "pd.DataFrame(icos_stations)"
   ]
  },
  {
   "cell_type": "markdown",
   "metadata": {},
   "source": [
    "## Map of stations\n",
    "Generate a folium map of stations. Each marker in the map represents a station and contains station related information.\n",
    "\n",
    "Many ecosystem stations have detailed geo coverage which can be seen if zoomed in on the station."
   ]
  },
  {
   "cell_type": "code",
   "execution_count": null,
   "metadata": {},
   "outputs": [],
   "source": [
    "import folium\n",
    "from icoscp_core.queries.stationlist import StationLite # just for type annotation\n",
    "\n",
    "icos_themes = {\n",
    "    'AS': 'Atmospheric station',\n",
    "    'ES': 'Ecosystem station',\n",
    "    'OS': 'Ocean station'\n",
    "}\n",
    "\n",
    "def icon_uri(st_class):\n",
    "    return f\"https://static.icos-cp.eu/share/stations/icons/{st_class.lower()}.png\"\n",
    "\n",
    "icon_lookup = {\n",
    "    f\"http://meta.icos-cp.eu/ontologies/cpmeta/{st_class}\": icon_uri(st_class)\n",
    "    for st_class in icos_themes\n",
    "}\n",
    "\n",
    "def popup_line(name: str, body: str | float | None) -> str:\n",
    "    return '' if body is None else f'<b>{name}:</b> {body}<br>\\n'\n",
    "\n",
    "# Simple popup html with basic station details\n",
    "def popup_content(s: StationLite) -> str:\n",
    "    return ''.join([\n",
    "        popup_line(\"Station\", f\"<a href='{s.uri}' target='_blank'>{s.name}</a>\"),\n",
    "        popup_line(\"ID\", s.id),\n",
    "        popup_line(\"Country\", s.country_code),\n",
    "        popup_line(\"Latitude\", s.lat),\n",
    "        popup_line(\"Longitude\", s.lon),\n",
    "        popup_line(\"Elevation\", s.elevation),\n",
    "    ])\n",
    "\n",
    "# Initialize the map\n",
    "myMap = folium.Map(location=[53, 0], zoom_start=4)\n",
    "\n",
    "# Add stations to the map\n",
    "for s in icos_stations:\n",
    "    \n",
    "    icon_url = icon_lookup.get(s.type_uri, None)\n",
    "\n",
    "    popup = folium.Popup(popup_content(s), max_width=300)\n",
    "\n",
    "    if s.geo_json:\n",
    "        folium.GeoJson(\n",
    "            data=s.geo_json,\n",
    "            tooltip=s.label,\n",
    "            popup=None if s.lat and s.lon else popup,# avoid popup reuse\n",
    "            marker=folium.Circle(radius = 1) # bogus radius; circle is used to avoid the default pin\n",
    "        ).add_to(myMap)\n",
    "\n",
    "    if s.lat and s.lon:  # Check if station has latitude and longitude\n",
    "        # Add the marker with the popup and custom icon\n",
    "        folium.Marker(\n",
    "            location=[s.lat, s.lon],\n",
    "            tooltip=s.label,\n",
    "            popup=popup,\n",
    "            icon=folium.CustomIcon(icon_url, (23, 28)) if icon_url else None\n",
    "        ).add_to(myMap)\n",
    "             \n",
    "# Add a simple legend\n",
    "legend_lines = [\n",
    "    f'<img src=\"{icon_uri(st_class)}\" style=\"width:15px;height:20px;\"> {st_class_name}<br>\\n'\n",
    "    for st_class, st_class_name in icos_themes.items()\n",
    "]\n",
    "\n",
    "legend_html = f\"\"\"\n",
    "<div style=\"\n",
    "    position: fixed; \n",
    "    bottom: 20px; left: 20px; width: 200px; height: 90px; \n",
    "    background-color: white; border:1px solid grey; z-index:9999; font-size:14px;\n",
    "    font-family: Arial, sans-serif;\n",
    "    \">\n",
    "    <div style=\"padding: 10px;\">\n",
    "        {''.join(legend_lines)}\n",
    "    </div>\n",
    "</div>\n",
    "\"\"\"\n",
    "myMap.get_root().html.add_child(folium.Element(legend_html))\n",
    "\n",
    "# Display the map\n",
    "myMap"
   ]
  },
  {
   "cell_type": "markdown",
   "metadata": {},
   "source": [
    "## Station meta data\n",
    "\n",
    "### Fetch and use station metadata"
   ]
  },
  {
   "cell_type": "code",
   "execution_count": null,
   "metadata": {},
   "outputs": [],
   "source": [
    "# pick a station from the list of stations above (icos_stations: access with index)\n",
    "# you can also use its URI to identify it as demonstrated below. \n",
    "# the uri's of the stations can also be copied from the popup content of the map\n",
    "zep_uri = \"http://meta.icos-cp.eu/resources/stations/AS_ZEP\"\n",
    "zep = meta.get_station_meta(zep_uri)"
   ]
  },
  {
   "cell_type": "code",
   "execution_count": null,
   "metadata": {},
   "outputs": [],
   "source": [
    "zep.id"
   ]
  },
  {
   "cell_type": "code",
   "execution_count": null,
   "metadata": {},
   "outputs": [],
   "source": [
    "zep.org.name"
   ]
  },
  {
   "cell_type": "code",
   "execution_count": null,
   "metadata": {},
   "outputs": [],
   "source": [
    "zep.org.self.uri"
   ]
  },
  {
   "cell_type": "code",
   "execution_count": null,
   "metadata": {},
   "outputs": [],
   "source": [
    "zep.location"
   ]
  },
  {
   "cell_type": "code",
   "execution_count": null,
   "metadata": {},
   "outputs": [],
   "source": [
    "zep.pictures"
   ]
  },
  {
   "cell_type": "code",
   "execution_count": null,
   "metadata": {},
   "outputs": [],
   "source": [
    "zep.specificInfo"
   ]
  },
  {
   "cell_type": "code",
   "execution_count": null,
   "metadata": {},
   "outputs": [],
   "source": [
    "zep.staff"
   ]
  },
  {
   "cell_type": "markdown",
   "metadata": {},
   "source": [
    "### Station metadata reference\n",
    "\n",
    "Available (nested) metadata properties can be discovered with Tab-completion after \".\"\n",
    "\n",
    "For a more principled discovery of the metadata properties, one can examine Python documentation for respective types as follows."
   ]
  },
  {
   "cell_type": "code",
   "execution_count": null,
   "metadata": {},
   "outputs": [],
   "source": [
    "from icoscp_core import metacore\n",
    "from icoscp_core.metaclient import Station\n",
    "help(Station)\n",
    "#help(metacore.Organization)\n",
    "#help(metacore.UriResource)\n",
    "#metacore.URI # alias for str\n",
    "#help(metacore.Position)\n",
    "#help(icoscp_core.rolemeta.Membership)\n",
    "#help(icoscp_core.rolemeta.RoleDetails)\n",
    "#help(metacore.Funding)\n",
    "#metacore.StationSpecifics\n",
    "#help(metacore.AtcStationSpecifics)\n",
    "#metacore.IcosStationClass"
   ]
  },
  {
   "cell_type": "markdown",
   "metadata": {},
   "source": [
    "## Data associated with a station\n",
    "List all L2 data objects associated with a specific station."
   ]
  },
  {
   "cell_type": "code",
   "execution_count": null,
   "metadata": {},
   "outputs": [],
   "source": [
    "# first discover all L2 data types\n",
    "l2_data_types = [dt for dt in meta.list_datatypes() if dt.data_level == 2]\n",
    "data_objs = meta.list_data_objects(datatype=l2_data_types, station=zep_uri)\n",
    "pd.DataFrame(data_objs)"
   ]
  },
  {
   "cell_type": "code",
   "execution_count": null,
   "metadata": {},
   "outputs": [],
   "source": []
  }
 ],
 "metadata": {
  "kernelspec": {
   "display_name": "Python 3 (ipykernel)",
   "language": "python",
   "name": "python3"
  },
  "language_info": {
   "codemirror_mode": {
    "name": "ipython",
    "version": 3
   },
   "file_extension": ".py",
   "mimetype": "text/x-python",
   "name": "python",
   "nbconvert_exporter": "python",
   "pygments_lexer": "ipython3",
   "version": "3.10.6"
  },
  "toc": {
   "base_numbering": 1,
   "nav_menu": {},
   "number_sections": false,
   "sideBar": true,
   "skip_h1_title": false,
   "title_cell": "Table of Contents",
   "title_sidebar": "Contents",
   "toc_cell": false,
   "toc_position": {
    "height": "calc(100% - 180px)",
    "left": "10px",
    "top": "150px",
    "width": "282.898px"
   },
   "toc_section_display": true,
   "toc_window_display": true
  }
 },
 "nbformat": 4,
 "nbformat_minor": 4
}
