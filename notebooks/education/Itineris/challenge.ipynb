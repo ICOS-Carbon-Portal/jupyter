{
 "cells": [
  {
   "cell_type": "markdown",
   "id": "4d280692-e0fb-4aa0-bf3e-609f188a78aa",
   "metadata": {},
   "source": [
    "<img src='https://www.icos-cp.eu/sites/default/files/2017-11/ICOS_CP_logo.png' width=400 align=right>\n",
    "\n",
    "# ICOS Carbon Portal Python Libraries\n",
    "\n",
    "## The Nordstream challenge\n",
    "\n",
    "<img src=\"img/skynews-nord-stream-pipeline_5913391.jpg\" align=\"left\"> <br clear=\"all\" />\n",
    "\n",
    "Try to estimate the amount of methane that escaped as a result of the Nordstream pipelines explosion on 26 September 2022\n"
   ]
  },
  {
   "cell_type": "markdown",
   "id": "1d85070f-25fd-4972-8c90-77d16ae45a8d",
   "metadata": {
    "execution": {
     "iopub.execute_input": "2025-01-26T16:55:32.732741Z",
     "iopub.status.busy": "2025-01-26T16:55:32.731447Z",
     "iopub.status.idle": "2025-01-26T16:55:32.742246Z",
     "shell.execute_reply": "2025-01-26T16:55:32.741401Z",
     "shell.execute_reply.started": "2025-01-26T16:55:32.732640Z"
    }
   },
   "source": [
    "Affected stations that observed methane peaks due to this explosion were: UTO, NOR, HTM, BIR, RGL. \n",
    "See the ICOS press release at: https://www.icos-cp.eu/event/1221\n",
    "On the morning of September 26, a leak from the Nord Stream 2 pipeline was detected in a location (54.88° N, 15.41° E) to the southeast of the island of Bornholm, Denmark. That evening, the North Stream 1 pipeline also started to leak in two locations (55.54° N, 15.60° E and 55.56° N, 15.79° E) to the northeast of Bornholm (https://doi.org/10.1016/j.ese.2022.100210)"
   ]
  },
  {
   "cell_type": "markdown",
   "id": "a35d9ca4-6944-49f7-ad10-ccc6754d4ae2",
   "metadata": {
    "execution": {
     "iopub.execute_input": "2025-01-26T17:54:01.377182Z",
     "iopub.status.busy": "2025-01-26T17:54:01.375418Z",
     "iopub.status.idle": "2025-01-26T17:54:01.384745Z",
     "shell.execute_reply": "2025-01-26T17:54:01.383379Z",
     "shell.execute_reply.started": "2025-01-26T17:54:01.377142Z"
    }
   },
   "source": [
    "The following steps are suggested:\n",
    "\n",
    "1. Try to make a composite plot of the CH4 signals at the 5 stations from the latest Obspack CH4 collection\n",
    "2. Do the same for the STILT predicted concentrations for the 5 stations\n",
    "3. Estimate the footprit value for one or more peaks and calcuate the corresponding emission you need to get that ch4\n",
    "mole fraction increase at that station"
   ]
  },
  {
   "cell_type": "code",
   "execution_count": null,
   "id": "b1759d82-4414-4b3d-bc2b-3b6e805d62c7",
   "metadata": {
    "tags": []
   },
   "outputs": [],
   "source": []
  }
 ],
 "metadata": {
  "kernelspec": {
   "display_name": "Python 3 (ipykernel)",
   "language": "python",
   "name": "python3"
  },
  "language_info": {
   "codemirror_mode": {
    "name": "ipython",
    "version": 3
   },
   "file_extension": ".py",
   "mimetype": "text/x-python",
   "name": "python",
   "nbconvert_exporter": "python",
   "pygments_lexer": "ipython3",
   "version": "3.10.6"
  }
 },
 "nbformat": 4,
 "nbformat_minor": 5
}
