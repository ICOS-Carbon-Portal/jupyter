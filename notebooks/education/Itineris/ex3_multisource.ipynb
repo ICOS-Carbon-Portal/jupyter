{
 "cells": [
  {
   "cell_type": "markdown",
   "metadata": {},
   "source": [
    "<img src='https://www.icos-cp.eu/sites/default/files/2017-11/ICOS_CP_logo.png' width=400 align=right>\n",
    "\n",
    "# ICOS Carbon Portal Python Libraries \n",
    "\n",
    "This example uses a foundational library called `icoscp_core` which can be used to access time-series ICOS data that are <i>previewable</i> in the ICOS Data Portal. \"Previewable\" means that it is possible to visualize the data variables in the preview plot. The library can also be used to access (meta-)data from [ICOS Cities](https://citydata.icos-cp.eu/portal/) and [SITES](https://data.fieldsites.se/portal/) data repositories. \n",
    "\n",
    "General information on all ICOS Carbon Portal Python libraries can be found on our [help pages](https://icos-carbon-portal.github.io/pylib/). \n",
    "\n",
    "Documentation of the `icoscp_core` library, including information on running it locally, can also be found on [PyPI.org](https://pypi.org/project/icoscp_core/).\n",
    "\n",
    "Note that for running this example locally, authentication is required (see the `how_to_authenticate.ipynb` notebook).\n",
    "\n",
    "# Example: Access ICOS data and plot with data from PANGEA\n",
    "\n",
    "This example highlights the possibility of using two independent datasets. One is loaded from the ICOS Carbon Portal's ocean domain and contains data from a boat traveling from Europe to Brazil. The second dataset contains similar data collected from another boat traveling from Europe to South America.\n",
    "\n",
    "Originally, this example was created as a demonstrator in support of “Integrating data and analysis technologies within leading environmental research infrastructures: Challenges and approaches,” Huber et al., 2021, https://doi.org/10.1016/j.ecoinf.2021.101245. Since then, small updates in the graphic presentations have been made.\n"
   ]
  },
  {
   "cell_type": "markdown",
   "metadata": {},
   "source": [
    "## Import libraries"
   ]
  },
  {
   "cell_type": "code",
   "execution_count": null,
   "metadata": {},
   "outputs": [],
   "source": [
    "# Import some standard libraries\n",
    "import matplotlib.pyplot as plt\n",
    "import matplotlib.colors as mcolors\n",
    "import folium\n",
    "import os\n",
    "import cartopy\n",
    "cartopy.config['data_dir'] = '/data/project/cartopy/'\n",
    "import cartopy.crs as ccrs\n",
    "import cartopy.feature as feat\n",
    "import numpy as np\n",
    "import pandas as pd\n",
    "\n",
    "# Import ICOS and PANGAEA library\n",
    "from icoscp_core.icos import meta, data\n",
    "from pangaeapy import PanDataSet"
   ]
  },
  {
   "cell_type": "markdown",
   "metadata": {},
   "source": [
    "## Load data from ICOS and PANGAEA"
   ]
  },
  {
   "cell_type": "code",
   "execution_count": null,
   "metadata": {},
   "outputs": [],
   "source": [
    "icosmeta = meta.get_dobj_meta('https://meta.icos-cp.eu/objects/xgu4rfCmqvXb4w1wGGD6mYsB')\n",
    "# please use data.batch_get_columns_as_arrays when fetching data for uniform lists of data objects\n",
    "icosdata = data.get_columns_as_arrays(icosmeta)\n",
    "icosdata_frame = pd.DataFrame(icosdata)\n",
    "\n",
    "pandata = PanDataSet('10.1594/PANGAEA.889516')\n",
    "pandata_frame=pandata.data"
   ]
  },
  {
   "cell_type": "markdown",
   "metadata": {},
   "source": [
    "## Let's have a look at the returned data"
   ]
  },
  {
   "cell_type": "code",
   "execution_count": null,
   "metadata": {},
   "outputs": [],
   "source": [
    "icosdata_frame.head(3)"
   ]
  },
  {
   "cell_type": "code",
   "execution_count": null,
   "metadata": {},
   "outputs": [],
   "source": [
    "pandata_frame.head(3)"
   ]
  },
  {
   "cell_type": "markdown",
   "metadata": {},
   "source": [
    "## Plot showing water temperatures\n"
   ]
  },
  {
   "cell_type": "markdown",
   "metadata": {},
   "source": [
    "### Dates and temperatures"
   ]
  },
  {
   "cell_type": "code",
   "execution_count": null,
   "metadata": {},
   "outputs": [],
   "source": [
    "plt.figure(figsize=(10,6))\n",
    "ax = plt.axes()\n",
    "icosdata_frame.plot(x='TIMESTAMP', y='Temp [degC]', label ='ICOS data',ax=ax,linestyle='None', marker='o',grid='on',legend=True)\n",
    "pandata_frame.plot(x='Date/Time', y='Temp',label ='PANGEA data',ax=ax, linestyle='None', marker='o',grid='on')\n",
    "plt.show()"
   ]
  },
  {
   "cell_type": "markdown",
   "metadata": {},
   "source": [
    "### Dates, temperatures, and latitude"
   ]
  },
  {
   "cell_type": "code",
   "execution_count": null,
   "metadata": {},
   "outputs": [],
   "source": [
    "\n",
    "# Combine the temperature data from both datasets to find the global min and max\n",
    "min_temp = min(icosdata_frame['Temp [degC]'].min(), pandata_frame['Temp'].min())\n",
    "max_temp = max(icosdata_frame['Temp [degC]'].max(), pandata_frame['Temp'].max())\n",
    "\n",
    "plt.figure(figsize=(10, 6))\n",
    "ax = plt.axes()\n",
    "\n",
    "# Plotting ICOS data with Latitude on y-axis and color based on Temp [degC]\n",
    "icos_scatter = ax.scatter(\n",
    "    x=icosdata_frame['TIMESTAMP'], \n",
    "    y=icosdata_frame['Latitude'], \n",
    "    c=icosdata_frame['Temp [degC]'], \n",
    "    cmap='coolwarm', \n",
    "    vmin=min_temp, \n",
    "    vmax=max_temp, \n",
    "    label='ICOS data (right)', \n",
    "    marker='o'\n",
    ")\n",
    "\n",
    "# Plotting PANGEA data with Latitude on y-axis and color based on Temp\n",
    "pangea_scatter = ax.scatter(\n",
    "    x=pandata_frame['Date/Time'], \n",
    "    y=pandata_frame['Latitude'], \n",
    "    c=pandata_frame['Temp'], \n",
    "    cmap='coolwarm',  # Use the same colormap\n",
    "    vmin=min_temp, \n",
    "    vmax=max_temp, \n",
    "    label='PANGEA data (left)', \n",
    "    marker='o'\n",
    ")\n",
    "\n",
    "# Add a single colorbar for both scatter plots\n",
    "cbar = plt.colorbar(icos_scatter, ax=ax)\n",
    "cbar.set_label('Temperature [degC]')\n",
    "\n",
    "# Adding grid, legend, and title\n",
    "plt.grid(True)\n",
    "plt.legend()\n",
    "plt.title('Water Temperature vs Latitude')\n",
    "plt.xlabel('Timestamp')\n",
    "plt.ylabel('Latitude')\n",
    "\n",
    "plt.show()\n",
    "\n"
   ]
  },
  {
   "cell_type": "markdown",
   "metadata": {},
   "source": [
    "### Interactive map \n",
    "\n",
    "Hover over the points on the map to see more information about each observation. You can switch between different basemaps."
   ]
  },
  {
   "cell_type": "code",
   "execution_count": null,
   "metadata": {
    "tags": []
   },
   "outputs": [],
   "source": [
    "\n",
    "# Combine the temperature data from both datasets to find the global min and max\n",
    "min_temp = min(icosdata_frame['Temp [degC]'].min(), pandata_frame['Temp'].min())\n",
    "max_temp = max(icosdata_frame['Temp [degC]'].max(), pandata_frame['Temp'].max())\n",
    "\n",
    "# Create a colormap using matplotlib's 'coolwarm'\n",
    "cmap = plt.cm.get_cmap('coolwarm')\n",
    "\n",
    "# Normalize the temperature values to the range [0, 1] for the colormap\n",
    "norm = mcolors.Normalize(vmin=min_temp, vmax=max_temp)\n",
    "\n",
    "# Create the map\n",
    "myMap = folium.Map(location=[20, 0], zoom_start=2)\n",
    "folium.TileLayer('openstreetmap').add_to(myMap)\n",
    "folium.TileLayer(tiles = 'https://server.arcgisonline.com/ArcGIS/rest/services/World_Imagery/MapServer/tile/{z}/{y}/{x}', attr = 'Esri',show=False, name='ESRI satellite').add_to(myMap)  # use folium to add alternative tiles\n",
    "\n",
    "# Add ICOS data with colored markers based on temperature\n",
    "for lat, lon, temp, time in zip(icosdata_frame['Latitude'], icosdata_frame['Longitude'], icosdata_frame['Temp [degC]'], icosdata_frame['TIMESTAMP']):\n",
    "    folium.CircleMarker(\n",
    "        location=[lat, lon],\n",
    "        radius=2,\n",
    "        color=mcolors.to_hex(cmap(norm(temp))),\n",
    "        fill=True,\n",
    "        fill_color=mcolors.to_hex(cmap(norm(temp))),\n",
    "        fill_opacity=0.7,\n",
    "        tooltip=f\"ICOS data<br>{time}<br>{temp:.2f} °C\"\n",
    "    ).add_to(myMap)\n",
    "\n",
    "# Add PANGEA data with colored markers based on temperature\n",
    "for lat, lon, temp, time in zip(pandata_frame['Latitude'], pandata_frame['Longitude'], pandata_frame['Temp'], pandata_frame['Date/Time']):\n",
    "    folium.CircleMarker(\n",
    "        location=[lat, lon],\n",
    "        radius=2,\n",
    "        color=mcolors.to_hex(cmap(norm(temp))),\n",
    "        fill=True,\n",
    "        fill_color=mcolors.to_hex(cmap(norm(temp))),\n",
    "        fill_opacity=0.7,\n",
    "        tooltip=f\"PANGEA data<br>{time}<br>{temp:.2f} °C\"\n",
    "    ).add_to(myMap)\n",
    "\n",
    "# Add a layer control to toggle between the tile layers\n",
    "folium.LayerControl().add_to(myMap)\n",
    "\n",
    "# Display the map\n",
    "myMap\n"
   ]
  },
  {
   "cell_type": "markdown",
   "metadata": {},
   "source": [
    "### Static map\n"
   ]
  },
  {
   "cell_type": "code",
   "execution_count": null,
   "metadata": {},
   "outputs": [],
   "source": [
    "\n",
    "# Combine the temperature data from both datasets to find the global min and max\n",
    "min_temp = min(pandata_frame['Temp'].min(), icosdata_frame['Temp [degC]'].min())\n",
    "max_temp = max(pandata_frame['Temp'].max(), icosdata_frame['Temp [degC]'].max())\n",
    "\n",
    "# Combine latitude and longitude data to find the global extent\n",
    "min_lat = min(pandata_frame['Latitude'].min(), icosdata_frame['Latitude'].min())\n",
    "max_lat = max(pandata_frame['Latitude'].max(), icosdata_frame['Latitude'].max())\n",
    "min_lon = min(pandata_frame['Longitude'].min(), icosdata_frame['Longitude'].min())\n",
    "max_lon = max(pandata_frame['Longitude'].max(), icosdata_frame['Longitude'].max())\n",
    "\n",
    "# Create the map with the dynamic extent\n",
    "proj = ccrs.Miller()\n",
    "plt.figure(dpi=150)\n",
    "ax = plt.axes(projection=proj)\n",
    "ax.set_extent([min_lon, max_lon, min_lat, max_lat], crs=ccrs.PlateCarree())\n",
    "ax.stock_img()\n",
    "land_50m = feat.NaturalEarthFeature('physical', 'land', '50m', edgecolor='grey', facecolor=feat.COLORS['land'])\n",
    "ax.add_feature(land_50m)\n",
    "ax.coastlines()\n",
    "\n",
    "# Scatter plots with consistent color scale\n",
    "scatter_pan = ax.scatter(\n",
    "    pandata_frame['Longitude'], pandata_frame['Latitude'],\n",
    "    c=pandata_frame['Temp'], s=0.2, transform=ccrs.PlateCarree(),\n",
    "    cmap='coolwarm', vmin=min_temp, vmax=max_temp\n",
    ")\n",
    "\n",
    "scatter_icos = ax.scatter(\n",
    "    icosdata_frame['Longitude'], icosdata_frame['Latitude'],\n",
    "    c=icosdata_frame['Temp [degC]'], s=0.3, transform=ccrs.PlateCarree(),\n",
    "    cmap='coolwarm', vmin=min_temp, vmax=max_temp\n",
    ")\n",
    "\n",
    "# Add a colorbar to represent temperature\n",
    "cbar = plt.colorbar(scatter_pan, ax=ax, orientation='vertical', pad=0.02)\n",
    "cbar.set_label('Temperature [°C]', fontsize=8)  # Change label font size\n",
    "cbar.ax.tick_params(labelsize=8)  # Change tick label font size\n",
    "\n",
    "# Optionally, save the figure\n",
    "# plt.savefig('name_of_plot.png')\n",
    "\n",
    "plt.show()\n"
   ]
  },
  {
   "cell_type": "markdown",
   "metadata": {},
   "source": [
    "## Cite the data set"
   ]
  },
  {
   "cell_type": "code",
   "execution_count": null,
   "metadata": {},
   "outputs": [],
   "source": [
    "print('ICOS:')\n",
    "print(icosmeta.references.citationString)\n",
    "\n",
    "print('PANGEA:')\n",
    "print(pandata.citation)"
   ]
  },
  {
   "cell_type": "code",
   "execution_count": null,
   "metadata": {},
   "outputs": [],
   "source": []
  }
 ],
 "metadata": {
  "kernelspec": {
   "display_name": "Python 3 (ipykernel)",
   "language": "python",
   "name": "python3"
  },
  "language_info": {
   "codemirror_mode": {
    "name": "ipython",
    "version": 3
   },
   "file_extension": ".py",
   "mimetype": "text/x-python",
   "name": "python",
   "nbconvert_exporter": "python",
   "pygments_lexer": "ipython3",
   "version": "3.10.6"
  },
  "toc": {
   "base_numbering": 1,
   "nav_menu": {},
   "number_sections": false,
   "sideBar": true,
   "skip_h1_title": false,
   "title_cell": "Table of Contents",
   "title_sidebar": "Contents",
   "toc_cell": false,
   "toc_position": {
    "height": "calc(100% - 180px)",
    "left": "10px",
    "top": "150px",
    "width": "349.091px"
   },
   "toc_section_display": true,
   "toc_window_display": true
  }
 },
 "nbformat": 4,
 "nbformat_minor": 4
}
