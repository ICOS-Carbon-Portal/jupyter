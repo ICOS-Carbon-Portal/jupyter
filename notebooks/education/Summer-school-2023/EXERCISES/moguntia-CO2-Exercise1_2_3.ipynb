{
 "cells": [
  {
   "cell_type": "markdown",
   "metadata": {
    "pycharm": {
     "name": "#%% md\n"
    }
   },
   "source": [
    "\n",
    "# MOGUNTIA CO$_2$ exercises\n",
    "\n",
    "---------\n",
    "<FONT COLOR=red>\n",
    "\n",
    "# Part 1: The atmospheric CO$_2$ budget \n",
    "\n",
    "<FONT COLOR=black> \n",
    "\n",
    "----------\n",
    "\n",
    "\n",
    "##### Maarten Krol, September 2019\n",
    "##### Wouter Peters, modifications for ICOS Summerschool, December 2021\n",
    "##### Wouter Peters, modifications for ICOS Summerschool, May 2023\n",
    "\n",
    "    \n",
    "##### version 4.0\n",
    "\n",
    "### Goal\n",
    "\n",
    "* Simulate the growth in atmospheric mixing ratios of CO$_2$ as a result of fossil fuel emissions.\n",
    "* Compare the simulated growth rate to observed growth rates.\n",
    "* estimate what fraction of the emitted CO$_2$ stays in the atmosphere. \n",
    "* Separate the ocean and biosphere CO$_2$ uptake.\n",
    "\n",
    "\n",
    "### Introduction\n",
    "\n",
    "The atmospheric mixing ratio of CO$_2$ has been increasing from about 330 ppm in 1974 to about 400 ppm in 2015 (see figure 1). There is little doubt that the anthropogenic CO$_2$ emissions that are related to fossil fuel use are responsible for the increase in atmospheric CO$_2$ mixing ratios. \n",
    "But what would be the increase in atmospheric burden if all the CO$_2$ would remain in the atmosphere? \n",
    "And what is the gradient between the Northern Hemisphere (most emissions) and the Southern hemisphere (less emissions)?\n",
    "To test this, CO$_2$ will be added to the MOGUNTIA model as an non-reactive tracer with only fossil fuel emissions. Other processes, such as uptake by the biosphere, oceans, and emission as a result of biomass burning, are initially ignored.\n",
    "<figure>\n",
    "  <img src=\"MLO.png\", width=\"600\" height=\"400\">\n",
    "  <figcaption> <i>Figure 1: Atmospheric CO$_2$ concentrations measured at Mauna Loa by NOAA/ESRL, Units are in $\\mu$mol mol$^{-1}$ which is equivalent to ppm.\n",
    "</i></figcaption>\n",
    "</figure>\n",
    "\n",
    "To compare to model to a real atmosphere (use **Overplot**), measurements taken by NOAA ESRL will be used. The link is given below. Also, the Carbon Dioxide Information Analysis Center provides estimates of world-wide CO$_2$ emissions. The web-addresses are used throughout the exercises.\n",
    "\n",
    "<table>\n",
    "  <caption>Table 1: Relevant web-addresses for the exercises</caption>\n",
    "<tr>\n",
    "<td align=\"left\">CO$_2$ measurements made by NOAA ESRL</td>\n",
    "<td align=\"left\"><a href=\"http://www.esrl.noaa.gov/gmd/dv/iadv/\">http://www.esrl.noaa.gov/gmd/dv/iadv/</a></td>\n",
    "</tr>\n",
    "<tr>\n",
    "<td align=\"left\">List of observation sites and 3 letter abbreviations</td>\n",
    "<td align=\"left\"><a href=\"https://www.esrl.noaa.gov/gmd/dv/site/\">https://www.esrl.noaa.gov/gmd/dv/site/</a></td>\n",
    "</tr>\n",
    "<tr>\n",
    "<td align=\"left\">CDIAC estimates of fossil emissions CO$_2$</td>\n",
    "<td align=\"left\"><a href=\"https://cdiac.ess-dive.lbl.gov/GCP/\">https://cdiac.ess-dive.lbl.gov/GCP/</a></td>\n",
    "</tr>\n",
    "<tr>\n",
    "<td align=\"left\">Moguntia description</td>\n",
    "<td align=\"left\"><a href=\"http://www.staff.science.uu.nl/~krol0101/moguntia/MANUAL/moguntia.doc/\">http://www.staff.science.uu.nl/~krol0101/moguntia/MANUAL/moguntia.doc/</a></td>\n",
    "</tr>\n",
    "</table>\n",
    "\n",
    "In the following exercises, it will be attempted to:\n",
    "\n",
    "* Quantify the relation between fossil fuel emissions and CO$_2$ growth rates\n",
    "* Investigate wether the North-South gradient is well simulated by the model\n",
    "* Estimate what fraction of the fossil fuel emissions stays in the atmosphere\n",
    "* Study the impact of uptake by oceans and biosphere\n",
    "\n"
   ]
  },
  {
   "cell_type": "markdown",
   "metadata": {
    "pycharm": {
     "name": "#%% md\n"
    }
   },
   "source": [
    "### Exercise 1: CO$_2$ rate of change\n",
    "#### Estimated time to complete: 30 mins\n",
    "\n",
    "\n",
    "First, the MOGUNTIA model has to initialised. A prelimanary input file fossil.in is provided as a starting point. Note that the **MOLMASS** is defined as 12, since all fossil input data are normally given in Millions of Tonnes (1 pG = 1000 Million Tonnes) of carbon. Note also that the CO$_2$ emission distribution is read from a file. Logically, highest emissions are found over industrialised and densily populated areas.\n",
    "\n",
    "Initially, the model will be run for four years (2000, 2001, 2002, 2003) with the CDIAC fossil fuel emissions.\n",
    "\n",
    "> * Run MOGUNTIA (**Shift-Enter** in cell below) with the input file **fossil.in**\n",
    ">>  You can add stations in **fossil.in** if you like (see <a href=\"http://www.staff.science.uu.nl/~krol0101/moguntia/MANUAL/moguntia.doc/\">description model input</a>)\n",
    "\n",
    "> * Analyze the output. Note the CO$_2$ is normally given in units **ppm**\n",
    "\n",
    ">  Q1: Where do you observe the highest mixing ratios at the surface?\n",
    "\n",
    ">  Q2: Discuss the growth rate observed at the stations\n",
    "\n",
    ">  Q3: How does the growth rate compare to the observed growth-rate at measurement stations? (use the overplot function)\n",
    "\n",
    ">  Q4: Estimate the North-South gradient and compare to observations\n",
    "\n",
    "\n",
    "> * To get a first estimate of the CO$_2$ that is taken up by the oceans and biosphere, try to reduce the emissions and rerun the model to get a good correspondance to the observed growth rate. If needed, adjust the initial concentration and/or the end date in **fossil.in**:\n",
    "        START_CONCENTRATION 360e3\n",
    "        END_DATE 20040101\n",
    "\n",
    "\n"
   ]
  },
  {
   "cell_type": "code",
   "execution_count": 1,
   "metadata": {
    "pycharm": {
     "name": "#%%\n"
    }
   },
   "outputs": [
    {
     "data": {
      "application/vnd.jupyter.widget-view+json": {
       "model_id": "1d6a67bfdea74f1b99db5a26579e4300",
       "version_major": 2,
       "version_minor": 0
      },
      "text/plain": [
       "Box(children=(Box(children=(Dropdown(description='Inputfile', options=('enkf_R2_P2_N10_spo_mhd.in', 'fixedsink…"
      ]
     },
     "metadata": {},
     "output_type": "display_data"
    },
    {
     "data": {
      "application/vnd.jupyter.widget-view+json": {
       "model_id": "43646240fc6044b4b61af93294398bbd",
       "version_major": 2,
       "version_minor": 0
      },
      "text/plain": [
       "interactive(children=(ToggleButton(value=False, description='Make Plots'), Output()), _dom_classes=('widget-in…"
      ]
     },
     "metadata": {},
     "output_type": "display_data"
    }
   ],
   "source": [
    "# MOGUNTIA run widgets:\n",
    "%matplotlib inline\n",
    "import plot_moguntia as pm\n",
    "moguntia = pm.plot_moguntia()"
   ]
  },
  {
   "cell_type": "markdown",
   "metadata": {
    "pycharm": {
     "name": "#%% md\n"
    }
   },
   "source": [
    "### Exercise 2: Uptake of CO$_2$\n",
    "#### Estimated time to complete: 30 mins\n",
    "\n",
    "\n",
    "To estimate the long-term average uptake of CO$_2$ in a more sophisticated way, the diagram depicted in Figure 2 is used.\n",
    "\n",
    "<figure>\n",
    "  <img src=\"co2_budget.png\", width=\"600\" height=\"400\">\n",
    "  <figcaption> <i>Figure 2: Diagram showing the estimated budget for CO$_2$. Blue numbers indicate fluxes in GtC/yr and black numbers indate reservoirs in GtC. 1 GtC corresponds to 10$^{12}$ gC, or 1 PgC.\n",
    "</i></figcaption>\n",
    "</figure>\n",
    "\n",
    "From the net uptake of CO$_2$, e.g. to the oceans, a lifetime can be calculated by dividing the atmospheric burden by the net-uptake. The task is now to test these numbers in MOGUNTIA. For that reason, the input file is modified in the following way:\n",
    "\n",
    "> * Extend the simulation period, e.g. to 2000-2008 by looking up the relevant emission data (see link above)\n",
    "> * Define some stations that can be directly compared to measurements (NOAA ESRL, use **Overplot**)\n",
    "> * Define a correct initial concentration, based on measured atmospheric mixing ratios\n",
    "> * Examine **fossil2.in** to see how to use SINK to calculate the uptake by oceans and/or the biosphere\n",
    "> * Calculate the CO$_2$ growth with and without the biosphere uptake\n",
    "\n",
    "Address the following issues:\n",
    "\n",
    "> Q5: How does the biosphere affect the growthrate of CO$_2$?\n",
    "\n",
    "> Q6: How is the seasonal cycle affected on the northern and southern hemispheres?\n",
    "\n",
    "> Q7: How do the new simulations compare to measurements?\n",
    "\n",
    "> Q8: Repeat the calculations for:\n",
    "\n",
    ">> The sink to the oceans (SINK FILE co2_sink_oc.dat)\n",
    "\n",
    ">> The sink to both the oceans and the biosphere (SINK FILE co2_sink_ocbio.dat)\n",
    "\n",
    "> Q9: Discuss the results and compare to measurement time series.\n",
    "\n"
   ]
  },
  {
   "cell_type": "code",
   "execution_count": 2,
   "metadata": {
    "pycharm": {
     "name": "#%%\n"
    }
   },
   "outputs": [
    {
     "data": {
      "application/vnd.jupyter.widget-view+json": {
       "model_id": "47953bfcff4040cfb21528ac64b4a46f",
       "version_major": 2,
       "version_minor": 0
      },
      "text/plain": [
       "Box(children=(Box(children=(Dropdown(description='Inputfile', options=('enkf_R2_P2_N10_spo_mhd.in', 'fixedsink…"
      ]
     },
     "metadata": {},
     "output_type": "display_data"
    },
    {
     "data": {
      "application/vnd.jupyter.widget-view+json": {
       "model_id": "e0c1fc2e77a049618fd7d50aa1b8faf9",
       "version_major": 2,
       "version_minor": 0
      },
      "text/plain": [
       "interactive(children=(ToggleButton(value=False, description='Make Plots'), Output()), _dom_classes=('widget-in…"
      ]
     },
     "metadata": {},
     "output_type": "display_data"
    }
   ],
   "source": [
    "# MOGUNTIA run widgets:\n",
    "\n",
    "%load_ext autoreload\n",
    "%autoreload 2\n",
    "\n",
    "%matplotlib inline\n",
    "import plot_moguntia as pm\n",
    "moguntia = pm.plot_moguntia()"
   ]
  },
  {
   "cell_type": "markdown",
   "metadata": {
    "pycharm": {
     "name": "#%% md\n"
    }
   },
   "source": [
    "### Exercise 3: The magnitude of the land sink\n",
    "#### Estimated time to complete: 30 mins\n",
    "\n",
    "Because the land sink is the most variable and hardest to measure, it if often estimated as the residual of the other terms:\n",
    "\n",
    "S_land  = E_FF + E_LUC - S_ocean - G_atm\n",
    "\n",
    "where E_FF are the fossil fuel emissions, E_LUC are the land-use change emissions, S_oceans is the net carbon uptake by the oceans, and G_atm is growth rate of CO$_2$ in the atmosphere. As you noticed in Exercise 2, the current land sink in MOGUNTIA is not large enough yet to close this balance...\n",
    "\n",
    "To close the balance, and thereby improve the comparison between model and observations, an extra option is included that allows to define an extra uptake of CO$_2$ by the land biosphere:\n",
    "\n",
    "            SINK EXTRA_LAND 1\n",
    "\n",
    "This statement in the input file will enhance the land sink by 1 PgC yr$^{-1}$.\n",
    "\n",
    "> * Edit input file **fossil3.in**. Adjust the extra land sink, check the yearly emissions, and test\n",
    "\n",
    "> Q10: What is the magnitude of the land sink that leads to the \"best\" match with observations?\n",
    "\n",
    ">>  You are stimulated to compare to station observations at various latitudes, over land, and over oceans\n",
    "\n",
    "<FONT COLOR=red>\n",
    "\n",
    "##### Once you are satisfied with your estimate, write the size of the sink you found on the board in front of the class room. We will discuss and compare the \"best\" estimate of the sink later\n",
    "\n",
    "<FONT COLOR=black> \n"
   ]
  },
  {
   "cell_type": "code",
   "execution_count": null,
   "metadata": {
    "pycharm": {
     "name": "#%%\n"
    }
   },
   "outputs": [],
   "source": [
    "# MOGUNTIA run widgets:\n",
    "\n",
    "%load_ext autoreload\n",
    "%autoreload 2\n",
    "\n",
    "%matplotlib inline\n",
    "import plot_moguntia as pm\n",
    "moguntia = pm.plot_moguntia()"
   ]
  }
 ],
 "metadata": {
  "kernelspec": {
   "display_name": "Python 3 (ipykernel)",
   "language": "python",
   "name": "python3"
  },
  "language_info": {
   "codemirror_mode": {
    "name": "ipython",
    "version": 3
   },
   "file_extension": ".py",
   "mimetype": "text/x-python",
   "name": "python",
   "nbconvert_exporter": "python",
   "pygments_lexer": "ipython3",
   "version": "3.10.6"
  }
 },
 "nbformat": 4,
 "nbformat_minor": 4
}