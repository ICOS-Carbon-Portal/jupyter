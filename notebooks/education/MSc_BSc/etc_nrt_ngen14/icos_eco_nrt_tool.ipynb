{
 "cells": [
  {
   "cell_type": "markdown",
   "id": "15c5323c-bbe7-4043-afe7-9bbeb7a15e0d",
   "metadata": {},
   "source": [
    "## Under construction...\n"
   ]
  },
  {
   "cell_type": "code",
   "execution_count": 1,
   "id": "247a553a-e069-45d0-929c-56a24938f657",
   "metadata": {},
   "outputs": [
    {
     "data": {
      "application/vnd.jupyter.widget-view+json": {
       "model_id": "6df443e56e804b6d92f41f6281a7c174",
       "version_major": 2,
       "version_minor": 0
      },
      "text/plain": [
       "VBox(children=(ToggleButtons(button_style='success', icons=('area-chart', 'list', 'table', 'cog', 'info-circle…"
      ]
     },
     "metadata": {},
     "output_type": "display_data"
    }
   ],
   "source": [
    "import warnings\n",
    "warnings.simplefilter(\"ignore\", FutureWarning)\n",
    "from eco_tool import gui\n",
    "\n",
    "g = gui.AnalysisGui(debug=0);"
   ]
  },
  {
   "cell_type": "code",
   "execution_count": null,
   "id": "eb9948f4-d66e-4070-8b65-6004715bc5cd",
   "metadata": {},
   "outputs": [],
   "source": [
    "                  "
   ]
  },
  {
   "cell_type": "markdown",
   "id": "2e72b7ba-8c98-44ea-ba44-ff36db7c0cd0",
   "metadata": {},
   "source": []
  },
  {
   "cell_type": "code",
   "execution_count": null,
   "id": "4cf166da-af2a-4201-885b-507d61ecedc6",
   "metadata": {},
   "outputs": [],
   "source": []
  },
  {
   "cell_type": "code",
   "execution_count": null,
   "id": "39d51ad7-fac4-435d-a384-8393c02c4e2a",
   "metadata": {},
   "outputs": [],
   "source": []
  },
  {
   "cell_type": "code",
   "execution_count": null,
   "id": "feac6604-4755-48d3-ad9a-624e08c24b0b",
   "metadata": {},
   "outputs": [],
   "source": []
  },
  {
   "cell_type": "code",
   "execution_count": null,
   "id": "952757c8-b53b-4b3d-9525-b4ab3291a944",
   "metadata": {},
   "outputs": [],
   "source": []
  },
  {
   "cell_type": "code",
   "execution_count": 2,
   "id": "e4e13ae4-d810-4c50-8cd8-933faf2135eb",
   "metadata": {},
   "outputs": [
    {
     "ename": "SyntaxError",
     "evalue": "invalid syntax (1462026511.py, line 21)",
     "output_type": "error",
     "traceback": [
      "\u001b[1;36m  Cell \u001b[1;32mIn [2], line 21\u001b[1;36m\u001b[0m\n\u001b[1;33m    f.with = 500\u001b[0m\n\u001b[1;37m      ^\u001b[0m\n\u001b[1;31mSyntaxError\u001b[0m\u001b[1;31m:\u001b[0m invalid syntax\n"
     ]
    }
   ],
   "source": [
    "from IPython.display import display\n",
    "from datetime import date\n",
    "batch_ls=['Corr']\n",
    "rw = g.report_writer\n",
    "sd =date(2023,10,1) \n",
    "ed = date(2023,10,11)\n",
    "report_dict = rw.get_batch_report(group='3vars htm',\n",
    "                                      batch_ls=['Corr'],\n",
    "                                      start_date=sd,\n",
    "                                      end_date=ed)\n",
    "\n",
    "display(report_dict['main_title'])\n",
    "for b in batch_ls:\n",
    "    display(report_dict[b]['batch_title'])\n",
    "    for tool_result in report_dict[b]['result']:\n",
    "        if tool_result[0] in ['split_plot', 'multi_plot',\n",
    "                              'corr_plot']:\n",
    "            #tool_result[1].show()\n",
    "            #print(tool_result[1])\n",
    "            f = tool_result[1]\n",
    "            f.with = 500\n",
    "            f.show()"
   ]
  },
  {
   "cell_type": "markdown",
   "id": "318da10f-926c-492c-b763-fa0721aca8df",
   "metadata": {},
   "source": [
    "### An introduction to the Near Real Time ECO app...\n",
    " - Some basic information is found in the ***Help menu***  \n",
    " - In the ***Group menu***, the user can ***create or edit groups of variables*** and here some guidance are available through the ***User guide***\n",
    "     - Note: This is enabled when the user is in update mode.\n",
    " - In ***Configurations***, the user can\n",
    "    - Change ***Default settings***, such as ***Run configurations*** or setup templates for the different plots, \n",
    "      here most settings are explained if needed.\n",
    "    - Setup or edit ***Batch jobs*** for the group of variables.   \n",
    "    \n",
    " user will get some guidance on how to *create* or *update* a group of variables. \n",
    "\n",
    "### Other applications\n",
    "The user can also use the app to extract data from the ICOS Carbon Portal as in the below example.\n",
    "\n",
    "#### Example\n",
    "Here it is assumed that the user has created a group of variables named <i>fluxes</i>. \n",
    "\n",
    "##### Step 1. \n",
    "The user execute the code \n",
    "\n",
    "        import warnings\n",
    "        warnings.simplefilter(\"ignore\", FutureWarning)\n",
    "        from eco_tool import gui\n",
    "        g = gui.AnalysisGui(theme='ES');\n",
    "\n",
    "##### Step 2.\n",
    "The user select the group <i>fluxes</i> and press <b>Run</b>.\n",
    "\n",
    "##### Step 3.\n",
    "To get the data there are two alternatives\n",
    "##### Method A \n",
    "\n",
    "        df = g.get_data()\n",
    "        # or df = g.get_data('fluxes')\n",
    "Here <i>df</i> is an <i>IcosFrame</i>, which is a <i>pandas.DataFrame</i> together with metadata that can be reached using the properties \n",
    "\n",
    "    icos_meta -> dict\n",
    "    icos_accessUrl -> str\n",
    "    icos_pid -> str\n",
    "    icos_previousVersion -> str\n",
    "    icos_station_name -> str\n",
    "    icos_station_id -> str\n",
    "    icos_station_uri -> str\n",
    "    icos_product -> str\n",
    "    icos_citationBibTex -> str\n",
    "    icos_citationRis -> str\n",
    "    icos_citationString -> str\n",
    "    icos_title -> str\n",
    "    icos_columns -> dict\n",
    "    icos_var_unit_ls -> list\n",
    "        \n",
    "##### Method B\n",
    "\n",
    "        d = g.get_data_dict\n",
    "        # or d = g.get_data('fluxes')\n",
    "Here <i>d</i> is a dictionary with group names as keys. To fetch the data, related to the group <i>fluxes</i>, we write\n",
    "\n",
    "        df = d['fluxes']['df']\n",
    "\n"
   ]
  },
  {
   "cell_type": "code",
   "execution_count": null,
   "id": "8a493e86-ee24-49db-a07d-ebf44d62d0fa",
   "metadata": {},
   "outputs": [],
   "source": [
    "import plotly.graph_objects as go\n",
    "\n",
    "annotation_template = go.layout.Template()\n",
    "dict(font=dict(\n",
    "        family=None, #\"Courier New, monospace\",\n",
    "        size=5,\n",
    "        color=\"RebeccaPurple\"\n",
    "    ))\n",
    "\n",
    "fig = go.Figure()\n",
    "fig.update_layout(\n",
    "     template=annotation_template,\n",
    "     annotations=[\n",
    "         dict(text=\"Look Here\", x=1, y=1),\n",
    "         dict(text=\"Look There\", x=2, y=2)\n",
    "     ]\n",
    " )\n",
    "fig.show()\n",
    "\n",
    "fig = go.Figure()\n",
    "\n",
    "fig.add_trace(go.Scatter(\n",
    "    x=[0, 1, 2, 3, 4, 5, 6, 7, 8],\n",
    "    y=[0, 1, 2, 3, 4, 5, 6, 7, 8],\n",
    "    name=\"Name of Trace 1\"       # this sets its legend entry\n",
    "))\n",
    "\n",
    "\n",
    "fig.add_trace(go.Scatter(\n",
    "    x=[0, 1, 2, 3, 4, 5, 6, 7, 8],\n",
    "    y=[1, 0, 3, 2, 5, 4, 7, 6, 8],\n",
    "    name=\"Name of Trace 2\"\n",
    "))\n",
    "\n",
    "fig.update_layout(\n",
    "    title=\"Plot Title\",\n",
    "    xaxis_title=\"X Axis Title\",\n",
    "    yaxis_title=\"Y Axis Title\",\n",
    "    legend_title=\"Legend Title\",\n",
    "    font=dict(\n",
    "        family=None, #\"Courier New, monospace\",\n",
    "        size=None,\n",
    "        color=\"RebeccaPurple\"\n",
    "    )\n",
    ")\n",
    "\n",
    "fig.show()\n",
    "print(fig)"
   ]
  },
  {
   "cell_type": "code",
   "execution_count": null,
   "id": "d4f88671-2a0c-4d3a-b177-0a7abeb8eef1",
   "metadata": {},
   "outputs": [],
   "source": [
    "import plotly.graph_objects as go\n",
    "import plotly.io as pio\n",
    "\n",
    "pio.templates[\"draft\"] = go.layout.Template(\n",
    "    width= '500',\n",
    "    layout_annotations=[\n",
    "        dict(\n",
    "            name=\"d1\",\n",
    "            text=\"\",\n",
    "            textangle=-30,\n",
    "            opacity=0.1,\n",
    "            font=dict(color=\"black\", size=100),\n",
    "            xref=\"paper\",\n",
    "            yref=\"paper\",\n",
    "            x=0.5,\n",
    "            y=0.5,\n",
    "            showarrow=False,\n",
    "        )])\n",
    "\n",
    "fig = go.Figure()\n",
    "fig.update_layout(template=\"draft\")\n",
    "fig.show()\n",
    "fig2 = go.Figure()\n",
    "fig2.update_layout(template=\"draft\", \n",
    "                   annotations=[\n",
    "                       dict(\n",
    "                           templateitemname=\"d1\",\n",
    "                           text=\"CONFIDENTIAL\",\n",
    "                       )\n",
    "    ])\n",
    "fig2.show()\n"
   ]
  },
  {
   "cell_type": "code",
   "execution_count": null,
   "id": "5fb1f0c1-ec40-474c-9082-9244c775f45d",
   "metadata": {},
   "outputs": [],
   "source": [
    "t = go.layout.Template(layout = {'width':200})\n",
    "dir(t)"
   ]
  },
  {
   "cell_type": "code",
   "execution_count": null,
   "id": "6c2172ee-c7c1-48ab-82e3-6ab1078545c8",
   "metadata": {},
   "outputs": [],
   "source": [
    "df1 = g.get_data()\n",
    "df1 "
   ]
  },
  {
   "cell_type": "code",
   "execution_count": null,
   "id": "6b2c06f2-7baa-4a38-9424-e4f02a8499c4",
   "metadata": {},
   "outputs": [],
   "source": []
  },
  {
   "cell_type": "code",
   "execution_count": null,
   "id": "0a26a3d9-0759-4fe2-b68b-370f72388170",
   "metadata": {},
   "outputs": [],
   "source": []
  }
 ],
 "metadata": {
  "kernelspec": {
   "display_name": "Python 3 (ipykernel)",
   "language": "python",
   "name": "python3"
  },
  "language_info": {
   "codemirror_mode": {
    "name": "ipython",
    "version": 3
   },
   "file_extension": ".py",
   "mimetype": "text/x-python",
   "name": "python",
   "nbconvert_exporter": "python",
   "pygments_lexer": "ipython3",
   "version": "3.10.6"
  },
  "widgets": {
   "application/vnd.jupyter.widget-state+json": {
    "state": {
     "007d200886ad4cff9c8cb43115d9473a": {
      "model_module": "@jupyter-widgets/base",
      "model_module_version": "2.0.0",
      "model_name": "LayoutModel",
      "state": {
       "min_width": "125px",
       "width": "auto"
      }
     },
     "00cbb3bd94cb4f368654731d5ee2f6ab": {
      "model_module": "@jupyter-widgets/controls",
      "model_module_version": "2.0.0",
      "model_name": "CheckboxStyleModel",
      "state": {
       "description_width": ""
      }
     },
     "00cc6c8ea596478098c8bcc0c5b5a14b": {
      "model_module": "@jupyter-widgets/controls",
      "model_module_version": "2.0.0",
      "model_name": "CheckboxModel",
      "state": {
       "description": "SWC_13_3_1",
       "disabled": false,
       "indent": false,
       "layout": "IPY_MODEL_8260a18427fa4ddba55a7d8d2403ba83",
       "style": "IPY_MODEL_6e974ab0614b45d391b791f0a57e694e",
       "value": false
      }
     },
     "00ced87ed1134a0e92d9b6cf7b63536d": {
      "model_module": "@jupyter-widgets/controls",
      "model_module_version": "2.0.0",
      "model_name": "CheckboxModel",
      "state": {
       "description": "SWC_13_6_1",
       "disabled": false,
       "indent": false,
       "layout": "IPY_MODEL_40cdbe81d68945d78d1c41bbf3e8a2b8",
       "style": "IPY_MODEL_71b482a6cc1f40d1bd9305af030054a5",
       "value": false
      }
     },
     "0162bb454bd24008ae125e941a1e65af": {
      "model_module": "@jupyter-widgets/base",
      "model_module_version": "2.0.0",
      "model_name": "LayoutModel",
      "state": {
       "width": "160px"
      }
     },
     "018e1591c07d4778a2c804d1f2ce8b65": {
      "model_module": "@jupyter-widgets/controls",
      "model_module_version": "2.0.0",
      "model_name": "HBoxModel",
      "state": {
       "children": [
        "IPY_MODEL_be2fd8a6d4dd4488b4ab8313acbe3f98",
        "IPY_MODEL_b459ee97ca0c4631bc2a51c9d1e979db"
       ],
       "layout": "IPY_MODEL_eae01073e3cd44f2bac4fb42c1f64b41"
      }
     },
     "019eb7390b6d4d5d8e62aa61a88564c9": {
      "model_module": "@jupyter-widgets/controls",
      "model_module_version": "2.0.0",
      "model_name": "CheckboxModel",
      "state": {
       "description": "TS_11_4_1",
       "disabled": false,
       "indent": false,
       "layout": "IPY_MODEL_11247c07f8254e729677e73647f70a6c",
       "style": "IPY_MODEL_cfcbe8e187b243f48b7edb4357103cf7",
       "value": false
      }
     },
     "01a561f4081c4f5393c84fa88ee4dcd9": {
      "model_module": "@jupyter-widgets/base",
      "model_module_version": "2.0.0",
      "model_name": "LayoutModel",
      "state": {}
     },
     "02439805552746cc8694a94602bec853": {
      "model_module": "@jupyter-widgets/controls",
      "model_module_version": "2.0.0",
      "model_name": "CheckboxModel",
      "state": {
       "description": "PPFD_BC_IN_17_1_1",
       "disabled": false,
       "indent": false,
       "layout": "IPY_MODEL_9e8ae8f5ed9646d28aa5ce1c777f3524",
       "style": "IPY_MODEL_12308af818944c899d09d475ec4459e5",
       "value": false
      }
     },
     "027480dbbab44e038d66b6f08f7e9943": {
      "model_module": "@jupyter-widgets/base",
      "model_module_version": "2.0.0",
      "model_name": "LayoutModel",
      "state": {
       "width": "160px"
      }
     },
     "030079e231fc48c5853715288668fa0f": {
      "model_module": "@jupyter-widgets/controls",
      "model_module_version": "2.0.0",
      "model_name": "ButtonModel",
      "state": {
       "button_style": "primary",
       "description": "New",
       "icon": "plus",
       "layout": "IPY_MODEL_e280fbc0327841ff968f8130b9b4f338",
       "style": "IPY_MODEL_0f657f1d0cd3441a815cd792310510bb",
       "tooltip": "New group..."
      }
     },
     "043508ed310148d881be5d776a487148": {
      "model_module": "@jupyter-widgets/base",
      "model_module_version": "2.0.0",
      "model_name": "LayoutModel",
      "state": {
       "width": "160px"
      }
     },
     "04399c93f93e4afb92dce3fc5771a9b5": {
      "model_module": "@jupyter-widgets/base",
      "model_module_version": "2.0.0",
      "model_name": "LayoutModel",
      "state": {
       "width": "160px"
      }
     },
     "04470e0647464831b21623aa8d6136a4": {
      "model_module": "@jupyter-widgets/controls",
      "model_module_version": "2.0.0",
      "model_name": "CheckboxModel",
      "state": {
       "description": "PPFD_BC_IN_8_1_1",
       "disabled": false,
       "indent": false,
       "layout": "IPY_MODEL_1b69c0ebce184cb4b65f0a4883f57944",
       "style": "IPY_MODEL_46864643bc964d71a704fa647c10d078",
       "value": false
      }
     },
     "04c537c8e42d449eba5f8639c5464d7c": {
      "model_module": "@jupyter-widgets/base",
      "model_module_version": "2.0.0",
      "model_name": "LayoutModel",
      "state": {
       "width": "160px"
      }
     },
     "04c5ea5329ef45c9b6b532223518cd10": {
      "model_module": "@jupyter-widgets/base",
      "model_module_version": "2.0.0",
      "model_name": "LayoutModel",
      "state": {
       "width": "160px"
      }
     },
     "04d616b6ecc344408be167a29ff3b40a": {
      "model_module": "@jupyter-widgets/controls",
      "model_module_version": "2.0.0",
      "model_name": "HTMLStyleModel",
      "state": {
       "description_width": "",
       "font_size": null,
       "text_color": null
      }
     },
     "0525445648fb43b7ac037b2844a656ff": {
      "model_module": "@jupyter-widgets/base",
      "model_module_version": "2.0.0",
      "model_name": "LayoutModel",
      "state": {
       "width": "160px"
      }
     },
     "053a07b934fc4f339b567720d394fac8": {
      "model_module": "@jupyter-widgets/base",
      "model_module_version": "2.0.0",
      "model_name": "LayoutModel",
      "state": {
       "width": "160px"
      }
     },
     "064a9918c72c44ec8b79dd53d42cc568": {
      "model_module": "@jupyter-widgets/base",
      "model_module_version": "2.0.0",
      "model_name": "LayoutModel",
      "state": {
       "width": "160px"
      }
     },
     "067fa70b81224acb9e06cc8261d72309": {
      "model_module": "@jupyter-widgets/base",
      "model_module_version": "2.0.0",
      "model_name": "LayoutModel",
      "state": {
       "width": "160px"
      }
     },
     "06e4ed7557854029b1cc6c8fb018c6e4": {
      "model_module": "@jupyter-widgets/controls",
      "model_module_version": "2.0.0",
      "model_name": "DescriptionStyleModel",
      "state": {
       "description_width": ""
      }
     },
     "06e69c4b533d4175a0bfe81c66263b36": {
      "model_module": "@jupyter-widgets/base",
      "model_module_version": "2.0.0",
      "model_name": "LayoutModel",
      "state": {
       "width": "160px"
      }
     },
     "0866f611e9134215898bb95dfb45e21c": {
      "model_module": "@jupyter-widgets/base",
      "model_module_version": "2.0.0",
      "model_name": "LayoutModel",
      "state": {
       "width": "160px"
      }
     },
     "08b4f698c3e84360a446324d7e8aa8cd": {
      "model_module": "@jupyter-widgets/base",
      "model_module_version": "2.0.0",
      "model_name": "LayoutModel",
      "state": {
       "height": "100%",
       "width": "50%"
      }
     },
     "0939ff4b2a6e43ebbea1760d91200f4f": {
      "model_module": "@jupyter-widgets/base",
      "model_module_version": "2.0.0",
      "model_name": "LayoutModel",
      "state": {
       "width": "160px"
      }
     },
     "095a0f385751459c8321ace325dd853c": {
      "model_module": "@jupyter-widgets/controls",
      "model_module_version": "2.0.0",
      "model_name": "HTMLModel",
      "state": {
       "layout": "IPY_MODEL_007d200886ad4cff9c8cb43115d9473a",
       "style": "IPY_MODEL_8754362dc667435981d70e083731e257",
       "value": "<b><i>Name of group: </i></b>"
      }
     },
     "096d358da8264ed1a574d78f043a50d1": {
      "model_module": "@jupyter-widgets/base",
      "model_module_version": "2.0.0",
      "model_name": "LayoutModel",
      "state": {
       "width": "160px"
      }
     },
     "0a069e9a6394494bb8a053753a8e61ec": {
      "model_module": "@jupyter-widgets/base",
      "model_module_version": "2.0.0",
      "model_name": "LayoutModel",
      "state": {
       "width": "160px"
      }
     },
     "0a44768f85624c06ba0a5a3bf56da1c9": {
      "model_module": "@jupyter-widgets/controls",
      "model_module_version": "2.0.0",
      "model_name": "CheckboxModel",
      "state": {
       "description": "PPFD_BC_IN_44_1_1",
       "disabled": false,
       "indent": false,
       "layout": "IPY_MODEL_99776e843e71464191d75586011d10b6",
       "style": "IPY_MODEL_dc730f15a3194c61844f397eec606249",
       "value": false
      }
     },
     "0ab78a55192848ba9e9ad532c555dcab": {
      "model_module": "@jupyter-widgets/controls",
      "model_module_version": "2.0.0",
      "model_name": "CheckboxModel",
      "state": {
       "description": "LE_UNCLEANED",
       "disabled": false,
       "indent": false,
       "layout": "IPY_MODEL_d85c9d7840334a189d8ef7db44c289fc",
       "style": "IPY_MODEL_0f81e24c656c4f5b8f724c72e4836e16",
       "value": true
      }
     },
     "0ad1f7e78d1d40998c8b24b4c3d21871": {
      "model_module": "@jupyter-widgets/base",
      "model_module_version": "2.0.0",
      "model_name": "LayoutModel",
      "state": {
       "width": "160px"
      }
     },
     "0afcf1d7e0184131adfc0362b02d72da": {
      "model_module": "@jupyter-widgets/controls",
      "model_module_version": "2.0.0",
      "model_name": "CheckboxStyleModel",
      "state": {
       "description_width": ""
      }
     },
     "0aff91aaed8146c68b79f6bacc974bbe": {
      "model_module": "@jupyter-widgets/base",
      "model_module_version": "2.0.0",
      "model_name": "LayoutModel",
      "state": {
       "width": "160px"
      }
     },
     "0c14f2c0a6604039b80b263ef02b75a3": {
      "model_module": "@jupyter-widgets/controls",
      "model_module_version": "2.0.0",
      "model_name": "CheckboxStyleModel",
      "state": {
       "description_width": ""
      }
     },
     "0c255c9cb765469c89a29c4141d779d6": {
      "model_module": "@jupyter-widgets/controls",
      "model_module_version": "2.0.0",
      "model_name": "CheckboxStyleModel",
      "state": {
       "description_width": ""
      }
     },
     "0ce6d6a3d00f4f21bdfc283f13fc4b87": {
      "model_module": "@jupyter-widgets/controls",
      "model_module_version": "2.0.0",
      "model_name": "CheckboxModel",
      "state": {
       "description": "TA_1_9_1",
       "disabled": false,
       "indent": false,
       "layout": "IPY_MODEL_04c5ea5329ef45c9b6b532223518cd10",
       "style": "IPY_MODEL_45bbb534624e44eb89be6455b751cdce",
       "value": false
      }
     },
     "0cf20be67ba149d9be145e015d6a6011": {
      "model_module": "@jupyter-widgets/base",
      "model_module_version": "2.0.0",
      "model_name": "LayoutModel",
      "state": {
       "width": "100px"
      }
     },
     "0d4a732cfab3483fbb5acec855785335": {
      "model_module": "@jupyter-widgets/controls",
      "model_module_version": "2.0.0",
      "model_name": "CheckboxModel",
      "state": {
       "description": "WS_1_1_1",
       "disabled": false,
       "indent": false,
       "layout": "IPY_MODEL_b042d19c7fb2434eb7403ef361437d63",
       "style": "IPY_MODEL_a32f10d6f32a43b8b664667b150c43f0",
       "value": false
      }
     },
     "0d6a6be5b7f14852ad20150dee643abb": {
      "model_module": "@jupyter-widgets/controls",
      "model_module_version": "2.0.0",
      "model_name": "CheckboxStyleModel",
      "state": {
       "description_width": ""
      }
     },
     "0e65e368ee1445dbb1db64fd96c9af27": {
      "model_module": "@jupyter-widgets/controls",
      "model_module_version": "2.0.0",
      "model_name": "CheckboxStyleModel",
      "state": {
       "description_width": ""
      }
     },
     "0f113fc26b024a1e98fc624a606d0914": {
      "model_module": "@jupyter-widgets/controls",
      "model_module_version": "2.0.0",
      "model_name": "CheckboxModel",
      "state": {
       "description": "PPFD_BC_IN_4_1_1",
       "disabled": false,
       "indent": false,
       "layout": "IPY_MODEL_a60dcdd1d98a46ec8bbf39181a0120d3",
       "style": "IPY_MODEL_79b98c4d651d4bfbb37877af42de45f0",
       "value": false
      }
     },
     "0f2d285bb87e4320bc675ccecaa41ffd": {
      "model_module": "@jupyter-widgets/controls",
      "model_module_version": "2.0.0",
      "model_name": "CheckboxStyleModel",
      "state": {
       "description_width": ""
      }
     },
     "0f657f1d0cd3441a815cd792310510bb": {
      "model_module": "@jupyter-widgets/controls",
      "model_module_version": "2.0.0",
      "model_name": "ButtonStyleModel",
      "state": {
       "font_family": null,
       "font_size": null,
       "font_style": null,
       "font_variant": null,
       "font_weight": null,
       "text_color": null,
       "text_decoration": null
      }
     },
     "0f81e24c656c4f5b8f724c72e4836e16": {
      "model_module": "@jupyter-widgets/controls",
      "model_module_version": "2.0.0",
      "model_name": "CheckboxStyleModel",
      "state": {
       "description_width": ""
      }
     },
     "1064381f9a48496793709329d9dbe077": {
      "model_module": "@jupyter-widgets/base",
      "model_module_version": "2.0.0",
      "model_name": "LayoutModel",
      "state": {
       "width": "160px"
      }
     },
     "111d3b36807e4c9a91233ea01eca8cf4": {
      "model_module": "@jupyter-widgets/controls",
      "model_module_version": "2.0.0",
      "model_name": "CheckboxModel",
      "state": {
       "description": "TA_1_7_1",
       "disabled": false,
       "indent": false,
       "layout": "IPY_MODEL_f991b513d3c749f3b4310f8e8a18def9",
       "style": "IPY_MODEL_c6f97c52c79c4f36bfcb6052d1c8f41b",
       "value": false
      }
     },
     "11247c07f8254e729677e73647f70a6c": {
      "model_module": "@jupyter-widgets/base",
      "model_module_version": "2.0.0",
      "model_name": "LayoutModel",
      "state": {
       "width": "160px"
      }
     },
     "11d2d43f37d24e9297570e82ff219e69": {
      "model_module": "@jupyter-widgets/base",
      "model_module_version": "2.0.0",
      "model_name": "LayoutModel",
      "state": {
       "width": "160px"
      }
     },
     "12308af818944c899d09d475ec4459e5": {
      "model_module": "@jupyter-widgets/controls",
      "model_module_version": "2.0.0",
      "model_name": "CheckboxStyleModel",
      "state": {
       "description_width": ""
      }
     },
     "125794ee784f4a059ab26e4100bfb3f0": {
      "model_module": "@jupyter-widgets/controls",
      "model_module_version": "2.0.0",
      "model_name": "CheckboxModel",
      "state": {
       "description": "PPFD_BC_IN_19_1_1",
       "disabled": false,
       "indent": false,
       "layout": "IPY_MODEL_79f40e3d8b3749c386a572f7ab93af9d",
       "style": "IPY_MODEL_546a86168a3a4298bd12c02b490b457e",
       "value": false
      }
     },
     "128564fa035946bf8abda75ff19cfbdc": {
      "model_module": "@jupyter-widgets/controls",
      "model_module_version": "2.0.0",
      "model_name": "CheckboxStyleModel",
      "state": {
       "description_width": ""
      }
     },
     "12c2c58524564ad3b6639b7c00c43806": {
      "model_module": "@jupyter-widgets/controls",
      "model_module_version": "2.0.0",
      "model_name": "CheckboxModel",
      "state": {
       "description": "TS_12_2_1",
       "disabled": false,
       "indent": false,
       "layout": "IPY_MODEL_fb155f771e0c406ea3d534edb4b7a3c5",
       "style": "IPY_MODEL_ff481eeb37164e10ba4a7dab21e23f9f",
       "value": false
      }
     },
     "136fb4862b5d4fa38332b8723c550957": {
      "model_module": "@jupyter-widgets/controls",
      "model_module_version": "2.0.0",
      "model_name": "CheckboxModel",
      "state": {
       "description": "TS_13_7_1",
       "disabled": false,
       "indent": false,
       "layout": "IPY_MODEL_04399c93f93e4afb92dce3fc5771a9b5",
       "style": "IPY_MODEL_d06300c76d934628bfb60cbdc164fa27",
       "value": false
      }
     },
     "139cd8211b00487caf0127f15ef93567": {
      "model_module": "@jupyter-widgets/base",
      "model_module_version": "2.0.0",
      "model_name": "LayoutModel",
      "state": {
       "width": "160px"
      }
     },
     "13b475920b954c6f8b8a063aaed0a70a": {
      "model_module": "@jupyter-widgets/controls",
      "model_module_version": "2.0.0",
      "model_name": "CheckboxModel",
      "state": {
       "description": "TS_14_1_1",
       "disabled": false,
       "indent": false,
       "layout": "IPY_MODEL_e9ea7de3a88d4aa3926f660114b6b28f",
       "style": "IPY_MODEL_d7abbc2edf614ab284500182b833d49b",
       "value": false
      }
     },
     "13cd1b8b84054af1b78040dad9f078b7": {
      "model_module": "@jupyter-widgets/controls",
      "model_module_version": "2.0.0",
      "model_name": "CheckboxStyleModel",
      "state": {
       "description_width": ""
      }
     },
     "154c9fe438fe45b4afbe86f46788cf9c": {
      "model_module": "@jupyter-widgets/base",
      "model_module_version": "2.0.0",
      "model_name": "LayoutModel",
      "state": {}
     },
     "15fab026ade84e659854c5a4818d7500": {
      "model_module": "@jupyter-widgets/base",
      "model_module_version": "2.0.0",
      "model_name": "LayoutModel",
      "state": {
       "width": "160px"
      }
     },
     "165e09581e154d30b6827665c8ec2cef": {
      "model_module": "@jupyter-widgets/controls",
      "model_module_version": "2.0.0",
      "model_name": "CheckboxModel",
      "state": {
       "description": "PA_2_1_1",
       "disabled": false,
       "indent": false,
       "layout": "IPY_MODEL_a48ca060cf4245298b4d3a86d11b68be",
       "style": "IPY_MODEL_6c7402d17cd846ed9a589f3975cad050",
       "value": true
      }
     },
     "17aa6b1bcd084099a44e93296d9112bc": {
      "model_module": "@jupyter-widgets/controls",
      "model_module_version": "2.0.0",
      "model_name": "HTMLMathModel",
      "state": {
       "layout": "IPY_MODEL_a550261a4b9a4df9b1c8125354a8df28",
       "style": "IPY_MODEL_43d4438fec8446b48b0b9c65b2ec6994",
       "value": "<span style=\"color:#1976D2\">&nbsp&nbsp&nbsp&nbsp&nbsp&nbsp<h4>How to create a group of variables:</h4><b>&nbsp&nbsp&nbsp1. Select a station, or several stations, but one at a time.<br>&nbsp&nbsp&nbsp2. Select a file/product, or several, but one at a time.<br>&nbsp&nbsp&nbsp3. Select variables.<br>&nbsp&nbsp&nbspChosen variables are displayed below the label <br><span style=\"color:black\">\"Variables in update mode:\"</span>. <br>&nbsp&nbsp&nbsp4. Choose a name for your group of variables in the area <span style=\"color:black\">\"Group name\"</span>.<br>&nbsp&nbsp&nbsp5. Save.<br>&nbsp&nbsp&nbsp<br>&nbsp&nbsp&nbsp<b>The order of the variables is the order of presentation in outputs, unless specified otherwise in batch jobs.</b><br>&nbsp&nbsp&nbsp<b>You can combine variables from different files or stations.</b><br>&nbsp&nbsp&nbsp<br>&nbsp&nbsp&nbsp<b>Last entered station, and file/product, will be preselected next time.</b><br></b></span>"
      }
     },
     "180f0389f0144894b69d5a3d5643b437": {
      "model_module": "@jupyter-widgets/base",
      "model_module_version": "2.0.0",
      "model_name": "LayoutModel",
      "state": {
       "width": "160px"
      }
     },
     "182ed97a03964c8db4c58841577324f2": {
      "model_module": "@jupyter-widgets/controls",
      "model_module_version": "2.0.0",
      "model_name": "VBoxModel",
      "state": {
       "children": [
        "IPY_MODEL_98c48c10af594eba96c6496105761536",
        "IPY_MODEL_18bb63566cb84460bebdba2b84f3cf60"
       ],
       "layout": "IPY_MODEL_51c0cf99e6d74958a31eb6a9f1011f92"
      }
     },
     "1868c54d8018438ab3595f583526eebb": {
      "model_module": "@jupyter-widgets/controls",
      "model_module_version": "2.0.0",
      "model_name": "CheckboxStyleModel",
      "state": {
       "description_width": ""
      }
     },
     "18bb63566cb84460bebdba2b84f3cf60": {
      "model_module": "@jupyter-widgets/controls",
      "model_module_version": "2.0.0",
      "model_name": "HBoxModel",
      "state": {
       "children": [
        "IPY_MODEL_2e2d31ac278d46ac864b0fd1b19f251d",
        "IPY_MODEL_2cd467e0e4ec4696b9b30924e407edc4",
        "IPY_MODEL_47a8271514134dfab8db3c262d901628",
        "IPY_MODEL_9b3874bc8657424489bff455fdc9105f",
        "IPY_MODEL_d2a34e1ce7994ed6bd82b0456020a118",
        "IPY_MODEL_ef992b8d2f694818b725cab98230d2ee",
        "IPY_MODEL_f4f7a2ce11c54749877960180fb6fa2c",
        "IPY_MODEL_73d201c7883343df80fde1b12f6ee45a",
        "IPY_MODEL_532e7d5468e04ecea015c4d067196a91",
        "IPY_MODEL_956c128f4dbb482e92d727dade5142d6",
        "IPY_MODEL_165e09581e154d30b6827665c8ec2cef",
        "IPY_MODEL_8a2759a9426a443196017723f34792f3",
        "IPY_MODEL_be35f0ca8ffd4994a99fe42284aff601",
        "IPY_MODEL_f01adc63228444e79a9191431fa0b47b",
        "IPY_MODEL_b758b6bcb4f442f183bdba868eb575e6",
        "IPY_MODEL_4c249a9db2004ced84d6f7b99dcf4373",
        "IPY_MODEL_ebec1876c2ad438588e8b150344b337b",
        "IPY_MODEL_756cb4c8c0214049a66ea1dbc918289b",
        "IPY_MODEL_02439805552746cc8694a94602bec853",
        "IPY_MODEL_7ab8c25889414a7a98e6a388f656b19f",
        "IPY_MODEL_125794ee784f4a059ab26e4100bfb3f0",
        "IPY_MODEL_97c46be56f1a43aeb24c6c9d0ff18bfc",
        "IPY_MODEL_f125e71fa1e24a57ab70d9a14f2cb033",
        "IPY_MODEL_eb7f16bc73824b3cbf69647466042b74",
        "IPY_MODEL_b8ee0821271d447c85e0115e74ad1c07",
        "IPY_MODEL_31dc2c7e4a2248c8a3510b89f7af3553",
        "IPY_MODEL_fb9da9e1d5a846488dd7cb0f410922ef",
        "IPY_MODEL_b5da3d76e35a4d73b2d0376121bfddce",
        "IPY_MODEL_1c4f446cf0034e778dede57e85b92898",
        "IPY_MODEL_835035f199e14adfa3dcd3892c1f5ada",
        "IPY_MODEL_b6ff664967fa4ccfb800fa0b57dcbb66",
        "IPY_MODEL_78dfd0ef9dd74075ab1056ef658f100b",
        "IPY_MODEL_df6c1719283f4486bac66c1e70c20e8f",
        "IPY_MODEL_a3554ab0b24f482383160d12cf27a864",
        "IPY_MODEL_2da9e0426a3f4da49cb3b8e4e56f56a5",
        "IPY_MODEL_8f29f4872d6645a98f0aaf70c0066688",
        "IPY_MODEL_a44a9ae9fd7d4a3fa5ec430c53482119",
        "IPY_MODEL_3666b2ab5ce44cf2b8a9b4fdd6025f18",
        "IPY_MODEL_5ed47827384c4e1bb498e624b11f0176",
        "IPY_MODEL_e21c492bea2745cf8d84cc0f7024afa6",
        "IPY_MODEL_4644e17a938a45f9a11341b525cfcfca",
        "IPY_MODEL_8c401628094f4dc1bac83892b17b4d89",
        "IPY_MODEL_dbd1418a6162465d9b219a4651368400",
        "IPY_MODEL_2a16a7ee3186471f862a2bddf24b8445",
        "IPY_MODEL_9c0260babd204990842707d578b44bbc",
        "IPY_MODEL_6c1e454c542241ffae256b9bd8a58555",
        "IPY_MODEL_a734364d1255404eb7ce6322a9ad2a9c",
        "IPY_MODEL_3c443ba391d245a0b4698d48f3612e4b",
        "IPY_MODEL_0a44768f85624c06ba0a5a3bf56da1c9",
        "IPY_MODEL_0f113fc26b024a1e98fc624a606d0914",
        "IPY_MODEL_b8a28278a3ff44359fc6581c764bd087",
        "IPY_MODEL_cf5e1055bec04d5ea4628fe32174fb5b",
        "IPY_MODEL_2a410a12016742bc9f35678b3768aea9",
        "IPY_MODEL_04470e0647464831b21623aa8d6136a4",
        "IPY_MODEL_249710a21c854a0a892305ec8bb7d2d2",
        "IPY_MODEL_4457b3015a49443ca38cabe63a0ab912",
        "IPY_MODEL_1bc10ec399674eddb15ac110cd8a5f75",
        "IPY_MODEL_4bc3f7e52272485b922b57cf4722e466",
        "IPY_MODEL_f4470f0f0bd1463db99d99de26b6d449",
        "IPY_MODEL_afeb633f1e3e4d319b35fd2172536a08",
        "IPY_MODEL_3bf6f4afe2ba48839fcdd64a7989e759",
        "IPY_MODEL_5e6fbce1897f4c04820fdfd7eab5e25c",
        "IPY_MODEL_5b1b2878e20f4d288c8f447c3b6f0184",
        "IPY_MODEL_7ebff05b57c34800bd04dec343d45cf0",
        "IPY_MODEL_239b3f9655ef477cbda51ebb1ca22659",
        "IPY_MODEL_ed74cb6a9e7d4245aff45fb142158585",
        "IPY_MODEL_d47969f8068e414f83b2e484564b6c20",
        "IPY_MODEL_da8d17c9d56d46dd8ee8d94bbf494e26",
        "IPY_MODEL_ee28f9cf4d56450a9aa73d830b5f2a01",
        "IPY_MODEL_5d71879e03244a0e8cf4fd408a17c6bf",
        "IPY_MODEL_ed8467b54beb418f9066710c93b1d609",
        "IPY_MODEL_79222aff5ef84644b59a837097c74819",
        "IPY_MODEL_8d013c9b2cd54809ac7e3386161970f4",
        "IPY_MODEL_7d822b8ba68046dd9952192b6ddb5322",
        "IPY_MODEL_d9430060593743afba121fb1a60e2ec7",
        "IPY_MODEL_c8b431f8a6b445c8adf2d36c851e5226",
        "IPY_MODEL_dae006c9e20a415a975d7b732f539ec5",
        "IPY_MODEL_eddba62f6691484492746a19c9e1fc85",
        "IPY_MODEL_77a93b955d024448a3da7e52505b6bfb",
        "IPY_MODEL_9f6c5661b43a4c71a00e0d1f79199f77",
        "IPY_MODEL_72dc2319080a4d39b18ad75fe0a611e4",
        "IPY_MODEL_ed601f66e4174ff2ad221ce0121809ad",
        "IPY_MODEL_1a4faf6b8b3f434c8ebb7a40ff642b1e",
        "IPY_MODEL_00cc6c8ea596478098c8bcc0c5b5a14b",
        "IPY_MODEL_5643bdff001d482299a14e26aae9a50b",
        "IPY_MODEL_7291eb5f680f4a6588b8a6d057651e48",
        "IPY_MODEL_00ced87ed1134a0e92d9b6cf7b63536d",
        "IPY_MODEL_d5134597e1d24d02bb2b73e094e19272",
        "IPY_MODEL_5da4868658c74e6a962c5e2d93880ea2",
        "IPY_MODEL_802b9999e24544208d0ee83aea8ba1ad",
        "IPY_MODEL_c6bea93b72d248668656a58a606023ce",
        "IPY_MODEL_30bd8f94f096400cb34a74e50ddf1ef1",
        "IPY_MODEL_de8efc458d3349be8e7c8d0e3df3d081",
        "IPY_MODEL_de8e9ec5adb84662a9e81013f8f3bd75",
        "IPY_MODEL_c8bad0d63da44be1b58dd676a3c71411",
        "IPY_MODEL_af3195e90e454ab097f386d149f5d40c",
        "IPY_MODEL_c3567a06ff1b4b71856e9c7b261a9ef8",
        "IPY_MODEL_788429608590412b8800b4fd66dc5fb5",
        "IPY_MODEL_561e30d1dcef43828f08f6adc37a7aa6",
        "IPY_MODEL_fb9f0cfa87c3478cb25708b6b46e537e",
        "IPY_MODEL_ef233fd6599a4f69baf96f205fbda04e",
        "IPY_MODEL_a650acf7ff4b4e09b1dbb552ca302956",
        "IPY_MODEL_5542ffc382c944fb996067a57a4fee8e",
        "IPY_MODEL_6a117ce2684641a0a220337defb89756",
        "IPY_MODEL_b0c05e73ef904cab8d89e70ec58f4908",
        "IPY_MODEL_eecfc50d7d5144f99c9261a9900eddc3",
        "IPY_MODEL_921dd8c1d85941ff8bc47099e5977a01",
        "IPY_MODEL_e9dfee2d49334ac38f523323976b5257",
        "IPY_MODEL_446725b94e24492db2edc9282b549eb3",
        "IPY_MODEL_a4e6350462d9447e85742f5cddf56d53",
        "IPY_MODEL_111d3b36807e4c9a91233ea01eca8cf4",
        "IPY_MODEL_44cec3c228764d9eaa5fb0c639385bfa",
        "IPY_MODEL_0ce6d6a3d00f4f21bdfc283f13fc4b87",
        "IPY_MODEL_ff00fc9ed5f6435a83e8282467880646",
        "IPY_MODEL_657c770c680e4fc7bdfd90e0a7bd2a6a",
        "IPY_MODEL_34da86061d144674b5deb149c42b4be8",
        "IPY_MODEL_db036f551eda408ea4810f9ecc22e0cc",
        "IPY_MODEL_019eb7390b6d4d5d8e62aa61a88564c9",
        "IPY_MODEL_c044eac1bb6c4337bf45aa517e3adff1",
        "IPY_MODEL_6a60e82c0af8400a93977839835482c1",
        "IPY_MODEL_5a2e8d8218bb44929cbd1c878ee72808",
        "IPY_MODEL_ff343db340684063a8c4cfba19276b72",
        "IPY_MODEL_12c2c58524564ad3b6639b7c00c43806",
        "IPY_MODEL_c0c7948a6d874e43ad6a0b8bc02b4f2f",
        "IPY_MODEL_2af9c2d185fc49c9b68ecb71ef691c98",
        "IPY_MODEL_7f2731c57f724c7e92846ec85ca1dc88",
        "IPY_MODEL_d9b792006c334f33a0a0113cb9540fcf",
        "IPY_MODEL_480ba14bdce9437b826830a3f91b52eb",
        "IPY_MODEL_2a99198dd03a40a9805f5be4cd2e1c3a",
        "IPY_MODEL_2fb2b453c852472f90ac6b4d9b7ecee3",
        "IPY_MODEL_ad48fa8bd15a471ebdf5e7cbfc47f380",
        "IPY_MODEL_ba94415c742a44afb2c9760c78730a09",
        "IPY_MODEL_687bada695de415d8f8c90b1877c9fe6",
        "IPY_MODEL_217bd4eab4d34830bf4a111a95e667a9",
        "IPY_MODEL_136fb4862b5d4fa38332b8723c550957",
        "IPY_MODEL_13b475920b954c6f8b8a063aaed0a70a",
        "IPY_MODEL_7dde95e8ec60402e821e072536610b51",
        "IPY_MODEL_cd0b00d420ec4c0fa6b2b7f9bf993b3c",
        "IPY_MODEL_718f2a87032241a392a41ed6c4b4cb66",
        "IPY_MODEL_f78738d2832443deac9c6b2f4d1ba998",
        "IPY_MODEL_41326d5142084f2196dc94ee1093af67",
        "IPY_MODEL_c02d8613e31643af988a75b632d4eacd",
        "IPY_MODEL_52a675ff7a5d423ea636d2ab0aa24883",
        "IPY_MODEL_637e97708ccf45d7b89f0250053159eb",
        "IPY_MODEL_7413994c994e43baad1091bbf8bc6afd",
        "IPY_MODEL_dbb663c7d6d84611b5aaf4a5f068f15e",
        "IPY_MODEL_54ca32c21cde4b6b918f3c678935e412",
        "IPY_MODEL_0d4a732cfab3483fbb5acec855785335",
        "IPY_MODEL_48cf155b9c144e22862fc10b05d4033c"
       ],
       "layout": "IPY_MODEL_2c9d47364bd84203a26e311de94383c7"
      }
     },
     "19fc154da6184a9dab43a546dd619898": {
      "model_module": "@jupyter-widgets/base",
      "model_module_version": "2.0.0",
      "model_name": "LayoutModel",
      "state": {
       "width": "160px"
      }
     },
     "1a2e98004e6f4714bd92e78996db269d": {
      "model_module": "@jupyter-widgets/base",
      "model_module_version": "2.0.0",
      "model_name": "LayoutModel",
      "state": {
       "flex": "inline-flex",
       "width": "148pt"
      }
     },
     "1a4d73887f6742b2805c32167f466844": {
      "model_module": "@jupyter-widgets/controls",
      "model_module_version": "2.0.0",
      "model_name": "CheckboxStyleModel",
      "state": {
       "description_width": ""
      }
     },
     "1a4faf6b8b3f434c8ebb7a40ff642b1e": {
      "model_module": "@jupyter-widgets/controls",
      "model_module_version": "2.0.0",
      "model_name": "CheckboxModel",
      "state": {
       "description": "SWC_13_2_1",
       "disabled": false,
       "indent": false,
       "layout": "IPY_MODEL_f994f7a8b013460b8125abb7377df3e8",
       "style": "IPY_MODEL_684fd36dfe8c4c3eb0bad446019be1ea",
       "value": false
      }
     },
     "1a5fa7a94ff84c06a2b2d7b997f2110d": {
      "model_module": "@jupyter-widgets/controls",
      "model_module_version": "2.0.0",
      "model_name": "DescriptionStyleModel",
      "state": {
       "description_width": ""
      }
     },
     "1aed67810994456bb9072dab2ca2c208": {
      "model_module": "@jupyter-widgets/base",
      "model_module_version": "2.0.0",
      "model_name": "LayoutModel",
      "state": {
       "width": "160px"
      }
     },
     "1b1fa5ab2f88497383e65af25375a823": {
      "model_module": "@jupyter-widgets/controls",
      "model_module_version": "2.0.0",
      "model_name": "TextModel",
      "state": {
       "layout": "IPY_MODEL_a313c24eb28a41eaa6abfaaecbdd7c86",
       "style": "IPY_MODEL_6b2dbfc756c84f39bbdbff97dac46f51",
       "value": "Group 1"
      }
     },
     "1b374e5b7ff14233b1b24f4d5888a219": {
      "model_module": "@jupyter-widgets/base",
      "model_module_version": "2.0.0",
      "model_name": "LayoutModel",
      "state": {
       "width": "160px"
      }
     },
     "1b69c0ebce184cb4b65f0a4883f57944": {
      "model_module": "@jupyter-widgets/base",
      "model_module_version": "2.0.0",
      "model_name": "LayoutModel",
      "state": {
       "width": "160px"
      }
     },
     "1bc10ec399674eddb15ac110cd8a5f75": {
      "model_module": "@jupyter-widgets/controls",
      "model_module_version": "2.0.0",
      "model_name": "CheckboxModel",
      "state": {
       "description": "PPFD_IN_1_1_1",
       "disabled": false,
       "indent": false,
       "layout": "IPY_MODEL_d4e5c66c261242f1866b9190fb53c428",
       "style": "IPY_MODEL_2eed184eb0164d4a9008aa1d57d1c908",
       "value": false
      }
     },
     "1c4f446cf0034e778dede57e85b92898": {
      "model_module": "@jupyter-widgets/controls",
      "model_module_version": "2.0.0",
      "model_name": "CheckboxModel",
      "state": {
       "description": "PPFD_BC_IN_26_1_1",
       "disabled": false,
       "indent": false,
       "layout": "IPY_MODEL_e51e8982e9234908be512042e75ba2f0",
       "style": "IPY_MODEL_9c1e4e7f5274470f870339cd37592b2a",
       "value": false
      }
     },
     "1c587558cd4f4cc0bf423dcd97c8671e": {
      "model_module": "@jupyter-widgets/controls",
      "model_module_version": "2.0.0",
      "model_name": "CheckboxModel",
      "state": {
       "description": "H",
       "disabled": false,
       "indent": false,
       "layout": "IPY_MODEL_c3fd314dfe5e4a82b7d5a90970cfc82d",
       "style": "IPY_MODEL_bc89ead53e9542caa13ab29770189a5f",
       "value": false
      }
     },
     "1cb6573103c340528d02c888dc970a8e": {
      "model_module": "@jupyter-widgets/base",
      "model_module_version": "2.0.0",
      "model_name": "LayoutModel",
      "state": {
       "width": "160px"
      }
     },
     "1cbfabec129a45469df4407f0c334fc3": {
      "model_module": "@jupyter-widgets/controls",
      "model_module_version": "2.0.0",
      "model_name": "CheckboxStyleModel",
      "state": {
       "description_width": ""
      }
     },
     "1d30f262ba534127b8ba1530a167b3d2": {
      "model_module": "@jupyter-widgets/base",
      "model_module_version": "2.0.0",
      "model_name": "LayoutModel",
      "state": {
       "width": "160px"
      }
     },
     "1da7669a5d8f4215a529c0ac61a4f80a": {
      "model_module": "@jupyter-widgets/controls",
      "model_module_version": "2.0.0",
      "model_name": "DropdownModel",
      "state": {
       "_options_labels": [
        "Split-plot",
        "Multi-plotCorrelation plot",
        "Correlation table"
       ],
       "description": "Tools",
       "index": 0,
       "layout": "IPY_MODEL_dee96a3507c248ea959c4cd2843d1537",
       "style": "IPY_MODEL_b3cf4485b1744ff19ad72d5cc8321479"
      }
     },
     "1e41763cdbd34ca085f5a6f9e1ac9ef5": {
      "model_module": "@jupyter-widgets/controls",
      "model_module_version": "2.0.0",
      "model_name": "CheckboxStyleModel",
      "state": {
       "description_width": ""
      }
     },
     "1e4a82c7ca1746e18bd01a47cacaeb86": {
      "model_module": "@jupyter-widgets/controls",
      "model_module_version": "2.0.0",
      "model_name": "CheckboxStyleModel",
      "state": {
       "description_width": ""
      }
     },
     "1ec0c90763684ae8b03bf89ed46bc262": {
      "model_module": "@jupyter-widgets/base",
      "model_module_version": "2.0.0",
      "model_name": "LayoutModel",
      "state": {
       "width": "160px"
      }
     },
     "1ee561538e3d459f92d40a922e77da9f": {
      "model_module": "@jupyter-widgets/base",
      "model_module_version": "2.0.0",
      "model_name": "LayoutModel",
      "state": {
       "width": "160px"
      }
     },
     "1f238b9500ad4abd8194ced11da969bd": {
      "model_module": "@jupyter-widgets/controls",
      "model_module_version": "2.0.0",
      "model_name": "CheckboxStyleModel",
      "state": {
       "description_width": ""
      }
     },
     "1fd0bc06daeb47199ea61f3312056962": {
      "model_module": "@jupyter-widgets/controls",
      "model_module_version": "2.0.0",
      "model_name": "DescriptionStyleModel",
      "state": {
       "description_width": ""
      }
     },
     "1feff34719814d158fcb564ecf829fa9": {
      "model_module": "@jupyter-widgets/base",
      "model_module_version": "2.0.0",
      "model_name": "LayoutModel",
      "state": {
       "width": "160px"
      }
     },
     "2089b91903bb499b9fb2330ec5c65dbf": {
      "model_module": "@jupyter-widgets/base",
      "model_module_version": "2.0.0",
      "model_name": "LayoutModel",
      "state": {
       "width": "160px"
      }
     },
     "213afc1a3a5b4be291c777c94e69ae14": {
      "model_module": "@jupyter-widgets/base",
      "model_module_version": "2.0.0",
      "model_name": "LayoutModel",
      "state": {
       "width": "160px"
      }
     },
     "215d9d27a76a45c2a32f3955611495e1": {
      "model_module": "@jupyter-widgets/controls",
      "model_module_version": "2.0.0",
      "model_name": "CheckboxStyleModel",
      "state": {
       "description_width": ""
      }
     },
     "217bd4eab4d34830bf4a111a95e667a9": {
      "model_module": "@jupyter-widgets/controls",
      "model_module_version": "2.0.0",
      "model_name": "CheckboxModel",
      "state": {
       "description": "TS_13_6_1",
       "disabled": false,
       "indent": false,
       "layout": "IPY_MODEL_fc3049faee11490bb7c22ca93a732169",
       "style": "IPY_MODEL_fa0148fd6fbf475ebe6d8670e4096fde",
       "value": false
      }
     },
     "229e3edd09c349679507c2dd771b7bef": {
      "model_module": "@jupyter-widgets/controls",
      "model_module_version": "2.0.0",
      "model_name": "HTMLStyleModel",
      "state": {
       "description_width": "",
       "font_size": null,
       "text_color": null
      }
     },
     "23469f11497b4775bf52b36870ba9dd8": {
      "model_module": "@jupyter-widgets/base",
      "model_module_version": "2.0.0",
      "model_name": "LayoutModel",
      "state": {}
     },
     "23526537d56045c79e10ef5e6dff60e6": {
      "model_module": "@jupyter-widgets/controls",
      "model_module_version": "2.0.0",
      "model_name": "CheckboxStyleModel",
      "state": {
       "description_width": ""
      }
     },
     "239b3f9655ef477cbda51ebb1ca22659": {
      "model_module": "@jupyter-widgets/controls",
      "model_module_version": "2.0.0",
      "model_name": "CheckboxModel",
      "state": {
       "description": "RH_2_1_1",
       "disabled": false,
       "indent": false,
       "layout": "IPY_MODEL_b6ef4ba59a6d4cebab6bad223f6e8ded",
       "style": "IPY_MODEL_d1a29381a473465f8794303fe37a7b9c",
       "value": false
      }
     },
     "2401695130974e609d8f58e7bff7d738": {
      "model_module": "@jupyter-widgets/controls",
      "model_module_version": "2.0.0",
      "model_name": "DescriptionStyleModel",
      "state": {
       "description_width": ""
      }
     },
     "24949fd71b664d0c88d814bd8ec1de38": {
      "model_module": "@jupyter-widgets/controls",
      "model_module_version": "2.0.0",
      "model_name": "ButtonModel",
      "state": {
       "description": "Run all batch jobs",
       "layout": "IPY_MODEL_57989d8908544a168c06def0a29a8ac7",
       "style": "IPY_MODEL_c6e8a7318ee14ddbaa56091d12a97b04",
       "tooltip": null
      }
     },
     "249710a21c854a0a892305ec8bb7d2d2": {
      "model_module": "@jupyter-widgets/controls",
      "model_module_version": "2.0.0",
      "model_name": "CheckboxModel",
      "state": {
       "description": "PPFD_BC_IN_9_1_1",
       "disabled": false,
       "indent": false,
       "layout": "IPY_MODEL_c110621afae94a38a5e1b3dac4d3d1f6",
       "style": "IPY_MODEL_81dc406ad6aa456faa17165b2237110d",
       "value": false
      }
     },
     "250720bdf80b491d85a577cf98c3b54d": {
      "model_module": "@jupyter-widgets/base",
      "model_module_version": "2.0.0",
      "model_name": "LayoutModel",
      "state": {
       "width": "160px"
      }
     },
     "262b2cba46414973a8002238cbb056d6": {
      "model_module": "@jupyter-widgets/controls",
      "model_module_version": "2.0.0",
      "model_name": "CheckboxStyleModel",
      "state": {
       "description_width": ""
      }
     },
     "26ffa234e94c4de9afdbd06a956e190f": {
      "model_module": "@jupyter-widgets/base",
      "model_module_version": "2.0.0",
      "model_name": "LayoutModel",
      "state": {
       "width": "160px"
      }
     },
     "27331bd22e3242db8b1de91a8b389f6a": {
      "model_module": "@jupyter-widgets/controls",
      "model_module_version": "2.0.0",
      "model_name": "DescriptionStyleModel",
      "state": {
       "description_width": ""
      }
     },
     "27e5e92a88304f28a88afa77b0de8d10": {
      "model_module": "@jupyter-widgets/base",
      "model_module_version": "2.0.0",
      "model_name": "LayoutModel",
      "state": {
       "width": "100px"
      }
     },
     "299c64a4280c4f769d26fee61bb64f35": {
      "model_module": "@jupyter-widgets/controls",
      "model_module_version": "2.0.0",
      "model_name": "ButtonStyleModel",
      "state": {
       "font_family": null,
       "font_size": null,
       "font_style": null,
       "font_variant": null,
       "font_weight": null,
       "text_color": null,
       "text_decoration": null
      }
     },
     "29c0b123a30846f48ef5465e6e99e638": {
      "model_module": "@jupyter-widgets/base",
      "model_module_version": "2.0.0",
      "model_name": "LayoutModel",
      "state": {}
     },
     "2a16a7ee3186471f862a2bddf24b8445": {
      "model_module": "@jupyter-widgets/controls",
      "model_module_version": "2.0.0",
      "model_name": "CheckboxModel",
      "state": {
       "description": "PPFD_BC_IN_3_1_1",
       "disabled": false,
       "indent": false,
       "layout": "IPY_MODEL_3b6d2f6fce7447aebf3c53cb025e909e",
       "style": "IPY_MODEL_ce6878c38d414a0e892c8d6a8f942757",
       "value": false
      }
     },
     "2a410a12016742bc9f35678b3768aea9": {
      "model_module": "@jupyter-widgets/controls",
      "model_module_version": "2.0.0",
      "model_name": "CheckboxModel",
      "state": {
       "description": "PPFD_BC_IN_7_1_1",
       "disabled": false,
       "indent": false,
       "layout": "IPY_MODEL_b266733159aa4ab6a2ee4845dc3c9643",
       "style": "IPY_MODEL_dd33f00a16054deeb43ec0f3ff01e63d",
       "value": false
      }
     },
     "2a5ef4b1a5384e509c9d2bce3c7099e5": {
      "model_module": "@jupyter-widgets/controls",
      "model_module_version": "2.0.0",
      "model_name": "CheckboxStyleModel",
      "state": {
       "description_width": ""
      }
     },
     "2a6b365714c9448a98f2e6a719201c50": {
      "model_module": "@jupyter-widgets/controls",
      "model_module_version": "2.0.0",
      "model_name": "CheckboxStyleModel",
      "state": {
       "description_width": ""
      }
     },
     "2a99198dd03a40a9805f5be4cd2e1c3a": {
      "model_module": "@jupyter-widgets/controls",
      "model_module_version": "2.0.0",
      "model_name": "CheckboxModel",
      "state": {
       "description": "TS_13_1_1",
       "disabled": false,
       "indent": false,
       "layout": "IPY_MODEL_961a9380310b401299b1451b3409eb10",
       "style": "IPY_MODEL_955b32ca487f4c9fb6dc9d573c9496bb",
       "value": false
      }
     },
     "2af9c2d185fc49c9b68ecb71ef691c98": {
      "model_module": "@jupyter-widgets/controls",
      "model_module_version": "2.0.0",
      "model_name": "CheckboxModel",
      "state": {
       "description": "TS_12_4_1",
       "disabled": false,
       "indent": false,
       "layout": "IPY_MODEL_ba2aaf8e219f4a2689f4b9581cf97cce",
       "style": "IPY_MODEL_66b3754a9dc24437a1825e27ff3d38f3",
       "value": false
      }
     },
     "2b7bc5b57fde44e6ad101a0e9c083533": {
      "model_module": "@jupyter-widgets/controls",
      "model_module_version": "2.0.0",
      "model_name": "CheckboxStyleModel",
      "state": {
       "description_width": ""
      }
     },
     "2c103ba0c9af48f48c0f5971909c1bad": {
      "model_module": "@jupyter-widgets/controls",
      "model_module_version": "2.0.0",
      "model_name": "CheckboxStyleModel",
      "state": {
       "description_width": ""
      }
     },
     "2c9d47364bd84203a26e311de94383c7": {
      "model_module": "@jupyter-widgets/base",
      "model_module_version": "2.0.0",
      "model_name": "LayoutModel",
      "state": {
       "align_content": "flex-start",
       "border_bottom": "dashed 0.5px",
       "border_left": "dashed 0.5px",
       "border_right": "dashed 0.5px",
       "border_top": "dashed 0.5px",
       "display": "inline-flex",
       "flex_flow": "row wrap",
       "width": "100%"
      }
     },
     "2cd467e0e4ec4696b9b30924e407edc4": {
      "model_module": "@jupyter-widgets/controls",
      "model_module_version": "2.0.0",
      "model_name": "CheckboxModel",
      "state": {
       "description": "G_11_1_1",
       "disabled": false,
       "indent": false,
       "layout": "IPY_MODEL_0a069e9a6394494bb8a053753a8e61ec",
       "style": "IPY_MODEL_b722e05ccc0242e2a3dd169d37832d9d",
       "value": false
      }
     },
     "2d5cd3cd25234094b4de0e438ccd6e58": {
      "model_module": "@jupyter-widgets/base",
      "model_module_version": "2.0.0",
      "model_name": "LayoutModel",
      "state": {
       "width": "160px"
      }
     },
     "2d839cd90e234868960ad1ae82d46364": {
      "model_module": "@jupyter-widgets/controls",
      "model_module_version": "2.0.0",
      "model_name": "CheckboxStyleModel",
      "state": {
       "description_width": ""
      }
     },
     "2da9e0426a3f4da49cb3b8e4e56f56a5": {
      "model_module": "@jupyter-widgets/controls",
      "model_module_version": "2.0.0",
      "model_name": "CheckboxModel",
      "state": {
       "description": "PPFD_BC_IN_31_1_1",
       "disabled": false,
       "indent": false,
       "layout": "IPY_MODEL_064a9918c72c44ec8b79dd53d42cc568",
       "style": "IPY_MODEL_13cd1b8b84054af1b78040dad9f078b7",
       "value": false
      }
     },
     "2e2d31ac278d46ac864b0fd1b19f251d": {
      "model_module": "@jupyter-widgets/controls",
      "model_module_version": "2.0.0",
      "model_name": "CheckboxModel",
      "state": {
       "description": "D_SNOW_1_1_1",
       "disabled": false,
       "indent": false,
       "layout": "IPY_MODEL_a2daac103ab54a4b98ad567e515fd39c",
       "style": "IPY_MODEL_0f2d285bb87e4320bc675ccecaa41ffd",
       "value": false
      }
     },
     "2eed184eb0164d4a9008aa1d57d1c908": {
      "model_module": "@jupyter-widgets/controls",
      "model_module_version": "2.0.0",
      "model_name": "CheckboxStyleModel",
      "state": {
       "description_width": ""
      }
     },
     "2fb2b453c852472f90ac6b4d9b7ecee3": {
      "model_module": "@jupyter-widgets/controls",
      "model_module_version": "2.0.0",
      "model_name": "CheckboxModel",
      "state": {
       "description": "TS_13_2_1",
       "disabled": false,
       "indent": false,
       "layout": "IPY_MODEL_971b08aa83324d5a9e2b45e4d71a7a86",
       "style": "IPY_MODEL_6c533a4af1fd458e9682f29bf3917096",
       "value": false
      }
     },
     "30bd8f94f096400cb34a74e50ddf1ef1": {
      "model_module": "@jupyter-widgets/controls",
      "model_module_version": "2.0.0",
      "model_name": "CheckboxModel",
      "state": {
       "description": "SWC_14_5_1",
       "disabled": false,
       "indent": false,
       "layout": "IPY_MODEL_845af1677cd947289c952a959f7ff927",
       "style": "IPY_MODEL_ad4ec54565c145e58131d831788229ca",
       "value": false
      }
     },
     "318d5e9655d94c2da7611e0bb7ef3970": {
      "model_module": "@jupyter-widgets/controls",
      "model_module_version": "2.0.0",
      "model_name": "CheckboxStyleModel",
      "state": {
       "description_width": ""
      }
     },
     "31dc2c7e4a2248c8a3510b89f7af3553": {
      "model_module": "@jupyter-widgets/controls",
      "model_module_version": "2.0.0",
      "model_name": "CheckboxModel",
      "state": {
       "description": "PPFD_BC_IN_23_1_1",
       "disabled": false,
       "indent": false,
       "layout": "IPY_MODEL_027480dbbab44e038d66b6f08f7e9943",
       "style": "IPY_MODEL_54ccbf3e38be40ccad96d1462f67cca9",
       "value": false
      }
     },
     "32a49523c7514707a35bfba17074f619": {
      "model_module": "@jupyter-widgets/controls",
      "model_module_version": "2.0.0",
      "model_name": "CheckboxStyleModel",
      "state": {
       "description_width": ""
      }
     },
     "32b9ec9d122e43a7a6540c9f3d294720": {
      "model_module": "@jupyter-widgets/controls",
      "model_module_version": "2.0.0",
      "model_name": "CheckboxStyleModel",
      "state": {
       "description_width": ""
      }
     },
     "32d6488b6267409689ecbcd96e400611": {
      "model_module": "@jupyter-widgets/controls",
      "model_module_version": "2.0.0",
      "model_name": "CheckboxStyleModel",
      "state": {
       "description_width": ""
      }
     },
     "3334626284264c4ea2095b0ca7e65d53": {
      "model_module": "@jupyter-widgets/controls",
      "model_module_version": "2.0.0",
      "model_name": "VBoxModel",
      "state": {
       "children": [
        "IPY_MODEL_8416af7e11b44c8da1cf7828c76d467c",
        "IPY_MODEL_d0cd8489347740ab8b21f8946fbdee95",
        "IPY_MODEL_182ed97a03964c8db4c58841577324f2"
       ],
       "layout": "IPY_MODEL_7b60d39ac36c4d58b37449098e8d6581"
      }
     },
     "34946b6c7e8f45cb8a503dec612381ef": {
      "model_module": "@jupyter-widgets/controls",
      "model_module_version": "2.0.0",
      "model_name": "CheckboxStyleModel",
      "state": {
       "description_width": ""
      }
     },
     "34da86061d144674b5deb149c42b4be8": {
      "model_module": "@jupyter-widgets/controls",
      "model_module_version": "2.0.0",
      "model_name": "CheckboxModel",
      "state": {
       "description": "TS_11_2_1",
       "disabled": false,
       "indent": false,
       "layout": "IPY_MODEL_42e75ab8ad274f89a899423fa6d7cf5e",
       "style": "IPY_MODEL_0afcf1d7e0184131adfc0362b02d72da",
       "value": false
      }
     },
     "356b6b31c519489c9e4828318c949cfb": {
      "model_module": "@jupyter-widgets/controls",
      "model_module_version": "2.0.0",
      "model_name": "HBoxModel",
      "state": {
       "children": [
        "IPY_MODEL_ccf155d33e2946bdb23fdf026444f445",
        "IPY_MODEL_9d5cd18004ea4ca099cb3d3ba1e70937",
        "IPY_MODEL_24949fd71b664d0c88d814bd8ec1de38"
       ],
       "layout": "IPY_MODEL_154c9fe438fe45b4afbe86f46788cf9c"
      }
     },
     "35eac20a818049eaa01c084f3a881139": {
      "model_module": "@jupyter-widgets/controls",
      "model_module_version": "2.0.0",
      "model_name": "CheckboxStyleModel",
      "state": {
       "description_width": ""
      }
     },
     "36473d050c2a4b1ba0c084bca4a3b726": {
      "model_module": "@jupyter-widgets/base",
      "model_module_version": "2.0.0",
      "model_name": "LayoutModel",
      "state": {}
     },
     "3666b2ab5ce44cf2b8a9b4fdd6025f18": {
      "model_module": "@jupyter-widgets/controls",
      "model_module_version": "2.0.0",
      "model_name": "CheckboxModel",
      "state": {
       "description": "PPFD_BC_IN_34_1_1",
       "disabled": false,
       "indent": false,
       "layout": "IPY_MODEL_cd05fe4465094dbdb9ae7da5bd495036",
       "style": "IPY_MODEL_7a51c7b5164e44adb1a1c77b999ec2d7",
       "value": false
      }
     },
     "3747a3bf249240cea029c08bdeebbbea": {
      "model_module": "@jupyter-widgets/controls",
      "model_module_version": "2.0.0",
      "model_name": "CheckboxStyleModel",
      "state": {
       "description_width": ""
      }
     },
     "38ecde5b2c64405f8fd30d21c3662f00": {
      "model_module": "@jupyter-widgets/controls",
      "model_module_version": "2.0.0",
      "model_name": "CheckboxStyleModel",
      "state": {
       "description_width": ""
      }
     },
     "393f6bb15cf14b998c77fc085f91613b": {
      "model_module": "@jupyter-widgets/controls",
      "model_module_version": "2.0.0",
      "model_name": "CheckboxStyleModel",
      "state": {
       "description_width": ""
      }
     },
     "39b8a45b1eef438ab35e48297bdb2ec2": {
      "model_module": "@jupyter-widgets/controls",
      "model_module_version": "2.0.0",
      "model_name": "HTMLStyleModel",
      "state": {
       "description_width": "",
       "font_size": null,
       "text_color": null
      }
     },
     "3a0705feab9c4db18ae29a63404595d3": {
      "model_module": "@jupyter-widgets/controls",
      "model_module_version": "2.0.0",
      "model_name": "DatePickerModel",
      "state": {
       "description": "End date",
       "disabled": false,
       "layout": "IPY_MODEL_dee96a3507c248ea959c4cd2843d1537",
       "max": null,
       "min": null,
       "step": 1,
       "style": "IPY_MODEL_e590b6d1f9fb48e3b9ea9d5b8e5d23da",
       "tooltip": "Default is yesterday",
       "value": {
        "date": 17,
        "month": 9,
        "year": 2023
       }
      }
     },
     "3aa04b39a652441fb97d9aa0970dc606": {
      "model_module": "@jupyter-widgets/controls",
      "model_module_version": "2.0.0",
      "model_name": "CheckboxStyleModel",
      "state": {
       "description_width": ""
      }
     },
     "3ac0bb0588954a82b9b3a5a26e9fc6f0": {
      "model_module": "@jupyter-widgets/controls",
      "model_module_version": "2.0.0",
      "model_name": "CheckboxStyleModel",
      "state": {
       "description_width": ""
      }
     },
     "3af69956ed96439cb835c5324c2b3c64": {
      "model_module": "@jupyter-widgets/base",
      "model_module_version": "2.0.0",
      "model_name": "LayoutModel",
      "state": {}
     },
     "3b6d2f6fce7447aebf3c53cb025e909e": {
      "model_module": "@jupyter-widgets/base",
      "model_module_version": "2.0.0",
      "model_name": "LayoutModel",
      "state": {
       "width": "160px"
      }
     },
     "3bf6f4afe2ba48839fcdd64a7989e759": {
      "model_module": "@jupyter-widgets/controls",
      "model_module_version": "2.0.0",
      "model_name": "CheckboxModel",
      "state": {
       "description": "P_2_1_1",
       "disabled": false,
       "indent": false,
       "layout": "IPY_MODEL_26ffa234e94c4de9afdbd06a956e190f",
       "style": "IPY_MODEL_6465cebec3094ee99838bdb255fd26b9",
       "value": false
      }
     },
     "3c443ba391d245a0b4698d48f3612e4b": {
      "model_module": "@jupyter-widgets/controls",
      "model_module_version": "2.0.0",
      "model_name": "CheckboxModel",
      "state": {
       "description": "PPFD_BC_IN_43_1_1",
       "disabled": false,
       "indent": false,
       "layout": "IPY_MODEL_d5a1782aefb44f3080892c748d08ece3",
       "style": "IPY_MODEL_42134d9a9f4c42b88c39e1616e7bb199",
       "value": false
      }
     },
     "3cc0f172d187459886de8badad6a03b3": {
      "model_module": "@jupyter-widgets/base",
      "model_module_version": "2.0.0",
      "model_name": "LayoutModel",
      "state": {
       "width": "160px"
      }
     },
     "3db73a2ce93e497a928703aec416f748": {
      "model_module": "@jupyter-widgets/base",
      "model_module_version": "2.0.0",
      "model_name": "LayoutModel",
      "state": {
       "width": "160px"
      }
     },
     "3f5a6a7f31d542619efe4b878b4f1a62": {
      "model_module": "@jupyter-widgets/controls",
      "model_module_version": "2.0.0",
      "model_name": "CheckboxStyleModel",
      "state": {
       "description_width": ""
      }
     },
     "3f9e1414b80f4464b87bfa819aa68589": {
      "model_module": "@jupyter-widgets/base",
      "model_module_version": "2.0.0",
      "model_name": "LayoutModel",
      "state": {
       "width": "160px"
      }
     },
     "3fca523e8928461bb03fe6d0af4a43e3": {
      "model_module": "@jupyter-widgets/controls",
      "model_module_version": "2.0.0",
      "model_name": "TextStyleModel",
      "state": {
       "description_width": "",
       "font_size": null,
       "text_color": null
      }
     },
     "405015cd54a148dab4f71011ccc091ca": {
      "model_module": "@jupyter-widgets/controls",
      "model_module_version": "2.0.0",
      "model_name": "CheckboxStyleModel",
      "state": {
       "description_width": ""
      }
     },
     "40cdbe81d68945d78d1c41bbf3e8a2b8": {
      "model_module": "@jupyter-widgets/base",
      "model_module_version": "2.0.0",
      "model_name": "LayoutModel",
      "state": {
       "width": "160px"
      }
     },
     "40f63df89e074aafb6ae8ad40ef6cab1": {
      "model_module": "@jupyter-widgets/controls",
      "model_module_version": "2.0.0",
      "model_name": "HBoxModel",
      "state": {
       "children": [
        "IPY_MODEL_75264f2191d54f53ae6f3db876241196",
        "IPY_MODEL_940147b8981c42e7a6caffd2fe0e2468"
       ],
       "layout": "IPY_MODEL_cf6641560d604e9181beaedc449aaf7d"
      }
     },
     "41326d5142084f2196dc94ee1093af67": {
      "model_module": "@jupyter-widgets/controls",
      "model_module_version": "2.0.0",
      "model_name": "CheckboxModel",
      "state": {
       "description": "TS_14_6_1",
       "disabled": false,
       "indent": false,
       "layout": "IPY_MODEL_06e69c4b533d4175a0bfe81c66263b36",
       "style": "IPY_MODEL_515998da9e274447b8ccbc37c323830b",
       "value": false
      }
     },
     "4195d911067e41b2957f4fa45a1cdf63": {
      "model_module": "@jupyter-widgets/base",
      "model_module_version": "2.0.0",
      "model_name": "LayoutModel",
      "state": {}
     },
     "41d2242f2c95457e985da3f1d328339b": {
      "model_module": "@jupyter-widgets/controls",
      "model_module_version": "2.0.0",
      "model_name": "VBoxModel",
      "state": {
       "children": [
        "IPY_MODEL_bcadf61feab34af1b1fe6184ab5956f6",
        "IPY_MODEL_bb0a0a929d38400187ce916a0e875890",
        "IPY_MODEL_018e1591c07d4778a2c804d1f2ce8b65"
       ],
       "layout": "IPY_MODEL_a90afe0c77664b1eb6b4f5d831a8e0d6"
      }
     },
     "42134d9a9f4c42b88c39e1616e7bb199": {
      "model_module": "@jupyter-widgets/controls",
      "model_module_version": "2.0.0",
      "model_name": "CheckboxStyleModel",
      "state": {
       "description_width": ""
      }
     },
     "42a97da5673f46dabec8b64c52ad0d0b": {
      "model_module": "@jupyter-widgets/controls",
      "model_module_version": "2.0.0",
      "model_name": "CheckboxStyleModel",
      "state": {
       "description_width": ""
      }
     },
     "42e75ab8ad274f89a899423fa6d7cf5e": {
      "model_module": "@jupyter-widgets/base",
      "model_module_version": "2.0.0",
      "model_name": "LayoutModel",
      "state": {
       "width": "160px"
      }
     },
     "43554f5f4ae7416982145e638c77250c": {
      "model_module": "@jupyter-widgets/controls",
      "model_module_version": "2.0.0",
      "model_name": "CheckboxStyleModel",
      "state": {
       "description_width": ""
      }
     },
     "436921d6c96b491f9561b00972c72264": {
      "model_module": "@jupyter-widgets/base",
      "model_module_version": "2.0.0",
      "model_name": "LayoutModel",
      "state": {
       "width": "160px"
      }
     },
     "43ca020432d94a11a619f0579cdfaaea": {
      "model_module": "@jupyter-widgets/controls",
      "model_module_version": "2.0.0",
      "model_name": "HBoxModel",
      "state": {
       "children": [
        "IPY_MODEL_67a8ead977a64290841ecb26914d2d01",
        "IPY_MODEL_c303d12772404537b7c2998b2673f048",
        "IPY_MODEL_60a5baf6906f4d8f977462e641875ab3"
       ],
       "layout": "IPY_MODEL_8fb1d3cfd0b442eaa211b09b61d9015b"
      }
     },
     "43d4438fec8446b48b0b9c65b2ec6994": {
      "model_module": "@jupyter-widgets/controls",
      "model_module_version": "2.0.0",
      "model_name": "HTMLMathStyleModel",
      "state": {
       "description_width": "",
       "font_size": null,
       "text_color": null
      }
     },
     "4457b3015a49443ca38cabe63a0ab912": {
      "model_module": "@jupyter-widgets/controls",
      "model_module_version": "2.0.0",
      "model_name": "CheckboxModel",
      "state": {
       "description": "PPFD_DIF_1_1_1",
       "disabled": false,
       "indent": false,
       "layout": "IPY_MODEL_4ae099e57c384f66b1ea5bce3c17aadb",
       "style": "IPY_MODEL_7a44bf13ca644ddd8d08ca7f88501bbc",
       "value": false
      }
     },
     "446725b94e24492db2edc9282b549eb3": {
      "model_module": "@jupyter-widgets/controls",
      "model_module_version": "2.0.0",
      "model_name": "CheckboxModel",
      "state": {
       "description": "TA_1_5_1",
       "disabled": false,
       "indent": false,
       "layout": "IPY_MODEL_1d30f262ba534127b8ba1530a167b3d2",
       "style": "IPY_MODEL_32b9ec9d122e43a7a6540c9f3d294720",
       "value": false
      }
     },
     "448b1617e86f49709f808f041fa03d6f": {
      "model_module": "@jupyter-widgets/base",
      "model_module_version": "2.0.0",
      "model_name": "LayoutModel",
      "state": {
       "width": "160px"
      }
     },
     "44cec3c228764d9eaa5fb0c639385bfa": {
      "model_module": "@jupyter-widgets/controls",
      "model_module_version": "2.0.0",
      "model_name": "CheckboxModel",
      "state": {
       "description": "TA_1_8_1",
       "disabled": false,
       "indent": false,
       "layout": "IPY_MODEL_94283457e7934dc8b64d330e0777b440",
       "style": "IPY_MODEL_913f200cc0f746fe898706d3b0a811a0",
       "value": false
      }
     },
     "44f6bf499dbe49fc8a74e3e67375b0af": {
      "model_module": "@jupyter-widgets/controls",
      "model_module_version": "2.0.0",
      "model_name": "HTMLModel",
      "state": {
       "layout": "IPY_MODEL_9febbc770d154c3c85ebb52fa237c325",
       "style": "IPY_MODEL_cc93ab52059f4c6580fdb6c21ee71095",
       "value": "<b>Basics of the variable <i>PPFD_BC_IN_16_1_1</i></b> <br><b>Name:</b> Photosynthetic photon flux density below canopy incoming. <b> Unit:</b> µmol m-2 s-1.<br><b>Label:</b> Particle flux. <b>Comments:</b> Amount of particles passing through unit area during unit of time."
      }
     },
     "45bbb534624e44eb89be6455b751cdce": {
      "model_module": "@jupyter-widgets/controls",
      "model_module_version": "2.0.0",
      "model_name": "CheckboxStyleModel",
      "state": {
       "description_width": ""
      }
     },
     "4644e17a938a45f9a11341b525cfcfca": {
      "model_module": "@jupyter-widgets/controls",
      "model_module_version": "2.0.0",
      "model_name": "CheckboxModel",
      "state": {
       "description": "PPFD_BC_IN_37_1_1",
       "disabled": false,
       "indent": false,
       "layout": "IPY_MODEL_f1af137ee86942f3b8fbbf5968b6a533",
       "style": "IPY_MODEL_0c14f2c0a6604039b80b263ef02b75a3",
       "value": false
      }
     },
     "46864643bc964d71a704fa647c10d078": {
      "model_module": "@jupyter-widgets/controls",
      "model_module_version": "2.0.0",
      "model_name": "CheckboxStyleModel",
      "state": {
       "description_width": ""
      }
     },
     "469de047e9534d7da6433db4bc4f07a2": {
      "model_module": "@jupyter-widgets/base",
      "model_module_version": "2.0.0",
      "model_name": "LayoutModel",
      "state": {
       "width": "100px"
      }
     },
     "478f66d22d0341b5a71ece75159be1f3": {
      "model_module": "@jupyter-widgets/base",
      "model_module_version": "2.0.0",
      "model_name": "LayoutModel",
      "state": {
       "width": "160px"
      }
     },
     "47a8271514134dfab8db3c262d901628": {
      "model_module": "@jupyter-widgets/controls",
      "model_module_version": "2.0.0",
      "model_name": "CheckboxModel",
      "state": {
       "description": "G_12_1_1",
       "disabled": false,
       "indent": false,
       "layout": "IPY_MODEL_c44809a5292c4021966b756aff65e650",
       "style": "IPY_MODEL_cfb411cbb2ea4997b53686c39441ebce",
       "value": false
      }
     },
     "480ba14bdce9437b826830a3f91b52eb": {
      "model_module": "@jupyter-widgets/controls",
      "model_module_version": "2.0.0",
      "model_name": "CheckboxModel",
      "state": {
       "description": "TS_12_7_1",
       "disabled": false,
       "indent": false,
       "layout": "IPY_MODEL_71a6f460ed0e47cc9c9db2fe9255141e",
       "style": "IPY_MODEL_0d6a6be5b7f14852ad20150dee643abb",
       "value": false
      }
     },
     "4832b1c751dc47868946d5a99a64f9ca": {
      "model_module": "@jupyter-widgets/controls",
      "model_module_version": "2.0.0",
      "model_name": "VBoxModel",
      "state": {
       "children": [
        "IPY_MODEL_17aa6b1bcd084099a44e93296d9112bc"
       ],
       "layout": "IPY_MODEL_ed29c61b3ee64e5b996569ae99e3c9fc"
      }
     },
     "4840ab73c0464c20aa0ae4b1d1c85e38": {
      "model_module": "@jupyter-widgets/base",
      "model_module_version": "2.0.0",
      "model_name": "LayoutModel",
      "state": {
       "width": "160px"
      }
     },
     "485a9a50b6e04c39ae9d1e69abbbabf3": {
      "model_module": "@jupyter-widgets/base",
      "model_module_version": "2.0.0",
      "model_name": "LayoutModel",
      "state": {
       "height": "40px",
       "width": "auto"
      }
     },
     "48b76890f36941f28b9e1935f7a0dc22": {
      "model_module": "@jupyter-widgets/controls",
      "model_module_version": "2.0.0",
      "model_name": "CheckboxStyleModel",
      "state": {
       "description_width": ""
      }
     },
     "48cf155b9c144e22862fc10b05d4033c": {
      "model_module": "@jupyter-widgets/controls",
      "model_module_version": "2.0.0",
      "model_name": "CheckboxModel",
      "state": {
       "description": "WS_2_1_1",
       "disabled": false,
       "indent": false,
       "layout": "IPY_MODEL_8fac15d5484f4d8092c48091c37ee57d",
       "style": "IPY_MODEL_b4947eda28164a908ad58dc5d96c2bc1",
       "value": false
      }
     },
     "4aa7edaa18d04e00bae4f84506e2ee00": {
      "model_module": "@jupyter-widgets/base",
      "model_module_version": "2.0.0",
      "model_name": "LayoutModel",
      "state": {
       "width": "160px"
      }
     },
     "4ae099e57c384f66b1ea5bce3c17aadb": {
      "model_module": "@jupyter-widgets/base",
      "model_module_version": "2.0.0",
      "model_name": "LayoutModel",
      "state": {
       "width": "160px"
      }
     },
     "4b166a3d389440ad81c1247adaf5cebf": {
      "model_module": "@jupyter-widgets/controls",
      "model_module_version": "2.0.0",
      "model_name": "CheckboxStyleModel",
      "state": {
       "description_width": ""
      }
     },
     "4b4d60b267ba437380de3501e63c580a": {
      "model_module": "@jupyter-widgets/base",
      "model_module_version": "2.0.0",
      "model_name": "LayoutModel",
      "state": {
       "width": "160px"
      }
     },
     "4bc3f7e52272485b922b57cf4722e466": {
      "model_module": "@jupyter-widgets/controls",
      "model_module_version": "2.0.0",
      "model_name": "CheckboxModel",
      "state": {
       "description": "PPFD_IN_1_1_2",
       "disabled": false,
       "indent": false,
       "layout": "IPY_MODEL_de6a8c7b0e0948fd8775fdb7a65f33b2",
       "style": "IPY_MODEL_5d891ba4ea7d4bbd8a2a3225e290c04d",
       "value": false
      }
     },
     "4be07129eac14343933ddb676152429d": {
      "model_module": "@jupyter-widgets/base",
      "model_module_version": "2.0.0",
      "model_name": "LayoutModel",
      "state": {
       "width": "160px"
      }
     },
     "4c249a9db2004ced84d6f7b99dcf4373": {
      "model_module": "@jupyter-widgets/controls",
      "model_module_version": "2.0.0",
      "model_name": "CheckboxModel",
      "state": {
       "description": "PPFD_BC_IN_14_1_1",
       "disabled": false,
       "indent": false,
       "layout": "IPY_MODEL_58d36691c8d34f02a28570808cd7fc4e",
       "style": "IPY_MODEL_2d839cd90e234868960ad1ae82d46364",
       "value": true
      }
     },
     "4c9bf9db277d434ca3cdc43c64bb215e": {
      "model_module": "@jupyter-widgets/base",
      "model_module_version": "2.0.0",
      "model_name": "LayoutModel",
      "state": {
       "width": "160px"
      }
     },
     "4cb8391fc52747d6a2cddccad858be36": {
      "model_module": "@jupyter-widgets/base",
      "model_module_version": "2.0.0",
      "model_name": "LayoutModel",
      "state": {
       "width": "160px"
      }
     },
     "4d0b3d3773d84cec94ada716c18e22e8": {
      "model_module": "@jupyter-widgets/base",
      "model_module_version": "2.0.0",
      "model_name": "LayoutModel",
      "state": {
       "width": "160px"
      }
     },
     "4f20c13bd6c74f3f9a327d1269e7fdb2": {
      "model_module": "@jupyter-widgets/base",
      "model_module_version": "2.0.0",
      "model_name": "LayoutModel",
      "state": {
       "width": "160px"
      }
     },
     "515998da9e274447b8ccbc37c323830b": {
      "model_module": "@jupyter-widgets/controls",
      "model_module_version": "2.0.0",
      "model_name": "CheckboxStyleModel",
      "state": {
       "description_width": ""
      }
     },
     "51c0cf99e6d74958a31eb6a9f1011f92": {
      "model_module": "@jupyter-widgets/base",
      "model_module_version": "2.0.0",
      "model_name": "LayoutModel",
      "state": {}
     },
     "52382b322545421589bff0ad7c0770d6": {
      "model_module": "@jupyter-widgets/base",
      "model_module_version": "2.0.0",
      "model_name": "LayoutModel",
      "state": {
       "width": "160px"
      }
     },
     "52a675ff7a5d423ea636d2ab0aa24883": {
      "model_module": "@jupyter-widgets/controls",
      "model_module_version": "2.0.0",
      "model_name": "CheckboxModel",
      "state": {
       "description": "VPD_1_1_1",
       "disabled": false,
       "indent": false,
       "layout": "IPY_MODEL_e7161d0ba08f45d096d03f856d941f66",
       "style": "IPY_MODEL_8a6887288f354de9a4c62238be00ca96",
       "value": false
      }
     },
     "52d9eb0c0e424c89a8ed8083618266b3": {
      "model_module": "@jupyter-widgets/controls",
      "model_module_version": "2.0.0",
      "model_name": "CheckboxStyleModel",
      "state": {
       "description_width": ""
      }
     },
     "530ae853e37d40519fd6bcc785516ae0": {
      "model_module": "@jupyter-widgets/controls",
      "model_module_version": "2.0.0",
      "model_name": "CheckboxStyleModel",
      "state": {
       "description_width": ""
      }
     },
     "532e7d5468e04ecea015c4d067196a91": {
      "model_module": "@jupyter-widgets/controls",
      "model_module_version": "2.0.0",
      "model_name": "CheckboxModel",
      "state": {
       "description": "LW_OUT_2_1_1",
       "disabled": false,
       "indent": false,
       "layout": "IPY_MODEL_6be029c3f2c146029f0006e3cc7bf286",
       "style": "IPY_MODEL_78238681a1ea4320beda8d12cb8e7da5",
       "value": true
      }
     },
     "53c4beea44bf40e88fc4bf8effa363ab": {
      "model_module": "@jupyter-widgets/controls",
      "model_module_version": "2.0.0",
      "model_name": "CheckboxModel",
      "state": {
       "description": "CO2",
       "disabled": false,
       "indent": false,
       "layout": "IPY_MODEL_e7cb4abca7a94726abf39289ff9dfea1",
       "style": "IPY_MODEL_9355dd2b0bfe4fadacae7805044441f3",
       "value": false
      }
     },
     "541d35a71fd4415db0902c81859c084e": {
      "model_module": "@jupyter-widgets/base",
      "model_module_version": "2.0.0",
      "model_name": "LayoutModel",
      "state": {}
     },
     "54658fa939c94fbabf5d6425cb491be0": {
      "model_module": "@jupyter-widgets/controls",
      "model_module_version": "2.0.0",
      "model_name": "CheckboxStyleModel",
      "state": {
       "description_width": ""
      }
     },
     "546a86168a3a4298bd12c02b490b457e": {
      "model_module": "@jupyter-widgets/controls",
      "model_module_version": "2.0.0",
      "model_name": "CheckboxStyleModel",
      "state": {
       "description_width": ""
      }
     },
     "54ca32c21cde4b6b918f3c678935e412": {
      "model_module": "@jupyter-widgets/controls",
      "model_module_version": "2.0.0",
      "model_name": "CheckboxModel",
      "state": {
       "description": "WD_2_1_1",
       "disabled": false,
       "indent": false,
       "layout": "IPY_MODEL_5f656b314d684373b5ac3492f115d00b",
       "style": "IPY_MODEL_4b166a3d389440ad81c1247adaf5cebf",
       "value": false
      }
     },
     "54ccbf3e38be40ccad96d1462f67cca9": {
      "model_module": "@jupyter-widgets/controls",
      "model_module_version": "2.0.0",
      "model_name": "CheckboxStyleModel",
      "state": {
       "description_width": ""
      }
     },
     "54e367ee7c4c4de9b7f5a54c7d1ddad4": {
      "model_module": "@jupyter-widgets/controls",
      "model_module_version": "2.0.0",
      "model_name": "CheckboxStyleModel",
      "state": {
       "description_width": ""
      }
     },
     "5542ffc382c944fb996067a57a4fee8e": {
      "model_module": "@jupyter-widgets/controls",
      "model_module_version": "2.0.0",
      "model_name": "CheckboxModel",
      "state": {
       "description": "TA_1_13_1",
       "disabled": false,
       "indent": false,
       "layout": "IPY_MODEL_1b374e5b7ff14233b1b24f4d5888a219",
       "style": "IPY_MODEL_baa86d3251e94cf383edec31403d5a07",
       "value": false
      }
     },
     "557c6521233e40df9641ad99372ca566": {
      "model_module": "@jupyter-widgets/base",
      "model_module_version": "2.0.0",
      "model_name": "LayoutModel",
      "state": {
       "width": "160px"
      }
     },
     "55cac09ae0c84c84a602be03207abb80": {
      "model_module": "@jupyter-widgets/controls",
      "model_module_version": "2.0.0",
      "model_name": "CheckboxStyleModel",
      "state": {
       "description_width": ""
      }
     },
     "561e30d1dcef43828f08f6adc37a7aa6": {
      "model_module": "@jupyter-widgets/controls",
      "model_module_version": "2.0.0",
      "model_name": "CheckboxModel",
      "state": {
       "description": "SW_OUT_2_1_1",
       "disabled": false,
       "indent": false,
       "layout": "IPY_MODEL_213afc1a3a5b4be291c777c94e69ae14",
       "style": "IPY_MODEL_75e27fc99448449ab04188df3056d777",
       "value": false
      }
     },
     "5643bdff001d482299a14e26aae9a50b": {
      "model_module": "@jupyter-widgets/controls",
      "model_module_version": "2.0.0",
      "model_name": "CheckboxModel",
      "state": {
       "description": "SWC_13_4_1",
       "disabled": false,
       "indent": false,
       "layout": "IPY_MODEL_b7d3f7c933c642ec82aa78caf0d24434",
       "style": "IPY_MODEL_69bee52a475e49b2932774f9a9e6527c",
       "value": false
      }
     },
     "56d1155f421e4b319c2d7ff45061a285": {
      "model_module": "@jupyter-widgets/controls",
      "model_module_version": "2.0.0",
      "model_name": "HTMLModel",
      "state": {
       "layout": "IPY_MODEL_e86135d677254689b93d0249d0afc861",
       "style": "IPY_MODEL_04d616b6ecc344408be167a29ff3b40a",
       "value": "<b>Variables: </b>NEE_UNCLEANED, SC, TAU, USTAR, W_SIGMA, ZL, LE_UNCLEANED, LW_OUT_1_1_1, LW_OUT_2_1_1, PA_1_1_1, PA_2_1_1, PPFD_BC_IN_10_1_1, PPFD_BC_IN_11_1_1, PPFD_BC_IN_12_1_1, PPFD_BC_IN_13_1_1, PPFD_BC_IN_14_1_1, PPFD_BC_IN_15_1_1, PPFD_BC_IN_16_1_1<br><hr><hr><i>Where the variables </i><b>NEE_UNCLEANED</b>, <b>SC</b>, <b>TAU</b>, <b>USTAR</b>, <b>W_SIGMA</b>, <b>ZL</b> and <b>LE_UNCLEANED</b> are from <b>ETC NRT Fluxes</b>,<br>while <b>LW_OUT_1_1_1</b>, <b>LW_OUT_2_1_1</b>, <b>PA_1_1_1</b>, <b>PA_2_1_1</b>, <b>PPFD_BC_IN_10_1_1</b>, <b>PPFD_BC_IN_11_1_1</b>, <b>PPFD_BC_IN_12_1_1</b>, <b>PPFD_BC_IN_13_1_1</b>, <b>PPFD_BC_IN_14_1_1</b>, <b>PPFD_BC_IN_15_1_1</b> and <b>PPFD_BC_IN_16_1_1</b> are from <b>ETC NRT Meteosens</b> of the station <b>Hohes Holz (DE-HoH)</b>"
      }
     },
     "578e85909a664e2db80b63c84efd5de2": {
      "model_module": "@jupyter-widgets/base",
      "model_module_version": "2.0.0",
      "model_name": "LayoutModel",
      "state": {
       "width": "160px"
      }
     },
     "57989d8908544a168c06def0a29a8ac7": {
      "model_module": "@jupyter-widgets/base",
      "model_module_version": "2.0.0",
      "model_name": "LayoutModel",
      "state": {
       "max_width": "auto",
       "min_width": "180px"
      }
     },
     "57c52777312e4227a126fef1bf8e6971": {
      "model_module": "@jupyter-widgets/base",
      "model_module_version": "2.0.0",
      "model_name": "LayoutModel",
      "state": {
       "width": "160px"
      }
     },
     "57f3246a43f947f18d4cb84bd2b391cd": {
      "model_module": "@jupyter-widgets/controls",
      "model_module_version": "2.0.0",
      "model_name": "HTMLStyleModel",
      "state": {
       "description_width": "",
       "font_size": null,
       "text_color": null
      }
     },
     "58cc88d8be1c4c6bbbd158461a772b95": {
      "model_module": "@jupyter-widgets/base",
      "model_module_version": "2.0.0",
      "model_name": "LayoutModel",
      "state": {
       "width": "160px"
      }
     },
     "58d36691c8d34f02a28570808cd7fc4e": {
      "model_module": "@jupyter-widgets/base",
      "model_module_version": "2.0.0",
      "model_name": "LayoutModel",
      "state": {
       "width": "160px"
      }
     },
     "5a2a1b70c8fe4aabbf28de5e93e04f45": {
      "model_module": "@jupyter-widgets/controls",
      "model_module_version": "2.0.0",
      "model_name": "CheckboxStyleModel",
      "state": {
       "description_width": ""
      }
     },
     "5a2e8d8218bb44929cbd1c878ee72808": {
      "model_module": "@jupyter-widgets/controls",
      "model_module_version": "2.0.0",
      "model_name": "CheckboxModel",
      "state": {
       "description": "TS_11_7_1",
       "disabled": false,
       "indent": false,
       "layout": "IPY_MODEL_644ab3699a3e41819e114e649cbac6de",
       "style": "IPY_MODEL_94807d373c804dc182583a95d9bd236f",
       "value": false
      }
     },
     "5b1b2878e20f4d288c8f447c3b6f0184": {
      "model_module": "@jupyter-widgets/controls",
      "model_module_version": "2.0.0",
      "model_name": "CheckboxModel",
      "state": {
       "description": "RH_1_1_1",
       "disabled": false,
       "indent": false,
       "layout": "IPY_MODEL_f3a694d8369b438d8d0ef9d8bf3b65f5",
       "style": "IPY_MODEL_d825deea729f4282ab5410eba70f04f3",
       "value": false
      }
     },
     "5c2523d740fd40bb998d1e3a48cde45f": {
      "model_module": "@jupyter-widgets/controls",
      "model_module_version": "2.0.0",
      "model_name": "HTMLStyleModel",
      "state": {
       "description_width": "",
       "font_size": null,
       "text_color": null
      }
     },
     "5d71879e03244a0e8cf4fd408a17c6bf": {
      "model_module": "@jupyter-widgets/controls",
      "model_module_version": "2.0.0",
      "model_name": "CheckboxModel",
      "state": {
       "description": "SWC_11_1_1",
       "disabled": false,
       "indent": false,
       "layout": "IPY_MODEL_de269fb32ecf4865bca2569f2922f681",
       "style": "IPY_MODEL_38ecde5b2c64405f8fd30d21c3662f00",
       "value": false
      }
     },
     "5d891ba4ea7d4bbd8a2a3225e290c04d": {
      "model_module": "@jupyter-widgets/controls",
      "model_module_version": "2.0.0",
      "model_name": "CheckboxStyleModel",
      "state": {
       "description_width": ""
      }
     },
     "5d96f429ca2e462a992955b271d6df00": {
      "model_module": "@jupyter-widgets/base",
      "model_module_version": "2.0.0",
      "model_name": "LayoutModel",
      "state": {
       "width": "160px"
      }
     },
     "5da4868658c74e6a962c5e2d93880ea2": {
      "model_module": "@jupyter-widgets/controls",
      "model_module_version": "2.0.0",
      "model_name": "CheckboxModel",
      "state": {
       "description": "SWC_14_2_1",
       "disabled": false,
       "indent": false,
       "layout": "IPY_MODEL_eb1bfe0b5ab54def8654179447cd4546",
       "style": "IPY_MODEL_35eac20a818049eaa01c084f3a881139",
       "value": false
      }
     },
     "5e2b8f95a95f42d2abb56c4c6cd1473e": {
      "model_module": "@jupyter-widgets/base",
      "model_module_version": "2.0.0",
      "model_name": "LayoutModel",
      "state": {
       "width": "160px"
      }
     },
     "5e53e10fea2b44eb8cf99abee9fe9201": {
      "model_module": "@jupyter-widgets/controls",
      "model_module_version": "2.0.0",
      "model_name": "CheckboxStyleModel",
      "state": {
       "description_width": ""
      }
     },
     "5e6e726bd26e42ff985781d305ce16d2": {
      "model_module": "@jupyter-widgets/base",
      "model_module_version": "2.0.0",
      "model_name": "LayoutModel",
      "state": {
       "width": "160px"
      }
     },
     "5e6fbce1897f4c04820fdfd7eab5e25c": {
      "model_module": "@jupyter-widgets/controls",
      "model_module_version": "2.0.0",
      "model_name": "CheckboxModel",
      "state": {
       "description": "P_3_1_1",
       "disabled": false,
       "indent": false,
       "layout": "IPY_MODEL_6c23168eaccb4a08b8d212c2fd1abd9b",
       "style": "IPY_MODEL_9b220c3cd29a41d390c70ef5f55058df",
       "value": false
      }
     },
     "5e95419fb56d4783b01da701cb5181dd": {
      "model_module": "@jupyter-widgets/controls",
      "model_module_version": "2.0.0",
      "model_name": "CheckboxStyleModel",
      "state": {
       "description_width": ""
      }
     },
     "5ed47827384c4e1bb498e624b11f0176": {
      "model_module": "@jupyter-widgets/controls",
      "model_module_version": "2.0.0",
      "model_name": "CheckboxModel",
      "state": {
       "description": "PPFD_BC_IN_35_1_1",
       "disabled": false,
       "indent": false,
       "layout": "IPY_MODEL_557c6521233e40df9641ad99372ca566",
       "style": "IPY_MODEL_2c103ba0c9af48f48c0f5971909c1bad",
       "value": false
      }
     },
     "5f656b314d684373b5ac3492f115d00b": {
      "model_module": "@jupyter-widgets/base",
      "model_module_version": "2.0.0",
      "model_name": "LayoutModel",
      "state": {
       "width": "160px"
      }
     },
     "5fe4fb448283460a8a4a4440f4a56f54": {
      "model_module": "@jupyter-widgets/controls",
      "model_module_version": "2.0.0",
      "model_name": "CheckboxStyleModel",
      "state": {
       "description_width": ""
      }
     },
     "6067c7916b4d4268b31d5eae2d99914d": {
      "model_module": "@jupyter-widgets/controls",
      "model_module_version": "2.0.0",
      "model_name": "CheckboxStyleModel",
      "state": {
       "description_width": ""
      }
     },
     "60a5baf6906f4d8f977462e641875ab3": {
      "model_module": "@jupyter-widgets/controls",
      "model_module_version": "2.0.0",
      "model_name": "ButtonModel",
      "state": {
       "button_style": "danger",
       "description": "Delete",
       "disabled": true,
       "icon": "trash",
       "layout": "IPY_MODEL_0cf20be67ba149d9be145e015d6a6011",
       "style": "IPY_MODEL_299c64a4280c4f769d26fee61bb64f35",
       "tooltip": "Enabled in update mode..."
      }
     },
     "6222c66211364dcdb7e4c614c40a0f92": {
      "model_module": "@jupyter-widgets/controls",
      "model_module_version": "2.0.0",
      "model_name": "CheckboxModel",
      "state": {
       "description": "FC",
       "disabled": false,
       "indent": false,
       "layout": "IPY_MODEL_139cd8211b00487caf0127f15ef93567",
       "style": "IPY_MODEL_96f35ae4e1034b8eb5850f63bb8d2556",
       "value": false
      }
     },
     "6225820e165545d9a44888e7cb9c1b2b": {
      "model_module": "@jupyter-widgets/controls",
      "model_module_version": "2.0.0",
      "model_name": "ToggleButtonsStyleModel",
      "state": {
       "button_width": "100px",
       "description_width": ""
      }
     },
     "62fe04388f6147169c2dc7f29936f6d4": {
      "model_module": "@jupyter-widgets/base",
      "model_module_version": "2.0.0",
      "model_name": "LayoutModel",
      "state": {
       "width": "160px"
      }
     },
     "637e97708ccf45d7b89f0250053159eb": {
      "model_module": "@jupyter-widgets/controls",
      "model_module_version": "2.0.0",
      "model_name": "CheckboxModel",
      "state": {
       "description": "VPD_1_2_1",
       "disabled": false,
       "indent": false,
       "layout": "IPY_MODEL_c4de859095ab4988936ccb11cdcc8275",
       "style": "IPY_MODEL_db682ba10b4d478290c933f80f929f77",
       "value": false
      }
     },
     "644ab3699a3e41819e114e649cbac6de": {
      "model_module": "@jupyter-widgets/base",
      "model_module_version": "2.0.0",
      "model_name": "LayoutModel",
      "state": {
       "width": "160px"
      }
     },
     "6465cebec3094ee99838bdb255fd26b9": {
      "model_module": "@jupyter-widgets/controls",
      "model_module_version": "2.0.0",
      "model_name": "CheckboxStyleModel",
      "state": {
       "description_width": ""
      }
     },
     "64ad9a7ae42c49e8ab5dc4db9660fc09": {
      "model_module": "@jupyter-widgets/controls",
      "model_module_version": "2.0.0",
      "model_name": "ButtonStyleModel",
      "state": {
       "font_family": null,
       "font_size": null,
       "font_style": null,
       "font_variant": null,
       "font_weight": null,
       "text_color": null,
       "text_decoration": null
      }
     },
     "65046ef649604a2589de072ad8dcb3d8": {
      "model_module": "@jupyter-widgets/base",
      "model_module_version": "2.0.0",
      "model_name": "LayoutModel",
      "state": {
       "width": "160px"
      }
     },
     "657c770c680e4fc7bdfd90e0a7bd2a6a": {
      "model_module": "@jupyter-widgets/controls",
      "model_module_version": "2.0.0",
      "model_name": "CheckboxModel",
      "state": {
       "description": "TS_11_1_1",
       "disabled": false,
       "indent": false,
       "layout": "IPY_MODEL_9ec8a05a0c704ad7a48de485286f0797",
       "style": "IPY_MODEL_9a4e6f86794b45b1a01f83e08d629510",
       "value": false
      }
     },
     "65d31c92c4c340eb8ad6cc5965b2be5b": {
      "model_module": "@jupyter-widgets/controls",
      "model_module_version": "2.0.0",
      "model_name": "CheckboxStyleModel",
      "state": {
       "description_width": ""
      }
     },
     "665b0ea069d640cb9b7f87c47e2400ab": {
      "model_module": "@jupyter-widgets/controls",
      "model_module_version": "2.0.0",
      "model_name": "CheckboxStyleModel",
      "state": {
       "description_width": ""
      }
     },
     "66b3754a9dc24437a1825e27ff3d38f3": {
      "model_module": "@jupyter-widgets/controls",
      "model_module_version": "2.0.0",
      "model_name": "CheckboxStyleModel",
      "state": {
       "description_width": ""
      }
     },
     "671206bda2e146ce8baa8a62f0edc39f": {
      "model_module": "@jupyter-widgets/controls",
      "model_module_version": "2.0.0",
      "model_name": "ToggleButtonsModel",
      "state": {
       "_options_labels": [
        "Plot ",
        "Group menu ",
        "Batch jobs ",
        "Settings ",
        "Help ",
        "*Extract data "
       ],
       "button_style": "success",
       "icons": [
        "area-chart",
        "list",
        "table",
        "cog",
        "info-circle",
        "wrench"
       ],
       "index": 1,
       "layout": "IPY_MODEL_3af69956ed96439cb835c5324c2b3c64",
       "style": "IPY_MODEL_6225820e165545d9a44888e7cb9c1b2b",
       "tooltips": []
      }
     },
     "67a8ead977a64290841ecb26914d2d01": {
      "model_module": "@jupyter-widgets/controls",
      "model_module_version": "2.0.0",
      "model_name": "ButtonModel",
      "state": {
       "button_style": "success",
       "description": "Save",
       "disabled": true,
       "icon": "save",
       "layout": "IPY_MODEL_d25a3bed0fe64073997393be3a0efc49",
       "style": "IPY_MODEL_64ad9a7ae42c49e8ab5dc4db9660fc09",
       "tooltip": "Enabled in update mode..."
      }
     },
     "67bd111435764cfb9127d7693c757a08": {
      "model_module": "@jupyter-widgets/controls",
      "model_module_version": "2.0.0",
      "model_name": "CheckboxStyleModel",
      "state": {
       "description_width": ""
      }
     },
     "684fd36dfe8c4c3eb0bad446019be1ea": {
      "model_module": "@jupyter-widgets/controls",
      "model_module_version": "2.0.0",
      "model_name": "CheckboxStyleModel",
      "state": {
       "description_width": ""
      }
     },
     "687bada695de415d8f8c90b1877c9fe6": {
      "model_module": "@jupyter-widgets/controls",
      "model_module_version": "2.0.0",
      "model_name": "CheckboxModel",
      "state": {
       "description": "TS_13_5_1",
       "disabled": false,
       "indent": false,
       "layout": "IPY_MODEL_c9edf086326e4a8e8869523b089fbd03",
       "style": "IPY_MODEL_c4f08683d13e45ebaa8e3eeb2e5d6fbd",
       "value": false
      }
     },
     "68b07650dec342d989bca4a58128553a": {
      "model_module": "@jupyter-widgets/base",
      "model_module_version": "2.0.0",
      "model_name": "LayoutModel",
      "state": {
       "width": "160px"
      }
     },
     "68d230794a5945adada6c695c5f6d7b2": {
      "model_module": "@jupyter-widgets/base",
      "model_module_version": "2.0.0",
      "model_name": "LayoutModel",
      "state": {
       "height": "40px",
       "width": "auto"
      }
     },
     "69158c248ece42128154fa86f15a1ca6": {
      "model_module": "@jupyter-widgets/controls",
      "model_module_version": "2.0.0",
      "model_name": "CheckboxModel",
      "state": {
       "description": "ZL",
       "disabled": false,
       "indent": false,
       "layout": "IPY_MODEL_74c48319db2e479b8183ffcd7abae2d6",
       "style": "IPY_MODEL_3f5a6a7f31d542619efe4b878b4f1a62",
       "value": true
      }
     },
     "69a15446f5e249d580ae95e8b013f94c": {
      "model_module": "@jupyter-widgets/base",
      "model_module_version": "2.0.0",
      "model_name": "LayoutModel",
      "state": {
       "height": "28px",
       "width": "20%"
      }
     },
     "69bee52a475e49b2932774f9a9e6527c": {
      "model_module": "@jupyter-widgets/controls",
      "model_module_version": "2.0.0",
      "model_name": "CheckboxStyleModel",
      "state": {
       "description_width": ""
      }
     },
     "6a117ce2684641a0a220337defb89756": {
      "model_module": "@jupyter-widgets/controls",
      "model_module_version": "2.0.0",
      "model_name": "CheckboxModel",
      "state": {
       "description": "TA_1_1_1",
       "disabled": false,
       "indent": false,
       "layout": "IPY_MODEL_1feff34719814d158fcb564ecf829fa9",
       "style": "IPY_MODEL_ea20da79bf794a13956f2da3ba140115",
       "value": false
      }
     },
     "6a60e82c0af8400a93977839835482c1": {
      "model_module": "@jupyter-widgets/controls",
      "model_module_version": "2.0.0",
      "model_name": "CheckboxModel",
      "state": {
       "description": "TS_11_6_1",
       "disabled": false,
       "indent": false,
       "layout": "IPY_MODEL_448b1617e86f49709f808f041fa03d6f",
       "style": "IPY_MODEL_42a97da5673f46dabec8b64c52ad0d0b",
       "value": false
      }
     },
     "6b2dbfc756c84f39bbdbff97dac46f51": {
      "model_module": "@jupyter-widgets/controls",
      "model_module_version": "2.0.0",
      "model_name": "TextStyleModel",
      "state": {
       "description_width": "",
       "font_size": null,
       "text_color": "darkgreen"
      }
     },
     "6b5b388cd7f2459ead4b68a91ea056de": {
      "model_module": "@jupyter-widgets/controls",
      "model_module_version": "2.0.0",
      "model_name": "CheckboxStyleModel",
      "state": {
       "description_width": ""
      }
     },
     "6be029c3f2c146029f0006e3cc7bf286": {
      "model_module": "@jupyter-widgets/base",
      "model_module_version": "2.0.0",
      "model_name": "LayoutModel",
      "state": {
       "width": "160px"
      }
     },
     "6c1e454c542241ffae256b9bd8a58555": {
      "model_module": "@jupyter-widgets/controls",
      "model_module_version": "2.0.0",
      "model_name": "CheckboxModel",
      "state": {
       "description": "PPFD_BC_IN_41_1_1",
       "disabled": false,
       "indent": false,
       "layout": "IPY_MODEL_2d5cd3cd25234094b4de0e438ccd6e58",
       "style": "IPY_MODEL_2a6b365714c9448a98f2e6a719201c50",
       "value": false
      }
     },
     "6c23168eaccb4a08b8d212c2fd1abd9b": {
      "model_module": "@jupyter-widgets/base",
      "model_module_version": "2.0.0",
      "model_name": "LayoutModel",
      "state": {
       "width": "160px"
      }
     },
     "6c5309bb069a4024afacd4be71f195da": {
      "model_module": "@jupyter-widgets/base",
      "model_module_version": "2.0.0",
      "model_name": "LayoutModel",
      "state": {
       "width": "160px"
      }
     },
     "6c533a4af1fd458e9682f29bf3917096": {
      "model_module": "@jupyter-widgets/controls",
      "model_module_version": "2.0.0",
      "model_name": "CheckboxStyleModel",
      "state": {
       "description_width": ""
      }
     },
     "6c7402d17cd846ed9a589f3975cad050": {
      "model_module": "@jupyter-widgets/controls",
      "model_module_version": "2.0.0",
      "model_name": "CheckboxStyleModel",
      "state": {
       "description_width": ""
      }
     },
     "6d8d6cb5512d479c878f1808645211c4": {
      "model_module": "@jupyter-widgets/controls",
      "model_module_version": "2.0.0",
      "model_name": "CheckboxStyleModel",
      "state": {
       "description_width": ""
      }
     },
     "6df443e56e804b6d92f41f6281a7c174": {
      "model_module": "@jupyter-widgets/controls",
      "model_module_version": "2.0.0",
      "model_name": "VBoxModel",
      "state": {
       "children": [
        "IPY_MODEL_671206bda2e146ce8baa8a62f0edc39f",
        "IPY_MODEL_96a6c4d68d1446d381509a2f8da80ac9"
       ],
       "layout": "IPY_MODEL_aead8a9f83914fd0869e9281eabde592"
      }
     },
     "6e7e6f3ccbb24b309451d0adc93aca18": {
      "model_module": "@jupyter-widgets/base",
      "model_module_version": "2.0.0",
      "model_name": "LayoutModel",
      "state": {
       "max_width": "auto",
       "min_width": "100px"
      }
     },
     "6e974ab0614b45d391b791f0a57e694e": {
      "model_module": "@jupyter-widgets/controls",
      "model_module_version": "2.0.0",
      "model_name": "CheckboxStyleModel",
      "state": {
       "description_width": ""
      }
     },
     "6eb918a89161419fbe7883b4efc06b53": {
      "model_module": "@jupyter-widgets/base",
      "model_module_version": "2.0.0",
      "model_name": "LayoutModel",
      "state": {
       "width": "160px"
      }
     },
     "6ee1bd9a70744b6590cc9db75c17a6b7": {
      "model_module": "@jupyter-widgets/controls",
      "model_module_version": "2.0.0",
      "model_name": "CheckboxStyleModel",
      "state": {
       "description_width": ""
      }
     },
     "6f4aa51c4833438bb2b2e12362b6b957": {
      "model_module": "@jupyter-widgets/base",
      "model_module_version": "2.0.0",
      "model_name": "LayoutModel",
      "state": {
       "width": "160px"
      }
     },
     "707532fe8525479e9992d591b89cdf8a": {
      "model_module": "@jupyter-widgets/controls",
      "model_module_version": "2.0.0",
      "model_name": "HTMLModel",
      "state": {
       "layout": "IPY_MODEL_007d200886ad4cff9c8cb43115d9473a",
       "style": "IPY_MODEL_5c2523d740fd40bb998d1e3a48cde45f",
       "value": "<b><i>ICOS Stations: </i></b>"
      }
     },
     "718d7d839dbd49a088d7020264bf858e": {
      "model_module": "@jupyter-widgets/controls",
      "model_module_version": "2.0.0",
      "model_name": "VBoxModel",
      "state": {
       "children": [
        "IPY_MODEL_41d2242f2c95457e985da3f1d328339b",
        "IPY_MODEL_3334626284264c4ea2095b0ca7e65d53"
       ],
       "layout": "IPY_MODEL_36473d050c2a4b1ba0c084bca4a3b726"
      }
     },
     "718f2a87032241a392a41ed6c4b4cb66": {
      "model_module": "@jupyter-widgets/controls",
      "model_module_version": "2.0.0",
      "model_name": "CheckboxModel",
      "state": {
       "description": "TS_14_4_1",
       "disabled": false,
       "indent": false,
       "layout": "IPY_MODEL_bc49efc6c2bc497d9db2fa411dd7f11c",
       "style": "IPY_MODEL_82a74b2e944944e2924c23ec80238c13",
       "value": false
      }
     },
     "71a6f460ed0e47cc9c9db2fe9255141e": {
      "model_module": "@jupyter-widgets/base",
      "model_module_version": "2.0.0",
      "model_name": "LayoutModel",
      "state": {
       "width": "160px"
      }
     },
     "71b482a6cc1f40d1bd9305af030054a5": {
      "model_module": "@jupyter-widgets/controls",
      "model_module_version": "2.0.0",
      "model_name": "CheckboxStyleModel",
      "state": {
       "description_width": ""
      }
     },
     "7249cb65c2344553a7faadaf4259f8c2": {
      "model_module": "@jupyter-widgets/controls",
      "model_module_version": "2.0.0",
      "model_name": "CheckboxStyleModel",
      "state": {
       "description_width": ""
      }
     },
     "7291eb5f680f4a6588b8a6d057651e48": {
      "model_module": "@jupyter-widgets/controls",
      "model_module_version": "2.0.0",
      "model_name": "CheckboxModel",
      "state": {
       "description": "SWC_13_5_1",
       "disabled": false,
       "indent": false,
       "layout": "IPY_MODEL_436921d6c96b491f9561b00972c72264",
       "style": "IPY_MODEL_405015cd54a148dab4f71011ccc091ca",
       "value": false
      }
     },
     "72dc2319080a4d39b18ad75fe0a611e4": {
      "model_module": "@jupyter-widgets/controls",
      "model_module_version": "2.0.0",
      "model_name": "CheckboxModel",
      "state": {
       "description": "SWC_12_6_1",
       "disabled": false,
       "indent": false,
       "layout": "IPY_MODEL_784ca0cf7c51478582a2339dcfb7a5a8",
       "style": "IPY_MODEL_34946b6c7e8f45cb8a503dec612381ef",
       "value": false
      }
     },
     "736343bcb8fe4a85b5e94318dbc07b3b": {
      "model_module": "@jupyter-widgets/base",
      "model_module_version": "2.0.0",
      "model_name": "LayoutModel",
      "state": {
       "width": "160px"
      }
     },
     "73d201c7883343df80fde1b12f6ee45a": {
      "model_module": "@jupyter-widgets/controls",
      "model_module_version": "2.0.0",
      "model_name": "CheckboxModel",
      "state": {
       "description": "LW_OUT_1_1_1",
       "disabled": false,
       "indent": false,
       "layout": "IPY_MODEL_d08d3a5c2c594cb19c5ab6b3faad0118",
       "style": "IPY_MODEL_bd3145feded0421db341c8bfb6a8941a",
       "value": true
      }
     },
     "7413994c994e43baad1091bbf8bc6afd": {
      "model_module": "@jupyter-widgets/controls",
      "model_module_version": "2.0.0",
      "model_name": "CheckboxModel",
      "state": {
       "description": "VPD_2_1_1",
       "disabled": false,
       "indent": false,
       "layout": "IPY_MODEL_77660fc5a0aa477a984638e7d708338e",
       "style": "IPY_MODEL_93ff8367efa94872924445660e49fea8",
       "value": false
      }
     },
     "742fbe01c5424cdfb17d420049c3840f": {
      "model_module": "@jupyter-widgets/base",
      "model_module_version": "2.0.0",
      "model_name": "LayoutModel",
      "state": {
       "width": "160px"
      }
     },
     "74c48319db2e479b8183ffcd7abae2d6": {
      "model_module": "@jupyter-widgets/base",
      "model_module_version": "2.0.0",
      "model_name": "LayoutModel",
      "state": {
       "width": "160px"
      }
     },
     "74d0e04b3b144979a266be76b0e3e33b": {
      "model_module": "@jupyter-widgets/controls",
      "model_module_version": "2.0.0",
      "model_name": "CheckboxModel",
      "state": {
       "description": "LE",
       "disabled": false,
       "indent": false,
       "layout": "IPY_MODEL_4cb8391fc52747d6a2cddccad858be36",
       "style": "IPY_MODEL_781b54eb56db4586b6d9522a09ac4983",
       "value": false
      }
     },
     "75264f2191d54f53ae6f3db876241196": {
      "model_module": "@jupyter-widgets/controls",
      "model_module_version": "2.0.0",
      "model_name": "HTMLModel",
      "state": {
       "layout": "IPY_MODEL_b0bfb6af81644754ab924b20daabba30",
       "style": "IPY_MODEL_39b8a45b1eef438ab35e48297bdb2ec2",
       "value": "<b><i>Available groups: </i></b>"
      }
     },
     "756cb4c8c0214049a66ea1dbc918289b": {
      "model_module": "@jupyter-widgets/controls",
      "model_module_version": "2.0.0",
      "model_name": "CheckboxModel",
      "state": {
       "description": "PPFD_BC_IN_16_1_1",
       "disabled": false,
       "indent": false,
       "layout": "IPY_MODEL_90055625945b43e58b40e8995dfd4acf",
       "style": "IPY_MODEL_128564fa035946bf8abda75ff19cfbdc",
       "value": true
      }
     },
     "75e27fc99448449ab04188df3056d777": {
      "model_module": "@jupyter-widgets/controls",
      "model_module_version": "2.0.0",
      "model_name": "CheckboxStyleModel",
      "state": {
       "description_width": ""
      }
     },
     "7692cc12a51e4f9297ad2a31b86d6faf": {
      "model_module": "@jupyter-widgets/controls",
      "model_module_version": "2.0.0",
      "model_name": "VBoxModel",
      "state": {
       "children": [
        "IPY_MODEL_cb3f5de97ecb4be88d7a0cb4a9e37465",
        "IPY_MODEL_f0206cd1dafd4d63b4bacccbe2c0337e"
       ],
       "layout": "IPY_MODEL_c47b157cd7814914b2b5fcf3079140c0"
      }
     },
     "7764376a77134e3f8d536bda671e77f6": {
      "model_module": "@jupyter-widgets/base",
      "model_module_version": "2.0.0",
      "model_name": "LayoutModel",
      "state": {
       "width": "160px"
      }
     },
     "77660fc5a0aa477a984638e7d708338e": {
      "model_module": "@jupyter-widgets/base",
      "model_module_version": "2.0.0",
      "model_name": "LayoutModel",
      "state": {
       "width": "160px"
      }
     },
     "77a93b955d024448a3da7e52505b6bfb": {
      "model_module": "@jupyter-widgets/controls",
      "model_module_version": "2.0.0",
      "model_name": "CheckboxModel",
      "state": {
       "description": "SWC_12_4_1",
       "disabled": false,
       "indent": false,
       "layout": "IPY_MODEL_250720bdf80b491d85a577cf98c3b54d",
       "style": "IPY_MODEL_77f1e9e5ee4342f49687b0b14ecfa0b2",
       "value": false
      }
     },
     "77cc3cace2c040d5bc4faff949f92be2": {
      "model_module": "@jupyter-widgets/controls",
      "model_module_version": "2.0.0",
      "model_name": "CheckboxModel",
      "state": {
       "description": "NEE",
       "disabled": false,
       "indent": false,
       "layout": "IPY_MODEL_7764376a77134e3f8d536bda671e77f6",
       "style": "IPY_MODEL_318d5e9655d94c2da7611e0bb7ef3970",
       "value": false
      }
     },
     "77f1e9e5ee4342f49687b0b14ecfa0b2": {
      "model_module": "@jupyter-widgets/controls",
      "model_module_version": "2.0.0",
      "model_name": "CheckboxStyleModel",
      "state": {
       "description_width": ""
      }
     },
     "7803b340aa8c46ffa619f1778a29ad90": {
      "model_module": "@jupyter-widgets/controls",
      "model_module_version": "2.0.0",
      "model_name": "CheckboxStyleModel",
      "state": {
       "description_width": ""
      }
     },
     "781b54eb56db4586b6d9522a09ac4983": {
      "model_module": "@jupyter-widgets/controls",
      "model_module_version": "2.0.0",
      "model_name": "CheckboxStyleModel",
      "state": {
       "description_width": ""
      }
     },
     "78238681a1ea4320beda8d12cb8e7da5": {
      "model_module": "@jupyter-widgets/controls",
      "model_module_version": "2.0.0",
      "model_name": "CheckboxStyleModel",
      "state": {
       "description_width": ""
      }
     },
     "784ca0cf7c51478582a2339dcfb7a5a8": {
      "model_module": "@jupyter-widgets/base",
      "model_module_version": "2.0.0",
      "model_name": "LayoutModel",
      "state": {
       "width": "160px"
      }
     },
     "788429608590412b8800b4fd66dc5fb5": {
      "model_module": "@jupyter-widgets/controls",
      "model_module_version": "2.0.0",
      "model_name": "CheckboxModel",
      "state": {
       "description": "SW_OUT_1_1_1",
       "disabled": false,
       "indent": false,
       "layout": "IPY_MODEL_0525445648fb43b7ac037b2844a656ff",
       "style": "IPY_MODEL_43554f5f4ae7416982145e638c77250c",
       "value": false
      }
     },
     "78dfd0ef9dd74075ab1056ef658f100b": {
      "model_module": "@jupyter-widgets/controls",
      "model_module_version": "2.0.0",
      "model_name": "CheckboxModel",
      "state": {
       "description": "PPFD_BC_IN_29_1_1",
       "disabled": false,
       "indent": false,
       "layout": "IPY_MODEL_e08338c536474fd3ba6a6e6e95bf7ef3",
       "style": "IPY_MODEL_52d9eb0c0e424c89a8ed8083618266b3",
       "value": false
      }
     },
     "79222aff5ef84644b59a837097c74819": {
      "model_module": "@jupyter-widgets/controls",
      "model_module_version": "2.0.0",
      "model_name": "CheckboxModel",
      "state": {
       "description": "SWC_11_3_1",
       "disabled": false,
       "indent": false,
       "layout": "IPY_MODEL_f841d2ce65e64a27b2c4f5361f7f9e9e",
       "style": "IPY_MODEL_2a5ef4b1a5384e509c9d2bce3c7099e5",
       "value": false
      }
     },
     "79b98c4d651d4bfbb37877af42de45f0": {
      "model_module": "@jupyter-widgets/controls",
      "model_module_version": "2.0.0",
      "model_name": "CheckboxStyleModel",
      "state": {
       "description_width": ""
      }
     },
     "79f40e3d8b3749c386a572f7ab93af9d": {
      "model_module": "@jupyter-widgets/base",
      "model_module_version": "2.0.0",
      "model_name": "LayoutModel",
      "state": {
       "width": "160px"
      }
     },
     "7a44bf13ca644ddd8d08ca7f88501bbc": {
      "model_module": "@jupyter-widgets/controls",
      "model_module_version": "2.0.0",
      "model_name": "CheckboxStyleModel",
      "state": {
       "description_width": ""
      }
     },
     "7a51c7b5164e44adb1a1c77b999ec2d7": {
      "model_module": "@jupyter-widgets/controls",
      "model_module_version": "2.0.0",
      "model_name": "CheckboxStyleModel",
      "state": {
       "description_width": ""
      }
     },
     "7ab8c25889414a7a98e6a388f656b19f": {
      "model_module": "@jupyter-widgets/controls",
      "model_module_version": "2.0.0",
      "model_name": "CheckboxModel",
      "state": {
       "description": "PPFD_BC_IN_18_1_1",
       "disabled": false,
       "indent": false,
       "layout": "IPY_MODEL_15fab026ade84e659854c5a4818d7500",
       "style": "IPY_MODEL_23526537d56045c79e10ef5e6dff60e6",
       "value": false
      }
     },
     "7b081b0202f0419994ccbfadcea8818a": {
      "model_module": "@jupyter-widgets/controls",
      "model_module_version": "2.0.0",
      "model_name": "CheckboxStyleModel",
      "state": {
       "description_width": ""
      }
     },
     "7b0b49a8ab744e689ab8cf737e26156e": {
      "model_module": "@jupyter-widgets/base",
      "model_module_version": "2.0.0",
      "model_name": "LayoutModel",
      "state": {
       "width": "160px"
      }
     },
     "7b60d39ac36c4d58b37449098e8d6581": {
      "model_module": "@jupyter-widgets/base",
      "model_module_version": "2.0.0",
      "model_name": "LayoutModel",
      "state": {
       "display": "none"
      }
     },
     "7c69498f634d4a77bb48ca14ad544e5b": {
      "model_module": "@jupyter-widgets/base",
      "model_module_version": "2.0.0",
      "model_name": "LayoutModel",
      "state": {}
     },
     "7ce9662d51c0421689ec25f64bc2a959": {
      "model_module": "@jupyter-widgets/controls",
      "model_module_version": "2.0.0",
      "model_name": "CheckboxStyleModel",
      "state": {
       "description_width": ""
      }
     },
     "7d822b8ba68046dd9952192b6ddb5322": {
      "model_module": "@jupyter-widgets/controls",
      "model_module_version": "2.0.0",
      "model_name": "CheckboxModel",
      "state": {
       "description": "SWC_11_5_1",
       "disabled": false,
       "indent": false,
       "layout": "IPY_MODEL_fafb3fb24c7c4cc8af7b16747c2dab1a",
       "style": "IPY_MODEL_ad31cadccb894e1aa43e876583ed595f",
       "value": false
      }
     },
     "7dde95e8ec60402e821e072536610b51": {
      "model_module": "@jupyter-widgets/controls",
      "model_module_version": "2.0.0",
      "model_name": "CheckboxModel",
      "state": {
       "description": "TS_14_2_1",
       "disabled": false,
       "indent": false,
       "layout": "IPY_MODEL_4c9bf9db277d434ca3cdc43c64bb215e",
       "style": "IPY_MODEL_1f238b9500ad4abd8194ced11da969bd",
       "value": false
      }
     },
     "7ebff05b57c34800bd04dec343d45cf0": {
      "model_module": "@jupyter-widgets/controls",
      "model_module_version": "2.0.0",
      "model_name": "CheckboxModel",
      "state": {
       "description": "RH_1_2_1",
       "disabled": false,
       "indent": false,
       "layout": "IPY_MODEL_952f9eb54fa042558658175467ee855e",
       "style": "IPY_MODEL_7ce9662d51c0421689ec25f64bc2a959",
       "value": false
      }
     },
     "7ef28f07dc2e4e0aaa8086e2959a5b1c": {
      "model_module": "@jupyter-widgets/base",
      "model_module_version": "2.0.0",
      "model_name": "LayoutModel",
      "state": {
       "max_width": "auto",
       "min_width": "40px"
      }
     },
     "7f2731c57f724c7e92846ec85ca1dc88": {
      "model_module": "@jupyter-widgets/controls",
      "model_module_version": "2.0.0",
      "model_name": "CheckboxModel",
      "state": {
       "description": "TS_12_5_1",
       "disabled": false,
       "indent": false,
       "layout": "IPY_MODEL_4d0b3d3773d84cec94ada716c18e22e8",
       "style": "IPY_MODEL_f3b9cc762cd34f9e9b217bdf55ada47b",
       "value": false
      }
     },
     "802b9999e24544208d0ee83aea8ba1ad": {
      "model_module": "@jupyter-widgets/controls",
      "model_module_version": "2.0.0",
      "model_name": "CheckboxModel",
      "state": {
       "description": "SWC_14_3_1",
       "disabled": false,
       "indent": false,
       "layout": "IPY_MODEL_1aed67810994456bb9072dab2ca2c208",
       "style": "IPY_MODEL_215d9d27a76a45c2a32f3955611495e1",
       "value": false
      }
     },
     "80963a4d63444e849ba385b4c630dab0": {
      "model_module": "@jupyter-widgets/controls",
      "model_module_version": "2.0.0",
      "model_name": "CheckboxModel",
      "state": {
       "description": "H_UNCLEANED",
       "disabled": false,
       "indent": false,
       "layout": "IPY_MODEL_1cb6573103c340528d02c888dc970a8e",
       "style": "IPY_MODEL_e641043ef28c4f4cb9f663e642183a89",
       "value": false
      }
     },
     "80d7ec00df8e4d888530bab0d975bc13": {
      "model_module": "@jupyter-widgets/controls",
      "model_module_version": "2.0.0",
      "model_name": "ButtonModel",
      "state": {
       "button_style": "info",
       "description": "Var. info",
       "disabled": true,
       "icon": "info-circle",
       "layout": "IPY_MODEL_469de047e9534d7da6433db4bc4f07a2",
       "style": "IPY_MODEL_cf67ed6258194bd9a59443072f7d254b",
       "tooltip": null
      }
     },
     "81be0f06a6cc413b919ee1e2c28631e2": {
      "model_module": "@jupyter-widgets/controls",
      "model_module_version": "2.0.0",
      "model_name": "ButtonModel",
      "state": {
       "button_style": "info",
       "description": "User guide",
       "disabled": true,
       "icon": "info-circle",
       "layout": "IPY_MODEL_e1fe9a4aa0c14ac6b77de9e67fc88444",
       "style": "IPY_MODEL_fa115f557522480bb2a27669de10dd20",
       "tooltip": null
      }
     },
     "81ccf095d19c462abe363d4279055ead": {
      "model_module": "@jupyter-widgets/base",
      "model_module_version": "2.0.0",
      "model_name": "LayoutModel",
      "state": {
       "width": "160px"
      }
     },
     "81dc406ad6aa456faa17165b2237110d": {
      "model_module": "@jupyter-widgets/controls",
      "model_module_version": "2.0.0",
      "model_name": "CheckboxStyleModel",
      "state": {
       "description_width": ""
      }
     },
     "8260a18427fa4ddba55a7d8d2403ba83": {
      "model_module": "@jupyter-widgets/base",
      "model_module_version": "2.0.0",
      "model_name": "LayoutModel",
      "state": {
       "width": "160px"
      }
     },
     "82a74b2e944944e2924c23ec80238c13": {
      "model_module": "@jupyter-widgets/controls",
      "model_module_version": "2.0.0",
      "model_name": "CheckboxStyleModel",
      "state": {
       "description_width": ""
      }
     },
     "835035f199e14adfa3dcd3892c1f5ada": {
      "model_module": "@jupyter-widgets/controls",
      "model_module_version": "2.0.0",
      "model_name": "CheckboxModel",
      "state": {
       "description": "PPFD_BC_IN_27_1_1",
       "disabled": false,
       "indent": false,
       "layout": "IPY_MODEL_4aa7edaa18d04e00bae4f84506e2ee00",
       "style": "IPY_MODEL_d1df9446f87445f6aa51175c98127d1a",
       "value": false
      }
     },
     "8367dc4b1a2b4439adcb2a830b5f494b": {
      "model_module": "@jupyter-widgets/controls",
      "model_module_version": "2.0.0",
      "model_name": "CheckboxStyleModel",
      "state": {
       "description_width": ""
      }
     },
     "837bd687b086499ea6086cf9a52dcbff": {
      "model_module": "@jupyter-widgets/controls",
      "model_module_version": "2.0.0",
      "model_name": "VBoxModel",
      "state": {
       "children": [
        "IPY_MODEL_707532fe8525479e9992d591b89cdf8a",
        "IPY_MODEL_9de491ce05674dcb9f3389f52dcc4b65"
       ],
       "layout": "IPY_MODEL_4195d911067e41b2957f4fa45a1cdf63"
      }
     },
     "83cbd8722b734fb09de1044608a88ab6": {
      "model_module": "@jupyter-widgets/base",
      "model_module_version": "2.0.0",
      "model_name": "LayoutModel",
      "state": {}
     },
     "8416af7e11b44c8da1cf7828c76d467c": {
      "model_module": "@jupyter-widgets/controls",
      "model_module_version": "2.0.0",
      "model_name": "HBoxModel",
      "state": {
       "children": [
        "IPY_MODEL_837bd687b086499ea6086cf9a52dcbff",
        "IPY_MODEL_cc1146e34a394b82ba77f53a14cb3140"
       ],
       "layout": "IPY_MODEL_7c69498f634d4a77bb48ca14ad544e5b"
      }
     },
     "845af1677cd947289c952a959f7ff927": {
      "model_module": "@jupyter-widgets/base",
      "model_module_version": "2.0.0",
      "model_name": "LayoutModel",
      "state": {
       "width": "160px"
      }
     },
     "85dc732d23714cd4950fa2d1d06df30e": {
      "model_module": "@jupyter-widgets/controls",
      "model_module_version": "2.0.0",
      "model_name": "ButtonStyleModel",
      "state": {
       "button_color": "LightSeaGreen",
       "font_family": null,
       "font_size": null,
       "font_style": null,
       "font_variant": null,
       "font_weight": null,
       "text_color": null,
       "text_decoration": null
      }
     },
     "8711d425e89e456d9d8c5130a5beeb11": {
      "model_module": "@jupyter-widgets/base",
      "model_module_version": "2.0.0",
      "model_name": "LayoutModel",
      "state": {
       "width": "160px"
      }
     },
     "8754362dc667435981d70e083731e257": {
      "model_module": "@jupyter-widgets/controls",
      "model_module_version": "2.0.0",
      "model_name": "HTMLStyleModel",
      "state": {
       "description_width": "",
       "font_size": null,
       "text_color": null
      }
     },
     "87edea18ebd2455cb8e02b0e7b80c08d": {
      "model_module": "@jupyter-widgets/controls",
      "model_module_version": "2.0.0",
      "model_name": "DropdownModel",
      "state": {
       "_options_labels": [
        "1",
        "2",
        "3",
        "4",
        "5",
        "6",
        "7",
        "8",
        "9",
        "10",
        "11",
        "12",
        "13",
        "14",
        "15",
        "16",
        "17",
        "18",
        "19",
        "20",
        "21",
        "22",
        "23",
        "24",
        "25",
        "26",
        "27",
        "28",
        "29",
        "30",
        "31",
        "32",
        "33",
        "34",
        "35",
        "36",
        "37",
        "38",
        "39",
        "40",
        "41",
        "42",
        "43",
        "44",
        "45",
        "46",
        "47",
        "48",
        "49",
        "50",
        "51",
        "52",
        "53",
        "54",
        "55",
        "56",
        "57",
        "58",
        "59",
        "60",
        "61",
        "62",
        "63",
        "64",
        "65",
        "66",
        "67",
        "68",
        "69",
        "70",
        "71",
        "72",
        "73",
        "74",
        "75",
        "76",
        "77",
        "78",
        "79",
        "80",
        "81",
        "82",
        "83",
        "84",
        "85",
        "86",
        "87",
        "88",
        "89",
        "90",
        "91",
        "92",
        "93",
        "94",
        "95",
        "96",
        "97",
        "98",
        "99"
       ],
       "description": "Max days",
       "index": 5,
       "layout": "IPY_MODEL_dee96a3507c248ea959c4cd2843d1537",
       "style": "IPY_MODEL_c548ecb279b94f1696fad38de4977759"
      }
     },
     "886ab5c4eb6f4e1f8c31932fd9ac1b45": {
      "model_module": "@jupyter-widgets/base",
      "model_module_version": "2.0.0",
      "model_name": "LayoutModel",
      "state": {
       "width": "25%"
      }
     },
     "88e1a82ded7a4da8ad988b74fe630bba": {
      "model_module": "@jupyter-widgets/controls",
      "model_module_version": "2.0.0",
      "model_name": "CheckboxModel",
      "state": {
       "description": "USTAR",
       "disabled": false,
       "indent": false,
       "layout": "IPY_MODEL_0aff91aaed8146c68b79f6bacc974bbe",
       "style": "IPY_MODEL_a8460019fa4342c3a1baa7a3be9b4bdc",
       "value": true
      }
     },
     "88f919bbb1e84bd98318a26023cef8d7": {
      "model_module": "@jupyter-widgets/base",
      "model_module_version": "2.0.0",
      "model_name": "LayoutModel",
      "state": {
       "width": "160px"
      }
     },
     "8963536596004661ab62972504084a6f": {
      "model_module": "@jupyter-widgets/controls",
      "model_module_version": "2.0.0",
      "model_name": "TextareaModel",
      "state": {
       "disabled": true,
       "layout": "IPY_MODEL_a9acc6dc1e654a98a16100ed07aaed5d",
       "style": "IPY_MODEL_3fca523e8928461bb03fe6d0af4a43e3"
      }
     },
     "8a2759a9426a443196017723f34792f3": {
      "model_module": "@jupyter-widgets/controls",
      "model_module_version": "2.0.0",
      "model_name": "CheckboxModel",
      "state": {
       "description": "PPFD_BC_IN_10_1_1",
       "disabled": false,
       "indent": false,
       "layout": "IPY_MODEL_a969bd4a4a4c489aa6bee5c42aba932f",
       "style": "IPY_MODEL_995c169b7653435593f5f430f7043be7",
       "value": true
      }
     },
     "8a6887288f354de9a4c62238be00ca96": {
      "model_module": "@jupyter-widgets/controls",
      "model_module_version": "2.0.0",
      "model_name": "CheckboxStyleModel",
      "state": {
       "description_width": ""
      }
     },
     "8c2104705fc84a2c887e9924b22b1a4e": {
      "model_module": "@jupyter-widgets/controls",
      "model_module_version": "2.0.0",
      "model_name": "CheckboxStyleModel",
      "state": {
       "description_width": ""
      }
     },
     "8c401628094f4dc1bac83892b17b4d89": {
      "model_module": "@jupyter-widgets/controls",
      "model_module_version": "2.0.0",
      "model_name": "CheckboxModel",
      "state": {
       "description": "PPFD_BC_IN_38_1_1",
       "disabled": false,
       "indent": false,
       "layout": "IPY_MODEL_c81c5c6bab994f55a9b6d0f0553b99f3",
       "style": "IPY_MODEL_ae7dd1632a8f446caede10f5ddce94be",
       "value": false
      }
     },
     "8d013c9b2cd54809ac7e3386161970f4": {
      "model_module": "@jupyter-widgets/controls",
      "model_module_version": "2.0.0",
      "model_name": "CheckboxModel",
      "state": {
       "description": "SWC_11_4_1",
       "disabled": false,
       "indent": false,
       "layout": "IPY_MODEL_3db73a2ce93e497a928703aec416f748",
       "style": "IPY_MODEL_5fe4fb448283460a8a4a4440f4a56f54",
       "value": false
      }
     },
     "8dac8b7be919449490fa95bbee9c3769": {
      "model_module": "@jupyter-widgets/controls",
      "model_module_version": "2.0.0",
      "model_name": "CheckboxStyleModel",
      "state": {
       "description_width": ""
      }
     },
     "8db33c2bcfa64f9294ed262c96390f79": {
      "model_module": "@jupyter-widgets/controls",
      "model_module_version": "2.0.0",
      "model_name": "CheckboxStyleModel",
      "state": {
       "description_width": ""
      }
     },
     "8e47f4574bdb40b8956911278fe08451": {
      "model_module": "@jupyter-widgets/controls",
      "model_module_version": "2.0.0",
      "model_name": "HTMLStyleModel",
      "state": {
       "description_width": "",
       "font_size": null,
       "text_color": null
      }
     },
     "8f29f4872d6645a98f0aaf70c0066688": {
      "model_module": "@jupyter-widgets/controls",
      "model_module_version": "2.0.0",
      "model_name": "CheckboxModel",
      "state": {
       "description": "PPFD_BC_IN_32_1_1",
       "disabled": false,
       "indent": false,
       "layout": "IPY_MODEL_0162bb454bd24008ae125e941a1e65af",
       "style": "IPY_MODEL_a3c1a42d48fb4b949d3dc4315b752281",
       "value": false
      }
     },
     "8fac15d5484f4d8092c48091c37ee57d": {
      "model_module": "@jupyter-widgets/base",
      "model_module_version": "2.0.0",
      "model_name": "LayoutModel",
      "state": {
       "width": "160px"
      }
     },
     "8fb1d3cfd0b442eaa211b09b61d9015b": {
      "model_module": "@jupyter-widgets/base",
      "model_module_version": "2.0.0",
      "model_name": "LayoutModel",
      "state": {}
     },
     "90055625945b43e58b40e8995dfd4acf": {
      "model_module": "@jupyter-widgets/base",
      "model_module_version": "2.0.0",
      "model_name": "LayoutModel",
      "state": {
       "width": "160px"
      }
     },
     "913f200cc0f746fe898706d3b0a811a0": {
      "model_module": "@jupyter-widgets/controls",
      "model_module_version": "2.0.0",
      "model_name": "CheckboxStyleModel",
      "state": {
       "description_width": ""
      }
     },
     "921dd8c1d85941ff8bc47099e5977a01": {
      "model_module": "@jupyter-widgets/controls",
      "model_module_version": "2.0.0",
      "model_name": "CheckboxModel",
      "state": {
       "description": "TA_1_3_1",
       "disabled": false,
       "indent": false,
       "layout": "IPY_MODEL_6eb918a89161419fbe7883b4efc06b53",
       "style": "IPY_MODEL_9342d96708ef4f608f57f7fdeca19cac",
       "value": false
      }
     },
     "92245fe7bfd4429885ecb3e8918598ae": {
      "model_module": "@jupyter-widgets/base",
      "model_module_version": "2.0.0",
      "model_name": "LayoutModel",
      "state": {
       "width": "160px"
      }
     },
     "9342d96708ef4f608f57f7fdeca19cac": {
      "model_module": "@jupyter-widgets/controls",
      "model_module_version": "2.0.0",
      "model_name": "CheckboxStyleModel",
      "state": {
       "description_width": ""
      }
     },
     "9355dd2b0bfe4fadacae7805044441f3": {
      "model_module": "@jupyter-widgets/controls",
      "model_module_version": "2.0.0",
      "model_name": "CheckboxStyleModel",
      "state": {
       "description_width": ""
      }
     },
     "937d8bba38154a03b64a6af81d105cad": {
      "model_module": "@jupyter-widgets/controls",
      "model_module_version": "2.0.0",
      "model_name": "CheckboxStyleModel",
      "state": {
       "description_width": ""
      }
     },
     "93d9f72b542840628a3d69e2884e536c": {
      "model_module": "@jupyter-widgets/controls",
      "model_module_version": "2.0.0",
      "model_name": "CheckboxStyleModel",
      "state": {
       "description_width": ""
      }
     },
     "93ff8367efa94872924445660e49fea8": {
      "model_module": "@jupyter-widgets/controls",
      "model_module_version": "2.0.0",
      "model_name": "CheckboxStyleModel",
      "state": {
       "description_width": ""
      }
     },
     "940147b8981c42e7a6caffd2fe0e2468": {
      "model_module": "@jupyter-widgets/controls",
      "model_module_version": "2.0.0",
      "model_name": "DropdownModel",
      "state": {
       "_options_labels": [
        "Meteo SWC",
        "NGEN 14 - Htm+Sor+Sto ",
        "3vars htm",
        "alöölkkkkkkkkkkölllölllköl jlk",
        "Group 1"
       ],
       "index": 4,
       "layout": "IPY_MODEL_68d230794a5945adada6c695c5f6d7b2",
       "style": "IPY_MODEL_27331bd22e3242db8b1de91a8b389f6a",
       "tooltip": "Group name"
      }
     },
     "94283457e7934dc8b64d330e0777b440": {
      "model_module": "@jupyter-widgets/base",
      "model_module_version": "2.0.0",
      "model_name": "LayoutModel",
      "state": {
       "width": "160px"
      }
     },
     "94807d373c804dc182583a95d9bd236f": {
      "model_module": "@jupyter-widgets/controls",
      "model_module_version": "2.0.0",
      "model_name": "CheckboxStyleModel",
      "state": {
       "description_width": ""
      }
     },
     "952f9eb54fa042558658175467ee855e": {
      "model_module": "@jupyter-widgets/base",
      "model_module_version": "2.0.0",
      "model_name": "LayoutModel",
      "state": {
       "width": "160px"
      }
     },
     "955b32ca487f4c9fb6dc9d573c9496bb": {
      "model_module": "@jupyter-widgets/controls",
      "model_module_version": "2.0.0",
      "model_name": "CheckboxStyleModel",
      "state": {
       "description_width": ""
      }
     },
     "956c128f4dbb482e92d727dade5142d6": {
      "model_module": "@jupyter-widgets/controls",
      "model_module_version": "2.0.0",
      "model_name": "CheckboxModel",
      "state": {
       "description": "PA_1_1_1",
       "disabled": false,
       "indent": false,
       "layout": "IPY_MODEL_478f66d22d0341b5a71ece75159be1f3",
       "style": "IPY_MODEL_665b0ea069d640cb9b7f87c47e2400ab",
       "value": true
      }
     },
     "961a9380310b401299b1451b3409eb10": {
      "model_module": "@jupyter-widgets/base",
      "model_module_version": "2.0.0",
      "model_name": "LayoutModel",
      "state": {
       "width": "160px"
      }
     },
     "969644b5d9ac463ba7bb3fb94c0818c5": {
      "model_module": "@jupyter-widgets/controls",
      "model_module_version": "2.0.0",
      "model_name": "DropdownModel",
      "state": {
       "_options_labels": [
        "1",
        "2",
        "3",
        "4",
        "5",
        "6",
        "7",
        "8",
        "9"
       ],
       "description": "Plot sliders",
       "index": 0,
       "layout": "IPY_MODEL_dee96a3507c248ea959c4cd2843d1537",
       "style": "IPY_MODEL_06e4ed7557854029b1cc6c8fb018c6e4"
      }
     },
     "96a6c4d68d1446d381509a2f8da80ac9": {
      "model_module": "@jupyter-widgets/output",
      "model_module_version": "1.0.0",
      "model_name": "OutputModel",
      "state": {
       "layout": "IPY_MODEL_d0ff5619001b41c7b7edc90c9e97b786",
       "outputs": [
        {
         "data": {
          "application/vnd.jupyter.widget-view+json": {
           "model_id": "718d7d839dbd49a088d7020264bf858e",
           "version_major": 2,
           "version_minor": 0
          },
          "text/plain": "VBox(children=(VBox(children=(HBox(children=(HBox(children=(HTML(value='<b><i>Available groups: </i></b>', lay…"
         },
         "metadata": {},
         "output_type": "display_data"
        }
       ]
      }
     },
     "96f35ae4e1034b8eb5850f63bb8d2556": {
      "model_module": "@jupyter-widgets/controls",
      "model_module_version": "2.0.0",
      "model_name": "CheckboxStyleModel",
      "state": {
       "description_width": ""
      }
     },
     "971b08aa83324d5a9e2b45e4d71a7a86": {
      "model_module": "@jupyter-widgets/base",
      "model_module_version": "2.0.0",
      "model_name": "LayoutModel",
      "state": {
       "width": "160px"
      }
     },
     "9750941f1ca94546b6e0087ce83b9434": {
      "model_module": "@jupyter-widgets/controls",
      "model_module_version": "2.0.0",
      "model_name": "CheckboxStyleModel",
      "state": {
       "description_width": ""
      }
     },
     "976c791251114dd7b7c65cb6ef2d04f5": {
      "model_module": "@jupyter-widgets/controls",
      "model_module_version": "2.0.0",
      "model_name": "CheckboxStyleModel",
      "state": {
       "description_width": ""
      }
     },
     "9797ef46590042ffbdb1aadd572ffd47": {
      "model_module": "@jupyter-widgets/controls",
      "model_module_version": "2.0.0",
      "model_name": "CheckboxStyleModel",
      "state": {
       "description_width": ""
      }
     },
     "97c46be56f1a43aeb24c6c9d0ff18bfc": {
      "model_module": "@jupyter-widgets/controls",
      "model_module_version": "2.0.0",
      "model_name": "CheckboxModel",
      "state": {
       "description": "PPFD_BC_IN_1_1_1",
       "disabled": false,
       "indent": false,
       "layout": "IPY_MODEL_a494e9ee73014868aec34f2c4f38de68",
       "style": "IPY_MODEL_3aa04b39a652441fb97d9aa0970dc606",
       "value": false
      }
     },
     "98448c657e744ba6870f1485e39bc31c": {
      "model_module": "@jupyter-widgets/base",
      "model_module_version": "2.0.0",
      "model_name": "LayoutModel",
      "state": {
       "width": "160px"
      }
     },
     "98c48c10af594eba96c6496105761536": {
      "model_module": "@jupyter-widgets/controls",
      "model_module_version": "2.0.0",
      "model_name": "HTMLModel",
      "state": {
       "layout": "IPY_MODEL_bb4b47518aa6466dbfc54f4b9c1ee08c",
       "style": "IPY_MODEL_57f3246a43f947f18d4cb84bd2b391cd",
       "value": "<b><font color=\"darkgreen\">Variables of ETC NRT Meteosens at DE-HoH</b>"
      }
     },
     "99271336e1334d98859ce25d279fc5b7": {
      "model_module": "@jupyter-widgets/controls",
      "model_module_version": "2.0.0",
      "model_name": "CheckboxModel",
      "state": {
       "description": "TAU",
       "disabled": false,
       "indent": false,
       "layout": "IPY_MODEL_e75b31e246a34660b0f847fee615de22",
       "style": "IPY_MODEL_393f6bb15cf14b998c77fc085f91613b",
       "value": true
      }
     },
     "995c169b7653435593f5f430f7043be7": {
      "model_module": "@jupyter-widgets/controls",
      "model_module_version": "2.0.0",
      "model_name": "CheckboxStyleModel",
      "state": {
       "description_width": ""
      }
     },
     "99776e843e71464191d75586011d10b6": {
      "model_module": "@jupyter-widgets/base",
      "model_module_version": "2.0.0",
      "model_name": "LayoutModel",
      "state": {
       "width": "160px"
      }
     },
     "997c6e63540e432ca18e026ce5fad27d": {
      "model_module": "@jupyter-widgets/controls",
      "model_module_version": "2.0.0",
      "model_name": "DescriptionStyleModel",
      "state": {
       "description_width": ""
      }
     },
     "9a4e6f86794b45b1a01f83e08d629510": {
      "model_module": "@jupyter-widgets/controls",
      "model_module_version": "2.0.0",
      "model_name": "CheckboxStyleModel",
      "state": {
       "description_width": ""
      }
     },
     "9a5979724ddb4d95afb2f856a7ee857f": {
      "model_module": "@jupyter-widgets/base",
      "model_module_version": "2.0.0",
      "model_name": "LayoutModel",
      "state": {
       "width": "160px"
      }
     },
     "9a734456492c469893d6c50bbe3397e7": {
      "model_module": "@jupyter-widgets/controls",
      "model_module_version": "2.0.0",
      "model_name": "DescriptionStyleModel",
      "state": {
       "description_width": ""
      }
     },
     "9b0a750c0ff04f339f96a29ccb6475af": {
      "model_module": "@jupyter-widgets/controls",
      "model_module_version": "2.0.0",
      "model_name": "CheckboxStyleModel",
      "state": {
       "description_width": ""
      }
     },
     "9b220c3cd29a41d390c70ef5f55058df": {
      "model_module": "@jupyter-widgets/controls",
      "model_module_version": "2.0.0",
      "model_name": "CheckboxStyleModel",
      "state": {
       "description_width": ""
      }
     },
     "9b3874bc8657424489bff455fdc9105f": {
      "model_module": "@jupyter-widgets/controls",
      "model_module_version": "2.0.0",
      "model_name": "CheckboxModel",
      "state": {
       "description": "G_13_1_1",
       "disabled": false,
       "indent": false,
       "layout": "IPY_MODEL_736343bcb8fe4a85b5e94318dbc07b3b",
       "style": "IPY_MODEL_f377be17394b45a685bdd06f5b894d45",
       "value": false
      }
     },
     "9b5cf4d5278a4947a733af9da61fe6f6": {
      "model_module": "@jupyter-widgets/controls",
      "model_module_version": "2.0.0",
      "model_name": "CheckboxStyleModel",
      "state": {
       "description_width": ""
      }
     },
     "9c0260babd204990842707d578b44bbc": {
      "model_module": "@jupyter-widgets/controls",
      "model_module_version": "2.0.0",
      "model_name": "CheckboxModel",
      "state": {
       "description": "PPFD_BC_IN_40_1_1",
       "disabled": false,
       "indent": false,
       "layout": "IPY_MODEL_4be07129eac14343933ddb676152429d",
       "style": "IPY_MODEL_ca934f23d56949ec9d84e2221d5e0b95",
       "value": false
      }
     },
     "9c1e4e7f5274470f870339cd37592b2a": {
      "model_module": "@jupyter-widgets/controls",
      "model_module_version": "2.0.0",
      "model_name": "CheckboxStyleModel",
      "state": {
       "description_width": ""
      }
     },
     "9d526c3ef1064686ac42ed8b2329c3fb": {
      "model_module": "@jupyter-widgets/controls",
      "model_module_version": "2.0.0",
      "model_name": "DropdownModel",
      "state": {
       "_options_labels": [
        "Meteo SWC",
        "NGEN 14 - Htm+Sor+Sto ",
        "3vars htm",
        "alöölkkkkkkkkkkölllölllköl jlk"
       ],
       "description": "Groups",
       "index": 3,
       "layout": "IPY_MODEL_dee96a3507c248ea959c4cd2843d1537",
       "style": "IPY_MODEL_9a734456492c469893d6c50bbe3397e7"
      }
     },
     "9d5cd18004ea4ca099cb3d3ba1e70937": {
      "model_module": "@jupyter-widgets/controls",
      "model_module_version": "2.0.0",
      "model_name": "ButtonModel",
      "state": {
       "description": "dsafksadlk",
       "layout": "IPY_MODEL_6e7e6f3ccbb24b309451d0adc93aca18",
       "style": "IPY_MODEL_ab765bf00f6b4cb29f02089b200f8ba8",
       "tooltip": null
      }
     },
     "9de10eb5c0294d7c9d490d8f8d8ad3bb": {
      "model_module": "@jupyter-widgets/controls",
      "model_module_version": "2.0.0",
      "model_name": "CheckboxStyleModel",
      "state": {
       "description_width": ""
      }
     },
     "9de491ce05674dcb9f3389f52dcc4b65": {
      "model_module": "@jupyter-widgets/controls",
      "model_module_version": "2.0.0",
      "model_name": "DropdownModel",
      "state": {
       "_options_labels": [
        "Abisko-Stordalen Palsa Bog (SE-Sto)",
        "Auchencorth Moss (UK-AMo)",
        "Bilos (FR-Bil)",
        "Bily Kriz forest (CZ-BK1)",
        "Borgo Cioffi (IT-BCi)",
        "Brasschaat (BE-Bra)",
        "Castelporziano2 (IT-Cp2)",
        "Davos (CH-Dav)",
        "Degero (SE-Deg)",
        "Dorinne (BE-Dor)",
        "Font-Blanche (FR-FBn)",
        "Fontainebleau-Barbeau (FR-Fon)",
        "Gebesee (DE-Geb)",
        "Grignon (FR-Gri)",
        "Hesse (FR-Hes)",
        "Hohes Holz (DE-HoH)",
        "Hyltemossa (SE-Htm)",
        "Hyytiala (FI-Hyy)",
        "Lamasquere (FR-Lam)",
        "Lanzhot (CZ-Lnz)",
        "Laqueuille (FR-Lqu)",
        "Lonzee (BE-Lon)",
        "Loobos (NL-Loo)",
        "Lusignan (FR-Lus)",
        "Maasmechelen (BE-Maa)",
        "Monte Bondone (IT-MBo)",
        "Norunda (SE-Nor)",
        "Puechabon (FR-Pue)",
        "Renon (IT-Ren)",
        "San Rossore 2 (IT-SR2)",
        "Selhausen Juelich (DE-RuS)",
        "Siikaneva (FI-Sii)",
        "Sodankyla (FI-Sod)",
        "Soroe (DK-Sor)",
        "Svartberget (SE-Svb)",
        "Tharandt (DE-Tha)",
        "Vielsalm (BE-Vie)",
        "Voulundgaard (DK-Vng)"
       ],
       "index": 15,
       "layout": "IPY_MODEL_485a9a50b6e04c39ae9d1e69abbbabf3",
       "style": "IPY_MODEL_1fd0bc06daeb47199ea61f3312056962",
       "tooltip": "ICOS Station"
      }
     },
     "9e8ae8f5ed9646d28aa5ce1c777f3524": {
      "model_module": "@jupyter-widgets/base",
      "model_module_version": "2.0.0",
      "model_name": "LayoutModel",
      "state": {
       "width": "160px"
      }
     },
     "9ec8a05a0c704ad7a48de485286f0797": {
      "model_module": "@jupyter-widgets/base",
      "model_module_version": "2.0.0",
      "model_name": "LayoutModel",
      "state": {
       "width": "160px"
      }
     },
     "9f2697e395e9446eaba2cc1ff0cd4dea": {
      "model_module": "@jupyter-widgets/base",
      "model_module_version": "2.0.0",
      "model_name": "LayoutModel",
      "state": {
       "width": "100px"
      }
     },
     "9f6c5661b43a4c71a00e0d1f79199f77": {
      "model_module": "@jupyter-widgets/controls",
      "model_module_version": "2.0.0",
      "model_name": "CheckboxModel",
      "state": {
       "description": "SWC_12_5_1",
       "disabled": false,
       "indent": false,
       "layout": "IPY_MODEL_3cc0f172d187459886de8badad6a03b3",
       "style": "IPY_MODEL_ba4ceda8f6e14996bd55b1ed212bceae",
       "value": false
      }
     },
     "9febbc770d154c3c85ebb52fa237c325": {
      "model_module": "@jupyter-widgets/base",
      "model_module_version": "2.0.0",
      "model_name": "LayoutModel",
      "state": {
       "height": "auto",
       "max_width": "90%",
       "width": "100%"
      }
     },
     "a0bc38b10c7f42d68d32a8ddd2474b20": {
      "model_module": "@jupyter-widgets/base",
      "model_module_version": "2.0.0",
      "model_name": "LayoutModel",
      "state": {
       "width": "160px"
      }
     },
     "a0f065b15fc94c7db5dcb7e209b59b61": {
      "model_module": "@jupyter-widgets/controls",
      "model_module_version": "2.0.0",
      "model_name": "CheckboxStyleModel",
      "state": {
       "description_width": ""
      }
     },
     "a1dc8896a09b4c55bb3a74f5ed757690": {
      "model_module": "@jupyter-widgets/base",
      "model_module_version": "2.0.0",
      "model_name": "LayoutModel",
      "state": {
       "display": "none",
       "height": "auto",
       "min_width": "45%",
       "width": "auto"
      }
     },
     "a2daac103ab54a4b98ad567e515fd39c": {
      "model_module": "@jupyter-widgets/base",
      "model_module_version": "2.0.0",
      "model_name": "LayoutModel",
      "state": {
       "width": "160px"
      }
     },
     "a313c24eb28a41eaa6abfaaecbdd7c86": {
      "model_module": "@jupyter-widgets/base",
      "model_module_version": "2.0.0",
      "model_name": "LayoutModel",
      "state": {
       "width": "auto"
      }
     },
     "a32f10d6f32a43b8b664667b150c43f0": {
      "model_module": "@jupyter-widgets/controls",
      "model_module_version": "2.0.0",
      "model_name": "CheckboxStyleModel",
      "state": {
       "description_width": ""
      }
     },
     "a3554ab0b24f482383160d12cf27a864": {
      "model_module": "@jupyter-widgets/controls",
      "model_module_version": "2.0.0",
      "model_name": "CheckboxModel",
      "state": {
       "description": "PPFD_BC_IN_30_1_1",
       "disabled": false,
       "indent": false,
       "layout": "IPY_MODEL_eb3a21afba084ffc84b52c389464aa41",
       "style": "IPY_MODEL_5a2a1b70c8fe4aabbf28de5e93e04f45",
       "value": false
      }
     },
     "a373630117f64c5fa80b3b6a09fb818f": {
      "model_module": "@jupyter-widgets/controls",
      "model_module_version": "2.0.0",
      "model_name": "HBoxModel",
      "state": {
       "children": [
        "IPY_MODEL_fadcf4978f0b4d14bde18ee3d6d853b2",
        "IPY_MODEL_3a0705feab9c4db18ae29a63404595d3"
       ],
       "layout": "IPY_MODEL_83cbd8722b734fb09de1044608a88ab6"
      }
     },
     "a3c1a42d48fb4b949d3dc4315b752281": {
      "model_module": "@jupyter-widgets/controls",
      "model_module_version": "2.0.0",
      "model_name": "CheckboxStyleModel",
      "state": {
       "description_width": ""
      }
     },
     "a44a9ae9fd7d4a3fa5ec430c53482119": {
      "model_module": "@jupyter-widgets/controls",
      "model_module_version": "2.0.0",
      "model_name": "CheckboxModel",
      "state": {
       "description": "PPFD_BC_IN_33_1_1",
       "disabled": false,
       "indent": false,
       "layout": "IPY_MODEL_b7b6667cee97429b8fa961d0b90efc4e",
       "style": "IPY_MODEL_937d8bba38154a03b64a6af81d105cad",
       "value": false
      }
     },
     "a48ca060cf4245298b4d3a86d11b68be": {
      "model_module": "@jupyter-widgets/base",
      "model_module_version": "2.0.0",
      "model_name": "LayoutModel",
      "state": {
       "width": "160px"
      }
     },
     "a494e9ee73014868aec34f2c4f38de68": {
      "model_module": "@jupyter-widgets/base",
      "model_module_version": "2.0.0",
      "model_name": "LayoutModel",
      "state": {
       "width": "160px"
      }
     },
     "a4e6350462d9447e85742f5cddf56d53": {
      "model_module": "@jupyter-widgets/controls",
      "model_module_version": "2.0.0",
      "model_name": "CheckboxModel",
      "state": {
       "description": "TA_1_6_1",
       "disabled": false,
       "indent": false,
       "layout": "IPY_MODEL_e77a7492c9844895b88ebed8dc54b361",
       "style": "IPY_MODEL_e1d6e79833bc4f1992f41c0c429db9e0",
       "value": false
      }
     },
     "a550261a4b9a4df9b1c8125354a8df28": {
      "model_module": "@jupyter-widgets/base",
      "model_module_version": "2.0.0",
      "model_name": "LayoutModel",
      "state": {
       "height": "auto",
       "width": "90%"
      }
     },
     "a60dcdd1d98a46ec8bbf39181a0120d3": {
      "model_module": "@jupyter-widgets/base",
      "model_module_version": "2.0.0",
      "model_name": "LayoutModel",
      "state": {
       "width": "160px"
      }
     },
     "a650acf7ff4b4e09b1dbb552ca302956": {
      "model_module": "@jupyter-widgets/controls",
      "model_module_version": "2.0.0",
      "model_name": "CheckboxModel",
      "state": {
       "description": "TA_1_12_1",
       "disabled": false,
       "indent": false,
       "layout": "IPY_MODEL_8711d425e89e456d9d8c5130a5beeb11",
       "style": "IPY_MODEL_acf38bd110cc4209b946225b2738ed1e",
       "value": false
      }
     },
     "a70788b5a61242498523a81f635b83a9": {
      "model_module": "@jupyter-widgets/base",
      "model_module_version": "2.0.0",
      "model_name": "LayoutModel",
      "state": {
       "width": "160px"
      }
     },
     "a734364d1255404eb7ce6322a9ad2a9c": {
      "model_module": "@jupyter-widgets/controls",
      "model_module_version": "2.0.0",
      "model_name": "CheckboxModel",
      "state": {
       "description": "PPFD_BC_IN_42_1_1",
       "disabled": false,
       "indent": false,
       "layout": "IPY_MODEL_a70788b5a61242498523a81f635b83a9",
       "style": "IPY_MODEL_d5791d0c8d2b438e895089921bcdcc08",
       "value": false
      }
     },
     "a8460019fa4342c3a1baa7a3be9b4bdc": {
      "model_module": "@jupyter-widgets/controls",
      "model_module_version": "2.0.0",
      "model_name": "CheckboxStyleModel",
      "state": {
       "description_width": ""
      }
     },
     "a90afe0c77664b1eb6b4f5d831a8e0d6": {
      "model_module": "@jupyter-widgets/base",
      "model_module_version": "2.0.0",
      "model_name": "LayoutModel",
      "state": {}
     },
     "a969bd4a4a4c489aa6bee5c42aba932f": {
      "model_module": "@jupyter-widgets/base",
      "model_module_version": "2.0.0",
      "model_name": "LayoutModel",
      "state": {
       "width": "160px"
      }
     },
     "a9acc6dc1e654a98a16100ed07aaed5d": {
      "model_module": "@jupyter-widgets/base",
      "model_module_version": "2.0.0",
      "model_name": "LayoutModel",
      "state": {
       "display": "None"
      }
     },
     "ab765bf00f6b4cb29f02089b200f8ba8": {
      "model_module": "@jupyter-widgets/controls",
      "model_module_version": "2.0.0",
      "model_name": "ButtonStyleModel",
      "state": {
       "button_color": "LightSeaGreen",
       "font_family": null,
       "font_size": null,
       "font_style": null,
       "font_variant": null,
       "font_weight": null,
       "text_color": null,
       "text_decoration": null
      }
     },
     "abf1e94ae5dc4a928012823112c043d0": {
      "model_module": "@jupyter-widgets/controls",
      "model_module_version": "2.0.0",
      "model_name": "ButtonModel",
      "state": {
       "button_style": "info",
       "description": "Update",
       "icon": "pen",
       "layout": "IPY_MODEL_27e5e92a88304f28a88afa77b0de8d10",
       "style": "IPY_MODEL_ae9227a4115241eebf6a935a1b09bb8c",
       "tooltip": "Update group..."
      }
     },
     "ac1c5e9ee745486c9da0d07f674181f0": {
      "model_module": "@jupyter-widgets/base",
      "model_module_version": "2.0.0",
      "model_name": "LayoutModel",
      "state": {
       "width": "160px"
      }
     },
     "ac59bc3f7a774ac182be54ba067380ed": {
      "model_module": "@jupyter-widgets/base",
      "model_module_version": "2.0.0",
      "model_name": "LayoutModel",
      "state": {
       "width": "160px"
      }
     },
     "acba0e5de3f844abbac75ac63fa11ded": {
      "model_module": "@jupyter-widgets/base",
      "model_module_version": "2.0.0",
      "model_name": "LayoutModel",
      "state": {}
     },
     "acc8120d50ba47ee9c1fc7c13a6008ba": {
      "model_module": "@jupyter-widgets/controls",
      "model_module_version": "2.0.0",
      "model_name": "CheckboxStyleModel",
      "state": {
       "description_width": ""
      }
     },
     "acf38bd110cc4209b946225b2738ed1e": {
      "model_module": "@jupyter-widgets/controls",
      "model_module_version": "2.0.0",
      "model_name": "CheckboxStyleModel",
      "state": {
       "description_width": ""
      }
     },
     "ad31cadccb894e1aa43e876583ed595f": {
      "model_module": "@jupyter-widgets/controls",
      "model_module_version": "2.0.0",
      "model_name": "CheckboxStyleModel",
      "state": {
       "description_width": ""
      }
     },
     "ad48fa8bd15a471ebdf5e7cbfc47f380": {
      "model_module": "@jupyter-widgets/controls",
      "model_module_version": "2.0.0",
      "model_name": "CheckboxModel",
      "state": {
       "description": "TS_13_3_1",
       "disabled": false,
       "indent": false,
       "layout": "IPY_MODEL_3f9e1414b80f4464b87bfa819aa68589",
       "style": "IPY_MODEL_8db33c2bcfa64f9294ed262c96390f79",
       "value": false
      }
     },
     "ad4ec54565c145e58131d831788229ca": {
      "model_module": "@jupyter-widgets/controls",
      "model_module_version": "2.0.0",
      "model_name": "CheckboxStyleModel",
      "state": {
       "description_width": ""
      }
     },
     "ad9e414f0bbd4fdebe6384f3daadcae7": {
      "model_module": "@jupyter-widgets/controls",
      "model_module_version": "2.0.0",
      "model_name": "HTMLStyleModel",
      "state": {
       "description_width": "",
       "font_size": null,
       "text_color": null
      }
     },
     "adaa51490897436fa0d954aea82bc91b": {
      "model_module": "@jupyter-widgets/controls",
      "model_module_version": "2.0.0",
      "model_name": "CheckboxStyleModel",
      "state": {
       "description_width": ""
      }
     },
     "ae59b5e67b5e4234804b3662764161db": {
      "model_module": "@jupyter-widgets/controls",
      "model_module_version": "2.0.0",
      "model_name": "DropdownModel",
      "state": {
       "_options_labels": [
        "ETC NRT Fluxes",
        "ETC NRT Meteo",
        "ETC NRT Meteosens"
       ],
       "index": 2,
       "layout": "IPY_MODEL_485a9a50b6e04c39ae9d1e69abbbabf3",
       "style": "IPY_MODEL_997c6e63540e432ca18e026ce5fad27d",
       "tooltip": "File name"
      }
     },
     "ae7dd1632a8f446caede10f5ddce94be": {
      "model_module": "@jupyter-widgets/controls",
      "model_module_version": "2.0.0",
      "model_name": "CheckboxStyleModel",
      "state": {
       "description_width": ""
      }
     },
     "ae9227a4115241eebf6a935a1b09bb8c": {
      "model_module": "@jupyter-widgets/controls",
      "model_module_version": "2.0.0",
      "model_name": "ButtonStyleModel",
      "state": {
       "font_family": null,
       "font_size": null,
       "font_style": null,
       "font_variant": null,
       "font_weight": null,
       "text_color": null,
       "text_decoration": null
      }
     },
     "aead8a9f83914fd0869e9281eabde592": {
      "model_module": "@jupyter-widgets/base",
      "model_module_version": "2.0.0",
      "model_name": "LayoutModel",
      "state": {}
     },
     "af3195e90e454ab097f386d149f5d40c": {
      "model_module": "@jupyter-widgets/controls",
      "model_module_version": "2.0.0",
      "model_name": "CheckboxModel",
      "state": {
       "description": "SW_IN_1_1_2",
       "disabled": false,
       "indent": false,
       "layout": "IPY_MODEL_ac59bc3f7a774ac182be54ba067380ed",
       "style": "IPY_MODEL_9750941f1ca94546b6e0087ce83b9434",
       "value": false
      }
     },
     "afeb633f1e3e4d319b35fd2172536a08": {
      "model_module": "@jupyter-widgets/controls",
      "model_module_version": "2.0.0",
      "model_name": "CheckboxModel",
      "state": {
       "description": "P_1_1_1",
       "disabled": false,
       "indent": false,
       "layout": "IPY_MODEL_5d96f429ca2e462a992955b271d6df00",
       "style": "IPY_MODEL_b03ceca962274994ab82fb7c0f38de5f",
       "value": false
      }
     },
     "b03ceca962274994ab82fb7c0f38de5f": {
      "model_module": "@jupyter-widgets/controls",
      "model_module_version": "2.0.0",
      "model_name": "CheckboxStyleModel",
      "state": {
       "description_width": ""
      }
     },
     "b042d19c7fb2434eb7403ef361437d63": {
      "model_module": "@jupyter-widgets/base",
      "model_module_version": "2.0.0",
      "model_name": "LayoutModel",
      "state": {
       "width": "160px"
      }
     },
     "b0a0b35d4dd642268580e195216e4e2c": {
      "model_module": "@jupyter-widgets/base",
      "model_module_version": "2.0.0",
      "model_name": "LayoutModel",
      "state": {
       "display": "none",
       "height": "auto",
       "min_width": "45%",
       "width": "auto"
      }
     },
     "b0bfb6af81644754ab924b20daabba30": {
      "model_module": "@jupyter-widgets/base",
      "model_module_version": "2.0.0",
      "model_name": "LayoutModel",
      "state": {
       "width": "auto"
      }
     },
     "b0c05e73ef904cab8d89e70ec58f4908": {
      "model_module": "@jupyter-widgets/controls",
      "model_module_version": "2.0.0",
      "model_name": "CheckboxModel",
      "state": {
       "description": "TA_1_2_1",
       "disabled": false,
       "indent": false,
       "layout": "IPY_MODEL_1ee561538e3d459f92d40a922e77da9f",
       "style": "IPY_MODEL_f3b063f1b98f4b24b55ec51c6afb3087",
       "value": false
      }
     },
     "b266733159aa4ab6a2ee4845dc3c9643": {
      "model_module": "@jupyter-widgets/base",
      "model_module_version": "2.0.0",
      "model_name": "LayoutModel",
      "state": {
       "width": "160px"
      }
     },
     "b379f316636f469684b11315ca2cfd70": {
      "model_module": "@jupyter-widgets/controls",
      "model_module_version": "2.0.0",
      "model_name": "CheckboxStyleModel",
      "state": {
       "description_width": ""
      }
     },
     "b37cc1531d104e8a9e6dfa536dedafc5": {
      "model_module": "@jupyter-widgets/controls",
      "model_module_version": "2.0.0",
      "model_name": "CheckboxStyleModel",
      "state": {
       "description_width": ""
      }
     },
     "b3c09f2fa71047f0b573ccf49e833150": {
      "model_module": "@jupyter-widgets/base",
      "model_module_version": "2.0.0",
      "model_name": "LayoutModel",
      "state": {
       "width": "160px"
      }
     },
     "b3cf4485b1744ff19ad72d5cc8321479": {
      "model_module": "@jupyter-widgets/controls",
      "model_module_version": "2.0.0",
      "model_name": "DescriptionStyleModel",
      "state": {
       "description_width": ""
      }
     },
     "b459ee97ca0c4631bc2a51c9d1e979db": {
      "model_module": "@jupyter-widgets/controls",
      "model_module_version": "2.0.0",
      "model_name": "AccordionModel",
      "state": {
       "children": [
        "IPY_MODEL_c82bb083223548ef875a40233a20448b"
       ],
       "layout": "IPY_MODEL_a1dc8896a09b4c55bb3a74f5ed757690",
       "titles": [
        "Variable info"
       ]
      }
     },
     "b4947eda28164a908ad58dc5d96c2bc1": {
      "model_module": "@jupyter-widgets/controls",
      "model_module_version": "2.0.0",
      "model_name": "CheckboxStyleModel",
      "state": {
       "description_width": ""
      }
     },
     "b4abd34a9dfa4183a3ac9a1c26f7b5d3": {
      "model_module": "@jupyter-widgets/controls",
      "model_module_version": "2.0.0",
      "model_name": "HTMLModel",
      "state": {
       "layout": "IPY_MODEL_007d200886ad4cff9c8cb43115d9473a",
       "style": "IPY_MODEL_ad9e414f0bbd4fdebe6384f3daadcae7",
       "value": "<b><i>Files of station: </i></b>"
      }
     },
     "b5da3d76e35a4d73b2d0376121bfddce": {
      "model_module": "@jupyter-widgets/controls",
      "model_module_version": "2.0.0",
      "model_name": "CheckboxModel",
      "state": {
       "description": "PPFD_BC_IN_25_1_1",
       "disabled": false,
       "indent": false,
       "layout": "IPY_MODEL_4b4d60b267ba437380de3501e63c580a",
       "style": "IPY_MODEL_00cbb3bd94cb4f368654731d5ee2f6ab",
       "value": false
      }
     },
     "b63a94cc6c314d81bc0b61633ea37712": {
      "model_module": "@jupyter-widgets/controls",
      "model_module_version": "2.0.0",
      "model_name": "CheckboxModel",
      "state": {
       "description": "SC",
       "disabled": false,
       "indent": false,
       "layout": "IPY_MODEL_b3c09f2fa71047f0b573ccf49e833150",
       "style": "IPY_MODEL_1a4d73887f6742b2805c32167f466844",
       "value": true
      }
     },
     "b6ef4ba59a6d4cebab6bad223f6e8ded": {
      "model_module": "@jupyter-widgets/base",
      "model_module_version": "2.0.0",
      "model_name": "LayoutModel",
      "state": {
       "width": "160px"
      }
     },
     "b6ff664967fa4ccfb800fa0b57dcbb66": {
      "model_module": "@jupyter-widgets/controls",
      "model_module_version": "2.0.0",
      "model_name": "CheckboxModel",
      "state": {
       "description": "PPFD_BC_IN_28_1_1",
       "disabled": false,
       "indent": false,
       "layout": "IPY_MODEL_57c52777312e4227a126fef1bf8e6971",
       "style": "IPY_MODEL_ca67be584fd54311b3d7b0cb54c836bf",
       "value": false
      }
     },
     "b722e05ccc0242e2a3dd169d37832d9d": {
      "model_module": "@jupyter-widgets/controls",
      "model_module_version": "2.0.0",
      "model_name": "CheckboxStyleModel",
      "state": {
       "description_width": ""
      }
     },
     "b758b6bcb4f442f183bdba868eb575e6": {
      "model_module": "@jupyter-widgets/controls",
      "model_module_version": "2.0.0",
      "model_name": "CheckboxModel",
      "state": {
       "description": "PPFD_BC_IN_13_1_1",
       "disabled": false,
       "indent": false,
       "layout": "IPY_MODEL_98448c657e744ba6870f1485e39bc31c",
       "style": "IPY_MODEL_0e65e368ee1445dbb1db64fd96c9af27",
       "value": true
      }
     },
     "b7b6667cee97429b8fa961d0b90efc4e": {
      "model_module": "@jupyter-widgets/base",
      "model_module_version": "2.0.0",
      "model_name": "LayoutModel",
      "state": {
       "width": "160px"
      }
     },
     "b7d3f7c933c642ec82aa78caf0d24434": {
      "model_module": "@jupyter-widgets/base",
      "model_module_version": "2.0.0",
      "model_name": "LayoutModel",
      "state": {
       "width": "160px"
      }
     },
     "b8a28278a3ff44359fc6581c764bd087": {
      "model_module": "@jupyter-widgets/controls",
      "model_module_version": "2.0.0",
      "model_name": "CheckboxModel",
      "state": {
       "description": "PPFD_BC_IN_5_1_1",
       "disabled": false,
       "indent": false,
       "layout": "IPY_MODEL_c861fdf9613948a49ac9ba9bb4906362",
       "style": "IPY_MODEL_8dac8b7be919449490fa95bbee9c3769",
       "value": false
      }
     },
     "b8ee0821271d447c85e0115e74ad1c07": {
      "model_module": "@jupyter-widgets/controls",
      "model_module_version": "2.0.0",
      "model_name": "CheckboxModel",
      "state": {
       "description": "PPFD_BC_IN_22_1_1",
       "disabled": false,
       "indent": false,
       "layout": "IPY_MODEL_11d2d43f37d24e9297570e82ff219e69",
       "style": "IPY_MODEL_976c791251114dd7b7c65cb6ef2d04f5",
       "value": false
      }
     },
     "ba2aaf8e219f4a2689f4b9581cf97cce": {
      "model_module": "@jupyter-widgets/base",
      "model_module_version": "2.0.0",
      "model_name": "LayoutModel",
      "state": {
       "width": "160px"
      }
     },
     "ba4ceda8f6e14996bd55b1ed212bceae": {
      "model_module": "@jupyter-widgets/controls",
      "model_module_version": "2.0.0",
      "model_name": "CheckboxStyleModel",
      "state": {
       "description_width": ""
      }
     },
     "ba91ff0c9457496187ad24c008a6871a": {
      "model_module": "@jupyter-widgets/controls",
      "model_module_version": "2.0.0",
      "model_name": "CheckboxModel",
      "state": {
       "description": "W_SIGMA",
       "disabled": false,
       "indent": false,
       "layout": "IPY_MODEL_81ccf095d19c462abe363d4279055ead",
       "style": "IPY_MODEL_9de10eb5c0294d7c9d490d8f8d8ad3bb",
       "value": true
      }
     },
     "ba94415c742a44afb2c9760c78730a09": {
      "model_module": "@jupyter-widgets/controls",
      "model_module_version": "2.0.0",
      "model_name": "CheckboxModel",
      "state": {
       "description": "TS_13_4_1",
       "disabled": false,
       "indent": false,
       "layout": "IPY_MODEL_5e2b8f95a95f42d2abb56c4c6cd1473e",
       "style": "IPY_MODEL_93d9f72b542840628a3d69e2884e536c",
       "value": false
      }
     },
     "baa86d3251e94cf383edec31403d5a07": {
      "model_module": "@jupyter-widgets/controls",
      "model_module_version": "2.0.0",
      "model_name": "CheckboxStyleModel",
      "state": {
       "description_width": ""
      }
     },
     "bb0a0a929d38400187ce916a0e875890": {
      "model_module": "@jupyter-widgets/controls",
      "model_module_version": "2.0.0",
      "model_name": "HBoxModel",
      "state": {
       "children": [
        "IPY_MODEL_dc6f8be5a3f74c6284bb51ec06919583",
        "IPY_MODEL_43ca020432d94a11a619f0579cdfaaea",
        "IPY_MODEL_81be0f06a6cc413b919ee1e2c28631e2",
        "IPY_MODEL_80d7ec00df8e4d888530bab0d975bc13"
       ],
       "layout": "IPY_MODEL_e381ecdcddc94ceb8fc04f1a5ab1e25d"
      }
     },
     "bb4b47518aa6466dbfc54f4b9c1ee08c": {
      "model_module": "@jupyter-widgets/base",
      "model_module_version": "2.0.0",
      "model_name": "LayoutModel",
      "state": {}
     },
     "bc49efc6c2bc497d9db2fa411dd7f11c": {
      "model_module": "@jupyter-widgets/base",
      "model_module_version": "2.0.0",
      "model_name": "LayoutModel",
      "state": {
       "width": "160px"
      }
     },
     "bc89ead53e9542caa13ab29770189a5f": {
      "model_module": "@jupyter-widgets/controls",
      "model_module_version": "2.0.0",
      "model_name": "CheckboxStyleModel",
      "state": {
       "description_width": ""
      }
     },
     "bcadf61feab34af1b1fe6184ab5956f6": {
      "model_module": "@jupyter-widgets/controls",
      "model_module_version": "2.0.0",
      "model_name": "HBoxModel",
      "state": {
       "children": [
        "IPY_MODEL_40f63df89e074aafb6ae8ad40ef6cab1",
        "IPY_MODEL_dc8e32d70bd84a7a91a3f266b5fbb5a6"
       ],
       "layout": "IPY_MODEL_23469f11497b4775bf52b36870ba9dd8"
      }
     },
     "bd3145feded0421db341c8bfb6a8941a": {
      "model_module": "@jupyter-widgets/controls",
      "model_module_version": "2.0.0",
      "model_name": "CheckboxStyleModel",
      "state": {
       "description_width": ""
      }
     },
     "bdbb37ee12fa4c22b9e48957cd35b966": {
      "model_module": "@jupyter-widgets/base",
      "model_module_version": "2.0.0",
      "model_name": "LayoutModel",
      "state": {
       "width": "160px"
      }
     },
     "be2fd8a6d4dd4488b4ab8313acbe3f98": {
      "model_module": "@jupyter-widgets/controls",
      "model_module_version": "2.0.0",
      "model_name": "AccordionModel",
      "state": {
       "children": [
        "IPY_MODEL_4832b1c751dc47868946d5a99a64f9ca"
       ],
       "layout": "IPY_MODEL_b0a0b35d4dd642268580e195216e4e2c",
       "titles": [
        "User guide"
       ]
      }
     },
     "be35f0ca8ffd4994a99fe42284aff601": {
      "model_module": "@jupyter-widgets/controls",
      "model_module_version": "2.0.0",
      "model_name": "CheckboxModel",
      "state": {
       "description": "PPFD_BC_IN_11_1_1",
       "disabled": false,
       "indent": false,
       "layout": "IPY_MODEL_0939ff4b2a6e43ebbea1760d91200f4f",
       "style": "IPY_MODEL_32a49523c7514707a35bfba17074f619",
       "value": true
      }
     },
     "bef84266f09c4805bd9c721ab5a2a03b": {
      "model_module": "@jupyter-widgets/controls",
      "model_module_version": "2.0.0",
      "model_name": "CheckboxStyleModel",
      "state": {
       "description_width": ""
      }
     },
     "bf0fe99ab4494081af7172aeb9c510af": {
      "model_module": "@jupyter-widgets/base",
      "model_module_version": "2.0.0",
      "model_name": "LayoutModel",
      "state": {
       "width": "160px"
      }
     },
     "bf3ddac04d42466fa54633e431ee66bc": {
      "model_module": "@jupyter-widgets/controls",
      "model_module_version": "2.0.0",
      "model_name": "CheckboxStyleModel",
      "state": {
       "description_width": ""
      }
     },
     "c02d8613e31643af988a75b632d4eacd": {
      "model_module": "@jupyter-widgets/controls",
      "model_module_version": "2.0.0",
      "model_name": "CheckboxModel",
      "state": {
       "description": "TS_14_7_1",
       "disabled": false,
       "indent": false,
       "layout": "IPY_MODEL_7b0b49a8ab744e689ab8cf737e26156e",
       "style": "IPY_MODEL_6b5b388cd7f2459ead4b68a91ea056de",
       "value": false
      }
     },
     "c044eac1bb6c4337bf45aa517e3adff1": {
      "model_module": "@jupyter-widgets/controls",
      "model_module_version": "2.0.0",
      "model_name": "CheckboxModel",
      "state": {
       "description": "TS_11_5_1",
       "disabled": false,
       "indent": false,
       "layout": "IPY_MODEL_62fe04388f6147169c2dc7f29936f6d4",
       "style": "IPY_MODEL_e83c9fd59602498d9013a705ddf5c875",
       "value": false
      }
     },
     "c0c7948a6d874e43ad6a0b8bc02b4f2f": {
      "model_module": "@jupyter-widgets/controls",
      "model_module_version": "2.0.0",
      "model_name": "CheckboxModel",
      "state": {
       "description": "TS_12_3_1",
       "disabled": false,
       "indent": false,
       "layout": "IPY_MODEL_4f20c13bd6c74f3f9a327d1269e7fdb2",
       "style": "IPY_MODEL_a0f065b15fc94c7db5dcb7e209b59b61",
       "value": false
      }
     },
     "c110621afae94a38a5e1b3dac4d3d1f6": {
      "model_module": "@jupyter-widgets/base",
      "model_module_version": "2.0.0",
      "model_name": "LayoutModel",
      "state": {
       "width": "160px"
      }
     },
     "c191dd594cb943d5b373076bcb4cbc5c": {
      "model_module": "@jupyter-widgets/base",
      "model_module_version": "2.0.0",
      "model_name": "LayoutModel",
      "state": {
       "width": "160px"
      }
     },
     "c303d12772404537b7c2998b2673f048": {
      "model_module": "@jupyter-widgets/controls",
      "model_module_version": "2.0.0",
      "model_name": "ButtonModel",
      "state": {
       "button_style": "info",
       "description": "Cancel",
       "disabled": true,
       "icon": "ban",
       "layout": "IPY_MODEL_9f2697e395e9446eaba2cc1ff0cd4dea",
       "style": "IPY_MODEL_c6fb8926ec8a479cb5a20d0a6aa36ff1",
       "tooltip": "Enabled in update mode..."
      }
     },
     "c3567a06ff1b4b71856e9c7b261a9ef8": {
      "model_module": "@jupyter-widgets/controls",
      "model_module_version": "2.0.0",
      "model_name": "CheckboxModel",
      "state": {
       "description": "SW_IN_2_1_1",
       "disabled": false,
       "indent": false,
       "layout": "IPY_MODEL_0866f611e9134215898bb95dfb45e21c",
       "style": "IPY_MODEL_adaa51490897436fa0d954aea82bc91b",
       "value": false
      }
     },
     "c3fd314dfe5e4a82b7d5a90970cfc82d": {
      "model_module": "@jupyter-widgets/base",
      "model_module_version": "2.0.0",
      "model_name": "LayoutModel",
      "state": {
       "width": "160px"
      }
     },
     "c44809a5292c4021966b756aff65e650": {
      "model_module": "@jupyter-widgets/base",
      "model_module_version": "2.0.0",
      "model_name": "LayoutModel",
      "state": {
       "width": "160px"
      }
     },
     "c47b157cd7814914b2b5fcf3079140c0": {
      "model_module": "@jupyter-widgets/base",
      "model_module_version": "2.0.0",
      "model_name": "LayoutModel",
      "state": {
       "width": "67%"
      }
     },
     "c4de859095ab4988936ccb11cdcc8275": {
      "model_module": "@jupyter-widgets/base",
      "model_module_version": "2.0.0",
      "model_name": "LayoutModel",
      "state": {
       "width": "160px"
      }
     },
     "c4f08683d13e45ebaa8e3eeb2e5d6fbd": {
      "model_module": "@jupyter-widgets/controls",
      "model_module_version": "2.0.0",
      "model_name": "CheckboxStyleModel",
      "state": {
       "description_width": ""
      }
     },
     "c548ecb279b94f1696fad38de4977759": {
      "model_module": "@jupyter-widgets/controls",
      "model_module_version": "2.0.0",
      "model_name": "DescriptionStyleModel",
      "state": {
       "description_width": ""
      }
     },
     "c56d9dfdceae44b79bf4da8daa5c95e4": {
      "model_module": "@jupyter-widgets/base",
      "model_module_version": "2.0.0",
      "model_name": "LayoutModel",
      "state": {
       "width": "160px"
      }
     },
     "c6bea93b72d248668656a58a606023ce": {
      "model_module": "@jupyter-widgets/controls",
      "model_module_version": "2.0.0",
      "model_name": "CheckboxModel",
      "state": {
       "description": "SWC_14_4_1",
       "disabled": false,
       "indent": false,
       "layout": "IPY_MODEL_742fbe01c5424cdfb17d420049c3840f",
       "style": "IPY_MODEL_6067c7916b4d4268b31d5eae2d99914d",
       "value": false
      }
     },
     "c6e8a7318ee14ddbaa56091d12a97b04": {
      "model_module": "@jupyter-widgets/controls",
      "model_module_version": "2.0.0",
      "model_name": "ButtonStyleModel",
      "state": {
       "button_color": "MediumSeaGreen",
       "font_family": null,
       "font_size": null,
       "font_style": null,
       "font_variant": null,
       "font_weight": null,
       "text_color": null,
       "text_decoration": null
      }
     },
     "c6f97c52c79c4f36bfcb6052d1c8f41b": {
      "model_module": "@jupyter-widgets/controls",
      "model_module_version": "2.0.0",
      "model_name": "CheckboxStyleModel",
      "state": {
       "description_width": ""
      }
     },
     "c6fb8926ec8a479cb5a20d0a6aa36ff1": {
      "model_module": "@jupyter-widgets/controls",
      "model_module_version": "2.0.0",
      "model_name": "ButtonStyleModel",
      "state": {
       "font_family": null,
       "font_size": null,
       "font_style": null,
       "font_variant": null,
       "font_weight": null,
       "text_color": null,
       "text_decoration": null
      }
     },
     "c72e83faced142208c2cd3a2bec67458": {
      "model_module": "@jupyter-widgets/base",
      "model_module_version": "2.0.0",
      "model_name": "LayoutModel",
      "state": {
       "width": "160px"
      }
     },
     "c81c5c6bab994f55a9b6d0f0553b99f3": {
      "model_module": "@jupyter-widgets/base",
      "model_module_version": "2.0.0",
      "model_name": "LayoutModel",
      "state": {
       "width": "160px"
      }
     },
     "c82bb083223548ef875a40233a20448b": {
      "model_module": "@jupyter-widgets/controls",
      "model_module_version": "2.0.0",
      "model_name": "VBoxModel",
      "state": {
       "children": [
        "IPY_MODEL_d5c75107dce34cfbb34161ee692286bb",
        "IPY_MODEL_44f6bf499dbe49fc8a74e3e67375b0af"
       ],
       "layout": "IPY_MODEL_cd9b8986cabc485b87b1d81d663ce39c"
      }
     },
     "c861fdf9613948a49ac9ba9bb4906362": {
      "model_module": "@jupyter-widgets/base",
      "model_module_version": "2.0.0",
      "model_name": "LayoutModel",
      "state": {
       "width": "160px"
      }
     },
     "c8b431f8a6b445c8adf2d36c851e5226": {
      "model_module": "@jupyter-widgets/controls",
      "model_module_version": "2.0.0",
      "model_name": "CheckboxModel",
      "state": {
       "description": "SWC_12_1_1",
       "disabled": false,
       "indent": false,
       "layout": "IPY_MODEL_067fa70b81224acb9e06cc8261d72309",
       "style": "IPY_MODEL_8c2104705fc84a2c887e9924b22b1a4e",
       "value": false
      }
     },
     "c8bad0d63da44be1b58dd676a3c71411": {
      "model_module": "@jupyter-widgets/controls",
      "model_module_version": "2.0.0",
      "model_name": "CheckboxModel",
      "state": {
       "description": "SW_IN_1_1_1",
       "disabled": false,
       "indent": false,
       "layout": "IPY_MODEL_c191dd594cb943d5b373076bcb4cbc5c",
       "style": "IPY_MODEL_3ac0bb0588954a82b9b3a5a26e9fc6f0",
       "value": false
      }
     },
     "c9edf086326e4a8e8869523b089fbd03": {
      "model_module": "@jupyter-widgets/base",
      "model_module_version": "2.0.0",
      "model_name": "LayoutModel",
      "state": {
       "width": "160px"
      }
     },
     "ca67be584fd54311b3d7b0cb54c836bf": {
      "model_module": "@jupyter-widgets/controls",
      "model_module_version": "2.0.0",
      "model_name": "CheckboxStyleModel",
      "state": {
       "description_width": ""
      }
     },
     "ca7b8995835a4daabdd5d86d47442910": {
      "model_module": "@jupyter-widgets/base",
      "model_module_version": "2.0.0",
      "model_name": "LayoutModel",
      "state": {
       "align_items": "flex-end",
       "display": "flex",
       "flex_flow": "column"
      }
     },
     "ca934f23d56949ec9d84e2221d5e0b95": {
      "model_module": "@jupyter-widgets/controls",
      "model_module_version": "2.0.0",
      "model_name": "CheckboxStyleModel",
      "state": {
       "description_width": ""
      }
     },
     "cb3f5de97ecb4be88d7a0cb4a9e37465": {
      "model_module": "@jupyter-widgets/controls",
      "model_module_version": "2.0.0",
      "model_name": "HTMLModel",
      "state": {
       "layout": "IPY_MODEL_cfcf0089b5714ca0bef0cd66b87f67fb",
       "style": "IPY_MODEL_229e3edd09c349679507c2dd771b7bef",
       "value": "<b><i>Variables in update mode: </i></b>"
      }
     },
     "cc1146e34a394b82ba77f53a14cb3140": {
      "model_module": "@jupyter-widgets/controls",
      "model_module_version": "2.0.0",
      "model_name": "VBoxModel",
      "state": {
       "children": [
        "IPY_MODEL_b4abd34a9dfa4183a3ac9a1c26f7b5d3",
        "IPY_MODEL_ae59b5e67b5e4234804b3662764161db"
       ],
       "layout": "IPY_MODEL_01a561f4081c4f5393c84fa88ee4dcd9"
      }
     },
     "cc93ab52059f4c6580fdb6c21ee71095": {
      "model_module": "@jupyter-widgets/controls",
      "model_module_version": "2.0.0",
      "model_name": "HTMLStyleModel",
      "state": {
       "description_width": "",
       "font_size": null,
       "text_color": null
      }
     },
     "ccf155d33e2946bdb23fdf026444f445": {
      "model_module": "@jupyter-widgets/controls",
      "model_module_version": "2.0.0",
      "model_name": "ButtonModel",
      "state": {
       "description": "aa",
       "layout": "IPY_MODEL_7ef28f07dc2e4e0aaa8086e2959a5b1c",
       "style": "IPY_MODEL_85dc732d23714cd4950fa2d1d06df30e",
       "tooltip": null
      }
     },
     "cd05fe4465094dbdb9ae7da5bd495036": {
      "model_module": "@jupyter-widgets/base",
      "model_module_version": "2.0.0",
      "model_name": "LayoutModel",
      "state": {
       "width": "160px"
      }
     },
     "cd0b00d420ec4c0fa6b2b7f9bf993b3c": {
      "model_module": "@jupyter-widgets/controls",
      "model_module_version": "2.0.0",
      "model_name": "CheckboxModel",
      "state": {
       "description": "TS_14_3_1",
       "disabled": false,
       "indent": false,
       "layout": "IPY_MODEL_4840ab73c0464c20aa0ae4b1d1c85e38",
       "style": "IPY_MODEL_9b0a750c0ff04f339f96a29ccb6475af",
       "value": false
      }
     },
     "cd9b8986cabc485b87b1d81d663ce39c": {
      "model_module": "@jupyter-widgets/base",
      "model_module_version": "2.0.0",
      "model_name": "LayoutModel",
      "state": {}
     },
     "ce6878c38d414a0e892c8d6a8f942757": {
      "model_module": "@jupyter-widgets/controls",
      "model_module_version": "2.0.0",
      "model_name": "CheckboxStyleModel",
      "state": {
       "description_width": ""
      }
     },
     "cf5e1055bec04d5ea4628fe32174fb5b": {
      "model_module": "@jupyter-widgets/controls",
      "model_module_version": "2.0.0",
      "model_name": "CheckboxModel",
      "state": {
       "description": "PPFD_BC_IN_6_1_1",
       "disabled": false,
       "indent": false,
       "layout": "IPY_MODEL_096d358da8264ed1a574d78f043a50d1",
       "style": "IPY_MODEL_67bd111435764cfb9127d7693c757a08",
       "value": false
      }
     },
     "cf6641560d604e9181beaedc449aaf7d": {
      "model_module": "@jupyter-widgets/base",
      "model_module_version": "2.0.0",
      "model_name": "LayoutModel",
      "state": {}
     },
     "cf67ed6258194bd9a59443072f7d254b": {
      "model_module": "@jupyter-widgets/controls",
      "model_module_version": "2.0.0",
      "model_name": "ButtonStyleModel",
      "state": {
       "font_family": null,
       "font_size": null,
       "font_style": null,
       "font_variant": null,
       "font_weight": null,
       "text_color": null,
       "text_decoration": null
      }
     },
     "cfb411cbb2ea4997b53686c39441ebce": {
      "model_module": "@jupyter-widgets/controls",
      "model_module_version": "2.0.0",
      "model_name": "CheckboxStyleModel",
      "state": {
       "description_width": ""
      }
     },
     "cfcbe8e187b243f48b7edb4357103cf7": {
      "model_module": "@jupyter-widgets/controls",
      "model_module_version": "2.0.0",
      "model_name": "CheckboxStyleModel",
      "state": {
       "description_width": ""
      }
     },
     "cfcf0089b5714ca0bef0cd66b87f67fb": {
      "model_module": "@jupyter-widgets/base",
      "model_module_version": "2.0.0",
      "model_name": "LayoutModel",
      "state": {
       "min_width": "150px",
       "width": "auto"
      }
     },
     "d06300c76d934628bfb60cbdc164fa27": {
      "model_module": "@jupyter-widgets/controls",
      "model_module_version": "2.0.0",
      "model_name": "CheckboxStyleModel",
      "state": {
       "description_width": ""
      }
     },
     "d08d3a5c2c594cb19c5ab6b3faad0118": {
      "model_module": "@jupyter-widgets/base",
      "model_module_version": "2.0.0",
      "model_name": "LayoutModel",
      "state": {
       "width": "160px"
      }
     },
     "d0cd8489347740ab8b21f8946fbdee95": {
      "model_module": "@jupyter-widgets/controls",
      "model_module_version": "2.0.0",
      "model_name": "HBoxModel",
      "state": {
       "children": [
        "IPY_MODEL_e9c14fcd0fa14fb98bf3c773185cf4a2",
        "IPY_MODEL_e905ae7abe6346d2b88e34738251ce04",
        "IPY_MODEL_7692cc12a51e4f9297ad2a31b86d6faf"
       ],
       "layout": "IPY_MODEL_acba0e5de3f844abbac75ac63fa11ded"
      }
     },
     "d0ff5619001b41c7b7edc90c9e97b786": {
      "model_module": "@jupyter-widgets/base",
      "model_module_version": "2.0.0",
      "model_name": "LayoutModel",
      "state": {}
     },
     "d1a29381a473465f8794303fe37a7b9c": {
      "model_module": "@jupyter-widgets/controls",
      "model_module_version": "2.0.0",
      "model_name": "CheckboxStyleModel",
      "state": {
       "description_width": ""
      }
     },
     "d1df9446f87445f6aa51175c98127d1a": {
      "model_module": "@jupyter-widgets/controls",
      "model_module_version": "2.0.0",
      "model_name": "CheckboxStyleModel",
      "state": {
       "description_width": ""
      }
     },
     "d25a3bed0fe64073997393be3a0efc49": {
      "model_module": "@jupyter-widgets/base",
      "model_module_version": "2.0.0",
      "model_name": "LayoutModel",
      "state": {
       "width": "100px"
      }
     },
     "d2a34e1ce7994ed6bd82b0456020a118": {
      "model_module": "@jupyter-widgets/controls",
      "model_module_version": "2.0.0",
      "model_name": "CheckboxModel",
      "state": {
       "description": "G_14_1_1",
       "disabled": false,
       "indent": false,
       "layout": "IPY_MODEL_578e85909a664e2db80b63c84efd5de2",
       "style": "IPY_MODEL_55cac09ae0c84c84a602be03207abb80",
       "value": false
      }
     },
     "d3e443d30c1941b291233d194da3a97d": {
      "model_module": "@jupyter-widgets/base",
      "model_module_version": "2.0.0",
      "model_name": "LayoutModel",
      "state": {}
     },
     "d47969f8068e414f83b2e484564b6c20": {
      "model_module": "@jupyter-widgets/controls",
      "model_module_version": "2.0.0",
      "model_name": "CheckboxModel",
      "state": {
       "description": "SG_12_1_1",
       "disabled": false,
       "indent": false,
       "layout": "IPY_MODEL_d8995fd1f9de4448873cefd8aff513ea",
       "style": "IPY_MODEL_fc41acc193bf4d199779ec00611ccca8",
       "value": false
      }
     },
     "d4e5c66c261242f1866b9190fb53c428": {
      "model_module": "@jupyter-widgets/base",
      "model_module_version": "2.0.0",
      "model_name": "LayoutModel",
      "state": {
       "width": "160px"
      }
     },
     "d5134597e1d24d02bb2b73e094e19272": {
      "model_module": "@jupyter-widgets/controls",
      "model_module_version": "2.0.0",
      "model_name": "CheckboxModel",
      "state": {
       "description": "SWC_14_1_1",
       "disabled": false,
       "indent": false,
       "layout": "IPY_MODEL_a0bc38b10c7f42d68d32a8ddd2474b20",
       "style": "IPY_MODEL_3747a3bf249240cea029c08bdeebbbea",
       "value": false
      }
     },
     "d5791d0c8d2b438e895089921bcdcc08": {
      "model_module": "@jupyter-widgets/controls",
      "model_module_version": "2.0.0",
      "model_name": "CheckboxStyleModel",
      "state": {
       "description_width": ""
      }
     },
     "d5a1782aefb44f3080892c748d08ece3": {
      "model_module": "@jupyter-widgets/base",
      "model_module_version": "2.0.0",
      "model_name": "LayoutModel",
      "state": {
       "width": "160px"
      }
     },
     "d5c75107dce34cfbb34161ee692286bb": {
      "model_module": "@jupyter-widgets/controls",
      "model_module_version": "2.0.0",
      "model_name": "DropdownModel",
      "state": {
       "_options_labels": [
        "D_SNOW_1_1_1",
        "G_11_1_1",
        "G_12_1_1",
        "G_13_1_1",
        "G_14_1_1",
        "LW_IN_1_1_1",
        "LW_IN_2_1_1",
        "LW_OUT_1_1_1",
        "LW_OUT_2_1_1",
        "PA_1_1_1",
        "PA_2_1_1",
        "PPFD_BC_IN_10_1_1",
        "PPFD_BC_IN_11_1_1",
        "PPFD_BC_IN_12_1_1",
        "PPFD_BC_IN_13_1_1",
        "PPFD_BC_IN_14_1_1",
        "PPFD_BC_IN_15_1_1",
        "PPFD_BC_IN_16_1_1",
        "PPFD_BC_IN_17_1_1",
        "PPFD_BC_IN_18_1_1",
        "PPFD_BC_IN_19_1_1",
        "PPFD_BC_IN_1_1_1",
        "PPFD_BC_IN_20_1_1",
        "PPFD_BC_IN_21_1_1",
        "PPFD_BC_IN_22_1_1",
        "PPFD_BC_IN_23_1_1",
        "PPFD_BC_IN_24_1_1",
        "PPFD_BC_IN_25_1_1",
        "PPFD_BC_IN_26_1_1",
        "PPFD_BC_IN_27_1_1",
        "PPFD_BC_IN_28_1_1",
        "PPFD_BC_IN_29_1_1",
        "PPFD_BC_IN_2_1_1",
        "PPFD_BC_IN_30_1_1",
        "PPFD_BC_IN_31_1_1",
        "PPFD_BC_IN_32_1_1",
        "PPFD_BC_IN_33_1_1",
        "PPFD_BC_IN_34_1_1",
        "PPFD_BC_IN_35_1_1",
        "PPFD_BC_IN_36_1_1",
        "PPFD_BC_IN_37_1_1",
        "PPFD_BC_IN_38_1_1",
        "PPFD_BC_IN_39_1_1",
        "PPFD_BC_IN_3_1_1",
        "PPFD_BC_IN_40_1_1",
        "PPFD_BC_IN_41_1_1",
        "PPFD_BC_IN_42_1_1",
        "PPFD_BC_IN_43_1_1",
        "PPFD_BC_IN_44_1_1",
        "PPFD_BC_IN_4_1_1",
        "PPFD_BC_IN_5_1_1",
        "PPFD_BC_IN_6_1_1",
        "PPFD_BC_IN_7_1_1",
        "PPFD_BC_IN_8_1_1",
        "PPFD_BC_IN_9_1_1",
        "PPFD_DIF_1_1_1",
        "PPFD_IN_1_1_1",
        "PPFD_IN_1_1_2",
        "PPFD_OUT_1_1_1",
        "P_1_1_1",
        "P_2_1_1",
        "P_3_1_1",
        "RH_1_1_1",
        "RH_1_2_1",
        "RH_2_1_1",
        "SG_11_1_1",
        "SG_12_1_1",
        "SG_13_1_1",
        "SG_14_1_1",
        "SWC_11_1_1",
        "SWC_11_2_1",
        "SWC_11_3_1",
        "SWC_11_4_1",
        "SWC_11_5_1",
        "SWC_11_6_1",
        "SWC_12_1_1",
        "SWC_12_2_1",
        "SWC_12_3_1",
        "SWC_12_4_1",
        "SWC_12_5_1",
        "SWC_12_6_1",
        "SWC_13_1_1",
        "SWC_13_2_1",
        "SWC_13_3_1",
        "SWC_13_4_1",
        "SWC_13_5_1",
        "SWC_13_6_1",
        "SWC_14_1_1",
        "SWC_14_2_1",
        "SWC_14_3_1",
        "SWC_14_4_1",
        "SWC_14_5_1",
        "SWC_14_6_1",
        "SW_DIF_1_1_1",
        "SW_IN_1_1_1",
        "SW_IN_1_1_2",
        "SW_IN_2_1_1",
        "SW_OUT_1_1_1",
        "SW_OUT_2_1_1",
        "TA_1_10_1",
        "TA_1_11_1",
        "TA_1_12_1",
        "TA_1_13_1",
        "TA_1_1_1",
        "TA_1_2_1",
        "TA_1_2_2",
        "TA_1_3_1",
        "TA_1_4_1",
        "TA_1_5_1",
        "TA_1_6_1",
        "TA_1_7_1",
        "TA_1_8_1",
        "TA_1_9_1",
        "TA_2_1_1",
        "TS_11_1_1",
        "TS_11_2_1",
        "TS_11_3_1",
        "TS_11_4_1",
        "TS_11_5_1",
        "TS_11_6_1",
        "TS_11_7_1",
        "TS_12_1_1",
        "TS_12_2_1",
        "TS_12_3_1",
        "TS_12_4_1",
        "TS_12_5_1",
        "TS_12_6_1",
        "TS_12_7_1",
        "TS_13_1_1",
        "TS_13_2_1",
        "TS_13_3_1",
        "TS_13_4_1",
        "TS_13_5_1",
        "TS_13_6_1",
        "TS_13_7_1",
        "TS_14_1_1",
        "TS_14_2_1",
        "TS_14_3_1",
        "TS_14_4_1",
        "TS_14_5_1",
        "TS_14_6_1",
        "TS_14_7_1",
        "VPD_1_1_1",
        "VPD_1_2_1",
        "VPD_2_1_1",
        "WD_1_1_1",
        "WD_2_1_1",
        "WS_1_1_1",
        "WS_2_1_1"
       ],
       "index": 17,
       "layout": "IPY_MODEL_1a2e98004e6f4714bd92e78996db269d",
       "style": "IPY_MODEL_2401695130974e609d8f58e7bff7d738"
      }
     },
     "d7abbc2edf614ab284500182b833d49b": {
      "model_module": "@jupyter-widgets/controls",
      "model_module_version": "2.0.0",
      "model_name": "CheckboxStyleModel",
      "state": {
       "description_width": ""
      }
     },
     "d825deea729f4282ab5410eba70f04f3": {
      "model_module": "@jupyter-widgets/controls",
      "model_module_version": "2.0.0",
      "model_name": "CheckboxStyleModel",
      "state": {
       "description_width": ""
      }
     },
     "d85c9d7840334a189d8ef7db44c289fc": {
      "model_module": "@jupyter-widgets/base",
      "model_module_version": "2.0.0",
      "model_name": "LayoutModel",
      "state": {
       "width": "160px"
      }
     },
     "d8995fd1f9de4448873cefd8aff513ea": {
      "model_module": "@jupyter-widgets/base",
      "model_module_version": "2.0.0",
      "model_name": "LayoutModel",
      "state": {
       "width": "160px"
      }
     },
     "d9430060593743afba121fb1a60e2ec7": {
      "model_module": "@jupyter-widgets/controls",
      "model_module_version": "2.0.0",
      "model_name": "CheckboxModel",
      "state": {
       "description": "SWC_11_6_1",
       "disabled": false,
       "indent": false,
       "layout": "IPY_MODEL_9a5979724ddb4d95afb2f856a7ee857f",
       "style": "IPY_MODEL_da3e5171124f425493aa66de8b390ad5",
       "value": false
      }
     },
     "d9b792006c334f33a0a0113cb9540fcf": {
      "model_module": "@jupyter-widgets/controls",
      "model_module_version": "2.0.0",
      "model_name": "CheckboxModel",
      "state": {
       "description": "TS_12_6_1",
       "disabled": false,
       "indent": false,
       "layout": "IPY_MODEL_52382b322545421589bff0ad7c0770d6",
       "style": "IPY_MODEL_6ee1bd9a70744b6590cc9db75c17a6b7",
       "value": false
      }
     },
     "da3e5171124f425493aa66de8b390ad5": {
      "model_module": "@jupyter-widgets/controls",
      "model_module_version": "2.0.0",
      "model_name": "CheckboxStyleModel",
      "state": {
       "description_width": ""
      }
     },
     "da8d17c9d56d46dd8ee8d94bbf494e26": {
      "model_module": "@jupyter-widgets/controls",
      "model_module_version": "2.0.0",
      "model_name": "CheckboxModel",
      "state": {
       "description": "SG_13_1_1",
       "disabled": false,
       "indent": false,
       "layout": "IPY_MODEL_bdbb37ee12fa4c22b9e48957cd35b966",
       "style": "IPY_MODEL_1cbfabec129a45469df4407f0c334fc3",
       "value": false
      }
     },
     "dae006c9e20a415a975d7b732f539ec5": {
      "model_module": "@jupyter-widgets/controls",
      "model_module_version": "2.0.0",
      "model_name": "CheckboxModel",
      "state": {
       "description": "SWC_12_2_1",
       "disabled": false,
       "indent": false,
       "layout": "IPY_MODEL_04c537c8e42d449eba5f8639c5464d7c",
       "style": "IPY_MODEL_7b081b0202f0419994ccbfadcea8818a",
       "value": false
      }
     },
     "db036f551eda408ea4810f9ecc22e0cc": {
      "model_module": "@jupyter-widgets/controls",
      "model_module_version": "2.0.0",
      "model_name": "CheckboxModel",
      "state": {
       "description": "TS_11_3_1",
       "disabled": false,
       "indent": false,
       "layout": "IPY_MODEL_5e6e726bd26e42ff985781d305ce16d2",
       "style": "IPY_MODEL_b379f316636f469684b11315ca2cfd70",
       "value": false
      }
     },
     "db682ba10b4d478290c933f80f929f77": {
      "model_module": "@jupyter-widgets/controls",
      "model_module_version": "2.0.0",
      "model_name": "CheckboxStyleModel",
      "state": {
       "description_width": ""
      }
     },
     "dbb663c7d6d84611b5aaf4a5f068f15e": {
      "model_module": "@jupyter-widgets/controls",
      "model_module_version": "2.0.0",
      "model_name": "CheckboxModel",
      "state": {
       "description": "WD_1_1_1",
       "disabled": false,
       "indent": false,
       "layout": "IPY_MODEL_eece821f72be4e6d8cc50515e8842733",
       "style": "IPY_MODEL_efdf074dadbf4e769d97c736cdab475d",
       "value": false
      }
     },
     "dbd1418a6162465d9b219a4651368400": {
      "model_module": "@jupyter-widgets/controls",
      "model_module_version": "2.0.0",
      "model_name": "CheckboxModel",
      "state": {
       "description": "PPFD_BC_IN_39_1_1",
       "disabled": false,
       "indent": false,
       "layout": "IPY_MODEL_043508ed310148d881be5d776a487148",
       "style": "IPY_MODEL_bef84266f09c4805bd9c721ab5a2a03b",
       "value": false
      }
     },
     "dc6f8be5a3f74c6284bb51ec06919583": {
      "model_module": "@jupyter-widgets/controls",
      "model_module_version": "2.0.0",
      "model_name": "HBoxModel",
      "state": {
       "children": [
        "IPY_MODEL_030079e231fc48c5853715288668fa0f",
        "IPY_MODEL_abf1e94ae5dc4a928012823112c043d0"
       ],
       "layout": "IPY_MODEL_f20ba0dd563348f8b83cf8cea23b3f6e"
      }
     },
     "dc730f15a3194c61844f397eec606249": {
      "model_module": "@jupyter-widgets/controls",
      "model_module_version": "2.0.0",
      "model_name": "CheckboxStyleModel",
      "state": {
       "description_width": ""
      }
     },
     "dc8e32d70bd84a7a91a3f266b5fbb5a6": {
      "model_module": "@jupyter-widgets/controls",
      "model_module_version": "2.0.0",
      "model_name": "AccordionModel",
      "state": {
       "children": [
        "IPY_MODEL_56d1155f421e4b319c2d7ff45061a285"
       ],
       "layout": "IPY_MODEL_08b4f698c3e84360a446324d7e8aa8cd",
       "selected_index": 0,
       "titles": [
        "Content of group Group 1"
       ]
      }
     },
     "dd33f00a16054deeb43ec0f3ff01e63d": {
      "model_module": "@jupyter-widgets/controls",
      "model_module_version": "2.0.0",
      "model_name": "CheckboxStyleModel",
      "state": {
       "description_width": ""
      }
     },
     "ddfaa3ef5b1c49b595fde726fb5bd0f6": {
      "model_module": "@jupyter-widgets/base",
      "model_module_version": "2.0.0",
      "model_name": "LayoutModel",
      "state": {
       "width": "160px"
      }
     },
     "de269fb32ecf4865bca2569f2922f681": {
      "model_module": "@jupyter-widgets/base",
      "model_module_version": "2.0.0",
      "model_name": "LayoutModel",
      "state": {
       "width": "160px"
      }
     },
     "de6a8c7b0e0948fd8775fdb7a65f33b2": {
      "model_module": "@jupyter-widgets/base",
      "model_module_version": "2.0.0",
      "model_name": "LayoutModel",
      "state": {
       "width": "160px"
      }
     },
     "de8e9ec5adb84662a9e81013f8f3bd75": {
      "model_module": "@jupyter-widgets/controls",
      "model_module_version": "2.0.0",
      "model_name": "CheckboxModel",
      "state": {
       "description": "SW_DIF_1_1_1",
       "disabled": false,
       "indent": false,
       "layout": "IPY_MODEL_eb99523fb4924b9998672646e9f57a26",
       "style": "IPY_MODEL_7803b340aa8c46ffa619f1778a29ad90",
       "value": false
      }
     },
     "de8efc458d3349be8e7c8d0e3df3d081": {
      "model_module": "@jupyter-widgets/controls",
      "model_module_version": "2.0.0",
      "model_name": "CheckboxModel",
      "state": {
       "description": "SWC_14_6_1",
       "disabled": false,
       "indent": false,
       "layout": "IPY_MODEL_df3b7699f13b4807ae665a2107734fc4",
       "style": "IPY_MODEL_48b76890f36941f28b9e1935f7a0dc22",
       "value": false
      }
     },
     "dee96a3507c248ea959c4cd2843d1537": {
      "model_module": "@jupyter-widgets/base",
      "model_module_version": "2.0.0",
      "model_name": "LayoutModel",
      "state": {
       "height": "30px",
       "width": "148pt"
      }
     },
     "df3b7699f13b4807ae665a2107734fc4": {
      "model_module": "@jupyter-widgets/base",
      "model_module_version": "2.0.0",
      "model_name": "LayoutModel",
      "state": {
       "width": "160px"
      }
     },
     "df6c1719283f4486bac66c1e70c20e8f": {
      "model_module": "@jupyter-widgets/controls",
      "model_module_version": "2.0.0",
      "model_name": "CheckboxModel",
      "state": {
       "description": "PPFD_BC_IN_2_1_1",
       "disabled": false,
       "indent": false,
       "layout": "IPY_MODEL_92245fe7bfd4429885ecb3e8918598ae",
       "style": "IPY_MODEL_1e4a82c7ca1746e18bd01a47cacaeb86",
       "value": false
      }
     },
     "dfd8cc4695c74119b3fc6222ab9dc923": {
      "model_module": "@jupyter-widgets/base",
      "model_module_version": "2.0.0",
      "model_name": "LayoutModel",
      "state": {
       "width": "160px"
      }
     },
     "dff23b637242426d9977c924a4bb4cff": {
      "model_module": "@jupyter-widgets/controls",
      "model_module_version": "2.0.0",
      "model_name": "CheckboxModel",
      "state": {
       "description": "H2O",
       "disabled": false,
       "indent": false,
       "layout": "IPY_MODEL_ddfaa3ef5b1c49b595fde726fb5bd0f6",
       "style": "IPY_MODEL_6d8d6cb5512d479c878f1808645211c4",
       "value": false
      }
     },
     "e08338c536474fd3ba6a6e6e95bf7ef3": {
      "model_module": "@jupyter-widgets/base",
      "model_module_version": "2.0.0",
      "model_name": "LayoutModel",
      "state": {
       "width": "160px"
      }
     },
     "e1d6e79833bc4f1992f41c0c429db9e0": {
      "model_module": "@jupyter-widgets/controls",
      "model_module_version": "2.0.0",
      "model_name": "CheckboxStyleModel",
      "state": {
       "description_width": ""
      }
     },
     "e1fe9a4aa0c14ac6b77de9e67fc88444": {
      "model_module": "@jupyter-widgets/base",
      "model_module_version": "2.0.0",
      "model_name": "LayoutModel",
      "state": {
       "width": "100px"
      }
     },
     "e21c492bea2745cf8d84cc0f7024afa6": {
      "model_module": "@jupyter-widgets/controls",
      "model_module_version": "2.0.0",
      "model_name": "CheckboxModel",
      "state": {
       "description": "PPFD_BC_IN_36_1_1",
       "disabled": false,
       "indent": false,
       "layout": "IPY_MODEL_c56d9dfdceae44b79bf4da8daa5c95e4",
       "style": "IPY_MODEL_9b5cf4d5278a4947a733af9da61fe6f6",
       "value": false
      }
     },
     "e280fbc0327841ff968f8130b9b4f338": {
      "model_module": "@jupyter-widgets/base",
      "model_module_version": "2.0.0",
      "model_name": "LayoutModel",
      "state": {
       "width": "100px"
      }
     },
     "e2e9c5ce974948fc8aefd2257da1aaa8": {
      "model_module": "@jupyter-widgets/output",
      "model_module_version": "1.0.0",
      "model_name": "OutputModel",
      "state": {
       "layout": "IPY_MODEL_541d35a71fd4415db0902c81859c084e"
      }
     },
     "e381ecdcddc94ceb8fc04f1a5ab1e25d": {
      "model_module": "@jupyter-widgets/base",
      "model_module_version": "2.0.0",
      "model_name": "LayoutModel",
      "state": {}
     },
     "e51945c8a10f4f0e897d1a9511fe4f1b": {
      "model_module": "@jupyter-widgets/controls",
      "model_module_version": "2.0.0",
      "model_name": "CheckboxModel",
      "state": {
       "description": "NEE_UNCLEANED",
       "disabled": false,
       "indent": false,
       "layout": "IPY_MODEL_6c5309bb069a4024afacd4be71f195da",
       "style": "IPY_MODEL_1868c54d8018438ab3595f583526eebb",
       "value": true
      }
     },
     "e51e8982e9234908be512042e75ba2f0": {
      "model_module": "@jupyter-widgets/base",
      "model_module_version": "2.0.0",
      "model_name": "LayoutModel",
      "state": {
       "width": "160px"
      }
     },
     "e53e58c620b74eed836e59c4c33627b3": {
      "model_module": "@jupyter-widgets/base",
      "model_module_version": "2.0.0",
      "model_name": "LayoutModel",
      "state": {
       "height": "100%",
       "max_width": "90%",
       "min_width": "70%",
       "width": "auto"
      }
     },
     "e590b6d1f9fb48e3b9ea9d5b8e5d23da": {
      "model_module": "@jupyter-widgets/controls",
      "model_module_version": "2.0.0",
      "model_name": "DescriptionStyleModel",
      "state": {
       "description_width": ""
      }
     },
     "e641043ef28c4f4cb9f663e642183a89": {
      "model_module": "@jupyter-widgets/controls",
      "model_module_version": "2.0.0",
      "model_name": "CheckboxStyleModel",
      "state": {
       "description_width": ""
      }
     },
     "e7161d0ba08f45d096d03f856d941f66": {
      "model_module": "@jupyter-widgets/base",
      "model_module_version": "2.0.0",
      "model_name": "LayoutModel",
      "state": {
       "width": "160px"
      }
     },
     "e75b31e246a34660b0f847fee615de22": {
      "model_module": "@jupyter-widgets/base",
      "model_module_version": "2.0.0",
      "model_name": "LayoutModel",
      "state": {
       "width": "160px"
      }
     },
     "e77a7492c9844895b88ebed8dc54b361": {
      "model_module": "@jupyter-widgets/base",
      "model_module_version": "2.0.0",
      "model_name": "LayoutModel",
      "state": {
       "width": "160px"
      }
     },
     "e77c7834196e48d79ed5934d24bb3386": {
      "model_module": "@jupyter-widgets/controls",
      "model_module_version": "2.0.0",
      "model_name": "HBoxModel",
      "state": {
       "children": [
        "IPY_MODEL_9d526c3ef1064686ac42ed8b2329c3fb",
        "IPY_MODEL_1da7669a5d8f4215a529c0ac61a4f80a",
        "IPY_MODEL_ee39d69014634f5b9202dd1d6a5d862e"
       ],
       "layout": "IPY_MODEL_29c0b123a30846f48ef5465e6e99e638"
      }
     },
     "e7cb4abca7a94726abf39289ff9dfea1": {
      "model_module": "@jupyter-widgets/base",
      "model_module_version": "2.0.0",
      "model_name": "LayoutModel",
      "state": {
       "width": "160px"
      }
     },
     "e83c9fd59602498d9013a705ddf5c875": {
      "model_module": "@jupyter-widgets/controls",
      "model_module_version": "2.0.0",
      "model_name": "CheckboxStyleModel",
      "state": {
       "description_width": ""
      }
     },
     "e845d44ff0b24892aefa4afe64c1d60d": {
      "model_module": "@jupyter-widgets/controls",
      "model_module_version": "2.0.0",
      "model_name": "ButtonStyleModel",
      "state": {
       "font_family": null,
       "font_size": null,
       "font_style": null,
       "font_variant": null,
       "font_weight": null,
       "text_color": null,
       "text_decoration": null
      }
     },
     "e86135d677254689b93d0249d0afc861": {
      "model_module": "@jupyter-widgets/base",
      "model_module_version": "2.0.0",
      "model_name": "LayoutModel",
      "state": {
       "height": "100%",
       "max_width": "90%",
       "width": "auto"
      }
     },
     "e8f5cb17aa3543fd9410be6289a9648c": {
      "model_module": "@jupyter-widgets/controls",
      "model_module_version": "2.0.0",
      "model_name": "HTMLStyleModel",
      "state": {
       "description_width": "",
       "font_size": null,
       "text_color": "darkgreen"
      }
     },
     "e905ae7abe6346d2b88e34738251ce04": {
      "model_module": "@jupyter-widgets/controls",
      "model_module_version": "2.0.0",
      "model_name": "HTMLModel",
      "state": {
       "layout": "IPY_MODEL_ed632bfb9afc4ec59690ca8e765b298d",
       "style": "IPY_MODEL_8e47f4574bdb40b8956911278fe08451"
      }
     },
     "e9526c7826c041c0b9348e5188a2fd54": {
      "model_module": "@jupyter-widgets/base",
      "model_module_version": "2.0.0",
      "model_name": "LayoutModel",
      "state": {}
     },
     "e9c14fcd0fa14fb98bf3c773185cf4a2": {
      "model_module": "@jupyter-widgets/controls",
      "model_module_version": "2.0.0",
      "model_name": "VBoxModel",
      "state": {
       "children": [
        "IPY_MODEL_095a0f385751459c8321ace325dd853c",
        "IPY_MODEL_1b1fa5ab2f88497383e65af25375a823"
       ],
       "layout": "IPY_MODEL_886ab5c4eb6f4e1f8c31932fd9ac1b45"
      }
     },
     "e9dfee2d49334ac38f523323976b5257": {
      "model_module": "@jupyter-widgets/controls",
      "model_module_version": "2.0.0",
      "model_name": "CheckboxModel",
      "state": {
       "description": "TA_1_4_1",
       "disabled": false,
       "indent": false,
       "layout": "IPY_MODEL_65046ef649604a2589de072ad8dcb3d8",
       "style": "IPY_MODEL_0c255c9cb765469c89a29c4141d779d6",
       "value": false
      }
     },
     "e9ea7de3a88d4aa3926f660114b6b28f": {
      "model_module": "@jupyter-widgets/base",
      "model_module_version": "2.0.0",
      "model_name": "LayoutModel",
      "state": {
       "width": "160px"
      }
     },
     "ea20da79bf794a13956f2da3ba140115": {
      "model_module": "@jupyter-widgets/controls",
      "model_module_version": "2.0.0",
      "model_name": "CheckboxStyleModel",
      "state": {
       "description_width": ""
      }
     },
     "eaa755ec5176417aa4e092b35aa9e95e": {
      "model_module": "@jupyter-widgets/controls",
      "model_module_version": "2.0.0",
      "model_name": "CheckboxStyleModel",
      "state": {
       "description_width": ""
      }
     },
     "eae01073e3cd44f2bac4fb42c1f64b41": {
      "model_module": "@jupyter-widgets/base",
      "model_module_version": "2.0.0",
      "model_name": "LayoutModel",
      "state": {}
     },
     "eb1bfe0b5ab54def8654179447cd4546": {
      "model_module": "@jupyter-widgets/base",
      "model_module_version": "2.0.0",
      "model_name": "LayoutModel",
      "state": {
       "width": "160px"
      }
     },
     "eb3a21afba084ffc84b52c389464aa41": {
      "model_module": "@jupyter-widgets/base",
      "model_module_version": "2.0.0",
      "model_name": "LayoutModel",
      "state": {
       "width": "160px"
      }
     },
     "eb7f16bc73824b3cbf69647466042b74": {
      "model_module": "@jupyter-widgets/controls",
      "model_module_version": "2.0.0",
      "model_name": "CheckboxModel",
      "state": {
       "description": "PPFD_BC_IN_21_1_1",
       "disabled": false,
       "indent": false,
       "layout": "IPY_MODEL_1ec0c90763684ae8b03bf89ed46bc262",
       "style": "IPY_MODEL_9797ef46590042ffbdb1aadd572ffd47",
       "value": false
      }
     },
     "eb99523fb4924b9998672646e9f57a26": {
      "model_module": "@jupyter-widgets/base",
      "model_module_version": "2.0.0",
      "model_name": "LayoutModel",
      "state": {
       "width": "160px"
      }
     },
     "ebec1876c2ad438588e8b150344b337b": {
      "model_module": "@jupyter-widgets/controls",
      "model_module_version": "2.0.0",
      "model_name": "CheckboxModel",
      "state": {
       "description": "PPFD_BC_IN_15_1_1",
       "disabled": false,
       "indent": false,
       "layout": "IPY_MODEL_dfd8cc4695c74119b3fc6222ab9dc923",
       "style": "IPY_MODEL_bf3ddac04d42466fa54633e431ee66bc",
       "value": true
      }
     },
     "ec69c9adbbe94dbe8c0d1b88f0c0d702": {
      "model_module": "@jupyter-widgets/controls",
      "model_module_version": "2.0.0",
      "model_name": "CheckboxStyleModel",
      "state": {
       "description_width": ""
      }
     },
     "ed29c61b3ee64e5b996569ae99e3c9fc": {
      "model_module": "@jupyter-widgets/base",
      "model_module_version": "2.0.0",
      "model_name": "LayoutModel",
      "state": {}
     },
     "ed415568a6e24ce4afab0627050a7f2f": {
      "model_module": "@jupyter-widgets/controls",
      "model_module_version": "2.0.0",
      "model_name": "VBoxModel",
      "state": {
       "children": [
        "IPY_MODEL_e77c7834196e48d79ed5934d24bb3386",
        "IPY_MODEL_a373630117f64c5fa80b3b6a09fb818f",
        "IPY_MODEL_356b6b31c519489c9e4828318c949cfb",
        "IPY_MODEL_e2e9c5ce974948fc8aefd2257da1aaa8"
       ],
       "layout": "IPY_MODEL_d3e443d30c1941b291233d194da3a97d"
      }
     },
     "ed601f66e4174ff2ad221ce0121809ad": {
      "model_module": "@jupyter-widgets/controls",
      "model_module_version": "2.0.0",
      "model_name": "CheckboxModel",
      "state": {
       "description": "SWC_13_1_1",
       "disabled": false,
       "indent": false,
       "layout": "IPY_MODEL_19fc154da6184a9dab43a546dd619898",
       "style": "IPY_MODEL_acc8120d50ba47ee9c1fc7c13a6008ba",
       "value": false
      }
     },
     "ed632bfb9afc4ec59690ca8e765b298d": {
      "model_module": "@jupyter-widgets/base",
      "model_module_version": "2.0.0",
      "model_name": "LayoutModel",
      "state": {
       "width": "5%"
      }
     },
     "ed74cb6a9e7d4245aff45fb142158585": {
      "model_module": "@jupyter-widgets/controls",
      "model_module_version": "2.0.0",
      "model_name": "CheckboxModel",
      "state": {
       "description": "SG_11_1_1",
       "disabled": false,
       "indent": false,
       "layout": "IPY_MODEL_88f919bbb1e84bd98318a26023cef8d7",
       "style": "IPY_MODEL_eaa755ec5176417aa4e092b35aa9e95e",
       "value": false
      }
     },
     "ed8467b54beb418f9066710c93b1d609": {
      "model_module": "@jupyter-widgets/controls",
      "model_module_version": "2.0.0",
      "model_name": "CheckboxModel",
      "state": {
       "description": "SWC_11_2_1",
       "disabled": false,
       "indent": false,
       "layout": "IPY_MODEL_2089b91903bb499b9fb2330ec5c65dbf",
       "style": "IPY_MODEL_1e41763cdbd34ca085f5a6f9e1ac9ef5",
       "value": false
      }
     },
     "eddba62f6691484492746a19c9e1fc85": {
      "model_module": "@jupyter-widgets/controls",
      "model_module_version": "2.0.0",
      "model_name": "CheckboxModel",
      "state": {
       "description": "SWC_12_3_1",
       "disabled": false,
       "indent": false,
       "layout": "IPY_MODEL_bf0fe99ab4494081af7172aeb9c510af",
       "style": "IPY_MODEL_262b2cba46414973a8002238cbb056d6",
       "value": false
      }
     },
     "ee28f9cf4d56450a9aa73d830b5f2a01": {
      "model_module": "@jupyter-widgets/controls",
      "model_module_version": "2.0.0",
      "model_name": "CheckboxModel",
      "state": {
       "description": "SG_14_1_1",
       "disabled": false,
       "indent": false,
       "layout": "IPY_MODEL_180f0389f0144894b69d5a3d5643b437",
       "style": "IPY_MODEL_b37cc1531d104e8a9e6dfa536dedafc5",
       "value": false
      }
     },
     "ee39d69014634f5b9202dd1d6a5d862e": {
      "model_module": "@jupyter-widgets/controls",
      "model_module_version": "2.0.0",
      "model_name": "ButtonModel",
      "state": {
       "button_style": "success",
       "description": "Run",
       "icon": "area-chart",
       "layout": "IPY_MODEL_e9526c7826c041c0b9348e5188a2fd54",
       "style": "IPY_MODEL_e845d44ff0b24892aefa4afe64c1d60d",
       "tooltip": null
      }
     },
     "eece821f72be4e6d8cc50515e8842733": {
      "model_module": "@jupyter-widgets/base",
      "model_module_version": "2.0.0",
      "model_name": "LayoutModel",
      "state": {
       "width": "160px"
      }
     },
     "eecfc50d7d5144f99c9261a9900eddc3": {
      "model_module": "@jupyter-widgets/controls",
      "model_module_version": "2.0.0",
      "model_name": "CheckboxModel",
      "state": {
       "description": "TA_1_2_2",
       "disabled": false,
       "indent": false,
       "layout": "IPY_MODEL_ac1c5e9ee745486c9da0d07f674181f0",
       "style": "IPY_MODEL_2b7bc5b57fde44e6ad101a0e9c083533",
       "value": false
      }
     },
     "ef233fd6599a4f69baf96f205fbda04e": {
      "model_module": "@jupyter-widgets/controls",
      "model_module_version": "2.0.0",
      "model_name": "CheckboxModel",
      "state": {
       "description": "TA_1_11_1",
       "disabled": false,
       "indent": false,
       "layout": "IPY_MODEL_1064381f9a48496793709329d9dbe077",
       "style": "IPY_MODEL_530ae853e37d40519fd6bcc785516ae0",
       "value": false
      }
     },
     "ef992b8d2f694818b725cab98230d2ee": {
      "model_module": "@jupyter-widgets/controls",
      "model_module_version": "2.0.0",
      "model_name": "CheckboxModel",
      "state": {
       "description": "LW_IN_1_1_1",
       "disabled": false,
       "indent": false,
       "layout": "IPY_MODEL_053a07b934fc4f339b567720d394fac8",
       "style": "IPY_MODEL_65d31c92c4c340eb8ad6cc5965b2be5b",
       "value": false
      }
     },
     "efdf074dadbf4e769d97c736cdab475d": {
      "model_module": "@jupyter-widgets/controls",
      "model_module_version": "2.0.0",
      "model_name": "CheckboxStyleModel",
      "state": {
       "description_width": ""
      }
     },
     "f01adc63228444e79a9191431fa0b47b": {
      "model_module": "@jupyter-widgets/controls",
      "model_module_version": "2.0.0",
      "model_name": "CheckboxModel",
      "state": {
       "description": "PPFD_BC_IN_12_1_1",
       "disabled": false,
       "indent": false,
       "layout": "IPY_MODEL_c72e83faced142208c2cd3a2bec67458",
       "style": "IPY_MODEL_54e367ee7c4c4de9b7f5a54c7d1ddad4",
       "value": true
      }
     },
     "f0206cd1dafd4d63b4bacccbe2c0337e": {
      "model_module": "@jupyter-widgets/controls",
      "model_module_version": "2.0.0",
      "model_name": "HTMLModel",
      "state": {
       "layout": "IPY_MODEL_e53e58c620b74eed836e59c4c33627b3",
       "style": "IPY_MODEL_e8f5cb17aa3543fd9410be6289a9648c",
       "value": "NEE_UNCLEANED, SC, TAU, USTAR, W_SIGMA, ZL, LE_UNCLEANED, LW_OUT_1_1_1, LW_OUT_2_1_1, PA_1_1_1, PA_2_1_1, PPFD_BC_IN_10_1_1, PPFD_BC_IN_11_1_1, PPFD_BC_IN_12_1_1, PPFD_BC_IN_13_1_1, PPFD_BC_IN_14_1_1, PPFD_BC_IN_15_1_1, PPFD_BC_IN_16_1_1<br><hr><hr><i>Where the variables </i><b>NEE_UNCLEANED</b>, <b>SC</b>, <b>TAU</b>, <b>USTAR</b>, <b>W_SIGMA</b>, <b>ZL</b> and <b>LE_UNCLEANED</b> are from <i>ETC NRT Fluxes</i>,<br>while <b>LW_OUT_1_1_1</b>, <b>LW_OUT_2_1_1</b>, <b>PA_1_1_1</b>, <b>PA_2_1_1</b>, <b>PPFD_BC_IN_10_1_1</b>, <b>PPFD_BC_IN_11_1_1</b>, <b>PPFD_BC_IN_12_1_1</b>, <b>PPFD_BC_IN_13_1_1</b>, <b>PPFD_BC_IN_14_1_1</b>, <b>PPFD_BC_IN_15_1_1</b> and <b>PPFD_BC_IN_16_1_1</b> are from <i>ETC NRT Meteosens</i> of the station <i>Hohes Holz (DE-HoH)</i>"
      }
     },
     "f06f52a2f729421cb8ceaeedfb826542": {
      "model_module": "@jupyter-widgets/base",
      "model_module_version": "2.0.0",
      "model_name": "LayoutModel",
      "state": {
       "width": "160px"
      }
     },
     "f08dc53f341242788e714102001d5c77": {
      "model_module": "@jupyter-widgets/controls",
      "model_module_version": "2.0.0",
      "model_name": "CheckboxStyleModel",
      "state": {
       "description_width": ""
      }
     },
     "f125e71fa1e24a57ab70d9a14f2cb033": {
      "model_module": "@jupyter-widgets/controls",
      "model_module_version": "2.0.0",
      "model_name": "CheckboxModel",
      "state": {
       "description": "PPFD_BC_IN_20_1_1",
       "disabled": false,
       "indent": false,
       "layout": "IPY_MODEL_fa5ede0079104b13aab7e89c53c68a41",
       "style": "IPY_MODEL_8367dc4b1a2b4439adcb2a830b5f494b",
       "value": false
      }
     },
     "f19c3795adc34eb89a38114878bc274e": {
      "model_module": "@jupyter-widgets/base",
      "model_module_version": "2.0.0",
      "model_name": "LayoutModel",
      "state": {
       "width": "160px"
      }
     },
     "f1af137ee86942f3b8fbbf5968b6a533": {
      "model_module": "@jupyter-widgets/base",
      "model_module_version": "2.0.0",
      "model_name": "LayoutModel",
      "state": {
       "width": "160px"
      }
     },
     "f20ba0dd563348f8b83cf8cea23b3f6e": {
      "model_module": "@jupyter-widgets/base",
      "model_module_version": "2.0.0",
      "model_name": "LayoutModel",
      "state": {}
     },
     "f377be17394b45a685bdd06f5b894d45": {
      "model_module": "@jupyter-widgets/controls",
      "model_module_version": "2.0.0",
      "model_name": "CheckboxStyleModel",
      "state": {
       "description_width": ""
      }
     },
     "f3a694d8369b438d8d0ef9d8bf3b65f5": {
      "model_module": "@jupyter-widgets/base",
      "model_module_version": "2.0.0",
      "model_name": "LayoutModel",
      "state": {
       "width": "160px"
      }
     },
     "f3b063f1b98f4b24b55ec51c6afb3087": {
      "model_module": "@jupyter-widgets/controls",
      "model_module_version": "2.0.0",
      "model_name": "CheckboxStyleModel",
      "state": {
       "description_width": ""
      }
     },
     "f3b9cc762cd34f9e9b217bdf55ada47b": {
      "model_module": "@jupyter-widgets/controls",
      "model_module_version": "2.0.0",
      "model_name": "CheckboxStyleModel",
      "state": {
       "description_width": ""
      }
     },
     "f4470f0f0bd1463db99d99de26b6d449": {
      "model_module": "@jupyter-widgets/controls",
      "model_module_version": "2.0.0",
      "model_name": "CheckboxModel",
      "state": {
       "description": "PPFD_OUT_1_1_1",
       "disabled": false,
       "indent": false,
       "layout": "IPY_MODEL_f19c3795adc34eb89a38114878bc274e",
       "style": "IPY_MODEL_5e53e10fea2b44eb8cf99abee9fe9201",
       "value": false
      }
     },
     "f4f7a2ce11c54749877960180fb6fa2c": {
      "model_module": "@jupyter-widgets/controls",
      "model_module_version": "2.0.0",
      "model_name": "CheckboxModel",
      "state": {
       "description": "LW_IN_2_1_1",
       "disabled": false,
       "indent": false,
       "layout": "IPY_MODEL_58cc88d8be1c4c6bbbd158461a772b95",
       "style": "IPY_MODEL_ec69c9adbbe94dbe8c0d1b88f0c0d702",
       "value": false
      }
     },
     "f4faf771a0e9425985fb3db22d26931b": {
      "model_module": "@jupyter-widgets/base",
      "model_module_version": "2.0.0",
      "model_name": "LayoutModel",
      "state": {
       "width": "160px"
      }
     },
     "f78738d2832443deac9c6b2f4d1ba998": {
      "model_module": "@jupyter-widgets/controls",
      "model_module_version": "2.0.0",
      "model_name": "CheckboxModel",
      "state": {
       "description": "TS_14_5_1",
       "disabled": false,
       "indent": false,
       "layout": "IPY_MODEL_68b07650dec342d989bca4a58128553a",
       "style": "IPY_MODEL_54658fa939c94fbabf5d6425cb491be0",
       "value": false
      }
     },
     "f841d2ce65e64a27b2c4f5361f7f9e9e": {
      "model_module": "@jupyter-widgets/base",
      "model_module_version": "2.0.0",
      "model_name": "LayoutModel",
      "state": {
       "width": "160px"
      }
     },
     "f991b513d3c749f3b4310f8e8a18def9": {
      "model_module": "@jupyter-widgets/base",
      "model_module_version": "2.0.0",
      "model_name": "LayoutModel",
      "state": {
       "width": "160px"
      }
     },
     "f994f7a8b013460b8125abb7377df3e8": {
      "model_module": "@jupyter-widgets/base",
      "model_module_version": "2.0.0",
      "model_name": "LayoutModel",
      "state": {
       "width": "160px"
      }
     },
     "fa0148fd6fbf475ebe6d8670e4096fde": {
      "model_module": "@jupyter-widgets/controls",
      "model_module_version": "2.0.0",
      "model_name": "CheckboxStyleModel",
      "state": {
       "description_width": ""
      }
     },
     "fa115f557522480bb2a27669de10dd20": {
      "model_module": "@jupyter-widgets/controls",
      "model_module_version": "2.0.0",
      "model_name": "ButtonStyleModel",
      "state": {
       "font_family": null,
       "font_size": null,
       "font_style": null,
       "font_variant": null,
       "font_weight": null,
       "text_color": null,
       "text_decoration": null
      }
     },
     "fa5ede0079104b13aab7e89c53c68a41": {
      "model_module": "@jupyter-widgets/base",
      "model_module_version": "2.0.0",
      "model_name": "LayoutModel",
      "state": {
       "width": "160px"
      }
     },
     "fadcf4978f0b4d14bde18ee3d6d853b2": {
      "model_module": "@jupyter-widgets/controls",
      "model_module_version": "2.0.0",
      "model_name": "DatePickerModel",
      "state": {
       "description": "Start date",
       "disabled": false,
       "layout": "IPY_MODEL_dee96a3507c248ea959c4cd2843d1537",
       "max": null,
       "min": null,
       "step": 1,
       "style": "IPY_MODEL_1a5fa7a94ff84c06a2b2d7b997f2110d",
       "value": {
        "date": 7,
        "month": 9,
        "year": 2023
       }
      }
     },
     "fafb3fb24c7c4cc8af7b16747c2dab1a": {
      "model_module": "@jupyter-widgets/base",
      "model_module_version": "2.0.0",
      "model_name": "LayoutModel",
      "state": {
       "width": "160px"
      }
     },
     "fb155f771e0c406ea3d534edb4b7a3c5": {
      "model_module": "@jupyter-widgets/base",
      "model_module_version": "2.0.0",
      "model_name": "LayoutModel",
      "state": {
       "width": "160px"
      }
     },
     "fb9da9e1d5a846488dd7cb0f410922ef": {
      "model_module": "@jupyter-widgets/controls",
      "model_module_version": "2.0.0",
      "model_name": "CheckboxModel",
      "state": {
       "description": "PPFD_BC_IN_24_1_1",
       "disabled": false,
       "indent": false,
       "layout": "IPY_MODEL_f06f52a2f729421cb8ceaeedfb826542",
       "style": "IPY_MODEL_f08dc53f341242788e714102001d5c77",
       "value": false
      }
     },
     "fb9f0cfa87c3478cb25708b6b46e537e": {
      "model_module": "@jupyter-widgets/controls",
      "model_module_version": "2.0.0",
      "model_name": "CheckboxModel",
      "state": {
       "description": "TA_1_10_1",
       "disabled": false,
       "indent": false,
       "layout": "IPY_MODEL_f4faf771a0e9425985fb3db22d26931b",
       "style": "IPY_MODEL_32d6488b6267409689ecbcd96e400611",
       "value": false
      }
     },
     "fc3049faee11490bb7c22ca93a732169": {
      "model_module": "@jupyter-widgets/base",
      "model_module_version": "2.0.0",
      "model_name": "LayoutModel",
      "state": {
       "width": "160px"
      }
     },
     "fc41acc193bf4d199779ec00611ccca8": {
      "model_module": "@jupyter-widgets/controls",
      "model_module_version": "2.0.0",
      "model_name": "CheckboxStyleModel",
      "state": {
       "description_width": ""
      }
     },
     "ff00fc9ed5f6435a83e8282467880646": {
      "model_module": "@jupyter-widgets/controls",
      "model_module_version": "2.0.0",
      "model_name": "CheckboxModel",
      "state": {
       "description": "TA_2_1_1",
       "disabled": false,
       "indent": false,
       "layout": "IPY_MODEL_0ad1f7e78d1d40998c8b24b4c3d21871",
       "style": "IPY_MODEL_7249cb65c2344553a7faadaf4259f8c2",
       "value": false
      }
     },
     "ff343db340684063a8c4cfba19276b72": {
      "model_module": "@jupyter-widgets/controls",
      "model_module_version": "2.0.0",
      "model_name": "CheckboxModel",
      "state": {
       "description": "TS_12_1_1",
       "disabled": false,
       "indent": false,
       "layout": "IPY_MODEL_6f4aa51c4833438bb2b2e12362b6b957",
       "style": "IPY_MODEL_5e95419fb56d4783b01da701cb5181dd",
       "value": false
      }
     },
     "ff481eeb37164e10ba4a7dab21e23f9f": {
      "model_module": "@jupyter-widgets/controls",
      "model_module_version": "2.0.0",
      "model_name": "CheckboxStyleModel",
      "state": {
       "description_width": ""
      }
     }
    },
    "version_major": 2,
    "version_minor": 0
   }
  }
 },
 "nbformat": 4,
 "nbformat_minor": 5
}
