{
 "cells": [
  {
   "cell_type": "markdown",
   "id": "15c5323c-bbe7-4043-afe7-9bbeb7a15e0d",
   "metadata": {},
   "source": [
    "<img src='https://www.icos-cp.eu/sites/default/files/2017-11/ICOS_CP_logo.png' width=400 align=right>\n",
    "\n",
    "# ICOS Carbon Portal NRT ECO analysis toolbox\n",
    "##### How to use it \n",
    " - In the ***Plot menu*** the user run reports using batch jobs or variables. \n",
    " - Under ***Batch jobs*** the user sets up different tools to analyse variables of a group of variables.\n",
    " - Groups of variables are created in the ***Group menu***.\n",
    "     - ***New user?*** By adding **\"+b\"** to the end of the group name, you will get an example batch job so you can see how some of the plots look like. It will appear as a button ***Batch example*** in the ***Plot-menu***.\n",
    " \n",
    "When setting up, or editing, a group of variables, or a batch job, the user will find guidance through the ***User guide***. \n",
    " \n",
    " \n",
    " - In ***Settings***, the user can manage various *default behaviour*, such as *Run configurations* or setup *templates for different plots*. Most settings are explained if needed.\n",
    "      \n",
    "More information is found in the ***Help menu***.  \n",
    " \n",
    "*Please note that the application is under construction*\n",
    "\n",
    "***To run:*** \n",
    "- Mark the cell below and press **Ctrl+Enter** or Hit the **Play** button.\n"
   ]
  },
  {
   "cell_type": "code",
   "execution_count": null,
   "id": "247a553a-e069-45d0-929c-56a24938f657",
   "metadata": {},
   "outputs": [],
   "source": [
    "from eco_tool import gui\n",
    "\n",
    "\n",
    "gui.AnalysisGui();"
   ]
  }
 ],
 "metadata": {
  "kernelspec": {
   "display_name": "Python 3 (ipykernel)",
   "language": "python",
   "name": "python3"
  },
  "language_info": {
   "codemirror_mode": {
    "name": "ipython",
    "version": 3
   },
   "file_extension": ".py",
   "mimetype": "text/x-python",
   "name": "python",
   "nbconvert_exporter": "python",
   "pygments_lexer": "ipython3",
   "version": "3.10.6"
  },
  "widgets": {
   "application/vnd.jupyter.widget-state+json": {
    "state": {},
    "version_major": 2,
    "version_minor": 0
   }
  }
 },
 "nbformat": 4,
 "nbformat_minor": 5
}
