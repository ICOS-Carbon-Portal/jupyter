{
 "cells": [
  {
   "cell_type": "markdown",
   "id": "stopped-dubai",
   "metadata": {},
   "source": [
    "<img src=\"https://www.icos-cp.eu/sites/default/files/2017-11/ICOS_CP_logo.png\" width=\"300\" align=\"right\"/>\n",
    "<br>\n",
    "<br>\n",
    "<br>\n",
    "\n",
    "# ICOS Carbon Portal - Jupyter Notebooks for Education at BSc and MSc level\n",
    "\n",
    "This folder contains subfolders with educational material that has been developed for university students (bachelor's and master's students).\n",
    "\n",
    "<br>\n",
    "\n",
    "## Structure\n",
    "The notebooks, code files and ancillary data files are divided into projects. Every project has its own folder:\n",
    "\n",
    "* **drought_2018** includes notebooks that use ICOS data from the Hyltemossa station to introduce students to basic principles of programming while exploring the consequences of the drought during the summer of 2018.\n",
    "* **soil_exercise_ngen16** contains a notebook with a soil exercise for university students.\n",
    "\n",
    "<br>\n",
    "\n",
    "## Licence\n",
    "This work is licensed under a Creative Commons Attribution 4.0 International License (CC BY 4.0). <br>\n",
    "Copyright © 2019-2020 ICOS ERIC\n"
   ]
  }
 ],
 "metadata": {
  "kernelspec": {
   "display_name": "Python 3",
   "language": "python",
   "name": "python3"
  },
  "language_info": {
   "codemirror_mode": {
    "name": "ipython",
    "version": 3
   },
   "file_extension": ".py",
   "mimetype": "text/x-python",
   "name": "python",
   "nbconvert_exporter": "python",
   "pygments_lexer": "ipython3",
   "version": "3.8.6"
  },
  "toc": {
   "base_numbering": 1,
   "nav_menu": {},
   "number_sections": false,
   "sideBar": true,
   "skip_h1_title": true,
   "title_cell": "Table of Contents",
   "title_sidebar": "Contents",
   "toc_cell": false,
   "toc_position": {},
   "toc_section_display": true,
   "toc_window_display": false
  }
 },
 "nbformat": 4,
 "nbformat_minor": 5
}
