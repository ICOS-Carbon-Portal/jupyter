{
 "cells": [
  {
   "cell_type": "markdown",
   "metadata": {
    "deletable": false
   },
   "source": [
    "\n",
    "<br>\n",
    "<br>\n",
    "<img src='images/amazonas_defor_time_series.png'>\n"
   ]
  },
  {
   "cell_type": "markdown",
   "metadata": {
    "deletable": false,
    "editable": false
   },
   "source": [
    "<a id='intro'></a>"
   ]
  },
  {
   "cell_type": "markdown",
   "metadata": {
    "deletable": false,
    "editable": false
   },
   "source": [
    "\n",
    "# Avskogning - Programmeringsövningar med satellitdata\n",
    "\n",
    "Avskogning är ett stort problem för miljön. Avskogning kan leda till förlust av kol i jorden, då de avverkade träden inte lämnas att förmultna och därmed får inte chansen att återföra kolet det bundit i sin biomassa till jorden. Avskogning av tropiska skogar sker för att utvinna träet eller för att skapa ny åkersmark eller betesmark. När regnskog huggs ned, blir det färre träd och växter kvar som kan fotosyntetisera. Det kan leda till att mängden koldioxid i luften ökar. Skogar förhindrar också erosion då rotsystemen håller jorden på plats och binder vattnet. När större områden med skog avverkas kan nederbörd orsaka översvämningar och jorden bli fatttig på näringsämnen. I det här övningspacketet kommer vi att följa en avskogningsprocess av tropisk regnskog i området Rondônia i Brazilien från 1984 till 2019. Vi kommer att använda satellitbaserad fjärranalys (satellitbilder) för att observera förändringar på markanvändning. I programmeringsövningarna används Python-kod.\n",
    "\n",
    "\n",
    "Notebooken består av följande delar:\n",
    "\n",
    "1. [Vad är fjärranalys](#remote_sensing)<br><br>\n",
    "\n",
    "2. [Vad är en satellitbild](#satellite_ing)<br><br>\n",
    "\n",
    "3. [Hur kan man använda sig av satellitbilder för att bevaka vegetationen](#remote_sensing_vegetation)<br><br>\n",
    "\n",
    "4. [Övningar med data från Landsat satelliter](#landsat_exercises)<br>\n",
    "    4.1. [Beräkna Vegetations-Index (NDVI)](#compute_ndvi)<br>\n",
    "    4.2. [Plotta satellitbilder](#plot_ndvi)<br>\n",
    "    4.3. [Beräkna histogram för Vegetations-Index](#ndvi_histo)<br>\n",
    "    4.4.  [Skapa plott med statistik](#plot_statistics)<br><br>\n",
    "\n",
    "5. [Övning: Hjälp forskaren](#exercise)<br>\n",
    "\n",
    "\n",
    "<br>\n",
    "<br>"
   ]
  },
  {
   "cell_type": "markdown",
   "metadata": {},
   "source": [
    "## Gör så här\n",
    "För att köra denna Jupyter Notebook, börja med att klicka på **Kernel** i menyn och sedan **Restart & Run All**. \n",
    "<br>\n",
    "<br>\n",
    "\n",
    "<img src=\"images/restart_run_all_nb_pic.png\" width=\"290\" align=\"center\"/>\n",
    "\n",
    "<br>\n",
    "<br>\n",
    "\n",
    "\n",
    "<span style=\"color:blue\">\n",
    "\n",
    "### Kör kod\n",
    "\n",
    "</span>\n",
    "\n",
    "En Jupyter Notebook består av kod-celler. I kod-cellen kan man skriva Python-kod och sedan köra den koden genom att trycka på **Run** i menyn högst upp. \n",
    "<br>\n",
    "<br>\n",
    "\n",
    "<img src=\"images/run_code_cell_nb.png\" width=\"580\" align=\"center\"/>\n",
    "\n",
    "<br>\n",
    "<br>\n",
    "\n",
    "\n",
    "<span style=\"color:blue\">\n",
    "\n",
    "### Aktiv kod-cell\n",
    "\n",
    "</span>\n",
    "\n",
    "Observera att endast den kod-cellen som är aktiv (kod-cellen som är markerad med blå eller grön färg) kommer att exekveras (köras) när du trycker på **Run**.\n",
    "<br>\n",
    "<br>\n",
    "\n",
    "<img src=\"images/marked_code_cell_nb_py.png\" width=\"580\" align=\"center\"/>\n",
    "\n",
    "<br>\n",
    "<br>\n",
    "\n",
    "\n",
    "<span style=\"color:blue\">\n",
    "\n",
    "### Lägg till ny kod-cell\n",
    "\n",
    "</span>\n",
    "\n",
    "För att lägga till en ny kod-cell under nuvarande aktiv kod-cell klicka på **\"+\"** i menyn.\n",
    "<br>\n",
    "<br>\n",
    "\n",
    "<img src=\"images/add_new_code_cell_nb.png\" width=\"580\" align=\"center\"/>\n",
    "\n",
    "<br>\n",
    "<br>\n",
    "\n",
    "<br>\n",
    "<br>\n",
    "<br>\n",
    "<br>"
   ]
  },
  {
   "cell_type": "markdown",
   "metadata": {
    "deletable": false,
    "editable": false
   },
   "source": [
    "<a id='remote_sensing'></a>"
   ]
  },
  {
   "cell_type": "markdown",
   "metadata": {
    "deletable": false,
    "editable": false
   },
   "source": [
    "## 1. Vad är fjärranalys\n",
    "Vetenskapen som studerar objekt på avstånd kallas för _**fjärranalys**_. I fjärranalys analyserar man bilder på objekt utan att fysiskt komma i kontakt med dem. Med hjälp av sensorer ombord på satelliter är det möjligt att mäta strålning i olika våglängder. Solen utstrålar elektromagnetisk strålning mot alla håll. En del av den strålningen reflekteras av Jordens atmosfär, en annan del absorberas och en tredje del når Jordens yta (se figur). Objekt som finns på Jordens yta (t.ex. träd, hus, vatten, osv.) har egenskapen att de absorberar strålning i vissa våglängder medan reflekterar strålning i andra våglängder. Det betyder att en del av strålningen som nått Jordens yta reflekteras tillbaka till rymden. Atmosfären absorberar åter igen en del av den reflekterade strålningen och reflekterar en del. Sensorer kan då mäta den reflekterade strålningen från Jordens yta som klarat av att ta sig igenom atmosfären.\n",
    "\n",
    "<br>\n",
    "<br>\n",
    "\n",
    "<img src='images/remotesensing_icon.png' width=680>\n",
    "\n",
    "<br>\n",
    "<br>\n",
    "<br>\n",
    "<br>"
   ]
  },
  {
   "cell_type": "markdown",
   "metadata": {
    "deletable": false,
    "editable": false
   },
   "source": [
    "<br>\n",
    "<br>\n",
    "<div style=\"text-align: right\"> \n",
    "    <a href=\"#intro\">Tillbaka till innehåll</a>\n",
    "</div>"
   ]
  },
  {
   "cell_type": "markdown",
   "metadata": {
    "deletable": false,
    "editable": false
   },
   "source": [
    "<a id='satellite_ing'></a>"
   ]
  },
  {
   "cell_type": "markdown",
   "metadata": {
    "deletable": false,
    "editable": false
   },
   "source": [
    "## 2. Vad är en satellitbild\n",
    "En satellitbild är ett fotografi av ett område på jorden. En sensor kan mäta strålning i olika band (dvs. olika våglängdsintervaller). Varje band är en bild och representeras av en tabell av värden (se figur). Varje värde i tabellen representerar en pixel i motsvarande bild. Det är även möjligt att kombinera band för att skapa en bild.\n",
    "\n",
    "<br>\n",
    "<br>\n",
    "<img src='images/satellite_img_bands.png' width=750>\n",
    "<br>\n",
    "<br>\n",
    "<br>\n",
    "<br>\n",
    "\n",
    "Se olika våglängdsintervaller i figuren nedan:\n",
    "<br>\n",
    "<br>\n",
    "<img src='images/spektrum.png' width=600>"
   ]
  },
  {
   "cell_type": "markdown",
   "metadata": {
    "deletable": false,
    "editable": false
   },
   "source": [
    "<br>\n",
    "<br>\n",
    "<div style=\"text-align: right\"> \n",
    "    <a href=\"#intro\">Tillbaka till innehåll</a>\n",
    "</div>"
   ]
  },
  {
   "cell_type": "markdown",
   "metadata": {
    "deletable": false,
    "editable": false
   },
   "source": [
    "<a id='remote_sensing_vegetation'></a>"
   ]
  },
  {
   "cell_type": "markdown",
   "metadata": {
    "deletable": false,
    "editable": false
   },
   "source": [
    "## 3. Hur kan man använda sig av satellitbilder för att bevaka vegetationen? \n",
    "Varje objekt har egenskaper som gör att det absorberar ljus i vissa våglängder och reflekterar ljus i andra våglängder. Det är just den egenskapen som gör det möjligt att observera t.ex. växtlighet med hjälp av satelliter. [Klorofyll](https://sv.wikipedia.org/wiki/Klorofyll) är ett ämne som ger växter deras gröna färg och spelar avgörande roll i fontosyntesen. Klorofyll har egenskapen att den absorberar röd strålning och reflekterar nära-infraröd strålning. Det betyder att områden med mycket växter (dvs mycket klorofyll) genererar låga värden i det röda bandet och höga värden i det nära-infraröda bandet på sensorer ombord på satelliter. Genom att använda de röda och det nära-infrarda bandet kan man därför spåra förändringar i växtligheten under olika år för att undersöka bl.a. ifall vegetationen drabbats av torka eller ifall regnskog har avverkats.\n",
    "\n",
    "Övningarna kommer att använda satellitbilder från Landsat-satelliter (Landsat 5, Landsat 7 & Landsat 8). Den första Landsat satelliten sattes i bruk 1972. Ombord Landsat finns sensorer som mäter strålning i olika våglängder:\n",
    "<br>\n",
    "\n",
    "**Rött Band:** 630 - 690 nm <br>\n",
    "**Nära Infrarött Band:** 770 - 900 nm"
   ]
  },
  {
   "cell_type": "markdown",
   "metadata": {
    "deletable": false,
    "editable": false
   },
   "source": [
    "<br>\n",
    "<br>\n",
    "<div style=\"text-align: right\"> \n",
    "    <a href=\"#intro\">Tillbaka till innehåll</a>\n",
    "</div>"
   ]
  },
  {
   "cell_type": "markdown",
   "metadata": {
    "deletable": false,
    "editable": false
   },
   "source": [
    "<a id='landsat_exercises'></a>"
   ]
  },
  {
   "cell_type": "markdown",
   "metadata": {
    "deletable": false,
    "editable": false
   },
   "source": [
    "## 4. Övningar med data från Landsat satelliter\n",
    "Eftersom den totala markarealen på jorden är så stor och bildupplösningen på satellitbilder är relativt hög är satellit-databaser enorma. Behandlingen av flera satellitbilder för en tidsserie-analys kräver stora resurser och kan inte utföras utan hjälp av programmering. \n",
    "I denna delen kommer du att jobba med att beabreta och visualisera satellitbilder för olika år. Du kommer även beräkna statistik över hur stor markyta av regnskog har avverkats i ett område inom Rondônia i Brazilien från 1984 till 2019. En del förarbete krävs för att använda satellitbilderna. För att göra det smidigare, har satellitbilderna redan blivit uppladdade och sparade i tabeller. I listan nedan ser du namnen på tabellerna och vad de innehåller:\n",
    "\n",
    "- **red_1984** --- > tabell son innehåller värden för det _röda bandet_ för år 1984\n",
    "- **nir_1984** --- > tabell son innehåller värden för det nära _infraröda bandet_ för år 1984\n",
    "\n",
    "\n",
    "- **red_1992** --- > tabell son innehåller värden för det _röda bandet_ för år 1992\n",
    "- **nir_1992** --- > tabell son innehåller värden för det _nära infraröda bandet _för år 1992\n",
    "\n",
    "\n",
    "- **red_2001** --- > tabell son innehåller värden för det _röda bandet_ för år 2001\n",
    "- **nir_2001** --- > tabell son innehåller värden för det _nära infraröda bandet_ för år 2001\n",
    "\n",
    "\n",
    "- **red_2019** --- > tabell son innehåller värden för det _röda bandet_ för år 2019\n",
    "- **nir_2019** --- > tabell son innehåller värden för det _nära infraröda bandet_ för år 2019"
   ]
  },
  {
   "cell_type": "code",
   "execution_count": null,
   "metadata": {
    "deletable": false
   },
   "outputs": [],
   "source": [
    "#Import modules:\n",
    "import gdal\n",
    "import numpy as np\n",
    "import pandas as pd\n",
    "import math\n",
    "from matplotlib import pyplot as plt \n",
    "from bokeh.plotting import figure, show\n",
    "from bokeh.models import ColumnDataSource, BasicTickFormatter\n",
    "from bokeh.io import reset_output, output_notebook\n",
    "\n",
    "reset_output()\n",
    "output_notebook()"
   ]
  },
  {
   "cell_type": "code",
   "execution_count": null,
   "metadata": {
    "deletable": false,
    "editable": false
   },
   "outputs": [],
   "source": [
    "############################################################################################################\n",
    "################## Python & Javascript Code - handling code visibility (entire document)####################\n",
    "############################################################################################################\n",
    "\n",
    "#Import modules:\n",
    "from IPython.display import HTML\n",
    "\n",
    "HTML('''<script> $('div .input').hide()''')"
   ]
  },
  {
   "cell_type": "code",
   "execution_count": null,
   "metadata": {
    "deletable": false,
    "editable": false
   },
   "outputs": [],
   "source": [
    "%%javascript\n",
    "IPython.OutputArea.prototype._should_scroll = function(lines) {\n",
    "    return false;\n",
    "}"
   ]
  },
  {
   "cell_type": "code",
   "execution_count": null,
   "metadata": {
    "deletable": false,
    "editable": false
   },
   "outputs": [],
   "source": [
    "############################################################################################################\n",
    "############################### Python & Javascript Kod - Dölj kod-cell  ###################################\n",
    "############################################################################################################\n",
    "\n",
    "#Importera moduler:\n",
    "from IPython.core.display import display, HTML\n",
    "\n",
    "#Kod för att dölja en kod-cell\n",
    "toggle_code_str = '''\n",
    "<form action=\"javascript:code_toggle()\"><input type=\"submit\" id=\"toggleButton\" value=\"Visa/Dölj Kod\"></form>\n",
    "'''\n",
    "\n",
    "toggle_code_prepare_str = '''\n",
    "    <script>\n",
    "    function code_toggle() {\n",
    "        if ($('div.cell.code_cell.rendered.selected div.input').css('display')!='none'){\n",
    "            $('div.cell.code_cell.rendered.selected div.input').hide();\n",
    "            $('#toggleButton').val('Visa Kod');\n",
    "        } else {\n",
    "            $('div.cell.code_cell.rendered.selected div.input').show();\n",
    "            $('#toggleButton').val('Dölj Kod');\n",
    "        }\n",
    "    }\n",
    "    </script>\n",
    "\n",
    "'''\n",
    "\n",
    "display(HTML(toggle_code_prepare_str + toggle_code_str))\n",
    "\n",
    "#Anrop till funktion som döljer kod-celler:\n",
    "def toggle_code():\n",
    "    display(HTML(toggle_code_str))\n",
    "    \n",
    "############################################################################################################\n",
    "############################################################################################################\n",
    "############################################################################################################\n"
   ]
  },
  {
   "cell_type": "code",
   "execution_count": null,
   "metadata": {
    "deletable": false,
    "editable": false
   },
   "outputs": [],
   "source": [
    "#Function that calculates the Top Of Atmosphere radiance for a single band tiff\n",
    "#and returns an array with the corresponding values:\n",
    "def toa_radiance(path, reflectance_mult_bandX, reflectance_add_bandX, sun_elevation_deg):\n",
    "    \n",
    "    import gdal\n",
    "    import numpy as np\n",
    "    import math\n",
    "    \n",
    "    #Read in tiff from path:\n",
    "    tiff = gdal.Open(path)\n",
    "    \n",
    "    #Read in tiff as numpy array:\n",
    "    band = tiff.GetRasterBand(1).ReadAsArray().astype(np.float)\n",
    "    \n",
    "    #Calculate TOA radiance:\n",
    "    toa_band = ((reflectance_mult_bandX*band) +\n",
    "                reflectance_add_bandX)/(math.sin(math.radians(sun_elevation_deg)))\n",
    "\n",
    "    #Return array:\n",
    "    return toa_band"
   ]
  },
  {
   "cell_type": "code",
   "execution_count": null,
   "metadata": {
    "deletable": false,
    "editable": false
   },
   "outputs": [],
   "source": [
    "#Function that calculates NDVI:\n",
    "def calc_ndvi(red_band, nir_band):\n",
    "    \n",
    "    #Compute NDVI according to the formula:\n",
    "    ndvi = (nir_band - red_band)/(nir_band + red_band)\n",
    "    \n",
    "    #Return array:\n",
    "    return ndvi"
   ]
  },
  {
   "cell_type": "code",
   "execution_count": null,
   "metadata": {
    "deletable": false,
    "editable": false
   },
   "outputs": [],
   "source": [
    "#Function that computes and plots NDVI:\n",
    "def plot_ndvi(red_band, nir_band, year):\n",
    "\n",
    "    #Call function to compute NDVI:\n",
    "    ndvi = calc_ndvi(red_band, nir_band)\n",
    "    \n",
    "    #Create plot:\n",
    "    fig = plt.figure(figsize = (11, 9)) \n",
    "    plt.imshow(ndvi, cmap='RdYlGn') \n",
    "    plt.clim(-1.0, 1.0)\n",
    "    #plt.colorbar(ticks=range(10), label='NDVI '+str(year))\n",
    "    plt.colorbar(label='NDVI '+str(year))\n",
    "    \n",
    "    #Show plot:\n",
    "    plt.show()"
   ]
  },
  {
   "cell_type": "code",
   "execution_count": null,
   "metadata": {
    "deletable": false,
    "editable": false
   },
   "outputs": [],
   "source": [
    "#Function that plots the histogram of an ndvi-array (definned classes):\n",
    "def plot_ndvi_histo(ndvi_array, year):\n",
    "\n",
    "    #Import modules:\n",
    "    from bokeh.plotting import figure, show, output_notebook\n",
    "    from bokeh.models import ColumnDataSource, BasicTickFormatter\n",
    "    from bokeh.palettes import Spectral6\n",
    "    from bokeh.transform import factor_cmap\n",
    "    \n",
    "    #Compute histogram:\n",
    "    hist, edges = np.histogram(ndvi_array, bins=[-1,-0.1, 0.3, 0.4, 0.5, 1])\n",
    "\n",
    "    #Create plot:\n",
    "    p = figure(title='NDVI '+ str(year) +' Histogram',\n",
    "               background_fill_color=\"#fafafa\")\n",
    "    p.quad(top=hist, bottom=0, left=edges[:-1], right=edges[1:],\n",
    "           fill_color=\"navy\", line_color=\"white\", alpha=0.5)\n",
    "\n",
    "\n",
    "\n",
    "    #Format axes and grid:\n",
    "    p.y_range.start = 0\n",
    "    p.xaxis.axis_label = 'NDVI'\n",
    "    p.yaxis.axis_label = '#Pixlar'\n",
    "    p.grid.grid_line_color=\"white\"\n",
    "    p.yaxis.formatter = BasicTickFormatter(use_scientific=False)\n",
    "    \n",
    "    #Define where plot should be shown\n",
    "    output_notebook()\n",
    "    \n",
    "    #Show plot:\n",
    "    show(p)"
   ]
  },
  {
   "cell_type": "code",
   "execution_count": null,
   "metadata": {
    "deletable": false,
    "editable": false
   },
   "outputs": [],
   "source": [
    "### COMPUTE TOA FOR 1984 BANDS (RADIOMETRIC CORRECTION) ###\n",
    "#Calculate top of atmosphere radiance for red band (b3) 1984:\n",
    "red_1984 = toa_radiance('data/avskogning/L5_19840624/b3_1984_clipped.tif',\n",
    "                           2.2743E-03,\n",
    "                           -0.004823,\n",
    "                           40.73780010)\n",
    "\n",
    "#Calculate top of atmosphere radiance for NIR band (b4) 1984:\n",
    "nir_1984 = toa_radiance('data/avskogning/L5_19840624/b4_1984_clipped.tif',\n",
    "                           2.7527E-03,\n",
    "                           -0.007498,\n",
    "                           40.73780010)\n",
    "\n",
    "\n",
    "\n",
    "### COMPUTE TOA FOR 1992 BANDS (RADIOMETRIC CORRECTION) ###\n",
    "#Calculate top of atmosphere radiance for red band (b3) 1992:\n",
    "red_1992 = toa_radiance('data/avskogning/L5_19920801/b3_1992_clipped.tif',\n",
    "                           2.2671E-03,\n",
    "                           -0.004808,\n",
    "                           42.15898794)\n",
    "\n",
    "\n",
    "#Calculate top of atmosphere radiance for NIR band (b4) 1992:\n",
    "nir_1992 = toa_radiance('data/avskogning/L5_19920801/b4_1992_clipped.tif',\n",
    "                           2.7440E-03,\n",
    "                           -0.007474,\n",
    "                           42.15898794)\n",
    "\n",
    "\n",
    "\n",
    "### COMPUTE TOA FOR 2001 BANDS (RADIOMETRIC CORRECTION) ###\n",
    "#Calculate top of atmosphere radiance for red band (b3) 2001:\n",
    "red_2001 = toa_radiance('data/avskogning/L7_20010919/b3_2001_clipped.tif',\n",
    "                           1.2920E-03,\n",
    "                           -0.011684,\n",
    "                           58.27353661)\n",
    "\n",
    "#Calculate top of atmosphere radiance for NIR band (b4) 2001:\n",
    "nir_2001 = toa_radiance('data/avskogning/L7_20010919/b4_2001_clipped.tif',\n",
    "                           2.8684E-03,\n",
    "                           -0.017961,\n",
    "                           58.27353661)\n",
    "\n",
    "\n",
    "\n",
    "### COMPUTE TOA FOR 2019 BANDS (RADIOMETRIC CORRECTION) ###\n",
    "#Calculate top of atmosphere radiance for red band (b4) 2019:\n",
    "red_2019 = toa_radiance('data/avskogning/L8_20190727/b4_2019_clipped.tif',\n",
    "                           2.0000E-05,\n",
    "                           -0.100000,\n",
    "                           48.37299733)\n",
    "\n",
    "#Calculate top of atmosphere radiance for NIR band (b5) 2019:\n",
    "nir_2019 = toa_radiance('data/avskogning/L8_20190727/b5_2019_clipped.tif',\n",
    "                           2.0000E-05,\n",
    "                           -0.100000,\n",
    "                           48.37299733)"
   ]
  },
  {
   "cell_type": "markdown",
   "metadata": {
    "deletable": false,
    "editable": false
   },
   "source": [
    "<a id='compute_ndvi'></a>"
   ]
  },
  {
   "cell_type": "markdown",
   "metadata": {
    "deletable": false,
    "editable": false
   },
   "source": [
    "### 4.1. Beräkna Vegetations-Index (NDVI)\n",
    "I den här övnignen kommer vi att implementera Normalized Difference Vegetation Index (NDVI). Det är ett vegetqationsindex som använder det röda bandet (RED) och det nära-infraröda bandet (NIR) från en satellitbild för att producera en ny bild enligt följande formula: \n",
    "\n",
    "$$NDVI = \\frac{(NIR-Red)}{(NIR+Red)}$$\n",
    "\n",
    "Ovanstående formula genererar resultat mellan -1 och 1. Låga värden i det röda bandet och höga värden i det nära-infraröda bandet (mycket klorofyll) producerar ett högt NDVI värde. Och vice versa. I allmänhet, indikerar höga NDVI-värden på frisk vegetation medan låga NDVI-värden pekar på mindre eller ingen vegetation. Följande lista visar vilken markanvändningstyp de olika NDVI-delintervallerna står för.\n",
    "\n",
    "**NDVI - värden:**<br>\n",
    "[0.5, 1) --- > regnskog <br>\n",
    "[0.4, 0.5) --- > tempererad skog <br>\n",
    "[0.3, 0.4) --- > låg vegetation <br>\n",
    "[-0.1, 0.3) --- > nakna bergsklippor, sand eller snö <br>\n",
    "[-1, -0.1) --- > vatten <br>\n",
    "\n",
    "\n",
    "\n",
    "\n",
    "\n",
    "Data för det varje band för varje år är sparat i en tabell. I Python kan man utföra beräkningar mellan tabeller. NDVI-formulan ska implementeras mellan pixlar som tillhör samma rad och samma kolumn i motsvarande band (se figur).\n",
    "<br>\n",
    "<br>\n",
    "<img src='images/ndvi_calc.png' width=400/>\n",
    "<br>\n",
    "<br>\n",
    "\n",
    "Python-koden för att beräkna NDVI för år 1984 är följande:\n",
    "\n",
    "```python\n",
    "    ndvi_1984 = (nir_1984 - red_1984)/(nir_1984 + red_1984)\n",
    "```\n",
    "\n",
    "\n",
    "<br>\n",
    "<br>\n",
    "\n",
    "**Övning 1.1:** Beräkna NDVI för år 1984 enligt exemplet ovan. \n",
    "\n",
    "-  Klicka på knappen ```Visa/Dölj Kod``` nedan för att skriva din kod.\n",
    "-  Kör din kod genom att klicka på ```Run```.\n"
   ]
  },
  {
   "cell_type": "code",
   "execution_count": null,
   "metadata": {
    "deletable": false
   },
   "outputs": [],
   "source": [
    "################################\n",
    "#Add button to hide/show code:\n",
    "toggle_code()\n",
    "################################\n",
    "\n",
    "\n",
    "#Skriv din kod under denna rad:\n",
    "\n"
   ]
  },
  {
   "cell_type": "markdown",
   "metadata": {
    "deletable": false,
    "editable": false
   },
   "source": [
    "**Övning 1.2:** Beräkna NDVI för år 1992 enligt exemplet ovan. \n",
    "\n",
    "-  Klicka på knappen ```Visa/Dölj Kod``` nedan för att skriva din kod.\n",
    "-  Kör din kod genom att klicka på ```Run```.\n"
   ]
  },
  {
   "cell_type": "code",
   "execution_count": null,
   "metadata": {},
   "outputs": [],
   "source": [
    "################################\n",
    "#Add button to hide/show code:\n",
    "toggle_code()\n",
    "################################\n",
    "\n",
    "\n",
    "#Skriv din kod under denna rad:\n",
    "\n"
   ]
  },
  {
   "cell_type": "markdown",
   "metadata": {
    "deletable": false,
    "editable": false
   },
   "source": [
    "**Övning 1.3:** Beräkna NDVI för år 2001 enligt exemplet ovan. \n",
    "\n",
    "-  Klicka på knappen ```Visa/Dölj Kod``` nedan för att skriva din kod.\n",
    "-  Kör din kod genom att klicka på ```Run```.\n"
   ]
  },
  {
   "cell_type": "code",
   "execution_count": null,
   "metadata": {},
   "outputs": [],
   "source": [
    "################################\n",
    "#Add button to hide/show code:\n",
    "toggle_code()\n",
    "################################\n",
    "\n",
    "\n",
    "#Skriv din kod under denna rad:\n",
    "\n"
   ]
  },
  {
   "cell_type": "markdown",
   "metadata": {
    "deletable": false,
    "editable": false
   },
   "source": [
    "**Övning 1.4:** Beräkna NDVI för år 2019 enligt exemplet ovan. \n",
    "\n",
    "-  Klicka på knappen ```Visa/Dölj Kod``` nedan för att skriva din kod.\n",
    "-  Kör din kod genom att klicka på ```Run```.\n"
   ]
  },
  {
   "cell_type": "code",
   "execution_count": null,
   "metadata": {},
   "outputs": [],
   "source": [
    "################################\n",
    "#Add button to hide/show code:\n",
    "toggle_code()\n",
    "################################\n",
    "\n",
    "\n",
    "#Skriv din kod under denna rad:\n",
    "\n"
   ]
  },
  {
   "cell_type": "markdown",
   "metadata": {
    "deletable": false,
    "editable": false
   },
   "source": [
    "<br>\n",
    "<br>\n",
    "<div style=\"text-align: right\"> \n",
    "    <a href=\"#intro\">Tillbaka till innehåll</a>\n",
    "</div>"
   ]
  },
  {
   "cell_type": "markdown",
   "metadata": {
    "deletable": false,
    "editable": false
   },
   "source": [
    "<a id='plot_ndvi'></a>"
   ]
  },
  {
   "cell_type": "markdown",
   "metadata": {
    "deletable": false,
    "editable": false
   },
   "source": [
    "### 4.2. Plotta satellitbilder\n",
    "I den här delen ska du plotta NDVI-tabellerna du skapat för att visuellt inspektera ifall regnskog har avvärkats. Python-koden för att plotta en tabell är:\n",
    "\n",
    "```python\n",
    "#Skapa figur som ska innehålla plotten:\n",
    "fig = plt.figure(figsize = (11, 9)) \n",
    "\n",
    "#Skapa plotten genom att ange namnet för tabellen och lägg till en färgpalett (colormap):\n",
    "plt.imshow(ndvi_1984, cmap='RdYlGn') \n",
    "\n",
    "#Ange det lägsta och högsta värdet för färgerna i färgpaletten:\n",
    "plt.clim(-1.0, 1.0)\n",
    "\n",
    "#Lägg till titel för plottens färgpalett:\n",
    "plt.colorbar(label='NDVI 1984')\n",
    "    \n",
    "#Visa plott:\n",
    "plt.show()\n",
    "```\n",
    "\n",
    "\n",
    "<br>\n",
    "<br>\n",
    "\n",
    "**Övning 2.1:** Plotta NDVI för år 1984 enligt exemplet ovan. \n",
    "\n",
    "-  Klicka på knappen ```Visa/Dölj Kod``` nedan för att skriva din kod.\n",
    "-  Kör din kod genom att klicka på ```Run```.\n",
    "-  För att visa plottarna den ena under den andra, får du skriva koden för varje plott i en ny kod-cell. Lägg till en ny kod-cell genom att trycka på ```+``` i menyn.\n"
   ]
  },
  {
   "cell_type": "code",
   "execution_count": null,
   "metadata": {
    "deletable": false
   },
   "outputs": [],
   "source": [
    "################################\n",
    "#Add button to hide/show code:\n",
    "toggle_code()\n",
    "################################\n",
    "\n",
    "\n",
    "#Skriv din kod under denna rad:\n",
    "\n"
   ]
  },
  {
   "cell_type": "markdown",
   "metadata": {
    "deletable": false,
    "editable": false
   },
   "source": [
    "**Övning 2.2:** Plotta NDVI för år 1992 enligt exemplet ovan. \n",
    "\n",
    "-  Klicka på knappen ```Visa/Dölj Kod``` nedan för att skriva din kod.\n",
    "-  Kör din kod genom att klicka på ```Run```.\n",
    "-  För att visa plottarna den ena under den andra, får du skriva koden för varje plott i en ny kod-cell. Lägg till en ny kod-cell genom att trycka på ```+``` i menyn."
   ]
  },
  {
   "cell_type": "code",
   "execution_count": null,
   "metadata": {},
   "outputs": [],
   "source": [
    "################################\n",
    "#Add button to hide/show code:\n",
    "toggle_code()\n",
    "################################\n",
    "\n",
    "\n",
    "#Skriv din kod under denna rad:\n",
    "\n"
   ]
  },
  {
   "cell_type": "markdown",
   "metadata": {
    "deletable": false,
    "editable": false
   },
   "source": [
    "**Övning 2.3:** Plotta NDVI för år 2001 enligt exemplet ovan. \n",
    "\n",
    "-  Klicka på knappen ```Visa/Dölj Kod``` nedan för att skriva din kod.\n",
    "-  Kör din kod genom att klicka på ```Run```.\n",
    "-  För att visa plottarna den ena under den andra, får du skriva koden för varje plott i en ny kod-cell. Lägg till en ny kod-cell genom att trycka på ```+``` i menyn."
   ]
  },
  {
   "cell_type": "code",
   "execution_count": null,
   "metadata": {},
   "outputs": [],
   "source": [
    "################################\n",
    "#Add button to hide/show code:\n",
    "toggle_code()\n",
    "################################\n",
    "\n",
    "\n",
    "#Skriv din kod under denna rad:\n",
    "\n"
   ]
  },
  {
   "cell_type": "markdown",
   "metadata": {
    "deletable": false,
    "editable": false
   },
   "source": [
    "**Övning 2.4:** Plotta NDVI för år 2019 enligt exemplet ovan. \n",
    "\n",
    "-  Klicka på knappen ```Visa/Dölj Kod``` nedan för att skriva din kod.\n",
    "-  Kör din kod genom att klicka på ```Run```.\n",
    "-  För att visa plottarna den ena under den andra, får du skriva koden för varje plott i en ny kod-cell. Lägg till en ny kod-cell genom att trycka på ```+``` i menyn."
   ]
  },
  {
   "cell_type": "code",
   "execution_count": null,
   "metadata": {},
   "outputs": [],
   "source": [
    "################################\n",
    "#Add button to hide/show code:\n",
    "toggle_code()\n",
    "################################\n",
    "\n",
    "\n",
    "#Skriv din kod under denna rad:\n",
    "\n"
   ]
  },
  {
   "cell_type": "markdown",
   "metadata": {
    "deletable": false,
    "editable": false
   },
   "source": [
    "<br>\n",
    "<br>\n",
    "<div style=\"text-align: right\"> \n",
    "    <a href=\"#intro\">Tillbaka till innehåll</a>\n",
    "</div>"
   ]
  },
  {
   "cell_type": "markdown",
   "metadata": {
    "deletable": false,
    "editable": false
   },
   "source": [
    "<a id='ndvi_histo'></a>"
   ]
  },
  {
   "cell_type": "markdown",
   "metadata": {
    "deletable": false,
    "editable": false
   },
   "source": [
    "### 4.3. Histogram för vegetations-index\n",
    "Ibland är det bra att ta reda på antalet pixlar som har vissa speciella värden. I det här fallet är vi t.ex. intresserade att få veta antalet pixlar som representerar tropisk regnskog. NDVI-värdena för tropisk regnskog varierar mellan 0.5 och 1. \n",
    "\n",
    "Python har en inbyggd funktion (färdig kod) som returnerar en lista med antalet objekt i en tabell vars värden faller inom definierade delintervall. Funktionen heter ```np.histogram()``` och tar emot två argument. Det första argumentet är namnet på tabellen. Det andra argumentet är värdena för delintervallerna. Funktionen returnerar två resultat. Det första resultatet är en lista som innehåller antalet värden som finns inom varje delintervall. Det andra resultatet är en lista med delintervallen. \n",
    "\n",
    "\n",
    "Exemplet nedan visar Python-koden för att beräkna histogrammet för NDVI-tabellen för 1984. Tabellen heter _ndvi_1984_. ```bins``` är en lista med delintervall. Observera att värdena i bins-listan är samma som värdena för  NDVI-intervallerna i del 4.1. \n",
    "\n",
    "```python\n",
    "#Beräkna histogram för värdena i tabell \"ndvi_1984\":\n",
    "hist_84, delintervall_84 = np.histogram(ndvi_1984, bins=[-1,-0.1, 0.3, 0.4, 0.5, 1])\n",
    "\n",
    "#Skriv ut resultat:\n",
    "print('Lista med delintervall för NDVI 1984: ', delintervall_84)\n",
    "print('Lista med antal pixel per delintervall: ', hist_84)\n",
    "```\n",
    "\n",
    "<br>\n",
    "\n",
    "Ovanstående kod returnerar:\n",
    "```python\n",
    "Lista med delintervall för NDVI 1984:  [-1.  -0.1  0.3  0.4  0.5  1. ]\n",
    "Lista med antal pixel per delintervall:  [    5931    31811    33807    93608 21777263]\n",
    "```\n",
    "<br>\n",
    "\n",
    "Resultatet tolkas så här:\n",
    "<br>\n",
    "\n",
    "**5,931** pixlar har värden från **-1 till -0.1** och representerar vatten <br>\n",
    "**31,811** pixlar har värden från **-0.1 till 0.3** och representerar nakna bergsklippor, sand eller snö <br> \n",
    "**33,807** pixlar har värden från **0.3 till 0.4** och representerar låg vegetation <br>\n",
    "**93,608** pixlar har värden från **0.4 till 0.5** och representerar tempererad skog <br>\n",
    "**21,777,263** pixalr har värden från **0.5 till 1** och representerar tropisk regnskog <br>\n",
    "\n",
    "\n",
    "<br>\n",
    "<br>\n",
    "\n",
    "**Övning 3.1:** Beräkna histogramet för alla NDVI-tabeller du skapat för 1984 enligt exemplet ovan. \n",
    "\n",
    "-  Klicka på knappen ```Visa/Dölj Kod``` nedan för att skriva din kod.\n",
    "-  Kör din kod genom att klicka på ```Run```.\n"
   ]
  },
  {
   "cell_type": "code",
   "execution_count": null,
   "metadata": {
    "deletable": false
   },
   "outputs": [],
   "source": [
    "################################\n",
    "#Add button to hide/show code:\n",
    "toggle_code()\n",
    "################################\n",
    "\n",
    "\n",
    "#Skriv din kod under denna rad:\n"
   ]
  },
  {
   "cell_type": "markdown",
   "metadata": {
    "deletable": false,
    "editable": false
   },
   "source": [
    "**Övning 3.2:** Beräkna histogramet för alla NDVI-tabeller du skapat för 1992 enligt exemplet ovan. \n",
    "\n",
    "-  Klicka på knappen ```Visa/Dölj Kod``` nedan för att skriva din kod.\n",
    "-  Kör din kod genom att klicka på ```Run```.\n"
   ]
  },
  {
   "cell_type": "code",
   "execution_count": null,
   "metadata": {},
   "outputs": [],
   "source": [
    "################################\n",
    "#Add button to hide/show code:\n",
    "toggle_code()\n",
    "################################\n",
    "\n",
    "\n",
    "#Skriv din kod under denna rad:"
   ]
  },
  {
   "cell_type": "markdown",
   "metadata": {
    "deletable": false,
    "editable": false
   },
   "source": [
    "**Övning 3.3:** Beräkna histogramet för alla NDVI-tabeller du skapat för 2001 enligt exemplet ovan. \n",
    "\n",
    "-  Klicka på knappen ```Visa/Dölj Kod``` nedan för att skriva din kod.\n",
    "-  Kör din kod genom att klicka på ```Run```.\n"
   ]
  },
  {
   "cell_type": "code",
   "execution_count": null,
   "metadata": {},
   "outputs": [],
   "source": [
    "################################\n",
    "#Add button to hide/show code:\n",
    "toggle_code()\n",
    "################################\n",
    "\n",
    "\n",
    "#Skriv din kod under denna rad:"
   ]
  },
  {
   "cell_type": "markdown",
   "metadata": {
    "deletable": false,
    "editable": false
   },
   "source": [
    "**Övning 3.4:** Beräkna histogramet för alla NDVI-tabeller du skapat för 2019 enligt exemplet ovan. \n",
    "\n",
    "-  Klicka på knappen ```Visa/Dölj Kod``` nedan för att skriva din kod.\n",
    "-  Kör din kod genom att klicka på ```Run```.\n"
   ]
  },
  {
   "cell_type": "code",
   "execution_count": null,
   "metadata": {},
   "outputs": [],
   "source": [
    "################################\n",
    "#Add button to hide/show code:\n",
    "toggle_code()\n",
    "################################\n",
    "\n",
    "\n",
    "#Skriv din kod under denna rad:"
   ]
  },
  {
   "cell_type": "markdown",
   "metadata": {
    "deletable": false,
    "editable": false
   },
   "source": [
    "<br>\n",
    "<br>\n",
    "<div style=\"text-align: right\"> \n",
    "    <a href=\"#intro\">Tillbaka till innehåll</a>\n",
    "</div>"
   ]
  },
  {
   "cell_type": "markdown",
   "metadata": {},
   "source": [
    "<a id='plot_statistics'></a>"
   ]
  },
  {
   "cell_type": "markdown",
   "metadata": {
    "deletable": false,
    "editable": false
   },
   "source": [
    "### 4.4. Skapa plott med statistik\n",
    "Nu när du har beräknat histogrammen för alla åren skulle det vara intressant att plotta värdena och se hur antalet pixlar per markanvändningstyp förändrats under åren. Följande kod skapar en plott som visar antalet pixlar per markanvändningstyp för ett år.\n",
    "\n",
    "```python\n",
    "#Lista med markanvändningstyper:\n",
    "land_typ = ['vatten', 'nakna bergsklippor', 'låg vegetation', 'tempererad skog', 'tropisk regnskog']\n",
    "\n",
    "#Lista med antal pixlar per markanvändningstyp:\n",
    "pixlar = [5931, 31811, 33807, 93608, 21777263]\n",
    "\n",
    "#Skapa en ny figur som skapa lagra plotten och ange storlek och titel:\n",
    "p = figure(x_range=land_typ, plot_height=450, title=\"Rondônia - Markanvändning (1984)\")\n",
    "\n",
    "#Skapa barplot:\n",
    "p.vbar(x=land_typ, top=pixlar, width=0.9)\n",
    "\n",
    "#y-axis ska börja på 0:\n",
    "p.y_range.start = 0\n",
    "\n",
    "#Visa hela nummer på y-axis:\n",
    "p.yaxis.formatter = BasicTickFormatter(use_scientific=False)\n",
    "\n",
    "#Skriv ut plott i notebooken:\n",
    "output_notebook()\n",
    "\n",
    "#Visa plotten:\n",
    "show(p)\n",
    "\n",
    "\n",
    "```\n",
    "\n",
    "<br>\n",
    "<br>\n",
    "<br>\n",
    "<br>\n",
    "Ovanstående kod kommer att returnera följande resultat:\n",
    "\n",
    "<img src='images/barplot_ex.png' width=500>\n",
    "\n",
    "<br>\n",
    "<br>\n",
    "<br>\n",
    "<br>\n",
    "\n",
    "**Övning 4.1:** Plotta antalet pixlar per markanvändningstyp för 1984 enligt exemplet ovan. \n",
    "\n",
    "-  Klicka på knappen ```Visa/Dölj Kod``` nedan för att skriva din kod.\n",
    "-  Kör din kod genom att klicka på ```Run```."
   ]
  },
  {
   "cell_type": "code",
   "execution_count": null,
   "metadata": {
    "deletable": false
   },
   "outputs": [],
   "source": [
    "################################\n",
    "#Add button to hide/show code:\n",
    "toggle_code()\n",
    "################################\n",
    "\n",
    "\n",
    "#Skriv din kod under denna rad:\n",
    "\n",
    "\n"
   ]
  },
  {
   "cell_type": "markdown",
   "metadata": {
    "deletable": false,
    "editable": false
   },
   "source": [
    "**Övning 4.2:** Plotta antalet pixlar per markanvändningstyp för 1992 enligt exemplet ovan. \n",
    "\n",
    "-  Klicka på knappen ```Visa/Dölj Kod``` nedan för att skriva din kod.\n",
    "-  Klicka på ```Run``` för att köra din kod."
   ]
  },
  {
   "cell_type": "code",
   "execution_count": null,
   "metadata": {},
   "outputs": [],
   "source": [
    "################################\n",
    "#Add button to hide/show code:\n",
    "toggle_code()\n",
    "################################\n",
    "\n",
    "\n",
    "#Skriv din kod under denna rad:\n",
    "\n",
    "\n"
   ]
  },
  {
   "cell_type": "markdown",
   "metadata": {
    "deletable": false,
    "editable": false
   },
   "source": [
    "**Övning 4.3:** Plotta antalet pixlar per markanvändningstyp för 2001 enligt exemplet ovan. \n",
    "\n",
    "-  Klicka på knappen ```Visa/Dölj Kod``` nedan för att skriva din kod.\n",
    "-  Klicka på ```Run``` för att köra din kod."
   ]
  },
  {
   "cell_type": "code",
   "execution_count": null,
   "metadata": {},
   "outputs": [],
   "source": [
    "################################\n",
    "#Add button to hide/show code:\n",
    "toggle_code()\n",
    "################################\n",
    "\n",
    "\n",
    "#Skriv din kod under denna rad:\n",
    "\n",
    "\n"
   ]
  },
  {
   "cell_type": "markdown",
   "metadata": {
    "deletable": false,
    "editable": false
   },
   "source": [
    "**Övning 4.4:** Plotta antalet pixlar per markanvändningstyp för 2019 enligt exemplet ovan. \n",
    "\n",
    "-  Klicka på knappen ```Visa/Dölj Kod``` nedan för att skriva din kod.\n",
    "-  Klicka på ```Run``` för att köra din kod."
   ]
  },
  {
   "cell_type": "code",
   "execution_count": null,
   "metadata": {},
   "outputs": [],
   "source": [
    "################################\n",
    "#Add button to hide/show code:\n",
    "toggle_code()\n",
    "################################\n",
    "\n",
    "\n",
    "#Skriv din kod under denna rad:\n",
    "\n",
    "\n"
   ]
  },
  {
   "cell_type": "markdown",
   "metadata": {
    "deletable": false,
    "editable": false
   },
   "source": [
    "<br>\n",
    "<br>\n",
    "<div style=\"text-align: right\"> \n",
    "    <a href=\"#intro\">Tillbaka till innehåll</a>\n",
    "</div>"
   ]
  },
  {
   "cell_type": "markdown",
   "metadata": {},
   "source": [
    "<a id='exercise'></a>"
   ]
  },
  {
   "cell_type": "markdown",
   "metadata": {
    "deletable": false,
    "editable": false
   },
   "source": [
    "## 5. Övning: Hjälp forskaren\n",
    "\n",
    "Kim forskar om avskogning i Amazonas. Han har laddat ner Landsat satellitbilder över Rondônia i Brazilien för följande datum: 1984-06-24, 1992-08-01, 2001-09-19 och 2019-07-27. Upplösningen är 30m x 30m, dvs varje pixel i bilden tar upp en area på 900m$^2$.\n",
    "<br>\n",
    "<br>\n",
    "<img src='images/resolution.png' width=500>\n",
    "<br>\n",
    "<br>\n",
    "\n",
    "Kim har beräknat NDVI och histogram för alla år. Han vet hur många pixlar  motsvarar tropisk regnskog för varje år. Han vill nu beräkna hur stor yta täcktes av tropisk regnskog för varje år och sedan uppskatta förlusten av regnskog från 1984 till 2019 i km$^2$.\n",
    "\n",
    "En kollega till Kim påstår att avskogningen orsakat en förlust på regnskog som är större i yta än Stockholms län. Har kollegan rätt?\n",
    "\n",
    "**Tips!** <br>\n",
    "1 km$^2$ = 1,000,000 m$^2$\n",
    "\n",
    "<br>\n",
    "<br>\n",
    "\n",
    "-  Klicka på knappen ```Visa/Dölj Kod``` nedan för att skriva din kod.\n",
    "-  Kör din kod genom att klicka på ```Run```."
   ]
  },
  {
   "cell_type": "code",
   "execution_count": null,
   "metadata": {
    "deletable": false
   },
   "outputs": [],
   "source": [
    "################################\n",
    "#Add button to hide/show code:\n",
    "toggle_code()\n",
    "################################\n",
    "\n",
    "\n",
    "#Skriv din kod under denna rad:\n"
   ]
  },
  {
   "cell_type": "markdown",
   "metadata": {
    "deletable": false,
    "editable": false
   },
   "source": [
    "<br>\n",
    "<br>\n",
    "<div style=\"text-align: right\"> \n",
    "    <a href=\"#intro\">Tillbaka till innehåll</a>\n",
    "</div>\n",
    "<br>\n",
    "<br>"
   ]
  },
  {
   "cell_type": "markdown",
   "metadata": {
    "deletable": false,
    "editable": false
   },
   "source": [
    "<img src=\"logos/sciencecenters_logo.png\" width=\"800\"/>"
   ]
  }
 ],
 "metadata": {
  "kernelspec": {
   "display_name": "Python 3",
   "language": "python",
   "name": "python3"
  },
  "language_info": {
   "codemirror_mode": {
    "name": "ipython",
    "version": 3
   },
   "file_extension": ".py",
   "mimetype": "text/x-python",
   "name": "python",
   "nbconvert_exporter": "python",
   "pygments_lexer": "ipython3",
   "version": "3.8.4"
  }
 },
 "nbformat": 4,
 "nbformat_minor": 2
}
