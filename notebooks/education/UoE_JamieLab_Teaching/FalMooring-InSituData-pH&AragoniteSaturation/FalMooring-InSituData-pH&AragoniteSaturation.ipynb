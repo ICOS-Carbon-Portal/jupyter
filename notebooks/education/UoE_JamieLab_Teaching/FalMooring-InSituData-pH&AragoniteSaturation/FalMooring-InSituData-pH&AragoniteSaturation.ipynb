{
 "cells": [
  {
   "cell_type": "markdown",
   "id": "f7a518ef",
   "metadata": {},
   "source": [
    "# Using the Fal mooring in situ data to calculate pH and aragonite saturation state #\n",
    "\n",
    "## Introduction\n",
    "This notebook explains how we can use the Fal mooring data to calculate the complete carbonate system which includes calculating the pH and aragonite saturation state within the water."
   ]
  },
  {
   "cell_type": "markdown",
   "id": "c3e35f11",
   "metadata": {},
   "source": [
    "### Load Relevant Modules\n",
    "To begin with the required Python packages are loaded."
   ]
  },
  {
   "cell_type": "code",
   "execution_count": null,
   "id": "c0382b96",
   "metadata": {},
   "outputs": [],
   "source": [
    "import os\n",
    "import numpy as np\n",
    "import pandas as pd\n",
    "import matplotlib.pyplot as plt\n",
    "import seaborn as sns\n",
    "import datetime as dt\n",
    "from mpl_toolkits.basemap import Basemap\n",
    "from netCDF4 import Dataset\n",
    "# Install basemap-data-hires"
   ]
  },
  {
   "cell_type": "markdown",
   "id": "3e80327b",
   "metadata": {},
   "source": [
    "### Loading the mooring data\n",
    "Now we need to load the mooring data which is provided as a tab separated variable file (.tsv). And we can then view the first 5 rows of the dataset using the .head(5) command. Alternatively you can view the last 5 rows of the dataset using .tail(5)."
   ]
  },
  {
   "cell_type": "code",
   "execution_count": null,
   "id": "c6b4e599",
   "metadata": {},
   "outputs": [],
   "source": [
    "# Load data file\n",
    "region_data = pd.read_csv('Fal_mooring_fluxphar.tsv', sep='\\t', index_col=0)\n",
    "# Show small proportion of the data\n",
    "region_data.head(100)"
   ]
  },
  {
   "cell_type": "markdown",
   "id": "1c6c53d4",
   "metadata": {},
   "source": [
    "### Preparing to Plot the Recorded Data\n",
    "We want to plot a 'time series' of the data that was recorded. One way to show this is to plot 'Days since [first recording]' along the x-axis and the data along the y-axis. The cell below finds the number of days since the first measurement (technically it finds the number of seconds since the first recording and divides this by 86,400) and creates a new column in the Dataframe to show these values.\n",
    "\n",
    "Note: if your own dataset doesn't have columns for 'Year', 'Month', 'Day', etc. then the below won't work and you need to add this to your dataset. This can be done in Excel (but better to do it Pythonically if possible to prevent Excel making changes to it's own formatting), and see example datasets for the required format."
   ]
  },
  {
   "cell_type": "code",
   "execution_count": null,
   "id": "7ff7722e",
   "metadata": {},
   "outputs": [],
   "source": [
    "# Initialise the new Dataframe column and fill with a hold value\n",
    "region_data['Days_since'] = 'hold value'\n",
    "\n",
    "# Produce a datetime object for the first recording \n",
    "# - the zeros in the line below show it's the first row (index starts at zero)\n",
    "start_date = dt.datetime(region_data.loc[0,'Year'],region_data.loc[0,'Month'],region_data.loc[0,'Day'],\n",
    "                            region_data.loc[0,'Hour'],region_data.loc[0,'Minute'],region_data.loc[0,'Second'])\n",
    "\n",
    "# Loop over all rows in the Dataframe - i.e from 0 to the length of the Dataframe\n",
    "for i in range(0,len(region_data)):\n",
    "    # Get the date time object for the currently indexed recording - indexed by i\n",
    "    future_date = dt.datetime(region_data.loc[i,'Year'],region_data.loc[i,'Month'],region_data.loc[i,'Day'],\n",
    "                              region_data.loc[i,'Hour'],region_data.loc[i,'Minute'],region_data.loc[i,'Second'])\n",
    "    \n",
    "    # Find difference between current datetime and inital datetime\n",
    "    day_diff = future_date - start_date\n",
    "    \n",
    "    # Fill Dataframe column with time difference in seconds (found using .total_seconds()) \n",
    "    # divided by 86400 (proportion of days that have passed)\n",
    "    region_data.loc[i,'Days_since'] = day_diff.total_seconds()/(60*60*24)"
   ]
  },
  {
   "cell_type": "markdown",
   "id": "12f2dd95",
   "metadata": {},
   "source": [
    "We can filter the Dataframe to show just the 'Datetime' and 'Days_since' columns. Showing the head can give an idea if the previous cell worked - although a more thorough check is advised if possible depending on Dataframe size."
   ]
  },
  {
   "cell_type": "code",
   "execution_count": null,
   "id": "efb24cef",
   "metadata": {},
   "outputs": [],
   "source": [
    "# Filter data to 'Datetime' and 'Days_since' columns and show first 5 rows.\n",
    "region_data[['Datetime', 'Days_since']].head(5)"
   ]
  },
  {
   "cell_type": "code",
   "execution_count": null,
   "id": "2129dc12",
   "metadata": {},
   "outputs": [],
   "source": [
    "# Print column names\n",
    "print(\"Column Names:\", region_data.columns)"
   ]
  },
  {
   "cell_type": "code",
   "execution_count": null,
   "id": "03f0967d",
   "metadata": {},
   "outputs": [],
   "source": [
    "import pandas as pd\n",
    "import PyCO2SYS as pyco2\n",
    "import numpy as np\n",
    "import warnings\n",
    "\n",
    "# Load data file\n",
    "region_data = pd.read_csv('Fal_mooring_fluxphar.tsv', sep='\\t', index_col=0)\n",
    "\n",
    "# Calculate alkalinity and add it to the DataFrame\n",
    "region_data['alkalinity'] = 889 + 37.9 * region_data['salinity']\n",
    "\n",
    "# Assume pressure is 10 kPa for all measurements (surface or within the top 1 m)\n",
    "pressure = 0\n",
    "\n",
    "# Replace zero values with NaN in relevant columns before PyCO2Sys calculations\n",
    "columns_to_replace_zero = ['alkalinity', 'pco2sw_corr_split', 'salinity', 'sstskin_c']\n",
    "region_data[columns_to_replace_zero] = region_data[columns_to_replace_zero].replace(0, np.nan)\n",
    "\n",
    "# Calculate carbonate system parameters using PyCO2Sys\n",
    "results = pyco2.sys(\n",
    "    par1=region_data['alkalinity'],\n",
    "    par2=region_data['pco2sw_corr_split'],\n",
    "    par1_type=1,  # Alkalinity\n",
    "    par2_type=4,  # pCO2\n",
    "    salinity=region_data['salinity'],\n",
    "    temperature=region_data['sstskin_c'],\n",
    "    pressure=pressure\n",
    ")\n",
    "\n",
    "\n",
    "# Unpack the results\n",
    "region_data['pH'] = results['pH']\n",
    "region_data['aragonite_saturation'] = results['saturation_aragonite']\n",
    "\n",
    "# Save updated DataFrame to a new TSV file\n",
    "region_data.to_csv('Fal_mooring_flux_updated.tsv', sep='\\t')\n",
    "\n",
    "# Display the first few rows of the updated DataFrame\n",
    "print(region_data.head())\n"
   ]
  },
  {
   "cell_type": "markdown",
   "id": "22ea18f8",
   "metadata": {},
   "source": [
    "### Plotting the Time Series  \n",
    "\n",
    "The Matplotlib .subplots() function is ideal for this and I have used Seaborn to do the actual plotting - these two packages work well together as Seaborn is built on top of Matplotlib, and Seaborn also integrates easily with Pandas Dataframes. \n",
    "\n",
    "Producing nice looking plots with lovely axes labels and colors etc. can be fiddly, but you can refer to the documentation (and StackOverflow!) for hints and tips."
   ]
  },
  {
   "cell_type": "code",
   "execution_count": null,
   "id": "bf66c222",
   "metadata": {},
   "outputs": [],
   "source": [
    "import matplotlib.pyplot as plt\n",
    "import matplotlib.dates as mdates\n",
    "import warnings\n",
    "import pandas as pd\n",
    "import seaborn as sns\n",
    "\n",
    "# Suppress all warnings\n",
    "warnings.filterwarnings(\"ignore\")\n",
    "\n",
    "# Load data file\n",
    "region_data = pd.read_csv('Fal_mooring_flux_updated.tsv', sep='\\t', index_col=0)\n",
    "\n",
    "# Convert 'Date' column to datetime format with the correct format\n",
    "region_data['Date'] = pd.to_datetime(region_data['Date'], format='%d/%m/%Y')\n",
    "\n",
    "# Set up a figure with 4 axes on it. Sharex=True means all axes will share the bottom axes (can help with clarity)\n",
    "fig, ax = plt.subplots(4, 2, sharex=True)\n",
    "# Set figure height and width\n",
    "fig.set_figheight(15), fig.set_figwidth(15)\n",
    "\n",
    "# PLOTTING THE DATA\n",
    "sns.lineplot(data=region_data, x='Date', y='salinity', color='turquoise', ax=ax[0, 0])\n",
    "sns.lineplot(data=region_data, x='Date', y='sstskin_k', color='red', ax=ax[0, 1])\n",
    "sns.lineplot(data=region_data, x='Date', y='windu10', color='green', ax=ax[1, 0])\n",
    "sns.lineplot(data=region_data, x='Date', y='pco2sw_corr_split', color='blue', ax=ax[1, 1],\n",
    "             hue=region_data[\"pco2sw_corr_split\"].isna().cumsum(), palette=[\"blue\"]*sum(region_data[\"pco2sw_corr_split\"].isna()), legend=False, markers=True)\n",
    "sns.lineplot(data=region_data, x='Date', y='pressure_met', color='purple', ax=ax[2, 0])\n",
    "sns.lineplot(data=region_data, x='Date', y='pco2_air_noaa_2018', color='black', ax=ax[2, 1])\n",
    "sns.lineplot(data=region_data, x='Date', y='pH', color='orange', ax=ax[3, 0],\n",
    "             hue=region_data[\"pH\"].isna().cumsum(), palette=[\"orange\"]*sum(region_data[\"pH\"].isna()), legend=False, markers=True)\n",
    "sns.lineplot(data=region_data, x='Date', y='aragonite_saturation', color='brown', ax=ax[3, 1],\n",
    "             hue=region_data[\"aragonite_saturation\"].isna().cumsum(), palette=[\"brown\"]*sum(region_data[\"aragonite_saturation\"].isna()), legend=False, markers=True)\n",
    "\n",
    "# Use WeekdayLocator and DateFormatter to show only weekly dates on x-axis\n",
    "date_fmt = mdates.DateFormatter('%d-%m-%Y')\n",
    "week_locator = mdates.WeekdayLocator(byweekday=mdates.MO)\n",
    "ax[2, 0].xaxis.set_major_locator(week_locator)\n",
    "ax[2, 0].xaxis.set_major_formatter(date_fmt)\n",
    "ax[2, 1].xaxis.set_major_locator(week_locator)\n",
    "ax[2, 1].xaxis.set_major_formatter(date_fmt)\n",
    "\n",
    "# Set x axis label\n",
    "ax[3, 0].set_xlabel('Date', fontsize=20)\n",
    "ax[3, 1].set_xlabel('Date', fontsize=20)\n",
    "ax[3, 0].set_xticklabels(region_data['Date'], rotation='vertical')\n",
    "ax[3, 1].set_xticklabels(region_data['Date'], rotation='vertical')\n",
    "\n",
    "# Set y label for each axis\n",
    "ax[0, 0].set_ylabel('Salinity', fontsize=20)\n",
    "ax[0, 1].set_ylabel('SST (K)', fontsize=20)\n",
    "ax[1, 0].set_ylabel('Windspeed (m/s)', fontsize=20)\n",
    "ax[1, 1].set_ylabel('Est.pCO2 (µ atm)', fontsize=20)\n",
    "ax[2, 0].set_ylabel('Atm.Pressure (mbar)', fontsize=20)\n",
    "ax[2, 1].set_ylabel('Atm.pCO2 (ppm)', fontsize=20)\n",
    "ax[3, 0].set_ylabel('pH', fontsize=20)\n",
    "ax[3, 1].set_ylabel('Aragonite Saturation', fontsize=20)\n",
    "\n",
    "# Changes how axis ticks are displayed for last two axes\n",
    "ax[0, 0].yaxis.set_major_formatter('{x:9<5.2f}')\n",
    "ax[0, 1].yaxis.set_major_formatter('{x:9<5.2f}')\n",
    "ax[1, 0].yaxis.set_major_formatter('{x:9<5.2f}')\n",
    "ax[1, 1].yaxis.set_major_formatter('{x:9<5.2f}')\n",
    "ax[2, 0].yaxis.set_major_formatter('{x:9<5.2f}')\n",
    "ax[2, 1].yaxis.set_major_formatter('{x:9<5.2f}')\n",
    "ax[3, 0].yaxis.set_major_formatter('{x:9<5.2f}')\n",
    "ax[3, 1].yaxis.set_major_formatter('{x:9<5.2f}')\n",
    "\n",
    "# Set x-axis ticks and labels\n",
    "date_fmt = mdates.DateFormatter('%d-%m-%Y')\n",
    "for i in range(4):\n",
    "    for j in range(2):\n",
    "        ax[i, j].xaxis.set_major_formatter(date_fmt)\n",
    "        ax[i, j].tick_params(axis='x', rotation=45)\n",
    "\n",
    "        # Set the x-axis limits to cover the entire date range without extending before and after\n",
    "        ax[i, j].set_xlim(region_data['Date'].min(), region_data['Date'].max())\n",
    "\n",
    "# Set a tight layout to remove extra space around the plots\n",
    "fig.tight_layout()\n",
    "# Reduce the gap between the top of the figure and the title\n",
    "fig.subplots_adjust(top=0.95)\n",
    "\n",
    "# Show figure!\n",
    "plt.show()"
   ]
  }
 ],
 "metadata": {
  "kernelspec": {
   "display_name": "Python 3 (ipykernel)",
   "language": "python",
   "name": "python3"
  },
  "language_info": {
   "codemirror_mode": {
    "name": "ipython",
    "version": 3
   },
   "file_extension": ".py",
   "mimetype": "text/x-python",
   "name": "python",
   "nbconvert_exporter": "python",
   "pygments_lexer": "ipython3",
   "version": "3.9.0"
  }
 },
 "nbformat": 4,
 "nbformat_minor": 5
}
