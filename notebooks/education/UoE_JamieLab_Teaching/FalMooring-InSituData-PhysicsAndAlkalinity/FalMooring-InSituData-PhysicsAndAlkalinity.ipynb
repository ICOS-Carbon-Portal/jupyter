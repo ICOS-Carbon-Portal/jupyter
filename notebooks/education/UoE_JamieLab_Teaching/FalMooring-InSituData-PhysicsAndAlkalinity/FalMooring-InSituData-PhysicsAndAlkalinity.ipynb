{
 "cells": [
  {
   "cell_type": "markdown",
   "id": "f7a518ef",
   "metadata": {},
   "source": [
    "# Using the Fal river mooring data to study the physical oceanography and alkalinity #\n",
    "\n",
    "## Introduction\n",
    "This notebook explains how we can visualise the mooring data and then use them to estimate alkalinity"
   ]
  },
  {
   "cell_type": "markdown",
   "id": "c3e35f11",
   "metadata": {},
   "source": [
    "### Loading some Python software packages\n",
    "\n",
    "To begin with we need to first load some Python packages."
   ]
  },
  {
   "cell_type": "code",
   "execution_count": null,
   "id": "c0382b96",
   "metadata": {},
   "outputs": [],
   "source": [
    "import os\n",
    "import numpy as np\n",
    "import pandas as pd\n",
    "import matplotlib.pyplot as plt\n",
    "import seaborn as sns\n",
    "import datetime as dt\n",
    "from mpl_toolkits.basemap import Basemap\n",
    "from netCDF4 import Dataset\n",
    "# Install basemap-data-hires"
   ]
  },
  {
   "cell_type": "markdown",
   "id": "3e80327b",
   "metadata": {},
   "source": [
    "### Loading the mooring in situ data\n",
    "Next we need to load the in situ data. This is very simple using the Python Pandas library where we can use the .read_csv() function, which can load comma seperated values (csv) or tab seperated Values (tsv) files. If you are using a csv file the the 'sep' keyword (the delimeter) should be changed to a comma ',' but if you are using a tsv file then the 'sep' keyword can be the sep='\\t' option (which selects tab as the delimeter). Additionally, the 'index_col' keyword is set to 0 to define that the first column in the data are simply indexing/counting the rows (i.e its just a count rather than being some actual data). You can try removing this with the example data to see what happens.\n",
    "\n",
    "Now we will use the 'Alkalinity Buoy.csv' data, or you can input your own data file. We then show the first 5 rows of the data using the .head() function and you can see the bottom 5 rows by changing this to .tail()"
   ]
  },
  {
   "cell_type": "code",
   "execution_count": null,
   "id": "c6b4e599",
   "metadata": {
    "scrolled": true
   },
   "outputs": [],
   "source": [
    "# Load data file\n",
    "region_data = pd.read_csv('alkalinity_buoy_hourly.csv', sep=',', index_col=0, nrows=200)\n",
    "# Show small proportion of the data\n",
    "region_data.head(5)"
   ]
  },
  {
   "cell_type": "markdown",
   "id": "1c6c53d4",
   "metadata": {},
   "source": [
    "### Preparing to plot the mooring data\n",
    "We want to plot a time series of the data that were recorded. Here we will first just plot a few hours of data. The cell below finds the number of hours since the first measurement and then creates a new column in the Dataframe to show these values."
   ]
  },
  {
   "cell_type": "code",
   "execution_count": null,
   "id": "7ff7722e",
   "metadata": {},
   "outputs": [],
   "source": [
    "# Initialise the new Dataframe column and fill with a hold value\n",
    "region_data['Hours_since'] = 'hold value'\n",
    "\n",
    "# Produce a datetime object for the first recording \n",
    "# - the zeros in the line below show it's the first row (index starts at zero)\n",
    "start_date = dt.datetime(region_data.loc[0,'Year'],region_data.loc[0,'Month'],region_data.loc[0,'Day'],\n",
    "                            region_data.loc[0,'Hour'],region_data.loc[0,'Minute'],region_data.loc[0,'Second'])\n",
    "\n",
    "# Loop over all rows in the Dataframe - i.e from 0 to the length of the Dataframe\n",
    "for i in range(0,len(region_data)):\n",
    "    # Get the date time object for the currently indexed recording - indexed by i\n",
    "    future_date = dt.datetime(region_data.loc[i,'Year'],region_data.loc[i,'Month'],region_data.loc[i,'Day'],\n",
    "                              region_data.loc[i,'Hour'],region_data.loc[i,'Minute'],region_data.loc[i,'Second'])\n",
    "    \n",
    "    # Find difference between current datetime and inital datetime\n",
    "    day_diff = future_date - start_date\n",
    "    \n",
    "    # Fill Dataframe column with time difference in seconds (found using .total_seconds()) \n",
    "    # divided by 86400 (proportion of days that have passed)\n",
    "    region_data.loc[i,'Hours_since'] = day_diff.total_seconds()/(60*60)"
   ]
  },
  {
   "cell_type": "markdown",
   "id": "12f2dd95",
   "metadata": {},
   "source": [
    "To help view our data, we can filter the Dataframe to show just the 'Datetime' and 'Days_since' columns. This allows us to easily check that the previous commands have worked."
   ]
  },
  {
   "cell_type": "code",
   "execution_count": null,
   "id": "efb24cef",
   "metadata": {},
   "outputs": [],
   "source": [
    "# Filter data to 'Datetime' and 'Days_since' columns and show first 5 rows.\n",
    "region_data[['Datetime', 'Hours_since']].head(5)"
   ]
  },
  {
   "cell_type": "markdown",
   "id": "22ea18f8",
   "metadata": {},
   "source": [
    "### Plotting the mooring time Series  \n",
    "\n",
    "The Matplotlib .subplots() package is ideal for creating a plot containg multiple windows and we can then use Seaborn package to create the actual time series plots - these two packages work well together as Seaborn is built on top of Matplotlib, and Seaborn also integrates easily with Pandas Dataframes. \n",
    "\n",
    "Producing nice looking plots with professional axes labels and colors etc. can be time consuming, but is worth it for any written work, so you can refer to Python documentation online (e.g StackOverflow examples or tutorials) for hints and tips."
   ]
  },
  {
   "cell_type": "code",
   "execution_count": null,
   "id": "bf66c222",
   "metadata": {},
   "outputs": [],
   "source": [
    "# Set up a figure with 4 axes on it. Sharex=True means all axes will share the bottom axes (can help with clarity)\n",
    "fig,ax = plt.subplots(1,2, sharex=True)\n",
    "# Set figure height and width\n",
    "fig.set_figheight(15), fig.set_figwidth(15)\n",
    "\n",
    "### PLOTTING THE DATA ### (- *s indicate a plot keyword below)\n",
    "# These Seaborn commands state that we want a *lineplot*, where the *data* is coming \n",
    "# from our region_data Dataframe, and we chose the *x* & *y* columns that we want, as well\n",
    "# as the axis (*ax*) we want to plot on (indexed by 0 at the top and 3 at the bottom)\n",
    "sns.lineplot(data=region_data, x='Hours_since', y='salinity', color='turquoise', ax=ax[0])\n",
    "sns.lineplot(data=region_data, x='Hours_since', y='temperature_c', color='red', ax=ax[1])\n",
    "#sns.lineplot(data=region_data, x='Days_since', y='xCO2air', ax=ax[2])\n",
    "#sns.lineplot(data=region_data, x='Days_since', y='fCO2', ax=ax[3])\n",
    "\n",
    "# Set x axis label\n",
    "ax[0].set_xlabel(f'Hours since {region_data.loc[0,\"Datetime\"]}', fontdict={'size':15})\n",
    "ax[1].set_xlabel(f'Hours since {region_data.loc[0,\"Datetime\"]}', fontdict={'size':15})\n",
    "\n",
    "# Set y label for each axis\n",
    "ax[0].set_ylabel('Salinity', fontsize = 15) \n",
    "ax[1].set_ylabel('Temperature (celsius)', fontsize = 15)\n",
    "\n",
    "\n",
    "# Changes how axis ticks are displayed for last two axes\n",
    "# - you can comment these out with # to see the effect when removed\n",
    "ax[0].yaxis.set_major_formatter('{x:9<5.2f}')\n",
    "ax[1].yaxis.set_major_formatter('{x:9<5.2f}')\n",
    "\n",
    "\n",
    "# Set a tight layout to remove extra space around the plots\n",
    "fig.tight_layout()\n",
    "# Reduce gap between top of figure and the title\n",
    "fig.subplots_adjust(top=0.95)\n",
    "\n",
    "# Show figure!\n",
    "plt.show()"
   ]
  },
  {
   "cell_type": "markdown",
   "id": "7e1d5d9b-e630-482e-a82f-2fca749f476a",
   "metadata": {
    "jp-MarkdownHeadingCollapsed": true,
    "tags": []
   },
   "source": [
    "### Using the salinity data to estimate the alkalinity\n",
    "\n",
    "Previous work has provided us with the salinity to alkalinity linear relationship for an example riverine environment. So we can estimate the alkalinty by using the following linear relationship:\n",
    "\n",
    "$ Alkalinty = 889 + (37.9 x Salinity)$\n",
    "\n",
    "What can you say about the alkalinity and how it varies with time and what is the cyclic nature to the data?"
   ]
  },
  {
   "cell_type": "code",
   "execution_count": null,
   "id": "ea84f83b-2c06-44b3-9fbc-8b7e9020bc04",
   "metadata": {},
   "outputs": [],
   "source": [
    "# Create new columns in dataframe for alkalinity\n",
    "region_data['alkalinity'] = 889 + 37.9*(region_data['salinity']) "
   ]
  },
  {
   "cell_type": "code",
   "execution_count": null,
   "id": "5af53a46-b166-432f-9220-2ec9ec76abb4",
   "metadata": {},
   "outputs": [],
   "source": [
    "# Plot alaklinity - uses same commands as above but as only one plot is required we don't need to index the axes\n",
    "fig, ax = plt.subplots(1,1, figsize=(15,5))\n",
    "sns.lineplot(data=region_data, x='Hours_since', y='alkalinity', color=\"green\", ax=ax)\n",
    "plt.xlabel(f'Hours since {region_data.loc[0,\"Datetime\"]} 12:00:00', fontdict={'size':15})\n",
    "ax.set_ylabel('Alkalinity (µmol/kg)', fontsize = 15) \n",
    "ax.yaxis.set_major_formatter('{x:9<5.2f}')\n",
    "plt.show()"
   ]
  },
  {
   "cell_type": "markdown",
   "id": "8e4dcfc6",
   "metadata": {},
   "source": [
    "### Displaying the mooring location on a simple map\n",
    "\n",
    "Now we want to display the location of the mooring onto a simple map of the Fal estuary. There are multiple Python packages that could this, but here we just want a simple approach so we will use Basemap (which is part of Matplotlib). Note: if you are familar with GIS and producing Shapefiles then you could attempt to use Geopandas.\n",
    "\n",
    "First we need to determine the minimum and maximum longitude and latitude for our data to give us an idea of the geographical region to plot."
   ]
  },
  {
   "cell_type": "code",
   "execution_count": null,
   "id": "96751c0e",
   "metadata": {},
   "outputs": [],
   "source": [
    "# Get min and max of longitude and latitude\n",
    "region_data.describe().loc[['min','max'],['Lon','Lat']]"
   ]
  },
  {
   "cell_type": "markdown",
   "id": "830f1bf5",
   "metadata": {},
   "source": [
    "This has just identified the location of the mooring, as it was stationary (and luckily did not go wandering off!).  The code in the cells below have been written to allow easy plotting of the mooring data but it can also be used to create your own plot for other datasets. First run the next cell which will setup the region definitions needed by the Basemap plotting function (i.e so nothing visual will happen when you run this cell). You can see that we have included a second region definition (called Agulhus) to illustrate how you can use this code for your own plots."
   ]
  },
  {
   "cell_type": "code",
   "execution_count": null,
   "id": "ad4b53fe",
   "metadata": {},
   "outputs": [],
   "source": [
    "def get_coords(location):\n",
    "    if location == 'Alkalinity Buoy':\n",
    "        lon_min = -5.2\n",
    "        lon_max = -4.9\n",
    "        lat_min = 50.1\n",
    "        lat_max = 50.25\n",
    "        return lon_min, lon_max, lat_min, lat_max\n",
    "    \n",
    "    elif location == 'Agulhas':\n",
    "        lon_min = 19.7\n",
    "        lon_max = 20.2\n",
    "        lat_min = -35.0\n",
    "        lat_max = -34.7\n",
    "        return lon_min, lon_max, lat_min, lat_max\n",
    "    \n",
    "    else:\n",
    "        lon_min = input('Enter minimum longitude (most Westerly): ')\n",
    "        lon_max = input('Enter minimum longitude (most Easterly): ')\n",
    "        lat_min = input('Enter minimum latitude (most Southerly): ')\n",
    "        lat_max = input('Enter maximum latitude (most Northerly): ')\n",
    "        print('\\n\\n')\n",
    "        if (lon_min >= lon_max) or (lat_min >= lat_max):\n",
    "            print('Check if min/max were entered in the correct order (is a min greater than a max?)')\n",
    "            return np.nan, np.nan, np.nan, np.nan\n",
    "        \n",
    "        \n",
    "        return float(lon_min), float(lon_max), float(lat_min), float(lat_max)"
   ]
  },
  {
   "cell_type": "markdown",
   "id": "f91eeb6f",
   "metadata": {},
   "source": [
    "In the cell below we are reading in the maximum and minimum values of the latitude and longitude from the Dataframe and these are then printed to the screen."
   ]
  },
  {
   "cell_type": "code",
   "execution_count": null,
   "id": "7204d18b",
   "metadata": {},
   "outputs": [],
   "source": [
    "### Change string to 'CarrickRoads', 'Agulhas' or your own region name (use '_' for spaces)\n",
    "region_name = 'Alkalinity Buoy'\n",
    "# Performs function\n",
    "lon_min, lon_max, lat_min, lat_max = get_coords(region_name)\n",
    "\n",
    "# Note: if you're having problems with the input fields you can uncomment the line below \n",
    "# and  just enter the values instead, but also comment out the line above to avoid confusion.\n",
    "\n",
    "# lon_min, lon_max, lat_min, lat_max = __ , __ , __ , __\n",
    "\n",
    "# Print out current values\n",
    "print('Current values:')\n",
    "print(f'Longitude -> \\t min:{lon_min} \\t max:{lon_max}')\n",
    "print(f'Latitude -> \\t min:{lat_min} \\t max:{lat_max}')"
   ]
  },
  {
   "cell_type": "markdown",
   "id": "a64f2f6d",
   "metadata": {},
   "source": [
    "Now that we have the longitude and latitude bounds we can now create the map. The code below initialises the figure (1), defines our map (2), adds details to the plot (3), adds the gridlines (4), and then plots the location of the dataset (5).\n",
    "\n",
    "The current resolution is set to 'i' (for intermediate) which produces a relatively coarse spatial scale map. You could install the basemap-data-hires package and then use 'f' (for full) to get a higher resolution map image."
   ]
  },
  {
   "cell_type": "code",
   "execution_count": null,
   "id": "4eb89bbf",
   "metadata": {},
   "outputs": [],
   "source": [
    "# 1) Intialise figure and figure size\n",
    "fig = plt.gcf()\n",
    "fig.set_size_inches(20,10, forward=True)\n",
    "\n",
    "# 2) Define the map \n",
    "# Here we have a cylindrical equidistant projection bound by our chosen latitude and longitudes,\n",
    "# and a chosen resolution ('i' = intermediate)\n",
    "m = Basemap(projection='cyl',\n",
    "            llcrnrlat=lat_min,urcrnrlat=lat_max,\n",
    "            llcrnrlon=lon_min,urcrnrlon=lon_max,\n",
    "            resolution='i')\n",
    "\n",
    "# 3) Fill land masses with green colour\n",
    "m.fillcontinents(color='green')\n",
    "\n",
    "# 4) Draw map gridlines - the 'split_lat' and 'split_lon' have been set to show a 0.05x0.05 degree \n",
    "# grid, which reflects that given in the ESA CCI data (covered next)\n",
    "split_lon = round((lon_max - lon_min)/0.05) + 1\n",
    "lons = np.linspace(lon_min,lon_max,split_lon)\n",
    "m.drawmeridians(lons,labels=[1,0,0,1])\n",
    "\n",
    "split_lat = round((lat_max - lat_min)/0.05) + 1\n",
    "lats = np.linspace(lat_min,lat_max,split_lat)\n",
    "m.drawparallels(lats,labels=[1,0,0,1])\n",
    "\n",
    "\n",
    "track_lon, track_lat = m(np.asarray(region_data['Lon']),np.asarray(region_data['Lat']))\n",
    "plt.scatter(track_lon,track_lat, s=10, marker='o', color='Red') \n",
    "\n",
    "\n",
    "plt.show()"
   ]
  }
 ],
 "metadata": {
  "kernelspec": {
   "display_name": "Python 3 (ipykernel)",
   "language": "python",
   "name": "python3"
  },
  "language_info": {
   "codemirror_mode": {
    "name": "ipython",
    "version": 3
   },
   "file_extension": ".py",
   "mimetype": "text/x-python",
   "name": "python",
   "nbconvert_exporter": "python",
   "pygments_lexer": "ipython3",
   "version": "3.9.0"
  }
 },
 "nbformat": 4,
 "nbformat_minor": 5
}
