{
 "cells": [
  {
   "cell_type": "markdown",
   "id": "potential-vintage",
   "metadata": {},
   "source": [
    "<img src=\"https://www.icos-cp.eu/sites/default/files/2017-11/ICOS_CP_logo.png\" width=\"300\" align=\"right\"/>\n",
    "<br>\n",
    "<br>\n",
    "<br> \n",
    "<br>\n",
    "<br>\n",
    "<br>\n",
    "<br>\n",
    "<br>\n",
    "\n",
    "\n",
    "# ICOS Carbon Portal - Jupyter Notebooks for Education\n",
    "This folder contains subfolders with educational material based on ICOS data.\n",
    "\n",
    "<br>\n",
    "\n",
    "## Structure\n",
    "The educational material is divided into folders baced on the target audience.\n",
    "\n",
    "* **General:** includes notebooks that use ICOS data to introduce school students and the general public to basic principles of programming while learning about the carbon cycle, global warming and drought.\n",
    "* **MSc BSc:** contains notebooks with exercises based on ICOS data aimed at university students\n",
    "* **PhD:** includes notebooks with exercises based on ICOS data for PhD courses\n",
    "\n",
    "<br>\n",
    "\n",
    "## Licence\n",
    "This work is licensed under a Creative Commons Attribution 4.0 International License (CC BY 4.0). <br>\n",
    "Copyright © 2019-2020 ICOS ERIC"
   ]
  }
 ],
 "metadata": {
  "kernelspec": {
   "display_name": "Python 3",
   "language": "python",
   "name": "python3"
  },
  "language_info": {
   "codemirror_mode": {
    "name": "ipython",
    "version": 3
   },
   "file_extension": ".py",
   "mimetype": "text/x-python",
   "name": "python",
   "nbconvert_exporter": "python",
   "pygments_lexer": "ipython3",
   "version": "3.8.6"
  },
  "toc": {
   "base_numbering": 1,
   "nav_menu": {},
   "number_sections": false,
   "sideBar": true,
   "skip_h1_title": true,
   "title_cell": "Table of Contents",
   "title_sidebar": "Contents",
   "toc_cell": false,
   "toc_position": {},
   "toc_section_display": true,
   "toc_window_display": false
  }
 },
 "nbformat": 4,
 "nbformat_minor": 5
}
