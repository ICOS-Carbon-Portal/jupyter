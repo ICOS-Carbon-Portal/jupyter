{
 "cells": [
  {
   "cell_type": "markdown",
   "id": "south-federal",
   "metadata": {},
   "source": [
    "<img src=\"https://www.icos-cp.eu/sites/default/files/2017-11/ICOS_CP_logo.png\" width=\"300\" align=\"right\"/>\n",
    "<br>\n",
    "<br>\n",
    "<br>\n",
    "\n",
    "# ICOS Carbon Portal - General Educational Jupyter Notebooks\n",
    "This folder includes subfolders with educational material based on ICOS data. The target audience are high school students, university students and the general public.\n",
    "The notebooks in this folder make use of ICOS data to introduce users to basic principles of programming while learning about the carbon cycle, global warming and drought.\n",
    "<br>\n",
    "\n",
    "## Structure\n",
    "There are three notebooks in this folder. \n",
    "\n",
    "All notebooks contain descriptions of carbon dioxide and the carbon cycle, a video showing changes in carbon dioxide and methane levels, a quiz about the carbon cycle, and an interactive graph showing carbon dioxide concentrations from April 2017 (Hyltemossa station) or June 2017 (Svartberget station) through May 2018.\n",
    "\n",
    "The primary notebook is `carbon_cycle_drought.ipynb`, which contains more information about using Jupyter and has many exercises, demonstrating how to interact with pandas DataFrames, using data from the Hyltemossa ICOS station. It also includes a longer exercise about calculating GPP, using data from the summer 2018 drought.\n",
    "\n",
    "The other two notebooks, `carboncycle_htm.ipynb` and `carboncycle_svb.ipynb` contain less information, and are more suitable for a less technically experienced audience. The two notebooks are nearly identical, except they use data from two different stations: Hyltemossa in `carboncycle_htm.ipynb` and Svartberget in `carboncycle_svb.ipynb`.\n",
    "\n",
    "The supporting files for the notebooks can be found in the subdirectories.\n",
    "\n",
    "## Licence\n",
    "This work is licensed under a Creative Commons Attribution 4.0 International License (CC BY 4.0). <br>\n",
    "Copyright © 2019-2020 ICOS ERIC"
   ]
  }
 ],
 "metadata": {
  "kernelspec": {
   "display_name": "Python 3",
   "language": "python",
   "name": "python3"
  },
  "language_info": {
   "codemirror_mode": {
    "name": "ipython",
    "version": 3
   },
   "file_extension": ".py",
   "mimetype": "text/x-python",
   "name": "python",
   "nbconvert_exporter": "python",
   "pygments_lexer": "ipython3",
   "version": "3.8.6"
  },
  "toc": {
   "base_numbering": 1,
   "nav_menu": {},
   "number_sections": false,
   "sideBar": true,
   "skip_h1_title": true,
   "title_cell": "Table of Contents",
   "title_sidebar": "Contents",
   "toc_cell": false,
   "toc_position": {},
   "toc_section_display": true,
   "toc_window_display": false
  }
 },
 "nbformat": 4,
 "nbformat_minor": 5
}
