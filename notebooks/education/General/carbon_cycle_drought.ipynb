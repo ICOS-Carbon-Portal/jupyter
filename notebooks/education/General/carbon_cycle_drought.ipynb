{
 "cells": [
  {
   "cell_type": "markdown",
   "metadata": {},
   "source": [
    "### Please run this notebook in jupyter's classic interface.\n",
    "- To launch the classic interface go to `Help` -> `Launch Classic Notebook` and reopen the notebook.\n",
    "- If you cannot find the `Launch Classic Notebook` option under the `Help` menu, it means you are already using the classic interface."
   ]
  },
  {
   "cell_type": "markdown",
   "metadata": {},
   "source": [
    "<img src=\"images/banner_cc_eng.png\" width=\"890\" align=\"center\"/>"
   ]
  },
  {
   "cell_type": "markdown",
   "metadata": {},
   "source": [
    "<a id='intro'></a>\n",
    "\n",
    "\n",
    "# Carbon Cycle & Drought\n",
    "\n",
    "### Programming exercises in Python using ICOS CO$_2$-data\n",
    "\n",
    "This Jupyter Notebook is dedicated to explaining the carbon cycle and focuses on topics regarding daily and yearly fluctuations in the concentration and uptake of carbon dioxide. It contains definitions, short descriptions, figures and animations that describe the following terms: **carbon dioxide**, **carbon cycle**, **carbon sinks**, **carbon sources**, **photosynthesis** and **Gross Primary Production (GPP)**. You will be able to test your knowledge on carbon by taking the _Carbon Challenge Quiz_. In order to better comprehend the carbon cycle with real-life examples, the notebook also includes exercises using ICOS data from Hyltemossa research station in Sweden.\n",
    "\n",
    "Calculating statistics over several thousands of values by hand (i.e. using paper and pen) can be a cumbersome task. Not to mention the probability of committing en error in the calculations, which is getting higher as the number of values increases. Computer programming allows us to execute computations over large number of values faster and more accurately. The purpose of the following programming exercises is for you to gain first hand experience of how easy it is to calculate statistics, over relatively *large* datasets, using just a few lines of code. Several step-by-step exercises have been developed to make you acquainted with basic principles in Python-programming. \n",
    "\n",
    "Programming-wise you will learn how to:\n",
    "\n",
    "-  Import and read data from csv-files\n",
    "-  Organize data in arrays/DataFrames\n",
    "-  Extract data from arrays/DataFrames with the help of an index\n",
    "-  Calculate statistics over the data values of an array/DataFrame\n",
    "-  Create static and interactive plots\n",
    "\n",
    "\n",
    "The programming exercises build on topics related to the daily and yearly patterns of uptake and release of carbon dioxide amongst different parts of an ecosystem. You will have the chance to test your newly acquired knowledge in  programming and climate science in the final exercise, where you will be asked to help a climate scientist determine whether the drought during the summer of 2018 had any effect on the vegetation near Hyltemossa research station.  \n",
    "\n",
    "<br>\n",
    "The notebook is divided into the following parts:\n",
    "\n",
    "-  [1. What is carbon dioxide (CO$_2$)?](#co2_definition)\n",
    "\n",
    "\n",
    "-  [2. Carbon cycle](#carbon_cycle_definition)\n",
    "\n",
    "\n",
    "-  [3. A year in the life of Earth's CO$_2$](#co2_youtube)\n",
    "\n",
    "\n",
    "-  [4. Quiz: Carbon challenge - How well do you know carbon?](#quiz_environmentalist)\n",
    "\n",
    "\n",
    "-  [5. Exercises with ICOS-data from Hyltemossa research station](#exercise_icos_htm)\n",
    "    -  [5.1. Import Python modules](#exercise_import_modules_py)\n",
    "    -  [5.2. Read data from CSV-files and store them in Python arrays](#exercise_read_csv_to_pandas)\n",
    "    -  [5.3. Indexing](#add_index_to_pandas)\n",
    "    -  [5.4. Calculate statistics](#pandas_stats)\n",
    "    -  [5.5. Plotting](#exercise_plot_data_bokeh)\n",
    "\n",
    "\n",
    "-  [6. Exercise: Help a climate scientist](#final_exercise_py) \n",
    "\n",
    "\n",
    "-  [7. References](#references) \n",
    "\n",
    "\n",
    "<br>\n",
    "<br>\n",
    "<br>\n",
    "<br>\n",
    "\n",
    "## Instructions on  How to Use this Jupyter Notebook\n",
    "\n",
    "### <span style=\"color:#cb4154\">Run the Notebook</span>\n",
    "To execute this Jupyter Notebook, go to the top menu and click on **Kernel** and then **Restart & Run All**. \n",
    "<br>\n",
    "<br>\n",
    "\n",
    "<img src=\"images/restart_run_all_nb_pic.png\" width=\"290\" align=\"center\"/>\n",
    "\n",
    "<br>\n",
    "<br>\n",
    "<br>\n",
    "<br>\n",
    "\n",
    "### <span style=\"color:#cb4154\">Run a single code-cell</span>\n",
    "A Jupyter notebook contains code-cells. You can write Python code in a code-cell and then execute that code by clicking on the **Run**-button in the top menu. \n",
    "<br>\n",
    "<br>\n",
    "\n",
    "<img src=\"images/run_code_cell_nb.png\" width=\"580\" align=\"center\"/>\n",
    "\n",
    "<br>\n",
    "<br>\n",
    "\n",
    "\n",
    "### <span style=\"color:#cb4154\">Active code-cell</span>\n",
    "Note that when you click on the **Run**-button in the top menu, only the code inside the currently active code-cell will be executed. Active code-cells are highlighted in blue or green. To activate a code-cell, simply click on it.\n",
    "<br>\n",
    "<br>\n",
    "\n",
    "<img src=\"images/marked_code_cell_nb_py_eng.png\" width=\"580\" align=\"center\"/>\n",
    "\n",
    "<br>\n",
    "<br>\n",
    "\n",
    "\n",
    "### <span style=\"color:#cb4154\">Add a new code-cell</span>\n",
    "\n",
    "To add a new code-cell under a currently active code-cell, click on the **\"+\"**-button in the top menu.\n",
    "<br>\n",
    "<br>\n",
    "\n",
    "<img src=\"images/add_new_code_cell_nb.png\" width=\"580\" align=\"center\"/>\n",
    "\n",
    "<br>\n",
    "<br>\n",
    "\n",
    "<br>\n",
    "<br>\n",
    "<br>\n",
    "<br>"
   ]
  },
  {
   "cell_type": "markdown",
   "metadata": {},
   "source": [
    "<a id='co2_definition'></a>\n",
    "\n",
    "## 1. What is carbon dioxide (CO$_2$)?\n",
    "\n",
    "\n",
    "### 1.1. Definition\n",
    "Carbon dioxide is a chemical compound that is composed of one carbon and two oxygen atoms. It is represented by the chemical formula: **CO$_2$**. In average temperature and pressure conditions, it appears as a colourless gas with a faint sharp odour and a sour taste [[1]](#references). Carbon dioxide is naturally present in the Earth's atmosphere in a low concentration and acts as a heat-trapping (greenhouse) gas [[1]](#references). \n",
    "\n",
    "\n",
    "### 1.2. How is CO$_2$ produced\n",
    "Carbon dioxide is released through human activities (e.g. burning fossil fuels, forest fires, deforestation, etc.) and natural processes (e.g. animal/plant respiration, fermentation and volcanic eruptions) [[2]](#references). At this point, it is important to state that the burning of biomass (i.e. the mass of biological organisms in an ecosystem at a given time) [[3]](#references) or carbon-containing materials does not necessarily lead to an increase of the carbon dioxide concentration in the Earth's atmosphere. This is true, as long as the biomass is allowed to grow back and absorb the same amount of atmospheric carbon dioxide as before. However, burning fossil fuels (such as coal, oil or gas) results in the release of carbon, that has been outside of the carbon cycle for a very long time, back into the atmosphere. When this carbon is not absorbed to produce new biomass (from processes like e.g. plant photosynthesis), then the total concentration of carbon dioxide in the Earth's atmosphere increases.\n",
    "\n",
    "\n",
    "### 1.3. CO$_2$ and the greenhouse effect\n",
    "Greenhouse gases like water vapour, carbon dioxide, methane, nitrous oxide or ozone are naturally present in the Earth's atmosphere and allow incoming solar radiation to pass through the atmosphere and reach the Earth's surface. The incoming solar radiation is then absorbed by the land and the oceans, heating the Earth. As a result, heat is radiated from Earth to space. Some of this heat is then trapped by the greenhouse gases in the atmosphere, keeping the Earth warm enough to sustain life (*greenhouse effect*) [[4]](#references). Without the greenhouse effect, the Earth's temperature would be too low to sustain any form of life. \n",
    "\n",
    "\n",
    "### 1.4. CO$_2$ and the consequences of the enhanced greenhouse effect\n",
    "But what happens when the total concentration of greenhouse gases in the Earth's atmosphere begins to increase? Increased levels of greenhouse gases in the atmosphere lead to more heat being trapped, which ultimately causes the temperatures on the Earth's surface to increase too (*enhanced greenhouse effect*) [[5]](#references). A direct consequence of this effect is global warming, which in turn, is responsible for:\n",
    "\n",
    "\n",
    "- thawing/melting glaciers and permafrost\n",
    "- rising sea levels\n",
    "- more frequently occurring extreme cases of precipitation or drought\n",
    "- changing conditions for agriculture due to\n",
    "    - desertification\n",
    "    - change in the start and/or duration of the growing season \n",
    "\n",
    "Increased levels of carbon dioxide in the atmosphere are also linked to ocean acidification. Ocean acidification is a process where the ocean's ph-levels are slowly decreasing, as it absorbs increasingly higher amounts of atmospheric carbon dioxide. Ocean acidification reduces the amount of carbonate in oceans, which makes it more difficult for marine organisms like corals or plankton to build their shells or skeletons [[4]](#references). More acidic conditions may also dissolve existing shells and affect the metabolic functions, growth and reproduction of other marine life (e.g. fishes), ultimately disturbing the balance of the oceanic ecosystems. \n",
    "\n",
    "<br>\n",
    "<br>\n",
    "<br>\n",
    "<div style=\"text-align: right\"> \n",
    "    <a href=\"#intro\">Back to top</a>\n",
    "</div>"
   ]
  },
  {
   "cell_type": "markdown",
   "metadata": {},
   "source": [
    "<br>\n",
    "<br>\n",
    "<a id='carbon_cycle_definition'></a>\n",
    "\n",
    "\n",
    "## 2. Carbon Cycle\n",
    "\n",
    "### 2.1. Definition\n",
    "Carbon dioxide (CO$_2$), carbon monoxide (CO) and methane (CH$_4$) are all included in the carbon cycle. The figure below shows how different chemical compounds of carbon are being transported from carbon sources to carbon sinks. **Carbon sources** are processes that are responsible for emitting carbon to the atmosphere. On the contrary, processes that absorb carbon from the atmosphere are described as **carbon sinks**. In the figure, carbon sinks are represented by blue arrows while carbon sources are represented by pink arrows.\n",
    "\n",
    "\n",
    "### 2.2. Carbon sources\n",
    "Carbon, in the form of carbon dioxide, is emitted to the atmosphere through human, animal and plant respiration. A large portion of carbon emissions to the atmosphere originate from burning fossil fuels. Forest fires are also responsible for emitting carbon, in the form of carbon dioxide, to the atmosphere. Ocean animals and plants do also emit carbon dioxide through respiration. Grazing animals, and especially cows, emit methane by eructation (belching/burping) and/or flatulence (farting). Methane is also emitted by bacteria that can be found in human or animal faeces. Carbon dioxide and methane are emitted when detritivores/decomposers, like fungi or earthworms, decompose dead organic matter (e.g. twigs, leaves, animal parts, etc.) and turn it into soil. \n",
    "\n",
    "\n",
    "### 2.3. Carbon sinks\n",
    "Plants absorb carbon from the atmosphere, in the form of carbon dioxide, when they photosynthesize. The process during which plants absorb carbon dioxide, water and energy from the sun to produce oxygen and energy-rich organic compounds is denoted as **photosynthesis**. This process is performed by terrestrial, aquatic and ocean plants. Photosynthesis can only take place when sunlight is available. Therefore, plants do not photosynthesize during night. Instead, during night time, plants only respire (i.e. breathe in oxygen and exhale carbon dioxide). Plants store carbon in their tissue (biomass), when they use the energy-rich organic compounds that they produced during photosynthesis, to create new branches, leaves and roots or to expand the size of their trunk.\n",
    "\n",
    "\n",
    "Carbon enters the soil in the form of dead organic matter. All living organisms (e.g. plants, animals and humans) consist of organic matter. When plants drop their leaves or twigs on the ground, they drop organic matter. The same thing happens when humans and animals drop urine or faeces. In marine ecosystems, dead organic matter that has fallen down to the seabed, is turned into sediment. Carbon that is stored in soils can slowly be turned into oil and gas. However, this is a process that can take between 50 million to 500 million years to complete.\n",
    "\n",
    "<br>\n",
    "\n",
    "<img src=\"images/carbon_cycle_eng.png\" width=\"900\" align=\"center\">\n",
    "<br>\n",
    "<font size=\"2.9\" color=\"#9F8331\"><p style=\"text-align:center\"><b>Figure 1:</b> Carbon sinks & sources </p></font>\n",
    "<br>\n",
    "<br>\n",
    "<br>\n",
    "<br>\n",
    "<div style=\"text-align: right\"> \n",
    "    <a href=\"#intro\">Back to top</a>\n",
    "</div>"
   ]
  },
  {
   "cell_type": "markdown",
   "metadata": {},
   "source": [
    "<br>\n",
    "<br>\n",
    "<a id='co2_youtube'></a>\n",
    "\n",
    "## 3. A year in the life of Earth's carbon dioxide (NASA)\n",
    "Click on the video below, to watch how the concentration of carbon dioxide in the Earth's atmosphere changes during the different seasons of a year. Observe the differences between the Northern and Southern hemisphere. \n",
    "\n",
    "\n",
    "Note that carbon dioxide is shown in a colour scale ranging from dark blue to light pink, whereas carbon monoxide is shown in a black to white colour scale. Higher carbon dioxide values are displayed in shades of reds and pinks, while higher carbon monoxide values are shown in lighter grays or whites."
   ]
  },
  {
   "cell_type": "code",
   "execution_count": null,
   "metadata": {
    "scrolled": false
   },
   "outputs": [],
   "source": [
    "############################################################################################################\n",
    "################## Python & Javascript Code - handling code visibility (entire document)####################\n",
    "############################################################################################################\n",
    "\n",
    "# Import modules:\n",
    "from IPython.display import HTML\n",
    "\n",
    "HTML('''<script> $('div .input').hide()''')"
   ]
  },
  {
   "cell_type": "code",
   "execution_count": null,
   "metadata": {
    "scrolled": false
   },
   "outputs": [],
   "source": [
    "%%javascript\n",
    "IPython.OutputArea.prototype._should_scroll = function(lines) {\n",
    "    return false;\n",
    "}"
   ]
  },
  {
   "cell_type": "code",
   "execution_count": null,
   "metadata": {
    "scrolled": false
   },
   "outputs": [],
   "source": [
    "# Import modules\n",
    "import numpy as np\n",
    "import pandas as pd\n",
    "from datetime import datetime\n",
    "from bokeh.plotting import figure\n",
    "from bokeh.models import ColumnDataSource, HoverTool, Label\n",
    "from bokeh.io import show, reset_output, output_notebook\n",
    "\n",
    "%matplotlib inline\n",
    "\n",
    "reset_output()\n",
    "output_notebook()"
   ]
  },
  {
   "cell_type": "code",
   "execution_count": null,
   "metadata": {
    "scrolled": false
   },
   "outputs": [],
   "source": [
    "############################################################################################################\n",
    "############################## Python & Javascript Code - Hide code-cell  ##################################\n",
    "############################################################################################################\n",
    "\n",
    "# Import modules:\n",
    "from IPython.display import display, HTML\n",
    "\n",
    "# Code for hiding a code-cell:\n",
    "toggle_code_str = '''\n",
    "<form action=\"javascript:code_toggle()\"><input type=\"submit\" id=\"toggleButton\" value=\"Hide/Show code\"></form>\n",
    "'''\n",
    "\n",
    "toggle_code_prepare_str = '''\n",
    "    <script>\n",
    "    function code_toggle() {\n",
    "        if ($('div.cell.code_cell.rendered.selected div.input').css('display')!='none'){\n",
    "            $('div.cell.code_cell.rendered.selected div.input').hide();\n",
    "            $('#toggleButton').val('Show code');\n",
    "        } else {\n",
    "            $('div.cell.code_cell.rendered.selected div.input').show();\n",
    "            $('#toggleButton').val('Hide code');\n",
    "        }\n",
    "    }\n",
    "    </script>\n",
    "\n",
    "'''\n",
    "\n",
    "display(HTML(toggle_code_prepare_str + toggle_code_str))\n",
    "\n",
    "# Call function to hide code-cells:\n",
    "def toggle_code():\n",
    "    display(HTML(toggle_code_str))\n",
    "    \n",
    "############################################################################################################\n",
    "############################################################################################################\n",
    "############################################################################################################\n",
    "\n",
    "\n",
    "\n",
    "\n",
    "\n",
    "# Import module to display video:\n",
    "from IPython.display import Video\n",
    "\n",
    "# Show NASA video - \"A Year in the Life of Earth's CO2\":\n",
    "Video(\"video/NASA A Year in the Life of Earths CO2.mp4\", width=970, height=576)"
   ]
  },
  {
   "cell_type": "markdown",
   "metadata": {},
   "source": [
    "<br>\n",
    "<br>\n",
    "<div style=\"text-align: right\"> \n",
    "    <a href=\"#intro\">Back to top</a>\n",
    "</div>"
   ]
  },
  {
   "cell_type": "markdown",
   "metadata": {},
   "source": [
    "<br>\n",
    "<br>\n",
    "<a id='quiz_environmentalist'></a>\n",
    "\n",
    "## 4. Quiz: Carbon challenge\n",
    "Test your knowledge on carbon by completing the following quiz. Note that questions 2 - 4 may have more than one correct answers.\n",
    "Once you have answered all questions, click on the\n",
    "<span style=\"color:white\">\n",
    "<span style=\"background-color:#3973ac\">  Show results  </span></span>-button. <br>\n",
    "The result reflects your level of environmental awareness. See if your score is high enough to save the penguins' habitat!"
   ]
  },
  {
   "cell_type": "code",
   "execution_count": null,
   "metadata": {
    "scrolled": false
   },
   "outputs": [],
   "source": [
    "# Import quiz-function:\n",
    "from tools.carbon_cycle_quiz import create_widget_form\n",
    "\n",
    "# Call function to display quiz:\n",
    "create_widget_form()"
   ]
  },
  {
   "cell_type": "markdown",
   "metadata": {},
   "source": [
    "<br>\n",
    "<br>\n",
    "<div style=\"text-align: right\"> \n",
    "    <a href=\"#intro\">Back to top</a>\n",
    "</div>\n",
    "\n",
    "<br>\n",
    "<br>\n",
    "<a id='exercise_icos_htm'></a>\n",
    "\n",
    "\n",
    "## 5. Exercises with CO$_2$-data from Hyltemossa ICOS station\n",
    "\n",
    "The purpose of this part is to further introduce you to the patterns followed by the daily and annual cycle of carbon dioxide. To achieve this, you are going to calculate statistics over larger datasets of carbon dioxide concentration values from Hyltemossa research station for 2017 - 2019. You will visualize the time series by creating an interactive diagram and then use the tools provided to extract more information from the plotted values. Before you are able to calculate any statistics over the aforementioned values, you will have to import the corresponding datafile and store its content in an array. Python allows you to import data from a datafile and directly store it in an array, by using ready functions (code). In Python, these ready functions are called modules. A module has to be imported before it can be used. Sometimes it might be interesting to calculate statistics over shorter time-intervals than a year. Data that is stored in an Python array can be filtered in different ways. Here you will learn how to filter data by time and calculate statistics over subsets of data.\n",
    "\n",
    "You are going to work with data from [ICOS Hyltemossa research station](https://www.icos-sweden.se/station_hyltemossa.html). Before you continue, here is some summarized information about ICOS and ICOS stations. \n",
    "\n",
    "<br>\n",
    "<img src='images/icos_map_2020_v2.png'>\n",
    "<br>\n",
    "<font size=\"2.9\" color=\"#9F8331\"><p style=\"text-align:center\"><b>Figure 2:</b> ICOS station network </p></font>\n",
    "<br>\n",
    "\n",
    "Nowadays, a lot of research is done in order to comprehend the details behind changes in the carbon cycle. More specifically, scientists are interested in how changes in the vegetation and/or oceans may affect the concentration of CO$_2$ and other greenhouse gases in the atmosphere. [ICOS](https://www.icos-cp.eu/), which is an acronym for Integrated Carbon Observation System, is a European research infrastructure that conducts long term, standardised and high-precision greenhouse-gas measurements to map the carbon balance of Europe. At present, ICOS comprises over 130 stations in 13 countries. Stations may be located on land or onboard ships. [ICOS Sweden](https://www.icos-sweden.se/) is the Swedish contribution to this European effort and is a cooperation of several research institutes. Currently, ICOS Sweden contributes with measurements from 10 stations at 7 different locations.\n",
    "\n",
    "<br>\n",
    "<br>\n",
    "<br>\n",
    "<img src='images/htm_station_photo_mashup.png'>\n",
    "<br>\n",
    "<br>\n",
    "<font size=\"2.9\" color=\"#9F8331\"><p style=\"text-align:center\"><b>Figure 3:</b> Photos from ICOS Hyltemossa research station [<a href=\"#visual_element_references\">credits</a>]</p></font>\n",
    "<br>\n",
    "<br>\n",
    "\n",
    "Hyltemossa research station is part of the ICOS Sweden station network. The station is located south of the city of Perstorp, in the northwestern part of Scania county, in Sweden. It is surrounded by a 30-year old managed spruce forest. \n",
    "\n",
    "Measurements of carbon dioxide can be influenced by what is near the broader vicinity of a station. To minimize this effect, measuring instruments are placed high up on towers (see photo in the middle). Measurements can also be influenced by the wind speed and wind direction. For instance, if the wind blows in direction from a city with high industrial activity, then the measured CO$_2$-concentration might be higher.\n",
    "\n",
    "Zoom in in the map below to view what is near Hyltemossa research station. Are you able to find the following locations?\n",
    "\n",
    "**1.** Nedre Sore lake <br>\n",
    "**2.** Perstorp industrial park <br>\n",
    "**3.** Ljungbyhed airport <br>\n",
    "\n"
   ]
  },
  {
   "cell_type": "code",
   "execution_count": 1,
   "metadata": {
    "scrolled": false
   },
   "outputs": [],
   "source": [
    "# Import modules:\n",
    "import folium\n",
    "\n",
    "# Create map object:\n",
    "m = folium.Map(location=[56.097991, 13.420181], zoom_start=7)\n",
    "\n",
    "# Add marker:\n",
    "folium.Marker(location=[56.097991, 13.420181],\n",
    "              popup='ICOS <br>Hyltemossa Research Station',\n",
    "              icon=folium.Icon(color='darkred', icon='cloud')).add_to(m)\n",
    "\n",
    "# Show map\n",
    "m"
   ]
  },
  {
   "cell_type": "markdown",
   "metadata": {},
   "source": [
    "<br>\n",
    "<br>\n",
    "<div style=\"text-align: right\"> \n",
    "    <a href=\"#intro\">Back to top</a>\n",
    "</div>\n",
    "<br>\n",
    "<br>\n",
    "<a id='exercise_import_modules_py'></a>\n",
    "\n",
    "\n",
    "### 5.1. Import Python modules\n",
    "Python is a programming language that includes built-in methods. A module can be described as set of functions. To use these functions, you need to first import the module they belong to. Usually, modules are imported in the beginning of a Python-program.\n",
    "\n",
    "The next code-cell shows the syntax of how to import Python modules. It is possible to import a module using the syntax <code style=\"color:#CD5C5C\">import datetime</code>. To import all functions from a module type <code style=\"color:#CD5C5C\">from datetime import *</code>. However, this is considered bad practice, so it is best to avoid that. For importing a single function from a module type <code style=\"color:#CD5C5C\">from datetime import datetime</code>.\n",
    "\n",
    "When you import a module, it is possible to change its name after the keyword <code style=\"color:#CD5C5C\">as</code>. Usually, the name provided after <code style=\"color:#CD5C5C\">as</code> is an abbreviation of the modules official name. The following piece of code <code style=\"color:#CD5C5C\">import pandas as pd</code>, will import a module called _pandas_ and change its name to _pd_. This way, you do not have to type the full name of the module when you include it in your code. Your code will be easier to read if you decide to follow this practice, and will conform with most examples you will find for both _pandas (pd)_ and _numpy (np)_.\n",
    "\n",
    "<br>\n",
    "\n",
    "```python\n",
    "#Import modules:\n",
    "import numpy as np\n",
    "import pandas as pd\n",
    "from datetime import datetime\n",
    "```"
   ]
  },
  {
   "cell_type": "markdown",
   "metadata": {},
   "source": [
    "<br>\n",
    "<br>\n",
    "<div style=\"text-align: right\"> \n",
    "    <a href=\"#intro\">Back to top</a>\n",
    "</div>\n",
    "\n",
    "<br>\n",
    "<br>\n",
    "<a id='exercise_read_csv_to_pandas'></a>\n",
    "\n",
    "\n",
    "### 5.2. Read data from CSV-files and store them in Python arrays\n",
    "\n",
    "#### <span style=\"color:#CD5C5C\">What is a Pandas DataFrame ?</span>\n",
    "\n",
    "Arrays are used in programming to store data in a structured way. An array consists of rows and columns. Python has different kinds of arrays. Here we are going to work with pandas DataFrames. This type of array allows you to store data with different data types in the same array (i.e., pandas DataFrame). It is, for example, permitted to store a column with datetime objects, a column with strings and a column with floats in the same DataFrame (see figure below).\n",
    "\n",
    "<br>\n",
    "<br>\n",
    "\n",
    "<img src=\"images/pandas_py_icos_ex_eng.png\" width=\"550\" align=\"center\">\n",
    "<br>\n",
    "<br>\n",
    "<font size=\"2.9\" color=\"#9F8331\"><p style=\"text-align:center\"><b>Figure 4:</b> Example of a pandas DataFrame with CO$_2$-measurements from ICOS Hyltemossa research station </p></font>\n",
    "<br>\n",
    "<br>\n",
    "\n",
    "You can refer to values in a pandas DataFrame by using their corresponding column name and row number. For example, the value *412.985* in the DataFrame above, belongs to the column *co2* and its row number is *2*. Note that, in Python, the numbering of rows begins with *0* instead of *1*.\n",
    "\n",
    "Row numbers often serve as an index. An index is used to find and retrieve data. For now, it is OK to consider an index as one of the DataFrame's columns that contains unique vales. In the example above, the index is numeric and consists of a set of integers. Every row has a different number (i.e. every row is identified by a different number). An index does not have to be numeric but it should not include duplicates. Columns that contain datetime objects (e.g. *DateTime* column in the figure above) can also be used as an index. This is valid, as it is not possible for two different measurements to have been measured by the same instrument at the exact same timepoint.\n",
    "\n",
    "\n",
    "Next we are going to explain the syntax of the code that is used to read data from csv-files and store it in pandas DataFrames. A csv-file is a text-file containing comma separated values. This type of file contains data that can be stored in arrays/DataFrames. Values in a csv-file are stored in as many rows as the rows included in its corresponding array/DataFrame. Values that belong to the same row but different columns, are separated by a \",\" (comma). Other characters (e.g. \";\") may also be used as delimiters (i.e. a character that separates values). Usually, the first row in a csv-file contains the column names.\n",
    "\n",
    "\n",
    "Python uses a built-in function <code style=\"color:#CD5C5C\">read_csv()</code> from the <i>pandas</i> module to read data from a csv-file and store it in a pandas DataFrame. Remember that, in this case, the <i>pandas</i> module was renamed to <i>pd</i> at import.\n",
    "\n",
    "<br>\n",
    "<br>\n",
    "\n",
    "<u>**Syntax:**</u>\n",
    "\n",
    "```python\n",
    "pd.read_csv(\"path to where the file is stored\",\n",
    "            \"row-number that contains column names\",\n",
    "            \"delimiter\",\n",
    "            \"name of column that includes time-related values\")\n",
    "```\n",
    "\n",
    "<br>\n",
    "\n",
    "Note! The syntax ```pd.read_csv()``` is only valid if the pandas module was imported using the following syntax ```import pandas as pd```. If the module was imported as ```import pandas```, then the correct syntax to import data from a csv-file would be ```pandas.read_csv()```.\n",
    "\n",
    "\n",
    "<br>\n",
    "<br>\n"
   ]
  },
  {
   "cell_type": "markdown",
   "metadata": {},
   "source": [
    "#### 5.2.1.  Read ICOS CO$_2$-data from CSV-file and store it in a pandas DataFrame\n",
    "In order to use the ```pd.read_csv()``` function, you have to provide:\n",
    "\n",
    "- the **path** to the datafile you wish to read. The path shows the location on your pc or on the server where the datafile is stored.\n",
    "\n",
    "- the number of the row in the datafile that contains information about the column names, in ```header```. \n",
    "\n",
    "- the **delimiter** (i.e. the character that is used to separate values in the datafile), in ```sep```. \n",
    "\n",
    "- the name of the column that stores time-values, in ```parse_dates```. Python handles time-values in a specific way. Therefore, if your datafile includes a column with time-values, you have to inform Python that these values should be processed as datetime objects.\n",
    "\n",
    "<br>\n",
    "\n",
    "The datafile includes information for the following variables:\n",
    "- **Site**: Abbreviation of the station name (e.g. *HTM* for Hyltemossa)\n",
    "- **SamplingHeight**: Elevation (expressed as metres above ground level) where the sensor measures CO$_2$-concentration.\n",
    "- **InstrumentId**: Id of instrument that takes the measurements. Every instrument is assigned with a unique id.\n",
    "- **DateTime**: Exact timepoint when a measurement was taken.\n",
    "- **co2**: CO$_2$-measurement at a given timepoint (expressed as μmol/mol, which is equivalent to ppm).\n",
    "\n",
    "<br>\n",
    "<br>\n",
    "\n",
    "<span style=\"color:blue\">**Example**</span>\n",
    "\n",
    "```python\n",
    "# Import csv-file with CO2-data to pandas DataFrame:\n",
    "co2_df = pd.read_csv('data/carboncycle/co2_concentration/htm_150m_L2_co2',\n",
    "                     header=0,\n",
    "                     sep=';',\n",
    "                     parse_dates=['DateTime'])\n",
    "\n",
    "# Show the 5 first rows of the DataFrame:\n",
    "co2_df.head(5)\n",
    "```"
   ]
  },
  {
   "cell_type": "code",
   "execution_count": null,
   "metadata": {
    "scrolled": false
   },
   "outputs": [],
   "source": [
    "# Import csv-file with CO2-data to pandas DataFrame:\n",
    "co2_df = pd.read_csv('data/carboncycle/co2_concentration/htm_150m_L2_co2',\n",
    "                     header=0,\n",
    "                     sep=';',\n",
    "                     parse_dates=['DateTime'])\n",
    "\n",
    "# Show the 5 first rows of the DataFrame:\n",
    "co2_df.head(5)"
   ]
  },
  {
   "cell_type": "markdown",
   "metadata": {},
   "source": [
    "<br>\n",
    "\n",
    "**Exercise 1:** Try to display the 10 first rows of the DataFrame.\n",
    "\n",
    "**Optional exercise:** Try to only display the 1st row of the DataFrame."
   ]
  },
  {
   "cell_type": "code",
   "execution_count": null,
   "metadata": {
    "scrolled": false
   },
   "outputs": [],
   "source": [
    "################################\n",
    "# Add button to hide/show code:\n",
    "toggle_code()\n",
    "################################\n",
    "\n",
    "\n",
    "\n",
    "# Write your own code below:\n"
   ]
  },
  {
   "cell_type": "markdown",
   "metadata": {},
   "source": [
    "<br>\n",
    "\n",
    "#### 5.2.2.  How many rows does a DataFrame have?\n",
    "With the help of ```len()```, you can find out how many rows a DataFrame has. ```len``` is an abbreviation of the English word *length* and, in this case, has the meaning of: *how long is this DataFrame?*.\n",
    "\n",
    "\n",
    "**Syntax**:  <br>\n",
    "\n",
    "\n",
    "```python\n",
    "len(dataframe_name)\n",
    "```\n",
    "\n",
    "\n",
    "<span style=\"color:blue\">**Example:**</span> \n",
    "\n",
    "```python\n",
    "# Return the total number of rows included in the \"co2_df\" DataFrame:\n",
    "len(co2_df)\n",
    "```"
   ]
  },
  {
   "cell_type": "code",
   "execution_count": null,
   "metadata": {
    "scrolled": false
   },
   "outputs": [],
   "source": [
    "# Return the total number of rows included in the \"co2_df\" DataFrame:\n",
    "len(co2_df)"
   ]
  },
  {
   "cell_type": "markdown",
   "metadata": {},
   "source": [
    "<br>\n",
    "<br>\n",
    "<div style=\"text-align: right\"> \n",
    "    <a href=\"#intro\">Back to top</a>\n",
    "</div>\n",
    "<br>\n",
    "\n",
    "### 5.3.Indexing\n",
    "A numeric index of integers is automatically assigned to your DataFrame when you create it (see _row number_ in Figure 4). The first row has an index-value that is equal to \"**0**\". The second row has an index-value that is equal to \"**1**\". The third row has an index-value that is equal to \"**2**\", etc. \n",
    "\n",
    "Indices are used to select and retrieve values from a DataFrame. For example, you may get all values included in the **1st** row of the DataFrame **co2_df**, by using the command: <code style=\"color:#CD5C5C\">co2_df.loc[0]</code>.\n",
    "\n",
    "\n",
    "<br>\n",
    "\n",
    "<span style=\"color:blue\">**Example 1:**</span>\n",
    "\n",
    "```python\n",
    "# Return all values from the 1st row of the DataFrame:\n",
    "co2_df.loc[0]\n",
    "```"
   ]
  },
  {
   "cell_type": "code",
   "execution_count": null,
   "metadata": {
    "scrolled": false
   },
   "outputs": [],
   "source": [
    "# Return all values from the 1st row of the DataFrame:\n",
    "co2_df.loc[0]"
   ]
  },
  {
   "cell_type": "markdown",
   "metadata": {},
   "source": [
    "<br>\n",
    "\n",
    "<span style=\"color:blue\">**Example 2:**</span>\n",
    "\n",
    "```python\n",
    "# Return the CO2-value from the 1st row of the DataFrame:\n",
    "co2_df.co2.loc[0]\n",
    "```"
   ]
  },
  {
   "cell_type": "code",
   "execution_count": null,
   "metadata": {
    "scrolled": false
   },
   "outputs": [],
   "source": [
    "# Return the CO2-value from the 1st row of the DataFrame:\n",
    "co2_df.co2.loc[0]"
   ]
  },
  {
   "cell_type": "markdown",
   "metadata": {},
   "source": [
    "<br>\n",
    "\n",
    "**Exercise 2:** Try to extract the CO$_2$-value from the DataFrame's 8th row. <br> \n",
    "*Remember that Python's index for row numbers start at **0**.*\n",
    "\n",
    "**Exercise 3:** Try to extract the CO$_2$-value from the DataFrame's 1001st row.\n",
    "\n",
    "<br>\n",
    "\n",
    "-  Click on the button  ```Hide/Show Code``` to write your own code.\n",
    "-  Execute your code by clicking on ```Run``` in the menubar at the top.\n",
    "-  Copy-paste or type your answer to a question in the corresponding answer-field below. <br> Click on the ```Check answer```-button to see if your answer is correct.\n"
   ]
  },
  {
   "cell_type": "code",
   "execution_count": null,
   "metadata": {
    "scrolled": false
   },
   "outputs": [],
   "source": [
    "################################\n",
    "# Add button to hide/show code:\n",
    "toggle_code()\n",
    "################################\n",
    "\n",
    "\n",
    "# Write your own code below:\n"
   ]
  },
  {
   "cell_type": "code",
   "execution_count": null,
   "metadata": {
    "scrolled": false
   },
   "outputs": [],
   "source": [
    "# Import modules:\n",
    "from ipywidgets import VBox\n",
    "from tools.check_answer_widgets import create_coding_quiz_question, create_coding_quiz_question_dropdown, create_coding_quiz_question_true_false\n",
    "\n",
    "# Display both answer-control boxes in the same column:\n",
    "display(VBox([create_coding_quiz_question('Exercise 2', 414.511),\n",
    "              create_coding_quiz_question('Exercise 3', 402.561)]))"
   ]
  },
  {
   "cell_type": "markdown",
   "metadata": {},
   "source": [
    "**Define an index**\n",
    "\n",
    "You can change the index of a DataFrame by using the built-in method <code style=\"color:#CD5C5C\">set_index()</code>. An index can be a column containing numeric values, strings or datetime objects (i.e. special structures that are used to store date and time values). When choosing a column for index, you should consider whether it includes a different value for every row (indices should not include duplicates).  \n",
    "\n",
    "**Syntax:**\n",
    "<br>\n",
    "<br>\n",
    "$$ dataframe.set\\_index(column) $$\n",
    "<br>\n",
    "\n",
    "<span style=\"color:blue\">**Example:**</span>\n",
    "\n",
    "```python\n",
    "# Set the column \"DateTime\" as index:\n",
    "co2_df_ind = co2_df.set_index('DateTime')\n",
    "\n",
    "# Show DataFrame:\n",
    "co2_df_ind.head(5)\n",
    "```"
   ]
  },
  {
   "cell_type": "code",
   "execution_count": null,
   "metadata": {
    "scrolled": false
   },
   "outputs": [],
   "source": [
    "# Set the column \"DateTime\" as the DataFrame's index:\n",
    "co2_df_ind = co2_df.set_index('DateTime')\n",
    "\n",
    "# Show DataFrame:\n",
    "co2_df_ind.head()"
   ]
  },
  {
   "cell_type": "markdown",
   "metadata": {},
   "source": [
    "**Filter a DataFrame using a datetime-index**\n",
    "\n",
    "\n",
    "Use the following code syntax to extract all rows from a DataFrame that contain data for a given date and time:\n",
    "\n",
    "<br>\n",
    "<br>\n",
    "$$dataframe[dataframe.index == datetime(year, month, day)]$$\n",
    "<br>\n",
    "<br>\n",
    "\n",
    "Note that the code above will only work if your DataFrame has a column with datetime objects as index.\n",
    "\n",
    "<span style=\"color:blue\">**Example:**</span>\n",
    "\n",
    "```python\n",
    "# Show all rows with measurements measured on the 1st of June 2017 at 07:00:00\n",
    "co2_df_ind[co2_df_ind.index==datetime(2017, 6, 1, 7, 0, 0)]\n",
    "```"
   ]
  },
  {
   "cell_type": "code",
   "execution_count": null,
   "metadata": {
    "scrolled": false
   },
   "outputs": [],
   "source": [
    "# Show all rows with measurements measured on the 1st of June 2017 at 07:00:00:\n",
    "co2_df_ind[co2_df_ind.index==datetime(2017, 6, 1, 7, 0, 0)]"
   ]
  },
  {
   "cell_type": "markdown",
   "metadata": {},
   "source": [
    "**Exercise 4:** Try to only display rows with data for the 1st of June 2017 at 15:00:00. \n",
    "\n",
    "**Exercise 5:** Try to only display rows with data for the 31st of December 2017 at 21:00:00.\n",
    "\n",
    "\n",
    "-  Click on the button  ```Hide/Show Code``` to write your own code.\n",
    "-  Execute your code by clicking on ```Run``` in the menubar at the top.\n",
    "-  Copy-paste or type your answer to a question in the corresponding answer-field below. <br> Click on the ```Check answer```-button to see if your answer is correct."
   ]
  },
  {
   "cell_type": "code",
   "execution_count": null,
   "metadata": {
    "scrolled": false
   },
   "outputs": [],
   "source": [
    "################################\n",
    "# Add button to hide/show code:\n",
    "toggle_code()\n",
    "################################\n",
    "\n",
    "\n",
    "# Write your own code below:\n"
   ]
  },
  {
   "cell_type": "code",
   "execution_count": null,
   "metadata": {
    "scrolled": false
   },
   "outputs": [],
   "source": [
    "# Import widgets:\n",
    "from ipywidgets import VBox\n",
    "\n",
    "# Display both answer-control boxes in the same column:\n",
    "display(VBox([create_coding_quiz_question('Exercise 4', 407.01),\n",
    "              create_coding_quiz_question('Exercise 5', 414.307)]))"
   ]
  },
  {
   "cell_type": "markdown",
   "metadata": {},
   "source": [
    "<br>\n",
    "<br>\n",
    "<br>\n",
    "\n",
    "**Filter DataFrame by time periods using a datetime-index**\n",
    "\n",
    "\n",
    "It is possible to filter a DataFrame by time periods using a datetime-index. The syntax below shows how to extract values for a given time period.\n",
    "\n",
    "<br>\n",
    "<br>\n",
    "\n",
    "**Syntax:**\n",
    "\n",
    "$$dataframe[datetime(year_{start}, month_{start}, day_{start}):datetime(year_{end}, month_{end}, day_{end}, hour_{end}, minute_{end})]$$\n",
    "<br>\n",
    "<br>\n",
    "\n",
    "<span style=\"color:blue\">**Example:**</span> \n",
    "\n",
    "```python\n",
    "# Show all rows with data for: 1st of June 2017 at 00:00:00 - 1st of June 2017 at 23:59:00.\n",
    "co2_df_ind[datetime(2017, 6, 1):datetime(2017, 6, 1, 23, 59)]\n",
    "```"
   ]
  },
  {
   "cell_type": "code",
   "execution_count": null,
   "metadata": {
    "scrolled": false
   },
   "outputs": [],
   "source": [
    "# Show all rows that contain measurements measured on the 1st of June 2017 (1 day):\n",
    "co2_df_ind[datetime(2017, 6, 1):datetime(2017, 6, 1, 23, 59)]"
   ]
  },
  {
   "cell_type": "markdown",
   "metadata": {},
   "source": [
    "<br>\n",
    "\n",
    "**Exercise 6:** Try to only show rows with measurements measured at the 31st of December 2017 between 08:00 and 17:00. \n",
    "\n",
    "**Optional exercise:** Try to only show rows with measurements measured between the 31st of December 2017 at 21:30 and 1st of January 2018 at 12:00.\n"
   ]
  },
  {
   "cell_type": "code",
   "execution_count": null,
   "metadata": {
    "scrolled": false
   },
   "outputs": [],
   "source": [
    "################################\n",
    "# Add button to hide/show code:\n",
    "toggle_code()\n",
    "################################\n",
    "\n",
    "\n",
    "# Write your own code below:\n",
    "\n"
   ]
  },
  {
   "cell_type": "markdown",
   "metadata": {},
   "source": [
    "<br>\n",
    "<br>\n",
    "<div style=\"text-align: right\"> \n",
    "    <a href=\"#intro\">Back to top</a>\n",
    "</div>\n",
    "<br>\n",
    "\n",
    "### 5.4. Calculate statistics\n",
    "It would be easy to estimate the highest and lowest CO$_2$-value in the DataFrame of figure 4. It would also be possible to calculate the mean CO$_2$-value using a paper and a pen. On the contrary, it would not be as simple to calculate statistics over hundreds of thousands of values. This is when computer programming is needed.\n",
    "\n",
    "\n",
    "Arrays and DataFrames in Python come equipped with a set of built-in functions that can be used to calculate statistics over the values of a column. Minimum ```min()```, maximum ```max()```, average ```mean()``` and summation```sum()```are typical examples of such built-in functions. This is the syntax on how to apply these built-in functions to a column of a pandas DataFrame.\n",
    "\n",
    "\n",
    "**Syntax:**\n",
    "<br>\n",
    "<br>\n",
    "$$dataframe.column.function()$$\n",
    "<br>\n",
    "<br>\n",
    "<br>\n",
    "<br>\n",
    "\n",
    "<span style=\"color:blue\">**Example:**</span> \n",
    "\n",
    "```python\n",
    "# Compute the lowest value of the column \"co2\":\n",
    "co2_df_ind.co2.min()\n",
    "```"
   ]
  },
  {
   "cell_type": "code",
   "execution_count": null,
   "metadata": {
    "scrolled": false
   },
   "outputs": [],
   "source": [
    "# Compute the lowest value of the column \"co2\":\n",
    "co2_df_ind.co2.min()"
   ]
  },
  {
   "cell_type": "markdown",
   "metadata": {},
   "source": [
    "<br>\n",
    "\n",
    "**Exercise 7:** Try to compute the max value from all values in column *co2*.\n",
    "\n",
    "**Exercise 8:** Try to compute the mean value of all values in column *co2*.\n",
    "\n",
    "-  Click on the button  ```Hide/Show Code``` to write your own code.\n",
    "-  Execute your code by clicking on ```Run``` in the menubar at the top.\n",
    "-  Copy-paste or type your answer to a question in the corresponding answer-field below. <br> Click on the ```Check answer```-button to see if your answer is correct."
   ]
  },
  {
   "cell_type": "code",
   "execution_count": null,
   "metadata": {
    "scrolled": false
   },
   "outputs": [],
   "source": [
    "################################\n",
    "# Add button to hide/show code:\n",
    "toggle_code()\n",
    "################################\n",
    "\n",
    "\n",
    "# Write your own code below:\n",
    "\n"
   ]
  },
  {
   "cell_type": "code",
   "execution_count": null,
   "metadata": {
    "scrolled": false
   },
   "outputs": [],
   "source": [
    "# Import widgets:\n",
    "from ipywidgets import VBox\n",
    "\n",
    "# Display both answer-control boxes in the same column:\n",
    "display(VBox([create_coding_quiz_question('Exercise 7', 452.815),\n",
    "              create_coding_quiz_question('Exercise 8', 411.86)]))"
   ]
  },
  {
   "cell_type": "markdown",
   "metadata": {},
   "source": [
    "<br>\n",
    "\n",
    "#### Filter a DataFrame by time and calculate statistics \n",
    "\n",
    "Python allows you to combine several operations in one line of code. The example below shows how you can filter a DataFrame by a time period and calculate statistics over the values of a column for that time period. Note that the DataFrame has to have an index with datetime objects for the following syntax to be valid.\n",
    "\n",
    "\n",
    "**Syntax:**\n",
    "```python\n",
    "\n",
    "dataframe[datetime(year_start, month_start, day_start, hour_start):datetime(year_end, month_end, day_end, hour_end)].column.function()\n",
    "\n",
    "\n",
    "```\n",
    "\n",
    "<span style=\"color:blue\">**Example:**</span>\n",
    "\n",
    "This is an example of how to compute the average of all CO$_2$-values measured between 08:00 and 17:00 on December 31st 2018:\n",
    "\n",
    "```python\n",
    "\n",
    "co2_df_ind[datetime(2018, 12, 31, 8):datetime(2018, 12, 31, 17)].co2.mean()\n",
    "\n",
    "```\n"
   ]
  },
  {
   "cell_type": "code",
   "execution_count": null,
   "metadata": {
    "scrolled": false
   },
   "outputs": [],
   "source": [
    "# Calculate the average of the CO2 values ​measured between 08:00 and 17:00 on December 31st 2018:\n",
    "co2_df_ind[datetime(2018, 12, 31, 8):datetime(2018, 12, 31, 17)].co2.mean()"
   ]
  },
  {
   "cell_type": "markdown",
   "metadata": {},
   "source": [
    "<br>\n",
    "\n",
    "**Exercise 9:** Try to compute the minimum value of column *co2*  for measurements taken between 08:00 and 14:00 on June 10th 2018.\n",
    "\n",
    "**Exercise 10:** Try to compute the minimum value of column *co2*  for measurements taken between 08:00 and 14:00 on December 31st 2018.\n",
    "\n",
    "\n",
    "-  Click on the button  ```Hide/Show Code``` to write your own code.\n",
    "-  Execute your code by clicking on ```Run``` in the menubar at the top.\n",
    "-  Copy-paste or type your answer to a question in the corresponding answer-field below. <br> Click on the ```Check answer```-button to see if your answer is correct."
   ]
  },
  {
   "cell_type": "code",
   "execution_count": null,
   "metadata": {
    "scrolled": false
   },
   "outputs": [],
   "source": [
    "################################\n",
    "# Add button to hide/show code:\n",
    "toggle_code()\n",
    "################################\n",
    "\n",
    "\n",
    "# Write your own code below:\n"
   ]
  },
  {
   "cell_type": "code",
   "execution_count": null,
   "metadata": {
    "scrolled": false
   },
   "outputs": [],
   "source": [
    "# Import widgets:\n",
    "from ipywidgets import VBox\n",
    "\n",
    "# Display both answer-control boxes in the same column:\n",
    "display(VBox([create_coding_quiz_question('Exercise 09', 393.825),\n",
    "              create_coding_quiz_question('Exercise 10', 418.103)]))"
   ]
  },
  {
   "cell_type": "markdown",
   "metadata": {},
   "source": [
    "<br>\n",
    "<br>\n",
    "<div style=\"text-align: right\"> \n",
    "    <a href=\"#intro\">Back to top</a>\n",
    "</div>\n",
    "<br>\n",
    "<br>\n",
    "<a id='exercise_plot_data_bokeh'></a>\n",
    "\n",
    "### 5.5. Plotting\n",
    "\n",
    "In this part, you will visualize the CO$_2$-values from the DataFrame you created above. There are many libraries for visualizing data in Python. These libraries contain ready code to visualize data in different ways. In this case, you will get a ready function to plot data in an interactive diagram.\n",
    "\n",
    "\n",
    "A function is a block of code that will only be executed once the function is called. It may contain variables, operators (e.g. <code style=\"color:gray\">+</code>, <code style=\"color:gray\">-</code>, <code style=\"color:gray\">*</code>, <code style=\"color:gray\">/</code> or <code style=\"color:gray\">%</code>), if-statements, for-loops, etc.\n",
    "\n",
    "\n",
    "It is possible to pass values to a function using input parameters. A function may have zero, one or several input parameters. A function can return output as values with the help of the <code style=\"color:#CD5C5C\">return</code>-statement. The return-statement is usually used at the end of a function to return a result.\n",
    "\n",
    "\n",
    "This is the syntax on how to create a function in Python.\n",
    "\n",
    "\n",
    "**Syntax:**\n",
    "\n",
    "```python\n",
    "def function_name(input_parameter1, input_parameter2):\n",
    "    \n",
    "    sum = input_parameter1 + input_parameter2\n",
    "    \n",
    "    return sum\n",
    "```\n",
    "\n",
    "<br>\n",
    "\n",
    "In this case, we have already prepared a function for you to plot the CO$_2$-values. The function takes 2 input parameters; the *DataFrame* containing the CO$_2$-values and the *color* you wish the plot to have. Note that the purpose of this notebook is not for you to understand the code inside the function but rather to understand how to use the function. You are meant to become familiar on how to pass variables into a function using input parameters. The function will return different results based on the values of the input parameters. \n",
    "\n",
    "\n",
    "```python\n",
    "# Call function to plot data from the \"co2_df_ind\" DataFrame.\n",
    "# Enter a color of your preference for the plot.\n",
    "plot(co2_df_ind, color='green')\n",
    "```"
   ]
  },
  {
   "cell_type": "code",
   "execution_count": null,
   "metadata": {
    "scrolled": false
   },
   "outputs": [],
   "source": [
    "# Function that produces an interactive plot of co2-data from a pandas DataFrame in a specific color:\n",
    "def plot(df_L2, color):\n",
    "    \n",
    "    # Import modules:\n",
    "    from datetime import datetime\n",
    "    from bokeh.plotting import figure, show\n",
    "    from bokeh.models import ColumnDataSource, HoverTool, Label\n",
    "    from bokeh.io import output_notebook\n",
    "\n",
    "    # Dictionaries with conversions of numbers to corresponding superscript or subscript version:\n",
    "    SUB = str.maketrans(\"0123456789\", \"₀₁₂₃₄₅₆₇₈₉\")\n",
    "    SUP = str.maketrans(\"0123456789\", \"⁰¹²³⁴⁵⁶⁷⁸⁹\")\n",
    "\n",
    "    # Create a figure object:\n",
    "    p = figure(plot_width=900,\n",
    "               plot_height=500,\n",
    "               x_axis_label='Time (UTC)', \n",
    "               y_axis_label='CO2'.translate(SUB)+' (' +'\\u03BC'+ 'mol.mol-1'.translate(SUP) + ')',\n",
    "               x_axis_type='datetime',\n",
    "               title = 'CO2'.translate(SUB)+' mixing ratio (dry mole fraction) - Hyltemossa, Sweden, '+str(df_L2.SamplingHeight.iloc[0])+'m' ,\n",
    "               tools='pan,box_zoom,wheel_zoom,reset,save')\n",
    "\n",
    "\n",
    "    # Create empty list to store legend-info:\n",
    "    legend_it = []\n",
    "\n",
    "\n",
    "    # Extract time- and co2-values from DataFrame:\n",
    "    x1 = df_L2.index.values\n",
    "    y1 = df_L2.co2.values\n",
    "\n",
    "    # Create a circle-glyph:\n",
    "    r0 = p.circle(x1, y1, radius=.12, color=color)\n",
    "    \n",
    "    # Create a line-glyph:\n",
    "    r1 = p.line(x1, y1,\n",
    "                line_width=1, color=color)\n",
    "\n",
    "    # Add tooltip:\n",
    "    p.add_tools(HoverTool(tooltips=[\n",
    "        ('Time (UTC)','@x{%Y-%m-%d %H:%M:%S}'),\n",
    "        ('CO2'.translate(SUB),'@y{0.f}'),\n",
    "        ],\n",
    "        formatters={\n",
    "            '@x'      : 'datetime', \n",
    "        },\n",
    "        # Show tooltip when the mouse is vertically aligned to a glyph\n",
    "        mode='vline'\n",
    "        ))  \n",
    "\n",
    "    # Format plot title:\n",
    "    p.title.align = 'center'\n",
    "    p.title.text_font_size = '13pt'\n",
    "    p.title.offset = 15\n",
    "\n",
    "    # Format x-axis and y-axis titles:\n",
    "    p.xaxis.axis_label_text_font_style = 'normal'\n",
    "    p.yaxis.axis_label_text_font_style = 'normal'\n",
    "    p.xaxis.axis_label_standoff = 15 # Sets the distance of the label from the x-axis in screen units\n",
    "    p.yaxis.axis_label_standoff = 15 # Sets the distance of the label from the y-axis in screen units\n",
    "\n",
    "    # Set location for copyright label:\n",
    "    label_opts = dict(x=0, y=10,\n",
    "                      x_units='screen', y_units='screen')\n",
    "\n",
    "    # Create copyright-label:\n",
    "    caption1 = Label(text=\"© ICOS ERIC\", **label_opts)\n",
    "    caption1.text_font_size = '8pt'\n",
    "\n",
    "    # Inactivate hover-tool:\n",
    "    p.toolbar.active_inspect = None\n",
    "\n",
    "    # Add copyright label to plot:\n",
    "    p.add_layout(caption1, 'below')\n",
    "\n",
    "    # Define output location:\n",
    "    output_notebook()\n",
    "    \n",
    "    # Show plot:\n",
    "    show(p)"
   ]
  },
  {
   "cell_type": "code",
   "execution_count": null,
   "metadata": {
    "scrolled": false
   },
   "outputs": [],
   "source": [
    "# Function that produces a static plot of co2-data from a pandas DataFrame in a specific color:\n",
    "def plot_gpp(df, color='lightgray'):\n",
    "    \n",
    "    # Import modules:\n",
    "    from matplotlib import pyplot as plt\n",
    "    import matplotlib.dates as mdates\n",
    "    from pandas.plotting import register_matplotlib_converters\n",
    "    plt.style.use('seaborn-whitegrid')\n",
    "    import numpy as np\n",
    "    import pandas as pd\n",
    "    \n",
    "    # Create a python dictionary to transform numbers to corresponding superscript version:\n",
    "    SUP = str.maketrans(\"0123456789\", \"⁰¹²³⁴⁵⁶⁷⁸⁹\")\n",
    "\n",
    "    # Call matplotlib converters to activate them:\n",
    "    register_matplotlib_converters()\n",
    "\n",
    "    # Create figure:\n",
    "    fig = plt.figure(figsize=(20,8))\n",
    "    \n",
    "    # Create plot:\n",
    "    plt.plot(df.index.values, df.GPP.values, color)\n",
    "    \n",
    "    # Set ticks on x-axis:\n",
    "    plt.gca().set_xticks([df.index.values.min(),\n",
    "                          df.index.values.min() + np.timedelta64(151, 'D'),\n",
    "                          df.index.values.min() + np.timedelta64(242, 'D'),\n",
    "                          df.index.values.min() + np.timedelta64(365, 'D'),\n",
    "                          df.index.values.min() + np.timedelta64(517, 'D'),\n",
    "                          df.index.values.min() + np.timedelta64(608, 'D'),\n",
    "                          np.datetime64('2017-01-01T00:30:00.000000000'),\n",
    "                          np.datetime64('2017-01-01T00:30:00.000000000') + np.timedelta64(151, 'D'),\n",
    "                          np.datetime64('2017-01-01T00:30:00.000000000') + np.timedelta64(242, 'D'),\n",
    "                          df.index.values.max() - np.timedelta64(365, 'D'),\n",
    "                          df.index.values.max() - np.timedelta64(214, 'D'),\n",
    "                          df.index.values.max() - np.timedelta64(123, 'D'),\n",
    "                          df.index.values.max()])\n",
    "    \n",
    "    \n",
    "    plt.gca().xaxis.set_major_formatter(mdates.DateFormatter('%Y-%m-%d'))\n",
    "    plt.gcf().autofmt_xdate()\n",
    "    plt.xlabel('Time', fontsize=14, labelpad=20)\n",
    "    plt.ylabel('GPP ('+'umol m-2 s-1'.replace('u', '\\u03BC').translate(SUP)+')', fontsize=14, labelpad=20)\n",
    "    plt.title('Carbon uptake (GPP) from Hyltemossa research station', fontsize=18, pad=20)\n",
    "    \n",
    "    # Show plot:\n",
    "    plt.show()"
   ]
  },
  {
   "cell_type": "code",
   "execution_count": null,
   "metadata": {
    "scrolled": false
   },
   "outputs": [],
   "source": [
    "# Call function to plot data from \"co2_df_ind\". Type what color you wish the plot to have.\n",
    "plot(co2_df_ind, color='green')"
   ]
  },
  {
   "cell_type": "markdown",
   "metadata": {},
   "source": [
    "__Exercise 11:__ <br>\n",
    "Make sure to become familiar with the tools in the right side of the interactive plot, to answer the questions (2-5) below. You have to activate a tool before using it. To activate a tool, simply click on it. Active tools are highlighted with a blue line in the left side of the tool icon. Use the mouse, to hover over the tools and get a description of their name.\n",
    "\n",
    "\n",
    "1. Try to create the same plot with another color. Click on the ```Hide/Show Code```-button to write your own code.\n",
    "2. Use Box-Zoom and Hover to zoom in on the plot and view the measured CO2-value for March 6th 2018, at 06:00.\n",
    "3. Use Box-Zoom and Hover to zoom in and see during which months the highest values are observed. What season do they belong to? Why are the highest values observed during that period?\n",
    "4. Use Box-Zoom and Hover to view during which months the lowest values are observed? What season do they belong to? Why are the lowest values observed during this period?\n",
    "5. Use Box-Zoom and Hover to zoom in and view the observed CO2-values for July 18th 2017. Observe that the values are higher when it is dark and lower when the sun is shining. What process do you think is responsible for this? Keep in mind that Hyltemossa station is surrounded by a spruce forest and that this was not a windy day.\n",
    "\n",
    "<br>\n",
    "<br>\n",
    "\n",
    "-  Click on the button  ```Hide/Show Code``` to write your own code and answer question 11.1.\n",
    "-  Execute your code by clicking on ```Run``` in the menubar at the top."
   ]
  },
  {
   "cell_type": "code",
   "execution_count": null,
   "metadata": {
    "scrolled": false
   },
   "outputs": [],
   "source": [
    "################################\n",
    "# Add button to hide/show code:\n",
    "toggle_code()\n",
    "################################\n",
    "\n",
    "# Write your own code for exercise 11.1. below:\n",
    "\n",
    "\n"
   ]
  },
  {
   "cell_type": "markdown",
   "metadata": {},
   "source": [
    "<br>\n",
    "<br>\n",
    "\n",
    "#### Check your answers:\n",
    "Click on the ```Check answer```-button to see if your answer is correct."
   ]
  },
  {
   "cell_type": "code",
   "execution_count": null,
   "metadata": {
    "scrolled": false
   },
   "outputs": [],
   "source": [
    "# Import modules:\n",
    "from ipywidgets import VBox\n",
    "from tools.check_answer_widgets import create_coding_quiz_question, create_coding_quiz_question_dropdown, create_coding_quiz_question_true_false\n",
    "# Display both answer-control boxes in the same column:\n",
    "display(VBox([create_coding_quiz_question('Exercise 11.2', 442.9),\n",
    "              create_coding_quiz_question_dropdown('Exercise 11.3', ['autumn-winter', 'winter-spring', 'spring-summer', 'summer-autumn'], 'winter-spring'),\n",
    "              create_coding_quiz_question_dropdown('Exercise 11.4', ['autumn-winter', 'winter-spring', 'spring-summer', 'summer-autumn'], 'summer-autumn'),\n",
    "              create_coding_quiz_question_dropdown('Exercise 11.5', ['photosynthesis', 'respiration', 'car traffic', 'forest fire'], 'photosynthesis')]))"
   ]
  },
  {
   "cell_type": "markdown",
   "metadata": {},
   "source": [
    "<br>\n",
    "<br>\n",
    "<div style=\"text-align: right\"> \n",
    "    <a href=\"#intro\">Back to top</a>\n",
    "</div>\n",
    "<br>\n",
    "<br>\n",
    "<a id='final_exercise_py'></a>\n",
    "\n",
    "## 6. Help a climate scientist\n",
    "\n",
    "During the summer of 2018, many places in Sweden experienced record high temperatures. It was also a summer with very little precipitation. When the air temperature gets too high and the soil too dry, many plants respond by limiting or stopping completely their photosynthetic activity (i.e. they stop growing). This is a survival mechanism, as plants tend to loose water during photosynthesis. Consequently, when water resources are scarce, plants focus on maintaining their existent biomass to survive and thus stop growing. When plants stop photosynthesizing, they also stop taking up carbon dioxide from the atmosphere.\n",
    "\n",
    "Anna is a climate scientist and researcher. She wants to find out if the drought of the summer of 2018 had a negative effect on the vegetation near Hyltemossa research station. One way of discovering that, is to examine how much atmospheric carbon dioxide was taken up by the vegetation near Hyltemossa during that summer. In other words, this is an attempt to estimate how much plants photosynthesized during that summer. Gross Primary Production (GPP)  of an ecosystem can be described as the amount of carbon that has been taken up from the atmosphere by plants during photosynthesis. \n",
    "\n",
    "Martin, who is the principal Investigator (PI) responsible for running Hyltemossa station, has sent Anna a datafile with GPP-values covering the time period 2015 - 2018.\n",
    "\n",
    "Anna was planning to plot these values and carry out a visual inspection, as a first attempt of spotting any differences in the uptake of CO$_2$ between 2018 and the previous years. She was also thinking of calculating the sum of the CO$_2$ uptake during the summer months of 2018 and comparing it to the corresponding sums of the previous years. \n",
    "\n",
    "At the moment, Anna is very busy with fieldwork.\n",
    "Could you help her create the plot and perform the necessary computations?\n",
    "\n",
    "<br>\n",
    "<br>\n",
    "<img src=\"images/scientist.png\" width=\"180\" align=\"right\"/>\n",
    "<br>\n",
    "\n",
    "**<span style=\"color:blue\">Step 1:</span>** Import Martin's datafile to an array (pandas DataFrame). Name the array **gpp**. <br>\n",
    "-  Path to datafile: ```data/carboncycle/co2_uptake/htm_gpp``` <br>\n",
    "-  Row-number in file containing column names: ```0``` <br>\n",
    "-  Delimiter: ```;``` <br>\n",
    "-  Column name containing time information: ```time```\n",
    "\n",
    "<br>\n",
    "\n",
    "**<span style=\"color:blue\">Step 2:</span>** Set the column ```time``` as index. Name the new array **gpp_ind**. <br>\n",
    "\n",
    "<br>\n",
    "\n",
    "**<span style=\"color:blue\">Step 3:</span>** Plot all values in the array ```gpp_ind``` by using the function: ```plot_gpp(dataframe_name, color)```\n",
    "\n",
    "\n",
    "**Question 1.** During what season, in principle, is the highest uptake of CO$_2$ (GPP-values) observed?<br>\n",
    "**Question 2.** Are the values representing the CO$_2$ uptake during 2018 folllowing the same pattern as the corresponding values for other years?\n",
    "\n",
    "\n",
    "<br>\n",
    "\n",
    "\n",
    "**<span style=\"color:blue\">Step 4:</span>** Compute the sum of how much CO$_2$ was taken up by the vegetation during the summer months (jun-aug) for each year.\n",
    "\n",
    "_**Tip!** Python's built-in function ```sum()``` computes the sum of all values in a column. The function is used in the same way as ```min()```, ```max()``` and ```mean()```._\n",
    "\n",
    "\n",
    "\n",
    "**Question 3.** What is the lowest sum of CO$_2$ uptake during the summer months?<br>\n",
    "**Question 4.** What year does the lowest sum of CO$_2$ uptake during the summer months belong to?<br>\n",
    "**Question 5.** Did the drought of the summer of 2018 affect the vegetation near Hyltemossa?\n",
    "\n",
    "<br>\n",
    "<br>\n",
    "\n",
    "-  Click on the button  ```Hide/Show Code``` to write your own code.\n",
    "-  Execute your code by clicking on ```Run``` in the menubar at the top.\n",
    "-  Copy-paste or type your answer to a question in the corresponding answer-field below. <br> Click on the ```Check answer```-button to see if your answer is correct."
   ]
  },
  {
   "cell_type": "code",
   "execution_count": null,
   "metadata": {
    "scrolled": false
   },
   "outputs": [],
   "source": [
    "################################\n",
    "# Add button to hide/show code:\n",
    "toggle_code()\n",
    "################################\n",
    "\n",
    "# Write your own code below:\n",
    "\n"
   ]
  },
  {
   "cell_type": "code",
   "execution_count": null,
   "metadata": {
    "scrolled": false
   },
   "outputs": [],
   "source": [
    "# Import widgets:\n",
    "from ipywidgets import VBox\n",
    "\n",
    "# Display both answer-control boxes in the same column:\n",
    "display(VBox([create_coding_quiz_question_dropdown('Question 1', ['Spring', 'Summer', 'Autumn', 'Winter', 'Do not know'], 'Summer'),\n",
    "              create_coding_quiz_question_true_false('Question 2', 'No'),\n",
    "              create_coding_quiz_question('Question 3', 35762.356598700004),\n",
    "              create_coding_quiz_question('Question 4', 2018),\n",
    "              create_coding_quiz_question_true_false('Question 5', 'Yes')]))"
   ]
  },
  {
   "cell_type": "markdown",
   "metadata": {},
   "source": [
    "<br>\n",
    "<br>\n",
    "<br>\n",
    "<div style=\"text-align: right\"> \n",
    "    <a href=\"#intro\">Back to top</a>\n",
    "</div>\n",
    "\n",
    "\n",
    "<a id='references'></a>\n",
    "<br>\n",
    "\n",
    "## 7. References\n",
    "\n",
    "### 7.1. Text references\n",
    "\n",
    "**1.** The Editors of Encyclopaedia Britannica, \"Carbon dioxide.\" Encyclopædia Britannica, Encyclopædia Britannica, inc., last updated on May 27, 2020, Retrieved April 27, 2020, from https://www.britannica.com/science/carbon-dioxide\n",
    "\n",
    "\n",
    "**2.** Shaftel H., Jackson R., Callery S. and Bailey D., \"Carbon dioxide\", NASA Global Climate Change - Vital Signs of the Planet, last updated on April 06, 2020, Retrieved April 27, 2020, from https://climate.nasa.gov/vital-signs/carbon-dioxide/\n",
    "\n",
    "\n",
    "**3.** IUPAC, Compendium of Chemical Terminology, 2nd ed. (the \"Gold Book\") (1997). Online corrected version:  (2006–) \"biomass\". doi:10.1351/goldbook.B00660 \n",
    "\n",
    "\n",
    "**4.** Doyle, H. (Ed.). (2020, June 18). What Is the Greenhouse Effect? Earth Science Communications Team at NASA's Jet Propulsion Laboratory / California Institute of Technology, Retrieved September 07, 2020, from https://climatekids.nasa.gov/greenhouse-effect/\n",
    "\n",
    "\n",
    "**5.** Australian Government, Department of Agriculture, Water and the Environment, A. (Ed.). (2020, January 01). Greenhouse effect. Retrieved September 07, 2020, from https://www.environment.gov.au/climate-change/climate-science-data/climate-science/greenhouse-effect\n",
    "\n",
    "<br>\n",
    "\n",
    "### 7.2. Data references\n",
    "\n",
    "Biermann, T., Heliasz, M., Mölder, M., ICOS RI, 2019. ICOS ATC CO2 Release, Hyltemossa (150.0 m), 2017-04-17–2019-04-30, https://hdl.handle.net/11676/l0ysHf3ENUx1MIouesbfFAnG\n",
    "\n",
    "Heliasz, M. and ICOS Ecosystem Thematic Centre: Drought-2018 ecosystem eddy covariance flux product from Hyltemossa, doi:https://doi.org/10.18160/17ff-96rt, 2020.\n",
    "\n",
    "<br>\n",
    "<br>\n",
    "<br>\n"
   ]
  },
  {
   "cell_type": "markdown",
   "metadata": {},
   "source": [
    "<a id='visual_element_references'></a>\n",
    "\n",
    "\n",
    "###### icon & photo credits\n",
    "<font size=\"0.9\">CO$_2$-icon made by Freepik from www.flaticon.com</font> <br>\n",
    "<font size=\"0.9\">scientist-icon made by DataBase Center for Life Science (DBCLS) from http://togotv.dbcls.jp/ja/togopic.2017.18.html</font> <br>\n",
    "<font size=\"0.9\">Photos of ICOS Hyltemossa station, courtesy of Tobias Biermann tobias.biermann@cec.lu.se</font>\n",
    "\n",
    "\n",
    "<br>\n",
    "<br>\n",
    "<br>\n",
    "<div style=\"text-align: right\"> \n",
    "    <a href=\"#intro\">Back to top</a>\n",
    "</div>\n",
    "\n",
    "<br>\n",
    "<br>\n",
    "<br>\n",
    "<br>\n",
    "<br>\n",
    "<br>\n",
    "\n",
    "\n",
    "<img src=\"logos/ssc_proj_logos_eng.png\" width=\"950\"/>\n",
    "<br>"
   ]
  }
 ],
 "metadata": {
  "kernelspec": {
   "display_name": "Python 3",
   "language": "python",
   "name": "python3"
  },
  "language_info": {
   "codemirror_mode": {
    "name": "ipython",
    "version": 3
   },
   "file_extension": ".py",
   "mimetype": "text/x-python",
   "name": "python",
   "nbconvert_exporter": "python",
   "pygments_lexer": "ipython3",
   "version": "3.13.0"
  },
  "toc": {
   "base_numbering": "0",
   "nav_menu": {},
   "number_sections": false,
   "sideBar": true,
   "skip_h1_title": true,
   "title_cell": "Table of Contents",
   "title_sidebar": "Contents",
   "toc_cell": false,
   "toc_position": {
    "height": "calc(100% - 180px)",
    "left": "10px",
    "top": "150px",
    "width": "277.913px"
   },
   "toc_section_display": false,
   "toc_window_display": false
  }
 },
 "nbformat": 4,
 "nbformat_minor": 2
}
