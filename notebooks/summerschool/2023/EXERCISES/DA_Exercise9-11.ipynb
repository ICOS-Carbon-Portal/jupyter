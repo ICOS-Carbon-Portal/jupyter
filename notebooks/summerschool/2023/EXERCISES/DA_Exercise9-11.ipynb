{
 "cells": [
  {
   "cell_type": "markdown",
   "id": "6d702023-a4a3-4249-ab06-98a8c8cb4951",
   "metadata": {},
   "source": [
    "# MOGUNTIA DATA ASSIMILATION exercises, advanced\n",
    "\n",
    "---------\n",
    "<FONT COLOR=red>\n",
    "\n",
    "# Part 3: The inner workings of the ensemble Kalman filter\n",
    "\n",
    "<FONT COLOR=black> \n",
    "\n",
    "----------\n",
    "    \n",
    "##### Wouter Peters, December 2021\n",
    "##### Wouter Peters, modifications for ICOS Summerschool, May 2023\n",
    "\n",
    "    \n",
    "##### version 2.0\n",
    "\n",
    "### Goal\n",
    "\n",
    "* Understand how the Kalman filter equations are constructed, and solved (Exercise 9)\n",
    "* Be able to manipulate prior covariances, and interpret the outcome (Exercise 10)\n",
    "* Understand how ensemble size affects the solution of your minimization (Exercise 11)"
   ]
  },
  {
   "cell_type": "code",
   "execution_count": null,
   "id": "0d9ff797-5067-4904-be26-1a9fbe2f1b6b",
   "metadata": {},
   "outputs": [],
   "source": []
  }
 ],
 "metadata": {
  "kernelspec": {
   "display_name": "Python 3 (ipykernel)",
   "language": "python",
   "name": "python3"
  },
  "language_info": {
   "codemirror_mode": {
    "name": "ipython",
    "version": 3
   },
   "file_extension": ".py",
   "mimetype": "text/x-python",
   "name": "python",
   "nbconvert_exporter": "python",
   "pygments_lexer": "ipython3",
   "version": "3.10.6"
  }
 },
 "nbformat": 4,
 "nbformat_minor": 5
}
