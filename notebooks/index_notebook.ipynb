{
 "cells": [
  {
   "cell_type": "markdown",
   "id": "static-usage",
   "metadata": {},
   "source": [
    "<img src='https://www.icos-cp.eu/sites/default/files/2017-11/ICOS_CP_logo.png' width=\"250\" align=\"right\"/>\n",
    "\n",
    "# Interactive Index Notebook"
   ]
  },
  {
   "cell_type": "markdown",
   "id": "imposed-observation",
   "metadata": {},
   "source": [
    "To open a notebook simply **click** on the **notebook title** and you will be redirected to the notebook file in the ICOS Jupyter Hub. Documentation for our Jupyter Hub is available at [https://icos-carbon-portal.github.io/jupyter/](https://icos-carbon-portal.github.io/jupyter/)."
   ]
  },
  {
   "cell_type": "code",
   "execution_count": null,
   "id": "incomplete-saskatchewan",
   "metadata": {
    "init_cell": true,
    "scrolled": false
   },
   "outputs": [],
   "source": [
    "%run icos_jupyter_notebooks/ind_tools/tools.ipynb\n",
    "icos_ind_nb_widgt(icos_nb_dict)"
   ]
  },
  {
   "cell_type": "markdown",
   "id": "interesting-inclusion",
   "metadata": {},
   "source": [
    "<br>\n",
    "<br>\n",
    "<br>"
   ]
  }
 ],
 "metadata": {
  "celltoolbar": "Initialization Cell",
  "kernelspec": {
   "display_name": "Python 3",
   "language": "python",
   "name": "python3"
  },
  "language_info": {
   "codemirror_mode": {
    "name": "ipython",
    "version": 3
   },
   "file_extension": ".py",
   "mimetype": "text/x-python",
   "name": "python",
   "nbconvert_exporter": "python",
   "pygments_lexer": "ipython3",
   "version": "3.8.6"
  },
  "toc": {
   "base_numbering": 1,
   "nav_menu": {},
   "number_sections": false,
   "sideBar": true,
   "skip_h1_title": true,
   "title_cell": "Table of Contents",
   "title_sidebar": "Contents",
   "toc_cell": false,
   "toc_position": {},
   "toc_section_display": true,
   "toc_window_display": false
  }
 },
 "nbformat": 4,
 "nbformat_minor": 5
}
