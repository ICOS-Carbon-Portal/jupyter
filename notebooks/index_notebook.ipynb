{
 "cells": [
  {
   "cell_type": "markdown",
   "id": "static-usage",
   "metadata": {},
   "source": [
    "<img src='https://www.icos-cp.eu/sites/default/files/2017-11/ICOS_CP_logo.png' width=\"250\" align=\"right\"/>\n",
    "\n",
    "# Interactive Index notebook"
   ]
  },
  {
   "cell_type": "markdown",
   "id": "imposed-observation",
   "metadata": {},
   "source": [
    "To open a notebook simply **click** on the **notebook title** and you will be redirected to the notebook file in the ICOS Jupyter Hub. Documentation for our Jupyter Hub is available on [github](https://icos-carbon-portal.github.io/jupyter/)."
   ]
  },
  {
   "cell_type": "code",
   "execution_count": 1,
   "id": "incomplete-saskatchewan",
   "metadata": {
    "init_cell": true,
    "scrolled": true
   },
   "outputs": [
    {
     "data": {
      "application/vnd.jupyter.widget-view+json": {
       "model_id": "e1c6d8fc5c9341218bf1bda66129addb",
       "version_major": 2,
       "version_minor": 0
      },
      "text/plain": [
       "Accordion(children=(GridBox(children=(HTML(value='Notebooks under this category are aimed to introduce users q…"
      ]
     },
     "metadata": {},
     "output_type": "display_data"
    }
   ],
   "source": [
    "%run icos_jupyter_notebooks/ind_tools/tools.ipynb\n",
    "icos_ind_nb_widgt(icos_nb_dict)"
   ]
  },
  {
   "cell_type": "markdown",
   "id": "interesting-inclusion",
   "metadata": {},
   "source": [
    "<br>\n",
    "<br>\n",
    "<br>"
   ]
  }
 ],
 "metadata": {
  "celltoolbar": "Initialization Cell",
  "kernelspec": {
   "display_name": "Python 3",
   "language": "python",
   "name": "python3"
  },
  "language_info": {
   "codemirror_mode": {
    "name": "ipython",
    "version": 3
   },
   "file_extension": ".py",
   "mimetype": "text/x-python",
   "name": "python",
   "nbconvert_exporter": "python",
   "pygments_lexer": "ipython3",
   "version": "3.8.6"
  },
  "toc": {
   "base_numbering": 1,
   "nav_menu": {},
   "number_sections": false,
   "sideBar": true,
   "skip_h1_title": true,
   "title_cell": "Table of Contents",
   "title_sidebar": "Contents",
   "toc_cell": false,
   "toc_position": {},
   "toc_section_display": true,
   "toc_window_display": false
  },
  "widgets": {
   "application/vnd.jupyter.widget-state+json": {
    "state": {
     "0029614fe2af46378f2d301b8beffd9c": {
      "model_module": "@jupyter-widgets/controls",
      "model_module_version": "1.5.0",
      "model_name": "DescriptionStyleModel",
      "state": {
       "description_width": ""
      }
     },
     "002a60e675004c0b9c565f07719e62e1": {
      "model_module": "@jupyter-widgets/controls",
      "model_module_version": "1.5.0",
      "model_name": "HTMLModel",
      "state": {
       "layout": "IPY_MODEL_8fa5850b24de4a67bacb53ab7c01496a",
       "style": "IPY_MODEL_17765aeeb4424d4daf8123d58623f5a6",
       "value": "<a href='https://github.com/ICOS-Carbon-Portal/jupyter/issues' target='_blank'>Click here to report an issue</a>"
      }
     },
     "00324544bc7f4fc0a0084730ab5fa884": {
      "model_module": "@jupyter-widgets/base",
      "model_module_version": "1.2.0",
      "model_name": "LayoutModel",
      "state": {}
     },
     "003f991c6de545cd85afacd51589dd79": {
      "model_module": "@jupyter-widgets/controls",
      "model_module_version": "1.5.0",
      "model_name": "HTMLModel",
      "state": {
       "layout": "IPY_MODEL_12002b5754cd4f7dae6ad05d9f357730",
       "style": "IPY_MODEL_34ed49168b56419ea9a0d845d28f572a",
       "value": "<a href=\"mailto: jupyter-info@icos-cp.eu\">jupyter-info@icos-cp.eu</a>"
      }
     },
     "005016d57f394f35adcb136d15e785bc": {
      "model_module": "@jupyter-widgets/controls",
      "model_module_version": "1.5.0",
      "model_name": "DescriptionStyleModel",
      "state": {
       "description_width": ""
      }
     },
     "0055dfd3777a42f6ae88990537d4eef9": {
      "model_module": "@jupyter-widgets/controls",
      "model_module_version": "1.5.0",
      "model_name": "DescriptionStyleModel",
      "state": {
       "description_width": ""
      }
     },
     "005cdde708a14267a1ebd1d454c0d73d": {
      "model_module": "@jupyter-widgets/controls",
      "model_module_version": "1.5.0",
      "model_name": "DescriptionStyleModel",
      "state": {
       "description_width": ""
      }
     },
     "00671ccee61147cab29d7dff23f011c2": {
      "model_module": "@jupyter-widgets/controls",
      "model_module_version": "1.5.0",
      "model_name": "DescriptionStyleModel",
      "state": {
       "description_width": ""
      }
     },
     "007e301546854647bf7457da02605ea1": {
      "model_module": "@jupyter-widgets/base",
      "model_module_version": "1.2.0",
      "model_name": "LayoutModel",
      "state": {}
     },
     "00a10bbb012c4ad1af951a6423391bfc": {
      "model_module": "@jupyter-widgets/base",
      "model_module_version": "1.2.0",
      "model_name": "LayoutModel",
      "state": {}
     },
     "00e83a83a9054a0ba9548fc1992cd371": {
      "model_module": "@jupyter-widgets/controls",
      "model_module_version": "1.5.0",
      "model_name": "DescriptionStyleModel",
      "state": {
       "description_width": ""
      }
     },
     "00ebb701fb9f42f0a6dec4312d248d64": {
      "model_module": "@jupyter-widgets/base",
      "model_module_version": "1.2.0",
      "model_name": "LayoutModel",
      "state": {
       "grid_gap": "5px 10px",
       "grid_template_columns": "100px auto",
       "grid_template_rows": "auto auto auto auto auto",
       "padding": "50px 0px 70px 0px",
       "width": "100%"
      }
     },
     "0113c7afcfae4146ba73b44796a20ef0": {
      "model_module": "@jupyter-widgets/controls",
      "model_module_version": "1.5.0",
      "model_name": "DescriptionStyleModel",
      "state": {
       "description_width": ""
      }
     },
     "012d7abfa25c4586a821f8261d7aab4b": {
      "model_module": "@jupyter-widgets/controls",
      "model_module_version": "1.5.0",
      "model_name": "DescriptionStyleModel",
      "state": {
       "description_width": ""
      }
     },
     "014e19ff52974f239d267d6aa567aae6": {
      "model_module": "@jupyter-widgets/base",
      "model_module_version": "1.2.0",
      "model_name": "LayoutModel",
      "state": {}
     },
     "015a4050573347818039d5d2a9fe86c2": {
      "model_module": "@jupyter-widgets/controls",
      "model_module_version": "1.5.0",
      "model_name": "HTMLModel",
      "state": {
       "layout": "IPY_MODEL_55f49a0f846247fda253dfa20e435e70",
       "style": "IPY_MODEL_0300958c99f948a4beb8b3b0af4f5fa4",
       "value": "<b>Contact: </b> "
      }
     },
     "015a601024ee4e53959eb6eaad8fe4a1": {
      "model_module": "@jupyter-widgets/controls",
      "model_module_version": "1.5.0",
      "model_name": "HTMLModel",
      "state": {
       "layout": "IPY_MODEL_1bda72f4823c400ab71c172d8734be28",
       "style": "IPY_MODEL_a59a6d515ce3409cb20371163f12eff9",
       "value": "<b>Description: </b> "
      }
     },
     "015c759ef62a4c3e99d08b0adfdffe0a": {
      "model_module": "@jupyter-widgets/controls",
      "model_module_version": "1.5.0",
      "model_name": "HTMLModel",
      "state": {
       "layout": "IPY_MODEL_0d4e90155a0141869c063b127dce286b",
       "style": "IPY_MODEL_c05bb2633a3d49009a900e95cf1a595c",
       "value": "<b>Thumbnail: </b> "
      }
     },
     "016cc19186114fa5af5edbb8870b99b2": {
      "model_module": "@jupyter-widgets/base",
      "model_module_version": "1.2.0",
      "model_name": "LayoutModel",
      "state": {}
     },
     "016edb114882411386fe87b181a79386": {
      "model_module": "@jupyter-widgets/base",
      "model_module_version": "1.2.0",
      "model_name": "LayoutModel",
      "state": {}
     },
     "01835ed13a714a4daee9cb919540e239": {
      "model_module": "@jupyter-widgets/controls",
      "model_module_version": "1.5.0",
      "model_name": "HTMLModel",
      "state": {
       "layout": "IPY_MODEL_150b36036b91461aba1bdfef3bc22934",
       "style": "IPY_MODEL_5ec6971f28f946baa6ee71ba8bddffd8",
       "value": "<a href=./icos_jupyter_notebooks/icos_data_availability_table.ipynb target='_blank'>ICOS data availability table</a>"
      }
     },
     "0196dd2061314d69b6623daeedff2757": {
      "model_module": "@jupyter-widgets/controls",
      "model_module_version": "1.5.0",
      "model_name": "HTMLModel",
      "state": {
       "layout": "IPY_MODEL_ad6a7283876043228ea1189a4b39704f",
       "style": "IPY_MODEL_2d59aee7c5094d628bc2df2867b2b350",
       "value": "<img src=\"./icos_jupyter_notebooks/ind_tools/img/05_education/phd/ucf/ex2/htm_nee.PNG\">"
      }
     },
     "01b1871a230f4758b2c4cd59af99957a": {
      "model_module": "@jupyter-widgets/controls",
      "model_module_version": "1.5.0",
      "model_name": "HTMLModel",
      "state": {
       "layout": "IPY_MODEL_de82c3803dbc42ccab2e5cc659465fc4",
       "style": "IPY_MODEL_26826caacc8e4600a87a4f84245efb88",
       "value": "<a href='https://github.com/ICOS-Carbon-Portal/jupyter/issues' target='_blank'>Click here to report an issue</a>"
      }
     },
     "01b8262141504776a7c6e2601d788097": {
      "model_module": "@jupyter-widgets/base",
      "model_module_version": "1.2.0",
      "model_name": "LayoutModel",
      "state": {}
     },
     "01c942f8c0284d94b9a912ed5b4ec587": {
      "model_module": "@jupyter-widgets/base",
      "model_module_version": "1.2.0",
      "model_name": "LayoutModel",
      "state": {}
     },
     "01d62065bb0e4e5986ef7ffba37940ca": {
      "model_module": "@jupyter-widgets/controls",
      "model_module_version": "1.5.0",
      "model_name": "DescriptionStyleModel",
      "state": {
       "description_width": ""
      }
     },
     "01e4eccd9abd4e23ab8bad933ce94261": {
      "model_module": "@jupyter-widgets/controls",
      "model_module_version": "1.5.0",
      "model_name": "AccordionModel",
      "state": {
       "_titles": {
        "0": "Soil exercise - NGEN16"
       },
       "children": [
        "IPY_MODEL_87d9f1c9cc714e82ab9e8d5981a57920"
       ],
       "layout": "IPY_MODEL_5df542137b454596b1a69b66836ef99b",
       "selected_index": null
      }
     },
     "02062a0f68f34a209ff588714bc611fd": {
      "model_module": "@jupyter-widgets/base",
      "model_module_version": "1.2.0",
      "model_name": "LayoutModel",
      "state": {}
     },
     "0233149d4f6442a5b943c14a8c637cda": {
      "model_module": "@jupyter-widgets/controls",
      "model_module_version": "1.5.0",
      "model_name": "DescriptionStyleModel",
      "state": {
       "description_width": ""
      }
     },
     "02369e0ebacb464591b214bea1258e4d": {
      "model_module": "@jupyter-widgets/base",
      "model_module_version": "1.2.0",
      "model_name": "LayoutModel",
      "state": {}
     },
     "0243c14814224c00b86e441142484fa2": {
      "model_module": "@jupyter-widgets/base",
      "model_module_version": "1.2.0",
      "model_name": "LayoutModel",
      "state": {}
     },
     "027fa44c0b984354ac5a790bebcdfbd3": {
      "model_module": "@jupyter-widgets/base",
      "model_module_version": "1.2.0",
      "model_name": "LayoutModel",
      "state": {}
     },
     "02a26b4dd65d4adaaf02a4e18b1fa056": {
      "model_module": "@jupyter-widgets/base",
      "model_module_version": "1.2.0",
      "model_name": "LayoutModel",
      "state": {}
     },
     "02ba198a44794f2296b96a0494f06c8f": {
      "model_module": "@jupyter-widgets/controls",
      "model_module_version": "1.5.0",
      "model_name": "HTMLModel",
      "state": {
       "layout": "IPY_MODEL_1d5cbc7fb32e4e2692f58e6ceb2fb3f7",
       "style": "IPY_MODEL_9a9e2b81ae6c4f519d2d90740eaef82f",
       "value": "<b>Title: </b> "
      }
     },
     "02c19386c8b145c9a837f61b25a0f514": {
      "model_module": "@jupyter-widgets/controls",
      "model_module_version": "1.5.0",
      "model_name": "HTMLModel",
      "state": {
       "layout": "IPY_MODEL_fc82cae322be4255ae71e29ece418710",
       "style": "IPY_MODEL_501e996742c94bf9829ba43eb01bffbd",
       "value": "<a href=\"mailto: jupyter-info@icos-cp.eu\">jupyter-info@icos-cp.eu</a>, <a href=\"mailto: Steve.Jones@uib.no\">Steve.Jones@uib.no</a>"
      }
     },
     "02ee278ac0594257bf29b3f132820851": {
      "model_module": "@jupyter-widgets/controls",
      "model_module_version": "1.5.0",
      "model_name": "DescriptionStyleModel",
      "state": {
       "description_width": ""
      }
     },
     "02ef5aa2c28a4bafb8fafec0dbd555d4": {
      "model_module": "@jupyter-widgets/controls",
      "model_module_version": "1.5.0",
      "model_name": "HTMLModel",
      "state": {
       "layout": "IPY_MODEL_f868116e623f4c86ad70ffeba0dcb228",
       "style": "IPY_MODEL_dd171f37d8244b3489f2ea2ccc9a5f80",
       "value": "<b>Description: </b> "
      }
     },
     "02f20abde11d4bb390ab06eacde14cae": {
      "model_module": "@jupyter-widgets/controls",
      "model_module_version": "1.5.0",
      "model_name": "HTMLModel",
      "state": {
       "layout": "IPY_MODEL_9045b682c3374fff926fba034245934f",
       "style": "IPY_MODEL_7872ec2b32954c8a9f2f9f7ab5418e00",
       "value": "<b>Contact: </b> "
      }
     },
     "02f9680fce7e49978ad64012ad8dc40f": {
      "model_module": "@jupyter-widgets/base",
      "model_module_version": "1.2.0",
      "model_name": "LayoutModel",
      "state": {
       "grid_gap": "5px 10px",
       "grid_template_columns": "auto",
       "grid_template_rows": "auto",
       "padding": "5px 0px 5px 0px",
       "width": "100%"
      }
     },
     "0300958c99f948a4beb8b3b0af4f5fa4": {
      "model_module": "@jupyter-widgets/controls",
      "model_module_version": "1.5.0",
      "model_name": "DescriptionStyleModel",
      "state": {
       "description_width": ""
      }
     },
     "0306d98e9aef43f7bf31c4cb6184853e": {
      "model_module": "@jupyter-widgets/controls",
      "model_module_version": "1.5.0",
      "model_name": "DescriptionStyleModel",
      "state": {
       "description_width": ""
      }
     },
     "0307b89ae7554f89918c48b7ee6470ab": {
      "model_module": "@jupyter-widgets/controls",
      "model_module_version": "1.5.0",
      "model_name": "HTMLModel",
      "state": {
       "layout": "IPY_MODEL_0df5c3b325b742aaad75de689ec979dd",
       "style": "IPY_MODEL_cfdb32f0e44e43bf893799c0587e725c",
       "value": "This Jupyter notebook provides examples on how to access ICOS observations and extract data and metadata information using the ICOS Carbon Portal Python library. Full documentation for the library is available on the <a href='https://icos-carbon-portal.github.io/pylib/' target='_blank'>project page</a>, how to install and wheel on <a href='https://pypi.org/project/icoscp/' target='_blank'>pypi.org</a>, source available on <a href='https://github.com/ICOS-Carbon-Portal/pylib' target='_blank'>GitHub</a>"
      }
     },
     "030d0133bf454da48c01202235f4b1a4": {
      "model_module": "@jupyter-widgets/base",
      "model_module_version": "1.2.0",
      "model_name": "LayoutModel",
      "state": {
       "grid_gap": "5px 10px",
       "grid_template_columns": "100px auto",
       "grid_template_rows": "auto auto auto auto auto",
       "padding": "50px 0px 70px 0px",
       "width": "100%"
      }
     },
     "031ffb2e113545d59485f5a9bb6a681f": {
      "model_module": "@jupyter-widgets/controls",
      "model_module_version": "1.5.0",
      "model_name": "GridBoxModel",
      "state": {
       "children": [
        "IPY_MODEL_0a43f4ee2e0641b5be179200706ddffd",
        "IPY_MODEL_f75f020275af4eefbb9ba20fac8f8925"
       ],
       "layout": "IPY_MODEL_70ca077ff20b49779f96e78e0a4f652a"
      }
     },
     "032f3e02ff1c4977b586005e6132faae": {
      "model_module": "@jupyter-widgets/base",
      "model_module_version": "1.2.0",
      "model_name": "LayoutModel",
      "state": {}
     },
     "035e188fbd76444ca101e81582b9961a": {
      "model_module": "@jupyter-widgets/base",
      "model_module_version": "1.2.0",
      "model_name": "LayoutModel",
      "state": {}
     },
     "03988215efd547449b95015669e618c1": {
      "model_module": "@jupyter-widgets/controls",
      "model_module_version": "1.5.0",
      "model_name": "GridBoxModel",
      "state": {
       "children": [
        "IPY_MODEL_fddf48841d89483bbf670591b8be963d",
        "IPY_MODEL_31e609d661d94d249f84e3fefbf22164",
        "IPY_MODEL_2073eb1d589040b19ed5248c6ea71264",
        "IPY_MODEL_ca321b336e154e10a6b503a7c5976cc8",
        "IPY_MODEL_0a5ac41808a647fdb15c8fde1f3c7491",
        "IPY_MODEL_abd452bd10d947ef93e9924873915b54",
        "IPY_MODEL_afd2ab19e66841b7b7ffe08ec24bf13b",
        "IPY_MODEL_c6971d7c0ea2433a92245808f44201ba",
        "IPY_MODEL_722b3fcfc675445e92abd0b6092dde83",
        "IPY_MODEL_1d9550ad17934106961442bf1ab23b37"
       ],
       "layout": "IPY_MODEL_eaa1ce4434af4bc9a891d70295e13332"
      }
     },
     "03a5f101e872454eb2ebfbabfd0d8487": {
      "model_module": "@jupyter-widgets/base",
      "model_module_version": "1.2.0",
      "model_name": "LayoutModel",
      "state": {}
     },
     "03aca94a3cbb4a13a5539bbbe60b43ba": {
      "model_module": "@jupyter-widgets/base",
      "model_module_version": "1.2.0",
      "model_name": "LayoutModel",
      "state": {}
     },
     "03b55baa49d148e28096a038bd3d9efe": {
      "model_module": "@jupyter-widgets/base",
      "model_module_version": "1.2.0",
      "model_name": "LayoutModel",
      "state": {}
     },
     "03e98f60ad7a4c1ca29b882c4a69dfb0": {
      "model_module": "@jupyter-widgets/controls",
      "model_module_version": "1.5.0",
      "model_name": "DescriptionStyleModel",
      "state": {
       "description_width": ""
      }
     },
     "04172d75521f401684d0652f183eb36d": {
      "model_module": "@jupyter-widgets/controls",
      "model_module_version": "1.5.0",
      "model_name": "DescriptionStyleModel",
      "state": {
       "description_width": ""
      }
     },
     "041c8b4b25644346974c76a4ffc1cd3b": {
      "model_module": "@jupyter-widgets/controls",
      "model_module_version": "1.5.0",
      "model_name": "HTMLModel",
      "state": {
       "layout": "IPY_MODEL_a5606e7b7b3d4bff9e0d4736b5a51ed7",
       "style": "IPY_MODEL_a574d10a09584fe4be11aaa05aa86c58",
       "value": "<a href=./education/MSc_BSc/soil_exercise_ngen16/TestSoilT.ipynb target='_blank'>Soil exercise - NGEN16</a>"
      }
     },
     "0445b6552f69468587d1a8a6cf1551f2": {
      "model_module": "@jupyter-widgets/base",
      "model_module_version": "1.2.0",
      "model_name": "LayoutModel",
      "state": {}
     },
     "0447ba5a584744d7af24418defb9535f": {
      "model_module": "@jupyter-widgets/controls",
      "model_module_version": "1.5.0",
      "model_name": "DescriptionStyleModel",
      "state": {
       "description_width": ""
      }
     },
     "04785a6f78214a42ab0cb3dd7fd1ee61": {
      "model_module": "@jupyter-widgets/controls",
      "model_module_version": "1.5.0",
      "model_name": "HTMLModel",
      "state": {
       "layout": "IPY_MODEL_93135b4ed4e041f980849a6b0a243880",
       "style": "IPY_MODEL_06b5423ee78d4dafb8427150214e6b51",
       "value": "<img src=\"./icos_jupyter_notebooks/ind_tools/img/05_education/phd/ucf/inspect_fluxnet/plot.PNG\">"
      }
     },
     "0490e8cb9a1a4398b092769f0a3086f9": {
      "model_module": "@jupyter-widgets/controls",
      "model_module_version": "1.5.0",
      "model_name": "HTMLModel",
      "state": {
       "layout": "IPY_MODEL_e6ca3fd7b9dd4240af04a2c711f4525f",
       "style": "IPY_MODEL_ee4740325b644a3d95f7d5d27e10653a",
       "value": "<a href=./education/General/carboncycle_svb.ipynb target='_blank'>Carbon cycle - Svartberget</a>"
      }
     },
     "0498e26f036b4b449ca656aa645fbafb": {
      "model_module": "@jupyter-widgets/base",
      "model_module_version": "1.2.0",
      "model_name": "LayoutModel",
      "state": {}
     },
     "04a9e7427df84861bbc81461197f96e1": {
      "model_module": "@jupyter-widgets/controls",
      "model_module_version": "1.5.0",
      "model_name": "GridBoxModel",
      "state": {
       "children": [
        "IPY_MODEL_9dcccebf545647f59948fd0511b3c25e",
        "IPY_MODEL_9c6919d1516143e9bd14ac56b73c3ca0"
       ],
       "layout": "IPY_MODEL_df33d3054d844d599e79fd2ead04d26f"
      }
     },
     "04ab2f972b444427b81fa9077e92f20a": {
      "model_module": "@jupyter-widgets/base",
      "model_module_version": "1.2.0",
      "model_name": "LayoutModel",
      "state": {}
     },
     "04c30286fd51439b809e4a7579e50088": {
      "model_module": "@jupyter-widgets/base",
      "model_module_version": "1.2.0",
      "model_name": "LayoutModel",
      "state": {}
     },
     "04c45b557a2b4e9190bf7376f1bfd6b2": {
      "model_module": "@jupyter-widgets/base",
      "model_module_version": "1.2.0",
      "model_name": "LayoutModel",
      "state": {}
     },
     "0519d97564c24493ba3ef952acd7f406": {
      "model_module": "@jupyter-widgets/controls",
      "model_module_version": "1.5.0",
      "model_name": "HTMLModel",
      "state": {
       "layout": "IPY_MODEL_adbdd0e9cf3b49dd9b44af1c7dd92bba",
       "style": "IPY_MODEL_78e1f3e8587b4656a50b89ff6b21d0f4",
       "value": "<b>Description: </b> "
      }
     },
     "0535ec43cefb494eade306e9d5458b25": {
      "model_module": "@jupyter-widgets/controls",
      "model_module_version": "1.5.0",
      "model_name": "DescriptionStyleModel",
      "state": {
       "description_width": ""
      }
     },
     "05593eab8f734b9fa9867f49657dd0fb": {
      "model_module": "@jupyter-widgets/controls",
      "model_module_version": "1.5.0",
      "model_name": "HTMLModel",
      "state": {
       "layout": "IPY_MODEL_6a80e12dd2254dfe8a8d55d7b1bcbfcf",
       "style": "IPY_MODEL_5916a577a3b8431ebc4fb49510ef088f",
       "value": "<b>GitHub: </b> "
      }
     },
     "0575dd1473b34a0f8cb0631a086e0db3": {
      "model_module": "@jupyter-widgets/controls",
      "model_module_version": "1.5.0",
      "model_name": "DescriptionStyleModel",
      "state": {
       "description_width": ""
      }
     },
     "057bcef5f4b54bf292cbe6af0bd932be": {
      "model_module": "@jupyter-widgets/controls",
      "model_module_version": "1.5.0",
      "model_name": "DescriptionStyleModel",
      "state": {
       "description_width": ""
      }
     },
     "0580cc7ceede49d0ab238bde4871b7dd": {
      "model_module": "@jupyter-widgets/base",
      "model_module_version": "1.2.0",
      "model_name": "LayoutModel",
      "state": {}
     },
     "05a0385710bf4ae1ab131d9ae927600d": {
      "model_module": "@jupyter-widgets/controls",
      "model_module_version": "1.5.0",
      "model_name": "HTMLModel",
      "state": {
       "layout": "IPY_MODEL_f683386dfddd43f4bff68ca08a2eb50b",
       "style": "IPY_MODEL_c731a239df714ac8b4009ea5ea34eeee",
       "value": "<a href=\"mailto: jupyter-info@icos-cp.eu\">jupyter-info@icos-cp.eu</a>, <a href=\"mailto: ute.karstens@nateko.lu.se\">ute.karstens@nateko.lu.se</a>, <a href=\"mailto: marko.scholze@nateko.lu.se\">marko.scholze@nateko.lu.se</a>, <a href=\"mailto: paul.miller@nateko.lu.se\">paul.miller@nateko.lu.se</a>, <a href=\"mailto: Maj-Lena.Linderson@nateko.lu.se\">Maj-Lena.Linderson@nateko.lu.se</a>"
      }
     },
     "05bba8acced74f1b9fbd0485708f2bd4": {
      "model_module": "@jupyter-widgets/base",
      "model_module_version": "1.2.0",
      "model_name": "LayoutModel",
      "state": {}
     },
     "05e9eb7064a241ac873743f9b38596bb": {
      "model_module": "@jupyter-widgets/base",
      "model_module_version": "1.2.0",
      "model_name": "LayoutModel",
      "state": {}
     },
     "060c64ef2daa4c85a9713cadd64c78f1": {
      "model_module": "@jupyter-widgets/controls",
      "model_module_version": "1.5.0",
      "model_name": "DescriptionStyleModel",
      "state": {
       "description_width": ""
      }
     },
     "060c744319ae4891b1f86fb9722aefa2": {
      "model_module": "@jupyter-widgets/controls",
      "model_module_version": "1.5.0",
      "model_name": "HTMLModel",
      "state": {
       "layout": "IPY_MODEL_2c3153dc1abc4c07b7fc3433968defdd",
       "style": "IPY_MODEL_69e5e9d282e44465a18be7e827338db4",
       "value": "<b>Title: </b> "
      }
     },
     "0633c8d49ed24873bf16733c9bb18dfa": {
      "model_module": "@jupyter-widgets/controls",
      "model_module_version": "1.5.0",
      "model_name": "HTMLModel",
      "state": {
       "layout": "IPY_MODEL_e03a5f596ced4aaba556e90d9bff58a9",
       "style": "IPY_MODEL_fa81019453da4d618deb6f62deef50a9",
       "value": "<b>Title: </b> "
      }
     },
     "063ea337a2aa41839fb123982fa4c8d1": {
      "model_module": "@jupyter-widgets/base",
      "model_module_version": "1.2.0",
      "model_name": "LayoutModel",
      "state": {}
     },
     "065b996decfe446b9b5b8a0a6b628c9b": {
      "model_module": "@jupyter-widgets/base",
      "model_module_version": "1.2.0",
      "model_name": "LayoutModel",
      "state": {}
     },
     "065be526fb364861b5ea723122cc325b": {
      "model_module": "@jupyter-widgets/controls",
      "model_module_version": "1.5.0",
      "model_name": "DescriptionStyleModel",
      "state": {
       "description_width": ""
      }
     },
     "06798522e9e84b90be56d42a0e99b327": {
      "model_module": "@jupyter-widgets/controls",
      "model_module_version": "1.5.0",
      "model_name": "HTMLModel",
      "state": {
       "layout": "IPY_MODEL_124c70a054b9430b873a6ff63622bea6",
       "style": "IPY_MODEL_a8198386d24b47b6883891fab33ff312",
       "value": "This Jupyter notebook provides examples on how to access data and metadata of collections using ICOS Carbon Portal Python library. Full documentation for the ICOS library on the <a href='https://icos-carbon-portal.github.io/pylib/' target='_blank'>project page</a>, how to install and wheel on <a href='https://pypi.org/project/icoscp/' target='_blank'>pypi.org</a>, source available on <a href='https://github.com/ICOS-Carbon-Portal/pylib' target='_blank'>GitHub</a>."
      }
     },
     "0688b71bfb754072bdd038b423b03ffa": {
      "model_module": "@jupyter-widgets/controls",
      "model_module_version": "1.5.0",
      "model_name": "DescriptionStyleModel",
      "state": {
       "description_width": ""
      }
     },
     "069d30db8d7f41698ce293b4041aa664": {
      "model_module": "@jupyter-widgets/base",
      "model_module_version": "1.2.0",
      "model_name": "LayoutModel",
      "state": {}
     },
     "06b5423ee78d4dafb8427150214e6b51": {
      "model_module": "@jupyter-widgets/controls",
      "model_module_version": "1.5.0",
      "model_name": "DescriptionStyleModel",
      "state": {
       "description_width": ""
      }
     },
     "06cfb81d508d40708c9ba42467eca5cb": {
      "model_module": "@jupyter-widgets/base",
      "model_module_version": "1.2.0",
      "model_name": "LayoutModel",
      "state": {}
     },
     "06d3c2b03794468b91262beb027281dd": {
      "model_module": "@jupyter-widgets/controls",
      "model_module_version": "1.5.0",
      "model_name": "DescriptionStyleModel",
      "state": {
       "description_width": ""
      }
     },
     "06d5adb4f8e148fba4ecd1df53b7c2ce": {
      "model_module": "@jupyter-widgets/base",
      "model_module_version": "1.2.0",
      "model_name": "LayoutModel",
      "state": {}
     },
     "06d817b2f05e4634b42af6f9b523b99d": {
      "model_module": "@jupyter-widgets/controls",
      "model_module_version": "1.5.0",
      "model_name": "DescriptionStyleModel",
      "state": {
       "description_width": ""
      }
     },
     "06e52419d44e4344826e46b5040be695": {
      "model_module": "@jupyter-widgets/controls",
      "model_module_version": "1.5.0",
      "model_name": "HTMLModel",
      "state": {
       "layout": "IPY_MODEL_ad94076189bb46768dc7e733a2cb2a73",
       "style": "IPY_MODEL_7c9b2e62ccdf4fa69e710d10c8c79f61",
       "value": "<b>Description: </b> "
      }
     },
     "06e834fc12b04a79984b620c3030ef3a": {
      "model_module": "@jupyter-widgets/base",
      "model_module_version": "1.2.0",
      "model_name": "LayoutModel",
      "state": {}
     },
     "0700191b55dc48b79743ef4b5109c9c2": {
      "model_module": "@jupyter-widgets/controls",
      "model_module_version": "1.5.0",
      "model_name": "HTMLModel",
      "state": {
       "layout": "IPY_MODEL_03b55baa49d148e28096a038bd3d9efe",
       "style": "IPY_MODEL_47b5ac2d322848bdb6a6c6298d4699cf",
       "value": "<b>Title: </b> "
      }
     },
     "07311ace780b4233a4621df1db7f1925": {
      "model_module": "@jupyter-widgets/controls",
      "model_module_version": "1.5.0",
      "model_name": "DescriptionStyleModel",
      "state": {
       "description_width": ""
      }
     },
     "0734476614d04d6bac20f3287d87e08d": {
      "model_module": "@jupyter-widgets/controls",
      "model_module_version": "1.5.0",
      "model_name": "DescriptionStyleModel",
      "state": {
       "description_width": ""
      }
     },
     "074584c2fe2547e9b534b541bd6ba09b": {
      "model_module": "@jupyter-widgets/controls",
      "model_module_version": "1.5.0",
      "model_name": "DescriptionStyleModel",
      "state": {
       "description_width": ""
      }
     },
     "0751e7fa937e45068bda3eb5baa12615": {
      "model_module": "@jupyter-widgets/controls",
      "model_module_version": "1.5.0",
      "model_name": "GridBoxModel",
      "state": {
       "children": [
        "IPY_MODEL_ab84696c97cd407ca4aad145477fb7dd",
        "IPY_MODEL_ec87983fb8d24559a1fd5182bfb283a8",
        "IPY_MODEL_f23a65bd11c348b9b54b804ed402d7d8",
        "IPY_MODEL_2953d5c40d464151a69a85e37fcaed29",
        "IPY_MODEL_2e25c4d1769b46b09fb4369e7163dbdd",
        "IPY_MODEL_17adc698922748298e037ea1c0c72919",
        "IPY_MODEL_c5b0c30fbe1d4573955eb507b8d0fda3",
        "IPY_MODEL_a3a8ca493b9e4c45b0f0693496599e08",
        "IPY_MODEL_e808a3576b2e410fb0b90688b1126748",
        "IPY_MODEL_99937d8a3ee24f62883b6bd5c95d02da"
       ],
       "layout": "IPY_MODEL_80767713ef774a29832cb503d52c08d2"
      }
     },
     "0756d8950e3345679be2320be35649d1": {
      "model_module": "@jupyter-widgets/controls",
      "model_module_version": "1.5.0",
      "model_name": "DescriptionStyleModel",
      "state": {
       "description_width": ""
      }
     },
     "075ba369b9e3418daa7f12d2026ef9fd": {
      "model_module": "@jupyter-widgets/controls",
      "model_module_version": "1.5.0",
      "model_name": "HTMLModel",
      "state": {
       "layout": "IPY_MODEL_9c298bc7a8db408e808e46cc627ac162",
       "style": "IPY_MODEL_7e8e320810254dd7b3a193654b015329",
       "value": "<b>Contact: </b> "
      }
     },
     "07730ec3dbf24a7f9fc9e4cfb7be4fb6": {
      "model_module": "@jupyter-widgets/base",
      "model_module_version": "1.2.0",
      "model_name": "LayoutModel",
      "state": {}
     },
     "077d5ce8cd9a4ee88607927a8e386da9": {
      "model_module": "@jupyter-widgets/controls",
      "model_module_version": "1.5.0",
      "model_name": "HTMLModel",
      "state": {
       "layout": "IPY_MODEL_a1931692d21c463d96c82366449061ad",
       "style": "IPY_MODEL_491e089a102f4ad7bb1544f46a01842d",
       "value": "<b>Description: </b> "
      }
     },
     "0786cc0de87648a4b1bb59e46d5b31cb": {
      "model_module": "@jupyter-widgets/controls",
      "model_module_version": "1.5.0",
      "model_name": "GridBoxModel",
      "state": {
       "children": [
        "IPY_MODEL_5c35fd7010d749b6a53d1de14adcf4fa",
        "IPY_MODEL_5a425c3e5e7948fead0317c389f10a22"
       ],
       "layout": "IPY_MODEL_65b7cb0a25ff45e8986122ec564b2840"
      }
     },
     "078f9231fb38486889440f688adc754b": {
      "model_module": "@jupyter-widgets/controls",
      "model_module_version": "1.5.0",
      "model_name": "GridBoxModel",
      "state": {
       "children": [
        "IPY_MODEL_2280ad30fee345ad8e7d215863c65652",
        "IPY_MODEL_b6d75850ea8f407a913d1dcc26aff63a",
        "IPY_MODEL_0519d97564c24493ba3ef952acd7f406",
        "IPY_MODEL_8d06420d53af415c8953dd7e70219f0e",
        "IPY_MODEL_2207d078839e4fe9b513070e1e0808a2",
        "IPY_MODEL_a806a324a18f4fa39eba94336b3481f2",
        "IPY_MODEL_12c02131fa204a0bb5f0e03a2ff906fb",
        "IPY_MODEL_25e00679eb3f4d248b04b95827999be8",
        "IPY_MODEL_5f7e4391b5924546acfb6216f614c471",
        "IPY_MODEL_263a7a05a9ab42589887c653f9d56230"
       ],
       "layout": "IPY_MODEL_c772495d2dd041489e843bff2e644f72"
      }
     },
     "07acce597d924a8d8c289b1eccd3ade8": {
      "model_module": "@jupyter-widgets/base",
      "model_module_version": "1.2.0",
      "model_name": "LayoutModel",
      "state": {}
     },
     "07adf3b393384e919f102a4cbd87ddd8": {
      "model_module": "@jupyter-widgets/controls",
      "model_module_version": "1.5.0",
      "model_name": "DescriptionStyleModel",
      "state": {
       "description_width": ""
      }
     },
     "07b0ad444ad94089acd1a5ff2921e330": {
      "model_module": "@jupyter-widgets/base",
      "model_module_version": "1.2.0",
      "model_name": "LayoutModel",
      "state": {}
     },
     "07d81cb26e224b8fa19655cc8a3f0027": {
      "model_module": "@jupyter-widgets/controls",
      "model_module_version": "1.5.0",
      "model_name": "DescriptionStyleModel",
      "state": {
       "description_width": ""
      }
     },
     "081417eabef74809badea1e06d753141": {
      "model_module": "@jupyter-widgets/controls",
      "model_module_version": "1.5.0",
      "model_name": "HTMLModel",
      "state": {
       "layout": "IPY_MODEL_18fcd0db05f54d4c978f698dc1a6273a",
       "style": "IPY_MODEL_9b38fdf9fde34ddfae77cf33ff5a907c",
       "value": "<a href='https://github.com/ICOS-Carbon-Portal/jupyter/issues' target='_blank'>Click here to report an issue</a>"
      }
     },
     "08297a22b8ee4187aaae9d363846e635": {
      "model_module": "@jupyter-widgets/base",
      "model_module_version": "1.2.0",
      "model_name": "LayoutModel",
      "state": {
       "grid_gap": "5px 10px",
       "grid_template_columns": "100px auto",
       "grid_template_rows": "auto auto auto auto auto",
       "padding": "50px 0px 70px 0px",
       "width": "100%"
      }
     },
     "08399491921649bf8c5e375cf5684017": {
      "model_module": "@jupyter-widgets/controls",
      "model_module_version": "1.5.0",
      "model_name": "DescriptionStyleModel",
      "state": {
       "description_width": ""
      }
     },
     "0888adf932ad42589e3e66d2c15e1514": {
      "model_module": "@jupyter-widgets/controls",
      "model_module_version": "1.5.0",
      "model_name": "DescriptionStyleModel",
      "state": {
       "description_width": ""
      }
     },
     "08bfceca7327448c9ccbcacb4c53788b": {
      "model_module": "@jupyter-widgets/controls",
      "model_module_version": "1.5.0",
      "model_name": "HTMLModel",
      "state": {
       "layout": "IPY_MODEL_a604864a187c421da88fd57f0092e3f0",
       "style": "IPY_MODEL_fe1e3257fb874b10afe78abdaaf882f7",
       "value": "<b>Thumbnail: </b> "
      }
     },
     "08e1242ded29442da3dbf548e4f853dd": {
      "model_module": "@jupyter-widgets/base",
      "model_module_version": "1.2.0",
      "model_name": "LayoutModel",
      "state": {}
     },
     "08f16e077fc1452aacad4adead896d09": {
      "model_module": "@jupyter-widgets/base",
      "model_module_version": "1.2.0",
      "model_name": "LayoutModel",
      "state": {}
     },
     "090cc3fc07ea49a1b4c6f9a809874667": {
      "model_module": "@jupyter-widgets/controls",
      "model_module_version": "1.5.0",
      "model_name": "HTMLModel",
      "state": {
       "layout": "IPY_MODEL_925aa72c806d42f299a53c55d89f41a8",
       "style": "IPY_MODEL_0975df4fc49f47fdb1f141c7a26ef4c0",
       "value": "<img src=\"./icos_jupyter_notebooks/ind_tools/img/01_introduction/for_loops.PNG\">"
      }
     },
     "091d227dd231439faf9721f503cd2513": {
      "model_module": "@jupyter-widgets/controls",
      "model_module_version": "1.5.0",
      "model_name": "HTMLModel",
      "state": {
       "layout": "IPY_MODEL_3403350733074b57b1c72fabf5284ccd",
       "style": "IPY_MODEL_c73429e3f1074cdda65bfc6bbe07d740",
       "value": "<b>Thumbnail: </b> "
      }
     },
     "0932df974ff24edd8f8f707012d6a422": {
      "model_module": "@jupyter-widgets/controls",
      "model_module_version": "1.5.0",
      "model_name": "HTMLModel",
      "state": {
       "layout": "IPY_MODEL_f6c248f47e51478abbcab8e3eea2d354",
       "style": "IPY_MODEL_b69bd67844d4446799a697d75691d755",
       "value": "<b>Contact: </b> "
      }
     },
     "09338c2c0cb64692a2c4e4d3e7c0c2e0": {
      "model_module": "@jupyter-widgets/controls",
      "model_module_version": "1.5.0",
      "model_name": "DescriptionStyleModel",
      "state": {
       "description_width": ""
      }
     },
     "0940e36872de4aa485f252feda9f6310": {
      "model_module": "@jupyter-widgets/controls",
      "model_module_version": "1.5.0",
      "model_name": "HTMLModel",
      "state": {
       "layout": "IPY_MODEL_14130c6d5889430683285fe3bc2c9ef5",
       "style": "IPY_MODEL_a16011efb4a0430abd0cfd660282ab0e",
       "value": "<b>Title: </b> "
      }
     },
     "096851aedc5a4094979ed727ee41b8a8": {
      "model_module": "@jupyter-widgets/base",
      "model_module_version": "1.2.0",
      "model_name": "LayoutModel",
      "state": {}
     },
     "0975df4fc49f47fdb1f141c7a26ef4c0": {
      "model_module": "@jupyter-widgets/controls",
      "model_module_version": "1.5.0",
      "model_name": "DescriptionStyleModel",
      "state": {
       "description_width": ""
      }
     },
     "098c00bf19c2454ea9ef5cd24df8f086": {
      "model_module": "@jupyter-widgets/base",
      "model_module_version": "1.2.0",
      "model_name": "LayoutModel",
      "state": {}
     },
     "099c08172baf4771a8a3e2d2db8ddc7c": {
      "model_module": "@jupyter-widgets/controls",
      "model_module_version": "1.5.0",
      "model_name": "HTMLModel",
      "state": {
       "layout": "IPY_MODEL_6561af3b7d8f4cbd90c909083886db3a",
       "style": "IPY_MODEL_6e861f84869d4b46ad5d0e2a69eead4e",
       "value": "<a href=\"mailto: jupyter-info@icos-cp.eu\">jupyter-info@icos-cp.eu</a>"
      }
     },
     "09c1ef12caf444ac84398a125a5a2a36": {
      "model_module": "@jupyter-widgets/controls",
      "model_module_version": "1.5.0",
      "model_name": "HTMLModel",
      "state": {
       "layout": "IPY_MODEL_2303922cec544ce1ba5e3409b5e41623",
       "style": "IPY_MODEL_8d66fbbd18484bed8501bf060017250a",
       "value": "<b>GitHub: </b> "
      }
     },
     "09c553a91da94f5e8e6821c858888e48": {
      "model_module": "@jupyter-widgets/base",
      "model_module_version": "1.2.0",
      "model_name": "LayoutModel",
      "state": {}
     },
     "09f80b2693d04bc6bff4fc26c908c78c": {
      "model_module": "@jupyter-widgets/base",
      "model_module_version": "1.2.0",
      "model_name": "LayoutModel",
      "state": {}
     },
     "09f885155f504dd3adb54faa07413e98": {
      "model_module": "@jupyter-widgets/base",
      "model_module_version": "1.2.0",
      "model_name": "LayoutModel",
      "state": {
       "grid_gap": "5px 10px",
       "grid_template_columns": "100px auto",
       "grid_template_rows": "auto auto auto auto auto",
       "padding": "50px 0px 70px 0px",
       "width": "100%"
      }
     },
     "09fa76820bb8477ea061c78347967613": {
      "model_module": "@jupyter-widgets/base",
      "model_module_version": "1.2.0",
      "model_name": "LayoutModel",
      "state": {
       "grid_gap": "5px 10px",
       "grid_template_columns": "auto",
       "grid_template_rows": "auto",
       "padding": "5px 0px 5px 0px",
       "width": "100%"
      }
     },
     "0a34c956cd614aba8e9323f5570a9693": {
      "model_module": "@jupyter-widgets/controls",
      "model_module_version": "1.5.0",
      "model_name": "HTMLModel",
      "state": {
       "layout": "IPY_MODEL_8b0f62e3440c4a5bb81a06d1e54f03cc",
       "style": "IPY_MODEL_3bdac78251b44a9491b84895899ed1e3",
       "value": "<a href='https://github.com/ICOS-Carbon-Portal/jupyter/issues' target='_blank'>Click here to report an issue</a>"
      }
     },
     "0a3b2c82b90f4403a5e59ae8d61d2c28": {
      "model_module": "@jupyter-widgets/base",
      "model_module_version": "1.2.0",
      "model_name": "LayoutModel",
      "state": {}
     },
     "0a43f4ee2e0641b5be179200706ddffd": {
      "model_module": "@jupyter-widgets/controls",
      "model_module_version": "1.5.0",
      "model_name": "HTMLModel",
      "state": {
       "layout": "IPY_MODEL_7cfbee6da14e41e5a6bf9f183ed032b4",
       "style": "IPY_MODEL_58fc8f4c26a44cdeb2ccb9ca9e1b3309",
       "value": "This subcategory includes notebooks with exercises that are aimed for university students and are based on ICOS data"
      }
     },
     "0a5ac41808a647fdb15c8fde1f3c7491": {
      "model_module": "@jupyter-widgets/controls",
      "model_module_version": "1.5.0",
      "model_name": "HTMLModel",
      "state": {
       "layout": "IPY_MODEL_7795ea5d28274304befefe1a7ab08c56",
       "style": "IPY_MODEL_4a7404ab460245ef8aa9030cb3290284",
       "value": "<b>Contact: </b> "
      }
     },
     "0a5f53bd587f4073b7a35bb25fa3aa2e": {
      "model_module": "@jupyter-widgets/base",
      "model_module_version": "1.2.0",
      "model_name": "LayoutModel",
      "state": {}
     },
     "0a6c7e73c18c4a189435f35a71f9ea53": {
      "model_module": "@jupyter-widgets/base",
      "model_module_version": "1.2.0",
      "model_name": "LayoutModel",
      "state": {}
     },
     "0a78a4a8323b4025bc258dae78b00eb2": {
      "model_module": "@jupyter-widgets/base",
      "model_module_version": "1.2.0",
      "model_name": "LayoutModel",
      "state": {}
     },
     "0a812040e7e34f2e9b34322ebd47d53b": {
      "model_module": "@jupyter-widgets/base",
      "model_module_version": "1.2.0",
      "model_name": "LayoutModel",
      "state": {}
     },
     "0a9f1ce5688142ba8445061c59285858": {
      "model_module": "@jupyter-widgets/controls",
      "model_module_version": "1.5.0",
      "model_name": "HTMLModel",
      "state": {
       "layout": "IPY_MODEL_e103734c896640d580205b847eb5b92c",
       "style": "IPY_MODEL_e8be7c712d0a4e0dad1df645e94df4fb",
       "value": "<b>GitHub: </b> "
      }
     },
     "0aa2f04ccf46436b9649acfdd3a5db86": {
      "model_module": "@jupyter-widgets/controls",
      "model_module_version": "1.5.0",
      "model_name": "DescriptionStyleModel",
      "state": {
       "description_width": ""
      }
     },
     "0afb3e7c32e54212886e0cca34970831": {
      "model_module": "@jupyter-widgets/base",
      "model_module_version": "1.2.0",
      "model_name": "LayoutModel",
      "state": {}
     },
     "0b0660722d5b4f069fe5a9ae8b86134d": {
      "model_module": "@jupyter-widgets/base",
      "model_module_version": "1.2.0",
      "model_name": "LayoutModel",
      "state": {}
     },
     "0b1021675ba64369beb430dc9b69d2a0": {
      "model_module": "@jupyter-widgets/controls",
      "model_module_version": "1.5.0",
      "model_name": "DescriptionStyleModel",
      "state": {
       "description_width": ""
      }
     },
     "0b1bc839e00d4d39817a55c68b5998d7": {
      "model_module": "@jupyter-widgets/controls",
      "model_module_version": "1.5.0",
      "model_name": "HTMLModel",
      "state": {
       "layout": "IPY_MODEL_032f3e02ff1c4977b586005e6132faae",
       "style": "IPY_MODEL_13cae51919a0475280cebbedef9eb20a",
       "value": "<b>Description: </b> "
      }
     },
     "0b6450d2411b468eb289ae420ca54a1d": {
      "model_module": "@jupyter-widgets/controls",
      "model_module_version": "1.5.0",
      "model_name": "HTMLModel",
      "state": {
       "layout": "IPY_MODEL_c6d64b3f17e1418bbfe8f99d19fd5152",
       "style": "IPY_MODEL_6143e3528d0b4b09a5bf92a99022c007",
       "value": "<a href=\"mailto: jupyter-info@icos-cp.eu\">jupyter-info@icos-cp.eu</a>"
      }
     },
     "0b6ccedbd88b4e80a6fe2b3e8b250483": {
      "model_module": "@jupyter-widgets/base",
      "model_module_version": "1.2.0",
      "model_name": "LayoutModel",
      "state": {}
     },
     "0b788e4ed8254c018ba113b20c37d51a": {
      "model_module": "@jupyter-widgets/base",
      "model_module_version": "1.2.0",
      "model_name": "LayoutModel",
      "state": {}
     },
     "0b910326bb064f72a75e6c10f938e8bc": {
      "model_module": "@jupyter-widgets/controls",
      "model_module_version": "1.5.0",
      "model_name": "DescriptionStyleModel",
      "state": {
       "description_width": ""
      }
     },
     "0bae0460628842238280c81629e876f9": {
      "model_module": "@jupyter-widgets/base",
      "model_module_version": "1.2.0",
      "model_name": "LayoutModel",
      "state": {}
     },
     "0be6c33a889441299b937a0089f91b49": {
      "model_module": "@jupyter-widgets/controls",
      "model_module_version": "1.5.0",
      "model_name": "DescriptionStyleModel",
      "state": {
       "description_width": ""
      }
     },
     "0be87699918c4d249fd3927ef17718cc": {
      "model_module": "@jupyter-widgets/controls",
      "model_module_version": "1.5.0",
      "model_name": "DescriptionStyleModel",
      "state": {
       "description_width": ""
      }
     },
     "0be907cecb3140a79423123cce982e53": {
      "model_module": "@jupyter-widgets/controls",
      "model_module_version": "1.5.0",
      "model_name": "HTMLModel",
      "state": {
       "layout": "IPY_MODEL_e1573aa386c942e1b3e8b533d15e0d3a",
       "style": "IPY_MODEL_25a2ae9a3a354e07b8c0efe09c6e317f",
       "value": "<b>Title: </b> "
      }
     },
     "0bf1edbe83dd4f44b0525108637b530c": {
      "model_module": "@jupyter-widgets/base",
      "model_module_version": "1.2.0",
      "model_name": "LayoutModel",
      "state": {}
     },
     "0c008d88f8ea42eaa89b8b5c265a45c3": {
      "model_module": "@jupyter-widgets/controls",
      "model_module_version": "1.5.0",
      "model_name": "DescriptionStyleModel",
      "state": {
       "description_width": ""
      }
     },
     "0c05bd72039d445aaad0407a55bcd297": {
      "model_module": "@jupyter-widgets/base",
      "model_module_version": "1.2.0",
      "model_name": "LayoutModel",
      "state": {}
     },
     "0c2b7f34944f4b09840f251317fd0588": {
      "model_module": "@jupyter-widgets/controls",
      "model_module_version": "1.5.0",
      "model_name": "DescriptionStyleModel",
      "state": {
       "description_width": ""
      }
     },
     "0c2f036d88ff4f0fae3aeb4054ca68b7": {
      "model_module": "@jupyter-widgets/base",
      "model_module_version": "1.2.0",
      "model_name": "LayoutModel",
      "state": {}
     },
     "0c4d8cf28357491b8c9f76b0c77bbc3a": {
      "model_module": "@jupyter-widgets/controls",
      "model_module_version": "1.5.0",
      "model_name": "HTMLModel",
      "state": {
       "layout": "IPY_MODEL_df88559f41a74503b8de76bce208937c",
       "style": "IPY_MODEL_d4572b9a4a074c6aa416a0f5da6bfd73",
       "value": "<a href=./education/PhD/upscaling_carbon_fluxes/notebooks/tools.ipynb target='_blank'>Python modules developed for the course</a>"
      }
     },
     "0c5b60485f2d4bde816eab69c67f894e": {
      "model_module": "@jupyter-widgets/controls",
      "model_module_version": "1.5.0",
      "model_name": "DescriptionStyleModel",
      "state": {
       "description_width": ""
      }
     },
     "0c5e0a4cab804ea48ef25f936c02af5e": {
      "model_module": "@jupyter-widgets/controls",
      "model_module_version": "1.5.0",
      "model_name": "DescriptionStyleModel",
      "state": {
       "description_width": ""
      }
     },
     "0c628eacdde54175b9b093cfa7abf5f8": {
      "model_module": "@jupyter-widgets/controls",
      "model_module_version": "1.5.0",
      "model_name": "HTMLModel",
      "state": {
       "layout": "IPY_MODEL_32da7e67e2a549fca899c09212355995",
       "style": "IPY_MODEL_58dc4b4b302b46de9f0b92332606dbc0",
       "value": "<b>Contact: </b> "
      }
     },
     "0c6af5ebb1be4662bac92400652635ed": {
      "model_module": "@jupyter-widgets/controls",
      "model_module_version": "1.5.0",
      "model_name": "GridBoxModel",
      "state": {
       "children": [
        "IPY_MODEL_de27f85af27d46febb9865afd911065a",
        "IPY_MODEL_2677a038e79c4f3ea34190bc287b2286",
        "IPY_MODEL_a25571866ad54bd7851607dfcc1ff6ce",
        "IPY_MODEL_890b5f6216e4429ab3926a0498d2b0a7",
        "IPY_MODEL_2e733676b4ae4664925219aabd905b54",
        "IPY_MODEL_6da53461881d479aae9cf15b6be6b19f",
        "IPY_MODEL_f0d39c7c869842328526da84a12f6827",
        "IPY_MODEL_0d02cc56556c4b0686e7b3eb6bf18189",
        "IPY_MODEL_b3283e96a7384101ac3c0b555dcadc44",
        "IPY_MODEL_5a24ed9788c64b309330460a31237979"
       ],
       "layout": "IPY_MODEL_48778f064be14de4ab5f67627ecbcc44"
      }
     },
     "0c7bf71ba8bf4db28a1c97b03cff86d3": {
      "model_module": "@jupyter-widgets/controls",
      "model_module_version": "1.5.0",
      "model_name": "HTMLModel",
      "state": {
       "layout": "IPY_MODEL_5c322a2c89574accbf143f3b78a34f31",
       "style": "IPY_MODEL_326ed48433ff4ae792b07a0a1c589645",
       "value": "Includes notebooks presenting an evaluation of different sampling strategies related to the RINGO research project."
      }
     },
     "0c8697a9f98b4eb5a43318c5023b66f1": {
      "model_module": "@jupyter-widgets/base",
      "model_module_version": "1.2.0",
      "model_name": "LayoutModel",
      "state": {
       "grid_gap": "5px 10px",
       "grid_template_columns": "auto",
       "grid_template_rows": "auto",
       "padding": "5px 0px 5px 0px",
       "width": "100%"
      }
     },
     "0c947b2256894bd7986e8366006f7105": {
      "model_module": "@jupyter-widgets/controls",
      "model_module_version": "1.5.0",
      "model_name": "GridBoxModel",
      "state": {
       "children": [
        "IPY_MODEL_5706bb2be327426893c9a8440ca8cc5f",
        "IPY_MODEL_4b19448e6861428e815727e9e3dc7088",
        "IPY_MODEL_288226bcb985484d83fcf80fd2b29aba",
        "IPY_MODEL_114bce6c78b04e5c98546414079dfa0b",
        "IPY_MODEL_770dfece7b2c4b71853437fe9fc18abc",
        "IPY_MODEL_36a786dbc1e7487e9c59c963d30b4ab8",
        "IPY_MODEL_df12e5b7eade4c22b041bdbf1fcdf776",
        "IPY_MODEL_1ad1ed9314434c54b5d2332f288a9bd3",
        "IPY_MODEL_203e930ba4824267a897e104cd5f4fd6",
        "IPY_MODEL_fafb658a38de4c418fc6929d8c7e20d7"
       ],
       "layout": "IPY_MODEL_c6ca31f179264562b1fa7eaa20497876"
      }
     },
     "0ca23f1b66134c0ba6224cb092ff5a75": {
      "model_module": "@jupyter-widgets/controls",
      "model_module_version": "1.5.0",
      "model_name": "DescriptionStyleModel",
      "state": {
       "description_width": ""
      }
     },
     "0caefc927d2a4c6099686d18544c3482": {
      "model_module": "@jupyter-widgets/controls",
      "model_module_version": "1.5.0",
      "model_name": "DescriptionStyleModel",
      "state": {
       "description_width": ""
      }
     },
     "0cd8b42be5764cafbb89905cbb448e31": {
      "model_module": "@jupyter-widgets/base",
      "model_module_version": "1.2.0",
      "model_name": "LayoutModel",
      "state": {}
     },
     "0cf4d18e4a624fd18b77719a2b260115": {
      "model_module": "@jupyter-widgets/base",
      "model_module_version": "1.2.0",
      "model_name": "LayoutModel",
      "state": {}
     },
     "0cf4f8fd0d23401490800444a54dce16": {
      "model_module": "@jupyter-widgets/controls",
      "model_module_version": "1.5.0",
      "model_name": "HTMLModel",
      "state": {
       "layout": "IPY_MODEL_1694cab2e81c45229822444c0b68bf8f",
       "style": "IPY_MODEL_6a61527da48c427cba40895fb0c0ffd9",
       "value": "<a href='https://github.com/ICOS-Carbon-Portal/jupyter/issues' target='_blank'>Click here to report an issue</a>"
      }
     },
     "0cfb08a5c91240cdb0133267a225a0f0": {
      "model_module": "@jupyter-widgets/base",
      "model_module_version": "1.2.0",
      "model_name": "LayoutModel",
      "state": {}
     },
     "0cfded6814c34c22b5bd20b6dc592079": {
      "model_module": "@jupyter-widgets/base",
      "model_module_version": "1.2.0",
      "model_name": "LayoutModel",
      "state": {}
     },
     "0d02cc56556c4b0686e7b3eb6bf18189": {
      "model_module": "@jupyter-widgets/controls",
      "model_module_version": "1.5.0",
      "model_name": "HTMLModel",
      "state": {
       "layout": "IPY_MODEL_cdd8ac5d036e41079b84db964eb9a570",
       "style": "IPY_MODEL_5379c503b2914ab68079c9d368fd297c",
       "value": "<a href='https://github.com/ICOS-Carbon-Portal/jupyter/issues' target='_blank'>Click here to report an issue</a>"
      }
     },
     "0d06bfdde3414c879dd4e9a09430356e": {
      "model_module": "@jupyter-widgets/controls",
      "model_module_version": "1.5.0",
      "model_name": "DescriptionStyleModel",
      "state": {
       "description_width": ""
      }
     },
     "0d0c9843ddd443d994ef2498634245ac": {
      "model_module": "@jupyter-widgets/base",
      "model_module_version": "1.2.0",
      "model_name": "LayoutModel",
      "state": {}
     },
     "0d141498b0fa4986900e886ccf23d2d7": {
      "model_module": "@jupyter-widgets/controls",
      "model_module_version": "1.5.0",
      "model_name": "DescriptionStyleModel",
      "state": {
       "description_width": ""
      }
     },
     "0d35a3966a13446184ffb23ceb8bac96": {
      "model_module": "@jupyter-widgets/base",
      "model_module_version": "1.2.0",
      "model_name": "LayoutModel",
      "state": {}
     },
     "0d4e90155a0141869c063b127dce286b": {
      "model_module": "@jupyter-widgets/base",
      "model_module_version": "1.2.0",
      "model_name": "LayoutModel",
      "state": {}
     },
     "0d51f77892dd4e25973e73a0a44ed0b3": {
      "model_module": "@jupyter-widgets/base",
      "model_module_version": "1.2.0",
      "model_name": "LayoutModel",
      "state": {}
     },
     "0d622bb7c8b04755863ce7cc6cdaa7a3": {
      "model_module": "@jupyter-widgets/base",
      "model_module_version": "1.2.0",
      "model_name": "LayoutModel",
      "state": {}
     },
     "0d791e4d02b948d6a4292903829c6d5b": {
      "model_module": "@jupyter-widgets/controls",
      "model_module_version": "1.5.0",
      "model_name": "DescriptionStyleModel",
      "state": {
       "description_width": ""
      }
     },
     "0d8fe3fd8e50454589555fe1faabb483": {
      "model_module": "@jupyter-widgets/controls",
      "model_module_version": "1.5.0",
      "model_name": "HTMLModel",
      "state": {
       "layout": "IPY_MODEL_341bff55d5d64f8ab1fa4d8c355e8e48",
       "style": "IPY_MODEL_49a70addde0247559425017a5d134ad9",
       "value": "<a href=./pylib_examples/ex1_data.ipynb target='_blank'>ICOS Carbon Portal Python Library - Access data and meta data</a>"
      }
     },
     "0d905b3484b54678a505c2833a033dc3": {
      "model_module": "@jupyter-widgets/base",
      "model_module_version": "1.2.0",
      "model_name": "LayoutModel",
      "state": {}
     },
     "0d979d3f63f94b8e9847381117f9c4b3": {
      "model_module": "@jupyter-widgets/controls",
      "model_module_version": "1.5.0",
      "model_name": "DescriptionStyleModel",
      "state": {
       "description_width": ""
      }
     },
     "0dba8760a5bd4b4bb5b71112ce923ed9": {
      "model_module": "@jupyter-widgets/controls",
      "model_module_version": "1.5.0",
      "model_name": "HTMLModel",
      "state": {
       "layout": "IPY_MODEL_b5ce91a61b3242ae93a64f753437b65a",
       "style": "IPY_MODEL_1f2171a7815745f791069b2251af7774",
       "value": "<b>GitHub: </b> "
      }
     },
     "0dec240a199f4aa29fcc386d629add87": {
      "model_module": "@jupyter-widgets/controls",
      "model_module_version": "1.5.0",
      "model_name": "DescriptionStyleModel",
      "state": {
       "description_width": ""
      }
     },
     "0df510636b3344d39fee2f50118f27c0": {
      "model_module": "@jupyter-widgets/base",
      "model_module_version": "1.2.0",
      "model_name": "LayoutModel",
      "state": {}
     },
     "0df5c3b325b742aaad75de689ec979dd": {
      "model_module": "@jupyter-widgets/base",
      "model_module_version": "1.2.0",
      "model_name": "LayoutModel",
      "state": {}
     },
     "0df5d014b46b4b008e6b462454ff3d2b": {
      "model_module": "@jupyter-widgets/controls",
      "model_module_version": "1.5.0",
      "model_name": "HTMLModel",
      "state": {
       "layout": "IPY_MODEL_ecd0c512a5a64df580e843b731f1de32",
       "style": "IPY_MODEL_caf8a8594f494703a59527b87244cb36",
       "value": "This is an ancillary notebook that contains various functions and settings used by the exercise-notebooks in the <b>OTC Data Reduction Workshop</b>."
      }
     },
     "0e282c0b28b842cfbae00e7ccf3647e9": {
      "model_module": "@jupyter-widgets/controls",
      "model_module_version": "1.5.0",
      "model_name": "DescriptionStyleModel",
      "state": {
       "description_width": ""
      }
     },
     "0e34630c7e744e059bf2e78a5e900925": {
      "model_module": "@jupyter-widgets/base",
      "model_module_version": "1.2.0",
      "model_name": "LayoutModel",
      "state": {}
     },
     "0e4b140dcbdd4e37b1c8eb3c678dc02c": {
      "model_module": "@jupyter-widgets/controls",
      "model_module_version": "1.5.0",
      "model_name": "DescriptionStyleModel",
      "state": {
       "description_width": ""
      }
     },
     "0e4ec0aa03594d1796f87fc210af45b6": {
      "model_module": "@jupyter-widgets/controls",
      "model_module_version": "1.5.0",
      "model_name": "DescriptionStyleModel",
      "state": {
       "description_width": ""
      }
     },
     "0e5983c9b7a445eaa9bdbd630a3e8d14": {
      "model_module": "@jupyter-widgets/controls",
      "model_module_version": "1.5.0",
      "model_name": "HTMLModel",
      "state": {
       "layout": "IPY_MODEL_897dc452ac62464dae5de57593678dad",
       "style": "IPY_MODEL_a947fec3d79d4075a21591394b86afaf",
       "value": "<a href=./project_jupyter_notebooks/RINGO_T1.3/RINGO_T1.3_flasksampling_v5.ipynb target='_blank'>Jupyter Notebook for RINGO Task 1.3</a>"
      }
     },
     "0e831865b55a43f6820828b0e1486ab3": {
      "model_module": "@jupyter-widgets/controls",
      "model_module_version": "1.5.0",
      "model_name": "HTMLModel",
      "state": {
       "layout": "IPY_MODEL_9d9f97d0f616419ea54d0b33369b29c9",
       "style": "IPY_MODEL_b4935d8f13ad4213ab50eb1aa0cd9411",
       "value": "<a href='https://github.com/ICOS-Carbon-Portal/jupyter/issues' target='_blank'>Click here to report an issue</a>"
      }
     },
     "0e876d64e61b4976b316276558810b95": {
      "model_module": "@jupyter-widgets/base",
      "model_module_version": "1.2.0",
      "model_name": "LayoutModel",
      "state": {}
     },
     "0e9a997f43ef48c19b07b890e3f6fd44": {
      "model_module": "@jupyter-widgets/controls",
      "model_module_version": "1.5.0",
      "model_name": "HTMLModel",
      "state": {
       "layout": "IPY_MODEL_a2c66aed822f43f198424bda5444d75f",
       "style": "IPY_MODEL_af548f05d31e4d6f920914b14d5c4d52",
       "value": "<a href=./pylib_examples/ex6c_STILT_timeseries.ipynb target='_blank'>ICOS Carbon Portal Python Library - STILT footprints and timeseries</a>"
      }
     },
     "0e9e1a99dc5147d8b9cf0bbb5042d1db": {
      "model_module": "@jupyter-widgets/base",
      "model_module_version": "1.2.0",
      "model_name": "LayoutModel",
      "state": {}
     },
     "0ebf3cd775944b068ea368ec15f9dae9": {
      "model_module": "@jupyter-widgets/base",
      "model_module_version": "1.2.0",
      "model_name": "LayoutModel",
      "state": {}
     },
     "0ee17614c91e4d2e85c8c6ca9382900a": {
      "model_module": "@jupyter-widgets/controls",
      "model_module_version": "1.5.0",
      "model_name": "HTMLModel",
      "state": {
       "layout": "IPY_MODEL_93b1e1a9dccf4202a3537ac7645a14ef",
       "style": "IPY_MODEL_48335ee9ded24f71a09a220150b4cd77",
       "value": "<a href='https://github.com/ICOS-Carbon-Portal/jupyter/issues' target='_blank'>Click here to report an issue</a>"
      }
     },
     "0ee6a8a557e74acb98dd02c0f85f15d1": {
      "model_module": "@jupyter-widgets/controls",
      "model_module_version": "1.5.0",
      "model_name": "HTMLModel",
      "state": {
       "layout": "IPY_MODEL_7c322713c8474b47b75315d1acd9f192",
       "style": "IPY_MODEL_6a9b59bbd4354b34996b932deb4949ea",
       "value": "<b>GitHub: </b> "
      }
     },
     "0eea60792a164b81acb040f04c8df4f4": {
      "model_module": "@jupyter-widgets/base",
      "model_module_version": "1.2.0",
      "model_name": "LayoutModel",
      "state": {}
     },
     "0f0abc51ed994fdca9392f24c8df85c6": {
      "model_module": "@jupyter-widgets/controls",
      "model_module_version": "1.5.0",
      "model_name": "DescriptionStyleModel",
      "state": {
       "description_width": ""
      }
     },
     "0f199e4dba514d09bcbc6d88d1ecb643": {
      "model_module": "@jupyter-widgets/controls",
      "model_module_version": "1.5.0",
      "model_name": "HTMLModel",
      "state": {
       "layout": "IPY_MODEL_4c2ff3308638439a9724dd70299b925a",
       "style": "IPY_MODEL_7338bae5c596496cb14f6ff89e4d624a",
       "value": "<b>Description: </b> "
      }
     },
     "0f4080ac862f4bada225ddcb8c8f19e0": {
      "model_module": "@jupyter-widgets/base",
      "model_module_version": "1.2.0",
      "model_name": "LayoutModel",
      "state": {}
     },
     "0f84a6fb3a994693b8cba0ed66fe494a": {
      "model_module": "@jupyter-widgets/base",
      "model_module_version": "1.2.0",
      "model_name": "LayoutModel",
      "state": {}
     },
     "0f975644e8924d5fbd965011dc591303": {
      "model_module": "@jupyter-widgets/base",
      "model_module_version": "1.2.0",
      "model_name": "LayoutModel",
      "state": {}
     },
     "0faf3432554242318f80aaf0b1222528": {
      "model_module": "@jupyter-widgets/controls",
      "model_module_version": "1.5.0",
      "model_name": "HTMLModel",
      "state": {
       "layout": "IPY_MODEL_c793ecdfb78f4bcdb01fe70656cd22a2",
       "style": "IPY_MODEL_b5b06ef0c8da49b9b25d4e8cd6727f57",
       "value": "<b>Contact: </b> "
      }
     },
     "0fb4ebd592644b628c7048f252bc5758": {
      "model_module": "@jupyter-widgets/controls",
      "model_module_version": "1.5.0",
      "model_name": "DescriptionStyleModel",
      "state": {
       "description_width": ""
      }
     },
     "0fbdcfcc721e421195d614795cb99300": {
      "model_module": "@jupyter-widgets/controls",
      "model_module_version": "1.5.0",
      "model_name": "DescriptionStyleModel",
      "state": {
       "description_width": ""
      }
     },
     "0fd4fd3446704bc691c945f3e4b06ed8": {
      "model_module": "@jupyter-widgets/controls",
      "model_module_version": "1.5.0",
      "model_name": "DescriptionStyleModel",
      "state": {
       "description_width": ""
      }
     },
     "0fe6dc55501a40d4a76a4cd0c79903fc": {
      "model_module": "@jupyter-widgets/base",
      "model_module_version": "1.2.0",
      "model_name": "LayoutModel",
      "state": {}
     },
     "1000a5c4c42643148420db9ff1dd84ee": {
      "model_module": "@jupyter-widgets/base",
      "model_module_version": "1.2.0",
      "model_name": "LayoutModel",
      "state": {}
     },
     "1016a162c9b845b19f9e2a1c2a6e1c45": {
      "model_module": "@jupyter-widgets/base",
      "model_module_version": "1.2.0",
      "model_name": "LayoutModel",
      "state": {}
     },
     "1030ed54b0c242d79a277892be1564eb": {
      "model_module": "@jupyter-widgets/controls",
      "model_module_version": "1.5.0",
      "model_name": "HTMLModel",
      "state": {
       "layout": "IPY_MODEL_fd6884687df84ec4ba2f9d4390fd2b31",
       "style": "IPY_MODEL_005cdde708a14267a1ebd1d454c0d73d",
       "value": "<b>Description: </b> "
      }
     },
     "103d0199782548a087c023f5a3c96d01": {
      "model_module": "@jupyter-widgets/controls",
      "model_module_version": "1.5.0",
      "model_name": "HTMLModel",
      "state": {
       "layout": "IPY_MODEL_ab638ed14e2d453ea6c37e2e55c6adfc",
       "style": "IPY_MODEL_412214a4b60d402285157cb542fae505",
       "value": "<b>Contact: </b> "
      }
     },
     "106c65e9e70e4889b9edd79731ca872f": {
      "model_module": "@jupyter-widgets/base",
      "model_module_version": "1.2.0",
      "model_name": "LayoutModel",
      "state": {}
     },
     "107ebab1245e4d9e9900b1213615cee5": {
      "model_module": "@jupyter-widgets/controls",
      "model_module_version": "1.5.0",
      "model_name": "HTMLModel",
      "state": {
       "layout": "IPY_MODEL_9c19c113911d41adb772bb1836672b98",
       "style": "IPY_MODEL_ed7f93c3d0a0498b9d638e8e6fdb859b",
       "value": "<b>GitHub: </b> "
      }
     },
     "1080bf51a0664998b85c48c4b9147da8": {
      "model_module": "@jupyter-widgets/controls",
      "model_module_version": "1.5.0",
      "model_name": "DescriptionStyleModel",
      "state": {
       "description_width": ""
      }
     },
     "10a1b0abeee24981b214436b815dd26b": {
      "model_module": "@jupyter-widgets/controls",
      "model_module_version": "1.5.0",
      "model_name": "HTMLModel",
      "state": {
       "layout": "IPY_MODEL_e5799c2d45e04697b389faa908d6fee2",
       "style": "IPY_MODEL_6fc2eb015b8c4342b36cbb7671a83ecd",
       "value": "<b>Thumbnail: </b> "
      }
     },
     "10ae277d06884c24bff120808c86d689": {
      "model_module": "@jupyter-widgets/controls",
      "model_module_version": "1.5.0",
      "model_name": "HTMLModel",
      "state": {
       "layout": "IPY_MODEL_174e9a6b3c6c4319ac5fcd2662bd2eb3",
       "style": "IPY_MODEL_8590d93939544e738691d2e2a26b522d",
       "value": "This is an ancillary notebook aimed for letting students explore the registered measurements from the ecosystem stations. The purpose of this notebook is for students to get an idea/overview of the value-range of the measurements registered at a certain station."
      }
     },
     "10c62ac4d2e645e4826eaa26256581b9": {
      "model_module": "@jupyter-widgets/controls",
      "model_module_version": "1.5.0",
      "model_name": "AccordionModel",
      "state": {
       "_titles": {
        "0": "Exercise 1 - Create an interactive map",
        "1": "Exercise 2 - Map with workshop members",
        "2": "Exercise 3 - Research Station Map",
        "3": "Exercise 4 - Create an advanced interactive Map"
       },
       "children": [
        "IPY_MODEL_a535cc7c82004e56a79eb5e18bbe52bb",
        "IPY_MODEL_d7727d54ba7c4c66a6aee9ad59cd53a1",
        "IPY_MODEL_41918898f4de4c96b8f97a0eea73bee0",
        "IPY_MODEL_606cb1769b5d43d4917032ece7b60324"
       ],
       "layout": "IPY_MODEL_d3e949ef275b4946a63c550b35484f25",
       "selected_index": null
      }
     },
     "10f6947d1dd1419f9132abd7364c6a8e": {
      "model_module": "@jupyter-widgets/controls",
      "model_module_version": "1.5.0",
      "model_name": "DescriptionStyleModel",
      "state": {
       "description_width": ""
      }
     },
     "11211ba8070240a2ac2c0a38623b49da": {
      "model_module": "@jupyter-widgets/base",
      "model_module_version": "1.2.0",
      "model_name": "LayoutModel",
      "state": {}
     },
     "113f6f3fc374438dac23a9001765a241": {
      "model_module": "@jupyter-widgets/controls",
      "model_module_version": "1.5.0",
      "model_name": "HTMLModel",
      "state": {
       "layout": "IPY_MODEL_4b9d40defaab4af9939358c00f0a9621",
       "style": "IPY_MODEL_5da218e83a0c49e29378f310a6382120",
       "value": "<b>Title: </b> "
      }
     },
     "114412104b564a6e813f8e71cbb94b3a": {
      "model_module": "@jupyter-widgets/base",
      "model_module_version": "1.2.0",
      "model_name": "LayoutModel",
      "state": {}
     },
     "114bce6c78b04e5c98546414079dfa0b": {
      "model_module": "@jupyter-widgets/controls",
      "model_module_version": "1.5.0",
      "model_name": "HTMLModel",
      "state": {
       "layout": "IPY_MODEL_33b3b98eb7dc49549c627d70fd00aff3",
       "style": "IPY_MODEL_0c5b60485f2d4bde816eab69c67f894e",
       "value": "This notebook contains exercises for the <b>OTC Data Reduction Workshop</b>. The first exercise in <i>pCO₂ data reduction part 1 - Gas calibration</i> was dealing with the calibration of the xCO₂-data as they were coming from the instrument. The data were produced by a <i>General Oceanics</i> instrument, but the idea would be the same for data from any instrument. In this notebook, we will use the same data set as in <i>pCO₂ data reduction part 1 - Gas calibration</i> but with all recorded variables. "
      }
     },
     "114fcd7702bc411292e556e8c7eb727b": {
      "model_module": "@jupyter-widgets/controls",
      "model_module_version": "1.5.0",
      "model_name": "HTMLModel",
      "state": {
       "layout": "IPY_MODEL_dd2e6a69258b4ce489db5ee0e90a9ebf",
       "style": "IPY_MODEL_3bc1ac119bc24bb3b56d28273841b0be",
       "value": "<b>Description: </b> "
      }
     },
     "114ff435acda4956a35e07e3392c83b8": {
      "model_module": "@jupyter-widgets/base",
      "model_module_version": "1.2.0",
      "model_name": "LayoutModel",
      "state": {}
     },
     "115e3a9a32f541d8b85c2cf7f540c5d4": {
      "model_module": "@jupyter-widgets/controls",
      "model_module_version": "1.5.0",
      "model_name": "DescriptionStyleModel",
      "state": {
       "description_width": ""
      }
     },
     "117e15533fa14075815e390ac2a3fe7e": {
      "model_module": "@jupyter-widgets/base",
      "model_module_version": "1.2.0",
      "model_name": "LayoutModel",
      "state": {}
     },
     "1194dfaddf4a4cb3b4436c94a7f8809a": {
      "model_module": "@jupyter-widgets/base",
      "model_module_version": "1.2.0",
      "model_name": "LayoutModel",
      "state": {}
     },
     "11a5e09b1c2449d3a184058cb21b9fc7": {
      "model_module": "@jupyter-widgets/controls",
      "model_module_version": "1.5.0",
      "model_name": "HTMLModel",
      "state": {
       "layout": "IPY_MODEL_a46b5266dff340a1baa6c19783081c94",
       "style": "IPY_MODEL_772263d1fd07410fa25f927f0ee90b33",
       "value": "<a href='https://github.com/ICOS-Carbon-Portal/jupyter/issues' target='_blank'>Click here to report an issue</a>"
      }
     },
     "11e574efbf344ed2a48fd7f3a8ee2e32": {
      "model_module": "@jupyter-widgets/controls",
      "model_module_version": "1.5.0",
      "model_name": "DescriptionStyleModel",
      "state": {
       "description_width": ""
      }
     },
     "12002b5754cd4f7dae6ad05d9f357730": {
      "model_module": "@jupyter-widgets/base",
      "model_module_version": "1.2.0",
      "model_name": "LayoutModel",
      "state": {}
     },
     "1235476ae2014853b938f02e6107d27b": {
      "model_module": "@jupyter-widgets/base",
      "model_module_version": "1.2.0",
      "model_name": "LayoutModel",
      "state": {}
     },
     "12448854f7ca474289ba44020c759823": {
      "model_module": "@jupyter-widgets/controls",
      "model_module_version": "1.5.0",
      "model_name": "DescriptionStyleModel",
      "state": {
       "description_width": ""
      }
     },
     "124c70a054b9430b873a6ff63622bea6": {
      "model_module": "@jupyter-widgets/base",
      "model_module_version": "1.2.0",
      "model_name": "LayoutModel",
      "state": {}
     },
     "1256e46a55ac4d80bf9858b154711b7e": {
      "model_module": "@jupyter-widgets/base",
      "model_module_version": "1.2.0",
      "model_name": "LayoutModel",
      "state": {}
     },
     "1275e429489c4d09bf8ae2063c4af501": {
      "model_module": "@jupyter-widgets/controls",
      "model_module_version": "1.5.0",
      "model_name": "DescriptionStyleModel",
      "state": {
       "description_width": ""
      }
     },
     "12808e26704f48ad9780c78d6e6c2457": {
      "model_module": "@jupyter-widgets/controls",
      "model_module_version": "1.5.0",
      "model_name": "HTMLModel",
      "state": {
       "layout": "IPY_MODEL_f751bc9f6a2f4c9c996eb7811525c1eb",
       "style": "IPY_MODEL_386cdc747bcd49638e337a87aee4c457",
       "value": "<a href='https://github.com/ICOS-Carbon-Portal/jupyter/issues' target='_blank'>Click here to report an issue</a>"
      }
     },
     "128139e0f7c545d39726d060d0a65a53": {
      "model_module": "@jupyter-widgets/controls",
      "model_module_version": "1.5.0",
      "model_name": "HTMLModel",
      "state": {
       "layout": "IPY_MODEL_4023ca1051fc4ebf88f3ce738ae70bae",
       "style": "IPY_MODEL_e8c31ecf82944ec8bc13b5198b8a5b8b",
       "value": "<a href='https://github.com/ICOS-Carbon-Portal/jupyter/issues' target='_blank'>Click here to report an issue</a>"
      }
     },
     "1289e15e198544b2bdc911054199c739": {
      "model_module": "@jupyter-widgets/controls",
      "model_module_version": "1.5.0",
      "model_name": "DescriptionStyleModel",
      "state": {
       "description_width": ""
      }
     },
     "12a419c5d5f0410f81eb6d79f6c4870c": {
      "model_module": "@jupyter-widgets/controls",
      "model_module_version": "1.5.0",
      "model_name": "HTMLModel",
      "state": {
       "layout": "IPY_MODEL_16b3436e706044ec8776246fcd96e3f5",
       "style": "IPY_MODEL_b6dc79133d4e41fda613f0596b1b57f7",
       "value": "<img src=\"./icos_jupyter_notebooks/ind_tools/img/05_education/msc_bsc/soil/co2_surface_flux.PNG\">"
      }
     },
     "12ba0429d3164c248d73d3906393f0c9": {
      "model_module": "@jupyter-widgets/controls",
      "model_module_version": "1.5.0",
      "model_name": "HTMLModel",
      "state": {
       "layout": "IPY_MODEL_c60bb4ba2af140f6b23999a7bb353556",
       "style": "IPY_MODEL_96a94ce5e3d44c85a5e69f9f667cfc58",
       "value": "<b>Description: </b> "
      }
     },
     "12c02131fa204a0bb5f0e03a2ff906fb": {
      "model_module": "@jupyter-widgets/controls",
      "model_module_version": "1.5.0",
      "model_name": "HTMLModel",
      "state": {
       "layout": "IPY_MODEL_264051697d18460ebf904b054a471eb5",
       "style": "IPY_MODEL_59a3c4552d0e4d2b886166ddbbf1ad09",
       "value": "<b>GitHub: </b> "
      }
     },
     "12cbea8d40d94da993981b698c9280fb": {
      "model_module": "@jupyter-widgets/controls",
      "model_module_version": "1.5.0",
      "model_name": "HTMLModel",
      "state": {
       "layout": "IPY_MODEL_cf4431e9c7fc41c985b5c9d2d24f9711",
       "style": "IPY_MODEL_61c3ea0603af4835af1eaf7c4ba44778",
       "value": "This notebook is dedicated on providing interactive visualizations of ICOS atmopsheric observations in combination with <a href=\"http://stilt-model.org/index.php/Main/HomePage\" target=\"_blank\">STILT model</a> results for the same station. The visualizations may be used for the purpose of comparison between modelled and observed measurements. The notebook also includes an interactive table presenting the availability of <a href=\"http://stilt-model.org/index.php/Main/HomePage\" target=\"_blank\">STILT model</a> results per station. The selection of stations and other parameters relevant to each visualization are handled by interactive elements called widgets (i.e. dropdown lists, checkboxes, etc.)"
      }
     },
     "12d0311a7f544d3b812f9d196423fc24": {
      "model_module": "@jupyter-widgets/controls",
      "model_module_version": "1.5.0",
      "model_name": "DescriptionStyleModel",
      "state": {
       "description_width": ""
      }
     },
     "12d44b31e3da40e4bdfa675bc5f9a6d0": {
      "model_module": "@jupyter-widgets/controls",
      "model_module_version": "1.5.0",
      "model_name": "DescriptionStyleModel",
      "state": {
       "description_width": ""
      }
     },
     "12f12dd1398b4d13a00543b646fd17d4": {
      "model_module": "@jupyter-widgets/controls",
      "model_module_version": "1.5.0",
      "model_name": "HTMLModel",
      "state": {
       "layout": "IPY_MODEL_0bae0460628842238280c81629e876f9",
       "style": "IPY_MODEL_c1087f40a85841c1a8716d0fd11b5e50",
       "value": "<b>Thumbnail: </b> "
      }
     },
     "12f8d1cfa6564b20814dfe130fb191d1": {
      "model_module": "@jupyter-widgets/base",
      "model_module_version": "1.2.0",
      "model_name": "LayoutModel",
      "state": {}
     },
     "132a61c7420946f6adde1c734372a0ac": {
      "model_module": "@jupyter-widgets/controls",
      "model_module_version": "1.5.0",
      "model_name": "DescriptionStyleModel",
      "state": {
       "description_width": ""
      }
     },
     "1331c7c623804545a63eaff933048a95": {
      "model_module": "@jupyter-widgets/base",
      "model_module_version": "1.2.0",
      "model_name": "LayoutModel",
      "state": {}
     },
     "136ee70c7afc4457a2871004d8c8d835": {
      "model_module": "@jupyter-widgets/controls",
      "model_module_version": "1.5.0",
      "model_name": "HTMLModel",
      "state": {
       "layout": "IPY_MODEL_06d5adb4f8e148fba4ecd1df53b7c2ce",
       "style": "IPY_MODEL_b949fe5b6d3f41b0823bea116440b44b",
       "value": "<a href=\"mailto: jupyter-info@icos-cp.eu\">jupyter-info@icos-cp.eu</a>"
      }
     },
     "13765e34f82140b1aed4439ef47f3e81": {
      "model_module": "@jupyter-widgets/controls",
      "model_module_version": "1.5.0",
      "model_name": "HTMLModel",
      "state": {
       "layout": "IPY_MODEL_07acce597d924a8d8c289b1eccd3ade8",
       "style": "IPY_MODEL_f87a1d080d164270a9871d407cace86d",
       "value": "<b>Title: </b> "
      }
     },
     "13cae51919a0475280cebbedef9eb20a": {
      "model_module": "@jupyter-widgets/controls",
      "model_module_version": "1.5.0",
      "model_name": "DescriptionStyleModel",
      "state": {
       "description_width": ""
      }
     },
     "13f92780b79c45f78fc9be0818c72596": {
      "model_module": "@jupyter-widgets/controls",
      "model_module_version": "1.5.0",
      "model_name": "HTMLModel",
      "state": {
       "layout": "IPY_MODEL_5a5d0468f5c5445a9a019404792b76aa",
       "style": "IPY_MODEL_0c2b7f34944f4b09840f251317fd0588",
       "value": "To assist the national networks in evaluating the current and possible atmospheric network configurations, the ICOS Carbon Portal has extended its <a href=\"https://www.icos-cp.eu/data-services/tools/stilt-footprint\" target=\"_blank\">STILT footprint service</a> with a Jupyter notebook based tool. The tool allows the user to test any potential network configuration on its capability to capture the influence of sources and sinks. It does so by exploring the characteristics of combined influence (footprint) areas. The resulting combined footprint of the user’s selection is displayed in three different types of maps including one that simply shows the combined footprint and two maps that are based on the absolute coverage of the footprints (referred to as “footprint masks”). In a next step, the footprint mask coverage is examined in terms of the extent to which it covers individual countries. The results are summarized in a table."
      }
     },
     "14032c8684b24e65b904ca8d49ecf211": {
      "model_module": "@jupyter-widgets/controls",
      "model_module_version": "1.5.0",
      "model_name": "HTMLModel",
      "state": {
       "layout": "IPY_MODEL_f94390f9f87f4aa19d3802e9a8a50086",
       "style": "IPY_MODEL_48cd1bc4324241d28a54b635f0208baa",
       "value": "<a href='https://github.com/ICOS-Carbon-Portal/jupyter/issues' target='_blank'>Click here to report an issue</a>"
      }
     },
     "141125100db745dab3bfcbefb002dfca": {
      "model_module": "@jupyter-widgets/base",
      "model_module_version": "1.2.0",
      "model_name": "LayoutModel",
      "state": {}
     },
     "14130c6d5889430683285fe3bc2c9ef5": {
      "model_module": "@jupyter-widgets/base",
      "model_module_version": "1.2.0",
      "model_name": "LayoutModel",
      "state": {}
     },
     "142f326a7eee4d6ba7c7cc063542e9ef": {
      "model_module": "@jupyter-widgets/controls",
      "model_module_version": "1.5.0",
      "model_name": "HTMLModel",
      "state": {
       "layout": "IPY_MODEL_831743420730449d8fbb1d990fb48297",
       "style": "IPY_MODEL_60bbe0d67fb24637b1ab063e345dd632",
       "value": "<a href=\"mailto: jupyter-info@icos-cp.eu\">jupyter-info@icos-cp.eu</a>"
      }
     },
     "1450e64f2ee44cf3bfba73d9c6ea73eb": {
      "model_module": "@jupyter-widgets/base",
      "model_module_version": "1.2.0",
      "model_name": "LayoutModel",
      "state": {}
     },
     "14b5394c0ec2492ba988055bf3bd3464": {
      "model_module": "@jupyter-widgets/controls",
      "model_module_version": "1.5.0",
      "model_name": "DescriptionStyleModel",
      "state": {
       "description_width": ""
      }
     },
     "14ba82952c3f4a398de76298c530281b": {
      "model_module": "@jupyter-widgets/controls",
      "model_module_version": "1.5.0",
      "model_name": "HTMLModel",
      "state": {
       "layout": "IPY_MODEL_a4eabc987fdc4a8e9bba5767ec92849a",
       "style": "IPY_MODEL_c4521081a5a445d3a27ee0e356ee4edc",
       "value": "<b>Thumbnail: </b> "
      }
     },
     "14c4e94810964b6098252de9cfb0441f": {
      "model_module": "@jupyter-widgets/controls",
      "model_module_version": "1.5.0",
      "model_name": "HTMLModel",
      "state": {
       "layout": "IPY_MODEL_e3aca3dc696d493f86d01d7caaa6247d",
       "style": "IPY_MODEL_acf9d6954242446eafdf2166287a642a",
       "value": "<img src=\"./icos_jupyter_notebooks/ind_tools/img/02_pylib_ex/ex6c.PNG\">"
      }
     },
     "150b36036b91461aba1bdfef3bc22934": {
      "model_module": "@jupyter-widgets/base",
      "model_module_version": "1.2.0",
      "model_name": "LayoutModel",
      "state": {}
     },
     "151d5c38d093433092d38144a824a922": {
      "model_module": "@jupyter-widgets/controls",
      "model_module_version": "1.5.0",
      "model_name": "HTMLModel",
      "state": {
       "layout": "IPY_MODEL_6e79a8074c1340f9839c8b1eb6381692",
       "style": "IPY_MODEL_afb167b575f14d73aec72d5e542a0bbe",
       "value": "<b>Title: </b> "
      }
     },
     "15408a7e1cde4f96962d58c48e30e3ff": {
      "model_module": "@jupyter-widgets/controls",
      "model_module_version": "1.5.0",
      "model_name": "HTMLModel",
      "state": {
       "layout": "IPY_MODEL_776a116f29644e528dddac175ab08c46",
       "style": "IPY_MODEL_d49c4e212fe042bd8c26361bf22e664d",
       "value": "<b>Thumbnail: </b> "
      }
     },
     "15541ce1a15045b3866f4abf43e60b32": {
      "model_module": "@jupyter-widgets/controls",
      "model_module_version": "1.5.0",
      "model_name": "HTMLModel",
      "state": {
       "layout": "IPY_MODEL_8da9280436504f97b10cfd538a203dc8",
       "style": "IPY_MODEL_25ce82dbe6f34b7aa863f7e84d872b8d",
       "value": "<a href='https://github.com/ICOS-Carbon-Portal/jupyter/issues' target='_blank'>Click here to report an issue</a>"
      }
     },
     "158333748f8143599f3312b4888ef2c0": {
      "model_module": "@jupyter-widgets/base",
      "model_module_version": "1.2.0",
      "model_name": "LayoutModel",
      "state": {
       "grid_gap": "5px 10px",
       "grid_template_columns": "100px auto",
       "grid_template_rows": "auto auto auto auto auto",
       "padding": "50px 0px 70px 0px",
       "width": "100%"
      }
     },
     "15a64e10b4134668b91bbbf5e992945a": {
      "model_module": "@jupyter-widgets/controls",
      "model_module_version": "1.5.0",
      "model_name": "HTMLModel",
      "state": {
       "layout": "IPY_MODEL_9605b8a0d4a64e34babed4068c1f04f7",
       "style": "IPY_MODEL_21f1a8ff9f894112bd629d317430de32",
       "value": "<b>Description: </b> "
      }
     },
     "15a8e4a46c974b6db275504ed246737d": {
      "model_module": "@jupyter-widgets/controls",
      "model_module_version": "1.5.0",
      "model_name": "DescriptionStyleModel",
      "state": {
       "description_width": ""
      }
     },
     "15e55acd60304b7998d9ddc6c5df173a": {
      "model_module": "@jupyter-widgets/base",
      "model_module_version": "1.2.0",
      "model_name": "LayoutModel",
      "state": {}
     },
     "15eaaa917909417f96cbdc7d9114eac9": {
      "model_module": "@jupyter-widgets/controls",
      "model_module_version": "1.5.0",
      "model_name": "DescriptionStyleModel",
      "state": {
       "description_width": ""
      }
     },
     "15efd2e2fa704c12b2d0da01acae8f53": {
      "model_module": "@jupyter-widgets/base",
      "model_module_version": "1.2.0",
      "model_name": "LayoutModel",
      "state": {}
     },
     "160533847cb34148b5bcd1207a544eea": {
      "model_module": "@jupyter-widgets/controls",
      "model_module_version": "1.5.0",
      "model_name": "DescriptionStyleModel",
      "state": {
       "description_width": ""
      }
     },
     "161bd8369e5a492fa83716e4bb3ac56a": {
      "model_module": "@jupyter-widgets/controls",
      "model_module_version": "1.5.0",
      "model_name": "HTMLModel",
      "state": {
       "layout": "IPY_MODEL_a78978c8bbf84fea977415de9ea52095",
       "style": "IPY_MODEL_2e094bd57f52486a94e851a8acf0e861",
       "value": "<img src=\"./icos_jupyter_notebooks/ind_tools/img/03_icos_JNBs/icos_ao_stats/gat_co_co2.PNG\">"
      }
     },
     "162027c4b4364b928d9df7905315f7a7": {
      "model_module": "@jupyter-widgets/controls",
      "model_module_version": "1.5.0",
      "model_name": "DescriptionStyleModel",
      "state": {
       "description_width": ""
      }
     },
     "165022a10ada493e9fb74a764b8c87a0": {
      "model_module": "@jupyter-widgets/base",
      "model_module_version": "1.2.0",
      "model_name": "LayoutModel",
      "state": {}
     },
     "1660073c5e844776b2c853fb5ade4ba8": {
      "model_module": "@jupyter-widgets/base",
      "model_module_version": "1.2.0",
      "model_name": "LayoutModel",
      "state": {}
     },
     "166f925cd27d4a969521672439f319f1": {
      "model_module": "@jupyter-widgets/controls",
      "model_module_version": "1.5.0",
      "model_name": "GridBoxModel",
      "state": {
       "children": [
        "IPY_MODEL_3e780473a63a46428d4ff09166ea3c30",
        "IPY_MODEL_0e5983c9b7a445eaa9bdbd630a3e8d14",
        "IPY_MODEL_a99da8d0bb2e481e9b9fdea5fbda995d",
        "IPY_MODEL_ab031285573a4f899d05bb3ab5486b73",
        "IPY_MODEL_991dc07e3384460f963d40c6276b9738",
        "IPY_MODEL_66a3cb41d4c9471589c30e3301fce188",
        "IPY_MODEL_cf9871fecb904c578337462a3968ebd8",
        "IPY_MODEL_1b29f8e871b34d4d9409cf0a402b3230",
        "IPY_MODEL_cdf9f6385ac34bc795365be147cb9f9f",
        "IPY_MODEL_fa7fda07164b4e63a1a6f0508273d30c"
       ],
       "layout": "IPY_MODEL_1687c3c94b2c4612b9de3a0fee981683"
      }
     },
     "1672cee827104af1b592ffe92b8cb656": {
      "model_module": "@jupyter-widgets/controls",
      "model_module_version": "1.5.0",
      "model_name": "HTMLModel",
      "state": {
       "layout": "IPY_MODEL_ea00f4f8d4e34a2790f20a431770afa1",
       "style": "IPY_MODEL_94c8a82d584e43cca78881151a48fc99",
       "value": "<b>Description: </b> "
      }
     },
     "167d46bd529146609513417a370c887e": {
      "model_module": "@jupyter-widgets/controls",
      "model_module_version": "1.5.0",
      "model_name": "HTMLModel",
      "state": {
       "layout": "IPY_MODEL_50aa1871fb60472a8673e709ec6c1073",
       "style": "IPY_MODEL_d254c023049d46d9879840e260429b9c",
       "value": "Includes notebooks that present how to create interactive maps and add information to them."
      }
     },
     "1687c3c94b2c4612b9de3a0fee981683": {
      "model_module": "@jupyter-widgets/base",
      "model_module_version": "1.2.0",
      "model_name": "LayoutModel",
      "state": {
       "grid_gap": "5px 10px",
       "grid_template_columns": "100px auto",
       "grid_template_rows": "auto auto auto auto auto",
       "padding": "50px 0px 70px 0px",
       "width": "100%"
      }
     },
     "1694cab2e81c45229822444c0b68bf8f": {
      "model_module": "@jupyter-widgets/base",
      "model_module_version": "1.2.0",
      "model_name": "LayoutModel",
      "state": {}
     },
     "1697cbdccf8942f189b0edc247324393": {
      "model_module": "@jupyter-widgets/base",
      "model_module_version": "1.2.0",
      "model_name": "LayoutModel",
      "state": {}
     },
     "16b3436e706044ec8776246fcd96e3f5": {
      "model_module": "@jupyter-widgets/base",
      "model_module_version": "1.2.0",
      "model_name": "LayoutModel",
      "state": {}
     },
     "16bd883940e34bfa89b54ba67576ad02": {
      "model_module": "@jupyter-widgets/controls",
      "model_module_version": "1.5.0",
      "model_name": "HTMLModel",
      "state": {
       "layout": "IPY_MODEL_81626c37683b40b6a9e207aaac9dda35",
       "style": "IPY_MODEL_7ad8c580d1284fa4a7ae331d2c7875d5",
       "value": "This exercise package is focusing on how to use country masks on modelling results (i.e. vegetation modelling, inverse modelling) to estimate national budgets. You will use modelling results with different spatial resolutions together with country masks of different resolution and/or country coverage (i.e. incl. Exclusive Economic Zones - EEZ or not incl. EEZ)."
      }
     },
     "16ecb9e8c8334c7eb3ff493343807317": {
      "model_module": "@jupyter-widgets/controls",
      "model_module_version": "1.5.0",
      "model_name": "HTMLModel",
      "state": {
       "layout": "IPY_MODEL_bdbc3f1177704e1bbbab7930f3b07655",
       "style": "IPY_MODEL_4fcb61af78fd4ef3ba69c01068e361aa",
       "value": "<b>GitHub: </b> "
      }
     },
     "1743bd8677c0409eb8065fe5385b38c6": {
      "model_module": "@jupyter-widgets/controls",
      "model_module_version": "1.5.0",
      "model_name": "DescriptionStyleModel",
      "state": {
       "description_width": ""
      }
     },
     "1748ef175ea948088a9ea6fde82568af": {
      "model_module": "@jupyter-widgets/base",
      "model_module_version": "1.2.0",
      "model_name": "LayoutModel",
      "state": {}
     },
     "174e9a6b3c6c4319ac5fcd2662bd2eb3": {
      "model_module": "@jupyter-widgets/base",
      "model_module_version": "1.2.0",
      "model_name": "LayoutModel",
      "state": {}
     },
     "1756b99612c949e3aa7023cc02896af7": {
      "model_module": "@jupyter-widgets/base",
      "model_module_version": "1.2.0",
      "model_name": "LayoutModel",
      "state": {}
     },
     "17653e945faa43fd82d7398e16e54121": {
      "model_module": "@jupyter-widgets/controls",
      "model_module_version": "1.5.0",
      "model_name": "HTMLModel",
      "state": {
       "layout": "IPY_MODEL_cefc5e10cb994df0b4ad1eea9184c156",
       "style": "IPY_MODEL_a54df00711d8454b8d6dc7a76723eacd",
       "value": "<img src=\"./icos_jupyter_notebooks/ind_tools/img/02_pylib_ex/ex3.PNG\">"
      }
     },
     "1765b85483674298b3af6f2b7110d94d": {
      "model_module": "@jupyter-widgets/controls",
      "model_module_version": "1.5.0",
      "model_name": "GridBoxModel",
      "state": {
       "children": [
        "IPY_MODEL_a3ea7c6db3d34afc8028543fd343674a",
        "IPY_MODEL_bcb28a36058e46e9823743ea5c50d2d1",
        "IPY_MODEL_b605c95f7d4d4443a6171bcaf70b037e",
        "IPY_MODEL_6e902ab2adec40e3987cc9a6b28cc2a8",
        "IPY_MODEL_a047b1cf7d6347b586740d9fac3b3419",
        "IPY_MODEL_bc8d17b85a1c4d3ebb1b22d2b0567633",
        "IPY_MODEL_283809b8572840478ab12feb9c7ec4e3",
        "IPY_MODEL_334d56476f89455e9b591db189381985",
        "IPY_MODEL_90d25779bdf84c0a80e853cdca1b5575",
        "IPY_MODEL_6966933f172a4434a8f2cd0eb7e41790"
       ],
       "layout": "IPY_MODEL_3185292998304e978e5dd93e63ffecf8"
      }
     },
     "17765aeeb4424d4daf8123d58623f5a6": {
      "model_module": "@jupyter-widgets/controls",
      "model_module_version": "1.5.0",
      "model_name": "DescriptionStyleModel",
      "state": {
       "description_width": ""
      }
     },
     "178e284abb52469287970e10e39fe4ae": {
      "model_module": "@jupyter-widgets/base",
      "model_module_version": "1.2.0",
      "model_name": "LayoutModel",
      "state": {}
     },
     "17a09944a21241f3bf1add4963d3c138": {
      "model_module": "@jupyter-widgets/controls",
      "model_module_version": "1.5.0",
      "model_name": "DescriptionStyleModel",
      "state": {
       "description_width": ""
      }
     },
     "17adc698922748298e037ea1c0c72919": {
      "model_module": "@jupyter-widgets/controls",
      "model_module_version": "1.5.0",
      "model_name": "HTMLModel",
      "state": {
       "layout": "IPY_MODEL_178e284abb52469287970e10e39fe4ae",
       "style": "IPY_MODEL_b0c3b47b36a54a188c82b82d64eb7491",
       "value": "<a href=\"mailto: jupyter-info@icos-cp.eu\">jupyter-info@icos-cp.eu</a>, <a href=\"mailto: Steve.Jones@uib.no\">Steve.Jones@uib.no</a>"
      }
     },
     "17ce85ee1da04f2393d6027bca9521a5": {
      "model_module": "@jupyter-widgets/controls",
      "model_module_version": "1.5.0",
      "model_name": "HTMLModel",
      "state": {
       "layout": "IPY_MODEL_79d551fbbc3b47b3ab0cfea5ba6cdb1b",
       "style": "IPY_MODEL_ee2945d4fbdb4e7eba5f7dfefbe51fc1",
       "value": "<a href=./pylib_examples/ex6b_STILT_footprint_animation.ipynb target='_blank'>ICOS Carbon Portal Python Library - STILT footprint animation</a>"
      }
     },
     "17e561fd7388424abfe6f6c9f71fcfb3": {
      "model_module": "@jupyter-widgets/controls",
      "model_module_version": "1.5.0",
      "model_name": "DescriptionStyleModel",
      "state": {
       "description_width": ""
      }
     },
     "17f4ea1724144020a072524759b4a69b": {
      "model_module": "@jupyter-widgets/controls",
      "model_module_version": "1.5.0",
      "model_name": "DescriptionStyleModel",
      "state": {
       "description_width": ""
      }
     },
     "17f8b2f0631f4abd97fe35fecb9f5574": {
      "model_module": "@jupyter-widgets/controls",
      "model_module_version": "1.5.0",
      "model_name": "DescriptionStyleModel",
      "state": {
       "description_width": ""
      }
     },
     "18270454b5a940598cad9dcde1f0ca43": {
      "model_module": "@jupyter-widgets/controls",
      "model_module_version": "1.5.0",
      "model_name": "HTMLModel",
      "state": {
       "layout": "IPY_MODEL_fca1afdc42dc41f6b813bb9cf8d9da2a",
       "style": "IPY_MODEL_89eb74a391c34031a22d49a400f12460",
       "value": "<b>Thumbnail: </b> "
      }
     },
     "1833e59e4c7a47e3a8798ef05540bc44": {
      "model_module": "@jupyter-widgets/controls",
      "model_module_version": "1.5.0",
      "model_name": "HTMLModel",
      "state": {
       "layout": "IPY_MODEL_4da17d3bc10e432abfa96dffc4456fef",
       "style": "IPY_MODEL_aaa25f08f4214216bc3c1639b8981c21",
       "value": "<b>Description: </b> "
      }
     },
     "183ef98b8ba94baca6297c12585c5bf1": {
      "model_module": "@jupyter-widgets/base",
      "model_module_version": "1.2.0",
      "model_name": "LayoutModel",
      "state": {}
     },
     "18412ba5700f47d99da2c2f5c70ba4e2": {
      "model_module": "@jupyter-widgets/base",
      "model_module_version": "1.2.0",
      "model_name": "LayoutModel",
      "state": {}
     },
     "185fdd32bb6e452cacd19db60e7781a3": {
      "model_module": "@jupyter-widgets/controls",
      "model_module_version": "1.5.0",
      "model_name": "HTMLModel",
      "state": {
       "layout": "IPY_MODEL_d22fa223803e44a69be9362e15a46c16",
       "style": "IPY_MODEL_ea41c49b573b4e489fee41990a0e0d98",
       "value": "<b>Thumbnail: </b> "
      }
     },
     "1882ec0f57bd4cfdb9e3fb5a36ab6a2a": {
      "model_module": "@jupyter-widgets/base",
      "model_module_version": "1.2.0",
      "model_name": "LayoutModel",
      "state": {
       "grid_gap": "5px 10px",
       "grid_template_columns": "auto",
       "grid_template_rows": "auto",
       "padding": "5px 0px 5px 0px",
       "width": "100%"
      }
     },
     "18b2f511bae4471b8d5b43706ae51ff1": {
      "model_module": "@jupyter-widgets/controls",
      "model_module_version": "1.5.0",
      "model_name": "DescriptionStyleModel",
      "state": {
       "description_width": ""
      }
     },
     "18badc57cfb642a1b3ae277ce989b129": {
      "model_module": "@jupyter-widgets/controls",
      "model_module_version": "1.5.0",
      "model_name": "HTMLModel",
      "state": {
       "layout": "IPY_MODEL_0d622bb7c8b04755863ce7cc6cdaa7a3",
       "style": "IPY_MODEL_402451fa81f744a2b76c1fb4b7eb002d",
       "value": "<b>GitHub: </b> "
      }
     },
     "18dff0994e32495f85bf2a883aaa70be": {
      "model_module": "@jupyter-widgets/base",
      "model_module_version": "1.2.0",
      "model_name": "LayoutModel",
      "state": {}
     },
     "18ec1f846714475190f2bb70213e1c76": {
      "model_module": "@jupyter-widgets/controls",
      "model_module_version": "1.5.0",
      "model_name": "HTMLModel",
      "state": {
       "layout": "IPY_MODEL_8bf7456ff23a4e149d63ce78f5ad86c6",
       "style": "IPY_MODEL_93cef92992e44835bf2d311e722460dc",
       "value": "<b>GitHub: </b> "
      }
     },
     "18fcd0db05f54d4c978f698dc1a6273a": {
      "model_module": "@jupyter-widgets/base",
      "model_module_version": "1.2.0",
      "model_name": "LayoutModel",
      "state": {}
     },
     "190dbc7a3f68446598935766e4471e38": {
      "model_module": "@jupyter-widgets/base",
      "model_module_version": "1.2.0",
      "model_name": "LayoutModel",
      "state": {}
     },
     "190f379746424368b3fd8de4ac104c3e": {
      "model_module": "@jupyter-widgets/controls",
      "model_module_version": "1.5.0",
      "model_name": "DescriptionStyleModel",
      "state": {
       "description_width": ""
      }
     },
     "19897312dd2e45f593f16a7387786906": {
      "model_module": "@jupyter-widgets/base",
      "model_module_version": "1.2.0",
      "model_name": "LayoutModel",
      "state": {}
     },
     "19d280b8e4d5467da20d00628fafd7ac": {
      "model_module": "@jupyter-widgets/controls",
      "model_module_version": "1.5.0",
      "model_name": "HTMLModel",
      "state": {
       "layout": "IPY_MODEL_1331c7c623804545a63eaff933048a95",
       "style": "IPY_MODEL_616d1928d48c4075b9f8102303b4eea3",
       "value": "<b>Description: </b> "
      }
     },
     "19dfc29c16734ba1b7f9dc6c60f781d7": {
      "model_module": "@jupyter-widgets/controls",
      "model_module_version": "1.5.0",
      "model_name": "GridBoxModel",
      "state": {
       "children": [
        "IPY_MODEL_c76764c7f63646c189aca8e11681570d",
        "IPY_MODEL_99f29b0c0e3d451a82079f411fdd14c2",
        "IPY_MODEL_541c94e8bad04f0c8f74db88248fe14c",
        "IPY_MODEL_688d8e45dfdb40e6a982436ee6ee0133",
        "IPY_MODEL_4ffd7ba4847e4afb93f27e3f34e4941d",
        "IPY_MODEL_82d8650a732548ecae2fa8185a8c9609",
        "IPY_MODEL_ea8dfd2c804f4d54a5273a7a4520e4cd",
        "IPY_MODEL_4ae7dfc7330e4b49ba5e97949a979eea",
        "IPY_MODEL_14ba82952c3f4a398de76298c530281b",
        "IPY_MODEL_161bd8369e5a492fa83716e4bb3ac56a"
       ],
       "layout": "IPY_MODEL_f03b49fbfac5420482d5db6a6fe6db29"
      }
     },
     "19e383dcc5a944cfb8b29de4104b8060": {
      "model_module": "@jupyter-widgets/base",
      "model_module_version": "1.2.0",
      "model_name": "LayoutModel",
      "state": {}
     },
     "19ea340d7afc4380b849bd1b513d7b33": {
      "model_module": "@jupyter-widgets/base",
      "model_module_version": "1.2.0",
      "model_name": "LayoutModel",
      "state": {}
     },
     "1a007117351549cd83bb82099e4b04a0": {
      "model_module": "@jupyter-widgets/controls",
      "model_module_version": "1.5.0",
      "model_name": "GridBoxModel",
      "state": {
       "children": [
        "IPY_MODEL_7aa50c757f934d9a906c9a28ae760c0d",
        "IPY_MODEL_5296fa40ca974b1a81511301118e0527",
        "IPY_MODEL_c88ee224605f437490fa790c2ae143ca",
        "IPY_MODEL_cb3e29f63b5d4677a2afd80964b80912",
        "IPY_MODEL_b357f8f2aacc412f91a5682f9740d954",
        "IPY_MODEL_febb551642844bb09f19eccf118fcba0",
        "IPY_MODEL_b3026d7682374f069d3db7d86a10bc54",
        "IPY_MODEL_7136063f8f7d48238133fa074790b252",
        "IPY_MODEL_634b9a7a0cbf487d90b60e61c6de2bd5",
        "IPY_MODEL_c187f5b49cbe4b6497f6a60a7d209e0d"
       ],
       "layout": "IPY_MODEL_1e77f705d1f74a0885ef2598998eeb66"
      }
     },
     "1a10872288ed494cae959fb1a827cbde": {
      "model_module": "@jupyter-widgets/controls",
      "model_module_version": "1.5.0",
      "model_name": "HTMLModel",
      "state": {
       "layout": "IPY_MODEL_64688ad5b31f4460ab76f0da7eb06ad3",
       "style": "IPY_MODEL_02ee278ac0594257bf29b3f132820851",
       "value": "<b>Contact: </b> "
      }
     },
     "1a22ae146f1b45f3b4972c7a4c5c3d06": {
      "model_module": "@jupyter-widgets/controls",
      "model_module_version": "1.5.0",
      "model_name": "GridBoxModel",
      "state": {
       "children": [
        "IPY_MODEL_33dd78f1f97d4039a561d830f7613618",
        "IPY_MODEL_17ce85ee1da04f2393d6027bca9521a5",
        "IPY_MODEL_62efdfe84d18415fb6579c9c69f15f20",
        "IPY_MODEL_b75801e3a9444fe69f423b8526a38f54",
        "IPY_MODEL_0c628eacdde54175b9b093cfa7abf5f8",
        "IPY_MODEL_e4ab5624d5d644d2ba3f514be7ef8114",
        "IPY_MODEL_3531c8ebce9640dc8363d651f4377f49",
        "IPY_MODEL_b79d86145dff464ca00c913bc8c48bdf",
        "IPY_MODEL_e91aa314f2ea4628b1951eff8c98b1d4",
        "IPY_MODEL_4383fd4fb9774f43b0feebccd7b825c0"
       ],
       "layout": "IPY_MODEL_8605025e03ef4e4daf0373b81604c8c6"
      }
     },
     "1a2f23fcde0a4040bcce30d58c6c055e": {
      "model_module": "@jupyter-widgets/controls",
      "model_module_version": "1.5.0",
      "model_name": "HTMLModel",
      "state": {
       "layout": "IPY_MODEL_50244542cc274180bbf5e0445a62a520",
       "style": "IPY_MODEL_b6d7d92d5553414baf231131d4f8743b",
       "value": "<b>Contact: </b> "
      }
     },
     "1a48fdde52b443d582721b691c9671a2": {
      "model_module": "@jupyter-widgets/base",
      "model_module_version": "1.2.0",
      "model_name": "LayoutModel",
      "state": {}
     },
     "1a51582b98a744f09d0cf39550776108": {
      "model_module": "@jupyter-widgets/controls",
      "model_module_version": "1.5.0",
      "model_name": "DescriptionStyleModel",
      "state": {
       "description_width": ""
      }
     },
     "1a5bf7c85d2846c097b2add4465844a5": {
      "model_module": "@jupyter-widgets/base",
      "model_module_version": "1.2.0",
      "model_name": "LayoutModel",
      "state": {}
     },
     "1a738efe9a6e4821bee5db28e90f8ccc": {
      "model_module": "@jupyter-widgets/base",
      "model_module_version": "1.2.0",
      "model_name": "LayoutModel",
      "state": {}
     },
     "1a9da12e03834f828157364e9aedcae9": {
      "model_module": "@jupyter-widgets/controls",
      "model_module_version": "1.5.0",
      "model_name": "DescriptionStyleModel",
      "state": {
       "description_width": ""
      }
     },
     "1ab7d2853a3041d9a735f31a5203bad3": {
      "model_module": "@jupyter-widgets/controls",
      "model_module_version": "1.5.0",
      "model_name": "DescriptionStyleModel",
      "state": {
       "description_width": ""
      }
     },
     "1ac032adeebe49d9b4f18114eff8605f": {
      "model_module": "@jupyter-widgets/controls",
      "model_module_version": "1.5.0",
      "model_name": "GridBoxModel",
      "state": {
       "children": [
        "IPY_MODEL_b78d6e4e94f14aa5a46b11fa7ffcfa85",
        "IPY_MODEL_f79eab629849450fa97ff7bfd2271083",
        "IPY_MODEL_e098d06605544d2fb7c4edbc72cc97e1",
        "IPY_MODEL_a3f83bc3bcde48679b35b2492ca67216",
        "IPY_MODEL_103d0199782548a087c023f5a3c96d01",
        "IPY_MODEL_5459e63e366448ffac70061227f20287",
        "IPY_MODEL_a874bf74995e4804af10e92bb55cee3c",
        "IPY_MODEL_b2ddaf48490344bf822e590e09d83f97",
        "IPY_MODEL_ccb7e6db270c41b7a89f315fb37dc70d",
        "IPY_MODEL_ce20190f83a741369b4e079f659faff1"
       ],
       "layout": "IPY_MODEL_2fdc61a5800645ddbffdd1e1df98b5c5"
      }
     },
     "1ac16b06f51f4fdab6cdcc1a4e20236c": {
      "model_module": "@jupyter-widgets/base",
      "model_module_version": "1.2.0",
      "model_name": "LayoutModel",
      "state": {}
     },
     "1ac7f25e68704c5fbb7369808af4ec91": {
      "model_module": "@jupyter-widgets/base",
      "model_module_version": "1.2.0",
      "model_name": "LayoutModel",
      "state": {}
     },
     "1ad04a4b3ced4ad695ae28b403551f78": {
      "model_module": "@jupyter-widgets/base",
      "model_module_version": "1.2.0",
      "model_name": "LayoutModel",
      "state": {}
     },
     "1ad1ed9314434c54b5d2332f288a9bd3": {
      "model_module": "@jupyter-widgets/controls",
      "model_module_version": "1.5.0",
      "model_name": "HTMLModel",
      "state": {
       "layout": "IPY_MODEL_25fd815141804471a9f1cfd5d300a486",
       "style": "IPY_MODEL_b50571cba3e2473dafaf44cd77f64d1d",
       "value": "<a href='https://github.com/ICOS-Carbon-Portal/jupyter/issues' target='_blank'>Click here to report an issue</a>"
      }
     },
     "1afa9532f6304586a4517262b3096c95": {
      "model_module": "@jupyter-widgets/controls",
      "model_module_version": "1.5.0",
      "model_name": "HTMLModel",
      "state": {
       "layout": "IPY_MODEL_be25c4e7c232496f94652f679cc20cde",
       "style": "IPY_MODEL_aaf7df1dad0f477b9d95f62bfd02eaa4",
       "value": "<b>Title: </b> "
      }
     },
     "1b0e9b28a5c94066bd970f686dd58c63": {
      "model_module": "@jupyter-widgets/controls",
      "model_module_version": "1.5.0",
      "model_name": "HTMLModel",
      "state": {
       "layout": "IPY_MODEL_58d0bd82e6d2441fa40688e142121b2c",
       "style": "IPY_MODEL_e9ae1590ab4c4da182d94c036c18fc11",
       "value": "This notebook contains exercises for the <b>OTC Data Reduction Workshop</b>. The first exercise is dealing with the calibration of the xCO₂-data as they are coming from the instrument. The data are from a General Oceanics instrument, but the idea is the same for data from any instrument."
      }
     },
     "1b29f8e871b34d4d9409cf0a402b3230": {
      "model_module": "@jupyter-widgets/controls",
      "model_module_version": "1.5.0",
      "model_name": "HTMLModel",
      "state": {
       "layout": "IPY_MODEL_e2c4788b44a547be9b3a545910bce926",
       "style": "IPY_MODEL_b111330cf7e24a3ab70dce7581b99f7a",
       "value": "<a href='https://github.com/ICOS-Carbon-Portal/jupyter/issues' target='_blank'>Click here to report an issue</a>"
      }
     },
     "1b32f17a26eb4be092fb044e989ca43e": {
      "model_module": "@jupyter-widgets/controls",
      "model_module_version": "1.5.0",
      "model_name": "DescriptionStyleModel",
      "state": {
       "description_width": ""
      }
     },
     "1b79824a062c431d8a52aea3f65a6253": {
      "model_module": "@jupyter-widgets/base",
      "model_module_version": "1.2.0",
      "model_name": "LayoutModel",
      "state": {}
     },
     "1b90e2e13a384b8591190899870a7ee7": {
      "model_module": "@jupyter-widgets/controls",
      "model_module_version": "1.5.0",
      "model_name": "HTMLModel",
      "state": {
       "layout": "IPY_MODEL_1ac7f25e68704c5fbb7369808af4ec91",
       "style": "IPY_MODEL_5121f61bfd1f4588908fdf67b981224b",
       "value": "<b>Contact: </b> "
      }
     },
     "1b9b39e4777d400cbc275b8b8e3731cf": {
      "model_module": "@jupyter-widgets/controls",
      "model_module_version": "1.5.0",
      "model_name": "HTMLModel",
      "state": {
       "layout": "IPY_MODEL_acb31ff605ff4642b0f1f22ef0e0cb15",
       "style": "IPY_MODEL_208bdf2cd07042aca6776748b1342036",
       "value": "<b>Description: </b> "
      }
     },
     "1bda72f4823c400ab71c172d8734be28": {
      "model_module": "@jupyter-widgets/base",
      "model_module_version": "1.2.0",
      "model_name": "LayoutModel",
      "state": {}
     },
     "1c0ae2bbe6c5463391f04909d72cf382": {
      "model_module": "@jupyter-widgets/controls",
      "model_module_version": "1.5.0",
      "model_name": "DescriptionStyleModel",
      "state": {
       "description_width": ""
      }
     },
     "1c5fc034eb6d4c669fb52f63dbddf78f": {
      "model_module": "@jupyter-widgets/controls",
      "model_module_version": "1.5.0",
      "model_name": "HTMLModel",
      "state": {
       "layout": "IPY_MODEL_2709860d540d4960a98e278c89065a94",
       "style": "IPY_MODEL_2d9a86a97afe4fd4b6c43f374d85c07c",
       "value": "<b>Thumbnail: </b> "
      }
     },
     "1c6c5ff8ae5e4da0891617dd1db6db62": {
      "model_module": "@jupyter-widgets/controls",
      "model_module_version": "1.5.0",
      "model_name": "DescriptionStyleModel",
      "state": {
       "description_width": ""
      }
     },
     "1c6ef5ff607641c59fde7f13d150c667": {
      "model_module": "@jupyter-widgets/controls",
      "model_module_version": "1.5.0",
      "model_name": "DescriptionStyleModel",
      "state": {
       "description_width": ""
      }
     },
     "1c71dd1e45c74823909e3a3dafa0fcbf": {
      "model_module": "@jupyter-widgets/base",
      "model_module_version": "1.2.0",
      "model_name": "LayoutModel",
      "state": {}
     },
     "1c81fba4ddfd478d950e180c1e425424": {
      "model_module": "@jupyter-widgets/controls",
      "model_module_version": "1.5.0",
      "model_name": "DescriptionStyleModel",
      "state": {
       "description_width": ""
      }
     },
     "1c8454c05e2a459580fd944b4d5dba85": {
      "model_module": "@jupyter-widgets/base",
      "model_module_version": "1.2.0",
      "model_name": "LayoutModel",
      "state": {}
     },
     "1ca38514ad944d89aefdf6abc4a0b151": {
      "model_module": "@jupyter-widgets/base",
      "model_module_version": "1.2.0",
      "model_name": "LayoutModel",
      "state": {}
     },
     "1cae758807cd4a3ebb7b732bc420e845": {
      "model_module": "@jupyter-widgets/controls",
      "model_module_version": "1.5.0",
      "model_name": "DescriptionStyleModel",
      "state": {
       "description_width": ""
      }
     },
     "1d3082e89e1e414382a90bc05a5356ac": {
      "model_module": "@jupyter-widgets/controls",
      "model_module_version": "1.5.0",
      "model_name": "DescriptionStyleModel",
      "state": {
       "description_width": ""
      }
     },
     "1d5cbc7fb32e4e2692f58e6ceb2fb3f7": {
      "model_module": "@jupyter-widgets/base",
      "model_module_version": "1.2.0",
      "model_name": "LayoutModel",
      "state": {}
     },
     "1d7012d07e2146e28f37144b0cb3d93f": {
      "model_module": "@jupyter-widgets/controls",
      "model_module_version": "1.5.0",
      "model_name": "DescriptionStyleModel",
      "state": {
       "description_width": ""
      }
     },
     "1d881f75cc404d06a36b785b0024a17d": {
      "model_module": "@jupyter-widgets/controls",
      "model_module_version": "1.5.0",
      "model_name": "DescriptionStyleModel",
      "state": {
       "description_width": ""
      }
     },
     "1d9550ad17934106961442bf1ab23b37": {
      "model_module": "@jupyter-widgets/controls",
      "model_module_version": "1.5.0",
      "model_name": "HTMLModel",
      "state": {
       "layout": "IPY_MODEL_a12e08e9ae564b4fa27cdac32b25bb7e",
       "style": "IPY_MODEL_924039f83c0d4018bb21e9a162ffc77c",
       "value": "<img src=\"./icos_jupyter_notebooks/ind_tools/img/05_education/msc_bsc/drought2018/bokeh_plot_explained.png\">"
      }
     },
     "1db5a322a4d14013843f02c90aee510a": {
      "model_module": "@jupyter-widgets/controls",
      "model_module_version": "1.5.0",
      "model_name": "DescriptionStyleModel",
      "state": {
       "description_width": ""
      }
     },
     "1db748699e074f34a6c57a20aa6b2a7a": {
      "model_module": "@jupyter-widgets/controls",
      "model_module_version": "1.5.0",
      "model_name": "DescriptionStyleModel",
      "state": {
       "description_width": ""
      }
     },
     "1de1663762574043bcf2d73ac79dba04": {
      "model_module": "@jupyter-widgets/controls",
      "model_module_version": "1.5.0",
      "model_name": "HTMLModel",
      "state": {
       "layout": "IPY_MODEL_99ff544ecceb4278b7dfbb32fa1b9258",
       "style": "IPY_MODEL_8a0ac638d0f64431bd7ba017834797b4",
       "value": "<a href=\"mailto: jupyter-info@icos-cp.eu\">jupyter-info@icos-cp.eu</a>"
      }
     },
     "1df646fd564c45a093444f6c9b5147fc": {
      "model_module": "@jupyter-widgets/controls",
      "model_module_version": "1.5.0",
      "model_name": "HTMLModel",
      "state": {
       "layout": "IPY_MODEL_a16bdd0e0aca4326b8e1ba1b3769b5ef",
       "style": "IPY_MODEL_94eb6d529d7c4fd0a88c3457407c3353",
       "value": "<img src=\"./icos_jupyter_notebooks/ind_tools/img/02_pylib_ex/ex4.PNG\">"
      }
     },
     "1dffd581dfaa42cbb212d62e2e19971e": {
      "model_module": "@jupyter-widgets/controls",
      "model_module_version": "1.5.0",
      "model_name": "HTMLModel",
      "state": {
       "layout": "IPY_MODEL_206e525fe01f4ffe986bce34fc24586a",
       "style": "IPY_MODEL_4105742d1efa4a1fbd7f0fb9209a3894",
       "value": "<a href=\"mailto: jupyter-info@icos-cp.eu\">jupyter-info@icos-cp.eu</a>"
      }
     },
     "1e1179571b5d4c2a975a1b46025d6596": {
      "model_module": "@jupyter-widgets/controls",
      "model_module_version": "1.5.0",
      "model_name": "HTMLModel",
      "state": {
       "layout": "IPY_MODEL_628d057a115f4b6b80ae40afde7ab506",
       "style": "IPY_MODEL_76246effd5c04625b845be8aabb5920d",
       "value": "<b>Description: </b> "
      }
     },
     "1e328b3ed68942bd981717aa64e1cd8f": {
      "model_module": "@jupyter-widgets/base",
      "model_module_version": "1.2.0",
      "model_name": "LayoutModel",
      "state": {}
     },
     "1e4577ca336d49568dc2aecd78a1a3c9": {
      "model_module": "@jupyter-widgets/base",
      "model_module_version": "1.2.0",
      "model_name": "LayoutModel",
      "state": {}
     },
     "1e57556048df47acbd0bd40210f893e1": {
      "model_module": "@jupyter-widgets/controls",
      "model_module_version": "1.5.0",
      "model_name": "GridBoxModel",
      "state": {
       "children": [
        "IPY_MODEL_c7bebecdf86f492c8eb4583670c0aafa",
        "IPY_MODEL_cdce5ad61ddc4e47a54346a0246b4ca4"
       ],
       "layout": "IPY_MODEL_d467887ea1e5465bb5109adf8aed8220"
      }
     },
     "1e74d0dfe1cd488388f86692ddab0dcc": {
      "model_module": "@jupyter-widgets/controls",
      "model_module_version": "1.5.0",
      "model_name": "HTMLModel",
      "state": {
       "layout": "IPY_MODEL_2e994f462e574d1597056206a3b45e7e",
       "style": "IPY_MODEL_da9f7fa1fbed43f0913bb63d9b911a3e",
       "value": "<a href=./education/General/carboncycle_svb.ipynb target='_blank'>Carbon cycle - Svartberget</a>"
      }
     },
     "1e77f705d1f74a0885ef2598998eeb66": {
      "model_module": "@jupyter-widgets/base",
      "model_module_version": "1.2.0",
      "model_name": "LayoutModel",
      "state": {
       "grid_gap": "5px 10px",
       "grid_template_columns": "100px auto",
       "grid_template_rows": "auto auto auto auto auto",
       "padding": "50px 0px 70px 0px",
       "width": "100%"
      }
     },
     "1e8143eb781f4b668e2bb7c20b9eafcf": {
      "model_module": "@jupyter-widgets/base",
      "model_module_version": "1.2.0",
      "model_name": "LayoutModel",
      "state": {
       "grid_gap": "5px 10px",
       "grid_template_columns": "auto",
       "grid_template_rows": "auto",
       "padding": "5px 0px 5px 0px",
       "width": "100%"
      }
     },
     "1e8e40179b824912b34392fccb0d0933": {
      "model_module": "@jupyter-widgets/base",
      "model_module_version": "1.2.0",
      "model_name": "LayoutModel",
      "state": {}
     },
     "1e98d3e53d3e4f4c898f0fe336112176": {
      "model_module": "@jupyter-widgets/controls",
      "model_module_version": "1.5.0",
      "model_name": "DescriptionStyleModel",
      "state": {
       "description_width": ""
      }
     },
     "1e9c70d0189b48d19466aed3ec7c22dd": {
      "model_module": "@jupyter-widgets/controls",
      "model_module_version": "1.5.0",
      "model_name": "DescriptionStyleModel",
      "state": {
       "description_width": ""
      }
     },
     "1ea69021472b480bb4d169e7b8134d4f": {
      "model_module": "@jupyter-widgets/base",
      "model_module_version": "1.2.0",
      "model_name": "LayoutModel",
      "state": {}
     },
     "1eab9e36abd24869a6af92117ea303e3": {
      "model_module": "@jupyter-widgets/controls",
      "model_module_version": "1.5.0",
      "model_name": "DescriptionStyleModel",
      "state": {
       "description_width": ""
      }
     },
     "1ead6659acb54cc68ddf9e7c2ed0e759": {
      "model_module": "@jupyter-widgets/controls",
      "model_module_version": "1.5.0",
      "model_name": "HTMLModel",
      "state": {
       "layout": "IPY_MODEL_97182910d9894f1aae7feb930fc05b56",
       "style": "IPY_MODEL_5e5e64acbc6846c5a935979fdf85a9d2",
       "value": "<b>GitHub: </b> "
      }
     },
     "1eae7db1aa8043b580d959320b380a50": {
      "model_module": "@jupyter-widgets/base",
      "model_module_version": "1.2.0",
      "model_name": "LayoutModel",
      "state": {}
     },
     "1eb8ed1bf9c7484d9af8ee1d9415f6c4": {
      "model_module": "@jupyter-widgets/base",
      "model_module_version": "1.2.0",
      "model_name": "LayoutModel",
      "state": {}
     },
     "1ed11ecf37b24b6b87dd7e91b732732f": {
      "model_module": "@jupyter-widgets/controls",
      "model_module_version": "1.5.0",
      "model_name": "DescriptionStyleModel",
      "state": {
       "description_width": ""
      }
     },
     "1ed6a8a108da47f2a55efb700d138c05": {
      "model_module": "@jupyter-widgets/controls",
      "model_module_version": "1.5.0",
      "model_name": "DescriptionStyleModel",
      "state": {
       "description_width": ""
      }
     },
     "1ed7aa2b42bc48b4b409045a40583102": {
      "model_module": "@jupyter-widgets/controls",
      "model_module_version": "1.5.0",
      "model_name": "DescriptionStyleModel",
      "state": {
       "description_width": ""
      }
     },
     "1f0e53c7676042189eb93e7153c6ed20": {
      "model_module": "@jupyter-widgets/controls",
      "model_module_version": "1.5.0",
      "model_name": "HTMLModel",
      "state": {
       "layout": "IPY_MODEL_c6af4caab9954474af59b086e3feb462",
       "style": "IPY_MODEL_672d18e3228c4f918757a5c9632a9fa6",
       "value": "<b>Thumbnail: </b> "
      }
     },
     "1f2064049dd242ce82997e0fffc04f26": {
      "model_module": "@jupyter-widgets/controls",
      "model_module_version": "1.5.0",
      "model_name": "DescriptionStyleModel",
      "state": {
       "description_width": ""
      }
     },
     "1f2171a7815745f791069b2251af7774": {
      "model_module": "@jupyter-widgets/controls",
      "model_module_version": "1.5.0",
      "model_name": "DescriptionStyleModel",
      "state": {
       "description_width": ""
      }
     },
     "1f376eacf1cb441782264cfc7ef8132c": {
      "model_module": "@jupyter-widgets/controls",
      "model_module_version": "1.5.0",
      "model_name": "HTMLModel",
      "state": {
       "layout": "IPY_MODEL_214206bf311740ca8bed0b3d982e84be",
       "style": "IPY_MODEL_911bc083a6bc4c039522ae9e674b3573",
       "value": "<b>GitHub: </b> "
      }
     },
     "1f393d34136d41d4956c49c50c6149d1": {
      "model_module": "@jupyter-widgets/base",
      "model_module_version": "1.2.0",
      "model_name": "LayoutModel",
      "state": {}
     },
     "1f4c79422e304da099b744750c949b70": {
      "model_module": "@jupyter-widgets/controls",
      "model_module_version": "1.5.0",
      "model_name": "DescriptionStyleModel",
      "state": {
       "description_width": ""
      }
     },
     "1f53fc4ea5c94cb19a7fdfac73e12550": {
      "model_module": "@jupyter-widgets/base",
      "model_module_version": "1.2.0",
      "model_name": "LayoutModel",
      "state": {}
     },
     "1f5b53b90f1f41d68c38c1944b7afc3f": {
      "model_module": "@jupyter-widgets/controls",
      "model_module_version": "1.5.0",
      "model_name": "HTMLModel",
      "state": {
       "layout": "IPY_MODEL_953c6e2b739d4549a4ceab2ae60d6614",
       "style": "IPY_MODEL_0734476614d04d6bac20f3287d87e08d",
       "value": "<a href='https://github.com/ICOS-Carbon-Portal/jupyter/issues' target='_blank'>Click here to report an issue</a>"
      }
     },
     "1f653822bba247aa8977dfce147abc29": {
      "model_module": "@jupyter-widgets/controls",
      "model_module_version": "1.5.0",
      "model_name": "HTMLModel",
      "state": {
       "layout": "IPY_MODEL_d5a583489a45482b964522afa06b8a96",
       "style": "IPY_MODEL_5de8ebd7390141e89391a92bae0c0049",
       "value": "<b>Contact: </b> "
      }
     },
     "1f7075d2cdbb4a3a8faf912038821b03": {
      "model_module": "@jupyter-widgets/controls",
      "model_module_version": "1.5.0",
      "model_name": "HTMLModel",
      "state": {
       "layout": "IPY_MODEL_e318d47ce7674329b9e26fcd5e26afac",
       "style": "IPY_MODEL_0ca23f1b66134c0ba6224cb092ff5a75",
       "value": "This subcategory includes educational material and notebooks with exercises for PhD courses. The exercises make use of ICOS data products."
      }
     },
     "1f9f183512bd49cb97663ac82f1caeef": {
      "model_module": "@jupyter-widgets/controls",
      "model_module_version": "1.5.0",
      "model_name": "DescriptionStyleModel",
      "state": {
       "description_width": ""
      }
     },
     "1fae9d82cab64e02b1c236341cb23828": {
      "model_module": "@jupyter-widgets/controls",
      "model_module_version": "1.5.0",
      "model_name": "HTMLModel",
      "state": {
       "layout": "IPY_MODEL_4a58e46e22b84de6bbd06dfe871291c3",
       "style": "IPY_MODEL_df0d80ab02c645e2b4a5d25824cbbaaa",
       "value": "<b>Contact: </b> "
      }
     },
     "1fb94a8143e44fb89a5838e8a3324c24": {
      "model_module": "@jupyter-widgets/controls",
      "model_module_version": "1.5.0",
      "model_name": "HTMLModel",
      "state": {
       "layout": "IPY_MODEL_977e75525db84b839ff404963cc7e1e3",
       "style": "IPY_MODEL_f44d4e76abed4cd48bdd9ec775b16a10",
       "value": "<b>GitHub: </b> "
      }
     },
     "1fbd10f3c8fa4d2cbbb668cb9490c0b3": {
      "model_module": "@jupyter-widgets/base",
      "model_module_version": "1.2.0",
      "model_name": "LayoutModel",
      "state": {
       "grid_gap": "5px 10px",
       "grid_template_columns": "100px auto",
       "grid_template_rows": "auto auto auto auto auto",
       "padding": "50px 0px 70px 0px",
       "width": "100%"
      }
     },
     "1fd40eb03e9846f8aad7fbbaf266331e": {
      "model_module": "@jupyter-widgets/controls",
      "model_module_version": "1.5.0",
      "model_name": "DescriptionStyleModel",
      "state": {
       "description_width": ""
      }
     },
     "1fe4431b08ca4d73a09a629fc63b12ef": {
      "model_module": "@jupyter-widgets/base",
      "model_module_version": "1.2.0",
      "model_name": "LayoutModel",
      "state": {}
     },
     "1fe60897cc73422c8ba1c2d673cb044e": {
      "model_module": "@jupyter-widgets/controls",
      "model_module_version": "1.5.0",
      "model_name": "DescriptionStyleModel",
      "state": {
       "description_width": ""
      }
     },
     "2012ed2b587743fabf06e19121a16434": {
      "model_module": "@jupyter-widgets/controls",
      "model_module_version": "1.5.0",
      "model_name": "HTMLModel",
      "state": {
       "layout": "IPY_MODEL_ea4358f82725433aa6a124d1e1f62fd2",
       "style": "IPY_MODEL_fd6452985bb34f86b0bb463408044faa",
       "value": "Includes notebooks that use ICOS data products to introduce students to basic principles of programming whilst exploring the consequences of the drought during the summer of 2018."
      }
     },
     "20159ff5e21a46c883ef90b888bc6350": {
      "model_module": "@jupyter-widgets/controls",
      "model_module_version": "1.5.0",
      "model_name": "HTMLModel",
      "state": {
       "layout": "IPY_MODEL_4d39b05553c140588af77fc82a67c37d",
       "style": "IPY_MODEL_17e561fd7388424abfe6f6c9f71fcfb3",
       "value": "<a href='https://github.com/ICOS-Carbon-Portal/jupyter/issues' target='_blank'>Click here to report an issue</a>"
      }
     },
     "203367eb04814372b8350de0075fe0b7": {
      "model_module": "@jupyter-widgets/controls",
      "model_module_version": "1.5.0",
      "model_name": "DescriptionStyleModel",
      "state": {
       "description_width": ""
      }
     },
     "203b6c2ad19841cfbbc142a3898ed5ad": {
      "model_module": "@jupyter-widgets/controls",
      "model_module_version": "1.5.0",
      "model_name": "HTMLModel",
      "state": {
       "layout": "IPY_MODEL_ff367c5b32e745198048b3723410a05c",
       "style": "IPY_MODEL_5a6cac21dd0a4e45b0462880b8e2a99c",
       "value": "<b>Contact: </b> "
      }
     },
     "203e930ba4824267a897e104cd5f4fd6": {
      "model_module": "@jupyter-widgets/controls",
      "model_module_version": "1.5.0",
      "model_name": "HTMLModel",
      "state": {
       "layout": "IPY_MODEL_9d9bc3abf8754177873fdff61be8af4e",
       "style": "IPY_MODEL_b36506f1123842d99bdcc193f7004f47",
       "value": "<b>Thumbnail: </b> "
      }
     },
     "2054bb3f764c4dd5ba0570a21c6a68b9": {
      "model_module": "@jupyter-widgets/base",
      "model_module_version": "1.2.0",
      "model_name": "LayoutModel",
      "state": {}
     },
     "205cf03c97ac4601bd55c3e6930c72b4": {
      "model_module": "@jupyter-widgets/base",
      "model_module_version": "1.2.0",
      "model_name": "LayoutModel",
      "state": {}
     },
     "206351c5b7a44b6e8ee17f20014086a3": {
      "model_module": "@jupyter-widgets/controls",
      "model_module_version": "1.5.0",
      "model_name": "DescriptionStyleModel",
      "state": {
       "description_width": ""
      }
     },
     "206e525fe01f4ffe986bce34fc24586a": {
      "model_module": "@jupyter-widgets/base",
      "model_module_version": "1.2.0",
      "model_name": "LayoutModel",
      "state": {}
     },
     "2073eb1d589040b19ed5248c6ea71264": {
      "model_module": "@jupyter-widgets/controls",
      "model_module_version": "1.5.0",
      "model_name": "HTMLModel",
      "state": {
       "layout": "IPY_MODEL_c8f91e5dfe2341fd821462be9b512467",
       "style": "IPY_MODEL_4b680531a69b47d9aebaf29b438d0d84",
       "value": "<b>Description: </b> "
      }
     },
     "20839a5c9b774b55a73c409029c1226e": {
      "model_module": "@jupyter-widgets/controls",
      "model_module_version": "1.5.0",
      "model_name": "HTMLModel",
      "state": {
       "layout": "IPY_MODEL_1235476ae2014853b938f02e6107d27b",
       "style": "IPY_MODEL_796ad5aed1b24123b75e346e5ed1dbfc",
       "value": "<b>Thumbnail: </b> "
      }
     },
     "208bdf2cd07042aca6776748b1342036": {
      "model_module": "@jupyter-widgets/controls",
      "model_module_version": "1.5.0",
      "model_name": "DescriptionStyleModel",
      "state": {
       "description_width": ""
      }
     },
     "209609ca73cb49c3953d368eaa7d9f22": {
      "model_module": "@jupyter-widgets/controls",
      "model_module_version": "1.5.0",
      "model_name": "HTMLModel",
      "state": {
       "layout": "IPY_MODEL_b543f1c695bc4db7b80db0c45d62b2dd",
       "style": "IPY_MODEL_2dfb07712d824bc999ac1a7fe5def6f0",
       "value": "<a href='https://github.com/ICOS-Carbon-Portal/jupyter/issues' target='_blank'>Click here to report an issue</a>"
      }
     },
     "20b4f7de422a45f9b85d23f86b50eede": {
      "model_module": "@jupyter-widgets/base",
      "model_module_version": "1.2.0",
      "model_name": "LayoutModel",
      "state": {}
     },
     "20b53cc9e7444eaa9fb00a7cb40fa661": {
      "model_module": "@jupyter-widgets/controls",
      "model_module_version": "1.5.0",
      "model_name": "HTMLModel",
      "state": {
       "layout": "IPY_MODEL_34e221cdbbcc41d3a4efc50270ad8787",
       "style": "IPY_MODEL_d4148c1102254396bd75cfc21bde6ee6",
       "value": "<b>Thumbnail: </b> "
      }
     },
     "20d44c602ba646abaa7697a4af13ebda": {
      "model_module": "@jupyter-widgets/controls",
      "model_module_version": "1.5.0",
      "model_name": "HTMLModel",
      "state": {
       "layout": "IPY_MODEL_bf88ce1f7030453dac72db09acf1f04f",
       "style": "IPY_MODEL_dc5feab66a454fc9888782834fbb3270",
       "value": "<b>Description: </b> "
      }
     },
     "21036e949a984ab1a52434f9ca6585b5": {
      "model_module": "@jupyter-widgets/base",
      "model_module_version": "1.2.0",
      "model_name": "LayoutModel",
      "state": {}
     },
     "21067d56358c44149e295825f97d39b5": {
      "model_module": "@jupyter-widgets/base",
      "model_module_version": "1.2.0",
      "model_name": "LayoutModel",
      "state": {}
     },
     "2124e147e07e43978a4aea3626806e52": {
      "model_module": "@jupyter-widgets/controls",
      "model_module_version": "1.5.0",
      "model_name": "HTMLModel",
      "state": {
       "layout": "IPY_MODEL_24fa14fde2714ddd9b309e2b1ef7f66c",
       "style": "IPY_MODEL_a77d48c2e9b84f089efe20f31cca6b10",
       "value": "<b>GitHub: </b> "
      }
     },
     "212bad923cbe404c8a45071a61bc38b6": {
      "model_module": "@jupyter-widgets/controls",
      "model_module_version": "1.5.0",
      "model_name": "HTMLModel",
      "state": {
       "layout": "IPY_MODEL_3ceafa0993d145cbb9f394560ac4b02e",
       "style": "IPY_MODEL_09338c2c0cb64692a2c4e4d3e7c0c2e0",
       "value": "This notebook contains exercises for the <b>OTC Data Reduction Workshop</b> using a data set from a real sensor."
      }
     },
     "2131d83aa2fb4a8cb3f70284a588dd1b": {
      "model_module": "@jupyter-widgets/controls",
      "model_module_version": "1.5.0",
      "model_name": "HTMLModel",
      "state": {
       "layout": "IPY_MODEL_1e328b3ed68942bd981717aa64e1cd8f",
       "style": "IPY_MODEL_418f86c90d8d4ab48b49ac01432e75f9",
       "value": "<b>Title: </b> "
      }
     },
     "213243ddc9c640eb883369b31bfdb786": {
      "model_module": "@jupyter-widgets/controls",
      "model_module_version": "1.5.0",
      "model_name": "DescriptionStyleModel",
      "state": {
       "description_width": ""
      }
     },
     "214206bf311740ca8bed0b3d982e84be": {
      "model_module": "@jupyter-widgets/base",
      "model_module_version": "1.2.0",
      "model_name": "LayoutModel",
      "state": {}
     },
     "21494614c1f84552b122eef5f7d00b2c": {
      "model_module": "@jupyter-widgets/controls",
      "model_module_version": "1.5.0",
      "model_name": "DescriptionStyleModel",
      "state": {
       "description_width": ""
      }
     },
     "214f7a684d6e43b99042f413b64d5812": {
      "model_module": "@jupyter-widgets/controls",
      "model_module_version": "1.5.0",
      "model_name": "HTMLModel",
      "state": {
       "layout": "IPY_MODEL_f0fffb9c514848129cbcab82091e3a4b",
       "style": "IPY_MODEL_6f8d1d40a6314c19907677b84a81a75b",
       "value": "<b>GitHub: </b> "
      }
     },
     "2160d925693d4e06885e6fb26ed7fa85": {
      "model_module": "@jupyter-widgets/base",
      "model_module_version": "1.2.0",
      "model_name": "LayoutModel",
      "state": {}
     },
     "2188dd391cc544cc99d6611988c05b86": {
      "model_module": "@jupyter-widgets/controls",
      "model_module_version": "1.5.0",
      "model_name": "HTMLModel",
      "state": {
       "layout": "IPY_MODEL_40b7e4c5d3fe4987a1077cb0643f6374",
       "style": "IPY_MODEL_963325707b2d4970ba80cc01aad1b043",
       "value": "<b>Contact: </b> "
      }
     },
     "21926e95a96f43fca3419aa01cc039c7": {
      "model_module": "@jupyter-widgets/controls",
      "model_module_version": "1.5.0",
      "model_name": "HTMLModel",
      "state": {
       "layout": "IPY_MODEL_48d27d2c671a4f5eace77cd47d9f4bdc",
       "style": "IPY_MODEL_0535ec43cefb494eade306e9d5458b25",
       "value": "<b>Contact: </b> "
      }
     },
     "21f1a8ff9f894112bd629d317430de32": {
      "model_module": "@jupyter-widgets/controls",
      "model_module_version": "1.5.0",
      "model_name": "DescriptionStyleModel",
      "state": {
       "description_width": ""
      }
     },
     "21ffac96f1854125ae0c9b4c84f85e77": {
      "model_module": "@jupyter-widgets/base",
      "model_module_version": "1.2.0",
      "model_name": "LayoutModel",
      "state": {}
     },
     "2207d078839e4fe9b513070e1e0808a2": {
      "model_module": "@jupyter-widgets/controls",
      "model_module_version": "1.5.0",
      "model_name": "HTMLModel",
      "state": {
       "layout": "IPY_MODEL_c4b1eac1bf2b4af3b512937f818cd693",
       "style": "IPY_MODEL_eb0a7a771819493798f6a31d4367689e",
       "value": "<b>Contact: </b> "
      }
     },
     "221227d31b7d46a080b07208a5b931f7": {
      "model_module": "@jupyter-widgets/base",
      "model_module_version": "1.2.0",
      "model_name": "LayoutModel",
      "state": {}
     },
     "221a9769cc52465bb7fabd70c73aeed2": {
      "model_module": "@jupyter-widgets/base",
      "model_module_version": "1.2.0",
      "model_name": "LayoutModel",
      "state": {}
     },
     "2244910928a94eec9f487e8db6ac68b7": {
      "model_module": "@jupyter-widgets/controls",
      "model_module_version": "1.5.0",
      "model_name": "HTMLModel",
      "state": {
       "layout": "IPY_MODEL_edd36b5384ef40b78fd873b9ceea071e",
       "style": "IPY_MODEL_3d8a849301864e08a835d2fad0d1dead",
       "value": "<a href=./project_jupyter_notebooks/OTC%20Data%20Reduction%20Workshop/Data%20reduction%20part%201%20-%20Gas%20Calibration.ipynb target='_blank'>pCO₂ data reduction part 1 - Gas calibration</a>"
      }
     },
     "2250c5481663423ab8060a286b88c315": {
      "model_module": "@jupyter-widgets/base",
      "model_module_version": "1.2.0",
      "model_name": "LayoutModel",
      "state": {}
     },
     "2259ca5c511f40bc812e63b5af5ae77e": {
      "model_module": "@jupyter-widgets/controls",
      "model_module_version": "1.5.0",
      "model_name": "HTMLModel",
      "state": {
       "layout": "IPY_MODEL_0cfded6814c34c22b5bd20b6dc592079",
       "style": "IPY_MODEL_4bab9a01b2444186ae597860d40e86f1",
       "value": "<b>Contact: </b> "
      }
     },
     "226765e1a843446495d577fb5c503900": {
      "model_module": "@jupyter-widgets/controls",
      "model_module_version": "1.5.0",
      "model_name": "HTMLModel",
      "state": {
       "layout": "IPY_MODEL_4aed264ae33e48a69035f6ce08ff774f",
       "style": "IPY_MODEL_ed69defb25ca46bca21ab86cf6160120",
       "value": "<b>Title: </b> "
      }
     },
     "227426c18b31441f90017d67ef03c08a": {
      "model_module": "@jupyter-widgets/controls",
      "model_module_version": "1.5.0",
      "model_name": "GridBoxModel",
      "state": {
       "children": [
        "IPY_MODEL_ad15e007359f4b59a728fdddc9fa32c3",
        "IPY_MODEL_ee6b50a618314a5c80d42527a4e364e2"
       ],
       "layout": "IPY_MODEL_e0e27d4df19b414b9901754329fea913"
      }
     },
     "227d109f65014fa7b0b29c4647d07473": {
      "model_module": "@jupyter-widgets/controls",
      "model_module_version": "1.5.0",
      "model_name": "DescriptionStyleModel",
      "state": {
       "description_width": ""
      }
     },
     "2280ad30fee345ad8e7d215863c65652": {
      "model_module": "@jupyter-widgets/controls",
      "model_module_version": "1.5.0",
      "model_name": "HTMLModel",
      "state": {
       "layout": "IPY_MODEL_4e630c0dde2647d2bd0aaa090f9b25ad",
       "style": "IPY_MODEL_dd5591a4d1314a758e88e34b6f9c8916",
       "value": "<b>Title: </b> "
      }
     },
     "228459c1b2834753a5a92b2cdd020101": {
      "model_module": "@jupyter-widgets/base",
      "model_module_version": "1.2.0",
      "model_name": "LayoutModel",
      "state": {}
     },
     "229ab523b9bb44149c5e1896d7f2c246": {
      "model_module": "@jupyter-widgets/controls",
      "model_module_version": "1.5.0",
      "model_name": "HTMLModel",
      "state": {
       "layout": "IPY_MODEL_b9354e514070441885aca705f877b192",
       "style": "IPY_MODEL_713e0f2b7b684e319ff006b21996bd8e",
       "value": "<b>Thumbnail: </b> "
      }
     },
     "229d39fbce334aa98f649ac378bb61fa": {
      "model_module": "@jupyter-widgets/controls",
      "model_module_version": "1.5.0",
      "model_name": "HTMLModel",
      "state": {
       "layout": "IPY_MODEL_4acf690959b7488f9212c559d5294f8b",
       "style": "IPY_MODEL_aac5dc04571b4916a50d7177c1c5266d",
       "value": "<b>Thumbnail: </b> "
      }
     },
     "22aaefb35d4f489f9377d5f3ce622746": {
      "model_module": "@jupyter-widgets/controls",
      "model_module_version": "1.5.0",
      "model_name": "HTMLModel",
      "state": {
       "layout": "IPY_MODEL_c9ef99fd50e64613b191ee9818d3f3e8",
       "style": "IPY_MODEL_b296380b94364639ae51cb185531a340",
       "value": "<a href=\"mailto: jupyter-info@icos-cp.eu\">jupyter-info@icos-cp.eu</a>, <a href=\"mailto: Steve.Jones@uib.no\">Steve.Jones@uib.no</a>"
      }
     },
     "22af09f8557f4ecead8af6c93a4fc906": {
      "model_module": "@jupyter-widgets/controls",
      "model_module_version": "1.5.0",
      "model_name": "HTMLModel",
      "state": {
       "layout": "IPY_MODEL_fe836aa4056d450d913c9933fd9ddfa9",
       "style": "IPY_MODEL_1c0ae2bbe6c5463391f04909d72cf382",
       "value": "<img src=\"./icos_jupyter_notebooks/ind_tools/img/04_proj_JNBs/envrifair_ws/timeseries/stilt_vs_icos_obs.PNG\">"
      }
     },
     "22cb56ad8db94611a4e4a3b305a6bb14": {
      "model_module": "@jupyter-widgets/controls",
      "model_module_version": "1.5.0",
      "model_name": "HTMLModel",
      "state": {
       "layout": "IPY_MODEL_b101fefe762f4acc85c128ffb7cc8e5b",
       "style": "IPY_MODEL_de1b06d35a654d1b8536c07dffc10a8f",
       "value": "<a href=./icos_jupyter_notebooks/explore_icos_atmObs.ipynb target='_blank'>Explore ICOS atmospheric observations</a>"
      }
     },
     "22e141a028bb4fbb98a512039be1959a": {
      "model_module": "@jupyter-widgets/controls",
      "model_module_version": "1.5.0",
      "model_name": "DescriptionStyleModel",
      "state": {
       "description_width": ""
      }
     },
     "22f4b278273d4d029ea4711927c088b8": {
      "model_module": "@jupyter-widgets/controls",
      "model_module_version": "1.5.0",
      "model_name": "DescriptionStyleModel",
      "state": {
       "description_width": ""
      }
     },
     "22fe9ea69d294301996b326d78a9454c": {
      "model_module": "@jupyter-widgets/base",
      "model_module_version": "1.2.0",
      "model_name": "LayoutModel",
      "state": {}
     },
     "2303922cec544ce1ba5e3409b5e41623": {
      "model_module": "@jupyter-widgets/base",
      "model_module_version": "1.2.0",
      "model_name": "LayoutModel",
      "state": {}
     },
     "23677d89587249d6bb9020242b15ed2f": {
      "model_module": "@jupyter-widgets/base",
      "model_module_version": "1.2.0",
      "model_name": "LayoutModel",
      "state": {}
     },
     "2369ffd3416d49559f9f919f4042f301": {
      "model_module": "@jupyter-widgets/base",
      "model_module_version": "1.2.0",
      "model_name": "LayoutModel",
      "state": {}
     },
     "23795793f5854b71a1088a23177ccfe9": {
      "model_module": "@jupyter-widgets/base",
      "model_module_version": "1.2.0",
      "model_name": "LayoutModel",
      "state": {}
     },
     "237a5980886a4bdf8fd82faa4c55bf0b": {
      "model_module": "@jupyter-widgets/controls",
      "model_module_version": "1.5.0",
      "model_name": "DescriptionStyleModel",
      "state": {
       "description_width": ""
      }
     },
     "237fb482d96442b08ae486d6028fd8cb": {
      "model_module": "@jupyter-widgets/base",
      "model_module_version": "1.2.0",
      "model_name": "LayoutModel",
      "state": {}
     },
     "23a6c75302304d758b426c28e9faebce": {
      "model_module": "@jupyter-widgets/base",
      "model_module_version": "1.2.0",
      "model_name": "LayoutModel",
      "state": {
       "grid_gap": "5px 10px",
       "grid_template_columns": "auto",
       "grid_template_rows": "auto",
       "padding": "5px 0px 5px 0px",
       "width": "100%"
      }
     },
     "23c862e10afd421b86c20590df632ef9": {
      "model_module": "@jupyter-widgets/controls",
      "model_module_version": "1.5.0",
      "model_name": "HTMLModel",
      "state": {
       "layout": "IPY_MODEL_89a796a73aee44acb5c53dd2246133ad",
       "style": "IPY_MODEL_0be6c33a889441299b937a0089f91b49",
       "value": "<b>Title: </b> "
      }
     },
     "23d905b4d80f4b809a760fac4a98f9ae": {
      "model_module": "@jupyter-widgets/base",
      "model_module_version": "1.2.0",
      "model_name": "LayoutModel",
      "state": {}
     },
     "23da910982d944158236ad2ebb1b0ae2": {
      "model_module": "@jupyter-widgets/controls",
      "model_module_version": "1.5.0",
      "model_name": "DescriptionStyleModel",
      "state": {
       "description_width": ""
      }
     },
     "23f544c6186d43888d4f1e4e63c04f82": {
      "model_module": "@jupyter-widgets/base",
      "model_module_version": "1.2.0",
      "model_name": "LayoutModel",
      "state": {}
     },
     "240be83e8c9846a78f75ede928a51bb8": {
      "model_module": "@jupyter-widgets/controls",
      "model_module_version": "1.5.0",
      "model_name": "HTMLModel",
      "state": {
       "layout": "IPY_MODEL_ff50c896e69d4206ada421badf1640d4",
       "style": "IPY_MODEL_213243ddc9c640eb883369b31bfdb786",
       "value": "<b>Contact: </b> "
      }
     },
     "2423117849eb4322b84c8e14edf514b9": {
      "model_module": "@jupyter-widgets/base",
      "model_module_version": "1.2.0",
      "model_name": "LayoutModel",
      "state": {}
     },
     "2423385a2b70440c867fd15a8033068f": {
      "model_module": "@jupyter-widgets/controls",
      "model_module_version": "1.5.0",
      "model_name": "GridBoxModel",
      "state": {
       "children": [
        "IPY_MODEL_c8b3ad53adb544acb95b52bfdbe5ed14",
        "IPY_MODEL_9a0b6649c51541e1bd37fc428c86d98b",
        "IPY_MODEL_ee82bcdd6c1348d3bcf25a61f0de49ae",
        "IPY_MODEL_79be398d095e42f7bdbd3e46294b8058",
        "IPY_MODEL_717ca2e027bd4d04bf3769f58c3d39cf",
        "IPY_MODEL_05a0385710bf4ae1ab131d9ae927600d",
        "IPY_MODEL_d7c8348e930f4c46a14a8543e748311c",
        "IPY_MODEL_ef665030eed34e9aabea7e3cb7b69c92",
        "IPY_MODEL_f4a036cfadbe4ae68f1f284d3b2f79eb",
        "IPY_MODEL_0196dd2061314d69b6623daeedff2757"
       ],
       "layout": "IPY_MODEL_030d0133bf454da48c01202235f4b1a4"
      }
     },
     "2429e327b39c4b8188190e1639889476": {
      "model_module": "@jupyter-widgets/base",
      "model_module_version": "1.2.0",
      "model_name": "LayoutModel",
      "state": {}
     },
     "24394e1fe73c4a1fa2062e6cace23c36": {
      "model_module": "@jupyter-widgets/controls",
      "model_module_version": "1.5.0",
      "model_name": "HTMLModel",
      "state": {
       "layout": "IPY_MODEL_b4855d99869a4430bddc6e77478b6472",
       "style": "IPY_MODEL_2831d735ac494c55abfcdf3f029923f0",
       "value": "<b>Title: </b> "
      }
     },
     "24511a2058434264b251a66daf5cfc4a": {
      "model_module": "@jupyter-widgets/base",
      "model_module_version": "1.2.0",
      "model_name": "LayoutModel",
      "state": {}
     },
     "245473b274db4d6fbc719f2a4a3b1357": {
      "model_module": "@jupyter-widgets/controls",
      "model_module_version": "1.5.0",
      "model_name": "DescriptionStyleModel",
      "state": {
       "description_width": ""
      }
     },
     "2468bdf65b7143a3b40469a9f11f4565": {
      "model_module": "@jupyter-widgets/controls",
      "model_module_version": "1.5.0",
      "model_name": "GridBoxModel",
      "state": {
       "children": [
        "IPY_MODEL_75986b5e03154cea9a39f3e6bfcd32a0",
        "IPY_MODEL_495d12c4d19a440b9d01ae889b8671b5"
       ],
       "layout": "IPY_MODEL_02f9680fce7e49978ad64012ad8dc40f"
      }
     },
     "2474d9f33d75430fa5a18bf7488f5bdb": {
      "model_module": "@jupyter-widgets/base",
      "model_module_version": "1.2.0",
      "model_name": "LayoutModel",
      "state": {}
     },
     "247714aaea2646b0bac88f0965adf85d": {
      "model_module": "@jupyter-widgets/base",
      "model_module_version": "1.2.0",
      "model_name": "LayoutModel",
      "state": {}
     },
     "247bdd568845444eab91805790867039": {
      "model_module": "@jupyter-widgets/controls",
      "model_module_version": "1.5.0",
      "model_name": "DescriptionStyleModel",
      "state": {
       "description_width": ""
      }
     },
     "248e6f4f149247d8a2770fc4bee1ea7c": {
      "model_module": "@jupyter-widgets/controls",
      "model_module_version": "1.5.0",
      "model_name": "DescriptionStyleModel",
      "state": {
       "description_width": ""
      }
     },
     "249f5ab4a05a4c7b87b653c33635d4e6": {
      "model_module": "@jupyter-widgets/base",
      "model_module_version": "1.2.0",
      "model_name": "LayoutModel",
      "state": {}
     },
     "24a3e808c9864e1d926dba03807faf3b": {
      "model_module": "@jupyter-widgets/base",
      "model_module_version": "1.2.0",
      "model_name": "LayoutModel",
      "state": {}
     },
     "24d62da011dd497ea9e9dbef8c348151": {
      "model_module": "@jupyter-widgets/controls",
      "model_module_version": "1.5.0",
      "model_name": "HTMLModel",
      "state": {
       "layout": "IPY_MODEL_344f7188b353412eb87712074431027a",
       "style": "IPY_MODEL_6ccbcf285a494e9896bc3c71b47ad8fc",
       "value": "<b>GitHub: </b> "
      }
     },
     "24f689355c714c25995f159564c220b6": {
      "model_module": "@jupyter-widgets/controls",
      "model_module_version": "1.5.0",
      "model_name": "HTMLModel",
      "state": {
       "layout": "IPY_MODEL_94842f633d414e05b9b1e459f22a1085",
       "style": "IPY_MODEL_e34abe18c45a40839187c730871155cc",
       "value": "<img src=\"./icos_jupyter_notebooks/ind_tools/img/04_proj_JNBs/otc_drw/ex3.PNG\">"
      }
     },
     "24fa14fde2714ddd9b309e2b1ef7f66c": {
      "model_module": "@jupyter-widgets/base",
      "model_module_version": "1.2.0",
      "model_name": "LayoutModel",
      "state": {}
     },
     "251965995f2a47d8afec672a7bb72915": {
      "model_module": "@jupyter-widgets/controls",
      "model_module_version": "1.5.0",
      "model_name": "HTMLModel",
      "state": {
       "layout": "IPY_MODEL_c0eff5efb868494d94fe0f0ce5317baf",
       "style": "IPY_MODEL_eaf62aae9b2141719b4ff7a43e93b013",
       "value": "Includes notebooks presenting an evaluation of different sampling strategies related to the RINGO research project."
      }
     },
     "253b7665ad9b4d459fb3b3ef066f35a3": {
      "model_module": "@jupyter-widgets/base",
      "model_module_version": "1.2.0",
      "model_name": "LayoutModel",
      "state": {}
     },
     "255e166b23854f718436f487be391a1c": {
      "model_module": "@jupyter-widgets/controls",
      "model_module_version": "1.5.0",
      "model_name": "GridBoxModel",
      "state": {
       "children": [
        "IPY_MODEL_5b4a64ea10c2404f885ff39c16310151",
        "IPY_MODEL_01e4eccd9abd4e23ab8bad933ce94261"
       ],
       "layout": "IPY_MODEL_6e32144e1b3b4139a272d03edd7e2fad"
      }
     },
     "2593e4938d9b4575b9f7828f82107700": {
      "model_module": "@jupyter-widgets/controls",
      "model_module_version": "1.5.0",
      "model_name": "DescriptionStyleModel",
      "state": {
       "description_width": ""
      }
     },
     "25a2ae9a3a354e07b8c0efe09c6e317f": {
      "model_module": "@jupyter-widgets/controls",
      "model_module_version": "1.5.0",
      "model_name": "DescriptionStyleModel",
      "state": {
       "description_width": ""
      }
     },
     "25ce82dbe6f34b7aa863f7e84d872b8d": {
      "model_module": "@jupyter-widgets/controls",
      "model_module_version": "1.5.0",
      "model_name": "DescriptionStyleModel",
      "state": {
       "description_width": ""
      }
     },
     "25e00679eb3f4d248b04b95827999be8": {
      "model_module": "@jupyter-widgets/controls",
      "model_module_version": "1.5.0",
      "model_name": "HTMLModel",
      "state": {
       "layout": "IPY_MODEL_06e834fc12b04a79984b620c3030ef3a",
       "style": "IPY_MODEL_7d1a18877f9149a89daa0c565531f2ba",
       "value": "<a href='https://github.com/ICOS-Carbon-Portal/jupyter/issues' target='_blank'>Click here to report an issue</a>"
      }
     },
     "25f66e0f9d6742db98179cddc209d5c2": {
      "model_module": "@jupyter-widgets/base",
      "model_module_version": "1.2.0",
      "model_name": "LayoutModel",
      "state": {}
     },
     "25fd815141804471a9f1cfd5d300a486": {
      "model_module": "@jupyter-widgets/base",
      "model_module_version": "1.2.0",
      "model_name": "LayoutModel",
      "state": {}
     },
     "25ffd9334c2a4363a332b62ca713a302": {
      "model_module": "@jupyter-widgets/controls",
      "model_module_version": "1.5.0",
      "model_name": "GridBoxModel",
      "state": {
       "children": [
        "IPY_MODEL_2012ed2b587743fabf06e19121a16434",
        "IPY_MODEL_e6ea5af632e74a7b88b9fc5cebbfdf14"
       ],
       "layout": "IPY_MODEL_1e8143eb781f4b668e2bb7c20b9eafcf"
      }
     },
     "261242c683e84115adcef5585d209351": {
      "model_module": "@jupyter-widgets/base",
      "model_module_version": "1.2.0",
      "model_name": "LayoutModel",
      "state": {
       "grid_gap": "5px 10px",
       "grid_template_columns": "100px auto",
       "grid_template_rows": "auto auto auto auto auto",
       "padding": "50px 0px 70px 0px",
       "width": "100%"
      }
     },
     "263a7a05a9ab42589887c653f9d56230": {
      "model_module": "@jupyter-widgets/controls",
      "model_module_version": "1.5.0",
      "model_name": "HTMLModel",
      "state": {
       "layout": "IPY_MODEL_0d35a3966a13446184ffb23ceb8bac96",
       "style": "IPY_MODEL_1db5a322a4d14013843f02c90aee510a",
       "value": "<img src=\"./icos_jupyter_notebooks/ind_tools/img/04_proj_JNBs/otc_drw/ex4.PNG\">"
      }
     },
     "263db5a49605423babdaca340426efe2": {
      "model_module": "@jupyter-widgets/base",
      "model_module_version": "1.2.0",
      "model_name": "LayoutModel",
      "state": {
       "grid_gap": "5px 10px",
       "grid_template_columns": "100px auto",
       "grid_template_rows": "auto auto auto auto auto",
       "padding": "50px 0px 70px 0px",
       "width": "100%"
      }
     },
     "264051697d18460ebf904b054a471eb5": {
      "model_module": "@jupyter-widgets/base",
      "model_module_version": "1.2.0",
      "model_name": "LayoutModel",
      "state": {}
     },
     "266959cd7a7548b09e1c0b652d4dfaf6": {
      "model_module": "@jupyter-widgets/controls",
      "model_module_version": "1.5.0",
      "model_name": "DescriptionStyleModel",
      "state": {
       "description_width": ""
      }
     },
     "2677a038e79c4f3ea34190bc287b2286": {
      "model_module": "@jupyter-widgets/controls",
      "model_module_version": "1.5.0",
      "model_name": "HTMLModel",
      "state": {
       "layout": "IPY_MODEL_7288804058414bc19ac57b7cb394bccf",
       "style": "IPY_MODEL_eec5554348fa49f7b6c15c814a549979",
       "value": "<a href=./education/PhD/upscaling_carbon_fluxes/notebooks/exercise2.ipynb target='_blank'>Vegetation modelling & inverse modelling</a>"
      }
     },
     "26826caacc8e4600a87a4f84245efb88": {
      "model_module": "@jupyter-widgets/controls",
      "model_module_version": "1.5.0",
      "model_name": "DescriptionStyleModel",
      "state": {
       "description_width": ""
      }
     },
     "2682778a28e74537a4a41ef3e827505d": {
      "model_module": "@jupyter-widgets/controls",
      "model_module_version": "1.5.0",
      "model_name": "DescriptionStyleModel",
      "state": {
       "description_width": ""
      }
     },
     "26c9633e39404e62a1cc7e6bf1158cda": {
      "model_module": "@jupyter-widgets/base",
      "model_module_version": "1.2.0",
      "model_name": "LayoutModel",
      "state": {}
     },
     "26fb5ee88a0241e18253dc311a6b9fb4": {
      "model_module": "@jupyter-widgets/controls",
      "model_module_version": "1.5.0",
      "model_name": "HTMLModel",
      "state": {
       "layout": "IPY_MODEL_6855df64eb8d47af9ad34583257ead5a",
       "style": "IPY_MODEL_237a5980886a4bdf8fd82faa4c55bf0b",
       "value": "Includes notebooks from the Ocean Thematic Centre on how to calibrate and process data for flux measurements."
      }
     },
     "27074123279d43a4abf85e33b12826cf": {
      "model_module": "@jupyter-widgets/base",
      "model_module_version": "1.2.0",
      "model_name": "LayoutModel",
      "state": {}
     },
     "2709860d540d4960a98e278c89065a94": {
      "model_module": "@jupyter-widgets/base",
      "model_module_version": "1.2.0",
      "model_name": "LayoutModel",
      "state": {}
     },
     "27ae3ecbbf7b4cf3befc700b4f4650c0": {
      "model_module": "@jupyter-widgets/base",
      "model_module_version": "1.2.0",
      "model_name": "LayoutModel",
      "state": {}
     },
     "27c80050acc5485e915f42e9a0329d93": {
      "model_module": "@jupyter-widgets/controls",
      "model_module_version": "1.5.0",
      "model_name": "HTMLModel",
      "state": {
       "layout": "IPY_MODEL_f3ca4d6d77b24c818c791bebbe371a73",
       "style": "IPY_MODEL_8ff051e606a84e73b354da15dc8e626c",
       "value": "<b>Title: </b> "
      }
     },
     "27d702ec2efc405bad4246653bbf8e87": {
      "model_module": "@jupyter-widgets/base",
      "model_module_version": "1.2.0",
      "model_name": "LayoutModel",
      "state": {
       "grid_gap": "5px 10px",
       "grid_template_columns": "100px auto",
       "grid_template_rows": "auto auto auto auto",
       "padding": "50px 0px 70px 0px",
       "width": "100%"
      }
     },
     "27fc15a0be224af5bbab12732498cad6": {
      "model_module": "@jupyter-widgets/controls",
      "model_module_version": "1.5.0",
      "model_name": "DescriptionStyleModel",
      "state": {
       "description_width": ""
      }
     },
     "282f823a24d149bba3fe8a412d514529": {
      "model_module": "@jupyter-widgets/base",
      "model_module_version": "1.2.0",
      "model_name": "LayoutModel",
      "state": {}
     },
     "2831d735ac494c55abfcdf3f029923f0": {
      "model_module": "@jupyter-widgets/controls",
      "model_module_version": "1.5.0",
      "model_name": "DescriptionStyleModel",
      "state": {
       "description_width": ""
      }
     },
     "283809b8572840478ab12feb9c7ec4e3": {
      "model_module": "@jupyter-widgets/controls",
      "model_module_version": "1.5.0",
      "model_name": "HTMLModel",
      "state": {
       "layout": "IPY_MODEL_e9bb81715fc84e1f912c27d523f4cc5f",
       "style": "IPY_MODEL_9b539977163b482db3ec5ec1cf81f84b",
       "value": "<b>GitHub: </b> "
      }
     },
     "283ba20370fb4d28aec6bdf9ab6344ac": {
      "model_module": "@jupyter-widgets/controls",
      "model_module_version": "1.5.0",
      "model_name": "DescriptionStyleModel",
      "state": {
       "description_width": ""
      }
     },
     "28447131ac7b43dfb17178f97623f900": {
      "model_module": "@jupyter-widgets/base",
      "model_module_version": "1.2.0",
      "model_name": "LayoutModel",
      "state": {}
     },
     "2858eb38e7324135a2b87f0521e3ab3a": {
      "model_module": "@jupyter-widgets/controls",
      "model_module_version": "1.5.0",
      "model_name": "HTMLModel",
      "state": {
       "layout": "IPY_MODEL_1748ef175ea948088a9ea6fde82568af",
       "style": "IPY_MODEL_44f2728021cf47ed852aa4d1d290a65c",
       "value": "<b>Title: </b> "
      }
     },
     "2877217c1bec4acbbc3c63909a246fde": {
      "model_module": "@jupyter-widgets/controls",
      "model_module_version": "1.5.0",
      "model_name": "HTMLModel",
      "state": {
       "layout": "IPY_MODEL_22fe9ea69d294301996b326d78a9454c",
       "style": "IPY_MODEL_bd648139cf9f4de6808f32b58a39430e",
       "value": "<b>Thumbnail: </b> "
      }
     },
     "287cb19e53fe46ea80e9480bcc8ab8c4": {
      "model_module": "@jupyter-widgets/base",
      "model_module_version": "1.2.0",
      "model_name": "LayoutModel",
      "state": {}
     },
     "288226bcb985484d83fcf80fd2b29aba": {
      "model_module": "@jupyter-widgets/controls",
      "model_module_version": "1.5.0",
      "model_name": "HTMLModel",
      "state": {
       "layout": "IPY_MODEL_ea8f7e68b9b94f6ba23f7aa9f3af1332",
       "style": "IPY_MODEL_de6b62612aab478e8079c11bd6664105",
       "value": "<b>Description: </b> "
      }
     },
     "2884feec23f34c46a0d78df4d0dc7d50": {
      "model_module": "@jupyter-widgets/base",
      "model_module_version": "1.2.0",
      "model_name": "LayoutModel",
      "state": {
       "grid_gap": "5px 10px",
       "grid_template_columns": "100px auto",
       "grid_template_rows": "auto auto auto auto auto",
       "padding": "50px 0px 70px 0px",
       "width": "100%"
      }
     },
     "28a7009b7e5e480bbb4c42f56590a167": {
      "model_module": "@jupyter-widgets/controls",
      "model_module_version": "1.5.0",
      "model_name": "DescriptionStyleModel",
      "state": {
       "description_width": ""
      }
     },
     "28b00e53e4a74987874491ce64b32742": {
      "model_module": "@jupyter-widgets/base",
      "model_module_version": "1.2.0",
      "model_name": "LayoutModel",
      "state": {}
     },
     "28c5759c51214b17832da2395a83267c": {
      "model_module": "@jupyter-widgets/controls",
      "model_module_version": "1.5.0",
      "model_name": "DescriptionStyleModel",
      "state": {
       "description_width": ""
      }
     },
     "28c922b9d0f540d7861f3a1e51fdae06": {
      "model_module": "@jupyter-widgets/controls",
      "model_module_version": "1.5.0",
      "model_name": "DescriptionStyleModel",
      "state": {
       "description_width": ""
      }
     },
     "28ce5b8116de4b4fa977aa6f4cfaf8b2": {
      "model_module": "@jupyter-widgets/controls",
      "model_module_version": "1.5.0",
      "model_name": "HTMLModel",
      "state": {
       "layout": "IPY_MODEL_d3671c35c59842789b3625f1e5bd127e",
       "style": "IPY_MODEL_e51f03014b794289bb7471f8a0c8b525",
       "value": "<a href=\"mailto: jupyter-info@icos-cp.eu\">jupyter-info@icos-cp.eu</a>"
      }
     },
     "28d68f5a76bf4054a9f2ab1f06379bec": {
      "model_module": "@jupyter-widgets/controls",
      "model_module_version": "1.5.0",
      "model_name": "DescriptionStyleModel",
      "state": {
       "description_width": ""
      }
     },
     "28f75b43ce154c4facdec4f32c9419c8": {
      "model_module": "@jupyter-widgets/base",
      "model_module_version": "1.2.0",
      "model_name": "LayoutModel",
      "state": {}
     },
     "28f762caff3b4902b87aefc1b519e66f": {
      "model_module": "@jupyter-widgets/controls",
      "model_module_version": "1.5.0",
      "model_name": "HTMLModel",
      "state": {
       "layout": "IPY_MODEL_b12e6f9c7ddf4f1590c9eae2c2247810",
       "style": "IPY_MODEL_d7f5df066e6945e7acde4f9eaef1519e",
       "value": "<a href=./pylib_examples/ex4_collection.ipynb target='_blank'>ICOS Carbon Portal Python Library - Access data and metadata of collections</a>"
      }
     },
     "2919337e380f414884fe3d1812001504": {
      "model_module": "@jupyter-widgets/controls",
      "model_module_version": "1.5.0",
      "model_name": "HTMLModel",
      "state": {
       "layout": "IPY_MODEL_c86e420470334360bc9ac64c85196f79",
       "style": "IPY_MODEL_1080bf51a0664998b85c48c4b9147da8",
       "value": "<a href=\"mailto: jupyter-info@icos-cp.eu\">jupyter-info@icos-cp.eu</a>, <a href=\"mailto: Steve.Jones@uib.no\">Steve.Jones@uib.no</a>"
      }
     },
     "293ef2f336794d36ab1b2da27576cf99": {
      "model_module": "@jupyter-widgets/controls",
      "model_module_version": "1.5.0",
      "model_name": "HTMLModel",
      "state": {
       "layout": "IPY_MODEL_4d50b9f9cbaa4e72816f5a440f537951",
       "style": "IPY_MODEL_1d3082e89e1e414382a90bc05a5356ac",
       "value": "<b>Thumbnail: </b> "
      }
     },
     "294b8cb5bd564fef89b5412222c46635": {
      "model_module": "@jupyter-widgets/controls",
      "model_module_version": "1.5.0",
      "model_name": "DescriptionStyleModel",
      "state": {
       "description_width": ""
      }
     },
     "2953d5c40d464151a69a85e37fcaed29": {
      "model_module": "@jupyter-widgets/controls",
      "model_module_version": "1.5.0",
      "model_name": "HTMLModel",
      "state": {
       "layout": "IPY_MODEL_7a25dfe052824c95b48abced7162312f",
       "style": "IPY_MODEL_41afc0e6c8724fa1a47d51cb305871d1",
       "value": "This notebook contains exercises for the <b>OTC Data Reduction Workshop</b> using a data set from a real sensor."
      }
     },
     "2954098ca0e147a586a9061825e0b43d": {
      "model_module": "@jupyter-widgets/base",
      "model_module_version": "1.2.0",
      "model_name": "LayoutModel",
      "state": {}
     },
     "2986b899e21b4e29a25b0100ae795a0a": {
      "model_module": "@jupyter-widgets/controls",
      "model_module_version": "1.5.0",
      "model_name": "DescriptionStyleModel",
      "state": {
       "description_width": ""
      }
     },
     "299b799ba611401f8fb4d9cfc0bae24f": {
      "model_module": "@jupyter-widgets/controls",
      "model_module_version": "1.5.0",
      "model_name": "DescriptionStyleModel",
      "state": {
       "description_width": ""
      }
     },
     "299bc7d8bc584286b71014329946e2be": {
      "model_module": "@jupyter-widgets/controls",
      "model_module_version": "1.5.0",
      "model_name": "HTMLModel",
      "state": {
       "layout": "IPY_MODEL_bb68d1527b6440deb6c4705ceb891d72",
       "style": "IPY_MODEL_4959c217238247238e1a22935106bcae",
       "value": "<a href=\"mailto: jupyter-info@icos-cp.eu\">jupyter-info@icos-cp.eu</a>"
      }
     },
     "29d67aafda72471d97502f5d66e477f0": {
      "model_module": "@jupyter-widgets/controls",
      "model_module_version": "1.5.0",
      "model_name": "DescriptionStyleModel",
      "state": {
       "description_width": ""
      }
     },
     "29e402a9ec20456da5272f134db1f789": {
      "model_module": "@jupyter-widgets/controls",
      "model_module_version": "1.5.0",
      "model_name": "HTMLModel",
      "state": {
       "layout": "IPY_MODEL_70594a5538724812a42d150feecedb5b",
       "style": "IPY_MODEL_440815fb04014e2292fafec7eb3a1494",
       "value": "In this exercise you will learn how to read data from csv-files to Pandas DataFrames (i.e. two-dimensional arrays) using Python. You will also learn how to process data in your Pandas DataFrame and create static plots with Matplotlib. You will then be able to use the these tools to statisitcally compare measurements from different stations in northern Europe. Follow the link to get a quick overview over how NPP, GPP and Respiration are defined and related."
      }
     },
     "29e558b60c58496a967f3e6a1ab0f23c": {
      "model_module": "@jupyter-widgets/controls",
      "model_module_version": "1.5.0",
      "model_name": "GridBoxModel",
      "state": {
       "children": [
        "IPY_MODEL_1f7075d2cdbb4a3a8faf912038821b03",
        "IPY_MODEL_6bd81d28e52a4d55ac2f3d1b85bd2ea2"
       ],
       "layout": "IPY_MODEL_97a99efb58ca49ce8308bc0504b0383b"
      }
     },
     "29e9a5d0406f4d88bbb35fc5e952fe55": {
      "model_module": "@jupyter-widgets/controls",
      "model_module_version": "1.5.0",
      "model_name": "DescriptionStyleModel",
      "state": {
       "description_width": ""
      }
     },
     "2a15909de23e44c6ba0a98c8f5a5a52e": {
      "model_module": "@jupyter-widgets/base",
      "model_module_version": "1.2.0",
      "model_name": "LayoutModel",
      "state": {}
     },
     "2a768e1058a2419e9e89316f13df4ef9": {
      "model_module": "@jupyter-widgets/controls",
      "model_module_version": "1.5.0",
      "model_name": "HTMLModel",
      "state": {
       "layout": "IPY_MODEL_01b8262141504776a7c6e2601d788097",
       "style": "IPY_MODEL_6bb53d4130274286864ab2d0367a2ba2",
       "value": "<a href=./pylib_examples/ex6a_STILT_find.ipynb target='_blank'>ICOS Carbon Portal Python Library - STILT</a>"
      }
     },
     "2a8675e894ef44d39a3f4eba9ebe1073": {
      "model_module": "@jupyter-widgets/controls",
      "model_module_version": "1.5.0",
      "model_name": "HTMLModel",
      "state": {
       "layout": "IPY_MODEL_3904637bc6e14450a073b6d328d5306e",
       "style": "IPY_MODEL_88cf1468bc7842ce9e4d68883f139c3d",
       "value": "<img src=\"./icos_jupyter_notebooks/ind_tools/img/05_education/msc_bsc/drought2018/bokeh_plot_widgets.png\">"
      }
     },
     "2ab9a8da654e4c80b3b5da99e424b498": {
      "model_module": "@jupyter-widgets/base",
      "model_module_version": "1.2.0",
      "model_name": "LayoutModel",
      "state": {}
     },
     "2aba04eeb2b84691a82dc93319460797": {
      "model_module": "@jupyter-widgets/controls",
      "model_module_version": "1.5.0",
      "model_name": "DescriptionStyleModel",
      "state": {
       "description_width": ""
      }
     },
     "2ac0ceb223d943929e5b548d65bc38a1": {
      "model_module": "@jupyter-widgets/base",
      "model_module_version": "1.2.0",
      "model_name": "LayoutModel",
      "state": {}
     },
     "2ad37b9f7f8f49aaabf8b1723542223b": {
      "model_module": "@jupyter-widgets/base",
      "model_module_version": "1.2.0",
      "model_name": "LayoutModel",
      "state": {}
     },
     "2adf261449fc4a95bc51e44a07409fad": {
      "model_module": "@jupyter-widgets/controls",
      "model_module_version": "1.5.0",
      "model_name": "AccordionModel",
      "state": {
       "_titles": {
        "0": "ICOS observations vs STILT model output"
       },
       "children": [
        "IPY_MODEL_d0b966306ede446e9a69b96ab2752269"
       ],
       "layout": "IPY_MODEL_ca6d4e2145244543ba619dd720d650e6",
       "selected_index": null
      }
     },
     "2ae7648fad2f4084be42991613adefd3": {
      "model_module": "@jupyter-widgets/base",
      "model_module_version": "1.2.0",
      "model_name": "LayoutModel",
      "state": {}
     },
     "2b37a83929fd4fa9b0bdc75104afe4dc": {
      "model_module": "@jupyter-widgets/controls",
      "model_module_version": "1.5.0",
      "model_name": "DescriptionStyleModel",
      "state": {
       "description_width": ""
      }
     },
     "2b3e5a58616c4706914656c852daa721": {
      "model_module": "@jupyter-widgets/controls",
      "model_module_version": "1.5.0",
      "model_name": "DescriptionStyleModel",
      "state": {
       "description_width": ""
      }
     },
     "2b6d53823bf04b728b9135fcfdf92543": {
      "model_module": "@jupyter-widgets/base",
      "model_module_version": "1.2.0",
      "model_name": "LayoutModel",
      "state": {}
     },
     "2b7995efcf6d464f838a793b0f81ed12": {
      "model_module": "@jupyter-widgets/controls",
      "model_module_version": "1.5.0",
      "model_name": "HTMLModel",
      "state": {
       "layout": "IPY_MODEL_a710bc08edfa49fe83c9235f16003ed5",
       "style": "IPY_MODEL_b646073cd3ba4ac3a3231c1f8b864cb1",
       "value": "<a href=\"mailto: jupyter-info@icos-cp.eu\">jupyter-info@icos-cp.eu</a>, <a href=\"mailto: Maj-Lena.Linderson@nateko.lu.se\">Maj-Lena.Linderson@nateko.lu.se</a>"
      }
     },
     "2b8c6f1a82554ed0bef9ac4d6e07f3d3": {
      "model_module": "@jupyter-widgets/base",
      "model_module_version": "1.2.0",
      "model_name": "LayoutModel",
      "state": {
       "grid_gap": "5px 10px",
       "grid_template_columns": "100px auto",
       "grid_template_rows": "auto auto auto auto auto",
       "padding": "50px 0px 70px 0px",
       "width": "100%"
      }
     },
     "2b995ab6542d4ee9bd894c94ed855e11": {
      "model_module": "@jupyter-widgets/controls",
      "model_module_version": "1.5.0",
      "model_name": "DescriptionStyleModel",
      "state": {
       "description_width": ""
      }
     },
     "2baf86afb36e482187dbe2954af52ad3": {
      "model_module": "@jupyter-widgets/base",
      "model_module_version": "1.2.0",
      "model_name": "LayoutModel",
      "state": {}
     },
     "2bef9c105102452d9698e4007f651b87": {
      "model_module": "@jupyter-widgets/controls",
      "model_module_version": "1.5.0",
      "model_name": "HTMLModel",
      "state": {
       "layout": "IPY_MODEL_7efb20381da747bea6bbe4eb132e2b28",
       "style": "IPY_MODEL_64fd722118474fe693182ce6b26a6307",
       "value": "<b>Thumbnail: </b> "
      }
     },
     "2bf0e4a863ea4adcb8c4b624b0f673fc": {
      "model_module": "@jupyter-widgets/controls",
      "model_module_version": "1.5.0",
      "model_name": "DescriptionStyleModel",
      "state": {
       "description_width": ""
      }
     },
     "2bf2930d770b41db9914633607dbcf6b": {
      "model_module": "@jupyter-widgets/controls",
      "model_module_version": "1.5.0",
      "model_name": "HTMLModel",
      "state": {
       "layout": "IPY_MODEL_cdb71afe72db40dcb73a7ed41053bef8",
       "style": "IPY_MODEL_c4cc1646f4a84b329384de2e92b8af22",
       "value": "<a href=./education/PhD/upscaling_carbon_fluxes/notebooks/htm_eco_drought_2018.ipynb target='_blank'>Drought 2018 - ICOS ecosystem data from Hyltemossa</a>"
      }
     },
     "2c0a4d4324ca47f0915cff7c508556e5": {
      "model_module": "@jupyter-widgets/controls",
      "model_module_version": "1.5.0",
      "model_name": "DescriptionStyleModel",
      "state": {
       "description_width": ""
      }
     },
     "2c1cbd7f49cb44a2b21cb6b62e5f8964": {
      "model_module": "@jupyter-widgets/controls",
      "model_module_version": "1.5.0",
      "model_name": "DescriptionStyleModel",
      "state": {
       "description_width": ""
      }
     },
     "2c207d16e0c640a089d19c2720f8075f": {
      "model_module": "@jupyter-widgets/controls",
      "model_module_version": "1.5.0",
      "model_name": "HTMLModel",
      "state": {
       "layout": "IPY_MODEL_0a78a4a8323b4025bc258dae78b00eb2",
       "style": "IPY_MODEL_7753f52b4e3649b8a4f45a8af8942774",
       "value": "<b>Contact: </b> "
      }
     },
     "2c2202f79d154d08b466d296a8bf1878": {
      "model_module": "@jupyter-widgets/controls",
      "model_module_version": "1.5.0",
      "model_name": "HTMLModel",
      "state": {
       "layout": "IPY_MODEL_fa16073fac4b4400b1d894f0edd06289",
       "style": "IPY_MODEL_b5d7b9910e034529b33ed7c094794422",
       "value": "<a href=\"mailto: jupyter-info@icos-cp.eu\">jupyter-info@icos-cp.eu</a>"
      }
     },
     "2c29fe2e51ad41829bc01ffe3728c3ab": {
      "model_module": "@jupyter-widgets/controls",
      "model_module_version": "1.5.0",
      "model_name": "DescriptionStyleModel",
      "state": {
       "description_width": ""
      }
     },
     "2c3153dc1abc4c07b7fc3433968defdd": {
      "model_module": "@jupyter-widgets/base",
      "model_module_version": "1.2.0",
      "model_name": "LayoutModel",
      "state": {}
     },
     "2c38796786634ba690fc00112c5eba9f": {
      "model_module": "@jupyter-widgets/controls",
      "model_module_version": "1.5.0",
      "model_name": "GridBoxModel",
      "state": {
       "children": [
        "IPY_MODEL_7378bb3e48164e9897afdef460c1bc36",
        "IPY_MODEL_a7e878bbba634a838cb80a9c131d5a59",
        "IPY_MODEL_574581b54c0e4d8e94733ed2e78436d3",
        "IPY_MODEL_7b30905655654e3c8ea5c27c8d2d076d",
        "IPY_MODEL_549ebd48ab6d4902bb0bda9c1411755d",
        "IPY_MODEL_b017390182e6407c9d01e3d9f56bc9fd",
        "IPY_MODEL_4dda87072b164f7cb3627c1e58d91547",
        "IPY_MODEL_c8b7864205174cedb00c460dab6ec06d",
        "IPY_MODEL_988dc457569548209c9e32a4ac1e50a2",
        "IPY_MODEL_e2a618842ecd461e99ab258f27136883"
       ],
       "layout": "IPY_MODEL_db5779c242ad48bc8e0485bc0e128f7f"
      }
     },
     "2c5ccfb8f593455596fd8305e3f47310": {
      "model_module": "@jupyter-widgets/controls",
      "model_module_version": "1.5.0",
      "model_name": "HTMLModel",
      "state": {
       "layout": "IPY_MODEL_1660073c5e844776b2c853fb5ade4ba8",
       "style": "IPY_MODEL_8e2c8382de494ce6a62a31cfc186532e",
       "value": "<a href='https://github.com/ICOS-Carbon-Portal/jupyter/issues' target='_blank'>Click here to report an issue</a>"
      }
     },
     "2c6a735586c04a84aae843fd26f16271": {
      "model_module": "@jupyter-widgets/base",
      "model_module_version": "1.2.0",
      "model_name": "LayoutModel",
      "state": {}
     },
     "2c77bbc7ba9347c3b752bc83ea74b564": {
      "model_module": "@jupyter-widgets/controls",
      "model_module_version": "1.5.0",
      "model_name": "HTMLModel",
      "state": {
       "layout": "IPY_MODEL_7a9cc6243c704d328ed3906cc0b24a13",
       "style": "IPY_MODEL_666111f115ff4765bb142ad7ed209bc3",
       "value": "<a href=./icos_jupyter_notebooks/network_characterization.ipynb target='_blank'>Characterization of networks of atmospheric measurement stations</a>"
      }
     },
     "2c77e8b4fdfc49daa9ff7dcb4353654e": {
      "model_module": "@jupyter-widgets/controls",
      "model_module_version": "1.5.0",
      "model_name": "DescriptionStyleModel",
      "state": {
       "description_width": ""
      }
     },
     "2c9277c9e4d44561a84d662f720cbdfc": {
      "model_module": "@jupyter-widgets/controls",
      "model_module_version": "1.5.0",
      "model_name": "HTMLModel",
      "state": {
       "layout": "IPY_MODEL_7f1e9a0f73494f2dae4d8934cb42c7ae",
       "style": "IPY_MODEL_9966c23817e54583ad7c62607dc13542",
       "value": "<img src=\"./icos_jupyter_notebooks/ind_tools/img/03_icos_JNBs/icos_avail_table/at_co2_meteo.PNG\">"
      }
     },
     "2c970372d1c3444e9717d3958c4d3548": {
      "model_module": "@jupyter-widgets/base",
      "model_module_version": "1.2.0",
      "model_name": "LayoutModel",
      "state": {}
     },
     "2cb7865629ea44b29588044b0824c0e7": {
      "model_module": "@jupyter-widgets/controls",
      "model_module_version": "1.5.0",
      "model_name": "DescriptionStyleModel",
      "state": {
       "description_width": ""
      }
     },
     "2ce40059f16040a7ad628975a4590574": {
      "model_module": "@jupyter-widgets/base",
      "model_module_version": "1.2.0",
      "model_name": "LayoutModel",
      "state": {}
     },
     "2d130cb7311045f9a7f7f9e9c8930ada": {
      "model_module": "@jupyter-widgets/controls",
      "model_module_version": "1.5.0",
      "model_name": "DescriptionStyleModel",
      "state": {
       "description_width": ""
      }
     },
     "2d3e46dc39394af19cc0efd895db39c6": {
      "model_module": "@jupyter-widgets/controls",
      "model_module_version": "1.5.0",
      "model_name": "HTMLModel",
      "state": {
       "layout": "IPY_MODEL_393ac848cd46404db53545fb25f52df4",
       "style": "IPY_MODEL_887bb878ffe24a74beb9dcb83d01ec4e",
       "value": "<b>Thumbnail: </b> "
      }
     },
     "2d421266a13942f18729be778f3358fb": {
      "model_module": "@jupyter-widgets/controls",
      "model_module_version": "1.5.0",
      "model_name": "DescriptionStyleModel",
      "state": {
       "description_width": ""
      }
     },
     "2d509b77b2bb4b739da0cc9081929dde": {
      "model_module": "@jupyter-widgets/base",
      "model_module_version": "1.2.0",
      "model_name": "LayoutModel",
      "state": {}
     },
     "2d59aee7c5094d628bc2df2867b2b350": {
      "model_module": "@jupyter-widgets/controls",
      "model_module_version": "1.5.0",
      "model_name": "DescriptionStyleModel",
      "state": {
       "description_width": ""
      }
     },
     "2d5c0de30d3c483bb8c4439f1f055999": {
      "model_module": "@jupyter-widgets/base",
      "model_module_version": "1.2.0",
      "model_name": "LayoutModel",
      "state": {}
     },
     "2d84e87045154c5ab2907ce68b672ca7": {
      "model_module": "@jupyter-widgets/base",
      "model_module_version": "1.2.0",
      "model_name": "LayoutModel",
      "state": {}
     },
     "2d93b90b9d114d5aa73ef89aabfb71c8": {
      "model_module": "@jupyter-widgets/controls",
      "model_module_version": "1.5.0",
      "model_name": "HTMLModel",
      "state": {
       "layout": "IPY_MODEL_2d509b77b2bb4b739da0cc9081929dde",
       "style": "IPY_MODEL_39380238941a4f0eb63017e4f3d4b75f",
       "value": "<b>Thumbnail: </b> "
      }
     },
     "2d9a86a97afe4fd4b6c43f374d85c07c": {
      "model_module": "@jupyter-widgets/controls",
      "model_module_version": "1.5.0",
      "model_name": "DescriptionStyleModel",
      "state": {
       "description_width": ""
      }
     },
     "2da33aba71ca437681dccc7b6ec67c0a": {
      "model_module": "@jupyter-widgets/base",
      "model_module_version": "1.2.0",
      "model_name": "LayoutModel",
      "state": {}
     },
     "2db38c58de3b41ff8440c9108102189d": {
      "model_module": "@jupyter-widgets/base",
      "model_module_version": "1.2.0",
      "model_name": "LayoutModel",
      "state": {}
     },
     "2dbdd42660a34ff48000a15849923623": {
      "model_module": "@jupyter-widgets/controls",
      "model_module_version": "1.5.0",
      "model_name": "DescriptionStyleModel",
      "state": {
       "description_width": ""
      }
     },
     "2dd498f90eab4a73829f4970954f120f": {
      "model_module": "@jupyter-widgets/controls",
      "model_module_version": "1.5.0",
      "model_name": "HTMLModel",
      "state": {
       "layout": "IPY_MODEL_3ba8485857f748ae81e880a0e6320b44",
       "style": "IPY_MODEL_933330e8ddc849a5a1dfe8381694bc1d",
       "value": "Notebooks under this category include examples on how to use the ICOS Carbon Portal Python library (i.e. library that provides access to ICOS data products)"
      }
     },
     "2deef7d9711e4e15b3238a8d247bf11e": {
      "model_module": "@jupyter-widgets/controls",
      "model_module_version": "1.5.0",
      "model_name": "HTMLModel",
      "state": {
       "layout": "IPY_MODEL_e16c106727614a1886e2ac604801f5b4",
       "style": "IPY_MODEL_0688b71bfb754072bdd038b423b03ffa",
       "value": "<b>Contact: </b> "
      }
     },
     "2df1bb7f0e324e4ababbf6f1df93e7c8": {
      "model_module": "@jupyter-widgets/base",
      "model_module_version": "1.2.0",
      "model_name": "LayoutModel",
      "state": {}
     },
     "2dfb01ded96444e68396a8321056cd6d": {
      "model_module": "@jupyter-widgets/controls",
      "model_module_version": "1.5.0",
      "model_name": "DescriptionStyleModel",
      "state": {
       "description_width": ""
      }
     },
     "2dfb07712d824bc999ac1a7fe5def6f0": {
      "model_module": "@jupyter-widgets/controls",
      "model_module_version": "1.5.0",
      "model_name": "DescriptionStyleModel",
      "state": {
       "description_width": ""
      }
     },
     "2e094bd57f52486a94e851a8acf0e861": {
      "model_module": "@jupyter-widgets/controls",
      "model_module_version": "1.5.0",
      "model_name": "DescriptionStyleModel",
      "state": {
       "description_width": ""
      }
     },
     "2e0b4925d26e4c6cab02cdbbea6d35b9": {
      "model_module": "@jupyter-widgets/controls",
      "model_module_version": "1.5.0",
      "model_name": "DescriptionStyleModel",
      "state": {
       "description_width": ""
      }
     },
     "2e18cbd343164b1489bc92a54baf4188": {
      "model_module": "@jupyter-widgets/controls",
      "model_module_version": "1.5.0",
      "model_name": "DescriptionStyleModel",
      "state": {
       "description_width": ""
      }
     },
     "2e252039a5d74300bcbdf90f3c8a6651": {
      "model_module": "@jupyter-widgets/controls",
      "model_module_version": "1.5.0",
      "model_name": "HTMLModel",
      "state": {
       "layout": "IPY_MODEL_2ac0ceb223d943929e5b548d65bc38a1",
       "style": "IPY_MODEL_391f706409814b3d8d1f81745fa705f2",
       "value": "<b>Thumbnail: </b> "
      }
     },
     "2e25c4d1769b46b09fb4369e7163dbdd": {
      "model_module": "@jupyter-widgets/controls",
      "model_module_version": "1.5.0",
      "model_name": "HTMLModel",
      "state": {
       "layout": "IPY_MODEL_827366c307a5407eba94c5dce87b3442",
       "style": "IPY_MODEL_28d68f5a76bf4054a9f2ab1f06379bec",
       "value": "<b>Contact: </b> "
      }
     },
     "2e3ac3e5c9e9475ea015d32eb9b19a69": {
      "model_module": "@jupyter-widgets/controls",
      "model_module_version": "1.5.0",
      "model_name": "HTMLModel",
      "state": {
       "layout": "IPY_MODEL_4a0672c2a29a4e87bca9b69a453169a7",
       "style": "IPY_MODEL_99fd518b08ce43df907ad23e22f95bff",
       "value": "<b>Description: </b> "
      }
     },
     "2e3b0d82675348eda3e4637e33e26284": {
      "model_module": "@jupyter-widgets/controls",
      "model_module_version": "1.5.0",
      "model_name": "DescriptionStyleModel",
      "state": {
       "description_width": ""
      }
     },
     "2e4f5041b7824702953e1dfbfa2ec5c9": {
      "model_module": "@jupyter-widgets/controls",
      "model_module_version": "1.5.0",
      "model_name": "DescriptionStyleModel",
      "state": {
       "description_width": ""
      }
     },
     "2e662d6058c747b7acc5998a9217e573": {
      "model_module": "@jupyter-widgets/controls",
      "model_module_version": "1.5.0",
      "model_name": "DescriptionStyleModel",
      "state": {
       "description_width": ""
      }
     },
     "2e6946aafcec4a84a8333f5427bec315": {
      "model_module": "@jupyter-widgets/base",
      "model_module_version": "1.2.0",
      "model_name": "LayoutModel",
      "state": {}
     },
     "2e733676b4ae4664925219aabd905b54": {
      "model_module": "@jupyter-widgets/controls",
      "model_module_version": "1.5.0",
      "model_name": "HTMLModel",
      "state": {
       "layout": "IPY_MODEL_d9f193c94d8e40dfba3bc36a61236907",
       "style": "IPY_MODEL_17f8b2f0631f4abd97fe35fecb9f5574",
       "value": "<b>Contact: </b> "
      }
     },
     "2e78d1b28b684331a77427f3fe5198d8": {
      "model_module": "@jupyter-widgets/base",
      "model_module_version": "1.2.0",
      "model_name": "LayoutModel",
      "state": {}
     },
     "2e994f462e574d1597056206a3b45e7e": {
      "model_module": "@jupyter-widgets/base",
      "model_module_version": "1.2.0",
      "model_name": "LayoutModel",
      "state": {}
     },
     "2ea7c19009874bd3832bb5c8ea5b41d0": {
      "model_module": "@jupyter-widgets/controls",
      "model_module_version": "1.5.0",
      "model_name": "DescriptionStyleModel",
      "state": {
       "description_width": ""
      }
     },
     "2ed460ecffeb4b7db5e40b274fe375d9": {
      "model_module": "@jupyter-widgets/controls",
      "model_module_version": "1.5.0",
      "model_name": "DescriptionStyleModel",
      "state": {
       "description_width": ""
      }
     },
     "2ef035abe9d040308581ca99b8b89150": {
      "model_module": "@jupyter-widgets/controls",
      "model_module_version": "1.5.0",
      "model_name": "HTMLModel",
      "state": {
       "layout": "IPY_MODEL_6c382f76a02049ba969f004dea1310bc",
       "style": "IPY_MODEL_7dd91f9ef25b4900a91c4bf70b375ae6",
       "value": "This is an ancillary notebook aimed for providing students with an example of what the Station Python class includes, how it is structured, and how they can use it to extract the information they are interested in."
      }
     },
     "2f0b6d0501bf4be78bf2d321edb94c3d": {
      "model_module": "@jupyter-widgets/controls",
      "model_module_version": "1.5.0",
      "model_name": "GridBoxModel",
      "state": {
       "children": [
        "IPY_MODEL_0c7bf71ba8bf4db28a1c97b03cff86d3",
        "IPY_MODEL_c1bc9d8b90f34076bd08f08423dcf526"
       ],
       "layout": "IPY_MODEL_a819ab73dd3744fb9f9444a53ee21b80"
      }
     },
     "2f1b91a129a64b918ea9a68b2a49a0dd": {
      "model_module": "@jupyter-widgets/controls",
      "model_module_version": "1.5.0",
      "model_name": "DescriptionStyleModel",
      "state": {
       "description_width": ""
      }
     },
     "2f1c20a8a52843bab24b69affdf06684": {
      "model_module": "@jupyter-widgets/controls",
      "model_module_version": "1.5.0",
      "model_name": "DescriptionStyleModel",
      "state": {
       "description_width": ""
      }
     },
     "2f1d72b8c0ec47cd8c1f0b016b8ea050": {
      "model_module": "@jupyter-widgets/controls",
      "model_module_version": "1.5.0",
      "model_name": "HTMLModel",
      "state": {
       "layout": "IPY_MODEL_b2c623f4db1044dea9ab600930020cda",
       "style": "IPY_MODEL_697cb4c6396847069f61c17cd54bb4e4",
       "value": "<a href='https://github.com/ICOS-Carbon-Portal/jupyter/issues' target='_blank'>Click here to report an issue</a>"
      }
     },
     "2f22e4c9df744780b8a3d1e4e7b04591": {
      "model_module": "@jupyter-widgets/base",
      "model_module_version": "1.2.0",
      "model_name": "LayoutModel",
      "state": {
       "grid_gap": "5px 10px",
       "grid_template_columns": "100px auto",
       "grid_template_rows": "auto auto auto auto auto",
       "padding": "50px 0px 70px 0px",
       "width": "100%"
      }
     },
     "2fad1ed135f24604865eab704f23f47c": {
      "model_module": "@jupyter-widgets/controls",
      "model_module_version": "1.5.0",
      "model_name": "DescriptionStyleModel",
      "state": {
       "description_width": ""
      }
     },
     "2fc5289b57a244a784c12e9cd87822a1": {
      "model_module": "@jupyter-widgets/base",
      "model_module_version": "1.2.0",
      "model_name": "LayoutModel",
      "state": {}
     },
     "2fdae86801394c4abcf16db03dd59e59": {
      "model_module": "@jupyter-widgets/controls",
      "model_module_version": "1.5.0",
      "model_name": "HTMLModel",
      "state": {
       "layout": "IPY_MODEL_565189bd46a047acbc2aa1a3828384c9",
       "style": "IPY_MODEL_8459089b8fc341c9a1328dcbc130d77c",
       "value": "<a href=./education/PhD/upscaling_carbon_fluxes/notebooks/tools.ipynb target='_blank'>Python modules developed for the course</a>"
      }
     },
     "2fdc61a5800645ddbffdd1e1df98b5c5": {
      "model_module": "@jupyter-widgets/base",
      "model_module_version": "1.2.0",
      "model_name": "LayoutModel",
      "state": {
       "grid_gap": "5px 10px",
       "grid_template_columns": "100px auto",
       "grid_template_rows": "auto auto auto auto auto",
       "padding": "50px 0px 70px 0px",
       "width": "100%"
      }
     },
     "2feaa1e23957401ab77e8bed40e290fa": {
      "model_module": "@jupyter-widgets/controls",
      "model_module_version": "1.5.0",
      "model_name": "HTMLModel",
      "state": {
       "layout": "IPY_MODEL_b42b7e1ec1c04959b18c1eacb436a9d4",
       "style": "IPY_MODEL_12d0311a7f544d3b812f9d196423fc24",
       "value": "<b>Description: </b> "
      }
     },
     "3014e3c1a8194b2a82f5917336edd1c9": {
      "model_module": "@jupyter-widgets/base",
      "model_module_version": "1.2.0",
      "model_name": "LayoutModel",
      "state": {}
     },
     "301de36fadef43d0b3ba2ec2f875f064": {
      "model_module": "@jupyter-widgets/base",
      "model_module_version": "1.2.0",
      "model_name": "LayoutModel",
      "state": {}
     },
     "303ad52fd0ad432db0243c7fb8065221": {
      "model_module": "@jupyter-widgets/controls",
      "model_module_version": "1.5.0",
      "model_name": "GridBoxModel",
      "state": {
       "children": [
        "IPY_MODEL_c8df2c41ba434a63be2adf38923bf3ff",
        "IPY_MODEL_c415d4991b114650820b47e385d08b37",
        "IPY_MODEL_680d0a2c457f4b839f2c1412bf2a9ac7",
        "IPY_MODEL_d92088c1b10c45f3a9e662f1f7bc6f3e",
        "IPY_MODEL_b490f56b30664aa78e3a94a2d16e8321",
        "IPY_MODEL_9ea939370b214241949c4849fceaaae3",
        "IPY_MODEL_d04b656bbffa43f4ae7ae3eaa024ed07",
        "IPY_MODEL_afa4929725154cf3a910f201b4ace12f",
        "IPY_MODEL_7ad78bcc4db64d7fa44041cf0ab6c814",
        "IPY_MODEL_33ba6d1f8b60499ea8b465caf08e44b3"
       ],
       "layout": "IPY_MODEL_5bafa55222614e54accfbb0a7766af18"
      }
     },
     "30531395d72347e6a532a61d5270aac8": {
      "model_module": "@jupyter-widgets/base",
      "model_module_version": "1.2.0",
      "model_name": "LayoutModel",
      "state": {}
     },
     "307b53ee38f2445f81beb75414f5d161": {
      "model_module": "@jupyter-widgets/controls",
      "model_module_version": "1.5.0",
      "model_name": "HTMLModel",
      "state": {
       "layout": "IPY_MODEL_6c0a78cad2fa4c5c876588bd0935139c",
       "style": "IPY_MODEL_7d72126a0d6c4909b796290501445774",
       "value": "<b>Thumbnail: </b> "
      }
     },
     "3081f8eca99d43c99a55ef5a5f13e140": {
      "model_module": "@jupyter-widgets/controls",
      "model_module_version": "1.5.0",
      "model_name": "HTMLModel",
      "state": {
       "layout": "IPY_MODEL_5f85b3c7bbdc41029118c6cc7a99e505",
       "style": "IPY_MODEL_80ab951ea0634dda885044e0f4732e48",
       "value": "<b>GitHub: </b> "
      }
     },
     "30828a0ca95a4c48bb488369f2f5ee5c": {
      "model_module": "@jupyter-widgets/controls",
      "model_module_version": "1.5.0",
      "model_name": "HTMLModel",
      "state": {
       "layout": "IPY_MODEL_f3d2a1fff8c04052ab0330118e5e773f",
       "style": "IPY_MODEL_49209d8b87634ad1839eeee9024dbad5",
       "value": "<a href='https://github.com/ICOS-Carbon-Portal/jupyter/issues' target='_blank'>Click here to report an issue</a>"
      }
     },
     "313ea5abe6d447a199c7e1b30c3b40d0": {
      "model_module": "@jupyter-widgets/base",
      "model_module_version": "1.2.0",
      "model_name": "LayoutModel",
      "state": {}
     },
     "314d63567c05424cadc041b7a6b5e0d6": {
      "model_module": "@jupyter-widgets/base",
      "model_module_version": "1.2.0",
      "model_name": "LayoutModel",
      "state": {}
     },
     "316a0f1b2d674316acc1d085ef843f64": {
      "model_module": "@jupyter-widgets/controls",
      "model_module_version": "1.5.0",
      "model_name": "GridBoxModel",
      "state": {
       "children": [
        "IPY_MODEL_e377c957061c45e485fdc350b0dfd64c",
        "IPY_MODEL_9abc83589b7946d08fb8dd4aa73cb44e",
        "IPY_MODEL_a0de54d8540845ef851314f399012153",
        "IPY_MODEL_4a3a87ccfca7476fb5064ea61fb8ec9c",
        "IPY_MODEL_a5930227378844cea0b91b62dc87eda0",
        "IPY_MODEL_2c2202f79d154d08b466d296a8bf1878",
        "IPY_MODEL_e6599b804c7b4bfda399275390817b30",
        "IPY_MODEL_5462ddc83199461d889d80bfb4f1cdfa",
        "IPY_MODEL_393ebf5988434004834fb293a74e8420",
        "IPY_MODEL_a9bada15819941a691622c8b05a8decb"
       ],
       "layout": "IPY_MODEL_807b8f36793245dab053a08f9e43103e"
      }
     },
     "31793774f6e040a3b93cf59cb434c353": {
      "model_module": "@jupyter-widgets/controls",
      "model_module_version": "1.5.0",
      "model_name": "HTMLModel",
      "state": {
       "layout": "IPY_MODEL_b5103f9ab0db475e90654b3002b8b3f7",
       "style": "IPY_MODEL_aef506f8d36a4ce99181c8fea70b24fd",
       "value": "<b>Contact: </b> "
      }
     },
     "3185292998304e978e5dd93e63ffecf8": {
      "model_module": "@jupyter-widgets/base",
      "model_module_version": "1.2.0",
      "model_name": "LayoutModel",
      "state": {
       "grid_gap": "5px 10px",
       "grid_template_columns": "100px auto",
       "grid_template_rows": "auto auto auto auto auto",
       "padding": "50px 0px 70px 0px",
       "width": "100%"
      }
     },
     "318ae0b1af774af0add7981621ac2766": {
      "model_module": "@jupyter-widgets/base",
      "model_module_version": "1.2.0",
      "model_name": "LayoutModel",
      "state": {
       "grid_gap": "5px 10px",
       "grid_template_columns": "100px auto",
       "grid_template_rows": "auto auto auto auto auto",
       "padding": "50px 0px 70px 0px",
       "width": "100%"
      }
     },
     "31961e7085ec4d359c9e450a08964f96": {
      "model_module": "@jupyter-widgets/controls",
      "model_module_version": "1.5.0",
      "model_name": "DescriptionStyleModel",
      "state": {
       "description_width": ""
      }
     },
     "31b9e221bb024f8fb9689d46145cab28": {
      "model_module": "@jupyter-widgets/base",
      "model_module_version": "1.2.0",
      "model_name": "LayoutModel",
      "state": {}
     },
     "31c82403a728497585c555401045dd01": {
      "model_module": "@jupyter-widgets/controls",
      "model_module_version": "1.5.0",
      "model_name": "HTMLModel",
      "state": {
       "layout": "IPY_MODEL_6462f31d5dab48d3a220ec4274387611",
       "style": "IPY_MODEL_fd0f68375eba4cffbd791130885b8942",
       "value": "<b>Title: </b> "
      }
     },
     "31d688cb56eb48ffbb76dd1bd9369e3b": {
      "model_module": "@jupyter-widgets/controls",
      "model_module_version": "1.5.0",
      "model_name": "HTMLModel",
      "state": {
       "layout": "IPY_MODEL_979b711040da40e399179f226cae8f30",
       "style": "IPY_MODEL_e2727fdc15a64bafb4755c14db89c97e",
       "value": "<a href=\"mailto: jupyter-info@icos-cp.eu\">jupyter-info@icos-cp.eu</a>, <a href=\"mailto: Steve.Jones@uib.no\">Steve.Jones@uib.no</a>"
      }
     },
     "31dbd81a0ec9429a8b2b461e24a9f02a": {
      "model_module": "@jupyter-widgets/controls",
      "model_module_version": "1.5.0",
      "model_name": "HTMLModel",
      "state": {
       "layout": "IPY_MODEL_8a1389f94fb24d5bae1f4a1871be4bfa",
       "style": "IPY_MODEL_03e98f60ad7a4c1ca29b882c4a69dfb0",
       "value": "<b>Contact: </b> "
      }
     },
     "31e5364833b64a9889552bf94dc035e3": {
      "model_module": "@jupyter-widgets/controls",
      "model_module_version": "1.5.0",
      "model_name": "DescriptionStyleModel",
      "state": {
       "description_width": ""
      }
     },
     "31e609d661d94d249f84e3fefbf22164": {
      "model_module": "@jupyter-widgets/controls",
      "model_module_version": "1.5.0",
      "model_name": "HTMLModel",
      "state": {
       "layout": "IPY_MODEL_5d30409651054d6e80cd70d6874d881a",
       "style": "IPY_MODEL_f86b23464e034e8182c1cda5fd2c73d9",
       "value": "<a href=./education/MSc_BSc/drought_2018/htm_icos_eco_data_drought_2018_anonymous_v2.ipynb target='_blank'>Drought 2018 - ICOS ecosystem data from Hyltemossa</a>"
      }
     },
     "3212db850be44535a953f5cf8571793d": {
      "model_module": "@jupyter-widgets/controls",
      "model_module_version": "1.5.0",
      "model_name": "HTMLModel",
      "state": {
       "layout": "IPY_MODEL_0df510636b3344d39fee2f50118f27c0",
       "style": "IPY_MODEL_27fc15a0be224af5bbab12732498cad6",
       "value": "<b>Title: </b> "
      }
     },
     "32554985e92746bfb078f0f7f8ddbb5f": {
      "model_module": "@jupyter-widgets/controls",
      "model_module_version": "1.5.0",
      "model_name": "HTMLModel",
      "state": {
       "layout": "IPY_MODEL_e3e333093f7f4edcb7ba6b8dd570e0e7",
       "style": "IPY_MODEL_9dcd305becbf4997929904fe07c27fac",
       "value": "<img src=\"./icos_jupyter_notebooks/ind_tools/img/05_education/phd/ucf/tools/tools_sh.PNG\">"
      }
     },
     "326ed48433ff4ae792b07a0a1c589645": {
      "model_module": "@jupyter-widgets/controls",
      "model_module_version": "1.5.0",
      "model_name": "DescriptionStyleModel",
      "state": {
       "description_width": ""
      }
     },
     "328ae93e79fe46b195869ac1e9aba038": {
      "model_module": "@jupyter-widgets/base",
      "model_module_version": "1.2.0",
      "model_name": "LayoutModel",
      "state": {}
     },
     "32997f389a7c4391b38aff2c8684267b": {
      "model_module": "@jupyter-widgets/controls",
      "model_module_version": "1.5.0",
      "model_name": "DescriptionStyleModel",
      "state": {
       "description_width": ""
      }
     },
     "32a415753dd348ed9eb1889a488191aa": {
      "model_module": "@jupyter-widgets/controls",
      "model_module_version": "1.5.0",
      "model_name": "DescriptionStyleModel",
      "state": {
       "description_width": ""
      }
     },
     "32b5eed1915549029d4fd17cad49162d": {
      "model_module": "@jupyter-widgets/controls",
      "model_module_version": "1.5.0",
      "model_name": "DescriptionStyleModel",
      "state": {
       "description_width": ""
      }
     },
     "32bdc6e76e7b41eab61502e844c764ab": {
      "model_module": "@jupyter-widgets/controls",
      "model_module_version": "1.5.0",
      "model_name": "HTMLModel",
      "state": {
       "layout": "IPY_MODEL_801d32d74d63426e8b353034a6d36fed",
       "style": "IPY_MODEL_9cd6a70904bf4eaa8a84f798fedb65ad",
       "value": "<b>GitHub: </b> "
      }
     },
     "32da7e67e2a549fca899c09212355995": {
      "model_module": "@jupyter-widgets/base",
      "model_module_version": "1.2.0",
      "model_name": "LayoutModel",
      "state": {}
     },
     "32f6131e544147e5b6550c241c937140": {
      "model_module": "@jupyter-widgets/controls",
      "model_module_version": "1.5.0",
      "model_name": "HTMLModel",
      "state": {
       "layout": "IPY_MODEL_5a4d712b95224b3ab7e23960d788a01b",
       "style": "IPY_MODEL_7f5810803d0b4deda8ea8405ad75f991",
       "value": "<b>GitHub: </b> "
      }
     },
     "33037e0390634ebd8c26a6ad64f465b6": {
      "model_module": "@jupyter-widgets/base",
      "model_module_version": "1.2.0",
      "model_name": "LayoutModel",
      "state": {}
     },
     "330413a3efa34b5d92e080c599d9d5c4": {
      "model_module": "@jupyter-widgets/controls",
      "model_module_version": "1.5.0",
      "model_name": "DescriptionStyleModel",
      "state": {
       "description_width": ""
      }
     },
     "3310a53b3fe44f1a91a3b9fdde96a925": {
      "model_module": "@jupyter-widgets/base",
      "model_module_version": "1.2.0",
      "model_name": "LayoutModel",
      "state": {}
     },
     "33358d93860a4a01a2c78baca2d108ba": {
      "model_module": "@jupyter-widgets/controls",
      "model_module_version": "1.5.0",
      "model_name": "DescriptionStyleModel",
      "state": {
       "description_width": ""
      }
     },
     "334d56476f89455e9b591db189381985": {
      "model_module": "@jupyter-widgets/controls",
      "model_module_version": "1.5.0",
      "model_name": "HTMLModel",
      "state": {
       "layout": "IPY_MODEL_00324544bc7f4fc0a0084730ab5fa884",
       "style": "IPY_MODEL_1d881f75cc404d06a36b785b0024a17d",
       "value": "<a href='https://github.com/ICOS-Carbon-Portal/jupyter/issues' target='_blank'>Click here to report an issue</a>"
      }
     },
     "337b530df8a34155a30b75992b3aa7cc": {
      "model_module": "@jupyter-widgets/controls",
      "model_module_version": "1.5.0",
      "model_name": "DescriptionStyleModel",
      "state": {
       "description_width": ""
      }
     },
     "3396ac2ec3db4f6d86529b0dad4d24d7": {
      "model_module": "@jupyter-widgets/controls",
      "model_module_version": "1.5.0",
      "model_name": "HTMLModel",
      "state": {
       "layout": "IPY_MODEL_24511a2058434264b251a66daf5cfc4a",
       "style": "IPY_MODEL_eb661ddec0994959924205ab5031e70d",
       "value": "<b>Title: </b> "
      }
     },
     "339bfa27acb249298c6cc35247ee933f": {
      "model_module": "@jupyter-widgets/controls",
      "model_module_version": "1.5.0",
      "model_name": "HTMLModel",
      "state": {
       "layout": "IPY_MODEL_551f6e2d21034500a3c33a0ff86c6f6b",
       "style": "IPY_MODEL_cf962e40e95844e9bcb49e679063f265",
       "value": "<img src=\"./icos_jupyter_notebooks/ind_tools/img/05_education/phd/ucf/drought2018/htm_drought2018.PNG\">"
      }
     },
     "33b3b98eb7dc49549c627d70fd00aff3": {
      "model_module": "@jupyter-widgets/base",
      "model_module_version": "1.2.0",
      "model_name": "LayoutModel",
      "state": {}
     },
     "33ba6d1f8b60499ea8b465caf08e44b3": {
      "model_module": "@jupyter-widgets/controls",
      "model_module_version": "1.5.0",
      "model_name": "HTMLModel",
      "state": {
       "layout": "IPY_MODEL_e75945f5940b48c98475e7a2a27af273",
       "style": "IPY_MODEL_58007fbedbc246789643300e99e71796",
       "value": "<img src=\"./icos_jupyter_notebooks/ind_tools/img/02_pylib_ex/ex3.PNG\">"
      }
     },
     "33dd78f1f97d4039a561d830f7613618": {
      "model_module": "@jupyter-widgets/controls",
      "model_module_version": "1.5.0",
      "model_name": "HTMLModel",
      "state": {
       "layout": "IPY_MODEL_5a75bf0a0afa419e8c3eaa381b6b7931",
       "style": "IPY_MODEL_60c33d047ea146ca931def446e95128c",
       "value": "<b>Title: </b> "
      }
     },
     "33eef6755c7643d2b297c0e2762fe9e4": {
      "model_module": "@jupyter-widgets/base",
      "model_module_version": "1.2.0",
      "model_name": "LayoutModel",
      "state": {}
     },
     "33f38f6b95df4a47b12f8ca7a3f9885f": {
      "model_module": "@jupyter-widgets/controls",
      "model_module_version": "1.5.0",
      "model_name": "HTMLModel",
      "state": {
       "layout": "IPY_MODEL_e9c991073a904992b9a73c0b4d0eb409",
       "style": "IPY_MODEL_c8242a2d7e0e43838662781c9359dd89",
       "value": "<b>GitHub: </b> "
      }
     },
     "3403350733074b57b1c72fabf5284ccd": {
      "model_module": "@jupyter-widgets/base",
      "model_module_version": "1.2.0",
      "model_name": "LayoutModel",
      "state": {}
     },
     "340e3da005804bcd8b94b40af127994e": {
      "model_module": "@jupyter-widgets/base",
      "model_module_version": "1.2.0",
      "model_name": "LayoutModel",
      "state": {
       "grid_gap": "5px 10px",
       "grid_template_columns": "100px auto",
       "grid_template_rows": "auto auto auto auto auto",
       "padding": "50px 0px 70px 0px",
       "width": "100%"
      }
     },
     "34126771125647c68876e1afbdf0034f": {
      "model_module": "@jupyter-widgets/base",
      "model_module_version": "1.2.0",
      "model_name": "LayoutModel",
      "state": {}
     },
     "341bff55d5d64f8ab1fa4d8c355e8e48": {
      "model_module": "@jupyter-widgets/base",
      "model_module_version": "1.2.0",
      "model_name": "LayoutModel",
      "state": {}
     },
     "341cfd3bb93d424eb7e72177639aa2e7": {
      "model_module": "@jupyter-widgets/controls",
      "model_module_version": "1.5.0",
      "model_name": "DescriptionStyleModel",
      "state": {
       "description_width": ""
      }
     },
     "3431f682057e4f6c993fee69ac13d8cb": {
      "model_module": "@jupyter-widgets/controls",
      "model_module_version": "1.5.0",
      "model_name": "DescriptionStyleModel",
      "state": {
       "description_width": ""
      }
     },
     "344f7188b353412eb87712074431027a": {
      "model_module": "@jupyter-widgets/base",
      "model_module_version": "1.2.0",
      "model_name": "LayoutModel",
      "state": {}
     },
     "345166b9e0454d928c039909f291f81a": {
      "model_module": "@jupyter-widgets/controls",
      "model_module_version": "1.5.0",
      "model_name": "GridBoxModel",
      "state": {
       "children": [
        "IPY_MODEL_a392a1cbb4d84a40bb6d79d748e52774",
        "IPY_MODEL_4261085e5951419a9475fd3224e83f66",
        "IPY_MODEL_e7f57d26a8a1435093a6f0ce42784cda",
        "IPY_MODEL_b9864da6fe74412e80e41469cdf35de4",
        "IPY_MODEL_848301c3c37e49cab043b617af5e3902",
        "IPY_MODEL_4475650bde274895932def57b6177036",
        "IPY_MODEL_0a9f1ce5688142ba8445061c59285858",
        "IPY_MODEL_f02e2652ebbc4deb94fd2d28b66c465d",
        "IPY_MODEL_7df9762a6c3b459cae2ab3c07e8a3a76",
        "IPY_MODEL_65946d445f6e4739834fd56f5115d3dc"
       ],
       "layout": "IPY_MODEL_9432014c48f143a193bbdece7591403a"
      }
     },
     "3480e8e875104da39434d9a69dbd7103": {
      "model_module": "@jupyter-widgets/controls",
      "model_module_version": "1.5.0",
      "model_name": "HTMLModel",
      "state": {
       "layout": "IPY_MODEL_62df0a02aaa7418b84e0279950f8a689",
       "style": "IPY_MODEL_d050fd82e8f7446982c105c0dd7bd71b",
       "value": "<img src=\"./icos_jupyter_notebooks/ind_tools/img/04_proj_JNBs/envrifair_ws/maps/ex1.PNG\">"
      }
     },
     "34854f2c45b14b51b2b524070c6972e1": {
      "model_module": "@jupyter-widgets/base",
      "model_module_version": "1.2.0",
      "model_name": "LayoutModel",
      "state": {}
     },
     "3496b42bcedf4a92ac7c59015813e41a": {
      "model_module": "@jupyter-widgets/controls",
      "model_module_version": "1.5.0",
      "model_name": "HTMLModel",
      "state": {
       "layout": "IPY_MODEL_1c71dd1e45c74823909e3a3dafa0fcbf",
       "style": "IPY_MODEL_eb8314f078f34698b354cfd4cab6f6a3",
       "value": "<b>Title: </b> "
      }
     },
     "349c7e6b276b45fab26c363c484dfdf6": {
      "model_module": "@jupyter-widgets/controls",
      "model_module_version": "1.5.0",
      "model_name": "HTMLModel",
      "state": {
       "layout": "IPY_MODEL_0498e26f036b4b449ca656aa645fbafb",
       "style": "IPY_MODEL_d474a3cf04ae408c9c52cc9a5cccd500",
       "value": "<a href=./education/PhD/upscaling_carbon_fluxes/notebooks/htm_eco_drought_2018.ipynb target='_blank'>Drought 2018 - ICOS ecosystem data from Hyltemossa</a>"
      }
     },
     "34e221cdbbcc41d3a4efc50270ad8787": {
      "model_module": "@jupyter-widgets/base",
      "model_module_version": "1.2.0",
      "model_name": "LayoutModel",
      "state": {}
     },
     "34ed49168b56419ea9a0d845d28f572a": {
      "model_module": "@jupyter-widgets/controls",
      "model_module_version": "1.5.0",
      "model_name": "DescriptionStyleModel",
      "state": {
       "description_width": ""
      }
     },
     "34f74f59022248a7b73e757d3e6c34f1": {
      "model_module": "@jupyter-widgets/base",
      "model_module_version": "1.2.0",
      "model_name": "LayoutModel",
      "state": {}
     },
     "3519e40551b544d593cd11cf8bead440": {
      "model_module": "@jupyter-widgets/base",
      "model_module_version": "1.2.0",
      "model_name": "LayoutModel",
      "state": {}
     },
     "3531c8ebce9640dc8363d651f4377f49": {
      "model_module": "@jupyter-widgets/controls",
      "model_module_version": "1.5.0",
      "model_name": "HTMLModel",
      "state": {
       "layout": "IPY_MODEL_4aedb5dd560847a5b916b3f1ef651b3e",
       "style": "IPY_MODEL_55a237619c8a4e6e9f8a2e50577be0df",
       "value": "<b>GitHub: </b> "
      }
     },
     "354f6e45508441ac89aac96428b7e9e6": {
      "model_module": "@jupyter-widgets/controls",
      "model_module_version": "1.5.0",
      "model_name": "DescriptionStyleModel",
      "state": {
       "description_width": ""
      }
     },
     "355407ad8e0047049c8a3d95b5953200": {
      "model_module": "@jupyter-widgets/controls",
      "model_module_version": "1.5.0",
      "model_name": "HTMLModel",
      "state": {
       "layout": "IPY_MODEL_6e44afa51bd54b699672a73bb431789e",
       "style": "IPY_MODEL_0fd4fd3446704bc691c945f3e4b06ed8",
       "value": "This is an ancillary notebook aimed for letting students explore the modelled values produced by <a href=\"https://doi.org/10.1046/j.1466-822X.2001.t01-1-00256.x\" target=\"_blank\">LPJ-GUESS</a> and corresponding to the same ecosystem stations real measurements are available for. The purpose of this notebook is for students to get an idea/overview of the value-range of the modelled values corresponding to a certain station."
      }
     },
     "35aad4360a644789bc8306f68a0529a7": {
      "model_module": "@jupyter-widgets/controls",
      "model_module_version": "1.5.0",
      "model_name": "HTMLModel",
      "state": {
       "layout": "IPY_MODEL_cfb240db9ae64969845d4b4332d52544",
       "style": "IPY_MODEL_31961e7085ec4d359c9e450a08964f96",
       "value": "<b>Description: </b> "
      }
     },
     "35e4798f204748769e498dbcd137becc": {
      "model_module": "@jupyter-widgets/controls",
      "model_module_version": "1.5.0",
      "model_name": "GridBoxModel",
      "state": {
       "children": [
        "IPY_MODEL_a51f4fd884124585bd22bafa335df8c1",
        "IPY_MODEL_7add18c9b37b44679ae50576c771a14c"
       ],
       "layout": "IPY_MODEL_439ad2b013a94a7dba907f5dff94112c"
      }
     },
     "35ef47a4014b40a196c87b4993a8150c": {
      "model_module": "@jupyter-widgets/controls",
      "model_module_version": "1.5.0",
      "model_name": "HTMLModel",
      "state": {
       "layout": "IPY_MODEL_83605d46a21a463aa41a3ebc0467da66",
       "style": "IPY_MODEL_b0af77b2e1b8402ab173438a7bf5e22a",
       "value": "<b>Title: </b> "
      }
     },
     "35fdb8c0bdd144fda948ddbfa5b428c6": {
      "model_module": "@jupyter-widgets/controls",
      "model_module_version": "1.5.0",
      "model_name": "DescriptionStyleModel",
      "state": {
       "description_width": ""
      }
     },
     "360ce05a55e94ef69b6765ca7f8bbdd1": {
      "model_module": "@jupyter-widgets/base",
      "model_module_version": "1.2.0",
      "model_name": "LayoutModel",
      "state": {
       "grid_gap": "5px 10px",
       "grid_template_columns": "auto",
       "grid_template_rows": "auto",
       "padding": "5px 0px 5px 0px",
       "width": "100%"
      }
     },
     "362ca68378274f1381fce82b06277b11": {
      "model_module": "@jupyter-widgets/controls",
      "model_module_version": "1.5.0",
      "model_name": "DescriptionStyleModel",
      "state": {
       "description_width": ""
      }
     },
     "369015f8c5bd45a0b001304b10a145a7": {
      "model_module": "@jupyter-widgets/controls",
      "model_module_version": "1.5.0",
      "model_name": "DescriptionStyleModel",
      "state": {
       "description_width": ""
      }
     },
     "36a786dbc1e7487e9c59c963d30b4ab8": {
      "model_module": "@jupyter-widgets/controls",
      "model_module_version": "1.5.0",
      "model_name": "HTMLModel",
      "state": {
       "layout": "IPY_MODEL_7acdfedce4cd401aa7a2c2fbf0897762",
       "style": "IPY_MODEL_b2e32c022ee147a7bf22d1d928f32fdf",
       "value": "<a href=\"mailto: jupyter-info@icos-cp.eu\">jupyter-info@icos-cp.eu</a>, <a href=\"mailto: Steve.Jones@uib.no\">Steve.Jones@uib.no</a>"
      }
     },
     "36f8f5bf317c4ba3b53da24e71642eb9": {
      "model_module": "@jupyter-widgets/base",
      "model_module_version": "1.2.0",
      "model_name": "LayoutModel",
      "state": {}
     },
     "36fc82efbf3c49d2887bc61370932656": {
      "model_module": "@jupyter-widgets/controls",
      "model_module_version": "1.5.0",
      "model_name": "DescriptionStyleModel",
      "state": {
       "description_width": ""
      }
     },
     "371134b91c2b4339af0da8847b148c39": {
      "model_module": "@jupyter-widgets/base",
      "model_module_version": "1.2.0",
      "model_name": "LayoutModel",
      "state": {}
     },
     "372d408014b746dcb05c2b099dbb19d7": {
      "model_module": "@jupyter-widgets/controls",
      "model_module_version": "1.5.0",
      "model_name": "DescriptionStyleModel",
      "state": {
       "description_width": ""
      }
     },
     "373213f690184b8ebfeef3cda5f24e3b": {
      "model_module": "@jupyter-widgets/base",
      "model_module_version": "1.2.0",
      "model_name": "LayoutModel",
      "state": {}
     },
     "373f65bcf3044ace983238b388b794db": {
      "model_module": "@jupyter-widgets/controls",
      "model_module_version": "1.5.0",
      "model_name": "HTMLModel",
      "state": {
       "layout": "IPY_MODEL_7bc034d912114355b682b08228def65d",
       "style": "IPY_MODEL_0888adf932ad42589e3e66d2c15e1514",
       "value": "<b>Description: </b> "
      }
     },
     "3746e21d8c5c433f9b37e6ca8f6bc00e": {
      "model_module": "@jupyter-widgets/controls",
      "model_module_version": "1.5.0",
      "model_name": "HTMLModel",
      "state": {
       "layout": "IPY_MODEL_69a3efa15c254633a771be8708df0a56",
       "style": "IPY_MODEL_ce67bdf953f44b4aa2e94bf01c55aae7",
       "value": "<a href=./project_jupyter_notebooks/envrifair_winterschool/map/exercise4_advanced.ipynb target='_blank'>Exercise 4 - Create an advanced interactive Map</a>"
      }
     },
     "37473780a11a4cce9e1b6d5b2f8aa04c": {
      "model_module": "@jupyter-widgets/controls",
      "model_module_version": "1.5.0",
      "model_name": "DescriptionStyleModel",
      "state": {
       "description_width": ""
      }
     },
     "37538466a0a34e34a63c9d97ae9d9e1c": {
      "model_module": "@jupyter-widgets/base",
      "model_module_version": "1.2.0",
      "model_name": "LayoutModel",
      "state": {
       "grid_gap": "5px 10px",
       "grid_template_columns": "100px auto",
       "grid_template_rows": "auto auto auto auto auto",
       "padding": "50px 0px 70px 0px",
       "width": "100%"
      }
     },
     "37643406e2ac46cea54a84d4b90f8d0a": {
      "model_module": "@jupyter-widgets/controls",
      "model_module_version": "1.5.0",
      "model_name": "HTMLModel",
      "state": {
       "layout": "IPY_MODEL_6f4ee4e7377741a3aa1df9a9356ba877",
       "style": "IPY_MODEL_393c837dec674389869def88a591a6b9",
       "value": "<b>GitHub: </b> "
      }
     },
     "379fa343f32445c092169a155b223d55": {
      "model_module": "@jupyter-widgets/controls",
      "model_module_version": "1.5.0",
      "model_name": "AccordionModel",
      "state": {
       "_titles": {
        "0": "Soil exercise - NGEN16"
       },
       "children": [
        "IPY_MODEL_81604c54f8ad40e1b447251b8f1d5fcb"
       ],
       "layout": "IPY_MODEL_a42f8444a4bf414e9d1ec4204f55d84e",
       "selected_index": null
      }
     },
     "37bafcf62b5e4fbd9af19df63e4cdede": {
      "model_module": "@jupyter-widgets/controls",
      "model_module_version": "1.5.0",
      "model_name": "HTMLModel",
      "state": {
       "layout": "IPY_MODEL_444c7e6be8c8443d9880911404726014",
       "style": "IPY_MODEL_a6a546e012ba4ce292335a39459e3d89",
       "value": "<a href=./education/MSc_BSc/drought_2018/htm_icos_eco_data_drought_2018_anonymous_v2.ipynb target='_blank'>Drought 2018 - ICOS ecosystem data from Hyltemossa</a>"
      }
     },
     "37c2163b30514cc1ab8ae17ee2f16715": {
      "model_module": "@jupyter-widgets/base",
      "model_module_version": "1.2.0",
      "model_name": "LayoutModel",
      "state": {}
     },
     "37d6ca99ff89416f81fcaf91bfc8c0f7": {
      "model_module": "@jupyter-widgets/controls",
      "model_module_version": "1.5.0",
      "model_name": "HTMLModel",
      "state": {
       "layout": "IPY_MODEL_2ce40059f16040a7ad628975a4590574",
       "style": "IPY_MODEL_e7b3b81a64fe471dbf1c4b480d6a244c",
       "value": "<img src=\"./icos_jupyter_notebooks/ind_tools/img/05_education/msc_bsc/drought2018/bokeh_plot_widgets.png\">"
      }
     },
     "3807cfdbf2be407b80354265b366e591": {
      "model_module": "@jupyter-widgets/controls",
      "model_module_version": "1.5.0",
      "model_name": "HTMLModel",
      "state": {
       "layout": "IPY_MODEL_2c970372d1c3444e9717d3958c4d3548",
       "style": "IPY_MODEL_e679d8845fea420ba8e243653bfaf0aa",
       "value": "<a href='https://github.com/ICOS-Carbon-Portal/jupyter/issues' target='_blank'>Click here to report an issue</a>"
      }
     },
     "38129718ca964845882071145ac607e1": {
      "model_module": "@jupyter-widgets/controls",
      "model_module_version": "1.5.0",
      "model_name": "HTMLModel",
      "state": {
       "layout": "IPY_MODEL_6ed537a84961458da113e8acbcb6b164",
       "style": "IPY_MODEL_cbe84b0c02264109904dbca00fa65a0e",
       "value": "<b>Contact: </b> "
      }
     },
     "382d5ed7bf054948a6106c02da175284": {
      "model_module": "@jupyter-widgets/controls",
      "model_module_version": "1.5.0",
      "model_name": "DescriptionStyleModel",
      "state": {
       "description_width": ""
      }
     },
     "38377de2cc3246d9bd8ccdde5d7b298c": {
      "model_module": "@jupyter-widgets/controls",
      "model_module_version": "1.5.0",
      "model_name": "DescriptionStyleModel",
      "state": {
       "description_width": ""
      }
     },
     "385c12722dfa42e1adb488c454df31cc": {
      "model_module": "@jupyter-widgets/controls",
      "model_module_version": "1.5.0",
      "model_name": "DescriptionStyleModel",
      "state": {
       "description_width": ""
      }
     },
     "386cdc747bcd49638e337a87aee4c457": {
      "model_module": "@jupyter-widgets/controls",
      "model_module_version": "1.5.0",
      "model_name": "DescriptionStyleModel",
      "state": {
       "description_width": ""
      }
     },
     "389a43b0a1474776a7b751ce693e64f1": {
      "model_module": "@jupyter-widgets/controls",
      "model_module_version": "1.5.0",
      "model_name": "HTMLModel",
      "state": {
       "layout": "IPY_MODEL_60f8bcb368fb43809bda2b4688ee637d",
       "style": "IPY_MODEL_7ff49b434c8a45cc98f32ed1a77960ce",
       "value": "This is a test version of a Jupyter notebook to present some principles of diffusion of 𝐶𝑂2 in the soil. The exercise also introduces Jupyter Notebook as an working environment. This notebook combines (explaining) text with coding cells that contain the simulation model."
      }
     },
     "38a095ade20b45eeb059acf1567ccc9c": {
      "model_module": "@jupyter-widgets/controls",
      "model_module_version": "1.5.0",
      "model_name": "GridBoxModel",
      "state": {
       "children": [
        "IPY_MODEL_758bd47aeefa4d5fbcee7d353de29fa7",
        "IPY_MODEL_f93ed9cf4a4b4a959adbae4ad8fc454b",
        "IPY_MODEL_d3166ba7675d4e558f69e12baa219b06",
        "IPY_MODEL_a117fe14e99c4062a6df358f467640f7",
        "IPY_MODEL_7c1982398b284f688265c92032076f4e",
        "IPY_MODEL_79170fb3a575433d8d4e0a6cb9c67faf",
        "IPY_MODEL_c789cd4ba3a443ff9da48336c08c9c05",
        "IPY_MODEL_209609ca73cb49c3953d368eaa7d9f22",
        "IPY_MODEL_4ab890d6adae4fb09da9c3d25cea2697",
        "IPY_MODEL_aca5afcbf13d49fca1bc2a1eb6799fdf"
       ],
       "layout": "IPY_MODEL_db54f7d2a5404895a7e5d89b59dd085f"
      }
     },
     "3904637bc6e14450a073b6d328d5306e": {
      "model_module": "@jupyter-widgets/base",
      "model_module_version": "1.2.0",
      "model_name": "LayoutModel",
      "state": {}
     },
     "391f706409814b3d8d1f81745fa705f2": {
      "model_module": "@jupyter-widgets/controls",
      "model_module_version": "1.5.0",
      "model_name": "DescriptionStyleModel",
      "state": {
       "description_width": ""
      }
     },
     "3924c02845f240eaae558eff284849ae": {
      "model_module": "@jupyter-widgets/controls",
      "model_module_version": "1.5.0",
      "model_name": "DescriptionStyleModel",
      "state": {
       "description_width": ""
      }
     },
     "39380238941a4f0eb63017e4f3d4b75f": {
      "model_module": "@jupyter-widgets/controls",
      "model_module_version": "1.5.0",
      "model_name": "DescriptionStyleModel",
      "state": {
       "description_width": ""
      }
     },
     "393ac848cd46404db53545fb25f52df4": {
      "model_module": "@jupyter-widgets/base",
      "model_module_version": "1.2.0",
      "model_name": "LayoutModel",
      "state": {}
     },
     "393c837dec674389869def88a591a6b9": {
      "model_module": "@jupyter-widgets/controls",
      "model_module_version": "1.5.0",
      "model_name": "DescriptionStyleModel",
      "state": {
       "description_width": ""
      }
     },
     "393ebf5988434004834fb293a74e8420": {
      "model_module": "@jupyter-widgets/controls",
      "model_module_version": "1.5.0",
      "model_name": "HTMLModel",
      "state": {
       "layout": "IPY_MODEL_287cb19e53fe46ea80e9480bcc8ab8c4",
       "style": "IPY_MODEL_4b7d82d2b6a444529bfc31d6e1cb37e2",
       "value": "<b>Thumbnail: </b> "
      }
     },
     "396f44d37d484f589971c1c5987839bc": {
      "model_module": "@jupyter-widgets/controls",
      "model_module_version": "1.5.0",
      "model_name": "DescriptionStyleModel",
      "state": {
       "description_width": ""
      }
     },
     "3978699734e349bc88138a011477efa9": {
      "model_module": "@jupyter-widgets/controls",
      "model_module_version": "1.5.0",
      "model_name": "DescriptionStyleModel",
      "state": {
       "description_width": ""
      }
     },
     "39969b7d478141388c7583435e8b91cd": {
      "model_module": "@jupyter-widgets/base",
      "model_module_version": "1.2.0",
      "model_name": "LayoutModel",
      "state": {}
     },
     "39b0d6b48bed4dad8d22e336d3c3cb9a": {
      "model_module": "@jupyter-widgets/controls",
      "model_module_version": "1.5.0",
      "model_name": "DescriptionStyleModel",
      "state": {
       "description_width": ""
      }
     },
     "39bf9abed8124ee98fc33b84c69795c6": {
      "model_module": "@jupyter-widgets/controls",
      "model_module_version": "1.5.0",
      "model_name": "DescriptionStyleModel",
      "state": {
       "description_width": ""
      }
     },
     "39e9b58ab31f46a099a4c5212fd6ded6": {
      "model_module": "@jupyter-widgets/base",
      "model_module_version": "1.2.0",
      "model_name": "LayoutModel",
      "state": {}
     },
     "3a4b9a43937646daa882e45b094ff21f": {
      "model_module": "@jupyter-widgets/controls",
      "model_module_version": "1.5.0",
      "model_name": "DescriptionStyleModel",
      "state": {
       "description_width": ""
      }
     },
     "3a535d55ed904d2ab38b15efcc5b5486": {
      "model_module": "@jupyter-widgets/controls",
      "model_module_version": "1.5.0",
      "model_name": "HTMLModel",
      "state": {
       "layout": "IPY_MODEL_6826d96a8a8b4d3c8ae9580a544a2d1e",
       "style": "IPY_MODEL_512e6ec17db24c74bb7d9832b523477e",
       "value": "<a href='https://github.com/ICOS-Carbon-Portal/jupyter/issues' target='_blank'>Click here to report an issue</a>"
      }
     },
     "3a5cf1bd011b45bc82d4371844c9a1ca": {
      "model_module": "@jupyter-widgets/controls",
      "model_module_version": "1.5.0",
      "model_name": "GridBoxModel",
      "state": {
       "children": [
        "IPY_MODEL_5cbd0c2a0c474f29bd3b41f63a60e8ed",
        "IPY_MODEL_c75edbf6a72649eeb5976f0595119407"
       ],
       "layout": "IPY_MODEL_7a4b6319a8c245f6b693e572a2ac9891"
      }
     },
     "3a9cf80d1be04f15898e839f35fa2c65": {
      "model_module": "@jupyter-widgets/controls",
      "model_module_version": "1.5.0",
      "model_name": "HTMLModel",
      "state": {
       "layout": "IPY_MODEL_4a7347e08b5442d0b40ab330cd38243b",
       "style": "IPY_MODEL_c71be957521b49d78626d0ed6d60b5fa",
       "value": "<b>GitHub: </b> "
      }
     },
     "3aa191d08b2243af8fa43b1957f84944": {
      "model_module": "@jupyter-widgets/controls",
      "model_module_version": "1.5.0",
      "model_name": "AccordionModel",
      "state": {
       "_titles": {
        "0": "pCO₂ data reduction part 1 - Gas calibration",
        "1": "pCO₂ Data Reduction part 2 - UWpCO2",
        "2": "pCO₂ Data Reduction part 3 - sensor data",
        "3": "pCO₂ Data Reduction part 4 - UW pCO₂ cruise",
        "4": "Functions and Settings for data reduction modules"
       },
       "children": [
        "IPY_MODEL_8bbe1468001b47b397b59dcc31f2e745",
        "IPY_MODEL_b581e83b5d5948d29e18d8f0c322b9a4",
        "IPY_MODEL_0751e7fa937e45068bda3eb5baa12615",
        "IPY_MODEL_50bc5a932b1f4cfcaf1c43bb08000a25",
        "IPY_MODEL_90cba51f120441a69aa1d1fa24f55ecd"
       ],
       "layout": "IPY_MODEL_ddb70ad084704dd5b6c4d88625d994da",
       "selected_index": null
      }
     },
     "3ac5352528994ae3bc531e4337ab61fd": {
      "model_module": "@jupyter-widgets/controls",
      "model_module_version": "1.5.0",
      "model_name": "DescriptionStyleModel",
      "state": {
       "description_width": ""
      }
     },
     "3ae3e76b170d4ef594a6c3cde0f9eaf6": {
      "model_module": "@jupyter-widgets/base",
      "model_module_version": "1.2.0",
      "model_name": "LayoutModel",
      "state": {}
     },
     "3afb3122c77648839b7f46e5e7711016": {
      "model_module": "@jupyter-widgets/base",
      "model_module_version": "1.2.0",
      "model_name": "LayoutModel",
      "state": {}
     },
     "3b2c12aca18d4750b7b641ae949b973d": {
      "model_module": "@jupyter-widgets/base",
      "model_module_version": "1.2.0",
      "model_name": "LayoutModel",
      "state": {}
     },
     "3b355ecc1ce3483d93ec1622a48b5bf2": {
      "model_module": "@jupyter-widgets/controls",
      "model_module_version": "1.5.0",
      "model_name": "HTMLModel",
      "state": {
       "layout": "IPY_MODEL_99a8c434939348d5b6ed6857b494503c",
       "style": "IPY_MODEL_b3844f2dfcde4d3a99c5bbc2526349fb",
       "value": "<b>Title: </b> "
      }
     },
     "3b638e8752b64113b5d7d4d89ef3d391": {
      "model_module": "@jupyter-widgets/base",
      "model_module_version": "1.2.0",
      "model_name": "LayoutModel",
      "state": {}
     },
     "3b8377e669ee40db889a75a63200fff5": {
      "model_module": "@jupyter-widgets/controls",
      "model_module_version": "1.5.0",
      "model_name": "HTMLModel",
      "state": {
       "layout": "IPY_MODEL_1a738efe9a6e4821bee5db28e90f8ccc",
       "style": "IPY_MODEL_82b20e62639a467aa99fb4c9f0b293c8",
       "value": "<b>Contact: </b> "
      }
     },
     "3b89049be80a4bde8648f3b3538cdb78": {
      "model_module": "@jupyter-widgets/base",
      "model_module_version": "1.2.0",
      "model_name": "LayoutModel",
      "state": {}
     },
     "3b8f73ffa78d4b499a41d34a8d41ce27": {
      "model_module": "@jupyter-widgets/base",
      "model_module_version": "1.2.0",
      "model_name": "LayoutModel",
      "state": {}
     },
     "3ba45f0b8d2c4ba19d527a152ae273cd": {
      "model_module": "@jupyter-widgets/controls",
      "model_module_version": "1.5.0",
      "model_name": "HTMLModel",
      "state": {
       "layout": "IPY_MODEL_0f84a6fb3a994693b8cba0ed66fe494a",
       "style": "IPY_MODEL_ea7f5a8cfe664cb6a82af04d847c1c13",
       "value": "This notebook is dedicated to estimating radiocarbon measurements and providing interactive visualizations of relevant maps and plots. More in particular, With the combination of a station’s footprint (<a href='http://stilt-model.org/index.php/Main/HomePage' target='_blank'>STILT</a>) for a given point in time and a spatially and temporally resolved emissions database where emissions are separated by sector <a href='https://doi.org/10.5194/essd-11-959-2019' target='_blank'>(EDGAR v4.3.2)</a> it is possible to estimate what the fossil fuel component at the station could be according to the model. Accounting for the biogenic component through a combination of the footprint with a biogenic model <a href='https://doi.org/10.1029/2006GB002735' target='_blank'>(VPRM)</a> allows for an estimate of the CO2 concentration at the station when combined with the anthropogenic emissions plus a background (model edge) concentration. Given the modelled fossil fuel component and the modelled CO2 concentration, the estimated nuclear contamination, and the (measured) background ∆14C, an estimate can be made of what the ∆14C at a station would be according to the model -estimates. How this can be done is described in <a href='https://agupubs.onlinelibrary.wiley.com/doi/10.1029/2003GL018477' target='_blank'>Levin et al.,2003</a> (equation 3). The nuclear contamination is not accounted for here. ∆14C measurements can hence be compared to model deduced values. Uncertainties in the modelled ratio stem from many different sources: the transport model footprints, the anthropogenic and biogenic emission databases and the nuclear emissions values used to estimate the nuclear contamination."
      }
     },
     "3ba8485857f748ae81e880a0e6320b44": {
      "model_module": "@jupyter-widgets/base",
      "model_module_version": "1.2.0",
      "model_name": "LayoutModel",
      "state": {}
     },
     "3bad89617b2547e3ab0c5b91ec4334d3": {
      "model_module": "@jupyter-widgets/controls",
      "model_module_version": "1.5.0",
      "model_name": "HTMLModel",
      "state": {
       "layout": "IPY_MODEL_1ad04a4b3ced4ad695ae28b403551f78",
       "style": "IPY_MODEL_1a51582b98a744f09d0cf39550776108",
       "value": "<b>GitHub: </b> "
      }
     },
     "3bc1ac119bc24bb3b56d28273841b0be": {
      "model_module": "@jupyter-widgets/controls",
      "model_module_version": "1.5.0",
      "model_name": "DescriptionStyleModel",
      "state": {
       "description_width": ""
      }
     },
     "3bc8d7ba8de24f42baf2b7fc1f611462": {
      "model_module": "@jupyter-widgets/base",
      "model_module_version": "1.2.0",
      "model_name": "LayoutModel",
      "state": {
       "grid_gap": "5px 10px",
       "grid_template_columns": "auto",
       "grid_template_rows": "auto",
       "padding": "5px 0px 5px 0px",
       "width": "100%"
      }
     },
     "3bdac78251b44a9491b84895899ed1e3": {
      "model_module": "@jupyter-widgets/controls",
      "model_module_version": "1.5.0",
      "model_name": "DescriptionStyleModel",
      "state": {
       "description_width": ""
      }
     },
     "3be25ef851f8468aac31ecf54cbb9531": {
      "model_module": "@jupyter-widgets/controls",
      "model_module_version": "1.5.0",
      "model_name": "GridBoxModel",
      "state": {
       "children": [
        "IPY_MODEL_2131d83aa2fb4a8cb3f70284a588dd1b",
        "IPY_MODEL_cbe915e49a294ad996b19208a79e69f4",
        "IPY_MODEL_8dc48488ca3f416b88f5e6c8e264c572",
        "IPY_MODEL_bff3af0656044c9ea9aa2a06eb295405",
        "IPY_MODEL_b8d77c8e41dd440794abf679e5c0902d",
        "IPY_MODEL_d4550e6554db453eb28193f0b0b4cd81",
        "IPY_MODEL_659ed11f050a43769617e3eff91f5461",
        "IPY_MODEL_e0430fa36364437eb1fbc18817caae54",
        "IPY_MODEL_d47ab93ae6b64dfd9886cc29d38eec3f",
        "IPY_MODEL_6ac75f0b6d39413c9a8ac790b6ec77c6"
       ],
       "layout": "IPY_MODEL_706c90ced7024f11a8c06d5432c8f9fa"
      }
     },
     "3be56ae33e0b443a8636fb078bcea087": {
      "model_module": "@jupyter-widgets/controls",
      "model_module_version": "1.5.0",
      "model_name": "HTMLModel",
      "state": {
       "layout": "IPY_MODEL_642926f91d3145bc9496086fcda54fe3",
       "style": "IPY_MODEL_fc913a852824408fa7e6032dcc95b8e8",
       "value": "<img src=\"./icos_jupyter_notebooks/ind_tools/img/05_education/phd/ucf/tools/tools_sh.PNG\">"
      }
     },
     "3c0a04bac31a43e39cf479041b653fda": {
      "model_module": "@jupyter-widgets/controls",
      "model_module_version": "1.5.0",
      "model_name": "DescriptionStyleModel",
      "state": {
       "description_width": ""
      }
     },
     "3c17e935808f48529fa44b42ba47617d": {
      "model_module": "@jupyter-widgets/base",
      "model_module_version": "1.2.0",
      "model_name": "LayoutModel",
      "state": {
       "grid_gap": "5px 10px",
       "grid_template_columns": "auto",
       "grid_template_rows": "auto",
       "padding": "5px 0px 5px 0px",
       "width": "100%"
      }
     },
     "3c182ba7037f4efda1215c3ea8ec34f4": {
      "model_module": "@jupyter-widgets/controls",
      "model_module_version": "1.5.0",
      "model_name": "DescriptionStyleModel",
      "state": {
       "description_width": ""
      }
     },
     "3c4c4753505446af803b2fbc22f0db73": {
      "model_module": "@jupyter-widgets/controls",
      "model_module_version": "1.5.0",
      "model_name": "HTMLModel",
      "state": {
       "layout": "IPY_MODEL_ea3a9eeee4824f1b8faf014bf7bece69",
       "style": "IPY_MODEL_75458c7ed38f4a7ba545811f8ac419ea",
       "value": "<b>Title: </b> "
      }
     },
     "3c5adbbbe17b4026bce035ff7dc27b11": {
      "model_module": "@jupyter-widgets/controls",
      "model_module_version": "1.5.0",
      "model_name": "DescriptionStyleModel",
      "state": {
       "description_width": ""
      }
     },
     "3c60e055e2a9415bb102335f502410eb": {
      "model_module": "@jupyter-widgets/controls",
      "model_module_version": "1.5.0",
      "model_name": "DescriptionStyleModel",
      "state": {
       "description_width": ""
      }
     },
     "3c6df4305e234fa696c80303a2f3a99a": {
      "model_module": "@jupyter-widgets/base",
      "model_module_version": "1.2.0",
      "model_name": "LayoutModel",
      "state": {
       "grid_gap": "5px 10px",
       "grid_template_columns": "100px auto",
       "grid_template_rows": "auto auto auto auto auto",
       "padding": "50px 0px 70px 0px",
       "width": "100%"
      }
     },
     "3c6e310b22df4829bb419b9ac7968727": {
      "model_module": "@jupyter-widgets/controls",
      "model_module_version": "1.5.0",
      "model_name": "HTMLModel",
      "state": {
       "layout": "IPY_MODEL_e5a08e5b43cc4c9291eaf92e7f9da204",
       "style": "IPY_MODEL_ced1644882f640c3a0ec39d634f06c5d",
       "value": "<a href='https://github.com/ICOS-Carbon-Portal/jupyter/issues' target='_blank'>Click here to report an issue</a>"
      }
     },
     "3c8bbd9f4f8f41d881c85b1854478fa8": {
      "model_module": "@jupyter-widgets/controls",
      "model_module_version": "1.5.0",
      "model_name": "HTMLModel",
      "state": {
       "layout": "IPY_MODEL_f75ea4ad14a14666a68e3acfa9349a52",
       "style": "IPY_MODEL_3d5cff98bf8146f5b25505b1d425cfdf",
       "value": "<b>GitHub: </b> "
      }
     },
     "3c9481a0bc644a60ab210fd69b666171": {
      "model_module": "@jupyter-widgets/controls",
      "model_module_version": "1.5.0",
      "model_name": "DescriptionStyleModel",
      "state": {
       "description_width": ""
      }
     },
     "3ce46018fd9e4825a58dccd39d5e2588": {
      "model_module": "@jupyter-widgets/controls",
      "model_module_version": "1.5.0",
      "model_name": "DescriptionStyleModel",
      "state": {
       "description_width": ""
      }
     },
     "3ceafa0993d145cbb9f394560ac4b02e": {
      "model_module": "@jupyter-widgets/base",
      "model_module_version": "1.2.0",
      "model_name": "LayoutModel",
      "state": {}
     },
     "3cfe6edc96524a4b80808c5a31e8f84a": {
      "model_module": "@jupyter-widgets/base",
      "model_module_version": "1.2.0",
      "model_name": "LayoutModel",
      "state": {}
     },
     "3d00b1bf1da24603abcac1600a4b2403": {
      "model_module": "@jupyter-widgets/controls",
      "model_module_version": "1.5.0",
      "model_name": "GridBoxModel",
      "state": {
       "children": [
        "IPY_MODEL_02ba198a44794f2296b96a0494f06c8f",
        "IPY_MODEL_add57b69dfd5465abdd26d588f4014ac",
        "IPY_MODEL_d87b9e992c9c4b07b784a7f322709e62",
        "IPY_MODEL_29e402a9ec20456da5272f134db1f789",
        "IPY_MODEL_2259ca5c511f40bc812e63b5af5ae77e",
        "IPY_MODEL_4de86e438c264567ba4ce1825b75eb5f",
        "IPY_MODEL_6d0fd8359eba47d6b338a12e37e9c49a",
        "IPY_MODEL_92f6e3b528044442abb401add352b239",
        "IPY_MODEL_424790803dd04c78a76842c23e19b721",
        "IPY_MODEL_ea52002bc089443390f8790c8946866b"
       ],
       "layout": "IPY_MODEL_abf99b8083fd499cb3a70848051c55cd"
      }
     },
     "3d01cd11975449a1b312de17471ddcc3": {
      "model_module": "@jupyter-widgets/controls",
      "model_module_version": "1.5.0",
      "model_name": "DescriptionStyleModel",
      "state": {
       "description_width": ""
      }
     },
     "3d02c82aed944aacbe75480c2dcd511c": {
      "model_module": "@jupyter-widgets/base",
      "model_module_version": "1.2.0",
      "model_name": "LayoutModel",
      "state": {}
     },
     "3d1ac6ee1bf24fab9a5dbda5b70b0d3d": {
      "model_module": "@jupyter-widgets/controls",
      "model_module_version": "1.5.0",
      "model_name": "DescriptionStyleModel",
      "state": {
       "description_width": ""
      }
     },
     "3d25b8e3991c440bb547c07f21958e7b": {
      "model_module": "@jupyter-widgets/controls",
      "model_module_version": "1.5.0",
      "model_name": "AccordionModel",
      "state": {
       "_titles": {
        "0": "pCO₂ data reduction part 1 - Gas calibration",
        "1": "pCO₂ Data Reduction part 2 - UWpCO2",
        "2": "pCO₂ Data Reduction part 3 - sensor data",
        "3": "pCO₂ Data Reduction part 4 - UW pCO₂ cruise",
        "4": "Functions and Settings for data reduction modules"
       },
       "children": [
        "IPY_MODEL_edd094e184444e64b9831774372a89ca",
        "IPY_MODEL_0c947b2256894bd7986e8366006f7105",
        "IPY_MODEL_98967a802ef44af1a13f4669107b9bab",
        "IPY_MODEL_078f9231fb38486889440f688adc754b",
        "IPY_MODEL_e78a3b28dfcb45e4a1bad564349abb91"
       ],
       "layout": "IPY_MODEL_08f16e077fc1452aacad4adead896d09",
       "selected_index": null
      }
     },
     "3d3c634d2a76404585944f36204346f0": {
      "model_module": "@jupyter-widgets/controls",
      "model_module_version": "1.5.0",
      "model_name": "AccordionModel",
      "state": {
       "_titles": {
        "0": "Introduction",
        "1": "Pylib examples",
        "2": "ICOS Jupyter notebooks",
        "3": "Project Jupyter notebooks",
        "4": "Education"
       },
       "children": [
        "IPY_MODEL_0786cc0de87648a4b1bb59e46d5b31cb",
        "IPY_MODEL_e551e3fa5c3f4793987c95c0c91ba634",
        "IPY_MODEL_9ccdbfa81b5c4ac0911e5604b2cd3789",
        "IPY_MODEL_1e57556048df47acbd0bd40210f893e1",
        "IPY_MODEL_35e4798f204748769e498dbcd137becc"
       ],
       "layout": "IPY_MODEL_4ecff8b909ea480497a1bf1e13de300a",
       "selected_index": null
      }
     },
     "3d5cff98bf8146f5b25505b1d425cfdf": {
      "model_module": "@jupyter-widgets/controls",
      "model_module_version": "1.5.0",
      "model_name": "DescriptionStyleModel",
      "state": {
       "description_width": ""
      }
     },
     "3d5d792dd619486d908d2ba74587f31d": {
      "model_module": "@jupyter-widgets/base",
      "model_module_version": "1.2.0",
      "model_name": "LayoutModel",
      "state": {
       "grid_gap": "5px 10px",
       "grid_template_columns": "100px auto",
       "grid_template_rows": "auto auto auto auto auto",
       "padding": "50px 0px 70px 0px",
       "width": "100%"
      }
     },
     "3d5f109b99584980aff66cd5b403d197": {
      "model_module": "@jupyter-widgets/controls",
      "model_module_version": "1.5.0",
      "model_name": "DescriptionStyleModel",
      "state": {
       "description_width": ""
      }
     },
     "3d6d08e7f93d48d5b47a0809b3cf3716": {
      "model_module": "@jupyter-widgets/controls",
      "model_module_version": "1.5.0",
      "model_name": "HTMLModel",
      "state": {
       "layout": "IPY_MODEL_34f74f59022248a7b73e757d3e6c34f1",
       "style": "IPY_MODEL_0447ba5a584744d7af24418defb9535f",
       "value": "<b>Title: </b> "
      }
     },
     "3d6fe06bfa8749e5b8087a57b035310b": {
      "model_module": "@jupyter-widgets/base",
      "model_module_version": "1.2.0",
      "model_name": "LayoutModel",
      "state": {}
     },
     "3d8a849301864e08a835d2fad0d1dead": {
      "model_module": "@jupyter-widgets/controls",
      "model_module_version": "1.5.0",
      "model_name": "DescriptionStyleModel",
      "state": {
       "description_width": ""
      }
     },
     "3d90493c0b1d4bb8a0a85aa4e7565538": {
      "model_module": "@jupyter-widgets/base",
      "model_module_version": "1.2.0",
      "model_name": "LayoutModel",
      "state": {
       "grid_gap": "5px 10px",
       "grid_template_columns": "100px auto",
       "grid_template_rows": "auto auto auto auto auto",
       "padding": "50px 0px 70px 0px",
       "width": "100%"
      }
     },
     "3dc8089252934dccabebd8fa1224e585": {
      "model_module": "@jupyter-widgets/controls",
      "model_module_version": "1.5.0",
      "model_name": "HTMLModel",
      "state": {
       "layout": "IPY_MODEL_4aab2f0fd1724b5bb8613236743079ec",
       "style": "IPY_MODEL_d1b2b440be7440fa8bd1075168c5495e",
       "value": "<b>Title: </b> "
      }
     },
     "3df934cdc0594f2f93b97e89dfb2b11c": {
      "model_module": "@jupyter-widgets/controls",
      "model_module_version": "1.5.0",
      "model_name": "DescriptionStyleModel",
      "state": {
       "description_width": ""
      }
     },
     "3dfae4ca39824afea346d84d1baffd6c": {
      "model_module": "@jupyter-widgets/controls",
      "model_module_version": "1.5.0",
      "model_name": "GridBoxModel",
      "state": {
       "children": [
        "IPY_MODEL_47431bedf20e4bc994f7e65d9d0e5561",
        "IPY_MODEL_10c62ac4d2e645e4826eaa26256581b9"
       ],
       "layout": "IPY_MODEL_3bc8d7ba8de24f42baf2b7fc1f611462"
      }
     },
     "3e0bc989953c4ba49ddd138591765ab9": {
      "model_module": "@jupyter-widgets/controls",
      "model_module_version": "1.5.0",
      "model_name": "HTMLModel",
      "state": {
       "layout": "IPY_MODEL_2250c5481663423ab8060a286b88c315",
       "style": "IPY_MODEL_32997f389a7c4391b38aff2c8684267b",
       "value": "This subcategory includes educational material and notebooks with exercises for PhD courses. The exercises make use of ICOS data products."
      }
     },
     "3e1fd68fecc948e8ae6b640761817522": {
      "model_module": "@jupyter-widgets/controls",
      "model_module_version": "1.5.0",
      "model_name": "DescriptionStyleModel",
      "state": {
       "description_width": ""
      }
     },
     "3e33d2d715444dfdbe68e17392595eb4": {
      "model_module": "@jupyter-widgets/base",
      "model_module_version": "1.2.0",
      "model_name": "LayoutModel",
      "state": {}
     },
     "3e3c36aa6a254204a5e44e2793063552": {
      "model_module": "@jupyter-widgets/base",
      "model_module_version": "1.2.0",
      "model_name": "LayoutModel",
      "state": {}
     },
     "3e5b9ab003be419ea4d55d001245cee2": {
      "model_module": "@jupyter-widgets/controls",
      "model_module_version": "1.5.0",
      "model_name": "DescriptionStyleModel",
      "state": {
       "description_width": ""
      }
     },
     "3e64fc820513441697ad6f44949fec16": {
      "model_module": "@jupyter-widgets/base",
      "model_module_version": "1.2.0",
      "model_name": "LayoutModel",
      "state": {
       "grid_gap": "5px 10px",
       "grid_template_columns": "100px auto",
       "grid_template_rows": "auto auto auto auto auto",
       "padding": "50px 0px 70px 0px",
       "width": "100%"
      }
     },
     "3e780473a63a46428d4ff09166ea3c30": {
      "model_module": "@jupyter-widgets/controls",
      "model_module_version": "1.5.0",
      "model_name": "HTMLModel",
      "state": {
       "layout": "IPY_MODEL_18412ba5700f47d99da2c2f5c70ba4e2",
       "style": "IPY_MODEL_539d61c954bf465b93d9579be6e21aee",
       "value": "<b>Title: </b> "
      }
     },
     "3e87450e26b04d8c838e096ded419caf": {
      "model_module": "@jupyter-widgets/controls",
      "model_module_version": "1.5.0",
      "model_name": "HTMLModel",
      "state": {
       "layout": "IPY_MODEL_951072b3b84b46dea7b47effda1af069",
       "style": "IPY_MODEL_8207e3a2369f4b209497d645a4c18a2f",
       "value": "<b>Thumbnail: </b> "
      }
     },
     "3eb4c7066c464da593f6c2e9f54ea758": {
      "model_module": "@jupyter-widgets/controls",
      "model_module_version": "1.5.0",
      "model_name": "AccordionModel",
      "state": {
       "_titles": {
        "0": "ICOS Carbon Portal Python Library - Access data and meta data",
        "1": "ICOS Carbon Portal Python Library - Explore ICOS stations",
        "2": "ICOS Carbon Portal Python Library - Multisource",
        "3": "ICOS Carbon Portal Python Library - Access data and metadata of collections",
        "4": "ICOS Carbon Portal Python Library - Load data based on a sparql query",
        "5": "ICOS Carbon Portal Python Library - STILT",
        "6": "ICOS Carbon Portal Python Library - STILT footprint animation",
        "7": "ICOS Carbon Portal Python Library - STILT footprints and timeseries"
       },
       "children": [
        "IPY_MODEL_48ae41e281c445c1bd04c4a6acaccb27",
        "IPY_MODEL_3fccf4ef7c9741839141d596cfe168ac",
        "IPY_MODEL_303ad52fd0ad432db0243c7fb8065221",
        "IPY_MODEL_55d57174de77446fb16646c894d2d6d7",
        "IPY_MODEL_66b7d931c3bc44b9857a39bdd23f115c",
        "IPY_MODEL_9aa59e19fe5e483e8f8a6f7ac09ca9df",
        "IPY_MODEL_99d761bd206842c8b5e257b4f1803647",
        "IPY_MODEL_887f3f7f728f4dcf96b86f4035c224c2"
       ],
       "layout": "IPY_MODEL_6d675c3c38114aac889dcfa93af5f3c6",
       "selected_index": null
      }
     },
     "3eb62c90143c4dd186dcadf847b8b2d2": {
      "model_module": "@jupyter-widgets/controls",
      "model_module_version": "1.5.0",
      "model_name": "HTMLModel",
      "state": {
       "layout": "IPY_MODEL_66ee085c959346feafea39df6ace84c1",
       "style": "IPY_MODEL_60b6790a7ff14bf3bfcbd9d3429bf34d",
       "value": "<img src=\"./icos_jupyter_notebooks/ind_tools/img/04_proj_JNBs/otc_drw/ex2.PNG\">"
      }
     },
     "3f16878d19cd4b77ac72269de317a38d": {
      "model_module": "@jupyter-widgets/base",
      "model_module_version": "1.2.0",
      "model_name": "LayoutModel",
      "state": {}
     },
     "3f4b26254e4d4c0f9a99b5b5571a6099": {
      "model_module": "@jupyter-widgets/controls",
      "model_module_version": "1.5.0",
      "model_name": "HTMLModel",
      "state": {
       "layout": "IPY_MODEL_92b5b71e48634e3c81b8706b2df58d4b",
       "style": "IPY_MODEL_2b3e5a58616c4706914656c852daa721",
       "value": "<b>Description: </b> "
      }
     },
     "3f61a838fb1b42cab01249acdcbbce97": {
      "model_module": "@jupyter-widgets/controls",
      "model_module_version": "1.5.0",
      "model_name": "DescriptionStyleModel",
      "state": {
       "description_width": ""
      }
     },
     "3f73eb703c4d466982b9598092019158": {
      "model_module": "@jupyter-widgets/controls",
      "model_module_version": "1.5.0",
      "model_name": "DescriptionStyleModel",
      "state": {
       "description_width": ""
      }
     },
     "3f8785b0437d45fc8f96348fa08643cf": {
      "model_module": "@jupyter-widgets/controls",
      "model_module_version": "1.5.0",
      "model_name": "GridBoxModel",
      "state": {
       "children": [
        "IPY_MODEL_0be907cecb3140a79423123cce982e53",
        "IPY_MODEL_405efef522b5460d9eb7e7e4d14865a0",
        "IPY_MODEL_02ef5aa2c28a4bafb8fafec0dbd555d4",
        "IPY_MODEL_61ecf55b2dd344b7bf3e96822737d1cc",
        "IPY_MODEL_9682dec3a5ab4529ab1c224979fbc281",
        "IPY_MODEL_854427663f534cdcae8967d7f8becc50",
        "IPY_MODEL_ac40bd7a17e348028b92b43d7914e998",
        "IPY_MODEL_9fc1418ae6044150ac6c768679cdbde6",
        "IPY_MODEL_909e2666e145472580f4d9d4effd4b87",
        "IPY_MODEL_37d6ca99ff89416f81fcaf91bfc8c0f7"
       ],
       "layout": "IPY_MODEL_ee7a11cf4a63433089058477bbda3d37"
      }
     },
     "3f9f22637d224115b998ede8674eef0a": {
      "model_module": "@jupyter-widgets/controls",
      "model_module_version": "1.5.0",
      "model_name": "DescriptionStyleModel",
      "state": {
       "description_width": ""
      }
     },
     "3fccf4ef7c9741839141d596cfe168ac": {
      "model_module": "@jupyter-widgets/controls",
      "model_module_version": "1.5.0",
      "model_name": "GridBoxModel",
      "state": {
       "children": [
        "IPY_MODEL_1afa9532f6304586a4517262b3096c95",
        "IPY_MODEL_dc97fd4bdbb445e480670ef903e6a5a3",
        "IPY_MODEL_b60ea26fb08e4f84addf103f893bfd83",
        "IPY_MODEL_a9a345a19b2e4a7dac9801c948fd7b1c",
        "IPY_MODEL_e11817c079824e88aef574f94f6f5318",
        "IPY_MODEL_5dd5afea06544307a19c3565f529117c",
        "IPY_MODEL_faaffe484cbf4bacae40421debf78775",
        "IPY_MODEL_c5bfc7b6ccbb4b7b9e538a936a828aa6",
        "IPY_MODEL_229d39fbce334aa98f649ac378bb61fa",
        "IPY_MODEL_b0f46341852441f59992ac2379b5e730"
       ],
       "layout": "IPY_MODEL_d73519ab51e74f29a7afae79330837bb"
      }
     },
     "3fe5fb8a673545caa70bd0a86f40835d": {
      "model_module": "@jupyter-widgets/controls",
      "model_module_version": "1.5.0",
      "model_name": "DescriptionStyleModel",
      "state": {
       "description_width": ""
      }
     },
     "401bf48cc4654a95ae771bbc71dc33b6": {
      "model_module": "@jupyter-widgets/controls",
      "model_module_version": "1.5.0",
      "model_name": "DescriptionStyleModel",
      "state": {
       "description_width": ""
      }
     },
     "401c181381ff4f33b39e0d4520cbc4a5": {
      "model_module": "@jupyter-widgets/controls",
      "model_module_version": "1.5.0",
      "model_name": "HTMLModel",
      "state": {
       "layout": "IPY_MODEL_7e8f39fe9b7a4ac397a3c71eb872ecb0",
       "style": "IPY_MODEL_cec6fa8cbddf4ebd957dacd1973098de",
       "value": "<img src=\"./icos_jupyter_notebooks/ind_tools/img/04_proj_JNBs/envrifair_ws/maps/ex1.PNG\">"
      }
     },
     "4023ca1051fc4ebf88f3ce738ae70bae": {
      "model_module": "@jupyter-widgets/base",
      "model_module_version": "1.2.0",
      "model_name": "LayoutModel",
      "state": {}
     },
     "402451fa81f744a2b76c1fb4b7eb002d": {
      "model_module": "@jupyter-widgets/controls",
      "model_module_version": "1.5.0",
      "model_name": "DescriptionStyleModel",
      "state": {
       "description_width": ""
      }
     },
     "405553ed153a4e3da829ca9b57e5ebc6": {
      "model_module": "@jupyter-widgets/controls",
      "model_module_version": "1.5.0",
      "model_name": "DescriptionStyleModel",
      "state": {
       "description_width": ""
      }
     },
     "405efef522b5460d9eb7e7e4d14865a0": {
      "model_module": "@jupyter-widgets/controls",
      "model_module_version": "1.5.0",
      "model_name": "HTMLModel",
      "state": {
       "layout": "IPY_MODEL_cc44cdc783a9491b967f3c10c97c7778",
       "style": "IPY_MODEL_764be8ab38f8401cb4b9f75b3c0d6a44",
       "value": "<a href=./education/MSc_BSc/drought_2018/htm_icos_eco_data_drought_2018_anonymous_v2_all_code_visible.ipynb target='_blank'>Drought 2018 - ICOS ecosystem data from Hyltemossa (all code visible)</a>"
      }
     },
     "4087304f1ff442a19b285e18701c767d": {
      "model_module": "@jupyter-widgets/controls",
      "model_module_version": "1.5.0",
      "model_name": "DescriptionStyleModel",
      "state": {
       "description_width": ""
      }
     },
     "40b7e4c5d3fe4987a1077cb0643f6374": {
      "model_module": "@jupyter-widgets/base",
      "model_module_version": "1.2.0",
      "model_name": "LayoutModel",
      "state": {}
     },
     "40d419f9c3ef41fabcd5d6b082be6476": {
      "model_module": "@jupyter-widgets/base",
      "model_module_version": "1.2.0",
      "model_name": "LayoutModel",
      "state": {}
     },
     "40deb7d0191148a79f5b61a88a2b639e": {
      "model_module": "@jupyter-widgets/controls",
      "model_module_version": "1.5.0",
      "model_name": "DescriptionStyleModel",
      "state": {
       "description_width": ""
      }
     },
     "40e927317b0a45299b6e24d0922e1eec": {
      "model_module": "@jupyter-widgets/controls",
      "model_module_version": "1.5.0",
      "model_name": "HTMLModel",
      "state": {
       "layout": "IPY_MODEL_2e78d1b28b684331a77427f3fe5198d8",
       "style": "IPY_MODEL_14b5394c0ec2492ba988055bf3bd3464",
       "value": "<img src=\"./icos_jupyter_notebooks/ind_tools/img//05_education/general/02_cc_htm/htm_station_photo_mashup.png\">"
      }
     },
     "4105742d1efa4a1fbd7f0fb9209a3894": {
      "model_module": "@jupyter-widgets/controls",
      "model_module_version": "1.5.0",
      "model_name": "DescriptionStyleModel",
      "state": {
       "description_width": ""
      }
     },
     "4108b7acd7dd489590f7e4c08923808d": {
      "model_module": "@jupyter-widgets/controls",
      "model_module_version": "1.5.0",
      "model_name": "DescriptionStyleModel",
      "state": {
       "description_width": ""
      }
     },
     "412214a4b60d402285157cb542fae505": {
      "model_module": "@jupyter-widgets/controls",
      "model_module_version": "1.5.0",
      "model_name": "DescriptionStyleModel",
      "state": {
       "description_width": ""
      }
     },
     "41435c7f0e984269907340ef7e4e2514": {
      "model_module": "@jupyter-widgets/controls",
      "model_module_version": "1.5.0",
      "model_name": "DescriptionStyleModel",
      "state": {
       "description_width": ""
      }
     },
     "41463ee7a9f842f6aae3ba4f0470e5ab": {
      "model_module": "@jupyter-widgets/controls",
      "model_module_version": "1.5.0",
      "model_name": "DescriptionStyleModel",
      "state": {
       "description_width": ""
      }
     },
     "414b6e6f180446d3a38e2ee4c7d235bf": {
      "model_module": "@jupyter-widgets/controls",
      "model_module_version": "1.5.0",
      "model_name": "DescriptionStyleModel",
      "state": {
       "description_width": ""
      }
     },
     "415d4a2899f942a8bc3a2c9c2744160e": {
      "model_module": "@jupyter-widgets/base",
      "model_module_version": "1.2.0",
      "model_name": "LayoutModel",
      "state": {}
     },
     "416ab629d2e34a40906ed709ec3744a1": {
      "model_module": "@jupyter-widgets/controls",
      "model_module_version": "1.5.0",
      "model_name": "DescriptionStyleModel",
      "state": {
       "description_width": ""
      }
     },
     "4172d69d362d4a8590fcdc08023b4474": {
      "model_module": "@jupyter-widgets/controls",
      "model_module_version": "1.5.0",
      "model_name": "DescriptionStyleModel",
      "state": {
       "description_width": ""
      }
     },
     "418f86c90d8d4ab48b49ac01432e75f9": {
      "model_module": "@jupyter-widgets/controls",
      "model_module_version": "1.5.0",
      "model_name": "DescriptionStyleModel",
      "state": {
       "description_width": ""
      }
     },
     "41918898f4de4c96b8f97a0eea73bee0": {
      "model_module": "@jupyter-widgets/controls",
      "model_module_version": "1.5.0",
      "model_name": "GridBoxModel",
      "state": {
       "children": [
        "IPY_MODEL_3dc8089252934dccabebd8fa1224e585",
        "IPY_MODEL_99a90455545b4c91a465105fbcf081a0",
        "IPY_MODEL_99417520762d4c9187d7b7611c52f45b",
        "IPY_MODEL_a09c7d4fee034740bb6fca78ef8f37e9",
        "IPY_MODEL_cbf0e2fcef5649e491b437e632c9b96d",
        "IPY_MODEL_e257e3bd06f84d84a33a5e37728889d8",
        "IPY_MODEL_9daedee2a7ef4ca082e294cf023ebfcd",
        "IPY_MODEL_d446093cb3ce4f6ba39b8477d5695d46",
        "IPY_MODEL_caa28d8006b2444ca6a5d6ef620d3eb1",
        "IPY_MODEL_637a95044c0246819649e28096ee3000"
       ],
       "layout": "IPY_MODEL_4b28fa10b6d5445e87add2aaba149be6"
      }
     },
     "41963cdae98f408ca617fc599e89cada": {
      "model_module": "@jupyter-widgets/base",
      "model_module_version": "1.2.0",
      "model_name": "LayoutModel",
      "state": {}
     },
     "41ad40e713434f89af0070fbaa0a0f19": {
      "model_module": "@jupyter-widgets/controls",
      "model_module_version": "1.5.0",
      "model_name": "AccordionModel",
      "state": {
       "_titles": {
        "0": "Curve fitting methods for CO2 time series",
        "1": "Explore ICOS atmospheric observations",
        "2": "ICOS atmospheric observation statistics",
        "3": "ICOS atmospheric observations vs STILT modelled values",
        "4": "ICOS data availability table",
        "5": "Characterization of networks of atmospheric measurement stations",
        "6": "Radiocarbon",
        "7": "Characterization of atmospheric measurement stations",
        "8": "Visualization of average footprints"
       },
       "children": [
        "IPY_MODEL_38a095ade20b45eeb059acf1567ccc9c",
        "IPY_MODEL_84c61596860b4833acb8d59dcfced398",
        "IPY_MODEL_19dfc29c16734ba1b7f9dc6c60f781d7",
        "IPY_MODEL_cf74864d65674fd7867dc6f03c1f47cf",
        "IPY_MODEL_a11b90b47ce449d6b3d1dad39baa0b27",
        "IPY_MODEL_85940cdbad7741b1b49f2bc781ccdf48",
        "IPY_MODEL_e74cb322e9704d98b8ff6468e69fc959",
        "IPY_MODEL_3be25ef851f8468aac31ecf54cbb9531",
        "IPY_MODEL_e92257fcbad64bd59e212c3f58b3f7dd"
       ],
       "layout": "IPY_MODEL_6dbaf623f7ac48d4b449e450da054cb7",
       "selected_index": null
      }
     },
     "41afc0e6c8724fa1a47d51cb305871d1": {
      "model_module": "@jupyter-widgets/controls",
      "model_module_version": "1.5.0",
      "model_name": "DescriptionStyleModel",
      "state": {
       "description_width": ""
      }
     },
     "41b1bb07592144088a91b70a20537667": {
      "model_module": "@jupyter-widgets/controls",
      "model_module_version": "1.5.0",
      "model_name": "HTMLModel",
      "state": {
       "layout": "IPY_MODEL_611b1af9649748cea8012aa54ceee772",
       "style": "IPY_MODEL_39b0d6b48bed4dad8d22e336d3c3cb9a",
       "value": "<b>Title: </b> "
      }
     },
     "41d23857138b42bbaef99c68b3aa7e7f": {
      "model_module": "@jupyter-widgets/base",
      "model_module_version": "1.2.0",
      "model_name": "LayoutModel",
      "state": {}
     },
     "41eb22fdd083498bae87f7e1559f816e": {
      "model_module": "@jupyter-widgets/controls",
      "model_module_version": "1.5.0",
      "model_name": "HTMLModel",
      "state": {
       "layout": "IPY_MODEL_ee37348477ad48f2a30c30674d2b0882",
       "style": "IPY_MODEL_283ba20370fb4d28aec6bdf9ab6344ac",
       "value": "<a href=./education/General/carboncycle_htm.ipynb#Carbon-Cycle target='_blank'>Carbon cycle - Hyltemossa</a>"
      }
     },
     "41f22fe75719436aae2669386bf5c245": {
      "model_module": "@jupyter-widgets/controls",
      "model_module_version": "1.5.0",
      "model_name": "DescriptionStyleModel",
      "state": {
       "description_width": ""
      }
     },
     "4205fde9780a48e5a2cec5acb1be1424": {
      "model_module": "@jupyter-widgets/controls",
      "model_module_version": "1.5.0",
      "model_name": "HTMLModel",
      "state": {
       "layout": "IPY_MODEL_314d63567c05424cadc041b7a6b5e0d6",
       "style": "IPY_MODEL_57364d8691b24ac2b4f425a699fe1c5e",
       "value": "This exercise package is focusing on how to use country masks on modelling results (i.e. vegetation modelling, inverse modelling) to estimate national budgets. You will use modelling results with different spatial resolutions together with country masks of different resolution and/or country coverage (i.e. incl. Exclusive Economic Zones - EEZ or not incl. EEZ)."
      }
     },
     "420c6e71d1f54fd38a7e22170d44b068": {
      "model_module": "@jupyter-widgets/controls",
      "model_module_version": "1.5.0",
      "model_name": "HTMLModel",
      "state": {
       "layout": "IPY_MODEL_987e3e1b7cdb4b76ba22cc4981b6944a",
       "style": "IPY_MODEL_4227478a55b845719a2f48600ae3278c",
       "value": "<a href=\"mailto: jupyter-info@icos-cp.eu\">jupyter-info@icos-cp.eu</a>"
      }
     },
     "420f4ab18f4d4f78b8d58e18037f6624": {
      "model_module": "@jupyter-widgets/base",
      "model_module_version": "1.2.0",
      "model_name": "LayoutModel",
      "state": {}
     },
     "42256575840d42e9884fb6f09e2ac233": {
      "model_module": "@jupyter-widgets/controls",
      "model_module_version": "1.5.0",
      "model_name": "HTMLModel",
      "state": {
       "layout": "IPY_MODEL_c20bdbbb032e4d6a8e058dfc24a4f91b",
       "style": "IPY_MODEL_dcf4aef56fd645e4be1997271351d258",
       "value": "<a href='https://github.com/ICOS-Carbon-Portal/jupyter/issues' target='_blank'>Click here to report an issue</a>"
      }
     },
     "4227478a55b845719a2f48600ae3278c": {
      "model_module": "@jupyter-widgets/controls",
      "model_module_version": "1.5.0",
      "model_name": "DescriptionStyleModel",
      "state": {
       "description_width": ""
      }
     },
     "422e64c1bfa742469474d3340b7b076b": {
      "model_module": "@jupyter-widgets/base",
      "model_module_version": "1.2.0",
      "model_name": "LayoutModel",
      "state": {}
     },
     "424790803dd04c78a76842c23e19b721": {
      "model_module": "@jupyter-widgets/controls",
      "model_module_version": "1.5.0",
      "model_name": "HTMLModel",
      "state": {
       "layout": "IPY_MODEL_988728ad88014b9488cc1cbf84e0dc91",
       "style": "IPY_MODEL_ae3b52379dc74af6a420311c4f0f6a58",
       "value": "<b>Thumbnail: </b> "
      }
     },
     "4255af0ba33043cf94392a002d046ef6": {
      "model_module": "@jupyter-widgets/controls",
      "model_module_version": "1.5.0",
      "model_name": "DescriptionStyleModel",
      "state": {
       "description_width": ""
      }
     },
     "425c88c811a64383be5110b8587e01a2": {
      "model_module": "@jupyter-widgets/base",
      "model_module_version": "1.2.0",
      "model_name": "LayoutModel",
      "state": {}
     },
     "4261085e5951419a9475fd3224e83f66": {
      "model_module": "@jupyter-widgets/controls",
      "model_module_version": "1.5.0",
      "model_name": "HTMLModel",
      "state": {
       "layout": "IPY_MODEL_f7f69182f4a94936b65a6aec5c62eabc",
       "style": "IPY_MODEL_4d2de7e8fbd3466a9a4432aa31e37c6b",
       "value": "<a href=./project_jupyter_notebooks/RINGO_T1.3/ICOS_flasksampling_fossilfuel.ipynb target='_blank'>Jupyter notebook for selecting high fossil fuel CO2 events at ICOS stations</a>"
      }
     },
     "4261cbb7750a48f1b8f9d69f6d17210a": {
      "model_module": "@jupyter-widgets/controls",
      "model_module_version": "1.5.0",
      "model_name": "DescriptionStyleModel",
      "state": {
       "description_width": ""
      }
     },
     "426906d30fff43a79ee0f4aca00453dd": {
      "model_module": "@jupyter-widgets/controls",
      "model_module_version": "1.5.0",
      "model_name": "HTMLModel",
      "state": {
       "layout": "IPY_MODEL_bfa2bc431e0b4b93a046ee178b759c30",
       "style": "IPY_MODEL_e7b390073826467989d0b729c8337a10",
       "value": "<b>Description: </b> "
      }
     },
     "4269ba661f2944d5a7029d44e1055ab0": {
      "model_module": "@jupyter-widgets/base",
      "model_module_version": "1.2.0",
      "model_name": "LayoutModel",
      "state": {}
     },
     "426e179be5094328a971c965096f633e": {
      "model_module": "@jupyter-widgets/base",
      "model_module_version": "1.2.0",
      "model_name": "LayoutModel",
      "state": {
       "grid_gap": "5px 10px",
       "grid_template_columns": "100px auto",
       "grid_template_rows": "auto auto auto auto",
       "padding": "50px 0px 70px 0px",
       "width": "100%"
      }
     },
     "4276eeb398254b67bbe51257fb06ed1e": {
      "model_module": "@jupyter-widgets/controls",
      "model_module_version": "1.5.0",
      "model_name": "DescriptionStyleModel",
      "state": {
       "description_width": ""
      }
     },
     "428a161836364e16bff66e53f1a19b06": {
      "model_module": "@jupyter-widgets/base",
      "model_module_version": "1.2.0",
      "model_name": "LayoutModel",
      "state": {}
     },
     "428bb279654746239eb1c46d4834b9b1": {
      "model_module": "@jupyter-widgets/base",
      "model_module_version": "1.2.0",
      "model_name": "LayoutModel",
      "state": {}
     },
     "42c78fcebea24b1da62b1bd04d38af7a": {
      "model_module": "@jupyter-widgets/base",
      "model_module_version": "1.2.0",
      "model_name": "LayoutModel",
      "state": {}
     },
     "42e08759a85e407090de9bb36e894330": {
      "model_module": "@jupyter-widgets/controls",
      "model_module_version": "1.5.0",
      "model_name": "DescriptionStyleModel",
      "state": {
       "description_width": ""
      }
     },
     "42ed4f3e1ca848d1a55a9ef8dd6ff944": {
      "model_module": "@jupyter-widgets/controls",
      "model_module_version": "1.5.0",
      "model_name": "HTMLModel",
      "state": {
       "layout": "IPY_MODEL_9799bac4c17046d0b470fa3c0224ba9c",
       "style": "IPY_MODEL_ba783a50dcdc4478a2a31f8d0f720726",
       "value": "<a href=\"mailto: jupyter-info@icos-cp.eu\">jupyter-info@icos-cp.eu</a>"
      }
     },
     "4321a6ba979749be85f8bad022104aec": {
      "model_module": "@jupyter-widgets/base",
      "model_module_version": "1.2.0",
      "model_name": "LayoutModel",
      "state": {}
     },
     "436c104703a64f94ba6e210a98a04835": {
      "model_module": "@jupyter-widgets/controls",
      "model_module_version": "1.5.0",
      "model_name": "DescriptionStyleModel",
      "state": {
       "description_width": ""
      }
     },
     "436da2ba8cc44495a26f4f6d20bac2bc": {
      "model_module": "@jupyter-widgets/controls",
      "model_module_version": "1.5.0",
      "model_name": "DescriptionStyleModel",
      "state": {
       "description_width": ""
      }
     },
     "4383fd4fb9774f43b0feebccd7b825c0": {
      "model_module": "@jupyter-widgets/controls",
      "model_module_version": "1.5.0",
      "model_name": "HTMLModel",
      "state": {
       "layout": "IPY_MODEL_58dd1766a1d44c2eb7c7a161058c6588",
       "style": "IPY_MODEL_405553ed153a4e3da829ca9b57e5ebc6",
       "value": "<img src=\"./icos_jupyter_notebooks/ind_tools/img/02_pylib_ex/ex6b.PNG\">"
      }
     },
     "4397f0cd718846f2ab795ba105f3320b": {
      "model_module": "@jupyter-widgets/base",
      "model_module_version": "1.2.0",
      "model_name": "LayoutModel",
      "state": {}
     },
     "439ad2b013a94a7dba907f5dff94112c": {
      "model_module": "@jupyter-widgets/base",
      "model_module_version": "1.2.0",
      "model_name": "LayoutModel",
      "state": {
       "grid_gap": "5px 10px",
       "grid_template_columns": "auto",
       "grid_template_rows": "auto",
       "padding": "5px 0px 5px 0px",
       "width": "100%"
      }
     },
     "43a2c4ab6d6d4fba993f39fafbdc280b": {
      "model_module": "@jupyter-widgets/controls",
      "model_module_version": "1.5.0",
      "model_name": "DescriptionStyleModel",
      "state": {
       "description_width": ""
      }
     },
     "43a4eaef15704a6bb15a3654867f9718": {
      "model_module": "@jupyter-widgets/base",
      "model_module_version": "1.2.0",
      "model_name": "LayoutModel",
      "state": {
       "grid_gap": "5px 10px",
       "grid_template_columns": "auto",
       "grid_template_rows": "auto",
       "padding": "5px 0px 5px 0px",
       "width": "100%"
      }
     },
     "43f8c4d2a5c946768daec921b67b2288": {
      "model_module": "@jupyter-widgets/base",
      "model_module_version": "1.2.0",
      "model_name": "LayoutModel",
      "state": {}
     },
     "440815fb04014e2292fafec7eb3a1494": {
      "model_module": "@jupyter-widgets/controls",
      "model_module_version": "1.5.0",
      "model_name": "DescriptionStyleModel",
      "state": {
       "description_width": ""
      }
     },
     "442e2016fdac43f7a333523b30a3a72d": {
      "model_module": "@jupyter-widgets/controls",
      "model_module_version": "1.5.0",
      "model_name": "DescriptionStyleModel",
      "state": {
       "description_width": ""
      }
     },
     "4440388fed9347b58ac41103c701b819": {
      "model_module": "@jupyter-widgets/base",
      "model_module_version": "1.2.0",
      "model_name": "LayoutModel",
      "state": {}
     },
     "4446c40f7f0349fa91cf4bf0864633e7": {
      "model_module": "@jupyter-widgets/controls",
      "model_module_version": "1.5.0",
      "model_name": "HTMLModel",
      "state": {
       "layout": "IPY_MODEL_7ca209464fa741e0a60e728c177481de",
       "style": "IPY_MODEL_e6709a79f3de4302bc1564838fe89610",
       "value": "<a href=./project_jupyter_notebooks/envrifair_winterschool/timeseries/icos_obs_vs_stilt_timeseries.ipynb target='_blank'>ICOS observations vs STILT model output</a>"
      }
     },
     "444c7e6be8c8443d9880911404726014": {
      "model_module": "@jupyter-widgets/base",
      "model_module_version": "1.2.0",
      "model_name": "LayoutModel",
      "state": {}
     },
     "44576d2bf1364badb86ed127169ed16c": {
      "model_module": "@jupyter-widgets/base",
      "model_module_version": "1.2.0",
      "model_name": "LayoutModel",
      "state": {
       "grid_gap": "5px 10px",
       "grid_template_columns": "auto",
       "grid_template_rows": "auto",
       "padding": "5px 0px 5px 0px",
       "width": "100%"
      }
     },
     "446502fa094c422397c74fef2fe335f1": {
      "model_module": "@jupyter-widgets/base",
      "model_module_version": "1.2.0",
      "model_name": "LayoutModel",
      "state": {}
     },
     "4475650bde274895932def57b6177036": {
      "model_module": "@jupyter-widgets/controls",
      "model_module_version": "1.5.0",
      "model_name": "HTMLModel",
      "state": {
       "layout": "IPY_MODEL_30531395d72347e6a532a61d5270aac8",
       "style": "IPY_MODEL_2b37a83929fd4fa9b0bdc75104afe4dc",
       "value": "<a href=\"mailto: jupyter-info@icos-cp.eu\">jupyter-info@icos-cp.eu</a>, <a href=\"mailto: ute.karstens@nateko.lu.se\">ute.karstens@nateko.lu.se</a>"
      }
     },
     "44e54c6d733d414285285e7681c74eb8": {
      "model_module": "@jupyter-widgets/controls",
      "model_module_version": "1.5.0",
      "model_name": "HTMLModel",
      "state": {
       "layout": "IPY_MODEL_0e34630c7e744e059bf2e78a5e900925",
       "style": "IPY_MODEL_cfdeb5c916ea454dbc18f646ed934af9",
       "value": "<a href=./project_jupyter_notebooks/envrifair_winterschool/map/exercise3_station.ipynb target='_blank'>Exercise 3 - Research Station Map</a>"
      }
     },
     "44f2728021cf47ed852aa4d1d290a65c": {
      "model_module": "@jupyter-widgets/controls",
      "model_module_version": "1.5.0",
      "model_name": "DescriptionStyleModel",
      "state": {
       "description_width": ""
      }
     },
     "44fe338ee1924a78b3ad3c31af3910e2": {
      "model_module": "@jupyter-widgets/base",
      "model_module_version": "1.2.0",
      "model_name": "LayoutModel",
      "state": {}
     },
     "4500bfcdc1c84d0db5b6cc4ad5b5a94c": {
      "model_module": "@jupyter-widgets/controls",
      "model_module_version": "1.5.0",
      "model_name": "HTMLModel",
      "state": {
       "layout": "IPY_MODEL_1a5bf7c85d2846c097b2add4465844a5",
       "style": "IPY_MODEL_a4290de4f6f44ff3801a8a7d40d63944",
       "value": "<a href=./icos_jupyter_notebooks/visualization_average_footprints.ipynb target='_blank'>Visualization of average footprints</a>"
      }
     },
     "455f3d4d62b84980ad52fdd3e21e8e0f": {
      "model_module": "@jupyter-widgets/controls",
      "model_module_version": "1.5.0",
      "model_name": "DescriptionStyleModel",
      "state": {
       "description_width": ""
      }
     },
     "456843b3cf194e188c0d7ff6f61e5544": {
      "model_module": "@jupyter-widgets/controls",
      "model_module_version": "1.5.0",
      "model_name": "HTMLModel",
      "state": {
       "layout": "IPY_MODEL_9cb4da8ed82f41c6bfc9238cbb45b61d",
       "style": "IPY_MODEL_4bbaef9cff054d6595f18605cc8f9ea0",
       "value": "<b>Description: </b> "
      }
     },
     "4593bfdd14074297a55d2825b0c6fed9": {
      "model_module": "@jupyter-widgets/base",
      "model_module_version": "1.2.0",
      "model_name": "LayoutModel",
      "state": {}
     },
     "459b68f77cfb4d4eb93f978705e6a0c3": {
      "model_module": "@jupyter-widgets/controls",
      "model_module_version": "1.5.0",
      "model_name": "HTMLModel",
      "state": {
       "layout": "IPY_MODEL_6f6f52bab4c541a8986793f2887a914e",
       "style": "IPY_MODEL_4d1f68f2297c41fb86e74140ded2fa47",
       "value": "Based on a javascript library, <a href='https://leafletjs.com/' target='_blank'>leaflet</a>, a python interface is available, called <a href='https://python-visualization.github.io/folium/' target='_blank'>folium</a>. We will use this library to set up an interactive map with different basemaps and plugin-ins like measurement tools or full-screen view. We will also write a function to 'prettify' the html-content in the popup message"
      }
     },
     "45d55dd2b2af43d993c926a66cce2faa": {
      "model_module": "@jupyter-widgets/base",
      "model_module_version": "1.2.0",
      "model_name": "LayoutModel",
      "state": {}
     },
     "45e34b1cf7a64d77808aea434231c644": {
      "model_module": "@jupyter-widgets/controls",
      "model_module_version": "1.5.0",
      "model_name": "HTMLModel",
      "state": {
       "layout": "IPY_MODEL_4c5b910757b348e3b144c78c12251637",
       "style": "IPY_MODEL_9474511d811245cdb8ebc77667d95728",
       "value": "<b>Title: </b> "
      }
     },
     "45e39459020c4eff86e91d2510d88e26": {
      "model_module": "@jupyter-widgets/controls",
      "model_module_version": "1.5.0",
      "model_name": "AccordionModel",
      "state": {
       "_titles": {
        "0": "Introduction to Jupyter notebooks using ICOS/FLUXNET data",
        "1": "Vegetation modelling & inverse modelling",
        "2": "Upscaling eddy covariance GPP with remote sensing",
        "3": "Estimating national budgets",
        "4": "Drought 2018 - ICOS ecosystem data from Hyltemossa",
        "5": "Inspect FLUXNET ecosystem measurements",
        "6": "Inspect LPJ-GUESS modelled values",
        "7": "Station example",
        "8": "Python modules developed for the course"
       },
       "children": [
        "IPY_MODEL_3d00b1bf1da24603abcac1600a4b2403",
        "IPY_MODEL_2423385a2b70440c867fd15a8033068f",
        "IPY_MODEL_9487a831e254464aa06b12ffa645ce80",
        "IPY_MODEL_a64faaaaeef14744aa840b145c9480ce",
        "IPY_MODEL_ffd38263f76745ec8aab4bdd5c971533",
        "IPY_MODEL_d787fe6757be49caab819fbbad836c09",
        "IPY_MODEL_7dda8615a87a43d891629d011c9163e0",
        "IPY_MODEL_d5872ecf76d54ae680b4ef62496f5474",
        "IPY_MODEL_7bc0ff0d82914a869e27fa1cf81f08f0"
       ],
       "layout": "IPY_MODEL_73b705a5c7684bcca3633587c577b601",
       "selected_index": null
      }
     },
     "45ebac67eb2a4d08a895bf890b808caa": {
      "model_module": "@jupyter-widgets/controls",
      "model_module_version": "1.5.0",
      "model_name": "DescriptionStyleModel",
      "state": {
       "description_width": ""
      }
     },
     "45f02a5f849240b18a6d6c95e6101dc0": {
      "model_module": "@jupyter-widgets/controls",
      "model_module_version": "1.5.0",
      "model_name": "HTMLModel",
      "state": {
       "layout": "IPY_MODEL_9eca6faff4804783a43304dc56a8e470",
       "style": "IPY_MODEL_f54eed8db78644d69e4ea7fe409cfcf9",
       "value": "This is an ancillary notebook aimed for letting students explore the registered measurements from the ecosystem stations. The purpose of this notebook is for students to get an idea/overview of the value-range of the measurements registered at a certain station."
      }
     },
     "46140a028e8a442391def25bca105a97": {
      "model_module": "@jupyter-widgets/controls",
      "model_module_version": "1.5.0",
      "model_name": "HTMLModel",
      "state": {
       "layout": "IPY_MODEL_2d5c0de30d3c483bb8c4439f1f055999",
       "style": "IPY_MODEL_f71317a73ddf4da7b4166c3461a401ad",
       "value": "This is an ancillary notebook aimed for providing students with an example of what the Station Python class includes, how it is structured, and how they can use it to extract the information they are interested in."
      }
     },
     "468aaea8950c4234b09244f695a4acc7": {
      "model_module": "@jupyter-widgets/controls",
      "model_module_version": "1.5.0",
      "model_name": "DescriptionStyleModel",
      "state": {
       "description_width": ""
      }
     },
     "46a40533364a48898d3cd3015465cbe2": {
      "model_module": "@jupyter-widgets/controls",
      "model_module_version": "1.5.0",
      "model_name": "DescriptionStyleModel",
      "state": {
       "description_width": ""
      }
     },
     "46b0086f4b3a428f878f56a378e578ea": {
      "model_module": "@jupyter-widgets/controls",
      "model_module_version": "1.5.0",
      "model_name": "HTMLModel",
      "state": {
       "layout": "IPY_MODEL_47232e63fada45e6b41631124bec2cbf",
       "style": "IPY_MODEL_b956849fefa648ee9cc40cc6a4b3cc47",
       "value": "This Jupyter notebook is dedicated on providing examples of how to produce an interactive map with incorporated information. In this demo, we will take all the members' location to plot on a map. Could we please ask you to fill in your details. If you don't feel comfortable giving us this information, you can create a 'fake' one (with sensible values)."
      }
     },
     "46b25a6f40b94db3b638ced23e5cd48a": {
      "model_module": "@jupyter-widgets/base",
      "model_module_version": "1.2.0",
      "model_name": "LayoutModel",
      "state": {}
     },
     "46b7284ebf584d1f8685f5f7c7a7fa18": {
      "model_module": "@jupyter-widgets/controls",
      "model_module_version": "1.5.0",
      "model_name": "HTMLModel",
      "state": {
       "layout": "IPY_MODEL_78767ac1fc2c4006adaaa4240416a8ef",
       "style": "IPY_MODEL_783fc71a68a5474ab4454f71dcffc5a5",
       "value": "<b>Description: </b> "
      }
     },
     "47195d32032842e99191096c12029254": {
      "model_module": "@jupyter-widgets/base",
      "model_module_version": "1.2.0",
      "model_name": "LayoutModel",
      "state": {}
     },
     "47232e63fada45e6b41631124bec2cbf": {
      "model_module": "@jupyter-widgets/base",
      "model_module_version": "1.2.0",
      "model_name": "LayoutModel",
      "state": {}
     },
     "4740a00d42fc45da8e3d4753159848d5": {
      "model_module": "@jupyter-widgets/controls",
      "model_module_version": "1.5.0",
      "model_name": "HTMLModel",
      "state": {
       "layout": "IPY_MODEL_f64aa81ac44149539c4c14e082157c35",
       "style": "IPY_MODEL_206351c5b7a44b6e8ee17f20014086a3",
       "value": "<a href=./education/PhD/upscaling_carbon_fluxes/notebooks/inspect_lpjguess.ipynb target='_blank'>Inspect LPJ-GUESS modelled values</a>"
      }
     },
     "47431bedf20e4bc994f7e65d9d0e5561": {
      "model_module": "@jupyter-widgets/controls",
      "model_module_version": "1.5.0",
      "model_name": "HTMLModel",
      "state": {
       "layout": "IPY_MODEL_9beac58f6c804136a15ce7d4604a824e",
       "style": "IPY_MODEL_d0e537c294f447f999a2629bf6003ea2",
       "value": "Includes notebooks that present how to create interactive maps and add information to them."
      }
     },
     "474c46ac1e504234a04a6f32be54830b": {
      "model_module": "@jupyter-widgets/base",
      "model_module_version": "1.2.0",
      "model_name": "LayoutModel",
      "state": {}
     },
     "476a67cea53a4f9fa9d76cc7c5872df1": {
      "model_module": "@jupyter-widgets/base",
      "model_module_version": "1.2.0",
      "model_name": "LayoutModel",
      "state": {}
     },
     "4771ae21ddbb4d46b7da725fbc9f8107": {
      "model_module": "@jupyter-widgets/controls",
      "model_module_version": "1.5.0",
      "model_name": "DescriptionStyleModel",
      "state": {
       "description_width": ""
      }
     },
     "47a2336814de4689978df70f0751c252": {
      "model_module": "@jupyter-widgets/controls",
      "model_module_version": "1.5.0",
      "model_name": "DescriptionStyleModel",
      "state": {
       "description_width": ""
      }
     },
     "47acfe2ff0ba4e59a03cfa2829eaf593": {
      "model_module": "@jupyter-widgets/base",
      "model_module_version": "1.2.0",
      "model_name": "LayoutModel",
      "state": {}
     },
     "47b5ac2d322848bdb6a6c6298d4699cf": {
      "model_module": "@jupyter-widgets/controls",
      "model_module_version": "1.5.0",
      "model_name": "DescriptionStyleModel",
      "state": {
       "description_width": ""
      }
     },
     "47b7607496504751855f48ed3a183055": {
      "model_module": "@jupyter-widgets/controls",
      "model_module_version": "1.5.0",
      "model_name": "DescriptionStyleModel",
      "state": {
       "description_width": ""
      }
     },
     "47bf00532c8c4355921c989f2085bb30": {
      "model_module": "@jupyter-widgets/controls",
      "model_module_version": "1.5.0",
      "model_name": "HTMLModel",
      "state": {
       "layout": "IPY_MODEL_d792a0edcf1148e6a0b5a6c4cad9d23f",
       "style": "IPY_MODEL_b80feac4d557421b8a3782a166adf033",
       "value": "<img src=\"./icos_jupyter_notebooks/ind_tools/img/02_pylib_ex/ex5.PNG\">"
      }
     },
     "47ceeb43a3274203a34551162415e016": {
      "model_module": "@jupyter-widgets/base",
      "model_module_version": "1.2.0",
      "model_name": "LayoutModel",
      "state": {}
     },
     "47d81543876e430c90c0b2a47336777b": {
      "model_module": "@jupyter-widgets/controls",
      "model_module_version": "1.5.0",
      "model_name": "HTMLModel",
      "state": {
       "layout": "IPY_MODEL_19ea340d7afc4380b849bd1b513d7b33",
       "style": "IPY_MODEL_6813d85cdf454862823858480f651d31",
       "value": "<b>Description: </b> "
      }
     },
     "47df1d13df8640bb95b2dba203aa13aa": {
      "model_module": "@jupyter-widgets/controls",
      "model_module_version": "1.5.0",
      "model_name": "DescriptionStyleModel",
      "state": {
       "description_width": ""
      }
     },
     "47eb22ae489a46ebaed741561951c7be": {
      "model_module": "@jupyter-widgets/base",
      "model_module_version": "1.2.0",
      "model_name": "LayoutModel",
      "state": {}
     },
     "47f519762cbf4e60aac8137073a24174": {
      "model_module": "@jupyter-widgets/controls",
      "model_module_version": "1.5.0",
      "model_name": "DescriptionStyleModel",
      "state": {
       "description_width": ""
      }
     },
     "4801137ca2804a698202280174c4c666": {
      "model_module": "@jupyter-widgets/base",
      "model_module_version": "1.2.0",
      "model_name": "LayoutModel",
      "state": {}
     },
     "480e63df628b4ac4998690aaab2ba1fc": {
      "model_module": "@jupyter-widgets/controls",
      "model_module_version": "1.5.0",
      "model_name": "HTMLModel",
      "state": {
       "layout": "IPY_MODEL_521b7e56a28e4dcf8260596ab0d9d4ec",
       "style": "IPY_MODEL_6c6b9c450a904d9cb3ca1d429e11e486",
       "value": "<b>Title: </b> "
      }
     },
     "480e79a96a6c4df48ab2d09b335365d9": {
      "model_module": "@jupyter-widgets/base",
      "model_module_version": "1.2.0",
      "model_name": "LayoutModel",
      "state": {}
     },
     "48335ee9ded24f71a09a220150b4cd77": {
      "model_module": "@jupyter-widgets/controls",
      "model_module_version": "1.5.0",
      "model_name": "DescriptionStyleModel",
      "state": {
       "description_width": ""
      }
     },
     "48340f71c5eb47e6b532061fea08d1d7": {
      "model_module": "@jupyter-widgets/base",
      "model_module_version": "1.2.0",
      "model_name": "LayoutModel",
      "state": {}
     },
     "483cfe33e8964ef0a55ff2621c362416": {
      "model_module": "@jupyter-widgets/base",
      "model_module_version": "1.2.0",
      "model_name": "LayoutModel",
      "state": {
       "grid_gap": "5px 10px",
       "grid_template_columns": "auto",
       "grid_template_rows": "auto",
       "padding": "5px 0px 5px 0px",
       "width": "100%"
      }
     },
     "485b755c85614929b0b5c068398987d3": {
      "model_module": "@jupyter-widgets/controls",
      "model_module_version": "1.5.0",
      "model_name": "HTMLModel",
      "state": {
       "layout": "IPY_MODEL_1e4577ca336d49568dc2aecd78a1a3c9",
       "style": "IPY_MODEL_4a537757804c4e35a146222eb56ae737",
       "value": "<a href=./icos_jupyter_notebooks/radiocarbon.ipynb target='_blank'>Radiocarbon</a>"
      }
     },
     "48733aa061034b8c828fc490cace5fc9": {
      "model_module": "@jupyter-widgets/controls",
      "model_module_version": "1.5.0",
      "model_name": "DescriptionStyleModel",
      "state": {
       "description_width": ""
      }
     },
     "48778f064be14de4ab5f67627ecbcc44": {
      "model_module": "@jupyter-widgets/base",
      "model_module_version": "1.2.0",
      "model_name": "LayoutModel",
      "state": {
       "grid_gap": "5px 10px",
       "grid_template_columns": "100px auto",
       "grid_template_rows": "auto auto auto auto auto",
       "padding": "50px 0px 70px 0px",
       "width": "100%"
      }
     },
     "4877b3ab5d474d35b34e2304b636d2a7": {
      "model_module": "@jupyter-widgets/base",
      "model_module_version": "1.2.0",
      "model_name": "LayoutModel",
      "state": {}
     },
     "4893f6c5321e46dba6be32b33823dcfc": {
      "model_module": "@jupyter-widgets/controls",
      "model_module_version": "1.5.0",
      "model_name": "HTMLModel",
      "state": {
       "layout": "IPY_MODEL_7d5b764016f04cc6b9c541c9b718d0db",
       "style": "IPY_MODEL_6b4ae6d2cbb048c3bcb6c197d04623ae",
       "value": "<img src=\"./icos_jupyter_notebooks/ind_tools/img/03_icos_JNBs/st_network_characterization/GER_station_network.PNG\">"
      }
     },
     "489f14d85f73493f9945b52d4a726c6d": {
      "model_module": "@jupyter-widgets/base",
      "model_module_version": "1.2.0",
      "model_name": "LayoutModel",
      "state": {}
     },
     "48a4953c46964f6fa635557805af1748": {
      "model_module": "@jupyter-widgets/controls",
      "model_module_version": "1.5.0",
      "model_name": "HTMLModel",
      "state": {
       "layout": "IPY_MODEL_1eae7db1aa8043b580d959320b380a50",
       "style": "IPY_MODEL_c5dd79924f70423a8d0459d925f9348a",
       "value": "<img src=\"./icos_jupyter_notebooks/ind_tools/img/02_pylib_ex/ex6c.PNG\">"
      }
     },
     "48ae41e281c445c1bd04c4a6acaccb27": {
      "model_module": "@jupyter-widgets/controls",
      "model_module_version": "1.5.0",
      "model_name": "GridBoxModel",
      "state": {
       "children": [
        "IPY_MODEL_45e34b1cf7a64d77808aea434231c644",
        "IPY_MODEL_4bd53b4021864e89a34fa053c7f99472",
        "IPY_MODEL_a7f7b688caf44250852a3830fb477cd3",
        "IPY_MODEL_0307b89ae7554f89918c48b7ee6470ab",
        "IPY_MODEL_02f20abde11d4bb390ab06eacde14cae",
        "IPY_MODEL_ef085f39bdef472c9eb0779c19ae15de",
        "IPY_MODEL_b072385984324942822a4c10dac70e0b",
        "IPY_MODEL_a7e8a1716ac8422b8b7f8aa0d84d75bf",
        "IPY_MODEL_c777dad4cc8446a89ef0703e1f2c82d7",
        "IPY_MODEL_b1b1b626b9854a6a8aa97034048ea15d"
       ],
       "layout": "IPY_MODEL_f5e5a8c6ffe044288d2ee7c14337188c"
      }
     },
     "48b65bc13bd7442683ebab767a5c2870": {
      "model_module": "@jupyter-widgets/base",
      "model_module_version": "1.2.0",
      "model_name": "LayoutModel",
      "state": {}
     },
     "48cd1bc4324241d28a54b635f0208baa": {
      "model_module": "@jupyter-widgets/controls",
      "model_module_version": "1.5.0",
      "model_name": "DescriptionStyleModel",
      "state": {
       "description_width": ""
      }
     },
     "48d27d2c671a4f5eace77cd47d9f4bdc": {
      "model_module": "@jupyter-widgets/base",
      "model_module_version": "1.2.0",
      "model_name": "LayoutModel",
      "state": {}
     },
     "4901869bf768483a90ca1833b4bc7ec3": {
      "model_module": "@jupyter-widgets/controls",
      "model_module_version": "1.5.0",
      "model_name": "HTMLModel",
      "state": {
       "layout": "IPY_MODEL_d44dfb3d88c14607a5949ed67f531aba",
       "style": "IPY_MODEL_455f3d4d62b84980ad52fdd3e21e8e0f",
       "value": "<b>Contact: </b> "
      }
     },
     "491e089a102f4ad7bb1544f46a01842d": {
      "model_module": "@jupyter-widgets/controls",
      "model_module_version": "1.5.0",
      "model_name": "DescriptionStyleModel",
      "state": {
       "description_width": ""
      }
     },
     "49209d8b87634ad1839eeee9024dbad5": {
      "model_module": "@jupyter-widgets/controls",
      "model_module_version": "1.5.0",
      "model_name": "DescriptionStyleModel",
      "state": {
       "description_width": ""
      }
     },
     "493c7ab3949f495e913879bbe61327e0": {
      "model_module": "@jupyter-widgets/controls",
      "model_module_version": "1.5.0",
      "model_name": "DescriptionStyleModel",
      "state": {
       "description_width": ""
      }
     },
     "4959c217238247238e1a22935106bcae": {
      "model_module": "@jupyter-widgets/controls",
      "model_module_version": "1.5.0",
      "model_name": "DescriptionStyleModel",
      "state": {
       "description_width": ""
      }
     },
     "495d12c4d19a440b9d01ae889b8671b5": {
      "model_module": "@jupyter-widgets/controls",
      "model_module_version": "1.5.0",
      "model_name": "AccordionModel",
      "state": {
       "_titles": {
        "0": "map",
        "1": "timeseries"
       },
       "children": [
        "IPY_MODEL_3dfae4ca39824afea346d84d1baffd6c",
        "IPY_MODEL_cbceab432bf245f2ad5942737d139593"
       ],
       "layout": "IPY_MODEL_7dbe35fa8482465086b33ae3849af5c4",
       "selected_index": null
      }
     },
     "49832802d20045fcbcf54559f8614423": {
      "model_module": "@jupyter-widgets/controls",
      "model_module_version": "1.5.0",
      "model_name": "DescriptionStyleModel",
      "state": {
       "description_width": ""
      }
     },
     "499d7ad2240b44b5824964c17f6fd9b1": {
      "model_module": "@jupyter-widgets/controls",
      "model_module_version": "1.5.0",
      "model_name": "DescriptionStyleModel",
      "state": {
       "description_width": ""
      }
     },
     "49a70addde0247559425017a5d134ad9": {
      "model_module": "@jupyter-widgets/controls",
      "model_module_version": "1.5.0",
      "model_name": "DescriptionStyleModel",
      "state": {
       "description_width": ""
      }
     },
     "49d7ca6101e34549b3551ff8786fc648": {
      "model_module": "@jupyter-widgets/controls",
      "model_module_version": "1.5.0",
      "model_name": "HTMLModel",
      "state": {
       "layout": "IPY_MODEL_6e88de11f9214d36a616737fd8ef08d8",
       "style": "IPY_MODEL_694716efb4084e6899f0ffc9ae01f4e7",
       "value": "<a href=./project_jupyter_notebooks/OTC%20Data%20Reduction%20Workshop/Data%20reduction%20part%201%20-%20Gas%20Calibration.ipynb target='_blank'>pCO₂ data reduction part 1 - Gas calibration</a>"
      }
     },
     "49e68e24f85e45beb022c9cca4debd87": {
      "model_module": "@jupyter-widgets/base",
      "model_module_version": "1.2.0",
      "model_name": "LayoutModel",
      "state": {}
     },
     "4a0672c2a29a4e87bca9b69a453169a7": {
      "model_module": "@jupyter-widgets/base",
      "model_module_version": "1.2.0",
      "model_name": "LayoutModel",
      "state": {}
     },
     "4a281cf64f174e0db2d6409afa9f79f9": {
      "model_module": "@jupyter-widgets/controls",
      "model_module_version": "1.5.0",
      "model_name": "DescriptionStyleModel",
      "state": {
       "description_width": ""
      }
     },
     "4a3a87ccfca7476fb5064ea61fb8ec9c": {
      "model_module": "@jupyter-widgets/controls",
      "model_module_version": "1.5.0",
      "model_name": "HTMLModel",
      "state": {
       "layout": "IPY_MODEL_8d22f7faf4fe47ce826ae1ad782544b6",
       "style": "IPY_MODEL_48733aa061034b8c828fc490cace5fc9",
       "value": "This is an ancillary notebook aimed for letting students explore the modelled values produced by <a href=\"https://doi.org/10.1046/j.1466-822X.2001.t01-1-00256.x\" target=\"_blank\">LPJ-GUESS</a> and corresponding to the same ecosystem stations real measurements are available for. The purpose of this notebook is for students to get an idea/overview of the value-range of the modelled values corresponding to a certain station."
      }
     },
     "4a3ab1b15ea447bcbe873765a0ec883a": {
      "model_module": "@jupyter-widgets/base",
      "model_module_version": "1.2.0",
      "model_name": "LayoutModel",
      "state": {}
     },
     "4a42afec605d4a158f827cd387db8b70": {
      "model_module": "@jupyter-widgets/controls",
      "model_module_version": "1.5.0",
      "model_name": "HTMLModel",
      "state": {
       "layout": "IPY_MODEL_805f719902414a4ebff79bdd9dd7bfb3",
       "style": "IPY_MODEL_e01bd11e7fcd44aca5d1805dbdba4308",
       "value": "<a href=./icos_jupyter_notebooks/icos_data_availability_table.ipynb target='_blank'>ICOS data availability table</a>"
      }
     },
     "4a4ab861f3644dd89ae74e5c7483cbba": {
      "model_module": "@jupyter-widgets/controls",
      "model_module_version": "1.5.0",
      "model_name": "HTMLModel",
      "state": {
       "layout": "IPY_MODEL_415d4a2899f942a8bc3a2c9c2744160e",
       "style": "IPY_MODEL_d29f3d2b83364cef97d4b274118c1b8d",
       "value": "<b>Thumbnail: </b> "
      }
     },
     "4a537757804c4e35a146222eb56ae737": {
      "model_module": "@jupyter-widgets/controls",
      "model_module_version": "1.5.0",
      "model_name": "DescriptionStyleModel",
      "state": {
       "description_width": ""
      }
     },
     "4a58e46e22b84de6bbd06dfe871291c3": {
      "model_module": "@jupyter-widgets/base",
      "model_module_version": "1.2.0",
      "model_name": "LayoutModel",
      "state": {}
     },
     "4a5bcde4107440eab677feff77413c2b": {
      "model_module": "@jupyter-widgets/base",
      "model_module_version": "1.2.0",
      "model_name": "LayoutModel",
      "state": {}
     },
     "4a7347e08b5442d0b40ab330cd38243b": {
      "model_module": "@jupyter-widgets/base",
      "model_module_version": "1.2.0",
      "model_name": "LayoutModel",
      "state": {}
     },
     "4a7404ab460245ef8aa9030cb3290284": {
      "model_module": "@jupyter-widgets/controls",
      "model_module_version": "1.5.0",
      "model_name": "DescriptionStyleModel",
      "state": {
       "description_width": ""
      }
     },
     "4aa94b45a2cc4c739c3828d781e2695f": {
      "model_module": "@jupyter-widgets/controls",
      "model_module_version": "1.5.0",
      "model_name": "DescriptionStyleModel",
      "state": {
       "description_width": ""
      }
     },
     "4aab2f0fd1724b5bb8613236743079ec": {
      "model_module": "@jupyter-widgets/base",
      "model_module_version": "1.2.0",
      "model_name": "LayoutModel",
      "state": {}
     },
     "4aafa0ed531a41bb8b3f4ea81ef51d9a": {
      "model_module": "@jupyter-widgets/base",
      "model_module_version": "1.2.0",
      "model_name": "LayoutModel",
      "state": {}
     },
     "4ab890d6adae4fb09da9c3d25cea2697": {
      "model_module": "@jupyter-widgets/controls",
      "model_module_version": "1.5.0",
      "model_name": "HTMLModel",
      "state": {
       "layout": "IPY_MODEL_4ada5a155ed34f689872f2fa414f384d",
       "style": "IPY_MODEL_7975387aa3b44347b75e672114141f41",
       "value": "<b>Thumbnail: </b> "
      }
     },
     "4acf690959b7488f9212c559d5294f8b": {
      "model_module": "@jupyter-widgets/base",
      "model_module_version": "1.2.0",
      "model_name": "LayoutModel",
      "state": {}
     },
     "4ad48b288864400881622b1d8c1c4861": {
      "model_module": "@jupyter-widgets/base",
      "model_module_version": "1.2.0",
      "model_name": "LayoutModel",
      "state": {}
     },
     "4ad6682f60a24921a23afa5dc444601d": {
      "model_module": "@jupyter-widgets/controls",
      "model_module_version": "1.5.0",
      "model_name": "HTMLModel",
      "state": {
       "layout": "IPY_MODEL_e8e8813344504a0193b70d7b42e8e7f2",
       "style": "IPY_MODEL_551c1dcb4afc4952a191af6527e6f674",
       "value": "<b>GitHub: </b> "
      }
     },
     "4ad75bcbf3ae42f1aa262e0b9cd12819": {
      "model_module": "@jupyter-widgets/controls",
      "model_module_version": "1.5.0",
      "model_name": "HTMLModel",
      "state": {
       "layout": "IPY_MODEL_19897312dd2e45f593f16a7387786906",
       "style": "IPY_MODEL_fc3a5789c49b450290ef8d528f6136da",
       "value": "<img src=\"./icos_jupyter_notebooks/ind_tools/img/05_education/msc_bsc/drought2018/bokeh_plot_explained.png\">"
      }
     },
     "4ada5a155ed34f689872f2fa414f384d": {
      "model_module": "@jupyter-widgets/base",
      "model_module_version": "1.2.0",
      "model_name": "LayoutModel",
      "state": {}
     },
     "4ae7dfc7330e4b49ba5e97949a979eea": {
      "model_module": "@jupyter-widgets/controls",
      "model_module_version": "1.5.0",
      "model_name": "HTMLModel",
      "state": {
       "layout": "IPY_MODEL_52b0a923d8254e4d824b22d615bb9f75",
       "style": "IPY_MODEL_3ce46018fd9e4825a58dccd39d5e2588",
       "value": "<a href='https://github.com/ICOS-Carbon-Portal/jupyter/issues' target='_blank'>Click here to report an issue</a>"
      }
     },
     "4aed264ae33e48a69035f6ce08ff774f": {
      "model_module": "@jupyter-widgets/base",
      "model_module_version": "1.2.0",
      "model_name": "LayoutModel",
      "state": {}
     },
     "4aedb5dd560847a5b916b3f1ef651b3e": {
      "model_module": "@jupyter-widgets/base",
      "model_module_version": "1.2.0",
      "model_name": "LayoutModel",
      "state": {}
     },
     "4b19448e6861428e815727e9e3dc7088": {
      "model_module": "@jupyter-widgets/controls",
      "model_module_version": "1.5.0",
      "model_name": "HTMLModel",
      "state": {
       "layout": "IPY_MODEL_7f3975bd7cc748369b2d7b4834eb2c29",
       "style": "IPY_MODEL_8d21b3150cdd42e79252646ca4fd4f8d",
       "value": "<a href=./project_jupyter_notebooks/OTC%20Data%20Reduction%20Workshop/Data%20Reduction%20part%202%20-%20UWpCO2.ipynb target='_blank'>pCO₂ Data Reduction part 2 - UWpCO2</a>"
      }
     },
     "4b28fa10b6d5445e87add2aaba149be6": {
      "model_module": "@jupyter-widgets/base",
      "model_module_version": "1.2.0",
      "model_name": "LayoutModel",
      "state": {
       "grid_gap": "5px 10px",
       "grid_template_columns": "100px auto",
       "grid_template_rows": "auto auto auto auto auto",
       "padding": "50px 0px 70px 0px",
       "width": "100%"
      }
     },
     "4b680531a69b47d9aebaf29b438d0d84": {
      "model_module": "@jupyter-widgets/controls",
      "model_module_version": "1.5.0",
      "model_name": "DescriptionStyleModel",
      "state": {
       "description_width": ""
      }
     },
     "4b6b391ef9314038b457d940aa4a7b68": {
      "model_module": "@jupyter-widgets/base",
      "model_module_version": "1.2.0",
      "model_name": "LayoutModel",
      "state": {}
     },
     "4b7cbc0e596f48b587254ac33bcc80c6": {
      "model_module": "@jupyter-widgets/base",
      "model_module_version": "1.2.0",
      "model_name": "LayoutModel",
      "state": {}
     },
     "4b7d82d2b6a444529bfc31d6e1cb37e2": {
      "model_module": "@jupyter-widgets/controls",
      "model_module_version": "1.5.0",
      "model_name": "DescriptionStyleModel",
      "state": {
       "description_width": ""
      }
     },
     "4b9d40defaab4af9939358c00f0a9621": {
      "model_module": "@jupyter-widgets/base",
      "model_module_version": "1.2.0",
      "model_name": "LayoutModel",
      "state": {}
     },
     "4bab9a01b2444186ae597860d40e86f1": {
      "model_module": "@jupyter-widgets/controls",
      "model_module_version": "1.5.0",
      "model_name": "DescriptionStyleModel",
      "state": {
       "description_width": ""
      }
     },
     "4bbaef9cff054d6595f18605cc8f9ea0": {
      "model_module": "@jupyter-widgets/controls",
      "model_module_version": "1.5.0",
      "model_name": "DescriptionStyleModel",
      "state": {
       "description_width": ""
      }
     },
     "4bcc125f10d64d528c1f9fc1b0439dff": {
      "model_module": "@jupyter-widgets/base",
      "model_module_version": "1.2.0",
      "model_name": "LayoutModel",
      "state": {}
     },
     "4bd53b4021864e89a34fa053c7f99472": {
      "model_module": "@jupyter-widgets/controls",
      "model_module_version": "1.5.0",
      "model_name": "HTMLModel",
      "state": {
       "layout": "IPY_MODEL_40d419f9c3ef41fabcd5d6b082be6476",
       "style": "IPY_MODEL_3fe5fb8a673545caa70bd0a86f40835d",
       "value": "<a href=./pylib_examples/ex1_data.ipynb target='_blank'>ICOS Carbon Portal Python Library - Access data and meta data</a>"
      }
     },
     "4beb8bca7c624593a91d83a59fe21ec5": {
      "model_module": "@jupyter-widgets/controls",
      "model_module_version": "1.5.0",
      "model_name": "DescriptionStyleModel",
      "state": {
       "description_width": ""
      }
     },
     "4c0968891feb41e9a96df6fd1c3561f4": {
      "model_module": "@jupyter-widgets/base",
      "model_module_version": "1.2.0",
      "model_name": "LayoutModel",
      "state": {
       "grid_gap": "5px 10px",
       "grid_template_columns": "100px auto",
       "grid_template_rows": "auto auto auto auto auto",
       "padding": "50px 0px 70px 0px",
       "width": "100%"
      }
     },
     "4c2ff3308638439a9724dd70299b925a": {
      "model_module": "@jupyter-widgets/base",
      "model_module_version": "1.2.0",
      "model_name": "LayoutModel",
      "state": {}
     },
     "4c442741292f471ea0f1b238db970639": {
      "model_module": "@jupyter-widgets/base",
      "model_module_version": "1.2.0",
      "model_name": "LayoutModel",
      "state": {}
     },
     "4c48ec570de84351983e11ff42099c73": {
      "model_module": "@jupyter-widgets/controls",
      "model_module_version": "1.5.0",
      "model_name": "HTMLModel",
      "state": {
       "layout": "IPY_MODEL_063ea337a2aa41839fb123982fa4c8d1",
       "style": "IPY_MODEL_1c6c5ff8ae5e4da0891617dd1db6db62",
       "value": "<img src=\"./icos_jupyter_notebooks/ind_tools/img/04_proj_JNBs/envrifair_ws/maps/ex2.PNG\">"
      }
     },
     "4c4b07752b25466e8d0d0ee8c4a7f093": {
      "model_module": "@jupyter-widgets/controls",
      "model_module_version": "1.5.0",
      "model_name": "DescriptionStyleModel",
      "state": {
       "description_width": ""
      }
     },
     "4c5b910757b348e3b144c78c12251637": {
      "model_module": "@jupyter-widgets/base",
      "model_module_version": "1.2.0",
      "model_name": "LayoutModel",
      "state": {}
     },
     "4c68d9eb21ea43469d60f62690eb0e12": {
      "model_module": "@jupyter-widgets/base",
      "model_module_version": "1.2.0",
      "model_name": "LayoutModel",
      "state": {}
     },
     "4c9a68e2cde94f6f87b3ad6e290d49ae": {
      "model_module": "@jupyter-widgets/base",
      "model_module_version": "1.2.0",
      "model_name": "LayoutModel",
      "state": {}
     },
     "4cb0855c14e64c0dbe634dbbb82c588b": {
      "model_module": "@jupyter-widgets/controls",
      "model_module_version": "1.5.0",
      "model_name": "GridBoxModel",
      "state": {
       "children": [
        "IPY_MODEL_d3908c48b879435589f60774e3735c06",
        "IPY_MODEL_8f4a96c26b634834896616b1a2e633a1",
        "IPY_MODEL_1e1179571b5d4c2a975a1b46025d6596",
        "IPY_MODEL_7fa1f8c9594342818039a902019100d8",
        "IPY_MODEL_0932df974ff24edd8f8f707012d6a422",
        "IPY_MODEL_c457f9dd70734efe9bd506caebfdfaca",
        "IPY_MODEL_214f7a684d6e43b99042f413b64d5812",
        "IPY_MODEL_0cf4f8fd0d23401490800444a54dce16",
        "IPY_MODEL_78e7257c0a3745df92e595f43d99b6b7",
        "IPY_MODEL_d04e4d0d61a7400888d8ea4a02c83120"
       ],
       "layout": "IPY_MODEL_8d390b6b07c14e3c9dab049e84bd268f"
      }
     },
     "4cf2bae738a24ee1acb89247b013141c": {
      "model_module": "@jupyter-widgets/base",
      "model_module_version": "1.2.0",
      "model_name": "LayoutModel",
      "state": {}
     },
     "4d01ff63dfd74b6d81a290264b8b45a0": {
      "model_module": "@jupyter-widgets/base",
      "model_module_version": "1.2.0",
      "model_name": "LayoutModel",
      "state": {}
     },
     "4d121fd9d1014fc7a0d8bf88fadea639": {
      "model_module": "@jupyter-widgets/controls",
      "model_module_version": "1.5.0",
      "model_name": "HTMLModel",
      "state": {
       "layout": "IPY_MODEL_5ffd9eec475a4fab955b7dff6396d908",
       "style": "IPY_MODEL_3df934cdc0594f2f93b97e89dfb2b11c",
       "value": "<img src=\"./icos_jupyter_notebooks/ind_tools/img/05_education/phd/ucf/ex4/edgar_ff.PNG\">"
      }
     },
     "4d1f68f2297c41fb86e74140ded2fa47": {
      "model_module": "@jupyter-widgets/controls",
      "model_module_version": "1.5.0",
      "model_name": "DescriptionStyleModel",
      "state": {
       "description_width": ""
      }
     },
     "4d2d9e04e0ac440f894ce4172f22630c": {
      "model_module": "@jupyter-widgets/controls",
      "model_module_version": "1.5.0",
      "model_name": "HTMLModel",
      "state": {
       "layout": "IPY_MODEL_9a043a1087ff45eeab2bac85b324b6fe",
       "style": "IPY_MODEL_791b33378f2846cab98d0398ef289f6b",
       "value": "<a href=./pylib_examples/ex2_station.ipynb target='_blank'>ICOS Carbon Portal Python Library - Explore ICOS stations</a>"
      }
     },
     "4d2de7e8fbd3466a9a4432aa31e37c6b": {
      "model_module": "@jupyter-widgets/controls",
      "model_module_version": "1.5.0",
      "model_name": "DescriptionStyleModel",
      "state": {
       "description_width": ""
      }
     },
     "4d2f7282f16f4233b545a0e18895e62a": {
      "model_module": "@jupyter-widgets/controls",
      "model_module_version": "1.5.0",
      "model_name": "DescriptionStyleModel",
      "state": {
       "description_width": ""
      }
     },
     "4d39b05553c140588af77fc82a67c37d": {
      "model_module": "@jupyter-widgets/base",
      "model_module_version": "1.2.0",
      "model_name": "LayoutModel",
      "state": {}
     },
     "4d50b9f9cbaa4e72816f5a440f537951": {
      "model_module": "@jupyter-widgets/base",
      "model_module_version": "1.2.0",
      "model_name": "LayoutModel",
      "state": {}
     },
     "4d8f90daf0bb4e0490029cb5dfb2882c": {
      "model_module": "@jupyter-widgets/controls",
      "model_module_version": "1.5.0",
      "model_name": "HTMLModel",
      "state": {
       "layout": "IPY_MODEL_9bec1153f2614084a74232e56d6cbcbc",
       "style": "IPY_MODEL_6ffae8ec47134eac83fa86f3c26375c8",
       "value": "This notebook makes it possible to generate characterisations of atmospheric stations based on their influence areas. The influence area of a station is determined by the <a href=\"http://stilt-model.org/index.php/Main/HomePage\" target=\"_blank\">transport model STILT</a> and the result is called a footprint. To generate the characterisation visualizations the average footprint for the user-defined date rage is combined with an anthropogenic emissions database, a biogenic flux model and ancillary data layers. Any point in the <a href=\"http://stilt-model.org/index.php/Main/HomePage\" target=\"_blank\">STILT</a> domain with footprints (not necessarily existing stations) will appear in the STILT stations dropdown and can be analyzed."
      }
     },
     "4da17d3bc10e432abfa96dffc4456fef": {
      "model_module": "@jupyter-widgets/base",
      "model_module_version": "1.2.0",
      "model_name": "LayoutModel",
      "state": {}
     },
     "4dda87072b164f7cb3627c1e58d91547": {
      "model_module": "@jupyter-widgets/controls",
      "model_module_version": "1.5.0",
      "model_name": "HTMLModel",
      "state": {
       "layout": "IPY_MODEL_7c466e42c8234320ad78171233baf751",
       "style": "IPY_MODEL_3e1fd68fecc948e8ae6b640761817522",
       "value": "<b>GitHub: </b> "
      }
     },
     "4de2e691649d45fe8ecc800a098cef09": {
      "model_module": "@jupyter-widgets/controls",
      "model_module_version": "1.5.0",
      "model_name": "DescriptionStyleModel",
      "state": {
       "description_width": ""
      }
     },
     "4de86e438c264567ba4ce1825b75eb5f": {
      "model_module": "@jupyter-widgets/controls",
      "model_module_version": "1.5.0",
      "model_name": "HTMLModel",
      "state": {
       "layout": "IPY_MODEL_2423117849eb4322b84c8e14edf514b9",
       "style": "IPY_MODEL_db68fd8a69954eeb8cf9a2dd795b5943",
       "value": "<a href=\"mailto: jupyter-info@icos-cp.eu\">jupyter-info@icos-cp.eu</a>, <a href=\"mailto: Maj-Lena.Linderson@nateko.lu.se\">Maj-Lena.Linderson@nateko.lu.se</a>"
      }
     },
     "4dfb21b871334b7aa95b5cc56897f184": {
      "model_module": "@jupyter-widgets/controls",
      "model_module_version": "1.5.0",
      "model_name": "HTMLModel",
      "state": {
       "layout": "IPY_MODEL_f80e662285fe4811bd80f19333b5b5b4",
       "style": "IPY_MODEL_6cb5ed556efc4fa09141bc44adee1e1f",
       "value": "<b>Description: </b> "
      }
     },
     "4e17cc6d538a4c45807d69c72d0a617a": {
      "model_module": "@jupyter-widgets/controls",
      "model_module_version": "1.5.0",
      "model_name": "DescriptionStyleModel",
      "state": {
       "description_width": ""
      }
     },
     "4e2fbf5ca55c4bd28cd8b24807e14530": {
      "model_module": "@jupyter-widgets/controls",
      "model_module_version": "1.5.0",
      "model_name": "DescriptionStyleModel",
      "state": {
       "description_width": ""
      }
     },
     "4e59c77dcd8742c58c6d19f68b7f77b8": {
      "model_module": "@jupyter-widgets/base",
      "model_module_version": "1.2.0",
      "model_name": "LayoutModel",
      "state": {}
     },
     "4e630c0dde2647d2bd0aaa090f9b25ad": {
      "model_module": "@jupyter-widgets/base",
      "model_module_version": "1.2.0",
      "model_name": "LayoutModel",
      "state": {}
     },
     "4e639c19c833408490da002425013f93": {
      "model_module": "@jupyter-widgets/controls",
      "model_module_version": "1.5.0",
      "model_name": "HTMLModel",
      "state": {
       "layout": "IPY_MODEL_7fde1d00c68e407d9ea798e6142ad947",
       "style": "IPY_MODEL_988c8c985a4246e1981c2298c9b954cb",
       "value": "<a href='https://github.com/ICOS-Carbon-Portal/jupyter/issues' target='_blank'>Click here to report an issue</a>"
      }
     },
     "4ebbd05ec6834b4796c75a57a52d45a7": {
      "model_module": "@jupyter-widgets/controls",
      "model_module_version": "1.5.0",
      "model_name": "HTMLModel",
      "state": {
       "layout": "IPY_MODEL_5da77d8a33c64121b21bfb350cd5afbf",
       "style": "IPY_MODEL_a42169e7360e4b5ca1f260ce25096579",
       "value": "<a href=\"mailto: jupyter-info@icos-cp.eu\">jupyter-info@icos-cp.eu</a>"
      }
     },
     "4ecfa898d18a4a9e9a89427a32503130": {
      "model_module": "@jupyter-widgets/base",
      "model_module_version": "1.2.0",
      "model_name": "LayoutModel",
      "state": {}
     },
     "4ecff8b909ea480497a1bf1e13de300a": {
      "model_module": "@jupyter-widgets/base",
      "model_module_version": "1.2.0",
      "model_name": "LayoutModel",
      "state": {}
     },
     "4eec6ae422b44cc78f02c7cc458ac034": {
      "model_module": "@jupyter-widgets/controls",
      "model_module_version": "1.5.0",
      "model_name": "DescriptionStyleModel",
      "state": {
       "description_width": ""
      }
     },
     "4f48549d063941f49a1ca93658f09d00": {
      "model_module": "@jupyter-widgets/base",
      "model_module_version": "1.2.0",
      "model_name": "LayoutModel",
      "state": {}
     },
     "4f5034b0d61c474bb88b2f273d167fe9": {
      "model_module": "@jupyter-widgets/controls",
      "model_module_version": "1.5.0",
      "model_name": "DescriptionStyleModel",
      "state": {
       "description_width": ""
      }
     },
     "4f7f3a8bdb314f87a7bda972f7f2cad3": {
      "model_module": "@jupyter-widgets/controls",
      "model_module_version": "1.5.0",
      "model_name": "HTMLModel",
      "state": {
       "layout": "IPY_MODEL_2ad37b9f7f8f49aaabf8b1723542223b",
       "style": "IPY_MODEL_7ea16b4ef90e451e9398d621e231dbcd",
       "value": "<a href=./icos_jupyter_notebooks/explore_icos_atmObs.ipynb target='_blank'>Explore ICOS atmospheric observations</a>"
      }
     },
     "4fcb61af78fd4ef3ba69c01068e361aa": {
      "model_module": "@jupyter-widgets/controls",
      "model_module_version": "1.5.0",
      "model_name": "DescriptionStyleModel",
      "state": {
       "description_width": ""
      }
     },
     "4ffd7ba4847e4afb93f27e3f34e4941d": {
      "model_module": "@jupyter-widgets/controls",
      "model_module_version": "1.5.0",
      "model_name": "HTMLModel",
      "state": {
       "layout": "IPY_MODEL_05bba8acced74f1b9fbd0485708f2bd4",
       "style": "IPY_MODEL_28c922b9d0f540d7861f3a1e51fdae06",
       "value": "<b>Contact: </b> "
      }
     },
     "501e996742c94bf9829ba43eb01bffbd": {
      "model_module": "@jupyter-widgets/controls",
      "model_module_version": "1.5.0",
      "model_name": "DescriptionStyleModel",
      "state": {
       "description_width": ""
      }
     },
     "50244542cc274180bbf5e0445a62a520": {
      "model_module": "@jupyter-widgets/base",
      "model_module_version": "1.2.0",
      "model_name": "LayoutModel",
      "state": {}
     },
     "503af46c1a944a5aaf98d3cd5a2947d4": {
      "model_module": "@jupyter-widgets/controls",
      "model_module_version": "1.5.0",
      "model_name": "DescriptionStyleModel",
      "state": {
       "description_width": ""
      }
     },
     "5041137aaa364eedbdcfda7bf4859391": {
      "model_module": "@jupyter-widgets/base",
      "model_module_version": "1.2.0",
      "model_name": "LayoutModel",
      "state": {}
     },
     "505c33342f20464ba7e60ff4ac0e2206": {
      "model_module": "@jupyter-widgets/base",
      "model_module_version": "1.2.0",
      "model_name": "LayoutModel",
      "state": {}
     },
     "505d8a1fbfda48c1ad80436b2ccd7957": {
      "model_module": "@jupyter-widgets/controls",
      "model_module_version": "1.5.0",
      "model_name": "HTMLModel",
      "state": {
       "layout": "IPY_MODEL_a35bd2fd0e6b410aa5f04344a9872f40",
       "style": "IPY_MODEL_c19924484a584a25ac372745d44c877c",
       "value": "<b>Contact: </b> "
      }
     },
     "5066af974a0640958b3371cda54dcfd0": {
      "model_module": "@jupyter-widgets/controls",
      "model_module_version": "1.5.0",
      "model_name": "HTMLModel",
      "state": {
       "layout": "IPY_MODEL_0c05bd72039d445aaad0407a55bcd297",
       "style": "IPY_MODEL_73e5f83805a042bc85ec8e2154f5c5e5",
       "value": "<b>GitHub: </b> "
      }
     },
     "50aa1871fb60472a8673e709ec6c1073": {
      "model_module": "@jupyter-widgets/base",
      "model_module_version": "1.2.0",
      "model_name": "LayoutModel",
      "state": {}
     },
     "50ae4c63e5f94199874dfafdda48b94e": {
      "model_module": "@jupyter-widgets/base",
      "model_module_version": "1.2.0",
      "model_name": "LayoutModel",
      "state": {}
     },
     "50bc5a932b1f4cfcaf1c43bb08000a25": {
      "model_module": "@jupyter-widgets/controls",
      "model_module_version": "1.5.0",
      "model_name": "GridBoxModel",
      "state": {
       "children": [
        "IPY_MODEL_3d6d08e7f93d48d5b47a0809b3cf3716",
        "IPY_MODEL_5e14c11882204326820a7c001881b754",
        "IPY_MODEL_f9e89a71faf24a71b8d36b4274374238",
        "IPY_MODEL_da0ae86ac0374cd0903a50703a717968",
        "IPY_MODEL_65fb96006b104e848521d111b2d797a2",
        "IPY_MODEL_73886f10a44c4179801e817e555c28e7",
        "IPY_MODEL_b5df43c1c2a1487c8d9a459f6c622eea",
        "IPY_MODEL_94c3d78ab64847cfa336373241223a30",
        "IPY_MODEL_640c325526d04700badc58a68f7e1309",
        "IPY_MODEL_c1d16882bfb743ffb3a04eb8dbd6615b"
       ],
       "layout": "IPY_MODEL_a340bd088b6b435586306d95cd48fea1"
      }
     },
     "50cfd3a6dc644b9ea2a66b46dac40e8e": {
      "model_module": "@jupyter-widgets/controls",
      "model_module_version": "1.5.0",
      "model_name": "HTMLModel",
      "state": {
       "layout": "IPY_MODEL_c00a18013dfe404ea0d00ae6e6ed60d7",
       "style": "IPY_MODEL_d78b9c0c798b41b8b2da59f4afa257b1",
       "value": "<b>Title: </b> "
      }
     },
     "50fd6f9f7130421694e87f0a0f388bd5": {
      "model_module": "@jupyter-widgets/controls",
      "model_module_version": "1.5.0",
      "model_name": "HTMLModel",
      "state": {
       "layout": "IPY_MODEL_750e772d94c541108c7daa4a66359359",
       "style": "IPY_MODEL_0dec240a199f4aa29fcc386d629add87",
       "value": "<b>Thumbnail: </b> "
      }
     },
     "5106556c303e4fbbbba3d1c007eb31a4": {
      "model_module": "@jupyter-widgets/controls",
      "model_module_version": "1.5.0",
      "model_name": "DescriptionStyleModel",
      "state": {
       "description_width": ""
      }
     },
     "51159f86bfbf4c6ab577dac08b3a991f": {
      "model_module": "@jupyter-widgets/controls",
      "model_module_version": "1.5.0",
      "model_name": "HTMLModel",
      "state": {
       "layout": "IPY_MODEL_d5e400a853f74cca9f8801810ea7f774",
       "style": "IPY_MODEL_56c1f37c7d784565a25a3bef523978b0",
       "value": "<a href=./pylib_examples/ex6c_STILT_timeseries.ipynb target='_blank'>ICOS Carbon Portal Python Library - STILT footprints and timeseries</a>"
      }
     },
     "5119d6c74d1546c6b2677a59a7647cbc": {
      "model_module": "@jupyter-widgets/base",
      "model_module_version": "1.2.0",
      "model_name": "LayoutModel",
      "state": {}
     },
     "5121f61bfd1f4588908fdf67b981224b": {
      "model_module": "@jupyter-widgets/controls",
      "model_module_version": "1.5.0",
      "model_name": "DescriptionStyleModel",
      "state": {
       "description_width": ""
      }
     },
     "5125caa52c0d4627b9da74bbc6882b5d": {
      "model_module": "@jupyter-widgets/controls",
      "model_module_version": "1.5.0",
      "model_name": "HTMLModel",
      "state": {
       "layout": "IPY_MODEL_ab659600b4f34e9cb964af3603318772",
       "style": "IPY_MODEL_442e2016fdac43f7a333523b30a3a72d",
       "value": "<a href='https://github.com/ICOS-Carbon-Portal/jupyter/issues' target='_blank'>Click here to report an issue</a>"
      }
     },
     "512e6ec17db24c74bb7d9832b523477e": {
      "model_module": "@jupyter-widgets/controls",
      "model_module_version": "1.5.0",
      "model_name": "DescriptionStyleModel",
      "state": {
       "description_width": ""
      }
     },
     "51374c1c965b48ef8f43e6631844755e": {
      "model_module": "@jupyter-widgets/base",
      "model_module_version": "1.2.0",
      "model_name": "LayoutModel",
      "state": {}
     },
     "514d91eb01574349a6d5fb9cd9bfe8e4": {
      "model_module": "@jupyter-widgets/base",
      "model_module_version": "1.2.0",
      "model_name": "LayoutModel",
      "state": {}
     },
     "5197379c4c2d4b8b87ba0dcf0f0dbb33": {
      "model_module": "@jupyter-widgets/controls",
      "model_module_version": "1.5.0",
      "model_name": "HTMLModel",
      "state": {
       "layout": "IPY_MODEL_c02abcc39d964d59a7ba8efa316e2583",
       "style": "IPY_MODEL_b69980557bdf493b8464bd1153e4ea69",
       "value": "<b>Contact: </b> "
      }
     },
     "51cb193c027543958acd2f5800a8fc19": {
      "model_module": "@jupyter-widgets/base",
      "model_module_version": "1.2.0",
      "model_name": "LayoutModel",
      "state": {}
     },
     "51e1ce291c4c40bca71e9265d1114b20": {
      "model_module": "@jupyter-widgets/controls",
      "model_module_version": "1.5.0",
      "model_name": "HTMLModel",
      "state": {
       "layout": "IPY_MODEL_f9907b658b274542a752b284924f33cc",
       "style": "IPY_MODEL_5d31e9d7e49a4e2f80fed7626b084685",
       "value": "<b>Description: </b> "
      }
     },
     "51f9f15b3c0b45f1aab28571798e2741": {
      "model_module": "@jupyter-widgets/base",
      "model_module_version": "1.2.0",
      "model_name": "LayoutModel",
      "state": {}
     },
     "521b7e56a28e4dcf8260596ab0d9d4ec": {
      "model_module": "@jupyter-widgets/base",
      "model_module_version": "1.2.0",
      "model_name": "LayoutModel",
      "state": {}
     },
     "5225e1a48f61471aa2089b2ed1a1be0f": {
      "model_module": "@jupyter-widgets/base",
      "model_module_version": "1.2.0",
      "model_name": "LayoutModel",
      "state": {}
     },
     "526be85a24d84b589bc239e4848b49a1": {
      "model_module": "@jupyter-widgets/base",
      "model_module_version": "1.2.0",
      "model_name": "LayoutModel",
      "state": {}
     },
     "5296fa40ca974b1a81511301118e0527": {
      "model_module": "@jupyter-widgets/controls",
      "model_module_version": "1.5.0",
      "model_name": "HTMLModel",
      "state": {
       "layout": "IPY_MODEL_36f8f5bf317c4ba3b53da24e71642eb9",
       "style": "IPY_MODEL_70797ae017584e819ec1e48d7e1e7f68",
       "value": "<a href=./education/General/carbon_cycle_drought.ipynb target='_blank'>Carbon cycle & drought</a>"
      }
     },
     "52ad7e41dd23443bb132006b4f540ebf": {
      "model_module": "@jupyter-widgets/controls",
      "model_module_version": "1.5.0",
      "model_name": "DescriptionStyleModel",
      "state": {
       "description_width": ""
      }
     },
     "52b0a923d8254e4d824b22d615bb9f75": {
      "model_module": "@jupyter-widgets/base",
      "model_module_version": "1.2.0",
      "model_name": "LayoutModel",
      "state": {}
     },
     "52cea513770f40fd830a551bc53e11db": {
      "model_module": "@jupyter-widgets/base",
      "model_module_version": "1.2.0",
      "model_name": "LayoutModel",
      "state": {}
     },
     "52df6400dd2b430cb89cecb3af7b662c": {
      "model_module": "@jupyter-widgets/controls",
      "model_module_version": "1.5.0",
      "model_name": "DescriptionStyleModel",
      "state": {
       "description_width": ""
      }
     },
     "52f5d921d3d14780b750384a75942c0a": {
      "model_module": "@jupyter-widgets/controls",
      "model_module_version": "1.5.0",
      "model_name": "DescriptionStyleModel",
      "state": {
       "description_width": ""
      }
     },
     "530446a56d694432800aefa51608cd24": {
      "model_module": "@jupyter-widgets/base",
      "model_module_version": "1.2.0",
      "model_name": "LayoutModel",
      "state": {}
     },
     "53084c2f015040f4bdfc4be49dd14b54": {
      "model_module": "@jupyter-widgets/controls",
      "model_module_version": "1.5.0",
      "model_name": "DescriptionStyleModel",
      "state": {
       "description_width": ""
      }
     },
     "53205854e46a4bc9a2476864d7c20bc3": {
      "model_module": "@jupyter-widgets/controls",
      "model_module_version": "1.5.0",
      "model_name": "HTMLModel",
      "state": {
       "layout": "IPY_MODEL_8fc0a5dcc02544d7919f68a869da9909",
       "style": "IPY_MODEL_ad6b309ca1be4144bc37cd3e624484a6",
       "value": "<b>GitHub: </b> "
      }
     },
     "533af94444604076a88b7f4630c5f6f6": {
      "model_module": "@jupyter-widgets/controls",
      "model_module_version": "1.5.0",
      "model_name": "HTMLModel",
      "state": {
       "layout": "IPY_MODEL_ba9530c3691048c78e7c2149855d8b08",
       "style": "IPY_MODEL_1c81fba4ddfd478d950e180c1e425424",
       "value": "<b>Thumbnail: </b> "
      }
     },
     "533fda19a76c4c96b3e1ad2e9da5052a": {
      "model_module": "@jupyter-widgets/base",
      "model_module_version": "1.2.0",
      "model_name": "LayoutModel",
      "state": {}
     },
     "5379c503b2914ab68079c9d368fd297c": {
      "model_module": "@jupyter-widgets/controls",
      "model_module_version": "1.5.0",
      "model_name": "DescriptionStyleModel",
      "state": {
       "description_width": ""
      }
     },
     "537f931a5d504899b88722d0460a5dfe": {
      "model_module": "@jupyter-widgets/controls",
      "model_module_version": "1.5.0",
      "model_name": "DescriptionStyleModel",
      "state": {
       "description_width": ""
      }
     },
     "5398a96402194b07ba7464039be8c564": {
      "model_module": "@jupyter-widgets/base",
      "model_module_version": "1.2.0",
      "model_name": "LayoutModel",
      "state": {}
     },
     "539d61c954bf465b93d9579be6e21aee": {
      "model_module": "@jupyter-widgets/controls",
      "model_module_version": "1.5.0",
      "model_name": "DescriptionStyleModel",
      "state": {
       "description_width": ""
      }
     },
     "53bb46c7251748c2bd4e92c8c7477268": {
      "model_module": "@jupyter-widgets/base",
      "model_module_version": "1.2.0",
      "model_name": "LayoutModel",
      "state": {}
     },
     "53c441edf52347d5b1a95d3120169235": {
      "model_module": "@jupyter-widgets/controls",
      "model_module_version": "1.5.0",
      "model_name": "DescriptionStyleModel",
      "state": {
       "description_width": ""
      }
     },
     "53e6ea64542442beba1358e0bdf7a669": {
      "model_module": "@jupyter-widgets/base",
      "model_module_version": "1.2.0",
      "model_name": "LayoutModel",
      "state": {}
     },
     "540dac09d8e646a9b4db69ada06bc6c1": {
      "model_module": "@jupyter-widgets/base",
      "model_module_version": "1.2.0",
      "model_name": "LayoutModel",
      "state": {}
     },
     "541057fc8d6745019765918da63be785": {
      "model_module": "@jupyter-widgets/controls",
      "model_module_version": "1.5.0",
      "model_name": "HTMLModel",
      "state": {
       "layout": "IPY_MODEL_489f14d85f73493f9945b52d4a726c6d",
       "style": "IPY_MODEL_065be526fb364861b5ea723122cc325b",
       "value": "<b>Contact: </b> "
      }
     },
     "541c94e8bad04f0c8f74db88248fe14c": {
      "model_module": "@jupyter-widgets/controls",
      "model_module_version": "1.5.0",
      "model_name": "HTMLModel",
      "state": {
       "layout": "IPY_MODEL_51cb193c027543958acd2f5800a8fc19",
       "style": "IPY_MODEL_5d77c75b6a0541e2a02d9c8d3eda9b00",
       "value": "<b>Description: </b> "
      }
     },
     "544857a65c5840f0a90946da8ba7a38c": {
      "model_module": "@jupyter-widgets/controls",
      "model_module_version": "1.5.0",
      "model_name": "DescriptionStyleModel",
      "state": {
       "description_width": ""
      }
     },
     "5459e63e366448ffac70061227f20287": {
      "model_module": "@jupyter-widgets/controls",
      "model_module_version": "1.5.0",
      "model_name": "HTMLModel",
      "state": {
       "layout": "IPY_MODEL_afd98bdad33a4c8fbd9b7e0c7751ff4f",
       "style": "IPY_MODEL_e4d24dfd3be54e64a3b28f2a14bbff42",
       "value": "<a href=\"mailto: jupyter-info@icos-cp.eu\">jupyter-info@icos-cp.eu</a>, <a href=\"mailto: ute.karstens@nateko.lu.se\">ute.karstens@nateko.lu.se</a>"
      }
     },
     "545fc775e22f491193d7c1bf68fba915": {
      "model_module": "@jupyter-widgets/controls",
      "model_module_version": "1.5.0",
      "model_name": "DescriptionStyleModel",
      "state": {
       "description_width": ""
      }
     },
     "5462ddc83199461d889d80bfb4f1cdfa": {
      "model_module": "@jupyter-widgets/controls",
      "model_module_version": "1.5.0",
      "model_name": "HTMLModel",
      "state": {
       "layout": "IPY_MODEL_87bd36ca138043828cf2c45845c2a7d7",
       "style": "IPY_MODEL_a44cf1e40bf142d3baea4aad8bcffc01",
       "value": "<a href='https://github.com/ICOS-Carbon-Portal/jupyter/issues' target='_blank'>Click here to report an issue</a>"
      }
     },
     "546c593a8adb4ff99c37122cfcc2c319": {
      "model_module": "@jupyter-widgets/controls",
      "model_module_version": "1.5.0",
      "model_name": "HTMLModel",
      "state": {
       "layout": "IPY_MODEL_3b89049be80a4bde8648f3b3538cdb78",
       "style": "IPY_MODEL_362ca68378274f1381fce82b06277b11",
       "value": "<b>Thumbnail: </b> "
      }
     },
     "5471d80aed60438085995bca1f7adbe8": {
      "model_module": "@jupyter-widgets/controls",
      "model_module_version": "1.5.0",
      "model_name": "DescriptionStyleModel",
      "state": {
       "description_width": ""
      }
     },
     "547a1c166b604e8183a1cc1cb0c894cb": {
      "model_module": "@jupyter-widgets/controls",
      "model_module_version": "1.5.0",
      "model_name": "DescriptionStyleModel",
      "state": {
       "description_width": ""
      }
     },
     "549ebd48ab6d4902bb0bda9c1411755d": {
      "model_module": "@jupyter-widgets/controls",
      "model_module_version": "1.5.0",
      "model_name": "HTMLModel",
      "state": {
       "layout": "IPY_MODEL_49e68e24f85e45beb022c9cca4debd87",
       "style": "IPY_MODEL_77dc57b221354d898f022aca41feb7a7",
       "value": "<b>Contact: </b> "
      }
     },
     "54a95b7e0a9047598f76fb9519a3e283": {
      "model_module": "@jupyter-widgets/controls",
      "model_module_version": "1.5.0",
      "model_name": "GridBoxModel",
      "state": {
       "children": [
        "IPY_MODEL_f98d8338d5644bb68f7db87df55ef2eb",
        "IPY_MODEL_baf702cfa1224e45b90844421f9fccc3"
       ],
       "layout": "IPY_MODEL_85a576a54ee54695b3814d514d6fcef6"
      }
     },
     "54bf1f5ce27343f882ed5eec8b50907e": {
      "model_module": "@jupyter-widgets/controls",
      "model_module_version": "1.5.0",
      "model_name": "DescriptionStyleModel",
      "state": {
       "description_width": ""
      }
     },
     "54d681507b6c4b3380fc2dd1613aec3c": {
      "model_module": "@jupyter-widgets/controls",
      "model_module_version": "1.5.0",
      "model_name": "GridBoxModel",
      "state": {
       "children": [
        "IPY_MODEL_7399c184c06d4d75aaad6033fd13be2f",
        "IPY_MODEL_d03c1b7d68b04bf9a10594e79393328a",
        "IPY_MODEL_0f199e4dba514d09bcbc6d88d1ecb643",
        "IPY_MODEL_b73d5acc33f64ca5a4622f81b9c7bad6",
        "IPY_MODEL_886d6fc6be2a42d98efd7d89ef897a95",
        "IPY_MODEL_76eb0df8eac44aa7a46bf1db3dd16fbd",
        "IPY_MODEL_59e413bafe1143099b0a6c8a55edfede",
        "IPY_MODEL_c4f38b0aea8d4f55bc6328da2f167424",
        "IPY_MODEL_6f11597e2f7649d888be5e20e87a555c",
        "IPY_MODEL_47bf00532c8c4355921c989f2085bb30"
       ],
       "layout": "IPY_MODEL_00ebb701fb9f42f0a6dec4312d248d64"
      }
     },
     "55096a382b2e4e1ba070a718e8efc3e9": {
      "model_module": "@jupyter-widgets/base",
      "model_module_version": "1.2.0",
      "model_name": "LayoutModel",
      "state": {}
     },
     "551c1dcb4afc4952a191af6527e6f674": {
      "model_module": "@jupyter-widgets/controls",
      "model_module_version": "1.5.0",
      "model_name": "DescriptionStyleModel",
      "state": {
       "description_width": ""
      }
     },
     "551f6e2d21034500a3c33a0ff86c6f6b": {
      "model_module": "@jupyter-widgets/base",
      "model_module_version": "1.2.0",
      "model_name": "LayoutModel",
      "state": {}
     },
     "554bb92521af4003aa8baed7b2b62eab": {
      "model_module": "@jupyter-widgets/controls",
      "model_module_version": "1.5.0",
      "model_name": "DescriptionStyleModel",
      "state": {
       "description_width": ""
      }
     },
     "554d5a0d0d214c889aa8e9ec5deb55cd": {
      "model_module": "@jupyter-widgets/controls",
      "model_module_version": "1.5.0",
      "model_name": "DescriptionStyleModel",
      "state": {
       "description_width": ""
      }
     },
     "55767dab24d849afb6351cd2ecad48eb": {
      "model_module": "@jupyter-widgets/controls",
      "model_module_version": "1.5.0",
      "model_name": "HTMLModel",
      "state": {
       "layout": "IPY_MODEL_82c48aedee394b35a0cfd3e7ed72adcc",
       "style": "IPY_MODEL_91d473b83b864d3d85e391366523842f",
       "value": "<a href=\"mailto: jupyter-info@icos-cp.eu\">jupyter-info@icos-cp.eu</a>"
      }
     },
     "5580beaf569b4eeaaab0e42bba0b6017": {
      "model_module": "@jupyter-widgets/controls",
      "model_module_version": "1.5.0",
      "model_name": "DescriptionStyleModel",
      "state": {
       "description_width": ""
      }
     },
     "5584830be4714dc2b5ed94f92751fdfc": {
      "model_module": "@jupyter-widgets/controls",
      "model_module_version": "1.5.0",
      "model_name": "DescriptionStyleModel",
      "state": {
       "description_width": ""
      }
     },
     "558df0881dec4a8d876ec31d4f177d7e": {
      "model_module": "@jupyter-widgets/base",
      "model_module_version": "1.2.0",
      "model_name": "LayoutModel",
      "state": {}
     },
     "55a237619c8a4e6e9f8a2e50577be0df": {
      "model_module": "@jupyter-widgets/controls",
      "model_module_version": "1.5.0",
      "model_name": "DescriptionStyleModel",
      "state": {
       "description_width": ""
      }
     },
     "55a50960dbb34ca989c3a6631c76826c": {
      "model_module": "@jupyter-widgets/base",
      "model_module_version": "1.2.0",
      "model_name": "LayoutModel",
      "state": {}
     },
     "55d57174de77446fb16646c894d2d6d7": {
      "model_module": "@jupyter-widgets/controls",
      "model_module_version": "1.5.0",
      "model_name": "GridBoxModel",
      "state": {
       "children": [
        "IPY_MODEL_c9c1084dc17b436cb36181f7d41c077b",
        "IPY_MODEL_28f762caff3b4902b87aefc1b519e66f",
        "IPY_MODEL_5f4f7df8f9274735aa3ee565d57b6339",
        "IPY_MODEL_06798522e9e84b90be56d42a0e99b327",
        "IPY_MODEL_4901869bf768483a90ca1833b4bc7ec3",
        "IPY_MODEL_b89859a4fbc64d16b86577b8f531e2be",
        "IPY_MODEL_df3bb81c8f184161a71424bcd2f9c1b6",
        "IPY_MODEL_002a60e675004c0b9c565f07719e62e1",
        "IPY_MODEL_ed484dab03904298b4565ec062ed1f2c",
        "IPY_MODEL_1df646fd564c45a093444f6c9b5147fc"
       ],
       "layout": "IPY_MODEL_81b0c6c1f0964b328bb1234ccd3dedc7"
      }
     },
     "55e834cb633048a1aa25b37ca20cbe4a": {
      "model_module": "@jupyter-widgets/controls",
      "model_module_version": "1.5.0",
      "model_name": "DescriptionStyleModel",
      "state": {
       "description_width": ""
      }
     },
     "55f49a0f846247fda253dfa20e435e70": {
      "model_module": "@jupyter-widgets/base",
      "model_module_version": "1.2.0",
      "model_name": "LayoutModel",
      "state": {}
     },
     "5601ef3dfe5e4ba18917e9a823194335": {
      "model_module": "@jupyter-widgets/base",
      "model_module_version": "1.2.0",
      "model_name": "LayoutModel",
      "state": {}
     },
     "560950cdf6e3494aa9b723f34c96385e": {
      "model_module": "@jupyter-widgets/base",
      "model_module_version": "1.2.0",
      "model_name": "LayoutModel",
      "state": {}
     },
     "5617fdda241f400998e1917bce32beee": {
      "model_module": "@jupyter-widgets/base",
      "model_module_version": "1.2.0",
      "model_name": "LayoutModel",
      "state": {}
     },
     "5623ebd3ed644832b623379825ef7252": {
      "model_module": "@jupyter-widgets/base",
      "model_module_version": "1.2.0",
      "model_name": "LayoutModel",
      "state": {}
     },
     "563038d2d13e4748afb09f3ec8f167fb": {
      "model_module": "@jupyter-widgets/controls",
      "model_module_version": "1.5.0",
      "model_name": "HTMLModel",
      "state": {
       "layout": "IPY_MODEL_6a68f6dbc9b14d5896e14fe098855f05",
       "style": "IPY_MODEL_b199bb290ae54ffabc66aa554d6a4a99",
       "value": "<b>Thumbnail: </b> "
      }
     },
     "5647e70a5150454c8788823d52bd7059": {
      "model_module": "@jupyter-widgets/controls",
      "model_module_version": "1.5.0",
      "model_name": "HTMLModel",
      "state": {
       "layout": "IPY_MODEL_98951f3831b948cb9ca70544d2479938",
       "style": "IPY_MODEL_d892a447bec946ad8240afa1b641a58d",
       "value": "<b>Thumbnail: </b> "
      }
     },
     "564825f9f7f0440dabf5b63554e2b70f": {
      "model_module": "@jupyter-widgets/base",
      "model_module_version": "1.2.0",
      "model_name": "LayoutModel",
      "state": {}
     },
     "565189bd46a047acbc2aa1a3828384c9": {
      "model_module": "@jupyter-widgets/base",
      "model_module_version": "1.2.0",
      "model_name": "LayoutModel",
      "state": {}
     },
     "566362258c9a4b3491e52629133b0570": {
      "model_module": "@jupyter-widgets/base",
      "model_module_version": "1.2.0",
      "model_name": "LayoutModel",
      "state": {}
     },
     "5668c9d785e044bbbfeabf489d8159c9": {
      "model_module": "@jupyter-widgets/base",
      "model_module_version": "1.2.0",
      "model_name": "LayoutModel",
      "state": {}
     },
     "56c1f37c7d784565a25a3bef523978b0": {
      "model_module": "@jupyter-widgets/controls",
      "model_module_version": "1.5.0",
      "model_name": "DescriptionStyleModel",
      "state": {
       "description_width": ""
      }
     },
     "56d95920f90b4bb68ae72bd3b2b15d9f": {
      "model_module": "@jupyter-widgets/base",
      "model_module_version": "1.2.0",
      "model_name": "LayoutModel",
      "state": {}
     },
     "5706bb2be327426893c9a8440ca8cc5f": {
      "model_module": "@jupyter-widgets/controls",
      "model_module_version": "1.5.0",
      "model_name": "HTMLModel",
      "state": {
       "layout": "IPY_MODEL_1eb8ed1bf9c7484d9af8ee1d9415f6c4",
       "style": "IPY_MODEL_eae09ea56025424c9ecd484c4df79180",
       "value": "<b>Title: </b> "
      }
     },
     "57364d8691b24ac2b4f425a699fe1c5e": {
      "model_module": "@jupyter-widgets/controls",
      "model_module_version": "1.5.0",
      "model_name": "DescriptionStyleModel",
      "state": {
       "description_width": ""
      }
     },
     "574581b54c0e4d8e94733ed2e78436d3": {
      "model_module": "@jupyter-widgets/controls",
      "model_module_version": "1.5.0",
      "model_name": "HTMLModel",
      "state": {
       "layout": "IPY_MODEL_689938e3ad9741e5885717bcd5c4c186",
       "style": "IPY_MODEL_0d141498b0fa4986900e886ccf23d2d7",
       "value": "<b>Description: </b> "
      }
     },
     "5746fc622f004d88a88588938ad59fd5": {
      "model_module": "@jupyter-widgets/base",
      "model_module_version": "1.2.0",
      "model_name": "LayoutModel",
      "state": {
       "grid_gap": "5px 10px",
       "grid_template_columns": "auto",
       "grid_template_rows": "auto",
       "padding": "5px 0px 5px 0px",
       "width": "100%"
      }
     },
     "57591450932943cea0d9a70f77d26cbd": {
      "model_module": "@jupyter-widgets/base",
      "model_module_version": "1.2.0",
      "model_name": "LayoutModel",
      "state": {}
     },
     "57acbfa9ff784ad7bdcb1824a5fb0792": {
      "model_module": "@jupyter-widgets/controls",
      "model_module_version": "1.5.0",
      "model_name": "HTMLModel",
      "state": {
       "layout": "IPY_MODEL_bd5deacc92bd4ca28b8ca8a1ffcabd53",
       "style": "IPY_MODEL_9397f9988f234e9a8729d14c8b3e1163",
       "value": "<a href=\"mailto: jupyter-info@icos-cp.eu\">jupyter-info@icos-cp.eu</a>, <a href=\"mailto: ute.karstens@nateko.lu.se\">ute.karstens@nateko.lu.se</a>"
      }
     },
     "57ae0371d38b48e3b4691cc9e2bfb979": {
      "model_module": "@jupyter-widgets/controls",
      "model_module_version": "1.5.0",
      "model_name": "DescriptionStyleModel",
      "state": {
       "description_width": ""
      }
     },
     "57c19b54690c416db9d64531f2318644": {
      "model_module": "@jupyter-widgets/base",
      "model_module_version": "1.2.0",
      "model_name": "LayoutModel",
      "state": {}
     },
     "57df5d658250443e8bde44f4888d4fc4": {
      "model_module": "@jupyter-widgets/controls",
      "model_module_version": "1.5.0",
      "model_name": "DescriptionStyleModel",
      "state": {
       "description_width": ""
      }
     },
     "57f983ee13a945e5a58a4ec642f843c0": {
      "model_module": "@jupyter-widgets/controls",
      "model_module_version": "1.5.0",
      "model_name": "HTMLModel",
      "state": {
       "layout": "IPY_MODEL_560950cdf6e3494aa9b723f34c96385e",
       "style": "IPY_MODEL_c9b69c55dfb7478cbef99e3260164d7b",
       "value": "<a href=\"mailto: jupyter-info@icos-cp.eu\">jupyter-info@icos-cp.eu</a>"
      }
     },
     "58007fbedbc246789643300e99e71796": {
      "model_module": "@jupyter-widgets/controls",
      "model_module_version": "1.5.0",
      "model_name": "DescriptionStyleModel",
      "state": {
       "description_width": ""
      }
     },
     "58286e144f754aa38ffbe9c83b036adb": {
      "model_module": "@jupyter-widgets/controls",
      "model_module_version": "1.5.0",
      "model_name": "DescriptionStyleModel",
      "state": {
       "description_width": ""
      }
     },
     "583cfc76f0cc40088d84de21e45a3428": {
      "model_module": "@jupyter-widgets/base",
      "model_module_version": "1.2.0",
      "model_name": "LayoutModel",
      "state": {}
     },
     "5841c15130bb4bcd91054f4b069fe19b": {
      "model_module": "@jupyter-widgets/base",
      "model_module_version": "1.2.0",
      "model_name": "LayoutModel",
      "state": {}
     },
     "584423452a054e4abe4fff05fdc65f2d": {
      "model_module": "@jupyter-widgets/controls",
      "model_module_version": "1.5.0",
      "model_name": "HTMLModel",
      "state": {
       "layout": "IPY_MODEL_aa4937fd1e1846d5a89556e1e883ca59",
       "style": "IPY_MODEL_33358d93860a4a01a2c78baca2d108ba",
       "value": "<b>GitHub: </b> "
      }
     },
     "5891fd25d574496199fd594fbddaa19d": {
      "model_module": "@jupyter-widgets/controls",
      "model_module_version": "1.5.0",
      "model_name": "HTMLModel",
      "state": {
       "layout": "IPY_MODEL_c99d63f21ae44ad0a55451fe1ec678f8",
       "style": "IPY_MODEL_074584c2fe2547e9b534b541bd6ba09b",
       "value": "<a href='https://github.com/ICOS-Carbon-Portal/jupyter/issues' target='_blank'>Click here to report an issue</a>"
      }
     },
     "58a19c4f77ac42d7ae4bf515f0d442da": {
      "model_module": "@jupyter-widgets/controls",
      "model_module_version": "1.5.0",
      "model_name": "DescriptionStyleModel",
      "state": {
       "description_width": ""
      }
     },
     "58a9d996edfb45e7912c0c759ce6bc40": {
      "model_module": "@jupyter-widgets/controls",
      "model_module_version": "1.5.0",
      "model_name": "HTMLModel",
      "state": {
       "layout": "IPY_MODEL_84371f2ae2604d009c3197b7c272f0af",
       "style": "IPY_MODEL_a30a5f2da2884a428b062a33f52bc12b",
       "value": "<img src=\"./icos_jupyter_notebooks/ind_tools/img//05_education/general/01_ccd/carbon_cycle_eng.png\">"
      }
     },
     "58afebbb00094e1ca5e60d9f48e2a56d": {
      "model_module": "@jupyter-widgets/base",
      "model_module_version": "1.2.0",
      "model_name": "LayoutModel",
      "state": {
       "grid_gap": "5px 10px",
       "grid_template_columns": "100px auto",
       "grid_template_rows": "auto auto auto auto auto",
       "padding": "50px 0px 70px 0px",
       "width": "100%"
      }
     },
     "58b4cf20b6424bdcac91e3e81f9f3c59": {
      "model_module": "@jupyter-widgets/base",
      "model_module_version": "1.2.0",
      "model_name": "LayoutModel",
      "state": {}
     },
     "58d0bd82e6d2441fa40688e142121b2c": {
      "model_module": "@jupyter-widgets/base",
      "model_module_version": "1.2.0",
      "model_name": "LayoutModel",
      "state": {}
     },
     "58d46b7e0665431da0108a560650593e": {
      "model_module": "@jupyter-widgets/base",
      "model_module_version": "1.2.0",
      "model_name": "LayoutModel",
      "state": {
       "grid_gap": "5px 10px",
       "grid_template_columns": "100px auto",
       "grid_template_rows": "auto auto auto auto auto",
       "padding": "50px 0px 70px 0px",
       "width": "100%"
      }
     },
     "58db0ee3352e4c21b074261acbedb076": {
      "model_module": "@jupyter-widgets/base",
      "model_module_version": "1.2.0",
      "model_name": "LayoutModel",
      "state": {}
     },
     "58dc4b4b302b46de9f0b92332606dbc0": {
      "model_module": "@jupyter-widgets/controls",
      "model_module_version": "1.5.0",
      "model_name": "DescriptionStyleModel",
      "state": {
       "description_width": ""
      }
     },
     "58dd1766a1d44c2eb7c7a161058c6588": {
      "model_module": "@jupyter-widgets/base",
      "model_module_version": "1.2.0",
      "model_name": "LayoutModel",
      "state": {}
     },
     "58fc8f4c26a44cdeb2ccb9ca9e1b3309": {
      "model_module": "@jupyter-widgets/controls",
      "model_module_version": "1.5.0",
      "model_name": "DescriptionStyleModel",
      "state": {
       "description_width": ""
      }
     },
     "58fff3c202de40cfb257c42eedf7f973": {
      "model_module": "@jupyter-widgets/base",
      "model_module_version": "1.2.0",
      "model_name": "LayoutModel",
      "state": {
       "grid_gap": "5px 10px",
       "grid_template_columns": "100px auto",
       "grid_template_rows": "auto auto auto auto auto",
       "padding": "50px 0px 70px 0px",
       "width": "100%"
      }
     },
     "59129cab5eab4ace88a46bf624f3b5f6": {
      "model_module": "@jupyter-widgets/base",
      "model_module_version": "1.2.0",
      "model_name": "LayoutModel",
      "state": {}
     },
     "5916a577a3b8431ebc4fb49510ef088f": {
      "model_module": "@jupyter-widgets/controls",
      "model_module_version": "1.5.0",
      "model_name": "DescriptionStyleModel",
      "state": {
       "description_width": ""
      }
     },
     "593d2b8371a34396bca64a3c19a548d3": {
      "model_module": "@jupyter-widgets/controls",
      "model_module_version": "1.5.0",
      "model_name": "DescriptionStyleModel",
      "state": {
       "description_width": ""
      }
     },
     "5957e611e8f044caaddecddebd02e995": {
      "model_module": "@jupyter-widgets/controls",
      "model_module_version": "1.5.0",
      "model_name": "DescriptionStyleModel",
      "state": {
       "description_width": ""
      }
     },
     "59858ea3ee0243c9af1007c905603db2": {
      "model_module": "@jupyter-widgets/base",
      "model_module_version": "1.2.0",
      "model_name": "LayoutModel",
      "state": {}
     },
     "599ea7cef69a457b9d6081d3497e966d": {
      "model_module": "@jupyter-widgets/controls",
      "model_module_version": "1.5.0",
      "model_name": "HTMLModel",
      "state": {
       "layout": "IPY_MODEL_84a75f403eb843269e5c809adccf5498",
       "style": "IPY_MODEL_ff49102c0c1b4079bec0c767136a70ff",
       "value": "<b>Title: </b> "
      }
     },
     "59a3c4552d0e4d2b886166ddbbf1ad09": {
      "model_module": "@jupyter-widgets/controls",
      "model_module_version": "1.5.0",
      "model_name": "DescriptionStyleModel",
      "state": {
       "description_width": ""
      }
     },
     "59b727a4e11f452fb40a499886fa6bcf": {
      "model_module": "@jupyter-widgets/controls",
      "model_module_version": "1.5.0",
      "model_name": "DescriptionStyleModel",
      "state": {
       "description_width": ""
      }
     },
     "59bb76eb18e841f198df9740daed9ab8": {
      "model_module": "@jupyter-widgets/controls",
      "model_module_version": "1.5.0",
      "model_name": "HTMLModel",
      "state": {
       "layout": "IPY_MODEL_3cfe6edc96524a4b80808c5a31e8f84a",
       "style": "IPY_MODEL_08399491921649bf8c5e375cf5684017",
       "value": "<a href=\"mailto: jupyter-info@icos-cp.eu\">jupyter-info@icos-cp.eu</a>, <a href=\"mailto: claudio.donofrio@nateko.lu.se\">claudio.donofrio@nateko.lu.se</a>"
      }
     },
     "59be3bb9565e40198eba92e41a975d2f": {
      "model_module": "@jupyter-widgets/base",
      "model_module_version": "1.2.0",
      "model_name": "LayoutModel",
      "state": {}
     },
     "59de0bb0480d4a9182b548f36e3f56d4": {
      "model_module": "@jupyter-widgets/controls",
      "model_module_version": "1.5.0",
      "model_name": "HTMLModel",
      "state": {
       "layout": "IPY_MODEL_71ad167de2e64276a56066e5902d4f57",
       "style": "IPY_MODEL_c1560b6faac7496da92bc2d1f5cd0969",
       "value": "<b>Description: </b> "
      }
     },
     "59e413bafe1143099b0a6c8a55edfede": {
      "model_module": "@jupyter-widgets/controls",
      "model_module_version": "1.5.0",
      "model_name": "HTMLModel",
      "state": {
       "layout": "IPY_MODEL_f6d2d03c93ce441db29d059cfa9f4daa",
       "style": "IPY_MODEL_ad98a022511d40faa3eed191826dc005",
       "value": "<b>GitHub: </b> "
      }
     },
     "5a24ed9788c64b309330460a31237979": {
      "model_module": "@jupyter-widgets/controls",
      "model_module_version": "1.5.0",
      "model_name": "HTMLModel",
      "state": {
       "layout": "IPY_MODEL_71efceb093154703b77a3a1cbd5eb453",
       "style": "IPY_MODEL_a720d5772289462fa543723e77531882",
       "value": "<img src=\"./icos_jupyter_notebooks/ind_tools/img/05_education/phd/ucf/ex2/htm_nee.PNG\">"
      }
     },
     "5a425c3e5e7948fead0317c389f10a22": {
      "model_module": "@jupyter-widgets/controls",
      "model_module_version": "1.5.0",
      "model_name": "AccordionModel",
      "state": {
       "_titles": {
        "0": "Quickstart to Python"
       },
       "children": [
        "IPY_MODEL_aa108ba82b9345c88a7997bf82437178"
       ],
       "layout": "IPY_MODEL_165022a10ada493e9fb74a764b8c87a0",
       "selected_index": null
      }
     },
     "5a47b7ea036d42a086976683a3da6cac": {
      "model_module": "@jupyter-widgets/base",
      "model_module_version": "1.2.0",
      "model_name": "LayoutModel",
      "state": {}
     },
     "5a4d712b95224b3ab7e23960d788a01b": {
      "model_module": "@jupyter-widgets/base",
      "model_module_version": "1.2.0",
      "model_name": "LayoutModel",
      "state": {}
     },
     "5a5d0468f5c5445a9a019404792b76aa": {
      "model_module": "@jupyter-widgets/base",
      "model_module_version": "1.2.0",
      "model_name": "LayoutModel",
      "state": {}
     },
     "5a6cac21dd0a4e45b0462880b8e2a99c": {
      "model_module": "@jupyter-widgets/controls",
      "model_module_version": "1.5.0",
      "model_name": "DescriptionStyleModel",
      "state": {
       "description_width": ""
      }
     },
     "5a75bf0a0afa419e8c3eaa381b6b7931": {
      "model_module": "@jupyter-widgets/base",
      "model_module_version": "1.2.0",
      "model_name": "LayoutModel",
      "state": {}
     },
     "5a9f2f4f9a024abcbc77af609321bd2b": {
      "model_module": "@jupyter-widgets/base",
      "model_module_version": "1.2.0",
      "model_name": "LayoutModel",
      "state": {}
     },
     "5aa22cbd4ad0443b88169ad13f717a9f": {
      "model_module": "@jupyter-widgets/controls",
      "model_module_version": "1.5.0",
      "model_name": "DescriptionStyleModel",
      "state": {
       "description_width": ""
      }
     },
     "5ab19956de2745cc8edbb1165febc238": {
      "model_module": "@jupyter-widgets/controls",
      "model_module_version": "1.5.0",
      "model_name": "DescriptionStyleModel",
      "state": {
       "description_width": ""
      }
     },
     "5ab8b50201cb4d25aeea2cc1dad451a3": {
      "model_module": "@jupyter-widgets/base",
      "model_module_version": "1.2.0",
      "model_name": "LayoutModel",
      "state": {}
     },
     "5b2485949dc7493b988929237b1c0d4e": {
      "model_module": "@jupyter-widgets/controls",
      "model_module_version": "1.5.0",
      "model_name": "DescriptionStyleModel",
      "state": {
       "description_width": ""
      }
     },
     "5b39da171edb4e96a135320bd02860aa": {
      "model_module": "@jupyter-widgets/controls",
      "model_module_version": "1.5.0",
      "model_name": "HTMLModel",
      "state": {
       "layout": "IPY_MODEL_f5e9187a55494bc9b172d180cb9987a8",
       "style": "IPY_MODEL_c4ccd992fe114656bec9450dc2b4f30a",
       "value": "<b>GitHub: </b> "
      }
     },
     "5b4a64ea10c2404f885ff39c16310151": {
      "model_module": "@jupyter-widgets/controls",
      "model_module_version": "1.5.0",
      "model_name": "HTMLModel",
      "state": {
       "layout": "IPY_MODEL_7b91a0df44a64a3781a212ea2d002055",
       "style": "IPY_MODEL_cabc6592f8ee49ed99598f2aa67d1e9e",
       "value": "Contains a notebook with a soil exercise for university students."
      }
     },
     "5b4b5ee54e9c46f2a4dd8c1de54e9e21": {
      "model_module": "@jupyter-widgets/controls",
      "model_module_version": "1.5.0",
      "model_name": "HTMLModel",
      "state": {
       "layout": "IPY_MODEL_190dbc7a3f68446598935766e4471e38",
       "style": "IPY_MODEL_b1217c796a8d4b99819650b2e8abc0f5",
       "value": "<b>GitHub: </b> "
      }
     },
     "5b51e50fd654438c98644515f49cbe97": {
      "model_module": "@jupyter-widgets/controls",
      "model_module_version": "1.5.0",
      "model_name": "DescriptionStyleModel",
      "state": {
       "description_width": ""
      }
     },
     "5b5d6ceb86ae4d60997bae9a17d10b2d": {
      "model_module": "@jupyter-widgets/base",
      "model_module_version": "1.2.0",
      "model_name": "LayoutModel",
      "state": {}
     },
     "5b6b2235d1644787b241e4a6f7788099": {
      "model_module": "@jupyter-widgets/controls",
      "model_module_version": "1.5.0",
      "model_name": "GridBoxModel",
      "state": {
       "children": [
        "IPY_MODEL_50cfd3a6dc644b9ea2a66b46dac40e8e",
        "IPY_MODEL_9783c78417274d4196c72587a11c0459",
        "IPY_MODEL_e3bace1d564747269145886c57993d6e",
        "IPY_MODEL_c71abfc8f8bf4f10988feadce7932471",
        "IPY_MODEL_da71379941b141e3968bbf07ff7f3e0d",
        "IPY_MODEL_28ce5b8116de4b4fa977aa6f4cfaf8b2",
        "IPY_MODEL_8ea218e9e1424b78be9aaed6522c21e9",
        "IPY_MODEL_b02f503a082d4a33ae3cbd42d5d645f5",
        "IPY_MODEL_7327029063ca4469be3ec27522e964cb",
        "IPY_MODEL_58a9d996edfb45e7912c0c759ce6bc40"
       ],
       "layout": "IPY_MODEL_4c0968891feb41e9a96df6fd1c3561f4"
      }
     },
     "5b755f58591c42cb86c1cf718e33b824": {
      "model_module": "@jupyter-widgets/controls",
      "model_module_version": "1.5.0",
      "model_name": "DescriptionStyleModel",
      "state": {
       "description_width": ""
      }
     },
     "5b7d47a488724c44b5bc8ca20727138a": {
      "model_module": "@jupyter-widgets/controls",
      "model_module_version": "1.5.0",
      "model_name": "HTMLModel",
      "state": {
       "layout": "IPY_MODEL_e418f25f6d2e4244a0a586464d0c9dcd",
       "style": "IPY_MODEL_f9207993ffa141928f469c5863891b77",
       "value": "<b>GitHub: </b> "
      }
     },
     "5ba73aec263a4b8a9a9dfae66af1e12b": {
      "model_module": "@jupyter-widgets/controls",
      "model_module_version": "1.5.0",
      "model_name": "DescriptionStyleModel",
      "state": {
       "description_width": ""
      }
     },
     "5bafa55222614e54accfbb0a7766af18": {
      "model_module": "@jupyter-widgets/base",
      "model_module_version": "1.2.0",
      "model_name": "LayoutModel",
      "state": {
       "grid_gap": "5px 10px",
       "grid_template_columns": "100px auto",
       "grid_template_rows": "auto auto auto auto auto",
       "padding": "50px 0px 70px 0px",
       "width": "100%"
      }
     },
     "5bc4cc0de79146438821a4aa2f4cbe97": {
      "model_module": "@jupyter-widgets/controls",
      "model_module_version": "1.5.0",
      "model_name": "DescriptionStyleModel",
      "state": {
       "description_width": ""
      }
     },
     "5bfcb8385e9145808a51e320b634b121": {
      "model_module": "@jupyter-widgets/controls",
      "model_module_version": "1.5.0",
      "model_name": "DescriptionStyleModel",
      "state": {
       "description_width": ""
      }
     },
     "5c08641e9f0e45139264f9f7b87dfe00": {
      "model_module": "@jupyter-widgets/controls",
      "model_module_version": "1.5.0",
      "model_name": "GridBoxModel",
      "state": {
       "children": [
        "IPY_MODEL_226765e1a843446495d577fb5c503900",
        "IPY_MODEL_2c77bbc7ba9347c3b752bc83ea74b564",
        "IPY_MODEL_8c1ed6e5f8a141f2999884d65cccef6e",
        "IPY_MODEL_13f92780b79c45f78fc9be0818c72596",
        "IPY_MODEL_8467e21c4e3647b5b88819c9076dff54",
        "IPY_MODEL_1dffd581dfaa42cbb212d62e2e19971e",
        "IPY_MODEL_b144f11a95214b499010d5628c869e3f",
        "IPY_MODEL_c4500547a9334fdeb2af6e6ee6d754e5",
        "IPY_MODEL_d247a675b380496da533c7db2d8b0fa8",
        "IPY_MODEL_4893f6c5321e46dba6be32b33823dcfc"
       ],
       "layout": "IPY_MODEL_af4b407c58ca402fab487c181b6d73f2"
      }
     },
     "5c1f771d4d704a6b9e8e21d5c9db3efe": {
      "model_module": "@jupyter-widgets/base",
      "model_module_version": "1.2.0",
      "model_name": "LayoutModel",
      "state": {}
     },
     "5c2d5c29108b426084314123574b80e7": {
      "model_module": "@jupyter-widgets/controls",
      "model_module_version": "1.5.0",
      "model_name": "HTMLModel",
      "state": {
       "layout": "IPY_MODEL_6a2de27d64be4a85b84083b8419e66e2",
       "style": "IPY_MODEL_0c5e0a4cab804ea48ef25f936c02af5e",
       "value": "<b>Title: </b> "
      }
     },
     "5c322a2c89574accbf143f3b78a34f31": {
      "model_module": "@jupyter-widgets/base",
      "model_module_version": "1.2.0",
      "model_name": "LayoutModel",
      "state": {}
     },
     "5c35fd7010d749b6a53d1de14adcf4fa": {
      "model_module": "@jupyter-widgets/controls",
      "model_module_version": "1.5.0",
      "model_name": "HTMLModel",
      "state": {
       "layout": "IPY_MODEL_37c2163b30514cc1ab8ae17ee2f16715",
       "style": "IPY_MODEL_1f9f183512bd49cb97663ac82f1caeef",
       "value": "Notebooks under this category are aimed to introduce users quickly to the fundamental principles of Python programming."
      }
     },
     "5c37bf28c94045a5a950507846d60366": {
      "model_module": "@jupyter-widgets/base",
      "model_module_version": "1.2.0",
      "model_name": "LayoutModel",
      "state": {}
     },
     "5c3854378ff041578ed82193328ca1d0": {
      "model_module": "@jupyter-widgets/base",
      "model_module_version": "1.2.0",
      "model_name": "LayoutModel",
      "state": {}
     },
     "5c4842b086a747abb20f56048d80f419": {
      "model_module": "@jupyter-widgets/controls",
      "model_module_version": "1.5.0",
      "model_name": "DescriptionStyleModel",
      "state": {
       "description_width": ""
      }
     },
     "5c67173b56734c289f8ced7201b0d194": {
      "model_module": "@jupyter-widgets/controls",
      "model_module_version": "1.5.0",
      "model_name": "HTMLModel",
      "state": {
       "layout": "IPY_MODEL_5b5d6ceb86ae4d60997bae9a17d10b2d",
       "style": "IPY_MODEL_5d274e51776343a095a5fea69f523bba",
       "value": "This Jupyter Notebook is dedicated to explaining the carbon cycle and focuses on topics regarding daily and yearly fluctuations in the concentration of carbon dioxide. It contains definitions, short descriptions, figures and animations that describe the following terms: <b>carbon dioxide</b>, <b>carbon cycle</b>, <b>carbon sinks</b> and <b>carbon sources</b>. You will be able to test your knowledge on carbon by taking the <i>Carbon Challenge Quiz</i>. In order to better comprehend the carbon cycle, the notebook also includes exercises using ICOS data from Svartberget research station in Sweden. The exercises are based on topics related to the uptake and release of carbon dioxide amongst different parts of an ecosystem."
      }
     },
     "5c9e5dd8db104eabb7e33ae9a92b9f47": {
      "model_module": "@jupyter-widgets/base",
      "model_module_version": "1.2.0",
      "model_name": "LayoutModel",
      "state": {}
     },
     "5cbd0c2a0c474f29bd3b41f63a60e8ed": {
      "model_module": "@jupyter-widgets/controls",
      "model_module_version": "1.5.0",
      "model_name": "HTMLModel",
      "state": {
       "layout": "IPY_MODEL_205cf03c97ac4601bd55c3e6930c72b4",
       "style": "IPY_MODEL_f362216cab0643eaab2996c9f3cbeecf",
       "value": "The notebooks included in this part demonstrate how to:<br>i. create interactive maps<br>ii. load icos data products, process them and present results interactive visualizations."
      }
     },
     "5d274e51776343a095a5fea69f523bba": {
      "model_module": "@jupyter-widgets/controls",
      "model_module_version": "1.5.0",
      "model_name": "DescriptionStyleModel",
      "state": {
       "description_width": ""
      }
     },
     "5d30409651054d6e80cd70d6874d881a": {
      "model_module": "@jupyter-widgets/base",
      "model_module_version": "1.2.0",
      "model_name": "LayoutModel",
      "state": {}
     },
     "5d31e9d7e49a4e2f80fed7626b084685": {
      "model_module": "@jupyter-widgets/controls",
      "model_module_version": "1.5.0",
      "model_name": "DescriptionStyleModel",
      "state": {
       "description_width": ""
      }
     },
     "5d6739d0ee914faaa4d3696cce60594e": {
      "model_module": "@jupyter-widgets/controls",
      "model_module_version": "1.5.0",
      "model_name": "DescriptionStyleModel",
      "state": {
       "description_width": ""
      }
     },
     "5d77c75b6a0541e2a02d9c8d3eda9b00": {
      "model_module": "@jupyter-widgets/controls",
      "model_module_version": "1.5.0",
      "model_name": "DescriptionStyleModel",
      "state": {
       "description_width": ""
      }
     },
     "5d7c99d2eb4b4e6eba2fe3391dae16ec": {
      "model_module": "@jupyter-widgets/base",
      "model_module_version": "1.2.0",
      "model_name": "LayoutModel",
      "state": {}
     },
     "5d8edfce74c8409c9229e7b19a32f18a": {
      "model_module": "@jupyter-widgets/base",
      "model_module_version": "1.2.0",
      "model_name": "LayoutModel",
      "state": {}
     },
     "5d9fc96342ee49a6b657114f2c3ba67b": {
      "model_module": "@jupyter-widgets/controls",
      "model_module_version": "1.5.0",
      "model_name": "HTMLModel",
      "state": {
       "layout": "IPY_MODEL_a4e0475dfb2c4a79b12d33cf47b5adcd",
       "style": "IPY_MODEL_0b910326bb064f72a75e6c10f938e8bc",
       "value": "<a href='https://github.com/ICOS-Carbon-Portal/jupyter/issues' target='_blank'>Click here to report an issue</a>"
      }
     },
     "5da218e83a0c49e29378f310a6382120": {
      "model_module": "@jupyter-widgets/controls",
      "model_module_version": "1.5.0",
      "model_name": "DescriptionStyleModel",
      "state": {
       "description_width": ""
      }
     },
     "5da77d8a33c64121b21bfb350cd5afbf": {
      "model_module": "@jupyter-widgets/base",
      "model_module_version": "1.2.0",
      "model_name": "LayoutModel",
      "state": {}
     },
     "5dac4965e7d94c15bd7f12727049d6e2": {
      "model_module": "@jupyter-widgets/controls",
      "model_module_version": "1.5.0",
      "model_name": "HTMLModel",
      "state": {
       "layout": "IPY_MODEL_0a5f53bd587f4073b7a35bb25fa3aa2e",
       "style": "IPY_MODEL_cd820c30257640ee83a4c0b7a9b7c618",
       "value": "<a href='https://github.com/ICOS-Carbon-Portal/jupyter/issues' target='_blank'>Click here to report an issue</a>"
      }
     },
     "5dbdad98b9274d5fa712581328a328ce": {
      "model_module": "@jupyter-widgets/base",
      "model_module_version": "1.2.0",
      "model_name": "LayoutModel",
      "state": {}
     },
     "5dd5afea06544307a19c3565f529117c": {
      "model_module": "@jupyter-widgets/controls",
      "model_module_version": "1.5.0",
      "model_name": "HTMLModel",
      "state": {
       "layout": "IPY_MODEL_bbdf6c9991404390926e121b734c4400",
       "style": "IPY_MODEL_5580beaf569b4eeaaab0e42bba0b6017",
       "value": "<a href=\"mailto: jupyter-info@icos-cp.eu\">jupyter-info@icos-cp.eu</a>, <a href=\"mailto: claudio.donofrio@nateko.lu.se\">claudio.donofrio@nateko.lu.se</a>"
      }
     },
     "5de810b9a48b40a49d9eb2075abe69f0": {
      "model_module": "@jupyter-widgets/controls",
      "model_module_version": "1.5.0",
      "model_name": "HTMLModel",
      "state": {
       "layout": "IPY_MODEL_61f14f065cf440cca28236dfb62f36cd",
       "style": "IPY_MODEL_b448341269e14f5ca6bbae9444d76fae",
       "value": "This notebook is dedicated on exploring ICOS atmosphere observations."
      }
     },
     "5de8ebd7390141e89391a92bae0c0049": {
      "model_module": "@jupyter-widgets/controls",
      "model_module_version": "1.5.0",
      "model_name": "DescriptionStyleModel",
      "state": {
       "description_width": ""
      }
     },
     "5df542137b454596b1a69b66836ef99b": {
      "model_module": "@jupyter-widgets/base",
      "model_module_version": "1.2.0",
      "model_name": "LayoutModel",
      "state": {}
     },
     "5e14c11882204326820a7c001881b754": {
      "model_module": "@jupyter-widgets/controls",
      "model_module_version": "1.5.0",
      "model_name": "HTMLModel",
      "state": {
       "layout": "IPY_MODEL_61002b4ba4c04ae2a8dddde36edecb2d",
       "style": "IPY_MODEL_b06951b7849d4e5293756c8f236a10a7",
       "value": "<a href=./project_jupyter_notebooks/OTC%20Data%20Reduction%20Workshop/Data%20Reduction%20part%204%20-%20UWpCO2%20cruise.ipynb target='_blank'>pCO₂ Data Reduction part 4 - UW pCO₂ cruise</a>"
      }
     },
     "5e245ea97f524376832daba3917cdb44": {
      "model_module": "@jupyter-widgets/controls",
      "model_module_version": "1.5.0",
      "model_name": "HTMLModel",
      "state": {
       "layout": "IPY_MODEL_c2ef4cc2472f43e3af1e6ccf53c37b8c",
       "style": "IPY_MODEL_766a964c4a414478914438b1b5e73f48",
       "value": "<a href=\"mailto: jupyter-info@icos-cp.eu\">jupyter-info@icos-cp.eu</a>, <a href=\"mailto: claudio.donofrio@nateko.lu.se\">claudio.donofrio@nateko.lu.se</a>"
      }
     },
     "5e3ff4819be94c42a4ffec1dd20290c6": {
      "model_module": "@jupyter-widgets/base",
      "model_module_version": "1.2.0",
      "model_name": "LayoutModel",
      "state": {}
     },
     "5e5e64acbc6846c5a935979fdf85a9d2": {
      "model_module": "@jupyter-widgets/controls",
      "model_module_version": "1.5.0",
      "model_name": "DescriptionStyleModel",
      "state": {
       "description_width": ""
      }
     },
     "5e77a04641cf47a1882c8ea2f992ae2c": {
      "model_module": "@jupyter-widgets/controls",
      "model_module_version": "1.5.0",
      "model_name": "DescriptionStyleModel",
      "state": {
       "description_width": ""
      }
     },
     "5e8ec817872b4ddaa90c1cf55c1f03fb": {
      "model_module": "@jupyter-widgets/base",
      "model_module_version": "1.2.0",
      "model_name": "LayoutModel",
      "state": {}
     },
     "5e8ee1980b234c5ea8bf6f1f7e9d22e2": {
      "model_module": "@jupyter-widgets/base",
      "model_module_version": "1.2.0",
      "model_name": "LayoutModel",
      "state": {}
     },
     "5ea4061e801844f4bfd17e0ca7269ec5": {
      "model_module": "@jupyter-widgets/controls",
      "model_module_version": "1.5.0",
      "model_name": "HTMLModel",
      "state": {
       "layout": "IPY_MODEL_69e2dfa7c9a14d91a4c9df2165406b92",
       "style": "IPY_MODEL_e7294a78a7c04046bd8469316dfa8b9e",
       "value": "<img src=\"./icos_jupyter_notebooks/ind_tools/img/03_icos_JNBs/explore_icos_ao/ap_GAT.PNG\">"
      }
     },
     "5ebb88b525a0423d92fc55efd4037dc8": {
      "model_module": "@jupyter-widgets/controls",
      "model_module_version": "1.5.0",
      "model_name": "GridBoxModel",
      "state": {
       "children": [
        "IPY_MODEL_2858eb38e7324135a2b87f0521e3ab3a",
        "IPY_MODEL_0d8fe3fd8e50454589555fe1faabb483",
        "IPY_MODEL_a985930ce30b4a8190292cea3203e609",
        "IPY_MODEL_fefefd9c39804eb0af1cad58923c19fa",
        "IPY_MODEL_203b6c2ad19841cfbbc142a3898ed5ad",
        "IPY_MODEL_6e88635042954638b34e5674f2675810",
        "IPY_MODEL_1f376eacf1cb441782264cfc7ef8132c",
        "IPY_MODEL_74e94cacf3b34030bf859e50748332b1",
        "IPY_MODEL_f32e121769cb4dae8a03f93f7e6b8552",
        "IPY_MODEL_e3d5ceae91584874b6c7d0470eaf92f5"
       ],
       "layout": "IPY_MODEL_e84d0e634de5402485b1146a0939deb7"
      }
     },
     "5ebdca5f1f71470cbf24efd3e9398bea": {
      "model_module": "@jupyter-widgets/controls",
      "model_module_version": "1.5.0",
      "model_name": "DescriptionStyleModel",
      "state": {
       "description_width": ""
      }
     },
     "5ec5cd5794824fd9ac7f4d7cd31d1530": {
      "model_module": "@jupyter-widgets/base",
      "model_module_version": "1.2.0",
      "model_name": "LayoutModel",
      "state": {}
     },
     "5ec6971f28f946baa6ee71ba8bddffd8": {
      "model_module": "@jupyter-widgets/controls",
      "model_module_version": "1.5.0",
      "model_name": "DescriptionStyleModel",
      "state": {
       "description_width": ""
      }
     },
     "5ed73fc61dc34856801b3427db157fe9": {
      "model_module": "@jupyter-widgets/base",
      "model_module_version": "1.2.0",
      "model_name": "LayoutModel",
      "state": {}
     },
     "5f44e062027b4dc981cae005b718e2ab": {
      "model_module": "@jupyter-widgets/controls",
      "model_module_version": "1.5.0",
      "model_name": "HTMLModel",
      "state": {
       "layout": "IPY_MODEL_ac499863d2de4114bb2c7a6470540b9b",
       "style": "IPY_MODEL_057bcef5f4b54bf292cbe6af0bd932be",
       "value": "<b>Title: </b> "
      }
     },
     "5f4a4f19fa76448aa99d7b98e6168d98": {
      "model_module": "@jupyter-widgets/base",
      "model_module_version": "1.2.0",
      "model_name": "LayoutModel",
      "state": {}
     },
     "5f4e85a512f048bfb38453ada587805b": {
      "model_module": "@jupyter-widgets/base",
      "model_module_version": "1.2.0",
      "model_name": "LayoutModel",
      "state": {}
     },
     "5f4f7df8f9274735aa3ee565d57b6339": {
      "model_module": "@jupyter-widgets/controls",
      "model_module_version": "1.5.0",
      "model_name": "HTMLModel",
      "state": {
       "layout": "IPY_MODEL_b62d12d31de44355953add743d6072e5",
       "style": "IPY_MODEL_6cae65851bb84b58b61ce3b0014ade54",
       "value": "<b>Description: </b> "
      }
     },
     "5f7e4391b5924546acfb6216f614c471": {
      "model_module": "@jupyter-widgets/controls",
      "model_module_version": "1.5.0",
      "model_name": "HTMLModel",
      "state": {
       "layout": "IPY_MODEL_a2ee563dfcc842718a472d2895c4af7f",
       "style": "IPY_MODEL_00671ccee61147cab29d7dff23f011c2",
       "value": "<b>Thumbnail: </b> "
      }
     },
     "5f85b3c7bbdc41029118c6cc7a99e505": {
      "model_module": "@jupyter-widgets/base",
      "model_module_version": "1.2.0",
      "model_name": "LayoutModel",
      "state": {}
     },
     "5ffd9eec475a4fab955b7dff6396d908": {
      "model_module": "@jupyter-widgets/base",
      "model_module_version": "1.2.0",
      "model_name": "LayoutModel",
      "state": {}
     },
     "602557b8f22e4ebfb2f0290ffb2fde02": {
      "model_module": "@jupyter-widgets/controls",
      "model_module_version": "1.5.0",
      "model_name": "DescriptionStyleModel",
      "state": {
       "description_width": ""
      }
     },
     "604250c3140f46dc9f8eb355916a9ac2": {
      "model_module": "@jupyter-widgets/base",
      "model_module_version": "1.2.0",
      "model_name": "LayoutModel",
      "state": {
       "grid_gap": "5px 10px",
       "grid_template_columns": "100px auto",
       "grid_template_rows": "auto auto auto auto auto",
       "padding": "50px 0px 70px 0px",
       "width": "100%"
      }
     },
     "606cb1769b5d43d4917032ece7b60324": {
      "model_module": "@jupyter-widgets/controls",
      "model_module_version": "1.5.0",
      "model_name": "GridBoxModel",
      "state": {
       "children": [
        "IPY_MODEL_ca12c56978e9447eac20be86e1bb2b53",
        "IPY_MODEL_a9f43997c34b475ab2df6507dd3a1d45",
        "IPY_MODEL_077d5ce8cd9a4ee88607927a8e386da9",
        "IPY_MODEL_459b68f77cfb4d4eb93f978705e6a0c3",
        "IPY_MODEL_b0b38f70992341dfb5f29d6f396e53ae",
        "IPY_MODEL_003f991c6de545cd85afacd51589dd79",
        "IPY_MODEL_6301997a66ca49c9bc22096e28b3336c",
        "IPY_MODEL_bf734476dce14777bf4f58659a99921f",
        "IPY_MODEL_1c5fc034eb6d4c669fb52f63dbddf78f",
        "IPY_MODEL_61691b6e309546bcb3788efa17251a4f"
       ],
       "layout": "IPY_MODEL_58afebbb00094e1ca5e60d9f48e2a56d"
      }
     },
     "60a77581c6fc4bfa90025335abf6f778": {
      "model_module": "@jupyter-widgets/controls",
      "model_module_version": "1.5.0",
      "model_name": "DescriptionStyleModel",
      "state": {
       "description_width": ""
      }
     },
     "60b6790a7ff14bf3bfcbd9d3429bf34d": {
      "model_module": "@jupyter-widgets/controls",
      "model_module_version": "1.5.0",
      "model_name": "DescriptionStyleModel",
      "state": {
       "description_width": ""
      }
     },
     "60bbe0d67fb24637b1ab063e345dd632": {
      "model_module": "@jupyter-widgets/controls",
      "model_module_version": "1.5.0",
      "model_name": "DescriptionStyleModel",
      "state": {
       "description_width": ""
      }
     },
     "60c33d047ea146ca931def446e95128c": {
      "model_module": "@jupyter-widgets/controls",
      "model_module_version": "1.5.0",
      "model_name": "DescriptionStyleModel",
      "state": {
       "description_width": ""
      }
     },
     "60dc27d2c24a47268647ff7628d7b5fb": {
      "model_module": "@jupyter-widgets/controls",
      "model_module_version": "1.5.0",
      "model_name": "DescriptionStyleModel",
      "state": {
       "description_width": ""
      }
     },
     "60e9fb1d2368493e817384e0e3c1d3af": {
      "model_module": "@jupyter-widgets/base",
      "model_module_version": "1.2.0",
      "model_name": "LayoutModel",
      "state": {
       "grid_gap": "5px 10px",
       "grid_template_columns": "100px auto",
       "grid_template_rows": "auto auto auto auto auto",
       "padding": "50px 0px 70px 0px",
       "width": "100%"
      }
     },
     "60f8bcb368fb43809bda2b4688ee637d": {
      "model_module": "@jupyter-widgets/base",
      "model_module_version": "1.2.0",
      "model_name": "LayoutModel",
      "state": {}
     },
     "60fc334bcefd47c599ae0109a3d4761e": {
      "model_module": "@jupyter-widgets/base",
      "model_module_version": "1.2.0",
      "model_name": "LayoutModel",
      "state": {}
     },
     "60ff7af0092047a48f2ebbbb4c78a4a8": {
      "model_module": "@jupyter-widgets/base",
      "model_module_version": "1.2.0",
      "model_name": "LayoutModel",
      "state": {}
     },
     "61002b4ba4c04ae2a8dddde36edecb2d": {
      "model_module": "@jupyter-widgets/base",
      "model_module_version": "1.2.0",
      "model_name": "LayoutModel",
      "state": {}
     },
     "611b1af9649748cea8012aa54ceee772": {
      "model_module": "@jupyter-widgets/base",
      "model_module_version": "1.2.0",
      "model_name": "LayoutModel",
      "state": {}
     },
     "6143e3528d0b4b09a5bf92a99022c007": {
      "model_module": "@jupyter-widgets/controls",
      "model_module_version": "1.5.0",
      "model_name": "DescriptionStyleModel",
      "state": {
       "description_width": ""
      }
     },
     "614cc64358ae4ea69b4308209b5adb5b": {
      "model_module": "@jupyter-widgets/controls",
      "model_module_version": "1.5.0",
      "model_name": "DescriptionStyleModel",
      "state": {
       "description_width": ""
      }
     },
     "61691b6e309546bcb3788efa17251a4f": {
      "model_module": "@jupyter-widgets/controls",
      "model_module_version": "1.5.0",
      "model_name": "HTMLModel",
      "state": {
       "layout": "IPY_MODEL_6f7b324c6bea4e57843e54e3ba8ec902",
       "style": "IPY_MODEL_5c4842b086a747abb20f56048d80f419",
       "value": "<img src=\"./icos_jupyter_notebooks/ind_tools/img/04_proj_JNBs/envrifair_ws/maps/ex4.PNG\">"
      }
     },
     "616d1928d48c4075b9f8102303b4eea3": {
      "model_module": "@jupyter-widgets/controls",
      "model_module_version": "1.5.0",
      "model_name": "DescriptionStyleModel",
      "state": {
       "description_width": ""
      }
     },
     "616efd10ba83461991d21bf3444a4ef4": {
      "model_module": "@jupyter-widgets/controls",
      "model_module_version": "1.5.0",
      "model_name": "DescriptionStyleModel",
      "state": {
       "description_width": ""
      }
     },
     "6177b27f266a46dc916b107a1b809779": {
      "model_module": "@jupyter-widgets/base",
      "model_module_version": "1.2.0",
      "model_name": "LayoutModel",
      "state": {}
     },
     "61c3ea0603af4835af1eaf7c4ba44778": {
      "model_module": "@jupyter-widgets/controls",
      "model_module_version": "1.5.0",
      "model_name": "DescriptionStyleModel",
      "state": {
       "description_width": ""
      }
     },
     "61d977e898184197aa8fd99ac53afc97": {
      "model_module": "@jupyter-widgets/base",
      "model_module_version": "1.2.0",
      "model_name": "LayoutModel",
      "state": {}
     },
     "61ec91ad39094b30bb9cfaa52bdf946a": {
      "model_module": "@jupyter-widgets/controls",
      "model_module_version": "1.5.0",
      "model_name": "HTMLModel",
      "state": {
       "layout": "IPY_MODEL_422e64c1bfa742469474d3340b7b076b",
       "style": "IPY_MODEL_12448854f7ca474289ba44020c759823",
       "value": "<b>Title: </b> "
      }
     },
     "61ecf55b2dd344b7bf3e96822737d1cc": {
      "model_module": "@jupyter-widgets/controls",
      "model_module_version": "1.5.0",
      "model_name": "HTMLModel",
      "state": {
       "layout": "IPY_MODEL_2c6a735586c04a84aae843fd26f16271",
       "style": "IPY_MODEL_e81683cb8e5c4f61bb6da7ccbe300bd0",
       "value": "This notebook is dedicated to using ICOS Ecosystem Data from Hyltemossa Research Station in Southern Sweden, to study how the drought during the summer of 2018 affected the vegetation and the carbon balance in the surrounding area. The temporal resolution of the data extends from January 1st 2015 to December 31st 2018. Another objective of this notebook is to introduce basic principles of Python Programming."
      }
     },
     "61f14f065cf440cca28236dfb62f36cd": {
      "model_module": "@jupyter-widgets/base",
      "model_module_version": "1.2.0",
      "model_name": "LayoutModel",
      "state": {}
     },
     "61ff6b1fabf94c1eab1d955db129ce46": {
      "model_module": "@jupyter-widgets/base",
      "model_module_version": "1.2.0",
      "model_name": "LayoutModel",
      "state": {
       "grid_gap": "5px 10px",
       "grid_template_columns": "100px auto",
       "grid_template_rows": "auto auto auto auto auto",
       "padding": "50px 0px 70px 0px",
       "width": "100%"
      }
     },
     "622473c3de854c6e9679ad4485239ebc": {
      "model_module": "@jupyter-widgets/controls",
      "model_module_version": "1.5.0",
      "model_name": "DescriptionStyleModel",
      "state": {
       "description_width": ""
      }
     },
     "623d042797c2413c9d1c5990c0346473": {
      "model_module": "@jupyter-widgets/base",
      "model_module_version": "1.2.0",
      "model_name": "LayoutModel",
      "state": {
       "grid_gap": "5px 10px",
       "grid_template_columns": "100px auto",
       "grid_template_rows": "auto auto auto auto auto",
       "padding": "50px 0px 70px 0px",
       "width": "100%"
      }
     },
     "623e16f6fe2748caaa9de7a30be47674": {
      "model_module": "@jupyter-widgets/controls",
      "model_module_version": "1.5.0",
      "model_name": "DescriptionStyleModel",
      "state": {
       "description_width": ""
      }
     },
     "62657e8ca145478a891db93c2819bed3": {
      "model_module": "@jupyter-widgets/controls",
      "model_module_version": "1.5.0",
      "model_name": "DescriptionStyleModel",
      "state": {
       "description_width": ""
      }
     },
     "6266031b7ac44968840db6187bc7c29f": {
      "model_module": "@jupyter-widgets/base",
      "model_module_version": "1.2.0",
      "model_name": "LayoutModel",
      "state": {}
     },
     "62757c98324e452bb3571bc10e2ba601": {
      "model_module": "@jupyter-widgets/controls",
      "model_module_version": "1.5.0",
      "model_name": "DescriptionStyleModel",
      "state": {
       "description_width": ""
      }
     },
     "62789a2f9ca14f7383255b3a5025880b": {
      "model_module": "@jupyter-widgets/controls",
      "model_module_version": "1.5.0",
      "model_name": "HTMLModel",
      "state": {
       "layout": "IPY_MODEL_f46985a446ef4a54b93769d8d2908465",
       "style": "IPY_MODEL_2986b899e21b4e29a25b0100ae795a0a",
       "value": "<b>Contact: </b> "
      }
     },
     "627d40e9f9e648a495bceebc932d0396": {
      "model_module": "@jupyter-widgets/base",
      "model_module_version": "1.2.0",
      "model_name": "LayoutModel",
      "state": {}
     },
     "628d057a115f4b6b80ae40afde7ab506": {
      "model_module": "@jupyter-widgets/base",
      "model_module_version": "1.2.0",
      "model_name": "LayoutModel",
      "state": {}
     },
     "6295a043debc4622869da677ba838c8e": {
      "model_module": "@jupyter-widgets/controls",
      "model_module_version": "1.5.0",
      "model_name": "HTMLModel",
      "state": {
       "layout": "IPY_MODEL_480e79a96a6c4df48ab2d09b335365d9",
       "style": "IPY_MODEL_0e4ec0aa03594d1796f87fc210af45b6",
       "value": "This notebook includes examples of curve fitting methods for time series. For more detailed information regarding the implemented methods visit NOAA. The curve fitting methods are applied over CO2 measurements from ICOS stations as well as a selection of non-ICOS stations. Data from all stations are included in the Drought 2018 Atmospheric Product (part of the Drought 2018 Project) which is stored and can be downloaded from the ICOS Carbon Portal."
      }
     },
     "62bbf5bb19ba4dd186325e3ac4a2bf3c": {
      "model_module": "@jupyter-widgets/base",
      "model_module_version": "1.2.0",
      "model_name": "LayoutModel",
      "state": {}
     },
     "62d451f9f3c24ea79d2f4e67db6de177": {
      "model_module": "@jupyter-widgets/controls",
      "model_module_version": "1.5.0",
      "model_name": "HTMLModel",
      "state": {
       "layout": "IPY_MODEL_d321d3d52f0d4b159c70c6302e4c79f3",
       "style": "IPY_MODEL_dbe57d7963914d5b8c61f2235f631a56",
       "value": "<img src=\"./icos_jupyter_notebooks/ind_tools/img/01_introduction/for_loops.PNG\">"
      }
     },
     "62df0a02aaa7418b84e0279950f8a689": {
      "model_module": "@jupyter-widgets/base",
      "model_module_version": "1.2.0",
      "model_name": "LayoutModel",
      "state": {}
     },
     "62e8e4595124468dbe47662e4b3703e5": {
      "model_module": "@jupyter-widgets/controls",
      "model_module_version": "1.5.0",
      "model_name": "DescriptionStyleModel",
      "state": {
       "description_width": ""
      }
     },
     "62efdfe84d18415fb6579c9c69f15f20": {
      "model_module": "@jupyter-widgets/controls",
      "model_module_version": "1.5.0",
      "model_name": "HTMLModel",
      "state": {
       "layout": "IPY_MODEL_0ebf3cd775944b068ea368ec15f9dae9",
       "style": "IPY_MODEL_7244857f78a74115826e513607f7162a",
       "value": "<b>Description: </b> "
      }
     },
     "62f37a559df843e189477ec93603af09": {
      "model_module": "@jupyter-widgets/base",
      "model_module_version": "1.2.0",
      "model_name": "LayoutModel",
      "state": {}
     },
     "62fbb2357328472c92ba90df1607e5ae": {
      "model_module": "@jupyter-widgets/base",
      "model_module_version": "1.2.0",
      "model_name": "LayoutModel",
      "state": {}
     },
     "6301997a66ca49c9bc22096e28b3336c": {
      "model_module": "@jupyter-widgets/controls",
      "model_module_version": "1.5.0",
      "model_name": "HTMLModel",
      "state": {
       "layout": "IPY_MODEL_8714c74fb8b04d08b04c1a0661698315",
       "style": "IPY_MODEL_1d7012d07e2146e28f37144b0cb3d93f",
       "value": "<b>GitHub: </b> "
      }
     },
     "630f465d0ce14ed3a523d8e9bc37cf54": {
      "model_module": "@jupyter-widgets/controls",
      "model_module_version": "1.5.0",
      "model_name": "GridBoxModel",
      "state": {
       "children": [
        "IPY_MODEL_a04a85a6583940c98b68a5ace0c9a6c8",
        "IPY_MODEL_d24f3c4bf7394079ae6cec5572005b10",
        "IPY_MODEL_0b1bc839e00d4d39817a55c68b5998d7",
        "IPY_MODEL_80166e8bfafa4dc8a8f84cd64a4f4d71",
        "IPY_MODEL_a6e5e06a83004dc5b14dbe83a5df62b0",
        "IPY_MODEL_c57a9b6763e04151bf0ee8779efd6255",
        "IPY_MODEL_d3bf71e7f85742dcaf722443f162a1b0",
        "IPY_MODEL_73c7c605635d4f21942df3e8c2b96024",
        "IPY_MODEL_c5db0ad6add24c1e87fe3aff5f0baae3",
        "IPY_MODEL_2a8675e894ef44d39a3f4eba9ebe1073"
       ],
       "layout": "IPY_MODEL_6c2e94f75b874e6aa9b493330da518bb"
      }
     },
     "634b9a7a0cbf487d90b60e61c6de2bd5": {
      "model_module": "@jupyter-widgets/controls",
      "model_module_version": "1.5.0",
      "model_name": "HTMLModel",
      "state": {
       "layout": "IPY_MODEL_7bf8d9a352e9430495f9ca41a184e9b6",
       "style": "IPY_MODEL_1a9da12e03834f828157364e9aedcae9",
       "value": "<b>Thumbnail: </b> "
      }
     },
     "634ddca9c09943d394f402e099fd1f14": {
      "model_module": "@jupyter-widgets/controls",
      "model_module_version": "1.5.0",
      "model_name": "HTMLModel",
      "state": {
       "layout": "IPY_MODEL_62bbf5bb19ba4dd186325e3ac4a2bf3c",
       "style": "IPY_MODEL_5d6739d0ee914faaa4d3696cce60594e",
       "value": "<b>Contact: </b> "
      }
     },
     "6361b4a530d14ea691cc81d347bacd77": {
      "model_module": "@jupyter-widgets/base",
      "model_module_version": "1.2.0",
      "model_name": "LayoutModel",
      "state": {}
     },
     "637a95044c0246819649e28096ee3000": {
      "model_module": "@jupyter-widgets/controls",
      "model_module_version": "1.5.0",
      "model_name": "HTMLModel",
      "state": {
       "layout": "IPY_MODEL_ef1084fe20e649c5a8799295320a4aed",
       "style": "IPY_MODEL_e5b1215054674bdaa50f1b2b27bb97af",
       "value": "<img src=\"./icos_jupyter_notebooks/ind_tools/img/04_proj_JNBs/envrifair_ws/maps/ex3.PNG\">"
      }
     },
     "6381cdac23fc434db90b302ae7450cf4": {
      "model_module": "@jupyter-widgets/base",
      "model_module_version": "1.2.0",
      "model_name": "LayoutModel",
      "state": {}
     },
     "63a0893a12e444d89d3f1d2761e717fd": {
      "model_module": "@jupyter-widgets/controls",
      "model_module_version": "1.5.0",
      "model_name": "DescriptionStyleModel",
      "state": {
       "description_width": ""
      }
     },
     "63a704b791c648dc98c45156abeae43c": {
      "model_module": "@jupyter-widgets/controls",
      "model_module_version": "1.5.0",
      "model_name": "DescriptionStyleModel",
      "state": {
       "description_width": ""
      }
     },
     "63a82cfeb7c541fca17553bc8e28c126": {
      "model_module": "@jupyter-widgets/controls",
      "model_module_version": "1.5.0",
      "model_name": "HTMLModel",
      "state": {
       "layout": "IPY_MODEL_ef73102afd0b4646919e38ddb47b20d0",
       "style": "IPY_MODEL_64e737b28a1a4353bde3e44cf5ef49e6",
       "value": "<b>Description: </b> "
      }
     },
     "63c44c23bca24444a7de97f33433b43c": {
      "model_module": "@jupyter-widgets/base",
      "model_module_version": "1.2.0",
      "model_name": "LayoutModel",
      "state": {}
     },
     "63e3a25223234c20b2605ee16d77713f": {
      "model_module": "@jupyter-widgets/controls",
      "model_module_version": "1.5.0",
      "model_name": "HTMLModel",
      "state": {
       "layout": "IPY_MODEL_53e6ea64542442beba1358e0bdf7a669",
       "style": "IPY_MODEL_7af0a16f683a400e8a2581ee23461c6a",
       "value": "Notebooks under this category include examples on how to use the ICOS Carbon Portal Python library (i.e. library that provides access to ICOS data products)"
      }
     },
     "640c325526d04700badc58a68f7e1309": {
      "model_module": "@jupyter-widgets/controls",
      "model_module_version": "1.5.0",
      "model_name": "HTMLModel",
      "state": {
       "layout": "IPY_MODEL_4877b3ab5d474d35b34e2304b636d2a7",
       "style": "IPY_MODEL_0029614fe2af46378f2d301b8beffd9c",
       "value": "<b>Thumbnail: </b> "
      }
     },
     "642926f91d3145bc9496086fcda54fe3": {
      "model_module": "@jupyter-widgets/base",
      "model_module_version": "1.2.0",
      "model_name": "LayoutModel",
      "state": {}
     },
     "6438ebc0b5e54b2cae04ef2b60117bb0": {
      "model_module": "@jupyter-widgets/controls",
      "model_module_version": "1.5.0",
      "model_name": "HTMLModel",
      "state": {
       "layout": "IPY_MODEL_d2db6604e38944f9a0c23a716d923821",
       "style": "IPY_MODEL_60dc27d2c24a47268647ff7628d7b5fb",
       "value": "<b>Thumbnail: </b> "
      }
     },
     "64509afd7ed54a7ab4b9f455deb6b9d9": {
      "model_module": "@jupyter-widgets/controls",
      "model_module_version": "1.5.0",
      "model_name": "HTMLModel",
      "state": {
       "layout": "IPY_MODEL_4321a6ba979749be85f8bad022104aec",
       "style": "IPY_MODEL_c8f6d32deab24461992f514829ded3e5",
       "value": "<b>Title: </b> "
      }
     },
     "6453ad52ba5943dcaf42111aaa655a9d": {
      "model_module": "@jupyter-widgets/base",
      "model_module_version": "1.2.0",
      "model_name": "LayoutModel",
      "state": {}
     },
     "645e968fb42245ec8bc1f1abb3914ce4": {
      "model_module": "@jupyter-widgets/base",
      "model_module_version": "1.2.0",
      "model_name": "LayoutModel",
      "state": {}
     },
     "6462f31d5dab48d3a220ec4274387611": {
      "model_module": "@jupyter-widgets/base",
      "model_module_version": "1.2.0",
      "model_name": "LayoutModel",
      "state": {}
     },
     "64688ad5b31f4460ab76f0da7eb06ad3": {
      "model_module": "@jupyter-widgets/base",
      "model_module_version": "1.2.0",
      "model_name": "LayoutModel",
      "state": {}
     },
     "64861ad0f3ea48e0bf7d252767e6f0e3": {
      "model_module": "@jupyter-widgets/controls",
      "model_module_version": "1.5.0",
      "model_name": "DescriptionStyleModel",
      "state": {
       "description_width": ""
      }
     },
     "649cfeeb942a4f8aafd6f81af42613da": {
      "model_module": "@jupyter-widgets/controls",
      "model_module_version": "1.5.0",
      "model_name": "DescriptionStyleModel",
      "state": {
       "description_width": ""
      }
     },
     "64c443494c2f462f9da9f6b8efad33d7": {
      "model_module": "@jupyter-widgets/controls",
      "model_module_version": "1.5.0",
      "model_name": "DescriptionStyleModel",
      "state": {
       "description_width": ""
      }
     },
     "64da0ed05899459b8c52047f86f3e5d4": {
      "model_module": "@jupyter-widgets/controls",
      "model_module_version": "1.5.0",
      "model_name": "HTMLModel",
      "state": {
       "layout": "IPY_MODEL_acb694dc5b0648729602f3ff12655db0",
       "style": "IPY_MODEL_f1f8df922566487dbb1ca163a7513b06",
       "value": "<b>Description: </b> "
      }
     },
     "64e737b28a1a4353bde3e44cf5ef49e6": {
      "model_module": "@jupyter-widgets/controls",
      "model_module_version": "1.5.0",
      "model_name": "DescriptionStyleModel",
      "state": {
       "description_width": ""
      }
     },
     "64e975a681184b34a9dab32bda422e1c": {
      "model_module": "@jupyter-widgets/controls",
      "model_module_version": "1.5.0",
      "model_name": "HTMLModel",
      "state": {
       "layout": "IPY_MODEL_11211ba8070240a2ac2c0a38623b49da",
       "style": "IPY_MODEL_1db748699e074f34a6c57a20aa6b2a7a",
       "value": "This Jupyter notebook provides an example on how to combine information from two independent data sets using Python libraries. One data set is loaded from the ICOS Carbon Portal, ocean domain and contains data from a boat traveling from Europe to Brazil. The second data set is accessed using the PANGAEA Python library and contains similar data, collected from another boat travelling from Europe to South America. Full documentation for the ICOS library on the <a href='https://icos-carbon-portal.github.io/pylib/' target='_blank'>project page</a>, how to install and wheel on <a href='https://pypi.org/project/icoscp/' target='_blank'>pypi.org</a>, source available on <a href='https://github.com/ICOS-Carbon-Portal/pylib' target='_blank'>GitHub</a>. The Pangaea library is available on <a href='https://pypi.org/project/pangaeapy/' target='_blank'>pypi.org</a>, source and documentation <a href='https://github.com/pangaea-data-publisher/pangaeapy' target='_blank'>GitHub</a>."
      }
     },
     "64f003918bda4d44b414602e3d53c88e": {
      "model_module": "@jupyter-widgets/base",
      "model_module_version": "1.2.0",
      "model_name": "LayoutModel",
      "state": {}
     },
     "64fd722118474fe693182ce6b26a6307": {
      "model_module": "@jupyter-widgets/controls",
      "model_module_version": "1.5.0",
      "model_name": "DescriptionStyleModel",
      "state": {
       "description_width": ""
      }
     },
     "64fe597a1a1d48c3be36d299ebc9f3b6": {
      "model_module": "@jupyter-widgets/controls",
      "model_module_version": "1.5.0",
      "model_name": "DescriptionStyleModel",
      "state": {
       "description_width": ""
      }
     },
     "6513a10b1894465a8a4065cb303d7788": {
      "model_module": "@jupyter-widgets/controls",
      "model_module_version": "1.5.0",
      "model_name": "HTMLModel",
      "state": {
       "layout": "IPY_MODEL_f5a43406c81a406e8a2e0adfbf0f8f11",
       "style": "IPY_MODEL_99d312fe3bf2496fac2b8a869d050ae5",
       "value": "<b>Contact: </b> "
      }
     },
     "6532b42ea99e4144ba326cf7565139dd": {
      "model_module": "@jupyter-widgets/controls",
      "model_module_version": "1.5.0",
      "model_name": "HTMLModel",
      "state": {
       "layout": "IPY_MODEL_3b8f73ffa78d4b499a41d34a8d41ce27",
       "style": "IPY_MODEL_37473780a11a4cce9e1b6d5b2f8aa04c",
       "value": "<a href='https://github.com/ICOS-Carbon-Portal/jupyter/issues' target='_blank'>Click here to report an issue</a>"
      }
     },
     "6535032646904ea8a5aa94e7ac31dd60": {
      "model_module": "@jupyter-widgets/base",
      "model_module_version": "1.2.0",
      "model_name": "LayoutModel",
      "state": {}
     },
     "6561af3b7d8f4cbd90c909083886db3a": {
      "model_module": "@jupyter-widgets/base",
      "model_module_version": "1.2.0",
      "model_name": "LayoutModel",
      "state": {}
     },
     "65696ae04ae740c6af2822ca649d44f5": {
      "model_module": "@jupyter-widgets/base",
      "model_module_version": "1.2.0",
      "model_name": "LayoutModel",
      "state": {}
     },
     "6582a93231f5419c94da69b84bc702d5": {
      "model_module": "@jupyter-widgets/controls",
      "model_module_version": "1.5.0",
      "model_name": "HTMLModel",
      "state": {
       "layout": "IPY_MODEL_fe9a568969d1460683674750df1b7c32",
       "style": "IPY_MODEL_b4ca4f51c76847e1ade87cbadf773c2d",
       "value": "<b>Thumbnail: </b> "
      }
     },
     "65946d445f6e4739834fd56f5115d3dc": {
      "model_module": "@jupyter-widgets/controls",
      "model_module_version": "1.5.0",
      "model_name": "HTMLModel",
      "state": {
       "layout": "IPY_MODEL_1016a162c9b845b19f9e2a1c2a6e1c45",
       "style": "IPY_MODEL_65bd4813aee94c599e1e8cb400291bab",
       "value": "<img src=\"./icos_jupyter_notebooks/ind_tools/img/04_proj_JNBs/ringo_t1_3/fossilfuel_gui.PNG\">"
      }
     },
     "659d6d5f88a44d73934f1363db240045": {
      "model_module": "@jupyter-widgets/controls",
      "model_module_version": "1.5.0",
      "model_name": "DescriptionStyleModel",
      "state": {
       "description_width": ""
      }
     },
     "659ed11f050a43769617e3eff91f5461": {
      "model_module": "@jupyter-widgets/controls",
      "model_module_version": "1.5.0",
      "model_name": "HTMLModel",
      "state": {
       "layout": "IPY_MODEL_4bcc125f10d64d528c1f9fc1b0439dff",
       "style": "IPY_MODEL_4261cbb7750a48f1b8f9d69f6d17210a",
       "value": "<b>GitHub: </b> "
      }
     },
     "65b7cb0a25ff45e8986122ec564b2840": {
      "model_module": "@jupyter-widgets/base",
      "model_module_version": "1.2.0",
      "model_name": "LayoutModel",
      "state": {
       "grid_gap": "5px 10px",
       "grid_template_columns": "auto",
       "grid_template_rows": "auto",
       "padding": "5px 0px 5px 0px",
       "width": "100%"
      }
     },
     "65bd4813aee94c599e1e8cb400291bab": {
      "model_module": "@jupyter-widgets/controls",
      "model_module_version": "1.5.0",
      "model_name": "DescriptionStyleModel",
      "state": {
       "description_width": ""
      }
     },
     "65e7a133a0b54e928a677c0a6ce269b2": {
      "model_module": "@jupyter-widgets/base",
      "model_module_version": "1.2.0",
      "model_name": "LayoutModel",
      "state": {}
     },
     "65fb96006b104e848521d111b2d797a2": {
      "model_module": "@jupyter-widgets/controls",
      "model_module_version": "1.5.0",
      "model_name": "HTMLModel",
      "state": {
       "layout": "IPY_MODEL_c04c7edede854a9089b9a74140fb28fc",
       "style": "IPY_MODEL_5aa22cbd4ad0443b88169ad13f717a9f",
       "value": "<b>Contact: </b> "
      }
     },
     "662576b0803544138268da88017fb4c8": {
      "model_module": "@jupyter-widgets/controls",
      "model_module_version": "1.5.0",
      "model_name": "HTMLModel",
      "state": {
       "layout": "IPY_MODEL_098c00bf19c2454ea9ef5cd24df8f086",
       "style": "IPY_MODEL_96117b48b2164a9e858f911afd0a02e1",
       "value": "This Jupyter notebook is dedicated to accessing ICOS data and metadata for CO2-concentrations measured at ICOS atmosphere stations as well as accessing simulated CO2-concentrations from <a href='http://stilt-model.org/index.php/Main/HomePage' target='_blank'>STILT model</a> outputs (elaborated data product). Data and metadata will be accessed using the icoscp Python library. You will get a chance to compare simulated CO2-concentrations to observed CO2-concentrations and assess how well the simulated values fit the real observations. Throughout the different steps included in this notebook, you will get an impression of how ICOS deals with data provenance and get some ideas on how to utilize metadata information in data analysis processes as well as in data visualizations."
      }
     },
     "662dc5bb5cd94e8e8708477192c2fb7c": {
      "model_module": "@jupyter-widgets/controls",
      "model_module_version": "1.5.0",
      "model_name": "DescriptionStyleModel",
      "state": {
       "description_width": ""
      }
     },
     "663e37cd955947cd91be3032703bb5c9": {
      "model_module": "@jupyter-widgets/base",
      "model_module_version": "1.2.0",
      "model_name": "LayoutModel",
      "state": {}
     },
     "664b7959acd2488896c1686697141e8b": {
      "model_module": "@jupyter-widgets/base",
      "model_module_version": "1.2.0",
      "model_name": "LayoutModel",
      "state": {}
     },
     "666111f115ff4765bb142ad7ed209bc3": {
      "model_module": "@jupyter-widgets/controls",
      "model_module_version": "1.5.0",
      "model_name": "DescriptionStyleModel",
      "state": {
       "description_width": ""
      }
     },
     "666203f438c04460b85170987c2222af": {
      "model_module": "@jupyter-widgets/base",
      "model_module_version": "1.2.0",
      "model_name": "LayoutModel",
      "state": {
       "grid_gap": "5px 10px",
       "grid_template_columns": "100px auto",
       "grid_template_rows": "auto auto auto auto auto",
       "padding": "50px 0px 70px 0px",
       "width": "100%"
      }
     },
     "66a3cb41d4c9471589c30e3301fce188": {
      "model_module": "@jupyter-widgets/controls",
      "model_module_version": "1.5.0",
      "model_name": "HTMLModel",
      "state": {
       "layout": "IPY_MODEL_5d8edfce74c8409c9229e7b19a32f18a",
       "style": "IPY_MODEL_28a7009b7e5e480bbb4c42f56590a167",
       "value": "<a href=\"mailto: jupyter-info@icos-cp.eu\">jupyter-info@icos-cp.eu</a>, <a href=\"mailto: ute.karstens@nateko.lu.se\">ute.karstens@nateko.lu.se</a>"
      }
     },
     "66a820fca28a461e8d98a2c8a679378d": {
      "model_module": "@jupyter-widgets/base",
      "model_module_version": "1.2.0",
      "model_name": "LayoutModel",
      "state": {}
     },
     "66b4dbf120004a4a88d38aa6160b0ece": {
      "model_module": "@jupyter-widgets/controls",
      "model_module_version": "1.5.0",
      "model_name": "HTMLModel",
      "state": {
       "layout": "IPY_MODEL_9ead4d28c32e4b019090053c568c5d6d",
       "style": "IPY_MODEL_9a9e02c61c2a40ffbdf82b3ad0ecabaa",
       "value": "This Jupyter notebook presents examples on how to search for <a href='http://stilt-model.org/index.php/Main/HomePage' target='_blank'>STILT</a> stations, load the modelled data, and create some simple visualisations and animations, all using the ICOS Carbon Portal Python library. Full documentation for the ICOS library is available on the <a href='https://icos-carbon-portal.github.io/pylib/' target='_blank'>project page</a>, how to install and wheel on <a href='https://pypi.org/project/icoscp/' target='_blank'>pypi.org</a>, source available on <a href='https://github.com/ICOS-Carbon-Portal/pylib' target='_blank'>GitHub</a>."
      }
     },
     "66b7d931c3bc44b9857a39bdd23f115c": {
      "model_module": "@jupyter-widgets/controls",
      "model_module_version": "1.5.0",
      "model_name": "GridBoxModel",
      "state": {
       "children": [
        "IPY_MODEL_73951fe7088143319e2e047378b17f16",
        "IPY_MODEL_d29878ac89504f848f729d895df1d31f",
        "IPY_MODEL_1b9b39e4777d400cbc275b8b8e3731cf",
        "IPY_MODEL_d807412b190e4c0180a7b6afbabb319d",
        "IPY_MODEL_6513a10b1894465a8a4065cb303d7788",
        "IPY_MODEL_7885fcfa49ab4df9a7bd340b1aae28d6",
        "IPY_MODEL_32bdc6e76e7b41eab61502e844c764ab",
        "IPY_MODEL_01b1871a230f4758b2c4cd59af99957a",
        "IPY_MODEL_08bfceca7327448c9ccbcacb4c53788b",
        "IPY_MODEL_8edbca3bb6ee41bba6c8681bde355cd8"
       ],
       "layout": "IPY_MODEL_f2cc841cf50e4c6f8e566f177bf31aec"
      }
     },
     "66bb42a3dd904fc8ba0990e2d580c734": {
      "model_module": "@jupyter-widgets/controls",
      "model_module_version": "1.5.0",
      "model_name": "HTMLModel",
      "state": {
       "layout": "IPY_MODEL_b69b128667cb4e69961adc4575c6394c",
       "style": "IPY_MODEL_c9af66cabf004696a7ffd5acb1554697",
       "value": "This notebook is dedicated to using ICOS Ecosystem Data from Hyltemossa Research Station in Southern Sweden, to study how the drought during the summer of 2018 affected the vegetation and the carbon balance in the surrounding area. The temporal resolution of the data extends from January 1st 2015 to December 31st 2018. Another objective of this notebook is to introduce basic principles of Python Programming."
      }
     },
     "66da8dc9962a4139ab5f8773e36b2811": {
      "model_module": "@jupyter-widgets/controls",
      "model_module_version": "1.5.0",
      "model_name": "GridBoxModel",
      "state": {
       "children": [
        "IPY_MODEL_e9ab4586730d438f8a06e64d377a4334",
        "IPY_MODEL_ef102dd97c7c4eedaa5e5fa3f64dc93f",
        "IPY_MODEL_06e52419d44e4344826e46b5040be695",
        "IPY_MODEL_d32c6b7b8cef41f6aa9478d4d3f3a39d",
        "IPY_MODEL_21926e95a96f43fca3419aa01cc039c7",
        "IPY_MODEL_88956da48d724b21954392ab24d7bd28",
        "IPY_MODEL_18ec1f846714475190f2bb70213e1c76",
        "IPY_MODEL_11a5e09b1c2449d3a184058cb21b9fc7",
        "IPY_MODEL_3e87450e26b04d8c838e096ded419caf",
        "IPY_MODEL_d0a6a77549f94d79a2cbdd6ce845c8a2"
       ],
       "layout": "IPY_MODEL_263db5a49605423babdaca340426efe2"
      }
     },
     "66de6729e1c64d449b7851c8b4d65df1": {
      "model_module": "@jupyter-widgets/controls",
      "model_module_version": "1.5.0",
      "model_name": "HTMLModel",
      "state": {
       "layout": "IPY_MODEL_695cd6fdc9fb4878b64892d85f948d80",
       "style": "IPY_MODEL_8d880a5efae54a3d8b98106da7a87916",
       "value": "<a href=\"mailto: jupyter-info@icos-cp.eu\">jupyter-info@icos-cp.eu</a>, <a href=\"mailto: Steve.Jones@uib.no\">Steve.Jones@uib.no</a>"
      }
     },
     "66ee085c959346feafea39df6ace84c1": {
      "model_module": "@jupyter-widgets/base",
      "model_module_version": "1.2.0",
      "model_name": "LayoutModel",
      "state": {}
     },
     "672d18e3228c4f918757a5c9632a9fa6": {
      "model_module": "@jupyter-widgets/controls",
      "model_module_version": "1.5.0",
      "model_name": "DescriptionStyleModel",
      "state": {
       "description_width": ""
      }
     },
     "6730ad3daed945c1a788cfe40f0ad72d": {
      "model_module": "@jupyter-widgets/controls",
      "model_module_version": "1.5.0",
      "model_name": "DescriptionStyleModel",
      "state": {
       "description_width": ""
      }
     },
     "679f7050733f4797b9981d312eb8bd68": {
      "model_module": "@jupyter-widgets/base",
      "model_module_version": "1.2.0",
      "model_name": "LayoutModel",
      "state": {}
     },
     "67a05baff0f74fa999cceb70bf2fba0d": {
      "model_module": "@jupyter-widgets/controls",
      "model_module_version": "1.5.0",
      "model_name": "DescriptionStyleModel",
      "state": {
       "description_width": ""
      }
     },
     "67e3e904d54645708aae0cfc7ae405db": {
      "model_module": "@jupyter-widgets/controls",
      "model_module_version": "1.5.0",
      "model_name": "DescriptionStyleModel",
      "state": {
       "description_width": ""
      }
     },
     "680d0a2c457f4b839f2c1412bf2a9ac7": {
      "model_module": "@jupyter-widgets/controls",
      "model_module_version": "1.5.0",
      "model_name": "HTMLModel",
      "state": {
       "layout": "IPY_MODEL_ff555a144b224a59bb784ef448c1e8be",
       "style": "IPY_MODEL_f753e07fa15b42439621d30a44be6b7b",
       "value": "<b>Description: </b> "
      }
     },
     "6813d85cdf454862823858480f651d31": {
      "model_module": "@jupyter-widgets/controls",
      "model_module_version": "1.5.0",
      "model_name": "DescriptionStyleModel",
      "state": {
       "description_width": ""
      }
     },
     "6826d96a8a8b4d3c8ae9580a544a2d1e": {
      "model_module": "@jupyter-widgets/base",
      "model_module_version": "1.2.0",
      "model_name": "LayoutModel",
      "state": {}
     },
     "682ce5007cd74219838f2bc9dc7170b6": {
      "model_module": "@jupyter-widgets/controls",
      "model_module_version": "1.5.0",
      "model_name": "DescriptionStyleModel",
      "state": {
       "description_width": ""
      }
     },
     "682e038347344d8ea1ad5d2a7e20515c": {
      "model_module": "@jupyter-widgets/controls",
      "model_module_version": "1.5.0",
      "model_name": "DescriptionStyleModel",
      "state": {
       "description_width": ""
      }
     },
     "6832b4645af742e9b04a888c3bdba7ab": {
      "model_module": "@jupyter-widgets/controls",
      "model_module_version": "1.5.0",
      "model_name": "DescriptionStyleModel",
      "state": {
       "description_width": ""
      }
     },
     "6855df64eb8d47af9ad34583257ead5a": {
      "model_module": "@jupyter-widgets/base",
      "model_module_version": "1.2.0",
      "model_name": "LayoutModel",
      "state": {}
     },
     "6863660f72204c4b873610727db9063a": {
      "model_module": "@jupyter-widgets/controls",
      "model_module_version": "1.5.0",
      "model_name": "HTMLModel",
      "state": {
       "layout": "IPY_MODEL_4a5bcde4107440eab677feff77413c2b",
       "style": "IPY_MODEL_8aa7eded96ce43a598a86e84b7f81218",
       "value": "This notebook is dedicated to accessing, processing, and comparing ICOS atmosphere CO2-concentrations (data and metadata) and simulated CO2-concentrations from <a href=\"https://www.icos-cp.eu/data-services/tools/stilt-footprint\" target=\"_blank\">(STILT)</a> model outputs (ICOS elaborated data product).\n"
      }
     },
     "688d8e45dfdb40e6a982436ee6ee0133": {
      "model_module": "@jupyter-widgets/controls",
      "model_module_version": "1.5.0",
      "model_name": "HTMLModel",
      "state": {
       "layout": "IPY_MODEL_514d91eb01574349a6d5fb9cd9bfe8e4",
       "style": "IPY_MODEL_1289e15e198544b2bdc911054199c739",
       "value": "This notebook is dedicated on producing summary stastics for ICOS atmosphere observations. The notebook also includes advanced interactive visualizations of maps, plots and tables that compare observations and/or statistic results from different ICOS atmosphere stations. The selection of stations and other parameters relevant to each visualization are handled by interactive elements called widgets (i.e. dropdown lists, checkboxes, etc.)"
      }
     },
     "689938e3ad9741e5885717bcd5c4c186": {
      "model_module": "@jupyter-widgets/base",
      "model_module_version": "1.2.0",
      "model_name": "LayoutModel",
      "state": {}
     },
     "68aaa00e0b594501af6da4cec5a5f19e": {
      "model_module": "@jupyter-widgets/controls",
      "model_module_version": "1.5.0",
      "model_name": "DescriptionStyleModel",
      "state": {
       "description_width": ""
      }
     },
     "68e53d2279e84f09bade901193542c6b": {
      "model_module": "@jupyter-widgets/controls",
      "model_module_version": "1.5.0",
      "model_name": "HTMLModel",
      "state": {
       "layout": "IPY_MODEL_94e8260801de4e2493a9ba788d56491a",
       "style": "IPY_MODEL_10f6947d1dd1419f9132abd7364c6a8e",
       "value": "This Jupyter notebook is dedicated on providing examples of how to produce an interactive map with pinpoints. Based on a javascript library, <a href='https://leafletjs.com/' target='_blank'>leaflet</a>, a python interface is available, called <a href='https://python-visualization.github.io/folium/' target='_blank'>folium</a>. We will use this library to setup an interactive map, where you can zoom in and out, add markers, customize the markers and download the maps as a static website (.html)."
      }
     },
     "690b8d305980406d8f650089b714b99f": {
      "model_module": "@jupyter-widgets/controls",
      "model_module_version": "1.5.0",
      "model_name": "HTMLModel",
      "state": {
       "layout": "IPY_MODEL_540dac09d8e646a9b4db69ada06bc6c1",
       "style": "IPY_MODEL_6f7499e654244ccd9902bd69f8e9456a",
       "value": "<b>Description: </b> "
      }
     },
     "692aa969f11c4376b62cd9cad5d16ea9": {
      "model_module": "@jupyter-widgets/controls",
      "model_module_version": "1.5.0",
      "model_name": "GridBoxModel",
      "state": {
       "children": [
        "IPY_MODEL_c5a7e5c8da974208943333f933e5602b",
        "IPY_MODEL_efa512d65c6943a4ab8ea36fd26cd030"
       ],
       "layout": "IPY_MODEL_483cfe33e8964ef0a55ff2621c362416"
      }
     },
     "6931395d897a4c53b5397574f6bb0c0c": {
      "model_module": "@jupyter-widgets/controls",
      "model_module_version": "1.5.0",
      "model_name": "HTMLModel",
      "state": {
       "layout": "IPY_MODEL_fd2c4f47b8a9405b995d3e95be58f2df",
       "style": "IPY_MODEL_52f5d921d3d14780b750384a75942c0a",
       "value": "<b>Description: </b> "
      }
     },
     "693807721f344cefac7a129bdaef729e": {
      "model_module": "@jupyter-widgets/base",
      "model_module_version": "1.2.0",
      "model_name": "LayoutModel",
      "state": {
       "grid_gap": "5px 10px",
       "grid_template_columns": "100px auto",
       "grid_template_rows": "auto auto auto auto auto",
       "padding": "50px 0px 70px 0px",
       "width": "100%"
      }
     },
     "694716efb4084e6899f0ffc9ae01f4e7": {
      "model_module": "@jupyter-widgets/controls",
      "model_module_version": "1.5.0",
      "model_name": "DescriptionStyleModel",
      "state": {
       "description_width": ""
      }
     },
     "69527be621124faa9f190adc7bcdb104": {
      "model_module": "@jupyter-widgets/controls",
      "model_module_version": "1.5.0",
      "model_name": "HTMLModel",
      "state": {
       "layout": "IPY_MODEL_dcd9a2f804e14ec7b0ef96ba82bb5c65",
       "style": "IPY_MODEL_eabdd87c604b47d49050d18f28b49dd2",
       "value": "<img src=\"./icos_jupyter_notebooks/ind_tools/img/03_icos_JNBs/icos_ao_vs_stilt/trn_stilt_icos.PNG\">"
      }
     },
     "695cd6fdc9fb4878b64892d85f948d80": {
      "model_module": "@jupyter-widgets/base",
      "model_module_version": "1.2.0",
      "model_name": "LayoutModel",
      "state": {}
     },
     "696613b7f4e94bd6abbfa4933065c5a8": {
      "model_module": "@jupyter-widgets/controls",
      "model_module_version": "1.5.0",
      "model_name": "DescriptionStyleModel",
      "state": {
       "description_width": ""
      }
     },
     "6966933f172a4434a8f2cd0eb7e41790": {
      "model_module": "@jupyter-widgets/controls",
      "model_module_version": "1.5.0",
      "model_name": "HTMLModel",
      "state": {
       "layout": "IPY_MODEL_ee4c6d90f8ee46ad83cc5f95dc8b034a",
       "style": "IPY_MODEL_f8fe8cfefbdb4cd99427ecce463b2271",
       "value": "<img src=\"./icos_jupyter_notebooks/ind_tools/img/03_icos_JNBs/avg_fp_viz/gui.PNG\">"
      }
     },
     "697cb4c6396847069f61c17cd54bb4e4": {
      "model_module": "@jupyter-widgets/controls",
      "model_module_version": "1.5.0",
      "model_name": "DescriptionStyleModel",
      "state": {
       "description_width": ""
      }
     },
     "698422b1450d4113af931aea2a8212cd": {
      "model_module": "@jupyter-widgets/controls",
      "model_module_version": "1.5.0",
      "model_name": "HTMLModel",
      "state": {
       "layout": "IPY_MODEL_edd6719865b04f7ba5d828fbbfdf3604",
       "style": "IPY_MODEL_203367eb04814372b8350de0075fe0b7",
       "value": "<a href='https://github.com/ICOS-Carbon-Portal/jupyter/issues' target='_blank'>Click here to report an issue</a>"
      }
     },
     "69a20a9559284e8c8bca1ba43dc66ac8": {
      "model_module": "@jupyter-widgets/controls",
      "model_module_version": "1.5.0",
      "model_name": "HTMLModel",
      "state": {
       "layout": "IPY_MODEL_4d01ff63dfd74b6d81a290264b8b45a0",
       "style": "IPY_MODEL_f02ecc92f30d4544ae5f446836fd786e",
       "value": "This Jupyter notebook is dedicated on providing examples of how to produce an interactive map with pinpoints. Based on a javascript library, <a href='https://leafletjs.com/' target='_blank'>leaflet</a>, a python interface is available, called <a href='https://python-visualization.github.io/folium/' target='_blank'>folium</a>. We will use this library to setup an interactive map, where you can zoom in and out, add markers, customize the markers and download the maps as a static website (.html)."
      }
     },
     "69a3efa15c254633a771be8708df0a56": {
      "model_module": "@jupyter-widgets/base",
      "model_module_version": "1.2.0",
      "model_name": "LayoutModel",
      "state": {}
     },
     "69ce0cd87f0140008b9384cae57254db": {
      "model_module": "@jupyter-widgets/base",
      "model_module_version": "1.2.0",
      "model_name": "LayoutModel",
      "state": {}
     },
     "69d8205e59ba4f708d347dff7cad8032": {
      "model_module": "@jupyter-widgets/controls",
      "model_module_version": "1.5.0",
      "model_name": "HTMLModel",
      "state": {
       "layout": "IPY_MODEL_47195d32032842e99191096c12029254",
       "style": "IPY_MODEL_e4b214c369524f0a967b4bbded028d0f",
       "value": "<b>Thumbnail: </b> "
      }
     },
     "69e2dfa7c9a14d91a4c9df2165406b92": {
      "model_module": "@jupyter-widgets/base",
      "model_module_version": "1.2.0",
      "model_name": "LayoutModel",
      "state": {}
     },
     "69e5e9d282e44465a18be7e827338db4": {
      "model_module": "@jupyter-widgets/controls",
      "model_module_version": "1.5.0",
      "model_name": "DescriptionStyleModel",
      "state": {
       "description_width": ""
      }
     },
     "6a2de27d64be4a85b84083b8419e66e2": {
      "model_module": "@jupyter-widgets/base",
      "model_module_version": "1.2.0",
      "model_name": "LayoutModel",
      "state": {}
     },
     "6a33b70aeddc424cb50b4147c387abd8": {
      "model_module": "@jupyter-widgets/base",
      "model_module_version": "1.2.0",
      "model_name": "LayoutModel",
      "state": {}
     },
     "6a429dae842346b793f3829c80bda66b": {
      "model_module": "@jupyter-widgets/controls",
      "model_module_version": "1.5.0",
      "model_name": "HTMLModel",
      "state": {
       "layout": "IPY_MODEL_645e968fb42245ec8bc1f1abb3914ce4",
       "style": "IPY_MODEL_372d408014b746dcb05c2b099dbb19d7",
       "value": "<b>Thumbnail: </b> "
      }
     },
     "6a61527da48c427cba40895fb0c0ffd9": {
      "model_module": "@jupyter-widgets/controls",
      "model_module_version": "1.5.0",
      "model_name": "DescriptionStyleModel",
      "state": {
       "description_width": ""
      }
     },
     "6a68f6dbc9b14d5896e14fe098855f05": {
      "model_module": "@jupyter-widgets/base",
      "model_module_version": "1.2.0",
      "model_name": "LayoutModel",
      "state": {}
     },
     "6a7d26e4fb234e3d9246035c8aa2e7b5": {
      "model_module": "@jupyter-widgets/controls",
      "model_module_version": "1.5.0",
      "model_name": "HTMLModel",
      "state": {
       "layout": "IPY_MODEL_936c13e49fb8435dafabe6ba2c840c4e",
       "style": "IPY_MODEL_b1bc0be9f47a499dbe124fd682672653",
       "value": "<img src=\"./icos_jupyter_notebooks/ind_tools/img/05_education/phd/ucf/station_ex/station_class.PNG\">"
      }
     },
     "6a80e12dd2254dfe8a8d55d7b1bcbfcf": {
      "model_module": "@jupyter-widgets/base",
      "model_module_version": "1.2.0",
      "model_name": "LayoutModel",
      "state": {}
     },
     "6a9b59bbd4354b34996b932deb4949ea": {
      "model_module": "@jupyter-widgets/controls",
      "model_module_version": "1.5.0",
      "model_name": "DescriptionStyleModel",
      "state": {
       "description_width": ""
      }
     },
     "6ac75f0b6d39413c9a8ac790b6ec77c6": {
      "model_module": "@jupyter-widgets/controls",
      "model_module_version": "1.5.0",
      "model_name": "HTMLModel",
      "state": {
       "layout": "IPY_MODEL_7625f184f7d64438852a9ebdecb076ff",
       "style": "IPY_MODEL_1c6ef5ff607641c59fde7f13d150c667",
       "value": "<img src=\"./icos_jupyter_notebooks/ind_tools/img/03_icos_JNBs/st_characterization/gui.PNG\">"
      }
     },
     "6ad4265503304b3793f90252c264d6bf": {
      "model_module": "@jupyter-widgets/controls",
      "model_module_version": "1.5.0",
      "model_name": "HTMLModel",
      "state": {
       "layout": "IPY_MODEL_ad7d24b7bd474f2095aadf19596c410e",
       "style": "IPY_MODEL_005016d57f394f35adcb136d15e785bc",
       "value": "Includes notebooks that where used as exercise material in a PhD course titled: <i><a href=\"https://www.nateko.lu.se/sites/nateko.lu.se/files/nng005f-eng.pdf\" target=\"_blank\">From CO2 in situ measurements to carbon balance maps as a tool to support national carbon accounting</a></i>. The course was organized by Lund University dept. of Physical Geography and Ecosystem Science and supported by ICOS Carbon Portal, ICOS Sweden and Lund University ClimBEco Graduate Research School. The course was held at Lund University campus between March 9th 2020 and March 13th 2020.<br>All developed material includes references to the people involved and the datasets used."
      }
     },
     "6aded4d3734b4d7493b37026d394d900": {
      "model_module": "@jupyter-widgets/base",
      "model_module_version": "1.2.0",
      "model_name": "LayoutModel",
      "state": {}
     },
     "6aec42d9ea0c4cf5b2b3c96377439f9e": {
      "model_module": "@jupyter-widgets/controls",
      "model_module_version": "1.5.0",
      "model_name": "DescriptionStyleModel",
      "state": {
       "description_width": ""
      }
     },
     "6b3f7801e9c14903a5ec489c5a7ac6e2": {
      "model_module": "@jupyter-widgets/controls",
      "model_module_version": "1.5.0",
      "model_name": "DescriptionStyleModel",
      "state": {
       "description_width": ""
      }
     },
     "6b4ae6d2cbb048c3bcb6c197d04623ae": {
      "model_module": "@jupyter-widgets/controls",
      "model_module_version": "1.5.0",
      "model_name": "DescriptionStyleModel",
      "state": {
       "description_width": ""
      }
     },
     "6b6821ac1c164544b831103603fb7eb0": {
      "model_module": "@jupyter-widgets/controls",
      "model_module_version": "1.5.0",
      "model_name": "HTMLModel",
      "state": {
       "layout": "IPY_MODEL_07b0ad444ad94089acd1a5ff2921e330",
       "style": "IPY_MODEL_60a77581c6fc4bfa90025335abf6f778",
       "value": "<a href='https://github.com/ICOS-Carbon-Portal/jupyter/issues' target='_blank'>Click here to report an issue</a>"
      }
     },
     "6b988f2374ab4ce09e236e73f0df3ef1": {
      "model_module": "@jupyter-widgets/controls",
      "model_module_version": "1.5.0",
      "model_name": "HTMLModel",
      "state": {
       "layout": "IPY_MODEL_cbe1bc7a03634f0eb4f527ac1eed5ee1",
       "style": "IPY_MODEL_354f6e45508441ac89aac96428b7e9e6",
       "value": "This Jupyter notebook presents examples on how to load <a href='http://stilt-model.org/index.php/Main/HomePage' target='_blank'>STILT</a> timeseries data and footprints using the ICOS Carbon Portal Python library. The notebook also showcases how to make plots using Holoviews and maps using Geoviews. Full documentation on the ICOS library is available through the <a href='https://icos-carbon-portal.github.io/pylib/' target='_blank'>project page</a>, how to install and wheel on <a href='https://pypi.org/project/icoscp/' target='_blank'> pypi.org</a>, source available on <a href='https://github.com/ICOS-Carbon-Portal/pylib' target='_blank'>GitHub</a>."
      }
     },
     "6ba5d97147af475fa5c65be7a4f17310": {
      "model_module": "@jupyter-widgets/base",
      "model_module_version": "1.2.0",
      "model_name": "LayoutModel",
      "state": {}
     },
     "6bb53d4130274286864ab2d0367a2ba2": {
      "model_module": "@jupyter-widgets/controls",
      "model_module_version": "1.5.0",
      "model_name": "DescriptionStyleModel",
      "state": {
       "description_width": ""
      }
     },
     "6bd81d28e52a4d55ac2f3d1b85bd2ea2": {
      "model_module": "@jupyter-widgets/controls",
      "model_module_version": "1.5.0",
      "model_name": "AccordionModel",
      "state": {
       "_titles": {
        "0": "Upscaling carbon fluxes"
       },
       "children": [
        "IPY_MODEL_bcfd9894aaac492fb06bb0210a5bed18"
       ],
       "layout": "IPY_MODEL_e875c1e5598146d2ba9a23b144c6a2d2",
       "selected_index": null
      }
     },
     "6c07d95aa6e2478ab8b966aa538637b6": {
      "model_module": "@jupyter-widgets/controls",
      "model_module_version": "1.5.0",
      "model_name": "DescriptionStyleModel",
      "state": {
       "description_width": ""
      }
     },
     "6c0a78cad2fa4c5c876588bd0935139c": {
      "model_module": "@jupyter-widgets/base",
      "model_module_version": "1.2.0",
      "model_name": "LayoutModel",
      "state": {}
     },
     "6c2e94f75b874e6aa9b493330da518bb": {
      "model_module": "@jupyter-widgets/base",
      "model_module_version": "1.2.0",
      "model_name": "LayoutModel",
      "state": {
       "grid_gap": "5px 10px",
       "grid_template_columns": "100px auto",
       "grid_template_rows": "auto auto auto auto auto",
       "padding": "50px 0px 70px 0px",
       "width": "100%"
      }
     },
     "6c382f76a02049ba969f004dea1310bc": {
      "model_module": "@jupyter-widgets/base",
      "model_module_version": "1.2.0",
      "model_name": "LayoutModel",
      "state": {}
     },
     "6c4cc27aa5d04b9a838cbc140e634b7f": {
      "model_module": "@jupyter-widgets/controls",
      "model_module_version": "1.5.0",
      "model_name": "HTMLModel",
      "state": {
       "layout": "IPY_MODEL_f0130c9ee63440f89289b00f86878902",
       "style": "IPY_MODEL_2c29fe2e51ad41829bc01ffe3728c3ab",
       "value": "<a href='https://github.com/ICOS-Carbon-Portal/jupyter/issues' target='_blank'>Click here to report an issue</a>"
      }
     },
     "6c5b75855eb849acaa649ede3134d2bd": {
      "model_module": "@jupyter-widgets/base",
      "model_module_version": "1.2.0",
      "model_name": "LayoutModel",
      "state": {}
     },
     "6c62bb3de097443abcff3745be192e06": {
      "model_module": "@jupyter-widgets/base",
      "model_module_version": "1.2.0",
      "model_name": "LayoutModel",
      "state": {}
     },
     "6c6b9c450a904d9cb3ca1d429e11e486": {
      "model_module": "@jupyter-widgets/controls",
      "model_module_version": "1.5.0",
      "model_name": "DescriptionStyleModel",
      "state": {
       "description_width": ""
      }
     },
     "6c9f4e38864848d686806cfb275680de": {
      "model_module": "@jupyter-widgets/controls",
      "model_module_version": "1.5.0",
      "model_name": "DescriptionStyleModel",
      "state": {
       "description_width": ""
      }
     },
     "6cae65851bb84b58b61ce3b0014ade54": {
      "model_module": "@jupyter-widgets/controls",
      "model_module_version": "1.5.0",
      "model_name": "DescriptionStyleModel",
      "state": {
       "description_width": ""
      }
     },
     "6cb5ed556efc4fa09141bc44adee1e1f": {
      "model_module": "@jupyter-widgets/controls",
      "model_module_version": "1.5.0",
      "model_name": "DescriptionStyleModel",
      "state": {
       "description_width": ""
      }
     },
     "6ccbcf285a494e9896bc3c71b47ad8fc": {
      "model_module": "@jupyter-widgets/controls",
      "model_module_version": "1.5.0",
      "model_name": "DescriptionStyleModel",
      "state": {
       "description_width": ""
      }
     },
     "6cf25d36115841558ac26bf55544f910": {
      "model_module": "@jupyter-widgets/base",
      "model_module_version": "1.2.0",
      "model_name": "LayoutModel",
      "state": {}
     },
     "6d0fd8359eba47d6b338a12e37e9c49a": {
      "model_module": "@jupyter-widgets/controls",
      "model_module_version": "1.5.0",
      "model_name": "HTMLModel",
      "state": {
       "layout": "IPY_MODEL_25f66e0f9d6742db98179cddc209d5c2",
       "style": "IPY_MODEL_d32143df597c4f39bd661f4e9167f84c",
       "value": "<b>GitHub: </b> "
      }
     },
     "6d267dffde4f4bfab6839d86d664dbad": {
      "model_module": "@jupyter-widgets/base",
      "model_module_version": "1.2.0",
      "model_name": "LayoutModel",
      "state": {}
     },
     "6d3b1dd78d6a44f4a195f39884ed0476": {
      "model_module": "@jupyter-widgets/controls",
      "model_module_version": "1.5.0",
      "model_name": "DescriptionStyleModel",
      "state": {
       "description_width": ""
      }
     },
     "6d5c0f441c9d4faf826f605c6ac52237": {
      "model_module": "@jupyter-widgets/controls",
      "model_module_version": "1.5.0",
      "model_name": "DescriptionStyleModel",
      "state": {
       "description_width": ""
      }
     },
     "6d675c3c38114aac889dcfa93af5f3c6": {
      "model_module": "@jupyter-widgets/base",
      "model_module_version": "1.2.0",
      "model_name": "LayoutModel",
      "state": {}
     },
     "6d994c097627473b8ef932a3fca7b761": {
      "model_module": "@jupyter-widgets/controls",
      "model_module_version": "1.5.0",
      "model_name": "HTMLModel",
      "state": {
       "layout": "IPY_MODEL_d6a018dc04214cd58e02aaf0e74a462d",
       "style": "IPY_MODEL_bb73b874585b41a7a24d30da7f1e51e1",
       "value": "<img src=\"./icos_jupyter_notebooks/ind_tools/img/03_icos_JNBs/icos_ao_vs_stilt/trn_stilt_icos.PNG\">"
      }
     },
     "6da53461881d479aae9cf15b6be6b19f": {
      "model_module": "@jupyter-widgets/controls",
      "model_module_version": "1.5.0",
      "model_name": "HTMLModel",
      "state": {
       "layout": "IPY_MODEL_007e301546854647bf7457da02605ea1",
       "style": "IPY_MODEL_2aba04eeb2b84691a82dc93319460797",
       "value": "<a href=\"mailto: jupyter-info@icos-cp.eu\">jupyter-info@icos-cp.eu</a>, <a href=\"mailto: ute.karstens@nateko.lu.se\">ute.karstens@nateko.lu.se</a>, <a href=\"mailto: marko.scholze@nateko.lu.se\">marko.scholze@nateko.lu.se</a>, <a href=\"mailto: paul.miller@nateko.lu.se\">paul.miller@nateko.lu.se</a>, <a href=\"mailto: Maj-Lena.Linderson@nateko.lu.se\">Maj-Lena.Linderson@nateko.lu.se</a>"
      }
     },
     "6da81d85c57b4a3dba9bffe08e5f0f13": {
      "model_module": "@jupyter-widgets/controls",
      "model_module_version": "1.5.0",
      "model_name": "DescriptionStyleModel",
      "state": {
       "description_width": ""
      }
     },
     "6dbaf623f7ac48d4b449e450da054cb7": {
      "model_module": "@jupyter-widgets/base",
      "model_module_version": "1.2.0",
      "model_name": "LayoutModel",
      "state": {}
     },
     "6de1b2a1031d45bf832da2b203181a98": {
      "model_module": "@jupyter-widgets/controls",
      "model_module_version": "1.5.0",
      "model_name": "HTMLModel",
      "state": {
       "layout": "IPY_MODEL_065b996decfe446b9b5b8a0a6b628c9b",
       "style": "IPY_MODEL_c225d93b17344f44988529ff348a394f",
       "value": "<a href='https://github.com/ICOS-Carbon-Portal/jupyter/issues' target='_blank'>Click here to report an issue</a>"
      }
     },
     "6e32144e1b3b4139a272d03edd7e2fad": {
      "model_module": "@jupyter-widgets/base",
      "model_module_version": "1.2.0",
      "model_name": "LayoutModel",
      "state": {
       "grid_gap": "5px 10px",
       "grid_template_columns": "auto",
       "grid_template_rows": "auto",
       "padding": "5px 0px 5px 0px",
       "width": "100%"
      }
     },
     "6e40229ad03d408090a93c1c3233378f": {
      "model_module": "@jupyter-widgets/controls",
      "model_module_version": "1.5.0",
      "model_name": "DescriptionStyleModel",
      "state": {
       "description_width": ""
      }
     },
     "6e44afa51bd54b699672a73bb431789e": {
      "model_module": "@jupyter-widgets/base",
      "model_module_version": "1.2.0",
      "model_name": "LayoutModel",
      "state": {}
     },
     "6e4beb746dc24356b55b445eef100809": {
      "model_module": "@jupyter-widgets/controls",
      "model_module_version": "1.5.0",
      "model_name": "DescriptionStyleModel",
      "state": {
       "description_width": ""
      }
     },
     "6e6ade57697d49c69262a79822cbf840": {
      "model_module": "@jupyter-widgets/controls",
      "model_module_version": "1.5.0",
      "model_name": "HTMLModel",
      "state": {
       "layout": "IPY_MODEL_41d23857138b42bbaef99c68b3aa7e7f",
       "style": "IPY_MODEL_07adf3b393384e919f102a4cbd87ddd8",
       "value": "<b>Title: </b> "
      }
     },
     "6e6f9fca02c141dea58bb34df0c46810": {
      "model_module": "@jupyter-widgets/controls",
      "model_module_version": "1.5.0",
      "model_name": "HTMLModel",
      "state": {
       "layout": "IPY_MODEL_51f9f15b3c0b45f1aab28571798e2741",
       "style": "IPY_MODEL_b201ac6ad84648eb967426fd4b3db5ea",
       "value": "<b>Contact: </b> "
      }
     },
     "6e79a8074c1340f9839c8b1eb6381692": {
      "model_module": "@jupyter-widgets/base",
      "model_module_version": "1.2.0",
      "model_name": "LayoutModel",
      "state": {}
     },
     "6e861f84869d4b46ad5d0e2a69eead4e": {
      "model_module": "@jupyter-widgets/controls",
      "model_module_version": "1.5.0",
      "model_name": "DescriptionStyleModel",
      "state": {
       "description_width": ""
      }
     },
     "6e88635042954638b34e5674f2675810": {
      "model_module": "@jupyter-widgets/controls",
      "model_module_version": "1.5.0",
      "model_name": "HTMLModel",
      "state": {
       "layout": "IPY_MODEL_ea97bfd8d434451caba39da8a0744f57",
       "style": "IPY_MODEL_b6e45d62cd8a4217bb69e3e8e5cbb4d9",
       "value": "<a href=\"mailto: jupyter-info@icos-cp.eu\">jupyter-info@icos-cp.eu</a>, <a href=\"mailto: claudio.donofrio@nateko.lu.se\">claudio.donofrio@nateko.lu.se</a>"
      }
     },
     "6e88de11f9214d36a616737fd8ef08d8": {
      "model_module": "@jupyter-widgets/base",
      "model_module_version": "1.2.0",
      "model_name": "LayoutModel",
      "state": {}
     },
     "6e902ab2adec40e3987cc9a6b28cc2a8": {
      "model_module": "@jupyter-widgets/controls",
      "model_module_version": "1.5.0",
      "model_name": "HTMLModel",
      "state": {
       "layout": "IPY_MODEL_73f83ddaa8b342ff88f8939bfb1c0e02",
       "style": "IPY_MODEL_dbf62cd44d4f43deb80966f7c2fdbedf",
       "value": "Description missing..."
      }
     },
     "6e9537e49e59457892abe4d78f1c84d8": {
      "model_module": "@jupyter-widgets/base",
      "model_module_version": "1.2.0",
      "model_name": "LayoutModel",
      "state": {}
     },
     "6ea30923794944c996227d632a3d0acc": {
      "model_module": "@jupyter-widgets/controls",
      "model_module_version": "1.5.0",
      "model_name": "HTMLModel",
      "state": {
       "layout": "IPY_MODEL_d65867a6180847d1bb3aa23a80a346ba",
       "style": "IPY_MODEL_92a5638ecd06479697802207df9a9a7f",
       "value": "<img src=\"./icos_jupyter_notebooks/ind_tools/img//05_education/general/02_cc_htm/htm_station_photo_mashup.png\">"
      }
     },
     "6ed537a84961458da113e8acbcb6b164": {
      "model_module": "@jupyter-widgets/base",
      "model_module_version": "1.2.0",
      "model_name": "LayoutModel",
      "state": {}
     },
     "6eed1b7ea1aa4180b0b675e149a1e019": {
      "model_module": "@jupyter-widgets/base",
      "model_module_version": "1.2.0",
      "model_name": "LayoutModel",
      "state": {}
     },
     "6f11597e2f7649d888be5e20e87a555c": {
      "model_module": "@jupyter-widgets/controls",
      "model_module_version": "1.5.0",
      "model_name": "HTMLModel",
      "state": {
       "layout": "IPY_MODEL_1b79824a062c431d8a52aea3f65a6253",
       "style": "IPY_MODEL_dcd7982cacc14195bd39e605465a5326",
       "value": "<b>Thumbnail: </b> "
      }
     },
     "6f18b3c146d8415e9b40c4c6f72261a9": {
      "model_module": "@jupyter-widgets/base",
      "model_module_version": "1.2.0",
      "model_name": "LayoutModel",
      "state": {}
     },
     "6f40fd9f3a5a4eb0bd5db609445cbac6": {
      "model_module": "@jupyter-widgets/base",
      "model_module_version": "1.2.0",
      "model_name": "LayoutModel",
      "state": {}
     },
     "6f4ee4e7377741a3aa1df9a9356ba877": {
      "model_module": "@jupyter-widgets/base",
      "model_module_version": "1.2.0",
      "model_name": "LayoutModel",
      "state": {}
     },
     "6f6f52bab4c541a8986793f2887a914e": {
      "model_module": "@jupyter-widgets/base",
      "model_module_version": "1.2.0",
      "model_name": "LayoutModel",
      "state": {}
     },
     "6f7499e654244ccd9902bd69f8e9456a": {
      "model_module": "@jupyter-widgets/controls",
      "model_module_version": "1.5.0",
      "model_name": "DescriptionStyleModel",
      "state": {
       "description_width": ""
      }
     },
     "6f7b324c6bea4e57843e54e3ba8ec902": {
      "model_module": "@jupyter-widgets/base",
      "model_module_version": "1.2.0",
      "model_name": "LayoutModel",
      "state": {}
     },
     "6f8d1d40a6314c19907677b84a81a75b": {
      "model_module": "@jupyter-widgets/controls",
      "model_module_version": "1.5.0",
      "model_name": "DescriptionStyleModel",
      "state": {
       "description_width": ""
      }
     },
     "6fb0451773714543bad2e39c59dc5db7": {
      "model_module": "@jupyter-widgets/base",
      "model_module_version": "1.2.0",
      "model_name": "LayoutModel",
      "state": {}
     },
     "6fc2eb015b8c4342b36cbb7671a83ecd": {
      "model_module": "@jupyter-widgets/controls",
      "model_module_version": "1.5.0",
      "model_name": "DescriptionStyleModel",
      "state": {
       "description_width": ""
      }
     },
     "6fd657b84419490c899f1816ddd32f4a": {
      "model_module": "@jupyter-widgets/controls",
      "model_module_version": "1.5.0",
      "model_name": "DescriptionStyleModel",
      "state": {
       "description_width": ""
      }
     },
     "6ffae8ec47134eac83fa86f3c26375c8": {
      "model_module": "@jupyter-widgets/controls",
      "model_module_version": "1.5.0",
      "model_name": "DescriptionStyleModel",
      "state": {
       "description_width": ""
      }
     },
     "703fc29e8e87475699f603dd5fe3a44c": {
      "model_module": "@jupyter-widgets/controls",
      "model_module_version": "1.5.0",
      "model_name": "HTMLModel",
      "state": {
       "layout": "IPY_MODEL_a59d34d4766043c2abff8c2314f9ef4d",
       "style": "IPY_MODEL_f2dbcb9710834bfda93fa9554e7d1a2d",
       "value": "<a href=\"mailto: jupyter-info@icos-cp.eu\">jupyter-info@icos-cp.eu</a>"
      }
     },
     "70594a5538724812a42d150feecedb5b": {
      "model_module": "@jupyter-widgets/base",
      "model_module_version": "1.2.0",
      "model_name": "LayoutModel",
      "state": {}
     },
     "706c90ced7024f11a8c06d5432c8f9fa": {
      "model_module": "@jupyter-widgets/base",
      "model_module_version": "1.2.0",
      "model_name": "LayoutModel",
      "state": {
       "grid_gap": "5px 10px",
       "grid_template_columns": "100px auto",
       "grid_template_rows": "auto auto auto auto auto",
       "padding": "50px 0px 70px 0px",
       "width": "100%"
      }
     },
     "70797ae017584e819ec1e48d7e1e7f68": {
      "model_module": "@jupyter-widgets/controls",
      "model_module_version": "1.5.0",
      "model_name": "DescriptionStyleModel",
      "state": {
       "description_width": ""
      }
     },
     "708a12c6fa414dc3893c593542fdc4d2": {
      "model_module": "@jupyter-widgets/controls",
      "model_module_version": "1.5.0",
      "model_name": "HTMLModel",
      "state": {
       "layout": "IPY_MODEL_a74f2e62c09a45e6ad161854d41f3512",
       "style": "IPY_MODEL_29e9a5d0406f4d88bbb35fc5e952fe55",
       "value": "<b>Title: </b> "
      }
     },
     "70a4d9762f9d4de69cc33aae72dadf36": {
      "model_module": "@jupyter-widgets/controls",
      "model_module_version": "1.5.0",
      "model_name": "HTMLModel",
      "state": {
       "layout": "IPY_MODEL_23677d89587249d6bb9020242b15ed2f",
       "style": "IPY_MODEL_247bdd568845444eab91805790867039",
       "value": "<b>Title: </b> "
      }
     },
     "70b174cbb6d641d697ff7a74a7fff363": {
      "model_module": "@jupyter-widgets/controls",
      "model_module_version": "1.5.0",
      "model_name": "DescriptionStyleModel",
      "state": {
       "description_width": ""
      }
     },
     "70ca077ff20b49779f96e78e0a4f652a": {
      "model_module": "@jupyter-widgets/base",
      "model_module_version": "1.2.0",
      "model_name": "LayoutModel",
      "state": {
       "grid_gap": "5px 10px",
       "grid_template_columns": "auto",
       "grid_template_rows": "auto",
       "padding": "5px 0px 5px 0px",
       "width": "100%"
      }
     },
     "70dbb82486e4443098e11d997a55a2f5": {
      "model_module": "@jupyter-widgets/controls",
      "model_module_version": "1.5.0",
      "model_name": "HTMLModel",
      "state": {
       "layout": "IPY_MODEL_5f4a4f19fa76448aa99d7b98e6168d98",
       "style": "IPY_MODEL_4beb8bca7c624593a91d83a59fe21ec5",
       "value": "<b>GitHub: </b> "
      }
     },
     "70f4e63b0d5e4237bcebb7dc0306329a": {
      "model_module": "@jupyter-widgets/controls",
      "model_module_version": "1.5.0",
      "model_name": "DescriptionStyleModel",
      "state": {
       "description_width": ""
      }
     },
     "7136063f8f7d48238133fa074790b252": {
      "model_module": "@jupyter-widgets/controls",
      "model_module_version": "1.5.0",
      "model_name": "HTMLModel",
      "state": {
       "layout": "IPY_MODEL_ecad19b18c1843b681f04696d7d66683",
       "style": "IPY_MODEL_3ac5352528994ae3bc531e4337ab61fd",
       "value": "<a href='https://github.com/ICOS-Carbon-Portal/jupyter/issues' target='_blank'>Click here to report an issue</a>"
      }
     },
     "713e0f2b7b684e319ff006b21996bd8e": {
      "model_module": "@jupyter-widgets/controls",
      "model_module_version": "1.5.0",
      "model_name": "DescriptionStyleModel",
      "state": {
       "description_width": ""
      }
     },
     "7167d98bb468493f96dac88e680ba1d5": {
      "model_module": "@jupyter-widgets/base",
      "model_module_version": "1.2.0",
      "model_name": "LayoutModel",
      "state": {}
     },
     "717ca2e027bd4d04bf3769f58c3d39cf": {
      "model_module": "@jupyter-widgets/controls",
      "model_module_version": "1.5.0",
      "model_name": "HTMLModel",
      "state": {
       "layout": "IPY_MODEL_f072f1a8890a4b56bcc2e999466f401a",
       "style": "IPY_MODEL_834bf40f48fa461c8f6bcdf0b58924ea",
       "value": "<b>Contact: </b> "
      }
     },
     "71a39854f7ea4ffb9e812cb0b43a5847": {
      "model_module": "@jupyter-widgets/controls",
      "model_module_version": "1.5.0",
      "model_name": "HTMLModel",
      "state": {
       "layout": "IPY_MODEL_fb886395c58748a99c2094097150bb43",
       "style": "IPY_MODEL_b7e8aad410434c69990498da56c53ccb",
       "value": "<b>GitHub: </b> "
      }
     },
     "71a93d954d1d427f8593336086bb66df": {
      "model_module": "@jupyter-widgets/controls",
      "model_module_version": "1.5.0",
      "model_name": "HTMLModel",
      "state": {
       "layout": "IPY_MODEL_558df0881dec4a8d876ec31d4f177d7e",
       "style": "IPY_MODEL_c58fc161488447dfbf2c1bb3bd2a996a",
       "value": "This notebook is dedicated to using ICOS Ecosystem Data from Hyltemossa Research Station in Southern Sweden, to study how the drought during the summer of 2018 affected the vegetation and the carbon balance in the surrounding area. The temporal resolution of the data extends from January 1st 2015 to December 31st 2018. Another objective of this notebook is to introduce basic principles of Python Programming."
      }
     },
     "71ad167de2e64276a56066e5902d4f57": {
      "model_module": "@jupyter-widgets/base",
      "model_module_version": "1.2.0",
      "model_name": "LayoutModel",
      "state": {}
     },
     "71bb378f08ca4d6da1f089418bd7fb7b": {
      "model_module": "@jupyter-widgets/controls",
      "model_module_version": "1.5.0",
      "model_name": "HTMLModel",
      "state": {
       "layout": "IPY_MODEL_21ffac96f1854125ae0c9b4c84f85e77",
       "style": "IPY_MODEL_682e038347344d8ea1ad5d2a7e20515c",
       "value": "<b>Description: </b> "
      }
     },
     "71d20e97cb5f4092993f8b39ff6f7f4f": {
      "model_module": "@jupyter-widgets/base",
      "model_module_version": "1.2.0",
      "model_name": "LayoutModel",
      "state": {}
     },
     "71efceb093154703b77a3a1cbd5eb453": {
      "model_module": "@jupyter-widgets/base",
      "model_module_version": "1.2.0",
      "model_name": "LayoutModel",
      "state": {}
     },
     "72074108d95f4e4a8bb46dd91cbe1ab2": {
      "model_module": "@jupyter-widgets/base",
      "model_module_version": "1.2.0",
      "model_name": "LayoutModel",
      "state": {}
     },
     "721336fc88214033bbc9ecb865ea6233": {
      "model_module": "@jupyter-widgets/controls",
      "model_module_version": "1.5.0",
      "model_name": "HTMLModel",
      "state": {
       "layout": "IPY_MODEL_0b0660722d5b4f069fe5a9ae8b86134d",
       "style": "IPY_MODEL_6b3f7801e9c14903a5ec489c5a7ac6e2",
       "value": "<b>Thumbnail: </b> "
      }
     },
     "722b3fcfc675445e92abd0b6092dde83": {
      "model_module": "@jupyter-widgets/controls",
      "model_module_version": "1.5.0",
      "model_name": "HTMLModel",
      "state": {
       "layout": "IPY_MODEL_014e19ff52974f239d267d6aa567aae6",
       "style": "IPY_MODEL_eea7d5aade07430581500736393355e8",
       "value": "<b>Thumbnail: </b> "
      }
     },
     "7244857f78a74115826e513607f7162a": {
      "model_module": "@jupyter-widgets/controls",
      "model_module_version": "1.5.0",
      "model_name": "DescriptionStyleModel",
      "state": {
       "description_width": ""
      }
     },
     "7283a6c40d894fc48686993cdaa7bb0f": {
      "model_module": "@jupyter-widgets/controls",
      "model_module_version": "1.5.0",
      "model_name": "HTMLModel",
      "state": {
       "layout": "IPY_MODEL_98ff4aed3fd84547b0244773c4e6684b",
       "style": "IPY_MODEL_cca2384e128942c9ab89830c75d00362",
       "value": "<a href=\"mailto: jupyter-info@icos-cp.eu\">jupyter-info@icos-cp.eu</a>"
      }
     },
     "7288804058414bc19ac57b7cb394bccf": {
      "model_module": "@jupyter-widgets/base",
      "model_module_version": "1.2.0",
      "model_name": "LayoutModel",
      "state": {}
     },
     "72a0699822ea47099f40bdeda267ff26": {
      "model_module": "@jupyter-widgets/base",
      "model_module_version": "1.2.0",
      "model_name": "LayoutModel",
      "state": {}
     },
     "72bb4cde72c849eb82b2729558e1d5ea": {
      "model_module": "@jupyter-widgets/base",
      "model_module_version": "1.2.0",
      "model_name": "LayoutModel",
      "state": {}
     },
     "72fd2d5d29354131b785479f9c65d95b": {
      "model_module": "@jupyter-widgets/base",
      "model_module_version": "1.2.0",
      "model_name": "LayoutModel",
      "state": {}
     },
     "730204496bb84b2782dbf7b5d7e78675": {
      "model_module": "@jupyter-widgets/controls",
      "model_module_version": "1.5.0",
      "model_name": "DescriptionStyleModel",
      "state": {
       "description_width": ""
      }
     },
     "7308399bba0647659735e57ef482ccca": {
      "model_module": "@jupyter-widgets/base",
      "model_module_version": "1.2.0",
      "model_name": "LayoutModel",
      "state": {}
     },
     "7327029063ca4469be3ec27522e964cb": {
      "model_module": "@jupyter-widgets/controls",
      "model_module_version": "1.5.0",
      "model_name": "HTMLModel",
      "state": {
       "layout": "IPY_MODEL_e55a914f2d2e4a20bbbc1f029546b394",
       "style": "IPY_MODEL_45ebac67eb2a4d08a895bf890b808caa",
       "value": "<b>Thumbnail: </b> "
      }
     },
     "73285fbb2027498d8a2da51a6c49cb8f": {
      "model_module": "@jupyter-widgets/base",
      "model_module_version": "1.2.0",
      "model_name": "LayoutModel",
      "state": {}
     },
     "7338bae5c596496cb14f6ff89e4d624a": {
      "model_module": "@jupyter-widgets/controls",
      "model_module_version": "1.5.0",
      "model_name": "DescriptionStyleModel",
      "state": {
       "description_width": ""
      }
     },
     "736b04a27b434af5a296cf48972b88f5": {
      "model_module": "@jupyter-widgets/controls",
      "model_module_version": "1.5.0",
      "model_name": "HTMLModel",
      "state": {
       "layout": "IPY_MODEL_62f37a559df843e189477ec93603af09",
       "style": "IPY_MODEL_86b95b0465644968ae8e8e2d676644c7",
       "value": "<b>Title: </b> "
      }
     },
     "7378bb3e48164e9897afdef460c1bc36": {
      "model_module": "@jupyter-widgets/controls",
      "model_module_version": "1.5.0",
      "model_name": "HTMLModel",
      "state": {
       "layout": "IPY_MODEL_6266031b7ac44968840db6187bc7c29f",
       "style": "IPY_MODEL_cbea2e7c1b0b4dce9d0b0bad57150338",
       "value": "<b>Title: </b> "
      }
     },
     "737a2d312d1e47e8962ccdb2956df02c": {
      "model_module": "@jupyter-widgets/controls",
      "model_module_version": "1.5.0",
      "model_name": "DescriptionStyleModel",
      "state": {
       "description_width": ""
      }
     },
     "73886f10a44c4179801e817e555c28e7": {
      "model_module": "@jupyter-widgets/controls",
      "model_module_version": "1.5.0",
      "model_name": "HTMLModel",
      "state": {
       "layout": "IPY_MODEL_a8303609aad94c0ca76d0094c78a1d78",
       "style": "IPY_MODEL_227d109f65014fa7b0b29c4647d07473",
       "value": "<a href=\"mailto: jupyter-info@icos-cp.eu\">jupyter-info@icos-cp.eu</a>, <a href=\"mailto: Steve.Jones@uib.no\">Steve.Jones@uib.no</a>"
      }
     },
     "73951fe7088143319e2e047378b17f16": {
      "model_module": "@jupyter-widgets/controls",
      "model_module_version": "1.5.0",
      "model_name": "HTMLModel",
      "state": {
       "layout": "IPY_MODEL_663e37cd955947cd91be3032703bb5c9",
       "style": "IPY_MODEL_9f30bfc524d344729635479a150ce908",
       "value": "<b>Title: </b> "
      }
     },
     "7399c184c06d4d75aaad6033fd13be2f": {
      "model_module": "@jupyter-widgets/controls",
      "model_module_version": "1.5.0",
      "model_name": "HTMLModel",
      "state": {
       "layout": "IPY_MODEL_3e33d2d715444dfdbe68e17392595eb4",
       "style": "IPY_MODEL_2e3b0d82675348eda3e4637e33e26284",
       "value": "<b>Title: </b> "
      }
     },
     "73b705a5c7684bcca3633587c577b601": {
      "model_module": "@jupyter-widgets/base",
      "model_module_version": "1.2.0",
      "model_name": "LayoutModel",
      "state": {}
     },
     "73bbb58ab0f94d4c9b090b41503a9220": {
      "model_module": "@jupyter-widgets/controls",
      "model_module_version": "1.5.0",
      "model_name": "HTMLModel",
      "state": {
       "layout": "IPY_MODEL_76a2ac911a7a4f8db7d56ba6bb7fa198",
       "style": "IPY_MODEL_f1238079ccf24c7aa453bec7994d4152",
       "value": "<b>Thumbnail: </b> "
      }
     },
     "73c2a1c3cbef42aeaccefb6d220ac920": {
      "model_module": "@jupyter-widgets/controls",
      "model_module_version": "1.5.0",
      "model_name": "DescriptionStyleModel",
      "state": {
       "description_width": ""
      }
     },
     "73c7c605635d4f21942df3e8c2b96024": {
      "model_module": "@jupyter-widgets/controls",
      "model_module_version": "1.5.0",
      "model_name": "HTMLModel",
      "state": {
       "layout": "IPY_MODEL_2369ffd3416d49559f9f919f4042f301",
       "style": "IPY_MODEL_2593e4938d9b4575b9f7828f82107700",
       "value": "<a href='https://github.com/ICOS-Carbon-Portal/jupyter/issues' target='_blank'>Click here to report an issue</a>"
      }
     },
     "73e3f8aec0134bf9b05d504c90c20d9b": {
      "model_module": "@jupyter-widgets/controls",
      "model_module_version": "1.5.0",
      "model_name": "HTMLModel",
      "state": {
       "layout": "IPY_MODEL_8ea21aec54794e83b639967039bd8fcb",
       "style": "IPY_MODEL_f1d683bfc7a04b2d9475b982558f68c8",
       "value": "This notebook is dedicated on providing interactive visualizations of ICOS atmopsheric observations in combination with <a href=\"http://stilt-model.org/index.php/Main/HomePage\" target=\"_blank\">STILT model</a> results for the same station. The visualizations may be used for the purpose of comparison between modelled and observed measurements. The notebook also includes an interactive table presenting the availability of <a href=\"http://stilt-model.org/index.php/Main/HomePage\" target=\"_blank\">STILT model</a> results per station. The selection of stations and other parameters relevant to each visualization are handled by interactive elements called widgets (i.e. dropdown lists, checkboxes, etc.)"
      }
     },
     "73e5f83805a042bc85ec8e2154f5c5e5": {
      "model_module": "@jupyter-widgets/controls",
      "model_module_version": "1.5.0",
      "model_name": "DescriptionStyleModel",
      "state": {
       "description_width": ""
      }
     },
     "73f83ddaa8b342ff88f8939bfb1c0e02": {
      "model_module": "@jupyter-widgets/base",
      "model_module_version": "1.2.0",
      "model_name": "LayoutModel",
      "state": {}
     },
     "74099b1fb7b24b9e888d4556272d65a5": {
      "model_module": "@jupyter-widgets/controls",
      "model_module_version": "1.5.0",
      "model_name": "DescriptionStyleModel",
      "state": {
       "description_width": ""
      }
     },
     "740d24eba48c4a80a9370a9b06a2ff0b": {
      "model_module": "@jupyter-widgets/base",
      "model_module_version": "1.2.0",
      "model_name": "LayoutModel",
      "state": {}
     },
     "74a9dd88023447128772d011ef2e6dd4": {
      "model_module": "@jupyter-widgets/controls",
      "model_module_version": "1.5.0",
      "model_name": "DescriptionStyleModel",
      "state": {
       "description_width": ""
      }
     },
     "74b85404755348d2a6beda0f68d1b639": {
      "model_module": "@jupyter-widgets/base",
      "model_module_version": "1.2.0",
      "model_name": "LayoutModel",
      "state": {}
     },
     "74e818b280ce4855ac405a3439c93dd2": {
      "model_module": "@jupyter-widgets/controls",
      "model_module_version": "1.5.0",
      "model_name": "HTMLModel",
      "state": {
       "layout": "IPY_MODEL_533fda19a76c4c96b3e1ad2e9da5052a",
       "style": "IPY_MODEL_a88b35bcb8fb4853a249e80a082ae28f",
       "value": "<b>Title: </b> "
      }
     },
     "74e94cacf3b34030bf859e50748332b1": {
      "model_module": "@jupyter-widgets/controls",
      "model_module_version": "1.5.0",
      "model_name": "HTMLModel",
      "state": {
       "layout": "IPY_MODEL_eb189953eea341e9b9959fb86b5df099",
       "style": "IPY_MODEL_a5a891a81c474a72a1d7545d4a8a6779",
       "value": "<a href='https://github.com/ICOS-Carbon-Portal/jupyter/issues' target='_blank'>Click here to report an issue</a>"
      }
     },
     "750e772d94c541108c7daa4a66359359": {
      "model_module": "@jupyter-widgets/base",
      "model_module_version": "1.2.0",
      "model_name": "LayoutModel",
      "state": {}
     },
     "7518c97c721e4119a246664680eafa24": {
      "model_module": "@jupyter-widgets/base",
      "model_module_version": "1.2.0",
      "model_name": "LayoutModel",
      "state": {}
     },
     "751ad8f92ceb46ae87aded038be730bb": {
      "model_module": "@jupyter-widgets/base",
      "model_module_version": "1.2.0",
      "model_name": "LayoutModel",
      "state": {}
     },
     "751b0e40732e4bd89813c64cd9afe807": {
      "model_module": "@jupyter-widgets/controls",
      "model_module_version": "1.5.0",
      "model_name": "DescriptionStyleModel",
      "state": {
       "description_width": ""
      }
     },
     "7544caa5531a49caad47afc415b0cf5d": {
      "model_module": "@jupyter-widgets/controls",
      "model_module_version": "1.5.0",
      "model_name": "AccordionModel",
      "state": {
       "_titles": {
        "0": "Carbon cycle & drought",
        "1": "Carbon cycle - Hyltemossa",
        "2": "Carbon cycle - Svartberget"
       },
       "children": [
        "IPY_MODEL_5b6b2235d1644787b241e4a6f7788099",
        "IPY_MODEL_80de013c841f454580558633d6386a54",
        "IPY_MODEL_e8f38fe69d124b27b513ccb35be81770"
       ],
       "layout": "IPY_MODEL_e99fbad7b0cb4186af2791208f9934bf",
       "selected_index": null
      }
     },
     "75458c7ed38f4a7ba545811f8ac419ea": {
      "model_module": "@jupyter-widgets/controls",
      "model_module_version": "1.5.0",
      "model_name": "DescriptionStyleModel",
      "state": {
       "description_width": ""
      }
     },
     "756e0fe518054a4db849ae2d421563aa": {
      "model_module": "@jupyter-widgets/controls",
      "model_module_version": "1.5.0",
      "model_name": "DescriptionStyleModel",
      "state": {
       "description_width": ""
      }
     },
     "757c1299432e4b578d38dc795970226c": {
      "model_module": "@jupyter-widgets/controls",
      "model_module_version": "1.5.0",
      "model_name": "DescriptionStyleModel",
      "state": {
       "description_width": ""
      }
     },
     "758522d13c044829a388f3277ced5708": {
      "model_module": "@jupyter-widgets/controls",
      "model_module_version": "1.5.0",
      "model_name": "DescriptionStyleModel",
      "state": {
       "description_width": ""
      }
     },
     "758bd47aeefa4d5fbcee7d353de29fa7": {
      "model_module": "@jupyter-widgets/controls",
      "model_module_version": "1.5.0",
      "model_name": "HTMLModel",
      "state": {
       "layout": "IPY_MODEL_2054bb3f764c4dd5ba0570a21c6a68b9",
       "style": "IPY_MODEL_b7813fc89b804cc1bfdbae697b6607dd",
       "value": "<b>Title: </b> "
      }
     },
     "758dd22acd7441ad9ff65d4afc60231f": {
      "model_module": "@jupyter-widgets/controls",
      "model_module_version": "1.5.0",
      "model_name": "HTMLModel",
      "state": {
       "layout": "IPY_MODEL_cb0cf0f43aeb47998a9d65bbd36fc9ab",
       "style": "IPY_MODEL_87360ec2439b4b12b1f575c155e139b0",
       "value": "<b>Contact: </b> "
      }
     },
     "75986b5e03154cea9a39f3e6bfcd32a0": {
      "model_module": "@jupyter-widgets/controls",
      "model_module_version": "1.5.0",
      "model_name": "HTMLModel",
      "state": {
       "layout": "IPY_MODEL_e5a2c5ddda144d72a1f87d893df08405",
       "style": "IPY_MODEL_bc34d45a13f54d02bdcc018243182b24",
       "value": "The notebooks included in this part demonstrate how to:<br>i. create interactive maps<br>ii. load icos data products, process them and present results interactive visualizations."
      }
     },
     "75d705be63524e0982cd2297e0ac6a71": {
      "model_module": "@jupyter-widgets/controls",
      "model_module_version": "1.5.0",
      "model_name": "HTMLModel",
      "state": {
       "layout": "IPY_MODEL_31b9e221bb024f8fb9689d46145cab28",
       "style": "IPY_MODEL_1e9c70d0189b48d19466aed3ec7c22dd",
       "value": "<b>Title: </b> "
      }
     },
     "760db59e9ff242fd9ff065665dcdb70d": {
      "model_module": "@jupyter-widgets/base",
      "model_module_version": "1.2.0",
      "model_name": "LayoutModel",
      "state": {}
     },
     "76246effd5c04625b845be8aabb5920d": {
      "model_module": "@jupyter-widgets/controls",
      "model_module_version": "1.5.0",
      "model_name": "DescriptionStyleModel",
      "state": {
       "description_width": ""
      }
     },
     "7625f184f7d64438852a9ebdecb076ff": {
      "model_module": "@jupyter-widgets/base",
      "model_module_version": "1.2.0",
      "model_name": "LayoutModel",
      "state": {}
     },
     "762ea56409dd4e92b8150a75a13bc371": {
      "model_module": "@jupyter-widgets/base",
      "model_module_version": "1.2.0",
      "model_name": "LayoutModel",
      "state": {
       "grid_gap": "5px 10px",
       "grid_template_columns": "auto",
       "grid_template_rows": "auto",
       "padding": "5px 0px 5px 0px",
       "width": "100%"
      }
     },
     "7634cb37f159439db867b347992f8906": {
      "model_module": "@jupyter-widgets/base",
      "model_module_version": "1.2.0",
      "model_name": "LayoutModel",
      "state": {}
     },
     "764be8ab38f8401cb4b9f75b3c0d6a44": {
      "model_module": "@jupyter-widgets/controls",
      "model_module_version": "1.5.0",
      "model_name": "DescriptionStyleModel",
      "state": {
       "description_width": ""
      }
     },
     "7667b467c28147c19001cea877824f3c": {
      "model_module": "@jupyter-widgets/controls",
      "model_module_version": "1.5.0",
      "model_name": "DescriptionStyleModel",
      "state": {
       "description_width": ""
      }
     },
     "766a964c4a414478914438b1b5e73f48": {
      "model_module": "@jupyter-widgets/controls",
      "model_module_version": "1.5.0",
      "model_name": "DescriptionStyleModel",
      "state": {
       "description_width": ""
      }
     },
     "76734209fdf344a087c74ca12778528c": {
      "model_module": "@jupyter-widgets/controls",
      "model_module_version": "1.5.0",
      "model_name": "DescriptionStyleModel",
      "state": {
       "description_width": ""
      }
     },
     "7680255b7144411bb7871606f56c6b91": {
      "model_module": "@jupyter-widgets/controls",
      "model_module_version": "1.5.0",
      "model_name": "DescriptionStyleModel",
      "state": {
       "description_width": ""
      }
     },
     "768acee9c18d4e73b785fad64787e692": {
      "model_module": "@jupyter-widgets/controls",
      "model_module_version": "1.5.0",
      "model_name": "HTMLModel",
      "state": {
       "layout": "IPY_MODEL_8a90d48b7aad4065a3bef00930bf9f1a",
       "style": "IPY_MODEL_46a40533364a48898d3cd3015465cbe2",
       "value": "<b>Title: </b> "
      }
     },
     "7697d32a478442989738d3ee061c6f60": {
      "model_module": "@jupyter-widgets/controls",
      "model_module_version": "1.5.0",
      "model_name": "HTMLModel",
      "state": {
       "layout": "IPY_MODEL_3afb3122c77648839b7f46e5e7711016",
       "style": "IPY_MODEL_7c5d9f7f2b1644d2b67c8a9ff846f70c",
       "value": "<b>Description: </b> "
      }
     },
     "769b92c19a23400585a79ece5869d42a": {
      "model_module": "@jupyter-widgets/controls",
      "model_module_version": "1.5.0",
      "model_name": "HTMLModel",
      "state": {
       "layout": "IPY_MODEL_0a812040e7e34f2e9b34322ebd47d53b",
       "style": "IPY_MODEL_758522d13c044829a388f3277ced5708",
       "value": "<b>Thumbnail: </b> "
      }
     },
     "76a2ac911a7a4f8db7d56ba6bb7fa198": {
      "model_module": "@jupyter-widgets/base",
      "model_module_version": "1.2.0",
      "model_name": "LayoutModel",
      "state": {}
     },
     "76aa42007f9d4c07b8c70056e29e2350": {
      "model_module": "@jupyter-widgets/controls",
      "model_module_version": "1.5.0",
      "model_name": "HTMLModel",
      "state": {
       "layout": "IPY_MODEL_87331155523a454c9cc98bf481cb2480",
       "style": "IPY_MODEL_602557b8f22e4ebfb2f0290ffb2fde02",
       "value": "<a href=\"mailto: jupyter-info@icos-cp.eu\">jupyter-info@icos-cp.eu</a>"
      }
     },
     "76eb0df8eac44aa7a46bf1db3dd16fbd": {
      "model_module": "@jupyter-widgets/controls",
      "model_module_version": "1.5.0",
      "model_name": "HTMLModel",
      "state": {
       "layout": "IPY_MODEL_106c65e9e70e4889b9edd79731ca872f",
       "style": "IPY_MODEL_57ae0371d38b48e3b4691cc9e2bfb979",
       "value": "<a href=\"mailto: jupyter-info@icos-cp.eu\">jupyter-info@icos-cp.eu</a>, <a href=\"mailto: claudio.donofrio@nateko.lu.se\">claudio.donofrio@nateko.lu.se</a>"
      }
     },
     "770dfece7b2c4b71853437fe9fc18abc": {
      "model_module": "@jupyter-widgets/controls",
      "model_module_version": "1.5.0",
      "model_name": "HTMLModel",
      "state": {
       "layout": "IPY_MODEL_016cc19186114fa5af5edbb8870b99b2",
       "style": "IPY_MODEL_785312fe4b574657901770b53f551576",
       "value": "<b>Contact: </b> "
      }
     },
     "770e9247cc2f40fa81ac1df5d74c1128": {
      "model_module": "@jupyter-widgets/controls",
      "model_module_version": "1.5.0",
      "model_name": "HTMLModel",
      "state": {
       "layout": "IPY_MODEL_114ff435acda4956a35e07e3392c83b8",
       "style": "IPY_MODEL_86544047c48c4117bd79f4944928800b",
       "value": "<b>Thumbnail: </b> "
      }
     },
     "772263d1fd07410fa25f927f0ee90b33": {
      "model_module": "@jupyter-widgets/controls",
      "model_module_version": "1.5.0",
      "model_name": "DescriptionStyleModel",
      "state": {
       "description_width": ""
      }
     },
     "77256f2acae14828a9f6e9ed91fd7b0b": {
      "model_module": "@jupyter-widgets/controls",
      "model_module_version": "1.5.0",
      "model_name": "DescriptionStyleModel",
      "state": {
       "description_width": ""
      }
     },
     "77322d1e7d7b470d9c1c9d5a529309d0": {
      "model_module": "@jupyter-widgets/base",
      "model_module_version": "1.2.0",
      "model_name": "LayoutModel",
      "state": {}
     },
     "7753f52b4e3649b8a4f45a8af8942774": {
      "model_module": "@jupyter-widgets/controls",
      "model_module_version": "1.5.0",
      "model_name": "DescriptionStyleModel",
      "state": {
       "description_width": ""
      }
     },
     "7767eaf08a4448528f8146969625fc54": {
      "model_module": "@jupyter-widgets/controls",
      "model_module_version": "1.5.0",
      "model_name": "HTMLModel",
      "state": {
       "layout": "IPY_MODEL_ee42052aa050420da1b4c2097ce22dc4",
       "style": "IPY_MODEL_b4830ff7b1b24f968e0ff1eed96da042",
       "value": "<b>GitHub: </b> "
      }
     },
     "776a116f29644e528dddac175ab08c46": {
      "model_module": "@jupyter-widgets/base",
      "model_module_version": "1.2.0",
      "model_name": "LayoutModel",
      "state": {}
     },
     "77729026ef6f494282a5c0ae0bf28a29": {
      "model_module": "@jupyter-widgets/base",
      "model_module_version": "1.2.0",
      "model_name": "LayoutModel",
      "state": {}
     },
     "778b5a7ffd3c469789754f4bf4ca7d54": {
      "model_module": "@jupyter-widgets/controls",
      "model_module_version": "1.5.0",
      "model_name": "DescriptionStyleModel",
      "state": {
       "description_width": ""
      }
     },
     "779434901ff6414fb937eaa5c0dbd9de": {
      "model_module": "@jupyter-widgets/base",
      "model_module_version": "1.2.0",
      "model_name": "LayoutModel",
      "state": {}
     },
     "7795ea5d28274304befefe1a7ab08c56": {
      "model_module": "@jupyter-widgets/base",
      "model_module_version": "1.2.0",
      "model_name": "LayoutModel",
      "state": {}
     },
     "77cd2bfc02b145c087268dd3a7e85a69": {
      "model_module": "@jupyter-widgets/controls",
      "model_module_version": "1.5.0",
      "model_name": "DescriptionStyleModel",
      "state": {
       "description_width": ""
      }
     },
     "77dc57b221354d898f022aca41feb7a7": {
      "model_module": "@jupyter-widgets/controls",
      "model_module_version": "1.5.0",
      "model_name": "DescriptionStyleModel",
      "state": {
       "description_width": ""
      }
     },
     "77dc8f9123ff41979dbbb37bc7999f1c": {
      "model_module": "@jupyter-widgets/controls",
      "model_module_version": "1.5.0",
      "model_name": "GridBoxModel",
      "state": {
       "children": [
        "IPY_MODEL_26fb5ee88a0241e18253dc311a6b9fb4",
        "IPY_MODEL_3aa191d08b2243af8fa43b1957f84944"
       ],
       "layout": "IPY_MODEL_23a6c75302304d758b426c28e9faebce"
      }
     },
     "77f8a3da1a8d441cb79b5254ec97bce5": {
      "model_module": "@jupyter-widgets/controls",
      "model_module_version": "1.5.0",
      "model_name": "DescriptionStyleModel",
      "state": {
       "description_width": ""
      }
     },
     "7813675530264a96885af7aacc236691": {
      "model_module": "@jupyter-widgets/base",
      "model_module_version": "1.2.0",
      "model_name": "LayoutModel",
      "state": {}
     },
     "783fc71a68a5474ab4454f71dcffc5a5": {
      "model_module": "@jupyter-widgets/controls",
      "model_module_version": "1.5.0",
      "model_name": "DescriptionStyleModel",
      "state": {
       "description_width": ""
      }
     },
     "785312fe4b574657901770b53f551576": {
      "model_module": "@jupyter-widgets/controls",
      "model_module_version": "1.5.0",
      "model_name": "DescriptionStyleModel",
      "state": {
       "description_width": ""
      }
     },
     "7871e80d974f4aa1934e5a8e9585a107": {
      "model_module": "@jupyter-widgets/base",
      "model_module_version": "1.2.0",
      "model_name": "LayoutModel",
      "state": {}
     },
     "7872ec2b32954c8a9f2f9f7ab5418e00": {
      "model_module": "@jupyter-widgets/controls",
      "model_module_version": "1.5.0",
      "model_name": "DescriptionStyleModel",
      "state": {
       "description_width": ""
      }
     },
     "78767ac1fc2c4006adaaa4240416a8ef": {
      "model_module": "@jupyter-widgets/base",
      "model_module_version": "1.2.0",
      "model_name": "LayoutModel",
      "state": {}
     },
     "7885fcfa49ab4df9a7bd340b1aae28d6": {
      "model_module": "@jupyter-widgets/controls",
      "model_module_version": "1.5.0",
      "model_name": "HTMLModel",
      "state": {
       "layout": "IPY_MODEL_72fd2d5d29354131b785479f9c65d95b",
       "style": "IPY_MODEL_41463ee7a9f842f6aae3ba4f0470e5ab",
       "value": "<a href=\"mailto: jupyter-info@icos-cp.eu\">jupyter-info@icos-cp.eu</a>, <a href=\"mailto: claudio.donofrio@nateko.lu.se\">claudio.donofrio@nateko.lu.se</a>"
      }
     },
     "78cf449b58f84af0a2e5113ab659bd75": {
      "model_module": "@jupyter-widgets/controls",
      "model_module_version": "1.5.0",
      "model_name": "HTMLModel",
      "state": {
       "layout": "IPY_MODEL_a1b51d5c95774ccbac4bb87438b87080",
       "style": "IPY_MODEL_ce637cc60440476ba8dae8b44757e0ba",
       "value": "<b>GitHub: </b> "
      }
     },
     "78e1f3e8587b4656a50b89ff6b21d0f4": {
      "model_module": "@jupyter-widgets/controls",
      "model_module_version": "1.5.0",
      "model_name": "DescriptionStyleModel",
      "state": {
       "description_width": ""
      }
     },
     "78e7257c0a3745df92e595f43d99b6b7": {
      "model_module": "@jupyter-widgets/controls",
      "model_module_version": "1.5.0",
      "model_name": "HTMLModel",
      "state": {
       "layout": "IPY_MODEL_2baf86afb36e482187dbe2954af52ad3",
       "style": "IPY_MODEL_1ab7d2853a3041d9a735f31a5203bad3",
       "value": "<b>Thumbnail: </b> "
      }
     },
     "78f4d22f5ef94c33b388b451bdb82cad": {
      "model_module": "@jupyter-widgets/base",
      "model_module_version": "1.2.0",
      "model_name": "LayoutModel",
      "state": {
       "grid_gap": "5px 10px",
       "grid_template_columns": "100px auto",
       "grid_template_rows": "auto auto auto auto auto",
       "padding": "50px 0px 70px 0px",
       "width": "100%"
      }
     },
     "79170fb3a575433d8d4e0a6cb9c67faf": {
      "model_module": "@jupyter-widgets/controls",
      "model_module_version": "1.5.0",
      "model_name": "HTMLModel",
      "state": {
       "layout": "IPY_MODEL_cd3499da3d2a433b8f312071be9c7e30",
       "style": "IPY_MODEL_0be87699918c4d249fd3927ef17718cc",
       "value": "<a href=\"mailto: jupyter-info@icos-cp.eu\">jupyter-info@icos-cp.eu</a>"
      }
     },
     "791b33378f2846cab98d0398ef289f6b": {
      "model_module": "@jupyter-widgets/controls",
      "model_module_version": "1.5.0",
      "model_name": "DescriptionStyleModel",
      "state": {
       "description_width": ""
      }
     },
     "79215a13a0c341f58f58da5e7fd5dbb7": {
      "model_module": "@jupyter-widgets/controls",
      "model_module_version": "1.5.0",
      "model_name": "HTMLModel",
      "state": {
       "layout": "IPY_MODEL_e736d74d01034028895d4f7bf8464981",
       "style": "IPY_MODEL_778b5a7ffd3c469789754f4bf4ca7d54",
       "value": "Notebooks processing ICOS data products by applying various methods, computing statistics, and presenting results in interactive visualizations (i.e. plots, maps, tables, etc.)"
      }
     },
     "79416ad6738f4e409dee545e7ffeadd8": {
      "model_module": "@jupyter-widgets/controls",
      "model_module_version": "1.5.0",
      "model_name": "DescriptionStyleModel",
      "state": {
       "description_width": ""
      }
     },
     "7941b452c18542b78bf3d66af093fea4": {
      "model_module": "@jupyter-widgets/controls",
      "model_module_version": "1.5.0",
      "model_name": "GridBoxModel",
      "state": {
       "children": [
        "IPY_MODEL_24394e1fe73c4a1fa2062e6cace23c36",
        "IPY_MODEL_7c6aacba1b764debab54bbc6ed97bea5",
        "IPY_MODEL_b99da0d905a546d79770557e279439db",
        "IPY_MODEL_fd69ccbf36e4438b82d2e143295a7977",
        "IPY_MODEL_2c207d16e0c640a089d19c2720f8075f",
        "IPY_MODEL_1de1663762574043bcf2d73ac79dba04",
        "IPY_MODEL_79a63b1ff2024414bf02c23e40e7b5eb",
        "IPY_MODEL_3c6e310b22df4829bb419b9ac7968727",
        "IPY_MODEL_6438ebc0b5e54b2cae04ef2b60117bb0",
        "IPY_MODEL_62d451f9f3c24ea79d2f4e67db6de177"
       ],
       "layout": "IPY_MODEL_d998bb0e6cf1473a9bc2d6bda39a22bb"
      }
     },
     "7946cd26e4aa4673a86a1be382b628cc": {
      "model_module": "@jupyter-widgets/controls",
      "model_module_version": "1.5.0",
      "model_name": "HTMLModel",
      "state": {
       "layout": "IPY_MODEL_9593730732e848d1a254b2483efb8b70",
       "style": "IPY_MODEL_c9468ee1d53849f2b82c070f4ed29035",
       "value": "<a href=./project_jupyter_notebooks/envrifair_winterschool/map/exercise2_participant.ipynb target='_blank'>Exercise 2 - Map with workshop members</a>"
      }
     },
     "79540a08fbbf4499aaa8608c25e4e0cc": {
      "model_module": "@jupyter-widgets/controls",
      "model_module_version": "1.5.0",
      "model_name": "HTMLModel",
      "state": {
       "layout": "IPY_MODEL_fe378d52340242589311e14f4e60698d",
       "style": "IPY_MODEL_40deb7d0191148a79f5b61a88a2b639e",
       "value": "<b>GitHub: </b> "
      }
     },
     "79558356a19e45718f0ef40d447dbfb5": {
      "model_module": "@jupyter-widgets/controls",
      "model_module_version": "1.5.0",
      "model_name": "DescriptionStyleModel",
      "state": {
       "description_width": ""
      }
     },
     "7955a93c71b14953a8591b4b8de8bb6c": {
      "model_module": "@jupyter-widgets/controls",
      "model_module_version": "1.5.0",
      "model_name": "DescriptionStyleModel",
      "state": {
       "description_width": ""
      }
     },
     "796ad5aed1b24123b75e346e5ed1dbfc": {
      "model_module": "@jupyter-widgets/controls",
      "model_module_version": "1.5.0",
      "model_name": "DescriptionStyleModel",
      "state": {
       "description_width": ""
      }
     },
     "7975387aa3b44347b75e672114141f41": {
      "model_module": "@jupyter-widgets/controls",
      "model_module_version": "1.5.0",
      "model_name": "DescriptionStyleModel",
      "state": {
       "description_width": ""
      }
     },
     "79a63b1ff2024414bf02c23e40e7b5eb": {
      "model_module": "@jupyter-widgets/controls",
      "model_module_version": "1.5.0",
      "model_name": "HTMLModel",
      "state": {
       "layout": "IPY_MODEL_5119d6c74d1546c6b2677a59a7647cbc",
       "style": "IPY_MODEL_659d6d5f88a44d73934f1363db240045",
       "value": "<b>GitHub: </b> "
      }
     },
     "79be398d095e42f7bdbd3e46294b8058": {
      "model_module": "@jupyter-widgets/controls",
      "model_module_version": "1.5.0",
      "model_name": "HTMLModel",
      "state": {
       "layout": "IPY_MODEL_6453ad52ba5943dcaf42111aaa655a9d",
       "style": "IPY_MODEL_622473c3de854c6e9679ad4485239ebc",
       "value": "In this exercise you will analyse carbon flux estimates from different types of models and compare them with the observed fluxes in the FLUXNET datasetYou will complete tasks based on: <br><br>i. Vegetation model results from an LPJ-GUESS run for the FLUXNET stations, <br>ii. Vegetation model results from an LPJ-GUESS run on a grid for Europe, <br>iii. Atmospheric inversion results for Europe from the LUMIA inversion system."
      }
     },
     "79d551fbbc3b47b3ab0cfea5ba6cdb1b": {
      "model_module": "@jupyter-widgets/base",
      "model_module_version": "1.2.0",
      "model_name": "LayoutModel",
      "state": {}
     },
     "79de3a7e9e1b4105b15a4d3beaa1ea1c": {
      "model_module": "@jupyter-widgets/controls",
      "model_module_version": "1.5.0",
      "model_name": "HTMLModel",
      "state": {
       "layout": "IPY_MODEL_8459fd5f0a5d4453978af5c2eb7690d2",
       "style": "IPY_MODEL_6aec42d9ea0c4cf5b2b3c96377439f9e",
       "value": "<img src=\"./icos_jupyter_notebooks/ind_tools/img/02_pylib_ex/ex6a.PNG\">"
      }
     },
     "79f334f3692646809151537990c11cc8": {
      "model_module": "@jupyter-widgets/base",
      "model_module_version": "1.2.0",
      "model_name": "LayoutModel",
      "state": {
       "grid_gap": "5px 10px",
       "grid_template_columns": "100px auto",
       "grid_template_rows": "auto auto auto auto auto",
       "padding": "50px 0px 70px 0px",
       "width": "100%"
      }
     },
     "79f867182d6541b9aac137b67b3a7503": {
      "model_module": "@jupyter-widgets/controls",
      "model_module_version": "1.5.0",
      "model_name": "DescriptionStyleModel",
      "state": {
       "description_width": ""
      }
     },
     "7a065a92895d4fefbc4b31f701cdfa50": {
      "model_module": "@jupyter-widgets/controls",
      "model_module_version": "1.5.0",
      "model_name": "HTMLModel",
      "state": {
       "layout": "IPY_MODEL_18dff0994e32495f85bf2a883aaa70be",
       "style": "IPY_MODEL_1ed7aa2b42bc48b4b409045a40583102",
       "value": "<b>GitHub: </b> "
      }
     },
     "7a0906765a704643bb43bca13e136cbc": {
      "model_module": "@jupyter-widgets/base",
      "model_module_version": "1.2.0",
      "model_name": "LayoutModel",
      "state": {}
     },
     "7a25dfe052824c95b48abced7162312f": {
      "model_module": "@jupyter-widgets/base",
      "model_module_version": "1.2.0",
      "model_name": "LayoutModel",
      "state": {}
     },
     "7a2f68c039204cbda8ed3f0ec556c604": {
      "model_module": "@jupyter-widgets/controls",
      "model_module_version": "1.5.0",
      "model_name": "HTMLModel",
      "state": {
       "layout": "IPY_MODEL_114412104b564a6e813f8e71cbb94b3a",
       "style": "IPY_MODEL_ab253f8d72924d448ee0f877dd01c4cd",
       "value": "<img src=\"./icos_jupyter_notebooks/ind_tools/img/04_proj_JNBs/envrifair_ws/maps/ex2.PNG\">"
      }
     },
     "7a41a781308640848b60e90dbebae12f": {
      "model_module": "@jupyter-widgets/controls",
      "model_module_version": "1.5.0",
      "model_name": "DescriptionStyleModel",
      "state": {
       "description_width": ""
      }
     },
     "7a4b6319a8c245f6b693e572a2ac9891": {
      "model_module": "@jupyter-widgets/base",
      "model_module_version": "1.2.0",
      "model_name": "LayoutModel",
      "state": {
       "grid_gap": "5px 10px",
       "grid_template_columns": "auto",
       "grid_template_rows": "auto",
       "padding": "5px 0px 5px 0px",
       "width": "100%"
      }
     },
     "7a60516c505a4f4f8d17d0abd08b5d14": {
      "model_module": "@jupyter-widgets/controls",
      "model_module_version": "1.5.0",
      "model_name": "HTMLModel",
      "state": {
       "layout": "IPY_MODEL_bc8d68f29a69412eb0f6674d7642c7cd",
       "style": "IPY_MODEL_9a3ccaba36bc488480ce17098f683071",
       "value": "<b>Title: </b> "
      }
     },
     "7a624bb9fe2f4fc092aca52e2d241d8e": {
      "model_module": "@jupyter-widgets/controls",
      "model_module_version": "1.5.0",
      "model_name": "DescriptionStyleModel",
      "state": {
       "description_width": ""
      }
     },
     "7a854d3122ad40ffb1524fb00c0d189a": {
      "model_module": "@jupyter-widgets/controls",
      "model_module_version": "1.5.0",
      "model_name": "HTMLModel",
      "state": {
       "layout": "IPY_MODEL_b18acec4009f4b5196a12cddd2d1f33f",
       "style": "IPY_MODEL_d4742fab74144852b1f91eb047a12056",
       "value": "<b>Thumbnail: </b> "
      }
     },
     "7a9cc6243c704d328ed3906cc0b24a13": {
      "model_module": "@jupyter-widgets/base",
      "model_module_version": "1.2.0",
      "model_name": "LayoutModel",
      "state": {}
     },
     "7aa50c757f934d9a906c9a28ae760c0d": {
      "model_module": "@jupyter-widgets/controls",
      "model_module_version": "1.5.0",
      "model_name": "HTMLModel",
      "state": {
       "layout": "IPY_MODEL_ad6a2fea0aa14043b2f2dbdaed801e37",
       "style": "IPY_MODEL_662dc5bb5cd94e8e8708477192c2fb7c",
       "value": "<b>Title: </b> "
      }
     },
     "7acdfedce4cd401aa7a2c2fbf0897762": {
      "model_module": "@jupyter-widgets/base",
      "model_module_version": "1.2.0",
      "model_name": "LayoutModel",
      "state": {}
     },
     "7ad78bcc4db64d7fa44041cf0ab6c814": {
      "model_module": "@jupyter-widgets/controls",
      "model_module_version": "1.5.0",
      "model_name": "HTMLModel",
      "state": {
       "layout": "IPY_MODEL_48340f71c5eb47e6b532061fea08d1d7",
       "style": "IPY_MODEL_dff233f977964047ad75a7bda68b1e9d",
       "value": "<b>Thumbnail: </b> "
      }
     },
     "7ad8c580d1284fa4a7ae331d2c7875d5": {
      "model_module": "@jupyter-widgets/controls",
      "model_module_version": "1.5.0",
      "model_name": "DescriptionStyleModel",
      "state": {
       "description_width": ""
      }
     },
     "7add18c9b37b44679ae50576c771a14c": {
      "model_module": "@jupyter-widgets/controls",
      "model_module_version": "1.5.0",
      "model_name": "AccordionModel",
      "state": {
       "_titles": {
        "0": "General",
        "1": "MSc_BSc",
        "2": "PhD"
       },
       "children": [
        "IPY_MODEL_7b633360e98744abaf3b846f8544c5d8",
        "IPY_MODEL_227426c18b31441f90017d67ef03c08a",
        "IPY_MODEL_cbc4ca55006c42f8985230d49d777010"
       ],
       "layout": "IPY_MODEL_bd303f236a0e429f96231c83f61b05b7",
       "selected_index": null
      }
     },
     "7af0a16f683a400e8a2581ee23461c6a": {
      "model_module": "@jupyter-widgets/controls",
      "model_module_version": "1.5.0",
      "model_name": "DescriptionStyleModel",
      "state": {
       "description_width": ""
      }
     },
     "7af4af165fd34d74b29a7aec7f102b85": {
      "model_module": "@jupyter-widgets/base",
      "model_module_version": "1.2.0",
      "model_name": "LayoutModel",
      "state": {}
     },
     "7af70d560dfd4212be991cefe93adff3": {
      "model_module": "@jupyter-widgets/controls",
      "model_module_version": "1.5.0",
      "model_name": "HTMLModel",
      "state": {
       "layout": "IPY_MODEL_80e6aab7f46342f38ab907337f4f0298",
       "style": "IPY_MODEL_f5ce2164929446788b69b6d56a20a5f6",
       "value": "<a href='https://github.com/ICOS-Carbon-Portal/jupyter/issues' target='_blank'>Click here to report an issue</a>"
      }
     },
     "7b079414b24c4004aacbfbb04f7246d6": {
      "model_module": "@jupyter-widgets/base",
      "model_module_version": "1.2.0",
      "model_name": "LayoutModel",
      "state": {}
     },
     "7b30586beb1a4e9ba2b98efcf64d4f19": {
      "model_module": "@jupyter-widgets/base",
      "model_module_version": "1.2.0",
      "model_name": "LayoutModel",
      "state": {}
     },
     "7b30905655654e3c8ea5c27c8d2d076d": {
      "model_module": "@jupyter-widgets/controls",
      "model_module_version": "1.5.0",
      "model_name": "HTMLModel",
      "state": {
       "layout": "IPY_MODEL_82995f8f5fda44ecbbbcd7fe55008fe7",
       "style": "IPY_MODEL_971494ea0ce14e85847d3a30481a52d4",
       "value": "This Jupyter notebook provides examples on how to access data and metadata of collections using ICOS Carbon Portal Python library. Full documentation for the ICOS library on the <a href='https://icos-carbon-portal.github.io/pylib/' target='_blank'>project page</a>, how to install and wheel on <a href='https://pypi.org/project/icoscp/' target='_blank'>pypi.org</a>, source available on <a href='https://github.com/ICOS-Carbon-Portal/pylib' target='_blank'>GitHub</a>."
      }
     },
     "7b43566421864af5b7da8af3009bdc86": {
      "model_module": "@jupyter-widgets/controls",
      "model_module_version": "1.5.0",
      "model_name": "GridBoxModel",
      "state": {
       "children": [
        "IPY_MODEL_6863660f72204c4b873610727db9063a",
        "IPY_MODEL_2adf261449fc4a95bc51e44a07409fad"
       ],
       "layout": "IPY_MODEL_762ea56409dd4e92b8150a75a13bc371"
      }
     },
     "7b5a89ca322d4fa9af3c2599cb447a7a": {
      "model_module": "@jupyter-widgets/controls",
      "model_module_version": "1.5.0",
      "model_name": "HTMLModel",
      "state": {
       "layout": "IPY_MODEL_3b2c12aca18d4750b7b641ae949b973d",
       "style": "IPY_MODEL_77f8a3da1a8d441cb79b5254ec97bce5",
       "value": "<b>Description: </b> "
      }
     },
     "7b633360e98744abaf3b846f8544c5d8": {
      "model_module": "@jupyter-widgets/controls",
      "model_module_version": "1.5.0",
      "model_name": "GridBoxModel",
      "state": {
       "children": [
        "IPY_MODEL_a98cbc3e5ae44470a2735aadb7494777",
        "IPY_MODEL_9d32ea29216e4461bb8300f4743046c7"
       ],
       "layout": "IPY_MODEL_1882ec0f57bd4cfdb9e3fb5a36ab6a2a"
      }
     },
     "7b91a0df44a64a3781a212ea2d002055": {
      "model_module": "@jupyter-widgets/base",
      "model_module_version": "1.2.0",
      "model_name": "LayoutModel",
      "state": {}
     },
     "7bc034d912114355b682b08228def65d": {
      "model_module": "@jupyter-widgets/base",
      "model_module_version": "1.2.0",
      "model_name": "LayoutModel",
      "state": {}
     },
     "7bc0ff0d82914a869e27fa1cf81f08f0": {
      "model_module": "@jupyter-widgets/controls",
      "model_module_version": "1.5.0",
      "model_name": "GridBoxModel",
      "state": {
       "children": [
        "IPY_MODEL_3c4c4753505446af803b2fbc22f0db73",
        "IPY_MODEL_0c4d8cf28357491b8c9f76b0c77bbc3a",
        "IPY_MODEL_114fcd7702bc411292e556e8c7eb727b",
        "IPY_MODEL_c8d7511148d34146aec54ec05a9c08f0",
        "IPY_MODEL_3b8377e669ee40db889a75a63200fff5",
        "IPY_MODEL_ca3e354894024d56ab612475af5a8d5d",
        "IPY_MODEL_09c1ef12caf444ac84398a125a5a2a36",
        "IPY_MODEL_0ee17614c91e4d2e85c8c6ca9382900a",
        "IPY_MODEL_20839a5c9b774b55a73c409029c1226e",
        "IPY_MODEL_32554985e92746bfb078f0f7f8ddbb5f"
       ],
       "layout": "IPY_MODEL_90923192518f49d68f130faf5ea20ca4"
      }
     },
     "7bf8d9a352e9430495f9ca41a184e9b6": {
      "model_module": "@jupyter-widgets/base",
      "model_module_version": "1.2.0",
      "model_name": "LayoutModel",
      "state": {}
     },
     "7c1982398b284f688265c92032076f4e": {
      "model_module": "@jupyter-widgets/controls",
      "model_module_version": "1.5.0",
      "model_name": "HTMLModel",
      "state": {
       "layout": "IPY_MODEL_900a07bac22148dab7f20decf4058382",
       "style": "IPY_MODEL_0fb4ebd592644b628c7048f252bc5758",
       "value": "<b>Contact: </b> "
      }
     },
     "7c308a1720184d3fa8d14804e24de253": {
      "model_module": "@jupyter-widgets/base",
      "model_module_version": "1.2.0",
      "model_name": "LayoutModel",
      "state": {}
     },
     "7c322713c8474b47b75315d1acd9f192": {
      "model_module": "@jupyter-widgets/base",
      "model_module_version": "1.2.0",
      "model_name": "LayoutModel",
      "state": {}
     },
     "7c466e42c8234320ad78171233baf751": {
      "model_module": "@jupyter-widgets/base",
      "model_module_version": "1.2.0",
      "model_name": "LayoutModel",
      "state": {}
     },
     "7c5d9f7f2b1644d2b67c8a9ff846f70c": {
      "model_module": "@jupyter-widgets/controls",
      "model_module_version": "1.5.0",
      "model_name": "DescriptionStyleModel",
      "state": {
       "description_width": ""
      }
     },
     "7c6aacba1b764debab54bbc6ed97bea5": {
      "model_module": "@jupyter-widgets/controls",
      "model_module_version": "1.5.0",
      "model_name": "HTMLModel",
      "state": {
       "layout": "IPY_MODEL_f6115bbd59fb4465aefd76bf27743f01",
       "style": "IPY_MODEL_7f50f4017fa84703a3e1e9480e902d0d",
       "value": "<a href=./introduction/QuickstartToPythonENG.ipynb target='_blank'>Quickstart to Python</a>"
      }
     },
     "7c8fe17803144785887052a48f97dca5": {
      "model_module": "@jupyter-widgets/base",
      "model_module_version": "1.2.0",
      "model_name": "LayoutModel",
      "state": {}
     },
     "7c9b2e62ccdf4fa69e710d10c8c79f61": {
      "model_module": "@jupyter-widgets/controls",
      "model_module_version": "1.5.0",
      "model_name": "DescriptionStyleModel",
      "state": {
       "description_width": ""
      }
     },
     "7c9d2f7414f3410184483d6bfe229ff6": {
      "model_module": "@jupyter-widgets/controls",
      "model_module_version": "1.5.0",
      "model_name": "DescriptionStyleModel",
      "state": {
       "description_width": ""
      }
     },
     "7ca209464fa741e0a60e728c177481de": {
      "model_module": "@jupyter-widgets/base",
      "model_module_version": "1.2.0",
      "model_name": "LayoutModel",
      "state": {}
     },
     "7cc198dcf2db40d98976bb9582e505b3": {
      "model_module": "@jupyter-widgets/controls",
      "model_module_version": "1.5.0",
      "model_name": "HTMLModel",
      "state": {
       "layout": "IPY_MODEL_fd3f62b356b24272b3c22c617e655014",
       "style": "IPY_MODEL_bd53efbb6a3d4266a31d44f657ab7808",
       "value": "<b>Thumbnail: </b> "
      }
     },
     "7cf75ed6167e482b88126b867c8d69d1": {
      "model_module": "@jupyter-widgets/controls",
      "model_module_version": "1.5.0",
      "model_name": "DescriptionStyleModel",
      "state": {
       "description_width": ""
      }
     },
     "7cfbee6da14e41e5a6bf9f183ed032b4": {
      "model_module": "@jupyter-widgets/base",
      "model_module_version": "1.2.0",
      "model_name": "LayoutModel",
      "state": {}
     },
     "7d1a18877f9149a89daa0c565531f2ba": {
      "model_module": "@jupyter-widgets/controls",
      "model_module_version": "1.5.0",
      "model_name": "DescriptionStyleModel",
      "state": {
       "description_width": ""
      }
     },
     "7d1af3d8bd1f4e4e9a900d59f97f8867": {
      "model_module": "@jupyter-widgets/controls",
      "model_module_version": "1.5.0",
      "model_name": "DescriptionStyleModel",
      "state": {
       "description_width": ""
      }
     },
     "7d485aeeea0d4372b517f39760f7a8e3": {
      "model_module": "@jupyter-widgets/base",
      "model_module_version": "1.2.0",
      "model_name": "LayoutModel",
      "state": {}
     },
     "7d4b6d7d035d4fd2a357b5185bbc348a": {
      "model_module": "@jupyter-widgets/controls",
      "model_module_version": "1.5.0",
      "model_name": "HTMLModel",
      "state": {
       "layout": "IPY_MODEL_ffccf303c19c42a6a039664bd805538f",
       "style": "IPY_MODEL_b1bed07d36b84487bd401f6767322cad",
       "value": "<b>Thumbnail: </b> "
      }
     },
     "7d5002af7d9d49bcae03daed9301c161": {
      "model_module": "@jupyter-widgets/controls",
      "model_module_version": "1.5.0",
      "model_name": "HTMLModel",
      "state": {
       "layout": "IPY_MODEL_d3f8f38ce423446ba5667e46f979fa64",
       "style": "IPY_MODEL_1ed11ecf37b24b6b87dd7e91b732732f",
       "value": "This notebook is dedicated on producing summary stastics for ICOS atmosphere observations. The notebook also includes advanced interactive visualizations of maps, plots and tables that compare observations and/or statistic results from different ICOS atmosphere stations. The selection of stations and other parameters relevant to each visualization are handled by interactive elements called widgets (i.e. dropdown lists, checkboxes, etc.)"
      }
     },
     "7d5b764016f04cc6b9c541c9b718d0db": {
      "model_module": "@jupyter-widgets/base",
      "model_module_version": "1.2.0",
      "model_name": "LayoutModel",
      "state": {}
     },
     "7d68deede11247e88e80bccac0d6caa8": {
      "model_module": "@jupyter-widgets/controls",
      "model_module_version": "1.5.0",
      "model_name": "DescriptionStyleModel",
      "state": {
       "description_width": ""
      }
     },
     "7d68fdd55c934c568bc3e8d18d17b88c": {
      "model_module": "@jupyter-widgets/base",
      "model_module_version": "1.2.0",
      "model_name": "LayoutModel",
      "state": {}
     },
     "7d72126a0d6c4909b796290501445774": {
      "model_module": "@jupyter-widgets/controls",
      "model_module_version": "1.5.0",
      "model_name": "DescriptionStyleModel",
      "state": {
       "description_width": ""
      }
     },
     "7dba236fe54549de8b9dd0ff3c8de79f": {
      "model_module": "@jupyter-widgets/base",
      "model_module_version": "1.2.0",
      "model_name": "LayoutModel",
      "state": {}
     },
     "7dbe35fa8482465086b33ae3849af5c4": {
      "model_module": "@jupyter-widgets/base",
      "model_module_version": "1.2.0",
      "model_name": "LayoutModel",
      "state": {}
     },
     "7dd91f9ef25b4900a91c4bf70b375ae6": {
      "model_module": "@jupyter-widgets/controls",
      "model_module_version": "1.5.0",
      "model_name": "DescriptionStyleModel",
      "state": {
       "description_width": ""
      }
     },
     "7dda8615a87a43d891629d011c9163e0": {
      "model_module": "@jupyter-widgets/controls",
      "model_module_version": "1.5.0",
      "model_name": "GridBoxModel",
      "state": {
       "children": [
        "IPY_MODEL_f83f617d17864a588f4a989119ed726e",
        "IPY_MODEL_4740a00d42fc45da8e3d4753159848d5",
        "IPY_MODEL_1030ed54b0c242d79a277892be1564eb",
        "IPY_MODEL_355407ad8e0047049c8a3d95b5953200",
        "IPY_MODEL_1a10872288ed494cae959fb1a827cbde",
        "IPY_MODEL_9f7a53ea6b4340f18a12b2703d966a96",
        "IPY_MODEL_e6868dff3f2d4e5b970cef3c4ef120eb",
        "IPY_MODEL_5891fd25d574496199fd594fbddaa19d",
        "IPY_MODEL_988766006712436b879d8cfd689f0d5a",
        "IPY_MODEL_d53c7ae3adfa4d0789cf8f5258d086a7"
       ],
       "layout": "IPY_MODEL_e6fda782267841b581c221cc5b6445d6"
      }
     },
     "7df9762a6c3b459cae2ab3c07e8a3a76": {
      "model_module": "@jupyter-widgets/controls",
      "model_module_version": "1.5.0",
      "model_name": "HTMLModel",
      "state": {
       "layout": "IPY_MODEL_373213f690184b8ebfeef3cda5f24e3b",
       "style": "IPY_MODEL_160533847cb34148b5bcd1207a544eea",
       "value": "<b>Thumbnail: </b> "
      }
     },
     "7dfa1163551c440b8b8170b2c26201fd": {
      "model_module": "@jupyter-widgets/controls",
      "model_module_version": "1.5.0",
      "model_name": "HTMLModel",
      "state": {
       "layout": "IPY_MODEL_bc0289930a22468ba2adbd40795e1f60",
       "style": "IPY_MODEL_9ee1edb22395484e93b29cb927995415",
       "value": "<b>Contact: </b> "
      }
     },
     "7e3c65b404024b7cb590f611cf7cf844": {
      "model_module": "@jupyter-widgets/controls",
      "model_module_version": "1.5.0",
      "model_name": "DescriptionStyleModel",
      "state": {
       "description_width": ""
      }
     },
     "7e4105be44504e39872b19a6f0117704": {
      "model_module": "@jupyter-widgets/base",
      "model_module_version": "1.2.0",
      "model_name": "LayoutModel",
      "state": {}
     },
     "7e5e133dea034dfbbc94a919e48dfaa7": {
      "model_module": "@jupyter-widgets/base",
      "model_module_version": "1.2.0",
      "model_name": "LayoutModel",
      "state": {}
     },
     "7e8e320810254dd7b3a193654b015329": {
      "model_module": "@jupyter-widgets/controls",
      "model_module_version": "1.5.0",
      "model_name": "DescriptionStyleModel",
      "state": {
       "description_width": ""
      }
     },
     "7e8f39fe9b7a4ac397a3c71eb872ecb0": {
      "model_module": "@jupyter-widgets/base",
      "model_module_version": "1.2.0",
      "model_name": "LayoutModel",
      "state": {}
     },
     "7e980b51c2bb42c9bdd37fe3da362870": {
      "model_module": "@jupyter-widgets/controls",
      "model_module_version": "1.5.0",
      "model_name": "DescriptionStyleModel",
      "state": {
       "description_width": ""
      }
     },
     "7ea16b4ef90e451e9398d621e231dbcd": {
      "model_module": "@jupyter-widgets/controls",
      "model_module_version": "1.5.0",
      "model_name": "DescriptionStyleModel",
      "state": {
       "description_width": ""
      }
     },
     "7eaff2ee21224209b7b30f5e99375f85": {
      "model_module": "@jupyter-widgets/base",
      "model_module_version": "1.2.0",
      "model_name": "LayoutModel",
      "state": {}
     },
     "7eb2ee846a6e440b8ad7cdcda50868bd": {
      "model_module": "@jupyter-widgets/controls",
      "model_module_version": "1.5.0",
      "model_name": "HTMLModel",
      "state": {
       "layout": "IPY_MODEL_06cfb81d508d40708c9ba42467eca5cb",
       "style": "IPY_MODEL_ad9d7f41b32b4fd0a460486132b5be9a",
       "value": "<b>Contact: </b> "
      }
     },
     "7ec3336d80264873b1f1e4456752ff24": {
      "model_module": "@jupyter-widgets/controls",
      "model_module_version": "1.5.0",
      "model_name": "HTMLModel",
      "state": {
       "layout": "IPY_MODEL_a789564c1619496db9be4898459a9d9f",
       "style": "IPY_MODEL_70b174cbb6d641d697ff7a74a7fff363",
       "value": "This is an ancillary notebook that contains various functions and settings used by the exercise-notebooks in the <b>OTC Data Reduction Workshop</b>."
      }
     },
     "7ec948687a3145d4a84bca4bb135e91d": {
      "model_module": "@jupyter-widgets/base",
      "model_module_version": "1.2.0",
      "model_name": "LayoutModel",
      "state": {}
     },
     "7ecaac71f7ab43c5b74ca8c7ea373a03": {
      "model_module": "@jupyter-widgets/controls",
      "model_module_version": "1.5.0",
      "model_name": "DescriptionStyleModel",
      "state": {
       "description_width": ""
      }
     },
     "7ed5397f00fb46ca836f746785f438f3": {
      "model_module": "@jupyter-widgets/controls",
      "model_module_version": "1.5.0",
      "model_name": "HTMLModel",
      "state": {
       "layout": "IPY_MODEL_1c8454c05e2a459580fd944b4d5dba85",
       "style": "IPY_MODEL_cbda3774b5cc4290bffdd36d8ba031c5",
       "value": "<img src=\"./icos_jupyter_notebooks/ind_tools/img/05_education/phd/ucf/ex3/gpp_par_fapar_prod.PNG\">"
      }
     },
     "7ef84050632b4c8ca3839b3036200910": {
      "model_module": "@jupyter-widgets/controls",
      "model_module_version": "1.5.0",
      "model_name": "DescriptionStyleModel",
      "state": {
       "description_width": ""
      }
     },
     "7efb20381da747bea6bbe4eb132e2b28": {
      "model_module": "@jupyter-widgets/base",
      "model_module_version": "1.2.0",
      "model_name": "LayoutModel",
      "state": {}
     },
     "7f1e9a0f73494f2dae4d8934cb42c7ae": {
      "model_module": "@jupyter-widgets/base",
      "model_module_version": "1.2.0",
      "model_name": "LayoutModel",
      "state": {}
     },
     "7f243093e33c43588e46524d7794b8ea": {
      "model_module": "@jupyter-widgets/base",
      "model_module_version": "1.2.0",
      "model_name": "LayoutModel",
      "state": {}
     },
     "7f3975bd7cc748369b2d7b4834eb2c29": {
      "model_module": "@jupyter-widgets/base",
      "model_module_version": "1.2.0",
      "model_name": "LayoutModel",
      "state": {}
     },
     "7f4b0b30ca9449e2acd93f75f6cbce7f": {
      "model_module": "@jupyter-widgets/controls",
      "model_module_version": "1.5.0",
      "model_name": "GridBoxModel",
      "state": {
       "children": [
        "IPY_MODEL_90e67fec51e84720b51ebcf58528fd9e",
        "IPY_MODEL_9fee7c41f988458db6e7516bce3d115d",
        "IPY_MODEL_9a774a4b73de49eeb2a7f2bbd2bec5e4",
        "IPY_MODEL_4205fde9780a48e5a2cec5acb1be1424",
        "IPY_MODEL_2188dd391cc544cc99d6611988c05b86",
        "IPY_MODEL_f5bddb05d57741c1a1cb16de50a547f0",
        "IPY_MODEL_ab3e81678c5c47ed8d74a338ac483f33",
        "IPY_MODEL_a3c8bc14c06a4ce98dae8e9433a6f455",
        "IPY_MODEL_d2e7d96b5d9849ec812a8de5b8639321",
        "IPY_MODEL_4d121fd9d1014fc7a0d8bf88fadea639"
       ],
       "layout": "IPY_MODEL_eb83b4e6fc644d4e8a95457951a94a06"
      }
     },
     "7f50f4017fa84703a3e1e9480e902d0d": {
      "model_module": "@jupyter-widgets/controls",
      "model_module_version": "1.5.0",
      "model_name": "DescriptionStyleModel",
      "state": {
       "description_width": ""
      }
     },
     "7f5810803d0b4deda8ea8405ad75f991": {
      "model_module": "@jupyter-widgets/controls",
      "model_module_version": "1.5.0",
      "model_name": "DescriptionStyleModel",
      "state": {
       "description_width": ""
      }
     },
     "7f6365d39b424f56b18fd0d074739d14": {
      "model_module": "@jupyter-widgets/controls",
      "model_module_version": "1.5.0",
      "model_name": "DescriptionStyleModel",
      "state": {
       "description_width": ""
      }
     },
     "7f678fd590f3403f976203f2acf18f92": {
      "model_module": "@jupyter-widgets/controls",
      "model_module_version": "1.5.0",
      "model_name": "HTMLModel",
      "state": {
       "layout": "IPY_MODEL_b21c9807199c4655b36d0116c52c6e4c",
       "style": "IPY_MODEL_ea29e67c4beb42039bd6ebd67085ecfb",
       "value": "<b>Thumbnail: </b> "
      }
     },
     "7f6d9a4270ee49c5ac2fc19900017493": {
      "model_module": "@jupyter-widgets/controls",
      "model_module_version": "1.5.0",
      "model_name": "GridBoxModel",
      "state": {
       "children": [
        "IPY_MODEL_736b04a27b434af5a296cf48972b88f5",
        "IPY_MODEL_4446c40f7f0349fa91cf4bf0864633e7",
        "IPY_MODEL_64da0ed05899459b8c52047f86f3e5d4",
        "IPY_MODEL_662576b0803544138268da88017fb4c8",
        "IPY_MODEL_e41e6b7e1c5f47559697c2defb85112e",
        "IPY_MODEL_703fc29e8e87475699f603dd5fe3a44c",
        "IPY_MODEL_3081f8eca99d43c99a55ef5a5f13e140",
        "IPY_MODEL_128139e0f7c545d39726d060d0a65a53",
        "IPY_MODEL_f3d78f7b3c5c4c96ae5c79eb440c1f94",
        "IPY_MODEL_22af09f8557f4ecead8af6c93a4fc906"
       ],
       "layout": "IPY_MODEL_60e9fb1d2368493e817384e0e3c1d3af"
      }
     },
     "7fa0e96cd0a54b908fa053b6f08af96a": {
      "model_module": "@jupyter-widgets/controls",
      "model_module_version": "1.5.0",
      "model_name": "DescriptionStyleModel",
      "state": {
       "description_width": ""
      }
     },
     "7fa1f8c9594342818039a902019100d8": {
      "model_module": "@jupyter-widgets/controls",
      "model_module_version": "1.5.0",
      "model_name": "HTMLModel",
      "state": {
       "layout": "IPY_MODEL_1194dfaddf4a4cb3b4436c94a7f8809a",
       "style": "IPY_MODEL_b1493833e9de41a2982ac8c531c580ae",
       "value": "In this exercise you will learn how to read data from csv-files to Pandas DataFrames (i.e. two-dimensional arrays) using Python. You will also learn how to process data in your Pandas DataFrame and create static plots with Matplotlib. You will then be able to use the these tools to statisitcally compare measurements from different stations in northern Europe. Follow the link to get a quick overview over how NPP, GPP and Respiration are defined and related."
      }
     },
     "7fa6472026df48ae83dab2d63f7ecc7e": {
      "model_module": "@jupyter-widgets/controls",
      "model_module_version": "1.5.0",
      "model_name": "DescriptionStyleModel",
      "state": {
       "description_width": ""
      }
     },
     "7fb67960d4ff4b2197e1c4013671f67b": {
      "model_module": "@jupyter-widgets/controls",
      "model_module_version": "1.5.0",
      "model_name": "DescriptionStyleModel",
      "state": {
       "description_width": ""
      }
     },
     "7fd52e3d93da4e09abbdec717a6d1d45": {
      "model_module": "@jupyter-widgets/controls",
      "model_module_version": "1.5.0",
      "model_name": "HTMLModel",
      "state": {
       "layout": "IPY_MODEL_aac67ca0471042a994e62b6fde88cc7d",
       "style": "IPY_MODEL_22e141a028bb4fbb98a512039be1959a",
       "value": "This notebook contains exercises for the <b>OTC Data Reduction Workshop</b>. The first exercise is dealing with the calibration of the xCO₂-data as they are coming from the instrument. The data are from a General Oceanics instrument, but the idea is the same for data from any instrument."
      }
     },
     "7fde1d00c68e407d9ea798e6142ad947": {
      "model_module": "@jupyter-widgets/base",
      "model_module_version": "1.2.0",
      "model_name": "LayoutModel",
      "state": {}
     },
     "7ff49b434c8a45cc98f32ed1a77960ce": {
      "model_module": "@jupyter-widgets/controls",
      "model_module_version": "1.5.0",
      "model_name": "DescriptionStyleModel",
      "state": {
       "description_width": ""
      }
     },
     "800aaba51d35414db87a25b8a312d3db": {
      "model_module": "@jupyter-widgets/base",
      "model_module_version": "1.2.0",
      "model_name": "LayoutModel",
      "state": {}
     },
     "80166e8bfafa4dc8a8f84cd64a4f4d71": {
      "model_module": "@jupyter-widgets/controls",
      "model_module_version": "1.5.0",
      "model_name": "HTMLModel",
      "state": {
       "layout": "IPY_MODEL_e1c212c62a924bd690dc8ba588e027ec",
       "style": "IPY_MODEL_337b530df8a34155a30b75992b3aa7cc",
       "value": "This notebook is dedicated to using ICOS Ecosystem Data from Hyltemossa Research Station in Southern Sweden, to study how the drought during the summer of 2018 affected the vegetation and the carbon balance in the surrounding area. The temporal resolution of the data extends from January 1st 2015 to December 31st 2018. Another objective of this notebook is to introduce basic principles of Python Programming."
      }
     },
     "8018fcfe463044a7ba7eb67ae371b4e5": {
      "model_module": "@jupyter-widgets/controls",
      "model_module_version": "1.5.0",
      "model_name": "GridBoxModel",
      "state": {
       "children": [
        "IPY_MODEL_151d5c38d093433092d38144a824a922",
        "IPY_MODEL_956ec9f2e5f34d8898fbb9f8b119d280",
        "IPY_MODEL_7b5a89ca322d4fa9af3c2599cb447a7a",
        "IPY_MODEL_6295a043debc4622869da677ba838c8e",
        "IPY_MODEL_92e3ac41ffb5467f894da60492419528",
        "IPY_MODEL_55767dab24d849afb6351cd2ecad48eb",
        "IPY_MODEL_37643406e2ac46cea54a84d4b90f8d0a",
        "IPY_MODEL_6de1b2a1031d45bf832da2b203181a98",
        "IPY_MODEL_ff65c13d9a614b68a81c25278efc7d9c",
        "IPY_MODEL_d27cdf87d4284821949aab02d4bb4029"
       ],
       "layout": "IPY_MODEL_1fbd10f3c8fa4d2cbbb668cb9490c0b3"
      }
     },
     "801d32d74d63426e8b353034a6d36fed": {
      "model_module": "@jupyter-widgets/base",
      "model_module_version": "1.2.0",
      "model_name": "LayoutModel",
      "state": {}
     },
     "805f719902414a4ebff79bdd9dd7bfb3": {
      "model_module": "@jupyter-widgets/base",
      "model_module_version": "1.2.0",
      "model_name": "LayoutModel",
      "state": {}
     },
     "80767713ef774a29832cb503d52c08d2": {
      "model_module": "@jupyter-widgets/base",
      "model_module_version": "1.2.0",
      "model_name": "LayoutModel",
      "state": {
       "grid_gap": "5px 10px",
       "grid_template_columns": "100px auto",
       "grid_template_rows": "auto auto auto auto auto",
       "padding": "50px 0px 70px 0px",
       "width": "100%"
      }
     },
     "807b8f36793245dab053a08f9e43103e": {
      "model_module": "@jupyter-widgets/base",
      "model_module_version": "1.2.0",
      "model_name": "LayoutModel",
      "state": {
       "grid_gap": "5px 10px",
       "grid_template_columns": "100px auto",
       "grid_template_rows": "auto auto auto auto auto",
       "padding": "50px 0px 70px 0px",
       "width": "100%"
      }
     },
     "80ab951ea0634dda885044e0f4732e48": {
      "model_module": "@jupyter-widgets/controls",
      "model_module_version": "1.5.0",
      "model_name": "DescriptionStyleModel",
      "state": {
       "description_width": ""
      }
     },
     "80bfeb095ede48f49194134b6b1f3989": {
      "model_module": "@jupyter-widgets/base",
      "model_module_version": "1.2.0",
      "model_name": "LayoutModel",
      "state": {}
     },
     "80de013c841f454580558633d6386a54": {
      "model_module": "@jupyter-widgets/controls",
      "model_module_version": "1.5.0",
      "model_name": "GridBoxModel",
      "state": {
       "children": [
        "IPY_MODEL_9bdc04294b924b8e86b5c4c8b91624c3",
        "IPY_MODEL_41eb22fdd083498bae87f7e1559f816e",
        "IPY_MODEL_cb0c7b03ee104bf090a8ac6218985170",
        "IPY_MODEL_cb6b94d6e2df4aa0bb2bf11445b81133",
        "IPY_MODEL_5197379c4c2d4b8b87ba0dcf0f0dbb33",
        "IPY_MODEL_eec5db079050417e84d9f4952d5fe947",
        "IPY_MODEL_ecaefdfccf8447dca1ed014a03b626d4",
        "IPY_MODEL_5dac4965e7d94c15bd7f12727049d6e2",
        "IPY_MODEL_2d3e46dc39394af19cc0efd895db39c6",
        "IPY_MODEL_6ea30923794944c996227d632a3d0acc"
       ],
       "layout": "IPY_MODEL_9b958b1ebff440b487e2641a06bbc372"
      }
     },
     "80de8e787ab44613aca9c79bb1b5bb8a": {
      "model_module": "@jupyter-widgets/controls",
      "model_module_version": "1.5.0",
      "model_name": "DescriptionStyleModel",
      "state": {
       "description_width": ""
      }
     },
     "80e6aab7f46342f38ab907337f4f0298": {
      "model_module": "@jupyter-widgets/base",
      "model_module_version": "1.2.0",
      "model_name": "LayoutModel",
      "state": {}
     },
     "80ef8d22bcbd4c3184b8d185a7d3e739": {
      "model_module": "@jupyter-widgets/controls",
      "model_module_version": "1.5.0",
      "model_name": "HTMLModel",
      "state": {
       "layout": "IPY_MODEL_97b1c077beed40d391c40a7469148f07",
       "style": "IPY_MODEL_f459324908fb4415b717e2f7de961d36",
       "value": "<a href=\"mailto: jupyter-info@icos-cp.eu\">jupyter-info@icos-cp.eu</a>"
      }
     },
     "80f224a78e804d73bfcd725cbf47f5d5": {
      "model_module": "@jupyter-widgets/base",
      "model_module_version": "1.2.0",
      "model_name": "LayoutModel",
      "state": {}
     },
     "812768ca08ad41818248f7a61b9c5122": {
      "model_module": "@jupyter-widgets/base",
      "model_module_version": "1.2.0",
      "model_name": "LayoutModel",
      "state": {
       "grid_gap": "5px 10px",
       "grid_template_columns": "100px auto",
       "grid_template_rows": "auto auto auto auto auto",
       "padding": "50px 0px 70px 0px",
       "width": "100%"
      }
     },
     "814fc081a5d24344950fc7f331a713b4": {
      "model_module": "@jupyter-widgets/controls",
      "model_module_version": "1.5.0",
      "model_name": "DescriptionStyleModel",
      "state": {
       "description_width": ""
      }
     },
     "81604c54f8ad40e1b447251b8f1d5fcb": {
      "model_module": "@jupyter-widgets/controls",
      "model_module_version": "1.5.0",
      "model_name": "GridBoxModel",
      "state": {
       "children": [
        "IPY_MODEL_74e818b280ce4855ac405a3439c93dd2",
        "IPY_MODEL_041c8b4b25644346974c76a4ffc1cd3b",
        "IPY_MODEL_63a82cfeb7c541fca17553bc8e28c126",
        "IPY_MODEL_a0f9928cf2f34b17813d4ab0464bbdc7",
        "IPY_MODEL_d7aaacc4433a409e8733716847e27d14",
        "IPY_MODEL_099c08172baf4771a8a3e2d2db8ddc7c",
        "IPY_MODEL_84e983baa7a342b393dd3a9e9f973da7",
        "IPY_MODEL_f09b8265f9e44358af2f7ccac748da6b",
        "IPY_MODEL_18270454b5a940598cad9dcde1f0ca43",
        "IPY_MODEL_eb79a42b53b04192807a36bedb18cb84"
       ],
       "layout": "IPY_MODEL_b4fea9f0628f44f0a277105090f2ba72"
      }
     },
     "81626c37683b40b6a9e207aaac9dda35": {
      "model_module": "@jupyter-widgets/base",
      "model_module_version": "1.2.0",
      "model_name": "LayoutModel",
      "state": {}
     },
     "81643f7b7a794db9a1253c2ce37215ad": {
      "model_module": "@jupyter-widgets/controls",
      "model_module_version": "1.5.0",
      "model_name": "DescriptionStyleModel",
      "state": {
       "description_width": ""
      }
     },
     "81b0c6c1f0964b328bb1234ccd3dedc7": {
      "model_module": "@jupyter-widgets/base",
      "model_module_version": "1.2.0",
      "model_name": "LayoutModel",
      "state": {
       "grid_gap": "5px 10px",
       "grid_template_columns": "100px auto",
       "grid_template_rows": "auto auto auto auto auto",
       "padding": "50px 0px 70px 0px",
       "width": "100%"
      }
     },
     "81e123f4de854aeca4061b65e44a8306": {
      "model_module": "@jupyter-widgets/base",
      "model_module_version": "1.2.0",
      "model_name": "LayoutModel",
      "state": {}
     },
     "8207e3a2369f4b209497d645a4c18a2f": {
      "model_module": "@jupyter-widgets/controls",
      "model_module_version": "1.5.0",
      "model_name": "DescriptionStyleModel",
      "state": {
       "description_width": ""
      }
     },
     "82349c6515cd4ae2b3cedbe87144657b": {
      "model_module": "@jupyter-widgets/controls",
      "model_module_version": "1.5.0",
      "model_name": "HTMLModel",
      "state": {
       "layout": "IPY_MODEL_c74398b0e5d546f3adcd5d0f25973a0a",
       "style": "IPY_MODEL_4771ae21ddbb4d46b7da725fbc9f8107",
       "value": "This notebook contains an interactive table showcasing the availability of ICOS data products per station and domain (i.e. atmosphere, ecosystem and ocean)."
      }
     },
     "823d82a17f5d425887221231646c0c76": {
      "model_module": "@jupyter-widgets/base",
      "model_module_version": "1.2.0",
      "model_name": "LayoutModel",
      "state": {}
     },
     "825c44ad41914e3ab8a2bcc6f78a12bb": {
      "model_module": "@jupyter-widgets/base",
      "model_module_version": "1.2.0",
      "model_name": "LayoutModel",
      "state": {}
     },
     "827366c307a5407eba94c5dce87b3442": {
      "model_module": "@jupyter-widgets/base",
      "model_module_version": "1.2.0",
      "model_name": "LayoutModel",
      "state": {}
     },
     "8285d1d6ef94494186165aadef583474": {
      "model_module": "@jupyter-widgets/controls",
      "model_module_version": "1.5.0",
      "model_name": "GridBoxModel",
      "state": {
       "children": [
        "IPY_MODEL_c226dd1841594a2bbb7ca8af9f9d9eb0",
        "IPY_MODEL_37bafcf62b5e4fbd9af19df63e4cdede",
        "IPY_MODEL_19d280b8e4d5467da20d00628fafd7ac",
        "IPY_MODEL_fee83cb1adc0486e965372097606cc98",
        "IPY_MODEL_e4b625d434fd414882409336fe8dfd27",
        "IPY_MODEL_ab1b66b8aef34e60ab726a4cbb5853d5",
        "IPY_MODEL_87c5ca2a406d4b9283959d4a28e29027",
        "IPY_MODEL_6b6821ac1c164544b831103603fb7eb0",
        "IPY_MODEL_7f678fd590f3403f976203f2acf18f92",
        "IPY_MODEL_4ad75bcbf3ae42f1aa262e0b9cd12819"
       ],
       "layout": "IPY_MODEL_604250c3140f46dc9f8eb355916a9ac2"
      }
     },
     "82995f8f5fda44ecbbbcd7fe55008fe7": {
      "model_module": "@jupyter-widgets/base",
      "model_module_version": "1.2.0",
      "model_name": "LayoutModel",
      "state": {}
     },
     "8299b0b57ef544bcb3c58a53a3be04b0": {
      "model_module": "@jupyter-widgets/base",
      "model_module_version": "1.2.0",
      "model_name": "LayoutModel",
      "state": {}
     },
     "829cdecfc0394b7ebc5db6019cfe94ba": {
      "model_module": "@jupyter-widgets/base",
      "model_module_version": "1.2.0",
      "model_name": "LayoutModel",
      "state": {}
     },
     "82b20e62639a467aa99fb4c9f0b293c8": {
      "model_module": "@jupyter-widgets/controls",
      "model_module_version": "1.5.0",
      "model_name": "DescriptionStyleModel",
      "state": {
       "description_width": ""
      }
     },
     "82c48aedee394b35a0cfd3e7ed72adcc": {
      "model_module": "@jupyter-widgets/base",
      "model_module_version": "1.2.0",
      "model_name": "LayoutModel",
      "state": {}
     },
     "82d8650a732548ecae2fa8185a8c9609": {
      "model_module": "@jupyter-widgets/controls",
      "model_module_version": "1.5.0",
      "model_name": "HTMLModel",
      "state": {
       "layout": "IPY_MODEL_6eed1b7ea1aa4180b0b675e149a1e019",
       "style": "IPY_MODEL_2e4f5041b7824702953e1dfbfa2ec5c9",
       "value": "<a href=\"mailto: jupyter-info@icos-cp.eu\">jupyter-info@icos-cp.eu</a>"
      }
     },
     "830d8244f5b64c61a115b166cfa9ad04": {
      "model_module": "@jupyter-widgets/controls",
      "model_module_version": "1.5.0",
      "model_name": "HTMLModel",
      "state": {
       "layout": "IPY_MODEL_6aded4d3734b4d7493b37026d394d900",
       "style": "IPY_MODEL_cb0fd1c906e140079cc63a7685c6847e",
       "value": "<a href=\"mailto: jupyter-info@icos-cp.eu\">jupyter-info@icos-cp.eu</a>"
      }
     },
     "8314619c968f4afc825bf57c295ea8e1": {
      "model_module": "@jupyter-widgets/base",
      "model_module_version": "1.2.0",
      "model_name": "LayoutModel",
      "state": {}
     },
     "831743420730449d8fbb1d990fb48297": {
      "model_module": "@jupyter-widgets/base",
      "model_module_version": "1.2.0",
      "model_name": "LayoutModel",
      "state": {}
     },
     "831f9c900556449a98a18c234b11f5bb": {
      "model_module": "@jupyter-widgets/base",
      "model_module_version": "1.2.0",
      "model_name": "LayoutModel",
      "state": {}
     },
     "833df6081f1946bd9714c2dd24f60289": {
      "model_module": "@jupyter-widgets/controls",
      "model_module_version": "1.5.0",
      "model_name": "HTMLModel",
      "state": {
       "layout": "IPY_MODEL_4a3ab1b15ea447bcbe873765a0ec883a",
       "style": "IPY_MODEL_5bfcb8385e9145808a51e320b634b121",
       "value": "<b>Description: </b> "
      }
     },
     "833f2d4753ac41b1bae68ef8eb8f26a5": {
      "model_module": "@jupyter-widgets/base",
      "model_module_version": "1.2.0",
      "model_name": "LayoutModel",
      "state": {}
     },
     "834bf40f48fa461c8f6bcdf0b58924ea": {
      "model_module": "@jupyter-widgets/controls",
      "model_module_version": "1.5.0",
      "model_name": "DescriptionStyleModel",
      "state": {
       "description_width": ""
      }
     },
     "83605d46a21a463aa41a3ebc0467da66": {
      "model_module": "@jupyter-widgets/base",
      "model_module_version": "1.2.0",
      "model_name": "LayoutModel",
      "state": {}
     },
     "839bf9f5c9da4391aed9032b62b9c5b1": {
      "model_module": "@jupyter-widgets/base",
      "model_module_version": "1.2.0",
      "model_name": "LayoutModel",
      "state": {}
     },
     "83af1520a7484b438c4ce95e1b097aee": {
      "model_module": "@jupyter-widgets/controls",
      "model_module_version": "1.5.0",
      "model_name": "HTMLModel",
      "state": {
       "layout": "IPY_MODEL_8461a912b0e74e579765d929c131d605",
       "style": "IPY_MODEL_7c9d2f7414f3410184483d6bfe229ff6",
       "value": "<b>GitHub: </b> "
      }
     },
     "83b51e3cdba54be993d55ffdffd06713": {
      "model_module": "@jupyter-widgets/base",
      "model_module_version": "1.2.0",
      "model_name": "LayoutModel",
      "state": {}
     },
     "83ccdeb2d3644783a66b71a38ff9339b": {
      "model_module": "@jupyter-widgets/base",
      "model_module_version": "1.2.0",
      "model_name": "LayoutModel",
      "state": {}
     },
     "83e1a85ad235442bb044c47c5b897385": {
      "model_module": "@jupyter-widgets/base",
      "model_module_version": "1.2.0",
      "model_name": "LayoutModel",
      "state": {}
     },
     "83e7c3a7429f489ea3f573ed868e606c": {
      "model_module": "@jupyter-widgets/controls",
      "model_module_version": "1.5.0",
      "model_name": "DescriptionStyleModel",
      "state": {
       "description_width": ""
      }
     },
     "841f5dda17dd4f239644374982f22a0a": {
      "model_module": "@jupyter-widgets/base",
      "model_module_version": "1.2.0",
      "model_name": "LayoutModel",
      "state": {}
     },
     "84371f2ae2604d009c3197b7c272f0af": {
      "model_module": "@jupyter-widgets/base",
      "model_module_version": "1.2.0",
      "model_name": "LayoutModel",
      "state": {}
     },
     "844024c3155a4ffa8f415249499ab6e2": {
      "model_module": "@jupyter-widgets/controls",
      "model_module_version": "1.5.0",
      "model_name": "DescriptionStyleModel",
      "state": {
       "description_width": ""
      }
     },
     "8459089b8fc341c9a1328dcbc130d77c": {
      "model_module": "@jupyter-widgets/controls",
      "model_module_version": "1.5.0",
      "model_name": "DescriptionStyleModel",
      "state": {
       "description_width": ""
      }
     },
     "8459fd5f0a5d4453978af5c2eb7690d2": {
      "model_module": "@jupyter-widgets/base",
      "model_module_version": "1.2.0",
      "model_name": "LayoutModel",
      "state": {}
     },
     "8461a912b0e74e579765d929c131d605": {
      "model_module": "@jupyter-widgets/base",
      "model_module_version": "1.2.0",
      "model_name": "LayoutModel",
      "state": {}
     },
     "8467e21c4e3647b5b88819c9076dff54": {
      "model_module": "@jupyter-widgets/controls",
      "model_module_version": "1.5.0",
      "model_name": "HTMLModel",
      "state": {
       "layout": "IPY_MODEL_57591450932943cea0d9a70f77d26cbd",
       "style": "IPY_MODEL_5bc4cc0de79146438821a4aa2f4cbe97",
       "value": "<b>Contact: </b> "
      }
     },
     "8468e8ade0f544eaaa4cbcbe9b8c68c5": {
      "model_module": "@jupyter-widgets/controls",
      "model_module_version": "1.5.0",
      "model_name": "AccordionModel",
      "state": {
       "_titles": {
        "0": "Introduction to Jupyter notebooks using ICOS/FLUXNET data",
        "1": "Vegetation modelling & inverse modelling",
        "2": "Upscaling eddy covariance GPP with remote sensing",
        "3": "Estimating national budgets",
        "4": "Drought 2018 - ICOS ecosystem data from Hyltemossa",
        "5": "Inspect FLUXNET ecosystem measurements",
        "6": "Inspect LPJ-GUESS modelled values",
        "7": "Station example",
        "8": "Python modules developed for the course"
       },
       "children": [
        "IPY_MODEL_4cb0855c14e64c0dbe634dbbb82c588b",
        "IPY_MODEL_0c6af5ebb1be4662bac92400652635ed",
        "IPY_MODEL_66da8dc9962a4139ab5f8773e36b2811",
        "IPY_MODEL_7f4b0b30ca9449e2acd93f75f6cbce7f",
        "IPY_MODEL_fbd6d14fefaa449489400a58bd34ad04",
        "IPY_MODEL_f46fd6c0f2594680adc16d19d369f509",
        "IPY_MODEL_316a0f1b2d674316acc1d085ef843f64",
        "IPY_MODEL_9ee7242791b3441596dbfccb1f2c6045",
        "IPY_MODEL_ca5dd78a7b0f457c9ea2a4f2bec60d0e"
       ],
       "layout": "IPY_MODEL_0eea60792a164b81acb040f04c8df4f4",
       "selected_index": null
      }
     },
     "848301c3c37e49cab043b617af5e3902": {
      "model_module": "@jupyter-widgets/controls",
      "model_module_version": "1.5.0",
      "model_name": "HTMLModel",
      "state": {
       "layout": "IPY_MODEL_6535032646904ea8a5aa94e7ac31dd60",
       "style": "IPY_MODEL_fbed5922a005438e9393a9ac693f40fe",
       "value": "<b>Contact: </b> "
      }
     },
     "84a75f403eb843269e5c809adccf5498": {
      "model_module": "@jupyter-widgets/base",
      "model_module_version": "1.2.0",
      "model_name": "LayoutModel",
      "state": {}
     },
     "84c61596860b4833acb8d59dcfced398": {
      "model_module": "@jupyter-widgets/controls",
      "model_module_version": "1.5.0",
      "model_name": "GridBoxModel",
      "state": {
       "children": [
        "IPY_MODEL_d7e7d65d4cc548cbbdbd0a1dc2be31b1",
        "IPY_MODEL_4f7f3a8bdb314f87a7bda972f7f2cad3",
        "IPY_MODEL_ff11dc14c7064183985e6de941b12fd7",
        "IPY_MODEL_8c1333bc73684c0bb7b6925bb1d99374",
        "IPY_MODEL_634ddca9c09943d394f402e099fd1f14",
        "IPY_MODEL_420c6e71d1f54fd38a7e22170d44b068",
        "IPY_MODEL_1ead6659acb54cc68ddf9e7c2ed0e759",
        "IPY_MODEL_5d9fc96342ee49a6b657114f2c3ba67b",
        "IPY_MODEL_229ab523b9bb44149c5e1896d7f2c246",
        "IPY_MODEL_d907f02c65404e9d83d349a3b2342e2e"
       ],
       "layout": "IPY_MODEL_3c6df4305e234fa696c80303a2f3a99a"
      }
     },
     "84d298508dd84e49b999400df553f03c": {
      "model_module": "@jupyter-widgets/controls",
      "model_module_version": "1.5.0",
      "model_name": "HTMLModel",
      "state": {
       "layout": "IPY_MODEL_a2e12e62c4284b0ab191c04ffb7f3277",
       "style": "IPY_MODEL_396f44d37d484f589971c1c5987839bc",
       "value": "<b>GitHub: </b> "
      }
     },
     "84e8e49de0d24bec96e1fea27ab45c2a": {
      "model_module": "@jupyter-widgets/base",
      "model_module_version": "1.2.0",
      "model_name": "LayoutModel",
      "state": {
       "grid_gap": "5px 10px",
       "grid_template_columns": "100px auto",
       "grid_template_rows": "auto auto auto auto auto",
       "padding": "50px 0px 70px 0px",
       "width": "100%"
      }
     },
     "84e983baa7a342b393dd3a9e9f973da7": {
      "model_module": "@jupyter-widgets/controls",
      "model_module_version": "1.5.0",
      "model_name": "HTMLModel",
      "state": {
       "layout": "IPY_MODEL_1ac16b06f51f4fdab6cdcc1a4e20236c",
       "style": "IPY_MODEL_fe692f160f88448c97225ffb231d19d5",
       "value": "<b>GitHub: </b> "
      }
     },
     "851244bb465842b7ae545d88462ce164": {
      "model_module": "@jupyter-widgets/base",
      "model_module_version": "1.2.0",
      "model_name": "LayoutModel",
      "state": {}
     },
     "8515cc1aadd24065ba6abc62a8f00d86": {
      "model_module": "@jupyter-widgets/controls",
      "model_module_version": "1.5.0",
      "model_name": "DescriptionStyleModel",
      "state": {
       "description_width": ""
      }
     },
     "8515cf755d8d49668f69fb88293b0e9c": {
      "model_module": "@jupyter-widgets/base",
      "model_module_version": "1.2.0",
      "model_name": "LayoutModel",
      "state": {
       "grid_gap": "5px 10px",
       "grid_template_columns": "100px auto",
       "grid_template_rows": "auto auto auto auto auto",
       "padding": "50px 0px 70px 0px",
       "width": "100%"
      }
     },
     "853f8c2893704de6a86b8181050f2f12": {
      "model_module": "@jupyter-widgets/base",
      "model_module_version": "1.2.0",
      "model_name": "LayoutModel",
      "state": {}
     },
     "8543b85bae2649f08404bdd715923575": {
      "model_module": "@jupyter-widgets/base",
      "model_module_version": "1.2.0",
      "model_name": "LayoutModel",
      "state": {}
     },
     "854427663f534cdcae8967d7f8becc50": {
      "model_module": "@jupyter-widgets/controls",
      "model_module_version": "1.5.0",
      "model_name": "HTMLModel",
      "state": {
       "layout": "IPY_MODEL_6cf25d36115841558ac26bf55544f910",
       "style": "IPY_MODEL_8b32ac2791424737935f63d4ad02a484",
       "value": "<a href=\"mailto: jupyter-info@icos-cp.eu\">jupyter-info@icos-cp.eu</a>"
      }
     },
     "8574876016454546ba0751a1f867214e": {
      "model_module": "@jupyter-widgets/controls",
      "model_module_version": "1.5.0",
      "model_name": "HTMLModel",
      "state": {
       "layout": "IPY_MODEL_abcea03260e54ba9ad376001ca1414a4",
       "style": "IPY_MODEL_07311ace780b4233a4621df1db7f1925",
       "value": "<a href='https://github.com/ICOS-Carbon-Portal/jupyter/issues' target='_blank'>Click here to report an issue</a>"
      }
     },
     "857d9fc3e17e4b9490f0ce2fe4e4bd7e": {
      "model_module": "@jupyter-widgets/controls",
      "model_module_version": "1.5.0",
      "model_name": "DescriptionStyleModel",
      "state": {
       "description_width": ""
      }
     },
     "8590d93939544e738691d2e2a26b522d": {
      "model_module": "@jupyter-widgets/controls",
      "model_module_version": "1.5.0",
      "model_name": "DescriptionStyleModel",
      "state": {
       "description_width": ""
      }
     },
     "85940cdbad7741b1b49f2bc781ccdf48": {
      "model_module": "@jupyter-widgets/controls",
      "model_module_version": "1.5.0",
      "model_name": "GridBoxModel",
      "state": {
       "children": [
        "IPY_MODEL_27c80050acc5485e915f42e9a0329d93",
        "IPY_MODEL_c74fc025593f474480d1029c9c386a1b",
        "IPY_MODEL_be94492056ae4afc8b2d6efa426a3f90",
        "IPY_MODEL_e8258fd76aa541d9ad22eb466e6a155f",
        "IPY_MODEL_2deef7d9711e4e15b3238a8d247bf11e",
        "IPY_MODEL_a681f017e2de49189863a7641b6a249d",
        "IPY_MODEL_4ad6682f60a24921a23afa5dc444601d",
        "IPY_MODEL_1f5b53b90f1f41d68c38c1944b7afc3f",
        "IPY_MODEL_12f12dd1398b4d13a00543b646fd17d4",
        "IPY_MODEL_8dc98268130d47f39454c8e9000c40f8"
       ],
       "layout": "IPY_MODEL_bcd633e1bbe747c4bd4ebb22b04c6d25"
      }
     },
     "85a576a54ee54695b3814d514d6fcef6": {
      "model_module": "@jupyter-widgets/base",
      "model_module_version": "1.2.0",
      "model_name": "LayoutModel",
      "state": {
       "grid_gap": "5px 10px",
       "grid_template_columns": "auto",
       "grid_template_rows": "auto",
       "padding": "5px 0px 5px 0px",
       "width": "100%"
      }
     },
     "85ce4d72a6384a0e8e123f38cc8a8986": {
      "model_module": "@jupyter-widgets/controls",
      "model_module_version": "1.5.0",
      "model_name": "GridBoxModel",
      "state": {
       "children": [
        "IPY_MODEL_35ef47a4014b40a196c87b4993a8150c",
        "IPY_MODEL_0e9a997f43ef48c19b07b890e3f6fd44",
        "IPY_MODEL_015a601024ee4e53959eb6eaad8fe4a1",
        "IPY_MODEL_6b988f2374ab4ce09e236e73f0df3ef1",
        "IPY_MODEL_7dfa1163551c440b8b8170b2c26201fd",
        "IPY_MODEL_dca1b9db91074e64a6ad2dae4455bee9",
        "IPY_MODEL_ac02cf6ea23c40b78c497d0ef986fb3d",
        "IPY_MODEL_3a535d55ed904d2ab38b15efcc5b5486",
        "IPY_MODEL_f753d6fb68024d4b806ae9c9d865ec77",
        "IPY_MODEL_48a4953c46964f6fa635557805af1748"
       ],
       "layout": "IPY_MODEL_2884feec23f34c46a0d78df4d0dc7d50"
      }
     },
     "8605025e03ef4e4daf0373b81604c8c6": {
      "model_module": "@jupyter-widgets/base",
      "model_module_version": "1.2.0",
      "model_name": "LayoutModel",
      "state": {
       "grid_gap": "5px 10px",
       "grid_template_columns": "100px auto",
       "grid_template_rows": "auto auto auto auto auto",
       "padding": "50px 0px 70px 0px",
       "width": "100%"
      }
     },
     "8631a211101f4f25860d542d3c5358af": {
      "model_module": "@jupyter-widgets/controls",
      "model_module_version": "1.5.0",
      "model_name": "DescriptionStyleModel",
      "state": {
       "description_width": ""
      }
     },
     "86544047c48c4117bd79f4944928800b": {
      "model_module": "@jupyter-widgets/controls",
      "model_module_version": "1.5.0",
      "model_name": "DescriptionStyleModel",
      "state": {
       "description_width": ""
      }
     },
     "86b95b0465644968ae8e8e2d676644c7": {
      "model_module": "@jupyter-widgets/controls",
      "model_module_version": "1.5.0",
      "model_name": "DescriptionStyleModel",
      "state": {
       "description_width": ""
      }
     },
     "8714c74fb8b04d08b04c1a0661698315": {
      "model_module": "@jupyter-widgets/base",
      "model_module_version": "1.2.0",
      "model_name": "LayoutModel",
      "state": {}
     },
     "87331155523a454c9cc98bf481cb2480": {
      "model_module": "@jupyter-widgets/base",
      "model_module_version": "1.2.0",
      "model_name": "LayoutModel",
      "state": {}
     },
     "87360ec2439b4b12b1f575c155e139b0": {
      "model_module": "@jupyter-widgets/controls",
      "model_module_version": "1.5.0",
      "model_name": "DescriptionStyleModel",
      "state": {
       "description_width": ""
      }
     },
     "879eb642e869487986abb3a1df8ace50": {
      "model_module": "@jupyter-widgets/base",
      "model_module_version": "1.2.0",
      "model_name": "LayoutModel",
      "state": {}
     },
     "87a8f1137dc749dfad372cc81abdaf01": {
      "model_module": "@jupyter-widgets/controls",
      "model_module_version": "1.5.0",
      "model_name": "HTMLModel",
      "state": {
       "layout": "IPY_MODEL_7c308a1720184d3fa8d14804e24de253",
       "style": "IPY_MODEL_d069adb4b1544749b04028bae96f6552",
       "value": "<a href=\"mailto: jupyter-info@icos-cp.eu\">jupyter-info@icos-cp.eu</a>"
      }
     },
     "87bd36ca138043828cf2c45845c2a7d7": {
      "model_module": "@jupyter-widgets/base",
      "model_module_version": "1.2.0",
      "model_name": "LayoutModel",
      "state": {}
     },
     "87c02368b05c48ae97015dc58f6789ae": {
      "model_module": "@jupyter-widgets/controls",
      "model_module_version": "1.5.0",
      "model_name": "HTMLModel",
      "state": {
       "layout": "IPY_MODEL_d4a1a7fef84b4ea6b3ce50381ef1ff32",
       "style": "IPY_MODEL_04172d75521f401684d0652f183eb36d",
       "value": "<a href=./education/General/carboncycle_htm.ipynb#Carbon-Cycle target='_blank'>Carbon cycle - Hyltemossa</a>"
      }
     },
     "87c5ca2a406d4b9283959d4a28e29027": {
      "model_module": "@jupyter-widgets/controls",
      "model_module_version": "1.5.0",
      "model_name": "HTMLModel",
      "state": {
       "layout": "IPY_MODEL_4ecfa898d18a4a9e9a89427a32503130",
       "style": "IPY_MODEL_38377de2cc3246d9bd8ccdde5d7b298c",
       "value": "<b>GitHub: </b> "
      }
     },
     "87d9f1c9cc714e82ab9e8d5981a57920": {
      "model_module": "@jupyter-widgets/controls",
      "model_module_version": "1.5.0",
      "model_name": "GridBoxModel",
      "state": {
       "children": [
        "IPY_MODEL_708a12c6fa414dc3893c593542fdc4d2",
        "IPY_MODEL_f7928a790b704d05b00ea642428681f5",
        "IPY_MODEL_b0dcfab4ac404980a8253bf938b9e717",
        "IPY_MODEL_389a43b0a1474776a7b751ce693e64f1",
        "IPY_MODEL_d8cd79aca20c49e59c20869db3956a5e",
        "IPY_MODEL_d84b926eb66e40fb8a1ff51a6453cbf9",
        "IPY_MODEL_ff117c4e575d4f06874c725677a6648c",
        "IPY_MODEL_698422b1450d4113af931aea2a8212cd",
        "IPY_MODEL_ae30aede152e4115ad27fd5df025ae1c",
        "IPY_MODEL_12a419c5d5f0410f81eb6d79f6c4870c"
       ],
       "layout": "IPY_MODEL_e5e36152ce724b2a99681d66f2b7aaf5"
      }
     },
     "87e6bcf5b07b417589460ea4e0f6f4e9": {
      "model_module": "@jupyter-widgets/controls",
      "model_module_version": "1.5.0",
      "model_name": "HTMLModel",
      "state": {
       "layout": "IPY_MODEL_c55c491e9ec7490585cafc49d465fb32",
       "style": "IPY_MODEL_737a2d312d1e47e8962ccdb2956df02c",
       "value": "<a href=./pylib_examples/ex6b_STILT_footprint_animation.ipynb target='_blank'>ICOS Carbon Portal Python Library - STILT footprint animation</a>"
      }
     },
     "886d6fc6be2a42d98efd7d89ef897a95": {
      "model_module": "@jupyter-widgets/controls",
      "model_module_version": "1.5.0",
      "model_name": "HTMLModel",
      "state": {
       "layout": "IPY_MODEL_aa92b2fc9cbc4578ab2a041fa4989d7f",
       "style": "IPY_MODEL_b1aa2870a7b2455daaacd16657495dce",
       "value": "<b>Contact: </b> "
      }
     },
     "887bb878ffe24a74beb9dcb83d01ec4e": {
      "model_module": "@jupyter-widgets/controls",
      "model_module_version": "1.5.0",
      "model_name": "DescriptionStyleModel",
      "state": {
       "description_width": ""
      }
     },
     "887cd055e7f1411fb3438685467ffdb6": {
      "model_module": "@jupyter-widgets/base",
      "model_module_version": "1.2.0",
      "model_name": "LayoutModel",
      "state": {}
     },
     "887f3f7f728f4dcf96b86f4035c224c2": {
      "model_module": "@jupyter-widgets/controls",
      "model_module_version": "1.5.0",
      "model_name": "GridBoxModel",
      "state": {
       "children": [
        "IPY_MODEL_75d705be63524e0982cd2297e0ac6a71",
        "IPY_MODEL_51159f86bfbf4c6ab577dac08b3a991f",
        "IPY_MODEL_4dfb21b871334b7aa95b5cc56897f184",
        "IPY_MODEL_ae8ccfb6504a4695952c49ecd0a85754",
        "IPY_MODEL_240be83e8c9846a78f75ede928a51bb8",
        "IPY_MODEL_e56d4a0e3d7646dfbbb9fc18bcd594fd",
        "IPY_MODEL_3c8bbd9f4f8f41d881c85b1854478fa8",
        "IPY_MODEL_aedcfbec817941eba68b2cd2eaab6a4c",
        "IPY_MODEL_770e9247cc2f40fa81ac1df5d74c1128",
        "IPY_MODEL_14c4e94810964b6098252de9cfb0441f"
       ],
       "layout": "IPY_MODEL_666203f438c04460b85170987c2222af"
      }
     },
     "88956da48d724b21954392ab24d7bd28": {
      "model_module": "@jupyter-widgets/controls",
      "model_module_version": "1.5.0",
      "model_name": "HTMLModel",
      "state": {
       "layout": "IPY_MODEL_e1a62d7ea59e4819bc58481af5157e7a",
       "style": "IPY_MODEL_11e574efbf344ed2a48fd7f3a8ee2e32",
       "value": "<a href=\"mailto: jupyter-info@icos-cp.eu\">jupyter-info@icos-cp.eu</a>, <a href=\"mailto: lars.eklundh@nateko.lu.se\">lars.eklundh@nateko.lu.se</a>, <a href=\"mailto: Maj-Lena.Linderson@nateko.lu.se\">Maj-Lena.Linderson@nateko.lu.se</a>"
      }
     },
     "88a5c791812348a8ac4ba159aa737127": {
      "model_module": "@jupyter-widgets/controls",
      "model_module_version": "1.5.0",
      "model_name": "HTMLModel",
      "state": {
       "layout": "IPY_MODEL_4cf2bae738a24ee1acb89247b013141c",
       "style": "IPY_MODEL_2c0a4d4324ca47f0915cff7c508556e5",
       "value": "<b>Title: </b> "
      }
     },
     "88c5be9df9e64e8581b28f7fe1b71e89": {
      "model_module": "@jupyter-widgets/base",
      "model_module_version": "1.2.0",
      "model_name": "LayoutModel",
      "state": {}
     },
     "88cf1468bc7842ce9e4d68883f139c3d": {
      "model_module": "@jupyter-widgets/controls",
      "model_module_version": "1.5.0",
      "model_name": "DescriptionStyleModel",
      "state": {
       "description_width": ""
      }
     },
     "88d269b101e0423fa8e8804d4a1a5c3b": {
      "model_module": "@jupyter-widgets/controls",
      "model_module_version": "1.5.0",
      "model_name": "HTMLModel",
      "state": {
       "layout": "IPY_MODEL_0e876d64e61b4976b316276558810b95",
       "style": "IPY_MODEL_e44a418074244dd4bcf127c65bf8ddab",
       "value": "<b>Thumbnail: </b> "
      }
     },
     "8903d72490d54011af16cc9ba77e643e": {
      "model_module": "@jupyter-widgets/base",
      "model_module_version": "1.2.0",
      "model_name": "LayoutModel",
      "state": {}
     },
     "890b5f6216e4429ab3926a0498d2b0a7": {
      "model_module": "@jupyter-widgets/controls",
      "model_module_version": "1.5.0",
      "model_name": "HTMLModel",
      "state": {
       "layout": "IPY_MODEL_1000a5c4c42643148420db9ff1dd84ee",
       "style": "IPY_MODEL_68aaa00e0b594501af6da4cec5a5f19e",
       "value": "In this exercise you will analyse carbon flux estimates from different types of models and compare them with the observed fluxes in the FLUXNET datasetYou will complete tasks based on: <br><br>i. Vegetation model results from an LPJ-GUESS run for the FLUXNET stations, <br>ii. Vegetation model results from an LPJ-GUESS run on a grid for Europe, <br>iii. Atmospheric inversion results for Europe from the LUMIA inversion system."
      }
     },
     "892488a5b64c428caee77273bb540e41": {
      "model_module": "@jupyter-widgets/base",
      "model_module_version": "1.2.0",
      "model_name": "LayoutModel",
      "state": {}
     },
     "894b67cc50c54647a9535d857e2b952b": {
      "model_module": "@jupyter-widgets/controls",
      "model_module_version": "1.5.0",
      "model_name": "HTMLModel",
      "state": {
       "layout": "IPY_MODEL_c7e6517b1a5749ea8a2ee9d86ed99bf3",
       "style": "IPY_MODEL_52ad7e41dd23443bb132006b4f540ebf",
       "value": "<a href='https://github.com/ICOS-Carbon-Portal/jupyter/issues' target='_blank'>Click here to report an issue</a>"
      }
     },
     "894de8cd88b14845a149912a79496f77": {
      "model_module": "@jupyter-widgets/base",
      "model_module_version": "1.2.0",
      "model_name": "LayoutModel",
      "state": {}
     },
     "897dc452ac62464dae5de57593678dad": {
      "model_module": "@jupyter-widgets/base",
      "model_module_version": "1.2.0",
      "model_name": "LayoutModel",
      "state": {}
     },
     "89a796a73aee44acb5c53dd2246133ad": {
      "model_module": "@jupyter-widgets/base",
      "model_module_version": "1.2.0",
      "model_name": "LayoutModel",
      "state": {}
     },
     "89b798e8420a48299befcdb5679df5b7": {
      "model_module": "@jupyter-widgets/controls",
      "model_module_version": "1.5.0",
      "model_name": "DescriptionStyleModel",
      "state": {
       "description_width": ""
      }
     },
     "89cd5691c1fa4284b8638fd8ebe51e60": {
      "model_module": "@jupyter-widgets/controls",
      "model_module_version": "1.5.0",
      "model_name": "DescriptionStyleModel",
      "state": {
       "description_width": ""
      }
     },
     "89eb74a391c34031a22d49a400f12460": {
      "model_module": "@jupyter-widgets/controls",
      "model_module_version": "1.5.0",
      "model_name": "DescriptionStyleModel",
      "state": {
       "description_width": ""
      }
     },
     "8a0ac638d0f64431bd7ba017834797b4": {
      "model_module": "@jupyter-widgets/controls",
      "model_module_version": "1.5.0",
      "model_name": "DescriptionStyleModel",
      "state": {
       "description_width": ""
      }
     },
     "8a1389f94fb24d5bae1f4a1871be4bfa": {
      "model_module": "@jupyter-widgets/base",
      "model_module_version": "1.2.0",
      "model_name": "LayoutModel",
      "state": {}
     },
     "8a3afd784baa47c4850fbd37054331ee": {
      "model_module": "@jupyter-widgets/base",
      "model_module_version": "1.2.0",
      "model_name": "LayoutModel",
      "state": {}
     },
     "8a3e748bf7254abdbb5ee69f821d95cb": {
      "model_module": "@jupyter-widgets/base",
      "model_module_version": "1.2.0",
      "model_name": "LayoutModel",
      "state": {}
     },
     "8a90d48b7aad4065a3bef00930bf9f1a": {
      "model_module": "@jupyter-widgets/base",
      "model_module_version": "1.2.0",
      "model_name": "LayoutModel",
      "state": {}
     },
     "8aa1338fbd8e4996b73cc06ad00cb327": {
      "model_module": "@jupyter-widgets/controls",
      "model_module_version": "1.5.0",
      "model_name": "DescriptionStyleModel",
      "state": {
       "description_width": ""
      }
     },
     "8aa7eded96ce43a598a86e84b7f81218": {
      "model_module": "@jupyter-widgets/controls",
      "model_module_version": "1.5.0",
      "model_name": "DescriptionStyleModel",
      "state": {
       "description_width": ""
      }
     },
     "8b0f62e3440c4a5bb81a06d1e54f03cc": {
      "model_module": "@jupyter-widgets/base",
      "model_module_version": "1.2.0",
      "model_name": "LayoutModel",
      "state": {}
     },
     "8b23db83be474d13afcfa7665d6cac1b": {
      "model_module": "@jupyter-widgets/controls",
      "model_module_version": "1.5.0",
      "model_name": "DescriptionStyleModel",
      "state": {
       "description_width": ""
      }
     },
     "8b2760816319414db9881cb36d40b944": {
      "model_module": "@jupyter-widgets/base",
      "model_module_version": "1.2.0",
      "model_name": "LayoutModel",
      "state": {}
     },
     "8b32ac2791424737935f63d4ad02a484": {
      "model_module": "@jupyter-widgets/controls",
      "model_module_version": "1.5.0",
      "model_name": "DescriptionStyleModel",
      "state": {
       "description_width": ""
      }
     },
     "8b89d407149240aa936d541a12a63ed3": {
      "model_module": "@jupyter-widgets/base",
      "model_module_version": "1.2.0",
      "model_name": "LayoutModel",
      "state": {}
     },
     "8bb48bee400b47a398e03675128da7ee": {
      "model_module": "@jupyter-widgets/controls",
      "model_module_version": "1.5.0",
      "model_name": "DescriptionStyleModel",
      "state": {
       "description_width": ""
      }
     },
     "8bbe1468001b47b397b59dcc31f2e745": {
      "model_module": "@jupyter-widgets/controls",
      "model_module_version": "1.5.0",
      "model_name": "GridBoxModel",
      "state": {
       "children": [
        "IPY_MODEL_c3cec3f3c3f04457b23e620716f9157a",
        "IPY_MODEL_2244910928a94eec9f487e8db6ac68b7",
        "IPY_MODEL_c6ada6601c27496fa6419f1d4cc0264e",
        "IPY_MODEL_7fd52e3d93da4e09abbdec717a6d1d45",
        "IPY_MODEL_015a4050573347818039d5d2a9fe86c2",
        "IPY_MODEL_b13cb64ca30b419093de3503408a4ca8",
        "IPY_MODEL_b61b09a3acbb4005aa0fa2078fb3d08d",
        "IPY_MODEL_ed532a8a6e9a4ef987c222af0b96706b",
        "IPY_MODEL_a0f0eef3ed2c40ecb4547fd0eb2f7b62",
        "IPY_MODEL_cec30e8177814569889590bf2de3de4e"
       ],
       "layout": "IPY_MODEL_37538466a0a34e34a63c9d97ae9d9e1c"
      }
     },
     "8bc7d5f647734d54ba8f30131400f529": {
      "model_module": "@jupyter-widgets/controls",
      "model_module_version": "1.5.0",
      "model_name": "DescriptionStyleModel",
      "state": {
       "description_width": ""
      }
     },
     "8bc86bd75ca8499ca79eae5aa0aaacdb": {
      "model_module": "@jupyter-widgets/controls",
      "model_module_version": "1.5.0",
      "model_name": "DescriptionStyleModel",
      "state": {
       "description_width": ""
      }
     },
     "8bf7456ff23a4e149d63ce78f5ad86c6": {
      "model_module": "@jupyter-widgets/base",
      "model_module_version": "1.2.0",
      "model_name": "LayoutModel",
      "state": {}
     },
     "8c1333bc73684c0bb7b6925bb1d99374": {
      "model_module": "@jupyter-widgets/controls",
      "model_module_version": "1.5.0",
      "model_name": "HTMLModel",
      "state": {
       "layout": "IPY_MODEL_20b4f7de422a45f9b85d23f86b50eede",
       "style": "IPY_MODEL_49832802d20045fcbcf54559f8614423",
       "value": "This notebook is dedicated on exploring ICOS atmosphere observations."
      }
     },
     "8c198012229448f79e5edebb86c14aae": {
      "model_module": "@jupyter-widgets/controls",
      "model_module_version": "1.5.0",
      "model_name": "DescriptionStyleModel",
      "state": {
       "description_width": ""
      }
     },
     "8c1ed6e5f8a141f2999884d65cccef6e": {
      "model_module": "@jupyter-widgets/controls",
      "model_module_version": "1.5.0",
      "model_name": "HTMLModel",
      "state": {
       "layout": "IPY_MODEL_a7bab29863844baf8285198a90050dca",
       "style": "IPY_MODEL_6da81d85c57b4a3dba9bffe08e5f0f13",
       "value": "<b>Description: </b> "
      }
     },
     "8c7ed78df2304e999fe591d191940a58": {
      "model_module": "@jupyter-widgets/controls",
      "model_module_version": "1.5.0",
      "model_name": "HTMLModel",
      "state": {
       "layout": "IPY_MODEL_664b7959acd2488896c1686697141e8b",
       "style": "IPY_MODEL_e8662d18b56f4c34a3178311c33e5409",
       "value": "<b>GitHub: </b> "
      }
     },
     "8ca9b56f473d48dfb09b3bb062de9ace": {
      "model_module": "@jupyter-widgets/base",
      "model_module_version": "1.2.0",
      "model_name": "LayoutModel",
      "state": {}
     },
     "8cf51cb61a484a5fbe893276dc51c8b3": {
      "model_module": "@jupyter-widgets/controls",
      "model_module_version": "1.5.0",
      "model_name": "DescriptionStyleModel",
      "state": {
       "description_width": ""
      }
     },
     "8cfce59745a848d6ad22290be5f764dc": {
      "model_module": "@jupyter-widgets/controls",
      "model_module_version": "1.5.0",
      "model_name": "DescriptionStyleModel",
      "state": {
       "description_width": ""
      }
     },
     "8d06420d53af415c8953dd7e70219f0e": {
      "model_module": "@jupyter-widgets/controls",
      "model_module_version": "1.5.0",
      "model_name": "HTMLModel",
      "state": {
       "layout": "IPY_MODEL_0afb3e7c32e54212886e0cca34970831",
       "style": "IPY_MODEL_8f11d1d6fd23448a8390aa1261d90a35",
       "value": "This notebook contains exercises for the <b>OTC Data Reduction Workshop</b>. The first exercise in <i>pCO₂ data reduction part 1 - Gas calibration</i> was dealing with the calibration of the xCO₂-data as they were coming from the instrument. The data were produced by a <i>General Oceanics</i> instrument, but the idea would be the same for data from any instrument. In this notebook, we will use the same data set as in <i>pCO₂ data reduction part 1 - Gas calibration</i> but with all recorded variables."
      }
     },
     "8d21b3150cdd42e79252646ca4fd4f8d": {
      "model_module": "@jupyter-widgets/controls",
      "model_module_version": "1.5.0",
      "model_name": "DescriptionStyleModel",
      "state": {
       "description_width": ""
      }
     },
     "8d22f7faf4fe47ce826ae1ad782544b6": {
      "model_module": "@jupyter-widgets/base",
      "model_module_version": "1.2.0",
      "model_name": "LayoutModel",
      "state": {}
     },
     "8d36109dd38446a39df6ed7c367ed0c4": {
      "model_module": "@jupyter-widgets/base",
      "model_module_version": "1.2.0",
      "model_name": "LayoutModel",
      "state": {}
     },
     "8d390b6b07c14e3c9dab049e84bd268f": {
      "model_module": "@jupyter-widgets/base",
      "model_module_version": "1.2.0",
      "model_name": "LayoutModel",
      "state": {
       "grid_gap": "5px 10px",
       "grid_template_columns": "100px auto",
       "grid_template_rows": "auto auto auto auto auto",
       "padding": "50px 0px 70px 0px",
       "width": "100%"
      }
     },
     "8d66fbbd18484bed8501bf060017250a": {
      "model_module": "@jupyter-widgets/controls",
      "model_module_version": "1.5.0",
      "model_name": "DescriptionStyleModel",
      "state": {
       "description_width": ""
      }
     },
     "8d880a5efae54a3d8b98106da7a87916": {
      "model_module": "@jupyter-widgets/controls",
      "model_module_version": "1.5.0",
      "model_name": "DescriptionStyleModel",
      "state": {
       "description_width": ""
      }
     },
     "8d954d7e97f448128b5200ce2b8a4512": {
      "model_module": "@jupyter-widgets/base",
      "model_module_version": "1.2.0",
      "model_name": "LayoutModel",
      "state": {}
     },
     "8da9280436504f97b10cfd538a203dc8": {
      "model_module": "@jupyter-widgets/base",
      "model_module_version": "1.2.0",
      "model_name": "LayoutModel",
      "state": {}
     },
     "8dbc3f06aa7544dcb947aedbe5da7f4a": {
      "model_module": "@jupyter-widgets/controls",
      "model_module_version": "1.5.0",
      "model_name": "GridBoxModel",
      "state": {
       "children": [
        "IPY_MODEL_96de72e2f37b47439dc597c46ac0c4a5",
        "IPY_MODEL_22cb56ad8db94611a4e4a3b305a6bb14",
        "IPY_MODEL_2feaa1e23957401ab77e8bed40e290fa",
        "IPY_MODEL_5de810b9a48b40a49d9eb2075abe69f0",
        "IPY_MODEL_1f653822bba247aa8977dfce147abc29",
        "IPY_MODEL_d04fdb4c0f9846dda659df923ad17e1b",
        "IPY_MODEL_5b7d47a488724c44b5bc8ca20727138a",
        "IPY_MODEL_3807cfdbf2be407b80354265b366e591",
        "IPY_MODEL_c8b92fa00bf54528ae6f1d120762aea8",
        "IPY_MODEL_5ea4061e801844f4bfd17e0ca7269ec5"
       ],
       "layout": "IPY_MODEL_623d042797c2413c9d1c5990c0346473"
      }
     },
     "8dbedc33704d49caa12b9e8355770e1c": {
      "model_module": "@jupyter-widgets/base",
      "model_module_version": "1.2.0",
      "model_name": "LayoutModel",
      "state": {}
     },
     "8dc48488ca3f416b88f5e6c8e264c572": {
      "model_module": "@jupyter-widgets/controls",
      "model_module_version": "1.5.0",
      "model_name": "HTMLModel",
      "state": {
       "layout": "IPY_MODEL_8e53b893620e4a4589e3132d6f8a2bda",
       "style": "IPY_MODEL_cddc9ac3279146e6b684510100e42fe2",
       "value": "<b>Description: </b> "
      }
     },
     "8dc98268130d47f39454c8e9000c40f8": {
      "model_module": "@jupyter-widgets/controls",
      "model_module_version": "1.5.0",
      "model_name": "HTMLModel",
      "state": {
       "layout": "IPY_MODEL_2ae7648fad2f4084be42991613adefd3",
       "style": "IPY_MODEL_73c2a1c3cbef42aeaccefb6d220ac920",
       "value": "<img src=\"./icos_jupyter_notebooks/ind_tools/img/03_icos_JNBs/st_network_characterization/GER_station_network.PNG\">"
      }
     },
     "8de13bf6d82e435dbcd5d6917015d6e1": {
      "model_module": "@jupyter-widgets/base",
      "model_module_version": "1.2.0",
      "model_name": "LayoutModel",
      "state": {
       "grid_gap": "5px 10px",
       "grid_template_columns": "100px auto",
       "grid_template_rows": "auto auto auto auto auto",
       "padding": "50px 0px 70px 0px",
       "width": "100%"
      }
     },
     "8de8c55369114387bb4cdea0d4c947f4": {
      "model_module": "@jupyter-widgets/base",
      "model_module_version": "1.2.0",
      "model_name": "LayoutModel",
      "state": {}
     },
     "8e14abaa4be04a058a9d8f7272356e79": {
      "model_module": "@jupyter-widgets/base",
      "model_module_version": "1.2.0",
      "model_name": "LayoutModel",
      "state": {}
     },
     "8e2c8382de494ce6a62a31cfc186532e": {
      "model_module": "@jupyter-widgets/controls",
      "model_module_version": "1.5.0",
      "model_name": "DescriptionStyleModel",
      "state": {
       "description_width": ""
      }
     },
     "8e53b893620e4a4589e3132d6f8a2bda": {
      "model_module": "@jupyter-widgets/base",
      "model_module_version": "1.2.0",
      "model_name": "LayoutModel",
      "state": {}
     },
     "8e558ca69a924981a662aa713d70fe1a": {
      "model_module": "@jupyter-widgets/controls",
      "model_module_version": "1.5.0",
      "model_name": "HTMLModel",
      "state": {
       "layout": "IPY_MODEL_c73ec95a2f3c42e3a52e48f513c7a055",
       "style": "IPY_MODEL_3f9f22637d224115b998ede8674eef0a",
       "value": "<b>Description: </b> "
      }
     },
     "8e7dec9e705c41268c9d92399c0e2f83": {
      "model_module": "@jupyter-widgets/base",
      "model_module_version": "1.2.0",
      "model_name": "LayoutModel",
      "state": {}
     },
     "8e8ee34619754c8da79ad195c612eed9": {
      "model_module": "@jupyter-widgets/base",
      "model_module_version": "1.2.0",
      "model_name": "LayoutModel",
      "state": {}
     },
     "8ea218e9e1424b78be9aaed6522c21e9": {
      "model_module": "@jupyter-widgets/controls",
      "model_module_version": "1.5.0",
      "model_name": "HTMLModel",
      "state": {
       "layout": "IPY_MODEL_6361b4a530d14ea691cc81d347bacd77",
       "style": "IPY_MODEL_e7a91a1cda7d42ea8c15caaa3b13f5bf",
       "value": "<b>GitHub: </b> "
      }
     },
     "8ea21aec54794e83b639967039bd8fcb": {
      "model_module": "@jupyter-widgets/base",
      "model_module_version": "1.2.0",
      "model_name": "LayoutModel",
      "state": {}
     },
     "8edbca3bb6ee41bba6c8681bde355cd8": {
      "model_module": "@jupyter-widgets/controls",
      "model_module_version": "1.5.0",
      "model_name": "HTMLModel",
      "state": {
       "layout": "IPY_MODEL_228459c1b2834753a5a92b2cdd020101",
       "style": "IPY_MODEL_b5a7c36900de46b7b390f7cf2b26cedf",
       "value": "<img src=\"./icos_jupyter_notebooks/ind_tools/img/02_pylib_ex/ex5.PNG\">"
      }
     },
     "8eff855f8cd640c3aa94c96f6cc618fb": {
      "model_module": "@jupyter-widgets/controls",
      "model_module_version": "1.5.0",
      "model_name": "DescriptionStyleModel",
      "state": {
       "description_width": ""
      }
     },
     "8f0b8c6e290242bd90b26bbb71ad5ac4": {
      "model_module": "@jupyter-widgets/controls",
      "model_module_version": "1.5.0",
      "model_name": "HTMLModel",
      "state": {
       "layout": "IPY_MODEL_33037e0390634ebd8c26a6ad64f465b6",
       "style": "IPY_MODEL_8631a211101f4f25860d542d3c5358af",
       "value": "<b>Description: </b> "
      }
     },
     "8f0de912afbc4791a104f98de3c4d7ef": {
      "model_module": "@jupyter-widgets/controls",
      "model_module_version": "1.5.0",
      "model_name": "GridBoxModel",
      "state": {
       "children": [
        "IPY_MODEL_167d46bd529146609513417a370c887e",
        "IPY_MODEL_f0916fbb9f9d485aba7b3afd99247555"
       ],
       "layout": "IPY_MODEL_a56c8d03778048c5811a0de9c9ad21a8"
      }
     },
     "8f11d1d6fd23448a8390aa1261d90a35": {
      "model_module": "@jupyter-widgets/controls",
      "model_module_version": "1.5.0",
      "model_name": "DescriptionStyleModel",
      "state": {
       "description_width": ""
      }
     },
     "8f4a96c26b634834896616b1a2e633a1": {
      "model_module": "@jupyter-widgets/controls",
      "model_module_version": "1.5.0",
      "model_name": "HTMLModel",
      "state": {
       "layout": "IPY_MODEL_f97cc73d1bdf49f49c0343e8cd848c0b",
       "style": "IPY_MODEL_bb56145447234b809f33e8c1894175b0",
       "value": "<a href=./education/PhD/upscaling_carbon_fluxes/notebooks/exercise1.ipynb target='_blank'>Introduction to Jupyter notebooks using ICOS/FLUXNET data</a>"
      }
     },
     "8f60665f36224c098a687f5a2fbc8ed0": {
      "model_module": "@jupyter-widgets/controls",
      "model_module_version": "1.5.0",
      "model_name": "HTMLModel",
      "state": {
       "layout": "IPY_MODEL_09f80b2693d04bc6bff4fc26c908c78c",
       "style": "IPY_MODEL_67a05baff0f74fa999cceb70bf2fba0d",
       "value": "<a href='https://github.com/ICOS-Carbon-Portal/jupyter/issues' target='_blank'>Click here to report an issue</a>"
      }
     },
     "8f700abcfc6e43c49c4b68d8b2563d1d": {
      "model_module": "@jupyter-widgets/base",
      "model_module_version": "1.2.0",
      "model_name": "LayoutModel",
      "state": {
       "grid_gap": "5px 10px",
       "grid_template_columns": "100px auto",
       "grid_template_rows": "auto auto auto auto auto",
       "padding": "50px 0px 70px 0px",
       "width": "100%"
      }
     },
     "8f7b4aa634594e67acef884a9d472ab9": {
      "model_module": "@jupyter-widgets/base",
      "model_module_version": "1.2.0",
      "model_name": "LayoutModel",
      "state": {}
     },
     "8f868b5ecb844851965356a141fb9049": {
      "model_module": "@jupyter-widgets/controls",
      "model_module_version": "1.5.0",
      "model_name": "DescriptionStyleModel",
      "state": {
       "description_width": ""
      }
     },
     "8fa5850b24de4a67bacb53ab7c01496a": {
      "model_module": "@jupyter-widgets/base",
      "model_module_version": "1.2.0",
      "model_name": "LayoutModel",
      "state": {}
     },
     "8fac6f9ba9374ab289a64f2097224d90": {
      "model_module": "@jupyter-widgets/controls",
      "model_module_version": "1.5.0",
      "model_name": "HTMLModel",
      "state": {
       "layout": "IPY_MODEL_83b51e3cdba54be993d55ffdffd06713",
       "style": "IPY_MODEL_8aa1338fbd8e4996b73cc06ad00cb327",
       "value": "<a href=\"mailto: jupyter-info@icos-cp.eu\">jupyter-info@icos-cp.eu</a>"
      }
     },
     "8fc0a5dcc02544d7919f68a869da9909": {
      "model_module": "@jupyter-widgets/base",
      "model_module_version": "1.2.0",
      "model_name": "LayoutModel",
      "state": {}
     },
     "8ff051e606a84e73b354da15dc8e626c": {
      "model_module": "@jupyter-widgets/controls",
      "model_module_version": "1.5.0",
      "model_name": "DescriptionStyleModel",
      "state": {
       "description_width": ""
      }
     },
     "900a07bac22148dab7f20decf4058382": {
      "model_module": "@jupyter-widgets/base",
      "model_module_version": "1.2.0",
      "model_name": "LayoutModel",
      "state": {}
     },
     "9019e725e3ea4fa29433124d0ae6bcc4": {
      "model_module": "@jupyter-widgets/controls",
      "model_module_version": "1.5.0",
      "model_name": "DescriptionStyleModel",
      "state": {
       "description_width": ""
      }
     },
     "902ef1c55c18474f92b9c2e838ad0777": {
      "model_module": "@jupyter-widgets/controls",
      "model_module_version": "1.5.0",
      "model_name": "HTMLModel",
      "state": {
       "layout": "IPY_MODEL_2954098ca0e147a586a9061825e0b43d",
       "style": "IPY_MODEL_a40b0681eeb04e0b96e29b51c70deedf",
       "value": "<img src=\"./icos_jupyter_notebooks/ind_tools/img/05_education/phd/ucf/drought2018/htm_drought2018.PNG\">"
      }
     },
     "9045b682c3374fff926fba034245934f": {
      "model_module": "@jupyter-widgets/base",
      "model_module_version": "1.2.0",
      "model_name": "LayoutModel",
      "state": {}
     },
     "90923192518f49d68f130faf5ea20ca4": {
      "model_module": "@jupyter-widgets/base",
      "model_module_version": "1.2.0",
      "model_name": "LayoutModel",
      "state": {
       "grid_gap": "5px 10px",
       "grid_template_columns": "100px auto",
       "grid_template_rows": "auto auto auto auto auto",
       "padding": "50px 0px 70px 0px",
       "width": "100%"
      }
     },
     "9093c32635754807bb77836f83c9dcca": {
      "model_module": "@jupyter-widgets/controls",
      "model_module_version": "1.5.0",
      "model_name": "GridBoxModel",
      "state": {
       "children": [
        "IPY_MODEL_b122bd67000e406692299fc547d43956",
        "IPY_MODEL_b6b9db57b7604af691c694b4a4e438b6"
       ],
       "layout": "IPY_MODEL_0c8697a9f98b4eb5a43318c5023b66f1"
      }
     },
     "909e2666e145472580f4d9d4effd4b87": {
      "model_module": "@jupyter-widgets/controls",
      "model_module_version": "1.5.0",
      "model_name": "HTMLModel",
      "state": {
       "layout": "IPY_MODEL_679f7050733f4797b9981d312eb8bd68",
       "style": "IPY_MODEL_c70cef330ed34851a2b8bba915880392",
       "value": "<b>Thumbnail: </b> "
      }
     },
     "90cba51f120441a69aa1d1fa24f55ecd": {
      "model_module": "@jupyter-widgets/controls",
      "model_module_version": "1.5.0",
      "model_name": "GridBoxModel",
      "state": {
       "children": [
        "IPY_MODEL_61ec91ad39094b30bb9cfaa52bdf946a",
        "IPY_MODEL_e4414ce51ca740ec98495be048c68d80",
        "IPY_MODEL_456843b3cf194e188c0d7ff6f61e5544",
        "IPY_MODEL_7ec3336d80264873b1f1e4456752ff24",
        "IPY_MODEL_c3fb82877c904467acb02fed0ab7e1f9",
        "IPY_MODEL_2919337e380f414884fe3d1812001504",
        "IPY_MODEL_f9fc398a30934e8299279ffe0b5843a2",
        "IPY_MODEL_4e639c19c833408490da002425013f93"
       ],
       "layout": "IPY_MODEL_426e179be5094328a971c965096f633e"
      }
     },
     "90d25779bdf84c0a80e853cdca1b5575": {
      "model_module": "@jupyter-widgets/controls",
      "model_module_version": "1.5.0",
      "model_name": "HTMLModel",
      "state": {
       "layout": "IPY_MODEL_ff81139e789f487895e56614113c1dfe",
       "style": "IPY_MODEL_ded6300408914ef9a78b7a184e4aae88",
       "value": "<b>Thumbnail: </b> "
      }
     },
     "90e67fec51e84720b51ebcf58528fd9e": {
      "model_module": "@jupyter-widgets/controls",
      "model_module_version": "1.5.0",
      "model_name": "HTMLModel",
      "state": {
       "layout": "IPY_MODEL_851244bb465842b7ae545d88462ce164",
       "style": "IPY_MODEL_db4f013f1c734c72989ba4a6a83373ac",
       "value": "<b>Title: </b> "
      }
     },
     "91119f2bbb464aa98bad140ee14d7417": {
      "model_module": "@jupyter-widgets/controls",
      "model_module_version": "1.5.0",
      "model_name": "HTMLModel",
      "state": {
       "layout": "IPY_MODEL_48b65bc13bd7442683ebab767a5c2870",
       "style": "IPY_MODEL_47b7607496504751855f48ed3a183055",
       "value": "<a href='https://github.com/ICOS-Carbon-Portal/jupyter/issues' target='_blank'>Click here to report an issue</a>"
      }
     },
     "911bc083a6bc4c039522ae9e674b3573": {
      "model_module": "@jupyter-widgets/controls",
      "model_module_version": "1.5.0",
      "model_name": "DescriptionStyleModel",
      "state": {
       "description_width": ""
      }
     },
     "914b13d9105e4848beb465bdc84b0f41": {
      "model_module": "@jupyter-widgets/controls",
      "model_module_version": "1.5.0",
      "model_name": "DescriptionStyleModel",
      "state": {
       "description_width": ""
      }
     },
     "915844518ab745bb9694ae31debfc5e4": {
      "model_module": "@jupyter-widgets/controls",
      "model_module_version": "1.5.0",
      "model_name": "DescriptionStyleModel",
      "state": {
       "description_width": ""
      }
     },
     "9164015743a4485e81e81e6d26c2abd6": {
      "model_module": "@jupyter-widgets/controls",
      "model_module_version": "1.5.0",
      "model_name": "HTMLModel",
      "state": {
       "layout": "IPY_MODEL_74b85404755348d2a6beda0f68d1b639",
       "style": "IPY_MODEL_dbd36ce6aae24c4183bcce733d2eadd9",
       "value": "<img src=\"./icos_jupyter_notebooks/ind_tools/img/03_icos_JNBs/radiocarbon/example_bokeh.PNG\">"
      }
     },
     "9165aed429ef4045b28ecde6af3ed915": {
      "model_module": "@jupyter-widgets/controls",
      "model_module_version": "1.5.0",
      "model_name": "HTMLModel",
      "state": {
       "layout": "IPY_MODEL_cbd36e34450240678ba072464e26ef3e",
       "style": "IPY_MODEL_52df6400dd2b430cb89cecb3af7b662c",
       "value": "<a href=\"mailto: jupyter-info@icos-cp.eu\">jupyter-info@icos-cp.eu</a>"
      }
     },
     "9177cc3f32d7492dbeb8a7d6cf8e6a66": {
      "model_module": "@jupyter-widgets/controls",
      "model_module_version": "1.5.0",
      "model_name": "DescriptionStyleModel",
      "state": {
       "description_width": ""
      }
     },
     "9179fee955184be5a563d541d6bbd124": {
      "model_module": "@jupyter-widgets/controls",
      "model_module_version": "1.5.0",
      "model_name": "DescriptionStyleModel",
      "state": {
       "description_width": ""
      }
     },
     "91c8459d04e64e63941a5de6a63ee351": {
      "model_module": "@jupyter-widgets/controls",
      "model_module_version": "1.5.0",
      "model_name": "DescriptionStyleModel",
      "state": {
       "description_width": ""
      }
     },
     "91cfa6d515214ad7b6d3869962986ac3": {
      "model_module": "@jupyter-widgets/controls",
      "model_module_version": "1.5.0",
      "model_name": "DescriptionStyleModel",
      "state": {
       "description_width": ""
      }
     },
     "91d473b83b864d3d85e391366523842f": {
      "model_module": "@jupyter-widgets/controls",
      "model_module_version": "1.5.0",
      "model_name": "DescriptionStyleModel",
      "state": {
       "description_width": ""
      }
     },
     "924039f83c0d4018bb21e9a162ffc77c": {
      "model_module": "@jupyter-widgets/controls",
      "model_module_version": "1.5.0",
      "model_name": "DescriptionStyleModel",
      "state": {
       "description_width": ""
      }
     },
     "924615f0c1d144529d16fb1939e9aec0": {
      "model_module": "@jupyter-widgets/base",
      "model_module_version": "1.2.0",
      "model_name": "LayoutModel",
      "state": {}
     },
     "925aa72c806d42f299a53c55d89f41a8": {
      "model_module": "@jupyter-widgets/base",
      "model_module_version": "1.2.0",
      "model_name": "LayoutModel",
      "state": {}
     },
     "926e504a2a3b4cf6ae3e5ddb761546f4": {
      "model_module": "@jupyter-widgets/base",
      "model_module_version": "1.2.0",
      "model_name": "LayoutModel",
      "state": {}
     },
     "92775ce204214b268ec94954984dc9d0": {
      "model_module": "@jupyter-widgets/base",
      "model_module_version": "1.2.0",
      "model_name": "LayoutModel",
      "state": {}
     },
     "929e28877a8d4f28aabe767282161750": {
      "model_module": "@jupyter-widgets/controls",
      "model_module_version": "1.5.0",
      "model_name": "HTMLModel",
      "state": {
       "layout": "IPY_MODEL_751ad8f92ceb46ae87aded038be730bb",
       "style": "IPY_MODEL_8b23db83be474d13afcfa7665d6cac1b",
       "value": "<a href=\"mailto: jupyter-info@icos-cp.eu\">jupyter-info@icos-cp.eu</a>, <a href=\"mailto: Maj-Lena.Linderson@nateko.lu.se\">Maj-Lena.Linderson@nateko.lu.se</a>"
      }
     },
     "92a5638ecd06479697802207df9a9a7f": {
      "model_module": "@jupyter-widgets/controls",
      "model_module_version": "1.5.0",
      "model_name": "DescriptionStyleModel",
      "state": {
       "description_width": ""
      }
     },
     "92b5b71e48634e3c81b8706b2df58d4b": {
      "model_module": "@jupyter-widgets/base",
      "model_module_version": "1.2.0",
      "model_name": "LayoutModel",
      "state": {}
     },
     "92c7db163c8f44629544254337c06369": {
      "model_module": "@jupyter-widgets/controls",
      "model_module_version": "1.5.0",
      "model_name": "DescriptionStyleModel",
      "state": {
       "description_width": ""
      }
     },
     "92db72f48ae643a499a1ba2d30b2901c": {
      "model_module": "@jupyter-widgets/base",
      "model_module_version": "1.2.0",
      "model_name": "LayoutModel",
      "state": {
       "grid_gap": "5px 10px",
       "grid_template_columns": "100px auto",
       "grid_template_rows": "auto auto auto auto auto",
       "padding": "50px 0px 70px 0px",
       "width": "100%"
      }
     },
     "92e3ac41ffb5467f894da60492419528": {
      "model_module": "@jupyter-widgets/controls",
      "model_module_version": "1.5.0",
      "model_name": "HTMLModel",
      "state": {
       "layout": "IPY_MODEL_7e5e133dea034dfbbc94a919e48dfaa7",
       "style": "IPY_MODEL_eae4c082dd204b4ab616626c28b0b570",
       "value": "<b>Contact: </b> "
      }
     },
     "92e59107e02e4feab3cdf8fec2ec0b52": {
      "model_module": "@jupyter-widgets/controls",
      "model_module_version": "1.5.0",
      "model_name": "DescriptionStyleModel",
      "state": {
       "description_width": ""
      }
     },
     "92f6e3b528044442abb401add352b239": {
      "model_module": "@jupyter-widgets/controls",
      "model_module_version": "1.5.0",
      "model_name": "HTMLModel",
      "state": {
       "layout": "IPY_MODEL_b1965cca76f04c2d920a93b673311b65",
       "style": "IPY_MODEL_f0d5a0ea216a4a54a419f524b90e8dea",
       "value": "<a href='https://github.com/ICOS-Carbon-Portal/jupyter/issues' target='_blank'>Click here to report an issue</a>"
      }
     },
     "92fdeab613f142169000f1febfae0814": {
      "model_module": "@jupyter-widgets/controls",
      "model_module_version": "1.5.0",
      "model_name": "DescriptionStyleModel",
      "state": {
       "description_width": ""
      }
     },
     "93135b4ed4e041f980849a6b0a243880": {
      "model_module": "@jupyter-widgets/base",
      "model_module_version": "1.2.0",
      "model_name": "LayoutModel",
      "state": {}
     },
     "933330e8ddc849a5a1dfe8381694bc1d": {
      "model_module": "@jupyter-widgets/controls",
      "model_module_version": "1.5.0",
      "model_name": "DescriptionStyleModel",
      "state": {
       "description_width": ""
      }
     },
     "933339c420314f4f8a605c150b0d8fb2": {
      "model_module": "@jupyter-widgets/controls",
      "model_module_version": "1.5.0",
      "model_name": "DescriptionStyleModel",
      "state": {
       "description_width": ""
      }
     },
     "936c13e49fb8435dafabe6ba2c840c4e": {
      "model_module": "@jupyter-widgets/base",
      "model_module_version": "1.2.0",
      "model_name": "LayoutModel",
      "state": {}
     },
     "937bc0a36e6647fd941715f5ef60fc28": {
      "model_module": "@jupyter-widgets/controls",
      "model_module_version": "1.5.0",
      "model_name": "HTMLModel",
      "state": {
       "layout": "IPY_MODEL_0d905b3484b54678a505c2833a033dc3",
       "style": "IPY_MODEL_d026e71d182d4f00b02941d125298984",
       "value": "<img src=\"./icos_jupyter_notebooks/ind_tools/img/04_proj_JNBs/otc_drw/ex1.PNG\">"
      }
     },
     "938efa51925f415ab8a66df65003a62e": {
      "model_module": "@jupyter-widgets/controls",
      "model_module_version": "1.5.0",
      "model_name": "GridBoxModel",
      "state": {
       "children": [
        "IPY_MODEL_70a4d9762f9d4de69cc33aae72dadf36",
        "IPY_MODEL_485b755c85614929b0b5c068398987d3",
        "IPY_MODEL_b75da7cdcd8a4f3aba7d15dfa5d537f6",
        "IPY_MODEL_bb2fc336708f41759d29247429c0552c",
        "IPY_MODEL_d4ed2740a9d64fc794193c47558f0845",
        "IPY_MODEL_76aa42007f9d4c07b8c70056e29e2350",
        "IPY_MODEL_e3fa7e05d9624e039f1689562faff3f2",
        "IPY_MODEL_fc7b68170d2a4c539b9c12f08b8e5317",
        "IPY_MODEL_7d4b6d7d035d4fd2a357b5185bbc348a",
        "IPY_MODEL_d5b0dbef2610469b88716ce804f0af00"
       ],
       "layout": "IPY_MODEL_b3502c225e704da8ac8a1a78b71c893f"
      }
     },
     "9397f9988f234e9a8729d14c8b3e1163": {
      "model_module": "@jupyter-widgets/controls",
      "model_module_version": "1.5.0",
      "model_name": "DescriptionStyleModel",
      "state": {
       "description_width": ""
      }
     },
     "93a652c383f641b592632cbcd9b7dfaf": {
      "model_module": "@jupyter-widgets/base",
      "model_module_version": "1.2.0",
      "model_name": "LayoutModel",
      "state": {}
     },
     "93b1e1a9dccf4202a3537ac7645a14ef": {
      "model_module": "@jupyter-widgets/base",
      "model_module_version": "1.2.0",
      "model_name": "LayoutModel",
      "state": {}
     },
     "93cef92992e44835bf2d311e722460dc": {
      "model_module": "@jupyter-widgets/controls",
      "model_module_version": "1.5.0",
      "model_name": "DescriptionStyleModel",
      "state": {
       "description_width": ""
      }
     },
     "93e5d34d60e349b5ab139104546c3dcb": {
      "model_module": "@jupyter-widgets/base",
      "model_module_version": "1.2.0",
      "model_name": "LayoutModel",
      "state": {}
     },
     "9432014c48f143a193bbdece7591403a": {
      "model_module": "@jupyter-widgets/base",
      "model_module_version": "1.2.0",
      "model_name": "LayoutModel",
      "state": {
       "grid_gap": "5px 10px",
       "grid_template_columns": "100px auto",
       "grid_template_rows": "auto auto auto auto auto",
       "padding": "50px 0px 70px 0px",
       "width": "100%"
      }
     },
     "945825b0d890461894e9a4a4d21e65b4": {
      "model_module": "@jupyter-widgets/controls",
      "model_module_version": "1.5.0",
      "model_name": "HTMLModel",
      "state": {
       "layout": "IPY_MODEL_a36cddacea3748f6b7c8a88e20cc5444",
       "style": "IPY_MODEL_ca995f0a3f6e4d239fa721db1308031e",
       "value": "<img src=\"./icos_jupyter_notebooks/ind_tools/img/05_education/phd/ucf/station_ex/station_class.PNG\">"
      }
     },
     "9474511d811245cdb8ebc77667d95728": {
      "model_module": "@jupyter-widgets/controls",
      "model_module_version": "1.5.0",
      "model_name": "DescriptionStyleModel",
      "state": {
       "description_width": ""
      }
     },
     "94842f633d414e05b9b1e459f22a1085": {
      "model_module": "@jupyter-widgets/base",
      "model_module_version": "1.2.0",
      "model_name": "LayoutModel",
      "state": {}
     },
     "9487a831e254464aa06b12ffa645ce80": {
      "model_module": "@jupyter-widgets/controls",
      "model_module_version": "1.5.0",
      "model_name": "GridBoxModel",
      "state": {
       "children": [
        "IPY_MODEL_edd462060550462bb04d743a0166e351",
        "IPY_MODEL_bb15ff8d84144e4f83cb6789029033ff",
        "IPY_MODEL_da37fb5d4e8844889947eec5b873847e",
        "IPY_MODEL_f9f81364533643b793a2c333855f23fc",
        "IPY_MODEL_ed27ebba533642a7876abc76c3b00e1f",
        "IPY_MODEL_bc024840dc2b4235b8d337d5528dbae1",
        "IPY_MODEL_bf8f2ad959d44853a822e1fbecc7d865",
        "IPY_MODEL_c5441eed2c8d49d5ba2e30a1ff359185",
        "IPY_MODEL_7a854d3122ad40ffb1524fb00c0d189a",
        "IPY_MODEL_7ed5397f00fb46ca836f746785f438f3"
       ],
       "layout": "IPY_MODEL_2f22e4c9df744780b8a3d1e4e7b04591"
      }
     },
     "94a79796d88849348910b38cb8db93fa": {
      "model_module": "@jupyter-widgets/base",
      "model_module_version": "1.2.0",
      "model_name": "LayoutModel",
      "state": {}
     },
     "94c3d78ab64847cfa336373241223a30": {
      "model_module": "@jupyter-widgets/controls",
      "model_module_version": "1.5.0",
      "model_name": "HTMLModel",
      "state": {
       "layout": "IPY_MODEL_ae120c40fbfa4da9b8a63a64fe5de987",
       "style": "IPY_MODEL_1fe60897cc73422c8ba1c2d673cb044e",
       "value": "<a href='https://github.com/ICOS-Carbon-Portal/jupyter/issues' target='_blank'>Click here to report an issue</a>"
      }
     },
     "94c8a82d584e43cca78881151a48fc99": {
      "model_module": "@jupyter-widgets/controls",
      "model_module_version": "1.5.0",
      "model_name": "DescriptionStyleModel",
      "state": {
       "description_width": ""
      }
     },
     "94e6d04ba44b44c496610efdf1e7af17": {
      "model_module": "@jupyter-widgets/controls",
      "model_module_version": "1.5.0",
      "model_name": "HTMLModel",
      "state": {
       "layout": "IPY_MODEL_afb313f11d0841ea98376b643bca650c",
       "style": "IPY_MODEL_8cf51cb61a484a5fbe893276dc51c8b3",
       "value": "<b>GitHub: </b> "
      }
     },
     "94e8260801de4e2493a9ba788d56491a": {
      "model_module": "@jupyter-widgets/base",
      "model_module_version": "1.2.0",
      "model_name": "LayoutModel",
      "state": {}
     },
     "94eb6d529d7c4fd0a88c3457407c3353": {
      "model_module": "@jupyter-widgets/controls",
      "model_module_version": "1.5.0",
      "model_name": "DescriptionStyleModel",
      "state": {
       "description_width": ""
      }
     },
     "94ec66a692894db3a3b4f9b94e202130": {
      "model_module": "@jupyter-widgets/controls",
      "model_module_version": "1.5.0",
      "model_name": "HTMLModel",
      "state": {
       "layout": "IPY_MODEL_23795793f5854b71a1088a23177ccfe9",
       "style": "IPY_MODEL_64c443494c2f462f9da9f6b8efad33d7",
       "value": "<b>GitHub: </b> "
      }
     },
     "94ff97c2335b46619bc3c9c7e0b090af": {
      "model_module": "@jupyter-widgets/base",
      "model_module_version": "1.2.0",
      "model_name": "LayoutModel",
      "state": {}
     },
     "951072b3b84b46dea7b47effda1af069": {
      "model_module": "@jupyter-widgets/base",
      "model_module_version": "1.2.0",
      "model_name": "LayoutModel",
      "state": {}
     },
     "952b36169b43400aaa00f2a1c93d82b7": {
      "model_module": "@jupyter-widgets/controls",
      "model_module_version": "1.5.0",
      "model_name": "DescriptionStyleModel",
      "state": {
       "description_width": ""
      }
     },
     "953c6e2b739d4549a4ceab2ae60d6614": {
      "model_module": "@jupyter-widgets/base",
      "model_module_version": "1.2.0",
      "model_name": "LayoutModel",
      "state": {}
     },
     "956ec9f2e5f34d8898fbb9f8b119d280": {
      "model_module": "@jupyter-widgets/controls",
      "model_module_version": "1.5.0",
      "model_name": "HTMLModel",
      "state": {
       "layout": "IPY_MODEL_2429e327b39c4b8188190e1639889476",
       "style": "IPY_MODEL_5957e611e8f044caaddecddebd02e995",
       "value": "<a href=./icos_jupyter_notebooks/ccgcrv.ipynb target='_blank'>Curve fitting methods for CO2 time series</a>"
      }
     },
     "95792ef29c09400db601322043365819": {
      "model_module": "@jupyter-widgets/controls",
      "model_module_version": "1.5.0",
      "model_name": "HTMLModel",
      "state": {
       "layout": "IPY_MODEL_bfe4755c8c3a42ad886bad614195e675",
       "style": "IPY_MODEL_dd880b73efd54a3785006f52281889a6",
       "value": "<b>Contact: </b> "
      }
     },
     "9580472bf1674c5faa01a00e2403692d": {
      "model_module": "@jupyter-widgets/controls",
      "model_module_version": "1.5.0",
      "model_name": "HTMLModel",
      "state": {
       "layout": "IPY_MODEL_2ab9a8da654e4c80b3b5da99e424b498",
       "style": "IPY_MODEL_9c16cf60338c438e871c9c7de07be40b",
       "value": "<img src=\"./icos_jupyter_notebooks/ind_tools/img/02_pylib_ex/ex2.PNG\">"
      }
     },
     "9590d005cfd141d29c8dac4de0a4df62": {
      "model_module": "@jupyter-widgets/controls",
      "model_module_version": "1.5.0",
      "model_name": "DescriptionStyleModel",
      "state": {
       "description_width": ""
      }
     },
     "9593730732e848d1a254b2483efb8b70": {
      "model_module": "@jupyter-widgets/base",
      "model_module_version": "1.2.0",
      "model_name": "LayoutModel",
      "state": {}
     },
     "95e53d61fa0644f3b60a4a4846475942": {
      "model_module": "@jupyter-widgets/controls",
      "model_module_version": "1.5.0",
      "model_name": "DescriptionStyleModel",
      "state": {
       "description_width": ""
      }
     },
     "9605b8a0d4a64e34babed4068c1f04f7": {
      "model_module": "@jupyter-widgets/base",
      "model_module_version": "1.2.0",
      "model_name": "LayoutModel",
      "state": {}
     },
     "960dd07966544527ba7d272453a8b245": {
      "model_module": "@jupyter-widgets/controls",
      "model_module_version": "1.5.0",
      "model_name": "DescriptionStyleModel",
      "state": {
       "description_width": ""
      }
     },
     "96117b48b2164a9e858f911afd0a02e1": {
      "model_module": "@jupyter-widgets/controls",
      "model_module_version": "1.5.0",
      "model_name": "DescriptionStyleModel",
      "state": {
       "description_width": ""
      }
     },
     "963325707b2d4970ba80cc01aad1b043": {
      "model_module": "@jupyter-widgets/controls",
      "model_module_version": "1.5.0",
      "model_name": "DescriptionStyleModel",
      "state": {
       "description_width": ""
      }
     },
     "965104bdff5c48b0a9991ed64cbe2e0f": {
      "model_module": "@jupyter-widgets/controls",
      "model_module_version": "1.5.0",
      "model_name": "DescriptionStyleModel",
      "state": {
       "description_width": ""
      }
     },
     "9682dec3a5ab4529ab1c224979fbc281": {
      "model_module": "@jupyter-widgets/controls",
      "model_module_version": "1.5.0",
      "model_name": "HTMLModel",
      "state": {
       "layout": "IPY_MODEL_a0deb7a1031740e1ab2c73006b9e7465",
       "style": "IPY_MODEL_132a61c7420946f6adde1c734372a0ac",
       "value": "<b>Contact: </b> "
      }
     },
     "969e73020c2c43d3b98695763ac72674": {
      "model_module": "@jupyter-widgets/controls",
      "model_module_version": "1.5.0",
      "model_name": "AccordionModel",
      "state": {
       "_titles": {
        "0": "Introduction",
        "1": "Pylib examples",
        "2": "ICOS Jupyter notebooks",
        "3": "Project Jupyter notebooks",
        "4": "Education"
       },
       "children": [
        "IPY_MODEL_54a95b7e0a9047598f76fb9519a3e283",
        "IPY_MODEL_d1a77e55c5d94e04a17a56e5b824968d",
        "IPY_MODEL_b741f692818045dab1f465717031a25a",
        "IPY_MODEL_9093c32635754807bb77836f83c9dcca",
        "IPY_MODEL_04a9e7427df84861bbc81461197f96e1"
       ],
       "layout": "IPY_MODEL_60fc334bcefd47c599ae0109a3d4761e",
       "selected_index": null
      }
     },
     "96a94ce5e3d44c85a5e69f9f667cfc58": {
      "model_module": "@jupyter-widgets/controls",
      "model_module_version": "1.5.0",
      "model_name": "DescriptionStyleModel",
      "state": {
       "description_width": ""
      }
     },
     "96cd3d6e9edc43e8a1b29ce909cd505f": {
      "model_module": "@jupyter-widgets/controls",
      "model_module_version": "1.5.0",
      "model_name": "HTMLModel",
      "state": {
       "layout": "IPY_MODEL_7a0906765a704643bb43bca13e136cbc",
       "style": "IPY_MODEL_3d5f109b99584980aff66cd5b403d197",
       "value": "<a href=\"mailto: jupyter-info@icos-cp.eu\">jupyter-info@icos-cp.eu</a>, <a href=\"mailto: ida.storm@nateko.lu.se\">ida.storm@nateko.lu.se</a>"
      }
     },
     "96cf224ee027487abd0a05f11ff17902": {
      "model_module": "@jupyter-widgets/base",
      "model_module_version": "1.2.0",
      "model_name": "LayoutModel",
      "state": {}
     },
     "96de72e2f37b47439dc597c46ac0c4a5": {
      "model_module": "@jupyter-widgets/controls",
      "model_module_version": "1.5.0",
      "model_name": "HTMLModel",
      "state": {
       "layout": "IPY_MODEL_bd6503b60b0b47ae99552351fc00f385",
       "style": "IPY_MODEL_64861ad0f3ea48e0bf7d252767e6f0e3",
       "value": "<b>Title: </b> "
      }
     },
     "96ded38333e04fcc845ce22dc956df9d": {
      "model_module": "@jupyter-widgets/base",
      "model_module_version": "1.2.0",
      "model_name": "LayoutModel",
      "state": {}
     },
     "96e4290098fc43e0b3c1c4cc4b88d71a": {
      "model_module": "@jupyter-widgets/controls",
      "model_module_version": "1.5.0",
      "model_name": "HTMLModel",
      "state": {
       "layout": "IPY_MODEL_f43aa6ca6f884b60ac4ea6f5d823371e",
       "style": "IPY_MODEL_7cf75ed6167e482b88126b867c8d69d1",
       "value": "<b>Title: </b> "
      }
     },
     "9701ff688cbc4f67a5471f62fb208f22": {
      "model_module": "@jupyter-widgets/controls",
      "model_module_version": "1.5.0",
      "model_name": "HTMLModel",
      "state": {
       "layout": "IPY_MODEL_7308399bba0647659735e57ef482ccca",
       "style": "IPY_MODEL_ad3d773082aa4ca3b3636b786455751a",
       "value": "<img src=\"./icos_jupyter_notebooks/ind_tools/img/03_icos_JNBs/icos_ao_stats/gat_co_co2.PNG\">"
      }
     },
     "97028eff24704791ba7a1da6720bc838": {
      "model_module": "@jupyter-widgets/controls",
      "model_module_version": "1.5.0",
      "model_name": "HTMLModel",
      "state": {
       "layout": "IPY_MODEL_aeeea971a1ae4a37b0af25680dc97ee1",
       "style": "IPY_MODEL_5ba73aec263a4b8a9a9dfae66af1e12b",
       "value": "<a href=./pylib_examples/ex3_multisource.ipynb target='_blank'>ICOS Carbon Portal Python Library - Multisource</a>"
      }
     },
     "971494ea0ce14e85847d3a30481a52d4": {
      "model_module": "@jupyter-widgets/controls",
      "model_module_version": "1.5.0",
      "model_name": "DescriptionStyleModel",
      "state": {
       "description_width": ""
      }
     },
     "97182910d9894f1aae7feb930fc05b56": {
      "model_module": "@jupyter-widgets/base",
      "model_module_version": "1.2.0",
      "model_name": "LayoutModel",
      "state": {}
     },
     "9726579cfa0a477691a96874efdb6e6d": {
      "model_module": "@jupyter-widgets/controls",
      "model_module_version": "1.5.0",
      "model_name": "HTMLModel",
      "state": {
       "layout": "IPY_MODEL_de81a639203e440c98e6d145f64ce271",
       "style": "IPY_MODEL_b07a31d69c02421faebb8ee12448e19d",
       "value": "<b>Thumbnail: </b> "
      }
     },
     "9757017402354415b32ce3071bc05ce0": {
      "model_module": "@jupyter-widgets/controls",
      "model_module_version": "1.5.0",
      "model_name": "HTMLModel",
      "state": {
       "layout": "IPY_MODEL_8d36109dd38446a39df6ed7c367ed0c4",
       "style": "IPY_MODEL_d54edf5b641844d6be3420392b9f8558",
       "value": "<a href='https://github.com/ICOS-Carbon-Portal/jupyter/issues' target='_blank'>Click here to report an issue</a>"
      }
     },
     "977e75525db84b839ff404963cc7e1e3": {
      "model_module": "@jupyter-widgets/base",
      "model_module_version": "1.2.0",
      "model_name": "LayoutModel",
      "state": {}
     },
     "9783c78417274d4196c72587a11c0459": {
      "model_module": "@jupyter-widgets/controls",
      "model_module_version": "1.5.0",
      "model_name": "HTMLModel",
      "state": {
       "layout": "IPY_MODEL_3014e3c1a8194b2a82f5917336edd1c9",
       "style": "IPY_MODEL_b5f36e6cb1404dafb2af936eeda6d70f",
       "value": "<a href=./education/General/carbon_cycle_drought.ipynb target='_blank'>Carbon cycle & drought</a>"
      }
     },
     "979333b871ab473e966e0b2430ff851a": {
      "model_module": "@jupyter-widgets/controls",
      "model_module_version": "1.5.0",
      "model_name": "HTMLModel",
      "state": {
       "layout": "IPY_MODEL_823d82a17f5d425887221231646c0c76",
       "style": "IPY_MODEL_9a85b01c0bb54c3bb37303ad665aff33",
       "value": "<b>Title: </b> "
      }
     },
     "9799bac4c17046d0b470fa3c0224ba9c": {
      "model_module": "@jupyter-widgets/base",
      "model_module_version": "1.2.0",
      "model_name": "LayoutModel",
      "state": {}
     },
     "979b711040da40e399179f226cae8f30": {
      "model_module": "@jupyter-widgets/base",
      "model_module_version": "1.2.0",
      "model_name": "LayoutModel",
      "state": {}
     },
     "97a99efb58ca49ce8308bc0504b0383b": {
      "model_module": "@jupyter-widgets/base",
      "model_module_version": "1.2.0",
      "model_name": "LayoutModel",
      "state": {
       "grid_gap": "5px 10px",
       "grid_template_columns": "auto",
       "grid_template_rows": "auto",
       "padding": "5px 0px 5px 0px",
       "width": "100%"
      }
     },
     "97b1c077beed40d391c40a7469148f07": {
      "model_module": "@jupyter-widgets/base",
      "model_module_version": "1.2.0",
      "model_name": "LayoutModel",
      "state": {}
     },
     "97bbf585863e4c7ea3c615d04842681d": {
      "model_module": "@jupyter-widgets/controls",
      "model_module_version": "1.5.0",
      "model_name": "HTMLModel",
      "state": {
       "layout": "IPY_MODEL_221227d31b7d46a080b07208a5b931f7",
       "style": "IPY_MODEL_0d791e4d02b948d6a4292903829c6d5b",
       "value": "<a href=./project_jupyter_notebooks/OTC%20Data%20Reduction%20Workshop/Data%20Reduction%20part%202%20-%20UWpCO2.ipynb target='_blank'>pCO₂ Data Reduction part 2 - UWpCO2</a>"
      }
     },
     "97ee3f90a6704308b52d5b96e705f175": {
      "model_module": "@jupyter-widgets/controls",
      "model_module_version": "1.5.0",
      "model_name": "HTMLModel",
      "state": {
       "layout": "IPY_MODEL_08e1242ded29442da3dbf548e4f853dd",
       "style": "IPY_MODEL_aad972c01f4d447788089e25e1527fef",
       "value": "<b>Title: </b> "
      }
     },
     "98005f56da5440c48a4c67d54cd9fbe0": {
      "model_module": "@jupyter-widgets/base",
      "model_module_version": "1.2.0",
      "model_name": "LayoutModel",
      "state": {}
     },
     "986ada70b5e04044a17e7629d93105db": {
      "model_module": "@jupyter-widgets/controls",
      "model_module_version": "1.5.0",
      "model_name": "HTMLModel",
      "state": {
       "layout": "IPY_MODEL_446502fa094c422397c74fef2fe335f1",
       "style": "IPY_MODEL_844024c3155a4ffa8f415249499ab6e2",
       "value": "<b>Title: </b> "
      }
     },
     "987e3e1b7cdb4b76ba22cc4981b6944a": {
      "model_module": "@jupyter-widgets/base",
      "model_module_version": "1.2.0",
      "model_name": "LayoutModel",
      "state": {}
     },
     "988728ad88014b9488cc1cbf84e0dc91": {
      "model_module": "@jupyter-widgets/base",
      "model_module_version": "1.2.0",
      "model_name": "LayoutModel",
      "state": {}
     },
     "988766006712436b879d8cfd689f0d5a": {
      "model_module": "@jupyter-widgets/controls",
      "model_module_version": "1.5.0",
      "model_name": "HTMLModel",
      "state": {
       "layout": "IPY_MODEL_1e8e40179b824912b34392fccb0d0933",
       "style": "IPY_MODEL_6832b4645af742e9b04a888c3bdba7ab",
       "value": "<b>Thumbnail: </b> "
      }
     },
     "988c8c985a4246e1981c2298c9b954cb": {
      "model_module": "@jupyter-widgets/controls",
      "model_module_version": "1.5.0",
      "model_name": "DescriptionStyleModel",
      "state": {
       "description_width": ""
      }
     },
     "988dc457569548209c9e32a4ac1e50a2": {
      "model_module": "@jupyter-widgets/controls",
      "model_module_version": "1.5.0",
      "model_name": "HTMLModel",
      "state": {
       "layout": "IPY_MODEL_833f2d4753ac41b1bae68ef8eb8f26a5",
       "style": "IPY_MODEL_faf4d8f968154229b4a0f5d97ef2607b",
       "value": "<b>Thumbnail: </b> "
      }
     },
     "98951f3831b948cb9ca70544d2479938": {
      "model_module": "@jupyter-widgets/base",
      "model_module_version": "1.2.0",
      "model_name": "LayoutModel",
      "state": {}
     },
     "98967a802ef44af1a13f4669107b9bab": {
      "model_module": "@jupyter-widgets/controls",
      "model_module_version": "1.5.0",
      "model_name": "GridBoxModel",
      "state": {
       "children": [
        "IPY_MODEL_0633c8d49ed24873bf16733c9bb18dfa",
        "IPY_MODEL_ea25726d612949a88692eea15b59a970",
        "IPY_MODEL_db1e91d43df44f2297c3d4ba9eff5e7f",
        "IPY_MODEL_212bad923cbe404c8a45071a61bc38b6",
        "IPY_MODEL_a615b17d00fa49d8aab0b33977aa91f9",
        "IPY_MODEL_31d688cb56eb48ffbb76dd1bd9369e3b",
        "IPY_MODEL_d11079f8966e4d8787976ce7ee2cc3bb",
        "IPY_MODEL_e410f64e128f4109a121ec79fdd1346d",
        "IPY_MODEL_2877217c1bec4acbbc3c63909a246fde",
        "IPY_MODEL_24f689355c714c25995f159564c220b6"
       ],
       "layout": "IPY_MODEL_812768ca08ad41818248f7a61b9c5122"
      }
     },
     "989787138f314650a63842836e084715": {
      "model_module": "@jupyter-widgets/controls",
      "model_module_version": "1.5.0",
      "model_name": "HTMLModel",
      "state": {
       "layout": "IPY_MODEL_da7d38097a6444ed850e4cbb431eb648",
       "style": "IPY_MODEL_54bf1f5ce27343f882ed5eec8b50907e",
       "value": "<b>Contact: </b> "
      }
     },
     "98ba8007adeb4b81aa72256ada8e3e53": {
      "model_module": "@jupyter-widgets/base",
      "model_module_version": "1.2.0",
      "model_name": "LayoutModel",
      "state": {}
     },
     "98d63a9ca0714b64912b5d97f4aac35d": {
      "model_module": "@jupyter-widgets/base",
      "model_module_version": "1.2.0",
      "model_name": "LayoutModel",
      "state": {}
     },
     "98d9dbf1cb074213be3774f809bb3eeb": {
      "model_module": "@jupyter-widgets/base",
      "model_module_version": "1.2.0",
      "model_name": "LayoutModel",
      "state": {}
     },
     "98ff4aed3fd84547b0244773c4e6684b": {
      "model_module": "@jupyter-widgets/base",
      "model_module_version": "1.2.0",
      "model_name": "LayoutModel",
      "state": {}
     },
     "991764ba1652488bb6ad95f274826b22": {
      "model_module": "@jupyter-widgets/controls",
      "model_module_version": "1.5.0",
      "model_name": "HTMLModel",
      "state": {
       "layout": "IPY_MODEL_249f5ab4a05a4c7b87b653c33635d4e6",
       "style": "IPY_MODEL_f8218b949f3a4942b18320afbaaac53d",
       "value": "<a href='https://github.com/ICOS-Carbon-Portal/jupyter/issues' target='_blank'>Click here to report an issue</a>"
      }
     },
     "991dc07e3384460f963d40c6276b9738": {
      "model_module": "@jupyter-widgets/controls",
      "model_module_version": "1.5.0",
      "model_name": "HTMLModel",
      "state": {
       "layout": "IPY_MODEL_cea35257f3e74636a1df4c83ace076da",
       "style": "IPY_MODEL_0575dd1473b34a0f8cb0631a086e0db3",
       "value": "<b>Contact: </b> "
      }
     },
     "99417520762d4c9187d7b7611c52f45b": {
      "model_module": "@jupyter-widgets/controls",
      "model_module_version": "1.5.0",
      "model_name": "HTMLModel",
      "state": {
       "layout": "IPY_MODEL_03a5f101e872454eb2ebfbabfd0d8487",
       "style": "IPY_MODEL_537f931a5d504899b88722d0460a5dfe",
       "value": "<b>Description: </b> "
      }
     },
     "9966c23817e54583ad7c62607dc13542": {
      "model_module": "@jupyter-widgets/controls",
      "model_module_version": "1.5.0",
      "model_name": "DescriptionStyleModel",
      "state": {
       "description_width": ""
      }
     },
     "997bdab938b6481b85fea9c30b612d5d": {
      "model_module": "@jupyter-widgets/controls",
      "model_module_version": "1.5.0",
      "model_name": "AccordionModel",
      "state": {
       "_titles": {
        "0": "Upscaling carbon fluxes"
       },
       "children": [
        "IPY_MODEL_ae8cd59ab52a4a388ae9680a8074837b"
       ],
       "layout": "IPY_MODEL_3e3c36aa6a254204a5e44e2793063552",
       "selected_index": null
      }
     },
     "99937d8a3ee24f62883b6bd5c95d02da": {
      "model_module": "@jupyter-widgets/controls",
      "model_module_version": "1.5.0",
      "model_name": "HTMLModel",
      "state": {
       "layout": "IPY_MODEL_a62a291c914744fb8aff1dc647f8782d",
       "style": "IPY_MODEL_ae330400e67b4759888b535c29a4909d",
       "value": "<img src=\"./icos_jupyter_notebooks/ind_tools/img/04_proj_JNBs/otc_drw/ex3.PNG\">"
      }
     },
     "99a8c434939348d5b6ed6857b494503c": {
      "model_module": "@jupyter-widgets/base",
      "model_module_version": "1.2.0",
      "model_name": "LayoutModel",
      "state": {}
     },
     "99a90455545b4c91a465105fbcf081a0": {
      "model_module": "@jupyter-widgets/controls",
      "model_module_version": "1.5.0",
      "model_name": "HTMLModel",
      "state": {
       "layout": "IPY_MODEL_04c45b557a2b4e9190bf7376f1bfd6b2",
       "style": "IPY_MODEL_9e2f4b8dcffe46dbbef31a46c87e3119",
       "value": "<a href=./project_jupyter_notebooks/envrifair_winterschool/map/exercise3_station.ipynb target='_blank'>Exercise 3 - Research Station Map</a>"
      }
     },
     "99aff9b9abfb4173933ba3f35dca50af": {
      "model_module": "@jupyter-widgets/controls",
      "model_module_version": "1.5.0",
      "model_name": "DescriptionStyleModel",
      "state": {
       "description_width": ""
      }
     },
     "99b1f292db65459596b4d4c42ed85d55": {
      "model_module": "@jupyter-widgets/controls",
      "model_module_version": "1.5.0",
      "model_name": "HTMLModel",
      "state": {
       "layout": "IPY_MODEL_4e59c77dcd8742c58c6d19f68b7f77b8",
       "style": "IPY_MODEL_a7633b9ee59d4160adf104b77118e905",
       "value": "<b>Title: </b> "
      }
     },
     "99d312fe3bf2496fac2b8a869d050ae5": {
      "model_module": "@jupyter-widgets/controls",
      "model_module_version": "1.5.0",
      "model_name": "DescriptionStyleModel",
      "state": {
       "description_width": ""
      }
     },
     "99d761bd206842c8b5e257b4f1803647": {
      "model_module": "@jupyter-widgets/controls",
      "model_module_version": "1.5.0",
      "model_name": "GridBoxModel",
      "state": {
       "children": [
        "IPY_MODEL_23c862e10afd421b86c20590df632ef9",
        "IPY_MODEL_87e6bcf5b07b417589460ea4e0f6f4e9",
        "IPY_MODEL_2e3ac3e5c9e9475ea015d32eb9b19a69",
        "IPY_MODEL_66b4dbf120004a4a88d38aa6160b0ece",
        "IPY_MODEL_b89919a860374c169053c1029cb016bc",
        "IPY_MODEL_5e245ea97f524376832daba3917cdb44",
        "IPY_MODEL_7a065a92895d4fefbc4b31f701cdfa50",
        "IPY_MODEL_a9cf27660a1a48cf97d14e50e0588461",
        "IPY_MODEL_563038d2d13e4748afb09f3ec8f167fb",
        "IPY_MODEL_ec2dabc7cc4c4ad69652c95318116b89"
       ],
       "layout": "IPY_MODEL_ddcf212e9dbc4ac08c7334c8e5b1b33f"
      }
     },
     "99e8790d09d3400b99a44702703f258f": {
      "model_module": "@jupyter-widgets/controls",
      "model_module_version": "1.5.0",
      "model_name": "DescriptionStyleModel",
      "state": {
       "description_width": ""
      }
     },
     "99f29b0c0e3d451a82079f411fdd14c2": {
      "model_module": "@jupyter-widgets/controls",
      "model_module_version": "1.5.0",
      "model_name": "HTMLModel",
      "state": {
       "layout": "IPY_MODEL_52cea513770f40fd830a551bc53e11db",
       "style": "IPY_MODEL_115e3a9a32f541d8b85c2cf7f540c5d4",
       "value": "<a href=./icos_jupyter_notebooks/icos_atmObs_statistics.ipynb target='_blank'>ICOS atmospheric observation statistics</a>"
      }
     },
     "99fa16f1aa374e178eaf440704063542": {
      "model_module": "@jupyter-widgets/base",
      "model_module_version": "1.2.0",
      "model_name": "LayoutModel",
      "state": {}
     },
     "99fd518b08ce43df907ad23e22f95bff": {
      "model_module": "@jupyter-widgets/controls",
      "model_module_version": "1.5.0",
      "model_name": "DescriptionStyleModel",
      "state": {
       "description_width": ""
      }
     },
     "99ff544ecceb4278b7dfbb32fa1b9258": {
      "model_module": "@jupyter-widgets/base",
      "model_module_version": "1.2.0",
      "model_name": "LayoutModel",
      "state": {}
     },
     "9a043a1087ff45eeab2bac85b324b6fe": {
      "model_module": "@jupyter-widgets/base",
      "model_module_version": "1.2.0",
      "model_name": "LayoutModel",
      "state": {}
     },
     "9a0b6649c51541e1bd37fc428c86d98b": {
      "model_module": "@jupyter-widgets/controls",
      "model_module_version": "1.5.0",
      "model_name": "HTMLModel",
      "state": {
       "layout": "IPY_MODEL_a7987af8bca34fcdb169c01e19730c77",
       "style": "IPY_MODEL_4108b7acd7dd489590f7e4c08923808d",
       "value": "<a href=./education/PhD/upscaling_carbon_fluxes/notebooks/exercise2.ipynb target='_blank'>Vegetation modelling & inverse modelling</a>"
      }
     },
     "9a387ed85c58418e8eb83b567bbe8ef4": {
      "model_module": "@jupyter-widgets/controls",
      "model_module_version": "1.5.0",
      "model_name": "DescriptionStyleModel",
      "state": {
       "description_width": ""
      }
     },
     "9a3ccaba36bc488480ce17098f683071": {
      "model_module": "@jupyter-widgets/controls",
      "model_module_version": "1.5.0",
      "model_name": "DescriptionStyleModel",
      "state": {
       "description_width": ""
      }
     },
     "9a774a4b73de49eeb2a7f2bbd2bec5e4": {
      "model_module": "@jupyter-widgets/controls",
      "model_module_version": "1.5.0",
      "model_name": "HTMLModel",
      "state": {
       "layout": "IPY_MODEL_b932ce52dbf3426d8be35946cf9e1fa6",
       "style": "IPY_MODEL_ce62960746d8480b87f8cc8de9fd0c3a",
       "value": "<b>Description: </b> "
      }
     },
     "9a85b01c0bb54c3bb37303ad665aff33": {
      "model_module": "@jupyter-widgets/controls",
      "model_module_version": "1.5.0",
      "model_name": "DescriptionStyleModel",
      "state": {
       "description_width": ""
      }
     },
     "9a99bce0c18a47b1a0de67b24b69e98c": {
      "model_module": "@jupyter-widgets/base",
      "model_module_version": "1.2.0",
      "model_name": "LayoutModel",
      "state": {}
     },
     "9a9e02c61c2a40ffbdf82b3ad0ecabaa": {
      "model_module": "@jupyter-widgets/controls",
      "model_module_version": "1.5.0",
      "model_name": "DescriptionStyleModel",
      "state": {
       "description_width": ""
      }
     },
     "9a9e2b81ae6c4f519d2d90740eaef82f": {
      "model_module": "@jupyter-widgets/controls",
      "model_module_version": "1.5.0",
      "model_name": "DescriptionStyleModel",
      "state": {
       "description_width": ""
      }
     },
     "9aa59e19fe5e483e8f8a6f7ac09ca9df": {
      "model_module": "@jupyter-widgets/controls",
      "model_module_version": "1.5.0",
      "model_name": "GridBoxModel",
      "state": {
       "children": [
        "IPY_MODEL_480e63df628b4ac4998690aaab2ba1fc",
        "IPY_MODEL_2a768e1058a2419e9e89316f13df4ef9",
        "IPY_MODEL_7697d32a478442989738d3ee061c6f60",
        "IPY_MODEL_cb107d4ed1764208a0d62956bf1cd7e7",
        "IPY_MODEL_a7627f4d5827478286482dab6564b93a",
        "IPY_MODEL_a2559e7f6bb94f07bcb7e3fbcefade62",
        "IPY_MODEL_84d298508dd84e49b999400df553f03c",
        "IPY_MODEL_894b67cc50c54647a9535d857e2b952b",
        "IPY_MODEL_cf1b4a481a824c8d9ff55edf186903e6",
        "IPY_MODEL_b0a07caeacd44ac2a9422ccae8482f1b"
       ],
       "layout": "IPY_MODEL_8f700abcfc6e43c49c4b68d8b2563d1d"
      }
     },
     "9ab2fea7c3e84478987e2f202ad42b10": {
      "model_module": "@jupyter-widgets/controls",
      "model_module_version": "1.5.0",
      "model_name": "DescriptionStyleModel",
      "state": {
       "description_width": ""
      }
     },
     "9abc83589b7946d08fb8dd4aa73cb44e": {
      "model_module": "@jupyter-widgets/controls",
      "model_module_version": "1.5.0",
      "model_name": "HTMLModel",
      "state": {
       "layout": "IPY_MODEL_dfc5376c86b140b48ca58ed819413896",
       "style": "IPY_MODEL_6fd657b84419490c899f1816ddd32f4a",
       "value": "<a href=./education/PhD/upscaling_carbon_fluxes/notebooks/inspect_lpjguess.ipynb target='_blank'>Inspect LPJ-GUESS modelled values</a>"
      }
     },
     "9b0b0f69c47e4a6d879a52f857601830": {
      "model_module": "@jupyter-widgets/controls",
      "model_module_version": "1.5.0",
      "model_name": "HTMLModel",
      "state": {
       "layout": "IPY_MODEL_f1faffc7196f401bb716b3097ef365de",
       "style": "IPY_MODEL_aa9901d6699e4d948f0e2b0d0747f93c",
       "value": "This Jupyter Notebook is dedicated to explaining the carbon cycle and focuses on topics regarding daily and yearly fluctuations in the concentration of carbon dioxide. It contains definitions, short descriptions, figures and animations that describe the following terms: <b>carbon dioxide</b>, <b>carbon cycle</b>, <b>carbon sinks</b> and <b>carbon sources</b>. You will be able to test your knowledge on carbon by taking the <i>Carbon Challenge Quiz</i>. In order to better comprehend the carbon cycle, the notebook also includes exercises using ICOS data from Svartberget research station in Sweden. The exercises are based on topics related to the uptake and release of carbon dioxide amongst different parts of an ecosystem."
      }
     },
     "9b13544839354c9885a8cd2d6ec0dcda": {
      "model_module": "@jupyter-widgets/controls",
      "model_module_version": "1.5.0",
      "model_name": "DescriptionStyleModel",
      "state": {
       "description_width": ""
      }
     },
     "9b24240696164541a3ea438620b20484": {
      "model_module": "@jupyter-widgets/controls",
      "model_module_version": "1.5.0",
      "model_name": "HTMLModel",
      "state": {
       "layout": "IPY_MODEL_b06fc162f32441ac8a66762a856ce833",
       "style": "IPY_MODEL_7e3c65b404024b7cb590f611cf7cf844",
       "value": "This Jupyter notebook is showcasing how to search for stations (for which <a href='http://stilt-model.org/index.php/Main/HomePage' target='_blank'>STILT</a> model results are available for) using the ICOS Carbon Portal Python library. Full documentation for the ICOS library is available on the <a href='https://icos-carbon-portal.github.io/pylib/' target='_blank'>project page</a>, how to install and wheel on <a href='https://pypi.org/project/icoscp/' target='_blank'>pypi.org</a>, source available on <a href='https://github.com/ICOS-Carbon-Portal/pylib' target='_blank'>GitHub</a>."
      }
     },
     "9b38fdf9fde34ddfae77cf33ff5a907c": {
      "model_module": "@jupyter-widgets/controls",
      "model_module_version": "1.5.0",
      "model_name": "DescriptionStyleModel",
      "state": {
       "description_width": ""
      }
     },
     "9b539977163b482db3ec5ec1cf81f84b": {
      "model_module": "@jupyter-widgets/controls",
      "model_module_version": "1.5.0",
      "model_name": "DescriptionStyleModel",
      "state": {
       "description_width": ""
      }
     },
     "9b958b1ebff440b487e2641a06bbc372": {
      "model_module": "@jupyter-widgets/base",
      "model_module_version": "1.2.0",
      "model_name": "LayoutModel",
      "state": {
       "grid_gap": "5px 10px",
       "grid_template_columns": "100px auto",
       "grid_template_rows": "auto auto auto auto auto",
       "padding": "50px 0px 70px 0px",
       "width": "100%"
      }
     },
     "9bbf413af6a242138a605a461d821bd4": {
      "model_module": "@jupyter-widgets/controls",
      "model_module_version": "1.5.0",
      "model_name": "DescriptionStyleModel",
      "state": {
       "description_width": ""
      }
     },
     "9bdc04294b924b8e86b5c4c8b91624c3": {
      "model_module": "@jupyter-widgets/controls",
      "model_module_version": "1.5.0",
      "model_name": "HTMLModel",
      "state": {
       "layout": "IPY_MODEL_53bb46c7251748c2bd4e92c8c7477268",
       "style": "IPY_MODEL_d110668415f845628b413ebd18b1d102",
       "value": "<b>Title: </b> "
      }
     },
     "9beac58f6c804136a15ce7d4604a824e": {
      "model_module": "@jupyter-widgets/base",
      "model_module_version": "1.2.0",
      "model_name": "LayoutModel",
      "state": {}
     },
     "9bec1153f2614084a74232e56d6cbcbc": {
      "model_module": "@jupyter-widgets/base",
      "model_module_version": "1.2.0",
      "model_name": "LayoutModel",
      "state": {}
     },
     "9bf88fa97761433c8ddce5a190d3f2f9": {
      "model_module": "@jupyter-widgets/base",
      "model_module_version": "1.2.0",
      "model_name": "LayoutModel",
      "state": {
       "grid_gap": "5px 10px",
       "grid_template_columns": "auto",
       "grid_template_rows": "auto",
       "padding": "5px 0px 5px 0px",
       "width": "100%"
      }
     },
     "9c0ecba831e14c44b2b89c001fea840d": {
      "model_module": "@jupyter-widgets/controls",
      "model_module_version": "1.5.0",
      "model_name": "DescriptionStyleModel",
      "state": {
       "description_width": ""
      }
     },
     "9c16cf60338c438e871c9c7de07be40b": {
      "model_module": "@jupyter-widgets/controls",
      "model_module_version": "1.5.0",
      "model_name": "DescriptionStyleModel",
      "state": {
       "description_width": ""
      }
     },
     "9c19c113911d41adb772bb1836672b98": {
      "model_module": "@jupyter-widgets/base",
      "model_module_version": "1.2.0",
      "model_name": "LayoutModel",
      "state": {}
     },
     "9c298bc7a8db408e808e46cc627ac162": {
      "model_module": "@jupyter-widgets/base",
      "model_module_version": "1.2.0",
      "model_name": "LayoutModel",
      "state": {}
     },
     "9c6919d1516143e9bd14ac56b73c3ca0": {
      "model_module": "@jupyter-widgets/controls",
      "model_module_version": "1.5.0",
      "model_name": "AccordionModel",
      "state": {
       "_titles": {
        "0": "General",
        "1": "MSc_BSc",
        "2": "PhD"
       },
       "children": [
        "IPY_MODEL_f565eb7d20874e4f90e03f423ecea3b1",
        "IPY_MODEL_031ffb2e113545d59485f5a9bb6a681f",
        "IPY_MODEL_29e558b60c58496a967f3e6a1ab0f23c"
       ],
       "layout": "IPY_MODEL_07730ec3dbf24a7f9fc9e4cfb7be4fb6",
       "selected_index": null
      }
     },
     "9c87dc5e65dc4bf6a9589e166f6cea03": {
      "model_module": "@jupyter-widgets/controls",
      "model_module_version": "1.5.0",
      "model_name": "DescriptionStyleModel",
      "state": {
       "description_width": ""
      }
     },
     "9c9f898c2225477e8de868d1730ecaf2": {
      "model_module": "@jupyter-widgets/controls",
      "model_module_version": "1.5.0",
      "model_name": "DescriptionStyleModel",
      "state": {
       "description_width": ""
      }
     },
     "9cb4da8ed82f41c6bfc9238cbb45b61d": {
      "model_module": "@jupyter-widgets/base",
      "model_module_version": "1.2.0",
      "model_name": "LayoutModel",
      "state": {}
     },
     "9ccdbfa81b5c4ac0911e5604b2cd3789": {
      "model_module": "@jupyter-widgets/controls",
      "model_module_version": "1.5.0",
      "model_name": "GridBoxModel",
      "state": {
       "children": [
        "IPY_MODEL_79215a13a0c341f58f58da5e7fd5dbb7",
        "IPY_MODEL_41ad40e713434f89af0070fbaa0a0f19"
       ],
       "layout": "IPY_MODEL_9bf88fa97761433c8ddce5a190d3f2f9"
      }
     },
     "9cd6a70904bf4eaa8a84f798fedb65ad": {
      "model_module": "@jupyter-widgets/controls",
      "model_module_version": "1.5.0",
      "model_name": "DescriptionStyleModel",
      "state": {
       "description_width": ""
      }
     },
     "9cf9066d707d482fabda89d0379aabd0": {
      "model_module": "@jupyter-widgets/base",
      "model_module_version": "1.2.0",
      "model_name": "LayoutModel",
      "state": {}
     },
     "9cfbae4298574832aefc94a31e5b9b70": {
      "model_module": "@jupyter-widgets/controls",
      "model_module_version": "1.5.0",
      "model_name": "DescriptionStyleModel",
      "state": {
       "description_width": ""
      }
     },
     "9d32ea29216e4461bb8300f4743046c7": {
      "model_module": "@jupyter-widgets/controls",
      "model_module_version": "1.5.0",
      "model_name": "AccordionModel",
      "state": {
       "_titles": {
        "0": "Carbon cycle & drought",
        "1": "Carbon cycle - Hyltemossa",
        "2": "Carbon cycle - Svartberget"
       },
       "children": [
        "IPY_MODEL_1a007117351549cd83bb82099e4b04a0",
        "IPY_MODEL_b8ad553c2c514ecfadb24dff27238f99",
        "IPY_MODEL_eb83a55579204e14967ea7952576dc68"
       ],
       "layout": "IPY_MODEL_e209cfcb814744fdbe7d8828565e680b",
       "selected_index": null
      }
     },
     "9d5826f602d04753bf23050689da4609": {
      "model_module": "@jupyter-widgets/controls",
      "model_module_version": "1.5.0",
      "model_name": "GridBoxModel",
      "state": {
       "children": [
        "IPY_MODEL_3212db850be44535a953f5cf8571793d",
        "IPY_MODEL_fd15142917f24f009210c085f7c58fee",
        "IPY_MODEL_47d81543876e430c90c0b2a47336777b",
        "IPY_MODEL_12cbea8d40d94da993981b698c9280fb",
        "IPY_MODEL_d22f57162fbc493cb601fb83224b01ba",
        "IPY_MODEL_136ee70c7afc4457a2871004d8c8d835",
        "IPY_MODEL_5066af974a0640958b3371cda54dcfd0",
        "IPY_MODEL_b9c2dd95d63444c1b863fb2369a821d2",
        "IPY_MODEL_9726579cfa0a477691a96874efdb6e6d",
        "IPY_MODEL_69527be621124faa9f190adc7bcdb104"
       ],
       "layout": "IPY_MODEL_08297a22b8ee4187aaae9d363846e635"
      }
     },
     "9d95857513974c44939e96b6fa6e63c4": {
      "model_module": "@jupyter-widgets/base",
      "model_module_version": "1.2.0",
      "model_name": "LayoutModel",
      "state": {}
     },
     "9d9bc3abf8754177873fdff61be8af4e": {
      "model_module": "@jupyter-widgets/base",
      "model_module_version": "1.2.0",
      "model_name": "LayoutModel",
      "state": {}
     },
     "9d9f97d0f616419ea54d0b33369b29c9": {
      "model_module": "@jupyter-widgets/base",
      "model_module_version": "1.2.0",
      "model_name": "LayoutModel",
      "state": {}
     },
     "9da0797d9a054d9b979c2121eb6754cc": {
      "model_module": "@jupyter-widgets/controls",
      "model_module_version": "1.5.0",
      "model_name": "HTMLModel",
      "state": {
       "layout": "IPY_MODEL_63c44c23bca24444a7de97f33433b43c",
       "style": "IPY_MODEL_5e77a04641cf47a1882c8ea2f992ae2c",
       "value": "<a href='https://github.com/ICOS-Carbon-Portal/jupyter/issues' target='_blank'>Click here to report an issue</a>"
      }
     },
     "9da2f668ad464a4c82a8731fec6d129d": {
      "model_module": "@jupyter-widgets/controls",
      "model_module_version": "1.5.0",
      "model_name": "DescriptionStyleModel",
      "state": {
       "description_width": ""
      }
     },
     "9daedee2a7ef4ca082e294cf023ebfcd": {
      "model_module": "@jupyter-widgets/controls",
      "model_module_version": "1.5.0",
      "model_name": "HTMLModel",
      "state": {
       "layout": "IPY_MODEL_64f003918bda4d44b414602e3d53c88e",
       "style": "IPY_MODEL_9177cc3f32d7492dbeb8a7d6cf8e6a66",
       "value": "<b>GitHub: </b> "
      }
     },
     "9db42975f77d40a1bfb20b63a4ef1e93": {
      "model_module": "@jupyter-widgets/controls",
      "model_module_version": "1.5.0",
      "model_name": "AccordionModel",
      "state": {
       "_titles": {
        "0": "Curve fitting methods for CO2 time series",
        "1": "Explore ICOS atmospheric observations",
        "2": "ICOS atmospheric observation statistics",
        "3": "ICOS atmospheric observations vs STILT modelled values",
        "4": "ICOS data availability table",
        "5": "Characterization of networks of atmospheric measurement stations",
        "6": "Radiocarbon",
        "7": "Characterization of atmospheric measurement stations",
        "8": "Visualization of average footprints"
       },
       "children": [
        "IPY_MODEL_8018fcfe463044a7ba7eb67ae371b4e5",
        "IPY_MODEL_8dbc3f06aa7544dcb947aedbe5da7f4a",
        "IPY_MODEL_af47ea3f4d7a440ea60df2bc84346bc6",
        "IPY_MODEL_9d5826f602d04753bf23050689da4609",
        "IPY_MODEL_e7c9f027b5e546a3900092da96dc66a0",
        "IPY_MODEL_5c08641e9f0e45139264f9f7b87dfe00",
        "IPY_MODEL_938efa51925f415ab8a66df65003a62e",
        "IPY_MODEL_c3adf4b9c9874db1a181f7a91fb45b21",
        "IPY_MODEL_1765b85483674298b3af6f2b7110d94d"
       ],
       "layout": "IPY_MODEL_829cdecfc0394b7ebc5db6019cfe94ba",
       "selected_index": null
      }
     },
     "9dcccebf545647f59948fd0511b3c25e": {
      "model_module": "@jupyter-widgets/controls",
      "model_module_version": "1.5.0",
      "model_name": "HTMLModel",
      "state": {
       "layout": "IPY_MODEL_4593bfdd14074297a55d2825b0c6fed9",
       "style": "IPY_MODEL_74a9dd88023447128772d011ef2e6dd4",
       "value": "This category includes notebooks that use ICOS data to introduce students to basic principles of climate science and programming."
      }
     },
     "9dcd305becbf4997929904fe07c27fac": {
      "model_module": "@jupyter-widgets/controls",
      "model_module_version": "1.5.0",
      "model_name": "DescriptionStyleModel",
      "state": {
       "description_width": ""
      }
     },
     "9dfb9620b9c3448fa77668d65d63144b": {
      "model_module": "@jupyter-widgets/controls",
      "model_module_version": "1.5.0",
      "model_name": "DescriptionStyleModel",
      "state": {
       "description_width": ""
      }
     },
     "9e1699ab70e64d70815f82256d3d6891": {
      "model_module": "@jupyter-widgets/controls",
      "model_module_version": "1.5.0",
      "model_name": "HTMLModel",
      "state": {
       "layout": "IPY_MODEL_26c9633e39404e62a1cc7e6bf1158cda",
       "style": "IPY_MODEL_a655a75666004f4eb8be48ae9ce40b2f",
       "value": "<img src=\"./icos_jupyter_notebooks/ind_tools/img/05_education/phd/ucf/ex4/edgar_ff.PNG\">"
      }
     },
     "9e2ba285b4ab4f93b6a58718e24fc5c6": {
      "model_module": "@jupyter-widgets/base",
      "model_module_version": "1.2.0",
      "model_name": "LayoutModel",
      "state": {}
     },
     "9e2f4b8dcffe46dbbef31a46c87e3119": {
      "model_module": "@jupyter-widgets/controls",
      "model_module_version": "1.5.0",
      "model_name": "DescriptionStyleModel",
      "state": {
       "description_width": ""
      }
     },
     "9e5649ab3a5d42a5a39df5651a0cb93d": {
      "model_module": "@jupyter-widgets/controls",
      "model_module_version": "1.5.0",
      "model_name": "DescriptionStyleModel",
      "state": {
       "description_width": ""
      }
     },
     "9e5d51c3eabe4a3dbe6086f22ab923cd": {
      "model_module": "@jupyter-widgets/base",
      "model_module_version": "1.2.0",
      "model_name": "LayoutModel",
      "state": {}
     },
     "9ea939370b214241949c4849fceaaae3": {
      "model_module": "@jupyter-widgets/controls",
      "model_module_version": "1.5.0",
      "model_name": "HTMLModel",
      "state": {
       "layout": "IPY_MODEL_93e5d34d60e349b5ab139104546c3dcb",
       "style": "IPY_MODEL_7ef84050632b4c8ca3839b3036200910",
       "value": "<a href=\"mailto: jupyter-info@icos-cp.eu\">jupyter-info@icos-cp.eu</a>, <a href=\"mailto: claudio.donofrio@nateko.lu.se\">claudio.donofrio@nateko.lu.se</a>"
      }
     },
     "9ead4d28c32e4b019090053c568c5d6d": {
      "model_module": "@jupyter-widgets/base",
      "model_module_version": "1.2.0",
      "model_name": "LayoutModel",
      "state": {}
     },
     "9eca6faff4804783a43304dc56a8e470": {
      "model_module": "@jupyter-widgets/base",
      "model_module_version": "1.2.0",
      "model_name": "LayoutModel",
      "state": {}
     },
     "9ee1edb22395484e93b29cb927995415": {
      "model_module": "@jupyter-widgets/controls",
      "model_module_version": "1.5.0",
      "model_name": "DescriptionStyleModel",
      "state": {
       "description_width": ""
      }
     },
     "9ee7242791b3441596dbfccb1f2c6045": {
      "model_module": "@jupyter-widgets/controls",
      "model_module_version": "1.5.0",
      "model_name": "GridBoxModel",
      "state": {
       "children": [
        "IPY_MODEL_d653d41236f846d1acb861b40dbf2643",
        "IPY_MODEL_f0c15c0bb7e44fb392f63310ed1ab2fd",
        "IPY_MODEL_dcfa669f0e894fa29ca4720df7b50e74",
        "IPY_MODEL_2ef035abe9d040308581ca99b8b89150",
        "IPY_MODEL_aca2004cd151401595d90d6589985e57",
        "IPY_MODEL_fe31078167b34e7698dde7cd3ed4bba4",
        "IPY_MODEL_107ebab1245e4d9e9900b1213615cee5",
        "IPY_MODEL_d6199127611d4b38a96e9c46761f6ab2",
        "IPY_MODEL_7cc198dcf2db40d98976bb9582e505b3",
        "IPY_MODEL_945825b0d890461894e9a4a4d21e65b4"
       ],
       "layout": "IPY_MODEL_693807721f344cefac7a129bdaef729e"
      }
     },
     "9ef8724162074c089268d3ce9503d634": {
      "model_module": "@jupyter-widgets/base",
      "model_module_version": "1.2.0",
      "model_name": "LayoutModel",
      "state": {}
     },
     "9f26e6c4c6944f669b5360c4414a1e98": {
      "model_module": "@jupyter-widgets/base",
      "model_module_version": "1.2.0",
      "model_name": "LayoutModel",
      "state": {}
     },
     "9f30bfc524d344729635479a150ce908": {
      "model_module": "@jupyter-widgets/controls",
      "model_module_version": "1.5.0",
      "model_name": "DescriptionStyleModel",
      "state": {
       "description_width": ""
      }
     },
     "9f57343186bf41c7ac8d6f5f1674f339": {
      "model_module": "@jupyter-widgets/controls",
      "model_module_version": "1.5.0",
      "model_name": "HTMLModel",
      "state": {
       "layout": "IPY_MODEL_7d68fdd55c934c568bc3e8d18d17b88c",
       "style": "IPY_MODEL_436c104703a64f94ba6e210a98a04835",
       "value": "<img src=\"./icos_jupyter_notebooks/ind_tools/img/03_icos_JNBs/avg_fp_viz/gui.PNG\">"
      }
     },
     "9f7a53ea6b4340f18a12b2703d966a96": {
      "model_module": "@jupyter-widgets/controls",
      "model_module_version": "1.5.0",
      "model_name": "HTMLModel",
      "state": {
       "layout": "IPY_MODEL_28f75b43ce154c4facdec4f32c9419c8",
       "style": "IPY_MODEL_2cb7865629ea44b29588044b0824c0e7",
       "value": "<a href=\"mailto: jupyter-info@icos-cp.eu\">jupyter-info@icos-cp.eu</a>"
      }
     },
     "9f8d821145bb43d08d9545be64b78c3c": {
      "model_module": "@jupyter-widgets/controls",
      "model_module_version": "1.5.0",
      "model_name": "DescriptionStyleModel",
      "state": {
       "description_width": ""
      }
     },
     "9fc1418ae6044150ac6c768679cdbde6": {
      "model_module": "@jupyter-widgets/controls",
      "model_module_version": "1.5.0",
      "model_name": "HTMLModel",
      "state": {
       "layout": "IPY_MODEL_7634cb37f159439db867b347992f8906",
       "style": "IPY_MODEL_43a2c4ab6d6d4fba993f39fafbdc280b",
       "value": "<a href='https://github.com/ICOS-Carbon-Portal/jupyter/issues' target='_blank'>Click here to report an issue</a>"
      }
     },
     "9feb4c979d414c3cacfd59db5c914716": {
      "model_module": "@jupyter-widgets/controls",
      "model_module_version": "1.5.0",
      "model_name": "DescriptionStyleModel",
      "state": {
       "description_width": ""
      }
     },
     "9fee7c41f988458db6e7516bce3d115d": {
      "model_module": "@jupyter-widgets/controls",
      "model_module_version": "1.5.0",
      "model_name": "HTMLModel",
      "state": {
       "layout": "IPY_MODEL_b8f73e05f3e042e795643af859865981",
       "style": "IPY_MODEL_b3decc5f68994e6a87ad8a3fd22b1ecc",
       "value": "<a href=./education/PhD/upscaling_carbon_fluxes/notebooks/exercise4.ipynb target='_blank'>Estimating national budgets</a>"
      }
     },
     "9ff3f72d205d440598d17275a13e4c1b": {
      "model_module": "@jupyter-widgets/controls",
      "model_module_version": "1.5.0",
      "model_name": "DescriptionStyleModel",
      "state": {
       "description_width": ""
      }
     },
     "a039a403fcd041fc9c94870d084bad04": {
      "model_module": "@jupyter-widgets/controls",
      "model_module_version": "1.5.0",
      "model_name": "DescriptionStyleModel",
      "state": {
       "description_width": ""
      }
     },
     "a047b1cf7d6347b586740d9fac3b3419": {
      "model_module": "@jupyter-widgets/controls",
      "model_module_version": "1.5.0",
      "model_name": "HTMLModel",
      "state": {
       "layout": "IPY_MODEL_d6c3321b9c874c1db36d5f91143e7940",
       "style": "IPY_MODEL_f2bc0195986046ce9c4020d53c208131",
       "value": "<b>Contact: </b> "
      }
     },
     "a04a85a6583940c98b68a5ace0c9a6c8": {
      "model_module": "@jupyter-widgets/controls",
      "model_module_version": "1.5.0",
      "model_name": "HTMLModel",
      "state": {
       "layout": "IPY_MODEL_beb08b1093c64d01ae0d8d2ae4e27219",
       "style": "IPY_MODEL_2c1cbd7f49cb44a2b21cb6b62e5f8964",
       "value": "<b>Title: </b> "
      }
     },
     "a09c7d4fee034740bb6fca78ef8f37e9": {
      "model_module": "@jupyter-widgets/controls",
      "model_module_version": "1.5.0",
      "model_name": "HTMLModel",
      "state": {
       "layout": "IPY_MODEL_583cfc76f0cc40088d84de21e45a3428",
       "style": "IPY_MODEL_e893d4b3f9be4f8bb24077b0ea61029d",
       "value": "In this Jupyter notebook, we will plot all ICOS Research Stations on an interactive map."
      }
     },
     "a0c1a77579cb467689296b65bf6849fe": {
      "model_module": "@jupyter-widgets/base",
      "model_module_version": "1.2.0",
      "model_name": "LayoutModel",
      "state": {}
     },
     "a0de54d8540845ef851314f399012153": {
      "model_module": "@jupyter-widgets/controls",
      "model_module_version": "1.5.0",
      "model_name": "HTMLModel",
      "state": {
       "layout": "IPY_MODEL_282f823a24d149bba3fe8a412d514529",
       "style": "IPY_MODEL_c2eb14d97eda40f4a9d3116bdabd1927",
       "value": "<b>Description: </b> "
      }
     },
     "a0deb7a1031740e1ab2c73006b9e7465": {
      "model_module": "@jupyter-widgets/base",
      "model_module_version": "1.2.0",
      "model_name": "LayoutModel",
      "state": {}
     },
     "a0f0eef3ed2c40ecb4547fd0eb2f7b62": {
      "model_module": "@jupyter-widgets/controls",
      "model_module_version": "1.5.0",
      "model_name": "HTMLModel",
      "state": {
       "layout": "IPY_MODEL_5ab8b50201cb4d25aeea2cc1dad451a3",
       "style": "IPY_MODEL_4172d69d362d4a8590fcdc08023b4474",
       "value": "<b>Thumbnail: </b> "
      }
     },
     "a0f9928cf2f34b17813d4ab0464bbdc7": {
      "model_module": "@jupyter-widgets/controls",
      "model_module_version": "1.5.0",
      "model_name": "HTMLModel",
      "state": {
       "layout": "IPY_MODEL_3d6fe06bfa8749e5b8087a57b035310b",
       "style": "IPY_MODEL_012d7abfa25c4586a821f8261d7aab4b",
       "value": "This is a test version of a Jupyter notebook to present some principles of diffusion of 𝐶𝑂2 in the soil. The exercise also introduces Jupyter Notebook as an working environment. This notebook combines (explaining) text with coding cells that contain the simulation model."
      }
     },
     "a110415f0af54c35a7659f17c2b94ef2": {
      "model_module": "@jupyter-widgets/controls",
      "model_module_version": "1.5.0",
      "model_name": "HTMLModel",
      "state": {
       "layout": "IPY_MODEL_19e383dcc5a944cfb8b29de4104b8060",
       "style": "IPY_MODEL_bd71680b9cfa49c999f9639f813b2abd",
       "value": "<img src=\"./icos_jupyter_notebooks/ind_tools/img/04_proj_JNBs/ringo_t1_3/fossilfuel_gui.PNG\">"
      }
     },
     "a117fe14e99c4062a6df358f467640f7": {
      "model_module": "@jupyter-widgets/controls",
      "model_module_version": "1.5.0",
      "model_name": "HTMLModel",
      "state": {
       "layout": "IPY_MODEL_81e123f4de854aeca4061b65e44a8306",
       "style": "IPY_MODEL_29d67aafda72471d97502f5d66e477f0",
       "value": "This notebook includes examples of curve fitting methods for time series. For more detailed information regarding the implemented methods visit NOAA. The curve fitting methods are applied over CO2 measurements from ICOS stations as well as a selection of non-ICOS stations. Data from all stations are included in the Drought 2018 Atmospheric Product (part of the Drought 2018 Project) which is stored and can be downloaded from the ICOS Carbon Portal."
      }
     },
     "a11b90b47ce449d6b3d1dad39baa0b27": {
      "model_module": "@jupyter-widgets/controls",
      "model_module_version": "1.5.0",
      "model_name": "GridBoxModel",
      "state": {
       "children": [
        "IPY_MODEL_96e4290098fc43e0b3c1c4cc4b88d71a",
        "IPY_MODEL_4a42afec605d4a158f827cd387db8b70",
        "IPY_MODEL_8e558ca69a924981a662aa713d70fe1a",
        "IPY_MODEL_a585857e49264e83b72e68b1930a6beb",
        "IPY_MODEL_f3eb3bda52594f4eb3b905b6d8c4fa4b",
        "IPY_MODEL_a182b3f1d23a4d279a89b77ffe487010",
        "IPY_MODEL_78cf449b58f84af0a2e5113ab659bd75",
        "IPY_MODEL_f70b87f7f8f2483e877c7f5e0aadf40d",
        "IPY_MODEL_10a1b0abeee24981b214436b815dd26b",
        "IPY_MODEL_2c9277c9e4d44561a84d662f720cbdfc"
       ],
       "layout": "IPY_MODEL_d9b2c4fcb46f4c0d8d8583351968c394"
      }
     },
     "a12e08e9ae564b4fa27cdac32b25bb7e": {
      "model_module": "@jupyter-widgets/base",
      "model_module_version": "1.2.0",
      "model_name": "LayoutModel",
      "state": {}
     },
     "a16011efb4a0430abd0cfd660282ab0e": {
      "model_module": "@jupyter-widgets/controls",
      "model_module_version": "1.5.0",
      "model_name": "DescriptionStyleModel",
      "state": {
       "description_width": ""
      }
     },
     "a16bdd0e0aca4326b8e1ba1b3769b5ef": {
      "model_module": "@jupyter-widgets/base",
      "model_module_version": "1.2.0",
      "model_name": "LayoutModel",
      "state": {}
     },
     "a182b3f1d23a4d279a89b77ffe487010": {
      "model_module": "@jupyter-widgets/controls",
      "model_module_version": "1.5.0",
      "model_name": "HTMLModel",
      "state": {
       "layout": "IPY_MODEL_d22a16cd73874bd7a701f82feae5004e",
       "style": "IPY_MODEL_ec3c957babc74c58b0b9e4ea3499849e",
       "value": "<a href=\"mailto: jupyter-info@icos-cp.eu\">jupyter-info@icos-cp.eu</a>"
      }
     },
     "a1931692d21c463d96c82366449061ad": {
      "model_module": "@jupyter-widgets/base",
      "model_module_version": "1.2.0",
      "model_name": "LayoutModel",
      "state": {}
     },
     "a1b51d5c95774ccbac4bb87438b87080": {
      "model_module": "@jupyter-widgets/base",
      "model_module_version": "1.2.0",
      "model_name": "LayoutModel",
      "state": {}
     },
     "a1e32147e5d34f91ae966fc253757d4e": {
      "model_module": "@jupyter-widgets/base",
      "model_module_version": "1.2.0",
      "model_name": "LayoutModel",
      "state": {}
     },
     "a1efe3cd694f471eac1409405ff3c49d": {
      "model_module": "@jupyter-widgets/controls",
      "model_module_version": "1.5.0",
      "model_name": "DescriptionStyleModel",
      "state": {
       "description_width": ""
      }
     },
     "a215e433e72946eb8c7c107e22868b34": {
      "model_module": "@jupyter-widgets/base",
      "model_module_version": "1.2.0",
      "model_name": "LayoutModel",
      "state": {}
     },
     "a25571866ad54bd7851607dfcc1ff6ce": {
      "model_module": "@jupyter-widgets/controls",
      "model_module_version": "1.5.0",
      "model_name": "HTMLModel",
      "state": {
       "layout": "IPY_MODEL_8314619c968f4afc825bf57c295ea8e1",
       "style": "IPY_MODEL_d3053539626d44ef83cb3cebf333f8b7",
       "value": "<b>Description: </b> "
      }
     },
     "a2559e7f6bb94f07bcb7e3fbcefade62": {
      "model_module": "@jupyter-widgets/controls",
      "model_module_version": "1.5.0",
      "model_name": "HTMLModel",
      "state": {
       "layout": "IPY_MODEL_5c37bf28c94045a5a950507846d60366",
       "style": "IPY_MODEL_6d3b1dd78d6a44f4a195f39884ed0476",
       "value": "<a href=\"mailto: jupyter-info@icos-cp.eu\">jupyter-info@icos-cp.eu</a>, <a href=\"mailto: claudio.donofrio@nateko.lu.se\">claudio.donofrio@nateko.lu.se</a>"
      }
     },
     "a279cdaa6e754a31ad7e20533c4595f9": {
      "model_module": "@jupyter-widgets/base",
      "model_module_version": "1.2.0",
      "model_name": "LayoutModel",
      "state": {}
     },
     "a27fb7c7fa6d45c6a036312be4075495": {
      "model_module": "@jupyter-widgets/controls",
      "model_module_version": "1.5.0",
      "model_name": "HTMLModel",
      "state": {
       "layout": "IPY_MODEL_069d30db8d7f41698ce293b4041aa664",
       "style": "IPY_MODEL_3f73eb703c4d466982b9598092019158",
       "value": "This subcategory includes notebooks that use ICOS data to introduce school students and the general public to basic principles of programming whilst learning about the carbon cycle, global warming and the effects of drought."
      }
     },
     "a289d1b92149418d860626f6733a5bc1": {
      "model_module": "@jupyter-widgets/controls",
      "model_module_version": "1.5.0",
      "model_name": "GridBoxModel",
      "state": {
       "children": [
        "IPY_MODEL_a86bec6b8095480da5e255fa3b5e1f55",
        "IPY_MODEL_44e54c6d733d414285285e7681c74eb8",
        "IPY_MODEL_59de0bb0480d4a9182b548f36e3f56d4",
        "IPY_MODEL_dc2a1e08ad13497ca4658fa1e456a51e",
        "IPY_MODEL_fb3b662c7905448fa009009187c959ea",
        "IPY_MODEL_57f983ee13a945e5a58a4ec642f843c0",
        "IPY_MODEL_53205854e46a4bc9a2476864d7c20bc3",
        "IPY_MODEL_d51000756ce54e048b9bab7e9a49082d",
        "IPY_MODEL_bdf8136ac4114a74a961ffaf47eb5168",
        "IPY_MODEL_b3d18178eae3482d98ed1f4a2e8addff"
       ],
       "layout": "IPY_MODEL_261242c683e84115adcef5585d209351"
      }
     },
     "a2c5ce94d9b74960b90f5d303b704b61": {
      "model_module": "@jupyter-widgets/controls",
      "model_module_version": "1.5.0",
      "model_name": "DescriptionStyleModel",
      "state": {
       "description_width": ""
      }
     },
     "a2c66aed822f43f198424bda5444d75f": {
      "model_module": "@jupyter-widgets/base",
      "model_module_version": "1.2.0",
      "model_name": "LayoutModel",
      "state": {}
     },
     "a2e12e62c4284b0ab191c04ffb7f3277": {
      "model_module": "@jupyter-widgets/base",
      "model_module_version": "1.2.0",
      "model_name": "LayoutModel",
      "state": {}
     },
     "a2ee563dfcc842718a472d2895c4af7f": {
      "model_module": "@jupyter-widgets/base",
      "model_module_version": "1.2.0",
      "model_name": "LayoutModel",
      "state": {}
     },
     "a2f0257a6a3d469b850073eef3e49cfc": {
      "model_module": "@jupyter-widgets/base",
      "model_module_version": "1.2.0",
      "model_name": "LayoutModel",
      "state": {
       "grid_gap": "5px 10px",
       "grid_template_columns": "100px auto",
       "grid_template_rows": "auto auto auto auto auto",
       "padding": "50px 0px 70px 0px",
       "width": "100%"
      }
     },
     "a30a5f2da2884a428b062a33f52bc12b": {
      "model_module": "@jupyter-widgets/controls",
      "model_module_version": "1.5.0",
      "model_name": "DescriptionStyleModel",
      "state": {
       "description_width": ""
      }
     },
     "a340bd088b6b435586306d95cd48fea1": {
      "model_module": "@jupyter-widgets/base",
      "model_module_version": "1.2.0",
      "model_name": "LayoutModel",
      "state": {
       "grid_gap": "5px 10px",
       "grid_template_columns": "100px auto",
       "grid_template_rows": "auto auto auto auto auto",
       "padding": "50px 0px 70px 0px",
       "width": "100%"
      }
     },
     "a35266390fe84d16a2bce6249cc5b589": {
      "model_module": "@jupyter-widgets/controls",
      "model_module_version": "1.5.0",
      "model_name": "DescriptionStyleModel",
      "state": {
       "description_width": ""
      }
     },
     "a35bd2fd0e6b410aa5f04344a9872f40": {
      "model_module": "@jupyter-widgets/base",
      "model_module_version": "1.2.0",
      "model_name": "LayoutModel",
      "state": {}
     },
     "a36cddacea3748f6b7c8a88e20cc5444": {
      "model_module": "@jupyter-widgets/base",
      "model_module_version": "1.2.0",
      "model_name": "LayoutModel",
      "state": {}
     },
     "a388c2cff7114e25b7175e60f1400776": {
      "model_module": "@jupyter-widgets/base",
      "model_module_version": "1.2.0",
      "model_name": "LayoutModel",
      "state": {}
     },
     "a392a1cbb4d84a40bb6d79d748e52774": {
      "model_module": "@jupyter-widgets/controls",
      "model_module_version": "1.5.0",
      "model_name": "HTMLModel",
      "state": {
       "layout": "IPY_MODEL_9e5d51c3eabe4a3dbe6086f22ab923cd",
       "style": "IPY_MODEL_2e18cbd343164b1489bc92a54baf4188",
       "value": "<b>Title: </b> "
      }
     },
     "a3a8ca493b9e4c45b0f0693496599e08": {
      "model_module": "@jupyter-widgets/controls",
      "model_module_version": "1.5.0",
      "model_name": "HTMLModel",
      "state": {
       "layout": "IPY_MODEL_9a99bce0c18a47b1a0de67b24b69e98c",
       "style": "IPY_MODEL_d5d1ab671e6245d693ab5d221edfa709",
       "value": "<a href='https://github.com/ICOS-Carbon-Portal/jupyter/issues' target='_blank'>Click here to report an issue</a>"
      }
     },
     "a3c8bc14c06a4ce98dae8e9433a6f455": {
      "model_module": "@jupyter-widgets/controls",
      "model_module_version": "1.5.0",
      "model_name": "HTMLModel",
      "state": {
       "layout": "IPY_MODEL_c31198e5afae44b3b5be9748a88675a0",
       "style": "IPY_MODEL_bcceecae95f54dd3955a6b96f46680a4",
       "value": "<a href='https://github.com/ICOS-Carbon-Portal/jupyter/issues' target='_blank'>Click here to report an issue</a>"
      }
     },
     "a3ea7c6db3d34afc8028543fd343674a": {
      "model_module": "@jupyter-widgets/controls",
      "model_module_version": "1.5.0",
      "model_name": "HTMLModel",
      "state": {
       "layout": "IPY_MODEL_cfc418b2651b443c89de7de5c61d2fc6",
       "style": "IPY_MODEL_9e5649ab3a5d42a5a39df5651a0cb93d",
       "value": "<b>Title: </b> "
      }
     },
     "a3f83bc3bcde48679b35b2492ca67216": {
      "model_module": "@jupyter-widgets/controls",
      "model_module_version": "1.5.0",
      "model_name": "HTMLModel",
      "state": {
       "layout": "IPY_MODEL_e7d207d8f49d48f4bb9552637389f238",
       "style": "IPY_MODEL_06d817b2f05e4634b42af6f9b523b99d",
       "value": "This Jupyter notebook provides analyses of <a href='http://stilt-model.org/index.php/Main/HomePage' target='_blank'>STILT model</a> results and <a href='https://www.icos-cp.eu/data-products' target='_blank'>ICOS measurement time series</a> to develop and test a dedicated strategy for flask sampling with an automated sampler."
      }
     },
     "a40b0681eeb04e0b96e29b51c70deedf": {
      "model_module": "@jupyter-widgets/controls",
      "model_module_version": "1.5.0",
      "model_name": "DescriptionStyleModel",
      "state": {
       "description_width": ""
      }
     },
     "a42169e7360e4b5ca1f260ce25096579": {
      "model_module": "@jupyter-widgets/controls",
      "model_module_version": "1.5.0",
      "model_name": "DescriptionStyleModel",
      "state": {
       "description_width": ""
      }
     },
     "a4290de4f6f44ff3801a8a7d40d63944": {
      "model_module": "@jupyter-widgets/controls",
      "model_module_version": "1.5.0",
      "model_name": "DescriptionStyleModel",
      "state": {
       "description_width": ""
      }
     },
     "a42f8444a4bf414e9d1ec4204f55d84e": {
      "model_module": "@jupyter-widgets/base",
      "model_module_version": "1.2.0",
      "model_name": "LayoutModel",
      "state": {}
     },
     "a44cf1e40bf142d3baea4aad8bcffc01": {
      "model_module": "@jupyter-widgets/controls",
      "model_module_version": "1.5.0",
      "model_name": "DescriptionStyleModel",
      "state": {
       "description_width": ""
      }
     },
     "a46b5266dff340a1baa6c19783081c94": {
      "model_module": "@jupyter-widgets/base",
      "model_module_version": "1.2.0",
      "model_name": "LayoutModel",
      "state": {}
     },
     "a47bfdd04d8a4ae28ff745b35772b4a1": {
      "model_module": "@jupyter-widgets/controls",
      "model_module_version": "1.5.0",
      "model_name": "DescriptionStyleModel",
      "state": {
       "description_width": ""
      }
     },
     "a47e7a4695bb4618b3dc0df226084918": {
      "model_module": "@jupyter-widgets/base",
      "model_module_version": "1.2.0",
      "model_name": "LayoutModel",
      "state": {}
     },
     "a496ca2051bd4bbd84880e01cbe446ab": {
      "model_module": "@jupyter-widgets/controls",
      "model_module_version": "1.5.0",
      "model_name": "HTMLModel",
      "state": {
       "layout": "IPY_MODEL_7dba236fe54549de8b9dd0ff3c8de79f",
       "style": "IPY_MODEL_c1cfef567bdc4aafb8240685e19a2efc",
       "value": "<b>Description: </b> "
      }
     },
     "a49835af0f3142ed956210a27d7c5d54": {
      "model_module": "@jupyter-widgets/base",
      "model_module_version": "1.2.0",
      "model_name": "LayoutModel",
      "state": {}
     },
     "a4e0475dfb2c4a79b12d33cf47b5adcd": {
      "model_module": "@jupyter-widgets/base",
      "model_module_version": "1.2.0",
      "model_name": "LayoutModel",
      "state": {}
     },
     "a4eabc987fdc4a8e9bba5767ec92849a": {
      "model_module": "@jupyter-widgets/base",
      "model_module_version": "1.2.0",
      "model_name": "LayoutModel",
      "state": {}
     },
     "a4fc48cc475b4510ae56bc3720a2906e": {
      "model_module": "@jupyter-widgets/controls",
      "model_module_version": "1.5.0",
      "model_name": "DescriptionStyleModel",
      "state": {
       "description_width": ""
      }
     },
     "a51f4fd884124585bd22bafa335df8c1": {
      "model_module": "@jupyter-widgets/controls",
      "model_module_version": "1.5.0",
      "model_name": "HTMLModel",
      "state": {
       "layout": "IPY_MODEL_6e9537e49e59457892abe4d78f1c84d8",
       "style": "IPY_MODEL_53084c2f015040f4bdfc4be49dd14b54",
       "value": "This category includes notebooks that use ICOS data to introduce students to basic principles of climate science and programming."
      }
     },
     "a535cc7c82004e56a79eb5e18bbe52bb": {
      "model_module": "@jupyter-widgets/controls",
      "model_module_version": "1.5.0",
      "model_name": "GridBoxModel",
      "state": {
       "children": [
        "IPY_MODEL_41b1bb07592144088a91b70a20537667",
        "IPY_MODEL_d7e18b5b53de4fd8b07a0d3b08caa850",
        "IPY_MODEL_bbe4a3d89f0e46448e94766f94b52cf5",
        "IPY_MODEL_69a20a9559284e8c8bca1ba43dc66ac8",
        "IPY_MODEL_38129718ca964845882071145ac607e1",
        "IPY_MODEL_ae2b3769cf864328bdf503f8dc08e80e",
        "IPY_MODEL_d0aaa96f88ac446c901fa65199545c45",
        "IPY_MODEL_42256575840d42e9884fb6f09e2ac233",
        "IPY_MODEL_2bef9c105102452d9698e4007f651b87",
        "IPY_MODEL_401c181381ff4f33b39e0d4520cbc4a5"
       ],
       "layout": "IPY_MODEL_158333748f8143599f3312b4888ef2c0"
      }
     },
     "a54df00711d8454b8d6dc7a76723eacd": {
      "model_module": "@jupyter-widgets/controls",
      "model_module_version": "1.5.0",
      "model_name": "DescriptionStyleModel",
      "state": {
       "description_width": ""
      }
     },
     "a5606e7b7b3d4bff9e0d4736b5a51ed7": {
      "model_module": "@jupyter-widgets/base",
      "model_module_version": "1.2.0",
      "model_name": "LayoutModel",
      "state": {}
     },
     "a56c8d03778048c5811a0de9c9ad21a8": {
      "model_module": "@jupyter-widgets/base",
      "model_module_version": "1.2.0",
      "model_name": "LayoutModel",
      "state": {
       "grid_gap": "5px 10px",
       "grid_template_columns": "auto",
       "grid_template_rows": "auto",
       "padding": "5px 0px 5px 0px",
       "width": "100%"
      }
     },
     "a574d10a09584fe4be11aaa05aa86c58": {
      "model_module": "@jupyter-widgets/controls",
      "model_module_version": "1.5.0",
      "model_name": "DescriptionStyleModel",
      "state": {
       "description_width": ""
      }
     },
     "a585857e49264e83b72e68b1930a6beb": {
      "model_module": "@jupyter-widgets/controls",
      "model_module_version": "1.5.0",
      "model_name": "HTMLModel",
      "state": {
       "layout": "IPY_MODEL_fafedf023ee14ecbab921d15ec6ab01c",
       "style": "IPY_MODEL_89b798e8420a48299befcdb5679df5b7",
       "value": "This notebook contains an interactive table showcasing the availability of ICOS data products per station and domain (i.e. atmosphere, ecosystem and ocean)."
      }
     },
     "a5930227378844cea0b91b62dc87eda0": {
      "model_module": "@jupyter-widgets/controls",
      "model_module_version": "1.5.0",
      "model_name": "HTMLModel",
      "state": {
       "layout": "IPY_MODEL_627d40e9f9e648a495bceebc932d0396",
       "style": "IPY_MODEL_4255af0ba33043cf94392a002d046ef6",
       "value": "<b>Contact: </b> "
      }
     },
     "a59a6d515ce3409cb20371163f12eff9": {
      "model_module": "@jupyter-widgets/controls",
      "model_module_version": "1.5.0",
      "model_name": "DescriptionStyleModel",
      "state": {
       "description_width": ""
      }
     },
     "a59d34d4766043c2abff8c2314f9ef4d": {
      "model_module": "@jupyter-widgets/base",
      "model_module_version": "1.2.0",
      "model_name": "LayoutModel",
      "state": {}
     },
     "a5a891a81c474a72a1d7545d4a8a6779": {
      "model_module": "@jupyter-widgets/controls",
      "model_module_version": "1.5.0",
      "model_name": "DescriptionStyleModel",
      "state": {
       "description_width": ""
      }
     },
     "a5f673747e4e4e2daa08470c8664a3a4": {
      "model_module": "@jupyter-widgets/controls",
      "model_module_version": "1.5.0",
      "model_name": "HTMLModel",
      "state": {
       "layout": "IPY_MODEL_0cf4d18e4a624fd18b77719a2b260115",
       "style": "IPY_MODEL_330413a3efa34b5d92e080c599d9d5c4",
       "value": "<img src=\"./icos_jupyter_notebooks/ind_tools/img//05_education/general/03_cc_svb/svb_mashup.png\">"
      }
     },
     "a5f705ecd36148cd89deb064c46927d4": {
      "model_module": "@jupyter-widgets/controls",
      "model_module_version": "1.5.0",
      "model_name": "HTMLModel",
      "state": {
       "layout": "IPY_MODEL_e67834b27eb3401daae7e7d0113eef62",
       "style": "IPY_MODEL_e23f107a2d204e119b81e242296bb76c",
       "value": "<a href='https://github.com/ICOS-Carbon-Portal/jupyter/issues' target='_blank'>Click here to report an issue</a>"
      }
     },
     "a604864a187c421da88fd57f0092e3f0": {
      "model_module": "@jupyter-widgets/base",
      "model_module_version": "1.2.0",
      "model_name": "LayoutModel",
      "state": {}
     },
     "a615b17d00fa49d8aab0b33977aa91f9": {
      "model_module": "@jupyter-widgets/controls",
      "model_module_version": "1.5.0",
      "model_name": "HTMLModel",
      "state": {
       "layout": "IPY_MODEL_1ea69021472b480bb4d169e7b8134d4f",
       "style": "IPY_MODEL_d4c9ea9644c14f679ce7e56150f4776a",
       "value": "<b>Contact: </b> "
      }
     },
     "a6279db3996d4f06aa1d2e76d5461725": {
      "model_module": "@jupyter-widgets/controls",
      "model_module_version": "1.5.0",
      "model_name": "DescriptionStyleModel",
      "state": {
       "description_width": ""
      }
     },
     "a62a291c914744fb8aff1dc647f8782d": {
      "model_module": "@jupyter-widgets/base",
      "model_module_version": "1.2.0",
      "model_name": "LayoutModel",
      "state": {}
     },
     "a64faaaaeef14744aa840b145c9480ce": {
      "model_module": "@jupyter-widgets/controls",
      "model_module_version": "1.5.0",
      "model_name": "GridBoxModel",
      "state": {
       "children": [
        "IPY_MODEL_979333b871ab473e966e0b2430ff851a",
        "IPY_MODEL_cf6ad71dd50c4dff8c1bf7745c169592",
        "IPY_MODEL_8f0b8c6e290242bd90b26bbb71ad5ac4",
        "IPY_MODEL_16bd883940e34bfa89b54ba67576ad02",
        "IPY_MODEL_e16395a217d9426f8749828d1b64361f",
        "IPY_MODEL_c0cae020348c4b0389af4fe0c940cdd9",
        "IPY_MODEL_24d62da011dd497ea9e9dbef8c348151",
        "IPY_MODEL_8574876016454546ba0751a1f867214e",
        "IPY_MODEL_769b92c19a23400585a79ece5869d42a",
        "IPY_MODEL_9e1699ab70e64d70815f82256d3d6891"
       ],
       "layout": "IPY_MODEL_79f334f3692646809151537990c11cc8"
      }
     },
     "a655a75666004f4eb8be48ae9ce40b2f": {
      "model_module": "@jupyter-widgets/controls",
      "model_module_version": "1.5.0",
      "model_name": "DescriptionStyleModel",
      "state": {
       "description_width": ""
      }
     },
     "a67618c7bc1f4bfb8a09c16b46a65806": {
      "model_module": "@jupyter-widgets/base",
      "model_module_version": "1.2.0",
      "model_name": "LayoutModel",
      "state": {
       "grid_gap": "5px 10px",
       "grid_template_columns": "100px auto",
       "grid_template_rows": "auto auto auto auto auto",
       "padding": "50px 0px 70px 0px",
       "width": "100%"
      }
     },
     "a681f017e2de49189863a7641b6a249d": {
      "model_module": "@jupyter-widgets/controls",
      "model_module_version": "1.5.0",
      "model_name": "HTMLModel",
      "state": {
       "layout": "IPY_MODEL_f43818429cdb4621a4ef85c8f3444e97",
       "style": "IPY_MODEL_dbd37ae5bfaf4f179b9132574521c04c",
       "value": "<a href=\"mailto: jupyter-info@icos-cp.eu\">jupyter-info@icos-cp.eu</a>"
      }
     },
     "a6a546e012ba4ce292335a39459e3d89": {
      "model_module": "@jupyter-widgets/controls",
      "model_module_version": "1.5.0",
      "model_name": "DescriptionStyleModel",
      "state": {
       "description_width": ""
      }
     },
     "a6a5c06455524f7db6f8c1b3695d6d82": {
      "model_module": "@jupyter-widgets/base",
      "model_module_version": "1.2.0",
      "model_name": "LayoutModel",
      "state": {}
     },
     "a6a6a07a86624cc4b4ff7c29c90146d1": {
      "model_module": "@jupyter-widgets/base",
      "model_module_version": "1.2.0",
      "model_name": "LayoutModel",
      "state": {}
     },
     "a6ddc176012a4212b9ab4dcd482f06b4": {
      "model_module": "@jupyter-widgets/base",
      "model_module_version": "1.2.0",
      "model_name": "LayoutModel",
      "state": {
       "grid_gap": "5px 10px",
       "grid_template_columns": "auto",
       "grid_template_rows": "auto",
       "padding": "5px 0px 5px 0px",
       "width": "100%"
      }
     },
     "a6e5e06a83004dc5b14dbe83a5df62b0": {
      "model_module": "@jupyter-widgets/controls",
      "model_module_version": "1.5.0",
      "model_name": "HTMLModel",
      "state": {
       "layout": "IPY_MODEL_56d95920f90b4bb68ae72bd3b2b15d9f",
       "style": "IPY_MODEL_d9a3ea7fccdd4cc0b58e54c8ee4a71b2",
       "value": "<b>Contact: </b> "
      }
     },
     "a710bc08edfa49fe83c9235f16003ed5": {
      "model_module": "@jupyter-widgets/base",
      "model_module_version": "1.2.0",
      "model_name": "LayoutModel",
      "state": {}
     },
     "a720d5772289462fa543723e77531882": {
      "model_module": "@jupyter-widgets/controls",
      "model_module_version": "1.5.0",
      "model_name": "DescriptionStyleModel",
      "state": {
       "description_width": ""
      }
     },
     "a74f2e62c09a45e6ad161854d41f3512": {
      "model_module": "@jupyter-widgets/base",
      "model_module_version": "1.2.0",
      "model_name": "LayoutModel",
      "state": {}
     },
     "a7627f4d5827478286482dab6564b93a": {
      "model_module": "@jupyter-widgets/controls",
      "model_module_version": "1.5.0",
      "model_name": "HTMLModel",
      "state": {
       "layout": "IPY_MODEL_428bb279654746239eb1c46d4834b9b1",
       "style": "IPY_MODEL_41435c7f0e984269907340ef7e4e2514",
       "value": "<b>Contact: </b> "
      }
     },
     "a7633b9ee59d4160adf104b77118e905": {
      "model_module": "@jupyter-widgets/controls",
      "model_module_version": "1.5.0",
      "model_name": "DescriptionStyleModel",
      "state": {
       "description_width": ""
      }
     },
     "a774f92e882d49bf97d5523cc4e22f40": {
      "model_module": "@jupyter-widgets/controls",
      "model_module_version": "1.5.0",
      "model_name": "HTMLModel",
      "state": {
       "layout": "IPY_MODEL_1ca38514ad944d89aefdf6abc4a0b151",
       "style": "IPY_MODEL_5b51e50fd654438c98644515f49cbe97",
       "value": "<b>Contact: </b> "
      }
     },
     "a77d48c2e9b84f089efe20f31cca6b10": {
      "model_module": "@jupyter-widgets/controls",
      "model_module_version": "1.5.0",
      "model_name": "DescriptionStyleModel",
      "state": {
       "description_width": ""
      }
     },
     "a789564c1619496db9be4898459a9d9f": {
      "model_module": "@jupyter-widgets/base",
      "model_module_version": "1.2.0",
      "model_name": "LayoutModel",
      "state": {}
     },
     "a78978c8bbf84fea977415de9ea52095": {
      "model_module": "@jupyter-widgets/base",
      "model_module_version": "1.2.0",
      "model_name": "LayoutModel",
      "state": {}
     },
     "a7987af8bca34fcdb169c01e19730c77": {
      "model_module": "@jupyter-widgets/base",
      "model_module_version": "1.2.0",
      "model_name": "LayoutModel",
      "state": {}
     },
     "a7a680a03c2e402392798f3058101650": {
      "model_module": "@jupyter-widgets/base",
      "model_module_version": "1.2.0",
      "model_name": "LayoutModel",
      "state": {}
     },
     "a7bab29863844baf8285198a90050dca": {
      "model_module": "@jupyter-widgets/base",
      "model_module_version": "1.2.0",
      "model_name": "LayoutModel",
      "state": {}
     },
     "a7e878bbba634a838cb80a9c131d5a59": {
      "model_module": "@jupyter-widgets/controls",
      "model_module_version": "1.5.0",
      "model_name": "HTMLModel",
      "state": {
       "layout": "IPY_MODEL_c9aeb43c58064b7aa0fd56cd133a7593",
       "style": "IPY_MODEL_6c9f4e38864848d686806cfb275680de",
       "value": "<a href=./pylib_examples/ex4_collection.ipynb target='_blank'>ICOS Carbon Portal Python Library - Access data and metadata of collections</a>"
      }
     },
     "a7e8a1716ac8422b8b7f8aa0d84d75bf": {
      "model_module": "@jupyter-widgets/controls",
      "model_module_version": "1.5.0",
      "model_name": "HTMLModel",
      "state": {
       "layout": "IPY_MODEL_72bb4cde72c849eb82b2729558e1d5ea",
       "style": "IPY_MODEL_3c0a04bac31a43e39cf479041b653fda",
       "value": "<a href='https://github.com/ICOS-Carbon-Portal/jupyter/issues' target='_blank'>Click here to report an issue</a>"
      }
     },
     "a7f7b688caf44250852a3830fb477cd3": {
      "model_module": "@jupyter-widgets/controls",
      "model_module_version": "1.5.0",
      "model_name": "HTMLModel",
      "state": {
       "layout": "IPY_MODEL_c3d456efabc547f7840b500ca11d2732",
       "style": "IPY_MODEL_8c198012229448f79e5edebb86c14aae",
       "value": "<b>Description: </b> "
      }
     },
     "a806a324a18f4fa39eba94336b3481f2": {
      "model_module": "@jupyter-widgets/controls",
      "model_module_version": "1.5.0",
      "model_name": "HTMLModel",
      "state": {
       "layout": "IPY_MODEL_e3e70908b2d64fa1aa9b2ccadd63b023",
       "style": "IPY_MODEL_382d5ed7bf054948a6106c02da175284",
       "value": "<a href=\"mailto: jupyter-info@icos-cp.eu\">jupyter-info@icos-cp.eu</a>, <a href=\"mailto: Steve.Jones@uib.no\">Steve.Jones@uib.no</a>"
      }
     },
     "a8137049f78d45149a401d6e8006abc8": {
      "model_module": "@jupyter-widgets/controls",
      "model_module_version": "1.5.0",
      "model_name": "HTMLModel",
      "state": {
       "layout": "IPY_MODEL_ae21d0964a0f4ac5b83638f5270c6e25",
       "style": "IPY_MODEL_63a704b791c648dc98c45156abeae43c",
       "value": "<a href=\"mailto: jupyter-info@icos-cp.eu\">jupyter-info@icos-cp.eu</a>"
      }
     },
     "a8198386d24b47b6883891fab33ff312": {
      "model_module": "@jupyter-widgets/controls",
      "model_module_version": "1.5.0",
      "model_name": "DescriptionStyleModel",
      "state": {
       "description_width": ""
      }
     },
     "a819ab73dd3744fb9f9444a53ee21b80": {
      "model_module": "@jupyter-widgets/base",
      "model_module_version": "1.2.0",
      "model_name": "LayoutModel",
      "state": {
       "grid_gap": "5px 10px",
       "grid_template_columns": "auto",
       "grid_template_rows": "auto",
       "padding": "5px 0px 5px 0px",
       "width": "100%"
      }
     },
     "a82b46de28564b21baa44b191a1c7519": {
      "model_module": "@jupyter-widgets/controls",
      "model_module_version": "1.5.0",
      "model_name": "DescriptionStyleModel",
      "state": {
       "description_width": ""
      }
     },
     "a8303609aad94c0ca76d0094c78a1d78": {
      "model_module": "@jupyter-widgets/base",
      "model_module_version": "1.2.0",
      "model_name": "LayoutModel",
      "state": {}
     },
     "a86bec6b8095480da5e255fa3b5e1f55": {
      "model_module": "@jupyter-widgets/controls",
      "model_module_version": "1.5.0",
      "model_name": "HTMLModel",
      "state": {
       "layout": "IPY_MODEL_e2b99180d5ad47a5b5af45e5e9e17ac7",
       "style": "IPY_MODEL_f4151279dbf74e69940cc9f61c5e71d6",
       "value": "<b>Title: </b> "
      }
     },
     "a86dd44c3fb94536adf85352a4d468e5": {
      "model_module": "@jupyter-widgets/base",
      "model_module_version": "1.2.0",
      "model_name": "LayoutModel",
      "state": {}
     },
     "a874bf74995e4804af10e92bb55cee3c": {
      "model_module": "@jupyter-widgets/controls",
      "model_module_version": "1.5.0",
      "model_name": "HTMLModel",
      "state": {
       "layout": "IPY_MODEL_2df1bb7f0e324e4ababbf6f1df93e7c8",
       "style": "IPY_MODEL_7e980b51c2bb42c9bdd37fe3da362870",
       "value": "<b>GitHub: </b> "
      }
     },
     "a88338d592c5456a8dbe5ff914d0b7e0": {
      "model_module": "@jupyter-widgets/controls",
      "model_module_version": "1.5.0",
      "model_name": "HTMLModel",
      "state": {
       "layout": "IPY_MODEL_779434901ff6414fb937eaa5c0dbd9de",
       "style": "IPY_MODEL_554d5a0d0d214c889aa8e9ec5deb55cd",
       "value": "<b>Description: </b> "
      }
     },
     "a88b35bcb8fb4853a249e80a082ae28f": {
      "model_module": "@jupyter-widgets/controls",
      "model_module_version": "1.5.0",
      "model_name": "DescriptionStyleModel",
      "state": {
       "description_width": ""
      }
     },
     "a947fec3d79d4075a21591394b86afaf": {
      "model_module": "@jupyter-widgets/controls",
      "model_module_version": "1.5.0",
      "model_name": "DescriptionStyleModel",
      "state": {
       "description_width": ""
      }
     },
     "a985930ce30b4a8190292cea3203e609": {
      "model_module": "@jupyter-widgets/controls",
      "model_module_version": "1.5.0",
      "model_name": "HTMLModel",
      "state": {
       "layout": "IPY_MODEL_760db59e9ff242fd9ff065665dcdb70d",
       "style": "IPY_MODEL_b45798af5173477daa5e9189fb5fff2a",
       "value": "<b>Description: </b> "
      }
     },
     "a98cbc3e5ae44470a2735aadb7494777": {
      "model_module": "@jupyter-widgets/controls",
      "model_module_version": "1.5.0",
      "model_name": "HTMLModel",
      "state": {
       "layout": "IPY_MODEL_ec01626a97c949508a29e9391ff56b5e",
       "style": "IPY_MODEL_c092a88c9a024a6db15ae8c7c2cb72c4",
       "value": "This subcategory includes notebooks that use ICOS data to introduce school students and the general public to basic principles of programming whilst learning about the carbon cycle, global warming and the effects of drought."
      }
     },
     "a99da8d0bb2e481e9b9fdea5fbda995d": {
      "model_module": "@jupyter-widgets/controls",
      "model_module_version": "1.5.0",
      "model_name": "HTMLModel",
      "state": {
       "layout": "IPY_MODEL_51374c1c965b48ef8f43e6631844755e",
       "style": "IPY_MODEL_4d2f7282f16f4233b545a0e18895e62a",
       "value": "<b>Description: </b> "
      }
     },
     "a9a345a19b2e4a7dac9801c948fd7b1c": {
      "model_module": "@jupyter-widgets/controls",
      "model_module_version": "1.5.0",
      "model_name": "HTMLModel",
      "state": {
       "layout": "IPY_MODEL_d1144940bbad4f8b806847f8024c6411",
       "style": "IPY_MODEL_eb389847b03c4bae8899823f6997b74b",
       "value": "This Jupyter notebook provides examples on how to access, extract and process data and metadata information for the ICOS stations using the ICOS Carbon Portal Python library. Full documentation for the library is available on the <a href='https://icos-carbon-portal.github.io/pylib/' target='_blank'>project page</a>, how to install and wheel on <a href='https://pypi.org/project/icoscp/' target='_blank'>pypi.org</a>, source available on <a href='https://github.com/ICOS-Carbon-Portal/pylib' target='_blank'>GitHub</a>"
      }
     },
     "a9bada15819941a691622c8b05a8decb": {
      "model_module": "@jupyter-widgets/controls",
      "model_module_version": "1.5.0",
      "model_name": "HTMLModel",
      "state": {
       "layout": "IPY_MODEL_ae91cf70b248469aa4a4e6957846c0b8",
       "style": "IPY_MODEL_58a19c4f77ac42d7ae4bf515f0d442da",
       "value": "<img src=\"./icos_jupyter_notebooks/ind_tools/img/05_education/phd/ucf/inspect_lpjguess/plot.PNG\">"
      }
     },
     "a9cf27660a1a48cf97d14e50e0588461": {
      "model_module": "@jupyter-widgets/controls",
      "model_module_version": "1.5.0",
      "model_name": "HTMLModel",
      "state": {
       "layout": "IPY_MODEL_5668c9d785e044bbbfeabf489d8159c9",
       "style": "IPY_MODEL_c60bb6e38d094c5a96e3d254cfdd958b",
       "value": "<a href='https://github.com/ICOS-Carbon-Portal/jupyter/issues' target='_blank'>Click here to report an issue</a>"
      }
     },
     "a9f43997c34b475ab2df6507dd3a1d45": {
      "model_module": "@jupyter-widgets/controls",
      "model_module_version": "1.5.0",
      "model_name": "HTMLModel",
      "state": {
       "layout": "IPY_MODEL_d2c47321853949179a42dd6b298b75d5",
       "style": "IPY_MODEL_6d5c0f441c9d4faf826f605c6ac52237",
       "value": "<a href=./project_jupyter_notebooks/envrifair_winterschool/map/exercise4_advanced.ipynb target='_blank'>Exercise 4 - Create an advanced interactive Map</a>"
      }
     },
     "a9fb4c2dba0d4a9c862efce72a2bcfb7": {
      "model_module": "@jupyter-widgets/base",
      "model_module_version": "1.2.0",
      "model_name": "LayoutModel",
      "state": {}
     },
     "a9fcb995f0c147a09477ab06567b532e": {
      "model_module": "@jupyter-widgets/controls",
      "model_module_version": "1.5.0",
      "model_name": "DescriptionStyleModel",
      "state": {
       "description_width": ""
      }
     },
     "aa008f3a2f574623afc29de36bc17197": {
      "model_module": "@jupyter-widgets/controls",
      "model_module_version": "1.5.0",
      "model_name": "HTMLModel",
      "state": {
       "layout": "IPY_MODEL_253b7665ad9b4d459fb3b3ef066f35a3",
       "style": "IPY_MODEL_79558356a19e45718f0ef40d447dbfb5",
       "value": "<b>Description: </b> "
      }
     },
     "aa108ba82b9345c88a7997bf82437178": {
      "model_module": "@jupyter-widgets/controls",
      "model_module_version": "1.5.0",
      "model_name": "GridBoxModel",
      "state": {
       "children": [
        "IPY_MODEL_7a60516c505a4f4f8d17d0abd08b5d14",
        "IPY_MODEL_e6eb48d6e08b462c8e3dfb15c7d505d0",
        "IPY_MODEL_3f4b26254e4d4c0f9a99b5b5571a6099",
        "IPY_MODEL_c4ba1d85a5be4a6284b74a4c4ceaf4f5",
        "IPY_MODEL_7eb2ee846a6e440b8ad7cdcda50868bd",
        "IPY_MODEL_4ebbd05ec6834b4796c75a57a52d45a7",
        "IPY_MODEL_32f6131e544147e5b6550c241c937140",
        "IPY_MODEL_91119f2bbb464aa98bad140ee14d7417",
        "IPY_MODEL_6a429dae842346b793f3829c80bda66b",
        "IPY_MODEL_090cc3fc07ea49a1b4c6f9a809874667"
       ],
       "layout": "IPY_MODEL_d7424bfb5e834e7b8972e915fd4f24a5"
      }
     },
     "aa4937fd1e1846d5a89556e1e883ca59": {
      "model_module": "@jupyter-widgets/base",
      "model_module_version": "1.2.0",
      "model_name": "LayoutModel",
      "state": {}
     },
     "aa6658f3e9f34ac2803e39d82d995583": {
      "model_module": "@jupyter-widgets/controls",
      "model_module_version": "1.5.0",
      "model_name": "HTMLModel",
      "state": {
       "layout": "IPY_MODEL_02062a0f68f34a209ff588714bc611fd",
       "style": "IPY_MODEL_db9b6e117d4f4b3aa3269e670a8521ff",
       "value": "<b>Description: </b> "
      }
     },
     "aa71359f3b654432ac6fdfb47bdf2ec8": {
      "model_module": "@jupyter-widgets/controls",
      "model_module_version": "1.5.0",
      "model_name": "HTMLModel",
      "state": {
       "layout": "IPY_MODEL_2da33aba71ca437681dccc7b6ec67c0a",
       "style": "IPY_MODEL_ac28690c62c646b0bd7b0972f5e7aaab",
       "value": "<b>Description: </b> "
      }
     },
     "aa92b2fc9cbc4578ab2a041fa4989d7f": {
      "model_module": "@jupyter-widgets/base",
      "model_module_version": "1.2.0",
      "model_name": "LayoutModel",
      "state": {}
     },
     "aa9901d6699e4d948f0e2b0d0747f93c": {
      "model_module": "@jupyter-widgets/controls",
      "model_module_version": "1.5.0",
      "model_name": "DescriptionStyleModel",
      "state": {
       "description_width": ""
      }
     },
     "aaa25f08f4214216bc3c1639b8981c21": {
      "model_module": "@jupyter-widgets/controls",
      "model_module_version": "1.5.0",
      "model_name": "DescriptionStyleModel",
      "state": {
       "description_width": ""
      }
     },
     "aaa8207033bf4050a56c9666067d33c0": {
      "model_module": "@jupyter-widgets/controls",
      "model_module_version": "1.5.0",
      "model_name": "HTMLModel",
      "state": {
       "layout": "IPY_MODEL_530446a56d694432800aefa51608cd24",
       "style": "IPY_MODEL_0c008d88f8ea42eaa89b8b5c265a45c3",
       "value": "<b>Contact: </b> "
      }
     },
     "aaa963efa44d441dba94e4a186cd636d": {
      "model_module": "@jupyter-widgets/controls",
      "model_module_version": "1.5.0",
      "model_name": "DescriptionStyleModel",
      "state": {
       "description_width": ""
      }
     },
     "aac5dc04571b4916a50d7177c1c5266d": {
      "model_module": "@jupyter-widgets/controls",
      "model_module_version": "1.5.0",
      "model_name": "DescriptionStyleModel",
      "state": {
       "description_width": ""
      }
     },
     "aac67ca0471042a994e62b6fde88cc7d": {
      "model_module": "@jupyter-widgets/base",
      "model_module_version": "1.2.0",
      "model_name": "LayoutModel",
      "state": {}
     },
     "aad972c01f4d447788089e25e1527fef": {
      "model_module": "@jupyter-widgets/controls",
      "model_module_version": "1.5.0",
      "model_name": "DescriptionStyleModel",
      "state": {
       "description_width": ""
      }
     },
     "aaf7df1dad0f477b9d95f62bfd02eaa4": {
      "model_module": "@jupyter-widgets/controls",
      "model_module_version": "1.5.0",
      "model_name": "DescriptionStyleModel",
      "state": {
       "description_width": ""
      }
     },
     "ab031285573a4f899d05bb3ab5486b73": {
      "model_module": "@jupyter-widgets/controls",
      "model_module_version": "1.5.0",
      "model_name": "HTMLModel",
      "state": {
       "layout": "IPY_MODEL_72a0699822ea47099f40bdeda267ff26",
       "style": "IPY_MODEL_b9b205bd031944e898da3ce8c52a5b3f",
       "value": "This Jupyter notebook provides analyses of <a href='http://stilt-model.org/index.php/Main/HomePage' target='_blank'>STILT model</a> results and <a href='https://www.icos-cp.eu/data-products' target='_blank'>ICOS measurement time series</a> to develop and test a dedicated strategy for flask sampling with an automated sampler."
      }
     },
     "ab1b66b8aef34e60ab726a4cbb5853d5": {
      "model_module": "@jupyter-widgets/controls",
      "model_module_version": "1.5.0",
      "model_name": "HTMLModel",
      "state": {
       "layout": "IPY_MODEL_6ba5d97147af475fa5c65be7a4f17310",
       "style": "IPY_MODEL_99e8790d09d3400b99a44702703f258f",
       "value": "<a href=\"mailto: jupyter-info@icos-cp.eu\">jupyter-info@icos-cp.eu</a>"
      }
     },
     "ab253f8d72924d448ee0f877dd01c4cd": {
      "model_module": "@jupyter-widgets/controls",
      "model_module_version": "1.5.0",
      "model_name": "DescriptionStyleModel",
      "state": {
       "description_width": ""
      }
     },
     "ab3e81678c5c47ed8d74a338ac483f33": {
      "model_module": "@jupyter-widgets/controls",
      "model_module_version": "1.5.0",
      "model_name": "HTMLModel",
      "state": {
       "layout": "IPY_MODEL_55a50960dbb34ca989c3a6631c76826c",
       "style": "IPY_MODEL_0fbdcfcc721e421195d614795cb99300",
       "value": "<b>GitHub: </b> "
      }
     },
     "ab638ed14e2d453ea6c37e2e55c6adfc": {
      "model_module": "@jupyter-widgets/base",
      "model_module_version": "1.2.0",
      "model_name": "LayoutModel",
      "state": {}
     },
     "ab659600b4f34e9cb964af3603318772": {
      "model_module": "@jupyter-widgets/base",
      "model_module_version": "1.2.0",
      "model_name": "LayoutModel",
      "state": {}
     },
     "ab84696c97cd407ca4aad145477fb7dd": {
      "model_module": "@jupyter-widgets/controls",
      "model_module_version": "1.5.0",
      "model_name": "HTMLModel",
      "state": {
       "layout": "IPY_MODEL_9d95857513974c44939e96b6fa6e63c4",
       "style": "IPY_MODEL_4e17cc6d538a4c45807d69c72d0a617a",
       "value": "<b>Title: </b> "
      }
     },
     "ab977d4afcea49828fb299796178aa17": {
      "model_module": "@jupyter-widgets/controls",
      "model_module_version": "1.5.0",
      "model_name": "HTMLModel",
      "state": {
       "layout": "IPY_MODEL_80f224a78e804d73bfcd725cbf47f5d5",
       "style": "IPY_MODEL_0d979d3f63f94b8e9847381117f9c4b3",
       "value": "This notebook is dedicated to accessing, processing, and comparing ICOS atmosphere CO2-concentrations (data and metadata) and simulated CO2-concentrations from <a href=\"https://www.icos-cp.eu/data-services/tools/stilt-footprint\" target=\"_blank\">(STILT)</a> model outputs (ICOS elaborated data product).\n"
      }
     },
     "abcea03260e54ba9ad376001ca1414a4": {
      "model_module": "@jupyter-widgets/base",
      "model_module_version": "1.2.0",
      "model_name": "LayoutModel",
      "state": {}
     },
     "abd452bd10d947ef93e9924873915b54": {
      "model_module": "@jupyter-widgets/controls",
      "model_module_version": "1.5.0",
      "model_name": "HTMLModel",
      "state": {
       "layout": "IPY_MODEL_800aaba51d35414db87a25b8a312d3db",
       "style": "IPY_MODEL_f4adfc52a61d465c934391355b5ef2ea",
       "value": "<a href=\"mailto: jupyter-info@icos-cp.eu\">jupyter-info@icos-cp.eu</a>"
      }
     },
     "abf99b8083fd499cb3a70848051c55cd": {
      "model_module": "@jupyter-widgets/base",
      "model_module_version": "1.2.0",
      "model_name": "LayoutModel",
      "state": {
       "grid_gap": "5px 10px",
       "grid_template_columns": "100px auto",
       "grid_template_rows": "auto auto auto auto auto",
       "padding": "50px 0px 70px 0px",
       "width": "100%"
      }
     },
     "ac02cf6ea23c40b78c497d0ef986fb3d": {
      "model_module": "@jupyter-widgets/controls",
      "model_module_version": "1.5.0",
      "model_name": "HTMLModel",
      "state": {
       "layout": "IPY_MODEL_841f5dda17dd4f239644374982f22a0a",
       "style": "IPY_MODEL_814fc081a5d24344950fc7f331a713b4",
       "value": "<b>GitHub: </b> "
      }
     },
     "ac076337dec245f1b6c0480d6055cee8": {
      "model_module": "@jupyter-widgets/base",
      "model_module_version": "1.2.0",
      "model_name": "LayoutModel",
      "state": {}
     },
     "ac28690c62c646b0bd7b0972f5e7aaab": {
      "model_module": "@jupyter-widgets/controls",
      "model_module_version": "1.5.0",
      "model_name": "DescriptionStyleModel",
      "state": {
       "description_width": ""
      }
     },
     "ac40bd7a17e348028b92b43d7914e998": {
      "model_module": "@jupyter-widgets/controls",
      "model_module_version": "1.5.0",
      "model_name": "HTMLModel",
      "state": {
       "layout": "IPY_MODEL_7871e80d974f4aa1934e5a8e9585a107",
       "style": "IPY_MODEL_162027c4b4364b928d9df7905315f7a7",
       "value": "<b>GitHub: </b> "
      }
     },
     "ac499863d2de4114bb2c7a6470540b9b": {
      "model_module": "@jupyter-widgets/base",
      "model_module_version": "1.2.0",
      "model_name": "LayoutModel",
      "state": {}
     },
     "aca2004cd151401595d90d6589985e57": {
      "model_module": "@jupyter-widgets/controls",
      "model_module_version": "1.5.0",
      "model_name": "HTMLModel",
      "state": {
       "layout": "IPY_MODEL_65e7a133a0b54e928a677c0a6ce269b2",
       "style": "IPY_MODEL_bab87ca946ea4f69bc78e057b29441da",
       "value": "<b>Contact: </b> "
      }
     },
     "aca5afcbf13d49fca1bc2a1eb6799fdf": {
      "model_module": "@jupyter-widgets/controls",
      "model_module_version": "1.5.0",
      "model_name": "HTMLModel",
      "state": {
       "layout": "IPY_MODEL_e316951a44b74f8496f732331dc776b4",
       "style": "IPY_MODEL_299b799ba611401f8fb4d9cfc0bae24f",
       "value": "<img src=\"./icos_jupyter_notebooks/ind_tools/img/03_icos_JNBs/ccgcrv/curve_fitting_method.PNG\">"
      }
     },
     "acb31ff605ff4642b0f1f22ef0e0cb15": {
      "model_module": "@jupyter-widgets/base",
      "model_module_version": "1.2.0",
      "model_name": "LayoutModel",
      "state": {}
     },
     "acb694dc5b0648729602f3ff12655db0": {
      "model_module": "@jupyter-widgets/base",
      "model_module_version": "1.2.0",
      "model_name": "LayoutModel",
      "state": {}
     },
     "acf9d6954242446eafdf2166287a642a": {
      "model_module": "@jupyter-widgets/controls",
      "model_module_version": "1.5.0",
      "model_name": "DescriptionStyleModel",
      "state": {
       "description_width": ""
      }
     },
     "ad15e007359f4b59a728fdddc9fa32c3": {
      "model_module": "@jupyter-widgets/controls",
      "model_module_version": "1.5.0",
      "model_name": "HTMLModel",
      "state": {
       "layout": "IPY_MODEL_887cd055e7f1411fb3438685467ffdb6",
       "style": "IPY_MODEL_5b2485949dc7493b988929237b1c0d4e",
       "value": "This subcategory includes notebooks with exercises that are aimed for university students and are based on ICOS data"
      }
     },
     "ad1765cce003478e85e9b646c8b00fe0": {
      "model_module": "@jupyter-widgets/controls",
      "model_module_version": "1.5.0",
      "model_name": "DescriptionStyleModel",
      "state": {
       "description_width": ""
      }
     },
     "ad37f3fc1f3946cca1a528ee547baa47": {
      "model_module": "@jupyter-widgets/base",
      "model_module_version": "1.2.0",
      "model_name": "LayoutModel",
      "state": {}
     },
     "ad3d773082aa4ca3b3636b786455751a": {
      "model_module": "@jupyter-widgets/controls",
      "model_module_version": "1.5.0",
      "model_name": "DescriptionStyleModel",
      "state": {
       "description_width": ""
      }
     },
     "ad3e5ffe0f6343868edc1770407a6ffb": {
      "model_module": "@jupyter-widgets/controls",
      "model_module_version": "1.5.0",
      "model_name": "HTMLModel",
      "state": {
       "layout": "IPY_MODEL_2a15909de23e44c6ba0a98c8f5a5a52e",
       "style": "IPY_MODEL_5471d80aed60438085995bca1f7adbe8",
       "value": "Includes notebooks from the Ocean Thematic Centre on how to calibrate and process data for flux measurements."
      }
     },
     "ad6a2fea0aa14043b2f2dbdaed801e37": {
      "model_module": "@jupyter-widgets/base",
      "model_module_version": "1.2.0",
      "model_name": "LayoutModel",
      "state": {}
     },
     "ad6a7283876043228ea1189a4b39704f": {
      "model_module": "@jupyter-widgets/base",
      "model_module_version": "1.2.0",
      "model_name": "LayoutModel",
      "state": {}
     },
     "ad6b309ca1be4144bc37cd3e624484a6": {
      "model_module": "@jupyter-widgets/controls",
      "model_module_version": "1.5.0",
      "model_name": "DescriptionStyleModel",
      "state": {
       "description_width": ""
      }
     },
     "ad7d24b7bd474f2095aadf19596c410e": {
      "model_module": "@jupyter-widgets/base",
      "model_module_version": "1.2.0",
      "model_name": "LayoutModel",
      "state": {}
     },
     "ad84e201879a4f709bd9bb87b0e3b16e": {
      "model_module": "@jupyter-widgets/base",
      "model_module_version": "1.2.0",
      "model_name": "LayoutModel",
      "state": {}
     },
     "ad904f70c6e345ebb16b9e32dc14be74": {
      "model_module": "@jupyter-widgets/base",
      "model_module_version": "1.2.0",
      "model_name": "LayoutModel",
      "state": {}
     },
     "ad94076189bb46768dc7e733a2cb2a73": {
      "model_module": "@jupyter-widgets/base",
      "model_module_version": "1.2.0",
      "model_name": "LayoutModel",
      "state": {}
     },
     "ad98a022511d40faa3eed191826dc005": {
      "model_module": "@jupyter-widgets/controls",
      "model_module_version": "1.5.0",
      "model_name": "DescriptionStyleModel",
      "state": {
       "description_width": ""
      }
     },
     "ad9d7f41b32b4fd0a460486132b5be9a": {
      "model_module": "@jupyter-widgets/controls",
      "model_module_version": "1.5.0",
      "model_name": "DescriptionStyleModel",
      "state": {
       "description_width": ""
      }
     },
     "ad9e1ec75a184317a82ac92f6fb93d5a": {
      "model_module": "@jupyter-widgets/controls",
      "model_module_version": "1.5.0",
      "model_name": "HTMLModel",
      "state": {
       "layout": "IPY_MODEL_62fbb2357328472c92ba90df1607e5ae",
       "style": "IPY_MODEL_79416ad6738f4e409dee545e7ffeadd8",
       "value": "<b>Title: </b> "
      }
     },
     "adbdd0e9cf3b49dd9b44af1c7dd92bba": {
      "model_module": "@jupyter-widgets/base",
      "model_module_version": "1.2.0",
      "model_name": "LayoutModel",
      "state": {}
     },
     "adc4a2ba5318495bb9fffc1e08ad91f2": {
      "model_module": "@jupyter-widgets/controls",
      "model_module_version": "1.5.0",
      "model_name": "DescriptionStyleModel",
      "state": {
       "description_width": ""
      }
     },
     "adc9a50f4bb1400090c20d30f11cf7cc": {
      "model_module": "@jupyter-widgets/base",
      "model_module_version": "1.2.0",
      "model_name": "LayoutModel",
      "state": {}
     },
     "add57b69dfd5465abdd26d588f4014ac": {
      "model_module": "@jupyter-widgets/controls",
      "model_module_version": "1.5.0",
      "model_name": "HTMLModel",
      "state": {
       "layout": "IPY_MODEL_8a3e748bf7254abdbb5ee69f821d95cb",
       "style": "IPY_MODEL_616efd10ba83461991d21bf3444a4ef4",
       "value": "<a href=./education/PhD/upscaling_carbon_fluxes/notebooks/exercise1.ipynb target='_blank'>Introduction to Jupyter notebooks using ICOS/FLUXNET data</a>"
      }
     },
     "adfc84ee19764ce9abc4913b9879e71b": {
      "model_module": "@jupyter-widgets/base",
      "model_module_version": "1.2.0",
      "model_name": "LayoutModel",
      "state": {}
     },
     "ae120c40fbfa4da9b8a63a64fe5de987": {
      "model_module": "@jupyter-widgets/base",
      "model_module_version": "1.2.0",
      "model_name": "LayoutModel",
      "state": {}
     },
     "ae21d0964a0f4ac5b83638f5270c6e25": {
      "model_module": "@jupyter-widgets/base",
      "model_module_version": "1.2.0",
      "model_name": "LayoutModel",
      "state": {}
     },
     "ae2b3769cf864328bdf503f8dc08e80e": {
      "model_module": "@jupyter-widgets/controls",
      "model_module_version": "1.5.0",
      "model_name": "HTMLModel",
      "state": {
       "layout": "IPY_MODEL_7eaff2ee21224209b7b30f5e99375f85",
       "style": "IPY_MODEL_369015f8c5bd45a0b001304b10a145a7",
       "value": "<a href=\"mailto: jupyter-info@icos-cp.eu\">jupyter-info@icos-cp.eu</a>"
      }
     },
     "ae30aede152e4115ad27fd5df025ae1c": {
      "model_module": "@jupyter-widgets/controls",
      "model_module_version": "1.5.0",
      "model_name": "HTMLModel",
      "state": {
       "layout": "IPY_MODEL_cf13663f7bbf40c68670529000f27ced",
       "style": "IPY_MODEL_c01dcc2b42c74f739469b6e4e1ad725b",
       "value": "<b>Thumbnail: </b> "
      }
     },
     "ae330400e67b4759888b535c29a4909d": {
      "model_module": "@jupyter-widgets/controls",
      "model_module_version": "1.5.0",
      "model_name": "DescriptionStyleModel",
      "state": {
       "description_width": ""
      }
     },
     "ae3b52379dc74af6a420311c4f0f6a58": {
      "model_module": "@jupyter-widgets/controls",
      "model_module_version": "1.5.0",
      "model_name": "DescriptionStyleModel",
      "state": {
       "description_width": ""
      }
     },
     "ae82138d66e2432b8102b8877f3507a9": {
      "model_module": "@jupyter-widgets/base",
      "model_module_version": "1.2.0",
      "model_name": "LayoutModel",
      "state": {}
     },
     "ae85d0accdb947c7a3323159f6c16eb2": {
      "model_module": "@jupyter-widgets/controls",
      "model_module_version": "1.5.0",
      "model_name": "HTMLModel",
      "state": {
       "layout": "IPY_MODEL_8543b85bae2649f08404bdd715923575",
       "style": "IPY_MODEL_2e662d6058c747b7acc5998a9217e573",
       "value": "<a href='https://github.com/ICOS-Carbon-Portal/jupyter/issues' target='_blank'>Click here to report an issue</a>"
      }
     },
     "ae8ccfb6504a4695952c49ecd0a85754": {
      "model_module": "@jupyter-widgets/controls",
      "model_module_version": "1.5.0",
      "model_name": "HTMLModel",
      "state": {
       "layout": "IPY_MODEL_55096a382b2e4e1ba070a718e8efc3e9",
       "style": "IPY_MODEL_efb8129b771b4be9812e92bf6bc7041e",
       "value": "This Jupyter notebook presents examples on how to load <a href='http://stilt-model.org/index.php/Main/HomePage' target='_blank'>STILT</a> timeseries data and footprints using the ICOS Carbon Portal Python library. The notebook also showcases how to make plots using Holoviews and maps using Geoviews. Full documentation on the ICOS library is available through the <a href='https://icos-carbon-portal.github.io/pylib/' target='_blank'>project page</a>, how to install and wheel on <a href='https://pypi.org/project/icoscp/' target='_blank'> pypi.org</a>, source available on <a href='https://github.com/ICOS-Carbon-Portal/pylib' target='_blank'>GitHub</a>."
      }
     },
     "ae8cd59ab52a4a388ae9680a8074837b": {
      "model_module": "@jupyter-widgets/controls",
      "model_module_version": "1.5.0",
      "model_name": "GridBoxModel",
      "state": {
       "children": [
        "IPY_MODEL_6ad4265503304b3793f90252c264d6bf",
        "IPY_MODEL_45e39459020c4eff86e91d2510d88e26"
       ],
       "layout": "IPY_MODEL_09fa76820bb8477ea061c78347967613"
      }
     },
     "ae91cf70b248469aa4a4e6957846c0b8": {
      "model_module": "@jupyter-widgets/base",
      "model_module_version": "1.2.0",
      "model_name": "LayoutModel",
      "state": {}
     },
     "aedcfbec817941eba68b2cd2eaab6a4c": {
      "model_module": "@jupyter-widgets/controls",
      "model_module_version": "1.5.0",
      "model_name": "HTMLModel",
      "state": {
       "layout": "IPY_MODEL_4f48549d063941f49a1ca93658f09d00",
       "style": "IPY_MODEL_aaa963efa44d441dba94e4a186cd636d",
       "value": "<a href='https://github.com/ICOS-Carbon-Portal/jupyter/issues' target='_blank'>Click here to report an issue</a>"
      }
     },
     "aeeea971a1ae4a37b0af25680dc97ee1": {
      "model_module": "@jupyter-widgets/base",
      "model_module_version": "1.2.0",
      "model_name": "LayoutModel",
      "state": {}
     },
     "aef348326ddc4d6f96a5d29d0116cdd2": {
      "model_module": "@jupyter-widgets/controls",
      "model_module_version": "1.5.0",
      "model_name": "HTMLModel",
      "state": {
       "layout": "IPY_MODEL_88c5be9df9e64e8581b28f7fe1b71e89",
       "style": "IPY_MODEL_2d130cb7311045f9a7f7f9e9c8930ada",
       "value": "Notebooks processing ICOS data products by applying various methods, computing statistics, and presenting results in interactive visualizations (i.e. plots, maps, tables, etc.)"
      }
     },
     "aef506f8d36a4ce99181c8fea70b24fd": {
      "model_module": "@jupyter-widgets/controls",
      "model_module_version": "1.5.0",
      "model_name": "DescriptionStyleModel",
      "state": {
       "description_width": ""
      }
     },
     "aefc1010ff824866b2b5b59b1e217f5a": {
      "model_module": "@jupyter-widgets/controls",
      "model_module_version": "1.5.0",
      "model_name": "HTMLModel",
      "state": {
       "layout": "IPY_MODEL_b582d930d1844dc9a9e3d88aedddf932",
       "style": "IPY_MODEL_62e8e4595124468dbe47662e4b3703e5",
       "value": "<a href='https://github.com/ICOS-Carbon-Portal/jupyter/issues' target='_blank'>Click here to report an issue</a>"
      }
     },
     "af2194dfb1d844ce9ee872aa25dac4ed": {
      "model_module": "@jupyter-widgets/base",
      "model_module_version": "1.2.0",
      "model_name": "LayoutModel",
      "state": {}
     },
     "af47ea3f4d7a440ea60df2bc84346bc6": {
      "model_module": "@jupyter-widgets/controls",
      "model_module_version": "1.5.0",
      "model_name": "GridBoxModel",
      "state": {
       "children": [
        "IPY_MODEL_99b1f292db65459596b4d4c42ed85d55",
        "IPY_MODEL_d51aaaf0d389478a9f2169d07849c1e8",
        "IPY_MODEL_426906d30fff43a79ee0f4aca00453dd",
        "IPY_MODEL_7d5002af7d9d49bcae03daed9301c161",
        "IPY_MODEL_e9bc122edc1e43ef9751369685d22f7e",
        "IPY_MODEL_142f326a7eee4d6ba7c7cc063542e9ef",
        "IPY_MODEL_18badc57cfb642a1b3ae277ce989b129",
        "IPY_MODEL_aefc1010ff824866b2b5b59b1e217f5a",
        "IPY_MODEL_307b53ee38f2445f81beb75414f5d161",
        "IPY_MODEL_9701ff688cbc4f67a5471f62fb208f22"
       ],
       "layout": "IPY_MODEL_b154eb0036cd4bc68020f834a726b6fd"
      }
     },
     "af4b407c58ca402fab487c181b6d73f2": {
      "model_module": "@jupyter-widgets/base",
      "model_module_version": "1.2.0",
      "model_name": "LayoutModel",
      "state": {
       "grid_gap": "5px 10px",
       "grid_template_columns": "100px auto",
       "grid_template_rows": "auto auto auto auto auto",
       "padding": "50px 0px 70px 0px",
       "width": "100%"
      }
     },
     "af548f05d31e4d6f920914b14d5c4d52": {
      "model_module": "@jupyter-widgets/controls",
      "model_module_version": "1.5.0",
      "model_name": "DescriptionStyleModel",
      "state": {
       "description_width": ""
      }
     },
     "afa4929725154cf3a910f201b4ace12f": {
      "model_module": "@jupyter-widgets/controls",
      "model_module_version": "1.5.0",
      "model_name": "HTMLModel",
      "state": {
       "layout": "IPY_MODEL_59129cab5eab4ace88a46bf624f3b5f6",
       "style": "IPY_MODEL_6730ad3daed945c1a788cfe40f0ad72d",
       "value": "<a href='https://github.com/ICOS-Carbon-Portal/jupyter/issues' target='_blank'>Click here to report an issue</a>"
      }
     },
     "afa4f733ee3248bd9a3236c677639f38": {
      "model_module": "@jupyter-widgets/base",
      "model_module_version": "1.2.0",
      "model_name": "LayoutModel",
      "state": {}
     },
     "afb167b575f14d73aec72d5e542a0bbe": {
      "model_module": "@jupyter-widgets/controls",
      "model_module_version": "1.5.0",
      "model_name": "DescriptionStyleModel",
      "state": {
       "description_width": ""
      }
     },
     "afb313f11d0841ea98376b643bca650c": {
      "model_module": "@jupyter-widgets/base",
      "model_module_version": "1.2.0",
      "model_name": "LayoutModel",
      "state": {}
     },
     "afd2ab19e66841b7b7ffe08ec24bf13b": {
      "model_module": "@jupyter-widgets/controls",
      "model_module_version": "1.5.0",
      "model_name": "HTMLModel",
      "state": {
       "layout": "IPY_MODEL_bb504374e5e24684926cbc01ca868f8e",
       "style": "IPY_MODEL_503af46c1a944a5aaf98d3cd5a2947d4",
       "value": "<b>GitHub: </b> "
      }
     },
     "afd98bdad33a4c8fbd9b7e0c7751ff4f": {
      "model_module": "@jupyter-widgets/base",
      "model_module_version": "1.2.0",
      "model_name": "LayoutModel",
      "state": {}
     },
     "b017390182e6407c9d01e3d9f56bc9fd": {
      "model_module": "@jupyter-widgets/controls",
      "model_module_version": "1.5.0",
      "model_name": "HTMLModel",
      "state": {
       "layout": "IPY_MODEL_505c33342f20464ba7e60ff4ac0e2206",
       "style": "IPY_MODEL_67e3e904d54645708aae0cfc7ae405db",
       "value": "<a href=\"mailto: jupyter-info@icos-cp.eu\">jupyter-info@icos-cp.eu</a>, <a href=\"mailto: claudio.donofrio@nateko.lu.se\">claudio.donofrio@nateko.lu.se</a>"
      }
     },
     "b02f503a082d4a33ae3cbd42d5d645f5": {
      "model_module": "@jupyter-widgets/controls",
      "model_module_version": "1.5.0",
      "model_name": "HTMLModel",
      "state": {
       "layout": "IPY_MODEL_46b25a6f40b94db3b638ced23e5cd48a",
       "style": "IPY_MODEL_b64a91e3fbc344a98bb063eff0336f4c",
       "value": "<a href='https://github.com/ICOS-Carbon-Portal/jupyter/issues' target='_blank'>Click here to report an issue</a>"
      }
     },
     "b06951b7849d4e5293756c8f236a10a7": {
      "model_module": "@jupyter-widgets/controls",
      "model_module_version": "1.5.0",
      "model_name": "DescriptionStyleModel",
      "state": {
       "description_width": ""
      }
     },
     "b06fc162f32441ac8a66762a856ce833": {
      "model_module": "@jupyter-widgets/base",
      "model_module_version": "1.2.0",
      "model_name": "LayoutModel",
      "state": {}
     },
     "b072385984324942822a4c10dac70e0b": {
      "model_module": "@jupyter-widgets/controls",
      "model_module_version": "1.5.0",
      "model_name": "HTMLModel",
      "state": {
       "layout": "IPY_MODEL_92775ce204214b268ec94954984dc9d0",
       "style": "IPY_MODEL_62657e8ca145478a891db93c2819bed3",
       "value": "<b>GitHub: </b> "
      }
     },
     "b07685bdf3364ea690777d6f9ab98eeb": {
      "model_module": "@jupyter-widgets/controls",
      "model_module_version": "1.5.0",
      "model_name": "DescriptionStyleModel",
      "state": {
       "description_width": ""
      }
     },
     "b07a31d69c02421faebb8ee12448e19d": {
      "model_module": "@jupyter-widgets/controls",
      "model_module_version": "1.5.0",
      "model_name": "DescriptionStyleModel",
      "state": {
       "description_width": ""
      }
     },
     "b0a07caeacd44ac2a9422ccae8482f1b": {
      "model_module": "@jupyter-widgets/controls",
      "model_module_version": "1.5.0",
      "model_name": "HTMLModel",
      "state": {
       "layout": "IPY_MODEL_f9727a1095614d838a0133de2cf62cf5",
       "style": "IPY_MODEL_1cae758807cd4a3ebb7b732bc420e845",
       "value": "<img src=\"./icos_jupyter_notebooks/ind_tools/img/02_pylib_ex/ex6a.PNG\">"
      }
     },
     "b0af77b2e1b8402ab173438a7bf5e22a": {
      "model_module": "@jupyter-widgets/controls",
      "model_module_version": "1.5.0",
      "model_name": "DescriptionStyleModel",
      "state": {
       "description_width": ""
      }
     },
     "b0b38f70992341dfb5f29d6f396e53ae": {
      "model_module": "@jupyter-widgets/controls",
      "model_module_version": "1.5.0",
      "model_name": "HTMLModel",
      "state": {
       "layout": "IPY_MODEL_50ae4c63e5f94199874dfafdda48b94e",
       "style": "IPY_MODEL_fdab07b9627645918e0c699d4ce9627f",
       "value": "<b>Contact: </b> "
      }
     },
     "b0c3b47b36a54a188c82b82d64eb7491": {
      "model_module": "@jupyter-widgets/controls",
      "model_module_version": "1.5.0",
      "model_name": "DescriptionStyleModel",
      "state": {
       "description_width": ""
      }
     },
     "b0cd9b52a6454aac92ee3039e4693f20": {
      "model_module": "@jupyter-widgets/controls",
      "model_module_version": "1.5.0",
      "model_name": "HTMLModel",
      "state": {
       "layout": "IPY_MODEL_5dbdad98b9274d5fa712581328a328ce",
       "style": "IPY_MODEL_682ce5007cd74219838f2bc9dc7170b6",
       "value": "<b>Contact: </b> "
      }
     },
     "b0d0a25424c24a9b8a159227090385ce": {
      "model_module": "@jupyter-widgets/base",
      "model_module_version": "1.2.0",
      "model_name": "LayoutModel",
      "state": {}
     },
     "b0dcfab4ac404980a8253bf938b9e717": {
      "model_module": "@jupyter-widgets/controls",
      "model_module_version": "1.5.0",
      "model_name": "HTMLModel",
      "state": {
       "layout": "IPY_MODEL_ee026ee894cd414b85353d0c4d746bd0",
       "style": "IPY_MODEL_ffa67ee93eab48318a27bdec3e024ab8",
       "value": "<b>Description: </b> "
      }
     },
     "b0f2a5b2c7da4f03953e96131d65731d": {
      "model_module": "@jupyter-widgets/controls",
      "model_module_version": "1.5.0",
      "model_name": "DescriptionStyleModel",
      "state": {
       "description_width": ""
      }
     },
     "b0f46341852441f59992ac2379b5e730": {
      "model_module": "@jupyter-widgets/controls",
      "model_module_version": "1.5.0",
      "model_name": "HTMLModel",
      "state": {
       "layout": "IPY_MODEL_096851aedc5a4094979ed727ee41b8a8",
       "style": "IPY_MODEL_5ab19956de2745cc8edbb1165febc238",
       "value": "<img src=\"./icos_jupyter_notebooks/ind_tools/img/02_pylib_ex/ex2.PNG\">"
      }
     },
     "b101fefe762f4acc85c128ffb7cc8e5b": {
      "model_module": "@jupyter-widgets/base",
      "model_module_version": "1.2.0",
      "model_name": "LayoutModel",
      "state": {}
     },
     "b111330cf7e24a3ab70dce7581b99f7a": {
      "model_module": "@jupyter-widgets/controls",
      "model_module_version": "1.5.0",
      "model_name": "DescriptionStyleModel",
      "state": {
       "description_width": ""
      }
     },
     "b1217c796a8d4b99819650b2e8abc0f5": {
      "model_module": "@jupyter-widgets/controls",
      "model_module_version": "1.5.0",
      "model_name": "DescriptionStyleModel",
      "state": {
       "description_width": ""
      }
     },
     "b122bd67000e406692299fc547d43956": {
      "model_module": "@jupyter-widgets/controls",
      "model_module_version": "1.5.0",
      "model_name": "HTMLModel",
      "state": {
       "layout": "IPY_MODEL_016edb114882411386fe87b181a79386",
       "style": "IPY_MODEL_4c4b07752b25466e8d0d0ee8c4a7f093",
       "value": "This category includes notebooks that are part of ICOS CP's webinars/workshops as well as notebooks that present the scientific output of projects ICOS has been involved in."
      }
     },
     "b12e6f9c7ddf4f1590c9eae2c2247810": {
      "model_module": "@jupyter-widgets/base",
      "model_module_version": "1.2.0",
      "model_name": "LayoutModel",
      "state": {}
     },
     "b1354404fc9749ddb4fa2adc4d6689dd": {
      "model_module": "@jupyter-widgets/base",
      "model_module_version": "1.2.0",
      "model_name": "LayoutModel",
      "state": {}
     },
     "b13cb64ca30b419093de3503408a4ca8": {
      "model_module": "@jupyter-widgets/controls",
      "model_module_version": "1.5.0",
      "model_name": "HTMLModel",
      "state": {
       "layout": "IPY_MODEL_41963cdae98f408ca617fc599e89cada",
       "style": "IPY_MODEL_248e6f4f149247d8a2770fc4bee1ea7c",
       "value": "<a href=\"mailto: jupyter-info@icos-cp.eu\">jupyter-info@icos-cp.eu</a>, <a href=\"mailto: Steve.Jones@uib.no\">Steve.Jones@uib.no</a>"
      }
     },
     "b144f11a95214b499010d5628c869e3f": {
      "model_module": "@jupyter-widgets/controls",
      "model_module_version": "1.5.0",
      "model_name": "HTMLModel",
      "state": {
       "layout": "IPY_MODEL_21067d56358c44149e295825f97d39b5",
       "style": "IPY_MODEL_8cfce59745a848d6ad22290be5f764dc",
       "value": "<b>GitHub: </b> "
      }
     },
     "b1493833e9de41a2982ac8c531c580ae": {
      "model_module": "@jupyter-widgets/controls",
      "model_module_version": "1.5.0",
      "model_name": "DescriptionStyleModel",
      "state": {
       "description_width": ""
      }
     },
     "b154eb0036cd4bc68020f834a726b6fd": {
      "model_module": "@jupyter-widgets/base",
      "model_module_version": "1.2.0",
      "model_name": "LayoutModel",
      "state": {
       "grid_gap": "5px 10px",
       "grid_template_columns": "100px auto",
       "grid_template_rows": "auto auto auto auto auto",
       "padding": "50px 0px 70px 0px",
       "width": "100%"
      }
     },
     "b18acec4009f4b5196a12cddd2d1f33f": {
      "model_module": "@jupyter-widgets/base",
      "model_module_version": "1.2.0",
      "model_name": "LayoutModel",
      "state": {}
     },
     "b1965cca76f04c2d920a93b673311b65": {
      "model_module": "@jupyter-widgets/base",
      "model_module_version": "1.2.0",
      "model_name": "LayoutModel",
      "state": {}
     },
     "b199bb290ae54ffabc66aa554d6a4a99": {
      "model_module": "@jupyter-widgets/controls",
      "model_module_version": "1.5.0",
      "model_name": "DescriptionStyleModel",
      "state": {
       "description_width": ""
      }
     },
     "b1aa2870a7b2455daaacd16657495dce": {
      "model_module": "@jupyter-widgets/controls",
      "model_module_version": "1.5.0",
      "model_name": "DescriptionStyleModel",
      "state": {
       "description_width": ""
      }
     },
     "b1b1b626b9854a6a8aa97034048ea15d": {
      "model_module": "@jupyter-widgets/controls",
      "model_module_version": "1.5.0",
      "model_name": "HTMLModel",
      "state": {
       "layout": "IPY_MODEL_c6b42208caad4e01854bb8a38ae355e7",
       "style": "IPY_MODEL_3c5adbbbe17b4026bce035ff7dc27b11",
       "value": "<img src=\"./icos_jupyter_notebooks/ind_tools/img/02_pylib_ex/ex1.PNG\">"
      }
     },
     "b1bc0be9f47a499dbe124fd682672653": {
      "model_module": "@jupyter-widgets/controls",
      "model_module_version": "1.5.0",
      "model_name": "DescriptionStyleModel",
      "state": {
       "description_width": ""
      }
     },
     "b1bed07d36b84487bd401f6767322cad": {
      "model_module": "@jupyter-widgets/controls",
      "model_module_version": "1.5.0",
      "model_name": "DescriptionStyleModel",
      "state": {
       "description_width": ""
      }
     },
     "b1c76feab7a641788439f32549627948": {
      "model_module": "@jupyter-widgets/controls",
      "model_module_version": "1.5.0",
      "model_name": "GridBoxModel",
      "state": {
       "children": [
        "IPY_MODEL_c818e13d19124dd2829d3c920335db38",
        "IPY_MODEL_379fa343f32445c092169a155b223d55"
       ],
       "layout": "IPY_MODEL_360ce05a55e94ef69b6765ca7f8bbdd1"
      }
     },
     "b1c814c96d61451d8efc0a0f0adf9a7c": {
      "model_module": "@jupyter-widgets/base",
      "model_module_version": "1.2.0",
      "model_name": "LayoutModel",
      "state": {}
     },
     "b1d5be9eafab46a3aee40b1647904c0a": {
      "model_module": "@jupyter-widgets/base",
      "model_module_version": "1.2.0",
      "model_name": "LayoutModel",
      "state": {}
     },
     "b201ac6ad84648eb967426fd4b3db5ea": {
      "model_module": "@jupyter-widgets/controls",
      "model_module_version": "1.5.0",
      "model_name": "DescriptionStyleModel",
      "state": {
       "description_width": ""
      }
     },
     "b21c9807199c4655b36d0116c52c6e4c": {
      "model_module": "@jupyter-widgets/base",
      "model_module_version": "1.2.0",
      "model_name": "LayoutModel",
      "state": {}
     },
     "b296380b94364639ae51cb185531a340": {
      "model_module": "@jupyter-widgets/controls",
      "model_module_version": "1.5.0",
      "model_name": "DescriptionStyleModel",
      "state": {
       "description_width": ""
      }
     },
     "b2a6b4fdb09549ce92b9c6f760b169cc": {
      "model_module": "@jupyter-widgets/controls",
      "model_module_version": "1.5.0",
      "model_name": "HTMLModel",
      "state": {
       "layout": "IPY_MODEL_328ae93e79fe46b195869ac1e9aba038",
       "style": "IPY_MODEL_4de2e691649d45fe8ecc800a098cef09",
       "value": "<b>GitHub: </b> "
      }
     },
     "b2aaed5201ba46169d324efe69692951": {
      "model_module": "@jupyter-widgets/controls",
      "model_module_version": "1.5.0",
      "model_name": "HTMLModel",
      "state": {
       "layout": "IPY_MODEL_5c1f771d4d704a6b9e8e21d5c9db3efe",
       "style": "IPY_MODEL_2dfb01ded96444e68396a8321056cd6d",
       "value": "<a href=./icos_jupyter_notebooks/radiocarbon.ipynb target='_blank'>Radiocarbon</a>"
      }
     },
     "b2b3acf543d044e3b520594c2771e380": {
      "model_module": "@jupyter-widgets/base",
      "model_module_version": "1.2.0",
      "model_name": "LayoutModel",
      "state": {
       "grid_gap": "5px 10px",
       "grid_template_columns": "100px auto",
       "grid_template_rows": "auto auto auto auto auto",
       "padding": "50px 0px 70px 0px",
       "width": "100%"
      }
     },
     "b2c623f4db1044dea9ab600930020cda": {
      "model_module": "@jupyter-widgets/base",
      "model_module_version": "1.2.0",
      "model_name": "LayoutModel",
      "state": {}
     },
     "b2ddaf48490344bf822e590e09d83f97": {
      "model_module": "@jupyter-widgets/controls",
      "model_module_version": "1.5.0",
      "model_name": "HTMLModel",
      "state": {
       "layout": "IPY_MODEL_1f393d34136d41d4956c49c50c6149d1",
       "style": "IPY_MODEL_7d68deede11247e88e80bccac0d6caa8",
       "value": "<a href='https://github.com/ICOS-Carbon-Portal/jupyter/issues' target='_blank'>Click here to report an issue</a>"
      }
     },
     "b2e32c022ee147a7bf22d1d928f32fdf": {
      "model_module": "@jupyter-widgets/controls",
      "model_module_version": "1.5.0",
      "model_name": "DescriptionStyleModel",
      "state": {
       "description_width": ""
      }
     },
     "b3026d7682374f069d3db7d86a10bc54": {
      "model_module": "@jupyter-widgets/controls",
      "model_module_version": "1.5.0",
      "model_name": "HTMLModel",
      "state": {
       "layout": "IPY_MODEL_7af4af165fd34d74b29a7aec7f102b85",
       "style": "IPY_MODEL_81643f7b7a794db9a1253c2ce37215ad",
       "value": "<b>GitHub: </b> "
      }
     },
     "b3283e96a7384101ac3c0b555dcadc44": {
      "model_module": "@jupyter-widgets/controls",
      "model_module_version": "1.5.0",
      "model_name": "HTMLModel",
      "state": {
       "layout": "IPY_MODEL_fe094c257d054b0d9e975a668240a9f2",
       "style": "IPY_MODEL_e7ba1b7a113745b2b6ace44d4de40591",
       "value": "<b>Thumbnail: </b> "
      }
     },
     "b3502c225e704da8ac8a1a78b71c893f": {
      "model_module": "@jupyter-widgets/base",
      "model_module_version": "1.2.0",
      "model_name": "LayoutModel",
      "state": {
       "grid_gap": "5px 10px",
       "grid_template_columns": "100px auto",
       "grid_template_rows": "auto auto auto auto auto",
       "padding": "50px 0px 70px 0px",
       "width": "100%"
      }
     },
     "b357f8f2aacc412f91a5682f9740d954": {
      "model_module": "@jupyter-widgets/controls",
      "model_module_version": "1.5.0",
      "model_name": "HTMLModel",
      "state": {
       "layout": "IPY_MODEL_28b00e53e4a74987874491ce64b32742",
       "style": "IPY_MODEL_3d01cd11975449a1b312de17471ddcc3",
       "value": "<b>Contact: </b> "
      }
     },
     "b36506f1123842d99bdcc193f7004f47": {
      "model_module": "@jupyter-widgets/controls",
      "model_module_version": "1.5.0",
      "model_name": "DescriptionStyleModel",
      "state": {
       "description_width": ""
      }
     },
     "b36d106ed0bc4540ba256ae785163115": {
      "model_module": "@jupyter-widgets/base",
      "model_module_version": "1.2.0",
      "model_name": "LayoutModel",
      "state": {}
     },
     "b3844f2dfcde4d3a99c5bbc2526349fb": {
      "model_module": "@jupyter-widgets/controls",
      "model_module_version": "1.5.0",
      "model_name": "DescriptionStyleModel",
      "state": {
       "description_width": ""
      }
     },
     "b3935bc930d14ecb80b9c939ce6eac15": {
      "model_module": "@jupyter-widgets/controls",
      "model_module_version": "1.5.0",
      "model_name": "HTMLModel",
      "state": {
       "layout": "IPY_MODEL_853f8c2893704de6a86b8181050f2f12",
       "style": "IPY_MODEL_c8d6f1c773074e3f9c319c16cf14c755",
       "value": "<b>Thumbnail: </b> "
      }
     },
     "b39c625e293c46c7a499b8dae4dfcfb5": {
      "model_module": "@jupyter-widgets/controls",
      "model_module_version": "1.5.0",
      "model_name": "GridBoxModel",
      "state": {
       "children": [
        "IPY_MODEL_5f44e062027b4dc981cae005b718e2ab",
        "IPY_MODEL_4d2d9e04e0ac440f894ce4172f22630c",
        "IPY_MODEL_ba76b019e3be4b05a7c85183abce0d38",
        "IPY_MODEL_d11fe708c3424d83970aff9a60486356",
        "IPY_MODEL_f90d2f735a9c494d92c75d6cea8c0e00",
        "IPY_MODEL_e7c9c5f4197b491fa8baea7b10ae1f63",
        "IPY_MODEL_16ecb9e8c8334c7eb3ff493343807317",
        "IPY_MODEL_20159ff5e21a46c883ef90b888bc6350",
        "IPY_MODEL_293ef2f336794d36ab1b2da27576cf99",
        "IPY_MODEL_9580472bf1674c5faa01a00e2403692d"
       ],
       "layout": "IPY_MODEL_b91ff4f011374aa08168ebd59304de25"
      }
     },
     "b3d18178eae3482d98ed1f4a2e8addff": {
      "model_module": "@jupyter-widgets/controls",
      "model_module_version": "1.5.0",
      "model_name": "HTMLModel",
      "state": {
       "layout": "IPY_MODEL_6381cdac23fc434db90b302ae7450cf4",
       "style": "IPY_MODEL_2ed460ecffeb4b7db5e40b274fe375d9",
       "value": "<img src=\"./icos_jupyter_notebooks/ind_tools/img/04_proj_JNBs/envrifair_ws/maps/ex3.PNG\">"
      }
     },
     "b3decc5f68994e6a87ad8a3fd22b1ecc": {
      "model_module": "@jupyter-widgets/controls",
      "model_module_version": "1.5.0",
      "model_name": "DescriptionStyleModel",
      "state": {
       "description_width": ""
      }
     },
     "b42b7e1ec1c04959b18c1eacb436a9d4": {
      "model_module": "@jupyter-widgets/base",
      "model_module_version": "1.2.0",
      "model_name": "LayoutModel",
      "state": {}
     },
     "b4357962ed0c4149b7921dd11d36c161": {
      "model_module": "@jupyter-widgets/controls",
      "model_module_version": "1.5.0",
      "model_name": "HTMLModel",
      "state": {
       "layout": "IPY_MODEL_0fe6dc55501a40d4a76a4cd0c79903fc",
       "style": "IPY_MODEL_385c12722dfa42e1adb488c454df31cc",
       "value": "<b>Contact: </b> "
      }
     },
     "b436fdb5077d4e8bbaed16071e089b8c": {
      "model_module": "@jupyter-widgets/controls",
      "model_module_version": "1.5.0",
      "model_name": "DescriptionStyleModel",
      "state": {
       "description_width": ""
      }
     },
     "b448341269e14f5ca6bbae9444d76fae": {
      "model_module": "@jupyter-widgets/controls",
      "model_module_version": "1.5.0",
      "model_name": "DescriptionStyleModel",
      "state": {
       "description_width": ""
      }
     },
     "b45798af5173477daa5e9189fb5fff2a": {
      "model_module": "@jupyter-widgets/controls",
      "model_module_version": "1.5.0",
      "model_name": "DescriptionStyleModel",
      "state": {
       "description_width": ""
      }
     },
     "b4830ff7b1b24f968e0ff1eed96da042": {
      "model_module": "@jupyter-widgets/controls",
      "model_module_version": "1.5.0",
      "model_name": "DescriptionStyleModel",
      "state": {
       "description_width": ""
      }
     },
     "b4855d99869a4430bddc6e77478b6472": {
      "model_module": "@jupyter-widgets/base",
      "model_module_version": "1.2.0",
      "model_name": "LayoutModel",
      "state": {}
     },
     "b4908cd5091d401db47f27bd4931af93": {
      "model_module": "@jupyter-widgets/controls",
      "model_module_version": "1.5.0",
      "model_name": "DescriptionStyleModel",
      "state": {
       "description_width": ""
      }
     },
     "b490f56b30664aa78e3a94a2d16e8321": {
      "model_module": "@jupyter-widgets/controls",
      "model_module_version": "1.5.0",
      "model_name": "HTMLModel",
      "state": {
       "layout": "IPY_MODEL_6a33b70aeddc424cb50b4147c387abd8",
       "style": "IPY_MODEL_8bc7d5f647734d54ba8f30131400f529",
       "value": "<b>Contact: </b> "
      }
     },
     "b4935d8f13ad4213ab50eb1aa0cd9411": {
      "model_module": "@jupyter-widgets/controls",
      "model_module_version": "1.5.0",
      "model_name": "DescriptionStyleModel",
      "state": {
       "description_width": ""
      }
     },
     "b4ca4f51c76847e1ade87cbadf773c2d": {
      "model_module": "@jupyter-widgets/controls",
      "model_module_version": "1.5.0",
      "model_name": "DescriptionStyleModel",
      "state": {
       "description_width": ""
      }
     },
     "b4d00ec7d84a40c1b6d6387f60a39d5e": {
      "model_module": "@jupyter-widgets/base",
      "model_module_version": "1.2.0",
      "model_name": "LayoutModel",
      "state": {}
     },
     "b4fea9f0628f44f0a277105090f2ba72": {
      "model_module": "@jupyter-widgets/base",
      "model_module_version": "1.2.0",
      "model_name": "LayoutModel",
      "state": {
       "grid_gap": "5px 10px",
       "grid_template_columns": "100px auto",
       "grid_template_rows": "auto auto auto auto auto",
       "padding": "50px 0px 70px 0px",
       "width": "100%"
      }
     },
     "b503594c2c3f4cf7b46a61b62ed01a4e": {
      "model_module": "@jupyter-widgets/controls",
      "model_module_version": "1.5.0",
      "model_name": "HTMLModel",
      "state": {
       "layout": "IPY_MODEL_301de36fadef43d0b3ba2ec2f875f064",
       "style": "IPY_MODEL_57df5d658250443e8bde44f4888d4fc4",
       "value": "<a href=\"mailto: jupyter-info@icos-cp.eu\">jupyter-info@icos-cp.eu</a>, <a href=\"mailto: ida.storm@nateko.lu.se\">ida.storm@nateko.lu.se</a>"
      }
     },
     "b50571cba3e2473dafaf44cd77f64d1d": {
      "model_module": "@jupyter-widgets/controls",
      "model_module_version": "1.5.0",
      "model_name": "DescriptionStyleModel",
      "state": {
       "description_width": ""
      }
     },
     "b5103f9ab0db475e90654b3002b8b3f7": {
      "model_module": "@jupyter-widgets/base",
      "model_module_version": "1.2.0",
      "model_name": "LayoutModel",
      "state": {}
     },
     "b543f1c695bc4db7b80db0c45d62b2dd": {
      "model_module": "@jupyter-widgets/base",
      "model_module_version": "1.2.0",
      "model_name": "LayoutModel",
      "state": {}
     },
     "b581e83b5d5948d29e18d8f0c322b9a4": {
      "model_module": "@jupyter-widgets/controls",
      "model_module_version": "1.5.0",
      "model_name": "GridBoxModel",
      "state": {
       "children": [
        "IPY_MODEL_768acee9c18d4e73b785fad64787e692",
        "IPY_MODEL_97bbf585863e4c7ea3c615d04842681d",
        "IPY_MODEL_51e1ce291c4c40bca71e9265d1114b20",
        "IPY_MODEL_baefd302515044b59012e9950c6ece1b",
        "IPY_MODEL_b771cd7d081446a9bb3ead0c41202eb7",
        "IPY_MODEL_66de6729e1c64d449b7851c8b4d65df1",
        "IPY_MODEL_1fb94a8143e44fb89a5838e8a3324c24",
        "IPY_MODEL_30828a0ca95a4c48bb488369f2f5ee5c",
        "IPY_MODEL_015c759ef62a4c3e99d08b0adfdffe0a",
        "IPY_MODEL_3eb62c90143c4dd186dcadf847b8b2d2"
       ],
       "layout": "IPY_MODEL_340e3da005804bcd8b94b40af127994e"
      }
     },
     "b582d930d1844dc9a9e3d88aedddf932": {
      "model_module": "@jupyter-widgets/base",
      "model_module_version": "1.2.0",
      "model_name": "LayoutModel",
      "state": {}
     },
     "b58a5db7f7f442bf869942c87c460955": {
      "model_module": "@jupyter-widgets/controls",
      "model_module_version": "1.5.0",
      "model_name": "HTMLModel",
      "state": {
       "layout": "IPY_MODEL_9cf9066d707d482fabda89d0379aabd0",
       "style": "IPY_MODEL_bb4941267c574f449a15840b6f97703c",
       "value": "<a href=\"mailto: jupyter-info@icos-cp.eu\">jupyter-info@icos-cp.eu</a>, <a href=\"mailto: claudio.donofrio@nateko.lu.se\">claudio.donofrio@nateko.lu.se</a>"
      }
     },
     "b5a7c36900de46b7b390f7cf2b26cedf": {
      "model_module": "@jupyter-widgets/controls",
      "model_module_version": "1.5.0",
      "model_name": "DescriptionStyleModel",
      "state": {
       "description_width": ""
      }
     },
     "b5b06ef0c8da49b9b25d4e8cd6727f57": {
      "model_module": "@jupyter-widgets/controls",
      "model_module_version": "1.5.0",
      "model_name": "DescriptionStyleModel",
      "state": {
       "description_width": ""
      }
     },
     "b5ce91a61b3242ae93a64f753437b65a": {
      "model_module": "@jupyter-widgets/base",
      "model_module_version": "1.2.0",
      "model_name": "LayoutModel",
      "state": {}
     },
     "b5d0639173d046d780460f1352fac9ec": {
      "model_module": "@jupyter-widgets/controls",
      "model_module_version": "1.5.0",
      "model_name": "DescriptionStyleModel",
      "state": {
       "description_width": ""
      }
     },
     "b5d7b9910e034529b33ed7c094794422": {
      "model_module": "@jupyter-widgets/controls",
      "model_module_version": "1.5.0",
      "model_name": "DescriptionStyleModel",
      "state": {
       "description_width": ""
      }
     },
     "b5df43c1c2a1487c8d9a459f6c622eea": {
      "model_module": "@jupyter-widgets/controls",
      "model_module_version": "1.5.0",
      "model_name": "HTMLModel",
      "state": {
       "layout": "IPY_MODEL_f2a36b80b75e47879dbacf2c25417892",
       "style": "IPY_MODEL_d27988a75b024feca912130e37159d38",
       "value": "<b>GitHub: </b> "
      }
     },
     "b5f36e6cb1404dafb2af936eeda6d70f": {
      "model_module": "@jupyter-widgets/controls",
      "model_module_version": "1.5.0",
      "model_name": "DescriptionStyleModel",
      "state": {
       "description_width": ""
      }
     },
     "b605c95f7d4d4443a6171bcaf70b037e": {
      "model_module": "@jupyter-widgets/controls",
      "model_module_version": "1.5.0",
      "model_name": "HTMLModel",
      "state": {
       "layout": "IPY_MODEL_de9c46b687464feab4972131b0d69858",
       "style": "IPY_MODEL_92fdeab613f142169000f1febfae0814",
       "value": "<b>Description: </b> "
      }
     },
     "b60ea26fb08e4f84addf103f893bfd83": {
      "model_module": "@jupyter-widgets/controls",
      "model_module_version": "1.5.0",
      "model_name": "HTMLModel",
      "state": {
       "layout": "IPY_MODEL_5e8ee1980b234c5ea8bf6f1f7e9d22e2",
       "style": "IPY_MODEL_df4c2d8e7c9f4efc99cf17d1e31584a1",
       "value": "<b>Description: </b> "
      }
     },
     "b61b09a3acbb4005aa0fa2078fb3d08d": {
      "model_module": "@jupyter-widgets/controls",
      "model_module_version": "1.5.0",
      "model_name": "HTMLModel",
      "state": {
       "layout": "IPY_MODEL_83ccdeb2d3644783a66b71a38ff9339b",
       "style": "IPY_MODEL_3f61a838fb1b42cab01249acdcbbce97",
       "value": "<b>GitHub: </b> "
      }
     },
     "b62d12d31de44355953add743d6072e5": {
      "model_module": "@jupyter-widgets/base",
      "model_module_version": "1.2.0",
      "model_name": "LayoutModel",
      "state": {}
     },
     "b646073cd3ba4ac3a3231c1f8b864cb1": {
      "model_module": "@jupyter-widgets/controls",
      "model_module_version": "1.5.0",
      "model_name": "DescriptionStyleModel",
      "state": {
       "description_width": ""
      }
     },
     "b64a91e3fbc344a98bb063eff0336f4c": {
      "model_module": "@jupyter-widgets/controls",
      "model_module_version": "1.5.0",
      "model_name": "DescriptionStyleModel",
      "state": {
       "description_width": ""
      }
     },
     "b69980557bdf493b8464bd1153e4ea69": {
      "model_module": "@jupyter-widgets/controls",
      "model_module_version": "1.5.0",
      "model_name": "DescriptionStyleModel",
      "state": {
       "description_width": ""
      }
     },
     "b69b128667cb4e69961adc4575c6394c": {
      "model_module": "@jupyter-widgets/base",
      "model_module_version": "1.2.0",
      "model_name": "LayoutModel",
      "state": {}
     },
     "b69bd67844d4446799a697d75691d755": {
      "model_module": "@jupyter-widgets/controls",
      "model_module_version": "1.5.0",
      "model_name": "DescriptionStyleModel",
      "state": {
       "description_width": ""
      }
     },
     "b6b9285e9aa94580b64ec9fbbb1da685": {
      "model_module": "@jupyter-widgets/controls",
      "model_module_version": "1.5.0",
      "model_name": "DescriptionStyleModel",
      "state": {
       "description_width": ""
      }
     },
     "b6b9db57b7604af691c694b4a4e438b6": {
      "model_module": "@jupyter-widgets/controls",
      "model_module_version": "1.5.0",
      "model_name": "AccordionModel",
      "state": {
       "_titles": {
        "0": "ENVRIFAIR winterschool",
        "1": "OTC Data Reduction Workshop",
        "2": "RINGO_T1.3"
       },
       "children": [
        "IPY_MODEL_3a5cf1bd011b45bc82d4371844c9a1ca",
        "IPY_MODEL_77dc8f9123ff41979dbbb37bc7999f1c",
        "IPY_MODEL_2f0b6d0501bf4be78bf2d321edb94c3d"
       ],
       "layout": "IPY_MODEL_b1354404fc9749ddb4fa2adc4d6689dd",
       "selected_index": null
      }
     },
     "b6caf857492f492d976d301babe65935": {
      "model_module": "@jupyter-widgets/base",
      "model_module_version": "1.2.0",
      "model_name": "LayoutModel",
      "state": {}
     },
     "b6d75850ea8f407a913d1dcc26aff63a": {
      "model_module": "@jupyter-widgets/controls",
      "model_module_version": "1.5.0",
      "model_name": "HTMLModel",
      "state": {
       "layout": "IPY_MODEL_1fe4431b08ca4d73a09a629fc63b12ef",
       "style": "IPY_MODEL_c46f5f544ee246e396bf7db876f88d81",
       "value": "<a href=./project_jupyter_notebooks/OTC%20Data%20Reduction%20Workshop/Data%20Reduction%20part%204%20-%20UWpCO2%20cruise.ipynb target='_blank'>pCO₂ Data Reduction part 4 - UW pCO₂ cruise</a>"
      }
     },
     "b6d7d92d5553414baf231131d4f8743b": {
      "model_module": "@jupyter-widgets/controls",
      "model_module_version": "1.5.0",
      "model_name": "DescriptionStyleModel",
      "state": {
       "description_width": ""
      }
     },
     "b6dc79133d4e41fda613f0596b1b57f7": {
      "model_module": "@jupyter-widgets/controls",
      "model_module_version": "1.5.0",
      "model_name": "DescriptionStyleModel",
      "state": {
       "description_width": ""
      }
     },
     "b6e45d62cd8a4217bb69e3e8e5cbb4d9": {
      "model_module": "@jupyter-widgets/controls",
      "model_module_version": "1.5.0",
      "model_name": "DescriptionStyleModel",
      "state": {
       "description_width": ""
      }
     },
     "b73d5acc33f64ca5a4622f81b9c7bad6": {
      "model_module": "@jupyter-widgets/controls",
      "model_module_version": "1.5.0",
      "model_name": "HTMLModel",
      "state": {
       "layout": "IPY_MODEL_5c9e5dd8db104eabb7e33ae9a92b9f47",
       "style": "IPY_MODEL_ad1765cce003478e85e9b646c8b00fe0",
       "value": "This Jupyter notebook provides examples on how to access data and metadata for ICOS stations and observations with the help of <a href='https://meta.icos-cp.eu/sparqlclient/' target='_blank'>SPARQL queries</a> using ICOS Carbon Portal Python library. Full documentation for the ICOS library on the <a href='https://icos-carbon-portal.github.io/pylib/' target='_blank'>project page</a>, how to install and wheel on <a href='https://pypi.org/project/icoscp/' target='_blank'>pypi.org</a>, source available on <a href='https://github.com/ICOS-Carbon-Portal/pylib' target='_blank'>GitHub</a>."
      }
     },
     "b741f692818045dab1f465717031a25a": {
      "model_module": "@jupyter-widgets/controls",
      "model_module_version": "1.5.0",
      "model_name": "GridBoxModel",
      "state": {
       "children": [
        "IPY_MODEL_aef348326ddc4d6f96a5d29d0116cdd2",
        "IPY_MODEL_9db42975f77d40a1bfb20b63a4ef1e93"
       ],
       "layout": "IPY_MODEL_e17af4175f5647149c3a2fabbffd2f45"
      }
     },
     "b75801e3a9444fe69f423b8526a38f54": {
      "model_module": "@jupyter-widgets/controls",
      "model_module_version": "1.5.0",
      "model_name": "HTMLModel",
      "state": {
       "layout": "IPY_MODEL_7b079414b24c4004aacbfbb04f7246d6",
       "style": "IPY_MODEL_89cd5691c1fa4284b8638fd8ebe51e60",
       "value": "This Jupyter notebook presents examples on how to search for <a href='http://stilt-model.org/index.php/Main/HomePage' target='_blank'>STILT</a> stations, load the modelled data, and create some simple visualisations and animations, all using the ICOS Carbon Portal Python library. Full documentation for the ICOS library is available on the <a href='https://icos-carbon-portal.github.io/pylib/' target='_blank'>project page</a>, how to install and wheel on <a href='https://pypi.org/project/icoscp/' target='_blank'>pypi.org</a>, source available on <a href='https://github.com/ICOS-Carbon-Portal/pylib' target='_blank'>GitHub</a>."
      }
     },
     "b75a6145ed6e48509ca4f57b62d751fe": {
      "model_module": "@jupyter-widgets/base",
      "model_module_version": "1.2.0",
      "model_name": "LayoutModel",
      "state": {}
     },
     "b75da7cdcd8a4f3aba7d15dfa5d537f6": {
      "model_module": "@jupyter-widgets/controls",
      "model_module_version": "1.5.0",
      "model_name": "HTMLModel",
      "state": {
       "layout": "IPY_MODEL_6c62bb3de097443abcff3745be192e06",
       "style": "IPY_MODEL_cae7ea33b6674343928e4d9eb898c284",
       "value": "<b>Description: </b> "
      }
     },
     "b771cd7d081446a9bb3ead0c41202eb7": {
      "model_module": "@jupyter-widgets/controls",
      "model_module_version": "1.5.0",
      "model_name": "HTMLModel",
      "state": {
       "layout": "IPY_MODEL_035e188fbd76444ca101e81582b9961a",
       "style": "IPY_MODEL_b976e0beb1f7454fb3f7128b371674a1",
       "value": "<b>Contact: </b> "
      }
     },
     "b7813fc89b804cc1bfdbae697b6607dd": {
      "model_module": "@jupyter-widgets/controls",
      "model_module_version": "1.5.0",
      "model_name": "DescriptionStyleModel",
      "state": {
       "description_width": ""
      }
     },
     "b78d6e4e94f14aa5a46b11fa7ffcfa85": {
      "model_module": "@jupyter-widgets/controls",
      "model_module_version": "1.5.0",
      "model_name": "HTMLModel",
      "state": {
       "layout": "IPY_MODEL_420f4ab18f4d4f78b8d58e18037f6624",
       "style": "IPY_MODEL_7fa0e96cd0a54b908fa053b6f08af96a",
       "value": "<b>Title: </b> "
      }
     },
     "b79a649317de4b3abd27f749bd8f6fb1": {
      "model_module": "@jupyter-widgets/base",
      "model_module_version": "1.2.0",
      "model_name": "LayoutModel",
      "state": {
       "grid_gap": "5px 10px",
       "grid_template_columns": "100px auto",
       "grid_template_rows": "auto auto auto auto auto",
       "padding": "50px 0px 70px 0px",
       "width": "100%"
      }
     },
     "b79d86145dff464ca00c913bc8c48bdf": {
      "model_module": "@jupyter-widgets/controls",
      "model_module_version": "1.5.0",
      "model_name": "HTMLModel",
      "state": {
       "layout": "IPY_MODEL_4801137ca2804a698202280174c4c666",
       "style": "IPY_MODEL_7f6365d39b424f56b18fd0d074739d14",
       "value": "<a href='https://github.com/ICOS-Carbon-Portal/jupyter/issues' target='_blank'>Click here to report an issue</a>"
      }
     },
     "b7e8aad410434c69990498da56c53ccb": {
      "model_module": "@jupyter-widgets/controls",
      "model_module_version": "1.5.0",
      "model_name": "DescriptionStyleModel",
      "state": {
       "description_width": ""
      }
     },
     "b80feac4d557421b8a3782a166adf033": {
      "model_module": "@jupyter-widgets/controls",
      "model_module_version": "1.5.0",
      "model_name": "DescriptionStyleModel",
      "state": {
       "description_width": ""
      }
     },
     "b81661aa6eb145d8b8a83ae04197ba71": {
      "model_module": "@jupyter-widgets/base",
      "model_module_version": "1.2.0",
      "model_name": "LayoutModel",
      "state": {}
     },
     "b864edcbaa3f4777a3bb580192ff4835": {
      "model_module": "@jupyter-widgets/controls",
      "model_module_version": "1.5.0",
      "model_name": "DescriptionStyleModel",
      "state": {
       "description_width": ""
      }
     },
     "b89859a4fbc64d16b86577b8f531e2be": {
      "model_module": "@jupyter-widgets/controls",
      "model_module_version": "1.5.0",
      "model_name": "HTMLModel",
      "state": {
       "layout": "IPY_MODEL_60ff7af0092047a48f2ebbbb4c78a4a8",
       "style": "IPY_MODEL_414b6e6f180446d3a38e2ee4c7d235bf",
       "value": "<a href=\"mailto: jupyter-info@icos-cp.eu\">jupyter-info@icos-cp.eu</a>, <a href=\"mailto: claudio.donofrio@nateko.lu.se\">claudio.donofrio@nateko.lu.se</a>"
      }
     },
     "b89919a860374c169053c1029cb016bc": {
      "model_module": "@jupyter-widgets/controls",
      "model_module_version": "1.5.0",
      "model_name": "HTMLModel",
      "state": {
       "layout": "IPY_MODEL_61d977e898184197aa8fd99ac53afc97",
       "style": "IPY_MODEL_e025ddd684e34ed1b73fc42295146fac",
       "value": "<b>Contact: </b> "
      }
     },
     "b8ad553c2c514ecfadb24dff27238f99": {
      "model_module": "@jupyter-widgets/controls",
      "model_module_version": "1.5.0",
      "model_name": "GridBoxModel",
      "state": {
       "children": [
        "IPY_MODEL_cc7a34fb1eee4fe49b9cbc39259d5eac",
        "IPY_MODEL_87c02368b05c48ae97015dc58f6789ae",
        "IPY_MODEL_f6154ec866934d9d8b1b23a3baee6d43",
        "IPY_MODEL_bc91a630866d4cb7a003b8a7fff0d28a",
        "IPY_MODEL_31793774f6e040a3b93cf59cb434c353",
        "IPY_MODEL_f9858eccefc54a3d81f2d60307f88926",
        "IPY_MODEL_3a9cf80d1be04f15898e839f35fa2c65",
        "IPY_MODEL_d9384c7932f64ec8b51352dc9bcc6f3a",
        "IPY_MODEL_533af94444604076a88b7f4630c5f6f6",
        "IPY_MODEL_40e927317b0a45299b6e24d0922e1eec"
       ],
       "layout": "IPY_MODEL_61ff6b1fabf94c1eab1d955db129ce46"
      }
     },
     "b8cc5bfafa494d5fa17d5f8d16912c55": {
      "model_module": "@jupyter-widgets/controls",
      "model_module_version": "1.5.0",
      "model_name": "HTMLModel",
      "state": {
       "layout": "IPY_MODEL_3519e40551b544d593cd11cf8bead440",
       "style": "IPY_MODEL_1ed6a8a108da47f2a55efb700d138c05",
       "value": "<b>Description: </b> "
      }
     },
     "b8d77c8e41dd440794abf679e5c0902d": {
      "model_module": "@jupyter-widgets/controls",
      "model_module_version": "1.5.0",
      "model_name": "HTMLModel",
      "state": {
       "layout": "IPY_MODEL_6177b27f266a46dc916b107a1b809779",
       "style": "IPY_MODEL_95e53d61fa0644f3b60a4a4846475942",
       "value": "<b>Contact: </b> "
      }
     },
     "b8f5f66f42834a38bec3d73ac8ceb6c0": {
      "model_module": "@jupyter-widgets/controls",
      "model_module_version": "1.5.0",
      "model_name": "DescriptionStyleModel",
      "state": {
       "description_width": ""
      }
     },
     "b8f73e05f3e042e795643af859865981": {
      "model_module": "@jupyter-widgets/base",
      "model_module_version": "1.2.0",
      "model_name": "LayoutModel",
      "state": {}
     },
     "b91ff4f011374aa08168ebd59304de25": {
      "model_module": "@jupyter-widgets/base",
      "model_module_version": "1.2.0",
      "model_name": "LayoutModel",
      "state": {
       "grid_gap": "5px 10px",
       "grid_template_columns": "100px auto",
       "grid_template_rows": "auto auto auto auto auto",
       "padding": "50px 0px 70px 0px",
       "width": "100%"
      }
     },
     "b932ce52dbf3426d8be35946cf9e1fa6": {
      "model_module": "@jupyter-widgets/base",
      "model_module_version": "1.2.0",
      "model_name": "LayoutModel",
      "state": {}
     },
     "b9354e514070441885aca705f877b192": {
      "model_module": "@jupyter-widgets/base",
      "model_module_version": "1.2.0",
      "model_name": "LayoutModel",
      "state": {}
     },
     "b949fe5b6d3f41b0823bea116440b44b": {
      "model_module": "@jupyter-widgets/controls",
      "model_module_version": "1.5.0",
      "model_name": "DescriptionStyleModel",
      "state": {
       "description_width": ""
      }
     },
     "b956849fefa648ee9cc40cc6a4b3cc47": {
      "model_module": "@jupyter-widgets/controls",
      "model_module_version": "1.5.0",
      "model_name": "DescriptionStyleModel",
      "state": {
       "description_width": ""
      }
     },
     "b976e0beb1f7454fb3f7128b371674a1": {
      "model_module": "@jupyter-widgets/controls",
      "model_module_version": "1.5.0",
      "model_name": "DescriptionStyleModel",
      "state": {
       "description_width": ""
      }
     },
     "b9864da6fe74412e80e41469cdf35de4": {
      "model_module": "@jupyter-widgets/controls",
      "model_module_version": "1.5.0",
      "model_name": "HTMLModel",
      "state": {
       "layout": "IPY_MODEL_bc2f62da8ac14144879a1804825104b8",
       "style": "IPY_MODEL_dd820229be7d40f2b9ce90d02704ce52",
       "value": "This Jupyter notebook supports the selection of an appropriate CO-offset threshold to identify events with potentially high fossil fuel CO2 contribution based on:<br><br>i. <a href='https://www.icos-cp.eu/data-products' target='_blank'>ICOS measurement time series</a> (ICOS release and NRT) for all ICOS atmospheric stations and <br>ii. <a href='https://www.icos-cp.eu/data-services/tools/stilt-footprint' target='_blank'>STILT footprints</a> and concentration time series (for selected stations only)"
      }
     },
     "b99da0d905a546d79770557e279439db": {
      "model_module": "@jupyter-widgets/controls",
      "model_module_version": "1.5.0",
      "model_name": "HTMLModel",
      "state": {
       "layout": "IPY_MODEL_23f544c6186d43888d4f1e4e63c04f82",
       "style": "IPY_MODEL_7a41a781308640848b60e90dbebae12f",
       "value": "<b>Description: </b> "
      }
     },
     "b9b205bd031944e898da3ce8c52a5b3f": {
      "model_module": "@jupyter-widgets/controls",
      "model_module_version": "1.5.0",
      "model_name": "DescriptionStyleModel",
      "state": {
       "description_width": ""
      }
     },
     "b9c2dd95d63444c1b863fb2369a821d2": {
      "model_module": "@jupyter-widgets/controls",
      "model_module_version": "1.5.0",
      "model_name": "HTMLModel",
      "state": {
       "layout": "IPY_MODEL_e4a1fd2cd43b4a149cc9b94bc52c203d",
       "style": "IPY_MODEL_a039a403fcd041fc9c94870d084bad04",
       "value": "<a href='https://github.com/ICOS-Carbon-Portal/jupyter/issues' target='_blank'>Click here to report an issue</a>"
      }
     },
     "b9dac9c01e7b4dd782425a10edbfa800": {
      "model_module": "@jupyter-widgets/controls",
      "model_module_version": "1.5.0",
      "model_name": "GridBoxModel",
      "state": {
       "children": [
        "IPY_MODEL_3396ac2ec3db4f6d86529b0dad4d24d7",
        "IPY_MODEL_cbd0d9f7d03b42e3b93fa7be6f4777a3",
        "IPY_MODEL_a88338d592c5456a8dbe5ff914d0b7e0",
        "IPY_MODEL_f0af5e7cb2ab460e8f1bdc95b4cf38bc",
        "IPY_MODEL_95792ef29c09400db601322043365819",
        "IPY_MODEL_57acbfa9ff784ad7bdcb1824a5fb0792",
        "IPY_MODEL_b2a6b4fdb09549ce92b9c6f760b169cc",
        "IPY_MODEL_2c5ccfb8f593455596fd8305e3f47310",
        "IPY_MODEL_2e252039a5d74300bcbdf90f3c8a6651",
        "IPY_MODEL_a110415f0af54c35a7659f17c2b94ef2"
       ],
       "layout": "IPY_MODEL_3e64fc820513441697ad6f44949fec16"
      }
     },
     "ba76b019e3be4b05a7c85183abce0d38": {
      "model_module": "@jupyter-widgets/controls",
      "model_module_version": "1.5.0",
      "model_name": "HTMLModel",
      "state": {
       "layout": "IPY_MODEL_c1e9c3fb720147ab838e61f8b03979f7",
       "style": "IPY_MODEL_266959cd7a7548b09e1c0b652d4dfaf6",
       "value": "<b>Description: </b> "
      }
     },
     "ba783a50dcdc4478a2a31f8d0f720726": {
      "model_module": "@jupyter-widgets/controls",
      "model_module_version": "1.5.0",
      "model_name": "DescriptionStyleModel",
      "state": {
       "description_width": ""
      }
     },
     "ba9530c3691048c78e7c2149855d8b08": {
      "model_module": "@jupyter-widgets/base",
      "model_module_version": "1.2.0",
      "model_name": "LayoutModel",
      "state": {}
     },
     "bab87ca946ea4f69bc78e057b29441da": {
      "model_module": "@jupyter-widgets/controls",
      "model_module_version": "1.5.0",
      "model_name": "DescriptionStyleModel",
      "state": {
       "description_width": ""
      }
     },
     "baddbe27bb2d4836be59d19b57774ed7": {
      "model_module": "@jupyter-widgets/controls",
      "model_module_version": "1.5.0",
      "model_name": "DescriptionStyleModel",
      "state": {
       "description_width": ""
      }
     },
     "baefd302515044b59012e9950c6ece1b": {
      "model_module": "@jupyter-widgets/controls",
      "model_module_version": "1.5.0",
      "model_name": "HTMLModel",
      "state": {
       "layout": "IPY_MODEL_b1d5be9eafab46a3aee40b1647904c0a",
       "style": "IPY_MODEL_db206398893e48d2954f28d9c0d8839b",
       "value": "This notebook contains exercises for the <b>OTC Data Reduction Workshop</b>. The first exercise in <i>pCO₂ data reduction part 1 - Gas calibration</i> was dealing with the calibration of the xCO₂-data as they were coming from the instrument. The data were produced by a <i>General Oceanics</i> instrument, but the idea would be the same for data from any instrument. In this notebook, we will use the same data set as in <i>pCO₂ data reduction part 1 - Gas calibration</i> but with all recorded variables. "
      }
     },
     "baf702cfa1224e45b90844421f9fccc3": {
      "model_module": "@jupyter-widgets/controls",
      "model_module_version": "1.5.0",
      "model_name": "AccordionModel",
      "state": {
       "_titles": {
        "0": "Quickstart to Python"
       },
       "children": [
        "IPY_MODEL_7941b452c18542b78bf3d66af093fea4"
       ],
       "layout": "IPY_MODEL_47eb22ae489a46ebaed741561951c7be",
       "selected_index": null
      }
     },
     "bb15ff8d84144e4f83cb6789029033ff": {
      "model_module": "@jupyter-widgets/controls",
      "model_module_version": "1.5.0",
      "model_name": "HTMLModel",
      "state": {
       "layout": "IPY_MODEL_183ef98b8ba94baca6297c12585c5bf1",
       "style": "IPY_MODEL_e3c5162d87594a42a0e93ff3a31f5999",
       "value": "<a href=./education/PhD/upscaling_carbon_fluxes/notebooks/exercise3.ipynb target='_blank'>Upscaling eddy covariance GPP with remote sensing</a>"
      }
     },
     "bb2fc336708f41759d29247429c0552c": {
      "model_module": "@jupyter-widgets/controls",
      "model_module_version": "1.5.0",
      "model_name": "HTMLModel",
      "state": {
       "layout": "IPY_MODEL_d4ce322aa2914fe2ad7bcf350f114429",
       "style": "IPY_MODEL_91c8459d04e64e63941a5de6a63ee351",
       "value": "This notebook is dedicated to estimating radiocarbon measurements and providing interactive visualizations of relevant maps and plots. More in particular, With the combination of a station’s footprint (<a href='http://stilt-model.org/index.php/Main/HomePage' target='_blank'>STILT</a>) for a given point in time and a spatially and temporally resolved emissions database where emissions are separated by sector <a href='https://doi.org/10.5194/essd-11-959-2019' target='_blank'>(EDGAR v4.3.2)</a> it is possible to estimate what the fossil fuel component at the station could be according to the model. Accounting for the biogenic component through a combination of the footprint with a biogenic model <a href='https://doi.org/10.1029/2006GB002735' target='_blank'>(VPRM)</a> allows for an estimate of the CO2 concentration at the station when combined with the anthropogenic emissions plus a background (model edge) concentration. Given the modelled fossil fuel component and the modelled CO2 concentration, the estimated nuclear contamination, and the (measured) background ∆14C, an estimate can be made of what the ∆14C at a station would be according to the model -estimates. How this can be done is described in <a href='https://agupubs.onlinelibrary.wiley.com/doi/10.1029/2003GL018477' target='_blank'>Levin et al.,2003</a> (equation 3). The nuclear contamination is not accounted for here. ∆14C measurements can hence be compared to model deduced values. Uncertainties in the modelled ratio stem from many different sources: the transport model footprints, the anthropogenic and biogenic emission databases and the nuclear emissions values used to estimate the nuclear contamination."
      }
     },
     "bb3a36f5bfc44bb7bdae6d2643eb9926": {
      "model_module": "@jupyter-widgets/base",
      "model_module_version": "1.2.0",
      "model_name": "LayoutModel",
      "state": {}
     },
     "bb3f3235062f4c98a8e733eb49408247": {
      "model_module": "@jupyter-widgets/controls",
      "model_module_version": "1.5.0",
      "model_name": "DescriptionStyleModel",
      "state": {
       "description_width": ""
      }
     },
     "bb4941267c574f449a15840b6f97703c": {
      "model_module": "@jupyter-widgets/controls",
      "model_module_version": "1.5.0",
      "model_name": "DescriptionStyleModel",
      "state": {
       "description_width": ""
      }
     },
     "bb504374e5e24684926cbc01ca868f8e": {
      "model_module": "@jupyter-widgets/base",
      "model_module_version": "1.2.0",
      "model_name": "LayoutModel",
      "state": {}
     },
     "bb56145447234b809f33e8c1894175b0": {
      "model_module": "@jupyter-widgets/controls",
      "model_module_version": "1.5.0",
      "model_name": "DescriptionStyleModel",
      "state": {
       "description_width": ""
      }
     },
     "bb68d1527b6440deb6c4705ceb891d72": {
      "model_module": "@jupyter-widgets/base",
      "model_module_version": "1.2.0",
      "model_name": "LayoutModel",
      "state": {}
     },
     "bb73b874585b41a7a24d30da7f1e51e1": {
      "model_module": "@jupyter-widgets/controls",
      "model_module_version": "1.5.0",
      "model_name": "DescriptionStyleModel",
      "state": {
       "description_width": ""
      }
     },
     "bb832cb4fc3c4beea831e619043dff0c": {
      "model_module": "@jupyter-widgets/controls",
      "model_module_version": "1.5.0",
      "model_name": "HTMLModel",
      "state": {
       "layout": "IPY_MODEL_8f7b4aa634594e67acef884a9d472ab9",
       "style": "IPY_MODEL_3d1ac6ee1bf24fab9a5dbda5b70b0d3d",
       "value": "<b>Contact: </b> "
      }
     },
     "bb97619552d243cc9aa3d437b7118801": {
      "model_module": "@jupyter-widgets/controls",
      "model_module_version": "1.5.0",
      "model_name": "GridBoxModel",
      "state": {
       "children": [
        "IPY_MODEL_ad3e5ffe0f6343868edc1770407a6ffb",
        "IPY_MODEL_3d25b8e3991c440bb547c07f21958e7b"
       ],
       "layout": "IPY_MODEL_5746fc622f004d88a88588938ad59fd5"
      }
     },
     "bb9a3f0ed4a34da4a712abf0c37a6ccd": {
      "model_module": "@jupyter-widgets/controls",
      "model_module_version": "1.5.0",
      "model_name": "DescriptionStyleModel",
      "state": {
       "description_width": ""
      }
     },
     "bbdf6c9991404390926e121b734c4400": {
      "model_module": "@jupyter-widgets/base",
      "model_module_version": "1.2.0",
      "model_name": "LayoutModel",
      "state": {}
     },
     "bbe13cbb1e7c4a8d9f555f74d212c4fd": {
      "model_module": "@jupyter-widgets/controls",
      "model_module_version": "1.5.0",
      "model_name": "DescriptionStyleModel",
      "state": {
       "description_width": ""
      }
     },
     "bbe4a3d89f0e46448e94766f94b52cf5": {
      "model_module": "@jupyter-widgets/controls",
      "model_module_version": "1.5.0",
      "model_name": "HTMLModel",
      "state": {
       "layout": "IPY_MODEL_f8918add9eda4769bb4e558a133ca28a",
       "style": "IPY_MODEL_47a2336814de4689978df70f0751c252",
       "value": "<b>Description: </b> "
      }
     },
     "bbf54ffce34244468e0c117e457a7b79": {
      "model_module": "@jupyter-widgets/controls",
      "model_module_version": "1.5.0",
      "model_name": "DescriptionStyleModel",
      "state": {
       "description_width": ""
      }
     },
     "bbfeae32f0a14dbcbc035c00f3ec453e": {
      "model_module": "@jupyter-widgets/controls",
      "model_module_version": "1.5.0",
      "model_name": "DescriptionStyleModel",
      "state": {
       "description_width": ""
      }
     },
     "bc01b34f843c419ab4d4e1dbfc82c4fe": {
      "model_module": "@jupyter-widgets/base",
      "model_module_version": "1.2.0",
      "model_name": "LayoutModel",
      "state": {}
     },
     "bc024840dc2b4235b8d337d5528dbae1": {
      "model_module": "@jupyter-widgets/controls",
      "model_module_version": "1.5.0",
      "model_name": "HTMLModel",
      "state": {
       "layout": "IPY_MODEL_71d20e97cb5f4092993f8b39ff6f7f4f",
       "style": "IPY_MODEL_436da2ba8cc44495a26f4f6d20bac2bc",
       "value": "<a href=\"mailto: jupyter-info@icos-cp.eu\">jupyter-info@icos-cp.eu</a>, <a href=\"mailto: lars.eklundh@nateko.lu.se\">lars.eklundh@nateko.lu.se</a>, <a href=\"mailto: Maj-Lena.Linderson@nateko.lu.se\">Maj-Lena.Linderson@nateko.lu.se</a>"
      }
     },
     "bc0289930a22468ba2adbd40795e1f60": {
      "model_module": "@jupyter-widgets/base",
      "model_module_version": "1.2.0",
      "model_name": "LayoutModel",
      "state": {}
     },
     "bc2f62da8ac14144879a1804825104b8": {
      "model_module": "@jupyter-widgets/base",
      "model_module_version": "1.2.0",
      "model_name": "LayoutModel",
      "state": {}
     },
     "bc34d45a13f54d02bdcc018243182b24": {
      "model_module": "@jupyter-widgets/controls",
      "model_module_version": "1.5.0",
      "model_name": "DescriptionStyleModel",
      "state": {
       "description_width": ""
      }
     },
     "bc72b47a62dd44e0ab785e8e82c2fb13": {
      "model_module": "@jupyter-widgets/controls",
      "model_module_version": "1.5.0",
      "model_name": "HTMLModel",
      "state": {
       "layout": "IPY_MODEL_247714aaea2646b0bac88f0965adf85d",
       "style": "IPY_MODEL_f8c555f16eec4366af6369c077b41c3a",
       "value": "<a href=./education/PhD/upscaling_carbon_fluxes/notebooks/inspect_fluxnet_files.ipynb target='_blank'>Inspect FLUXNET ecosystem measurements</a>"
      }
     },
     "bc8d17b85a1c4d3ebb1b22d2b0567633": {
      "model_module": "@jupyter-widgets/controls",
      "model_module_version": "1.5.0",
      "model_name": "HTMLModel",
      "state": {
       "layout": "IPY_MODEL_0243c14814224c00b86e441142484fa2",
       "style": "IPY_MODEL_adc4a2ba5318495bb9fffc1e08ad91f2",
       "value": "<a href=\"mailto: jupyter-info@icos-cp.eu\">jupyter-info@icos-cp.eu</a>, <a href=\"mailto: ida.storm@nateko.lu.se\">ida.storm@nateko.lu.se</a>"
      }
     },
     "bc8d68f29a69412eb0f6674d7642c7cd": {
      "model_module": "@jupyter-widgets/base",
      "model_module_version": "1.2.0",
      "model_name": "LayoutModel",
      "state": {}
     },
     "bc91a630866d4cb7a003b8a7fff0d28a": {
      "model_module": "@jupyter-widgets/controls",
      "model_module_version": "1.5.0",
      "model_name": "HTMLModel",
      "state": {
       "layout": "IPY_MODEL_7813675530264a96885af7aacc236691",
       "style": "IPY_MODEL_623e16f6fe2748caaa9de7a30be47674",
       "value": "This Jupyter Notebook is dedicated to explaining the carbon cycle and focuses on topics regarding daily and yearly fluctuations in the concentration of carbon dioxide. It contains definitions, short descriptions, figures and animations that describe the following terms: <b>carbon dioxide</b>, <b>carbon cycle</b>, <b>carbon sinks</b> and <b>carbon sources</b>. You will be able to test your knowledge on carbon by taking the <i>Carbon Challenge Quiz</i>. In order to better comprehend the carbon cycle, the notebook also includes exercises using ICOS data from Hyltemossa station in Sweden. The exercises are based on topics related to the uptake and release of carbon dioxide amongst different parts of an ecosystem."
      }
     },
     "bcb28a36058e46e9823743ea5c50d2d1": {
      "model_module": "@jupyter-widgets/controls",
      "model_module_version": "1.5.0",
      "model_name": "HTMLModel",
      "state": {
       "layout": "IPY_MODEL_371134b91c2b4339af0da8847b148c39",
       "style": "IPY_MODEL_b864edcbaa3f4777a3bb580192ff4835",
       "value": "<a href=./icos_jupyter_notebooks/visualization_average_footprints.ipynb target='_blank'>Visualization of average footprints</a>"
      }
     },
     "bcceecae95f54dd3955a6b96f46680a4": {
      "model_module": "@jupyter-widgets/controls",
      "model_module_version": "1.5.0",
      "model_name": "DescriptionStyleModel",
      "state": {
       "description_width": ""
      }
     },
     "bcd633e1bbe747c4bd4ebb22b04c6d25": {
      "model_module": "@jupyter-widgets/base",
      "model_module_version": "1.2.0",
      "model_name": "LayoutModel",
      "state": {
       "grid_gap": "5px 10px",
       "grid_template_columns": "100px auto",
       "grid_template_rows": "auto auto auto auto auto",
       "padding": "50px 0px 70px 0px",
       "width": "100%"
      }
     },
     "bcfd9894aaac492fb06bb0210a5bed18": {
      "model_module": "@jupyter-widgets/controls",
      "model_module_version": "1.5.0",
      "model_name": "GridBoxModel",
      "state": {
       "children": [
        "IPY_MODEL_feaa88d059d5424fbc4f856c8d91b470",
        "IPY_MODEL_8468e8ade0f544eaaa4cbcbe9b8c68c5"
       ],
       "layout": "IPY_MODEL_a6ddc176012a4212b9ab4dcd482f06b4"
      }
     },
     "bd303f236a0e429f96231c83f61b05b7": {
      "model_module": "@jupyter-widgets/base",
      "model_module_version": "1.2.0",
      "model_name": "LayoutModel",
      "state": {}
     },
     "bd53efbb6a3d4266a31d44f657ab7808": {
      "model_module": "@jupyter-widgets/controls",
      "model_module_version": "1.5.0",
      "model_name": "DescriptionStyleModel",
      "state": {
       "description_width": ""
      }
     },
     "bd5deacc92bd4ca28b8ca8a1ffcabd53": {
      "model_module": "@jupyter-widgets/base",
      "model_module_version": "1.2.0",
      "model_name": "LayoutModel",
      "state": {}
     },
     "bd648139cf9f4de6808f32b58a39430e": {
      "model_module": "@jupyter-widgets/controls",
      "model_module_version": "1.5.0",
      "model_name": "DescriptionStyleModel",
      "state": {
       "description_width": ""
      }
     },
     "bd6503b60b0b47ae99552351fc00f385": {
      "model_module": "@jupyter-widgets/base",
      "model_module_version": "1.2.0",
      "model_name": "LayoutModel",
      "state": {}
     },
     "bd71680b9cfa49c999f9639f813b2abd": {
      "model_module": "@jupyter-widgets/controls",
      "model_module_version": "1.5.0",
      "model_name": "DescriptionStyleModel",
      "state": {
       "description_width": ""
      }
     },
     "bd909bab05cb43ff910b19df51d72ae7": {
      "model_module": "@jupyter-widgets/base",
      "model_module_version": "1.2.0",
      "model_name": "LayoutModel",
      "state": {}
     },
     "bdaba8eb957c41f1b1c1ced608cb51a9": {
      "model_module": "@jupyter-widgets/base",
      "model_module_version": "1.2.0",
      "model_name": "LayoutModel",
      "state": {
       "grid_gap": "5px 10px",
       "grid_template_columns": "100px auto",
       "grid_template_rows": "auto auto auto auto auto",
       "padding": "50px 0px 70px 0px",
       "width": "100%"
      }
     },
     "bdbc3f1177704e1bbbab7930f3b07655": {
      "model_module": "@jupyter-widgets/base",
      "model_module_version": "1.2.0",
      "model_name": "LayoutModel",
      "state": {}
     },
     "bdf8136ac4114a74a961ffaf47eb5168": {
      "model_module": "@jupyter-widgets/controls",
      "model_module_version": "1.5.0",
      "model_name": "HTMLModel",
      "state": {
       "layout": "IPY_MODEL_ede59486981049c788c2928b27d785f6",
       "style": "IPY_MODEL_15eaaa917909417f96cbdc7d9114eac9",
       "value": "<b>Thumbnail: </b> "
      }
     },
     "bdfb6f858c664fe5a72bda407d0e0727": {
      "model_module": "@jupyter-widgets/controls",
      "model_module_version": "1.5.0",
      "model_name": "DescriptionStyleModel",
      "state": {
       "description_width": ""
      }
     },
     "be25c4e7c232496f94652f679cc20cde": {
      "model_module": "@jupyter-widgets/base",
      "model_module_version": "1.2.0",
      "model_name": "LayoutModel",
      "state": {}
     },
     "be94492056ae4afc8b2d6efa426a3f90": {
      "model_module": "@jupyter-widgets/controls",
      "model_module_version": "1.5.0",
      "model_name": "HTMLModel",
      "state": {
       "layout": "IPY_MODEL_117e15533fa14075815e390ac2a3fe7e",
       "style": "IPY_MODEL_2d421266a13942f18729be778f3358fb",
       "value": "<b>Description: </b> "
      }
     },
     "bea630723cc84f268e09543d467df395": {
      "model_module": "@jupyter-widgets/controls",
      "model_module_version": "1.5.0",
      "model_name": "HTMLModel",
      "state": {
       "layout": "IPY_MODEL_83e1a85ad235442bb044c47c5b897385",
       "style": "IPY_MODEL_ef285dfe7e994f4b8b454d61d2117986",
       "value": "<a href=./project_jupyter_notebooks/OTC%20Data%20Reduction%20Workshop/modules/data_reduction_modules.ipynb target='_blank'>Functions and Settings for data reduction modules</a>"
      }
     },
     "beb08b1093c64d01ae0d8d2ae4e27219": {
      "model_module": "@jupyter-widgets/base",
      "model_module_version": "1.2.0",
      "model_name": "LayoutModel",
      "state": {}
     },
     "bebe88bbb1da4deeb991fc31679d8cb6": {
      "model_module": "@jupyter-widgets/controls",
      "model_module_version": "1.5.0",
      "model_name": "DescriptionStyleModel",
      "state": {
       "description_width": ""
      }
     },
     "bf1b7262d608442db1c84b09a8c408fb": {
      "model_module": "@jupyter-widgets/controls",
      "model_module_version": "1.5.0",
      "model_name": "DescriptionStyleModel",
      "state": {
       "description_width": ""
      }
     },
     "bf734476dce14777bf4f58659a99921f": {
      "model_module": "@jupyter-widgets/controls",
      "model_module_version": "1.5.0",
      "model_name": "HTMLModel",
      "state": {
       "layout": "IPY_MODEL_0f4080ac862f4bada225ddcb8c8f19e0",
       "style": "IPY_MODEL_63a0893a12e444d89d3f1d2761e717fd",
       "value": "<a href='https://github.com/ICOS-Carbon-Portal/jupyter/issues' target='_blank'>Click here to report an issue</a>"
      }
     },
     "bf88ce1f7030453dac72db09acf1f04f": {
      "model_module": "@jupyter-widgets/base",
      "model_module_version": "1.2.0",
      "model_name": "LayoutModel",
      "state": {}
     },
     "bf8f2ad959d44853a822e1fbecc7d865": {
      "model_module": "@jupyter-widgets/controls",
      "model_module_version": "1.5.0",
      "model_name": "HTMLModel",
      "state": {
       "layout": "IPY_MODEL_8299b0b57ef544bcb3c58a53a3be04b0",
       "style": "IPY_MODEL_0055dfd3777a42f6ae88990537d4eef9",
       "value": "<b>GitHub: </b> "
      }
     },
     "bfa2bc431e0b4b93a046ee178b759c30": {
      "model_module": "@jupyter-widgets/base",
      "model_module_version": "1.2.0",
      "model_name": "LayoutModel",
      "state": {}
     },
     "bfe4755c8c3a42ad886bad614195e675": {
      "model_module": "@jupyter-widgets/base",
      "model_module_version": "1.2.0",
      "model_name": "LayoutModel",
      "state": {}
     },
     "bff3af0656044c9ea9aa2a06eb295405": {
      "model_module": "@jupyter-widgets/controls",
      "model_module_version": "1.5.0",
      "model_name": "HTMLModel",
      "state": {
       "layout": "IPY_MODEL_4aafa0ed531a41bb8b3f4ea81ef51d9a",
       "style": "IPY_MODEL_01d62065bb0e4e5986ef7ffba37940ca",
       "value": "This notebook makes it possible to generate characterisations of atmospheric stations based on their influence areas. The influence area of a station is determined by the <a href=\"http://stilt-model.org/index.php/Main/HomePage\" target=\"_blank\">transport model STILT</a> and the result is called a footprint. To generate the characterisation visualizations the average footprint for the user-defined date rage is combined with an anthropogenic emissions database, a biogenic flux model and ancillary data layers. Any point in the <a href=\"http://stilt-model.org/index.php/Main/HomePage\" target=\"_blank\">STILT</a> domain with footprints (not necessarily existing stations) will appear in the STILT stations dropdown and can be analyzed."
      }
     },
     "c00a18013dfe404ea0d00ae6e6ed60d7": {
      "model_module": "@jupyter-widgets/base",
      "model_module_version": "1.2.0",
      "model_name": "LayoutModel",
      "state": {}
     },
     "c01dcc2b42c74f739469b6e4e1ad725b": {
      "model_module": "@jupyter-widgets/controls",
      "model_module_version": "1.5.0",
      "model_name": "DescriptionStyleModel",
      "state": {
       "description_width": ""
      }
     },
     "c02abcc39d964d59a7ba8efa316e2583": {
      "model_module": "@jupyter-widgets/base",
      "model_module_version": "1.2.0",
      "model_name": "LayoutModel",
      "state": {}
     },
     "c04c7edede854a9089b9a74140fb28fc": {
      "model_module": "@jupyter-widgets/base",
      "model_module_version": "1.2.0",
      "model_name": "LayoutModel",
      "state": {}
     },
     "c05bb2633a3d49009a900e95cf1a595c": {
      "model_module": "@jupyter-widgets/controls",
      "model_module_version": "1.5.0",
      "model_name": "DescriptionStyleModel",
      "state": {
       "description_width": ""
      }
     },
     "c06d9acee9dc4f77b2f8e1abc5b3341d": {
      "model_module": "@jupyter-widgets/controls",
      "model_module_version": "1.5.0",
      "model_name": "DescriptionStyleModel",
      "state": {
       "description_width": ""
      }
     },
     "c092a88c9a024a6db15ae8c7c2cb72c4": {
      "model_module": "@jupyter-widgets/controls",
      "model_module_version": "1.5.0",
      "model_name": "DescriptionStyleModel",
      "state": {
       "description_width": ""
      }
     },
     "c0cae020348c4b0389af4fe0c940cdd9": {
      "model_module": "@jupyter-widgets/controls",
      "model_module_version": "1.5.0",
      "model_name": "HTMLModel",
      "state": {
       "layout": "IPY_MODEL_5617fdda241f400998e1917bce32beee",
       "style": "IPY_MODEL_8bc86bd75ca8499ca79eae5aa0aaacdb",
       "value": "<a href=\"mailto: jupyter-info@icos-cp.eu\">jupyter-info@icos-cp.eu</a>, <a href=\"mailto: lars.harrie@nateko.lu.se\">lars.harrie@nateko.lu.se</a>, <a href=\"mailto: Maj-Lena.Linderson@nateko.lu.se\">Maj-Lena.Linderson@nateko.lu.se</a>"
      }
     },
     "c0eff5efb868494d94fe0f0ce5317baf": {
      "model_module": "@jupyter-widgets/base",
      "model_module_version": "1.2.0",
      "model_name": "LayoutModel",
      "state": {}
     },
     "c1087f40a85841c1a8716d0fd11b5e50": {
      "model_module": "@jupyter-widgets/controls",
      "model_module_version": "1.5.0",
      "model_name": "DescriptionStyleModel",
      "state": {
       "description_width": ""
      }
     },
     "c1560b6faac7496da92bc2d1f5cd0969": {
      "model_module": "@jupyter-widgets/controls",
      "model_module_version": "1.5.0",
      "model_name": "DescriptionStyleModel",
      "state": {
       "description_width": ""
      }
     },
     "c187f5b49cbe4b6497f6a60a7d209e0d": {
      "model_module": "@jupyter-widgets/controls",
      "model_module_version": "1.5.0",
      "model_name": "HTMLModel",
      "state": {
       "layout": "IPY_MODEL_ad84e201879a4f709bd9bb87b0e3b16e",
       "style": "IPY_MODEL_1f4c79422e304da099b744750c949b70",
       "value": "<img src=\"./icos_jupyter_notebooks/ind_tools/img//05_education/general/01_ccd/carbon_cycle_eng.png\">"
      }
     },
     "c19924484a584a25ac372745d44c877c": {
      "model_module": "@jupyter-widgets/controls",
      "model_module_version": "1.5.0",
      "model_name": "DescriptionStyleModel",
      "state": {
       "description_width": ""
      }
     },
     "c1bc9d8b90f34076bd08f08423dcf526": {
      "model_module": "@jupyter-widgets/controls",
      "model_module_version": "1.5.0",
      "model_name": "AccordionModel",
      "state": {
       "_titles": {
        "0": "Jupyter notebook for selecting high fossil fuel CO2 events at ICOS stations",
        "1": "Jupyter Notebook for RINGO Task 1.3"
       },
       "children": [
        "IPY_MODEL_345166b9e0454d928c039909f291f81a",
        "IPY_MODEL_166f925cd27d4a969521672439f319f1"
       ],
       "layout": "IPY_MODEL_f225742f478340369756c8d87cefd803",
       "selected_index": null
      }
     },
     "c1cfef567bdc4aafb8240685e19a2efc": {
      "model_module": "@jupyter-widgets/controls",
      "model_module_version": "1.5.0",
      "model_name": "DescriptionStyleModel",
      "state": {
       "description_width": ""
      }
     },
     "c1d16882bfb743ffb3a04eb8dbd6615b": {
      "model_module": "@jupyter-widgets/controls",
      "model_module_version": "1.5.0",
      "model_name": "HTMLModel",
      "state": {
       "layout": "IPY_MODEL_eacba20b07184b64bc29d8c0bde11867",
       "style": "IPY_MODEL_e63e642dc3454584b25bb290cd9f15d5",
       "value": "<img src=\"./icos_jupyter_notebooks/ind_tools/img/04_proj_JNBs/otc_drw/ex4.PNG\">"
      }
     },
     "c1e9c3fb720147ab838e61f8b03979f7": {
      "model_module": "@jupyter-widgets/base",
      "model_module_version": "1.2.0",
      "model_name": "LayoutModel",
      "state": {}
     },
     "c20bdbbb032e4d6a8e058dfc24a4f91b": {
      "model_module": "@jupyter-widgets/base",
      "model_module_version": "1.2.0",
      "model_name": "LayoutModel",
      "state": {}
     },
     "c225d93b17344f44988529ff348a394f": {
      "model_module": "@jupyter-widgets/controls",
      "model_module_version": "1.5.0",
      "model_name": "DescriptionStyleModel",
      "state": {
       "description_width": ""
      }
     },
     "c226dd1841594a2bbb7ca8af9f9d9eb0": {
      "model_module": "@jupyter-widgets/controls",
      "model_module_version": "1.5.0",
      "model_name": "HTMLModel",
      "state": {
       "layout": "IPY_MODEL_8d954d7e97f448128b5200ce2b8a4512",
       "style": "IPY_MODEL_36fc82efbf3c49d2887bc61370932656",
       "value": "<b>Title: </b> "
      }
     },
     "c273127efe5547a29385e69d6f789ff1": {
      "model_module": "@jupyter-widgets/controls",
      "model_module_version": "1.5.0",
      "model_name": "HTMLModel",
      "state": {
       "layout": "IPY_MODEL_d468bfb9ee0342cbbbf9a8ae87ad50be",
       "style": "IPY_MODEL_e2ba35f046074b9bb5065abac1750264",
       "value": "<b>GitHub: </b> "
      }
     },
     "c2842e19cece4e6aa1bb35e521e00f28": {
      "model_module": "@jupyter-widgets/base",
      "model_module_version": "1.2.0",
      "model_name": "LayoutModel",
      "state": {}
     },
     "c29ee9fc8d254e5881c255b4ceec2729": {
      "model_module": "@jupyter-widgets/base",
      "model_module_version": "1.2.0",
      "model_name": "LayoutModel",
      "state": {}
     },
     "c2eb14d97eda40f4a9d3116bdabd1927": {
      "model_module": "@jupyter-widgets/controls",
      "model_module_version": "1.5.0",
      "model_name": "DescriptionStyleModel",
      "state": {
       "description_width": ""
      }
     },
     "c2ef4cc2472f43e3af1e6ccf53c37b8c": {
      "model_module": "@jupyter-widgets/base",
      "model_module_version": "1.2.0",
      "model_name": "LayoutModel",
      "state": {}
     },
     "c2fdee9db2bc4287a0cdc78faace815c": {
      "model_module": "@jupyter-widgets/base",
      "model_module_version": "1.2.0",
      "model_name": "LayoutModel",
      "state": {}
     },
     "c31198e5afae44b3b5be9748a88675a0": {
      "model_module": "@jupyter-widgets/base",
      "model_module_version": "1.2.0",
      "model_name": "LayoutModel",
      "state": {}
     },
     "c3adf4b9c9874db1a181f7a91fb45b21": {
      "model_module": "@jupyter-widgets/controls",
      "model_module_version": "1.5.0",
      "model_name": "GridBoxModel",
      "state": {
       "children": [
        "IPY_MODEL_97ee3f90a6704308b52d5b96e705f175",
        "IPY_MODEL_d3921eb8d3dc4df68d7c387d7f659e65",
        "IPY_MODEL_35aad4360a644789bc8306f68a0529a7",
        "IPY_MODEL_4d8f90daf0bb4e0490029cb5dfb2882c",
        "IPY_MODEL_d921c8bcb6fd4eafa9b81ec90d18ca23",
        "IPY_MODEL_96cd3d6e9edc43e8a1b29ce909cd505f",
        "IPY_MODEL_0ee6a8a557e74acb98dd02c0f85f15d1",
        "IPY_MODEL_da3c0265c6de4536aa96c3130c3e23f5",
        "IPY_MODEL_15408a7e1cde4f96962d58c48e30e3ff",
        "IPY_MODEL_ea4c621dd133406da71c5dcf9ed9a8ec"
       ],
       "layout": "IPY_MODEL_e13fd5f7d663444db42a032921264468"
      }
     },
     "c3cec3f3c3f04457b23e620716f9157a": {
      "model_module": "@jupyter-widgets/controls",
      "model_module_version": "1.5.0",
      "model_name": "HTMLModel",
      "state": {
       "layout": "IPY_MODEL_e23bc194fb664963a03d17da59297c9d",
       "style": "IPY_MODEL_f27487fca9dd47638178a7078889f55d",
       "value": "<b>Title: </b> "
      }
     },
     "c3d456efabc547f7840b500ca11d2732": {
      "model_module": "@jupyter-widgets/base",
      "model_module_version": "1.2.0",
      "model_name": "LayoutModel",
      "state": {}
     },
     "c3e6f3633eab47d2b6d7bf008dfc5840": {
      "model_module": "@jupyter-widgets/controls",
      "model_module_version": "1.5.0",
      "model_name": "HTMLModel",
      "state": {
       "layout": "IPY_MODEL_2d84e87045154c5ab2907ce68b672ca7",
       "style": "IPY_MODEL_730204496bb84b2782dbf7b5d7e78675",
       "value": "<img src=\"./icos_jupyter_notebooks/ind_tools/img/04_proj_JNBs/envrifair_ws/timeseries/stilt_vs_icos_obs.PNG\">"
      }
     },
     "c3fb82877c904467acb02fed0ab7e1f9": {
      "model_module": "@jupyter-widgets/controls",
      "model_module_version": "1.5.0",
      "model_name": "HTMLModel",
      "state": {
       "layout": "IPY_MODEL_a6a5c06455524f7db6f8c1b3695d6d82",
       "style": "IPY_MODEL_3a4b9a43937646daa882e45b094ff21f",
       "value": "<b>Contact: </b> "
      }
     },
     "c415d4991b114650820b47e385d08b37": {
      "model_module": "@jupyter-widgets/controls",
      "model_module_version": "1.5.0",
      "model_name": "HTMLModel",
      "state": {
       "layout": "IPY_MODEL_f3eb3699515f4c21817a7b1be88ac542",
       "style": "IPY_MODEL_2c77e8b4fdfc49daa9ff7dcb4353654e",
       "value": "<a href=./pylib_examples/ex3_multisource.ipynb target='_blank'>ICOS Carbon Portal Python Library - Multisource</a>"
      }
     },
     "c4500547a9334fdeb2af6e6ee6d754e5": {
      "model_module": "@jupyter-widgets/controls",
      "model_module_version": "1.5.0",
      "model_name": "HTMLModel",
      "state": {
       "layout": "IPY_MODEL_15e55acd60304b7998d9ddc6c5df173a",
       "style": "IPY_MODEL_f512432ee33f4140a02c287d8d81c214",
       "value": "<a href='https://github.com/ICOS-Carbon-Portal/jupyter/issues' target='_blank'>Click here to report an issue</a>"
      }
     },
     "c4521081a5a445d3a27ee0e356ee4edc": {
      "model_module": "@jupyter-widgets/controls",
      "model_module_version": "1.5.0",
      "model_name": "DescriptionStyleModel",
      "state": {
       "description_width": ""
      }
     },
     "c457f9dd70734efe9bd506caebfdfaca": {
      "model_module": "@jupyter-widgets/controls",
      "model_module_version": "1.5.0",
      "model_name": "HTMLModel",
      "state": {
       "layout": "IPY_MODEL_5225e1a48f61471aa2089b2ed1a1be0f",
       "style": "IPY_MODEL_77cd2bfc02b145c087268dd3a7e85a69",
       "value": "<a href=\"mailto: jupyter-info@icos-cp.eu\">jupyter-info@icos-cp.eu</a>, <a href=\"mailto: Maj-Lena.Linderson@nateko.lu.se\">Maj-Lena.Linderson@nateko.lu.se</a>"
      }
     },
     "c46f5f544ee246e396bf7db876f88d81": {
      "model_module": "@jupyter-widgets/controls",
      "model_module_version": "1.5.0",
      "model_name": "DescriptionStyleModel",
      "state": {
       "description_width": ""
      }
     },
     "c4ab29e847244877bfb3cb20795c0b93": {
      "model_module": "@jupyter-widgets/controls",
      "model_module_version": "1.5.0",
      "model_name": "DescriptionStyleModel",
      "state": {
       "description_width": ""
      }
     },
     "c4b1eac1bf2b4af3b512937f818cd693": {
      "model_module": "@jupyter-widgets/base",
      "model_module_version": "1.2.0",
      "model_name": "LayoutModel",
      "state": {}
     },
     "c4ba1d85a5be4a6284b74a4c4ceaf4f5": {
      "model_module": "@jupyter-widgets/controls",
      "model_module_version": "1.5.0",
      "model_name": "HTMLModel",
      "state": {
       "layout": "IPY_MODEL_476a67cea53a4f9fa9d76cc7c5872df1",
       "style": "IPY_MODEL_0233149d4f6442a5b943c14a8c637cda",
       "value": "This notebook contains a short introduction of basic principles of coding in Python. It is aimed for people who have no prior knowledge in programming but also for people who wish to brush up their memory in programmng with Python or are already familiar with programming in another programming language and want to become acquainted with Python. The notebook is organized in a series of chapters where the main principles of programming are introduced. There is an emphasis on providing brief descriptions of the coding principles in conjuction with simple and self-explanatory coding examples. People who are new to programming are advised to follow this manual step by step. For people that are already familiar with Python or programming in general, it is possible to use the links to navigate to specific chapters."
      }
     },
     "c4cc1646f4a84b329384de2e92b8af22": {
      "model_module": "@jupyter-widgets/controls",
      "model_module_version": "1.5.0",
      "model_name": "DescriptionStyleModel",
      "state": {
       "description_width": ""
      }
     },
     "c4ccd992fe114656bec9450dc2b4f30a": {
      "model_module": "@jupyter-widgets/controls",
      "model_module_version": "1.5.0",
      "model_name": "DescriptionStyleModel",
      "state": {
       "description_width": ""
      }
     },
     "c4f38b0aea8d4f55bc6328da2f167424": {
      "model_module": "@jupyter-widgets/controls",
      "model_module_version": "1.5.0",
      "model_name": "HTMLModel",
      "state": {
       "layout": "IPY_MODEL_1f53fc4ea5c94cb19a7fdfac73e12550",
       "style": "IPY_MODEL_f77c03f422d14eafb9d8475a37ba9ab2",
       "value": "<a href='https://github.com/ICOS-Carbon-Portal/jupyter/issues' target='_blank'>Click here to report an issue</a>"
      }
     },
     "c5441eed2c8d49d5ba2e30a1ff359185": {
      "model_module": "@jupyter-widgets/controls",
      "model_module_version": "1.5.0",
      "model_name": "HTMLModel",
      "state": {
       "layout": "IPY_MODEL_4ad48b288864400881622b1d8c1c4861",
       "style": "IPY_MODEL_1b32f17a26eb4be092fb044e989ca43e",
       "value": "<a href='https://github.com/ICOS-Carbon-Portal/jupyter/issues' target='_blank'>Click here to report an issue</a>"
      }
     },
     "c547fcf7aa1145f38318fa44db5f0e3f": {
      "model_module": "@jupyter-widgets/controls",
      "model_module_version": "1.5.0",
      "model_name": "HTMLModel",
      "state": {
       "layout": "IPY_MODEL_428a161836364e16bff66e53f1a19b06",
       "style": "IPY_MODEL_a82b46de28564b21baa44b191a1c7519",
       "value": "<b>Title: </b> "
      }
     },
     "c55c491e9ec7490585cafc49d465fb32": {
      "model_module": "@jupyter-widgets/base",
      "model_module_version": "1.2.0",
      "model_name": "LayoutModel",
      "state": {}
     },
     "c57a9b6763e04151bf0ee8779efd6255": {
      "model_module": "@jupyter-widgets/controls",
      "model_module_version": "1.5.0",
      "model_name": "HTMLModel",
      "state": {
       "layout": "IPY_MODEL_02369e0ebacb464591b214bea1258e4d",
       "style": "IPY_MODEL_554bb92521af4003aa8baed7b2b62eab",
       "value": "<a href=\"mailto: jupyter-info@icos-cp.eu\">jupyter-info@icos-cp.eu</a>"
      }
     },
     "c58fc161488447dfbf2c1bb3bd2a996a": {
      "model_module": "@jupyter-widgets/controls",
      "model_module_version": "1.5.0",
      "model_name": "DescriptionStyleModel",
      "state": {
       "description_width": ""
      }
     },
     "c5a7e5c8da974208943333f933e5602b": {
      "model_module": "@jupyter-widgets/controls",
      "model_module_version": "1.5.0",
      "model_name": "HTMLModel",
      "state": {
       "layout": "IPY_MODEL_6f40fd9f3a5a4eb0bd5db609445cbac6",
       "style": "IPY_MODEL_bebe88bbb1da4deeb991fc31679d8cb6",
       "value": "Includes notebooks that use ICOS data products to introduce students to basic principles of programming whilst exploring the consequences of the drought during the summer of 2018."
      }
     },
     "c5b0c30fbe1d4573955eb507b8d0fda3": {
      "model_module": "@jupyter-widgets/controls",
      "model_module_version": "1.5.0",
      "model_name": "HTMLModel",
      "state": {
       "layout": "IPY_MODEL_566362258c9a4b3491e52629133b0570",
       "style": "IPY_MODEL_e0ee0eb8b7534189bb5c5874c39df21a",
       "value": "<b>GitHub: </b> "
      }
     },
     "c5b71da75fa543549e8013e354a416af": {
      "model_module": "@jupyter-widgets/controls",
      "model_module_version": "1.5.0",
      "model_name": "HTMLModel",
      "state": {
       "layout": "IPY_MODEL_5ed73fc61dc34856801b3427db157fe9",
       "style": "IPY_MODEL_915844518ab745bb9694ae31debfc5e4",
       "value": "This Jupyter notebook is dedicated to accessing ICOS data and metadata for CO2-concentrations measured at ICOS atmosphere stations as well as accessing simulated CO2-concentrations from <a href='http://stilt-model.org/index.php/Main/HomePage' target='_blank'>STILT model</a> outputs (elaborated data product). Data and metadata will be accessed using the icoscp Python library. You will get a chance to compare simulated CO2-concentrations to observed CO2-concentrations and assess how well the simulated values fit the real observations. Throughout the different steps included in this notebook, you will get an impression of how ICOS deals with data provenance and get some ideas on how to utilize metadata information in data analysis processes as well as in data visualizations."
      }
     },
     "c5bfc7b6ccbb4b7b9e538a936a828aa6": {
      "model_module": "@jupyter-widgets/controls",
      "model_module_version": "1.5.0",
      "model_name": "HTMLModel",
      "state": {
       "layout": "IPY_MODEL_1697cbdccf8942f189b0edc247324393",
       "style": "IPY_MODEL_17f4ea1724144020a072524759b4a69b",
       "value": "<a href='https://github.com/ICOS-Carbon-Portal/jupyter/issues' target='_blank'>Click here to report an issue</a>"
      }
     },
     "c5db0ad6add24c1e87fe3aff5f0baae3": {
      "model_module": "@jupyter-widgets/controls",
      "model_module_version": "1.5.0",
      "model_name": "HTMLModel",
      "state": {
       "layout": "IPY_MODEL_a9fb4c2dba0d4a9c862efce72a2bcfb7",
       "style": "IPY_MODEL_696613b7f4e94bd6abbfa4933065c5a8",
       "value": "<b>Thumbnail: </b> "
      }
     },
     "c5dd79924f70423a8d0459d925f9348a": {
      "model_module": "@jupyter-widgets/controls",
      "model_module_version": "1.5.0",
      "model_name": "DescriptionStyleModel",
      "state": {
       "description_width": ""
      }
     },
     "c60bb4ba2af140f6b23999a7bb353556": {
      "model_module": "@jupyter-widgets/base",
      "model_module_version": "1.2.0",
      "model_name": "LayoutModel",
      "state": {}
     },
     "c60bb6e38d094c5a96e3d254cfdd958b": {
      "model_module": "@jupyter-widgets/controls",
      "model_module_version": "1.5.0",
      "model_name": "DescriptionStyleModel",
      "state": {
       "description_width": ""
      }
     },
     "c6971d7c0ea2433a92245808f44201ba": {
      "model_module": "@jupyter-widgets/controls",
      "model_module_version": "1.5.0",
      "model_name": "HTMLModel",
      "state": {
       "layout": "IPY_MODEL_f572d8e476964eb5afbf0826999f73bd",
       "style": "IPY_MODEL_32b5eed1915549029d4fd17cad49162d",
       "value": "<a href='https://github.com/ICOS-Carbon-Portal/jupyter/issues' target='_blank'>Click here to report an issue</a>"
      }
     },
     "c6ada6601c27496fa6419f1d4cc0264e": {
      "model_module": "@jupyter-widgets/controls",
      "model_module_version": "1.5.0",
      "model_name": "HTMLModel",
      "state": {
       "layout": "IPY_MODEL_9ef8724162074c089268d3ce9503d634",
       "style": "IPY_MODEL_dcdc65ff6b4644d5b171b389a6b0c1a5",
       "value": "<b>Description: </b> "
      }
     },
     "c6af4caab9954474af59b086e3feb462": {
      "model_module": "@jupyter-widgets/base",
      "model_module_version": "1.2.0",
      "model_name": "LayoutModel",
      "state": {}
     },
     "c6b42208caad4e01854bb8a38ae355e7": {
      "model_module": "@jupyter-widgets/base",
      "model_module_version": "1.2.0",
      "model_name": "LayoutModel",
      "state": {}
     },
     "c6ca31f179264562b1fa7eaa20497876": {
      "model_module": "@jupyter-widgets/base",
      "model_module_version": "1.2.0",
      "model_name": "LayoutModel",
      "state": {
       "grid_gap": "5px 10px",
       "grid_template_columns": "100px auto",
       "grid_template_rows": "auto auto auto auto auto",
       "padding": "50px 0px 70px 0px",
       "width": "100%"
      }
     },
     "c6d64b3f17e1418bbfe8f99d19fd5152": {
      "model_module": "@jupyter-widgets/base",
      "model_module_version": "1.2.0",
      "model_name": "LayoutModel",
      "state": {}
     },
     "c70cef330ed34851a2b8bba915880392": {
      "model_module": "@jupyter-widgets/controls",
      "model_module_version": "1.5.0",
      "model_name": "DescriptionStyleModel",
      "state": {
       "description_width": ""
      }
     },
     "c71abfc8f8bf4f10988feadce7932471": {
      "model_module": "@jupyter-widgets/controls",
      "model_module_version": "1.5.0",
      "model_name": "HTMLModel",
      "state": {
       "layout": "IPY_MODEL_7167d98bb468493f96dac88e680ba1d5",
       "style": "IPY_MODEL_bbfeae32f0a14dbcbc035c00f3ec453e",
       "value": "This educational Jupyter notebook is dedicated to explaining the carbon cycle and focuses on topics regarding daily and yearly fluctuations in the concentration and uptake of carbon dioxide. It contains definitions, short descriptions, figures and animations that describe the following terms: <b>carbon dioxide</b>, <b>carbon cycle</b>, <b>carbon sinks</b>, <b>carbon sources</b>, <b>photosynthesis</b> and <b>Gross Primary Production</b> (GPP). You will be able to test your knowledge on carbon by taking the <i>Carbon Challenge Quiz</i>. In order to better comprehend the carbon cycle with real-life examples, the notebook also includes exercises using ICOS data from Hyltemossa research station in Sweden."
      }
     },
     "c71be957521b49d78626d0ed6d60b5fa": {
      "model_module": "@jupyter-widgets/controls",
      "model_module_version": "1.5.0",
      "model_name": "DescriptionStyleModel",
      "state": {
       "description_width": ""
      }
     },
     "c722ff06db674795b384da5e50951c55": {
      "model_module": "@jupyter-widgets/controls",
      "model_module_version": "1.5.0",
      "model_name": "DescriptionStyleModel",
      "state": {
       "description_width": ""
      }
     },
     "c731a239df714ac8b4009ea5ea34eeee": {
      "model_module": "@jupyter-widgets/controls",
      "model_module_version": "1.5.0",
      "model_name": "DescriptionStyleModel",
      "state": {
       "description_width": ""
      }
     },
     "c73429e3f1074cdda65bfc6bbe07d740": {
      "model_module": "@jupyter-widgets/controls",
      "model_module_version": "1.5.0",
      "model_name": "DescriptionStyleModel",
      "state": {
       "description_width": ""
      }
     },
     "c73ec95a2f3c42e3a52e48f513c7a055": {
      "model_module": "@jupyter-widgets/base",
      "model_module_version": "1.2.0",
      "model_name": "LayoutModel",
      "state": {}
     },
     "c74398b0e5d546f3adcd5d0f25973a0a": {
      "model_module": "@jupyter-widgets/base",
      "model_module_version": "1.2.0",
      "model_name": "LayoutModel",
      "state": {}
     },
     "c74fc025593f474480d1029c9c386a1b": {
      "model_module": "@jupyter-widgets/controls",
      "model_module_version": "1.5.0",
      "model_name": "HTMLModel",
      "state": {
       "layout": "IPY_MODEL_0445b6552f69468587d1a8a6cf1551f2",
       "style": "IPY_MODEL_99aff9b9abfb4173933ba3f35dca50af",
       "value": "<a href=./icos_jupyter_notebooks/network_characterization.ipynb target='_blank'>Characterization of networks of atmospheric measurement stations</a>"
      }
     },
     "c75edbf6a72649eeb5976f0595119407": {
      "model_module": "@jupyter-widgets/controls",
      "model_module_version": "1.5.0",
      "model_name": "AccordionModel",
      "state": {
       "_titles": {
        "0": "map",
        "1": "timeseries"
       },
       "children": [
        "IPY_MODEL_8f0de912afbc4791a104f98de3c4d7ef",
        "IPY_MODEL_7b43566421864af5b7da8af3009bdc86"
       ],
       "layout": "IPY_MODEL_98d9dbf1cb074213be3774f809bb3eeb",
       "selected_index": null
      }
     },
     "c76764c7f63646c189aca8e11681570d": {
      "model_module": "@jupyter-widgets/controls",
      "model_module_version": "1.5.0",
      "model_name": "HTMLModel",
      "state": {
       "layout": "IPY_MODEL_564825f9f7f0440dabf5b63554e2b70f",
       "style": "IPY_MODEL_7667b467c28147c19001cea877824f3c",
       "value": "<b>Title: </b> "
      }
     },
     "c768fceb0de84b168865a14fad0f0bd7": {
      "model_module": "@jupyter-widgets/controls",
      "model_module_version": "1.5.0",
      "model_name": "DescriptionStyleModel",
      "state": {
       "description_width": ""
      }
     },
     "c772495d2dd041489e843bff2e644f72": {
      "model_module": "@jupyter-widgets/base",
      "model_module_version": "1.2.0",
      "model_name": "LayoutModel",
      "state": {
       "grid_gap": "5px 10px",
       "grid_template_columns": "100px auto",
       "grid_template_rows": "auto auto auto auto auto",
       "padding": "50px 0px 70px 0px",
       "width": "100%"
      }
     },
     "c777dad4cc8446a89ef0703e1f2c82d7": {
      "model_module": "@jupyter-widgets/controls",
      "model_module_version": "1.5.0",
      "model_name": "HTMLModel",
      "state": {
       "layout": "IPY_MODEL_5d7c99d2eb4b4e6eba2fe3391dae16ec",
       "style": "IPY_MODEL_f35c86c026cf46cf820e518bdd709878",
       "value": "<b>Thumbnail: </b> "
      }
     },
     "c789cd4ba3a443ff9da48336c08c9c05": {
      "model_module": "@jupyter-widgets/controls",
      "model_module_version": "1.5.0",
      "model_name": "HTMLModel",
      "state": {
       "layout": "IPY_MODEL_0cd8b42be5764cafbb89905cbb448e31",
       "style": "IPY_MODEL_f7ae885da15c42918b7aceb7dd5f4ed1",
       "value": "<b>GitHub: </b> "
      }
     },
     "c78a86cd83b24cfd82972df763d2f957": {
      "model_module": "@jupyter-widgets/controls",
      "model_module_version": "1.5.0",
      "model_name": "HTMLModel",
      "state": {
       "layout": "IPY_MODEL_01c942f8c0284d94b9a912ed5b4ec587",
       "style": "IPY_MODEL_341cfd3bb93d424eb7e72177639aa2e7",
       "value": "<a href='https://github.com/ICOS-Carbon-Portal/jupyter/issues' target='_blank'>Click here to report an issue</a>"
      }
     },
     "c793ecdfb78f4bcdb01fe70656cd22a2": {
      "model_module": "@jupyter-widgets/base",
      "model_module_version": "1.2.0",
      "model_name": "LayoutModel",
      "state": {}
     },
     "c7a23be4ed4f4f4da04e2f5fa172aca5": {
      "model_module": "@jupyter-widgets/controls",
      "model_module_version": "1.5.0",
      "model_name": "DescriptionStyleModel",
      "state": {
       "description_width": ""
      }
     },
     "c7bebecdf86f492c8eb4583670c0aafa": {
      "model_module": "@jupyter-widgets/controls",
      "model_module_version": "1.5.0",
      "model_name": "HTMLModel",
      "state": {
       "layout": "IPY_MODEL_8dbedc33704d49caa12b9e8355770e1c",
       "style": "IPY_MODEL_9019e725e3ea4fa29433124d0ae6bcc4",
       "value": "This category includes notebooks that are part of ICOS CP's webinars/workshops as well as notebooks that present the scientific output of projects ICOS has been involved in."
      }
     },
     "c7e6517b1a5749ea8a2ee9d86ed99bf3": {
      "model_module": "@jupyter-widgets/base",
      "model_module_version": "1.2.0",
      "model_name": "LayoutModel",
      "state": {}
     },
     "c7ed43f1e992432a8c65fd586c17926d": {
      "model_module": "@jupyter-widgets/controls",
      "model_module_version": "1.5.0",
      "model_name": "HTMLModel",
      "state": {
       "layout": "IPY_MODEL_6fb0451773714543bad2e39c59dc5db7",
       "style": "IPY_MODEL_9ab2fea7c3e84478987e2f202ad42b10",
       "value": "<a href='https://github.com/ICOS-Carbon-Portal/jupyter/issues' target='_blank'>Click here to report an issue</a>"
      }
     },
     "c818e13d19124dd2829d3c920335db38": {
      "model_module": "@jupyter-widgets/controls",
      "model_module_version": "1.5.0",
      "model_name": "HTMLModel",
      "state": {
       "layout": "IPY_MODEL_8e8ee34619754c8da79ad195c612eed9",
       "style": "IPY_MODEL_3978699734e349bc88138a011477efa9",
       "value": "Contains a notebook with a soil exercise for university students."
      }
     },
     "c8242a2d7e0e43838662781c9359dd89": {
      "model_module": "@jupyter-widgets/controls",
      "model_module_version": "1.5.0",
      "model_name": "DescriptionStyleModel",
      "state": {
       "description_width": ""
      }
     },
     "c86e420470334360bc9ac64c85196f79": {
      "model_module": "@jupyter-widgets/base",
      "model_module_version": "1.2.0",
      "model_name": "LayoutModel",
      "state": {}
     },
     "c88aaa23d13c406397de819504f17e24": {
      "model_module": "@jupyter-widgets/base",
      "model_module_version": "1.2.0",
      "model_name": "LayoutModel",
      "state": {}
     },
     "c88ee224605f437490fa790c2ae143ca": {
      "model_module": "@jupyter-widgets/controls",
      "model_module_version": "1.5.0",
      "model_name": "HTMLModel",
      "state": {
       "layout": "IPY_MODEL_7b30586beb1a4e9ba2b98efcf64d4f19",
       "style": "IPY_MODEL_0e282c0b28b842cfbae00e7ccf3647e9",
       "value": "<b>Description: </b> "
      }
     },
     "c8b3ad53adb544acb95b52bfdbe5ed14": {
      "model_module": "@jupyter-widgets/controls",
      "model_module_version": "1.5.0",
      "model_name": "HTMLModel",
      "state": {
       "layout": "IPY_MODEL_65696ae04ae740c6af2822ca649d44f5",
       "style": "IPY_MODEL_401bf48cc4654a95ae771bbc71dc33b6",
       "value": "<b>Title: </b> "
      }
     },
     "c8b7864205174cedb00c460dab6ec06d": {
      "model_module": "@jupyter-widgets/controls",
      "model_module_version": "1.5.0",
      "model_name": "HTMLModel",
      "state": {
       "layout": "IPY_MODEL_c29ee9fc8d254e5881c255b4ceec2729",
       "style": "IPY_MODEL_4eec6ae422b44cc78f02c7cc458ac034",
       "value": "<a href='https://github.com/ICOS-Carbon-Portal/jupyter/issues' target='_blank'>Click here to report an issue</a>"
      }
     },
     "c8b92fa00bf54528ae6f1d120762aea8": {
      "model_module": "@jupyter-widgets/controls",
      "model_module_version": "1.5.0",
      "model_name": "HTMLModel",
      "state": {
       "layout": "IPY_MODEL_f6804814a90843efa7a7ad8b500c623b",
       "style": "IPY_MODEL_53c441edf52347d5b1a95d3120169235",
       "value": "<b>Thumbnail: </b> "
      }
     },
     "c8d6f1c773074e3f9c319c16cf14c755": {
      "model_module": "@jupyter-widgets/controls",
      "model_module_version": "1.5.0",
      "model_name": "DescriptionStyleModel",
      "state": {
       "description_width": ""
      }
     },
     "c8d7511148d34146aec54ec05a9c08f0": {
      "model_module": "@jupyter-widgets/controls",
      "model_module_version": "1.5.0",
      "model_name": "HTMLModel",
      "state": {
       "layout": "IPY_MODEL_7e4105be44504e39872b19a6f0117704",
       "style": "IPY_MODEL_fb1b2eabdfdb404eaa4c1b537b3c8a23",
       "value": "This is an ancillary notebook including all Python functions that were developed to produce all the content of the exercise notebooks. Students are presented with short descriptions of what the functions do so that they can use them if they so wish. They are not meant to necessarily understand the commands step by step but rather what is the concept of each function and how they can use it to produce results or plots."
      }
     },
     "c8df2c41ba434a63be2adf38923bf3ff": {
      "model_module": "@jupyter-widgets/controls",
      "model_module_version": "1.5.0",
      "model_name": "HTMLModel",
      "state": {
       "layout": "IPY_MODEL_6f18b3c146d8415e9b40c4c6f72261a9",
       "style": "IPY_MODEL_92c7db163c8f44629544254337c06369",
       "value": "<b>Title: </b> "
      }
     },
     "c8f6d32deab24461992f514829ded3e5": {
      "model_module": "@jupyter-widgets/controls",
      "model_module_version": "1.5.0",
      "model_name": "DescriptionStyleModel",
      "state": {
       "description_width": ""
      }
     },
     "c8f91e5dfe2341fd821462be9b512467": {
      "model_module": "@jupyter-widgets/base",
      "model_module_version": "1.2.0",
      "model_name": "LayoutModel",
      "state": {}
     },
     "c90b60bf72bf4eafbd61628951abe832": {
      "model_module": "@jupyter-widgets/controls",
      "model_module_version": "1.5.0",
      "model_name": "DescriptionStyleModel",
      "state": {
       "description_width": ""
      }
     },
     "c9468ee1d53849f2b82c070f4ed29035": {
      "model_module": "@jupyter-widgets/controls",
      "model_module_version": "1.5.0",
      "model_name": "DescriptionStyleModel",
      "state": {
       "description_width": ""
      }
     },
     "c984bdde42e8455388319343e27f4d04": {
      "model_module": "@jupyter-widgets/controls",
      "model_module_version": "1.5.0",
      "model_name": "HTMLModel",
      "state": {
       "layout": "IPY_MODEL_efd97e41a4b1472eb1b8b9662e18511a",
       "style": "IPY_MODEL_91cfa6d515214ad7b6d3869962986ac3",
       "value": "<b>Description: </b> "
      }
     },
     "c98d1cbdefbe46f4a82ed58be69d3053": {
      "model_module": "@jupyter-widgets/base",
      "model_module_version": "1.2.0",
      "model_name": "LayoutModel",
      "state": {}
     },
     "c99cde5a650b460687b372e25077fc06": {
      "model_module": "@jupyter-widgets/controls",
      "model_module_version": "1.5.0",
      "model_name": "DescriptionStyleModel",
      "state": {
       "description_width": ""
      }
     },
     "c99d63f21ae44ad0a55451fe1ec678f8": {
      "model_module": "@jupyter-widgets/base",
      "model_module_version": "1.2.0",
      "model_name": "LayoutModel",
      "state": {}
     },
     "c9a481d0be394d9ebc1e9860064b1c76": {
      "model_module": "@jupyter-widgets/controls",
      "model_module_version": "1.5.0",
      "model_name": "DescriptionStyleModel",
      "state": {
       "description_width": ""
      }
     },
     "c9aeb43c58064b7aa0fd56cd133a7593": {
      "model_module": "@jupyter-widgets/base",
      "model_module_version": "1.2.0",
      "model_name": "LayoutModel",
      "state": {}
     },
     "c9af66cabf004696a7ffd5acb1554697": {
      "model_module": "@jupyter-widgets/controls",
      "model_module_version": "1.5.0",
      "model_name": "DescriptionStyleModel",
      "state": {
       "description_width": ""
      }
     },
     "c9b69c55dfb7478cbef99e3260164d7b": {
      "model_module": "@jupyter-widgets/controls",
      "model_module_version": "1.5.0",
      "model_name": "DescriptionStyleModel",
      "state": {
       "description_width": ""
      }
     },
     "c9c1084dc17b436cb36181f7d41c077b": {
      "model_module": "@jupyter-widgets/controls",
      "model_module_version": "1.5.0",
      "model_name": "HTMLModel",
      "state": {
       "layout": "IPY_MODEL_d525734b4f764dc394a910dec65890cc",
       "style": "IPY_MODEL_4aa94b45a2cc4c739c3828d781e2695f",
       "value": "<b>Title: </b> "
      }
     },
     "c9ce70ffad8d48af98c0809e36873d37": {
      "model_module": "@jupyter-widgets/controls",
      "model_module_version": "1.5.0",
      "model_name": "HTMLModel",
      "state": {
       "layout": "IPY_MODEL_3310a53b3fe44f1a91a3b9fdde96a925",
       "style": "IPY_MODEL_e0db7d7231644793a3c141e6169736ff",
       "value": "<b>Thumbnail: </b> "
      }
     },
     "c9ef99fd50e64613b191ee9818d3f3e8": {
      "model_module": "@jupyter-widgets/base",
      "model_module_version": "1.2.0",
      "model_name": "LayoutModel",
      "state": {}
     },
     "ca12c56978e9447eac20be86e1bb2b53": {
      "model_module": "@jupyter-widgets/controls",
      "model_module_version": "1.5.0",
      "model_name": "HTMLModel",
      "state": {
       "layout": "IPY_MODEL_879eb642e869487986abb3a1df8ace50",
       "style": "IPY_MODEL_18b2f511bae4471b8d5b43706ae51ff1",
       "value": "<b>Title: </b> "
      }
     },
     "ca321b336e154e10a6b503a7c5976cc8": {
      "model_module": "@jupyter-widgets/controls",
      "model_module_version": "1.5.0",
      "model_name": "HTMLModel",
      "state": {
       "layout": "IPY_MODEL_dfa5654648b849db96850e316393d0cd",
       "style": "IPY_MODEL_a6279db3996d4f06aa1d2e76d5461725",
       "value": "This notebook is dedicated to using ICOS Ecosystem Data from Hyltemossa Research Station in Southern Sweden, to study how the drought during the summer of 2018 affected the vegetation and the carbon balance in the surrounding area. The temporal resolution of the data extends from January 1st 2015 to December 31st 2018. Another objective of this notebook is to introduce basic principles of Python Programming."
      }
     },
     "ca3e354894024d56ab612475af5a8d5d": {
      "model_module": "@jupyter-widgets/controls",
      "model_module_version": "1.5.0",
      "model_name": "HTMLModel",
      "state": {
       "layout": "IPY_MODEL_141125100db745dab3bfcbefb002dfca",
       "style": "IPY_MODEL_3431f682057e4f6c993fee69ac13d8cb",
       "value": "<a href=\"mailto: jupyter-info@icos-cp.eu\">jupyter-info@icos-cp.eu</a>"
      }
     },
     "ca5dd78a7b0f457c9ea2a4f2bec60d0e": {
      "model_module": "@jupyter-widgets/controls",
      "model_module_version": "1.5.0",
      "model_name": "GridBoxModel",
      "state": {
       "children": [
        "IPY_MODEL_c547fcf7aa1145f38318fa44db5f0e3f",
        "IPY_MODEL_2fdae86801394c4abcf16db03dd59e59",
        "IPY_MODEL_aa6658f3e9f34ac2803e39d82d995583",
        "IPY_MODEL_fa20599f723b444fb0b9099354c2abc7",
        "IPY_MODEL_505d8a1fbfda48c1ad80436b2ccd7957",
        "IPY_MODEL_ebfb35ff34c448589d610daefd35d8f1",
        "IPY_MODEL_94ec66a692894db3a3b4f9b94e202130",
        "IPY_MODEL_0a34c956cd614aba8e9323f5570a9693",
        "IPY_MODEL_546c593a8adb4ff99c37122cfcc2c319",
        "IPY_MODEL_3be56ae33e0b443a8636fb078bcea087"
       ],
       "layout": "IPY_MODEL_a67618c7bc1f4bfb8a09c16b46a65806"
      }
     },
     "ca61a1ad086a4b8d9641aece0a3d9029": {
      "model_module": "@jupyter-widgets/controls",
      "model_module_version": "1.5.0",
      "model_name": "DescriptionStyleModel",
      "state": {
       "description_width": ""
      }
     },
     "ca6d4e2145244543ba619dd720d650e6": {
      "model_module": "@jupyter-widgets/base",
      "model_module_version": "1.2.0",
      "model_name": "LayoutModel",
      "state": {}
     },
     "ca924a09c1954a1bab4fb092a234747a": {
      "model_module": "@jupyter-widgets/base",
      "model_module_version": "1.2.0",
      "model_name": "LayoutModel",
      "state": {}
     },
     "ca995f0a3f6e4d239fa721db1308031e": {
      "model_module": "@jupyter-widgets/controls",
      "model_module_version": "1.5.0",
      "model_name": "DescriptionStyleModel",
      "state": {
       "description_width": ""
      }
     },
     "caa28d8006b2444ca6a5d6ef620d3eb1": {
      "model_module": "@jupyter-widgets/controls",
      "model_module_version": "1.5.0",
      "model_name": "HTMLModel",
      "state": {
       "layout": "IPY_MODEL_02a26b4dd65d4adaaf02a4e18b1fa056",
       "style": "IPY_MODEL_d2ae4d5ea5694543a5a428cdb3f675d9",
       "value": "<b>Thumbnail: </b> "
      }
     },
     "cabc6592f8ee49ed99598f2aa67d1e9e": {
      "model_module": "@jupyter-widgets/controls",
      "model_module_version": "1.5.0",
      "model_name": "DescriptionStyleModel",
      "state": {
       "description_width": ""
      }
     },
     "cae7ea33b6674343928e4d9eb898c284": {
      "model_module": "@jupyter-widgets/controls",
      "model_module_version": "1.5.0",
      "model_name": "DescriptionStyleModel",
      "state": {
       "description_width": ""
      }
     },
     "caf8a8594f494703a59527b87244cb36": {
      "model_module": "@jupyter-widgets/controls",
      "model_module_version": "1.5.0",
      "model_name": "DescriptionStyleModel",
      "state": {
       "description_width": ""
      }
     },
     "cb0c7b03ee104bf090a8ac6218985170": {
      "model_module": "@jupyter-widgets/controls",
      "model_module_version": "1.5.0",
      "model_name": "HTMLModel",
      "state": {
       "layout": "IPY_MODEL_f22dd521d5b04d24a3b50fb939c27632",
       "style": "IPY_MODEL_d141fab4c7f641a091b78ff07936d432",
       "value": "<b>Description: </b> "
      }
     },
     "cb0cf0f43aeb47998a9d65bbd36fc9ab": {
      "model_module": "@jupyter-widgets/base",
      "model_module_version": "1.2.0",
      "model_name": "LayoutModel",
      "state": {}
     },
     "cb0fd1c906e140079cc63a7685c6847e": {
      "model_module": "@jupyter-widgets/controls",
      "model_module_version": "1.5.0",
      "model_name": "DescriptionStyleModel",
      "state": {
       "description_width": ""
      }
     },
     "cb107d4ed1764208a0d62956bf1cd7e7": {
      "model_module": "@jupyter-widgets/controls",
      "model_module_version": "1.5.0",
      "model_name": "HTMLModel",
      "state": {
       "layout": "IPY_MODEL_0580cc7ceede49d0ab238bde4871b7dd",
       "style": "IPY_MODEL_c9a481d0be394d9ebc1e9860064b1c76",
       "value": "This Jupyter notebook is showcasing how to search for stations (for which <a href='http://stilt-model.org/index.php/Main/HomePage' target='_blank'>STILT</a> model results are available for) using the ICOS Carbon Portal Python library. Full documentation for the ICOS library is available on the <a href='https://icos-carbon-portal.github.io/pylib/' target='_blank'>project page</a>, how to install and wheel on <a href='https://pypi.org/project/icoscp/' target='_blank'>pypi.org</a>, source available on <a href='https://github.com/ICOS-Carbon-Portal/pylib' target='_blank'>GitHub</a>."
      }
     },
     "cb2d1bfacc704b2abc494f54c0860c6e": {
      "model_module": "@jupyter-widgets/base",
      "model_module_version": "1.2.0",
      "model_name": "LayoutModel",
      "state": {}
     },
     "cb3e29f63b5d4677a2afd80964b80912": {
      "model_module": "@jupyter-widgets/controls",
      "model_module_version": "1.5.0",
      "model_name": "HTMLModel",
      "state": {
       "layout": "IPY_MODEL_dcc137d0d96543329b3c869d802da078",
       "style": "IPY_MODEL_960dd07966544527ba7d272453a8b245",
       "value": "This educational Jupyter notebook is dedicated to explaining the carbon cycle and focuses on topics regarding daily and yearly fluctuations in the concentration and uptake of carbon dioxide. It contains definitions, short descriptions, figures and animations that describe the following terms: <b>carbon dioxide</b>, <b>carbon cycle</b>, <b>carbon sinks</b>, <b>carbon sources</b>, <b>photosynthesis</b> and <b>Gross Primary Production</b> (GPP). You will be able to test your knowledge on carbon by taking the <i>Carbon Challenge Quiz</i>. In order to better comprehend the carbon cycle with real-life examples, the notebook also includes exercises using ICOS data from Hyltemossa research station in Sweden."
      }
     },
     "cb54b9f7aa3b4c999436dcef6ea574c6": {
      "model_module": "@jupyter-widgets/controls",
      "model_module_version": "1.5.0",
      "model_name": "DescriptionStyleModel",
      "state": {
       "description_width": ""
      }
     },
     "cb6b94d6e2df4aa0bb2bf11445b81133": {
      "model_module": "@jupyter-widgets/controls",
      "model_module_version": "1.5.0",
      "model_name": "HTMLModel",
      "state": {
       "layout": "IPY_MODEL_474c46ac1e504234a04a6f32be54830b",
       "style": "IPY_MODEL_499d7ad2240b44b5824964c17f6fd9b1",
       "value": "This Jupyter Notebook is dedicated to explaining the carbon cycle and focuses on topics regarding daily and yearly fluctuations in the concentration of carbon dioxide. It contains definitions, short descriptions, figures and animations that describe the following terms: <b>carbon dioxide</b>, <b>carbon cycle</b>, <b>carbon sinks</b> and <b>carbon sources</b>. You will be able to test your knowledge on carbon by taking the <i>Carbon Challenge Quiz</i>. In order to better comprehend the carbon cycle, the notebook also includes exercises using ICOS data from Hyltemossa station in Sweden. The exercises are based on topics related to the uptake and release of carbon dioxide amongst different parts of an ecosystem."
      }
     },
     "cb7260b06b274bc4892469dd0218543c": {
      "model_module": "@jupyter-widgets/base",
      "model_module_version": "1.2.0",
      "model_name": "LayoutModel",
      "state": {}
     },
     "cbc4ca55006c42f8985230d49d777010": {
      "model_module": "@jupyter-widgets/controls",
      "model_module_version": "1.5.0",
      "model_name": "GridBoxModel",
      "state": {
       "children": [
        "IPY_MODEL_3e0bc989953c4ba49ddd138591765ab9",
        "IPY_MODEL_997bdab938b6481b85fea9c30b612d5d"
       ],
       "layout": "IPY_MODEL_43a4eaef15704a6bb15a3654867f9718"
      }
     },
     "cbceab432bf245f2ad5942737d139593": {
      "model_module": "@jupyter-widgets/controls",
      "model_module_version": "1.5.0",
      "model_name": "GridBoxModel",
      "state": {
       "children": [
        "IPY_MODEL_ab977d4afcea49828fb299796178aa17",
        "IPY_MODEL_da36b614bc564c7a8761bc2e8a3799ad"
       ],
       "layout": "IPY_MODEL_ce393373639844abaa3deb69e284806d"
      }
     },
     "cbd0d9f7d03b42e3b93fa7be6f4777a3": {
      "model_module": "@jupyter-widgets/controls",
      "model_module_version": "1.5.0",
      "model_name": "HTMLModel",
      "state": {
       "layout": "IPY_MODEL_d635d1dae3d04fccad88eab5df3b9df7",
       "style": "IPY_MODEL_41f22fe75719436aae2669386bf5c245",
       "value": "<a href=./project_jupyter_notebooks/RINGO_T1.3/ICOS_flasksampling_fossilfuel.ipynb target='_blank'>Jupyter notebook for selecting high fossil fuel CO2 events at ICOS stations</a>"
      }
     },
     "cbd36e34450240678ba072464e26ef3e": {
      "model_module": "@jupyter-widgets/base",
      "model_module_version": "1.2.0",
      "model_name": "LayoutModel",
      "state": {}
     },
     "cbda3774b5cc4290bffdd36d8ba031c5": {
      "model_module": "@jupyter-widgets/controls",
      "model_module_version": "1.5.0",
      "model_name": "DescriptionStyleModel",
      "state": {
       "description_width": ""
      }
     },
     "cbe1bc7a03634f0eb4f527ac1eed5ee1": {
      "model_module": "@jupyter-widgets/base",
      "model_module_version": "1.2.0",
      "model_name": "LayoutModel",
      "state": {}
     },
     "cbe84b0c02264109904dbca00fa65a0e": {
      "model_module": "@jupyter-widgets/controls",
      "model_module_version": "1.5.0",
      "model_name": "DescriptionStyleModel",
      "state": {
       "description_width": ""
      }
     },
     "cbe915e49a294ad996b19208a79e69f4": {
      "model_module": "@jupyter-widgets/controls",
      "model_module_version": "1.5.0",
      "model_name": "HTMLModel",
      "state": {
       "layout": "IPY_MODEL_c88aaa23d13c406397de819504f17e24",
       "style": "IPY_MODEL_d294dc8de7034ceebd86bf5e29169fb1",
       "value": "<a href=./icos_jupyter_notebooks/station_characterization.ipynb target='_blank'>Characterization of atmospheric measurement stations</a>"
      }
     },
     "cbea2e7c1b0b4dce9d0b0bad57150338": {
      "model_module": "@jupyter-widgets/controls",
      "model_module_version": "1.5.0",
      "model_name": "DescriptionStyleModel",
      "state": {
       "description_width": ""
      }
     },
     "cbf0e2fcef5649e491b437e632c9b96d": {
      "model_module": "@jupyter-widgets/controls",
      "model_module_version": "1.5.0",
      "model_name": "HTMLModel",
      "state": {
       "layout": "IPY_MODEL_5a9f2f4f9a024abcbc77af609321bd2b",
       "style": "IPY_MODEL_1275e429489c4d09bf8ae2063c4af501",
       "value": "<b>Contact: </b> "
      }
     },
     "cc1ba250b9cc475aa00a92972b69481b": {
      "model_module": "@jupyter-widgets/controls",
      "model_module_version": "1.5.0",
      "model_name": "GridBoxModel",
      "state": {
       "children": [
        "IPY_MODEL_0940e36872de4aa485f252feda9f6310",
        "IPY_MODEL_cd18bd62b393458192a467c7772308c6",
        "IPY_MODEL_833df6081f1946bd9714c2dd24f60289",
        "IPY_MODEL_68e53d2279e84f09bade901193542c6b",
        "IPY_MODEL_62789a2f9ca14f7383255b3a5025880b",
        "IPY_MODEL_d58f73ac87534b66b0ae165ed29a5fb2",
        "IPY_MODEL_f11444aa3cbd4dccb49ed2afa0ceacfb",
        "IPY_MODEL_a5f705ecd36148cd89deb064c46927d4",
        "IPY_MODEL_1f0e53c7676042189eb93e7153c6ed20",
        "IPY_MODEL_3480e8e875104da39434d9a69dbd7103"
       ],
       "layout": "IPY_MODEL_92db72f48ae643a499a1ba2d30b2901c"
      }
     },
     "cc44cdc783a9491b967f3c10c97c7778": {
      "model_module": "@jupyter-widgets/base",
      "model_module_version": "1.2.0",
      "model_name": "LayoutModel",
      "state": {}
     },
     "cc7a34fb1eee4fe49b9cbc39259d5eac": {
      "model_module": "@jupyter-widgets/controls",
      "model_module_version": "1.5.0",
      "model_name": "HTMLModel",
      "state": {
       "layout": "IPY_MODEL_ac076337dec245f1b6c0480d6055cee8",
       "style": "IPY_MODEL_545fc775e22f491193d7c1bf68fba915",
       "value": "<b>Title: </b> "
      }
     },
     "cca2384e128942c9ab89830c75d00362": {
      "model_module": "@jupyter-widgets/controls",
      "model_module_version": "1.5.0",
      "model_name": "DescriptionStyleModel",
      "state": {
       "description_width": ""
      }
     },
     "ccb7e6db270c41b7a89f315fb37dc70d": {
      "model_module": "@jupyter-widgets/controls",
      "model_module_version": "1.5.0",
      "model_name": "HTMLModel",
      "state": {
       "layout": "IPY_MODEL_09c553a91da94f5e8e6821c858888e48",
       "style": "IPY_MODEL_70f4e63b0d5e4237bcebb7dc0306329a",
       "value": "<b>Thumbnail: </b> "
      }
     },
     "ccea5b2ff13c4b14ad7c571b879724c9": {
      "model_module": "@jupyter-widgets/controls",
      "model_module_version": "1.5.0",
      "model_name": "DescriptionStyleModel",
      "state": {
       "description_width": ""
      }
     },
     "cd18bd62b393458192a467c7772308c6": {
      "model_module": "@jupyter-widgets/controls",
      "model_module_version": "1.5.0",
      "model_name": "HTMLModel",
      "state": {
       "layout": "IPY_MODEL_66a820fca28a461e8d98a2c8a679378d",
       "style": "IPY_MODEL_952b36169b43400aaa00f2a1c93d82b7",
       "value": "<a href=./project_jupyter_notebooks/envrifair_winterschool/map/exercise1_map.ipynb target='_blank'>Exercise 1 - Create an interactive map</a>"
      }
     },
     "cd3499da3d2a433b8f312071be9c7e30": {
      "model_module": "@jupyter-widgets/base",
      "model_module_version": "1.2.0",
      "model_name": "LayoutModel",
      "state": {}
     },
     "cd4ccf1109a44451a0ada8724701c766": {
      "model_module": "@jupyter-widgets/base",
      "model_module_version": "1.2.0",
      "model_name": "LayoutModel",
      "state": {}
     },
     "cd820c30257640ee83a4c0b7a9b7c618": {
      "model_module": "@jupyter-widgets/controls",
      "model_module_version": "1.5.0",
      "model_name": "DescriptionStyleModel",
      "state": {
       "description_width": ""
      }
     },
     "cd8c68c3464f4b3ca25aab957a915019": {
      "model_module": "@jupyter-widgets/controls",
      "model_module_version": "1.5.0",
      "model_name": "DescriptionStyleModel",
      "state": {
       "description_width": ""
      }
     },
     "cdb71afe72db40dcb73a7ed41053bef8": {
      "model_module": "@jupyter-widgets/base",
      "model_module_version": "1.2.0",
      "model_name": "LayoutModel",
      "state": {}
     },
     "cdb855753eb948808b5156f8777afc79": {
      "model_module": "@jupyter-widgets/controls",
      "model_module_version": "1.5.0",
      "model_name": "DescriptionStyleModel",
      "state": {
       "description_width": ""
      }
     },
     "cdce5ad61ddc4e47a54346a0246b4ca4": {
      "model_module": "@jupyter-widgets/controls",
      "model_module_version": "1.5.0",
      "model_name": "AccordionModel",
      "state": {
       "_titles": {
        "0": "ENVRIFAIR winterschool",
        "1": "OTC Data Reduction Workshop",
        "2": "RINGO_T1.3"
       },
       "children": [
        "IPY_MODEL_2468bdf65b7143a3b40469a9f11f4565",
        "IPY_MODEL_bb97619552d243cc9aa3d437b7118801",
        "IPY_MODEL_fc03f8ecc1b3414b9d6ca9375620fd21"
       ],
       "layout": "IPY_MODEL_df42952a48fa4cfab47d6cfd06e3d94f",
       "selected_index": null
      }
     },
     "cdd8ac5d036e41079b84db964eb9a570": {
      "model_module": "@jupyter-widgets/base",
      "model_module_version": "1.2.0",
      "model_name": "LayoutModel",
      "state": {}
     },
     "cddc9ac3279146e6b684510100e42fe2": {
      "model_module": "@jupyter-widgets/controls",
      "model_module_version": "1.5.0",
      "model_name": "DescriptionStyleModel",
      "state": {
       "description_width": ""
      }
     },
     "cdf9f6385ac34bc795365be147cb9f9f": {
      "model_module": "@jupyter-widgets/controls",
      "model_module_version": "1.5.0",
      "model_name": "HTMLModel",
      "state": {
       "layout": "IPY_MODEL_af2194dfb1d844ce9ee872aa25dac4ed",
       "style": "IPY_MODEL_dc3c8dc044e34f5788287c2597fceaf7",
       "value": "<b>Thumbnail: </b> "
      }
     },
     "ce20190f83a741369b4e079f659faff1": {
      "model_module": "@jupyter-widgets/controls",
      "model_module_version": "1.5.0",
      "model_name": "HTMLModel",
      "state": {
       "layout": "IPY_MODEL_b6caf857492f492d976d301babe65935",
       "style": "IPY_MODEL_0756d8950e3345679be2320be35649d1",
       "value": "<img src=\"./icos_jupyter_notebooks/ind_tools/img/04_proj_JNBs/ringo_t1_3/flasksampling_v5_gui.PNG\">"
      }
     },
     "ce393373639844abaa3deb69e284806d": {
      "model_module": "@jupyter-widgets/base",
      "model_module_version": "1.2.0",
      "model_name": "LayoutModel",
      "state": {
       "grid_gap": "5px 10px",
       "grid_template_columns": "auto",
       "grid_template_rows": "auto",
       "padding": "5px 0px 5px 0px",
       "width": "100%"
      }
     },
     "ce5c68f31a5c4e10919d25bb8b7c80c5": {
      "model_module": "@jupyter-widgets/controls",
      "model_module_version": "1.5.0",
      "model_name": "HTMLModel",
      "state": {
       "layout": "IPY_MODEL_03aca94a3cbb4a13a5539bbbe60b43ba",
       "style": "IPY_MODEL_42e08759a85e407090de9bb36e894330",
       "value": "<b>Title: </b> "
      }
     },
     "ce62960746d8480b87f8cc8de9fd0c3a": {
      "model_module": "@jupyter-widgets/controls",
      "model_module_version": "1.5.0",
      "model_name": "DescriptionStyleModel",
      "state": {
       "description_width": ""
      }
     },
     "ce637cc60440476ba8dae8b44757e0ba": {
      "model_module": "@jupyter-widgets/controls",
      "model_module_version": "1.5.0",
      "model_name": "DescriptionStyleModel",
      "state": {
       "description_width": ""
      }
     },
     "ce67bdf953f44b4aa2e94bf01c55aae7": {
      "model_module": "@jupyter-widgets/controls",
      "model_module_version": "1.5.0",
      "model_name": "DescriptionStyleModel",
      "state": {
       "description_width": ""
      }
     },
     "ce6bcbbb7de34dcab47cc0333f640ba7": {
      "model_module": "@jupyter-widgets/controls",
      "model_module_version": "1.5.0",
      "model_name": "DescriptionStyleModel",
      "state": {
       "description_width": ""
      }
     },
     "cea35257f3e74636a1df4c83ace076da": {
      "model_module": "@jupyter-widgets/base",
      "model_module_version": "1.2.0",
      "model_name": "LayoutModel",
      "state": {}
     },
     "cec30e8177814569889590bf2de3de4e": {
      "model_module": "@jupyter-widgets/controls",
      "model_module_version": "1.5.0",
      "model_name": "HTMLModel",
      "state": {
       "layout": "IPY_MODEL_4b7cbc0e596f48b587254ac33bcc80c6",
       "style": "IPY_MODEL_e1304264257b43e48cbf176041acfb01",
       "value": "<img src=\"./icos_jupyter_notebooks/ind_tools/img/04_proj_JNBs/otc_drw/ex1.PNG\">"
      }
     },
     "cec6fa8cbddf4ebd957dacd1973098de": {
      "model_module": "@jupyter-widgets/controls",
      "model_module_version": "1.5.0",
      "model_name": "DescriptionStyleModel",
      "state": {
       "description_width": ""
      }
     },
     "ced1644882f640c3a0ec39d634f06c5d": {
      "model_module": "@jupyter-widgets/controls",
      "model_module_version": "1.5.0",
      "model_name": "DescriptionStyleModel",
      "state": {
       "description_width": ""
      }
     },
     "cefc5e10cb994df0b4ad1eea9184c156": {
      "model_module": "@jupyter-widgets/base",
      "model_module_version": "1.2.0",
      "model_name": "LayoutModel",
      "state": {}
     },
     "cf13663f7bbf40c68670529000f27ced": {
      "model_module": "@jupyter-widgets/base",
      "model_module_version": "1.2.0",
      "model_name": "LayoutModel",
      "state": {}
     },
     "cf1b4a481a824c8d9ff55edf186903e6": {
      "model_module": "@jupyter-widgets/controls",
      "model_module_version": "1.5.0",
      "model_name": "HTMLModel",
      "state": {
       "layout": "IPY_MODEL_ca924a09c1954a1bab4fb092a234747a",
       "style": "IPY_MODEL_6e40229ad03d408090a93c1c3233378f",
       "value": "<b>Thumbnail: </b> "
      }
     },
     "cf4431e9c7fc41c985b5c9d2d24f9711": {
      "model_module": "@jupyter-widgets/base",
      "model_module_version": "1.2.0",
      "model_name": "LayoutModel",
      "state": {}
     },
     "cf6ad71dd50c4dff8c1bf7745c169592": {
      "model_module": "@jupyter-widgets/controls",
      "model_module_version": "1.5.0",
      "model_name": "HTMLModel",
      "state": {
       "layout": "IPY_MODEL_3ae3e76b170d4ef594a6c3cde0f9eaf6",
       "style": "IPY_MODEL_2f1c20a8a52843bab24b69affdf06684",
       "value": "<a href=./education/PhD/upscaling_carbon_fluxes/notebooks/exercise4.ipynb target='_blank'>Estimating national budgets</a>"
      }
     },
     "cf74864d65674fd7867dc6f03c1f47cf": {
      "model_module": "@jupyter-widgets/controls",
      "model_module_version": "1.5.0",
      "model_name": "GridBoxModel",
      "state": {
       "children": [
        "IPY_MODEL_d1eada6220f04af39222495b55229009",
        "IPY_MODEL_dc4c5ce426684748bce2b0db1380d68b",
        "IPY_MODEL_373f65bcf3044ace983238b388b794db",
        "IPY_MODEL_73e3f8aec0134bf9b05d504c90c20d9b",
        "IPY_MODEL_ff9805f7012148a6b5df4db4aba0d7f4",
        "IPY_MODEL_87a8f1137dc749dfad372cc81abdaf01",
        "IPY_MODEL_05593eab8f734b9fa9867f49657dd0fb",
        "IPY_MODEL_c78a86cd83b24cfd82972df763d2f957",
        "IPY_MODEL_20b53cc9e7444eaa9fb00a7cb40fa661",
        "IPY_MODEL_6d994c097627473b8ef932a3fca7b761"
       ],
       "layout": "IPY_MODEL_d7beffc7e3c347a4bc639de5bc3c6785"
      }
     },
     "cf962e40e95844e9bcb49e679063f265": {
      "model_module": "@jupyter-widgets/controls",
      "model_module_version": "1.5.0",
      "model_name": "DescriptionStyleModel",
      "state": {
       "description_width": ""
      }
     },
     "cf9871fecb904c578337462a3968ebd8": {
      "model_module": "@jupyter-widgets/controls",
      "model_module_version": "1.5.0",
      "model_name": "HTMLModel",
      "state": {
       "layout": "IPY_MODEL_bc01b34f843c419ab4d4e1dbfc82c4fe",
       "style": "IPY_MODEL_9f8d821145bb43d08d9545be64b78c3c",
       "value": "<b>GitHub: </b> "
      }
     },
     "cf998e097d1f4828b891a541494ceba8": {
      "model_module": "@jupyter-widgets/base",
      "model_module_version": "1.2.0",
      "model_name": "LayoutModel",
      "state": {}
     },
     "cfa6325a3c974f8295957badc39a5077": {
      "model_module": "@jupyter-widgets/controls",
      "model_module_version": "1.5.0",
      "model_name": "HTMLModel",
      "state": {
       "layout": "IPY_MODEL_de3ccb6a5fb746d18bbe97b686a80fae",
       "style": "IPY_MODEL_bbe13cbb1e7c4a8d9f555f74d212c4fd",
       "value": "<b>Title: </b> "
      }
     },
     "cfb240db9ae64969845d4b4332d52544": {
      "model_module": "@jupyter-widgets/base",
      "model_module_version": "1.2.0",
      "model_name": "LayoutModel",
      "state": {}
     },
     "cfbc1fa1738f4ae4ab0fae9edc0a89cf": {
      "model_module": "@jupyter-widgets/controls",
      "model_module_version": "1.5.0",
      "model_name": "HTMLModel",
      "state": {
       "layout": "IPY_MODEL_e7f5ccce5c8b4d699c5b67504748032f",
       "style": "IPY_MODEL_e0882954dd9646b09d1c4e1f138add30",
       "value": "<img src=\"./icos_jupyter_notebooks/ind_tools/img//05_education/general/03_cc_svb/svb_mashup.png\">"
      }
     },
     "cfc418b2651b443c89de7de5c61d2fc6": {
      "model_module": "@jupyter-widgets/base",
      "model_module_version": "1.2.0",
      "model_name": "LayoutModel",
      "state": {}
     },
     "cfdb32f0e44e43bf893799c0587e725c": {
      "model_module": "@jupyter-widgets/controls",
      "model_module_version": "1.5.0",
      "model_name": "DescriptionStyleModel",
      "state": {
       "description_width": ""
      }
     },
     "cfdeb5c916ea454dbc18f646ed934af9": {
      "model_module": "@jupyter-widgets/controls",
      "model_module_version": "1.5.0",
      "model_name": "DescriptionStyleModel",
      "state": {
       "description_width": ""
      }
     },
     "d00ab6b253c440ee9a3bff1650ae17bc": {
      "model_module": "@jupyter-widgets/controls",
      "model_module_version": "1.5.0",
      "model_name": "HTMLModel",
      "state": {
       "layout": "IPY_MODEL_b1c814c96d61451d8efc0a0f0adf9a7c",
       "style": "IPY_MODEL_74099b1fb7b24b9e888d4556272d65a5",
       "value": "<b>Thumbnail: </b> "
      }
     },
     "d026e71d182d4f00b02941d125298984": {
      "model_module": "@jupyter-widgets/controls",
      "model_module_version": "1.5.0",
      "model_name": "DescriptionStyleModel",
      "state": {
       "description_width": ""
      }
     },
     "d03c1b7d68b04bf9a10594e79393328a": {
      "model_module": "@jupyter-widgets/controls",
      "model_module_version": "1.5.0",
      "model_name": "HTMLModel",
      "state": {
       "layout": "IPY_MODEL_a6a6a07a86624cc4b4ff7c29c90146d1",
       "style": "IPY_MODEL_1f2064049dd242ce82997e0fffc04f26",
       "value": "<a href=./pylib_examples/ex5_sparql.ipynb target='_blank'>ICOS Carbon Portal Python Library - Load data based on a sparql query</a>"
      }
     },
     "d04b656bbffa43f4ae7ae3eaa024ed07": {
      "model_module": "@jupyter-widgets/controls",
      "model_module_version": "1.5.0",
      "model_name": "HTMLModel",
      "state": {
       "layout": "IPY_MODEL_c98d1cbdefbe46f4a82ed58be69d3053",
       "style": "IPY_MODEL_9feb4c979d414c3cacfd59db5c914716",
       "value": "<b>GitHub: </b> "
      }
     },
     "d04e4d0d61a7400888d8ea4a02c83120": {
      "model_module": "@jupyter-widgets/controls",
      "model_module_version": "1.5.0",
      "model_name": "HTMLModel",
      "state": {
       "layout": "IPY_MODEL_b4d00ec7d84a40c1b6d6387f60a39d5e",
       "style": "IPY_MODEL_0d06bfdde3414c879dd4e9a09430356e",
       "value": "<img src=\"./icos_jupyter_notebooks/ind_tools/img/05_education/phd/ucf/ex1/plot2stations.png\">"
      }
     },
     "d04fdb4c0f9846dda659df923ad17e1b": {
      "model_module": "@jupyter-widgets/controls",
      "model_module_version": "1.5.0",
      "model_name": "HTMLModel",
      "state": {
       "layout": "IPY_MODEL_ffc05170f919454f8ec460e7d76eeeeb",
       "style": "IPY_MODEL_de88813940cc49b78314e3daab9aa3fd",
       "value": "<a href=\"mailto: jupyter-info@icos-cp.eu\">jupyter-info@icos-cp.eu</a>"
      }
     },
     "d050fd82e8f7446982c105c0dd7bd71b": {
      "model_module": "@jupyter-widgets/controls",
      "model_module_version": "1.5.0",
      "model_name": "DescriptionStyleModel",
      "state": {
       "description_width": ""
      }
     },
     "d069adb4b1544749b04028bae96f6552": {
      "model_module": "@jupyter-widgets/controls",
      "model_module_version": "1.5.0",
      "model_name": "DescriptionStyleModel",
      "state": {
       "description_width": ""
      }
     },
     "d0a6a77549f94d79a2cbdd6ce845c8a2": {
      "model_module": "@jupyter-widgets/controls",
      "model_module_version": "1.5.0",
      "model_name": "HTMLModel",
      "state": {
       "layout": "IPY_MODEL_5ec5cd5794824fd9ac7f4d7cd31d1530",
       "style": "IPY_MODEL_d72e7a5d188f4d43a640328be893f46d",
       "value": "<img src=\"./icos_jupyter_notebooks/ind_tools/img/05_education/phd/ucf/ex3/gpp_par_fapar_prod.PNG\">"
      }
     },
     "d0aaa96f88ac446c901fa65199545c45": {
      "model_module": "@jupyter-widgets/controls",
      "model_module_version": "1.5.0",
      "model_name": "HTMLModel",
      "state": {
       "layout": "IPY_MODEL_e7f2850cc8e44a2c82d2742acd4573b5",
       "style": "IPY_MODEL_bb3f3235062f4c98a8e733eb49408247",
       "value": "<b>GitHub: </b> "
      }
     },
     "d0b966306ede446e9a69b96ab2752269": {
      "model_module": "@jupyter-widgets/controls",
      "model_module_version": "1.5.0",
      "model_name": "GridBoxModel",
      "state": {
       "children": [
        "IPY_MODEL_ce5c68f31a5c4e10919d25bb8b7c80c5",
        "IPY_MODEL_d94065ba915d40818299d5e2d71a02c3",
        "IPY_MODEL_b8cc5bfafa494d5fa17d5f8d16912c55",
        "IPY_MODEL_c5b71da75fa543549e8013e354a416af",
        "IPY_MODEL_1a2f23fcde0a4040bcce30d58c6c055e",
        "IPY_MODEL_299bc7d8bc584286b71014329946e2be",
        "IPY_MODEL_5b4b5ee54e9c46f2a4dd8c1de54e9e21",
        "IPY_MODEL_5125caa52c0d4627b9da74bbc6882b5d",
        "IPY_MODEL_091d227dd231439faf9721f503cd2513",
        "IPY_MODEL_c3e6f3633eab47d2b6d7bf008dfc5840"
       ],
       "layout": "IPY_MODEL_58d46b7e0665431da0108a560650593e"
      }
     },
     "d0be08c0a3c845b99bd6e785295cea52": {
      "model_module": "@jupyter-widgets/controls",
      "model_module_version": "1.5.0",
      "model_name": "DescriptionStyleModel",
      "state": {
       "description_width": ""
      }
     },
     "d0e11f496ab94438a75ab31574900b7b": {
      "model_module": "@jupyter-widgets/base",
      "model_module_version": "1.2.0",
      "model_name": "LayoutModel",
      "state": {}
     },
     "d0e537c294f447f999a2629bf6003ea2": {
      "model_module": "@jupyter-widgets/controls",
      "model_module_version": "1.5.0",
      "model_name": "DescriptionStyleModel",
      "state": {
       "description_width": ""
      }
     },
     "d110668415f845628b413ebd18b1d102": {
      "model_module": "@jupyter-widgets/controls",
      "model_module_version": "1.5.0",
      "model_name": "DescriptionStyleModel",
      "state": {
       "description_width": ""
      }
     },
     "d11079f8966e4d8787976ce7ee2cc3bb": {
      "model_module": "@jupyter-widgets/controls",
      "model_module_version": "1.5.0",
      "model_name": "HTMLModel",
      "state": {
       "layout": "IPY_MODEL_2160d925693d4e06885e6fb26ed7fa85",
       "style": "IPY_MODEL_47df1d13df8640bb95b2dba203aa13aa",
       "value": "<b>GitHub: </b> "
      }
     },
     "d1144940bbad4f8b806847f8024c6411": {
      "model_module": "@jupyter-widgets/base",
      "model_module_version": "1.2.0",
      "model_name": "LayoutModel",
      "state": {}
     },
     "d11fe708c3424d83970aff9a60486356": {
      "model_module": "@jupyter-widgets/controls",
      "model_module_version": "1.5.0",
      "model_name": "HTMLModel",
      "state": {
       "layout": "IPY_MODEL_80bfeb095ede48f49194134b6b1f3989",
       "style": "IPY_MODEL_9ff3f72d205d440598d17275a13e4c1b",
       "value": "This Jupyter notebook provides examples on how to access, extract and process data and metadata information for the ICOS stations using the ICOS Carbon Portal Python library. Full documentation for the library is available on the <a href='https://icos-carbon-portal.github.io/pylib/' target='_blank'>project page</a>, how to install and wheel on <a href='https://pypi.org/project/icoscp/' target='_blank'>pypi.org</a>, source available on <a href='https://github.com/ICOS-Carbon-Portal/pylib' target='_blank'>GitHub</a>"
      }
     },
     "d1279155b9274e0b8bc8ca6aa20c0f00": {
      "model_module": "@jupyter-widgets/controls",
      "model_module_version": "1.5.0",
      "model_name": "DescriptionStyleModel",
      "state": {
       "description_width": ""
      }
     },
     "d141fab4c7f641a091b78ff07936d432": {
      "model_module": "@jupyter-widgets/controls",
      "model_module_version": "1.5.0",
      "model_name": "DescriptionStyleModel",
      "state": {
       "description_width": ""
      }
     },
     "d1a77e55c5d94e04a17a56e5b824968d": {
      "model_module": "@jupyter-widgets/controls",
      "model_module_version": "1.5.0",
      "model_name": "GridBoxModel",
      "state": {
       "children": [
        "IPY_MODEL_63e3a25223234c20b2605ee16d77713f",
        "IPY_MODEL_e52c7eb913a04a80a6f2fa97afeaf3a0"
       ],
       "layout": "IPY_MODEL_e363828f189d4e0bbcf5d7214c043832"
      }
     },
     "d1b2b440be7440fa8bd1075168c5495e": {
      "model_module": "@jupyter-widgets/controls",
      "model_module_version": "1.5.0",
      "model_name": "DescriptionStyleModel",
      "state": {
       "description_width": ""
      }
     },
     "d1eada6220f04af39222495b55229009": {
      "model_module": "@jupyter-widgets/controls",
      "model_module_version": "1.5.0",
      "model_name": "HTMLModel",
      "state": {
       "layout": "IPY_MODEL_59858ea3ee0243c9af1007c905603db2",
       "style": "IPY_MODEL_5106556c303e4fbbbba3d1c007eb31a4",
       "value": "<b>Title: </b> "
      }
     },
     "d2244edd716649bfa60034079a950989": {
      "model_module": "@jupyter-widgets/controls",
      "model_module_version": "1.5.0",
      "model_name": "DescriptionStyleModel",
      "state": {
       "description_width": ""
      }
     },
     "d22a16cd73874bd7a701f82feae5004e": {
      "model_module": "@jupyter-widgets/base",
      "model_module_version": "1.2.0",
      "model_name": "LayoutModel",
      "state": {}
     },
     "d22f57162fbc493cb601fb83224b01ba": {
      "model_module": "@jupyter-widgets/controls",
      "model_module_version": "1.5.0",
      "model_name": "HTMLModel",
      "state": {
       "layout": "IPY_MODEL_f6254225094244908738ffbe6d079f69",
       "style": "IPY_MODEL_9c87dc5e65dc4bf6a9589e166f6cea03",
       "value": "<b>Contact: </b> "
      }
     },
     "d22fa223803e44a69be9362e15a46c16": {
      "model_module": "@jupyter-widgets/base",
      "model_module_version": "1.2.0",
      "model_name": "LayoutModel",
      "state": {}
     },
     "d247a675b380496da533c7db2d8b0fa8": {
      "model_module": "@jupyter-widgets/controls",
      "model_module_version": "1.5.0",
      "model_name": "HTMLModel",
      "state": {
       "layout": "IPY_MODEL_27ae3ecbbf7b4cf3befc700b4f4650c0",
       "style": "IPY_MODEL_9179fee955184be5a563d541d6bbd124",
       "value": "<b>Thumbnail: </b> "
      }
     },
     "d24f3c4bf7394079ae6cec5572005b10": {
      "model_module": "@jupyter-widgets/controls",
      "model_module_version": "1.5.0",
      "model_name": "HTMLModel",
      "state": {
       "layout": "IPY_MODEL_bb3a36f5bfc44bb7bdae6d2643eb9926",
       "style": "IPY_MODEL_bf1b7262d608442db1c84b09a8c408fb",
       "value": "<a href=./education/MSc_BSc/drought_2018/htm_icos_eco_data_drought_2018_anonymous_v2_all_code_visible.ipynb target='_blank'>Drought 2018 - ICOS ecosystem data from Hyltemossa (all code visible)</a>"
      }
     },
     "d254c023049d46d9879840e260429b9c": {
      "model_module": "@jupyter-widgets/controls",
      "model_module_version": "1.5.0",
      "model_name": "DescriptionStyleModel",
      "state": {
       "description_width": ""
      }
     },
     "d27988a75b024feca912130e37159d38": {
      "model_module": "@jupyter-widgets/controls",
      "model_module_version": "1.5.0",
      "model_name": "DescriptionStyleModel",
      "state": {
       "description_width": ""
      }
     },
     "d27cdf87d4284821949aab02d4bb4029": {
      "model_module": "@jupyter-widgets/controls",
      "model_module_version": "1.5.0",
      "model_name": "HTMLModel",
      "state": {
       "layout": "IPY_MODEL_0b6ccedbd88b4e80a6fe2b3e8b250483",
       "style": "IPY_MODEL_8f868b5ecb844851965356a141fb9049",
       "value": "<img src=\"./icos_jupyter_notebooks/ind_tools/img/03_icos_JNBs/ccgcrv/curve_fitting_method.PNG\">"
      }
     },
     "d294dc8de7034ceebd86bf5e29169fb1": {
      "model_module": "@jupyter-widgets/controls",
      "model_module_version": "1.5.0",
      "model_name": "DescriptionStyleModel",
      "state": {
       "description_width": ""
      }
     },
     "d29878ac89504f848f729d895df1d31f": {
      "model_module": "@jupyter-widgets/controls",
      "model_module_version": "1.5.0",
      "model_name": "HTMLModel",
      "state": {
       "layout": "IPY_MODEL_6d267dffde4f4bfab6839d86d664dbad",
       "style": "IPY_MODEL_bdfb6f858c664fe5a72bda407d0e0727",
       "value": "<a href=./pylib_examples/ex5_sparql.ipynb target='_blank'>ICOS Carbon Portal Python Library - Load data based on a sparql query</a>"
      }
     },
     "d29f3d2b83364cef97d4b274118c1b8d": {
      "model_module": "@jupyter-widgets/controls",
      "model_module_version": "1.5.0",
      "model_name": "DescriptionStyleModel",
      "state": {
       "description_width": ""
      }
     },
     "d2a328a65e3d4a5a83e3d8fc64653824": {
      "model_module": "@jupyter-widgets/controls",
      "model_module_version": "1.5.0",
      "model_name": "HTMLModel",
      "state": {
       "layout": "IPY_MODEL_c2fdee9db2bc4287a0cdc78faace815c",
       "style": "IPY_MODEL_2682778a28e74537a4a41ef3e827505d",
       "value": "<b>Description: </b> "
      }
     },
     "d2ae4d5ea5694543a5a428cdb3f675d9": {
      "model_module": "@jupyter-widgets/controls",
      "model_module_version": "1.5.0",
      "model_name": "DescriptionStyleModel",
      "state": {
       "description_width": ""
      }
     },
     "d2c47321853949179a42dd6b298b75d5": {
      "model_module": "@jupyter-widgets/base",
      "model_module_version": "1.2.0",
      "model_name": "LayoutModel",
      "state": {}
     },
     "d2db6604e38944f9a0c23a716d923821": {
      "model_module": "@jupyter-widgets/base",
      "model_module_version": "1.2.0",
      "model_name": "LayoutModel",
      "state": {}
     },
     "d2e7d96b5d9849ec812a8de5b8639321": {
      "model_module": "@jupyter-widgets/controls",
      "model_module_version": "1.5.0",
      "model_name": "HTMLModel",
      "state": {
       "layout": "IPY_MODEL_98d63a9ca0714b64912b5d97f4aac35d",
       "style": "IPY_MODEL_4f5034b0d61c474bb88b2f273d167fe9",
       "value": "<b>Thumbnail: </b> "
      }
     },
     "d3053539626d44ef83cb3cebf333f8b7": {
      "model_module": "@jupyter-widgets/controls",
      "model_module_version": "1.5.0",
      "model_name": "DescriptionStyleModel",
      "state": {
       "description_width": ""
      }
     },
     "d3166ba7675d4e558f69e12baa219b06": {
      "model_module": "@jupyter-widgets/controls",
      "model_module_version": "1.5.0",
      "model_name": "HTMLModel",
      "state": {
       "layout": "IPY_MODEL_d4571145e38f47acbe9826c496cef4b2",
       "style": "IPY_MODEL_e29c260aca464445bfb6fff37a51c566",
       "value": "<b>Description: </b> "
      }
     },
     "d32143df597c4f39bd661f4e9167f84c": {
      "model_module": "@jupyter-widgets/controls",
      "model_module_version": "1.5.0",
      "model_name": "DescriptionStyleModel",
      "state": {
       "description_width": ""
      }
     },
     "d321d3d52f0d4b159c70c6302e4c79f3": {
      "model_module": "@jupyter-widgets/base",
      "model_module_version": "1.2.0",
      "model_name": "LayoutModel",
      "state": {}
     },
     "d32c6b7b8cef41f6aa9478d4d3f3a39d": {
      "model_module": "@jupyter-widgets/controls",
      "model_module_version": "1.5.0",
      "model_name": "HTMLModel",
      "state": {
       "layout": "IPY_MODEL_42c78fcebea24b1da62b1bd04d38af7a",
       "style": "IPY_MODEL_59b727a4e11f452fb40a499886fa6bcf",
       "value": "This exercise package is focusing on how to use remote sensing (RS) observations from satellite for upscaling eddy covariance measurements, based on the light use efficiency (LUE) model GPP = PAR * fAPAR * LUE. PAR is the photosynthetically active radiation, fAPAR is the fractional absorbed PAR by vegetation, LUE is the efficiency of vegetation to convert the light energy into biomaterials. The aim of the exercise is to provide an insight into how remote sensing can be used to upscale GPP and to stimulate a discussion on strengths and weaknesses of this approach."
      }
     },
     "d359941dfe6c4fc2b0ac50e3c8247119": {
      "model_module": "@jupyter-widgets/controls",
      "model_module_version": "1.5.0",
      "model_name": "DescriptionStyleModel",
      "state": {
       "description_width": ""
      }
     },
     "d3671c35c59842789b3625f1e5bd127e": {
      "model_module": "@jupyter-widgets/base",
      "model_module_version": "1.2.0",
      "model_name": "LayoutModel",
      "state": {}
     },
     "d3908c48b879435589f60774e3735c06": {
      "model_module": "@jupyter-widgets/controls",
      "model_module_version": "1.5.0",
      "model_name": "HTMLModel",
      "state": {
       "layout": "IPY_MODEL_59be3bb9565e40198eba92e41a975d2f",
       "style": "IPY_MODEL_f847388f06d54726b3c36d7bbc29209f",
       "value": "<b>Title: </b> "
      }
     },
     "d3921eb8d3dc4df68d7c387d7f659e65": {
      "model_module": "@jupyter-widgets/controls",
      "model_module_version": "1.5.0",
      "model_name": "HTMLModel",
      "state": {
       "layout": "IPY_MODEL_a49835af0f3142ed956210a27d7c5d54",
       "style": "IPY_MODEL_83e7c3a7429f489ea3f573ed868e606c",
       "value": "<a href=./icos_jupyter_notebooks/station_characterization.ipynb target='_blank'>Characterization of atmospheric measurement stations</a>"
      }
     },
     "d3bf71e7f85742dcaf722443f162a1b0": {
      "model_module": "@jupyter-widgets/controls",
      "model_module_version": "1.5.0",
      "model_name": "HTMLModel",
      "state": {
       "layout": "IPY_MODEL_425c88c811a64383be5110b8587e01a2",
       "style": "IPY_MODEL_2b995ab6542d4ee9bd894c94ed855e11",
       "value": "<b>GitHub: </b> "
      }
     },
     "d3d8915ecd6042bf8ac8f6ea245ad75b": {
      "model_module": "@jupyter-widgets/controls",
      "model_module_version": "1.5.0",
      "model_name": "HTMLModel",
      "state": {
       "layout": "IPY_MODEL_4c442741292f471ea0f1b238db970639",
       "style": "IPY_MODEL_ca61a1ad086a4b8d9641aece0a3d9029",
       "value": "<a href='https://github.com/ICOS-Carbon-Portal/jupyter/issues' target='_blank'>Click here to report an issue</a>"
      }
     },
     "d3dba58d907944deb72d935ab789c50d": {
      "model_module": "@jupyter-widgets/base",
      "model_module_version": "1.2.0",
      "model_name": "LayoutModel",
      "state": {}
     },
     "d3e949ef275b4946a63c550b35484f25": {
      "model_module": "@jupyter-widgets/base",
      "model_module_version": "1.2.0",
      "model_name": "LayoutModel",
      "state": {}
     },
     "d3f8f38ce423446ba5667e46f979fa64": {
      "model_module": "@jupyter-widgets/base",
      "model_module_version": "1.2.0",
      "model_name": "LayoutModel",
      "state": {}
     },
     "d4148c1102254396bd75cfc21bde6ee6": {
      "model_module": "@jupyter-widgets/controls",
      "model_module_version": "1.5.0",
      "model_name": "DescriptionStyleModel",
      "state": {
       "description_width": ""
      }
     },
     "d446093cb3ce4f6ba39b8477d5695d46": {
      "model_module": "@jupyter-widgets/controls",
      "model_module_version": "1.5.0",
      "model_name": "HTMLModel",
      "state": {
       "layout": "IPY_MODEL_a279cdaa6e754a31ad7e20533c4595f9",
       "style": "IPY_MODEL_751b0e40732e4bd89813c64cd9afe807",
       "value": "<a href='https://github.com/ICOS-Carbon-Portal/jupyter/issues' target='_blank'>Click here to report an issue</a>"
      }
     },
     "d44dfb3d88c14607a5949ed67f531aba": {
      "model_module": "@jupyter-widgets/base",
      "model_module_version": "1.2.0",
      "model_name": "LayoutModel",
      "state": {}
     },
     "d4550e6554db453eb28193f0b0b4cd81": {
      "model_module": "@jupyter-widgets/controls",
      "model_module_version": "1.5.0",
      "model_name": "HTMLModel",
      "state": {
       "layout": "IPY_MODEL_05e9eb7064a241ac873743f9b38596bb",
       "style": "IPY_MODEL_6c07d95aa6e2478ab8b966aa538637b6",
       "value": "<a href=\"mailto: jupyter-info@icos-cp.eu\">jupyter-info@icos-cp.eu</a>, <a href=\"mailto: ida.storm@nateko.lu.se\">ida.storm@nateko.lu.se</a>"
      }
     },
     "d4571145e38f47acbe9826c496cef4b2": {
      "model_module": "@jupyter-widgets/base",
      "model_module_version": "1.2.0",
      "model_name": "LayoutModel",
      "state": {}
     },
     "d4572b9a4a074c6aa416a0f5da6bfd73": {
      "model_module": "@jupyter-widgets/controls",
      "model_module_version": "1.5.0",
      "model_name": "DescriptionStyleModel",
      "state": {
       "description_width": ""
      }
     },
     "d4637e81d1c74551abdbdbf10fed5d7b": {
      "model_module": "@jupyter-widgets/controls",
      "model_module_version": "1.5.0",
      "model_name": "DescriptionStyleModel",
      "state": {
       "description_width": ""
      }
     },
     "d467887ea1e5465bb5109adf8aed8220": {
      "model_module": "@jupyter-widgets/base",
      "model_module_version": "1.2.0",
      "model_name": "LayoutModel",
      "state": {
       "grid_gap": "5px 10px",
       "grid_template_columns": "auto",
       "grid_template_rows": "auto",
       "padding": "5px 0px 5px 0px",
       "width": "100%"
      }
     },
     "d468bfb9ee0342cbbbf9a8ae87ad50be": {
      "model_module": "@jupyter-widgets/base",
      "model_module_version": "1.2.0",
      "model_name": "LayoutModel",
      "state": {}
     },
     "d4742fab74144852b1f91eb047a12056": {
      "model_module": "@jupyter-widgets/controls",
      "model_module_version": "1.5.0",
      "model_name": "DescriptionStyleModel",
      "state": {
       "description_width": ""
      }
     },
     "d474a3cf04ae408c9c52cc9a5cccd500": {
      "model_module": "@jupyter-widgets/controls",
      "model_module_version": "1.5.0",
      "model_name": "DescriptionStyleModel",
      "state": {
       "description_width": ""
      }
     },
     "d47ab93ae6b64dfd9886cc29d38eec3f": {
      "model_module": "@jupyter-widgets/controls",
      "model_module_version": "1.5.0",
      "model_name": "HTMLModel",
      "state": {
       "layout": "IPY_MODEL_2fc5289b57a244a784c12e9cd87822a1",
       "style": "IPY_MODEL_2bf0e4a863ea4adcb8c4b624b0f673fc",
       "value": "<b>Thumbnail: </b> "
      }
     },
     "d49c4e212fe042bd8c26361bf22e664d": {
      "model_module": "@jupyter-widgets/controls",
      "model_module_version": "1.5.0",
      "model_name": "DescriptionStyleModel",
      "state": {
       "description_width": ""
      }
     },
     "d4a1a7fef84b4ea6b3ce50381ef1ff32": {
      "model_module": "@jupyter-widgets/base",
      "model_module_version": "1.2.0",
      "model_name": "LayoutModel",
      "state": {}
     },
     "d4c9ea9644c14f679ce7e56150f4776a": {
      "model_module": "@jupyter-widgets/controls",
      "model_module_version": "1.5.0",
      "model_name": "DescriptionStyleModel",
      "state": {
       "description_width": ""
      }
     },
     "d4ce322aa2914fe2ad7bcf350f114429": {
      "model_module": "@jupyter-widgets/base",
      "model_module_version": "1.2.0",
      "model_name": "LayoutModel",
      "state": {}
     },
     "d4ed2740a9d64fc794193c47558f0845": {
      "model_module": "@jupyter-widgets/controls",
      "model_module_version": "1.5.0",
      "model_name": "HTMLModel",
      "state": {
       "layout": "IPY_MODEL_4b6b391ef9314038b457d940aa4a7b68",
       "style": "IPY_MODEL_dec0b936bb6d48eeacce0fca0e5e92dc",
       "value": "<b>Contact: </b> "
      }
     },
     "d51000756ce54e048b9bab7e9a49082d": {
      "model_module": "@jupyter-widgets/controls",
      "model_module_version": "1.5.0",
      "model_name": "HTMLModel",
      "state": {
       "layout": "IPY_MODEL_33eef6755c7643d2b297c0e2762fe9e4",
       "style": "IPY_MODEL_f34199231c9447d3a6909c4ce109b83e",
       "value": "<a href='https://github.com/ICOS-Carbon-Portal/jupyter/issues' target='_blank'>Click here to report an issue</a>"
      }
     },
     "d51aaaf0d389478a9f2169d07849c1e8": {
      "model_module": "@jupyter-widgets/controls",
      "model_module_version": "1.5.0",
      "model_name": "HTMLModel",
      "state": {
       "layout": "IPY_MODEL_0a3b2c82b90f4403a5e59ae8d61d2c28",
       "style": "IPY_MODEL_21494614c1f84552b122eef5f7d00b2c",
       "value": "<a href=./icos_jupyter_notebooks/icos_atmObs_statistics.ipynb target='_blank'>ICOS atmospheric observation statistics</a>"
      }
     },
     "d525734b4f764dc394a910dec65890cc": {
      "model_module": "@jupyter-widgets/base",
      "model_module_version": "1.2.0",
      "model_name": "LayoutModel",
      "state": {}
     },
     "d53c7ae3adfa4d0789cf8f5258d086a7": {
      "model_module": "@jupyter-widgets/controls",
      "model_module_version": "1.5.0",
      "model_name": "HTMLModel",
      "state": {
       "layout": "IPY_MODEL_0d0c9843ddd443d994ef2498634245ac",
       "style": "IPY_MODEL_f68f596b0ef54db3b07e312bc578b72f",
       "value": "<img src=\"./icos_jupyter_notebooks/ind_tools/img/05_education/phd/ucf/inspect_lpjguess/plot.PNG\">"
      }
     },
     "d54edf5b641844d6be3420392b9f8558": {
      "model_module": "@jupyter-widgets/controls",
      "model_module_version": "1.5.0",
      "model_name": "DescriptionStyleModel",
      "state": {
       "description_width": ""
      }
     },
     "d5872ecf76d54ae680b4ef62496f5474": {
      "model_module": "@jupyter-widgets/controls",
      "model_module_version": "1.5.0",
      "model_name": "GridBoxModel",
      "state": {
       "children": [
        "IPY_MODEL_f1212958f74541a6ac3adbe3ab143960",
        "IPY_MODEL_e36d0afb0f69472f8c48e9c052baf7b9",
        "IPY_MODEL_15a64e10b4134668b91bbbf5e992945a",
        "IPY_MODEL_46140a028e8a442391def25bca105a97",
        "IPY_MODEL_1fae9d82cab64e02b1c236341cb23828",
        "IPY_MODEL_830d8244f5b64c61a115b166cfa9ad04",
        "IPY_MODEL_3bad89617b2547e3ab0c5b91ec4334d3",
        "IPY_MODEL_7af70d560dfd4212be991cefe93adff3",
        "IPY_MODEL_d00ab6b253c440ee9a3bff1650ae17bc",
        "IPY_MODEL_6a7d26e4fb234e3d9246035c8aa2e7b5"
       ],
       "layout": "IPY_MODEL_b79a649317de4b3abd27f749bd8f6fb1"
      }
     },
     "d58f73ac87534b66b0ae165ed29a5fb2": {
      "model_module": "@jupyter-widgets/controls",
      "model_module_version": "1.5.0",
      "model_name": "HTMLModel",
      "state": {
       "layout": "IPY_MODEL_f3b098c4859443a4a1dd052df67ce964",
       "style": "IPY_MODEL_7ecaac71f7ab43c5b74ca8c7ea373a03",
       "value": "<a href=\"mailto: jupyter-info@icos-cp.eu\">jupyter-info@icos-cp.eu</a>"
      }
     },
     "d5a583489a45482b964522afa06b8a96": {
      "model_module": "@jupyter-widgets/base",
      "model_module_version": "1.2.0",
      "model_name": "LayoutModel",
      "state": {}
     },
     "d5b0dbef2610469b88716ce804f0af00": {
      "model_module": "@jupyter-widgets/controls",
      "model_module_version": "1.5.0",
      "model_name": "HTMLModel",
      "state": {
       "layout": "IPY_MODEL_8de8c55369114387bb4cdea0d4c947f4",
       "style": "IPY_MODEL_cb54b9f7aa3b4c999436dcef6ea574c6",
       "value": "<img src=\"./icos_jupyter_notebooks/ind_tools/img/03_icos_JNBs/radiocarbon/example_bokeh.PNG\">"
      }
     },
     "d5d1ab671e6245d693ab5d221edfa709": {
      "model_module": "@jupyter-widgets/controls",
      "model_module_version": "1.5.0",
      "model_name": "DescriptionStyleModel",
      "state": {
       "description_width": ""
      }
     },
     "d5e400a853f74cca9f8801810ea7f774": {
      "model_module": "@jupyter-widgets/base",
      "model_module_version": "1.2.0",
      "model_name": "LayoutModel",
      "state": {}
     },
     "d6199127611d4b38a96e9c46761f6ab2": {
      "model_module": "@jupyter-widgets/controls",
      "model_module_version": "1.5.0",
      "model_name": "HTMLModel",
      "state": {
       "layout": "IPY_MODEL_98ba8007adeb4b81aa72256ada8e3e53",
       "style": "IPY_MODEL_ec72471ff3ad4344b51df8c405c06426",
       "value": "<a href='https://github.com/ICOS-Carbon-Portal/jupyter/issues' target='_blank'>Click here to report an issue</a>"
      }
     },
     "d635d1dae3d04fccad88eab5df3b9df7": {
      "model_module": "@jupyter-widgets/base",
      "model_module_version": "1.2.0",
      "model_name": "LayoutModel",
      "state": {}
     },
     "d653d41236f846d1acb861b40dbf2643": {
      "model_module": "@jupyter-widgets/controls",
      "model_module_version": "1.5.0",
      "model_name": "HTMLModel",
      "state": {
       "layout": "IPY_MODEL_94ff97c2335b46619bc3c9c7e0b090af",
       "style": "IPY_MODEL_64fe597a1a1d48c3be36d299ebc9f3b6",
       "value": "<b>Title: </b> "
      }
     },
     "d65867a6180847d1bb3aa23a80a346ba": {
      "model_module": "@jupyter-widgets/base",
      "model_module_version": "1.2.0",
      "model_name": "LayoutModel",
      "state": {}
     },
     "d6a018dc04214cd58e02aaf0e74a462d": {
      "model_module": "@jupyter-widgets/base",
      "model_module_version": "1.2.0",
      "model_name": "LayoutModel",
      "state": {}
     },
     "d6b25235f045437d812b23ca9f6c76c0": {
      "model_module": "@jupyter-widgets/controls",
      "model_module_version": "1.5.0",
      "model_name": "HTMLModel",
      "state": {
       "layout": "IPY_MODEL_0e9e1a99dc5147d8b9cf0bbb5042d1db",
       "style": "IPY_MODEL_c99cde5a650b460687b372e25077fc06",
       "value": "<b>Description: </b> "
      }
     },
     "d6c3321b9c874c1db36d5f91143e7940": {
      "model_module": "@jupyter-widgets/base",
      "model_module_version": "1.2.0",
      "model_name": "LayoutModel",
      "state": {}
     },
     "d6c343477ff94d31babaf7e2be6f1e75": {
      "model_module": "@jupyter-widgets/base",
      "model_module_version": "1.2.0",
      "model_name": "LayoutModel",
      "state": {}
     },
     "d6e144d09c214f9bac95387c21873ebd": {
      "model_module": "@jupyter-widgets/controls",
      "model_module_version": "1.5.0",
      "model_name": "DescriptionStyleModel",
      "state": {
       "description_width": ""
      }
     },
     "d72e7a5d188f4d43a640328be893f46d": {
      "model_module": "@jupyter-widgets/controls",
      "model_module_version": "1.5.0",
      "model_name": "DescriptionStyleModel",
      "state": {
       "description_width": ""
      }
     },
     "d73519ab51e74f29a7afae79330837bb": {
      "model_module": "@jupyter-widgets/base",
      "model_module_version": "1.2.0",
      "model_name": "LayoutModel",
      "state": {
       "grid_gap": "5px 10px",
       "grid_template_columns": "100px auto",
       "grid_template_rows": "auto auto auto auto auto",
       "padding": "50px 0px 70px 0px",
       "width": "100%"
      }
     },
     "d7424bfb5e834e7b8972e915fd4f24a5": {
      "model_module": "@jupyter-widgets/base",
      "model_module_version": "1.2.0",
      "model_name": "LayoutModel",
      "state": {
       "grid_gap": "5px 10px",
       "grid_template_columns": "100px auto",
       "grid_template_rows": "auto auto auto auto auto",
       "padding": "50px 0px 70px 0px",
       "width": "100%"
      }
     },
     "d7727d54ba7c4c66a6aee9ad59cd53a1": {
      "model_module": "@jupyter-widgets/controls",
      "model_module_version": "1.5.0",
      "model_name": "GridBoxModel",
      "state": {
       "children": [
        "IPY_MODEL_113f6f3fc374438dac23a9001765a241",
        "IPY_MODEL_eb67048050de40a5a1f02c2862dc2bb4",
        "IPY_MODEL_690b8d305980406d8f650089b714b99f",
        "IPY_MODEL_46b0086f4b3a428f878f56a378e578ea",
        "IPY_MODEL_758dd22acd7441ad9ff65d4afc60231f",
        "IPY_MODEL_9165aed429ef4045b28ecde6af3ed915",
        "IPY_MODEL_33f38f6b95df4a47b12f8ca7a3f9885f",
        "IPY_MODEL_9757017402354415b32ce3071bc05ce0",
        "IPY_MODEL_ef17fed4d4b0425f9b22d02b6a4b66fa",
        "IPY_MODEL_4c48ec570de84351983e11ff42099c73"
       ],
       "layout": "IPY_MODEL_3d5d792dd619486d908d2ba74587f31d"
      }
     },
     "d787fe6757be49caab819fbbad836c09": {
      "model_module": "@jupyter-widgets/controls",
      "model_module_version": "1.5.0",
      "model_name": "GridBoxModel",
      "state": {
       "children": [
        "IPY_MODEL_cfa6325a3c974f8295957badc39a5077",
        "IPY_MODEL_e7f92b6ac38542798d8f8697519de568",
        "IPY_MODEL_c984bdde42e8455388319343e27f4d04",
        "IPY_MODEL_10ae277d06884c24bff120808c86d689",
        "IPY_MODEL_ebd55529ab634d42807ea8c6c51622bc",
        "IPY_MODEL_929e28877a8d4f28aabe767282161750",
        "IPY_MODEL_70dbb82486e4443098e11d997a55a2f5",
        "IPY_MODEL_081417eabef74809badea1e06d753141",
        "IPY_MODEL_6582a93231f5419c94da69b84bc702d5",
        "IPY_MODEL_fbaff81937164af69bc5634e83f1c8e0"
       ],
       "layout": "IPY_MODEL_b2b3acf543d044e3b520594c2771e380"
      }
     },
     "d78b9c0c798b41b8b2da59f4afa257b1": {
      "model_module": "@jupyter-widgets/controls",
      "model_module_version": "1.5.0",
      "model_name": "DescriptionStyleModel",
      "state": {
       "description_width": ""
      }
     },
     "d792a0edcf1148e6a0b5a6c4cad9d23f": {
      "model_module": "@jupyter-widgets/base",
      "model_module_version": "1.2.0",
      "model_name": "LayoutModel",
      "state": {}
     },
     "d7aaacc4433a409e8733716847e27d14": {
      "model_module": "@jupyter-widgets/controls",
      "model_module_version": "1.5.0",
      "model_name": "HTMLModel",
      "state": {
       "layout": "IPY_MODEL_a388c2cff7114e25b7175e60f1400776",
       "style": "IPY_MODEL_9cfbae4298574832aefc94a31e5b9b70",
       "value": "<b>Contact: </b> "
      }
     },
     "d7beffc7e3c347a4bc639de5bc3c6785": {
      "model_module": "@jupyter-widgets/base",
      "model_module_version": "1.2.0",
      "model_name": "LayoutModel",
      "state": {
       "grid_gap": "5px 10px",
       "grid_template_columns": "100px auto",
       "grid_template_rows": "auto auto auto auto auto",
       "padding": "50px 0px 70px 0px",
       "width": "100%"
      }
     },
     "d7c8348e930f4c46a14a8543e748311c": {
      "model_module": "@jupyter-widgets/controls",
      "model_module_version": "1.5.0",
      "model_name": "HTMLModel",
      "state": {
       "layout": "IPY_MODEL_db2cfe6891d64e2cbbaac7313d2b0a8f",
       "style": "IPY_MODEL_b6b9285e9aa94580b64ec9fbbb1da685",
       "value": "<b>GitHub: </b> "
      }
     },
     "d7e18b5b53de4fd8b07a0d3b08caa850": {
      "model_module": "@jupyter-widgets/controls",
      "model_module_version": "1.5.0",
      "model_name": "HTMLModel",
      "state": {
       "layout": "IPY_MODEL_24a3e808c9864e1d926dba03807faf3b",
       "style": "IPY_MODEL_06d3c2b03794468b91262beb027281dd",
       "value": "<a href=./project_jupyter_notebooks/envrifair_winterschool/map/exercise1_map.ipynb target='_blank'>Exercise 1 - Create an interactive map</a>"
      }
     },
     "d7e7d65d4cc548cbbdbd0a1dc2be31b1": {
      "model_module": "@jupyter-widgets/controls",
      "model_module_version": "1.5.0",
      "model_name": "HTMLModel",
      "state": {
       "layout": "IPY_MODEL_f45dbd1c94cc42339cfd763256de5efb",
       "style": "IPY_MODEL_0113c7afcfae4146ba73b44796a20ef0",
       "value": "<b>Title: </b> "
      }
     },
     "d7f5df066e6945e7acde4f9eaef1519e": {
      "model_module": "@jupyter-widgets/controls",
      "model_module_version": "1.5.0",
      "model_name": "DescriptionStyleModel",
      "state": {
       "description_width": ""
      }
     },
     "d807412b190e4c0180a7b6afbabb319d": {
      "model_module": "@jupyter-widgets/controls",
      "model_module_version": "1.5.0",
      "model_name": "HTMLModel",
      "state": {
       "layout": "IPY_MODEL_f542b64f0c0f4ee0a5d261a45622b2d6",
       "style": "IPY_MODEL_ec19093a09634eecab5376a893841a26",
       "value": "This Jupyter notebook provides examples on how to access data and metadata for ICOS stations and observations with the help of <a href='https://meta.icos-cp.eu/sparqlclient/' target='_blank'>SPARQL queries</a> using ICOS Carbon Portal Python library. Full documentation for the ICOS library on the <a href='https://icos-carbon-portal.github.io/pylib/' target='_blank'>project page</a>, how to install and wheel on <a href='https://pypi.org/project/icoscp/' target='_blank'>pypi.org</a>, source available on <a href='https://github.com/ICOS-Carbon-Portal/pylib' target='_blank'>GitHub</a>."
      }
     },
     "d8222c50730d4d44acdb9438c0f2dee1": {
      "model_module": "@jupyter-widgets/base",
      "model_module_version": "1.2.0",
      "model_name": "LayoutModel",
      "state": {}
     },
     "d84b926eb66e40fb8a1ff51a6453cbf9": {
      "model_module": "@jupyter-widgets/controls",
      "model_module_version": "1.5.0",
      "model_name": "HTMLModel",
      "state": {
       "layout": "IPY_MODEL_027fa44c0b984354ac5a790bebcdfbd3",
       "style": "IPY_MODEL_8eff855f8cd640c3aa94c96f6cc618fb",
       "value": "<a href=\"mailto: jupyter-info@icos-cp.eu\">jupyter-info@icos-cp.eu</a>"
      }
     },
     "d87b9e992c9c4b07b784a7f322709e62": {
      "model_module": "@jupyter-widgets/controls",
      "model_module_version": "1.5.0",
      "model_name": "HTMLModel",
      "state": {
       "layout": "IPY_MODEL_cf998e097d1f4828b891a541494ceba8",
       "style": "IPY_MODEL_dabbadd3459f49f18c0446d4bb1dda10",
       "value": "<b>Description: </b> "
      }
     },
     "d892a447bec946ad8240afa1b641a58d": {
      "model_module": "@jupyter-widgets/controls",
      "model_module_version": "1.5.0",
      "model_name": "DescriptionStyleModel",
      "state": {
       "description_width": ""
      }
     },
     "d8cd79aca20c49e59c20869db3956a5e": {
      "model_module": "@jupyter-widgets/controls",
      "model_module_version": "1.5.0",
      "model_name": "HTMLModel",
      "state": {
       "layout": "IPY_MODEL_1a48fdde52b443d582721b691c9671a2",
       "style": "IPY_MODEL_857d9fc3e17e4b9490f0ce2fe4e4bd7e",
       "value": "<b>Contact: </b> "
      }
     },
     "d907f02c65404e9d83d349a3b2342e2e": {
      "model_module": "@jupyter-widgets/controls",
      "model_module_version": "1.5.0",
      "model_name": "HTMLModel",
      "state": {
       "layout": "IPY_MODEL_cb2d1bfacc704b2abc494f54c0860c6e",
       "style": "IPY_MODEL_d6e144d09c214f9bac95387c21873ebd",
       "value": "<img src=\"./icos_jupyter_notebooks/ind_tools/img/03_icos_JNBs/explore_icos_ao/ap_GAT.PNG\">"
      }
     },
     "d92088c1b10c45f3a9e662f1f7bc6f3e": {
      "model_module": "@jupyter-widgets/controls",
      "model_module_version": "1.5.0",
      "model_name": "HTMLModel",
      "state": {
       "layout": "IPY_MODEL_5623ebd3ed644832b623379825ef7252",
       "style": "IPY_MODEL_a1efe3cd694f471eac1409405ff3c49d",
       "value": "This Jupyter notebook provides an example on how to combine information from two independent data sets using Python libraries. One data set is loaded from the ICOS Carbon Portal, ocean domain and contains data from a boat traveling from Europe to Brazil. The second data set is accessed using the PANGAEA Python library and contains similar data, collected from another boat travelling from Europe to South America. Full documentation for the ICOS library on the <a href='https://icos-carbon-portal.github.io/pylib/' target='_blank'>project page</a>, how to install and wheel on <a href='https://pypi.org/project/icoscp/' target='_blank'>pypi.org</a>, source available on <a href='https://github.com/ICOS-Carbon-Portal/pylib' target='_blank'>GitHub</a>. The Pangaea library is available on <a href='https://pypi.org/project/pangaeapy/' target='_blank'>pypi.org</a>, source and documentation <a href='https://github.com/pangaea-data-publisher/pangaeapy' target='_blank'>GitHub</a>."
      }
     },
     "d921c8bcb6fd4eafa9b81ec90d18ca23": {
      "model_module": "@jupyter-widgets/controls",
      "model_module_version": "1.5.0",
      "model_name": "HTMLModel",
      "state": {
       "layout": "IPY_MODEL_23d905b4d80f4b809a760fac4a98f9ae",
       "style": "IPY_MODEL_5584830be4714dc2b5ed94f92751fdfc",
       "value": "<b>Contact: </b> "
      }
     },
     "d9384c7932f64ec8b51352dc9bcc6f3a": {
      "model_module": "@jupyter-widgets/controls",
      "model_module_version": "1.5.0",
      "model_name": "HTMLModel",
      "state": {
       "layout": "IPY_MODEL_4269ba661f2944d5a7029d44e1055ab0",
       "style": "IPY_MODEL_a2c5ce94d9b74960b90f5d303b704b61",
       "value": "<a href='https://github.com/ICOS-Carbon-Portal/jupyter/issues' target='_blank'>Click here to report an issue</a>"
      }
     },
     "d94065ba915d40818299d5e2d71a02c3": {
      "model_module": "@jupyter-widgets/controls",
      "model_module_version": "1.5.0",
      "model_name": "HTMLModel",
      "state": {
       "layout": "IPY_MODEL_2e6946aafcec4a84a8333f5427bec315",
       "style": "IPY_MODEL_2dbdd42660a34ff48000a15849923623",
       "value": "<a href=./project_jupyter_notebooks/envrifair_winterschool/timeseries/icos_obs_vs_stilt_timeseries.ipynb target='_blank'>ICOS observations vs STILT model output</a>"
      }
     },
     "d95e767e80364e17829fb55475d9ef9a": {
      "model_module": "@jupyter-widgets/base",
      "model_module_version": "1.2.0",
      "model_name": "LayoutModel",
      "state": {}
     },
     "d998bb0e6cf1473a9bc2d6bda39a22bb": {
      "model_module": "@jupyter-widgets/base",
      "model_module_version": "1.2.0",
      "model_name": "LayoutModel",
      "state": {
       "grid_gap": "5px 10px",
       "grid_template_columns": "100px auto",
       "grid_template_rows": "auto auto auto auto auto",
       "padding": "50px 0px 70px 0px",
       "width": "100%"
      }
     },
     "d9a3ea7fccdd4cc0b58e54c8ee4a71b2": {
      "model_module": "@jupyter-widgets/controls",
      "model_module_version": "1.5.0",
      "model_name": "DescriptionStyleModel",
      "state": {
       "description_width": ""
      }
     },
     "d9b2c4fcb46f4c0d8d8583351968c394": {
      "model_module": "@jupyter-widgets/base",
      "model_module_version": "1.2.0",
      "model_name": "LayoutModel",
      "state": {
       "grid_gap": "5px 10px",
       "grid_template_columns": "100px auto",
       "grid_template_rows": "auto auto auto auto auto",
       "padding": "50px 0px 70px 0px",
       "width": "100%"
      }
     },
     "d9f193c94d8e40dfba3bc36a61236907": {
      "model_module": "@jupyter-widgets/base",
      "model_module_version": "1.2.0",
      "model_name": "LayoutModel",
      "state": {}
     },
     "da0ae86ac0374cd0903a50703a717968": {
      "model_module": "@jupyter-widgets/controls",
      "model_module_version": "1.5.0",
      "model_name": "HTMLModel",
      "state": {
       "layout": "IPY_MODEL_b0d0a25424c24a9b8a159227090385ce",
       "style": "IPY_MODEL_757c1299432e4b578d38dc795970226c",
       "value": "This notebook contains exercises for the <b>OTC Data Reduction Workshop</b>. The first exercise in <i>pCO₂ data reduction part 1 - Gas calibration</i> was dealing with the calibration of the xCO₂-data as they were coming from the instrument. The data were produced by a <i>General Oceanics</i> instrument, but the idea would be the same for data from any instrument. In this notebook, we will use the same data set as in <i>pCO₂ data reduction part 1 - Gas calibration</i> but with all recorded variables."
      }
     },
     "da36b614bc564c7a8761bc2e8a3799ad": {
      "model_module": "@jupyter-widgets/controls",
      "model_module_version": "1.5.0",
      "model_name": "AccordionModel",
      "state": {
       "_titles": {
        "0": "ICOS observations vs STILT model output"
       },
       "children": [
        "IPY_MODEL_7f6d9a4270ee49c5ac2fc19900017493"
       ],
       "layout": "IPY_MODEL_0cfb08a5c91240cdb0133267a225a0f0",
       "selected_index": null
      }
     },
     "da37fb5d4e8844889947eec5b873847e": {
      "model_module": "@jupyter-widgets/controls",
      "model_module_version": "1.5.0",
      "model_name": "HTMLModel",
      "state": {
       "layout": "IPY_MODEL_99fa16f1aa374e178eaf440704063542",
       "style": "IPY_MODEL_22f4b278273d4d029ea4711927c088b8",
       "value": "<b>Description: </b> "
      }
     },
     "da3c0265c6de4536aa96c3130c3e23f5": {
      "model_module": "@jupyter-widgets/controls",
      "model_module_version": "1.5.0",
      "model_name": "HTMLModel",
      "state": {
       "layout": "IPY_MODEL_d8222c50730d4d44acdb9438c0f2dee1",
       "style": "IPY_MODEL_b436fdb5077d4e8bbaed16071e089b8c",
       "value": "<a href='https://github.com/ICOS-Carbon-Portal/jupyter/issues' target='_blank'>Click here to report an issue</a>"
      }
     },
     "da71379941b141e3968bbf07ff7f3e0d": {
      "model_module": "@jupyter-widgets/controls",
      "model_module_version": "1.5.0",
      "model_name": "HTMLModel",
      "state": {
       "layout": "IPY_MODEL_526be85a24d84b589bc239e4848b49a1",
       "style": "IPY_MODEL_b8f5f66f42834a38bec3d73ac8ceb6c0",
       "value": "<b>Contact: </b> "
      }
     },
     "da7d38097a6444ed850e4cbb431eb648": {
      "model_module": "@jupyter-widgets/base",
      "model_module_version": "1.2.0",
      "model_name": "LayoutModel",
      "state": {}
     },
     "da9f7fa1fbed43f0913bb63d9b911a3e": {
      "model_module": "@jupyter-widgets/controls",
      "model_module_version": "1.5.0",
      "model_name": "DescriptionStyleModel",
      "state": {
       "description_width": ""
      }
     },
     "dab8e513bec445f88251b5c900c338a0": {
      "model_module": "@jupyter-widgets/controls",
      "model_module_version": "1.5.0",
      "model_name": "HTMLModel",
      "state": {
       "layout": "IPY_MODEL_2b6d53823bf04b728b9135fcfdf92543",
       "style": "IPY_MODEL_d0be08c0a3c845b99bd6e785295cea52",
       "value": "<b>Contact: </b> "
      }
     },
     "dabbadd3459f49f18c0446d4bb1dda10": {
      "model_module": "@jupyter-widgets/controls",
      "model_module_version": "1.5.0",
      "model_name": "DescriptionStyleModel",
      "state": {
       "description_width": ""
      }
     },
     "dac592a3457941668ecd249ce540865c": {
      "model_module": "@jupyter-widgets/controls",
      "model_module_version": "1.5.0",
      "model_name": "DescriptionStyleModel",
      "state": {
       "description_width": ""
      }
     },
     "db0280b6493e468395cfb4f1e5a47cbf": {
      "model_module": "@jupyter-widgets/controls",
      "model_module_version": "1.5.0",
      "model_name": "HTMLModel",
      "state": {
       "layout": "IPY_MODEL_afa4f733ee3248bd9a3236c677639f38",
       "style": "IPY_MODEL_ee7aaa17a8ea4d9fba5a0d4fc2491095",
       "value": "<a href=./pylib_examples/ex6a_STILT_find.ipynb target='_blank'>ICOS Carbon Portal Python Library - STILT</a>"
      }
     },
     "db08d3761e6344bdbbd5953565fa2206": {
      "model_module": "@jupyter-widgets/controls",
      "model_module_version": "1.5.0",
      "model_name": "DescriptionStyleModel",
      "state": {
       "description_width": ""
      }
     },
     "db16ac4c09c349ab8f19483cca0f6c4f": {
      "model_module": "@jupyter-widgets/controls",
      "model_module_version": "1.5.0",
      "model_name": "GridBoxModel",
      "state": {
       "children": [
        "IPY_MODEL_31c82403a728497585c555401045dd01",
        "IPY_MODEL_7946cd26e4aa4673a86a1be382b628cc",
        "IPY_MODEL_aa008f3a2f574623afc29de36bc17197",
        "IPY_MODEL_de8e4d1b0b504264990f2658c9bf8187",
        "IPY_MODEL_bb832cb4fc3c4beea831e619043dff0c",
        "IPY_MODEL_80ef8d22bcbd4c3184b8d185a7d3e739",
        "IPY_MODEL_584423452a054e4abe4fff05fdc65f2d",
        "IPY_MODEL_edab23f2db4747c497b07b4938a1a5d7",
        "IPY_MODEL_c9ce70ffad8d48af98c0809e36873d37",
        "IPY_MODEL_7a2f68c039204cbda8ed3f0ec556c604"
       ],
       "layout": "IPY_MODEL_3d90493c0b1d4bb8a0a85aa4e7565538"
      }
     },
     "db1e91d43df44f2297c3d4ba9eff5e7f": {
      "model_module": "@jupyter-widgets/controls",
      "model_module_version": "1.5.0",
      "model_name": "HTMLModel",
      "state": {
       "layout": "IPY_MODEL_8903d72490d54011af16cc9ba77e643e",
       "style": "IPY_MODEL_9da2f668ad464a4c82a8731fec6d129d",
       "value": "<b>Description: </b> "
      }
     },
     "db206398893e48d2954f28d9c0d8839b": {
      "model_module": "@jupyter-widgets/controls",
      "model_module_version": "1.5.0",
      "model_name": "DescriptionStyleModel",
      "state": {
       "description_width": ""
      }
     },
     "db2cfe6891d64e2cbbaac7313d2b0a8f": {
      "model_module": "@jupyter-widgets/base",
      "model_module_version": "1.2.0",
      "model_name": "LayoutModel",
      "state": {}
     },
     "db4f013f1c734c72989ba4a6a83373ac": {
      "model_module": "@jupyter-widgets/controls",
      "model_module_version": "1.5.0",
      "model_name": "DescriptionStyleModel",
      "state": {
       "description_width": ""
      }
     },
     "db54f7d2a5404895a7e5d89b59dd085f": {
      "model_module": "@jupyter-widgets/base",
      "model_module_version": "1.2.0",
      "model_name": "LayoutModel",
      "state": {
       "grid_gap": "5px 10px",
       "grid_template_columns": "100px auto",
       "grid_template_rows": "auto auto auto auto auto",
       "padding": "50px 0px 70px 0px",
       "width": "100%"
      }
     },
     "db5779c242ad48bc8e0485bc0e128f7f": {
      "model_module": "@jupyter-widgets/base",
      "model_module_version": "1.2.0",
      "model_name": "LayoutModel",
      "state": {
       "grid_gap": "5px 10px",
       "grid_template_columns": "100px auto",
       "grid_template_rows": "auto auto auto auto auto",
       "padding": "50px 0px 70px 0px",
       "width": "100%"
      }
     },
     "db68fd8a69954eeb8cf9a2dd795b5943": {
      "model_module": "@jupyter-widgets/controls",
      "model_module_version": "1.5.0",
      "model_name": "DescriptionStyleModel",
      "state": {
       "description_width": ""
      }
     },
     "db9b6e117d4f4b3aa3269e670a8521ff": {
      "model_module": "@jupyter-widgets/controls",
      "model_module_version": "1.5.0",
      "model_name": "DescriptionStyleModel",
      "state": {
       "description_width": ""
      }
     },
     "dbc9aed83a2d409bb2d14ac8bc637468": {
      "model_module": "@jupyter-widgets/controls",
      "model_module_version": "1.5.0",
      "model_name": "HTMLModel",
      "state": {
       "layout": "IPY_MODEL_ad904f70c6e345ebb16b9e32dc14be74",
       "style": "IPY_MODEL_914b13d9105e4848beb465bdc84b0f41",
       "value": "<b>Contact: </b> "
      }
     },
     "dbd36ce6aae24c4183bcce733d2eadd9": {
      "model_module": "@jupyter-widgets/controls",
      "model_module_version": "1.5.0",
      "model_name": "DescriptionStyleModel",
      "state": {
       "description_width": ""
      }
     },
     "dbd37ae5bfaf4f179b9132574521c04c": {
      "model_module": "@jupyter-widgets/controls",
      "model_module_version": "1.5.0",
      "model_name": "DescriptionStyleModel",
      "state": {
       "description_width": ""
      }
     },
     "dbe57d7963914d5b8c61f2235f631a56": {
      "model_module": "@jupyter-widgets/controls",
      "model_module_version": "1.5.0",
      "model_name": "DescriptionStyleModel",
      "state": {
       "description_width": ""
      }
     },
     "dbf62cd44d4f43deb80966f7c2fdbedf": {
      "model_module": "@jupyter-widgets/controls",
      "model_module_version": "1.5.0",
      "model_name": "DescriptionStyleModel",
      "state": {
       "description_width": ""
      }
     },
     "dc2a1e08ad13497ca4658fa1e456a51e": {
      "model_module": "@jupyter-widgets/controls",
      "model_module_version": "1.5.0",
      "model_name": "HTMLModel",
      "state": {
       "layout": "IPY_MODEL_3d02c82aed944aacbe75480c2dcd511c",
       "style": "IPY_MODEL_4e2fbf5ca55c4bd28cd8b24807e14530",
       "value": "In this Jupyter notebook, we will plot all ICOS Research Stations on an interactive map."
      }
     },
     "dc3c8dc044e34f5788287c2597fceaf7": {
      "model_module": "@jupyter-widgets/controls",
      "model_module_version": "1.5.0",
      "model_name": "DescriptionStyleModel",
      "state": {
       "description_width": ""
      }
     },
     "dc4c5ce426684748bce2b0db1380d68b": {
      "model_module": "@jupyter-widgets/controls",
      "model_module_version": "1.5.0",
      "model_name": "HTMLModel",
      "state": {
       "layout": "IPY_MODEL_73285fbb2027498d8a2da51a6c49cb8f",
       "style": "IPY_MODEL_547a1c166b604e8183a1cc1cb0c894cb",
       "value": "<a href=./icos_jupyter_notebooks/icos_atmObs_STILT.ipynb target='_blank'>ICOS atmospheric observations vs STILT modelled values</a>"
      }
     },
     "dc5feab66a454fc9888782834fbb3270": {
      "model_module": "@jupyter-widgets/controls",
      "model_module_version": "1.5.0",
      "model_name": "DescriptionStyleModel",
      "state": {
       "description_width": ""
      }
     },
     "dc636c5e1d56417c855e627c35d9d4ab": {
      "model_module": "@jupyter-widgets/base",
      "model_module_version": "1.2.0",
      "model_name": "LayoutModel",
      "state": {}
     },
     "dc80b9b2d11d4a209ba2aa636c7967a5": {
      "model_module": "@jupyter-widgets/base",
      "model_module_version": "1.2.0",
      "model_name": "LayoutModel",
      "state": {}
     },
     "dc840b57f0404c02977bc782d1793558": {
      "model_module": "@jupyter-widgets/controls",
      "model_module_version": "1.5.0",
      "model_name": "HTMLModel",
      "state": {
       "layout": "IPY_MODEL_f3e0aa13aacd48bf9cb84adfc7a00c35",
       "style": "IPY_MODEL_593d2b8371a34396bca64a3c19a548d3",
       "value": "<b>Description: </b> "
      }
     },
     "dc8e6e9b38434508979d093e8fb65ba4": {
      "model_module": "@jupyter-widgets/controls",
      "model_module_version": "1.5.0",
      "model_name": "DescriptionStyleModel",
      "state": {
       "description_width": ""
      }
     },
     "dc97fd4bdbb445e480670ef903e6a5a3": {
      "model_module": "@jupyter-widgets/controls",
      "model_module_version": "1.5.0",
      "model_name": "HTMLModel",
      "state": {
       "layout": "IPY_MODEL_5841c15130bb4bcd91054f4b069fe19b",
       "style": "IPY_MODEL_62757c98324e452bb3571bc10e2ba601",
       "value": "<a href=./pylib_examples/ex2_station.ipynb target='_blank'>ICOS Carbon Portal Python Library - Explore ICOS stations</a>"
      }
     },
     "dca1b9db91074e64a6ad2dae4455bee9": {
      "model_module": "@jupyter-widgets/controls",
      "model_module_version": "1.5.0",
      "model_name": "HTMLModel",
      "state": {
       "layout": "IPY_MODEL_7518c97c721e4119a246664680eafa24",
       "style": "IPY_MODEL_db08d3761e6344bdbbd5953565fa2206",
       "value": "<a href=\"mailto: jupyter-info@icos-cp.eu\">jupyter-info@icos-cp.eu</a>, <a href=\"mailto: claudio.donofrio@nateko.lu.se\">claudio.donofrio@nateko.lu.se</a>"
      }
     },
     "dcafb39913e3435d9130457600e24f78": {
      "model_module": "@jupyter-widgets/base",
      "model_module_version": "1.2.0",
      "model_name": "LayoutModel",
      "state": {}
     },
     "dcc137d0d96543329b3c869d802da078": {
      "model_module": "@jupyter-widgets/base",
      "model_module_version": "1.2.0",
      "model_name": "LayoutModel",
      "state": {}
     },
     "dcd7982cacc14195bd39e605465a5326": {
      "model_module": "@jupyter-widgets/controls",
      "model_module_version": "1.5.0",
      "model_name": "DescriptionStyleModel",
      "state": {
       "description_width": ""
      }
     },
     "dcd9a2f804e14ec7b0ef96ba82bb5c65": {
      "model_module": "@jupyter-widgets/base",
      "model_module_version": "1.2.0",
      "model_name": "LayoutModel",
      "state": {}
     },
     "dcdc65ff6b4644d5b171b389a6b0c1a5": {
      "model_module": "@jupyter-widgets/controls",
      "model_module_version": "1.5.0",
      "model_name": "DescriptionStyleModel",
      "state": {
       "description_width": ""
      }
     },
     "dcf4aef56fd645e4be1997271351d258": {
      "model_module": "@jupyter-widgets/controls",
      "model_module_version": "1.5.0",
      "model_name": "DescriptionStyleModel",
      "state": {
       "description_width": ""
      }
     },
     "dcfa669f0e894fa29ca4720df7b50e74": {
      "model_module": "@jupyter-widgets/controls",
      "model_module_version": "1.5.0",
      "model_name": "HTMLModel",
      "state": {
       "layout": "IPY_MODEL_313ea5abe6d447a199c7e1b30c3b40d0",
       "style": "IPY_MODEL_c90b60bf72bf4eafbd61628951abe832",
       "value": "<b>Description: </b> "
      }
     },
     "dd171f37d8244b3489f2ea2ccc9a5f80": {
      "model_module": "@jupyter-widgets/controls",
      "model_module_version": "1.5.0",
      "model_name": "DescriptionStyleModel",
      "state": {
       "description_width": ""
      }
     },
     "dd2e6a69258b4ce489db5ee0e90a9ebf": {
      "model_module": "@jupyter-widgets/base",
      "model_module_version": "1.2.0",
      "model_name": "LayoutModel",
      "state": {}
     },
     "dd354d3335384f2bbfd3e490d48e54df": {
      "model_module": "@jupyter-widgets/controls",
      "model_module_version": "1.5.0",
      "model_name": "DescriptionStyleModel",
      "state": {
       "description_width": ""
      }
     },
     "dd5591a4d1314a758e88e34b6f9c8916": {
      "model_module": "@jupyter-widgets/controls",
      "model_module_version": "1.5.0",
      "model_name": "DescriptionStyleModel",
      "state": {
       "description_width": ""
      }
     },
     "dd820229be7d40f2b9ce90d02704ce52": {
      "model_module": "@jupyter-widgets/controls",
      "model_module_version": "1.5.0",
      "model_name": "DescriptionStyleModel",
      "state": {
       "description_width": ""
      }
     },
     "dd880b73efd54a3785006f52281889a6": {
      "model_module": "@jupyter-widgets/controls",
      "model_module_version": "1.5.0",
      "model_name": "DescriptionStyleModel",
      "state": {
       "description_width": ""
      }
     },
     "ddb70ad084704dd5b6c4d88625d994da": {
      "model_module": "@jupyter-widgets/base",
      "model_module_version": "1.2.0",
      "model_name": "LayoutModel",
      "state": {}
     },
     "ddcf212e9dbc4ac08c7334c8e5b1b33f": {
      "model_module": "@jupyter-widgets/base",
      "model_module_version": "1.2.0",
      "model_name": "LayoutModel",
      "state": {
       "grid_gap": "5px 10px",
       "grid_template_columns": "100px auto",
       "grid_template_rows": "auto auto auto auto auto",
       "padding": "50px 0px 70px 0px",
       "width": "100%"
      }
     },
     "de1b06d35a654d1b8536c07dffc10a8f": {
      "model_module": "@jupyter-widgets/controls",
      "model_module_version": "1.5.0",
      "model_name": "DescriptionStyleModel",
      "state": {
       "description_width": ""
      }
     },
     "de27f85af27d46febb9865afd911065a": {
      "model_module": "@jupyter-widgets/controls",
      "model_module_version": "1.5.0",
      "model_name": "HTMLModel",
      "state": {
       "layout": "IPY_MODEL_894de8cd88b14845a149912a79496f77",
       "style": "IPY_MODEL_7d1af3d8bd1f4e4e9a900d59f97f8867",
       "value": "<b>Title: </b> "
      }
     },
     "de3ccb6a5fb746d18bbe97b686a80fae": {
      "model_module": "@jupyter-widgets/base",
      "model_module_version": "1.2.0",
      "model_name": "LayoutModel",
      "state": {}
     },
     "de6b62612aab478e8079c11bd6664105": {
      "model_module": "@jupyter-widgets/controls",
      "model_module_version": "1.5.0",
      "model_name": "DescriptionStyleModel",
      "state": {
       "description_width": ""
      }
     },
     "de81a639203e440c98e6d145f64ce271": {
      "model_module": "@jupyter-widgets/base",
      "model_module_version": "1.2.0",
      "model_name": "LayoutModel",
      "state": {}
     },
     "de82c3803dbc42ccab2e5cc659465fc4": {
      "model_module": "@jupyter-widgets/base",
      "model_module_version": "1.2.0",
      "model_name": "LayoutModel",
      "state": {}
     },
     "de88813940cc49b78314e3daab9aa3fd": {
      "model_module": "@jupyter-widgets/controls",
      "model_module_version": "1.5.0",
      "model_name": "DescriptionStyleModel",
      "state": {
       "description_width": ""
      }
     },
     "de8e4d1b0b504264990f2658c9bf8187": {
      "model_module": "@jupyter-widgets/controls",
      "model_module_version": "1.5.0",
      "model_name": "HTMLModel",
      "state": {
       "layout": "IPY_MODEL_feed751ac66741bcba6904ad54cf217c",
       "style": "IPY_MODEL_060c64ef2daa4c85a9713cadd64c78f1",
       "value": "This Jupyter notebook is dedicated on providing examples of how to produce an interactive map with incorporated information. In this demo, we will take all the members' location to plot on a map. Could we please ask you to fill in your details. If you don't feel comfortable giving us this information, you can create a 'fake' one (with sensible values)."
      }
     },
     "de9c46b687464feab4972131b0d69858": {
      "model_module": "@jupyter-widgets/base",
      "model_module_version": "1.2.0",
      "model_name": "LayoutModel",
      "state": {}
     },
     "dec0b936bb6d48eeacce0fca0e5e92dc": {
      "model_module": "@jupyter-widgets/controls",
      "model_module_version": "1.5.0",
      "model_name": "DescriptionStyleModel",
      "state": {
       "description_width": ""
      }
     },
     "ded6300408914ef9a78b7a184e4aae88": {
      "model_module": "@jupyter-widgets/controls",
      "model_module_version": "1.5.0",
      "model_name": "DescriptionStyleModel",
      "state": {
       "description_width": ""
      }
     },
     "df0d80ab02c645e2b4a5d25824cbbaaa": {
      "model_module": "@jupyter-widgets/controls",
      "model_module_version": "1.5.0",
      "model_name": "DescriptionStyleModel",
      "state": {
       "description_width": ""
      }
     },
     "df12e5b7eade4c22b041bdbf1fcdf776": {
      "model_module": "@jupyter-widgets/controls",
      "model_module_version": "1.5.0",
      "model_name": "HTMLModel",
      "state": {
       "layout": "IPY_MODEL_a7a680a03c2e402392798f3058101650",
       "style": "IPY_MODEL_e34e9c00cf5f4eec97487b9a75db9690",
       "value": "<b>GitHub: </b> "
      }
     },
     "df33d3054d844d599e79fd2ead04d26f": {
      "model_module": "@jupyter-widgets/base",
      "model_module_version": "1.2.0",
      "model_name": "LayoutModel",
      "state": {
       "grid_gap": "5px 10px",
       "grid_template_columns": "auto",
       "grid_template_rows": "auto",
       "padding": "5px 0px 5px 0px",
       "width": "100%"
      }
     },
     "df3bb81c8f184161a71424bcd2f9c1b6": {
      "model_module": "@jupyter-widgets/controls",
      "model_module_version": "1.5.0",
      "model_name": "HTMLModel",
      "state": {
       "layout": "IPY_MODEL_5f4e85a512f048bfb38453ada587805b",
       "style": "IPY_MODEL_649cfeeb942a4f8aafd6f81af42613da",
       "value": "<b>GitHub: </b> "
      }
     },
     "df41ee9e720a4daab968f12bf6c5e026": {
      "model_module": "@jupyter-widgets/base",
      "model_module_version": "1.2.0",
      "model_name": "LayoutModel",
      "state": {}
     },
     "df42952a48fa4cfab47d6cfd06e3d94f": {
      "model_module": "@jupyter-widgets/base",
      "model_module_version": "1.2.0",
      "model_name": "LayoutModel",
      "state": {}
     },
     "df4c2d8e7c9f4efc99cf17d1e31584a1": {
      "model_module": "@jupyter-widgets/controls",
      "model_module_version": "1.5.0",
      "model_name": "DescriptionStyleModel",
      "state": {
       "description_width": ""
      }
     },
     "df58c352510d4d80ae7ae4e17ef58464": {
      "model_module": "@jupyter-widgets/base",
      "model_module_version": "1.2.0",
      "model_name": "LayoutModel",
      "state": {}
     },
     "df88559f41a74503b8de76bce208937c": {
      "model_module": "@jupyter-widgets/base",
      "model_module_version": "1.2.0",
      "model_name": "LayoutModel",
      "state": {}
     },
     "df9e94b2f1584de4a1afb18533068fac": {
      "model_module": "@jupyter-widgets/controls",
      "model_module_version": "1.5.0",
      "model_name": "DescriptionStyleModel",
      "state": {
       "description_width": ""
      }
     },
     "dfa5654648b849db96850e316393d0cd": {
      "model_module": "@jupyter-widgets/base",
      "model_module_version": "1.2.0",
      "model_name": "LayoutModel",
      "state": {}
     },
     "dfc5376c86b140b48ca58ed819413896": {
      "model_module": "@jupyter-widgets/base",
      "model_module_version": "1.2.0",
      "model_name": "LayoutModel",
      "state": {}
     },
     "dff233f977964047ad75a7bda68b1e9d": {
      "model_module": "@jupyter-widgets/controls",
      "model_module_version": "1.5.0",
      "model_name": "DescriptionStyleModel",
      "state": {
       "description_width": ""
      }
     },
     "e01bd11e7fcd44aca5d1805dbdba4308": {
      "model_module": "@jupyter-widgets/controls",
      "model_module_version": "1.5.0",
      "model_name": "DescriptionStyleModel",
      "state": {
       "description_width": ""
      }
     },
     "e025ddd684e34ed1b73fc42295146fac": {
      "model_module": "@jupyter-widgets/controls",
      "model_module_version": "1.5.0",
      "model_name": "DescriptionStyleModel",
      "state": {
       "description_width": ""
      }
     },
     "e03a5f596ced4aaba556e90d9bff58a9": {
      "model_module": "@jupyter-widgets/base",
      "model_module_version": "1.2.0",
      "model_name": "LayoutModel",
      "state": {}
     },
     "e0430fa36364437eb1fbc18817caae54": {
      "model_module": "@jupyter-widgets/controls",
      "model_module_version": "1.5.0",
      "model_name": "HTMLModel",
      "state": {
       "layout": "IPY_MODEL_96cf224ee027487abd0a05f11ff17902",
       "style": "IPY_MODEL_c768fceb0de84b168865a14fad0f0bd7",
       "value": "<a href='https://github.com/ICOS-Carbon-Portal/jupyter/issues' target='_blank'>Click here to report an issue</a>"
      }
     },
     "e0882954dd9646b09d1c4e1f138add30": {
      "model_module": "@jupyter-widgets/controls",
      "model_module_version": "1.5.0",
      "model_name": "DescriptionStyleModel",
      "state": {
       "description_width": ""
      }
     },
     "e098d06605544d2fb7c4edbc72cc97e1": {
      "model_module": "@jupyter-widgets/controls",
      "model_module_version": "1.5.0",
      "model_name": "HTMLModel",
      "state": {
       "layout": "IPY_MODEL_45d55dd2b2af43d993c926a66cce2faa",
       "style": "IPY_MODEL_5b755f58591c42cb86c1cf718e33b824",
       "value": "<b>Description: </b> "
      }
     },
     "e0db7d7231644793a3c141e6169736ff": {
      "model_module": "@jupyter-widgets/controls",
      "model_module_version": "1.5.0",
      "model_name": "DescriptionStyleModel",
      "state": {
       "description_width": ""
      }
     },
     "e0e27d4df19b414b9901754329fea913": {
      "model_module": "@jupyter-widgets/base",
      "model_module_version": "1.2.0",
      "model_name": "LayoutModel",
      "state": {
       "grid_gap": "5px 10px",
       "grid_template_columns": "auto",
       "grid_template_rows": "auto",
       "padding": "5px 0px 5px 0px",
       "width": "100%"
      }
     },
     "e0ee0eb8b7534189bb5c5874c39df21a": {
      "model_module": "@jupyter-widgets/controls",
      "model_module_version": "1.5.0",
      "model_name": "DescriptionStyleModel",
      "state": {
       "description_width": ""
      }
     },
     "e103734c896640d580205b847eb5b92c": {
      "model_module": "@jupyter-widgets/base",
      "model_module_version": "1.2.0",
      "model_name": "LayoutModel",
      "state": {}
     },
     "e11817c079824e88aef574f94f6f5318": {
      "model_module": "@jupyter-widgets/controls",
      "model_module_version": "1.5.0",
      "model_name": "HTMLModel",
      "state": {
       "layout": "IPY_MODEL_d6c343477ff94d31babaf7e2be6f1e75",
       "style": "IPY_MODEL_cdb855753eb948808b5156f8777afc79",
       "value": "<b>Contact: </b> "
      }
     },
     "e1304264257b43e48cbf176041acfb01": {
      "model_module": "@jupyter-widgets/controls",
      "model_module_version": "1.5.0",
      "model_name": "DescriptionStyleModel",
      "state": {
       "description_width": ""
      }
     },
     "e13fd5f7d663444db42a032921264468": {
      "model_module": "@jupyter-widgets/base",
      "model_module_version": "1.2.0",
      "model_name": "LayoutModel",
      "state": {
       "grid_gap": "5px 10px",
       "grid_template_columns": "100px auto",
       "grid_template_rows": "auto auto auto auto auto",
       "padding": "50px 0px 70px 0px",
       "width": "100%"
      }
     },
     "e1573aa386c942e1b3e8b533d15e0d3a": {
      "model_module": "@jupyter-widgets/base",
      "model_module_version": "1.2.0",
      "model_name": "LayoutModel",
      "state": {}
     },
     "e16395a217d9426f8749828d1b64361f": {
      "model_module": "@jupyter-widgets/controls",
      "model_module_version": "1.5.0",
      "model_name": "HTMLModel",
      "state": {
       "layout": "IPY_MODEL_7ec948687a3145d4a84bca4bb135e91d",
       "style": "IPY_MODEL_0e4b140dcbdd4e37b1c8eb3c678dc02c",
       "value": "<b>Contact: </b> "
      }
     },
     "e16c106727614a1886e2ac604801f5b4": {
      "model_module": "@jupyter-widgets/base",
      "model_module_version": "1.2.0",
      "model_name": "LayoutModel",
      "state": {}
     },
     "e17af4175f5647149c3a2fabbffd2f45": {
      "model_module": "@jupyter-widgets/base",
      "model_module_version": "1.2.0",
      "model_name": "LayoutModel",
      "state": {
       "grid_gap": "5px 10px",
       "grid_template_columns": "auto",
       "grid_template_rows": "auto",
       "padding": "5px 0px 5px 0px",
       "width": "100%"
      }
     },
     "e1a62d7ea59e4819bc58481af5157e7a": {
      "model_module": "@jupyter-widgets/base",
      "model_module_version": "1.2.0",
      "model_name": "LayoutModel",
      "state": {}
     },
     "e1bbaa6dfa3341199c369687e04d0fc2": {
      "model_module": "@jupyter-widgets/controls",
      "model_module_version": "1.5.0",
      "model_name": "HTMLModel",
      "state": {
       "layout": "IPY_MODEL_adfc84ee19764ce9abc4913b9879e71b",
       "style": "IPY_MODEL_f8c2b5b0795e4e88bfa7eac19898fbb5",
       "value": "<b>Description: </b> "
      }
     },
     "e1c212c62a924bd690dc8ba588e027ec": {
      "model_module": "@jupyter-widgets/base",
      "model_module_version": "1.2.0",
      "model_name": "LayoutModel",
      "state": {}
     },
     "e209cfcb814744fdbe7d8828565e680b": {
      "model_module": "@jupyter-widgets/base",
      "model_module_version": "1.2.0",
      "model_name": "LayoutModel",
      "state": {}
     },
     "e23bc194fb664963a03d17da59297c9d": {
      "model_module": "@jupyter-widgets/base",
      "model_module_version": "1.2.0",
      "model_name": "LayoutModel",
      "state": {}
     },
     "e23f107a2d204e119b81e242296bb76c": {
      "model_module": "@jupyter-widgets/controls",
      "model_module_version": "1.5.0",
      "model_name": "DescriptionStyleModel",
      "state": {
       "description_width": ""
      }
     },
     "e257e3bd06f84d84a33a5e37728889d8": {
      "model_module": "@jupyter-widgets/controls",
      "model_module_version": "1.5.0",
      "model_name": "HTMLModel",
      "state": {
       "layout": "IPY_MODEL_926e504a2a3b4cf6ae3e5ddb761546f4",
       "style": "IPY_MODEL_3c182ba7037f4efda1215c3ea8ec34f4",
       "value": "<a href=\"mailto: jupyter-info@icos-cp.eu\">jupyter-info@icos-cp.eu</a>"
      }
     },
     "e2727fdc15a64bafb4755c14db89c97e": {
      "model_module": "@jupyter-widgets/controls",
      "model_module_version": "1.5.0",
      "model_name": "DescriptionStyleModel",
      "state": {
       "description_width": ""
      }
     },
     "e29c260aca464445bfb6fff37a51c566": {
      "model_module": "@jupyter-widgets/controls",
      "model_module_version": "1.5.0",
      "model_name": "DescriptionStyleModel",
      "state": {
       "description_width": ""
      }
     },
     "e2a618842ecd461e99ab258f27136883": {
      "model_module": "@jupyter-widgets/controls",
      "model_module_version": "1.5.0",
      "model_name": "HTMLModel",
      "state": {
       "layout": "IPY_MODEL_924615f0c1d144529d16fb1939e9aec0",
       "style": "IPY_MODEL_4a281cf64f174e0db2d6409afa9f79f9",
       "value": "<img src=\"./icos_jupyter_notebooks/ind_tools/img/02_pylib_ex/ex4.PNG\">"
      }
     },
     "e2b99180d5ad47a5b5af45e5e9e17ac7": {
      "model_module": "@jupyter-widgets/base",
      "model_module_version": "1.2.0",
      "model_name": "LayoutModel",
      "state": {}
     },
     "e2ba35f046074b9bb5065abac1750264": {
      "model_module": "@jupyter-widgets/controls",
      "model_module_version": "1.5.0",
      "model_name": "DescriptionStyleModel",
      "state": {
       "description_width": ""
      }
     },
     "e2c4788b44a547be9b3a545910bce926": {
      "model_module": "@jupyter-widgets/base",
      "model_module_version": "1.2.0",
      "model_name": "LayoutModel",
      "state": {}
     },
     "e316951a44b74f8496f732331dc776b4": {
      "model_module": "@jupyter-widgets/base",
      "model_module_version": "1.2.0",
      "model_name": "LayoutModel",
      "state": {}
     },
     "e318d47ce7674329b9e26fcd5e26afac": {
      "model_module": "@jupyter-widgets/base",
      "model_module_version": "1.2.0",
      "model_name": "LayoutModel",
      "state": {}
     },
     "e34abe18c45a40839187c730871155cc": {
      "model_module": "@jupyter-widgets/controls",
      "model_module_version": "1.5.0",
      "model_name": "DescriptionStyleModel",
      "state": {
       "description_width": ""
      }
     },
     "e34e9c00cf5f4eec97487b9a75db9690": {
      "model_module": "@jupyter-widgets/controls",
      "model_module_version": "1.5.0",
      "model_name": "DescriptionStyleModel",
      "state": {
       "description_width": ""
      }
     },
     "e363828f189d4e0bbcf5d7214c043832": {
      "model_module": "@jupyter-widgets/base",
      "model_module_version": "1.2.0",
      "model_name": "LayoutModel",
      "state": {
       "grid_gap": "5px 10px",
       "grid_template_columns": "auto",
       "grid_template_rows": "auto",
       "padding": "5px 0px 5px 0px",
       "width": "100%"
      }
     },
     "e36d0afb0f69472f8c48e9c052baf7b9": {
      "model_module": "@jupyter-widgets/controls",
      "model_module_version": "1.5.0",
      "model_name": "HTMLModel",
      "state": {
       "layout": "IPY_MODEL_9f26e6c4c6944f669b5360c4414a1e98",
       "style": "IPY_MODEL_544857a65c5840f0a90946da8ba7a38c",
       "value": "<a href=./education/PhD/upscaling_carbon_fluxes/notebooks/Station_example.ipynb target='_blank'>Station example</a>"
      }
     },
     "e377c957061c45e485fdc350b0dfd64c": {
      "model_module": "@jupyter-widgets/controls",
      "model_module_version": "1.5.0",
      "model_name": "HTMLModel",
      "state": {
       "layout": "IPY_MODEL_cb7260b06b274bc4892469dd0218543c",
       "style": "IPY_MODEL_c722ff06db674795b384da5e50951c55",
       "value": "<b>Title: </b> "
      }
     },
     "e3aca3dc696d493f86d01d7caaa6247d": {
      "model_module": "@jupyter-widgets/base",
      "model_module_version": "1.2.0",
      "model_name": "LayoutModel",
      "state": {}
     },
     "e3bace1d564747269145886c57993d6e": {
      "model_module": "@jupyter-widgets/controls",
      "model_module_version": "1.5.0",
      "model_name": "HTMLModel",
      "state": {
       "layout": "IPY_MODEL_5398a96402194b07ba7464039be8c564",
       "style": "IPY_MODEL_fe12dc2015dd48c98a34478d22bf1759",
       "value": "<b>Description: </b> "
      }
     },
     "e3c5162d87594a42a0e93ff3a31f5999": {
      "model_module": "@jupyter-widgets/controls",
      "model_module_version": "1.5.0",
      "model_name": "DescriptionStyleModel",
      "state": {
       "description_width": ""
      }
     },
     "e3d5ceae91584874b6c7d0470eaf92f5": {
      "model_module": "@jupyter-widgets/controls",
      "model_module_version": "1.5.0",
      "model_name": "HTMLModel",
      "state": {
       "layout": "IPY_MODEL_5e3ff4819be94c42a4ffec1dd20290c6",
       "style": "IPY_MODEL_2fad1ed135f24604865eab704f23f47c",
       "value": "<img src=\"./icos_jupyter_notebooks/ind_tools/img/02_pylib_ex/ex1.PNG\">"
      }
     },
     "e3d6229160664e349f1b565706430182": {
      "model_module": "@jupyter-widgets/base",
      "model_module_version": "1.2.0",
      "model_name": "LayoutModel",
      "state": {
       "grid_gap": "5px 10px",
       "grid_template_columns": "auto",
       "grid_template_rows": "auto",
       "padding": "5px 0px 5px 0px",
       "width": "100%"
      }
     },
     "e3e333093f7f4edcb7ba6b8dd570e0e7": {
      "model_module": "@jupyter-widgets/base",
      "model_module_version": "1.2.0",
      "model_name": "LayoutModel",
      "state": {}
     },
     "e3e70908b2d64fa1aa9b2ccadd63b023": {
      "model_module": "@jupyter-widgets/base",
      "model_module_version": "1.2.0",
      "model_name": "LayoutModel",
      "state": {}
     },
     "e3fa7e05d9624e039f1689562faff3f2": {
      "model_module": "@jupyter-widgets/controls",
      "model_module_version": "1.5.0",
      "model_name": "HTMLModel",
      "state": {
       "layout": "IPY_MODEL_e4b9398af86c4472bd4f861f310507de",
       "style": "IPY_MODEL_c4ab29e847244877bfb3cb20795c0b93",
       "value": "<b>GitHub: </b> "
      }
     },
     "e410f64e128f4109a121ec79fdd1346d": {
      "model_module": "@jupyter-widgets/controls",
      "model_module_version": "1.5.0",
      "model_name": "HTMLModel",
      "state": {
       "layout": "IPY_MODEL_d0e11f496ab94438a75ab31574900b7b",
       "style": "IPY_MODEL_df9e94b2f1584de4a1afb18533068fac",
       "value": "<a href='https://github.com/ICOS-Carbon-Portal/jupyter/issues' target='_blank'>Click here to report an issue</a>"
      }
     },
     "e418f25f6d2e4244a0a586464d0c9dcd": {
      "model_module": "@jupyter-widgets/base",
      "model_module_version": "1.2.0",
      "model_name": "LayoutModel",
      "state": {}
     },
     "e419f5b6f1bf453c9c85d0190d10a92f": {
      "model_module": "@jupyter-widgets/base",
      "model_module_version": "1.2.0",
      "model_name": "LayoutModel",
      "state": {}
     },
     "e41e6b7e1c5f47559697c2defb85112e": {
      "model_module": "@jupyter-widgets/controls",
      "model_module_version": "1.5.0",
      "model_name": "HTMLModel",
      "state": {
       "layout": "IPY_MODEL_0c2f036d88ff4f0fae3aeb4054ca68b7",
       "style": "IPY_MODEL_294b8cb5bd564fef89b5412222c46635",
       "value": "<b>Contact: </b> "
      }
     },
     "e4414ce51ca740ec98495be048c68d80": {
      "model_module": "@jupyter-widgets/controls",
      "model_module_version": "1.5.0",
      "model_name": "HTMLModel",
      "state": {
       "layout": "IPY_MODEL_77322d1e7d7b470d9c1c9d5a529309d0",
       "style": "IPY_MODEL_d359941dfe6c4fc2b0ac50e3c8247119",
       "value": "<a href=./project_jupyter_notebooks/OTC%20Data%20Reduction%20Workshop/modules/data_reduction_modules.ipynb target='_blank'>Functions and Settings for data reduction modules</a>"
      }
     },
     "e44a418074244dd4bcf127c65bf8ddab": {
      "model_module": "@jupyter-widgets/controls",
      "model_module_version": "1.5.0",
      "model_name": "DescriptionStyleModel",
      "state": {
       "description_width": ""
      }
     },
     "e4a1fd2cd43b4a149cc9b94bc52c203d": {
      "model_module": "@jupyter-widgets/base",
      "model_module_version": "1.2.0",
      "model_name": "LayoutModel",
      "state": {}
     },
     "e4ab5624d5d644d2ba3f514be7ef8114": {
      "model_module": "@jupyter-widgets/controls",
      "model_module_version": "1.5.0",
      "model_name": "HTMLModel",
      "state": {
       "layout": "IPY_MODEL_58db0ee3352e4c21b074261acbedb076",
       "style": "IPY_MODEL_55e834cb633048a1aa25b37ca20cbe4a",
       "value": "<a href=\"mailto: jupyter-info@icos-cp.eu\">jupyter-info@icos-cp.eu</a>, <a href=\"mailto: claudio.donofrio@nateko.lu.se\">claudio.donofrio@nateko.lu.se</a>"
      }
     },
     "e4b214c369524f0a967b4bbded028d0f": {
      "model_module": "@jupyter-widgets/controls",
      "model_module_version": "1.5.0",
      "model_name": "DescriptionStyleModel",
      "state": {
       "description_width": ""
      }
     },
     "e4b625d434fd414882409336fe8dfd27": {
      "model_module": "@jupyter-widgets/controls",
      "model_module_version": "1.5.0",
      "model_name": "HTMLModel",
      "state": {
       "layout": "IPY_MODEL_7d485aeeea0d4372b517f39760f7a8e3",
       "style": "IPY_MODEL_28c5759c51214b17832da2395a83267c",
       "value": "<b>Contact: </b> "
      }
     },
     "e4b9398af86c4472bd4f861f310507de": {
      "model_module": "@jupyter-widgets/base",
      "model_module_version": "1.2.0",
      "model_name": "LayoutModel",
      "state": {}
     },
     "e4c95f15c1fe4daf831a630166d3343c": {
      "model_module": "@jupyter-widgets/controls",
      "model_module_version": "1.5.0",
      "model_name": "DescriptionStyleModel",
      "state": {
       "description_width": ""
      }
     },
     "e4d24dfd3be54e64a3b28f2a14bbff42": {
      "model_module": "@jupyter-widgets/controls",
      "model_module_version": "1.5.0",
      "model_name": "DescriptionStyleModel",
      "state": {
       "description_width": ""
      }
     },
     "e514b35ad5c742bfafb87f06cadfb602": {
      "model_module": "@jupyter-widgets/base",
      "model_module_version": "1.2.0",
      "model_name": "LayoutModel",
      "state": {}
     },
     "e51f03014b794289bb7471f8a0c8b525": {
      "model_module": "@jupyter-widgets/controls",
      "model_module_version": "1.5.0",
      "model_name": "DescriptionStyleModel",
      "state": {
       "description_width": ""
      }
     },
     "e52c7eb913a04a80a6f2fa97afeaf3a0": {
      "model_module": "@jupyter-widgets/controls",
      "model_module_version": "1.5.0",
      "model_name": "AccordionModel",
      "state": {
       "_titles": {
        "0": "ICOS Carbon Portal Python Library - Access data and meta data",
        "1": "ICOS Carbon Portal Python Library - Explore ICOS stations",
        "2": "ICOS Carbon Portal Python Library - Multisource",
        "3": "ICOS Carbon Portal Python Library - Access data and metadata of collections",
        "4": "ICOS Carbon Portal Python Library - Load data based on a sparql query",
        "5": "ICOS Carbon Portal Python Library - STILT",
        "6": "ICOS Carbon Portal Python Library - STILT footprint animation",
        "7": "ICOS Carbon Portal Python Library - STILT footprints and timeseries"
       },
       "children": [
        "IPY_MODEL_5ebb88b525a0423d92fc55efd4037dc8",
        "IPY_MODEL_b39c625e293c46c7a499b8dae4dfcfb5",
        "IPY_MODEL_feff84ebcb0d4472bd7e9e0afa8d61cc",
        "IPY_MODEL_2c38796786634ba690fc00112c5eba9f",
        "IPY_MODEL_54d681507b6c4b3380fc2dd1613aec3c",
        "IPY_MODEL_fc1dc640ae294e429bd043bbaa83949d",
        "IPY_MODEL_1a22ae146f1b45f3b4972c7a4c5c3d06",
        "IPY_MODEL_85ce4d72a6384a0e8e123f38cc8a8986"
       ],
       "layout": "IPY_MODEL_bd909bab05cb43ff910b19df51d72ae7",
       "selected_index": null
      }
     },
     "e551e3fa5c3f4793987c95c0c91ba634": {
      "model_module": "@jupyter-widgets/controls",
      "model_module_version": "1.5.0",
      "model_name": "GridBoxModel",
      "state": {
       "children": [
        "IPY_MODEL_2dd498f90eab4a73829f4970954f120f",
        "IPY_MODEL_3eb4c7066c464da593f6c2e9f54ea758"
       ],
       "layout": "IPY_MODEL_3c17e935808f48529fa44b42ba47617d"
      }
     },
     "e55a914f2d2e4a20bbbc1f029546b394": {
      "model_module": "@jupyter-widgets/base",
      "model_module_version": "1.2.0",
      "model_name": "LayoutModel",
      "state": {}
     },
     "e56d4a0e3d7646dfbbb9fc18bcd594fd": {
      "model_module": "@jupyter-widgets/controls",
      "model_module_version": "1.5.0",
      "model_name": "HTMLModel",
      "state": {
       "layout": "IPY_MODEL_d3dba58d907944deb72d935ab789c50d",
       "style": "IPY_MODEL_12d44b31e3da40e4bdfa675bc5f9a6d0",
       "value": "<a href=\"mailto: jupyter-info@icos-cp.eu\">jupyter-info@icos-cp.eu</a>, <a href=\"mailto: claudio.donofrio@nateko.lu.se\">claudio.donofrio@nateko.lu.se</a>"
      }
     },
     "e5799c2d45e04697b389faa908d6fee2": {
      "model_module": "@jupyter-widgets/base",
      "model_module_version": "1.2.0",
      "model_name": "LayoutModel",
      "state": {}
     },
     "e5a08e5b43cc4c9291eaf92e7f9da204": {
      "model_module": "@jupyter-widgets/base",
      "model_module_version": "1.2.0",
      "model_name": "LayoutModel",
      "state": {}
     },
     "e5a2c5ddda144d72a1f87d893df08405": {
      "model_module": "@jupyter-widgets/base",
      "model_module_version": "1.2.0",
      "model_name": "LayoutModel",
      "state": {}
     },
     "e5b1215054674bdaa50f1b2b27bb97af": {
      "model_module": "@jupyter-widgets/controls",
      "model_module_version": "1.5.0",
      "model_name": "DescriptionStyleModel",
      "state": {
       "description_width": ""
      }
     },
     "e5e36152ce724b2a99681d66f2b7aaf5": {
      "model_module": "@jupyter-widgets/base",
      "model_module_version": "1.2.0",
      "model_name": "LayoutModel",
      "state": {
       "grid_gap": "5px 10px",
       "grid_template_columns": "100px auto",
       "grid_template_rows": "auto auto auto auto auto",
       "padding": "50px 0px 70px 0px",
       "width": "100%"
      }
     },
     "e63e642dc3454584b25bb290cd9f15d5": {
      "model_module": "@jupyter-widgets/controls",
      "model_module_version": "1.5.0",
      "model_name": "DescriptionStyleModel",
      "state": {
       "description_width": ""
      }
     },
     "e6599b804c7b4bfda399275390817b30": {
      "model_module": "@jupyter-widgets/controls",
      "model_module_version": "1.5.0",
      "model_name": "HTMLModel",
      "state": {
       "layout": "IPY_MODEL_7c8fe17803144785887052a48f97dca5",
       "style": "IPY_MODEL_0aa2f04ccf46436b9649acfdd3a5db86",
       "value": "<b>GitHub: </b> "
      }
     },
     "e6709a79f3de4302bc1564838fe89610": {
      "model_module": "@jupyter-widgets/controls",
      "model_module_version": "1.5.0",
      "model_name": "DescriptionStyleModel",
      "state": {
       "description_width": ""
      }
     },
     "e67834b27eb3401daae7e7d0113eef62": {
      "model_module": "@jupyter-widgets/base",
      "model_module_version": "1.2.0",
      "model_name": "LayoutModel",
      "state": {}
     },
     "e679d8845fea420ba8e243653bfaf0aa": {
      "model_module": "@jupyter-widgets/controls",
      "model_module_version": "1.5.0",
      "model_name": "DescriptionStyleModel",
      "state": {
       "description_width": ""
      }
     },
     "e6868dff3f2d4e5b970cef3c4ef120eb": {
      "model_module": "@jupyter-widgets/controls",
      "model_module_version": "1.5.0",
      "model_name": "HTMLModel",
      "state": {
       "layout": "IPY_MODEL_47acfe2ff0ba4e59a03cfa2829eaf593",
       "style": "IPY_MODEL_e8f89af696f3444d9f7c65818152890a",
       "value": "<b>GitHub: </b> "
      }
     },
     "e6ca3fd7b9dd4240af04a2c711f4525f": {
      "model_module": "@jupyter-widgets/base",
      "model_module_version": "1.2.0",
      "model_name": "LayoutModel",
      "state": {}
     },
     "e6ea5af632e74a7b88b9fc5cebbfdf14": {
      "model_module": "@jupyter-widgets/controls",
      "model_module_version": "1.5.0",
      "model_name": "AccordionModel",
      "state": {
       "_titles": {
        "0": "Drought 2018 - ICOS ecosystem data from Hyltemossa",
        "1": "Drought 2018 - ICOS ecosystem data from Hyltemossa (all code visible)"
       },
       "children": [
        "IPY_MODEL_8285d1d6ef94494186165aadef583474",
        "IPY_MODEL_630f465d0ce14ed3a523d8e9bc37cf54"
       ],
       "layout": "IPY_MODEL_98005f56da5440c48a4c67d54cd9fbe0",
       "selected_index": null
      }
     },
     "e6eb48d6e08b462c8e3dfb15c7d505d0": {
      "model_module": "@jupyter-widgets/controls",
      "model_module_version": "1.5.0",
      "model_name": "HTMLModel",
      "state": {
       "layout": "IPY_MODEL_adc9a50f4bb1400090c20d30f11cf7cc",
       "style": "IPY_MODEL_39bf9abed8124ee98fc33b84c69795c6",
       "value": "<a href=./introduction/QuickstartToPythonENG.ipynb target='_blank'>Quickstart to Python</a>"
      }
     },
     "e6fda782267841b581c221cc5b6445d6": {
      "model_module": "@jupyter-widgets/base",
      "model_module_version": "1.2.0",
      "model_name": "LayoutModel",
      "state": {
       "grid_gap": "5px 10px",
       "grid_template_columns": "100px auto",
       "grid_template_rows": "auto auto auto auto auto",
       "padding": "50px 0px 70px 0px",
       "width": "100%"
      }
     },
     "e7294a78a7c04046bd8469316dfa8b9e": {
      "model_module": "@jupyter-widgets/controls",
      "model_module_version": "1.5.0",
      "model_name": "DescriptionStyleModel",
      "state": {
       "description_width": ""
      }
     },
     "e736d74d01034028895d4f7bf8464981": {
      "model_module": "@jupyter-widgets/base",
      "model_module_version": "1.2.0",
      "model_name": "LayoutModel",
      "state": {}
     },
     "e74cb322e9704d98b8ff6468e69fc959": {
      "model_module": "@jupyter-widgets/controls",
      "model_module_version": "1.5.0",
      "model_name": "GridBoxModel",
      "state": {
       "children": [
        "IPY_MODEL_060c744319ae4891b1f86fb9722aefa2",
        "IPY_MODEL_b2aaed5201ba46169d324efe69692951",
        "IPY_MODEL_6931395d897a4c53b5397574f6bb0c0c",
        "IPY_MODEL_3ba45f0b8d2c4ba19d527a152ae273cd",
        "IPY_MODEL_aaa8207033bf4050a56c9666067d33c0",
        "IPY_MODEL_e933e5b65a574f3b87061e86ba6f402d",
        "IPY_MODEL_83af1520a7484b438c4ce95e1b097aee",
        "IPY_MODEL_6c4cc27aa5d04b9a838cbc140e634b7f",
        "IPY_MODEL_4a4ab861f3644dd89ae74e5c7483cbba",
        "IPY_MODEL_9164015743a4485e81e81e6d26c2abd6"
       ],
       "layout": "IPY_MODEL_58fff3c202de40cfb257c42eedf7f973"
      }
     },
     "e75945f5940b48c98475e7a2a27af273": {
      "model_module": "@jupyter-widgets/base",
      "model_module_version": "1.2.0",
      "model_name": "LayoutModel",
      "state": {}
     },
     "e78a3b28dfcb45e4a1bad564349abb91": {
      "model_module": "@jupyter-widgets/controls",
      "model_module_version": "1.5.0",
      "model_name": "GridBoxModel",
      "state": {
       "children": [
        "IPY_MODEL_ad9e1ec75a184317a82ac92f6fb93d5a",
        "IPY_MODEL_bea630723cc84f268e09543d467df395",
        "IPY_MODEL_a496ca2051bd4bbd84880e01cbe446ab",
        "IPY_MODEL_0df5d014b46b4b008e6b462454ff3d2b",
        "IPY_MODEL_dab8e513bec445f88251b5c900c338a0",
        "IPY_MODEL_22aaefb35d4f489f9377d5f3ce622746",
        "IPY_MODEL_f3e9aa5f9b524d238380acec72ec1c14",
        "IPY_MODEL_2f1d72b8c0ec47cd8c1f0b016b8ea050"
       ],
       "layout": "IPY_MODEL_27d702ec2efc405bad4246653bbf8e87"
      }
     },
     "e7a91a1cda7d42ea8c15caaa3b13f5bf": {
      "model_module": "@jupyter-widgets/controls",
      "model_module_version": "1.5.0",
      "model_name": "DescriptionStyleModel",
      "state": {
       "description_width": ""
      }
     },
     "e7b390073826467989d0b729c8337a10": {
      "model_module": "@jupyter-widgets/controls",
      "model_module_version": "1.5.0",
      "model_name": "DescriptionStyleModel",
      "state": {
       "description_width": ""
      }
     },
     "e7b3b81a64fe471dbf1c4b480d6a244c": {
      "model_module": "@jupyter-widgets/controls",
      "model_module_version": "1.5.0",
      "model_name": "DescriptionStyleModel",
      "state": {
       "description_width": ""
      }
     },
     "e7ba1b7a113745b2b6ace44d4de40591": {
      "model_module": "@jupyter-widgets/controls",
      "model_module_version": "1.5.0",
      "model_name": "DescriptionStyleModel",
      "state": {
       "description_width": ""
      }
     },
     "e7c9c5f4197b491fa8baea7b10ae1f63": {
      "model_module": "@jupyter-widgets/controls",
      "model_module_version": "1.5.0",
      "model_name": "HTMLModel",
      "state": {
       "layout": "IPY_MODEL_12f8d1cfa6564b20814dfe130fb191d1",
       "style": "IPY_MODEL_f17296bfc6684a80be7374a22844fd3b",
       "value": "<a href=\"mailto: jupyter-info@icos-cp.eu\">jupyter-info@icos-cp.eu</a>, <a href=\"mailto: claudio.donofrio@nateko.lu.se\">claudio.donofrio@nateko.lu.se</a>"
      }
     },
     "e7c9f027b5e546a3900092da96dc66a0": {
      "model_module": "@jupyter-widgets/controls",
      "model_module_version": "1.5.0",
      "model_name": "GridBoxModel",
      "state": {
       "children": [
        "IPY_MODEL_f8528fb5e3b543df98b1183fd8c514bb",
        "IPY_MODEL_01835ed13a714a4daee9cb919540e239",
        "IPY_MODEL_d6b25235f045437d812b23ca9f6c76c0",
        "IPY_MODEL_82349c6515cd4ae2b3cedbe87144657b",
        "IPY_MODEL_1b90e2e13a384b8591190899870a7ee7",
        "IPY_MODEL_42ed4f3e1ca848d1a55a9ef8dd6ff944",
        "IPY_MODEL_eff2728c5fcf4879a8bf2d0a7930a939",
        "IPY_MODEL_0e831865b55a43f6820828b0e1486ab3",
        "IPY_MODEL_721336fc88214033bbc9ecb865ea6233",
        "IPY_MODEL_fcc6a564339549a6b2180d00c05f647e"
       ],
       "layout": "IPY_MODEL_84e8e49de0d24bec96e1fea27ab45c2a"
      }
     },
     "e7d207d8f49d48f4bb9552637389f238": {
      "model_module": "@jupyter-widgets/base",
      "model_module_version": "1.2.0",
      "model_name": "LayoutModel",
      "state": {}
     },
     "e7f2850cc8e44a2c82d2742acd4573b5": {
      "model_module": "@jupyter-widgets/base",
      "model_module_version": "1.2.0",
      "model_name": "LayoutModel",
      "state": {}
     },
     "e7f57d26a8a1435093a6f0ce42784cda": {
      "model_module": "@jupyter-widgets/controls",
      "model_module_version": "1.5.0",
      "model_name": "HTMLModel",
      "state": {
       "layout": "IPY_MODEL_58b4cf20b6424bdcac91e3e81f9f3c59",
       "style": "IPY_MODEL_31e5364833b64a9889552bf94dc035e3",
       "value": "<b>Description: </b> "
      }
     },
     "e7f5ccce5c8b4d699c5b67504748032f": {
      "model_module": "@jupyter-widgets/base",
      "model_module_version": "1.2.0",
      "model_name": "LayoutModel",
      "state": {}
     },
     "e7f92b6ac38542798d8f8697519de568": {
      "model_module": "@jupyter-widgets/controls",
      "model_module_version": "1.5.0",
      "model_name": "HTMLModel",
      "state": {
       "layout": "IPY_MODEL_df58c352510d4d80ae7ae4e17ef58464",
       "style": "IPY_MODEL_2f1b91a129a64b918ea9a68b2a49a0dd",
       "value": "<a href=./education/PhD/upscaling_carbon_fluxes/notebooks/inspect_fluxnet_files.ipynb target='_blank'>Inspect FLUXNET ecosystem measurements</a>"
      }
     },
     "e808a3576b2e410fb0b90688b1126748": {
      "model_module": "@jupyter-widgets/controls",
      "model_module_version": "1.5.0",
      "model_name": "HTMLModel",
      "state": {
       "layout": "IPY_MODEL_00a10bbb012c4ad1af951a6423391bfc",
       "style": "IPY_MODEL_933339c420314f4f8a605c150b0d8fb2",
       "value": "<b>Thumbnail: </b> "
      }
     },
     "e81683cb8e5c4f61bb6da7ccbe300bd0": {
      "model_module": "@jupyter-widgets/controls",
      "model_module_version": "1.5.0",
      "model_name": "DescriptionStyleModel",
      "state": {
       "description_width": ""
      }
     },
     "e8258fd76aa541d9ad22eb466e6a155f": {
      "model_module": "@jupyter-widgets/controls",
      "model_module_version": "1.5.0",
      "model_name": "HTMLModel",
      "state": {
       "layout": "IPY_MODEL_e514b35ad5c742bfafb87f06cadfb602",
       "style": "IPY_MODEL_9c9f898c2225477e8de868d1730ecaf2",
       "value": "To assist the national networks in evaluating the current and possible atmospheric network configurations, the ICOS Carbon Portal has extended its <a href=\"https://www.icos-cp.eu/data-services/tools/stilt-footprint\" target=\"_blank\">STILT footprint service</a> with a Jupyter notebook based tool. The tool allows the user to test any potential network configuration on its capability to capture the influence of sources and sinks. It does so by exploring the characteristics of combined influence (footprint) areas. The resulting combined footprint of the user’s selection is displayed in three different types of maps including one that simply shows the combined footprint and two maps that are based on the absolute coverage of the footprints (referred to as “footprint masks”). In a next step, the footprint mask coverage is examined in terms of the extent to which it covers individual countries. The results are summarized in a table."
      }
     },
     "e84d0e634de5402485b1146a0939deb7": {
      "model_module": "@jupyter-widgets/base",
      "model_module_version": "1.2.0",
      "model_name": "LayoutModel",
      "state": {
       "grid_gap": "5px 10px",
       "grid_template_columns": "100px auto",
       "grid_template_rows": "auto auto auto auto auto",
       "padding": "50px 0px 70px 0px",
       "width": "100%"
      }
     },
     "e8662d18b56f4c34a3178311c33e5409": {
      "model_module": "@jupyter-widgets/controls",
      "model_module_version": "1.5.0",
      "model_name": "DescriptionStyleModel",
      "state": {
       "description_width": ""
      }
     },
     "e875c1e5598146d2ba9a23b144c6a2d2": {
      "model_module": "@jupyter-widgets/base",
      "model_module_version": "1.2.0",
      "model_name": "LayoutModel",
      "state": {}
     },
     "e893d4b3f9be4f8bb24077b0ea61029d": {
      "model_module": "@jupyter-widgets/controls",
      "model_module_version": "1.5.0",
      "model_name": "DescriptionStyleModel",
      "state": {
       "description_width": ""
      }
     },
     "e8be7c712d0a4e0dad1df645e94df4fb": {
      "model_module": "@jupyter-widgets/controls",
      "model_module_version": "1.5.0",
      "model_name": "DescriptionStyleModel",
      "state": {
       "description_width": ""
      }
     },
     "e8c002c84ca6439dbf7ca379fec25fbe": {
      "model_module": "@jupyter-widgets/base",
      "model_module_version": "1.2.0",
      "model_name": "LayoutModel",
      "state": {}
     },
     "e8c31ecf82944ec8bc13b5198b8a5b8b": {
      "model_module": "@jupyter-widgets/controls",
      "model_module_version": "1.5.0",
      "model_name": "DescriptionStyleModel",
      "state": {
       "description_width": ""
      }
     },
     "e8e8813344504a0193b70d7b42e8e7f2": {
      "model_module": "@jupyter-widgets/base",
      "model_module_version": "1.2.0",
      "model_name": "LayoutModel",
      "state": {}
     },
     "e8ed4fd16b5847ce8abed9407c67bfd4": {
      "model_module": "@jupyter-widgets/controls",
      "model_module_version": "1.5.0",
      "model_name": "HTMLModel",
      "state": {
       "layout": "IPY_MODEL_15efd2e2fa704c12b2d0da01acae8f53",
       "style": "IPY_MODEL_7fb67960d4ff4b2197e1c4013671f67b",
       "value": "<a href=\"mailto: jupyter-info@icos-cp.eu\">jupyter-info@icos-cp.eu</a>"
      }
     },
     "e8f38fe69d124b27b513ccb35be81770": {
      "model_module": "@jupyter-widgets/controls",
      "model_module_version": "1.5.0",
      "model_name": "GridBoxModel",
      "state": {
       "children": [
        "IPY_MODEL_986ada70b5e04044a17e7629d93105db",
        "IPY_MODEL_1e74d0dfe1cd488388f86692ddab0dcc",
        "IPY_MODEL_20d44c602ba646abaa7697a4af13ebda",
        "IPY_MODEL_5c67173b56734c289f8ced7201b0d194",
        "IPY_MODEL_b4357962ed0c4149b7921dd11d36c161",
        "IPY_MODEL_e8ed4fd16b5847ce8abed9407c67bfd4",
        "IPY_MODEL_71a39854f7ea4ffb9e812cb0b43a5847",
        "IPY_MODEL_14032c8684b24e65b904ca8d49ecf211",
        "IPY_MODEL_e9d3b474fa3144b9ba68cf6444a5b2ef",
        "IPY_MODEL_cfbc1fa1738f4ae4ab0fae9edc0a89cf"
       ],
       "layout": "IPY_MODEL_bdaba8eb957c41f1b1c1ced608cb51a9"
      }
     },
     "e8f89af696f3444d9f7c65818152890a": {
      "model_module": "@jupyter-widgets/controls",
      "model_module_version": "1.5.0",
      "model_name": "DescriptionStyleModel",
      "state": {
       "description_width": ""
      }
     },
     "e91aa314f2ea4628b1951eff8c98b1d4": {
      "model_module": "@jupyter-widgets/controls",
      "model_module_version": "1.5.0",
      "model_name": "HTMLModel",
      "state": {
       "layout": "IPY_MODEL_f7cef77b03394c5aac3524c09a596745",
       "style": "IPY_MODEL_dac592a3457941668ecd249ce540865c",
       "value": "<b>Thumbnail: </b> "
      }
     },
     "e92257fcbad64bd59e212c3f58b3f7dd": {
      "model_module": "@jupyter-widgets/controls",
      "model_module_version": "1.5.0",
      "model_name": "GridBoxModel",
      "state": {
       "children": [
        "IPY_MODEL_3b355ecc1ce3483d93ec1622a48b5bf2",
        "IPY_MODEL_4500bfcdc1c84d0db5b6cc4ad5b5a94c",
        "IPY_MODEL_46b7284ebf584d1f8685f5f7c7a7fa18",
        "IPY_MODEL_f1769efb296346c6806cc5615ec025a0",
        "IPY_MODEL_0faf3432554242318f80aaf0b1222528",
        "IPY_MODEL_b503594c2c3f4cf7b46a61b62ed01a4e",
        "IPY_MODEL_fe1d3f6e1dea4e7b85134df13fc2eb95",
        "IPY_MODEL_ae85d0accdb947c7a3323159f6c16eb2",
        "IPY_MODEL_b3935bc930d14ecb80b9c939ce6eac15",
        "IPY_MODEL_9f57343186bf41c7ac8d6f5f1674f339"
       ],
       "layout": "IPY_MODEL_8515cf755d8d49668f69fb88293b0e9c"
      }
     },
     "e92a2eada2a8456caeab6c5751203492": {
      "model_module": "@jupyter-widgets/base",
      "model_module_version": "1.2.0",
      "model_name": "LayoutModel",
      "state": {}
     },
     "e933e5b65a574f3b87061e86ba6f402d": {
      "model_module": "@jupyter-widgets/controls",
      "model_module_version": "1.5.0",
      "model_name": "HTMLModel",
      "state": {
       "layout": "IPY_MODEL_0bf1edbe83dd4f44b0525108637b530c",
       "style": "IPY_MODEL_f7ff12b26e4f47dba445b70de1b79240",
       "value": "<a href=\"mailto: jupyter-info@icos-cp.eu\">jupyter-info@icos-cp.eu</a>"
      }
     },
     "e99fbad7b0cb4186af2791208f9934bf": {
      "model_module": "@jupyter-widgets/base",
      "model_module_version": "1.2.0",
      "model_name": "LayoutModel",
      "state": {}
     },
     "e9ab4586730d438f8a06e64d377a4334": {
      "model_module": "@jupyter-widgets/controls",
      "model_module_version": "1.5.0",
      "model_name": "HTMLModel",
      "state": {
       "layout": "IPY_MODEL_43f8c4d2a5c946768daec921b67b2288",
       "style": "IPY_MODEL_5ebdca5f1f71470cbf24efd3e9398bea",
       "value": "<b>Title: </b> "
      }
     },
     "e9ae1590ab4c4da182d94c036c18fc11": {
      "model_module": "@jupyter-widgets/controls",
      "model_module_version": "1.5.0",
      "model_name": "DescriptionStyleModel",
      "state": {
       "description_width": ""
      }
     },
     "e9bb81715fc84e1f912c27d523f4cc5f": {
      "model_module": "@jupyter-widgets/base",
      "model_module_version": "1.2.0",
      "model_name": "LayoutModel",
      "state": {}
     },
     "e9bc122edc1e43ef9751369685d22f7e": {
      "model_module": "@jupyter-widgets/controls",
      "model_module_version": "1.5.0",
      "model_name": "HTMLModel",
      "state": {
       "layout": "IPY_MODEL_34126771125647c68876e1afbdf0034f",
       "style": "IPY_MODEL_23da910982d944158236ad2ebb1b0ae2",
       "value": "<b>Contact: </b> "
      }
     },
     "e9c991073a904992b9a73c0b4d0eb409": {
      "model_module": "@jupyter-widgets/base",
      "model_module_version": "1.2.0",
      "model_name": "LayoutModel",
      "state": {}
     },
     "e9d3b474fa3144b9ba68cf6444a5b2ef": {
      "model_module": "@jupyter-widgets/controls",
      "model_module_version": "1.5.0",
      "model_name": "HTMLModel",
      "state": {
       "layout": "IPY_MODEL_b75a6145ed6e48509ca4f57b62d751fe",
       "style": "IPY_MODEL_8bb48bee400b47a398e03675128da7ee",
       "value": "<b>Thumbnail: </b> "
      }
     },
     "ea00f4f8d4e34a2790f20a431770afa1": {
      "model_module": "@jupyter-widgets/base",
      "model_module_version": "1.2.0",
      "model_name": "LayoutModel",
      "state": {}
     },
     "ea25726d612949a88692eea15b59a970": {
      "model_module": "@jupyter-widgets/controls",
      "model_module_version": "1.5.0",
      "model_name": "HTMLModel",
      "state": {
       "layout": "IPY_MODEL_96ded38333e04fcc845ce22dc956df9d",
       "style": "IPY_MODEL_493c7ab3949f495e913879bbe61327e0",
       "value": "<a href=./project_jupyter_notebooks/OTC%20Data%20Reduction%20Workshop/Data%20Reduction%20part%203%20-%20%20pCO2%20sensor.ipynb target='_blank'>pCO₂ Data Reduction part 3 - sensor data</a>"
      }
     },
     "ea29e67c4beb42039bd6ebd67085ecfb": {
      "model_module": "@jupyter-widgets/controls",
      "model_module_version": "1.5.0",
      "model_name": "DescriptionStyleModel",
      "state": {
       "description_width": ""
      }
     },
     "ea3a9eeee4824f1b8faf014bf7bece69": {
      "model_module": "@jupyter-widgets/base",
      "model_module_version": "1.2.0",
      "model_name": "LayoutModel",
      "state": {}
     },
     "ea41c49b573b4e489fee41990a0e0d98": {
      "model_module": "@jupyter-widgets/controls",
      "model_module_version": "1.5.0",
      "model_name": "DescriptionStyleModel",
      "state": {
       "description_width": ""
      }
     },
     "ea4358f82725433aa6a124d1e1f62fd2": {
      "model_module": "@jupyter-widgets/base",
      "model_module_version": "1.2.0",
      "model_name": "LayoutModel",
      "state": {}
     },
     "ea4c621dd133406da71c5dcf9ed9a8ec": {
      "model_module": "@jupyter-widgets/controls",
      "model_module_version": "1.5.0",
      "model_name": "HTMLModel",
      "state": {
       "layout": "IPY_MODEL_1756b99612c949e3aa7023cc02896af7",
       "style": "IPY_MODEL_3924c02845f240eaae558eff284849ae",
       "value": "<img src=\"./icos_jupyter_notebooks/ind_tools/img/03_icos_JNBs/st_characterization/gui.PNG\">"
      }
     },
     "ea52002bc089443390f8790c8946866b": {
      "model_module": "@jupyter-widgets/controls",
      "model_module_version": "1.5.0",
      "model_name": "HTMLModel",
      "state": {
       "layout": "IPY_MODEL_3b638e8752b64113b5d7d4d89ef3d391",
       "style": "IPY_MODEL_dd354d3335384f2bbfd3e490d48e54df",
       "value": "<img src=\"./icos_jupyter_notebooks/ind_tools/img/05_education/phd/ucf/ex1/plot2stations.png\">"
      }
     },
     "ea7f5a8cfe664cb6a82af04d847c1c13": {
      "model_module": "@jupyter-widgets/controls",
      "model_module_version": "1.5.0",
      "model_name": "DescriptionStyleModel",
      "state": {
       "description_width": ""
      }
     },
     "ea8dfd2c804f4d54a5273a7a4520e4cd": {
      "model_module": "@jupyter-widgets/controls",
      "model_module_version": "1.5.0",
      "model_name": "HTMLModel",
      "state": {
       "layout": "IPY_MODEL_a215e433e72946eb8c7c107e22868b34",
       "style": "IPY_MODEL_8515cc1aadd24065ba6abc62a8f00d86",
       "value": "<b>GitHub: </b> "
      }
     },
     "ea8f7e68b9b94f6ba23f7aa9f3af1332": {
      "model_module": "@jupyter-widgets/base",
      "model_module_version": "1.2.0",
      "model_name": "LayoutModel",
      "state": {}
     },
     "ea97bfd8d434451caba39da8a0744f57": {
      "model_module": "@jupyter-widgets/base",
      "model_module_version": "1.2.0",
      "model_name": "LayoutModel",
      "state": {}
     },
     "eaa1ce4434af4bc9a891d70295e13332": {
      "model_module": "@jupyter-widgets/base",
      "model_module_version": "1.2.0",
      "model_name": "LayoutModel",
      "state": {
       "grid_gap": "5px 10px",
       "grid_template_columns": "100px auto",
       "grid_template_rows": "auto auto auto auto auto",
       "padding": "50px 0px 70px 0px",
       "width": "100%"
      }
     },
     "eabdd87c604b47d49050d18f28b49dd2": {
      "model_module": "@jupyter-widgets/controls",
      "model_module_version": "1.5.0",
      "model_name": "DescriptionStyleModel",
      "state": {
       "description_width": ""
      }
     },
     "eacba20b07184b64bc29d8c0bde11867": {
      "model_module": "@jupyter-widgets/base",
      "model_module_version": "1.2.0",
      "model_name": "LayoutModel",
      "state": {}
     },
     "eae09ea56025424c9ecd484c4df79180": {
      "model_module": "@jupyter-widgets/controls",
      "model_module_version": "1.5.0",
      "model_name": "DescriptionStyleModel",
      "state": {
       "description_width": ""
      }
     },
     "eae4c082dd204b4ab616626c28b0b570": {
      "model_module": "@jupyter-widgets/controls",
      "model_module_version": "1.5.0",
      "model_name": "DescriptionStyleModel",
      "state": {
       "description_width": ""
      }
     },
     "eaf62aae9b2141719b4ff7a43e93b013": {
      "model_module": "@jupyter-widgets/controls",
      "model_module_version": "1.5.0",
      "model_name": "DescriptionStyleModel",
      "state": {
       "description_width": ""
      }
     },
     "eb0a7a771819493798f6a31d4367689e": {
      "model_module": "@jupyter-widgets/controls",
      "model_module_version": "1.5.0",
      "model_name": "DescriptionStyleModel",
      "state": {
       "description_width": ""
      }
     },
     "eb189953eea341e9b9959fb86b5df099": {
      "model_module": "@jupyter-widgets/base",
      "model_module_version": "1.2.0",
      "model_name": "LayoutModel",
      "state": {}
     },
     "eb389847b03c4bae8899823f6997b74b": {
      "model_module": "@jupyter-widgets/controls",
      "model_module_version": "1.5.0",
      "model_name": "DescriptionStyleModel",
      "state": {
       "description_width": ""
      }
     },
     "eb661ddec0994959924205ab5031e70d": {
      "model_module": "@jupyter-widgets/controls",
      "model_module_version": "1.5.0",
      "model_name": "DescriptionStyleModel",
      "state": {
       "description_width": ""
      }
     },
     "eb67048050de40a5a1f02c2862dc2bb4": {
      "model_module": "@jupyter-widgets/controls",
      "model_module_version": "1.5.0",
      "model_name": "HTMLModel",
      "state": {
       "layout": "IPY_MODEL_72074108d95f4e4a8bb46dd91cbe1ab2",
       "style": "IPY_MODEL_2e0b4925d26e4c6cab02cdbbea6d35b9",
       "value": "<a href=./project_jupyter_notebooks/envrifair_winterschool/map/exercise2_participant.ipynb target='_blank'>Exercise 2 - Map with workshop members</a>"
      }
     },
     "eb7962aa774f4e3fb5cc19af1ed5644e": {
      "model_module": "@jupyter-widgets/base",
      "model_module_version": "1.2.0",
      "model_name": "LayoutModel",
      "state": {
       "grid_gap": "5px 10px",
       "grid_template_columns": "100px auto",
       "grid_template_rows": "auto auto auto auto auto",
       "padding": "50px 0px 70px 0px",
       "width": "100%"
      }
     },
     "eb79a42b53b04192807a36bedb18cb84": {
      "model_module": "@jupyter-widgets/controls",
      "model_module_version": "1.5.0",
      "model_name": "HTMLModel",
      "state": {
       "layout": "IPY_MODEL_0d51f77892dd4e25973e73a0a44ed0b3",
       "style": "IPY_MODEL_b4908cd5091d401db47f27bd4931af93",
       "value": "<img src=\"./icos_jupyter_notebooks/ind_tools/img/05_education/msc_bsc/soil/co2_surface_flux.PNG\">"
      }
     },
     "eb8314f078f34698b354cfd4cab6f6a3": {
      "model_module": "@jupyter-widgets/controls",
      "model_module_version": "1.5.0",
      "model_name": "DescriptionStyleModel",
      "state": {
       "description_width": ""
      }
     },
     "eb83a55579204e14967ea7952576dc68": {
      "model_module": "@jupyter-widgets/controls",
      "model_module_version": "1.5.0",
      "model_name": "GridBoxModel",
      "state": {
       "children": [
        "IPY_MODEL_13765e34f82140b1aed4439ef47f3e81",
        "IPY_MODEL_0490e8cb9a1a4398b092769f0a3086f9",
        "IPY_MODEL_e1bbaa6dfa3341199c369687e04d0fc2",
        "IPY_MODEL_9b0b0f69c47e4a6d879a52f857601830",
        "IPY_MODEL_a774f92e882d49bf97d5523cc4e22f40",
        "IPY_MODEL_8fac6f9ba9374ab289a64f2097224d90",
        "IPY_MODEL_79540a08fbbf4499aaa8608c25e4e0cc",
        "IPY_MODEL_9da0797d9a054d9b979c2121eb6754cc",
        "IPY_MODEL_f64baf64efa2453f932034a300e5dd60",
        "IPY_MODEL_a5f673747e4e4e2daa08470c8664a3a4"
       ],
       "layout": "IPY_MODEL_09f885155f504dd3adb54faa07413e98"
      }
     },
     "eb83b4e6fc644d4e8a95457951a94a06": {
      "model_module": "@jupyter-widgets/base",
      "model_module_version": "1.2.0",
      "model_name": "LayoutModel",
      "state": {
       "grid_gap": "5px 10px",
       "grid_template_columns": "100px auto",
       "grid_template_rows": "auto auto auto auto auto",
       "padding": "50px 0px 70px 0px",
       "width": "100%"
      }
     },
     "ebd55529ab634d42807ea8c6c51622bc": {
      "model_module": "@jupyter-widgets/controls",
      "model_module_version": "1.5.0",
      "model_name": "HTMLModel",
      "state": {
       "layout": "IPY_MODEL_cd4ccf1109a44451a0ada8724701c766",
       "style": "IPY_MODEL_76734209fdf344a087c74ca12778528c",
       "value": "<b>Contact: </b> "
      }
     },
     "ebfb35ff34c448589d610daefd35d8f1": {
      "model_module": "@jupyter-widgets/controls",
      "model_module_version": "1.5.0",
      "model_name": "HTMLModel",
      "state": {
       "layout": "IPY_MODEL_c2842e19cece4e6aa1bb35e521e00f28",
       "style": "IPY_MODEL_b07685bdf3364ea690777d6f9ab98eeb",
       "value": "<a href=\"mailto: jupyter-info@icos-cp.eu\">jupyter-info@icos-cp.eu</a>"
      }
     },
     "ec01626a97c949508a29e9391ff56b5e": {
      "model_module": "@jupyter-widgets/base",
      "model_module_version": "1.2.0",
      "model_name": "LayoutModel",
      "state": {}
     },
     "ec19093a09634eecab5376a893841a26": {
      "model_module": "@jupyter-widgets/controls",
      "model_module_version": "1.5.0",
      "model_name": "DescriptionStyleModel",
      "state": {
       "description_width": ""
      }
     },
     "ec2dabc7cc4c4ad69652c95318116b89": {
      "model_module": "@jupyter-widgets/controls",
      "model_module_version": "1.5.0",
      "model_name": "HTMLModel",
      "state": {
       "layout": "IPY_MODEL_44fe338ee1924a78b3ad3c31af3910e2",
       "style": "IPY_MODEL_07d81cb26e224b8fa19655cc8a3f0027",
       "value": "<img src=\"./icos_jupyter_notebooks/ind_tools/img/02_pylib_ex/ex6b.PNG\">"
      }
     },
     "ec3c957babc74c58b0b9e4ea3499849e": {
      "model_module": "@jupyter-widgets/controls",
      "model_module_version": "1.5.0",
      "model_name": "DescriptionStyleModel",
      "state": {
       "description_width": ""
      }
     },
     "ec72471ff3ad4344b51df8c405c06426": {
      "model_module": "@jupyter-widgets/controls",
      "model_module_version": "1.5.0",
      "model_name": "DescriptionStyleModel",
      "state": {
       "description_width": ""
      }
     },
     "ec87983fb8d24559a1fd5182bfb283a8": {
      "model_module": "@jupyter-widgets/controls",
      "model_module_version": "1.5.0",
      "model_name": "HTMLModel",
      "state": {
       "layout": "IPY_MODEL_740d24eba48c4a80a9370a9b06a2ff0b",
       "style": "IPY_MODEL_0f0abc51ed994fdca9392f24c8df85c6",
       "value": "<a href=./project_jupyter_notebooks/OTC%20Data%20Reduction%20Workshop/Data%20Reduction%20part%203%20-%20%20pCO2%20sensor.ipynb target='_blank'>pCO₂ Data Reduction part 3 - sensor data</a>"
      }
     },
     "ecad19b18c1843b681f04696d7d66683": {
      "model_module": "@jupyter-widgets/base",
      "model_module_version": "1.2.0",
      "model_name": "LayoutModel",
      "state": {}
     },
     "ecaefdfccf8447dca1ed014a03b626d4": {
      "model_module": "@jupyter-widgets/controls",
      "model_module_version": "1.5.0",
      "model_name": "HTMLModel",
      "state": {
       "layout": "IPY_MODEL_0a6c7e73c18c4a189435f35a71f9ea53",
       "style": "IPY_MODEL_0caefc927d2a4c6099686d18544c3482",
       "value": "<b>GitHub: </b> "
      }
     },
     "ecd0c512a5a64df580e843b731f1de32": {
      "model_module": "@jupyter-widgets/base",
      "model_module_version": "1.2.0",
      "model_name": "LayoutModel",
      "state": {}
     },
     "ed27ebba533642a7876abc76c3b00e1f": {
      "model_module": "@jupyter-widgets/controls",
      "model_module_version": "1.5.0",
      "model_name": "HTMLModel",
      "state": {
       "layout": "IPY_MODEL_2db38c58de3b41ff8440c9108102189d",
       "style": "IPY_MODEL_a35266390fe84d16a2bce6249cc5b589",
       "value": "<b>Contact: </b> "
      }
     },
     "ed484dab03904298b4565ec062ed1f2c": {
      "model_module": "@jupyter-widgets/controls",
      "model_module_version": "1.5.0",
      "model_name": "HTMLModel",
      "state": {
       "layout": "IPY_MODEL_0f975644e8924d5fbd965011dc591303",
       "style": "IPY_MODEL_1fd40eb03e9846f8aad7fbbaf266331e",
       "value": "<b>Thumbnail: </b> "
      }
     },
     "ed532a8a6e9a4ef987c222af0b96706b": {
      "model_module": "@jupyter-widgets/controls",
      "model_module_version": "1.5.0",
      "model_name": "HTMLModel",
      "state": {
       "layout": "IPY_MODEL_a86dd44c3fb94536adf85352a4d468e5",
       "style": "IPY_MODEL_614cc64358ae4ea69b4308209b5adb5b",
       "value": "<a href='https://github.com/ICOS-Carbon-Portal/jupyter/issues' target='_blank'>Click here to report an issue</a>"
      }
     },
     "ed69defb25ca46bca21ab86cf6160120": {
      "model_module": "@jupyter-widgets/controls",
      "model_module_version": "1.5.0",
      "model_name": "DescriptionStyleModel",
      "state": {
       "description_width": ""
      }
     },
     "ed7f93c3d0a0498b9d638e8e6fdb859b": {
      "model_module": "@jupyter-widgets/controls",
      "model_module_version": "1.5.0",
      "model_name": "DescriptionStyleModel",
      "state": {
       "description_width": ""
      }
     },
     "edab23f2db4747c497b07b4938a1a5d7": {
      "model_module": "@jupyter-widgets/controls",
      "model_module_version": "1.5.0",
      "model_name": "HTMLModel",
      "state": {
       "layout": "IPY_MODEL_4440388fed9347b58ac41103c701b819",
       "style": "IPY_MODEL_a47bfdd04d8a4ae28ff745b35772b4a1",
       "value": "<a href='https://github.com/ICOS-Carbon-Portal/jupyter/issues' target='_blank'>Click here to report an issue</a>"
      }
     },
     "edd094e184444e64b9831774372a89ca": {
      "model_module": "@jupyter-widgets/controls",
      "model_module_version": "1.5.0",
      "model_name": "GridBoxModel",
      "state": {
       "children": [
        "IPY_MODEL_6e6ade57697d49c69262a79822cbf840",
        "IPY_MODEL_49d7ca6101e34549b3551ff8786fc648",
        "IPY_MODEL_1833e59e4c7a47e3a8798ef05540bc44",
        "IPY_MODEL_1b0e9b28a5c94066bd970f686dd58c63",
        "IPY_MODEL_075ba369b9e3418daa7f12d2026ef9fd",
        "IPY_MODEL_02c19386c8b145c9a837f61b25a0f514",
        "IPY_MODEL_8c7ed78df2304e999fe591d191940a58",
        "IPY_MODEL_8f60665f36224c098a687f5a2fbc8ed0",
        "IPY_MODEL_73bbb58ab0f94d4c9b090b41503a9220",
        "IPY_MODEL_937bc0a36e6647fd941715f5ef60fc28"
       ],
       "layout": "IPY_MODEL_78f4d22f5ef94c33b388b451bdb82cad"
      }
     },
     "edd36b5384ef40b78fd873b9ceea071e": {
      "model_module": "@jupyter-widgets/base",
      "model_module_version": "1.2.0",
      "model_name": "LayoutModel",
      "state": {}
     },
     "edd462060550462bb04d743a0166e351": {
      "model_module": "@jupyter-widgets/controls",
      "model_module_version": "1.5.0",
      "model_name": "HTMLModel",
      "state": {
       "layout": "IPY_MODEL_831f9c900556449a98a18c234b11f5bb",
       "style": "IPY_MODEL_cd8c68c3464f4b3ca25aab957a915019",
       "value": "<b>Title: </b> "
      }
     },
     "edd6719865b04f7ba5d828fbbfdf3604": {
      "model_module": "@jupyter-widgets/base",
      "model_module_version": "1.2.0",
      "model_name": "LayoutModel",
      "state": {}
     },
     "ede59486981049c788c2928b27d785f6": {
      "model_module": "@jupyter-widgets/base",
      "model_module_version": "1.2.0",
      "model_name": "LayoutModel",
      "state": {}
     },
     "ee026ee894cd414b85353d0c4d746bd0": {
      "model_module": "@jupyter-widgets/base",
      "model_module_version": "1.2.0",
      "model_name": "LayoutModel",
      "state": {}
     },
     "ee2945d4fbdb4e7eba5f7dfefbe51fc1": {
      "model_module": "@jupyter-widgets/controls",
      "model_module_version": "1.5.0",
      "model_name": "DescriptionStyleModel",
      "state": {
       "description_width": ""
      }
     },
     "ee37348477ad48f2a30c30674d2b0882": {
      "model_module": "@jupyter-widgets/base",
      "model_module_version": "1.2.0",
      "model_name": "LayoutModel",
      "state": {}
     },
     "ee42052aa050420da1b4c2097ce22dc4": {
      "model_module": "@jupyter-widgets/base",
      "model_module_version": "1.2.0",
      "model_name": "LayoutModel",
      "state": {}
     },
     "ee4740325b644a3d95f7d5d27e10653a": {
      "model_module": "@jupyter-widgets/controls",
      "model_module_version": "1.5.0",
      "model_name": "DescriptionStyleModel",
      "state": {
       "description_width": ""
      }
     },
     "ee4c6d90f8ee46ad83cc5f95dc8b034a": {
      "model_module": "@jupyter-widgets/base",
      "model_module_version": "1.2.0",
      "model_name": "LayoutModel",
      "state": {}
     },
     "ee6b50a618314a5c80d42527a4e364e2": {
      "model_module": "@jupyter-widgets/controls",
      "model_module_version": "1.5.0",
      "model_name": "AccordionModel",
      "state": {
       "_titles": {
        "0": "Drought 2018",
        "1": "Soil exercise NGEN16"
       },
       "children": [
        "IPY_MODEL_692aa969f11c4376b62cd9cad5d16ea9",
        "IPY_MODEL_b1c76feab7a641788439f32549627948"
       ],
       "layout": "IPY_MODEL_b36d106ed0bc4540ba256ae785163115",
       "selected_index": null
      }
     },
     "ee7a11cf4a63433089058477bbda3d37": {
      "model_module": "@jupyter-widgets/base",
      "model_module_version": "1.2.0",
      "model_name": "LayoutModel",
      "state": {
       "grid_gap": "5px 10px",
       "grid_template_columns": "100px auto",
       "grid_template_rows": "auto auto auto auto auto",
       "padding": "50px 0px 70px 0px",
       "width": "100%"
      }
     },
     "ee7aaa17a8ea4d9fba5a0d4fc2491095": {
      "model_module": "@jupyter-widgets/controls",
      "model_module_version": "1.5.0",
      "model_name": "DescriptionStyleModel",
      "state": {
       "description_width": ""
      }
     },
     "ee82bcdd6c1348d3bcf25a61f0de49ae": {
      "model_module": "@jupyter-widgets/controls",
      "model_module_version": "1.5.0",
      "model_name": "HTMLModel",
      "state": {
       "layout": "IPY_MODEL_8b89d407149240aa936d541a12a63ed3",
       "style": "IPY_MODEL_0b1021675ba64369beb430dc9b69d2a0",
       "value": "<b>Description: </b> "
      }
     },
     "eea7d5aade07430581500736393355e8": {
      "model_module": "@jupyter-widgets/controls",
      "model_module_version": "1.5.0",
      "model_name": "DescriptionStyleModel",
      "state": {
       "description_width": ""
      }
     },
     "eec5554348fa49f7b6c15c814a549979": {
      "model_module": "@jupyter-widgets/controls",
      "model_module_version": "1.5.0",
      "model_name": "DescriptionStyleModel",
      "state": {
       "description_width": ""
      }
     },
     "eec5db079050417e84d9f4952d5fe947": {
      "model_module": "@jupyter-widgets/controls",
      "model_module_version": "1.5.0",
      "model_name": "HTMLModel",
      "state": {
       "layout": "IPY_MODEL_f69781d9f3184da0a6bcca61403f0974",
       "style": "IPY_MODEL_9b13544839354c9885a8cd2d6ec0dcda",
       "value": "<a href=\"mailto: jupyter-info@icos-cp.eu\">jupyter-info@icos-cp.eu</a>"
      }
     },
     "ef085f39bdef472c9eb0779c19ae15de": {
      "model_module": "@jupyter-widgets/controls",
      "model_module_version": "1.5.0",
      "model_name": "HTMLModel",
      "state": {
       "layout": "IPY_MODEL_21036e949a984ab1a52434f9ca6585b5",
       "style": "IPY_MODEL_965104bdff5c48b0a9991ed64cbe2e0f",
       "value": "<a href=\"mailto: jupyter-info@icos-cp.eu\">jupyter-info@icos-cp.eu</a>, <a href=\"mailto: claudio.donofrio@nateko.lu.se\">claudio.donofrio@nateko.lu.se</a>"
      }
     },
     "ef102dd97c7c4eedaa5e5fa3f64dc93f": {
      "model_module": "@jupyter-widgets/controls",
      "model_module_version": "1.5.0",
      "model_name": "HTMLModel",
      "state": {
       "layout": "IPY_MODEL_39969b7d478141388c7583435e8b91cd",
       "style": "IPY_MODEL_9c0ecba831e14c44b2b89c001fea840d",
       "value": "<a href=./education/PhD/upscaling_carbon_fluxes/notebooks/exercise3.ipynb target='_blank'>Upscaling eddy covariance GPP with remote sensing</a>"
      }
     },
     "ef1084fe20e649c5a8799295320a4aed": {
      "model_module": "@jupyter-widgets/base",
      "model_module_version": "1.2.0",
      "model_name": "LayoutModel",
      "state": {}
     },
     "ef17fed4d4b0425f9b22d02b6a4b66fa": {
      "model_module": "@jupyter-widgets/controls",
      "model_module_version": "1.5.0",
      "model_name": "HTMLModel",
      "state": {
       "layout": "IPY_MODEL_0b788e4ed8254c018ba113b20c37d51a",
       "style": "IPY_MODEL_58286e144f754aa38ffbe9c83b036adb",
       "value": "<b>Thumbnail: </b> "
      }
     },
     "ef285dfe7e994f4b8b454d61d2117986": {
      "model_module": "@jupyter-widgets/controls",
      "model_module_version": "1.5.0",
      "model_name": "DescriptionStyleModel",
      "state": {
       "description_width": ""
      }
     },
     "ef665030eed34e9aabea7e3cb7b69c92": {
      "model_module": "@jupyter-widgets/controls",
      "model_module_version": "1.5.0",
      "model_name": "HTMLModel",
      "state": {
       "layout": "IPY_MODEL_f122750e0cfc4515b64b536857e8810b",
       "style": "IPY_MODEL_79f867182d6541b9aac137b67b3a7503",
       "value": "<a href='https://github.com/ICOS-Carbon-Portal/jupyter/issues' target='_blank'>Click here to report an issue</a>"
      }
     },
     "ef73102afd0b4646919e38ddb47b20d0": {
      "model_module": "@jupyter-widgets/base",
      "model_module_version": "1.2.0",
      "model_name": "LayoutModel",
      "state": {}
     },
     "efa512d65c6943a4ab8ea36fd26cd030": {
      "model_module": "@jupyter-widgets/controls",
      "model_module_version": "1.5.0",
      "model_name": "AccordionModel",
      "state": {
       "_titles": {
        "0": "Drought 2018 - ICOS ecosystem data from Hyltemossa",
        "1": "Drought 2018 - ICOS ecosystem data from Hyltemossa (all code visible)"
       },
       "children": [
        "IPY_MODEL_03988215efd547449b95015669e618c1",
        "IPY_MODEL_3f8785b0437d45fc8f96348fa08643cf"
       ],
       "layout": "IPY_MODEL_4c68d9eb21ea43469d60f62690eb0e12",
       "selected_index": null
      }
     },
     "efb8129b771b4be9812e92bf6bc7041e": {
      "model_module": "@jupyter-widgets/controls",
      "model_module_version": "1.5.0",
      "model_name": "DescriptionStyleModel",
      "state": {
       "description_width": ""
      }
     },
     "efd97e41a4b1472eb1b8b9662e18511a": {
      "model_module": "@jupyter-widgets/base",
      "model_module_version": "1.2.0",
      "model_name": "LayoutModel",
      "state": {}
     },
     "eff2728c5fcf4879a8bf2d0a7930a939": {
      "model_module": "@jupyter-widgets/controls",
      "model_module_version": "1.5.0",
      "model_name": "HTMLModel",
      "state": {
       "layout": "IPY_MODEL_8e7dec9e705c41268c9d92399c0e2f83",
       "style": "IPY_MODEL_92e59107e02e4feab3cdf8fec2ec0b52",
       "value": "<b>GitHub: </b> "
      }
     },
     "f006c645796a4b0ba77adab4ca5e5971": {
      "model_module": "@jupyter-widgets/controls",
      "model_module_version": "1.5.0",
      "model_name": "DescriptionStyleModel",
      "state": {
       "description_width": ""
      }
     },
     "f0130c9ee63440f89289b00f86878902": {
      "model_module": "@jupyter-widgets/base",
      "model_module_version": "1.2.0",
      "model_name": "LayoutModel",
      "state": {}
     },
     "f02e2652ebbc4deb94fd2d28b66c465d": {
      "model_module": "@jupyter-widgets/controls",
      "model_module_version": "1.5.0",
      "model_name": "HTMLModel",
      "state": {
       "layout": "IPY_MODEL_a1e32147e5d34f91ae966fc253757d4e",
       "style": "IPY_MODEL_f006c645796a4b0ba77adab4ca5e5971",
       "value": "<a href='https://github.com/ICOS-Carbon-Portal/jupyter/issues' target='_blank'>Click here to report an issue</a>"
      }
     },
     "f02ecc92f30d4544ae5f446836fd786e": {
      "model_module": "@jupyter-widgets/controls",
      "model_module_version": "1.5.0",
      "model_name": "DescriptionStyleModel",
      "state": {
       "description_width": ""
      }
     },
     "f03b49fbfac5420482d5db6a6fe6db29": {
      "model_module": "@jupyter-widgets/base",
      "model_module_version": "1.2.0",
      "model_name": "LayoutModel",
      "state": {
       "grid_gap": "5px 10px",
       "grid_template_columns": "100px auto",
       "grid_template_rows": "auto auto auto auto auto",
       "padding": "50px 0px 70px 0px",
       "width": "100%"
      }
     },
     "f072f1a8890a4b56bcc2e999466f401a": {
      "model_module": "@jupyter-widgets/base",
      "model_module_version": "1.2.0",
      "model_name": "LayoutModel",
      "state": {}
     },
     "f0916fbb9f9d485aba7b3afd99247555": {
      "model_module": "@jupyter-widgets/controls",
      "model_module_version": "1.5.0",
      "model_name": "AccordionModel",
      "state": {
       "_titles": {
        "0": "Exercise 1 - Create an interactive map",
        "1": "Exercise 2 - Map with workshop members",
        "2": "Exercise 3 - Research Station Map",
        "3": "Exercise 4 - Create an advanced interactive Map"
       },
       "children": [
        "IPY_MODEL_cc1ba250b9cc475aa00a92972b69481b",
        "IPY_MODEL_db16ac4c09c349ab8f19483cca0f6c4f",
        "IPY_MODEL_a289d1b92149418d860626f6733a5bc1",
        "IPY_MODEL_f6d40db62cdd4384a325887ee8477ce2"
       ],
       "layout": "IPY_MODEL_5041137aaa364eedbdcfda7bf4859391",
       "selected_index": null
      }
     },
     "f09b8265f9e44358af2f7ccac748da6b": {
      "model_module": "@jupyter-widgets/controls",
      "model_module_version": "1.5.0",
      "model_name": "HTMLModel",
      "state": {
       "layout": "IPY_MODEL_d95e767e80364e17829fb55475d9ef9a",
       "style": "IPY_MODEL_468aaea8950c4234b09244f695a4acc7",
       "value": "<a href='https://github.com/ICOS-Carbon-Portal/jupyter/issues' target='_blank'>Click here to report an issue</a>"
      }
     },
     "f0af5e7cb2ab460e8f1bdc95b4cf38bc": {
      "model_module": "@jupyter-widgets/controls",
      "model_module_version": "1.5.0",
      "model_name": "HTMLModel",
      "state": {
       "layout": "IPY_MODEL_47ceeb43a3274203a34551162415e016",
       "style": "IPY_MODEL_b5d0639173d046d780460f1352fac9ec",
       "value": "This Jupyter notebook supports the selection of an appropriate CO-offset threshold to identify events with potentially high fossil fuel CO2 contribution based on:<br><br>i. <a href='https://www.icos-cp.eu/data-products' target='_blank'>ICOS measurement time series</a> (ICOS release and NRT) for all ICOS atmospheric stations and <br>ii. <a href='https://www.icos-cp.eu/data-services/tools/stilt-footprint' target='_blank'>STILT footprints</a> and concentration time series (for selected stations only)"
      }
     },
     "f0c15c0bb7e44fb392f63310ed1ab2fd": {
      "model_module": "@jupyter-widgets/controls",
      "model_module_version": "1.5.0",
      "model_name": "HTMLModel",
      "state": {
       "layout": "IPY_MODEL_e92a2eada2a8456caeab6c5751203492",
       "style": "IPY_MODEL_7fa6472026df48ae83dab2d63f7ecc7e",
       "value": "<a href=./education/PhD/upscaling_carbon_fluxes/notebooks/Station_example.ipynb target='_blank'>Station example</a>"
      }
     },
     "f0d39c7c869842328526da84a12f6827": {
      "model_module": "@jupyter-widgets/controls",
      "model_module_version": "1.5.0",
      "model_name": "HTMLModel",
      "state": {
       "layout": "IPY_MODEL_27074123279d43a4abf85e33b12826cf",
       "style": "IPY_MODEL_e4c95f15c1fe4daf831a630166d3343c",
       "value": "<b>GitHub: </b> "
      }
     },
     "f0d5a0ea216a4a54a419f524b90e8dea": {
      "model_module": "@jupyter-widgets/controls",
      "model_module_version": "1.5.0",
      "model_name": "DescriptionStyleModel",
      "state": {
       "description_width": ""
      }
     },
     "f0fffb9c514848129cbcab82091e3a4b": {
      "model_module": "@jupyter-widgets/base",
      "model_module_version": "1.2.0",
      "model_name": "LayoutModel",
      "state": {}
     },
     "f11444aa3cbd4dccb49ed2afa0ceacfb": {
      "model_module": "@jupyter-widgets/controls",
      "model_module_version": "1.5.0",
      "model_name": "HTMLModel",
      "state": {
       "layout": "IPY_MODEL_28447131ac7b43dfb17178f97623f900",
       "style": "IPY_MODEL_d2244edd716649bfa60034079a950989",
       "value": "<b>GitHub: </b> "
      }
     },
     "f1212958f74541a6ac3adbe3ab143960": {
      "model_module": "@jupyter-widgets/controls",
      "model_module_version": "1.5.0",
      "model_name": "HTMLModel",
      "state": {
       "layout": "IPY_MODEL_e419f5b6f1bf453c9c85d0190d10a92f",
       "style": "IPY_MODEL_b0f2a5b2c7da4f03953e96131d65731d",
       "value": "<b>Title: </b> "
      }
     },
     "f122750e0cfc4515b64b536857e8810b": {
      "model_module": "@jupyter-widgets/base",
      "model_module_version": "1.2.0",
      "model_name": "LayoutModel",
      "state": {}
     },
     "f1238079ccf24c7aa453bec7994d4152": {
      "model_module": "@jupyter-widgets/controls",
      "model_module_version": "1.5.0",
      "model_name": "DescriptionStyleModel",
      "state": {
       "description_width": ""
      }
     },
     "f16851e0ab1347e38345070f91e7d656": {
      "model_module": "@jupyter-widgets/controls",
      "model_module_version": "1.5.0",
      "model_name": "DescriptionStyleModel",
      "state": {
       "description_width": ""
      }
     },
     "f17296bfc6684a80be7374a22844fd3b": {
      "model_module": "@jupyter-widgets/controls",
      "model_module_version": "1.5.0",
      "model_name": "DescriptionStyleModel",
      "state": {
       "description_width": ""
      }
     },
     "f1769efb296346c6806cc5615ec025a0": {
      "model_module": "@jupyter-widgets/controls",
      "model_module_version": "1.5.0",
      "model_name": "HTMLModel",
      "state": {
       "layout": "IPY_MODEL_a0c1a77579cb467689296b65bf6849fe",
       "style": "IPY_MODEL_3e5b9ab003be419ea4d55d001245cee2",
       "value": "Description missing..."
      }
     },
     "f1cd73d94278418ca9ac62f148d4b4ab": {
      "model_module": "@jupyter-widgets/base",
      "model_module_version": "1.2.0",
      "model_name": "LayoutModel",
      "state": {
       "grid_gap": "5px 10px",
       "grid_template_columns": "100px auto",
       "grid_template_rows": "auto auto auto auto auto",
       "padding": "50px 0px 70px 0px",
       "width": "100%"
      }
     },
     "f1d683bfc7a04b2d9475b982558f68c8": {
      "model_module": "@jupyter-widgets/controls",
      "model_module_version": "1.5.0",
      "model_name": "DescriptionStyleModel",
      "state": {
       "description_width": ""
      }
     },
     "f1eaa85d57af4584884da3cb68ebc157": {
      "model_module": "@jupyter-widgets/base",
      "model_module_version": "1.2.0",
      "model_name": "LayoutModel",
      "state": {}
     },
     "f1f8df922566487dbb1ca163a7513b06": {
      "model_module": "@jupyter-widgets/controls",
      "model_module_version": "1.5.0",
      "model_name": "DescriptionStyleModel",
      "state": {
       "description_width": ""
      }
     },
     "f1faffc7196f401bb716b3097ef365de": {
      "model_module": "@jupyter-widgets/base",
      "model_module_version": "1.2.0",
      "model_name": "LayoutModel",
      "state": {}
     },
     "f225742f478340369756c8d87cefd803": {
      "model_module": "@jupyter-widgets/base",
      "model_module_version": "1.2.0",
      "model_name": "LayoutModel",
      "state": {}
     },
     "f22dd521d5b04d24a3b50fb939c27632": {
      "model_module": "@jupyter-widgets/base",
      "model_module_version": "1.2.0",
      "model_name": "LayoutModel",
      "state": {}
     },
     "f230468987974b1ab8002d3dfa809ff6": {
      "model_module": "@jupyter-widgets/controls",
      "model_module_version": "1.5.0",
      "model_name": "DescriptionStyleModel",
      "state": {
       "description_width": ""
      }
     },
     "f23a65bd11c348b9b54b804ed402d7d8": {
      "model_module": "@jupyter-widgets/controls",
      "model_module_version": "1.5.0",
      "model_name": "HTMLModel",
      "state": {
       "layout": "IPY_MODEL_f7eb751cb05d4f2eaa9a8d2bc5e36ae3",
       "style": "IPY_MODEL_d4637e81d1c74551abdbdbf10fed5d7b",
       "value": "<b>Description: </b> "
      }
     },
     "f27487fca9dd47638178a7078889f55d": {
      "model_module": "@jupyter-widgets/controls",
      "model_module_version": "1.5.0",
      "model_name": "DescriptionStyleModel",
      "state": {
       "description_width": ""
      }
     },
     "f2a36b80b75e47879dbacf2c25417892": {
      "model_module": "@jupyter-widgets/base",
      "model_module_version": "1.2.0",
      "model_name": "LayoutModel",
      "state": {}
     },
     "f2bc0195986046ce9c4020d53c208131": {
      "model_module": "@jupyter-widgets/controls",
      "model_module_version": "1.5.0",
      "model_name": "DescriptionStyleModel",
      "state": {
       "description_width": ""
      }
     },
     "f2cc841cf50e4c6f8e566f177bf31aec": {
      "model_module": "@jupyter-widgets/base",
      "model_module_version": "1.2.0",
      "model_name": "LayoutModel",
      "state": {
       "grid_gap": "5px 10px",
       "grid_template_columns": "100px auto",
       "grid_template_rows": "auto auto auto auto auto",
       "padding": "50px 0px 70px 0px",
       "width": "100%"
      }
     },
     "f2dbcb9710834bfda93fa9554e7d1a2d": {
      "model_module": "@jupyter-widgets/controls",
      "model_module_version": "1.5.0",
      "model_name": "DescriptionStyleModel",
      "state": {
       "description_width": ""
      }
     },
     "f32e121769cb4dae8a03f93f7e6b8552": {
      "model_module": "@jupyter-widgets/controls",
      "model_module_version": "1.5.0",
      "model_name": "HTMLModel",
      "state": {
       "layout": "IPY_MODEL_1256e46a55ac4d80bf9858b154711b7e",
       "style": "IPY_MODEL_7a624bb9fe2f4fc092aca52e2d241d8e",
       "value": "<b>Thumbnail: </b> "
      }
     },
     "f34199231c9447d3a6909c4ce109b83e": {
      "model_module": "@jupyter-widgets/controls",
      "model_module_version": "1.5.0",
      "model_name": "DescriptionStyleModel",
      "state": {
       "description_width": ""
      }
     },
     "f35c86c026cf46cf820e518bdd709878": {
      "model_module": "@jupyter-widgets/controls",
      "model_module_version": "1.5.0",
      "model_name": "DescriptionStyleModel",
      "state": {
       "description_width": ""
      }
     },
     "f362216cab0643eaab2996c9f3cbeecf": {
      "model_module": "@jupyter-widgets/controls",
      "model_module_version": "1.5.0",
      "model_name": "DescriptionStyleModel",
      "state": {
       "description_width": ""
      }
     },
     "f3a66f24ed83446ea953de7579cbfb04": {
      "model_module": "@jupyter-widgets/controls",
      "model_module_version": "1.5.0",
      "model_name": "DescriptionStyleModel",
      "state": {
       "description_width": ""
      }
     },
     "f3b098c4859443a4a1dd052df67ce964": {
      "model_module": "@jupyter-widgets/base",
      "model_module_version": "1.2.0",
      "model_name": "LayoutModel",
      "state": {}
     },
     "f3ca4d6d77b24c818c791bebbe371a73": {
      "model_module": "@jupyter-widgets/base",
      "model_module_version": "1.2.0",
      "model_name": "LayoutModel",
      "state": {}
     },
     "f3d2a1fff8c04052ab0330118e5e773f": {
      "model_module": "@jupyter-widgets/base",
      "model_module_version": "1.2.0",
      "model_name": "LayoutModel",
      "state": {}
     },
     "f3d78f7b3c5c4c96ae5c79eb440c1f94": {
      "model_module": "@jupyter-widgets/controls",
      "model_module_version": "1.5.0",
      "model_name": "HTMLModel",
      "state": {
       "layout": "IPY_MODEL_57c19b54690c416db9d64531f2318644",
       "style": "IPY_MODEL_9bbf413af6a242138a605a461d821bd4",
       "value": "<b>Thumbnail: </b> "
      }
     },
     "f3e0aa13aacd48bf9cb84adfc7a00c35": {
      "model_module": "@jupyter-widgets/base",
      "model_module_version": "1.2.0",
      "model_name": "LayoutModel",
      "state": {}
     },
     "f3e9aa5f9b524d238380acec72ec1c14": {
      "model_module": "@jupyter-widgets/controls",
      "model_module_version": "1.5.0",
      "model_name": "HTMLModel",
      "state": {
       "layout": "IPY_MODEL_dc636c5e1d56417c855e627c35d9d4ab",
       "style": "IPY_MODEL_190f379746424368b3fd8de4ac104c3e",
       "value": "<b>GitHub: </b> "
      }
     },
     "f3eb3699515f4c21817a7b1be88ac542": {
      "model_module": "@jupyter-widgets/base",
      "model_module_version": "1.2.0",
      "model_name": "LayoutModel",
      "state": {}
     },
     "f3eb3bda52594f4eb3b905b6d8c4fa4b": {
      "model_module": "@jupyter-widgets/controls",
      "model_module_version": "1.5.0",
      "model_name": "HTMLModel",
      "state": {
       "layout": "IPY_MODEL_7f243093e33c43588e46524d7794b8ea",
       "style": "IPY_MODEL_baddbe27bb2d4836be59d19b57774ed7",
       "value": "<b>Contact: </b> "
      }
     },
     "f4151279dbf74e69940cc9f61c5e71d6": {
      "model_module": "@jupyter-widgets/controls",
      "model_module_version": "1.5.0",
      "model_name": "DescriptionStyleModel",
      "state": {
       "description_width": ""
      }
     },
     "f43818429cdb4621a4ef85c8f3444e97": {
      "model_module": "@jupyter-widgets/base",
      "model_module_version": "1.2.0",
      "model_name": "LayoutModel",
      "state": {}
     },
     "f43aa6ca6f884b60ac4ea6f5d823371e": {
      "model_module": "@jupyter-widgets/base",
      "model_module_version": "1.2.0",
      "model_name": "LayoutModel",
      "state": {}
     },
     "f4423e62630644f7891310a4882abd13": {
      "model_module": "@jupyter-widgets/controls",
      "model_module_version": "1.5.0",
      "model_name": "AccordionModel",
      "state": {
       "_titles": {
        "0": "Jupyter notebook for selecting high fossil fuel CO2 events at ICOS stations",
        "1": "Jupyter Notebook for RINGO Task 1.3"
       },
       "children": [
        "IPY_MODEL_b9dac9c01e7b4dd782425a10edbfa800",
        "IPY_MODEL_1ac032adeebe49d9b4f18114eff8605f"
       ],
       "layout": "IPY_MODEL_dcafb39913e3435d9130457600e24f78",
       "selected_index": null
      }
     },
     "f44d4e76abed4cd48bdd9ec775b16a10": {
      "model_module": "@jupyter-widgets/controls",
      "model_module_version": "1.5.0",
      "model_name": "DescriptionStyleModel",
      "state": {
       "description_width": ""
      }
     },
     "f45906094fe74a03bbf259f886fd1d77": {
      "model_module": "@jupyter-widgets/controls",
      "model_module_version": "1.5.0",
      "model_name": "HTMLModel",
      "state": {
       "layout": "IPY_MODEL_b81661aa6eb145d8b8a83ae04197ba71",
       "style": "IPY_MODEL_00e83a83a9054a0ba9548fc1992cd371",
       "value": "Based on a javascript library, <a href='https://leafletjs.com/' target='_blank'>leaflet</a>, a python interface is available, called <a href='https://python-visualization.github.io/folium/' target='_blank'>folium</a>. We will use this library to set up an interactive map with different basemaps and plugin-ins like measurement tools or full-screen view. We will also write a function to 'prettify' the html-content in the popup message"
      }
     },
     "f459324908fb4415b717e2f7de961d36": {
      "model_module": "@jupyter-widgets/controls",
      "model_module_version": "1.5.0",
      "model_name": "DescriptionStyleModel",
      "state": {
       "description_width": ""
      }
     },
     "f45dbd1c94cc42339cfd763256de5efb": {
      "model_module": "@jupyter-widgets/base",
      "model_module_version": "1.2.0",
      "model_name": "LayoutModel",
      "state": {}
     },
     "f46985a446ef4a54b93769d8d2908465": {
      "model_module": "@jupyter-widgets/base",
      "model_module_version": "1.2.0",
      "model_name": "LayoutModel",
      "state": {}
     },
     "f46fd6c0f2594680adc16d19d369f509": {
      "model_module": "@jupyter-widgets/controls",
      "model_module_version": "1.5.0",
      "model_name": "GridBoxModel",
      "state": {
       "children": [
        "IPY_MODEL_88a5c791812348a8ac4ba159aa737127",
        "IPY_MODEL_bc72b47a62dd44e0ab785e8e82c2fb13",
        "IPY_MODEL_71bb378f08ca4d6da1f089418bd7fb7b",
        "IPY_MODEL_45f02a5f849240b18a6d6c95e6101dc0",
        "IPY_MODEL_b0cd9b52a6454aac92ee3039e4693f20",
        "IPY_MODEL_2b7995efcf6d464f838a793b0f81ed12",
        "IPY_MODEL_c273127efe5547a29385e69d6f789ff1",
        "IPY_MODEL_15541ce1a15045b3866f4abf43e60b32",
        "IPY_MODEL_2d93b90b9d114d5aa73ef89aabfb71c8",
        "IPY_MODEL_04785a6f78214a42ab0cb3dd7fd1ee61"
       ],
       "layout": "IPY_MODEL_f1cd73d94278418ca9ac62f148d4b4ab"
      }
     },
     "f4a036cfadbe4ae68f1f284d3b2f79eb": {
      "model_module": "@jupyter-widgets/controls",
      "model_module_version": "1.5.0",
      "model_name": "HTMLModel",
      "state": {
       "layout": "IPY_MODEL_8e14abaa4be04a058a9d8f7272356e79",
       "style": "IPY_MODEL_f230468987974b1ab8002d3dfa809ff6",
       "value": "<b>Thumbnail: </b> "
      }
     },
     "f4adfc52a61d465c934391355b5ef2ea": {
      "model_module": "@jupyter-widgets/controls",
      "model_module_version": "1.5.0",
      "model_name": "DescriptionStyleModel",
      "state": {
       "description_width": ""
      }
     },
     "f512432ee33f4140a02c287d8d81c214": {
      "model_module": "@jupyter-widgets/controls",
      "model_module_version": "1.5.0",
      "model_name": "DescriptionStyleModel",
      "state": {
       "description_width": ""
      }
     },
     "f542b64f0c0f4ee0a5d261a45622b2d6": {
      "model_module": "@jupyter-widgets/base",
      "model_module_version": "1.2.0",
      "model_name": "LayoutModel",
      "state": {}
     },
     "f54eed8db78644d69e4ea7fe409cfcf9": {
      "model_module": "@jupyter-widgets/controls",
      "model_module_version": "1.5.0",
      "model_name": "DescriptionStyleModel",
      "state": {
       "description_width": ""
      }
     },
     "f54f731bd79344bda2203e8e601a34b2": {
      "model_module": "@jupyter-widgets/base",
      "model_module_version": "1.2.0",
      "model_name": "LayoutModel",
      "state": {}
     },
     "f565eb7d20874e4f90e03f423ecea3b1": {
      "model_module": "@jupyter-widgets/controls",
      "model_module_version": "1.5.0",
      "model_name": "GridBoxModel",
      "state": {
       "children": [
        "IPY_MODEL_a27fb7c7fa6d45c6a036312be4075495",
        "IPY_MODEL_7544caa5531a49caad47afc415b0cf5d"
       ],
       "layout": "IPY_MODEL_e3d6229160664e349f1b565706430182"
      }
     },
     "f56a280315a94e5d98e6870f22821c7f": {
      "model_module": "@jupyter-widgets/controls",
      "model_module_version": "1.5.0",
      "model_name": "DescriptionStyleModel",
      "state": {
       "description_width": ""
      }
     },
     "f572d8e476964eb5afbf0826999f73bd": {
      "model_module": "@jupyter-widgets/base",
      "model_module_version": "1.2.0",
      "model_name": "LayoutModel",
      "state": {}
     },
     "f5a43406c81a406e8a2e0adfbf0f8f11": {
      "model_module": "@jupyter-widgets/base",
      "model_module_version": "1.2.0",
      "model_name": "LayoutModel",
      "state": {}
     },
     "f5bddb05d57741c1a1cb16de50a547f0": {
      "model_module": "@jupyter-widgets/controls",
      "model_module_version": "1.5.0",
      "model_name": "HTMLModel",
      "state": {
       "layout": "IPY_MODEL_f54f731bd79344bda2203e8e601a34b2",
       "style": "IPY_MODEL_dc8e6e9b38434508979d093e8fb65ba4",
       "value": "<a href=\"mailto: jupyter-info@icos-cp.eu\">jupyter-info@icos-cp.eu</a>, <a href=\"mailto: lars.harrie@nateko.lu.se\">lars.harrie@nateko.lu.se</a>, <a href=\"mailto: Maj-Lena.Linderson@nateko.lu.se\">Maj-Lena.Linderson@nateko.lu.se</a>"
      }
     },
     "f5ce2164929446788b69b6d56a20a5f6": {
      "model_module": "@jupyter-widgets/controls",
      "model_module_version": "1.5.0",
      "model_name": "DescriptionStyleModel",
      "state": {
       "description_width": ""
      }
     },
     "f5e5a8c6ffe044288d2ee7c14337188c": {
      "model_module": "@jupyter-widgets/base",
      "model_module_version": "1.2.0",
      "model_name": "LayoutModel",
      "state": {
       "grid_gap": "5px 10px",
       "grid_template_columns": "100px auto",
       "grid_template_rows": "auto auto auto auto auto",
       "padding": "50px 0px 70px 0px",
       "width": "100%"
      }
     },
     "f5e9187a55494bc9b172d180cb9987a8": {
      "model_module": "@jupyter-widgets/base",
      "model_module_version": "1.2.0",
      "model_name": "LayoutModel",
      "state": {}
     },
     "f6115bbd59fb4465aefd76bf27743f01": {
      "model_module": "@jupyter-widgets/base",
      "model_module_version": "1.2.0",
      "model_name": "LayoutModel",
      "state": {}
     },
     "f6154ec866934d9d8b1b23a3baee6d43": {
      "model_module": "@jupyter-widgets/controls",
      "model_module_version": "1.5.0",
      "model_name": "HTMLModel",
      "state": {
       "layout": "IPY_MODEL_825c44ad41914e3ab8a2bcc6f78a12bb",
       "style": "IPY_MODEL_f16851e0ab1347e38345070f91e7d656",
       "value": "<b>Description: </b> "
      }
     },
     "f6254225094244908738ffbe6d079f69": {
      "model_module": "@jupyter-widgets/base",
      "model_module_version": "1.2.0",
      "model_name": "LayoutModel",
      "state": {}
     },
     "f64aa81ac44149539c4c14e082157c35": {
      "model_module": "@jupyter-widgets/base",
      "model_module_version": "1.2.0",
      "model_name": "LayoutModel",
      "state": {}
     },
     "f64baf64efa2453f932034a300e5dd60": {
      "model_module": "@jupyter-widgets/controls",
      "model_module_version": "1.5.0",
      "model_name": "HTMLModel",
      "state": {
       "layout": "IPY_MODEL_5601ef3dfe5e4ba18917e9a823194335",
       "style": "IPY_MODEL_bb9a3f0ed4a34da4a712abf0c37a6ccd",
       "value": "<b>Thumbnail: </b> "
      }
     },
     "f6804814a90843efa7a7ad8b500c623b": {
      "model_module": "@jupyter-widgets/base",
      "model_module_version": "1.2.0",
      "model_name": "LayoutModel",
      "state": {}
     },
     "f683386dfddd43f4bff68ca08a2eb50b": {
      "model_module": "@jupyter-widgets/base",
      "model_module_version": "1.2.0",
      "model_name": "LayoutModel",
      "state": {}
     },
     "f68f596b0ef54db3b07e312bc578b72f": {
      "model_module": "@jupyter-widgets/controls",
      "model_module_version": "1.5.0",
      "model_name": "DescriptionStyleModel",
      "state": {
       "description_width": ""
      }
     },
     "f69781d9f3184da0a6bcca61403f0974": {
      "model_module": "@jupyter-widgets/base",
      "model_module_version": "1.2.0",
      "model_name": "LayoutModel",
      "state": {}
     },
     "f6aa40d276f34c1bbf20de6378314aac": {
      "model_module": "@jupyter-widgets/base",
      "model_module_version": "1.2.0",
      "model_name": "LayoutModel",
      "state": {}
     },
     "f6c248f47e51478abbcab8e3eea2d354": {
      "model_module": "@jupyter-widgets/base",
      "model_module_version": "1.2.0",
      "model_name": "LayoutModel",
      "state": {}
     },
     "f6ce49f606f84174b3c00e787f1f8f83": {
      "model_module": "@jupyter-widgets/base",
      "model_module_version": "1.2.0",
      "model_name": "LayoutModel",
      "state": {}
     },
     "f6d2d03c93ce441db29d059cfa9f4daa": {
      "model_module": "@jupyter-widgets/base",
      "model_module_version": "1.2.0",
      "model_name": "LayoutModel",
      "state": {}
     },
     "f6d40db62cdd4384a325887ee8477ce2": {
      "model_module": "@jupyter-widgets/controls",
      "model_module_version": "1.5.0",
      "model_name": "GridBoxModel",
      "state": {
       "children": [
        "IPY_MODEL_3496b42bcedf4a92ac7c59015813e41a",
        "IPY_MODEL_3746e21d8c5c433f9b37e6ca8f6bc00e",
        "IPY_MODEL_12ba0429d3164c248d73d3906393f0c9",
        "IPY_MODEL_f45906094fe74a03bbf259f886fd1d77",
        "IPY_MODEL_dbc9aed83a2d409bb2d14ac8bc637468",
        "IPY_MODEL_a8137049f78d45149a401d6e8006abc8",
        "IPY_MODEL_2124e147e07e43978a4aea3626806e52",
        "IPY_MODEL_12808e26704f48ad9780c78d6e6c2457",
        "IPY_MODEL_5647e70a5150454c8788823d52bd7059",
        "IPY_MODEL_ff355805bfc1466a88e2fb4003190423"
       ],
       "layout": "IPY_MODEL_eb7962aa774f4e3fb5cc19af1ed5644e"
      }
     },
     "f70b87f7f8f2483e877c7f5e0aadf40d": {
      "model_module": "@jupyter-widgets/controls",
      "model_module_version": "1.5.0",
      "model_name": "HTMLModel",
      "state": {
       "layout": "IPY_MODEL_04c30286fd51439b809e4a7579e50088",
       "style": "IPY_MODEL_80de8e787ab44613aca9c79bb1b5bb8a",
       "value": "<a href='https://github.com/ICOS-Carbon-Portal/jupyter/issues' target='_blank'>Click here to report an issue</a>"
      }
     },
     "f71317a73ddf4da7b4166c3461a401ad": {
      "model_module": "@jupyter-widgets/controls",
      "model_module_version": "1.5.0",
      "model_name": "DescriptionStyleModel",
      "state": {
       "description_width": ""
      }
     },
     "f74c8b480a3a431ba7320e1c5f7ab6e6": {
      "model_module": "@jupyter-widgets/base",
      "model_module_version": "1.2.0",
      "model_name": "LayoutModel",
      "state": {}
     },
     "f751bc9f6a2f4c9c996eb7811525c1eb": {
      "model_module": "@jupyter-widgets/base",
      "model_module_version": "1.2.0",
      "model_name": "LayoutModel",
      "state": {}
     },
     "f753d6fb68024d4b806ae9c9d865ec77": {
      "model_module": "@jupyter-widgets/controls",
      "model_module_version": "1.5.0",
      "model_name": "HTMLModel",
      "state": {
       "layout": "IPY_MODEL_e8c002c84ca6439dbf7ca379fec25fbe",
       "style": "IPY_MODEL_245473b274db4d6fbc719f2a4a3b1357",
       "value": "<b>Thumbnail: </b> "
      }
     },
     "f753e07fa15b42439621d30a44be6b7b": {
      "model_module": "@jupyter-widgets/controls",
      "model_module_version": "1.5.0",
      "model_name": "DescriptionStyleModel",
      "state": {
       "description_width": ""
      }
     },
     "f75ea4ad14a14666a68e3acfa9349a52": {
      "model_module": "@jupyter-widgets/base",
      "model_module_version": "1.2.0",
      "model_name": "LayoutModel",
      "state": {}
     },
     "f75f020275af4eefbb9ba20fac8f8925": {
      "model_module": "@jupyter-widgets/controls",
      "model_module_version": "1.5.0",
      "model_name": "AccordionModel",
      "state": {
       "_titles": {
        "0": "Drought 2018",
        "1": "Soil exercise NGEN16"
       },
       "children": [
        "IPY_MODEL_25ffd9334c2a4363a332b62ca713a302",
        "IPY_MODEL_255e166b23854f718436f487be391a1c"
       ],
       "layout": "IPY_MODEL_ad37f3fc1f3946cca1a528ee547baa47",
       "selected_index": null
      }
     },
     "f77c03f422d14eafb9d8475a37ba9ab2": {
      "model_module": "@jupyter-widgets/controls",
      "model_module_version": "1.5.0",
      "model_name": "DescriptionStyleModel",
      "state": {
       "description_width": ""
      }
     },
     "f7928a790b704d05b00ea642428681f5": {
      "model_module": "@jupyter-widgets/controls",
      "model_module_version": "1.5.0",
      "model_name": "HTMLModel",
      "state": {
       "layout": "IPY_MODEL_a47e7a4695bb4618b3dc0df226084918",
       "style": "IPY_MODEL_3c9481a0bc644a60ab210fd69b666171",
       "value": "<a href=./education/MSc_BSc/soil_exercise_ngen16/TestSoilT.ipynb target='_blank'>Soil exercise - NGEN16</a>"
      }
     },
     "f79eab629849450fa97ff7bfd2271083": {
      "model_module": "@jupyter-widgets/controls",
      "model_module_version": "1.5.0",
      "model_name": "HTMLModel",
      "state": {
       "layout": "IPY_MODEL_ff5d3d6efba2434e8ad0c165e803c06f",
       "style": "IPY_MODEL_f56a280315a94e5d98e6870f22821c7f",
       "value": "<a href=./project_jupyter_notebooks/RINGO_T1.3/RINGO_T1.3_flasksampling_v5.ipynb target='_blank'>Jupyter Notebook for RINGO Task 1.3</a>"
      }
     },
     "f7ae885da15c42918b7aceb7dd5f4ed1": {
      "model_module": "@jupyter-widgets/controls",
      "model_module_version": "1.5.0",
      "model_name": "DescriptionStyleModel",
      "state": {
       "description_width": ""
      }
     },
     "f7cef77b03394c5aac3524c09a596745": {
      "model_module": "@jupyter-widgets/base",
      "model_module_version": "1.2.0",
      "model_name": "LayoutModel",
      "state": {}
     },
     "f7eb751cb05d4f2eaa9a8d2bc5e36ae3": {
      "model_module": "@jupyter-widgets/base",
      "model_module_version": "1.2.0",
      "model_name": "LayoutModel",
      "state": {}
     },
     "f7f69182f4a94936b65a6aec5c62eabc": {
      "model_module": "@jupyter-widgets/base",
      "model_module_version": "1.2.0",
      "model_name": "LayoutModel",
      "state": {}
     },
     "f7ff12b26e4f47dba445b70de1b79240": {
      "model_module": "@jupyter-widgets/controls",
      "model_module_version": "1.5.0",
      "model_name": "DescriptionStyleModel",
      "state": {
       "description_width": ""
      }
     },
     "f80e662285fe4811bd80f19333b5b5b4": {
      "model_module": "@jupyter-widgets/base",
      "model_module_version": "1.2.0",
      "model_name": "LayoutModel",
      "state": {}
     },
     "f8218b949f3a4942b18320afbaaac53d": {
      "model_module": "@jupyter-widgets/controls",
      "model_module_version": "1.5.0",
      "model_name": "DescriptionStyleModel",
      "state": {
       "description_width": ""
      }
     },
     "f83f617d17864a588f4a989119ed726e": {
      "model_module": "@jupyter-widgets/controls",
      "model_module_version": "1.5.0",
      "model_name": "HTMLModel",
      "state": {
       "layout": "IPY_MODEL_221a9769cc52465bb7fabd70c73aeed2",
       "style": "IPY_MODEL_0306d98e9aef43f7bf31c4cb6184853e",
       "value": "<b>Title: </b> "
      }
     },
     "f847388f06d54726b3c36d7bbc29209f": {
      "model_module": "@jupyter-widgets/controls",
      "model_module_version": "1.5.0",
      "model_name": "DescriptionStyleModel",
      "state": {
       "description_width": ""
      }
     },
     "f8528fb5e3b543df98b1183fd8c514bb": {
      "model_module": "@jupyter-widgets/controls",
      "model_module_version": "1.5.0",
      "model_name": "HTMLModel",
      "state": {
       "layout": "IPY_MODEL_8a3afd784baa47c4850fbd37054331ee",
       "style": "IPY_MODEL_c7a23be4ed4f4f4da04e2f5fa172aca5",
       "value": "<b>Title: </b> "
      }
     },
     "f868116e623f4c86ad70ffeba0dcb228": {
      "model_module": "@jupyter-widgets/base",
      "model_module_version": "1.2.0",
      "model_name": "LayoutModel",
      "state": {}
     },
     "f86b23464e034e8182c1cda5fd2c73d9": {
      "model_module": "@jupyter-widgets/controls",
      "model_module_version": "1.5.0",
      "model_name": "DescriptionStyleModel",
      "state": {
       "description_width": ""
      }
     },
     "f87a1d080d164270a9871d407cace86d": {
      "model_module": "@jupyter-widgets/controls",
      "model_module_version": "1.5.0",
      "model_name": "DescriptionStyleModel",
      "state": {
       "description_width": ""
      }
     },
     "f8918add9eda4769bb4e558a133ca28a": {
      "model_module": "@jupyter-widgets/base",
      "model_module_version": "1.2.0",
      "model_name": "LayoutModel",
      "state": {}
     },
     "f8c2b5b0795e4e88bfa7eac19898fbb5": {
      "model_module": "@jupyter-widgets/controls",
      "model_module_version": "1.5.0",
      "model_name": "DescriptionStyleModel",
      "state": {
       "description_width": ""
      }
     },
     "f8c555f16eec4366af6369c077b41c3a": {
      "model_module": "@jupyter-widgets/controls",
      "model_module_version": "1.5.0",
      "model_name": "DescriptionStyleModel",
      "state": {
       "description_width": ""
      }
     },
     "f8fe8cfefbdb4cd99427ecce463b2271": {
      "model_module": "@jupyter-widgets/controls",
      "model_module_version": "1.5.0",
      "model_name": "DescriptionStyleModel",
      "state": {
       "description_width": ""
      }
     },
     "f90d2f735a9c494d92c75d6cea8c0e00": {
      "model_module": "@jupyter-widgets/controls",
      "model_module_version": "1.5.0",
      "model_name": "HTMLModel",
      "state": {
       "layout": "IPY_MODEL_69ce0cd87f0140008b9384cae57254db",
       "style": "IPY_MODEL_d1279155b9274e0b8bc8ca6aa20c0f00",
       "value": "<b>Contact: </b> "
      }
     },
     "f9207993ffa141928f469c5863891b77": {
      "model_module": "@jupyter-widgets/controls",
      "model_module_version": "1.5.0",
      "model_name": "DescriptionStyleModel",
      "state": {
       "description_width": ""
      }
     },
     "f93ed9cf4a4b4a959adbae4ad8fc454b": {
      "model_module": "@jupyter-widgets/controls",
      "model_module_version": "1.5.0",
      "model_name": "HTMLModel",
      "state": {
       "layout": "IPY_MODEL_f74c8b480a3a431ba7320e1c5f7ab6e6",
       "style": "IPY_MODEL_416ab629d2e34a40906ed709ec3744a1",
       "value": "<a href=./icos_jupyter_notebooks/ccgcrv.ipynb target='_blank'>Curve fitting methods for CO2 time series</a>"
      }
     },
     "f94390f9f87f4aa19d3802e9a8a50086": {
      "model_module": "@jupyter-widgets/base",
      "model_module_version": "1.2.0",
      "model_name": "LayoutModel",
      "state": {}
     },
     "f9727a1095614d838a0133de2cf62cf5": {
      "model_module": "@jupyter-widgets/base",
      "model_module_version": "1.2.0",
      "model_name": "LayoutModel",
      "state": {}
     },
     "f97cc73d1bdf49f49c0343e8cd848c0b": {
      "model_module": "@jupyter-widgets/base",
      "model_module_version": "1.2.0",
      "model_name": "LayoutModel",
      "state": {}
     },
     "f9858eccefc54a3d81f2d60307f88926": {
      "model_module": "@jupyter-widgets/controls",
      "model_module_version": "1.5.0",
      "model_name": "HTMLModel",
      "state": {
       "layout": "IPY_MODEL_5e8ec817872b4ddaa90c1cf55c1f03fb",
       "style": "IPY_MODEL_a9fcb995f0c147a09477ab06567b532e",
       "value": "<a href=\"mailto: jupyter-info@icos-cp.eu\">jupyter-info@icos-cp.eu</a>"
      }
     },
     "f98d8338d5644bb68f7db87df55ef2eb": {
      "model_module": "@jupyter-widgets/controls",
      "model_module_version": "1.5.0",
      "model_name": "HTMLModel",
      "state": {
       "layout": "IPY_MODEL_77729026ef6f494282a5c0ae0bf28a29",
       "style": "IPY_MODEL_32a415753dd348ed9eb1889a488191aa",
       "value": "Notebooks under this category are aimed to introduce users quickly to the fundamental principles of Python programming."
      }
     },
     "f9907b658b274542a752b284924f33cc": {
      "model_module": "@jupyter-widgets/base",
      "model_module_version": "1.2.0",
      "model_name": "LayoutModel",
      "state": {}
     },
     "f9e89a71faf24a71b8d36b4274374238": {
      "model_module": "@jupyter-widgets/controls",
      "model_module_version": "1.5.0",
      "model_name": "HTMLModel",
      "state": {
       "layout": "IPY_MODEL_04ab2f972b444427b81fa9077e92f20a",
       "style": "IPY_MODEL_9a387ed85c58418e8eb83b567bbe8ef4",
       "value": "<b>Description: </b> "
      }
     },
     "f9f81364533643b793a2c333855f23fc": {
      "model_module": "@jupyter-widgets/controls",
      "model_module_version": "1.5.0",
      "model_name": "HTMLModel",
      "state": {
       "layout": "IPY_MODEL_34854f2c45b14b51b2b524070c6972e1",
       "style": "IPY_MODEL_17a09944a21241f3bf1add4963d3c138",
       "value": "This exercise package is focusing on how to use remote sensing (RS) observations from satellite for upscaling eddy covariance measurements, based on the light use efficiency (LUE) model GPP = PAR * fAPAR * LUE. PAR is the photosynthetically active radiation, fAPAR is the fractional absorbed PAR by vegetation, LUE is the efficiency of vegetation to convert the light energy into biomaterials. The aim of the exercise is to provide an insight into how remote sensing can be used to upscale GPP and to stimulate a discussion on strengths and weaknesses of this approach."
      }
     },
     "f9fc398a30934e8299279ffe0b5843a2": {
      "model_module": "@jupyter-widgets/controls",
      "model_module_version": "1.5.0",
      "model_name": "HTMLModel",
      "state": {
       "layout": "IPY_MODEL_9e2ba285b4ab4f93b6a58718e24fc5c6",
       "style": "IPY_MODEL_4276eeb398254b67bbe51257fb06ed1e",
       "value": "<b>GitHub: </b> "
      }
     },
     "fa16073fac4b4400b1d894f0edd06289": {
      "model_module": "@jupyter-widgets/base",
      "model_module_version": "1.2.0",
      "model_name": "LayoutModel",
      "state": {}
     },
     "fa20599f723b444fb0b9099354c2abc7": {
      "model_module": "@jupyter-widgets/controls",
      "model_module_version": "1.5.0",
      "model_name": "HTMLModel",
      "state": {
       "layout": "IPY_MODEL_f6ce49f606f84174b3c00e787f1f8f83",
       "style": "IPY_MODEL_3c60e055e2a9415bb102335f502410eb",
       "value": "This is an ancillary notebook including all Python functions that were developed to produce all the content of the exercise notebooks. Students are presented with short descriptions of what the functions do so that they can use them if they so wish. They are not meant to necessarily understand the commands step by step but rather what is the concept of each function and how they can use it to produce results or plots."
      }
     },
     "fa7fda07164b4e63a1a6f0508273d30c": {
      "model_module": "@jupyter-widgets/controls",
      "model_module_version": "1.5.0",
      "model_name": "HTMLModel",
      "state": {
       "layout": "IPY_MODEL_6c5b75855eb849acaa649ede3134d2bd",
       "style": "IPY_MODEL_47f519762cbf4e60aac8137073a24174",
       "value": "<img src=\"./icos_jupyter_notebooks/ind_tools/img/04_proj_JNBs/ringo_t1_3/flasksampling_v5_gui.PNG\">"
      }
     },
     "fa81019453da4d618deb6f62deef50a9": {
      "model_module": "@jupyter-widgets/controls",
      "model_module_version": "1.5.0",
      "model_name": "DescriptionStyleModel",
      "state": {
       "description_width": ""
      }
     },
     "faaffe484cbf4bacae40421debf78775": {
      "model_module": "@jupyter-widgets/controls",
      "model_module_version": "1.5.0",
      "model_name": "HTMLModel",
      "state": {
       "layout": "IPY_MODEL_94a79796d88849348910b38cb8db93fa",
       "style": "IPY_MODEL_1eab9e36abd24869a6af92117ea303e3",
       "value": "<b>GitHub: </b> "
      }
     },
     "faf4d8f968154229b4a0f5d97ef2607b": {
      "model_module": "@jupyter-widgets/controls",
      "model_module_version": "1.5.0",
      "model_name": "DescriptionStyleModel",
      "state": {
       "description_width": ""
      }
     },
     "fafb658a38de4c418fc6929d8c7e20d7": {
      "model_module": "@jupyter-widgets/controls",
      "model_module_version": "1.5.0",
      "model_name": "HTMLModel",
      "state": {
       "layout": "IPY_MODEL_237fb482d96442b08ae486d6028fd8cb",
       "style": "IPY_MODEL_4087304f1ff442a19b285e18701c767d",
       "value": "<img src=\"./icos_jupyter_notebooks/ind_tools/img/04_proj_JNBs/otc_drw/ex2.PNG\">"
      }
     },
     "fafedf023ee14ecbab921d15ec6ab01c": {
      "model_module": "@jupyter-widgets/base",
      "model_module_version": "1.2.0",
      "model_name": "LayoutModel",
      "state": {}
     },
     "fb1b2eabdfdb404eaa4c1b537b3c8a23": {
      "model_module": "@jupyter-widgets/controls",
      "model_module_version": "1.5.0",
      "model_name": "DescriptionStyleModel",
      "state": {
       "description_width": ""
      }
     },
     "fb3b662c7905448fa009009187c959ea": {
      "model_module": "@jupyter-widgets/controls",
      "model_module_version": "1.5.0",
      "model_name": "HTMLModel",
      "state": {
       "layout": "IPY_MODEL_1450e64f2ee44cf3bfba73d9c6ea73eb",
       "style": "IPY_MODEL_9590d005cfd141d29c8dac4de0a4df62",
       "value": "<b>Contact: </b> "
      }
     },
     "fb886395c58748a99c2094097150bb43": {
      "model_module": "@jupyter-widgets/base",
      "model_module_version": "1.2.0",
      "model_name": "LayoutModel",
      "state": {}
     },
     "fbaff81937164af69bc5634e83f1c8e0": {
      "model_module": "@jupyter-widgets/controls",
      "model_module_version": "1.5.0",
      "model_name": "HTMLModel",
      "state": {
       "layout": "IPY_MODEL_8b2760816319414db9881cb36d40b944",
       "style": "IPY_MODEL_c06d9acee9dc4f77b2f8e1abc5b3341d",
       "value": "<img src=\"./icos_jupyter_notebooks/ind_tools/img/05_education/phd/ucf/inspect_fluxnet/plot.PNG\">"
      }
     },
     "fbd6d14fefaa449489400a58bd34ad04": {
      "model_module": "@jupyter-widgets/controls",
      "model_module_version": "1.5.0",
      "model_name": "GridBoxModel",
      "state": {
       "children": [
        "IPY_MODEL_64509afd7ed54a7ab4b9f455deb6b9d9",
        "IPY_MODEL_349c7e6b276b45fab26c363c484dfdf6",
        "IPY_MODEL_dc840b57f0404c02977bc782d1793558",
        "IPY_MODEL_66bb42a3dd904fc8ba0990e2d580c734",
        "IPY_MODEL_989787138f314650a63842836e084715",
        "IPY_MODEL_0b6450d2411b468eb289ae420ca54a1d",
        "IPY_MODEL_5b39da171edb4e96a135320bd02860aa",
        "IPY_MODEL_d3d8915ecd6042bf8ac8f6ea245ad75b",
        "IPY_MODEL_50fd6f9f7130421694e87f0a0f388bd5",
        "IPY_MODEL_339bfa27acb249298c6cc35247ee933f"
       ],
       "layout": "IPY_MODEL_318ae0b1af774af0add7981621ac2766"
      }
     },
     "fbed5922a005438e9393a9ac693f40fe": {
      "model_module": "@jupyter-widgets/controls",
      "model_module_version": "1.5.0",
      "model_name": "DescriptionStyleModel",
      "state": {
       "description_width": ""
      }
     },
     "fc03f8ecc1b3414b9d6ca9375620fd21": {
      "model_module": "@jupyter-widgets/controls",
      "model_module_version": "1.5.0",
      "model_name": "GridBoxModel",
      "state": {
       "children": [
        "IPY_MODEL_251965995f2a47d8afec672a7bb72915",
        "IPY_MODEL_f4423e62630644f7891310a4882abd13"
       ],
       "layout": "IPY_MODEL_44576d2bf1364badb86ed127169ed16c"
      }
     },
     "fc1dc640ae294e429bd043bbaa83949d": {
      "model_module": "@jupyter-widgets/controls",
      "model_module_version": "1.5.0",
      "model_name": "GridBoxModel",
      "state": {
       "children": [
        "IPY_MODEL_599ea7cef69a457b9d6081d3497e966d",
        "IPY_MODEL_db0280b6493e468395cfb4f1e5a47cbf",
        "IPY_MODEL_d2a328a65e3d4a5a83e3d8fc64653824",
        "IPY_MODEL_9b24240696164541a3ea438620b20484",
        "IPY_MODEL_541057fc8d6745019765918da63be785",
        "IPY_MODEL_59bb76eb18e841f198df9740daed9ab8",
        "IPY_MODEL_0dba8760a5bd4b4bb5b71112ce923ed9",
        "IPY_MODEL_991764ba1652488bb6ad95f274826b22",
        "IPY_MODEL_88d269b101e0423fa8e8804d4a1a5c3b",
        "IPY_MODEL_79de3a7e9e1b4105b15a4d3beaa1ea1c"
       ],
       "layout": "IPY_MODEL_8de13bf6d82e435dbcd5d6917015d6e1"
      }
     },
     "fc3a5789c49b450290ef8d528f6136da": {
      "model_module": "@jupyter-widgets/controls",
      "model_module_version": "1.5.0",
      "model_name": "DescriptionStyleModel",
      "state": {
       "description_width": ""
      }
     },
     "fc7b68170d2a4c539b9c12f08b8e5317": {
      "model_module": "@jupyter-widgets/controls",
      "model_module_version": "1.5.0",
      "model_name": "HTMLModel",
      "state": {
       "layout": "IPY_MODEL_4397f0cd718846f2ab795ba105f3320b",
       "style": "IPY_MODEL_9dfb9620b9c3448fa77668d65d63144b",
       "value": "<a href='https://github.com/ICOS-Carbon-Portal/jupyter/issues' target='_blank'>Click here to report an issue</a>"
      }
     },
     "fc82cae322be4255ae71e29ece418710": {
      "model_module": "@jupyter-widgets/base",
      "model_module_version": "1.2.0",
      "model_name": "LayoutModel",
      "state": {}
     },
     "fc913a852824408fa7e6032dcc95b8e8": {
      "model_module": "@jupyter-widgets/controls",
      "model_module_version": "1.5.0",
      "model_name": "DescriptionStyleModel",
      "state": {
       "description_width": ""
      }
     },
     "fca1afdc42dc41f6b813bb9cf8d9da2a": {
      "model_module": "@jupyter-widgets/base",
      "model_module_version": "1.2.0",
      "model_name": "LayoutModel",
      "state": {}
     },
     "fcc6a564339549a6b2180d00c05f647e": {
      "model_module": "@jupyter-widgets/controls",
      "model_module_version": "1.5.0",
      "model_name": "HTMLModel",
      "state": {
       "layout": "IPY_MODEL_5a47b7ea036d42a086976683a3da6cac",
       "style": "IPY_MODEL_1e98d3e53d3e4f4c898f0fe336112176",
       "value": "<img src=\"./icos_jupyter_notebooks/ind_tools/img/03_icos_JNBs/icos_avail_table/at_co2_meteo.PNG\">"
      }
     },
     "fd0f68375eba4cffbd791130885b8942": {
      "model_module": "@jupyter-widgets/controls",
      "model_module_version": "1.5.0",
      "model_name": "DescriptionStyleModel",
      "state": {
       "description_width": ""
      }
     },
     "fd15142917f24f009210c085f7c58fee": {
      "model_module": "@jupyter-widgets/controls",
      "model_module_version": "1.5.0",
      "model_name": "HTMLModel",
      "state": {
       "layout": "IPY_MODEL_892488a5b64c428caee77273bb540e41",
       "style": "IPY_MODEL_6e4beb746dc24356b55b445eef100809",
       "value": "<a href=./icos_jupyter_notebooks/icos_atmObs_STILT.ipynb target='_blank'>ICOS atmospheric observations vs STILT modelled values</a>"
      }
     },
     "fd2c4f47b8a9405b995d3e95be58f2df": {
      "model_module": "@jupyter-widgets/base",
      "model_module_version": "1.2.0",
      "model_name": "LayoutModel",
      "state": {}
     },
     "fd3f62b356b24272b3c22c617e655014": {
      "model_module": "@jupyter-widgets/base",
      "model_module_version": "1.2.0",
      "model_name": "LayoutModel",
      "state": {}
     },
     "fd6452985bb34f86b0bb463408044faa": {
      "model_module": "@jupyter-widgets/controls",
      "model_module_version": "1.5.0",
      "model_name": "DescriptionStyleModel",
      "state": {
       "description_width": ""
      }
     },
     "fd6884687df84ec4ba2f9d4390fd2b31": {
      "model_module": "@jupyter-widgets/base",
      "model_module_version": "1.2.0",
      "model_name": "LayoutModel",
      "state": {}
     },
     "fd69ccbf36e4438b82d2e143295a7977": {
      "model_module": "@jupyter-widgets/controls",
      "model_module_version": "1.5.0",
      "model_name": "HTMLModel",
      "state": {
       "layout": "IPY_MODEL_4c9a68e2cde94f6f87b3ad6e290d49ae",
       "style": "IPY_MODEL_7955a93c71b14953a8591b4b8de8bb6c",
       "value": "This notebook contains a short introduction of basic principles of coding in Python. It is aimed for people who have no prior knowledge in programming but also for people who wish to brush up their memory in programmng with Python or are already familiar with programming in another programming language and want to become acquainted with Python. The notebook is organized in a series of chapters where the main principles of programming are introduced. There is an emphasis on providing brief descriptions of the coding principles in conjuction with simple and self-explanatory coding examples. People who are new to programming are advised to follow this manual step by step. For people that are already familiar with Python or programming in general, it is possible to use the links to navigate to specific chapters."
      }
     },
     "fdab07b9627645918e0c699d4ce9627f": {
      "model_module": "@jupyter-widgets/controls",
      "model_module_version": "1.5.0",
      "model_name": "DescriptionStyleModel",
      "state": {
       "description_width": ""
      }
     },
     "fddf48841d89483bbf670591b8be963d": {
      "model_module": "@jupyter-widgets/controls",
      "model_module_version": "1.5.0",
      "model_name": "HTMLModel",
      "state": {
       "layout": "IPY_MODEL_839bf9f5c9da4391aed9032b62b9c5b1",
       "style": "IPY_MODEL_7680255b7144411bb7871606f56c6b91",
       "value": "<b>Title: </b> "
      }
     },
     "fe094c257d054b0d9e975a668240a9f2": {
      "model_module": "@jupyter-widgets/base",
      "model_module_version": "1.2.0",
      "model_name": "LayoutModel",
      "state": {}
     },
     "fe12dc2015dd48c98a34478d22bf1759": {
      "model_module": "@jupyter-widgets/controls",
      "model_module_version": "1.5.0",
      "model_name": "DescriptionStyleModel",
      "state": {
       "description_width": ""
      }
     },
     "fe1d3f6e1dea4e7b85134df13fc2eb95": {
      "model_module": "@jupyter-widgets/controls",
      "model_module_version": "1.5.0",
      "model_name": "HTMLModel",
      "state": {
       "layout": "IPY_MODEL_3f16878d19cd4b77ac72269de317a38d",
       "style": "IPY_MODEL_35fdb8c0bdd144fda948ddbfa5b428c6",
       "value": "<b>GitHub: </b> "
      }
     },
     "fe1e3257fb874b10afe78abdaaf882f7": {
      "model_module": "@jupyter-widgets/controls",
      "model_module_version": "1.5.0",
      "model_name": "DescriptionStyleModel",
      "state": {
       "description_width": ""
      }
     },
     "fe31078167b34e7698dde7cd3ed4bba4": {
      "model_module": "@jupyter-widgets/controls",
      "model_module_version": "1.5.0",
      "model_name": "HTMLModel",
      "state": {
       "layout": "IPY_MODEL_ae82138d66e2432b8102b8877f3507a9",
       "style": "IPY_MODEL_bbf54ffce34244468e0c117e457a7b79",
       "value": "<a href=\"mailto: jupyter-info@icos-cp.eu\">jupyter-info@icos-cp.eu</a>"
      }
     },
     "fe378d52340242589311e14f4e60698d": {
      "model_module": "@jupyter-widgets/base",
      "model_module_version": "1.2.0",
      "model_name": "LayoutModel",
      "state": {}
     },
     "fe692f160f88448c97225ffb231d19d5": {
      "model_module": "@jupyter-widgets/controls",
      "model_module_version": "1.5.0",
      "model_name": "DescriptionStyleModel",
      "state": {
       "description_width": ""
      }
     },
     "fe836aa4056d450d913c9933fd9ddfa9": {
      "model_module": "@jupyter-widgets/base",
      "model_module_version": "1.2.0",
      "model_name": "LayoutModel",
      "state": {}
     },
     "fe9a568969d1460683674750df1b7c32": {
      "model_module": "@jupyter-widgets/base",
      "model_module_version": "1.2.0",
      "model_name": "LayoutModel",
      "state": {}
     },
     "feaa88d059d5424fbc4f856c8d91b470": {
      "model_module": "@jupyter-widgets/controls",
      "model_module_version": "1.5.0",
      "model_name": "HTMLModel",
      "state": {
       "layout": "IPY_MODEL_8ca9b56f473d48dfb09b3bb062de9ace",
       "style": "IPY_MODEL_ccea5b2ff13c4b14ad7c571b879724c9",
       "value": "Includes notebooks that where used as exercise material in a PhD course titled: <i><a href=\"https://www.nateko.lu.se/sites/nateko.lu.se/files/nng005f-eng.pdf\" target=\"_blank\">From CO2 in situ measurements to carbon balance maps as a tool to support national carbon accounting</a></i>. The course was organized by Lund University dept. of Physical Geography and Ecosystem Science and supported by ICOS Carbon Portal, ICOS Sweden and Lund University ClimBEco Graduate Research School. The course was held at Lund University campus between March 9th 2020 and March 13th 2020.<br>All developed material includes references to the people involved and the datasets used."
      }
     },
     "febb551642844bb09f19eccf118fcba0": {
      "model_module": "@jupyter-widgets/controls",
      "model_module_version": "1.5.0",
      "model_name": "HTMLModel",
      "state": {
       "layout": "IPY_MODEL_93a652c383f641b592632cbcd9b7dfaf",
       "style": "IPY_MODEL_15a8e4a46c974b6db275504ed246737d",
       "value": "<a href=\"mailto: jupyter-info@icos-cp.eu\">jupyter-info@icos-cp.eu</a>"
      }
     },
     "fee83cb1adc0486e965372097606cc98": {
      "model_module": "@jupyter-widgets/controls",
      "model_module_version": "1.5.0",
      "model_name": "HTMLModel",
      "state": {
       "layout": "IPY_MODEL_2474d9f33d75430fa5a18bf7488f5bdb",
       "style": "IPY_MODEL_f3a66f24ed83446ea953de7579cbfb04",
       "value": "This notebook is dedicated to using ICOS Ecosystem Data from Hyltemossa Research Station in Southern Sweden, to study how the drought during the summer of 2018 affected the vegetation and the carbon balance in the surrounding area. The temporal resolution of the data extends from January 1st 2015 to December 31st 2018. Another objective of this notebook is to introduce basic principles of Python Programming."
      }
     },
     "feed751ac66741bcba6904ad54cf217c": {
      "model_module": "@jupyter-widgets/base",
      "model_module_version": "1.2.0",
      "model_name": "LayoutModel",
      "state": {}
     },
     "fefefd9c39804eb0af1cad58923c19fa": {
      "model_module": "@jupyter-widgets/controls",
      "model_module_version": "1.5.0",
      "model_name": "HTMLModel",
      "state": {
       "layout": "IPY_MODEL_39e9b58ab31f46a099a4c5212fd6ded6",
       "style": "IPY_MODEL_2ea7c19009874bd3832bb5c8ea5b41d0",
       "value": "This Jupyter notebook provides examples on how to access ICOS observations and extract data and metadata information using the ICOS Carbon Portal Python library. Full documentation for the library is available on the <a href='https://icos-carbon-portal.github.io/pylib/' target='_blank'>project page</a>, how to install and wheel on <a href='https://pypi.org/project/icoscp/' target='_blank'>pypi.org</a>, source available on <a href='https://github.com/ICOS-Carbon-Portal/pylib' target='_blank'>GitHub</a>"
      }
     },
     "feff84ebcb0d4472bd7e9e0afa8d61cc": {
      "model_module": "@jupyter-widgets/controls",
      "model_module_version": "1.5.0",
      "model_name": "GridBoxModel",
      "state": {
       "children": [
        "IPY_MODEL_0700191b55dc48b79743ef4b5109c9c2",
        "IPY_MODEL_97028eff24704791ba7a1da6720bc838",
        "IPY_MODEL_aa71359f3b654432ac6fdfb47bdf2ec8",
        "IPY_MODEL_64e975a681184b34a9dab32bda422e1c",
        "IPY_MODEL_31dbd81a0ec9429a8b2b461e24a9f02a",
        "IPY_MODEL_b58a5db7f7f442bf869942c87c460955",
        "IPY_MODEL_94e6d04ba44b44c496610efdf1e7af17",
        "IPY_MODEL_c7ed43f1e992432a8c65fd586c17926d",
        "IPY_MODEL_69d8205e59ba4f708d347dff7cad8032",
        "IPY_MODEL_17653e945faa43fd82d7398e16e54121"
       ],
       "layout": "IPY_MODEL_2b8c6f1a82554ed0bef9ac4d6e07f3d3"
      }
     },
     "ff117c4e575d4f06874c725677a6648c": {
      "model_module": "@jupyter-widgets/controls",
      "model_module_version": "1.5.0",
      "model_name": "HTMLModel",
      "state": {
       "layout": "IPY_MODEL_f1eaa85d57af4584884da3cb68ebc157",
       "style": "IPY_MODEL_1743bd8677c0409eb8065fe5385b38c6",
       "value": "<b>GitHub: </b> "
      }
     },
     "ff11dc14c7064183985e6de941b12fd7": {
      "model_module": "@jupyter-widgets/controls",
      "model_module_version": "1.5.0",
      "model_name": "HTMLModel",
      "state": {
       "layout": "IPY_MODEL_dc80b9b2d11d4a209ba2aa636c7967a5",
       "style": "IPY_MODEL_77256f2acae14828a9f6e9ed91fd7b0b",
       "value": "<b>Description: </b> "
      }
     },
     "ff355805bfc1466a88e2fb4003190423": {
      "model_module": "@jupyter-widgets/controls",
      "model_module_version": "1.5.0",
      "model_name": "HTMLModel",
      "state": {
       "layout": "IPY_MODEL_f6aa40d276f34c1bbf20de6378314aac",
       "style": "IPY_MODEL_756e0fe518054a4db849ae2d421563aa",
       "value": "<img src=\"./icos_jupyter_notebooks/ind_tools/img/04_proj_JNBs/envrifair_ws/maps/ex4.PNG\">"
      }
     },
     "ff367c5b32e745198048b3723410a05c": {
      "model_module": "@jupyter-widgets/base",
      "model_module_version": "1.2.0",
      "model_name": "LayoutModel",
      "state": {}
     },
     "ff49102c0c1b4079bec0c767136a70ff": {
      "model_module": "@jupyter-widgets/controls",
      "model_module_version": "1.5.0",
      "model_name": "DescriptionStyleModel",
      "state": {
       "description_width": ""
      }
     },
     "ff50c896e69d4206ada421badf1640d4": {
      "model_module": "@jupyter-widgets/base",
      "model_module_version": "1.2.0",
      "model_name": "LayoutModel",
      "state": {}
     },
     "ff555a144b224a59bb784ef448c1e8be": {
      "model_module": "@jupyter-widgets/base",
      "model_module_version": "1.2.0",
      "model_name": "LayoutModel",
      "state": {}
     },
     "ff5d3d6efba2434e8ad0c165e803c06f": {
      "model_module": "@jupyter-widgets/base",
      "model_module_version": "1.2.0",
      "model_name": "LayoutModel",
      "state": {}
     },
     "ff65c13d9a614b68a81c25278efc7d9c": {
      "model_module": "@jupyter-widgets/controls",
      "model_module_version": "1.5.0",
      "model_name": "HTMLModel",
      "state": {
       "layout": "IPY_MODEL_5c3854378ff041578ed82193328ca1d0",
       "style": "IPY_MODEL_ce6bcbbb7de34dcab47cc0333f640ba7",
       "value": "<b>Thumbnail: </b> "
      }
     },
     "ff81139e789f487895e56614113c1dfe": {
      "model_module": "@jupyter-widgets/base",
      "model_module_version": "1.2.0",
      "model_name": "LayoutModel",
      "state": {}
     },
     "ff9805f7012148a6b5df4db4aba0d7f4": {
      "model_module": "@jupyter-widgets/controls",
      "model_module_version": "1.5.0",
      "model_name": "HTMLModel",
      "state": {
       "layout": "IPY_MODEL_df41ee9e720a4daab968f12bf6c5e026",
       "style": "IPY_MODEL_a4fc48cc475b4510ae56bc3720a2906e",
       "value": "<b>Contact: </b> "
      }
     },
     "ffa67ee93eab48318a27bdec3e024ab8": {
      "model_module": "@jupyter-widgets/controls",
      "model_module_version": "1.5.0",
      "model_name": "DescriptionStyleModel",
      "state": {
       "description_width": ""
      }
     },
     "ffc05170f919454f8ec460e7d76eeeeb": {
      "model_module": "@jupyter-widgets/base",
      "model_module_version": "1.2.0",
      "model_name": "LayoutModel",
      "state": {}
     },
     "ffccf303c19c42a6a039664bd805538f": {
      "model_module": "@jupyter-widgets/base",
      "model_module_version": "1.2.0",
      "model_name": "LayoutModel",
      "state": {}
     },
     "ffd38263f76745ec8aab4bdd5c971533": {
      "model_module": "@jupyter-widgets/controls",
      "model_module_version": "1.5.0",
      "model_name": "GridBoxModel",
      "state": {
       "children": [
        "IPY_MODEL_5c2d5c29108b426084314123574b80e7",
        "IPY_MODEL_2bf2930d770b41db9914633607dbcf6b",
        "IPY_MODEL_1672cee827104af1b592ffe92b8cb656",
        "IPY_MODEL_71a93d954d1d427f8593336086bb66df",
        "IPY_MODEL_6e6f9fca02c141dea58bb34df0c46810",
        "IPY_MODEL_7283a6c40d894fc48686993cdaa7bb0f",
        "IPY_MODEL_7767eaf08a4448528f8146969625fc54",
        "IPY_MODEL_6532b42ea99e4144ba326cf7565139dd",
        "IPY_MODEL_185fdd32bb6e452cacd19db60e7781a3",
        "IPY_MODEL_902ef1c55c18474f92b9c2e838ad0777"
       ],
       "layout": "IPY_MODEL_a2f0257a6a3d469b850073eef3e49cfc"
      }
     }
    },
    "version_major": 2,
    "version_minor": 0
   }
  }
 },
 "nbformat": 4,
 "nbformat_minor": 5
}
