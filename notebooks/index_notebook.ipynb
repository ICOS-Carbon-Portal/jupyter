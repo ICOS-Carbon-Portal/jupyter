{
 "cells": [
  {
   "cell_type": "markdown",
   "id": "static-usage",
   "metadata": {},
   "source": [
    "\n",
    "<img src='https://www.icos-cp.eu/sites/default/files/2017-11/ICOS_CP_logo.png' width=\"330\" align=\"right\"/>\n",
    "\n",
    "# Index notebook"
   ]
  },
  {
   "cell_type": "markdown",
   "id": "imposed-observation",
   "metadata": {},
   "source": [
    "<br>\n",
    "<br>\n",
    "\n",
    "This notebook is dedicated on presenting an interactive table of contents of all publicly available ICOS Jupyter notebooks. The  interactive table of contents includes summarized informartion on every individual notebook:\n",
    "\n",
    "- notebook title \n",
    "- link to open notebook in ICOS Jupyter Hub\n",
    "- short description of content\n",
    "- contact details to inquire about implemented methods\n",
    "- link to report issues related to the notebook on GitHub\n",
    "- thumbnail of notebook - if available)\n",
    "\n",
    "\n",
    "Observe that the notebooks are divided in categories. You will be able to read more about every category once you click on its corresponding button.\n",
    "\n",
    "In case you wish to open a notebook and start working on it, simply click on the notebook title and you will be redirected to the notebook file in the ICOS Jupyter Hub.\n",
    "\n",
    "<br>\n",
    "<br>\n",
    "<br>"
   ]
  },
  {
   "cell_type": "code",
   "execution_count": 1,
   "id": "incomplete-saskatchewan",
   "metadata": {},
   "outputs": [
    {
     "data": {
      "application/vnd.jupyter.widget-view+json": {
       "model_id": "3d3c634d2a76404585944f36204346f0",
       "version_major": 2,
       "version_minor": 0
      },
      "text/plain": [
       "Accordion(children=(GridBox(children=(HTML(value='Notebooks under this category are aimed to introduce users q…"
      ]
     },
     "metadata": {},
     "output_type": "display_data"
    }
   ],
   "source": [
    "#Run notebook with tools:\n",
    "%run icos_jupyter_notebooks/ind_tools/tools.ipynb\n",
    "\n",
    "#Show icos notebook index:\n",
    "icos_ind_nb_widgt(icos_nb_dict)"
   ]
  },
  {
   "cell_type": "markdown",
   "id": "interesting-inclusion",
   "metadata": {},
   "source": [
    "<br>\n",
    "<br>\n",
    "<br>"
   ]
  }
 ],
 "metadata": {
  "kernelspec": {
   "display_name": "Python 3",
   "language": "python",
   "name": "python3"
  },
  "language_info": {
   "codemirror_mode": {
    "name": "ipython",
    "version": 3
   },
   "file_extension": ".py",
   "mimetype": "text/x-python",
   "name": "python",
   "nbconvert_exporter": "python",
   "pygments_lexer": "ipython3",
   "version": "3.8.6"
  },
  "toc": {
   "base_numbering": 1,
   "nav_menu": {},
   "number_sections": false,
   "sideBar": true,
   "skip_h1_title": true,
   "title_cell": "Table of Contents",
   "title_sidebar": "Contents",
   "toc_cell": false,
   "toc_position": {},
   "toc_section_display": true,
   "toc_window_display": false
  },
  "widgets": {
   "application/vnd.jupyter.widget-state+json": {
    "state": {
     "002a60e675004c0b9c565f07719e62e1": {
      "model_module": "@jupyter-widgets/controls",
      "model_module_version": "1.5.0",
      "model_name": "HTMLModel",
      "state": {
       "layout": "IPY_MODEL_8fa5850b24de4a67bacb53ab7c01496a",
       "style": "IPY_MODEL_17765aeeb4424d4daf8123d58623f5a6",
       "value": "<a href='https://github.com/ICOS-Carbon-Portal/jupyter/issues' target='_blank'>Click here to report an issue</a>"
      }
     },
     "003f991c6de545cd85afacd51589dd79": {
      "model_module": "@jupyter-widgets/controls",
      "model_module_version": "1.5.0",
      "model_name": "HTMLModel",
      "state": {
       "layout": "IPY_MODEL_12002b5754cd4f7dae6ad05d9f357730",
       "style": "IPY_MODEL_34ed49168b56419ea9a0d845d28f572a",
       "value": "<a href=\"mailto: jupyter-info@icos-cp.eu\">jupyter-info@icos-cp.eu</a>"
      }
     },
     "005016d57f394f35adcb136d15e785bc": {
      "model_module": "@jupyter-widgets/controls",
      "model_module_version": "1.5.0",
      "model_name": "DescriptionStyleModel",
      "state": {
       "description_width": ""
      }
     },
     "0055dfd3777a42f6ae88990537d4eef9": {
      "model_module": "@jupyter-widgets/controls",
      "model_module_version": "1.5.0",
      "model_name": "DescriptionStyleModel",
      "state": {
       "description_width": ""
      }
     },
     "005cdde708a14267a1ebd1d454c0d73d": {
      "model_module": "@jupyter-widgets/controls",
      "model_module_version": "1.5.0",
      "model_name": "DescriptionStyleModel",
      "state": {
       "description_width": ""
      }
     },
     "00671ccee61147cab29d7dff23f011c2": {
      "model_module": "@jupyter-widgets/controls",
      "model_module_version": "1.5.0",
      "model_name": "DescriptionStyleModel",
      "state": {
       "description_width": ""
      }
     },
     "0113c7afcfae4146ba73b44796a20ef0": {
      "model_module": "@jupyter-widgets/controls",
      "model_module_version": "1.5.0",
      "model_name": "DescriptionStyleModel",
      "state": {
       "description_width": ""
      }
     },
     "012d7abfa25c4586a821f8261d7aab4b": {
      "model_module": "@jupyter-widgets/controls",
      "model_module_version": "1.5.0",
      "model_name": "DescriptionStyleModel",
      "state": {
       "description_width": ""
      }
     },
     "014e19ff52974f239d267d6aa567aae6": {
      "model_module": "@jupyter-widgets/base",
      "model_module_version": "1.2.0",
      "model_name": "LayoutModel",
      "state": {}
     },
     "016cc19186114fa5af5edbb8870b99b2": {
      "model_module": "@jupyter-widgets/base",
      "model_module_version": "1.2.0",
      "model_name": "LayoutModel",
      "state": {}
     },
     "0196dd2061314d69b6623daeedff2757": {
      "model_module": "@jupyter-widgets/controls",
      "model_module_version": "1.5.0",
      "model_name": "HTMLModel",
      "state": {
       "layout": "IPY_MODEL_ad6a7283876043228ea1189a4b39704f",
       "style": "IPY_MODEL_2d59aee7c5094d628bc2df2867b2b350",
       "value": "<img src=\"./icos_jupyter_notebooks/ind_tools/img/05_education/phd/ucf/ex2/htm_nee.PNG\">"
      }
     },
     "01b1871a230f4758b2c4cd59af99957a": {
      "model_module": "@jupyter-widgets/controls",
      "model_module_version": "1.5.0",
      "model_name": "HTMLModel",
      "state": {
       "layout": "IPY_MODEL_de82c3803dbc42ccab2e5cc659465fc4",
       "style": "IPY_MODEL_26826caacc8e4600a87a4f84245efb88",
       "value": "<a href='https://github.com/ICOS-Carbon-Portal/jupyter/issues' target='_blank'>Click here to report an issue</a>"
      }
     },
     "01b8262141504776a7c6e2601d788097": {
      "model_module": "@jupyter-widgets/base",
      "model_module_version": "1.2.0",
      "model_name": "LayoutModel",
      "state": {}
     },
     "01c942f8c0284d94b9a912ed5b4ec587": {
      "model_module": "@jupyter-widgets/base",
      "model_module_version": "1.2.0",
      "model_name": "LayoutModel",
      "state": {}
     },
     "01d62065bb0e4e5986ef7ffba37940ca": {
      "model_module": "@jupyter-widgets/controls",
      "model_module_version": "1.5.0",
      "model_name": "DescriptionStyleModel",
      "state": {
       "description_width": ""
      }
     },
     "0233149d4f6442a5b943c14a8c637cda": {
      "model_module": "@jupyter-widgets/controls",
      "model_module_version": "1.5.0",
      "model_name": "DescriptionStyleModel",
      "state": {
       "description_width": ""
      }
     },
     "02a26b4dd65d4adaaf02a4e18b1fa056": {
      "model_module": "@jupyter-widgets/base",
      "model_module_version": "1.2.0",
      "model_name": "LayoutModel",
      "state": {}
     },
     "02ba198a44794f2296b96a0494f06c8f": {
      "model_module": "@jupyter-widgets/controls",
      "model_module_version": "1.5.0",
      "model_name": "HTMLModel",
      "state": {
       "layout": "IPY_MODEL_1d5cbc7fb32e4e2692f58e6ceb2fb3f7",
       "style": "IPY_MODEL_9a9e2b81ae6c4f519d2d90740eaef82f",
       "value": "<b>Title: </b> "
      }
     },
     "02c19386c8b145c9a837f61b25a0f514": {
      "model_module": "@jupyter-widgets/controls",
      "model_module_version": "1.5.0",
      "model_name": "HTMLModel",
      "state": {
       "layout": "IPY_MODEL_fc82cae322be4255ae71e29ece418710",
       "style": "IPY_MODEL_501e996742c94bf9829ba43eb01bffbd",
       "value": "<a href=\"mailto: jupyter-info@icos-cp.eu\">jupyter-info@icos-cp.eu</a>, <a href=\"mailto: Steve.Jones@uib.no\">Steve.Jones@uib.no</a>"
      }
     },
     "02ee278ac0594257bf29b3f132820851": {
      "model_module": "@jupyter-widgets/controls",
      "model_module_version": "1.5.0",
      "model_name": "DescriptionStyleModel",
      "state": {
       "description_width": ""
      }
     },
     "02ef5aa2c28a4bafb8fafec0dbd555d4": {
      "model_module": "@jupyter-widgets/controls",
      "model_module_version": "1.5.0",
      "model_name": "HTMLModel",
      "state": {
       "layout": "IPY_MODEL_f868116e623f4c86ad70ffeba0dcb228",
       "style": "IPY_MODEL_dd171f37d8244b3489f2ea2ccc9a5f80",
       "value": "<b>Description: </b> "
      }
     },
     "02f20abde11d4bb390ab06eacde14cae": {
      "model_module": "@jupyter-widgets/controls",
      "model_module_version": "1.5.0",
      "model_name": "HTMLModel",
      "state": {
       "layout": "IPY_MODEL_9045b682c3374fff926fba034245934f",
       "style": "IPY_MODEL_7872ec2b32954c8a9f2f9f7ab5418e00",
       "value": "<b>Contact: </b> "
      }
     },
     "02f9680fce7e49978ad64012ad8dc40f": {
      "model_module": "@jupyter-widgets/base",
      "model_module_version": "1.2.0",
      "model_name": "LayoutModel",
      "state": {
       "grid_gap": "5px 10px",
       "grid_template_columns": "auto",
       "grid_template_rows": "auto",
       "padding": "5px 0px 5px 0px",
       "width": "100%"
      }
     },
     "0306d98e9aef43f7bf31c4cb6184853e": {
      "model_module": "@jupyter-widgets/controls",
      "model_module_version": "1.5.0",
      "model_name": "DescriptionStyleModel",
      "state": {
       "description_width": ""
      }
     },
     "0307b89ae7554f89918c48b7ee6470ab": {
      "model_module": "@jupyter-widgets/controls",
      "model_module_version": "1.5.0",
      "model_name": "HTMLModel",
      "state": {
       "layout": "IPY_MODEL_0df5c3b325b742aaad75de689ec979dd",
       "style": "IPY_MODEL_cfdb32f0e44e43bf893799c0587e725c",
       "value": "This Jupyter notebook provides examples on how to access ICOS observations and extract data and metadata information using the ICOS Carbon Portal Python library. Full documentation for the library is available on the <a href='https://icos-carbon-portal.github.io/pylib/' target='_blank'>project page</a>, how to install and wheel on <a href='https://pypi.org/project/icoscp/' target='_blank'>pypi.org</a>, source available on <a href='https://github.com/ICOS-Carbon-Portal/pylib' target='_blank'>GitHub</a>"
      }
     },
     "030d0133bf454da48c01202235f4b1a4": {
      "model_module": "@jupyter-widgets/base",
      "model_module_version": "1.2.0",
      "model_name": "LayoutModel",
      "state": {
       "grid_gap": "5px 10px",
       "grid_template_columns": "100px auto",
       "grid_template_rows": "auto auto auto auto auto",
       "padding": "50px 0px 70px 0px",
       "width": "100%"
      }
     },
     "03988215efd547449b95015669e618c1": {
      "model_module": "@jupyter-widgets/controls",
      "model_module_version": "1.5.0",
      "model_name": "GridBoxModel",
      "state": {
       "children": [
        "IPY_MODEL_fddf48841d89483bbf670591b8be963d",
        "IPY_MODEL_31e609d661d94d249f84e3fefbf22164",
        "IPY_MODEL_2073eb1d589040b19ed5248c6ea71264",
        "IPY_MODEL_ca321b336e154e10a6b503a7c5976cc8",
        "IPY_MODEL_0a5ac41808a647fdb15c8fde1f3c7491",
        "IPY_MODEL_abd452bd10d947ef93e9924873915b54",
        "IPY_MODEL_afd2ab19e66841b7b7ffe08ec24bf13b",
        "IPY_MODEL_c6971d7c0ea2433a92245808f44201ba",
        "IPY_MODEL_722b3fcfc675445e92abd0b6092dde83",
        "IPY_MODEL_1d9550ad17934106961442bf1ab23b37"
       ],
       "layout": "IPY_MODEL_eaa1ce4434af4bc9a891d70295e13332"
      }
     },
     "03a5f101e872454eb2ebfbabfd0d8487": {
      "model_module": "@jupyter-widgets/base",
      "model_module_version": "1.2.0",
      "model_name": "LayoutModel",
      "state": {}
     },
     "04172d75521f401684d0652f183eb36d": {
      "model_module": "@jupyter-widgets/controls",
      "model_module_version": "1.5.0",
      "model_name": "DescriptionStyleModel",
      "state": {
       "description_width": ""
      }
     },
     "041c8b4b25644346974c76a4ffc1cd3b": {
      "model_module": "@jupyter-widgets/controls",
      "model_module_version": "1.5.0",
      "model_name": "HTMLModel",
      "state": {
       "layout": "IPY_MODEL_a5606e7b7b3d4bff9e0d4736b5a51ed7",
       "style": "IPY_MODEL_a574d10a09584fe4be11aaa05aa86c58",
       "value": "<a href=./education/MSc_BSc/soil_exercise_ngen16/TestSoilT.ipynb target='_blank'>Soil exercise - NGEN16</a>"
      }
     },
     "0445b6552f69468587d1a8a6cf1551f2": {
      "model_module": "@jupyter-widgets/base",
      "model_module_version": "1.2.0",
      "model_name": "LayoutModel",
      "state": {}
     },
     "0490e8cb9a1a4398b092769f0a3086f9": {
      "model_module": "@jupyter-widgets/controls",
      "model_module_version": "1.5.0",
      "model_name": "HTMLModel",
      "state": {
       "layout": "IPY_MODEL_e6ca3fd7b9dd4240af04a2c711f4525f",
       "style": "IPY_MODEL_ee4740325b644a3d95f7d5d27e10653a",
       "value": "<a href=./education/General/carboncycle_svb.ipynb target='_blank'>Carbon cycle - Svartberget</a>"
      }
     },
     "04c30286fd51439b809e4a7579e50088": {
      "model_module": "@jupyter-widgets/base",
      "model_module_version": "1.2.0",
      "model_name": "LayoutModel",
      "state": {}
     },
     "04c45b557a2b4e9190bf7376f1bfd6b2": {
      "model_module": "@jupyter-widgets/base",
      "model_module_version": "1.2.0",
      "model_name": "LayoutModel",
      "state": {}
     },
     "0519d97564c24493ba3ef952acd7f406": {
      "model_module": "@jupyter-widgets/controls",
      "model_module_version": "1.5.0",
      "model_name": "HTMLModel",
      "state": {
       "layout": "IPY_MODEL_adbdd0e9cf3b49dd9b44af1c7dd92bba",
       "style": "IPY_MODEL_78e1f3e8587b4656a50b89ff6b21d0f4",
       "value": "<b>Description: </b> "
      }
     },
     "05593eab8f734b9fa9867f49657dd0fb": {
      "model_module": "@jupyter-widgets/controls",
      "model_module_version": "1.5.0",
      "model_name": "HTMLModel",
      "state": {
       "layout": "IPY_MODEL_6a80e12dd2254dfe8a8d55d7b1bcbfcf",
       "style": "IPY_MODEL_5916a577a3b8431ebc4fb49510ef088f",
       "value": "<b>GitHub: </b> "
      }
     },
     "0580cc7ceede49d0ab238bde4871b7dd": {
      "model_module": "@jupyter-widgets/base",
      "model_module_version": "1.2.0",
      "model_name": "LayoutModel",
      "state": {}
     },
     "05a0385710bf4ae1ab131d9ae927600d": {
      "model_module": "@jupyter-widgets/controls",
      "model_module_version": "1.5.0",
      "model_name": "HTMLModel",
      "state": {
       "layout": "IPY_MODEL_f683386dfddd43f4bff68ca08a2eb50b",
       "style": "IPY_MODEL_c731a239df714ac8b4009ea5ea34eeee",
       "value": "<a href=\"mailto: jupyter-info@icos-cp.eu\">jupyter-info@icos-cp.eu</a>, <a href=\"mailto: ute.karstens@nateko.lu.se\">ute.karstens@nateko.lu.se</a>, <a href=\"mailto: marko.scholze@nateko.lu.se\">marko.scholze@nateko.lu.se</a>, <a href=\"mailto: paul.miller@nateko.lu.se\">paul.miller@nateko.lu.se</a>, <a href=\"mailto: Maj-Lena.Linderson@nateko.lu.se\">Maj-Lena.Linderson@nateko.lu.se</a>"
      }
     },
     "05bba8acced74f1b9fbd0485708f2bd4": {
      "model_module": "@jupyter-widgets/base",
      "model_module_version": "1.2.0",
      "model_name": "LayoutModel",
      "state": {}
     },
     "05e9eb7064a241ac873743f9b38596bb": {
      "model_module": "@jupyter-widgets/base",
      "model_module_version": "1.2.0",
      "model_name": "LayoutModel",
      "state": {}
     },
     "060c744319ae4891b1f86fb9722aefa2": {
      "model_module": "@jupyter-widgets/controls",
      "model_module_version": "1.5.0",
      "model_name": "HTMLModel",
      "state": {
       "layout": "IPY_MODEL_2c3153dc1abc4c07b7fc3433968defdd",
       "style": "IPY_MODEL_69e5e9d282e44465a18be7e827338db4",
       "value": "<b>Title: </b> "
      }
     },
     "0633c8d49ed24873bf16733c9bb18dfa": {
      "model_module": "@jupyter-widgets/controls",
      "model_module_version": "1.5.0",
      "model_name": "HTMLModel",
      "state": {
       "layout": "IPY_MODEL_e03a5f596ced4aaba556e90d9bff58a9",
       "style": "IPY_MODEL_fa81019453da4d618deb6f62deef50a9",
       "value": "<b>Title: </b> "
      }
     },
     "063ea337a2aa41839fb123982fa4c8d1": {
      "model_module": "@jupyter-widgets/base",
      "model_module_version": "1.2.0",
      "model_name": "LayoutModel",
      "state": {}
     },
     "06798522e9e84b90be56d42a0e99b327": {
      "model_module": "@jupyter-widgets/controls",
      "model_module_version": "1.5.0",
      "model_name": "HTMLModel",
      "state": {
       "layout": "IPY_MODEL_124c70a054b9430b873a6ff63622bea6",
       "style": "IPY_MODEL_a8198386d24b47b6883891fab33ff312",
       "value": "This Jupyter notebook provides examples on how to access data and metadata of collections using ICOS Carbon Portal Python library. Full documentation for the ICOS library on the <a href='https://icos-carbon-portal.github.io/pylib/' target='_blank'>project page</a>, how to install and wheel on <a href='https://pypi.org/project/icoscp/' target='_blank'>pypi.org</a>, source available on <a href='https://github.com/ICOS-Carbon-Portal/pylib' target='_blank'>GitHub</a>."
      }
     },
     "0688b71bfb754072bdd038b423b03ffa": {
      "model_module": "@jupyter-widgets/controls",
      "model_module_version": "1.5.0",
      "model_name": "DescriptionStyleModel",
      "state": {
       "description_width": ""
      }
     },
     "06cfb81d508d40708c9ba42467eca5cb": {
      "model_module": "@jupyter-widgets/base",
      "model_module_version": "1.2.0",
      "model_name": "LayoutModel",
      "state": {}
     },
     "06d3c2b03794468b91262beb027281dd": {
      "model_module": "@jupyter-widgets/controls",
      "model_module_version": "1.5.0",
      "model_name": "DescriptionStyleModel",
      "state": {
       "description_width": ""
      }
     },
     "06d817b2f05e4634b42af6f9b523b99d": {
      "model_module": "@jupyter-widgets/controls",
      "model_module_version": "1.5.0",
      "model_name": "DescriptionStyleModel",
      "state": {
       "description_width": ""
      }
     },
     "06e834fc12b04a79984b620c3030ef3a": {
      "model_module": "@jupyter-widgets/base",
      "model_module_version": "1.2.0",
      "model_name": "LayoutModel",
      "state": {}
     },
     "07311ace780b4233a4621df1db7f1925": {
      "model_module": "@jupyter-widgets/controls",
      "model_module_version": "1.5.0",
      "model_name": "DescriptionStyleModel",
      "state": {
       "description_width": ""
      }
     },
     "0734476614d04d6bac20f3287d87e08d": {
      "model_module": "@jupyter-widgets/controls",
      "model_module_version": "1.5.0",
      "model_name": "DescriptionStyleModel",
      "state": {
       "description_width": ""
      }
     },
     "074584c2fe2547e9b534b541bd6ba09b": {
      "model_module": "@jupyter-widgets/controls",
      "model_module_version": "1.5.0",
      "model_name": "DescriptionStyleModel",
      "state": {
       "description_width": ""
      }
     },
     "0756d8950e3345679be2320be35649d1": {
      "model_module": "@jupyter-widgets/controls",
      "model_module_version": "1.5.0",
      "model_name": "DescriptionStyleModel",
      "state": {
       "description_width": ""
      }
     },
     "075ba369b9e3418daa7f12d2026ef9fd": {
      "model_module": "@jupyter-widgets/controls",
      "model_module_version": "1.5.0",
      "model_name": "HTMLModel",
      "state": {
       "layout": "IPY_MODEL_9c298bc7a8db408e808e46cc627ac162",
       "style": "IPY_MODEL_7e8e320810254dd7b3a193654b015329",
       "value": "<b>Contact: </b> "
      }
     },
     "077d5ce8cd9a4ee88607927a8e386da9": {
      "model_module": "@jupyter-widgets/controls",
      "model_module_version": "1.5.0",
      "model_name": "HTMLModel",
      "state": {
       "layout": "IPY_MODEL_a1931692d21c463d96c82366449061ad",
       "style": "IPY_MODEL_491e089a102f4ad7bb1544f46a01842d",
       "value": "<b>Description: </b> "
      }
     },
     "0786cc0de87648a4b1bb59e46d5b31cb": {
      "model_module": "@jupyter-widgets/controls",
      "model_module_version": "1.5.0",
      "model_name": "GridBoxModel",
      "state": {
       "children": [
        "IPY_MODEL_5c35fd7010d749b6a53d1de14adcf4fa",
        "IPY_MODEL_5a425c3e5e7948fead0317c389f10a22"
       ],
       "layout": "IPY_MODEL_65b7cb0a25ff45e8986122ec564b2840"
      }
     },
     "078f9231fb38486889440f688adc754b": {
      "model_module": "@jupyter-widgets/controls",
      "model_module_version": "1.5.0",
      "model_name": "GridBoxModel",
      "state": {
       "children": [
        "IPY_MODEL_2280ad30fee345ad8e7d215863c65652",
        "IPY_MODEL_b6d75850ea8f407a913d1dcc26aff63a",
        "IPY_MODEL_0519d97564c24493ba3ef952acd7f406",
        "IPY_MODEL_8d06420d53af415c8953dd7e70219f0e",
        "IPY_MODEL_2207d078839e4fe9b513070e1e0808a2",
        "IPY_MODEL_a806a324a18f4fa39eba94336b3481f2",
        "IPY_MODEL_12c02131fa204a0bb5f0e03a2ff906fb",
        "IPY_MODEL_25e00679eb3f4d248b04b95827999be8",
        "IPY_MODEL_5f7e4391b5924546acfb6216f614c471",
        "IPY_MODEL_263a7a05a9ab42589887c653f9d56230"
       ],
       "layout": "IPY_MODEL_c772495d2dd041489e843bff2e644f72"
      }
     },
     "07acce597d924a8d8c289b1eccd3ade8": {
      "model_module": "@jupyter-widgets/base",
      "model_module_version": "1.2.0",
      "model_name": "LayoutModel",
      "state": {}
     },
     "07adf3b393384e919f102a4cbd87ddd8": {
      "model_module": "@jupyter-widgets/controls",
      "model_module_version": "1.5.0",
      "model_name": "DescriptionStyleModel",
      "state": {
       "description_width": ""
      }
     },
     "07d81cb26e224b8fa19655cc8a3f0027": {
      "model_module": "@jupyter-widgets/controls",
      "model_module_version": "1.5.0",
      "model_name": "DescriptionStyleModel",
      "state": {
       "description_width": ""
      }
     },
     "081417eabef74809badea1e06d753141": {
      "model_module": "@jupyter-widgets/controls",
      "model_module_version": "1.5.0",
      "model_name": "HTMLModel",
      "state": {
       "layout": "IPY_MODEL_18fcd0db05f54d4c978f698dc1a6273a",
       "style": "IPY_MODEL_9b38fdf9fde34ddfae77cf33ff5a907c",
       "value": "<a href='https://github.com/ICOS-Carbon-Portal/jupyter/issues' target='_blank'>Click here to report an issue</a>"
      }
     },
     "0888adf932ad42589e3e66d2c15e1514": {
      "model_module": "@jupyter-widgets/controls",
      "model_module_version": "1.5.0",
      "model_name": "DescriptionStyleModel",
      "state": {
       "description_width": ""
      }
     },
     "08bfceca7327448c9ccbcacb4c53788b": {
      "model_module": "@jupyter-widgets/controls",
      "model_module_version": "1.5.0",
      "model_name": "HTMLModel",
      "state": {
       "layout": "IPY_MODEL_a604864a187c421da88fd57f0092e3f0",
       "style": "IPY_MODEL_fe1e3257fb874b10afe78abdaaf882f7",
       "value": "<b>Thumbnail: </b> "
      }
     },
     "08f16e077fc1452aacad4adead896d09": {
      "model_module": "@jupyter-widgets/base",
      "model_module_version": "1.2.0",
      "model_name": "LayoutModel",
      "state": {}
     },
     "090cc3fc07ea49a1b4c6f9a809874667": {
      "model_module": "@jupyter-widgets/controls",
      "model_module_version": "1.5.0",
      "model_name": "HTMLModel",
      "state": {
       "layout": "IPY_MODEL_925aa72c806d42f299a53c55d89f41a8",
       "style": "IPY_MODEL_0975df4fc49f47fdb1f141c7a26ef4c0",
       "value": "<img src=\"./icos_jupyter_notebooks/ind_tools/img/01_introduction/for_loops.PNG\">"
      }
     },
     "09338c2c0cb64692a2c4e4d3e7c0c2e0": {
      "model_module": "@jupyter-widgets/controls",
      "model_module_version": "1.5.0",
      "model_name": "DescriptionStyleModel",
      "state": {
       "description_width": ""
      }
     },
     "096851aedc5a4094979ed727ee41b8a8": {
      "model_module": "@jupyter-widgets/base",
      "model_module_version": "1.2.0",
      "model_name": "LayoutModel",
      "state": {}
     },
     "0975df4fc49f47fdb1f141c7a26ef4c0": {
      "model_module": "@jupyter-widgets/controls",
      "model_module_version": "1.5.0",
      "model_name": "DescriptionStyleModel",
      "state": {
       "description_width": ""
      }
     },
     "098c00bf19c2454ea9ef5cd24df8f086": {
      "model_module": "@jupyter-widgets/base",
      "model_module_version": "1.2.0",
      "model_name": "LayoutModel",
      "state": {}
     },
     "099c08172baf4771a8a3e2d2db8ddc7c": {
      "model_module": "@jupyter-widgets/controls",
      "model_module_version": "1.5.0",
      "model_name": "HTMLModel",
      "state": {
       "layout": "IPY_MODEL_6561af3b7d8f4cbd90c909083886db3a",
       "style": "IPY_MODEL_6e861f84869d4b46ad5d0e2a69eead4e",
       "value": "<a href=\"mailto: jupyter-info@icos-cp.eu\">jupyter-info@icos-cp.eu</a>"
      }
     },
     "09c1ef12caf444ac84398a125a5a2a36": {
      "model_module": "@jupyter-widgets/controls",
      "model_module_version": "1.5.0",
      "model_name": "HTMLModel",
      "state": {
       "layout": "IPY_MODEL_2303922cec544ce1ba5e3409b5e41623",
       "style": "IPY_MODEL_8d66fbbd18484bed8501bf060017250a",
       "value": "<b>GitHub: </b> "
      }
     },
     "09c553a91da94f5e8e6821c858888e48": {
      "model_module": "@jupyter-widgets/base",
      "model_module_version": "1.2.0",
      "model_name": "LayoutModel",
      "state": {}
     },
     "09f80b2693d04bc6bff4fc26c908c78c": {
      "model_module": "@jupyter-widgets/base",
      "model_module_version": "1.2.0",
      "model_name": "LayoutModel",
      "state": {}
     },
     "09f885155f504dd3adb54faa07413e98": {
      "model_module": "@jupyter-widgets/base",
      "model_module_version": "1.2.0",
      "model_name": "LayoutModel",
      "state": {
       "grid_gap": "5px 10px",
       "grid_template_columns": "100px auto",
       "grid_template_rows": "auto auto auto auto auto",
       "padding": "50px 0px 70px 0px",
       "width": "100%"
      }
     },
     "09fa76820bb8477ea061c78347967613": {
      "model_module": "@jupyter-widgets/base",
      "model_module_version": "1.2.0",
      "model_name": "LayoutModel",
      "state": {
       "grid_gap": "5px 10px",
       "grid_template_columns": "auto",
       "grid_template_rows": "auto",
       "padding": "5px 0px 5px 0px",
       "width": "100%"
      }
     },
     "0a5ac41808a647fdb15c8fde1f3c7491": {
      "model_module": "@jupyter-widgets/controls",
      "model_module_version": "1.5.0",
      "model_name": "HTMLModel",
      "state": {
       "layout": "IPY_MODEL_7795ea5d28274304befefe1a7ab08c56",
       "style": "IPY_MODEL_4a7404ab460245ef8aa9030cb3290284",
       "value": "<b>Contact: </b> "
      }
     },
     "0a812040e7e34f2e9b34322ebd47d53b": {
      "model_module": "@jupyter-widgets/base",
      "model_module_version": "1.2.0",
      "model_name": "LayoutModel",
      "state": {}
     },
     "0afb3e7c32e54212886e0cca34970831": {
      "model_module": "@jupyter-widgets/base",
      "model_module_version": "1.2.0",
      "model_name": "LayoutModel",
      "state": {}
     },
     "0b1021675ba64369beb430dc9b69d2a0": {
      "model_module": "@jupyter-widgets/controls",
      "model_module_version": "1.5.0",
      "model_name": "DescriptionStyleModel",
      "state": {
       "description_width": ""
      }
     },
     "0b788e4ed8254c018ba113b20c37d51a": {
      "model_module": "@jupyter-widgets/base",
      "model_module_version": "1.2.0",
      "model_name": "LayoutModel",
      "state": {}
     },
     "0b910326bb064f72a75e6c10f938e8bc": {
      "model_module": "@jupyter-widgets/controls",
      "model_module_version": "1.5.0",
      "model_name": "DescriptionStyleModel",
      "state": {
       "description_width": ""
      }
     },
     "0bae0460628842238280c81629e876f9": {
      "model_module": "@jupyter-widgets/base",
      "model_module_version": "1.2.0",
      "model_name": "LayoutModel",
      "state": {}
     },
     "0be6c33a889441299b937a0089f91b49": {
      "model_module": "@jupyter-widgets/controls",
      "model_module_version": "1.5.0",
      "model_name": "DescriptionStyleModel",
      "state": {
       "description_width": ""
      }
     },
     "0be87699918c4d249fd3927ef17718cc": {
      "model_module": "@jupyter-widgets/controls",
      "model_module_version": "1.5.0",
      "model_name": "DescriptionStyleModel",
      "state": {
       "description_width": ""
      }
     },
     "0be907cecb3140a79423123cce982e53": {
      "model_module": "@jupyter-widgets/controls",
      "model_module_version": "1.5.0",
      "model_name": "HTMLModel",
      "state": {
       "layout": "IPY_MODEL_e1573aa386c942e1b3e8b533d15e0d3a",
       "style": "IPY_MODEL_25a2ae9a3a354e07b8c0efe09c6e317f",
       "value": "<b>Title: </b> "
      }
     },
     "0bf1edbe83dd4f44b0525108637b530c": {
      "model_module": "@jupyter-widgets/base",
      "model_module_version": "1.2.0",
      "model_name": "LayoutModel",
      "state": {}
     },
     "0c008d88f8ea42eaa89b8b5c265a45c3": {
      "model_module": "@jupyter-widgets/controls",
      "model_module_version": "1.5.0",
      "model_name": "DescriptionStyleModel",
      "state": {
       "description_width": ""
      }
     },
     "0c2f036d88ff4f0fae3aeb4054ca68b7": {
      "model_module": "@jupyter-widgets/base",
      "model_module_version": "1.2.0",
      "model_name": "LayoutModel",
      "state": {}
     },
     "0c4d8cf28357491b8c9f76b0c77bbc3a": {
      "model_module": "@jupyter-widgets/controls",
      "model_module_version": "1.5.0",
      "model_name": "HTMLModel",
      "state": {
       "layout": "IPY_MODEL_df88559f41a74503b8de76bce208937c",
       "style": "IPY_MODEL_d4572b9a4a074c6aa416a0f5da6bfd73",
       "value": "<a href=./education/PhD/upscaling_carbon_fluxes/notebooks/tools.ipynb target='_blank'>Python modules developed for the course</a>"
      }
     },
     "0c5b60485f2d4bde816eab69c67f894e": {
      "model_module": "@jupyter-widgets/controls",
      "model_module_version": "1.5.0",
      "model_name": "DescriptionStyleModel",
      "state": {
       "description_width": ""
      }
     },
     "0c5e0a4cab804ea48ef25f936c02af5e": {
      "model_module": "@jupyter-widgets/controls",
      "model_module_version": "1.5.0",
      "model_name": "DescriptionStyleModel",
      "state": {
       "description_width": ""
      }
     },
     "0c947b2256894bd7986e8366006f7105": {
      "model_module": "@jupyter-widgets/controls",
      "model_module_version": "1.5.0",
      "model_name": "GridBoxModel",
      "state": {
       "children": [
        "IPY_MODEL_5706bb2be327426893c9a8440ca8cc5f",
        "IPY_MODEL_4b19448e6861428e815727e9e3dc7088",
        "IPY_MODEL_288226bcb985484d83fcf80fd2b29aba",
        "IPY_MODEL_114bce6c78b04e5c98546414079dfa0b",
        "IPY_MODEL_770dfece7b2c4b71853437fe9fc18abc",
        "IPY_MODEL_36a786dbc1e7487e9c59c963d30b4ab8",
        "IPY_MODEL_df12e5b7eade4c22b041bdbf1fcdf776",
        "IPY_MODEL_1ad1ed9314434c54b5d2332f288a9bd3",
        "IPY_MODEL_203e930ba4824267a897e104cd5f4fd6",
        "IPY_MODEL_fafb658a38de4c418fc6929d8c7e20d7"
       ],
       "layout": "IPY_MODEL_c6ca31f179264562b1fa7eaa20497876"
      }
     },
     "0cd8b42be5764cafbb89905cbb448e31": {
      "model_module": "@jupyter-widgets/base",
      "model_module_version": "1.2.0",
      "model_name": "LayoutModel",
      "state": {}
     },
     "0cf4d18e4a624fd18b77719a2b260115": {
      "model_module": "@jupyter-widgets/base",
      "model_module_version": "1.2.0",
      "model_name": "LayoutModel",
      "state": {}
     },
     "0cfb08a5c91240cdb0133267a225a0f0": {
      "model_module": "@jupyter-widgets/base",
      "model_module_version": "1.2.0",
      "model_name": "LayoutModel",
      "state": {}
     },
     "0cfded6814c34c22b5bd20b6dc592079": {
      "model_module": "@jupyter-widgets/base",
      "model_module_version": "1.2.0",
      "model_name": "LayoutModel",
      "state": {}
     },
     "0d0c9843ddd443d994ef2498634245ac": {
      "model_module": "@jupyter-widgets/base",
      "model_module_version": "1.2.0",
      "model_name": "LayoutModel",
      "state": {}
     },
     "0d35a3966a13446184ffb23ceb8bac96": {
      "model_module": "@jupyter-widgets/base",
      "model_module_version": "1.2.0",
      "model_name": "LayoutModel",
      "state": {}
     },
     "0d51f77892dd4e25973e73a0a44ed0b3": {
      "model_module": "@jupyter-widgets/base",
      "model_module_version": "1.2.0",
      "model_name": "LayoutModel",
      "state": {}
     },
     "0d905b3484b54678a505c2833a033dc3": {
      "model_module": "@jupyter-widgets/base",
      "model_module_version": "1.2.0",
      "model_name": "LayoutModel",
      "state": {}
     },
     "0d979d3f63f94b8e9847381117f9c4b3": {
      "model_module": "@jupyter-widgets/controls",
      "model_module_version": "1.5.0",
      "model_name": "DescriptionStyleModel",
      "state": {
       "description_width": ""
      }
     },
     "0df5c3b325b742aaad75de689ec979dd": {
      "model_module": "@jupyter-widgets/base",
      "model_module_version": "1.2.0",
      "model_name": "LayoutModel",
      "state": {}
     },
     "0df5d014b46b4b008e6b462454ff3d2b": {
      "model_module": "@jupyter-widgets/controls",
      "model_module_version": "1.5.0",
      "model_name": "HTMLModel",
      "state": {
       "layout": "IPY_MODEL_ecd0c512a5a64df580e843b731f1de32",
       "style": "IPY_MODEL_caf8a8594f494703a59527b87244cb36",
       "value": "This is an ancillary notebook that contains various functions and settings used by the exercise-notebooks in the <b>OTC Data Reduction Workshop</b>."
      }
     },
     "0e282c0b28b842cfbae00e7ccf3647e9": {
      "model_module": "@jupyter-widgets/controls",
      "model_module_version": "1.5.0",
      "model_name": "DescriptionStyleModel",
      "state": {
       "description_width": ""
      }
     },
     "0e4b140dcbdd4e37b1c8eb3c678dc02c": {
      "model_module": "@jupyter-widgets/controls",
      "model_module_version": "1.5.0",
      "model_name": "DescriptionStyleModel",
      "state": {
       "description_width": ""
      }
     },
     "0ee17614c91e4d2e85c8c6ca9382900a": {
      "model_module": "@jupyter-widgets/controls",
      "model_module_version": "1.5.0",
      "model_name": "HTMLModel",
      "state": {
       "layout": "IPY_MODEL_93b1e1a9dccf4202a3537ac7645a14ef",
       "style": "IPY_MODEL_48335ee9ded24f71a09a220150b4cd77",
       "value": "<a href='https://github.com/ICOS-Carbon-Portal/jupyter/issues' target='_blank'>Click here to report an issue</a>"
      }
     },
     "0f4080ac862f4bada225ddcb8c8f19e0": {
      "model_module": "@jupyter-widgets/base",
      "model_module_version": "1.2.0",
      "model_name": "LayoutModel",
      "state": {}
     },
     "0f84a6fb3a994693b8cba0ed66fe494a": {
      "model_module": "@jupyter-widgets/base",
      "model_module_version": "1.2.0",
      "model_name": "LayoutModel",
      "state": {}
     },
     "0f975644e8924d5fbd965011dc591303": {
      "model_module": "@jupyter-widgets/base",
      "model_module_version": "1.2.0",
      "model_name": "LayoutModel",
      "state": {}
     },
     "0faf3432554242318f80aaf0b1222528": {
      "model_module": "@jupyter-widgets/controls",
      "model_module_version": "1.5.0",
      "model_name": "HTMLModel",
      "state": {
       "layout": "IPY_MODEL_c793ecdfb78f4bcdb01fe70656cd22a2",
       "style": "IPY_MODEL_b5b06ef0c8da49b9b25d4e8cd6727f57",
       "value": "<b>Contact: </b> "
      }
     },
     "0fb4ebd592644b628c7048f252bc5758": {
      "model_module": "@jupyter-widgets/controls",
      "model_module_version": "1.5.0",
      "model_name": "DescriptionStyleModel",
      "state": {
       "description_width": ""
      }
     },
     "0fd4fd3446704bc691c945f3e4b06ed8": {
      "model_module": "@jupyter-widgets/controls",
      "model_module_version": "1.5.0",
      "model_name": "DescriptionStyleModel",
      "state": {
       "description_width": ""
      }
     },
     "1030ed54b0c242d79a277892be1564eb": {
      "model_module": "@jupyter-widgets/controls",
      "model_module_version": "1.5.0",
      "model_name": "HTMLModel",
      "state": {
       "layout": "IPY_MODEL_fd6884687df84ec4ba2f9d4390fd2b31",
       "style": "IPY_MODEL_005cdde708a14267a1ebd1d454c0d73d",
       "value": "<b>Description: </b> "
      }
     },
     "103d0199782548a087c023f5a3c96d01": {
      "model_module": "@jupyter-widgets/controls",
      "model_module_version": "1.5.0",
      "model_name": "HTMLModel",
      "state": {
       "layout": "IPY_MODEL_ab638ed14e2d453ea6c37e2e55c6adfc",
       "style": "IPY_MODEL_412214a4b60d402285157cb542fae505",
       "value": "<b>Contact: </b> "
      }
     },
     "10a1b0abeee24981b214436b815dd26b": {
      "model_module": "@jupyter-widgets/controls",
      "model_module_version": "1.5.0",
      "model_name": "HTMLModel",
      "state": {
       "layout": "IPY_MODEL_e5799c2d45e04697b389faa908d6fee2",
       "style": "IPY_MODEL_6fc2eb015b8c4342b36cbb7671a83ecd",
       "value": "<b>Thumbnail: </b> "
      }
     },
     "10ae277d06884c24bff120808c86d689": {
      "model_module": "@jupyter-widgets/controls",
      "model_module_version": "1.5.0",
      "model_name": "HTMLModel",
      "state": {
       "layout": "IPY_MODEL_174e9a6b3c6c4319ac5fcd2662bd2eb3",
       "style": "IPY_MODEL_8590d93939544e738691d2e2a26b522d",
       "value": "This is an ancillary notebook aimed for letting students explore the registered measurements from the ecosystem stations. The purpose of this notebook is for students to get an idea/overview of the value-range of the measurements registered at a certain station."
      }
     },
     "10c62ac4d2e645e4826eaa26256581b9": {
      "model_module": "@jupyter-widgets/controls",
      "model_module_version": "1.5.0",
      "model_name": "AccordionModel",
      "state": {
       "_titles": {
        "0": "Exercise 1 - Create an interactive map",
        "1": "Exercise 2 - Map with workshop members",
        "2": "Exercise 3 - Research Station Map",
        "3": "Exercise 4 - Create an advanced interactive Map"
       },
       "children": [
        "IPY_MODEL_a535cc7c82004e56a79eb5e18bbe52bb",
        "IPY_MODEL_d7727d54ba7c4c66a6aee9ad59cd53a1",
        "IPY_MODEL_41918898f4de4c96b8f97a0eea73bee0",
        "IPY_MODEL_606cb1769b5d43d4917032ece7b60324"
       ],
       "layout": "IPY_MODEL_d3e949ef275b4946a63c550b35484f25",
       "selected_index": null
      }
     },
     "113f6f3fc374438dac23a9001765a241": {
      "model_module": "@jupyter-widgets/controls",
      "model_module_version": "1.5.0",
      "model_name": "HTMLModel",
      "state": {
       "layout": "IPY_MODEL_4b9d40defaab4af9939358c00f0a9621",
       "style": "IPY_MODEL_5da218e83a0c49e29378f310a6382120",
       "value": "<b>Title: </b> "
      }
     },
     "114bce6c78b04e5c98546414079dfa0b": {
      "model_module": "@jupyter-widgets/controls",
      "model_module_version": "1.5.0",
      "model_name": "HTMLModel",
      "state": {
       "layout": "IPY_MODEL_33b3b98eb7dc49549c627d70fd00aff3",
       "style": "IPY_MODEL_0c5b60485f2d4bde816eab69c67f894e",
       "value": "This notebook contains exercises for the <b>OTC Data Reduction Workshop</b>. The first exercise in <i>pCO₂ data reduction part 1 - Gas calibration</i> was dealing with the calibration of the xCO₂-data as they were coming from the instrument. The data were produced by a <i>General Oceanics</i> instrument, but the idea would be the same for data from any instrument. In this notebook, we will use the same data set as in <i>pCO₂ data reduction part 1 - Gas calibration</i> but with all recorded variables. "
      }
     },
     "114fcd7702bc411292e556e8c7eb727b": {
      "model_module": "@jupyter-widgets/controls",
      "model_module_version": "1.5.0",
      "model_name": "HTMLModel",
      "state": {
       "layout": "IPY_MODEL_dd2e6a69258b4ce489db5ee0e90a9ebf",
       "style": "IPY_MODEL_3bc1ac119bc24bb3b56d28273841b0be",
       "value": "<b>Description: </b> "
      }
     },
     "114ff435acda4956a35e07e3392c83b8": {
      "model_module": "@jupyter-widgets/base",
      "model_module_version": "1.2.0",
      "model_name": "LayoutModel",
      "state": {}
     },
     "115e3a9a32f541d8b85c2cf7f540c5d4": {
      "model_module": "@jupyter-widgets/controls",
      "model_module_version": "1.5.0",
      "model_name": "DescriptionStyleModel",
      "state": {
       "description_width": ""
      }
     },
     "117e15533fa14075815e390ac2a3fe7e": {
      "model_module": "@jupyter-widgets/base",
      "model_module_version": "1.2.0",
      "model_name": "LayoutModel",
      "state": {}
     },
     "12002b5754cd4f7dae6ad05d9f357730": {
      "model_module": "@jupyter-widgets/base",
      "model_module_version": "1.2.0",
      "model_name": "LayoutModel",
      "state": {}
     },
     "1235476ae2014853b938f02e6107d27b": {
      "model_module": "@jupyter-widgets/base",
      "model_module_version": "1.2.0",
      "model_name": "LayoutModel",
      "state": {}
     },
     "124c70a054b9430b873a6ff63622bea6": {
      "model_module": "@jupyter-widgets/base",
      "model_module_version": "1.2.0",
      "model_name": "LayoutModel",
      "state": {}
     },
     "1275e429489c4d09bf8ae2063c4af501": {
      "model_module": "@jupyter-widgets/controls",
      "model_module_version": "1.5.0",
      "model_name": "DescriptionStyleModel",
      "state": {
       "description_width": ""
      }
     },
     "128139e0f7c545d39726d060d0a65a53": {
      "model_module": "@jupyter-widgets/controls",
      "model_module_version": "1.5.0",
      "model_name": "HTMLModel",
      "state": {
       "layout": "IPY_MODEL_4023ca1051fc4ebf88f3ce738ae70bae",
       "style": "IPY_MODEL_e8c31ecf82944ec8bc13b5198b8a5b8b",
       "value": "<a href='https://github.com/ICOS-Carbon-Portal/jupyter/issues' target='_blank'>Click here to report an issue</a>"
      }
     },
     "1289e15e198544b2bdc911054199c739": {
      "model_module": "@jupyter-widgets/controls",
      "model_module_version": "1.5.0",
      "model_name": "DescriptionStyleModel",
      "state": {
       "description_width": ""
      }
     },
     "12c02131fa204a0bb5f0e03a2ff906fb": {
      "model_module": "@jupyter-widgets/controls",
      "model_module_version": "1.5.0",
      "model_name": "HTMLModel",
      "state": {
       "layout": "IPY_MODEL_264051697d18460ebf904b054a471eb5",
       "style": "IPY_MODEL_59a3c4552d0e4d2b886166ddbbf1ad09",
       "value": "<b>GitHub: </b> "
      }
     },
     "12d44b31e3da40e4bdfa675bc5f9a6d0": {
      "model_module": "@jupyter-widgets/controls",
      "model_module_version": "1.5.0",
      "model_name": "DescriptionStyleModel",
      "state": {
       "description_width": ""
      }
     },
     "12f12dd1398b4d13a00543b646fd17d4": {
      "model_module": "@jupyter-widgets/controls",
      "model_module_version": "1.5.0",
      "model_name": "HTMLModel",
      "state": {
       "layout": "IPY_MODEL_0bae0460628842238280c81629e876f9",
       "style": "IPY_MODEL_c1087f40a85841c1a8716d0fd11b5e50",
       "value": "<b>Thumbnail: </b> "
      }
     },
     "132a61c7420946f6adde1c734372a0ac": {
      "model_module": "@jupyter-widgets/controls",
      "model_module_version": "1.5.0",
      "model_name": "DescriptionStyleModel",
      "state": {
       "description_width": ""
      }
     },
     "13765e34f82140b1aed4439ef47f3e81": {
      "model_module": "@jupyter-widgets/controls",
      "model_module_version": "1.5.0",
      "model_name": "HTMLModel",
      "state": {
       "layout": "IPY_MODEL_07acce597d924a8d8c289b1eccd3ade8",
       "style": "IPY_MODEL_f87a1d080d164270a9871d407cace86d",
       "value": "<b>Title: </b> "
      }
     },
     "141125100db745dab3bfcbefb002dfca": {
      "model_module": "@jupyter-widgets/base",
      "model_module_version": "1.2.0",
      "model_name": "LayoutModel",
      "state": {}
     },
     "14b5394c0ec2492ba988055bf3bd3464": {
      "model_module": "@jupyter-widgets/controls",
      "model_module_version": "1.5.0",
      "model_name": "DescriptionStyleModel",
      "state": {
       "description_width": ""
      }
     },
     "14ba82952c3f4a398de76298c530281b": {
      "model_module": "@jupyter-widgets/controls",
      "model_module_version": "1.5.0",
      "model_name": "HTMLModel",
      "state": {
       "layout": "IPY_MODEL_a4eabc987fdc4a8e9bba5767ec92849a",
       "style": "IPY_MODEL_c4521081a5a445d3a27ee0e356ee4edc",
       "value": "<b>Thumbnail: </b> "
      }
     },
     "14c4e94810964b6098252de9cfb0441f": {
      "model_module": "@jupyter-widgets/controls",
      "model_module_version": "1.5.0",
      "model_name": "HTMLModel",
      "state": {
       "layout": "IPY_MODEL_e3aca3dc696d493f86d01d7caaa6247d",
       "style": "IPY_MODEL_acf9d6954242446eafdf2166287a642a",
       "value": "<img src=\"./icos_jupyter_notebooks/ind_tools/img/02_pylib_ex/ex6c.PNG\">"
      }
     },
     "158333748f8143599f3312b4888ef2c0": {
      "model_module": "@jupyter-widgets/base",
      "model_module_version": "1.2.0",
      "model_name": "LayoutModel",
      "state": {
       "grid_gap": "5px 10px",
       "grid_template_columns": "100px auto",
       "grid_template_rows": "auto auto auto auto auto",
       "padding": "50px 0px 70px 0px",
       "width": "100%"
      }
     },
     "15a64e10b4134668b91bbbf5e992945a": {
      "model_module": "@jupyter-widgets/controls",
      "model_module_version": "1.5.0",
      "model_name": "HTMLModel",
      "state": {
       "layout": "IPY_MODEL_9605b8a0d4a64e34babed4068c1f04f7",
       "style": "IPY_MODEL_21f1a8ff9f894112bd629d317430de32",
       "value": "<b>Description: </b> "
      }
     },
     "15a8e4a46c974b6db275504ed246737d": {
      "model_module": "@jupyter-widgets/controls",
      "model_module_version": "1.5.0",
      "model_name": "DescriptionStyleModel",
      "state": {
       "description_width": ""
      }
     },
     "161bd8369e5a492fa83716e4bb3ac56a": {
      "model_module": "@jupyter-widgets/controls",
      "model_module_version": "1.5.0",
      "model_name": "HTMLModel",
      "state": {
       "layout": "IPY_MODEL_a78978c8bbf84fea977415de9ea52095",
       "style": "IPY_MODEL_2e094bd57f52486a94e851a8acf0e861",
       "value": "<img src=\"./icos_jupyter_notebooks/ind_tools/img/03_icos_JNBs/icos_ao_stats/gat_co_co2.PNG\">"
      }
     },
     "162027c4b4364b928d9df7905315f7a7": {
      "model_module": "@jupyter-widgets/controls",
      "model_module_version": "1.5.0",
      "model_name": "DescriptionStyleModel",
      "state": {
       "description_width": ""
      }
     },
     "165022a10ada493e9fb74a764b8c87a0": {
      "model_module": "@jupyter-widgets/base",
      "model_module_version": "1.2.0",
      "model_name": "LayoutModel",
      "state": {}
     },
     "1660073c5e844776b2c853fb5ade4ba8": {
      "model_module": "@jupyter-widgets/base",
      "model_module_version": "1.2.0",
      "model_name": "LayoutModel",
      "state": {}
     },
     "1672cee827104af1b592ffe92b8cb656": {
      "model_module": "@jupyter-widgets/controls",
      "model_module_version": "1.5.0",
      "model_name": "HTMLModel",
      "state": {
       "layout": "IPY_MODEL_ea00f4f8d4e34a2790f20a431770afa1",
       "style": "IPY_MODEL_94c8a82d584e43cca78881151a48fc99",
       "value": "<b>Description: </b> "
      }
     },
     "1697cbdccf8942f189b0edc247324393": {
      "model_module": "@jupyter-widgets/base",
      "model_module_version": "1.2.0",
      "model_name": "LayoutModel",
      "state": {}
     },
     "16bd883940e34bfa89b54ba67576ad02": {
      "model_module": "@jupyter-widgets/controls",
      "model_module_version": "1.5.0",
      "model_name": "HTMLModel",
      "state": {
       "layout": "IPY_MODEL_81626c37683b40b6a9e207aaac9dda35",
       "style": "IPY_MODEL_7ad8c580d1284fa4a7ae331d2c7875d5",
       "value": "This exercise package is focusing on how to use country masks on modelling results (i.e. vegetation modelling, inverse modelling) to estimate national budgets. You will use modelling results with different spatial resolutions together with country masks of different resolution and/or country coverage (i.e. incl. Exclusive Economic Zones - EEZ or not incl. EEZ)."
      }
     },
     "174e9a6b3c6c4319ac5fcd2662bd2eb3": {
      "model_module": "@jupyter-widgets/base",
      "model_module_version": "1.2.0",
      "model_name": "LayoutModel",
      "state": {}
     },
     "17765aeeb4424d4daf8123d58623f5a6": {
      "model_module": "@jupyter-widgets/controls",
      "model_module_version": "1.5.0",
      "model_name": "DescriptionStyleModel",
      "state": {
       "description_width": ""
      }
     },
     "17a09944a21241f3bf1add4963d3c138": {
      "model_module": "@jupyter-widgets/controls",
      "model_module_version": "1.5.0",
      "model_name": "DescriptionStyleModel",
      "state": {
       "description_width": ""
      }
     },
     "17f4ea1724144020a072524759b4a69b": {
      "model_module": "@jupyter-widgets/controls",
      "model_module_version": "1.5.0",
      "model_name": "DescriptionStyleModel",
      "state": {
       "description_width": ""
      }
     },
     "18270454b5a940598cad9dcde1f0ca43": {
      "model_module": "@jupyter-widgets/controls",
      "model_module_version": "1.5.0",
      "model_name": "HTMLModel",
      "state": {
       "layout": "IPY_MODEL_fca1afdc42dc41f6b813bb9cf8d9da2a",
       "style": "IPY_MODEL_89eb74a391c34031a22d49a400f12460",
       "value": "<b>Thumbnail: </b> "
      }
     },
     "1833e59e4c7a47e3a8798ef05540bc44": {
      "model_module": "@jupyter-widgets/controls",
      "model_module_version": "1.5.0",
      "model_name": "HTMLModel",
      "state": {
       "layout": "IPY_MODEL_4da17d3bc10e432abfa96dffc4456fef",
       "style": "IPY_MODEL_aaa25f08f4214216bc3c1639b8981c21",
       "value": "<b>Description: </b> "
      }
     },
     "183ef98b8ba94baca6297c12585c5bf1": {
      "model_module": "@jupyter-widgets/base",
      "model_module_version": "1.2.0",
      "model_name": "LayoutModel",
      "state": {}
     },
     "185fdd32bb6e452cacd19db60e7781a3": {
      "model_module": "@jupyter-widgets/controls",
      "model_module_version": "1.5.0",
      "model_name": "HTMLModel",
      "state": {
       "layout": "IPY_MODEL_d22fa223803e44a69be9362e15a46c16",
       "style": "IPY_MODEL_ea41c49b573b4e489fee41990a0e0d98",
       "value": "<b>Thumbnail: </b> "
      }
     },
     "1882ec0f57bd4cfdb9e3fb5a36ab6a2a": {
      "model_module": "@jupyter-widgets/base",
      "model_module_version": "1.2.0",
      "model_name": "LayoutModel",
      "state": {
       "grid_gap": "5px 10px",
       "grid_template_columns": "auto",
       "grid_template_rows": "auto",
       "padding": "5px 0px 5px 0px",
       "width": "100%"
      }
     },
     "18b2f511bae4471b8d5b43706ae51ff1": {
      "model_module": "@jupyter-widgets/controls",
      "model_module_version": "1.5.0",
      "model_name": "DescriptionStyleModel",
      "state": {
       "description_width": ""
      }
     },
     "18dff0994e32495f85bf2a883aaa70be": {
      "model_module": "@jupyter-widgets/base",
      "model_module_version": "1.2.0",
      "model_name": "LayoutModel",
      "state": {}
     },
     "18fcd0db05f54d4c978f698dc1a6273a": {
      "model_module": "@jupyter-widgets/base",
      "model_module_version": "1.2.0",
      "model_name": "LayoutModel",
      "state": {}
     },
     "190f379746424368b3fd8de4ac104c3e": {
      "model_module": "@jupyter-widgets/controls",
      "model_module_version": "1.5.0",
      "model_name": "DescriptionStyleModel",
      "state": {
       "description_width": ""
      }
     },
     "19dfc29c16734ba1b7f9dc6c60f781d7": {
      "model_module": "@jupyter-widgets/controls",
      "model_module_version": "1.5.0",
      "model_name": "GridBoxModel",
      "state": {
       "children": [
        "IPY_MODEL_c76764c7f63646c189aca8e11681570d",
        "IPY_MODEL_99f29b0c0e3d451a82079f411fdd14c2",
        "IPY_MODEL_541c94e8bad04f0c8f74db88248fe14c",
        "IPY_MODEL_688d8e45dfdb40e6a982436ee6ee0133",
        "IPY_MODEL_4ffd7ba4847e4afb93f27e3f34e4941d",
        "IPY_MODEL_82d8650a732548ecae2fa8185a8c9609",
        "IPY_MODEL_ea8dfd2c804f4d54a5273a7a4520e4cd",
        "IPY_MODEL_4ae7dfc7330e4b49ba5e97949a979eea",
        "IPY_MODEL_14ba82952c3f4a398de76298c530281b",
        "IPY_MODEL_161bd8369e5a492fa83716e4bb3ac56a"
       ],
       "layout": "IPY_MODEL_f03b49fbfac5420482d5db6a6fe6db29"
      }
     },
     "19e383dcc5a944cfb8b29de4104b8060": {
      "model_module": "@jupyter-widgets/base",
      "model_module_version": "1.2.0",
      "model_name": "LayoutModel",
      "state": {}
     },
     "1a007117351549cd83bb82099e4b04a0": {
      "model_module": "@jupyter-widgets/controls",
      "model_module_version": "1.5.0",
      "model_name": "GridBoxModel",
      "state": {
       "children": [
        "IPY_MODEL_7aa50c757f934d9a906c9a28ae760c0d",
        "IPY_MODEL_5296fa40ca974b1a81511301118e0527",
        "IPY_MODEL_c88ee224605f437490fa790c2ae143ca",
        "IPY_MODEL_cb3e29f63b5d4677a2afd80964b80912",
        "IPY_MODEL_b357f8f2aacc412f91a5682f9740d954",
        "IPY_MODEL_febb551642844bb09f19eccf118fcba0",
        "IPY_MODEL_b3026d7682374f069d3db7d86a10bc54",
        "IPY_MODEL_7136063f8f7d48238133fa074790b252",
        "IPY_MODEL_634b9a7a0cbf487d90b60e61c6de2bd5",
        "IPY_MODEL_c187f5b49cbe4b6497f6a60a7d209e0d"
       ],
       "layout": "IPY_MODEL_1e77f705d1f74a0885ef2598998eeb66"
      }
     },
     "1a10872288ed494cae959fb1a827cbde": {
      "model_module": "@jupyter-widgets/controls",
      "model_module_version": "1.5.0",
      "model_name": "HTMLModel",
      "state": {
       "layout": "IPY_MODEL_64688ad5b31f4460ab76f0da7eb06ad3",
       "style": "IPY_MODEL_02ee278ac0594257bf29b3f132820851",
       "value": "<b>Contact: </b> "
      }
     },
     "1a51582b98a744f09d0cf39550776108": {
      "model_module": "@jupyter-widgets/controls",
      "model_module_version": "1.5.0",
      "model_name": "DescriptionStyleModel",
      "state": {
       "description_width": ""
      }
     },
     "1a5bf7c85d2846c097b2add4465844a5": {
      "model_module": "@jupyter-widgets/base",
      "model_module_version": "1.2.0",
      "model_name": "LayoutModel",
      "state": {}
     },
     "1a738efe9a6e4821bee5db28e90f8ccc": {
      "model_module": "@jupyter-widgets/base",
      "model_module_version": "1.2.0",
      "model_name": "LayoutModel",
      "state": {}
     },
     "1a9da12e03834f828157364e9aedcae9": {
      "model_module": "@jupyter-widgets/controls",
      "model_module_version": "1.5.0",
      "model_name": "DescriptionStyleModel",
      "state": {
       "description_width": ""
      }
     },
     "1ac032adeebe49d9b4f18114eff8605f": {
      "model_module": "@jupyter-widgets/controls",
      "model_module_version": "1.5.0",
      "model_name": "GridBoxModel",
      "state": {
       "children": [
        "IPY_MODEL_b78d6e4e94f14aa5a46b11fa7ffcfa85",
        "IPY_MODEL_f79eab629849450fa97ff7bfd2271083",
        "IPY_MODEL_e098d06605544d2fb7c4edbc72cc97e1",
        "IPY_MODEL_a3f83bc3bcde48679b35b2492ca67216",
        "IPY_MODEL_103d0199782548a087c023f5a3c96d01",
        "IPY_MODEL_5459e63e366448ffac70061227f20287",
        "IPY_MODEL_a874bf74995e4804af10e92bb55cee3c",
        "IPY_MODEL_b2ddaf48490344bf822e590e09d83f97",
        "IPY_MODEL_ccb7e6db270c41b7a89f315fb37dc70d",
        "IPY_MODEL_ce20190f83a741369b4e079f659faff1"
       ],
       "layout": "IPY_MODEL_2fdc61a5800645ddbffdd1e1df98b5c5"
      }
     },
     "1ac16b06f51f4fdab6cdcc1a4e20236c": {
      "model_module": "@jupyter-widgets/base",
      "model_module_version": "1.2.0",
      "model_name": "LayoutModel",
      "state": {}
     },
     "1ad04a4b3ced4ad695ae28b403551f78": {
      "model_module": "@jupyter-widgets/base",
      "model_module_version": "1.2.0",
      "model_name": "LayoutModel",
      "state": {}
     },
     "1ad1ed9314434c54b5d2332f288a9bd3": {
      "model_module": "@jupyter-widgets/controls",
      "model_module_version": "1.5.0",
      "model_name": "HTMLModel",
      "state": {
       "layout": "IPY_MODEL_25fd815141804471a9f1cfd5d300a486",
       "style": "IPY_MODEL_b50571cba3e2473dafaf44cd77f64d1d",
       "value": "<a href='https://github.com/ICOS-Carbon-Portal/jupyter/issues' target='_blank'>Click here to report an issue</a>"
      }
     },
     "1afa9532f6304586a4517262b3096c95": {
      "model_module": "@jupyter-widgets/controls",
      "model_module_version": "1.5.0",
      "model_name": "HTMLModel",
      "state": {
       "layout": "IPY_MODEL_be25c4e7c232496f94652f679cc20cde",
       "style": "IPY_MODEL_aaf7df1dad0f477b9d95f62bfd02eaa4",
       "value": "<b>Title: </b> "
      }
     },
     "1b0e9b28a5c94066bd970f686dd58c63": {
      "model_module": "@jupyter-widgets/controls",
      "model_module_version": "1.5.0",
      "model_name": "HTMLModel",
      "state": {
       "layout": "IPY_MODEL_58d0bd82e6d2441fa40688e142121b2c",
       "style": "IPY_MODEL_e9ae1590ab4c4da182d94c036c18fc11",
       "value": "This notebook contains exercises for the <b>OTC Data Reduction Workshop</b>. The first exercise is dealing with the calibration of the xCO₂-data as they are coming from the instrument. The data are from a General Oceanics instrument, but the idea is the same for data from any instrument."
      }
     },
     "1b32f17a26eb4be092fb044e989ca43e": {
      "model_module": "@jupyter-widgets/controls",
      "model_module_version": "1.5.0",
      "model_name": "DescriptionStyleModel",
      "state": {
       "description_width": ""
      }
     },
     "1b9b39e4777d400cbc275b8b8e3731cf": {
      "model_module": "@jupyter-widgets/controls",
      "model_module_version": "1.5.0",
      "model_name": "HTMLModel",
      "state": {
       "layout": "IPY_MODEL_acb31ff605ff4642b0f1f22ef0e0cb15",
       "style": "IPY_MODEL_208bdf2cd07042aca6776748b1342036",
       "value": "<b>Description: </b> "
      }
     },
     "1c0ae2bbe6c5463391f04909d72cf382": {
      "model_module": "@jupyter-widgets/controls",
      "model_module_version": "1.5.0",
      "model_name": "DescriptionStyleModel",
      "state": {
       "description_width": ""
      }
     },
     "1c5fc034eb6d4c669fb52f63dbddf78f": {
      "model_module": "@jupyter-widgets/controls",
      "model_module_version": "1.5.0",
      "model_name": "HTMLModel",
      "state": {
       "layout": "IPY_MODEL_2709860d540d4960a98e278c89065a94",
       "style": "IPY_MODEL_2d9a86a97afe4fd4b6c43f374d85c07c",
       "value": "<b>Thumbnail: </b> "
      }
     },
     "1c6c5ff8ae5e4da0891617dd1db6db62": {
      "model_module": "@jupyter-widgets/controls",
      "model_module_version": "1.5.0",
      "model_name": "DescriptionStyleModel",
      "state": {
       "description_width": ""
      }
     },
     "1c6ef5ff607641c59fde7f13d150c667": {
      "model_module": "@jupyter-widgets/controls",
      "model_module_version": "1.5.0",
      "model_name": "DescriptionStyleModel",
      "state": {
       "description_width": ""
      }
     },
     "1c81fba4ddfd478d950e180c1e425424": {
      "model_module": "@jupyter-widgets/controls",
      "model_module_version": "1.5.0",
      "model_name": "DescriptionStyleModel",
      "state": {
       "description_width": ""
      }
     },
     "1c8454c05e2a459580fd944b4d5dba85": {
      "model_module": "@jupyter-widgets/base",
      "model_module_version": "1.2.0",
      "model_name": "LayoutModel",
      "state": {}
     },
     "1ca38514ad944d89aefdf6abc4a0b151": {
      "model_module": "@jupyter-widgets/base",
      "model_module_version": "1.2.0",
      "model_name": "LayoutModel",
      "state": {}
     },
     "1cae758807cd4a3ebb7b732bc420e845": {
      "model_module": "@jupyter-widgets/controls",
      "model_module_version": "1.5.0",
      "model_name": "DescriptionStyleModel",
      "state": {
       "description_width": ""
      }
     },
     "1d5cbc7fb32e4e2692f58e6ceb2fb3f7": {
      "model_module": "@jupyter-widgets/base",
      "model_module_version": "1.2.0",
      "model_name": "LayoutModel",
      "state": {}
     },
     "1d7012d07e2146e28f37144b0cb3d93f": {
      "model_module": "@jupyter-widgets/controls",
      "model_module_version": "1.5.0",
      "model_name": "DescriptionStyleModel",
      "state": {
       "description_width": ""
      }
     },
     "1d9550ad17934106961442bf1ab23b37": {
      "model_module": "@jupyter-widgets/controls",
      "model_module_version": "1.5.0",
      "model_name": "HTMLModel",
      "state": {
       "layout": "IPY_MODEL_a12e08e9ae564b4fa27cdac32b25bb7e",
       "style": "IPY_MODEL_924039f83c0d4018bb21e9a162ffc77c",
       "value": "<img src=\"./icos_jupyter_notebooks/ind_tools/img/05_education/msc_bsc/drought2018/bokeh_plot_explained.png\">"
      }
     },
     "1db5a322a4d14013843f02c90aee510a": {
      "model_module": "@jupyter-widgets/controls",
      "model_module_version": "1.5.0",
      "model_name": "DescriptionStyleModel",
      "state": {
       "description_width": ""
      }
     },
     "1df646fd564c45a093444f6c9b5147fc": {
      "model_module": "@jupyter-widgets/controls",
      "model_module_version": "1.5.0",
      "model_name": "HTMLModel",
      "state": {
       "layout": "IPY_MODEL_a16bdd0e0aca4326b8e1ba1b3769b5ef",
       "style": "IPY_MODEL_94eb6d529d7c4fd0a88c3457407c3353",
       "value": "<img src=\"./icos_jupyter_notebooks/ind_tools/img/02_pylib_ex/ex4.PNG\">"
      }
     },
     "1e328b3ed68942bd981717aa64e1cd8f": {
      "model_module": "@jupyter-widgets/base",
      "model_module_version": "1.2.0",
      "model_name": "LayoutModel",
      "state": {}
     },
     "1e57556048df47acbd0bd40210f893e1": {
      "model_module": "@jupyter-widgets/controls",
      "model_module_version": "1.5.0",
      "model_name": "GridBoxModel",
      "state": {
       "children": [
        "IPY_MODEL_c7bebecdf86f492c8eb4583670c0aafa",
        "IPY_MODEL_cdce5ad61ddc4e47a54346a0246b4ca4"
       ],
       "layout": "IPY_MODEL_d467887ea1e5465bb5109adf8aed8220"
      }
     },
     "1e77f705d1f74a0885ef2598998eeb66": {
      "model_module": "@jupyter-widgets/base",
      "model_module_version": "1.2.0",
      "model_name": "LayoutModel",
      "state": {
       "grid_gap": "5px 10px",
       "grid_template_columns": "100px auto",
       "grid_template_rows": "auto auto auto auto auto",
       "padding": "50px 0px 70px 0px",
       "width": "100%"
      }
     },
     "1e8e40179b824912b34392fccb0d0933": {
      "model_module": "@jupyter-widgets/base",
      "model_module_version": "1.2.0",
      "model_name": "LayoutModel",
      "state": {}
     },
     "1e9c70d0189b48d19466aed3ec7c22dd": {
      "model_module": "@jupyter-widgets/controls",
      "model_module_version": "1.5.0",
      "model_name": "DescriptionStyleModel",
      "state": {
       "description_width": ""
      }
     },
     "1ea69021472b480bb4d169e7b8134d4f": {
      "model_module": "@jupyter-widgets/base",
      "model_module_version": "1.2.0",
      "model_name": "LayoutModel",
      "state": {}
     },
     "1eab9e36abd24869a6af92117ea303e3": {
      "model_module": "@jupyter-widgets/controls",
      "model_module_version": "1.5.0",
      "model_name": "DescriptionStyleModel",
      "state": {
       "description_width": ""
      }
     },
     "1ead6659acb54cc68ddf9e7c2ed0e759": {
      "model_module": "@jupyter-widgets/controls",
      "model_module_version": "1.5.0",
      "model_name": "HTMLModel",
      "state": {
       "layout": "IPY_MODEL_97182910d9894f1aae7feb930fc05b56",
       "style": "IPY_MODEL_5e5e64acbc6846c5a935979fdf85a9d2",
       "value": "<b>GitHub: </b> "
      }
     },
     "1eb8ed1bf9c7484d9af8ee1d9415f6c4": {
      "model_module": "@jupyter-widgets/base",
      "model_module_version": "1.2.0",
      "model_name": "LayoutModel",
      "state": {}
     },
     "1ed7aa2b42bc48b4b409045a40583102": {
      "model_module": "@jupyter-widgets/controls",
      "model_module_version": "1.5.0",
      "model_name": "DescriptionStyleModel",
      "state": {
       "description_width": ""
      }
     },
     "1f393d34136d41d4956c49c50c6149d1": {
      "model_module": "@jupyter-widgets/base",
      "model_module_version": "1.2.0",
      "model_name": "LayoutModel",
      "state": {}
     },
     "1f4c79422e304da099b744750c949b70": {
      "model_module": "@jupyter-widgets/controls",
      "model_module_version": "1.5.0",
      "model_name": "DescriptionStyleModel",
      "state": {
       "description_width": ""
      }
     },
     "1f5b53b90f1f41d68c38c1944b7afc3f": {
      "model_module": "@jupyter-widgets/controls",
      "model_module_version": "1.5.0",
      "model_name": "HTMLModel",
      "state": {
       "layout": "IPY_MODEL_953c6e2b739d4549a4ceab2ae60d6614",
       "style": "IPY_MODEL_0734476614d04d6bac20f3287d87e08d",
       "value": "<a href='https://github.com/ICOS-Carbon-Portal/jupyter/issues' target='_blank'>Click here to report an issue</a>"
      }
     },
     "1f9f183512bd49cb97663ac82f1caeef": {
      "model_module": "@jupyter-widgets/controls",
      "model_module_version": "1.5.0",
      "model_name": "DescriptionStyleModel",
      "state": {
       "description_width": ""
      }
     },
     "1fae9d82cab64e02b1c236341cb23828": {
      "model_module": "@jupyter-widgets/controls",
      "model_module_version": "1.5.0",
      "model_name": "HTMLModel",
      "state": {
       "layout": "IPY_MODEL_4a58e46e22b84de6bbd06dfe871291c3",
       "style": "IPY_MODEL_df0d80ab02c645e2b4a5d25824cbbaaa",
       "value": "<b>Contact: </b> "
      }
     },
     "1fd40eb03e9846f8aad7fbbaf266331e": {
      "model_module": "@jupyter-widgets/controls",
      "model_module_version": "1.5.0",
      "model_name": "DescriptionStyleModel",
      "state": {
       "description_width": ""
      }
     },
     "1fe4431b08ca4d73a09a629fc63b12ef": {
      "model_module": "@jupyter-widgets/base",
      "model_module_version": "1.2.0",
      "model_name": "LayoutModel",
      "state": {}
     },
     "203e930ba4824267a897e104cd5f4fd6": {
      "model_module": "@jupyter-widgets/controls",
      "model_module_version": "1.5.0",
      "model_name": "HTMLModel",
      "state": {
       "layout": "IPY_MODEL_9d9bc3abf8754177873fdff61be8af4e",
       "style": "IPY_MODEL_b36506f1123842d99bdcc193f7004f47",
       "value": "<b>Thumbnail: </b> "
      }
     },
     "2054bb3f764c4dd5ba0570a21c6a68b9": {
      "model_module": "@jupyter-widgets/base",
      "model_module_version": "1.2.0",
      "model_name": "LayoutModel",
      "state": {}
     },
     "206351c5b7a44b6e8ee17f20014086a3": {
      "model_module": "@jupyter-widgets/controls",
      "model_module_version": "1.5.0",
      "model_name": "DescriptionStyleModel",
      "state": {
       "description_width": ""
      }
     },
     "2073eb1d589040b19ed5248c6ea71264": {
      "model_module": "@jupyter-widgets/controls",
      "model_module_version": "1.5.0",
      "model_name": "HTMLModel",
      "state": {
       "layout": "IPY_MODEL_c8f91e5dfe2341fd821462be9b512467",
       "style": "IPY_MODEL_4b680531a69b47d9aebaf29b438d0d84",
       "value": "<b>Description: </b> "
      }
     },
     "20839a5c9b774b55a73c409029c1226e": {
      "model_module": "@jupyter-widgets/controls",
      "model_module_version": "1.5.0",
      "model_name": "HTMLModel",
      "state": {
       "layout": "IPY_MODEL_1235476ae2014853b938f02e6107d27b",
       "style": "IPY_MODEL_796ad5aed1b24123b75e346e5ed1dbfc",
       "value": "<b>Thumbnail: </b> "
      }
     },
     "208bdf2cd07042aca6776748b1342036": {
      "model_module": "@jupyter-widgets/controls",
      "model_module_version": "1.5.0",
      "model_name": "DescriptionStyleModel",
      "state": {
       "description_width": ""
      }
     },
     "209609ca73cb49c3953d368eaa7d9f22": {
      "model_module": "@jupyter-widgets/controls",
      "model_module_version": "1.5.0",
      "model_name": "HTMLModel",
      "state": {
       "layout": "IPY_MODEL_b543f1c695bc4db7b80db0c45d62b2dd",
       "style": "IPY_MODEL_2dfb07712d824bc999ac1a7fe5def6f0",
       "value": "<a href='https://github.com/ICOS-Carbon-Portal/jupyter/issues' target='_blank'>Click here to report an issue</a>"
      }
     },
     "20b4f7de422a45f9b85d23f86b50eede": {
      "model_module": "@jupyter-widgets/base",
      "model_module_version": "1.2.0",
      "model_name": "LayoutModel",
      "state": {}
     },
     "20b53cc9e7444eaa9fb00a7cb40fa661": {
      "model_module": "@jupyter-widgets/controls",
      "model_module_version": "1.5.0",
      "model_name": "HTMLModel",
      "state": {
       "layout": "IPY_MODEL_34e221cdbbcc41d3a4efc50270ad8787",
       "style": "IPY_MODEL_d4148c1102254396bd75cfc21bde6ee6",
       "value": "<b>Thumbnail: </b> "
      }
     },
     "21036e949a984ab1a52434f9ca6585b5": {
      "model_module": "@jupyter-widgets/base",
      "model_module_version": "1.2.0",
      "model_name": "LayoutModel",
      "state": {}
     },
     "212bad923cbe404c8a45071a61bc38b6": {
      "model_module": "@jupyter-widgets/controls",
      "model_module_version": "1.5.0",
      "model_name": "HTMLModel",
      "state": {
       "layout": "IPY_MODEL_3ceafa0993d145cbb9f394560ac4b02e",
       "style": "IPY_MODEL_09338c2c0cb64692a2c4e4d3e7c0c2e0",
       "value": "This notebook contains exercises for the <b>OTC Data Reduction Workshop</b> using a data set from a real sensor."
      }
     },
     "2131d83aa2fb4a8cb3f70284a588dd1b": {
      "model_module": "@jupyter-widgets/controls",
      "model_module_version": "1.5.0",
      "model_name": "HTMLModel",
      "state": {
       "layout": "IPY_MODEL_1e328b3ed68942bd981717aa64e1cd8f",
       "style": "IPY_MODEL_418f86c90d8d4ab48b49ac01432e75f9",
       "value": "<b>Title: </b> "
      }
     },
     "213243ddc9c640eb883369b31bfdb786": {
      "model_module": "@jupyter-widgets/controls",
      "model_module_version": "1.5.0",
      "model_name": "DescriptionStyleModel",
      "state": {
       "description_width": ""
      }
     },
     "2160d925693d4e06885e6fb26ed7fa85": {
      "model_module": "@jupyter-widgets/base",
      "model_module_version": "1.2.0",
      "model_name": "LayoutModel",
      "state": {}
     },
     "21f1a8ff9f894112bd629d317430de32": {
      "model_module": "@jupyter-widgets/controls",
      "model_module_version": "1.5.0",
      "model_name": "DescriptionStyleModel",
      "state": {
       "description_width": ""
      }
     },
     "2207d078839e4fe9b513070e1e0808a2": {
      "model_module": "@jupyter-widgets/controls",
      "model_module_version": "1.5.0",
      "model_name": "HTMLModel",
      "state": {
       "layout": "IPY_MODEL_c4b1eac1bf2b4af3b512937f818cd693",
       "style": "IPY_MODEL_eb0a7a771819493798f6a31d4367689e",
       "value": "<b>Contact: </b> "
      }
     },
     "221a9769cc52465bb7fabd70c73aeed2": {
      "model_module": "@jupyter-widgets/base",
      "model_module_version": "1.2.0",
      "model_name": "LayoutModel",
      "state": {}
     },
     "2250c5481663423ab8060a286b88c315": {
      "model_module": "@jupyter-widgets/base",
      "model_module_version": "1.2.0",
      "model_name": "LayoutModel",
      "state": {}
     },
     "2259ca5c511f40bc812e63b5af5ae77e": {
      "model_module": "@jupyter-widgets/controls",
      "model_module_version": "1.5.0",
      "model_name": "HTMLModel",
      "state": {
       "layout": "IPY_MODEL_0cfded6814c34c22b5bd20b6dc592079",
       "style": "IPY_MODEL_4bab9a01b2444186ae597860d40e86f1",
       "value": "<b>Contact: </b> "
      }
     },
     "227426c18b31441f90017d67ef03c08a": {
      "model_module": "@jupyter-widgets/controls",
      "model_module_version": "1.5.0",
      "model_name": "GridBoxModel",
      "state": {
       "children": [
        "IPY_MODEL_ad15e007359f4b59a728fdddc9fa32c3",
        "IPY_MODEL_ee6b50a618314a5c80d42527a4e364e2"
       ],
       "layout": "IPY_MODEL_e0e27d4df19b414b9901754329fea913"
      }
     },
     "2280ad30fee345ad8e7d215863c65652": {
      "model_module": "@jupyter-widgets/controls",
      "model_module_version": "1.5.0",
      "model_name": "HTMLModel",
      "state": {
       "layout": "IPY_MODEL_4e630c0dde2647d2bd0aaa090f9b25ad",
       "style": "IPY_MODEL_dd5591a4d1314a758e88e34b6f9c8916",
       "value": "<b>Title: </b> "
      }
     },
     "228459c1b2834753a5a92b2cdd020101": {
      "model_module": "@jupyter-widgets/base",
      "model_module_version": "1.2.0",
      "model_name": "LayoutModel",
      "state": {}
     },
     "229ab523b9bb44149c5e1896d7f2c246": {
      "model_module": "@jupyter-widgets/controls",
      "model_module_version": "1.5.0",
      "model_name": "HTMLModel",
      "state": {
       "layout": "IPY_MODEL_b9354e514070441885aca705f877b192",
       "style": "IPY_MODEL_713e0f2b7b684e319ff006b21996bd8e",
       "value": "<b>Thumbnail: </b> "
      }
     },
     "229d39fbce334aa98f649ac378bb61fa": {
      "model_module": "@jupyter-widgets/controls",
      "model_module_version": "1.5.0",
      "model_name": "HTMLModel",
      "state": {
       "layout": "IPY_MODEL_4acf690959b7488f9212c559d5294f8b",
       "style": "IPY_MODEL_aac5dc04571b4916a50d7177c1c5266d",
       "value": "<b>Thumbnail: </b> "
      }
     },
     "22aaefb35d4f489f9377d5f3ce622746": {
      "model_module": "@jupyter-widgets/controls",
      "model_module_version": "1.5.0",
      "model_name": "HTMLModel",
      "state": {
       "layout": "IPY_MODEL_c9ef99fd50e64613b191ee9818d3f3e8",
       "style": "IPY_MODEL_b296380b94364639ae51cb185531a340",
       "value": "<a href=\"mailto: jupyter-info@icos-cp.eu\">jupyter-info@icos-cp.eu</a>, <a href=\"mailto: Steve.Jones@uib.no\">Steve.Jones@uib.no</a>"
      }
     },
     "22af09f8557f4ecead8af6c93a4fc906": {
      "model_module": "@jupyter-widgets/controls",
      "model_module_version": "1.5.0",
      "model_name": "HTMLModel",
      "state": {
       "layout": "IPY_MODEL_fe836aa4056d450d913c9933fd9ddfa9",
       "style": "IPY_MODEL_1c0ae2bbe6c5463391f04909d72cf382",
       "value": "<img src=\"./icos_jupyter_notebooks/ind_tools/img/04_proj_JNBs/envrifair_ws/timeseries/stilt_vs_icos_obs.PNG\">"
      }
     },
     "22f4b278273d4d029ea4711927c088b8": {
      "model_module": "@jupyter-widgets/controls",
      "model_module_version": "1.5.0",
      "model_name": "DescriptionStyleModel",
      "state": {
       "description_width": ""
      }
     },
     "22fe9ea69d294301996b326d78a9454c": {
      "model_module": "@jupyter-widgets/base",
      "model_module_version": "1.2.0",
      "model_name": "LayoutModel",
      "state": {}
     },
     "2303922cec544ce1ba5e3409b5e41623": {
      "model_module": "@jupyter-widgets/base",
      "model_module_version": "1.2.0",
      "model_name": "LayoutModel",
      "state": {}
     },
     "237fb482d96442b08ae486d6028fd8cb": {
      "model_module": "@jupyter-widgets/base",
      "model_module_version": "1.2.0",
      "model_name": "LayoutModel",
      "state": {}
     },
     "23c862e10afd421b86c20590df632ef9": {
      "model_module": "@jupyter-widgets/controls",
      "model_module_version": "1.5.0",
      "model_name": "HTMLModel",
      "state": {
       "layout": "IPY_MODEL_89a796a73aee44acb5c53dd2246133ad",
       "style": "IPY_MODEL_0be6c33a889441299b937a0089f91b49",
       "value": "<b>Title: </b> "
      }
     },
     "240be83e8c9846a78f75ede928a51bb8": {
      "model_module": "@jupyter-widgets/controls",
      "model_module_version": "1.5.0",
      "model_name": "HTMLModel",
      "state": {
       "layout": "IPY_MODEL_ff50c896e69d4206ada421badf1640d4",
       "style": "IPY_MODEL_213243ddc9c640eb883369b31bfdb786",
       "value": "<b>Contact: </b> "
      }
     },
     "2423117849eb4322b84c8e14edf514b9": {
      "model_module": "@jupyter-widgets/base",
      "model_module_version": "1.2.0",
      "model_name": "LayoutModel",
      "state": {}
     },
     "2423385a2b70440c867fd15a8033068f": {
      "model_module": "@jupyter-widgets/controls",
      "model_module_version": "1.5.0",
      "model_name": "GridBoxModel",
      "state": {
       "children": [
        "IPY_MODEL_c8b3ad53adb544acb95b52bfdbe5ed14",
        "IPY_MODEL_9a0b6649c51541e1bd37fc428c86d98b",
        "IPY_MODEL_ee82bcdd6c1348d3bcf25a61f0de49ae",
        "IPY_MODEL_79be398d095e42f7bdbd3e46294b8058",
        "IPY_MODEL_717ca2e027bd4d04bf3769f58c3d39cf",
        "IPY_MODEL_05a0385710bf4ae1ab131d9ae927600d",
        "IPY_MODEL_d7c8348e930f4c46a14a8543e748311c",
        "IPY_MODEL_ef665030eed34e9aabea7e3cb7b69c92",
        "IPY_MODEL_f4a036cfadbe4ae68f1f284d3b2f79eb",
        "IPY_MODEL_0196dd2061314d69b6623daeedff2757"
       ],
       "layout": "IPY_MODEL_030d0133bf454da48c01202235f4b1a4"
      }
     },
     "24511a2058434264b251a66daf5cfc4a": {
      "model_module": "@jupyter-widgets/base",
      "model_module_version": "1.2.0",
      "model_name": "LayoutModel",
      "state": {}
     },
     "2468bdf65b7143a3b40469a9f11f4565": {
      "model_module": "@jupyter-widgets/controls",
      "model_module_version": "1.5.0",
      "model_name": "GridBoxModel",
      "state": {
       "children": [
        "IPY_MODEL_75986b5e03154cea9a39f3e6bfcd32a0",
        "IPY_MODEL_495d12c4d19a440b9d01ae889b8671b5"
       ],
       "layout": "IPY_MODEL_02f9680fce7e49978ad64012ad8dc40f"
      }
     },
     "24a3e808c9864e1d926dba03807faf3b": {
      "model_module": "@jupyter-widgets/base",
      "model_module_version": "1.2.0",
      "model_name": "LayoutModel",
      "state": {}
     },
     "24d62da011dd497ea9e9dbef8c348151": {
      "model_module": "@jupyter-widgets/controls",
      "model_module_version": "1.5.0",
      "model_name": "HTMLModel",
      "state": {
       "layout": "IPY_MODEL_344f7188b353412eb87712074431027a",
       "style": "IPY_MODEL_6ccbcf285a494e9896bc3c71b47ad8fc",
       "value": "<b>GitHub: </b> "
      }
     },
     "24f689355c714c25995f159564c220b6": {
      "model_module": "@jupyter-widgets/controls",
      "model_module_version": "1.5.0",
      "model_name": "HTMLModel",
      "state": {
       "layout": "IPY_MODEL_94842f633d414e05b9b1e459f22a1085",
       "style": "IPY_MODEL_e34abe18c45a40839187c730871155cc",
       "value": "<img src=\"./icos_jupyter_notebooks/ind_tools/img/04_proj_JNBs/otc_drw/ex3.PNG\">"
      }
     },
     "251965995f2a47d8afec672a7bb72915": {
      "model_module": "@jupyter-widgets/controls",
      "model_module_version": "1.5.0",
      "model_name": "HTMLModel",
      "state": {
       "layout": "IPY_MODEL_c0eff5efb868494d94fe0f0ce5317baf",
       "style": "IPY_MODEL_eaf62aae9b2141719b4ff7a43e93b013",
       "value": "Includes notebooks presenting an evaluation of different sampling strategies related to the RINGO research project."
      }
     },
     "25a2ae9a3a354e07b8c0efe09c6e317f": {
      "model_module": "@jupyter-widgets/controls",
      "model_module_version": "1.5.0",
      "model_name": "DescriptionStyleModel",
      "state": {
       "description_width": ""
      }
     },
     "25e00679eb3f4d248b04b95827999be8": {
      "model_module": "@jupyter-widgets/controls",
      "model_module_version": "1.5.0",
      "model_name": "HTMLModel",
      "state": {
       "layout": "IPY_MODEL_06e834fc12b04a79984b620c3030ef3a",
       "style": "IPY_MODEL_7d1a18877f9149a89daa0c565531f2ba",
       "value": "<a href='https://github.com/ICOS-Carbon-Portal/jupyter/issues' target='_blank'>Click here to report an issue</a>"
      }
     },
     "25f66e0f9d6742db98179cddc209d5c2": {
      "model_module": "@jupyter-widgets/base",
      "model_module_version": "1.2.0",
      "model_name": "LayoutModel",
      "state": {}
     },
     "25fd815141804471a9f1cfd5d300a486": {
      "model_module": "@jupyter-widgets/base",
      "model_module_version": "1.2.0",
      "model_name": "LayoutModel",
      "state": {}
     },
     "263a7a05a9ab42589887c653f9d56230": {
      "model_module": "@jupyter-widgets/controls",
      "model_module_version": "1.5.0",
      "model_name": "HTMLModel",
      "state": {
       "layout": "IPY_MODEL_0d35a3966a13446184ffb23ceb8bac96",
       "style": "IPY_MODEL_1db5a322a4d14013843f02c90aee510a",
       "value": "<img src=\"./icos_jupyter_notebooks/ind_tools/img/04_proj_JNBs/otc_drw/ex4.PNG\">"
      }
     },
     "264051697d18460ebf904b054a471eb5": {
      "model_module": "@jupyter-widgets/base",
      "model_module_version": "1.2.0",
      "model_name": "LayoutModel",
      "state": {}
     },
     "26826caacc8e4600a87a4f84245efb88": {
      "model_module": "@jupyter-widgets/controls",
      "model_module_version": "1.5.0",
      "model_name": "DescriptionStyleModel",
      "state": {
       "description_width": ""
      }
     },
     "26c9633e39404e62a1cc7e6bf1158cda": {
      "model_module": "@jupyter-widgets/base",
      "model_module_version": "1.2.0",
      "model_name": "LayoutModel",
      "state": {}
     },
     "2709860d540d4960a98e278c89065a94": {
      "model_module": "@jupyter-widgets/base",
      "model_module_version": "1.2.0",
      "model_name": "LayoutModel",
      "state": {}
     },
     "27c80050acc5485e915f42e9a0329d93": {
      "model_module": "@jupyter-widgets/controls",
      "model_module_version": "1.5.0",
      "model_name": "HTMLModel",
      "state": {
       "layout": "IPY_MODEL_f3ca4d6d77b24c818c791bebbe371a73",
       "style": "IPY_MODEL_8ff051e606a84e73b354da15dc8e626c",
       "value": "<b>Title: </b> "
      }
     },
     "27d702ec2efc405bad4246653bbf8e87": {
      "model_module": "@jupyter-widgets/base",
      "model_module_version": "1.2.0",
      "model_name": "LayoutModel",
      "state": {
       "grid_gap": "5px 10px",
       "grid_template_columns": "100px auto",
       "grid_template_rows": "auto auto auto auto",
       "padding": "50px 0px 70px 0px",
       "width": "100%"
      }
     },
     "2877217c1bec4acbbc3c63909a246fde": {
      "model_module": "@jupyter-widgets/controls",
      "model_module_version": "1.5.0",
      "model_name": "HTMLModel",
      "state": {
       "layout": "IPY_MODEL_22fe9ea69d294301996b326d78a9454c",
       "style": "IPY_MODEL_bd648139cf9f4de6808f32b58a39430e",
       "value": "<b>Thumbnail: </b> "
      }
     },
     "288226bcb985484d83fcf80fd2b29aba": {
      "model_module": "@jupyter-widgets/controls",
      "model_module_version": "1.5.0",
      "model_name": "HTMLModel",
      "state": {
       "layout": "IPY_MODEL_ea8f7e68b9b94f6ba23f7aa9f3af1332",
       "style": "IPY_MODEL_de6b62612aab478e8079c11bd6664105",
       "value": "<b>Description: </b> "
      }
     },
     "28b00e53e4a74987874491ce64b32742": {
      "model_module": "@jupyter-widgets/base",
      "model_module_version": "1.2.0",
      "model_name": "LayoutModel",
      "state": {}
     },
     "28c922b9d0f540d7861f3a1e51fdae06": {
      "model_module": "@jupyter-widgets/controls",
      "model_module_version": "1.5.0",
      "model_name": "DescriptionStyleModel",
      "state": {
       "description_width": ""
      }
     },
     "28f75b43ce154c4facdec4f32c9419c8": {
      "model_module": "@jupyter-widgets/base",
      "model_module_version": "1.2.0",
      "model_name": "LayoutModel",
      "state": {}
     },
     "28f762caff3b4902b87aefc1b519e66f": {
      "model_module": "@jupyter-widgets/controls",
      "model_module_version": "1.5.0",
      "model_name": "HTMLModel",
      "state": {
       "layout": "IPY_MODEL_b12e6f9c7ddf4f1590c9eae2c2247810",
       "style": "IPY_MODEL_d7f5df066e6945e7acde4f9eaef1519e",
       "value": "<a href=./pylib_examples/ex4_collection.ipynb target='_blank'>ICOS Carbon Portal Python Library - Access data and metadata of collections</a>"
      }
     },
     "294b8cb5bd564fef89b5412222c46635": {
      "model_module": "@jupyter-widgets/controls",
      "model_module_version": "1.5.0",
      "model_name": "DescriptionStyleModel",
      "state": {
       "description_width": ""
      }
     },
     "2954098ca0e147a586a9061825e0b43d": {
      "model_module": "@jupyter-widgets/base",
      "model_module_version": "1.2.0",
      "model_name": "LayoutModel",
      "state": {}
     },
     "299b799ba611401f8fb4d9cfc0bae24f": {
      "model_module": "@jupyter-widgets/controls",
      "model_module_version": "1.5.0",
      "model_name": "DescriptionStyleModel",
      "state": {
       "description_width": ""
      }
     },
     "29d67aafda72471d97502f5d66e477f0": {
      "model_module": "@jupyter-widgets/controls",
      "model_module_version": "1.5.0",
      "model_name": "DescriptionStyleModel",
      "state": {
       "description_width": ""
      }
     },
     "29e402a9ec20456da5272f134db1f789": {
      "model_module": "@jupyter-widgets/controls",
      "model_module_version": "1.5.0",
      "model_name": "HTMLModel",
      "state": {
       "layout": "IPY_MODEL_70594a5538724812a42d150feecedb5b",
       "style": "IPY_MODEL_440815fb04014e2292fafec7eb3a1494",
       "value": "In this exercise you will learn how to read data from csv-files to Pandas DataFrames (i.e. two-dimensional arrays) using Python. You will also learn how to process data in your Pandas DataFrame and create static plots with Matplotlib. You will then be able to use the these tools to statisitcally compare measurements from different stations in northern Europe. Follow the link to get a quick overview over how NPP, GPP and Respiration are defined and related."
      }
     },
     "2a15909de23e44c6ba0a98c8f5a5a52e": {
      "model_module": "@jupyter-widgets/base",
      "model_module_version": "1.2.0",
      "model_name": "LayoutModel",
      "state": {}
     },
     "2a768e1058a2419e9e89316f13df4ef9": {
      "model_module": "@jupyter-widgets/controls",
      "model_module_version": "1.5.0",
      "model_name": "HTMLModel",
      "state": {
       "layout": "IPY_MODEL_01b8262141504776a7c6e2601d788097",
       "style": "IPY_MODEL_6bb53d4130274286864ab2d0367a2ba2",
       "value": "<a href=./pylib_examples/ex6a_STILT_find.ipynb target='_blank'>ICOS Carbon Portal Python Library - STILT</a>"
      }
     },
     "2ac0ceb223d943929e5b548d65bc38a1": {
      "model_module": "@jupyter-widgets/base",
      "model_module_version": "1.2.0",
      "model_name": "LayoutModel",
      "state": {}
     },
     "2ad37b9f7f8f49aaabf8b1723542223b": {
      "model_module": "@jupyter-widgets/base",
      "model_module_version": "1.2.0",
      "model_name": "LayoutModel",
      "state": {}
     },
     "2ae7648fad2f4084be42991613adefd3": {
      "model_module": "@jupyter-widgets/base",
      "model_module_version": "1.2.0",
      "model_name": "LayoutModel",
      "state": {}
     },
     "2b3e5a58616c4706914656c852daa721": {
      "model_module": "@jupyter-widgets/controls",
      "model_module_version": "1.5.0",
      "model_name": "DescriptionStyleModel",
      "state": {
       "description_width": ""
      }
     },
     "2b6d53823bf04b728b9135fcfdf92543": {
      "model_module": "@jupyter-widgets/base",
      "model_module_version": "1.2.0",
      "model_name": "LayoutModel",
      "state": {}
     },
     "2bef9c105102452d9698e4007f651b87": {
      "model_module": "@jupyter-widgets/controls",
      "model_module_version": "1.5.0",
      "model_name": "HTMLModel",
      "state": {
       "layout": "IPY_MODEL_7efb20381da747bea6bbe4eb132e2b28",
       "style": "IPY_MODEL_64fd722118474fe693182ce6b26a6307",
       "value": "<b>Thumbnail: </b> "
      }
     },
     "2bf0e4a863ea4adcb8c4b624b0f673fc": {
      "model_module": "@jupyter-widgets/controls",
      "model_module_version": "1.5.0",
      "model_name": "DescriptionStyleModel",
      "state": {
       "description_width": ""
      }
     },
     "2bf2930d770b41db9914633607dbcf6b": {
      "model_module": "@jupyter-widgets/controls",
      "model_module_version": "1.5.0",
      "model_name": "HTMLModel",
      "state": {
       "layout": "IPY_MODEL_cdb71afe72db40dcb73a7ed41053bef8",
       "style": "IPY_MODEL_c4cc1646f4a84b329384de2e92b8af22",
       "value": "<a href=./education/PhD/upscaling_carbon_fluxes/notebooks/htm_eco_drought_2018.ipynb target='_blank'>Drought 2018 - ICOS ecosystem data from Hyltemossa</a>"
      }
     },
     "2c29fe2e51ad41829bc01ffe3728c3ab": {
      "model_module": "@jupyter-widgets/controls",
      "model_module_version": "1.5.0",
      "model_name": "DescriptionStyleModel",
      "state": {
       "description_width": ""
      }
     },
     "2c3153dc1abc4c07b7fc3433968defdd": {
      "model_module": "@jupyter-widgets/base",
      "model_module_version": "1.2.0",
      "model_name": "LayoutModel",
      "state": {}
     },
     "2c5ccfb8f593455596fd8305e3f47310": {
      "model_module": "@jupyter-widgets/controls",
      "model_module_version": "1.5.0",
      "model_name": "HTMLModel",
      "state": {
       "layout": "IPY_MODEL_1660073c5e844776b2c853fb5ade4ba8",
       "style": "IPY_MODEL_8e2c8382de494ce6a62a31cfc186532e",
       "value": "<a href='https://github.com/ICOS-Carbon-Portal/jupyter/issues' target='_blank'>Click here to report an issue</a>"
      }
     },
     "2c6a735586c04a84aae843fd26f16271": {
      "model_module": "@jupyter-widgets/base",
      "model_module_version": "1.2.0",
      "model_name": "LayoutModel",
      "state": {}
     },
     "2c77e8b4fdfc49daa9ff7dcb4353654e": {
      "model_module": "@jupyter-widgets/controls",
      "model_module_version": "1.5.0",
      "model_name": "DescriptionStyleModel",
      "state": {
       "description_width": ""
      }
     },
     "2c9277c9e4d44561a84d662f720cbdfc": {
      "model_module": "@jupyter-widgets/controls",
      "model_module_version": "1.5.0",
      "model_name": "HTMLModel",
      "state": {
       "layout": "IPY_MODEL_7f1e9a0f73494f2dae4d8934cb42c7ae",
       "style": "IPY_MODEL_9966c23817e54583ad7c62607dc13542",
       "value": "<img src=\"./icos_jupyter_notebooks/ind_tools/img/03_icos_JNBs/icos_avail_table/at_co2_meteo.PNG\">"
      }
     },
     "2cb7865629ea44b29588044b0824c0e7": {
      "model_module": "@jupyter-widgets/controls",
      "model_module_version": "1.5.0",
      "model_name": "DescriptionStyleModel",
      "state": {
       "description_width": ""
      }
     },
     "2ce40059f16040a7ad628975a4590574": {
      "model_module": "@jupyter-widgets/base",
      "model_module_version": "1.2.0",
      "model_name": "LayoutModel",
      "state": {}
     },
     "2d421266a13942f18729be778f3358fb": {
      "model_module": "@jupyter-widgets/controls",
      "model_module_version": "1.5.0",
      "model_name": "DescriptionStyleModel",
      "state": {
       "description_width": ""
      }
     },
     "2d59aee7c5094d628bc2df2867b2b350": {
      "model_module": "@jupyter-widgets/controls",
      "model_module_version": "1.5.0",
      "model_name": "DescriptionStyleModel",
      "state": {
       "description_width": ""
      }
     },
     "2d5c0de30d3c483bb8c4439f1f055999": {
      "model_module": "@jupyter-widgets/base",
      "model_module_version": "1.2.0",
      "model_name": "LayoutModel",
      "state": {}
     },
     "2d9a86a97afe4fd4b6c43f374d85c07c": {
      "model_module": "@jupyter-widgets/controls",
      "model_module_version": "1.5.0",
      "model_name": "DescriptionStyleModel",
      "state": {
       "description_width": ""
      }
     },
     "2db38c58de3b41ff8440c9108102189d": {
      "model_module": "@jupyter-widgets/base",
      "model_module_version": "1.2.0",
      "model_name": "LayoutModel",
      "state": {}
     },
     "2dd498f90eab4a73829f4970954f120f": {
      "model_module": "@jupyter-widgets/controls",
      "model_module_version": "1.5.0",
      "model_name": "HTMLModel",
      "state": {
       "layout": "IPY_MODEL_3ba8485857f748ae81e880a0e6320b44",
       "style": "IPY_MODEL_933330e8ddc849a5a1dfe8381694bc1d",
       "value": "Notebooks under this category include examples on how to use the ICOS Carbon Portal Python library (i.e. library that provides access to ICOS data products)"
      }
     },
     "2deef7d9711e4e15b3238a8d247bf11e": {
      "model_module": "@jupyter-widgets/controls",
      "model_module_version": "1.5.0",
      "model_name": "HTMLModel",
      "state": {
       "layout": "IPY_MODEL_e16c106727614a1886e2ac604801f5b4",
       "style": "IPY_MODEL_0688b71bfb754072bdd038b423b03ffa",
       "value": "<b>Contact: </b> "
      }
     },
     "2df1bb7f0e324e4ababbf6f1df93e7c8": {
      "model_module": "@jupyter-widgets/base",
      "model_module_version": "1.2.0",
      "model_name": "LayoutModel",
      "state": {}
     },
     "2dfb01ded96444e68396a8321056cd6d": {
      "model_module": "@jupyter-widgets/controls",
      "model_module_version": "1.5.0",
      "model_name": "DescriptionStyleModel",
      "state": {
       "description_width": ""
      }
     },
     "2dfb07712d824bc999ac1a7fe5def6f0": {
      "model_module": "@jupyter-widgets/controls",
      "model_module_version": "1.5.0",
      "model_name": "DescriptionStyleModel",
      "state": {
       "description_width": ""
      }
     },
     "2e094bd57f52486a94e851a8acf0e861": {
      "model_module": "@jupyter-widgets/controls",
      "model_module_version": "1.5.0",
      "model_name": "DescriptionStyleModel",
      "state": {
       "description_width": ""
      }
     },
     "2e0b4925d26e4c6cab02cdbbea6d35b9": {
      "model_module": "@jupyter-widgets/controls",
      "model_module_version": "1.5.0",
      "model_name": "DescriptionStyleModel",
      "state": {
       "description_width": ""
      }
     },
     "2e252039a5d74300bcbdf90f3c8a6651": {
      "model_module": "@jupyter-widgets/controls",
      "model_module_version": "1.5.0",
      "model_name": "HTMLModel",
      "state": {
       "layout": "IPY_MODEL_2ac0ceb223d943929e5b548d65bc38a1",
       "style": "IPY_MODEL_391f706409814b3d8d1f81745fa705f2",
       "value": "<b>Thumbnail: </b> "
      }
     },
     "2e3ac3e5c9e9475ea015d32eb9b19a69": {
      "model_module": "@jupyter-widgets/controls",
      "model_module_version": "1.5.0",
      "model_name": "HTMLModel",
      "state": {
       "layout": "IPY_MODEL_4a0672c2a29a4e87bca9b69a453169a7",
       "style": "IPY_MODEL_99fd518b08ce43df907ad23e22f95bff",
       "value": "<b>Description: </b> "
      }
     },
     "2e4f5041b7824702953e1dfbfa2ec5c9": {
      "model_module": "@jupyter-widgets/controls",
      "model_module_version": "1.5.0",
      "model_name": "DescriptionStyleModel",
      "state": {
       "description_width": ""
      }
     },
     "2e662d6058c747b7acc5998a9217e573": {
      "model_module": "@jupyter-widgets/controls",
      "model_module_version": "1.5.0",
      "model_name": "DescriptionStyleModel",
      "state": {
       "description_width": ""
      }
     },
     "2e78d1b28b684331a77427f3fe5198d8": {
      "model_module": "@jupyter-widgets/base",
      "model_module_version": "1.2.0",
      "model_name": "LayoutModel",
      "state": {}
     },
     "2f1b91a129a64b918ea9a68b2a49a0dd": {
      "model_module": "@jupyter-widgets/controls",
      "model_module_version": "1.5.0",
      "model_name": "DescriptionStyleModel",
      "state": {
       "description_width": ""
      }
     },
     "2f1c20a8a52843bab24b69affdf06684": {
      "model_module": "@jupyter-widgets/controls",
      "model_module_version": "1.5.0",
      "model_name": "DescriptionStyleModel",
      "state": {
       "description_width": ""
      }
     },
     "2f1d72b8c0ec47cd8c1f0b016b8ea050": {
      "model_module": "@jupyter-widgets/controls",
      "model_module_version": "1.5.0",
      "model_name": "HTMLModel",
      "state": {
       "layout": "IPY_MODEL_b2c623f4db1044dea9ab600930020cda",
       "style": "IPY_MODEL_697cb4c6396847069f61c17cd54bb4e4",
       "value": "<a href='https://github.com/ICOS-Carbon-Portal/jupyter/issues' target='_blank'>Click here to report an issue</a>"
      }
     },
     "2f22e4c9df744780b8a3d1e4e7b04591": {
      "model_module": "@jupyter-widgets/base",
      "model_module_version": "1.2.0",
      "model_name": "LayoutModel",
      "state": {
       "grid_gap": "5px 10px",
       "grid_template_columns": "100px auto",
       "grid_template_rows": "auto auto auto auto auto",
       "padding": "50px 0px 70px 0px",
       "width": "100%"
      }
     },
     "2fc5289b57a244a784c12e9cd87822a1": {
      "model_module": "@jupyter-widgets/base",
      "model_module_version": "1.2.0",
      "model_name": "LayoutModel",
      "state": {}
     },
     "2fdc61a5800645ddbffdd1e1df98b5c5": {
      "model_module": "@jupyter-widgets/base",
      "model_module_version": "1.2.0",
      "model_name": "LayoutModel",
      "state": {
       "grid_gap": "5px 10px",
       "grid_template_columns": "100px auto",
       "grid_template_rows": "auto auto auto auto auto",
       "padding": "50px 0px 70px 0px",
       "width": "100%"
      }
     },
     "301de36fadef43d0b3ba2ec2f875f064": {
      "model_module": "@jupyter-widgets/base",
      "model_module_version": "1.2.0",
      "model_name": "LayoutModel",
      "state": {}
     },
     "303ad52fd0ad432db0243c7fb8065221": {
      "model_module": "@jupyter-widgets/controls",
      "model_module_version": "1.5.0",
      "model_name": "GridBoxModel",
      "state": {
       "children": [
        "IPY_MODEL_c8df2c41ba434a63be2adf38923bf3ff",
        "IPY_MODEL_c415d4991b114650820b47e385d08b37",
        "IPY_MODEL_680d0a2c457f4b839f2c1412bf2a9ac7",
        "IPY_MODEL_d92088c1b10c45f3a9e662f1f7bc6f3e",
        "IPY_MODEL_b490f56b30664aa78e3a94a2d16e8321",
        "IPY_MODEL_9ea939370b214241949c4849fceaaae3",
        "IPY_MODEL_d04b656bbffa43f4ae7ae3eaa024ed07",
        "IPY_MODEL_afa4929725154cf3a910f201b4ace12f",
        "IPY_MODEL_7ad78bcc4db64d7fa44041cf0ab6c814",
        "IPY_MODEL_33ba6d1f8b60499ea8b465caf08e44b3"
       ],
       "layout": "IPY_MODEL_5bafa55222614e54accfbb0a7766af18"
      }
     },
     "3081f8eca99d43c99a55ef5a5f13e140": {
      "model_module": "@jupyter-widgets/controls",
      "model_module_version": "1.5.0",
      "model_name": "HTMLModel",
      "state": {
       "layout": "IPY_MODEL_5f85b3c7bbdc41029118c6cc7a99e505",
       "style": "IPY_MODEL_80ab951ea0634dda885044e0f4732e48",
       "value": "<b>GitHub: </b> "
      }
     },
     "31793774f6e040a3b93cf59cb434c353": {
      "model_module": "@jupyter-widgets/controls",
      "model_module_version": "1.5.0",
      "model_name": "HTMLModel",
      "state": {
       "layout": "IPY_MODEL_b5103f9ab0db475e90654b3002b8b3f7",
       "style": "IPY_MODEL_aef506f8d36a4ce99181c8fea70b24fd",
       "value": "<b>Contact: </b> "
      }
     },
     "31b9e221bb024f8fb9689d46145cab28": {
      "model_module": "@jupyter-widgets/base",
      "model_module_version": "1.2.0",
      "model_name": "LayoutModel",
      "state": {}
     },
     "31d688cb56eb48ffbb76dd1bd9369e3b": {
      "model_module": "@jupyter-widgets/controls",
      "model_module_version": "1.5.0",
      "model_name": "HTMLModel",
      "state": {
       "layout": "IPY_MODEL_979b711040da40e399179f226cae8f30",
       "style": "IPY_MODEL_e2727fdc15a64bafb4755c14db89c97e",
       "value": "<a href=\"mailto: jupyter-info@icos-cp.eu\">jupyter-info@icos-cp.eu</a>, <a href=\"mailto: Steve.Jones@uib.no\">Steve.Jones@uib.no</a>"
      }
     },
     "31e609d661d94d249f84e3fefbf22164": {
      "model_module": "@jupyter-widgets/controls",
      "model_module_version": "1.5.0",
      "model_name": "HTMLModel",
      "state": {
       "layout": "IPY_MODEL_5d30409651054d6e80cd70d6874d881a",
       "style": "IPY_MODEL_f86b23464e034e8182c1cda5fd2c73d9",
       "value": "<a href=./education/MSc_BSc/drought_2018/htm_icos_eco_data_drought_2018_anonymous_v2.ipynb target='_blank'>Drought 2018 - ICOS ecosystem data from Hyltemossa</a>"
      }
     },
     "32554985e92746bfb078f0f7f8ddbb5f": {
      "model_module": "@jupyter-widgets/controls",
      "model_module_version": "1.5.0",
      "model_name": "HTMLModel",
      "state": {
       "layout": "IPY_MODEL_e3e333093f7f4edcb7ba6b8dd570e0e7",
       "style": "IPY_MODEL_9dcd305becbf4997929904fe07c27fac",
       "value": "<img src=\"./icos_jupyter_notebooks/ind_tools/img/05_education/phd/ucf/tools/tools_sh.PNG\">"
      }
     },
     "328ae93e79fe46b195869ac1e9aba038": {
      "model_module": "@jupyter-widgets/base",
      "model_module_version": "1.2.0",
      "model_name": "LayoutModel",
      "state": {}
     },
     "32997f389a7c4391b38aff2c8684267b": {
      "model_module": "@jupyter-widgets/controls",
      "model_module_version": "1.5.0",
      "model_name": "DescriptionStyleModel",
      "state": {
       "description_width": ""
      }
     },
     "32b5eed1915549029d4fd17cad49162d": {
      "model_module": "@jupyter-widgets/controls",
      "model_module_version": "1.5.0",
      "model_name": "DescriptionStyleModel",
      "state": {
       "description_width": ""
      }
     },
     "32bdc6e76e7b41eab61502e844c764ab": {
      "model_module": "@jupyter-widgets/controls",
      "model_module_version": "1.5.0",
      "model_name": "HTMLModel",
      "state": {
       "layout": "IPY_MODEL_801d32d74d63426e8b353034a6d36fed",
       "style": "IPY_MODEL_9cd6a70904bf4eaa8a84f798fedb65ad",
       "value": "<b>GitHub: </b> "
      }
     },
     "32f6131e544147e5b6550c241c937140": {
      "model_module": "@jupyter-widgets/controls",
      "model_module_version": "1.5.0",
      "model_name": "HTMLModel",
      "state": {
       "layout": "IPY_MODEL_5a4d712b95224b3ab7e23960d788a01b",
       "style": "IPY_MODEL_7f5810803d0b4deda8ea8405ad75f991",
       "value": "<b>GitHub: </b> "
      }
     },
     "33037e0390634ebd8c26a6ad64f465b6": {
      "model_module": "@jupyter-widgets/base",
      "model_module_version": "1.2.0",
      "model_name": "LayoutModel",
      "state": {}
     },
     "330413a3efa34b5d92e080c599d9d5c4": {
      "model_module": "@jupyter-widgets/controls",
      "model_module_version": "1.5.0",
      "model_name": "DescriptionStyleModel",
      "state": {
       "description_width": ""
      }
     },
     "3396ac2ec3db4f6d86529b0dad4d24d7": {
      "model_module": "@jupyter-widgets/controls",
      "model_module_version": "1.5.0",
      "model_name": "HTMLModel",
      "state": {
       "layout": "IPY_MODEL_24511a2058434264b251a66daf5cfc4a",
       "style": "IPY_MODEL_eb661ddec0994959924205ab5031e70d",
       "value": "<b>Title: </b> "
      }
     },
     "33b3b98eb7dc49549c627d70fd00aff3": {
      "model_module": "@jupyter-widgets/base",
      "model_module_version": "1.2.0",
      "model_name": "LayoutModel",
      "state": {}
     },
     "33ba6d1f8b60499ea8b465caf08e44b3": {
      "model_module": "@jupyter-widgets/controls",
      "model_module_version": "1.5.0",
      "model_name": "HTMLModel",
      "state": {
       "layout": "IPY_MODEL_e75945f5940b48c98475e7a2a27af273",
       "style": "IPY_MODEL_58007fbedbc246789643300e99e71796",
       "value": "<img src=\"./icos_jupyter_notebooks/ind_tools/img/02_pylib_ex/ex3.PNG\">"
      }
     },
     "33f38f6b95df4a47b12f8ca7a3f9885f": {
      "model_module": "@jupyter-widgets/controls",
      "model_module_version": "1.5.0",
      "model_name": "HTMLModel",
      "state": {
       "layout": "IPY_MODEL_e9c991073a904992b9a73c0b4d0eb409",
       "style": "IPY_MODEL_c8242a2d7e0e43838662781c9359dd89",
       "value": "<b>GitHub: </b> "
      }
     },
     "341cfd3bb93d424eb7e72177639aa2e7": {
      "model_module": "@jupyter-widgets/controls",
      "model_module_version": "1.5.0",
      "model_name": "DescriptionStyleModel",
      "state": {
       "description_width": ""
      }
     },
     "3431f682057e4f6c993fee69ac13d8cb": {
      "model_module": "@jupyter-widgets/controls",
      "model_module_version": "1.5.0",
      "model_name": "DescriptionStyleModel",
      "state": {
       "description_width": ""
      }
     },
     "344f7188b353412eb87712074431027a": {
      "model_module": "@jupyter-widgets/base",
      "model_module_version": "1.2.0",
      "model_name": "LayoutModel",
      "state": {}
     },
     "34854f2c45b14b51b2b524070c6972e1": {
      "model_module": "@jupyter-widgets/base",
      "model_module_version": "1.2.0",
      "model_name": "LayoutModel",
      "state": {}
     },
     "34e221cdbbcc41d3a4efc50270ad8787": {
      "model_module": "@jupyter-widgets/base",
      "model_module_version": "1.2.0",
      "model_name": "LayoutModel",
      "state": {}
     },
     "34ed49168b56419ea9a0d845d28f572a": {
      "model_module": "@jupyter-widgets/controls",
      "model_module_version": "1.5.0",
      "model_name": "DescriptionStyleModel",
      "state": {
       "description_width": ""
      }
     },
     "355407ad8e0047049c8a3d95b5953200": {
      "model_module": "@jupyter-widgets/controls",
      "model_module_version": "1.5.0",
      "model_name": "HTMLModel",
      "state": {
       "layout": "IPY_MODEL_6e44afa51bd54b699672a73bb431789e",
       "style": "IPY_MODEL_0fd4fd3446704bc691c945f3e4b06ed8",
       "value": "This is an ancillary notebook aimed for letting students explore the modelled values produced by <a href=\"https://doi.org/10.1046/j.1466-822X.2001.t01-1-00256.x\" target=\"_blank\">LPJ-GUESS</a> and corresponding to the same ecosystem stations real measurements are available for. The purpose of this notebook is for students to get an idea/overview of the value-range of the modelled values corresponding to a certain station."
      }
     },
     "35e4798f204748769e498dbcd137becc": {
      "model_module": "@jupyter-widgets/controls",
      "model_module_version": "1.5.0",
      "model_name": "GridBoxModel",
      "state": {
       "children": [
        "IPY_MODEL_a51f4fd884124585bd22bafa335df8c1",
        "IPY_MODEL_7add18c9b37b44679ae50576c771a14c"
       ],
       "layout": "IPY_MODEL_439ad2b013a94a7dba907f5dff94112c"
      }
     },
     "35fdb8c0bdd144fda948ddbfa5b428c6": {
      "model_module": "@jupyter-widgets/controls",
      "model_module_version": "1.5.0",
      "model_name": "DescriptionStyleModel",
      "state": {
       "description_width": ""
      }
     },
     "360ce05a55e94ef69b6765ca7f8bbdd1": {
      "model_module": "@jupyter-widgets/base",
      "model_module_version": "1.2.0",
      "model_name": "LayoutModel",
      "state": {
       "grid_gap": "5px 10px",
       "grid_template_columns": "auto",
       "grid_template_rows": "auto",
       "padding": "5px 0px 5px 0px",
       "width": "100%"
      }
     },
     "369015f8c5bd45a0b001304b10a145a7": {
      "model_module": "@jupyter-widgets/controls",
      "model_module_version": "1.5.0",
      "model_name": "DescriptionStyleModel",
      "state": {
       "description_width": ""
      }
     },
     "36a786dbc1e7487e9c59c963d30b4ab8": {
      "model_module": "@jupyter-widgets/controls",
      "model_module_version": "1.5.0",
      "model_name": "HTMLModel",
      "state": {
       "layout": "IPY_MODEL_7acdfedce4cd401aa7a2c2fbf0897762",
       "style": "IPY_MODEL_b2e32c022ee147a7bf22d1d928f32fdf",
       "value": "<a href=\"mailto: jupyter-info@icos-cp.eu\">jupyter-info@icos-cp.eu</a>, <a href=\"mailto: Steve.Jones@uib.no\">Steve.Jones@uib.no</a>"
      }
     },
     "36f8f5bf317c4ba3b53da24e71642eb9": {
      "model_module": "@jupyter-widgets/base",
      "model_module_version": "1.2.0",
      "model_name": "LayoutModel",
      "state": {}
     },
     "372d408014b746dcb05c2b099dbb19d7": {
      "model_module": "@jupyter-widgets/controls",
      "model_module_version": "1.5.0",
      "model_name": "DescriptionStyleModel",
      "state": {
       "description_width": ""
      }
     },
     "373f65bcf3044ace983238b388b794db": {
      "model_module": "@jupyter-widgets/controls",
      "model_module_version": "1.5.0",
      "model_name": "HTMLModel",
      "state": {
       "layout": "IPY_MODEL_7bc034d912114355b682b08228def65d",
       "style": "IPY_MODEL_0888adf932ad42589e3e66d2c15e1514",
       "value": "<b>Description: </b> "
      }
     },
     "37473780a11a4cce9e1b6d5b2f8aa04c": {
      "model_module": "@jupyter-widgets/controls",
      "model_module_version": "1.5.0",
      "model_name": "DescriptionStyleModel",
      "state": {
       "description_width": ""
      }
     },
     "379fa343f32445c092169a155b223d55": {
      "model_module": "@jupyter-widgets/controls",
      "model_module_version": "1.5.0",
      "model_name": "AccordionModel",
      "state": {
       "_titles": {
        "0": "Soil exercise - NGEN16"
       },
       "children": [
        "IPY_MODEL_81604c54f8ad40e1b447251b8f1d5fcb"
       ],
       "layout": "IPY_MODEL_a42f8444a4bf414e9d1ec4204f55d84e",
       "selected_index": null
      }
     },
     "37c2163b30514cc1ab8ae17ee2f16715": {
      "model_module": "@jupyter-widgets/base",
      "model_module_version": "1.2.0",
      "model_name": "LayoutModel",
      "state": {}
     },
     "37d6ca99ff89416f81fcaf91bfc8c0f7": {
      "model_module": "@jupyter-widgets/controls",
      "model_module_version": "1.5.0",
      "model_name": "HTMLModel",
      "state": {
       "layout": "IPY_MODEL_2ce40059f16040a7ad628975a4590574",
       "style": "IPY_MODEL_e7b3b81a64fe471dbf1c4b480d6a244c",
       "value": "<img src=\"./icos_jupyter_notebooks/ind_tools/img/05_education/msc_bsc/drought2018/bokeh_plot_widgets.png\">"
      }
     },
     "38129718ca964845882071145ac607e1": {
      "model_module": "@jupyter-widgets/controls",
      "model_module_version": "1.5.0",
      "model_name": "HTMLModel",
      "state": {
       "layout": "IPY_MODEL_6ed537a84961458da113e8acbcb6b164",
       "style": "IPY_MODEL_cbe84b0c02264109904dbca00fa65a0e",
       "value": "<b>Contact: </b> "
      }
     },
     "382d5ed7bf054948a6106c02da175284": {
      "model_module": "@jupyter-widgets/controls",
      "model_module_version": "1.5.0",
      "model_name": "DescriptionStyleModel",
      "state": {
       "description_width": ""
      }
     },
     "38a095ade20b45eeb059acf1567ccc9c": {
      "model_module": "@jupyter-widgets/controls",
      "model_module_version": "1.5.0",
      "model_name": "GridBoxModel",
      "state": {
       "children": [
        "IPY_MODEL_758bd47aeefa4d5fbcee7d353de29fa7",
        "IPY_MODEL_f93ed9cf4a4b4a959adbae4ad8fc454b",
        "IPY_MODEL_d3166ba7675d4e558f69e12baa219b06",
        "IPY_MODEL_a117fe14e99c4062a6df358f467640f7",
        "IPY_MODEL_7c1982398b284f688265c92032076f4e",
        "IPY_MODEL_79170fb3a575433d8d4e0a6cb9c67faf",
        "IPY_MODEL_c789cd4ba3a443ff9da48336c08c9c05",
        "IPY_MODEL_209609ca73cb49c3953d368eaa7d9f22",
        "IPY_MODEL_4ab890d6adae4fb09da9c3d25cea2697",
        "IPY_MODEL_aca5afcbf13d49fca1bc2a1eb6799fdf"
       ],
       "layout": "IPY_MODEL_db54f7d2a5404895a7e5d89b59dd085f"
      }
     },
     "391f706409814b3d8d1f81745fa705f2": {
      "model_module": "@jupyter-widgets/controls",
      "model_module_version": "1.5.0",
      "model_name": "DescriptionStyleModel",
      "state": {
       "description_width": ""
      }
     },
     "396f44d37d484f589971c1c5987839bc": {
      "model_module": "@jupyter-widgets/controls",
      "model_module_version": "1.5.0",
      "model_name": "DescriptionStyleModel",
      "state": {
       "description_width": ""
      }
     },
     "3978699734e349bc88138a011477efa9": {
      "model_module": "@jupyter-widgets/controls",
      "model_module_version": "1.5.0",
      "model_name": "DescriptionStyleModel",
      "state": {
       "description_width": ""
      }
     },
     "39b0d6b48bed4dad8d22e336d3c3cb9a": {
      "model_module": "@jupyter-widgets/controls",
      "model_module_version": "1.5.0",
      "model_name": "DescriptionStyleModel",
      "state": {
       "description_width": ""
      }
     },
     "39bf9abed8124ee98fc33b84c69795c6": {
      "model_module": "@jupyter-widgets/controls",
      "model_module_version": "1.5.0",
      "model_name": "DescriptionStyleModel",
      "state": {
       "description_width": ""
      }
     },
     "3a9cf80d1be04f15898e839f35fa2c65": {
      "model_module": "@jupyter-widgets/controls",
      "model_module_version": "1.5.0",
      "model_name": "HTMLModel",
      "state": {
       "layout": "IPY_MODEL_4a7347e08b5442d0b40ab330cd38243b",
       "style": "IPY_MODEL_c71be957521b49d78626d0ed6d60b5fa",
       "value": "<b>GitHub: </b> "
      }
     },
     "3ac5352528994ae3bc531e4337ab61fd": {
      "model_module": "@jupyter-widgets/controls",
      "model_module_version": "1.5.0",
      "model_name": "DescriptionStyleModel",
      "state": {
       "description_width": ""
      }
     },
     "3ae3e76b170d4ef594a6c3cde0f9eaf6": {
      "model_module": "@jupyter-widgets/base",
      "model_module_version": "1.2.0",
      "model_name": "LayoutModel",
      "state": {}
     },
     "3afb3122c77648839b7f46e5e7711016": {
      "model_module": "@jupyter-widgets/base",
      "model_module_version": "1.2.0",
      "model_name": "LayoutModel",
      "state": {}
     },
     "3b355ecc1ce3483d93ec1622a48b5bf2": {
      "model_module": "@jupyter-widgets/controls",
      "model_module_version": "1.5.0",
      "model_name": "HTMLModel",
      "state": {
       "layout": "IPY_MODEL_99a8c434939348d5b6ed6857b494503c",
       "style": "IPY_MODEL_b3844f2dfcde4d3a99c5bbc2526349fb",
       "value": "<b>Title: </b> "
      }
     },
     "3b638e8752b64113b5d7d4d89ef3d391": {
      "model_module": "@jupyter-widgets/base",
      "model_module_version": "1.2.0",
      "model_name": "LayoutModel",
      "state": {}
     },
     "3b8377e669ee40db889a75a63200fff5": {
      "model_module": "@jupyter-widgets/controls",
      "model_module_version": "1.5.0",
      "model_name": "HTMLModel",
      "state": {
       "layout": "IPY_MODEL_1a738efe9a6e4821bee5db28e90f8ccc",
       "style": "IPY_MODEL_82b20e62639a467aa99fb4c9f0b293c8",
       "value": "<b>Contact: </b> "
      }
     },
     "3b8f73ffa78d4b499a41d34a8d41ce27": {
      "model_module": "@jupyter-widgets/base",
      "model_module_version": "1.2.0",
      "model_name": "LayoutModel",
      "state": {}
     },
     "3ba45f0b8d2c4ba19d527a152ae273cd": {
      "model_module": "@jupyter-widgets/controls",
      "model_module_version": "1.5.0",
      "model_name": "HTMLModel",
      "state": {
       "layout": "IPY_MODEL_0f84a6fb3a994693b8cba0ed66fe494a",
       "style": "IPY_MODEL_ea7f5a8cfe664cb6a82af04d847c1c13",
       "value": "This notebook is dedicated to estimating radiocarbon measurements and providing interactive visualizations of relevant maps and plots. More in particular, With the combination of a station’s footprint (<a href='http://stilt-model.org/index.php/Main/HomePage' target='_blank'>STILT</a>) for a given point in time and a spatially and temporally resolved emissions database where emissions are separated by sector <a href='https://doi.org/10.5194/essd-11-959-2019' target='_blank'>(EDGAR v4.3.2)</a> it is possible to estimate what the fossil fuel component at the station could be according to the model. Accounting for the biogenic component through a combination of the footprint with a biogenic model <a href='https://doi.org/10.1029/2006GB002735' target='_blank'>(VPRM)</a> allows for an estimate of the CO2 concentration at the station when combined with the anthropogenic emissions plus a background (model edge) concentration. Given the modelled fossil fuel component and the modelled CO2 concentration, the estimated nuclear contamination, and the (measured) background ∆14C, an estimate can be made of what the ∆14C at a station would be according to the model -estimates. How this can be done is described in <a href='https://agupubs.onlinelibrary.wiley.com/doi/10.1029/2003GL018477' target='_blank'>Levin et al.,2003</a> (equation 3). The nuclear contamination is not accounted for here. ∆14C measurements can hence be compared to model deduced values. Uncertainties in the modelled ratio stem from many different sources: the transport model footprints, the anthropogenic and biogenic emission databases and the nuclear emissions values used to estimate the nuclear contamination."
      }
     },
     "3ba8485857f748ae81e880a0e6320b44": {
      "model_module": "@jupyter-widgets/base",
      "model_module_version": "1.2.0",
      "model_name": "LayoutModel",
      "state": {}
     },
     "3bad89617b2547e3ab0c5b91ec4334d3": {
      "model_module": "@jupyter-widgets/controls",
      "model_module_version": "1.5.0",
      "model_name": "HTMLModel",
      "state": {
       "layout": "IPY_MODEL_1ad04a4b3ced4ad695ae28b403551f78",
       "style": "IPY_MODEL_1a51582b98a744f09d0cf39550776108",
       "value": "<b>GitHub: </b> "
      }
     },
     "3bc1ac119bc24bb3b56d28273841b0be": {
      "model_module": "@jupyter-widgets/controls",
      "model_module_version": "1.5.0",
      "model_name": "DescriptionStyleModel",
      "state": {
       "description_width": ""
      }
     },
     "3bc8d7ba8de24f42baf2b7fc1f611462": {
      "model_module": "@jupyter-widgets/base",
      "model_module_version": "1.2.0",
      "model_name": "LayoutModel",
      "state": {
       "grid_gap": "5px 10px",
       "grid_template_columns": "auto",
       "grid_template_rows": "auto",
       "padding": "5px 0px 5px 0px",
       "width": "100%"
      }
     },
     "3be25ef851f8468aac31ecf54cbb9531": {
      "model_module": "@jupyter-widgets/controls",
      "model_module_version": "1.5.0",
      "model_name": "GridBoxModel",
      "state": {
       "children": [
        "IPY_MODEL_2131d83aa2fb4a8cb3f70284a588dd1b",
        "IPY_MODEL_cbe915e49a294ad996b19208a79e69f4",
        "IPY_MODEL_8dc48488ca3f416b88f5e6c8e264c572",
        "IPY_MODEL_bff3af0656044c9ea9aa2a06eb295405",
        "IPY_MODEL_b8d77c8e41dd440794abf679e5c0902d",
        "IPY_MODEL_d4550e6554db453eb28193f0b0b4cd81",
        "IPY_MODEL_659ed11f050a43769617e3eff91f5461",
        "IPY_MODEL_e0430fa36364437eb1fbc18817caae54",
        "IPY_MODEL_d47ab93ae6b64dfd9886cc29d38eec3f",
        "IPY_MODEL_6ac75f0b6d39413c9a8ac790b6ec77c6"
       ],
       "layout": "IPY_MODEL_706c90ced7024f11a8c06d5432c8f9fa"
      }
     },
     "3c0a04bac31a43e39cf479041b653fda": {
      "model_module": "@jupyter-widgets/controls",
      "model_module_version": "1.5.0",
      "model_name": "DescriptionStyleModel",
      "state": {
       "description_width": ""
      }
     },
     "3c17e935808f48529fa44b42ba47617d": {
      "model_module": "@jupyter-widgets/base",
      "model_module_version": "1.2.0",
      "model_name": "LayoutModel",
      "state": {
       "grid_gap": "5px 10px",
       "grid_template_columns": "auto",
       "grid_template_rows": "auto",
       "padding": "5px 0px 5px 0px",
       "width": "100%"
      }
     },
     "3c182ba7037f4efda1215c3ea8ec34f4": {
      "model_module": "@jupyter-widgets/controls",
      "model_module_version": "1.5.0",
      "model_name": "DescriptionStyleModel",
      "state": {
       "description_width": ""
      }
     },
     "3c4c4753505446af803b2fbc22f0db73": {
      "model_module": "@jupyter-widgets/controls",
      "model_module_version": "1.5.0",
      "model_name": "HTMLModel",
      "state": {
       "layout": "IPY_MODEL_ea3a9eeee4824f1b8faf014bf7bece69",
       "style": "IPY_MODEL_75458c7ed38f4a7ba545811f8ac419ea",
       "value": "<b>Title: </b> "
      }
     },
     "3c5adbbbe17b4026bce035ff7dc27b11": {
      "model_module": "@jupyter-widgets/controls",
      "model_module_version": "1.5.0",
      "model_name": "DescriptionStyleModel",
      "state": {
       "description_width": ""
      }
     },
     "3c6df4305e234fa696c80303a2f3a99a": {
      "model_module": "@jupyter-widgets/base",
      "model_module_version": "1.2.0",
      "model_name": "LayoutModel",
      "state": {
       "grid_gap": "5px 10px",
       "grid_template_columns": "100px auto",
       "grid_template_rows": "auto auto auto auto auto",
       "padding": "50px 0px 70px 0px",
       "width": "100%"
      }
     },
     "3c8bbd9f4f8f41d881c85b1854478fa8": {
      "model_module": "@jupyter-widgets/controls",
      "model_module_version": "1.5.0",
      "model_name": "HTMLModel",
      "state": {
       "layout": "IPY_MODEL_f75ea4ad14a14666a68e3acfa9349a52",
       "style": "IPY_MODEL_3d5cff98bf8146f5b25505b1d425cfdf",
       "value": "<b>GitHub: </b> "
      }
     },
     "3ce46018fd9e4825a58dccd39d5e2588": {
      "model_module": "@jupyter-widgets/controls",
      "model_module_version": "1.5.0",
      "model_name": "DescriptionStyleModel",
      "state": {
       "description_width": ""
      }
     },
     "3ceafa0993d145cbb9f394560ac4b02e": {
      "model_module": "@jupyter-widgets/base",
      "model_module_version": "1.2.0",
      "model_name": "LayoutModel",
      "state": {}
     },
     "3d00b1bf1da24603abcac1600a4b2403": {
      "model_module": "@jupyter-widgets/controls",
      "model_module_version": "1.5.0",
      "model_name": "GridBoxModel",
      "state": {
       "children": [
        "IPY_MODEL_02ba198a44794f2296b96a0494f06c8f",
        "IPY_MODEL_add57b69dfd5465abdd26d588f4014ac",
        "IPY_MODEL_d87b9e992c9c4b07b784a7f322709e62",
        "IPY_MODEL_29e402a9ec20456da5272f134db1f789",
        "IPY_MODEL_2259ca5c511f40bc812e63b5af5ae77e",
        "IPY_MODEL_4de86e438c264567ba4ce1825b75eb5f",
        "IPY_MODEL_6d0fd8359eba47d6b338a12e37e9c49a",
        "IPY_MODEL_92f6e3b528044442abb401add352b239",
        "IPY_MODEL_424790803dd04c78a76842c23e19b721",
        "IPY_MODEL_ea52002bc089443390f8790c8946866b"
       ],
       "layout": "IPY_MODEL_abf99b8083fd499cb3a70848051c55cd"
      }
     },
     "3d01cd11975449a1b312de17471ddcc3": {
      "model_module": "@jupyter-widgets/controls",
      "model_module_version": "1.5.0",
      "model_name": "DescriptionStyleModel",
      "state": {
       "description_width": ""
      }
     },
     "3d25b8e3991c440bb547c07f21958e7b": {
      "model_module": "@jupyter-widgets/controls",
      "model_module_version": "1.5.0",
      "model_name": "AccordionModel",
      "state": {
       "_titles": {
        "0": "pCO₂ data reduction part 1 - Gas calibration",
        "1": "pCO₂ Data Reduction part 2 - UWpCO2",
        "2": "pCO₂ Data Reduction part 3 - sensor data",
        "3": "pCO₂ Data Reduction part 4 - UW pCO₂ cruise",
        "4": "Functions and Settings for data reduction modules"
       },
       "children": [
        "IPY_MODEL_edd094e184444e64b9831774372a89ca",
        "IPY_MODEL_0c947b2256894bd7986e8366006f7105",
        "IPY_MODEL_98967a802ef44af1a13f4669107b9bab",
        "IPY_MODEL_078f9231fb38486889440f688adc754b",
        "IPY_MODEL_e78a3b28dfcb45e4a1bad564349abb91"
       ],
       "layout": "IPY_MODEL_08f16e077fc1452aacad4adead896d09",
       "selected_index": null
      }
     },
     "3d3c634d2a76404585944f36204346f0": {
      "model_module": "@jupyter-widgets/controls",
      "model_module_version": "1.5.0",
      "model_name": "AccordionModel",
      "state": {
       "_titles": {
        "0": "Introduction",
        "1": "Pylib examples",
        "2": "ICOS Jupyter notebooks",
        "3": "Project Jupyter notebooks",
        "4": "Education"
       },
       "children": [
        "IPY_MODEL_0786cc0de87648a4b1bb59e46d5b31cb",
        "IPY_MODEL_e551e3fa5c3f4793987c95c0c91ba634",
        "IPY_MODEL_9ccdbfa81b5c4ac0911e5604b2cd3789",
        "IPY_MODEL_1e57556048df47acbd0bd40210f893e1",
        "IPY_MODEL_35e4798f204748769e498dbcd137becc"
       ],
       "layout": "IPY_MODEL_4ecff8b909ea480497a1bf1e13de300a",
       "selected_index": null
      }
     },
     "3d5cff98bf8146f5b25505b1d425cfdf": {
      "model_module": "@jupyter-widgets/controls",
      "model_module_version": "1.5.0",
      "model_name": "DescriptionStyleModel",
      "state": {
       "description_width": ""
      }
     },
     "3d5d792dd619486d908d2ba74587f31d": {
      "model_module": "@jupyter-widgets/base",
      "model_module_version": "1.2.0",
      "model_name": "LayoutModel",
      "state": {
       "grid_gap": "5px 10px",
       "grid_template_columns": "100px auto",
       "grid_template_rows": "auto auto auto auto auto",
       "padding": "50px 0px 70px 0px",
       "width": "100%"
      }
     },
     "3d6fe06bfa8749e5b8087a57b035310b": {
      "model_module": "@jupyter-widgets/base",
      "model_module_version": "1.2.0",
      "model_name": "LayoutModel",
      "state": {}
     },
     "3dc8089252934dccabebd8fa1224e585": {
      "model_module": "@jupyter-widgets/controls",
      "model_module_version": "1.5.0",
      "model_name": "HTMLModel",
      "state": {
       "layout": "IPY_MODEL_4aab2f0fd1724b5bb8613236743079ec",
       "style": "IPY_MODEL_d1b2b440be7440fa8bd1075168c5495e",
       "value": "<b>Title: </b> "
      }
     },
     "3dfae4ca39824afea346d84d1baffd6c": {
      "model_module": "@jupyter-widgets/controls",
      "model_module_version": "1.5.0",
      "model_name": "GridBoxModel",
      "state": {
       "children": [
        "IPY_MODEL_47431bedf20e4bc994f7e65d9d0e5561",
        "IPY_MODEL_10c62ac4d2e645e4826eaa26256581b9"
       ],
       "layout": "IPY_MODEL_3bc8d7ba8de24f42baf2b7fc1f611462"
      }
     },
     "3e0bc989953c4ba49ddd138591765ab9": {
      "model_module": "@jupyter-widgets/controls",
      "model_module_version": "1.5.0",
      "model_name": "HTMLModel",
      "state": {
       "layout": "IPY_MODEL_2250c5481663423ab8060a286b88c315",
       "style": "IPY_MODEL_32997f389a7c4391b38aff2c8684267b",
       "value": "This subcategory includes educational material and notebooks with exercises for PhD courses. The exercises make use of ICOS data products."
      }
     },
     "3e3c36aa6a254204a5e44e2793063552": {
      "model_module": "@jupyter-widgets/base",
      "model_module_version": "1.2.0",
      "model_name": "LayoutModel",
      "state": {}
     },
     "3e5b9ab003be419ea4d55d001245cee2": {
      "model_module": "@jupyter-widgets/controls",
      "model_module_version": "1.5.0",
      "model_name": "DescriptionStyleModel",
      "state": {
       "description_width": ""
      }
     },
     "3e64fc820513441697ad6f44949fec16": {
      "model_module": "@jupyter-widgets/base",
      "model_module_version": "1.2.0",
      "model_name": "LayoutModel",
      "state": {
       "grid_gap": "5px 10px",
       "grid_template_columns": "100px auto",
       "grid_template_rows": "auto auto auto auto auto",
       "padding": "50px 0px 70px 0px",
       "width": "100%"
      }
     },
     "3eb4c7066c464da593f6c2e9f54ea758": {
      "model_module": "@jupyter-widgets/controls",
      "model_module_version": "1.5.0",
      "model_name": "AccordionModel",
      "state": {
       "_titles": {
        "0": "ICOS Carbon Portal Python Library - Access data and meta data",
        "1": "ICOS Carbon Portal Python Library - Explore ICOS stations",
        "2": "ICOS Carbon Portal Python Library - Multisource",
        "3": "ICOS Carbon Portal Python Library - Access data and metadata of collections",
        "4": "ICOS Carbon Portal Python Library - Load data based on a sparql query",
        "5": "ICOS Carbon Portal Python Library - STILT",
        "6": "ICOS Carbon Portal Python Library - STILT footprint animation",
        "7": "ICOS Carbon Portal Python Library - STILT footprints and timeseries"
       },
       "children": [
        "IPY_MODEL_48ae41e281c445c1bd04c4a6acaccb27",
        "IPY_MODEL_3fccf4ef7c9741839141d596cfe168ac",
        "IPY_MODEL_303ad52fd0ad432db0243c7fb8065221",
        "IPY_MODEL_55d57174de77446fb16646c894d2d6d7",
        "IPY_MODEL_66b7d931c3bc44b9857a39bdd23f115c",
        "IPY_MODEL_9aa59e19fe5e483e8f8a6f7ac09ca9df",
        "IPY_MODEL_99d761bd206842c8b5e257b4f1803647",
        "IPY_MODEL_887f3f7f728f4dcf96b86f4035c224c2"
       ],
       "layout": "IPY_MODEL_6d675c3c38114aac889dcfa93af5f3c6",
       "selected_index": null
      }
     },
     "3f16878d19cd4b77ac72269de317a38d": {
      "model_module": "@jupyter-widgets/base",
      "model_module_version": "1.2.0",
      "model_name": "LayoutModel",
      "state": {}
     },
     "3f4b26254e4d4c0f9a99b5b5571a6099": {
      "model_module": "@jupyter-widgets/controls",
      "model_module_version": "1.5.0",
      "model_name": "HTMLModel",
      "state": {
       "layout": "IPY_MODEL_92b5b71e48634e3c81b8706b2df58d4b",
       "style": "IPY_MODEL_2b3e5a58616c4706914656c852daa721",
       "value": "<b>Description: </b> "
      }
     },
     "3f8785b0437d45fc8f96348fa08643cf": {
      "model_module": "@jupyter-widgets/controls",
      "model_module_version": "1.5.0",
      "model_name": "GridBoxModel",
      "state": {
       "children": [
        "IPY_MODEL_0be907cecb3140a79423123cce982e53",
        "IPY_MODEL_405efef522b5460d9eb7e7e4d14865a0",
        "IPY_MODEL_02ef5aa2c28a4bafb8fafec0dbd555d4",
        "IPY_MODEL_61ecf55b2dd344b7bf3e96822737d1cc",
        "IPY_MODEL_9682dec3a5ab4529ab1c224979fbc281",
        "IPY_MODEL_854427663f534cdcae8967d7f8becc50",
        "IPY_MODEL_ac40bd7a17e348028b92b43d7914e998",
        "IPY_MODEL_9fc1418ae6044150ac6c768679cdbde6",
        "IPY_MODEL_909e2666e145472580f4d9d4effd4b87",
        "IPY_MODEL_37d6ca99ff89416f81fcaf91bfc8c0f7"
       ],
       "layout": "IPY_MODEL_ee7a11cf4a63433089058477bbda3d37"
      }
     },
     "3f9f22637d224115b998ede8674eef0a": {
      "model_module": "@jupyter-widgets/controls",
      "model_module_version": "1.5.0",
      "model_name": "DescriptionStyleModel",
      "state": {
       "description_width": ""
      }
     },
     "3fccf4ef7c9741839141d596cfe168ac": {
      "model_module": "@jupyter-widgets/controls",
      "model_module_version": "1.5.0",
      "model_name": "GridBoxModel",
      "state": {
       "children": [
        "IPY_MODEL_1afa9532f6304586a4517262b3096c95",
        "IPY_MODEL_dc97fd4bdbb445e480670ef903e6a5a3",
        "IPY_MODEL_b60ea26fb08e4f84addf103f893bfd83",
        "IPY_MODEL_a9a345a19b2e4a7dac9801c948fd7b1c",
        "IPY_MODEL_e11817c079824e88aef574f94f6f5318",
        "IPY_MODEL_5dd5afea06544307a19c3565f529117c",
        "IPY_MODEL_faaffe484cbf4bacae40421debf78775",
        "IPY_MODEL_c5bfc7b6ccbb4b7b9e538a936a828aa6",
        "IPY_MODEL_229d39fbce334aa98f649ac378bb61fa",
        "IPY_MODEL_b0f46341852441f59992ac2379b5e730"
       ],
       "layout": "IPY_MODEL_d73519ab51e74f29a7afae79330837bb"
      }
     },
     "3fe5fb8a673545caa70bd0a86f40835d": {
      "model_module": "@jupyter-widgets/controls",
      "model_module_version": "1.5.0",
      "model_name": "DescriptionStyleModel",
      "state": {
       "description_width": ""
      }
     },
     "401bf48cc4654a95ae771bbc71dc33b6": {
      "model_module": "@jupyter-widgets/controls",
      "model_module_version": "1.5.0",
      "model_name": "DescriptionStyleModel",
      "state": {
       "description_width": ""
      }
     },
     "401c181381ff4f33b39e0d4520cbc4a5": {
      "model_module": "@jupyter-widgets/controls",
      "model_module_version": "1.5.0",
      "model_name": "HTMLModel",
      "state": {
       "layout": "IPY_MODEL_7e8f39fe9b7a4ac397a3c71eb872ecb0",
       "style": "IPY_MODEL_cec6fa8cbddf4ebd957dacd1973098de",
       "value": "<img src=\"./icos_jupyter_notebooks/ind_tools/img/04_proj_JNBs/envrifair_ws/maps/ex1.PNG\">"
      }
     },
     "4023ca1051fc4ebf88f3ce738ae70bae": {
      "model_module": "@jupyter-widgets/base",
      "model_module_version": "1.2.0",
      "model_name": "LayoutModel",
      "state": {}
     },
     "405efef522b5460d9eb7e7e4d14865a0": {
      "model_module": "@jupyter-widgets/controls",
      "model_module_version": "1.5.0",
      "model_name": "HTMLModel",
      "state": {
       "layout": "IPY_MODEL_cc44cdc783a9491b967f3c10c97c7778",
       "style": "IPY_MODEL_764be8ab38f8401cb4b9f75b3c0d6a44",
       "value": "<a href=./education/MSc_BSc/drought_2018/htm_icos_eco_data_drought_2018_anonymous_v2_all_code_visible.ipynb target='_blank'>Drought 2018 - ICOS ecosystem data from Hyltemossa (all code visible)</a>"
      }
     },
     "4087304f1ff442a19b285e18701c767d": {
      "model_module": "@jupyter-widgets/controls",
      "model_module_version": "1.5.0",
      "model_name": "DescriptionStyleModel",
      "state": {
       "description_width": ""
      }
     },
     "40d419f9c3ef41fabcd5d6b082be6476": {
      "model_module": "@jupyter-widgets/base",
      "model_module_version": "1.2.0",
      "model_name": "LayoutModel",
      "state": {}
     },
     "40deb7d0191148a79f5b61a88a2b639e": {
      "model_module": "@jupyter-widgets/controls",
      "model_module_version": "1.5.0",
      "model_name": "DescriptionStyleModel",
      "state": {
       "description_width": ""
      }
     },
     "40e927317b0a45299b6e24d0922e1eec": {
      "model_module": "@jupyter-widgets/controls",
      "model_module_version": "1.5.0",
      "model_name": "HTMLModel",
      "state": {
       "layout": "IPY_MODEL_2e78d1b28b684331a77427f3fe5198d8",
       "style": "IPY_MODEL_14b5394c0ec2492ba988055bf3bd3464",
       "value": "<img src=\"./icos_jupyter_notebooks/ind_tools/img//05_education/general/02_cc_htm/htm_station_photo_mashup.png\">"
      }
     },
     "4108b7acd7dd489590f7e4c08923808d": {
      "model_module": "@jupyter-widgets/controls",
      "model_module_version": "1.5.0",
      "model_name": "DescriptionStyleModel",
      "state": {
       "description_width": ""
      }
     },
     "412214a4b60d402285157cb542fae505": {
      "model_module": "@jupyter-widgets/controls",
      "model_module_version": "1.5.0",
      "model_name": "DescriptionStyleModel",
      "state": {
       "description_width": ""
      }
     },
     "41435c7f0e984269907340ef7e4e2514": {
      "model_module": "@jupyter-widgets/controls",
      "model_module_version": "1.5.0",
      "model_name": "DescriptionStyleModel",
      "state": {
       "description_width": ""
      }
     },
     "41463ee7a9f842f6aae3ba4f0470e5ab": {
      "model_module": "@jupyter-widgets/controls",
      "model_module_version": "1.5.0",
      "model_name": "DescriptionStyleModel",
      "state": {
       "description_width": ""
      }
     },
     "414b6e6f180446d3a38e2ee4c7d235bf": {
      "model_module": "@jupyter-widgets/controls",
      "model_module_version": "1.5.0",
      "model_name": "DescriptionStyleModel",
      "state": {
       "description_width": ""
      }
     },
     "415d4a2899f942a8bc3a2c9c2744160e": {
      "model_module": "@jupyter-widgets/base",
      "model_module_version": "1.2.0",
      "model_name": "LayoutModel",
      "state": {}
     },
     "416ab629d2e34a40906ed709ec3744a1": {
      "model_module": "@jupyter-widgets/controls",
      "model_module_version": "1.5.0",
      "model_name": "DescriptionStyleModel",
      "state": {
       "description_width": ""
      }
     },
     "418f86c90d8d4ab48b49ac01432e75f9": {
      "model_module": "@jupyter-widgets/controls",
      "model_module_version": "1.5.0",
      "model_name": "DescriptionStyleModel",
      "state": {
       "description_width": ""
      }
     },
     "41918898f4de4c96b8f97a0eea73bee0": {
      "model_module": "@jupyter-widgets/controls",
      "model_module_version": "1.5.0",
      "model_name": "GridBoxModel",
      "state": {
       "children": [
        "IPY_MODEL_3dc8089252934dccabebd8fa1224e585",
        "IPY_MODEL_99a90455545b4c91a465105fbcf081a0",
        "IPY_MODEL_99417520762d4c9187d7b7611c52f45b",
        "IPY_MODEL_a09c7d4fee034740bb6fca78ef8f37e9",
        "IPY_MODEL_cbf0e2fcef5649e491b437e632c9b96d",
        "IPY_MODEL_e257e3bd06f84d84a33a5e37728889d8",
        "IPY_MODEL_9daedee2a7ef4ca082e294cf023ebfcd",
        "IPY_MODEL_d446093cb3ce4f6ba39b8477d5695d46",
        "IPY_MODEL_caa28d8006b2444ca6a5d6ef620d3eb1",
        "IPY_MODEL_637a95044c0246819649e28096ee3000"
       ],
       "layout": "IPY_MODEL_4b28fa10b6d5445e87add2aaba149be6"
      }
     },
     "41ad40e713434f89af0070fbaa0a0f19": {
      "model_module": "@jupyter-widgets/controls",
      "model_module_version": "1.5.0",
      "model_name": "AccordionModel",
      "state": {
       "_titles": {
        "0": "Curve fitting methods for CO2 time series",
        "1": "Explore ICOS atmospheric observations",
        "2": "ICOS atmospheric observation statistics",
        "3": "ICOS atmospheric observations vs STILT modelled values",
        "4": "ICOS data availability table",
        "5": "Characterization of networks of atmospheric measurement stations",
        "6": "Radiocarbon",
        "7": "Characterization of atmospheric measurement stations",
        "8": "Visualization of average footprints"
       },
       "children": [
        "IPY_MODEL_38a095ade20b45eeb059acf1567ccc9c",
        "IPY_MODEL_84c61596860b4833acb8d59dcfced398",
        "IPY_MODEL_19dfc29c16734ba1b7f9dc6c60f781d7",
        "IPY_MODEL_cf74864d65674fd7867dc6f03c1f47cf",
        "IPY_MODEL_a11b90b47ce449d6b3d1dad39baa0b27",
        "IPY_MODEL_85940cdbad7741b1b49f2bc781ccdf48",
        "IPY_MODEL_e74cb322e9704d98b8ff6468e69fc959",
        "IPY_MODEL_3be25ef851f8468aac31ecf54cbb9531",
        "IPY_MODEL_e92257fcbad64bd59e212c3f58b3f7dd"
       ],
       "layout": "IPY_MODEL_6dbaf623f7ac48d4b449e450da054cb7",
       "selected_index": null
      }
     },
     "41b1bb07592144088a91b70a20537667": {
      "model_module": "@jupyter-widgets/controls",
      "model_module_version": "1.5.0",
      "model_name": "HTMLModel",
      "state": {
       "layout": "IPY_MODEL_611b1af9649748cea8012aa54ceee772",
       "style": "IPY_MODEL_39b0d6b48bed4dad8d22e336d3c3cb9a",
       "value": "<b>Title: </b> "
      }
     },
     "41d23857138b42bbaef99c68b3aa7e7f": {
      "model_module": "@jupyter-widgets/base",
      "model_module_version": "1.2.0",
      "model_name": "LayoutModel",
      "state": {}
     },
     "41f22fe75719436aae2669386bf5c245": {
      "model_module": "@jupyter-widgets/controls",
      "model_module_version": "1.5.0",
      "model_name": "DescriptionStyleModel",
      "state": {
       "description_width": ""
      }
     },
     "420c6e71d1f54fd38a7e22170d44b068": {
      "model_module": "@jupyter-widgets/controls",
      "model_module_version": "1.5.0",
      "model_name": "HTMLModel",
      "state": {
       "layout": "IPY_MODEL_987e3e1b7cdb4b76ba22cc4981b6944a",
       "style": "IPY_MODEL_4227478a55b845719a2f48600ae3278c",
       "value": "<a href=\"mailto: jupyter-info@icos-cp.eu\">jupyter-info@icos-cp.eu</a>"
      }
     },
     "420f4ab18f4d4f78b8d58e18037f6624": {
      "model_module": "@jupyter-widgets/base",
      "model_module_version": "1.2.0",
      "model_name": "LayoutModel",
      "state": {}
     },
     "42256575840d42e9884fb6f09e2ac233": {
      "model_module": "@jupyter-widgets/controls",
      "model_module_version": "1.5.0",
      "model_name": "HTMLModel",
      "state": {
       "layout": "IPY_MODEL_c20bdbbb032e4d6a8e058dfc24a4f91b",
       "style": "IPY_MODEL_dcf4aef56fd645e4be1997271351d258",
       "value": "<a href='https://github.com/ICOS-Carbon-Portal/jupyter/issues' target='_blank'>Click here to report an issue</a>"
      }
     },
     "4227478a55b845719a2f48600ae3278c": {
      "model_module": "@jupyter-widgets/controls",
      "model_module_version": "1.5.0",
      "model_name": "DescriptionStyleModel",
      "state": {
       "description_width": ""
      }
     },
     "424790803dd04c78a76842c23e19b721": {
      "model_module": "@jupyter-widgets/controls",
      "model_module_version": "1.5.0",
      "model_name": "HTMLModel",
      "state": {
       "layout": "IPY_MODEL_988728ad88014b9488cc1cbf84e0dc91",
       "style": "IPY_MODEL_ae3b52379dc74af6a420311c4f0f6a58",
       "value": "<b>Thumbnail: </b> "
      }
     },
     "4261cbb7750a48f1b8f9d69f6d17210a": {
      "model_module": "@jupyter-widgets/controls",
      "model_module_version": "1.5.0",
      "model_name": "DescriptionStyleModel",
      "state": {
       "description_width": ""
      }
     },
     "4269ba661f2944d5a7029d44e1055ab0": {
      "model_module": "@jupyter-widgets/base",
      "model_module_version": "1.2.0",
      "model_name": "LayoutModel",
      "state": {}
     },
     "428bb279654746239eb1c46d4834b9b1": {
      "model_module": "@jupyter-widgets/base",
      "model_module_version": "1.2.0",
      "model_name": "LayoutModel",
      "state": {}
     },
     "436c104703a64f94ba6e210a98a04835": {
      "model_module": "@jupyter-widgets/controls",
      "model_module_version": "1.5.0",
      "model_name": "DescriptionStyleModel",
      "state": {
       "description_width": ""
      }
     },
     "436da2ba8cc44495a26f4f6d20bac2bc": {
      "model_module": "@jupyter-widgets/controls",
      "model_module_version": "1.5.0",
      "model_name": "DescriptionStyleModel",
      "state": {
       "description_width": ""
      }
     },
     "439ad2b013a94a7dba907f5dff94112c": {
      "model_module": "@jupyter-widgets/base",
      "model_module_version": "1.2.0",
      "model_name": "LayoutModel",
      "state": {
       "grid_gap": "5px 10px",
       "grid_template_columns": "auto",
       "grid_template_rows": "auto",
       "padding": "5px 0px 5px 0px",
       "width": "100%"
      }
     },
     "43a2c4ab6d6d4fba993f39fafbdc280b": {
      "model_module": "@jupyter-widgets/controls",
      "model_module_version": "1.5.0",
      "model_name": "DescriptionStyleModel",
      "state": {
       "description_width": ""
      }
     },
     "43a4eaef15704a6bb15a3654867f9718": {
      "model_module": "@jupyter-widgets/base",
      "model_module_version": "1.2.0",
      "model_name": "LayoutModel",
      "state": {
       "grid_gap": "5px 10px",
       "grid_template_columns": "auto",
       "grid_template_rows": "auto",
       "padding": "5px 0px 5px 0px",
       "width": "100%"
      }
     },
     "440815fb04014e2292fafec7eb3a1494": {
      "model_module": "@jupyter-widgets/controls",
      "model_module_version": "1.5.0",
      "model_name": "DescriptionStyleModel",
      "state": {
       "description_width": ""
      }
     },
     "4446c40f7f0349fa91cf4bf0864633e7": {
      "model_module": "@jupyter-widgets/controls",
      "model_module_version": "1.5.0",
      "model_name": "HTMLModel",
      "state": {
       "layout": "IPY_MODEL_7ca209464fa741e0a60e728c177481de",
       "style": "IPY_MODEL_e6709a79f3de4302bc1564838fe89610",
       "value": "<a href=./project_jupyter_notebooks/envrifair_winterschool/timeseries/icos_obs_vs_stilt_timeseries.ipynb target='_blank'>ICOS observations vs STILT model output</a>"
      }
     },
     "44576d2bf1364badb86ed127169ed16c": {
      "model_module": "@jupyter-widgets/base",
      "model_module_version": "1.2.0",
      "model_name": "LayoutModel",
      "state": {
       "grid_gap": "5px 10px",
       "grid_template_columns": "auto",
       "grid_template_rows": "auto",
       "padding": "5px 0px 5px 0px",
       "width": "100%"
      }
     },
     "44fe338ee1924a78b3ad3c31af3910e2": {
      "model_module": "@jupyter-widgets/base",
      "model_module_version": "1.2.0",
      "model_name": "LayoutModel",
      "state": {}
     },
     "4500bfcdc1c84d0db5b6cc4ad5b5a94c": {
      "model_module": "@jupyter-widgets/controls",
      "model_module_version": "1.5.0",
      "model_name": "HTMLModel",
      "state": {
       "layout": "IPY_MODEL_1a5bf7c85d2846c097b2add4465844a5",
       "style": "IPY_MODEL_a4290de4f6f44ff3801a8a7d40d63944",
       "value": "<a href=./icos_jupyter_notebooks/visualization_average_footprints.ipynb target='_blank'>Visualization of average footprints</a>"
      }
     },
     "455f3d4d62b84980ad52fdd3e21e8e0f": {
      "model_module": "@jupyter-widgets/controls",
      "model_module_version": "1.5.0",
      "model_name": "DescriptionStyleModel",
      "state": {
       "description_width": ""
      }
     },
     "459b68f77cfb4d4eb93f978705e6a0c3": {
      "model_module": "@jupyter-widgets/controls",
      "model_module_version": "1.5.0",
      "model_name": "HTMLModel",
      "state": {
       "layout": "IPY_MODEL_6f6f52bab4c541a8986793f2887a914e",
       "style": "IPY_MODEL_4d1f68f2297c41fb86e74140ded2fa47",
       "value": "Based on a javascript library, <a href='https://leafletjs.com/' target='_blank'>leaflet</a>, a python interface is available, called <a href='https://python-visualization.github.io/folium/' target='_blank'>folium</a>. We will use this library to set up an interactive map with different basemaps and plugin-ins like measurement tools or full-screen view. We will also write a function to 'prettify' the html-content in the popup message"
      }
     },
     "45d55dd2b2af43d993c926a66cce2faa": {
      "model_module": "@jupyter-widgets/base",
      "model_module_version": "1.2.0",
      "model_name": "LayoutModel",
      "state": {}
     },
     "45e34b1cf7a64d77808aea434231c644": {
      "model_module": "@jupyter-widgets/controls",
      "model_module_version": "1.5.0",
      "model_name": "HTMLModel",
      "state": {
       "layout": "IPY_MODEL_4c5b910757b348e3b144c78c12251637",
       "style": "IPY_MODEL_9474511d811245cdb8ebc77667d95728",
       "value": "<b>Title: </b> "
      }
     },
     "45e39459020c4eff86e91d2510d88e26": {
      "model_module": "@jupyter-widgets/controls",
      "model_module_version": "1.5.0",
      "model_name": "AccordionModel",
      "state": {
       "_titles": {
        "0": "Introduction to Jupyter notebooks using ICOS/FLUXNET data",
        "1": "Vegetation modelling & inverse modelling",
        "2": "Upscaling eddy covariance GPP with remote sensing",
        "3": "Estimating national budgets",
        "4": "Drought 2018 - ICOS ecosystem data from Hyltemossa",
        "5": "Inspect FLUXNET ecosystem measurements",
        "6": "Inspect LPJ-GUESS modelled values",
        "7": "Station example",
        "8": "Python modules developed for the course"
       },
       "children": [
        "IPY_MODEL_3d00b1bf1da24603abcac1600a4b2403",
        "IPY_MODEL_2423385a2b70440c867fd15a8033068f",
        "IPY_MODEL_9487a831e254464aa06b12ffa645ce80",
        "IPY_MODEL_a64faaaaeef14744aa840b145c9480ce",
        "IPY_MODEL_ffd38263f76745ec8aab4bdd5c971533",
        "IPY_MODEL_d787fe6757be49caab819fbbad836c09",
        "IPY_MODEL_7dda8615a87a43d891629d011c9163e0",
        "IPY_MODEL_d5872ecf76d54ae680b4ef62496f5474",
        "IPY_MODEL_7bc0ff0d82914a869e27fa1cf81f08f0"
       ],
       "layout": "IPY_MODEL_73b705a5c7684bcca3633587c577b601",
       "selected_index": null
      }
     },
     "46140a028e8a442391def25bca105a97": {
      "model_module": "@jupyter-widgets/controls",
      "model_module_version": "1.5.0",
      "model_name": "HTMLModel",
      "state": {
       "layout": "IPY_MODEL_2d5c0de30d3c483bb8c4439f1f055999",
       "style": "IPY_MODEL_f71317a73ddf4da7b4166c3461a401ad",
       "value": "This is an ancillary notebook aimed for providing students with an example of what the Station Python class includes, how it is structured, and how they can use it to extract the information they are interested in."
      }
     },
     "468aaea8950c4234b09244f695a4acc7": {
      "model_module": "@jupyter-widgets/controls",
      "model_module_version": "1.5.0",
      "model_name": "DescriptionStyleModel",
      "state": {
       "description_width": ""
      }
     },
     "46b0086f4b3a428f878f56a378e578ea": {
      "model_module": "@jupyter-widgets/controls",
      "model_module_version": "1.5.0",
      "model_name": "HTMLModel",
      "state": {
       "layout": "IPY_MODEL_47232e63fada45e6b41631124bec2cbf",
       "style": "IPY_MODEL_b956849fefa648ee9cc40cc6a4b3cc47",
       "value": "This Jupyter notebook is dedicated on providing examples of how to produce an interactive map with incorporated information. In this demo, we will take all the members' location to plot on a map. Could we please ask you to fill in your details. If you don't feel comfortable giving us this information, you can create a 'fake' one (with sensible values)."
      }
     },
     "46b7284ebf584d1f8685f5f7c7a7fa18": {
      "model_module": "@jupyter-widgets/controls",
      "model_module_version": "1.5.0",
      "model_name": "HTMLModel",
      "state": {
       "layout": "IPY_MODEL_78767ac1fc2c4006adaaa4240416a8ef",
       "style": "IPY_MODEL_783fc71a68a5474ab4454f71dcffc5a5",
       "value": "<b>Description: </b> "
      }
     },
     "47232e63fada45e6b41631124bec2cbf": {
      "model_module": "@jupyter-widgets/base",
      "model_module_version": "1.2.0",
      "model_name": "LayoutModel",
      "state": {}
     },
     "4740a00d42fc45da8e3d4753159848d5": {
      "model_module": "@jupyter-widgets/controls",
      "model_module_version": "1.5.0",
      "model_name": "HTMLModel",
      "state": {
       "layout": "IPY_MODEL_f64aa81ac44149539c4c14e082157c35",
       "style": "IPY_MODEL_206351c5b7a44b6e8ee17f20014086a3",
       "value": "<a href=./education/PhD/upscaling_carbon_fluxes/notebooks/inspect_lpjguess.ipynb target='_blank'>Inspect LPJ-GUESS modelled values</a>"
      }
     },
     "47431bedf20e4bc994f7e65d9d0e5561": {
      "model_module": "@jupyter-widgets/controls",
      "model_module_version": "1.5.0",
      "model_name": "HTMLModel",
      "state": {
       "layout": "IPY_MODEL_9beac58f6c804136a15ce7d4604a824e",
       "style": "IPY_MODEL_d0e537c294f447f999a2629bf6003ea2",
       "value": "Includes notebooks that present how to create interactive maps and add information to them."
      }
     },
     "476a67cea53a4f9fa9d76cc7c5872df1": {
      "model_module": "@jupyter-widgets/base",
      "model_module_version": "1.2.0",
      "model_name": "LayoutModel",
      "state": {}
     },
     "47a2336814de4689978df70f0751c252": {
      "model_module": "@jupyter-widgets/controls",
      "model_module_version": "1.5.0",
      "model_name": "DescriptionStyleModel",
      "state": {
       "description_width": ""
      }
     },
     "47acfe2ff0ba4e59a03cfa2829eaf593": {
      "model_module": "@jupyter-widgets/base",
      "model_module_version": "1.2.0",
      "model_name": "LayoutModel",
      "state": {}
     },
     "47b7607496504751855f48ed3a183055": {
      "model_module": "@jupyter-widgets/controls",
      "model_module_version": "1.5.0",
      "model_name": "DescriptionStyleModel",
      "state": {
       "description_width": ""
      }
     },
     "47ceeb43a3274203a34551162415e016": {
      "model_module": "@jupyter-widgets/base",
      "model_module_version": "1.2.0",
      "model_name": "LayoutModel",
      "state": {}
     },
     "47df1d13df8640bb95b2dba203aa13aa": {
      "model_module": "@jupyter-widgets/controls",
      "model_module_version": "1.5.0",
      "model_name": "DescriptionStyleModel",
      "state": {
       "description_width": ""
      }
     },
     "480e63df628b4ac4998690aaab2ba1fc": {
      "model_module": "@jupyter-widgets/controls",
      "model_module_version": "1.5.0",
      "model_name": "HTMLModel",
      "state": {
       "layout": "IPY_MODEL_521b7e56a28e4dcf8260596ab0d9d4ec",
       "style": "IPY_MODEL_6c6b9c450a904d9cb3ca1d429e11e486",
       "value": "<b>Title: </b> "
      }
     },
     "48335ee9ded24f71a09a220150b4cd77": {
      "model_module": "@jupyter-widgets/controls",
      "model_module_version": "1.5.0",
      "model_name": "DescriptionStyleModel",
      "state": {
       "description_width": ""
      }
     },
     "48340f71c5eb47e6b532061fea08d1d7": {
      "model_module": "@jupyter-widgets/base",
      "model_module_version": "1.2.0",
      "model_name": "LayoutModel",
      "state": {}
     },
     "483cfe33e8964ef0a55ff2621c362416": {
      "model_module": "@jupyter-widgets/base",
      "model_module_version": "1.2.0",
      "model_name": "LayoutModel",
      "state": {
       "grid_gap": "5px 10px",
       "grid_template_columns": "auto",
       "grid_template_rows": "auto",
       "padding": "5px 0px 5px 0px",
       "width": "100%"
      }
     },
     "48ae41e281c445c1bd04c4a6acaccb27": {
      "model_module": "@jupyter-widgets/controls",
      "model_module_version": "1.5.0",
      "model_name": "GridBoxModel",
      "state": {
       "children": [
        "IPY_MODEL_45e34b1cf7a64d77808aea434231c644",
        "IPY_MODEL_4bd53b4021864e89a34fa053c7f99472",
        "IPY_MODEL_a7f7b688caf44250852a3830fb477cd3",
        "IPY_MODEL_0307b89ae7554f89918c48b7ee6470ab",
        "IPY_MODEL_02f20abde11d4bb390ab06eacde14cae",
        "IPY_MODEL_ef085f39bdef472c9eb0779c19ae15de",
        "IPY_MODEL_b072385984324942822a4c10dac70e0b",
        "IPY_MODEL_a7e8a1716ac8422b8b7f8aa0d84d75bf",
        "IPY_MODEL_c777dad4cc8446a89ef0703e1f2c82d7",
        "IPY_MODEL_b1b1b626b9854a6a8aa97034048ea15d"
       ],
       "layout": "IPY_MODEL_f5e5a8c6ffe044288d2ee7c14337188c"
      }
     },
     "48b65bc13bd7442683ebab767a5c2870": {
      "model_module": "@jupyter-widgets/base",
      "model_module_version": "1.2.0",
      "model_name": "LayoutModel",
      "state": {}
     },
     "4901869bf768483a90ca1833b4bc7ec3": {
      "model_module": "@jupyter-widgets/controls",
      "model_module_version": "1.5.0",
      "model_name": "HTMLModel",
      "state": {
       "layout": "IPY_MODEL_d44dfb3d88c14607a5949ed67f531aba",
       "style": "IPY_MODEL_455f3d4d62b84980ad52fdd3e21e8e0f",
       "value": "<b>Contact: </b> "
      }
     },
     "491e089a102f4ad7bb1544f46a01842d": {
      "model_module": "@jupyter-widgets/controls",
      "model_module_version": "1.5.0",
      "model_name": "DescriptionStyleModel",
      "state": {
       "description_width": ""
      }
     },
     "493c7ab3949f495e913879bbe61327e0": {
      "model_module": "@jupyter-widgets/controls",
      "model_module_version": "1.5.0",
      "model_name": "DescriptionStyleModel",
      "state": {
       "description_width": ""
      }
     },
     "495d12c4d19a440b9d01ae889b8671b5": {
      "model_module": "@jupyter-widgets/controls",
      "model_module_version": "1.5.0",
      "model_name": "AccordionModel",
      "state": {
       "_titles": {
        "0": "map",
        "1": "timeseries"
       },
       "children": [
        "IPY_MODEL_3dfae4ca39824afea346d84d1baffd6c",
        "IPY_MODEL_cbceab432bf245f2ad5942737d139593"
       ],
       "layout": "IPY_MODEL_7dbe35fa8482465086b33ae3849af5c4",
       "selected_index": null
      }
     },
     "49832802d20045fcbcf54559f8614423": {
      "model_module": "@jupyter-widgets/controls",
      "model_module_version": "1.5.0",
      "model_name": "DescriptionStyleModel",
      "state": {
       "description_width": ""
      }
     },
     "49d7ca6101e34549b3551ff8786fc648": {
      "model_module": "@jupyter-widgets/controls",
      "model_module_version": "1.5.0",
      "model_name": "HTMLModel",
      "state": {
       "layout": "IPY_MODEL_6e88de11f9214d36a616737fd8ef08d8",
       "style": "IPY_MODEL_694716efb4084e6899f0ffc9ae01f4e7",
       "value": "<a href=./project_jupyter_notebooks/OTC%20Data%20Reduction%20Workshop/Data%20reduction%20part%201%20-%20Gas%20Calibration.ipynb target='_blank'>pCO₂ data reduction part 1 - Gas calibration</a>"
      }
     },
     "4a0672c2a29a4e87bca9b69a453169a7": {
      "model_module": "@jupyter-widgets/base",
      "model_module_version": "1.2.0",
      "model_name": "LayoutModel",
      "state": {}
     },
     "4a42afec605d4a158f827cd387db8b70": {
      "model_module": "@jupyter-widgets/controls",
      "model_module_version": "1.5.0",
      "model_name": "HTMLModel",
      "state": {
       "layout": "IPY_MODEL_805f719902414a4ebff79bdd9dd7bfb3",
       "style": "IPY_MODEL_e01bd11e7fcd44aca5d1805dbdba4308",
       "value": "<a href=./icos_jupyter_notebooks/icos_data_availability_table.ipynb target='_blank'>ICOS data availability table</a>"
      }
     },
     "4a4ab861f3644dd89ae74e5c7483cbba": {
      "model_module": "@jupyter-widgets/controls",
      "model_module_version": "1.5.0",
      "model_name": "HTMLModel",
      "state": {
       "layout": "IPY_MODEL_415d4a2899f942a8bc3a2c9c2744160e",
       "style": "IPY_MODEL_d29f3d2b83364cef97d4b274118c1b8d",
       "value": "<b>Thumbnail: </b> "
      }
     },
     "4a58e46e22b84de6bbd06dfe871291c3": {
      "model_module": "@jupyter-widgets/base",
      "model_module_version": "1.2.0",
      "model_name": "LayoutModel",
      "state": {}
     },
     "4a7347e08b5442d0b40ab330cd38243b": {
      "model_module": "@jupyter-widgets/base",
      "model_module_version": "1.2.0",
      "model_name": "LayoutModel",
      "state": {}
     },
     "4a7404ab460245ef8aa9030cb3290284": {
      "model_module": "@jupyter-widgets/controls",
      "model_module_version": "1.5.0",
      "model_name": "DescriptionStyleModel",
      "state": {
       "description_width": ""
      }
     },
     "4aa94b45a2cc4c739c3828d781e2695f": {
      "model_module": "@jupyter-widgets/controls",
      "model_module_version": "1.5.0",
      "model_name": "DescriptionStyleModel",
      "state": {
       "description_width": ""
      }
     },
     "4aab2f0fd1724b5bb8613236743079ec": {
      "model_module": "@jupyter-widgets/base",
      "model_module_version": "1.2.0",
      "model_name": "LayoutModel",
      "state": {}
     },
     "4aafa0ed531a41bb8b3f4ea81ef51d9a": {
      "model_module": "@jupyter-widgets/base",
      "model_module_version": "1.2.0",
      "model_name": "LayoutModel",
      "state": {}
     },
     "4ab890d6adae4fb09da9c3d25cea2697": {
      "model_module": "@jupyter-widgets/controls",
      "model_module_version": "1.5.0",
      "model_name": "HTMLModel",
      "state": {
       "layout": "IPY_MODEL_4ada5a155ed34f689872f2fa414f384d",
       "style": "IPY_MODEL_7975387aa3b44347b75e672114141f41",
       "value": "<b>Thumbnail: </b> "
      }
     },
     "4acf690959b7488f9212c559d5294f8b": {
      "model_module": "@jupyter-widgets/base",
      "model_module_version": "1.2.0",
      "model_name": "LayoutModel",
      "state": {}
     },
     "4ad48b288864400881622b1d8c1c4861": {
      "model_module": "@jupyter-widgets/base",
      "model_module_version": "1.2.0",
      "model_name": "LayoutModel",
      "state": {}
     },
     "4ad6682f60a24921a23afa5dc444601d": {
      "model_module": "@jupyter-widgets/controls",
      "model_module_version": "1.5.0",
      "model_name": "HTMLModel",
      "state": {
       "layout": "IPY_MODEL_e8e8813344504a0193b70d7b42e8e7f2",
       "style": "IPY_MODEL_551c1dcb4afc4952a191af6527e6f674",
       "value": "<b>GitHub: </b> "
      }
     },
     "4ada5a155ed34f689872f2fa414f384d": {
      "model_module": "@jupyter-widgets/base",
      "model_module_version": "1.2.0",
      "model_name": "LayoutModel",
      "state": {}
     },
     "4ae7dfc7330e4b49ba5e97949a979eea": {
      "model_module": "@jupyter-widgets/controls",
      "model_module_version": "1.5.0",
      "model_name": "HTMLModel",
      "state": {
       "layout": "IPY_MODEL_52b0a923d8254e4d824b22d615bb9f75",
       "style": "IPY_MODEL_3ce46018fd9e4825a58dccd39d5e2588",
       "value": "<a href='https://github.com/ICOS-Carbon-Portal/jupyter/issues' target='_blank'>Click here to report an issue</a>"
      }
     },
     "4b19448e6861428e815727e9e3dc7088": {
      "model_module": "@jupyter-widgets/controls",
      "model_module_version": "1.5.0",
      "model_name": "HTMLModel",
      "state": {
       "layout": "IPY_MODEL_7f3975bd7cc748369b2d7b4834eb2c29",
       "style": "IPY_MODEL_8d21b3150cdd42e79252646ca4fd4f8d",
       "value": "<a href=./project_jupyter_notebooks/OTC%20Data%20Reduction%20Workshop/Data%20Reduction%20part%202%20-%20UWpCO2.ipynb target='_blank'>pCO₂ Data Reduction part 2 - UWpCO2</a>"
      }
     },
     "4b28fa10b6d5445e87add2aaba149be6": {
      "model_module": "@jupyter-widgets/base",
      "model_module_version": "1.2.0",
      "model_name": "LayoutModel",
      "state": {
       "grid_gap": "5px 10px",
       "grid_template_columns": "100px auto",
       "grid_template_rows": "auto auto auto auto auto",
       "padding": "50px 0px 70px 0px",
       "width": "100%"
      }
     },
     "4b680531a69b47d9aebaf29b438d0d84": {
      "model_module": "@jupyter-widgets/controls",
      "model_module_version": "1.5.0",
      "model_name": "DescriptionStyleModel",
      "state": {
       "description_width": ""
      }
     },
     "4b9d40defaab4af9939358c00f0a9621": {
      "model_module": "@jupyter-widgets/base",
      "model_module_version": "1.2.0",
      "model_name": "LayoutModel",
      "state": {}
     },
     "4bab9a01b2444186ae597860d40e86f1": {
      "model_module": "@jupyter-widgets/controls",
      "model_module_version": "1.5.0",
      "model_name": "DescriptionStyleModel",
      "state": {
       "description_width": ""
      }
     },
     "4bcc125f10d64d528c1f9fc1b0439dff": {
      "model_module": "@jupyter-widgets/base",
      "model_module_version": "1.2.0",
      "model_name": "LayoutModel",
      "state": {}
     },
     "4bd53b4021864e89a34fa053c7f99472": {
      "model_module": "@jupyter-widgets/controls",
      "model_module_version": "1.5.0",
      "model_name": "HTMLModel",
      "state": {
       "layout": "IPY_MODEL_40d419f9c3ef41fabcd5d6b082be6476",
       "style": "IPY_MODEL_3fe5fb8a673545caa70bd0a86f40835d",
       "value": "<a href=./pylib_examples/ex1_data.ipynb target='_blank'>ICOS Carbon Portal Python Library - Access data and meta data</a>"
      }
     },
     "4beb8bca7c624593a91d83a59fe21ec5": {
      "model_module": "@jupyter-widgets/controls",
      "model_module_version": "1.5.0",
      "model_name": "DescriptionStyleModel",
      "state": {
       "description_width": ""
      }
     },
     "4c48ec570de84351983e11ff42099c73": {
      "model_module": "@jupyter-widgets/controls",
      "model_module_version": "1.5.0",
      "model_name": "HTMLModel",
      "state": {
       "layout": "IPY_MODEL_063ea337a2aa41839fb123982fa4c8d1",
       "style": "IPY_MODEL_1c6c5ff8ae5e4da0891617dd1db6db62",
       "value": "<img src=\"./icos_jupyter_notebooks/ind_tools/img/04_proj_JNBs/envrifair_ws/maps/ex2.PNG\">"
      }
     },
     "4c5b910757b348e3b144c78c12251637": {
      "model_module": "@jupyter-widgets/base",
      "model_module_version": "1.2.0",
      "model_name": "LayoutModel",
      "state": {}
     },
     "4c68d9eb21ea43469d60f62690eb0e12": {
      "model_module": "@jupyter-widgets/base",
      "model_module_version": "1.2.0",
      "model_name": "LayoutModel",
      "state": {}
     },
     "4d01ff63dfd74b6d81a290264b8b45a0": {
      "model_module": "@jupyter-widgets/base",
      "model_module_version": "1.2.0",
      "model_name": "LayoutModel",
      "state": {}
     },
     "4d1f68f2297c41fb86e74140ded2fa47": {
      "model_module": "@jupyter-widgets/controls",
      "model_module_version": "1.5.0",
      "model_name": "DescriptionStyleModel",
      "state": {
       "description_width": ""
      }
     },
     "4da17d3bc10e432abfa96dffc4456fef": {
      "model_module": "@jupyter-widgets/base",
      "model_module_version": "1.2.0",
      "model_name": "LayoutModel",
      "state": {}
     },
     "4de2e691649d45fe8ecc800a098cef09": {
      "model_module": "@jupyter-widgets/controls",
      "model_module_version": "1.5.0",
      "model_name": "DescriptionStyleModel",
      "state": {
       "description_width": ""
      }
     },
     "4de86e438c264567ba4ce1825b75eb5f": {
      "model_module": "@jupyter-widgets/controls",
      "model_module_version": "1.5.0",
      "model_name": "HTMLModel",
      "state": {
       "layout": "IPY_MODEL_2423117849eb4322b84c8e14edf514b9",
       "style": "IPY_MODEL_db68fd8a69954eeb8cf9a2dd795b5943",
       "value": "<a href=\"mailto: jupyter-info@icos-cp.eu\">jupyter-info@icos-cp.eu</a>, <a href=\"mailto: Maj-Lena.Linderson@nateko.lu.se\">Maj-Lena.Linderson@nateko.lu.se</a>"
      }
     },
     "4dfb21b871334b7aa95b5cc56897f184": {
      "model_module": "@jupyter-widgets/controls",
      "model_module_version": "1.5.0",
      "model_name": "HTMLModel",
      "state": {
       "layout": "IPY_MODEL_f80e662285fe4811bd80f19333b5b5b4",
       "style": "IPY_MODEL_6cb5ed556efc4fa09141bc44adee1e1f",
       "value": "<b>Description: </b> "
      }
     },
     "4e630c0dde2647d2bd0aaa090f9b25ad": {
      "model_module": "@jupyter-widgets/base",
      "model_module_version": "1.2.0",
      "model_name": "LayoutModel",
      "state": {}
     },
     "4ebbd05ec6834b4796c75a57a52d45a7": {
      "model_module": "@jupyter-widgets/controls",
      "model_module_version": "1.5.0",
      "model_name": "HTMLModel",
      "state": {
       "layout": "IPY_MODEL_5da77d8a33c64121b21bfb350cd5afbf",
       "style": "IPY_MODEL_a42169e7360e4b5ca1f260ce25096579",
       "value": "<a href=\"mailto: jupyter-info@icos-cp.eu\">jupyter-info@icos-cp.eu</a>"
      }
     },
     "4ecff8b909ea480497a1bf1e13de300a": {
      "model_module": "@jupyter-widgets/base",
      "model_module_version": "1.2.0",
      "model_name": "LayoutModel",
      "state": {}
     },
     "4f48549d063941f49a1ca93658f09d00": {
      "model_module": "@jupyter-widgets/base",
      "model_module_version": "1.2.0",
      "model_name": "LayoutModel",
      "state": {}
     },
     "4f7f3a8bdb314f87a7bda972f7f2cad3": {
      "model_module": "@jupyter-widgets/controls",
      "model_module_version": "1.5.0",
      "model_name": "HTMLModel",
      "state": {
       "layout": "IPY_MODEL_2ad37b9f7f8f49aaabf8b1723542223b",
       "style": "IPY_MODEL_7ea16b4ef90e451e9398d621e231dbcd",
       "value": "<a href=./icos_jupyter_notebooks/explore_icos_atmObs.ipynb target='_blank'>Explore ICOS atmospheric observations</a>"
      }
     },
     "4ffd7ba4847e4afb93f27e3f34e4941d": {
      "model_module": "@jupyter-widgets/controls",
      "model_module_version": "1.5.0",
      "model_name": "HTMLModel",
      "state": {
       "layout": "IPY_MODEL_05bba8acced74f1b9fbd0485708f2bd4",
       "style": "IPY_MODEL_28c922b9d0f540d7861f3a1e51fdae06",
       "value": "<b>Contact: </b> "
      }
     },
     "501e996742c94bf9829ba43eb01bffbd": {
      "model_module": "@jupyter-widgets/controls",
      "model_module_version": "1.5.0",
      "model_name": "DescriptionStyleModel",
      "state": {
       "description_width": ""
      }
     },
     "503af46c1a944a5aaf98d3cd5a2947d4": {
      "model_module": "@jupyter-widgets/controls",
      "model_module_version": "1.5.0",
      "model_name": "DescriptionStyleModel",
      "state": {
       "description_width": ""
      }
     },
     "50ae4c63e5f94199874dfafdda48b94e": {
      "model_module": "@jupyter-widgets/base",
      "model_module_version": "1.2.0",
      "model_name": "LayoutModel",
      "state": {}
     },
     "5106556c303e4fbbbba3d1c007eb31a4": {
      "model_module": "@jupyter-widgets/controls",
      "model_module_version": "1.5.0",
      "model_name": "DescriptionStyleModel",
      "state": {
       "description_width": ""
      }
     },
     "51159f86bfbf4c6ab577dac08b3a991f": {
      "model_module": "@jupyter-widgets/controls",
      "model_module_version": "1.5.0",
      "model_name": "HTMLModel",
      "state": {
       "layout": "IPY_MODEL_d5e400a853f74cca9f8801810ea7f774",
       "style": "IPY_MODEL_56c1f37c7d784565a25a3bef523978b0",
       "value": "<a href=./pylib_examples/ex6c_STILT_timeseries.ipynb target='_blank'>ICOS Carbon Portal Python Library - STILT footprints and timeseries</a>"
      }
     },
     "514d91eb01574349a6d5fb9cd9bfe8e4": {
      "model_module": "@jupyter-widgets/base",
      "model_module_version": "1.2.0",
      "model_name": "LayoutModel",
      "state": {}
     },
     "51cb193c027543958acd2f5800a8fc19": {
      "model_module": "@jupyter-widgets/base",
      "model_module_version": "1.2.0",
      "model_name": "LayoutModel",
      "state": {}
     },
     "51f9f15b3c0b45f1aab28571798e2741": {
      "model_module": "@jupyter-widgets/base",
      "model_module_version": "1.2.0",
      "model_name": "LayoutModel",
      "state": {}
     },
     "521b7e56a28e4dcf8260596ab0d9d4ec": {
      "model_module": "@jupyter-widgets/base",
      "model_module_version": "1.2.0",
      "model_name": "LayoutModel",
      "state": {}
     },
     "5296fa40ca974b1a81511301118e0527": {
      "model_module": "@jupyter-widgets/controls",
      "model_module_version": "1.5.0",
      "model_name": "HTMLModel",
      "state": {
       "layout": "IPY_MODEL_36f8f5bf317c4ba3b53da24e71642eb9",
       "style": "IPY_MODEL_70797ae017584e819ec1e48d7e1e7f68",
       "value": "<a href=./education/General/carbon_cycle_drought.ipynb target='_blank'>Carbon cycle & drought</a>"
      }
     },
     "52ad7e41dd23443bb132006b4f540ebf": {
      "model_module": "@jupyter-widgets/controls",
      "model_module_version": "1.5.0",
      "model_name": "DescriptionStyleModel",
      "state": {
       "description_width": ""
      }
     },
     "52b0a923d8254e4d824b22d615bb9f75": {
      "model_module": "@jupyter-widgets/base",
      "model_module_version": "1.2.0",
      "model_name": "LayoutModel",
      "state": {}
     },
     "52cea513770f40fd830a551bc53e11db": {
      "model_module": "@jupyter-widgets/base",
      "model_module_version": "1.2.0",
      "model_name": "LayoutModel",
      "state": {}
     },
     "52df6400dd2b430cb89cecb3af7b662c": {
      "model_module": "@jupyter-widgets/controls",
      "model_module_version": "1.5.0",
      "model_name": "DescriptionStyleModel",
      "state": {
       "description_width": ""
      }
     },
     "52f5d921d3d14780b750384a75942c0a": {
      "model_module": "@jupyter-widgets/controls",
      "model_module_version": "1.5.0",
      "model_name": "DescriptionStyleModel",
      "state": {
       "description_width": ""
      }
     },
     "530446a56d694432800aefa51608cd24": {
      "model_module": "@jupyter-widgets/base",
      "model_module_version": "1.2.0",
      "model_name": "LayoutModel",
      "state": {}
     },
     "53084c2f015040f4bdfc4be49dd14b54": {
      "model_module": "@jupyter-widgets/controls",
      "model_module_version": "1.5.0",
      "model_name": "DescriptionStyleModel",
      "state": {
       "description_width": ""
      }
     },
     "533af94444604076a88b7f4630c5f6f6": {
      "model_module": "@jupyter-widgets/controls",
      "model_module_version": "1.5.0",
      "model_name": "HTMLModel",
      "state": {
       "layout": "IPY_MODEL_ba9530c3691048c78e7c2149855d8b08",
       "style": "IPY_MODEL_1c81fba4ddfd478d950e180c1e425424",
       "value": "<b>Thumbnail: </b> "
      }
     },
     "533fda19a76c4c96b3e1ad2e9da5052a": {
      "model_module": "@jupyter-widgets/base",
      "model_module_version": "1.2.0",
      "model_name": "LayoutModel",
      "state": {}
     },
     "537f931a5d504899b88722d0460a5dfe": {
      "model_module": "@jupyter-widgets/controls",
      "model_module_version": "1.5.0",
      "model_name": "DescriptionStyleModel",
      "state": {
       "description_width": ""
      }
     },
     "540dac09d8e646a9b4db69ada06bc6c1": {
      "model_module": "@jupyter-widgets/base",
      "model_module_version": "1.2.0",
      "model_name": "LayoutModel",
      "state": {}
     },
     "541c94e8bad04f0c8f74db88248fe14c": {
      "model_module": "@jupyter-widgets/controls",
      "model_module_version": "1.5.0",
      "model_name": "HTMLModel",
      "state": {
       "layout": "IPY_MODEL_51cb193c027543958acd2f5800a8fc19",
       "style": "IPY_MODEL_5d77c75b6a0541e2a02d9c8d3eda9b00",
       "value": "<b>Description: </b> "
      }
     },
     "544857a65c5840f0a90946da8ba7a38c": {
      "model_module": "@jupyter-widgets/controls",
      "model_module_version": "1.5.0",
      "model_name": "DescriptionStyleModel",
      "state": {
       "description_width": ""
      }
     },
     "5459e63e366448ffac70061227f20287": {
      "model_module": "@jupyter-widgets/controls",
      "model_module_version": "1.5.0",
      "model_name": "HTMLModel",
      "state": {
       "layout": "IPY_MODEL_afd98bdad33a4c8fbd9b7e0c7751ff4f",
       "style": "IPY_MODEL_e4d24dfd3be54e64a3b28f2a14bbff42",
       "value": "<a href=\"mailto: jupyter-info@icos-cp.eu\">jupyter-info@icos-cp.eu</a>, <a href=\"mailto: ute.karstens@nateko.lu.se\">ute.karstens@nateko.lu.se</a>"
      }
     },
     "545fc775e22f491193d7c1bf68fba915": {
      "model_module": "@jupyter-widgets/controls",
      "model_module_version": "1.5.0",
      "model_name": "DescriptionStyleModel",
      "state": {
       "description_width": ""
      }
     },
     "5471d80aed60438085995bca1f7adbe8": {
      "model_module": "@jupyter-widgets/controls",
      "model_module_version": "1.5.0",
      "model_name": "DescriptionStyleModel",
      "state": {
       "description_width": ""
      }
     },
     "547a1c166b604e8183a1cc1cb0c894cb": {
      "model_module": "@jupyter-widgets/controls",
      "model_module_version": "1.5.0",
      "model_name": "DescriptionStyleModel",
      "state": {
       "description_width": ""
      }
     },
     "55096a382b2e4e1ba070a718e8efc3e9": {
      "model_module": "@jupyter-widgets/base",
      "model_module_version": "1.2.0",
      "model_name": "LayoutModel",
      "state": {}
     },
     "551c1dcb4afc4952a191af6527e6f674": {
      "model_module": "@jupyter-widgets/controls",
      "model_module_version": "1.5.0",
      "model_name": "DescriptionStyleModel",
      "state": {
       "description_width": ""
      }
     },
     "554d5a0d0d214c889aa8e9ec5deb55cd": {
      "model_module": "@jupyter-widgets/controls",
      "model_module_version": "1.5.0",
      "model_name": "DescriptionStyleModel",
      "state": {
       "description_width": ""
      }
     },
     "5580beaf569b4eeaaab0e42bba0b6017": {
      "model_module": "@jupyter-widgets/controls",
      "model_module_version": "1.5.0",
      "model_name": "DescriptionStyleModel",
      "state": {
       "description_width": ""
      }
     },
     "558df0881dec4a8d876ec31d4f177d7e": {
      "model_module": "@jupyter-widgets/base",
      "model_module_version": "1.2.0",
      "model_name": "LayoutModel",
      "state": {}
     },
     "55d57174de77446fb16646c894d2d6d7": {
      "model_module": "@jupyter-widgets/controls",
      "model_module_version": "1.5.0",
      "model_name": "GridBoxModel",
      "state": {
       "children": [
        "IPY_MODEL_c9c1084dc17b436cb36181f7d41c077b",
        "IPY_MODEL_28f762caff3b4902b87aefc1b519e66f",
        "IPY_MODEL_5f4f7df8f9274735aa3ee565d57b6339",
        "IPY_MODEL_06798522e9e84b90be56d42a0e99b327",
        "IPY_MODEL_4901869bf768483a90ca1833b4bc7ec3",
        "IPY_MODEL_b89859a4fbc64d16b86577b8f531e2be",
        "IPY_MODEL_df3bb81c8f184161a71424bcd2f9c1b6",
        "IPY_MODEL_002a60e675004c0b9c565f07719e62e1",
        "IPY_MODEL_ed484dab03904298b4565ec062ed1f2c",
        "IPY_MODEL_1df646fd564c45a093444f6c9b5147fc"
       ],
       "layout": "IPY_MODEL_81b0c6c1f0964b328bb1234ccd3dedc7"
      }
     },
     "5601ef3dfe5e4ba18917e9a823194335": {
      "model_module": "@jupyter-widgets/base",
      "model_module_version": "1.2.0",
      "model_name": "LayoutModel",
      "state": {}
     },
     "5617fdda241f400998e1917bce32beee": {
      "model_module": "@jupyter-widgets/base",
      "model_module_version": "1.2.0",
      "model_name": "LayoutModel",
      "state": {}
     },
     "5623ebd3ed644832b623379825ef7252": {
      "model_module": "@jupyter-widgets/base",
      "model_module_version": "1.2.0",
      "model_name": "LayoutModel",
      "state": {}
     },
     "563038d2d13e4748afb09f3ec8f167fb": {
      "model_module": "@jupyter-widgets/controls",
      "model_module_version": "1.5.0",
      "model_name": "HTMLModel",
      "state": {
       "layout": "IPY_MODEL_6a68f6dbc9b14d5896e14fe098855f05",
       "style": "IPY_MODEL_b199bb290ae54ffabc66aa554d6a4a99",
       "value": "<b>Thumbnail: </b> "
      }
     },
     "564825f9f7f0440dabf5b63554e2b70f": {
      "model_module": "@jupyter-widgets/base",
      "model_module_version": "1.2.0",
      "model_name": "LayoutModel",
      "state": {}
     },
     "5668c9d785e044bbbfeabf489d8159c9": {
      "model_module": "@jupyter-widgets/base",
      "model_module_version": "1.2.0",
      "model_name": "LayoutModel",
      "state": {}
     },
     "56c1f37c7d784565a25a3bef523978b0": {
      "model_module": "@jupyter-widgets/controls",
      "model_module_version": "1.5.0",
      "model_name": "DescriptionStyleModel",
      "state": {
       "description_width": ""
      }
     },
     "5706bb2be327426893c9a8440ca8cc5f": {
      "model_module": "@jupyter-widgets/controls",
      "model_module_version": "1.5.0",
      "model_name": "HTMLModel",
      "state": {
       "layout": "IPY_MODEL_1eb8ed1bf9c7484d9af8ee1d9415f6c4",
       "style": "IPY_MODEL_eae09ea56025424c9ecd484c4df79180",
       "value": "<b>Title: </b> "
      }
     },
     "5746fc622f004d88a88588938ad59fd5": {
      "model_module": "@jupyter-widgets/base",
      "model_module_version": "1.2.0",
      "model_name": "LayoutModel",
      "state": {
       "grid_gap": "5px 10px",
       "grid_template_columns": "auto",
       "grid_template_rows": "auto",
       "padding": "5px 0px 5px 0px",
       "width": "100%"
      }
     },
     "57acbfa9ff784ad7bdcb1824a5fb0792": {
      "model_module": "@jupyter-widgets/controls",
      "model_module_version": "1.5.0",
      "model_name": "HTMLModel",
      "state": {
       "layout": "IPY_MODEL_bd5deacc92bd4ca28b8ca8a1ffcabd53",
       "style": "IPY_MODEL_9397f9988f234e9a8729d14c8b3e1163",
       "value": "<a href=\"mailto: jupyter-info@icos-cp.eu\">jupyter-info@icos-cp.eu</a>, <a href=\"mailto: ute.karstens@nateko.lu.se\">ute.karstens@nateko.lu.se</a>"
      }
     },
     "57c19b54690c416db9d64531f2318644": {
      "model_module": "@jupyter-widgets/base",
      "model_module_version": "1.2.0",
      "model_name": "LayoutModel",
      "state": {}
     },
     "57df5d658250443e8bde44f4888d4fc4": {
      "model_module": "@jupyter-widgets/controls",
      "model_module_version": "1.5.0",
      "model_name": "DescriptionStyleModel",
      "state": {
       "description_width": ""
      }
     },
     "58007fbedbc246789643300e99e71796": {
      "model_module": "@jupyter-widgets/controls",
      "model_module_version": "1.5.0",
      "model_name": "DescriptionStyleModel",
      "state": {
       "description_width": ""
      }
     },
     "58286e144f754aa38ffbe9c83b036adb": {
      "model_module": "@jupyter-widgets/controls",
      "model_module_version": "1.5.0",
      "model_name": "DescriptionStyleModel",
      "state": {
       "description_width": ""
      }
     },
     "583cfc76f0cc40088d84de21e45a3428": {
      "model_module": "@jupyter-widgets/base",
      "model_module_version": "1.2.0",
      "model_name": "LayoutModel",
      "state": {}
     },
     "5841c15130bb4bcd91054f4b069fe19b": {
      "model_module": "@jupyter-widgets/base",
      "model_module_version": "1.2.0",
      "model_name": "LayoutModel",
      "state": {}
     },
     "5891fd25d574496199fd594fbddaa19d": {
      "model_module": "@jupyter-widgets/controls",
      "model_module_version": "1.5.0",
      "model_name": "HTMLModel",
      "state": {
       "layout": "IPY_MODEL_c99d63f21ae44ad0a55451fe1ec678f8",
       "style": "IPY_MODEL_074584c2fe2547e9b534b541bd6ba09b",
       "value": "<a href='https://github.com/ICOS-Carbon-Portal/jupyter/issues' target='_blank'>Click here to report an issue</a>"
      }
     },
     "58afebbb00094e1ca5e60d9f48e2a56d": {
      "model_module": "@jupyter-widgets/base",
      "model_module_version": "1.2.0",
      "model_name": "LayoutModel",
      "state": {
       "grid_gap": "5px 10px",
       "grid_template_columns": "100px auto",
       "grid_template_rows": "auto auto auto auto auto",
       "padding": "50px 0px 70px 0px",
       "width": "100%"
      }
     },
     "58d0bd82e6d2441fa40688e142121b2c": {
      "model_module": "@jupyter-widgets/base",
      "model_module_version": "1.2.0",
      "model_name": "LayoutModel",
      "state": {}
     },
     "58fff3c202de40cfb257c42eedf7f973": {
      "model_module": "@jupyter-widgets/base",
      "model_module_version": "1.2.0",
      "model_name": "LayoutModel",
      "state": {
       "grid_gap": "5px 10px",
       "grid_template_columns": "100px auto",
       "grid_template_rows": "auto auto auto auto auto",
       "padding": "50px 0px 70px 0px",
       "width": "100%"
      }
     },
     "59129cab5eab4ace88a46bf624f3b5f6": {
      "model_module": "@jupyter-widgets/base",
      "model_module_version": "1.2.0",
      "model_name": "LayoutModel",
      "state": {}
     },
     "5916a577a3b8431ebc4fb49510ef088f": {
      "model_module": "@jupyter-widgets/controls",
      "model_module_version": "1.5.0",
      "model_name": "DescriptionStyleModel",
      "state": {
       "description_width": ""
      }
     },
     "59858ea3ee0243c9af1007c905603db2": {
      "model_module": "@jupyter-widgets/base",
      "model_module_version": "1.2.0",
      "model_name": "LayoutModel",
      "state": {}
     },
     "59a3c4552d0e4d2b886166ddbbf1ad09": {
      "model_module": "@jupyter-widgets/controls",
      "model_module_version": "1.5.0",
      "model_name": "DescriptionStyleModel",
      "state": {
       "description_width": ""
      }
     },
     "5a425c3e5e7948fead0317c389f10a22": {
      "model_module": "@jupyter-widgets/controls",
      "model_module_version": "1.5.0",
      "model_name": "AccordionModel",
      "state": {
       "_titles": {
        "0": "Quickstart to Python"
       },
       "children": [
        "IPY_MODEL_aa108ba82b9345c88a7997bf82437178"
       ],
       "layout": "IPY_MODEL_165022a10ada493e9fb74a764b8c87a0",
       "selected_index": null
      }
     },
     "5a4d712b95224b3ab7e23960d788a01b": {
      "model_module": "@jupyter-widgets/base",
      "model_module_version": "1.2.0",
      "model_name": "LayoutModel",
      "state": {}
     },
     "5a9f2f4f9a024abcbc77af609321bd2b": {
      "model_module": "@jupyter-widgets/base",
      "model_module_version": "1.2.0",
      "model_name": "LayoutModel",
      "state": {}
     },
     "5ab19956de2745cc8edbb1165febc238": {
      "model_module": "@jupyter-widgets/controls",
      "model_module_version": "1.5.0",
      "model_name": "DescriptionStyleModel",
      "state": {
       "description_width": ""
      }
     },
     "5b2485949dc7493b988929237b1c0d4e": {
      "model_module": "@jupyter-widgets/controls",
      "model_module_version": "1.5.0",
      "model_name": "DescriptionStyleModel",
      "state": {
       "description_width": ""
      }
     },
     "5b51e50fd654438c98644515f49cbe97": {
      "model_module": "@jupyter-widgets/controls",
      "model_module_version": "1.5.0",
      "model_name": "DescriptionStyleModel",
      "state": {
       "description_width": ""
      }
     },
     "5b755f58591c42cb86c1cf718e33b824": {
      "model_module": "@jupyter-widgets/controls",
      "model_module_version": "1.5.0",
      "model_name": "DescriptionStyleModel",
      "state": {
       "description_width": ""
      }
     },
     "5bafa55222614e54accfbb0a7766af18": {
      "model_module": "@jupyter-widgets/base",
      "model_module_version": "1.2.0",
      "model_name": "LayoutModel",
      "state": {
       "grid_gap": "5px 10px",
       "grid_template_columns": "100px auto",
       "grid_template_rows": "auto auto auto auto auto",
       "padding": "50px 0px 70px 0px",
       "width": "100%"
      }
     },
     "5c1f771d4d704a6b9e8e21d5c9db3efe": {
      "model_module": "@jupyter-widgets/base",
      "model_module_version": "1.2.0",
      "model_name": "LayoutModel",
      "state": {}
     },
     "5c2d5c29108b426084314123574b80e7": {
      "model_module": "@jupyter-widgets/controls",
      "model_module_version": "1.5.0",
      "model_name": "HTMLModel",
      "state": {
       "layout": "IPY_MODEL_6a2de27d64be4a85b84083b8419e66e2",
       "style": "IPY_MODEL_0c5e0a4cab804ea48ef25f936c02af5e",
       "value": "<b>Title: </b> "
      }
     },
     "5c35fd7010d749b6a53d1de14adcf4fa": {
      "model_module": "@jupyter-widgets/controls",
      "model_module_version": "1.5.0",
      "model_name": "HTMLModel",
      "state": {
       "layout": "IPY_MODEL_37c2163b30514cc1ab8ae17ee2f16715",
       "style": "IPY_MODEL_1f9f183512bd49cb97663ac82f1caeef",
       "value": "Notebooks under this category are aimed to introduce users quickly to the fundamental principles of Python programming."
      }
     },
     "5c37bf28c94045a5a950507846d60366": {
      "model_module": "@jupyter-widgets/base",
      "model_module_version": "1.2.0",
      "model_name": "LayoutModel",
      "state": {}
     },
     "5c4842b086a747abb20f56048d80f419": {
      "model_module": "@jupyter-widgets/controls",
      "model_module_version": "1.5.0",
      "model_name": "DescriptionStyleModel",
      "state": {
       "description_width": ""
      }
     },
     "5d30409651054d6e80cd70d6874d881a": {
      "model_module": "@jupyter-widgets/base",
      "model_module_version": "1.2.0",
      "model_name": "LayoutModel",
      "state": {}
     },
     "5d6739d0ee914faaa4d3696cce60594e": {
      "model_module": "@jupyter-widgets/controls",
      "model_module_version": "1.5.0",
      "model_name": "DescriptionStyleModel",
      "state": {
       "description_width": ""
      }
     },
     "5d77c75b6a0541e2a02d9c8d3eda9b00": {
      "model_module": "@jupyter-widgets/controls",
      "model_module_version": "1.5.0",
      "model_name": "DescriptionStyleModel",
      "state": {
       "description_width": ""
      }
     },
     "5d7c99d2eb4b4e6eba2fe3391dae16ec": {
      "model_module": "@jupyter-widgets/base",
      "model_module_version": "1.2.0",
      "model_name": "LayoutModel",
      "state": {}
     },
     "5d9fc96342ee49a6b657114f2c3ba67b": {
      "model_module": "@jupyter-widgets/controls",
      "model_module_version": "1.5.0",
      "model_name": "HTMLModel",
      "state": {
       "layout": "IPY_MODEL_a4e0475dfb2c4a79b12d33cf47b5adcd",
       "style": "IPY_MODEL_0b910326bb064f72a75e6c10f938e8bc",
       "value": "<a href='https://github.com/ICOS-Carbon-Portal/jupyter/issues' target='_blank'>Click here to report an issue</a>"
      }
     },
     "5da218e83a0c49e29378f310a6382120": {
      "model_module": "@jupyter-widgets/controls",
      "model_module_version": "1.5.0",
      "model_name": "DescriptionStyleModel",
      "state": {
       "description_width": ""
      }
     },
     "5da77d8a33c64121b21bfb350cd5afbf": {
      "model_module": "@jupyter-widgets/base",
      "model_module_version": "1.2.0",
      "model_name": "LayoutModel",
      "state": {}
     },
     "5dd5afea06544307a19c3565f529117c": {
      "model_module": "@jupyter-widgets/controls",
      "model_module_version": "1.5.0",
      "model_name": "HTMLModel",
      "state": {
       "layout": "IPY_MODEL_bbdf6c9991404390926e121b734c4400",
       "style": "IPY_MODEL_5580beaf569b4eeaaab0e42bba0b6017",
       "value": "<a href=\"mailto: jupyter-info@icos-cp.eu\">jupyter-info@icos-cp.eu</a>, <a href=\"mailto: claudio.donofrio@nateko.lu.se\">claudio.donofrio@nateko.lu.se</a>"
      }
     },
     "5e245ea97f524376832daba3917cdb44": {
      "model_module": "@jupyter-widgets/controls",
      "model_module_version": "1.5.0",
      "model_name": "HTMLModel",
      "state": {
       "layout": "IPY_MODEL_c2ef4cc2472f43e3af1e6ccf53c37b8c",
       "style": "IPY_MODEL_766a964c4a414478914438b1b5e73f48",
       "value": "<a href=\"mailto: jupyter-info@icos-cp.eu\">jupyter-info@icos-cp.eu</a>, <a href=\"mailto: claudio.donofrio@nateko.lu.se\">claudio.donofrio@nateko.lu.se</a>"
      }
     },
     "5e5e64acbc6846c5a935979fdf85a9d2": {
      "model_module": "@jupyter-widgets/controls",
      "model_module_version": "1.5.0",
      "model_name": "DescriptionStyleModel",
      "state": {
       "description_width": ""
      }
     },
     "5e77a04641cf47a1882c8ea2f992ae2c": {
      "model_module": "@jupyter-widgets/controls",
      "model_module_version": "1.5.0",
      "model_name": "DescriptionStyleModel",
      "state": {
       "description_width": ""
      }
     },
     "5e8ec817872b4ddaa90c1cf55c1f03fb": {
      "model_module": "@jupyter-widgets/base",
      "model_module_version": "1.2.0",
      "model_name": "LayoutModel",
      "state": {}
     },
     "5e8ee1980b234c5ea8bf6f1f7e9d22e2": {
      "model_module": "@jupyter-widgets/base",
      "model_module_version": "1.2.0",
      "model_name": "LayoutModel",
      "state": {}
     },
     "5f4a4f19fa76448aa99d7b98e6168d98": {
      "model_module": "@jupyter-widgets/base",
      "model_module_version": "1.2.0",
      "model_name": "LayoutModel",
      "state": {}
     },
     "5f4e85a512f048bfb38453ada587805b": {
      "model_module": "@jupyter-widgets/base",
      "model_module_version": "1.2.0",
      "model_name": "LayoutModel",
      "state": {}
     },
     "5f4f7df8f9274735aa3ee565d57b6339": {
      "model_module": "@jupyter-widgets/controls",
      "model_module_version": "1.5.0",
      "model_name": "HTMLModel",
      "state": {
       "layout": "IPY_MODEL_b62d12d31de44355953add743d6072e5",
       "style": "IPY_MODEL_6cae65851bb84b58b61ce3b0014ade54",
       "value": "<b>Description: </b> "
      }
     },
     "5f7e4391b5924546acfb6216f614c471": {
      "model_module": "@jupyter-widgets/controls",
      "model_module_version": "1.5.0",
      "model_name": "HTMLModel",
      "state": {
       "layout": "IPY_MODEL_a2ee563dfcc842718a472d2895c4af7f",
       "style": "IPY_MODEL_00671ccee61147cab29d7dff23f011c2",
       "value": "<b>Thumbnail: </b> "
      }
     },
     "5f85b3c7bbdc41029118c6cc7a99e505": {
      "model_module": "@jupyter-widgets/base",
      "model_module_version": "1.2.0",
      "model_name": "LayoutModel",
      "state": {}
     },
     "606cb1769b5d43d4917032ece7b60324": {
      "model_module": "@jupyter-widgets/controls",
      "model_module_version": "1.5.0",
      "model_name": "GridBoxModel",
      "state": {
       "children": [
        "IPY_MODEL_ca12c56978e9447eac20be86e1bb2b53",
        "IPY_MODEL_a9f43997c34b475ab2df6507dd3a1d45",
        "IPY_MODEL_077d5ce8cd9a4ee88607927a8e386da9",
        "IPY_MODEL_459b68f77cfb4d4eb93f978705e6a0c3",
        "IPY_MODEL_b0b38f70992341dfb5f29d6f396e53ae",
        "IPY_MODEL_003f991c6de545cd85afacd51589dd79",
        "IPY_MODEL_6301997a66ca49c9bc22096e28b3336c",
        "IPY_MODEL_bf734476dce14777bf4f58659a99921f",
        "IPY_MODEL_1c5fc034eb6d4c669fb52f63dbddf78f",
        "IPY_MODEL_61691b6e309546bcb3788efa17251a4f"
       ],
       "layout": "IPY_MODEL_58afebbb00094e1ca5e60d9f48e2a56d"
      }
     },
     "60e9fb1d2368493e817384e0e3c1d3af": {
      "model_module": "@jupyter-widgets/base",
      "model_module_version": "1.2.0",
      "model_name": "LayoutModel",
      "state": {
       "grid_gap": "5px 10px",
       "grid_template_columns": "100px auto",
       "grid_template_rows": "auto auto auto auto auto",
       "padding": "50px 0px 70px 0px",
       "width": "100%"
      }
     },
     "60ff7af0092047a48f2ebbbb4c78a4a8": {
      "model_module": "@jupyter-widgets/base",
      "model_module_version": "1.2.0",
      "model_name": "LayoutModel",
      "state": {}
     },
     "611b1af9649748cea8012aa54ceee772": {
      "model_module": "@jupyter-widgets/base",
      "model_module_version": "1.2.0",
      "model_name": "LayoutModel",
      "state": {}
     },
     "61691b6e309546bcb3788efa17251a4f": {
      "model_module": "@jupyter-widgets/controls",
      "model_module_version": "1.5.0",
      "model_name": "HTMLModel",
      "state": {
       "layout": "IPY_MODEL_6f7b324c6bea4e57843e54e3ba8ec902",
       "style": "IPY_MODEL_5c4842b086a747abb20f56048d80f419",
       "value": "<img src=\"./icos_jupyter_notebooks/ind_tools/img/04_proj_JNBs/envrifair_ws/maps/ex4.PNG\">"
      }
     },
     "616efd10ba83461991d21bf3444a4ef4": {
      "model_module": "@jupyter-widgets/controls",
      "model_module_version": "1.5.0",
      "model_name": "DescriptionStyleModel",
      "state": {
       "description_width": ""
      }
     },
     "6177b27f266a46dc916b107a1b809779": {
      "model_module": "@jupyter-widgets/base",
      "model_module_version": "1.2.0",
      "model_name": "LayoutModel",
      "state": {}
     },
     "61d977e898184197aa8fd99ac53afc97": {
      "model_module": "@jupyter-widgets/base",
      "model_module_version": "1.2.0",
      "model_name": "LayoutModel",
      "state": {}
     },
     "61ecf55b2dd344b7bf3e96822737d1cc": {
      "model_module": "@jupyter-widgets/controls",
      "model_module_version": "1.5.0",
      "model_name": "HTMLModel",
      "state": {
       "layout": "IPY_MODEL_2c6a735586c04a84aae843fd26f16271",
       "style": "IPY_MODEL_e81683cb8e5c4f61bb6da7ccbe300bd0",
       "value": "This notebook is dedicated to using ICOS Ecosystem Data from Hyltemossa Research Station in Southern Sweden, to study how the drought during the summer of 2018 affected the vegetation and the carbon balance in the surrounding area. The temporal resolution of the data extends from January 1st 2015 to December 31st 2018. Another objective of this notebook is to introduce basic principles of Python Programming."
      }
     },
     "61ff6b1fabf94c1eab1d955db129ce46": {
      "model_module": "@jupyter-widgets/base",
      "model_module_version": "1.2.0",
      "model_name": "LayoutModel",
      "state": {
       "grid_gap": "5px 10px",
       "grid_template_columns": "100px auto",
       "grid_template_rows": "auto auto auto auto auto",
       "padding": "50px 0px 70px 0px",
       "width": "100%"
      }
     },
     "622473c3de854c6e9679ad4485239ebc": {
      "model_module": "@jupyter-widgets/controls",
      "model_module_version": "1.5.0",
      "model_name": "DescriptionStyleModel",
      "state": {
       "description_width": ""
      }
     },
     "623e16f6fe2748caaa9de7a30be47674": {
      "model_module": "@jupyter-widgets/controls",
      "model_module_version": "1.5.0",
      "model_name": "DescriptionStyleModel",
      "state": {
       "description_width": ""
      }
     },
     "62657e8ca145478a891db93c2819bed3": {
      "model_module": "@jupyter-widgets/controls",
      "model_module_version": "1.5.0",
      "model_name": "DescriptionStyleModel",
      "state": {
       "description_width": ""
      }
     },
     "62757c98324e452bb3571bc10e2ba601": {
      "model_module": "@jupyter-widgets/controls",
      "model_module_version": "1.5.0",
      "model_name": "DescriptionStyleModel",
      "state": {
       "description_width": ""
      }
     },
     "62bbf5bb19ba4dd186325e3ac4a2bf3c": {
      "model_module": "@jupyter-widgets/base",
      "model_module_version": "1.2.0",
      "model_name": "LayoutModel",
      "state": {}
     },
     "62f37a559df843e189477ec93603af09": {
      "model_module": "@jupyter-widgets/base",
      "model_module_version": "1.2.0",
      "model_name": "LayoutModel",
      "state": {}
     },
     "62fbb2357328472c92ba90df1607e5ae": {
      "model_module": "@jupyter-widgets/base",
      "model_module_version": "1.2.0",
      "model_name": "LayoutModel",
      "state": {}
     },
     "6301997a66ca49c9bc22096e28b3336c": {
      "model_module": "@jupyter-widgets/controls",
      "model_module_version": "1.5.0",
      "model_name": "HTMLModel",
      "state": {
       "layout": "IPY_MODEL_8714c74fb8b04d08b04c1a0661698315",
       "style": "IPY_MODEL_1d7012d07e2146e28f37144b0cb3d93f",
       "value": "<b>GitHub: </b> "
      }
     },
     "634b9a7a0cbf487d90b60e61c6de2bd5": {
      "model_module": "@jupyter-widgets/controls",
      "model_module_version": "1.5.0",
      "model_name": "HTMLModel",
      "state": {
       "layout": "IPY_MODEL_7bf8d9a352e9430495f9ca41a184e9b6",
       "style": "IPY_MODEL_1a9da12e03834f828157364e9aedcae9",
       "value": "<b>Thumbnail: </b> "
      }
     },
     "634ddca9c09943d394f402e099fd1f14": {
      "model_module": "@jupyter-widgets/controls",
      "model_module_version": "1.5.0",
      "model_name": "HTMLModel",
      "state": {
       "layout": "IPY_MODEL_62bbf5bb19ba4dd186325e3ac4a2bf3c",
       "style": "IPY_MODEL_5d6739d0ee914faaa4d3696cce60594e",
       "value": "<b>Contact: </b> "
      }
     },
     "637a95044c0246819649e28096ee3000": {
      "model_module": "@jupyter-widgets/controls",
      "model_module_version": "1.5.0",
      "model_name": "HTMLModel",
      "state": {
       "layout": "IPY_MODEL_ef1084fe20e649c5a8799295320a4aed",
       "style": "IPY_MODEL_e5b1215054674bdaa50f1b2b27bb97af",
       "value": "<img src=\"./icos_jupyter_notebooks/ind_tools/img/04_proj_JNBs/envrifair_ws/maps/ex3.PNG\">"
      }
     },
     "63a0893a12e444d89d3f1d2761e717fd": {
      "model_module": "@jupyter-widgets/controls",
      "model_module_version": "1.5.0",
      "model_name": "DescriptionStyleModel",
      "state": {
       "description_width": ""
      }
     },
     "63a82cfeb7c541fca17553bc8e28c126": {
      "model_module": "@jupyter-widgets/controls",
      "model_module_version": "1.5.0",
      "model_name": "HTMLModel",
      "state": {
       "layout": "IPY_MODEL_ef73102afd0b4646919e38ddb47b20d0",
       "style": "IPY_MODEL_64e737b28a1a4353bde3e44cf5ef49e6",
       "value": "<b>Description: </b> "
      }
     },
     "63c44c23bca24444a7de97f33433b43c": {
      "model_module": "@jupyter-widgets/base",
      "model_module_version": "1.2.0",
      "model_name": "LayoutModel",
      "state": {}
     },
     "6453ad52ba5943dcaf42111aaa655a9d": {
      "model_module": "@jupyter-widgets/base",
      "model_module_version": "1.2.0",
      "model_name": "LayoutModel",
      "state": {}
     },
     "645e968fb42245ec8bc1f1abb3914ce4": {
      "model_module": "@jupyter-widgets/base",
      "model_module_version": "1.2.0",
      "model_name": "LayoutModel",
      "state": {}
     },
     "64688ad5b31f4460ab76f0da7eb06ad3": {
      "model_module": "@jupyter-widgets/base",
      "model_module_version": "1.2.0",
      "model_name": "LayoutModel",
      "state": {}
     },
     "649cfeeb942a4f8aafd6f81af42613da": {
      "model_module": "@jupyter-widgets/controls",
      "model_module_version": "1.5.0",
      "model_name": "DescriptionStyleModel",
      "state": {
       "description_width": ""
      }
     },
     "64da0ed05899459b8c52047f86f3e5d4": {
      "model_module": "@jupyter-widgets/controls",
      "model_module_version": "1.5.0",
      "model_name": "HTMLModel",
      "state": {
       "layout": "IPY_MODEL_acb694dc5b0648729602f3ff12655db0",
       "style": "IPY_MODEL_f1f8df922566487dbb1ca163a7513b06",
       "value": "<b>Description: </b> "
      }
     },
     "64e737b28a1a4353bde3e44cf5ef49e6": {
      "model_module": "@jupyter-widgets/controls",
      "model_module_version": "1.5.0",
      "model_name": "DescriptionStyleModel",
      "state": {
       "description_width": ""
      }
     },
     "64f003918bda4d44b414602e3d53c88e": {
      "model_module": "@jupyter-widgets/base",
      "model_module_version": "1.2.0",
      "model_name": "LayoutModel",
      "state": {}
     },
     "64fd722118474fe693182ce6b26a6307": {
      "model_module": "@jupyter-widgets/controls",
      "model_module_version": "1.5.0",
      "model_name": "DescriptionStyleModel",
      "state": {
       "description_width": ""
      }
     },
     "6513a10b1894465a8a4065cb303d7788": {
      "model_module": "@jupyter-widgets/controls",
      "model_module_version": "1.5.0",
      "model_name": "HTMLModel",
      "state": {
       "layout": "IPY_MODEL_f5a43406c81a406e8a2e0adfbf0f8f11",
       "style": "IPY_MODEL_99d312fe3bf2496fac2b8a869d050ae5",
       "value": "<b>Contact: </b> "
      }
     },
     "6532b42ea99e4144ba326cf7565139dd": {
      "model_module": "@jupyter-widgets/controls",
      "model_module_version": "1.5.0",
      "model_name": "HTMLModel",
      "state": {
       "layout": "IPY_MODEL_3b8f73ffa78d4b499a41d34a8d41ce27",
       "style": "IPY_MODEL_37473780a11a4cce9e1b6d5b2f8aa04c",
       "value": "<a href='https://github.com/ICOS-Carbon-Portal/jupyter/issues' target='_blank'>Click here to report an issue</a>"
      }
     },
     "6561af3b7d8f4cbd90c909083886db3a": {
      "model_module": "@jupyter-widgets/base",
      "model_module_version": "1.2.0",
      "model_name": "LayoutModel",
      "state": {}
     },
     "65696ae04ae740c6af2822ca649d44f5": {
      "model_module": "@jupyter-widgets/base",
      "model_module_version": "1.2.0",
      "model_name": "LayoutModel",
      "state": {}
     },
     "6582a93231f5419c94da69b84bc702d5": {
      "model_module": "@jupyter-widgets/controls",
      "model_module_version": "1.5.0",
      "model_name": "HTMLModel",
      "state": {
       "layout": "IPY_MODEL_fe9a568969d1460683674750df1b7c32",
       "style": "IPY_MODEL_b4ca4f51c76847e1ade87cbadf773c2d",
       "value": "<b>Thumbnail: </b> "
      }
     },
     "659ed11f050a43769617e3eff91f5461": {
      "model_module": "@jupyter-widgets/controls",
      "model_module_version": "1.5.0",
      "model_name": "HTMLModel",
      "state": {
       "layout": "IPY_MODEL_4bcc125f10d64d528c1f9fc1b0439dff",
       "style": "IPY_MODEL_4261cbb7750a48f1b8f9d69f6d17210a",
       "value": "<b>GitHub: </b> "
      }
     },
     "65b7cb0a25ff45e8986122ec564b2840": {
      "model_module": "@jupyter-widgets/base",
      "model_module_version": "1.2.0",
      "model_name": "LayoutModel",
      "state": {
       "grid_gap": "5px 10px",
       "grid_template_columns": "auto",
       "grid_template_rows": "auto",
       "padding": "5px 0px 5px 0px",
       "width": "100%"
      }
     },
     "662576b0803544138268da88017fb4c8": {
      "model_module": "@jupyter-widgets/controls",
      "model_module_version": "1.5.0",
      "model_name": "HTMLModel",
      "state": {
       "layout": "IPY_MODEL_098c00bf19c2454ea9ef5cd24df8f086",
       "style": "IPY_MODEL_96117b48b2164a9e858f911afd0a02e1",
       "value": "This Jupyter notebook is dedicated to accessing ICOS data and metadata for CO2-concentrations measured at ICOS atmosphere stations as well as accessing simulated CO2-concentrations from <a href='http://stilt-model.org/index.php/Main/HomePage' target='_blank'>STILT model</a> outputs (elaborated data product). Data and metadata will be accessed using the icoscp Python library. You will get a chance to compare simulated CO2-concentrations to observed CO2-concentrations and assess how well the simulated values fit the real observations. Throughout the different steps included in this notebook, you will get an impression of how ICOS deals with data provenance and get some ideas on how to utilize metadata information in data analysis processes as well as in data visualizations."
      }
     },
     "662dc5bb5cd94e8e8708477192c2fb7c": {
      "model_module": "@jupyter-widgets/controls",
      "model_module_version": "1.5.0",
      "model_name": "DescriptionStyleModel",
      "state": {
       "description_width": ""
      }
     },
     "663e37cd955947cd91be3032703bb5c9": {
      "model_module": "@jupyter-widgets/base",
      "model_module_version": "1.2.0",
      "model_name": "LayoutModel",
      "state": {}
     },
     "664b7959acd2488896c1686697141e8b": {
      "model_module": "@jupyter-widgets/base",
      "model_module_version": "1.2.0",
      "model_name": "LayoutModel",
      "state": {}
     },
     "666203f438c04460b85170987c2222af": {
      "model_module": "@jupyter-widgets/base",
      "model_module_version": "1.2.0",
      "model_name": "LayoutModel",
      "state": {
       "grid_gap": "5px 10px",
       "grid_template_columns": "100px auto",
       "grid_template_rows": "auto auto auto auto auto",
       "padding": "50px 0px 70px 0px",
       "width": "100%"
      }
     },
     "66b4dbf120004a4a88d38aa6160b0ece": {
      "model_module": "@jupyter-widgets/controls",
      "model_module_version": "1.5.0",
      "model_name": "HTMLModel",
      "state": {
       "layout": "IPY_MODEL_9ead4d28c32e4b019090053c568c5d6d",
       "style": "IPY_MODEL_9a9e02c61c2a40ffbdf82b3ad0ecabaa",
       "value": "This Jupyter notebook presents examples on how to search for <a href='http://stilt-model.org/index.php/Main/HomePage' target='_blank'>STILT</a> stations, load the modelled data, and create some simple visualisations and animations, all using the ICOS Carbon Portal Python library. Full documentation for the ICOS library is available on the <a href='https://icos-carbon-portal.github.io/pylib/' target='_blank'>project page</a>, how to install and wheel on <a href='https://pypi.org/project/icoscp/' target='_blank'>pypi.org</a>, source available on <a href='https://github.com/ICOS-Carbon-Portal/pylib' target='_blank'>GitHub</a>."
      }
     },
     "66b7d931c3bc44b9857a39bdd23f115c": {
      "model_module": "@jupyter-widgets/controls",
      "model_module_version": "1.5.0",
      "model_name": "GridBoxModel",
      "state": {
       "children": [
        "IPY_MODEL_73951fe7088143319e2e047378b17f16",
        "IPY_MODEL_d29878ac89504f848f729d895df1d31f",
        "IPY_MODEL_1b9b39e4777d400cbc275b8b8e3731cf",
        "IPY_MODEL_d807412b190e4c0180a7b6afbabb319d",
        "IPY_MODEL_6513a10b1894465a8a4065cb303d7788",
        "IPY_MODEL_7885fcfa49ab4df9a7bd340b1aae28d6",
        "IPY_MODEL_32bdc6e76e7b41eab61502e844c764ab",
        "IPY_MODEL_01b1871a230f4758b2c4cd59af99957a",
        "IPY_MODEL_08bfceca7327448c9ccbcacb4c53788b",
        "IPY_MODEL_8edbca3bb6ee41bba6c8681bde355cd8"
       ],
       "layout": "IPY_MODEL_f2cc841cf50e4c6f8e566f177bf31aec"
      }
     },
     "6730ad3daed945c1a788cfe40f0ad72d": {
      "model_module": "@jupyter-widgets/controls",
      "model_module_version": "1.5.0",
      "model_name": "DescriptionStyleModel",
      "state": {
       "description_width": ""
      }
     },
     "679f7050733f4797b9981d312eb8bd68": {
      "model_module": "@jupyter-widgets/base",
      "model_module_version": "1.2.0",
      "model_name": "LayoutModel",
      "state": {}
     },
     "67a05baff0f74fa999cceb70bf2fba0d": {
      "model_module": "@jupyter-widgets/controls",
      "model_module_version": "1.5.0",
      "model_name": "DescriptionStyleModel",
      "state": {
       "description_width": ""
      }
     },
     "680d0a2c457f4b839f2c1412bf2a9ac7": {
      "model_module": "@jupyter-widgets/controls",
      "model_module_version": "1.5.0",
      "model_name": "HTMLModel",
      "state": {
       "layout": "IPY_MODEL_ff555a144b224a59bb784ef448c1e8be",
       "style": "IPY_MODEL_f753e07fa15b42439621d30a44be6b7b",
       "value": "<b>Description: </b> "
      }
     },
     "6832b4645af742e9b04a888c3bdba7ab": {
      "model_module": "@jupyter-widgets/controls",
      "model_module_version": "1.5.0",
      "model_name": "DescriptionStyleModel",
      "state": {
       "description_width": ""
      }
     },
     "688d8e45dfdb40e6a982436ee6ee0133": {
      "model_module": "@jupyter-widgets/controls",
      "model_module_version": "1.5.0",
      "model_name": "HTMLModel",
      "state": {
       "layout": "IPY_MODEL_514d91eb01574349a6d5fb9cd9bfe8e4",
       "style": "IPY_MODEL_1289e15e198544b2bdc911054199c739",
       "value": "This notebook is dedicated on producing summary stastics for ICOS atmosphere observations. The notebook also includes advanced interactive visualizations of maps, plots and tables that compare observations and/or statistic results from different ICOS atmosphere stations. The selection of stations and other parameters relevant to each visualization are handled by interactive elements called widgets (i.e. dropdown lists, checkboxes, etc.)"
      }
     },
     "690b8d305980406d8f650089b714b99f": {
      "model_module": "@jupyter-widgets/controls",
      "model_module_version": "1.5.0",
      "model_name": "HTMLModel",
      "state": {
       "layout": "IPY_MODEL_540dac09d8e646a9b4db69ada06bc6c1",
       "style": "IPY_MODEL_6f7499e654244ccd9902bd69f8e9456a",
       "value": "<b>Description: </b> "
      }
     },
     "692aa969f11c4376b62cd9cad5d16ea9": {
      "model_module": "@jupyter-widgets/controls",
      "model_module_version": "1.5.0",
      "model_name": "GridBoxModel",
      "state": {
       "children": [
        "IPY_MODEL_c5a7e5c8da974208943333f933e5602b",
        "IPY_MODEL_efa512d65c6943a4ab8ea36fd26cd030"
       ],
       "layout": "IPY_MODEL_483cfe33e8964ef0a55ff2621c362416"
      }
     },
     "6931395d897a4c53b5397574f6bb0c0c": {
      "model_module": "@jupyter-widgets/controls",
      "model_module_version": "1.5.0",
      "model_name": "HTMLModel",
      "state": {
       "layout": "IPY_MODEL_fd2c4f47b8a9405b995d3e95be58f2df",
       "style": "IPY_MODEL_52f5d921d3d14780b750384a75942c0a",
       "value": "<b>Description: </b> "
      }
     },
     "694716efb4084e6899f0ffc9ae01f4e7": {
      "model_module": "@jupyter-widgets/controls",
      "model_module_version": "1.5.0",
      "model_name": "DescriptionStyleModel",
      "state": {
       "description_width": ""
      }
     },
     "697cb4c6396847069f61c17cd54bb4e4": {
      "model_module": "@jupyter-widgets/controls",
      "model_module_version": "1.5.0",
      "model_name": "DescriptionStyleModel",
      "state": {
       "description_width": ""
      }
     },
     "69a20a9559284e8c8bca1ba43dc66ac8": {
      "model_module": "@jupyter-widgets/controls",
      "model_module_version": "1.5.0",
      "model_name": "HTMLModel",
      "state": {
       "layout": "IPY_MODEL_4d01ff63dfd74b6d81a290264b8b45a0",
       "style": "IPY_MODEL_f02ecc92f30d4544ae5f446836fd786e",
       "value": "This Jupyter notebook is dedicated on providing examples of how to produce an interactive map with pinpoints. Based on a javascript library, <a href='https://leafletjs.com/' target='_blank'>leaflet</a>, a python interface is available, called <a href='https://python-visualization.github.io/folium/' target='_blank'>folium</a>. We will use this library to setup an interactive map, where you can zoom in and out, add markers, customize the markers and download the maps as a static website (.html)."
      }
     },
     "69e5e9d282e44465a18be7e827338db4": {
      "model_module": "@jupyter-widgets/controls",
      "model_module_version": "1.5.0",
      "model_name": "DescriptionStyleModel",
      "state": {
       "description_width": ""
      }
     },
     "6a2de27d64be4a85b84083b8419e66e2": {
      "model_module": "@jupyter-widgets/base",
      "model_module_version": "1.2.0",
      "model_name": "LayoutModel",
      "state": {}
     },
     "6a33b70aeddc424cb50b4147c387abd8": {
      "model_module": "@jupyter-widgets/base",
      "model_module_version": "1.2.0",
      "model_name": "LayoutModel",
      "state": {}
     },
     "6a429dae842346b793f3829c80bda66b": {
      "model_module": "@jupyter-widgets/controls",
      "model_module_version": "1.5.0",
      "model_name": "HTMLModel",
      "state": {
       "layout": "IPY_MODEL_645e968fb42245ec8bc1f1abb3914ce4",
       "style": "IPY_MODEL_372d408014b746dcb05c2b099dbb19d7",
       "value": "<b>Thumbnail: </b> "
      }
     },
     "6a68f6dbc9b14d5896e14fe098855f05": {
      "model_module": "@jupyter-widgets/base",
      "model_module_version": "1.2.0",
      "model_name": "LayoutModel",
      "state": {}
     },
     "6a7d26e4fb234e3d9246035c8aa2e7b5": {
      "model_module": "@jupyter-widgets/controls",
      "model_module_version": "1.5.0",
      "model_name": "HTMLModel",
      "state": {
       "layout": "IPY_MODEL_936c13e49fb8435dafabe6ba2c840c4e",
       "style": "IPY_MODEL_b1bc0be9f47a499dbe124fd682672653",
       "value": "<img src=\"./icos_jupyter_notebooks/ind_tools/img/05_education/phd/ucf/station_ex/station_class.PNG\">"
      }
     },
     "6a80e12dd2254dfe8a8d55d7b1bcbfcf": {
      "model_module": "@jupyter-widgets/base",
      "model_module_version": "1.2.0",
      "model_name": "LayoutModel",
      "state": {}
     },
     "6ac75f0b6d39413c9a8ac790b6ec77c6": {
      "model_module": "@jupyter-widgets/controls",
      "model_module_version": "1.5.0",
      "model_name": "HTMLModel",
      "state": {
       "layout": "IPY_MODEL_7625f184f7d64438852a9ebdecb076ff",
       "style": "IPY_MODEL_1c6ef5ff607641c59fde7f13d150c667",
       "value": "<img src=\"./icos_jupyter_notebooks/ind_tools/img/03_icos_JNBs/st_characterization/gui.PNG\">"
      }
     },
     "6ad4265503304b3793f90252c264d6bf": {
      "model_module": "@jupyter-widgets/controls",
      "model_module_version": "1.5.0",
      "model_name": "HTMLModel",
      "state": {
       "layout": "IPY_MODEL_ad7d24b7bd474f2095aadf19596c410e",
       "style": "IPY_MODEL_005016d57f394f35adcb136d15e785bc",
       "value": "Includes notebooks that where used as exercise material in a PhD course titled: <i><a href=\"https://www.nateko.lu.se/sites/nateko.lu.se/files/nng005f-eng.pdf\" target=\"_blank\">From CO2 in situ measurements to carbon balance maps as a tool to support national carbon accounting</a></i>. The course was organized by Lund University dept. of Physical Geography and Ecosystem Science and supported by ICOS Carbon Portal, ICOS Sweden and Lund University ClimBEco Graduate Research School. The course was held at Lund University campus between March 9th 2020 and March 13th 2020.<br>All developed material includes references to the people involved and the datasets used."
      }
     },
     "6aded4d3734b4d7493b37026d394d900": {
      "model_module": "@jupyter-widgets/base",
      "model_module_version": "1.2.0",
      "model_name": "LayoutModel",
      "state": {}
     },
     "6bb53d4130274286864ab2d0367a2ba2": {
      "model_module": "@jupyter-widgets/controls",
      "model_module_version": "1.5.0",
      "model_name": "DescriptionStyleModel",
      "state": {
       "description_width": ""
      }
     },
     "6c07d95aa6e2478ab8b966aa538637b6": {
      "model_module": "@jupyter-widgets/controls",
      "model_module_version": "1.5.0",
      "model_name": "DescriptionStyleModel",
      "state": {
       "description_width": ""
      }
     },
     "6c4cc27aa5d04b9a838cbc140e634b7f": {
      "model_module": "@jupyter-widgets/controls",
      "model_module_version": "1.5.0",
      "model_name": "HTMLModel",
      "state": {
       "layout": "IPY_MODEL_f0130c9ee63440f89289b00f86878902",
       "style": "IPY_MODEL_2c29fe2e51ad41829bc01ffe3728c3ab",
       "value": "<a href='https://github.com/ICOS-Carbon-Portal/jupyter/issues' target='_blank'>Click here to report an issue</a>"
      }
     },
     "6c6b9c450a904d9cb3ca1d429e11e486": {
      "model_module": "@jupyter-widgets/controls",
      "model_module_version": "1.5.0",
      "model_name": "DescriptionStyleModel",
      "state": {
       "description_width": ""
      }
     },
     "6cae65851bb84b58b61ce3b0014ade54": {
      "model_module": "@jupyter-widgets/controls",
      "model_module_version": "1.5.0",
      "model_name": "DescriptionStyleModel",
      "state": {
       "description_width": ""
      }
     },
     "6cb5ed556efc4fa09141bc44adee1e1f": {
      "model_module": "@jupyter-widgets/controls",
      "model_module_version": "1.5.0",
      "model_name": "DescriptionStyleModel",
      "state": {
       "description_width": ""
      }
     },
     "6ccbcf285a494e9896bc3c71b47ad8fc": {
      "model_module": "@jupyter-widgets/controls",
      "model_module_version": "1.5.0",
      "model_name": "DescriptionStyleModel",
      "state": {
       "description_width": ""
      }
     },
     "6cf25d36115841558ac26bf55544f910": {
      "model_module": "@jupyter-widgets/base",
      "model_module_version": "1.2.0",
      "model_name": "LayoutModel",
      "state": {}
     },
     "6d0fd8359eba47d6b338a12e37e9c49a": {
      "model_module": "@jupyter-widgets/controls",
      "model_module_version": "1.5.0",
      "model_name": "HTMLModel",
      "state": {
       "layout": "IPY_MODEL_25f66e0f9d6742db98179cddc209d5c2",
       "style": "IPY_MODEL_d32143df597c4f39bd661f4e9167f84c",
       "value": "<b>GitHub: </b> "
      }
     },
     "6d267dffde4f4bfab6839d86d664dbad": {
      "model_module": "@jupyter-widgets/base",
      "model_module_version": "1.2.0",
      "model_name": "LayoutModel",
      "state": {}
     },
     "6d3b1dd78d6a44f4a195f39884ed0476": {
      "model_module": "@jupyter-widgets/controls",
      "model_module_version": "1.5.0",
      "model_name": "DescriptionStyleModel",
      "state": {
       "description_width": ""
      }
     },
     "6d5c0f441c9d4faf826f605c6ac52237": {
      "model_module": "@jupyter-widgets/controls",
      "model_module_version": "1.5.0",
      "model_name": "DescriptionStyleModel",
      "state": {
       "description_width": ""
      }
     },
     "6d675c3c38114aac889dcfa93af5f3c6": {
      "model_module": "@jupyter-widgets/base",
      "model_module_version": "1.2.0",
      "model_name": "LayoutModel",
      "state": {}
     },
     "6d994c097627473b8ef932a3fca7b761": {
      "model_module": "@jupyter-widgets/controls",
      "model_module_version": "1.5.0",
      "model_name": "HTMLModel",
      "state": {
       "layout": "IPY_MODEL_d6a018dc04214cd58e02aaf0e74a462d",
       "style": "IPY_MODEL_bb73b874585b41a7a24d30da7f1e51e1",
       "value": "<img src=\"./icos_jupyter_notebooks/ind_tools/img/03_icos_JNBs/icos_ao_vs_stilt/trn_stilt_icos.PNG\">"
      }
     },
     "6dbaf623f7ac48d4b449e450da054cb7": {
      "model_module": "@jupyter-widgets/base",
      "model_module_version": "1.2.0",
      "model_name": "LayoutModel",
      "state": {}
     },
     "6e40229ad03d408090a93c1c3233378f": {
      "model_module": "@jupyter-widgets/controls",
      "model_module_version": "1.5.0",
      "model_name": "DescriptionStyleModel",
      "state": {
       "description_width": ""
      }
     },
     "6e44afa51bd54b699672a73bb431789e": {
      "model_module": "@jupyter-widgets/base",
      "model_module_version": "1.2.0",
      "model_name": "LayoutModel",
      "state": {}
     },
     "6e6ade57697d49c69262a79822cbf840": {
      "model_module": "@jupyter-widgets/controls",
      "model_module_version": "1.5.0",
      "model_name": "HTMLModel",
      "state": {
       "layout": "IPY_MODEL_41d23857138b42bbaef99c68b3aa7e7f",
       "style": "IPY_MODEL_07adf3b393384e919f102a4cbd87ddd8",
       "value": "<b>Title: </b> "
      }
     },
     "6e6f9fca02c141dea58bb34df0c46810": {
      "model_module": "@jupyter-widgets/controls",
      "model_module_version": "1.5.0",
      "model_name": "HTMLModel",
      "state": {
       "layout": "IPY_MODEL_51f9f15b3c0b45f1aab28571798e2741",
       "style": "IPY_MODEL_b201ac6ad84648eb967426fd4b3db5ea",
       "value": "<b>Contact: </b> "
      }
     },
     "6e861f84869d4b46ad5d0e2a69eead4e": {
      "model_module": "@jupyter-widgets/controls",
      "model_module_version": "1.5.0",
      "model_name": "DescriptionStyleModel",
      "state": {
       "description_width": ""
      }
     },
     "6e88de11f9214d36a616737fd8ef08d8": {
      "model_module": "@jupyter-widgets/base",
      "model_module_version": "1.2.0",
      "model_name": "LayoutModel",
      "state": {}
     },
     "6e9537e49e59457892abe4d78f1c84d8": {
      "model_module": "@jupyter-widgets/base",
      "model_module_version": "1.2.0",
      "model_name": "LayoutModel",
      "state": {}
     },
     "6ed537a84961458da113e8acbcb6b164": {
      "model_module": "@jupyter-widgets/base",
      "model_module_version": "1.2.0",
      "model_name": "LayoutModel",
      "state": {}
     },
     "6eed1b7ea1aa4180b0b675e149a1e019": {
      "model_module": "@jupyter-widgets/base",
      "model_module_version": "1.2.0",
      "model_name": "LayoutModel",
      "state": {}
     },
     "6f18b3c146d8415e9b40c4c6f72261a9": {
      "model_module": "@jupyter-widgets/base",
      "model_module_version": "1.2.0",
      "model_name": "LayoutModel",
      "state": {}
     },
     "6f40fd9f3a5a4eb0bd5db609445cbac6": {
      "model_module": "@jupyter-widgets/base",
      "model_module_version": "1.2.0",
      "model_name": "LayoutModel",
      "state": {}
     },
     "6f6f52bab4c541a8986793f2887a914e": {
      "model_module": "@jupyter-widgets/base",
      "model_module_version": "1.2.0",
      "model_name": "LayoutModel",
      "state": {}
     },
     "6f7499e654244ccd9902bd69f8e9456a": {
      "model_module": "@jupyter-widgets/controls",
      "model_module_version": "1.5.0",
      "model_name": "DescriptionStyleModel",
      "state": {
       "description_width": ""
      }
     },
     "6f7b324c6bea4e57843e54e3ba8ec902": {
      "model_module": "@jupyter-widgets/base",
      "model_module_version": "1.2.0",
      "model_name": "LayoutModel",
      "state": {}
     },
     "6fc2eb015b8c4342b36cbb7671a83ecd": {
      "model_module": "@jupyter-widgets/controls",
      "model_module_version": "1.5.0",
      "model_name": "DescriptionStyleModel",
      "state": {
       "description_width": ""
      }
     },
     "703fc29e8e87475699f603dd5fe3a44c": {
      "model_module": "@jupyter-widgets/controls",
      "model_module_version": "1.5.0",
      "model_name": "HTMLModel",
      "state": {
       "layout": "IPY_MODEL_a59d34d4766043c2abff8c2314f9ef4d",
       "style": "IPY_MODEL_f2dbcb9710834bfda93fa9554e7d1a2d",
       "value": "<a href=\"mailto: jupyter-info@icos-cp.eu\">jupyter-info@icos-cp.eu</a>"
      }
     },
     "70594a5538724812a42d150feecedb5b": {
      "model_module": "@jupyter-widgets/base",
      "model_module_version": "1.2.0",
      "model_name": "LayoutModel",
      "state": {}
     },
     "706c90ced7024f11a8c06d5432c8f9fa": {
      "model_module": "@jupyter-widgets/base",
      "model_module_version": "1.2.0",
      "model_name": "LayoutModel",
      "state": {
       "grid_gap": "5px 10px",
       "grid_template_columns": "100px auto",
       "grid_template_rows": "auto auto auto auto auto",
       "padding": "50px 0px 70px 0px",
       "width": "100%"
      }
     },
     "70797ae017584e819ec1e48d7e1e7f68": {
      "model_module": "@jupyter-widgets/controls",
      "model_module_version": "1.5.0",
      "model_name": "DescriptionStyleModel",
      "state": {
       "description_width": ""
      }
     },
     "70dbb82486e4443098e11d997a55a2f5": {
      "model_module": "@jupyter-widgets/controls",
      "model_module_version": "1.5.0",
      "model_name": "HTMLModel",
      "state": {
       "layout": "IPY_MODEL_5f4a4f19fa76448aa99d7b98e6168d98",
       "style": "IPY_MODEL_4beb8bca7c624593a91d83a59fe21ec5",
       "value": "<b>GitHub: </b> "
      }
     },
     "70f4e63b0d5e4237bcebb7dc0306329a": {
      "model_module": "@jupyter-widgets/controls",
      "model_module_version": "1.5.0",
      "model_name": "DescriptionStyleModel",
      "state": {
       "description_width": ""
      }
     },
     "7136063f8f7d48238133fa074790b252": {
      "model_module": "@jupyter-widgets/controls",
      "model_module_version": "1.5.0",
      "model_name": "HTMLModel",
      "state": {
       "layout": "IPY_MODEL_ecad19b18c1843b681f04696d7d66683",
       "style": "IPY_MODEL_3ac5352528994ae3bc531e4337ab61fd",
       "value": "<a href='https://github.com/ICOS-Carbon-Portal/jupyter/issues' target='_blank'>Click here to report an issue</a>"
      }
     },
     "713e0f2b7b684e319ff006b21996bd8e": {
      "model_module": "@jupyter-widgets/controls",
      "model_module_version": "1.5.0",
      "model_name": "DescriptionStyleModel",
      "state": {
       "description_width": ""
      }
     },
     "717ca2e027bd4d04bf3769f58c3d39cf": {
      "model_module": "@jupyter-widgets/controls",
      "model_module_version": "1.5.0",
      "model_name": "HTMLModel",
      "state": {
       "layout": "IPY_MODEL_f072f1a8890a4b56bcc2e999466f401a",
       "style": "IPY_MODEL_834bf40f48fa461c8f6bcdf0b58924ea",
       "value": "<b>Contact: </b> "
      }
     },
     "71a93d954d1d427f8593336086bb66df": {
      "model_module": "@jupyter-widgets/controls",
      "model_module_version": "1.5.0",
      "model_name": "HTMLModel",
      "state": {
       "layout": "IPY_MODEL_558df0881dec4a8d876ec31d4f177d7e",
       "style": "IPY_MODEL_c58fc161488447dfbf2c1bb3bd2a996a",
       "value": "This notebook is dedicated to using ICOS Ecosystem Data from Hyltemossa Research Station in Southern Sweden, to study how the drought during the summer of 2018 affected the vegetation and the carbon balance in the surrounding area. The temporal resolution of the data extends from January 1st 2015 to December 31st 2018. Another objective of this notebook is to introduce basic principles of Python Programming."
      }
     },
     "71d20e97cb5f4092993f8b39ff6f7f4f": {
      "model_module": "@jupyter-widgets/base",
      "model_module_version": "1.2.0",
      "model_name": "LayoutModel",
      "state": {}
     },
     "72074108d95f4e4a8bb46dd91cbe1ab2": {
      "model_module": "@jupyter-widgets/base",
      "model_module_version": "1.2.0",
      "model_name": "LayoutModel",
      "state": {}
     },
     "722b3fcfc675445e92abd0b6092dde83": {
      "model_module": "@jupyter-widgets/controls",
      "model_module_version": "1.5.0",
      "model_name": "HTMLModel",
      "state": {
       "layout": "IPY_MODEL_014e19ff52974f239d267d6aa567aae6",
       "style": "IPY_MODEL_eea7d5aade07430581500736393355e8",
       "value": "<b>Thumbnail: </b> "
      }
     },
     "7283a6c40d894fc48686993cdaa7bb0f": {
      "model_module": "@jupyter-widgets/controls",
      "model_module_version": "1.5.0",
      "model_name": "HTMLModel",
      "state": {
       "layout": "IPY_MODEL_98ff4aed3fd84547b0244773c4e6684b",
       "style": "IPY_MODEL_cca2384e128942c9ab89830c75d00362",
       "value": "<a href=\"mailto: jupyter-info@icos-cp.eu\">jupyter-info@icos-cp.eu</a>"
      }
     },
     "72bb4cde72c849eb82b2729558e1d5ea": {
      "model_module": "@jupyter-widgets/base",
      "model_module_version": "1.2.0",
      "model_name": "LayoutModel",
      "state": {}
     },
     "72fd2d5d29354131b785479f9c65d95b": {
      "model_module": "@jupyter-widgets/base",
      "model_module_version": "1.2.0",
      "model_name": "LayoutModel",
      "state": {}
     },
     "73285fbb2027498d8a2da51a6c49cb8f": {
      "model_module": "@jupyter-widgets/base",
      "model_module_version": "1.2.0",
      "model_name": "LayoutModel",
      "state": {}
     },
     "736b04a27b434af5a296cf48972b88f5": {
      "model_module": "@jupyter-widgets/controls",
      "model_module_version": "1.5.0",
      "model_name": "HTMLModel",
      "state": {
       "layout": "IPY_MODEL_62f37a559df843e189477ec93603af09",
       "style": "IPY_MODEL_86b95b0465644968ae8e8e2d676644c7",
       "value": "<b>Title: </b> "
      }
     },
     "737a2d312d1e47e8962ccdb2956df02c": {
      "model_module": "@jupyter-widgets/controls",
      "model_module_version": "1.5.0",
      "model_name": "DescriptionStyleModel",
      "state": {
       "description_width": ""
      }
     },
     "73951fe7088143319e2e047378b17f16": {
      "model_module": "@jupyter-widgets/controls",
      "model_module_version": "1.5.0",
      "model_name": "HTMLModel",
      "state": {
       "layout": "IPY_MODEL_663e37cd955947cd91be3032703bb5c9",
       "style": "IPY_MODEL_9f30bfc524d344729635479a150ce908",
       "value": "<b>Title: </b> "
      }
     },
     "73b705a5c7684bcca3633587c577b601": {
      "model_module": "@jupyter-widgets/base",
      "model_module_version": "1.2.0",
      "model_name": "LayoutModel",
      "state": {}
     },
     "73bbb58ab0f94d4c9b090b41503a9220": {
      "model_module": "@jupyter-widgets/controls",
      "model_module_version": "1.5.0",
      "model_name": "HTMLModel",
      "state": {
       "layout": "IPY_MODEL_76a2ac911a7a4f8db7d56ba6bb7fa198",
       "style": "IPY_MODEL_f1238079ccf24c7aa453bec7994d4152",
       "value": "<b>Thumbnail: </b> "
      }
     },
     "73c2a1c3cbef42aeaccefb6d220ac920": {
      "model_module": "@jupyter-widgets/controls",
      "model_module_version": "1.5.0",
      "model_name": "DescriptionStyleModel",
      "state": {
       "description_width": ""
      }
     },
     "73e3f8aec0134bf9b05d504c90c20d9b": {
      "model_module": "@jupyter-widgets/controls",
      "model_module_version": "1.5.0",
      "model_name": "HTMLModel",
      "state": {
       "layout": "IPY_MODEL_8ea21aec54794e83b639967039bd8fcb",
       "style": "IPY_MODEL_f1d683bfc7a04b2d9475b982558f68c8",
       "value": "This notebook is dedicated on providing interactive visualizations of ICOS atmopsheric observations in combination with <a href=\"http://stilt-model.org/index.php/Main/HomePage\" target=\"_blank\">STILT model</a> results for the same station. The visualizations may be used for the purpose of comparison between modelled and observed measurements. The notebook also includes an interactive table presenting the availability of <a href=\"http://stilt-model.org/index.php/Main/HomePage\" target=\"_blank\">STILT model</a> results per station. The selection of stations and other parameters relevant to each visualization are handled by interactive elements called widgets (i.e. dropdown lists, checkboxes, etc.)"
      }
     },
     "74099b1fb7b24b9e888d4556272d65a5": {
      "model_module": "@jupyter-widgets/controls",
      "model_module_version": "1.5.0",
      "model_name": "DescriptionStyleModel",
      "state": {
       "description_width": ""
      }
     },
     "74b85404755348d2a6beda0f68d1b639": {
      "model_module": "@jupyter-widgets/base",
      "model_module_version": "1.2.0",
      "model_name": "LayoutModel",
      "state": {}
     },
     "74e818b280ce4855ac405a3439c93dd2": {
      "model_module": "@jupyter-widgets/controls",
      "model_module_version": "1.5.0",
      "model_name": "HTMLModel",
      "state": {
       "layout": "IPY_MODEL_533fda19a76c4c96b3e1ad2e9da5052a",
       "style": "IPY_MODEL_a88b35bcb8fb4853a249e80a082ae28f",
       "value": "<b>Title: </b> "
      }
     },
     "751ad8f92ceb46ae87aded038be730bb": {
      "model_module": "@jupyter-widgets/base",
      "model_module_version": "1.2.0",
      "model_name": "LayoutModel",
      "state": {}
     },
     "751b0e40732e4bd89813c64cd9afe807": {
      "model_module": "@jupyter-widgets/controls",
      "model_module_version": "1.5.0",
      "model_name": "DescriptionStyleModel",
      "state": {
       "description_width": ""
      }
     },
     "75458c7ed38f4a7ba545811f8ac419ea": {
      "model_module": "@jupyter-widgets/controls",
      "model_module_version": "1.5.0",
      "model_name": "DescriptionStyleModel",
      "state": {
       "description_width": ""
      }
     },
     "758522d13c044829a388f3277ced5708": {
      "model_module": "@jupyter-widgets/controls",
      "model_module_version": "1.5.0",
      "model_name": "DescriptionStyleModel",
      "state": {
       "description_width": ""
      }
     },
     "758bd47aeefa4d5fbcee7d353de29fa7": {
      "model_module": "@jupyter-widgets/controls",
      "model_module_version": "1.5.0",
      "model_name": "HTMLModel",
      "state": {
       "layout": "IPY_MODEL_2054bb3f764c4dd5ba0570a21c6a68b9",
       "style": "IPY_MODEL_b7813fc89b804cc1bfdbae697b6607dd",
       "value": "<b>Title: </b> "
      }
     },
     "758dd22acd7441ad9ff65d4afc60231f": {
      "model_module": "@jupyter-widgets/controls",
      "model_module_version": "1.5.0",
      "model_name": "HTMLModel",
      "state": {
       "layout": "IPY_MODEL_cb0cf0f43aeb47998a9d65bbd36fc9ab",
       "style": "IPY_MODEL_87360ec2439b4b12b1f575c155e139b0",
       "value": "<b>Contact: </b> "
      }
     },
     "75986b5e03154cea9a39f3e6bfcd32a0": {
      "model_module": "@jupyter-widgets/controls",
      "model_module_version": "1.5.0",
      "model_name": "HTMLModel",
      "state": {
       "layout": "IPY_MODEL_e5a2c5ddda144d72a1f87d893df08405",
       "style": "IPY_MODEL_bc34d45a13f54d02bdcc018243182b24",
       "value": "The notebooks included in this part demonstrate how to:<br>i. create interactive maps<br>ii. load icos data products, process them and present results interactive visualizations."
      }
     },
     "75d705be63524e0982cd2297e0ac6a71": {
      "model_module": "@jupyter-widgets/controls",
      "model_module_version": "1.5.0",
      "model_name": "HTMLModel",
      "state": {
       "layout": "IPY_MODEL_31b9e221bb024f8fb9689d46145cab28",
       "style": "IPY_MODEL_1e9c70d0189b48d19466aed3ec7c22dd",
       "value": "<b>Title: </b> "
      }
     },
     "7625f184f7d64438852a9ebdecb076ff": {
      "model_module": "@jupyter-widgets/base",
      "model_module_version": "1.2.0",
      "model_name": "LayoutModel",
      "state": {}
     },
     "7634cb37f159439db867b347992f8906": {
      "model_module": "@jupyter-widgets/base",
      "model_module_version": "1.2.0",
      "model_name": "LayoutModel",
      "state": {}
     },
     "764be8ab38f8401cb4b9f75b3c0d6a44": {
      "model_module": "@jupyter-widgets/controls",
      "model_module_version": "1.5.0",
      "model_name": "DescriptionStyleModel",
      "state": {
       "description_width": ""
      }
     },
     "7667b467c28147c19001cea877824f3c": {
      "model_module": "@jupyter-widgets/controls",
      "model_module_version": "1.5.0",
      "model_name": "DescriptionStyleModel",
      "state": {
       "description_width": ""
      }
     },
     "766a964c4a414478914438b1b5e73f48": {
      "model_module": "@jupyter-widgets/controls",
      "model_module_version": "1.5.0",
      "model_name": "DescriptionStyleModel",
      "state": {
       "description_width": ""
      }
     },
     "76734209fdf344a087c74ca12778528c": {
      "model_module": "@jupyter-widgets/controls",
      "model_module_version": "1.5.0",
      "model_name": "DescriptionStyleModel",
      "state": {
       "description_width": ""
      }
     },
     "7680255b7144411bb7871606f56c6b91": {
      "model_module": "@jupyter-widgets/controls",
      "model_module_version": "1.5.0",
      "model_name": "DescriptionStyleModel",
      "state": {
       "description_width": ""
      }
     },
     "7697d32a478442989738d3ee061c6f60": {
      "model_module": "@jupyter-widgets/controls",
      "model_module_version": "1.5.0",
      "model_name": "HTMLModel",
      "state": {
       "layout": "IPY_MODEL_3afb3122c77648839b7f46e5e7711016",
       "style": "IPY_MODEL_7c5d9f7f2b1644d2b67c8a9ff846f70c",
       "value": "<b>Description: </b> "
      }
     },
     "769b92c19a23400585a79ece5869d42a": {
      "model_module": "@jupyter-widgets/controls",
      "model_module_version": "1.5.0",
      "model_name": "HTMLModel",
      "state": {
       "layout": "IPY_MODEL_0a812040e7e34f2e9b34322ebd47d53b",
       "style": "IPY_MODEL_758522d13c044829a388f3277ced5708",
       "value": "<b>Thumbnail: </b> "
      }
     },
     "76a2ac911a7a4f8db7d56ba6bb7fa198": {
      "model_module": "@jupyter-widgets/base",
      "model_module_version": "1.2.0",
      "model_name": "LayoutModel",
      "state": {}
     },
     "770dfece7b2c4b71853437fe9fc18abc": {
      "model_module": "@jupyter-widgets/controls",
      "model_module_version": "1.5.0",
      "model_name": "HTMLModel",
      "state": {
       "layout": "IPY_MODEL_016cc19186114fa5af5edbb8870b99b2",
       "style": "IPY_MODEL_785312fe4b574657901770b53f551576",
       "value": "<b>Contact: </b> "
      }
     },
     "770e9247cc2f40fa81ac1df5d74c1128": {
      "model_module": "@jupyter-widgets/controls",
      "model_module_version": "1.5.0",
      "model_name": "HTMLModel",
      "state": {
       "layout": "IPY_MODEL_114ff435acda4956a35e07e3392c83b8",
       "style": "IPY_MODEL_86544047c48c4117bd79f4944928800b",
       "value": "<b>Thumbnail: </b> "
      }
     },
     "77256f2acae14828a9f6e9ed91fd7b0b": {
      "model_module": "@jupyter-widgets/controls",
      "model_module_version": "1.5.0",
      "model_name": "DescriptionStyleModel",
      "state": {
       "description_width": ""
      }
     },
     "7767eaf08a4448528f8146969625fc54": {
      "model_module": "@jupyter-widgets/controls",
      "model_module_version": "1.5.0",
      "model_name": "HTMLModel",
      "state": {
       "layout": "IPY_MODEL_ee42052aa050420da1b4c2097ce22dc4",
       "style": "IPY_MODEL_b4830ff7b1b24f968e0ff1eed96da042",
       "value": "<b>GitHub: </b> "
      }
     },
     "778b5a7ffd3c469789754f4bf4ca7d54": {
      "model_module": "@jupyter-widgets/controls",
      "model_module_version": "1.5.0",
      "model_name": "DescriptionStyleModel",
      "state": {
       "description_width": ""
      }
     },
     "779434901ff6414fb937eaa5c0dbd9de": {
      "model_module": "@jupyter-widgets/base",
      "model_module_version": "1.2.0",
      "model_name": "LayoutModel",
      "state": {}
     },
     "7795ea5d28274304befefe1a7ab08c56": {
      "model_module": "@jupyter-widgets/base",
      "model_module_version": "1.2.0",
      "model_name": "LayoutModel",
      "state": {}
     },
     "7813675530264a96885af7aacc236691": {
      "model_module": "@jupyter-widgets/base",
      "model_module_version": "1.2.0",
      "model_name": "LayoutModel",
      "state": {}
     },
     "783fc71a68a5474ab4454f71dcffc5a5": {
      "model_module": "@jupyter-widgets/controls",
      "model_module_version": "1.5.0",
      "model_name": "DescriptionStyleModel",
      "state": {
       "description_width": ""
      }
     },
     "785312fe4b574657901770b53f551576": {
      "model_module": "@jupyter-widgets/controls",
      "model_module_version": "1.5.0",
      "model_name": "DescriptionStyleModel",
      "state": {
       "description_width": ""
      }
     },
     "7871e80d974f4aa1934e5a8e9585a107": {
      "model_module": "@jupyter-widgets/base",
      "model_module_version": "1.2.0",
      "model_name": "LayoutModel",
      "state": {}
     },
     "7872ec2b32954c8a9f2f9f7ab5418e00": {
      "model_module": "@jupyter-widgets/controls",
      "model_module_version": "1.5.0",
      "model_name": "DescriptionStyleModel",
      "state": {
       "description_width": ""
      }
     },
     "78767ac1fc2c4006adaaa4240416a8ef": {
      "model_module": "@jupyter-widgets/base",
      "model_module_version": "1.2.0",
      "model_name": "LayoutModel",
      "state": {}
     },
     "7885fcfa49ab4df9a7bd340b1aae28d6": {
      "model_module": "@jupyter-widgets/controls",
      "model_module_version": "1.5.0",
      "model_name": "HTMLModel",
      "state": {
       "layout": "IPY_MODEL_72fd2d5d29354131b785479f9c65d95b",
       "style": "IPY_MODEL_41463ee7a9f842f6aae3ba4f0470e5ab",
       "value": "<a href=\"mailto: jupyter-info@icos-cp.eu\">jupyter-info@icos-cp.eu</a>, <a href=\"mailto: claudio.donofrio@nateko.lu.se\">claudio.donofrio@nateko.lu.se</a>"
      }
     },
     "78cf449b58f84af0a2e5113ab659bd75": {
      "model_module": "@jupyter-widgets/controls",
      "model_module_version": "1.5.0",
      "model_name": "HTMLModel",
      "state": {
       "layout": "IPY_MODEL_a1b51d5c95774ccbac4bb87438b87080",
       "style": "IPY_MODEL_ce637cc60440476ba8dae8b44757e0ba",
       "value": "<b>GitHub: </b> "
      }
     },
     "78e1f3e8587b4656a50b89ff6b21d0f4": {
      "model_module": "@jupyter-widgets/controls",
      "model_module_version": "1.5.0",
      "model_name": "DescriptionStyleModel",
      "state": {
       "description_width": ""
      }
     },
     "78f4d22f5ef94c33b388b451bdb82cad": {
      "model_module": "@jupyter-widgets/base",
      "model_module_version": "1.2.0",
      "model_name": "LayoutModel",
      "state": {
       "grid_gap": "5px 10px",
       "grid_template_columns": "100px auto",
       "grid_template_rows": "auto auto auto auto auto",
       "padding": "50px 0px 70px 0px",
       "width": "100%"
      }
     },
     "79170fb3a575433d8d4e0a6cb9c67faf": {
      "model_module": "@jupyter-widgets/controls",
      "model_module_version": "1.5.0",
      "model_name": "HTMLModel",
      "state": {
       "layout": "IPY_MODEL_cd3499da3d2a433b8f312071be9c7e30",
       "style": "IPY_MODEL_0be87699918c4d249fd3927ef17718cc",
       "value": "<a href=\"mailto: jupyter-info@icos-cp.eu\">jupyter-info@icos-cp.eu</a>"
      }
     },
     "79215a13a0c341f58f58da5e7fd5dbb7": {
      "model_module": "@jupyter-widgets/controls",
      "model_module_version": "1.5.0",
      "model_name": "HTMLModel",
      "state": {
       "layout": "IPY_MODEL_e736d74d01034028895d4f7bf8464981",
       "style": "IPY_MODEL_778b5a7ffd3c469789754f4bf4ca7d54",
       "value": "Notebooks processing ICOS data products by applying various methods, computing statistics, and presenting results in interactive visualizations (i.e. plots, maps, tables, etc.)"
      }
     },
     "79416ad6738f4e409dee545e7ffeadd8": {
      "model_module": "@jupyter-widgets/controls",
      "model_module_version": "1.5.0",
      "model_name": "DescriptionStyleModel",
      "state": {
       "description_width": ""
      }
     },
     "79540a08fbbf4499aaa8608c25e4e0cc": {
      "model_module": "@jupyter-widgets/controls",
      "model_module_version": "1.5.0",
      "model_name": "HTMLModel",
      "state": {
       "layout": "IPY_MODEL_fe378d52340242589311e14f4e60698d",
       "style": "IPY_MODEL_40deb7d0191148a79f5b61a88a2b639e",
       "value": "<b>GitHub: </b> "
      }
     },
     "796ad5aed1b24123b75e346e5ed1dbfc": {
      "model_module": "@jupyter-widgets/controls",
      "model_module_version": "1.5.0",
      "model_name": "DescriptionStyleModel",
      "state": {
       "description_width": ""
      }
     },
     "7975387aa3b44347b75e672114141f41": {
      "model_module": "@jupyter-widgets/controls",
      "model_module_version": "1.5.0",
      "model_name": "DescriptionStyleModel",
      "state": {
       "description_width": ""
      }
     },
     "79be398d095e42f7bdbd3e46294b8058": {
      "model_module": "@jupyter-widgets/controls",
      "model_module_version": "1.5.0",
      "model_name": "HTMLModel",
      "state": {
       "layout": "IPY_MODEL_6453ad52ba5943dcaf42111aaa655a9d",
       "style": "IPY_MODEL_622473c3de854c6e9679ad4485239ebc",
       "value": "In this exercise you will analyse carbon flux estimates from different types of models and compare them with the observed fluxes in the FLUXNET datasetYou will complete tasks based on: <br><br>i. Vegetation model results from an LPJ-GUESS run for the FLUXNET stations, <br>ii. Vegetation model results from an LPJ-GUESS run on a grid for Europe, <br>iii. Atmospheric inversion results for Europe from the LUMIA inversion system."
      }
     },
     "79f334f3692646809151537990c11cc8": {
      "model_module": "@jupyter-widgets/base",
      "model_module_version": "1.2.0",
      "model_name": "LayoutModel",
      "state": {
       "grid_gap": "5px 10px",
       "grid_template_columns": "100px auto",
       "grid_template_rows": "auto auto auto auto auto",
       "padding": "50px 0px 70px 0px",
       "width": "100%"
      }
     },
     "79f867182d6541b9aac137b67b3a7503": {
      "model_module": "@jupyter-widgets/controls",
      "model_module_version": "1.5.0",
      "model_name": "DescriptionStyleModel",
      "state": {
       "description_width": ""
      }
     },
     "7a065a92895d4fefbc4b31f701cdfa50": {
      "model_module": "@jupyter-widgets/controls",
      "model_module_version": "1.5.0",
      "model_name": "HTMLModel",
      "state": {
       "layout": "IPY_MODEL_18dff0994e32495f85bf2a883aaa70be",
       "style": "IPY_MODEL_1ed7aa2b42bc48b4b409045a40583102",
       "value": "<b>GitHub: </b> "
      }
     },
     "7a60516c505a4f4f8d17d0abd08b5d14": {
      "model_module": "@jupyter-widgets/controls",
      "model_module_version": "1.5.0",
      "model_name": "HTMLModel",
      "state": {
       "layout": "IPY_MODEL_bc8d68f29a69412eb0f6674d7642c7cd",
       "style": "IPY_MODEL_9a3ccaba36bc488480ce17098f683071",
       "value": "<b>Title: </b> "
      }
     },
     "7a854d3122ad40ffb1524fb00c0d189a": {
      "model_module": "@jupyter-widgets/controls",
      "model_module_version": "1.5.0",
      "model_name": "HTMLModel",
      "state": {
       "layout": "IPY_MODEL_b18acec4009f4b5196a12cddd2d1f33f",
       "style": "IPY_MODEL_d4742fab74144852b1f91eb047a12056",
       "value": "<b>Thumbnail: </b> "
      }
     },
     "7aa50c757f934d9a906c9a28ae760c0d": {
      "model_module": "@jupyter-widgets/controls",
      "model_module_version": "1.5.0",
      "model_name": "HTMLModel",
      "state": {
       "layout": "IPY_MODEL_ad6a2fea0aa14043b2f2dbdaed801e37",
       "style": "IPY_MODEL_662dc5bb5cd94e8e8708477192c2fb7c",
       "value": "<b>Title: </b> "
      }
     },
     "7acdfedce4cd401aa7a2c2fbf0897762": {
      "model_module": "@jupyter-widgets/base",
      "model_module_version": "1.2.0",
      "model_name": "LayoutModel",
      "state": {}
     },
     "7ad78bcc4db64d7fa44041cf0ab6c814": {
      "model_module": "@jupyter-widgets/controls",
      "model_module_version": "1.5.0",
      "model_name": "HTMLModel",
      "state": {
       "layout": "IPY_MODEL_48340f71c5eb47e6b532061fea08d1d7",
       "style": "IPY_MODEL_dff233f977964047ad75a7bda68b1e9d",
       "value": "<b>Thumbnail: </b> "
      }
     },
     "7ad8c580d1284fa4a7ae331d2c7875d5": {
      "model_module": "@jupyter-widgets/controls",
      "model_module_version": "1.5.0",
      "model_name": "DescriptionStyleModel",
      "state": {
       "description_width": ""
      }
     },
     "7add18c9b37b44679ae50576c771a14c": {
      "model_module": "@jupyter-widgets/controls",
      "model_module_version": "1.5.0",
      "model_name": "AccordionModel",
      "state": {
       "_titles": {
        "0": "General",
        "1": "MSc_BSc",
        "2": "PhD"
       },
       "children": [
        "IPY_MODEL_7b633360e98744abaf3b846f8544c5d8",
        "IPY_MODEL_227426c18b31441f90017d67ef03c08a",
        "IPY_MODEL_cbc4ca55006c42f8985230d49d777010"
       ],
       "layout": "IPY_MODEL_bd303f236a0e429f96231c83f61b05b7",
       "selected_index": null
      }
     },
     "7af4af165fd34d74b29a7aec7f102b85": {
      "model_module": "@jupyter-widgets/base",
      "model_module_version": "1.2.0",
      "model_name": "LayoutModel",
      "state": {}
     },
     "7af70d560dfd4212be991cefe93adff3": {
      "model_module": "@jupyter-widgets/controls",
      "model_module_version": "1.5.0",
      "model_name": "HTMLModel",
      "state": {
       "layout": "IPY_MODEL_80e6aab7f46342f38ab907337f4f0298",
       "style": "IPY_MODEL_f5ce2164929446788b69b6d56a20a5f6",
       "value": "<a href='https://github.com/ICOS-Carbon-Portal/jupyter/issues' target='_blank'>Click here to report an issue</a>"
      }
     },
     "7b30586beb1a4e9ba2b98efcf64d4f19": {
      "model_module": "@jupyter-widgets/base",
      "model_module_version": "1.2.0",
      "model_name": "LayoutModel",
      "state": {}
     },
     "7b633360e98744abaf3b846f8544c5d8": {
      "model_module": "@jupyter-widgets/controls",
      "model_module_version": "1.5.0",
      "model_name": "GridBoxModel",
      "state": {
       "children": [
        "IPY_MODEL_a98cbc3e5ae44470a2735aadb7494777",
        "IPY_MODEL_9d32ea29216e4461bb8300f4743046c7"
       ],
       "layout": "IPY_MODEL_1882ec0f57bd4cfdb9e3fb5a36ab6a2a"
      }
     },
     "7bc034d912114355b682b08228def65d": {
      "model_module": "@jupyter-widgets/base",
      "model_module_version": "1.2.0",
      "model_name": "LayoutModel",
      "state": {}
     },
     "7bc0ff0d82914a869e27fa1cf81f08f0": {
      "model_module": "@jupyter-widgets/controls",
      "model_module_version": "1.5.0",
      "model_name": "GridBoxModel",
      "state": {
       "children": [
        "IPY_MODEL_3c4c4753505446af803b2fbc22f0db73",
        "IPY_MODEL_0c4d8cf28357491b8c9f76b0c77bbc3a",
        "IPY_MODEL_114fcd7702bc411292e556e8c7eb727b",
        "IPY_MODEL_c8d7511148d34146aec54ec05a9c08f0",
        "IPY_MODEL_3b8377e669ee40db889a75a63200fff5",
        "IPY_MODEL_ca3e354894024d56ab612475af5a8d5d",
        "IPY_MODEL_09c1ef12caf444ac84398a125a5a2a36",
        "IPY_MODEL_0ee17614c91e4d2e85c8c6ca9382900a",
        "IPY_MODEL_20839a5c9b774b55a73c409029c1226e",
        "IPY_MODEL_32554985e92746bfb078f0f7f8ddbb5f"
       ],
       "layout": "IPY_MODEL_90923192518f49d68f130faf5ea20ca4"
      }
     },
     "7bf8d9a352e9430495f9ca41a184e9b6": {
      "model_module": "@jupyter-widgets/base",
      "model_module_version": "1.2.0",
      "model_name": "LayoutModel",
      "state": {}
     },
     "7c1982398b284f688265c92032076f4e": {
      "model_module": "@jupyter-widgets/controls",
      "model_module_version": "1.5.0",
      "model_name": "HTMLModel",
      "state": {
       "layout": "IPY_MODEL_900a07bac22148dab7f20decf4058382",
       "style": "IPY_MODEL_0fb4ebd592644b628c7048f252bc5758",
       "value": "<b>Contact: </b> "
      }
     },
     "7c308a1720184d3fa8d14804e24de253": {
      "model_module": "@jupyter-widgets/base",
      "model_module_version": "1.2.0",
      "model_name": "LayoutModel",
      "state": {}
     },
     "7c5d9f7f2b1644d2b67c8a9ff846f70c": {
      "model_module": "@jupyter-widgets/controls",
      "model_module_version": "1.5.0",
      "model_name": "DescriptionStyleModel",
      "state": {
       "description_width": ""
      }
     },
     "7c9d2f7414f3410184483d6bfe229ff6": {
      "model_module": "@jupyter-widgets/controls",
      "model_module_version": "1.5.0",
      "model_name": "DescriptionStyleModel",
      "state": {
       "description_width": ""
      }
     },
     "7ca209464fa741e0a60e728c177481de": {
      "model_module": "@jupyter-widgets/base",
      "model_module_version": "1.2.0",
      "model_name": "LayoutModel",
      "state": {}
     },
     "7cf75ed6167e482b88126b867c8d69d1": {
      "model_module": "@jupyter-widgets/controls",
      "model_module_version": "1.5.0",
      "model_name": "DescriptionStyleModel",
      "state": {
       "description_width": ""
      }
     },
     "7d1a18877f9149a89daa0c565531f2ba": {
      "model_module": "@jupyter-widgets/controls",
      "model_module_version": "1.5.0",
      "model_name": "DescriptionStyleModel",
      "state": {
       "description_width": ""
      }
     },
     "7d68deede11247e88e80bccac0d6caa8": {
      "model_module": "@jupyter-widgets/controls",
      "model_module_version": "1.5.0",
      "model_name": "DescriptionStyleModel",
      "state": {
       "description_width": ""
      }
     },
     "7d68fdd55c934c568bc3e8d18d17b88c": {
      "model_module": "@jupyter-widgets/base",
      "model_module_version": "1.2.0",
      "model_name": "LayoutModel",
      "state": {}
     },
     "7dba236fe54549de8b9dd0ff3c8de79f": {
      "model_module": "@jupyter-widgets/base",
      "model_module_version": "1.2.0",
      "model_name": "LayoutModel",
      "state": {}
     },
     "7dbe35fa8482465086b33ae3849af5c4": {
      "model_module": "@jupyter-widgets/base",
      "model_module_version": "1.2.0",
      "model_name": "LayoutModel",
      "state": {}
     },
     "7dda8615a87a43d891629d011c9163e0": {
      "model_module": "@jupyter-widgets/controls",
      "model_module_version": "1.5.0",
      "model_name": "GridBoxModel",
      "state": {
       "children": [
        "IPY_MODEL_f83f617d17864a588f4a989119ed726e",
        "IPY_MODEL_4740a00d42fc45da8e3d4753159848d5",
        "IPY_MODEL_1030ed54b0c242d79a277892be1564eb",
        "IPY_MODEL_355407ad8e0047049c8a3d95b5953200",
        "IPY_MODEL_1a10872288ed494cae959fb1a827cbde",
        "IPY_MODEL_9f7a53ea6b4340f18a12b2703d966a96",
        "IPY_MODEL_e6868dff3f2d4e5b970cef3c4ef120eb",
        "IPY_MODEL_5891fd25d574496199fd594fbddaa19d",
        "IPY_MODEL_988766006712436b879d8cfd689f0d5a",
        "IPY_MODEL_d53c7ae3adfa4d0789cf8f5258d086a7"
       ],
       "layout": "IPY_MODEL_e6fda782267841b581c221cc5b6445d6"
      }
     },
     "7e4105be44504e39872b19a6f0117704": {
      "model_module": "@jupyter-widgets/base",
      "model_module_version": "1.2.0",
      "model_name": "LayoutModel",
      "state": {}
     },
     "7e8e320810254dd7b3a193654b015329": {
      "model_module": "@jupyter-widgets/controls",
      "model_module_version": "1.5.0",
      "model_name": "DescriptionStyleModel",
      "state": {
       "description_width": ""
      }
     },
     "7e8f39fe9b7a4ac397a3c71eb872ecb0": {
      "model_module": "@jupyter-widgets/base",
      "model_module_version": "1.2.0",
      "model_name": "LayoutModel",
      "state": {}
     },
     "7e980b51c2bb42c9bdd37fe3da362870": {
      "model_module": "@jupyter-widgets/controls",
      "model_module_version": "1.5.0",
      "model_name": "DescriptionStyleModel",
      "state": {
       "description_width": ""
      }
     },
     "7ea16b4ef90e451e9398d621e231dbcd": {
      "model_module": "@jupyter-widgets/controls",
      "model_module_version": "1.5.0",
      "model_name": "DescriptionStyleModel",
      "state": {
       "description_width": ""
      }
     },
     "7eaff2ee21224209b7b30f5e99375f85": {
      "model_module": "@jupyter-widgets/base",
      "model_module_version": "1.2.0",
      "model_name": "LayoutModel",
      "state": {}
     },
     "7eb2ee846a6e440b8ad7cdcda50868bd": {
      "model_module": "@jupyter-widgets/controls",
      "model_module_version": "1.5.0",
      "model_name": "HTMLModel",
      "state": {
       "layout": "IPY_MODEL_06cfb81d508d40708c9ba42467eca5cb",
       "style": "IPY_MODEL_ad9d7f41b32b4fd0a460486132b5be9a",
       "value": "<b>Contact: </b> "
      }
     },
     "7ec948687a3145d4a84bca4bb135e91d": {
      "model_module": "@jupyter-widgets/base",
      "model_module_version": "1.2.0",
      "model_name": "LayoutModel",
      "state": {}
     },
     "7ed5397f00fb46ca836f746785f438f3": {
      "model_module": "@jupyter-widgets/controls",
      "model_module_version": "1.5.0",
      "model_name": "HTMLModel",
      "state": {
       "layout": "IPY_MODEL_1c8454c05e2a459580fd944b4d5dba85",
       "style": "IPY_MODEL_cbda3774b5cc4290bffdd36d8ba031c5",
       "value": "<img src=\"./icos_jupyter_notebooks/ind_tools/img/05_education/phd/ucf/ex3/gpp_par_fapar_prod.PNG\">"
      }
     },
     "7ef84050632b4c8ca3839b3036200910": {
      "model_module": "@jupyter-widgets/controls",
      "model_module_version": "1.5.0",
      "model_name": "DescriptionStyleModel",
      "state": {
       "description_width": ""
      }
     },
     "7efb20381da747bea6bbe4eb132e2b28": {
      "model_module": "@jupyter-widgets/base",
      "model_module_version": "1.2.0",
      "model_name": "LayoutModel",
      "state": {}
     },
     "7f1e9a0f73494f2dae4d8934cb42c7ae": {
      "model_module": "@jupyter-widgets/base",
      "model_module_version": "1.2.0",
      "model_name": "LayoutModel",
      "state": {}
     },
     "7f243093e33c43588e46524d7794b8ea": {
      "model_module": "@jupyter-widgets/base",
      "model_module_version": "1.2.0",
      "model_name": "LayoutModel",
      "state": {}
     },
     "7f3975bd7cc748369b2d7b4834eb2c29": {
      "model_module": "@jupyter-widgets/base",
      "model_module_version": "1.2.0",
      "model_name": "LayoutModel",
      "state": {}
     },
     "7f5810803d0b4deda8ea8405ad75f991": {
      "model_module": "@jupyter-widgets/controls",
      "model_module_version": "1.5.0",
      "model_name": "DescriptionStyleModel",
      "state": {
       "description_width": ""
      }
     },
     "7f6d9a4270ee49c5ac2fc19900017493": {
      "model_module": "@jupyter-widgets/controls",
      "model_module_version": "1.5.0",
      "model_name": "GridBoxModel",
      "state": {
       "children": [
        "IPY_MODEL_736b04a27b434af5a296cf48972b88f5",
        "IPY_MODEL_4446c40f7f0349fa91cf4bf0864633e7",
        "IPY_MODEL_64da0ed05899459b8c52047f86f3e5d4",
        "IPY_MODEL_662576b0803544138268da88017fb4c8",
        "IPY_MODEL_e41e6b7e1c5f47559697c2defb85112e",
        "IPY_MODEL_703fc29e8e87475699f603dd5fe3a44c",
        "IPY_MODEL_3081f8eca99d43c99a55ef5a5f13e140",
        "IPY_MODEL_128139e0f7c545d39726d060d0a65a53",
        "IPY_MODEL_f3d78f7b3c5c4c96ae5c79eb440c1f94",
        "IPY_MODEL_22af09f8557f4ecead8af6c93a4fc906"
       ],
       "layout": "IPY_MODEL_60e9fb1d2368493e817384e0e3c1d3af"
      }
     },
     "7fa0e96cd0a54b908fa053b6f08af96a": {
      "model_module": "@jupyter-widgets/controls",
      "model_module_version": "1.5.0",
      "model_name": "DescriptionStyleModel",
      "state": {
       "description_width": ""
      }
     },
     "800aaba51d35414db87a25b8a312d3db": {
      "model_module": "@jupyter-widgets/base",
      "model_module_version": "1.2.0",
      "model_name": "LayoutModel",
      "state": {}
     },
     "801d32d74d63426e8b353034a6d36fed": {
      "model_module": "@jupyter-widgets/base",
      "model_module_version": "1.2.0",
      "model_name": "LayoutModel",
      "state": {}
     },
     "805f719902414a4ebff79bdd9dd7bfb3": {
      "model_module": "@jupyter-widgets/base",
      "model_module_version": "1.2.0",
      "model_name": "LayoutModel",
      "state": {}
     },
     "80ab951ea0634dda885044e0f4732e48": {
      "model_module": "@jupyter-widgets/controls",
      "model_module_version": "1.5.0",
      "model_name": "DescriptionStyleModel",
      "state": {
       "description_width": ""
      }
     },
     "80de8e787ab44613aca9c79bb1b5bb8a": {
      "model_module": "@jupyter-widgets/controls",
      "model_module_version": "1.5.0",
      "model_name": "DescriptionStyleModel",
      "state": {
       "description_width": ""
      }
     },
     "80e6aab7f46342f38ab907337f4f0298": {
      "model_module": "@jupyter-widgets/base",
      "model_module_version": "1.2.0",
      "model_name": "LayoutModel",
      "state": {}
     },
     "80f224a78e804d73bfcd725cbf47f5d5": {
      "model_module": "@jupyter-widgets/base",
      "model_module_version": "1.2.0",
      "model_name": "LayoutModel",
      "state": {}
     },
     "812768ca08ad41818248f7a61b9c5122": {
      "model_module": "@jupyter-widgets/base",
      "model_module_version": "1.2.0",
      "model_name": "LayoutModel",
      "state": {
       "grid_gap": "5px 10px",
       "grid_template_columns": "100px auto",
       "grid_template_rows": "auto auto auto auto auto",
       "padding": "50px 0px 70px 0px",
       "width": "100%"
      }
     },
     "81604c54f8ad40e1b447251b8f1d5fcb": {
      "model_module": "@jupyter-widgets/controls",
      "model_module_version": "1.5.0",
      "model_name": "GridBoxModel",
      "state": {
       "children": [
        "IPY_MODEL_74e818b280ce4855ac405a3439c93dd2",
        "IPY_MODEL_041c8b4b25644346974c76a4ffc1cd3b",
        "IPY_MODEL_63a82cfeb7c541fca17553bc8e28c126",
        "IPY_MODEL_a0f9928cf2f34b17813d4ab0464bbdc7",
        "IPY_MODEL_d7aaacc4433a409e8733716847e27d14",
        "IPY_MODEL_099c08172baf4771a8a3e2d2db8ddc7c",
        "IPY_MODEL_84e983baa7a342b393dd3a9e9f973da7",
        "IPY_MODEL_f09b8265f9e44358af2f7ccac748da6b",
        "IPY_MODEL_18270454b5a940598cad9dcde1f0ca43",
        "IPY_MODEL_eb79a42b53b04192807a36bedb18cb84"
       ],
       "layout": "IPY_MODEL_b4fea9f0628f44f0a277105090f2ba72"
      }
     },
     "81626c37683b40b6a9e207aaac9dda35": {
      "model_module": "@jupyter-widgets/base",
      "model_module_version": "1.2.0",
      "model_name": "LayoutModel",
      "state": {}
     },
     "81643f7b7a794db9a1253c2ce37215ad": {
      "model_module": "@jupyter-widgets/controls",
      "model_module_version": "1.5.0",
      "model_name": "DescriptionStyleModel",
      "state": {
       "description_width": ""
      }
     },
     "81b0c6c1f0964b328bb1234ccd3dedc7": {
      "model_module": "@jupyter-widgets/base",
      "model_module_version": "1.2.0",
      "model_name": "LayoutModel",
      "state": {
       "grid_gap": "5px 10px",
       "grid_template_columns": "100px auto",
       "grid_template_rows": "auto auto auto auto auto",
       "padding": "50px 0px 70px 0px",
       "width": "100%"
      }
     },
     "81e123f4de854aeca4061b65e44a8306": {
      "model_module": "@jupyter-widgets/base",
      "model_module_version": "1.2.0",
      "model_name": "LayoutModel",
      "state": {}
     },
     "823d82a17f5d425887221231646c0c76": {
      "model_module": "@jupyter-widgets/base",
      "model_module_version": "1.2.0",
      "model_name": "LayoutModel",
      "state": {}
     },
     "825c44ad41914e3ab8a2bcc6f78a12bb": {
      "model_module": "@jupyter-widgets/base",
      "model_module_version": "1.2.0",
      "model_name": "LayoutModel",
      "state": {}
     },
     "8299b0b57ef544bcb3c58a53a3be04b0": {
      "model_module": "@jupyter-widgets/base",
      "model_module_version": "1.2.0",
      "model_name": "LayoutModel",
      "state": {}
     },
     "82b20e62639a467aa99fb4c9f0b293c8": {
      "model_module": "@jupyter-widgets/controls",
      "model_module_version": "1.5.0",
      "model_name": "DescriptionStyleModel",
      "state": {
       "description_width": ""
      }
     },
     "82d8650a732548ecae2fa8185a8c9609": {
      "model_module": "@jupyter-widgets/controls",
      "model_module_version": "1.5.0",
      "model_name": "HTMLModel",
      "state": {
       "layout": "IPY_MODEL_6eed1b7ea1aa4180b0b675e149a1e019",
       "style": "IPY_MODEL_2e4f5041b7824702953e1dfbfa2ec5c9",
       "value": "<a href=\"mailto: jupyter-info@icos-cp.eu\">jupyter-info@icos-cp.eu</a>"
      }
     },
     "830d8244f5b64c61a115b166cfa9ad04": {
      "model_module": "@jupyter-widgets/controls",
      "model_module_version": "1.5.0",
      "model_name": "HTMLModel",
      "state": {
       "layout": "IPY_MODEL_6aded4d3734b4d7493b37026d394d900",
       "style": "IPY_MODEL_cb0fd1c906e140079cc63a7685c6847e",
       "value": "<a href=\"mailto: jupyter-info@icos-cp.eu\">jupyter-info@icos-cp.eu</a>"
      }
     },
     "831f9c900556449a98a18c234b11f5bb": {
      "model_module": "@jupyter-widgets/base",
      "model_module_version": "1.2.0",
      "model_name": "LayoutModel",
      "state": {}
     },
     "834bf40f48fa461c8f6bcdf0b58924ea": {
      "model_module": "@jupyter-widgets/controls",
      "model_module_version": "1.5.0",
      "model_name": "DescriptionStyleModel",
      "state": {
       "description_width": ""
      }
     },
     "839bf9f5c9da4391aed9032b62b9c5b1": {
      "model_module": "@jupyter-widgets/base",
      "model_module_version": "1.2.0",
      "model_name": "LayoutModel",
      "state": {}
     },
     "83af1520a7484b438c4ce95e1b097aee": {
      "model_module": "@jupyter-widgets/controls",
      "model_module_version": "1.5.0",
      "model_name": "HTMLModel",
      "state": {
       "layout": "IPY_MODEL_8461a912b0e74e579765d929c131d605",
       "style": "IPY_MODEL_7c9d2f7414f3410184483d6bfe229ff6",
       "value": "<b>GitHub: </b> "
      }
     },
     "83b51e3cdba54be993d55ffdffd06713": {
      "model_module": "@jupyter-widgets/base",
      "model_module_version": "1.2.0",
      "model_name": "LayoutModel",
      "state": {}
     },
     "83e1a85ad235442bb044c47c5b897385": {
      "model_module": "@jupyter-widgets/base",
      "model_module_version": "1.2.0",
      "model_name": "LayoutModel",
      "state": {}
     },
     "8461a912b0e74e579765d929c131d605": {
      "model_module": "@jupyter-widgets/base",
      "model_module_version": "1.2.0",
      "model_name": "LayoutModel",
      "state": {}
     },
     "84c61596860b4833acb8d59dcfced398": {
      "model_module": "@jupyter-widgets/controls",
      "model_module_version": "1.5.0",
      "model_name": "GridBoxModel",
      "state": {
       "children": [
        "IPY_MODEL_d7e7d65d4cc548cbbdbd0a1dc2be31b1",
        "IPY_MODEL_4f7f3a8bdb314f87a7bda972f7f2cad3",
        "IPY_MODEL_ff11dc14c7064183985e6de941b12fd7",
        "IPY_MODEL_8c1333bc73684c0bb7b6925bb1d99374",
        "IPY_MODEL_634ddca9c09943d394f402e099fd1f14",
        "IPY_MODEL_420c6e71d1f54fd38a7e22170d44b068",
        "IPY_MODEL_1ead6659acb54cc68ddf9e7c2ed0e759",
        "IPY_MODEL_5d9fc96342ee49a6b657114f2c3ba67b",
        "IPY_MODEL_229ab523b9bb44149c5e1896d7f2c246",
        "IPY_MODEL_d907f02c65404e9d83d349a3b2342e2e"
       ],
       "layout": "IPY_MODEL_3c6df4305e234fa696c80303a2f3a99a"
      }
     },
     "84d298508dd84e49b999400df553f03c": {
      "model_module": "@jupyter-widgets/controls",
      "model_module_version": "1.5.0",
      "model_name": "HTMLModel",
      "state": {
       "layout": "IPY_MODEL_a2e12e62c4284b0ab191c04ffb7f3277",
       "style": "IPY_MODEL_396f44d37d484f589971c1c5987839bc",
       "value": "<b>GitHub: </b> "
      }
     },
     "84e983baa7a342b393dd3a9e9f973da7": {
      "model_module": "@jupyter-widgets/controls",
      "model_module_version": "1.5.0",
      "model_name": "HTMLModel",
      "state": {
       "layout": "IPY_MODEL_1ac16b06f51f4fdab6cdcc1a4e20236c",
       "style": "IPY_MODEL_fe692f160f88448c97225ffb231d19d5",
       "value": "<b>GitHub: </b> "
      }
     },
     "8515cc1aadd24065ba6abc62a8f00d86": {
      "model_module": "@jupyter-widgets/controls",
      "model_module_version": "1.5.0",
      "model_name": "DescriptionStyleModel",
      "state": {
       "description_width": ""
      }
     },
     "8515cf755d8d49668f69fb88293b0e9c": {
      "model_module": "@jupyter-widgets/base",
      "model_module_version": "1.2.0",
      "model_name": "LayoutModel",
      "state": {
       "grid_gap": "5px 10px",
       "grid_template_columns": "100px auto",
       "grid_template_rows": "auto auto auto auto auto",
       "padding": "50px 0px 70px 0px",
       "width": "100%"
      }
     },
     "853f8c2893704de6a86b8181050f2f12": {
      "model_module": "@jupyter-widgets/base",
      "model_module_version": "1.2.0",
      "model_name": "LayoutModel",
      "state": {}
     },
     "8543b85bae2649f08404bdd715923575": {
      "model_module": "@jupyter-widgets/base",
      "model_module_version": "1.2.0",
      "model_name": "LayoutModel",
      "state": {}
     },
     "854427663f534cdcae8967d7f8becc50": {
      "model_module": "@jupyter-widgets/controls",
      "model_module_version": "1.5.0",
      "model_name": "HTMLModel",
      "state": {
       "layout": "IPY_MODEL_6cf25d36115841558ac26bf55544f910",
       "style": "IPY_MODEL_8b32ac2791424737935f63d4ad02a484",
       "value": "<a href=\"mailto: jupyter-info@icos-cp.eu\">jupyter-info@icos-cp.eu</a>"
      }
     },
     "8574876016454546ba0751a1f867214e": {
      "model_module": "@jupyter-widgets/controls",
      "model_module_version": "1.5.0",
      "model_name": "HTMLModel",
      "state": {
       "layout": "IPY_MODEL_abcea03260e54ba9ad376001ca1414a4",
       "style": "IPY_MODEL_07311ace780b4233a4621df1db7f1925",
       "value": "<a href='https://github.com/ICOS-Carbon-Portal/jupyter/issues' target='_blank'>Click here to report an issue</a>"
      }
     },
     "8590d93939544e738691d2e2a26b522d": {
      "model_module": "@jupyter-widgets/controls",
      "model_module_version": "1.5.0",
      "model_name": "DescriptionStyleModel",
      "state": {
       "description_width": ""
      }
     },
     "85940cdbad7741b1b49f2bc781ccdf48": {
      "model_module": "@jupyter-widgets/controls",
      "model_module_version": "1.5.0",
      "model_name": "GridBoxModel",
      "state": {
       "children": [
        "IPY_MODEL_27c80050acc5485e915f42e9a0329d93",
        "IPY_MODEL_c74fc025593f474480d1029c9c386a1b",
        "IPY_MODEL_be94492056ae4afc8b2d6efa426a3f90",
        "IPY_MODEL_e8258fd76aa541d9ad22eb466e6a155f",
        "IPY_MODEL_2deef7d9711e4e15b3238a8d247bf11e",
        "IPY_MODEL_a681f017e2de49189863a7641b6a249d",
        "IPY_MODEL_4ad6682f60a24921a23afa5dc444601d",
        "IPY_MODEL_1f5b53b90f1f41d68c38c1944b7afc3f",
        "IPY_MODEL_12f12dd1398b4d13a00543b646fd17d4",
        "IPY_MODEL_8dc98268130d47f39454c8e9000c40f8"
       ],
       "layout": "IPY_MODEL_bcd633e1bbe747c4bd4ebb22b04c6d25"
      }
     },
     "8631a211101f4f25860d542d3c5358af": {
      "model_module": "@jupyter-widgets/controls",
      "model_module_version": "1.5.0",
      "model_name": "DescriptionStyleModel",
      "state": {
       "description_width": ""
      }
     },
     "86544047c48c4117bd79f4944928800b": {
      "model_module": "@jupyter-widgets/controls",
      "model_module_version": "1.5.0",
      "model_name": "DescriptionStyleModel",
      "state": {
       "description_width": ""
      }
     },
     "86b95b0465644968ae8e8e2d676644c7": {
      "model_module": "@jupyter-widgets/controls",
      "model_module_version": "1.5.0",
      "model_name": "DescriptionStyleModel",
      "state": {
       "description_width": ""
      }
     },
     "8714c74fb8b04d08b04c1a0661698315": {
      "model_module": "@jupyter-widgets/base",
      "model_module_version": "1.2.0",
      "model_name": "LayoutModel",
      "state": {}
     },
     "87360ec2439b4b12b1f575c155e139b0": {
      "model_module": "@jupyter-widgets/controls",
      "model_module_version": "1.5.0",
      "model_name": "DescriptionStyleModel",
      "state": {
       "description_width": ""
      }
     },
     "879eb642e869487986abb3a1df8ace50": {
      "model_module": "@jupyter-widgets/base",
      "model_module_version": "1.2.0",
      "model_name": "LayoutModel",
      "state": {}
     },
     "87a8f1137dc749dfad372cc81abdaf01": {
      "model_module": "@jupyter-widgets/controls",
      "model_module_version": "1.5.0",
      "model_name": "HTMLModel",
      "state": {
       "layout": "IPY_MODEL_7c308a1720184d3fa8d14804e24de253",
       "style": "IPY_MODEL_d069adb4b1544749b04028bae96f6552",
       "value": "<a href=\"mailto: jupyter-info@icos-cp.eu\">jupyter-info@icos-cp.eu</a>"
      }
     },
     "87c02368b05c48ae97015dc58f6789ae": {
      "model_module": "@jupyter-widgets/controls",
      "model_module_version": "1.5.0",
      "model_name": "HTMLModel",
      "state": {
       "layout": "IPY_MODEL_d4a1a7fef84b4ea6b3ce50381ef1ff32",
       "style": "IPY_MODEL_04172d75521f401684d0652f183eb36d",
       "value": "<a href=./education/General/carboncycle_htm.ipynb#Carbon-Cycle target='_blank'>Carbon cycle - Hyltemossa</a>"
      }
     },
     "87e6bcf5b07b417589460ea4e0f6f4e9": {
      "model_module": "@jupyter-widgets/controls",
      "model_module_version": "1.5.0",
      "model_name": "HTMLModel",
      "state": {
       "layout": "IPY_MODEL_c55c491e9ec7490585cafc49d465fb32",
       "style": "IPY_MODEL_737a2d312d1e47e8962ccdb2956df02c",
       "value": "<a href=./pylib_examples/ex6b_STILT_footprint_animation.ipynb target='_blank'>ICOS Carbon Portal Python Library - STILT footprint animation</a>"
      }
     },
     "887cd055e7f1411fb3438685467ffdb6": {
      "model_module": "@jupyter-widgets/base",
      "model_module_version": "1.2.0",
      "model_name": "LayoutModel",
      "state": {}
     },
     "887f3f7f728f4dcf96b86f4035c224c2": {
      "model_module": "@jupyter-widgets/controls",
      "model_module_version": "1.5.0",
      "model_name": "GridBoxModel",
      "state": {
       "children": [
        "IPY_MODEL_75d705be63524e0982cd2297e0ac6a71",
        "IPY_MODEL_51159f86bfbf4c6ab577dac08b3a991f",
        "IPY_MODEL_4dfb21b871334b7aa95b5cc56897f184",
        "IPY_MODEL_ae8ccfb6504a4695952c49ecd0a85754",
        "IPY_MODEL_240be83e8c9846a78f75ede928a51bb8",
        "IPY_MODEL_e56d4a0e3d7646dfbbb9fc18bcd594fd",
        "IPY_MODEL_3c8bbd9f4f8f41d881c85b1854478fa8",
        "IPY_MODEL_aedcfbec817941eba68b2cd2eaab6a4c",
        "IPY_MODEL_770e9247cc2f40fa81ac1df5d74c1128",
        "IPY_MODEL_14c4e94810964b6098252de9cfb0441f"
       ],
       "layout": "IPY_MODEL_666203f438c04460b85170987c2222af"
      }
     },
     "8903d72490d54011af16cc9ba77e643e": {
      "model_module": "@jupyter-widgets/base",
      "model_module_version": "1.2.0",
      "model_name": "LayoutModel",
      "state": {}
     },
     "894b67cc50c54647a9535d857e2b952b": {
      "model_module": "@jupyter-widgets/controls",
      "model_module_version": "1.5.0",
      "model_name": "HTMLModel",
      "state": {
       "layout": "IPY_MODEL_c7e6517b1a5749ea8a2ee9d86ed99bf3",
       "style": "IPY_MODEL_52ad7e41dd23443bb132006b4f540ebf",
       "value": "<a href='https://github.com/ICOS-Carbon-Portal/jupyter/issues' target='_blank'>Click here to report an issue</a>"
      }
     },
     "89a796a73aee44acb5c53dd2246133ad": {
      "model_module": "@jupyter-widgets/base",
      "model_module_version": "1.2.0",
      "model_name": "LayoutModel",
      "state": {}
     },
     "89b798e8420a48299befcdb5679df5b7": {
      "model_module": "@jupyter-widgets/controls",
      "model_module_version": "1.5.0",
      "model_name": "DescriptionStyleModel",
      "state": {
       "description_width": ""
      }
     },
     "89eb74a391c34031a22d49a400f12460": {
      "model_module": "@jupyter-widgets/controls",
      "model_module_version": "1.5.0",
      "model_name": "DescriptionStyleModel",
      "state": {
       "description_width": ""
      }
     },
     "8a3e748bf7254abdbb5ee69f821d95cb": {
      "model_module": "@jupyter-widgets/base",
      "model_module_version": "1.2.0",
      "model_name": "LayoutModel",
      "state": {}
     },
     "8aa1338fbd8e4996b73cc06ad00cb327": {
      "model_module": "@jupyter-widgets/controls",
      "model_module_version": "1.5.0",
      "model_name": "DescriptionStyleModel",
      "state": {
       "description_width": ""
      }
     },
     "8b23db83be474d13afcfa7665d6cac1b": {
      "model_module": "@jupyter-widgets/controls",
      "model_module_version": "1.5.0",
      "model_name": "DescriptionStyleModel",
      "state": {
       "description_width": ""
      }
     },
     "8b2760816319414db9881cb36d40b944": {
      "model_module": "@jupyter-widgets/base",
      "model_module_version": "1.2.0",
      "model_name": "LayoutModel",
      "state": {}
     },
     "8b32ac2791424737935f63d4ad02a484": {
      "model_module": "@jupyter-widgets/controls",
      "model_module_version": "1.5.0",
      "model_name": "DescriptionStyleModel",
      "state": {
       "description_width": ""
      }
     },
     "8b89d407149240aa936d541a12a63ed3": {
      "model_module": "@jupyter-widgets/base",
      "model_module_version": "1.2.0",
      "model_name": "LayoutModel",
      "state": {}
     },
     "8bc7d5f647734d54ba8f30131400f529": {
      "model_module": "@jupyter-widgets/controls",
      "model_module_version": "1.5.0",
      "model_name": "DescriptionStyleModel",
      "state": {
       "description_width": ""
      }
     },
     "8bc86bd75ca8499ca79eae5aa0aaacdb": {
      "model_module": "@jupyter-widgets/controls",
      "model_module_version": "1.5.0",
      "model_name": "DescriptionStyleModel",
      "state": {
       "description_width": ""
      }
     },
     "8c1333bc73684c0bb7b6925bb1d99374": {
      "model_module": "@jupyter-widgets/controls",
      "model_module_version": "1.5.0",
      "model_name": "HTMLModel",
      "state": {
       "layout": "IPY_MODEL_20b4f7de422a45f9b85d23f86b50eede",
       "style": "IPY_MODEL_49832802d20045fcbcf54559f8614423",
       "value": "This notebook is dedicated on exploring ICOS atmosphere observations."
      }
     },
     "8c198012229448f79e5edebb86c14aae": {
      "model_module": "@jupyter-widgets/controls",
      "model_module_version": "1.5.0",
      "model_name": "DescriptionStyleModel",
      "state": {
       "description_width": ""
      }
     },
     "8c7ed78df2304e999fe591d191940a58": {
      "model_module": "@jupyter-widgets/controls",
      "model_module_version": "1.5.0",
      "model_name": "HTMLModel",
      "state": {
       "layout": "IPY_MODEL_664b7959acd2488896c1686697141e8b",
       "style": "IPY_MODEL_e8662d18b56f4c34a3178311c33e5409",
       "value": "<b>GitHub: </b> "
      }
     },
     "8d06420d53af415c8953dd7e70219f0e": {
      "model_module": "@jupyter-widgets/controls",
      "model_module_version": "1.5.0",
      "model_name": "HTMLModel",
      "state": {
       "layout": "IPY_MODEL_0afb3e7c32e54212886e0cca34970831",
       "style": "IPY_MODEL_8f11d1d6fd23448a8390aa1261d90a35",
       "value": "This notebook contains exercises for the <b>OTC Data Reduction Workshop</b>. The first exercise in <i>pCO₂ data reduction part 1 - Gas calibration</i> was dealing with the calibration of the xCO₂-data as they were coming from the instrument. The data were produced by a <i>General Oceanics</i> instrument, but the idea would be the same for data from any instrument. In this notebook, we will use the same data set as in <i>pCO₂ data reduction part 1 - Gas calibration</i> but with all recorded variables."
      }
     },
     "8d21b3150cdd42e79252646ca4fd4f8d": {
      "model_module": "@jupyter-widgets/controls",
      "model_module_version": "1.5.0",
      "model_name": "DescriptionStyleModel",
      "state": {
       "description_width": ""
      }
     },
     "8d36109dd38446a39df6ed7c367ed0c4": {
      "model_module": "@jupyter-widgets/base",
      "model_module_version": "1.2.0",
      "model_name": "LayoutModel",
      "state": {}
     },
     "8d66fbbd18484bed8501bf060017250a": {
      "model_module": "@jupyter-widgets/controls",
      "model_module_version": "1.5.0",
      "model_name": "DescriptionStyleModel",
      "state": {
       "description_width": ""
      }
     },
     "8dbedc33704d49caa12b9e8355770e1c": {
      "model_module": "@jupyter-widgets/base",
      "model_module_version": "1.2.0",
      "model_name": "LayoutModel",
      "state": {}
     },
     "8dc48488ca3f416b88f5e6c8e264c572": {
      "model_module": "@jupyter-widgets/controls",
      "model_module_version": "1.5.0",
      "model_name": "HTMLModel",
      "state": {
       "layout": "IPY_MODEL_8e53b893620e4a4589e3132d6f8a2bda",
       "style": "IPY_MODEL_cddc9ac3279146e6b684510100e42fe2",
       "value": "<b>Description: </b> "
      }
     },
     "8dc98268130d47f39454c8e9000c40f8": {
      "model_module": "@jupyter-widgets/controls",
      "model_module_version": "1.5.0",
      "model_name": "HTMLModel",
      "state": {
       "layout": "IPY_MODEL_2ae7648fad2f4084be42991613adefd3",
       "style": "IPY_MODEL_73c2a1c3cbef42aeaccefb6d220ac920",
       "value": "<img src=\"./icos_jupyter_notebooks/ind_tools/img/03_icos_JNBs/st_network_characterization/GER_station_network.PNG\">"
      }
     },
     "8e14abaa4be04a058a9d8f7272356e79": {
      "model_module": "@jupyter-widgets/base",
      "model_module_version": "1.2.0",
      "model_name": "LayoutModel",
      "state": {}
     },
     "8e2c8382de494ce6a62a31cfc186532e": {
      "model_module": "@jupyter-widgets/controls",
      "model_module_version": "1.5.0",
      "model_name": "DescriptionStyleModel",
      "state": {
       "description_width": ""
      }
     },
     "8e53b893620e4a4589e3132d6f8a2bda": {
      "model_module": "@jupyter-widgets/base",
      "model_module_version": "1.2.0",
      "model_name": "LayoutModel",
      "state": {}
     },
     "8e558ca69a924981a662aa713d70fe1a": {
      "model_module": "@jupyter-widgets/controls",
      "model_module_version": "1.5.0",
      "model_name": "HTMLModel",
      "state": {
       "layout": "IPY_MODEL_c73ec95a2f3c42e3a52e48f513c7a055",
       "style": "IPY_MODEL_3f9f22637d224115b998ede8674eef0a",
       "value": "<b>Description: </b> "
      }
     },
     "8e8ee34619754c8da79ad195c612eed9": {
      "model_module": "@jupyter-widgets/base",
      "model_module_version": "1.2.0",
      "model_name": "LayoutModel",
      "state": {}
     },
     "8ea21aec54794e83b639967039bd8fcb": {
      "model_module": "@jupyter-widgets/base",
      "model_module_version": "1.2.0",
      "model_name": "LayoutModel",
      "state": {}
     },
     "8edbca3bb6ee41bba6c8681bde355cd8": {
      "model_module": "@jupyter-widgets/controls",
      "model_module_version": "1.5.0",
      "model_name": "HTMLModel",
      "state": {
       "layout": "IPY_MODEL_228459c1b2834753a5a92b2cdd020101",
       "style": "IPY_MODEL_b5a7c36900de46b7b390f7cf2b26cedf",
       "value": "<img src=\"./icos_jupyter_notebooks/ind_tools/img/02_pylib_ex/ex5.PNG\">"
      }
     },
     "8f0b8c6e290242bd90b26bbb71ad5ac4": {
      "model_module": "@jupyter-widgets/controls",
      "model_module_version": "1.5.0",
      "model_name": "HTMLModel",
      "state": {
       "layout": "IPY_MODEL_33037e0390634ebd8c26a6ad64f465b6",
       "style": "IPY_MODEL_8631a211101f4f25860d542d3c5358af",
       "value": "<b>Description: </b> "
      }
     },
     "8f11d1d6fd23448a8390aa1261d90a35": {
      "model_module": "@jupyter-widgets/controls",
      "model_module_version": "1.5.0",
      "model_name": "DescriptionStyleModel",
      "state": {
       "description_width": ""
      }
     },
     "8f60665f36224c098a687f5a2fbc8ed0": {
      "model_module": "@jupyter-widgets/controls",
      "model_module_version": "1.5.0",
      "model_name": "HTMLModel",
      "state": {
       "layout": "IPY_MODEL_09f80b2693d04bc6bff4fc26c908c78c",
       "style": "IPY_MODEL_67a05baff0f74fa999cceb70bf2fba0d",
       "value": "<a href='https://github.com/ICOS-Carbon-Portal/jupyter/issues' target='_blank'>Click here to report an issue</a>"
      }
     },
     "8f700abcfc6e43c49c4b68d8b2563d1d": {
      "model_module": "@jupyter-widgets/base",
      "model_module_version": "1.2.0",
      "model_name": "LayoutModel",
      "state": {
       "grid_gap": "5px 10px",
       "grid_template_columns": "100px auto",
       "grid_template_rows": "auto auto auto auto auto",
       "padding": "50px 0px 70px 0px",
       "width": "100%"
      }
     },
     "8fa5850b24de4a67bacb53ab7c01496a": {
      "model_module": "@jupyter-widgets/base",
      "model_module_version": "1.2.0",
      "model_name": "LayoutModel",
      "state": {}
     },
     "8fac6f9ba9374ab289a64f2097224d90": {
      "model_module": "@jupyter-widgets/controls",
      "model_module_version": "1.5.0",
      "model_name": "HTMLModel",
      "state": {
       "layout": "IPY_MODEL_83b51e3cdba54be993d55ffdffd06713",
       "style": "IPY_MODEL_8aa1338fbd8e4996b73cc06ad00cb327",
       "value": "<a href=\"mailto: jupyter-info@icos-cp.eu\">jupyter-info@icos-cp.eu</a>"
      }
     },
     "8ff051e606a84e73b354da15dc8e626c": {
      "model_module": "@jupyter-widgets/controls",
      "model_module_version": "1.5.0",
      "model_name": "DescriptionStyleModel",
      "state": {
       "description_width": ""
      }
     },
     "900a07bac22148dab7f20decf4058382": {
      "model_module": "@jupyter-widgets/base",
      "model_module_version": "1.2.0",
      "model_name": "LayoutModel",
      "state": {}
     },
     "9019e725e3ea4fa29433124d0ae6bcc4": {
      "model_module": "@jupyter-widgets/controls",
      "model_module_version": "1.5.0",
      "model_name": "DescriptionStyleModel",
      "state": {
       "description_width": ""
      }
     },
     "902ef1c55c18474f92b9c2e838ad0777": {
      "model_module": "@jupyter-widgets/controls",
      "model_module_version": "1.5.0",
      "model_name": "HTMLModel",
      "state": {
       "layout": "IPY_MODEL_2954098ca0e147a586a9061825e0b43d",
       "style": "IPY_MODEL_a40b0681eeb04e0b96e29b51c70deedf",
       "value": "<img src=\"./icos_jupyter_notebooks/ind_tools/img/05_education/phd/ucf/drought2018/htm_drought2018.PNG\">"
      }
     },
     "9045b682c3374fff926fba034245934f": {
      "model_module": "@jupyter-widgets/base",
      "model_module_version": "1.2.0",
      "model_name": "LayoutModel",
      "state": {}
     },
     "90923192518f49d68f130faf5ea20ca4": {
      "model_module": "@jupyter-widgets/base",
      "model_module_version": "1.2.0",
      "model_name": "LayoutModel",
      "state": {
       "grid_gap": "5px 10px",
       "grid_template_columns": "100px auto",
       "grid_template_rows": "auto auto auto auto auto",
       "padding": "50px 0px 70px 0px",
       "width": "100%"
      }
     },
     "909e2666e145472580f4d9d4effd4b87": {
      "model_module": "@jupyter-widgets/controls",
      "model_module_version": "1.5.0",
      "model_name": "HTMLModel",
      "state": {
       "layout": "IPY_MODEL_679f7050733f4797b9981d312eb8bd68",
       "style": "IPY_MODEL_c70cef330ed34851a2b8bba915880392",
       "value": "<b>Thumbnail: </b> "
      }
     },
     "91119f2bbb464aa98bad140ee14d7417": {
      "model_module": "@jupyter-widgets/controls",
      "model_module_version": "1.5.0",
      "model_name": "HTMLModel",
      "state": {
       "layout": "IPY_MODEL_48b65bc13bd7442683ebab767a5c2870",
       "style": "IPY_MODEL_47b7607496504751855f48ed3a183055",
       "value": "<a href='https://github.com/ICOS-Carbon-Portal/jupyter/issues' target='_blank'>Click here to report an issue</a>"
      }
     },
     "9164015743a4485e81e81e6d26c2abd6": {
      "model_module": "@jupyter-widgets/controls",
      "model_module_version": "1.5.0",
      "model_name": "HTMLModel",
      "state": {
       "layout": "IPY_MODEL_74b85404755348d2a6beda0f68d1b639",
       "style": "IPY_MODEL_dbd36ce6aae24c4183bcce733d2eadd9",
       "value": "<img src=\"./icos_jupyter_notebooks/ind_tools/img/03_icos_JNBs/radiocarbon/example_bokeh.PNG\">"
      }
     },
     "9165aed429ef4045b28ecde6af3ed915": {
      "model_module": "@jupyter-widgets/controls",
      "model_module_version": "1.5.0",
      "model_name": "HTMLModel",
      "state": {
       "layout": "IPY_MODEL_cbd36e34450240678ba072464e26ef3e",
       "style": "IPY_MODEL_52df6400dd2b430cb89cecb3af7b662c",
       "value": "<a href=\"mailto: jupyter-info@icos-cp.eu\">jupyter-info@icos-cp.eu</a>"
      }
     },
     "9177cc3f32d7492dbeb8a7d6cf8e6a66": {
      "model_module": "@jupyter-widgets/controls",
      "model_module_version": "1.5.0",
      "model_name": "DescriptionStyleModel",
      "state": {
       "description_width": ""
      }
     },
     "91cfa6d515214ad7b6d3869962986ac3": {
      "model_module": "@jupyter-widgets/controls",
      "model_module_version": "1.5.0",
      "model_name": "DescriptionStyleModel",
      "state": {
       "description_width": ""
      }
     },
     "924039f83c0d4018bb21e9a162ffc77c": {
      "model_module": "@jupyter-widgets/controls",
      "model_module_version": "1.5.0",
      "model_name": "DescriptionStyleModel",
      "state": {
       "description_width": ""
      }
     },
     "925aa72c806d42f299a53c55d89f41a8": {
      "model_module": "@jupyter-widgets/base",
      "model_module_version": "1.2.0",
      "model_name": "LayoutModel",
      "state": {}
     },
     "926e504a2a3b4cf6ae3e5ddb761546f4": {
      "model_module": "@jupyter-widgets/base",
      "model_module_version": "1.2.0",
      "model_name": "LayoutModel",
      "state": {}
     },
     "92775ce204214b268ec94954984dc9d0": {
      "model_module": "@jupyter-widgets/base",
      "model_module_version": "1.2.0",
      "model_name": "LayoutModel",
      "state": {}
     },
     "929e28877a8d4f28aabe767282161750": {
      "model_module": "@jupyter-widgets/controls",
      "model_module_version": "1.5.0",
      "model_name": "HTMLModel",
      "state": {
       "layout": "IPY_MODEL_751ad8f92ceb46ae87aded038be730bb",
       "style": "IPY_MODEL_8b23db83be474d13afcfa7665d6cac1b",
       "value": "<a href=\"mailto: jupyter-info@icos-cp.eu\">jupyter-info@icos-cp.eu</a>, <a href=\"mailto: Maj-Lena.Linderson@nateko.lu.se\">Maj-Lena.Linderson@nateko.lu.se</a>"
      }
     },
     "92b5b71e48634e3c81b8706b2df58d4b": {
      "model_module": "@jupyter-widgets/base",
      "model_module_version": "1.2.0",
      "model_name": "LayoutModel",
      "state": {}
     },
     "92c7db163c8f44629544254337c06369": {
      "model_module": "@jupyter-widgets/controls",
      "model_module_version": "1.5.0",
      "model_name": "DescriptionStyleModel",
      "state": {
       "description_width": ""
      }
     },
     "92f6e3b528044442abb401add352b239": {
      "model_module": "@jupyter-widgets/controls",
      "model_module_version": "1.5.0",
      "model_name": "HTMLModel",
      "state": {
       "layout": "IPY_MODEL_b1965cca76f04c2d920a93b673311b65",
       "style": "IPY_MODEL_f0d5a0ea216a4a54a419f524b90e8dea",
       "value": "<a href='https://github.com/ICOS-Carbon-Portal/jupyter/issues' target='_blank'>Click here to report an issue</a>"
      }
     },
     "933330e8ddc849a5a1dfe8381694bc1d": {
      "model_module": "@jupyter-widgets/controls",
      "model_module_version": "1.5.0",
      "model_name": "DescriptionStyleModel",
      "state": {
       "description_width": ""
      }
     },
     "936c13e49fb8435dafabe6ba2c840c4e": {
      "model_module": "@jupyter-widgets/base",
      "model_module_version": "1.2.0",
      "model_name": "LayoutModel",
      "state": {}
     },
     "937bc0a36e6647fd941715f5ef60fc28": {
      "model_module": "@jupyter-widgets/controls",
      "model_module_version": "1.5.0",
      "model_name": "HTMLModel",
      "state": {
       "layout": "IPY_MODEL_0d905b3484b54678a505c2833a033dc3",
       "style": "IPY_MODEL_d026e71d182d4f00b02941d125298984",
       "value": "<img src=\"./icos_jupyter_notebooks/ind_tools/img/04_proj_JNBs/otc_drw/ex1.PNG\">"
      }
     },
     "9397f9988f234e9a8729d14c8b3e1163": {
      "model_module": "@jupyter-widgets/controls",
      "model_module_version": "1.5.0",
      "model_name": "DescriptionStyleModel",
      "state": {
       "description_width": ""
      }
     },
     "93a652c383f641b592632cbcd9b7dfaf": {
      "model_module": "@jupyter-widgets/base",
      "model_module_version": "1.2.0",
      "model_name": "LayoutModel",
      "state": {}
     },
     "93b1e1a9dccf4202a3537ac7645a14ef": {
      "model_module": "@jupyter-widgets/base",
      "model_module_version": "1.2.0",
      "model_name": "LayoutModel",
      "state": {}
     },
     "93e5d34d60e349b5ab139104546c3dcb": {
      "model_module": "@jupyter-widgets/base",
      "model_module_version": "1.2.0",
      "model_name": "LayoutModel",
      "state": {}
     },
     "9474511d811245cdb8ebc77667d95728": {
      "model_module": "@jupyter-widgets/controls",
      "model_module_version": "1.5.0",
      "model_name": "DescriptionStyleModel",
      "state": {
       "description_width": ""
      }
     },
     "94842f633d414e05b9b1e459f22a1085": {
      "model_module": "@jupyter-widgets/base",
      "model_module_version": "1.2.0",
      "model_name": "LayoutModel",
      "state": {}
     },
     "9487a831e254464aa06b12ffa645ce80": {
      "model_module": "@jupyter-widgets/controls",
      "model_module_version": "1.5.0",
      "model_name": "GridBoxModel",
      "state": {
       "children": [
        "IPY_MODEL_edd462060550462bb04d743a0166e351",
        "IPY_MODEL_bb15ff8d84144e4f83cb6789029033ff",
        "IPY_MODEL_da37fb5d4e8844889947eec5b873847e",
        "IPY_MODEL_f9f81364533643b793a2c333855f23fc",
        "IPY_MODEL_ed27ebba533642a7876abc76c3b00e1f",
        "IPY_MODEL_bc024840dc2b4235b8d337d5528dbae1",
        "IPY_MODEL_bf8f2ad959d44853a822e1fbecc7d865",
        "IPY_MODEL_c5441eed2c8d49d5ba2e30a1ff359185",
        "IPY_MODEL_7a854d3122ad40ffb1524fb00c0d189a",
        "IPY_MODEL_7ed5397f00fb46ca836f746785f438f3"
       ],
       "layout": "IPY_MODEL_2f22e4c9df744780b8a3d1e4e7b04591"
      }
     },
     "94a79796d88849348910b38cb8db93fa": {
      "model_module": "@jupyter-widgets/base",
      "model_module_version": "1.2.0",
      "model_name": "LayoutModel",
      "state": {}
     },
     "94c8a82d584e43cca78881151a48fc99": {
      "model_module": "@jupyter-widgets/controls",
      "model_module_version": "1.5.0",
      "model_name": "DescriptionStyleModel",
      "state": {
       "description_width": ""
      }
     },
     "94eb6d529d7c4fd0a88c3457407c3353": {
      "model_module": "@jupyter-widgets/controls",
      "model_module_version": "1.5.0",
      "model_name": "DescriptionStyleModel",
      "state": {
       "description_width": ""
      }
     },
     "953c6e2b739d4549a4ceab2ae60d6614": {
      "model_module": "@jupyter-widgets/base",
      "model_module_version": "1.2.0",
      "model_name": "LayoutModel",
      "state": {}
     },
     "95792ef29c09400db601322043365819": {
      "model_module": "@jupyter-widgets/controls",
      "model_module_version": "1.5.0",
      "model_name": "HTMLModel",
      "state": {
       "layout": "IPY_MODEL_bfe4755c8c3a42ad886bad614195e675",
       "style": "IPY_MODEL_dd880b73efd54a3785006f52281889a6",
       "value": "<b>Contact: </b> "
      }
     },
     "95e53d61fa0644f3b60a4a4846475942": {
      "model_module": "@jupyter-widgets/controls",
      "model_module_version": "1.5.0",
      "model_name": "DescriptionStyleModel",
      "state": {
       "description_width": ""
      }
     },
     "9605b8a0d4a64e34babed4068c1f04f7": {
      "model_module": "@jupyter-widgets/base",
      "model_module_version": "1.2.0",
      "model_name": "LayoutModel",
      "state": {}
     },
     "960dd07966544527ba7d272453a8b245": {
      "model_module": "@jupyter-widgets/controls",
      "model_module_version": "1.5.0",
      "model_name": "DescriptionStyleModel",
      "state": {
       "description_width": ""
      }
     },
     "96117b48b2164a9e858f911afd0a02e1": {
      "model_module": "@jupyter-widgets/controls",
      "model_module_version": "1.5.0",
      "model_name": "DescriptionStyleModel",
      "state": {
       "description_width": ""
      }
     },
     "965104bdff5c48b0a9991ed64cbe2e0f": {
      "model_module": "@jupyter-widgets/controls",
      "model_module_version": "1.5.0",
      "model_name": "DescriptionStyleModel",
      "state": {
       "description_width": ""
      }
     },
     "9682dec3a5ab4529ab1c224979fbc281": {
      "model_module": "@jupyter-widgets/controls",
      "model_module_version": "1.5.0",
      "model_name": "HTMLModel",
      "state": {
       "layout": "IPY_MODEL_a0deb7a1031740e1ab2c73006b9e7465",
       "style": "IPY_MODEL_132a61c7420946f6adde1c734372a0ac",
       "value": "<b>Contact: </b> "
      }
     },
     "96cf224ee027487abd0a05f11ff17902": {
      "model_module": "@jupyter-widgets/base",
      "model_module_version": "1.2.0",
      "model_name": "LayoutModel",
      "state": {}
     },
     "96ded38333e04fcc845ce22dc956df9d": {
      "model_module": "@jupyter-widgets/base",
      "model_module_version": "1.2.0",
      "model_name": "LayoutModel",
      "state": {}
     },
     "96e4290098fc43e0b3c1c4cc4b88d71a": {
      "model_module": "@jupyter-widgets/controls",
      "model_module_version": "1.5.0",
      "model_name": "HTMLModel",
      "state": {
       "layout": "IPY_MODEL_f43aa6ca6f884b60ac4ea6f5d823371e",
       "style": "IPY_MODEL_7cf75ed6167e482b88126b867c8d69d1",
       "value": "<b>Title: </b> "
      }
     },
     "97182910d9894f1aae7feb930fc05b56": {
      "model_module": "@jupyter-widgets/base",
      "model_module_version": "1.2.0",
      "model_name": "LayoutModel",
      "state": {}
     },
     "9757017402354415b32ce3071bc05ce0": {
      "model_module": "@jupyter-widgets/controls",
      "model_module_version": "1.5.0",
      "model_name": "HTMLModel",
      "state": {
       "layout": "IPY_MODEL_8d36109dd38446a39df6ed7c367ed0c4",
       "style": "IPY_MODEL_d54edf5b641844d6be3420392b9f8558",
       "value": "<a href='https://github.com/ICOS-Carbon-Portal/jupyter/issues' target='_blank'>Click here to report an issue</a>"
      }
     },
     "979333b871ab473e966e0b2430ff851a": {
      "model_module": "@jupyter-widgets/controls",
      "model_module_version": "1.5.0",
      "model_name": "HTMLModel",
      "state": {
       "layout": "IPY_MODEL_823d82a17f5d425887221231646c0c76",
       "style": "IPY_MODEL_9a85b01c0bb54c3bb37303ad665aff33",
       "value": "<b>Title: </b> "
      }
     },
     "979b711040da40e399179f226cae8f30": {
      "model_module": "@jupyter-widgets/base",
      "model_module_version": "1.2.0",
      "model_name": "LayoutModel",
      "state": {}
     },
     "987e3e1b7cdb4b76ba22cc4981b6944a": {
      "model_module": "@jupyter-widgets/base",
      "model_module_version": "1.2.0",
      "model_name": "LayoutModel",
      "state": {}
     },
     "988728ad88014b9488cc1cbf84e0dc91": {
      "model_module": "@jupyter-widgets/base",
      "model_module_version": "1.2.0",
      "model_name": "LayoutModel",
      "state": {}
     },
     "988766006712436b879d8cfd689f0d5a": {
      "model_module": "@jupyter-widgets/controls",
      "model_module_version": "1.5.0",
      "model_name": "HTMLModel",
      "state": {
       "layout": "IPY_MODEL_1e8e40179b824912b34392fccb0d0933",
       "style": "IPY_MODEL_6832b4645af742e9b04a888c3bdba7ab",
       "value": "<b>Thumbnail: </b> "
      }
     },
     "98967a802ef44af1a13f4669107b9bab": {
      "model_module": "@jupyter-widgets/controls",
      "model_module_version": "1.5.0",
      "model_name": "GridBoxModel",
      "state": {
       "children": [
        "IPY_MODEL_0633c8d49ed24873bf16733c9bb18dfa",
        "IPY_MODEL_ea25726d612949a88692eea15b59a970",
        "IPY_MODEL_db1e91d43df44f2297c3d4ba9eff5e7f",
        "IPY_MODEL_212bad923cbe404c8a45071a61bc38b6",
        "IPY_MODEL_a615b17d00fa49d8aab0b33977aa91f9",
        "IPY_MODEL_31d688cb56eb48ffbb76dd1bd9369e3b",
        "IPY_MODEL_d11079f8966e4d8787976ce7ee2cc3bb",
        "IPY_MODEL_e410f64e128f4109a121ec79fdd1346d",
        "IPY_MODEL_2877217c1bec4acbbc3c63909a246fde",
        "IPY_MODEL_24f689355c714c25995f159564c220b6"
       ],
       "layout": "IPY_MODEL_812768ca08ad41818248f7a61b9c5122"
      }
     },
     "98ff4aed3fd84547b0244773c4e6684b": {
      "model_module": "@jupyter-widgets/base",
      "model_module_version": "1.2.0",
      "model_name": "LayoutModel",
      "state": {}
     },
     "99417520762d4c9187d7b7611c52f45b": {
      "model_module": "@jupyter-widgets/controls",
      "model_module_version": "1.5.0",
      "model_name": "HTMLModel",
      "state": {
       "layout": "IPY_MODEL_03a5f101e872454eb2ebfbabfd0d8487",
       "style": "IPY_MODEL_537f931a5d504899b88722d0460a5dfe",
       "value": "<b>Description: </b> "
      }
     },
     "9966c23817e54583ad7c62607dc13542": {
      "model_module": "@jupyter-widgets/controls",
      "model_module_version": "1.5.0",
      "model_name": "DescriptionStyleModel",
      "state": {
       "description_width": ""
      }
     },
     "997bdab938b6481b85fea9c30b612d5d": {
      "model_module": "@jupyter-widgets/controls",
      "model_module_version": "1.5.0",
      "model_name": "AccordionModel",
      "state": {
       "_titles": {
        "0": "Upscaling carbon fluxes"
       },
       "children": [
        "IPY_MODEL_ae8cd59ab52a4a388ae9680a8074837b"
       ],
       "layout": "IPY_MODEL_3e3c36aa6a254204a5e44e2793063552",
       "selected_index": null
      }
     },
     "99a8c434939348d5b6ed6857b494503c": {
      "model_module": "@jupyter-widgets/base",
      "model_module_version": "1.2.0",
      "model_name": "LayoutModel",
      "state": {}
     },
     "99a90455545b4c91a465105fbcf081a0": {
      "model_module": "@jupyter-widgets/controls",
      "model_module_version": "1.5.0",
      "model_name": "HTMLModel",
      "state": {
       "layout": "IPY_MODEL_04c45b557a2b4e9190bf7376f1bfd6b2",
       "style": "IPY_MODEL_9e2f4b8dcffe46dbbef31a46c87e3119",
       "value": "<a href=./project_jupyter_notebooks/envrifair_winterschool/map/exercise3_station.ipynb target='_blank'>Exercise 3 - Research Station Map</a>"
      }
     },
     "99aff9b9abfb4173933ba3f35dca50af": {
      "model_module": "@jupyter-widgets/controls",
      "model_module_version": "1.5.0",
      "model_name": "DescriptionStyleModel",
      "state": {
       "description_width": ""
      }
     },
     "99d312fe3bf2496fac2b8a869d050ae5": {
      "model_module": "@jupyter-widgets/controls",
      "model_module_version": "1.5.0",
      "model_name": "DescriptionStyleModel",
      "state": {
       "description_width": ""
      }
     },
     "99d761bd206842c8b5e257b4f1803647": {
      "model_module": "@jupyter-widgets/controls",
      "model_module_version": "1.5.0",
      "model_name": "GridBoxModel",
      "state": {
       "children": [
        "IPY_MODEL_23c862e10afd421b86c20590df632ef9",
        "IPY_MODEL_87e6bcf5b07b417589460ea4e0f6f4e9",
        "IPY_MODEL_2e3ac3e5c9e9475ea015d32eb9b19a69",
        "IPY_MODEL_66b4dbf120004a4a88d38aa6160b0ece",
        "IPY_MODEL_b89919a860374c169053c1029cb016bc",
        "IPY_MODEL_5e245ea97f524376832daba3917cdb44",
        "IPY_MODEL_7a065a92895d4fefbc4b31f701cdfa50",
        "IPY_MODEL_a9cf27660a1a48cf97d14e50e0588461",
        "IPY_MODEL_563038d2d13e4748afb09f3ec8f167fb",
        "IPY_MODEL_ec2dabc7cc4c4ad69652c95318116b89"
       ],
       "layout": "IPY_MODEL_ddcf212e9dbc4ac08c7334c8e5b1b33f"
      }
     },
     "99f29b0c0e3d451a82079f411fdd14c2": {
      "model_module": "@jupyter-widgets/controls",
      "model_module_version": "1.5.0",
      "model_name": "HTMLModel",
      "state": {
       "layout": "IPY_MODEL_52cea513770f40fd830a551bc53e11db",
       "style": "IPY_MODEL_115e3a9a32f541d8b85c2cf7f540c5d4",
       "value": "<a href=./icos_jupyter_notebooks/icos_atmObs_statistics.ipynb target='_blank'>ICOS atmospheric observation statistics</a>"
      }
     },
     "99fa16f1aa374e178eaf440704063542": {
      "model_module": "@jupyter-widgets/base",
      "model_module_version": "1.2.0",
      "model_name": "LayoutModel",
      "state": {}
     },
     "99fd518b08ce43df907ad23e22f95bff": {
      "model_module": "@jupyter-widgets/controls",
      "model_module_version": "1.5.0",
      "model_name": "DescriptionStyleModel",
      "state": {
       "description_width": ""
      }
     },
     "9a0b6649c51541e1bd37fc428c86d98b": {
      "model_module": "@jupyter-widgets/controls",
      "model_module_version": "1.5.0",
      "model_name": "HTMLModel",
      "state": {
       "layout": "IPY_MODEL_a7987af8bca34fcdb169c01e19730c77",
       "style": "IPY_MODEL_4108b7acd7dd489590f7e4c08923808d",
       "value": "<a href=./education/PhD/upscaling_carbon_fluxes/notebooks/exercise2.ipynb target='_blank'>Vegetation modelling & inverse modelling</a>"
      }
     },
     "9a3ccaba36bc488480ce17098f683071": {
      "model_module": "@jupyter-widgets/controls",
      "model_module_version": "1.5.0",
      "model_name": "DescriptionStyleModel",
      "state": {
       "description_width": ""
      }
     },
     "9a85b01c0bb54c3bb37303ad665aff33": {
      "model_module": "@jupyter-widgets/controls",
      "model_module_version": "1.5.0",
      "model_name": "DescriptionStyleModel",
      "state": {
       "description_width": ""
      }
     },
     "9a9e02c61c2a40ffbdf82b3ad0ecabaa": {
      "model_module": "@jupyter-widgets/controls",
      "model_module_version": "1.5.0",
      "model_name": "DescriptionStyleModel",
      "state": {
       "description_width": ""
      }
     },
     "9a9e2b81ae6c4f519d2d90740eaef82f": {
      "model_module": "@jupyter-widgets/controls",
      "model_module_version": "1.5.0",
      "model_name": "DescriptionStyleModel",
      "state": {
       "description_width": ""
      }
     },
     "9aa59e19fe5e483e8f8a6f7ac09ca9df": {
      "model_module": "@jupyter-widgets/controls",
      "model_module_version": "1.5.0",
      "model_name": "GridBoxModel",
      "state": {
       "children": [
        "IPY_MODEL_480e63df628b4ac4998690aaab2ba1fc",
        "IPY_MODEL_2a768e1058a2419e9e89316f13df4ef9",
        "IPY_MODEL_7697d32a478442989738d3ee061c6f60",
        "IPY_MODEL_cb107d4ed1764208a0d62956bf1cd7e7",
        "IPY_MODEL_a7627f4d5827478286482dab6564b93a",
        "IPY_MODEL_a2559e7f6bb94f07bcb7e3fbcefade62",
        "IPY_MODEL_84d298508dd84e49b999400df553f03c",
        "IPY_MODEL_894b67cc50c54647a9535d857e2b952b",
        "IPY_MODEL_cf1b4a481a824c8d9ff55edf186903e6",
        "IPY_MODEL_b0a07caeacd44ac2a9422ccae8482f1b"
       ],
       "layout": "IPY_MODEL_8f700abcfc6e43c49c4b68d8b2563d1d"
      }
     },
     "9b0b0f69c47e4a6d879a52f857601830": {
      "model_module": "@jupyter-widgets/controls",
      "model_module_version": "1.5.0",
      "model_name": "HTMLModel",
      "state": {
       "layout": "IPY_MODEL_f1faffc7196f401bb716b3097ef365de",
       "style": "IPY_MODEL_aa9901d6699e4d948f0e2b0d0747f93c",
       "value": "This Jupyter Notebook is dedicated to explaining the carbon cycle and focuses on topics regarding daily and yearly fluctuations in the concentration of carbon dioxide. It contains definitions, short descriptions, figures and animations that describe the following terms: <b>carbon dioxide</b>, <b>carbon cycle</b>, <b>carbon sinks</b> and <b>carbon sources</b>. You will be able to test your knowledge on carbon by taking the <i>Carbon Challenge Quiz</i>. In order to better comprehend the carbon cycle, the notebook also includes exercises using ICOS data from Svartberget research station in Sweden. The exercises are based on topics related to the uptake and release of carbon dioxide amongst different parts of an ecosystem."
      }
     },
     "9b38fdf9fde34ddfae77cf33ff5a907c": {
      "model_module": "@jupyter-widgets/controls",
      "model_module_version": "1.5.0",
      "model_name": "DescriptionStyleModel",
      "state": {
       "description_width": ""
      }
     },
     "9bbf413af6a242138a605a461d821bd4": {
      "model_module": "@jupyter-widgets/controls",
      "model_module_version": "1.5.0",
      "model_name": "DescriptionStyleModel",
      "state": {
       "description_width": ""
      }
     },
     "9beac58f6c804136a15ce7d4604a824e": {
      "model_module": "@jupyter-widgets/base",
      "model_module_version": "1.2.0",
      "model_name": "LayoutModel",
      "state": {}
     },
     "9bf88fa97761433c8ddce5a190d3f2f9": {
      "model_module": "@jupyter-widgets/base",
      "model_module_version": "1.2.0",
      "model_name": "LayoutModel",
      "state": {
       "grid_gap": "5px 10px",
       "grid_template_columns": "auto",
       "grid_template_rows": "auto",
       "padding": "5px 0px 5px 0px",
       "width": "100%"
      }
     },
     "9c298bc7a8db408e808e46cc627ac162": {
      "model_module": "@jupyter-widgets/base",
      "model_module_version": "1.2.0",
      "model_name": "LayoutModel",
      "state": {}
     },
     "9c9f898c2225477e8de868d1730ecaf2": {
      "model_module": "@jupyter-widgets/controls",
      "model_module_version": "1.5.0",
      "model_name": "DescriptionStyleModel",
      "state": {
       "description_width": ""
      }
     },
     "9ccdbfa81b5c4ac0911e5604b2cd3789": {
      "model_module": "@jupyter-widgets/controls",
      "model_module_version": "1.5.0",
      "model_name": "GridBoxModel",
      "state": {
       "children": [
        "IPY_MODEL_79215a13a0c341f58f58da5e7fd5dbb7",
        "IPY_MODEL_41ad40e713434f89af0070fbaa0a0f19"
       ],
       "layout": "IPY_MODEL_9bf88fa97761433c8ddce5a190d3f2f9"
      }
     },
     "9cd6a70904bf4eaa8a84f798fedb65ad": {
      "model_module": "@jupyter-widgets/controls",
      "model_module_version": "1.5.0",
      "model_name": "DescriptionStyleModel",
      "state": {
       "description_width": ""
      }
     },
     "9cfbae4298574832aefc94a31e5b9b70": {
      "model_module": "@jupyter-widgets/controls",
      "model_module_version": "1.5.0",
      "model_name": "DescriptionStyleModel",
      "state": {
       "description_width": ""
      }
     },
     "9d32ea29216e4461bb8300f4743046c7": {
      "model_module": "@jupyter-widgets/controls",
      "model_module_version": "1.5.0",
      "model_name": "AccordionModel",
      "state": {
       "_titles": {
        "0": "Carbon cycle & drought",
        "1": "Carbon cycle - Hyltemossa",
        "2": "Carbon cycle - Svartberget"
       },
       "children": [
        "IPY_MODEL_1a007117351549cd83bb82099e4b04a0",
        "IPY_MODEL_b8ad553c2c514ecfadb24dff27238f99",
        "IPY_MODEL_eb83a55579204e14967ea7952576dc68"
       ],
       "layout": "IPY_MODEL_e209cfcb814744fdbe7d8828565e680b",
       "selected_index": null
      }
     },
     "9d9bc3abf8754177873fdff61be8af4e": {
      "model_module": "@jupyter-widgets/base",
      "model_module_version": "1.2.0",
      "model_name": "LayoutModel",
      "state": {}
     },
     "9da0797d9a054d9b979c2121eb6754cc": {
      "model_module": "@jupyter-widgets/controls",
      "model_module_version": "1.5.0",
      "model_name": "HTMLModel",
      "state": {
       "layout": "IPY_MODEL_63c44c23bca24444a7de97f33433b43c",
       "style": "IPY_MODEL_5e77a04641cf47a1882c8ea2f992ae2c",
       "value": "<a href='https://github.com/ICOS-Carbon-Portal/jupyter/issues' target='_blank'>Click here to report an issue</a>"
      }
     },
     "9da2f668ad464a4c82a8731fec6d129d": {
      "model_module": "@jupyter-widgets/controls",
      "model_module_version": "1.5.0",
      "model_name": "DescriptionStyleModel",
      "state": {
       "description_width": ""
      }
     },
     "9daedee2a7ef4ca082e294cf023ebfcd": {
      "model_module": "@jupyter-widgets/controls",
      "model_module_version": "1.5.0",
      "model_name": "HTMLModel",
      "state": {
       "layout": "IPY_MODEL_64f003918bda4d44b414602e3d53c88e",
       "style": "IPY_MODEL_9177cc3f32d7492dbeb8a7d6cf8e6a66",
       "value": "<b>GitHub: </b> "
      }
     },
     "9dcd305becbf4997929904fe07c27fac": {
      "model_module": "@jupyter-widgets/controls",
      "model_module_version": "1.5.0",
      "model_name": "DescriptionStyleModel",
      "state": {
       "description_width": ""
      }
     },
     "9e1699ab70e64d70815f82256d3d6891": {
      "model_module": "@jupyter-widgets/controls",
      "model_module_version": "1.5.0",
      "model_name": "HTMLModel",
      "state": {
       "layout": "IPY_MODEL_26c9633e39404e62a1cc7e6bf1158cda",
       "style": "IPY_MODEL_a655a75666004f4eb8be48ae9ce40b2f",
       "value": "<img src=\"./icos_jupyter_notebooks/ind_tools/img/05_education/phd/ucf/ex4/edgar_ff.PNG\">"
      }
     },
     "9e2f4b8dcffe46dbbef31a46c87e3119": {
      "model_module": "@jupyter-widgets/controls",
      "model_module_version": "1.5.0",
      "model_name": "DescriptionStyleModel",
      "state": {
       "description_width": ""
      }
     },
     "9ea939370b214241949c4849fceaaae3": {
      "model_module": "@jupyter-widgets/controls",
      "model_module_version": "1.5.0",
      "model_name": "HTMLModel",
      "state": {
       "layout": "IPY_MODEL_93e5d34d60e349b5ab139104546c3dcb",
       "style": "IPY_MODEL_7ef84050632b4c8ca3839b3036200910",
       "value": "<a href=\"mailto: jupyter-info@icos-cp.eu\">jupyter-info@icos-cp.eu</a>, <a href=\"mailto: claudio.donofrio@nateko.lu.se\">claudio.donofrio@nateko.lu.se</a>"
      }
     },
     "9ead4d28c32e4b019090053c568c5d6d": {
      "model_module": "@jupyter-widgets/base",
      "model_module_version": "1.2.0",
      "model_name": "LayoutModel",
      "state": {}
     },
     "9f26e6c4c6944f669b5360c4414a1e98": {
      "model_module": "@jupyter-widgets/base",
      "model_module_version": "1.2.0",
      "model_name": "LayoutModel",
      "state": {}
     },
     "9f30bfc524d344729635479a150ce908": {
      "model_module": "@jupyter-widgets/controls",
      "model_module_version": "1.5.0",
      "model_name": "DescriptionStyleModel",
      "state": {
       "description_width": ""
      }
     },
     "9f57343186bf41c7ac8d6f5f1674f339": {
      "model_module": "@jupyter-widgets/controls",
      "model_module_version": "1.5.0",
      "model_name": "HTMLModel",
      "state": {
       "layout": "IPY_MODEL_7d68fdd55c934c568bc3e8d18d17b88c",
       "style": "IPY_MODEL_436c104703a64f94ba6e210a98a04835",
       "value": "<img src=\"./icos_jupyter_notebooks/ind_tools/img/03_icos_JNBs/avg_fp_viz/gui.PNG\">"
      }
     },
     "9f7a53ea6b4340f18a12b2703d966a96": {
      "model_module": "@jupyter-widgets/controls",
      "model_module_version": "1.5.0",
      "model_name": "HTMLModel",
      "state": {
       "layout": "IPY_MODEL_28f75b43ce154c4facdec4f32c9419c8",
       "style": "IPY_MODEL_2cb7865629ea44b29588044b0824c0e7",
       "value": "<a href=\"mailto: jupyter-info@icos-cp.eu\">jupyter-info@icos-cp.eu</a>"
      }
     },
     "9fc1418ae6044150ac6c768679cdbde6": {
      "model_module": "@jupyter-widgets/controls",
      "model_module_version": "1.5.0",
      "model_name": "HTMLModel",
      "state": {
       "layout": "IPY_MODEL_7634cb37f159439db867b347992f8906",
       "style": "IPY_MODEL_43a2c4ab6d6d4fba993f39fafbdc280b",
       "value": "<a href='https://github.com/ICOS-Carbon-Portal/jupyter/issues' target='_blank'>Click here to report an issue</a>"
      }
     },
     "9feb4c979d414c3cacfd59db5c914716": {
      "model_module": "@jupyter-widgets/controls",
      "model_module_version": "1.5.0",
      "model_name": "DescriptionStyleModel",
      "state": {
       "description_width": ""
      }
     },
     "a09c7d4fee034740bb6fca78ef8f37e9": {
      "model_module": "@jupyter-widgets/controls",
      "model_module_version": "1.5.0",
      "model_name": "HTMLModel",
      "state": {
       "layout": "IPY_MODEL_583cfc76f0cc40088d84de21e45a3428",
       "style": "IPY_MODEL_e893d4b3f9be4f8bb24077b0ea61029d",
       "value": "In this Jupyter notebook, we will plot all ICOS Research Stations on an interactive map."
      }
     },
     "a0c1a77579cb467689296b65bf6849fe": {
      "model_module": "@jupyter-widgets/base",
      "model_module_version": "1.2.0",
      "model_name": "LayoutModel",
      "state": {}
     },
     "a0deb7a1031740e1ab2c73006b9e7465": {
      "model_module": "@jupyter-widgets/base",
      "model_module_version": "1.2.0",
      "model_name": "LayoutModel",
      "state": {}
     },
     "a0f9928cf2f34b17813d4ab0464bbdc7": {
      "model_module": "@jupyter-widgets/controls",
      "model_module_version": "1.5.0",
      "model_name": "HTMLModel",
      "state": {
       "layout": "IPY_MODEL_3d6fe06bfa8749e5b8087a57b035310b",
       "style": "IPY_MODEL_012d7abfa25c4586a821f8261d7aab4b",
       "value": "This is a test version of a Jupyter notebook to present some principles of diffusion of 𝐶𝑂2 in the soil. The exercise also introduces Jupyter Notebook as an working environment. This notebook combines (explaining) text with coding cells that contain the simulation model."
      }
     },
     "a110415f0af54c35a7659f17c2b94ef2": {
      "model_module": "@jupyter-widgets/controls",
      "model_module_version": "1.5.0",
      "model_name": "HTMLModel",
      "state": {
       "layout": "IPY_MODEL_19e383dcc5a944cfb8b29de4104b8060",
       "style": "IPY_MODEL_bd71680b9cfa49c999f9639f813b2abd",
       "value": "<img src=\"./icos_jupyter_notebooks/ind_tools/img/04_proj_JNBs/ringo_t1_3/fossilfuel_gui.PNG\">"
      }
     },
     "a117fe14e99c4062a6df358f467640f7": {
      "model_module": "@jupyter-widgets/controls",
      "model_module_version": "1.5.0",
      "model_name": "HTMLModel",
      "state": {
       "layout": "IPY_MODEL_81e123f4de854aeca4061b65e44a8306",
       "style": "IPY_MODEL_29d67aafda72471d97502f5d66e477f0",
       "value": "This notebook includes examples of curve fitting methods for time series. For more detailed information regarding the implemented methods visit NOAA. The curve fitting methods are applied over CO2 measurements from ICOS stations as well as a selection of non-ICOS stations. Data from all stations are included in the Drought 2018 Atmospheric Product (part of the Drought 2018 Project) which is stored and can be downloaded from the ICOS Carbon Portal."
      }
     },
     "a11b90b47ce449d6b3d1dad39baa0b27": {
      "model_module": "@jupyter-widgets/controls",
      "model_module_version": "1.5.0",
      "model_name": "GridBoxModel",
      "state": {
       "children": [
        "IPY_MODEL_96e4290098fc43e0b3c1c4cc4b88d71a",
        "IPY_MODEL_4a42afec605d4a158f827cd387db8b70",
        "IPY_MODEL_8e558ca69a924981a662aa713d70fe1a",
        "IPY_MODEL_a585857e49264e83b72e68b1930a6beb",
        "IPY_MODEL_f3eb3bda52594f4eb3b905b6d8c4fa4b",
        "IPY_MODEL_a182b3f1d23a4d279a89b77ffe487010",
        "IPY_MODEL_78cf449b58f84af0a2e5113ab659bd75",
        "IPY_MODEL_f70b87f7f8f2483e877c7f5e0aadf40d",
        "IPY_MODEL_10a1b0abeee24981b214436b815dd26b",
        "IPY_MODEL_2c9277c9e4d44561a84d662f720cbdfc"
       ],
       "layout": "IPY_MODEL_d9b2c4fcb46f4c0d8d8583351968c394"
      }
     },
     "a12e08e9ae564b4fa27cdac32b25bb7e": {
      "model_module": "@jupyter-widgets/base",
      "model_module_version": "1.2.0",
      "model_name": "LayoutModel",
      "state": {}
     },
     "a16bdd0e0aca4326b8e1ba1b3769b5ef": {
      "model_module": "@jupyter-widgets/base",
      "model_module_version": "1.2.0",
      "model_name": "LayoutModel",
      "state": {}
     },
     "a182b3f1d23a4d279a89b77ffe487010": {
      "model_module": "@jupyter-widgets/controls",
      "model_module_version": "1.5.0",
      "model_name": "HTMLModel",
      "state": {
       "layout": "IPY_MODEL_d22a16cd73874bd7a701f82feae5004e",
       "style": "IPY_MODEL_ec3c957babc74c58b0b9e4ea3499849e",
       "value": "<a href=\"mailto: jupyter-info@icos-cp.eu\">jupyter-info@icos-cp.eu</a>"
      }
     },
     "a1931692d21c463d96c82366449061ad": {
      "model_module": "@jupyter-widgets/base",
      "model_module_version": "1.2.0",
      "model_name": "LayoutModel",
      "state": {}
     },
     "a1b51d5c95774ccbac4bb87438b87080": {
      "model_module": "@jupyter-widgets/base",
      "model_module_version": "1.2.0",
      "model_name": "LayoutModel",
      "state": {}
     },
     "a1efe3cd694f471eac1409405ff3c49d": {
      "model_module": "@jupyter-widgets/controls",
      "model_module_version": "1.5.0",
      "model_name": "DescriptionStyleModel",
      "state": {
       "description_width": ""
      }
     },
     "a215e433e72946eb8c7c107e22868b34": {
      "model_module": "@jupyter-widgets/base",
      "model_module_version": "1.2.0",
      "model_name": "LayoutModel",
      "state": {}
     },
     "a2559e7f6bb94f07bcb7e3fbcefade62": {
      "model_module": "@jupyter-widgets/controls",
      "model_module_version": "1.5.0",
      "model_name": "HTMLModel",
      "state": {
       "layout": "IPY_MODEL_5c37bf28c94045a5a950507846d60366",
       "style": "IPY_MODEL_6d3b1dd78d6a44f4a195f39884ed0476",
       "value": "<a href=\"mailto: jupyter-info@icos-cp.eu\">jupyter-info@icos-cp.eu</a>, <a href=\"mailto: claudio.donofrio@nateko.lu.se\">claudio.donofrio@nateko.lu.se</a>"
      }
     },
     "a279cdaa6e754a31ad7e20533c4595f9": {
      "model_module": "@jupyter-widgets/base",
      "model_module_version": "1.2.0",
      "model_name": "LayoutModel",
      "state": {}
     },
     "a2c5ce94d9b74960b90f5d303b704b61": {
      "model_module": "@jupyter-widgets/controls",
      "model_module_version": "1.5.0",
      "model_name": "DescriptionStyleModel",
      "state": {
       "description_width": ""
      }
     },
     "a2e12e62c4284b0ab191c04ffb7f3277": {
      "model_module": "@jupyter-widgets/base",
      "model_module_version": "1.2.0",
      "model_name": "LayoutModel",
      "state": {}
     },
     "a2ee563dfcc842718a472d2895c4af7f": {
      "model_module": "@jupyter-widgets/base",
      "model_module_version": "1.2.0",
      "model_name": "LayoutModel",
      "state": {}
     },
     "a2f0257a6a3d469b850073eef3e49cfc": {
      "model_module": "@jupyter-widgets/base",
      "model_module_version": "1.2.0",
      "model_name": "LayoutModel",
      "state": {
       "grid_gap": "5px 10px",
       "grid_template_columns": "100px auto",
       "grid_template_rows": "auto auto auto auto auto",
       "padding": "50px 0px 70px 0px",
       "width": "100%"
      }
     },
     "a35266390fe84d16a2bce6249cc5b589": {
      "model_module": "@jupyter-widgets/controls",
      "model_module_version": "1.5.0",
      "model_name": "DescriptionStyleModel",
      "state": {
       "description_width": ""
      }
     },
     "a388c2cff7114e25b7175e60f1400776": {
      "model_module": "@jupyter-widgets/base",
      "model_module_version": "1.2.0",
      "model_name": "LayoutModel",
      "state": {}
     },
     "a3f83bc3bcde48679b35b2492ca67216": {
      "model_module": "@jupyter-widgets/controls",
      "model_module_version": "1.5.0",
      "model_name": "HTMLModel",
      "state": {
       "layout": "IPY_MODEL_e7d207d8f49d48f4bb9552637389f238",
       "style": "IPY_MODEL_06d817b2f05e4634b42af6f9b523b99d",
       "value": "This Jupyter notebook provides analyses of <a href='http://stilt-model.org/index.php/Main/HomePage' target='_blank'>STILT model</a> results and <a href='https://www.icos-cp.eu/data-products' target='_blank'>ICOS measurement time series</a> to develop and test a dedicated strategy for flask sampling with an automated sampler."
      }
     },
     "a40b0681eeb04e0b96e29b51c70deedf": {
      "model_module": "@jupyter-widgets/controls",
      "model_module_version": "1.5.0",
      "model_name": "DescriptionStyleModel",
      "state": {
       "description_width": ""
      }
     },
     "a42169e7360e4b5ca1f260ce25096579": {
      "model_module": "@jupyter-widgets/controls",
      "model_module_version": "1.5.0",
      "model_name": "DescriptionStyleModel",
      "state": {
       "description_width": ""
      }
     },
     "a4290de4f6f44ff3801a8a7d40d63944": {
      "model_module": "@jupyter-widgets/controls",
      "model_module_version": "1.5.0",
      "model_name": "DescriptionStyleModel",
      "state": {
       "description_width": ""
      }
     },
     "a42f8444a4bf414e9d1ec4204f55d84e": {
      "model_module": "@jupyter-widgets/base",
      "model_module_version": "1.2.0",
      "model_name": "LayoutModel",
      "state": {}
     },
     "a496ca2051bd4bbd84880e01cbe446ab": {
      "model_module": "@jupyter-widgets/controls",
      "model_module_version": "1.5.0",
      "model_name": "HTMLModel",
      "state": {
       "layout": "IPY_MODEL_7dba236fe54549de8b9dd0ff3c8de79f",
       "style": "IPY_MODEL_c1cfef567bdc4aafb8240685e19a2efc",
       "value": "<b>Description: </b> "
      }
     },
     "a4e0475dfb2c4a79b12d33cf47b5adcd": {
      "model_module": "@jupyter-widgets/base",
      "model_module_version": "1.2.0",
      "model_name": "LayoutModel",
      "state": {}
     },
     "a4eabc987fdc4a8e9bba5767ec92849a": {
      "model_module": "@jupyter-widgets/base",
      "model_module_version": "1.2.0",
      "model_name": "LayoutModel",
      "state": {}
     },
     "a4fc48cc475b4510ae56bc3720a2906e": {
      "model_module": "@jupyter-widgets/controls",
      "model_module_version": "1.5.0",
      "model_name": "DescriptionStyleModel",
      "state": {
       "description_width": ""
      }
     },
     "a51f4fd884124585bd22bafa335df8c1": {
      "model_module": "@jupyter-widgets/controls",
      "model_module_version": "1.5.0",
      "model_name": "HTMLModel",
      "state": {
       "layout": "IPY_MODEL_6e9537e49e59457892abe4d78f1c84d8",
       "style": "IPY_MODEL_53084c2f015040f4bdfc4be49dd14b54",
       "value": "This category includes notebooks that use ICOS data to introduce students to basic principles of climate science and programming."
      }
     },
     "a535cc7c82004e56a79eb5e18bbe52bb": {
      "model_module": "@jupyter-widgets/controls",
      "model_module_version": "1.5.0",
      "model_name": "GridBoxModel",
      "state": {
       "children": [
        "IPY_MODEL_41b1bb07592144088a91b70a20537667",
        "IPY_MODEL_d7e18b5b53de4fd8b07a0d3b08caa850",
        "IPY_MODEL_bbe4a3d89f0e46448e94766f94b52cf5",
        "IPY_MODEL_69a20a9559284e8c8bca1ba43dc66ac8",
        "IPY_MODEL_38129718ca964845882071145ac607e1",
        "IPY_MODEL_ae2b3769cf864328bdf503f8dc08e80e",
        "IPY_MODEL_d0aaa96f88ac446c901fa65199545c45",
        "IPY_MODEL_42256575840d42e9884fb6f09e2ac233",
        "IPY_MODEL_2bef9c105102452d9698e4007f651b87",
        "IPY_MODEL_401c181381ff4f33b39e0d4520cbc4a5"
       ],
       "layout": "IPY_MODEL_158333748f8143599f3312b4888ef2c0"
      }
     },
     "a5606e7b7b3d4bff9e0d4736b5a51ed7": {
      "model_module": "@jupyter-widgets/base",
      "model_module_version": "1.2.0",
      "model_name": "LayoutModel",
      "state": {}
     },
     "a574d10a09584fe4be11aaa05aa86c58": {
      "model_module": "@jupyter-widgets/controls",
      "model_module_version": "1.5.0",
      "model_name": "DescriptionStyleModel",
      "state": {
       "description_width": ""
      }
     },
     "a585857e49264e83b72e68b1930a6beb": {
      "model_module": "@jupyter-widgets/controls",
      "model_module_version": "1.5.0",
      "model_name": "HTMLModel",
      "state": {
       "layout": "IPY_MODEL_fafedf023ee14ecbab921d15ec6ab01c",
       "style": "IPY_MODEL_89b798e8420a48299befcdb5679df5b7",
       "value": "This notebook contains an interactive table showcasing the availability of ICOS data products per station and domain (i.e. atmosphere, ecosystem and ocean)."
      }
     },
     "a59d34d4766043c2abff8c2314f9ef4d": {
      "model_module": "@jupyter-widgets/base",
      "model_module_version": "1.2.0",
      "model_name": "LayoutModel",
      "state": {}
     },
     "a5f673747e4e4e2daa08470c8664a3a4": {
      "model_module": "@jupyter-widgets/controls",
      "model_module_version": "1.5.0",
      "model_name": "HTMLModel",
      "state": {
       "layout": "IPY_MODEL_0cf4d18e4a624fd18b77719a2b260115",
       "style": "IPY_MODEL_330413a3efa34b5d92e080c599d9d5c4",
       "value": "<img src=\"./icos_jupyter_notebooks/ind_tools/img//05_education/general/03_cc_svb/svb_mashup.png\">"
      }
     },
     "a604864a187c421da88fd57f0092e3f0": {
      "model_module": "@jupyter-widgets/base",
      "model_module_version": "1.2.0",
      "model_name": "LayoutModel",
      "state": {}
     },
     "a615b17d00fa49d8aab0b33977aa91f9": {
      "model_module": "@jupyter-widgets/controls",
      "model_module_version": "1.5.0",
      "model_name": "HTMLModel",
      "state": {
       "layout": "IPY_MODEL_1ea69021472b480bb4d169e7b8134d4f",
       "style": "IPY_MODEL_d4c9ea9644c14f679ce7e56150f4776a",
       "value": "<b>Contact: </b> "
      }
     },
     "a6279db3996d4f06aa1d2e76d5461725": {
      "model_module": "@jupyter-widgets/controls",
      "model_module_version": "1.5.0",
      "model_name": "DescriptionStyleModel",
      "state": {
       "description_width": ""
      }
     },
     "a64faaaaeef14744aa840b145c9480ce": {
      "model_module": "@jupyter-widgets/controls",
      "model_module_version": "1.5.0",
      "model_name": "GridBoxModel",
      "state": {
       "children": [
        "IPY_MODEL_979333b871ab473e966e0b2430ff851a",
        "IPY_MODEL_cf6ad71dd50c4dff8c1bf7745c169592",
        "IPY_MODEL_8f0b8c6e290242bd90b26bbb71ad5ac4",
        "IPY_MODEL_16bd883940e34bfa89b54ba67576ad02",
        "IPY_MODEL_e16395a217d9426f8749828d1b64361f",
        "IPY_MODEL_c0cae020348c4b0389af4fe0c940cdd9",
        "IPY_MODEL_24d62da011dd497ea9e9dbef8c348151",
        "IPY_MODEL_8574876016454546ba0751a1f867214e",
        "IPY_MODEL_769b92c19a23400585a79ece5869d42a",
        "IPY_MODEL_9e1699ab70e64d70815f82256d3d6891"
       ],
       "layout": "IPY_MODEL_79f334f3692646809151537990c11cc8"
      }
     },
     "a655a75666004f4eb8be48ae9ce40b2f": {
      "model_module": "@jupyter-widgets/controls",
      "model_module_version": "1.5.0",
      "model_name": "DescriptionStyleModel",
      "state": {
       "description_width": ""
      }
     },
     "a681f017e2de49189863a7641b6a249d": {
      "model_module": "@jupyter-widgets/controls",
      "model_module_version": "1.5.0",
      "model_name": "HTMLModel",
      "state": {
       "layout": "IPY_MODEL_f43818429cdb4621a4ef85c8f3444e97",
       "style": "IPY_MODEL_dbd37ae5bfaf4f179b9132574521c04c",
       "value": "<a href=\"mailto: jupyter-info@icos-cp.eu\">jupyter-info@icos-cp.eu</a>"
      }
     },
     "a7627f4d5827478286482dab6564b93a": {
      "model_module": "@jupyter-widgets/controls",
      "model_module_version": "1.5.0",
      "model_name": "HTMLModel",
      "state": {
       "layout": "IPY_MODEL_428bb279654746239eb1c46d4834b9b1",
       "style": "IPY_MODEL_41435c7f0e984269907340ef7e4e2514",
       "value": "<b>Contact: </b> "
      }
     },
     "a774f92e882d49bf97d5523cc4e22f40": {
      "model_module": "@jupyter-widgets/controls",
      "model_module_version": "1.5.0",
      "model_name": "HTMLModel",
      "state": {
       "layout": "IPY_MODEL_1ca38514ad944d89aefdf6abc4a0b151",
       "style": "IPY_MODEL_5b51e50fd654438c98644515f49cbe97",
       "value": "<b>Contact: </b> "
      }
     },
     "a78978c8bbf84fea977415de9ea52095": {
      "model_module": "@jupyter-widgets/base",
      "model_module_version": "1.2.0",
      "model_name": "LayoutModel",
      "state": {}
     },
     "a7987af8bca34fcdb169c01e19730c77": {
      "model_module": "@jupyter-widgets/base",
      "model_module_version": "1.2.0",
      "model_name": "LayoutModel",
      "state": {}
     },
     "a7a680a03c2e402392798f3058101650": {
      "model_module": "@jupyter-widgets/base",
      "model_module_version": "1.2.0",
      "model_name": "LayoutModel",
      "state": {}
     },
     "a7e8a1716ac8422b8b7f8aa0d84d75bf": {
      "model_module": "@jupyter-widgets/controls",
      "model_module_version": "1.5.0",
      "model_name": "HTMLModel",
      "state": {
       "layout": "IPY_MODEL_72bb4cde72c849eb82b2729558e1d5ea",
       "style": "IPY_MODEL_3c0a04bac31a43e39cf479041b653fda",
       "value": "<a href='https://github.com/ICOS-Carbon-Portal/jupyter/issues' target='_blank'>Click here to report an issue</a>"
      }
     },
     "a7f7b688caf44250852a3830fb477cd3": {
      "model_module": "@jupyter-widgets/controls",
      "model_module_version": "1.5.0",
      "model_name": "HTMLModel",
      "state": {
       "layout": "IPY_MODEL_c3d456efabc547f7840b500ca11d2732",
       "style": "IPY_MODEL_8c198012229448f79e5edebb86c14aae",
       "value": "<b>Description: </b> "
      }
     },
     "a806a324a18f4fa39eba94336b3481f2": {
      "model_module": "@jupyter-widgets/controls",
      "model_module_version": "1.5.0",
      "model_name": "HTMLModel",
      "state": {
       "layout": "IPY_MODEL_e3e70908b2d64fa1aa9b2ccadd63b023",
       "style": "IPY_MODEL_382d5ed7bf054948a6106c02da175284",
       "value": "<a href=\"mailto: jupyter-info@icos-cp.eu\">jupyter-info@icos-cp.eu</a>, <a href=\"mailto: Steve.Jones@uib.no\">Steve.Jones@uib.no</a>"
      }
     },
     "a8198386d24b47b6883891fab33ff312": {
      "model_module": "@jupyter-widgets/controls",
      "model_module_version": "1.5.0",
      "model_name": "DescriptionStyleModel",
      "state": {
       "description_width": ""
      }
     },
     "a874bf74995e4804af10e92bb55cee3c": {
      "model_module": "@jupyter-widgets/controls",
      "model_module_version": "1.5.0",
      "model_name": "HTMLModel",
      "state": {
       "layout": "IPY_MODEL_2df1bb7f0e324e4ababbf6f1df93e7c8",
       "style": "IPY_MODEL_7e980b51c2bb42c9bdd37fe3da362870",
       "value": "<b>GitHub: </b> "
      }
     },
     "a88338d592c5456a8dbe5ff914d0b7e0": {
      "model_module": "@jupyter-widgets/controls",
      "model_module_version": "1.5.0",
      "model_name": "HTMLModel",
      "state": {
       "layout": "IPY_MODEL_779434901ff6414fb937eaa5c0dbd9de",
       "style": "IPY_MODEL_554d5a0d0d214c889aa8e9ec5deb55cd",
       "value": "<b>Description: </b> "
      }
     },
     "a88b35bcb8fb4853a249e80a082ae28f": {
      "model_module": "@jupyter-widgets/controls",
      "model_module_version": "1.5.0",
      "model_name": "DescriptionStyleModel",
      "state": {
       "description_width": ""
      }
     },
     "a98cbc3e5ae44470a2735aadb7494777": {
      "model_module": "@jupyter-widgets/controls",
      "model_module_version": "1.5.0",
      "model_name": "HTMLModel",
      "state": {
       "layout": "IPY_MODEL_ec01626a97c949508a29e9391ff56b5e",
       "style": "IPY_MODEL_c092a88c9a024a6db15ae8c7c2cb72c4",
       "value": "This subcategory includes notebooks that use ICOS data to introduce school students and the general public to basic principles of programming whilst learning about the carbon cycle, global warming and the effects of drought."
      }
     },
     "a9a345a19b2e4a7dac9801c948fd7b1c": {
      "model_module": "@jupyter-widgets/controls",
      "model_module_version": "1.5.0",
      "model_name": "HTMLModel",
      "state": {
       "layout": "IPY_MODEL_d1144940bbad4f8b806847f8024c6411",
       "style": "IPY_MODEL_eb389847b03c4bae8899823f6997b74b",
       "value": "This Jupyter notebook provides examples on how to access, extract and process data and metadata information for the ICOS stations using the ICOS Carbon Portal Python library. Full documentation for the library is available on the <a href='https://icos-carbon-portal.github.io/pylib/' target='_blank'>project page</a>, how to install and wheel on <a href='https://pypi.org/project/icoscp/' target='_blank'>pypi.org</a>, source available on <a href='https://github.com/ICOS-Carbon-Portal/pylib' target='_blank'>GitHub</a>"
      }
     },
     "a9cf27660a1a48cf97d14e50e0588461": {
      "model_module": "@jupyter-widgets/controls",
      "model_module_version": "1.5.0",
      "model_name": "HTMLModel",
      "state": {
       "layout": "IPY_MODEL_5668c9d785e044bbbfeabf489d8159c9",
       "style": "IPY_MODEL_c60bb6e38d094c5a96e3d254cfdd958b",
       "value": "<a href='https://github.com/ICOS-Carbon-Portal/jupyter/issues' target='_blank'>Click here to report an issue</a>"
      }
     },
     "a9f43997c34b475ab2df6507dd3a1d45": {
      "model_module": "@jupyter-widgets/controls",
      "model_module_version": "1.5.0",
      "model_name": "HTMLModel",
      "state": {
       "layout": "IPY_MODEL_d2c47321853949179a42dd6b298b75d5",
       "style": "IPY_MODEL_6d5c0f441c9d4faf826f605c6ac52237",
       "value": "<a href=./project_jupyter_notebooks/envrifair_winterschool/map/exercise4_advanced.ipynb target='_blank'>Exercise 4 - Create an advanced interactive Map</a>"
      }
     },
     "a9fcb995f0c147a09477ab06567b532e": {
      "model_module": "@jupyter-widgets/controls",
      "model_module_version": "1.5.0",
      "model_name": "DescriptionStyleModel",
      "state": {
       "description_width": ""
      }
     },
     "aa108ba82b9345c88a7997bf82437178": {
      "model_module": "@jupyter-widgets/controls",
      "model_module_version": "1.5.0",
      "model_name": "GridBoxModel",
      "state": {
       "children": [
        "IPY_MODEL_7a60516c505a4f4f8d17d0abd08b5d14",
        "IPY_MODEL_e6eb48d6e08b462c8e3dfb15c7d505d0",
        "IPY_MODEL_3f4b26254e4d4c0f9a99b5b5571a6099",
        "IPY_MODEL_c4ba1d85a5be4a6284b74a4c4ceaf4f5",
        "IPY_MODEL_7eb2ee846a6e440b8ad7cdcda50868bd",
        "IPY_MODEL_4ebbd05ec6834b4796c75a57a52d45a7",
        "IPY_MODEL_32f6131e544147e5b6550c241c937140",
        "IPY_MODEL_91119f2bbb464aa98bad140ee14d7417",
        "IPY_MODEL_6a429dae842346b793f3829c80bda66b",
        "IPY_MODEL_090cc3fc07ea49a1b4c6f9a809874667"
       ],
       "layout": "IPY_MODEL_d7424bfb5e834e7b8972e915fd4f24a5"
      }
     },
     "aa9901d6699e4d948f0e2b0d0747f93c": {
      "model_module": "@jupyter-widgets/controls",
      "model_module_version": "1.5.0",
      "model_name": "DescriptionStyleModel",
      "state": {
       "description_width": ""
      }
     },
     "aaa25f08f4214216bc3c1639b8981c21": {
      "model_module": "@jupyter-widgets/controls",
      "model_module_version": "1.5.0",
      "model_name": "DescriptionStyleModel",
      "state": {
       "description_width": ""
      }
     },
     "aaa8207033bf4050a56c9666067d33c0": {
      "model_module": "@jupyter-widgets/controls",
      "model_module_version": "1.5.0",
      "model_name": "HTMLModel",
      "state": {
       "layout": "IPY_MODEL_530446a56d694432800aefa51608cd24",
       "style": "IPY_MODEL_0c008d88f8ea42eaa89b8b5c265a45c3",
       "value": "<b>Contact: </b> "
      }
     },
     "aaa963efa44d441dba94e4a186cd636d": {
      "model_module": "@jupyter-widgets/controls",
      "model_module_version": "1.5.0",
      "model_name": "DescriptionStyleModel",
      "state": {
       "description_width": ""
      }
     },
     "aac5dc04571b4916a50d7177c1c5266d": {
      "model_module": "@jupyter-widgets/controls",
      "model_module_version": "1.5.0",
      "model_name": "DescriptionStyleModel",
      "state": {
       "description_width": ""
      }
     },
     "aaf7df1dad0f477b9d95f62bfd02eaa4": {
      "model_module": "@jupyter-widgets/controls",
      "model_module_version": "1.5.0",
      "model_name": "DescriptionStyleModel",
      "state": {
       "description_width": ""
      }
     },
     "ab638ed14e2d453ea6c37e2e55c6adfc": {
      "model_module": "@jupyter-widgets/base",
      "model_module_version": "1.2.0",
      "model_name": "LayoutModel",
      "state": {}
     },
     "ab977d4afcea49828fb299796178aa17": {
      "model_module": "@jupyter-widgets/controls",
      "model_module_version": "1.5.0",
      "model_name": "HTMLModel",
      "state": {
       "layout": "IPY_MODEL_80f224a78e804d73bfcd725cbf47f5d5",
       "style": "IPY_MODEL_0d979d3f63f94b8e9847381117f9c4b3",
       "value": "This notebook is dedicated to accessing, processing, and comparing ICOS atmosphere CO2-concentrations (data and metadata) and simulated CO2-concentrations from <a href=\"https://www.icos-cp.eu/data-services/tools/stilt-footprint\" target=\"_blank\">(STILT)</a> model outputs (ICOS elaborated data product).\n"
      }
     },
     "abcea03260e54ba9ad376001ca1414a4": {
      "model_module": "@jupyter-widgets/base",
      "model_module_version": "1.2.0",
      "model_name": "LayoutModel",
      "state": {}
     },
     "abd452bd10d947ef93e9924873915b54": {
      "model_module": "@jupyter-widgets/controls",
      "model_module_version": "1.5.0",
      "model_name": "HTMLModel",
      "state": {
       "layout": "IPY_MODEL_800aaba51d35414db87a25b8a312d3db",
       "style": "IPY_MODEL_f4adfc52a61d465c934391355b5ef2ea",
       "value": "<a href=\"mailto: jupyter-info@icos-cp.eu\">jupyter-info@icos-cp.eu</a>"
      }
     },
     "abf99b8083fd499cb3a70848051c55cd": {
      "model_module": "@jupyter-widgets/base",
      "model_module_version": "1.2.0",
      "model_name": "LayoutModel",
      "state": {
       "grid_gap": "5px 10px",
       "grid_template_columns": "100px auto",
       "grid_template_rows": "auto auto auto auto auto",
       "padding": "50px 0px 70px 0px",
       "width": "100%"
      }
     },
     "ac076337dec245f1b6c0480d6055cee8": {
      "model_module": "@jupyter-widgets/base",
      "model_module_version": "1.2.0",
      "model_name": "LayoutModel",
      "state": {}
     },
     "ac40bd7a17e348028b92b43d7914e998": {
      "model_module": "@jupyter-widgets/controls",
      "model_module_version": "1.5.0",
      "model_name": "HTMLModel",
      "state": {
       "layout": "IPY_MODEL_7871e80d974f4aa1934e5a8e9585a107",
       "style": "IPY_MODEL_162027c4b4364b928d9df7905315f7a7",
       "value": "<b>GitHub: </b> "
      }
     },
     "aca5afcbf13d49fca1bc2a1eb6799fdf": {
      "model_module": "@jupyter-widgets/controls",
      "model_module_version": "1.5.0",
      "model_name": "HTMLModel",
      "state": {
       "layout": "IPY_MODEL_e316951a44b74f8496f732331dc776b4",
       "style": "IPY_MODEL_299b799ba611401f8fb4d9cfc0bae24f",
       "value": "<img src=\"./icos_jupyter_notebooks/ind_tools/img/03_icos_JNBs/ccgcrv/curve_fitting_method.PNG\">"
      }
     },
     "acb31ff605ff4642b0f1f22ef0e0cb15": {
      "model_module": "@jupyter-widgets/base",
      "model_module_version": "1.2.0",
      "model_name": "LayoutModel",
      "state": {}
     },
     "acb694dc5b0648729602f3ff12655db0": {
      "model_module": "@jupyter-widgets/base",
      "model_module_version": "1.2.0",
      "model_name": "LayoutModel",
      "state": {}
     },
     "acf9d6954242446eafdf2166287a642a": {
      "model_module": "@jupyter-widgets/controls",
      "model_module_version": "1.5.0",
      "model_name": "DescriptionStyleModel",
      "state": {
       "description_width": ""
      }
     },
     "ad15e007359f4b59a728fdddc9fa32c3": {
      "model_module": "@jupyter-widgets/controls",
      "model_module_version": "1.5.0",
      "model_name": "HTMLModel",
      "state": {
       "layout": "IPY_MODEL_887cd055e7f1411fb3438685467ffdb6",
       "style": "IPY_MODEL_5b2485949dc7493b988929237b1c0d4e",
       "value": "This subcategory includes notebooks with exercises that are aimed for university students and are based on ICOS data"
      }
     },
     "ad3e5ffe0f6343868edc1770407a6ffb": {
      "model_module": "@jupyter-widgets/controls",
      "model_module_version": "1.5.0",
      "model_name": "HTMLModel",
      "state": {
       "layout": "IPY_MODEL_2a15909de23e44c6ba0a98c8f5a5a52e",
       "style": "IPY_MODEL_5471d80aed60438085995bca1f7adbe8",
       "value": "Includes notebooks from the Ocean Thematic Centre on how to calibrate and process data for flux measurements."
      }
     },
     "ad6a2fea0aa14043b2f2dbdaed801e37": {
      "model_module": "@jupyter-widgets/base",
      "model_module_version": "1.2.0",
      "model_name": "LayoutModel",
      "state": {}
     },
     "ad6a7283876043228ea1189a4b39704f": {
      "model_module": "@jupyter-widgets/base",
      "model_module_version": "1.2.0",
      "model_name": "LayoutModel",
      "state": {}
     },
     "ad7d24b7bd474f2095aadf19596c410e": {
      "model_module": "@jupyter-widgets/base",
      "model_module_version": "1.2.0",
      "model_name": "LayoutModel",
      "state": {}
     },
     "ad84e201879a4f709bd9bb87b0e3b16e": {
      "model_module": "@jupyter-widgets/base",
      "model_module_version": "1.2.0",
      "model_name": "LayoutModel",
      "state": {}
     },
     "ad9d7f41b32b4fd0a460486132b5be9a": {
      "model_module": "@jupyter-widgets/controls",
      "model_module_version": "1.5.0",
      "model_name": "DescriptionStyleModel",
      "state": {
       "description_width": ""
      }
     },
     "ad9e1ec75a184317a82ac92f6fb93d5a": {
      "model_module": "@jupyter-widgets/controls",
      "model_module_version": "1.5.0",
      "model_name": "HTMLModel",
      "state": {
       "layout": "IPY_MODEL_62fbb2357328472c92ba90df1607e5ae",
       "style": "IPY_MODEL_79416ad6738f4e409dee545e7ffeadd8",
       "value": "<b>Title: </b> "
      }
     },
     "adbdd0e9cf3b49dd9b44af1c7dd92bba": {
      "model_module": "@jupyter-widgets/base",
      "model_module_version": "1.2.0",
      "model_name": "LayoutModel",
      "state": {}
     },
     "adc9a50f4bb1400090c20d30f11cf7cc": {
      "model_module": "@jupyter-widgets/base",
      "model_module_version": "1.2.0",
      "model_name": "LayoutModel",
      "state": {}
     },
     "add57b69dfd5465abdd26d588f4014ac": {
      "model_module": "@jupyter-widgets/controls",
      "model_module_version": "1.5.0",
      "model_name": "HTMLModel",
      "state": {
       "layout": "IPY_MODEL_8a3e748bf7254abdbb5ee69f821d95cb",
       "style": "IPY_MODEL_616efd10ba83461991d21bf3444a4ef4",
       "value": "<a href=./education/PhD/upscaling_carbon_fluxes/notebooks/exercise1.ipynb target='_blank'>Introduction to Jupyter notebooks using ICOS/FLUXNET data</a>"
      }
     },
     "adfc84ee19764ce9abc4913b9879e71b": {
      "model_module": "@jupyter-widgets/base",
      "model_module_version": "1.2.0",
      "model_name": "LayoutModel",
      "state": {}
     },
     "ae2b3769cf864328bdf503f8dc08e80e": {
      "model_module": "@jupyter-widgets/controls",
      "model_module_version": "1.5.0",
      "model_name": "HTMLModel",
      "state": {
       "layout": "IPY_MODEL_7eaff2ee21224209b7b30f5e99375f85",
       "style": "IPY_MODEL_369015f8c5bd45a0b001304b10a145a7",
       "value": "<a href=\"mailto: jupyter-info@icos-cp.eu\">jupyter-info@icos-cp.eu</a>"
      }
     },
     "ae3b52379dc74af6a420311c4f0f6a58": {
      "model_module": "@jupyter-widgets/controls",
      "model_module_version": "1.5.0",
      "model_name": "DescriptionStyleModel",
      "state": {
       "description_width": ""
      }
     },
     "ae85d0accdb947c7a3323159f6c16eb2": {
      "model_module": "@jupyter-widgets/controls",
      "model_module_version": "1.5.0",
      "model_name": "HTMLModel",
      "state": {
       "layout": "IPY_MODEL_8543b85bae2649f08404bdd715923575",
       "style": "IPY_MODEL_2e662d6058c747b7acc5998a9217e573",
       "value": "<a href='https://github.com/ICOS-Carbon-Portal/jupyter/issues' target='_blank'>Click here to report an issue</a>"
      }
     },
     "ae8ccfb6504a4695952c49ecd0a85754": {
      "model_module": "@jupyter-widgets/controls",
      "model_module_version": "1.5.0",
      "model_name": "HTMLModel",
      "state": {
       "layout": "IPY_MODEL_55096a382b2e4e1ba070a718e8efc3e9",
       "style": "IPY_MODEL_efb8129b771b4be9812e92bf6bc7041e",
       "value": "This Jupyter notebook presents examples on how to load <a href='http://stilt-model.org/index.php/Main/HomePage' target='_blank'>STILT</a> timeseries data and footprints using the ICOS Carbon Portal Python library. The notebook also showcases how to make plots using Holoviews and maps using Geoviews. Full documentation on the ICOS library is available through the <a href='https://icos-carbon-portal.github.io/pylib/' target='_blank'>project page</a>, how to install and wheel on <a href='https://pypi.org/project/icoscp/' target='_blank'> pypi.org</a>, source available on <a href='https://github.com/ICOS-Carbon-Portal/pylib' target='_blank'>GitHub</a>."
      }
     },
     "ae8cd59ab52a4a388ae9680a8074837b": {
      "model_module": "@jupyter-widgets/controls",
      "model_module_version": "1.5.0",
      "model_name": "GridBoxModel",
      "state": {
       "children": [
        "IPY_MODEL_6ad4265503304b3793f90252c264d6bf",
        "IPY_MODEL_45e39459020c4eff86e91d2510d88e26"
       ],
       "layout": "IPY_MODEL_09fa76820bb8477ea061c78347967613"
      }
     },
     "aedcfbec817941eba68b2cd2eaab6a4c": {
      "model_module": "@jupyter-widgets/controls",
      "model_module_version": "1.5.0",
      "model_name": "HTMLModel",
      "state": {
       "layout": "IPY_MODEL_4f48549d063941f49a1ca93658f09d00",
       "style": "IPY_MODEL_aaa963efa44d441dba94e4a186cd636d",
       "value": "<a href='https://github.com/ICOS-Carbon-Portal/jupyter/issues' target='_blank'>Click here to report an issue</a>"
      }
     },
     "aef506f8d36a4ce99181c8fea70b24fd": {
      "model_module": "@jupyter-widgets/controls",
      "model_module_version": "1.5.0",
      "model_name": "DescriptionStyleModel",
      "state": {
       "description_width": ""
      }
     },
     "afa4929725154cf3a910f201b4ace12f": {
      "model_module": "@jupyter-widgets/controls",
      "model_module_version": "1.5.0",
      "model_name": "HTMLModel",
      "state": {
       "layout": "IPY_MODEL_59129cab5eab4ace88a46bf624f3b5f6",
       "style": "IPY_MODEL_6730ad3daed945c1a788cfe40f0ad72d",
       "value": "<a href='https://github.com/ICOS-Carbon-Portal/jupyter/issues' target='_blank'>Click here to report an issue</a>"
      }
     },
     "afd2ab19e66841b7b7ffe08ec24bf13b": {
      "model_module": "@jupyter-widgets/controls",
      "model_module_version": "1.5.0",
      "model_name": "HTMLModel",
      "state": {
       "layout": "IPY_MODEL_bb504374e5e24684926cbc01ca868f8e",
       "style": "IPY_MODEL_503af46c1a944a5aaf98d3cd5a2947d4",
       "value": "<b>GitHub: </b> "
      }
     },
     "afd98bdad33a4c8fbd9b7e0c7751ff4f": {
      "model_module": "@jupyter-widgets/base",
      "model_module_version": "1.2.0",
      "model_name": "LayoutModel",
      "state": {}
     },
     "b072385984324942822a4c10dac70e0b": {
      "model_module": "@jupyter-widgets/controls",
      "model_module_version": "1.5.0",
      "model_name": "HTMLModel",
      "state": {
       "layout": "IPY_MODEL_92775ce204214b268ec94954984dc9d0",
       "style": "IPY_MODEL_62657e8ca145478a891db93c2819bed3",
       "value": "<b>GitHub: </b> "
      }
     },
     "b0a07caeacd44ac2a9422ccae8482f1b": {
      "model_module": "@jupyter-widgets/controls",
      "model_module_version": "1.5.0",
      "model_name": "HTMLModel",
      "state": {
       "layout": "IPY_MODEL_f9727a1095614d838a0133de2cf62cf5",
       "style": "IPY_MODEL_1cae758807cd4a3ebb7b732bc420e845",
       "value": "<img src=\"./icos_jupyter_notebooks/ind_tools/img/02_pylib_ex/ex6a.PNG\">"
      }
     },
     "b0b38f70992341dfb5f29d6f396e53ae": {
      "model_module": "@jupyter-widgets/controls",
      "model_module_version": "1.5.0",
      "model_name": "HTMLModel",
      "state": {
       "layout": "IPY_MODEL_50ae4c63e5f94199874dfafdda48b94e",
       "style": "IPY_MODEL_fdab07b9627645918e0c699d4ce9627f",
       "value": "<b>Contact: </b> "
      }
     },
     "b0f2a5b2c7da4f03953e96131d65731d": {
      "model_module": "@jupyter-widgets/controls",
      "model_module_version": "1.5.0",
      "model_name": "DescriptionStyleModel",
      "state": {
       "description_width": ""
      }
     },
     "b0f46341852441f59992ac2379b5e730": {
      "model_module": "@jupyter-widgets/controls",
      "model_module_version": "1.5.0",
      "model_name": "HTMLModel",
      "state": {
       "layout": "IPY_MODEL_096851aedc5a4094979ed727ee41b8a8",
       "style": "IPY_MODEL_5ab19956de2745cc8edbb1165febc238",
       "value": "<img src=\"./icos_jupyter_notebooks/ind_tools/img/02_pylib_ex/ex2.PNG\">"
      }
     },
     "b12e6f9c7ddf4f1590c9eae2c2247810": {
      "model_module": "@jupyter-widgets/base",
      "model_module_version": "1.2.0",
      "model_name": "LayoutModel",
      "state": {}
     },
     "b18acec4009f4b5196a12cddd2d1f33f": {
      "model_module": "@jupyter-widgets/base",
      "model_module_version": "1.2.0",
      "model_name": "LayoutModel",
      "state": {}
     },
     "b1965cca76f04c2d920a93b673311b65": {
      "model_module": "@jupyter-widgets/base",
      "model_module_version": "1.2.0",
      "model_name": "LayoutModel",
      "state": {}
     },
     "b199bb290ae54ffabc66aa554d6a4a99": {
      "model_module": "@jupyter-widgets/controls",
      "model_module_version": "1.5.0",
      "model_name": "DescriptionStyleModel",
      "state": {
       "description_width": ""
      }
     },
     "b1b1b626b9854a6a8aa97034048ea15d": {
      "model_module": "@jupyter-widgets/controls",
      "model_module_version": "1.5.0",
      "model_name": "HTMLModel",
      "state": {
       "layout": "IPY_MODEL_c6b42208caad4e01854bb8a38ae355e7",
       "style": "IPY_MODEL_3c5adbbbe17b4026bce035ff7dc27b11",
       "value": "<img src=\"./icos_jupyter_notebooks/ind_tools/img/02_pylib_ex/ex1.PNG\">"
      }
     },
     "b1bc0be9f47a499dbe124fd682672653": {
      "model_module": "@jupyter-widgets/controls",
      "model_module_version": "1.5.0",
      "model_name": "DescriptionStyleModel",
      "state": {
       "description_width": ""
      }
     },
     "b1c76feab7a641788439f32549627948": {
      "model_module": "@jupyter-widgets/controls",
      "model_module_version": "1.5.0",
      "model_name": "GridBoxModel",
      "state": {
       "children": [
        "IPY_MODEL_c818e13d19124dd2829d3c920335db38",
        "IPY_MODEL_379fa343f32445c092169a155b223d55"
       ],
       "layout": "IPY_MODEL_360ce05a55e94ef69b6765ca7f8bbdd1"
      }
     },
     "b1c814c96d61451d8efc0a0f0adf9a7c": {
      "model_module": "@jupyter-widgets/base",
      "model_module_version": "1.2.0",
      "model_name": "LayoutModel",
      "state": {}
     },
     "b201ac6ad84648eb967426fd4b3db5ea": {
      "model_module": "@jupyter-widgets/controls",
      "model_module_version": "1.5.0",
      "model_name": "DescriptionStyleModel",
      "state": {
       "description_width": ""
      }
     },
     "b296380b94364639ae51cb185531a340": {
      "model_module": "@jupyter-widgets/controls",
      "model_module_version": "1.5.0",
      "model_name": "DescriptionStyleModel",
      "state": {
       "description_width": ""
      }
     },
     "b2a6b4fdb09549ce92b9c6f760b169cc": {
      "model_module": "@jupyter-widgets/controls",
      "model_module_version": "1.5.0",
      "model_name": "HTMLModel",
      "state": {
       "layout": "IPY_MODEL_328ae93e79fe46b195869ac1e9aba038",
       "style": "IPY_MODEL_4de2e691649d45fe8ecc800a098cef09",
       "value": "<b>GitHub: </b> "
      }
     },
     "b2aaed5201ba46169d324efe69692951": {
      "model_module": "@jupyter-widgets/controls",
      "model_module_version": "1.5.0",
      "model_name": "HTMLModel",
      "state": {
       "layout": "IPY_MODEL_5c1f771d4d704a6b9e8e21d5c9db3efe",
       "style": "IPY_MODEL_2dfb01ded96444e68396a8321056cd6d",
       "value": "<a href=./icos_jupyter_notebooks/radiocarbon.ipynb target='_blank'>Radiocarbon</a>"
      }
     },
     "b2b3acf543d044e3b520594c2771e380": {
      "model_module": "@jupyter-widgets/base",
      "model_module_version": "1.2.0",
      "model_name": "LayoutModel",
      "state": {
       "grid_gap": "5px 10px",
       "grid_template_columns": "100px auto",
       "grid_template_rows": "auto auto auto auto auto",
       "padding": "50px 0px 70px 0px",
       "width": "100%"
      }
     },
     "b2c623f4db1044dea9ab600930020cda": {
      "model_module": "@jupyter-widgets/base",
      "model_module_version": "1.2.0",
      "model_name": "LayoutModel",
      "state": {}
     },
     "b2ddaf48490344bf822e590e09d83f97": {
      "model_module": "@jupyter-widgets/controls",
      "model_module_version": "1.5.0",
      "model_name": "HTMLModel",
      "state": {
       "layout": "IPY_MODEL_1f393d34136d41d4956c49c50c6149d1",
       "style": "IPY_MODEL_7d68deede11247e88e80bccac0d6caa8",
       "value": "<a href='https://github.com/ICOS-Carbon-Portal/jupyter/issues' target='_blank'>Click here to report an issue</a>"
      }
     },
     "b2e32c022ee147a7bf22d1d928f32fdf": {
      "model_module": "@jupyter-widgets/controls",
      "model_module_version": "1.5.0",
      "model_name": "DescriptionStyleModel",
      "state": {
       "description_width": ""
      }
     },
     "b3026d7682374f069d3db7d86a10bc54": {
      "model_module": "@jupyter-widgets/controls",
      "model_module_version": "1.5.0",
      "model_name": "HTMLModel",
      "state": {
       "layout": "IPY_MODEL_7af4af165fd34d74b29a7aec7f102b85",
       "style": "IPY_MODEL_81643f7b7a794db9a1253c2ce37215ad",
       "value": "<b>GitHub: </b> "
      }
     },
     "b357f8f2aacc412f91a5682f9740d954": {
      "model_module": "@jupyter-widgets/controls",
      "model_module_version": "1.5.0",
      "model_name": "HTMLModel",
      "state": {
       "layout": "IPY_MODEL_28b00e53e4a74987874491ce64b32742",
       "style": "IPY_MODEL_3d01cd11975449a1b312de17471ddcc3",
       "value": "<b>Contact: </b> "
      }
     },
     "b36506f1123842d99bdcc193f7004f47": {
      "model_module": "@jupyter-widgets/controls",
      "model_module_version": "1.5.0",
      "model_name": "DescriptionStyleModel",
      "state": {
       "description_width": ""
      }
     },
     "b36d106ed0bc4540ba256ae785163115": {
      "model_module": "@jupyter-widgets/base",
      "model_module_version": "1.2.0",
      "model_name": "LayoutModel",
      "state": {}
     },
     "b3844f2dfcde4d3a99c5bbc2526349fb": {
      "model_module": "@jupyter-widgets/controls",
      "model_module_version": "1.5.0",
      "model_name": "DescriptionStyleModel",
      "state": {
       "description_width": ""
      }
     },
     "b3935bc930d14ecb80b9c939ce6eac15": {
      "model_module": "@jupyter-widgets/controls",
      "model_module_version": "1.5.0",
      "model_name": "HTMLModel",
      "state": {
       "layout": "IPY_MODEL_853f8c2893704de6a86b8181050f2f12",
       "style": "IPY_MODEL_c8d6f1c773074e3f9c319c16cf14c755",
       "value": "<b>Thumbnail: </b> "
      }
     },
     "b4830ff7b1b24f968e0ff1eed96da042": {
      "model_module": "@jupyter-widgets/controls",
      "model_module_version": "1.5.0",
      "model_name": "DescriptionStyleModel",
      "state": {
       "description_width": ""
      }
     },
     "b4908cd5091d401db47f27bd4931af93": {
      "model_module": "@jupyter-widgets/controls",
      "model_module_version": "1.5.0",
      "model_name": "DescriptionStyleModel",
      "state": {
       "description_width": ""
      }
     },
     "b490f56b30664aa78e3a94a2d16e8321": {
      "model_module": "@jupyter-widgets/controls",
      "model_module_version": "1.5.0",
      "model_name": "HTMLModel",
      "state": {
       "layout": "IPY_MODEL_6a33b70aeddc424cb50b4147c387abd8",
       "style": "IPY_MODEL_8bc7d5f647734d54ba8f30131400f529",
       "value": "<b>Contact: </b> "
      }
     },
     "b4ca4f51c76847e1ade87cbadf773c2d": {
      "model_module": "@jupyter-widgets/controls",
      "model_module_version": "1.5.0",
      "model_name": "DescriptionStyleModel",
      "state": {
       "description_width": ""
      }
     },
     "b4fea9f0628f44f0a277105090f2ba72": {
      "model_module": "@jupyter-widgets/base",
      "model_module_version": "1.2.0",
      "model_name": "LayoutModel",
      "state": {
       "grid_gap": "5px 10px",
       "grid_template_columns": "100px auto",
       "grid_template_rows": "auto auto auto auto auto",
       "padding": "50px 0px 70px 0px",
       "width": "100%"
      }
     },
     "b503594c2c3f4cf7b46a61b62ed01a4e": {
      "model_module": "@jupyter-widgets/controls",
      "model_module_version": "1.5.0",
      "model_name": "HTMLModel",
      "state": {
       "layout": "IPY_MODEL_301de36fadef43d0b3ba2ec2f875f064",
       "style": "IPY_MODEL_57df5d658250443e8bde44f4888d4fc4",
       "value": "<a href=\"mailto: jupyter-info@icos-cp.eu\">jupyter-info@icos-cp.eu</a>, <a href=\"mailto: ida.storm@nateko.lu.se\">ida.storm@nateko.lu.se</a>"
      }
     },
     "b50571cba3e2473dafaf44cd77f64d1d": {
      "model_module": "@jupyter-widgets/controls",
      "model_module_version": "1.5.0",
      "model_name": "DescriptionStyleModel",
      "state": {
       "description_width": ""
      }
     },
     "b5103f9ab0db475e90654b3002b8b3f7": {
      "model_module": "@jupyter-widgets/base",
      "model_module_version": "1.2.0",
      "model_name": "LayoutModel",
      "state": {}
     },
     "b543f1c695bc4db7b80db0c45d62b2dd": {
      "model_module": "@jupyter-widgets/base",
      "model_module_version": "1.2.0",
      "model_name": "LayoutModel",
      "state": {}
     },
     "b5a7c36900de46b7b390f7cf2b26cedf": {
      "model_module": "@jupyter-widgets/controls",
      "model_module_version": "1.5.0",
      "model_name": "DescriptionStyleModel",
      "state": {
       "description_width": ""
      }
     },
     "b5b06ef0c8da49b9b25d4e8cd6727f57": {
      "model_module": "@jupyter-widgets/controls",
      "model_module_version": "1.5.0",
      "model_name": "DescriptionStyleModel",
      "state": {
       "description_width": ""
      }
     },
     "b5d0639173d046d780460f1352fac9ec": {
      "model_module": "@jupyter-widgets/controls",
      "model_module_version": "1.5.0",
      "model_name": "DescriptionStyleModel",
      "state": {
       "description_width": ""
      }
     },
     "b60ea26fb08e4f84addf103f893bfd83": {
      "model_module": "@jupyter-widgets/controls",
      "model_module_version": "1.5.0",
      "model_name": "HTMLModel",
      "state": {
       "layout": "IPY_MODEL_5e8ee1980b234c5ea8bf6f1f7e9d22e2",
       "style": "IPY_MODEL_df4c2d8e7c9f4efc99cf17d1e31584a1",
       "value": "<b>Description: </b> "
      }
     },
     "b62d12d31de44355953add743d6072e5": {
      "model_module": "@jupyter-widgets/base",
      "model_module_version": "1.2.0",
      "model_name": "LayoutModel",
      "state": {}
     },
     "b6b9285e9aa94580b64ec9fbbb1da685": {
      "model_module": "@jupyter-widgets/controls",
      "model_module_version": "1.5.0",
      "model_name": "DescriptionStyleModel",
      "state": {
       "description_width": ""
      }
     },
     "b6caf857492f492d976d301babe65935": {
      "model_module": "@jupyter-widgets/base",
      "model_module_version": "1.2.0",
      "model_name": "LayoutModel",
      "state": {}
     },
     "b6d75850ea8f407a913d1dcc26aff63a": {
      "model_module": "@jupyter-widgets/controls",
      "model_module_version": "1.5.0",
      "model_name": "HTMLModel",
      "state": {
       "layout": "IPY_MODEL_1fe4431b08ca4d73a09a629fc63b12ef",
       "style": "IPY_MODEL_c46f5f544ee246e396bf7db876f88d81",
       "value": "<a href=./project_jupyter_notebooks/OTC%20Data%20Reduction%20Workshop/Data%20Reduction%20part%204%20-%20UWpCO2%20cruise.ipynb target='_blank'>pCO₂ Data Reduction part 4 - UW pCO₂ cruise</a>"
      }
     },
     "b7813fc89b804cc1bfdbae697b6607dd": {
      "model_module": "@jupyter-widgets/controls",
      "model_module_version": "1.5.0",
      "model_name": "DescriptionStyleModel",
      "state": {
       "description_width": ""
      }
     },
     "b78d6e4e94f14aa5a46b11fa7ffcfa85": {
      "model_module": "@jupyter-widgets/controls",
      "model_module_version": "1.5.0",
      "model_name": "HTMLModel",
      "state": {
       "layout": "IPY_MODEL_420f4ab18f4d4f78b8d58e18037f6624",
       "style": "IPY_MODEL_7fa0e96cd0a54b908fa053b6f08af96a",
       "value": "<b>Title: </b> "
      }
     },
     "b79a649317de4b3abd27f749bd8f6fb1": {
      "model_module": "@jupyter-widgets/base",
      "model_module_version": "1.2.0",
      "model_name": "LayoutModel",
      "state": {
       "grid_gap": "5px 10px",
       "grid_template_columns": "100px auto",
       "grid_template_rows": "auto auto auto auto auto",
       "padding": "50px 0px 70px 0px",
       "width": "100%"
      }
     },
     "b89859a4fbc64d16b86577b8f531e2be": {
      "model_module": "@jupyter-widgets/controls",
      "model_module_version": "1.5.0",
      "model_name": "HTMLModel",
      "state": {
       "layout": "IPY_MODEL_60ff7af0092047a48f2ebbbb4c78a4a8",
       "style": "IPY_MODEL_414b6e6f180446d3a38e2ee4c7d235bf",
       "value": "<a href=\"mailto: jupyter-info@icos-cp.eu\">jupyter-info@icos-cp.eu</a>, <a href=\"mailto: claudio.donofrio@nateko.lu.se\">claudio.donofrio@nateko.lu.se</a>"
      }
     },
     "b89919a860374c169053c1029cb016bc": {
      "model_module": "@jupyter-widgets/controls",
      "model_module_version": "1.5.0",
      "model_name": "HTMLModel",
      "state": {
       "layout": "IPY_MODEL_61d977e898184197aa8fd99ac53afc97",
       "style": "IPY_MODEL_e025ddd684e34ed1b73fc42295146fac",
       "value": "<b>Contact: </b> "
      }
     },
     "b8ad553c2c514ecfadb24dff27238f99": {
      "model_module": "@jupyter-widgets/controls",
      "model_module_version": "1.5.0",
      "model_name": "GridBoxModel",
      "state": {
       "children": [
        "IPY_MODEL_cc7a34fb1eee4fe49b9cbc39259d5eac",
        "IPY_MODEL_87c02368b05c48ae97015dc58f6789ae",
        "IPY_MODEL_f6154ec866934d9d8b1b23a3baee6d43",
        "IPY_MODEL_bc91a630866d4cb7a003b8a7fff0d28a",
        "IPY_MODEL_31793774f6e040a3b93cf59cb434c353",
        "IPY_MODEL_f9858eccefc54a3d81f2d60307f88926",
        "IPY_MODEL_3a9cf80d1be04f15898e839f35fa2c65",
        "IPY_MODEL_d9384c7932f64ec8b51352dc9bcc6f3a",
        "IPY_MODEL_533af94444604076a88b7f4630c5f6f6",
        "IPY_MODEL_40e927317b0a45299b6e24d0922e1eec"
       ],
       "layout": "IPY_MODEL_61ff6b1fabf94c1eab1d955db129ce46"
      }
     },
     "b8d77c8e41dd440794abf679e5c0902d": {
      "model_module": "@jupyter-widgets/controls",
      "model_module_version": "1.5.0",
      "model_name": "HTMLModel",
      "state": {
       "layout": "IPY_MODEL_6177b27f266a46dc916b107a1b809779",
       "style": "IPY_MODEL_95e53d61fa0644f3b60a4a4846475942",
       "value": "<b>Contact: </b> "
      }
     },
     "b9354e514070441885aca705f877b192": {
      "model_module": "@jupyter-widgets/base",
      "model_module_version": "1.2.0",
      "model_name": "LayoutModel",
      "state": {}
     },
     "b956849fefa648ee9cc40cc6a4b3cc47": {
      "model_module": "@jupyter-widgets/controls",
      "model_module_version": "1.5.0",
      "model_name": "DescriptionStyleModel",
      "state": {
       "description_width": ""
      }
     },
     "b9dac9c01e7b4dd782425a10edbfa800": {
      "model_module": "@jupyter-widgets/controls",
      "model_module_version": "1.5.0",
      "model_name": "GridBoxModel",
      "state": {
       "children": [
        "IPY_MODEL_3396ac2ec3db4f6d86529b0dad4d24d7",
        "IPY_MODEL_cbd0d9f7d03b42e3b93fa7be6f4777a3",
        "IPY_MODEL_a88338d592c5456a8dbe5ff914d0b7e0",
        "IPY_MODEL_f0af5e7cb2ab460e8f1bdc95b4cf38bc",
        "IPY_MODEL_95792ef29c09400db601322043365819",
        "IPY_MODEL_57acbfa9ff784ad7bdcb1824a5fb0792",
        "IPY_MODEL_b2a6b4fdb09549ce92b9c6f760b169cc",
        "IPY_MODEL_2c5ccfb8f593455596fd8305e3f47310",
        "IPY_MODEL_2e252039a5d74300bcbdf90f3c8a6651",
        "IPY_MODEL_a110415f0af54c35a7659f17c2b94ef2"
       ],
       "layout": "IPY_MODEL_3e64fc820513441697ad6f44949fec16"
      }
     },
     "ba9530c3691048c78e7c2149855d8b08": {
      "model_module": "@jupyter-widgets/base",
      "model_module_version": "1.2.0",
      "model_name": "LayoutModel",
      "state": {}
     },
     "baddbe27bb2d4836be59d19b57774ed7": {
      "model_module": "@jupyter-widgets/controls",
      "model_module_version": "1.5.0",
      "model_name": "DescriptionStyleModel",
      "state": {
       "description_width": ""
      }
     },
     "bb15ff8d84144e4f83cb6789029033ff": {
      "model_module": "@jupyter-widgets/controls",
      "model_module_version": "1.5.0",
      "model_name": "HTMLModel",
      "state": {
       "layout": "IPY_MODEL_183ef98b8ba94baca6297c12585c5bf1",
       "style": "IPY_MODEL_e3c5162d87594a42a0e93ff3a31f5999",
       "value": "<a href=./education/PhD/upscaling_carbon_fluxes/notebooks/exercise3.ipynb target='_blank'>Upscaling eddy covariance GPP with remote sensing</a>"
      }
     },
     "bb3f3235062f4c98a8e733eb49408247": {
      "model_module": "@jupyter-widgets/controls",
      "model_module_version": "1.5.0",
      "model_name": "DescriptionStyleModel",
      "state": {
       "description_width": ""
      }
     },
     "bb504374e5e24684926cbc01ca868f8e": {
      "model_module": "@jupyter-widgets/base",
      "model_module_version": "1.2.0",
      "model_name": "LayoutModel",
      "state": {}
     },
     "bb73b874585b41a7a24d30da7f1e51e1": {
      "model_module": "@jupyter-widgets/controls",
      "model_module_version": "1.5.0",
      "model_name": "DescriptionStyleModel",
      "state": {
       "description_width": ""
      }
     },
     "bb97619552d243cc9aa3d437b7118801": {
      "model_module": "@jupyter-widgets/controls",
      "model_module_version": "1.5.0",
      "model_name": "GridBoxModel",
      "state": {
       "children": [
        "IPY_MODEL_ad3e5ffe0f6343868edc1770407a6ffb",
        "IPY_MODEL_3d25b8e3991c440bb547c07f21958e7b"
       ],
       "layout": "IPY_MODEL_5746fc622f004d88a88588938ad59fd5"
      }
     },
     "bb9a3f0ed4a34da4a712abf0c37a6ccd": {
      "model_module": "@jupyter-widgets/controls",
      "model_module_version": "1.5.0",
      "model_name": "DescriptionStyleModel",
      "state": {
       "description_width": ""
      }
     },
     "bbdf6c9991404390926e121b734c4400": {
      "model_module": "@jupyter-widgets/base",
      "model_module_version": "1.2.0",
      "model_name": "LayoutModel",
      "state": {}
     },
     "bbe13cbb1e7c4a8d9f555f74d212c4fd": {
      "model_module": "@jupyter-widgets/controls",
      "model_module_version": "1.5.0",
      "model_name": "DescriptionStyleModel",
      "state": {
       "description_width": ""
      }
     },
     "bbe4a3d89f0e46448e94766f94b52cf5": {
      "model_module": "@jupyter-widgets/controls",
      "model_module_version": "1.5.0",
      "model_name": "HTMLModel",
      "state": {
       "layout": "IPY_MODEL_f8918add9eda4769bb4e558a133ca28a",
       "style": "IPY_MODEL_47a2336814de4689978df70f0751c252",
       "value": "<b>Description: </b> "
      }
     },
     "bc024840dc2b4235b8d337d5528dbae1": {
      "model_module": "@jupyter-widgets/controls",
      "model_module_version": "1.5.0",
      "model_name": "HTMLModel",
      "state": {
       "layout": "IPY_MODEL_71d20e97cb5f4092993f8b39ff6f7f4f",
       "style": "IPY_MODEL_436da2ba8cc44495a26f4f6d20bac2bc",
       "value": "<a href=\"mailto: jupyter-info@icos-cp.eu\">jupyter-info@icos-cp.eu</a>, <a href=\"mailto: lars.eklundh@nateko.lu.se\">lars.eklundh@nateko.lu.se</a>, <a href=\"mailto: Maj-Lena.Linderson@nateko.lu.se\">Maj-Lena.Linderson@nateko.lu.se</a>"
      }
     },
     "bc34d45a13f54d02bdcc018243182b24": {
      "model_module": "@jupyter-widgets/controls",
      "model_module_version": "1.5.0",
      "model_name": "DescriptionStyleModel",
      "state": {
       "description_width": ""
      }
     },
     "bc8d68f29a69412eb0f6674d7642c7cd": {
      "model_module": "@jupyter-widgets/base",
      "model_module_version": "1.2.0",
      "model_name": "LayoutModel",
      "state": {}
     },
     "bc91a630866d4cb7a003b8a7fff0d28a": {
      "model_module": "@jupyter-widgets/controls",
      "model_module_version": "1.5.0",
      "model_name": "HTMLModel",
      "state": {
       "layout": "IPY_MODEL_7813675530264a96885af7aacc236691",
       "style": "IPY_MODEL_623e16f6fe2748caaa9de7a30be47674",
       "value": "This Jupyter Notebook is dedicated to explaining the carbon cycle and focuses on topics regarding daily and yearly fluctuations in the concentration of carbon dioxide. It contains definitions, short descriptions, figures and animations that describe the following terms: <b>carbon dioxide</b>, <b>carbon cycle</b>, <b>carbon sinks</b> and <b>carbon sources</b>. You will be able to test your knowledge on carbon by taking the <i>Carbon Challenge Quiz</i>. In order to better comprehend the carbon cycle, the notebook also includes exercises using ICOS data from Hyltemossa station in Sweden. The exercises are based on topics related to the uptake and release of carbon dioxide amongst different parts of an ecosystem."
      }
     },
     "bcd633e1bbe747c4bd4ebb22b04c6d25": {
      "model_module": "@jupyter-widgets/base",
      "model_module_version": "1.2.0",
      "model_name": "LayoutModel",
      "state": {
       "grid_gap": "5px 10px",
       "grid_template_columns": "100px auto",
       "grid_template_rows": "auto auto auto auto auto",
       "padding": "50px 0px 70px 0px",
       "width": "100%"
      }
     },
     "bd303f236a0e429f96231c83f61b05b7": {
      "model_module": "@jupyter-widgets/base",
      "model_module_version": "1.2.0",
      "model_name": "LayoutModel",
      "state": {}
     },
     "bd5deacc92bd4ca28b8ca8a1ffcabd53": {
      "model_module": "@jupyter-widgets/base",
      "model_module_version": "1.2.0",
      "model_name": "LayoutModel",
      "state": {}
     },
     "bd648139cf9f4de6808f32b58a39430e": {
      "model_module": "@jupyter-widgets/controls",
      "model_module_version": "1.5.0",
      "model_name": "DescriptionStyleModel",
      "state": {
       "description_width": ""
      }
     },
     "bd71680b9cfa49c999f9639f813b2abd": {
      "model_module": "@jupyter-widgets/controls",
      "model_module_version": "1.5.0",
      "model_name": "DescriptionStyleModel",
      "state": {
       "description_width": ""
      }
     },
     "bdfb6f858c664fe5a72bda407d0e0727": {
      "model_module": "@jupyter-widgets/controls",
      "model_module_version": "1.5.0",
      "model_name": "DescriptionStyleModel",
      "state": {
       "description_width": ""
      }
     },
     "be25c4e7c232496f94652f679cc20cde": {
      "model_module": "@jupyter-widgets/base",
      "model_module_version": "1.2.0",
      "model_name": "LayoutModel",
      "state": {}
     },
     "be94492056ae4afc8b2d6efa426a3f90": {
      "model_module": "@jupyter-widgets/controls",
      "model_module_version": "1.5.0",
      "model_name": "HTMLModel",
      "state": {
       "layout": "IPY_MODEL_117e15533fa14075815e390ac2a3fe7e",
       "style": "IPY_MODEL_2d421266a13942f18729be778f3358fb",
       "value": "<b>Description: </b> "
      }
     },
     "bea630723cc84f268e09543d467df395": {
      "model_module": "@jupyter-widgets/controls",
      "model_module_version": "1.5.0",
      "model_name": "HTMLModel",
      "state": {
       "layout": "IPY_MODEL_83e1a85ad235442bb044c47c5b897385",
       "style": "IPY_MODEL_ef285dfe7e994f4b8b454d61d2117986",
       "value": "<a href=./project_jupyter_notebooks/OTC%20Data%20Reduction%20Workshop/modules/data_reduction_modules.ipynb target='_blank'>Functions and Settings for data reduction modules</a>"
      }
     },
     "bebe88bbb1da4deeb991fc31679d8cb6": {
      "model_module": "@jupyter-widgets/controls",
      "model_module_version": "1.5.0",
      "model_name": "DescriptionStyleModel",
      "state": {
       "description_width": ""
      }
     },
     "bf734476dce14777bf4f58659a99921f": {
      "model_module": "@jupyter-widgets/controls",
      "model_module_version": "1.5.0",
      "model_name": "HTMLModel",
      "state": {
       "layout": "IPY_MODEL_0f4080ac862f4bada225ddcb8c8f19e0",
       "style": "IPY_MODEL_63a0893a12e444d89d3f1d2761e717fd",
       "value": "<a href='https://github.com/ICOS-Carbon-Portal/jupyter/issues' target='_blank'>Click here to report an issue</a>"
      }
     },
     "bf8f2ad959d44853a822e1fbecc7d865": {
      "model_module": "@jupyter-widgets/controls",
      "model_module_version": "1.5.0",
      "model_name": "HTMLModel",
      "state": {
       "layout": "IPY_MODEL_8299b0b57ef544bcb3c58a53a3be04b0",
       "style": "IPY_MODEL_0055dfd3777a42f6ae88990537d4eef9",
       "value": "<b>GitHub: </b> "
      }
     },
     "bfe4755c8c3a42ad886bad614195e675": {
      "model_module": "@jupyter-widgets/base",
      "model_module_version": "1.2.0",
      "model_name": "LayoutModel",
      "state": {}
     },
     "bff3af0656044c9ea9aa2a06eb295405": {
      "model_module": "@jupyter-widgets/controls",
      "model_module_version": "1.5.0",
      "model_name": "HTMLModel",
      "state": {
       "layout": "IPY_MODEL_4aafa0ed531a41bb8b3f4ea81ef51d9a",
       "style": "IPY_MODEL_01d62065bb0e4e5986ef7ffba37940ca",
       "value": "This notebook makes it possible to generate characterisations of atmospheric stations based on their influence areas. The influence area of a station is determined by the <a href=\"http://stilt-model.org/index.php/Main/HomePage\" target=\"_blank\">transport model STILT</a> and the result is called a footprint. To generate the characterisation visualizations the average footprint for the user-defined date rage is combined with an anthropogenic emissions database, a biogenic flux model and ancillary data layers. Any point in the <a href=\"http://stilt-model.org/index.php/Main/HomePage\" target=\"_blank\">STILT</a> domain with footprints (not necessarily existing stations) will appear in the STILT stations dropdown and can be analyzed."
      }
     },
     "c06d9acee9dc4f77b2f8e1abc5b3341d": {
      "model_module": "@jupyter-widgets/controls",
      "model_module_version": "1.5.0",
      "model_name": "DescriptionStyleModel",
      "state": {
       "description_width": ""
      }
     },
     "c092a88c9a024a6db15ae8c7c2cb72c4": {
      "model_module": "@jupyter-widgets/controls",
      "model_module_version": "1.5.0",
      "model_name": "DescriptionStyleModel",
      "state": {
       "description_width": ""
      }
     },
     "c0cae020348c4b0389af4fe0c940cdd9": {
      "model_module": "@jupyter-widgets/controls",
      "model_module_version": "1.5.0",
      "model_name": "HTMLModel",
      "state": {
       "layout": "IPY_MODEL_5617fdda241f400998e1917bce32beee",
       "style": "IPY_MODEL_8bc86bd75ca8499ca79eae5aa0aaacdb",
       "value": "<a href=\"mailto: jupyter-info@icos-cp.eu\">jupyter-info@icos-cp.eu</a>, <a href=\"mailto: lars.harrie@nateko.lu.se\">lars.harrie@nateko.lu.se</a>, <a href=\"mailto: Maj-Lena.Linderson@nateko.lu.se\">Maj-Lena.Linderson@nateko.lu.se</a>"
      }
     },
     "c0eff5efb868494d94fe0f0ce5317baf": {
      "model_module": "@jupyter-widgets/base",
      "model_module_version": "1.2.0",
      "model_name": "LayoutModel",
      "state": {}
     },
     "c1087f40a85841c1a8716d0fd11b5e50": {
      "model_module": "@jupyter-widgets/controls",
      "model_module_version": "1.5.0",
      "model_name": "DescriptionStyleModel",
      "state": {
       "description_width": ""
      }
     },
     "c187f5b49cbe4b6497f6a60a7d209e0d": {
      "model_module": "@jupyter-widgets/controls",
      "model_module_version": "1.5.0",
      "model_name": "HTMLModel",
      "state": {
       "layout": "IPY_MODEL_ad84e201879a4f709bd9bb87b0e3b16e",
       "style": "IPY_MODEL_1f4c79422e304da099b744750c949b70",
       "value": "<img src=\"./icos_jupyter_notebooks/ind_tools/img//05_education/general/01_ccd/carbon_cycle_eng.png\">"
      }
     },
     "c1cfef567bdc4aafb8240685e19a2efc": {
      "model_module": "@jupyter-widgets/controls",
      "model_module_version": "1.5.0",
      "model_name": "DescriptionStyleModel",
      "state": {
       "description_width": ""
      }
     },
     "c20bdbbb032e4d6a8e058dfc24a4f91b": {
      "model_module": "@jupyter-widgets/base",
      "model_module_version": "1.2.0",
      "model_name": "LayoutModel",
      "state": {}
     },
     "c2ef4cc2472f43e3af1e6ccf53c37b8c": {
      "model_module": "@jupyter-widgets/base",
      "model_module_version": "1.2.0",
      "model_name": "LayoutModel",
      "state": {}
     },
     "c3d456efabc547f7840b500ca11d2732": {
      "model_module": "@jupyter-widgets/base",
      "model_module_version": "1.2.0",
      "model_name": "LayoutModel",
      "state": {}
     },
     "c415d4991b114650820b47e385d08b37": {
      "model_module": "@jupyter-widgets/controls",
      "model_module_version": "1.5.0",
      "model_name": "HTMLModel",
      "state": {
       "layout": "IPY_MODEL_f3eb3699515f4c21817a7b1be88ac542",
       "style": "IPY_MODEL_2c77e8b4fdfc49daa9ff7dcb4353654e",
       "value": "<a href=./pylib_examples/ex3_multisource.ipynb target='_blank'>ICOS Carbon Portal Python Library - Multisource</a>"
      }
     },
     "c4521081a5a445d3a27ee0e356ee4edc": {
      "model_module": "@jupyter-widgets/controls",
      "model_module_version": "1.5.0",
      "model_name": "DescriptionStyleModel",
      "state": {
       "description_width": ""
      }
     },
     "c46f5f544ee246e396bf7db876f88d81": {
      "model_module": "@jupyter-widgets/controls",
      "model_module_version": "1.5.0",
      "model_name": "DescriptionStyleModel",
      "state": {
       "description_width": ""
      }
     },
     "c4b1eac1bf2b4af3b512937f818cd693": {
      "model_module": "@jupyter-widgets/base",
      "model_module_version": "1.2.0",
      "model_name": "LayoutModel",
      "state": {}
     },
     "c4ba1d85a5be4a6284b74a4c4ceaf4f5": {
      "model_module": "@jupyter-widgets/controls",
      "model_module_version": "1.5.0",
      "model_name": "HTMLModel",
      "state": {
       "layout": "IPY_MODEL_476a67cea53a4f9fa9d76cc7c5872df1",
       "style": "IPY_MODEL_0233149d4f6442a5b943c14a8c637cda",
       "value": "This notebook contains a short introduction of basic principles of coding in Python. It is aimed for people who have no prior knowledge in programming but also for people who wish to brush up their memory in programmng with Python or are already familiar with programming in another programming language and want to become acquainted with Python. The notebook is organized in a series of chapters where the main principles of programming are introduced. There is an emphasis on providing brief descriptions of the coding principles in conjuction with simple and self-explanatory coding examples. People who are new to programming are advised to follow this manual step by step. For people that are already familiar with Python or programming in general, it is possible to use the links to navigate to specific chapters."
      }
     },
     "c4cc1646f4a84b329384de2e92b8af22": {
      "model_module": "@jupyter-widgets/controls",
      "model_module_version": "1.5.0",
      "model_name": "DescriptionStyleModel",
      "state": {
       "description_width": ""
      }
     },
     "c5441eed2c8d49d5ba2e30a1ff359185": {
      "model_module": "@jupyter-widgets/controls",
      "model_module_version": "1.5.0",
      "model_name": "HTMLModel",
      "state": {
       "layout": "IPY_MODEL_4ad48b288864400881622b1d8c1c4861",
       "style": "IPY_MODEL_1b32f17a26eb4be092fb044e989ca43e",
       "value": "<a href='https://github.com/ICOS-Carbon-Portal/jupyter/issues' target='_blank'>Click here to report an issue</a>"
      }
     },
     "c55c491e9ec7490585cafc49d465fb32": {
      "model_module": "@jupyter-widgets/base",
      "model_module_version": "1.2.0",
      "model_name": "LayoutModel",
      "state": {}
     },
     "c58fc161488447dfbf2c1bb3bd2a996a": {
      "model_module": "@jupyter-widgets/controls",
      "model_module_version": "1.5.0",
      "model_name": "DescriptionStyleModel",
      "state": {
       "description_width": ""
      }
     },
     "c5a7e5c8da974208943333f933e5602b": {
      "model_module": "@jupyter-widgets/controls",
      "model_module_version": "1.5.0",
      "model_name": "HTMLModel",
      "state": {
       "layout": "IPY_MODEL_6f40fd9f3a5a4eb0bd5db609445cbac6",
       "style": "IPY_MODEL_bebe88bbb1da4deeb991fc31679d8cb6",
       "value": "Includes notebooks that use ICOS data products to introduce students to basic principles of programming whilst exploring the consequences of the drought during the summer of 2018."
      }
     },
     "c5bfc7b6ccbb4b7b9e538a936a828aa6": {
      "model_module": "@jupyter-widgets/controls",
      "model_module_version": "1.5.0",
      "model_name": "HTMLModel",
      "state": {
       "layout": "IPY_MODEL_1697cbdccf8942f189b0edc247324393",
       "style": "IPY_MODEL_17f4ea1724144020a072524759b4a69b",
       "value": "<a href='https://github.com/ICOS-Carbon-Portal/jupyter/issues' target='_blank'>Click here to report an issue</a>"
      }
     },
     "c60bb6e38d094c5a96e3d254cfdd958b": {
      "model_module": "@jupyter-widgets/controls",
      "model_module_version": "1.5.0",
      "model_name": "DescriptionStyleModel",
      "state": {
       "description_width": ""
      }
     },
     "c6971d7c0ea2433a92245808f44201ba": {
      "model_module": "@jupyter-widgets/controls",
      "model_module_version": "1.5.0",
      "model_name": "HTMLModel",
      "state": {
       "layout": "IPY_MODEL_f572d8e476964eb5afbf0826999f73bd",
       "style": "IPY_MODEL_32b5eed1915549029d4fd17cad49162d",
       "value": "<a href='https://github.com/ICOS-Carbon-Portal/jupyter/issues' target='_blank'>Click here to report an issue</a>"
      }
     },
     "c6b42208caad4e01854bb8a38ae355e7": {
      "model_module": "@jupyter-widgets/base",
      "model_module_version": "1.2.0",
      "model_name": "LayoutModel",
      "state": {}
     },
     "c6ca31f179264562b1fa7eaa20497876": {
      "model_module": "@jupyter-widgets/base",
      "model_module_version": "1.2.0",
      "model_name": "LayoutModel",
      "state": {
       "grid_gap": "5px 10px",
       "grid_template_columns": "100px auto",
       "grid_template_rows": "auto auto auto auto auto",
       "padding": "50px 0px 70px 0px",
       "width": "100%"
      }
     },
     "c70cef330ed34851a2b8bba915880392": {
      "model_module": "@jupyter-widgets/controls",
      "model_module_version": "1.5.0",
      "model_name": "DescriptionStyleModel",
      "state": {
       "description_width": ""
      }
     },
     "c71be957521b49d78626d0ed6d60b5fa": {
      "model_module": "@jupyter-widgets/controls",
      "model_module_version": "1.5.0",
      "model_name": "DescriptionStyleModel",
      "state": {
       "description_width": ""
      }
     },
     "c731a239df714ac8b4009ea5ea34eeee": {
      "model_module": "@jupyter-widgets/controls",
      "model_module_version": "1.5.0",
      "model_name": "DescriptionStyleModel",
      "state": {
       "description_width": ""
      }
     },
     "c73ec95a2f3c42e3a52e48f513c7a055": {
      "model_module": "@jupyter-widgets/base",
      "model_module_version": "1.2.0",
      "model_name": "LayoutModel",
      "state": {}
     },
     "c74fc025593f474480d1029c9c386a1b": {
      "model_module": "@jupyter-widgets/controls",
      "model_module_version": "1.5.0",
      "model_name": "HTMLModel",
      "state": {
       "layout": "IPY_MODEL_0445b6552f69468587d1a8a6cf1551f2",
       "style": "IPY_MODEL_99aff9b9abfb4173933ba3f35dca50af",
       "value": "<a href=./icos_jupyter_notebooks/network_characterization.ipynb target='_blank'>Characterization of networks of atmospheric measurement stations</a>"
      }
     },
     "c76764c7f63646c189aca8e11681570d": {
      "model_module": "@jupyter-widgets/controls",
      "model_module_version": "1.5.0",
      "model_name": "HTMLModel",
      "state": {
       "layout": "IPY_MODEL_564825f9f7f0440dabf5b63554e2b70f",
       "style": "IPY_MODEL_7667b467c28147c19001cea877824f3c",
       "value": "<b>Title: </b> "
      }
     },
     "c768fceb0de84b168865a14fad0f0bd7": {
      "model_module": "@jupyter-widgets/controls",
      "model_module_version": "1.5.0",
      "model_name": "DescriptionStyleModel",
      "state": {
       "description_width": ""
      }
     },
     "c772495d2dd041489e843bff2e644f72": {
      "model_module": "@jupyter-widgets/base",
      "model_module_version": "1.2.0",
      "model_name": "LayoutModel",
      "state": {
       "grid_gap": "5px 10px",
       "grid_template_columns": "100px auto",
       "grid_template_rows": "auto auto auto auto auto",
       "padding": "50px 0px 70px 0px",
       "width": "100%"
      }
     },
     "c777dad4cc8446a89ef0703e1f2c82d7": {
      "model_module": "@jupyter-widgets/controls",
      "model_module_version": "1.5.0",
      "model_name": "HTMLModel",
      "state": {
       "layout": "IPY_MODEL_5d7c99d2eb4b4e6eba2fe3391dae16ec",
       "style": "IPY_MODEL_f35c86c026cf46cf820e518bdd709878",
       "value": "<b>Thumbnail: </b> "
      }
     },
     "c789cd4ba3a443ff9da48336c08c9c05": {
      "model_module": "@jupyter-widgets/controls",
      "model_module_version": "1.5.0",
      "model_name": "HTMLModel",
      "state": {
       "layout": "IPY_MODEL_0cd8b42be5764cafbb89905cbb448e31",
       "style": "IPY_MODEL_f7ae885da15c42918b7aceb7dd5f4ed1",
       "value": "<b>GitHub: </b> "
      }
     },
     "c78a86cd83b24cfd82972df763d2f957": {
      "model_module": "@jupyter-widgets/controls",
      "model_module_version": "1.5.0",
      "model_name": "HTMLModel",
      "state": {
       "layout": "IPY_MODEL_01c942f8c0284d94b9a912ed5b4ec587",
       "style": "IPY_MODEL_341cfd3bb93d424eb7e72177639aa2e7",
       "value": "<a href='https://github.com/ICOS-Carbon-Portal/jupyter/issues' target='_blank'>Click here to report an issue</a>"
      }
     },
     "c793ecdfb78f4bcdb01fe70656cd22a2": {
      "model_module": "@jupyter-widgets/base",
      "model_module_version": "1.2.0",
      "model_name": "LayoutModel",
      "state": {}
     },
     "c7bebecdf86f492c8eb4583670c0aafa": {
      "model_module": "@jupyter-widgets/controls",
      "model_module_version": "1.5.0",
      "model_name": "HTMLModel",
      "state": {
       "layout": "IPY_MODEL_8dbedc33704d49caa12b9e8355770e1c",
       "style": "IPY_MODEL_9019e725e3ea4fa29433124d0ae6bcc4",
       "value": "This category includes notebooks that are part of ICOS CP's webinars/workshops as well as notebooks that present the scientific output of projects ICOS has been involved in."
      }
     },
     "c7e6517b1a5749ea8a2ee9d86ed99bf3": {
      "model_module": "@jupyter-widgets/base",
      "model_module_version": "1.2.0",
      "model_name": "LayoutModel",
      "state": {}
     },
     "c818e13d19124dd2829d3c920335db38": {
      "model_module": "@jupyter-widgets/controls",
      "model_module_version": "1.5.0",
      "model_name": "HTMLModel",
      "state": {
       "layout": "IPY_MODEL_8e8ee34619754c8da79ad195c612eed9",
       "style": "IPY_MODEL_3978699734e349bc88138a011477efa9",
       "value": "Contains a notebook with a soil exercise for university students."
      }
     },
     "c8242a2d7e0e43838662781c9359dd89": {
      "model_module": "@jupyter-widgets/controls",
      "model_module_version": "1.5.0",
      "model_name": "DescriptionStyleModel",
      "state": {
       "description_width": ""
      }
     },
     "c88aaa23d13c406397de819504f17e24": {
      "model_module": "@jupyter-widgets/base",
      "model_module_version": "1.2.0",
      "model_name": "LayoutModel",
      "state": {}
     },
     "c88ee224605f437490fa790c2ae143ca": {
      "model_module": "@jupyter-widgets/controls",
      "model_module_version": "1.5.0",
      "model_name": "HTMLModel",
      "state": {
       "layout": "IPY_MODEL_7b30586beb1a4e9ba2b98efcf64d4f19",
       "style": "IPY_MODEL_0e282c0b28b842cfbae00e7ccf3647e9",
       "value": "<b>Description: </b> "
      }
     },
     "c8b3ad53adb544acb95b52bfdbe5ed14": {
      "model_module": "@jupyter-widgets/controls",
      "model_module_version": "1.5.0",
      "model_name": "HTMLModel",
      "state": {
       "layout": "IPY_MODEL_65696ae04ae740c6af2822ca649d44f5",
       "style": "IPY_MODEL_401bf48cc4654a95ae771bbc71dc33b6",
       "value": "<b>Title: </b> "
      }
     },
     "c8d6f1c773074e3f9c319c16cf14c755": {
      "model_module": "@jupyter-widgets/controls",
      "model_module_version": "1.5.0",
      "model_name": "DescriptionStyleModel",
      "state": {
       "description_width": ""
      }
     },
     "c8d7511148d34146aec54ec05a9c08f0": {
      "model_module": "@jupyter-widgets/controls",
      "model_module_version": "1.5.0",
      "model_name": "HTMLModel",
      "state": {
       "layout": "IPY_MODEL_7e4105be44504e39872b19a6f0117704",
       "style": "IPY_MODEL_fb1b2eabdfdb404eaa4c1b537b3c8a23",
       "value": "This is an ancillary notebook including all Python functions that were developed to produce all the content of the exercise notebooks. Students are presented with short descriptions of what the functions do so that they can use them if they so wish. They are not meant to necessarily understand the commands step by step but rather what is the concept of each function and how they can use it to produce results or plots."
      }
     },
     "c8df2c41ba434a63be2adf38923bf3ff": {
      "model_module": "@jupyter-widgets/controls",
      "model_module_version": "1.5.0",
      "model_name": "HTMLModel",
      "state": {
       "layout": "IPY_MODEL_6f18b3c146d8415e9b40c4c6f72261a9",
       "style": "IPY_MODEL_92c7db163c8f44629544254337c06369",
       "value": "<b>Title: </b> "
      }
     },
     "c8f91e5dfe2341fd821462be9b512467": {
      "model_module": "@jupyter-widgets/base",
      "model_module_version": "1.2.0",
      "model_name": "LayoutModel",
      "state": {}
     },
     "c984bdde42e8455388319343e27f4d04": {
      "model_module": "@jupyter-widgets/controls",
      "model_module_version": "1.5.0",
      "model_name": "HTMLModel",
      "state": {
       "layout": "IPY_MODEL_efd97e41a4b1472eb1b8b9662e18511a",
       "style": "IPY_MODEL_91cfa6d515214ad7b6d3869962986ac3",
       "value": "<b>Description: </b> "
      }
     },
     "c98d1cbdefbe46f4a82ed58be69d3053": {
      "model_module": "@jupyter-widgets/base",
      "model_module_version": "1.2.0",
      "model_name": "LayoutModel",
      "state": {}
     },
     "c99d63f21ae44ad0a55451fe1ec678f8": {
      "model_module": "@jupyter-widgets/base",
      "model_module_version": "1.2.0",
      "model_name": "LayoutModel",
      "state": {}
     },
     "c9a481d0be394d9ebc1e9860064b1c76": {
      "model_module": "@jupyter-widgets/controls",
      "model_module_version": "1.5.0",
      "model_name": "DescriptionStyleModel",
      "state": {
       "description_width": ""
      }
     },
     "c9c1084dc17b436cb36181f7d41c077b": {
      "model_module": "@jupyter-widgets/controls",
      "model_module_version": "1.5.0",
      "model_name": "HTMLModel",
      "state": {
       "layout": "IPY_MODEL_d525734b4f764dc394a910dec65890cc",
       "style": "IPY_MODEL_4aa94b45a2cc4c739c3828d781e2695f",
       "value": "<b>Title: </b> "
      }
     },
     "c9ef99fd50e64613b191ee9818d3f3e8": {
      "model_module": "@jupyter-widgets/base",
      "model_module_version": "1.2.0",
      "model_name": "LayoutModel",
      "state": {}
     },
     "ca12c56978e9447eac20be86e1bb2b53": {
      "model_module": "@jupyter-widgets/controls",
      "model_module_version": "1.5.0",
      "model_name": "HTMLModel",
      "state": {
       "layout": "IPY_MODEL_879eb642e869487986abb3a1df8ace50",
       "style": "IPY_MODEL_18b2f511bae4471b8d5b43706ae51ff1",
       "value": "<b>Title: </b> "
      }
     },
     "ca321b336e154e10a6b503a7c5976cc8": {
      "model_module": "@jupyter-widgets/controls",
      "model_module_version": "1.5.0",
      "model_name": "HTMLModel",
      "state": {
       "layout": "IPY_MODEL_dfa5654648b849db96850e316393d0cd",
       "style": "IPY_MODEL_a6279db3996d4f06aa1d2e76d5461725",
       "value": "This notebook is dedicated to using ICOS Ecosystem Data from Hyltemossa Research Station in Southern Sweden, to study how the drought during the summer of 2018 affected the vegetation and the carbon balance in the surrounding area. The temporal resolution of the data extends from January 1st 2015 to December 31st 2018. Another objective of this notebook is to introduce basic principles of Python Programming."
      }
     },
     "ca3e354894024d56ab612475af5a8d5d": {
      "model_module": "@jupyter-widgets/controls",
      "model_module_version": "1.5.0",
      "model_name": "HTMLModel",
      "state": {
       "layout": "IPY_MODEL_141125100db745dab3bfcbefb002dfca",
       "style": "IPY_MODEL_3431f682057e4f6c993fee69ac13d8cb",
       "value": "<a href=\"mailto: jupyter-info@icos-cp.eu\">jupyter-info@icos-cp.eu</a>"
      }
     },
     "ca924a09c1954a1bab4fb092a234747a": {
      "model_module": "@jupyter-widgets/base",
      "model_module_version": "1.2.0",
      "model_name": "LayoutModel",
      "state": {}
     },
     "caa28d8006b2444ca6a5d6ef620d3eb1": {
      "model_module": "@jupyter-widgets/controls",
      "model_module_version": "1.5.0",
      "model_name": "HTMLModel",
      "state": {
       "layout": "IPY_MODEL_02a26b4dd65d4adaaf02a4e18b1fa056",
       "style": "IPY_MODEL_d2ae4d5ea5694543a5a428cdb3f675d9",
       "value": "<b>Thumbnail: </b> "
      }
     },
     "caf8a8594f494703a59527b87244cb36": {
      "model_module": "@jupyter-widgets/controls",
      "model_module_version": "1.5.0",
      "model_name": "DescriptionStyleModel",
      "state": {
       "description_width": ""
      }
     },
     "cb0cf0f43aeb47998a9d65bbd36fc9ab": {
      "model_module": "@jupyter-widgets/base",
      "model_module_version": "1.2.0",
      "model_name": "LayoutModel",
      "state": {}
     },
     "cb0fd1c906e140079cc63a7685c6847e": {
      "model_module": "@jupyter-widgets/controls",
      "model_module_version": "1.5.0",
      "model_name": "DescriptionStyleModel",
      "state": {
       "description_width": ""
      }
     },
     "cb107d4ed1764208a0d62956bf1cd7e7": {
      "model_module": "@jupyter-widgets/controls",
      "model_module_version": "1.5.0",
      "model_name": "HTMLModel",
      "state": {
       "layout": "IPY_MODEL_0580cc7ceede49d0ab238bde4871b7dd",
       "style": "IPY_MODEL_c9a481d0be394d9ebc1e9860064b1c76",
       "value": "This Jupyter notebook is showcasing how to search for stations (for which <a href='http://stilt-model.org/index.php/Main/HomePage' target='_blank'>STILT</a> model results are available for) using the ICOS Carbon Portal Python library. Full documentation for the ICOS library is available on the <a href='https://icos-carbon-portal.github.io/pylib/' target='_blank'>project page</a>, how to install and wheel on <a href='https://pypi.org/project/icoscp/' target='_blank'>pypi.org</a>, source available on <a href='https://github.com/ICOS-Carbon-Portal/pylib' target='_blank'>GitHub</a>."
      }
     },
     "cb2d1bfacc704b2abc494f54c0860c6e": {
      "model_module": "@jupyter-widgets/base",
      "model_module_version": "1.2.0",
      "model_name": "LayoutModel",
      "state": {}
     },
     "cb3e29f63b5d4677a2afd80964b80912": {
      "model_module": "@jupyter-widgets/controls",
      "model_module_version": "1.5.0",
      "model_name": "HTMLModel",
      "state": {
       "layout": "IPY_MODEL_dcc137d0d96543329b3c869d802da078",
       "style": "IPY_MODEL_960dd07966544527ba7d272453a8b245",
       "value": "This educational Jupyter notebook is dedicated to explaining the carbon cycle and focuses on topics regarding daily and yearly fluctuations in the concentration and uptake of carbon dioxide. It contains definitions, short descriptions, figures and animations that describe the following terms: <b>carbon dioxide</b>, <b>carbon cycle</b>, <b>carbon sinks</b>, <b>carbon sources</b>, <b>photosynthesis</b> and <b>Gross Primary Production</b> (GPP). You will be able to test your knowledge on carbon by taking the <i>Carbon Challenge Quiz</i>. In order to better comprehend the carbon cycle with real-life examples, the notebook also includes exercises using ICOS data from Hyltemossa research station in Sweden."
      }
     },
     "cbc4ca55006c42f8985230d49d777010": {
      "model_module": "@jupyter-widgets/controls",
      "model_module_version": "1.5.0",
      "model_name": "GridBoxModel",
      "state": {
       "children": [
        "IPY_MODEL_3e0bc989953c4ba49ddd138591765ab9",
        "IPY_MODEL_997bdab938b6481b85fea9c30b612d5d"
       ],
       "layout": "IPY_MODEL_43a4eaef15704a6bb15a3654867f9718"
      }
     },
     "cbceab432bf245f2ad5942737d139593": {
      "model_module": "@jupyter-widgets/controls",
      "model_module_version": "1.5.0",
      "model_name": "GridBoxModel",
      "state": {
       "children": [
        "IPY_MODEL_ab977d4afcea49828fb299796178aa17",
        "IPY_MODEL_da36b614bc564c7a8761bc2e8a3799ad"
       ],
       "layout": "IPY_MODEL_ce393373639844abaa3deb69e284806d"
      }
     },
     "cbd0d9f7d03b42e3b93fa7be6f4777a3": {
      "model_module": "@jupyter-widgets/controls",
      "model_module_version": "1.5.0",
      "model_name": "HTMLModel",
      "state": {
       "layout": "IPY_MODEL_d635d1dae3d04fccad88eab5df3b9df7",
       "style": "IPY_MODEL_41f22fe75719436aae2669386bf5c245",
       "value": "<a href=./project_jupyter_notebooks/RINGO_T1.3/ICOS_flasksampling_fossilfuel.ipynb target='_blank'>Jupyter notebook for selecting high fossil fuel CO2 events at ICOS stations</a>"
      }
     },
     "cbd36e34450240678ba072464e26ef3e": {
      "model_module": "@jupyter-widgets/base",
      "model_module_version": "1.2.0",
      "model_name": "LayoutModel",
      "state": {}
     },
     "cbda3774b5cc4290bffdd36d8ba031c5": {
      "model_module": "@jupyter-widgets/controls",
      "model_module_version": "1.5.0",
      "model_name": "DescriptionStyleModel",
      "state": {
       "description_width": ""
      }
     },
     "cbe84b0c02264109904dbca00fa65a0e": {
      "model_module": "@jupyter-widgets/controls",
      "model_module_version": "1.5.0",
      "model_name": "DescriptionStyleModel",
      "state": {
       "description_width": ""
      }
     },
     "cbe915e49a294ad996b19208a79e69f4": {
      "model_module": "@jupyter-widgets/controls",
      "model_module_version": "1.5.0",
      "model_name": "HTMLModel",
      "state": {
       "layout": "IPY_MODEL_c88aaa23d13c406397de819504f17e24",
       "style": "IPY_MODEL_d294dc8de7034ceebd86bf5e29169fb1",
       "value": "<a href=./icos_jupyter_notebooks/station_characterization.ipynb target='_blank'>Characterization of atmospheric measurement stations</a>"
      }
     },
     "cbf0e2fcef5649e491b437e632c9b96d": {
      "model_module": "@jupyter-widgets/controls",
      "model_module_version": "1.5.0",
      "model_name": "HTMLModel",
      "state": {
       "layout": "IPY_MODEL_5a9f2f4f9a024abcbc77af609321bd2b",
       "style": "IPY_MODEL_1275e429489c4d09bf8ae2063c4af501",
       "value": "<b>Contact: </b> "
      }
     },
     "cc44cdc783a9491b967f3c10c97c7778": {
      "model_module": "@jupyter-widgets/base",
      "model_module_version": "1.2.0",
      "model_name": "LayoutModel",
      "state": {}
     },
     "cc7a34fb1eee4fe49b9cbc39259d5eac": {
      "model_module": "@jupyter-widgets/controls",
      "model_module_version": "1.5.0",
      "model_name": "HTMLModel",
      "state": {
       "layout": "IPY_MODEL_ac076337dec245f1b6c0480d6055cee8",
       "style": "IPY_MODEL_545fc775e22f491193d7c1bf68fba915",
       "value": "<b>Title: </b> "
      }
     },
     "cca2384e128942c9ab89830c75d00362": {
      "model_module": "@jupyter-widgets/controls",
      "model_module_version": "1.5.0",
      "model_name": "DescriptionStyleModel",
      "state": {
       "description_width": ""
      }
     },
     "ccb7e6db270c41b7a89f315fb37dc70d": {
      "model_module": "@jupyter-widgets/controls",
      "model_module_version": "1.5.0",
      "model_name": "HTMLModel",
      "state": {
       "layout": "IPY_MODEL_09c553a91da94f5e8e6821c858888e48",
       "style": "IPY_MODEL_70f4e63b0d5e4237bcebb7dc0306329a",
       "value": "<b>Thumbnail: </b> "
      }
     },
     "cd3499da3d2a433b8f312071be9c7e30": {
      "model_module": "@jupyter-widgets/base",
      "model_module_version": "1.2.0",
      "model_name": "LayoutModel",
      "state": {}
     },
     "cd4ccf1109a44451a0ada8724701c766": {
      "model_module": "@jupyter-widgets/base",
      "model_module_version": "1.2.0",
      "model_name": "LayoutModel",
      "state": {}
     },
     "cd8c68c3464f4b3ca25aab957a915019": {
      "model_module": "@jupyter-widgets/controls",
      "model_module_version": "1.5.0",
      "model_name": "DescriptionStyleModel",
      "state": {
       "description_width": ""
      }
     },
     "cdb71afe72db40dcb73a7ed41053bef8": {
      "model_module": "@jupyter-widgets/base",
      "model_module_version": "1.2.0",
      "model_name": "LayoutModel",
      "state": {}
     },
     "cdb855753eb948808b5156f8777afc79": {
      "model_module": "@jupyter-widgets/controls",
      "model_module_version": "1.5.0",
      "model_name": "DescriptionStyleModel",
      "state": {
       "description_width": ""
      }
     },
     "cdce5ad61ddc4e47a54346a0246b4ca4": {
      "model_module": "@jupyter-widgets/controls",
      "model_module_version": "1.5.0",
      "model_name": "AccordionModel",
      "state": {
       "_titles": {
        "0": "ENVRIFAIR winterschool",
        "1": "OTC Data Reduction Workshop",
        "2": "RINGO_T1.3"
       },
       "children": [
        "IPY_MODEL_2468bdf65b7143a3b40469a9f11f4565",
        "IPY_MODEL_bb97619552d243cc9aa3d437b7118801",
        "IPY_MODEL_fc03f8ecc1b3414b9d6ca9375620fd21"
       ],
       "layout": "IPY_MODEL_df42952a48fa4cfab47d6cfd06e3d94f",
       "selected_index": null
      }
     },
     "cddc9ac3279146e6b684510100e42fe2": {
      "model_module": "@jupyter-widgets/controls",
      "model_module_version": "1.5.0",
      "model_name": "DescriptionStyleModel",
      "state": {
       "description_width": ""
      }
     },
     "ce20190f83a741369b4e079f659faff1": {
      "model_module": "@jupyter-widgets/controls",
      "model_module_version": "1.5.0",
      "model_name": "HTMLModel",
      "state": {
       "layout": "IPY_MODEL_b6caf857492f492d976d301babe65935",
       "style": "IPY_MODEL_0756d8950e3345679be2320be35649d1",
       "value": "<img src=\"./icos_jupyter_notebooks/ind_tools/img/04_proj_JNBs/ringo_t1_3/flasksampling_v5_gui.PNG\">"
      }
     },
     "ce393373639844abaa3deb69e284806d": {
      "model_module": "@jupyter-widgets/base",
      "model_module_version": "1.2.0",
      "model_name": "LayoutModel",
      "state": {
       "grid_gap": "5px 10px",
       "grid_template_columns": "auto",
       "grid_template_rows": "auto",
       "padding": "5px 0px 5px 0px",
       "width": "100%"
      }
     },
     "ce637cc60440476ba8dae8b44757e0ba": {
      "model_module": "@jupyter-widgets/controls",
      "model_module_version": "1.5.0",
      "model_name": "DescriptionStyleModel",
      "state": {
       "description_width": ""
      }
     },
     "cec6fa8cbddf4ebd957dacd1973098de": {
      "model_module": "@jupyter-widgets/controls",
      "model_module_version": "1.5.0",
      "model_name": "DescriptionStyleModel",
      "state": {
       "description_width": ""
      }
     },
     "cf1b4a481a824c8d9ff55edf186903e6": {
      "model_module": "@jupyter-widgets/controls",
      "model_module_version": "1.5.0",
      "model_name": "HTMLModel",
      "state": {
       "layout": "IPY_MODEL_ca924a09c1954a1bab4fb092a234747a",
       "style": "IPY_MODEL_6e40229ad03d408090a93c1c3233378f",
       "value": "<b>Thumbnail: </b> "
      }
     },
     "cf6ad71dd50c4dff8c1bf7745c169592": {
      "model_module": "@jupyter-widgets/controls",
      "model_module_version": "1.5.0",
      "model_name": "HTMLModel",
      "state": {
       "layout": "IPY_MODEL_3ae3e76b170d4ef594a6c3cde0f9eaf6",
       "style": "IPY_MODEL_2f1c20a8a52843bab24b69affdf06684",
       "value": "<a href=./education/PhD/upscaling_carbon_fluxes/notebooks/exercise4.ipynb target='_blank'>Estimating national budgets</a>"
      }
     },
     "cf74864d65674fd7867dc6f03c1f47cf": {
      "model_module": "@jupyter-widgets/controls",
      "model_module_version": "1.5.0",
      "model_name": "GridBoxModel",
      "state": {
       "children": [
        "IPY_MODEL_d1eada6220f04af39222495b55229009",
        "IPY_MODEL_dc4c5ce426684748bce2b0db1380d68b",
        "IPY_MODEL_373f65bcf3044ace983238b388b794db",
        "IPY_MODEL_73e3f8aec0134bf9b05d504c90c20d9b",
        "IPY_MODEL_ff9805f7012148a6b5df4db4aba0d7f4",
        "IPY_MODEL_87a8f1137dc749dfad372cc81abdaf01",
        "IPY_MODEL_05593eab8f734b9fa9867f49657dd0fb",
        "IPY_MODEL_c78a86cd83b24cfd82972df763d2f957",
        "IPY_MODEL_20b53cc9e7444eaa9fb00a7cb40fa661",
        "IPY_MODEL_6d994c097627473b8ef932a3fca7b761"
       ],
       "layout": "IPY_MODEL_d7beffc7e3c347a4bc639de5bc3c6785"
      }
     },
     "cf998e097d1f4828b891a541494ceba8": {
      "model_module": "@jupyter-widgets/base",
      "model_module_version": "1.2.0",
      "model_name": "LayoutModel",
      "state": {}
     },
     "cfa6325a3c974f8295957badc39a5077": {
      "model_module": "@jupyter-widgets/controls",
      "model_module_version": "1.5.0",
      "model_name": "HTMLModel",
      "state": {
       "layout": "IPY_MODEL_de3ccb6a5fb746d18bbe97b686a80fae",
       "style": "IPY_MODEL_bbe13cbb1e7c4a8d9f555f74d212c4fd",
       "value": "<b>Title: </b> "
      }
     },
     "cfdb32f0e44e43bf893799c0587e725c": {
      "model_module": "@jupyter-widgets/controls",
      "model_module_version": "1.5.0",
      "model_name": "DescriptionStyleModel",
      "state": {
       "description_width": ""
      }
     },
     "d00ab6b253c440ee9a3bff1650ae17bc": {
      "model_module": "@jupyter-widgets/controls",
      "model_module_version": "1.5.0",
      "model_name": "HTMLModel",
      "state": {
       "layout": "IPY_MODEL_b1c814c96d61451d8efc0a0f0adf9a7c",
       "style": "IPY_MODEL_74099b1fb7b24b9e888d4556272d65a5",
       "value": "<b>Thumbnail: </b> "
      }
     },
     "d026e71d182d4f00b02941d125298984": {
      "model_module": "@jupyter-widgets/controls",
      "model_module_version": "1.5.0",
      "model_name": "DescriptionStyleModel",
      "state": {
       "description_width": ""
      }
     },
     "d04b656bbffa43f4ae7ae3eaa024ed07": {
      "model_module": "@jupyter-widgets/controls",
      "model_module_version": "1.5.0",
      "model_name": "HTMLModel",
      "state": {
       "layout": "IPY_MODEL_c98d1cbdefbe46f4a82ed58be69d3053",
       "style": "IPY_MODEL_9feb4c979d414c3cacfd59db5c914716",
       "value": "<b>GitHub: </b> "
      }
     },
     "d069adb4b1544749b04028bae96f6552": {
      "model_module": "@jupyter-widgets/controls",
      "model_module_version": "1.5.0",
      "model_name": "DescriptionStyleModel",
      "state": {
       "description_width": ""
      }
     },
     "d0aaa96f88ac446c901fa65199545c45": {
      "model_module": "@jupyter-widgets/controls",
      "model_module_version": "1.5.0",
      "model_name": "HTMLModel",
      "state": {
       "layout": "IPY_MODEL_e7f2850cc8e44a2c82d2742acd4573b5",
       "style": "IPY_MODEL_bb3f3235062f4c98a8e733eb49408247",
       "value": "<b>GitHub: </b> "
      }
     },
     "d0be08c0a3c845b99bd6e785295cea52": {
      "model_module": "@jupyter-widgets/controls",
      "model_module_version": "1.5.0",
      "model_name": "DescriptionStyleModel",
      "state": {
       "description_width": ""
      }
     },
     "d0e11f496ab94438a75ab31574900b7b": {
      "model_module": "@jupyter-widgets/base",
      "model_module_version": "1.2.0",
      "model_name": "LayoutModel",
      "state": {}
     },
     "d0e537c294f447f999a2629bf6003ea2": {
      "model_module": "@jupyter-widgets/controls",
      "model_module_version": "1.5.0",
      "model_name": "DescriptionStyleModel",
      "state": {
       "description_width": ""
      }
     },
     "d11079f8966e4d8787976ce7ee2cc3bb": {
      "model_module": "@jupyter-widgets/controls",
      "model_module_version": "1.5.0",
      "model_name": "HTMLModel",
      "state": {
       "layout": "IPY_MODEL_2160d925693d4e06885e6fb26ed7fa85",
       "style": "IPY_MODEL_47df1d13df8640bb95b2dba203aa13aa",
       "value": "<b>GitHub: </b> "
      }
     },
     "d1144940bbad4f8b806847f8024c6411": {
      "model_module": "@jupyter-widgets/base",
      "model_module_version": "1.2.0",
      "model_name": "LayoutModel",
      "state": {}
     },
     "d1b2b440be7440fa8bd1075168c5495e": {
      "model_module": "@jupyter-widgets/controls",
      "model_module_version": "1.5.0",
      "model_name": "DescriptionStyleModel",
      "state": {
       "description_width": ""
      }
     },
     "d1eada6220f04af39222495b55229009": {
      "model_module": "@jupyter-widgets/controls",
      "model_module_version": "1.5.0",
      "model_name": "HTMLModel",
      "state": {
       "layout": "IPY_MODEL_59858ea3ee0243c9af1007c905603db2",
       "style": "IPY_MODEL_5106556c303e4fbbbba3d1c007eb31a4",
       "value": "<b>Title: </b> "
      }
     },
     "d22a16cd73874bd7a701f82feae5004e": {
      "model_module": "@jupyter-widgets/base",
      "model_module_version": "1.2.0",
      "model_name": "LayoutModel",
      "state": {}
     },
     "d22fa223803e44a69be9362e15a46c16": {
      "model_module": "@jupyter-widgets/base",
      "model_module_version": "1.2.0",
      "model_name": "LayoutModel",
      "state": {}
     },
     "d294dc8de7034ceebd86bf5e29169fb1": {
      "model_module": "@jupyter-widgets/controls",
      "model_module_version": "1.5.0",
      "model_name": "DescriptionStyleModel",
      "state": {
       "description_width": ""
      }
     },
     "d29878ac89504f848f729d895df1d31f": {
      "model_module": "@jupyter-widgets/controls",
      "model_module_version": "1.5.0",
      "model_name": "HTMLModel",
      "state": {
       "layout": "IPY_MODEL_6d267dffde4f4bfab6839d86d664dbad",
       "style": "IPY_MODEL_bdfb6f858c664fe5a72bda407d0e0727",
       "value": "<a href=./pylib_examples/ex5_sparql.ipynb target='_blank'>ICOS Carbon Portal Python Library - Load data based on a sparql query</a>"
      }
     },
     "d29f3d2b83364cef97d4b274118c1b8d": {
      "model_module": "@jupyter-widgets/controls",
      "model_module_version": "1.5.0",
      "model_name": "DescriptionStyleModel",
      "state": {
       "description_width": ""
      }
     },
     "d2ae4d5ea5694543a5a428cdb3f675d9": {
      "model_module": "@jupyter-widgets/controls",
      "model_module_version": "1.5.0",
      "model_name": "DescriptionStyleModel",
      "state": {
       "description_width": ""
      }
     },
     "d2c47321853949179a42dd6b298b75d5": {
      "model_module": "@jupyter-widgets/base",
      "model_module_version": "1.2.0",
      "model_name": "LayoutModel",
      "state": {}
     },
     "d3166ba7675d4e558f69e12baa219b06": {
      "model_module": "@jupyter-widgets/controls",
      "model_module_version": "1.5.0",
      "model_name": "HTMLModel",
      "state": {
       "layout": "IPY_MODEL_d4571145e38f47acbe9826c496cef4b2",
       "style": "IPY_MODEL_e29c260aca464445bfb6fff37a51c566",
       "value": "<b>Description: </b> "
      }
     },
     "d32143df597c4f39bd661f4e9167f84c": {
      "model_module": "@jupyter-widgets/controls",
      "model_module_version": "1.5.0",
      "model_name": "DescriptionStyleModel",
      "state": {
       "description_width": ""
      }
     },
     "d3dba58d907944deb72d935ab789c50d": {
      "model_module": "@jupyter-widgets/base",
      "model_module_version": "1.2.0",
      "model_name": "LayoutModel",
      "state": {}
     },
     "d3e949ef275b4946a63c550b35484f25": {
      "model_module": "@jupyter-widgets/base",
      "model_module_version": "1.2.0",
      "model_name": "LayoutModel",
      "state": {}
     },
     "d4148c1102254396bd75cfc21bde6ee6": {
      "model_module": "@jupyter-widgets/controls",
      "model_module_version": "1.5.0",
      "model_name": "DescriptionStyleModel",
      "state": {
       "description_width": ""
      }
     },
     "d446093cb3ce4f6ba39b8477d5695d46": {
      "model_module": "@jupyter-widgets/controls",
      "model_module_version": "1.5.0",
      "model_name": "HTMLModel",
      "state": {
       "layout": "IPY_MODEL_a279cdaa6e754a31ad7e20533c4595f9",
       "style": "IPY_MODEL_751b0e40732e4bd89813c64cd9afe807",
       "value": "<a href='https://github.com/ICOS-Carbon-Portal/jupyter/issues' target='_blank'>Click here to report an issue</a>"
      }
     },
     "d44dfb3d88c14607a5949ed67f531aba": {
      "model_module": "@jupyter-widgets/base",
      "model_module_version": "1.2.0",
      "model_name": "LayoutModel",
      "state": {}
     },
     "d4550e6554db453eb28193f0b0b4cd81": {
      "model_module": "@jupyter-widgets/controls",
      "model_module_version": "1.5.0",
      "model_name": "HTMLModel",
      "state": {
       "layout": "IPY_MODEL_05e9eb7064a241ac873743f9b38596bb",
       "style": "IPY_MODEL_6c07d95aa6e2478ab8b966aa538637b6",
       "value": "<a href=\"mailto: jupyter-info@icos-cp.eu\">jupyter-info@icos-cp.eu</a>, <a href=\"mailto: ida.storm@nateko.lu.se\">ida.storm@nateko.lu.se</a>"
      }
     },
     "d4571145e38f47acbe9826c496cef4b2": {
      "model_module": "@jupyter-widgets/base",
      "model_module_version": "1.2.0",
      "model_name": "LayoutModel",
      "state": {}
     },
     "d4572b9a4a074c6aa416a0f5da6bfd73": {
      "model_module": "@jupyter-widgets/controls",
      "model_module_version": "1.5.0",
      "model_name": "DescriptionStyleModel",
      "state": {
       "description_width": ""
      }
     },
     "d467887ea1e5465bb5109adf8aed8220": {
      "model_module": "@jupyter-widgets/base",
      "model_module_version": "1.2.0",
      "model_name": "LayoutModel",
      "state": {
       "grid_gap": "5px 10px",
       "grid_template_columns": "auto",
       "grid_template_rows": "auto",
       "padding": "5px 0px 5px 0px",
       "width": "100%"
      }
     },
     "d4742fab74144852b1f91eb047a12056": {
      "model_module": "@jupyter-widgets/controls",
      "model_module_version": "1.5.0",
      "model_name": "DescriptionStyleModel",
      "state": {
       "description_width": ""
      }
     },
     "d47ab93ae6b64dfd9886cc29d38eec3f": {
      "model_module": "@jupyter-widgets/controls",
      "model_module_version": "1.5.0",
      "model_name": "HTMLModel",
      "state": {
       "layout": "IPY_MODEL_2fc5289b57a244a784c12e9cd87822a1",
       "style": "IPY_MODEL_2bf0e4a863ea4adcb8c4b624b0f673fc",
       "value": "<b>Thumbnail: </b> "
      }
     },
     "d4a1a7fef84b4ea6b3ce50381ef1ff32": {
      "model_module": "@jupyter-widgets/base",
      "model_module_version": "1.2.0",
      "model_name": "LayoutModel",
      "state": {}
     },
     "d4c9ea9644c14f679ce7e56150f4776a": {
      "model_module": "@jupyter-widgets/controls",
      "model_module_version": "1.5.0",
      "model_name": "DescriptionStyleModel",
      "state": {
       "description_width": ""
      }
     },
     "d525734b4f764dc394a910dec65890cc": {
      "model_module": "@jupyter-widgets/base",
      "model_module_version": "1.2.0",
      "model_name": "LayoutModel",
      "state": {}
     },
     "d53c7ae3adfa4d0789cf8f5258d086a7": {
      "model_module": "@jupyter-widgets/controls",
      "model_module_version": "1.5.0",
      "model_name": "HTMLModel",
      "state": {
       "layout": "IPY_MODEL_0d0c9843ddd443d994ef2498634245ac",
       "style": "IPY_MODEL_f68f596b0ef54db3b07e312bc578b72f",
       "value": "<img src=\"./icos_jupyter_notebooks/ind_tools/img/05_education/phd/ucf/inspect_lpjguess/plot.PNG\">"
      }
     },
     "d54edf5b641844d6be3420392b9f8558": {
      "model_module": "@jupyter-widgets/controls",
      "model_module_version": "1.5.0",
      "model_name": "DescriptionStyleModel",
      "state": {
       "description_width": ""
      }
     },
     "d5872ecf76d54ae680b4ef62496f5474": {
      "model_module": "@jupyter-widgets/controls",
      "model_module_version": "1.5.0",
      "model_name": "GridBoxModel",
      "state": {
       "children": [
        "IPY_MODEL_f1212958f74541a6ac3adbe3ab143960",
        "IPY_MODEL_e36d0afb0f69472f8c48e9c052baf7b9",
        "IPY_MODEL_15a64e10b4134668b91bbbf5e992945a",
        "IPY_MODEL_46140a028e8a442391def25bca105a97",
        "IPY_MODEL_1fae9d82cab64e02b1c236341cb23828",
        "IPY_MODEL_830d8244f5b64c61a115b166cfa9ad04",
        "IPY_MODEL_3bad89617b2547e3ab0c5b91ec4334d3",
        "IPY_MODEL_7af70d560dfd4212be991cefe93adff3",
        "IPY_MODEL_d00ab6b253c440ee9a3bff1650ae17bc",
        "IPY_MODEL_6a7d26e4fb234e3d9246035c8aa2e7b5"
       ],
       "layout": "IPY_MODEL_b79a649317de4b3abd27f749bd8f6fb1"
      }
     },
     "d5e400a853f74cca9f8801810ea7f774": {
      "model_module": "@jupyter-widgets/base",
      "model_module_version": "1.2.0",
      "model_name": "LayoutModel",
      "state": {}
     },
     "d635d1dae3d04fccad88eab5df3b9df7": {
      "model_module": "@jupyter-widgets/base",
      "model_module_version": "1.2.0",
      "model_name": "LayoutModel",
      "state": {}
     },
     "d6a018dc04214cd58e02aaf0e74a462d": {
      "model_module": "@jupyter-widgets/base",
      "model_module_version": "1.2.0",
      "model_name": "LayoutModel",
      "state": {}
     },
     "d6c343477ff94d31babaf7e2be6f1e75": {
      "model_module": "@jupyter-widgets/base",
      "model_module_version": "1.2.0",
      "model_name": "LayoutModel",
      "state": {}
     },
     "d6e144d09c214f9bac95387c21873ebd": {
      "model_module": "@jupyter-widgets/controls",
      "model_module_version": "1.5.0",
      "model_name": "DescriptionStyleModel",
      "state": {
       "description_width": ""
      }
     },
     "d73519ab51e74f29a7afae79330837bb": {
      "model_module": "@jupyter-widgets/base",
      "model_module_version": "1.2.0",
      "model_name": "LayoutModel",
      "state": {
       "grid_gap": "5px 10px",
       "grid_template_columns": "100px auto",
       "grid_template_rows": "auto auto auto auto auto",
       "padding": "50px 0px 70px 0px",
       "width": "100%"
      }
     },
     "d7424bfb5e834e7b8972e915fd4f24a5": {
      "model_module": "@jupyter-widgets/base",
      "model_module_version": "1.2.0",
      "model_name": "LayoutModel",
      "state": {
       "grid_gap": "5px 10px",
       "grid_template_columns": "100px auto",
       "grid_template_rows": "auto auto auto auto auto",
       "padding": "50px 0px 70px 0px",
       "width": "100%"
      }
     },
     "d7727d54ba7c4c66a6aee9ad59cd53a1": {
      "model_module": "@jupyter-widgets/controls",
      "model_module_version": "1.5.0",
      "model_name": "GridBoxModel",
      "state": {
       "children": [
        "IPY_MODEL_113f6f3fc374438dac23a9001765a241",
        "IPY_MODEL_eb67048050de40a5a1f02c2862dc2bb4",
        "IPY_MODEL_690b8d305980406d8f650089b714b99f",
        "IPY_MODEL_46b0086f4b3a428f878f56a378e578ea",
        "IPY_MODEL_758dd22acd7441ad9ff65d4afc60231f",
        "IPY_MODEL_9165aed429ef4045b28ecde6af3ed915",
        "IPY_MODEL_33f38f6b95df4a47b12f8ca7a3f9885f",
        "IPY_MODEL_9757017402354415b32ce3071bc05ce0",
        "IPY_MODEL_ef17fed4d4b0425f9b22d02b6a4b66fa",
        "IPY_MODEL_4c48ec570de84351983e11ff42099c73"
       ],
       "layout": "IPY_MODEL_3d5d792dd619486d908d2ba74587f31d"
      }
     },
     "d787fe6757be49caab819fbbad836c09": {
      "model_module": "@jupyter-widgets/controls",
      "model_module_version": "1.5.0",
      "model_name": "GridBoxModel",
      "state": {
       "children": [
        "IPY_MODEL_cfa6325a3c974f8295957badc39a5077",
        "IPY_MODEL_e7f92b6ac38542798d8f8697519de568",
        "IPY_MODEL_c984bdde42e8455388319343e27f4d04",
        "IPY_MODEL_10ae277d06884c24bff120808c86d689",
        "IPY_MODEL_ebd55529ab634d42807ea8c6c51622bc",
        "IPY_MODEL_929e28877a8d4f28aabe767282161750",
        "IPY_MODEL_70dbb82486e4443098e11d997a55a2f5",
        "IPY_MODEL_081417eabef74809badea1e06d753141",
        "IPY_MODEL_6582a93231f5419c94da69b84bc702d5",
        "IPY_MODEL_fbaff81937164af69bc5634e83f1c8e0"
       ],
       "layout": "IPY_MODEL_b2b3acf543d044e3b520594c2771e380"
      }
     },
     "d7aaacc4433a409e8733716847e27d14": {
      "model_module": "@jupyter-widgets/controls",
      "model_module_version": "1.5.0",
      "model_name": "HTMLModel",
      "state": {
       "layout": "IPY_MODEL_a388c2cff7114e25b7175e60f1400776",
       "style": "IPY_MODEL_9cfbae4298574832aefc94a31e5b9b70",
       "value": "<b>Contact: </b> "
      }
     },
     "d7beffc7e3c347a4bc639de5bc3c6785": {
      "model_module": "@jupyter-widgets/base",
      "model_module_version": "1.2.0",
      "model_name": "LayoutModel",
      "state": {
       "grid_gap": "5px 10px",
       "grid_template_columns": "100px auto",
       "grid_template_rows": "auto auto auto auto auto",
       "padding": "50px 0px 70px 0px",
       "width": "100%"
      }
     },
     "d7c8348e930f4c46a14a8543e748311c": {
      "model_module": "@jupyter-widgets/controls",
      "model_module_version": "1.5.0",
      "model_name": "HTMLModel",
      "state": {
       "layout": "IPY_MODEL_db2cfe6891d64e2cbbaac7313d2b0a8f",
       "style": "IPY_MODEL_b6b9285e9aa94580b64ec9fbbb1da685",
       "value": "<b>GitHub: </b> "
      }
     },
     "d7e18b5b53de4fd8b07a0d3b08caa850": {
      "model_module": "@jupyter-widgets/controls",
      "model_module_version": "1.5.0",
      "model_name": "HTMLModel",
      "state": {
       "layout": "IPY_MODEL_24a3e808c9864e1d926dba03807faf3b",
       "style": "IPY_MODEL_06d3c2b03794468b91262beb027281dd",
       "value": "<a href=./project_jupyter_notebooks/envrifair_winterschool/map/exercise1_map.ipynb target='_blank'>Exercise 1 - Create an interactive map</a>"
      }
     },
     "d7e7d65d4cc548cbbdbd0a1dc2be31b1": {
      "model_module": "@jupyter-widgets/controls",
      "model_module_version": "1.5.0",
      "model_name": "HTMLModel",
      "state": {
       "layout": "IPY_MODEL_f45dbd1c94cc42339cfd763256de5efb",
       "style": "IPY_MODEL_0113c7afcfae4146ba73b44796a20ef0",
       "value": "<b>Title: </b> "
      }
     },
     "d7f5df066e6945e7acde4f9eaef1519e": {
      "model_module": "@jupyter-widgets/controls",
      "model_module_version": "1.5.0",
      "model_name": "DescriptionStyleModel",
      "state": {
       "description_width": ""
      }
     },
     "d807412b190e4c0180a7b6afbabb319d": {
      "model_module": "@jupyter-widgets/controls",
      "model_module_version": "1.5.0",
      "model_name": "HTMLModel",
      "state": {
       "layout": "IPY_MODEL_f542b64f0c0f4ee0a5d261a45622b2d6",
       "style": "IPY_MODEL_ec19093a09634eecab5376a893841a26",
       "value": "This Jupyter notebook provides examples on how to access data and metadata for ICOS stations and observations with the help of <a href='https://meta.icos-cp.eu/sparqlclient/' target='_blank'>SPARQL queries</a> using ICOS Carbon Portal Python library. Full documentation for the ICOS library on the <a href='https://icos-carbon-portal.github.io/pylib/' target='_blank'>project page</a>, how to install and wheel on <a href='https://pypi.org/project/icoscp/' target='_blank'>pypi.org</a>, source available on <a href='https://github.com/ICOS-Carbon-Portal/pylib' target='_blank'>GitHub</a>."
      }
     },
     "d87b9e992c9c4b07b784a7f322709e62": {
      "model_module": "@jupyter-widgets/controls",
      "model_module_version": "1.5.0",
      "model_name": "HTMLModel",
      "state": {
       "layout": "IPY_MODEL_cf998e097d1f4828b891a541494ceba8",
       "style": "IPY_MODEL_dabbadd3459f49f18c0446d4bb1dda10",
       "value": "<b>Description: </b> "
      }
     },
     "d907f02c65404e9d83d349a3b2342e2e": {
      "model_module": "@jupyter-widgets/controls",
      "model_module_version": "1.5.0",
      "model_name": "HTMLModel",
      "state": {
       "layout": "IPY_MODEL_cb2d1bfacc704b2abc494f54c0860c6e",
       "style": "IPY_MODEL_d6e144d09c214f9bac95387c21873ebd",
       "value": "<img src=\"./icos_jupyter_notebooks/ind_tools/img/03_icos_JNBs/explore_icos_ao/ap_GAT.PNG\">"
      }
     },
     "d92088c1b10c45f3a9e662f1f7bc6f3e": {
      "model_module": "@jupyter-widgets/controls",
      "model_module_version": "1.5.0",
      "model_name": "HTMLModel",
      "state": {
       "layout": "IPY_MODEL_5623ebd3ed644832b623379825ef7252",
       "style": "IPY_MODEL_a1efe3cd694f471eac1409405ff3c49d",
       "value": "This Jupyter notebook provides an example on how to combine information from two independent data sets using Python libraries. One data set is loaded from the ICOS Carbon Portal, ocean domain and contains data from a boat traveling from Europe to Brazil. The second data set is accessed using the PANGAEA Python library and contains similar data, collected from another boat travelling from Europe to South America. Full documentation for the ICOS library on the <a href='https://icos-carbon-portal.github.io/pylib/' target='_blank'>project page</a>, how to install and wheel on <a href='https://pypi.org/project/icoscp/' target='_blank'>pypi.org</a>, source available on <a href='https://github.com/ICOS-Carbon-Portal/pylib' target='_blank'>GitHub</a>. The Pangaea library is available on <a href='https://pypi.org/project/pangaeapy/' target='_blank'>pypi.org</a>, source and documentation <a href='https://github.com/pangaea-data-publisher/pangaeapy' target='_blank'>GitHub</a>."
      }
     },
     "d9384c7932f64ec8b51352dc9bcc6f3a": {
      "model_module": "@jupyter-widgets/controls",
      "model_module_version": "1.5.0",
      "model_name": "HTMLModel",
      "state": {
       "layout": "IPY_MODEL_4269ba661f2944d5a7029d44e1055ab0",
       "style": "IPY_MODEL_a2c5ce94d9b74960b90f5d303b704b61",
       "value": "<a href='https://github.com/ICOS-Carbon-Portal/jupyter/issues' target='_blank'>Click here to report an issue</a>"
      }
     },
     "d95e767e80364e17829fb55475d9ef9a": {
      "model_module": "@jupyter-widgets/base",
      "model_module_version": "1.2.0",
      "model_name": "LayoutModel",
      "state": {}
     },
     "d9b2c4fcb46f4c0d8d8583351968c394": {
      "model_module": "@jupyter-widgets/base",
      "model_module_version": "1.2.0",
      "model_name": "LayoutModel",
      "state": {
       "grid_gap": "5px 10px",
       "grid_template_columns": "100px auto",
       "grid_template_rows": "auto auto auto auto auto",
       "padding": "50px 0px 70px 0px",
       "width": "100%"
      }
     },
     "da36b614bc564c7a8761bc2e8a3799ad": {
      "model_module": "@jupyter-widgets/controls",
      "model_module_version": "1.5.0",
      "model_name": "AccordionModel",
      "state": {
       "_titles": {
        "0": "ICOS observations vs STILT model output"
       },
       "children": [
        "IPY_MODEL_7f6d9a4270ee49c5ac2fc19900017493"
       ],
       "layout": "IPY_MODEL_0cfb08a5c91240cdb0133267a225a0f0",
       "selected_index": null
      }
     },
     "da37fb5d4e8844889947eec5b873847e": {
      "model_module": "@jupyter-widgets/controls",
      "model_module_version": "1.5.0",
      "model_name": "HTMLModel",
      "state": {
       "layout": "IPY_MODEL_99fa16f1aa374e178eaf440704063542",
       "style": "IPY_MODEL_22f4b278273d4d029ea4711927c088b8",
       "value": "<b>Description: </b> "
      }
     },
     "dab8e513bec445f88251b5c900c338a0": {
      "model_module": "@jupyter-widgets/controls",
      "model_module_version": "1.5.0",
      "model_name": "HTMLModel",
      "state": {
       "layout": "IPY_MODEL_2b6d53823bf04b728b9135fcfdf92543",
       "style": "IPY_MODEL_d0be08c0a3c845b99bd6e785295cea52",
       "value": "<b>Contact: </b> "
      }
     },
     "dabbadd3459f49f18c0446d4bb1dda10": {
      "model_module": "@jupyter-widgets/controls",
      "model_module_version": "1.5.0",
      "model_name": "DescriptionStyleModel",
      "state": {
       "description_width": ""
      }
     },
     "db1e91d43df44f2297c3d4ba9eff5e7f": {
      "model_module": "@jupyter-widgets/controls",
      "model_module_version": "1.5.0",
      "model_name": "HTMLModel",
      "state": {
       "layout": "IPY_MODEL_8903d72490d54011af16cc9ba77e643e",
       "style": "IPY_MODEL_9da2f668ad464a4c82a8731fec6d129d",
       "value": "<b>Description: </b> "
      }
     },
     "db2cfe6891d64e2cbbaac7313d2b0a8f": {
      "model_module": "@jupyter-widgets/base",
      "model_module_version": "1.2.0",
      "model_name": "LayoutModel",
      "state": {}
     },
     "db54f7d2a5404895a7e5d89b59dd085f": {
      "model_module": "@jupyter-widgets/base",
      "model_module_version": "1.2.0",
      "model_name": "LayoutModel",
      "state": {
       "grid_gap": "5px 10px",
       "grid_template_columns": "100px auto",
       "grid_template_rows": "auto auto auto auto auto",
       "padding": "50px 0px 70px 0px",
       "width": "100%"
      }
     },
     "db68fd8a69954eeb8cf9a2dd795b5943": {
      "model_module": "@jupyter-widgets/controls",
      "model_module_version": "1.5.0",
      "model_name": "DescriptionStyleModel",
      "state": {
       "description_width": ""
      }
     },
     "dbd36ce6aae24c4183bcce733d2eadd9": {
      "model_module": "@jupyter-widgets/controls",
      "model_module_version": "1.5.0",
      "model_name": "DescriptionStyleModel",
      "state": {
       "description_width": ""
      }
     },
     "dbd37ae5bfaf4f179b9132574521c04c": {
      "model_module": "@jupyter-widgets/controls",
      "model_module_version": "1.5.0",
      "model_name": "DescriptionStyleModel",
      "state": {
       "description_width": ""
      }
     },
     "dc4c5ce426684748bce2b0db1380d68b": {
      "model_module": "@jupyter-widgets/controls",
      "model_module_version": "1.5.0",
      "model_name": "HTMLModel",
      "state": {
       "layout": "IPY_MODEL_73285fbb2027498d8a2da51a6c49cb8f",
       "style": "IPY_MODEL_547a1c166b604e8183a1cc1cb0c894cb",
       "value": "<a href=./icos_jupyter_notebooks/icos_atmObs_STILT.ipynb target='_blank'>ICOS atmospheric observations vs STILT modelled values</a>"
      }
     },
     "dc636c5e1d56417c855e627c35d9d4ab": {
      "model_module": "@jupyter-widgets/base",
      "model_module_version": "1.2.0",
      "model_name": "LayoutModel",
      "state": {}
     },
     "dc80b9b2d11d4a209ba2aa636c7967a5": {
      "model_module": "@jupyter-widgets/base",
      "model_module_version": "1.2.0",
      "model_name": "LayoutModel",
      "state": {}
     },
     "dc97fd4bdbb445e480670ef903e6a5a3": {
      "model_module": "@jupyter-widgets/controls",
      "model_module_version": "1.5.0",
      "model_name": "HTMLModel",
      "state": {
       "layout": "IPY_MODEL_5841c15130bb4bcd91054f4b069fe19b",
       "style": "IPY_MODEL_62757c98324e452bb3571bc10e2ba601",
       "value": "<a href=./pylib_examples/ex2_station.ipynb target='_blank'>ICOS Carbon Portal Python Library - Explore ICOS stations</a>"
      }
     },
     "dcafb39913e3435d9130457600e24f78": {
      "model_module": "@jupyter-widgets/base",
      "model_module_version": "1.2.0",
      "model_name": "LayoutModel",
      "state": {}
     },
     "dcc137d0d96543329b3c869d802da078": {
      "model_module": "@jupyter-widgets/base",
      "model_module_version": "1.2.0",
      "model_name": "LayoutModel",
      "state": {}
     },
     "dcf4aef56fd645e4be1997271351d258": {
      "model_module": "@jupyter-widgets/controls",
      "model_module_version": "1.5.0",
      "model_name": "DescriptionStyleModel",
      "state": {
       "description_width": ""
      }
     },
     "dd171f37d8244b3489f2ea2ccc9a5f80": {
      "model_module": "@jupyter-widgets/controls",
      "model_module_version": "1.5.0",
      "model_name": "DescriptionStyleModel",
      "state": {
       "description_width": ""
      }
     },
     "dd2e6a69258b4ce489db5ee0e90a9ebf": {
      "model_module": "@jupyter-widgets/base",
      "model_module_version": "1.2.0",
      "model_name": "LayoutModel",
      "state": {}
     },
     "dd354d3335384f2bbfd3e490d48e54df": {
      "model_module": "@jupyter-widgets/controls",
      "model_module_version": "1.5.0",
      "model_name": "DescriptionStyleModel",
      "state": {
       "description_width": ""
      }
     },
     "dd5591a4d1314a758e88e34b6f9c8916": {
      "model_module": "@jupyter-widgets/controls",
      "model_module_version": "1.5.0",
      "model_name": "DescriptionStyleModel",
      "state": {
       "description_width": ""
      }
     },
     "dd880b73efd54a3785006f52281889a6": {
      "model_module": "@jupyter-widgets/controls",
      "model_module_version": "1.5.0",
      "model_name": "DescriptionStyleModel",
      "state": {
       "description_width": ""
      }
     },
     "ddcf212e9dbc4ac08c7334c8e5b1b33f": {
      "model_module": "@jupyter-widgets/base",
      "model_module_version": "1.2.0",
      "model_name": "LayoutModel",
      "state": {
       "grid_gap": "5px 10px",
       "grid_template_columns": "100px auto",
       "grid_template_rows": "auto auto auto auto auto",
       "padding": "50px 0px 70px 0px",
       "width": "100%"
      }
     },
     "de3ccb6a5fb746d18bbe97b686a80fae": {
      "model_module": "@jupyter-widgets/base",
      "model_module_version": "1.2.0",
      "model_name": "LayoutModel",
      "state": {}
     },
     "de6b62612aab478e8079c11bd6664105": {
      "model_module": "@jupyter-widgets/controls",
      "model_module_version": "1.5.0",
      "model_name": "DescriptionStyleModel",
      "state": {
       "description_width": ""
      }
     },
     "de82c3803dbc42ccab2e5cc659465fc4": {
      "model_module": "@jupyter-widgets/base",
      "model_module_version": "1.2.0",
      "model_name": "LayoutModel",
      "state": {}
     },
     "df0d80ab02c645e2b4a5d25824cbbaaa": {
      "model_module": "@jupyter-widgets/controls",
      "model_module_version": "1.5.0",
      "model_name": "DescriptionStyleModel",
      "state": {
       "description_width": ""
      }
     },
     "df12e5b7eade4c22b041bdbf1fcdf776": {
      "model_module": "@jupyter-widgets/controls",
      "model_module_version": "1.5.0",
      "model_name": "HTMLModel",
      "state": {
       "layout": "IPY_MODEL_a7a680a03c2e402392798f3058101650",
       "style": "IPY_MODEL_e34e9c00cf5f4eec97487b9a75db9690",
       "value": "<b>GitHub: </b> "
      }
     },
     "df3bb81c8f184161a71424bcd2f9c1b6": {
      "model_module": "@jupyter-widgets/controls",
      "model_module_version": "1.5.0",
      "model_name": "HTMLModel",
      "state": {
       "layout": "IPY_MODEL_5f4e85a512f048bfb38453ada587805b",
       "style": "IPY_MODEL_649cfeeb942a4f8aafd6f81af42613da",
       "value": "<b>GitHub: </b> "
      }
     },
     "df41ee9e720a4daab968f12bf6c5e026": {
      "model_module": "@jupyter-widgets/base",
      "model_module_version": "1.2.0",
      "model_name": "LayoutModel",
      "state": {}
     },
     "df42952a48fa4cfab47d6cfd06e3d94f": {
      "model_module": "@jupyter-widgets/base",
      "model_module_version": "1.2.0",
      "model_name": "LayoutModel",
      "state": {}
     },
     "df4c2d8e7c9f4efc99cf17d1e31584a1": {
      "model_module": "@jupyter-widgets/controls",
      "model_module_version": "1.5.0",
      "model_name": "DescriptionStyleModel",
      "state": {
       "description_width": ""
      }
     },
     "df58c352510d4d80ae7ae4e17ef58464": {
      "model_module": "@jupyter-widgets/base",
      "model_module_version": "1.2.0",
      "model_name": "LayoutModel",
      "state": {}
     },
     "df88559f41a74503b8de76bce208937c": {
      "model_module": "@jupyter-widgets/base",
      "model_module_version": "1.2.0",
      "model_name": "LayoutModel",
      "state": {}
     },
     "df9e94b2f1584de4a1afb18533068fac": {
      "model_module": "@jupyter-widgets/controls",
      "model_module_version": "1.5.0",
      "model_name": "DescriptionStyleModel",
      "state": {
       "description_width": ""
      }
     },
     "dfa5654648b849db96850e316393d0cd": {
      "model_module": "@jupyter-widgets/base",
      "model_module_version": "1.2.0",
      "model_name": "LayoutModel",
      "state": {}
     },
     "dff233f977964047ad75a7bda68b1e9d": {
      "model_module": "@jupyter-widgets/controls",
      "model_module_version": "1.5.0",
      "model_name": "DescriptionStyleModel",
      "state": {
       "description_width": ""
      }
     },
     "e01bd11e7fcd44aca5d1805dbdba4308": {
      "model_module": "@jupyter-widgets/controls",
      "model_module_version": "1.5.0",
      "model_name": "DescriptionStyleModel",
      "state": {
       "description_width": ""
      }
     },
     "e025ddd684e34ed1b73fc42295146fac": {
      "model_module": "@jupyter-widgets/controls",
      "model_module_version": "1.5.0",
      "model_name": "DescriptionStyleModel",
      "state": {
       "description_width": ""
      }
     },
     "e03a5f596ced4aaba556e90d9bff58a9": {
      "model_module": "@jupyter-widgets/base",
      "model_module_version": "1.2.0",
      "model_name": "LayoutModel",
      "state": {}
     },
     "e0430fa36364437eb1fbc18817caae54": {
      "model_module": "@jupyter-widgets/controls",
      "model_module_version": "1.5.0",
      "model_name": "HTMLModel",
      "state": {
       "layout": "IPY_MODEL_96cf224ee027487abd0a05f11ff17902",
       "style": "IPY_MODEL_c768fceb0de84b168865a14fad0f0bd7",
       "value": "<a href='https://github.com/ICOS-Carbon-Portal/jupyter/issues' target='_blank'>Click here to report an issue</a>"
      }
     },
     "e098d06605544d2fb7c4edbc72cc97e1": {
      "model_module": "@jupyter-widgets/controls",
      "model_module_version": "1.5.0",
      "model_name": "HTMLModel",
      "state": {
       "layout": "IPY_MODEL_45d55dd2b2af43d993c926a66cce2faa",
       "style": "IPY_MODEL_5b755f58591c42cb86c1cf718e33b824",
       "value": "<b>Description: </b> "
      }
     },
     "e0e27d4df19b414b9901754329fea913": {
      "model_module": "@jupyter-widgets/base",
      "model_module_version": "1.2.0",
      "model_name": "LayoutModel",
      "state": {
       "grid_gap": "5px 10px",
       "grid_template_columns": "auto",
       "grid_template_rows": "auto",
       "padding": "5px 0px 5px 0px",
       "width": "100%"
      }
     },
     "e11817c079824e88aef574f94f6f5318": {
      "model_module": "@jupyter-widgets/controls",
      "model_module_version": "1.5.0",
      "model_name": "HTMLModel",
      "state": {
       "layout": "IPY_MODEL_d6c343477ff94d31babaf7e2be6f1e75",
       "style": "IPY_MODEL_cdb855753eb948808b5156f8777afc79",
       "value": "<b>Contact: </b> "
      }
     },
     "e1573aa386c942e1b3e8b533d15e0d3a": {
      "model_module": "@jupyter-widgets/base",
      "model_module_version": "1.2.0",
      "model_name": "LayoutModel",
      "state": {}
     },
     "e16395a217d9426f8749828d1b64361f": {
      "model_module": "@jupyter-widgets/controls",
      "model_module_version": "1.5.0",
      "model_name": "HTMLModel",
      "state": {
       "layout": "IPY_MODEL_7ec948687a3145d4a84bca4bb135e91d",
       "style": "IPY_MODEL_0e4b140dcbdd4e37b1c8eb3c678dc02c",
       "value": "<b>Contact: </b> "
      }
     },
     "e16c106727614a1886e2ac604801f5b4": {
      "model_module": "@jupyter-widgets/base",
      "model_module_version": "1.2.0",
      "model_name": "LayoutModel",
      "state": {}
     },
     "e1bbaa6dfa3341199c369687e04d0fc2": {
      "model_module": "@jupyter-widgets/controls",
      "model_module_version": "1.5.0",
      "model_name": "HTMLModel",
      "state": {
       "layout": "IPY_MODEL_adfc84ee19764ce9abc4913b9879e71b",
       "style": "IPY_MODEL_f8c2b5b0795e4e88bfa7eac19898fbb5",
       "value": "<b>Description: </b> "
      }
     },
     "e209cfcb814744fdbe7d8828565e680b": {
      "model_module": "@jupyter-widgets/base",
      "model_module_version": "1.2.0",
      "model_name": "LayoutModel",
      "state": {}
     },
     "e257e3bd06f84d84a33a5e37728889d8": {
      "model_module": "@jupyter-widgets/controls",
      "model_module_version": "1.5.0",
      "model_name": "HTMLModel",
      "state": {
       "layout": "IPY_MODEL_926e504a2a3b4cf6ae3e5ddb761546f4",
       "style": "IPY_MODEL_3c182ba7037f4efda1215c3ea8ec34f4",
       "value": "<a href=\"mailto: jupyter-info@icos-cp.eu\">jupyter-info@icos-cp.eu</a>"
      }
     },
     "e2727fdc15a64bafb4755c14db89c97e": {
      "model_module": "@jupyter-widgets/controls",
      "model_module_version": "1.5.0",
      "model_name": "DescriptionStyleModel",
      "state": {
       "description_width": ""
      }
     },
     "e29c260aca464445bfb6fff37a51c566": {
      "model_module": "@jupyter-widgets/controls",
      "model_module_version": "1.5.0",
      "model_name": "DescriptionStyleModel",
      "state": {
       "description_width": ""
      }
     },
     "e316951a44b74f8496f732331dc776b4": {
      "model_module": "@jupyter-widgets/base",
      "model_module_version": "1.2.0",
      "model_name": "LayoutModel",
      "state": {}
     },
     "e34abe18c45a40839187c730871155cc": {
      "model_module": "@jupyter-widgets/controls",
      "model_module_version": "1.5.0",
      "model_name": "DescriptionStyleModel",
      "state": {
       "description_width": ""
      }
     },
     "e34e9c00cf5f4eec97487b9a75db9690": {
      "model_module": "@jupyter-widgets/controls",
      "model_module_version": "1.5.0",
      "model_name": "DescriptionStyleModel",
      "state": {
       "description_width": ""
      }
     },
     "e36d0afb0f69472f8c48e9c052baf7b9": {
      "model_module": "@jupyter-widgets/controls",
      "model_module_version": "1.5.0",
      "model_name": "HTMLModel",
      "state": {
       "layout": "IPY_MODEL_9f26e6c4c6944f669b5360c4414a1e98",
       "style": "IPY_MODEL_544857a65c5840f0a90946da8ba7a38c",
       "value": "<a href=./education/PhD/upscaling_carbon_fluxes/notebooks/Station_example.ipynb target='_blank'>Station example</a>"
      }
     },
     "e3aca3dc696d493f86d01d7caaa6247d": {
      "model_module": "@jupyter-widgets/base",
      "model_module_version": "1.2.0",
      "model_name": "LayoutModel",
      "state": {}
     },
     "e3c5162d87594a42a0e93ff3a31f5999": {
      "model_module": "@jupyter-widgets/controls",
      "model_module_version": "1.5.0",
      "model_name": "DescriptionStyleModel",
      "state": {
       "description_width": ""
      }
     },
     "e3e333093f7f4edcb7ba6b8dd570e0e7": {
      "model_module": "@jupyter-widgets/base",
      "model_module_version": "1.2.0",
      "model_name": "LayoutModel",
      "state": {}
     },
     "e3e70908b2d64fa1aa9b2ccadd63b023": {
      "model_module": "@jupyter-widgets/base",
      "model_module_version": "1.2.0",
      "model_name": "LayoutModel",
      "state": {}
     },
     "e410f64e128f4109a121ec79fdd1346d": {
      "model_module": "@jupyter-widgets/controls",
      "model_module_version": "1.5.0",
      "model_name": "HTMLModel",
      "state": {
       "layout": "IPY_MODEL_d0e11f496ab94438a75ab31574900b7b",
       "style": "IPY_MODEL_df9e94b2f1584de4a1afb18533068fac",
       "value": "<a href='https://github.com/ICOS-Carbon-Portal/jupyter/issues' target='_blank'>Click here to report an issue</a>"
      }
     },
     "e419f5b6f1bf453c9c85d0190d10a92f": {
      "model_module": "@jupyter-widgets/base",
      "model_module_version": "1.2.0",
      "model_name": "LayoutModel",
      "state": {}
     },
     "e41e6b7e1c5f47559697c2defb85112e": {
      "model_module": "@jupyter-widgets/controls",
      "model_module_version": "1.5.0",
      "model_name": "HTMLModel",
      "state": {
       "layout": "IPY_MODEL_0c2f036d88ff4f0fae3aeb4054ca68b7",
       "style": "IPY_MODEL_294b8cb5bd564fef89b5412222c46635",
       "value": "<b>Contact: </b> "
      }
     },
     "e4d24dfd3be54e64a3b28f2a14bbff42": {
      "model_module": "@jupyter-widgets/controls",
      "model_module_version": "1.5.0",
      "model_name": "DescriptionStyleModel",
      "state": {
       "description_width": ""
      }
     },
     "e514b35ad5c742bfafb87f06cadfb602": {
      "model_module": "@jupyter-widgets/base",
      "model_module_version": "1.2.0",
      "model_name": "LayoutModel",
      "state": {}
     },
     "e551e3fa5c3f4793987c95c0c91ba634": {
      "model_module": "@jupyter-widgets/controls",
      "model_module_version": "1.5.0",
      "model_name": "GridBoxModel",
      "state": {
       "children": [
        "IPY_MODEL_2dd498f90eab4a73829f4970954f120f",
        "IPY_MODEL_3eb4c7066c464da593f6c2e9f54ea758"
       ],
       "layout": "IPY_MODEL_3c17e935808f48529fa44b42ba47617d"
      }
     },
     "e56d4a0e3d7646dfbbb9fc18bcd594fd": {
      "model_module": "@jupyter-widgets/controls",
      "model_module_version": "1.5.0",
      "model_name": "HTMLModel",
      "state": {
       "layout": "IPY_MODEL_d3dba58d907944deb72d935ab789c50d",
       "style": "IPY_MODEL_12d44b31e3da40e4bdfa675bc5f9a6d0",
       "value": "<a href=\"mailto: jupyter-info@icos-cp.eu\">jupyter-info@icos-cp.eu</a>, <a href=\"mailto: claudio.donofrio@nateko.lu.se\">claudio.donofrio@nateko.lu.se</a>"
      }
     },
     "e5799c2d45e04697b389faa908d6fee2": {
      "model_module": "@jupyter-widgets/base",
      "model_module_version": "1.2.0",
      "model_name": "LayoutModel",
      "state": {}
     },
     "e5a2c5ddda144d72a1f87d893df08405": {
      "model_module": "@jupyter-widgets/base",
      "model_module_version": "1.2.0",
      "model_name": "LayoutModel",
      "state": {}
     },
     "e5b1215054674bdaa50f1b2b27bb97af": {
      "model_module": "@jupyter-widgets/controls",
      "model_module_version": "1.5.0",
      "model_name": "DescriptionStyleModel",
      "state": {
       "description_width": ""
      }
     },
     "e6709a79f3de4302bc1564838fe89610": {
      "model_module": "@jupyter-widgets/controls",
      "model_module_version": "1.5.0",
      "model_name": "DescriptionStyleModel",
      "state": {
       "description_width": ""
      }
     },
     "e6868dff3f2d4e5b970cef3c4ef120eb": {
      "model_module": "@jupyter-widgets/controls",
      "model_module_version": "1.5.0",
      "model_name": "HTMLModel",
      "state": {
       "layout": "IPY_MODEL_47acfe2ff0ba4e59a03cfa2829eaf593",
       "style": "IPY_MODEL_e8f89af696f3444d9f7c65818152890a",
       "value": "<b>GitHub: </b> "
      }
     },
     "e6ca3fd7b9dd4240af04a2c711f4525f": {
      "model_module": "@jupyter-widgets/base",
      "model_module_version": "1.2.0",
      "model_name": "LayoutModel",
      "state": {}
     },
     "e6eb48d6e08b462c8e3dfb15c7d505d0": {
      "model_module": "@jupyter-widgets/controls",
      "model_module_version": "1.5.0",
      "model_name": "HTMLModel",
      "state": {
       "layout": "IPY_MODEL_adc9a50f4bb1400090c20d30f11cf7cc",
       "style": "IPY_MODEL_39bf9abed8124ee98fc33b84c69795c6",
       "value": "<a href=./introduction/QuickstartToPythonENG.ipynb target='_blank'>Quickstart to Python</a>"
      }
     },
     "e6fda782267841b581c221cc5b6445d6": {
      "model_module": "@jupyter-widgets/base",
      "model_module_version": "1.2.0",
      "model_name": "LayoutModel",
      "state": {
       "grid_gap": "5px 10px",
       "grid_template_columns": "100px auto",
       "grid_template_rows": "auto auto auto auto auto",
       "padding": "50px 0px 70px 0px",
       "width": "100%"
      }
     },
     "e736d74d01034028895d4f7bf8464981": {
      "model_module": "@jupyter-widgets/base",
      "model_module_version": "1.2.0",
      "model_name": "LayoutModel",
      "state": {}
     },
     "e74cb322e9704d98b8ff6468e69fc959": {
      "model_module": "@jupyter-widgets/controls",
      "model_module_version": "1.5.0",
      "model_name": "GridBoxModel",
      "state": {
       "children": [
        "IPY_MODEL_060c744319ae4891b1f86fb9722aefa2",
        "IPY_MODEL_b2aaed5201ba46169d324efe69692951",
        "IPY_MODEL_6931395d897a4c53b5397574f6bb0c0c",
        "IPY_MODEL_3ba45f0b8d2c4ba19d527a152ae273cd",
        "IPY_MODEL_aaa8207033bf4050a56c9666067d33c0",
        "IPY_MODEL_e933e5b65a574f3b87061e86ba6f402d",
        "IPY_MODEL_83af1520a7484b438c4ce95e1b097aee",
        "IPY_MODEL_6c4cc27aa5d04b9a838cbc140e634b7f",
        "IPY_MODEL_4a4ab861f3644dd89ae74e5c7483cbba",
        "IPY_MODEL_9164015743a4485e81e81e6d26c2abd6"
       ],
       "layout": "IPY_MODEL_58fff3c202de40cfb257c42eedf7f973"
      }
     },
     "e75945f5940b48c98475e7a2a27af273": {
      "model_module": "@jupyter-widgets/base",
      "model_module_version": "1.2.0",
      "model_name": "LayoutModel",
      "state": {}
     },
     "e78a3b28dfcb45e4a1bad564349abb91": {
      "model_module": "@jupyter-widgets/controls",
      "model_module_version": "1.5.0",
      "model_name": "GridBoxModel",
      "state": {
       "children": [
        "IPY_MODEL_ad9e1ec75a184317a82ac92f6fb93d5a",
        "IPY_MODEL_bea630723cc84f268e09543d467df395",
        "IPY_MODEL_a496ca2051bd4bbd84880e01cbe446ab",
        "IPY_MODEL_0df5d014b46b4b008e6b462454ff3d2b",
        "IPY_MODEL_dab8e513bec445f88251b5c900c338a0",
        "IPY_MODEL_22aaefb35d4f489f9377d5f3ce622746",
        "IPY_MODEL_f3e9aa5f9b524d238380acec72ec1c14",
        "IPY_MODEL_2f1d72b8c0ec47cd8c1f0b016b8ea050"
       ],
       "layout": "IPY_MODEL_27d702ec2efc405bad4246653bbf8e87"
      }
     },
     "e7b3b81a64fe471dbf1c4b480d6a244c": {
      "model_module": "@jupyter-widgets/controls",
      "model_module_version": "1.5.0",
      "model_name": "DescriptionStyleModel",
      "state": {
       "description_width": ""
      }
     },
     "e7d207d8f49d48f4bb9552637389f238": {
      "model_module": "@jupyter-widgets/base",
      "model_module_version": "1.2.0",
      "model_name": "LayoutModel",
      "state": {}
     },
     "e7f2850cc8e44a2c82d2742acd4573b5": {
      "model_module": "@jupyter-widgets/base",
      "model_module_version": "1.2.0",
      "model_name": "LayoutModel",
      "state": {}
     },
     "e7f92b6ac38542798d8f8697519de568": {
      "model_module": "@jupyter-widgets/controls",
      "model_module_version": "1.5.0",
      "model_name": "HTMLModel",
      "state": {
       "layout": "IPY_MODEL_df58c352510d4d80ae7ae4e17ef58464",
       "style": "IPY_MODEL_2f1b91a129a64b918ea9a68b2a49a0dd",
       "value": "<a href=./education/PhD/upscaling_carbon_fluxes/notebooks/inspect_fluxnet_files.ipynb target='_blank'>Inspect FLUXNET ecosystem measurements</a>"
      }
     },
     "e81683cb8e5c4f61bb6da7ccbe300bd0": {
      "model_module": "@jupyter-widgets/controls",
      "model_module_version": "1.5.0",
      "model_name": "DescriptionStyleModel",
      "state": {
       "description_width": ""
      }
     },
     "e8258fd76aa541d9ad22eb466e6a155f": {
      "model_module": "@jupyter-widgets/controls",
      "model_module_version": "1.5.0",
      "model_name": "HTMLModel",
      "state": {
       "layout": "IPY_MODEL_e514b35ad5c742bfafb87f06cadfb602",
       "style": "IPY_MODEL_9c9f898c2225477e8de868d1730ecaf2",
       "value": "To assist the national networks in evaluating the current and possible atmospheric network configurations, the ICOS Carbon Portal has extended its <a href=\"https://www.icos-cp.eu/data-services/tools/stilt-footprint\" target=\"_blank\">STILT footprint service</a> with a Jupyter notebook based tool. The tool allows the user to test any potential network configuration on its capability to capture the influence of sources and sinks. It does so by exploring the characteristics of combined influence (footprint) areas. The resulting combined footprint of the user’s selection is displayed in three different types of maps including one that simply shows the combined footprint and two maps that are based on the absolute coverage of the footprints (referred to as “footprint masks”). In a next step, the footprint mask coverage is examined in terms of the extent to which it covers individual countries. The results are summarized in a table."
      }
     },
     "e8662d18b56f4c34a3178311c33e5409": {
      "model_module": "@jupyter-widgets/controls",
      "model_module_version": "1.5.0",
      "model_name": "DescriptionStyleModel",
      "state": {
       "description_width": ""
      }
     },
     "e893d4b3f9be4f8bb24077b0ea61029d": {
      "model_module": "@jupyter-widgets/controls",
      "model_module_version": "1.5.0",
      "model_name": "DescriptionStyleModel",
      "state": {
       "description_width": ""
      }
     },
     "e8c31ecf82944ec8bc13b5198b8a5b8b": {
      "model_module": "@jupyter-widgets/controls",
      "model_module_version": "1.5.0",
      "model_name": "DescriptionStyleModel",
      "state": {
       "description_width": ""
      }
     },
     "e8e8813344504a0193b70d7b42e8e7f2": {
      "model_module": "@jupyter-widgets/base",
      "model_module_version": "1.2.0",
      "model_name": "LayoutModel",
      "state": {}
     },
     "e8f89af696f3444d9f7c65818152890a": {
      "model_module": "@jupyter-widgets/controls",
      "model_module_version": "1.5.0",
      "model_name": "DescriptionStyleModel",
      "state": {
       "description_width": ""
      }
     },
     "e92257fcbad64bd59e212c3f58b3f7dd": {
      "model_module": "@jupyter-widgets/controls",
      "model_module_version": "1.5.0",
      "model_name": "GridBoxModel",
      "state": {
       "children": [
        "IPY_MODEL_3b355ecc1ce3483d93ec1622a48b5bf2",
        "IPY_MODEL_4500bfcdc1c84d0db5b6cc4ad5b5a94c",
        "IPY_MODEL_46b7284ebf584d1f8685f5f7c7a7fa18",
        "IPY_MODEL_f1769efb296346c6806cc5615ec025a0",
        "IPY_MODEL_0faf3432554242318f80aaf0b1222528",
        "IPY_MODEL_b503594c2c3f4cf7b46a61b62ed01a4e",
        "IPY_MODEL_fe1d3f6e1dea4e7b85134df13fc2eb95",
        "IPY_MODEL_ae85d0accdb947c7a3323159f6c16eb2",
        "IPY_MODEL_b3935bc930d14ecb80b9c939ce6eac15",
        "IPY_MODEL_9f57343186bf41c7ac8d6f5f1674f339"
       ],
       "layout": "IPY_MODEL_8515cf755d8d49668f69fb88293b0e9c"
      }
     },
     "e933e5b65a574f3b87061e86ba6f402d": {
      "model_module": "@jupyter-widgets/controls",
      "model_module_version": "1.5.0",
      "model_name": "HTMLModel",
      "state": {
       "layout": "IPY_MODEL_0bf1edbe83dd4f44b0525108637b530c",
       "style": "IPY_MODEL_f7ff12b26e4f47dba445b70de1b79240",
       "value": "<a href=\"mailto: jupyter-info@icos-cp.eu\">jupyter-info@icos-cp.eu</a>"
      }
     },
     "e9ae1590ab4c4da182d94c036c18fc11": {
      "model_module": "@jupyter-widgets/controls",
      "model_module_version": "1.5.0",
      "model_name": "DescriptionStyleModel",
      "state": {
       "description_width": ""
      }
     },
     "e9c991073a904992b9a73c0b4d0eb409": {
      "model_module": "@jupyter-widgets/base",
      "model_module_version": "1.2.0",
      "model_name": "LayoutModel",
      "state": {}
     },
     "ea00f4f8d4e34a2790f20a431770afa1": {
      "model_module": "@jupyter-widgets/base",
      "model_module_version": "1.2.0",
      "model_name": "LayoutModel",
      "state": {}
     },
     "ea25726d612949a88692eea15b59a970": {
      "model_module": "@jupyter-widgets/controls",
      "model_module_version": "1.5.0",
      "model_name": "HTMLModel",
      "state": {
       "layout": "IPY_MODEL_96ded38333e04fcc845ce22dc956df9d",
       "style": "IPY_MODEL_493c7ab3949f495e913879bbe61327e0",
       "value": "<a href=./project_jupyter_notebooks/OTC%20Data%20Reduction%20Workshop/Data%20Reduction%20part%203%20-%20%20pCO2%20sensor.ipynb target='_blank'>pCO₂ Data Reduction part 3 - sensor data</a>"
      }
     },
     "ea3a9eeee4824f1b8faf014bf7bece69": {
      "model_module": "@jupyter-widgets/base",
      "model_module_version": "1.2.0",
      "model_name": "LayoutModel",
      "state": {}
     },
     "ea41c49b573b4e489fee41990a0e0d98": {
      "model_module": "@jupyter-widgets/controls",
      "model_module_version": "1.5.0",
      "model_name": "DescriptionStyleModel",
      "state": {
       "description_width": ""
      }
     },
     "ea52002bc089443390f8790c8946866b": {
      "model_module": "@jupyter-widgets/controls",
      "model_module_version": "1.5.0",
      "model_name": "HTMLModel",
      "state": {
       "layout": "IPY_MODEL_3b638e8752b64113b5d7d4d89ef3d391",
       "style": "IPY_MODEL_dd354d3335384f2bbfd3e490d48e54df",
       "value": "<img src=\"./icos_jupyter_notebooks/ind_tools/img/05_education/phd/ucf/ex1/plot2stations.png\">"
      }
     },
     "ea7f5a8cfe664cb6a82af04d847c1c13": {
      "model_module": "@jupyter-widgets/controls",
      "model_module_version": "1.5.0",
      "model_name": "DescriptionStyleModel",
      "state": {
       "description_width": ""
      }
     },
     "ea8dfd2c804f4d54a5273a7a4520e4cd": {
      "model_module": "@jupyter-widgets/controls",
      "model_module_version": "1.5.0",
      "model_name": "HTMLModel",
      "state": {
       "layout": "IPY_MODEL_a215e433e72946eb8c7c107e22868b34",
       "style": "IPY_MODEL_8515cc1aadd24065ba6abc62a8f00d86",
       "value": "<b>GitHub: </b> "
      }
     },
     "ea8f7e68b9b94f6ba23f7aa9f3af1332": {
      "model_module": "@jupyter-widgets/base",
      "model_module_version": "1.2.0",
      "model_name": "LayoutModel",
      "state": {}
     },
     "eaa1ce4434af4bc9a891d70295e13332": {
      "model_module": "@jupyter-widgets/base",
      "model_module_version": "1.2.0",
      "model_name": "LayoutModel",
      "state": {
       "grid_gap": "5px 10px",
       "grid_template_columns": "100px auto",
       "grid_template_rows": "auto auto auto auto auto",
       "padding": "50px 0px 70px 0px",
       "width": "100%"
      }
     },
     "eae09ea56025424c9ecd484c4df79180": {
      "model_module": "@jupyter-widgets/controls",
      "model_module_version": "1.5.0",
      "model_name": "DescriptionStyleModel",
      "state": {
       "description_width": ""
      }
     },
     "eaf62aae9b2141719b4ff7a43e93b013": {
      "model_module": "@jupyter-widgets/controls",
      "model_module_version": "1.5.0",
      "model_name": "DescriptionStyleModel",
      "state": {
       "description_width": ""
      }
     },
     "eb0a7a771819493798f6a31d4367689e": {
      "model_module": "@jupyter-widgets/controls",
      "model_module_version": "1.5.0",
      "model_name": "DescriptionStyleModel",
      "state": {
       "description_width": ""
      }
     },
     "eb389847b03c4bae8899823f6997b74b": {
      "model_module": "@jupyter-widgets/controls",
      "model_module_version": "1.5.0",
      "model_name": "DescriptionStyleModel",
      "state": {
       "description_width": ""
      }
     },
     "eb661ddec0994959924205ab5031e70d": {
      "model_module": "@jupyter-widgets/controls",
      "model_module_version": "1.5.0",
      "model_name": "DescriptionStyleModel",
      "state": {
       "description_width": ""
      }
     },
     "eb67048050de40a5a1f02c2862dc2bb4": {
      "model_module": "@jupyter-widgets/controls",
      "model_module_version": "1.5.0",
      "model_name": "HTMLModel",
      "state": {
       "layout": "IPY_MODEL_72074108d95f4e4a8bb46dd91cbe1ab2",
       "style": "IPY_MODEL_2e0b4925d26e4c6cab02cdbbea6d35b9",
       "value": "<a href=./project_jupyter_notebooks/envrifair_winterschool/map/exercise2_participant.ipynb target='_blank'>Exercise 2 - Map with workshop members</a>"
      }
     },
     "eb79a42b53b04192807a36bedb18cb84": {
      "model_module": "@jupyter-widgets/controls",
      "model_module_version": "1.5.0",
      "model_name": "HTMLModel",
      "state": {
       "layout": "IPY_MODEL_0d51f77892dd4e25973e73a0a44ed0b3",
       "style": "IPY_MODEL_b4908cd5091d401db47f27bd4931af93",
       "value": "<img src=\"./icos_jupyter_notebooks/ind_tools/img/05_education/msc_bsc/soil/co2_surface_flux.PNG\">"
      }
     },
     "eb83a55579204e14967ea7952576dc68": {
      "model_module": "@jupyter-widgets/controls",
      "model_module_version": "1.5.0",
      "model_name": "GridBoxModel",
      "state": {
       "children": [
        "IPY_MODEL_13765e34f82140b1aed4439ef47f3e81",
        "IPY_MODEL_0490e8cb9a1a4398b092769f0a3086f9",
        "IPY_MODEL_e1bbaa6dfa3341199c369687e04d0fc2",
        "IPY_MODEL_9b0b0f69c47e4a6d879a52f857601830",
        "IPY_MODEL_a774f92e882d49bf97d5523cc4e22f40",
        "IPY_MODEL_8fac6f9ba9374ab289a64f2097224d90",
        "IPY_MODEL_79540a08fbbf4499aaa8608c25e4e0cc",
        "IPY_MODEL_9da0797d9a054d9b979c2121eb6754cc",
        "IPY_MODEL_f64baf64efa2453f932034a300e5dd60",
        "IPY_MODEL_a5f673747e4e4e2daa08470c8664a3a4"
       ],
       "layout": "IPY_MODEL_09f885155f504dd3adb54faa07413e98"
      }
     },
     "ebd55529ab634d42807ea8c6c51622bc": {
      "model_module": "@jupyter-widgets/controls",
      "model_module_version": "1.5.0",
      "model_name": "HTMLModel",
      "state": {
       "layout": "IPY_MODEL_cd4ccf1109a44451a0ada8724701c766",
       "style": "IPY_MODEL_76734209fdf344a087c74ca12778528c",
       "value": "<b>Contact: </b> "
      }
     },
     "ec01626a97c949508a29e9391ff56b5e": {
      "model_module": "@jupyter-widgets/base",
      "model_module_version": "1.2.0",
      "model_name": "LayoutModel",
      "state": {}
     },
     "ec19093a09634eecab5376a893841a26": {
      "model_module": "@jupyter-widgets/controls",
      "model_module_version": "1.5.0",
      "model_name": "DescriptionStyleModel",
      "state": {
       "description_width": ""
      }
     },
     "ec2dabc7cc4c4ad69652c95318116b89": {
      "model_module": "@jupyter-widgets/controls",
      "model_module_version": "1.5.0",
      "model_name": "HTMLModel",
      "state": {
       "layout": "IPY_MODEL_44fe338ee1924a78b3ad3c31af3910e2",
       "style": "IPY_MODEL_07d81cb26e224b8fa19655cc8a3f0027",
       "value": "<img src=\"./icos_jupyter_notebooks/ind_tools/img/02_pylib_ex/ex6b.PNG\">"
      }
     },
     "ec3c957babc74c58b0b9e4ea3499849e": {
      "model_module": "@jupyter-widgets/controls",
      "model_module_version": "1.5.0",
      "model_name": "DescriptionStyleModel",
      "state": {
       "description_width": ""
      }
     },
     "ecad19b18c1843b681f04696d7d66683": {
      "model_module": "@jupyter-widgets/base",
      "model_module_version": "1.2.0",
      "model_name": "LayoutModel",
      "state": {}
     },
     "ecd0c512a5a64df580e843b731f1de32": {
      "model_module": "@jupyter-widgets/base",
      "model_module_version": "1.2.0",
      "model_name": "LayoutModel",
      "state": {}
     },
     "ed27ebba533642a7876abc76c3b00e1f": {
      "model_module": "@jupyter-widgets/controls",
      "model_module_version": "1.5.0",
      "model_name": "HTMLModel",
      "state": {
       "layout": "IPY_MODEL_2db38c58de3b41ff8440c9108102189d",
       "style": "IPY_MODEL_a35266390fe84d16a2bce6249cc5b589",
       "value": "<b>Contact: </b> "
      }
     },
     "ed484dab03904298b4565ec062ed1f2c": {
      "model_module": "@jupyter-widgets/controls",
      "model_module_version": "1.5.0",
      "model_name": "HTMLModel",
      "state": {
       "layout": "IPY_MODEL_0f975644e8924d5fbd965011dc591303",
       "style": "IPY_MODEL_1fd40eb03e9846f8aad7fbbaf266331e",
       "value": "<b>Thumbnail: </b> "
      }
     },
     "edd094e184444e64b9831774372a89ca": {
      "model_module": "@jupyter-widgets/controls",
      "model_module_version": "1.5.0",
      "model_name": "GridBoxModel",
      "state": {
       "children": [
        "IPY_MODEL_6e6ade57697d49c69262a79822cbf840",
        "IPY_MODEL_49d7ca6101e34549b3551ff8786fc648",
        "IPY_MODEL_1833e59e4c7a47e3a8798ef05540bc44",
        "IPY_MODEL_1b0e9b28a5c94066bd970f686dd58c63",
        "IPY_MODEL_075ba369b9e3418daa7f12d2026ef9fd",
        "IPY_MODEL_02c19386c8b145c9a837f61b25a0f514",
        "IPY_MODEL_8c7ed78df2304e999fe591d191940a58",
        "IPY_MODEL_8f60665f36224c098a687f5a2fbc8ed0",
        "IPY_MODEL_73bbb58ab0f94d4c9b090b41503a9220",
        "IPY_MODEL_937bc0a36e6647fd941715f5ef60fc28"
       ],
       "layout": "IPY_MODEL_78f4d22f5ef94c33b388b451bdb82cad"
      }
     },
     "edd462060550462bb04d743a0166e351": {
      "model_module": "@jupyter-widgets/controls",
      "model_module_version": "1.5.0",
      "model_name": "HTMLModel",
      "state": {
       "layout": "IPY_MODEL_831f9c900556449a98a18c234b11f5bb",
       "style": "IPY_MODEL_cd8c68c3464f4b3ca25aab957a915019",
       "value": "<b>Title: </b> "
      }
     },
     "ee42052aa050420da1b4c2097ce22dc4": {
      "model_module": "@jupyter-widgets/base",
      "model_module_version": "1.2.0",
      "model_name": "LayoutModel",
      "state": {}
     },
     "ee4740325b644a3d95f7d5d27e10653a": {
      "model_module": "@jupyter-widgets/controls",
      "model_module_version": "1.5.0",
      "model_name": "DescriptionStyleModel",
      "state": {
       "description_width": ""
      }
     },
     "ee6b50a618314a5c80d42527a4e364e2": {
      "model_module": "@jupyter-widgets/controls",
      "model_module_version": "1.5.0",
      "model_name": "AccordionModel",
      "state": {
       "_titles": {
        "0": "Drought 2018",
        "1": "Soil exercise NGEN16"
       },
       "children": [
        "IPY_MODEL_692aa969f11c4376b62cd9cad5d16ea9",
        "IPY_MODEL_b1c76feab7a641788439f32549627948"
       ],
       "layout": "IPY_MODEL_b36d106ed0bc4540ba256ae785163115",
       "selected_index": null
      }
     },
     "ee7a11cf4a63433089058477bbda3d37": {
      "model_module": "@jupyter-widgets/base",
      "model_module_version": "1.2.0",
      "model_name": "LayoutModel",
      "state": {
       "grid_gap": "5px 10px",
       "grid_template_columns": "100px auto",
       "grid_template_rows": "auto auto auto auto auto",
       "padding": "50px 0px 70px 0px",
       "width": "100%"
      }
     },
     "ee82bcdd6c1348d3bcf25a61f0de49ae": {
      "model_module": "@jupyter-widgets/controls",
      "model_module_version": "1.5.0",
      "model_name": "HTMLModel",
      "state": {
       "layout": "IPY_MODEL_8b89d407149240aa936d541a12a63ed3",
       "style": "IPY_MODEL_0b1021675ba64369beb430dc9b69d2a0",
       "value": "<b>Description: </b> "
      }
     },
     "eea7d5aade07430581500736393355e8": {
      "model_module": "@jupyter-widgets/controls",
      "model_module_version": "1.5.0",
      "model_name": "DescriptionStyleModel",
      "state": {
       "description_width": ""
      }
     },
     "ef085f39bdef472c9eb0779c19ae15de": {
      "model_module": "@jupyter-widgets/controls",
      "model_module_version": "1.5.0",
      "model_name": "HTMLModel",
      "state": {
       "layout": "IPY_MODEL_21036e949a984ab1a52434f9ca6585b5",
       "style": "IPY_MODEL_965104bdff5c48b0a9991ed64cbe2e0f",
       "value": "<a href=\"mailto: jupyter-info@icos-cp.eu\">jupyter-info@icos-cp.eu</a>, <a href=\"mailto: claudio.donofrio@nateko.lu.se\">claudio.donofrio@nateko.lu.se</a>"
      }
     },
     "ef1084fe20e649c5a8799295320a4aed": {
      "model_module": "@jupyter-widgets/base",
      "model_module_version": "1.2.0",
      "model_name": "LayoutModel",
      "state": {}
     },
     "ef17fed4d4b0425f9b22d02b6a4b66fa": {
      "model_module": "@jupyter-widgets/controls",
      "model_module_version": "1.5.0",
      "model_name": "HTMLModel",
      "state": {
       "layout": "IPY_MODEL_0b788e4ed8254c018ba113b20c37d51a",
       "style": "IPY_MODEL_58286e144f754aa38ffbe9c83b036adb",
       "value": "<b>Thumbnail: </b> "
      }
     },
     "ef285dfe7e994f4b8b454d61d2117986": {
      "model_module": "@jupyter-widgets/controls",
      "model_module_version": "1.5.0",
      "model_name": "DescriptionStyleModel",
      "state": {
       "description_width": ""
      }
     },
     "ef665030eed34e9aabea7e3cb7b69c92": {
      "model_module": "@jupyter-widgets/controls",
      "model_module_version": "1.5.0",
      "model_name": "HTMLModel",
      "state": {
       "layout": "IPY_MODEL_f122750e0cfc4515b64b536857e8810b",
       "style": "IPY_MODEL_79f867182d6541b9aac137b67b3a7503",
       "value": "<a href='https://github.com/ICOS-Carbon-Portal/jupyter/issues' target='_blank'>Click here to report an issue</a>"
      }
     },
     "ef73102afd0b4646919e38ddb47b20d0": {
      "model_module": "@jupyter-widgets/base",
      "model_module_version": "1.2.0",
      "model_name": "LayoutModel",
      "state": {}
     },
     "efa512d65c6943a4ab8ea36fd26cd030": {
      "model_module": "@jupyter-widgets/controls",
      "model_module_version": "1.5.0",
      "model_name": "AccordionModel",
      "state": {
       "_titles": {
        "0": "Drought 2018 - ICOS ecosystem data from Hyltemossa",
        "1": "Drought 2018 - ICOS ecosystem data from Hyltemossa (all code visible)"
       },
       "children": [
        "IPY_MODEL_03988215efd547449b95015669e618c1",
        "IPY_MODEL_3f8785b0437d45fc8f96348fa08643cf"
       ],
       "layout": "IPY_MODEL_4c68d9eb21ea43469d60f62690eb0e12",
       "selected_index": null
      }
     },
     "efb8129b771b4be9812e92bf6bc7041e": {
      "model_module": "@jupyter-widgets/controls",
      "model_module_version": "1.5.0",
      "model_name": "DescriptionStyleModel",
      "state": {
       "description_width": ""
      }
     },
     "efd97e41a4b1472eb1b8b9662e18511a": {
      "model_module": "@jupyter-widgets/base",
      "model_module_version": "1.2.0",
      "model_name": "LayoutModel",
      "state": {}
     },
     "f0130c9ee63440f89289b00f86878902": {
      "model_module": "@jupyter-widgets/base",
      "model_module_version": "1.2.0",
      "model_name": "LayoutModel",
      "state": {}
     },
     "f02ecc92f30d4544ae5f446836fd786e": {
      "model_module": "@jupyter-widgets/controls",
      "model_module_version": "1.5.0",
      "model_name": "DescriptionStyleModel",
      "state": {
       "description_width": ""
      }
     },
     "f03b49fbfac5420482d5db6a6fe6db29": {
      "model_module": "@jupyter-widgets/base",
      "model_module_version": "1.2.0",
      "model_name": "LayoutModel",
      "state": {
       "grid_gap": "5px 10px",
       "grid_template_columns": "100px auto",
       "grid_template_rows": "auto auto auto auto auto",
       "padding": "50px 0px 70px 0px",
       "width": "100%"
      }
     },
     "f072f1a8890a4b56bcc2e999466f401a": {
      "model_module": "@jupyter-widgets/base",
      "model_module_version": "1.2.0",
      "model_name": "LayoutModel",
      "state": {}
     },
     "f09b8265f9e44358af2f7ccac748da6b": {
      "model_module": "@jupyter-widgets/controls",
      "model_module_version": "1.5.0",
      "model_name": "HTMLModel",
      "state": {
       "layout": "IPY_MODEL_d95e767e80364e17829fb55475d9ef9a",
       "style": "IPY_MODEL_468aaea8950c4234b09244f695a4acc7",
       "value": "<a href='https://github.com/ICOS-Carbon-Portal/jupyter/issues' target='_blank'>Click here to report an issue</a>"
      }
     },
     "f0af5e7cb2ab460e8f1bdc95b4cf38bc": {
      "model_module": "@jupyter-widgets/controls",
      "model_module_version": "1.5.0",
      "model_name": "HTMLModel",
      "state": {
       "layout": "IPY_MODEL_47ceeb43a3274203a34551162415e016",
       "style": "IPY_MODEL_b5d0639173d046d780460f1352fac9ec",
       "value": "This Jupyter notebook supports the selection of an appropriate CO-offset threshold to identify events with potentially high fossil fuel CO2 contribution based on:<br><br>i. <a href='https://www.icos-cp.eu/data-products' target='_blank'>ICOS measurement time series</a> (ICOS release and NRT) for all ICOS atmospheric stations and <br>ii. <a href='https://www.icos-cp.eu/data-services/tools/stilt-footprint' target='_blank'>STILT footprints</a> and concentration time series (for selected stations only)"
      }
     },
     "f0d5a0ea216a4a54a419f524b90e8dea": {
      "model_module": "@jupyter-widgets/controls",
      "model_module_version": "1.5.0",
      "model_name": "DescriptionStyleModel",
      "state": {
       "description_width": ""
      }
     },
     "f1212958f74541a6ac3adbe3ab143960": {
      "model_module": "@jupyter-widgets/controls",
      "model_module_version": "1.5.0",
      "model_name": "HTMLModel",
      "state": {
       "layout": "IPY_MODEL_e419f5b6f1bf453c9c85d0190d10a92f",
       "style": "IPY_MODEL_b0f2a5b2c7da4f03953e96131d65731d",
       "value": "<b>Title: </b> "
      }
     },
     "f122750e0cfc4515b64b536857e8810b": {
      "model_module": "@jupyter-widgets/base",
      "model_module_version": "1.2.0",
      "model_name": "LayoutModel",
      "state": {}
     },
     "f1238079ccf24c7aa453bec7994d4152": {
      "model_module": "@jupyter-widgets/controls",
      "model_module_version": "1.5.0",
      "model_name": "DescriptionStyleModel",
      "state": {
       "description_width": ""
      }
     },
     "f16851e0ab1347e38345070f91e7d656": {
      "model_module": "@jupyter-widgets/controls",
      "model_module_version": "1.5.0",
      "model_name": "DescriptionStyleModel",
      "state": {
       "description_width": ""
      }
     },
     "f1769efb296346c6806cc5615ec025a0": {
      "model_module": "@jupyter-widgets/controls",
      "model_module_version": "1.5.0",
      "model_name": "HTMLModel",
      "state": {
       "layout": "IPY_MODEL_a0c1a77579cb467689296b65bf6849fe",
       "style": "IPY_MODEL_3e5b9ab003be419ea4d55d001245cee2",
       "value": "Description missing..."
      }
     },
     "f1d683bfc7a04b2d9475b982558f68c8": {
      "model_module": "@jupyter-widgets/controls",
      "model_module_version": "1.5.0",
      "model_name": "DescriptionStyleModel",
      "state": {
       "description_width": ""
      }
     },
     "f1f8df922566487dbb1ca163a7513b06": {
      "model_module": "@jupyter-widgets/controls",
      "model_module_version": "1.5.0",
      "model_name": "DescriptionStyleModel",
      "state": {
       "description_width": ""
      }
     },
     "f1faffc7196f401bb716b3097ef365de": {
      "model_module": "@jupyter-widgets/base",
      "model_module_version": "1.2.0",
      "model_name": "LayoutModel",
      "state": {}
     },
     "f230468987974b1ab8002d3dfa809ff6": {
      "model_module": "@jupyter-widgets/controls",
      "model_module_version": "1.5.0",
      "model_name": "DescriptionStyleModel",
      "state": {
       "description_width": ""
      }
     },
     "f2cc841cf50e4c6f8e566f177bf31aec": {
      "model_module": "@jupyter-widgets/base",
      "model_module_version": "1.2.0",
      "model_name": "LayoutModel",
      "state": {
       "grid_gap": "5px 10px",
       "grid_template_columns": "100px auto",
       "grid_template_rows": "auto auto auto auto auto",
       "padding": "50px 0px 70px 0px",
       "width": "100%"
      }
     },
     "f2dbcb9710834bfda93fa9554e7d1a2d": {
      "model_module": "@jupyter-widgets/controls",
      "model_module_version": "1.5.0",
      "model_name": "DescriptionStyleModel",
      "state": {
       "description_width": ""
      }
     },
     "f35c86c026cf46cf820e518bdd709878": {
      "model_module": "@jupyter-widgets/controls",
      "model_module_version": "1.5.0",
      "model_name": "DescriptionStyleModel",
      "state": {
       "description_width": ""
      }
     },
     "f3ca4d6d77b24c818c791bebbe371a73": {
      "model_module": "@jupyter-widgets/base",
      "model_module_version": "1.2.0",
      "model_name": "LayoutModel",
      "state": {}
     },
     "f3d78f7b3c5c4c96ae5c79eb440c1f94": {
      "model_module": "@jupyter-widgets/controls",
      "model_module_version": "1.5.0",
      "model_name": "HTMLModel",
      "state": {
       "layout": "IPY_MODEL_57c19b54690c416db9d64531f2318644",
       "style": "IPY_MODEL_9bbf413af6a242138a605a461d821bd4",
       "value": "<b>Thumbnail: </b> "
      }
     },
     "f3e9aa5f9b524d238380acec72ec1c14": {
      "model_module": "@jupyter-widgets/controls",
      "model_module_version": "1.5.0",
      "model_name": "HTMLModel",
      "state": {
       "layout": "IPY_MODEL_dc636c5e1d56417c855e627c35d9d4ab",
       "style": "IPY_MODEL_190f379746424368b3fd8de4ac104c3e",
       "value": "<b>GitHub: </b> "
      }
     },
     "f3eb3699515f4c21817a7b1be88ac542": {
      "model_module": "@jupyter-widgets/base",
      "model_module_version": "1.2.0",
      "model_name": "LayoutModel",
      "state": {}
     },
     "f3eb3bda52594f4eb3b905b6d8c4fa4b": {
      "model_module": "@jupyter-widgets/controls",
      "model_module_version": "1.5.0",
      "model_name": "HTMLModel",
      "state": {
       "layout": "IPY_MODEL_7f243093e33c43588e46524d7794b8ea",
       "style": "IPY_MODEL_baddbe27bb2d4836be59d19b57774ed7",
       "value": "<b>Contact: </b> "
      }
     },
     "f43818429cdb4621a4ef85c8f3444e97": {
      "model_module": "@jupyter-widgets/base",
      "model_module_version": "1.2.0",
      "model_name": "LayoutModel",
      "state": {}
     },
     "f43aa6ca6f884b60ac4ea6f5d823371e": {
      "model_module": "@jupyter-widgets/base",
      "model_module_version": "1.2.0",
      "model_name": "LayoutModel",
      "state": {}
     },
     "f4423e62630644f7891310a4882abd13": {
      "model_module": "@jupyter-widgets/controls",
      "model_module_version": "1.5.0",
      "model_name": "AccordionModel",
      "state": {
       "_titles": {
        "0": "Jupyter notebook for selecting high fossil fuel CO2 events at ICOS stations",
        "1": "Jupyter Notebook for RINGO Task 1.3"
       },
       "children": [
        "IPY_MODEL_b9dac9c01e7b4dd782425a10edbfa800",
        "IPY_MODEL_1ac032adeebe49d9b4f18114eff8605f"
       ],
       "layout": "IPY_MODEL_dcafb39913e3435d9130457600e24f78",
       "selected_index": null
      }
     },
     "f45dbd1c94cc42339cfd763256de5efb": {
      "model_module": "@jupyter-widgets/base",
      "model_module_version": "1.2.0",
      "model_name": "LayoutModel",
      "state": {}
     },
     "f4a036cfadbe4ae68f1f284d3b2f79eb": {
      "model_module": "@jupyter-widgets/controls",
      "model_module_version": "1.5.0",
      "model_name": "HTMLModel",
      "state": {
       "layout": "IPY_MODEL_8e14abaa4be04a058a9d8f7272356e79",
       "style": "IPY_MODEL_f230468987974b1ab8002d3dfa809ff6",
       "value": "<b>Thumbnail: </b> "
      }
     },
     "f4adfc52a61d465c934391355b5ef2ea": {
      "model_module": "@jupyter-widgets/controls",
      "model_module_version": "1.5.0",
      "model_name": "DescriptionStyleModel",
      "state": {
       "description_width": ""
      }
     },
     "f542b64f0c0f4ee0a5d261a45622b2d6": {
      "model_module": "@jupyter-widgets/base",
      "model_module_version": "1.2.0",
      "model_name": "LayoutModel",
      "state": {}
     },
     "f56a280315a94e5d98e6870f22821c7f": {
      "model_module": "@jupyter-widgets/controls",
      "model_module_version": "1.5.0",
      "model_name": "DescriptionStyleModel",
      "state": {
       "description_width": ""
      }
     },
     "f572d8e476964eb5afbf0826999f73bd": {
      "model_module": "@jupyter-widgets/base",
      "model_module_version": "1.2.0",
      "model_name": "LayoutModel",
      "state": {}
     },
     "f5a43406c81a406e8a2e0adfbf0f8f11": {
      "model_module": "@jupyter-widgets/base",
      "model_module_version": "1.2.0",
      "model_name": "LayoutModel",
      "state": {}
     },
     "f5ce2164929446788b69b6d56a20a5f6": {
      "model_module": "@jupyter-widgets/controls",
      "model_module_version": "1.5.0",
      "model_name": "DescriptionStyleModel",
      "state": {
       "description_width": ""
      }
     },
     "f5e5a8c6ffe044288d2ee7c14337188c": {
      "model_module": "@jupyter-widgets/base",
      "model_module_version": "1.2.0",
      "model_name": "LayoutModel",
      "state": {
       "grid_gap": "5px 10px",
       "grid_template_columns": "100px auto",
       "grid_template_rows": "auto auto auto auto auto",
       "padding": "50px 0px 70px 0px",
       "width": "100%"
      }
     },
     "f6154ec866934d9d8b1b23a3baee6d43": {
      "model_module": "@jupyter-widgets/controls",
      "model_module_version": "1.5.0",
      "model_name": "HTMLModel",
      "state": {
       "layout": "IPY_MODEL_825c44ad41914e3ab8a2bcc6f78a12bb",
       "style": "IPY_MODEL_f16851e0ab1347e38345070f91e7d656",
       "value": "<b>Description: </b> "
      }
     },
     "f64aa81ac44149539c4c14e082157c35": {
      "model_module": "@jupyter-widgets/base",
      "model_module_version": "1.2.0",
      "model_name": "LayoutModel",
      "state": {}
     },
     "f64baf64efa2453f932034a300e5dd60": {
      "model_module": "@jupyter-widgets/controls",
      "model_module_version": "1.5.0",
      "model_name": "HTMLModel",
      "state": {
       "layout": "IPY_MODEL_5601ef3dfe5e4ba18917e9a823194335",
       "style": "IPY_MODEL_bb9a3f0ed4a34da4a712abf0c37a6ccd",
       "value": "<b>Thumbnail: </b> "
      }
     },
     "f683386dfddd43f4bff68ca08a2eb50b": {
      "model_module": "@jupyter-widgets/base",
      "model_module_version": "1.2.0",
      "model_name": "LayoutModel",
      "state": {}
     },
     "f68f596b0ef54db3b07e312bc578b72f": {
      "model_module": "@jupyter-widgets/controls",
      "model_module_version": "1.5.0",
      "model_name": "DescriptionStyleModel",
      "state": {
       "description_width": ""
      }
     },
     "f70b87f7f8f2483e877c7f5e0aadf40d": {
      "model_module": "@jupyter-widgets/controls",
      "model_module_version": "1.5.0",
      "model_name": "HTMLModel",
      "state": {
       "layout": "IPY_MODEL_04c30286fd51439b809e4a7579e50088",
       "style": "IPY_MODEL_80de8e787ab44613aca9c79bb1b5bb8a",
       "value": "<a href='https://github.com/ICOS-Carbon-Portal/jupyter/issues' target='_blank'>Click here to report an issue</a>"
      }
     },
     "f71317a73ddf4da7b4166c3461a401ad": {
      "model_module": "@jupyter-widgets/controls",
      "model_module_version": "1.5.0",
      "model_name": "DescriptionStyleModel",
      "state": {
       "description_width": ""
      }
     },
     "f74c8b480a3a431ba7320e1c5f7ab6e6": {
      "model_module": "@jupyter-widgets/base",
      "model_module_version": "1.2.0",
      "model_name": "LayoutModel",
      "state": {}
     },
     "f753e07fa15b42439621d30a44be6b7b": {
      "model_module": "@jupyter-widgets/controls",
      "model_module_version": "1.5.0",
      "model_name": "DescriptionStyleModel",
      "state": {
       "description_width": ""
      }
     },
     "f75ea4ad14a14666a68e3acfa9349a52": {
      "model_module": "@jupyter-widgets/base",
      "model_module_version": "1.2.0",
      "model_name": "LayoutModel",
      "state": {}
     },
     "f79eab629849450fa97ff7bfd2271083": {
      "model_module": "@jupyter-widgets/controls",
      "model_module_version": "1.5.0",
      "model_name": "HTMLModel",
      "state": {
       "layout": "IPY_MODEL_ff5d3d6efba2434e8ad0c165e803c06f",
       "style": "IPY_MODEL_f56a280315a94e5d98e6870f22821c7f",
       "value": "<a href=./project_jupyter_notebooks/RINGO_T1.3/RINGO_T1.3_flasksampling_v5.ipynb target='_blank'>Jupyter Notebook for RINGO Task 1.3</a>"
      }
     },
     "f7ae885da15c42918b7aceb7dd5f4ed1": {
      "model_module": "@jupyter-widgets/controls",
      "model_module_version": "1.5.0",
      "model_name": "DescriptionStyleModel",
      "state": {
       "description_width": ""
      }
     },
     "f7ff12b26e4f47dba445b70de1b79240": {
      "model_module": "@jupyter-widgets/controls",
      "model_module_version": "1.5.0",
      "model_name": "DescriptionStyleModel",
      "state": {
       "description_width": ""
      }
     },
     "f80e662285fe4811bd80f19333b5b5b4": {
      "model_module": "@jupyter-widgets/base",
      "model_module_version": "1.2.0",
      "model_name": "LayoutModel",
      "state": {}
     },
     "f83f617d17864a588f4a989119ed726e": {
      "model_module": "@jupyter-widgets/controls",
      "model_module_version": "1.5.0",
      "model_name": "HTMLModel",
      "state": {
       "layout": "IPY_MODEL_221a9769cc52465bb7fabd70c73aeed2",
       "style": "IPY_MODEL_0306d98e9aef43f7bf31c4cb6184853e",
       "value": "<b>Title: </b> "
      }
     },
     "f868116e623f4c86ad70ffeba0dcb228": {
      "model_module": "@jupyter-widgets/base",
      "model_module_version": "1.2.0",
      "model_name": "LayoutModel",
      "state": {}
     },
     "f86b23464e034e8182c1cda5fd2c73d9": {
      "model_module": "@jupyter-widgets/controls",
      "model_module_version": "1.5.0",
      "model_name": "DescriptionStyleModel",
      "state": {
       "description_width": ""
      }
     },
     "f87a1d080d164270a9871d407cace86d": {
      "model_module": "@jupyter-widgets/controls",
      "model_module_version": "1.5.0",
      "model_name": "DescriptionStyleModel",
      "state": {
       "description_width": ""
      }
     },
     "f8918add9eda4769bb4e558a133ca28a": {
      "model_module": "@jupyter-widgets/base",
      "model_module_version": "1.2.0",
      "model_name": "LayoutModel",
      "state": {}
     },
     "f8c2b5b0795e4e88bfa7eac19898fbb5": {
      "model_module": "@jupyter-widgets/controls",
      "model_module_version": "1.5.0",
      "model_name": "DescriptionStyleModel",
      "state": {
       "description_width": ""
      }
     },
     "f93ed9cf4a4b4a959adbae4ad8fc454b": {
      "model_module": "@jupyter-widgets/controls",
      "model_module_version": "1.5.0",
      "model_name": "HTMLModel",
      "state": {
       "layout": "IPY_MODEL_f74c8b480a3a431ba7320e1c5f7ab6e6",
       "style": "IPY_MODEL_416ab629d2e34a40906ed709ec3744a1",
       "value": "<a href=./icos_jupyter_notebooks/ccgcrv.ipynb target='_blank'>Curve fitting methods for CO2 time series</a>"
      }
     },
     "f9727a1095614d838a0133de2cf62cf5": {
      "model_module": "@jupyter-widgets/base",
      "model_module_version": "1.2.0",
      "model_name": "LayoutModel",
      "state": {}
     },
     "f9858eccefc54a3d81f2d60307f88926": {
      "model_module": "@jupyter-widgets/controls",
      "model_module_version": "1.5.0",
      "model_name": "HTMLModel",
      "state": {
       "layout": "IPY_MODEL_5e8ec817872b4ddaa90c1cf55c1f03fb",
       "style": "IPY_MODEL_a9fcb995f0c147a09477ab06567b532e",
       "value": "<a href=\"mailto: jupyter-info@icos-cp.eu\">jupyter-info@icos-cp.eu</a>"
      }
     },
     "f9f81364533643b793a2c333855f23fc": {
      "model_module": "@jupyter-widgets/controls",
      "model_module_version": "1.5.0",
      "model_name": "HTMLModel",
      "state": {
       "layout": "IPY_MODEL_34854f2c45b14b51b2b524070c6972e1",
       "style": "IPY_MODEL_17a09944a21241f3bf1add4963d3c138",
       "value": "This exercise package is focusing on how to use remote sensing (RS) observations from satellite for upscaling eddy covariance measurements, based on the light use efficiency (LUE) model GPP = PAR * fAPAR * LUE. PAR is the photosynthetically active radiation, fAPAR is the fractional absorbed PAR by vegetation, LUE is the efficiency of vegetation to convert the light energy into biomaterials. The aim of the exercise is to provide an insight into how remote sensing can be used to upscale GPP and to stimulate a discussion on strengths and weaknesses of this approach."
      }
     },
     "fa81019453da4d618deb6f62deef50a9": {
      "model_module": "@jupyter-widgets/controls",
      "model_module_version": "1.5.0",
      "model_name": "DescriptionStyleModel",
      "state": {
       "description_width": ""
      }
     },
     "faaffe484cbf4bacae40421debf78775": {
      "model_module": "@jupyter-widgets/controls",
      "model_module_version": "1.5.0",
      "model_name": "HTMLModel",
      "state": {
       "layout": "IPY_MODEL_94a79796d88849348910b38cb8db93fa",
       "style": "IPY_MODEL_1eab9e36abd24869a6af92117ea303e3",
       "value": "<b>GitHub: </b> "
      }
     },
     "fafb658a38de4c418fc6929d8c7e20d7": {
      "model_module": "@jupyter-widgets/controls",
      "model_module_version": "1.5.0",
      "model_name": "HTMLModel",
      "state": {
       "layout": "IPY_MODEL_237fb482d96442b08ae486d6028fd8cb",
       "style": "IPY_MODEL_4087304f1ff442a19b285e18701c767d",
       "value": "<img src=\"./icos_jupyter_notebooks/ind_tools/img/04_proj_JNBs/otc_drw/ex2.PNG\">"
      }
     },
     "fafedf023ee14ecbab921d15ec6ab01c": {
      "model_module": "@jupyter-widgets/base",
      "model_module_version": "1.2.0",
      "model_name": "LayoutModel",
      "state": {}
     },
     "fb1b2eabdfdb404eaa4c1b537b3c8a23": {
      "model_module": "@jupyter-widgets/controls",
      "model_module_version": "1.5.0",
      "model_name": "DescriptionStyleModel",
      "state": {
       "description_width": ""
      }
     },
     "fbaff81937164af69bc5634e83f1c8e0": {
      "model_module": "@jupyter-widgets/controls",
      "model_module_version": "1.5.0",
      "model_name": "HTMLModel",
      "state": {
       "layout": "IPY_MODEL_8b2760816319414db9881cb36d40b944",
       "style": "IPY_MODEL_c06d9acee9dc4f77b2f8e1abc5b3341d",
       "value": "<img src=\"./icos_jupyter_notebooks/ind_tools/img/05_education/phd/ucf/inspect_fluxnet/plot.PNG\">"
      }
     },
     "fc03f8ecc1b3414b9d6ca9375620fd21": {
      "model_module": "@jupyter-widgets/controls",
      "model_module_version": "1.5.0",
      "model_name": "GridBoxModel",
      "state": {
       "children": [
        "IPY_MODEL_251965995f2a47d8afec672a7bb72915",
        "IPY_MODEL_f4423e62630644f7891310a4882abd13"
       ],
       "layout": "IPY_MODEL_44576d2bf1364badb86ed127169ed16c"
      }
     },
     "fc82cae322be4255ae71e29ece418710": {
      "model_module": "@jupyter-widgets/base",
      "model_module_version": "1.2.0",
      "model_name": "LayoutModel",
      "state": {}
     },
     "fca1afdc42dc41f6b813bb9cf8d9da2a": {
      "model_module": "@jupyter-widgets/base",
      "model_module_version": "1.2.0",
      "model_name": "LayoutModel",
      "state": {}
     },
     "fd2c4f47b8a9405b995d3e95be58f2df": {
      "model_module": "@jupyter-widgets/base",
      "model_module_version": "1.2.0",
      "model_name": "LayoutModel",
      "state": {}
     },
     "fd6884687df84ec4ba2f9d4390fd2b31": {
      "model_module": "@jupyter-widgets/base",
      "model_module_version": "1.2.0",
      "model_name": "LayoutModel",
      "state": {}
     },
     "fdab07b9627645918e0c699d4ce9627f": {
      "model_module": "@jupyter-widgets/controls",
      "model_module_version": "1.5.0",
      "model_name": "DescriptionStyleModel",
      "state": {
       "description_width": ""
      }
     },
     "fddf48841d89483bbf670591b8be963d": {
      "model_module": "@jupyter-widgets/controls",
      "model_module_version": "1.5.0",
      "model_name": "HTMLModel",
      "state": {
       "layout": "IPY_MODEL_839bf9f5c9da4391aed9032b62b9c5b1",
       "style": "IPY_MODEL_7680255b7144411bb7871606f56c6b91",
       "value": "<b>Title: </b> "
      }
     },
     "fe1d3f6e1dea4e7b85134df13fc2eb95": {
      "model_module": "@jupyter-widgets/controls",
      "model_module_version": "1.5.0",
      "model_name": "HTMLModel",
      "state": {
       "layout": "IPY_MODEL_3f16878d19cd4b77ac72269de317a38d",
       "style": "IPY_MODEL_35fdb8c0bdd144fda948ddbfa5b428c6",
       "value": "<b>GitHub: </b> "
      }
     },
     "fe1e3257fb874b10afe78abdaaf882f7": {
      "model_module": "@jupyter-widgets/controls",
      "model_module_version": "1.5.0",
      "model_name": "DescriptionStyleModel",
      "state": {
       "description_width": ""
      }
     },
     "fe378d52340242589311e14f4e60698d": {
      "model_module": "@jupyter-widgets/base",
      "model_module_version": "1.2.0",
      "model_name": "LayoutModel",
      "state": {}
     },
     "fe692f160f88448c97225ffb231d19d5": {
      "model_module": "@jupyter-widgets/controls",
      "model_module_version": "1.5.0",
      "model_name": "DescriptionStyleModel",
      "state": {
       "description_width": ""
      }
     },
     "fe836aa4056d450d913c9933fd9ddfa9": {
      "model_module": "@jupyter-widgets/base",
      "model_module_version": "1.2.0",
      "model_name": "LayoutModel",
      "state": {}
     },
     "fe9a568969d1460683674750df1b7c32": {
      "model_module": "@jupyter-widgets/base",
      "model_module_version": "1.2.0",
      "model_name": "LayoutModel",
      "state": {}
     },
     "febb551642844bb09f19eccf118fcba0": {
      "model_module": "@jupyter-widgets/controls",
      "model_module_version": "1.5.0",
      "model_name": "HTMLModel",
      "state": {
       "layout": "IPY_MODEL_93a652c383f641b592632cbcd9b7dfaf",
       "style": "IPY_MODEL_15a8e4a46c974b6db275504ed246737d",
       "value": "<a href=\"mailto: jupyter-info@icos-cp.eu\">jupyter-info@icos-cp.eu</a>"
      }
     },
     "ff11dc14c7064183985e6de941b12fd7": {
      "model_module": "@jupyter-widgets/controls",
      "model_module_version": "1.5.0",
      "model_name": "HTMLModel",
      "state": {
       "layout": "IPY_MODEL_dc80b9b2d11d4a209ba2aa636c7967a5",
       "style": "IPY_MODEL_77256f2acae14828a9f6e9ed91fd7b0b",
       "value": "<b>Description: </b> "
      }
     },
     "ff50c896e69d4206ada421badf1640d4": {
      "model_module": "@jupyter-widgets/base",
      "model_module_version": "1.2.0",
      "model_name": "LayoutModel",
      "state": {}
     },
     "ff555a144b224a59bb784ef448c1e8be": {
      "model_module": "@jupyter-widgets/base",
      "model_module_version": "1.2.0",
      "model_name": "LayoutModel",
      "state": {}
     },
     "ff5d3d6efba2434e8ad0c165e803c06f": {
      "model_module": "@jupyter-widgets/base",
      "model_module_version": "1.2.0",
      "model_name": "LayoutModel",
      "state": {}
     },
     "ff9805f7012148a6b5df4db4aba0d7f4": {
      "model_module": "@jupyter-widgets/controls",
      "model_module_version": "1.5.0",
      "model_name": "HTMLModel",
      "state": {
       "layout": "IPY_MODEL_df41ee9e720a4daab968f12bf6c5e026",
       "style": "IPY_MODEL_a4fc48cc475b4510ae56bc3720a2906e",
       "value": "<b>Contact: </b> "
      }
     },
     "ffd38263f76745ec8aab4bdd5c971533": {
      "model_module": "@jupyter-widgets/controls",
      "model_module_version": "1.5.0",
      "model_name": "GridBoxModel",
      "state": {
       "children": [
        "IPY_MODEL_5c2d5c29108b426084314123574b80e7",
        "IPY_MODEL_2bf2930d770b41db9914633607dbcf6b",
        "IPY_MODEL_1672cee827104af1b592ffe92b8cb656",
        "IPY_MODEL_71a93d954d1d427f8593336086bb66df",
        "IPY_MODEL_6e6f9fca02c141dea58bb34df0c46810",
        "IPY_MODEL_7283a6c40d894fc48686993cdaa7bb0f",
        "IPY_MODEL_7767eaf08a4448528f8146969625fc54",
        "IPY_MODEL_6532b42ea99e4144ba326cf7565139dd",
        "IPY_MODEL_185fdd32bb6e452cacd19db60e7781a3",
        "IPY_MODEL_902ef1c55c18474f92b9c2e838ad0777"
       ],
       "layout": "IPY_MODEL_a2f0257a6a3d469b850073eef3e49cfc"
      }
     }
    },
    "version_major": 2,
    "version_minor": 0
   }
  }
 },
 "nbformat": 4,
 "nbformat_minor": 5
}
