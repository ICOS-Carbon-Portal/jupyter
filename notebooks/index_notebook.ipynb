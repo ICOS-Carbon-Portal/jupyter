{
 "cells": [
  {
   "cell_type": "markdown",
   "id": "static-usage",
   "metadata": {},
   "source": [
    "\n",
    "<img src='https://www.icos-cp.eu/sites/default/files/2017-11/ICOS_CP_logo.png' width=\"330\" align=\"right\"/>\n",
    "\n",
    "# Index notebook"
   ]
  },
  {
   "cell_type": "markdown",
   "id": "imposed-observation",
   "metadata": {},
   "source": [
    "<br>\n",
    "<br>\n",
    "\n",
    "This notebook is dedicated on presenting an interactive table of contents of all publicly available ICOS Jupyter notebooks. The  interactive table of contents includes summarized informartion on every individual notebook:\n",
    "\n",
    "- notebook title \n",
    "- link to open notebook in ICOS Jupyter Hub\n",
    "- short description of content\n",
    "- contact details to inquire about implemented methods\n",
    "- link to report issues related to the notebook on GitHub\n",
    "- thumbnail of notebook - if available)\n",
    "\n",
    "\n",
    "Observe that the notebooks are divided in categories. You will be able to read more about every category once you click on its corresponding button.\n",
    "\n",
    "In case you wish to open a notebook and start working on it, simply click on the notebook title and you will be redirected to the notebook file in the ICOS Jupyter Hub.\n",
    "\n",
    "<br>\n",
    "<br>\n",
    "<br>"
   ]
  },
  {
   "cell_type": "code",
   "execution_count": null,
   "id": "incomplete-saskatchewan",
   "metadata": {},
   "outputs": [],
   "source": [
    "#Run notebook with tools:\n",
    "%run icos_jupyter_notebooks/ind_tools/tools.ipynb\n",
    "\n",
    "#Show icos notebook index:\n",
    "icos_ind_nb_widgt(icos_nb_dict)"
   ]
  },
  {
   "cell_type": "markdown",
   "id": "interesting-inclusion",
   "metadata": {},
   "source": [
    "<br>\n",
    "<br>\n",
    "<br>"
   ]
  }
 ],
 "metadata": {
  "kernelspec": {
   "display_name": "Python 3",
   "language": "python",
   "name": "python3"
  },
  "language_info": {
   "codemirror_mode": {
    "name": "ipython",
    "version": 3
   },
   "file_extension": ".py",
   "mimetype": "text/x-python",
   "name": "python",
   "nbconvert_exporter": "python",
   "pygments_lexer": "ipython3",
   "version": "3.8.6"
  },
  "toc": {
   "base_numbering": 1,
   "nav_menu": {},
   "number_sections": false,
   "sideBar": true,
   "skip_h1_title": true,
   "title_cell": "Table of Contents",
   "title_sidebar": "Contents",
   "toc_cell": false,
   "toc_position": {},
   "toc_section_display": true,
   "toc_window_display": false
  }
 },
 "nbformat": 4,
 "nbformat_minor": 5
}
