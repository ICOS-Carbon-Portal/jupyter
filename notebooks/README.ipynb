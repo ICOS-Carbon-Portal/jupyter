{
 "cells": [
  {
   "cell_type": "markdown",
   "id": "invalid-birthday",
   "metadata": {},
   "source": [
    "<img src=\"https://www.icos-cp.eu/sites/default/files/2017-11/ICOS_CP_logo.png\" width=\"300\" align=\"left\"/>\n",
    "<br>\n",
    "<br>\n",
    "<br> \n",
    "\n",
    "# ICOS Carbon Portal - Jupyter Notebooks\n",
    "This folder contains code and ancillary data for all jupyter notebooks that are currently available through the ICOS CP \"Anonymous\" service: https://exploredata.icos-cp.eu\n",
    "\n",
    "<br>\n",
    "\n",
    "## Structure\n",
    "The notebooks, code files and ancillary data files are divided into subjects. Every subject has its own subfolder:\n",
    "\n",
    "* **Education:** includes notebooks that use ICOS data to introduce students to basic principles of climate science and programming \n",
    "* **ICOS Jupyter Notebooks:** contains notebooks processing and presenting ICOS data in interactive visualizations\n",
    "* **Introduction:** contains notebooks that quickly introduce the fundamental principles of Python programming\n",
    "* **Project-specific Jupyter Notebooks:** includes notebooks presenting the scientific output of projects ICOS has been part of\n",
    "* **pylib_examples:** includes notebooks with examples on how to you the icoscp library (i.e. Python library on how to get access to ICOS data)\n",
    "* **docs:** includes files for the online [ICOS Jupyter Solutions documentation](https://icos-carbon-portal.github.io/jupyter/).\n",
    "* **exploredata:** includes folders with code to update the running instance of exploredata and format the corresponding log-in page.\n",
    "<br>\n",
    "\n",
    "## Licence\n",
    "This work is licensed under a Creative Commons Attribution 4.0 International License (CC BY 4.0). <br>\n",
    "Copyright © 2019-2020 ICOS ERIC"
   ]
  }
 ],
 "metadata": {
  "kernelspec": {
   "display_name": "Python 3",
   "language": "python",
   "name": "python3"
  },
  "language_info": {
   "codemirror_mode": {
    "name": "ipython",
    "version": 3
   },
   "file_extension": ".py",
   "mimetype": "text/x-python",
   "name": "python",
   "nbconvert_exporter": "python",
   "pygments_lexer": "ipython3",
   "version": "3.8.6"
  }
 },
 "nbformat": 4,
 "nbformat_minor": 5
}
