{
 "cells": [
  {
   "cell_type": "markdown",
   "metadata": {},
   "source": [
    "<img src='https://www.icos-cp.eu/sites/default/files/2017-11/ICOS_CP_logo.png' width=\"400\" align=\"right\"/> <br clear=\"all\" />\n",
    "# Characterization of atmospheric measurement stations\n",
    "For questions and feedback contact ida.storm@nateko.lu.se\n",
    "\n",
    "To use the tool, <span style=\"background-color: #FFFF00\">\"run\" the cell below</span> (click in the cell and use the \"run\" button).\n",
    "\n",
    "<img src=\"network_characterization/screenshots_for_into_texts/how_to_run.PNG\" align=\"left\"> <br clear=\"all\" />\n",
    "\n",
    "### Background\n",
    "This notebook makes it possible to generate characterisations of atmospheric stations based on their influence areas. The influence area of a station is determined by the transport model STILT  and the result is called a footprint. To generate the characterisation visualizations the average footprint for the user-defined date rage is combined with an anthropogenic emissions database, a biogenic flux model and ancillary data layers. Any point in the STILT domain with footprints (not necessarily existing stations) will appear in the STILT stations dropdown and can be analyzed. More details are found in <a href=\"./station_characterization/specifications.pdf\" target=\"_blank\">the specifications document</a>.\n",
    "#### Output\n",
    "If the user chooses to save the output, it will end up in a folder called \"output\" in the home directory. In the output folder there will be a subfolder called “station_characterization” once the tool has been run with \"<ins>Save the output</ins>\" selected. \n",
    "\n",
    "It is also possible to use the links that appear at the bottom of this page when the run is complete.\n",
    "#### Settings\n",
    "A \"settings file\" (settings.json) which specifies all the settings used to produce the output is also downloaded with the output. It can in turn be uploaded to replicate the run in the future by uploading it to the optional \"Load settings from file\" which is the last option in the tool.\n",
    "\n",
    "#### Updates\n",
    "\n",
    "The latest update of the tool was made on 2024-02-07. It included an update to the unit of the colorbar in the sensitivity area map. In the previous version, the unit was \"<mark><b>sensitivity (ppm/(μmol/(m²s)))</b></mark>\", which is the unit for individual footprint cells. However, since cells are aggregated (summed) in the output map, we need to assume a uniform flux of 1 ppm/(μmol/(m²s)). Therefore, the updated unit is \"<b>(ppm) given a uniform flux of 1 μmol/(m²s)</b>\". Similarly, the unit of the population sensitivity map was changed from \"population * (ppm/(mol/(m²s)))\" to \"population * sensitivity\". The maps themselves remain unchanged from before the update.\n",
    "\n",
    "\n"
   ]
  },
  {
   "cell_type": "code",
   "execution_count": null,
   "metadata": {},
   "outputs": [],
   "source": [
    "import sys\n",
    "from importlib import reload\n",
    "sys.path.append('./station_characterization')\n",
    "if \"gui\" not in dir(): \n",
    "    import gui\n",
    "else:\n",
    "    reload(gui)"
   ]
  }
 ],
 "metadata": {
  "kernelspec": {
   "display_name": "Python 3 (ipykernel)",
   "language": "python",
   "name": "python3"
  },
  "language_info": {
   "codemirror_mode": {
    "name": "ipython",
    "version": 3
   },
   "file_extension": ".py",
   "mimetype": "text/x-python",
   "name": "python",
   "nbconvert_exporter": "python",
   "pygments_lexer": "ipython3",
   "version": "3.10.6"
  },
  "toc": {
   "base_numbering": 1,
   "nav_menu": {},
   "number_sections": false,
   "sideBar": true,
   "skip_h1_title": false,
   "title_cell": "Table of Contents",
   "title_sidebar": "Contents",
   "toc_cell": false,
   "toc_position": {
    "height": "calc(100% - 180px)",
    "left": "10px",
    "top": "150px",
    "width": "165px"
   },
   "toc_section_display": true,
   "toc_window_display": false
  }
 },
 "nbformat": 4,
 "nbformat_minor": 4
}
