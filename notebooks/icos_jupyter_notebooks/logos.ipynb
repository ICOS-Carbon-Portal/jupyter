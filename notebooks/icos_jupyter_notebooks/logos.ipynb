{
 "cells": [
  {
   "cell_type": "markdown",
   "metadata": {},
   "source": [
    "# more logs to be found on our website..\n",
    "\n",
    "## https://www.icos-cp.eu/search/node?keys=logo<br>\n",
    "for negative and white logos, you would need a dark background to see it.."
   ]
  },
  {
   "cell_type": "markdown",
   "metadata": {},
   "source": [
    "### ICOS Carbon Portal\n",
    "<img src='https://www.icos-cp.eu/sites/default/files/2017-11/ICOS_CP_logo.png' width=400>"
   ]
  },
  {
   "cell_type": "markdown",
   "metadata": {},
   "source": [
    "### ICOS rgb\n",
    "<img src='https://www.icos-cp.eu/sites/default/files/2020-04/ICOS%20RI_logo_rgb.png' width=400>"
   ]
  },
  {
   "cell_type": "markdown",
   "metadata": {},
   "source": [
    "### ICOS black\n",
    "<img src='https://www.icos-cp.eu/sites/default/files/2020-04/ICOS%20RI_logo_rgb_black.png' width=400>"
   ]
  },
  {
   "cell_type": "markdown",
   "metadata": {},
   "source": [
    "### ICOS log white\n",
    "<img src='https://www.icos-cp.eu/sites/default/files/2020-04/ICOS%20RI_logo_rgb_white.png' width=400>"
   ]
  },
  {
   "cell_type": "markdown",
   "metadata": {},
   "source": [
    "### ICOS logo negative\n",
    "<img src='https://www.icos-cp.eu/sites/default/files/2020-04/ICOS%20RI_logo_rgb_nega.png' width=400>"
   ]
  },
  {
   "cell_type": "markdown",
   "metadata": {},
   "source": [
    "### RINGO rgb\n",
    "<img src='https://www.icos-cp.eu/sites/default/files/2017-03/ringo_logo.png' width=400>"
   ]
  },
  {
   "cell_type": "markdown",
   "metadata": {},
   "source": [
    "### RINGO negative\n",
    "<img src='https://www.icos-cp.eu/sites/default/files/2020-04/ICOS%20RI_logo_rgb_nega.png' width=400>"
   ]
  },
  {
   "cell_type": "code",
   "execution_count": null,
   "metadata": {
    "scrolled": false
   },
   "outputs": [],
   "source": []
  }
 ],
 "metadata": {
  "kernelspec": {
   "display_name": "Python 3",
   "language": "python",
   "name": "python3"
  },
  "language_info": {
   "codemirror_mode": {
    "name": "ipython",
    "version": 3
   },
   "file_extension": ".py",
   "mimetype": "text/x-python",
   "name": "python",
   "nbconvert_exporter": "python",
   "pygments_lexer": "ipython3",
   "version": "3.8.6"
  },
  "toc": {
   "base_numbering": 1,
   "nav_menu": {},
   "number_sections": false,
   "sideBar": true,
   "skip_h1_title": true,
   "title_cell": "Table of Contents",
   "title_sidebar": "Contents",
   "toc_cell": false,
   "toc_position": {
    "height": "calc(100% - 180px)",
    "left": "10px",
    "top": "150px",
    "width": "216.188px"
   },
   "toc_section_display": true,
   "toc_window_display": true
  }
 },
 "nbformat": 4,
 "nbformat_minor": 4
}
