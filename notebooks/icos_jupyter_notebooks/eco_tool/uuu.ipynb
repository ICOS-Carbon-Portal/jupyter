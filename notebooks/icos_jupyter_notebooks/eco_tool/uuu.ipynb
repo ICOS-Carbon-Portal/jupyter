{
 "cells": [
  {
   "cell_type": "code",
   "execution_count": 1,
   "id": "8124cc1e",
   "metadata": {},
   "outputs": [],
   "source": [
    "import warnings\n",
    "warnings.simplefilter(\"ignore\", FutureWarning)\n",
    "import pandas as pd\n",
    "from icoscp.cpb.dobj import Dobj\n",
    "\n",
    "from pi import gui\n",
    "\n",
    "from pi import icos_data\n",
    "from pi import icos2latex\n",
    "from pi.icos_timeseries import IcosFrame\n"
   ]
  },
  {
   "cell_type": "code",
   "execution_count": 2,
   "id": "4337c4cb-5d4a-4afc-a73b-26f5fd6c1914",
   "metadata": {
    "scrolled": true
   },
   "outputs": [],
   "source": [
    "#gui.AnalysisGui() #debug = True )"
   ]
  },
  {
   "cell_type": "code",
   "execution_count": 3,
   "id": "370c8fa2",
   "metadata": {},
   "outputs": [],
   "source": [
    "s = icos_data.StationData()\n",
    "df = s.stations_df\n",
    "\n",
    "pid_ls = list(df.dobj)\n"
   ]
  },
  {
   "cell_type": "code",
   "execution_count": 4,
   "id": "086cb999",
   "metadata": {},
   "outputs": [
    {
     "name": "stderr",
     "output_type": "stream",
     "text": [
      "C:\\Miniconda3\\envs\\dashboard\\lib\\site-packages\\icoscp\\cpauth\\exceptions.py:53: UserWarning: \n",
      "Your authentication at the ICOS Carbon Portal was unsuccessful due to: Incorrect user name or password.\n",
      "Falling back to anonymous data access. Please, revisit your authentication configuration\n",
      "(https://icos-carbon-portal.github.io/pylib/modules/#authentication).\n",
      "Authentication will become mandatory (icoscp >= 0.1.19) for external users.\n",
      "  warnings.warn(warning, category=UserWarning)\n"
     ]
    },
    {
     "name": "stdout",
     "output_type": "stream",
     "text": [
      "['CO2', 'FC', 'H', 'H2O', 'H_UNCLEANED', 'LE', 'LE_UNCLEANED', 'NEE', 'NEE_UNCLEANED', 'SC', 'TAU', 'TIMESTAMP', 'TIMESTAMP_END', 'USTAR', 'W_SIGMA', 'ZL']\n",
      "['FC']\n"
     ]
    }
   ],
   "source": [
    "df = s.get_ts(pid = pid_ls[0])\n",
    "d = IcosFrame.trim_icos_meta(df.icos_meta, columns = 'FC')\n",
    "d['product']\n",
    "ll = df.icos_var_unit_ls"
   ]
  },
  {
   "cell_type": "code",
   "execution_count": 5,
   "id": "9fdc4e29",
   "metadata": {},
   "outputs": [
    {
     "data": {
      "text/plain": [
       "'${\\\\scriptsize  {\\\\mathrm  {{CO_2}\\\\ (\\\\mu{mol}/{mol})}}}$'"
      ]
     },
     "execution_count": 5,
     "metadata": {},
     "output_type": "execute_result"
    }
   ],
   "source": [
    "t = icos2latex.Translator()\n",
    "t.var_unit_to_latex(var_unit=df.icos_var_unit_ls[0])\n"
   ]
  },
  {
   "cell_type": "code",
   "execution_count": 6,
   "id": "b0be2e33-99c6-41d1-a27d-1abf82e1978f",
   "metadata": {},
   "outputs": [
    {
     "data": {
      "text/plain": [
       "([('NEE', 'µmol m-2 s-1'), ('CO2', 'µmol mol-1')],\n",
       " [('CO2', 'µmol mol-1'),\n",
       "  ('FC', 'µmol m-2 s-1'),\n",
       "  ('H', 'W m-2'),\n",
       "  ('H2O', 'mmol mol-1'),\n",
       "  ('H_UNCLEANED', 'W m-2'),\n",
       "  ('LE', 'W m-2'),\n",
       "  ('LE_UNCLEANED', 'W m-2'),\n",
       "  ('NEE', 'µmol m-2 s-1'),\n",
       "  ('NEE_UNCLEANED', 'µmol m-2 s-1'),\n",
       "  ('SC', 'µmol m-2 s-1'),\n",
       "  ('TAU', 'kg m-1 s-2'),\n",
       "  ('TIMESTAMP', 'Unitless'),\n",
       "  ('TIMESTAMP_END', 'Unitless'),\n",
       "  ('USTAR', 'm s-1'),\n",
       "  ('W_SIGMA', 'm s-1'),\n",
       "  ('ZL', 'Unitless')])"
      ]
     },
     "execution_count": 6,
     "metadata": {},
     "output_type": "execute_result"
    }
   ],
   "source": [
    "ll\n",
    "l1 = ['NEE','CO2']\n",
    "l2 = [(v,u) for v in l1 for c,u in ll if v==c]\n",
    "l2,ll"
   ]
  },
  {
   "cell_type": "code",
   "execution_count": null,
   "id": "892e065a-8cbb-4817-ab59-d8028bbd42c5",
   "metadata": {},
   "outputs": [],
   "source": [
    "\n"
   ]
  },
  {
   "cell_type": "code",
   "execution_count": 7,
   "id": "d1ef8996-9087-4576-aaa4-6d40191754f5",
   "metadata": {},
   "outputs": [],
   "source": [
    "v1 = 'CO2'\n",
    "v2 = 'H'\n",
    "v3 = 'H2O'\n",
    "var_tuple_ls = [(v1, pid_ls[0]),(v2, pid_ls[3]), (v3, pid_ls[6]),(v2, pid_ls[0]),(v3, pid_ls[3]), (v1, pid_ls[6])]"
   ]
  },
  {
   "cell_type": "code",
   "execution_count": null,
   "id": "62f7d2d4",
   "metadata": {},
   "outputs": [],
   "source": []
  },
  {
   "cell_type": "code",
   "execution_count": null,
   "id": "23030e94",
   "metadata": {},
   "outputs": [],
   "source": []
  },
  {
   "cell_type": "code",
   "execution_count": 25,
   "id": "f980ebb9",
   "metadata": {},
   "outputs": [],
   "source": [
    "d = {'https://meta.icos-cp.eu/objects/QLk2MGR5Zv_KPmN07Z0ZNSHe': \n",
    "     {'cols': ['CO2', 'H'], \n",
    "     'index': [0, 3], 'dobj': 1, 'product': 'ETC NRT Fluxes', 'stn_id': 'SE-Sto', \n",
    "      'columns': {'CO2': 'SE-Sto_CO2', 'H': 'SE-Sto_H'}}, \n",
    "     'https://meta.icos-cp.eu/objects/StAoU7ciukup4HmijO4J92sV': \n",
    "     {'cols': ['H', 'H2O'], 'index': [1, 4], 'dobj': 33, \n",
    "       'product': 'ETC NRT Fluxes', 'stn_id': 'UK-AMo', \n",
    "      'columns': {'H': 'UK-AMo_H', 'H2O': 'UK-AMo_H2O'}}, \n",
    "     'https://meta.icos-cp.eu/objects/9ISyDWIvPhNwbFGaqp6rwSP3': \n",
    "     {'cols': ['H2O', 'CO2'], 'index': [2, 5], 'dobj': 2, 'product': \n",
    "      'ETC NRT Fluxes', 'stn_id': 'FR-Bil', 'columns': {'H2O': 'FR-Bil_H2O', 'CO2': 'FR-Bil_CO2'}}}\n",
    "\n",
    "\n",
    "ls = [ c for k in d.keys() for j,c in d[k]['columns'].items()]\n",
    "\n"
   ]
  },
  {
   "cell_type": "code",
   "execution_count": 26,
   "id": "ddfb1d80",
   "metadata": {},
   "outputs": [
    {
     "data": {
      "text/plain": [
       "[('CO2', 'µmol mol-1'),\n",
       " ('H', 'W m-2'),\n",
       " ('H2O', 'mmol mol-1'),\n",
       " ('H', 'W m-2'),\n",
       " ('H2O', 'mmol mol-1'),\n",
       " ('CO2', 'µmol mol-1')]"
      ]
     },
     "execution_count": 26,
     "metadata": {},
     "output_type": "execute_result"
    }
   ],
   "source": [
    "var_tuple_ls\n",
    "ls = [var_tuple_ls[0],var_tuple_ls[3]]\n",
    "var_tuple_ls\n",
    "var_ls = [v for v,_ in var_tuple_ls]\n",
    "#var_ls, units\n",
    "ls2 = [(v, u) for v in var_ls for k, u in set(units) if v==k]\n",
    "ls2"
   ]
  },
  {
   "cell_type": "code",
   "execution_count": 27,
   "id": "efc2852e",
   "metadata": {},
   "outputs": [
    {
     "name": "stderr",
     "output_type": "stream",
     "text": [
      "C:\\Miniconda3\\envs\\dashboard\\lib\\site-packages\\icoscp\\cpauth\\exceptions.py:53: UserWarning: \n",
      "Your authentication at the ICOS Carbon Portal was unsuccessful due to: Incorrect user name or password.\n",
      "Falling back to anonymous data access. Please, revisit your authentication configuration\n",
      "(https://icos-carbon-portal.github.io/pylib/modules/#authentication).\n",
      "Authentication will become mandatory (icoscp >= 0.1.19) for external users.\n",
      "  warnings.warn(warning, category=UserWarning)\n",
      "C:\\Users\\Anders Dahlner\\AppData\\Local\\Temp\\ipykernel_18388\\285090405.py:74: SettingWithCopyWarning: \n",
      "A value is trying to be set on a copy of a slice from a DataFrame\n",
      "\n",
      "See the caveats in the documentation: https://pandas.pydata.org/pandas-docs/stable/user_guide/indexing.html#returning-a-view-versus-a-copy\n",
      "  df.rename(columns=order_dict[p]['rename_cols'], inplace=True)\n",
      "C:\\Miniconda3\\envs\\dashboard\\lib\\site-packages\\icoscp\\cpauth\\exceptions.py:53: UserWarning: \n",
      "Your authentication at the ICOS Carbon Portal was unsuccessful due to: Incorrect user name or password.\n",
      "Falling back to anonymous data access. Please, revisit your authentication configuration\n",
      "(https://icos-carbon-portal.github.io/pylib/modules/#authentication).\n",
      "Authentication will become mandatory (icoscp >= 0.1.19) for external users.\n",
      "  warnings.warn(warning, category=UserWarning)\n",
      "C:\\Users\\Anders Dahlner\\AppData\\Local\\Temp\\ipykernel_18388\\285090405.py:74: SettingWithCopyWarning: \n",
      "A value is trying to be set on a copy of a slice from a DataFrame\n",
      "\n",
      "See the caveats in the documentation: https://pandas.pydata.org/pandas-docs/stable/user_guide/indexing.html#returning-a-view-versus-a-copy\n",
      "  df.rename(columns=order_dict[p]['rename_cols'], inplace=True)\n",
      "C:\\Miniconda3\\envs\\dashboard\\lib\\site-packages\\icoscp\\cpauth\\exceptions.py:53: UserWarning: \n",
      "Your authentication at the ICOS Carbon Portal was unsuccessful due to: Incorrect user name or password.\n",
      "Falling back to anonymous data access. Please, revisit your authentication configuration\n",
      "(https://icos-carbon-portal.github.io/pylib/modules/#authentication).\n",
      "Authentication will become mandatory (icoscp >= 0.1.19) for external users.\n",
      "  warnings.warn(warning, category=UserWarning)\n"
     ]
    },
    {
     "name": "stdout",
     "output_type": "stream",
     "text": [
      "['CO2', 'H', 'H2O', 'H', 'H2O', 'CO2']\n"
     ]
    },
    {
     "name": "stderr",
     "output_type": "stream",
     "text": [
      "C:\\Users\\Anders Dahlner\\AppData\\Local\\Temp\\ipykernel_18388\\285090405.py:74: SettingWithCopyWarning: \n",
      "A value is trying to be set on a copy of a slice from a DataFrame\n",
      "\n",
      "See the caveats in the documentation: https://pandas.pydata.org/pandas-docs/stable/user_guide/indexing.html#returning-a-view-versus-a-copy\n",
      "  df.rename(columns=order_dict[p]['rename_cols'], inplace=True)\n"
     ]
    },
    {
     "data": {
      "text/html": [
       "<div>\n",
       "<style scoped>\n",
       "    .dataframe tbody tr th:only-of-type {\n",
       "        vertical-align: middle;\n",
       "    }\n",
       "\n",
       "    .dataframe tbody tr th {\n",
       "        vertical-align: top;\n",
       "    }\n",
       "\n",
       "    .dataframe thead th {\n",
       "        text-align: right;\n",
       "    }\n",
       "</style>\n",
       "<table border=\"1\" class=\"dataframe\">\n",
       "  <thead>\n",
       "    <tr style=\"text-align: right;\">\n",
       "      <th></th>\n",
       "      <th>SE-Sto_CO2</th>\n",
       "      <th>UK-AMo_H</th>\n",
       "      <th>FR-Bil_H2O</th>\n",
       "      <th>SE-Sto_H</th>\n",
       "      <th>UK-AMo_H2O</th>\n",
       "      <th>FR-Bil_CO2</th>\n",
       "    </tr>\n",
       "    <tr>\n",
       "      <th>TIMESTAMP</th>\n",
       "      <th></th>\n",
       "      <th></th>\n",
       "      <th></th>\n",
       "      <th></th>\n",
       "      <th></th>\n",
       "      <th></th>\n",
       "    </tr>\n",
       "  </thead>\n",
       "  <tbody>\n",
       "    <tr>\n",
       "      <th>2023-03-10 00:00:00</th>\n",
       "      <td>424.420013</td>\n",
       "      <td>-18.389999</td>\n",
       "      <td>11.68</td>\n",
       "      <td>NaN</td>\n",
       "      <td>4.71</td>\n",
       "      <td>414.130005</td>\n",
       "    </tr>\n",
       "    <tr>\n",
       "      <th>2023-03-10 00:30:00</th>\n",
       "      <td>424.589996</td>\n",
       "      <td>NaN</td>\n",
       "      <td>11.84</td>\n",
       "      <td>NaN</td>\n",
       "      <td>4.65</td>\n",
       "      <td>414.329987</td>\n",
       "    </tr>\n",
       "    <tr>\n",
       "      <th>2023-03-10 01:00:00</th>\n",
       "      <td>424.579987</td>\n",
       "      <td>NaN</td>\n",
       "      <td>12.53</td>\n",
       "      <td>NaN</td>\n",
       "      <td>4.06</td>\n",
       "      <td>415.140015</td>\n",
       "    </tr>\n",
       "    <tr>\n",
       "      <th>2023-03-10 01:30:00</th>\n",
       "      <td>424.880005</td>\n",
       "      <td>-28.510000</td>\n",
       "      <td>12.69</td>\n",
       "      <td>NaN</td>\n",
       "      <td>4.59</td>\n",
       "      <td>415.410004</td>\n",
       "    </tr>\n",
       "    <tr>\n",
       "      <th>2023-03-10 02:00:00</th>\n",
       "      <td>425.179993</td>\n",
       "      <td>-23.209999</td>\n",
       "      <td>12.50</td>\n",
       "      <td>-22.51</td>\n",
       "      <td>4.40</td>\n",
       "      <td>415.690002</td>\n",
       "    </tr>\n",
       "    <tr>\n",
       "      <th>...</th>\n",
       "      <td>...</td>\n",
       "      <td>...</td>\n",
       "      <td>...</td>\n",
       "      <td>...</td>\n",
       "      <td>...</td>\n",
       "      <td>...</td>\n",
       "    </tr>\n",
       "    <tr>\n",
       "      <th>2023-03-16 21:00:00</th>\n",
       "      <td>427.600006</td>\n",
       "      <td>NaN</td>\n",
       "      <td>9.71</td>\n",
       "      <td>-21.16</td>\n",
       "      <td>NaN</td>\n",
       "      <td>416.250000</td>\n",
       "    </tr>\n",
       "    <tr>\n",
       "      <th>2023-03-16 21:30:00</th>\n",
       "      <td>427.429993</td>\n",
       "      <td>NaN</td>\n",
       "      <td>9.66</td>\n",
       "      <td>NaN</td>\n",
       "      <td>NaN</td>\n",
       "      <td>417.130005</td>\n",
       "    </tr>\n",
       "    <tr>\n",
       "      <th>2023-03-16 22:00:00</th>\n",
       "      <td>427.600006</td>\n",
       "      <td>NaN</td>\n",
       "      <td>9.60</td>\n",
       "      <td>NaN</td>\n",
       "      <td>NaN</td>\n",
       "      <td>417.630005</td>\n",
       "    </tr>\n",
       "    <tr>\n",
       "      <th>2023-03-16 22:30:00</th>\n",
       "      <td>428.440002</td>\n",
       "      <td>NaN</td>\n",
       "      <td>9.58</td>\n",
       "      <td>NaN</td>\n",
       "      <td>NaN</td>\n",
       "      <td>417.920013</td>\n",
       "    </tr>\n",
       "    <tr>\n",
       "      <th>2023-03-16 23:00:00</th>\n",
       "      <td>427.579987</td>\n",
       "      <td>NaN</td>\n",
       "      <td>9.72</td>\n",
       "      <td>NaN</td>\n",
       "      <td>NaN</td>\n",
       "      <td>418.480011</td>\n",
       "    </tr>\n",
       "  </tbody>\n",
       "</table>\n",
       "<p>335 rows × 6 columns</p>\n",
       "</div>"
      ],
      "text/plain": [
       "                     SE-Sto_CO2   UK-AMo_H  FR-Bil_H2O  SE-Sto_H  UK-AMo_H2O  \\\n",
       "TIMESTAMP                                                                      \n",
       "2023-03-10 00:00:00  424.420013 -18.389999       11.68       NaN        4.71   \n",
       "2023-03-10 00:30:00  424.589996        NaN       11.84       NaN        4.65   \n",
       "2023-03-10 01:00:00  424.579987        NaN       12.53       NaN        4.06   \n",
       "2023-03-10 01:30:00  424.880005 -28.510000       12.69       NaN        4.59   \n",
       "2023-03-10 02:00:00  425.179993 -23.209999       12.50    -22.51        4.40   \n",
       "...                         ...        ...         ...       ...         ...   \n",
       "2023-03-16 21:00:00  427.600006        NaN        9.71    -21.16         NaN   \n",
       "2023-03-16 21:30:00  427.429993        NaN        9.66       NaN         NaN   \n",
       "2023-03-16 22:00:00  427.600006        NaN        9.60       NaN         NaN   \n",
       "2023-03-16 22:30:00  428.440002        NaN        9.58       NaN         NaN   \n",
       "2023-03-16 23:00:00  427.579987        NaN        9.72       NaN         NaN   \n",
       "\n",
       "                     FR-Bil_CO2  \n",
       "TIMESTAMP                        \n",
       "2023-03-10 00:00:00  414.130005  \n",
       "2023-03-10 00:30:00  414.329987  \n",
       "2023-03-10 01:00:00  415.140015  \n",
       "2023-03-10 01:30:00  415.410004  \n",
       "2023-03-10 02:00:00  415.690002  \n",
       "...                         ...  \n",
       "2023-03-16 21:00:00  416.250000  \n",
       "2023-03-16 21:30:00  417.130005  \n",
       "2023-03-16 22:00:00  417.630005  \n",
       "2023-03-16 22:30:00  417.920013  \n",
       "2023-03-16 23:00:00  418.480011  \n",
       "\n",
       "[335 rows x 6 columns]"
      ]
     },
     "execution_count": 27,
     "metadata": {},
     "output_type": "execute_result"
    }
   ],
   "source": [
    "df = group_ts(var_tuple_ls=var_tuple_ls, start_date= d1) #ls)\n",
    "df\n",
    "units = df.icos_var_unit_ls\n",
    "df"
   ]
  },
  {
   "cell_type": "code",
   "execution_count": 21,
   "id": "afca91d9",
   "metadata": {},
   "outputs": [
    {
     "name": "stdout",
     "output_type": "stream",
     "text": [
      "('CO2', 'https://meta.icos-cp.eu/objects/QLk2MGR5Zv_KPmN07Z0ZNSHe')\n",
      "('H', 'https://meta.icos-cp.eu/objects/StAoU7ciukup4HmijO4J92sV')\n",
      "('H2O', 'https://meta.icos-cp.eu/objects/9ISyDWIvPhNwbFGaqp6rwSP3')\n",
      "('H', 'https://meta.icos-cp.eu/objects/QLk2MGR5Zv_KPmN07Z0ZNSHe')\n",
      "('H2O', 'https://meta.icos-cp.eu/objects/StAoU7ciukup4HmijO4J92sV')\n",
      "('CO2', 'https://meta.icos-cp.eu/objects/9ISyDWIvPhNwbFGaqp6rwSP3')\n",
      "['https://data.icos-cp.eu/objects/QLk2MGR5Zv_KPmN07Z0ZNSHe', 'https://data.icos-cp.eu/objects/StAoU7ciukup4HmijO4J92sV', 'https://data.icos-cp.eu/objects/9ISyDWIvPhNwbFGaqp6rwSP3']\n",
      "[]\n",
      "['SE-Sto_CO2', 'UK-AMo_H', 'FR-Bil_H2O', 'SE-Sto_H', 'UK-AMo_H2O', 'FR-Bil_CO2']\n"
     ]
    },
    {
     "data": {
      "text/plain": [
       "['https://data.icos-cp.eu/objects/QLk2MGR5Zv_KPmN07Z0ZNSHe',\n",
       " 'https://data.icos-cp.eu/objects/StAoU7ciukup4HmijO4J92sV',\n",
       " 'https://data.icos-cp.eu/objects/9ISyDWIvPhNwbFGaqp6rwSP3']"
      ]
     },
     "execution_count": 21,
     "metadata": {},
     "output_type": "execute_result"
    }
   ],
   "source": [
    "for x in var_tuple_ls:\n",
    "    print(x)\n",
    "\n",
    "print(df.icos_accessUrl)\n",
    "print(df.icos_var_unit_ls)\n",
    "df\n",
    "d1 = '2023-03-10'\n",
    "d2 = '2023-03-15'\n",
    "df = df[d1:d2]\n",
    "df\n",
    "df.icos_accessUrl"
   ]
  },
  {
   "cell_type": "code",
   "execution_count": 24,
   "id": "43d61b2f",
   "metadata": {},
   "outputs": [
    {
     "data": {
      "text/plain": [
       "'               col_meta_ls = do.meta[\\'specificInfo\\'][\\n                    \\'columns\\'] if \\'specificInfo\\' in do.meta.keys() and \\'columns\\' in                                   do.meta[\\'specificInfo\\'] else None\\n\\n                var_meta = {}\\n                for v in var_ls:\\n                    for col in col_meta_ls:\\n                        if col[\\'label\\'] == v:\\n                            var_meta[v] = {}\\n                            try:\\n                                var_meta[v][\\'unit\\'] = col[\\'valueType\\'][\\'unit\\']\\n                            except:\\n                                var_meta[v][\\'unit\\'] = \\'No unit\\'\\n                            try:\\n                                label = col[\\'valueType\\'][\\'quantityKind\\'][\\n                                    \\'label\\']\\n                                var_meta[v][\\'label\\'] = label[\\n                                                           0].upper() + label[\\n                                                                        1:]\\n                            except:\\n                                var_meta[v][\\'label\\'] = \\'\\'\\n                data_dict[stn][spec][\\'meta\\'] = var_meta\\n\\n        # Rename columns if there are stations or products involved\\n        # Are the more than 1 station?\\n        if len(data_dict.keys()) > 1:\\n            for stn in data_dict.keys():\\n                stn_short = data_dict[stn][\\'id\\']\\n\\n                # are there more than one speces?\\n                if len(data_dict[stn].keys()) > 2:\\n                    for spec in data_dict[stn]:\\n                        if spec != \\'id\\':\\n                            spec_short = spec.split(\\' \\')[-1]\\n\\n                            new_col_names = {\\n                                var: f\\'{stn_short}_{spec_short}_{var}\\'\\n                                for var in data_dict[stn][spec][\\'vars\\']\\n                                if var != \\'TIMESTAMP\\'}\\n                            # new_col_names[\\'TIMESTAMP\\'] = \\'TIMESTAMP\\'\\n\\n                            df = data_dict[stn][spec][\\'data\\']\\n                            data_dict[stn][spec][\\'data\\'] = df.rename(\\n                                columns=new_col_names)\\n\\n                else:\\n                    for spec in data_dict[stn]:\\n                        if spec != \\'id\\':\\n                            new_col_names = {var: f\\'{stn_short}_{var}\\'\\n                                             for var in\\n                                             data_dict[stn][spec][\\'vars\\']\\n                                             if var != \\'TIMESTAMP\\'}\\n                            # \"new_col_names[\\'TIMESTAMP\\'] = \\'TIMESTAMP\\'\\n\\n                            df = data_dict[stn][spec][\\'data\\']\\n                            data_dict[stn][spec][\\'data\\'] = df.rename(\\n                                columns=new_col_names)\\n        else:\\n            for stn in data_dict.keys():\\n                # are there more than one speces?\\n                if len(data_dict[stn].keys()) > 2:\\n                    for spec in data_dict[stn]:\\n                        if spec != \\'id\\':\\n                            spec_short = spec.split(\\' \\')[-1]\\n                            new_col_names = {var: f\\'{spec_short}_{var}\\'\\n                                             for var in\\n                                             data_dict[stn][spec][\\'vars\\']\\n                                             if var != \\'TIMESTAMP\\'}\\n\\n                            df = data_dict[stn][spec][\\'data\\']\\n                            data_dict[stn][spec][\\'data\\'] = df.rename(\\n                                columns=new_col_names)\\n\\n        return data_dict\\n'"
      ]
     },
     "execution_count": 24,
     "metadata": {},
     "output_type": "execute_result"
    }
   ],
   "source": [
    "def group_ts(var_tuple_ls: list = None, start_date: str=None, end_date: str= None, **kwargs) -> IcosFrame:\n",
    "    \"\"\"\n",
    "    Returns a pandas dataframe df with an ICOS timeseries\n",
    "    and attached metadata (an instance of IcosFrame which\n",
    "    inherits pandas dataframe). In case there are more than\n",
    "    one matching products, the latest will be returned.\n",
    "\n",
    "    Parameters\n",
    "    ----------\n",
    "    var_tuple_ls: list of tuples\n",
    "        Each tuple in the list is assumed to be of the form\n",
    "            (<variable>, <pid>)\n",
    "        where the <variable> belongs to the ICOS product/file with pid <pid>\n",
    "    \n",
    "    start_date: str \n",
    "        Of the form 'YYYY-MM-DD'\n",
    "    end_date: str\n",
    "        Of the form 'YYYY-MM-DD'\n",
    "\n",
    "    Returns\n",
    "    -------\n",
    "    IcosFrame (see above)\n",
    "    \"\"\"\n",
    "\n",
    "    # 1. Before we merge the data we need to take care of the name and the \n",
    "    #    order of the variables\n",
    "    order_dict = {}\n",
    "    original_columns = []\n",
    "    for i in range(len(var_tuple_ls)):\n",
    "        v, p = var_tuple_ls[i]\n",
    "        original_columns.append(v)\n",
    "        \n",
    "        if p in order_dict.keys():\n",
    "            order_dict[p]['cols'].append(v)\n",
    "            order_dict[p]['compose_order'][i] = v\n",
    "        else:\n",
    "            order_dict[p]  = {'cols': [v], 'compose_order': {i:v}, 'dobj': Dobj(p)}\n",
    "    \n",
    "    # 2. We might also have to rename duplicate variables.\n",
    "    products = set()\n",
    "    stations = set()\n",
    "    if len(order_dict.keys()) > 1: \n",
    "        # in this case we will rename columns\n",
    "        for p in order_dict.keys():            \n",
    "            p_meta = IcosFrame.trim_icos_meta(order_dict[p]['dobj'].meta)\n",
    "            order_dict[p]['meta'] = p_meta\n",
    "            products.add(p_meta['product'])\n",
    "            stations.add(p_meta['stationId'])\n",
    "            order_dict[p]['product'] = p_meta['product']\n",
    "            order_dict[p]['stn_id'] = p_meta['stationId']\n",
    "    else: \n",
    "        p_meta = IcosFrame.trim_icos_meta(order_dict[p]['dobj'].meta)\n",
    "        order_dict[p]['meta'] = p_meta    \n",
    "    \n",
    "    if len(products) > 1:\n",
    "        for p in order_dict.keys():\n",
    "            prod = order_dict[p]['product']\n",
    "            order_dict[p]['rename_cols'] = {c: f'{prod}_{c}' for c in order_dict[p]['cols']}\n",
    "    if len(stations) > 1:\n",
    "        for p in order_dict.keys():\n",
    "            stn_id = order_dict[p]['stn_id']\n",
    "            if 'rename_cols' in order_dict[p].keys():\n",
    "                order_dict[p]['rename_cols'] = {c: f'{stn_id}_{v}' \n",
    "                                                for c, v in \n",
    "                                                order_dict[p]['rename_cols'].items()}\n",
    "            else:\n",
    "                order_dict[p]['rename_cols'] = {c: f'{stn_id}_{c}' for c in order_dict[p]['cols']}\n",
    "    \n",
    "    # 3. Next, we gather the data in a dataframe and keep track on the order \n",
    "    df_m = None\n",
    "    total_col_order = {}\n",
    "    for p in order_dict.keys():\n",
    "        do = order_dict[p]['dobj']\n",
    "        col_ls = order_dict[p]['cols'] + ['TIMESTAMP']\n",
    "        df = do.data[col_ls]\n",
    "        if 'rename_cols' in order_dict[p].keys():\n",
    "            df.rename(columns=order_dict[p]['rename_cols'], inplace=True)\n",
    "            total_col_order.update({i: order_dict[p]['rename_cols'].get(v)\n",
    "                                for i, v in order_dict[p]['compose_order'].items()})\n",
    "        else:\n",
    "            total_col_order.update(order_dict[p]['compose_order'])\n",
    "            \n",
    "        if df_m is None:\n",
    "            df_m = df\n",
    "        else:\n",
    "            df_m = df_m.merge(df, how = 'outer', on = 'TIMESTAMP')\n",
    "    \n",
    "    # We use timestamp as index and restrict the set with respect to dates\n",
    "    df_m.set_index(keys ='TIMESTAMP', inplace=True)\n",
    "    \n",
    "    if start_date:\n",
    "        df_m = df_m[start_date:]\n",
    "    if end_date:\n",
    "        df_m = df_m[:end_date]\n",
    "    \n",
    "    col_order = [total_col_order[i] for i in range(len(total_col_order)) ]\n",
    "    df_m = df_m[col_order]   \n",
    "\n",
    "    # 5. Finally we set the meta data using an IcosFrame\n",
    "    meta_ls = [order_dict[p]['meta'] for p in order_dict.keys()]\n",
    "    \n",
    "    if len(order_dict.keys()) == 1:\n",
    "        meta_ls = meta_ls.pop(0)\n",
    "            \n",
    "    df = IcosFrame(data=df_m,icos_meta = meta_ls, icos_columns = original_columns )\n",
    "    \n",
    "    return df    \n",
    "            \n",
    "            \n"
   ]
  },
  {
   "cell_type": "code",
   "execution_count": null,
   "id": "1aa65671",
   "metadata": {},
   "outputs": [],
   "source": []
  },
  {
   "cell_type": "code",
   "execution_count": null,
   "id": "7b383cd7",
   "metadata": {},
   "outputs": [],
   "source": []
  },
  {
   "cell_type": "code",
   "execution_count": null,
   "id": "62db7d71",
   "metadata": {},
   "outputs": [],
   "source": []
  },
  {
   "cell_type": "code",
   "execution_count": null,
   "id": "418c0f6a",
   "metadata": {},
   "outputs": [],
   "source": []
  },
  {
   "cell_type": "code",
   "execution_count": null,
   "id": "b133ed78",
   "metadata": {},
   "outputs": [],
   "source": []
  }
 ],
 "metadata": {
  "kernelspec": {
   "display_name": "Python 3 (ipykernel)",
   "language": "python",
   "name": "python3"
  },
  "language_info": {
   "codemirror_mode": {
    "name": "ipython",
    "version": 3
   },
   "file_extension": ".py",
   "mimetype": "text/x-python",
   "name": "python",
   "nbconvert_exporter": "python",
   "pygments_lexer": "ipython3",
   "version": "3.9.12"
  }
 },
 "nbformat": 4,
 "nbformat_minor": 5
}
