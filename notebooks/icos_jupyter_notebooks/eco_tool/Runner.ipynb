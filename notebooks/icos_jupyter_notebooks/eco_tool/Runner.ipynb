{
 "cells": [
  {
   "cell_type": "code",
   "execution_count": 16,
   "id": "4337c4cb-5d4a-4afc-a73b-26f5fd6c1914",
   "metadata": {
    "scrolled": true
   },
   "outputs": [
    {
     "data": {
      "application/vnd.jupyter.widget-view+json": {
       "model_id": "8bdaae98537e46f2b21cd36d05e3a52e",
       "version_major": 2,
       "version_minor": 0
      },
      "text/plain": [
       "VBox(children=(ToggleButtons(button_style='success', icons=('area-chart', 'list', 'info-circle'), index=1, opt…"
      ]
     },
     "metadata": {},
     "output_type": "display_data"
    },
    {
     "data": {
      "text/plain": [
       "<pi.gui.AnalysisGui at 0x2e270e87af0>"
      ]
     },
     "execution_count": 16,
     "metadata": {},
     "output_type": "execute_result"
    }
   ],
   "source": [
    "import warnings\n",
    "warnings.simplefilter(\"ignore\", FutureWarning)\n",
    "\n",
    "from pi import gui\n",
    "\n",
    "\n",
    "gui.AnalysisGui() #debug = True )"
   ]
  },
  {
   "cell_type": "code",
   "execution_count": 26,
   "id": "0f5c6f17",
   "metadata": {},
   "outputs": [
    {
     "name": "stderr",
     "output_type": "stream",
     "text": [
      "C:\\Miniconda3\\envs\\dashboard\\lib\\site-packages\\icoscp\\cpauth\\exceptions.py:53: UserWarning:\n",
      "\n",
      "\n",
      "Your authentication at the ICOS Carbon Portal was unsuccessful due to: Incorrect user name or password.\n",
      "Falling back to anonymous data access. Please, revisit your authentication configuration\n",
      "(https://icos-carbon-portal.github.io/pylib/modules/#authentication).\n",
      "Authentication will become mandatory (icoscp >= 0.1.19) for external users.\n",
      "\n"
     ]
    },
    {
     "data": {
      "text/plain": [
       "'ETC NRT Fluxes'"
      ]
     },
     "execution_count": 26,
     "metadata": {},
     "output_type": "execute_result"
    }
   ],
   "source": [
    "df = s.get_ts(pid = pid_ls[0])\n",
    "d = IcosFrame.trim_icos_meta(df.icos_meta)\n",
    "d['product']"
   ]
  },
  {
   "cell_type": "code",
   "execution_count": 23,
   "id": "fa66fa25",
   "metadata": {},
   "outputs": [
    {
     "ename": "TypeError",
     "evalue": "var_unit_to_latex() missing 1 required positional argument: 'unit'",
     "output_type": "error",
     "traceback": [
      "\u001b[1;31m---------------------------------------------------------------------------\u001b[0m",
      "\u001b[1;31mTypeError\u001b[0m                                 Traceback (most recent call last)",
      "Input \u001b[1;32mIn [23]\u001b[0m, in \u001b[0;36m<cell line: 4>\u001b[1;34m()\u001b[0m\n\u001b[0;32m      1\u001b[0m \u001b[38;5;28;01mfrom\u001b[39;00m \u001b[38;5;21;01mpi\u001b[39;00m \u001b[38;5;28;01mimport\u001b[39;00m icos2latex\n\u001b[0;32m      3\u001b[0m t \u001b[38;5;241m=\u001b[39m icos2latex\u001b[38;5;241m.\u001b[39mTranslator()\n\u001b[1;32m----> 4\u001b[0m \u001b[43mt\u001b[49m\u001b[38;5;241;43m.\u001b[39;49m\u001b[43mvar_unit_to_latex\u001b[49m\u001b[43m \u001b[49m\u001b[43m(\u001b[49m\u001b[43mdf\u001b[49m\u001b[38;5;241;43m.\u001b[39;49m\u001b[43micos_var_unit_ls\u001b[49m\u001b[43m)\u001b[49m\n",
      "\u001b[1;31mTypeError\u001b[0m: var_unit_to_latex() missing 1 required positional argument: 'unit'"
     ]
    }
   ],
   "source": [
    "from pi import icos2latex\n",
    "\n",
    "t = icos2latex.Translator()\n",
    "t.var_unit_to_latex (df.icos_var_unit_ls)\n"
   ]
  },
  {
   "cell_type": "code",
   "execution_count": null,
   "id": "b0be2e33-99c6-41d1-a27d-1abf82e1978f",
   "metadata": {},
   "outputs": [],
   "source": [
    "gui.AnalysisGui()"
   ]
  },
  {
   "cell_type": "code",
   "execution_count": 38,
   "id": "892e065a-8cbb-4817-ab59-d8028bbd42c5",
   "metadata": {},
   "outputs": [
    {
     "ename": "ModuleNotFoundError",
     "evalue": "No module named 'icos'",
     "output_type": "error",
     "traceback": [
      "\u001b[1;31m---------------------------------------------------------------------------\u001b[0m",
      "\u001b[1;31mModuleNotFoundError\u001b[0m                       Traceback (most recent call last)",
      "Input \u001b[1;32mIn [38]\u001b[0m, in \u001b[0;36m<cell line: 3>\u001b[1;34m()\u001b[0m\n\u001b[0;32m      1\u001b[0m \u001b[38;5;28;01mfrom\u001b[39;00m \u001b[38;5;21;01mpi\u001b[39;00m \u001b[38;5;28;01mimport\u001b[39;00m icos_data\n\u001b[0;32m      2\u001b[0m \u001b[38;5;28;01mfrom\u001b[39;00m \u001b[38;5;21;01mpi\u001b[39;00m\u001b[38;5;21;01m.\u001b[39;00m\u001b[38;5;21;01micos_timeseries\u001b[39;00m \u001b[38;5;28;01mimport\u001b[39;00m IcosFrame\n\u001b[1;32m----> 3\u001b[0m \u001b[38;5;28;01mfrom\u001b[39;00m \u001b[38;5;21;01micos\u001b[39;00m\u001b[38;5;21;01m.\u001b[39;00m\u001b[38;5;21;01mcpb\u001b[39;00m\u001b[38;5;21;01m.\u001b[39;00m\u001b[38;5;21;01mdobj\u001b[39;00m \u001b[38;5;28;01mimport\u001b[39;00m Dobj\n\u001b[0;32m      4\u001b[0m s \u001b[38;5;241m=\u001b[39m icos_data\u001b[38;5;241m.\u001b[39mStationData()\n\u001b[0;32m      5\u001b[0m df \u001b[38;5;241m=\u001b[39m s\u001b[38;5;241m.\u001b[39mstations_df\n",
      "\u001b[1;31mModuleNotFoundError\u001b[0m: No module named 'icos'"
     ]
    }
   ],
   "source": [
    "from pi import icos_data\n",
    "from pi.icos_timeseries import IcosFrame\n",
    "from icos.cpb.dobj import Dobj\n",
    "s = icos_data.StationData()\n",
    "df = s.stations_df\n",
    "\n",
    "pid_ls = list(df.dobj)\n"
   ]
  },
  {
   "cell_type": "code",
   "execution_count": 11,
   "id": "d1ef8996-9087-4576-aaa4-6d40191754f5",
   "metadata": {},
   "outputs": [],
   "source": [
    "v1 = 'CO2'\n",
    "v2 = 'H'\n",
    "v3 = 'H2O'\n",
    "var_tuple_ls = [(v1, pid_ls[0]),(v2, pid_ls[3]), (v3, pid_ls[6]),(v2, pid_ls[0]),(v3, pid_ls[3]), (v1, pid_ls[6])]"
   ]
  },
  {
   "cell_type": "code",
   "execution_count": 37,
   "id": "486d7c28",
   "metadata": {},
   "outputs": [
    {
     "ename": "NameError",
     "evalue": "name 'Dobj' is not defined",
     "output_type": "error",
     "traceback": [
      "\u001b[1;31m---------------------------------------------------------------------------\u001b[0m",
      "\u001b[1;31mNameError\u001b[0m                                 Traceback (most recent call last)",
      "Input \u001b[1;32mIn [37]\u001b[0m, in \u001b[0;36m<cell line: 1>\u001b[1;34m()\u001b[0m\n\u001b[1;32m----> 1\u001b[0m do \u001b[38;5;241m=\u001b[39m \u001b[43mDobj\u001b[49m(pid_ls[\u001b[38;5;241m0\u001b[39m])\n\u001b[0;32m      2\u001b[0m df \u001b[38;5;241m=\u001b[39m do\u001b[38;5;241m.\u001b[39mdata[[v1,v2]]\n\u001b[0;32m      3\u001b[0m df\n",
      "\u001b[1;31mNameError\u001b[0m: name 'Dobj' is not defined"
     ]
    }
   ],
   "source": [
    "do = Dobj(pid_ls[0])\n",
    "df = do.data[[v1,v2]]\n",
    "df"
   ]
  },
  {
   "cell_type": "code",
   "execution_count": 14,
   "id": "efc2852e",
   "metadata": {},
   "outputs": [
    {
     "name": "stdout",
     "output_type": "stream",
     "text": [
      "{'https://meta.icos-cp.eu/objects/QLk2MGR5Zv_KPmN07Z0ZNSHe': {'cols': ['CO2', 'H'], 'index': [0, 3]}, 'https://meta.icos-cp.eu/objects/StAoU7ciukup4HmijO4J92sV': {'cols': ['H', 'H2O'], 'index': [1, 4]}, 'https://meta.icos-cp.eu/objects/9ISyDWIvPhNwbFGaqp6rwSP3': {'cols': ['H2O', 'CO2'], 'index': [2, 5]}}\n"
     ]
    }
   ],
   "source": [
    "group_ts(var_tuple_ls=var_tuple_ls)"
   ]
  },
  {
   "cell_type": "code",
   "execution_count": 13,
   "id": "43d61b2f",
   "metadata": {},
   "outputs": [
    {
     "data": {
      "text/plain": [
       "'               col_meta_ls = do.meta[\\'specificInfo\\'][\\n                    \\'columns\\'] if \\'specificInfo\\' in do.meta.keys() and \\'columns\\' in                                   do.meta[\\'specificInfo\\'] else None\\n\\n                var_meta = {}\\n                for v in var_ls:\\n                    for col in col_meta_ls:\\n                        if col[\\'label\\'] == v:\\n                            var_meta[v] = {}\\n                            try:\\n                                var_meta[v][\\'unit\\'] = col[\\'valueType\\'][\\'unit\\']\\n                            except:\\n                                var_meta[v][\\'unit\\'] = \\'No unit\\'\\n                            try:\\n                                label = col[\\'valueType\\'][\\'quantityKind\\'][\\n                                    \\'label\\']\\n                                var_meta[v][\\'label\\'] = label[\\n                                                           0].upper() + label[\\n                                                                        1:]\\n                            except:\\n                                var_meta[v][\\'label\\'] = \\'\\'\\n                data_dict[stn][spec][\\'meta\\'] = var_meta\\n\\n        # Rename columns if there are stations or products involved\\n        # Are the more than 1 station?\\n        if len(data_dict.keys()) > 1:\\n            for stn in data_dict.keys():\\n                stn_short = data_dict[stn][\\'id\\']\\n\\n                # are there more than one speces?\\n                if len(data_dict[stn].keys()) > 2:\\n                    for spec in data_dict[stn]:\\n                        if spec != \\'id\\':\\n                            spec_short = spec.split(\\' \\')[-1]\\n\\n                            new_col_names = {\\n                                var: f\\'{stn_short}_{spec_short}_{var}\\'\\n                                for var in data_dict[stn][spec][\\'vars\\']\\n                                if var != \\'TIMESTAMP\\'}\\n                            # new_col_names[\\'TIMESTAMP\\'] = \\'TIMESTAMP\\'\\n\\n                            df = data_dict[stn][spec][\\'data\\']\\n                            data_dict[stn][spec][\\'data\\'] = df.rename(\\n                                columns=new_col_names)\\n\\n                else:\\n                    for spec in data_dict[stn]:\\n                        if spec != \\'id\\':\\n                            new_col_names = {var: f\\'{stn_short}_{var}\\'\\n                                             for var in\\n                                             data_dict[stn][spec][\\'vars\\']\\n                                             if var != \\'TIMESTAMP\\'}\\n                            # \"new_col_names[\\'TIMESTAMP\\'] = \\'TIMESTAMP\\'\\n\\n                            df = data_dict[stn][spec][\\'data\\']\\n                            data_dict[stn][spec][\\'data\\'] = df.rename(\\n                                columns=new_col_names)\\n        else:\\n            for stn in data_dict.keys():\\n                # are there more than one speces?\\n                if len(data_dict[stn].keys()) > 2:\\n                    for spec in data_dict[stn]:\\n                        if spec != \\'id\\':\\n                            spec_short = spec.split(\\' \\')[-1]\\n                            new_col_names = {var: f\\'{spec_short}_{var}\\'\\n                                             for var in\\n                                             data_dict[stn][spec][\\'vars\\']\\n                                             if var != \\'TIMESTAMP\\'}\\n\\n                            df = data_dict[stn][spec][\\'data\\']\\n                            data_dict[stn][spec][\\'data\\'] = df.rename(\\n                                columns=new_col_names)\\n\\n        return data_dict\\n'"
      ]
     },
     "execution_count": 13,
     "metadata": {},
     "output_type": "execute_result"
    }
   ],
   "source": [
    "def group_ts(var_tuple_ls: list = None, **kwargs) -> IcosFrame:\n",
    "    \"\"\"\n",
    "    Returns a pandas dataframe df with an ICOS timeseries\n",
    "    and attached metadata (an instance of IcosFrame which\n",
    "    inherits pandas dataframe). In case there are more than\n",
    "    one matching products, the latest will be returned.\n",
    "\n",
    "    Parameters\n",
    "    ----------\n",
    "    var_tuple_ls a list of tuples\n",
    "        each tuple in the list is assumed to be of the form\n",
    "            (<variable>, <pid>)\n",
    "        where the <variable> belongs to the ICOS product/file with pid <pid>\n",
    "\n",
    "    Returns\n",
    "    -------\n",
    "    IcosFrame (see above)\n",
    "    \"\"\"\n",
    "\n",
    "    # 1. Before we merge the data we need to take care of the order of the variables\n",
    "    order_dict = {}\n",
    "    for i in range(len(var_tuple_ls)):\n",
    "        v, p = var_tuple_ls[i]\n",
    "        if p in order_dict.keys():\n",
    "            order_dict[p]['dobj'].append(Dobj(p))\n",
    "            order_dict[p]['cols'].append(v)\n",
    "            order_dict[p]['index'].append(i)\n",
    "        else:\n",
    "            order_dict[p]  = {'cols': [v], 'index': [i], 'dobj': [Dobj(p)]}\n",
    "    \n",
    "    # 2. We might also have to rename duplicate variables.\n",
    "    products = set()\n",
    "    stations = set()\n",
    "    if len(order_dict.keys()) > 1: \n",
    "        # in this case we will rename columns\n",
    "        for p in order_dict.keys():            \n",
    "            p_meta = IcosFrame.trim_icos_meta(order_dict[p]['dobj'])\n",
    "            products.add(p_meta['product'])\n",
    "            stations.add(p_meta['stationId'])\n",
    "            order_dict[p]['product'] = p_meta['product']\n",
    "            order_dict[p]['stn_id'] = p_meta['stationId']\n",
    "    if len(products) > 1:\n",
    "        for p in order_dict.keys():\n",
    "            prod = order_dict[p]['product']\n",
    "            order_dict[p]['columns'] = [f'{prod}_{c}' for c in order_dict[p]['cols']]\n",
    "    if len(stations) > 1:\n",
    "        for p in order_dict.keys():\n",
    "            stn_id = order_dict[p]['stn_id']\n",
    "            if 'columns' in order_dict[p].keys():\n",
    "                order_dict[p]['columns'] = [f'{stn_id}_{c}' for c in order_dict[p]['columns']]\n",
    "            else:\n",
    "                order_dict[p]['columns'] = [f'{stn_id}_{c}' for c in order_dict[p]['cols']]\n",
    "    \n",
    "    # 3. Gather data.\n",
    "    for p in order_dict.keys():\n",
    "        do = order_dict[p]['dobj']\n",
    "        df = do.data\n",
    "        \n",
    "            \n",
    "        \n",
    "            \n",
    "            \n",
    "        \n",
    "    print(order_dict)         \n",
    "    \n",
    "    \n",
    "#     stations = {x[2] for x in var_tuple_ls}\n",
    "#     st_df = self.stations_df\n",
    "\n",
    "#     data_dict = {}\n",
    "#     for st_id in stations:\n",
    "#         data_dict[st_id] = {}\n",
    "#         data_dict[st_id]['st_name'] = st_df.loc[(st_df.id ==\n",
    "#                                                  st_id)].name.values[0]\n",
    "#         files = {x[1] for x in var_tuple_ls if x[2] == st_id}\n",
    "#         for spec in files:\n",
    "#             data_dict[st_id][spec] = {}\n",
    "#             pid = st_df.loc[(st_df.id == st_id) & (\n",
    "#                     st_df.specLabel == spec)].dobj.values[0]\n",
    "\n",
    "#             # variables of pid\n",
    "#             var_ls = [x[0] for x in var_tuple_ls if\n",
    "#                       x[2] == st_id and x[1] == spec]\n",
    "#             data_dict[st_id][spec]['vars'] = var_ls\n",
    "\n",
    "#             df = self.get_ts(pid=pid, col_ls=var_ls)\n",
    "#             #do = Dobj(pid)\n",
    "#             #df = do.data\n",
    "#             #cols = var_ls\n",
    "#             #if 'TIMESTAMP' not in var_ls:\n",
    "#             #    cols.append('TIMESTAMP')\n",
    "\n",
    "#             data_dict[st_id][spec]['data'] = df   #df[cols]\n",
    "\n",
    "#     return data_dict\n",
    "\n",
    "\"\"\"               col_meta_ls = do.meta['specificInfo'][\n",
    "                    'columns'] if 'specificInfo' in do.meta.keys() and 'columns' in \\\n",
    "                                  do.meta['specificInfo'] else None\n",
    "\n",
    "                var_meta = {}\n",
    "                for v in var_ls:\n",
    "                    for col in col_meta_ls:\n",
    "                        if col['label'] == v:\n",
    "                            var_meta[v] = {}\n",
    "                            try:\n",
    "                                var_meta[v]['unit'] = col['valueType']['unit']\n",
    "                            except:\n",
    "                                var_meta[v]['unit'] = 'No unit'\n",
    "                            try:\n",
    "                                label = col['valueType']['quantityKind'][\n",
    "                                    'label']\n",
    "                                var_meta[v]['label'] = label[\n",
    "                                                           0].upper() + label[\n",
    "                                                                        1:]\n",
    "                            except:\n",
    "                                var_meta[v]['label'] = ''\n",
    "                data_dict[stn][spec]['meta'] = var_meta\n",
    "\n",
    "        # Rename columns if there are stations or products involved\n",
    "        # Are the more than 1 station?\n",
    "        if len(data_dict.keys()) > 1:\n",
    "            for stn in data_dict.keys():\n",
    "                stn_short = data_dict[stn]['id']\n",
    "\n",
    "                # are there more than one speces?\n",
    "                if len(data_dict[stn].keys()) > 2:\n",
    "                    for spec in data_dict[stn]:\n",
    "                        if spec != 'id':\n",
    "                            spec_short = spec.split(' ')[-1]\n",
    "\n",
    "                            new_col_names = {\n",
    "                                var: f'{stn_short}_{spec_short}_{var}'\n",
    "                                for var in data_dict[stn][spec]['vars']\n",
    "                                if var != 'TIMESTAMP'}\n",
    "                            # new_col_names['TIMESTAMP'] = 'TIMESTAMP'\n",
    "\n",
    "                            df = data_dict[stn][spec]['data']\n",
    "                            data_dict[stn][spec]['data'] = df.rename(\n",
    "                                columns=new_col_names)\n",
    "\n",
    "                else:\n",
    "                    for spec in data_dict[stn]:\n",
    "                        if spec != 'id':\n",
    "                            new_col_names = {var: f'{stn_short}_{var}'\n",
    "                                             for var in\n",
    "                                             data_dict[stn][spec]['vars']\n",
    "                                             if var != 'TIMESTAMP'}\n",
    "                            # \"new_col_names['TIMESTAMP'] = 'TIMESTAMP'\n",
    "\n",
    "                            df = data_dict[stn][spec]['data']\n",
    "                            data_dict[stn][spec]['data'] = df.rename(\n",
    "                                columns=new_col_names)\n",
    "        else:\n",
    "            for stn in data_dict.keys():\n",
    "                # are there more than one speces?\n",
    "                if len(data_dict[stn].keys()) > 2:\n",
    "                    for spec in data_dict[stn]:\n",
    "                        if spec != 'id':\n",
    "                            spec_short = spec.split(' ')[-1]\n",
    "                            new_col_names = {var: f'{spec_short}_{var}'\n",
    "                                             for var in\n",
    "                                             data_dict[stn][spec]['vars']\n",
    "                                             if var != 'TIMESTAMP'}\n",
    "\n",
    "                            df = data_dict[stn][spec]['data']\n",
    "                            data_dict[stn][spec]['data'] = df.rename(\n",
    "                                columns=new_col_names)\n",
    "\n",
    "        return data_dict\n",
    "\"\"\""
   ]
  },
  {
   "cell_type": "code",
   "execution_count": 32,
   "id": "e0bf797b",
   "metadata": {},
   "outputs": [
    {
     "data": {
      "text/plain": [
       "{8}"
      ]
     },
     "execution_count": 32,
     "metadata": {},
     "output_type": "execute_result"
    }
   ],
   "source": [
    "a = set()\n",
    "a.add(8) #dir(a)\n",
    "a.add(8)\n",
    "a"
   ]
  },
  {
   "cell_type": "code",
   "execution_count": 33,
   "id": "4d2ced29",
   "metadata": {},
   "outputs": [
    {
     "ename": "TypeError",
     "evalue": "object of type 'NoneType' has no len()",
     "output_type": "error",
     "traceback": [
      "\u001b[1;31m---------------------------------------------------------------------------\u001b[0m",
      "\u001b[1;31mTypeError\u001b[0m                                 Traceback (most recent call last)",
      "Input \u001b[1;32mIn [33]\u001b[0m, in \u001b[0;36m<cell line: 1>\u001b[1;34m()\u001b[0m\n\u001b[1;32m----> 1\u001b[0m \u001b[38;5;28;43mlen\u001b[39;49m\u001b[43m(\u001b[49m\u001b[38;5;28;43;01mNone\u001b[39;49;00m\u001b[43m)\u001b[49m\n",
      "\u001b[1;31mTypeError\u001b[0m: object of type 'NoneType' has no len()"
     ]
    }
   ],
   "source": [
    "len(None)"
   ]
  },
  {
   "cell_type": "code",
   "execution_count": null,
   "id": "db266351",
   "metadata": {},
   "outputs": [],
   "source": []
  }
 ],
 "metadata": {
  "kernelspec": {
   "display_name": "Python 3 (ipykernel)",
   "language": "python",
   "name": "python3"
  },
  "language_info": {
   "codemirror_mode": {
    "name": "ipython",
    "version": 3
   },
   "file_extension": ".py",
   "mimetype": "text/x-python",
   "name": "python",
   "nbconvert_exporter": "python",
   "pygments_lexer": "ipython3",
   "version": "3.9.12"
  }
 },
 "nbformat": 4,
 "nbformat_minor": 5
}
