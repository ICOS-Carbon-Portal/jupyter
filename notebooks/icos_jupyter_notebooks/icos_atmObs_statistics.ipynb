{
 "cells": [
  {
   "cell_type": "markdown",
   "metadata": {},
   "source": [
    "\n",
    "<img src=\"logos/Icos_cp_Logo_RGB.svg\" width=\"400\" align=\"left\"/>\n",
    "<!-- <img src=\"logos/magnifying_glass_over_globe.png\" width=\"80\" align=\"right\"/> -->\n",
    "<!-- <img src=\"logos/magnifying-glass-color.png\" width=\"85\" align=\"right\"/> -->\n",
    "<!-- <img src=\"logos/magnifying-galss-33363_960_720.png\" width=\"50\" align=\"right\"/> -->\n",
    "<img src=\"logos/magnifying_glass_black.png\" width=\"85\" align=\"right\"/>\n",
    "\n",
    "\n"
   ]
  },
  {
   "cell_type": "markdown",
   "metadata": {},
   "source": [
    "<a id='introduction'></a>"
   ]
  },
  {
   "cell_type": "markdown",
   "metadata": {},
   "source": [
    "# Plotting ICOS Level-1 and Level-2 Atmospheric Data\n",
    "\n",
    "## 1.1. Introduction\n",
    "In this notebook we present atmospheric observations from the [ICOS Atmospheric Station Network](https://www.icos-cp.eu/observations/atmosphere/stations). All observations are stored and can be downloaded from the [ICOS Carbon Portal](https://www.icos-cp.eu/) (ICOS CP). More in particular, this notebook contains visualizations of all available data from all current ICOS atmospheric stations. As data is retrieved in real-time from ICOS CP, the content of the visualizations is always up to date including all latest data submissions.\n",
    "<br>\n",
    "<br>\n",
    "\n",
    "The notebook is divided in the following six main parts:\n",
    "<br>\n",
    "- [Importing Python modules and functions](#icos_level2_atc) to retrieve, process and plot data. Note that a module has been created containing functions to read in the content of ICOS Atmospheric data files to pandas dataframes. All plots and maps are interactive and have been developed using the [Bokeh](https://bokeh.pydata.org/en/latest/) interactive visualization library. \n",
    "<br>\n",
    "<br>\n",
    "- [Exploring plots of ICOS Level-2 Atmospheric Data](#exploring_atc_l2)\n",
    "    -  [Exploring (Single Station - Single Tracer)](#exploring_single_station_single_tracer_atc_l2)\n",
    "    -  [Exploring (Single Station - Multiple Tracers)](#exploring_single_station_multiple_tracers_atc_l2)\n",
    "    -  [Exploring (Single Tracer - Multiple Stations)](#exploring_single_tracer_multiple_stations_atc_l2)\n",
    "<br>\n",
    "<br>\n",
    "- [Focusing on Data](#focusing_atc_l2)\n",
    "<br>\n",
    "<br>\n",
    "- [Statistics](#statistics_atc_l2)\n",
    "    -  [Basic Statistics](#basic_statistics_atc_l2)\n",
    "    -  [Correlation Statistics](#statistics_correlation_atc_l2)\n",
    "    -  [Smoothing](#statistics_smoothing_atc_l2)\n",
    "<br>\n",
    "<br>\n",
    "- [Comparing Plots from Multiple Stations](#comparing_atc_l2)\n",
    "<br>\n",
    "<br>\n",
    "- [ICOS Level-1 (Near Real Time - NRT) Atmospheric Data](#icos_level1_atc)\n",
    "<br>\n",
    "<br>\n",
    "- [Get Access to ICOS Jupyter Notebook Developing Environment](#create_nb_account_info)\n",
    "<br>\n",
    "<br>\n",
    "\n",
    "All aforementioned parts, _with the exception of parts containing subdivisions_, include two sections; the first section presents information regarding the logic behind the computed result together with its corresponding python code and the second section outputs the result. In cases where a part is subdivided to more parts, every subdivision contains two sections with the same content as above.\n",
    "\n",
    "<br>\n",
    "<br>\n",
    "<br>"
   ]
  },
  {
   "cell_type": "markdown",
   "metadata": {},
   "source": [
    "<a id='icos_level2_atc'></a>"
   ]
  },
  {
   "cell_type": "markdown",
   "metadata": {},
   "source": [
    "## 2. ICOS Level 2 Atmospheric Data - Importing Python Modules and Functions\n",
    "This part contains Python code to import all necessary Python modules and functions to retrieve, store, process and plot ICOS Level-1 and Level-2 Atmospheric Data. \n",
    "<br>\n",
    "<br>\n",
    "<br>"
   ]
  },
  {
   "cell_type": "code",
   "execution_count": null,
   "metadata": {},
   "outputs": [],
   "source": [
    "#Run notebook with tools:\n",
    "%run as_stat_tools/icos_as_stat_tools.ipynb"
   ]
  },
  {
   "cell_type": "code",
   "execution_count": null,
   "metadata": {},
   "outputs": [],
   "source": [
    "#Get ICOS station info for selected domain(s):\n",
    "atm_stations = station.getList(['as'])"
   ]
  },
  {
   "cell_type": "markdown",
   "metadata": {},
   "source": [
    "<a id='exploring_atc_l2'></a>"
   ]
  },
  {
   "cell_type": "markdown",
   "metadata": {},
   "source": [
    "## 2.1. Exploring - ICOS Level 2 Atmospheric Data\n",
    "This part is dedicated on displaying observations plots for different tracers at different stations. It is subdivided in three parts. In the first part, [Exploring (Single Station - Single Tracer)](#exploring_single_station_single_tracer_atc_l2), it is possible to view plots for one tracer and one station at a time. An interactive map with depicting the location of the chosen station is also included. The second part [Exploring (Single Station - Multiple Tracers)](#exploring_single_station_multiple_tracers_atc_l2) presents plots for one or more tracer observations from a specific station. Finally, the last part, [Exploring (Single Tracer - Multiple Stations)](#exploring_single_tracer_multiple_stations_atc_l2), presents tracer observations from one or more stations in the same plot.\n",
    "\n",
    "<br>\n",
    "\n",
    "Each part is subdivided into two parts; the first part contains explanatory text regarding how the result was computed and how to use the interactive elements (i.e. widgets) of the plot, whilst the second part presents the Python code used.\n",
    "\n",
    "<br>\n",
    "<br>\n",
    "<div style=\"text-align: right\"> \n",
    "    <a href=\"#introduction\">Back to top</a>\n",
    "</div>"
   ]
  },
  {
   "cell_type": "markdown",
   "metadata": {},
   "source": [
    "<a id='exploring_single_station_single_tracer_atc_l2'></a>"
   ]
  },
  {
   "cell_type": "markdown",
   "metadata": {},
   "source": [
    "### 2.1.1. Exploring (Single Station - Single Tracer) - ICOS Level 2 Atmospheric Data\n",
    "This part is dedicated on exploring the tracer-observations for one station at a time. The user can select to view results for different tracers and different stations in different colors. The selection is handled by a set of dropdown-list widgets. The result of the selection becomes visible once the \"Update Plot\"-button is clicked. Note that the color of the \"Update Plot\"-button is light blue when the system is processing.\n",
    "\n",
    "An interactive toolbar is available, on the right side of the plot, with tools such as _pan_, _BoxZoom_ (zoom-in by rectangle), _WheelZoom_ (zoom-in by scrolling), _undo_(undo the last change in the plot's state), _redo_(redo the last change in the plot's state), _reset_ (reset plot to initial state), _save_ (save plot as png) and _hover_ (display tooltips on hover-events). The tools in the toolbar can be activated or deactivated by _on-click_-events. An active tool is highligted with a blue line on the left side of its corresponding icon.\n",
    "\n",
    "The selection of a station in the dropdown list also produces an interactive map with the locations of all stations. The location of the selected station is highlighted. It is possible to get additional information about a station by hovering over its location on the map. To get more detailed information click on the station's location and be redirected to the station's landing page hosted on ICOS Carbon Portal. The location of the \"clicked\" station will be highlighted in light gray. Click on _reset_ to set the map to its initial state. \n",
    "\n",
    "An interactive toolbar is included on the right side of the map. Note that the _TapTool_ has to be active in order to be redirected to the selected station's landing page on the ICOS Carbon Portal. The same goes for the _HoverTool_.\n",
    "\n",
    "<br>\n",
    "<div style=\"text-align: right\"> \n",
    "    <a href=\"#exploring_atc_l2\">[Back to exploring]</a>\n",
    "</div>\n",
    "<br>\n",
    "<br>"
   ]
  },
  {
   "cell_type": "markdown",
   "metadata": {},
   "source": [
    "<a id='exploring_plot_atc_l2'></a>\n",
    "#### 2.1.1.2. Exploring (Single Station - Single Tracer) - ICOS Level 2 Atmospheric Data ---> Plot"
   ]
  },
  {
   "cell_type": "code",
   "execution_count": null,
   "metadata": {},
   "outputs": [],
   "source": [
    "#Call function to display widgets for the corresponding plot type:\n",
    "create_widgets_exploring(atm_stations)"
   ]
  },
  {
   "cell_type": "markdown",
   "metadata": {},
   "source": [
    "<div style=\"text-align: right\"> \n",
    "    <a href=\"#introduction\">Back to top</a>\n",
    "</div>\n",
    "<br>"
   ]
  },
  {
   "cell_type": "markdown",
   "metadata": {},
   "source": [
    "<a id='exploring_single_station_multiple_tracers_atc_l2'></a>"
   ]
  },
  {
   "cell_type": "markdown",
   "metadata": {},
   "source": [
    "### 2.2. Exploring (Single Station - Multiple Tracers) - ICOS Level 2 Atmospheric Data\n",
    "This part is dedicated on exploring the tracer-observations for one station at a time. The user can select to view results for different tracers and different stations. The selection is handled by a set of dropdown-list widgets. It is possible to select and view results for more than one tracers. Multiple values can be selected with _shift_ and/or _ctrl_ (or _command_) pressed and _mouse clicks_. The result of the selection becomes visible once the \"Update plot\"-button is clicked. \n",
    "\n",
    "An interactive toolbar is available, on the right side of theplot, with tools such as _pan_, _ZoomBox_ (zoom-in by rectangle), _WheelZoom_ (zoom-in by scrolling), _undo_ (undo the last change in the plot's state), _redo_ (redo the last change in the plot's state), _reset_ (reset plot to initial state), _save_ (save plot as png) and _hover_ (display tooltips on hover-events). The tools in the toolbar can be activated or deactivated by _on-click_-events. An active tool is highligted with a blue line on the left side of its corresponding icon. \n",
    "\n",
    "\n",
    "<br>\n",
    "<div style=\"text-align: right\"> \n",
    "    <a href=\"#exploring_atc_l2\">[Back to exploring]</a>\n",
    "</div>"
   ]
  },
  {
   "cell_type": "markdown",
   "metadata": {},
   "source": [
    "<a id='exploring_single_station_multiple_tracers_plot_atc_l2'></a>\n",
    "#### Exploring (Single Station - Multiple Tracers) -  ICOS Level 2 Atmospheric Data ---> Plot"
   ]
  },
  {
   "cell_type": "code",
   "execution_count": null,
   "metadata": {
    "scrolled": true
   },
   "outputs": [],
   "source": [
    "#Call widget-function:\n",
    "create_widgets_exploring_multiple_tracers(atm_stations)"
   ]
  },
  {
   "cell_type": "markdown",
   "metadata": {},
   "source": [
    "<div style=\"text-align: right\"> \n",
    "    <a href=\"#introduction\">Back to top</a>\n",
    "</div>\n",
    "<br>\n",
    "<br>"
   ]
  },
  {
   "cell_type": "markdown",
   "metadata": {},
   "source": [
    "<a id='exploring_single_tracer_multiple_stations_atc_l2'></a>"
   ]
  },
  {
   "cell_type": "markdown",
   "metadata": {},
   "source": [
    "### 2.3. Exploring (Single Tracer - Multiple Stations) -  ICOS Level 2 Atmospheric Data\n",
    "\n",
    "This part is dedicated on exploring tracer-observations for one or more stations at a time. The user can select to view results for different tracers and different stations. The selection is handled by a set of dropdown-list widgets. It is possible to select and view results for one tracer for more than one stations. Multiple values can be selected with shift and/or ctrl (or command) pressed and mouse clicks. The result of the selection becomes visible once the \"Update plot\"-button is clicked.\n",
    "\n",
    "An interactive toolbar is available, on the right side of theplot, with tools such as pan, ZoomBox (zoom-in by rectangle), WheelZoom (zoom-in by scrolling), undo (undo the last change in the plot's state), redo (redo the last change in the plot's state), reset (reset plot to initial state), save (save plot as png) and hover (display tooltips on hover-events). The tools in the toolbar can be activated or deactivated by on-click-events. An active tool is highligted with a blue line on the left side of its corresponding icon. \n",
    "\n",
    "\n",
    "<br>\n",
    "<div style=\"text-align: right\"> \n",
    "    <a href=\"#exploring_atc_l2\">[Back to exploring]</a>\n",
    "</div>"
   ]
  },
  {
   "cell_type": "markdown",
   "metadata": {},
   "source": [
    "<a id='exploring_single_tracer_multiple_stations_plot_atc_l2'></a>\n",
    "#### Exploring (Single Tracer - Multiple Stations) -  ICOS Level 2 Atmospheric Data ---> Plot\n",
    "\n",
    "Bokeh does not yet support multi-column/multi-row legends\n",
    "Therefore, for now, it is advised that the selection in the multi-select widget is limited to max 6 stations."
   ]
  },
  {
   "cell_type": "code",
   "execution_count": null,
   "metadata": {},
   "outputs": [],
   "source": [
    "#Call widget-function:\n",
    "create_widgets_exploring_multiple_stations(atm_stations)"
   ]
  },
  {
   "cell_type": "markdown",
   "metadata": {},
   "source": [
    "<div style=\"text-align: right\"> \n",
    "<a href=\"#introduction\">Back to top</a>\n",
    "</div>\n",
    "<br>\n",
    "<br>\n",
    "<br>"
   ]
  },
  {
   "cell_type": "markdown",
   "metadata": {},
   "source": [
    "<a id='focusing_atc_l2'></a>"
   ]
  },
  {
   "cell_type": "markdown",
   "metadata": {},
   "source": [
    "## 3. Focusing on Data -  ICOS Level 2 Atmospheric Data\n",
    "In this part it is possible to focus on data from one station in higher detail, check for irregularities or specific parts of interest. Two plots with data from the same station are displayed. The user can select an area of interest in the first graph using the \"box-zoom\", \"wheel-zoom\" or \"pan\" tool. This will trigger two events;  the content of the first plot will change to only show the selected area and a transparent rectangle will appear in the second plot, hihglighting the selected area of the first plot. It is possible to turn layers on or off in both plots using the interactive legend. The plots can show results for different stations. The choice of station is handled by the single-selection tool (dropdown list). Both plots can be saved as separate png images, by clicking on the \"save\" tool in their respective interactive toolbars. Additionally, the first plot includes tools for reseting the plot to its initial state and showing tooltips on hover-events.\n",
    "\n",
    "<br>\n",
    "<div style=\"text-align: right\"> \n",
    "    <a href=\"#introduction\">Back to top</a>\n",
    "</div>"
   ]
  },
  {
   "cell_type": "markdown",
   "metadata": {},
   "source": [
    "<a id='focusing_plot_atc_l2'></a>\n",
    "###  Focusing - ICOS Level 2 Atmospheric Data ---> Plot\n"
   ]
  },
  {
   "cell_type": "code",
   "execution_count": null,
   "metadata": {},
   "outputs": [],
   "source": [
    "#Call function to display widgets for the corresponding plot type:\n",
    "create_widgets_focusing(atm_stations)"
   ]
  },
  {
   "cell_type": "markdown",
   "metadata": {},
   "source": [
    "<br>\n",
    "<div style=\"text-align: right\"> \n",
    "    <a href=\"#introduction\">Back to top</a>\n",
    "</div>\n",
    "<br>\n",
    "<br>\n",
    "<br>"
   ]
  },
  {
   "cell_type": "markdown",
   "metadata": {},
   "source": [
    "<a id='statistics_atc_l2'></a>"
   ]
  },
  {
   "cell_type": "markdown",
   "metadata": {},
   "source": [
    "## 4. Statistics - ICOS Level 2 Atmospheric Data\n",
    "This part shows statistical information over data for one station at a time. The first section is dedicated to showing some [basic statistics](#basic_statistics_atc_l2) (e.g. min, max, mean and standard deviation) per station as tabular output. In the second section, it is possible to compute the [correlation](#statistics_correlation_atc_l2) between different tracers measured at the same or at different stations. The third section includes a tool that implements a [\"smoothing-function\"](#statistics_smoothing_atc_l2) over the data. The \"smoothing\" is applied over instances of the time variable. \n",
    "\n",
    "<div style=\"text-align: right\"> \n",
    "    <a href=\"#introduction\">Back to top</a>\n",
    "</div>"
   ]
  },
  {
   "cell_type": "markdown",
   "metadata": {},
   "source": [
    "<a id='basic_statistics_atc_l2'></a>"
   ]
  },
  {
   "cell_type": "markdown",
   "metadata": {},
   "source": [
    "### 4.1. Statistics - Basic Statistics - ICOS Level 2 Atmospheric Data\n",
    "This section presents tabular output of basic statistics (e.g. min, max, mean, standard deviation) per station. The selection of tracer and station is handled by two selection-widgets.\n",
    "\n",
    "<div style=\"text-align: right\"> \n",
    "    <a href=\"#statistics_atc_l2\">[Back to statistics]</a>\n",
    "</div>"
   ]
  },
  {
   "cell_type": "markdown",
   "metadata": {},
   "source": [
    "<a id='basic_stat_table_atc_l2'></a>\n",
    "#### Basic Statistics -  ICOS Level 2 Atmospheric Data ---> Output Table"
   ]
  },
  {
   "cell_type": "code",
   "execution_count": null,
   "metadata": {},
   "outputs": [],
   "source": [
    "#Call function to display widgets for the corresponding output type:\n",
    "create_widgets_basic_stat(atm_stations)"
   ]
  },
  {
   "cell_type": "markdown",
   "metadata": {},
   "source": [
    "<div style=\"text-align: right\"> \n",
    "    <a href=\"#introduction\">Back to top</a>\n",
    "</div>\n",
    "<br>\n",
    "<br>\n",
    "<br>"
   ]
  },
  {
   "cell_type": "markdown",
   "metadata": {},
   "source": [
    "<a id='statistics_correlation_atc_l2'></a>"
   ]
  },
  {
   "cell_type": "markdown",
   "metadata": {},
   "source": [
    "### 4.2. Statistics - Correlation - ICOS Level 2 Atmospheric Data\n",
    "This section is dedicated on computing the correlation between different tracers:\n",
    "1. for a given station and a given sampling height (a.g.l.)\n",
    "2. at different sampling heights (a.g.l.) of the same station\n",
    "3. at different stations at different sampling heights (a.g.l.)\n",
    "\n",
    "<div style=\"text-align: right\"> \n",
    "    <a href=\"#statistics_atc_l2\">[Back to statistics]</a>\n",
    "</div>"
   ]
  },
  {
   "cell_type": "markdown",
   "metadata": {},
   "source": [
    "<a id='statistics_corr_table_atc_l2'></a>\n",
    "#### Correlation - ICOS Level 2 Atmospheric Data --- > Output Table"
   ]
  },
  {
   "cell_type": "code",
   "execution_count": null,
   "metadata": {},
   "outputs": [],
   "source": [
    "#Call function to create widgets:\n",
    "create_widgets_correlation_multiple_tracers_multiple_stations(atm_stations)"
   ]
  },
  {
   "cell_type": "markdown",
   "metadata": {},
   "source": [
    "<br>\n",
    "<div style=\"text-align: right\"> \n",
    "    <a href=\"#introduction\">Back to top</a>\n",
    "</div>\n",
    "<br>\n",
    "<br>"
   ]
  },
  {
   "cell_type": "markdown",
   "metadata": {},
   "source": [
    "<a id='statistics_smoothing_atc_l2'></a>"
   ]
  },
  {
   "cell_type": "markdown",
   "metadata": {},
   "source": [
    "### 4.3. Statistics - Smoothing -  ICOS Level 2 Atmospheric Data\n",
    "This section includes a tool that allows the user to plot averaged observation values per tracer and station. The observation values can be averaged over a window of a selected number of days. A slider widget controls the selection of total number of days. It is possible to select between 0 and 90 days. Two single select widgets are used to control the selection of station and tracer category correspondigly.\n",
    "\n",
    "<div style=\"text-align: right\"> \n",
    "    <a href=\"#statistics_atc_l2\">[Back to statistics]</a>\n",
    "</div>"
   ]
  },
  {
   "cell_type": "markdown",
   "metadata": {},
   "source": [
    "<a id='smoothing_plot_atc_l2'></a>\n",
    "#### Smoothing - ICOS Level 2 Atmospheric Data ---> Plot"
   ]
  },
  {
   "cell_type": "code",
   "execution_count": null,
   "metadata": {},
   "outputs": [],
   "source": [
    "#Call function to display widgets for the corresponding output type:\n",
    "create_smoothing_widgets(atm_stations)"
   ]
  },
  {
   "cell_type": "markdown",
   "metadata": {},
   "source": [
    "<div style=\"text-align: right\"> \n",
    "    <a href=\"#introduction\">Back to top</a>\n",
    "</div>\n",
    "<br>\n",
    "<br>\n",
    "<br>"
   ]
  },
  {
   "cell_type": "markdown",
   "metadata": {},
   "source": [
    "<a id='comparing_atc_l2'></a>"
   ]
  },
  {
   "cell_type": "markdown",
   "metadata": {},
   "source": [
    "## 5. Comparing plots from multiple stations - ICOS Level 2 Atmospheric Data\n",
    "In this part it is possible to compare plots from multiple stations by plotting them one under another. The selection of stations is handled by the multiselect-widget. If you wish to select more than one station, keep the CONTROL-key (alt. COMMAND-key) pressed and continue selecting stations by mouse-click. Once all desired stations are selected click on the \"Update Plot/s\" button to view the result.\n",
    "\n",
    "It is also possible to select consecutive stations by holding down the SHIFT-key and clicking with the mouse on the first and last station.\n",
    "\n",
    "<br>\n",
    "<br>\n",
    "<div style=\"text-align: right\"> \n",
    "    <a href=\"#introduction\">Back to top</a>\n",
    "</div>"
   ]
  },
  {
   "cell_type": "markdown",
   "metadata": {},
   "source": [
    "<a id='comparing_plot_atc_l2'></a>\n",
    "### Comparing - ICOS Level 2 Atmospheric Data ---> Plot"
   ]
  },
  {
   "cell_type": "code",
   "execution_count": null,
   "metadata": {
    "scrolled": false
   },
   "outputs": [],
   "source": [
    "#Call function to display widgets for the corresponding output type:\n",
    "create_widgets_comparing(atm_stations)"
   ]
  },
  {
   "cell_type": "markdown",
   "metadata": {},
   "source": [
    "<div style=\"text-align: right\"> \n",
    "    <a href=\"#introduction\">Back to top</a>\n",
    "</div>\n",
    "<br>\n",
    "<br>\n",
    "<br>"
   ]
  },
  {
   "cell_type": "markdown",
   "metadata": {},
   "source": [
    "<a id='icos_level1_atc'></a>"
   ]
  },
  {
   "cell_type": "markdown",
   "metadata": {},
   "source": [
    "## 6. ICOS Level 1 - Near Real Time (NRT) - Atmospheric Data\n",
    "This part is dedicated on ICOS Near Real Time (Level 1) Atmospheric Data. Data that belong to this category has not yet undergone all the quality checks. It is possible to plot Near Real Time Data together with Level 2 Data for a given station and compare. \n",
    "\n",
    "<br>\n",
    "<br>\n",
    "<div style=\"text-align: right\"> \n",
    "    <a href=\"#introduction\">Back to top</a>\n",
    "</div>"
   ]
  },
  {
   "cell_type": "markdown",
   "metadata": {},
   "source": [
    "<a id='icos_level1_atc_plot'></a>\n",
    "### ICOS Level 1 - Near Real Time (NRT) - Atmospheric Data ---> Plot\n",
    "<br>\n"
   ]
  },
  {
   "cell_type": "code",
   "execution_count": null,
   "metadata": {
    "scrolled": false
   },
   "outputs": [],
   "source": [
    "##Call function to display widgets for the corresponding output type:\n",
    "create_widgets_L1(atm_stations)"
   ]
  },
  {
   "cell_type": "markdown",
   "metadata": {},
   "source": [
    "<div style=\"text-align: right\"> \n",
    "    <a href=\"#introduction\">Back to top</a>\n",
    "</div>\n",
    "<br>\n",
    "<br>\n",
    "<br>"
   ]
  },
  {
   "cell_type": "markdown",
   "metadata": {},
   "source": [
    "<a id='create_nb_account_info'></a>"
   ]
  },
  {
   "cell_type": "markdown",
   "metadata": {},
   "source": [
    "## 7. Get Access to ICOS Jupyter Notebook Developing Environment\n",
    "For more information about ICOS Jupyter solutions, please visit: https://www.icos-cp.eu/data-services/tools/jupyter-notebook\n",
    "\n",
    "If you wish to extend the functionality of the already existent ICOS notebooks or develop your own Jupyter notebooks in collaboration with the ICOS community, apply for an account here: https://www.icos-cp.eu/jupyter-personal-account-application\n",
    "\n",
    "For jupyter-related comments and questions, send us an email to: <jupyter-info@icos-cp.eu>.\n",
    "\n",
    "<br>\n",
    "<br>\n",
    "<div style=\"text-align: right\"> \n",
    "    <a href=\"#introduction\">Back to top</a>\n",
    "</div>\n",
    "<br>\n",
    "<br>\n",
    "<br>"
   ]
  }
 ],
 "metadata": {
  "kernelspec": {
   "display_name": "Python 3",
   "language": "python",
   "name": "python3"
  },
  "language_info": {
   "codemirror_mode": {
    "name": "ipython",
    "version": 3
   },
   "file_extension": ".py",
   "mimetype": "text/x-python",
   "name": "python",
   "nbconvert_exporter": "python",
   "pygments_lexer": "ipython3",
   "version": "3.8.6"
  },
  "toc": {
   "base_numbering": 1,
   "nav_menu": {},
   "number_sections": false,
   "sideBar": true,
   "skip_h1_title": true,
   "title_cell": "Table of Contents",
   "title_sidebar": "Contents",
   "toc_cell": false,
   "toc_position": {},
   "toc_section_display": true,
   "toc_window_display": false
  }
 },
 "nbformat": 4,
 "nbformat_minor": 2
}
