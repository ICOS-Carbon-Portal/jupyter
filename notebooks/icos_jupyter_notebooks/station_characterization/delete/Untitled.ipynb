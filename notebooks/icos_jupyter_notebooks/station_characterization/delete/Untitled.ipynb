{
 "cells": [
  {
   "cell_type": "code",
   "execution_count": 3,
   "id": "south-intermediate",
   "metadata": {},
   "outputs": [],
   "source": [
    "a = get_ipython().__class__.__name__"
   ]
  },
  {
   "cell_type": "code",
   "execution_count": 4,
   "id": "vocational-illustration",
   "metadata": {},
   "outputs": [
    {
     "data": {
      "text/plain": [
       "'ZMQInteractiveShell'"
      ]
     },
     "execution_count": 4,
     "metadata": {},
     "output_type": "execute_result"
    }
   ],
   "source": [
    "a"
   ]
  },
  {
   "cell_type": "code",
   "execution_count": 5,
   "id": "known-burton",
   "metadata": {},
   "outputs": [],
   "source": [
    "cfg = get_ipython().config "
   ]
  },
  {
   "cell_type": "code",
   "execution_count": 6,
   "id": "prescribed-chuck",
   "metadata": {},
   "outputs": [
    {
     "data": {
      "text/plain": [
       "{'IPKernelApp': {'connection_file': '/home/jovyan/.local/share/jupyter/runtime/kernel-b0676708-9cf4-479c-831a-f488da29a7f9.json'}}"
      ]
     },
     "execution_count": 6,
     "metadata": {},
     "output_type": "execute_result"
    }
   ],
   "source": [
    "cfg"
   ]
  },
  {
   "cell_type": "code",
   "execution_count": 9,
   "id": "pediatric-stupid",
   "metadata": {},
   "outputs": [
    {
     "name": "stdout",
     "output_type": "stream",
     "text": [
      "ZMQInteractiveShell(InteractiveShell) options\n",
      "-------------------------------------------\n",
      "ZMQInteractiveShell.ast_node_interactivity=<Enum>\n",
      "    'all', 'last', 'last_expr' or 'none', 'last_expr_or_assign' specifying which\n",
      "    nodes should be run interactively (displaying output from expressions).\n",
      "    Choices: any of ['all', 'last', 'last_expr', 'none', 'last_expr_or_assign']\n",
      "    Current: 'last_expr'\n",
      "ZMQInteractiveShell.ast_transformers=<list-item-1>...\n",
      "    A list of ast.NodeTransformer subclass instances, which will be applied to\n",
      "    user input before code is run.\n",
      "    Current: []\n",
      "ZMQInteractiveShell.autoawait=<Bool>\n",
      "    Automatically run await statement in the top level repl.\n",
      "    Current: True\n",
      "ZMQInteractiveShell.autocall=<Enum>\n",
      "    Make IPython automatically call any callable object even if you didn't type\n",
      "    explicit parentheses. For example, 'str 43' becomes 'str(43)' automatically.\n",
      "    The value can be '0' to disable the feature, '1' for 'smart' autocall, where\n",
      "    it is not applied if there are no more arguments on the line, and '2' for\n",
      "    'full' autocall, where all callable objects are automatically called (even\n",
      "    if no arguments are present).\n",
      "    Choices: any of [0, 1, 2]\n",
      "    Current: 0\n",
      "ZMQInteractiveShell.automagic=<Bool>\n",
      "    Enable magic commands to be called without the leading %.\n",
      "    Current: True\n",
      "ZMQInteractiveShell.banner1=<Unicode>\n",
      "    The part of the banner to be printed before the profile\n",
      "    Current: \"Python 3.8.6 | packaged by conda-forge | (default, Dec 26 2020, 05:05:16) \\nType 'copyright', 'credits' or 'license' for more information\\nIPython 7.18.1 -- An enhanced Interactive Python. Type '?' for help.\\n\"\n",
      "ZMQInteractiveShell.banner2=<Unicode>\n",
      "    The part of the banner to be printed after the profile\n",
      "    Current: ''\n",
      "ZMQInteractiveShell.cache_size=<Int>\n",
      "    Set the size of the output cache.  The default is 1000, you can change it\n",
      "    permanently in your config file.  Setting it to 0 completely disables the\n",
      "    caching system, and the minimum value accepted is 3 (if you provide a value\n",
      "    less than 3, it is reset to 0 and a warning is issued).  This limit is\n",
      "    defined because otherwise you'll spend more time re-flushing a too small\n",
      "    cache than working\n",
      "    Current: 1000\n",
      "ZMQInteractiveShell.color_info=<Bool>\n",
      "    Use colors for displaying information about objects. Because this\n",
      "    information is passed through a pager (like 'less'), and some pagers get\n",
      "    confused with color codes, this capability can be turned off.\n",
      "    Current: True\n",
      "ZMQInteractiveShell.colors=<CaselessStrEnum>\n",
      "    Set the color scheme (NoColor, Neutral, Linux, or LightBG).\n",
      "    Choices: any of ['Neutral', 'NoColor', 'LightBG', 'Linux'] (case-insensitive)\n",
      "    Current: 'Neutral'\n",
      "ZMQInteractiveShell.debug=<Bool>\n",
      "    Current: False\n",
      "ZMQInteractiveShell.disable_failing_post_execute=<Bool>\n",
      "    Don't call post-execute functions that have failed in the past.\n",
      "    Current: False\n",
      "ZMQInteractiveShell.display_page=<Bool>\n",
      "    If True, anything that would be passed to the pager will be displayed as\n",
      "    regular output instead.\n",
      "    Current: False\n",
      "ZMQInteractiveShell.enable_html_pager=<Bool>\n",
      "    (Provisional API) enables html representation in mime bundles sent to\n",
      "    pagers.\n",
      "    Current: False\n",
      "ZMQInteractiveShell.history_length=<Int>\n",
      "    Total length of command history\n",
      "    Current: 10000\n",
      "ZMQInteractiveShell.history_load_length=<Int>\n",
      "    The number of saved history entries to be loaded into the history buffer at\n",
      "    startup.\n",
      "    Current: 1000\n",
      "ZMQInteractiveShell.ipython_dir=<Unicode>\n",
      "    Current: '/home/jovyan/.ipython'\n",
      "ZMQInteractiveShell.logappend=<Unicode>\n",
      "    Start logging to the given file in append mode. Use `logfile` to specify a\n",
      "    log file to **overwrite** logs to.\n",
      "    Current: ''\n",
      "ZMQInteractiveShell.logfile=<Unicode>\n",
      "    The name of the logfile to use.\n",
      "    Current: ''\n",
      "ZMQInteractiveShell.logstart=<Bool>\n",
      "    Start logging to the default log file in overwrite mode. Use `logappend` to\n",
      "    specify a log file to **append** logs to.\n",
      "    Current: False\n",
      "ZMQInteractiveShell.loop_runner=<Any>\n",
      "    Select the loop runner that will be used to execute top-level asynchronous\n",
      "    code\n",
      "    Current: <IPython.core.async_helpers._AsyncIORunner object at 0x7fb41ddb1220>\n",
      "ZMQInteractiveShell.object_info_string_level=<Enum>\n",
      "    Choices: any of [0, 1, 2]\n",
      "    Current: 0\n",
      "ZMQInteractiveShell.pdb=<Bool>\n",
      "    Automatically call the pdb debugger after every exception.\n",
      "    Current: False\n",
      "ZMQInteractiveShell.prompt_in1=<Unicode>\n",
      "    Deprecated since IPython 4.0 and ignored since 5.0, set\n",
      "    TerminalInteractiveShell.prompts object directly.\n",
      "    Current: 'In [\\\\#]: '\n",
      "ZMQInteractiveShell.prompt_in2=<Unicode>\n",
      "    Deprecated since IPython 4.0 and ignored since 5.0, set\n",
      "    TerminalInteractiveShell.prompts object directly.\n",
      "    Current: '   .\\\\D.: '\n",
      "ZMQInteractiveShell.prompt_out=<Unicode>\n",
      "    Deprecated since IPython 4.0 and ignored since 5.0, set\n",
      "    TerminalInteractiveShell.prompts object directly.\n",
      "    Current: 'Out[\\\\#]: '\n",
      "ZMQInteractiveShell.prompts_pad_left=<Bool>\n",
      "    Deprecated since IPython 4.0 and ignored since 5.0, set\n",
      "    TerminalInteractiveShell.prompts object directly.\n",
      "    Current: True\n",
      "ZMQInteractiveShell.quiet=<Bool>\n",
      "    Current: False\n",
      "ZMQInteractiveShell.separate_in=<SeparateUnicode>\n",
      "    Current: '\\n'\n",
      "ZMQInteractiveShell.separate_out=<SeparateUnicode>\n",
      "    Current: ''\n",
      "ZMQInteractiveShell.separate_out2=<SeparateUnicode>\n",
      "    Current: ''\n",
      "ZMQInteractiveShell.show_rewritten_input=<Bool>\n",
      "    Show rewritten input, e.g. for autocall.\n",
      "    Current: True\n",
      "ZMQInteractiveShell.sphinxify_docstring=<Bool>\n",
      "    Enables rich html representation of docstrings. (This requires the docrepr\n",
      "    module).\n",
      "    Current: False\n",
      "ZMQInteractiveShell.wildcards_case_sensitive=<Bool>\n",
      "    Current: True\n",
      "ZMQInteractiveShell.xmode=<CaselessStrEnum>\n",
      "    Switch modes for the IPython exception handlers.\n",
      "    Choices: any of ['Context', 'Plain', 'Verbose', 'Minimal'] (case-insensitive)\n",
      "    Current: 'Context'\n"
     ]
    }
   ],
   "source": [
    "%config ZMQInteractiveShell"
   ]
  },
  {
   "cell_type": "code",
   "execution_count": null,
   "id": "adjacent-anchor",
   "metadata": {},
   "outputs": [],
   "source": []
  }
 ],
 "metadata": {
  "kernelspec": {
   "display_name": "Python 3",
   "language": "python",
   "name": "python3"
  },
  "language_info": {
   "codemirror_mode": {
    "name": "ipython",
    "version": 3
   },
   "file_extension": ".py",
   "mimetype": "text/x-python",
   "name": "python",
   "nbconvert_exporter": "python",
   "pygments_lexer": "ipython3",
   "version": "3.8.6"
  }
 },
 "nbformat": 4,
 "nbformat_minor": 5
}
