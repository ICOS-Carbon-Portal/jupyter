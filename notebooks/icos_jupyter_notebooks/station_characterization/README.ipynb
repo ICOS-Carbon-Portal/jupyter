{
 "cells": [
  {
   "cell_type": "markdown",
   "metadata": {},
   "source": [
    "# Content\n",
    "This folder contains everything needed to run the station characterization notebook \n",
    "[station_characterization.ipynb](./station_characterization.ipynb).\n",
    "\n",
    "## Background\n",
    "\n",
    "The aim of the ICOS atmosphere station characterization tool is to provide users of ICOS data with basic information on what potentially influences \n",
    "the tracer concentrations at the station and to support them in the selection of stations. The station characterization tool is based on the stations’ \n",
    "influence regions, also called footprints. Footprints are calculated by atmospheric transport models – the STILT (Stochastic Time Inverted Lagrangian \n",
    "Transport model) model in this case – and indicate the contribution of the surface exchange fluxes to the atmospheric concentration of the tracer.\n",
    "\n",
    "As these footprints can be computed on demand in the ICOS footprint tool ([on demand calculator](https://stilt.icos-cp.eu/worker/)), the characterization \n",
    "can be produced also for hypothetical stations, e.g. to aid in the process of picking a station location. \n",
    "\n",
    "The idea is that these footprints can be used to characterize the average sensitivity of a station to different influences, i.a.: \n",
    "\n",
    "* anthropogenic CO2 emissions based on the EDGAR (Emission Database for Global Atmospheric Research) emission inventory,\n",
    "* biospheric CO2 uptake and respiration based on the VPRM (Vegetation Photosynthesis and Respiration Model) model,\n",
    "* land cover (e.g. forest, crop land, pastures, urban, ocean) based on the CORINE (Coordination of Information on the Environment) classification,\n",
    "* population density based on GEOSTAT, \n",
    "* emissions from point sources based on the E-PRTR (The European Pollutant Release and Transfer Register) database\n",
    "\n",
    "## Output figures\n",
    "\n",
    "The station’s total average sensitivity and sensitivity within certain distances and directions of the station are further investigated by aggregating \n",
    "the footprints on different time scales (e.g. seasons, months or specific dates). The same type of aggregation is used to visualize the sensitivity to\n",
    "population and point source emissions. Sensitivities to different land cover classes are visualized in a bar graph showing sensitivities by direction (N, NE, E, SE, S, SW, W, NW)\n",
    "as well as a polar graph where smaller \"direction binning\" is possible. All the different influencers except land cover are also included in a \n",
    "seasonal variations table. Averages for a whole meterological year (December of the year before the user-selected start date until December of the user selected start date)\n",
    "are compared to the different seasons. The same influencers are also included in the multiple variables graph where a handful of ICOS stations are used used as reference\n",
    "for the user-selected station. The selected station is placed on the y-axis in relation to the minimum and maximum influencer values of the ICOS stations. \n",
    "\n",
    "The figures can be saved, and in the future there will be an option to use the saved figures to generate the same type of station characterization PDFs as on the \n",
    "station landing pages.\n",
    "\n",
    "## License\n",
    "* Copyright © 2019-2020 ICOS ERIC\n",
    "* This work is licensed under a\n",
    "Creative Commons Attribution 4.0 International License ([CC BY 4.0](http://creativecommons.org/licenses/by/4.0/)).\n"
   ]
  },
  {
   "cell_type": "code",
   "execution_count": null,
   "metadata": {},
   "outputs": [],
   "source": []
  }
 ],
 "metadata": {
  "kernelspec": {
   "display_name": "Python 3",
   "language": "python",
   "name": "python3"
  },
  "language_info": {
   "codemirror_mode": {
    "name": "ipython",
    "version": 3
   },
   "file_extension": ".py",
   "mimetype": "text/x-python",
   "name": "python",
   "nbconvert_exporter": "python",
   "pygments_lexer": "ipython3",
   "version": "3.8.5"
  },
  "toc": {
   "base_numbering": 1,
   "nav_menu": {},
   "number_sections": false,
   "sideBar": true,
   "skip_h1_title": false,
   "title_cell": "Table of Contents",
   "title_sidebar": "Contents",
   "toc_cell": false,
   "toc_position": {},
   "toc_section_display": true,
   "toc_window_display": false
  }
 },
 "nbformat": 4,
 "nbformat_minor": 4
}
