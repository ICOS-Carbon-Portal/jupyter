{
 "cells": [
  {
   "cell_type": "markdown",
   "id": "sunrise-cooperative",
   "metadata": {},
   "source": [
    "<img src=\"logos/Icos_cp_Logo_RGB.svg\" align=\"right\" width=\"400\"> <br clear=\"all\" />\n",
    "\n",
    "\n",
    "# Visualization of average footprints\n",
    "\n",
    "\n",
    "For questions and feedback contact ida.storm@nateko.lu.se\n",
    "\n",
    "To use the tool, <span style=\"background-color: #FFFF00\">run all the Notebook cells</span> (see image below).\n",
    "\n",
    "<img src=\"network_characterization/screenshots_for_into_texts/how_to_run.PNG\" align=\"left\"> <br clear=\"all\" />\n",
    "\n",
    "\n",
    "\n",
    "#### STILT footprints\n",
    "STILT is implemented as an <a href=\"https://www.icos-cp.eu/data-services/tools/stilt-footprint\" target=\"blank\">online tool</a> at the ICOS Carbon Portal. Output footprints are presented on a grid with 1/12×1/8 degrees cells (approximately 10km x 10km) where the cell values represent the cell area’s estimated surface influence (“sensitivity”) in ppm / (μmol/ (m²s)) on the atmospheric tracer concentration at the station. Individual footprints are generated every three hours (between 0:00 and 21:00 UTC) and are based on a 10-days backward simulation.\n",
    "\n",
    "On the ICOS Carbon Portal JupyterHub there are Notebook tools that use STILT footprints such as <a href=\"https://exploredata.icos-cp.eu/user/jupyter/notebooks/icos_jupyter_notebooks/station_characterization.ipynb\">station characterization</a> and <a href=\"https://exploredata.icos-cp.eu/user/jupyter/notebooks/icos_jupyter_notebooks/network_characterization.ipynb\">network characterization</a>. In the station characterization tool there is a visualization method that aggregates the surface influence into bins in different directions and at different distance intervals of the station. Without aggregation of the surface influence it can be difficult to understand to what degree different regions fluxes can be expected to influence the concentration at the station. In this tool an additional method to aggregate and visualize the surface influence is presented.  \n",
    "\n",
    "Example of average footprint for Hylemossa (tall tower - 150 meters - atmospheric station located in Sweden) displayed using logarithmic scale:\n",
    "\n",
    "<img src=\"network_characterization/screenshots_for_into_texts/hyltemossa_2018_log.PNG\" align=\"left\" width=\"400\"> <br clear=\"all\" />\n",
    "\n",
    "\n",
    "#### Percent of the footprint sensitivity  \n",
    "This tool generates a map with decreasing intensity in color from 10 to 90% of the footprint sensitivity. This is achieved by including the sensitivity values of the footprint cells in descending order until the 10%, 20%, 30% etc. is reached. In terms of Carbon Portal tools, it is important for an understanding of results in the network characterization tool where the user decides what percent of the footprint should be used for the analysis: The 10 days’ backward simulation means that a footprint can have a very large extent. When averaging many footprints almost the entire STILT model domain (Europe) will have influenced the concentration at the station at some point in time. Deciding on a percent threshold limits the footprint coverage to areas with more significant influence. This tool shows how the user choice will influence the result.\n",
    "\n",
    "Example using the 2018 average footprint for Hyltemossa: \n",
    "\n",
    "<img src=\"network_characterization/screenshots_for_into_texts/hyltemossa_2018.PNG\" align=\"left\" width=\"400\"> <br clear=\"all\" />\n"
   ]
  },
  {
   "cell_type": "code",
   "execution_count": null,
   "id": "based-tourism",
   "metadata": {},
   "outputs": [],
   "source": [
    "%%javascript\n",
    "IPython.OutputArea.prototype._should_scroll = function(lines) {\n",
    "    return false;\n",
    "}"
   ]
  },
  {
   "cell_type": "code",
   "execution_count": null,
   "id": "collaborative-overview",
   "metadata": {},
   "outputs": [],
   "source": [
    "import sys\n",
    "sys.path.append('./network_characterization')\n",
    "import gui_percent_aggregate_footprints"
   ]
  }
 ],
 "metadata": {
  "kernelspec": {
   "display_name": "Python 3",
   "language": "python",
   "name": "python3"
  },
  "language_info": {
   "codemirror_mode": {
    "name": "ipython",
    "version": 3
   },
   "file_extension": ".py",
   "mimetype": "text/x-python",
   "name": "python",
   "nbconvert_exporter": "python",
   "pygments_lexer": "ipython3",
   "version": "3.8.6"
  },
  "toc": {
   "base_numbering": 1,
   "nav_menu": {},
   "number_sections": false,
   "sideBar": true,
   "skip_h1_title": true,
   "title_cell": "Table of Contents",
   "title_sidebar": "Contents",
   "toc_cell": false,
   "toc_position": {},
   "toc_section_display": true,
   "toc_window_display": false
  }
 },
 "nbformat": 4,
 "nbformat_minor": 5
}
