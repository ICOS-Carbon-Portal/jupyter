{
 "cells": [
  {
   "cell_type": "markdown",
   "id": "connected-soviet",
   "metadata": {},
   "source": [
    "<img src=\"https://www.icos-cp.eu/sites/default/files/2017-11/ICOS_CP_logo.png\" width=\"300\" align=\"right\"/>\n",
    "<br>\n",
    "<br>\n",
    "<br> \n",
    "<br>\n",
    "<br>\n",
    "\n",
    "# Content\n",
    "\n",
    "This folder contain files for exectuing curve fitting methods for time series in Python. For a more detailed explanation of the methods visit [NOAA](https://www.esrl.noaa.gov/gmd/ccgg/mbl/crvfit/crvfit.html). The folder also contains a Jupyter Notebook with help functions in Python for using the curve fitting methods with data from ICOS stations and affiliated stations included in the Drought 2018 project.\n",
    "\n",
    "\n",
    "# References\n",
    "1. Thoning, K.W., P.P. Tans, and W.D. Komhyr, 1989, Atmospheric carbon dioxide at Mauna Loa Observatory, 2. Analysis of the NOAA/GMCC data, 1974 1985., J. Geophys. Res. ,94, 8549 8565.\n",
    "2. Press, WH; Teukolsky, SA; Vetterling, WT; Flannery, BP 1988, Numerical Recipes in C: The Art of Scientific Computing (1st ed.), New York: Cambridge University Press\n",
    "3. Koopmans, L.H. 1974, The Spectral Analysis of Time Series, Academic, San Diego, Calif."
   ]
  }
 ],
 "metadata": {
  "kernelspec": {
   "display_name": "Python 3",
   "language": "python",
   "name": "python3"
  },
  "language_info": {
   "codemirror_mode": {
    "name": "ipython",
    "version": 3
   },
   "file_extension": ".py",
   "mimetype": "text/x-python",
   "name": "python",
   "nbconvert_exporter": "python",
   "pygments_lexer": "ipython3",
   "version": "3.8.6"
  },
  "toc": {
   "base_numbering": 1,
   "nav_menu": {},
   "number_sections": false,
   "sideBar": true,
   "skip_h1_title": true,
   "title_cell": "Table of Contents",
   "title_sidebar": "Contents",
   "toc_cell": false,
   "toc_position": {},
   "toc_section_display": true,
   "toc_window_display": false
  }
 },
 "nbformat": 4,
 "nbformat_minor": 5
}
