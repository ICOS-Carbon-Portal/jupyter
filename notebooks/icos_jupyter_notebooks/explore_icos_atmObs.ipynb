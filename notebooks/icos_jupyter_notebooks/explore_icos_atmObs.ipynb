{
 "cells": [
  {
   "cell_type": "markdown",
   "metadata": {},
   "source": [
    "<img src=\"logos/Icos_cp_Logo_RGB.svg\" width=\"400\" align=\"left\"/>"
   ]
  },
  {
   "cell_type": "markdown",
   "metadata": {},
   "source": [
    "<a id='intro'></a>\n",
    "\n",
    "# Explore ICOS atmosphere observations\n",
    "This notebook is dedicated on exploring ICOS atmosphere observations. The notebook is divided in the following parts:\n",
    "\n",
    "- [Import tools](#tools)\n",
    "- [Map of ICOS Atmosphere Station Network](#map)\n",
    "- [Explore interactive plots of ICOS observations](#plot)\n",
    "- [Get Access to ICOS Jupyter Notebook Developing Environment](#access_to_jup_hub)"
   ]
  },
  {
   "cell_type": "markdown",
   "metadata": {},
   "source": [
    "<br>\n",
    "<a id='tools'></a>\n",
    "\n",
    "## 1. Import tools"
   ]
  },
  {
   "cell_type": "code",
   "execution_count": null,
   "metadata": {
    "scrolled": false
   },
   "outputs": [],
   "source": [
    "#Run notebook with tools:\n",
    "%run as_obs_tools/icos_as_obs_tools.ipynb"
   ]
  },
  {
   "cell_type": "markdown",
   "metadata": {},
   "source": [
    "<br>\n",
    "<div style=\"text-align: right\"> \n",
    "    <a href=\"#intro\">Back to top</a>\n",
    "</div>\n",
    "<br>\n",
    "<br>\n",
    "<a id='map'></a>\n",
    "\n",
    "## 2. Map of ICOS Atmosphere Station Network"
   ]
  },
  {
   "cell_type": "code",
   "execution_count": null,
   "metadata": {
    "scrolled": false
   },
   "outputs": [],
   "source": [
    "#Call function to display map widget form:\n",
    "map_wdgt_form_icos_AS()"
   ]
  },
  {
   "cell_type": "markdown",
   "metadata": {},
   "source": [
    "<br>\n",
    "<div style=\"text-align: right\"> \n",
    "    <a href=\"#intro\">Back to top</a>\n",
    "</div>\n",
    "<br>\n",
    "<br>\n",
    "<br>\n",
    "<br>\n",
    "<a id='plot'></a>\n",
    "\n",
    "## 3. Explore interactive plots of ICOS observations"
   ]
  },
  {
   "cell_type": "code",
   "execution_count": null,
   "metadata": {
    "scrolled": false
   },
   "outputs": [],
   "source": [
    "#Call function to display widget form:\n",
    "icos_as_widgtform()"
   ]
  },
  {
   "cell_type": "markdown",
   "metadata": {},
   "source": [
    "<br>\n",
    "<div style=\"text-align: right\"> \n",
    "    <a href=\"#intro\">Back to top</a>\n",
    "</div>\n",
    "<br>\n",
    "<br>\n",
    "<br>\n",
    "<a id='access_to_jup_hub'></a>\n",
    "\n",
    "## 4. Get Access to ICOS Jupyter Notebook Developing Environment\n",
    "For more information about ICOS Jupyter solutions, please visit: https://www.icos-cp.eu/data-services/tools/jupyter-notebook\n",
    "\n",
    "If you wish to extend the functionality of the already existent ICOS notebooks or develop your own Jupyter notebooks in collaboration with the ICOS community, apply for an account here: https://www.icos-cp.eu/jupyter-personal-account-application\n",
    "\n",
    "For jupyter-related comments and questions, send us an email to: <jupyter-info@icos-cp.eu>.\n",
    "\n",
    "<br>\n",
    "<br>\n",
    "<div style=\"text-align: right\"> \n",
    "    <a href=\"#intro\">Back to top</a>\n",
    "</div>\n",
    "<br>\n",
    "<br>\n",
    "<br>"
   ]
  },
  {
   "cell_type": "code",
   "execution_count": null,
   "metadata": {
    "scrolled": false
   },
   "outputs": [],
   "source": []
  },
  {
   "cell_type": "code",
   "execution_count": null,
   "metadata": {
    "scrolled": false
   },
   "outputs": [],
   "source": []
  }
 ],
 "metadata": {
  "kernelspec": {
   "display_name": "Python 3",
   "language": "python",
   "name": "python3"
  },
  "language_info": {
   "codemirror_mode": {
    "name": "ipython",
    "version": 3
   },
   "file_extension": ".py",
   "mimetype": "text/x-python",
   "name": "python",
   "nbconvert_exporter": "python",
   "pygments_lexer": "ipython3",
   "version": "3.8.6"
  }
 },
 "nbformat": 4,
 "nbformat_minor": 4
}
