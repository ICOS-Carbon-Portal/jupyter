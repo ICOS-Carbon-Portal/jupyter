{
 "cells": [
  {
   "cell_type": "code",
   "execution_count": 1,
   "id": "4337c4cb-5d4a-4afc-a73b-26f5fd6c1914",
   "metadata": {
    "tags": []
   },
   "outputs": [
    {
     "data": {
      "text/plain": [
       "True"
      ]
     },
     "execution_count": 1,
     "metadata": {},
     "output_type": "execute_result"
    }
   ],
   "source": [
    "\"\"\"\n",
    "import warnings\n",
    "warnings.simplefilter(\"ignore\", FutureWarning)\n",
    "\n",
    "from eco_tool import gui\n",
    "\n",
    "\n",
    "gui.AnalysisGui('ES', debug = 0);\"\"\"==\"\"\"\n",
    "import warnings\n",
    "warnings.simplefilter(\"ignore\", FutureWarning)\n",
    "\n",
    "from eco_tool import gui\n",
    "\n",
    "\n",
    "gui.AnalysisGui('ES', debug = 0);\"\"\""
   ]
  },
  {
   "cell_type": "code",
   "execution_count": 2,
   "id": "67fa5195-8b63-454b-8725-bf5154b44f91",
   "metadata": {},
   "outputs": [
    {
     "data": {
      "text/plain": [
       "{'_last_station_id': 'SE-Sto',\n",
       " '_last_group': 'abisko 8 var',\n",
       " '_groups': {'htm swc': {'_group_vars': [['SWC_1', 'ETC NRT Meteo', 'SE-Htm'],\n",
       "    ['SWC_2', 'ETC NRT Meteo', 'SE-Htm'],\n",
       "    ['SWC_3', 'ETC NRT Meteo', 'SE-Htm'],\n",
       "    ['SWC_4', 'ETC NRT Meteo', 'SE-Htm'],\n",
       "    ['SWC_5', 'ETC NRT Meteo', 'SE-Htm']],\n",
       "   '_batches': {'swc1': {0: {'split_plot': [['SWC_1',\n",
       "        'ETC NRT Meteo',\n",
       "        'SE-Htm'],\n",
       "       ['SWC_2', 'ETC NRT Meteo', 'SE-Htm'],\n",
       "       ['SWC_5', 'ETC NRT Meteo', 'SE-Htm']]},\n",
       "     1: {'multi_plot': [['%',\n",
       "        [['SWC_1', 'ETC NRT Meteo', 'SE-Htm'],\n",
       "         ['SWC_2', 'ETC NRT Meteo', 'SE-Htm'],\n",
       "         ['SWC_5', 'ETC NRT Meteo', 'SE-Htm']]]]}},\n",
       "    'swc2': {0: {'split_plot': [['SWC_1', 'ETC NRT Meteo', 'SE-Htm'],\n",
       "       ['SWC_3', 'ETC NRT Meteo', 'SE-Htm'],\n",
       "       ['SWC_2', 'ETC NRT Meteo', 'SE-Htm']]},\n",
       "     1: {'multi_plot': [['%',\n",
       "        [['SWC_1', 'ETC NRT Meteo', 'SE-Htm'],\n",
       "         ['SWC_3', 'ETC NRT Meteo', 'SE-Htm'],\n",
       "         ['SWC_2', 'ETC NRT Meteo', 'SE-Htm']]]]},\n",
       "     2: {'statistics': 'all'},\n",
       "     3: {'corr_plot': [['SWC_1', 'ETC NRT Meteo', 'SE-Htm'],\n",
       "       ['SWC_2', 'ETC NRT Meteo', 'SE-Htm']]},\n",
       "     4: {'corr_plot': [['SWC_2', 'ETC NRT Meteo', 'SE-Htm'],\n",
       "       ['SWC_3', 'ETC NRT Meteo', 'SE-Htm']]}}}},\n",
       "  'abisko 8 var': {'_batches': {'7var': {0: {'split_plot': 'all'},\n",
       "     1: {'multi_plot': [['µmol mol-1', [['CO2', 'ETC NRT Fluxes', 'WW-WWW']]],\n",
       "       ['µmol mol-1', [['CO2', 'ETC NRT Fluxes', 'SE-Sto']]],\n",
       "       ['mmol mol-1', [['H2O', 'ETC NRT Fluxes', 'SE-Sto']]],\n",
       "       ['W m-2', [['H', 'ETC NRT Fluxes', 'SE-Sto']]],\n",
       "       ['µmol m-2 s-1', [['FC', 'ETC NRT Fluxes', 'SE-Sto']]],\n",
       "       ['%',\n",
       "        [['SWC_1', 'ETC NRT Meteo', 'SE-Sto'],\n",
       "         ['SWC_2', 'ETC NRT Meteo', 'SE-Sto']]]]},\n",
       "     2: {'corr_table': 'all'},\n",
       "     3: {'statistics': 'all'}}},\n",
       "   '_group_vars': [['CO2', 'ETC NRT Fluxes', 'WW-WWW'],\n",
       "    ['CO2', 'ETC NRT Fluxes', 'SE-Sto'],\n",
       "    ['FC', 'ETC NRT Fluxes', 'SE-Sto'],\n",
       "    ['H', 'ETC NRT Fluxes', 'SE-Sto'],\n",
       "    ['ZL', 'ETC NRT Fluxes', 'SE-Sto'],\n",
       "    ['H2O', 'ETC NRT Fluxes', 'SE-Sto'],\n",
       "    ['SWC_1', 'ETC NRT Meteo', 'SE-Sto'],\n",
       "    ['SWC_2', 'ETC NRT Meteo', 'SE-Sto'],\n",
       "    ['P', 'ETC NRT Meteo', 'SE-Sto']]}}}"
      ]
     },
     "execution_count": 2,
     "metadata": {},
     "output_type": "execute_result"
    }
   ],
   "source": [
    "cache = {'_last_station_id': 'SE-Sto', \n",
    "         '_last_group': 'abisko 8 var', \n",
    "         '_groups': {'htm swc': {'_group_vars':[['SWC_1', 'ETC NRT Meteo', 'SE-Htm'],\n",
    "                                                ['SWC_2', 'ETC NRT Meteo', 'SE-Htm'], \n",
    "                                                ['SWC_3', 'ETC NRT Meteo', 'SE-Htm'], \n",
    "                                                ['SWC_4', 'ETC NRT Meteo', 'SE-Htm'], \n",
    "                                                ['SWC_5', 'ETC NRT Meteo', 'SE-Htm']], \n",
    "                                 '_batches': {'swc1': {0: {'split_plot': [['SWC_1', 'ETC NRT Meteo', 'SE-Htm'],\n",
    "                                                                          ['SWC_2', 'ETC NRT Meteo', 'SE-Htm'],\n",
    "                                                                          ['SWC_5', 'ETC NRT Meteo', 'SE-Htm']]\n",
    "                                                          },                                                       \n",
    "                                                       1: {'multi_plot': [['%', [['SWC_1', 'ETC NRT Meteo', 'SE-Htm'],\n",
    "                                                                                 ['SWC_2', 'ETC NRT Meteo', 'SE-Htm'],\n",
    "                                                                                 ['SWC_5', 'ETC NRT Meteo', 'SE-Htm']]]]\n",
    "                                                          }\n",
    "                                                      },\n",
    "                                              'swc2': {0: {'split_plot': [['SWC_1', 'ETC NRT Meteo', 'SE-Htm'],\n",
    "                                                                          ['SWC_3', 'ETC NRT Meteo', 'SE-Htm'], \n",
    "                                                                          ['SWC_2', 'ETC NRT Meteo', 'SE-Htm']]},\n",
    "                                                       1: {'multi_plot': [['%', [['SWC_1', 'ETC NRT Meteo', 'SE-Htm'],\n",
    "                                                                                 ['SWC_3', 'ETC NRT Meteo', 'SE-Htm'], \n",
    "                                                                                 ['SWC_2', 'ETC NRT Meteo', 'SE-Htm']]]]},\n",
    "                                                       2: {'statistics': 'all'\n",
    "                                                          },\n",
    "                                                       3: {'corr_plot': [['SWC_1', 'ETC NRT Meteo', 'SE-Htm'], \n",
    "                                                                         ['SWC_2', 'ETC NRT Meteo', 'SE-Htm']]},\n",
    "                                                       4: {'corr_plot': [['SWC_2', 'ETC NRT Meteo', 'SE-Htm'], \n",
    "                                                                         ['SWC_3', 'ETC NRT Meteo', 'SE-Htm']]}\n",
    "                                                      }}},\n",
    "                     'abisko 8 var': {'_batches': {'7var': {0: {'split_plot': 'all'},\n",
    "                                                            1: {'multi_plot': [['µmol mol-1', [['CO2', 'ETC NRT Fluxes', 'WW-WWW']]],\n",
    "                                                                                ['µmol mol-1', [['CO2', 'ETC NRT Fluxes', 'SE-Sto']]],\n",
    "                                                                               ['mmol mol-1', [['H2O', 'ETC NRT Fluxes', 'SE-Sto']]],\n",
    "                                                                               ['W m-2', [['H', 'ETC NRT Fluxes', 'SE-Sto']]],\n",
    "                                                                               ['µmol m-2 s-1', [['FC', 'ETC NRT Fluxes', 'SE-Sto']]],\n",
    "                                                                               ['%', [['SWC_1', 'ETC NRT Meteo', 'SE-Sto'], ['SWC_2', 'ETC NRT Meteo', 'SE-Sto']]]]},                                                                \n",
    "                                                            2: {'corr_table': 'all'},\n",
    "                                                            3: {'statistics': 'all'}}},\n",
    "                                      '_group_vars': [['CO2', 'ETC NRT Fluxes', 'WW-WWW'],\n",
    "                                                      ['CO2', 'ETC NRT Fluxes', 'SE-Sto'], \n",
    "                                                      ['FC', 'ETC NRT Fluxes', 'SE-Sto'], \n",
    "                                                      ['H', 'ETC NRT Fluxes', 'SE-Sto'], \n",
    "                                                      ['ZL', 'ETC NRT Fluxes', 'SE-Sto'], \n",
    "                                                      ['H2O', 'ETC NRT Fluxes', 'SE-Sto'], \n",
    "                                                      ['SWC_1', 'ETC NRT Meteo', 'SE-Sto'], \n",
    "                                                      ['SWC_2', 'ETC NRT Meteo', 'SE-Sto'], \n",
    "                                                      ['P', 'ETC NRT Meteo', 'SE-Sto']]}}}\n",
    "cache"
   ]
  },
  {
   "cell_type": "code",
   "execution_count": 3,
   "id": "81f3b41f-0ee6-4f22-9600-dcefc9538edf",
   "metadata": {},
   "outputs": [
    {
     "data": {
      "text/plain": [
       "True"
      ]
     },
     "execution_count": 3,
     "metadata": {},
     "output_type": "execute_result"
    }
   ],
   "source": [
    "\"\"\"# Static lookup dictionary for tools\n",
    "tool_trans_dict = {'split_plot': 'Split-plot',\n",
    "                   'multi_plot': 'Multi-plot',\n",
    "                   'corr_plot': 'Correlation plot',\n",
    "                   'corr_table': 'Correlation plot (2 vars)',\n",
    "                   'statistics': 'Numerical Statistics'}\n",
    "\n",
    "# Widgets\n",
    "## Common layouts:\n",
    "flex_layout = wd.Layout(width='100%',\n",
    "                        display='inline-flex',\n",
    "                        flex_flow='row wrap',\n",
    "                        align_content='flex-start')\n",
    "label_layout = wd.Layout(min_width='125px')\n",
    "\n",
    "## Control widgets:\n",
    "### - var_translation_dict  \n",
    "### maps button names to a variable of the group\n",
    "### - upd_dict_log \n",
    "### keeps track on updates of the batch job\n",
    "var_translation_dict = wd.Textarea(disabled=True)\n",
    "upd_dict_log = wd.Textarea(disabled=True)\n",
    "        \n",
    "## Menus\n",
    "group_drop = wd.Dropdown()\n",
    "batch_drop = wd.Dropdown()\n",
    "menu_box = wd.HBox([group_drop,batch_drop])\n",
    "\n",
    "## Update section: Tools, vars and selections \n",
    "tool_label = wd.HTML('<b><i>Available tools: </i></b>',\n",
    "                     layout=label_layout)\n",
    "tool_buttons = wd.HBox()\n",
    "tool_box = wd.HBox([tool_label,tool_buttons])\n",
    "init_tool_buttons()\n",
    "\n",
    "var_label = wd.HTML('<b><i>Available variables: </i></b>',\n",
    "                    layout=label_layout)\n",
    "var_buttons = wd.HBox(layout=flex_layout)\n",
    "var_box = wd.HBox([var_label,\n",
    "                   var_buttons])\n",
    "\n",
    "selection_label = wd.HTML('<b><i>Current setup: </i></b>',\n",
    "                          layout=label_layout)\n",
    "selected_tools = wd.Select(disabled=False,\n",
    "                           layout=wd.Layout(width='150px'))\n",
    "selected_vars = wd.Select(disabled=True, \n",
    "                          layout=wd.Layout(width='80%'))\n",
    "selections = wd.HBox([selection_label, selected_tools,selected_vars])\n",
    "\n",
    "out = wd.Output()\n",
    "#set_var_btns()\n",
    "init()\n",
    "\n",
    "\n",
    "display(menu_box,tool_box, var_box)\n",
    "display(selections,out)\n",
    "\n",
    "\"\"\"==\"\"\"# Static lookup dictionary for tools\n",
    "tool_trans_dict = {'split_plot': 'Split-plot',\n",
    "                   'multi_plot': 'Multi-plot',\n",
    "                   'corr_plot': 'Correlation plot',\n",
    "                   'corr_table': 'Correlation plot (2 vars)',\n",
    "                   'statistics': 'Numerical Statistics'}\n",
    "\n",
    "# Widgets\n",
    "## Common layouts:\n",
    "flex_layout = wd.Layout(width='100%',\n",
    "                        display='inline-flex',\n",
    "                        flex_flow='row wrap',\n",
    "                        align_content='flex-start')\n",
    "label_layout = wd.Layout(min_width='125px')\n",
    "\n",
    "## Control widgets:\n",
    "### - var_translation_dict  \n",
    "### maps button names to a variable of the group\n",
    "### - upd_dict_log \n",
    "### keeps track on updates of the batch job\n",
    "var_translation_dict = wd.Textarea(disabled=True)\n",
    "upd_dict_log = wd.Textarea(disabled=True)\n",
    "        \n",
    "## Menus\n",
    "group_drop = wd.Dropdown()\n",
    "batch_drop = wd.Dropdown()\n",
    "menu_box = wd.HBox([group_drop,batch_drop])\n",
    "\n",
    "## Update section: Tools, vars and selections \n",
    "tool_label = wd.HTML('<b><i>Available tools: </i></b>',\n",
    "                     layout=label_layout)\n",
    "tool_buttons = wd.HBox()\n",
    "tool_box = wd.HBox([tool_label,tool_buttons])\n",
    "init_tool_buttons()\n",
    "\n",
    "var_label = wd.HTML('<b><i>Available variables: </i></b>',\n",
    "                    layout=label_layout)\n",
    "var_buttons = wd.HBox(layout=flex_layout)\n",
    "var_box = wd.HBox([var_label,\n",
    "                   var_buttons])\n",
    "\n",
    "selection_label = wd.HTML('<b><i>Current setup: </i></b>',\n",
    "                          layout=label_layout)\n",
    "selected_tools = wd.Select(disabled=False,\n",
    "                           layout=wd.Layout(width='150px'))\n",
    "selected_vars = wd.Select(disabled=True, \n",
    "                          layout=wd.Layout(width='80%'))\n",
    "selections = wd.HBox([selection_label, selected_tools,selected_vars])\n",
    "\n",
    "out = wd.Output()\n",
    "#set_var_btns()\n",
    "init()\n",
    "\n",
    "\n",
    "display(menu_box,tool_box, var_box)\n",
    "display(selections,out)\n",
    "\n",
    "\"\"\""
   ]
  },
  {
   "cell_type": "code",
   "execution_count": null,
   "id": "7591832d-f188-46d1-aaa6-2a7454d60728",
   "metadata": {},
   "outputs": [],
   "source": []
  },
  {
   "cell_type": "code",
   "execution_count": null,
   "id": "78819601-7733-435d-8ea0-443199d1b4cd",
   "metadata": {},
   "outputs": [],
   "source": []
  },
  {
   "cell_type": "code",
   "execution_count": 4,
   "id": "2085cc41-f94d-471b-b5d6-43986ba44772",
   "metadata": {},
   "outputs": [
    {
     "ename": "ModuleNotFoundError",
     "evalue": "No module named 'pi'",
     "output_type": "error",
     "traceback": [
      "\u001b[1;31m---------------------------------------------------------------------------\u001b[0m",
      "\u001b[1;31mModuleNotFoundError\u001b[0m                       Traceback (most recent call last)",
      "Cell \u001b[1;32mIn [4], line 12\u001b[0m\n\u001b[0;32m     10\u001b[0m \u001b[38;5;28;01mfrom\u001b[39;00m \u001b[38;5;21;01meco_tool\u001b[39;00m \u001b[38;5;28;01mimport\u001b[39;00m icos_data\n\u001b[0;32m     11\u001b[0m \u001b[38;5;28;01mfrom\u001b[39;00m \u001b[38;5;21;01meco_tool\u001b[39;00m \u001b[38;5;28;01mimport\u001b[39;00m plot\n\u001b[1;32m---> 12\u001b[0m \u001b[38;5;28;01mfrom\u001b[39;00m \u001b[38;5;21;01mpi\u001b[39;00m\u001b[38;5;21;01m.\u001b[39;00m\u001b[38;5;21;01micos_timeseries\u001b[39;00m \u001b[38;5;28;01mimport\u001b[39;00m IcosFrame\n\u001b[0;32m     13\u001b[0m \u001b[38;5;28;01mfrom\u001b[39;00m \u001b[38;5;21;01meco_tool\u001b[39;00m \u001b[38;5;28;01mimport\u001b[39;00m json_handler \u001b[38;5;28;01mas\u001b[39;00m json_manager\n\u001b[0;32m     15\u001b[0m \u001b[38;5;28;01mfrom\u001b[39;00m \u001b[38;5;21;01mIPython\u001b[39;00m\u001b[38;5;21;01m.\u001b[39;00m\u001b[38;5;21;01mdisplay\u001b[39;00m \u001b[38;5;28;01mimport\u001b[39;00m display\n",
      "\u001b[1;31mModuleNotFoundError\u001b[0m: No module named 'pi'"
     ]
    }
   ],
   "source": [
    "import datetime\n",
    "import warnings\n",
    "\n",
    "from ipywidgets import widgets as wd, HBox, VBox, Layout\n",
    "from IPython.display import display, clear_output\n",
    "import datetime as dt\n",
    "\n",
    "warnings.simplefilter(\"ignore\", FutureWarning)\n",
    "from icoscp.cpb.dobj import Dobj\n",
    "from eco_tool import icos_data\n",
    "from eco_tool import plot\n",
    "from pi.icos_timeseries import IcosFrame\n",
    "from eco_tool import json_handler as json_manager\n",
    "\n",
    "from IPython.display import display\n",
    "\n"
   ]
  },
  {
   "cell_type": "code",
   "execution_count": null,
   "id": "24f30792-bc6d-401e-9e7a-45eab885a451",
   "metadata": {},
   "outputs": [],
   "source": [
    "def init_interface(group: str=None, \n",
    "                   tools: list=None):\n",
    "    # interface from the start area of the app\n",
    "    init_tool_buttons()\n",
    "    init_group_drop(group)\n",
    "    # set upd-mode\n",
    "    # set selected tools\n",
    "    # set all variables\n",
    "    \n",
    "def init_tool_buttons():\n",
    "    tool_names = list(tool_trans_dict.values())\n",
    "    tool_ls = []\n",
    "    for tool in tool_names:\n",
    "        bt = wd.Button(description = tool, \n",
    "                       style={'button_width':'100px', 'button_color': 'LightGreen'}, \n",
    "                       layout=choose_layout(tool))\n",
    "        bt.on_click(changed_tool)\n",
    "        tool_ls.append(bt)\n",
    "    tool_buttons.children = tool_ls\n",
    "\n",
    "def init():\n",
    "    init_tool_buttons()\n",
    "    init_group_drop()\n",
    "    \n",
    "    \n",
    "def init_group_drop(group: str = None):\n",
    "    group_drop.options = list(cache['_groups'].keys())\n",
    "    group_drop.observe(set_group_dependencies,\n",
    "                       names='value')\n",
    "    if group:\n",
    "        grp = group\n",
    "    elif cache['_last_group']:\n",
    "        grp = cache['_last_group']\n",
    "    else:\n",
    "        grp = group_drop.options[0]\n",
    "    group_drop.value = grp\n",
    "\n",
    "def set_group_dependencies(c):\n",
    "    init_group_var_btns()\n",
    "    init_batch_drop(c)\n",
    "\n",
    "def init_batch_drop(c):\n",
    "    batches = [(k,v) for k,v in cache['_groups'][c.new]['_batches'].items()]\n",
    "    batch_drop.options = batches\n",
    "    batch_drop.observe(batch_drop_change, names='value')\n",
    "    batch_drop.value = batches[0][1]\n",
    "\n",
    "\n",
    "def batch_drop_change(c):\n",
    "    init_batch_selection('upd')\n",
    "\n",
    "def init_group_var_btns():\n",
    "    grp = group_drop.value\n",
    "    var_buttons.children = []\n",
    "    \n",
    "    if grp not in cache['_groups'].keys():\n",
    "        return\n",
    "    var_ls = cache['_groups'][grp]['_group_vars']\n",
    "    one_stn = len(set(ls[-1] for ls in var_ls)) == 1\n",
    "    one_prod = len(set(ls[1] for ls in var_ls)) == 1\n",
    "\n",
    "    btn_ls = []\n",
    "    translation_dict = {}\n",
    "    for v_ls in var_ls:\n",
    "        var_name = v_ls[0]\n",
    "        var_name_description = ''\n",
    "        if not one_prod:\n",
    "            var_name_description += v_ls[1]\n",
    "        if not one_stn:\n",
    "            if var_name_description:\n",
    "                var_name_description += ', ' + v_ls[2]\n",
    "            else:\n",
    "                var_name_description += v_ls[2]\n",
    "        if var_name_description:\n",
    "            var_name += f' ({var_name_description})'\n",
    "        translation_dict[var_name] = v_ls\n",
    "\n",
    "        btn = wd.Button(description=var_name,\n",
    "                        disabled = True,\n",
    "                        style={'button_color': 'LightSeaGreen'}, \n",
    "                        layout=choose_layout(var_name))\n",
    "        btn.on_click(update_var_selections)\n",
    "        btn_ls.append(btn)\n",
    "    btn = wd.Button(description='Select all',\n",
    "                    disabled = True,\n",
    "                    style={'button_color': 'MediumSeaGreen'}, \n",
    "                    layout=choose_layout('Select all'))\n",
    "    btn.on_click(update_var_selections)\n",
    "    btn_ls.append(btn)\n",
    "\n",
    "    set_var_translation_dict(translation_dict)\n",
    "    #init_batch_selection('upd')\n",
    "    var_buttons.children = btn_ls\n",
    "    \n",
    "def disable_group_var_btns(disable):\n",
    "    for btn in var_buttons.children:\n",
    "        btn.disabled = disable    \n",
    "\n",
    "def init_batch_selection(upd_mode):\n",
    "    \n",
    "    if upd_mode=='upd':\n",
    "        \n",
    "        batch = batch_drop.value\n",
    "        var_trans_dict = get_var_translation_dict()\n",
    "        sel_tools = []\n",
    "        sel_vars_of_tool = []\n",
    "        for k1,v1 in batch.items():\n",
    "            for k2, v2 in v1.items():\n",
    "                sel_tools.append((tool_trans_dict[k2],k1))\n",
    "                if isinstance(v2, str):\n",
    "                    # the case 'all'\n",
    "                    var_ls = [v2] \n",
    "                elif k2!='multi_plot':\n",
    "                    # the case of list of var-lists\n",
    "                     var_ls = [k3 for x in v2 for k3 in var_trans_dict.keys() if var_trans_dict[k3]==x]\n",
    "                else:\n",
    "                    # the case of list of axes and var-lists\n",
    "                    var_ls = [k3 for x in v2 for y in x[1] for k3 in var_trans_dict.keys() if var_trans_dict[k3]==y]\n",
    "                vars_str = ', '.join(var_ls)\n",
    "                sel_vars_of_tool.append((vars_str,(k1,var_ls)))\n",
    "        \n",
    "        selected_tools.options = sel_tools      \n",
    "        selected_tools.observe(changed_selected_tool,\n",
    "                               names = 'value')\n",
    "\n",
    "        selected_vars.options = sel_vars_of_tool\n",
    "        print(sel_tools)\n",
    "        print(sel_vars_of_tool)\n",
    "        \n",
    "def changed_tool(tool):\n",
    "    \n",
    "    if tool.icon:\n",
    "        tool.style.button_color=\"LightGreen\"\n",
    "        tool.icon = ''\n",
    "    else:\n",
    "        for btn in tool_buttons.children:\n",
    "            if btn!=tool: \n",
    "                btn.style.button_color=\"LightGreen\"\n",
    "                btn.icon = ''\n",
    "        tool.style.button_color=\"Green\"\n",
    "        tool.icon = 'check'\n",
    "    update_selections(tool.icon=='check',tool.description)\n",
    "            \n",
    "def update_selections(add_tool, \n",
    "                      tool_name):\n",
    "    index_of_selected_tool = selected_tools.index\n",
    "    sel_tools = list(selected_tools.options)\n",
    "    sel_vars = list(selected_vars.options)\n",
    "    \n",
    "    selected_tools.unobserve(changed_selected_tool,names='value')\n",
    "    if ('',(index_of_selected_tool,[])) in sel_vars:\n",
    "            sel_vars.pop(index_of_selected_tool)\n",
    "            sel_tools.pop(index_of_selected_tool)\n",
    "            selected_tools.options = sel_tools\n",
    "            selected_tools.value = None\n",
    "            selected_tools.disabled = False\n",
    "            selected_vars.options = sel_vars\n",
    "            index_of_selected_tool = selected_tools.index\n",
    "        \n",
    "    if add_tool:\n",
    "        if index_of_selected_tool is None:\n",
    "            tool_index = len(sel_tools)\n",
    "        else:\n",
    "            tool_index = index_of_selected_tool\n",
    "        sel_tools.insert(tool_index,\n",
    "                         (tool_name,tool_index))\n",
    "        sel_tools = [(t[0], sel_tools.index(t)) for t in sel_tools]\n",
    "        sel_vars.insert(tool_index, ('',(tool_index, [])))\n",
    "        sel_vars = [(v[0],(sel_vars.index(v), v[1][1])) for v in sel_vars]\n",
    "        selected_tools.options = sel_tools\n",
    "        selected_tools.value = tool_index\n",
    "        selected_tools.disabled = True\n",
    "        selected_vars.options = sel_vars\n",
    "    selected_tools.observe(changed_selected_tool,names='value')\n",
    "\n",
    "    \n",
    "    if selected_tools.value:\n",
    "        for btn in var_buttons.children:\n",
    "            btn.disabled = False\n",
    "    else: \n",
    "        for btn in var_buttons.children:\n",
    "            btn.disabled = True\n",
    "        \n",
    "        \n",
    "        \n",
    "        \n",
    "    \n",
    "    # sel_tools = list(selected_tools.options)\n",
    "    #     if sel_tools:\n",
    "    #         sel_tools.append((tool.description, \n",
    "    #                           len(sel_tools) + 1))\n",
    "    #     else: \n",
    "    #         sel_tools.append((tool.description, 0))\n",
    "    #     selected_tools.options = sel_tools\n",
    "    #     selected_tools.value = len(sel_tools)\n",
    "    #     sel_vars = list(selected_vars.options)\n",
    "def update_var_selections(c):\n",
    "    pass\n",
    "\n",
    "def changed_selected_tool(c):\n",
    "    print('changed_selected_tool()\\t c=', c)\n",
    "    sel_ls = list(selected_tools.options)\n",
    "    selected_tools.unobserve(changed_selected_tool, names='value')\n",
    "    if c.old is None:\n",
    "        sel_ls.insert(len(sel_ls), ('- Unselect -',len(sel_ls)))\n",
    "        selected = selected_tools.value\n",
    "        selected_tools.options = sel_ls\n",
    "        selected_tools.value = selected\n",
    "        \n",
    "    elif c.new == len(sel_ls) - 1 and ('- Unselect -', len(sel_ls)-1) in sel_ls:\n",
    "        selected_tools.options = sel_ls[:-1]\n",
    "        selected_tools.value = None\n",
    "    selected_tools.observe(changed_selected_tool,names = 'value')\n",
    "\n",
    "def choose_layout(text: str = None):\n",
    "    this_width = max(len(text) * 9 + 12, 90)\n",
    "    this_layout = wd.Layout(min_width = f'{len(text)*9}px',\n",
    "                            max_width=f'{this_width}px')\n",
    "\n",
    "    return this_layout\n",
    "\n",
    "def selected_vars(c):\n",
    "    pass\n",
    "\n",
    "def get_var_translation_dict() -> dict:\n",
    "\n",
    "    return eval(var_translation_dict.value)\n",
    "\n",
    "def set_var_translation_dict(d: dict = None):\n",
    "    \"\"\"\n",
    "        The translation dict is of the form\n",
    "        {(var,product,station): \"name of var button\"}\n",
    "        in a one-to-one correspondence.\n",
    "    \"\"\"\n",
    "\n",
    "    # if self.debug:\n",
    "    #     print('set_var_translation_dict()\\t',d)\n",
    "    var_translation_dict.value = str(d)"
   ]
  },
  {
   "cell_type": "code",
   "execution_count": null,
   "id": "72d8c6c3-8cb3-48df-8e3a-e7f80fc1b312",
   "metadata": {},
   "outputs": [],
   "source": [
    "# Static lookup dictionary for tools\n",
    "tool_trans_dict = {'split_plot': 'Split-plot',\n",
    "                   'multi_plot': 'Multi-plot',\n",
    "                   'corr_plot': 'Correlation plot',\n",
    "                   'corr_table': 'Correlation plot (2 vars)',\n",
    "                   'statistics': 'Numerical Statistics'}\n",
    "\n",
    "# Widgets\n",
    "## Common layouts:\n",
    "flex_layout = wd.Layout(width='100%',\n",
    "                        display='inline-flex',\n",
    "                        flex_flow='row wrap',\n",
    "                        align_content='flex-start')\n",
    "label_layout = wd.Layout(min_width='125px')\n",
    "\n",
    "## Control widgets:\n",
    "### - var_translation_dict  \n",
    "### maps button names to a variable of the group\n",
    "### - upd_dict_log \n",
    "### keeps track on updates of the batch job\n",
    "var_translation_dict = wd.Textarea(disabled=True)\n",
    "upd_dict_log = wd.Textarea(disabled=True)\n",
    "        \n",
    "## Menus\n",
    "group_drop = wd.Dropdown()\n",
    "batch_drop = wd.Dropdown()\n",
    "menu_box = wd.HBox([group_drop,batch_drop])\n",
    "\n",
    "## Update section: Tools, vars and selections \n",
    "tool_label = wd.HTML('<b><i>Available tools: </i></b>',\n",
    "                     layout=label_layout)\n",
    "tool_buttons = wd.HBox()\n",
    "tool_box = wd.HBox([tool_label,tool_buttons])\n",
    "init_tool_buttons()\n",
    "\n",
    "var_label = wd.HTML('<b><i>Available variables: </i></b>',\n",
    "                    layout=label_layout)\n",
    "var_buttons = wd.HBox(layout=flex_layout)\n",
    "var_box = wd.HBox([var_label,\n",
    "                   var_buttons])\n",
    "\n",
    "selection_label = wd.HTML('<b><i>Current setup: </i></b>',\n",
    "                          layout=label_layout)\n",
    "selected_tools = wd.Select(disabled=False,\n",
    "                           layout=wd.Layout(width='150px'))\n",
    "selected_vars = wd.Select(disabled=True, \n",
    "                          layout=wd.Layout(width='80%'))\n",
    "selections = wd.HBox([selection_label, selected_tools,selected_vars])\n",
    "\n",
    "out = wd.Output()\n",
    "#set_var_btns()\n",
    "init()\n",
    "\n",
    "\n",
    "display(menu_box,tool_box, var_box)\n",
    "display(selections,out)\n",
    "\n"
   ]
  },
  {
   "cell_type": "code",
   "execution_count": null,
   "id": "74fe5e52-3795-42a2-8da9-818422fd5656",
   "metadata": {},
   "outputs": [],
   "source": [
    "def a(c):\n",
    "    print(c)\n",
    "    ls = list(selected_tools.options)\n",
    "        \n",
    "    if selected_tools.value ==8:\n",
    "        ls.pop(selected_tools.index)\n",
    "        selected_tools.options = ls\n",
    "    elif selected_tools.value%2==0:\n",
    "        ls.insert(selected_tools.index,selected_tools.value*2)\n",
    "        selected_tools.options = ls\n",
    "    selected_tools.rows = max(len(ls) + 1,5)\n",
    "        \n",
    "        \n",
    "selected_tools = wd.Select(options = [1,2,3],\n",
    "                           disabled=False,\n",
    "                           layout=wd.Layout(width='150px'),\n",
    "                          value = None)\n",
    "selected_tools.observe(a,names= 'value')\n",
    "selected_tools"
   ]
  },
  {
   "cell_type": "code",
   "execution_count": 5,
   "id": "3aad9f70-0b45-44cf-a35f-db71729c350b",
   "metadata": {},
   "outputs": [
    {
     "ename": "NameError",
     "evalue": "name 'options' is not defined",
     "output_type": "error",
     "traceback": [
      "\u001b[1;31m---------------------------------------------------------------------------\u001b[0m",
      "\u001b[1;31mNameError\u001b[0m                                 Traceback (most recent call last)",
      "Cell \u001b[1;32mIn [5], line 3\u001b[0m\n\u001b[0;32m      1\u001b[0m \u001b[38;5;66;03m#options = [11,12,13]\u001b[39;00m\n\u001b[0;32m      2\u001b[0m \u001b[38;5;66;03m#options.pop(2)\u001b[39;00m\n\u001b[1;32m----> 3\u001b[0m options\u001b[38;5;241m.\u001b[39mextend([\u001b[38;5;241m111\u001b[39m])\n\u001b[0;32m      4\u001b[0m options\u001b[38;5;241m.\u001b[39minsert(\u001b[38;5;28mlen\u001b[39m(options),\u001b[38;5;241m7\u001b[39m)\n\u001b[0;32m      5\u001b[0m options\n",
      "\u001b[1;31mNameError\u001b[0m: name 'options' is not defined"
     ]
    }
   ],
   "source": [
    "#options = [11,12,13]\n",
    "#options.pop(2)\n",
    "options.extend([111])\n",
    "options.insert(len(options),7)\n",
    "options"
   ]
  },
  {
   "cell_type": "code",
   "execution_count": 6,
   "id": "b8a5e0a4-1ee5-4cd8-8ece-5d5509516ed7",
   "metadata": {},
   "outputs": [],
   "source": [
    "def _edit_batch_jobs():\n",
    "    # if self.debug:\n",
    "    #     print('*** _edit_batch_jobs()\\n')\n",
    "\n",
    "    def init(grp_name: str = None,\n",
    "             b_name: str = None):\n",
    "        cache = self._load_cache()\n",
    "        group_ls = list(cache['_groups'].keys())\n",
    "        if self.debug:\n",
    "            print('init', group_ls)\n",
    "\n",
    "        if group_ls:\n",
    "            group_drop.options = group_ls\n",
    "            if grp_name:\n",
    "                group_drop.value = grp_name\n",
    "            elif cache['_last_group']:\n",
    "                group_drop.value = cache['_last_group']\n",
    "            else:\n",
    "                group_drop.value = group_ls[0]\n",
    "        else:\n",
    "\n",
    "            html_msg(text='First you need to create a group of variables ' \n",
    "                          'in the Group menu')\n",
    "            return False\n",
    "        set_batch_drop(c=grp_name,\n",
    "                       b_name=b_name)\n",
    "        set_group_vars('init')\n",
    "        group_drop.observe(set_group_vars, names='value')\n",
    "        group_drop.observe(set_batch_drop, names='value')\n",
    "\n",
    "        return True\n",
    "\n",
    "    def set_batch_drop(c: str or dict = None,\n",
    "                       b_name: str = None):\n",
    "        cache = self._load_cache()\n",
    "        if self.debug:\n",
    "            print(f'set_batch_drop()\\tcache = {cache}\\n\\t\\tc ' \n",
    "                  f'= {c}\\n\\t\\tb_name = {b_name}\\n')\n",
    "\n",
    "        if c:\n",
    "            if isinstance(c, str):\n",
    "                grp = c\n",
    "            else:\n",
    "                grp = c['new']\n",
    "        else:\n",
    "            grp = group_drop.value\n",
    "\n",
    "        if grp and grp in cache['_groups'].keys():\n",
    "            if '_batches' in cache['_groups'][grp].keys() and \\\n",
    "                    cache['_groups'][grp]['_batches']:\n",
    "                batches = cache['_groups'][grp]['_batches']\n",
    "                options = [(k, v) for k, v in batches.items()]\n",
    "                options.sort(key=lambda x: x[0])\n",
    "                batch_drop.options = options\n",
    "                batch_drop.value = batches.get(b_name, options[0][1])\n",
    "            else:\n",
    "                batch_drop.options = ['Press new...']\n",
    "                batch_drop.value = batch_drop.options[0]\n",
    "        else:\n",
    "            batch_drop.options = ['No groups yet...']\n",
    "            batch_drop.value = batch_drop.options[0]\n",
    "\n",
    "    def set_group_vars(c):\n",
    "        cache = self._load_cache()\n",
    "        if self.debug:\n",
    "            print('set_group_vars()')\n",
    "\n",
    "        if isinstance(cache, dict):\n",
    "            grp = group_drop.value\n",
    "            if grp not in cache['_groups'].keys():\n",
    "                # Container title...\n",
    "                cont_title = f'Content of a group goes here'\n",
    "                g_vars.set_title(0, cont_title)\n",
    "                group_vars.value = '<b>Variables: </b>'\n",
    "                return\n",
    "\n",
    "            # Generate HTML-text for the variables\n",
    "            var_text = get_group_var_text(upd_mode=False)\n",
    "\n",
    "            # Container title...\n",
    "            cont_title = f'Content of group {grp}'\n",
    "            g_vars.set_title(0, cont_title)\n",
    "            group_vars.value = var_text\n",
    "        else:\n",
    "            # No cache,\n",
    "            cont_title = f'Content of a group goes here'\n",
    "            g_vars.set_title(0, cont_title)\n",
    "            group_vars.value = 'Variables: '\n",
    "\n",
    "    def get_group_var_text(upd_mode):\n",
    "        cache = self._load_cache()\n",
    "        if self.debug:\n",
    "            print('get_group_var_text\\n', upd_mode)\n",
    "\n",
    "        grp = group_drop.value\n",
    "        if grp not in cache['_groups'].keys():\n",
    "            return_val = ''\n",
    "        else:\n",
    "            var_tuples = cache['_groups'][grp]['_group_vars']\n",
    "            var_ls = [v[0] for v in var_tuples]\n",
    "            text_tag = 'b'\n",
    "            separator = '<br>'\n",
    "            margin = '&nbsp' * 10\n",
    "            station_dict = _var_tup2station_dict(var_tuples)\n",
    "\n",
    "            # We loop over stations and products to concatenate\n",
    "            # a proper text in html\n",
    "            t1 = f'<{text_tag}>Variables: </{text_tag}>'\n",
    "            t2 = ', '.join(var_ls)\n",
    "            t3 = ''\n",
    "            if upd_mode and len(t1 + t2) > 100:\n",
    "                t2 += '<br>'\n",
    "                first_break = 0\n",
    "            else:\n",
    "                first_break = 1\n",
    "\n",
    "            one_stn = (len(station_dict.keys()) == 1)\n",
    "            for stn in station_dict.keys():\n",
    "                if one_stn:\n",
    "                    t1 = f'<{text_tag}>Variables (of {stn}): </{text_tag}>'\n",
    "                    one_prod = (len(station_dict[stn].keys()) == 1)\n",
    "                    for prod in station_dict[stn].keys():\n",
    "                        if one_prod:\n",
    "                            t1 = f'<{text_tag}>Variables (of {prod} at {stn}): </{text_tag}>'\n",
    "                        else:\n",
    "                            t3 += f'{separator}{margin}<{text_tag}>{prod}: </{text_tag}>' + \\\n",
    "                                  \", \".join(station_dict[stn][prod])\n",
    "                            if not upd_mode:\n",
    "                                t3 += f'{separator}'\n",
    "                        if upd_mode and len(t3) + len(\n",
    "                                t1 + t2) * first_break > 100:\n",
    "                            first_break = 0\n",
    "                            t3 += '<br>'\n",
    "                else:\n",
    "                    t3 += f'{separator}{margin}<{text_tag}>Station {stn}</{text_tag}> '\n",
    "                    for prod in station_dict[stn].keys():\n",
    "                        t3 += f'{separator}{margin}<{text_tag}>{prod}: </{text_tag}>'\n",
    "                        t3 += \", \".join(station_dict[stn][prod])\n",
    "                    if upd_mode:\n",
    "                        if len(t3) + len(t1 + t2) * first_break > 100:\n",
    "                            t3 += '<br>'\n",
    "                    else:\n",
    "                        t3 += '<br>'\n",
    "\n",
    "            if t3:\n",
    "                t3 += f'{margin}<i>(In order of appearance)</i>'\n",
    "            return_val = t1 + t2 + t3\n",
    "        return return_val\n",
    "\n",
    "    def set_var_btns():\n",
    "        cache = self._load_cache()\n",
    "        grp = group_drop.value\n",
    "\n",
    "        var_box.children = []\n",
    "        selections.children = []\n",
    "\n",
    "        if grp not in cache['_groups'].keys():\n",
    "            return\n",
    "        var_ls = cache['_groups'][grp]['_group_vars']\n",
    "        one_stn = len(set(ls[-1] for ls in var_ls)) == 1\n",
    "        one_prod = len(set(ls[1] for ls in var_ls)) == 1\n",
    "\n",
    "        btn_ls = []\n",
    "        translation_dict = {}\n",
    "        for v_ls in var_ls:\n",
    "            var_name = v_ls[0]\n",
    "            if not one_prod:\n",
    "                var_name += ' ' + v_ls[1].replace(' ', '_')\n",
    "            if not one_stn:\n",
    "                var_name += ' ' + v_ls[2].replace(' ', '_')\n",
    "            translation_dict[var_name] = v_ls\n",
    "\n",
    "            btn = wd.Button(description=var_name,\n",
    "                            layout=choose_layout(var_name))\n",
    "            btn.on_click(selected_vars)\n",
    "            btn_ls.append(btn)\n",
    "\n",
    "        set_translation_dict(translation_dict)\n",
    "        selected_vars('init')\n",
    "\n",
    "        var_box.children = btn_ls\n",
    "\n",
    "    def html_msg(text: str = None, text_ls: list = None, error=None):\n",
    "\n",
    "        margin = '&nbsp&nbsp&nbsp'\n",
    "\n",
    "        if error:\n",
    "            txt = 'Things to fix'\n",
    "            color = '#D32F2F'  # ipyw_style_colors['danger:active']\n",
    "            emoji = '\\u26a0\\ufe0f'  # warning_emoji\n",
    "        else:\n",
    "            txt = 'Info:'\n",
    "            color = 'blue'\n",
    "            emoji = ''\n",
    "        msg = f'<span style=\"color:{color}\">' + \\\n",
    "              f'{margin}{margin}<h3>{txt} {emoji}</h3>'\n",
    "        if text:\n",
    "            msg += f'<h3>{margin}{margin}{text}</h3>'\n",
    "        elif isinstance(text_ls, list):\n",
    "            msg += f'<h3>{margin}{margin}'\n",
    "            msg += f'<br>{margin}{margin}'.join(text_ls)\n",
    "            msg += '</h3></span>'\n",
    "        with out:\n",
    "            clear_output()\n",
    "            display(wd.HTML(msg))\n",
    "\n",
    "    def html_error_msg(error_ls: list = None):\n",
    "        html_msg(text_ls=error_ls, error=True)\n",
    "\n",
    "    def validate_name(name):\n",
    "        cache = self._load_cache()\n",
    "        grp = group_drop.value\n",
    "        error_ls = []\n",
    "        if not name or name == 'Name of batch job':\n",
    "            error_ls.append(\n",
    "                'Please choose a name for batch job')\n",
    "        elif not name[0].isalnum():\n",
    "            error_ls.append('At least the first letter of the name')\n",
    "            error_ls.append('must be an alfa numeric character.')\n",
    "        elif grp in cache['_groups'].keys():\n",
    "            batches = cache['_groups'][grp].get('_batches', {})\n",
    "            if name in batches.keys():\n",
    "                upd_dict = get_upd_dict()\n",
    "                if name != upd_dict['_orig_name']:\n",
    "                    error_ls.append(\n",
    "                        f'There is already a batch job called <it'\n",
    "                        f'>{name}</i>,')\n",
    "                    error_ls.append('please pick another name.')\n",
    "\n",
    "        if error_ls:\n",
    "            batch_name.style.text_color = 'red'\n",
    "        else:\n",
    "            batch_name.style.text_color = 'darkgreen'\n",
    "            batch_name.layout = choose_layout(name)\n",
    "\n",
    "        return error_ls\n",
    "\n",
    "    def batch_name_changed(change):\n",
    "\n",
    "        if self.debug:\n",
    "            print('batch_name_changed()\\t', change)\n",
    "\n",
    "        if change.type == 'change':\n",
    "            new_name = change.owner.value\n",
    "            error_ls = validate_name(new_name)\n",
    "\n",
    "            upd_dict = get_upd_dict()\n",
    "            upd_dict['_name_error'] = error_ls\n",
    "\n",
    "            if not error_ls:\n",
    "                upd_dict['_new_name'] = new_name\n",
    "            set_upd_dict(upd_dict)\n",
    "\n",
    "    def tool_changed(c):\n",
    "        if self.debug:\n",
    "            print('tool_changed()\\t input param:', c)\n",
    "\n",
    "        d = {split_tool.description: 'split_plot',\n",
    "             multi_tool.description: 'multi_plot',\n",
    "             correlation_plot_tool.description: 'corr_plot',\n",
    "             correlation_table_tool.description: 'corr_table',\n",
    "             statistics_tool.description: 'statistics'}\n",
    "\n",
    "        if c == 'init':\n",
    "            upd_dict = get_upd_dict()\n",
    "            for cbox in tools.children:\n",
    "\n",
    "                if d[cbox.description] in upd_dict['_tools']:\n",
    "                    cbox.value = True\n",
    "                else:\n",
    "                    cbox.value = False\n",
    "        else:\n",
    "            tool = d[c.owner.description]\n",
    "            value = c.new\n",
    "            upd_dict = get_upd_dict()\n",
    "\n",
    "            if value:\n",
    "                upd_dict['_tools'].append(tool)\n",
    "            else:\n",
    "                upd_dict['_tools'].remove(tool)\n",
    "\n",
    "            set_upd_dict(upd_dict)\n",
    "\n",
    "    def create_selected_var_btn(text):\n",
    "        btn = wd.Button(description=text,\n",
    "                        icon='check',\n",
    "                        button_style='',\n",
    "                        layout=choose_layout(text + '1230'))\n",
    "        btn.style.button_color = 'Lime'\n",
    "        btn.on_click(selected_vars)\n",
    "        return btn\n",
    "\n",
    "    def selected_vars(c):\n",
    "        if self.debug:\n",
    "            print('selected_vars()\\t', c)\n",
    "\n",
    "        if c == 'init':\n",
    "            selection_ls = []\n",
    "            upd_dict = get_upd_dict()\n",
    "            if upd_dict['_vars']:\n",
    "                trans_dict = get_translation_dict()\n",
    "                vars_to_remove = []\n",
    "                for var_tup in upd_dict['_vars']:\n",
    "                    if var_tup not in trans_dict.values():\n",
    "                        vars_to_remove.append(var_tup)\n",
    "                    else:\n",
    "                        for k, v in trans_dict.items():\n",
    "                            if var_tup == v:\n",
    "                                var_btn = create_selected_var_btn(k)\n",
    "                                selection_ls.append(var_btn)\n",
    "                                break\n",
    "            selections.children = selection_ls\n",
    "        else:\n",
    "            text = c.description\n",
    "            selection_ls = list(selections.children)\n",
    "            for b in selections.children:\n",
    "                if b.description == text:\n",
    "                    selection_ls.remove(b)\n",
    "                    break\n",
    "\n",
    "            if selection_ls == list(selections.children):\n",
    "                selection_ls.append(create_selected_var_btn(text))\n",
    "            selections.children = selection_ls\n",
    "            update_selections()\n",
    "\n",
    "    def update_selections():\n",
    "        upd_dict = get_upd_dict()\n",
    "        translation_dict = get_translation_dict()\n",
    "        var_tuples = [translation_dict[btn.description]\n",
    "                      for btn in selections.children]\n",
    "        upd_dict['_vars'] = var_tuples\n",
    "        upd_dict['_y_axes_dict'] = distribute_vars(var_tuples)\n",
    "        set_upd_dict(upd_dict)\n",
    "\n",
    "    def distribute_vars(selected_vars: list = None):\n",
    "        # validate and distribute_vars on different y-axes\n",
    "\n",
    "        y_axes_dict = {}\n",
    "        var2unit_dict = {}\n",
    "        update_var2unit_dict = False\n",
    "        app_configs = self._load_app_configs()\n",
    "        if '_var2unit_map' in app_configs.keys():\n",
    "            var2unit_dict = app_configs['_var2unit_map']\n",
    "            if not {var[0] for var in selected_vars}.issubset(\n",
    "                    var2unit_dict.keys()):\n",
    "                update_var2unit_dict = True\n",
    "        else:\n",
    "            app_configs['_var2unit_map'] = {}\n",
    "            update_var2unit_dict = True\n",
    "        if update_var2unit_dict:\n",
    "            stations = _var_tup2station_dict(selected_vars)\n",
    "            for s_id, var_dict in stations.items():\n",
    "                for file, v_ls in var_dict.items():\n",
    "                    pid = st_df.loc[(st_df.id == s_id) & (\n",
    "                                st_df.specLabel == file)].dobj.values[0]\n",
    "                    do = Dobj(pid)\n",
    "                    meta = IcosFrame.trim_icos_meta(do.meta)\n",
    "                    var_unit_list = meta['varUnitList']\n",
    "                    var2unit_dict.update(\n",
    "                        {v[0]: v[1] for v in var_unit_list})\n",
    "            app_configs['_var2unit_map'].update(var2unit_dict)\n",
    "            self._set_app_configs(app_dict=app_configs)\n",
    "\n",
    "        yaxis = 0\n",
    "        y_axes_dict = {}\n",
    "        for v in selected_vars:\n",
    "            unit = var2unit_dict[v[0]]\n",
    "            if unit in y_axes_dict.keys():\n",
    "                y_axes_dict[unit]['var_ls'].append(v)\n",
    "            else:\n",
    "                y_axes_dict[unit] = {'var_ls': [v],\n",
    "                                     'axis': yaxis}\n",
    "                yaxis += 1\n",
    "\n",
    "        return y_axes_dict\n",
    "\n",
    "    def choose_layout(text: str = None):\n",
    "        this_width = max(len(text) * 9 + 12, 90)\n",
    "        this_layout = wd.Layout(width=f'{this_width}px')\n",
    "\n",
    "        return this_layout\n",
    "\n",
    "    def get_translation_dict() -> dict:\n",
    "\n",
    "        return eval(state_dict_log.value)\n",
    "\n",
    "    def set_translation_dict(d: dict = None):\n",
    "        \"\"\"\n",
    "            The translation dict is of the form\n",
    "            {(var,product,station): \"name of var button\"}\n",
    "            in a one-to-one correspondence.\n",
    "        \"\"\"\n",
    "\n",
    "        if self.debug:\n",
    "            print('set_translation_dict()\\t',d)\n",
    "        state_dict_log.value = str(d)\n",
    "\n",
    "    def get_upd_dict():\n",
    "        return eval(upd_dict_log.value)\n",
    "\n",
    "    def set_upd_dict(d):\n",
    "        if self.debug:\n",
    "            print('set_upd_dict()\\t', d)\n",
    "\n",
    "        error_ls = d.get('_name_error', [])\n",
    "        if error_ls:\n",
    "            html_error_msg(error_ls)\n",
    "        else:\n",
    "            with out:\n",
    "                clear_output()\n",
    "        upd_dict_log.value = str(d)\n",
    "\n",
    "    def new_setting(c):\n",
    "        set_upd_dict({'_orig_name': '',\n",
    "                      '_new_name': '',\n",
    "                      '_tools': [],\n",
    "                      '_vars': [],\n",
    "                      '_y_axes_dict': {}})\n",
    "\n",
    "        batch_name.value = \"Name of batch job\"\n",
    "        activate_gui('new')\n",
    "\n",
    "    def upd_setting(c):\n",
    "        if self.debug:\n",
    "            print('upd_setting() ', batch_drop.label, batch_drop.value)\n",
    "        batch_to_update = batch_drop.value\n",
    "        batch_to_update['_orig_name'] = batch_drop.label\n",
    "        batch_to_update['_new_name'] = batch_drop.label\n",
    "        batch_name.value = batch_drop.label\n",
    "        set_upd_dict(batch_to_update)\n",
    "        activate_gui('update')\n",
    "\n",
    "    def save_setting(c):\n",
    "        upd_dict = get_upd_dict()\n",
    "        b_name = upd_dict['_new_name']\n",
    "        grp = group_drop.value\n",
    "        cache = self._load_cache()\n",
    "        batches = cache['_groups'][grp].get('_batches', {})\n",
    "\n",
    "        if upd_dict['_new_name'] and upd_dict['_tools'] and \\\n",
    "                upd_dict['_vars']:\n",
    "            config = {'_tools': upd_dict['_tools'],\n",
    "                      '_vars': upd_dict['_vars'],\n",
    "                      '_y_axes_dict': upd_dict['_y_axes_dict']}\n",
    "            old_batch = upd_dict['_orig_name']\n",
    "            batches.pop(old_batch,None)\n",
    "            batches[b_name] = config\n",
    "            cache['_groups'][grp]['_batches'] = batches\n",
    "\n",
    "            json_manager.write(data=cache,\n",
    "                               json_file=self.cache_json_file,\n",
    "                               settings_dir=self.appdata_dir)\n",
    "        else:\n",
    "            error_ls = []\n",
    "            if not upd_dict['_new_name']:\n",
    "                error_ls.append('Choose a name for the batch job.')\n",
    "            if not upd_dict['_tools']:\n",
    "                error_ls.append('Choose a tool, e.g a plot-tool.')\n",
    "            if not upd_dict['_vars']:\n",
    "                error_ls.append('Choose some variables for the batch job.')\n",
    "            html_msg(text_ls=error_ls)\n",
    "\n",
    "            return\n",
    "        init(grp, b_name)\n",
    "        activate_gui('save')\n",
    "\n",
    "    def cancel_setting(c):\n",
    "        activate_gui('cancel')\n",
    "\n",
    "    def delete_setting(c):\n",
    "\n",
    "        upd_dict = get_upd_dict()\n",
    "        b_name = upd_dict['_new_name']\n",
    "        batch_to_update = batch_drop.value\n",
    "        error_ls = []\n",
    "        if b_name != batch_drop.label:\n",
    "            if self.debug:\n",
    "                print('delete_setting()\\t ', f'b_name = {b_name}, '\n",
    "                                             f'batch_drop.label = '\n",
    "                                             f'{batch_drop.label}' )\n",
    "            activate_gui('delete')\n",
    "            return\n",
    "        if upd_dict['_orig_name'] != b_name:\n",
    "            error_ls.append('  - Name changed')\n",
    "        if upd_dict['_vars'] != batch_to_update['_vars']:\n",
    "            error_ls.append('  - Variables changed')\n",
    "        if upd_dict['_tools'] != batch_to_update['_tools']:\n",
    "            error_ls.append('  - Tools changed')\n",
    "        if error_ls:\n",
    "            error_ls.insert(0,'Deletion error:')\n",
    "            error_ls.insert(1, 'To delete a batch job, just choose '\n",
    "                               'update and then delete - without '\n",
    "                               'changing it\\'s content.')\n",
    "            error_ls.insert(-1, 'Suggestion: Press Cancel, Update and '\n",
    "                                'Delete')\n",
    "            html_msg(text_ls=error_ls, error=True)\n",
    "            if self.debug:\n",
    "                print('delete_setting()\\t', 1)\n",
    "            return\n",
    "        else:\n",
    "            grp = group_drop.value\n",
    "            cache = self._load_cache()\n",
    "            batches = cache['_groups'][grp].get('_batches', {})\n",
    "            batches.pop(b_name, None)\n",
    "            cache['_groups'][grp]['_batches'] = batches\n",
    "\n",
    "            json_manager.write(data=cache,\n",
    "                               json_file=self.cache_json_file,\n",
    "                               settings_dir=self.appdata_dir)\n",
    "            if self.debug:\n",
    "                print('delete_setting()\\t', 2)\n",
    "            init(grp, b_name)\n",
    "            activate_gui('delete')\n",
    "\n",
    "        # activate/deactivate upd-widgets\n",
    "\n",
    "    def activate_gui(upd_active: str):\n",
    "\n",
    "        with out:\n",
    "            clear_output()\n",
    "\n",
    "        def set_state(widget, disable: bool = None, tooltip: str = None):\n",
    "            if 'children' in widget.keys:\n",
    "                for c in widget.children:\n",
    "                    set_state(c, disable, tooltip)\n",
    "            else:\n",
    "                if disable is not None and 'disabled' in widget.keys:\n",
    "                    widget.disabled = disable\n",
    "                if tooltip is not None and 'tooltip' in widget.keys:\n",
    "                    widget.tooltip = tooltip\n",
    "\n",
    "        # if self.debug:\n",
    "        #    print('activate_gui()\\t', get_temp_dict())\n",
    "\n",
    "        if upd_active in ['new', 'update']:\n",
    "            # update mode\n",
    "            # init update widgets..\n",
    "            #        set_info_msg()\n",
    "            upd_btn.on_click(upd_setting, remove=True)\n",
    "            new_btn.on_click(new_setting, remove=True)\n",
    "            save_btn.on_click(save_setting, remove=False)\n",
    "            delete_btn.on_click(delete_setting, remove=False)\n",
    "            cancel_btn.on_click(cancel_setting, remove=False)\n",
    "            # help_btn.on_click(display_user_guide, remove=False)\n",
    "            set_state(create_btns, disable=True,\n",
    "                      tooltip='Disabled in update mode...')\n",
    "            set_state(group_drop, disable=True)\n",
    "            set_state(batch_drop, disable=True)\n",
    "            set_state(save_btn,\n",
    "                      disable=False,\n",
    "                      tooltip='Save settings...')\n",
    "            set_state(cancel_btn,\n",
    "                      disable=False,\n",
    "                      tooltip='Cancel...')\n",
    "            set_state(buttom_widget,\n",
    "                      disable=False,\n",
    "                      tooltip='')\n",
    "\n",
    "            set_var_btns()\n",
    "\n",
    "            buttom_widget.layout.display = 'block'\n",
    "\n",
    "            # help_btn.disabled = False\n",
    "            if upd_active == 'update':\n",
    "                delete_btn.disabled = False\n",
    "                delete_btn.tooltip = 'Delete...'\n",
    "            else:\n",
    "                delete_btn.disabled = True\n",
    "                delete_btn.tooltip = 'Delete...'\n",
    "                for t in tools.children:\n",
    "                    t.value = False\n",
    "            batch_name.observe(batch_name_changed, 'value')\n",
    "            tool_changed('init')\n",
    "            for t in tools.children:\n",
    "                t.observe(tool_changed, names='value')\n",
    "        else:\n",
    "            # read mode\n",
    "            # turn off observers\n",
    "            cache = self._load_cache()\n",
    "            no_groups = not cache['_groups'].keys()\n",
    "            upd_btn.on_click(upd_setting, remove=no_groups)\n",
    "            new_btn.on_click(new_setting, remove=no_groups)\n",
    "            save_btn.on_click(save_setting, remove=True)\n",
    "            delete_btn.on_click(delete_setting, remove=True)\n",
    "            cancel_btn.on_click(cancel_setting, remove=True)\n",
    "\n",
    "            buttom_widget.layout.display = 'none'\n",
    "            upd_dict_log.value = ''\n",
    "\n",
    "            set_state(create_btns, disable=False)\n",
    "            set_state(upd_btn, disable=no_groups)\n",
    "            set_state(group_drop, disable=False)\n",
    "            set_state(batch_drop, disable=False)\n",
    "            new_btn.tooltip = 'New run setting...'\n",
    "            upd_btn.tooltip = 'Update run setting...'\n",
    "            #        help_btn.disabled = False\n",
    "            set_state(save_btns,\n",
    "                      disable=True,\n",
    "                      tooltip='Enabled in update mode...')\n",
    "            set_state(buttom_widget,\n",
    "                      disable=True,\n",
    "                      tooltip='Enabled in update mode...')\n",
    "            batch_name.unobserve_all()\n",
    "            for t in tools.children:\n",
    "                t.unobserve(tool_changed,\n",
    "                            names='value')\n",
    "\n",
    "                # Station data to check units\n",
    "\n",
    "    st_df = self.stations_df\n",
    "\n",
    "    # control widgets\n",
    "    state_dict_log = wd.Textarea(disabled=True)\n",
    "    upd_dict_log = wd.Textarea(disabled=True)\n",
    "\n",
    "    # layouts\n",
    "    drop_layout = wd.Layout(width='auto',\n",
    "                            height='40px')\n",
    "    var_txt_layout = wd.Layout(width='99%',\n",
    "                               height='100%')\n",
    "    full_layout = wd.Layout(width='100%',\n",
    "                            height='100%')\n",
    "    flexy = wd.Layout(width='100%',\n",
    "                      display='inline-flex',\n",
    "                      flex_flow='row wrap',\n",
    "                      align_content='flex-start')\n",
    "\n",
    "    # 1st row\n",
    "    group_drop = wd.Dropdown(layout=drop_layout)\n",
    "    batch_drop = wd.Dropdown(layout=drop_layout)\n",
    "\n",
    "    group_vars = wd.HTML(layout=var_txt_layout,\n",
    "                         value='Variables: ',\n",
    "                         disabled=True)\n",
    "    g_vars = wd.Accordion([group_vars],\n",
    "                          titles=(group_vars.value, '0'),\n",
    "                          selected_index=None,\n",
    "                          layout=full_layout)\n",
    "\n",
    "    # 2nd row\n",
    "    new_btn = wd.Button(description='New',\n",
    "                        icon='plus',\n",
    "                        button_style='primary')\n",
    "    upd_btn = wd.Button(description='Update',\n",
    "                        icon='pen',\n",
    "                        button_style='info')\n",
    "    save_btn = wd.Button(description='Save',\n",
    "                         icon='save',\n",
    "                         button_style='success')\n",
    "    cancel_btn = wd.Button(description='Cancel',\n",
    "                           icon='ban',\n",
    "                           button_style='info')\n",
    "    delete_btn = wd.Button(description='Delete',\n",
    "                           icon='trash',\n",
    "                           button_style='danger')\n",
    "    create_btns = wd.HBox([new_btn, upd_btn])\n",
    "    save_btns = wd.HBox([save_btn, cancel_btn, delete_btn])\n",
    "\n",
    "    top_widget = wd.VBox([wd.HBox([group_drop,\n",
    "                                   batch_drop,\n",
    "                                   g_vars], layout=full_layout),\n",
    "                          wd.HBox([create_btns,\n",
    "                                   save_btns], layout=flexy)])\n",
    "\n",
    "    # 3rd row, batch name and tools\n",
    "    batch_name = wd.Text(value='Name of batch job',\n",
    "                         layout=choose_layout('Name of batch job'))\n",
    "    split_tool = wd.Checkbox(description='Split-plot',\n",
    "                             disabled=False,\n",
    "                             indent=False,\n",
    "                             layout=choose_layout('Split-plot'))\n",
    "    multi_tool = wd.Checkbox(description='Multi-plot',\n",
    "                             disabled=False,\n",
    "                             indent=False,\n",
    "                             layout=choose_layout('Multi-plot'))\n",
    "    correlation_table_tool = wd.Checkbox(description='Correlation table',\n",
    "                                         disabled=False,\n",
    "                                         indent=False,\n",
    "                                         layout=choose_layout(\n",
    "                                             'Correlation table'))\n",
    "    correlation_plot_tool = wd.Checkbox(\n",
    "        description='Correlation plot (2 vars)',\n",
    "        disabled=False,\n",
    "        indent=False,\n",
    "        layout=choose_layout('Correlation plot (2 vars)'))\n",
    "    statistics_tool = wd.Checkbox(description='Numerical Statistics',\n",
    "                                  disabled=False,\n",
    "                                  indent=False,\n",
    "                                  layout=choose_layout(\n",
    "                                      'Numerical Statistics'))\n",
    "    tools = wd.HBox([split_tool,\n",
    "                     multi_tool,\n",
    "                     correlation_table_tool,\n",
    "                     statistics_tool,\n",
    "                     correlation_plot_tool])\n",
    "    name_tools = wd.HBox([batch_name, tools], layout=flexy)\n",
    "\n",
    "    # row 4, available variables, selected variables, and output\n",
    "    # these are instantiated in init()\n",
    "    var_box = wd.HBox(layout=flexy)\n",
    "    selections = wd.HBox(layout=flexy)\n",
    "\n",
    "    out = wd.Output()\n",
    "\n",
    "    #load_data()\n",
    "    if not init():\n",
    "        display(out)\n",
    "        # init returns error text if there are no variable groups\n",
    "        return out\n",
    "\n",
    "    buttom_widget = wd.VBox([name_tools, var_box, selections])\n",
    "\n",
    "    return_widget = wd.VBox([top_widget, buttom_widget, out])\n",
    "    activate_gui('init')\n",
    "\n",
    "    return return_widget\n",
    "\n"
   ]
  },
  {
   "cell_type": "code",
   "execution_count": 7,
   "id": "b570be59-a394-4be2-8f06-ea2b92aca983",
   "metadata": {},
   "outputs": [
    {
     "name": "stdout",
     "output_type": "stream",
     "text": [
      "write() got an unexpected keyword argument 'json_file'\n"
     ]
    }
   ],
   "source": [
    "from eco_tool import json_handler as json_manager\n",
    "\n",
    "def _load_json(default_dict: dict = None,\n",
    "               json_file: str = 'test.json'):\n",
    "    if default_dict is None:\n",
    "        default_dict = {}\n",
    "    try:\n",
    "        return_dict = json_manager.read(json_file=json_file,\n",
    "                                        settings_dir='appdata')\n",
    "    except Exception as e:\n",
    "        return_dict = {}\n",
    "        print('Exception from \"_load_json()\"!')\n",
    "        print(f'\\nCheck the file: appdata/{json_file}\\n\\n', e)\n",
    "    finally:\n",
    "        for k, v in default_dict.items():\n",
    "            return_dict[k] = return_dict.get(k, v)\n",
    "    return return_dict\n",
    "\n",
    "\n",
    "def _set_app_configs(app_dict: dict = None):\n",
    "    try:\n",
    "        json_manager.write(data=app_dict,\n",
    "                           json_file='cache_ES.json',\n",
    "                           settings_dir='appdata')\n",
    "    except Exception as e:\n",
    "        print(e)\n",
    "    return\n",
    "\n",
    "\n",
    "cache = {'_last_station': 'SE-Sto', '_last_group': 'abisko 8 var', '_groups': {'htm swc': {'_group_vars': [['SWC_1', 'ETC NRT Meteo', 'SE-Htm'], ['SWC_2', 'ETC NRT Meteo', 'SE-Htm'], ['SWC_3', 'ETC NRT Meteo', 'SE-Htm'], ['SWC_4', 'ETC NRT Meteo', 'SE-Htm'], ['SWC_5', 'ETC NRT Meteo', 'SE-Htm']], '_batches': {'swc1': {'_tools': ['split_plot', 'multi_plot', 'corr_table', 'corr_plot'], '_vars': [['SWC_5', 'ETC NRT Meteo', 'SE-Htm']], '_y_axes_dict': {'%': {'var_ls': [['SWC_5', 'ETC NRT Meteo', 'SE-Htm']], 'axis': 0}}}, 'swc3': {'_tools': ['split_plot', 'multi_plot', 'statistics', 'corr_plot'], '_vars': [['SWC_1', 'ETC NRT Meteo', 'SE-Htm'], ['SWC_3', 'ETC NRT Meteo', 'SE-Htm'], ['SWC_2', 'ETC NRT Meteo', 'SE-Htm']], '_y_axes_dict': {'%': {'var_ls': [['SWC_1', 'ETC NRT Meteo', 'SE-Htm'], ['SWC_3', 'ETC NRT Meteo', 'SE-Htm'], ['SWC_2', 'ETC NRT Meteo', 'SE-Htm']], 'axis': 0}}}, 'swc2': {'_tools': ['split_plot', 'multi_plot', 'corr_table', 'corr_plot', 'statistics'], '_vars': [['SWC_1', 'ETC NRT Meteo', 'SE-Htm'], ['SWC_2', 'ETC NRT Meteo', 'SE-Htm']], '_y_axes_dict': {'%': {'var_ls': [['SWC_1', 'ETC NRT Meteo', 'SE-Htm'], ['SWC_2', 'ETC NRT Meteo', 'SE-Htm']], 'axis': 0}}}}}, 'hylt_all': {'_group_vars': [['CO2', 'ETC NRT Fluxes', 'SE-Htm'], ['FC', 'ETC NRT Fluxes', 'SE-Htm'], ['H', 'ETC NRT Fluxes', 'SE-Htm'], ['H2O', 'ETC NRT Fluxes', 'SE-Htm'], ['H_UNCLEANED', 'ETC NRT Fluxes', 'SE-Htm'], ['LE', 'ETC NRT Fluxes', 'SE-Htm'], ['LE_UNCLEANED', 'ETC NRT Fluxes', 'SE-Htm'], ['NEE', 'ETC NRT Fluxes', 'SE-Htm'], ['NEE_UNCLEANED', 'ETC NRT Fluxes', 'SE-Htm'], ['SC', 'ETC NRT Fluxes', 'SE-Htm'], ['TAU', 'ETC NRT Fluxes', 'SE-Htm'], ['USTAR', 'ETC NRT Fluxes', 'SE-Htm'], ['W_SIGMA', 'ETC NRT Fluxes', 'SE-Htm'], ['ZL', 'ETC NRT Fluxes', 'SE-Htm'], ['D_SNOW', 'ETC NRT Meteo', 'SE-Htm'], ['G_1', 'ETC NRT Meteo', 'SE-Htm'], ['LW_IN', 'ETC NRT Meteo', 'SE-Htm'], ['LW_OUT', 'ETC NRT Meteo', 'SE-Htm'], ['P', 'ETC NRT Meteo', 'SE-Htm'], ['PA', 'ETC NRT Meteo', 'SE-Htm'], ['PPFD_BC_IN', 'ETC NRT Meteo', 'SE-Htm'], ['PPFD_DIF', 'ETC NRT Meteo', 'SE-Htm'], ['PPFD_IN', 'ETC NRT Meteo', 'SE-Htm'], ['PPFD_OUT', 'ETC NRT Meteo', 'SE-Htm'], ['RH', 'ETC NRT Meteo', 'SE-Htm'], ['SWC_1', 'ETC NRT Meteo', 'SE-Htm'], ['SWC_2', 'ETC NRT Meteo', 'SE-Htm'], ['TA', 'ETC NRT Meteo', 'SE-Htm'], ['TA_1', 'ETC NRT Meteo', 'SE-Htm'], ['TA_2', 'ETC NRT Meteo', 'SE-Htm'], ['TS_1', 'ETC NRT Meteo', 'SE-Htm'], ['VPD', 'ETC NRT Meteo', 'SE-Htm'], ['VPD_1', 'ETC NRT Meteo', 'SE-Htm'], ['WD', 'ETC NRT Meteo', 'SE-Htm'], ['WS', 'ETC NRT Meteo', 'SE-Htm'], ['WTD', 'ETC NRT Meteo', 'SE-Htm'], ['D_SNOW_1_1_1', 'ETC NRT Meteosens', 'SE-Htm'], ['G_1_1_1', 'ETC NRT Meteosens', 'SE-Htm'], ['LW_OUT_1_1_1', 'ETC NRT Meteosens', 'SE-Htm'], ['TS_1_1_1', 'ETC NRT Meteosens', 'SE-Htm'], ['VPD_3_1_1', 'ETC NRT Meteosens', 'SE-Htm'], ['WTD_1_1_1', 'ETC NRT Meteosens', 'SE-Htm'], ['TA_1_1_1', 'ETC NRT Meteosens', 'SE-Htm'], ['PPFD_BC_IN_1_1_1', 'ETC NRT Meteosens', 'SE-Htm'], ['LW_IN_1_1_1', 'ETC NRT Meteosens', 'SE-Htm'], ['PA_1_1_1', 'ETC NRT Meteosens', 'SE-Htm'], ['P_1_1_1', 'ETC NRT Meteosens', 'SE-Htm'], ['SG_1_1_1', 'ETC NRT Meteosens', 'SE-Htm'], ['RH_1_1_1', 'ETC NRT Meteosens', 'SE-Htm'], ['SWC_1_1_1', 'ETC NRT Meteosens', 'SE-Htm']], '_batches': {'a': {'_tools': ['split_plot'], '_vars': [['CO2', 'ETC NRT Fluxes', 'SE-Htm'], ['FC', 'ETC NRT Fluxes', 'SE-Htm'], ['H', 'ETC NRT Fluxes', 'SE-Htm'], ['H2O', 'ETC NRT Fluxes', 'SE-Htm'], ['H_UNCLEANED', 'ETC NRT Fluxes', 'SE-Htm'], ['LE', 'ETC NRT Fluxes', 'SE-Htm'], ['LE_UNCLEANED', 'ETC NRT Fluxes', 'SE-Htm'], ['NEE', 'ETC NRT Fluxes', 'SE-Htm'], ['NEE_UNCLEANED', 'ETC NRT Fluxes', 'SE-Htm'], ['SC', 'ETC NRT Fluxes', 'SE-Htm'], ['TAU', 'ETC NRT Fluxes', 'SE-Htm'], ['USTAR', 'ETC NRT Fluxes', 'SE-Htm'], ['W_SIGMA', 'ETC NRT Fluxes', 'SE-Htm'], ['ZL', 'ETC NRT Fluxes', 'SE-Htm'], ['D_SNOW', 'ETC NRT Meteo', 'SE-Htm'], ['G_1', 'ETC NRT Meteo', 'SE-Htm'], ['G_2', 'ETC NRT Meteo', 'SE-Htm'], ['LW_IN', 'ETC NRT Meteo', 'SE-Htm'], ['LW_OUT', 'ETC NRT Meteo', 'SE-Htm'], ['P', 'ETC NRT Meteo', 'SE-Htm'], ['PPFD_BC_IN_33_1_1', 'ETC NRT Meteosens', 'SE-Htm'], ['PPFD_BC_IN_40_1_1', 'ETC NRT Meteosens', 'SE-Htm'], ['PPFD_IN_1_1_1', 'ETC NRT Meteosens', 'SE-Htm']], '_y_axes_dict': {'µmol mol-1': {'var_ls': [['CO2', 'ETC NRT Fluxes', 'SE-Htm']], 'axis': 0}, 'µmol m-2 s-1': {'var_ls': [['FC', 'ETC NRT Fluxes', 'SE-Htm'], ['NEE', 'ETC NRT Fluxes', 'SE-Htm'], ['NEE_UNCLEANED', 'ETC NRT Fluxes', 'SE-Htm'], ['SC', 'ETC NRT Fluxes', 'SE-Htm'], ['PPFD_BC_IN_33_1_1', 'ETC NRT Meteosens', 'SE-Htm'], ['PPFD_BC_IN_40_1_1', 'ETC NRT Meteosens', 'SE-Htm'], ['PPFD_IN_1_1_1', 'ETC NRT Meteosens', 'SE-Htm']], 'axis': 1}, 'W m-2': {'var_ls': [['H', 'ETC NRT Fluxes', 'SE-Htm'], ['H_UNCLEANED', 'ETC NRT Fluxes', 'SE-Htm'], ['LE', 'ETC NRT Fluxes', 'SE-Htm'], ['LE_UNCLEANED', 'ETC NRT Fluxes', 'SE-Htm'], ['G_1', 'ETC NRT Meteo', 'SE-Htm'], ['G_2', 'ETC NRT Meteo', 'SE-Htm'], ['LW_IN', 'ETC NRT Meteo', 'SE-Htm'], ['LW_OUT', 'ETC NRT Meteo', 'SE-Htm']], 'axis': 2}, 'mmol mol-1': {'var_ls': [['H2O', 'ETC NRT Fluxes', 'SE-Htm']], 'axis': 3}, 'kg m-1 s-2': {'var_ls': [['TAU', 'ETC NRT Fluxes', 'SE-Htm']], 'axis': 4}, 'm s-1': {'var_ls': [['USTAR', 'ETC NRT Fluxes', 'SE-Htm'], ['W_SIGMA', 'ETC NRT Fluxes', 'SE-Htm']], 'axis': 5}, 'Unitless': {'var_ls': [['ZL', 'ETC NRT Fluxes', 'SE-Htm']], 'axis': 6}, 'cm': {'var_ls': [['D_SNOW', 'ETC NRT Meteo', 'SE-Htm']], 'axis': 7}, 'mm': {'var_ls': [['P', 'ETC NRT Meteo', 'SE-Htm']], 'axis': 8}}}}}, 'abisko 8 var': {'_batches': {'7var': {'_tools': ['split_plot', 'multi_plot', 'corr_table', 'statistics', 'corr_plot'], '_vars': [['CO2', 'ETC NRT Fluxes', 'SE-Sto'], ['H2O', 'ETC NRT Fluxes', 'SE-Sto'], ['H', 'ETC NRT Fluxes', 'SE-Sto'], ['FC', 'ETC NRT Fluxes', 'SE-Sto'], ['SWC_1', 'ETC NRT Meteo', 'SE-Sto'], ['SWC_2', 'ETC NRT Meteo', 'SE-Sto'], ['P', 'ETC NRT Meteo', 'SE-Sto']], '_y_axes_dict': {'µmol mol-1': {'var_ls': [['CO2', 'ETC NRT Fluxes', 'SE-Sto']], 'axis': 0}, 'mmol mol-1': {'var_ls': [['H2O', 'ETC NRT Fluxes', 'SE-Sto']], 'axis': 1}, 'W m-2': {'var_ls': [['H', 'ETC NRT Fluxes', 'SE-Sto']], 'axis': 2}, 'µmol m-2 s-1': {'var_ls': [['FC', 'ETC NRT Fluxes', 'SE-Sto']], 'axis': 3}, '%': {'var_ls': [['SWC_1', 'ETC NRT Meteo', 'SE-Sto'], ['SWC_2', 'ETC NRT Meteo', 'SE-Sto']], 'axis': 4}, 'mm': {'var_ls': [['P', 'ETC NRT Meteo', 'SE-Sto']], 'axis': 5}}}}, '_group_vars': [['CO2', 'ETC NRT Fluxes', 'SE-Sto'], ['FC', 'ETC NRT Fluxes', 'SE-Sto'], ['H', 'ETC NRT Fluxes', 'SE-Sto'], ['ZL', 'ETC NRT Fluxes', 'SE-Sto'], ['H2O', 'ETC NRT Fluxes', 'SE-Sto'], ['SWC_1', 'ETC NRT Meteo', 'SE-Sto'], ['SWC_2', 'ETC NRT Meteo', 'SE-Sto'], ['P', 'ETC NRT Meteo', 'SE-Sto']]}}, '_last_station_id': ''}\n",
    "\n",
    "_set_app_configs(cache)\n",
    "#ccc = _load_json()\n",
    "#ccc\n"
   ]
  },
  {
   "cell_type": "code",
   "execution_count": 8,
   "id": "d7afb05b-2a01-4c7d-a7a5-19cf0d7bd224",
   "metadata": {},
   "outputs": [
    {
     "name": "stdout",
     "output_type": "stream",
     "text": [
      "debug_me\n"
     ]
    },
    {
     "data": {
      "text/plain": [
       "'<module>'"
      ]
     },
     "execution_count": 8,
     "metadata": {},
     "output_type": "execute_result"
    }
   ],
   "source": [
    "import sys\n",
    "def debug_me(a:int=0):\n",
    "    x =900\n",
    "    kss = 'aa'\n",
    "    print(sys._getframe().f_code.co_name)\n",
    "    \n",
    "debug_me(1)\n",
    "sys._getframe().f_code.co_name"
   ]
  },
  {
   "cell_type": "code",
   "execution_count": 9,
   "id": "1f7c4c7b-e539-4c7f-bb76-9429c9260c46",
   "metadata": {},
   "outputs": [
    {
     "ename": "ModuleNotFoundError",
     "evalue": "No module named 'pi'",
     "output_type": "error",
     "traceback": [
      "\u001b[1;31m---------------------------------------------------------------------------\u001b[0m",
      "\u001b[1;31mModuleNotFoundError\u001b[0m                       Traceback (most recent call last)",
      "Cell \u001b[1;32mIn [9], line 12\u001b[0m\n\u001b[0;32m     10\u001b[0m \u001b[38;5;28;01mfrom\u001b[39;00m \u001b[38;5;21;01meco_tool\u001b[39;00m \u001b[38;5;28;01mimport\u001b[39;00m icos_data\n\u001b[0;32m     11\u001b[0m \u001b[38;5;28;01mfrom\u001b[39;00m \u001b[38;5;21;01meco_tool\u001b[39;00m \u001b[38;5;28;01mimport\u001b[39;00m plot\n\u001b[1;32m---> 12\u001b[0m \u001b[38;5;28;01mfrom\u001b[39;00m \u001b[38;5;21;01mpi\u001b[39;00m\u001b[38;5;21;01m.\u001b[39;00m\u001b[38;5;21;01micos_timeseries\u001b[39;00m \u001b[38;5;28;01mimport\u001b[39;00m IcosFrame\n\u001b[0;32m     13\u001b[0m \u001b[38;5;28;01mfrom\u001b[39;00m \u001b[38;5;21;01meco_tool\u001b[39;00m \u001b[38;5;28;01mimport\u001b[39;00m json_handler \u001b[38;5;28;01mas\u001b[39;00m json_manager\n\u001b[0;32m     16\u001b[0m \u001b[38;5;66;03m# from eco_tool import gui\u001b[39;00m\n",
      "\u001b[1;31mModuleNotFoundError\u001b[0m: No module named 'pi'"
     ]
    }
   ],
   "source": [
    "import datetime\n",
    "import warnings\n",
    "\n",
    "from ipywidgets import widgets as wd, HBox, VBox, Layout\n",
    "from IPython.display import display, clear_output\n",
    "import datetime as dt\n",
    "\n",
    "warnings.simplefilter(\"ignore\", FutureWarning)\n",
    "from icoscp.cpb.dobj import Dobj\n",
    "from eco_tool import icos_data\n",
    "from eco_tool import plot\n",
    "from pi.icos_timeseries import IcosFrame\n",
    "from eco_tool import json_handler as json_manager\n",
    "\n",
    "\n",
    "# from eco_tool import gui\n",
    "debug = False\n",
    "theme = 'ES'\n",
    "icos_info = icos_data.StationData(theme='ES')\n",
    "stations_df = icos_info.stations_df\n",
    "# self = gui.AnalysisGui('ES', debug = True)\n",
    "app_config_json_file = f'app_config_{theme}.json'\n",
    "cache_json_file = f'cache_{theme}.json'\n",
    "cache = None\n",
    "settings_json_file = f'settings_{theme}.json'\n",
    "appdata_dir = 'appdata'\n",
    "\n",
    "\n",
    "def _load_cache( refresh: bool = False):\n",
    "    if  refresh:\n",
    "        c = 0\n",
    "    else:\n",
    "        default_dict = {'_last_station': '',\n",
    "                        '_last_station_id': '',\n",
    "                        '_last_group': '',\n",
    "                        '_groups': {}}\n",
    "        c = _load_json(default_dict=default_dict,\n",
    "                            json_file=cache_json_file)\n",
    "        cache = c\n",
    "    return c\n",
    "\n",
    "def _load_json(default_dict: dict = None,\n",
    "               json_file: str = None):\n",
    "    if default_dict is None:\n",
    "        default_dict = {}\n",
    "    try:\n",
    "        return_dict = json_manager.read(json_file=json_file,\n",
    "                                        settings_dir=appdata_dir)\n",
    "    except Exception as e:\n",
    "        return_dict = {}\n",
    "        print('Exception from \"_load_json()\"!')\n",
    "        print(f'\\nCheck the file: {appdata_dir}/{json_file}\\n\\n', e)\n",
    "    finally:\n",
    "        for k, v in default_dict.items():\n",
    "            return_dict[k] = return_dict.get(k, v)\n",
    "    return return_dict\n",
    "\n",
    "def _load_user_settings():\n",
    "    default_dict = {'_end_date': 0,\n",
    "                    '_start_date': 10,\n",
    "                    '_fetch_date': 5,\n",
    "                    '_zoom_sliders': 2}\n",
    "    return _load_json(default_dict=default_dict,\n",
    "                           json_file=settings_json_file)\n",
    "\n",
    "\n",
    "def _start():\n",
    "\n",
    "    #if self.debug:\n",
    "    #    print('*** _start()\\n')\n",
    "\n",
    "    # run part\n",
    "    stored_timeseries = {}\n",
    "        #\n",
    "        # if '_tools' not in c.keys():\n",
    "        #     c['_tools'] = {}\n",
    "        #\n",
    "        # # If there is a group we set some default values for the tools.\n",
    "        # # '_last_run': '2' means that the last \"run\" used the settings in '2'\n",
    "        # # and '2': ['Split plot', 2, 5], says that the setting use\n",
    "        # # - The tool: 'Split plot'\n",
    "        # # - with a slider after every second variable of the group\n",
    "        # # - The data is 5 days back until now.\n",
    "        # for x in c['_groups'].keys():\n",
    "        #     if x not in c['_tools']:\n",
    "        #         c['_tools'][x] = {'_last_run': '2',\n",
    "        #                           '1': ['Split plot', 5, 7],\n",
    "        #                           '2': ['Split plot', 2, 5]}\n",
    "        # return c\n",
    "\n",
    "    def set_gui():\n",
    "        cache = _load_cache()\n",
    "        # set group drop\n",
    "        if cache['_groups'].keys():\n",
    "            group_drop.options = list(cache['_groups'].keys())\n",
    "            if cache['_last_group']:\n",
    "                group_drop.value = cache['_last_group']\n",
    "            else:\n",
    "                group_drop.value = group_drop.options[0]\n",
    "            group_drop.disabled = False\n",
    "        else:\n",
    "            group_drop.options = ['No groups loaded...']\n",
    "            group_drop.value = group_drop.options[0]\n",
    "            group_drop.disabled = True\n",
    "\n",
    "        # tool settings\n",
    "        settings = _load_user_settings()\n",
    "        end_shift = - settings['_end_date']\n",
    "        start_shift = - settings['_start_date']\n",
    "        fetch_shift = settings['_fetch_date']\n",
    "\n",
    "        end_date.value = dt.date.today() + dt.timedelta(days=end_shift)\n",
    "        start_date.value = end_date.value + dt.timedelta(days=start_shift)\n",
    "        days.value = fetch_shift\n",
    "        tool_settings('')\n",
    "\n",
    "    def days_changed(change):\n",
    "        start_date.value = end_date.value + dt.timedelta(days=-days.value)\n",
    "\n",
    "    def date_changed(change):\n",
    "        if change['owner'].description == 'End date':\n",
    "            if change['new'] <= start_date.value:\n",
    "                end_date.value = change['old']\n",
    "        elif change['owner'].description == 'Start date':\n",
    "            if change['new'] >= end_date.value:\n",
    "                start_date.value = change['old']\n",
    "\n",
    "    def tool_settings(change):\n",
    "        # The toggle buttons are settings for what to run and how. \n",
    "        # Example: a plot with sliders for every 3:ed variable, \n",
    "        #          with a perspective for 7 days back.\n",
    "\n",
    "        grp = group_drop.value\n",
    "\n",
    "        if change == '':\n",
    "            # Init the toggle buttons on what to run\n",
    "            #\n",
    "            # if grp not in cache['_tools'].keys():\n",
    "            return\n",
    "\n",
    "            #     # Note the space...\n",
    "            # selected_setting = cache['_tools'][grp]['_last_run'] + ' '\n",
    "            #\n",
    "            # # Note: We have added a space to the label in\n",
    "            # # order to make place for the icon\n",
    "            # tool_ls = [str(x) + ' ' for x in cache['_tools'][grp].keys() if\n",
    "            #            x != '_last_run']\n",
    "            # tool_buttons.options = tool_ls\n",
    "            # tool_buttons.value = selected_setting\n",
    "            # tool_buttons.style.button_width = \"50px\"\n",
    "            # tool_buttons.tooltip = 'settings'\n",
    "        else:\n",
    "            selected_setting = change['new']\n",
    "            tool_ls = tool_buttons.options\n",
    "\n",
    "            # Set the values for the choice\n",
    "            setting_ls = ['Split plot']\n",
    "            tool_drop.value = setting_ls[0]\n",
    "            plot_sliders.value = setting_ls[1]\n",
    "            days.value = setting_ls[2]\n",
    "\n",
    "        # Finally, we set the icons according to selection (we do this\n",
    "        # because it is hard to detect if there are only two choices...)\n",
    "        selected_index = tool_ls.index(selected_setting)\n",
    "        icons_ls = ['square-o'] * (len(tool_ls) - 1)\n",
    "        icons_ls.insert(selected_index, 'check-square-o')\n",
    "        tool_buttons.icons = icons_ls\n",
    "\n",
    "    def get_data():\n",
    "        with out:\n",
    "            display(wd.HTML(value='<h1>Generating report...</h1>'))\n",
    "        grp = group_drop.value\n",
    "        cache = _load_cache()\n",
    "        var_tuple_ls = cache['_groups'][grp]['_group_vars']\n",
    "\n",
    "        start = start_date.value\n",
    "        end = end_date.value\n",
    "\n",
    "        # Reuse timeseries if possible\n",
    "        store = stored_timeseries.get(grp, None)\n",
    "        if isinstance(store, dict):\n",
    "            if store['start'] <= start and store['end'] >= end:\n",
    "                df = store['df']\n",
    "                return df\n",
    "\n",
    "        var_pid_ls = []\n",
    "        for var, prod, stn in var_tuple_ls:\n",
    "            # sampleheight needed for 'AS'\n",
    "            pid = st_df.loc[(st_df.id == stn) & (st_df.specLabel ==\n",
    "                                                 prod)].dobj.values[0]\n",
    "            var_pid_ls.append((var, pid))\n",
    "\n",
    "        stored_start = start + dt.timedelta(days=-days.value)\n",
    "        stored_end = end + dt.timedelta(days=2)\n",
    "        if debug:\n",
    "            with out:\n",
    "                print(var_pid_ls)\n",
    "\n",
    "        df = None\n",
    "        try:\n",
    "            df = icos_data.StationData.group_ts(var_tuple_ls=var_pid_ls,\n",
    "                                                start_date=stored_start,\n",
    "                                                end_date=stored_end)\n",
    "        except Exception:\n",
    "            if debug:\n",
    "                import traceback\n",
    "                with out:\n",
    "                    print('-- Error in call: \\n',\n",
    "                          f'icos_data.StationData.group_ts(var_tuple_ls={var_pid_ls},'\n",
    "                          + f'\\nstart_date= {stored_start}, \\nend_date= {stored_end})',\n",
    "                          type(stored_start), type(stored_end))\n",
    "                    print('Traceback: ', traceback.format_exc())\n",
    "\n",
    "\n",
    "        # Store the timeseries\n",
    "        stored_timeseries[grp] = {'start': stored_start,\n",
    "                                       'end': stored_end,\n",
    "                                       'df': df}\n",
    "\n",
    "        return df\n",
    "\n",
    "    def run(c):\n",
    "        with out:\n",
    "            clear_output()\n",
    "        df = get_data()\n",
    "        if debug:\n",
    "            with out:\n",
    "                print(type(df))\n",
    "\n",
    "        # Generating report title\n",
    "        grp = group_drop.value\n",
    "        stations = df.icos_station_name\n",
    "        products = df.icos_product\n",
    "        urls = df.icos_accessUrl\n",
    "        today = datetime.datetime.today().strftime(\"%Y-%m-%d %H:%M:%S\")\n",
    "        rep_title1 = f'<h1>Report for the variable group: <font color=\"DodgerBlue\">{grp}</font>, {today}.</h1><br>'\n",
    "        rep_title2 = 'Data from '\n",
    "        rep_title3 = ''\n",
    "        if all((isinstance(x, str) for x in [stations, products, urls])):\n",
    "            rep_title2 += f'<a href=\"{urls}\" target = \"_blank\">\\\n",
    "            <font color=\"DarkBlue\">{products}</font></a> of {stations}.'\n",
    "        elif all((isinstance(x, list) for x in [stations, products, urls])) and \\\n",
    "                len(stations) == len(products) and len(products) == len(urls):\n",
    "            n = len(stations)\n",
    "            d = {}\n",
    "            for i in range(n):\n",
    "                s = stations[i]\n",
    "                p = products[i]\n",
    "                u = urls[i]\n",
    "                v = (p, u)\n",
    "                if s in d.keys():\n",
    "                    if v not in d[s]:\n",
    "                        d[s].append(v)\n",
    "                else:\n",
    "                    d[s] = [v]\n",
    "            last_char = ''\n",
    "            for s, v in d.items():\n",
    "                rep_title2 += last_char\n",
    "                for tup in v:\n",
    "                    rep_title2 += f'<a href=\"{tup[1]}\" target = \"_blank\">\\\n",
    "                    <font color=\"DarkBlue\">{tup[0]}</font></a>, '\n",
    "                rep_title2 += f' of {s}'\n",
    "                last_char = ';<br>'\n",
    "            rep_title2 += '.'\n",
    "        else:\n",
    "            if isinstance(products, str):\n",
    "                rep_title2 += f'Data from {products}'\n",
    "            else:\n",
    "                rep_title2 += f'Data from {\", \".join(products)}'\n",
    "\n",
    "            if isinstance(stations, str):\n",
    "                rep_title2 += f' collected at {stations}.'\n",
    "            elif len(set(stations)) == 1:\n",
    "                rep_title2 += f' collected at {stations[0]}.'\n",
    "            else:\n",
    "                rep_title2 += f' collected at {\", \".join(stations)}.'\n",
    "            rep_title2 = f'<h2>{rep_title2}</h2><br>'\n",
    "\n",
    "            if isinstance(urls, str):\n",
    "                rep_title3 += f'Link to data:  <a href=\"{urls}\">{urls}</a>.'\n",
    "            else:\n",
    "                rep_title3 += 'Links to data:  '\n",
    "                for u in urls:\n",
    "                    rep_title3 += f'<a href = \"{u}\" target = \"_blank\"> {u} </a>.'\n",
    "\n",
    "        rep_title2 = f'<h3>{rep_title2}</h3>'\n",
    "        report_title = rep_title1 + rep_title2 + rep_title3\n",
    "\n",
    "        with out:\n",
    "            clear_output()\n",
    "            report = wd.HTML(value=report_title)\n",
    "            display(report)\n",
    "\n",
    "        if tool_drop.value == 'Split plot':\n",
    "\n",
    "            sliders = int(plot_sliders.value)\n",
    "            var_units = df.icos_var_unit_ls\n",
    "            data = df[start_date.value:end_date.value]\n",
    "            title = f'Split plot of variable group {grp}  (Timestamp: {today})'\n",
    "\n",
    "            with out:\n",
    "                plot.split_plot(data,\n",
    "                                n=sliders,\n",
    "                                units=var_units,\n",
    "                                title=title).show()\n",
    "\n",
    "    def save():\n",
    "        # clear local storage\n",
    "        _flush_store('')\n",
    "        cache = _load_cache()\n",
    "        json_manager.write(data=cache,\n",
    "                           json_file=cache_json_file,\n",
    "                           settings_dir=appdata_dir)\n",
    "\n",
    "    # Layouts\n",
    "\n",
    "    right_aligned_column = Layout(display='flex',\n",
    "                                  # Possible values of display:flex, grid\n",
    "                                  flex_flow='column',\n",
    "                                  # Pos. values of flex_flow:row,column\n",
    "                                  align_items='flex-end')\n",
    "    # Pos values of  align_items: center, flex-start, flex-end, stretch\n",
    "\n",
    "    common_layout = wd.Layout(width='148pt',height='30px')\n",
    "\n",
    "    # Dropdowns\n",
    "\n",
    "    group_drop = wd.Dropdown(description='Groups',\n",
    "                             layout=common_layout)\n",
    "    tool_drop = wd.Dropdown(description='Tools',\n",
    "                            options=['Split plot',\n",
    "                                     'Correlation plot',\n",
    "                                     'Correlation table'],\n",
    "                            layout=common_layout)\n",
    "\n",
    "    plot_sliders = wd.Dropdown(description=\"Plot sliders\",\n",
    "                               options=range(1, 10),\n",
    "                               layout=common_layout)\n",
    "\n",
    "    days = wd.Dropdown(description=\"Max days\",\n",
    "                       options=range(1, 100),\n",
    "                       layout=common_layout)\n",
    "\n",
    "    start_date = wd.DatePicker(description='Start date',\n",
    "                               layout=common_layout)\n",
    "\n",
    "    end_date = wd.DatePicker(description='End date',\n",
    "                             layout=common_layout,\n",
    "                             tooltip='Default is yesterday')\n",
    "\n",
    "    tool_buttons = wd.ToggleButtons(button_style=\"success\",\n",
    "                                    tooltip='settings')\n",
    "    add_btn = wd.Button(description='Add setting',\n",
    "                        icon='plus',\n",
    "                        button_style='primary')\n",
    "    save_btn = wd.Button(description='Save setting',\n",
    "                         icon='save',\n",
    "                         button_style='success')\n",
    "    info_btn = wd.Button(description='Info',\n",
    "                         icon='fa-info-circle',\n",
    "                         button_style='info')\n",
    "\n",
    "    toolbox = wd.VBox([wd.HBox([tool_buttons]), wd.HBox([save_btn, add_btn])])\n",
    "\n",
    "    run_btn = wd.Button(description=\"Run\", icon='area-chart',\n",
    "                        button_style='success')  #####, layout=center_layout)\n",
    "\n",
    "    st_df = stations_df\n",
    "    set_gui()\n",
    "\n",
    "    # observe changes\n",
    "    run_btn.on_click(run)\n",
    "    tool_buttons.observe(tool_settings, \"value\")\n",
    "    days.observe(days_changed, \"value\")\n",
    "    start_date.observe(date_changed, \"value\")\n",
    "    end_date.observe(date_changed, \"value\")\n",
    "\n",
    "    out = wd.Output()\n",
    "\n",
    "    display(\n",
    "        VBox([HBox([VBox([group_drop, run_btn], layout=right_aligned_column),\n",
    "                    VBox([tool_drop, plot_sliders],\n",
    "                         layout=right_aligned_column),\n",
    "                    VBox([days, start_date, end_date]), toolbox]),\n",
    "              out]))\n",
    "\n",
    "    if debug:\n",
    "        run(0)\n",
    "#_start()\n",
    "cache = _load_cache()\n",
    "cache['_groups']['abisko 5 var']['_batches']['4var']\n",
    "#cache['_groups']['hylt_all'].keys()"
   ]
  },
  {
   "cell_type": "code",
   "execution_count": 10,
   "id": "fe0dfba7-322f-4659-8e73-8c67088de3de",
   "metadata": {},
   "outputs": [
    {
     "ename": "AttributeError",
     "evalue": "module 'eco_tool.plot' has no attribute 'corr_plot'",
     "output_type": "error",
     "traceback": [
      "\u001b[1;31m---------------------------------------------------------------------------\u001b[0m",
      "\u001b[1;31mAttributeError\u001b[0m                            Traceback (most recent call last)",
      "Cell \u001b[1;32mIn [10], line 15\u001b[0m\n\u001b[0;32m      9\u001b[0m df \u001b[38;5;241m=\u001b[39m icos_data\u001b[38;5;241m.\u001b[39mStationData\u001b[38;5;241m.\u001b[39mgroup_ts(var_tuple_ls\u001b[38;5;241m=\u001b[39mvar_pid_ls,\n\u001b[0;32m     10\u001b[0m                                             start_date\u001b[38;5;241m=\u001b[39m\u001b[38;5;124m'\u001b[39m\u001b[38;5;124m2023-04-15\u001b[39m\u001b[38;5;124m'\u001b[39m,\n\u001b[0;32m     11\u001b[0m                                             end_date\u001b[38;5;241m=\u001b[39m\u001b[38;5;124m'\u001b[39m\u001b[38;5;124m2023-05-15\u001b[39m\u001b[38;5;124m'\u001b[39m)\n\u001b[0;32m     12\u001b[0m df\n\u001b[1;32m---> 15\u001b[0m plot\u001b[38;5;241m.\u001b[39mcorr_plot(df, x_col\u001b[38;5;241m=\u001b[39m\u001b[38;5;124m'\u001b[39m\u001b[38;5;124mH2O\u001b[39m\u001b[38;5;124m'\u001b[39m,y_col\u001b[38;5;241m=\u001b[39m\u001b[38;5;124m'\u001b[39m\u001b[38;5;124mH\u001b[39m\u001b[38;5;124m'\u001b[39m, title\u001b[38;5;241m=\u001b[39m\u001b[38;5;124m'\u001b[39m\u001b[38;5;124mMy plot\u001b[39m\u001b[38;5;124m'\u001b[39m, use_latex \u001b[38;5;241m=\u001b[39m \u001b[38;5;28;01mTrue\u001b[39;00m)\n\u001b[0;32m     16\u001b[0m units \u001b[38;5;241m=\u001b[39m {\u001b[38;5;124m'\u001b[39m\u001b[38;5;124mCO2\u001b[39m\u001b[38;5;124m'\u001b[39m: \u001b[38;5;124m'\u001b[39m\u001b[38;5;124mµmol mol-1\u001b[39m\u001b[38;5;124m'\u001b[39m, \n\u001b[0;32m     17\u001b[0m                              \u001b[38;5;124m'\u001b[39m\u001b[38;5;124mH\u001b[39m\u001b[38;5;124m'\u001b[39m:   \u001b[38;5;124m'\u001b[39m\u001b[38;5;124mW m-2\u001b[39m\u001b[38;5;124m'\u001b[39m, \n\u001b[0;32m     18\u001b[0m                              \u001b[38;5;124m'\u001b[39m\u001b[38;5;124mH2O\u001b[39m\u001b[38;5;124m'\u001b[39m: \u001b[38;5;124m'\u001b[39m\u001b[38;5;124mmmol mol-1\u001b[39m\u001b[38;5;124m'\u001b[39m }\n\u001b[0;32m     19\u001b[0m units \u001b[38;5;241m=\u001b[39m [(\u001b[38;5;124m'\u001b[39m\u001b[38;5;124mCO2\u001b[39m\u001b[38;5;124m'\u001b[39m, \u001b[38;5;124m'\u001b[39m\u001b[38;5;124mµmol mol-1\u001b[39m\u001b[38;5;124m'\u001b[39m), (\u001b[38;5;124m'\u001b[39m\u001b[38;5;124mFC\u001b[39m\u001b[38;5;124m'\u001b[39m, \u001b[38;5;124m'\u001b[39m\u001b[38;5;124mµmol m-2 s-1\u001b[39m\u001b[38;5;124m'\u001b[39m),(\u001b[38;5;124m'\u001b[39m\u001b[38;5;124mH\u001b[39m\u001b[38;5;124m'\u001b[39m, \u001b[38;5;124m'\u001b[39m\u001b[38;5;124mW m-2\u001b[39m\u001b[38;5;124m'\u001b[39m),(\u001b[38;5;124m'\u001b[39m\u001b[38;5;124mH2O\u001b[39m\u001b[38;5;124m'\u001b[39m, \u001b[38;5;124m'\u001b[39m\u001b[38;5;124mmmol mol-1\u001b[39m\u001b[38;5;124m'\u001b[39m)] \n",
      "\u001b[1;31mAttributeError\u001b[0m: module 'eco_tool.plot' has no attribute 'corr_plot'"
     ]
    }
   ],
   "source": [
    "from eco_tool import plot\n",
    "\n",
    "icos_info = icos_data.StationData(theme='ES')\n",
    "stations_df = icos_info.stations_df\n",
    "pid = stations_df.loc[(stations_df.name=='Auchencorth Moss') & (stations_df.specLabel == 'ETC NRT Fluxes')].dobj.values[0]\n",
    "do = Dobj(pid)\n",
    "do.data\n",
    "var_pid_ls = [('CO2',pid),('FC',pid),('H',pid),('H2O',pid)]\n",
    "df = icos_data.StationData.group_ts(var_tuple_ls=var_pid_ls,\n",
    "                                            start_date='2023-04-15',\n",
    "                                            end_date='2023-05-15')\n",
    "df\n",
    "\n",
    "\n",
    "plot.corr_plot(df, x_col='H2O',y_col='H', title='My plot', use_latex = True)\n",
    "units = {'CO2': 'µmol mol-1', \n",
    "                             'H':   'W m-2', \n",
    "                             'H2O': 'mmol mol-1' }\n",
    "units = [('CO2', 'µmol mol-1'), ('FC', 'µmol m-2 s-1'),('H', 'W m-2'),('H2O', 'mmol mol-1')] \n",
    "plot.multi_plot(df, units = units, title = 'teatat')\n",
    "#df"
   ]
  },
  {
   "cell_type": "code",
   "execution_count": 19,
   "id": "d8a6dd95-6d91-4836-9daf-108959b76269",
   "metadata": {},
   "outputs": [
    {
     "ename": "NameError",
     "evalue": "name '_load_cache' is not defined",
     "output_type": "error",
     "traceback": [
      "\u001b[1;31m---------------------------------------------------------------------------\u001b[0m",
      "\u001b[1;31mNameError\u001b[0m                                 Traceback (most recent call last)",
      "Cell \u001b[1;32mIn [19], line 52\u001b[0m\n\u001b[0;32m     49\u001b[0m     y_axes_dict \u001b[38;5;241m=\u001b[39m batch[\u001b[38;5;124m'\u001b[39m\u001b[38;5;124m_y_axes_dict\u001b[39m\u001b[38;5;124m'\u001b[39m]\n\u001b[0;32m     50\u001b[0m     display(y_axes_dict)\n\u001b[1;32m---> 52\u001b[0m cache \u001b[38;5;241m=\u001b[39m _load_cache()\n\u001b[0;32m     53\u001b[0m b_ls \u001b[38;5;241m=\u001b[39m \u001b[38;5;28mlist\u001b[39m(cache[\u001b[38;5;124m'\u001b[39m\u001b[38;5;124m_groups\u001b[39m\u001b[38;5;124m'\u001b[39m][grp][\u001b[38;5;124m'\u001b[39m\u001b[38;5;124m_batches\u001b[39m\u001b[38;5;124m'\u001b[39m]\u001b[38;5;241m.\u001b[39mkeys())\n\u001b[0;32m     54\u001b[0m btn \u001b[38;5;241m=\u001b[39m wd\u001b[38;5;241m.\u001b[39mButton(description\u001b[38;5;241m=\u001b[39m\u001b[38;5;124m'\u001b[39m\u001b[38;5;124mRun all batch jobs\u001b[39m\u001b[38;5;124m'\u001b[39m,\n\u001b[0;32m     55\u001b[0m                 icon\u001b[38;5;241m=\u001b[39m\u001b[38;5;124m'\u001b[39m\u001b[38;5;124mbar-chart\u001b[39m\u001b[38;5;124m'\u001b[39m,\n\u001b[0;32m     56\u001b[0m                 button_style\u001b[38;5;241m=\u001b[39m\u001b[38;5;124m'\u001b[39m\u001b[38;5;124m'\u001b[39m,\n\u001b[0;32m     57\u001b[0m                 layout\u001b[38;5;241m=\u001b[39mLayout(width \u001b[38;5;241m=\u001b[39m\u001b[38;5;124m'\u001b[39m\u001b[38;5;124m150px\u001b[39m\u001b[38;5;124m'\u001b[39m))\n",
      "\u001b[1;31mNameError\u001b[0m: name '_load_cache' is not defined"
     ]
    }
   ],
   "source": [
    "grp = 'htm swc'\n",
    "\n",
    "st_df = stations_df\n",
    "\n",
    "def get_data():\n",
    "    var_tuple_ls = cache['_groups'][grp]['_group_vars']\n",
    "\n",
    "    var_pid_ls = []\n",
    "    for var, prod, stn in var_tuple_ls:\n",
    "        # sampleheight needed for 'AS'\n",
    "        pid = st_df.loc[(st_df.id == stn) & (st_df.specLabel ==\n",
    "                                             prod)].dobj.values[0]\n",
    "        var_pid_ls.append((var, pid))\n",
    "\n",
    "    stored_start = start + dt.timedelta(days=-days.value)\n",
    "    stored_end = end + dt.timedelta(days=2)\n",
    "    if self.debug:\n",
    "        with out:\n",
    "            print(var_pid_ls)\n",
    "\n",
    "    df = None\n",
    "    try:\n",
    "        df = icos_data.StationData.group_ts(var_tuple_ls=var_pid_ls,\n",
    "                                            start_date=stored_start,\n",
    "                                            end_date=stored_end)\n",
    "    except Exception:\n",
    "        if self.debug:\n",
    "            import traceback\n",
    "            with out:\n",
    "                print('-- Error in call: \\n',\n",
    "                      f'icos_data.StationData.group_ts(var_tuple_ls={var_pid_ls},'\n",
    "                      + f'\\nstart_date= {stored_start}, \\nend_date= {stored_end})',\n",
    "                      type(stored_start), type(stored_end))\n",
    "                print('Traceback: ', traceback.format_exc())\n",
    "\n",
    "\n",
    "    # Store the timeseries\n",
    "    self.stored_timeseries[grp] = {'start': stored_start,\n",
    "                                   'end': stored_end,\n",
    "                                   'df': df}\n",
    "\n",
    "    return df\n",
    "\n",
    "\n",
    "def run_batch(c):\n",
    "    batch = cache['_groups'][grp]['_batches'][c.description]\n",
    "    var_ls = batch['_vars']\n",
    "    tool_ls = batch['_tools']\n",
    "    y_axes_dict = batch['_y_axes_dict']\n",
    "    display(y_axes_dict)\n",
    "\n",
    "cache = _load_cache()\n",
    "b_ls = list(cache['_groups'][grp]['_batches'].keys())\n",
    "btn = wd.Button(description='Run all batch jobs',\n",
    "                icon='bar-chart',\n",
    "                button_style='',\n",
    "                layout=Layout(width ='150px'))\n",
    "btn.style.button_color = 'MediumSeaGreen'\n",
    "bt_ls = [btn]\n",
    "for b in b_ls: \n",
    "    btn = wd.Button(description=b,\n",
    "                    icon='bar-chart',\n",
    "                    button_style='',\n",
    "                    layout=Layout(width ='120px'))\n",
    "    btn.style.button_color = 'LightGreen'\n",
    "    btn.on_click(run_batch)\n",
    "    bt_ls.append(btn)\n",
    "    \n",
    "display(*bt_ls)"
   ]
  },
  {
   "cell_type": "code",
   "execution_count": 21,
   "id": "9b47d32d-340d-40b6-ac2c-2109de56287e",
   "metadata": {},
   "outputs": [
    {
     "data": {
      "application/vnd.jupyter.widget-view+json": {
       "model_id": "946e43c4809747d28e06c2a0107b5712",
       "version_major": 2,
       "version_minor": 0
      },
      "text/plain": [
       "Output()"
      ]
     },
     "metadata": {},
     "output_type": "display_data"
    },
    {
     "data": {
      "application/vnd.jupyter.widget-view+json": {
       "model_id": "e5c462e077024d9498fb0e0eb68a0188",
       "version_major": 2,
       "version_minor": 0
      },
      "text/plain": [
       "Dropdown(index=5, options=('aa', 'vv', 'ss', 'ssss', 'dfg', 'sss'), value='sss')"
      ]
     },
     "metadata": {},
     "output_type": "display_data"
    }
   ],
   "source": [
    "from ipywidgets import widgets as wd\n",
    "from IPython.display import display, clear_output\n",
    " \n",
    "\n",
    "def fun(x: str=None, y: str = None):\n",
    "    with out:\n",
    "        print(x,y)\n",
    "drop = wd.Dropdown(options=['aa','vv','ss','ssss','dfg','sss'], value = 'sss')\n",
    "drop.observe(fun, names= 'value')\n",
    "\n",
    "out = wd.Output()\n",
    "\n",
    "display(out)\n",
    "display(drop)"
   ]
  },
  {
   "cell_type": "code",
   "execution_count": 22,
   "id": "8def27fc-90c3-4eeb-a600-bbf6b5c4aa2f",
   "metadata": {},
   "outputs": [
    {
     "data": {
      "application/vnd.plotly.v1+json": {
       "config": {
        "plotlyServerURL": "https://plot.ly"
       },
       "data": [
        {
         "hovertemplate": "country=Australia<br>year=%{x}<br>lifeExp=%{y}<extra></extra>",
         "legendgroup": "Australia",
         "line": {
          "color": "#636efa",
          "dash": "solid"
         },
         "marker": {
          "symbol": "circle"
         },
         "mode": "lines",
         "name": "Australia",
         "orientation": "v",
         "showlegend": true,
         "type": "scatter",
         "x": [
          1952,
          1957,
          1962,
          1967,
          1972,
          1977,
          1982,
          1987,
          1992,
          1997,
          2002,
          2007
         ],
         "xaxis": "x",
         "y": [
          69.12,
          70.33,
          70.93,
          71.1,
          71.93,
          73.49,
          74.74,
          76.32,
          77.56,
          78.83,
          80.37,
          81.235
         ],
         "yaxis": "y"
        },
        {
         "hovertemplate": "country=New Zealand<br>year=%{x}<br>lifeExp=%{y}<extra></extra>",
         "legendgroup": "New Zealand",
         "line": {
          "color": "#EF553B",
          "dash": "solid"
         },
         "marker": {
          "symbol": "circle"
         },
         "mode": "lines",
         "name": "New Zealand",
         "orientation": "v",
         "showlegend": true,
         "type": "scatter",
         "x": [
          1952,
          1957,
          1962,
          1967,
          1972,
          1977,
          1982,
          1987,
          1992,
          1997,
          2002,
          2007
         ],
         "xaxis": "x",
         "y": [
          69.39,
          70.26,
          71.24,
          71.52,
          71.89,
          72.22,
          73.84,
          74.32,
          76.33,
          77.55,
          79.11,
          80.204
         ],
         "yaxis": "y"
        }
       ],
       "layout": {
        "autosize": true,
        "legend": {
         "title": {
          "text": "country"
         },
         "tracegroupgap": 0
        },
        "margin": {
         "t": 60
        },
        "template": {
         "data": {
          "bar": [
           {
            "error_x": {
             "color": "#2a3f5f"
            },
            "error_y": {
             "color": "#2a3f5f"
            },
            "marker": {
             "line": {
              "color": "#E5ECF6",
              "width": 0.5
             },
             "pattern": {
              "fillmode": "overlay",
              "size": 10,
              "solidity": 0.2
             }
            },
            "type": "bar"
           }
          ],
          "barpolar": [
           {
            "marker": {
             "line": {
              "color": "#E5ECF6",
              "width": 0.5
             },
             "pattern": {
              "fillmode": "overlay",
              "size": 10,
              "solidity": 0.2
             }
            },
            "type": "barpolar"
           }
          ],
          "carpet": [
           {
            "aaxis": {
             "endlinecolor": "#2a3f5f",
             "gridcolor": "white",
             "linecolor": "white",
             "minorgridcolor": "white",
             "startlinecolor": "#2a3f5f"
            },
            "baxis": {
             "endlinecolor": "#2a3f5f",
             "gridcolor": "white",
             "linecolor": "white",
             "minorgridcolor": "white",
             "startlinecolor": "#2a3f5f"
            },
            "type": "carpet"
           }
          ],
          "choropleth": [
           {
            "colorbar": {
             "outlinewidth": 0,
             "ticks": ""
            },
            "type": "choropleth"
           }
          ],
          "contour": [
           {
            "colorbar": {
             "outlinewidth": 0,
             "ticks": ""
            },
            "colorscale": [
             [
              0,
              "#0d0887"
             ],
             [
              0.1111111111111111,
              "#46039f"
             ],
             [
              0.2222222222222222,
              "#7201a8"
             ],
             [
              0.3333333333333333,
              "#9c179e"
             ],
             [
              0.4444444444444444,
              "#bd3786"
             ],
             [
              0.5555555555555556,
              "#d8576b"
             ],
             [
              0.6666666666666666,
              "#ed7953"
             ],
             [
              0.7777777777777778,
              "#fb9f3a"
             ],
             [
              0.8888888888888888,
              "#fdca26"
             ],
             [
              1,
              "#f0f921"
             ]
            ],
            "type": "contour"
           }
          ],
          "contourcarpet": [
           {
            "colorbar": {
             "outlinewidth": 0,
             "ticks": ""
            },
            "type": "contourcarpet"
           }
          ],
          "heatmap": [
           {
            "colorbar": {
             "outlinewidth": 0,
             "ticks": ""
            },
            "colorscale": [
             [
              0,
              "#0d0887"
             ],
             [
              0.1111111111111111,
              "#46039f"
             ],
             [
              0.2222222222222222,
              "#7201a8"
             ],
             [
              0.3333333333333333,
              "#9c179e"
             ],
             [
              0.4444444444444444,
              "#bd3786"
             ],
             [
              0.5555555555555556,
              "#d8576b"
             ],
             [
              0.6666666666666666,
              "#ed7953"
             ],
             [
              0.7777777777777778,
              "#fb9f3a"
             ],
             [
              0.8888888888888888,
              "#fdca26"
             ],
             [
              1,
              "#f0f921"
             ]
            ],
            "type": "heatmap"
           }
          ],
          "heatmapgl": [
           {
            "colorbar": {
             "outlinewidth": 0,
             "ticks": ""
            },
            "colorscale": [
             [
              0,
              "#0d0887"
             ],
             [
              0.1111111111111111,
              "#46039f"
             ],
             [
              0.2222222222222222,
              "#7201a8"
             ],
             [
              0.3333333333333333,
              "#9c179e"
             ],
             [
              0.4444444444444444,
              "#bd3786"
             ],
             [
              0.5555555555555556,
              "#d8576b"
             ],
             [
              0.6666666666666666,
              "#ed7953"
             ],
             [
              0.7777777777777778,
              "#fb9f3a"
             ],
             [
              0.8888888888888888,
              "#fdca26"
             ],
             [
              1,
              "#f0f921"
             ]
            ],
            "type": "heatmapgl"
           }
          ],
          "histogram": [
           {
            "marker": {
             "pattern": {
              "fillmode": "overlay",
              "size": 10,
              "solidity": 0.2
             }
            },
            "type": "histogram"
           }
          ],
          "histogram2d": [
           {
            "colorbar": {
             "outlinewidth": 0,
             "ticks": ""
            },
            "colorscale": [
             [
              0,
              "#0d0887"
             ],
             [
              0.1111111111111111,
              "#46039f"
             ],
             [
              0.2222222222222222,
              "#7201a8"
             ],
             [
              0.3333333333333333,
              "#9c179e"
             ],
             [
              0.4444444444444444,
              "#bd3786"
             ],
             [
              0.5555555555555556,
              "#d8576b"
             ],
             [
              0.6666666666666666,
              "#ed7953"
             ],
             [
              0.7777777777777778,
              "#fb9f3a"
             ],
             [
              0.8888888888888888,
              "#fdca26"
             ],
             [
              1,
              "#f0f921"
             ]
            ],
            "type": "histogram2d"
           }
          ],
          "histogram2dcontour": [
           {
            "colorbar": {
             "outlinewidth": 0,
             "ticks": ""
            },
            "colorscale": [
             [
              0,
              "#0d0887"
             ],
             [
              0.1111111111111111,
              "#46039f"
             ],
             [
              0.2222222222222222,
              "#7201a8"
             ],
             [
              0.3333333333333333,
              "#9c179e"
             ],
             [
              0.4444444444444444,
              "#bd3786"
             ],
             [
              0.5555555555555556,
              "#d8576b"
             ],
             [
              0.6666666666666666,
              "#ed7953"
             ],
             [
              0.7777777777777778,
              "#fb9f3a"
             ],
             [
              0.8888888888888888,
              "#fdca26"
             ],
             [
              1,
              "#f0f921"
             ]
            ],
            "type": "histogram2dcontour"
           }
          ],
          "mesh3d": [
           {
            "colorbar": {
             "outlinewidth": 0,
             "ticks": ""
            },
            "type": "mesh3d"
           }
          ],
          "parcoords": [
           {
            "line": {
             "colorbar": {
              "outlinewidth": 0,
              "ticks": ""
             }
            },
            "type": "parcoords"
           }
          ],
          "pie": [
           {
            "automargin": true,
            "type": "pie"
           }
          ],
          "scatter": [
           {
            "fillpattern": {
             "fillmode": "overlay",
             "size": 10,
             "solidity": 0.2
            },
            "type": "scatter"
           }
          ],
          "scatter3d": [
           {
            "line": {
             "colorbar": {
              "outlinewidth": 0,
              "ticks": ""
             }
            },
            "marker": {
             "colorbar": {
              "outlinewidth": 0,
              "ticks": ""
             }
            },
            "type": "scatter3d"
           }
          ],
          "scattercarpet": [
           {
            "marker": {
             "colorbar": {
              "outlinewidth": 0,
              "ticks": ""
             }
            },
            "type": "scattercarpet"
           }
          ],
          "scattergeo": [
           {
            "marker": {
             "colorbar": {
              "outlinewidth": 0,
              "ticks": ""
             }
            },
            "type": "scattergeo"
           }
          ],
          "scattergl": [
           {
            "marker": {
             "colorbar": {
              "outlinewidth": 0,
              "ticks": ""
             }
            },
            "type": "scattergl"
           }
          ],
          "scattermapbox": [
           {
            "marker": {
             "colorbar": {
              "outlinewidth": 0,
              "ticks": ""
             }
            },
            "type": "scattermapbox"
           }
          ],
          "scatterpolar": [
           {
            "marker": {
             "colorbar": {
              "outlinewidth": 0,
              "ticks": ""
             }
            },
            "type": "scatterpolar"
           }
          ],
          "scatterpolargl": [
           {
            "marker": {
             "colorbar": {
              "outlinewidth": 0,
              "ticks": ""
             }
            },
            "type": "scatterpolargl"
           }
          ],
          "scatterternary": [
           {
            "marker": {
             "colorbar": {
              "outlinewidth": 0,
              "ticks": ""
             }
            },
            "type": "scatterternary"
           }
          ],
          "surface": [
           {
            "colorbar": {
             "outlinewidth": 0,
             "ticks": ""
            },
            "colorscale": [
             [
              0,
              "#0d0887"
             ],
             [
              0.1111111111111111,
              "#46039f"
             ],
             [
              0.2222222222222222,
              "#7201a8"
             ],
             [
              0.3333333333333333,
              "#9c179e"
             ],
             [
              0.4444444444444444,
              "#bd3786"
             ],
             [
              0.5555555555555556,
              "#d8576b"
             ],
             [
              0.6666666666666666,
              "#ed7953"
             ],
             [
              0.7777777777777778,
              "#fb9f3a"
             ],
             [
              0.8888888888888888,
              "#fdca26"
             ],
             [
              1,
              "#f0f921"
             ]
            ],
            "type": "surface"
           }
          ],
          "table": [
           {
            "cells": {
             "fill": {
              "color": "#EBF0F8"
             },
             "line": {
              "color": "white"
             }
            },
            "header": {
             "fill": {
              "color": "#C8D4E3"
             },
             "line": {
              "color": "white"
             }
            },
            "type": "table"
           }
          ]
         },
         "layout": {
          "annotationdefaults": {
           "arrowcolor": "#2a3f5f",
           "arrowhead": 0,
           "arrowwidth": 1
          },
          "autotypenumbers": "strict",
          "coloraxis": {
           "colorbar": {
            "outlinewidth": 0,
            "ticks": ""
           }
          },
          "colorscale": {
           "diverging": [
            [
             0,
             "#8e0152"
            ],
            [
             0.1,
             "#c51b7d"
            ],
            [
             0.2,
             "#de77ae"
            ],
            [
             0.3,
             "#f1b6da"
            ],
            [
             0.4,
             "#fde0ef"
            ],
            [
             0.5,
             "#f7f7f7"
            ],
            [
             0.6,
             "#e6f5d0"
            ],
            [
             0.7,
             "#b8e186"
            ],
            [
             0.8,
             "#7fbc41"
            ],
            [
             0.9,
             "#4d9221"
            ],
            [
             1,
             "#276419"
            ]
           ],
           "sequential": [
            [
             0,
             "#0d0887"
            ],
            [
             0.1111111111111111,
             "#46039f"
            ],
            [
             0.2222222222222222,
             "#7201a8"
            ],
            [
             0.3333333333333333,
             "#9c179e"
            ],
            [
             0.4444444444444444,
             "#bd3786"
            ],
            [
             0.5555555555555556,
             "#d8576b"
            ],
            [
             0.6666666666666666,
             "#ed7953"
            ],
            [
             0.7777777777777778,
             "#fb9f3a"
            ],
            [
             0.8888888888888888,
             "#fdca26"
            ],
            [
             1,
             "#f0f921"
            ]
           ],
           "sequentialminus": [
            [
             0,
             "#0d0887"
            ],
            [
             0.1111111111111111,
             "#46039f"
            ],
            [
             0.2222222222222222,
             "#7201a8"
            ],
            [
             0.3333333333333333,
             "#9c179e"
            ],
            [
             0.4444444444444444,
             "#bd3786"
            ],
            [
             0.5555555555555556,
             "#d8576b"
            ],
            [
             0.6666666666666666,
             "#ed7953"
            ],
            [
             0.7777777777777778,
             "#fb9f3a"
            ],
            [
             0.8888888888888888,
             "#fdca26"
            ],
            [
             1,
             "#f0f921"
            ]
           ]
          },
          "colorway": [
           "#636efa",
           "#EF553B",
           "#00cc96",
           "#ab63fa",
           "#FFA15A",
           "#19d3f3",
           "#FF6692",
           "#B6E880",
           "#FF97FF",
           "#FECB52"
          ],
          "font": {
           "color": "#2a3f5f"
          },
          "geo": {
           "bgcolor": "white",
           "lakecolor": "white",
           "landcolor": "#E5ECF6",
           "showlakes": true,
           "showland": true,
           "subunitcolor": "white"
          },
          "hoverlabel": {
           "align": "left"
          },
          "hovermode": "closest",
          "mapbox": {
           "style": "light"
          },
          "paper_bgcolor": "white",
          "plot_bgcolor": "#E5ECF6",
          "polar": {
           "angularaxis": {
            "gridcolor": "white",
            "linecolor": "white",
            "ticks": ""
           },
           "bgcolor": "#E5ECF6",
           "radialaxis": {
            "gridcolor": "white",
            "linecolor": "white",
            "ticks": ""
           }
          },
          "scene": {
           "xaxis": {
            "backgroundcolor": "#E5ECF6",
            "gridcolor": "white",
            "gridwidth": 2,
            "linecolor": "white",
            "showbackground": true,
            "ticks": "",
            "zerolinecolor": "white"
           },
           "yaxis": {
            "backgroundcolor": "#E5ECF6",
            "gridcolor": "white",
            "gridwidth": 2,
            "linecolor": "white",
            "showbackground": true,
            "ticks": "",
            "zerolinecolor": "white"
           },
           "zaxis": {
            "backgroundcolor": "#E5ECF6",
            "gridcolor": "white",
            "gridwidth": 2,
            "linecolor": "white",
            "showbackground": true,
            "ticks": "",
            "zerolinecolor": "white"
           }
          },
          "shapedefaults": {
           "line": {
            "color": "#2a3f5f"
           }
          },
          "ternary": {
           "aaxis": {
            "gridcolor": "white",
            "linecolor": "white",
            "ticks": ""
           },
           "baxis": {
            "gridcolor": "white",
            "linecolor": "white",
            "ticks": ""
           },
           "bgcolor": "#E5ECF6",
           "caxis": {
            "gridcolor": "white",
            "linecolor": "white",
            "ticks": ""
           }
          },
          "title": {
           "x": 0.05
          },
          "xaxis": {
           "automargin": true,
           "gridcolor": "white",
           "linecolor": "white",
           "ticks": "",
           "title": {
            "standoff": 15
           },
           "zerolinecolor": "white",
           "zerolinewidth": 2
          },
          "yaxis": {
           "automargin": true,
           "gridcolor": "white",
           "linecolor": "white",
           "ticks": "",
           "title": {
            "standoff": 15
           },
           "zerolinecolor": "white",
           "zerolinewidth": 2
          }
         }
        },
        "xaxis": {
         "anchor": "y",
         "autorange": true,
         "domain": [
          0,
          1
         ],
         "range": [
          1952,
          2007
         ],
         "title": {
          "text": "year"
         },
         "type": "linear"
        },
        "yaxis": {
         "anchor": "x",
         "autorange": true,
         "domain": [
          0,
          1
         ],
         "range": [
          68.44694444444445,
          81.90805555555555
         ],
         "title": {
          "text": "lifeExp"
         },
         "type": "linear"
        }
       }
      },
      "image/png": "[encoded data removed]",
      "text/html": [
       "<div>                            <div id=\"e8341e58-c492-4652-be9b-3e2411cbffbf\" class=\"plotly-graph-div\" style=\"height:525px; width:100%;\"></div>            <script type=\"text/javascript\">                require([\"plotly\"], function(Plotly) {                    window.PLOTLYENV=window.PLOTLYENV || {};                                    if (document.getElementById(\"e8341e58-c492-4652-be9b-3e2411cbffbf\")) {                    Plotly.newPlot(                        \"e8341e58-c492-4652-be9b-3e2411cbffbf\",                        [{\"hovertemplate\":\"country=Australia<br>year=%{x}<br>lifeExp=%{y}<extra></extra>\",\"legendgroup\":\"Australia\",\"line\":{\"color\":\"#636efa\",\"dash\":\"solid\"},\"marker\":{\"symbol\":\"circle\"},\"mode\":\"lines\",\"name\":\"Australia\",\"orientation\":\"v\",\"showlegend\":true,\"x\":[1952,1957,1962,1967,1972,1977,1982,1987,1992,1997,2002,2007],\"xaxis\":\"x\",\"y\":[69.12,70.33,70.93,71.1,71.93,73.49,74.74,76.32,77.56,78.83,80.37,81.235],\"yaxis\":\"y\",\"type\":\"scatter\"},{\"hovertemplate\":\"country=New Zealand<br>year=%{x}<br>lifeExp=%{y}<extra></extra>\",\"legendgroup\":\"New Zealand\",\"line\":{\"color\":\"#EF553B\",\"dash\":\"solid\"},\"marker\":{\"symbol\":\"circle\"},\"mode\":\"lines\",\"name\":\"New Zealand\",\"orientation\":\"v\",\"showlegend\":true,\"x\":[1952,1957,1962,1967,1972,1977,1982,1987,1992,1997,2002,2007],\"xaxis\":\"x\",\"y\":[69.39,70.26,71.24,71.52,71.89,72.22,73.84,74.32,76.33,77.55,79.11,80.204],\"yaxis\":\"y\",\"type\":\"scatter\"}],                        {\"template\":{\"data\":{\"histogram2dcontour\":[{\"type\":\"histogram2dcontour\",\"colorbar\":{\"outlinewidth\":0,\"ticks\":\"\"},\"colorscale\":[[0.0,\"#0d0887\"],[0.1111111111111111,\"#46039f\"],[0.2222222222222222,\"#7201a8\"],[0.3333333333333333,\"#9c179e\"],[0.4444444444444444,\"#bd3786\"],[0.5555555555555556,\"#d8576b\"],[0.6666666666666666,\"#ed7953\"],[0.7777777777777778,\"#fb9f3a\"],[0.8888888888888888,\"#fdca26\"],[1.0,\"#f0f921\"]]}],\"choropleth\":[{\"type\":\"choropleth\",\"colorbar\":{\"outlinewidth\":0,\"ticks\":\"\"}}],\"histogram2d\":[{\"type\":\"histogram2d\",\"colorbar\":{\"outlinewidth\":0,\"ticks\":\"\"},\"colorscale\":[[0.0,\"#0d0887\"],[0.1111111111111111,\"#46039f\"],[0.2222222222222222,\"#7201a8\"],[0.3333333333333333,\"#9c179e\"],[0.4444444444444444,\"#bd3786\"],[0.5555555555555556,\"#d8576b\"],[0.6666666666666666,\"#ed7953\"],[0.7777777777777778,\"#fb9f3a\"],[0.8888888888888888,\"#fdca26\"],[1.0,\"#f0f921\"]]}],\"heatmap\":[{\"type\":\"heatmap\",\"colorbar\":{\"outlinewidth\":0,\"ticks\":\"\"},\"colorscale\":[[0.0,\"#0d0887\"],[0.1111111111111111,\"#46039f\"],[0.2222222222222222,\"#7201a8\"],[0.3333333333333333,\"#9c179e\"],[0.4444444444444444,\"#bd3786\"],[0.5555555555555556,\"#d8576b\"],[0.6666666666666666,\"#ed7953\"],[0.7777777777777778,\"#fb9f3a\"],[0.8888888888888888,\"#fdca26\"],[1.0,\"#f0f921\"]]}],\"heatmapgl\":[{\"type\":\"heatmapgl\",\"colorbar\":{\"outlinewidth\":0,\"ticks\":\"\"},\"colorscale\":[[0.0,\"#0d0887\"],[0.1111111111111111,\"#46039f\"],[0.2222222222222222,\"#7201a8\"],[0.3333333333333333,\"#9c179e\"],[0.4444444444444444,\"#bd3786\"],[0.5555555555555556,\"#d8576b\"],[0.6666666666666666,\"#ed7953\"],[0.7777777777777778,\"#fb9f3a\"],[0.8888888888888888,\"#fdca26\"],[1.0,\"#f0f921\"]]}],\"contourcarpet\":[{\"type\":\"contourcarpet\",\"colorbar\":{\"outlinewidth\":0,\"ticks\":\"\"}}],\"contour\":[{\"type\":\"contour\",\"colorbar\":{\"outlinewidth\":0,\"ticks\":\"\"},\"colorscale\":[[0.0,\"#0d0887\"],[0.1111111111111111,\"#46039f\"],[0.2222222222222222,\"#7201a8\"],[0.3333333333333333,\"#9c179e\"],[0.4444444444444444,\"#bd3786\"],[0.5555555555555556,\"#d8576b\"],[0.6666666666666666,\"#ed7953\"],[0.7777777777777778,\"#fb9f3a\"],[0.8888888888888888,\"#fdca26\"],[1.0,\"#f0f921\"]]}],\"surface\":[{\"type\":\"surface\",\"colorbar\":{\"outlinewidth\":0,\"ticks\":\"\"},\"colorscale\":[[0.0,\"#0d0887\"],[0.1111111111111111,\"#46039f\"],[0.2222222222222222,\"#7201a8\"],[0.3333333333333333,\"#9c179e\"],[0.4444444444444444,\"#bd3786\"],[0.5555555555555556,\"#d8576b\"],[0.6666666666666666,\"#ed7953\"],[0.7777777777777778,\"#fb9f3a\"],[0.8888888888888888,\"#fdca26\"],[1.0,\"#f0f921\"]]}],\"mesh3d\":[{\"type\":\"mesh3d\",\"colorbar\":{\"outlinewidth\":0,\"ticks\":\"\"}}],\"scatter\":[{\"fillpattern\":{\"fillmode\":\"overlay\",\"size\":10,\"solidity\":0.2},\"type\":\"scatter\"}],\"parcoords\":[{\"type\":\"parcoords\",\"line\":{\"colorbar\":{\"outlinewidth\":0,\"ticks\":\"\"}}}],\"scatterpolargl\":[{\"type\":\"scatterpolargl\",\"marker\":{\"colorbar\":{\"outlinewidth\":0,\"ticks\":\"\"}}}],\"bar\":[{\"error_x\":{\"color\":\"#2a3f5f\"},\"error_y\":{\"color\":\"#2a3f5f\"},\"marker\":{\"line\":{\"color\":\"#E5ECF6\",\"width\":0.5},\"pattern\":{\"fillmode\":\"overlay\",\"size\":10,\"solidity\":0.2}},\"type\":\"bar\"}],\"scattergeo\":[{\"type\":\"scattergeo\",\"marker\":{\"colorbar\":{\"outlinewidth\":0,\"ticks\":\"\"}}}],\"scatterpolar\":[{\"type\":\"scatterpolar\",\"marker\":{\"colorbar\":{\"outlinewidth\":0,\"ticks\":\"\"}}}],\"histogram\":[{\"marker\":{\"pattern\":{\"fillmode\":\"overlay\",\"size\":10,\"solidity\":0.2}},\"type\":\"histogram\"}],\"scattergl\":[{\"type\":\"scattergl\",\"marker\":{\"colorbar\":{\"outlinewidth\":0,\"ticks\":\"\"}}}],\"scatter3d\":[{\"type\":\"scatter3d\",\"line\":{\"colorbar\":{\"outlinewidth\":0,\"ticks\":\"\"}},\"marker\":{\"colorbar\":{\"outlinewidth\":0,\"ticks\":\"\"}}}],\"scattermapbox\":[{\"type\":\"scattermapbox\",\"marker\":{\"colorbar\":{\"outlinewidth\":0,\"ticks\":\"\"}}}],\"scatterternary\":[{\"type\":\"scatterternary\",\"marker\":{\"colorbar\":{\"outlinewidth\":0,\"ticks\":\"\"}}}],\"scattercarpet\":[{\"type\":\"scattercarpet\",\"marker\":{\"colorbar\":{\"outlinewidth\":0,\"ticks\":\"\"}}}],\"carpet\":[{\"aaxis\":{\"endlinecolor\":\"#2a3f5f\",\"gridcolor\":\"white\",\"linecolor\":\"white\",\"minorgridcolor\":\"white\",\"startlinecolor\":\"#2a3f5f\"},\"baxis\":{\"endlinecolor\":\"#2a3f5f\",\"gridcolor\":\"white\",\"linecolor\":\"white\",\"minorgridcolor\":\"white\",\"startlinecolor\":\"#2a3f5f\"},\"type\":\"carpet\"}],\"table\":[{\"cells\":{\"fill\":{\"color\":\"#EBF0F8\"},\"line\":{\"color\":\"white\"}},\"header\":{\"fill\":{\"color\":\"#C8D4E3\"},\"line\":{\"color\":\"white\"}},\"type\":\"table\"}],\"barpolar\":[{\"marker\":{\"line\":{\"color\":\"#E5ECF6\",\"width\":0.5},\"pattern\":{\"fillmode\":\"overlay\",\"size\":10,\"solidity\":0.2}},\"type\":\"barpolar\"}],\"pie\":[{\"automargin\":true,\"type\":\"pie\"}]},\"layout\":{\"autotypenumbers\":\"strict\",\"colorway\":[\"#636efa\",\"#EF553B\",\"#00cc96\",\"#ab63fa\",\"#FFA15A\",\"#19d3f3\",\"#FF6692\",\"#B6E880\",\"#FF97FF\",\"#FECB52\"],\"font\":{\"color\":\"#2a3f5f\"},\"hovermode\":\"closest\",\"hoverlabel\":{\"align\":\"left\"},\"paper_bgcolor\":\"white\",\"plot_bgcolor\":\"#E5ECF6\",\"polar\":{\"bgcolor\":\"#E5ECF6\",\"angularaxis\":{\"gridcolor\":\"white\",\"linecolor\":\"white\",\"ticks\":\"\"},\"radialaxis\":{\"gridcolor\":\"white\",\"linecolor\":\"white\",\"ticks\":\"\"}},\"ternary\":{\"bgcolor\":\"#E5ECF6\",\"aaxis\":{\"gridcolor\":\"white\",\"linecolor\":\"white\",\"ticks\":\"\"},\"baxis\":{\"gridcolor\":\"white\",\"linecolor\":\"white\",\"ticks\":\"\"},\"caxis\":{\"gridcolor\":\"white\",\"linecolor\":\"white\",\"ticks\":\"\"}},\"coloraxis\":{\"colorbar\":{\"outlinewidth\":0,\"ticks\":\"\"}},\"colorscale\":{\"sequential\":[[0.0,\"#0d0887\"],[0.1111111111111111,\"#46039f\"],[0.2222222222222222,\"#7201a8\"],[0.3333333333333333,\"#9c179e\"],[0.4444444444444444,\"#bd3786\"],[0.5555555555555556,\"#d8576b\"],[0.6666666666666666,\"#ed7953\"],[0.7777777777777778,\"#fb9f3a\"],[0.8888888888888888,\"#fdca26\"],[1.0,\"#f0f921\"]],\"sequentialminus\":[[0.0,\"#0d0887\"],[0.1111111111111111,\"#46039f\"],[0.2222222222222222,\"#7201a8\"],[0.3333333333333333,\"#9c179e\"],[0.4444444444444444,\"#bd3786\"],[0.5555555555555556,\"#d8576b\"],[0.6666666666666666,\"#ed7953\"],[0.7777777777777778,\"#fb9f3a\"],[0.8888888888888888,\"#fdca26\"],[1.0,\"#f0f921\"]],\"diverging\":[[0,\"#8e0152\"],[0.1,\"#c51b7d\"],[0.2,\"#de77ae\"],[0.3,\"#f1b6da\"],[0.4,\"#fde0ef\"],[0.5,\"#f7f7f7\"],[0.6,\"#e6f5d0\"],[0.7,\"#b8e186\"],[0.8,\"#7fbc41\"],[0.9,\"#4d9221\"],[1,\"#276419\"]]},\"xaxis\":{\"gridcolor\":\"white\",\"linecolor\":\"white\",\"ticks\":\"\",\"title\":{\"standoff\":15},\"zerolinecolor\":\"white\",\"automargin\":true,\"zerolinewidth\":2},\"yaxis\":{\"gridcolor\":\"white\",\"linecolor\":\"white\",\"ticks\":\"\",\"title\":{\"standoff\":15},\"zerolinecolor\":\"white\",\"automargin\":true,\"zerolinewidth\":2},\"scene\":{\"xaxis\":{\"backgroundcolor\":\"#E5ECF6\",\"gridcolor\":\"white\",\"linecolor\":\"white\",\"showbackground\":true,\"ticks\":\"\",\"zerolinecolor\":\"white\",\"gridwidth\":2},\"yaxis\":{\"backgroundcolor\":\"#E5ECF6\",\"gridcolor\":\"white\",\"linecolor\":\"white\",\"showbackground\":true,\"ticks\":\"\",\"zerolinecolor\":\"white\",\"gridwidth\":2},\"zaxis\":{\"backgroundcolor\":\"#E5ECF6\",\"gridcolor\":\"white\",\"linecolor\":\"white\",\"showbackground\":true,\"ticks\":\"\",\"zerolinecolor\":\"white\",\"gridwidth\":2}},\"shapedefaults\":{\"line\":{\"color\":\"#2a3f5f\"}},\"annotationdefaults\":{\"arrowcolor\":\"#2a3f5f\",\"arrowhead\":0,\"arrowwidth\":1},\"geo\":{\"bgcolor\":\"white\",\"landcolor\":\"#E5ECF6\",\"subunitcolor\":\"white\",\"showland\":true,\"showlakes\":true,\"lakecolor\":\"white\"},\"title\":{\"x\":0.05},\"mapbox\":{\"style\":\"light\"}}},\"xaxis\":{\"anchor\":\"y\",\"domain\":[0.0,1.0],\"title\":{\"text\":\"year\"}},\"yaxis\":{\"anchor\":\"x\",\"domain\":[0.0,1.0],\"title\":{\"text\":\"lifeExp\"}},\"legend\":{\"title\":{\"text\":\"country\"},\"tracegroupgap\":0},\"margin\":{\"t\":60}},                        {\"responsive\": true}                    ).then(function(){\n",
       "                            \n",
       "var gd = document.getElementById('e8341e58-c492-4652-be9b-3e2411cbffbf');\n",
       "var x = new MutationObserver(function (mutations, observer) {{\n",
       "        var display = window.getComputedStyle(gd).display;\n",
       "        if (!display || display === 'none') {{\n",
       "            console.log([gd, 'removed!']);\n",
       "            Plotly.purge(gd);\n",
       "            observer.disconnect();\n",
       "        }}\n",
       "}});\n",
       "\n",
       "// Listen for the removal of the full notebook cells\n",
       "var notebookContainer = gd.closest('#notebook-container');\n",
       "if (notebookContainer) {{\n",
       "    x.observe(notebookContainer, {childList: true});\n",
       "}}\n",
       "\n",
       "// Listen for the clearing of the current output cell\n",
       "var outputEl = gd.closest('.output');\n",
       "if (outputEl) {{\n",
       "    x.observe(outputEl, {childList: true});\n",
       "}}\n",
       "\n",
       "                        })                };                });            </script>        </div>"
      ]
     },
     "metadata": {},
     "output_type": "display_data"
    }
   ],
   "source": [
    "import plotly.express as px\n",
    "\n",
    "df = px.data.gapminder().query(\"continent=='Oceania'\")\n",
    "fig = px.line(df, x=\"year\", y=\"lifeExp\", color='country')\n",
    "fig.show()"
   ]
  },
  {
   "cell_type": "code",
   "execution_count": 23,
   "id": "19b654b8-0a06-4e2b-b8ea-11c3b646b6a5",
   "metadata": {},
   "outputs": [
    {
     "data": {
      "text/plain": [
       "False"
      ]
     },
     "execution_count": 23,
     "metadata": {},
     "output_type": "execute_result"
    }
   ],
   "source": [
    "a = [('a',1),('b',2),('c',3),('d',4)]\n",
    "b = ['c','b']\n",
    "ab = [x for x in a if x[0] in b]\n",
    "b.extend([x for x in a if x[0] not in b])\n",
    "a.sort(key = (lambda x: x[0] if x[0] not in b else str(b.index(x[0]))))\n",
    "a\n",
    "dd = {'k': {2:11, 5: 111}}\n",
    "2 in dd.get('kl',{1:22,5:''}).keys()\n",
    "#'k0' in dd.keys()"
   ]
  },
  {
   "cell_type": "code",
   "execution_count": 24,
   "id": "273a8dcf-279e-43bb-bafe-0d195c10f69f",
   "metadata": {},
   "outputs": [
    {
     "data": {
      "application/vnd.jupyter.widget-view+json": {
       "model_id": "e802e3a94f17429d98fd713036c3a890",
       "version_major": 2,
       "version_minor": 0
      },
      "text/plain": [
       "Button(description='aa', style=ButtonStyle())"
      ]
     },
     "execution_count": 24,
     "metadata": {},
     "output_type": "execute_result"
    }
   ],
   "source": [
    "from ipywidgets import widgets as wd\n",
    "from IPython.display import display, clear_output\n",
    "btn = wd.Button(description ='aa')\n",
    "def pp(c):\n",
    "    del c\n",
    "    with out: \n",
    "        clear_output()\n",
    "        print(1)\n",
    "    \n",
    "hb = wd.HBox([btn])\n",
    "btn.on_click(pp)\n",
    "out = wd.Output()\n",
    "for x in hb.children:\n",
    "    del x\n",
    "del hb\n",
    "\n",
    "with out:\n",
    "    display( btn)\n",
    "btn\n",
    "dir(btn)\n",
    "\n",
    "btn.remove_class\n",
    "btn"
   ]
  },
  {
   "cell_type": "code",
   "execution_count": 25,
   "id": "f68893c6-244b-4d27-8425-b04628d3633b",
   "metadata": {},
   "outputs": [
    {
     "data": {
      "text/plain": [
       "'\\\\begin{tabular}{lllllll}\\n\\\\toprule\\n{} & metric &     year & lifeExp &           pop &  gdpPercap & iso\\\\_num \\\\\\\\\\n\\\\midrule\\n0     &    --- &      --- &     --- &           --- &        --- &     --- \\\\\\\\\\ncount &  count &   1704.0 &  1704.0 &        1704.0 &     1704.0 &  1704.0 \\\\\\\\\\nmean  &   mean &   1979.5 &   59.47 &   29601212.32 &    7215.33 &  425.88 \\\\\\\\\\nstd   &    std &    17.27 &   12.92 &  106157896.74 &    9857.45 &  248.31 \\\\\\\\\\nmin   &    min &   1952.0 &    23.6 &       60011.0 &     241.17 &     4.0 \\\\\\\\\\n25\\\\%   &    25\\\\% &  1965.75 &    48.2 &     2793664.0 &    1202.06 &   208.0 \\\\\\\\\\n50\\\\%   &    50\\\\% &   1979.5 &   60.71 &     7023595.5 &    3531.85 &   410.0 \\\\\\\\\\n75\\\\%   &    75\\\\% &  1993.25 &   70.85 &   19585221.75 &    9325.46 &   638.0 \\\\\\\\\\nmax   &    max &   2007.0 &    82.6 &  1318683096.0 &  113523.13 &   894.0 \\\\\\\\\\n\\\\bottomrule\\n\\\\end{tabular}\\n'"
      ]
     },
     "execution_count": 25,
     "metadata": {},
     "output_type": "execute_result"
    }
   ],
   "source": [
    "import nbconvert\n",
    "import pandas as pd\n",
    "\n",
    "from plotly import express as px\n",
    "\n",
    "data_g = px.data.gapminder ()\n",
    "summary = round (data_g.describe (), 2)\n",
    "summary.insert (0, 'metric', summary.index)\n",
    "\n",
    "# Function to convert dataframe to Markdown Table\n",
    "def pandas_df_to_markdown_table (df):\n",
    "    from IPython.display import Markdown, display\n",
    "    fmt = ['---' for i in range (len (df.columns))]\n",
    "    df_fmt = pd.DataFrame ([fmt], columns = df.columns)\n",
    "    df_formatted = pd.concat ([df_fmt, df])\n",
    "    return df_formatted.to_latex() # (sep = \"|\", index = False)\n",
    "\n",
    "\n",
    "from IPython.display import Image\n",
    "from plotly import express as px\n",
    "\n",
    "data_g = px.data.gapminder ()\n",
    "summary = round(data_g.describe(), 2)\n",
    "summary.insert (0, 'metric', summary.index)\n",
    "\n",
    "\n",
    "fig = px.scatter (data_g.query (\"year == 2007\"), x = \"gdpPercap\", y = \"lifeExp\",\n",
    "                 size = \"pop\", color = \"continent\",\n",
    "                 log_x = True, size_max = 70)\n",
    "fig.write_image ('figure_1.jpg')\n",
    "Image (data = 'figure_1.jpg', width = 1000)\n",
    "\n",
    "pandas_df_to_markdown_table (summary)\n"
   ]
  },
  {
   "cell_type": "code",
   "execution_count": 26,
   "id": "7a1b8429-5147-4c1a-98d4-ee00be930798",
   "metadata": {},
   "outputs": [
    {
     "data": {
      "application/vnd.plotly.v1+json": {
       "config": {
        "plotlyServerURL": "https://plot.ly"
       },
       "data": [
        {
         "hovertemplate": "country=Australia<br>lifeExp=%{x}<br>gdpPercap=%{y}<br>year=%{text}<extra></extra>",
         "legendgroup": "Australia",
         "line": {
          "color": "#636efa",
          "dash": "solid"
         },
         "marker": {
          "symbol": "circle"
         },
         "mode": "markers+text+lines",
         "name": "Australia",
         "orientation": "v",
         "showlegend": true,
         "text": [
          1952,
          1957,
          1962,
          1967,
          1972,
          1977,
          1982,
          1987,
          1992,
          1997,
          2002,
          2007
         ],
         "textposition": "bottom right",
         "type": "scatter",
         "x": [
          69.12,
          70.33,
          70.93,
          71.1,
          71.93,
          73.49,
          74.74,
          76.32,
          77.56,
          78.83,
          80.37,
          81.235
         ],
         "xaxis": "x",
         "y": [
          10039.59564,
          10949.64959,
          12217.22686,
          14526.12465,
          16788.62948,
          18334.19751,
          19477.00928,
          21888.88903,
          23424.76683,
          26997.93657,
          30687.75473,
          34435.367439999995
         ],
         "yaxis": "y"
        },
        {
         "hovertemplate": "country=New Zealand<br>lifeExp=%{x}<br>gdpPercap=%{y}<br>year=%{text}<extra></extra>",
         "legendgroup": "New Zealand",
         "line": {
          "color": "#EF553B",
          "dash": "solid"
         },
         "marker": {
          "symbol": "circle"
         },
         "mode": "markers+text+lines",
         "name": "New Zealand",
         "orientation": "v",
         "showlegend": true,
         "text": [
          1952,
          1957,
          1962,
          1967,
          1972,
          1977,
          1982,
          1987,
          1992,
          1997,
          2002,
          2007
         ],
         "textposition": "bottom right",
         "type": "scatter",
         "x": [
          69.39,
          70.26,
          71.24,
          71.52,
          71.89,
          72.22,
          73.84,
          74.32,
          76.33,
          77.55,
          79.11,
          80.204
         ],
         "xaxis": "x",
         "y": [
          10556.57566,
          12247.39532,
          13175.678,
          14463.918930000002,
          16046.03728,
          16233.7177,
          17632.4104,
          19007.19129,
          18363.32494,
          21050.41377,
          23189.80135,
          25185.00911
         ],
         "yaxis": "y"
        }
       ],
       "layout": {
        "autosize": true,
        "legend": {
         "title": {
          "text": "country"
         },
         "tracegroupgap": 0
        },
        "margin": {
         "t": 60
        },
        "template": {
         "data": {
          "bar": [
           {
            "error_x": {
             "color": "#2a3f5f"
            },
            "error_y": {
             "color": "#2a3f5f"
            },
            "marker": {
             "line": {
              "color": "#E5ECF6",
              "width": 0.5
             },
             "pattern": {
              "fillmode": "overlay",
              "size": 10,
              "solidity": 0.2
             }
            },
            "type": "bar"
           }
          ],
          "barpolar": [
           {
            "marker": {
             "line": {
              "color": "#E5ECF6",
              "width": 0.5
             },
             "pattern": {
              "fillmode": "overlay",
              "size": 10,
              "solidity": 0.2
             }
            },
            "type": "barpolar"
           }
          ],
          "carpet": [
           {
            "aaxis": {
             "endlinecolor": "#2a3f5f",
             "gridcolor": "white",
             "linecolor": "white",
             "minorgridcolor": "white",
             "startlinecolor": "#2a3f5f"
            },
            "baxis": {
             "endlinecolor": "#2a3f5f",
             "gridcolor": "white",
             "linecolor": "white",
             "minorgridcolor": "white",
             "startlinecolor": "#2a3f5f"
            },
            "type": "carpet"
           }
          ],
          "choropleth": [
           {
            "colorbar": {
             "outlinewidth": 0,
             "ticks": ""
            },
            "type": "choropleth"
           }
          ],
          "contour": [
           {
            "colorbar": {
             "outlinewidth": 0,
             "ticks": ""
            },
            "colorscale": [
             [
              0,
              "#0d0887"
             ],
             [
              0.1111111111111111,
              "#46039f"
             ],
             [
              0.2222222222222222,
              "#7201a8"
             ],
             [
              0.3333333333333333,
              "#9c179e"
             ],
             [
              0.4444444444444444,
              "#bd3786"
             ],
             [
              0.5555555555555556,
              "#d8576b"
             ],
             [
              0.6666666666666666,
              "#ed7953"
             ],
             [
              0.7777777777777778,
              "#fb9f3a"
             ],
             [
              0.8888888888888888,
              "#fdca26"
             ],
             [
              1,
              "#f0f921"
             ]
            ],
            "type": "contour"
           }
          ],
          "contourcarpet": [
           {
            "colorbar": {
             "outlinewidth": 0,
             "ticks": ""
            },
            "type": "contourcarpet"
           }
          ],
          "heatmap": [
           {
            "colorbar": {
             "outlinewidth": 0,
             "ticks": ""
            },
            "colorscale": [
             [
              0,
              "#0d0887"
             ],
             [
              0.1111111111111111,
              "#46039f"
             ],
             [
              0.2222222222222222,
              "#7201a8"
             ],
             [
              0.3333333333333333,
              "#9c179e"
             ],
             [
              0.4444444444444444,
              "#bd3786"
             ],
             [
              0.5555555555555556,
              "#d8576b"
             ],
             [
              0.6666666666666666,
              "#ed7953"
             ],
             [
              0.7777777777777778,
              "#fb9f3a"
             ],
             [
              0.8888888888888888,
              "#fdca26"
             ],
             [
              1,
              "#f0f921"
             ]
            ],
            "type": "heatmap"
           }
          ],
          "heatmapgl": [
           {
            "colorbar": {
             "outlinewidth": 0,
             "ticks": ""
            },
            "colorscale": [
             [
              0,
              "#0d0887"
             ],
             [
              0.1111111111111111,
              "#46039f"
             ],
             [
              0.2222222222222222,
              "#7201a8"
             ],
             [
              0.3333333333333333,
              "#9c179e"
             ],
             [
              0.4444444444444444,
              "#bd3786"
             ],
             [
              0.5555555555555556,
              "#d8576b"
             ],
             [
              0.6666666666666666,
              "#ed7953"
             ],
             [
              0.7777777777777778,
              "#fb9f3a"
             ],
             [
              0.8888888888888888,
              "#fdca26"
             ],
             [
              1,
              "#f0f921"
             ]
            ],
            "type": "heatmapgl"
           }
          ],
          "histogram": [
           {
            "marker": {
             "pattern": {
              "fillmode": "overlay",
              "size": 10,
              "solidity": 0.2
             }
            },
            "type": "histogram"
           }
          ],
          "histogram2d": [
           {
            "colorbar": {
             "outlinewidth": 0,
             "ticks": ""
            },
            "colorscale": [
             [
              0,
              "#0d0887"
             ],
             [
              0.1111111111111111,
              "#46039f"
             ],
             [
              0.2222222222222222,
              "#7201a8"
             ],
             [
              0.3333333333333333,
              "#9c179e"
             ],
             [
              0.4444444444444444,
              "#bd3786"
             ],
             [
              0.5555555555555556,
              "#d8576b"
             ],
             [
              0.6666666666666666,
              "#ed7953"
             ],
             [
              0.7777777777777778,
              "#fb9f3a"
             ],
             [
              0.8888888888888888,
              "#fdca26"
             ],
             [
              1,
              "#f0f921"
             ]
            ],
            "type": "histogram2d"
           }
          ],
          "histogram2dcontour": [
           {
            "colorbar": {
             "outlinewidth": 0,
             "ticks": ""
            },
            "colorscale": [
             [
              0,
              "#0d0887"
             ],
             [
              0.1111111111111111,
              "#46039f"
             ],
             [
              0.2222222222222222,
              "#7201a8"
             ],
             [
              0.3333333333333333,
              "#9c179e"
             ],
             [
              0.4444444444444444,
              "#bd3786"
             ],
             [
              0.5555555555555556,
              "#d8576b"
             ],
             [
              0.6666666666666666,
              "#ed7953"
             ],
             [
              0.7777777777777778,
              "#fb9f3a"
             ],
             [
              0.8888888888888888,
              "#fdca26"
             ],
             [
              1,
              "#f0f921"
             ]
            ],
            "type": "histogram2dcontour"
           }
          ],
          "mesh3d": [
           {
            "colorbar": {
             "outlinewidth": 0,
             "ticks": ""
            },
            "type": "mesh3d"
           }
          ],
          "parcoords": [
           {
            "line": {
             "colorbar": {
              "outlinewidth": 0,
              "ticks": ""
             }
            },
            "type": "parcoords"
           }
          ],
          "pie": [
           {
            "automargin": true,
            "type": "pie"
           }
          ],
          "scatter": [
           {
            "fillpattern": {
             "fillmode": "overlay",
             "size": 10,
             "solidity": 0.2
            },
            "type": "scatter"
           }
          ],
          "scatter3d": [
           {
            "line": {
             "colorbar": {
              "outlinewidth": 0,
              "ticks": ""
             }
            },
            "marker": {
             "colorbar": {
              "outlinewidth": 0,
              "ticks": ""
             }
            },
            "type": "scatter3d"
           }
          ],
          "scattercarpet": [
           {
            "marker": {
             "colorbar": {
              "outlinewidth": 0,
              "ticks": ""
             }
            },
            "type": "scattercarpet"
           }
          ],
          "scattergeo": [
           {
            "marker": {
             "colorbar": {
              "outlinewidth": 0,
              "ticks": ""
             }
            },
            "type": "scattergeo"
           }
          ],
          "scattergl": [
           {
            "marker": {
             "colorbar": {
              "outlinewidth": 0,
              "ticks": ""
             }
            },
            "type": "scattergl"
           }
          ],
          "scattermapbox": [
           {
            "marker": {
             "colorbar": {
              "outlinewidth": 0,
              "ticks": ""
             }
            },
            "type": "scattermapbox"
           }
          ],
          "scatterpolar": [
           {
            "marker": {
             "colorbar": {
              "outlinewidth": 0,
              "ticks": ""
             }
            },
            "type": "scatterpolar"
           }
          ],
          "scatterpolargl": [
           {
            "marker": {
             "colorbar": {
              "outlinewidth": 0,
              "ticks": ""
             }
            },
            "type": "scatterpolargl"
           }
          ],
          "scatterternary": [
           {
            "marker": {
             "colorbar": {
              "outlinewidth": 0,
              "ticks": ""
             }
            },
            "type": "scatterternary"
           }
          ],
          "surface": [
           {
            "colorbar": {
             "outlinewidth": 0,
             "ticks": ""
            },
            "colorscale": [
             [
              0,
              "#0d0887"
             ],
             [
              0.1111111111111111,
              "#46039f"
             ],
             [
              0.2222222222222222,
              "#7201a8"
             ],
             [
              0.3333333333333333,
              "#9c179e"
             ],
             [
              0.4444444444444444,
              "#bd3786"
             ],
             [
              0.5555555555555556,
              "#d8576b"
             ],
             [
              0.6666666666666666,
              "#ed7953"
             ],
             [
              0.7777777777777778,
              "#fb9f3a"
             ],
             [
              0.8888888888888888,
              "#fdca26"
             ],
             [
              1,
              "#f0f921"
             ]
            ],
            "type": "surface"
           }
          ],
          "table": [
           {
            "cells": {
             "fill": {
              "color": "#EBF0F8"
             },
             "line": {
              "color": "white"
             }
            },
            "header": {
             "fill": {
              "color": "#C8D4E3"
             },
             "line": {
              "color": "white"
             }
            },
            "type": "table"
           }
          ]
         },
         "layout": {
          "annotationdefaults": {
           "arrowcolor": "#2a3f5f",
           "arrowhead": 0,
           "arrowwidth": 1
          },
          "autotypenumbers": "strict",
          "coloraxis": {
           "colorbar": {
            "outlinewidth": 0,
            "ticks": ""
           }
          },
          "colorscale": {
           "diverging": [
            [
             0,
             "#8e0152"
            ],
            [
             0.1,
             "#c51b7d"
            ],
            [
             0.2,
             "#de77ae"
            ],
            [
             0.3,
             "#f1b6da"
            ],
            [
             0.4,
             "#fde0ef"
            ],
            [
             0.5,
             "#f7f7f7"
            ],
            [
             0.6,
             "#e6f5d0"
            ],
            [
             0.7,
             "#b8e186"
            ],
            [
             0.8,
             "#7fbc41"
            ],
            [
             0.9,
             "#4d9221"
            ],
            [
             1,
             "#276419"
            ]
           ],
           "sequential": [
            [
             0,
             "#0d0887"
            ],
            [
             0.1111111111111111,
             "#46039f"
            ],
            [
             0.2222222222222222,
             "#7201a8"
            ],
            [
             0.3333333333333333,
             "#9c179e"
            ],
            [
             0.4444444444444444,
             "#bd3786"
            ],
            [
             0.5555555555555556,
             "#d8576b"
            ],
            [
             0.6666666666666666,
             "#ed7953"
            ],
            [
             0.7777777777777778,
             "#fb9f3a"
            ],
            [
             0.8888888888888888,
             "#fdca26"
            ],
            [
             1,
             "#f0f921"
            ]
           ],
           "sequentialminus": [
            [
             0,
             "#0d0887"
            ],
            [
             0.1111111111111111,
             "#46039f"
            ],
            [
             0.2222222222222222,
             "#7201a8"
            ],
            [
             0.3333333333333333,
             "#9c179e"
            ],
            [
             0.4444444444444444,
             "#bd3786"
            ],
            [
             0.5555555555555556,
             "#d8576b"
            ],
            [
             0.6666666666666666,
             "#ed7953"
            ],
            [
             0.7777777777777778,
             "#fb9f3a"
            ],
            [
             0.8888888888888888,
             "#fdca26"
            ],
            [
             1,
             "#f0f921"
            ]
           ]
          },
          "colorway": [
           "#636efa",
           "#EF553B",
           "#00cc96",
           "#ab63fa",
           "#FFA15A",
           "#19d3f3",
           "#FF6692",
           "#B6E880",
           "#FF97FF",
           "#FECB52"
          ],
          "font": {
           "color": "#2a3f5f"
          },
          "geo": {
           "bgcolor": "white",
           "lakecolor": "white",
           "landcolor": "#E5ECF6",
           "showlakes": true,
           "showland": true,
           "subunitcolor": "white"
          },
          "hoverlabel": {
           "align": "left"
          },
          "hovermode": "closest",
          "mapbox": {
           "style": "light"
          },
          "paper_bgcolor": "white",
          "plot_bgcolor": "#E5ECF6",
          "polar": {
           "angularaxis": {
            "gridcolor": "white",
            "linecolor": "white",
            "ticks": ""
           },
           "bgcolor": "#E5ECF6",
           "radialaxis": {
            "gridcolor": "white",
            "linecolor": "white",
            "ticks": ""
           }
          },
          "scene": {
           "xaxis": {
            "backgroundcolor": "#E5ECF6",
            "gridcolor": "white",
            "gridwidth": 2,
            "linecolor": "white",
            "showbackground": true,
            "ticks": "",
            "zerolinecolor": "white"
           },
           "yaxis": {
            "backgroundcolor": "#E5ECF6",
            "gridcolor": "white",
            "gridwidth": 2,
            "linecolor": "white",
            "showbackground": true,
            "ticks": "",
            "zerolinecolor": "white"
           },
           "zaxis": {
            "backgroundcolor": "#E5ECF6",
            "gridcolor": "white",
            "gridwidth": 2,
            "linecolor": "white",
            "showbackground": true,
            "ticks": "",
            "zerolinecolor": "white"
           }
          },
          "shapedefaults": {
           "line": {
            "color": "#2a3f5f"
           }
          },
          "ternary": {
           "aaxis": {
            "gridcolor": "white",
            "linecolor": "white",
            "ticks": ""
           },
           "baxis": {
            "gridcolor": "white",
            "linecolor": "white",
            "ticks": ""
           },
           "bgcolor": "#E5ECF6",
           "caxis": {
            "gridcolor": "white",
            "linecolor": "white",
            "ticks": ""
           }
          },
          "title": {
           "x": 0.05
          },
          "xaxis": {
           "automargin": true,
           "gridcolor": "white",
           "linecolor": "white",
           "ticks": "",
           "title": {
            "standoff": 15
           },
           "zerolinecolor": "white",
           "zerolinewidth": 2
          },
          "yaxis": {
           "automargin": true,
           "gridcolor": "white",
           "linecolor": "white",
           "ticks": "",
           "title": {
            "standoff": 15
           },
           "zerolinecolor": "white",
           "zerolinewidth": 2
          }
         }
        },
        "xaxis": {
         "anchor": "y",
         "autorange": true,
         "domain": [
          0,
          1
         ],
         "range": [
          68.29684284864705,
          82.05815715135296
         ],
         "title": {
          "text": "lifeExp"
         },
         "type": "linear"
        },
        "yaxis": {
         "anchor": "x",
         "autorange": true,
         "domain": [
          0,
          1
         ],
         "range": [
          8534.017705558019,
          35940.94537444197
         ],
         "title": {
          "text": "gdpPercap"
         },
         "type": "linear"
        }
       }
      },
      "image/png": "[encoded data removed]",
      "text/html": [
       "<div>                            <div id=\"a76b7fb0-17cb-468d-866a-106907a42c31\" class=\"plotly-graph-div\" style=\"height:900px; width:100%;\"></div>            <script type=\"text/javascript\">                require([\"plotly\"], function(Plotly) {                    window.PLOTLYENV=window.PLOTLYENV || {};                                    if (document.getElementById(\"a76b7fb0-17cb-468d-866a-106907a42c31\")) {                    Plotly.newPlot(                        \"a76b7fb0-17cb-468d-866a-106907a42c31\",                        [{\"hovertemplate\":\"country=Australia<br>lifeExp=%{x}<br>gdpPercap=%{y}<br>year=%{text}<extra></extra>\",\"legendgroup\":\"Australia\",\"line\":{\"color\":\"#636efa\",\"dash\":\"solid\"},\"marker\":{\"symbol\":\"circle\"},\"mode\":\"markers+text+lines\",\"name\":\"Australia\",\"orientation\":\"v\",\"showlegend\":true,\"text\":[1952.0,1957.0,1962.0,1967.0,1972.0,1977.0,1982.0,1987.0,1992.0,1997.0,2002.0,2007.0],\"x\":[69.12,70.33,70.93,71.1,71.93,73.49,74.74,76.32,77.56,78.83,80.37,81.235],\"xaxis\":\"x\",\"y\":[10039.59564,10949.64959,12217.22686,14526.12465,16788.62948,18334.19751,19477.00928,21888.88903,23424.76683,26997.93657,30687.75473,34435.367439999995],\"yaxis\":\"y\",\"type\":\"scatter\",\"textposition\":\"bottom right\"},{\"hovertemplate\":\"country=New Zealand<br>lifeExp=%{x}<br>gdpPercap=%{y}<br>year=%{text}<extra></extra>\",\"legendgroup\":\"New Zealand\",\"line\":{\"color\":\"#EF553B\",\"dash\":\"solid\"},\"marker\":{\"symbol\":\"circle\"},\"mode\":\"markers+text+lines\",\"name\":\"New Zealand\",\"orientation\":\"v\",\"showlegend\":true,\"text\":[1952.0,1957.0,1962.0,1967.0,1972.0,1977.0,1982.0,1987.0,1992.0,1997.0,2002.0,2007.0],\"x\":[69.39,70.26,71.24,71.52,71.89,72.22,73.84,74.32,76.33,77.55,79.11,80.204],\"xaxis\":\"x\",\"y\":[10556.57566,12247.39532,13175.678,14463.918930000002,16046.03728,16233.7177,17632.4104,19007.19129,18363.32494,21050.41377,23189.80135,25185.00911],\"yaxis\":\"y\",\"type\":\"scatter\",\"textposition\":\"bottom right\"}],                        {\"template\":{\"data\":{\"histogram2dcontour\":[{\"type\":\"histogram2dcontour\",\"colorbar\":{\"outlinewidth\":0,\"ticks\":\"\"},\"colorscale\":[[0.0,\"#0d0887\"],[0.1111111111111111,\"#46039f\"],[0.2222222222222222,\"#7201a8\"],[0.3333333333333333,\"#9c179e\"],[0.4444444444444444,\"#bd3786\"],[0.5555555555555556,\"#d8576b\"],[0.6666666666666666,\"#ed7953\"],[0.7777777777777778,\"#fb9f3a\"],[0.8888888888888888,\"#fdca26\"],[1.0,\"#f0f921\"]]}],\"choropleth\":[{\"type\":\"choropleth\",\"colorbar\":{\"outlinewidth\":0,\"ticks\":\"\"}}],\"histogram2d\":[{\"type\":\"histogram2d\",\"colorbar\":{\"outlinewidth\":0,\"ticks\":\"\"},\"colorscale\":[[0.0,\"#0d0887\"],[0.1111111111111111,\"#46039f\"],[0.2222222222222222,\"#7201a8\"],[0.3333333333333333,\"#9c179e\"],[0.4444444444444444,\"#bd3786\"],[0.5555555555555556,\"#d8576b\"],[0.6666666666666666,\"#ed7953\"],[0.7777777777777778,\"#fb9f3a\"],[0.8888888888888888,\"#fdca26\"],[1.0,\"#f0f921\"]]}],\"heatmap\":[{\"type\":\"heatmap\",\"colorbar\":{\"outlinewidth\":0,\"ticks\":\"\"},\"colorscale\":[[0.0,\"#0d0887\"],[0.1111111111111111,\"#46039f\"],[0.2222222222222222,\"#7201a8\"],[0.3333333333333333,\"#9c179e\"],[0.4444444444444444,\"#bd3786\"],[0.5555555555555556,\"#d8576b\"],[0.6666666666666666,\"#ed7953\"],[0.7777777777777778,\"#fb9f3a\"],[0.8888888888888888,\"#fdca26\"],[1.0,\"#f0f921\"]]}],\"heatmapgl\":[{\"type\":\"heatmapgl\",\"colorbar\":{\"outlinewidth\":0,\"ticks\":\"\"},\"colorscale\":[[0.0,\"#0d0887\"],[0.1111111111111111,\"#46039f\"],[0.2222222222222222,\"#7201a8\"],[0.3333333333333333,\"#9c179e\"],[0.4444444444444444,\"#bd3786\"],[0.5555555555555556,\"#d8576b\"],[0.6666666666666666,\"#ed7953\"],[0.7777777777777778,\"#fb9f3a\"],[0.8888888888888888,\"#fdca26\"],[1.0,\"#f0f921\"]]}],\"contourcarpet\":[{\"type\":\"contourcarpet\",\"colorbar\":{\"outlinewidth\":0,\"ticks\":\"\"}}],\"contour\":[{\"type\":\"contour\",\"colorbar\":{\"outlinewidth\":0,\"ticks\":\"\"},\"colorscale\":[[0.0,\"#0d0887\"],[0.1111111111111111,\"#46039f\"],[0.2222222222222222,\"#7201a8\"],[0.3333333333333333,\"#9c179e\"],[0.4444444444444444,\"#bd3786\"],[0.5555555555555556,\"#d8576b\"],[0.6666666666666666,\"#ed7953\"],[0.7777777777777778,\"#fb9f3a\"],[0.8888888888888888,\"#fdca26\"],[1.0,\"#f0f921\"]]}],\"surface\":[{\"type\":\"surface\",\"colorbar\":{\"outlinewidth\":0,\"ticks\":\"\"},\"colorscale\":[[0.0,\"#0d0887\"],[0.1111111111111111,\"#46039f\"],[0.2222222222222222,\"#7201a8\"],[0.3333333333333333,\"#9c179e\"],[0.4444444444444444,\"#bd3786\"],[0.5555555555555556,\"#d8576b\"],[0.6666666666666666,\"#ed7953\"],[0.7777777777777778,\"#fb9f3a\"],[0.8888888888888888,\"#fdca26\"],[1.0,\"#f0f921\"]]}],\"mesh3d\":[{\"type\":\"mesh3d\",\"colorbar\":{\"outlinewidth\":0,\"ticks\":\"\"}}],\"scatter\":[{\"fillpattern\":{\"fillmode\":\"overlay\",\"size\":10,\"solidity\":0.2},\"type\":\"scatter\"}],\"parcoords\":[{\"type\":\"parcoords\",\"line\":{\"colorbar\":{\"outlinewidth\":0,\"ticks\":\"\"}}}],\"scatterpolargl\":[{\"type\":\"scatterpolargl\",\"marker\":{\"colorbar\":{\"outlinewidth\":0,\"ticks\":\"\"}}}],\"bar\":[{\"error_x\":{\"color\":\"#2a3f5f\"},\"error_y\":{\"color\":\"#2a3f5f\"},\"marker\":{\"line\":{\"color\":\"#E5ECF6\",\"width\":0.5},\"pattern\":{\"fillmode\":\"overlay\",\"size\":10,\"solidity\":0.2}},\"type\":\"bar\"}],\"scattergeo\":[{\"type\":\"scattergeo\",\"marker\":{\"colorbar\":{\"outlinewidth\":0,\"ticks\":\"\"}}}],\"scatterpolar\":[{\"type\":\"scatterpolar\",\"marker\":{\"colorbar\":{\"outlinewidth\":0,\"ticks\":\"\"}}}],\"histogram\":[{\"marker\":{\"pattern\":{\"fillmode\":\"overlay\",\"size\":10,\"solidity\":0.2}},\"type\":\"histogram\"}],\"scattergl\":[{\"type\":\"scattergl\",\"marker\":{\"colorbar\":{\"outlinewidth\":0,\"ticks\":\"\"}}}],\"scatter3d\":[{\"type\":\"scatter3d\",\"line\":{\"colorbar\":{\"outlinewidth\":0,\"ticks\":\"\"}},\"marker\":{\"colorbar\":{\"outlinewidth\":0,\"ticks\":\"\"}}}],\"scattermapbox\":[{\"type\":\"scattermapbox\",\"marker\":{\"colorbar\":{\"outlinewidth\":0,\"ticks\":\"\"}}}],\"scatterternary\":[{\"type\":\"scatterternary\",\"marker\":{\"colorbar\":{\"outlinewidth\":0,\"ticks\":\"\"}}}],\"scattercarpet\":[{\"type\":\"scattercarpet\",\"marker\":{\"colorbar\":{\"outlinewidth\":0,\"ticks\":\"\"}}}],\"carpet\":[{\"aaxis\":{\"endlinecolor\":\"#2a3f5f\",\"gridcolor\":\"white\",\"linecolor\":\"white\",\"minorgridcolor\":\"white\",\"startlinecolor\":\"#2a3f5f\"},\"baxis\":{\"endlinecolor\":\"#2a3f5f\",\"gridcolor\":\"white\",\"linecolor\":\"white\",\"minorgridcolor\":\"white\",\"startlinecolor\":\"#2a3f5f\"},\"type\":\"carpet\"}],\"table\":[{\"cells\":{\"fill\":{\"color\":\"#EBF0F8\"},\"line\":{\"color\":\"white\"}},\"header\":{\"fill\":{\"color\":\"#C8D4E3\"},\"line\":{\"color\":\"white\"}},\"type\":\"table\"}],\"barpolar\":[{\"marker\":{\"line\":{\"color\":\"#E5ECF6\",\"width\":0.5},\"pattern\":{\"fillmode\":\"overlay\",\"size\":10,\"solidity\":0.2}},\"type\":\"barpolar\"}],\"pie\":[{\"automargin\":true,\"type\":\"pie\"}]},\"layout\":{\"autotypenumbers\":\"strict\",\"colorway\":[\"#636efa\",\"#EF553B\",\"#00cc96\",\"#ab63fa\",\"#FFA15A\",\"#19d3f3\",\"#FF6692\",\"#B6E880\",\"#FF97FF\",\"#FECB52\"],\"font\":{\"color\":\"#2a3f5f\"},\"hovermode\":\"closest\",\"hoverlabel\":{\"align\":\"left\"},\"paper_bgcolor\":\"white\",\"plot_bgcolor\":\"#E5ECF6\",\"polar\":{\"bgcolor\":\"#E5ECF6\",\"angularaxis\":{\"gridcolor\":\"white\",\"linecolor\":\"white\",\"ticks\":\"\"},\"radialaxis\":{\"gridcolor\":\"white\",\"linecolor\":\"white\",\"ticks\":\"\"}},\"ternary\":{\"bgcolor\":\"#E5ECF6\",\"aaxis\":{\"gridcolor\":\"white\",\"linecolor\":\"white\",\"ticks\":\"\"},\"baxis\":{\"gridcolor\":\"white\",\"linecolor\":\"white\",\"ticks\":\"\"},\"caxis\":{\"gridcolor\":\"white\",\"linecolor\":\"white\",\"ticks\":\"\"}},\"coloraxis\":{\"colorbar\":{\"outlinewidth\":0,\"ticks\":\"\"}},\"colorscale\":{\"sequential\":[[0.0,\"#0d0887\"],[0.1111111111111111,\"#46039f\"],[0.2222222222222222,\"#7201a8\"],[0.3333333333333333,\"#9c179e\"],[0.4444444444444444,\"#bd3786\"],[0.5555555555555556,\"#d8576b\"],[0.6666666666666666,\"#ed7953\"],[0.7777777777777778,\"#fb9f3a\"],[0.8888888888888888,\"#fdca26\"],[1.0,\"#f0f921\"]],\"sequentialminus\":[[0.0,\"#0d0887\"],[0.1111111111111111,\"#46039f\"],[0.2222222222222222,\"#7201a8\"],[0.3333333333333333,\"#9c179e\"],[0.4444444444444444,\"#bd3786\"],[0.5555555555555556,\"#d8576b\"],[0.6666666666666666,\"#ed7953\"],[0.7777777777777778,\"#fb9f3a\"],[0.8888888888888888,\"#fdca26\"],[1.0,\"#f0f921\"]],\"diverging\":[[0,\"#8e0152\"],[0.1,\"#c51b7d\"],[0.2,\"#de77ae\"],[0.3,\"#f1b6da\"],[0.4,\"#fde0ef\"],[0.5,\"#f7f7f7\"],[0.6,\"#e6f5d0\"],[0.7,\"#b8e186\"],[0.8,\"#7fbc41\"],[0.9,\"#4d9221\"],[1,\"#276419\"]]},\"xaxis\":{\"gridcolor\":\"white\",\"linecolor\":\"white\",\"ticks\":\"\",\"title\":{\"standoff\":15},\"zerolinecolor\":\"white\",\"automargin\":true,\"zerolinewidth\":2},\"yaxis\":{\"gridcolor\":\"white\",\"linecolor\":\"white\",\"ticks\":\"\",\"title\":{\"standoff\":15},\"zerolinecolor\":\"white\",\"automargin\":true,\"zerolinewidth\":2},\"scene\":{\"xaxis\":{\"backgroundcolor\":\"#E5ECF6\",\"gridcolor\":\"white\",\"linecolor\":\"white\",\"showbackground\":true,\"ticks\":\"\",\"zerolinecolor\":\"white\",\"gridwidth\":2},\"yaxis\":{\"backgroundcolor\":\"#E5ECF6\",\"gridcolor\":\"white\",\"linecolor\":\"white\",\"showbackground\":true,\"ticks\":\"\",\"zerolinecolor\":\"white\",\"gridwidth\":2},\"zaxis\":{\"backgroundcolor\":\"#E5ECF6\",\"gridcolor\":\"white\",\"linecolor\":\"white\",\"showbackground\":true,\"ticks\":\"\",\"zerolinecolor\":\"white\",\"gridwidth\":2}},\"shapedefaults\":{\"line\":{\"color\":\"#2a3f5f\"}},\"annotationdefaults\":{\"arrowcolor\":\"#2a3f5f\",\"arrowhead\":0,\"arrowwidth\":1},\"geo\":{\"bgcolor\":\"white\",\"landcolor\":\"#E5ECF6\",\"subunitcolor\":\"white\",\"showland\":true,\"showlakes\":true,\"lakecolor\":\"white\"},\"title\":{\"x\":0.05},\"mapbox\":{\"style\":\"light\"}}},\"xaxis\":{\"anchor\":\"y\",\"domain\":[0.0,1.0],\"title\":{\"text\":\"lifeExp\"}},\"yaxis\":{\"anchor\":\"x\",\"domain\":[0.0,1.0],\"title\":{\"text\":\"gdpPercap\"}},\"legend\":{\"title\":{\"text\":\"country\"},\"tracegroupgap\":0},\"margin\":{\"t\":60},\"height\":900},                        {\"responsive\": true}                    ).then(function(){\n",
       "                            \n",
       "var gd = document.getElementById('a76b7fb0-17cb-468d-866a-106907a42c31');\n",
       "var x = new MutationObserver(function (mutations, observer) {{\n",
       "        var display = window.getComputedStyle(gd).display;\n",
       "        if (!display || display === 'none') {{\n",
       "            console.log([gd, 'removed!']);\n",
       "            Plotly.purge(gd);\n",
       "            observer.disconnect();\n",
       "        }}\n",
       "}});\n",
       "\n",
       "// Listen for the removal of the full notebook cells\n",
       "var notebookContainer = gd.closest('#notebook-container');\n",
       "if (notebookContainer) {{\n",
       "    x.observe(notebookContainer, {childList: true});\n",
       "}}\n",
       "\n",
       "// Listen for the clearing of the current output cell\n",
       "var outputEl = gd.closest('.output');\n",
       "if (outputEl) {{\n",
       "    x.observe(outputEl, {childList: true});\n",
       "}}\n",
       "\n",
       "                        })                };                });            </script>        </div>"
      ]
     },
     "metadata": {},
     "output_type": "display_data"
    }
   ],
   "source": [
    "fig = px.line(df, x=\"lifeExp\", y=\"gdpPercap\", color=\"country\", text=\"year\",height= 900)\n",
    "fig.update_traces(textposition=\"bottom right\")\n",
    "\n",
    "fig.show()\n"
   ]
  },
  {
   "cell_type": "code",
   "execution_count": 28,
   "id": "6da34fdc-e367-4bd1-a9a4-2156f44f9d84",
   "metadata": {},
   "outputs": [
    {
     "ename": "JSONDecodeError",
     "evalue": "Expecting value: line 1 column 1 (char 0)",
     "output_type": "error",
     "traceback": [
      "\u001b[1;31m---------------------------------------------------------------------------\u001b[0m",
      "\u001b[1;31mJSONDecodeError\u001b[0m                           Traceback (most recent call last)",
      "Cell \u001b[1;32mIn [28], line 24\u001b[0m\n\u001b[0;32m     18\u001b[0m     df \u001b[38;5;241m=\u001b[39m icos_data\u001b[38;5;241m.\u001b[39mStationData\u001b[38;5;241m.\u001b[39mgroup_ts(var_tuple_ls\u001b[38;5;241m=\u001b[39mvar_tuple_ls,\n\u001b[0;32m     19\u001b[0m                                         start_date\u001b[38;5;241m=\u001b[39m\u001b[38;5;124m'\u001b[39m\u001b[38;5;124m2023-03-05\u001b[39m\u001b[38;5;124m'\u001b[39m,\n\u001b[0;32m     20\u001b[0m                                         end_date\u001b[38;5;241m=\u001b[39m\u001b[38;5;124m'\u001b[39m\u001b[38;5;124m2023-03-25\u001b[39m\u001b[38;5;124m'\u001b[39m)\n\u001b[0;32m     21\u001b[0m     \u001b[38;5;28;01mreturn\u001b[39;00m df\n\u001b[1;32m---> 24\u001b[0m df \u001b[38;5;241m=\u001b[39m get_data()\n\u001b[0;32m     25\u001b[0m df\u001b[38;5;241m.\u001b[39micos_station_id\n\u001b[0;32m     26\u001b[0m df[\u001b[38;5;124m'\u001b[39m\u001b[38;5;124mttt\u001b[39m\u001b[38;5;124m'\u001b[39m] \u001b[38;5;241m=\u001b[39m df\u001b[38;5;241m.\u001b[39mindex\n",
      "Cell \u001b[1;32mIn [28], line 18\u001b[0m, in \u001b[0;36mget_data\u001b[1;34m()\u001b[0m\n\u001b[0;32m     15\u001b[0m \u001b[38;5;28;01mdef\u001b[39;00m \u001b[38;5;21mget_data\u001b[39m():\n\u001b[0;32m     16\u001b[0m     var_tuple_ls \u001b[38;5;241m=\u001b[39m x_var_tuple_ls\n\u001b[1;32m---> 18\u001b[0m     df \u001b[38;5;241m=\u001b[39m \u001b[43micos_data\u001b[49m\u001b[38;5;241;43m.\u001b[39;49m\u001b[43mStationData\u001b[49m\u001b[38;5;241;43m.\u001b[39;49m\u001b[43mgroup_ts\u001b[49m\u001b[43m(\u001b[49m\u001b[43mvar_tuple_ls\u001b[49m\u001b[38;5;241;43m=\u001b[39;49m\u001b[43mvar_tuple_ls\u001b[49m\u001b[43m,\u001b[49m\n\u001b[0;32m     19\u001b[0m \u001b[43m                                        \u001b[49m\u001b[43mstart_date\u001b[49m\u001b[38;5;241;43m=\u001b[39;49m\u001b[38;5;124;43m'\u001b[39;49m\u001b[38;5;124;43m2023-03-05\u001b[39;49m\u001b[38;5;124;43m'\u001b[39;49m\u001b[43m,\u001b[49m\n\u001b[0;32m     20\u001b[0m \u001b[43m                                        \u001b[49m\u001b[43mend_date\u001b[49m\u001b[38;5;241;43m=\u001b[39;49m\u001b[38;5;124;43m'\u001b[39;49m\u001b[38;5;124;43m2023-03-25\u001b[39;49m\u001b[38;5;124;43m'\u001b[39;49m\u001b[43m)\u001b[49m\n\u001b[0;32m     21\u001b[0m     \u001b[38;5;28;01mreturn\u001b[39;00m df\n",
      "File \u001b[1;32m~\\Documents\\GitHub\\jupyter\\notebooks\\icos_jupyter_notebooks\\eco_tool\\icos_data.py:326\u001b[0m, in \u001b[0;36mStationData.group_ts\u001b[1;34m(var_tuple_ls, start_date, end_date)\u001b[0m\n\u001b[0;32m    323\u001b[0m         order_dict[p][\u001b[38;5;124m'\u001b[39m\u001b[38;5;124mcompose_order\u001b[39m\u001b[38;5;124m'\u001b[39m][i] \u001b[38;5;241m=\u001b[39m v\n\u001b[0;32m    324\u001b[0m     \u001b[38;5;28;01melse\u001b[39;00m:\n\u001b[0;32m    325\u001b[0m         order_dict[p] \u001b[38;5;241m=\u001b[39m {\u001b[38;5;124m'\u001b[39m\u001b[38;5;124mcols\u001b[39m\u001b[38;5;124m'\u001b[39m: [v], \u001b[38;5;124m'\u001b[39m\u001b[38;5;124mcompose_order\u001b[39m\u001b[38;5;124m'\u001b[39m: {i: v},\n\u001b[1;32m--> 326\u001b[0m                          \u001b[38;5;124m'\u001b[39m\u001b[38;5;124mdobj\u001b[39m\u001b[38;5;124m'\u001b[39m: \u001b[43mDobj\u001b[49m\u001b[43m(\u001b[49m\u001b[43mp\u001b[49m\u001b[43m)\u001b[49m}\n\u001b[0;32m    328\u001b[0m \u001b[38;5;66;03m# 2. We might also have to rename duplicate variables.\u001b[39;00m\n\u001b[0;32m    329\u001b[0m products \u001b[38;5;241m=\u001b[39m \u001b[38;5;28mset\u001b[39m()\n",
      "File \u001b[1;32mC:\\Miniconda3\\envs\\jyp_mathjax\\lib\\site-packages\\icoscp\\cpb\\dobj.py:69\u001b[0m, in \u001b[0;36mDobj.__init__\u001b[1;34m(self, digitalObject, debug_auth, cp_auth)\u001b[0m\n\u001b[0;32m     66\u001b[0m \u001b[38;5;28mself\u001b[39m\u001b[38;5;241m.\u001b[39m_debug_auth \u001b[38;5;241m=\u001b[39m debug_auth\n\u001b[0;32m     67\u001b[0m \u001b[38;5;66;03m# this needs to be the last call within init. If dobj is provided\u001b[39;00m\n\u001b[0;32m     68\u001b[0m \u001b[38;5;66;03m# meta data is retrieved and .valid is True\u001b[39;00m\n\u001b[1;32m---> 69\u001b[0m \u001b[38;5;28;43mself\u001b[39;49m\u001b[38;5;241;43m.\u001b[39;49m\u001b[43mdobj\u001b[49m \u001b[38;5;241m=\u001b[39m digitalObject\n",
      "File \u001b[1;32mC:\\Miniconda3\\envs\\jyp_mathjax\\lib\\site-packages\\icoscp\\cpb\\dobj.py:86\u001b[0m, in \u001b[0;36mDobj.dobj\u001b[1;34m(self, digitalObject)\u001b[0m\n\u001b[0;32m     84\u001b[0m \u001b[38;5;28mself\u001b[39m\u001b[38;5;241m.\u001b[39m_dobj \u001b[38;5;241m=\u001b[39m digitalObject\n\u001b[0;32m     85\u001b[0m \u001b[38;5;66;03m# set_meta will return false or true\u001b[39;00m\n\u001b[1;32m---> 86\u001b[0m \u001b[38;5;28mself\u001b[39m\u001b[38;5;241m.\u001b[39m_dobjValid \u001b[38;5;241m=\u001b[39m \u001b[38;5;28;43mself\u001b[39;49m\u001b[38;5;241;43m.\u001b[39;49m\u001b[43m__set_meta\u001b[49m\u001b[43m(\u001b[49m\u001b[43m)\u001b[49m\n",
      "File \u001b[1;32mC:\\Miniconda3\\envs\\jyp_mathjax\\lib\\site-packages\\icoscp\\cpb\\dobj.py:289\u001b[0m, in \u001b[0;36mDobj.__set_meta\u001b[1;34m(self)\u001b[0m\n\u001b[0;32m    282\u001b[0m \u001b[38;5;250m\u001b[39m\u001b[38;5;124;03m''' retreive meta data for the object\u001b[39;00m\n\u001b[0;32m    283\u001b[0m \u001b[38;5;124;03mand set\u001b[39;00m\n\u001b[0;32m    284\u001b[0m \u001b[38;5;124;03m    self.meta\u001b[39;00m\n\u001b[0;32m    285\u001b[0m \u001b[38;5;124;03m    self.variables\u001b[39;00m\n\u001b[0;32m    286\u001b[0m \u001b[38;5;124;03m'''\u001b[39;00m\n\u001b[0;32m    288\u001b[0m \u001b[38;5;66;03m# get all the meta data and check..\u001b[39;00m\n\u001b[1;32m--> 289\u001b[0m \u001b[38;5;28mself\u001b[39m\u001b[38;5;241m.\u001b[39m_meta \u001b[38;5;241m=\u001b[39m \u001b[43mmetadata\u001b[49m\u001b[38;5;241;43m.\u001b[39;49m\u001b[43mget\u001b[49m\u001b[43m(\u001b[49m\u001b[38;5;28;43mself\u001b[39;49m\u001b[38;5;241;43m.\u001b[39;49m\u001b[43mdobj\u001b[49m\u001b[43m)\u001b[49m\n\u001b[0;32m    291\u001b[0m \u001b[38;5;28;01mif\u001b[39;00m \u001b[38;5;129;01mnot\u001b[39;00m \u001b[38;5;28mself\u001b[39m\u001b[38;5;241m.\u001b[39m_meta:            \n\u001b[0;32m    292\u001b[0m     \u001b[38;5;28;01mreturn\u001b[39;00m \u001b[38;5;28;01mFalse\u001b[39;00m\n",
      "File \u001b[1;32mC:\\Miniconda3\\envs\\jyp_mathjax\\lib\\site-packages\\icoscp\\cpb\\metadata.py:65\u001b[0m, in \u001b[0;36mget\u001b[1;34m(pid, fmt)\u001b[0m\n\u001b[0;32m     61\u001b[0m     \u001b[38;5;28;01mreturn\u001b[39;00m \u001b[38;5;28;01mNone\u001b[39;00m\n\u001b[0;32m     63\u001b[0m \u001b[38;5;28;01mif\u001b[39;00m fmt \u001b[38;5;241m==\u001b[39m \u001b[38;5;124m'\u001b[39m\u001b[38;5;124mdict\u001b[39m\u001b[38;5;124m'\u001b[39m:\n\u001b[0;32m     64\u001b[0m     \u001b[38;5;66;03m# default, return the metadata as dictionary\u001b[39;00m\n\u001b[1;32m---> 65\u001b[0m     meta \u001b[38;5;241m=\u001b[39m \u001b[43mmeta\u001b[49m\u001b[38;5;241;43m.\u001b[39;49m\u001b[43mjson\u001b[49m\u001b[43m(\u001b[49m\u001b[43m)\u001b[49m\n\u001b[0;32m     66\u001b[0m \u001b[38;5;28;01melse\u001b[39;00m:\n\u001b[0;32m     67\u001b[0m     meta \u001b[38;5;241m=\u001b[39m meta\u001b[38;5;241m.\u001b[39mtext        \n",
      "File \u001b[1;32mC:\\Miniconda3\\envs\\jyp_mathjax\\lib\\site-packages\\requests\\models.py:910\u001b[0m, in \u001b[0;36mResponse.json\u001b[1;34m(self, **kwargs)\u001b[0m\n\u001b[0;32m    904\u001b[0m         \u001b[38;5;28;01mexcept\u001b[39;00m \u001b[38;5;167;01mUnicodeDecodeError\u001b[39;00m:\n\u001b[0;32m    905\u001b[0m             \u001b[38;5;66;03m# Wrong UTF codec detected; usually because it's not UTF-8\u001b[39;00m\n\u001b[0;32m    906\u001b[0m             \u001b[38;5;66;03m# but some other 8-bit codec.  This is an RFC violation,\u001b[39;00m\n\u001b[0;32m    907\u001b[0m             \u001b[38;5;66;03m# and the server didn't bother to tell us what codec *was*\u001b[39;00m\n\u001b[0;32m    908\u001b[0m             \u001b[38;5;66;03m# used.\u001b[39;00m\n\u001b[0;32m    909\u001b[0m             \u001b[38;5;28;01mpass\u001b[39;00m\n\u001b[1;32m--> 910\u001b[0m \u001b[38;5;28;01mreturn\u001b[39;00m complexjson\u001b[38;5;241m.\u001b[39mloads(\u001b[38;5;28mself\u001b[39m\u001b[38;5;241m.\u001b[39mtext, \u001b[38;5;241m*\u001b[39m\u001b[38;5;241m*\u001b[39mkwargs)\n",
      "File \u001b[1;32mC:\\Miniconda3\\envs\\jyp_mathjax\\lib\\site-packages\\simplejson\\__init__.py:514\u001b[0m, in \u001b[0;36mloads\u001b[1;34m(s, encoding, cls, object_hook, parse_float, parse_int, parse_constant, object_pairs_hook, use_decimal, allow_nan, **kw)\u001b[0m\n\u001b[0;32m    462\u001b[0m \u001b[38;5;250m\u001b[39m\u001b[38;5;124;03m\"\"\"Deserialize ``s`` (a ``str`` or ``unicode`` instance containing a JSON\u001b[39;00m\n\u001b[0;32m    463\u001b[0m \u001b[38;5;124;03mdocument) to a Python object.\u001b[39;00m\n\u001b[0;32m    464\u001b[0m \n\u001b[1;32m   (...)\u001b[0m\n\u001b[0;32m    508\u001b[0m \n\u001b[0;32m    509\u001b[0m \u001b[38;5;124;03m\"\"\"\u001b[39;00m\n\u001b[0;32m    510\u001b[0m \u001b[38;5;28;01mif\u001b[39;00m (\u001b[38;5;28mcls\u001b[39m \u001b[38;5;129;01mis\u001b[39;00m \u001b[38;5;28;01mNone\u001b[39;00m \u001b[38;5;129;01mand\u001b[39;00m encoding \u001b[38;5;129;01mis\u001b[39;00m \u001b[38;5;28;01mNone\u001b[39;00m \u001b[38;5;129;01mand\u001b[39;00m object_hook \u001b[38;5;129;01mis\u001b[39;00m \u001b[38;5;28;01mNone\u001b[39;00m \u001b[38;5;129;01mand\u001b[39;00m\n\u001b[0;32m    511\u001b[0m         parse_int \u001b[38;5;129;01mis\u001b[39;00m \u001b[38;5;28;01mNone\u001b[39;00m \u001b[38;5;129;01mand\u001b[39;00m parse_float \u001b[38;5;129;01mis\u001b[39;00m \u001b[38;5;28;01mNone\u001b[39;00m \u001b[38;5;129;01mand\u001b[39;00m\n\u001b[0;32m    512\u001b[0m         parse_constant \u001b[38;5;129;01mis\u001b[39;00m \u001b[38;5;28;01mNone\u001b[39;00m \u001b[38;5;129;01mand\u001b[39;00m object_pairs_hook \u001b[38;5;129;01mis\u001b[39;00m \u001b[38;5;28;01mNone\u001b[39;00m\n\u001b[0;32m    513\u001b[0m         \u001b[38;5;129;01mand\u001b[39;00m \u001b[38;5;129;01mnot\u001b[39;00m use_decimal \u001b[38;5;129;01mand\u001b[39;00m \u001b[38;5;129;01mnot\u001b[39;00m allow_nan \u001b[38;5;129;01mand\u001b[39;00m \u001b[38;5;129;01mnot\u001b[39;00m kw):\n\u001b[1;32m--> 514\u001b[0m     \u001b[38;5;28;01mreturn\u001b[39;00m \u001b[43m_default_decoder\u001b[49m\u001b[38;5;241;43m.\u001b[39;49m\u001b[43mdecode\u001b[49m\u001b[43m(\u001b[49m\u001b[43ms\u001b[49m\u001b[43m)\u001b[49m\n\u001b[0;32m    515\u001b[0m \u001b[38;5;28;01mif\u001b[39;00m \u001b[38;5;28mcls\u001b[39m \u001b[38;5;129;01mis\u001b[39;00m \u001b[38;5;28;01mNone\u001b[39;00m:\n\u001b[0;32m    516\u001b[0m     \u001b[38;5;28mcls\u001b[39m \u001b[38;5;241m=\u001b[39m JSONDecoder\n",
      "File \u001b[1;32mC:\\Miniconda3\\envs\\jyp_mathjax\\lib\\site-packages\\simplejson\\decoder.py:386\u001b[0m, in \u001b[0;36mJSONDecoder.decode\u001b[1;34m(self, s, _w, _PY3)\u001b[0m\n\u001b[0;32m    384\u001b[0m \u001b[38;5;28;01mif\u001b[39;00m _PY3 \u001b[38;5;129;01mand\u001b[39;00m \u001b[38;5;28misinstance\u001b[39m(s, \u001b[38;5;28mbytes\u001b[39m):\n\u001b[0;32m    385\u001b[0m     s \u001b[38;5;241m=\u001b[39m \u001b[38;5;28mstr\u001b[39m(s, \u001b[38;5;28mself\u001b[39m\u001b[38;5;241m.\u001b[39mencoding)\n\u001b[1;32m--> 386\u001b[0m obj, end \u001b[38;5;241m=\u001b[39m \u001b[38;5;28;43mself\u001b[39;49m\u001b[38;5;241;43m.\u001b[39;49m\u001b[43mraw_decode\u001b[49m\u001b[43m(\u001b[49m\u001b[43ms\u001b[49m\u001b[43m)\u001b[49m\n\u001b[0;32m    387\u001b[0m end \u001b[38;5;241m=\u001b[39m _w(s, end)\u001b[38;5;241m.\u001b[39mend()\n\u001b[0;32m    388\u001b[0m \u001b[38;5;28;01mif\u001b[39;00m end \u001b[38;5;241m!=\u001b[39m \u001b[38;5;28mlen\u001b[39m(s):\n",
      "File \u001b[1;32mC:\\Miniconda3\\envs\\jyp_mathjax\\lib\\site-packages\\simplejson\\decoder.py:416\u001b[0m, in \u001b[0;36mJSONDecoder.raw_decode\u001b[1;34m(self, s, idx, _w, _PY3)\u001b[0m\n\u001b[0;32m    414\u001b[0m     \u001b[38;5;28;01melif\u001b[39;00m ord0 \u001b[38;5;241m==\u001b[39m \u001b[38;5;241m0xef\u001b[39m \u001b[38;5;129;01mand\u001b[39;00m s[idx:idx \u001b[38;5;241m+\u001b[39m \u001b[38;5;241m3\u001b[39m] \u001b[38;5;241m==\u001b[39m \u001b[38;5;124m'\u001b[39m\u001b[38;5;130;01m\\xef\u001b[39;00m\u001b[38;5;130;01m\\xbb\u001b[39;00m\u001b[38;5;130;01m\\xbf\u001b[39;00m\u001b[38;5;124m'\u001b[39m:\n\u001b[0;32m    415\u001b[0m         idx \u001b[38;5;241m+\u001b[39m\u001b[38;5;241m=\u001b[39m \u001b[38;5;241m3\u001b[39m\n\u001b[1;32m--> 416\u001b[0m \u001b[38;5;28;01mreturn\u001b[39;00m \u001b[38;5;28;43mself\u001b[39;49m\u001b[38;5;241;43m.\u001b[39;49m\u001b[43mscan_once\u001b[49m\u001b[43m(\u001b[49m\u001b[43ms\u001b[49m\u001b[43m,\u001b[49m\u001b[43m \u001b[49m\u001b[43midx\u001b[49m\u001b[38;5;241;43m=\u001b[39;49m\u001b[43m_w\u001b[49m\u001b[43m(\u001b[49m\u001b[43ms\u001b[49m\u001b[43m,\u001b[49m\u001b[43m \u001b[49m\u001b[43midx\u001b[49m\u001b[43m)\u001b[49m\u001b[38;5;241;43m.\u001b[39;49m\u001b[43mend\u001b[49m\u001b[43m(\u001b[49m\u001b[43m)\u001b[49m\u001b[43m)\u001b[49m\n",
      "\u001b[1;31mJSONDecodeError\u001b[0m: Expecting value: line 1 column 1 (char 0)"
     ]
    }
   ],
   "source": [
    "import pandas as pd\n",
    "from eco_tool import icos_data\n",
    "\n",
    "s = icos_data.StationData()\n",
    "st_df = s.stations_df\n",
    "\n",
    "pid_ls = list(st_df.dobj)\n",
    "v1 = 'CO2'\n",
    "v2 = 'H'\n",
    "v3 = 'H2O'\n",
    "x_var_tuple_ls = [(v1, pid_ls[0]),(v2, pid_ls[3]),\n",
    "                (v3, pid_ls[6]),(v2, pid_ls[0]),\n",
    "                (v3, pid_ls[3]), (v1, pid_ls[6])]\n",
    "\n",
    "def get_data():\n",
    "    var_tuple_ls = x_var_tuple_ls\n",
    "\n",
    "    df = icos_data.StationData.group_ts(var_tuple_ls=var_tuple_ls,\n",
    "                                        start_date='2023-03-05',\n",
    "                                        end_date='2023-03-25')\n",
    "    return df\n",
    "\n",
    "\n",
    "df = get_data()\n",
    "df.icos_station_id\n",
    "df['ttt'] = df.index\n",
    "df['critical'] = df[\"SE-Sto_CO2\"] >425\n",
    "\n",
    "\n",
    "df2 = pd.DataFrame(df) \n",
    "print(type(df), type(df2))\n",
    "\n",
    "# TODO: fix meta....\n",
    "\n",
    "sliders = int(2)\n",
    "var_units = df.icos_var_unit_ls\n",
    "print(var_units)\n",
    "\n",
    "#fig = px.line(df, x='ttt', y=\"SE-Sto_CO2\", color='critical')\n",
    "#plot.multi_plot(df, n=sliders, units=var_units).show()\n",
    "\n",
    "df = df.dropna()\n",
    "fig = px.line(df, x=\"FR-Bil_CO2\", y=\"SE-Sto_CO2\", text=\"ttt\",  color=\"critical\") \n",
    "fig.update_traces(textposition=\"bottom right\")\n",
    "fig.show()\n",
    "\n",
    "df"
   ]
  },
  {
   "cell_type": "code",
   "execution_count": null,
   "id": "696569f3-d4e0-49bb-bc1a-06ef14093cb9",
   "metadata": {},
   "outputs": [],
   "source": [
    "import pandas as pd\n",
    "from icoscp.cpb.dobj import Dobj\n",
    "from eco_tool import *\n",
    "\n",
    "s = icos_data.StationData()\n",
    "st_df = s.stations_df\n",
    "\n",
    "pid_ls = list(st_df.dobj)\n",
    "v1,v2,v3,v4 = 'SWC_1', 'SWC_2', 'SWC_3', 'SWC_4'\n",
    "\n",
    "# v1 = 'CO2'\n",
    "# v2 = 'H'\n",
    "# v3 = 'H2O'\n",
    "# x_var_tuple_ls = [(v1, pid_ls[1]),(v2, pid_ls[4]),\n",
    "#                 (v3, pid_ls[7]),(v2, pid_ls[1]),\n",
    "#                 (v3, pid_ls[4]), (v1, pid_ls[7])]\n",
    "x_var_tuple_ls = [(v1, pid_ls[7]),(v2, pid_ls[7]),\n",
    "                (v3, pid_ls[7]),(v4, pid_ls[7]),\n",
    "                (v1, pid_ls[4]), (v2, pid_ls[4])]\n",
    "\n",
    "def get_data():\n",
    "    var_tuple_ls = x_var_tuple_ls\n",
    "\n",
    "    df = icos_data.StationData.group_ts(var_tuple_ls=var_tuple_ls,\n",
    "                                        start_date='2023-03-08',\n",
    "                                        end_date='2023-03-10')\n",
    "    return df\n",
    "\n",
    "\n",
    "df = get_data()\n",
    "df\n",
    "df2 = df.dropna()\n",
    "df3 = df2[df2.columns[:4]]\n",
    "df3.columns.name = 'swc'\n",
    "\n",
    "df3"
   ]
  },
  {
   "cell_type": "code",
   "execution_count": 29,
   "id": "b2cce720-c6c4-488a-9e42-a3842ba3fd31",
   "metadata": {},
   "outputs": [
    {
     "data": {
      "application/vnd.plotly.v1+json": {
       "config": {
        "displayModeBar": false,
        "plotlyServerURL": "https://plot.ly"
       },
       "data": [
        {
         "hovertemplate": "jajajaja lak al  alolalla swc=FR-Bil_SWC_1<br>FR-Bil_SWC_2=17.34000015258789<br>TIMESTAMP=%{x}<br>value=%{y}<extra></extra>",
         "legendgroup": "FR-Bil_SWC_1",
         "line": {
          "color": "#636efa",
          "dash": "solid"
         },
         "marker": {
          "symbol": "circle"
         },
         "mode": "lines",
         "name": "FR-Bil_SWC_1",
         "orientation": "v",
         "showlegend": true,
         "type": "scatter",
         "x": [
          "2023-03-08T00:00:00",
          "2023-03-08T02:30:00"
         ],
         "xaxis": "x61",
         "y": [
          13.4399995803833,
          13.260000228881836
         ],
         "yaxis": "y61"
        },
        {
         "hovertemplate": "jajajaja lak al  alolalla swc=FR-Bil_SWC_1<br>FR-Bil_SWC_2=17.350000381469727<br>TIMESTAMP=%{x}<br>value=%{y}<extra></extra>",
         "legendgroup": "FR-Bil_SWC_1",
         "line": {
          "color": "#636efa",
          "dash": "solid"
         },
         "marker": {
          "symbol": "circle"
         },
         "mode": "lines",
         "name": "FR-Bil_SWC_1",
         "orientation": "v",
         "showlegend": false,
         "type": "scatter",
         "x": [
          "2023-03-08T00:30:00",
          "2023-03-08T14:00:00",
          "2023-03-08T14:30:00",
          "2023-03-08T15:30:00"
         ],
         "xaxis": "x60",
         "y": [
          13.479999542236328,
          13.59000015258789,
          13.600000381469727,
          13.569999694824219
         ],
         "yaxis": "y60"
        },
        {
         "hovertemplate": "jajajaja lak al  alolalla swc=FR-Bil_SWC_1<br>FR-Bil_SWC_2=17.270000457763672<br>TIMESTAMP=%{x}<br>value=%{y}<extra></extra>",
         "legendgroup": "FR-Bil_SWC_1",
         "line": {
          "color": "#636efa",
          "dash": "solid"
         },
         "marker": {
          "symbol": "circle"
         },
         "mode": "lines",
         "name": "FR-Bil_SWC_1",
         "orientation": "v",
         "showlegend": false,
         "type": "scatter",
         "x": [
          "2023-03-08T01:00:00"
         ],
         "xaxis": "x59",
         "y": [
          13.380000114440918
         ],
         "yaxis": "y59"
        },
        {
         "hovertemplate": "jajajaja lak al  alolalla swc=FR-Bil_SWC_1<br>FR-Bil_SWC_2=17.239999771118164<br>TIMESTAMP=%{x}<br>value=%{y}<extra></extra>",
         "legendgroup": "FR-Bil_SWC_1",
         "line": {
          "color": "#636efa",
          "dash": "solid"
         },
         "marker": {
          "symbol": "circle"
         },
         "mode": "lines",
         "name": "FR-Bil_SWC_1",
         "orientation": "v",
         "showlegend": false,
         "type": "scatter",
         "x": [
          "2023-03-08T01:30:00",
          "2023-03-08T05:00:00"
         ],
         "xaxis": "x58",
         "y": [
          13.369999885559082,
          13.15999984741211
         ],
         "yaxis": "y58"
        },
        {
         "hovertemplate": "jajajaja lak al  alolalla swc=FR-Bil_SWC_1<br>FR-Bil_SWC_2=17.290000915527344<br>TIMESTAMP=%{x}<br>value=%{y}<extra></extra>",
         "legendgroup": "FR-Bil_SWC_1",
         "line": {
          "color": "#636efa",
          "dash": "solid"
         },
         "marker": {
          "symbol": "circle"
         },
         "mode": "lines",
         "name": "FR-Bil_SWC_1",
         "orientation": "v",
         "showlegend": false,
         "type": "scatter",
         "x": [
          "2023-03-08T02:00:00",
          "2023-03-08T06:30:00",
          "2023-03-08T07:00:00",
          "2023-03-08T17:00:00"
         ],
         "xaxis": "x57",
         "y": [
          13.229999542236328,
          13.140000343322754,
          13.140000343322754,
          13.34000015258789
         ],
         "yaxis": "y57"
        },
        {
         "hovertemplate": "jajajaja lak al  alolalla swc=FR-Bil_SWC_1<br>FR-Bil_SWC_2=17.329999923706055<br>TIMESTAMP=%{x}<br>value=%{y}<extra></extra>",
         "legendgroup": "FR-Bil_SWC_1",
         "line": {
          "color": "#636efa",
          "dash": "solid"
         },
         "marker": {
          "symbol": "circle"
         },
         "mode": "lines",
         "name": "FR-Bil_SWC_1",
         "orientation": "v",
         "showlegend": false,
         "type": "scatter",
         "x": [
          "2023-03-08T03:00:00",
          "2023-03-08T10:00:00",
          "2023-03-08T16:30:00",
          "2023-03-08T18:00:00"
         ],
         "xaxis": "x56",
         "y": [
          13.170000076293945,
          13.779999732971191,
          13.399999618530273,
          13.449999809265137
         ],
         "yaxis": "y56"
        },
        {
         "hovertemplate": "jajajaja lak al  alolalla swc=FR-Bil_SWC_1<br>FR-Bil_SWC_2=17.25<br>TIMESTAMP=%{x}<br>value=%{y}<extra></extra>",
         "legendgroup": "FR-Bil_SWC_1",
         "line": {
          "color": "#636efa",
          "dash": "solid"
         },
         "marker": {
          "symbol": "circle"
         },
         "mode": "lines",
         "name": "FR-Bil_SWC_1",
         "orientation": "v",
         "showlegend": false,
         "type": "scatter",
         "x": [
          "2023-03-08T03:30:00"
         ],
         "xaxis": "x55",
         "y": [
          13.220000267028809
         ],
         "yaxis": "y55"
        },
        {
         "hovertemplate": "jajajaja lak al  alolalla swc=FR-Bil_SWC_1<br>FR-Bil_SWC_2=17.209999084472656<br>TIMESTAMP=%{x}<br>value=%{y}<extra></extra>",
         "legendgroup": "FR-Bil_SWC_1",
         "line": {
          "color": "#636efa",
          "dash": "solid"
         },
         "marker": {
          "symbol": "circle"
         },
         "mode": "lines",
         "name": "FR-Bil_SWC_1",
         "orientation": "v",
         "showlegend": false,
         "type": "scatter",
         "x": [
          "2023-03-08T04:00:00",
          "2023-03-08T04:30:00",
          "2023-03-08T05:30:00"
         ],
         "xaxis": "x54",
         "y": [
          13.220000267028809,
          13.1899995803833,
          13.210000038146973
         ],
         "yaxis": "y54"
        },
        {
         "hovertemplate": "jajajaja lak al  alolalla swc=FR-Bil_SWC_1<br>FR-Bil_SWC_2=17.219999313354492<br>TIMESTAMP=%{x}<br>value=%{y}<extra></extra>",
         "legendgroup": "FR-Bil_SWC_1",
         "line": {
          "color": "#636efa",
          "dash": "solid"
         },
         "marker": {
          "symbol": "circle"
         },
         "mode": "lines",
         "name": "FR-Bil_SWC_1",
         "orientation": "v",
         "showlegend": false,
         "type": "scatter",
         "x": [
          "2023-03-08T06:00:00"
         ],
         "xaxis": "x53",
         "y": [
          13.15999984741211
         ],
         "yaxis": "y53"
        },
        {
         "hovertemplate": "jajajaja lak al  alolalla swc=FR-Bil_SWC_1<br>FR-Bil_SWC_2=17.31999969482422<br>TIMESTAMP=%{x}<br>value=%{y}<extra></extra>",
         "legendgroup": "FR-Bil_SWC_1",
         "line": {
          "color": "#636efa",
          "dash": "solid"
         },
         "marker": {
          "symbol": "circle"
         },
         "mode": "lines",
         "name": "FR-Bil_SWC_1",
         "orientation": "v",
         "showlegend": false,
         "type": "scatter",
         "x": [
          "2023-03-08T07:30:00",
          "2023-03-08T08:00:00",
          "2023-03-08T09:00:00",
          "2023-03-08T10:30:00"
         ],
         "xaxis": "x52",
         "y": [
          13.109999656677246,
          13.319999694824219,
          13.640000343322754,
          13.770000457763672
         ],
         "yaxis": "y52"
        },
        {
         "hovertemplate": "jajajaja lak al  alolalla swc=FR-Bil_SWC_1<br>FR-Bil_SWC_2=17.260000228881836<br>TIMESTAMP=%{x}<br>value=%{y}<extra></extra>",
         "legendgroup": "FR-Bil_SWC_1",
         "line": {
          "color": "#636efa",
          "dash": "solid"
         },
         "marker": {
          "symbol": "circle"
         },
         "mode": "lines",
         "name": "FR-Bil_SWC_1",
         "orientation": "v",
         "showlegend": false,
         "type": "scatter",
         "x": [
          "2023-03-08T08:30:00"
         ],
         "xaxis": "x51",
         "y": [
          13.5600004196167
         ],
         "yaxis": "y51"
        },
        {
         "hovertemplate": "jajajaja lak al  alolalla swc=FR-Bil_SWC_1<br>FR-Bil_SWC_2=17.360000610351562<br>TIMESTAMP=%{x}<br>value=%{y}<extra></extra>",
         "legendgroup": "FR-Bil_SWC_1",
         "line": {
          "color": "#636efa",
          "dash": "solid"
         },
         "marker": {
          "symbol": "circle"
         },
         "mode": "lines",
         "name": "FR-Bil_SWC_1",
         "orientation": "v",
         "showlegend": false,
         "type": "scatter",
         "x": [
          "2023-03-08T09:30:00",
          "2023-03-08T11:00:00",
          "2023-03-08T13:30:00",
          "2023-03-08T16:00:00"
         ],
         "xaxis": "x50",
         "y": [
          13.710000038146973,
          13.729999542236328,
          13.579999923706055,
          13.420000076293945
         ],
         "yaxis": "y50"
        },
        {
         "hovertemplate": "jajajaja lak al  alolalla swc=FR-Bil_SWC_1<br>FR-Bil_SWC_2=17.420000076293945<br>TIMESTAMP=%{x}<br>value=%{y}<extra></extra>",
         "legendgroup": "FR-Bil_SWC_1",
         "line": {
          "color": "#636efa",
          "dash": "solid"
         },
         "marker": {
          "symbol": "circle"
         },
         "mode": "lines",
         "name": "FR-Bil_SWC_1",
         "orientation": "v",
         "showlegend": false,
         "type": "scatter",
         "x": [
          "2023-03-08T11:30:00"
         ],
         "xaxis": "x49",
         "y": [
          13.670000076293945
         ],
         "yaxis": "y49"
        },
        {
         "hovertemplate": "jajajaja lak al  alolalla swc=FR-Bil_SWC_1<br>FR-Bil_SWC_2=17.450000762939453<br>TIMESTAMP=%{x}<br>value=%{y}<extra></extra>",
         "legendgroup": "FR-Bil_SWC_1",
         "line": {
          "color": "#636efa",
          "dash": "solid"
         },
         "marker": {
          "symbol": "circle"
         },
         "mode": "lines",
         "name": "FR-Bil_SWC_1",
         "orientation": "v",
         "showlegend": false,
         "type": "scatter",
         "x": [
          "2023-03-08T12:00:00",
          "2023-03-08T12:30:00"
         ],
         "xaxis": "x48",
         "y": [
          13.670000076293945,
          13.65999984741211
         ],
         "yaxis": "y48"
        },
        {
         "hovertemplate": "jajajaja lak al  alolalla swc=FR-Bil_SWC_1<br>FR-Bil_SWC_2=17.399999618530273<br>TIMESTAMP=%{x}<br>value=%{y}<extra></extra>",
         "legendgroup": "FR-Bil_SWC_1",
         "line": {
          "color": "#636efa",
          "dash": "solid"
         },
         "marker": {
          "symbol": "circle"
         },
         "mode": "lines",
         "name": "FR-Bil_SWC_1",
         "orientation": "v",
         "showlegend": false,
         "type": "scatter",
         "x": [
          "2023-03-08T13:00:00"
         ],
         "xaxis": "x47",
         "y": [
          13.600000381469727
         ],
         "yaxis": "y47"
        },
        {
         "hovertemplate": "jajajaja lak al  alolalla swc=FR-Bil_SWC_1<br>FR-Bil_SWC_2=17.299999237060547<br>TIMESTAMP=%{x}<br>value=%{y}<extra></extra>",
         "legendgroup": "FR-Bil_SWC_1",
         "line": {
          "color": "#636efa",
          "dash": "solid"
         },
         "marker": {
          "symbol": "circle"
         },
         "mode": "lines",
         "name": "FR-Bil_SWC_1",
         "orientation": "v",
         "showlegend": false,
         "type": "scatter",
         "x": [
          "2023-03-08T15:00:00",
          "2023-03-08T17:30:00"
         ],
         "xaxis": "x46",
         "y": [
          13.520000457763672,
          13.3100004196167
         ],
         "yaxis": "y46"
        },
        {
         "hovertemplate": "jajajaja lak al  alolalla swc=FR-Bil_SWC_1<br>FR-Bil_SWC_2=17.3700008392334<br>TIMESTAMP=%{x}<br>value=%{y}<extra></extra>",
         "legendgroup": "FR-Bil_SWC_1",
         "line": {
          "color": "#636efa",
          "dash": "solid"
         },
         "marker": {
          "symbol": "circle"
         },
         "mode": "lines",
         "name": "FR-Bil_SWC_1",
         "orientation": "v",
         "showlegend": false,
         "type": "scatter",
         "x": [
          "2023-03-08T18:30:00"
         ],
         "xaxis": "x45",
         "y": [
          13.710000038146973
         ],
         "yaxis": "y45"
        },
        {
         "hovertemplate": "jajajaja lak al  alolalla swc=FR-Bil_SWC_1<br>FR-Bil_SWC_2=17.43000030517578<br>TIMESTAMP=%{x}<br>value=%{y}<extra></extra>",
         "legendgroup": "FR-Bil_SWC_1",
         "line": {
          "color": "#636efa",
          "dash": "solid"
         },
         "marker": {
          "symbol": "circle"
         },
         "mode": "lines",
         "name": "FR-Bil_SWC_1",
         "orientation": "v",
         "showlegend": false,
         "type": "scatter",
         "x": [
          "2023-03-08T19:00:00"
         ],
         "xaxis": "x44",
         "y": [
          14.380000114440918
         ],
         "yaxis": "y44"
        },
        {
         "hovertemplate": "jajajaja lak al  alolalla swc=FR-Bil_SWC_1<br>FR-Bil_SWC_2=17.600000381469727<br>TIMESTAMP=%{x}<br>value=%{y}<extra></extra>",
         "legendgroup": "FR-Bil_SWC_1",
         "line": {
          "color": "#636efa",
          "dash": "solid"
         },
         "marker": {
          "symbol": "circle"
         },
         "mode": "lines",
         "name": "FR-Bil_SWC_1",
         "orientation": "v",
         "showlegend": false,
         "type": "scatter",
         "x": [
          "2023-03-08T19:30:00"
         ],
         "xaxis": "x43",
         "y": [
          15.039999961853027
         ],
         "yaxis": "y43"
        },
        {
         "hovertemplate": "jajajaja lak al  alolalla swc=FR-Bil_SWC_1<br>FR-Bil_SWC_2=17.829999923706055<br>TIMESTAMP=%{x}<br>value=%{y}<extra></extra>",
         "legendgroup": "FR-Bil_SWC_1",
         "line": {
          "color": "#636efa",
          "dash": "solid"
         },
         "marker": {
          "symbol": "circle"
         },
         "mode": "lines",
         "name": "FR-Bil_SWC_1",
         "orientation": "v",
         "showlegend": false,
         "type": "scatter",
         "x": [
          "2023-03-08T20:00:00",
          "2023-03-09T19:30:00"
         ],
         "xaxis": "x42",
         "y": [
          15.239999771118164,
          13.109999656677246
         ],
         "yaxis": "y42"
        },
        {
         "hovertemplate": "jajajaja lak al  alolalla swc=FR-Bil_SWC_1<br>FR-Bil_SWC_2=17.920000076293945<br>TIMESTAMP=%{x}<br>value=%{y}<extra></extra>",
         "legendgroup": "FR-Bil_SWC_1",
         "line": {
          "color": "#636efa",
          "dash": "solid"
         },
         "marker": {
          "symbol": "circle"
         },
         "mode": "lines",
         "name": "FR-Bil_SWC_1",
         "orientation": "v",
         "showlegend": false,
         "type": "scatter",
         "x": [
          "2023-03-08T20:30:00"
         ],
         "xaxis": "x41",
         "y": [
          15.279999732971191
         ],
         "yaxis": "y41"
        },
        {
         "hovertemplate": "jajajaja lak al  alolalla swc=FR-Bil_SWC_1<br>FR-Bil_SWC_2=18.049999237060547<br>TIMESTAMP=%{x}<br>value=%{y}<extra></extra>",
         "legendgroup": "FR-Bil_SWC_1",
         "line": {
          "color": "#636efa",
          "dash": "solid"
         },
         "marker": {
          "symbol": "circle"
         },
         "mode": "lines",
         "name": "FR-Bil_SWC_1",
         "orientation": "v",
         "showlegend": false,
         "type": "scatter",
         "x": [
          "2023-03-08T21:00:00",
          "2023-03-09T11:00:00",
          "2023-03-09T11:30:00"
         ],
         "xaxis": "x40",
         "y": [
          15.220000267028809,
          13.6899995803833,
          13.609999656677246
         ],
         "yaxis": "y40"
        },
        {
         "hovertemplate": "jajajaja lak al  alolalla swc=FR-Bil_SWC_1<br>FR-Bil_SWC_2=18.139999389648438<br>TIMESTAMP=%{x}<br>value=%{y}<extra></extra>",
         "legendgroup": "FR-Bil_SWC_1",
         "line": {
          "color": "#636efa",
          "dash": "solid"
         },
         "marker": {
          "symbol": "circle"
         },
         "mode": "lines",
         "name": "FR-Bil_SWC_1",
         "orientation": "v",
         "showlegend": false,
         "type": "scatter",
         "x": [
          "2023-03-08T21:30:00"
         ],
         "xaxis": "x39",
         "y": [
          15.130000114440918
         ],
         "yaxis": "y39"
        },
        {
         "hovertemplate": "jajajaja lak al  alolalla swc=FR-Bil_SWC_1<br>FR-Bil_SWC_2=18.1299991607666<br>TIMESTAMP=%{x}<br>value=%{y}<extra></extra>",
         "legendgroup": "FR-Bil_SWC_1",
         "line": {
          "color": "#636efa",
          "dash": "solid"
         },
         "marker": {
          "symbol": "circle"
         },
         "mode": "lines",
         "name": "FR-Bil_SWC_1",
         "orientation": "v",
         "showlegend": false,
         "type": "scatter",
         "x": [
          "2023-03-08T22:00:00",
          "2023-03-09T09:30:00"
         ],
         "xaxis": "x38",
         "y": [
          15.039999961853027,
          13.800000190734863
         ],
         "yaxis": "y38"
        },
        {
         "hovertemplate": "jajajaja lak al  alolalla swc=FR-Bil_SWC_1<br>FR-Bil_SWC_2=18.149999618530273<br>TIMESTAMP=%{x}<br>value=%{y}<extra></extra>",
         "legendgroup": "FR-Bil_SWC_1",
         "line": {
          "color": "#636efa",
          "dash": "solid"
         },
         "marker": {
          "symbol": "circle"
         },
         "mode": "lines",
         "name": "FR-Bil_SWC_1",
         "orientation": "v",
         "showlegend": false,
         "type": "scatter",
         "x": [
          "2023-03-08T22:30:00"
         ],
         "xaxis": "x37",
         "y": [
          14.9399995803833
         ],
         "yaxis": "y37"
        },
        {
         "hovertemplate": "jajajaja lak al  alolalla swc=FR-Bil_SWC_1<br>FR-Bil_SWC_2=18.190000534057617<br>TIMESTAMP=%{x}<br>value=%{y}<extra></extra>",
         "legendgroup": "FR-Bil_SWC_1",
         "line": {
          "color": "#636efa",
          "dash": "solid"
         },
         "marker": {
          "symbol": "circle"
         },
         "mode": "lines",
         "name": "FR-Bil_SWC_1",
         "orientation": "v",
         "showlegend": false,
         "type": "scatter",
         "x": [
          "2023-03-08T23:00:00",
          "2023-03-09T00:30:00",
          "2023-03-09T01:00:00"
         ],
         "xaxis": "x36",
         "y": [
          14.899999618530273,
          14.680000305175781,
          14.59000015258789
         ],
         "yaxis": "y36"
        },
        {
         "hovertemplate": "jajajaja lak al  alolalla swc=FR-Bil_SWC_1<br>FR-Bil_SWC_2=18.260000228881836<br>TIMESTAMP=%{x}<br>value=%{y}<extra></extra>",
         "legendgroup": "FR-Bil_SWC_1",
         "line": {
          "color": "#636efa",
          "dash": "solid"
         },
         "marker": {
          "symbol": "circle"
         },
         "mode": "lines",
         "name": "FR-Bil_SWC_1",
         "orientation": "v",
         "showlegend": false,
         "type": "scatter",
         "x": [
          "2023-03-08T23:30:00"
         ],
         "xaxis": "x35",
         "y": [
          14.789999961853027
         ],
         "yaxis": "y35"
        },
        {
         "hovertemplate": "jajajaja lak al  alolalla swc=FR-Bil_SWC_1<br>FR-Bil_SWC_2=18.229999542236328<br>TIMESTAMP=%{x}<br>value=%{y}<extra></extra>",
         "legendgroup": "FR-Bil_SWC_1",
         "line": {
          "color": "#636efa",
          "dash": "solid"
         },
         "marker": {
          "symbol": "circle"
         },
         "mode": "lines",
         "name": "FR-Bil_SWC_1",
         "orientation": "v",
         "showlegend": false,
         "type": "scatter",
         "x": [
          "2023-03-09T00:00:00",
          "2023-03-09T05:30:00"
         ],
         "xaxis": "x34",
         "y": [
          14.770000457763672,
          14.100000381469727
         ],
         "yaxis": "y34"
        },
        {
         "hovertemplate": "jajajaja lak al  alolalla swc=FR-Bil_SWC_1<br>FR-Bil_SWC_2=18.170000076293945<br>TIMESTAMP=%{x}<br>value=%{y}<extra></extra>",
         "legendgroup": "FR-Bil_SWC_1",
         "line": {
          "color": "#636efa",
          "dash": "solid"
         },
         "marker": {
          "symbol": "circle"
         },
         "mode": "lines",
         "name": "FR-Bil_SWC_1",
         "orientation": "v",
         "showlegend": false,
         "type": "scatter",
         "x": [
          "2023-03-09T01:30:00",
          "2023-03-09T08:00:00"
         ],
         "xaxis": "x33",
         "y": [
          14.539999961853027,
          13.930000305175781
         ],
         "yaxis": "y33"
        },
        {
         "hovertemplate": "jajajaja lak al  alolalla swc=FR-Bil_SWC_1<br>FR-Bil_SWC_2=18.15999984741211<br>TIMESTAMP=%{x}<br>value=%{y}<extra></extra>",
         "legendgroup": "FR-Bil_SWC_1",
         "line": {
          "color": "#636efa",
          "dash": "solid"
         },
         "marker": {
          "symbol": "circle"
         },
         "mode": "lines",
         "name": "FR-Bil_SWC_1",
         "orientation": "v",
         "showlegend": false,
         "type": "scatter",
         "x": [
          "2023-03-09T02:00:00",
          "2023-03-09T02:30:00"
         ],
         "xaxis": "x32",
         "y": [
          14.470000267028809,
          14.460000038146973
         ],
         "yaxis": "y32"
        },
        {
         "hovertemplate": "jajajaja lak al  alolalla swc=FR-Bil_SWC_1<br>FR-Bil_SWC_2=18.18000030517578<br>TIMESTAMP=%{x}<br>value=%{y}<extra></extra>",
         "legendgroup": "FR-Bil_SWC_1",
         "line": {
          "color": "#636efa",
          "dash": "solid"
         },
         "marker": {
          "symbol": "circle"
         },
         "mode": "lines",
         "name": "FR-Bil_SWC_1",
         "orientation": "v",
         "showlegend": false,
         "type": "scatter",
         "x": [
          "2023-03-09T03:00:00"
         ],
         "xaxis": "x31",
         "y": [
          14.3100004196167
         ],
         "yaxis": "y31"
        },
        {
         "hovertemplate": "jajajaja lak al  alolalla swc=FR-Bil_SWC_1<br>FR-Bil_SWC_2=18.25<br>TIMESTAMP=%{x}<br>value=%{y}<extra></extra>",
         "legendgroup": "FR-Bil_SWC_1",
         "line": {
          "color": "#636efa",
          "dash": "solid"
         },
         "marker": {
          "symbol": "circle"
         },
         "mode": "lines",
         "name": "FR-Bil_SWC_1",
         "orientation": "v",
         "showlegend": false,
         "type": "scatter",
         "x": [
          "2023-03-09T03:30:00"
         ],
         "xaxis": "x30",
         "y": [
          14.359999656677246
         ],
         "yaxis": "y30"
        },
        {
         "hovertemplate": "jajajaja lak al  alolalla swc=FR-Bil_SWC_1<br>FR-Bil_SWC_2=18.299999237060547<br>TIMESTAMP=%{x}<br>value=%{y}<extra></extra>",
         "legendgroup": "FR-Bil_SWC_1",
         "line": {
          "color": "#636efa",
          "dash": "solid"
         },
         "marker": {
          "symbol": "circle"
         },
         "mode": "lines",
         "name": "FR-Bil_SWC_1",
         "orientation": "v",
         "showlegend": false,
         "type": "scatter",
         "x": [
          "2023-03-09T04:00:00"
         ],
         "xaxis": "x29",
         "y": [
          14.270000457763672
         ],
         "yaxis": "y29"
        },
        {
         "hovertemplate": "jajajaja lak al  alolalla swc=FR-Bil_SWC_1<br>FR-Bil_SWC_2=18.280000686645508<br>TIMESTAMP=%{x}<br>value=%{y}<extra></extra>",
         "legendgroup": "FR-Bil_SWC_1",
         "line": {
          "color": "#636efa",
          "dash": "solid"
         },
         "marker": {
          "symbol": "circle"
         },
         "mode": "lines",
         "name": "FR-Bil_SWC_1",
         "orientation": "v",
         "showlegend": false,
         "type": "scatter",
         "x": [
          "2023-03-09T04:30:00"
         ],
         "xaxis": "x28",
         "y": [
          14.279999732971191
         ],
         "yaxis": "y28"
        },
        {
         "hovertemplate": "jajajaja lak al  alolalla swc=FR-Bil_SWC_1<br>FR-Bil_SWC_2=18.239999771118164<br>TIMESTAMP=%{x}<br>value=%{y}<extra></extra>",
         "legendgroup": "FR-Bil_SWC_1",
         "line": {
          "color": "#636efa",
          "dash": "solid"
         },
         "marker": {
          "symbol": "circle"
         },
         "mode": "lines",
         "name": "FR-Bil_SWC_1",
         "orientation": "v",
         "showlegend": false,
         "type": "scatter",
         "x": [
          "2023-03-09T05:00:00"
         ],
         "xaxis": "x27",
         "y": [
          14.119999885559082
         ],
         "yaxis": "y27"
        },
        {
         "hovertemplate": "jajajaja lak al  alolalla swc=FR-Bil_SWC_1<br>FR-Bil_SWC_2=18.219999313354492<br>TIMESTAMP=%{x}<br>value=%{y}<extra></extra>",
         "legendgroup": "FR-Bil_SWC_1",
         "line": {
          "color": "#636efa",
          "dash": "solid"
         },
         "marker": {
          "symbol": "circle"
         },
         "mode": "lines",
         "name": "FR-Bil_SWC_1",
         "orientation": "v",
         "showlegend": false,
         "type": "scatter",
         "x": [
          "2023-03-09T06:00:00"
         ],
         "xaxis": "x26",
         "y": [
          14.100000381469727
         ],
         "yaxis": "y26"
        },
        {
         "hovertemplate": "jajajaja lak al  alolalla swc=FR-Bil_SWC_1<br>FR-Bil_SWC_2=18.200000762939453<br>TIMESTAMP=%{x}<br>value=%{y}<extra></extra>",
         "legendgroup": "FR-Bil_SWC_1",
         "line": {
          "color": "#636efa",
          "dash": "solid"
         },
         "marker": {
          "symbol": "circle"
         },
         "mode": "lines",
         "name": "FR-Bil_SWC_1",
         "orientation": "v",
         "showlegend": false,
         "type": "scatter",
         "x": [
          "2023-03-09T06:30:00"
         ],
         "xaxis": "x25",
         "y": [
          14.010000228881836
         ],
         "yaxis": "y25"
        },
        {
         "hovertemplate": "jajajaja lak al  alolalla swc=FR-Bil_SWC_1<br>FR-Bil_SWC_2=18.209999084472656<br>TIMESTAMP=%{x}<br>value=%{y}<extra></extra>",
         "legendgroup": "FR-Bil_SWC_1",
         "line": {
          "color": "#636efa",
          "dash": "solid"
         },
         "marker": {
          "symbol": "circle"
         },
         "mode": "lines",
         "name": "FR-Bil_SWC_1",
         "orientation": "v",
         "showlegend": false,
         "type": "scatter",
         "x": [
          "2023-03-09T07:00:00",
          "2023-03-09T07:30:00"
         ],
         "xaxis": "x24",
         "y": [
          14.029999732971191,
          13.989999771118164
         ],
         "yaxis": "y24"
        },
        {
         "hovertemplate": "jajajaja lak al  alolalla swc=FR-Bil_SWC_1<br>FR-Bil_SWC_2=18.1200008392334<br>TIMESTAMP=%{x}<br>value=%{y}<extra></extra>",
         "legendgroup": "FR-Bil_SWC_1",
         "line": {
          "color": "#636efa",
          "dash": "solid"
         },
         "marker": {
          "symbol": "circle"
         },
         "mode": "lines",
         "name": "FR-Bil_SWC_1",
         "orientation": "v",
         "showlegend": false,
         "type": "scatter",
         "x": [
          "2023-03-09T08:30:00"
         ],
         "xaxis": "x23",
         "y": [
          13.880000114440918
         ],
         "yaxis": "y23"
        },
        {
         "hovertemplate": "jajajaja lak al  alolalla swc=FR-Bil_SWC_1<br>FR-Bil_SWC_2=18.110000610351562<br>TIMESTAMP=%{x}<br>value=%{y}<extra></extra>",
         "legendgroup": "FR-Bil_SWC_1",
         "line": {
          "color": "#636efa",
          "dash": "solid"
         },
         "marker": {
          "symbol": "circle"
         },
         "mode": "lines",
         "name": "FR-Bil_SWC_1",
         "orientation": "v",
         "showlegend": false,
         "type": "scatter",
         "x": [
          "2023-03-09T09:00:00"
         ],
         "xaxis": "x22",
         "y": [
          13.850000381469727
         ],
         "yaxis": "y22"
        },
        {
         "hovertemplate": "jajajaja lak al  alolalla swc=FR-Bil_SWC_1<br>FR-Bil_SWC_2=18.100000381469727<br>TIMESTAMP=%{x}<br>value=%{y}<extra></extra>",
         "legendgroup": "FR-Bil_SWC_1",
         "line": {
          "color": "#636efa",
          "dash": "solid"
         },
         "marker": {
          "symbol": "circle"
         },
         "mode": "lines",
         "name": "FR-Bil_SWC_1",
         "orientation": "v",
         "showlegend": false,
         "type": "scatter",
         "x": [
          "2023-03-09T10:00:00"
         ],
         "xaxis": "x21",
         "y": [
          13.800000190734863
         ],
         "yaxis": "y21"
        },
        {
         "hovertemplate": "jajajaja lak al  alolalla swc=FR-Bil_SWC_1<br>FR-Bil_SWC_2=18.06999969482422<br>TIMESTAMP=%{x}<br>value=%{y}<extra></extra>",
         "legendgroup": "FR-Bil_SWC_1",
         "line": {
          "color": "#636efa",
          "dash": "solid"
         },
         "marker": {
          "symbol": "circle"
         },
         "mode": "lines",
         "name": "FR-Bil_SWC_1",
         "orientation": "v",
         "showlegend": false,
         "type": "scatter",
         "x": [
          "2023-03-09T10:30:00"
         ],
         "xaxis": "x20",
         "y": [
          13.699999809265137
         ],
         "yaxis": "y20"
        },
        {
         "hovertemplate": "jajajaja lak al  alolalla swc=FR-Bil_SWC_1<br>FR-Bil_SWC_2=18.040000915527344<br>TIMESTAMP=%{x}<br>value=%{y}<extra></extra>",
         "legendgroup": "FR-Bil_SWC_1",
         "line": {
          "color": "#636efa",
          "dash": "solid"
         },
         "marker": {
          "symbol": "circle"
         },
         "mode": "lines",
         "name": "FR-Bil_SWC_1",
         "orientation": "v",
         "showlegend": false,
         "type": "scatter",
         "x": [
          "2023-03-09T12:00:00"
         ],
         "xaxis": "x19",
         "y": [
          13.640000343322754
         ],
         "yaxis": "y19"
        },
        {
         "hovertemplate": "jajajaja lak al  alolalla swc=FR-Bil_SWC_1<br>FR-Bil_SWC_2=17.959999084472656<br>TIMESTAMP=%{x}<br>value=%{y}<extra></extra>",
         "legendgroup": "FR-Bil_SWC_1",
         "line": {
          "color": "#636efa",
          "dash": "solid"
         },
         "marker": {
          "symbol": "circle"
         },
         "mode": "lines",
         "name": "FR-Bil_SWC_1",
         "orientation": "v",
         "showlegend": false,
         "type": "scatter",
         "x": [
          "2023-03-09T12:30:00"
         ],
         "xaxis": "x18",
         "y": [
          13.579999923706055
         ],
         "yaxis": "y18"
        },
        {
         "hovertemplate": "jajajaja lak al  alolalla swc=FR-Bil_SWC_1<br>FR-Bil_SWC_2=17.979999542236328<br>TIMESTAMP=%{x}<br>value=%{y}<extra></extra>",
         "legendgroup": "FR-Bil_SWC_1",
         "line": {
          "color": "#636efa",
          "dash": "solid"
         },
         "marker": {
          "symbol": "circle"
         },
         "mode": "lines",
         "name": "FR-Bil_SWC_1",
         "orientation": "v",
         "showlegend": false,
         "type": "scatter",
         "x": [
          "2023-03-09T13:00:00"
         ],
         "xaxis": "x17",
         "y": [
          13.569999694824219
         ],
         "yaxis": "y17"
        },
        {
         "hovertemplate": "jajajaja lak al  alolalla swc=FR-Bil_SWC_1<br>FR-Bil_SWC_2=17.950000762939453<br>TIMESTAMP=%{x}<br>value=%{y}<extra></extra>",
         "legendgroup": "FR-Bil_SWC_1",
         "line": {
          "color": "#636efa",
          "dash": "solid"
         },
         "marker": {
          "symbol": "circle"
         },
         "mode": "lines",
         "name": "FR-Bil_SWC_1",
         "orientation": "v",
         "showlegend": false,
         "type": "scatter",
         "x": [
          "2023-03-09T13:30:00"
         ],
         "xaxis": "x16",
         "y": [
          13.529999732971191
         ],
         "yaxis": "y16"
        },
        {
         "hovertemplate": "jajajaja lak al  alolalla swc=FR-Bil_SWC_1<br>FR-Bil_SWC_2=18.0<br>TIMESTAMP=%{x}<br>value=%{y}<extra></extra>",
         "legendgroup": "FR-Bil_SWC_1",
         "line": {
          "color": "#636efa",
          "dash": "solid"
         },
         "marker": {
          "symbol": "circle"
         },
         "mode": "lines",
         "name": "FR-Bil_SWC_1",
         "orientation": "v",
         "showlegend": false,
         "type": "scatter",
         "x": [
          "2023-03-09T14:00:00"
         ],
         "xaxis": "x15",
         "y": [
          13.479999542236328
         ],
         "yaxis": "y15"
        },
        {
         "hovertemplate": "jajajaja lak al  alolalla swc=FR-Bil_SWC_1<br>FR-Bil_SWC_2=17.8799991607666<br>TIMESTAMP=%{x}<br>value=%{y}<extra></extra>",
         "legendgroup": "FR-Bil_SWC_1",
         "line": {
          "color": "#636efa",
          "dash": "solid"
         },
         "marker": {
          "symbol": "circle"
         },
         "mode": "lines",
         "name": "FR-Bil_SWC_1",
         "orientation": "v",
         "showlegend": false,
         "type": "scatter",
         "x": [
          "2023-03-09T14:30:00"
         ],
         "xaxis": "x14",
         "y": [
          13.4399995803833
         ],
         "yaxis": "y14"
        },
        {
         "hovertemplate": "jajajaja lak al  alolalla swc=FR-Bil_SWC_1<br>FR-Bil_SWC_2=17.860000610351562<br>TIMESTAMP=%{x}<br>value=%{y}<extra></extra>",
         "legendgroup": "FR-Bil_SWC_1",
         "line": {
          "color": "#636efa",
          "dash": "solid"
         },
         "marker": {
          "symbol": "circle"
         },
         "mode": "lines",
         "name": "FR-Bil_SWC_1",
         "orientation": "v",
         "showlegend": false,
         "type": "scatter",
         "x": [
          "2023-03-09T15:00:00",
          "2023-03-09T17:30:00",
          "2023-03-09T19:00:00"
         ],
         "xaxis": "x13",
         "y": [
          13.420000076293945,
          13.279999732971191,
          13.170000076293945
         ],
         "yaxis": "y13"
        },
        {
         "hovertemplate": "jajajaja lak al  alolalla swc=FR-Bil_SWC_1<br>FR-Bil_SWC_2=17.84000015258789<br>TIMESTAMP=%{x}<br>value=%{y}<extra></extra>",
         "legendgroup": "FR-Bil_SWC_1",
         "line": {
          "color": "#636efa",
          "dash": "solid"
         },
         "marker": {
          "symbol": "circle"
         },
         "mode": "lines",
         "name": "FR-Bil_SWC_1",
         "orientation": "v",
         "showlegend": false,
         "type": "scatter",
         "x": [
          "2023-03-09T15:30:00"
         ],
         "xaxis": "x12",
         "y": [
          13.420000076293945
         ],
         "yaxis": "y12"
        },
        {
         "hovertemplate": "jajajaja lak al  alolalla swc=FR-Bil_SWC_1<br>FR-Bil_SWC_2=17.790000915527344<br>TIMESTAMP=%{x}<br>value=%{y}<extra></extra>",
         "legendgroup": "FR-Bil_SWC_1",
         "line": {
          "color": "#636efa",
          "dash": "solid"
         },
         "marker": {
          "symbol": "circle"
         },
         "mode": "lines",
         "name": "FR-Bil_SWC_1",
         "orientation": "v",
         "showlegend": false,
         "type": "scatter",
         "x": [
          "2023-03-09T16:00:00"
         ],
         "xaxis": "x11",
         "y": [
          13.3100004196167
         ],
         "yaxis": "y11"
        },
        {
         "hovertemplate": "jajajaja lak al  alolalla swc=FR-Bil_SWC_1<br>FR-Bil_SWC_2=17.770000457763672<br>TIMESTAMP=%{x}<br>value=%{y}<extra></extra>",
         "legendgroup": "FR-Bil_SWC_1",
         "line": {
          "color": "#636efa",
          "dash": "solid"
         },
         "marker": {
          "symbol": "circle"
         },
         "mode": "lines",
         "name": "FR-Bil_SWC_1",
         "orientation": "v",
         "showlegend": false,
         "type": "scatter",
         "x": [
          "2023-03-09T16:30:00"
         ],
         "xaxis": "x10",
         "y": [
          13.180000305175781
         ],
         "yaxis": "y10"
        },
        {
         "hovertemplate": "jajajaja lak al  alolalla swc=FR-Bil_SWC_1<br>FR-Bil_SWC_2=17.799999237060547<br>TIMESTAMP=%{x}<br>value=%{y}<extra></extra>",
         "legendgroup": "FR-Bil_SWC_1",
         "line": {
          "color": "#636efa",
          "dash": "solid"
         },
         "marker": {
          "symbol": "circle"
         },
         "mode": "lines",
         "name": "FR-Bil_SWC_1",
         "orientation": "v",
         "showlegend": false,
         "type": "scatter",
         "x": [
          "2023-03-09T17:00:00"
         ],
         "xaxis": "x9",
         "y": [
          13.25
         ],
         "yaxis": "y9"
        },
        {
         "hovertemplate": "jajajaja lak al  alolalla swc=FR-Bil_SWC_1<br>FR-Bil_SWC_2=17.899999618530273<br>TIMESTAMP=%{x}<br>value=%{y}<extra></extra>",
         "legendgroup": "FR-Bil_SWC_1",
         "line": {
          "color": "#636efa",
          "dash": "solid"
         },
         "marker": {
          "symbol": "circle"
         },
         "mode": "lines",
         "name": "FR-Bil_SWC_1",
         "orientation": "v",
         "showlegend": false,
         "type": "scatter",
         "x": [
          "2023-03-09T18:00:00"
         ],
         "xaxis": "x8",
         "y": [
          13.210000038146973
         ],
         "yaxis": "y8"
        },
        {
         "hovertemplate": "jajajaja lak al  alolalla swc=FR-Bil_SWC_1<br>FR-Bil_SWC_2=17.889999389648438<br>TIMESTAMP=%{x}<br>value=%{y}<extra></extra>",
         "legendgroup": "FR-Bil_SWC_1",
         "line": {
          "color": "#636efa",
          "dash": "solid"
         },
         "marker": {
          "symbol": "circle"
         },
         "mode": "lines",
         "name": "FR-Bil_SWC_1",
         "orientation": "v",
         "showlegend": false,
         "type": "scatter",
         "x": [
          "2023-03-09T18:30:00"
         ],
         "xaxis": "x7",
         "y": [
          13.149999618530273
         ],
         "yaxis": "y7"
        },
        {
         "hovertemplate": "jajajaja lak al  alolalla swc=FR-Bil_SWC_1<br>FR-Bil_SWC_2=17.81999969482422<br>TIMESTAMP=%{x}<br>value=%{y}<extra></extra>",
         "legendgroup": "FR-Bil_SWC_1",
         "line": {
          "color": "#636efa",
          "dash": "solid"
         },
         "marker": {
          "symbol": "circle"
         },
         "mode": "lines",
         "name": "FR-Bil_SWC_1",
         "orientation": "v",
         "showlegend": false,
         "type": "scatter",
         "x": [
          "2023-03-09T20:00:00"
         ],
         "xaxis": "x6",
         "y": [
          13.100000381469727
         ],
         "yaxis": "y6"
        },
        {
         "hovertemplate": "jajajaja lak al  alolalla swc=FR-Bil_SWC_1<br>FR-Bil_SWC_2=17.780000686645508<br>TIMESTAMP=%{x}<br>value=%{y}<extra></extra>",
         "legendgroup": "FR-Bil_SWC_1",
         "line": {
          "color": "#636efa",
          "dash": "solid"
         },
         "marker": {
          "symbol": "circle"
         },
         "mode": "lines",
         "name": "FR-Bil_SWC_1",
         "orientation": "v",
         "showlegend": false,
         "type": "scatter",
         "x": [
          "2023-03-09T20:30:00"
         ],
         "xaxis": "x5",
         "y": [
          13.140000343322754
         ],
         "yaxis": "y5"
        },
        {
         "hovertemplate": "jajajaja lak al  alolalla swc=FR-Bil_SWC_1<br>FR-Bil_SWC_2=17.739999771118164<br>TIMESTAMP=%{x}<br>value=%{y}<extra></extra>",
         "legendgroup": "FR-Bil_SWC_1",
         "line": {
          "color": "#636efa",
          "dash": "solid"
         },
         "marker": {
          "symbol": "circle"
         },
         "mode": "lines",
         "name": "FR-Bil_SWC_1",
         "orientation": "v",
         "showlegend": false,
         "type": "scatter",
         "x": [
          "2023-03-09T21:00:00",
          "2023-03-09T22:00:00"
         ],
         "xaxis": "x4",
         "y": [
          13.069999694824219,
          13
         ],
         "yaxis": "y4"
        },
        {
         "hovertemplate": "jajajaja lak al  alolalla swc=FR-Bil_SWC_1<br>FR-Bil_SWC_2=17.760000228881836<br>TIMESTAMP=%{x}<br>value=%{y}<extra></extra>",
         "legendgroup": "FR-Bil_SWC_1",
         "line": {
          "color": "#636efa",
          "dash": "solid"
         },
         "marker": {
          "symbol": "circle"
         },
         "mode": "lines",
         "name": "FR-Bil_SWC_1",
         "orientation": "v",
         "showlegend": false,
         "type": "scatter",
         "x": [
          "2023-03-09T21:30:00"
         ],
         "xaxis": "x3",
         "y": [
          12.949999809265137
         ],
         "yaxis": "y3"
        },
        {
         "hovertemplate": "jajajaja lak al  alolalla swc=FR-Bil_SWC_1<br>FR-Bil_SWC_2=17.719999313354492<br>TIMESTAMP=%{x}<br>value=%{y}<extra></extra>",
         "legendgroup": "FR-Bil_SWC_1",
         "line": {
          "color": "#636efa",
          "dash": "solid"
         },
         "marker": {
          "symbol": "circle"
         },
         "mode": "lines",
         "name": "FR-Bil_SWC_1",
         "orientation": "v",
         "showlegend": false,
         "type": "scatter",
         "x": [
          "2023-03-09T22:30:00",
          "2023-03-09T23:00:00"
         ],
         "xaxis": "x2",
         "y": [
          13.029999732971191,
          13.020000457763672
         ],
         "yaxis": "y2"
        },
        {
         "hovertemplate": "jajajaja lak al  alolalla swc=FR-Bil_SWC_1<br>FR-Bil_SWC_2=17.690000534057617<br>TIMESTAMP=%{x}<br>value=%{y}<extra></extra>",
         "legendgroup": "FR-Bil_SWC_1",
         "line": {
          "color": "#636efa",
          "dash": "solid"
         },
         "marker": {
          "symbol": "circle"
         },
         "mode": "lines",
         "name": "FR-Bil_SWC_1",
         "orientation": "v",
         "showlegend": false,
         "type": "scatter",
         "x": [
          "2023-03-09T23:30:00"
         ],
         "xaxis": "x",
         "y": [
          12.970000267028809
         ],
         "yaxis": "y"
        },
        {
         "hovertemplate": "jajajaja lak al  alolalla swc=FR-Bil_SWC_3<br>FR-Bil_SWC_2=17.34000015258789<br>TIMESTAMP=%{x}<br>value=%{y}<extra></extra>",
         "legendgroup": "FR-Bil_SWC_3",
         "line": {
          "color": "#EF553B",
          "dash": "solid"
         },
         "marker": {
          "symbol": "circle"
         },
         "mode": "lines",
         "name": "FR-Bil_SWC_3",
         "orientation": "v",
         "showlegend": true,
         "type": "scatter",
         "x": [
          "2023-03-08T00:00:00",
          "2023-03-08T02:30:00"
         ],
         "xaxis": "x61",
         "y": [
          10.390000343322754,
          10.319999694824219
         ],
         "yaxis": "y61"
        },
        {
         "hovertemplate": "jajajaja lak al  alolalla swc=FR-Bil_SWC_3<br>FR-Bil_SWC_2=17.350000381469727<br>TIMESTAMP=%{x}<br>value=%{y}<extra></extra>",
         "legendgroup": "FR-Bil_SWC_3",
         "line": {
          "color": "#EF553B",
          "dash": "solid"
         },
         "marker": {
          "symbol": "circle"
         },
         "mode": "lines",
         "name": "FR-Bil_SWC_3",
         "orientation": "v",
         "showlegend": false,
         "type": "scatter",
         "x": [
          "2023-03-08T00:30:00",
          "2023-03-08T14:00:00",
          "2023-03-08T14:30:00",
          "2023-03-08T15:30:00"
         ],
         "xaxis": "x60",
         "y": [
          10.390000343322754,
          10.75,
          10.739999771118164,
          10.75
         ],
         "yaxis": "y60"
        },
        {
         "hovertemplate": "jajajaja lak al  alolalla swc=FR-Bil_SWC_3<br>FR-Bil_SWC_2=17.270000457763672<br>TIMESTAMP=%{x}<br>value=%{y}<extra></extra>",
         "legendgroup": "FR-Bil_SWC_3",
         "line": {
          "color": "#EF553B",
          "dash": "solid"
         },
         "marker": {
          "symbol": "circle"
         },
         "mode": "lines",
         "name": "FR-Bil_SWC_3",
         "orientation": "v",
         "showlegend": false,
         "type": "scatter",
         "x": [
          "2023-03-08T01:00:00"
         ],
         "xaxis": "x59",
         "y": [
          10.390000343322754
         ],
         "yaxis": "y59"
        },
        {
         "hovertemplate": "jajajaja lak al  alolalla swc=FR-Bil_SWC_3<br>FR-Bil_SWC_2=17.239999771118164<br>TIMESTAMP=%{x}<br>value=%{y}<extra></extra>",
         "legendgroup": "FR-Bil_SWC_3",
         "line": {
          "color": "#EF553B",
          "dash": "solid"
         },
         "marker": {
          "symbol": "circle"
         },
         "mode": "lines",
         "name": "FR-Bil_SWC_3",
         "orientation": "v",
         "showlegend": false,
         "type": "scatter",
         "x": [
          "2023-03-08T01:30:00",
          "2023-03-08T05:00:00"
         ],
         "xaxis": "x58",
         "y": [
          10.359999656677246,
          10.300000190734863
         ],
         "yaxis": "y58"
        },
        {
         "hovertemplate": "jajajaja lak al  alolalla swc=FR-Bil_SWC_3<br>FR-Bil_SWC_2=17.290000915527344<br>TIMESTAMP=%{x}<br>value=%{y}<extra></extra>",
         "legendgroup": "FR-Bil_SWC_3",
         "line": {
          "color": "#EF553B",
          "dash": "solid"
         },
         "marker": {
          "symbol": "circle"
         },
         "mode": "lines",
         "name": "FR-Bil_SWC_3",
         "orientation": "v",
         "showlegend": false,
         "type": "scatter",
         "x": [
          "2023-03-08T02:00:00",
          "2023-03-08T06:30:00",
          "2023-03-08T07:00:00",
          "2023-03-08T17:00:00"
         ],
         "xaxis": "x57",
         "y": [
          10.329999923706055,
          10.329999923706055,
          10.359999656677246,
          10.75
         ],
         "yaxis": "y57"
        },
        {
         "hovertemplate": "jajajaja lak al  alolalla swc=FR-Bil_SWC_3<br>FR-Bil_SWC_2=17.329999923706055<br>TIMESTAMP=%{x}<br>value=%{y}<extra></extra>",
         "legendgroup": "FR-Bil_SWC_3",
         "line": {
          "color": "#EF553B",
          "dash": "solid"
         },
         "marker": {
          "symbol": "circle"
         },
         "mode": "lines",
         "name": "FR-Bil_SWC_3",
         "orientation": "v",
         "showlegend": false,
         "type": "scatter",
         "x": [
          "2023-03-08T03:00:00",
          "2023-03-08T10:00:00",
          "2023-03-08T16:30:00",
          "2023-03-08T18:00:00"
         ],
         "xaxis": "x56",
         "y": [
          10.279999732971191,
          10.600000381469727,
          10.75,
          10.720000267028809
         ],
         "yaxis": "y56"
        },
        {
         "hovertemplate": "jajajaja lak al  alolalla swc=FR-Bil_SWC_3<br>FR-Bil_SWC_2=17.25<br>TIMESTAMP=%{x}<br>value=%{y}<extra></extra>",
         "legendgroup": "FR-Bil_SWC_3",
         "line": {
          "color": "#EF553B",
          "dash": "solid"
         },
         "marker": {
          "symbol": "circle"
         },
         "mode": "lines",
         "name": "FR-Bil_SWC_3",
         "orientation": "v",
         "showlegend": false,
         "type": "scatter",
         "x": [
          "2023-03-08T03:30:00"
         ],
         "xaxis": "x55",
         "y": [
          10.270000457763672
         ],
         "yaxis": "y55"
        },
        {
         "hovertemplate": "jajajaja lak al  alolalla swc=FR-Bil_SWC_3<br>FR-Bil_SWC_2=17.209999084472656<br>TIMESTAMP=%{x}<br>value=%{y}<extra></extra>",
         "legendgroup": "FR-Bil_SWC_3",
         "line": {
          "color": "#EF553B",
          "dash": "solid"
         },
         "marker": {
          "symbol": "circle"
         },
         "mode": "lines",
         "name": "FR-Bil_SWC_3",
         "orientation": "v",
         "showlegend": false,
         "type": "scatter",
         "x": [
          "2023-03-08T04:00:00",
          "2023-03-08T04:30:00",
          "2023-03-08T05:30:00"
         ],
         "xaxis": "x54",
         "y": [
          10.270000457763672,
          10.279999732971191,
          10.3100004196167
         ],
         "yaxis": "y54"
        },
        {
         "hovertemplate": "jajajaja lak al  alolalla swc=FR-Bil_SWC_3<br>FR-Bil_SWC_2=17.219999313354492<br>TIMESTAMP=%{x}<br>value=%{y}<extra></extra>",
         "legendgroup": "FR-Bil_SWC_3",
         "line": {
          "color": "#EF553B",
          "dash": "solid"
         },
         "marker": {
          "symbol": "circle"
         },
         "mode": "lines",
         "name": "FR-Bil_SWC_3",
         "orientation": "v",
         "showlegend": false,
         "type": "scatter",
         "x": [
          "2023-03-08T06:00:00"
         ],
         "xaxis": "x53",
         "y": [
          10.319999694824219
         ],
         "yaxis": "y53"
        },
        {
         "hovertemplate": "jajajaja lak al  alolalla swc=FR-Bil_SWC_3<br>FR-Bil_SWC_2=17.31999969482422<br>TIMESTAMP=%{x}<br>value=%{y}<extra></extra>",
         "legendgroup": "FR-Bil_SWC_3",
         "line": {
          "color": "#EF553B",
          "dash": "solid"
         },
         "marker": {
          "symbol": "circle"
         },
         "mode": "lines",
         "name": "FR-Bil_SWC_3",
         "orientation": "v",
         "showlegend": false,
         "type": "scatter",
         "x": [
          "2023-03-08T07:30:00",
          "2023-03-08T08:00:00",
          "2023-03-08T09:00:00",
          "2023-03-08T10:30:00"
         ],
         "xaxis": "x52",
         "y": [
          10.350000381469727,
          10.359999656677246,
          10.479999542236328,
          10.520000457763672
         ],
         "yaxis": "y52"
        },
        {
         "hovertemplate": "jajajaja lak al  alolalla swc=FR-Bil_SWC_3<br>FR-Bil_SWC_2=17.260000228881836<br>TIMESTAMP=%{x}<br>value=%{y}<extra></extra>",
         "legendgroup": "FR-Bil_SWC_3",
         "line": {
          "color": "#EF553B",
          "dash": "solid"
         },
         "marker": {
          "symbol": "circle"
         },
         "mode": "lines",
         "name": "FR-Bil_SWC_3",
         "orientation": "v",
         "showlegend": false,
         "type": "scatter",
         "x": [
          "2023-03-08T08:30:00"
         ],
         "xaxis": "x51",
         "y": [
          10.4399995803833
         ],
         "yaxis": "y51"
        },
        {
         "hovertemplate": "jajajaja lak al  alolalla swc=FR-Bil_SWC_3<br>FR-Bil_SWC_2=17.360000610351562<br>TIMESTAMP=%{x}<br>value=%{y}<extra></extra>",
         "legendgroup": "FR-Bil_SWC_3",
         "line": {
          "color": "#EF553B",
          "dash": "solid"
         },
         "marker": {
          "symbol": "circle"
         },
         "mode": "lines",
         "name": "FR-Bil_SWC_3",
         "orientation": "v",
         "showlegend": false,
         "type": "scatter",
         "x": [
          "2023-03-08T09:30:00",
          "2023-03-08T11:00:00",
          "2023-03-08T13:30:00",
          "2023-03-08T16:00:00"
         ],
         "xaxis": "x50",
         "y": [
          10.470000267028809,
          10.579999923706055,
          10.739999771118164,
          10.75
         ],
         "yaxis": "y50"
        },
        {
         "hovertemplate": "jajajaja lak al  alolalla swc=FR-Bil_SWC_3<br>FR-Bil_SWC_2=17.420000076293945<br>TIMESTAMP=%{x}<br>value=%{y}<extra></extra>",
         "legendgroup": "FR-Bil_SWC_3",
         "line": {
          "color": "#EF553B",
          "dash": "solid"
         },
         "marker": {
          "symbol": "circle"
         },
         "mode": "lines",
         "name": "FR-Bil_SWC_3",
         "orientation": "v",
         "showlegend": false,
         "type": "scatter",
         "x": [
          "2023-03-08T11:30:00"
         ],
         "xaxis": "x49",
         "y": [
          10.770000457763672
         ],
         "yaxis": "y49"
        },
        {
         "hovertemplate": "jajajaja lak al  alolalla swc=FR-Bil_SWC_3<br>FR-Bil_SWC_2=17.450000762939453<br>TIMESTAMP=%{x}<br>value=%{y}<extra></extra>",
         "legendgroup": "FR-Bil_SWC_3",
         "line": {
          "color": "#EF553B",
          "dash": "solid"
         },
         "marker": {
          "symbol": "circle"
         },
         "mode": "lines",
         "name": "FR-Bil_SWC_3",
         "orientation": "v",
         "showlegend": false,
         "type": "scatter",
         "x": [
          "2023-03-08T12:00:00",
          "2023-03-08T12:30:00"
         ],
         "xaxis": "x48",
         "y": [
          10.729999542236328,
          10.699999809265137
         ],
         "yaxis": "y48"
        },
        {
         "hovertemplate": "jajajaja lak al  alolalla swc=FR-Bil_SWC_3<br>FR-Bil_SWC_2=17.399999618530273<br>TIMESTAMP=%{x}<br>value=%{y}<extra></extra>",
         "legendgroup": "FR-Bil_SWC_3",
         "line": {
          "color": "#EF553B",
          "dash": "solid"
         },
         "marker": {
          "symbol": "circle"
         },
         "mode": "lines",
         "name": "FR-Bil_SWC_3",
         "orientation": "v",
         "showlegend": false,
         "type": "scatter",
         "x": [
          "2023-03-08T13:00:00"
         ],
         "xaxis": "x47",
         "y": [
          10.729999542236328
         ],
         "yaxis": "y47"
        },
        {
         "hovertemplate": "jajajaja lak al  alolalla swc=FR-Bil_SWC_3<br>FR-Bil_SWC_2=17.299999237060547<br>TIMESTAMP=%{x}<br>value=%{y}<extra></extra>",
         "legendgroup": "FR-Bil_SWC_3",
         "line": {
          "color": "#EF553B",
          "dash": "solid"
         },
         "marker": {
          "symbol": "circle"
         },
         "mode": "lines",
         "name": "FR-Bil_SWC_3",
         "orientation": "v",
         "showlegend": false,
         "type": "scatter",
         "x": [
          "2023-03-08T15:00:00",
          "2023-03-08T17:30:00"
         ],
         "xaxis": "x46",
         "y": [
          10.760000228881836,
          10.739999771118164
         ],
         "yaxis": "y46"
        },
        {
         "hovertemplate": "jajajaja lak al  alolalla swc=FR-Bil_SWC_3<br>FR-Bil_SWC_2=17.3700008392334<br>TIMESTAMP=%{x}<br>value=%{y}<extra></extra>",
         "legendgroup": "FR-Bil_SWC_3",
         "line": {
          "color": "#EF553B",
          "dash": "solid"
         },
         "marker": {
          "symbol": "circle"
         },
         "mode": "lines",
         "name": "FR-Bil_SWC_3",
         "orientation": "v",
         "showlegend": false,
         "type": "scatter",
         "x": [
          "2023-03-08T18:30:00"
         ],
         "xaxis": "x45",
         "y": [
          10.720000267028809
         ],
         "yaxis": "y45"
        },
        {
         "hovertemplate": "jajajaja lak al  alolalla swc=FR-Bil_SWC_3<br>FR-Bil_SWC_2=17.43000030517578<br>TIMESTAMP=%{x}<br>value=%{y}<extra></extra>",
         "legendgroup": "FR-Bil_SWC_3",
         "line": {
          "color": "#EF553B",
          "dash": "solid"
         },
         "marker": {
          "symbol": "circle"
         },
         "mode": "lines",
         "name": "FR-Bil_SWC_3",
         "orientation": "v",
         "showlegend": false,
         "type": "scatter",
         "x": [
          "2023-03-08T19:00:00"
         ],
         "xaxis": "x44",
         "y": [
          10.720000267028809
         ],
         "yaxis": "y44"
        },
        {
         "hovertemplate": "jajajaja lak al  alolalla swc=FR-Bil_SWC_3<br>FR-Bil_SWC_2=17.600000381469727<br>TIMESTAMP=%{x}<br>value=%{y}<extra></extra>",
         "legendgroup": "FR-Bil_SWC_3",
         "line": {
          "color": "#EF553B",
          "dash": "solid"
         },
         "marker": {
          "symbol": "circle"
         },
         "mode": "lines",
         "name": "FR-Bil_SWC_3",
         "orientation": "v",
         "showlegend": false,
         "type": "scatter",
         "x": [
          "2023-03-08T19:30:00"
         ],
         "xaxis": "x43",
         "y": [
          10.739999771118164
         ],
         "yaxis": "y43"
        },
        {
         "hovertemplate": "jajajaja lak al  alolalla swc=FR-Bil_SWC_3<br>FR-Bil_SWC_2=17.829999923706055<br>TIMESTAMP=%{x}<br>value=%{y}<extra></extra>",
         "legendgroup": "FR-Bil_SWC_3",
         "line": {
          "color": "#EF553B",
          "dash": "solid"
         },
         "marker": {
          "symbol": "circle"
         },
         "mode": "lines",
         "name": "FR-Bil_SWC_3",
         "orientation": "v",
         "showlegend": false,
         "type": "scatter",
         "x": [
          "2023-03-08T20:00:00",
          "2023-03-09T19:30:00"
         ],
         "xaxis": "x42",
         "y": [
          10.890000343322754,
          11.109999656677246
         ],
         "yaxis": "y42"
        },
        {
         "hovertemplate": "jajajaja lak al  alolalla swc=FR-Bil_SWC_3<br>FR-Bil_SWC_2=17.920000076293945<br>TIMESTAMP=%{x}<br>value=%{y}<extra></extra>",
         "legendgroup": "FR-Bil_SWC_3",
         "line": {
          "color": "#EF553B",
          "dash": "solid"
         },
         "marker": {
          "symbol": "circle"
         },
         "mode": "lines",
         "name": "FR-Bil_SWC_3",
         "orientation": "v",
         "showlegend": false,
         "type": "scatter",
         "x": [
          "2023-03-08T20:30:00"
         ],
         "xaxis": "x41",
         "y": [
          11.020000457763672
         ],
         "yaxis": "y41"
        },
        {
         "hovertemplate": "jajajaja lak al  alolalla swc=FR-Bil_SWC_3<br>FR-Bil_SWC_2=18.049999237060547<br>TIMESTAMP=%{x}<br>value=%{y}<extra></extra>",
         "legendgroup": "FR-Bil_SWC_3",
         "line": {
          "color": "#EF553B",
          "dash": "solid"
         },
         "marker": {
          "symbol": "circle"
         },
         "mode": "lines",
         "name": "FR-Bil_SWC_3",
         "orientation": "v",
         "showlegend": false,
         "type": "scatter",
         "x": [
          "2023-03-08T21:00:00",
          "2023-03-09T11:00:00",
          "2023-03-09T11:30:00"
         ],
         "xaxis": "x40",
         "y": [
          11.180000305175781,
          11.460000038146973,
          11.539999961853027
         ],
         "yaxis": "y40"
        },
        {
         "hovertemplate": "jajajaja lak al  alolalla swc=FR-Bil_SWC_3<br>FR-Bil_SWC_2=18.139999389648438<br>TIMESTAMP=%{x}<br>value=%{y}<extra></extra>",
         "legendgroup": "FR-Bil_SWC_3",
         "line": {
          "color": "#EF553B",
          "dash": "solid"
         },
         "marker": {
          "symbol": "circle"
         },
         "mode": "lines",
         "name": "FR-Bil_SWC_3",
         "orientation": "v",
         "showlegend": false,
         "type": "scatter",
         "x": [
          "2023-03-08T21:30:00"
         ],
         "xaxis": "x39",
         "y": [
          11.239999771118164
         ],
         "yaxis": "y39"
        },
        {
         "hovertemplate": "jajajaja lak al  alolalla swc=FR-Bil_SWC_3<br>FR-Bil_SWC_2=18.1299991607666<br>TIMESTAMP=%{x}<br>value=%{y}<extra></extra>",
         "legendgroup": "FR-Bil_SWC_3",
         "line": {
          "color": "#EF553B",
          "dash": "solid"
         },
         "marker": {
          "symbol": "circle"
         },
         "mode": "lines",
         "name": "FR-Bil_SWC_3",
         "orientation": "v",
         "showlegend": false,
         "type": "scatter",
         "x": [
          "2023-03-08T22:00:00",
          "2023-03-09T09:30:00"
         ],
         "xaxis": "x38",
         "y": [
          11.369999885559082,
          11.420000076293945
         ],
         "yaxis": "y38"
        },
        {
         "hovertemplate": "jajajaja lak al  alolalla swc=FR-Bil_SWC_3<br>FR-Bil_SWC_2=18.149999618530273<br>TIMESTAMP=%{x}<br>value=%{y}<extra></extra>",
         "legendgroup": "FR-Bil_SWC_3",
         "line": {
          "color": "#EF553B",
          "dash": "solid"
         },
         "marker": {
          "symbol": "circle"
         },
         "mode": "lines",
         "name": "FR-Bil_SWC_3",
         "orientation": "v",
         "showlegend": false,
         "type": "scatter",
         "x": [
          "2023-03-08T22:30:00"
         ],
         "xaxis": "x37",
         "y": [
          11.470000267028809
         ],
         "yaxis": "y37"
        },
        {
         "hovertemplate": "jajajaja lak al  alolalla swc=FR-Bil_SWC_3<br>FR-Bil_SWC_2=18.190000534057617<br>TIMESTAMP=%{x}<br>value=%{y}<extra></extra>",
         "legendgroup": "FR-Bil_SWC_3",
         "line": {
          "color": "#EF553B",
          "dash": "solid"
         },
         "marker": {
          "symbol": "circle"
         },
         "mode": "lines",
         "name": "FR-Bil_SWC_3",
         "orientation": "v",
         "showlegend": false,
         "type": "scatter",
         "x": [
          "2023-03-08T23:00:00",
          "2023-03-09T00:30:00",
          "2023-03-09T01:00:00"
         ],
         "xaxis": "x36",
         "y": [
          11.470000267028809,
          11.649999618530273,
          11.630000114440918
         ],
         "yaxis": "y36"
        },
        {
         "hovertemplate": "jajajaja lak al  alolalla swc=FR-Bil_SWC_3<br>FR-Bil_SWC_2=18.260000228881836<br>TIMESTAMP=%{x}<br>value=%{y}<extra></extra>",
         "legendgroup": "FR-Bil_SWC_3",
         "line": {
          "color": "#EF553B",
          "dash": "solid"
         },
         "marker": {
          "symbol": "circle"
         },
         "mode": "lines",
         "name": "FR-Bil_SWC_3",
         "orientation": "v",
         "showlegend": false,
         "type": "scatter",
         "x": [
          "2023-03-08T23:30:00"
         ],
         "xaxis": "x35",
         "y": [
          11.449999809265137
         ],
         "yaxis": "y35"
        },
        {
         "hovertemplate": "jajajaja lak al  alolalla swc=FR-Bil_SWC_3<br>FR-Bil_SWC_2=18.229999542236328<br>TIMESTAMP=%{x}<br>value=%{y}<extra></extra>",
         "legendgroup": "FR-Bil_SWC_3",
         "line": {
          "color": "#EF553B",
          "dash": "solid"
         },
         "marker": {
          "symbol": "circle"
         },
         "mode": "lines",
         "name": "FR-Bil_SWC_3",
         "orientation": "v",
         "showlegend": false,
         "type": "scatter",
         "x": [
          "2023-03-09T00:00:00",
          "2023-03-09T05:30:00"
         ],
         "xaxis": "x34",
         "y": [
          11.619999885559082,
          11.630000114440918
         ],
         "yaxis": "y34"
        },
        {
         "hovertemplate": "jajajaja lak al  alolalla swc=FR-Bil_SWC_3<br>FR-Bil_SWC_2=18.170000076293945<br>TIMESTAMP=%{x}<br>value=%{y}<extra></extra>",
         "legendgroup": "FR-Bil_SWC_3",
         "line": {
          "color": "#EF553B",
          "dash": "solid"
         },
         "marker": {
          "symbol": "circle"
         },
         "mode": "lines",
         "name": "FR-Bil_SWC_3",
         "orientation": "v",
         "showlegend": false,
         "type": "scatter",
         "x": [
          "2023-03-09T01:30:00",
          "2023-03-09T08:00:00"
         ],
         "xaxis": "x33",
         "y": [
          11.569999694824219,
          11.520000457763672
         ],
         "yaxis": "y33"
        },
        {
         "hovertemplate": "jajajaja lak al  alolalla swc=FR-Bil_SWC_3<br>FR-Bil_SWC_2=18.15999984741211<br>TIMESTAMP=%{x}<br>value=%{y}<extra></extra>",
         "legendgroup": "FR-Bil_SWC_3",
         "line": {
          "color": "#EF553B",
          "dash": "solid"
         },
         "marker": {
          "symbol": "circle"
         },
         "mode": "lines",
         "name": "FR-Bil_SWC_3",
         "orientation": "v",
         "showlegend": false,
         "type": "scatter",
         "x": [
          "2023-03-09T02:00:00",
          "2023-03-09T02:30:00"
         ],
         "xaxis": "x32",
         "y": [
          11.569999694824219,
          11.59000015258789
         ],
         "yaxis": "y32"
        },
        {
         "hovertemplate": "jajajaja lak al  alolalla swc=FR-Bil_SWC_3<br>FR-Bil_SWC_2=18.18000030517578<br>TIMESTAMP=%{x}<br>value=%{y}<extra></extra>",
         "legendgroup": "FR-Bil_SWC_3",
         "line": {
          "color": "#EF553B",
          "dash": "solid"
         },
         "marker": {
          "symbol": "circle"
         },
         "mode": "lines",
         "name": "FR-Bil_SWC_3",
         "orientation": "v",
         "showlegend": false,
         "type": "scatter",
         "x": [
          "2023-03-09T03:00:00"
         ],
         "xaxis": "x31",
         "y": [
          11.579999923706055
         ],
         "yaxis": "y31"
        },
        {
         "hovertemplate": "jajajaja lak al  alolalla swc=FR-Bil_SWC_3<br>FR-Bil_SWC_2=18.25<br>TIMESTAMP=%{x}<br>value=%{y}<extra></extra>",
         "legendgroup": "FR-Bil_SWC_3",
         "line": {
          "color": "#EF553B",
          "dash": "solid"
         },
         "marker": {
          "symbol": "circle"
         },
         "mode": "lines",
         "name": "FR-Bil_SWC_3",
         "orientation": "v",
         "showlegend": false,
         "type": "scatter",
         "x": [
          "2023-03-09T03:30:00"
         ],
         "xaxis": "x30",
         "y": [
          11.600000381469727
         ],
         "yaxis": "y30"
        },
        {
         "hovertemplate": "jajajaja lak al  alolalla swc=FR-Bil_SWC_3<br>FR-Bil_SWC_2=18.299999237060547<br>TIMESTAMP=%{x}<br>value=%{y}<extra></extra>",
         "legendgroup": "FR-Bil_SWC_3",
         "line": {
          "color": "#EF553B",
          "dash": "solid"
         },
         "marker": {
          "symbol": "circle"
         },
         "mode": "lines",
         "name": "FR-Bil_SWC_3",
         "orientation": "v",
         "showlegend": false,
         "type": "scatter",
         "x": [
          "2023-03-09T04:00:00"
         ],
         "xaxis": "x29",
         "y": [
          11.59000015258789
         ],
         "yaxis": "y29"
        },
        {
         "hovertemplate": "jajajaja lak al  alolalla swc=FR-Bil_SWC_3<br>FR-Bil_SWC_2=18.280000686645508<br>TIMESTAMP=%{x}<br>value=%{y}<extra></extra>",
         "legendgroup": "FR-Bil_SWC_3",
         "line": {
          "color": "#EF553B",
          "dash": "solid"
         },
         "marker": {
          "symbol": "circle"
         },
         "mode": "lines",
         "name": "FR-Bil_SWC_3",
         "orientation": "v",
         "showlegend": false,
         "type": "scatter",
         "x": [
          "2023-03-09T04:30:00"
         ],
         "xaxis": "x28",
         "y": [
          11.619999885559082
         ],
         "yaxis": "y28"
        },
        {
         "hovertemplate": "jajajaja lak al  alolalla swc=FR-Bil_SWC_3<br>FR-Bil_SWC_2=18.239999771118164<br>TIMESTAMP=%{x}<br>value=%{y}<extra></extra>",
         "legendgroup": "FR-Bil_SWC_3",
         "line": {
          "color": "#EF553B",
          "dash": "solid"
         },
         "marker": {
          "symbol": "circle"
         },
         "mode": "lines",
         "name": "FR-Bil_SWC_3",
         "orientation": "v",
         "showlegend": false,
         "type": "scatter",
         "x": [
          "2023-03-09T05:00:00"
         ],
         "xaxis": "x27",
         "y": [
          11.630000114440918
         ],
         "yaxis": "y27"
        },
        {
         "hovertemplate": "jajajaja lak al  alolalla swc=FR-Bil_SWC_3<br>FR-Bil_SWC_2=18.219999313354492<br>TIMESTAMP=%{x}<br>value=%{y}<extra></extra>",
         "legendgroup": "FR-Bil_SWC_3",
         "line": {
          "color": "#EF553B",
          "dash": "solid"
         },
         "marker": {
          "symbol": "circle"
         },
         "mode": "lines",
         "name": "FR-Bil_SWC_3",
         "orientation": "v",
         "showlegend": false,
         "type": "scatter",
         "x": [
          "2023-03-09T06:00:00"
         ],
         "xaxis": "x26",
         "y": [
          11.59000015258789
         ],
         "yaxis": "y26"
        },
        {
         "hovertemplate": "jajajaja lak al  alolalla swc=FR-Bil_SWC_3<br>FR-Bil_SWC_2=18.200000762939453<br>TIMESTAMP=%{x}<br>value=%{y}<extra></extra>",
         "legendgroup": "FR-Bil_SWC_3",
         "line": {
          "color": "#EF553B",
          "dash": "solid"
         },
         "marker": {
          "symbol": "circle"
         },
         "mode": "lines",
         "name": "FR-Bil_SWC_3",
         "orientation": "v",
         "showlegend": false,
         "type": "scatter",
         "x": [
          "2023-03-09T06:30:00"
         ],
         "xaxis": "x25",
         "y": [
          11.520000457763672
         ],
         "yaxis": "y25"
        },
        {
         "hovertemplate": "jajajaja lak al  alolalla swc=FR-Bil_SWC_3<br>FR-Bil_SWC_2=18.209999084472656<br>TIMESTAMP=%{x}<br>value=%{y}<extra></extra>",
         "legendgroup": "FR-Bil_SWC_3",
         "line": {
          "color": "#EF553B",
          "dash": "solid"
         },
         "marker": {
          "symbol": "circle"
         },
         "mode": "lines",
         "name": "FR-Bil_SWC_3",
         "orientation": "v",
         "showlegend": false,
         "type": "scatter",
         "x": [
          "2023-03-09T07:00:00",
          "2023-03-09T07:30:00"
         ],
         "xaxis": "x24",
         "y": [
          11.520000457763672,
          11.539999961853027
         ],
         "yaxis": "y24"
        },
        {
         "hovertemplate": "jajajaja lak al  alolalla swc=FR-Bil_SWC_3<br>FR-Bil_SWC_2=18.1200008392334<br>TIMESTAMP=%{x}<br>value=%{y}<extra></extra>",
         "legendgroup": "FR-Bil_SWC_3",
         "line": {
          "color": "#EF553B",
          "dash": "solid"
         },
         "marker": {
          "symbol": "circle"
         },
         "mode": "lines",
         "name": "FR-Bil_SWC_3",
         "orientation": "v",
         "showlegend": false,
         "type": "scatter",
         "x": [
          "2023-03-09T08:30:00"
         ],
         "xaxis": "x23",
         "y": [
          11.510000228881836
         ],
         "yaxis": "y23"
        },
        {
         "hovertemplate": "jajajaja lak al  alolalla swc=FR-Bil_SWC_3<br>FR-Bil_SWC_2=18.110000610351562<br>TIMESTAMP=%{x}<br>value=%{y}<extra></extra>",
         "legendgroup": "FR-Bil_SWC_3",
         "line": {
          "color": "#EF553B",
          "dash": "solid"
         },
         "marker": {
          "symbol": "circle"
         },
         "mode": "lines",
         "name": "FR-Bil_SWC_3",
         "orientation": "v",
         "showlegend": false,
         "type": "scatter",
         "x": [
          "2023-03-09T09:00:00"
         ],
         "xaxis": "x22",
         "y": [
          11.4399995803833
         ],
         "yaxis": "y22"
        },
        {
         "hovertemplate": "jajajaja lak al  alolalla swc=FR-Bil_SWC_3<br>FR-Bil_SWC_2=18.100000381469727<br>TIMESTAMP=%{x}<br>value=%{y}<extra></extra>",
         "legendgroup": "FR-Bil_SWC_3",
         "line": {
          "color": "#EF553B",
          "dash": "solid"
         },
         "marker": {
          "symbol": "circle"
         },
         "mode": "lines",
         "name": "FR-Bil_SWC_3",
         "orientation": "v",
         "showlegend": false,
         "type": "scatter",
         "x": [
          "2023-03-09T10:00:00"
         ],
         "xaxis": "x21",
         "y": [
          11.430000305175781
         ],
         "yaxis": "y21"
        },
        {
         "hovertemplate": "jajajaja lak al  alolalla swc=FR-Bil_SWC_3<br>FR-Bil_SWC_2=18.06999969482422<br>TIMESTAMP=%{x}<br>value=%{y}<extra></extra>",
         "legendgroup": "FR-Bil_SWC_3",
         "line": {
          "color": "#EF553B",
          "dash": "solid"
         },
         "marker": {
          "symbol": "circle"
         },
         "mode": "lines",
         "name": "FR-Bil_SWC_3",
         "orientation": "v",
         "showlegend": false,
         "type": "scatter",
         "x": [
          "2023-03-09T10:30:00"
         ],
         "xaxis": "x20",
         "y": [
          11.34000015258789
         ],
         "yaxis": "y20"
        },
        {
         "hovertemplate": "jajajaja lak al  alolalla swc=FR-Bil_SWC_3<br>FR-Bil_SWC_2=18.040000915527344<br>TIMESTAMP=%{x}<br>value=%{y}<extra></extra>",
         "legendgroup": "FR-Bil_SWC_3",
         "line": {
          "color": "#EF553B",
          "dash": "solid"
         },
         "marker": {
          "symbol": "circle"
         },
         "mode": "lines",
         "name": "FR-Bil_SWC_3",
         "orientation": "v",
         "showlegend": false,
         "type": "scatter",
         "x": [
          "2023-03-09T12:00:00"
         ],
         "xaxis": "x19",
         "y": [
          11.3100004196167
         ],
         "yaxis": "y19"
        },
        {
         "hovertemplate": "jajajaja lak al  alolalla swc=FR-Bil_SWC_3<br>FR-Bil_SWC_2=17.959999084472656<br>TIMESTAMP=%{x}<br>value=%{y}<extra></extra>",
         "legendgroup": "FR-Bil_SWC_3",
         "line": {
          "color": "#EF553B",
          "dash": "solid"
         },
         "marker": {
          "symbol": "circle"
         },
         "mode": "lines",
         "name": "FR-Bil_SWC_3",
         "orientation": "v",
         "showlegend": false,
         "type": "scatter",
         "x": [
          "2023-03-09T12:30:00"
         ],
         "xaxis": "x18",
         "y": [
          11.270000457763672
         ],
         "yaxis": "y18"
        },
        {
         "hovertemplate": "jajajaja lak al  alolalla swc=FR-Bil_SWC_3<br>FR-Bil_SWC_2=17.979999542236328<br>TIMESTAMP=%{x}<br>value=%{y}<extra></extra>",
         "legendgroup": "FR-Bil_SWC_3",
         "line": {
          "color": "#EF553B",
          "dash": "solid"
         },
         "marker": {
          "symbol": "circle"
         },
         "mode": "lines",
         "name": "FR-Bil_SWC_3",
         "orientation": "v",
         "showlegend": false,
         "type": "scatter",
         "x": [
          "2023-03-09T13:00:00"
         ],
         "xaxis": "x17",
         "y": [
          11.40999984741211
         ],
         "yaxis": "y17"
        },
        {
         "hovertemplate": "jajajaja lak al  alolalla swc=FR-Bil_SWC_3<br>FR-Bil_SWC_2=17.950000762939453<br>TIMESTAMP=%{x}<br>value=%{y}<extra></extra>",
         "legendgroup": "FR-Bil_SWC_3",
         "line": {
          "color": "#EF553B",
          "dash": "solid"
         },
         "marker": {
          "symbol": "circle"
         },
         "mode": "lines",
         "name": "FR-Bil_SWC_3",
         "orientation": "v",
         "showlegend": false,
         "type": "scatter",
         "x": [
          "2023-03-09T13:30:00"
         ],
         "xaxis": "x16",
         "y": [
          11.34000015258789
         ],
         "yaxis": "y16"
        },
        {
         "hovertemplate": "jajajaja lak al  alolalla swc=FR-Bil_SWC_3<br>FR-Bil_SWC_2=18.0<br>TIMESTAMP=%{x}<br>value=%{y}<extra></extra>",
         "legendgroup": "FR-Bil_SWC_3",
         "line": {
          "color": "#EF553B",
          "dash": "solid"
         },
         "marker": {
          "symbol": "circle"
         },
         "mode": "lines",
         "name": "FR-Bil_SWC_3",
         "orientation": "v",
         "showlegend": false,
         "type": "scatter",
         "x": [
          "2023-03-09T14:00:00"
         ],
         "xaxis": "x15",
         "y": [
          11.210000038146973
         ],
         "yaxis": "y15"
        },
        {
         "hovertemplate": "jajajaja lak al  alolalla swc=FR-Bil_SWC_3<br>FR-Bil_SWC_2=17.8799991607666<br>TIMESTAMP=%{x}<br>value=%{y}<extra></extra>",
         "legendgroup": "FR-Bil_SWC_3",
         "line": {
          "color": "#EF553B",
          "dash": "solid"
         },
         "marker": {
          "symbol": "circle"
         },
         "mode": "lines",
         "name": "FR-Bil_SWC_3",
         "orientation": "v",
         "showlegend": false,
         "type": "scatter",
         "x": [
          "2023-03-09T14:30:00"
         ],
         "xaxis": "x14",
         "y": [
          11.350000381469727
         ],
         "yaxis": "y14"
        },
        {
         "hovertemplate": "jajajaja lak al  alolalla swc=FR-Bil_SWC_3<br>FR-Bil_SWC_2=17.860000610351562<br>TIMESTAMP=%{x}<br>value=%{y}<extra></extra>",
         "legendgroup": "FR-Bil_SWC_3",
         "line": {
          "color": "#EF553B",
          "dash": "solid"
         },
         "marker": {
          "symbol": "circle"
         },
         "mode": "lines",
         "name": "FR-Bil_SWC_3",
         "orientation": "v",
         "showlegend": false,
         "type": "scatter",
         "x": [
          "2023-03-09T15:00:00",
          "2023-03-09T17:30:00",
          "2023-03-09T19:00:00"
         ],
         "xaxis": "x13",
         "y": [
          11.319999694824219,
          11.239999771118164,
          11.100000381469727
         ],
         "yaxis": "y13"
        },
        {
         "hovertemplate": "jajajaja lak al  alolalla swc=FR-Bil_SWC_3<br>FR-Bil_SWC_2=17.84000015258789<br>TIMESTAMP=%{x}<br>value=%{y}<extra></extra>",
         "legendgroup": "FR-Bil_SWC_3",
         "line": {
          "color": "#EF553B",
          "dash": "solid"
         },
         "marker": {
          "symbol": "circle"
         },
         "mode": "lines",
         "name": "FR-Bil_SWC_3",
         "orientation": "v",
         "showlegend": false,
         "type": "scatter",
         "x": [
          "2023-03-09T15:30:00"
         ],
         "xaxis": "x12",
         "y": [
          11.149999618530273
         ],
         "yaxis": "y12"
        },
        {
         "hovertemplate": "jajajaja lak al  alolalla swc=FR-Bil_SWC_3<br>FR-Bil_SWC_2=17.790000915527344<br>TIMESTAMP=%{x}<br>value=%{y}<extra></extra>",
         "legendgroup": "FR-Bil_SWC_3",
         "line": {
          "color": "#EF553B",
          "dash": "solid"
         },
         "marker": {
          "symbol": "circle"
         },
         "mode": "lines",
         "name": "FR-Bil_SWC_3",
         "orientation": "v",
         "showlegend": false,
         "type": "scatter",
         "x": [
          "2023-03-09T16:00:00"
         ],
         "xaxis": "x11",
         "y": [
          11.119999885559082
         ],
         "yaxis": "y11"
        },
        {
         "hovertemplate": "jajajaja lak al  alolalla swc=FR-Bil_SWC_3<br>FR-Bil_SWC_2=17.770000457763672<br>TIMESTAMP=%{x}<br>value=%{y}<extra></extra>",
         "legendgroup": "FR-Bil_SWC_3",
         "line": {
          "color": "#EF553B",
          "dash": "solid"
         },
         "marker": {
          "symbol": "circle"
         },
         "mode": "lines",
         "name": "FR-Bil_SWC_3",
         "orientation": "v",
         "showlegend": false,
         "type": "scatter",
         "x": [
          "2023-03-09T16:30:00"
         ],
         "xaxis": "x10",
         "y": [
          11.1899995803833
         ],
         "yaxis": "y10"
        },
        {
         "hovertemplate": "jajajaja lak al  alolalla swc=FR-Bil_SWC_3<br>FR-Bil_SWC_2=17.799999237060547<br>TIMESTAMP=%{x}<br>value=%{y}<extra></extra>",
         "legendgroup": "FR-Bil_SWC_3",
         "line": {
          "color": "#EF553B",
          "dash": "solid"
         },
         "marker": {
          "symbol": "circle"
         },
         "mode": "lines",
         "name": "FR-Bil_SWC_3",
         "orientation": "v",
         "showlegend": false,
         "type": "scatter",
         "x": [
          "2023-03-09T17:00:00"
         ],
         "xaxis": "x9",
         "y": [
          11.239999771118164
         ],
         "yaxis": "y9"
        },
        {
         "hovertemplate": "jajajaja lak al  alolalla swc=FR-Bil_SWC_3<br>FR-Bil_SWC_2=17.899999618530273<br>TIMESTAMP=%{x}<br>value=%{y}<extra></extra>",
         "legendgroup": "FR-Bil_SWC_3",
         "line": {
          "color": "#EF553B",
          "dash": "solid"
         },
         "marker": {
          "symbol": "circle"
         },
         "mode": "lines",
         "name": "FR-Bil_SWC_3",
         "orientation": "v",
         "showlegend": false,
         "type": "scatter",
         "x": [
          "2023-03-09T18:00:00"
         ],
         "xaxis": "x8",
         "y": [
          11.180000305175781
         ],
         "yaxis": "y8"
        },
        {
         "hovertemplate": "jajajaja lak al  alolalla swc=FR-Bil_SWC_3<br>FR-Bil_SWC_2=17.889999389648438<br>TIMESTAMP=%{x}<br>value=%{y}<extra></extra>",
         "legendgroup": "FR-Bil_SWC_3",
         "line": {
          "color": "#EF553B",
          "dash": "solid"
         },
         "marker": {
          "symbol": "circle"
         },
         "mode": "lines",
         "name": "FR-Bil_SWC_3",
         "orientation": "v",
         "showlegend": false,
         "type": "scatter",
         "x": [
          "2023-03-09T18:30:00"
         ],
         "xaxis": "x7",
         "y": [
          11.09000015258789
         ],
         "yaxis": "y7"
        },
        {
         "hovertemplate": "jajajaja lak al  alolalla swc=FR-Bil_SWC_3<br>FR-Bil_SWC_2=17.81999969482422<br>TIMESTAMP=%{x}<br>value=%{y}<extra></extra>",
         "legendgroup": "FR-Bil_SWC_3",
         "line": {
          "color": "#EF553B",
          "dash": "solid"
         },
         "marker": {
          "symbol": "circle"
         },
         "mode": "lines",
         "name": "FR-Bil_SWC_3",
         "orientation": "v",
         "showlegend": false,
         "type": "scatter",
         "x": [
          "2023-03-09T20:00:00"
         ],
         "xaxis": "x6",
         "y": [
          11.140000343322754
         ],
         "yaxis": "y6"
        },
        {
         "hovertemplate": "jajajaja lak al  alolalla swc=FR-Bil_SWC_3<br>FR-Bil_SWC_2=17.780000686645508<br>TIMESTAMP=%{x}<br>value=%{y}<extra></extra>",
         "legendgroup": "FR-Bil_SWC_3",
         "line": {
          "color": "#EF553B",
          "dash": "solid"
         },
         "marker": {
          "symbol": "circle"
         },
         "mode": "lines",
         "name": "FR-Bil_SWC_3",
         "orientation": "v",
         "showlegend": false,
         "type": "scatter",
         "x": [
          "2023-03-09T20:30:00"
         ],
         "xaxis": "x5",
         "y": [
          11.100000381469727
         ],
         "yaxis": "y5"
        },
        {
         "hovertemplate": "jajajaja lak al  alolalla swc=FR-Bil_SWC_3<br>FR-Bil_SWC_2=17.739999771118164<br>TIMESTAMP=%{x}<br>value=%{y}<extra></extra>",
         "legendgroup": "FR-Bil_SWC_3",
         "line": {
          "color": "#EF553B",
          "dash": "solid"
         },
         "marker": {
          "symbol": "circle"
         },
         "mode": "lines",
         "name": "FR-Bil_SWC_3",
         "orientation": "v",
         "showlegend": false,
         "type": "scatter",
         "x": [
          "2023-03-09T21:00:00",
          "2023-03-09T22:00:00"
         ],
         "xaxis": "x4",
         "y": [
          11.09000015258789,
          11.020000457763672
         ],
         "yaxis": "y4"
        },
        {
         "hovertemplate": "jajajaja lak al  alolalla swc=FR-Bil_SWC_3<br>FR-Bil_SWC_2=17.760000228881836<br>TIMESTAMP=%{x}<br>value=%{y}<extra></extra>",
         "legendgroup": "FR-Bil_SWC_3",
         "line": {
          "color": "#EF553B",
          "dash": "solid"
         },
         "marker": {
          "symbol": "circle"
         },
         "mode": "lines",
         "name": "FR-Bil_SWC_3",
         "orientation": "v",
         "showlegend": false,
         "type": "scatter",
         "x": [
          "2023-03-09T21:30:00"
         ],
         "xaxis": "x3",
         "y": [
          11.050000190734863
         ],
         "yaxis": "y3"
        },
        {
         "hovertemplate": "jajajaja lak al  alolalla swc=FR-Bil_SWC_3<br>FR-Bil_SWC_2=17.719999313354492<br>TIMESTAMP=%{x}<br>value=%{y}<extra></extra>",
         "legendgroup": "FR-Bil_SWC_3",
         "line": {
          "color": "#EF553B",
          "dash": "solid"
         },
         "marker": {
          "symbol": "circle"
         },
         "mode": "lines",
         "name": "FR-Bil_SWC_3",
         "orientation": "v",
         "showlegend": false,
         "type": "scatter",
         "x": [
          "2023-03-09T22:30:00",
          "2023-03-09T23:00:00"
         ],
         "xaxis": "x2",
         "y": [
          10.960000038146973,
          10.960000038146973
         ],
         "yaxis": "y2"
        },
        {
         "hovertemplate": "jajajaja lak al  alolalla swc=FR-Bil_SWC_3<br>FR-Bil_SWC_2=17.690000534057617<br>TIMESTAMP=%{x}<br>value=%{y}<extra></extra>",
         "legendgroup": "FR-Bil_SWC_3",
         "line": {
          "color": "#EF553B",
          "dash": "solid"
         },
         "marker": {
          "symbol": "circle"
         },
         "mode": "lines",
         "name": "FR-Bil_SWC_3",
         "orientation": "v",
         "showlegend": false,
         "type": "scatter",
         "x": [
          "2023-03-09T23:30:00"
         ],
         "xaxis": "x",
         "y": [
          10.970000267028809
         ],
         "yaxis": "y"
        },
        {
         "hovertemplate": "jajajaja lak al  alolalla swc=FR-Bil_SWC_4<br>FR-Bil_SWC_2=17.34000015258789<br>TIMESTAMP=%{x}<br>value=%{y}<extra></extra>",
         "legendgroup": "FR-Bil_SWC_4",
         "line": {
          "color": "#00cc96",
          "dash": "solid"
         },
         "marker": {
          "symbol": "circle"
         },
         "mode": "lines",
         "name": "FR-Bil_SWC_4",
         "orientation": "v",
         "showlegend": true,
         "type": "scatter",
         "x": [
          "2023-03-08T00:00:00",
          "2023-03-08T02:30:00"
         ],
         "xaxis": "x61",
         "y": [
          17.3799991607666,
          17.600000381469727
         ],
         "yaxis": "y61"
        },
        {
         "hovertemplate": "jajajaja lak al  alolalla swc=FR-Bil_SWC_4<br>FR-Bil_SWC_2=17.350000381469727<br>TIMESTAMP=%{x}<br>value=%{y}<extra></extra>",
         "legendgroup": "FR-Bil_SWC_4",
         "line": {
          "color": "#00cc96",
          "dash": "solid"
         },
         "marker": {
          "symbol": "circle"
         },
         "mode": "lines",
         "name": "FR-Bil_SWC_4",
         "orientation": "v",
         "showlegend": false,
         "type": "scatter",
         "x": [
          "2023-03-08T00:30:00",
          "2023-03-08T14:00:00",
          "2023-03-08T14:30:00",
          "2023-03-08T15:30:00"
         ],
         "xaxis": "x60",
         "y": [
          17.530000686645508,
          17.799999237060547,
          17.799999237060547,
          17.950000762939453
         ],
         "yaxis": "y60"
        },
        {
         "hovertemplate": "jajajaja lak al  alolalla swc=FR-Bil_SWC_4<br>FR-Bil_SWC_2=17.270000457763672<br>TIMESTAMP=%{x}<br>value=%{y}<extra></extra>",
         "legendgroup": "FR-Bil_SWC_4",
         "line": {
          "color": "#00cc96",
          "dash": "solid"
         },
         "marker": {
          "symbol": "circle"
         },
         "mode": "lines",
         "name": "FR-Bil_SWC_4",
         "orientation": "v",
         "showlegend": false,
         "type": "scatter",
         "x": [
          "2023-03-08T01:00:00"
         ],
         "xaxis": "x59",
         "y": [
          17.6299991607666
         ],
         "yaxis": "y59"
        },
        {
         "hovertemplate": "jajajaja lak al  alolalla swc=FR-Bil_SWC_4<br>FR-Bil_SWC_2=17.239999771118164<br>TIMESTAMP=%{x}<br>value=%{y}<extra></extra>",
         "legendgroup": "FR-Bil_SWC_4",
         "line": {
          "color": "#00cc96",
          "dash": "solid"
         },
         "marker": {
          "symbol": "circle"
         },
         "mode": "lines",
         "name": "FR-Bil_SWC_4",
         "orientation": "v",
         "showlegend": false,
         "type": "scatter",
         "x": [
          "2023-03-08T01:30:00",
          "2023-03-08T05:00:00"
         ],
         "xaxis": "x58",
         "y": [
          17.6299991607666,
          17.649999618530273
         ],
         "yaxis": "y58"
        },
        {
         "hovertemplate": "jajajaja lak al  alolalla swc=FR-Bil_SWC_4<br>FR-Bil_SWC_2=17.290000915527344<br>TIMESTAMP=%{x}<br>value=%{y}<extra></extra>",
         "legendgroup": "FR-Bil_SWC_4",
         "line": {
          "color": "#00cc96",
          "dash": "solid"
         },
         "marker": {
          "symbol": "circle"
         },
         "mode": "lines",
         "name": "FR-Bil_SWC_4",
         "orientation": "v",
         "showlegend": false,
         "type": "scatter",
         "x": [
          "2023-03-08T02:00:00",
          "2023-03-08T06:30:00",
          "2023-03-08T07:00:00",
          "2023-03-08T17:00:00"
         ],
         "xaxis": "x57",
         "y": [
          17.610000610351562,
          17.649999618530273,
          17.649999618530273,
          17.899999618530273
         ],
         "yaxis": "y57"
        },
        {
         "hovertemplate": "jajajaja lak al  alolalla swc=FR-Bil_SWC_4<br>FR-Bil_SWC_2=17.329999923706055<br>TIMESTAMP=%{x}<br>value=%{y}<extra></extra>",
         "legendgroup": "FR-Bil_SWC_4",
         "line": {
          "color": "#00cc96",
          "dash": "solid"
         },
         "marker": {
          "symbol": "circle"
         },
         "mode": "lines",
         "name": "FR-Bil_SWC_4",
         "orientation": "v",
         "showlegend": false,
         "type": "scatter",
         "x": [
          "2023-03-08T03:00:00",
          "2023-03-08T10:00:00",
          "2023-03-08T16:30:00",
          "2023-03-08T18:00:00"
         ],
         "xaxis": "x56",
         "y": [
          17.6200008392334,
          17.75,
          17.90999984741211,
          18
         ],
         "yaxis": "y56"
        },
        {
         "hovertemplate": "jajajaja lak al  alolalla swc=FR-Bil_SWC_4<br>FR-Bil_SWC_2=17.25<br>TIMESTAMP=%{x}<br>value=%{y}<extra></extra>",
         "legendgroup": "FR-Bil_SWC_4",
         "line": {
          "color": "#00cc96",
          "dash": "solid"
         },
         "marker": {
          "symbol": "circle"
         },
         "mode": "lines",
         "name": "FR-Bil_SWC_4",
         "orientation": "v",
         "showlegend": false,
         "type": "scatter",
         "x": [
          "2023-03-08T03:30:00"
         ],
         "xaxis": "x55",
         "y": [
          17.639999389648438
         ],
         "yaxis": "y55"
        },
        {
         "hovertemplate": "jajajaja lak al  alolalla swc=FR-Bil_SWC_4<br>FR-Bil_SWC_2=17.209999084472656<br>TIMESTAMP=%{x}<br>value=%{y}<extra></extra>",
         "legendgroup": "FR-Bil_SWC_4",
         "line": {
          "color": "#00cc96",
          "dash": "solid"
         },
         "marker": {
          "symbol": "circle"
         },
         "mode": "lines",
         "name": "FR-Bil_SWC_4",
         "orientation": "v",
         "showlegend": false,
         "type": "scatter",
         "x": [
          "2023-03-08T04:00:00",
          "2023-03-08T04:30:00",
          "2023-03-08T05:30:00"
         ],
         "xaxis": "x54",
         "y": [
          17.68000030517578,
          17.709999084472656,
          17.649999618530273
         ],
         "yaxis": "y54"
        },
        {
         "hovertemplate": "jajajaja lak al  alolalla swc=FR-Bil_SWC_4<br>FR-Bil_SWC_2=17.219999313354492<br>TIMESTAMP=%{x}<br>value=%{y}<extra></extra>",
         "legendgroup": "FR-Bil_SWC_4",
         "line": {
          "color": "#00cc96",
          "dash": "solid"
         },
         "marker": {
          "symbol": "circle"
         },
         "mode": "lines",
         "name": "FR-Bil_SWC_4",
         "orientation": "v",
         "showlegend": false,
         "type": "scatter",
         "x": [
          "2023-03-08T06:00:00"
         ],
         "xaxis": "x53",
         "y": [
          17.639999389648438
         ],
         "yaxis": "y53"
        },
        {
         "hovertemplate": "jajajaja lak al  alolalla swc=FR-Bil_SWC_4<br>FR-Bil_SWC_2=17.31999969482422<br>TIMESTAMP=%{x}<br>value=%{y}<extra></extra>",
         "legendgroup": "FR-Bil_SWC_4",
         "line": {
          "color": "#00cc96",
          "dash": "solid"
         },
         "marker": {
          "symbol": "circle"
         },
         "mode": "lines",
         "name": "FR-Bil_SWC_4",
         "orientation": "v",
         "showlegend": false,
         "type": "scatter",
         "x": [
          "2023-03-08T07:30:00",
          "2023-03-08T08:00:00",
          "2023-03-08T09:00:00",
          "2023-03-08T10:30:00"
         ],
         "xaxis": "x52",
         "y": [
          17.75,
          17.75,
          17.75,
          17.81999969482422
         ],
         "yaxis": "y52"
        },
        {
         "hovertemplate": "jajajaja lak al  alolalla swc=FR-Bil_SWC_4<br>FR-Bil_SWC_2=17.260000228881836<br>TIMESTAMP=%{x}<br>value=%{y}<extra></extra>",
         "legendgroup": "FR-Bil_SWC_4",
         "line": {
          "color": "#00cc96",
          "dash": "solid"
         },
         "marker": {
          "symbol": "circle"
         },
         "mode": "lines",
         "name": "FR-Bil_SWC_4",
         "orientation": "v",
         "showlegend": false,
         "type": "scatter",
         "x": [
          "2023-03-08T08:30:00"
         ],
         "xaxis": "x51",
         "y": [
          17.75
         ],
         "yaxis": "y51"
        },
        {
         "hovertemplate": "jajajaja lak al  alolalla swc=FR-Bil_SWC_4<br>FR-Bil_SWC_2=17.360000610351562<br>TIMESTAMP=%{x}<br>value=%{y}<extra></extra>",
         "legendgroup": "FR-Bil_SWC_4",
         "line": {
          "color": "#00cc96",
          "dash": "solid"
         },
         "marker": {
          "symbol": "circle"
         },
         "mode": "lines",
         "name": "FR-Bil_SWC_4",
         "orientation": "v",
         "showlegend": false,
         "type": "scatter",
         "x": [
          "2023-03-08T09:30:00",
          "2023-03-08T11:00:00",
          "2023-03-08T13:30:00",
          "2023-03-08T16:00:00"
         ],
         "xaxis": "x50",
         "y": [
          17.68000030517578,
          17.809999465942383,
          17.81999969482422,
          17.969999313354492
         ],
         "yaxis": "y50"
        },
        {
         "hovertemplate": "jajajaja lak al  alolalla swc=FR-Bil_SWC_4<br>FR-Bil_SWC_2=17.420000076293945<br>TIMESTAMP=%{x}<br>value=%{y}<extra></extra>",
         "legendgroup": "FR-Bil_SWC_4",
         "line": {
          "color": "#00cc96",
          "dash": "solid"
         },
         "marker": {
          "symbol": "circle"
         },
         "mode": "lines",
         "name": "FR-Bil_SWC_4",
         "orientation": "v",
         "showlegend": false,
         "type": "scatter",
         "x": [
          "2023-03-08T11:30:00"
         ],
         "xaxis": "x49",
         "y": [
          17.84000015258789
         ],
         "yaxis": "y49"
        },
        {
         "hovertemplate": "jajajaja lak al  alolalla swc=FR-Bil_SWC_4<br>FR-Bil_SWC_2=17.450000762939453<br>TIMESTAMP=%{x}<br>value=%{y}<extra></extra>",
         "legendgroup": "FR-Bil_SWC_4",
         "line": {
          "color": "#00cc96",
          "dash": "solid"
         },
         "marker": {
          "symbol": "circle"
         },
         "mode": "lines",
         "name": "FR-Bil_SWC_4",
         "orientation": "v",
         "showlegend": false,
         "type": "scatter",
         "x": [
          "2023-03-08T12:00:00",
          "2023-03-08T12:30:00"
         ],
         "xaxis": "x48",
         "y": [
          17.959999084472656,
          17.969999313354492
         ],
         "yaxis": "y48"
        },
        {
         "hovertemplate": "jajajaja lak al  alolalla swc=FR-Bil_SWC_4<br>FR-Bil_SWC_2=17.399999618530273<br>TIMESTAMP=%{x}<br>value=%{y}<extra></extra>",
         "legendgroup": "FR-Bil_SWC_4",
         "line": {
          "color": "#00cc96",
          "dash": "solid"
         },
         "marker": {
          "symbol": "circle"
         },
         "mode": "lines",
         "name": "FR-Bil_SWC_4",
         "orientation": "v",
         "showlegend": false,
         "type": "scatter",
         "x": [
          "2023-03-08T13:00:00"
         ],
         "xaxis": "x47",
         "y": [
          17.920000076293945
         ],
         "yaxis": "y47"
        },
        {
         "hovertemplate": "jajajaja lak al  alolalla swc=FR-Bil_SWC_4<br>FR-Bil_SWC_2=17.299999237060547<br>TIMESTAMP=%{x}<br>value=%{y}<extra></extra>",
         "legendgroup": "FR-Bil_SWC_4",
         "line": {
          "color": "#00cc96",
          "dash": "solid"
         },
         "marker": {
          "symbol": "circle"
         },
         "mode": "lines",
         "name": "FR-Bil_SWC_4",
         "orientation": "v",
         "showlegend": false,
         "type": "scatter",
         "x": [
          "2023-03-08T15:00:00",
          "2023-03-08T17:30:00"
         ],
         "xaxis": "x46",
         "y": [
          17.850000381469727,
          17.959999084472656
         ],
         "yaxis": "y46"
        },
        {
         "hovertemplate": "jajajaja lak al  alolalla swc=FR-Bil_SWC_4<br>FR-Bil_SWC_2=17.3700008392334<br>TIMESTAMP=%{x}<br>value=%{y}<extra></extra>",
         "legendgroup": "FR-Bil_SWC_4",
         "line": {
          "color": "#00cc96",
          "dash": "solid"
         },
         "marker": {
          "symbol": "circle"
         },
         "mode": "lines",
         "name": "FR-Bil_SWC_4",
         "orientation": "v",
         "showlegend": false,
         "type": "scatter",
         "x": [
          "2023-03-08T18:30:00"
         ],
         "xaxis": "x45",
         "y": [
          18.09000015258789
         ],
         "yaxis": "y45"
        },
        {
         "hovertemplate": "jajajaja lak al  alolalla swc=FR-Bil_SWC_4<br>FR-Bil_SWC_2=17.43000030517578<br>TIMESTAMP=%{x}<br>value=%{y}<extra></extra>",
         "legendgroup": "FR-Bil_SWC_4",
         "line": {
          "color": "#00cc96",
          "dash": "solid"
         },
         "marker": {
          "symbol": "circle"
         },
         "mode": "lines",
         "name": "FR-Bil_SWC_4",
         "orientation": "v",
         "showlegend": false,
         "type": "scatter",
         "x": [
          "2023-03-08T19:00:00"
         ],
         "xaxis": "x44",
         "y": [
          18.06999969482422
         ],
         "yaxis": "y44"
        },
        {
         "hovertemplate": "jajajaja lak al  alolalla swc=FR-Bil_SWC_4<br>FR-Bil_SWC_2=17.600000381469727<br>TIMESTAMP=%{x}<br>value=%{y}<extra></extra>",
         "legendgroup": "FR-Bil_SWC_4",
         "line": {
          "color": "#00cc96",
          "dash": "solid"
         },
         "marker": {
          "symbol": "circle"
         },
         "mode": "lines",
         "name": "FR-Bil_SWC_4",
         "orientation": "v",
         "showlegend": false,
         "type": "scatter",
         "x": [
          "2023-03-08T19:30:00"
         ],
         "xaxis": "x43",
         "y": [
          18.010000228881836
         ],
         "yaxis": "y43"
        },
        {
         "hovertemplate": "jajajaja lak al  alolalla swc=FR-Bil_SWC_4<br>FR-Bil_SWC_2=17.829999923706055<br>TIMESTAMP=%{x}<br>value=%{y}<extra></extra>",
         "legendgroup": "FR-Bil_SWC_4",
         "line": {
          "color": "#00cc96",
          "dash": "solid"
         },
         "marker": {
          "symbol": "circle"
         },
         "mode": "lines",
         "name": "FR-Bil_SWC_4",
         "orientation": "v",
         "showlegend": false,
         "type": "scatter",
         "x": [
          "2023-03-08T20:00:00",
          "2023-03-09T19:30:00"
         ],
         "xaxis": "x42",
         "y": [
          18,
          18.84000015258789
         ],
         "yaxis": "y42"
        },
        {
         "hovertemplate": "jajajaja lak al  alolalla swc=FR-Bil_SWC_4<br>FR-Bil_SWC_2=17.920000076293945<br>TIMESTAMP=%{x}<br>value=%{y}<extra></extra>",
         "legendgroup": "FR-Bil_SWC_4",
         "line": {
          "color": "#00cc96",
          "dash": "solid"
         },
         "marker": {
          "symbol": "circle"
         },
         "mode": "lines",
         "name": "FR-Bil_SWC_4",
         "orientation": "v",
         "showlegend": false,
         "type": "scatter",
         "x": [
          "2023-03-08T20:30:00"
         ],
         "xaxis": "x41",
         "y": [
          18.1299991607666
         ],
         "yaxis": "y41"
        },
        {
         "hovertemplate": "jajajaja lak al  alolalla swc=FR-Bil_SWC_4<br>FR-Bil_SWC_2=18.049999237060547<br>TIMESTAMP=%{x}<br>value=%{y}<extra></extra>",
         "legendgroup": "FR-Bil_SWC_4",
         "line": {
          "color": "#00cc96",
          "dash": "solid"
         },
         "marker": {
          "symbol": "circle"
         },
         "mode": "lines",
         "name": "FR-Bil_SWC_4",
         "orientation": "v",
         "showlegend": false,
         "type": "scatter",
         "x": [
          "2023-03-08T21:00:00",
          "2023-03-09T11:00:00",
          "2023-03-09T11:30:00"
         ],
         "xaxis": "x40",
         "y": [
          18.079999923706055,
          18.729999542236328,
          18.729999542236328
         ],
         "yaxis": "y40"
        },
        {
         "hovertemplate": "jajajaja lak al  alolalla swc=FR-Bil_SWC_4<br>FR-Bil_SWC_2=18.139999389648438<br>TIMESTAMP=%{x}<br>value=%{y}<extra></extra>",
         "legendgroup": "FR-Bil_SWC_4",
         "line": {
          "color": "#00cc96",
          "dash": "solid"
         },
         "marker": {
          "symbol": "circle"
         },
         "mode": "lines",
         "name": "FR-Bil_SWC_4",
         "orientation": "v",
         "showlegend": false,
         "type": "scatter",
         "x": [
          "2023-03-08T21:30:00"
         ],
         "xaxis": "x39",
         "y": [
          18.100000381469727
         ],
         "yaxis": "y39"
        },
        {
         "hovertemplate": "jajajaja lak al  alolalla swc=FR-Bil_SWC_4<br>FR-Bil_SWC_2=18.1299991607666<br>TIMESTAMP=%{x}<br>value=%{y}<extra></extra>",
         "legendgroup": "FR-Bil_SWC_4",
         "line": {
          "color": "#00cc96",
          "dash": "solid"
         },
         "marker": {
          "symbol": "circle"
         },
         "mode": "lines",
         "name": "FR-Bil_SWC_4",
         "orientation": "v",
         "showlegend": false,
         "type": "scatter",
         "x": [
          "2023-03-08T22:00:00",
          "2023-03-09T09:30:00"
         ],
         "xaxis": "x38",
         "y": [
          18.200000762939453,
          18.739999771118164
         ],
         "yaxis": "y38"
        },
        {
         "hovertemplate": "jajajaja lak al  alolalla swc=FR-Bil_SWC_4<br>FR-Bil_SWC_2=18.149999618530273<br>TIMESTAMP=%{x}<br>value=%{y}<extra></extra>",
         "legendgroup": "FR-Bil_SWC_4",
         "line": {
          "color": "#00cc96",
          "dash": "solid"
         },
         "marker": {
          "symbol": "circle"
         },
         "mode": "lines",
         "name": "FR-Bil_SWC_4",
         "orientation": "v",
         "showlegend": false,
         "type": "scatter",
         "x": [
          "2023-03-08T22:30:00"
         ],
         "xaxis": "x37",
         "y": [
          18.1299991607666
         ],
         "yaxis": "y37"
        },
        {
         "hovertemplate": "jajajaja lak al  alolalla swc=FR-Bil_SWC_4<br>FR-Bil_SWC_2=18.190000534057617<br>TIMESTAMP=%{x}<br>value=%{y}<extra></extra>",
         "legendgroup": "FR-Bil_SWC_4",
         "line": {
          "color": "#00cc96",
          "dash": "solid"
         },
         "marker": {
          "symbol": "circle"
         },
         "mode": "lines",
         "name": "FR-Bil_SWC_4",
         "orientation": "v",
         "showlegend": false,
         "type": "scatter",
         "x": [
          "2023-03-08T23:00:00",
          "2023-03-09T00:30:00",
          "2023-03-09T01:00:00"
         ],
         "xaxis": "x36",
         "y": [
          18.31999969482422,
          18.309999465942383,
          18.40999984741211
         ],
         "yaxis": "y36"
        },
        {
         "hovertemplate": "jajajaja lak al  alolalla swc=FR-Bil_SWC_4<br>FR-Bil_SWC_2=18.260000228881836<br>TIMESTAMP=%{x}<br>value=%{y}<extra></extra>",
         "legendgroup": "FR-Bil_SWC_4",
         "line": {
          "color": "#00cc96",
          "dash": "solid"
         },
         "marker": {
          "symbol": "circle"
         },
         "mode": "lines",
         "name": "FR-Bil_SWC_4",
         "orientation": "v",
         "showlegend": false,
         "type": "scatter",
         "x": [
          "2023-03-08T23:30:00"
         ],
         "xaxis": "x35",
         "y": [
          18.260000228881836
         ],
         "yaxis": "y35"
        },
        {
         "hovertemplate": "jajajaja lak al  alolalla swc=FR-Bil_SWC_4<br>FR-Bil_SWC_2=18.229999542236328<br>TIMESTAMP=%{x}<br>value=%{y}<extra></extra>",
         "legendgroup": "FR-Bil_SWC_4",
         "line": {
          "color": "#00cc96",
          "dash": "solid"
         },
         "marker": {
          "symbol": "circle"
         },
         "mode": "lines",
         "name": "FR-Bil_SWC_4",
         "orientation": "v",
         "showlegend": false,
         "type": "scatter",
         "x": [
          "2023-03-09T00:00:00",
          "2023-03-09T05:30:00"
         ],
         "xaxis": "x34",
         "y": [
          18.40999984741211,
          18.770000457763672
         ],
         "yaxis": "y34"
        },
        {
         "hovertemplate": "jajajaja lak al  alolalla swc=FR-Bil_SWC_4<br>FR-Bil_SWC_2=18.170000076293945<br>TIMESTAMP=%{x}<br>value=%{y}<extra></extra>",
         "legendgroup": "FR-Bil_SWC_4",
         "line": {
          "color": "#00cc96",
          "dash": "solid"
         },
         "marker": {
          "symbol": "circle"
         },
         "mode": "lines",
         "name": "FR-Bil_SWC_4",
         "orientation": "v",
         "showlegend": false,
         "type": "scatter",
         "x": [
          "2023-03-09T01:30:00",
          "2023-03-09T08:00:00"
         ],
         "xaxis": "x33",
         "y": [
          18.399999618530273,
          18.790000915527344
         ],
         "yaxis": "y33"
        },
        {
         "hovertemplate": "jajajaja lak al  alolalla swc=FR-Bil_SWC_4<br>FR-Bil_SWC_2=18.15999984741211<br>TIMESTAMP=%{x}<br>value=%{y}<extra></extra>",
         "legendgroup": "FR-Bil_SWC_4",
         "line": {
          "color": "#00cc96",
          "dash": "solid"
         },
         "marker": {
          "symbol": "circle"
         },
         "mode": "lines",
         "name": "FR-Bil_SWC_4",
         "orientation": "v",
         "showlegend": false,
         "type": "scatter",
         "x": [
          "2023-03-09T02:00:00",
          "2023-03-09T02:30:00"
         ],
         "xaxis": "x32",
         "y": [
          18.530000686645508,
          18.459999084472656
         ],
         "yaxis": "y32"
        },
        {
         "hovertemplate": "jajajaja lak al  alolalla swc=FR-Bil_SWC_4<br>FR-Bil_SWC_2=18.18000030517578<br>TIMESTAMP=%{x}<br>value=%{y}<extra></extra>",
         "legendgroup": "FR-Bil_SWC_4",
         "line": {
          "color": "#00cc96",
          "dash": "solid"
         },
         "marker": {
          "symbol": "circle"
         },
         "mode": "lines",
         "name": "FR-Bil_SWC_4",
         "orientation": "v",
         "showlegend": false,
         "type": "scatter",
         "x": [
          "2023-03-09T03:00:00"
         ],
         "xaxis": "x31",
         "y": [
          18.450000762939453
         ],
         "yaxis": "y31"
        },
        {
         "hovertemplate": "jajajaja lak al  alolalla swc=FR-Bil_SWC_4<br>FR-Bil_SWC_2=18.25<br>TIMESTAMP=%{x}<br>value=%{y}<extra></extra>",
         "legendgroup": "FR-Bil_SWC_4",
         "line": {
          "color": "#00cc96",
          "dash": "solid"
         },
         "marker": {
          "symbol": "circle"
         },
         "mode": "lines",
         "name": "FR-Bil_SWC_4",
         "orientation": "v",
         "showlegend": false,
         "type": "scatter",
         "x": [
          "2023-03-09T03:30:00"
         ],
         "xaxis": "x30",
         "y": [
          18.540000915527344
         ],
         "yaxis": "y30"
        },
        {
         "hovertemplate": "jajajaja lak al  alolalla swc=FR-Bil_SWC_4<br>FR-Bil_SWC_2=18.299999237060547<br>TIMESTAMP=%{x}<br>value=%{y}<extra></extra>",
         "legendgroup": "FR-Bil_SWC_4",
         "line": {
          "color": "#00cc96",
          "dash": "solid"
         },
         "marker": {
          "symbol": "circle"
         },
         "mode": "lines",
         "name": "FR-Bil_SWC_4",
         "orientation": "v",
         "showlegend": false,
         "type": "scatter",
         "x": [
          "2023-03-09T04:00:00"
         ],
         "xaxis": "x29",
         "y": [
          18.559999465942383
         ],
         "yaxis": "y29"
        },
        {
         "hovertemplate": "jajajaja lak al  alolalla swc=FR-Bil_SWC_4<br>FR-Bil_SWC_2=18.280000686645508<br>TIMESTAMP=%{x}<br>value=%{y}<extra></extra>",
         "legendgroup": "FR-Bil_SWC_4",
         "line": {
          "color": "#00cc96",
          "dash": "solid"
         },
         "marker": {
          "symbol": "circle"
         },
         "mode": "lines",
         "name": "FR-Bil_SWC_4",
         "orientation": "v",
         "showlegend": false,
         "type": "scatter",
         "x": [
          "2023-03-09T04:30:00"
         ],
         "xaxis": "x28",
         "y": [
          18.56999969482422
         ],
         "yaxis": "y28"
        },
        {
         "hovertemplate": "jajajaja lak al  alolalla swc=FR-Bil_SWC_4<br>FR-Bil_SWC_2=18.239999771118164<br>TIMESTAMP=%{x}<br>value=%{y}<extra></extra>",
         "legendgroup": "FR-Bil_SWC_4",
         "line": {
          "color": "#00cc96",
          "dash": "solid"
         },
         "marker": {
          "symbol": "circle"
         },
         "mode": "lines",
         "name": "FR-Bil_SWC_4",
         "orientation": "v",
         "showlegend": false,
         "type": "scatter",
         "x": [
          "2023-03-09T05:00:00"
         ],
         "xaxis": "x27",
         "y": [
          18.649999618530273
         ],
         "yaxis": "y27"
        },
        {
         "hovertemplate": "jajajaja lak al  alolalla swc=FR-Bil_SWC_4<br>FR-Bil_SWC_2=18.219999313354492<br>TIMESTAMP=%{x}<br>value=%{y}<extra></extra>",
         "legendgroup": "FR-Bil_SWC_4",
         "line": {
          "color": "#00cc96",
          "dash": "solid"
         },
         "marker": {
          "symbol": "circle"
         },
         "mode": "lines",
         "name": "FR-Bil_SWC_4",
         "orientation": "v",
         "showlegend": false,
         "type": "scatter",
         "x": [
          "2023-03-09T06:00:00"
         ],
         "xaxis": "x26",
         "y": [
          18.729999542236328
         ],
         "yaxis": "y26"
        },
        {
         "hovertemplate": "jajajaja lak al  alolalla swc=FR-Bil_SWC_4<br>FR-Bil_SWC_2=18.200000762939453<br>TIMESTAMP=%{x}<br>value=%{y}<extra></extra>",
         "legendgroup": "FR-Bil_SWC_4",
         "line": {
          "color": "#00cc96",
          "dash": "solid"
         },
         "marker": {
          "symbol": "circle"
         },
         "mode": "lines",
         "name": "FR-Bil_SWC_4",
         "orientation": "v",
         "showlegend": false,
         "type": "scatter",
         "x": [
          "2023-03-09T06:30:00"
         ],
         "xaxis": "x25",
         "y": [
          18.700000762939453
         ],
         "yaxis": "y25"
        },
        {
         "hovertemplate": "jajajaja lak al  alolalla swc=FR-Bil_SWC_4<br>FR-Bil_SWC_2=18.209999084472656<br>TIMESTAMP=%{x}<br>value=%{y}<extra></extra>",
         "legendgroup": "FR-Bil_SWC_4",
         "line": {
          "color": "#00cc96",
          "dash": "solid"
         },
         "marker": {
          "symbol": "circle"
         },
         "mode": "lines",
         "name": "FR-Bil_SWC_4",
         "orientation": "v",
         "showlegend": false,
         "type": "scatter",
         "x": [
          "2023-03-09T07:00:00",
          "2023-03-09T07:30:00"
         ],
         "xaxis": "x24",
         "y": [
          18.6200008392334,
          18.65999984741211
         ],
         "yaxis": "y24"
        },
        {
         "hovertemplate": "jajajaja lak al  alolalla swc=FR-Bil_SWC_4<br>FR-Bil_SWC_2=18.1200008392334<br>TIMESTAMP=%{x}<br>value=%{y}<extra></extra>",
         "legendgroup": "FR-Bil_SWC_4",
         "line": {
          "color": "#00cc96",
          "dash": "solid"
         },
         "marker": {
          "symbol": "circle"
         },
         "mode": "lines",
         "name": "FR-Bil_SWC_4",
         "orientation": "v",
         "showlegend": false,
         "type": "scatter",
         "x": [
          "2023-03-09T08:30:00"
         ],
         "xaxis": "x23",
         "y": [
          18.799999237060547
         ],
         "yaxis": "y23"
        },
        {
         "hovertemplate": "jajajaja lak al  alolalla swc=FR-Bil_SWC_4<br>FR-Bil_SWC_2=18.110000610351562<br>TIMESTAMP=%{x}<br>value=%{y}<extra></extra>",
         "legendgroup": "FR-Bil_SWC_4",
         "line": {
          "color": "#00cc96",
          "dash": "solid"
         },
         "marker": {
          "symbol": "circle"
         },
         "mode": "lines",
         "name": "FR-Bil_SWC_4",
         "orientation": "v",
         "showlegend": false,
         "type": "scatter",
         "x": [
          "2023-03-09T09:00:00"
         ],
         "xaxis": "x22",
         "y": [
          18.799999237060547
         ],
         "yaxis": "y22"
        },
        {
         "hovertemplate": "jajajaja lak al  alolalla swc=FR-Bil_SWC_4<br>FR-Bil_SWC_2=18.100000381469727<br>TIMESTAMP=%{x}<br>value=%{y}<extra></extra>",
         "legendgroup": "FR-Bil_SWC_4",
         "line": {
          "color": "#00cc96",
          "dash": "solid"
         },
         "marker": {
          "symbol": "circle"
         },
         "mode": "lines",
         "name": "FR-Bil_SWC_4",
         "orientation": "v",
         "showlegend": false,
         "type": "scatter",
         "x": [
          "2023-03-09T10:00:00"
         ],
         "xaxis": "x21",
         "y": [
          18.739999771118164
         ],
         "yaxis": "y21"
        },
        {
         "hovertemplate": "jajajaja lak al  alolalla swc=FR-Bil_SWC_4<br>FR-Bil_SWC_2=18.06999969482422<br>TIMESTAMP=%{x}<br>value=%{y}<extra></extra>",
         "legendgroup": "FR-Bil_SWC_4",
         "line": {
          "color": "#00cc96",
          "dash": "solid"
         },
         "marker": {
          "symbol": "circle"
         },
         "mode": "lines",
         "name": "FR-Bil_SWC_4",
         "orientation": "v",
         "showlegend": false,
         "type": "scatter",
         "x": [
          "2023-03-09T10:30:00"
         ],
         "xaxis": "x20",
         "y": [
          18.739999771118164
         ],
         "yaxis": "y20"
        },
        {
         "hovertemplate": "jajajaja lak al  alolalla swc=FR-Bil_SWC_4<br>FR-Bil_SWC_2=18.040000915527344<br>TIMESTAMP=%{x}<br>value=%{y}<extra></extra>",
         "legendgroup": "FR-Bil_SWC_4",
         "line": {
          "color": "#00cc96",
          "dash": "solid"
         },
         "marker": {
          "symbol": "circle"
         },
         "mode": "lines",
         "name": "FR-Bil_SWC_4",
         "orientation": "v",
         "showlegend": false,
         "type": "scatter",
         "x": [
          "2023-03-09T12:00:00"
         ],
         "xaxis": "x19",
         "y": [
          18.700000762939453
         ],
         "yaxis": "y19"
        },
        {
         "hovertemplate": "jajajaja lak al  alolalla swc=FR-Bil_SWC_4<br>FR-Bil_SWC_2=17.959999084472656<br>TIMESTAMP=%{x}<br>value=%{y}<extra></extra>",
         "legendgroup": "FR-Bil_SWC_4",
         "line": {
          "color": "#00cc96",
          "dash": "solid"
         },
         "marker": {
          "symbol": "circle"
         },
         "mode": "lines",
         "name": "FR-Bil_SWC_4",
         "orientation": "v",
         "showlegend": false,
         "type": "scatter",
         "x": [
          "2023-03-09T12:30:00"
         ],
         "xaxis": "x18",
         "y": [
          18.700000762939453
         ],
         "yaxis": "y18"
        },
        {
         "hovertemplate": "jajajaja lak al  alolalla swc=FR-Bil_SWC_4<br>FR-Bil_SWC_2=17.979999542236328<br>TIMESTAMP=%{x}<br>value=%{y}<extra></extra>",
         "legendgroup": "FR-Bil_SWC_4",
         "line": {
          "color": "#00cc96",
          "dash": "solid"
         },
         "marker": {
          "symbol": "circle"
         },
         "mode": "lines",
         "name": "FR-Bil_SWC_4",
         "orientation": "v",
         "showlegend": false,
         "type": "scatter",
         "x": [
          "2023-03-09T13:00:00"
         ],
         "xaxis": "x17",
         "y": [
          18.670000076293945
         ],
         "yaxis": "y17"
        },
        {
         "hovertemplate": "jajajaja lak al  alolalla swc=FR-Bil_SWC_4<br>FR-Bil_SWC_2=17.950000762939453<br>TIMESTAMP=%{x}<br>value=%{y}<extra></extra>",
         "legendgroup": "FR-Bil_SWC_4",
         "line": {
          "color": "#00cc96",
          "dash": "solid"
         },
         "marker": {
          "symbol": "circle"
         },
         "mode": "lines",
         "name": "FR-Bil_SWC_4",
         "orientation": "v",
         "showlegend": false,
         "type": "scatter",
         "x": [
          "2023-03-09T13:30:00"
         ],
         "xaxis": "x16",
         "y": [
          18.65999984741211
         ],
         "yaxis": "y16"
        },
        {
         "hovertemplate": "jajajaja lak al  alolalla swc=FR-Bil_SWC_4<br>FR-Bil_SWC_2=18.0<br>TIMESTAMP=%{x}<br>value=%{y}<extra></extra>",
         "legendgroup": "FR-Bil_SWC_4",
         "line": {
          "color": "#00cc96",
          "dash": "solid"
         },
         "marker": {
          "symbol": "circle"
         },
         "mode": "lines",
         "name": "FR-Bil_SWC_4",
         "orientation": "v",
         "showlegend": false,
         "type": "scatter",
         "x": [
          "2023-03-09T14:00:00"
         ],
         "xaxis": "x15",
         "y": [
          18.670000076293945
         ],
         "yaxis": "y15"
        },
        {
         "hovertemplate": "jajajaja lak al  alolalla swc=FR-Bil_SWC_4<br>FR-Bil_SWC_2=17.8799991607666<br>TIMESTAMP=%{x}<br>value=%{y}<extra></extra>",
         "legendgroup": "FR-Bil_SWC_4",
         "line": {
          "color": "#00cc96",
          "dash": "solid"
         },
         "marker": {
          "symbol": "circle"
         },
         "mode": "lines",
         "name": "FR-Bil_SWC_4",
         "orientation": "v",
         "showlegend": false,
         "type": "scatter",
         "x": [
          "2023-03-09T14:30:00"
         ],
         "xaxis": "x14",
         "y": [
          18.68000030517578
         ],
         "yaxis": "y14"
        },
        {
         "hovertemplate": "jajajaja lak al  alolalla swc=FR-Bil_SWC_4<br>FR-Bil_SWC_2=17.860000610351562<br>TIMESTAMP=%{x}<br>value=%{y}<extra></extra>",
         "legendgroup": "FR-Bil_SWC_4",
         "line": {
          "color": "#00cc96",
          "dash": "solid"
         },
         "marker": {
          "symbol": "circle"
         },
         "mode": "lines",
         "name": "FR-Bil_SWC_4",
         "orientation": "v",
         "showlegend": false,
         "type": "scatter",
         "x": [
          "2023-03-09T15:00:00",
          "2023-03-09T17:30:00",
          "2023-03-09T19:00:00"
         ],
         "xaxis": "x13",
         "y": [
          18.709999084472656,
          18.84000015258789,
          18.850000381469727
         ],
         "yaxis": "y13"
        },
        {
         "hovertemplate": "jajajaja lak al  alolalla swc=FR-Bil_SWC_4<br>FR-Bil_SWC_2=17.84000015258789<br>TIMESTAMP=%{x}<br>value=%{y}<extra></extra>",
         "legendgroup": "FR-Bil_SWC_4",
         "line": {
          "color": "#00cc96",
          "dash": "solid"
         },
         "marker": {
          "symbol": "circle"
         },
         "mode": "lines",
         "name": "FR-Bil_SWC_4",
         "orientation": "v",
         "showlegend": false,
         "type": "scatter",
         "x": [
          "2023-03-09T15:30:00"
         ],
         "xaxis": "x12",
         "y": [
          18.790000915527344
         ],
         "yaxis": "y12"
        },
        {
         "hovertemplate": "jajajaja lak al  alolalla swc=FR-Bil_SWC_4<br>FR-Bil_SWC_2=17.790000915527344<br>TIMESTAMP=%{x}<br>value=%{y}<extra></extra>",
         "legendgroup": "FR-Bil_SWC_4",
         "line": {
          "color": "#00cc96",
          "dash": "solid"
         },
         "marker": {
          "symbol": "circle"
         },
         "mode": "lines",
         "name": "FR-Bil_SWC_4",
         "orientation": "v",
         "showlegend": false,
         "type": "scatter",
         "x": [
          "2023-03-09T16:00:00"
         ],
         "xaxis": "x11",
         "y": [
          18.81999969482422
         ],
         "yaxis": "y11"
        },
        {
         "hovertemplate": "jajajaja lak al  alolalla swc=FR-Bil_SWC_4<br>FR-Bil_SWC_2=17.770000457763672<br>TIMESTAMP=%{x}<br>value=%{y}<extra></extra>",
         "legendgroup": "FR-Bil_SWC_4",
         "line": {
          "color": "#00cc96",
          "dash": "solid"
         },
         "marker": {
          "symbol": "circle"
         },
         "mode": "lines",
         "name": "FR-Bil_SWC_4",
         "orientation": "v",
         "showlegend": false,
         "type": "scatter",
         "x": [
          "2023-03-09T16:30:00"
         ],
         "xaxis": "x10",
         "y": [
          18.81999969482422
         ],
         "yaxis": "y10"
        },
        {
         "hovertemplate": "jajajaja lak al  alolalla swc=FR-Bil_SWC_4<br>FR-Bil_SWC_2=17.799999237060547<br>TIMESTAMP=%{x}<br>value=%{y}<extra></extra>",
         "legendgroup": "FR-Bil_SWC_4",
         "line": {
          "color": "#00cc96",
          "dash": "solid"
         },
         "marker": {
          "symbol": "circle"
         },
         "mode": "lines",
         "name": "FR-Bil_SWC_4",
         "orientation": "v",
         "showlegend": false,
         "type": "scatter",
         "x": [
          "2023-03-09T17:00:00"
         ],
         "xaxis": "x9",
         "y": [
          18.829999923706055
         ],
         "yaxis": "y9"
        },
        {
         "hovertemplate": "jajajaja lak al  alolalla swc=FR-Bil_SWC_4<br>FR-Bil_SWC_2=17.899999618530273<br>TIMESTAMP=%{x}<br>value=%{y}<extra></extra>",
         "legendgroup": "FR-Bil_SWC_4",
         "line": {
          "color": "#00cc96",
          "dash": "solid"
         },
         "marker": {
          "symbol": "circle"
         },
         "mode": "lines",
         "name": "FR-Bil_SWC_4",
         "orientation": "v",
         "showlegend": false,
         "type": "scatter",
         "x": [
          "2023-03-09T18:00:00"
         ],
         "xaxis": "x8",
         "y": [
          18.850000381469727
         ],
         "yaxis": "y8"
        },
        {
         "hovertemplate": "jajajaja lak al  alolalla swc=FR-Bil_SWC_4<br>FR-Bil_SWC_2=17.889999389648438<br>TIMESTAMP=%{x}<br>value=%{y}<extra></extra>",
         "legendgroup": "FR-Bil_SWC_4",
         "line": {
          "color": "#00cc96",
          "dash": "solid"
         },
         "marker": {
          "symbol": "circle"
         },
         "mode": "lines",
         "name": "FR-Bil_SWC_4",
         "orientation": "v",
         "showlegend": false,
         "type": "scatter",
         "x": [
          "2023-03-09T18:30:00"
         ],
         "xaxis": "x7",
         "y": [
          18.84000015258789
         ],
         "yaxis": "y7"
        },
        {
         "hovertemplate": "jajajaja lak al  alolalla swc=FR-Bil_SWC_4<br>FR-Bil_SWC_2=17.81999969482422<br>TIMESTAMP=%{x}<br>value=%{y}<extra></extra>",
         "legendgroup": "FR-Bil_SWC_4",
         "line": {
          "color": "#00cc96",
          "dash": "solid"
         },
         "marker": {
          "symbol": "circle"
         },
         "mode": "lines",
         "name": "FR-Bil_SWC_4",
         "orientation": "v",
         "showlegend": false,
         "type": "scatter",
         "x": [
          "2023-03-09T20:00:00"
         ],
         "xaxis": "x6",
         "y": [
          18.84000015258789
         ],
         "yaxis": "y6"
        },
        {
         "hovertemplate": "jajajaja lak al  alolalla swc=FR-Bil_SWC_4<br>FR-Bil_SWC_2=17.780000686645508<br>TIMESTAMP=%{x}<br>value=%{y}<extra></extra>",
         "legendgroup": "FR-Bil_SWC_4",
         "line": {
          "color": "#00cc96",
          "dash": "solid"
         },
         "marker": {
          "symbol": "circle"
         },
         "mode": "lines",
         "name": "FR-Bil_SWC_4",
         "orientation": "v",
         "showlegend": false,
         "type": "scatter",
         "x": [
          "2023-03-09T20:30:00"
         ],
         "xaxis": "x5",
         "y": [
          18.850000381469727
         ],
         "yaxis": "y5"
        },
        {
         "hovertemplate": "jajajaja lak al  alolalla swc=FR-Bil_SWC_4<br>FR-Bil_SWC_2=17.739999771118164<br>TIMESTAMP=%{x}<br>value=%{y}<extra></extra>",
         "legendgroup": "FR-Bil_SWC_4",
         "line": {
          "color": "#00cc96",
          "dash": "solid"
         },
         "marker": {
          "symbol": "circle"
         },
         "mode": "lines",
         "name": "FR-Bil_SWC_4",
         "orientation": "v",
         "showlegend": false,
         "type": "scatter",
         "x": [
          "2023-03-09T21:00:00",
          "2023-03-09T22:00:00"
         ],
         "xaxis": "x4",
         "y": [
          18.84000015258789,
          18.850000381469727
         ],
         "yaxis": "y4"
        },
        {
         "hovertemplate": "jajajaja lak al  alolalla swc=FR-Bil_SWC_4<br>FR-Bil_SWC_2=17.760000228881836<br>TIMESTAMP=%{x}<br>value=%{y}<extra></extra>",
         "legendgroup": "FR-Bil_SWC_4",
         "line": {
          "color": "#00cc96",
          "dash": "solid"
         },
         "marker": {
          "symbol": "circle"
         },
         "mode": "lines",
         "name": "FR-Bil_SWC_4",
         "orientation": "v",
         "showlegend": false,
         "type": "scatter",
         "x": [
          "2023-03-09T21:30:00"
         ],
         "xaxis": "x3",
         "y": [
          18.850000381469727
         ],
         "yaxis": "y3"
        },
        {
         "hovertemplate": "jajajaja lak al  alolalla swc=FR-Bil_SWC_4<br>FR-Bil_SWC_2=17.719999313354492<br>TIMESTAMP=%{x}<br>value=%{y}<extra></extra>",
         "legendgroup": "FR-Bil_SWC_4",
         "line": {
          "color": "#00cc96",
          "dash": "solid"
         },
         "marker": {
          "symbol": "circle"
         },
         "mode": "lines",
         "name": "FR-Bil_SWC_4",
         "orientation": "v",
         "showlegend": false,
         "type": "scatter",
         "x": [
          "2023-03-09T22:30:00",
          "2023-03-09T23:00:00"
         ],
         "xaxis": "x2",
         "y": [
          18.850000381469727,
          18.850000381469727
         ],
         "yaxis": "y2"
        },
        {
         "hovertemplate": "jajajaja lak al  alolalla swc=FR-Bil_SWC_4<br>FR-Bil_SWC_2=17.690000534057617<br>TIMESTAMP=%{x}<br>value=%{y}<extra></extra>",
         "legendgroup": "FR-Bil_SWC_4",
         "line": {
          "color": "#00cc96",
          "dash": "solid"
         },
         "marker": {
          "symbol": "circle"
         },
         "mode": "lines",
         "name": "FR-Bil_SWC_4",
         "orientation": "v",
         "showlegend": false,
         "type": "scatter",
         "x": [
          "2023-03-09T23:30:00"
         ],
         "xaxis": "x",
         "y": [
          18.84000015258789
         ],
         "yaxis": "y"
        }
       ],
       "layout": {
        "annotations": [
         {
          "font": {},
          "showarrow": false,
          "text": "FR-Bil_SWC_2=17.690000534057617",
          "textangle": 90,
          "x": 0.98,
          "xanchor": "left",
          "xref": "paper",
          "y": 0.0032786885245901644,
          "yanchor": "middle",
          "yref": "paper"
         },
         {
          "font": {},
          "showarrow": false,
          "text": "FR-Bil_SWC_2=17.719999313354492",
          "textangle": 90,
          "x": 0.98,
          "xanchor": "left",
          "xref": "paper",
          "y": 0.019836065573770493,
          "yanchor": "middle",
          "yref": "paper"
         },
         {
          "font": {},
          "showarrow": false,
          "text": "FR-Bil_SWC_2=17.760000228881836",
          "textangle": 90,
          "x": 0.98,
          "xanchor": "left",
          "xref": "paper",
          "y": 0.03639344262295082,
          "yanchor": "middle",
          "yref": "paper"
         },
         {
          "font": {},
          "showarrow": false,
          "text": "FR-Bil_SWC_2=17.739999771118164",
          "textangle": 90,
          "x": 0.98,
          "xanchor": "left",
          "xref": "paper",
          "y": 0.05295081967213115,
          "yanchor": "middle",
          "yref": "paper"
         },
         {
          "font": {},
          "showarrow": false,
          "text": "FR-Bil_SWC_2=17.780000686645508",
          "textangle": 90,
          "x": 0.98,
          "xanchor": "left",
          "xref": "paper",
          "y": 0.06950819672131148,
          "yanchor": "middle",
          "yref": "paper"
         },
         {
          "font": {},
          "showarrow": false,
          "text": "FR-Bil_SWC_2=17.81999969482422",
          "textangle": 90,
          "x": 0.98,
          "xanchor": "left",
          "xref": "paper",
          "y": 0.0860655737704918,
          "yanchor": "middle",
          "yref": "paper"
         },
         {
          "font": {},
          "showarrow": false,
          "text": "FR-Bil_SWC_2=17.889999389648438",
          "textangle": 90,
          "x": 0.98,
          "xanchor": "left",
          "xref": "paper",
          "y": 0.10262295081967214,
          "yanchor": "middle",
          "yref": "paper"
         },
         {
          "font": {},
          "showarrow": false,
          "text": "FR-Bil_SWC_2=17.899999618530273",
          "textangle": 90,
          "x": 0.98,
          "xanchor": "left",
          "xref": "paper",
          "y": 0.11918032786885248,
          "yanchor": "middle",
          "yref": "paper"
         },
         {
          "font": {},
          "showarrow": false,
          "text": "FR-Bil_SWC_2=17.799999237060547",
          "textangle": 90,
          "x": 0.98,
          "xanchor": "left",
          "xref": "paper",
          "y": 0.13573770491803278,
          "yanchor": "middle",
          "yref": "paper"
         },
         {
          "font": {},
          "showarrow": false,
          "text": "FR-Bil_SWC_2=17.770000457763672",
          "textangle": 90,
          "x": 0.98,
          "xanchor": "left",
          "xref": "paper",
          "y": 0.15229508196721314,
          "yanchor": "middle",
          "yref": "paper"
         },
         {
          "font": {},
          "showarrow": false,
          "text": "FR-Bil_SWC_2=17.790000915527344",
          "textangle": 90,
          "x": 0.98,
          "xanchor": "left",
          "xref": "paper",
          "y": 0.16885245901639345,
          "yanchor": "middle",
          "yref": "paper"
         },
         {
          "font": {},
          "showarrow": false,
          "text": "FR-Bil_SWC_2=17.84000015258789",
          "textangle": 90,
          "x": 0.98,
          "xanchor": "left",
          "xref": "paper",
          "y": 0.18540983606557376,
          "yanchor": "middle",
          "yref": "paper"
         },
         {
          "font": {},
          "showarrow": false,
          "text": "FR-Bil_SWC_2=17.860000610351562",
          "textangle": 90,
          "x": 0.98,
          "xanchor": "left",
          "xref": "paper",
          "y": 0.20196721311475413,
          "yanchor": "middle",
          "yref": "paper"
         },
         {
          "font": {},
          "showarrow": false,
          "text": "FR-Bil_SWC_2=17.8799991607666",
          "textangle": 90,
          "x": 0.98,
          "xanchor": "left",
          "xref": "paper",
          "y": 0.21852459016393444,
          "yanchor": "middle",
          "yref": "paper"
         },
         {
          "font": {},
          "showarrow": false,
          "text": "FR-Bil_SWC_2=18.0",
          "textangle": 90,
          "x": 0.98,
          "xanchor": "left",
          "xref": "paper",
          "y": 0.2350819672131148,
          "yanchor": "middle",
          "yref": "paper"
         },
         {
          "font": {},
          "showarrow": false,
          "text": "FR-Bil_SWC_2=17.950000762939453",
          "textangle": 90,
          "x": 0.98,
          "xanchor": "left",
          "xref": "paper",
          "y": 0.25163934426229506,
          "yanchor": "middle",
          "yref": "paper"
         },
         {
          "font": {},
          "showarrow": false,
          "text": "FR-Bil_SWC_2=17.979999542236328",
          "textangle": 90,
          "x": 0.98,
          "xanchor": "left",
          "xref": "paper",
          "y": 0.26819672131147543,
          "yanchor": "middle",
          "yref": "paper"
         },
         {
          "font": {},
          "showarrow": false,
          "text": "FR-Bil_SWC_2=17.959999084472656",
          "textangle": 90,
          "x": 0.98,
          "xanchor": "left",
          "xref": "paper",
          "y": 0.2847540983606558,
          "yanchor": "middle",
          "yref": "paper"
         },
         {
          "font": {},
          "showarrow": false,
          "text": "FR-Bil_SWC_2=18.040000915527344",
          "textangle": 90,
          "x": 0.98,
          "xanchor": "left",
          "xref": "paper",
          "y": 0.30131147540983605,
          "yanchor": "middle",
          "yref": "paper"
         },
         {
          "font": {},
          "showarrow": false,
          "text": "FR-Bil_SWC_2=18.06999969482422",
          "textangle": 90,
          "x": 0.98,
          "xanchor": "left",
          "xref": "paper",
          "y": 0.3178688524590164,
          "yanchor": "middle",
          "yref": "paper"
         },
         {
          "font": {},
          "showarrow": false,
          "text": "FR-Bil_SWC_2=18.100000381469727",
          "textangle": 90,
          "x": 0.98,
          "xanchor": "left",
          "xref": "paper",
          "y": 0.33442622950819667,
          "yanchor": "middle",
          "yref": "paper"
         },
         {
          "font": {},
          "showarrow": false,
          "text": "FR-Bil_SWC_2=18.110000610351562",
          "textangle": 90,
          "x": 0.98,
          "xanchor": "left",
          "xref": "paper",
          "y": 0.35098360655737704,
          "yanchor": "middle",
          "yref": "paper"
         },
         {
          "font": {},
          "showarrow": false,
          "text": "FR-Bil_SWC_2=18.1200008392334",
          "textangle": 90,
          "x": 0.98,
          "xanchor": "left",
          "xref": "paper",
          "y": 0.3675409836065574,
          "yanchor": "middle",
          "yref": "paper"
         },
         {
          "font": {},
          "showarrow": false,
          "text": "FR-Bil_SWC_2=18.209999084472656",
          "textangle": 90,
          "x": 0.98,
          "xanchor": "left",
          "xref": "paper",
          "y": 0.38409836065573766,
          "yanchor": "middle",
          "yref": "paper"
         },
         {
          "font": {},
          "showarrow": false,
          "text": "FR-Bil_SWC_2=18.200000762939453",
          "textangle": 90,
          "x": 0.98,
          "xanchor": "left",
          "xref": "paper",
          "y": 0.400655737704918,
          "yanchor": "middle",
          "yref": "paper"
         },
         {
          "font": {},
          "showarrow": false,
          "text": "FR-Bil_SWC_2=18.219999313354492",
          "textangle": 90,
          "x": 0.98,
          "xanchor": "left",
          "xref": "paper",
          "y": 0.4172131147540984,
          "yanchor": "middle",
          "yref": "paper"
         },
         {
          "font": {},
          "showarrow": false,
          "text": "FR-Bil_SWC_2=18.239999771118164",
          "textangle": 90,
          "x": 0.98,
          "xanchor": "left",
          "xref": "paper",
          "y": 0.43377049180327865,
          "yanchor": "middle",
          "yref": "paper"
         },
         {
          "font": {},
          "showarrow": false,
          "text": "FR-Bil_SWC_2=18.280000686645508",
          "textangle": 90,
          "x": 0.98,
          "xanchor": "left",
          "xref": "paper",
          "y": 0.450327868852459,
          "yanchor": "middle",
          "yref": "paper"
         },
         {
          "font": {},
          "showarrow": false,
          "text": "FR-Bil_SWC_2=18.299999237060547",
          "textangle": 90,
          "x": 0.98,
          "xanchor": "left",
          "xref": "paper",
          "y": 0.4668852459016394,
          "yanchor": "middle",
          "yref": "paper"
         },
         {
          "font": {},
          "showarrow": false,
          "text": "FR-Bil_SWC_2=18.25",
          "textangle": 90,
          "x": 0.98,
          "xanchor": "left",
          "xref": "paper",
          "y": 0.48344262295081963,
          "yanchor": "middle",
          "yref": "paper"
         },
         {
          "font": {},
          "showarrow": false,
          "text": "FR-Bil_SWC_2=18.18000030517578",
          "textangle": 90,
          "x": 0.98,
          "xanchor": "left",
          "xref": "paper",
          "y": 0.5,
          "yanchor": "middle",
          "yref": "paper"
         },
         {
          "font": {},
          "showarrow": false,
          "text": "FR-Bil_SWC_2=18.15999984741211",
          "textangle": 90,
          "x": 0.98,
          "xanchor": "left",
          "xref": "paper",
          "y": 0.5165573770491803,
          "yanchor": "middle",
          "yref": "paper"
         },
         {
          "font": {},
          "showarrow": false,
          "text": "FR-Bil_SWC_2=18.170000076293945",
          "textangle": 90,
          "x": 0.98,
          "xanchor": "left",
          "xref": "paper",
          "y": 0.5331147540983607,
          "yanchor": "middle",
          "yref": "paper"
         },
         {
          "font": {},
          "showarrow": false,
          "text": "FR-Bil_SWC_2=18.229999542236328",
          "textangle": 90,
          "x": 0.98,
          "xanchor": "left",
          "xref": "paper",
          "y": 0.549672131147541,
          "yanchor": "middle",
          "yref": "paper"
         },
         {
          "font": {},
          "showarrow": false,
          "text": "FR-Bil_SWC_2=18.260000228881836",
          "textangle": 90,
          "x": 0.98,
          "xanchor": "left",
          "xref": "paper",
          "y": 0.5662295081967215,
          "yanchor": "middle",
          "yref": "paper"
         },
         {
          "font": {},
          "showarrow": false,
          "text": "FR-Bil_SWC_2=18.190000534057617",
          "textangle": 90,
          "x": 0.98,
          "xanchor": "left",
          "xref": "paper",
          "y": 0.5827868852459017,
          "yanchor": "middle",
          "yref": "paper"
         },
         {
          "font": {},
          "showarrow": false,
          "text": "FR-Bil_SWC_2=18.149999618530273",
          "textangle": 90,
          "x": 0.98,
          "xanchor": "left",
          "xref": "paper",
          "y": 0.599344262295082,
          "yanchor": "middle",
          "yref": "paper"
         },
         {
          "font": {},
          "showarrow": false,
          "text": "FR-Bil_SWC_2=18.1299991607666",
          "textangle": 90,
          "x": 0.98,
          "xanchor": "left",
          "xref": "paper",
          "y": 0.6159016393442622,
          "yanchor": "middle",
          "yref": "paper"
         },
         {
          "font": {},
          "showarrow": false,
          "text": "FR-Bil_SWC_2=18.139999389648438",
          "textangle": 90,
          "x": 0.98,
          "xanchor": "left",
          "xref": "paper",
          "y": 0.6324590163934427,
          "yanchor": "middle",
          "yref": "paper"
         },
         {
          "font": {},
          "showarrow": false,
          "text": "FR-Bil_SWC_2=18.049999237060547",
          "textangle": 90,
          "x": 0.98,
          "xanchor": "left",
          "xref": "paper",
          "y": 0.649016393442623,
          "yanchor": "middle",
          "yref": "paper"
         },
         {
          "font": {},
          "showarrow": false,
          "text": "FR-Bil_SWC_2=17.920000076293945",
          "textangle": 90,
          "x": 0.98,
          "xanchor": "left",
          "xref": "paper",
          "y": 0.6655737704918032,
          "yanchor": "middle",
          "yref": "paper"
         },
         {
          "font": {},
          "showarrow": false,
          "text": "FR-Bil_SWC_2=17.829999923706055",
          "textangle": 90,
          "x": 0.98,
          "xanchor": "left",
          "xref": "paper",
          "y": 0.6821311475409837,
          "yanchor": "middle",
          "yref": "paper"
         },
         {
          "font": {},
          "showarrow": false,
          "text": "FR-Bil_SWC_2=17.600000381469727",
          "textangle": 90,
          "x": 0.98,
          "xanchor": "left",
          "xref": "paper",
          "y": 0.698688524590164,
          "yanchor": "middle",
          "yref": "paper"
         },
         {
          "font": {},
          "showarrow": false,
          "text": "FR-Bil_SWC_2=17.43000030517578",
          "textangle": 90,
          "x": 0.98,
          "xanchor": "left",
          "xref": "paper",
          "y": 0.7152459016393442,
          "yanchor": "middle",
          "yref": "paper"
         },
         {
          "font": {},
          "showarrow": false,
          "text": "FR-Bil_SWC_2=17.3700008392334",
          "textangle": 90,
          "x": 0.98,
          "xanchor": "left",
          "xref": "paper",
          "y": 0.7318032786885245,
          "yanchor": "middle",
          "yref": "paper"
         },
         {
          "font": {},
          "showarrow": false,
          "text": "FR-Bil_SWC_2=17.299999237060547",
          "textangle": 90,
          "x": 0.98,
          "xanchor": "left",
          "xref": "paper",
          "y": 0.7483606557377047,
          "yanchor": "middle",
          "yref": "paper"
         },
         {
          "font": {},
          "showarrow": false,
          "text": "FR-Bil_SWC_2=17.399999618530273",
          "textangle": 90,
          "x": 0.98,
          "xanchor": "left",
          "xref": "paper",
          "y": 0.7649180327868852,
          "yanchor": "middle",
          "yref": "paper"
         },
         {
          "font": {},
          "showarrow": false,
          "text": "FR-Bil_SWC_2=17.450000762939453",
          "textangle": 90,
          "x": 0.98,
          "xanchor": "left",
          "xref": "paper",
          "y": 0.7814754098360654,
          "yanchor": "middle",
          "yref": "paper"
         },
         {
          "font": {},
          "showarrow": false,
          "text": "FR-Bil_SWC_2=17.420000076293945",
          "textangle": 90,
          "x": 0.98,
          "xanchor": "left",
          "xref": "paper",
          "y": 0.7980327868852457,
          "yanchor": "middle",
          "yref": "paper"
         },
         {
          "font": {},
          "showarrow": false,
          "text": "FR-Bil_SWC_2=17.360000610351562",
          "textangle": 90,
          "x": 0.98,
          "xanchor": "left",
          "xref": "paper",
          "y": 0.814590163934426,
          "yanchor": "middle",
          "yref": "paper"
         },
         {
          "font": {},
          "showarrow": false,
          "text": "FR-Bil_SWC_2=17.260000228881836",
          "textangle": 90,
          "x": 0.98,
          "xanchor": "left",
          "xref": "paper",
          "y": 0.8311475409836062,
          "yanchor": "middle",
          "yref": "paper"
         },
         {
          "font": {},
          "showarrow": false,
          "text": "FR-Bil_SWC_2=17.31999969482422",
          "textangle": 90,
          "x": 0.98,
          "xanchor": "left",
          "xref": "paper",
          "y": 0.8477049180327867,
          "yanchor": "middle",
          "yref": "paper"
         },
         {
          "font": {},
          "showarrow": false,
          "text": "FR-Bil_SWC_2=17.219999313354492",
          "textangle": 90,
          "x": 0.98,
          "xanchor": "left",
          "xref": "paper",
          "y": 0.864262295081967,
          "yanchor": "middle",
          "yref": "paper"
         },
         {
          "font": {},
          "showarrow": false,
          "text": "FR-Bil_SWC_2=17.209999084472656",
          "textangle": 90,
          "x": 0.98,
          "xanchor": "left",
          "xref": "paper",
          "y": 0.8808196721311472,
          "yanchor": "middle",
          "yref": "paper"
         },
         {
          "font": {},
          "showarrow": false,
          "text": "FR-Bil_SWC_2=17.25",
          "textangle": 90,
          "x": 0.98,
          "xanchor": "left",
          "xref": "paper",
          "y": 0.8973770491803275,
          "yanchor": "middle",
          "yref": "paper"
         },
         {
          "font": {},
          "showarrow": false,
          "text": "FR-Bil_SWC_2=17.329999923706055",
          "textangle": 90,
          "x": 0.98,
          "xanchor": "left",
          "xref": "paper",
          "y": 0.9139344262295079,
          "yanchor": "middle",
          "yref": "paper"
         },
         {
          "font": {},
          "showarrow": false,
          "text": "FR-Bil_SWC_2=17.290000915527344",
          "textangle": 90,
          "x": 0.98,
          "xanchor": "left",
          "xref": "paper",
          "y": 0.9304918032786882,
          "yanchor": "middle",
          "yref": "paper"
         },
         {
          "font": {},
          "showarrow": false,
          "text": "FR-Bil_SWC_2=17.239999771118164",
          "textangle": 90,
          "x": 0.98,
          "xanchor": "left",
          "xref": "paper",
          "y": 0.9470491803278684,
          "yanchor": "middle",
          "yref": "paper"
         },
         {
          "font": {},
          "showarrow": false,
          "text": "FR-Bil_SWC_2=17.270000457763672",
          "textangle": 90,
          "x": 0.98,
          "xanchor": "left",
          "xref": "paper",
          "y": 0.9636065573770487,
          "yanchor": "middle",
          "yref": "paper"
         },
         {
          "font": {},
          "showarrow": false,
          "text": "FR-Bil_SWC_2=17.350000381469727",
          "textangle": 90,
          "x": 0.98,
          "xanchor": "left",
          "xref": "paper",
          "y": 0.980163934426229,
          "yanchor": "middle",
          "yref": "paper"
         },
         {
          "font": {},
          "showarrow": false,
          "text": "FR-Bil_SWC_2=17.34000015258789",
          "textangle": 90,
          "x": 0.98,
          "xanchor": "left",
          "xref": "paper",
          "y": 0.9967213114754092,
          "yanchor": "middle",
          "yref": "paper"
         }
        ],
        "height": 400,
        "legend": {
         "title": {
          "text": "jajajaja lak al  alolalla swc"
         },
         "tracegroupgap": 0
        },
        "margin": {
         "t": 60
        },
        "template": {
         "data": {
          "bar": [
           {
            "error_x": {
             "color": "#2a3f5f"
            },
            "error_y": {
             "color": "#2a3f5f"
            },
            "marker": {
             "line": {
              "color": "#E5ECF6",
              "width": 0.5
             },
             "pattern": {
              "fillmode": "overlay",
              "size": 10,
              "solidity": 0.2
             }
            },
            "type": "bar"
           }
          ],
          "barpolar": [
           {
            "marker": {
             "line": {
              "color": "#E5ECF6",
              "width": 0.5
             },
             "pattern": {
              "fillmode": "overlay",
              "size": 10,
              "solidity": 0.2
             }
            },
            "type": "barpolar"
           }
          ],
          "carpet": [
           {
            "aaxis": {
             "endlinecolor": "#2a3f5f",
             "gridcolor": "white",
             "linecolor": "white",
             "minorgridcolor": "white",
             "startlinecolor": "#2a3f5f"
            },
            "baxis": {
             "endlinecolor": "#2a3f5f",
             "gridcolor": "white",
             "linecolor": "white",
             "minorgridcolor": "white",
             "startlinecolor": "#2a3f5f"
            },
            "type": "carpet"
           }
          ],
          "choropleth": [
           {
            "colorbar": {
             "outlinewidth": 0,
             "ticks": ""
            },
            "type": "choropleth"
           }
          ],
          "contour": [
           {
            "colorbar": {
             "outlinewidth": 0,
             "ticks": ""
            },
            "colorscale": [
             [
              0,
              "#0d0887"
             ],
             [
              0.1111111111111111,
              "#46039f"
             ],
             [
              0.2222222222222222,
              "#7201a8"
             ],
             [
              0.3333333333333333,
              "#9c179e"
             ],
             [
              0.4444444444444444,
              "#bd3786"
             ],
             [
              0.5555555555555556,
              "#d8576b"
             ],
             [
              0.6666666666666666,
              "#ed7953"
             ],
             [
              0.7777777777777778,
              "#fb9f3a"
             ],
             [
              0.8888888888888888,
              "#fdca26"
             ],
             [
              1,
              "#f0f921"
             ]
            ],
            "type": "contour"
           }
          ],
          "contourcarpet": [
           {
            "colorbar": {
             "outlinewidth": 0,
             "ticks": ""
            },
            "type": "contourcarpet"
           }
          ],
          "heatmap": [
           {
            "colorbar": {
             "outlinewidth": 0,
             "ticks": ""
            },
            "colorscale": [
             [
              0,
              "#0d0887"
             ],
             [
              0.1111111111111111,
              "#46039f"
             ],
             [
              0.2222222222222222,
              "#7201a8"
             ],
             [
              0.3333333333333333,
              "#9c179e"
             ],
             [
              0.4444444444444444,
              "#bd3786"
             ],
             [
              0.5555555555555556,
              "#d8576b"
             ],
             [
              0.6666666666666666,
              "#ed7953"
             ],
             [
              0.7777777777777778,
              "#fb9f3a"
             ],
             [
              0.8888888888888888,
              "#fdca26"
             ],
             [
              1,
              "#f0f921"
             ]
            ],
            "type": "heatmap"
           }
          ],
          "heatmapgl": [
           {
            "colorbar": {
             "outlinewidth": 0,
             "ticks": ""
            },
            "colorscale": [
             [
              0,
              "#0d0887"
             ],
             [
              0.1111111111111111,
              "#46039f"
             ],
             [
              0.2222222222222222,
              "#7201a8"
             ],
             [
              0.3333333333333333,
              "#9c179e"
             ],
             [
              0.4444444444444444,
              "#bd3786"
             ],
             [
              0.5555555555555556,
              "#d8576b"
             ],
             [
              0.6666666666666666,
              "#ed7953"
             ],
             [
              0.7777777777777778,
              "#fb9f3a"
             ],
             [
              0.8888888888888888,
              "#fdca26"
             ],
             [
              1,
              "#f0f921"
             ]
            ],
            "type": "heatmapgl"
           }
          ],
          "histogram": [
           {
            "marker": {
             "pattern": {
              "fillmode": "overlay",
              "size": 10,
              "solidity": 0.2
             }
            },
            "type": "histogram"
           }
          ],
          "histogram2d": [
           {
            "colorbar": {
             "outlinewidth": 0,
             "ticks": ""
            },
            "colorscale": [
             [
              0,
              "#0d0887"
             ],
             [
              0.1111111111111111,
              "#46039f"
             ],
             [
              0.2222222222222222,
              "#7201a8"
             ],
             [
              0.3333333333333333,
              "#9c179e"
             ],
             [
              0.4444444444444444,
              "#bd3786"
             ],
             [
              0.5555555555555556,
              "#d8576b"
             ],
             [
              0.6666666666666666,
              "#ed7953"
             ],
             [
              0.7777777777777778,
              "#fb9f3a"
             ],
             [
              0.8888888888888888,
              "#fdca26"
             ],
             [
              1,
              "#f0f921"
             ]
            ],
            "type": "histogram2d"
           }
          ],
          "histogram2dcontour": [
           {
            "colorbar": {
             "outlinewidth": 0,
             "ticks": ""
            },
            "colorscale": [
             [
              0,
              "#0d0887"
             ],
             [
              0.1111111111111111,
              "#46039f"
             ],
             [
              0.2222222222222222,
              "#7201a8"
             ],
             [
              0.3333333333333333,
              "#9c179e"
             ],
             [
              0.4444444444444444,
              "#bd3786"
             ],
             [
              0.5555555555555556,
              "#d8576b"
             ],
             [
              0.6666666666666666,
              "#ed7953"
             ],
             [
              0.7777777777777778,
              "#fb9f3a"
             ],
             [
              0.8888888888888888,
              "#fdca26"
             ],
             [
              1,
              "#f0f921"
             ]
            ],
            "type": "histogram2dcontour"
           }
          ],
          "mesh3d": [
           {
            "colorbar": {
             "outlinewidth": 0,
             "ticks": ""
            },
            "type": "mesh3d"
           }
          ],
          "parcoords": [
           {
            "line": {
             "colorbar": {
              "outlinewidth": 0,
              "ticks": ""
             }
            },
            "type": "parcoords"
           }
          ],
          "pie": [
           {
            "automargin": true,
            "type": "pie"
           }
          ],
          "scatter": [
           {
            "fillpattern": {
             "fillmode": "overlay",
             "size": 10,
             "solidity": 0.2
            },
            "type": "scatter"
           }
          ],
          "scatter3d": [
           {
            "line": {
             "colorbar": {
              "outlinewidth": 0,
              "ticks": ""
             }
            },
            "marker": {
             "colorbar": {
              "outlinewidth": 0,
              "ticks": ""
             }
            },
            "type": "scatter3d"
           }
          ],
          "scattercarpet": [
           {
            "marker": {
             "colorbar": {
              "outlinewidth": 0,
              "ticks": ""
             }
            },
            "type": "scattercarpet"
           }
          ],
          "scattergeo": [
           {
            "marker": {
             "colorbar": {
              "outlinewidth": 0,
              "ticks": ""
             }
            },
            "type": "scattergeo"
           }
          ],
          "scattergl": [
           {
            "marker": {
             "colorbar": {
              "outlinewidth": 0,
              "ticks": ""
             }
            },
            "type": "scattergl"
           }
          ],
          "scattermapbox": [
           {
            "marker": {
             "colorbar": {
              "outlinewidth": 0,
              "ticks": ""
             }
            },
            "type": "scattermapbox"
           }
          ],
          "scatterpolar": [
           {
            "marker": {
             "colorbar": {
              "outlinewidth": 0,
              "ticks": ""
             }
            },
            "type": "scatterpolar"
           }
          ],
          "scatterpolargl": [
           {
            "marker": {
             "colorbar": {
              "outlinewidth": 0,
              "ticks": ""
             }
            },
            "type": "scatterpolargl"
           }
          ],
          "scatterternary": [
           {
            "marker": {
             "colorbar": {
              "outlinewidth": 0,
              "ticks": ""
             }
            },
            "type": "scatterternary"
           }
          ],
          "surface": [
           {
            "colorbar": {
             "outlinewidth": 0,
             "ticks": ""
            },
            "colorscale": [
             [
              0,
              "#0d0887"
             ],
             [
              0.1111111111111111,
              "#46039f"
             ],
             [
              0.2222222222222222,
              "#7201a8"
             ],
             [
              0.3333333333333333,
              "#9c179e"
             ],
             [
              0.4444444444444444,
              "#bd3786"
             ],
             [
              0.5555555555555556,
              "#d8576b"
             ],
             [
              0.6666666666666666,
              "#ed7953"
             ],
             [
              0.7777777777777778,
              "#fb9f3a"
             ],
             [
              0.8888888888888888,
              "#fdca26"
             ],
             [
              1,
              "#f0f921"
             ]
            ],
            "type": "surface"
           }
          ],
          "table": [
           {
            "cells": {
             "fill": {
              "color": "#EBF0F8"
             },
             "line": {
              "color": "white"
             }
            },
            "header": {
             "fill": {
              "color": "#C8D4E3"
             },
             "line": {
              "color": "white"
             }
            },
            "type": "table"
           }
          ]
         },
         "layout": {
          "annotationdefaults": {
           "arrowcolor": "#2a3f5f",
           "arrowhead": 0,
           "arrowwidth": 1
          },
          "autotypenumbers": "strict",
          "coloraxis": {
           "colorbar": {
            "outlinewidth": 0,
            "ticks": ""
           }
          },
          "colorscale": {
           "diverging": [
            [
             0,
             "#8e0152"
            ],
            [
             0.1,
             "#c51b7d"
            ],
            [
             0.2,
             "#de77ae"
            ],
            [
             0.3,
             "#f1b6da"
            ],
            [
             0.4,
             "#fde0ef"
            ],
            [
             0.5,
             "#f7f7f7"
            ],
            [
             0.6,
             "#e6f5d0"
            ],
            [
             0.7,
             "#b8e186"
            ],
            [
             0.8,
             "#7fbc41"
            ],
            [
             0.9,
             "#4d9221"
            ],
            [
             1,
             "#276419"
            ]
           ],
           "sequential": [
            [
             0,
             "#0d0887"
            ],
            [
             0.1111111111111111,
             "#46039f"
            ],
            [
             0.2222222222222222,
             "#7201a8"
            ],
            [
             0.3333333333333333,
             "#9c179e"
            ],
            [
             0.4444444444444444,
             "#bd3786"
            ],
            [
             0.5555555555555556,
             "#d8576b"
            ],
            [
             0.6666666666666666,
             "#ed7953"
            ],
            [
             0.7777777777777778,
             "#fb9f3a"
            ],
            [
             0.8888888888888888,
             "#fdca26"
            ],
            [
             1,
             "#f0f921"
            ]
           ],
           "sequentialminus": [
            [
             0,
             "#0d0887"
            ],
            [
             0.1111111111111111,
             "#46039f"
            ],
            [
             0.2222222222222222,
             "#7201a8"
            ],
            [
             0.3333333333333333,
             "#9c179e"
            ],
            [
             0.4444444444444444,
             "#bd3786"
            ],
            [
             0.5555555555555556,
             "#d8576b"
            ],
            [
             0.6666666666666666,
             "#ed7953"
            ],
            [
             0.7777777777777778,
             "#fb9f3a"
            ],
            [
             0.8888888888888888,
             "#fdca26"
            ],
            [
             1,
             "#f0f921"
            ]
           ]
          },
          "colorway": [
           "#636efa",
           "#EF553B",
           "#00cc96",
           "#ab63fa",
           "#FFA15A",
           "#19d3f3",
           "#FF6692",
           "#B6E880",
           "#FF97FF",
           "#FECB52"
          ],
          "font": {
           "color": "#2a3f5f"
          },
          "geo": {
           "bgcolor": "white",
           "lakecolor": "white",
           "landcolor": "#E5ECF6",
           "showlakes": true,
           "showland": true,
           "subunitcolor": "white"
          },
          "hoverlabel": {
           "align": "left"
          },
          "hovermode": "closest",
          "mapbox": {
           "style": "light"
          },
          "paper_bgcolor": "white",
          "plot_bgcolor": "#E5ECF6",
          "polar": {
           "angularaxis": {
            "gridcolor": "white",
            "linecolor": "white",
            "ticks": ""
           },
           "bgcolor": "#E5ECF6",
           "radialaxis": {
            "gridcolor": "white",
            "linecolor": "white",
            "ticks": ""
           }
          },
          "scene": {
           "xaxis": {
            "backgroundcolor": "#E5ECF6",
            "gridcolor": "white",
            "gridwidth": 2,
            "linecolor": "white",
            "showbackground": true,
            "ticks": "",
            "zerolinecolor": "white"
           },
           "yaxis": {
            "backgroundcolor": "#E5ECF6",
            "gridcolor": "white",
            "gridwidth": 2,
            "linecolor": "white",
            "showbackground": true,
            "ticks": "",
            "zerolinecolor": "white"
           },
           "zaxis": {
            "backgroundcolor": "#E5ECF6",
            "gridcolor": "white",
            "gridwidth": 2,
            "linecolor": "white",
            "showbackground": true,
            "ticks": "",
            "zerolinecolor": "white"
           }
          },
          "shapedefaults": {
           "line": {
            "color": "#2a3f5f"
           }
          },
          "ternary": {
           "aaxis": {
            "gridcolor": "white",
            "linecolor": "white",
            "ticks": ""
           },
           "baxis": {
            "gridcolor": "white",
            "linecolor": "white",
            "ticks": ""
           },
           "bgcolor": "#E5ECF6",
           "caxis": {
            "gridcolor": "white",
            "linecolor": "white",
            "ticks": ""
           }
          },
          "title": {
           "x": 0.05
          },
          "xaxis": {
           "automargin": true,
           "gridcolor": "white",
           "linecolor": "white",
           "ticks": "",
           "title": {
            "standoff": 15
           },
           "zerolinecolor": "white",
           "zerolinewidth": 2
          },
          "yaxis": {
           "automargin": true,
           "gridcolor": "white",
           "linecolor": "white",
           "ticks": "",
           "title": {
            "standoff": 15
           },
           "zerolinecolor": "white",
           "zerolinewidth": 2
          }
         }
        },
        "width": 800,
        "xaxis": {
         "anchor": "y",
         "autorange": true,
         "domain": [
          0,
          0.98
         ],
         "range": [
          "2023-03-08",
          "2023-03-09 23:30"
         ],
         "title": {
          "text": "TIMESTAMP"
         },
         "type": "date"
        },
        "xaxis10": {
         "anchor": "y10",
         "autorange": true,
         "domain": [
          0,
          0.98
         ],
         "matches": "x",
         "range": [
          "2023-03-08",
          "2023-03-09 23:30"
         ],
         "showticklabels": false,
         "type": "date"
        },
        "xaxis11": {
         "anchor": "y11",
         "autorange": true,
         "domain": [
          0,
          0.98
         ],
         "matches": "x",
         "range": [
          "2023-03-08",
          "2023-03-09 23:30"
         ],
         "showticklabels": false,
         "type": "date"
        },
        "xaxis12": {
         "anchor": "y12",
         "autorange": true,
         "domain": [
          0,
          0.98
         ],
         "matches": "x",
         "range": [
          "2023-03-08",
          "2023-03-09 23:30"
         ],
         "showticklabels": false,
         "type": "date"
        },
        "xaxis13": {
         "anchor": "y13",
         "autorange": true,
         "domain": [
          0,
          0.98
         ],
         "matches": "x",
         "range": [
          "2023-03-08",
          "2023-03-09 23:30"
         ],
         "showticklabels": false,
         "type": "date"
        },
        "xaxis14": {
         "anchor": "y14",
         "autorange": true,
         "domain": [
          0,
          0.98
         ],
         "matches": "x",
         "range": [
          "2023-03-08",
          "2023-03-09 23:30"
         ],
         "showticklabels": false,
         "type": "date"
        },
        "xaxis15": {
         "anchor": "y15",
         "autorange": true,
         "domain": [
          0,
          0.98
         ],
         "matches": "x",
         "range": [
          "2023-03-08",
          "2023-03-09 23:30"
         ],
         "showticklabels": false,
         "type": "date"
        },
        "xaxis16": {
         "anchor": "y16",
         "autorange": true,
         "domain": [
          0,
          0.98
         ],
         "matches": "x",
         "range": [
          "2023-03-08",
          "2023-03-09 23:30"
         ],
         "showticklabels": false,
         "type": "date"
        },
        "xaxis17": {
         "anchor": "y17",
         "autorange": true,
         "domain": [
          0,
          0.98
         ],
         "matches": "x",
         "range": [
          "2023-03-08",
          "2023-03-09 23:30"
         ],
         "showticklabels": false,
         "type": "date"
        },
        "xaxis18": {
         "anchor": "y18",
         "autorange": true,
         "domain": [
          0,
          0.98
         ],
         "matches": "x",
         "range": [
          "2023-03-08",
          "2023-03-09 23:30"
         ],
         "showticklabels": false,
         "type": "date"
        },
        "xaxis19": {
         "anchor": "y19",
         "autorange": true,
         "domain": [
          0,
          0.98
         ],
         "matches": "x",
         "range": [
          "2023-03-08",
          "2023-03-09 23:30"
         ],
         "showticklabels": false,
         "type": "date"
        },
        "xaxis2": {
         "anchor": "y2",
         "autorange": true,
         "domain": [
          0,
          0.98
         ],
         "matches": "x",
         "range": [
          "2023-03-08",
          "2023-03-09 23:30"
         ],
         "showticklabels": false,
         "type": "date"
        },
        "xaxis20": {
         "anchor": "y20",
         "autorange": true,
         "domain": [
          0,
          0.98
         ],
         "matches": "x",
         "range": [
          "2023-03-08",
          "2023-03-09 23:30"
         ],
         "showticklabels": false,
         "type": "date"
        },
        "xaxis21": {
         "anchor": "y21",
         "autorange": true,
         "domain": [
          0,
          0.98
         ],
         "matches": "x",
         "range": [
          "2023-03-08",
          "2023-03-09 23:30"
         ],
         "showticklabels": false,
         "type": "date"
        },
        "xaxis22": {
         "anchor": "y22",
         "autorange": true,
         "domain": [
          0,
          0.98
         ],
         "matches": "x",
         "range": [
          "2023-03-08",
          "2023-03-09 23:30"
         ],
         "showticklabels": false,
         "type": "date"
        },
        "xaxis23": {
         "anchor": "y23",
         "autorange": true,
         "domain": [
          0,
          0.98
         ],
         "matches": "x",
         "range": [
          "2023-03-08",
          "2023-03-09 23:30"
         ],
         "showticklabels": false,
         "type": "date"
        },
        "xaxis24": {
         "anchor": "y24",
         "autorange": true,
         "domain": [
          0,
          0.98
         ],
         "matches": "x",
         "range": [
          "2023-03-08",
          "2023-03-09 23:30"
         ],
         "showticklabels": false,
         "type": "date"
        },
        "xaxis25": {
         "anchor": "y25",
         "autorange": true,
         "domain": [
          0,
          0.98
         ],
         "matches": "x",
         "range": [
          "2023-03-08",
          "2023-03-09 23:30"
         ],
         "showticklabels": false,
         "type": "date"
        },
        "xaxis26": {
         "anchor": "y26",
         "autorange": true,
         "domain": [
          0,
          0.98
         ],
         "matches": "x",
         "range": [
          "2023-03-08",
          "2023-03-09 23:30"
         ],
         "showticklabels": false,
         "type": "date"
        },
        "xaxis27": {
         "anchor": "y27",
         "autorange": true,
         "domain": [
          0,
          0.98
         ],
         "matches": "x",
         "range": [
          "2023-03-08",
          "2023-03-09 23:30"
         ],
         "showticklabels": false,
         "type": "date"
        },
        "xaxis28": {
         "anchor": "y28",
         "autorange": true,
         "domain": [
          0,
          0.98
         ],
         "matches": "x",
         "range": [
          "2023-03-08",
          "2023-03-09 23:30"
         ],
         "showticklabels": false,
         "type": "date"
        },
        "xaxis29": {
         "anchor": "y29",
         "autorange": true,
         "domain": [
          0,
          0.98
         ],
         "matches": "x",
         "range": [
          "2023-03-08",
          "2023-03-09 23:30"
         ],
         "showticklabels": false,
         "type": "date"
        },
        "xaxis3": {
         "anchor": "y3",
         "autorange": true,
         "domain": [
          0,
          0.98
         ],
         "matches": "x",
         "range": [
          "2023-03-08",
          "2023-03-09 23:30"
         ],
         "showticklabels": false,
         "type": "date"
        },
        "xaxis30": {
         "anchor": "y30",
         "autorange": true,
         "domain": [
          0,
          0.98
         ],
         "matches": "x",
         "range": [
          "2023-03-08",
          "2023-03-09 23:30"
         ],
         "showticklabels": false,
         "type": "date"
        },
        "xaxis31": {
         "anchor": "y31",
         "autorange": true,
         "domain": [
          0,
          0.98
         ],
         "matches": "x",
         "range": [
          "2023-03-08",
          "2023-03-09 23:30"
         ],
         "showticklabels": false,
         "type": "date"
        },
        "xaxis32": {
         "anchor": "y32",
         "autorange": true,
         "domain": [
          0,
          0.98
         ],
         "matches": "x",
         "range": [
          "2023-03-08",
          "2023-03-09 23:30"
         ],
         "showticklabels": false,
         "type": "date"
        },
        "xaxis33": {
         "anchor": "y33",
         "autorange": true,
         "domain": [
          0,
          0.98
         ],
         "matches": "x",
         "range": [
          "2023-03-08",
          "2023-03-09 23:30"
         ],
         "showticklabels": false,
         "type": "date"
        },
        "xaxis34": {
         "anchor": "y34",
         "autorange": true,
         "domain": [
          0,
          0.98
         ],
         "matches": "x",
         "range": [
          "2023-03-08",
          "2023-03-09 23:30"
         ],
         "showticklabels": false,
         "type": "date"
        },
        "xaxis35": {
         "anchor": "y35",
         "autorange": true,
         "domain": [
          0,
          0.98
         ],
         "matches": "x",
         "range": [
          "2023-03-08",
          "2023-03-09 23:30"
         ],
         "showticklabels": false,
         "type": "date"
        },
        "xaxis36": {
         "anchor": "y36",
         "autorange": true,
         "domain": [
          0,
          0.98
         ],
         "matches": "x",
         "range": [
          "2023-03-08",
          "2023-03-09 23:30"
         ],
         "showticklabels": false,
         "type": "date"
        },
        "xaxis37": {
         "anchor": "y37",
         "autorange": true,
         "domain": [
          0,
          0.98
         ],
         "matches": "x",
         "range": [
          "2023-03-08",
          "2023-03-09 23:30"
         ],
         "showticklabels": false,
         "type": "date"
        },
        "xaxis38": {
         "anchor": "y38",
         "autorange": true,
         "domain": [
          0,
          0.98
         ],
         "matches": "x",
         "range": [
          "2023-03-08",
          "2023-03-09 23:30"
         ],
         "showticklabels": false,
         "type": "date"
        },
        "xaxis39": {
         "anchor": "y39",
         "autorange": true,
         "domain": [
          0,
          0.98
         ],
         "matches": "x",
         "range": [
          "2023-03-08",
          "2023-03-09 23:30"
         ],
         "showticklabels": false,
         "type": "date"
        },
        "xaxis4": {
         "anchor": "y4",
         "autorange": true,
         "domain": [
          0,
          0.98
         ],
         "matches": "x",
         "range": [
          "2023-03-08",
          "2023-03-09 23:30"
         ],
         "showticklabels": false,
         "type": "date"
        },
        "xaxis40": {
         "anchor": "y40",
         "autorange": true,
         "domain": [
          0,
          0.98
         ],
         "matches": "x",
         "range": [
          "2023-03-08",
          "2023-03-09 23:30"
         ],
         "showticklabels": false,
         "type": "date"
        },
        "xaxis41": {
         "anchor": "y41",
         "autorange": true,
         "domain": [
          0,
          0.98
         ],
         "matches": "x",
         "range": [
          "2023-03-08",
          "2023-03-09 23:30"
         ],
         "showticklabels": false,
         "type": "date"
        },
        "xaxis42": {
         "anchor": "y42",
         "autorange": true,
         "domain": [
          0,
          0.98
         ],
         "matches": "x",
         "range": [
          "2023-03-08",
          "2023-03-09 23:30"
         ],
         "showticklabels": false,
         "type": "date"
        },
        "xaxis43": {
         "anchor": "y43",
         "autorange": true,
         "domain": [
          0,
          0.98
         ],
         "matches": "x",
         "range": [
          "2023-03-08",
          "2023-03-09 23:30"
         ],
         "showticklabels": false,
         "type": "date"
        },
        "xaxis44": {
         "anchor": "y44",
         "autorange": true,
         "domain": [
          0,
          0.98
         ],
         "matches": "x",
         "range": [
          "2023-03-08",
          "2023-03-09 23:30"
         ],
         "showticklabels": false,
         "type": "date"
        },
        "xaxis45": {
         "anchor": "y45",
         "autorange": true,
         "domain": [
          0,
          0.98
         ],
         "matches": "x",
         "range": [
          "2023-03-08",
          "2023-03-09 23:30"
         ],
         "showticklabels": false,
         "type": "date"
        },
        "xaxis46": {
         "anchor": "y46",
         "autorange": true,
         "domain": [
          0,
          0.98
         ],
         "matches": "x",
         "range": [
          "2023-03-08",
          "2023-03-09 23:30"
         ],
         "showticklabels": false,
         "type": "date"
        },
        "xaxis47": {
         "anchor": "y47",
         "autorange": true,
         "domain": [
          0,
          0.98
         ],
         "matches": "x",
         "range": [
          "2023-03-08",
          "2023-03-09 23:30"
         ],
         "showticklabels": false,
         "type": "date"
        },
        "xaxis48": {
         "anchor": "y48",
         "autorange": true,
         "domain": [
          0,
          0.98
         ],
         "matches": "x",
         "range": [
          "2023-03-08",
          "2023-03-09 23:30"
         ],
         "showticklabels": false,
         "type": "date"
        },
        "xaxis49": {
         "anchor": "y49",
         "autorange": true,
         "domain": [
          0,
          0.98
         ],
         "matches": "x",
         "range": [
          "2023-03-08",
          "2023-03-09 23:30"
         ],
         "showticklabels": false,
         "type": "date"
        },
        "xaxis5": {
         "anchor": "y5",
         "autorange": true,
         "domain": [
          0,
          0.98
         ],
         "matches": "x",
         "range": [
          "2023-03-08",
          "2023-03-09 23:30"
         ],
         "showticklabels": false,
         "type": "date"
        },
        "xaxis50": {
         "anchor": "y50",
         "autorange": true,
         "domain": [
          0,
          0.98
         ],
         "matches": "x",
         "range": [
          "2023-03-08",
          "2023-03-09 23:30"
         ],
         "showticklabels": false,
         "type": "date"
        },
        "xaxis51": {
         "anchor": "y51",
         "autorange": true,
         "domain": [
          0,
          0.98
         ],
         "matches": "x",
         "range": [
          "2023-03-08",
          "2023-03-09 23:30"
         ],
         "showticklabels": false,
         "type": "date"
        },
        "xaxis52": {
         "anchor": "y52",
         "autorange": true,
         "domain": [
          0,
          0.98
         ],
         "matches": "x",
         "range": [
          "2023-03-08",
          "2023-03-09 23:30"
         ],
         "showticklabels": false,
         "type": "date"
        },
        "xaxis53": {
         "anchor": "y53",
         "autorange": true,
         "domain": [
          0,
          0.98
         ],
         "matches": "x",
         "range": [
          "2023-03-08",
          "2023-03-09 23:30"
         ],
         "showticklabels": false,
         "type": "date"
        },
        "xaxis54": {
         "anchor": "y54",
         "autorange": true,
         "domain": [
          0,
          0.98
         ],
         "matches": "x",
         "range": [
          "2023-03-08",
          "2023-03-09 23:30"
         ],
         "showticklabels": false,
         "type": "date"
        },
        "xaxis55": {
         "anchor": "y55",
         "autorange": true,
         "domain": [
          0,
          0.98
         ],
         "matches": "x",
         "range": [
          "2023-03-08",
          "2023-03-09 23:30"
         ],
         "showticklabels": false,
         "type": "date"
        },
        "xaxis56": {
         "anchor": "y56",
         "autorange": true,
         "domain": [
          0,
          0.98
         ],
         "matches": "x",
         "range": [
          "2023-03-08",
          "2023-03-09 23:30"
         ],
         "showticklabels": false,
         "type": "date"
        },
        "xaxis57": {
         "anchor": "y57",
         "autorange": true,
         "domain": [
          0,
          0.98
         ],
         "matches": "x",
         "range": [
          "2023-03-08",
          "2023-03-09 23:30"
         ],
         "showticklabels": false,
         "type": "date"
        },
        "xaxis58": {
         "anchor": "y58",
         "autorange": true,
         "domain": [
          0,
          0.98
         ],
         "matches": "x",
         "range": [
          "2023-03-08",
          "2023-03-09 23:30"
         ],
         "showticklabels": false,
         "type": "date"
        },
        "xaxis59": {
         "anchor": "y59",
         "autorange": true,
         "domain": [
          0,
          0.98
         ],
         "matches": "x",
         "range": [
          "2023-03-08",
          "2023-03-09 23:30"
         ],
         "showticklabels": false,
         "type": "date"
        },
        "xaxis6": {
         "anchor": "y6",
         "autorange": true,
         "domain": [
          0,
          0.98
         ],
         "matches": "x",
         "range": [
          "2023-03-08",
          "2023-03-09 23:30"
         ],
         "showticklabels": false,
         "type": "date"
        },
        "xaxis60": {
         "anchor": "y60",
         "autorange": true,
         "domain": [
          0,
          0.98
         ],
         "matches": "x",
         "range": [
          "2023-03-08",
          "2023-03-09 23:30"
         ],
         "showticklabels": false,
         "type": "date"
        },
        "xaxis61": {
         "anchor": "y61",
         "autorange": true,
         "domain": [
          0,
          0.98
         ],
         "matches": "x",
         "range": [
          "2023-03-08",
          "2023-03-09 23:30"
         ],
         "showticklabels": false,
         "type": "date"
        },
        "xaxis7": {
         "anchor": "y7",
         "autorange": true,
         "domain": [
          0,
          0.98
         ],
         "matches": "x",
         "range": [
          "2023-03-08",
          "2023-03-09 23:30"
         ],
         "showticklabels": false,
         "type": "date"
        },
        "xaxis8": {
         "anchor": "y8",
         "autorange": true,
         "domain": [
          0,
          0.98
         ],
         "matches": "x",
         "range": [
          "2023-03-08",
          "2023-03-09 23:30"
         ],
         "showticklabels": false,
         "type": "date"
        },
        "xaxis9": {
         "anchor": "y9",
         "autorange": true,
         "domain": [
          0,
          0.98
         ],
         "matches": "x",
         "range": [
          "2023-03-08",
          "2023-03-09 23:30"
         ],
         "showticklabels": false,
         "type": "date"
        },
        "yaxis": {
         "anchor": "x",
         "autorange": true,
         "domain": [
          0,
          0.006557377049180329
         ],
         "range": [
          9.793333795335558,
          19.326667043897842
         ],
         "title": {
          "text": "value"
         },
         "type": "linear"
        },
        "yaxis10": {
         "anchor": "x10",
         "autorange": true,
         "domain": [
          0.14901639344262296,
          0.1555737704918033
         ],
         "matches": "y",
         "range": [
          9.793333795335558,
          19.326667043897842
         ],
         "title": {
          "text": "value"
         },
         "type": "linear"
        },
        "yaxis11": {
         "anchor": "x11",
         "autorange": true,
         "domain": [
          0.16557377049180327,
          0.1721311475409836
         ],
         "matches": "y",
         "range": [
          9.793333795335558,
          19.326667043897842
         ],
         "title": {
          "text": "value"
         },
         "type": "linear"
        },
        "yaxis12": {
         "anchor": "x12",
         "autorange": true,
         "domain": [
          0.1821311475409836,
          0.18868852459016394
         ],
         "matches": "y",
         "range": [
          9.793333795335558,
          19.326667043897842
         ],
         "title": {
          "text": "value"
         },
         "type": "linear"
        },
        "yaxis13": {
         "anchor": "x13",
         "autorange": true,
         "domain": [
          0.19868852459016395,
          0.20524590163934428
         ],
         "matches": "y",
         "range": [
          9.793333795335558,
          19.326667043897842
         ],
         "title": {
          "text": "value"
         },
         "type": "linear"
        },
        "yaxis14": {
         "anchor": "x14",
         "autorange": true,
         "domain": [
          0.21524590163934426,
          0.2218032786885246
         ],
         "matches": "y",
         "range": [
          9.793333795335558,
          19.326667043897842
         ],
         "title": {
          "text": "value"
         },
         "type": "linear"
        },
        "yaxis15": {
         "anchor": "x15",
         "autorange": true,
         "domain": [
          0.23180327868852463,
          0.23836065573770496
         ],
         "matches": "y",
         "range": [
          9.793333795335558,
          19.326667043897842
         ],
         "title": {
          "text": "value"
         },
         "type": "linear"
        },
        "yaxis16": {
         "anchor": "x16",
         "autorange": true,
         "domain": [
          0.24836065573770494,
          0.25491803278688524
         ],
         "matches": "y",
         "range": [
          9.793333795335558,
          19.326667043897842
         ],
         "title": {
          "text": "value"
         },
         "type": "linear"
        },
        "yaxis17": {
         "anchor": "x17",
         "autorange": true,
         "domain": [
          0.26491803278688525,
          0.27147540983606555
         ],
         "matches": "y",
         "range": [
          9.793333795335558,
          19.326667043897842
         ],
         "title": {
          "text": "value"
         },
         "type": "linear"
        },
        "yaxis18": {
         "anchor": "x18",
         "autorange": true,
         "domain": [
          0.2814754098360656,
          0.2880327868852459
         ],
         "matches": "y",
         "range": [
          9.793333795335558,
          19.326667043897842
         ],
         "title": {
          "text": "value"
         },
         "type": "linear"
        },
        "yaxis19": {
         "anchor": "x19",
         "autorange": true,
         "domain": [
          0.2980327868852459,
          0.30459016393442623
         ],
         "matches": "y",
         "range": [
          9.793333795335558,
          19.326667043897842
         ],
         "title": {
          "text": "value"
         },
         "type": "linear"
        },
        "yaxis2": {
         "anchor": "x2",
         "autorange": true,
         "domain": [
          0.016557377049180328,
          0.023114754098360658
         ],
         "matches": "y",
         "range": [
          9.793333795335558,
          19.326667043897842
         ],
         "title": {
          "text": "value"
         },
         "type": "linear"
        },
        "yaxis20": {
         "anchor": "x20",
         "autorange": true,
         "domain": [
          0.31459016393442624,
          0.32114754098360654
         ],
         "matches": "y",
         "range": [
          9.793333795335558,
          19.326667043897842
         ],
         "title": {
          "text": "value"
         },
         "type": "linear"
        },
        "yaxis21": {
         "anchor": "x21",
         "autorange": true,
         "domain": [
          0.33114754098360655,
          0.33770491803278685
         ],
         "matches": "y",
         "range": [
          9.793333795335558,
          19.326667043897842
         ],
         "title": {
          "text": "value"
         },
         "type": "linear"
        },
        "yaxis22": {
         "anchor": "x22",
         "autorange": true,
         "domain": [
          0.3477049180327869,
          0.3542622950819672
         ],
         "matches": "y",
         "range": [
          9.793333795335558,
          19.326667043897842
         ],
         "title": {
          "text": "value"
         },
         "type": "linear"
        },
        "yaxis23": {
         "anchor": "x23",
         "autorange": true,
         "domain": [
          0.3642622950819672,
          0.3708196721311475
         ],
         "matches": "y",
         "range": [
          9.793333795335558,
          19.326667043897842
         ],
         "title": {
          "text": "value"
         },
         "type": "linear"
        },
        "yaxis24": {
         "anchor": "x24",
         "autorange": true,
         "domain": [
          0.38081967213114754,
          0.38737704918032784
         ],
         "matches": "y",
         "range": [
          9.793333795335558,
          19.326667043897842
         ],
         "title": {
          "text": "value"
         },
         "type": "linear"
        },
        "yaxis25": {
         "anchor": "x25",
         "autorange": true,
         "domain": [
          0.3973770491803279,
          0.4039344262295082
         ],
         "matches": "y",
         "range": [
          9.793333795335558,
          19.326667043897842
         ],
         "title": {
          "text": "value"
         },
         "type": "linear"
        },
        "yaxis26": {
         "anchor": "x26",
         "autorange": true,
         "domain": [
          0.4139344262295082,
          0.4204918032786885
         ],
         "matches": "y",
         "range": [
          9.793333795335558,
          19.326667043897842
         ],
         "title": {
          "text": "value"
         },
         "type": "linear"
        },
        "yaxis27": {
         "anchor": "x27",
         "autorange": true,
         "domain": [
          0.4304918032786885,
          0.4370491803278688
         ],
         "matches": "y",
         "range": [
          9.793333795335558,
          19.326667043897842
         ],
         "title": {
          "text": "value"
         },
         "type": "linear"
        },
        "yaxis28": {
         "anchor": "x28",
         "autorange": true,
         "domain": [
          0.4470491803278689,
          0.4536065573770492
         ],
         "matches": "y",
         "range": [
          9.793333795335558,
          19.326667043897842
         ],
         "title": {
          "text": "value"
         },
         "type": "linear"
        },
        "yaxis29": {
         "anchor": "x29",
         "autorange": true,
         "domain": [
          0.46360655737704926,
          0.47016393442622956
         ],
         "matches": "y",
         "range": [
          9.793333795335558,
          19.326667043897842
         ],
         "title": {
          "text": "value"
         },
         "type": "linear"
        },
        "yaxis3": {
         "anchor": "x3",
         "autorange": true,
         "domain": [
          0.033114754098360656,
          0.039672131147540986
         ],
         "matches": "y",
         "range": [
          9.793333795335558,
          19.326667043897842
         ],
         "title": {
          "text": "value"
         },
         "type": "linear"
        },
        "yaxis30": {
         "anchor": "x30",
         "autorange": true,
         "domain": [
          0.4801639344262295,
          0.4867213114754098
         ],
         "matches": "y",
         "range": [
          9.793333795335558,
          19.326667043897842
         ],
         "title": {
          "text": "value"
         },
         "type": "linear"
        },
        "yaxis31": {
         "anchor": "x31",
         "autorange": true,
         "domain": [
          0.4967213114754099,
          0.5032786885245902
         ],
         "matches": "y",
         "range": [
          9.793333795335558,
          19.326667043897842
         ],
         "title": {
          "text": "value"
         },
         "type": "linear"
        },
        "yaxis32": {
         "anchor": "x32",
         "autorange": true,
         "domain": [
          0.5132786885245901,
          0.5198360655737705
         ],
         "matches": "y",
         "range": [
          9.793333795335558,
          19.326667043897842
         ],
         "title": {
          "text": "value"
         },
         "type": "linear"
        },
        "yaxis33": {
         "anchor": "x33",
         "autorange": true,
         "domain": [
          0.5298360655737705,
          0.5363934426229509
         ],
         "matches": "y",
         "range": [
          9.793333795335558,
          19.326667043897842
         ],
         "title": {
          "text": "value"
         },
         "type": "linear"
        },
        "yaxis34": {
         "anchor": "x34",
         "autorange": true,
         "domain": [
          0.5463934426229509,
          0.5529508196721312
         ],
         "matches": "y",
         "range": [
          9.793333795335558,
          19.326667043897842
         ],
         "title": {
          "text": "value"
         },
         "type": "linear"
        },
        "yaxis35": {
         "anchor": "x35",
         "autorange": true,
         "domain": [
          0.5629508196721312,
          0.5695081967213116
         ],
         "matches": "y",
         "range": [
          9.793333795335558,
          19.326667043897842
         ],
         "title": {
          "text": "value"
         },
         "type": "linear"
        },
        "yaxis36": {
         "anchor": "x36",
         "autorange": true,
         "domain": [
          0.5795081967213116,
          0.586065573770492
         ],
         "matches": "y",
         "range": [
          9.793333795335558,
          19.326667043897842
         ],
         "title": {
          "text": "value"
         },
         "type": "linear"
        },
        "yaxis37": {
         "anchor": "x37",
         "autorange": true,
         "domain": [
          0.5960655737704919,
          0.6026229508196722
         ],
         "matches": "y",
         "range": [
          9.793333795335558,
          19.326667043897842
         ],
         "title": {
          "text": "value"
         },
         "type": "linear"
        },
        "yaxis38": {
         "anchor": "x38",
         "autorange": true,
         "domain": [
          0.6126229508196721,
          0.6191803278688525
         ],
         "matches": "y",
         "range": [
          9.793333795335558,
          19.326667043897842
         ],
         "title": {
          "text": "value"
         },
         "type": "linear"
        },
        "yaxis39": {
         "anchor": "x39",
         "autorange": true,
         "domain": [
          0.6291803278688525,
          0.6357377049180328
         ],
         "matches": "y",
         "range": [
          9.793333795335558,
          19.326667043897842
         ],
         "title": {
          "text": "value"
         },
         "type": "linear"
        },
        "yaxis4": {
         "anchor": "x4",
         "autorange": true,
         "domain": [
          0.04967213114754099,
          0.05622950819672132
         ],
         "matches": "y",
         "range": [
          9.793333795335558,
          19.326667043897842
         ],
         "title": {
          "text": "value"
         },
         "type": "linear"
        },
        "yaxis40": {
         "anchor": "x40",
         "autorange": true,
         "domain": [
          0.6457377049180328,
          0.6522950819672132
         ],
         "matches": "y",
         "range": [
          9.793333795335558,
          19.326667043897842
         ],
         "title": {
          "text": "value"
         },
         "type": "linear"
        },
        "yaxis41": {
         "anchor": "x41",
         "autorange": true,
         "domain": [
          0.6622950819672131,
          0.6688524590163935
         ],
         "matches": "y",
         "range": [
          9.793333795335558,
          19.326667043897842
         ],
         "title": {
          "text": "value"
         },
         "type": "linear"
        },
        "yaxis42": {
         "anchor": "x42",
         "autorange": true,
         "domain": [
          0.6788524590163935,
          0.6854098360655738
         ],
         "matches": "y",
         "range": [
          9.793333795335558,
          19.326667043897842
         ],
         "title": {
          "text": "value"
         },
         "type": "linear"
        },
        "yaxis43": {
         "anchor": "x43",
         "autorange": true,
         "domain": [
          0.6954098360655737,
          0.7019672131147541
         ],
         "matches": "y",
         "range": [
          9.793333795335558,
          19.326667043897842
         ],
         "title": {
          "text": "value"
         },
         "type": "linear"
        },
        "yaxis44": {
         "anchor": "x44",
         "autorange": true,
         "domain": [
          0.7119672131147541,
          0.7185245901639344
         ],
         "matches": "y",
         "range": [
          9.793333795335558,
          19.326667043897842
         ],
         "title": {
          "text": "value"
         },
         "type": "linear"
        },
        "yaxis45": {
         "anchor": "x45",
         "autorange": true,
         "domain": [
          0.7285245901639343,
          0.7350819672131147
         ],
         "matches": "y",
         "range": [
          9.793333795335558,
          19.326667043897842
         ],
         "title": {
          "text": "value"
         },
         "type": "linear"
        },
        "yaxis46": {
         "anchor": "x46",
         "autorange": true,
         "domain": [
          0.7450819672131146,
          0.751639344262295
         ],
         "matches": "y",
         "range": [
          9.793333795335558,
          19.326667043897842
         ],
         "title": {
          "text": "value"
         },
         "type": "linear"
        },
        "yaxis47": {
         "anchor": "x47",
         "autorange": true,
         "domain": [
          0.761639344262295,
          0.7681967213114753
         ],
         "matches": "y",
         "range": [
          9.793333795335558,
          19.326667043897842
         ],
         "title": {
          "text": "value"
         },
         "type": "linear"
        },
        "yaxis48": {
         "anchor": "x48",
         "autorange": true,
         "domain": [
          0.7781967213114753,
          0.7847540983606557
         ],
         "matches": "y",
         "range": [
          9.793333795335558,
          19.326667043897842
         ],
         "title": {
          "text": "value"
         },
         "type": "linear"
        },
        "yaxis49": {
         "anchor": "x49",
         "autorange": true,
         "domain": [
          0.7947540983606556,
          0.8013114754098359
         ],
         "matches": "y",
         "range": [
          9.793333795335558,
          19.326667043897842
         ],
         "title": {
          "text": "value"
         },
         "type": "linear"
        },
        "yaxis5": {
         "anchor": "x5",
         "autorange": true,
         "domain": [
          0.06622950819672131,
          0.07278688524590164
         ],
         "matches": "y",
         "range": [
          9.793333795335558,
          19.326667043897842
         ],
         "title": {
          "text": "value"
         },
         "type": "linear"
        },
        "yaxis50": {
         "anchor": "x50",
         "autorange": true,
         "domain": [
          0.8113114754098358,
          0.8178688524590162
         ],
         "matches": "y",
         "range": [
          9.793333795335558,
          19.326667043897842
         ],
         "title": {
          "text": "value"
         },
         "type": "linear"
        },
        "yaxis51": {
         "anchor": "x51",
         "autorange": true,
         "domain": [
          0.8278688524590161,
          0.8344262295081964
         ],
         "matches": "y",
         "range": [
          9.793333795335558,
          19.326667043897842
         ],
         "title": {
          "text": "value"
         },
         "type": "linear"
        },
        "yaxis52": {
         "anchor": "x52",
         "autorange": true,
         "domain": [
          0.8444262295081965,
          0.8509836065573768
         ],
         "matches": "y",
         "range": [
          9.793333795335558,
          19.326667043897842
         ],
         "title": {
          "text": "value"
         },
         "type": "linear"
        },
        "yaxis53": {
         "anchor": "x53",
         "autorange": true,
         "domain": [
          0.8609836065573768,
          0.8675409836065572
         ],
         "matches": "y",
         "range": [
          9.793333795335558,
          19.326667043897842
         ],
         "title": {
          "text": "value"
         },
         "type": "linear"
        },
        "yaxis54": {
         "anchor": "x54",
         "autorange": true,
         "domain": [
          0.8775409836065571,
          0.8840983606557374
         ],
         "matches": "y",
         "range": [
          9.793333795335558,
          19.326667043897842
         ],
         "title": {
          "text": "value"
         },
         "type": "linear"
        },
        "yaxis55": {
         "anchor": "x55",
         "autorange": true,
         "domain": [
          0.8940983606557373,
          0.9006557377049177
         ],
         "matches": "y",
         "range": [
          9.793333795335558,
          19.326667043897842
         ],
         "title": {
          "text": "value"
         },
         "type": "linear"
        },
        "yaxis56": {
         "anchor": "x56",
         "autorange": true,
         "domain": [
          0.9106557377049177,
          0.9172131147540981
         ],
         "matches": "y",
         "range": [
          9.793333795335558,
          19.326667043897842
         ],
         "title": {
          "text": "value"
         },
         "type": "linear"
        },
        "yaxis57": {
         "anchor": "x57",
         "autorange": true,
         "domain": [
          0.9272131147540981,
          0.9337704918032784
         ],
         "matches": "y",
         "range": [
          9.793333795335558,
          19.326667043897842
         ],
         "title": {
          "text": "value"
         },
         "type": "linear"
        },
        "yaxis58": {
         "anchor": "x58",
         "autorange": true,
         "domain": [
          0.9437704918032783,
          0.9503278688524587
         ],
         "matches": "y",
         "range": [
          9.793333795335558,
          19.326667043897842
         ],
         "title": {
          "text": "value"
         },
         "type": "linear"
        },
        "yaxis59": {
         "anchor": "x59",
         "autorange": true,
         "domain": [
          0.9603278688524586,
          0.9668852459016389
         ],
         "matches": "y",
         "range": [
          9.793333795335558,
          19.326667043897842
         ],
         "title": {
          "text": "value"
         },
         "type": "linear"
        },
        "yaxis6": {
         "anchor": "x6",
         "autorange": true,
         "domain": [
          0.08278688524590164,
          0.08934426229508197
         ],
         "matches": "y",
         "range": [
          9.793333795335558,
          19.326667043897842
         ],
         "title": {
          "text": "value"
         },
         "type": "linear"
        },
        "yaxis60": {
         "anchor": "x60",
         "autorange": true,
         "domain": [
          0.9768852459016388,
          0.9834426229508192
         ],
         "matches": "y",
         "range": [
          9.793333795335558,
          19.326667043897842
         ],
         "title": {
          "text": "value"
         },
         "type": "linear"
        },
        "yaxis61": {
         "anchor": "x61",
         "autorange": true,
         "domain": [
          0.9934426229508191,
          0.9999999999999994
         ],
         "matches": "y",
         "range": [
          9.793333795335558,
          19.326667043897842
         ],
         "title": {
          "text": "value"
         },
         "type": "linear"
        },
        "yaxis7": {
         "anchor": "x7",
         "autorange": true,
         "domain": [
          0.09934426229508198,
          0.1059016393442623
         ],
         "matches": "y",
         "range": [
          9.793333795335558,
          19.326667043897842
         ],
         "title": {
          "text": "value"
         },
         "type": "linear"
        },
        "yaxis8": {
         "anchor": "x8",
         "autorange": true,
         "domain": [
          0.11590163934426231,
          0.12245901639344264
         ],
         "matches": "y",
         "range": [
          9.793333795335558,
          19.326667043897842
         ],
         "title": {
          "text": "value"
         },
         "type": "linear"
        },
        "yaxis9": {
         "anchor": "x9",
         "autorange": true,
         "domain": [
          0.13245901639344262,
          0.13901639344262295
         ],
         "matches": "y",
         "range": [
          9.793333795335558,
          19.326667043897842
         ],
         "title": {
          "text": "value"
         },
         "type": "linear"
        }
       }
      },
      "image/png": "[encoded data removed]",
      "text/html": [
       "<div>                            <div id=\"9c67535b-d353-4c51-870d-230bb536cf52\" class=\"plotly-graph-div\" style=\"height:400px; width:800px;\"></div>            <script type=\"text/javascript\">                require([\"plotly\"], function(Plotly) {                    window.PLOTLYENV=window.PLOTLYENV || {};                                    if (document.getElementById(\"9c67535b-d353-4c51-870d-230bb536cf52\")) {                    Plotly.newPlot(                        \"9c67535b-d353-4c51-870d-230bb536cf52\",                        [{\"hovertemplate\":\"jajajaja lak al  alolalla swc=FR-Bil_SWC_1<br>FR-Bil_SWC_2=17.34000015258789<br>TIMESTAMP=%{x}<br>value=%{y}<extra></extra>\",\"legendgroup\":\"FR-Bil_SWC_1\",\"line\":{\"color\":\"#636efa\",\"dash\":\"solid\"},\"marker\":{\"symbol\":\"circle\"},\"mode\":\"lines\",\"name\":\"FR-Bil_SWC_1\",\"orientation\":\"v\",\"showlegend\":true,\"x\":[\"2023-03-08T00:00:00\",\"2023-03-08T02:30:00\"],\"xaxis\":\"x61\",\"y\":[13.4399995803833,13.260000228881836],\"yaxis\":\"y61\",\"type\":\"scatter\"},{\"hovertemplate\":\"jajajaja lak al  alolalla swc=FR-Bil_SWC_1<br>FR-Bil_SWC_2=17.350000381469727<br>TIMESTAMP=%{x}<br>value=%{y}<extra></extra>\",\"legendgroup\":\"FR-Bil_SWC_1\",\"line\":{\"color\":\"#636efa\",\"dash\":\"solid\"},\"marker\":{\"symbol\":\"circle\"},\"mode\":\"lines\",\"name\":\"FR-Bil_SWC_1\",\"orientation\":\"v\",\"showlegend\":false,\"x\":[\"2023-03-08T00:30:00\",\"2023-03-08T14:00:00\",\"2023-03-08T14:30:00\",\"2023-03-08T15:30:00\"],\"xaxis\":\"x60\",\"y\":[13.479999542236328,13.59000015258789,13.600000381469727,13.569999694824219],\"yaxis\":\"y60\",\"type\":\"scatter\"},{\"hovertemplate\":\"jajajaja lak al  alolalla swc=FR-Bil_SWC_1<br>FR-Bil_SWC_2=17.270000457763672<br>TIMESTAMP=%{x}<br>value=%{y}<extra></extra>\",\"legendgroup\":\"FR-Bil_SWC_1\",\"line\":{\"color\":\"#636efa\",\"dash\":\"solid\"},\"marker\":{\"symbol\":\"circle\"},\"mode\":\"lines\",\"name\":\"FR-Bil_SWC_1\",\"orientation\":\"v\",\"showlegend\":false,\"x\":[\"2023-03-08T01:00:00\"],\"xaxis\":\"x59\",\"y\":[13.380000114440918],\"yaxis\":\"y59\",\"type\":\"scatter\"},{\"hovertemplate\":\"jajajaja lak al  alolalla swc=FR-Bil_SWC_1<br>FR-Bil_SWC_2=17.239999771118164<br>TIMESTAMP=%{x}<br>value=%{y}<extra></extra>\",\"legendgroup\":\"FR-Bil_SWC_1\",\"line\":{\"color\":\"#636efa\",\"dash\":\"solid\"},\"marker\":{\"symbol\":\"circle\"},\"mode\":\"lines\",\"name\":\"FR-Bil_SWC_1\",\"orientation\":\"v\",\"showlegend\":false,\"x\":[\"2023-03-08T01:30:00\",\"2023-03-08T05:00:00\"],\"xaxis\":\"x58\",\"y\":[13.369999885559082,13.15999984741211],\"yaxis\":\"y58\",\"type\":\"scatter\"},{\"hovertemplate\":\"jajajaja lak al  alolalla swc=FR-Bil_SWC_1<br>FR-Bil_SWC_2=17.290000915527344<br>TIMESTAMP=%{x}<br>value=%{y}<extra></extra>\",\"legendgroup\":\"FR-Bil_SWC_1\",\"line\":{\"color\":\"#636efa\",\"dash\":\"solid\"},\"marker\":{\"symbol\":\"circle\"},\"mode\":\"lines\",\"name\":\"FR-Bil_SWC_1\",\"orientation\":\"v\",\"showlegend\":false,\"x\":[\"2023-03-08T02:00:00\",\"2023-03-08T06:30:00\",\"2023-03-08T07:00:00\",\"2023-03-08T17:00:00\"],\"xaxis\":\"x57\",\"y\":[13.229999542236328,13.140000343322754,13.140000343322754,13.34000015258789],\"yaxis\":\"y57\",\"type\":\"scatter\"},{\"hovertemplate\":\"jajajaja lak al  alolalla swc=FR-Bil_SWC_1<br>FR-Bil_SWC_2=17.329999923706055<br>TIMESTAMP=%{x}<br>value=%{y}<extra></extra>\",\"legendgroup\":\"FR-Bil_SWC_1\",\"line\":{\"color\":\"#636efa\",\"dash\":\"solid\"},\"marker\":{\"symbol\":\"circle\"},\"mode\":\"lines\",\"name\":\"FR-Bil_SWC_1\",\"orientation\":\"v\",\"showlegend\":false,\"x\":[\"2023-03-08T03:00:00\",\"2023-03-08T10:00:00\",\"2023-03-08T16:30:00\",\"2023-03-08T18:00:00\"],\"xaxis\":\"x56\",\"y\":[13.170000076293945,13.779999732971191,13.399999618530273,13.449999809265137],\"yaxis\":\"y56\",\"type\":\"scatter\"},{\"hovertemplate\":\"jajajaja lak al  alolalla swc=FR-Bil_SWC_1<br>FR-Bil_SWC_2=17.25<br>TIMESTAMP=%{x}<br>value=%{y}<extra></extra>\",\"legendgroup\":\"FR-Bil_SWC_1\",\"line\":{\"color\":\"#636efa\",\"dash\":\"solid\"},\"marker\":{\"symbol\":\"circle\"},\"mode\":\"lines\",\"name\":\"FR-Bil_SWC_1\",\"orientation\":\"v\",\"showlegend\":false,\"x\":[\"2023-03-08T03:30:00\"],\"xaxis\":\"x55\",\"y\":[13.220000267028809],\"yaxis\":\"y55\",\"type\":\"scatter\"},{\"hovertemplate\":\"jajajaja lak al  alolalla swc=FR-Bil_SWC_1<br>FR-Bil_SWC_2=17.209999084472656<br>TIMESTAMP=%{x}<br>value=%{y}<extra></extra>\",\"legendgroup\":\"FR-Bil_SWC_1\",\"line\":{\"color\":\"#636efa\",\"dash\":\"solid\"},\"marker\":{\"symbol\":\"circle\"},\"mode\":\"lines\",\"name\":\"FR-Bil_SWC_1\",\"orientation\":\"v\",\"showlegend\":false,\"x\":[\"2023-03-08T04:00:00\",\"2023-03-08T04:30:00\",\"2023-03-08T05:30:00\"],\"xaxis\":\"x54\",\"y\":[13.220000267028809,13.1899995803833,13.210000038146973],\"yaxis\":\"y54\",\"type\":\"scatter\"},{\"hovertemplate\":\"jajajaja lak al  alolalla swc=FR-Bil_SWC_1<br>FR-Bil_SWC_2=17.219999313354492<br>TIMESTAMP=%{x}<br>value=%{y}<extra></extra>\",\"legendgroup\":\"FR-Bil_SWC_1\",\"line\":{\"color\":\"#636efa\",\"dash\":\"solid\"},\"marker\":{\"symbol\":\"circle\"},\"mode\":\"lines\",\"name\":\"FR-Bil_SWC_1\",\"orientation\":\"v\",\"showlegend\":false,\"x\":[\"2023-03-08T06:00:00\"],\"xaxis\":\"x53\",\"y\":[13.15999984741211],\"yaxis\":\"y53\",\"type\":\"scatter\"},{\"hovertemplate\":\"jajajaja lak al  alolalla swc=FR-Bil_SWC_1<br>FR-Bil_SWC_2=17.31999969482422<br>TIMESTAMP=%{x}<br>value=%{y}<extra></extra>\",\"legendgroup\":\"FR-Bil_SWC_1\",\"line\":{\"color\":\"#636efa\",\"dash\":\"solid\"},\"marker\":{\"symbol\":\"circle\"},\"mode\":\"lines\",\"name\":\"FR-Bil_SWC_1\",\"orientation\":\"v\",\"showlegend\":false,\"x\":[\"2023-03-08T07:30:00\",\"2023-03-08T08:00:00\",\"2023-03-08T09:00:00\",\"2023-03-08T10:30:00\"],\"xaxis\":\"x52\",\"y\":[13.109999656677246,13.319999694824219,13.640000343322754,13.770000457763672],\"yaxis\":\"y52\",\"type\":\"scatter\"},{\"hovertemplate\":\"jajajaja lak al  alolalla swc=FR-Bil_SWC_1<br>FR-Bil_SWC_2=17.260000228881836<br>TIMESTAMP=%{x}<br>value=%{y}<extra></extra>\",\"legendgroup\":\"FR-Bil_SWC_1\",\"line\":{\"color\":\"#636efa\",\"dash\":\"solid\"},\"marker\":{\"symbol\":\"circle\"},\"mode\":\"lines\",\"name\":\"FR-Bil_SWC_1\",\"orientation\":\"v\",\"showlegend\":false,\"x\":[\"2023-03-08T08:30:00\"],\"xaxis\":\"x51\",\"y\":[13.5600004196167],\"yaxis\":\"y51\",\"type\":\"scatter\"},{\"hovertemplate\":\"jajajaja lak al  alolalla swc=FR-Bil_SWC_1<br>FR-Bil_SWC_2=17.360000610351562<br>TIMESTAMP=%{x}<br>value=%{y}<extra></extra>\",\"legendgroup\":\"FR-Bil_SWC_1\",\"line\":{\"color\":\"#636efa\",\"dash\":\"solid\"},\"marker\":{\"symbol\":\"circle\"},\"mode\":\"lines\",\"name\":\"FR-Bil_SWC_1\",\"orientation\":\"v\",\"showlegend\":false,\"x\":[\"2023-03-08T09:30:00\",\"2023-03-08T11:00:00\",\"2023-03-08T13:30:00\",\"2023-03-08T16:00:00\"],\"xaxis\":\"x50\",\"y\":[13.710000038146973,13.729999542236328,13.579999923706055,13.420000076293945],\"yaxis\":\"y50\",\"type\":\"scatter\"},{\"hovertemplate\":\"jajajaja lak al  alolalla swc=FR-Bil_SWC_1<br>FR-Bil_SWC_2=17.420000076293945<br>TIMESTAMP=%{x}<br>value=%{y}<extra></extra>\",\"legendgroup\":\"FR-Bil_SWC_1\",\"line\":{\"color\":\"#636efa\",\"dash\":\"solid\"},\"marker\":{\"symbol\":\"circle\"},\"mode\":\"lines\",\"name\":\"FR-Bil_SWC_1\",\"orientation\":\"v\",\"showlegend\":false,\"x\":[\"2023-03-08T11:30:00\"],\"xaxis\":\"x49\",\"y\":[13.670000076293945],\"yaxis\":\"y49\",\"type\":\"scatter\"},{\"hovertemplate\":\"jajajaja lak al  alolalla swc=FR-Bil_SWC_1<br>FR-Bil_SWC_2=17.450000762939453<br>TIMESTAMP=%{x}<br>value=%{y}<extra></extra>\",\"legendgroup\":\"FR-Bil_SWC_1\",\"line\":{\"color\":\"#636efa\",\"dash\":\"solid\"},\"marker\":{\"symbol\":\"circle\"},\"mode\":\"lines\",\"name\":\"FR-Bil_SWC_1\",\"orientation\":\"v\",\"showlegend\":false,\"x\":[\"2023-03-08T12:00:00\",\"2023-03-08T12:30:00\"],\"xaxis\":\"x48\",\"y\":[13.670000076293945,13.65999984741211],\"yaxis\":\"y48\",\"type\":\"scatter\"},{\"hovertemplate\":\"jajajaja lak al  alolalla swc=FR-Bil_SWC_1<br>FR-Bil_SWC_2=17.399999618530273<br>TIMESTAMP=%{x}<br>value=%{y}<extra></extra>\",\"legendgroup\":\"FR-Bil_SWC_1\",\"line\":{\"color\":\"#636efa\",\"dash\":\"solid\"},\"marker\":{\"symbol\":\"circle\"},\"mode\":\"lines\",\"name\":\"FR-Bil_SWC_1\",\"orientation\":\"v\",\"showlegend\":false,\"x\":[\"2023-03-08T13:00:00\"],\"xaxis\":\"x47\",\"y\":[13.600000381469727],\"yaxis\":\"y47\",\"type\":\"scatter\"},{\"hovertemplate\":\"jajajaja lak al  alolalla swc=FR-Bil_SWC_1<br>FR-Bil_SWC_2=17.299999237060547<br>TIMESTAMP=%{x}<br>value=%{y}<extra></extra>\",\"legendgroup\":\"FR-Bil_SWC_1\",\"line\":{\"color\":\"#636efa\",\"dash\":\"solid\"},\"marker\":{\"symbol\":\"circle\"},\"mode\":\"lines\",\"name\":\"FR-Bil_SWC_1\",\"orientation\":\"v\",\"showlegend\":false,\"x\":[\"2023-03-08T15:00:00\",\"2023-03-08T17:30:00\"],\"xaxis\":\"x46\",\"y\":[13.520000457763672,13.3100004196167],\"yaxis\":\"y46\",\"type\":\"scatter\"},{\"hovertemplate\":\"jajajaja lak al  alolalla swc=FR-Bil_SWC_1<br>FR-Bil_SWC_2=17.3700008392334<br>TIMESTAMP=%{x}<br>value=%{y}<extra></extra>\",\"legendgroup\":\"FR-Bil_SWC_1\",\"line\":{\"color\":\"#636efa\",\"dash\":\"solid\"},\"marker\":{\"symbol\":\"circle\"},\"mode\":\"lines\",\"name\":\"FR-Bil_SWC_1\",\"orientation\":\"v\",\"showlegend\":false,\"x\":[\"2023-03-08T18:30:00\"],\"xaxis\":\"x45\",\"y\":[13.710000038146973],\"yaxis\":\"y45\",\"type\":\"scatter\"},{\"hovertemplate\":\"jajajaja lak al  alolalla swc=FR-Bil_SWC_1<br>FR-Bil_SWC_2=17.43000030517578<br>TIMESTAMP=%{x}<br>value=%{y}<extra></extra>\",\"legendgroup\":\"FR-Bil_SWC_1\",\"line\":{\"color\":\"#636efa\",\"dash\":\"solid\"},\"marker\":{\"symbol\":\"circle\"},\"mode\":\"lines\",\"name\":\"FR-Bil_SWC_1\",\"orientation\":\"v\",\"showlegend\":false,\"x\":[\"2023-03-08T19:00:00\"],\"xaxis\":\"x44\",\"y\":[14.380000114440918],\"yaxis\":\"y44\",\"type\":\"scatter\"},{\"hovertemplate\":\"jajajaja lak al  alolalla swc=FR-Bil_SWC_1<br>FR-Bil_SWC_2=17.600000381469727<br>TIMESTAMP=%{x}<br>value=%{y}<extra></extra>\",\"legendgroup\":\"FR-Bil_SWC_1\",\"line\":{\"color\":\"#636efa\",\"dash\":\"solid\"},\"marker\":{\"symbol\":\"circle\"},\"mode\":\"lines\",\"name\":\"FR-Bil_SWC_1\",\"orientation\":\"v\",\"showlegend\":false,\"x\":[\"2023-03-08T19:30:00\"],\"xaxis\":\"x43\",\"y\":[15.039999961853027],\"yaxis\":\"y43\",\"type\":\"scatter\"},{\"hovertemplate\":\"jajajaja lak al  alolalla swc=FR-Bil_SWC_1<br>FR-Bil_SWC_2=17.829999923706055<br>TIMESTAMP=%{x}<br>value=%{y}<extra></extra>\",\"legendgroup\":\"FR-Bil_SWC_1\",\"line\":{\"color\":\"#636efa\",\"dash\":\"solid\"},\"marker\":{\"symbol\":\"circle\"},\"mode\":\"lines\",\"name\":\"FR-Bil_SWC_1\",\"orientation\":\"v\",\"showlegend\":false,\"x\":[\"2023-03-08T20:00:00\",\"2023-03-09T19:30:00\"],\"xaxis\":\"x42\",\"y\":[15.239999771118164,13.109999656677246],\"yaxis\":\"y42\",\"type\":\"scatter\"},{\"hovertemplate\":\"jajajaja lak al  alolalla swc=FR-Bil_SWC_1<br>FR-Bil_SWC_2=17.920000076293945<br>TIMESTAMP=%{x}<br>value=%{y}<extra></extra>\",\"legendgroup\":\"FR-Bil_SWC_1\",\"line\":{\"color\":\"#636efa\",\"dash\":\"solid\"},\"marker\":{\"symbol\":\"circle\"},\"mode\":\"lines\",\"name\":\"FR-Bil_SWC_1\",\"orientation\":\"v\",\"showlegend\":false,\"x\":[\"2023-03-08T20:30:00\"],\"xaxis\":\"x41\",\"y\":[15.279999732971191],\"yaxis\":\"y41\",\"type\":\"scatter\"},{\"hovertemplate\":\"jajajaja lak al  alolalla swc=FR-Bil_SWC_1<br>FR-Bil_SWC_2=18.049999237060547<br>TIMESTAMP=%{x}<br>value=%{y}<extra></extra>\",\"legendgroup\":\"FR-Bil_SWC_1\",\"line\":{\"color\":\"#636efa\",\"dash\":\"solid\"},\"marker\":{\"symbol\":\"circle\"},\"mode\":\"lines\",\"name\":\"FR-Bil_SWC_1\",\"orientation\":\"v\",\"showlegend\":false,\"x\":[\"2023-03-08T21:00:00\",\"2023-03-09T11:00:00\",\"2023-03-09T11:30:00\"],\"xaxis\":\"x40\",\"y\":[15.220000267028809,13.6899995803833,13.609999656677246],\"yaxis\":\"y40\",\"type\":\"scatter\"},{\"hovertemplate\":\"jajajaja lak al  alolalla swc=FR-Bil_SWC_1<br>FR-Bil_SWC_2=18.139999389648438<br>TIMESTAMP=%{x}<br>value=%{y}<extra></extra>\",\"legendgroup\":\"FR-Bil_SWC_1\",\"line\":{\"color\":\"#636efa\",\"dash\":\"solid\"},\"marker\":{\"symbol\":\"circle\"},\"mode\":\"lines\",\"name\":\"FR-Bil_SWC_1\",\"orientation\":\"v\",\"showlegend\":false,\"x\":[\"2023-03-08T21:30:00\"],\"xaxis\":\"x39\",\"y\":[15.130000114440918],\"yaxis\":\"y39\",\"type\":\"scatter\"},{\"hovertemplate\":\"jajajaja lak al  alolalla swc=FR-Bil_SWC_1<br>FR-Bil_SWC_2=18.1299991607666<br>TIMESTAMP=%{x}<br>value=%{y}<extra></extra>\",\"legendgroup\":\"FR-Bil_SWC_1\",\"line\":{\"color\":\"#636efa\",\"dash\":\"solid\"},\"marker\":{\"symbol\":\"circle\"},\"mode\":\"lines\",\"name\":\"FR-Bil_SWC_1\",\"orientation\":\"v\",\"showlegend\":false,\"x\":[\"2023-03-08T22:00:00\",\"2023-03-09T09:30:00\"],\"xaxis\":\"x38\",\"y\":[15.039999961853027,13.800000190734863],\"yaxis\":\"y38\",\"type\":\"scatter\"},{\"hovertemplate\":\"jajajaja lak al  alolalla swc=FR-Bil_SWC_1<br>FR-Bil_SWC_2=18.149999618530273<br>TIMESTAMP=%{x}<br>value=%{y}<extra></extra>\",\"legendgroup\":\"FR-Bil_SWC_1\",\"line\":{\"color\":\"#636efa\",\"dash\":\"solid\"},\"marker\":{\"symbol\":\"circle\"},\"mode\":\"lines\",\"name\":\"FR-Bil_SWC_1\",\"orientation\":\"v\",\"showlegend\":false,\"x\":[\"2023-03-08T22:30:00\"],\"xaxis\":\"x37\",\"y\":[14.9399995803833],\"yaxis\":\"y37\",\"type\":\"scatter\"},{\"hovertemplate\":\"jajajaja lak al  alolalla swc=FR-Bil_SWC_1<br>FR-Bil_SWC_2=18.190000534057617<br>TIMESTAMP=%{x}<br>value=%{y}<extra></extra>\",\"legendgroup\":\"FR-Bil_SWC_1\",\"line\":{\"color\":\"#636efa\",\"dash\":\"solid\"},\"marker\":{\"symbol\":\"circle\"},\"mode\":\"lines\",\"name\":\"FR-Bil_SWC_1\",\"orientation\":\"v\",\"showlegend\":false,\"x\":[\"2023-03-08T23:00:00\",\"2023-03-09T00:30:00\",\"2023-03-09T01:00:00\"],\"xaxis\":\"x36\",\"y\":[14.899999618530273,14.680000305175781,14.59000015258789],\"yaxis\":\"y36\",\"type\":\"scatter\"},{\"hovertemplate\":\"jajajaja lak al  alolalla swc=FR-Bil_SWC_1<br>FR-Bil_SWC_2=18.260000228881836<br>TIMESTAMP=%{x}<br>value=%{y}<extra></extra>\",\"legendgroup\":\"FR-Bil_SWC_1\",\"line\":{\"color\":\"#636efa\",\"dash\":\"solid\"},\"marker\":{\"symbol\":\"circle\"},\"mode\":\"lines\",\"name\":\"FR-Bil_SWC_1\",\"orientation\":\"v\",\"showlegend\":false,\"x\":[\"2023-03-08T23:30:00\"],\"xaxis\":\"x35\",\"y\":[14.789999961853027],\"yaxis\":\"y35\",\"type\":\"scatter\"},{\"hovertemplate\":\"jajajaja lak al  alolalla swc=FR-Bil_SWC_1<br>FR-Bil_SWC_2=18.229999542236328<br>TIMESTAMP=%{x}<br>value=%{y}<extra></extra>\",\"legendgroup\":\"FR-Bil_SWC_1\",\"line\":{\"color\":\"#636efa\",\"dash\":\"solid\"},\"marker\":{\"symbol\":\"circle\"},\"mode\":\"lines\",\"name\":\"FR-Bil_SWC_1\",\"orientation\":\"v\",\"showlegend\":false,\"x\":[\"2023-03-09T00:00:00\",\"2023-03-09T05:30:00\"],\"xaxis\":\"x34\",\"y\":[14.770000457763672,14.100000381469727],\"yaxis\":\"y34\",\"type\":\"scatter\"},{\"hovertemplate\":\"jajajaja lak al  alolalla swc=FR-Bil_SWC_1<br>FR-Bil_SWC_2=18.170000076293945<br>TIMESTAMP=%{x}<br>value=%{y}<extra></extra>\",\"legendgroup\":\"FR-Bil_SWC_1\",\"line\":{\"color\":\"#636efa\",\"dash\":\"solid\"},\"marker\":{\"symbol\":\"circle\"},\"mode\":\"lines\",\"name\":\"FR-Bil_SWC_1\",\"orientation\":\"v\",\"showlegend\":false,\"x\":[\"2023-03-09T01:30:00\",\"2023-03-09T08:00:00\"],\"xaxis\":\"x33\",\"y\":[14.539999961853027,13.930000305175781],\"yaxis\":\"y33\",\"type\":\"scatter\"},{\"hovertemplate\":\"jajajaja lak al  alolalla swc=FR-Bil_SWC_1<br>FR-Bil_SWC_2=18.15999984741211<br>TIMESTAMP=%{x}<br>value=%{y}<extra></extra>\",\"legendgroup\":\"FR-Bil_SWC_1\",\"line\":{\"color\":\"#636efa\",\"dash\":\"solid\"},\"marker\":{\"symbol\":\"circle\"},\"mode\":\"lines\",\"name\":\"FR-Bil_SWC_1\",\"orientation\":\"v\",\"showlegend\":false,\"x\":[\"2023-03-09T02:00:00\",\"2023-03-09T02:30:00\"],\"xaxis\":\"x32\",\"y\":[14.470000267028809,14.460000038146973],\"yaxis\":\"y32\",\"type\":\"scatter\"},{\"hovertemplate\":\"jajajaja lak al  alolalla swc=FR-Bil_SWC_1<br>FR-Bil_SWC_2=18.18000030517578<br>TIMESTAMP=%{x}<br>value=%{y}<extra></extra>\",\"legendgroup\":\"FR-Bil_SWC_1\",\"line\":{\"color\":\"#636efa\",\"dash\":\"solid\"},\"marker\":{\"symbol\":\"circle\"},\"mode\":\"lines\",\"name\":\"FR-Bil_SWC_1\",\"orientation\":\"v\",\"showlegend\":false,\"x\":[\"2023-03-09T03:00:00\"],\"xaxis\":\"x31\",\"y\":[14.3100004196167],\"yaxis\":\"y31\",\"type\":\"scatter\"},{\"hovertemplate\":\"jajajaja lak al  alolalla swc=FR-Bil_SWC_1<br>FR-Bil_SWC_2=18.25<br>TIMESTAMP=%{x}<br>value=%{y}<extra></extra>\",\"legendgroup\":\"FR-Bil_SWC_1\",\"line\":{\"color\":\"#636efa\",\"dash\":\"solid\"},\"marker\":{\"symbol\":\"circle\"},\"mode\":\"lines\",\"name\":\"FR-Bil_SWC_1\",\"orientation\":\"v\",\"showlegend\":false,\"x\":[\"2023-03-09T03:30:00\"],\"xaxis\":\"x30\",\"y\":[14.359999656677246],\"yaxis\":\"y30\",\"type\":\"scatter\"},{\"hovertemplate\":\"jajajaja lak al  alolalla swc=FR-Bil_SWC_1<br>FR-Bil_SWC_2=18.299999237060547<br>TIMESTAMP=%{x}<br>value=%{y}<extra></extra>\",\"legendgroup\":\"FR-Bil_SWC_1\",\"line\":{\"color\":\"#636efa\",\"dash\":\"solid\"},\"marker\":{\"symbol\":\"circle\"},\"mode\":\"lines\",\"name\":\"FR-Bil_SWC_1\",\"orientation\":\"v\",\"showlegend\":false,\"x\":[\"2023-03-09T04:00:00\"],\"xaxis\":\"x29\",\"y\":[14.270000457763672],\"yaxis\":\"y29\",\"type\":\"scatter\"},{\"hovertemplate\":\"jajajaja lak al  alolalla swc=FR-Bil_SWC_1<br>FR-Bil_SWC_2=18.280000686645508<br>TIMESTAMP=%{x}<br>value=%{y}<extra></extra>\",\"legendgroup\":\"FR-Bil_SWC_1\",\"line\":{\"color\":\"#636efa\",\"dash\":\"solid\"},\"marker\":{\"symbol\":\"circle\"},\"mode\":\"lines\",\"name\":\"FR-Bil_SWC_1\",\"orientation\":\"v\",\"showlegend\":false,\"x\":[\"2023-03-09T04:30:00\"],\"xaxis\":\"x28\",\"y\":[14.279999732971191],\"yaxis\":\"y28\",\"type\":\"scatter\"},{\"hovertemplate\":\"jajajaja lak al  alolalla swc=FR-Bil_SWC_1<br>FR-Bil_SWC_2=18.239999771118164<br>TIMESTAMP=%{x}<br>value=%{y}<extra></extra>\",\"legendgroup\":\"FR-Bil_SWC_1\",\"line\":{\"color\":\"#636efa\",\"dash\":\"solid\"},\"marker\":{\"symbol\":\"circle\"},\"mode\":\"lines\",\"name\":\"FR-Bil_SWC_1\",\"orientation\":\"v\",\"showlegend\":false,\"x\":[\"2023-03-09T05:00:00\"],\"xaxis\":\"x27\",\"y\":[14.119999885559082],\"yaxis\":\"y27\",\"type\":\"scatter\"},{\"hovertemplate\":\"jajajaja lak al  alolalla swc=FR-Bil_SWC_1<br>FR-Bil_SWC_2=18.219999313354492<br>TIMESTAMP=%{x}<br>value=%{y}<extra></extra>\",\"legendgroup\":\"FR-Bil_SWC_1\",\"line\":{\"color\":\"#636efa\",\"dash\":\"solid\"},\"marker\":{\"symbol\":\"circle\"},\"mode\":\"lines\",\"name\":\"FR-Bil_SWC_1\",\"orientation\":\"v\",\"showlegend\":false,\"x\":[\"2023-03-09T06:00:00\"],\"xaxis\":\"x26\",\"y\":[14.100000381469727],\"yaxis\":\"y26\",\"type\":\"scatter\"},{\"hovertemplate\":\"jajajaja lak al  alolalla swc=FR-Bil_SWC_1<br>FR-Bil_SWC_2=18.200000762939453<br>TIMESTAMP=%{x}<br>value=%{y}<extra></extra>\",\"legendgroup\":\"FR-Bil_SWC_1\",\"line\":{\"color\":\"#636efa\",\"dash\":\"solid\"},\"marker\":{\"symbol\":\"circle\"},\"mode\":\"lines\",\"name\":\"FR-Bil_SWC_1\",\"orientation\":\"v\",\"showlegend\":false,\"x\":[\"2023-03-09T06:30:00\"],\"xaxis\":\"x25\",\"y\":[14.010000228881836],\"yaxis\":\"y25\",\"type\":\"scatter\"},{\"hovertemplate\":\"jajajaja lak al  alolalla swc=FR-Bil_SWC_1<br>FR-Bil_SWC_2=18.209999084472656<br>TIMESTAMP=%{x}<br>value=%{y}<extra></extra>\",\"legendgroup\":\"FR-Bil_SWC_1\",\"line\":{\"color\":\"#636efa\",\"dash\":\"solid\"},\"marker\":{\"symbol\":\"circle\"},\"mode\":\"lines\",\"name\":\"FR-Bil_SWC_1\",\"orientation\":\"v\",\"showlegend\":false,\"x\":[\"2023-03-09T07:00:00\",\"2023-03-09T07:30:00\"],\"xaxis\":\"x24\",\"y\":[14.029999732971191,13.989999771118164],\"yaxis\":\"y24\",\"type\":\"scatter\"},{\"hovertemplate\":\"jajajaja lak al  alolalla swc=FR-Bil_SWC_1<br>FR-Bil_SWC_2=18.1200008392334<br>TIMESTAMP=%{x}<br>value=%{y}<extra></extra>\",\"legendgroup\":\"FR-Bil_SWC_1\",\"line\":{\"color\":\"#636efa\",\"dash\":\"solid\"},\"marker\":{\"symbol\":\"circle\"},\"mode\":\"lines\",\"name\":\"FR-Bil_SWC_1\",\"orientation\":\"v\",\"showlegend\":false,\"x\":[\"2023-03-09T08:30:00\"],\"xaxis\":\"x23\",\"y\":[13.880000114440918],\"yaxis\":\"y23\",\"type\":\"scatter\"},{\"hovertemplate\":\"jajajaja lak al  alolalla swc=FR-Bil_SWC_1<br>FR-Bil_SWC_2=18.110000610351562<br>TIMESTAMP=%{x}<br>value=%{y}<extra></extra>\",\"legendgroup\":\"FR-Bil_SWC_1\",\"line\":{\"color\":\"#636efa\",\"dash\":\"solid\"},\"marker\":{\"symbol\":\"circle\"},\"mode\":\"lines\",\"name\":\"FR-Bil_SWC_1\",\"orientation\":\"v\",\"showlegend\":false,\"x\":[\"2023-03-09T09:00:00\"],\"xaxis\":\"x22\",\"y\":[13.850000381469727],\"yaxis\":\"y22\",\"type\":\"scatter\"},{\"hovertemplate\":\"jajajaja lak al  alolalla swc=FR-Bil_SWC_1<br>FR-Bil_SWC_2=18.100000381469727<br>TIMESTAMP=%{x}<br>value=%{y}<extra></extra>\",\"legendgroup\":\"FR-Bil_SWC_1\",\"line\":{\"color\":\"#636efa\",\"dash\":\"solid\"},\"marker\":{\"symbol\":\"circle\"},\"mode\":\"lines\",\"name\":\"FR-Bil_SWC_1\",\"orientation\":\"v\",\"showlegend\":false,\"x\":[\"2023-03-09T10:00:00\"],\"xaxis\":\"x21\",\"y\":[13.800000190734863],\"yaxis\":\"y21\",\"type\":\"scatter\"},{\"hovertemplate\":\"jajajaja lak al  alolalla swc=FR-Bil_SWC_1<br>FR-Bil_SWC_2=18.06999969482422<br>TIMESTAMP=%{x}<br>value=%{y}<extra></extra>\",\"legendgroup\":\"FR-Bil_SWC_1\",\"line\":{\"color\":\"#636efa\",\"dash\":\"solid\"},\"marker\":{\"symbol\":\"circle\"},\"mode\":\"lines\",\"name\":\"FR-Bil_SWC_1\",\"orientation\":\"v\",\"showlegend\":false,\"x\":[\"2023-03-09T10:30:00\"],\"xaxis\":\"x20\",\"y\":[13.699999809265137],\"yaxis\":\"y20\",\"type\":\"scatter\"},{\"hovertemplate\":\"jajajaja lak al  alolalla swc=FR-Bil_SWC_1<br>FR-Bil_SWC_2=18.040000915527344<br>TIMESTAMP=%{x}<br>value=%{y}<extra></extra>\",\"legendgroup\":\"FR-Bil_SWC_1\",\"line\":{\"color\":\"#636efa\",\"dash\":\"solid\"},\"marker\":{\"symbol\":\"circle\"},\"mode\":\"lines\",\"name\":\"FR-Bil_SWC_1\",\"orientation\":\"v\",\"showlegend\":false,\"x\":[\"2023-03-09T12:00:00\"],\"xaxis\":\"x19\",\"y\":[13.640000343322754],\"yaxis\":\"y19\",\"type\":\"scatter\"},{\"hovertemplate\":\"jajajaja lak al  alolalla swc=FR-Bil_SWC_1<br>FR-Bil_SWC_2=17.959999084472656<br>TIMESTAMP=%{x}<br>value=%{y}<extra></extra>\",\"legendgroup\":\"FR-Bil_SWC_1\",\"line\":{\"color\":\"#636efa\",\"dash\":\"solid\"},\"marker\":{\"symbol\":\"circle\"},\"mode\":\"lines\",\"name\":\"FR-Bil_SWC_1\",\"orientation\":\"v\",\"showlegend\":false,\"x\":[\"2023-03-09T12:30:00\"],\"xaxis\":\"x18\",\"y\":[13.579999923706055],\"yaxis\":\"y18\",\"type\":\"scatter\"},{\"hovertemplate\":\"jajajaja lak al  alolalla swc=FR-Bil_SWC_1<br>FR-Bil_SWC_2=17.979999542236328<br>TIMESTAMP=%{x}<br>value=%{y}<extra></extra>\",\"legendgroup\":\"FR-Bil_SWC_1\",\"line\":{\"color\":\"#636efa\",\"dash\":\"solid\"},\"marker\":{\"symbol\":\"circle\"},\"mode\":\"lines\",\"name\":\"FR-Bil_SWC_1\",\"orientation\":\"v\",\"showlegend\":false,\"x\":[\"2023-03-09T13:00:00\"],\"xaxis\":\"x17\",\"y\":[13.569999694824219],\"yaxis\":\"y17\",\"type\":\"scatter\"},{\"hovertemplate\":\"jajajaja lak al  alolalla swc=FR-Bil_SWC_1<br>FR-Bil_SWC_2=17.950000762939453<br>TIMESTAMP=%{x}<br>value=%{y}<extra></extra>\",\"legendgroup\":\"FR-Bil_SWC_1\",\"line\":{\"color\":\"#636efa\",\"dash\":\"solid\"},\"marker\":{\"symbol\":\"circle\"},\"mode\":\"lines\",\"name\":\"FR-Bil_SWC_1\",\"orientation\":\"v\",\"showlegend\":false,\"x\":[\"2023-03-09T13:30:00\"],\"xaxis\":\"x16\",\"y\":[13.529999732971191],\"yaxis\":\"y16\",\"type\":\"scatter\"},{\"hovertemplate\":\"jajajaja lak al  alolalla swc=FR-Bil_SWC_1<br>FR-Bil_SWC_2=18.0<br>TIMESTAMP=%{x}<br>value=%{y}<extra></extra>\",\"legendgroup\":\"FR-Bil_SWC_1\",\"line\":{\"color\":\"#636efa\",\"dash\":\"solid\"},\"marker\":{\"symbol\":\"circle\"},\"mode\":\"lines\",\"name\":\"FR-Bil_SWC_1\",\"orientation\":\"v\",\"showlegend\":false,\"x\":[\"2023-03-09T14:00:00\"],\"xaxis\":\"x15\",\"y\":[13.479999542236328],\"yaxis\":\"y15\",\"type\":\"scatter\"},{\"hovertemplate\":\"jajajaja lak al  alolalla swc=FR-Bil_SWC_1<br>FR-Bil_SWC_2=17.8799991607666<br>TIMESTAMP=%{x}<br>value=%{y}<extra></extra>\",\"legendgroup\":\"FR-Bil_SWC_1\",\"line\":{\"color\":\"#636efa\",\"dash\":\"solid\"},\"marker\":{\"symbol\":\"circle\"},\"mode\":\"lines\",\"name\":\"FR-Bil_SWC_1\",\"orientation\":\"v\",\"showlegend\":false,\"x\":[\"2023-03-09T14:30:00\"],\"xaxis\":\"x14\",\"y\":[13.4399995803833],\"yaxis\":\"y14\",\"type\":\"scatter\"},{\"hovertemplate\":\"jajajaja lak al  alolalla swc=FR-Bil_SWC_1<br>FR-Bil_SWC_2=17.860000610351562<br>TIMESTAMP=%{x}<br>value=%{y}<extra></extra>\",\"legendgroup\":\"FR-Bil_SWC_1\",\"line\":{\"color\":\"#636efa\",\"dash\":\"solid\"},\"marker\":{\"symbol\":\"circle\"},\"mode\":\"lines\",\"name\":\"FR-Bil_SWC_1\",\"orientation\":\"v\",\"showlegend\":false,\"x\":[\"2023-03-09T15:00:00\",\"2023-03-09T17:30:00\",\"2023-03-09T19:00:00\"],\"xaxis\":\"x13\",\"y\":[13.420000076293945,13.279999732971191,13.170000076293945],\"yaxis\":\"y13\",\"type\":\"scatter\"},{\"hovertemplate\":\"jajajaja lak al  alolalla swc=FR-Bil_SWC_1<br>FR-Bil_SWC_2=17.84000015258789<br>TIMESTAMP=%{x}<br>value=%{y}<extra></extra>\",\"legendgroup\":\"FR-Bil_SWC_1\",\"line\":{\"color\":\"#636efa\",\"dash\":\"solid\"},\"marker\":{\"symbol\":\"circle\"},\"mode\":\"lines\",\"name\":\"FR-Bil_SWC_1\",\"orientation\":\"v\",\"showlegend\":false,\"x\":[\"2023-03-09T15:30:00\"],\"xaxis\":\"x12\",\"y\":[13.420000076293945],\"yaxis\":\"y12\",\"type\":\"scatter\"},{\"hovertemplate\":\"jajajaja lak al  alolalla swc=FR-Bil_SWC_1<br>FR-Bil_SWC_2=17.790000915527344<br>TIMESTAMP=%{x}<br>value=%{y}<extra></extra>\",\"legendgroup\":\"FR-Bil_SWC_1\",\"line\":{\"color\":\"#636efa\",\"dash\":\"solid\"},\"marker\":{\"symbol\":\"circle\"},\"mode\":\"lines\",\"name\":\"FR-Bil_SWC_1\",\"orientation\":\"v\",\"showlegend\":false,\"x\":[\"2023-03-09T16:00:00\"],\"xaxis\":\"x11\",\"y\":[13.3100004196167],\"yaxis\":\"y11\",\"type\":\"scatter\"},{\"hovertemplate\":\"jajajaja lak al  alolalla swc=FR-Bil_SWC_1<br>FR-Bil_SWC_2=17.770000457763672<br>TIMESTAMP=%{x}<br>value=%{y}<extra></extra>\",\"legendgroup\":\"FR-Bil_SWC_1\",\"line\":{\"color\":\"#636efa\",\"dash\":\"solid\"},\"marker\":{\"symbol\":\"circle\"},\"mode\":\"lines\",\"name\":\"FR-Bil_SWC_1\",\"orientation\":\"v\",\"showlegend\":false,\"x\":[\"2023-03-09T16:30:00\"],\"xaxis\":\"x10\",\"y\":[13.180000305175781],\"yaxis\":\"y10\",\"type\":\"scatter\"},{\"hovertemplate\":\"jajajaja lak al  alolalla swc=FR-Bil_SWC_1<br>FR-Bil_SWC_2=17.799999237060547<br>TIMESTAMP=%{x}<br>value=%{y}<extra></extra>\",\"legendgroup\":\"FR-Bil_SWC_1\",\"line\":{\"color\":\"#636efa\",\"dash\":\"solid\"},\"marker\":{\"symbol\":\"circle\"},\"mode\":\"lines\",\"name\":\"FR-Bil_SWC_1\",\"orientation\":\"v\",\"showlegend\":false,\"x\":[\"2023-03-09T17:00:00\"],\"xaxis\":\"x9\",\"y\":[13.25],\"yaxis\":\"y9\",\"type\":\"scatter\"},{\"hovertemplate\":\"jajajaja lak al  alolalla swc=FR-Bil_SWC_1<br>FR-Bil_SWC_2=17.899999618530273<br>TIMESTAMP=%{x}<br>value=%{y}<extra></extra>\",\"legendgroup\":\"FR-Bil_SWC_1\",\"line\":{\"color\":\"#636efa\",\"dash\":\"solid\"},\"marker\":{\"symbol\":\"circle\"},\"mode\":\"lines\",\"name\":\"FR-Bil_SWC_1\",\"orientation\":\"v\",\"showlegend\":false,\"x\":[\"2023-03-09T18:00:00\"],\"xaxis\":\"x8\",\"y\":[13.210000038146973],\"yaxis\":\"y8\",\"type\":\"scatter\"},{\"hovertemplate\":\"jajajaja lak al  alolalla swc=FR-Bil_SWC_1<br>FR-Bil_SWC_2=17.889999389648438<br>TIMESTAMP=%{x}<br>value=%{y}<extra></extra>\",\"legendgroup\":\"FR-Bil_SWC_1\",\"line\":{\"color\":\"#636efa\",\"dash\":\"solid\"},\"marker\":{\"symbol\":\"circle\"},\"mode\":\"lines\",\"name\":\"FR-Bil_SWC_1\",\"orientation\":\"v\",\"showlegend\":false,\"x\":[\"2023-03-09T18:30:00\"],\"xaxis\":\"x7\",\"y\":[13.149999618530273],\"yaxis\":\"y7\",\"type\":\"scatter\"},{\"hovertemplate\":\"jajajaja lak al  alolalla swc=FR-Bil_SWC_1<br>FR-Bil_SWC_2=17.81999969482422<br>TIMESTAMP=%{x}<br>value=%{y}<extra></extra>\",\"legendgroup\":\"FR-Bil_SWC_1\",\"line\":{\"color\":\"#636efa\",\"dash\":\"solid\"},\"marker\":{\"symbol\":\"circle\"},\"mode\":\"lines\",\"name\":\"FR-Bil_SWC_1\",\"orientation\":\"v\",\"showlegend\":false,\"x\":[\"2023-03-09T20:00:00\"],\"xaxis\":\"x6\",\"y\":[13.100000381469727],\"yaxis\":\"y6\",\"type\":\"scatter\"},{\"hovertemplate\":\"jajajaja lak al  alolalla swc=FR-Bil_SWC_1<br>FR-Bil_SWC_2=17.780000686645508<br>TIMESTAMP=%{x}<br>value=%{y}<extra></extra>\",\"legendgroup\":\"FR-Bil_SWC_1\",\"line\":{\"color\":\"#636efa\",\"dash\":\"solid\"},\"marker\":{\"symbol\":\"circle\"},\"mode\":\"lines\",\"name\":\"FR-Bil_SWC_1\",\"orientation\":\"v\",\"showlegend\":false,\"x\":[\"2023-03-09T20:30:00\"],\"xaxis\":\"x5\",\"y\":[13.140000343322754],\"yaxis\":\"y5\",\"type\":\"scatter\"},{\"hovertemplate\":\"jajajaja lak al  alolalla swc=FR-Bil_SWC_1<br>FR-Bil_SWC_2=17.739999771118164<br>TIMESTAMP=%{x}<br>value=%{y}<extra></extra>\",\"legendgroup\":\"FR-Bil_SWC_1\",\"line\":{\"color\":\"#636efa\",\"dash\":\"solid\"},\"marker\":{\"symbol\":\"circle\"},\"mode\":\"lines\",\"name\":\"FR-Bil_SWC_1\",\"orientation\":\"v\",\"showlegend\":false,\"x\":[\"2023-03-09T21:00:00\",\"2023-03-09T22:00:00\"],\"xaxis\":\"x4\",\"y\":[13.069999694824219,13.0],\"yaxis\":\"y4\",\"type\":\"scatter\"},{\"hovertemplate\":\"jajajaja lak al  alolalla swc=FR-Bil_SWC_1<br>FR-Bil_SWC_2=17.760000228881836<br>TIMESTAMP=%{x}<br>value=%{y}<extra></extra>\",\"legendgroup\":\"FR-Bil_SWC_1\",\"line\":{\"color\":\"#636efa\",\"dash\":\"solid\"},\"marker\":{\"symbol\":\"circle\"},\"mode\":\"lines\",\"name\":\"FR-Bil_SWC_1\",\"orientation\":\"v\",\"showlegend\":false,\"x\":[\"2023-03-09T21:30:00\"],\"xaxis\":\"x3\",\"y\":[12.949999809265137],\"yaxis\":\"y3\",\"type\":\"scatter\"},{\"hovertemplate\":\"jajajaja lak al  alolalla swc=FR-Bil_SWC_1<br>FR-Bil_SWC_2=17.719999313354492<br>TIMESTAMP=%{x}<br>value=%{y}<extra></extra>\",\"legendgroup\":\"FR-Bil_SWC_1\",\"line\":{\"color\":\"#636efa\",\"dash\":\"solid\"},\"marker\":{\"symbol\":\"circle\"},\"mode\":\"lines\",\"name\":\"FR-Bil_SWC_1\",\"orientation\":\"v\",\"showlegend\":false,\"x\":[\"2023-03-09T22:30:00\",\"2023-03-09T23:00:00\"],\"xaxis\":\"x2\",\"y\":[13.029999732971191,13.020000457763672],\"yaxis\":\"y2\",\"type\":\"scatter\"},{\"hovertemplate\":\"jajajaja lak al  alolalla swc=FR-Bil_SWC_1<br>FR-Bil_SWC_2=17.690000534057617<br>TIMESTAMP=%{x}<br>value=%{y}<extra></extra>\",\"legendgroup\":\"FR-Bil_SWC_1\",\"line\":{\"color\":\"#636efa\",\"dash\":\"solid\"},\"marker\":{\"symbol\":\"circle\"},\"mode\":\"lines\",\"name\":\"FR-Bil_SWC_1\",\"orientation\":\"v\",\"showlegend\":false,\"x\":[\"2023-03-09T23:30:00\"],\"xaxis\":\"x\",\"y\":[12.970000267028809],\"yaxis\":\"y\",\"type\":\"scatter\"},{\"hovertemplate\":\"jajajaja lak al  alolalla swc=FR-Bil_SWC_3<br>FR-Bil_SWC_2=17.34000015258789<br>TIMESTAMP=%{x}<br>value=%{y}<extra></extra>\",\"legendgroup\":\"FR-Bil_SWC_3\",\"line\":{\"color\":\"#EF553B\",\"dash\":\"solid\"},\"marker\":{\"symbol\":\"circle\"},\"mode\":\"lines\",\"name\":\"FR-Bil_SWC_3\",\"orientation\":\"v\",\"showlegend\":true,\"x\":[\"2023-03-08T00:00:00\",\"2023-03-08T02:30:00\"],\"xaxis\":\"x61\",\"y\":[10.390000343322754,10.319999694824219],\"yaxis\":\"y61\",\"type\":\"scatter\"},{\"hovertemplate\":\"jajajaja lak al  alolalla swc=FR-Bil_SWC_3<br>FR-Bil_SWC_2=17.350000381469727<br>TIMESTAMP=%{x}<br>value=%{y}<extra></extra>\",\"legendgroup\":\"FR-Bil_SWC_3\",\"line\":{\"color\":\"#EF553B\",\"dash\":\"solid\"},\"marker\":{\"symbol\":\"circle\"},\"mode\":\"lines\",\"name\":\"FR-Bil_SWC_3\",\"orientation\":\"v\",\"showlegend\":false,\"x\":[\"2023-03-08T00:30:00\",\"2023-03-08T14:00:00\",\"2023-03-08T14:30:00\",\"2023-03-08T15:30:00\"],\"xaxis\":\"x60\",\"y\":[10.390000343322754,10.75,10.739999771118164,10.75],\"yaxis\":\"y60\",\"type\":\"scatter\"},{\"hovertemplate\":\"jajajaja lak al  alolalla swc=FR-Bil_SWC_3<br>FR-Bil_SWC_2=17.270000457763672<br>TIMESTAMP=%{x}<br>value=%{y}<extra></extra>\",\"legendgroup\":\"FR-Bil_SWC_3\",\"line\":{\"color\":\"#EF553B\",\"dash\":\"solid\"},\"marker\":{\"symbol\":\"circle\"},\"mode\":\"lines\",\"name\":\"FR-Bil_SWC_3\",\"orientation\":\"v\",\"showlegend\":false,\"x\":[\"2023-03-08T01:00:00\"],\"xaxis\":\"x59\",\"y\":[10.390000343322754],\"yaxis\":\"y59\",\"type\":\"scatter\"},{\"hovertemplate\":\"jajajaja lak al  alolalla swc=FR-Bil_SWC_3<br>FR-Bil_SWC_2=17.239999771118164<br>TIMESTAMP=%{x}<br>value=%{y}<extra></extra>\",\"legendgroup\":\"FR-Bil_SWC_3\",\"line\":{\"color\":\"#EF553B\",\"dash\":\"solid\"},\"marker\":{\"symbol\":\"circle\"},\"mode\":\"lines\",\"name\":\"FR-Bil_SWC_3\",\"orientation\":\"v\",\"showlegend\":false,\"x\":[\"2023-03-08T01:30:00\",\"2023-03-08T05:00:00\"],\"xaxis\":\"x58\",\"y\":[10.359999656677246,10.300000190734863],\"yaxis\":\"y58\",\"type\":\"scatter\"},{\"hovertemplate\":\"jajajaja lak al  alolalla swc=FR-Bil_SWC_3<br>FR-Bil_SWC_2=17.290000915527344<br>TIMESTAMP=%{x}<br>value=%{y}<extra></extra>\",\"legendgroup\":\"FR-Bil_SWC_3\",\"line\":{\"color\":\"#EF553B\",\"dash\":\"solid\"},\"marker\":{\"symbol\":\"circle\"},\"mode\":\"lines\",\"name\":\"FR-Bil_SWC_3\",\"orientation\":\"v\",\"showlegend\":false,\"x\":[\"2023-03-08T02:00:00\",\"2023-03-08T06:30:00\",\"2023-03-08T07:00:00\",\"2023-03-08T17:00:00\"],\"xaxis\":\"x57\",\"y\":[10.329999923706055,10.329999923706055,10.359999656677246,10.75],\"yaxis\":\"y57\",\"type\":\"scatter\"},{\"hovertemplate\":\"jajajaja lak al  alolalla swc=FR-Bil_SWC_3<br>FR-Bil_SWC_2=17.329999923706055<br>TIMESTAMP=%{x}<br>value=%{y}<extra></extra>\",\"legendgroup\":\"FR-Bil_SWC_3\",\"line\":{\"color\":\"#EF553B\",\"dash\":\"solid\"},\"marker\":{\"symbol\":\"circle\"},\"mode\":\"lines\",\"name\":\"FR-Bil_SWC_3\",\"orientation\":\"v\",\"showlegend\":false,\"x\":[\"2023-03-08T03:00:00\",\"2023-03-08T10:00:00\",\"2023-03-08T16:30:00\",\"2023-03-08T18:00:00\"],\"xaxis\":\"x56\",\"y\":[10.279999732971191,10.600000381469727,10.75,10.720000267028809],\"yaxis\":\"y56\",\"type\":\"scatter\"},{\"hovertemplate\":\"jajajaja lak al  alolalla swc=FR-Bil_SWC_3<br>FR-Bil_SWC_2=17.25<br>TIMESTAMP=%{x}<br>value=%{y}<extra></extra>\",\"legendgroup\":\"FR-Bil_SWC_3\",\"line\":{\"color\":\"#EF553B\",\"dash\":\"solid\"},\"marker\":{\"symbol\":\"circle\"},\"mode\":\"lines\",\"name\":\"FR-Bil_SWC_3\",\"orientation\":\"v\",\"showlegend\":false,\"x\":[\"2023-03-08T03:30:00\"],\"xaxis\":\"x55\",\"y\":[10.270000457763672],\"yaxis\":\"y55\",\"type\":\"scatter\"},{\"hovertemplate\":\"jajajaja lak al  alolalla swc=FR-Bil_SWC_3<br>FR-Bil_SWC_2=17.209999084472656<br>TIMESTAMP=%{x}<br>value=%{y}<extra></extra>\",\"legendgroup\":\"FR-Bil_SWC_3\",\"line\":{\"color\":\"#EF553B\",\"dash\":\"solid\"},\"marker\":{\"symbol\":\"circle\"},\"mode\":\"lines\",\"name\":\"FR-Bil_SWC_3\",\"orientation\":\"v\",\"showlegend\":false,\"x\":[\"2023-03-08T04:00:00\",\"2023-03-08T04:30:00\",\"2023-03-08T05:30:00\"],\"xaxis\":\"x54\",\"y\":[10.270000457763672,10.279999732971191,10.3100004196167],\"yaxis\":\"y54\",\"type\":\"scatter\"},{\"hovertemplate\":\"jajajaja lak al  alolalla swc=FR-Bil_SWC_3<br>FR-Bil_SWC_2=17.219999313354492<br>TIMESTAMP=%{x}<br>value=%{y}<extra></extra>\",\"legendgroup\":\"FR-Bil_SWC_3\",\"line\":{\"color\":\"#EF553B\",\"dash\":\"solid\"},\"marker\":{\"symbol\":\"circle\"},\"mode\":\"lines\",\"name\":\"FR-Bil_SWC_3\",\"orientation\":\"v\",\"showlegend\":false,\"x\":[\"2023-03-08T06:00:00\"],\"xaxis\":\"x53\",\"y\":[10.319999694824219],\"yaxis\":\"y53\",\"type\":\"scatter\"},{\"hovertemplate\":\"jajajaja lak al  alolalla swc=FR-Bil_SWC_3<br>FR-Bil_SWC_2=17.31999969482422<br>TIMESTAMP=%{x}<br>value=%{y}<extra></extra>\",\"legendgroup\":\"FR-Bil_SWC_3\",\"line\":{\"color\":\"#EF553B\",\"dash\":\"solid\"},\"marker\":{\"symbol\":\"circle\"},\"mode\":\"lines\",\"name\":\"FR-Bil_SWC_3\",\"orientation\":\"v\",\"showlegend\":false,\"x\":[\"2023-03-08T07:30:00\",\"2023-03-08T08:00:00\",\"2023-03-08T09:00:00\",\"2023-03-08T10:30:00\"],\"xaxis\":\"x52\",\"y\":[10.350000381469727,10.359999656677246,10.479999542236328,10.520000457763672],\"yaxis\":\"y52\",\"type\":\"scatter\"},{\"hovertemplate\":\"jajajaja lak al  alolalla swc=FR-Bil_SWC_3<br>FR-Bil_SWC_2=17.260000228881836<br>TIMESTAMP=%{x}<br>value=%{y}<extra></extra>\",\"legendgroup\":\"FR-Bil_SWC_3\",\"line\":{\"color\":\"#EF553B\",\"dash\":\"solid\"},\"marker\":{\"symbol\":\"circle\"},\"mode\":\"lines\",\"name\":\"FR-Bil_SWC_3\",\"orientation\":\"v\",\"showlegend\":false,\"x\":[\"2023-03-08T08:30:00\"],\"xaxis\":\"x51\",\"y\":[10.4399995803833],\"yaxis\":\"y51\",\"type\":\"scatter\"},{\"hovertemplate\":\"jajajaja lak al  alolalla swc=FR-Bil_SWC_3<br>FR-Bil_SWC_2=17.360000610351562<br>TIMESTAMP=%{x}<br>value=%{y}<extra></extra>\",\"legendgroup\":\"FR-Bil_SWC_3\",\"line\":{\"color\":\"#EF553B\",\"dash\":\"solid\"},\"marker\":{\"symbol\":\"circle\"},\"mode\":\"lines\",\"name\":\"FR-Bil_SWC_3\",\"orientation\":\"v\",\"showlegend\":false,\"x\":[\"2023-03-08T09:30:00\",\"2023-03-08T11:00:00\",\"2023-03-08T13:30:00\",\"2023-03-08T16:00:00\"],\"xaxis\":\"x50\",\"y\":[10.470000267028809,10.579999923706055,10.739999771118164,10.75],\"yaxis\":\"y50\",\"type\":\"scatter\"},{\"hovertemplate\":\"jajajaja lak al  alolalla swc=FR-Bil_SWC_3<br>FR-Bil_SWC_2=17.420000076293945<br>TIMESTAMP=%{x}<br>value=%{y}<extra></extra>\",\"legendgroup\":\"FR-Bil_SWC_3\",\"line\":{\"color\":\"#EF553B\",\"dash\":\"solid\"},\"marker\":{\"symbol\":\"circle\"},\"mode\":\"lines\",\"name\":\"FR-Bil_SWC_3\",\"orientation\":\"v\",\"showlegend\":false,\"x\":[\"2023-03-08T11:30:00\"],\"xaxis\":\"x49\",\"y\":[10.770000457763672],\"yaxis\":\"y49\",\"type\":\"scatter\"},{\"hovertemplate\":\"jajajaja lak al  alolalla swc=FR-Bil_SWC_3<br>FR-Bil_SWC_2=17.450000762939453<br>TIMESTAMP=%{x}<br>value=%{y}<extra></extra>\",\"legendgroup\":\"FR-Bil_SWC_3\",\"line\":{\"color\":\"#EF553B\",\"dash\":\"solid\"},\"marker\":{\"symbol\":\"circle\"},\"mode\":\"lines\",\"name\":\"FR-Bil_SWC_3\",\"orientation\":\"v\",\"showlegend\":false,\"x\":[\"2023-03-08T12:00:00\",\"2023-03-08T12:30:00\"],\"xaxis\":\"x48\",\"y\":[10.729999542236328,10.699999809265137],\"yaxis\":\"y48\",\"type\":\"scatter\"},{\"hovertemplate\":\"jajajaja lak al  alolalla swc=FR-Bil_SWC_3<br>FR-Bil_SWC_2=17.399999618530273<br>TIMESTAMP=%{x}<br>value=%{y}<extra></extra>\",\"legendgroup\":\"FR-Bil_SWC_3\",\"line\":{\"color\":\"#EF553B\",\"dash\":\"solid\"},\"marker\":{\"symbol\":\"circle\"},\"mode\":\"lines\",\"name\":\"FR-Bil_SWC_3\",\"orientation\":\"v\",\"showlegend\":false,\"x\":[\"2023-03-08T13:00:00\"],\"xaxis\":\"x47\",\"y\":[10.729999542236328],\"yaxis\":\"y47\",\"type\":\"scatter\"},{\"hovertemplate\":\"jajajaja lak al  alolalla swc=FR-Bil_SWC_3<br>FR-Bil_SWC_2=17.299999237060547<br>TIMESTAMP=%{x}<br>value=%{y}<extra></extra>\",\"legendgroup\":\"FR-Bil_SWC_3\",\"line\":{\"color\":\"#EF553B\",\"dash\":\"solid\"},\"marker\":{\"symbol\":\"circle\"},\"mode\":\"lines\",\"name\":\"FR-Bil_SWC_3\",\"orientation\":\"v\",\"showlegend\":false,\"x\":[\"2023-03-08T15:00:00\",\"2023-03-08T17:30:00\"],\"xaxis\":\"x46\",\"y\":[10.760000228881836,10.739999771118164],\"yaxis\":\"y46\",\"type\":\"scatter\"},{\"hovertemplate\":\"jajajaja lak al  alolalla swc=FR-Bil_SWC_3<br>FR-Bil_SWC_2=17.3700008392334<br>TIMESTAMP=%{x}<br>value=%{y}<extra></extra>\",\"legendgroup\":\"FR-Bil_SWC_3\",\"line\":{\"color\":\"#EF553B\",\"dash\":\"solid\"},\"marker\":{\"symbol\":\"circle\"},\"mode\":\"lines\",\"name\":\"FR-Bil_SWC_3\",\"orientation\":\"v\",\"showlegend\":false,\"x\":[\"2023-03-08T18:30:00\"],\"xaxis\":\"x45\",\"y\":[10.720000267028809],\"yaxis\":\"y45\",\"type\":\"scatter\"},{\"hovertemplate\":\"jajajaja lak al  alolalla swc=FR-Bil_SWC_3<br>FR-Bil_SWC_2=17.43000030517578<br>TIMESTAMP=%{x}<br>value=%{y}<extra></extra>\",\"legendgroup\":\"FR-Bil_SWC_3\",\"line\":{\"color\":\"#EF553B\",\"dash\":\"solid\"},\"marker\":{\"symbol\":\"circle\"},\"mode\":\"lines\",\"name\":\"FR-Bil_SWC_3\",\"orientation\":\"v\",\"showlegend\":false,\"x\":[\"2023-03-08T19:00:00\"],\"xaxis\":\"x44\",\"y\":[10.720000267028809],\"yaxis\":\"y44\",\"type\":\"scatter\"},{\"hovertemplate\":\"jajajaja lak al  alolalla swc=FR-Bil_SWC_3<br>FR-Bil_SWC_2=17.600000381469727<br>TIMESTAMP=%{x}<br>value=%{y}<extra></extra>\",\"legendgroup\":\"FR-Bil_SWC_3\",\"line\":{\"color\":\"#EF553B\",\"dash\":\"solid\"},\"marker\":{\"symbol\":\"circle\"},\"mode\":\"lines\",\"name\":\"FR-Bil_SWC_3\",\"orientation\":\"v\",\"showlegend\":false,\"x\":[\"2023-03-08T19:30:00\"],\"xaxis\":\"x43\",\"y\":[10.739999771118164],\"yaxis\":\"y43\",\"type\":\"scatter\"},{\"hovertemplate\":\"jajajaja lak al  alolalla swc=FR-Bil_SWC_3<br>FR-Bil_SWC_2=17.829999923706055<br>TIMESTAMP=%{x}<br>value=%{y}<extra></extra>\",\"legendgroup\":\"FR-Bil_SWC_3\",\"line\":{\"color\":\"#EF553B\",\"dash\":\"solid\"},\"marker\":{\"symbol\":\"circle\"},\"mode\":\"lines\",\"name\":\"FR-Bil_SWC_3\",\"orientation\":\"v\",\"showlegend\":false,\"x\":[\"2023-03-08T20:00:00\",\"2023-03-09T19:30:00\"],\"xaxis\":\"x42\",\"y\":[10.890000343322754,11.109999656677246],\"yaxis\":\"y42\",\"type\":\"scatter\"},{\"hovertemplate\":\"jajajaja lak al  alolalla swc=FR-Bil_SWC_3<br>FR-Bil_SWC_2=17.920000076293945<br>TIMESTAMP=%{x}<br>value=%{y}<extra></extra>\",\"legendgroup\":\"FR-Bil_SWC_3\",\"line\":{\"color\":\"#EF553B\",\"dash\":\"solid\"},\"marker\":{\"symbol\":\"circle\"},\"mode\":\"lines\",\"name\":\"FR-Bil_SWC_3\",\"orientation\":\"v\",\"showlegend\":false,\"x\":[\"2023-03-08T20:30:00\"],\"xaxis\":\"x41\",\"y\":[11.020000457763672],\"yaxis\":\"y41\",\"type\":\"scatter\"},{\"hovertemplate\":\"jajajaja lak al  alolalla swc=FR-Bil_SWC_3<br>FR-Bil_SWC_2=18.049999237060547<br>TIMESTAMP=%{x}<br>value=%{y}<extra></extra>\",\"legendgroup\":\"FR-Bil_SWC_3\",\"line\":{\"color\":\"#EF553B\",\"dash\":\"solid\"},\"marker\":{\"symbol\":\"circle\"},\"mode\":\"lines\",\"name\":\"FR-Bil_SWC_3\",\"orientation\":\"v\",\"showlegend\":false,\"x\":[\"2023-03-08T21:00:00\",\"2023-03-09T11:00:00\",\"2023-03-09T11:30:00\"],\"xaxis\":\"x40\",\"y\":[11.180000305175781,11.460000038146973,11.539999961853027],\"yaxis\":\"y40\",\"type\":\"scatter\"},{\"hovertemplate\":\"jajajaja lak al  alolalla swc=FR-Bil_SWC_3<br>FR-Bil_SWC_2=18.139999389648438<br>TIMESTAMP=%{x}<br>value=%{y}<extra></extra>\",\"legendgroup\":\"FR-Bil_SWC_3\",\"line\":{\"color\":\"#EF553B\",\"dash\":\"solid\"},\"marker\":{\"symbol\":\"circle\"},\"mode\":\"lines\",\"name\":\"FR-Bil_SWC_3\",\"orientation\":\"v\",\"showlegend\":false,\"x\":[\"2023-03-08T21:30:00\"],\"xaxis\":\"x39\",\"y\":[11.239999771118164],\"yaxis\":\"y39\",\"type\":\"scatter\"},{\"hovertemplate\":\"jajajaja lak al  alolalla swc=FR-Bil_SWC_3<br>FR-Bil_SWC_2=18.1299991607666<br>TIMESTAMP=%{x}<br>value=%{y}<extra></extra>\",\"legendgroup\":\"FR-Bil_SWC_3\",\"line\":{\"color\":\"#EF553B\",\"dash\":\"solid\"},\"marker\":{\"symbol\":\"circle\"},\"mode\":\"lines\",\"name\":\"FR-Bil_SWC_3\",\"orientation\":\"v\",\"showlegend\":false,\"x\":[\"2023-03-08T22:00:00\",\"2023-03-09T09:30:00\"],\"xaxis\":\"x38\",\"y\":[11.369999885559082,11.420000076293945],\"yaxis\":\"y38\",\"type\":\"scatter\"},{\"hovertemplate\":\"jajajaja lak al  alolalla swc=FR-Bil_SWC_3<br>FR-Bil_SWC_2=18.149999618530273<br>TIMESTAMP=%{x}<br>value=%{y}<extra></extra>\",\"legendgroup\":\"FR-Bil_SWC_3\",\"line\":{\"color\":\"#EF553B\",\"dash\":\"solid\"},\"marker\":{\"symbol\":\"circle\"},\"mode\":\"lines\",\"name\":\"FR-Bil_SWC_3\",\"orientation\":\"v\",\"showlegend\":false,\"x\":[\"2023-03-08T22:30:00\"],\"xaxis\":\"x37\",\"y\":[11.470000267028809],\"yaxis\":\"y37\",\"type\":\"scatter\"},{\"hovertemplate\":\"jajajaja lak al  alolalla swc=FR-Bil_SWC_3<br>FR-Bil_SWC_2=18.190000534057617<br>TIMESTAMP=%{x}<br>value=%{y}<extra></extra>\",\"legendgroup\":\"FR-Bil_SWC_3\",\"line\":{\"color\":\"#EF553B\",\"dash\":\"solid\"},\"marker\":{\"symbol\":\"circle\"},\"mode\":\"lines\",\"name\":\"FR-Bil_SWC_3\",\"orientation\":\"v\",\"showlegend\":false,\"x\":[\"2023-03-08T23:00:00\",\"2023-03-09T00:30:00\",\"2023-03-09T01:00:00\"],\"xaxis\":\"x36\",\"y\":[11.470000267028809,11.649999618530273,11.630000114440918],\"yaxis\":\"y36\",\"type\":\"scatter\"},{\"hovertemplate\":\"jajajaja lak al  alolalla swc=FR-Bil_SWC_3<br>FR-Bil_SWC_2=18.260000228881836<br>TIMESTAMP=%{x}<br>value=%{y}<extra></extra>\",\"legendgroup\":\"FR-Bil_SWC_3\",\"line\":{\"color\":\"#EF553B\",\"dash\":\"solid\"},\"marker\":{\"symbol\":\"circle\"},\"mode\":\"lines\",\"name\":\"FR-Bil_SWC_3\",\"orientation\":\"v\",\"showlegend\":false,\"x\":[\"2023-03-08T23:30:00\"],\"xaxis\":\"x35\",\"y\":[11.449999809265137],\"yaxis\":\"y35\",\"type\":\"scatter\"},{\"hovertemplate\":\"jajajaja lak al  alolalla swc=FR-Bil_SWC_3<br>FR-Bil_SWC_2=18.229999542236328<br>TIMESTAMP=%{x}<br>value=%{y}<extra></extra>\",\"legendgroup\":\"FR-Bil_SWC_3\",\"line\":{\"color\":\"#EF553B\",\"dash\":\"solid\"},\"marker\":{\"symbol\":\"circle\"},\"mode\":\"lines\",\"name\":\"FR-Bil_SWC_3\",\"orientation\":\"v\",\"showlegend\":false,\"x\":[\"2023-03-09T00:00:00\",\"2023-03-09T05:30:00\"],\"xaxis\":\"x34\",\"y\":[11.619999885559082,11.630000114440918],\"yaxis\":\"y34\",\"type\":\"scatter\"},{\"hovertemplate\":\"jajajaja lak al  alolalla swc=FR-Bil_SWC_3<br>FR-Bil_SWC_2=18.170000076293945<br>TIMESTAMP=%{x}<br>value=%{y}<extra></extra>\",\"legendgroup\":\"FR-Bil_SWC_3\",\"line\":{\"color\":\"#EF553B\",\"dash\":\"solid\"},\"marker\":{\"symbol\":\"circle\"},\"mode\":\"lines\",\"name\":\"FR-Bil_SWC_3\",\"orientation\":\"v\",\"showlegend\":false,\"x\":[\"2023-03-09T01:30:00\",\"2023-03-09T08:00:00\"],\"xaxis\":\"x33\",\"y\":[11.569999694824219,11.520000457763672],\"yaxis\":\"y33\",\"type\":\"scatter\"},{\"hovertemplate\":\"jajajaja lak al  alolalla swc=FR-Bil_SWC_3<br>FR-Bil_SWC_2=18.15999984741211<br>TIMESTAMP=%{x}<br>value=%{y}<extra></extra>\",\"legendgroup\":\"FR-Bil_SWC_3\",\"line\":{\"color\":\"#EF553B\",\"dash\":\"solid\"},\"marker\":{\"symbol\":\"circle\"},\"mode\":\"lines\",\"name\":\"FR-Bil_SWC_3\",\"orientation\":\"v\",\"showlegend\":false,\"x\":[\"2023-03-09T02:00:00\",\"2023-03-09T02:30:00\"],\"xaxis\":\"x32\",\"y\":[11.569999694824219,11.59000015258789],\"yaxis\":\"y32\",\"type\":\"scatter\"},{\"hovertemplate\":\"jajajaja lak al  alolalla swc=FR-Bil_SWC_3<br>FR-Bil_SWC_2=18.18000030517578<br>TIMESTAMP=%{x}<br>value=%{y}<extra></extra>\",\"legendgroup\":\"FR-Bil_SWC_3\",\"line\":{\"color\":\"#EF553B\",\"dash\":\"solid\"},\"marker\":{\"symbol\":\"circle\"},\"mode\":\"lines\",\"name\":\"FR-Bil_SWC_3\",\"orientation\":\"v\",\"showlegend\":false,\"x\":[\"2023-03-09T03:00:00\"],\"xaxis\":\"x31\",\"y\":[11.579999923706055],\"yaxis\":\"y31\",\"type\":\"scatter\"},{\"hovertemplate\":\"jajajaja lak al  alolalla swc=FR-Bil_SWC_3<br>FR-Bil_SWC_2=18.25<br>TIMESTAMP=%{x}<br>value=%{y}<extra></extra>\",\"legendgroup\":\"FR-Bil_SWC_3\",\"line\":{\"color\":\"#EF553B\",\"dash\":\"solid\"},\"marker\":{\"symbol\":\"circle\"},\"mode\":\"lines\",\"name\":\"FR-Bil_SWC_3\",\"orientation\":\"v\",\"showlegend\":false,\"x\":[\"2023-03-09T03:30:00\"],\"xaxis\":\"x30\",\"y\":[11.600000381469727],\"yaxis\":\"y30\",\"type\":\"scatter\"},{\"hovertemplate\":\"jajajaja lak al  alolalla swc=FR-Bil_SWC_3<br>FR-Bil_SWC_2=18.299999237060547<br>TIMESTAMP=%{x}<br>value=%{y}<extra></extra>\",\"legendgroup\":\"FR-Bil_SWC_3\",\"line\":{\"color\":\"#EF553B\",\"dash\":\"solid\"},\"marker\":{\"symbol\":\"circle\"},\"mode\":\"lines\",\"name\":\"FR-Bil_SWC_3\",\"orientation\":\"v\",\"showlegend\":false,\"x\":[\"2023-03-09T04:00:00\"],\"xaxis\":\"x29\",\"y\":[11.59000015258789],\"yaxis\":\"y29\",\"type\":\"scatter\"},{\"hovertemplate\":\"jajajaja lak al  alolalla swc=FR-Bil_SWC_3<br>FR-Bil_SWC_2=18.280000686645508<br>TIMESTAMP=%{x}<br>value=%{y}<extra></extra>\",\"legendgroup\":\"FR-Bil_SWC_3\",\"line\":{\"color\":\"#EF553B\",\"dash\":\"solid\"},\"marker\":{\"symbol\":\"circle\"},\"mode\":\"lines\",\"name\":\"FR-Bil_SWC_3\",\"orientation\":\"v\",\"showlegend\":false,\"x\":[\"2023-03-09T04:30:00\"],\"xaxis\":\"x28\",\"y\":[11.619999885559082],\"yaxis\":\"y28\",\"type\":\"scatter\"},{\"hovertemplate\":\"jajajaja lak al  alolalla swc=FR-Bil_SWC_3<br>FR-Bil_SWC_2=18.239999771118164<br>TIMESTAMP=%{x}<br>value=%{y}<extra></extra>\",\"legendgroup\":\"FR-Bil_SWC_3\",\"line\":{\"color\":\"#EF553B\",\"dash\":\"solid\"},\"marker\":{\"symbol\":\"circle\"},\"mode\":\"lines\",\"name\":\"FR-Bil_SWC_3\",\"orientation\":\"v\",\"showlegend\":false,\"x\":[\"2023-03-09T05:00:00\"],\"xaxis\":\"x27\",\"y\":[11.630000114440918],\"yaxis\":\"y27\",\"type\":\"scatter\"},{\"hovertemplate\":\"jajajaja lak al  alolalla swc=FR-Bil_SWC_3<br>FR-Bil_SWC_2=18.219999313354492<br>TIMESTAMP=%{x}<br>value=%{y}<extra></extra>\",\"legendgroup\":\"FR-Bil_SWC_3\",\"line\":{\"color\":\"#EF553B\",\"dash\":\"solid\"},\"marker\":{\"symbol\":\"circle\"},\"mode\":\"lines\",\"name\":\"FR-Bil_SWC_3\",\"orientation\":\"v\",\"showlegend\":false,\"x\":[\"2023-03-09T06:00:00\"],\"xaxis\":\"x26\",\"y\":[11.59000015258789],\"yaxis\":\"y26\",\"type\":\"scatter\"},{\"hovertemplate\":\"jajajaja lak al  alolalla swc=FR-Bil_SWC_3<br>FR-Bil_SWC_2=18.200000762939453<br>TIMESTAMP=%{x}<br>value=%{y}<extra></extra>\",\"legendgroup\":\"FR-Bil_SWC_3\",\"line\":{\"color\":\"#EF553B\",\"dash\":\"solid\"},\"marker\":{\"symbol\":\"circle\"},\"mode\":\"lines\",\"name\":\"FR-Bil_SWC_3\",\"orientation\":\"v\",\"showlegend\":false,\"x\":[\"2023-03-09T06:30:00\"],\"xaxis\":\"x25\",\"y\":[11.520000457763672],\"yaxis\":\"y25\",\"type\":\"scatter\"},{\"hovertemplate\":\"jajajaja lak al  alolalla swc=FR-Bil_SWC_3<br>FR-Bil_SWC_2=18.209999084472656<br>TIMESTAMP=%{x}<br>value=%{y}<extra></extra>\",\"legendgroup\":\"FR-Bil_SWC_3\",\"line\":{\"color\":\"#EF553B\",\"dash\":\"solid\"},\"marker\":{\"symbol\":\"circle\"},\"mode\":\"lines\",\"name\":\"FR-Bil_SWC_3\",\"orientation\":\"v\",\"showlegend\":false,\"x\":[\"2023-03-09T07:00:00\",\"2023-03-09T07:30:00\"],\"xaxis\":\"x24\",\"y\":[11.520000457763672,11.539999961853027],\"yaxis\":\"y24\",\"type\":\"scatter\"},{\"hovertemplate\":\"jajajaja lak al  alolalla swc=FR-Bil_SWC_3<br>FR-Bil_SWC_2=18.1200008392334<br>TIMESTAMP=%{x}<br>value=%{y}<extra></extra>\",\"legendgroup\":\"FR-Bil_SWC_3\",\"line\":{\"color\":\"#EF553B\",\"dash\":\"solid\"},\"marker\":{\"symbol\":\"circle\"},\"mode\":\"lines\",\"name\":\"FR-Bil_SWC_3\",\"orientation\":\"v\",\"showlegend\":false,\"x\":[\"2023-03-09T08:30:00\"],\"xaxis\":\"x23\",\"y\":[11.510000228881836],\"yaxis\":\"y23\",\"type\":\"scatter\"},{\"hovertemplate\":\"jajajaja lak al  alolalla swc=FR-Bil_SWC_3<br>FR-Bil_SWC_2=18.110000610351562<br>TIMESTAMP=%{x}<br>value=%{y}<extra></extra>\",\"legendgroup\":\"FR-Bil_SWC_3\",\"line\":{\"color\":\"#EF553B\",\"dash\":\"solid\"},\"marker\":{\"symbol\":\"circle\"},\"mode\":\"lines\",\"name\":\"FR-Bil_SWC_3\",\"orientation\":\"v\",\"showlegend\":false,\"x\":[\"2023-03-09T09:00:00\"],\"xaxis\":\"x22\",\"y\":[11.4399995803833],\"yaxis\":\"y22\",\"type\":\"scatter\"},{\"hovertemplate\":\"jajajaja lak al  alolalla swc=FR-Bil_SWC_3<br>FR-Bil_SWC_2=18.100000381469727<br>TIMESTAMP=%{x}<br>value=%{y}<extra></extra>\",\"legendgroup\":\"FR-Bil_SWC_3\",\"line\":{\"color\":\"#EF553B\",\"dash\":\"solid\"},\"marker\":{\"symbol\":\"circle\"},\"mode\":\"lines\",\"name\":\"FR-Bil_SWC_3\",\"orientation\":\"v\",\"showlegend\":false,\"x\":[\"2023-03-09T10:00:00\"],\"xaxis\":\"x21\",\"y\":[11.430000305175781],\"yaxis\":\"y21\",\"type\":\"scatter\"},{\"hovertemplate\":\"jajajaja lak al  alolalla swc=FR-Bil_SWC_3<br>FR-Bil_SWC_2=18.06999969482422<br>TIMESTAMP=%{x}<br>value=%{y}<extra></extra>\",\"legendgroup\":\"FR-Bil_SWC_3\",\"line\":{\"color\":\"#EF553B\",\"dash\":\"solid\"},\"marker\":{\"symbol\":\"circle\"},\"mode\":\"lines\",\"name\":\"FR-Bil_SWC_3\",\"orientation\":\"v\",\"showlegend\":false,\"x\":[\"2023-03-09T10:30:00\"],\"xaxis\":\"x20\",\"y\":[11.34000015258789],\"yaxis\":\"y20\",\"type\":\"scatter\"},{\"hovertemplate\":\"jajajaja lak al  alolalla swc=FR-Bil_SWC_3<br>FR-Bil_SWC_2=18.040000915527344<br>TIMESTAMP=%{x}<br>value=%{y}<extra></extra>\",\"legendgroup\":\"FR-Bil_SWC_3\",\"line\":{\"color\":\"#EF553B\",\"dash\":\"solid\"},\"marker\":{\"symbol\":\"circle\"},\"mode\":\"lines\",\"name\":\"FR-Bil_SWC_3\",\"orientation\":\"v\",\"showlegend\":false,\"x\":[\"2023-03-09T12:00:00\"],\"xaxis\":\"x19\",\"y\":[11.3100004196167],\"yaxis\":\"y19\",\"type\":\"scatter\"},{\"hovertemplate\":\"jajajaja lak al  alolalla swc=FR-Bil_SWC_3<br>FR-Bil_SWC_2=17.959999084472656<br>TIMESTAMP=%{x}<br>value=%{y}<extra></extra>\",\"legendgroup\":\"FR-Bil_SWC_3\",\"line\":{\"color\":\"#EF553B\",\"dash\":\"solid\"},\"marker\":{\"symbol\":\"circle\"},\"mode\":\"lines\",\"name\":\"FR-Bil_SWC_3\",\"orientation\":\"v\",\"showlegend\":false,\"x\":[\"2023-03-09T12:30:00\"],\"xaxis\":\"x18\",\"y\":[11.270000457763672],\"yaxis\":\"y18\",\"type\":\"scatter\"},{\"hovertemplate\":\"jajajaja lak al  alolalla swc=FR-Bil_SWC_3<br>FR-Bil_SWC_2=17.979999542236328<br>TIMESTAMP=%{x}<br>value=%{y}<extra></extra>\",\"legendgroup\":\"FR-Bil_SWC_3\",\"line\":{\"color\":\"#EF553B\",\"dash\":\"solid\"},\"marker\":{\"symbol\":\"circle\"},\"mode\":\"lines\",\"name\":\"FR-Bil_SWC_3\",\"orientation\":\"v\",\"showlegend\":false,\"x\":[\"2023-03-09T13:00:00\"],\"xaxis\":\"x17\",\"y\":[11.40999984741211],\"yaxis\":\"y17\",\"type\":\"scatter\"},{\"hovertemplate\":\"jajajaja lak al  alolalla swc=FR-Bil_SWC_3<br>FR-Bil_SWC_2=17.950000762939453<br>TIMESTAMP=%{x}<br>value=%{y}<extra></extra>\",\"legendgroup\":\"FR-Bil_SWC_3\",\"line\":{\"color\":\"#EF553B\",\"dash\":\"solid\"},\"marker\":{\"symbol\":\"circle\"},\"mode\":\"lines\",\"name\":\"FR-Bil_SWC_3\",\"orientation\":\"v\",\"showlegend\":false,\"x\":[\"2023-03-09T13:30:00\"],\"xaxis\":\"x16\",\"y\":[11.34000015258789],\"yaxis\":\"y16\",\"type\":\"scatter\"},{\"hovertemplate\":\"jajajaja lak al  alolalla swc=FR-Bil_SWC_3<br>FR-Bil_SWC_2=18.0<br>TIMESTAMP=%{x}<br>value=%{y}<extra></extra>\",\"legendgroup\":\"FR-Bil_SWC_3\",\"line\":{\"color\":\"#EF553B\",\"dash\":\"solid\"},\"marker\":{\"symbol\":\"circle\"},\"mode\":\"lines\",\"name\":\"FR-Bil_SWC_3\",\"orientation\":\"v\",\"showlegend\":false,\"x\":[\"2023-03-09T14:00:00\"],\"xaxis\":\"x15\",\"y\":[11.210000038146973],\"yaxis\":\"y15\",\"type\":\"scatter\"},{\"hovertemplate\":\"jajajaja lak al  alolalla swc=FR-Bil_SWC_3<br>FR-Bil_SWC_2=17.8799991607666<br>TIMESTAMP=%{x}<br>value=%{y}<extra></extra>\",\"legendgroup\":\"FR-Bil_SWC_3\",\"line\":{\"color\":\"#EF553B\",\"dash\":\"solid\"},\"marker\":{\"symbol\":\"circle\"},\"mode\":\"lines\",\"name\":\"FR-Bil_SWC_3\",\"orientation\":\"v\",\"showlegend\":false,\"x\":[\"2023-03-09T14:30:00\"],\"xaxis\":\"x14\",\"y\":[11.350000381469727],\"yaxis\":\"y14\",\"type\":\"scatter\"},{\"hovertemplate\":\"jajajaja lak al  alolalla swc=FR-Bil_SWC_3<br>FR-Bil_SWC_2=17.860000610351562<br>TIMESTAMP=%{x}<br>value=%{y}<extra></extra>\",\"legendgroup\":\"FR-Bil_SWC_3\",\"line\":{\"color\":\"#EF553B\",\"dash\":\"solid\"},\"marker\":{\"symbol\":\"circle\"},\"mode\":\"lines\",\"name\":\"FR-Bil_SWC_3\",\"orientation\":\"v\",\"showlegend\":false,\"x\":[\"2023-03-09T15:00:00\",\"2023-03-09T17:30:00\",\"2023-03-09T19:00:00\"],\"xaxis\":\"x13\",\"y\":[11.319999694824219,11.239999771118164,11.100000381469727],\"yaxis\":\"y13\",\"type\":\"scatter\"},{\"hovertemplate\":\"jajajaja lak al  alolalla swc=FR-Bil_SWC_3<br>FR-Bil_SWC_2=17.84000015258789<br>TIMESTAMP=%{x}<br>value=%{y}<extra></extra>\",\"legendgroup\":\"FR-Bil_SWC_3\",\"line\":{\"color\":\"#EF553B\",\"dash\":\"solid\"},\"marker\":{\"symbol\":\"circle\"},\"mode\":\"lines\",\"name\":\"FR-Bil_SWC_3\",\"orientation\":\"v\",\"showlegend\":false,\"x\":[\"2023-03-09T15:30:00\"],\"xaxis\":\"x12\",\"y\":[11.149999618530273],\"yaxis\":\"y12\",\"type\":\"scatter\"},{\"hovertemplate\":\"jajajaja lak al  alolalla swc=FR-Bil_SWC_3<br>FR-Bil_SWC_2=17.790000915527344<br>TIMESTAMP=%{x}<br>value=%{y}<extra></extra>\",\"legendgroup\":\"FR-Bil_SWC_3\",\"line\":{\"color\":\"#EF553B\",\"dash\":\"solid\"},\"marker\":{\"symbol\":\"circle\"},\"mode\":\"lines\",\"name\":\"FR-Bil_SWC_3\",\"orientation\":\"v\",\"showlegend\":false,\"x\":[\"2023-03-09T16:00:00\"],\"xaxis\":\"x11\",\"y\":[11.119999885559082],\"yaxis\":\"y11\",\"type\":\"scatter\"},{\"hovertemplate\":\"jajajaja lak al  alolalla swc=FR-Bil_SWC_3<br>FR-Bil_SWC_2=17.770000457763672<br>TIMESTAMP=%{x}<br>value=%{y}<extra></extra>\",\"legendgroup\":\"FR-Bil_SWC_3\",\"line\":{\"color\":\"#EF553B\",\"dash\":\"solid\"},\"marker\":{\"symbol\":\"circle\"},\"mode\":\"lines\",\"name\":\"FR-Bil_SWC_3\",\"orientation\":\"v\",\"showlegend\":false,\"x\":[\"2023-03-09T16:30:00\"],\"xaxis\":\"x10\",\"y\":[11.1899995803833],\"yaxis\":\"y10\",\"type\":\"scatter\"},{\"hovertemplate\":\"jajajaja lak al  alolalla swc=FR-Bil_SWC_3<br>FR-Bil_SWC_2=17.799999237060547<br>TIMESTAMP=%{x}<br>value=%{y}<extra></extra>\",\"legendgroup\":\"FR-Bil_SWC_3\",\"line\":{\"color\":\"#EF553B\",\"dash\":\"solid\"},\"marker\":{\"symbol\":\"circle\"},\"mode\":\"lines\",\"name\":\"FR-Bil_SWC_3\",\"orientation\":\"v\",\"showlegend\":false,\"x\":[\"2023-03-09T17:00:00\"],\"xaxis\":\"x9\",\"y\":[11.239999771118164],\"yaxis\":\"y9\",\"type\":\"scatter\"},{\"hovertemplate\":\"jajajaja lak al  alolalla swc=FR-Bil_SWC_3<br>FR-Bil_SWC_2=17.899999618530273<br>TIMESTAMP=%{x}<br>value=%{y}<extra></extra>\",\"legendgroup\":\"FR-Bil_SWC_3\",\"line\":{\"color\":\"#EF553B\",\"dash\":\"solid\"},\"marker\":{\"symbol\":\"circle\"},\"mode\":\"lines\",\"name\":\"FR-Bil_SWC_3\",\"orientation\":\"v\",\"showlegend\":false,\"x\":[\"2023-03-09T18:00:00\"],\"xaxis\":\"x8\",\"y\":[11.180000305175781],\"yaxis\":\"y8\",\"type\":\"scatter\"},{\"hovertemplate\":\"jajajaja lak al  alolalla swc=FR-Bil_SWC_3<br>FR-Bil_SWC_2=17.889999389648438<br>TIMESTAMP=%{x}<br>value=%{y}<extra></extra>\",\"legendgroup\":\"FR-Bil_SWC_3\",\"line\":{\"color\":\"#EF553B\",\"dash\":\"solid\"},\"marker\":{\"symbol\":\"circle\"},\"mode\":\"lines\",\"name\":\"FR-Bil_SWC_3\",\"orientation\":\"v\",\"showlegend\":false,\"x\":[\"2023-03-09T18:30:00\"],\"xaxis\":\"x7\",\"y\":[11.09000015258789],\"yaxis\":\"y7\",\"type\":\"scatter\"},{\"hovertemplate\":\"jajajaja lak al  alolalla swc=FR-Bil_SWC_3<br>FR-Bil_SWC_2=17.81999969482422<br>TIMESTAMP=%{x}<br>value=%{y}<extra></extra>\",\"legendgroup\":\"FR-Bil_SWC_3\",\"line\":{\"color\":\"#EF553B\",\"dash\":\"solid\"},\"marker\":{\"symbol\":\"circle\"},\"mode\":\"lines\",\"name\":\"FR-Bil_SWC_3\",\"orientation\":\"v\",\"showlegend\":false,\"x\":[\"2023-03-09T20:00:00\"],\"xaxis\":\"x6\",\"y\":[11.140000343322754],\"yaxis\":\"y6\",\"type\":\"scatter\"},{\"hovertemplate\":\"jajajaja lak al  alolalla swc=FR-Bil_SWC_3<br>FR-Bil_SWC_2=17.780000686645508<br>TIMESTAMP=%{x}<br>value=%{y}<extra></extra>\",\"legendgroup\":\"FR-Bil_SWC_3\",\"line\":{\"color\":\"#EF553B\",\"dash\":\"solid\"},\"marker\":{\"symbol\":\"circle\"},\"mode\":\"lines\",\"name\":\"FR-Bil_SWC_3\",\"orientation\":\"v\",\"showlegend\":false,\"x\":[\"2023-03-09T20:30:00\"],\"xaxis\":\"x5\",\"y\":[11.100000381469727],\"yaxis\":\"y5\",\"type\":\"scatter\"},{\"hovertemplate\":\"jajajaja lak al  alolalla swc=FR-Bil_SWC_3<br>FR-Bil_SWC_2=17.739999771118164<br>TIMESTAMP=%{x}<br>value=%{y}<extra></extra>\",\"legendgroup\":\"FR-Bil_SWC_3\",\"line\":{\"color\":\"#EF553B\",\"dash\":\"solid\"},\"marker\":{\"symbol\":\"circle\"},\"mode\":\"lines\",\"name\":\"FR-Bil_SWC_3\",\"orientation\":\"v\",\"showlegend\":false,\"x\":[\"2023-03-09T21:00:00\",\"2023-03-09T22:00:00\"],\"xaxis\":\"x4\",\"y\":[11.09000015258789,11.020000457763672],\"yaxis\":\"y4\",\"type\":\"scatter\"},{\"hovertemplate\":\"jajajaja lak al  alolalla swc=FR-Bil_SWC_3<br>FR-Bil_SWC_2=17.760000228881836<br>TIMESTAMP=%{x}<br>value=%{y}<extra></extra>\",\"legendgroup\":\"FR-Bil_SWC_3\",\"line\":{\"color\":\"#EF553B\",\"dash\":\"solid\"},\"marker\":{\"symbol\":\"circle\"},\"mode\":\"lines\",\"name\":\"FR-Bil_SWC_3\",\"orientation\":\"v\",\"showlegend\":false,\"x\":[\"2023-03-09T21:30:00\"],\"xaxis\":\"x3\",\"y\":[11.050000190734863],\"yaxis\":\"y3\",\"type\":\"scatter\"},{\"hovertemplate\":\"jajajaja lak al  alolalla swc=FR-Bil_SWC_3<br>FR-Bil_SWC_2=17.719999313354492<br>TIMESTAMP=%{x}<br>value=%{y}<extra></extra>\",\"legendgroup\":\"FR-Bil_SWC_3\",\"line\":{\"color\":\"#EF553B\",\"dash\":\"solid\"},\"marker\":{\"symbol\":\"circle\"},\"mode\":\"lines\",\"name\":\"FR-Bil_SWC_3\",\"orientation\":\"v\",\"showlegend\":false,\"x\":[\"2023-03-09T22:30:00\",\"2023-03-09T23:00:00\"],\"xaxis\":\"x2\",\"y\":[10.960000038146973,10.960000038146973],\"yaxis\":\"y2\",\"type\":\"scatter\"},{\"hovertemplate\":\"jajajaja lak al  alolalla swc=FR-Bil_SWC_3<br>FR-Bil_SWC_2=17.690000534057617<br>TIMESTAMP=%{x}<br>value=%{y}<extra></extra>\",\"legendgroup\":\"FR-Bil_SWC_3\",\"line\":{\"color\":\"#EF553B\",\"dash\":\"solid\"},\"marker\":{\"symbol\":\"circle\"},\"mode\":\"lines\",\"name\":\"FR-Bil_SWC_3\",\"orientation\":\"v\",\"showlegend\":false,\"x\":[\"2023-03-09T23:30:00\"],\"xaxis\":\"x\",\"y\":[10.970000267028809],\"yaxis\":\"y\",\"type\":\"scatter\"},{\"hovertemplate\":\"jajajaja lak al  alolalla swc=FR-Bil_SWC_4<br>FR-Bil_SWC_2=17.34000015258789<br>TIMESTAMP=%{x}<br>value=%{y}<extra></extra>\",\"legendgroup\":\"FR-Bil_SWC_4\",\"line\":{\"color\":\"#00cc96\",\"dash\":\"solid\"},\"marker\":{\"symbol\":\"circle\"},\"mode\":\"lines\",\"name\":\"FR-Bil_SWC_4\",\"orientation\":\"v\",\"showlegend\":true,\"x\":[\"2023-03-08T00:00:00\",\"2023-03-08T02:30:00\"],\"xaxis\":\"x61\",\"y\":[17.3799991607666,17.600000381469727],\"yaxis\":\"y61\",\"type\":\"scatter\"},{\"hovertemplate\":\"jajajaja lak al  alolalla swc=FR-Bil_SWC_4<br>FR-Bil_SWC_2=17.350000381469727<br>TIMESTAMP=%{x}<br>value=%{y}<extra></extra>\",\"legendgroup\":\"FR-Bil_SWC_4\",\"line\":{\"color\":\"#00cc96\",\"dash\":\"solid\"},\"marker\":{\"symbol\":\"circle\"},\"mode\":\"lines\",\"name\":\"FR-Bil_SWC_4\",\"orientation\":\"v\",\"showlegend\":false,\"x\":[\"2023-03-08T00:30:00\",\"2023-03-08T14:00:00\",\"2023-03-08T14:30:00\",\"2023-03-08T15:30:00\"],\"xaxis\":\"x60\",\"y\":[17.530000686645508,17.799999237060547,17.799999237060547,17.950000762939453],\"yaxis\":\"y60\",\"type\":\"scatter\"},{\"hovertemplate\":\"jajajaja lak al  alolalla swc=FR-Bil_SWC_4<br>FR-Bil_SWC_2=17.270000457763672<br>TIMESTAMP=%{x}<br>value=%{y}<extra></extra>\",\"legendgroup\":\"FR-Bil_SWC_4\",\"line\":{\"color\":\"#00cc96\",\"dash\":\"solid\"},\"marker\":{\"symbol\":\"circle\"},\"mode\":\"lines\",\"name\":\"FR-Bil_SWC_4\",\"orientation\":\"v\",\"showlegend\":false,\"x\":[\"2023-03-08T01:00:00\"],\"xaxis\":\"x59\",\"y\":[17.6299991607666],\"yaxis\":\"y59\",\"type\":\"scatter\"},{\"hovertemplate\":\"jajajaja lak al  alolalla swc=FR-Bil_SWC_4<br>FR-Bil_SWC_2=17.239999771118164<br>TIMESTAMP=%{x}<br>value=%{y}<extra></extra>\",\"legendgroup\":\"FR-Bil_SWC_4\",\"line\":{\"color\":\"#00cc96\",\"dash\":\"solid\"},\"marker\":{\"symbol\":\"circle\"},\"mode\":\"lines\",\"name\":\"FR-Bil_SWC_4\",\"orientation\":\"v\",\"showlegend\":false,\"x\":[\"2023-03-08T01:30:00\",\"2023-03-08T05:00:00\"],\"xaxis\":\"x58\",\"y\":[17.6299991607666,17.649999618530273],\"yaxis\":\"y58\",\"type\":\"scatter\"},{\"hovertemplate\":\"jajajaja lak al  alolalla swc=FR-Bil_SWC_4<br>FR-Bil_SWC_2=17.290000915527344<br>TIMESTAMP=%{x}<br>value=%{y}<extra></extra>\",\"legendgroup\":\"FR-Bil_SWC_4\",\"line\":{\"color\":\"#00cc96\",\"dash\":\"solid\"},\"marker\":{\"symbol\":\"circle\"},\"mode\":\"lines\",\"name\":\"FR-Bil_SWC_4\",\"orientation\":\"v\",\"showlegend\":false,\"x\":[\"2023-03-08T02:00:00\",\"2023-03-08T06:30:00\",\"2023-03-08T07:00:00\",\"2023-03-08T17:00:00\"],\"xaxis\":\"x57\",\"y\":[17.610000610351562,17.649999618530273,17.649999618530273,17.899999618530273],\"yaxis\":\"y57\",\"type\":\"scatter\"},{\"hovertemplate\":\"jajajaja lak al  alolalla swc=FR-Bil_SWC_4<br>FR-Bil_SWC_2=17.329999923706055<br>TIMESTAMP=%{x}<br>value=%{y}<extra></extra>\",\"legendgroup\":\"FR-Bil_SWC_4\",\"line\":{\"color\":\"#00cc96\",\"dash\":\"solid\"},\"marker\":{\"symbol\":\"circle\"},\"mode\":\"lines\",\"name\":\"FR-Bil_SWC_4\",\"orientation\":\"v\",\"showlegend\":false,\"x\":[\"2023-03-08T03:00:00\",\"2023-03-08T10:00:00\",\"2023-03-08T16:30:00\",\"2023-03-08T18:00:00\"],\"xaxis\":\"x56\",\"y\":[17.6200008392334,17.75,17.90999984741211,18.0],\"yaxis\":\"y56\",\"type\":\"scatter\"},{\"hovertemplate\":\"jajajaja lak al  alolalla swc=FR-Bil_SWC_4<br>FR-Bil_SWC_2=17.25<br>TIMESTAMP=%{x}<br>value=%{y}<extra></extra>\",\"legendgroup\":\"FR-Bil_SWC_4\",\"line\":{\"color\":\"#00cc96\",\"dash\":\"solid\"},\"marker\":{\"symbol\":\"circle\"},\"mode\":\"lines\",\"name\":\"FR-Bil_SWC_4\",\"orientation\":\"v\",\"showlegend\":false,\"x\":[\"2023-03-08T03:30:00\"],\"xaxis\":\"x55\",\"y\":[17.639999389648438],\"yaxis\":\"y55\",\"type\":\"scatter\"},{\"hovertemplate\":\"jajajaja lak al  alolalla swc=FR-Bil_SWC_4<br>FR-Bil_SWC_2=17.209999084472656<br>TIMESTAMP=%{x}<br>value=%{y}<extra></extra>\",\"legendgroup\":\"FR-Bil_SWC_4\",\"line\":{\"color\":\"#00cc96\",\"dash\":\"solid\"},\"marker\":{\"symbol\":\"circle\"},\"mode\":\"lines\",\"name\":\"FR-Bil_SWC_4\",\"orientation\":\"v\",\"showlegend\":false,\"x\":[\"2023-03-08T04:00:00\",\"2023-03-08T04:30:00\",\"2023-03-08T05:30:00\"],\"xaxis\":\"x54\",\"y\":[17.68000030517578,17.709999084472656,17.649999618530273],\"yaxis\":\"y54\",\"type\":\"scatter\"},{\"hovertemplate\":\"jajajaja lak al  alolalla swc=FR-Bil_SWC_4<br>FR-Bil_SWC_2=17.219999313354492<br>TIMESTAMP=%{x}<br>value=%{y}<extra></extra>\",\"legendgroup\":\"FR-Bil_SWC_4\",\"line\":{\"color\":\"#00cc96\",\"dash\":\"solid\"},\"marker\":{\"symbol\":\"circle\"},\"mode\":\"lines\",\"name\":\"FR-Bil_SWC_4\",\"orientation\":\"v\",\"showlegend\":false,\"x\":[\"2023-03-08T06:00:00\"],\"xaxis\":\"x53\",\"y\":[17.639999389648438],\"yaxis\":\"y53\",\"type\":\"scatter\"},{\"hovertemplate\":\"jajajaja lak al  alolalla swc=FR-Bil_SWC_4<br>FR-Bil_SWC_2=17.31999969482422<br>TIMESTAMP=%{x}<br>value=%{y}<extra></extra>\",\"legendgroup\":\"FR-Bil_SWC_4\",\"line\":{\"color\":\"#00cc96\",\"dash\":\"solid\"},\"marker\":{\"symbol\":\"circle\"},\"mode\":\"lines\",\"name\":\"FR-Bil_SWC_4\",\"orientation\":\"v\",\"showlegend\":false,\"x\":[\"2023-03-08T07:30:00\",\"2023-03-08T08:00:00\",\"2023-03-08T09:00:00\",\"2023-03-08T10:30:00\"],\"xaxis\":\"x52\",\"y\":[17.75,17.75,17.75,17.81999969482422],\"yaxis\":\"y52\",\"type\":\"scatter\"},{\"hovertemplate\":\"jajajaja lak al  alolalla swc=FR-Bil_SWC_4<br>FR-Bil_SWC_2=17.260000228881836<br>TIMESTAMP=%{x}<br>value=%{y}<extra></extra>\",\"legendgroup\":\"FR-Bil_SWC_4\",\"line\":{\"color\":\"#00cc96\",\"dash\":\"solid\"},\"marker\":{\"symbol\":\"circle\"},\"mode\":\"lines\",\"name\":\"FR-Bil_SWC_4\",\"orientation\":\"v\",\"showlegend\":false,\"x\":[\"2023-03-08T08:30:00\"],\"xaxis\":\"x51\",\"y\":[17.75],\"yaxis\":\"y51\",\"type\":\"scatter\"},{\"hovertemplate\":\"jajajaja lak al  alolalla swc=FR-Bil_SWC_4<br>FR-Bil_SWC_2=17.360000610351562<br>TIMESTAMP=%{x}<br>value=%{y}<extra></extra>\",\"legendgroup\":\"FR-Bil_SWC_4\",\"line\":{\"color\":\"#00cc96\",\"dash\":\"solid\"},\"marker\":{\"symbol\":\"circle\"},\"mode\":\"lines\",\"name\":\"FR-Bil_SWC_4\",\"orientation\":\"v\",\"showlegend\":false,\"x\":[\"2023-03-08T09:30:00\",\"2023-03-08T11:00:00\",\"2023-03-08T13:30:00\",\"2023-03-08T16:00:00\"],\"xaxis\":\"x50\",\"y\":[17.68000030517578,17.809999465942383,17.81999969482422,17.969999313354492],\"yaxis\":\"y50\",\"type\":\"scatter\"},{\"hovertemplate\":\"jajajaja lak al  alolalla swc=FR-Bil_SWC_4<br>FR-Bil_SWC_2=17.420000076293945<br>TIMESTAMP=%{x}<br>value=%{y}<extra></extra>\",\"legendgroup\":\"FR-Bil_SWC_4\",\"line\":{\"color\":\"#00cc96\",\"dash\":\"solid\"},\"marker\":{\"symbol\":\"circle\"},\"mode\":\"lines\",\"name\":\"FR-Bil_SWC_4\",\"orientation\":\"v\",\"showlegend\":false,\"x\":[\"2023-03-08T11:30:00\"],\"xaxis\":\"x49\",\"y\":[17.84000015258789],\"yaxis\":\"y49\",\"type\":\"scatter\"},{\"hovertemplate\":\"jajajaja lak al  alolalla swc=FR-Bil_SWC_4<br>FR-Bil_SWC_2=17.450000762939453<br>TIMESTAMP=%{x}<br>value=%{y}<extra></extra>\",\"legendgroup\":\"FR-Bil_SWC_4\",\"line\":{\"color\":\"#00cc96\",\"dash\":\"solid\"},\"marker\":{\"symbol\":\"circle\"},\"mode\":\"lines\",\"name\":\"FR-Bil_SWC_4\",\"orientation\":\"v\",\"showlegend\":false,\"x\":[\"2023-03-08T12:00:00\",\"2023-03-08T12:30:00\"],\"xaxis\":\"x48\",\"y\":[17.959999084472656,17.969999313354492],\"yaxis\":\"y48\",\"type\":\"scatter\"},{\"hovertemplate\":\"jajajaja lak al  alolalla swc=FR-Bil_SWC_4<br>FR-Bil_SWC_2=17.399999618530273<br>TIMESTAMP=%{x}<br>value=%{y}<extra></extra>\",\"legendgroup\":\"FR-Bil_SWC_4\",\"line\":{\"color\":\"#00cc96\",\"dash\":\"solid\"},\"marker\":{\"symbol\":\"circle\"},\"mode\":\"lines\",\"name\":\"FR-Bil_SWC_4\",\"orientation\":\"v\",\"showlegend\":false,\"x\":[\"2023-03-08T13:00:00\"],\"xaxis\":\"x47\",\"y\":[17.920000076293945],\"yaxis\":\"y47\",\"type\":\"scatter\"},{\"hovertemplate\":\"jajajaja lak al  alolalla swc=FR-Bil_SWC_4<br>FR-Bil_SWC_2=17.299999237060547<br>TIMESTAMP=%{x}<br>value=%{y}<extra></extra>\",\"legendgroup\":\"FR-Bil_SWC_4\",\"line\":{\"color\":\"#00cc96\",\"dash\":\"solid\"},\"marker\":{\"symbol\":\"circle\"},\"mode\":\"lines\",\"name\":\"FR-Bil_SWC_4\",\"orientation\":\"v\",\"showlegend\":false,\"x\":[\"2023-03-08T15:00:00\",\"2023-03-08T17:30:00\"],\"xaxis\":\"x46\",\"y\":[17.850000381469727,17.959999084472656],\"yaxis\":\"y46\",\"type\":\"scatter\"},{\"hovertemplate\":\"jajajaja lak al  alolalla swc=FR-Bil_SWC_4<br>FR-Bil_SWC_2=17.3700008392334<br>TIMESTAMP=%{x}<br>value=%{y}<extra></extra>\",\"legendgroup\":\"FR-Bil_SWC_4\",\"line\":{\"color\":\"#00cc96\",\"dash\":\"solid\"},\"marker\":{\"symbol\":\"circle\"},\"mode\":\"lines\",\"name\":\"FR-Bil_SWC_4\",\"orientation\":\"v\",\"showlegend\":false,\"x\":[\"2023-03-08T18:30:00\"],\"xaxis\":\"x45\",\"y\":[18.09000015258789],\"yaxis\":\"y45\",\"type\":\"scatter\"},{\"hovertemplate\":\"jajajaja lak al  alolalla swc=FR-Bil_SWC_4<br>FR-Bil_SWC_2=17.43000030517578<br>TIMESTAMP=%{x}<br>value=%{y}<extra></extra>\",\"legendgroup\":\"FR-Bil_SWC_4\",\"line\":{\"color\":\"#00cc96\",\"dash\":\"solid\"},\"marker\":{\"symbol\":\"circle\"},\"mode\":\"lines\",\"name\":\"FR-Bil_SWC_4\",\"orientation\":\"v\",\"showlegend\":false,\"x\":[\"2023-03-08T19:00:00\"],\"xaxis\":\"x44\",\"y\":[18.06999969482422],\"yaxis\":\"y44\",\"type\":\"scatter\"},{\"hovertemplate\":\"jajajaja lak al  alolalla swc=FR-Bil_SWC_4<br>FR-Bil_SWC_2=17.600000381469727<br>TIMESTAMP=%{x}<br>value=%{y}<extra></extra>\",\"legendgroup\":\"FR-Bil_SWC_4\",\"line\":{\"color\":\"#00cc96\",\"dash\":\"solid\"},\"marker\":{\"symbol\":\"circle\"},\"mode\":\"lines\",\"name\":\"FR-Bil_SWC_4\",\"orientation\":\"v\",\"showlegend\":false,\"x\":[\"2023-03-08T19:30:00\"],\"xaxis\":\"x43\",\"y\":[18.010000228881836],\"yaxis\":\"y43\",\"type\":\"scatter\"},{\"hovertemplate\":\"jajajaja lak al  alolalla swc=FR-Bil_SWC_4<br>FR-Bil_SWC_2=17.829999923706055<br>TIMESTAMP=%{x}<br>value=%{y}<extra></extra>\",\"legendgroup\":\"FR-Bil_SWC_4\",\"line\":{\"color\":\"#00cc96\",\"dash\":\"solid\"},\"marker\":{\"symbol\":\"circle\"},\"mode\":\"lines\",\"name\":\"FR-Bil_SWC_4\",\"orientation\":\"v\",\"showlegend\":false,\"x\":[\"2023-03-08T20:00:00\",\"2023-03-09T19:30:00\"],\"xaxis\":\"x42\",\"y\":[18.0,18.84000015258789],\"yaxis\":\"y42\",\"type\":\"scatter\"},{\"hovertemplate\":\"jajajaja lak al  alolalla swc=FR-Bil_SWC_4<br>FR-Bil_SWC_2=17.920000076293945<br>TIMESTAMP=%{x}<br>value=%{y}<extra></extra>\",\"legendgroup\":\"FR-Bil_SWC_4\",\"line\":{\"color\":\"#00cc96\",\"dash\":\"solid\"},\"marker\":{\"symbol\":\"circle\"},\"mode\":\"lines\",\"name\":\"FR-Bil_SWC_4\",\"orientation\":\"v\",\"showlegend\":false,\"x\":[\"2023-03-08T20:30:00\"],\"xaxis\":\"x41\",\"y\":[18.1299991607666],\"yaxis\":\"y41\",\"type\":\"scatter\"},{\"hovertemplate\":\"jajajaja lak al  alolalla swc=FR-Bil_SWC_4<br>FR-Bil_SWC_2=18.049999237060547<br>TIMESTAMP=%{x}<br>value=%{y}<extra></extra>\",\"legendgroup\":\"FR-Bil_SWC_4\",\"line\":{\"color\":\"#00cc96\",\"dash\":\"solid\"},\"marker\":{\"symbol\":\"circle\"},\"mode\":\"lines\",\"name\":\"FR-Bil_SWC_4\",\"orientation\":\"v\",\"showlegend\":false,\"x\":[\"2023-03-08T21:00:00\",\"2023-03-09T11:00:00\",\"2023-03-09T11:30:00\"],\"xaxis\":\"x40\",\"y\":[18.079999923706055,18.729999542236328,18.729999542236328],\"yaxis\":\"y40\",\"type\":\"scatter\"},{\"hovertemplate\":\"jajajaja lak al  alolalla swc=FR-Bil_SWC_4<br>FR-Bil_SWC_2=18.139999389648438<br>TIMESTAMP=%{x}<br>value=%{y}<extra></extra>\",\"legendgroup\":\"FR-Bil_SWC_4\",\"line\":{\"color\":\"#00cc96\",\"dash\":\"solid\"},\"marker\":{\"symbol\":\"circle\"},\"mode\":\"lines\",\"name\":\"FR-Bil_SWC_4\",\"orientation\":\"v\",\"showlegend\":false,\"x\":[\"2023-03-08T21:30:00\"],\"xaxis\":\"x39\",\"y\":[18.100000381469727],\"yaxis\":\"y39\",\"type\":\"scatter\"},{\"hovertemplate\":\"jajajaja lak al  alolalla swc=FR-Bil_SWC_4<br>FR-Bil_SWC_2=18.1299991607666<br>TIMESTAMP=%{x}<br>value=%{y}<extra></extra>\",\"legendgroup\":\"FR-Bil_SWC_4\",\"line\":{\"color\":\"#00cc96\",\"dash\":\"solid\"},\"marker\":{\"symbol\":\"circle\"},\"mode\":\"lines\",\"name\":\"FR-Bil_SWC_4\",\"orientation\":\"v\",\"showlegend\":false,\"x\":[\"2023-03-08T22:00:00\",\"2023-03-09T09:30:00\"],\"xaxis\":\"x38\",\"y\":[18.200000762939453,18.739999771118164],\"yaxis\":\"y38\",\"type\":\"scatter\"},{\"hovertemplate\":\"jajajaja lak al  alolalla swc=FR-Bil_SWC_4<br>FR-Bil_SWC_2=18.149999618530273<br>TIMESTAMP=%{x}<br>value=%{y}<extra></extra>\",\"legendgroup\":\"FR-Bil_SWC_4\",\"line\":{\"color\":\"#00cc96\",\"dash\":\"solid\"},\"marker\":{\"symbol\":\"circle\"},\"mode\":\"lines\",\"name\":\"FR-Bil_SWC_4\",\"orientation\":\"v\",\"showlegend\":false,\"x\":[\"2023-03-08T22:30:00\"],\"xaxis\":\"x37\",\"y\":[18.1299991607666],\"yaxis\":\"y37\",\"type\":\"scatter\"},{\"hovertemplate\":\"jajajaja lak al  alolalla swc=FR-Bil_SWC_4<br>FR-Bil_SWC_2=18.190000534057617<br>TIMESTAMP=%{x}<br>value=%{y}<extra></extra>\",\"legendgroup\":\"FR-Bil_SWC_4\",\"line\":{\"color\":\"#00cc96\",\"dash\":\"solid\"},\"marker\":{\"symbol\":\"circle\"},\"mode\":\"lines\",\"name\":\"FR-Bil_SWC_4\",\"orientation\":\"v\",\"showlegend\":false,\"x\":[\"2023-03-08T23:00:00\",\"2023-03-09T00:30:00\",\"2023-03-09T01:00:00\"],\"xaxis\":\"x36\",\"y\":[18.31999969482422,18.309999465942383,18.40999984741211],\"yaxis\":\"y36\",\"type\":\"scatter\"},{\"hovertemplate\":\"jajajaja lak al  alolalla swc=FR-Bil_SWC_4<br>FR-Bil_SWC_2=18.260000228881836<br>TIMESTAMP=%{x}<br>value=%{y}<extra></extra>\",\"legendgroup\":\"FR-Bil_SWC_4\",\"line\":{\"color\":\"#00cc96\",\"dash\":\"solid\"},\"marker\":{\"symbol\":\"circle\"},\"mode\":\"lines\",\"name\":\"FR-Bil_SWC_4\",\"orientation\":\"v\",\"showlegend\":false,\"x\":[\"2023-03-08T23:30:00\"],\"xaxis\":\"x35\",\"y\":[18.260000228881836],\"yaxis\":\"y35\",\"type\":\"scatter\"},{\"hovertemplate\":\"jajajaja lak al  alolalla swc=FR-Bil_SWC_4<br>FR-Bil_SWC_2=18.229999542236328<br>TIMESTAMP=%{x}<br>value=%{y}<extra></extra>\",\"legendgroup\":\"FR-Bil_SWC_4\",\"line\":{\"color\":\"#00cc96\",\"dash\":\"solid\"},\"marker\":{\"symbol\":\"circle\"},\"mode\":\"lines\",\"name\":\"FR-Bil_SWC_4\",\"orientation\":\"v\",\"showlegend\":false,\"x\":[\"2023-03-09T00:00:00\",\"2023-03-09T05:30:00\"],\"xaxis\":\"x34\",\"y\":[18.40999984741211,18.770000457763672],\"yaxis\":\"y34\",\"type\":\"scatter\"},{\"hovertemplate\":\"jajajaja lak al  alolalla swc=FR-Bil_SWC_4<br>FR-Bil_SWC_2=18.170000076293945<br>TIMESTAMP=%{x}<br>value=%{y}<extra></extra>\",\"legendgroup\":\"FR-Bil_SWC_4\",\"line\":{\"color\":\"#00cc96\",\"dash\":\"solid\"},\"marker\":{\"symbol\":\"circle\"},\"mode\":\"lines\",\"name\":\"FR-Bil_SWC_4\",\"orientation\":\"v\",\"showlegend\":false,\"x\":[\"2023-03-09T01:30:00\",\"2023-03-09T08:00:00\"],\"xaxis\":\"x33\",\"y\":[18.399999618530273,18.790000915527344],\"yaxis\":\"y33\",\"type\":\"scatter\"},{\"hovertemplate\":\"jajajaja lak al  alolalla swc=FR-Bil_SWC_4<br>FR-Bil_SWC_2=18.15999984741211<br>TIMESTAMP=%{x}<br>value=%{y}<extra></extra>\",\"legendgroup\":\"FR-Bil_SWC_4\",\"line\":{\"color\":\"#00cc96\",\"dash\":\"solid\"},\"marker\":{\"symbol\":\"circle\"},\"mode\":\"lines\",\"name\":\"FR-Bil_SWC_4\",\"orientation\":\"v\",\"showlegend\":false,\"x\":[\"2023-03-09T02:00:00\",\"2023-03-09T02:30:00\"],\"xaxis\":\"x32\",\"y\":[18.530000686645508,18.459999084472656],\"yaxis\":\"y32\",\"type\":\"scatter\"},{\"hovertemplate\":\"jajajaja lak al  alolalla swc=FR-Bil_SWC_4<br>FR-Bil_SWC_2=18.18000030517578<br>TIMESTAMP=%{x}<br>value=%{y}<extra></extra>\",\"legendgroup\":\"FR-Bil_SWC_4\",\"line\":{\"color\":\"#00cc96\",\"dash\":\"solid\"},\"marker\":{\"symbol\":\"circle\"},\"mode\":\"lines\",\"name\":\"FR-Bil_SWC_4\",\"orientation\":\"v\",\"showlegend\":false,\"x\":[\"2023-03-09T03:00:00\"],\"xaxis\":\"x31\",\"y\":[18.450000762939453],\"yaxis\":\"y31\",\"type\":\"scatter\"},{\"hovertemplate\":\"jajajaja lak al  alolalla swc=FR-Bil_SWC_4<br>FR-Bil_SWC_2=18.25<br>TIMESTAMP=%{x}<br>value=%{y}<extra></extra>\",\"legendgroup\":\"FR-Bil_SWC_4\",\"line\":{\"color\":\"#00cc96\",\"dash\":\"solid\"},\"marker\":{\"symbol\":\"circle\"},\"mode\":\"lines\",\"name\":\"FR-Bil_SWC_4\",\"orientation\":\"v\",\"showlegend\":false,\"x\":[\"2023-03-09T03:30:00\"],\"xaxis\":\"x30\",\"y\":[18.540000915527344],\"yaxis\":\"y30\",\"type\":\"scatter\"},{\"hovertemplate\":\"jajajaja lak al  alolalla swc=FR-Bil_SWC_4<br>FR-Bil_SWC_2=18.299999237060547<br>TIMESTAMP=%{x}<br>value=%{y}<extra></extra>\",\"legendgroup\":\"FR-Bil_SWC_4\",\"line\":{\"color\":\"#00cc96\",\"dash\":\"solid\"},\"marker\":{\"symbol\":\"circle\"},\"mode\":\"lines\",\"name\":\"FR-Bil_SWC_4\",\"orientation\":\"v\",\"showlegend\":false,\"x\":[\"2023-03-09T04:00:00\"],\"xaxis\":\"x29\",\"y\":[18.559999465942383],\"yaxis\":\"y29\",\"type\":\"scatter\"},{\"hovertemplate\":\"jajajaja lak al  alolalla swc=FR-Bil_SWC_4<br>FR-Bil_SWC_2=18.280000686645508<br>TIMESTAMP=%{x}<br>value=%{y}<extra></extra>\",\"legendgroup\":\"FR-Bil_SWC_4\",\"line\":{\"color\":\"#00cc96\",\"dash\":\"solid\"},\"marker\":{\"symbol\":\"circle\"},\"mode\":\"lines\",\"name\":\"FR-Bil_SWC_4\",\"orientation\":\"v\",\"showlegend\":false,\"x\":[\"2023-03-09T04:30:00\"],\"xaxis\":\"x28\",\"y\":[18.56999969482422],\"yaxis\":\"y28\",\"type\":\"scatter\"},{\"hovertemplate\":\"jajajaja lak al  alolalla swc=FR-Bil_SWC_4<br>FR-Bil_SWC_2=18.239999771118164<br>TIMESTAMP=%{x}<br>value=%{y}<extra></extra>\",\"legendgroup\":\"FR-Bil_SWC_4\",\"line\":{\"color\":\"#00cc96\",\"dash\":\"solid\"},\"marker\":{\"symbol\":\"circle\"},\"mode\":\"lines\",\"name\":\"FR-Bil_SWC_4\",\"orientation\":\"v\",\"showlegend\":false,\"x\":[\"2023-03-09T05:00:00\"],\"xaxis\":\"x27\",\"y\":[18.649999618530273],\"yaxis\":\"y27\",\"type\":\"scatter\"},{\"hovertemplate\":\"jajajaja lak al  alolalla swc=FR-Bil_SWC_4<br>FR-Bil_SWC_2=18.219999313354492<br>TIMESTAMP=%{x}<br>value=%{y}<extra></extra>\",\"legendgroup\":\"FR-Bil_SWC_4\",\"line\":{\"color\":\"#00cc96\",\"dash\":\"solid\"},\"marker\":{\"symbol\":\"circle\"},\"mode\":\"lines\",\"name\":\"FR-Bil_SWC_4\",\"orientation\":\"v\",\"showlegend\":false,\"x\":[\"2023-03-09T06:00:00\"],\"xaxis\":\"x26\",\"y\":[18.729999542236328],\"yaxis\":\"y26\",\"type\":\"scatter\"},{\"hovertemplate\":\"jajajaja lak al  alolalla swc=FR-Bil_SWC_4<br>FR-Bil_SWC_2=18.200000762939453<br>TIMESTAMP=%{x}<br>value=%{y}<extra></extra>\",\"legendgroup\":\"FR-Bil_SWC_4\",\"line\":{\"color\":\"#00cc96\",\"dash\":\"solid\"},\"marker\":{\"symbol\":\"circle\"},\"mode\":\"lines\",\"name\":\"FR-Bil_SWC_4\",\"orientation\":\"v\",\"showlegend\":false,\"x\":[\"2023-03-09T06:30:00\"],\"xaxis\":\"x25\",\"y\":[18.700000762939453],\"yaxis\":\"y25\",\"type\":\"scatter\"},{\"hovertemplate\":\"jajajaja lak al  alolalla swc=FR-Bil_SWC_4<br>FR-Bil_SWC_2=18.209999084472656<br>TIMESTAMP=%{x}<br>value=%{y}<extra></extra>\",\"legendgroup\":\"FR-Bil_SWC_4\",\"line\":{\"color\":\"#00cc96\",\"dash\":\"solid\"},\"marker\":{\"symbol\":\"circle\"},\"mode\":\"lines\",\"name\":\"FR-Bil_SWC_4\",\"orientation\":\"v\",\"showlegend\":false,\"x\":[\"2023-03-09T07:00:00\",\"2023-03-09T07:30:00\"],\"xaxis\":\"x24\",\"y\":[18.6200008392334,18.65999984741211],\"yaxis\":\"y24\",\"type\":\"scatter\"},{\"hovertemplate\":\"jajajaja lak al  alolalla swc=FR-Bil_SWC_4<br>FR-Bil_SWC_2=18.1200008392334<br>TIMESTAMP=%{x}<br>value=%{y}<extra></extra>\",\"legendgroup\":\"FR-Bil_SWC_4\",\"line\":{\"color\":\"#00cc96\",\"dash\":\"solid\"},\"marker\":{\"symbol\":\"circle\"},\"mode\":\"lines\",\"name\":\"FR-Bil_SWC_4\",\"orientation\":\"v\",\"showlegend\":false,\"x\":[\"2023-03-09T08:30:00\"],\"xaxis\":\"x23\",\"y\":[18.799999237060547],\"yaxis\":\"y23\",\"type\":\"scatter\"},{\"hovertemplate\":\"jajajaja lak al  alolalla swc=FR-Bil_SWC_4<br>FR-Bil_SWC_2=18.110000610351562<br>TIMESTAMP=%{x}<br>value=%{y}<extra></extra>\",\"legendgroup\":\"FR-Bil_SWC_4\",\"line\":{\"color\":\"#00cc96\",\"dash\":\"solid\"},\"marker\":{\"symbol\":\"circle\"},\"mode\":\"lines\",\"name\":\"FR-Bil_SWC_4\",\"orientation\":\"v\",\"showlegend\":false,\"x\":[\"2023-03-09T09:00:00\"],\"xaxis\":\"x22\",\"y\":[18.799999237060547],\"yaxis\":\"y22\",\"type\":\"scatter\"},{\"hovertemplate\":\"jajajaja lak al  alolalla swc=FR-Bil_SWC_4<br>FR-Bil_SWC_2=18.100000381469727<br>TIMESTAMP=%{x}<br>value=%{y}<extra></extra>\",\"legendgroup\":\"FR-Bil_SWC_4\",\"line\":{\"color\":\"#00cc96\",\"dash\":\"solid\"},\"marker\":{\"symbol\":\"circle\"},\"mode\":\"lines\",\"name\":\"FR-Bil_SWC_4\",\"orientation\":\"v\",\"showlegend\":false,\"x\":[\"2023-03-09T10:00:00\"],\"xaxis\":\"x21\",\"y\":[18.739999771118164],\"yaxis\":\"y21\",\"type\":\"scatter\"},{\"hovertemplate\":\"jajajaja lak al  alolalla swc=FR-Bil_SWC_4<br>FR-Bil_SWC_2=18.06999969482422<br>TIMESTAMP=%{x}<br>value=%{y}<extra></extra>\",\"legendgroup\":\"FR-Bil_SWC_4\",\"line\":{\"color\":\"#00cc96\",\"dash\":\"solid\"},\"marker\":{\"symbol\":\"circle\"},\"mode\":\"lines\",\"name\":\"FR-Bil_SWC_4\",\"orientation\":\"v\",\"showlegend\":false,\"x\":[\"2023-03-09T10:30:00\"],\"xaxis\":\"x20\",\"y\":[18.739999771118164],\"yaxis\":\"y20\",\"type\":\"scatter\"},{\"hovertemplate\":\"jajajaja lak al  alolalla swc=FR-Bil_SWC_4<br>FR-Bil_SWC_2=18.040000915527344<br>TIMESTAMP=%{x}<br>value=%{y}<extra></extra>\",\"legendgroup\":\"FR-Bil_SWC_4\",\"line\":{\"color\":\"#00cc96\",\"dash\":\"solid\"},\"marker\":{\"symbol\":\"circle\"},\"mode\":\"lines\",\"name\":\"FR-Bil_SWC_4\",\"orientation\":\"v\",\"showlegend\":false,\"x\":[\"2023-03-09T12:00:00\"],\"xaxis\":\"x19\",\"y\":[18.700000762939453],\"yaxis\":\"y19\",\"type\":\"scatter\"},{\"hovertemplate\":\"jajajaja lak al  alolalla swc=FR-Bil_SWC_4<br>FR-Bil_SWC_2=17.959999084472656<br>TIMESTAMP=%{x}<br>value=%{y}<extra></extra>\",\"legendgroup\":\"FR-Bil_SWC_4\",\"line\":{\"color\":\"#00cc96\",\"dash\":\"solid\"},\"marker\":{\"symbol\":\"circle\"},\"mode\":\"lines\",\"name\":\"FR-Bil_SWC_4\",\"orientation\":\"v\",\"showlegend\":false,\"x\":[\"2023-03-09T12:30:00\"],\"xaxis\":\"x18\",\"y\":[18.700000762939453],\"yaxis\":\"y18\",\"type\":\"scatter\"},{\"hovertemplate\":\"jajajaja lak al  alolalla swc=FR-Bil_SWC_4<br>FR-Bil_SWC_2=17.979999542236328<br>TIMESTAMP=%{x}<br>value=%{y}<extra></extra>\",\"legendgroup\":\"FR-Bil_SWC_4\",\"line\":{\"color\":\"#00cc96\",\"dash\":\"solid\"},\"marker\":{\"symbol\":\"circle\"},\"mode\":\"lines\",\"name\":\"FR-Bil_SWC_4\",\"orientation\":\"v\",\"showlegend\":false,\"x\":[\"2023-03-09T13:00:00\"],\"xaxis\":\"x17\",\"y\":[18.670000076293945],\"yaxis\":\"y17\",\"type\":\"scatter\"},{\"hovertemplate\":\"jajajaja lak al  alolalla swc=FR-Bil_SWC_4<br>FR-Bil_SWC_2=17.950000762939453<br>TIMESTAMP=%{x}<br>value=%{y}<extra></extra>\",\"legendgroup\":\"FR-Bil_SWC_4\",\"line\":{\"color\":\"#00cc96\",\"dash\":\"solid\"},\"marker\":{\"symbol\":\"circle\"},\"mode\":\"lines\",\"name\":\"FR-Bil_SWC_4\",\"orientation\":\"v\",\"showlegend\":false,\"x\":[\"2023-03-09T13:30:00\"],\"xaxis\":\"x16\",\"y\":[18.65999984741211],\"yaxis\":\"y16\",\"type\":\"scatter\"},{\"hovertemplate\":\"jajajaja lak al  alolalla swc=FR-Bil_SWC_4<br>FR-Bil_SWC_2=18.0<br>TIMESTAMP=%{x}<br>value=%{y}<extra></extra>\",\"legendgroup\":\"FR-Bil_SWC_4\",\"line\":{\"color\":\"#00cc96\",\"dash\":\"solid\"},\"marker\":{\"symbol\":\"circle\"},\"mode\":\"lines\",\"name\":\"FR-Bil_SWC_4\",\"orientation\":\"v\",\"showlegend\":false,\"x\":[\"2023-03-09T14:00:00\"],\"xaxis\":\"x15\",\"y\":[18.670000076293945],\"yaxis\":\"y15\",\"type\":\"scatter\"},{\"hovertemplate\":\"jajajaja lak al  alolalla swc=FR-Bil_SWC_4<br>FR-Bil_SWC_2=17.8799991607666<br>TIMESTAMP=%{x}<br>value=%{y}<extra></extra>\",\"legendgroup\":\"FR-Bil_SWC_4\",\"line\":{\"color\":\"#00cc96\",\"dash\":\"solid\"},\"marker\":{\"symbol\":\"circle\"},\"mode\":\"lines\",\"name\":\"FR-Bil_SWC_4\",\"orientation\":\"v\",\"showlegend\":false,\"x\":[\"2023-03-09T14:30:00\"],\"xaxis\":\"x14\",\"y\":[18.68000030517578],\"yaxis\":\"y14\",\"type\":\"scatter\"},{\"hovertemplate\":\"jajajaja lak al  alolalla swc=FR-Bil_SWC_4<br>FR-Bil_SWC_2=17.860000610351562<br>TIMESTAMP=%{x}<br>value=%{y}<extra></extra>\",\"legendgroup\":\"FR-Bil_SWC_4\",\"line\":{\"color\":\"#00cc96\",\"dash\":\"solid\"},\"marker\":{\"symbol\":\"circle\"},\"mode\":\"lines\",\"name\":\"FR-Bil_SWC_4\",\"orientation\":\"v\",\"showlegend\":false,\"x\":[\"2023-03-09T15:00:00\",\"2023-03-09T17:30:00\",\"2023-03-09T19:00:00\"],\"xaxis\":\"x13\",\"y\":[18.709999084472656,18.84000015258789,18.850000381469727],\"yaxis\":\"y13\",\"type\":\"scatter\"},{\"hovertemplate\":\"jajajaja lak al  alolalla swc=FR-Bil_SWC_4<br>FR-Bil_SWC_2=17.84000015258789<br>TIMESTAMP=%{x}<br>value=%{y}<extra></extra>\",\"legendgroup\":\"FR-Bil_SWC_4\",\"line\":{\"color\":\"#00cc96\",\"dash\":\"solid\"},\"marker\":{\"symbol\":\"circle\"},\"mode\":\"lines\",\"name\":\"FR-Bil_SWC_4\",\"orientation\":\"v\",\"showlegend\":false,\"x\":[\"2023-03-09T15:30:00\"],\"xaxis\":\"x12\",\"y\":[18.790000915527344],\"yaxis\":\"y12\",\"type\":\"scatter\"},{\"hovertemplate\":\"jajajaja lak al  alolalla swc=FR-Bil_SWC_4<br>FR-Bil_SWC_2=17.790000915527344<br>TIMESTAMP=%{x}<br>value=%{y}<extra></extra>\",\"legendgroup\":\"FR-Bil_SWC_4\",\"line\":{\"color\":\"#00cc96\",\"dash\":\"solid\"},\"marker\":{\"symbol\":\"circle\"},\"mode\":\"lines\",\"name\":\"FR-Bil_SWC_4\",\"orientation\":\"v\",\"showlegend\":false,\"x\":[\"2023-03-09T16:00:00\"],\"xaxis\":\"x11\",\"y\":[18.81999969482422],\"yaxis\":\"y11\",\"type\":\"scatter\"},{\"hovertemplate\":\"jajajaja lak al  alolalla swc=FR-Bil_SWC_4<br>FR-Bil_SWC_2=17.770000457763672<br>TIMESTAMP=%{x}<br>value=%{y}<extra></extra>\",\"legendgroup\":\"FR-Bil_SWC_4\",\"line\":{\"color\":\"#00cc96\",\"dash\":\"solid\"},\"marker\":{\"symbol\":\"circle\"},\"mode\":\"lines\",\"name\":\"FR-Bil_SWC_4\",\"orientation\":\"v\",\"showlegend\":false,\"x\":[\"2023-03-09T16:30:00\"],\"xaxis\":\"x10\",\"y\":[18.81999969482422],\"yaxis\":\"y10\",\"type\":\"scatter\"},{\"hovertemplate\":\"jajajaja lak al  alolalla swc=FR-Bil_SWC_4<br>FR-Bil_SWC_2=17.799999237060547<br>TIMESTAMP=%{x}<br>value=%{y}<extra></extra>\",\"legendgroup\":\"FR-Bil_SWC_4\",\"line\":{\"color\":\"#00cc96\",\"dash\":\"solid\"},\"marker\":{\"symbol\":\"circle\"},\"mode\":\"lines\",\"name\":\"FR-Bil_SWC_4\",\"orientation\":\"v\",\"showlegend\":false,\"x\":[\"2023-03-09T17:00:00\"],\"xaxis\":\"x9\",\"y\":[18.829999923706055],\"yaxis\":\"y9\",\"type\":\"scatter\"},{\"hovertemplate\":\"jajajaja lak al  alolalla swc=FR-Bil_SWC_4<br>FR-Bil_SWC_2=17.899999618530273<br>TIMESTAMP=%{x}<br>value=%{y}<extra></extra>\",\"legendgroup\":\"FR-Bil_SWC_4\",\"line\":{\"color\":\"#00cc96\",\"dash\":\"solid\"},\"marker\":{\"symbol\":\"circle\"},\"mode\":\"lines\",\"name\":\"FR-Bil_SWC_4\",\"orientation\":\"v\",\"showlegend\":false,\"x\":[\"2023-03-09T18:00:00\"],\"xaxis\":\"x8\",\"y\":[18.850000381469727],\"yaxis\":\"y8\",\"type\":\"scatter\"},{\"hovertemplate\":\"jajajaja lak al  alolalla swc=FR-Bil_SWC_4<br>FR-Bil_SWC_2=17.889999389648438<br>TIMESTAMP=%{x}<br>value=%{y}<extra></extra>\",\"legendgroup\":\"FR-Bil_SWC_4\",\"line\":{\"color\":\"#00cc96\",\"dash\":\"solid\"},\"marker\":{\"symbol\":\"circle\"},\"mode\":\"lines\",\"name\":\"FR-Bil_SWC_4\",\"orientation\":\"v\",\"showlegend\":false,\"x\":[\"2023-03-09T18:30:00\"],\"xaxis\":\"x7\",\"y\":[18.84000015258789],\"yaxis\":\"y7\",\"type\":\"scatter\"},{\"hovertemplate\":\"jajajaja lak al  alolalla swc=FR-Bil_SWC_4<br>FR-Bil_SWC_2=17.81999969482422<br>TIMESTAMP=%{x}<br>value=%{y}<extra></extra>\",\"legendgroup\":\"FR-Bil_SWC_4\",\"line\":{\"color\":\"#00cc96\",\"dash\":\"solid\"},\"marker\":{\"symbol\":\"circle\"},\"mode\":\"lines\",\"name\":\"FR-Bil_SWC_4\",\"orientation\":\"v\",\"showlegend\":false,\"x\":[\"2023-03-09T20:00:00\"],\"xaxis\":\"x6\",\"y\":[18.84000015258789],\"yaxis\":\"y6\",\"type\":\"scatter\"},{\"hovertemplate\":\"jajajaja lak al  alolalla swc=FR-Bil_SWC_4<br>FR-Bil_SWC_2=17.780000686645508<br>TIMESTAMP=%{x}<br>value=%{y}<extra></extra>\",\"legendgroup\":\"FR-Bil_SWC_4\",\"line\":{\"color\":\"#00cc96\",\"dash\":\"solid\"},\"marker\":{\"symbol\":\"circle\"},\"mode\":\"lines\",\"name\":\"FR-Bil_SWC_4\",\"orientation\":\"v\",\"showlegend\":false,\"x\":[\"2023-03-09T20:30:00\"],\"xaxis\":\"x5\",\"y\":[18.850000381469727],\"yaxis\":\"y5\",\"type\":\"scatter\"},{\"hovertemplate\":\"jajajaja lak al  alolalla swc=FR-Bil_SWC_4<br>FR-Bil_SWC_2=17.739999771118164<br>TIMESTAMP=%{x}<br>value=%{y}<extra></extra>\",\"legendgroup\":\"FR-Bil_SWC_4\",\"line\":{\"color\":\"#00cc96\",\"dash\":\"solid\"},\"marker\":{\"symbol\":\"circle\"},\"mode\":\"lines\",\"name\":\"FR-Bil_SWC_4\",\"orientation\":\"v\",\"showlegend\":false,\"x\":[\"2023-03-09T21:00:00\",\"2023-03-09T22:00:00\"],\"xaxis\":\"x4\",\"y\":[18.84000015258789,18.850000381469727],\"yaxis\":\"y4\",\"type\":\"scatter\"},{\"hovertemplate\":\"jajajaja lak al  alolalla swc=FR-Bil_SWC_4<br>FR-Bil_SWC_2=17.760000228881836<br>TIMESTAMP=%{x}<br>value=%{y}<extra></extra>\",\"legendgroup\":\"FR-Bil_SWC_4\",\"line\":{\"color\":\"#00cc96\",\"dash\":\"solid\"},\"marker\":{\"symbol\":\"circle\"},\"mode\":\"lines\",\"name\":\"FR-Bil_SWC_4\",\"orientation\":\"v\",\"showlegend\":false,\"x\":[\"2023-03-09T21:30:00\"],\"xaxis\":\"x3\",\"y\":[18.850000381469727],\"yaxis\":\"y3\",\"type\":\"scatter\"},{\"hovertemplate\":\"jajajaja lak al  alolalla swc=FR-Bil_SWC_4<br>FR-Bil_SWC_2=17.719999313354492<br>TIMESTAMP=%{x}<br>value=%{y}<extra></extra>\",\"legendgroup\":\"FR-Bil_SWC_4\",\"line\":{\"color\":\"#00cc96\",\"dash\":\"solid\"},\"marker\":{\"symbol\":\"circle\"},\"mode\":\"lines\",\"name\":\"FR-Bil_SWC_4\",\"orientation\":\"v\",\"showlegend\":false,\"x\":[\"2023-03-09T22:30:00\",\"2023-03-09T23:00:00\"],\"xaxis\":\"x2\",\"y\":[18.850000381469727,18.850000381469727],\"yaxis\":\"y2\",\"type\":\"scatter\"},{\"hovertemplate\":\"jajajaja lak al  alolalla swc=FR-Bil_SWC_4<br>FR-Bil_SWC_2=17.690000534057617<br>TIMESTAMP=%{x}<br>value=%{y}<extra></extra>\",\"legendgroup\":\"FR-Bil_SWC_4\",\"line\":{\"color\":\"#00cc96\",\"dash\":\"solid\"},\"marker\":{\"symbol\":\"circle\"},\"mode\":\"lines\",\"name\":\"FR-Bil_SWC_4\",\"orientation\":\"v\",\"showlegend\":false,\"x\":[\"2023-03-09T23:30:00\"],\"xaxis\":\"x\",\"y\":[18.84000015258789],\"yaxis\":\"y\",\"type\":\"scatter\"}],                        {\"template\":{\"data\":{\"histogram2dcontour\":[{\"type\":\"histogram2dcontour\",\"colorbar\":{\"outlinewidth\":0,\"ticks\":\"\"},\"colorscale\":[[0.0,\"#0d0887\"],[0.1111111111111111,\"#46039f\"],[0.2222222222222222,\"#7201a8\"],[0.3333333333333333,\"#9c179e\"],[0.4444444444444444,\"#bd3786\"],[0.5555555555555556,\"#d8576b\"],[0.6666666666666666,\"#ed7953\"],[0.7777777777777778,\"#fb9f3a\"],[0.8888888888888888,\"#fdca26\"],[1.0,\"#f0f921\"]]}],\"choropleth\":[{\"type\":\"choropleth\",\"colorbar\":{\"outlinewidth\":0,\"ticks\":\"\"}}],\"histogram2d\":[{\"type\":\"histogram2d\",\"colorbar\":{\"outlinewidth\":0,\"ticks\":\"\"},\"colorscale\":[[0.0,\"#0d0887\"],[0.1111111111111111,\"#46039f\"],[0.2222222222222222,\"#7201a8\"],[0.3333333333333333,\"#9c179e\"],[0.4444444444444444,\"#bd3786\"],[0.5555555555555556,\"#d8576b\"],[0.6666666666666666,\"#ed7953\"],[0.7777777777777778,\"#fb9f3a\"],[0.8888888888888888,\"#fdca26\"],[1.0,\"#f0f921\"]]}],\"heatmap\":[{\"type\":\"heatmap\",\"colorbar\":{\"outlinewidth\":0,\"ticks\":\"\"},\"colorscale\":[[0.0,\"#0d0887\"],[0.1111111111111111,\"#46039f\"],[0.2222222222222222,\"#7201a8\"],[0.3333333333333333,\"#9c179e\"],[0.4444444444444444,\"#bd3786\"],[0.5555555555555556,\"#d8576b\"],[0.6666666666666666,\"#ed7953\"],[0.7777777777777778,\"#fb9f3a\"],[0.8888888888888888,\"#fdca26\"],[1.0,\"#f0f921\"]]}],\"heatmapgl\":[{\"type\":\"heatmapgl\",\"colorbar\":{\"outlinewidth\":0,\"ticks\":\"\"},\"colorscale\":[[0.0,\"#0d0887\"],[0.1111111111111111,\"#46039f\"],[0.2222222222222222,\"#7201a8\"],[0.3333333333333333,\"#9c179e\"],[0.4444444444444444,\"#bd3786\"],[0.5555555555555556,\"#d8576b\"],[0.6666666666666666,\"#ed7953\"],[0.7777777777777778,\"#fb9f3a\"],[0.8888888888888888,\"#fdca26\"],[1.0,\"#f0f921\"]]}],\"contourcarpet\":[{\"type\":\"contourcarpet\",\"colorbar\":{\"outlinewidth\":0,\"ticks\":\"\"}}],\"contour\":[{\"type\":\"contour\",\"colorbar\":{\"outlinewidth\":0,\"ticks\":\"\"},\"colorscale\":[[0.0,\"#0d0887\"],[0.1111111111111111,\"#46039f\"],[0.2222222222222222,\"#7201a8\"],[0.3333333333333333,\"#9c179e\"],[0.4444444444444444,\"#bd3786\"],[0.5555555555555556,\"#d8576b\"],[0.6666666666666666,\"#ed7953\"],[0.7777777777777778,\"#fb9f3a\"],[0.8888888888888888,\"#fdca26\"],[1.0,\"#f0f921\"]]}],\"surface\":[{\"type\":\"surface\",\"colorbar\":{\"outlinewidth\":0,\"ticks\":\"\"},\"colorscale\":[[0.0,\"#0d0887\"],[0.1111111111111111,\"#46039f\"],[0.2222222222222222,\"#7201a8\"],[0.3333333333333333,\"#9c179e\"],[0.4444444444444444,\"#bd3786\"],[0.5555555555555556,\"#d8576b\"],[0.6666666666666666,\"#ed7953\"],[0.7777777777777778,\"#fb9f3a\"],[0.8888888888888888,\"#fdca26\"],[1.0,\"#f0f921\"]]}],\"mesh3d\":[{\"type\":\"mesh3d\",\"colorbar\":{\"outlinewidth\":0,\"ticks\":\"\"}}],\"scatter\":[{\"fillpattern\":{\"fillmode\":\"overlay\",\"size\":10,\"solidity\":0.2},\"type\":\"scatter\"}],\"parcoords\":[{\"type\":\"parcoords\",\"line\":{\"colorbar\":{\"outlinewidth\":0,\"ticks\":\"\"}}}],\"scatterpolargl\":[{\"type\":\"scatterpolargl\",\"marker\":{\"colorbar\":{\"outlinewidth\":0,\"ticks\":\"\"}}}],\"bar\":[{\"error_x\":{\"color\":\"#2a3f5f\"},\"error_y\":{\"color\":\"#2a3f5f\"},\"marker\":{\"line\":{\"color\":\"#E5ECF6\",\"width\":0.5},\"pattern\":{\"fillmode\":\"overlay\",\"size\":10,\"solidity\":0.2}},\"type\":\"bar\"}],\"scattergeo\":[{\"type\":\"scattergeo\",\"marker\":{\"colorbar\":{\"outlinewidth\":0,\"ticks\":\"\"}}}],\"scatterpolar\":[{\"type\":\"scatterpolar\",\"marker\":{\"colorbar\":{\"outlinewidth\":0,\"ticks\":\"\"}}}],\"histogram\":[{\"marker\":{\"pattern\":{\"fillmode\":\"overlay\",\"size\":10,\"solidity\":0.2}},\"type\":\"histogram\"}],\"scattergl\":[{\"type\":\"scattergl\",\"marker\":{\"colorbar\":{\"outlinewidth\":0,\"ticks\":\"\"}}}],\"scatter3d\":[{\"type\":\"scatter3d\",\"line\":{\"colorbar\":{\"outlinewidth\":0,\"ticks\":\"\"}},\"marker\":{\"colorbar\":{\"outlinewidth\":0,\"ticks\":\"\"}}}],\"scattermapbox\":[{\"type\":\"scattermapbox\",\"marker\":{\"colorbar\":{\"outlinewidth\":0,\"ticks\":\"\"}}}],\"scatterternary\":[{\"type\":\"scatterternary\",\"marker\":{\"colorbar\":{\"outlinewidth\":0,\"ticks\":\"\"}}}],\"scattercarpet\":[{\"type\":\"scattercarpet\",\"marker\":{\"colorbar\":{\"outlinewidth\":0,\"ticks\":\"\"}}}],\"carpet\":[{\"aaxis\":{\"endlinecolor\":\"#2a3f5f\",\"gridcolor\":\"white\",\"linecolor\":\"white\",\"minorgridcolor\":\"white\",\"startlinecolor\":\"#2a3f5f\"},\"baxis\":{\"endlinecolor\":\"#2a3f5f\",\"gridcolor\":\"white\",\"linecolor\":\"white\",\"minorgridcolor\":\"white\",\"startlinecolor\":\"#2a3f5f\"},\"type\":\"carpet\"}],\"table\":[{\"cells\":{\"fill\":{\"color\":\"#EBF0F8\"},\"line\":{\"color\":\"white\"}},\"header\":{\"fill\":{\"color\":\"#C8D4E3\"},\"line\":{\"color\":\"white\"}},\"type\":\"table\"}],\"barpolar\":[{\"marker\":{\"line\":{\"color\":\"#E5ECF6\",\"width\":0.5},\"pattern\":{\"fillmode\":\"overlay\",\"size\":10,\"solidity\":0.2}},\"type\":\"barpolar\"}],\"pie\":[{\"automargin\":true,\"type\":\"pie\"}]},\"layout\":{\"autotypenumbers\":\"strict\",\"colorway\":[\"#636efa\",\"#EF553B\",\"#00cc96\",\"#ab63fa\",\"#FFA15A\",\"#19d3f3\",\"#FF6692\",\"#B6E880\",\"#FF97FF\",\"#FECB52\"],\"font\":{\"color\":\"#2a3f5f\"},\"hovermode\":\"closest\",\"hoverlabel\":{\"align\":\"left\"},\"paper_bgcolor\":\"white\",\"plot_bgcolor\":\"#E5ECF6\",\"polar\":{\"bgcolor\":\"#E5ECF6\",\"angularaxis\":{\"gridcolor\":\"white\",\"linecolor\":\"white\",\"ticks\":\"\"},\"radialaxis\":{\"gridcolor\":\"white\",\"linecolor\":\"white\",\"ticks\":\"\"}},\"ternary\":{\"bgcolor\":\"#E5ECF6\",\"aaxis\":{\"gridcolor\":\"white\",\"linecolor\":\"white\",\"ticks\":\"\"},\"baxis\":{\"gridcolor\":\"white\",\"linecolor\":\"white\",\"ticks\":\"\"},\"caxis\":{\"gridcolor\":\"white\",\"linecolor\":\"white\",\"ticks\":\"\"}},\"coloraxis\":{\"colorbar\":{\"outlinewidth\":0,\"ticks\":\"\"}},\"colorscale\":{\"sequential\":[[0.0,\"#0d0887\"],[0.1111111111111111,\"#46039f\"],[0.2222222222222222,\"#7201a8\"],[0.3333333333333333,\"#9c179e\"],[0.4444444444444444,\"#bd3786\"],[0.5555555555555556,\"#d8576b\"],[0.6666666666666666,\"#ed7953\"],[0.7777777777777778,\"#fb9f3a\"],[0.8888888888888888,\"#fdca26\"],[1.0,\"#f0f921\"]],\"sequentialminus\":[[0.0,\"#0d0887\"],[0.1111111111111111,\"#46039f\"],[0.2222222222222222,\"#7201a8\"],[0.3333333333333333,\"#9c179e\"],[0.4444444444444444,\"#bd3786\"],[0.5555555555555556,\"#d8576b\"],[0.6666666666666666,\"#ed7953\"],[0.7777777777777778,\"#fb9f3a\"],[0.8888888888888888,\"#fdca26\"],[1.0,\"#f0f921\"]],\"diverging\":[[0,\"#8e0152\"],[0.1,\"#c51b7d\"],[0.2,\"#de77ae\"],[0.3,\"#f1b6da\"],[0.4,\"#fde0ef\"],[0.5,\"#f7f7f7\"],[0.6,\"#e6f5d0\"],[0.7,\"#b8e186\"],[0.8,\"#7fbc41\"],[0.9,\"#4d9221\"],[1,\"#276419\"]]},\"xaxis\":{\"gridcolor\":\"white\",\"linecolor\":\"white\",\"ticks\":\"\",\"title\":{\"standoff\":15},\"zerolinecolor\":\"white\",\"automargin\":true,\"zerolinewidth\":2},\"yaxis\":{\"gridcolor\":\"white\",\"linecolor\":\"white\",\"ticks\":\"\",\"title\":{\"standoff\":15},\"zerolinecolor\":\"white\",\"automargin\":true,\"zerolinewidth\":2},\"scene\":{\"xaxis\":{\"backgroundcolor\":\"#E5ECF6\",\"gridcolor\":\"white\",\"linecolor\":\"white\",\"showbackground\":true,\"ticks\":\"\",\"zerolinecolor\":\"white\",\"gridwidth\":2},\"yaxis\":{\"backgroundcolor\":\"#E5ECF6\",\"gridcolor\":\"white\",\"linecolor\":\"white\",\"showbackground\":true,\"ticks\":\"\",\"zerolinecolor\":\"white\",\"gridwidth\":2},\"zaxis\":{\"backgroundcolor\":\"#E5ECF6\",\"gridcolor\":\"white\",\"linecolor\":\"white\",\"showbackground\":true,\"ticks\":\"\",\"zerolinecolor\":\"white\",\"gridwidth\":2}},\"shapedefaults\":{\"line\":{\"color\":\"#2a3f5f\"}},\"annotationdefaults\":{\"arrowcolor\":\"#2a3f5f\",\"arrowhead\":0,\"arrowwidth\":1},\"geo\":{\"bgcolor\":\"white\",\"landcolor\":\"#E5ECF6\",\"subunitcolor\":\"white\",\"showland\":true,\"showlakes\":true,\"lakecolor\":\"white\"},\"title\":{\"x\":0.05},\"mapbox\":{\"style\":\"light\"}}},\"xaxis\":{\"anchor\":\"y\",\"domain\":[0.0,0.98],\"title\":{\"text\":\"TIMESTAMP\"}},\"yaxis\":{\"anchor\":\"x\",\"domain\":[0.0,0.006557377049180329],\"title\":{\"text\":\"value\"}},\"xaxis2\":{\"anchor\":\"y2\",\"domain\":[0.0,0.98],\"matches\":\"x\",\"showticklabels\":false},\"yaxis2\":{\"anchor\":\"x2\",\"domain\":[0.016557377049180328,0.023114754098360658],\"matches\":\"y\",\"title\":{\"text\":\"value\"}},\"xaxis3\":{\"anchor\":\"y3\",\"domain\":[0.0,0.98],\"matches\":\"x\",\"showticklabels\":false},\"yaxis3\":{\"anchor\":\"x3\",\"domain\":[0.033114754098360656,0.039672131147540986],\"matches\":\"y\",\"title\":{\"text\":\"value\"}},\"xaxis4\":{\"anchor\":\"y4\",\"domain\":[0.0,0.98],\"matches\":\"x\",\"showticklabels\":false},\"yaxis4\":{\"anchor\":\"x4\",\"domain\":[0.04967213114754099,0.05622950819672132],\"matches\":\"y\",\"title\":{\"text\":\"value\"}},\"xaxis5\":{\"anchor\":\"y5\",\"domain\":[0.0,0.98],\"matches\":\"x\",\"showticklabels\":false},\"yaxis5\":{\"anchor\":\"x5\",\"domain\":[0.06622950819672131,0.07278688524590164],\"matches\":\"y\",\"title\":{\"text\":\"value\"}},\"xaxis6\":{\"anchor\":\"y6\",\"domain\":[0.0,0.98],\"matches\":\"x\",\"showticklabels\":false},\"yaxis6\":{\"anchor\":\"x6\",\"domain\":[0.08278688524590164,0.08934426229508197],\"matches\":\"y\",\"title\":{\"text\":\"value\"}},\"xaxis7\":{\"anchor\":\"y7\",\"domain\":[0.0,0.98],\"matches\":\"x\",\"showticklabels\":false},\"yaxis7\":{\"anchor\":\"x7\",\"domain\":[0.09934426229508198,0.1059016393442623],\"matches\":\"y\",\"title\":{\"text\":\"value\"}},\"xaxis8\":{\"anchor\":\"y8\",\"domain\":[0.0,0.98],\"matches\":\"x\",\"showticklabels\":false},\"yaxis8\":{\"anchor\":\"x8\",\"domain\":[0.11590163934426231,0.12245901639344264],\"matches\":\"y\",\"title\":{\"text\":\"value\"}},\"xaxis9\":{\"anchor\":\"y9\",\"domain\":[0.0,0.98],\"matches\":\"x\",\"showticklabels\":false},\"yaxis9\":{\"anchor\":\"x9\",\"domain\":[0.13245901639344262,0.13901639344262295],\"matches\":\"y\",\"title\":{\"text\":\"value\"}},\"xaxis10\":{\"anchor\":\"y10\",\"domain\":[0.0,0.98],\"matches\":\"x\",\"showticklabels\":false},\"yaxis10\":{\"anchor\":\"x10\",\"domain\":[0.14901639344262296,0.1555737704918033],\"matches\":\"y\",\"title\":{\"text\":\"value\"}},\"xaxis11\":{\"anchor\":\"y11\",\"domain\":[0.0,0.98],\"matches\":\"x\",\"showticklabels\":false},\"yaxis11\":{\"anchor\":\"x11\",\"domain\":[0.16557377049180327,0.1721311475409836],\"matches\":\"y\",\"title\":{\"text\":\"value\"}},\"xaxis12\":{\"anchor\":\"y12\",\"domain\":[0.0,0.98],\"matches\":\"x\",\"showticklabels\":false},\"yaxis12\":{\"anchor\":\"x12\",\"domain\":[0.1821311475409836,0.18868852459016394],\"matches\":\"y\",\"title\":{\"text\":\"value\"}},\"xaxis13\":{\"anchor\":\"y13\",\"domain\":[0.0,0.98],\"matches\":\"x\",\"showticklabels\":false},\"yaxis13\":{\"anchor\":\"x13\",\"domain\":[0.19868852459016395,0.20524590163934428],\"matches\":\"y\",\"title\":{\"text\":\"value\"}},\"xaxis14\":{\"anchor\":\"y14\",\"domain\":[0.0,0.98],\"matches\":\"x\",\"showticklabels\":false},\"yaxis14\":{\"anchor\":\"x14\",\"domain\":[0.21524590163934426,0.2218032786885246],\"matches\":\"y\",\"title\":{\"text\":\"value\"}},\"xaxis15\":{\"anchor\":\"y15\",\"domain\":[0.0,0.98],\"matches\":\"x\",\"showticklabels\":false},\"yaxis15\":{\"anchor\":\"x15\",\"domain\":[0.23180327868852463,0.23836065573770496],\"matches\":\"y\",\"title\":{\"text\":\"value\"}},\"xaxis16\":{\"anchor\":\"y16\",\"domain\":[0.0,0.98],\"matches\":\"x\",\"showticklabels\":false},\"yaxis16\":{\"anchor\":\"x16\",\"domain\":[0.24836065573770494,0.25491803278688524],\"matches\":\"y\",\"title\":{\"text\":\"value\"}},\"xaxis17\":{\"anchor\":\"y17\",\"domain\":[0.0,0.98],\"matches\":\"x\",\"showticklabels\":false},\"yaxis17\":{\"anchor\":\"x17\",\"domain\":[0.26491803278688525,0.27147540983606555],\"matches\":\"y\",\"title\":{\"text\":\"value\"}},\"xaxis18\":{\"anchor\":\"y18\",\"domain\":[0.0,0.98],\"matches\":\"x\",\"showticklabels\":false},\"yaxis18\":{\"anchor\":\"x18\",\"domain\":[0.2814754098360656,0.2880327868852459],\"matches\":\"y\",\"title\":{\"text\":\"value\"}},\"xaxis19\":{\"anchor\":\"y19\",\"domain\":[0.0,0.98],\"matches\":\"x\",\"showticklabels\":false},\"yaxis19\":{\"anchor\":\"x19\",\"domain\":[0.2980327868852459,0.30459016393442623],\"matches\":\"y\",\"title\":{\"text\":\"value\"}},\"xaxis20\":{\"anchor\":\"y20\",\"domain\":[0.0,0.98],\"matches\":\"x\",\"showticklabels\":false},\"yaxis20\":{\"anchor\":\"x20\",\"domain\":[0.31459016393442624,0.32114754098360654],\"matches\":\"y\",\"title\":{\"text\":\"value\"}},\"xaxis21\":{\"anchor\":\"y21\",\"domain\":[0.0,0.98],\"matches\":\"x\",\"showticklabels\":false},\"yaxis21\":{\"anchor\":\"x21\",\"domain\":[0.33114754098360655,0.33770491803278685],\"matches\":\"y\",\"title\":{\"text\":\"value\"}},\"xaxis22\":{\"anchor\":\"y22\",\"domain\":[0.0,0.98],\"matches\":\"x\",\"showticklabels\":false},\"yaxis22\":{\"anchor\":\"x22\",\"domain\":[0.3477049180327869,0.3542622950819672],\"matches\":\"y\",\"title\":{\"text\":\"value\"}},\"xaxis23\":{\"anchor\":\"y23\",\"domain\":[0.0,0.98],\"matches\":\"x\",\"showticklabels\":false},\"yaxis23\":{\"anchor\":\"x23\",\"domain\":[0.3642622950819672,0.3708196721311475],\"matches\":\"y\",\"title\":{\"text\":\"value\"}},\"xaxis24\":{\"anchor\":\"y24\",\"domain\":[0.0,0.98],\"matches\":\"x\",\"showticklabels\":false},\"yaxis24\":{\"anchor\":\"x24\",\"domain\":[0.38081967213114754,0.38737704918032784],\"matches\":\"y\",\"title\":{\"text\":\"value\"}},\"xaxis25\":{\"anchor\":\"y25\",\"domain\":[0.0,0.98],\"matches\":\"x\",\"showticklabels\":false},\"yaxis25\":{\"anchor\":\"x25\",\"domain\":[0.3973770491803279,0.4039344262295082],\"matches\":\"y\",\"title\":{\"text\":\"value\"}},\"xaxis26\":{\"anchor\":\"y26\",\"domain\":[0.0,0.98],\"matches\":\"x\",\"showticklabels\":false},\"yaxis26\":{\"anchor\":\"x26\",\"domain\":[0.4139344262295082,0.4204918032786885],\"matches\":\"y\",\"title\":{\"text\":\"value\"}},\"xaxis27\":{\"anchor\":\"y27\",\"domain\":[0.0,0.98],\"matches\":\"x\",\"showticklabels\":false},\"yaxis27\":{\"anchor\":\"x27\",\"domain\":[0.4304918032786885,0.4370491803278688],\"matches\":\"y\",\"title\":{\"text\":\"value\"}},\"xaxis28\":{\"anchor\":\"y28\",\"domain\":[0.0,0.98],\"matches\":\"x\",\"showticklabels\":false},\"yaxis28\":{\"anchor\":\"x28\",\"domain\":[0.4470491803278689,0.4536065573770492],\"matches\":\"y\",\"title\":{\"text\":\"value\"}},\"xaxis29\":{\"anchor\":\"y29\",\"domain\":[0.0,0.98],\"matches\":\"x\",\"showticklabels\":false},\"yaxis29\":{\"anchor\":\"x29\",\"domain\":[0.46360655737704926,0.47016393442622956],\"matches\":\"y\",\"title\":{\"text\":\"value\"}},\"xaxis30\":{\"anchor\":\"y30\",\"domain\":[0.0,0.98],\"matches\":\"x\",\"showticklabels\":false},\"yaxis30\":{\"anchor\":\"x30\",\"domain\":[0.4801639344262295,0.4867213114754098],\"matches\":\"y\",\"title\":{\"text\":\"value\"}},\"xaxis31\":{\"anchor\":\"y31\",\"domain\":[0.0,0.98],\"matches\":\"x\",\"showticklabels\":false},\"yaxis31\":{\"anchor\":\"x31\",\"domain\":[0.4967213114754099,0.5032786885245902],\"matches\":\"y\",\"title\":{\"text\":\"value\"}},\"xaxis32\":{\"anchor\":\"y32\",\"domain\":[0.0,0.98],\"matches\":\"x\",\"showticklabels\":false},\"yaxis32\":{\"anchor\":\"x32\",\"domain\":[0.5132786885245901,0.5198360655737705],\"matches\":\"y\",\"title\":{\"text\":\"value\"}},\"xaxis33\":{\"anchor\":\"y33\",\"domain\":[0.0,0.98],\"matches\":\"x\",\"showticklabels\":false},\"yaxis33\":{\"anchor\":\"x33\",\"domain\":[0.5298360655737705,0.5363934426229509],\"matches\":\"y\",\"title\":{\"text\":\"value\"}},\"xaxis34\":{\"anchor\":\"y34\",\"domain\":[0.0,0.98],\"matches\":\"x\",\"showticklabels\":false},\"yaxis34\":{\"anchor\":\"x34\",\"domain\":[0.5463934426229509,0.5529508196721312],\"matches\":\"y\",\"title\":{\"text\":\"value\"}},\"xaxis35\":{\"anchor\":\"y35\",\"domain\":[0.0,0.98],\"matches\":\"x\",\"showticklabels\":false},\"yaxis35\":{\"anchor\":\"x35\",\"domain\":[0.5629508196721312,0.5695081967213116],\"matches\":\"y\",\"title\":{\"text\":\"value\"}},\"xaxis36\":{\"anchor\":\"y36\",\"domain\":[0.0,0.98],\"matches\":\"x\",\"showticklabels\":false},\"yaxis36\":{\"anchor\":\"x36\",\"domain\":[0.5795081967213116,0.586065573770492],\"matches\":\"y\",\"title\":{\"text\":\"value\"}},\"xaxis37\":{\"anchor\":\"y37\",\"domain\":[0.0,0.98],\"matches\":\"x\",\"showticklabels\":false},\"yaxis37\":{\"anchor\":\"x37\",\"domain\":[0.5960655737704919,0.6026229508196722],\"matches\":\"y\",\"title\":{\"text\":\"value\"}},\"xaxis38\":{\"anchor\":\"y38\",\"domain\":[0.0,0.98],\"matches\":\"x\",\"showticklabels\":false},\"yaxis38\":{\"anchor\":\"x38\",\"domain\":[0.6126229508196721,0.6191803278688525],\"matches\":\"y\",\"title\":{\"text\":\"value\"}},\"xaxis39\":{\"anchor\":\"y39\",\"domain\":[0.0,0.98],\"matches\":\"x\",\"showticklabels\":false},\"yaxis39\":{\"anchor\":\"x39\",\"domain\":[0.6291803278688525,0.6357377049180328],\"matches\":\"y\",\"title\":{\"text\":\"value\"}},\"xaxis40\":{\"anchor\":\"y40\",\"domain\":[0.0,0.98],\"matches\":\"x\",\"showticklabels\":false},\"yaxis40\":{\"anchor\":\"x40\",\"domain\":[0.6457377049180328,0.6522950819672132],\"matches\":\"y\",\"title\":{\"text\":\"value\"}},\"xaxis41\":{\"anchor\":\"y41\",\"domain\":[0.0,0.98],\"matches\":\"x\",\"showticklabels\":false},\"yaxis41\":{\"anchor\":\"x41\",\"domain\":[0.6622950819672131,0.6688524590163935],\"matches\":\"y\",\"title\":{\"text\":\"value\"}},\"xaxis42\":{\"anchor\":\"y42\",\"domain\":[0.0,0.98],\"matches\":\"x\",\"showticklabels\":false},\"yaxis42\":{\"anchor\":\"x42\",\"domain\":[0.6788524590163935,0.6854098360655738],\"matches\":\"y\",\"title\":{\"text\":\"value\"}},\"xaxis43\":{\"anchor\":\"y43\",\"domain\":[0.0,0.98],\"matches\":\"x\",\"showticklabels\":false},\"yaxis43\":{\"anchor\":\"x43\",\"domain\":[0.6954098360655737,0.7019672131147541],\"matches\":\"y\",\"title\":{\"text\":\"value\"}},\"xaxis44\":{\"anchor\":\"y44\",\"domain\":[0.0,0.98],\"matches\":\"x\",\"showticklabels\":false},\"yaxis44\":{\"anchor\":\"x44\",\"domain\":[0.7119672131147541,0.7185245901639344],\"matches\":\"y\",\"title\":{\"text\":\"value\"}},\"xaxis45\":{\"anchor\":\"y45\",\"domain\":[0.0,0.98],\"matches\":\"x\",\"showticklabels\":false},\"yaxis45\":{\"anchor\":\"x45\",\"domain\":[0.7285245901639343,0.7350819672131147],\"matches\":\"y\",\"title\":{\"text\":\"value\"}},\"xaxis46\":{\"anchor\":\"y46\",\"domain\":[0.0,0.98],\"matches\":\"x\",\"showticklabels\":false},\"yaxis46\":{\"anchor\":\"x46\",\"domain\":[0.7450819672131146,0.751639344262295],\"matches\":\"y\",\"title\":{\"text\":\"value\"}},\"xaxis47\":{\"anchor\":\"y47\",\"domain\":[0.0,0.98],\"matches\":\"x\",\"showticklabels\":false},\"yaxis47\":{\"anchor\":\"x47\",\"domain\":[0.761639344262295,0.7681967213114753],\"matches\":\"y\",\"title\":{\"text\":\"value\"}},\"xaxis48\":{\"anchor\":\"y48\",\"domain\":[0.0,0.98],\"matches\":\"x\",\"showticklabels\":false},\"yaxis48\":{\"anchor\":\"x48\",\"domain\":[0.7781967213114753,0.7847540983606557],\"matches\":\"y\",\"title\":{\"text\":\"value\"}},\"xaxis49\":{\"anchor\":\"y49\",\"domain\":[0.0,0.98],\"matches\":\"x\",\"showticklabels\":false},\"yaxis49\":{\"anchor\":\"x49\",\"domain\":[0.7947540983606556,0.8013114754098359],\"matches\":\"y\",\"title\":{\"text\":\"value\"}},\"xaxis50\":{\"anchor\":\"y50\",\"domain\":[0.0,0.98],\"matches\":\"x\",\"showticklabels\":false},\"yaxis50\":{\"anchor\":\"x50\",\"domain\":[0.8113114754098358,0.8178688524590162],\"matches\":\"y\",\"title\":{\"text\":\"value\"}},\"xaxis51\":{\"anchor\":\"y51\",\"domain\":[0.0,0.98],\"matches\":\"x\",\"showticklabels\":false},\"yaxis51\":{\"anchor\":\"x51\",\"domain\":[0.8278688524590161,0.8344262295081964],\"matches\":\"y\",\"title\":{\"text\":\"value\"}},\"xaxis52\":{\"anchor\":\"y52\",\"domain\":[0.0,0.98],\"matches\":\"x\",\"showticklabels\":false},\"yaxis52\":{\"anchor\":\"x52\",\"domain\":[0.8444262295081965,0.8509836065573768],\"matches\":\"y\",\"title\":{\"text\":\"value\"}},\"xaxis53\":{\"anchor\":\"y53\",\"domain\":[0.0,0.98],\"matches\":\"x\",\"showticklabels\":false},\"yaxis53\":{\"anchor\":\"x53\",\"domain\":[0.8609836065573768,0.8675409836065572],\"matches\":\"y\",\"title\":{\"text\":\"value\"}},\"xaxis54\":{\"anchor\":\"y54\",\"domain\":[0.0,0.98],\"matches\":\"x\",\"showticklabels\":false},\"yaxis54\":{\"anchor\":\"x54\",\"domain\":[0.8775409836065571,0.8840983606557374],\"matches\":\"y\",\"title\":{\"text\":\"value\"}},\"xaxis55\":{\"anchor\":\"y55\",\"domain\":[0.0,0.98],\"matches\":\"x\",\"showticklabels\":false},\"yaxis55\":{\"anchor\":\"x55\",\"domain\":[0.8940983606557373,0.9006557377049177],\"matches\":\"y\",\"title\":{\"text\":\"value\"}},\"xaxis56\":{\"anchor\":\"y56\",\"domain\":[0.0,0.98],\"matches\":\"x\",\"showticklabels\":false},\"yaxis56\":{\"anchor\":\"x56\",\"domain\":[0.9106557377049177,0.9172131147540981],\"matches\":\"y\",\"title\":{\"text\":\"value\"}},\"xaxis57\":{\"anchor\":\"y57\",\"domain\":[0.0,0.98],\"matches\":\"x\",\"showticklabels\":false},\"yaxis57\":{\"anchor\":\"x57\",\"domain\":[0.9272131147540981,0.9337704918032784],\"matches\":\"y\",\"title\":{\"text\":\"value\"}},\"xaxis58\":{\"anchor\":\"y58\",\"domain\":[0.0,0.98],\"matches\":\"x\",\"showticklabels\":false},\"yaxis58\":{\"anchor\":\"x58\",\"domain\":[0.9437704918032783,0.9503278688524587],\"matches\":\"y\",\"title\":{\"text\":\"value\"}},\"xaxis59\":{\"anchor\":\"y59\",\"domain\":[0.0,0.98],\"matches\":\"x\",\"showticklabels\":false},\"yaxis59\":{\"anchor\":\"x59\",\"domain\":[0.9603278688524586,0.9668852459016389],\"matches\":\"y\",\"title\":{\"text\":\"value\"}},\"xaxis60\":{\"anchor\":\"y60\",\"domain\":[0.0,0.98],\"matches\":\"x\",\"showticklabels\":false},\"yaxis60\":{\"anchor\":\"x60\",\"domain\":[0.9768852459016388,0.9834426229508192],\"matches\":\"y\",\"title\":{\"text\":\"value\"}},\"xaxis61\":{\"anchor\":\"y61\",\"domain\":[0.0,0.98],\"matches\":\"x\",\"showticklabels\":false},\"yaxis61\":{\"anchor\":\"x61\",\"domain\":[0.9934426229508191,0.9999999999999994],\"matches\":\"y\",\"title\":{\"text\":\"value\"}},\"annotations\":[{\"font\":{},\"showarrow\":false,\"text\":\"FR-Bil_SWC_2=17.690000534057617\",\"textangle\":90,\"x\":0.98,\"xanchor\":\"left\",\"xref\":\"paper\",\"y\":0.0032786885245901644,\"yanchor\":\"middle\",\"yref\":\"paper\"},{\"font\":{},\"showarrow\":false,\"text\":\"FR-Bil_SWC_2=17.719999313354492\",\"textangle\":90,\"x\":0.98,\"xanchor\":\"left\",\"xref\":\"paper\",\"y\":0.019836065573770493,\"yanchor\":\"middle\",\"yref\":\"paper\"},{\"font\":{},\"showarrow\":false,\"text\":\"FR-Bil_SWC_2=17.760000228881836\",\"textangle\":90,\"x\":0.98,\"xanchor\":\"left\",\"xref\":\"paper\",\"y\":0.03639344262295082,\"yanchor\":\"middle\",\"yref\":\"paper\"},{\"font\":{},\"showarrow\":false,\"text\":\"FR-Bil_SWC_2=17.739999771118164\",\"textangle\":90,\"x\":0.98,\"xanchor\":\"left\",\"xref\":\"paper\",\"y\":0.05295081967213115,\"yanchor\":\"middle\",\"yref\":\"paper\"},{\"font\":{},\"showarrow\":false,\"text\":\"FR-Bil_SWC_2=17.780000686645508\",\"textangle\":90,\"x\":0.98,\"xanchor\":\"left\",\"xref\":\"paper\",\"y\":0.06950819672131148,\"yanchor\":\"middle\",\"yref\":\"paper\"},{\"font\":{},\"showarrow\":false,\"text\":\"FR-Bil_SWC_2=17.81999969482422\",\"textangle\":90,\"x\":0.98,\"xanchor\":\"left\",\"xref\":\"paper\",\"y\":0.0860655737704918,\"yanchor\":\"middle\",\"yref\":\"paper\"},{\"font\":{},\"showarrow\":false,\"text\":\"FR-Bil_SWC_2=17.889999389648438\",\"textangle\":90,\"x\":0.98,\"xanchor\":\"left\",\"xref\":\"paper\",\"y\":0.10262295081967214,\"yanchor\":\"middle\",\"yref\":\"paper\"},{\"font\":{},\"showarrow\":false,\"text\":\"FR-Bil_SWC_2=17.899999618530273\",\"textangle\":90,\"x\":0.98,\"xanchor\":\"left\",\"xref\":\"paper\",\"y\":0.11918032786885248,\"yanchor\":\"middle\",\"yref\":\"paper\"},{\"font\":{},\"showarrow\":false,\"text\":\"FR-Bil_SWC_2=17.799999237060547\",\"textangle\":90,\"x\":0.98,\"xanchor\":\"left\",\"xref\":\"paper\",\"y\":0.13573770491803278,\"yanchor\":\"middle\",\"yref\":\"paper\"},{\"font\":{},\"showarrow\":false,\"text\":\"FR-Bil_SWC_2=17.770000457763672\",\"textangle\":90,\"x\":0.98,\"xanchor\":\"left\",\"xref\":\"paper\",\"y\":0.15229508196721314,\"yanchor\":\"middle\",\"yref\":\"paper\"},{\"font\":{},\"showarrow\":false,\"text\":\"FR-Bil_SWC_2=17.790000915527344\",\"textangle\":90,\"x\":0.98,\"xanchor\":\"left\",\"xref\":\"paper\",\"y\":0.16885245901639345,\"yanchor\":\"middle\",\"yref\":\"paper\"},{\"font\":{},\"showarrow\":false,\"text\":\"FR-Bil_SWC_2=17.84000015258789\",\"textangle\":90,\"x\":0.98,\"xanchor\":\"left\",\"xref\":\"paper\",\"y\":0.18540983606557376,\"yanchor\":\"middle\",\"yref\":\"paper\"},{\"font\":{},\"showarrow\":false,\"text\":\"FR-Bil_SWC_2=17.860000610351562\",\"textangle\":90,\"x\":0.98,\"xanchor\":\"left\",\"xref\":\"paper\",\"y\":0.20196721311475413,\"yanchor\":\"middle\",\"yref\":\"paper\"},{\"font\":{},\"showarrow\":false,\"text\":\"FR-Bil_SWC_2=17.8799991607666\",\"textangle\":90,\"x\":0.98,\"xanchor\":\"left\",\"xref\":\"paper\",\"y\":0.21852459016393444,\"yanchor\":\"middle\",\"yref\":\"paper\"},{\"font\":{},\"showarrow\":false,\"text\":\"FR-Bil_SWC_2=18.0\",\"textangle\":90,\"x\":0.98,\"xanchor\":\"left\",\"xref\":\"paper\",\"y\":0.2350819672131148,\"yanchor\":\"middle\",\"yref\":\"paper\"},{\"font\":{},\"showarrow\":false,\"text\":\"FR-Bil_SWC_2=17.950000762939453\",\"textangle\":90,\"x\":0.98,\"xanchor\":\"left\",\"xref\":\"paper\",\"y\":0.25163934426229506,\"yanchor\":\"middle\",\"yref\":\"paper\"},{\"font\":{},\"showarrow\":false,\"text\":\"FR-Bil_SWC_2=17.979999542236328\",\"textangle\":90,\"x\":0.98,\"xanchor\":\"left\",\"xref\":\"paper\",\"y\":0.26819672131147543,\"yanchor\":\"middle\",\"yref\":\"paper\"},{\"font\":{},\"showarrow\":false,\"text\":\"FR-Bil_SWC_2=17.959999084472656\",\"textangle\":90,\"x\":0.98,\"xanchor\":\"left\",\"xref\":\"paper\",\"y\":0.2847540983606558,\"yanchor\":\"middle\",\"yref\":\"paper\"},{\"font\":{},\"showarrow\":false,\"text\":\"FR-Bil_SWC_2=18.040000915527344\",\"textangle\":90,\"x\":0.98,\"xanchor\":\"left\",\"xref\":\"paper\",\"y\":0.30131147540983605,\"yanchor\":\"middle\",\"yref\":\"paper\"},{\"font\":{},\"showarrow\":false,\"text\":\"FR-Bil_SWC_2=18.06999969482422\",\"textangle\":90,\"x\":0.98,\"xanchor\":\"left\",\"xref\":\"paper\",\"y\":0.3178688524590164,\"yanchor\":\"middle\",\"yref\":\"paper\"},{\"font\":{},\"showarrow\":false,\"text\":\"FR-Bil_SWC_2=18.100000381469727\",\"textangle\":90,\"x\":0.98,\"xanchor\":\"left\",\"xref\":\"paper\",\"y\":0.33442622950819667,\"yanchor\":\"middle\",\"yref\":\"paper\"},{\"font\":{},\"showarrow\":false,\"text\":\"FR-Bil_SWC_2=18.110000610351562\",\"textangle\":90,\"x\":0.98,\"xanchor\":\"left\",\"xref\":\"paper\",\"y\":0.35098360655737704,\"yanchor\":\"middle\",\"yref\":\"paper\"},{\"font\":{},\"showarrow\":false,\"text\":\"FR-Bil_SWC_2=18.1200008392334\",\"textangle\":90,\"x\":0.98,\"xanchor\":\"left\",\"xref\":\"paper\",\"y\":0.3675409836065574,\"yanchor\":\"middle\",\"yref\":\"paper\"},{\"font\":{},\"showarrow\":false,\"text\":\"FR-Bil_SWC_2=18.209999084472656\",\"textangle\":90,\"x\":0.98,\"xanchor\":\"left\",\"xref\":\"paper\",\"y\":0.38409836065573766,\"yanchor\":\"middle\",\"yref\":\"paper\"},{\"font\":{},\"showarrow\":false,\"text\":\"FR-Bil_SWC_2=18.200000762939453\",\"textangle\":90,\"x\":0.98,\"xanchor\":\"left\",\"xref\":\"paper\",\"y\":0.400655737704918,\"yanchor\":\"middle\",\"yref\":\"paper\"},{\"font\":{},\"showarrow\":false,\"text\":\"FR-Bil_SWC_2=18.219999313354492\",\"textangle\":90,\"x\":0.98,\"xanchor\":\"left\",\"xref\":\"paper\",\"y\":0.4172131147540984,\"yanchor\":\"middle\",\"yref\":\"paper\"},{\"font\":{},\"showarrow\":false,\"text\":\"FR-Bil_SWC_2=18.239999771118164\",\"textangle\":90,\"x\":0.98,\"xanchor\":\"left\",\"xref\":\"paper\",\"y\":0.43377049180327865,\"yanchor\":\"middle\",\"yref\":\"paper\"},{\"font\":{},\"showarrow\":false,\"text\":\"FR-Bil_SWC_2=18.280000686645508\",\"textangle\":90,\"x\":0.98,\"xanchor\":\"left\",\"xref\":\"paper\",\"y\":0.450327868852459,\"yanchor\":\"middle\",\"yref\":\"paper\"},{\"font\":{},\"showarrow\":false,\"text\":\"FR-Bil_SWC_2=18.299999237060547\",\"textangle\":90,\"x\":0.98,\"xanchor\":\"left\",\"xref\":\"paper\",\"y\":0.4668852459016394,\"yanchor\":\"middle\",\"yref\":\"paper\"},{\"font\":{},\"showarrow\":false,\"text\":\"FR-Bil_SWC_2=18.25\",\"textangle\":90,\"x\":0.98,\"xanchor\":\"left\",\"xref\":\"paper\",\"y\":0.48344262295081963,\"yanchor\":\"middle\",\"yref\":\"paper\"},{\"font\":{},\"showarrow\":false,\"text\":\"FR-Bil_SWC_2=18.18000030517578\",\"textangle\":90,\"x\":0.98,\"xanchor\":\"left\",\"xref\":\"paper\",\"y\":0.5,\"yanchor\":\"middle\",\"yref\":\"paper\"},{\"font\":{},\"showarrow\":false,\"text\":\"FR-Bil_SWC_2=18.15999984741211\",\"textangle\":90,\"x\":0.98,\"xanchor\":\"left\",\"xref\":\"paper\",\"y\":0.5165573770491803,\"yanchor\":\"middle\",\"yref\":\"paper\"},{\"font\":{},\"showarrow\":false,\"text\":\"FR-Bil_SWC_2=18.170000076293945\",\"textangle\":90,\"x\":0.98,\"xanchor\":\"left\",\"xref\":\"paper\",\"y\":0.5331147540983607,\"yanchor\":\"middle\",\"yref\":\"paper\"},{\"font\":{},\"showarrow\":false,\"text\":\"FR-Bil_SWC_2=18.229999542236328\",\"textangle\":90,\"x\":0.98,\"xanchor\":\"left\",\"xref\":\"paper\",\"y\":0.549672131147541,\"yanchor\":\"middle\",\"yref\":\"paper\"},{\"font\":{},\"showarrow\":false,\"text\":\"FR-Bil_SWC_2=18.260000228881836\",\"textangle\":90,\"x\":0.98,\"xanchor\":\"left\",\"xref\":\"paper\",\"y\":0.5662295081967215,\"yanchor\":\"middle\",\"yref\":\"paper\"},{\"font\":{},\"showarrow\":false,\"text\":\"FR-Bil_SWC_2=18.190000534057617\",\"textangle\":90,\"x\":0.98,\"xanchor\":\"left\",\"xref\":\"paper\",\"y\":0.5827868852459017,\"yanchor\":\"middle\",\"yref\":\"paper\"},{\"font\":{},\"showarrow\":false,\"text\":\"FR-Bil_SWC_2=18.149999618530273\",\"textangle\":90,\"x\":0.98,\"xanchor\":\"left\",\"xref\":\"paper\",\"y\":0.599344262295082,\"yanchor\":\"middle\",\"yref\":\"paper\"},{\"font\":{},\"showarrow\":false,\"text\":\"FR-Bil_SWC_2=18.1299991607666\",\"textangle\":90,\"x\":0.98,\"xanchor\":\"left\",\"xref\":\"paper\",\"y\":0.6159016393442622,\"yanchor\":\"middle\",\"yref\":\"paper\"},{\"font\":{},\"showarrow\":false,\"text\":\"FR-Bil_SWC_2=18.139999389648438\",\"textangle\":90,\"x\":0.98,\"xanchor\":\"left\",\"xref\":\"paper\",\"y\":0.6324590163934427,\"yanchor\":\"middle\",\"yref\":\"paper\"},{\"font\":{},\"showarrow\":false,\"text\":\"FR-Bil_SWC_2=18.049999237060547\",\"textangle\":90,\"x\":0.98,\"xanchor\":\"left\",\"xref\":\"paper\",\"y\":0.649016393442623,\"yanchor\":\"middle\",\"yref\":\"paper\"},{\"font\":{},\"showarrow\":false,\"text\":\"FR-Bil_SWC_2=17.920000076293945\",\"textangle\":90,\"x\":0.98,\"xanchor\":\"left\",\"xref\":\"paper\",\"y\":0.6655737704918032,\"yanchor\":\"middle\",\"yref\":\"paper\"},{\"font\":{},\"showarrow\":false,\"text\":\"FR-Bil_SWC_2=17.829999923706055\",\"textangle\":90,\"x\":0.98,\"xanchor\":\"left\",\"xref\":\"paper\",\"y\":0.6821311475409837,\"yanchor\":\"middle\",\"yref\":\"paper\"},{\"font\":{},\"showarrow\":false,\"text\":\"FR-Bil_SWC_2=17.600000381469727\",\"textangle\":90,\"x\":0.98,\"xanchor\":\"left\",\"xref\":\"paper\",\"y\":0.698688524590164,\"yanchor\":\"middle\",\"yref\":\"paper\"},{\"font\":{},\"showarrow\":false,\"text\":\"FR-Bil_SWC_2=17.43000030517578\",\"textangle\":90,\"x\":0.98,\"xanchor\":\"left\",\"xref\":\"paper\",\"y\":0.7152459016393442,\"yanchor\":\"middle\",\"yref\":\"paper\"},{\"font\":{},\"showarrow\":false,\"text\":\"FR-Bil_SWC_2=17.3700008392334\",\"textangle\":90,\"x\":0.98,\"xanchor\":\"left\",\"xref\":\"paper\",\"y\":0.7318032786885245,\"yanchor\":\"middle\",\"yref\":\"paper\"},{\"font\":{},\"showarrow\":false,\"text\":\"FR-Bil_SWC_2=17.299999237060547\",\"textangle\":90,\"x\":0.98,\"xanchor\":\"left\",\"xref\":\"paper\",\"y\":0.7483606557377047,\"yanchor\":\"middle\",\"yref\":\"paper\"},{\"font\":{},\"showarrow\":false,\"text\":\"FR-Bil_SWC_2=17.399999618530273\",\"textangle\":90,\"x\":0.98,\"xanchor\":\"left\",\"xref\":\"paper\",\"y\":0.7649180327868852,\"yanchor\":\"middle\",\"yref\":\"paper\"},{\"font\":{},\"showarrow\":false,\"text\":\"FR-Bil_SWC_2=17.450000762939453\",\"textangle\":90,\"x\":0.98,\"xanchor\":\"left\",\"xref\":\"paper\",\"y\":0.7814754098360654,\"yanchor\":\"middle\",\"yref\":\"paper\"},{\"font\":{},\"showarrow\":false,\"text\":\"FR-Bil_SWC_2=17.420000076293945\",\"textangle\":90,\"x\":0.98,\"xanchor\":\"left\",\"xref\":\"paper\",\"y\":0.7980327868852457,\"yanchor\":\"middle\",\"yref\":\"paper\"},{\"font\":{},\"showarrow\":false,\"text\":\"FR-Bil_SWC_2=17.360000610351562\",\"textangle\":90,\"x\":0.98,\"xanchor\":\"left\",\"xref\":\"paper\",\"y\":0.814590163934426,\"yanchor\":\"middle\",\"yref\":\"paper\"},{\"font\":{},\"showarrow\":false,\"text\":\"FR-Bil_SWC_2=17.260000228881836\",\"textangle\":90,\"x\":0.98,\"xanchor\":\"left\",\"xref\":\"paper\",\"y\":0.8311475409836062,\"yanchor\":\"middle\",\"yref\":\"paper\"},{\"font\":{},\"showarrow\":false,\"text\":\"FR-Bil_SWC_2=17.31999969482422\",\"textangle\":90,\"x\":0.98,\"xanchor\":\"left\",\"xref\":\"paper\",\"y\":0.8477049180327867,\"yanchor\":\"middle\",\"yref\":\"paper\"},{\"font\":{},\"showarrow\":false,\"text\":\"FR-Bil_SWC_2=17.219999313354492\",\"textangle\":90,\"x\":0.98,\"xanchor\":\"left\",\"xref\":\"paper\",\"y\":0.864262295081967,\"yanchor\":\"middle\",\"yref\":\"paper\"},{\"font\":{},\"showarrow\":false,\"text\":\"FR-Bil_SWC_2=17.209999084472656\",\"textangle\":90,\"x\":0.98,\"xanchor\":\"left\",\"xref\":\"paper\",\"y\":0.8808196721311472,\"yanchor\":\"middle\",\"yref\":\"paper\"},{\"font\":{},\"showarrow\":false,\"text\":\"FR-Bil_SWC_2=17.25\",\"textangle\":90,\"x\":0.98,\"xanchor\":\"left\",\"xref\":\"paper\",\"y\":0.8973770491803275,\"yanchor\":\"middle\",\"yref\":\"paper\"},{\"font\":{},\"showarrow\":false,\"text\":\"FR-Bil_SWC_2=17.329999923706055\",\"textangle\":90,\"x\":0.98,\"xanchor\":\"left\",\"xref\":\"paper\",\"y\":0.9139344262295079,\"yanchor\":\"middle\",\"yref\":\"paper\"},{\"font\":{},\"showarrow\":false,\"text\":\"FR-Bil_SWC_2=17.290000915527344\",\"textangle\":90,\"x\":0.98,\"xanchor\":\"left\",\"xref\":\"paper\",\"y\":0.9304918032786882,\"yanchor\":\"middle\",\"yref\":\"paper\"},{\"font\":{},\"showarrow\":false,\"text\":\"FR-Bil_SWC_2=17.239999771118164\",\"textangle\":90,\"x\":0.98,\"xanchor\":\"left\",\"xref\":\"paper\",\"y\":0.9470491803278684,\"yanchor\":\"middle\",\"yref\":\"paper\"},{\"font\":{},\"showarrow\":false,\"text\":\"FR-Bil_SWC_2=17.270000457763672\",\"textangle\":90,\"x\":0.98,\"xanchor\":\"left\",\"xref\":\"paper\",\"y\":0.9636065573770487,\"yanchor\":\"middle\",\"yref\":\"paper\"},{\"font\":{},\"showarrow\":false,\"text\":\"FR-Bil_SWC_2=17.350000381469727\",\"textangle\":90,\"x\":0.98,\"xanchor\":\"left\",\"xref\":\"paper\",\"y\":0.980163934426229,\"yanchor\":\"middle\",\"yref\":\"paper\"},{\"font\":{},\"showarrow\":false,\"text\":\"FR-Bil_SWC_2=17.34000015258789\",\"textangle\":90,\"x\":0.98,\"xanchor\":\"left\",\"xref\":\"paper\",\"y\":0.9967213114754092,\"yanchor\":\"middle\",\"yref\":\"paper\"}],\"legend\":{\"title\":{\"text\":\"jajajaja lak al  alolalla swc\"},\"tracegroupgap\":0},\"margin\":{\"t\":60},\"height\":400,\"width\":800},                        {\"displayModeBar\": false, \"responsive\": true}                    ).then(function(){\n",
       "                            \n",
       "var gd = document.getElementById('9c67535b-d353-4c51-870d-230bb536cf52');\n",
       "var x = new MutationObserver(function (mutations, observer) {{\n",
       "        var display = window.getComputedStyle(gd).display;\n",
       "        if (!display || display === 'none') {{\n",
       "            console.log([gd, 'removed!']);\n",
       "            Plotly.purge(gd);\n",
       "            observer.disconnect();\n",
       "        }}\n",
       "}});\n",
       "\n",
       "// Listen for the removal of the full notebook cells\n",
       "var notebookContainer = gd.closest('#notebook-container');\n",
       "if (notebookContainer) {{\n",
       "    x.observe(notebookContainer, {childList: true});\n",
       "}}\n",
       "\n",
       "// Listen for the clearing of the current output cell\n",
       "var outputEl = gd.closest('.output');\n",
       "if (outputEl) {{\n",
       "    x.observe(outputEl, {childList: true});\n",
       "}}\n",
       "\n",
       "                        })                };                });            </script>        </div>"
      ]
     },
     "metadata": {},
     "output_type": "display_data"
    }
   ],
   "source": [
    "import plotly.express as px\n",
    "# df = px.data.stocks(indexed=True)\n",
    "fig = px.line(df3, facet_row=\"FR-Bil_SWC_2\", facet_row_spacing=0.01, height=400, width=800)\n",
    "\n",
    "# hide and lock down axes\n",
    "#fig.update_xaxes(visible=False, fixedrange=True)\n",
    "#fig.update_yaxes(visible=False, fixedrange=True)\n",
    "\n",
    "# remove facet/subplot labels\n",
    "#fig.update_layout(annotations=[], overwrite=True)\n",
    "\n",
    "# strip down the rest of the plot\n",
    "# fig.update_layout(\n",
    "#     showlegend=False,\n",
    "#     plot_bgcolor=\"white\",\n",
    "#     margin=dict(t=10,l=10,b=10,r=10)\n",
    "# )\n",
    "\n",
    "# disable the modebar for such a small plot\n",
    "fig.show(config=dict(displayModeBar=False))\n",
    "#df.to_dict()\n",
    "\n"
   ]
  },
  {
   "cell_type": "code",
   "execution_count": 31,
   "id": "4741d29b-46a4-4981-b475-3bdb6722ee59",
   "metadata": {},
   "outputs": [
    {
     "data": {
      "application/vnd.jupyter.widget-view+json": {
       "model_id": "119f00bbbdfe4bc5afe100fc35d30d81",
       "version_major": 2,
       "version_minor": 0
      },
      "text/plain": [
       "Dropdown(options=('lines', 'lines+markers', 'markers'), value='lines')"
      ]
     },
     "metadata": {},
     "output_type": "display_data"
    },
    {
     "data": {
      "application/vnd.jupyter.widget-view+json": {
       "model_id": "fbcc85d0018f4f2198aabc1e125d6d1c",
       "version_major": 2,
       "version_minor": 0
      },
      "text/plain": [
       "Output()"
      ]
     },
     "metadata": {},
     "output_type": "display_data"
    }
   ],
   "source": [
    "import plotly.graph_objects as go\n",
    "from ipywidgets import widgets as wd\n",
    "from IPython.display import display, clear_output\n",
    "# Create traces\n",
    "fig = go.Figure( layout ={'height': 400, 'width': 1800})\n",
    "\n",
    "def plot(new_mode):\n",
    "    if new_mode in ['lines', 'lines+markers', 'markers']:\n",
    "        pass\n",
    "    else:\n",
    "        new_mode = 'lines'\n",
    "    for c in df3.columns:  \n",
    "        fig.add_trace(go.Scatter(x=df3.index, y=df3[c],\n",
    "                                 mode=new_mode,\n",
    "                                 name=new_mode))\n",
    "\n",
    "    with out: \n",
    "        fig.show()\n",
    "    \n",
    "drop = wd.Dropdown(options =  ['lines', 'lines+markers', 'markers'], value = 'lines')\n",
    "drop.observe(plot, names = 'value')\n",
    "out = wd.Output()\n",
    "display(drop,out)\n"
   ]
  },
  {
   "cell_type": "code",
   "execution_count": 32,
   "id": "722b8275-9c73-4541-8706-96b78f2ae1db",
   "metadata": {},
   "outputs": [
    {
     "ename": "NameError",
     "evalue": "name 'df4' is not defined",
     "output_type": "error",
     "traceback": [
      "\u001b[1;31m---------------------------------------------------------------------------\u001b[0m",
      "\u001b[1;31mNameError\u001b[0m                                 Traceback (most recent call last)",
      "Cell \u001b[1;32mIn [32], line 6\u001b[0m\n\u001b[0;32m      4\u001b[0m \u001b[38;5;66;03m# Create traces\u001b[39;00m\n\u001b[0;32m      5\u001b[0m fig \u001b[38;5;241m=\u001b[39m go\u001b[38;5;241m.\u001b[39mFigure()\n\u001b[1;32m----> 6\u001b[0m fig\u001b[38;5;241m.\u001b[39madd_trace(go\u001b[38;5;241m.\u001b[39mScatter(x\u001b[38;5;241m=\u001b[39mdf4\u001b[38;5;241m.\u001b[39mindex, y\u001b[38;5;241m=\u001b[39mdf4[df4\u001b[38;5;241m.\u001b[39mcolumns[\u001b[38;5;241m0\u001b[39m]],\n\u001b[0;32m      7\u001b[0m                     mode\u001b[38;5;241m=\u001b[39m\u001b[38;5;124m'\u001b[39m\u001b[38;5;124mlines\u001b[39m\u001b[38;5;124m'\u001b[39m,\n\u001b[0;32m      8\u001b[0m                     name\u001b[38;5;241m=\u001b[39m\u001b[38;5;124m'\u001b[39m\u001b[38;5;124mlines\u001b[39m\u001b[38;5;124m'\u001b[39m))\n\u001b[0;32m      9\u001b[0m fig\u001b[38;5;241m.\u001b[39madd_trace(go\u001b[38;5;241m.\u001b[39mScatter(x\u001b[38;5;241m=\u001b[39mdf4\u001b[38;5;241m.\u001b[39mindex, y\u001b[38;5;241m=\u001b[39mdf4[df4\u001b[38;5;241m.\u001b[39mcolumns[\u001b[38;5;241m1\u001b[39m]] \u001b[38;5;241m*\u001b[39m(\u001b[38;5;241m2.4\u001b[39m\u001b[38;5;241m-\u001b[39m df4[df4\u001b[38;5;241m.\u001b[39mcolumns[\u001b[38;5;241m1\u001b[39m]])\u001b[38;5;241m*\u001b[39m\u001b[38;5;241m10\u001b[39m,\n\u001b[0;32m     10\u001b[0m                     mode\u001b[38;5;241m=\u001b[39m\u001b[38;5;124m'\u001b[39m\u001b[38;5;124mlines+markers\u001b[39m\u001b[38;5;124m'\u001b[39m,\n\u001b[0;32m     11\u001b[0m                     name\u001b[38;5;241m=\u001b[39m\u001b[38;5;124m'\u001b[39m\u001b[38;5;124mlines+markers\u001b[39m\u001b[38;5;124m'\u001b[39m))\n\u001b[0;32m     13\u001b[0m fig\u001b[38;5;241m.\u001b[39mshow()\n",
      "\u001b[1;31mNameError\u001b[0m: name 'df4' is not defined"
     ]
    }
   ],
   "source": [
    "import plotly.graph_objects as go\n",
    "\n",
    "\n",
    "# Create traces\n",
    "fig = go.Figure()\n",
    "fig.add_trace(go.Scatter(x=df4.index, y=df4[df4.columns[0]],\n",
    "                    mode='lines',\n",
    "                    name='lines'))\n",
    "fig.add_trace(go.Scatter(x=df4.index, y=df4[df4.columns[1]] *(2.4- df4[df4.columns[1]])*10,\n",
    "                    mode='lines+markers',\n",
    "                    name='lines+markers'))\n",
    "\n",
    "fig.show()\n",
    "df4.columns[0]"
   ]
  },
  {
   "cell_type": "code",
   "execution_count": null,
   "id": "ab7f424f-dbb6-4d18-8964-0c1535c56e27",
   "metadata": {
    "tags": []
   },
   "outputs": [],
   "source": [
    "\n"
   ]
  },
  {
   "cell_type": "code",
   "execution_count": 33,
   "id": "7d7d1a4c-88ab-4af9-9186-2a5f3849e4ba",
   "metadata": {
    "tags": []
   },
   "outputs": [
    {
     "data": {
      "application/vnd.plotly.v1+json": {
       "config": {
        "plotlyServerURL": "https://plot.ly"
       },
       "data": [
        {
         "mode": "lines",
         "name": "lines",
         "text": [
          "2023-03-08T00:00:00",
          "2023-03-08T00:30:00",
          "2023-03-08T01:00:00",
          "2023-03-08T01:30:00",
          "2023-03-08T02:00:00",
          "2023-03-08T02:30:00",
          "2023-03-08T03:00:00",
          "2023-03-08T03:30:00",
          "2023-03-08T04:00:00",
          "2023-03-08T04:30:00",
          "2023-03-08T05:00:00",
          "2023-03-08T05:30:00",
          "2023-03-08T06:00:00",
          "2023-03-08T06:30:00",
          "2023-03-08T07:00:00",
          "2023-03-08T07:30:00",
          "2023-03-08T08:00:00",
          "2023-03-08T08:30:00",
          "2023-03-08T09:00:00",
          "2023-03-08T09:30:00",
          "2023-03-08T10:00:00",
          "2023-03-08T10:30:00",
          "2023-03-08T11:00:00",
          "2023-03-08T11:30:00",
          "2023-03-08T12:00:00",
          "2023-03-08T12:30:00",
          "2023-03-08T13:00:00",
          "2023-03-08T13:30:00",
          "2023-03-08T14:00:00",
          "2023-03-08T14:30:00",
          "2023-03-08T15:00:00",
          "2023-03-08T15:30:00",
          "2023-03-08T16:00:00",
          "2023-03-08T16:30:00",
          "2023-03-08T17:00:00",
          "2023-03-08T17:30:00",
          "2023-03-08T18:00:00",
          "2023-03-08T18:30:00",
          "2023-03-08T19:00:00",
          "2023-03-08T19:30:00",
          "2023-03-08T20:00:00",
          "2023-03-08T20:30:00",
          "2023-03-08T21:00:00",
          "2023-03-08T21:30:00",
          "2023-03-08T22:00:00",
          "2023-03-08T22:30:00",
          "2023-03-08T23:00:00",
          "2023-03-08T23:30:00",
          "2023-03-09T00:00:00",
          "2023-03-09T00:30:00",
          "2023-03-09T01:00:00",
          "2023-03-09T01:30:00",
          "2023-03-09T02:00:00",
          "2023-03-09T02:30:00",
          "2023-03-09T03:00:00",
          "2023-03-09T03:30:00",
          "2023-03-09T04:00:00",
          "2023-03-09T04:30:00",
          "2023-03-09T05:00:00",
          "2023-03-09T05:30:00",
          "2023-03-09T06:00:00",
          "2023-03-09T06:30:00",
          "2023-03-09T07:00:00",
          "2023-03-09T07:30:00",
          "2023-03-09T08:00:00",
          "2023-03-09T08:30:00",
          "2023-03-09T09:00:00",
          "2023-03-09T09:30:00",
          "2023-03-09T10:00:00",
          "2023-03-09T10:30:00",
          "2023-03-09T11:00:00",
          "2023-03-09T11:30:00",
          "2023-03-09T12:00:00",
          "2023-03-09T12:30:00",
          "2023-03-09T13:00:00",
          "2023-03-09T13:30:00",
          "2023-03-09T14:00:00",
          "2023-03-09T14:30:00",
          "2023-03-09T15:00:00",
          "2023-03-09T15:30:00",
          "2023-03-09T16:00:00",
          "2023-03-09T16:30:00",
          "2023-03-09T17:00:00",
          "2023-03-09T17:30:00",
          "2023-03-09T18:00:00",
          "2023-03-09T18:30:00",
          "2023-03-09T19:00:00",
          "2023-03-09T19:30:00",
          "2023-03-09T20:00:00",
          "2023-03-09T20:30:00",
          "2023-03-09T21:00:00",
          "2023-03-09T21:30:00",
          "2023-03-09T22:00:00",
          "2023-03-09T22:30:00",
          "2023-03-09T23:00:00",
          "2023-03-09T23:30:00"
         ],
         "type": "scatter",
         "x": [
          17.34000015258789,
          17.350000381469727,
          17.270000457763672,
          17.239999771118164,
          17.290000915527344,
          17.34000015258789,
          17.329999923706055,
          17.25,
          17.209999084472656,
          17.209999084472656,
          17.239999771118164,
          17.209999084472656,
          17.219999313354492,
          17.290000915527344,
          17.290000915527344,
          17.31999969482422,
          17.31999969482422,
          17.260000228881836,
          17.31999969482422,
          17.360000610351562,
          17.329999923706055,
          17.31999969482422,
          17.360000610351562,
          17.420000076293945,
          17.450000762939453,
          17.450000762939453,
          17.399999618530273,
          17.360000610351562,
          17.350000381469727,
          17.350000381469727,
          17.299999237060547,
          17.350000381469727,
          17.360000610351562,
          17.329999923706055,
          17.290000915527344,
          17.299999237060547,
          17.329999923706055,
          17.3700008392334,
          17.43000030517578,
          17.600000381469727,
          17.829999923706055,
          17.920000076293945,
          18.049999237060547,
          18.139999389648438,
          18.1299991607666,
          18.149999618530273,
          18.190000534057617,
          18.260000228881836,
          18.229999542236328,
          18.190000534057617,
          18.190000534057617,
          18.170000076293945,
          18.15999984741211,
          18.15999984741211,
          18.18000030517578,
          18.25,
          18.299999237060547,
          18.280000686645508,
          18.239999771118164,
          18.229999542236328,
          18.219999313354492,
          18.200000762939453,
          18.209999084472656,
          18.209999084472656,
          18.170000076293945,
          18.1200008392334,
          18.110000610351562,
          18.1299991607666,
          18.100000381469727,
          18.06999969482422,
          18.049999237060547,
          18.049999237060547,
          18.040000915527344,
          17.959999084472656,
          17.979999542236328,
          17.950000762939453,
          18,
          17.8799991607666,
          17.860000610351562,
          17.84000015258789,
          17.790000915527344,
          17.770000457763672,
          17.799999237060547,
          17.860000610351562,
          17.899999618530273,
          17.889999389648438,
          17.860000610351562,
          17.829999923706055,
          17.81999969482422,
          17.780000686645508,
          17.739999771118164,
          17.760000228881836,
          17.739999771118164,
          17.719999313354492,
          17.719999313354492,
          17.690000534057617
         ],
         "y": [
          13.4399995803833,
          13.479999542236328,
          13.380000114440918,
          13.369999885559082,
          13.229999542236328,
          13.260000228881836,
          13.170000076293945,
          13.220000267028809,
          13.220000267028809,
          13.1899995803833,
          13.15999984741211,
          13.210000038146973,
          13.15999984741211,
          13.140000343322754,
          13.140000343322754,
          13.109999656677246,
          13.319999694824219,
          13.5600004196167,
          13.640000343322754,
          13.710000038146973,
          13.779999732971191,
          13.770000457763672,
          13.729999542236328,
          13.670000076293945,
          13.670000076293945,
          13.65999984741211,
          13.600000381469727,
          13.579999923706055,
          13.59000015258789,
          13.600000381469727,
          13.520000457763672,
          13.569999694824219,
          13.420000076293945,
          13.399999618530273,
          13.34000015258789,
          13.3100004196167,
          13.449999809265137,
          13.710000038146973,
          14.380000114440918,
          15.039999961853027,
          15.239999771118164,
          15.279999732971191,
          15.220000267028809,
          15.130000114440918,
          15.039999961853027,
          14.9399995803833,
          14.899999618530273,
          14.789999961853027,
          14.770000457763672,
          14.680000305175781,
          14.59000015258789,
          14.539999961853027,
          14.470000267028809,
          14.460000038146973,
          14.3100004196167,
          14.359999656677246,
          14.270000457763672,
          14.279999732971191,
          14.119999885559082,
          14.100000381469727,
          14.100000381469727,
          14.010000228881836,
          14.029999732971191,
          13.989999771118164,
          13.930000305175781,
          13.880000114440918,
          13.850000381469727,
          13.800000190734863,
          13.800000190734863,
          13.699999809265137,
          13.6899995803833,
          13.609999656677246,
          13.640000343322754,
          13.579999923706055,
          13.569999694824219,
          13.529999732971191,
          13.479999542236328,
          13.4399995803833,
          13.420000076293945,
          13.420000076293945,
          13.3100004196167,
          13.180000305175781,
          13.25,
          13.279999732971191,
          13.210000038146973,
          13.149999618530273,
          13.170000076293945,
          13.109999656677246,
          13.100000381469727,
          13.140000343322754,
          13.069999694824219,
          12.949999809265137,
          13,
          13.029999732971191,
          13.020000457763672,
          12.970000267028809
         ]
        }
       ],
       "layout": {
        "autosize": true,
        "template": {
         "data": {
          "bar": [
           {
            "error_x": {
             "color": "#2a3f5f"
            },
            "error_y": {
             "color": "#2a3f5f"
            },
            "marker": {
             "line": {
              "color": "#E5ECF6",
              "width": 0.5
             },
             "pattern": {
              "fillmode": "overlay",
              "size": 10,
              "solidity": 0.2
             }
            },
            "type": "bar"
           }
          ],
          "barpolar": [
           {
            "marker": {
             "line": {
              "color": "#E5ECF6",
              "width": 0.5
             },
             "pattern": {
              "fillmode": "overlay",
              "size": 10,
              "solidity": 0.2
             }
            },
            "type": "barpolar"
           }
          ],
          "carpet": [
           {
            "aaxis": {
             "endlinecolor": "#2a3f5f",
             "gridcolor": "white",
             "linecolor": "white",
             "minorgridcolor": "white",
             "startlinecolor": "#2a3f5f"
            },
            "baxis": {
             "endlinecolor": "#2a3f5f",
             "gridcolor": "white",
             "linecolor": "white",
             "minorgridcolor": "white",
             "startlinecolor": "#2a3f5f"
            },
            "type": "carpet"
           }
          ],
          "choropleth": [
           {
            "colorbar": {
             "outlinewidth": 0,
             "ticks": ""
            },
            "type": "choropleth"
           }
          ],
          "contour": [
           {
            "colorbar": {
             "outlinewidth": 0,
             "ticks": ""
            },
            "colorscale": [
             [
              0,
              "#0d0887"
             ],
             [
              0.1111111111111111,
              "#46039f"
             ],
             [
              0.2222222222222222,
              "#7201a8"
             ],
             [
              0.3333333333333333,
              "#9c179e"
             ],
             [
              0.4444444444444444,
              "#bd3786"
             ],
             [
              0.5555555555555556,
              "#d8576b"
             ],
             [
              0.6666666666666666,
              "#ed7953"
             ],
             [
              0.7777777777777778,
              "#fb9f3a"
             ],
             [
              0.8888888888888888,
              "#fdca26"
             ],
             [
              1,
              "#f0f921"
             ]
            ],
            "type": "contour"
           }
          ],
          "contourcarpet": [
           {
            "colorbar": {
             "outlinewidth": 0,
             "ticks": ""
            },
            "type": "contourcarpet"
           }
          ],
          "heatmap": [
           {
            "colorbar": {
             "outlinewidth": 0,
             "ticks": ""
            },
            "colorscale": [
             [
              0,
              "#0d0887"
             ],
             [
              0.1111111111111111,
              "#46039f"
             ],
             [
              0.2222222222222222,
              "#7201a8"
             ],
             [
              0.3333333333333333,
              "#9c179e"
             ],
             [
              0.4444444444444444,
              "#bd3786"
             ],
             [
              0.5555555555555556,
              "#d8576b"
             ],
             [
              0.6666666666666666,
              "#ed7953"
             ],
             [
              0.7777777777777778,
              "#fb9f3a"
             ],
             [
              0.8888888888888888,
              "#fdca26"
             ],
             [
              1,
              "#f0f921"
             ]
            ],
            "type": "heatmap"
           }
          ],
          "heatmapgl": [
           {
            "colorbar": {
             "outlinewidth": 0,
             "ticks": ""
            },
            "colorscale": [
             [
              0,
              "#0d0887"
             ],
             [
              0.1111111111111111,
              "#46039f"
             ],
             [
              0.2222222222222222,
              "#7201a8"
             ],
             [
              0.3333333333333333,
              "#9c179e"
             ],
             [
              0.4444444444444444,
              "#bd3786"
             ],
             [
              0.5555555555555556,
              "#d8576b"
             ],
             [
              0.6666666666666666,
              "#ed7953"
             ],
             [
              0.7777777777777778,
              "#fb9f3a"
             ],
             [
              0.8888888888888888,
              "#fdca26"
             ],
             [
              1,
              "#f0f921"
             ]
            ],
            "type": "heatmapgl"
           }
          ],
          "histogram": [
           {
            "marker": {
             "pattern": {
              "fillmode": "overlay",
              "size": 10,
              "solidity": 0.2
             }
            },
            "type": "histogram"
           }
          ],
          "histogram2d": [
           {
            "colorbar": {
             "outlinewidth": 0,
             "ticks": ""
            },
            "colorscale": [
             [
              0,
              "#0d0887"
             ],
             [
              0.1111111111111111,
              "#46039f"
             ],
             [
              0.2222222222222222,
              "#7201a8"
             ],
             [
              0.3333333333333333,
              "#9c179e"
             ],
             [
              0.4444444444444444,
              "#bd3786"
             ],
             [
              0.5555555555555556,
              "#d8576b"
             ],
             [
              0.6666666666666666,
              "#ed7953"
             ],
             [
              0.7777777777777778,
              "#fb9f3a"
             ],
             [
              0.8888888888888888,
              "#fdca26"
             ],
             [
              1,
              "#f0f921"
             ]
            ],
            "type": "histogram2d"
           }
          ],
          "histogram2dcontour": [
           {
            "colorbar": {
             "outlinewidth": 0,
             "ticks": ""
            },
            "colorscale": [
             [
              0,
              "#0d0887"
             ],
             [
              0.1111111111111111,
              "#46039f"
             ],
             [
              0.2222222222222222,
              "#7201a8"
             ],
             [
              0.3333333333333333,
              "#9c179e"
             ],
             [
              0.4444444444444444,
              "#bd3786"
             ],
             [
              0.5555555555555556,
              "#d8576b"
             ],
             [
              0.6666666666666666,
              "#ed7953"
             ],
             [
              0.7777777777777778,
              "#fb9f3a"
             ],
             [
              0.8888888888888888,
              "#fdca26"
             ],
             [
              1,
              "#f0f921"
             ]
            ],
            "type": "histogram2dcontour"
           }
          ],
          "mesh3d": [
           {
            "colorbar": {
             "outlinewidth": 0,
             "ticks": ""
            },
            "type": "mesh3d"
           }
          ],
          "parcoords": [
           {
            "line": {
             "colorbar": {
              "outlinewidth": 0,
              "ticks": ""
             }
            },
            "type": "parcoords"
           }
          ],
          "pie": [
           {
            "automargin": true,
            "type": "pie"
           }
          ],
          "scatter": [
           {
            "fillpattern": {
             "fillmode": "overlay",
             "size": 10,
             "solidity": 0.2
            },
            "type": "scatter"
           }
          ],
          "scatter3d": [
           {
            "line": {
             "colorbar": {
              "outlinewidth": 0,
              "ticks": ""
             }
            },
            "marker": {
             "colorbar": {
              "outlinewidth": 0,
              "ticks": ""
             }
            },
            "type": "scatter3d"
           }
          ],
          "scattercarpet": [
           {
            "marker": {
             "colorbar": {
              "outlinewidth": 0,
              "ticks": ""
             }
            },
            "type": "scattercarpet"
           }
          ],
          "scattergeo": [
           {
            "marker": {
             "colorbar": {
              "outlinewidth": 0,
              "ticks": ""
             }
            },
            "type": "scattergeo"
           }
          ],
          "scattergl": [
           {
            "marker": {
             "colorbar": {
              "outlinewidth": 0,
              "ticks": ""
             }
            },
            "type": "scattergl"
           }
          ],
          "scattermapbox": [
           {
            "marker": {
             "colorbar": {
              "outlinewidth": 0,
              "ticks": ""
             }
            },
            "type": "scattermapbox"
           }
          ],
          "scatterpolar": [
           {
            "marker": {
             "colorbar": {
              "outlinewidth": 0,
              "ticks": ""
             }
            },
            "type": "scatterpolar"
           }
          ],
          "scatterpolargl": [
           {
            "marker": {
             "colorbar": {
              "outlinewidth": 0,
              "ticks": ""
             }
            },
            "type": "scatterpolargl"
           }
          ],
          "scatterternary": [
           {
            "marker": {
             "colorbar": {
              "outlinewidth": 0,
              "ticks": ""
             }
            },
            "type": "scatterternary"
           }
          ],
          "surface": [
           {
            "colorbar": {
             "outlinewidth": 0,
             "ticks": ""
            },
            "colorscale": [
             [
              0,
              "#0d0887"
             ],
             [
              0.1111111111111111,
              "#46039f"
             ],
             [
              0.2222222222222222,
              "#7201a8"
             ],
             [
              0.3333333333333333,
              "#9c179e"
             ],
             [
              0.4444444444444444,
              "#bd3786"
             ],
             [
              0.5555555555555556,
              "#d8576b"
             ],
             [
              0.6666666666666666,
              "#ed7953"
             ],
             [
              0.7777777777777778,
              "#fb9f3a"
             ],
             [
              0.8888888888888888,
              "#fdca26"
             ],
             [
              1,
              "#f0f921"
             ]
            ],
            "type": "surface"
           }
          ],
          "table": [
           {
            "cells": {
             "fill": {
              "color": "#EBF0F8"
             },
             "line": {
              "color": "white"
             }
            },
            "header": {
             "fill": {
              "color": "#C8D4E3"
             },
             "line": {
              "color": "white"
             }
            },
            "type": "table"
           }
          ]
         },
         "layout": {
          "annotationdefaults": {
           "arrowcolor": "#2a3f5f",
           "arrowhead": 0,
           "arrowwidth": 1
          },
          "autotypenumbers": "strict",
          "coloraxis": {
           "colorbar": {
            "outlinewidth": 0,
            "ticks": ""
           }
          },
          "colorscale": {
           "diverging": [
            [
             0,
             "#8e0152"
            ],
            [
             0.1,
             "#c51b7d"
            ],
            [
             0.2,
             "#de77ae"
            ],
            [
             0.3,
             "#f1b6da"
            ],
            [
             0.4,
             "#fde0ef"
            ],
            [
             0.5,
             "#f7f7f7"
            ],
            [
             0.6,
             "#e6f5d0"
            ],
            [
             0.7,
             "#b8e186"
            ],
            [
             0.8,
             "#7fbc41"
            ],
            [
             0.9,
             "#4d9221"
            ],
            [
             1,
             "#276419"
            ]
           ],
           "sequential": [
            [
             0,
             "#0d0887"
            ],
            [
             0.1111111111111111,
             "#46039f"
            ],
            [
             0.2222222222222222,
             "#7201a8"
            ],
            [
             0.3333333333333333,
             "#9c179e"
            ],
            [
             0.4444444444444444,
             "#bd3786"
            ],
            [
             0.5555555555555556,
             "#d8576b"
            ],
            [
             0.6666666666666666,
             "#ed7953"
            ],
            [
             0.7777777777777778,
             "#fb9f3a"
            ],
            [
             0.8888888888888888,
             "#fdca26"
            ],
            [
             1,
             "#f0f921"
            ]
           ],
           "sequentialminus": [
            [
             0,
             "#0d0887"
            ],
            [
             0.1111111111111111,
             "#46039f"
            ],
            [
             0.2222222222222222,
             "#7201a8"
            ],
            [
             0.3333333333333333,
             "#9c179e"
            ],
            [
             0.4444444444444444,
             "#bd3786"
            ],
            [
             0.5555555555555556,
             "#d8576b"
            ],
            [
             0.6666666666666666,
             "#ed7953"
            ],
            [
             0.7777777777777778,
             "#fb9f3a"
            ],
            [
             0.8888888888888888,
             "#fdca26"
            ],
            [
             1,
             "#f0f921"
            ]
           ]
          },
          "colorway": [
           "#636efa",
           "#EF553B",
           "#00cc96",
           "#ab63fa",
           "#FFA15A",
           "#19d3f3",
           "#FF6692",
           "#B6E880",
           "#FF97FF",
           "#FECB52"
          ],
          "font": {
           "color": "#2a3f5f"
          },
          "geo": {
           "bgcolor": "white",
           "lakecolor": "white",
           "landcolor": "#E5ECF6",
           "showlakes": true,
           "showland": true,
           "subunitcolor": "white"
          },
          "hoverlabel": {
           "align": "left"
          },
          "hovermode": "closest",
          "mapbox": {
           "style": "light"
          },
          "paper_bgcolor": "white",
          "plot_bgcolor": "#E5ECF6",
          "polar": {
           "angularaxis": {
            "gridcolor": "white",
            "linecolor": "white",
            "ticks": ""
           },
           "bgcolor": "#E5ECF6",
           "radialaxis": {
            "gridcolor": "white",
            "linecolor": "white",
            "ticks": ""
           }
          },
          "scene": {
           "xaxis": {
            "backgroundcolor": "#E5ECF6",
            "gridcolor": "white",
            "gridwidth": 2,
            "linecolor": "white",
            "showbackground": true,
            "ticks": "",
            "zerolinecolor": "white"
           },
           "yaxis": {
            "backgroundcolor": "#E5ECF6",
            "gridcolor": "white",
            "gridwidth": 2,
            "linecolor": "white",
            "showbackground": true,
            "ticks": "",
            "zerolinecolor": "white"
           },
           "zaxis": {
            "backgroundcolor": "#E5ECF6",
            "gridcolor": "white",
            "gridwidth": 2,
            "linecolor": "white",
            "showbackground": true,
            "ticks": "",
            "zerolinecolor": "white"
           }
          },
          "shapedefaults": {
           "line": {
            "color": "#2a3f5f"
           }
          },
          "ternary": {
           "aaxis": {
            "gridcolor": "white",
            "linecolor": "white",
            "ticks": ""
           },
           "baxis": {
            "gridcolor": "white",
            "linecolor": "white",
            "ticks": ""
           },
           "bgcolor": "#E5ECF6",
           "caxis": {
            "gridcolor": "white",
            "linecolor": "white",
            "ticks": ""
           }
          },
          "title": {
           "x": 0.05
          },
          "xaxis": {
           "automargin": true,
           "gridcolor": "white",
           "linecolor": "white",
           "ticks": "",
           "title": {
            "standoff": 15
           },
           "zerolinecolor": "white",
           "zerolinewidth": 2
          },
          "yaxis": {
           "automargin": true,
           "gridcolor": "white",
           "linecolor": "white",
           "ticks": "",
           "title": {
            "standoff": 15
           },
           "zerolinecolor": "white",
           "zerolinewidth": 2
          }
         }
        },
        "xaxis": {
         "autorange": true,
         "range": [
          17.209999084472656,
          18.299999237060547
         ],
         "type": "linear"
        },
        "yaxis": {
         "autorange": true,
         "range": [
          12.820555369059244,
          15.409444173177084
         ],
         "type": "linear"
        }
       }
      },
      "image/png": "[encoded data removed]",
      "text/html": [
       "<div>                            <div id=\"9699c930-be8f-4ac6-a279-721038beef57\" class=\"plotly-graph-div\" style=\"height:500px; width:100%;\"></div>            <script type=\"text/javascript\">                require([\"plotly\"], function(Plotly) {                    window.PLOTLYENV=window.PLOTLYENV || {};                                    if (document.getElementById(\"9699c930-be8f-4ac6-a279-721038beef57\")) {                    Plotly.newPlot(                        \"9699c930-be8f-4ac6-a279-721038beef57\",                        [{\"mode\":\"lines\",\"name\":\"lines\",\"text\":[\"2023-03-08T00:00:00\",\"2023-03-08T00:30:00\",\"2023-03-08T01:00:00\",\"2023-03-08T01:30:00\",\"2023-03-08T02:00:00\",\"2023-03-08T02:30:00\",\"2023-03-08T03:00:00\",\"2023-03-08T03:30:00\",\"2023-03-08T04:00:00\",\"2023-03-08T04:30:00\",\"2023-03-08T05:00:00\",\"2023-03-08T05:30:00\",\"2023-03-08T06:00:00\",\"2023-03-08T06:30:00\",\"2023-03-08T07:00:00\",\"2023-03-08T07:30:00\",\"2023-03-08T08:00:00\",\"2023-03-08T08:30:00\",\"2023-03-08T09:00:00\",\"2023-03-08T09:30:00\",\"2023-03-08T10:00:00\",\"2023-03-08T10:30:00\",\"2023-03-08T11:00:00\",\"2023-03-08T11:30:00\",\"2023-03-08T12:00:00\",\"2023-03-08T12:30:00\",\"2023-03-08T13:00:00\",\"2023-03-08T13:30:00\",\"2023-03-08T14:00:00\",\"2023-03-08T14:30:00\",\"2023-03-08T15:00:00\",\"2023-03-08T15:30:00\",\"2023-03-08T16:00:00\",\"2023-03-08T16:30:00\",\"2023-03-08T17:00:00\",\"2023-03-08T17:30:00\",\"2023-03-08T18:00:00\",\"2023-03-08T18:30:00\",\"2023-03-08T19:00:00\",\"2023-03-08T19:30:00\",\"2023-03-08T20:00:00\",\"2023-03-08T20:30:00\",\"2023-03-08T21:00:00\",\"2023-03-08T21:30:00\",\"2023-03-08T22:00:00\",\"2023-03-08T22:30:00\",\"2023-03-08T23:00:00\",\"2023-03-08T23:30:00\",\"2023-03-09T00:00:00\",\"2023-03-09T00:30:00\",\"2023-03-09T01:00:00\",\"2023-03-09T01:30:00\",\"2023-03-09T02:00:00\",\"2023-03-09T02:30:00\",\"2023-03-09T03:00:00\",\"2023-03-09T03:30:00\",\"2023-03-09T04:00:00\",\"2023-03-09T04:30:00\",\"2023-03-09T05:00:00\",\"2023-03-09T05:30:00\",\"2023-03-09T06:00:00\",\"2023-03-09T06:30:00\",\"2023-03-09T07:00:00\",\"2023-03-09T07:30:00\",\"2023-03-09T08:00:00\",\"2023-03-09T08:30:00\",\"2023-03-09T09:00:00\",\"2023-03-09T09:30:00\",\"2023-03-09T10:00:00\",\"2023-03-09T10:30:00\",\"2023-03-09T11:00:00\",\"2023-03-09T11:30:00\",\"2023-03-09T12:00:00\",\"2023-03-09T12:30:00\",\"2023-03-09T13:00:00\",\"2023-03-09T13:30:00\",\"2023-03-09T14:00:00\",\"2023-03-09T14:30:00\",\"2023-03-09T15:00:00\",\"2023-03-09T15:30:00\",\"2023-03-09T16:00:00\",\"2023-03-09T16:30:00\",\"2023-03-09T17:00:00\",\"2023-03-09T17:30:00\",\"2023-03-09T18:00:00\",\"2023-03-09T18:30:00\",\"2023-03-09T19:00:00\",\"2023-03-09T19:30:00\",\"2023-03-09T20:00:00\",\"2023-03-09T20:30:00\",\"2023-03-09T21:00:00\",\"2023-03-09T21:30:00\",\"2023-03-09T22:00:00\",\"2023-03-09T22:30:00\",\"2023-03-09T23:00:00\",\"2023-03-09T23:30:00\"],\"x\":[17.34000015258789,17.350000381469727,17.270000457763672,17.239999771118164,17.290000915527344,17.34000015258789,17.329999923706055,17.25,17.209999084472656,17.209999084472656,17.239999771118164,17.209999084472656,17.219999313354492,17.290000915527344,17.290000915527344,17.31999969482422,17.31999969482422,17.260000228881836,17.31999969482422,17.360000610351562,17.329999923706055,17.31999969482422,17.360000610351562,17.420000076293945,17.450000762939453,17.450000762939453,17.399999618530273,17.360000610351562,17.350000381469727,17.350000381469727,17.299999237060547,17.350000381469727,17.360000610351562,17.329999923706055,17.290000915527344,17.299999237060547,17.329999923706055,17.3700008392334,17.43000030517578,17.600000381469727,17.829999923706055,17.920000076293945,18.049999237060547,18.139999389648438,18.1299991607666,18.149999618530273,18.190000534057617,18.260000228881836,18.229999542236328,18.190000534057617,18.190000534057617,18.170000076293945,18.15999984741211,18.15999984741211,18.18000030517578,18.25,18.299999237060547,18.280000686645508,18.239999771118164,18.229999542236328,18.219999313354492,18.200000762939453,18.209999084472656,18.209999084472656,18.170000076293945,18.1200008392334,18.110000610351562,18.1299991607666,18.100000381469727,18.06999969482422,18.049999237060547,18.049999237060547,18.040000915527344,17.959999084472656,17.979999542236328,17.950000762939453,18.0,17.8799991607666,17.860000610351562,17.84000015258789,17.790000915527344,17.770000457763672,17.799999237060547,17.860000610351562,17.899999618530273,17.889999389648438,17.860000610351562,17.829999923706055,17.81999969482422,17.780000686645508,17.739999771118164,17.760000228881836,17.739999771118164,17.719999313354492,17.719999313354492,17.690000534057617],\"y\":[13.4399995803833,13.479999542236328,13.380000114440918,13.369999885559082,13.229999542236328,13.260000228881836,13.170000076293945,13.220000267028809,13.220000267028809,13.1899995803833,13.15999984741211,13.210000038146973,13.15999984741211,13.140000343322754,13.140000343322754,13.109999656677246,13.319999694824219,13.5600004196167,13.640000343322754,13.710000038146973,13.779999732971191,13.770000457763672,13.729999542236328,13.670000076293945,13.670000076293945,13.65999984741211,13.600000381469727,13.579999923706055,13.59000015258789,13.600000381469727,13.520000457763672,13.569999694824219,13.420000076293945,13.399999618530273,13.34000015258789,13.3100004196167,13.449999809265137,13.710000038146973,14.380000114440918,15.039999961853027,15.239999771118164,15.279999732971191,15.220000267028809,15.130000114440918,15.039999961853027,14.9399995803833,14.899999618530273,14.789999961853027,14.770000457763672,14.680000305175781,14.59000015258789,14.539999961853027,14.470000267028809,14.460000038146973,14.3100004196167,14.359999656677246,14.270000457763672,14.279999732971191,14.119999885559082,14.100000381469727,14.100000381469727,14.010000228881836,14.029999732971191,13.989999771118164,13.930000305175781,13.880000114440918,13.850000381469727,13.800000190734863,13.800000190734863,13.699999809265137,13.6899995803833,13.609999656677246,13.640000343322754,13.579999923706055,13.569999694824219,13.529999732971191,13.479999542236328,13.4399995803833,13.420000076293945,13.420000076293945,13.3100004196167,13.180000305175781,13.25,13.279999732971191,13.210000038146973,13.149999618530273,13.170000076293945,13.109999656677246,13.100000381469727,13.140000343322754,13.069999694824219,12.949999809265137,13.0,13.029999732971191,13.020000457763672,12.970000267028809],\"type\":\"scatter\"}],                        {\"height\":500,\"template\":{\"data\":{\"histogram2dcontour\":[{\"type\":\"histogram2dcontour\",\"colorbar\":{\"outlinewidth\":0,\"ticks\":\"\"},\"colorscale\":[[0.0,\"#0d0887\"],[0.1111111111111111,\"#46039f\"],[0.2222222222222222,\"#7201a8\"],[0.3333333333333333,\"#9c179e\"],[0.4444444444444444,\"#bd3786\"],[0.5555555555555556,\"#d8576b\"],[0.6666666666666666,\"#ed7953\"],[0.7777777777777778,\"#fb9f3a\"],[0.8888888888888888,\"#fdca26\"],[1.0,\"#f0f921\"]]}],\"choropleth\":[{\"type\":\"choropleth\",\"colorbar\":{\"outlinewidth\":0,\"ticks\":\"\"}}],\"histogram2d\":[{\"type\":\"histogram2d\",\"colorbar\":{\"outlinewidth\":0,\"ticks\":\"\"},\"colorscale\":[[0.0,\"#0d0887\"],[0.1111111111111111,\"#46039f\"],[0.2222222222222222,\"#7201a8\"],[0.3333333333333333,\"#9c179e\"],[0.4444444444444444,\"#bd3786\"],[0.5555555555555556,\"#d8576b\"],[0.6666666666666666,\"#ed7953\"],[0.7777777777777778,\"#fb9f3a\"],[0.8888888888888888,\"#fdca26\"],[1.0,\"#f0f921\"]]}],\"heatmap\":[{\"type\":\"heatmap\",\"colorbar\":{\"outlinewidth\":0,\"ticks\":\"\"},\"colorscale\":[[0.0,\"#0d0887\"],[0.1111111111111111,\"#46039f\"],[0.2222222222222222,\"#7201a8\"],[0.3333333333333333,\"#9c179e\"],[0.4444444444444444,\"#bd3786\"],[0.5555555555555556,\"#d8576b\"],[0.6666666666666666,\"#ed7953\"],[0.7777777777777778,\"#fb9f3a\"],[0.8888888888888888,\"#fdca26\"],[1.0,\"#f0f921\"]]}],\"heatmapgl\":[{\"type\":\"heatmapgl\",\"colorbar\":{\"outlinewidth\":0,\"ticks\":\"\"},\"colorscale\":[[0.0,\"#0d0887\"],[0.1111111111111111,\"#46039f\"],[0.2222222222222222,\"#7201a8\"],[0.3333333333333333,\"#9c179e\"],[0.4444444444444444,\"#bd3786\"],[0.5555555555555556,\"#d8576b\"],[0.6666666666666666,\"#ed7953\"],[0.7777777777777778,\"#fb9f3a\"],[0.8888888888888888,\"#fdca26\"],[1.0,\"#f0f921\"]]}],\"contourcarpet\":[{\"type\":\"contourcarpet\",\"colorbar\":{\"outlinewidth\":0,\"ticks\":\"\"}}],\"contour\":[{\"type\":\"contour\",\"colorbar\":{\"outlinewidth\":0,\"ticks\":\"\"},\"colorscale\":[[0.0,\"#0d0887\"],[0.1111111111111111,\"#46039f\"],[0.2222222222222222,\"#7201a8\"],[0.3333333333333333,\"#9c179e\"],[0.4444444444444444,\"#bd3786\"],[0.5555555555555556,\"#d8576b\"],[0.6666666666666666,\"#ed7953\"],[0.7777777777777778,\"#fb9f3a\"],[0.8888888888888888,\"#fdca26\"],[1.0,\"#f0f921\"]]}],\"surface\":[{\"type\":\"surface\",\"colorbar\":{\"outlinewidth\":0,\"ticks\":\"\"},\"colorscale\":[[0.0,\"#0d0887\"],[0.1111111111111111,\"#46039f\"],[0.2222222222222222,\"#7201a8\"],[0.3333333333333333,\"#9c179e\"],[0.4444444444444444,\"#bd3786\"],[0.5555555555555556,\"#d8576b\"],[0.6666666666666666,\"#ed7953\"],[0.7777777777777778,\"#fb9f3a\"],[0.8888888888888888,\"#fdca26\"],[1.0,\"#f0f921\"]]}],\"mesh3d\":[{\"type\":\"mesh3d\",\"colorbar\":{\"outlinewidth\":0,\"ticks\":\"\"}}],\"scatter\":[{\"fillpattern\":{\"fillmode\":\"overlay\",\"size\":10,\"solidity\":0.2},\"type\":\"scatter\"}],\"parcoords\":[{\"type\":\"parcoords\",\"line\":{\"colorbar\":{\"outlinewidth\":0,\"ticks\":\"\"}}}],\"scatterpolargl\":[{\"type\":\"scatterpolargl\",\"marker\":{\"colorbar\":{\"outlinewidth\":0,\"ticks\":\"\"}}}],\"bar\":[{\"error_x\":{\"color\":\"#2a3f5f\"},\"error_y\":{\"color\":\"#2a3f5f\"},\"marker\":{\"line\":{\"color\":\"#E5ECF6\",\"width\":0.5},\"pattern\":{\"fillmode\":\"overlay\",\"size\":10,\"solidity\":0.2}},\"type\":\"bar\"}],\"scattergeo\":[{\"type\":\"scattergeo\",\"marker\":{\"colorbar\":{\"outlinewidth\":0,\"ticks\":\"\"}}}],\"scatterpolar\":[{\"type\":\"scatterpolar\",\"marker\":{\"colorbar\":{\"outlinewidth\":0,\"ticks\":\"\"}}}],\"histogram\":[{\"marker\":{\"pattern\":{\"fillmode\":\"overlay\",\"size\":10,\"solidity\":0.2}},\"type\":\"histogram\"}],\"scattergl\":[{\"type\":\"scattergl\",\"marker\":{\"colorbar\":{\"outlinewidth\":0,\"ticks\":\"\"}}}],\"scatter3d\":[{\"type\":\"scatter3d\",\"line\":{\"colorbar\":{\"outlinewidth\":0,\"ticks\":\"\"}},\"marker\":{\"colorbar\":{\"outlinewidth\":0,\"ticks\":\"\"}}}],\"scattermapbox\":[{\"type\":\"scattermapbox\",\"marker\":{\"colorbar\":{\"outlinewidth\":0,\"ticks\":\"\"}}}],\"scatterternary\":[{\"type\":\"scatterternary\",\"marker\":{\"colorbar\":{\"outlinewidth\":0,\"ticks\":\"\"}}}],\"scattercarpet\":[{\"type\":\"scattercarpet\",\"marker\":{\"colorbar\":{\"outlinewidth\":0,\"ticks\":\"\"}}}],\"carpet\":[{\"aaxis\":{\"endlinecolor\":\"#2a3f5f\",\"gridcolor\":\"white\",\"linecolor\":\"white\",\"minorgridcolor\":\"white\",\"startlinecolor\":\"#2a3f5f\"},\"baxis\":{\"endlinecolor\":\"#2a3f5f\",\"gridcolor\":\"white\",\"linecolor\":\"white\",\"minorgridcolor\":\"white\",\"startlinecolor\":\"#2a3f5f\"},\"type\":\"carpet\"}],\"table\":[{\"cells\":{\"fill\":{\"color\":\"#EBF0F8\"},\"line\":{\"color\":\"white\"}},\"header\":{\"fill\":{\"color\":\"#C8D4E3\"},\"line\":{\"color\":\"white\"}},\"type\":\"table\"}],\"barpolar\":[{\"marker\":{\"line\":{\"color\":\"#E5ECF6\",\"width\":0.5},\"pattern\":{\"fillmode\":\"overlay\",\"size\":10,\"solidity\":0.2}},\"type\":\"barpolar\"}],\"pie\":[{\"automargin\":true,\"type\":\"pie\"}]},\"layout\":{\"autotypenumbers\":\"strict\",\"colorway\":[\"#636efa\",\"#EF553B\",\"#00cc96\",\"#ab63fa\",\"#FFA15A\",\"#19d3f3\",\"#FF6692\",\"#B6E880\",\"#FF97FF\",\"#FECB52\"],\"font\":{\"color\":\"#2a3f5f\"},\"hovermode\":\"closest\",\"hoverlabel\":{\"align\":\"left\"},\"paper_bgcolor\":\"white\",\"plot_bgcolor\":\"#E5ECF6\",\"polar\":{\"bgcolor\":\"#E5ECF6\",\"angularaxis\":{\"gridcolor\":\"white\",\"linecolor\":\"white\",\"ticks\":\"\"},\"radialaxis\":{\"gridcolor\":\"white\",\"linecolor\":\"white\",\"ticks\":\"\"}},\"ternary\":{\"bgcolor\":\"#E5ECF6\",\"aaxis\":{\"gridcolor\":\"white\",\"linecolor\":\"white\",\"ticks\":\"\"},\"baxis\":{\"gridcolor\":\"white\",\"linecolor\":\"white\",\"ticks\":\"\"},\"caxis\":{\"gridcolor\":\"white\",\"linecolor\":\"white\",\"ticks\":\"\"}},\"coloraxis\":{\"colorbar\":{\"outlinewidth\":0,\"ticks\":\"\"}},\"colorscale\":{\"sequential\":[[0.0,\"#0d0887\"],[0.1111111111111111,\"#46039f\"],[0.2222222222222222,\"#7201a8\"],[0.3333333333333333,\"#9c179e\"],[0.4444444444444444,\"#bd3786\"],[0.5555555555555556,\"#d8576b\"],[0.6666666666666666,\"#ed7953\"],[0.7777777777777778,\"#fb9f3a\"],[0.8888888888888888,\"#fdca26\"],[1.0,\"#f0f921\"]],\"sequentialminus\":[[0.0,\"#0d0887\"],[0.1111111111111111,\"#46039f\"],[0.2222222222222222,\"#7201a8\"],[0.3333333333333333,\"#9c179e\"],[0.4444444444444444,\"#bd3786\"],[0.5555555555555556,\"#d8576b\"],[0.6666666666666666,\"#ed7953\"],[0.7777777777777778,\"#fb9f3a\"],[0.8888888888888888,\"#fdca26\"],[1.0,\"#f0f921\"]],\"diverging\":[[0,\"#8e0152\"],[0.1,\"#c51b7d\"],[0.2,\"#de77ae\"],[0.3,\"#f1b6da\"],[0.4,\"#fde0ef\"],[0.5,\"#f7f7f7\"],[0.6,\"#e6f5d0\"],[0.7,\"#b8e186\"],[0.8,\"#7fbc41\"],[0.9,\"#4d9221\"],[1,\"#276419\"]]},\"xaxis\":{\"gridcolor\":\"white\",\"linecolor\":\"white\",\"ticks\":\"\",\"title\":{\"standoff\":15},\"zerolinecolor\":\"white\",\"automargin\":true,\"zerolinewidth\":2},\"yaxis\":{\"gridcolor\":\"white\",\"linecolor\":\"white\",\"ticks\":\"\",\"title\":{\"standoff\":15},\"zerolinecolor\":\"white\",\"automargin\":true,\"zerolinewidth\":2},\"scene\":{\"xaxis\":{\"backgroundcolor\":\"#E5ECF6\",\"gridcolor\":\"white\",\"linecolor\":\"white\",\"showbackground\":true,\"ticks\":\"\",\"zerolinecolor\":\"white\",\"gridwidth\":2},\"yaxis\":{\"backgroundcolor\":\"#E5ECF6\",\"gridcolor\":\"white\",\"linecolor\":\"white\",\"showbackground\":true,\"ticks\":\"\",\"zerolinecolor\":\"white\",\"gridwidth\":2},\"zaxis\":{\"backgroundcolor\":\"#E5ECF6\",\"gridcolor\":\"white\",\"linecolor\":\"white\",\"showbackground\":true,\"ticks\":\"\",\"zerolinecolor\":\"white\",\"gridwidth\":2}},\"shapedefaults\":{\"line\":{\"color\":\"#2a3f5f\"}},\"annotationdefaults\":{\"arrowcolor\":\"#2a3f5f\",\"arrowhead\":0,\"arrowwidth\":1},\"geo\":{\"bgcolor\":\"white\",\"landcolor\":\"#E5ECF6\",\"subunitcolor\":\"white\",\"showland\":true,\"showlakes\":true,\"lakecolor\":\"white\"},\"title\":{\"x\":0.05},\"mapbox\":{\"style\":\"light\"}}}},                        {\"responsive\": true}                    ).then(function(){\n",
       "                            \n",
       "var gd = document.getElementById('9699c930-be8f-4ac6-a279-721038beef57');\n",
       "var x = new MutationObserver(function (mutations, observer) {{\n",
       "        var display = window.getComputedStyle(gd).display;\n",
       "        if (!display || display === 'none') {{\n",
       "            console.log([gd, 'removed!']);\n",
       "            Plotly.purge(gd);\n",
       "            observer.disconnect();\n",
       "        }}\n",
       "}});\n",
       "\n",
       "// Listen for the removal of the full notebook cells\n",
       "var notebookContainer = gd.closest('#notebook-container');\n",
       "if (notebookContainer) {{\n",
       "    x.observe(notebookContainer, {childList: true});\n",
       "}}\n",
       "\n",
       "// Listen for the clearing of the current output cell\n",
       "var outputEl = gd.closest('.output');\n",
       "if (outputEl) {{\n",
       "    x.observe(outputEl, {childList: true});\n",
       "}}\n",
       "\n",
       "                        })                };                });            </script>        </div>"
      ]
     },
     "metadata": {},
     "output_type": "display_data"
    },
    {
     "data": {
      "text/html": [
       "<div>\n",
       "<style scoped>\n",
       "    .dataframe tbody tr th:only-of-type {\n",
       "        vertical-align: middle;\n",
       "    }\n",
       "\n",
       "    .dataframe tbody tr th {\n",
       "        vertical-align: top;\n",
       "    }\n",
       "\n",
       "    .dataframe thead th {\n",
       "        text-align: right;\n",
       "    }\n",
       "</style>\n",
       "<table border=\"1\" class=\"dataframe\">\n",
       "  <thead>\n",
       "    <tr style=\"text-align: right;\">\n",
       "      <th></th>\n",
       "      <th>year</th>\n",
       "      <th>lifeExp</th>\n",
       "      <th>pop</th>\n",
       "      <th>gdpPercap</th>\n",
       "      <th>iso_num</th>\n",
       "    </tr>\n",
       "  </thead>\n",
       "  <tbody>\n",
       "    <tr>\n",
       "      <th>year</th>\n",
       "      <td>1.000000e+00</td>\n",
       "      <td>0.976764</td>\n",
       "      <td>0.342983</td>\n",
       "      <td>0.925550</td>\n",
       "      <td>-6.340790e-15</td>\n",
       "    </tr>\n",
       "    <tr>\n",
       "      <th>lifeExp</th>\n",
       "      <td>9.767640e-01</td>\n",
       "      <td>1.000000</td>\n",
       "      <td>0.436237</td>\n",
       "      <td>0.956474</td>\n",
       "      <td>-9.061787e-02</td>\n",
       "    </tr>\n",
       "    <tr>\n",
       "      <th>pop</th>\n",
       "      <td>3.429828e-01</td>\n",
       "      <td>0.436237</td>\n",
       "      <td>1.000000</td>\n",
       "      <td>0.578223</td>\n",
       "      <td>-9.066292e-01</td>\n",
       "    </tr>\n",
       "    <tr>\n",
       "      <th>gdpPercap</th>\n",
       "      <td>9.255503e-01</td>\n",
       "      <td>0.956474</td>\n",
       "      <td>0.578223</td>\n",
       "      <td>1.000000</td>\n",
       "      <td>-2.183077e-01</td>\n",
       "    </tr>\n",
       "    <tr>\n",
       "      <th>iso_num</th>\n",
       "      <td>-6.340790e-15</td>\n",
       "      <td>-0.090618</td>\n",
       "      <td>-0.906629</td>\n",
       "      <td>-0.218308</td>\n",
       "      <td>1.000000e+00</td>\n",
       "    </tr>\n",
       "  </tbody>\n",
       "</table>\n",
       "</div>"
      ],
      "text/plain": [
       "                   year   lifeExp       pop  gdpPercap       iso_num\n",
       "year       1.000000e+00  0.976764  0.342983   0.925550 -6.340790e-15\n",
       "lifeExp    9.767640e-01  1.000000  0.436237   0.956474 -9.061787e-02\n",
       "pop        3.429828e-01  0.436237  1.000000   0.578223 -9.066292e-01\n",
       "gdpPercap  9.255503e-01  0.956474  0.578223   1.000000 -2.183077e-01\n",
       "iso_num   -6.340790e-15 -0.090618 -0.906629  -0.218308  1.000000e+00"
      ]
     },
     "execution_count": 33,
     "metadata": {},
     "output_type": "execute_result"
    }
   ],
   "source": [
    "import plotly.graph_objects as go\n",
    "import plotly.express as px\n",
    "\n",
    "\n",
    "\n",
    "# Create traces\n",
    "fig = go.Figure(layout = {'height': 500})\n",
    "\n",
    "fig.add_trace(go.Scatter(x=df3[df3.columns[1]], y=df3[df3.columns[0]], text = df3.index,\n",
    "                         mode='lines',    #'lines+markers'\n",
    "                         name='lines'))\n",
    "# fig.add_trace(go.Scatter(x=df4.index, y=df4[df4.columns[1]],\n",
    "#                     mode='lines+markers',\n",
    "#                     name='lines+markers'))\n",
    "\n",
    "fig.show()\n",
    "df.columns[0]\n",
    "df.corr()"
   ]
  },
  {
   "cell_type": "code",
   "execution_count": 34,
   "id": "07c4e19f-30d0-49b0-8ca4-10d93e023039",
   "metadata": {
    "tags": []
   },
   "outputs": [
    {
     "ename": "ModuleNotFoundError",
     "evalue": "No module named 'dash'",
     "output_type": "error",
     "traceback": [
      "\u001b[1;31m---------------------------------------------------------------------------\u001b[0m",
      "\u001b[1;31mModuleNotFoundError\u001b[0m                       Traceback (most recent call last)",
      "Cell \u001b[1;32mIn [34], line 1\u001b[0m\n\u001b[1;32m----> 1\u001b[0m \u001b[38;5;28;01mfrom\u001b[39;00m \u001b[38;5;21;01mdash\u001b[39;00m \u001b[38;5;28;01mimport\u001b[39;00m Dash, dcc, html, Input, Output\n\u001b[0;32m      2\u001b[0m \u001b[38;5;28;01mimport\u001b[39;00m \u001b[38;5;21;01mplotly\u001b[39;00m\u001b[38;5;21;01m.\u001b[39;00m\u001b[38;5;21;01mexpress\u001b[39;00m \u001b[38;5;28;01mas\u001b[39;00m \u001b[38;5;21;01mpx\u001b[39;00m\n\u001b[0;32m      4\u001b[0m app \u001b[38;5;241m=\u001b[39m Dash(\u001b[38;5;18m__name__\u001b[39m)\n",
      "\u001b[1;31mModuleNotFoundError\u001b[0m: No module named 'dash'"
     ]
    }
   ],
   "source": [
    "from dash import Dash, dcc, html, Input, Output\n",
    "import plotly.express as px\n",
    "\n",
    "app = Dash(__name__)\n",
    "\n",
    "\n",
    "app.layout = html.Div([\n",
    "    html.H4('Life expentancy progression of countries per continents'),\n",
    "    dcc.Graph(id=\"graph\"),\n",
    "    dcc.Checklist(\n",
    "        id=\"checklist\",\n",
    "        options=[\"Asia\", \"Europe\", \"Africa\",\"Americas\",\"Oceania\"],\n",
    "        value=[\"Americas\", \"Oceania\"],\n",
    "        inline=True\n",
    "    ),\n",
    "])\n",
    "\n",
    "\n",
    "@app.callback(\n",
    "    Output(\"graph\", \"figure\"), \n",
    "    Input(\"checklist\", \"value\"))\n",
    "def update_line_chart(continents):\n",
    "    df = px.data.gapminder() # replace with your own data source\n",
    "    mask = df.continent.isin(continents)\n",
    "    fig = px.line(df[mask], \n",
    "        x=\"year\", y=\"lifeExp\", color='country')\n",
    "    return fig\n",
    "\n",
    "xxxx = 99\n",
    "app.run()\n",
    "\n"
   ]
  },
  {
   "cell_type": "code",
   "execution_count": null,
   "id": "6fc479fb-b369-45c0-8d3d-cf949ec90de7",
   "metadata": {
    "tags": []
   },
   "outputs": [],
   "source": [
    "\n"
   ]
  },
  {
   "cell_type": "code",
   "execution_count": null,
   "id": "b28a77e6-d7dd-4f1f-bb98-6a750fc9279a",
   "metadata": {},
   "outputs": [],
   "source": []
  },
  {
   "cell_type": "code",
   "execution_count": null,
   "id": "64df5a3d-83b7-4d31-a5c2-e903c7b6cd6b",
   "metadata": {},
   "outputs": [],
   "source": []
  },
  {
   "cell_type": "code",
   "execution_count": 36,
   "id": "06352032-ae73-4a76-bb75-10f6f83026be",
   "metadata": {},
   "outputs": [
    {
     "data": {
      "application/vnd.jupyter.widget-view+json": {
       "model_id": "5261b5adda1f49be85b84a9a278c74e8",
       "version_major": 2,
       "version_minor": 0
      },
      "text/plain": [
       "HBox(children=(HBox(children=(VBox(children=(HTML(value='<b>Col1</b>'), HTML(value='hello'), HTML(value='goodb…"
      ]
     },
     "metadata": {},
     "output_type": "display_data"
    }
   ],
   "source": [
    "import ipywidgets as widgets\n",
    "from IPython.display import display\n",
    "\n",
    "def func(btn):\n",
    "    with out:\n",
    "        print('Hi!')\n",
    "\n",
    "btn1 = widgets.Button(description=\"Click me!\")\n",
    "btn1.on_click(func)\n",
    "btn2 = widgets.Button(description=\"Click me!\")\n",
    "btn2.on_click(func)\n",
    "\n",
    "# This is where you fill your table\n",
    "cols = [\n",
    "    # Each tuple contains a column header and a list of items/widgets\n",
    "    ('Col1', ['hello', 'goodbye']),\n",
    "    ('Col2', ['world', 'universe']),\n",
    "    ('Buttons', [btn1, btn2]),\n",
    "]\n",
    "\n",
    "vboxes = []\n",
    "for header, data in cols:\n",
    "    vboxes.append(widgets.VBox([widgets.HTML('<b>%s</b>' % header)] + [\n",
    "        d if isinstance(d, widgets.Widget) else widgets.HTML(str(d)) for d in data],\n",
    "    layout=widgets.Layout(border='1px solid')))\n",
    "\n",
    "out = widgets.Output()\n",
    "hbox = widgets.HBox(vboxes)\n",
    "\n",
    "display(widgets.HBox([hbox,out]))\n"
   ]
  },
  {
   "cell_type": "code",
   "execution_count": 37,
   "id": "712229aa-973d-46c3-bbbc-187df6fffec5",
   "metadata": {},
   "outputs": [
    {
     "data": {
      "application/vnd.jupyter.widget-view+json": {
       "model_id": "5d2d5b007b8949d5b9cfe5c7cebe0853",
       "version_major": 2,
       "version_minor": 0
      },
      "text/plain": [
       "Button(description='Click me!', style=ButtonStyle())"
      ]
     },
     "metadata": {},
     "output_type": "display_data"
    },
    {
     "data": {
      "application/vnd.jupyter.widget-view+json": {
       "model_id": "6bf2a6b4628c46cd912300f499d653d8",
       "version_major": 2,
       "version_minor": 0
      },
      "text/plain": [
       "Button(description='Click me!', style=ButtonStyle())"
      ]
     },
     "metadata": {},
     "output_type": "display_data"
    },
    {
     "data": {
      "text/html": [
       "<table><tr><td>Something here</td><td>Button 1 here</td></tr><tr><td>Something here</td><td>Button 2 here</td></tr></table>"
      ],
      "text/plain": [
       "<IPython.core.display.HTML object>"
      ]
     },
     "metadata": {},
     "output_type": "display_data"
    }
   ],
   "source": [
    "import ipywidgets\n",
    "from IPython.display import display\n",
    "\n",
    "from IPython.core.display import HTML\n",
    "\n",
    "def func(btn):\n",
    "    print('Hi!')\n",
    "\n",
    "btn1 = ipywidgets.Button(description=\"Click me!\")\n",
    "btn1.on_click(func)\n",
    "btn2 = ipywidgets.Button(description=\"Click me!\")\n",
    "btn2.on_click(func)\n",
    "display(btn1)\n",
    "display(btn2)\n",
    "\n",
    "display(HTML(\n",
    "        '<table>' +\n",
    "        '<tr><td>Something here</td><td>Button 1 here</td></tr>' +\n",
    "        '<tr><td>Something here</td><td>Button 2 here</td></tr>' +\n",
    "        '</table>'\n",
    "    ))"
   ]
  },
  {
   "cell_type": "code",
   "execution_count": 38,
   "id": "bc100e78",
   "metadata": {},
   "outputs": [
    {
     "ename": "ModuleNotFoundError",
     "evalue": "No module named 'pi'",
     "output_type": "error",
     "traceback": [
      "\u001b[1;31m---------------------------------------------------------------------------\u001b[0m",
      "\u001b[1;31mModuleNotFoundError\u001b[0m                       Traceback (most recent call last)",
      "Cell \u001b[1;32mIn [38], line 8\u001b[0m\n\u001b[0;32m      6\u001b[0m \u001b[38;5;28;01mfrom\u001b[39;00m \u001b[38;5;21;01meco_tool\u001b[39;00m \u001b[38;5;28;01mimport\u001b[39;00m icos_data\n\u001b[0;32m      7\u001b[0m \u001b[38;5;28;01mfrom\u001b[39;00m \u001b[38;5;21;01meco_tool\u001b[39;00m \u001b[38;5;28;01mimport\u001b[39;00m icos2latex\n\u001b[1;32m----> 8\u001b[0m \u001b[38;5;28;01mfrom\u001b[39;00m \u001b[38;5;21;01mpi\u001b[39;00m\u001b[38;5;21;01m.\u001b[39;00m\u001b[38;5;21;01micos_timeseries\u001b[39;00m \u001b[38;5;28;01mimport\u001b[39;00m IcosFrame\n\u001b[0;32m     11\u001b[0m s \u001b[38;5;241m=\u001b[39m icos_data\u001b[38;5;241m.\u001b[39mStationData(theme\u001b[38;5;241m=\u001b[39m\u001b[38;5;124m'\u001b[39m\u001b[38;5;124mES\u001b[39m\u001b[38;5;124m'\u001b[39m)\n\u001b[0;32m     12\u001b[0m st_df \u001b[38;5;241m=\u001b[39m s\u001b[38;5;241m.\u001b[39mstations_df\n",
      "\u001b[1;31mModuleNotFoundError\u001b[0m: No module named 'pi'"
     ]
    }
   ],
   "source": [
    "import warnings \n",
    "warnings.simplefilter(\"ignore\", FutureWarning)\n",
    "import pandas as pd\n",
    "from icoscp.cpb.dobj import Dobj\n",
    "\n",
    "from eco_tool import icos_data\n",
    "from eco_tool import icos2latex\n",
    "from pi.icos_timeseries import IcosFrame\n",
    "\n",
    "\n",
    "s = icos_data.StationData(theme='ES')\n",
    "st_df = s.stations_df\n",
    "df = st_df\n",
    "def set_station_drop():\n",
    "    \n",
    "    id_ls = list(st_df.id)\n",
    "    name_ls = list(st_df.name)\n",
    "    name_id_ls = list(set(zip(name_ls, id_ls)))\n",
    "    name_id_ls.sort(key=lambda v: v[0].lower())\n",
    "    stn_label_ls = [f'{n} ({i})' for n, i in name_id_ls]\n",
    "    station_ls = list(zip(stn_label_ls, name_id_ls))\n",
    "\n",
    "    # Try to use station from last added variable\n",
    "#     upd_dict = get_temp_dict()\n",
    "    stn = None\n",
    "    try:\n",
    "        stn_name = upd_dict['_var_list'][-1][-2]\n",
    "        stn_id = upd_dict['_var_list'][-1][-1]\n",
    "        stn = f'{stn_name} ({stn_id})'\n",
    "    except:\n",
    "        # This is the case for a new group\n",
    "        # try to use the last station\n",
    "        try:\n",
    "            stn_name = cache['_last_station']\n",
    "            stn_id = cache['_last_station_id']\n",
    "            stn = f'{stn_name} ({stn_id})'\n",
    "        except:\n",
    "            # This is the case if there are no groups or\n",
    "            # if the last used group was deleted\n",
    "            pass\n",
    "    finally:\n",
    "        if not stn:\n",
    "            station_ls.insert(0, ('Choose a station', 'dummy'))\n",
    "            stn = 'dummy'\n",
    "        elif station_ls[0] == ('Choose a station', 'dummy'):\n",
    "            station_ls.pop(0)\n",
    "        print('options =', station_ls)\n",
    "        print('\\nlabels =', [x[0] for x in station_ls])\n",
    "        print('\\nvalues =', [x[1] for x in station_ls])\n",
    "        print('\\nstation_drop.value =', stn)\n",
    "        \n",
    "spec_ls = list(df.specLabel)\n",
    "sh_ls = list(df.samplingheight)\n",
    "sh_label_ls = [f'({float(sh)} m)' if sh and float(sh) else ''\n",
    "               for sh in sh_ls]\n",
    "spec_label_ls = [f'{x} {y}' for x,y in zip(spec_ls,sh_label_ls)]\n",
    "\n",
    "spec_label_ls            \n",
    "st_df\n"
   ]
  },
  {
   "cell_type": "code",
   "execution_count": 39,
   "id": "d69a7b75-d228-40f4-b617-c5af81770248",
   "metadata": {},
   "outputs": [
    {
     "data": {
      "text/html": [
       "<div>\n",
       "<style scoped>\n",
       "    .dataframe tbody tr th:only-of-type {\n",
       "        vertical-align: middle;\n",
       "    }\n",
       "\n",
       "    .dataframe tbody tr th {\n",
       "        vertical-align: top;\n",
       "    }\n",
       "\n",
       "    .dataframe thead th {\n",
       "        text-align: right;\n",
       "    }\n",
       "</style>\n",
       "<table border=\"1\" class=\"dataframe\">\n",
       "  <thead>\n",
       "    <tr style=\"text-align: right;\">\n",
       "      <th></th>\n",
       "      <th>id</th>\n",
       "      <th>name</th>\n",
       "      <th>specLabel</th>\n",
       "      <th>samplingheight</th>\n",
       "      <th>dobj</th>\n",
       "      <th>timeStart</th>\n",
       "      <th>timeEnd</th>\n",
       "    </tr>\n",
       "  </thead>\n",
       "  <tbody>\n",
       "  </tbody>\n",
       "</table>\n",
       "</div>"
      ],
      "text/plain": [
       "Empty DataFrame\n",
       "Columns: [id, name, specLabel, samplingheight, dobj, timeStart, timeEnd]\n",
       "Index: []"
      ]
     },
     "execution_count": 39,
     "metadata": {},
     "output_type": "execute_result"
    }
   ],
   "source": [
    "\n",
    "st_df2 = st_df.loc[(st_df.id =='HTM')] # & (st_df.timeEnd == (st_df.loc[st_df.id =='BIR'])['timeEnd'].max())] \n",
    "st_df2"
   ]
  },
  {
   "cell_type": "code",
   "execution_count": 40,
   "id": "b740ac4c",
   "metadata": {},
   "outputs": [
    {
     "data": {
      "text/html": [
       "<div>\n",
       "<style scoped>\n",
       "    .dataframe tbody tr th:only-of-type {\n",
       "        vertical-align: middle;\n",
       "    }\n",
       "\n",
       "    .dataframe tbody tr th {\n",
       "        vertical-align: top;\n",
       "    }\n",
       "\n",
       "    .dataframe thead th {\n",
       "        text-align: right;\n",
       "    }\n",
       "</style>\n",
       "<table border=\"1\" class=\"dataframe\">\n",
       "  <thead>\n",
       "    <tr style=\"text-align: right;\">\n",
       "      <th></th>\n",
       "      <th>id</th>\n",
       "      <th>name</th>\n",
       "      <th>specLabel</th>\n",
       "      <th>samplingheight</th>\n",
       "      <th>dobj</th>\n",
       "      <th>timeStart</th>\n",
       "      <th>timeEnd</th>\n",
       "    </tr>\n",
       "  </thead>\n",
       "  <tbody>\n",
       "    <tr>\n",
       "      <th>0</th>\n",
       "      <td>SE-Sto</td>\n",
       "      <td>Abisko-Stordalen Palsa Bog</td>\n",
       "      <td>ETC NRT Fluxes</td>\n",
       "      <td>None</td>\n",
       "      <td>https://meta.icos-cp.eu/objects/78aRJNmA5XvQ1T...</td>\n",
       "      <td>2022-12-31T22:30:00Z</td>\n",
       "      <td>2023-10-29T23:00:00Z</td>\n",
       "    </tr>\n",
       "    <tr>\n",
       "      <th>1</th>\n",
       "      <td>SE-Sto</td>\n",
       "      <td>Abisko-Stordalen Palsa Bog</td>\n",
       "      <td>ETC NRT Meteo</td>\n",
       "      <td>None</td>\n",
       "      <td>https://meta.icos-cp.eu/objects/W0r5fI37voVUGN...</td>\n",
       "      <td>2022-12-31T22:30:00Z</td>\n",
       "      <td>2023-10-29T23:00:00Z</td>\n",
       "    </tr>\n",
       "    <tr>\n",
       "      <th>2</th>\n",
       "      <td>SE-Sto</td>\n",
       "      <td>Abisko-Stordalen Palsa Bog</td>\n",
       "      <td>ETC NRT Meteosens</td>\n",
       "      <td>None</td>\n",
       "      <td>https://meta.icos-cp.eu/objects/X1sRhrS1y27_q0...</td>\n",
       "      <td>2022-12-31T22:30:00Z</td>\n",
       "      <td>2023-10-29T23:00:00Z</td>\n",
       "    </tr>\n",
       "    <tr>\n",
       "      <th>3</th>\n",
       "      <td>UK-AMo</td>\n",
       "      <td>Auchencorth Moss</td>\n",
       "      <td>ETC NRT Fluxes</td>\n",
       "      <td>None</td>\n",
       "      <td>https://meta.icos-cp.eu/objects/GPyJ_6Q7BgMXkX...</td>\n",
       "      <td>2022-12-31T23:30:00Z</td>\n",
       "      <td>2023-11-02T00:00:00Z</td>\n",
       "    </tr>\n",
       "    <tr>\n",
       "      <th>4</th>\n",
       "      <td>UK-AMo</td>\n",
       "      <td>Auchencorth Moss</td>\n",
       "      <td>ETC NRT Meteo</td>\n",
       "      <td>None</td>\n",
       "      <td>https://meta.icos-cp.eu/objects/tnMgAeHaGpqgBL...</td>\n",
       "      <td>2022-12-31T23:30:00Z</td>\n",
       "      <td>2023-11-02T00:00:00Z</td>\n",
       "    </tr>\n",
       "    <tr>\n",
       "      <th>...</th>\n",
       "      <td>...</td>\n",
       "      <td>...</td>\n",
       "      <td>...</td>\n",
       "      <td>...</td>\n",
       "      <td>...</td>\n",
       "      <td>...</td>\n",
       "      <td>...</td>\n",
       "    </tr>\n",
       "    <tr>\n",
       "      <th>109</th>\n",
       "      <td>BE-Vie</td>\n",
       "      <td>Vielsalm</td>\n",
       "      <td>ETC NRT Meteo</td>\n",
       "      <td>None</td>\n",
       "      <td>https://meta.icos-cp.eu/objects/NrFXsn4TvohMIX...</td>\n",
       "      <td>2022-12-31T22:30:00Z</td>\n",
       "      <td>2023-11-01T23:00:00Z</td>\n",
       "    </tr>\n",
       "    <tr>\n",
       "      <th>110</th>\n",
       "      <td>BE-Vie</td>\n",
       "      <td>Vielsalm</td>\n",
       "      <td>ETC NRT Meteosens</td>\n",
       "      <td>None</td>\n",
       "      <td>https://meta.icos-cp.eu/objects/vk_eCZnQ_ull6-...</td>\n",
       "      <td>2022-12-31T22:30:00Z</td>\n",
       "      <td>2023-11-01T23:00:00Z</td>\n",
       "    </tr>\n",
       "    <tr>\n",
       "      <th>111</th>\n",
       "      <td>DK-Vng</td>\n",
       "      <td>Voulundgaard</td>\n",
       "      <td>ETC NRT Fluxes</td>\n",
       "      <td>None</td>\n",
       "      <td>https://meta.icos-cp.eu/objects/Q6bigdVteEjYx4...</td>\n",
       "      <td>2023-08-31T22:30:00Z</td>\n",
       "      <td>2023-11-01T23:00:00Z</td>\n",
       "    </tr>\n",
       "    <tr>\n",
       "      <th>112</th>\n",
       "      <td>DK-Vng</td>\n",
       "      <td>Voulundgaard</td>\n",
       "      <td>ETC NRT Meteo</td>\n",
       "      <td>None</td>\n",
       "      <td>https://meta.icos-cp.eu/objects/5hbMDpR24R3i94...</td>\n",
       "      <td>2023-08-31T22:30:00Z</td>\n",
       "      <td>2023-11-01T23:00:00Z</td>\n",
       "    </tr>\n",
       "    <tr>\n",
       "      <th>113</th>\n",
       "      <td>DK-Vng</td>\n",
       "      <td>Voulundgaard</td>\n",
       "      <td>ETC NRT Meteosens</td>\n",
       "      <td>None</td>\n",
       "      <td>https://meta.icos-cp.eu/objects/c59K-kksIi7oDI...</td>\n",
       "      <td>2023-08-31T22:30:00Z</td>\n",
       "      <td>2023-11-01T23:00:00Z</td>\n",
       "    </tr>\n",
       "  </tbody>\n",
       "</table>\n",
       "<p>114 rows × 7 columns</p>\n",
       "</div>"
      ],
      "text/plain": [
       "         id                        name          specLabel samplingheight  \\\n",
       "0    SE-Sto  Abisko-Stordalen Palsa Bog     ETC NRT Fluxes           None   \n",
       "1    SE-Sto  Abisko-Stordalen Palsa Bog      ETC NRT Meteo           None   \n",
       "2    SE-Sto  Abisko-Stordalen Palsa Bog  ETC NRT Meteosens           None   \n",
       "3    UK-AMo            Auchencorth Moss     ETC NRT Fluxes           None   \n",
       "4    UK-AMo            Auchencorth Moss      ETC NRT Meteo           None   \n",
       "..      ...                         ...                ...            ...   \n",
       "109  BE-Vie                    Vielsalm      ETC NRT Meteo           None   \n",
       "110  BE-Vie                    Vielsalm  ETC NRT Meteosens           None   \n",
       "111  DK-Vng                Voulundgaard     ETC NRT Fluxes           None   \n",
       "112  DK-Vng                Voulundgaard      ETC NRT Meteo           None   \n",
       "113  DK-Vng                Voulundgaard  ETC NRT Meteosens           None   \n",
       "\n",
       "                                                  dobj             timeStart  \\\n",
       "0    https://meta.icos-cp.eu/objects/78aRJNmA5XvQ1T...  2022-12-31T22:30:00Z   \n",
       "1    https://meta.icos-cp.eu/objects/W0r5fI37voVUGN...  2022-12-31T22:30:00Z   \n",
       "2    https://meta.icos-cp.eu/objects/X1sRhrS1y27_q0...  2022-12-31T22:30:00Z   \n",
       "3    https://meta.icos-cp.eu/objects/GPyJ_6Q7BgMXkX...  2022-12-31T23:30:00Z   \n",
       "4    https://meta.icos-cp.eu/objects/tnMgAeHaGpqgBL...  2022-12-31T23:30:00Z   \n",
       "..                                                 ...                   ...   \n",
       "109  https://meta.icos-cp.eu/objects/NrFXsn4TvohMIX...  2022-12-31T22:30:00Z   \n",
       "110  https://meta.icos-cp.eu/objects/vk_eCZnQ_ull6-...  2022-12-31T22:30:00Z   \n",
       "111  https://meta.icos-cp.eu/objects/Q6bigdVteEjYx4...  2023-08-31T22:30:00Z   \n",
       "112  https://meta.icos-cp.eu/objects/5hbMDpR24R3i94...  2023-08-31T22:30:00Z   \n",
       "113  https://meta.icos-cp.eu/objects/c59K-kksIi7oDI...  2023-08-31T22:30:00Z   \n",
       "\n",
       "                  timeEnd  \n",
       "0    2023-10-29T23:00:00Z  \n",
       "1    2023-10-29T23:00:00Z  \n",
       "2    2023-10-29T23:00:00Z  \n",
       "3    2023-11-02T00:00:00Z  \n",
       "4    2023-11-02T00:00:00Z  \n",
       "..                    ...  \n",
       "109  2023-11-01T23:00:00Z  \n",
       "110  2023-11-01T23:00:00Z  \n",
       "111  2023-11-01T23:00:00Z  \n",
       "112  2023-11-01T23:00:00Z  \n",
       "113  2023-11-01T23:00:00Z  \n",
       "\n",
       "[114 rows x 7 columns]"
      ]
     },
     "execution_count": 40,
     "metadata": {},
     "output_type": "execute_result"
    }
   ],
   "source": [
    "ls1 = ['1','2','3']\n",
    "ls2 = ['a','b','c']\n",
    "ls12 = list(zip(ls1,ls2))\n",
    "ls = [f'{a} ({b})' for a,b in ls12 ]\n",
    "ls3 = list(zip(ls,ls12))\n",
    "ls3\n",
    "\n",
    "a = 5\n",
    "f'({float(a)} m)' if a and float(a) else ''\n",
    "st_df"
   ]
  },
  {
   "cell_type": "code",
   "execution_count": 41,
   "id": "616f3bd0",
   "metadata": {},
   "outputs": [
    {
     "data": {
      "application/vnd.jupyter.widget-view+json": {
       "model_id": "7818b4e85a42431cbd0e96a50970968c",
       "version_major": 2,
       "version_minor": 0
      },
      "text/plain": [
       "DatetimePicker(value=None)"
      ]
     },
     "execution_count": 41,
     "metadata": {},
     "output_type": "execute_result"
    }
   ],
   "source": [
    "import ipywidgets as wd\n",
    "wd.DatetimePicker()"
   ]
  },
  {
   "cell_type": "code",
   "execution_count": 42,
   "id": "0f5c6f17",
   "metadata": {},
   "outputs": [
    {
     "ename": "ModuleNotFoundError",
     "evalue": "No module named 'pi'",
     "output_type": "error",
     "traceback": [
      "\u001b[1;31m---------------------------------------------------------------------------\u001b[0m",
      "\u001b[1;31mModuleNotFoundError\u001b[0m                       Traceback (most recent call last)",
      "Cell \u001b[1;32mIn [42], line 8\u001b[0m\n\u001b[0;32m      6\u001b[0m \u001b[38;5;28;01mfrom\u001b[39;00m \u001b[38;5;21;01meco_tool\u001b[39;00m \u001b[38;5;28;01mimport\u001b[39;00m icos_data\n\u001b[0;32m      7\u001b[0m \u001b[38;5;28;01mfrom\u001b[39;00m \u001b[38;5;21;01meco_tool\u001b[39;00m \u001b[38;5;28;01mimport\u001b[39;00m icos2latex\n\u001b[1;32m----> 8\u001b[0m \u001b[38;5;28;01mfrom\u001b[39;00m \u001b[38;5;21;01mpi\u001b[39;00m\u001b[38;5;21;01m.\u001b[39;00m\u001b[38;5;21;01micos_timeseries\u001b[39;00m \u001b[38;5;28;01mimport\u001b[39;00m IcosFrame\n\u001b[0;32m     11\u001b[0m s \u001b[38;5;241m=\u001b[39m icos_data\u001b[38;5;241m.\u001b[39mStationData(theme\u001b[38;5;241m=\u001b[39m\u001b[38;5;124m'\u001b[39m\u001b[38;5;124mES\u001b[39m\u001b[38;5;124m'\u001b[39m)\n\u001b[0;32m     12\u001b[0m t \u001b[38;5;241m=\u001b[39m icos2latex\u001b[38;5;241m.\u001b[39mTranslator()\n",
      "\u001b[1;31mModuleNotFoundError\u001b[0m: No module named 'pi'"
     ]
    }
   ],
   "source": [
    "import warnings\n",
    "warnings.simplefilter(\"ignore\", FutureWarning)\n",
    "import pandas as pd\n",
    "from icoscp.cpb.dobj import Dobj\n",
    "\n",
    "from eco_tool import icos_data\n",
    "from eco_tool import icos2latex\n",
    "from pi.icos_timeseries import IcosFrame\n",
    "\n",
    "\n",
    "s = icos_data.StationData(theme='ES')\n",
    "t = icos2latex.Translator()\n",
    "df = s.stations_df\n",
    "pid_ls = list(df.dobj)\n",
    "\n",
    "#df3 = df.loc[df['specLabel']=='ICOS ATC NRT CH4 growing time series']\n",
    "\n",
    "#pid_ls = list(df3.dobj)\n",
    "df\n"
   ]
  },
  {
   "cell_type": "code",
   "execution_count": 44,
   "id": "892e065a-8cbb-4817-ab59-d8028bbd42c5",
   "metadata": {},
   "outputs": [
    {
     "ename": "AttributeError",
     "evalue": "'DataFrame' object has no attribute 'dobj'",
     "output_type": "error",
     "traceback": [
      "\u001b[1;31m---------------------------------------------------------------------------\u001b[0m",
      "\u001b[1;31mAttributeError\u001b[0m                            Traceback (most recent call last)",
      "Cell \u001b[1;32mIn [44], line 4\u001b[0m\n\u001b[0;32m      1\u001b[0m \u001b[38;5;66;03m#s = icos_data.StationData(theme= 'AS')\u001b[39;00m\n\u001b[0;32m      2\u001b[0m \u001b[38;5;66;03m#df = s.stations_df\u001b[39;00m\n\u001b[1;32m----> 4\u001b[0m pid_ls \u001b[38;5;241m=\u001b[39m \u001b[38;5;28mlist\u001b[39m(df\u001b[38;5;241m.\u001b[39mdobj)\n\u001b[0;32m      5\u001b[0m meteo \u001b[38;5;241m=\u001b[39m pid_ls[\u001b[38;5;241m1\u001b[39m]\n\u001b[0;32m      6\u001b[0m \u001b[38;5;66;03m#Dobj(meteo).data.columns\u001b[39;00m\n",
      "File \u001b[1;32mC:\\Miniconda3\\envs\\jyp_mathjax\\lib\\site-packages\\pandas\\core\\generic.py:5487\u001b[0m, in \u001b[0;36mNDFrame.__getattr__\u001b[1;34m(self, name)\u001b[0m\n\u001b[0;32m   5480\u001b[0m \u001b[38;5;28;01mif\u001b[39;00m (\n\u001b[0;32m   5481\u001b[0m     name \u001b[38;5;129;01mnot\u001b[39;00m \u001b[38;5;129;01min\u001b[39;00m \u001b[38;5;28mself\u001b[39m\u001b[38;5;241m.\u001b[39m_internal_names_set\n\u001b[0;32m   5482\u001b[0m     \u001b[38;5;129;01mand\u001b[39;00m name \u001b[38;5;129;01mnot\u001b[39;00m \u001b[38;5;129;01min\u001b[39;00m \u001b[38;5;28mself\u001b[39m\u001b[38;5;241m.\u001b[39m_metadata\n\u001b[0;32m   5483\u001b[0m     \u001b[38;5;129;01mand\u001b[39;00m name \u001b[38;5;129;01mnot\u001b[39;00m \u001b[38;5;129;01min\u001b[39;00m \u001b[38;5;28mself\u001b[39m\u001b[38;5;241m.\u001b[39m_accessors\n\u001b[0;32m   5484\u001b[0m     \u001b[38;5;129;01mand\u001b[39;00m \u001b[38;5;28mself\u001b[39m\u001b[38;5;241m.\u001b[39m_info_axis\u001b[38;5;241m.\u001b[39m_can_hold_identifiers_and_holds_name(name)\n\u001b[0;32m   5485\u001b[0m ):\n\u001b[0;32m   5486\u001b[0m     \u001b[38;5;28;01mreturn\u001b[39;00m \u001b[38;5;28mself\u001b[39m[name]\n\u001b[1;32m-> 5487\u001b[0m \u001b[38;5;28;01mreturn\u001b[39;00m \u001b[38;5;28;43mobject\u001b[39;49m\u001b[38;5;241;43m.\u001b[39;49m\u001b[38;5;21;43m__getattribute__\u001b[39;49m\u001b[43m(\u001b[49m\u001b[38;5;28;43mself\u001b[39;49m\u001b[43m,\u001b[49m\u001b[43m \u001b[49m\u001b[43mname\u001b[49m\u001b[43m)\u001b[49m\n",
      "\u001b[1;31mAttributeError\u001b[0m: 'DataFrame' object has no attribute 'dobj'"
     ]
    }
   ],
   "source": [
    "#s = icos_data.StationData(theme= 'AS')\n",
    "#df = s.stations_df\n",
    "\n",
    "pid_ls = list(df.dobj)\n",
    "meteo = pid_ls[1]\n",
    "#Dobj(meteo).data.columns\n",
    "swc_ls = ['SWC_1', 'SWC_2', 'SWC_3', 'SWC_4','SWC_5', 'SWC_6','P']\n",
    "swc_pid_ls = [meteo]*len(swc_ls)\n",
    "var_tuple_ls = list(zip(swc_ls,swc_pid_ls))\n",
    "df2 = s.group_ts(var_tuple_ls,start_date='2023-02-15',end_date='2023-03-23')\n",
    "df2.icos_var_unit_ls\n"
   ]
  },
  {
   "cell_type": "code",
   "execution_count": 46,
   "id": "2be9060c",
   "metadata": {},
   "outputs": [
    {
     "ename": "KeyError",
     "evalue": "'SWC_1'",
     "output_type": "error",
     "traceback": [
      "\u001b[1;31m---------------------------------------------------------------------------\u001b[0m",
      "\u001b[1;31mKeyError\u001b[0m                                  Traceback (most recent call last)",
      "File \u001b[1;32mC:\\Miniconda3\\envs\\jyp_mathjax\\lib\\site-packages\\pandas\\core\\indexes\\base.py:3361\u001b[0m, in \u001b[0;36mIndex.get_loc\u001b[1;34m(self, key, method, tolerance)\u001b[0m\n\u001b[0;32m   3360\u001b[0m \u001b[38;5;28;01mtry\u001b[39;00m:\n\u001b[1;32m-> 3361\u001b[0m     \u001b[38;5;28;01mreturn\u001b[39;00m \u001b[38;5;28;43mself\u001b[39;49m\u001b[38;5;241;43m.\u001b[39;49m\u001b[43m_engine\u001b[49m\u001b[38;5;241;43m.\u001b[39;49m\u001b[43mget_loc\u001b[49m\u001b[43m(\u001b[49m\u001b[43mcasted_key\u001b[49m\u001b[43m)\u001b[49m\n\u001b[0;32m   3362\u001b[0m \u001b[38;5;28;01mexcept\u001b[39;00m \u001b[38;5;167;01mKeyError\u001b[39;00m \u001b[38;5;28;01mas\u001b[39;00m err:\n",
      "File \u001b[1;32mC:\\Miniconda3\\envs\\jyp_mathjax\\lib\\site-packages\\pandas\\_libs\\index.pyx:76\u001b[0m, in \u001b[0;36mpandas._libs.index.IndexEngine.get_loc\u001b[1;34m()\u001b[0m\n",
      "File \u001b[1;32mC:\\Miniconda3\\envs\\jyp_mathjax\\lib\\site-packages\\pandas\\_libs\\index.pyx:108\u001b[0m, in \u001b[0;36mpandas._libs.index.IndexEngine.get_loc\u001b[1;34m()\u001b[0m\n",
      "File \u001b[1;32mpandas\\_libs\\hashtable_class_helper.pxi:5198\u001b[0m, in \u001b[0;36mpandas._libs.hashtable.PyObjectHashTable.get_item\u001b[1;34m()\u001b[0m\n",
      "File \u001b[1;32mpandas\\_libs\\hashtable_class_helper.pxi:5206\u001b[0m, in \u001b[0;36mpandas._libs.hashtable.PyObjectHashTable.get_item\u001b[1;34m()\u001b[0m\n",
      "\u001b[1;31mKeyError\u001b[0m: 'SWC_1'",
      "\nThe above exception was the direct cause of the following exception:\n",
      "\u001b[1;31mKeyError\u001b[0m                                  Traceback (most recent call last)",
      "Cell \u001b[1;32mIn [46], line 21\u001b[0m\n\u001b[0;32m     13\u001b[0m \u001b[38;5;28;01mimport\u001b[39;00m \u001b[38;5;21;01mplotly\u001b[39;00m\u001b[38;5;21;01m.\u001b[39;00m\u001b[38;5;21;01mgraph_objects\u001b[39;00m \u001b[38;5;28;01mas\u001b[39;00m \u001b[38;5;21;01mgo\u001b[39;00m\n\u001b[0;32m     15\u001b[0m fig \u001b[38;5;241m=\u001b[39m make_subplots(\n\u001b[0;32m     16\u001b[0m     rows\u001b[38;5;241m=\u001b[39m\u001b[38;5;241m2\u001b[39m, cols\u001b[38;5;241m=\u001b[39m\u001b[38;5;241m2\u001b[39m,\n\u001b[0;32m     17\u001b[0m     specs\u001b[38;5;241m=\u001b[39m[[{\u001b[38;5;124m\"\u001b[39m\u001b[38;5;124mtype\u001b[39m\u001b[38;5;124m\"\u001b[39m: \u001b[38;5;124m\"\u001b[39m\u001b[38;5;124mxy\u001b[39m\u001b[38;5;124m\"\u001b[39m}, {\u001b[38;5;124m\"\u001b[39m\u001b[38;5;124mtype\u001b[39m\u001b[38;5;124m\"\u001b[39m: \u001b[38;5;124m\"\u001b[39m\u001b[38;5;124mpolar\u001b[39m\u001b[38;5;124m\"\u001b[39m}],\n\u001b[0;32m     18\u001b[0m            [{\u001b[38;5;124m\"\u001b[39m\u001b[38;5;124mtype\u001b[39m\u001b[38;5;124m\"\u001b[39m: \u001b[38;5;124m\"\u001b[39m\u001b[38;5;124mdomain\u001b[39m\u001b[38;5;124m\"\u001b[39m}, {\u001b[38;5;124m\"\u001b[39m\u001b[38;5;124mtype\u001b[39m\u001b[38;5;124m\"\u001b[39m: \u001b[38;5;124m\"\u001b[39m\u001b[38;5;124mscene\u001b[39m\u001b[38;5;124m\"\u001b[39m}]],\n\u001b[0;32m     19\u001b[0m )\n\u001b[1;32m---> 21\u001b[0m fig\u001b[38;5;241m.\u001b[39madd_trace(go\u001b[38;5;241m.\u001b[39mScatter(y\u001b[38;5;241m=\u001b[39mddd[\u001b[38;5;124m'\u001b[39m\u001b[38;5;124mSWC_1\u001b[39m\u001b[38;5;124m'\u001b[39m]),\n\u001b[0;32m     22\u001b[0m               row\u001b[38;5;241m=\u001b[39m\u001b[38;5;241m1\u001b[39m, col\u001b[38;5;241m=\u001b[39m\u001b[38;5;241m1\u001b[39m)\n\u001b[0;32m     23\u001b[0m fig\u001b[38;5;241m.\u001b[39madd_trace(go\u001b[38;5;241m.\u001b[39mScatter(y\u001b[38;5;241m=\u001b[39mddd[\u001b[38;5;124m'\u001b[39m\u001b[38;5;124mSWC_2\u001b[39m\u001b[38;5;124m'\u001b[39m]),\n\u001b[0;32m     24\u001b[0m               row\u001b[38;5;241m=\u001b[39m\u001b[38;5;241m1\u001b[39m, col\u001b[38;5;241m=\u001b[39m\u001b[38;5;241m1\u001b[39m)\n\u001b[0;32m     25\u001b[0m fig\u001b[38;5;241m.\u001b[39madd_trace(go\u001b[38;5;241m.\u001b[39mScatter(y\u001b[38;5;241m=\u001b[39mddd[\u001b[38;5;124m'\u001b[39m\u001b[38;5;124mSWC_3\u001b[39m\u001b[38;5;124m'\u001b[39m]),\n\u001b[0;32m     26\u001b[0m               row\u001b[38;5;241m=\u001b[39m\u001b[38;5;241m1\u001b[39m, col\u001b[38;5;241m=\u001b[39m\u001b[38;5;241m1\u001b[39m)\n",
      "File \u001b[1;32mC:\\Miniconda3\\envs\\jyp_mathjax\\lib\\site-packages\\pandas\\core\\frame.py:3458\u001b[0m, in \u001b[0;36mDataFrame.__getitem__\u001b[1;34m(self, key)\u001b[0m\n\u001b[0;32m   3456\u001b[0m \u001b[38;5;28;01mif\u001b[39;00m \u001b[38;5;28mself\u001b[39m\u001b[38;5;241m.\u001b[39mcolumns\u001b[38;5;241m.\u001b[39mnlevels \u001b[38;5;241m>\u001b[39m \u001b[38;5;241m1\u001b[39m:\n\u001b[0;32m   3457\u001b[0m     \u001b[38;5;28;01mreturn\u001b[39;00m \u001b[38;5;28mself\u001b[39m\u001b[38;5;241m.\u001b[39m_getitem_multilevel(key)\n\u001b[1;32m-> 3458\u001b[0m indexer \u001b[38;5;241m=\u001b[39m \u001b[38;5;28;43mself\u001b[39;49m\u001b[38;5;241;43m.\u001b[39;49m\u001b[43mcolumns\u001b[49m\u001b[38;5;241;43m.\u001b[39;49m\u001b[43mget_loc\u001b[49m\u001b[43m(\u001b[49m\u001b[43mkey\u001b[49m\u001b[43m)\u001b[49m\n\u001b[0;32m   3459\u001b[0m \u001b[38;5;28;01mif\u001b[39;00m is_integer(indexer):\n\u001b[0;32m   3460\u001b[0m     indexer \u001b[38;5;241m=\u001b[39m [indexer]\n",
      "File \u001b[1;32mC:\\Miniconda3\\envs\\jyp_mathjax\\lib\\site-packages\\pandas\\core\\indexes\\base.py:3363\u001b[0m, in \u001b[0;36mIndex.get_loc\u001b[1;34m(self, key, method, tolerance)\u001b[0m\n\u001b[0;32m   3361\u001b[0m         \u001b[38;5;28;01mreturn\u001b[39;00m \u001b[38;5;28mself\u001b[39m\u001b[38;5;241m.\u001b[39m_engine\u001b[38;5;241m.\u001b[39mget_loc(casted_key)\n\u001b[0;32m   3362\u001b[0m     \u001b[38;5;28;01mexcept\u001b[39;00m \u001b[38;5;167;01mKeyError\u001b[39;00m \u001b[38;5;28;01mas\u001b[39;00m err:\n\u001b[1;32m-> 3363\u001b[0m         \u001b[38;5;28;01mraise\u001b[39;00m \u001b[38;5;167;01mKeyError\u001b[39;00m(key) \u001b[38;5;28;01mfrom\u001b[39;00m \u001b[38;5;21;01merr\u001b[39;00m\n\u001b[0;32m   3365\u001b[0m \u001b[38;5;28;01mif\u001b[39;00m is_scalar(key) \u001b[38;5;129;01mand\u001b[39;00m isna(key) \u001b[38;5;129;01mand\u001b[39;00m \u001b[38;5;129;01mnot\u001b[39;00m \u001b[38;5;28mself\u001b[39m\u001b[38;5;241m.\u001b[39mhasnans:\n\u001b[0;32m   3366\u001b[0m     \u001b[38;5;28;01mraise\u001b[39;00m \u001b[38;5;167;01mKeyError\u001b[39;00m(key)\n",
      "\u001b[1;31mKeyError\u001b[0m: 'SWC_1'"
     ]
    }
   ],
   "source": [
    "# \"xy\": 2D Cartesian subplot type for scatter, bar, etc. This is the default if no type is specified.\n",
    "# \"scene\": 3D Cartesian subplot for scatter3d, cone, etc.\n",
    "# \"polar\": Polar subplot for scatterpolar, barpolar, etc.\n",
    "# \"ternary\": Ternary subplot for scatterternary.\n",
    "# \"mapbox\": Mapbox subplot for scattermapbox.\n",
    "# \"domain\": Subplot type for traces that are individually positioned. pie, parcoords, parcats, etc.\n",
    "# trace type: A trace type name (e.g. \"bar\", \"scattergeo\", \"carpet\", \"mesh\", etc.) which will be used to determine the appropriate subplot type for that trace.\n",
    "# Here is an example that creates and populates a 2 x 2 subplot grid containing 4 different subplot types.\n",
    "\n",
    "ddd = df2.dropna()\n",
    "\n",
    "from plotly.subplots import make_subplots\n",
    "import plotly.graph_objects as go\n",
    "\n",
    "fig = make_subplots(\n",
    "    rows=2, cols=2,\n",
    "    specs=[[{\"type\": \"xy\"}, {\"type\": \"polar\"}],\n",
    "           [{\"type\": \"domain\"}, {\"type\": \"scene\"}]],\n",
    ")\n",
    "\n",
    "fig.add_trace(go.Scatter(y=ddd['SWC_1']),\n",
    "              row=1, col=1)\n",
    "fig.add_trace(go.Scatter(y=ddd['SWC_2']),\n",
    "              row=1, col=1)\n",
    "fig.add_trace(go.Scatter(y=ddd['SWC_3']),\n",
    "              row=1, col=1)\n",
    "\n",
    "\n",
    "fig.add_trace(go.Barpolar(theta=[0, 45, 90], r=[2, 3, 1]),\n",
    "              row=1, col=2)\n",
    "\n",
    "p1 = ddd['SWC_1'].sum()\n",
    "p2 = ddd['SWC_2'].sum()\n",
    "p3 = ddd['SWC_3'].sum()\n",
    "\n",
    "\n",
    "fig.add_trace(go.Pie(values=[p1,p2,p3], labels=['a','aa','aaa']),\n",
    "              row=2, col=1)\n",
    "\n",
    "\n",
    "\n",
    "fig.add_trace(go.Scatter3d(x=ddd['SWC_1'], y=ddd['SWC_2'],\n",
    "                           z=ddd['SWC_3'], mode=\"lines\"),\n",
    "              row=2, col=2)\n",
    "\n",
    "fig.update_layout(height=700, showlegend=False)\n",
    "\n",
    "fig.show()\n",
    "\n",
    "import plotly.express as px\n",
    "\n",
    "df = px.data.tips()\n",
    "\n",
    "fig2 = px.box(df, x=\"SWC_2\", y=\"SWC_1\") #, color=\"smoker\")\n",
    "fig2.update_traces(quartilemethod=\"exclusive\") # or \"inclusive\", or \"linear\" by default\n",
    "fig2.show()\n"
   ]
  },
  {
   "cell_type": "code",
   "execution_count": 47,
   "id": "d1ef8996-9087-4576-aaa4-6d40191754f5",
   "metadata": {},
   "outputs": [],
   "source": [
    "vch4 = 'ch4'\n",
    "v1 = 'CO2'\n",
    "v2 = 'H'\n",
    "v3 = 'H2O'\n",
    "\n",
    "var_tuple_ls = [(v1, pid_ls[0]),(v2, pid_ls[3]), (v3, pid_ls[6]),(v2, pid_ls[0]),(v3, pid_ls[3]), (v1, pid_ls[6])]\n",
    "var_tuple_ls = list(zip([v1]*len(pid_ls),pid_ls))\n",
    "\n",
    "fluxes = [pid_ls[x] for x in range(len(pid_ls)) if x%3 ==0]\n",
    "fluxes\n",
    "var_tuple_ls = list(zip([v1]*len(fluxes),fluxes))\n",
    "#var_tuple_ls = list(zip([vch4]*3,[pid_ls[0],pid_ls[5],pid_ls[8]]))\n"
   ]
  },
  {
   "cell_type": "code",
   "execution_count": 48,
   "id": "efc2852e",
   "metadata": {},
   "outputs": [
    {
     "ename": "JSONDecodeError",
     "evalue": "Expecting value: line 1 column 1 (char 0)",
     "output_type": "error",
     "traceback": [
      "\u001b[1;31m---------------------------------------------------------------------------\u001b[0m",
      "\u001b[1;31mJSONDecodeError\u001b[0m                           Traceback (most recent call last)",
      "Cell \u001b[1;32mIn [48], line 1\u001b[0m\n\u001b[1;32m----> 1\u001b[0m df2 \u001b[38;5;241m=\u001b[39m s\u001b[38;5;241m.\u001b[39mgroup_ts(var_tuple_ls,start_date\u001b[38;5;241m=\u001b[39m\u001b[38;5;124m'\u001b[39m\u001b[38;5;124m2023-02-15\u001b[39m\u001b[38;5;124m'\u001b[39m,end_date\u001b[38;5;241m=\u001b[39m\u001b[38;5;124m'\u001b[39m\u001b[38;5;124m2023-03-23\u001b[39m\u001b[38;5;124m'\u001b[39m)\n\u001b[0;32m      2\u001b[0m df2\u001b[38;5;241m.\u001b[39micos_var_unit_ls\n\u001b[0;32m      4\u001b[0m t\u001b[38;5;241m.\u001b[39mvar_unit_to_latex(var_unit\u001b[38;5;241m=\u001b[39mdf2\u001b[38;5;241m.\u001b[39micos_var_unit_ls[\u001b[38;5;241m0\u001b[39m])\n",
      "File \u001b[1;32m~\\Documents\\GitHub\\jupyter\\notebooks\\icos_jupyter_notebooks\\eco_tool\\icos_data.py:326\u001b[0m, in \u001b[0;36mStationData.group_ts\u001b[1;34m(var_tuple_ls, start_date, end_date)\u001b[0m\n\u001b[0;32m    323\u001b[0m         order_dict[p][\u001b[38;5;124m'\u001b[39m\u001b[38;5;124mcompose_order\u001b[39m\u001b[38;5;124m'\u001b[39m][i] \u001b[38;5;241m=\u001b[39m v\n\u001b[0;32m    324\u001b[0m     \u001b[38;5;28;01melse\u001b[39;00m:\n\u001b[0;32m    325\u001b[0m         order_dict[p] \u001b[38;5;241m=\u001b[39m {\u001b[38;5;124m'\u001b[39m\u001b[38;5;124mcols\u001b[39m\u001b[38;5;124m'\u001b[39m: [v], \u001b[38;5;124m'\u001b[39m\u001b[38;5;124mcompose_order\u001b[39m\u001b[38;5;124m'\u001b[39m: {i: v},\n\u001b[1;32m--> 326\u001b[0m                          \u001b[38;5;124m'\u001b[39m\u001b[38;5;124mdobj\u001b[39m\u001b[38;5;124m'\u001b[39m: \u001b[43mDobj\u001b[49m\u001b[43m(\u001b[49m\u001b[43mp\u001b[49m\u001b[43m)\u001b[49m}\n\u001b[0;32m    328\u001b[0m \u001b[38;5;66;03m# 2. We might also have to rename duplicate variables.\u001b[39;00m\n\u001b[0;32m    329\u001b[0m products \u001b[38;5;241m=\u001b[39m \u001b[38;5;28mset\u001b[39m()\n",
      "File \u001b[1;32mC:\\Miniconda3\\envs\\jyp_mathjax\\lib\\site-packages\\icoscp\\cpb\\dobj.py:69\u001b[0m, in \u001b[0;36mDobj.__init__\u001b[1;34m(self, digitalObject, debug_auth, cp_auth)\u001b[0m\n\u001b[0;32m     66\u001b[0m \u001b[38;5;28mself\u001b[39m\u001b[38;5;241m.\u001b[39m_debug_auth \u001b[38;5;241m=\u001b[39m debug_auth\n\u001b[0;32m     67\u001b[0m \u001b[38;5;66;03m# this needs to be the last call within init. If dobj is provided\u001b[39;00m\n\u001b[0;32m     68\u001b[0m \u001b[38;5;66;03m# meta data is retrieved and .valid is True\u001b[39;00m\n\u001b[1;32m---> 69\u001b[0m \u001b[38;5;28;43mself\u001b[39;49m\u001b[38;5;241;43m.\u001b[39;49m\u001b[43mdobj\u001b[49m \u001b[38;5;241m=\u001b[39m digitalObject\n",
      "File \u001b[1;32mC:\\Miniconda3\\envs\\jyp_mathjax\\lib\\site-packages\\icoscp\\cpb\\dobj.py:86\u001b[0m, in \u001b[0;36mDobj.dobj\u001b[1;34m(self, digitalObject)\u001b[0m\n\u001b[0;32m     84\u001b[0m \u001b[38;5;28mself\u001b[39m\u001b[38;5;241m.\u001b[39m_dobj \u001b[38;5;241m=\u001b[39m digitalObject\n\u001b[0;32m     85\u001b[0m \u001b[38;5;66;03m# set_meta will return false or true\u001b[39;00m\n\u001b[1;32m---> 86\u001b[0m \u001b[38;5;28mself\u001b[39m\u001b[38;5;241m.\u001b[39m_dobjValid \u001b[38;5;241m=\u001b[39m \u001b[38;5;28;43mself\u001b[39;49m\u001b[38;5;241;43m.\u001b[39;49m\u001b[43m__set_meta\u001b[49m\u001b[43m(\u001b[49m\u001b[43m)\u001b[49m\n",
      "File \u001b[1;32mC:\\Miniconda3\\envs\\jyp_mathjax\\lib\\site-packages\\icoscp\\cpb\\dobj.py:289\u001b[0m, in \u001b[0;36mDobj.__set_meta\u001b[1;34m(self)\u001b[0m\n\u001b[0;32m    282\u001b[0m \u001b[38;5;250m\u001b[39m\u001b[38;5;124;03m''' retreive meta data for the object\u001b[39;00m\n\u001b[0;32m    283\u001b[0m \u001b[38;5;124;03mand set\u001b[39;00m\n\u001b[0;32m    284\u001b[0m \u001b[38;5;124;03m    self.meta\u001b[39;00m\n\u001b[0;32m    285\u001b[0m \u001b[38;5;124;03m    self.variables\u001b[39;00m\n\u001b[0;32m    286\u001b[0m \u001b[38;5;124;03m'''\u001b[39;00m\n\u001b[0;32m    288\u001b[0m \u001b[38;5;66;03m# get all the meta data and check..\u001b[39;00m\n\u001b[1;32m--> 289\u001b[0m \u001b[38;5;28mself\u001b[39m\u001b[38;5;241m.\u001b[39m_meta \u001b[38;5;241m=\u001b[39m \u001b[43mmetadata\u001b[49m\u001b[38;5;241;43m.\u001b[39;49m\u001b[43mget\u001b[49m\u001b[43m(\u001b[49m\u001b[38;5;28;43mself\u001b[39;49m\u001b[38;5;241;43m.\u001b[39;49m\u001b[43mdobj\u001b[49m\u001b[43m)\u001b[49m\n\u001b[0;32m    291\u001b[0m \u001b[38;5;28;01mif\u001b[39;00m \u001b[38;5;129;01mnot\u001b[39;00m \u001b[38;5;28mself\u001b[39m\u001b[38;5;241m.\u001b[39m_meta:            \n\u001b[0;32m    292\u001b[0m     \u001b[38;5;28;01mreturn\u001b[39;00m \u001b[38;5;28;01mFalse\u001b[39;00m\n",
      "File \u001b[1;32mC:\\Miniconda3\\envs\\jyp_mathjax\\lib\\site-packages\\icoscp\\cpb\\metadata.py:65\u001b[0m, in \u001b[0;36mget\u001b[1;34m(pid, fmt)\u001b[0m\n\u001b[0;32m     61\u001b[0m     \u001b[38;5;28;01mreturn\u001b[39;00m \u001b[38;5;28;01mNone\u001b[39;00m\n\u001b[0;32m     63\u001b[0m \u001b[38;5;28;01mif\u001b[39;00m fmt \u001b[38;5;241m==\u001b[39m \u001b[38;5;124m'\u001b[39m\u001b[38;5;124mdict\u001b[39m\u001b[38;5;124m'\u001b[39m:\n\u001b[0;32m     64\u001b[0m     \u001b[38;5;66;03m# default, return the metadata as dictionary\u001b[39;00m\n\u001b[1;32m---> 65\u001b[0m     meta \u001b[38;5;241m=\u001b[39m \u001b[43mmeta\u001b[49m\u001b[38;5;241;43m.\u001b[39;49m\u001b[43mjson\u001b[49m\u001b[43m(\u001b[49m\u001b[43m)\u001b[49m\n\u001b[0;32m     66\u001b[0m \u001b[38;5;28;01melse\u001b[39;00m:\n\u001b[0;32m     67\u001b[0m     meta \u001b[38;5;241m=\u001b[39m meta\u001b[38;5;241m.\u001b[39mtext        \n",
      "File \u001b[1;32mC:\\Miniconda3\\envs\\jyp_mathjax\\lib\\site-packages\\requests\\models.py:910\u001b[0m, in \u001b[0;36mResponse.json\u001b[1;34m(self, **kwargs)\u001b[0m\n\u001b[0;32m    904\u001b[0m         \u001b[38;5;28;01mexcept\u001b[39;00m \u001b[38;5;167;01mUnicodeDecodeError\u001b[39;00m:\n\u001b[0;32m    905\u001b[0m             \u001b[38;5;66;03m# Wrong UTF codec detected; usually because it's not UTF-8\u001b[39;00m\n\u001b[0;32m    906\u001b[0m             \u001b[38;5;66;03m# but some other 8-bit codec.  This is an RFC violation,\u001b[39;00m\n\u001b[0;32m    907\u001b[0m             \u001b[38;5;66;03m# and the server didn't bother to tell us what codec *was*\u001b[39;00m\n\u001b[0;32m    908\u001b[0m             \u001b[38;5;66;03m# used.\u001b[39;00m\n\u001b[0;32m    909\u001b[0m             \u001b[38;5;28;01mpass\u001b[39;00m\n\u001b[1;32m--> 910\u001b[0m \u001b[38;5;28;01mreturn\u001b[39;00m complexjson\u001b[38;5;241m.\u001b[39mloads(\u001b[38;5;28mself\u001b[39m\u001b[38;5;241m.\u001b[39mtext, \u001b[38;5;241m*\u001b[39m\u001b[38;5;241m*\u001b[39mkwargs)\n",
      "File \u001b[1;32mC:\\Miniconda3\\envs\\jyp_mathjax\\lib\\site-packages\\simplejson\\__init__.py:514\u001b[0m, in \u001b[0;36mloads\u001b[1;34m(s, encoding, cls, object_hook, parse_float, parse_int, parse_constant, object_pairs_hook, use_decimal, allow_nan, **kw)\u001b[0m\n\u001b[0;32m    462\u001b[0m \u001b[38;5;250m\u001b[39m\u001b[38;5;124;03m\"\"\"Deserialize ``s`` (a ``str`` or ``unicode`` instance containing a JSON\u001b[39;00m\n\u001b[0;32m    463\u001b[0m \u001b[38;5;124;03mdocument) to a Python object.\u001b[39;00m\n\u001b[0;32m    464\u001b[0m \n\u001b[1;32m   (...)\u001b[0m\n\u001b[0;32m    508\u001b[0m \n\u001b[0;32m    509\u001b[0m \u001b[38;5;124;03m\"\"\"\u001b[39;00m\n\u001b[0;32m    510\u001b[0m \u001b[38;5;28;01mif\u001b[39;00m (\u001b[38;5;28mcls\u001b[39m \u001b[38;5;129;01mis\u001b[39;00m \u001b[38;5;28;01mNone\u001b[39;00m \u001b[38;5;129;01mand\u001b[39;00m encoding \u001b[38;5;129;01mis\u001b[39;00m \u001b[38;5;28;01mNone\u001b[39;00m \u001b[38;5;129;01mand\u001b[39;00m object_hook \u001b[38;5;129;01mis\u001b[39;00m \u001b[38;5;28;01mNone\u001b[39;00m \u001b[38;5;129;01mand\u001b[39;00m\n\u001b[0;32m    511\u001b[0m         parse_int \u001b[38;5;129;01mis\u001b[39;00m \u001b[38;5;28;01mNone\u001b[39;00m \u001b[38;5;129;01mand\u001b[39;00m parse_float \u001b[38;5;129;01mis\u001b[39;00m \u001b[38;5;28;01mNone\u001b[39;00m \u001b[38;5;129;01mand\u001b[39;00m\n\u001b[0;32m    512\u001b[0m         parse_constant \u001b[38;5;129;01mis\u001b[39;00m \u001b[38;5;28;01mNone\u001b[39;00m \u001b[38;5;129;01mand\u001b[39;00m object_pairs_hook \u001b[38;5;129;01mis\u001b[39;00m \u001b[38;5;28;01mNone\u001b[39;00m\n\u001b[0;32m    513\u001b[0m         \u001b[38;5;129;01mand\u001b[39;00m \u001b[38;5;129;01mnot\u001b[39;00m use_decimal \u001b[38;5;129;01mand\u001b[39;00m \u001b[38;5;129;01mnot\u001b[39;00m allow_nan \u001b[38;5;129;01mand\u001b[39;00m \u001b[38;5;129;01mnot\u001b[39;00m kw):\n\u001b[1;32m--> 514\u001b[0m     \u001b[38;5;28;01mreturn\u001b[39;00m \u001b[43m_default_decoder\u001b[49m\u001b[38;5;241;43m.\u001b[39;49m\u001b[43mdecode\u001b[49m\u001b[43m(\u001b[49m\u001b[43ms\u001b[49m\u001b[43m)\u001b[49m\n\u001b[0;32m    515\u001b[0m \u001b[38;5;28;01mif\u001b[39;00m \u001b[38;5;28mcls\u001b[39m \u001b[38;5;129;01mis\u001b[39;00m \u001b[38;5;28;01mNone\u001b[39;00m:\n\u001b[0;32m    516\u001b[0m     \u001b[38;5;28mcls\u001b[39m \u001b[38;5;241m=\u001b[39m JSONDecoder\n",
      "File \u001b[1;32mC:\\Miniconda3\\envs\\jyp_mathjax\\lib\\site-packages\\simplejson\\decoder.py:386\u001b[0m, in \u001b[0;36mJSONDecoder.decode\u001b[1;34m(self, s, _w, _PY3)\u001b[0m\n\u001b[0;32m    384\u001b[0m \u001b[38;5;28;01mif\u001b[39;00m _PY3 \u001b[38;5;129;01mand\u001b[39;00m \u001b[38;5;28misinstance\u001b[39m(s, \u001b[38;5;28mbytes\u001b[39m):\n\u001b[0;32m    385\u001b[0m     s \u001b[38;5;241m=\u001b[39m \u001b[38;5;28mstr\u001b[39m(s, \u001b[38;5;28mself\u001b[39m\u001b[38;5;241m.\u001b[39mencoding)\n\u001b[1;32m--> 386\u001b[0m obj, end \u001b[38;5;241m=\u001b[39m \u001b[38;5;28;43mself\u001b[39;49m\u001b[38;5;241;43m.\u001b[39;49m\u001b[43mraw_decode\u001b[49m\u001b[43m(\u001b[49m\u001b[43ms\u001b[49m\u001b[43m)\u001b[49m\n\u001b[0;32m    387\u001b[0m end \u001b[38;5;241m=\u001b[39m _w(s, end)\u001b[38;5;241m.\u001b[39mend()\n\u001b[0;32m    388\u001b[0m \u001b[38;5;28;01mif\u001b[39;00m end \u001b[38;5;241m!=\u001b[39m \u001b[38;5;28mlen\u001b[39m(s):\n",
      "File \u001b[1;32mC:\\Miniconda3\\envs\\jyp_mathjax\\lib\\site-packages\\simplejson\\decoder.py:416\u001b[0m, in \u001b[0;36mJSONDecoder.raw_decode\u001b[1;34m(self, s, idx, _w, _PY3)\u001b[0m\n\u001b[0;32m    414\u001b[0m     \u001b[38;5;28;01melif\u001b[39;00m ord0 \u001b[38;5;241m==\u001b[39m \u001b[38;5;241m0xef\u001b[39m \u001b[38;5;129;01mand\u001b[39;00m s[idx:idx \u001b[38;5;241m+\u001b[39m \u001b[38;5;241m3\u001b[39m] \u001b[38;5;241m==\u001b[39m \u001b[38;5;124m'\u001b[39m\u001b[38;5;130;01m\\xef\u001b[39;00m\u001b[38;5;130;01m\\xbb\u001b[39;00m\u001b[38;5;130;01m\\xbf\u001b[39;00m\u001b[38;5;124m'\u001b[39m:\n\u001b[0;32m    415\u001b[0m         idx \u001b[38;5;241m+\u001b[39m\u001b[38;5;241m=\u001b[39m \u001b[38;5;241m3\u001b[39m\n\u001b[1;32m--> 416\u001b[0m \u001b[38;5;28;01mreturn\u001b[39;00m \u001b[38;5;28;43mself\u001b[39;49m\u001b[38;5;241;43m.\u001b[39;49m\u001b[43mscan_once\u001b[49m\u001b[43m(\u001b[49m\u001b[43ms\u001b[49m\u001b[43m,\u001b[49m\u001b[43m \u001b[49m\u001b[43midx\u001b[49m\u001b[38;5;241;43m=\u001b[39;49m\u001b[43m_w\u001b[49m\u001b[43m(\u001b[49m\u001b[43ms\u001b[49m\u001b[43m,\u001b[49m\u001b[43m \u001b[49m\u001b[43midx\u001b[49m\u001b[43m)\u001b[49m\u001b[38;5;241;43m.\u001b[39;49m\u001b[43mend\u001b[49m\u001b[43m(\u001b[49m\u001b[43m)\u001b[49m\u001b[43m)\u001b[49m\n",
      "\u001b[1;31mJSONDecodeError\u001b[0m: Expecting value: line 1 column 1 (char 0)"
     ]
    }
   ],
   "source": [
    "df2 = s.group_ts(var_tuple_ls,start_date='2023-02-15',end_date='2023-03-23')\n",
    "df2.icos_var_unit_ls\n",
    "\n",
    "t.var_unit_to_latex(var_unit=df2.icos_var_unit_ls[0])"
   ]
  },
  {
   "cell_type": "code",
   "execution_count": 49,
   "id": "d0f106d9",
   "metadata": {},
   "outputs": [
    {
     "ename": "ModuleNotFoundError",
     "evalue": "No module named 'fitter'",
     "output_type": "error",
     "traceback": [
      "\u001b[1;31m---------------------------------------------------------------------------\u001b[0m",
      "\u001b[1;31mModuleNotFoundError\u001b[0m                       Traceback (most recent call last)",
      "Cell \u001b[1;32mIn [49], line 4\u001b[0m\n\u001b[0;32m      2\u001b[0m \u001b[38;5;28;01mimport\u001b[39;00m \u001b[38;5;21;01mpandas\u001b[39;00m \u001b[38;5;28;01mas\u001b[39;00m \u001b[38;5;21;01mpd\u001b[39;00m\n\u001b[0;32m      3\u001b[0m \u001b[38;5;28;01mimport\u001b[39;00m \u001b[38;5;21;01mseaborn\u001b[39;00m \u001b[38;5;28;01mas\u001b[39;00m \u001b[38;5;21;01msns\u001b[39;00m\n\u001b[1;32m----> 4\u001b[0m \u001b[38;5;28;01mfrom\u001b[39;00m \u001b[38;5;21;01mfitter\u001b[39;00m \u001b[38;5;28;01mimport\u001b[39;00m Fitter, get_common_distributions, get_distributions\n\u001b[0;32m      5\u001b[0m \u001b[38;5;28;01mdef\u001b[39;00m \u001b[38;5;21mstatistics\u001b[39m(df):\n\u001b[0;32m      7\u001b[0m     \u001b[38;5;28;01mdef\u001b[39;00m \u001b[38;5;21mnan_values\u001b[39m(df):\n",
      "\u001b[1;31mModuleNotFoundError\u001b[0m: No module named 'fitter'"
     ]
    }
   ],
   "source": [
    "import numpy as np\n",
    "import pandas as pd\n",
    "import seaborn as sns\n",
    "from fitter import Fitter, get_common_distributions, get_distributions\n",
    "def statistics(df):\n",
    "    \n",
    "    def nan_values(df):\n",
    "        return  len(df) - len(df.dropna())\n",
    "        \n",
    "    def E(f):\n",
    "        '''E for expectation'''\n",
    "        return f.sum() / len(f)\n",
    "        \n",
    "    def mean(df):\n",
    "        return E(df)\n",
    "        \n",
    "    def st_dev(df,m):\n",
    "        return E((df-m)**2)**(1/2)\n",
    "        \n",
    "    def bessel_st_dev(df):\n",
    "        ''' \n",
    "        pandas standard method, \n",
    "        see `https://en.wikipedia.org/wiki/Bessel%27s_correction`\n",
    "        '''\n",
    "        return df.std()\n",
    "    \n",
    "    def covariance(X,Y,mx,my):\n",
    "        return mean((X-mx)*(Y-my))\n",
    "    \n",
    "    \n",
    "        \n",
    "                \n",
    "    \n",
    "    if isinstance(df, pd.DataFrame):\n",
    "        c_ls = list(df.columns)\n",
    "        # we cannot use a IcosFrame here\n",
    "        df = pd.DataFrame(df)\n",
    "    else: \n",
    "        return {}\n",
    "    \n",
    "    d = {'timeslots': len(df)} \n",
    "    for c in c_ls:\n",
    "        d[c] = {'nan_values': nan_values(df[c])}\n",
    "        dfc = df[c].dropna()\n",
    "        m = mean(dfc)\n",
    "        d[c]['mean'] = m\n",
    "        d[c]['min'] = dfc.min()\n",
    "        d[c]['max'] = dfc.max()\n",
    "        d[c]['st_dev'] = st_dev(dfc,m)\n",
    "        d[c]['st_dev_bessel'] = bessel_st_dev(dfc)\n",
    "    \n",
    "    for i in range(len(c_ls)):\n",
    "        cx = c_ls[i] \n",
    "        X = df[cx]\n",
    "        mx = d[cx]['mean']\n",
    "        for cy in c_ls[i:]:\n",
    "            Y = df[cy]\n",
    "            my = d[c2]['mean']\n",
    "            d[c1][c2] = covariance(X,Y,mx,my)\n",
    "            \n",
    "            \n",
    "\n",
    "        \n",
    "    \n",
    "# {\\displaystyle \\rho _{X,Y}={\\frac {\\operatorname {\\mathbb {E} } [(X-\\mu _{X})(Y-\\mu _{Y})]}{\\sigma _{X}\\sigma _{Y}}}}\n",
    "# where\n",
    "    \n",
    "    \n",
    "    \n",
    "    return d   \n",
    "\n",
    "\n"
   ]
  },
  {
   "cell_type": "code",
   "execution_count": null,
   "id": "7ead0191",
   "metadata": {},
   "outputs": [],
   "source": [
    "print(statistics(dd))\n",
    "\n",
    "x1 = x1.dropna()\n",
    "x2 = pd.DataFrame(x1)\n",
    "\n",
    "((x2-3.5)**2).sum(),    ((((x2-3.5)**2).sum()) /3.5964828317656234)**(1/2), x2.std()\n",
    "\n",
    "# #statistics(x1)\n",
    "# {'timeslots': 816,\n",
    "#  'SWC_1': {'nan_values': 0,\n",
    "#   'mean': 3.5964828317656234,\n",
    "#   'min': 2.9700000286102295,\n",
    "#   'max': 5.21999979019165,\n",
    "#   'st_dev': 6.580778445629034}}\n",
    "\n",
    "# s =0\n",
    "# for x in (abs((x1-3.5))**2)['SWC_1'].values:\n",
    "    \n",
    "#     s+=x\n",
    "# s 163.3476975153024\n"
   ]
  },
  {
   "cell_type": "code",
   "execution_count": null,
   "id": "cd7c992f",
   "metadata": {},
   "outputs": [],
   "source": [
    "x11 = x1.dropna()\n",
    "((x11 -1)**2.5).sum()"
   ]
  },
  {
   "cell_type": "code",
   "execution_count": null,
   "id": "33c1b7cb",
   "metadata": {},
   "outputs": [],
   "source": []
  },
  {
   "cell_type": "code",
   "execution_count": 50,
   "id": "00ed7d0e",
   "metadata": {},
   "outputs": [
    {
     "ename": "KeyError",
     "evalue": "'SWC_1'",
     "output_type": "error",
     "traceback": [
      "\u001b[1;31m---------------------------------------------------------------------------\u001b[0m",
      "\u001b[1;31mKeyError\u001b[0m                                  Traceback (most recent call last)",
      "File \u001b[1;32mC:\\Miniconda3\\envs\\jyp_mathjax\\lib\\site-packages\\pandas\\core\\indexes\\base.py:3361\u001b[0m, in \u001b[0;36mIndex.get_loc\u001b[1;34m(self, key, method, tolerance)\u001b[0m\n\u001b[0;32m   3360\u001b[0m \u001b[38;5;28;01mtry\u001b[39;00m:\n\u001b[1;32m-> 3361\u001b[0m     \u001b[38;5;28;01mreturn\u001b[39;00m \u001b[38;5;28;43mself\u001b[39;49m\u001b[38;5;241;43m.\u001b[39;49m\u001b[43m_engine\u001b[49m\u001b[38;5;241;43m.\u001b[39;49m\u001b[43mget_loc\u001b[49m\u001b[43m(\u001b[49m\u001b[43mcasted_key\u001b[49m\u001b[43m)\u001b[49m\n\u001b[0;32m   3362\u001b[0m \u001b[38;5;28;01mexcept\u001b[39;00m \u001b[38;5;167;01mKeyError\u001b[39;00m \u001b[38;5;28;01mas\u001b[39;00m err:\n",
      "File \u001b[1;32mC:\\Miniconda3\\envs\\jyp_mathjax\\lib\\site-packages\\pandas\\_libs\\index.pyx:76\u001b[0m, in \u001b[0;36mpandas._libs.index.IndexEngine.get_loc\u001b[1;34m()\u001b[0m\n",
      "File \u001b[1;32mC:\\Miniconda3\\envs\\jyp_mathjax\\lib\\site-packages\\pandas\\_libs\\index.pyx:108\u001b[0m, in \u001b[0;36mpandas._libs.index.IndexEngine.get_loc\u001b[1;34m()\u001b[0m\n",
      "File \u001b[1;32mpandas\\_libs\\hashtable_class_helper.pxi:5198\u001b[0m, in \u001b[0;36mpandas._libs.hashtable.PyObjectHashTable.get_item\u001b[1;34m()\u001b[0m\n",
      "File \u001b[1;32mpandas\\_libs\\hashtable_class_helper.pxi:5206\u001b[0m, in \u001b[0;36mpandas._libs.hashtable.PyObjectHashTable.get_item\u001b[1;34m()\u001b[0m\n",
      "\u001b[1;31mKeyError\u001b[0m: 'SWC_1'",
      "\nThe above exception was the direct cause of the following exception:\n",
      "\u001b[1;31mKeyError\u001b[0m                                  Traceback (most recent call last)",
      "Cell \u001b[1;32mIn [50], line 6\u001b[0m\n\u001b[0;32m      4\u001b[0m corr_df \u001b[38;5;241m=\u001b[39m df2\u001b[38;5;241m.\u001b[39mcorr(method\u001b[38;5;241m=\u001b[39m\u001b[38;5;124m'\u001b[39m\u001b[38;5;124mpearson\u001b[39m\u001b[38;5;124m'\u001b[39m)\n\u001b[0;32m      5\u001b[0m corr_df\n\u001b[1;32m----> 6\u001b[0m x1 \u001b[38;5;241m=\u001b[39m df2[\u001b[38;5;124m'\u001b[39m\u001b[38;5;124mSWC_1\u001b[39m\u001b[38;5;124m'\u001b[39m]\n\u001b[0;32m      7\u001b[0m x11 \u001b[38;5;241m=\u001b[39m x1\u001b[38;5;241m.\u001b[39msum()\n\u001b[0;32m      8\u001b[0m x1, \u001b[38;5;28mlen\u001b[39m(x1\u001b[38;5;241m.\u001b[39mdropna()), x11\n",
      "File \u001b[1;32mC:\\Miniconda3\\envs\\jyp_mathjax\\lib\\site-packages\\pandas\\core\\frame.py:3458\u001b[0m, in \u001b[0;36mDataFrame.__getitem__\u001b[1;34m(self, key)\u001b[0m\n\u001b[0;32m   3456\u001b[0m \u001b[38;5;28;01mif\u001b[39;00m \u001b[38;5;28mself\u001b[39m\u001b[38;5;241m.\u001b[39mcolumns\u001b[38;5;241m.\u001b[39mnlevels \u001b[38;5;241m>\u001b[39m \u001b[38;5;241m1\u001b[39m:\n\u001b[0;32m   3457\u001b[0m     \u001b[38;5;28;01mreturn\u001b[39;00m \u001b[38;5;28mself\u001b[39m\u001b[38;5;241m.\u001b[39m_getitem_multilevel(key)\n\u001b[1;32m-> 3458\u001b[0m indexer \u001b[38;5;241m=\u001b[39m \u001b[38;5;28;43mself\u001b[39;49m\u001b[38;5;241;43m.\u001b[39;49m\u001b[43mcolumns\u001b[49m\u001b[38;5;241;43m.\u001b[39;49m\u001b[43mget_loc\u001b[49m\u001b[43m(\u001b[49m\u001b[43mkey\u001b[49m\u001b[43m)\u001b[49m\n\u001b[0;32m   3459\u001b[0m \u001b[38;5;28;01mif\u001b[39;00m is_integer(indexer):\n\u001b[0;32m   3460\u001b[0m     indexer \u001b[38;5;241m=\u001b[39m [indexer]\n",
      "File \u001b[1;32mC:\\Miniconda3\\envs\\jyp_mathjax\\lib\\site-packages\\pandas\\core\\indexes\\base.py:3363\u001b[0m, in \u001b[0;36mIndex.get_loc\u001b[1;34m(self, key, method, tolerance)\u001b[0m\n\u001b[0;32m   3361\u001b[0m         \u001b[38;5;28;01mreturn\u001b[39;00m \u001b[38;5;28mself\u001b[39m\u001b[38;5;241m.\u001b[39m_engine\u001b[38;5;241m.\u001b[39mget_loc(casted_key)\n\u001b[0;32m   3362\u001b[0m     \u001b[38;5;28;01mexcept\u001b[39;00m \u001b[38;5;167;01mKeyError\u001b[39;00m \u001b[38;5;28;01mas\u001b[39;00m err:\n\u001b[1;32m-> 3363\u001b[0m         \u001b[38;5;28;01mraise\u001b[39;00m \u001b[38;5;167;01mKeyError\u001b[39;00m(key) \u001b[38;5;28;01mfrom\u001b[39;00m \u001b[38;5;21;01merr\u001b[39;00m\n\u001b[0;32m   3365\u001b[0m \u001b[38;5;28;01mif\u001b[39;00m is_scalar(key) \u001b[38;5;129;01mand\u001b[39;00m isna(key) \u001b[38;5;129;01mand\u001b[39;00m \u001b[38;5;129;01mnot\u001b[39;00m \u001b[38;5;28mself\u001b[39m\u001b[38;5;241m.\u001b[39mhasnans:\n\u001b[0;32m   3366\u001b[0m     \u001b[38;5;28;01mraise\u001b[39;00m \u001b[38;5;167;01mKeyError\u001b[39;00m(key)\n",
      "\u001b[1;31mKeyError\u001b[0m: 'SWC_1'"
     ]
    }
   ],
   "source": [
    "df2\n",
    "#x,y = df2.iloc[:,0],df2.iloc[:,2]\n",
    "#x,y\n",
    "corr_df = df2.corr(method='pearson')\n",
    "corr_df\n",
    "x1 = df2['SWC_1']\n",
    "x11 = x1.sum()\n",
    "x1, len(x1.dropna()), x11"
   ]
  },
  {
   "cell_type": "code",
   "execution_count": 51,
   "id": "0cc57e65",
   "metadata": {},
   "outputs": [
    {
     "data": {
      "text/plain": [
       "[<matplotlib.lines.Line2D at 0x1c12ffebc10>]"
      ]
     },
     "execution_count": 51,
     "metadata": {},
     "output_type": "execute_result"
    },
    {
     "data": {
      "image/png": "[encoded data removed]",
      "text/plain": [
       "<Figure size 640x480 with 1 Axes>"
      ]
     },
     "metadata": {},
     "output_type": "display_data"
    }
   ],
   "source": [
    "import matplotlib.pyplot as plt\n",
    "#plt.plot([1, 2, 3, 4],[2,3,4,4])\n",
    "plt.ylabel('some numbers')\n",
    "#plt.show()\n",
    "x,y = df2.iloc[:,0], df2.iloc[:,1]\n",
    "plt.plot(x,y)\n",
    "#df2 =df2['2022-03-01':'2023-03-14']\n",
    "#x = df2['SE-Deg_CO2']\n",
    "#y# = df2['BE-Dor_CO2']\n",
    "\n",
    "#plt.plot(x,y)\n",
    "#plt.show()\n",
    "#x,y\n",
    "\n",
    "\n",
    "#x.info(memory_usage=\"deep\")\n",
    "def nans(df):\n",
    "    for c in df.columns:\n",
    "        x = df[c]\n",
    "        print(c,'\\nnotna: ',x.notna().sum(),'\\nisna: ', x.isna().sum(), len(x),'\\n')\n",
    "\n",
    "def split_df(df,c_ls):\n",
    "    df2 = pd.DataFrame(df)\n",
    "    cols = list(df2.columns)\n",
    "    ls = []\n",
    "    for cc in cols: \n",
    "        s = df2[cc].dropna()\n",
    "        s = s.loc[(s >400) & (s < 410)]\n",
    "        if not s.empty:\n",
    "            ls.append(s)\n",
    "        else: \n",
    "            print(cc)\n",
    "    d = ls #pd.concat(ls)        \n",
    "    \n",
    "    return d\n",
    "        \n",
    "        \n",
    "        \n",
    "#     ls = []\n",
    "#     for c in c_ls:\n",
    "#         if c in cols:\n",
    "#             print(4444,df2[c])\n",
    "    \n",
    "    return \n",
    "#x.dropna(inplace=True)\n",
    "#y.dropna(inplace=True)\n",
    "\n",
    "#x.notna().sum(), x.isna().sum(), len(x)\n",
    "#nans(df2)\n",
    "#plt.plot(x,y)\n",
    "#plt.show()\n",
    "#print(x)\n",
    "\n",
    "#print(546,x.notna()) #df2.columns)\n",
    "#xx = split_df(df2,df2.columns)\n",
    "#xx = pd.concat(xx,axis=1)\n",
    "plt.plot(x,y)\n"
   ]
  },
  {
   "cell_type": "code",
   "execution_count": 52,
   "id": "4d184a6c",
   "metadata": {},
   "outputs": [
    {
     "data": {
      "text/html": [
       "<div>\n",
       "<style scoped>\n",
       "    .dataframe tbody tr th:only-of-type {\n",
       "        vertical-align: middle;\n",
       "    }\n",
       "\n",
       "    .dataframe tbody tr th {\n",
       "        vertical-align: top;\n",
       "    }\n",
       "\n",
       "    .dataframe thead th {\n",
       "        text-align: right;\n",
       "    }\n",
       "</style>\n",
       "<table border=\"1\" class=\"dataframe\">\n",
       "  <thead>\n",
       "    <tr style=\"text-align: right;\">\n",
       "      <th></th>\n",
       "      <th>FR-Bil_SWC_1</th>\n",
       "      <th>FR-Bil_SWC_2</th>\n",
       "      <th>FR-Bil_SWC_3</th>\n",
       "      <th>FR-Bil_SWC_4</th>\n",
       "      <th>UK-AMo_SWC_1</th>\n",
       "    </tr>\n",
       "    <tr>\n",
       "      <th>TIMESTAMP</th>\n",
       "      <th></th>\n",
       "      <th></th>\n",
       "      <th></th>\n",
       "      <th></th>\n",
       "      <th></th>\n",
       "    </tr>\n",
       "  </thead>\n",
       "  <tbody>\n",
       "    <tr>\n",
       "      <th>2023-03-08 00:00:00</th>\n",
       "      <td>13.44</td>\n",
       "      <td>17.340000</td>\n",
       "      <td>10.39</td>\n",
       "      <td>17.379999</td>\n",
       "      <td>75.480003</td>\n",
       "    </tr>\n",
       "    <tr>\n",
       "      <th>2023-03-08 00:30:00</th>\n",
       "      <td>13.48</td>\n",
       "      <td>17.350000</td>\n",
       "      <td>10.39</td>\n",
       "      <td>17.530001</td>\n",
       "      <td>75.480003</td>\n",
       "    </tr>\n",
       "    <tr>\n",
       "      <th>2023-03-08 01:00:00</th>\n",
       "      <td>13.38</td>\n",
       "      <td>17.270000</td>\n",
       "      <td>10.39</td>\n",
       "      <td>17.629999</td>\n",
       "      <td>75.470001</td>\n",
       "    </tr>\n",
       "    <tr>\n",
       "      <th>2023-03-08 01:30:00</th>\n",
       "      <td>13.37</td>\n",
       "      <td>17.240000</td>\n",
       "      <td>10.36</td>\n",
       "      <td>17.629999</td>\n",
       "      <td>75.449997</td>\n",
       "    </tr>\n",
       "    <tr>\n",
       "      <th>2023-03-08 02:00:00</th>\n",
       "      <td>13.23</td>\n",
       "      <td>17.290001</td>\n",
       "      <td>10.33</td>\n",
       "      <td>17.610001</td>\n",
       "      <td>75.430000</td>\n",
       "    </tr>\n",
       "    <tr>\n",
       "      <th>...</th>\n",
       "      <td>...</td>\n",
       "      <td>...</td>\n",
       "      <td>...</td>\n",
       "      <td>...</td>\n",
       "      <td>...</td>\n",
       "    </tr>\n",
       "    <tr>\n",
       "      <th>2023-03-09 21:30:00</th>\n",
       "      <td>12.95</td>\n",
       "      <td>17.760000</td>\n",
       "      <td>11.05</td>\n",
       "      <td>18.850000</td>\n",
       "      <td>75.040001</td>\n",
       "    </tr>\n",
       "    <tr>\n",
       "      <th>2023-03-09 22:00:00</th>\n",
       "      <td>13.00</td>\n",
       "      <td>17.740000</td>\n",
       "      <td>11.02</td>\n",
       "      <td>18.850000</td>\n",
       "      <td>75.040001</td>\n",
       "    </tr>\n",
       "    <tr>\n",
       "      <th>2023-03-09 22:30:00</th>\n",
       "      <td>13.03</td>\n",
       "      <td>17.719999</td>\n",
       "      <td>10.96</td>\n",
       "      <td>18.850000</td>\n",
       "      <td>75.040001</td>\n",
       "    </tr>\n",
       "    <tr>\n",
       "      <th>2023-03-09 23:00:00</th>\n",
       "      <td>13.02</td>\n",
       "      <td>17.719999</td>\n",
       "      <td>10.96</td>\n",
       "      <td>18.850000</td>\n",
       "      <td>75.040001</td>\n",
       "    </tr>\n",
       "    <tr>\n",
       "      <th>2023-03-09 23:30:00</th>\n",
       "      <td>12.97</td>\n",
       "      <td>17.690001</td>\n",
       "      <td>10.97</td>\n",
       "      <td>18.840000</td>\n",
       "      <td>75.040001</td>\n",
       "    </tr>\n",
       "  </tbody>\n",
       "</table>\n",
       "<p>96 rows × 5 columns</p>\n",
       "</div>"
      ],
      "text/plain": [
       "                     FR-Bil_SWC_1  FR-Bil_SWC_2  FR-Bil_SWC_3  FR-Bil_SWC_4  \\\n",
       "TIMESTAMP                                                                     \n",
       "2023-03-08 00:00:00         13.44     17.340000         10.39     17.379999   \n",
       "2023-03-08 00:30:00         13.48     17.350000         10.39     17.530001   \n",
       "2023-03-08 01:00:00         13.38     17.270000         10.39     17.629999   \n",
       "2023-03-08 01:30:00         13.37     17.240000         10.36     17.629999   \n",
       "2023-03-08 02:00:00         13.23     17.290001         10.33     17.610001   \n",
       "...                           ...           ...           ...           ...   \n",
       "2023-03-09 21:30:00         12.95     17.760000         11.05     18.850000   \n",
       "2023-03-09 22:00:00         13.00     17.740000         11.02     18.850000   \n",
       "2023-03-09 22:30:00         13.03     17.719999         10.96     18.850000   \n",
       "2023-03-09 23:00:00         13.02     17.719999         10.96     18.850000   \n",
       "2023-03-09 23:30:00         12.97     17.690001         10.97     18.840000   \n",
       "\n",
       "                     UK-AMo_SWC_1  \n",
       "TIMESTAMP                          \n",
       "2023-03-08 00:00:00     75.480003  \n",
       "2023-03-08 00:30:00     75.480003  \n",
       "2023-03-08 01:00:00     75.470001  \n",
       "2023-03-08 01:30:00     75.449997  \n",
       "2023-03-08 02:00:00     75.430000  \n",
       "...                           ...  \n",
       "2023-03-09 21:30:00     75.040001  \n",
       "2023-03-09 22:00:00     75.040001  \n",
       "2023-03-09 22:30:00     75.040001  \n",
       "2023-03-09 23:00:00     75.040001  \n",
       "2023-03-09 23:30:00     75.040001  \n",
       "\n",
       "[96 rows x 5 columns]"
      ]
     },
     "execution_count": 52,
     "metadata": {},
     "output_type": "execute_result"
    }
   ],
   "source": [
    "cl = df2.columns\n",
    "dd = pd.DataFrame(df2[cl[0:5]])\n",
    "type(dd)\n",
    "dd"
   ]
  },
  {
   "cell_type": "code",
   "execution_count": null,
   "id": "864d4a06",
   "metadata": {},
   "outputs": [],
   "source": [
    "import  os \n",
    "\n",
    "os.getcwd()\n",
    "os.chdir('C:\\\\Users\\\\Anders Dahlner\\\\Documents\\\\GitHub\\\\ad\\\\icos_temp\\\\ad_jupyter\\\\eco_tool')\n",
    "os.getcwd()\n"
   ]
  },
  {
   "cell_type": "code",
   "execution_count": null,
   "id": "a70ed385",
   "metadata": {},
   "outputs": [],
   "source": [
    "d = today.strftime(\"%Y-%m-%d\")\n",
    "print(\"d =\", d)\n",
    "\n"
   ]
  },
  {
   "cell_type": "code",
   "execution_count": null,
   "id": "b6ebf773-53ba-4867-a418-b39540e57c48",
   "metadata": {},
   "outputs": [],
   "source": [
    "import ipywidgets.widgets as wd\n",
    "d = {\"_last_station\": \"CH-Dav\", \n",
    "     \"_last_group\": \"mix\", \n",
    "     \"_groups\": {\"_labels\": \n",
    "                 [\"AMoss\", \"1var\", \"2vars\", \"2stations\", \"1stn2products\", \"2stations2Products\", \"mix\"], \n",
    "                 \"AMoss\": [[\"CO2\", \"ETC NRT Fluxes\", \"UK-AMo\"], \n",
    "                           [\"H\", \"ETC NRT Fluxes\", \"UK-AMo\"], \n",
    "                           [\"G_2\", \"ETC NRT Meteo\", \"UK-AMo\"], \n",
    "                           [\"PPFD_DIF\", \"ETC NRT Meteo\", \"UK-AMo\"], \n",
    "                           [\"G_8_1_1\", \"ETC NRT Meteosens\", \"UK-AMo\"], \n",
    "                           [\"G_9_1_1\", \"ETC NRT Meteosens\", \"UK-AMo\"], \n",
    "                           [\"TA_2_1_1\", \"ETC NRT Meteosens\", \"UK-AMo\"]], \n",
    "                 \"1var\": [[\"W_SIGMA\", \"ETC NRT Fluxes\", \"UK-AMo\"]], \n",
    "                 \"2vars\": [[\"CO2\", \"ETC NRT Fluxes\", \"UK-AMo\"], \n",
    "                           [\"FC\", \"ETC NRT Fluxes\", \"UK-AMo\"]], \n",
    "                 \"2stations\": [[\"FC\", \"ETC NRT Fluxes\", \"UK-AMo\"], \n",
    "                               [\"CO2\", \"ETC NRT Fluxes\", \"CZ-BK1\"]], \n",
    "                 \"1stn2products\": [[\"FC\", \"ETC NRT Fluxes\", \"CZ-BK1\"], \n",
    "                                   [\"RH_5\", \"ETC NRT Meteo\", \"CZ-BK1\"]],\n",
    "                 \"2stations2Products\": [[\"H\", \"ETC NRT Fluxes\", \"CZ-BK1\"], \n",
    "                                        [\"RH_3\", \"ETC NRT Meteo\", \"CZ-BK1\"], \n",
    "                                        [\"CO2\", \"ETC NRT Fluxes\", \"FR-Fon\"], \n",
    "                                        [\"PPFD_BC_IN_3_1_1\", \"ETC NRT Meteosens\", \"FR-Fon\"]], \n",
    "                 \"mix\": [[\"CO2\", \"ETC NRT Fluxes\", \"FR-Fon\"], \n",
    "                         [\"RH_4\", \"ETC NRT Meteo\", \"FR-Fon\"], \n",
    "                         [\"H2O\", \"ETC NRT Fluxes\", \"FR-Fon\"], \n",
    "                         [\"PPFD_BC_IN_4_1_1\", \"ETC NRT Meteosens\", \"FR-Fon\"], \n",
    "                         [\"VPD_2\", \"ETC NRT Meteo\", \"FR-Fon\"], \n",
    "                         [\"FC\", \"ETC NRT Fluxes\", \"CH-Dav\"], \n",
    "                         [\"SWC_1\", \"ETC NRT Meteo\", \"CH-Dav\"], \n",
    "                         [\"SWC_1_1_1\", \"ETC NRT Meteosens\", \"CH-Dav\"], \n",
    "                         [\"H\", \"ETC NRT Fluxes\", \"CH-Dav\"], \n",
    "                         [\"SWC_4\", \"ETC NRT Meteo\", \"CH-Dav\"], \n",
    "                         [\"SWC_4_5_1\", \"ETC NRT Meteosens\", \"CH-Dav\"], \n",
    "                         [\"FC\", \"ETC NRT Fluxes\", \"SE-Htm\"], \n",
    "                         [\"PPFD_BC_IN_15_1_1\", \"ETC NRT Meteosens\", \"SE-Htm\"], \n",
    "                         [\"CO2\", \"ETC NRT Fluxes\", \"SE-Htm\"], \n",
    "                         [\"H_UNCLEANED\", \"ETC NRT Fluxes\", \"CH-Dav\"], \n",
    "                         [\"H2O\", \"ETC NRT Fluxes\", \"CH-Dav\"]]}}\n",
    "g1 = d['_groups']['2vars']"
   ]
  },
  {
   "cell_type": "code",
   "execution_count": null,
   "id": "0595931a-a082-4c5e-a6bb-ef17f66a1722",
   "metadata": {},
   "outputs": [],
   "source": [
    "\n",
    "\n",
    "group_drop = wd.Dropdown(options = d['_groups']['_labels'])\n",
    "display(group_drop)\n",
    "\n",
    "def ccc(c):\n",
    "    print(c)\n",
    "\n",
    "def set_tags(g, v):\n",
    "    wid_ls = []\n",
    "    name_ls = []\n",
    "    \n",
    "    one_stn = len(set(ls[2] for ls in g1)) == 1\n",
    "    one_prod = len(set(ls[1] for ls in g1)) == 1\n",
    "\n",
    "    for ls in v:\n",
    "        tag_name = ls[0]\n",
    "        if not one_prod:\n",
    "            tag_name += ls[1].replace(' ','_')\n",
    "        if not one_stn:\n",
    "            tag_name += ls[2].replace(' ','_')\n",
    "        name_ls.append(tag_name)\n",
    "        c1 = wd.Checkbox(description = ls[0])\n",
    "        c1.observe(ccc,'value')\n",
    "        bt1 = wd.Button(description = ls[0])\n",
    "        bt1.on_click(ccc)\n",
    "        wid_ls.append(c1)\n",
    "        wid_ls.append(bt1)\n",
    "    \n",
    "    label = wd.Label(value = g + ':  ')\n",
    "    tags = wd.TagsInput(allow_duplicates=False, \n",
    "                        value=[], \n",
    "                        allowed_tags =name_ls,\n",
    "                        display = None)\n",
    "    wid_ls.append(tags)\n",
    "    return wd.HBox([label, wd.VBox(wid_ls)])\n",
    "\n",
    "flexy = wd.Layout(width='100%', \n",
    "                  display='inline-flex',\n",
    "                  flex_flow='row wrap',\n",
    "                  align_content='flex-start')\n",
    "\n",
    "box = wd.VBox(layout = flexy)\n",
    "children = []\n",
    "\n",
    "for g in d['_groups']['_labels']:\n",
    "    children.append(set_tags(g, d['_groups'][g]))\n",
    "box.children = children\n",
    "\n",
    "box"
   ]
  },
  {
   "cell_type": "code",
   "execution_count": null,
   "id": "fbfd9745-ac4e-465c-840e-c6c8a61f09a7",
   "metadata": {},
   "outputs": [],
   "source": [
    "    for ls in v:\n",
    "\n",
    "        "
   ]
  },
  {
   "cell_type": "code",
   "execution_count": null,
   "id": "72193a0d-3063-4e81-8279-2be53df97b16",
   "metadata": {},
   "outputs": [],
   "source": [
    "from eco_tool import cache as cache_manager\n",
    "import ipywidgets.widgets as wd\n",
    "\n",
    "from IPython.display import display\n",
    "\n",
    "\n",
    "json_file = 'cache_ES.json'\n",
    "settings_dir = 'appdata'\n",
    "\n",
    "    \n",
    "def load_cache():\n",
    "\n",
    "    try:\n",
    "        c = cache_manager.read(json_file=json_file,\n",
    "                               settings_dir=settings_dir)\n",
    "    except:\n",
    "        # broken cache\n",
    "        c = None\n",
    "\n",
    "    if not c:\n",
    "        c = {'_last_station': '',\n",
    "             '_last_group': '',\n",
    "             '_groups': {'_labels': []}}\n",
    "    return c\n",
    "\n",
    "def init():\n",
    "    group_ls = cache['_groups']['_labels']\n",
    "    tags.value =[]\n",
    "    tags.allowed_tags=[]\n",
    "    layout = wd.Layout(display = 'none')\n",
    "        \n",
    "    if group_ls:\n",
    "        group_drop.options = group_ls\n",
    "        if '_last_group' in cache.keys():\n",
    "            group_drop.value = cache['_last_group']\n",
    "        else: \n",
    "            group_drop.value = group_ls[0]            \n",
    "    else:\n",
    "        group_drop.options = ['First create a group... ']\n",
    "        return False\n",
    "    return True\n",
    "\n",
    "def group_drop_changed(c):\n",
    "    with out:\n",
    "        pass\n",
    "        \n",
    "    \n",
    "def set_var_selection(tool_id):\n",
    "    \n",
    "    grp = group_drop.value\n",
    "    var_ls = cache['_groups'][grp]\n",
    "    \n",
    "    one_stn = len(set(ls[2] for ls in var_ls)) == 1\n",
    "    one_prod = len(set(ls[1] for ls in var_ls)) == 1\n",
    "    \n",
    "    name_ls = []\n",
    "    cb_ls = []\n",
    "    checked_ls = []\n",
    "    \n",
    "    for v_ls in var_ls:\n",
    "        tag_name = v_ls[0]\n",
    "        if not one_prod:\n",
    "            tag_name += ' ' + v_ls[1].replace(' ','_')\n",
    "        if not one_stn:\n",
    "            tag_name += ' ' + v_ls[2].replace(' ','_')\n",
    "        name_ls.append(tag_name)\n",
    "        cb = wd.Checkbox(description = tag_name)\n",
    "        cb.observe(cb_changed,'value')\n",
    "        cb_ls.append(cb)\n",
    "        \n",
    "    cb_box.children = cb_ls\n",
    "    tags.allowed_tags = name_ls\n",
    "    tags.observe(tags_changed,'value')\n",
    "    \n",
    "\n",
    "def cb_changed(c):\n",
    "    with out:\n",
    "        print(c)\n",
    "        print(type(c.owner))\n",
    "    \n",
    "    if c.new:\n",
    "        with out:\n",
    "            print(5555555555555)\n",
    "            print(tags.value)\n",
    "            print(tags.layout)\n",
    "            \n",
    "\n",
    "        tags.value.append(c.owner.description)\n",
    "        \n",
    "        tags.layout.display = 'block'\n",
    "        with out:\n",
    "            print(tags.value)\n",
    "            print(tags.layout)\n",
    "    else:\n",
    "        tags.value.remove(c.owner.description)\n",
    "        if not tags.value:\n",
    "            tags.layout.display = 'none'\n",
    "        \n",
    "#     with out:\n",
    "#         print(tags.value)\n",
    "#         print(c.new, )\n",
    "#         display(c)\n",
    "        \n",
    "def tags_changed(c):\n",
    "    with out:\n",
    "        print(c)\n",
    "        print(type(c.owner))\n",
    "    if c.new:\n",
    "\n",
    "        tags.value.append(c.owner.description)\n",
    "        tags.layout.display = 'block'\n",
    "    else:\n",
    "        tags.value.remove(c.owner.description)\n",
    "        if not tags.value:\n",
    "            tags.layout.display = 'none'\n",
    "        \n",
    "    with out2:\n",
    "        display(tags)        \n",
    "\n",
    "def set_tags(g, v):\n",
    "    \n",
    "    label = wd.Label(value = g + ':  ')\n",
    "    tags.allowed_tags = name_ls\n",
    "    tags.value = [] \n",
    "    \n",
    "    wid_ls.append(tags)\n",
    "    return wd.HBox([label, wd.VBox(wid_ls)])\n",
    "\n",
    "\n",
    "\n",
    "cache = load_cache()\n",
    "\n",
    "# layouts\n",
    "flexy = wd.Layout(width='100%', \n",
    "                  display='inline-flex',\n",
    "                  flex_flow='row wrap',\n",
    "                  align_content='flex-start')\n",
    "\n",
    "# widgets logic \n",
    "# 1. Tab for group run settings and general settings \n",
    "# Tab 1 group run settings\n",
    "# 2 select group \n",
    "# 3 create or update runsetting buttons \n",
    "# 4 user choose tool.\n",
    "# Tab 2 general settings. How much data is fetched \n",
    "# \n",
    "\n",
    "\n",
    "group_drop = wd.Dropdown()\n",
    "tags = wd.TagsInput(allow_duplicates=False,\n",
    "                    layout=wd.Layout(display = 'none'),\n",
    "                    tag_style = 'info')\n",
    "cb_box = wd.Box(layout = flexy)\n",
    "\n",
    "valid_groups = init()\n",
    "out = wd.Output()\n",
    "out2 = wd.Output()\n",
    "\n",
    "display(group_drop,out)\n",
    "\n",
    "\n",
    "if not valid_groups:\n",
    "    pass\n",
    "# Create group buttons\n",
    "new_run_seeting_btn = wd.Button(description='New', icon='plus',\n",
    "                             button_style='primary')\n",
    "update_group_btn = wd.Button(description='Update', icon='pen',\n",
    "                             button_style='info')\n",
    "save_group_btn = wd.Button(description='Save', icon='save',\n",
    "                           button_style='success')\n",
    "cancel_group_btn = wd.Button(description='Cancel', icon='ban',\n",
    "                             button_style='info')\n",
    "delete_group_btn = wd.Button(description='Delete', icon='trash',\n",
    "                             button_style='danger')\n",
    "create_btns = wd.HBox([new_run_seeting_btn, update_group_btn])\n",
    "\n",
    "\n",
    "\n",
    "var_selection('init')\n",
    "\n",
    "with out:\n",
    "    display(cb_box)\n",
    "with out2:\n",
    "    display(tags)\n",
    "    \n",
    "\n",
    "#box = wd.VBox(layout = flexy)\n",
    "#children = []\n",
    "\n",
    "#for g in d['_groups']['_labels']:\n",
    "#    children.append(set_tags(g, d['_groups'][g]))\n",
    "#box.children = children\n",
    "\n",
    "#box\n",
    "\n",
    "#tags = wd.TagsInput(allow_duplicates=False, \n",
    "##                    value=['a','asdf','asdfas'], \n",
    "#                    layout = wd.Layout(display = ''),\n",
    "#                    tag_style = 'info')\n",
    "#display(tags)\n",
    "\n"
   ]
  },
  {
   "cell_type": "code",
   "execution_count": null,
   "id": "dc434238-a3bb-4faa-838b-c0a6d00cbd69",
   "metadata": {},
   "outputs": [],
   "source": [
    "from eco_tool import cache as cache_manager\n",
    "import ipywidgets.widgets as wd\n",
    "\n",
    "from IPython.display import display, clear_output\n",
    "\n",
    "\n",
    "json_file = 'cache_ES.json'\n",
    "settings_dir = 'appdata'\n",
    "\n",
    "    \n",
    "def load_cache():\n",
    "    try:\n",
    "        c = cache_manager.read(json_file=json_file,\n",
    "                               settings_dir=settings_dir)\n",
    "    except:\n",
    "        # broken cache\n",
    "        c = None\n",
    "    if not c:\n",
    "        c = {'_last_station': '',\n",
    "             '_last_group': '',\n",
    "             '_groups': {'_labels': []}}\n",
    "    return c\n",
    "\n",
    "def init():\n",
    "    group_ls = cache['_groups']['_labels']\n",
    "    tags.value =[]\n",
    "    tags.allowed_tags=[]\n",
    "    layout = wd.Layout(display = 'none')\n",
    "        \n",
    "    if group_ls:\n",
    "        group_drop.options = group_ls\n",
    "        if '_last_group' in cache.keys():\n",
    "            group_drop.value = cache['_last_group']\n",
    "        else: \n",
    "            group_drop.value = group_ls[0]            \n",
    "    else:\n",
    "        group_drop.options = ['First create a group... ']\n",
    "        return False\n",
    "    return True\n",
    "\n",
    "def group_drop_changed(c):\n",
    "    clear_output()\n",
    "    tags.value = []\n",
    "    tags.allowed_tags = []\n",
    "    var_selection()\n",
    "    \n",
    "    \n",
    "def var_selection():\n",
    "    grp = group_drop.value\n",
    "    #tool = tools.value\n",
    "    \n",
    "    if '_run_settings' in cache.keys() and grp in  cache['_run_settings'].keys():\n",
    "        tool_settings_ls = cache['_run_settings'][grp]\n",
    "        var_ls \n",
    "    \n",
    "    \n",
    "    var_ls = cache['_groups'][grp]\n",
    "    \n",
    "    one_stn = len(set(ls[2] for ls in var_ls)) == 1\n",
    "    one_prod = len(set(ls[1] for ls in var_ls)) == 1\n",
    "    \n",
    "    name_ls = []\n",
    "    \n",
    "    for v_ls in var_ls:\n",
    "        tag_name = v_ls[0]\n",
    "        if not one_prod:\n",
    "            tag_name += ' ' + v_ls[1].replace(' ','_')\n",
    "        if not one_stn:\n",
    "            tag_name += ' ' + v_ls[2].replace(' ','_')\n",
    "        name_ls.append(tag_name)\n",
    "\n",
    "    bt1 = wd.Button(description = ' reload all  ', icon='refresh', button_style='info')\n",
    "    bt2 = wd.Button(description = ' select all  ', icon='plus-square-o', button_style='info')\n",
    "    bt3 = wd.Button(description = ' deselect all  ', icon='square-o', button_style='info')\n",
    "    btns = wd.HBox([bt1,bt2,bt3])\n",
    "    \n",
    "    bt1.on_click(restore_tags)\n",
    "    bt2.on_click(restore_tags)\n",
    "    bt3.on_click(restore_tags)\n",
    "    tags.value = name_ls\n",
    "    tags.allowed_tags = name_ls\n",
    "    tags.observe(tags_changed,'value')\n",
    "    \n",
    "    return wd.VBox([tags, btns])\n",
    "    \n",
    "\n",
    "def restore_tags (c):\n",
    "    tags.value = tags.allowed_tags\n",
    "\n",
    "\n",
    "cache = load_cache()\n",
    "\n",
    "group_drop = wd.Dropdown()\n",
    "run_settings = wd.Dropdown()\n",
    "\n",
    "tags = wd.TagsInput(allow_duplicates=False,\n",
    "                    layout=wd.Layout(display = 'block'), #'none'\n",
    "                    tag_style = 'info')\n",
    "\n",
    "flexy = wd.Layout(width='100%', \n",
    "                  display='inline-flex',\n",
    "                  flex_flow='row wrap',\n",
    "                  align_content='flex-start')\n",
    "\n",
    "group_drop.observe(group_drop_changed, \n",
    "                   names='value')\n",
    "\n",
    "valid_groups = init()\n",
    "\n",
    "out = wd.Output()\n",
    "display(group_drop,out)\n",
    "\n",
    "\n",
    "if not valid_groups:\n",
    "    pass\n",
    "\n",
    "group_drop\n",
    "\n",
    "display(var_selection())\n",
    "\n",
    "\n"
   ]
  },
  {
   "cell_type": "code",
   "execution_count": null,
   "id": "be77e950-fd7f-41ef-986e-749bd80cfda3",
   "metadata": {},
   "outputs": [],
   "source": [
    "def tags_changed(c):\n",
    "    if c.name == 'value': \n",
    "        with out: \n",
    "            display(c.new)\n",
    "    \n",
    "tags = wd.TagsInput(allow_duplicates=False, \n",
    "                    value=['asdf','asdfas'], \n",
    "                    allowed_tags=['a','asdf','asdfas'], \n",
    "                    layout = wd.Layout(display = ''),\n",
    "                    tag_style = 'info')\n",
    "tags.observe(tags_changed)\n",
    "\n",
    "out = wd.Output()\n",
    "tags\n",
    "display(out,tags)"
   ]
  },
  {
   "cell_type": "code",
   "execution_count": null,
   "id": "2860a89d-1632-4fe3-b0ca-efc243a93d9e",
   "metadata": {},
   "outputs": [],
   "source": [
    "tags.value\n"
   ]
  },
  {
   "cell_type": "code",
   "execution_count": null,
   "id": "2758385d-fdc0-42dc-b0f7-80ea75a36486",
   "metadata": {},
   "outputs": [],
   "source": []
  },
  {
   "cell_type": "code",
   "execution_count": null,
   "id": "89a22638",
   "metadata": {},
   "outputs": [],
   "source": [
    "import datetime as dt\n",
    "date_1 = today = dt.date.today()\n",
    "\n",
    "date_2 = date_1 + dt.timedelta(days=-21)\n",
    "\n",
    "# from ipywidgets import widgets as wd\n",
    "# from IPython.display import display\n",
    "# val = '2023-01-30'\n",
    "# d = wd.DatePicker(value = today)\n",
    "# display(d)\n",
    "# d.values"
   ]
  },
  {
   "cell_type": "code",
   "execution_count": null,
   "id": "a7d4a5a6",
   "metadata": {},
   "outputs": [],
   "source": [
    "pid_ls\n",
    "Dobj(pid_ls[1]).meta\n",
    "ls = [('SWC_1', pid_ls[1]),('SWC_2', pid_ls[1]),('SWC_3', pid_ls[1]),\n",
    "      ('SWC_4', pid_ls[1]),('SWC_5', pid_ls[1]),('SWC_6', pid_ls[1]),('P', pid_ls[1])]\n",
    "df = s.group_ts(var_tuple_ls=ls)\n"
   ]
  },
  {
   "cell_type": "code",
   "execution_count": null,
   "id": "3eeb9600",
   "metadata": {},
   "outputs": [],
   "source": []
  },
  {
   "cell_type": "code",
   "execution_count": null,
   "id": "d88f1193",
   "metadata": {},
   "outputs": [],
   "source": [
    "f1 = plt.plot(df.iloc[:,0],df.iloc[:,1])\n",
    "f2 = plt.plot(df.iloc[:,0],df.iloc[:,0])\n",
    "\n",
    "f3 = plt.plot(df.iloc[:,0],df.iloc[:,3])\n",
    "# plt.plot(df.iloc[:,1],df.iloc[:,4])\n",
    "# plt.plot(df.iloc[:,1],df.iloc[:,5])\n",
    "# plt.plot(df.iloc[:,1],df.iloc[:,6])\n",
    "\n",
    "for x in f1:\n",
    "    print(x)"
   ]
  },
  {
   "cell_type": "code",
   "execution_count": null,
   "id": "b5b96c49",
   "metadata": {},
   "outputs": [],
   "source": [
    "d = {'a':1, 'B':5}\n",
    "d.pop('Ba')"
   ]
  },
  {
   "cell_type": "code",
   "execution_count": null,
   "id": "b6f84bcc",
   "metadata": {},
   "outputs": [],
   "source": [
    "b = d.get('aa',None)\n",
    "b"
   ]
  },
  {
   "cell_type": "code",
   "execution_count": null,
   "id": "d3c7275b",
   "metadata": {},
   "outputs": [],
   "source": [
    "d"
   ]
  },
  {
   "cell_type": "code",
   "execution_count": null,
   "id": "0b6db2cd",
   "metadata": {},
   "outputs": [],
   "source": [
    "d.clear()"
   ]
  },
  {
   "cell_type": "code",
   "execution_count": null,
   "id": "e6a06e36",
   "metadata": {},
   "outputs": [],
   "source": []
  }
 ],
 "metadata": {
  "kernelspec": {
   "display_name": "Python 3 (ipykernel)",
   "language": "python",
   "name": "python3"
  },
  "language_info": {
   "codemirror_mode": {
    "name": "ipython",
    "version": 3
   },
   "file_extension": ".py",
   "mimetype": "text/x-python",
   "name": "python",
   "nbconvert_exporter": "python",
   "pygments_lexer": "ipython3",
   "version": "3.10.6"
  },
  "widgets": {
   "application/vnd.jupyter.widget-state+json": {
    "state": {
     "0896fc5f2c3943638ea7f02907eec4c1": {
      "model_module": "@jupyter-widgets/base",
      "model_module_version": "2.0.0",
      "model_name": "LayoutModel",
      "state": {}
     },
     "0906a3d5ccb54c5286b8b7e147dbba60": {
      "model_module": "@jupyter-widgets/controls",
      "model_module_version": "2.0.0",
      "model_name": "HTMLStyleModel",
      "state": {
       "description_width": "",
       "font_size": null,
       "text_color": null
      }
     },
     "0ac88596fae44ff0b4ae92f5f9cbed94": {
      "model_module": "@jupyter-widgets/output",
      "model_module_version": "1.0.0",
      "model_name": "OutputModel",
      "state": {
       "layout": "IPY_MODEL_79252a0646df444980ce2829391b2f0f",
       "outputs": [
        {
         "name": "stdout",
         "output_type": "stream",
         "text": "{'name': 'value', 'old': 'sss', 'new': 'dfg', 'owner': Dropdown(index=4, options=('aa', 'vv', 'ss', 'ssss', 'dfg', 'sss'), value='dfg'), 'type': 'change'} None\n"
        }
       ]
      }
     },
     "0d2dec756dfe456cb81e47e4531a562b": {
      "model_module": "@jupyter-widgets/controls",
      "model_module_version": "2.0.0",
      "model_name": "HTMLStyleModel",
      "state": {
       "description_width": "",
       "font_size": null,
       "text_color": null
      }
     },
     "0d4e21629f394bb2bf626ece27cc8b57": {
      "model_module": "@jupyter-widgets/controls",
      "model_module_version": "2.0.0",
      "model_name": "HTMLModel",
      "state": {
       "layout": "IPY_MODEL_321dc46048074f3b9cafcba3ee98a09f",
       "style": "IPY_MODEL_0e34f912502b4d688bbe7247edc27648",
       "value": "universe"
      }
     },
     "0e34f912502b4d688bbe7247edc27648": {
      "model_module": "@jupyter-widgets/controls",
      "model_module_version": "2.0.0",
      "model_name": "HTMLStyleModel",
      "state": {
       "description_width": "",
       "font_size": null,
       "text_color": null
      }
     },
     "0f7767a7a80d448eba3db5658d54d6cc": {
      "model_module": "@jupyter-widgets/controls",
      "model_module_version": "2.0.0",
      "model_name": "DescriptionStyleModel",
      "state": {
       "description_width": ""
      }
     },
     "119f00bbbdfe4bc5afe100fc35d30d81": {
      "model_module": "@jupyter-widgets/controls",
      "model_module_version": "2.0.0",
      "model_name": "DropdownModel",
      "state": {
       "_options_labels": [
        "lines",
        "lines+markers",
        "markers"
       ],
       "index": 0,
       "layout": "IPY_MODEL_1636c1a52b3a4b9f999399ae4ae66f2c",
       "style": "IPY_MODEL_719a5babc7e14437b5ef66c93b8d43b0"
      }
     },
     "1636c1a52b3a4b9f999399ae4ae66f2c": {
      "model_module": "@jupyter-widgets/base",
      "model_module_version": "2.0.0",
      "model_name": "LayoutModel",
      "state": {}
     },
     "19882d2593df45d9a84fb3449fe397a0": {
      "model_module": "@jupyter-widgets/controls",
      "model_module_version": "2.0.0",
      "model_name": "VBoxModel",
      "state": {
       "children": [
        "IPY_MODEL_63656f521f4d43e59b423cda29111ac7",
        "IPY_MODEL_da384a2bb301404aafa076ab7198e37d",
        "IPY_MODEL_40a729d5c92843e68b36da3034a38c3d"
       ],
       "layout": "IPY_MODEL_c6e203e21b2d488686c9eb2e53cd4dff"
      }
     },
     "1c0dabb4cb504be8b6d01239e8724c5c": {
      "model_module": "@jupyter-widgets/base",
      "model_module_version": "2.0.0",
      "model_name": "LayoutModel",
      "state": {
       "border_bottom": "1px solid",
       "border_left": "1px solid",
       "border_right": "1px solid",
       "border_top": "1px solid"
      }
     },
     "1d1ea411462b4d40a1a707d3783122f2": {
      "model_module": "@jupyter-widgets/controls",
      "model_module_version": "2.0.0",
      "model_name": "VBoxModel",
      "state": {
       "children": [
        "IPY_MODEL_d8f681a8b5a945558c0771249afbbf9b",
        "IPY_MODEL_5a9e7cdff1784cda954a4fa27ef01595",
        "IPY_MODEL_885af2c441bc42fc9627f4e2ddf4b295"
       ],
       "layout": "IPY_MODEL_356614f39fa24f7e84974ce5c2530f21"
      }
     },
     "1f74bb634096480a848f2f4cd5b1d96d": {
      "model_module": "@jupyter-widgets/base",
      "model_module_version": "2.0.0",
      "model_name": "LayoutModel",
      "state": {}
     },
     "250bc5ad86aa4ed082515e11f8acb70a": {
      "model_module": "@jupyter-widgets/base",
      "model_module_version": "2.0.0",
      "model_name": "LayoutModel",
      "state": {}
     },
     "25bc8db9398e44318badb0eb48ef99d4": {
      "model_module": "@jupyter-widgets/controls",
      "model_module_version": "2.0.0",
      "model_name": "VBoxModel",
      "state": {
       "children": [
        "IPY_MODEL_8570fdbc41854dc0862bd4aae57a69b2",
        "IPY_MODEL_a498a63e8f5c4755becf452326d737e2",
        "IPY_MODEL_5d97d87e02ff40caac75d712eb6f627f"
       ],
       "layout": "IPY_MODEL_868dd16410494b99a2be46e5c1b0ce58"
      }
     },
     "26d10b94379d4967b4d009c7c64363e1": {
      "model_module": "@jupyter-widgets/base",
      "model_module_version": "2.0.0",
      "model_name": "LayoutModel",
      "state": {}
     },
     "321dc46048074f3b9cafcba3ee98a09f": {
      "model_module": "@jupyter-widgets/base",
      "model_module_version": "2.0.0",
      "model_name": "LayoutModel",
      "state": {}
     },
     "356614f39fa24f7e84974ce5c2530f21": {
      "model_module": "@jupyter-widgets/base",
      "model_module_version": "2.0.0",
      "model_name": "LayoutModel",
      "state": {
       "border_bottom": "1px solid",
       "border_left": "1px solid",
       "border_right": "1px solid",
       "border_top": "1px solid"
      }
     },
     "36c2769025ba4ecaa583993d098be4b9": {
      "model_module": "@jupyter-widgets/base",
      "model_module_version": "2.0.0",
      "model_name": "LayoutModel",
      "state": {}
     },
     "37764d2304c046048c68dbd6d56015a4": {
      "model_module": "@jupyter-widgets/base",
      "model_module_version": "2.0.0",
      "model_name": "LayoutModel",
      "state": {}
     },
     "3b9355c562f4439aa1afd39d71a352f1": {
      "model_module": "@jupyter-widgets/controls",
      "model_module_version": "2.0.0",
      "model_name": "HTMLModel",
      "state": {
       "layout": "IPY_MODEL_ef008d368be94efaa2bc238a52be202a",
       "style": "IPY_MODEL_dd3decbe854741eea26e7b3efe9d1b62",
       "value": "<b>Buttons</b>"
      }
     },
     "405b3f5d4eba4984ab8e1f89491355e4": {
      "model_module": "@jupyter-widgets/base",
      "model_module_version": "2.0.0",
      "model_name": "LayoutModel",
      "state": {}
     },
     "40a729d5c92843e68b36da3034a38c3d": {
      "model_module": "@jupyter-widgets/controls",
      "model_module_version": "2.0.0",
      "model_name": "ButtonModel",
      "state": {
       "description": "Click me!",
       "layout": "IPY_MODEL_0896fc5f2c3943638ea7f02907eec4c1",
       "style": "IPY_MODEL_c566756fb39646aba6caef313de0b7c3",
       "tooltip": null
      }
     },
     "4468e90394a6418bb81f272e803fe9bc": {
      "model_module": "@jupyter-widgets/controls",
      "model_module_version": "2.0.0",
      "model_name": "DescriptionStyleModel",
      "state": {
       "description_width": ""
      }
     },
     "452d97b7f3504c45935c0a25144bdea5": {
      "model_module": "@jupyter-widgets/base",
      "model_module_version": "2.0.0",
      "model_name": "LayoutModel",
      "state": {}
     },
     "46f3ce636d1c4323b9b55719de7d003b": {
      "model_module": "@jupyter-widgets/base",
      "model_module_version": "2.0.0",
      "model_name": "LayoutModel",
      "state": {}
     },
     "490bee57b2884289815578ca27c647f9": {
      "model_module": "@jupyter-widgets/controls",
      "model_module_version": "2.0.0",
      "model_name": "ButtonStyleModel",
      "state": {
       "font_family": null,
       "font_size": null,
       "font_style": null,
       "font_variant": null,
       "font_weight": null,
       "text_color": null,
       "text_decoration": null
      }
     },
     "4d3040613b6946df8a40711d60d0aff3": {
      "model_module": "@jupyter-widgets/base",
      "model_module_version": "2.0.0",
      "model_name": "LayoutModel",
      "state": {}
     },
     "51136b4bf56945818877f26537e233b7": {
      "model_module": "@jupyter-widgets/base",
      "model_module_version": "2.0.0",
      "model_name": "LayoutModel",
      "state": {}
     },
     "5261b5adda1f49be85b84a9a278c74e8": {
      "model_module": "@jupyter-widgets/controls",
      "model_module_version": "2.0.0",
      "model_name": "HBoxModel",
      "state": {
       "children": [
        "IPY_MODEL_e8cc7b1c0b384ba6b7cdd0257027b01f",
        "IPY_MODEL_c7127ca4aebe436d93e80bf8ccd64527"
       ],
       "layout": "IPY_MODEL_b4a050e0f9c24079ae48f83b157646e1"
      }
     },
     "52ae2b1ad33e4b6c83a15097ef6e591e": {
      "model_module": "@jupyter-widgets/controls",
      "model_module_version": "2.0.0",
      "model_name": "DropdownModel",
      "state": {
       "_options_labels": [
        "lines",
        "lines+markers",
        "markers"
       ],
       "index": 0,
       "layout": "IPY_MODEL_6568a76bd3b649daaf7f43bf33fc40b1",
       "style": "IPY_MODEL_645ced0fbe0b4a9591b734225e6d2822"
      }
     },
     "53853111651647d68f9e594c78afab1c": {
      "model_module": "@jupyter-widgets/controls",
      "model_module_version": "2.0.0",
      "model_name": "HTMLStyleModel",
      "state": {
       "description_width": "",
       "font_size": null,
       "text_color": null
      }
     },
     "560272ef9c014eb9805eb215d7acc450": {
      "model_module": "@jupyter-widgets/output",
      "model_module_version": "1.0.0",
      "model_name": "OutputModel",
      "state": {
       "layout": "IPY_MODEL_e296cb1a8b9a411e8b625e822c10983a",
       "outputs": [
        {
         "name": "stdout",
         "output_type": "stream",
         "text": "Hi!\nHi!\nHi!\n"
        }
       ]
      }
     },
     "59f0f190f9ef4d78b422745a8d6cef14": {
      "model_module": "@jupyter-widgets/base",
      "model_module_version": "2.0.0",
      "model_name": "LayoutModel",
      "state": {}
     },
     "5a9e7cdff1784cda954a4fa27ef01595": {
      "model_module": "@jupyter-widgets/controls",
      "model_module_version": "2.0.0",
      "model_name": "HTMLModel",
      "state": {
       "layout": "IPY_MODEL_ab74a969ff7e456e87650466192dc2ea",
       "style": "IPY_MODEL_b6075989508841c5903025132c393fd7",
       "value": "world"
      }
     },
     "5d2d5b007b8949d5b9cfe5c7cebe0853": {
      "model_module": "@jupyter-widgets/controls",
      "model_module_version": "2.0.0",
      "model_name": "ButtonModel",
      "state": {
       "description": "Click me!",
       "layout": "IPY_MODEL_a2e5766def1c4641ba2f4c90a5ffeaf5",
       "style": "IPY_MODEL_7ecaa7daaa094470bc880297c497f06c",
       "tooltip": null
      }
     },
     "5d97d87e02ff40caac75d712eb6f627f": {
      "model_module": "@jupyter-widgets/controls",
      "model_module_version": "2.0.0",
      "model_name": "HTMLModel",
      "state": {
       "layout": "IPY_MODEL_cde1fe018e3040c2bb17c3a819081b8c",
       "style": "IPY_MODEL_a21a6b415a86465eb8a6ccb1f22e8d72",
       "value": "goodbye"
      }
     },
     "62014e2d17144f54a1ac9e33d05e3ec0": {
      "model_module": "@jupyter-widgets/controls",
      "model_module_version": "2.0.0",
      "model_name": "VBoxModel",
      "state": {
       "children": [
        "IPY_MODEL_c40d4ffd74784fcba0b8d5147c46e1cc",
        "IPY_MODEL_e265370a62ae4896bbeb4e79b4cce0d5",
        "IPY_MODEL_9f03765fa0a84a2d8269b7b4b12a18f8"
       ],
       "layout": "IPY_MODEL_d00b680f7d344012bf695caee8ff86a4"
      }
     },
     "63656f521f4d43e59b423cda29111ac7": {
      "model_module": "@jupyter-widgets/controls",
      "model_module_version": "2.0.0",
      "model_name": "HTMLModel",
      "state": {
       "layout": "IPY_MODEL_405b3f5d4eba4984ab8e1f89491355e4",
       "style": "IPY_MODEL_728694a47a444ee88615d4737021d5bc",
       "value": "<b>Buttons</b>"
      }
     },
     "64387471b2ea40a68a8c4bf103fd760c": {
      "model_module": "@jupyter-widgets/controls",
      "model_module_version": "2.0.0",
      "model_name": "VBoxModel",
      "state": {
       "children": [
        "IPY_MODEL_b7ec707282e04942aa51c37e20e485d0",
        "IPY_MODEL_a9861b2776974412b15c8d067b5cae65",
        "IPY_MODEL_0d4e21629f394bb2bf626ece27cc8b57"
       ],
       "layout": "IPY_MODEL_1c0dabb4cb504be8b6d01239e8724c5c"
      }
     },
     "645ced0fbe0b4a9591b734225e6d2822": {
      "model_module": "@jupyter-widgets/controls",
      "model_module_version": "2.0.0",
      "model_name": "DescriptionStyleModel",
      "state": {
       "description_width": ""
      }
     },
     "64f34374fb274d52ab13a573045dc5ff": {
      "model_module": "@jupyter-widgets/controls",
      "model_module_version": "2.0.0",
      "model_name": "ButtonStyleModel",
      "state": {
       "font_family": null,
       "font_size": null,
       "font_style": null,
       "font_variant": null,
       "font_weight": null,
       "text_color": null,
       "text_decoration": null
      }
     },
     "6568a76bd3b649daaf7f43bf33fc40b1": {
      "model_module": "@jupyter-widgets/base",
      "model_module_version": "2.0.0",
      "model_name": "LayoutModel",
      "state": {}
     },
     "694a85f3e5ed490aa6bde139302d3b49": {
      "model_module": "@jupyter-widgets/controls",
      "model_module_version": "2.0.0",
      "model_name": "DescriptionStyleModel",
      "state": {
       "description_width": ""
      }
     },
     "6beb2962e68c4573a51113bea48f7e5e": {
      "model_module": "@jupyter-widgets/controls",
      "model_module_version": "2.0.0",
      "model_name": "HBoxModel",
      "state": {
       "children": [
        "IPY_MODEL_e802e3a94f17429d98fd713036c3a890"
       ],
       "layout": "IPY_MODEL_847fb075871b41a2b56b6c1539b9217a"
      }
     },
     "6bf2a6b4628c46cd912300f499d653d8": {
      "model_module": "@jupyter-widgets/controls",
      "model_module_version": "2.0.0",
      "model_name": "ButtonModel",
      "state": {
       "description": "Click me!",
       "layout": "IPY_MODEL_aa5c88db262f4c25a9398cc2106ef044",
       "style": "IPY_MODEL_e2fb8f94394f42aabaa965cdf114c2a9",
       "tooltip": null
      }
     },
     "6f1152084fae48d2a364bad497cc2500": {
      "model_module": "@jupyter-widgets/base",
      "model_module_version": "2.0.0",
      "model_name": "LayoutModel",
      "state": {}
     },
     "70d4e4dbee2a4346806d4224df68dcfc": {
      "model_module": "@jupyter-widgets/base",
      "model_module_version": "2.0.0",
      "model_name": "LayoutModel",
      "state": {}
     },
     "719a5babc7e14437b5ef66c93b8d43b0": {
      "model_module": "@jupyter-widgets/controls",
      "model_module_version": "2.0.0",
      "model_name": "DescriptionStyleModel",
      "state": {
       "description_width": ""
      }
     },
     "7206349021074945a50296cbf101966c": {
      "model_module": "@jupyter-widgets/base",
      "model_module_version": "2.0.0",
      "model_name": "LayoutModel",
      "state": {}
     },
     "728694a47a444ee88615d4737021d5bc": {
      "model_module": "@jupyter-widgets/controls",
      "model_module_version": "2.0.0",
      "model_name": "HTMLStyleModel",
      "state": {
       "description_width": "",
       "font_size": null,
       "text_color": null
      }
     },
     "7818b4e85a42431cbd0e96a50970968c": {
      "model_module": "@jupyter-widgets/controls",
      "model_module_version": "2.0.0",
      "model_name": "DatetimeModel",
      "state": {
       "layout": "IPY_MODEL_4d3040613b6946df8a40711d60d0aff3",
       "style": "IPY_MODEL_694a85f3e5ed490aa6bde139302d3b49"
      }
     },
     "79252a0646df444980ce2829391b2f0f": {
      "model_module": "@jupyter-widgets/base",
      "model_module_version": "2.0.0",
      "model_name": "LayoutModel",
      "state": {}
     },
     "7a46a9e526584188996c5180f223bb34": {
      "model_module": "@jupyter-widgets/base",
      "model_module_version": "2.0.0",
      "model_name": "LayoutModel",
      "state": {}
     },
     "7ecaa7daaa094470bc880297c497f06c": {
      "model_module": "@jupyter-widgets/controls",
      "model_module_version": "2.0.0",
      "model_name": "ButtonStyleModel",
      "state": {
       "font_family": null,
       "font_size": null,
       "font_style": null,
       "font_variant": null,
       "font_weight": null,
       "text_color": null,
       "text_decoration": null
      }
     },
     "82f3287fcf714daf86e8218b23cd4fec": {
      "model_module": "@jupyter-widgets/base",
      "model_module_version": "2.0.0",
      "model_name": "LayoutModel",
      "state": {}
     },
     "846c90c3364641618b60c31d234149e5": {
      "model_module": "@jupyter-widgets/output",
      "model_module_version": "1.0.0",
      "model_name": "OutputModel",
      "state": {
       "layout": "IPY_MODEL_d38d92c553174adfb41bf93ac58844bf",
       "outputs": [
        {
         "data": {
          "application/vnd.jupyter.widget-view+json": {
           "model_id": "e802e3a94f17429d98fd713036c3a890",
           "version_major": 2,
           "version_minor": 0
          },
          "text/plain": "Button(description='aa', style=ButtonStyle())"
         },
         "metadata": {},
         "output_type": "display_data"
        }
       ]
      }
     },
     "847fb075871b41a2b56b6c1539b9217a": {
      "model_module": "@jupyter-widgets/base",
      "model_module_version": "2.0.0",
      "model_name": "LayoutModel",
      "state": {}
     },
     "8570fdbc41854dc0862bd4aae57a69b2": {
      "model_module": "@jupyter-widgets/controls",
      "model_module_version": "2.0.0",
      "model_name": "HTMLModel",
      "state": {
       "layout": "IPY_MODEL_46f3ce636d1c4323b9b55719de7d003b",
       "style": "IPY_MODEL_bc6ee921197544d0933d4a930369238a",
       "value": "<b>Col1</b>"
      }
     },
     "868dd16410494b99a2be46e5c1b0ce58": {
      "model_module": "@jupyter-widgets/base",
      "model_module_version": "2.0.0",
      "model_name": "LayoutModel",
      "state": {
       "border_bottom": "1px solid",
       "border_left": "1px solid",
       "border_right": "1px solid",
       "border_top": "1px solid"
      }
     },
     "87cf0f2ee0d8421ea9440e8116135a7e": {
      "model_module": "@jupyter-widgets/base",
      "model_module_version": "2.0.0",
      "model_name": "LayoutModel",
      "state": {}
     },
     "885af2c441bc42fc9627f4e2ddf4b295": {
      "model_module": "@jupyter-widgets/controls",
      "model_module_version": "2.0.0",
      "model_name": "HTMLModel",
      "state": {
       "layout": "IPY_MODEL_51136b4bf56945818877f26537e233b7",
       "style": "IPY_MODEL_ae5ed19f9499417eb6e4ecb4ed549731",
       "value": "universe"
      }
     },
     "92e627cd5a3a4862b8886443fe07ca0e": {
      "model_module": "@jupyter-widgets/base",
      "model_module_version": "2.0.0",
      "model_name": "LayoutModel",
      "state": {}
     },
     "942ceef447f1461f951d75c64c6becec": {
      "model_module": "@jupyter-widgets/controls",
      "model_module_version": "2.0.0",
      "model_name": "HTMLStyleModel",
      "state": {
       "description_width": "",
       "font_size": null,
       "text_color": null
      }
     },
     "946e43c4809747d28e06c2a0107b5712": {
      "model_module": "@jupyter-widgets/output",
      "model_module_version": "1.0.0",
      "model_name": "OutputModel",
      "state": {
       "layout": "IPY_MODEL_e81381e1815a4e9cb4f5b44b0e4609ab"
      }
     },
     "9f03765fa0a84a2d8269b7b4b12a18f8": {
      "model_module": "@jupyter-widgets/controls",
      "model_module_version": "2.0.0",
      "model_name": "HTMLModel",
      "state": {
       "layout": "IPY_MODEL_37764d2304c046048c68dbd6d56015a4",
       "style": "IPY_MODEL_a7cea295081045f6b333bd8f0c3249e6",
       "value": "goodbye"
      }
     },
     "a21a6b415a86465eb8a6ccb1f22e8d72": {
      "model_module": "@jupyter-widgets/controls",
      "model_module_version": "2.0.0",
      "model_name": "HTMLStyleModel",
      "state": {
       "description_width": "",
       "font_size": null,
       "text_color": null
      }
     },
     "a2e5766def1c4641ba2f4c90a5ffeaf5": {
      "model_module": "@jupyter-widgets/base",
      "model_module_version": "2.0.0",
      "model_name": "LayoutModel",
      "state": {}
     },
     "a448a1cdb94842e49b1ef62573197fe2": {
      "model_module": "@jupyter-widgets/controls",
      "model_module_version": "2.0.0",
      "model_name": "HTMLStyleModel",
      "state": {
       "description_width": "",
       "font_size": null,
       "text_color": null
      }
     },
     "a498a63e8f5c4755becf452326d737e2": {
      "model_module": "@jupyter-widgets/controls",
      "model_module_version": "2.0.0",
      "model_name": "HTMLModel",
      "state": {
       "layout": "IPY_MODEL_59f0f190f9ef4d78b422745a8d6cef14",
       "style": "IPY_MODEL_0906a3d5ccb54c5286b8b7e147dbba60",
       "value": "hello"
      }
     },
     "a7cea295081045f6b333bd8f0c3249e6": {
      "model_module": "@jupyter-widgets/controls",
      "model_module_version": "2.0.0",
      "model_name": "HTMLStyleModel",
      "state": {
       "description_width": "",
       "font_size": null,
       "text_color": null
      }
     },
     "a7d759cd53d44bc3a73542c7caf82104": {
      "model_module": "@jupyter-widgets/base",
      "model_module_version": "2.0.0",
      "model_name": "LayoutModel",
      "state": {}
     },
     "a9861b2776974412b15c8d067b5cae65": {
      "model_module": "@jupyter-widgets/controls",
      "model_module_version": "2.0.0",
      "model_name": "HTMLModel",
      "state": {
       "layout": "IPY_MODEL_b9d043a10090474fb7dee13eb6f6be1c",
       "style": "IPY_MODEL_a448a1cdb94842e49b1ef62573197fe2",
       "value": "world"
      }
     },
     "aa5c88db262f4c25a9398cc2106ef044": {
      "model_module": "@jupyter-widgets/base",
      "model_module_version": "2.0.0",
      "model_name": "LayoutModel",
      "state": {}
     },
     "ab74a969ff7e456e87650466192dc2ea": {
      "model_module": "@jupyter-widgets/base",
      "model_module_version": "2.0.0",
      "model_name": "LayoutModel",
      "state": {}
     },
     "ade25d7aebb442a6b2dea9fb4195dacf": {
      "model_module": "@jupyter-widgets/base",
      "model_module_version": "2.0.0",
      "model_name": "LayoutModel",
      "state": {
       "border_bottom": "1px solid",
       "border_left": "1px solid",
       "border_right": "1px solid",
       "border_top": "1px solid"
      }
     },
     "ae5ed19f9499417eb6e4ecb4ed549731": {
      "model_module": "@jupyter-widgets/controls",
      "model_module_version": "2.0.0",
      "model_name": "HTMLStyleModel",
      "state": {
       "description_width": "",
       "font_size": null,
       "text_color": null
      }
     },
     "b3314b10a5fe49d6ad8437cbc08fce06": {
      "model_module": "@jupyter-widgets/controls",
      "model_module_version": "2.0.0",
      "model_name": "HTMLStyleModel",
      "state": {
       "description_width": "",
       "font_size": null,
       "text_color": null
      }
     },
     "b4a050e0f9c24079ae48f83b157646e1": {
      "model_module": "@jupyter-widgets/base",
      "model_module_version": "2.0.0",
      "model_name": "LayoutModel",
      "state": {}
     },
     "b6075989508841c5903025132c393fd7": {
      "model_module": "@jupyter-widgets/controls",
      "model_module_version": "2.0.0",
      "model_name": "HTMLStyleModel",
      "state": {
       "description_width": "",
       "font_size": null,
       "text_color": null
      }
     },
     "b7ec707282e04942aa51c37e20e485d0": {
      "model_module": "@jupyter-widgets/controls",
      "model_module_version": "2.0.0",
      "model_name": "HTMLModel",
      "state": {
       "layout": "IPY_MODEL_452d97b7f3504c45935c0a25144bdea5",
       "style": "IPY_MODEL_942ceef447f1461f951d75c64c6becec",
       "value": "<b>Col2</b>"
      }
     },
     "b9d043a10090474fb7dee13eb6f6be1c": {
      "model_module": "@jupyter-widgets/base",
      "model_module_version": "2.0.0",
      "model_name": "LayoutModel",
      "state": {}
     },
     "bc6ee921197544d0933d4a930369238a": {
      "model_module": "@jupyter-widgets/controls",
      "model_module_version": "2.0.0",
      "model_name": "HTMLStyleModel",
      "state": {
       "description_width": "",
       "font_size": null,
       "text_color": null
      }
     },
     "bf679acc13424277934d2807cf9ee27e": {
      "model_module": "@jupyter-widgets/output",
      "model_module_version": "1.0.0",
      "model_name": "OutputModel",
      "state": {
       "layout": "IPY_MODEL_e8be8d2a43794050943d68c22198a83b"
      }
     },
     "c40d4ffd74784fcba0b8d5147c46e1cc": {
      "model_module": "@jupyter-widgets/controls",
      "model_module_version": "2.0.0",
      "model_name": "HTMLModel",
      "state": {
       "layout": "IPY_MODEL_26d10b94379d4967b4d009c7c64363e1",
       "style": "IPY_MODEL_b3314b10a5fe49d6ad8437cbc08fce06",
       "value": "<b>Col1</b>"
      }
     },
     "c566756fb39646aba6caef313de0b7c3": {
      "model_module": "@jupyter-widgets/controls",
      "model_module_version": "2.0.0",
      "model_name": "ButtonStyleModel",
      "state": {
       "font_family": null,
       "font_size": null,
       "font_style": null,
       "font_variant": null,
       "font_weight": null,
       "text_color": null,
       "text_decoration": null
      }
     },
     "c6e203e21b2d488686c9eb2e53cd4dff": {
      "model_module": "@jupyter-widgets/base",
      "model_module_version": "2.0.0",
      "model_name": "LayoutModel",
      "state": {
       "border_bottom": "1px solid",
       "border_left": "1px solid",
       "border_right": "1px solid",
       "border_top": "1px solid"
      }
     },
     "c7127ca4aebe436d93e80bf8ccd64527": {
      "model_module": "@jupyter-widgets/output",
      "model_module_version": "1.0.0",
      "model_name": "OutputModel",
      "state": {
       "layout": "IPY_MODEL_92e627cd5a3a4862b8886443fe07ca0e"
      }
     },
     "caf028f8b54040d5a7190bea618e87a6": {
      "model_module": "@jupyter-widgets/controls",
      "model_module_version": "2.0.0",
      "model_name": "ButtonStyleModel",
      "state": {
       "font_family": null,
       "font_size": null,
       "font_style": null,
       "font_variant": null,
       "font_weight": null,
       "text_color": null,
       "text_decoration": null
      }
     },
     "cc0ad5255e5a4a11859ff82f8fbecfa6": {
      "model_module": "@jupyter-widgets/controls",
      "model_module_version": "2.0.0",
      "model_name": "HBoxModel",
      "state": {
       "children": [
        "IPY_MODEL_f53e7cf07aab43b395d2237091c7729b",
        "IPY_MODEL_560272ef9c014eb9805eb215d7acc450"
       ],
       "layout": "IPY_MODEL_a7d759cd53d44bc3a73542c7caf82104"
      }
     },
     "cde1fe018e3040c2bb17c3a819081b8c": {
      "model_module": "@jupyter-widgets/base",
      "model_module_version": "2.0.0",
      "model_name": "LayoutModel",
      "state": {}
     },
     "d00b680f7d344012bf695caee8ff86a4": {
      "model_module": "@jupyter-widgets/base",
      "model_module_version": "2.0.0",
      "model_name": "LayoutModel",
      "state": {
       "border_bottom": "1px solid",
       "border_left": "1px solid",
       "border_right": "1px solid",
       "border_top": "1px solid"
      }
     },
     "d38d92c553174adfb41bf93ac58844bf": {
      "model_module": "@jupyter-widgets/base",
      "model_module_version": "2.0.0",
      "model_name": "LayoutModel",
      "state": {}
     },
     "d8c459df59c44d25acfdf0d6c8557204": {
      "model_module": "@jupyter-widgets/base",
      "model_module_version": "2.0.0",
      "model_name": "LayoutModel",
      "state": {}
     },
     "d8f681a8b5a945558c0771249afbbf9b": {
      "model_module": "@jupyter-widgets/controls",
      "model_module_version": "2.0.0",
      "model_name": "HTMLModel",
      "state": {
       "layout": "IPY_MODEL_36c2769025ba4ecaa583993d098be4b9",
       "style": "IPY_MODEL_53853111651647d68f9e594c78afab1c",
       "value": "<b>Col2</b>"
      }
     },
     "da384a2bb301404aafa076ab7198e37d": {
      "model_module": "@jupyter-widgets/controls",
      "model_module_version": "2.0.0",
      "model_name": "ButtonModel",
      "state": {
       "description": "Click me!",
       "layout": "IPY_MODEL_70d4e4dbee2a4346806d4224df68dcfc",
       "style": "IPY_MODEL_490bee57b2884289815578ca27c647f9",
       "tooltip": null
      }
     },
     "da6a00284b4f4ae0a49252fefacff670": {
      "model_module": "@jupyter-widgets/controls",
      "model_module_version": "2.0.0",
      "model_name": "VBoxModel",
      "state": {
       "children": [
        "IPY_MODEL_3b9355c562f4439aa1afd39d71a352f1",
        "IPY_MODEL_ef991ecf9ad54c0e8bb3f131cb26ce22",
        "IPY_MODEL_ff7f8af9f3514ba8be50d710e76e8063"
       ],
       "layout": "IPY_MODEL_ade25d7aebb442a6b2dea9fb4195dacf"
      }
     },
     "dc6e6c378a284bbb9a18beb6ea144077": {
      "model_module": "@jupyter-widgets/base",
      "model_module_version": "2.0.0",
      "model_name": "LayoutModel",
      "state": {}
     },
     "dd3decbe854741eea26e7b3efe9d1b62": {
      "model_module": "@jupyter-widgets/controls",
      "model_module_version": "2.0.0",
      "model_name": "HTMLStyleModel",
      "state": {
       "description_width": "",
       "font_size": null,
       "text_color": null
      }
     },
     "e265370a62ae4896bbeb4e79b4cce0d5": {
      "model_module": "@jupyter-widgets/controls",
      "model_module_version": "2.0.0",
      "model_name": "HTMLModel",
      "state": {
       "layout": "IPY_MODEL_1f74bb634096480a848f2f4cd5b1d96d",
       "style": "IPY_MODEL_0d2dec756dfe456cb81e47e4531a562b",
       "value": "hello"
      }
     },
     "e296cb1a8b9a411e8b625e822c10983a": {
      "model_module": "@jupyter-widgets/base",
      "model_module_version": "2.0.0",
      "model_name": "LayoutModel",
      "state": {}
     },
     "e2fb8f94394f42aabaa965cdf114c2a9": {
      "model_module": "@jupyter-widgets/controls",
      "model_module_version": "2.0.0",
      "model_name": "ButtonStyleModel",
      "state": {
       "font_family": null,
       "font_size": null,
       "font_style": null,
       "font_variant": null,
       "font_weight": null,
       "text_color": null,
       "text_decoration": null
      }
     },
     "e5c462e077024d9498fb0e0eb68a0188": {
      "model_module": "@jupyter-widgets/controls",
      "model_module_version": "2.0.0",
      "model_name": "DropdownModel",
      "state": {
       "_options_labels": [
        "aa",
        "vv",
        "ss",
        "ssss",
        "dfg",
        "sss"
       ],
       "index": 5,
       "layout": "IPY_MODEL_dc6e6c378a284bbb9a18beb6ea144077",
       "style": "IPY_MODEL_0f7767a7a80d448eba3db5658d54d6cc"
      }
     },
     "e802e3a94f17429d98fd713036c3a890": {
      "model_module": "@jupyter-widgets/controls",
      "model_module_version": "2.0.0",
      "model_name": "ButtonModel",
      "state": {
       "description": "aa",
       "layout": "IPY_MODEL_82f3287fcf714daf86e8218b23cd4fec",
       "style": "IPY_MODEL_ef822092c8e34ed3b6994a27cc00c801",
       "tooltip": null
      }
     },
     "e81381e1815a4e9cb4f5b44b0e4609ab": {
      "model_module": "@jupyter-widgets/base",
      "model_module_version": "2.0.0",
      "model_name": "LayoutModel",
      "state": {}
     },
     "e8be8d2a43794050943d68c22198a83b": {
      "model_module": "@jupyter-widgets/base",
      "model_module_version": "2.0.0",
      "model_name": "LayoutModel",
      "state": {}
     },
     "e8cc7b1c0b384ba6b7cdd0257027b01f": {
      "model_module": "@jupyter-widgets/controls",
      "model_module_version": "2.0.0",
      "model_name": "HBoxModel",
      "state": {
       "children": [
        "IPY_MODEL_25bc8db9398e44318badb0eb48ef99d4",
        "IPY_MODEL_1d1ea411462b4d40a1a707d3783122f2",
        "IPY_MODEL_19882d2593df45d9a84fb3449fe397a0"
       ],
       "layout": "IPY_MODEL_d8c459df59c44d25acfdf0d6c8557204"
      }
     },
     "ef008d368be94efaa2bc238a52be202a": {
      "model_module": "@jupyter-widgets/base",
      "model_module_version": "2.0.0",
      "model_name": "LayoutModel",
      "state": {}
     },
     "ef822092c8e34ed3b6994a27cc00c801": {
      "model_module": "@jupyter-widgets/controls",
      "model_module_version": "2.0.0",
      "model_name": "ButtonStyleModel",
      "state": {
       "font_family": null,
       "font_size": null,
       "font_style": null,
       "font_variant": null,
       "font_weight": null,
       "text_color": null,
       "text_decoration": null
      }
     },
     "ef991ecf9ad54c0e8bb3f131cb26ce22": {
      "model_module": "@jupyter-widgets/controls",
      "model_module_version": "2.0.0",
      "model_name": "ButtonModel",
      "state": {
       "description": "Click me!",
       "layout": "IPY_MODEL_6f1152084fae48d2a364bad497cc2500",
       "style": "IPY_MODEL_64f34374fb274d52ab13a573045dc5ff",
       "tooltip": null
      }
     },
     "f53e7cf07aab43b395d2237091c7729b": {
      "model_module": "@jupyter-widgets/controls",
      "model_module_version": "2.0.0",
      "model_name": "HBoxModel",
      "state": {
       "children": [
        "IPY_MODEL_62014e2d17144f54a1ac9e33d05e3ec0",
        "IPY_MODEL_64387471b2ea40a68a8c4bf103fd760c",
        "IPY_MODEL_da6a00284b4f4ae0a49252fefacff670"
       ],
       "layout": "IPY_MODEL_87cf0f2ee0d8421ea9440e8116135a7e"
      }
     },
     "f9545163175f4cfb9edd2d5245672a8d": {
      "model_module": "@jupyter-widgets/controls",
      "model_module_version": "2.0.0",
      "model_name": "DropdownModel",
      "state": {
       "_options_labels": [
        "aa",
        "vv",
        "ss",
        "ssss",
        "dfg",
        "sss"
       ],
       "index": 4,
       "layout": "IPY_MODEL_7a46a9e526584188996c5180f223bb34",
       "style": "IPY_MODEL_4468e90394a6418bb81f272e803fe9bc"
      }
     },
     "fbcc85d0018f4f2198aabc1e125d6d1c": {
      "model_module": "@jupyter-widgets/output",
      "model_module_version": "1.0.0",
      "model_name": "OutputModel",
      "state": {
       "layout": "IPY_MODEL_250bc5ad86aa4ed082515e11f8acb70a"
      }
     },
     "ff7f8af9f3514ba8be50d710e76e8063": {
      "model_module": "@jupyter-widgets/controls",
      "model_module_version": "2.0.0",
      "model_name": "ButtonModel",
      "state": {
       "description": "Click me!",
       "layout": "IPY_MODEL_7206349021074945a50296cbf101966c",
       "style": "IPY_MODEL_caf028f8b54040d5a7190bea618e87a6",
       "tooltip": null
      }
     }
    },
    "version_major": 2,
    "version_minor": 0
   }
  }
 },
 "nbformat": 4,
 "nbformat_minor": 5
}
