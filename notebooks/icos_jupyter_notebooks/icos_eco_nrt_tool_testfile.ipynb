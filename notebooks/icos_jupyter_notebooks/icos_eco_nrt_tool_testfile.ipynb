{
 "cells": [
  {
   "cell_type": "markdown",
   "id": "15c5323c-bbe7-4043-afe7-9bbeb7a15e0d",
   "metadata": {},
   "source": [
    "### Under construction...\n"
   ]
  },
  {
   "cell_type": "code",
   "execution_count": null,
   "id": "247a553a-e069-45d0-929c-56a24938f657",
   "metadata": {},
   "outputs": [],
   "source": [
    "import warnings\n",
    "#warnings.simplefilter(\"ignore\", FutureWarning)\n",
    "from eco_tool import gui\n",
    "\n",
    "g = gui.AnalysisGui();"
   ]
  },
  {
   "cell_type": "code",
   "execution_count": null,
   "id": "eb21ecb1-5ca4-447b-be4c-7a76ffc600b5",
   "metadata": {},
   "outputs": [],
   "source": [
    "df = g.get_data()"
   ]
  },
  {
   "cell_type": "code",
   "execution_count": null,
   "id": "d964db7c-2457-4593-9098-92e970d66ca3",
   "metadata": {},
   "outputs": [],
   "source": [
    "import numpy as np\n",
    "df2 = df.replace(np.nan,-9999)\n",
    "df2"
   ]
  },
  {
   "cell_type": "code",
   "execution_count": null,
   "id": "cd93514b-ff9c-46a5-9763-7883aa0275a1",
   "metadata": {},
   "outputs": [],
   "source": [
    "import plotly\n",
    "from IPython.display import display, HTML\n",
    "\n",
    "# plotly.offline.init_notebook_mode()\n",
    "display(HTML(\n",
    "    '</h1>test<h1><script type=\"text/javascript\" async src=\"https://cdnjs.cloudflare.com/ajax/libs/mathjax/2.7.1/MathJax.js?config=TeX-MML-AM_SVG\">$x^2$</script>'\n",
    "))\n",
    "plotly.offline.init_notebook_mode()\n"
   ]
  },
  {
   "cell_type": "code",
   "execution_count": null,
   "id": "db39e095-74c0-4a8e-ae29-b6136cc83a99",
   "metadata": {},
   "outputs": [],
   "source": []
  }
 ],
 "metadata": {
  "kernelspec": {
   "display_name": "Python 3 (ipykernel)",
   "language": "python",
   "name": "python3"
  },
  "language_info": {
   "codemirror_mode": {
    "name": "ipython",
    "version": 3
   },
   "file_extension": ".py",
   "mimetype": "text/x-python",
   "name": "python",
   "nbconvert_exporter": "python",
   "pygments_lexer": "ipython3",
   "version": "3.10.6"
  },
  "widgets": {
   "application/vnd.jupyter.widget-state+json": {
    "state": {},
    "version_major": 2,
    "version_minor": 0
   }
  }
 },
 "nbformat": 4,
 "nbformat_minor": 5
}
