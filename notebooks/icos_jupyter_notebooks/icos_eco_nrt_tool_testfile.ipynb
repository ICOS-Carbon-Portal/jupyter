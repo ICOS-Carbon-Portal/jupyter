{
 "cells": [
  {
   "cell_type": "markdown",
   "id": "15c5323c-bbe7-4043-afe7-9bbeb7a15e0d",
   "metadata": {},
   "source": [
    "### Under construction...\n"
   ]
  },
  {
   "cell_type": "code",
   "execution_count": 1,
   "id": "247a553a-e069-45d0-929c-56a24938f657",
   "metadata": {},
   "outputs": [
    {
     "data": {
      "application/vnd.jupyter.widget-view+json": {
       "model_id": "a80828ce6e6f4551b9b805b969140539",
       "version_major": 2,
       "version_minor": 0
      },
      "text/plain": [
       "VBox(children=(ToggleButtons(button_style='success', icons=('area-chart', 'list', 'cog', 'info-circle'), optio…"
      ]
     },
     "metadata": {},
     "output_type": "display_data"
    }
   ],
   "source": [
    "import warnings\n",
    "#warnings.simplefilter(\"ignore\", FutureWarning)\n",
    "from eco_tool import gui\n",
    "\n",
    "g = gui.AnalysisGui(debug=True);"
   ]
  },
  {
   "cell_type": "code",
   "execution_count": null,
   "id": "eb21ecb1-5ca4-447b-be4c-7a76ffc600b5",
   "metadata": {},
   "outputs": [],
   "source": [
    "df = g.get_data()"
   ]
  },
  {
   "cell_type": "code",
   "execution_count": null,
   "id": "d964db7c-2457-4593-9098-92e970d66ca3",
   "metadata": {},
   "outputs": [],
   "source": [
    "import numpy as np\n",
    "df2 = df.replace(np.nan,-9999)\n",
    "df2"
   ]
  },
  {
   "cell_type": "code",
   "execution_count": null,
   "id": "cd93514b-ff9c-46a5-9763-7883aa0275a1",
   "metadata": {},
   "outputs": [],
   "source": [
    "import plotly\n",
    "from IPython.display import display, HTML\n",
    "\n",
    "# plotly.offline.init_notebook_mode()\n",
    "display(HTML(\n",
    "    '</h1>test<h1><script type=\"text/javascript\" async src=\"https://cdnjs.cloudflare.com/ajax/libs/mathjax/2.7.1/MathJax.js?config=TeX-MML-AM_SVG\">$x^2$</script>'\n",
    "))\n",
    "plotly.offline.init_notebook_mode()\n"
   ]
  },
  {
   "cell_type": "code",
   "execution_count": null,
   "id": "db39e095-74c0-4a8e-ae29-b6136cc83a99",
   "metadata": {},
   "outputs": [],
   "source": []
  },
  {
   "cell_type": "code",
   "execution_count": null,
   "id": "c8e4b6a9-f3bf-4d33-8e21-361a5b3179e7",
   "metadata": {},
   "outputs": [],
   "source": []
  }
 ],
 "metadata": {
  "kernelspec": {
   "display_name": "Python 3 (ipykernel)",
   "language": "python",
   "name": "python3"
  },
  "language_info": {
   "codemirror_mode": {
    "name": "ipython",
    "version": 3
   },
   "file_extension": ".py",
   "mimetype": "text/x-python",
   "name": "python",
   "nbconvert_exporter": "python",
   "pygments_lexer": "ipython3",
   "version": "3.10.6"
  },
  "widgets": {
   "application/vnd.jupyter.widget-state+json": {
    "state": {
     "0012fa2437e34c9197de8ff59ea0e674": {
      "model_module": "@jupyter-widgets/controls",
      "model_module_version": "2.0.0",
      "model_name": "ToggleButtonsStyleModel",
      "state": {
       "button_width": "120px",
       "description_width": ""
      }
     },
     "0014c36aa5f242e7bc78681c30c9cc20": {
      "model_module": "@jupyter-widgets/controls",
      "model_module_version": "2.0.0",
      "model_name": "DropdownModel",
      "state": {
       "_options_labels": [
        "Default",
        "6",
        "8",
        "10",
        "11",
        "12",
        "14",
        "17"
       ],
       "index": 0,
       "layout": "IPY_MODEL_8fd7fc9f027d42a4b7812d9ecf7da6f7",
       "style": "IPY_MODEL_75b953e82bea4fb1be3e88cc927186cf"
      }
     },
     "005848be71904e90ac130598c91243d6": {
      "model_module": "@jupyter-widgets/controls",
      "model_module_version": "2.0.0",
      "model_name": "HTMLModel",
      "state": {
       "layout": "IPY_MODEL_835b078cd4f744558f19e88170ccd9aa",
       "style": "IPY_MODEL_ae852ae27453481b9cb1d998167802df",
       "value": "<span style=\"color:rgb(174, 175, 106)\"; \"font-size:10.0pt\">&nbsp&nbsp&nbsp&nbsp&nbsp&nbsp <b>#call_nr = 135 - #caller(s): get_batch_upd_dict(), reset_selection(), _notify_observers()</b> &nbsp&nbsp&nbsp&nbsp&nbsp&nbsp</span><span style=\"color:rgb(174, 175, 106)\"; \"font-size:8.0pt\">get_batch_upd_dict()<br>&nbsp&nbsp&nbsp&nbsp&nbsp&nbsp -- <b>#call_nr = 135 </b> &nbsp&nbsp&nbsp&nbsp&nbsp&nbsp -- d ={'_upd_mode': 'update', '_version': 1, '_orig_name': 'mp2 ', '_new_name': 'mp2 ', '_selected_tool_index': 1, '_tools': {0: {'multi_plot': [['%', [['SWC_5', 'ETC NRT Meteo', 'SE-Htm']]], ['mmol mol-1', [['H2O', 'ETC NRT Fluxes', 'SE-Htm']]]]}, 1: {'multi_plot': [('°C', [['TA', 'ETC NRT Meteo', 'SE-Htm']]), ('mmol mol-1', [['H2O', 'ETC NRT Fluxes', 'SE-Htm']])]}}}</span>"
      }
     },
     "00ae9e3993da49ab99fad7ac783bbdea": {
      "model_module": "@jupyter-widgets/base",
      "model_module_version": "2.0.0",
      "model_name": "LayoutModel",
      "state": {}
     },
     "00bebdd070ac426da8e30780249a1ca6": {
      "model_module": "@jupyter-widgets/controls",
      "model_module_version": "2.0.0",
      "model_name": "DescriptionStyleModel",
      "state": {
       "description_width": ""
      }
     },
     "01cda241efd74a6f83ff0a2feb3c3304": {
      "model_module": "@jupyter-widgets/base",
      "model_module_version": "2.0.0",
      "model_name": "LayoutModel",
      "state": {
       "min_width": "160px"
      }
     },
     "02054f896a9d4c37b254b8c724295bea": {
      "model_module": "@jupyter-widgets/controls",
      "model_module_version": "2.0.0",
      "model_name": "HBoxModel",
      "state": {
       "children": [
        "IPY_MODEL_b7066104ebe14586ba1242dfb3ca4e04",
        "IPY_MODEL_e55e84d71d70469ba21dbd86948f32f3"
       ],
       "layout": "IPY_MODEL_3ebda395d21e4394a3b43f54a07ee036"
      }
     },
     "026063f430af4bf79625533db1e85aed": {
      "model_module": "@jupyter-widgets/base",
      "model_module_version": "2.0.0",
      "model_name": "LayoutModel",
      "state": {}
     },
     "028414b25f374e10840d3b7fb5b99894": {
      "model_module": "@jupyter-widgets/controls",
      "model_module_version": "2.0.0",
      "model_name": "HTMLStyleModel",
      "state": {
       "description_width": "",
       "font_size": null,
       "text_color": null
      }
     },
     "029e5961475b4b3491231d674639908f": {
      "model_module": "@jupyter-widgets/controls",
      "model_module_version": "2.0.0",
      "model_name": "DropdownModel",
      "state": {
       "_options_labels": [
        "1",
        "2",
        "3",
        "4",
        "5",
        "6",
        "7",
        "8",
        "9"
       ],
       "index": 1,
       "layout": "IPY_MODEL_8fd7fc9f027d42a4b7812d9ecf7da6f7",
       "style": "IPY_MODEL_0a61afe915a84f0e968c7597003945fe"
      }
     },
     "03118687d58242c2ad4a6e2616bcca20": {
      "model_module": "@jupyter-widgets/base",
      "model_module_version": "2.0.0",
      "model_name": "LayoutModel",
      "state": {}
     },
     "0398063545fa4c72a0f40953a5d82fcc": {
      "model_module": "@jupyter-widgets/controls",
      "model_module_version": "2.0.0",
      "model_name": "HTMLStyleModel",
      "state": {
       "description_width": "",
       "font_size": null,
       "text_color": null
      }
     },
     "039ef774786347cfaf47bcc236e37ddc": {
      "model_module": "@jupyter-widgets/base",
      "model_module_version": "2.0.0",
      "model_name": "LayoutModel",
      "state": {}
     },
     "03be75c074f7479987be2ac0b6f760d1": {
      "model_module": "@jupyter-widgets/base",
      "model_module_version": "2.0.0",
      "model_name": "LayoutModel",
      "state": {
       "max_width": "auto",
       "min_width": "210px"
      }
     },
     "041ee02c8bca40888a62b8500ccab327": {
      "model_module": "@jupyter-widgets/controls",
      "model_module_version": "2.0.0",
      "model_name": "HTMLStyleModel",
      "state": {
       "description_width": "",
       "font_size": null,
       "text_color": null
      }
     },
     "047a264e43b5417fad9d247c84a4b02f": {
      "model_module": "@jupyter-widgets/base",
      "model_module_version": "2.0.0",
      "model_name": "LayoutModel",
      "state": {}
     },
     "04b769d209e54b0fa804ddf4f4f0f1b5": {
      "model_module": "@jupyter-widgets/controls",
      "model_module_version": "2.0.0",
      "model_name": "HBoxModel",
      "state": {
       "children": [
        "IPY_MODEL_e78fd035b4084ebc9215a08e918509f2",
        "IPY_MODEL_5e702c11ec1d421a9d1c492f3b1054d4"
       ],
       "layout": "IPY_MODEL_cf6e84d2c78c460a939d7b0c12ad315c"
      }
     },
     "05098aa436e04563b6e857d5d9d0d8fd": {
      "model_module": "@jupyter-widgets/controls",
      "model_module_version": "2.0.0",
      "model_name": "HTMLStyleModel",
      "state": {
       "description_width": "",
       "font_size": null,
       "text_color": null
      }
     },
     "0583dc89cc8347ada7422301b8505194": {
      "model_module": "@jupyter-widgets/controls",
      "model_module_version": "2.0.0",
      "model_name": "DropdownModel",
      "state": {
       "_options_labels": [
        "Meteo SWC",
        "NGEN 14 - Htm+Sor+Sto "
       ],
       "index": 0,
       "layout": "IPY_MODEL_a014525179ba4291967468289fa6956a",
       "style": "IPY_MODEL_f701dd1a293b48bcbbd937a016f088a9",
       "tooltip": "Group name"
      }
     },
     "0595059d087946bfaf6154b047f0ad82": {
      "model_module": "@jupyter-widgets/controls",
      "model_module_version": "2.0.0",
      "model_name": "HBoxModel",
      "state": {
       "children": [
        "IPY_MODEL_74374a3a24df4a958f86f53e66735cae",
        "IPY_MODEL_54ede878064e4ec595f7a0d1408102a7",
        "IPY_MODEL_81dce627550348eb989d2b5eb10ed3f3"
       ],
       "layout": "IPY_MODEL_c963e5eb45a7411691384fe325340f97"
      }
     },
     "05bc1bc007b249909c73fc63d65582c7": {
      "model_module": "@jupyter-widgets/controls",
      "model_module_version": "2.0.0",
      "model_name": "HTMLModel",
      "state": {
       "layout": "IPY_MODEL_f9770ad4050445d5856d274d17c12767",
       "style": "IPY_MODEL_e78c7085a7c343d8944077e2bcb977dc",
       "value": "<span style=\"color:rgb(43, 33, 90)\"; \"font-size:10.0pt\">&nbsp&nbsp&nbsp&nbsp&nbsp&nbsp <b>#call_nr = 67 - #caller(s): update_batch_dict(), tool_selections(), tool_click()</b> &nbsp&nbsp&nbsp&nbsp&nbsp&nbsp</span><span style=\"color:rgb(43, 33, 90)\"; \"font-size:8.0pt\">update_batch_dict()<br>&nbsp&nbsp&nbsp&nbsp&nbsp&nbsp -- <b>#call_nr = 67 </b> &nbsp&nbsp&nbsp&nbsp&nbsp&nbsp -- d = {'_tools': {0: {'multi_plot': [['%', [['SWC_5', 'ETC NRT Meteo', 'SE-Htm']]], ['mmol mol-1', [['H2O', 'ETC NRT Fluxes', 'SE-Htm']]]]}, 1: {'multi_plot': []}}, '_selected_tool_index': 1}</span>"
      }
     },
     "05f0b827da804a2e8d1f0d6eed83c7d8": {
      "model_module": "@jupyter-widgets/controls",
      "model_module_version": "2.0.0",
      "model_name": "CheckboxStyleModel",
      "state": {
       "description_width": ""
      }
     },
     "0631ae5231ab49c88c67c262b7f73b68": {
      "model_module": "@jupyter-widgets/controls",
      "model_module_version": "2.0.0",
      "model_name": "HTMLModel",
      "state": {
       "layout": "IPY_MODEL_bf65413e6b804b6b9bec1f9018c0bcd2",
       "style": "IPY_MODEL_cd9b990e54504d00a972867118238116",
       "value": "<span style=\"color:rgb(41, 101, 137)\"; \"font-size:10.0pt\">&nbsp&nbsp&nbsp&nbsp&nbsp&nbsp <b>#call_nr = 193 - #caller(s): reset_batch_gui(), save_batch(), __call__()</b> &nbsp&nbsp&nbsp&nbsp&nbsp&nbsp</span><span style=\"color:rgb(41, 101, 137)\"; \"font-size:8.0pt\">reset_batch_gui()<br>&nbsp&nbsp&nbsp&nbsp&nbsp&nbsp -- <b>#call_nr = 193 </b> &nbsp&nbsp&nbsp&nbsp&nbsp&nbsp -- --- end ---</span>"
      }
     },
     "06b5301daa534501b5bbb90ecfd9a0a8": {
      "model_module": "@jupyter-widgets/base",
      "model_module_version": "2.0.0",
      "model_name": "LayoutModel",
      "state": {}
     },
     "06c2b5857f664d13ad8ff0d3b9c0f5f9": {
      "model_module": "@jupyter-widgets/base",
      "model_module_version": "2.0.0",
      "model_name": "LayoutModel",
      "state": {}
     },
     "06f3f9dc16ce4bf18a0283d982a417a9": {
      "model_module": "@jupyter-widgets/base",
      "model_module_version": "2.0.0",
      "model_name": "LayoutModel",
      "state": {
       "max_width": "auto",
       "min_width": "200px"
      }
     },
     "071898311ecc439b85c7dd44ca342a56": {
      "model_module": "@jupyter-widgets/controls",
      "model_module_version": "2.0.0",
      "model_name": "HTMLStyleModel",
      "state": {
       "description_width": "",
       "font_size": null,
       "text_color": null
      }
     },
     "07ecb3e42b7f42b19cdb32ca3d083818": {
      "model_module": "@jupyter-widgets/controls",
      "model_module_version": "2.0.0",
      "model_name": "HTMLStyleModel",
      "state": {
       "description_width": "",
       "font_size": null,
       "text_color": null
      }
     },
     "09118b8096b447e299870a726db86ecc": {
      "model_module": "@jupyter-widgets/controls",
      "model_module_version": "2.0.0",
      "model_name": "HTMLModel",
      "state": {
       "layout": "IPY_MODEL_229a033d6cd045188d571be4485e96f2",
       "style": "IPY_MODEL_986826f66eaa40bebdec56ef7b7bd851",
       "value": "<span style=\"color:rgb(46, 75, 67)\"; \"font-size:10.0pt\">&nbsp&nbsp&nbsp&nbsp&nbsp&nbsp <b>#call_nr = 40 - #caller(s): init_group_var_buttons(), activate_gui(), update_batch()</b> &nbsp&nbsp&nbsp&nbsp&nbsp&nbsp</span><span style=\"color:rgb(46, 75, 67)\"; \"font-size:8.0pt\">init_group_var_buttons()</span>"
      }
     },
     "092866803ff74d1fb62ccb8b51550518": {
      "model_module": "@jupyter-widgets/controls",
      "model_module_version": "2.0.0",
      "model_name": "DropdownModel",
      "state": {
       "_options_labels": [
        "plotly",
        "plotly_white",
        "plotly_dark",
        "ggplot2",
        "seaborn",
        "simple_white",
        "none"
       ],
       "index": 0,
       "layout": "IPY_MODEL_dfdf503bef984b608404d84a415820b3",
       "style": "IPY_MODEL_8435356e9be74dd9831dd7d91788fefb"
      }
     },
     "094aab0e467d4462ad46dfd1002f1c0a": {
      "model_module": "@jupyter-widgets/controls",
      "model_module_version": "2.0.0",
      "model_name": "HTMLModel",
      "state": {
       "layout": "IPY_MODEL_2a38370d876d4330b42a44ca07707345",
       "style": "IPY_MODEL_e1b3bcc9732e401f897f4431fdd3d048",
       "value": "<b>Width:</b> "
      }
     },
     "098a5f817e264b1193512cc6fa77a928": {
      "model_module": "@jupyter-widgets/controls",
      "model_module_version": "2.0.0",
      "model_name": "HTMLModel",
      "state": {
       "layout": "IPY_MODEL_af5aeb3dd7cb47549613f59a6acdd135",
       "style": "IPY_MODEL_4091d48c5f8f478b8ba387e2c681721a",
       "value": "<span style=\"color:rgb(112, 46, 5)\"; \"font-size:10.0pt\">&nbsp&nbsp&nbsp&nbsp&nbsp&nbsp <b>#call_nr = 42 - #caller(s): get_var2unit_dict(), init_group_var_buttons(), activate_gui()</b> &nbsp&nbsp&nbsp&nbsp&nbsp&nbsp</span><span style=\"color:rgb(112, 46, 5)\"; \"font-size:8.0pt\">get_var2unit_dict()</span>"
      }
     },
     "09b8a31258ba4518bb7e2215d6e30bbd": {
      "model_module": "@jupyter-widgets/controls",
      "model_module_version": "2.0.0",
      "model_name": "HTMLStyleModel",
      "state": {
       "description_width": "",
       "font_size": null,
       "text_color": null
      }
     },
     "09f1d4bdb29147e19c6e91629f4c64e5": {
      "model_module": "@jupyter-widgets/base",
      "model_module_version": "2.0.0",
      "model_name": "LayoutModel",
      "state": {
       "min_width": "125px"
      }
     },
     "0a00b93826ac4cb7a8bf0a359e85ce07": {
      "model_module": "@jupyter-widgets/controls",
      "model_module_version": "2.0.0",
      "model_name": "VBoxModel",
      "state": {
       "children": [
        "IPY_MODEL_99810d5a32f44f89b18bb696d3e7c674",
        "IPY_MODEL_c1795d1c18d646ce9915274f76574443",
        "IPY_MODEL_d6f882ba5f5c498ea2246b5ae111bb1d",
        "IPY_MODEL_1856c5bb5c144875a84cceceafc51626",
        "IPY_MODEL_9145d535a89e4bd187660a9e3b0e6664",
        "IPY_MODEL_30aef3134a8f4086bf67656778179c87",
        "IPY_MODEL_1bb838efcb6e4ed397e32825b7b8c13d",
        "IPY_MODEL_b27704c02daa426c93a8b5cf2f771e64",
        "IPY_MODEL_d7b0e30156b54b4bad10381461f36f74",
        "IPY_MODEL_c624bccc6f184f83aed0e990bf1b8b0e",
        "IPY_MODEL_21137236470744f287f255bfcd3d8183"
       ],
       "layout": "IPY_MODEL_89d5d5bbcd0744fa9f3faec4a08c3044"
      }
     },
     "0a2bf4c860b44b53bec543b6263f71ba": {
      "model_module": "@jupyter-widgets/base",
      "model_module_version": "2.0.0",
      "model_name": "LayoutModel",
      "state": {}
     },
     "0a61afe915a84f0e968c7597003945fe": {
      "model_module": "@jupyter-widgets/controls",
      "model_module_version": "2.0.0",
      "model_name": "DescriptionStyleModel",
      "state": {
       "description_width": ""
      }
     },
     "0a74141ca929464a84cc09813177b46d": {
      "model_module": "@jupyter-widgets/controls",
      "model_module_version": "2.0.0",
      "model_name": "HTMLStyleModel",
      "state": {
       "description_width": "",
       "font_size": null,
       "text_color": null
      }
     },
     "0a8caabdae8246dd86b9e15aa8d1318c": {
      "model_module": "@jupyter-widgets/controls",
      "model_module_version": "2.0.0",
      "model_name": "HTMLStyleModel",
      "state": {
       "description_width": "",
       "font_size": null,
       "text_color": null
      }
     },
     "0ab248cc79a849cda383b01c06061d0a": {
      "model_module": "@jupyter-widgets/controls",
      "model_module_version": "2.0.0",
      "model_name": "ButtonModel",
      "state": {
       "description": "sp1",
       "layout": "IPY_MODEL_5d38b655c99f46e19d393ffc92236d25",
       "style": "IPY_MODEL_153af2d5d2b44206bf78c361b46e19cf",
       "tooltip": null
      }
     },
     "0af17bb5c8e84226bbf826ce0aa33c74": {
      "model_module": "@jupyter-widgets/base",
      "model_module_version": "2.0.0",
      "model_name": "LayoutModel",
      "state": {}
     },
     "0afa14e13cb14a3592739f49e5e9d705": {
      "model_module": "@jupyter-widgets/controls",
      "model_module_version": "2.0.0",
      "model_name": "HTMLStyleModel",
      "state": {
       "description_width": "",
       "font_size": null,
       "text_color": null
      }
     },
     "0afb4ad5aad14ac89f2d9d05cd8b9d87": {
      "model_module": "@jupyter-widgets/base",
      "model_module_version": "2.0.0",
      "model_name": "LayoutModel",
      "state": {}
     },
     "0b172f6c5e1c447e8cc05c0910dcc072": {
      "model_module": "@jupyter-widgets/base",
      "model_module_version": "2.0.0",
      "model_name": "LayoutModel",
      "state": {}
     },
     "0b3c7251d401482e89c3b0916bcabddf": {
      "model_module": "@jupyter-widgets/controls",
      "model_module_version": "2.0.0",
      "model_name": "HTMLModel",
      "state": {
       "layout": "IPY_MODEL_87f88b2625884686b8fcc45017f0666e",
       "style": "IPY_MODEL_fcbc41501c1a44ddaf94234fd46cc498",
       "value": "<span style=\"color:rgb(97, 124, 64)\"; \"font-size:10.0pt\">&nbsp&nbsp&nbsp&nbsp&nbsp&nbsp <b>#call_nr = 144 - #caller(s): reset_var_buttons(), reset_selection(), _notify_observers()</b> &nbsp&nbsp&nbsp&nbsp&nbsp&nbsp</span><span style=\"color:rgb(97, 124, 64)\"; \"font-size:8.0pt\">reset_var_buttons()  -- index = 1<br>&nbsp&nbsp&nbsp&nbsp&nbsp&nbsp -- <b>#call_nr = 144 </b> &nbsp&nbsp&nbsp&nbsp&nbsp&nbsp --   --- tool_code = multi_plot<br>&nbsp&nbsp&nbsp&nbsp&nbsp&nbsp -- <b>#call_nr = 144 </b> &nbsp&nbsp&nbsp&nbsp&nbsp&nbsp --   --- var_codes = [('°C', [['TA', 'ETC NRT Meteo', 'SE-Htm']]), ('mmol mol-1', [['H2O', 'ETC NRT Fluxes', 'SE-Htm']])]</span>"
      }
     },
     "0b43a11a9c29477ea497cd264c8137da": {
      "model_module": "@jupyter-widgets/controls",
      "model_module_version": "2.0.0",
      "model_name": "DropdownModel",
      "state": {
       "_options_labels": [
        "Default",
        "6",
        "8",
        "10",
        "11",
        "12",
        "14",
        "17"
       ],
       "index": 0,
       "layout": "IPY_MODEL_8fd7fc9f027d42a4b7812d9ecf7da6f7",
       "style": "IPY_MODEL_ae6f520529c84161a3336aec7da9c980"
      }
     },
     "0b81000bb6a74093ab112a4c0b558ed5": {
      "model_module": "@jupyter-widgets/base",
      "model_module_version": "2.0.0",
      "model_name": "LayoutModel",
      "state": {}
     },
     "0b9b1b6db60146d691f64ccf61e201e6": {
      "model_module": "@jupyter-widgets/controls",
      "model_module_version": "2.0.0",
      "model_name": "HBoxModel",
      "state": {
       "children": [
        "IPY_MODEL_0f0d25897df040518fac0e50e1c93869",
        "IPY_MODEL_4bf3c991fa4247e395cd651c9d85bbec"
       ],
       "layout": "IPY_MODEL_a1e8a83731974fba9ead052a86197286"
      }
     },
     "0bf07272424f449894b370b7cd2972bf": {
      "model_module": "@jupyter-widgets/base",
      "model_module_version": "2.0.0",
      "model_name": "LayoutModel",
      "state": {}
     },
     "0c090f1164f24c97a1ebb64caf6f46c7": {
      "model_module": "@jupyter-widgets/base",
      "model_module_version": "2.0.0",
      "model_name": "LayoutModel",
      "state": {}
     },
     "0c5a120d29b04126a9203cc17875df9e": {
      "model_module": "@jupyter-widgets/controls",
      "model_module_version": "2.0.0",
      "model_name": "DescriptionStyleModel",
      "state": {
       "description_width": ""
      }
     },
     "0c8926f41fbf43ae9690fa6143a0b2f5": {
      "model_module": "@jupyter-widgets/controls",
      "model_module_version": "2.0.0",
      "model_name": "ButtonStyleModel",
      "state": {
       "button_color": "LightGreen",
       "font_family": null,
       "font_size": null,
       "font_style": null,
       "font_variant": null,
       "font_weight": null,
       "text_color": null,
       "text_decoration": null
      }
     },
     "0d03b342999e45978ed73e43b679f889": {
      "model_module": "@jupyter-widgets/controls",
      "model_module_version": "2.0.0",
      "model_name": "HTMLModel",
      "state": {
       "layout": "IPY_MODEL_20643e42ef9d48108ff6f34ebfe23390",
       "style": "IPY_MODEL_c337eb652aa6454faae6a235946979a0",
       "value": "<span style=\"color:rgb(97, 124, 64)\"; \"font-size:10.0pt\">&nbsp&nbsp&nbsp&nbsp&nbsp&nbsp <b>#call_nr = 83 - #caller(s): reset_var_buttons(), reset_selection(), _notify_observers()</b> &nbsp&nbsp&nbsp&nbsp&nbsp&nbsp</span><span style=\"color:rgb(97, 124, 64)\"; \"font-size:8.0pt\">reset_var_buttons()  -- restore buttons -- <br>&nbsp&nbsp&nbsp&nbsp&nbsp&nbsp -- <b>#call_nr = 83 </b> &nbsp&nbsp&nbsp&nbsp&nbsp&nbsp --  axis_ls = []<br>&nbsp&nbsp&nbsp&nbsp&nbsp&nbsp -- <b>#call_nr = 83 </b> &nbsp&nbsp&nbsp&nbsp&nbsp&nbsp --  btn.tooltip = %<br>&nbsp&nbsp&nbsp&nbsp&nbsp&nbsp -- <b>#call_nr = 83 </b> &nbsp&nbsp&nbsp&nbsp&nbsp&nbsp --  Button = \"SWC_2 (ETC NRT Meteo)\"<br>&nbsp&nbsp&nbsp&nbsp&nbsp&nbsp -- <b>#call_nr = 83 </b> &nbsp&nbsp&nbsp&nbsp&nbsp&nbsp -- ---- enabled and unchecked</span>"
      }
     },
     "0d2e750b42fe4f5bae795c47763fc2b5": {
      "model_module": "@jupyter-widgets/controls",
      "model_module_version": "2.0.0",
      "model_name": "VBoxModel",
      "state": {
       "children": [
        "IPY_MODEL_59f7be97cca546bf858f27c8c23fc0a6",
        "IPY_MODEL_c83ee99141634265806e5eca5ac129cd",
        "IPY_MODEL_1a3bcbf9612543cbbcdd2b0eac1f4e1e"
       ],
       "layout": "IPY_MODEL_2517a9cefc7c4dea8ba68a34d5de3a00"
      }
     },
     "0d828f11921d417ba803d3c5cb334f7f": {
      "model_module": "@jupyter-widgets/controls",
      "model_module_version": "2.0.0",
      "model_name": "HTMLStyleModel",
      "state": {
       "description_width": "",
       "font_size": null,
       "text_color": null
      }
     },
     "0db37daa21f34a6a821444bad27d0e44": {
      "model_module": "@jupyter-widgets/controls",
      "model_module_version": "2.0.0",
      "model_name": "ButtonStyleModel",
      "state": {
       "button_color": "LightSeaGreen",
       "font_family": null,
       "font_size": null,
       "font_style": null,
       "font_variant": null,
       "font_weight": null,
       "text_color": null,
       "text_decoration": null
      }
     },
     "0e0f4915a492473a993494c593f5adee": {
      "model_module": "@jupyter-widgets/controls",
      "model_module_version": "2.0.0",
      "model_name": "HTMLStyleModel",
      "state": {
       "description_width": "",
       "font_size": null,
       "text_color": null
      }
     },
     "0e1102a159524f869247a45c80460f8d": {
      "model_module": "@jupyter-widgets/controls",
      "model_module_version": "2.0.0",
      "model_name": "HTMLStyleModel",
      "state": {
       "description_width": "",
       "font_size": null,
       "text_color": null
      }
     },
     "0e1dd6e9d8da4149bf42c63c46b1ab7b": {
      "model_module": "@jupyter-widgets/controls",
      "model_module_version": "2.0.0",
      "model_name": "HTMLStyleModel",
      "state": {
       "description_width": "",
       "font_size": null,
       "text_color": null
      }
     },
     "0e307a7265c1431eaf57a7a081b23976": {
      "model_module": "@jupyter-widgets/controls",
      "model_module_version": "2.0.0",
      "model_name": "HTMLModel",
      "state": {
       "layout": "IPY_MODEL_dc25bac0e5824435a3bfb1b4e0fae72e",
       "style": "IPY_MODEL_bf6e176a514e44f6896da5507e5e69db",
       "value": "<span style=\"color:rgb(128, 100, 39)\"; \"font-size:10.0pt\">&nbsp&nbsp&nbsp&nbsp&nbsp&nbsp <b>#call_nr = 50 - #caller(s): var2unit(), init_group_var_buttons(), activate_gui()</b> &nbsp&nbsp&nbsp&nbsp&nbsp&nbsp</span><span style=\"color:rgb(128, 100, 39)\"; \"font-size:8.0pt\">var2unit()<br>&nbsp&nbsp&nbsp&nbsp&nbsp&nbsp -- <b>#call_nr = 50 </b> &nbsp&nbsp&nbsp&nbsp&nbsp&nbsp -- var = ['SWC_4', 'ETC NRT Meteo', 'SE-Htm']<br>&nbsp&nbsp&nbsp&nbsp&nbsp&nbsp -- <b>#call_nr = 50 </b> &nbsp&nbsp&nbsp&nbsp&nbsp&nbsp -- return unit = %</span>"
      }
     },
     "0e87997e434747ca82de97fe04268994": {
      "model_module": "@jupyter-widgets/controls",
      "model_module_version": "2.0.0",
      "model_name": "DescriptionStyleModel",
      "state": {
       "description_width": ""
      }
     },
     "0ed4cd6422d947349ba1add3b47e78b0": {
      "model_module": "@jupyter-widgets/controls",
      "model_module_version": "2.0.0",
      "model_name": "HTMLStyleModel",
      "state": {
       "description_width": "",
       "font_size": null,
       "text_color": null
      }
     },
     "0ee9739ec9be46b79a09680e784de2d2": {
      "model_module": "@jupyter-widgets/base",
      "model_module_version": "2.0.0",
      "model_name": "LayoutModel",
      "state": {}
     },
     "0f0d25897df040518fac0e50e1c93869": {
      "model_module": "@jupyter-widgets/controls",
      "model_module_version": "2.0.0",
      "model_name": "CheckboxModel",
      "state": {
       "disabled": false,
       "indent": false,
       "layout": "IPY_MODEL_b5729f80a12c47b7ac291b818f1f6668",
       "style": "IPY_MODEL_219b8fa34d8c45a0b8c3511451c796fe",
       "tooltip": "Applies to the x- and y-axes",
       "value": true
      }
     },
     "0f9430e838b74cff8aaa83e57c3ef971": {
      "model_module": "@jupyter-widgets/base",
      "model_module_version": "2.0.0",
      "model_name": "LayoutModel",
      "state": {}
     },
     "0fe131f037d6480386cb5a237f1df19c": {
      "model_module": "@jupyter-widgets/controls",
      "model_module_version": "2.0.0",
      "model_name": "HTMLStyleModel",
      "state": {
       "description_width": "",
       "font_size": null,
       "text_color": null
      }
     },
     "0ff9200379734843bff87e0d8c61c104": {
      "model_module": "@jupyter-widgets/controls",
      "model_module_version": "2.0.0",
      "model_name": "ButtonModel",
      "state": {
       "description": "SWC_2 (ETC NRT Meteo)",
       "disabled": true,
       "layout": "IPY_MODEL_9d18e2c3d96d4af3b941d88e0ca49b4b",
       "style": "IPY_MODEL_bc47b41e07724dfca3a36cb4795c1c4f",
       "tooltip": "%"
      }
     },
     "101accb881444b208f77993d9b0d5092": {
      "model_module": "@jupyter-widgets/controls",
      "model_module_version": "2.0.0",
      "model_name": "HTMLModel",
      "state": {
       "layout": "IPY_MODEL_e1e308cffc9449efa08eb1b9a5f6ba40",
       "style": "IPY_MODEL_29740eb0594c40958976c8aa211d1f7b",
       "value": "<span style=\"color:rgb(92, 150, 134)\"; \"font-size:10.0pt\">&nbsp&nbsp&nbsp&nbsp&nbsp&nbsp <b>#call_nr = 183 - #caller(s): set_batch_upd_dict(), changed_batch_drop(), _notify_observers()</b> &nbsp&nbsp&nbsp&nbsp&nbsp&nbsp</span><span style=\"color:rgb(92, 150, 134)\"; \"font-size:8.0pt\">set_batch_upd_dict()<br>&nbsp&nbsp&nbsp&nbsp&nbsp&nbsp -- <b>#call_nr = 183 </b> &nbsp&nbsp&nbsp&nbsp&nbsp&nbsp -- step 2<br>&nbsp&nbsp&nbsp&nbsp&nbsp&nbsp -- <b>#call_nr = 183 </b> &nbsp&nbsp&nbsp&nbsp&nbsp&nbsp -- upd_dict_log.value ={'_upd_mode': 'read_mode_with_batch', '_selected_tool_index': None, '_version': '2', '_tools': {'0': {'multi_plot': [['%', [['SWC_5', 'ETC NRT Meteo', 'SE-Htm']]], ['mmol mol-1', [['H2O', 'ETC NRT Fluxes', 'SE-Htm']]]]}, '1': {'multi_plot': [('°C', [['TA', 'ETC NRT Meteo', 'SE-Htm']]), ('mmol mol-1', [['H2O', 'ETC NRT Fluxes', 'SE-Htm']])]}}}</span>"
      }
     },
     "10434bc04dc14bd6a7170ba697bc29c6": {
      "model_module": "@jupyter-widgets/controls",
      "model_module_version": "2.0.0",
      "model_name": "HTMLModel",
      "state": {
       "layout": "IPY_MODEL_ab6f02f1b7674d94a2781eac65cb1afc",
       "style": "IPY_MODEL_30514e01d83e4678aceaa736a15b2aa6",
       "value": "<span style=\"color:rgb(56, 23, 78)\"; \"font-size:10.0pt\">&nbsp&nbsp&nbsp&nbsp&nbsp&nbsp <b>#call_nr = 33 - #caller(s): set_selections(), reset_selection(), _notify_observers()</b> &nbsp&nbsp&nbsp&nbsp&nbsp&nbsp</span><span style=\"color:rgb(56, 23, 78)\"; \"font-size:8.0pt\">set_selections()<br>&nbsp&nbsp&nbsp&nbsp&nbsp&nbsp -- <b>#call_nr = 33 </b> &nbsp&nbsp&nbsp&nbsp&nbsp&nbsp -- end <br>&nbsp&nbsp&nbsp&nbsp&nbsp&nbsp -- <b>#call_nr = 33 </b> &nbsp&nbsp&nbsp&nbsp&nbsp&nbsp -- selected_tools.value = None<br>&nbsp&nbsp&nbsp&nbsp&nbsp&nbsp -- <b>#call_nr = 33 </b> &nbsp&nbsp&nbsp&nbsp&nbsp&nbsp -- selected_tools.options = (('Multi-plot', 0),)<br>&nbsp&nbsp&nbsp&nbsp&nbsp&nbsp -- <b>#call_nr = 33 </b> &nbsp&nbsp&nbsp&nbsp&nbsp&nbsp -- selected_vars.options = (('SWC_5 (ETC NRT Meteo), H2O (ETC NRT Fluxes)', (0, [['%', [['SWC_5', 'ETC NRT Meteo', 'SE-Htm']]], ['mmol mol-1', [['H2O', 'ETC NRT Fluxes', 'SE-Htm']]]])),)<br>&nbsp&nbsp&nbsp&nbsp&nbsp&nbsp -- <b>#call_nr = 33 </b> &nbsp&nbsp&nbsp&nbsp&nbsp&nbsp -- selected_vars.tooltip = </span>"
      }
     },
     "1061d84a70f64219b5c3364ee4fcd130": {
      "model_module": "@jupyter-widgets/controls",
      "model_module_version": "2.0.0",
      "model_name": "HTMLStyleModel",
      "state": {
       "description_width": "",
       "font_size": null,
       "text_color": null
      }
     },
     "1085ae853fa24528aa3cbbbc1ac47ecf": {
      "model_module": "@jupyter-widgets/controls",
      "model_module_version": "2.0.0",
      "model_name": "TextModel",
      "state": {
       "layout": "IPY_MODEL_723f38e5889d4f7e97e06744db06bb11",
       "style": "IPY_MODEL_ee7b1e3a5ccc4fceb4b45bf376141fa0",
       "value": "mp2 "
      }
     },
     "10c58b15c9be4b68a4befe4139693812": {
      "model_module": "@jupyter-widgets/controls",
      "model_module_version": "2.0.0",
      "model_name": "HTMLStyleModel",
      "state": {
       "description_width": "",
       "font_size": null,
       "text_color": null
      }
     },
     "110cbb7344be4b2bb61fd0b2055c909a": {
      "model_module": "@jupyter-widgets/controls",
      "model_module_version": "2.0.0",
      "model_name": "HTMLModel",
      "state": {
       "layout": "IPY_MODEL_2af5c43069b0431eba17920c8f323600",
       "style": "IPY_MODEL_99fafc829c5444cdacb84b6d39cfd154",
       "value": "<span style=\"color:rgb(56, 23, 78)\"; \"font-size:10.0pt\">&nbsp&nbsp&nbsp&nbsp&nbsp&nbsp <b>#call_nr = 140 - #caller(s): set_selections(), reset_selection(), _notify_observers()</b> &nbsp&nbsp&nbsp&nbsp&nbsp&nbsp</span><span style=\"color:rgb(56, 23, 78)\"; \"font-size:8.0pt\">set_selections()<br>&nbsp&nbsp&nbsp&nbsp&nbsp&nbsp -- <b>#call_nr = 140 </b> &nbsp&nbsp&nbsp&nbsp&nbsp&nbsp -- end <br>&nbsp&nbsp&nbsp&nbsp&nbsp&nbsp -- <b>#call_nr = 140 </b> &nbsp&nbsp&nbsp&nbsp&nbsp&nbsp -- selected_tools.value = 1<br>&nbsp&nbsp&nbsp&nbsp&nbsp&nbsp -- <b>#call_nr = 140 </b> &nbsp&nbsp&nbsp&nbsp&nbsp&nbsp -- selected_tools.options = (('Multi-plot', 0), ('Multi-plot', 1))<br>&nbsp&nbsp&nbsp&nbsp&nbsp&nbsp -- <b>#call_nr = 140 </b> &nbsp&nbsp&nbsp&nbsp&nbsp&nbsp -- selected_vars.options = (('SWC_5 (ETC NRT Meteo), H2O (ETC NRT Fluxes)', (0, [['%', [['SWC_5', 'ETC NRT Meteo', 'SE-Htm']]], ['mmol mol-1', [['H2O', 'ETC NRT Fluxes', 'SE-Htm']]]])), ('TA (ETC NRT Meteo), H2O (ETC NRT Fluxes)', (1, [('°C', [['TA', 'ETC NRT Meteo', 'SE-Htm']]), ('mmol mol-1', [['H2O', 'ETC NRT Fluxes', 'SE-Htm']])])))<br>&nbsp&nbsp&nbsp&nbsp&nbsp&nbsp -- <b>#call_nr = 140 </b> &nbsp&nbsp&nbsp&nbsp&nbsp&nbsp -- selected_vars.tooltip = TA (ETC NRT Meteo), H2O (ETC NRT Fluxes)</span>"
      }
     },
     "1117f31150a04125b24b4a8eb273a10d": {
      "model_module": "@jupyter-widgets/base",
      "model_module_version": "2.0.0",
      "model_name": "LayoutModel",
      "state": {}
     },
     "1154353089884c96acdce0fdf6228762": {
      "model_module": "@jupyter-widgets/controls",
      "model_module_version": "2.0.0",
      "model_name": "DescriptionStyleModel",
      "state": {
       "description_width": ""
      }
     },
     "116fddf768c042b7b8568c6f0ba785d1": {
      "model_module": "@jupyter-widgets/controls",
      "model_module_version": "2.0.0",
      "model_name": "HTMLModel",
      "state": {
       "layout": "IPY_MODEL_87a4f5653940402e9281902cbd987237",
       "style": "IPY_MODEL_23de70578e674bef869964e6a0ed2c11",
       "value": "<span style=\"color:rgb(56, 23, 78)\"; \"font-size:10.0pt\">&nbsp&nbsp&nbsp&nbsp&nbsp&nbsp <b>#call_nr = 32 - #caller(s): set_selections(), reset_selection(), _notify_observers()</b> &nbsp&nbsp&nbsp&nbsp&nbsp&nbsp</span><span style=\"color:rgb(56, 23, 78)\"; \"font-size:8.0pt\">set_selections()<br>&nbsp&nbsp&nbsp&nbsp&nbsp&nbsp -- <b>#call_nr = 32 </b> &nbsp&nbsp&nbsp&nbsp&nbsp&nbsp -- step 1<br>&nbsp&nbsp&nbsp&nbsp&nbsp&nbsp -- <b>#call_nr = 32 </b> &nbsp&nbsp&nbsp&nbsp&nbsp&nbsp -- sel_tool_ls = [('Multi-plot', 0)]<br>&nbsp&nbsp&nbsp&nbsp&nbsp&nbsp -- <b>#call_nr = 32 </b> &nbsp&nbsp&nbsp&nbsp&nbsp&nbsp -- sel_tool_index = None<br>&nbsp&nbsp&nbsp&nbsp&nbsp&nbsp -- <b>#call_nr = 32 </b> &nbsp&nbsp&nbsp&nbsp&nbsp&nbsp -- sel_var_ls = [('SWC_5 (ETC NRT Meteo), H2O (ETC NRT Fluxes)', (0, [['%', [['SWC_5', 'ETC NRT Meteo', 'SE-Htm']]], ['mmol mol-1', [['H2O', 'ETC NRT Fluxes', 'SE-Htm']]]]))]</span>"
      }
     },
     "120cc87e0a84454298c7b6b2658a4a36": {
      "model_module": "@jupyter-widgets/base",
      "model_module_version": "2.0.0",
      "model_name": "LayoutModel",
      "state": {}
     },
     "121651b113d140eab713bd11fc702d96": {
      "model_module": "@jupyter-widgets/controls",
      "model_module_version": "2.0.0",
      "model_name": "HTMLModel",
      "state": {
       "layout": "IPY_MODEL_5f2b80fd51ab458ebf972fa3a4907ee3",
       "style": "IPY_MODEL_f33a4d8762e0443a8d91dc789fc8bdc6",
       "value": "<span style=\"color:rgb(169, 24, 25)\"; \"font-size:10.0pt\">&nbsp&nbsp&nbsp&nbsp&nbsp&nbsp <b>#call_nr = 21 - #caller(s): init_batch_drop(), reset_batch_gui(), changed_group_drop()</b> &nbsp&nbsp&nbsp&nbsp&nbsp&nbsp</span><span style=\"color:rgb(169, 24, 25)\"; \"font-size:8.0pt\">init_batch_drop()<br>&nbsp&nbsp&nbsp&nbsp&nbsp&nbsp -- <b>#call_nr = 21 </b> &nbsp&nbsp&nbsp&nbsp&nbsp&nbsp -- step 3<br>&nbsp&nbsp&nbsp&nbsp&nbsp&nbsp -- <b>#call_nr = 21 </b> &nbsp&nbsp&nbsp&nbsp&nbsp&nbsp -- batch_drop.label = mp2 <br>&nbsp&nbsp&nbsp&nbsp&nbsp&nbsp -- <b>#call_nr = 21 </b> &nbsp&nbsp&nbsp&nbsp&nbsp&nbsp -- batch_drop.value = {'0': {'multi_plot': [['%', [['SWC_5', 'ETC NRT Meteo', 'SE-Htm']]], ['mmol mol-1', [['H2O', 'ETC NRT Fluxes', 'SE-Htm']]]]}, '_version': '1'}<br>&nbsp&nbsp&nbsp&nbsp&nbsp&nbsp -- <b>#call_nr = 21 </b> &nbsp&nbsp&nbsp&nbsp&nbsp&nbsp -- -- end--</span>"
      }
     },
     "12b3214c533a480189f99942e3e46d05": {
      "model_module": "@jupyter-widgets/controls",
      "model_module_version": "2.0.0",
      "model_name": "ButtonStyleModel",
      "state": {
       "font_family": null,
       "font_size": null,
       "font_style": null,
       "font_variant": null,
       "font_weight": null,
       "text_color": null,
       "text_decoration": null
      }
     },
     "12f91133e1de498785361a5b62169c2d": {
      "model_module": "@jupyter-widgets/controls",
      "model_module_version": "2.0.0",
      "model_name": "HBoxModel",
      "state": {
       "children": [
        "IPY_MODEL_fc26fc9f069e4aa99ea8eaad0f58df44",
        "IPY_MODEL_5544c61f266e4b47b8a9afdc21e8b356"
       ],
       "layout": "IPY_MODEL_52646c4ebc2c46fe89d570fe299df3c0"
      }
     },
     "134fc331b7e34d129c7e166e8bc100d0": {
      "model_module": "@jupyter-widgets/controls",
      "model_module_version": "2.0.0",
      "model_name": "HTMLModel",
      "state": {
       "layout": "IPY_MODEL_4aa1da1a9f0046be80d6bda06d0a2cff",
       "style": "IPY_MODEL_7bb2ea5bc98e426588da2743e4298bc9",
       "value": "<span style=\"color:rgb(112, 46, 5)\"; \"font-size:10.0pt\">&nbsp&nbsp&nbsp&nbsp&nbsp&nbsp <b>#call_nr = 97 - #caller(s): get_var2unit_dict(), var2unit(), var_button_click()</b> &nbsp&nbsp&nbsp&nbsp&nbsp&nbsp</span><span style=\"color:rgb(112, 46, 5)\"; \"font-size:8.0pt\">get_var2unit_dict()</span>"
      }
     },
     "13e3086c76174c188fe0e06f92c76ef9": {
      "model_module": "@jupyter-widgets/controls",
      "model_module_version": "2.0.0",
      "model_name": "IntTextModel",
      "state": {
       "layout": "IPY_MODEL_8fd7fc9f027d42a4b7812d9ecf7da6f7",
       "step": 1,
       "style": "IPY_MODEL_e65de521d41146ecbe25266add1001aa",
       "value": 10
      }
     },
     "144a4236408f4c0eadeaa16b1e18813d": {
      "model_module": "@jupyter-widgets/controls",
      "model_module_version": "2.0.0",
      "model_name": "HTMLModel",
      "state": {
       "layout": "IPY_MODEL_d3ea58e934234eaba7e48754ca72da83",
       "style": "IPY_MODEL_74682258c5454ce1a17ae5c91988651b",
       "value": "<span style=\"color:rgb(174, 175, 106)\"; \"font-size:10.0pt\">&nbsp&nbsp&nbsp&nbsp&nbsp&nbsp <b>#call_nr = 68 - #caller(s): get_batch_upd_dict(), update_batch_dict(), tool_selections()</b> &nbsp&nbsp&nbsp&nbsp&nbsp&nbsp</span><span style=\"color:rgb(174, 175, 106)\"; \"font-size:8.0pt\">get_batch_upd_dict()<br>&nbsp&nbsp&nbsp&nbsp&nbsp&nbsp -- <b>#call_nr = 68 </b> &nbsp&nbsp&nbsp&nbsp&nbsp&nbsp -- d ={'_upd_mode': 'update', '_version': 1, '_orig_name': 'mp2 ', '_new_name': 'mp2 ', '_selected_tool_index': None, '_tools': {0: {'multi_plot': [['%', [['SWC_5', 'ETC NRT Meteo', 'SE-Htm']]], ['mmol mol-1', [['H2O', 'ETC NRT Fluxes', 'SE-Htm']]]]}}}</span>"
      }
     },
     "14f0517f850e41b2a20a22e4f4440175": {
      "model_module": "@jupyter-widgets/controls",
      "model_module_version": "2.0.0",
      "model_name": "HTMLModel",
      "state": {
       "layout": "IPY_MODEL_680bd32dd5574958897268017a396fda",
       "style": "IPY_MODEL_769ec951e7cb4ce9871af59a810cc432",
       "value": "<span style=\"color:rgb(15, 99, 92)\"; \"font-size:10.0pt\">&nbsp&nbsp&nbsp&nbsp&nbsp&nbsp <b>#call_nr = 137 - #caller(s): format_tool_vars(), reset_selection(), _notify_observers()</b> &nbsp&nbsp&nbsp&nbsp&nbsp&nbsp</span><span style=\"color:rgb(15, 99, 92)\"; \"font-size:8.0pt\">label_of_selected_var_row()<br>&nbsp&nbsp&nbsp&nbsp&nbsp&nbsp -- <b>#call_nr = 137 </b> &nbsp&nbsp&nbsp&nbsp&nbsp&nbsp -- tool_code = {0: {'multi_plot': [['%', [['SWC_5', 'ETC NRT Meteo', 'SE-Htm']]], ['mmol mol-1', [['H2O', 'ETC NRT Fluxes', 'SE-Htm']]]]}, 1: {'multi_plot': [('°C', [['TA', 'ETC NRT Meteo', 'SE-Htm']]), ('mmol mol-1', [['H2O', 'ETC NRT Fluxes', 'SE-Htm']])]}}<br>&nbsp&nbsp&nbsp&nbsp&nbsp&nbsp -- <b>#call_nr = 137 </b> &nbsp&nbsp&nbsp&nbsp&nbsp&nbsp -- batch_drop.value = {'0': {'multi_plot': [['%', [['SWC_5', 'ETC NRT Meteo', 'SE-Htm']]], ['mmol mol-1', [['H2O', 'ETC NRT Fluxes', 'SE-Htm']]]]}, '_version': '1'}</span>"
      }
     },
     "153af2d5d2b44206bf78c361b46e19cf": {
      "model_module": "@jupyter-widgets/controls",
      "model_module_version": "2.0.0",
      "model_name": "ButtonStyleModel",
      "state": {
       "button_color": "LightSeaGreen",
       "font_family": null,
       "font_size": null,
       "font_style": null,
       "font_variant": null,
       "font_weight": null,
       "text_color": null,
       "text_decoration": null
      }
     },
     "154b7d7558884f35a14526665ac4b4b2": {
      "model_module": "@jupyter-widgets/base",
      "model_module_version": "2.0.0",
      "model_name": "LayoutModel",
      "state": {}
     },
     "15a4fa66673f41668b9526eaf63c3620": {
      "model_module": "@jupyter-widgets/controls",
      "model_module_version": "2.0.0",
      "model_name": "VBoxModel",
      "state": {
       "children": [
        "IPY_MODEL_02054f896a9d4c37b254b8c724295bea",
        "IPY_MODEL_2b72cfabd5104b2ea1472e0dbbd95b31"
       ],
       "layout": "IPY_MODEL_40bb762d6a7b4f979a672eb4aee9187c"
      }
     },
     "15b2f42af8544a949f457795cfe1ca8e": {
      "model_module": "@jupyter-widgets/base",
      "model_module_version": "2.0.0",
      "model_name": "LayoutModel",
      "state": {}
     },
     "15c4b2440a534abc93aadf88f87fb90c": {
      "model_module": "@jupyter-widgets/controls",
      "model_module_version": "2.0.0",
      "model_name": "HTMLStyleModel",
      "state": {
       "description_width": "",
       "font_size": null,
       "text_color": null
      }
     },
     "1636c870f1604861af0d799216ce3d9d": {
      "model_module": "@jupyter-widgets/base",
      "model_module_version": "2.0.0",
      "model_name": "LayoutModel",
      "state": {}
     },
     "165741e0d2cc4489ade8242da42f59f7": {
      "model_module": "@jupyter-widgets/controls",
      "model_module_version": "2.0.0",
      "model_name": "HTMLStyleModel",
      "state": {
       "description_width": "",
       "font_size": null,
       "text_color": null
      }
     },
     "1668ccd998224cf199ac2c8ef9367195": {
      "model_module": "@jupyter-widgets/controls",
      "model_module_version": "2.0.0",
      "model_name": "HTMLStyleModel",
      "state": {
       "description_width": "",
       "font_size": null,
       "text_color": null
      }
     },
     "16a4825010cd4689b71b716d4927976b": {
      "model_module": "@jupyter-widgets/controls",
      "model_module_version": "2.0.0",
      "model_name": "HTMLModel",
      "state": {
       "layout": "IPY_MODEL_c4a1515136424f2abce827590f4fc34c",
       "style": "IPY_MODEL_feadc8c49b10447eaf8769cd4ad903b5",
       "value": "<span style=\"color:rgb(92, 150, 134)\"; \"font-size:10.0pt\">&nbsp&nbsp&nbsp&nbsp&nbsp&nbsp <b>#call_nr = 187 - #caller(s): set_batch_upd_dict(), changed_batch_drop(), init_batch_drop()</b> &nbsp&nbsp&nbsp&nbsp&nbsp&nbsp</span><span style=\"color:rgb(92, 150, 134)\"; \"font-size:8.0pt\">set_batch_upd_dict()<br>&nbsp&nbsp&nbsp&nbsp&nbsp&nbsp -- <b>#call_nr = 187 </b> &nbsp&nbsp&nbsp&nbsp&nbsp&nbsp -- step 2<br>&nbsp&nbsp&nbsp&nbsp&nbsp&nbsp -- <b>#call_nr = 187 </b> &nbsp&nbsp&nbsp&nbsp&nbsp&nbsp -- upd_dict_log.value ={'_upd_mode': 'read_mode_with_batch', '_selected_tool_index': None, '_version': '2', '_tools': {'0': {'multi_plot': [['%', [['SWC_5', 'ETC NRT Meteo', 'SE-Htm']]], ['mmol mol-1', [['H2O', 'ETC NRT Fluxes', 'SE-Htm']]]]}, '1': {'multi_plot': [('°C', [['TA', 'ETC NRT Meteo', 'SE-Htm']]), ('mmol mol-1', [['H2O', 'ETC NRT Fluxes', 'SE-Htm']])]}}}</span>"
      }
     },
     "16b9574ab1af41949251a4f5f40b7828": {
      "model_module": "@jupyter-widgets/controls",
      "model_module_version": "2.0.0",
      "model_name": "HTMLModel",
      "state": {
       "layout": "IPY_MODEL_204e339ff4fc416788d957734486d872",
       "style": "IPY_MODEL_182b940531e94faab3cc83488c03437e",
       "value": "<span><b>Guide:</b><br>In a <b><i>Correlation plot</i></b> you can compare <i>two</i> variables against each other. <br>The background color can be changed by switching the <b><i><a href=\"https://plotly.com/python/templates/\" target=\"_blank\"><font color=\"DarkBlue\">Plotly template</font></a></i></b>.<br>Setting <b><i>Height</i></b> or <b><i>Width</i></b> to a value below 200 will lead to plotly default value. <br>The <b><i>Plotly color scale</i></b> is used in order to <i>visualize the sampling timestamps </i> of the data, the color scale can be changed in order to ease variants of <b><i><a href=\"https://www.aao.org/eye-health/diseases/what-is-color-blindness\" target=\"_blank\"><font color=\"DarkBlue\">color deficiencies</font></a></i></b>.</span>"
      }
     },
     "1792d7758fc5407195858d60cfa5fd39": {
      "model_module": "@jupyter-widgets/controls",
      "model_module_version": "2.0.0",
      "model_name": "HTMLStyleModel",
      "state": {
       "description_width": "",
       "font_size": null,
       "text_color": null
      }
     },
     "17a015d604b34b449af199c7d88c88a5": {
      "model_module": "@jupyter-widgets/controls",
      "model_module_version": "2.0.0",
      "model_name": "DescriptionStyleModel",
      "state": {
       "description_width": ""
      }
     },
     "17b9063a4c0e42e7b0cd32c67af062f1": {
      "model_module": "@jupyter-widgets/base",
      "model_module_version": "2.0.0",
      "model_name": "LayoutModel",
      "state": {}
     },
     "17f5c63426f94d6dbb3c3628937f327b": {
      "model_module": "@jupyter-widgets/controls",
      "model_module_version": "2.0.0",
      "model_name": "HTMLStyleModel",
      "state": {
       "description_width": "",
       "font_size": null,
       "text_color": null
      }
     },
     "1823d31bb80f4d9cbd8af6457af7cccf": {
      "model_module": "@jupyter-widgets/base",
      "model_module_version": "2.0.0",
      "model_name": "LayoutModel",
      "state": {}
     },
     "182b940531e94faab3cc83488c03437e": {
      "model_module": "@jupyter-widgets/controls",
      "model_module_version": "2.0.0",
      "model_name": "HTMLStyleModel",
      "state": {
       "description_width": "",
       "font_size": null,
       "text_color": null
      }
     },
     "1849205dabaf483ea1cfc94d344e878d": {
      "model_module": "@jupyter-widgets/controls",
      "model_module_version": "2.0.0",
      "model_name": "HTMLModel",
      "state": {
       "layout": "IPY_MODEL_817f12f521d542b8b2ee1191b0b8da47",
       "style": "IPY_MODEL_0e0f4915a492473a993494c593f5adee",
       "value": "<span style=\"color:rgb(115, 110, 51)\"; \"font-size:10.0pt\">&nbsp&nbsp&nbsp&nbsp&nbsp&nbsp <b>#call_nr = 60 - #caller(s): tool_selections(), tool_click(), __call__()</b> &nbsp&nbsp&nbsp&nbsp&nbsp&nbsp</span><span style=\"color:rgb(115, 110, 51)\"; \"font-size:8.0pt\">tool_selections() -- input<br>&nbsp&nbsp&nbsp&nbsp&nbsp&nbsp -- <b>#call_nr = 60 </b> &nbsp&nbsp&nbsp&nbsp&nbsp&nbsp -- add_tool = True<br>&nbsp&nbsp&nbsp&nbsp&nbsp&nbsp -- <b>#call_nr = 60 </b> &nbsp&nbsp&nbsp&nbsp&nbsp&nbsp -- tool_name = Multi-plot</span>"
      }
     },
     "1856c5bb5c144875a84cceceafc51626": {
      "model_module": "@jupyter-widgets/controls",
      "model_module_version": "2.0.0",
      "model_name": "HBoxModel",
      "state": {
       "children": [
        "IPY_MODEL_b09dfd8fe4284c868b6b047f95b437a1",
        "IPY_MODEL_1085ae853fa24528aa3cbbbc1ac47ecf"
       ],
       "layout": "IPY_MODEL_8bdfabca01434fac82352bf2bd322d7c"
      }
     },
     "189bd726905e4926b0d1de9b63b50b78": {
      "model_module": "@jupyter-widgets/controls",
      "model_module_version": "2.0.0",
      "model_name": "HTMLModel",
      "state": {
       "layout": "IPY_MODEL_dbd542d2dfb74d5aaf91efac00077e90",
       "style": "IPY_MODEL_71b76084cea9414994a560cf5258397a",
       "value": "<span style=\"color:rgb(128, 100, 39)\"; \"font-size:10.0pt\">&nbsp&nbsp&nbsp&nbsp&nbsp&nbsp <b>#call_nr = 130 - #caller(s): var2unit(), var_button_click(), __call__()</b> &nbsp&nbsp&nbsp&nbsp&nbsp&nbsp</span><span style=\"color:rgb(128, 100, 39)\"; \"font-size:8.0pt\">var2unit()<br>&nbsp&nbsp&nbsp&nbsp&nbsp&nbsp -- <b>#call_nr = 130 </b> &nbsp&nbsp&nbsp&nbsp&nbsp&nbsp -- var = ['H2O', 'ETC NRT Fluxes', 'SE-Htm']<br>&nbsp&nbsp&nbsp&nbsp&nbsp&nbsp -- <b>#call_nr = 130 </b> &nbsp&nbsp&nbsp&nbsp&nbsp&nbsp -- return unit = mmol mol-1</span>"
      }
     },
     "189ef1b95a7c418ca957bd6176913f6c": {
      "model_module": "@jupyter-widgets/base",
      "model_module_version": "2.0.0",
      "model_name": "LayoutModel",
      "state": {}
     },
     "19799e5acb614b76a896f1b9e6a3ef68": {
      "model_module": "@jupyter-widgets/controls",
      "model_module_version": "2.0.0",
      "model_name": "HTMLModel",
      "state": {
       "layout": "IPY_MODEL_039ef774786347cfaf47bcc236e37ddc",
       "style": "IPY_MODEL_da0f1de55784492f9149d91f79548426",
       "value": "<span style=\"color:rgb(97, 124, 64)\"; \"font-size:10.0pt\">&nbsp&nbsp&nbsp&nbsp&nbsp&nbsp <b>#call_nr = 76 - #caller(s): reset_var_buttons(), reset_selection(), _notify_observers()</b> &nbsp&nbsp&nbsp&nbsp&nbsp&nbsp</span><span style=\"color:rgb(97, 124, 64)\"; \"font-size:8.0pt\">reset_var_buttons()   --- start ---<br>&nbsp&nbsp&nbsp&nbsp&nbsp&nbsp -- <b>#call_nr = 76 </b> &nbsp&nbsp&nbsp&nbsp&nbsp&nbsp --   - index of selected_tools = 1</span>"
      }
     },
     "19e0a7f8f05344e4b43f10e6994d18f6": {
      "model_module": "@jupyter-widgets/base",
      "model_module_version": "2.0.0",
      "model_name": "LayoutModel",
      "state": {
       "display": "none",
       "min_width": "125px"
      }
     },
     "1a3bcbf9612543cbbcdd2b0eac1f4e1e": {
      "model_module": "@jupyter-widgets/controls",
      "model_module_version": "2.0.0",
      "model_name": "HBoxModel",
      "state": {
       "children": [
        "IPY_MODEL_dc433897305b4ea7ac92b226228ecf61",
        "IPY_MODEL_092866803ff74d1fb62ccb8b51550518"
       ],
       "layout": "IPY_MODEL_46a337661a544c748543d589baee92e3"
      }
     },
     "1adecedc446940549c1b18f2e06e8a43": {
      "model_module": "@jupyter-widgets/base",
      "model_module_version": "2.0.0",
      "model_name": "LayoutModel",
      "state": {}
     },
     "1b14b65b4d2c4a33914b0a8fc55cd4c4": {
      "model_module": "@jupyter-widgets/controls",
      "model_module_version": "2.0.0",
      "model_name": "HTMLStyleModel",
      "state": {
       "description_width": "",
       "font_size": null,
       "text_color": null
      }
     },
     "1b26b34228a74b088ada35ff012e0910": {
      "model_module": "@jupyter-widgets/controls",
      "model_module_version": "2.0.0",
      "model_name": "HTMLStyleModel",
      "state": {
       "description_width": "",
       "font_size": null,
       "text_color": null
      }
     },
     "1b36950b631c438ba3e4366dc91beb3c": {
      "model_module": "@jupyter-widgets/controls",
      "model_module_version": "2.0.0",
      "model_name": "CheckboxModel",
      "state": {
       "disabled": false,
       "indent": false,
       "layout": "IPY_MODEL_b5729f80a12c47b7ac291b818f1f6668",
       "style": "IPY_MODEL_8492572a3984481f8de2002614132cd6",
       "tooltip": "Applies to the y-axes",
       "value": true
      }
     },
     "1ba9175d15eb451d8762d424c2351428": {
      "model_module": "@jupyter-widgets/controls",
      "model_module_version": "2.0.0",
      "model_name": "CheckboxModel",
      "state": {
       "disabled": false,
       "indent": false,
       "layout": "IPY_MODEL_b5729f80a12c47b7ac291b818f1f6668",
       "style": "IPY_MODEL_05f0b827da804a2e8d1f0d6eed83c7d8",
       "value": false
      }
     },
     "1bb838efcb6e4ed397e32825b7b8c13d": {
      "model_module": "@jupyter-widgets/controls",
      "model_module_version": "2.0.0",
      "model_name": "HBoxModel",
      "state": {
       "children": [
        "IPY_MODEL_e543b0159ece440f88e6b25d3a2d49b0",
        "IPY_MODEL_3f8af14e9e964002b2d61791979d16b5",
        "IPY_MODEL_b8c71ef241224cdc95df4d5733076427"
       ],
       "layout": "IPY_MODEL_a018739228b3402790965a36f12134ca"
      }
     },
     "1c0547825c59408a99c304524360875b": {
      "model_module": "@jupyter-widgets/controls",
      "model_module_version": "2.0.0",
      "model_name": "HTMLModel",
      "state": {
       "layout": "IPY_MODEL_5d886c8cd4a548e9aa8793abbdc5a078",
       "style": "IPY_MODEL_2288d660bbcd4f468b49f595343845a3",
       "value": "<span style=\"color:rgb(92, 150, 134)\"; \"font-size:10.0pt\">&nbsp&nbsp&nbsp&nbsp&nbsp&nbsp <b>#call_nr = 176 - #caller(s): set_batch_upd_dict(), changed_batch_drop(), _notify_observers()</b> &nbsp&nbsp&nbsp&nbsp&nbsp&nbsp</span><span style=\"color:rgb(92, 150, 134)\"; \"font-size:8.0pt\">set_batch_upd_dict()<br>&nbsp&nbsp&nbsp&nbsp&nbsp&nbsp -- <b>#call_nr = 176 </b> &nbsp&nbsp&nbsp&nbsp&nbsp&nbsp -- step 1<br>&nbsp&nbsp&nbsp&nbsp&nbsp&nbsp -- <b>#call_nr = 176 </b> &nbsp&nbsp&nbsp&nbsp&nbsp&nbsp -- d ={'_upd_mode': 'read_mode_with_batch', '_tools': {'0': {'multi_plot': [['%', [['SWC_5', 'ETC NRT Meteo', 'SE-Htm']]], ['mmol mol-1', [['H2O', 'ETC NRT Fluxes', 'SE-Htm']]]]}, '1': {'multi_plot': [('°C', [['TA', 'ETC NRT Meteo', 'SE-Htm']]), ('mmol mol-1', [['H2O', 'ETC NRT Fluxes', 'SE-Htm']])]}}, '_selected_tool_index': None, '_version': '2'}</span>"
      }
     },
     "1c1591fa21e743d199c130d32ed75cdd": {
      "model_module": "@jupyter-widgets/base",
      "model_module_version": "2.0.0",
      "model_name": "LayoutModel",
      "state": {}
     },
     "1cb6a71584f349d69981bb0c5614ff08": {
      "model_module": "@jupyter-widgets/base",
      "model_module_version": "2.0.0",
      "model_name": "LayoutModel",
      "state": {
       "max_width": "150px"
      }
     },
     "1ce95e1047774f6788815cdd89a3f6fb": {
      "model_module": "@jupyter-widgets/base",
      "model_module_version": "2.0.0",
      "model_name": "LayoutModel",
      "state": {}
     },
     "1cf4e5bae0f24815b2264537dabf3547": {
      "model_module": "@jupyter-widgets/base",
      "model_module_version": "2.0.0",
      "model_name": "LayoutModel",
      "state": {
       "max_width": "145px",
       "min_width": "100px"
      }
     },
     "1d500b0ff22541bba85caa4942b8b968": {
      "model_module": "@jupyter-widgets/controls",
      "model_module_version": "2.0.0",
      "model_name": "HTMLModel",
      "state": {
       "layout": "IPY_MODEL_3d14359ee9214fdea0b0c80d2b3ac8d1",
       "style": "IPY_MODEL_f8cfe264713a43c483fe5e3a0d7ff745",
       "value": "<span style=\"color:rgb(112, 46, 5)\"; \"font-size:10.0pt\">&nbsp&nbsp&nbsp&nbsp&nbsp&nbsp <b>#call_nr = 45 - #caller(s): get_var2unit_dict(), var2unit(), init_group_var_buttons()</b> &nbsp&nbsp&nbsp&nbsp&nbsp&nbsp</span><span style=\"color:rgb(112, 46, 5)\"; \"font-size:8.0pt\">get_var2unit_dict()</span>"
      }
     },
     "1d9d107fb7564a939f7191c9cbe32dca": {
      "model_module": "@jupyter-widgets/controls",
      "model_module_version": "2.0.0",
      "model_name": "ButtonStyleModel",
      "state": {
       "button_color": "MediumSeaGreen",
       "font_family": null,
       "font_size": null,
       "font_style": null,
       "font_variant": null,
       "font_weight": null,
       "text_color": null,
       "text_decoration": null
      }
     },
     "1e1d4d20fed84dff8a08373201768c20": {
      "model_module": "@jupyter-widgets/base",
      "model_module_version": "2.0.0",
      "model_name": "LayoutModel",
      "state": {
       "min_width": "125px"
      }
     },
     "1e2a81dfbdfa47cca10c1bc9f3a49d85": {
      "model_module": "@jupyter-widgets/base",
      "model_module_version": "2.0.0",
      "model_name": "LayoutModel",
      "state": {}
     },
     "1eafc3bc2bf74f6c9c2a7c6f84684895": {
      "model_module": "@jupyter-widgets/controls",
      "model_module_version": "2.0.0",
      "model_name": "HTMLStyleModel",
      "state": {
       "description_width": "",
       "font_size": null,
       "text_color": null
      }
     },
     "1ee0b8fa12a94149bde4d1ecf2083107": {
      "model_module": "@jupyter-widgets/controls",
      "model_module_version": "2.0.0",
      "model_name": "HTMLStyleModel",
      "state": {
       "description_width": "",
       "font_size": null,
       "text_color": null
      }
     },
     "1efa412ed01a452e90b9c2c7d1393f0d": {
      "model_module": "@jupyter-widgets/controls",
      "model_module_version": "2.0.0",
      "model_name": "HBoxModel",
      "state": {
       "children": [
        "IPY_MODEL_e78fd035b4084ebc9215a08e918509f2",
        "IPY_MODEL_58e1a21e9c034d8589f0e1d822a379a7"
       ],
       "layout": "IPY_MODEL_6625d1b3782441f0b2f19b40a5f9df37"
      }
     },
     "1f91896065fc483c8c89816f47fabe01": {
      "model_module": "@jupyter-widgets/base",
      "model_module_version": "2.0.0",
      "model_name": "LayoutModel",
      "state": {}
     },
     "1f99222732994b73a1cfbacf36bdda9c": {
      "model_module": "@jupyter-widgets/controls",
      "model_module_version": "2.0.0",
      "model_name": "DropdownModel",
      "state": {
       "_options_labels": [
        "Default",
        "6",
        "8",
        "10",
        "11",
        "12",
        "14",
        "17"
       ],
       "index": 0,
       "layout": "IPY_MODEL_8fd7fc9f027d42a4b7812d9ecf7da6f7",
       "style": "IPY_MODEL_cbc3d7ef50e448fba007e6ae5dba6fba"
      }
     },
     "1fa32c1b189f4146949779ba1a697d07": {
      "model_module": "@jupyter-widgets/controls",
      "model_module_version": "2.0.0",
      "model_name": "ToggleButtonsModel",
      "state": {
       "_options_labels": [
        "Start ",
        "Group menu ",
        "Configurations ",
        "Help "
       ],
       "button_style": "success",
       "icons": [
        "area-chart",
        "list",
        "cog",
        "info-circle"
       ],
       "index": 2,
       "layout": "IPY_MODEL_3aa01c06e5c24bf58e09c6fb081edd4e",
       "style": "IPY_MODEL_0012fa2437e34c9197de8ff59ea0e674",
       "tooltips": []
      }
     },
     "1fc3d5ed4ad64994bfda345a61e32a9d": {
      "model_module": "@jupyter-widgets/base",
      "model_module_version": "2.0.0",
      "model_name": "LayoutModel",
      "state": {
       "display": "none"
      }
     },
     "204e339ff4fc416788d957734486d872": {
      "model_module": "@jupyter-widgets/base",
      "model_module_version": "2.0.0",
      "model_name": "LayoutModel",
      "state": {}
     },
     "20643e42ef9d48108ff6f34ebfe23390": {
      "model_module": "@jupyter-widgets/base",
      "model_module_version": "2.0.0",
      "model_name": "LayoutModel",
      "state": {}
     },
     "20b00cb933544909959c67f3a50e5071": {
      "model_module": "@jupyter-widgets/controls",
      "model_module_version": "2.0.0",
      "model_name": "HTMLModel",
      "state": {
       "layout": "IPY_MODEL_63a500bdcb4547649ee92c8f7875de88",
       "style": "IPY_MODEL_f9474a8440e143a2babb221f40721069",
       "value": "<span style=\"color:rgb(92, 150, 134)\"; \"font-size:10.0pt\">&nbsp&nbsp&nbsp&nbsp&nbsp&nbsp <b>#call_nr = 12 - #caller(s): set_batch_upd_dict(), changed_batch_drop(), _notify_observers()</b> &nbsp&nbsp&nbsp&nbsp&nbsp&nbsp</span><span style=\"color:rgb(92, 150, 134)\"; \"font-size:8.0pt\">set_batch_upd_dict()<br>&nbsp&nbsp&nbsp&nbsp&nbsp&nbsp -- <b>#call_nr = 12 </b> &nbsp&nbsp&nbsp&nbsp&nbsp&nbsp -- step 1<br>&nbsp&nbsp&nbsp&nbsp&nbsp&nbsp -- <b>#call_nr = 12 </b> &nbsp&nbsp&nbsp&nbsp&nbsp&nbsp -- d ={'_upd_mode': 'read_mode_with_batch', '_tools': {'0': {'multi_plot': [['%', [['SWC_5', 'ETC NRT Meteo', 'SE-Htm']]], ['mmol mol-1', [['H2O', 'ETC NRT Fluxes', 'SE-Htm']]]]}}, '_selected_tool_index': None, '_version': '1'}</span>"
      }
     },
     "21137236470744f287f255bfcd3d8183": {
      "model_module": "@jupyter-widgets/output",
      "model_module_version": "1.0.0",
      "model_name": "OutputModel",
      "state": {
       "layout": "IPY_MODEL_dd0dde20c71f4e1fbdcbf3235c3c3c7b",
       "outputs": [
        {
         "data": {
          "application/vnd.jupyter.widget-view+json": {
           "model_id": "8db8a619088c4273ad89399a1d4616f4",
           "version_major": 2,
           "version_minor": 0
          },
          "text/plain": "HTML(value='<span style=\"color:rgb(0, 0, 0)\"; \"font-size:10.0pt\">&nbsp&nbsp&nbsp&nbsp&nbsp&nbsp <b>#call_nr = …"
         },
         "metadata": {},
         "output_type": "display_data"
        },
        {
         "data": {
          "application/vnd.jupyter.widget-view+json": {
           "model_id": "f0c3526676d84c30ac4dacd169d0094a",
           "version_major": 2,
           "version_minor": 0
          },
          "text/plain": "HTML(value='<span style=\"color:rgb(0, 0, 0)\"; \"font-size:10.0pt\">&nbsp&nbsp&nbsp&nbsp&nbsp&nbsp <b>#call_nr = …"
         },
         "metadata": {},
         "output_type": "display_data"
        },
        {
         "data": {
          "application/vnd.jupyter.widget-view+json": {
           "model_id": "5c86058b0674405d9d3cdbc8c94b77c5",
           "version_major": 2,
           "version_minor": 0
          },
          "text/plain": "HTML(value='<span style=\"color:rgb(82, 25, 123)\"; \"font-size:10.0pt\">&nbsp&nbsp&nbsp&nbsp&nbsp&nbsp <b>#call_n…"
         },
         "metadata": {},
         "output_type": "display_data"
        },
        {
         "data": {
          "application/vnd.jupyter.widget-view+json": {
           "model_id": "e95aba12293841908c6b8b1d8082b15e",
           "version_major": 2,
           "version_minor": 0
          },
          "text/plain": "HTML(value='<span style=\"color:rgb(164, 50, 95)\"; \"font-size:10.0pt\">&nbsp&nbsp&nbsp&nbsp&nbsp&nbsp <b>#call_n…"
         },
         "metadata": {},
         "output_type": "display_data"
        },
        {
         "data": {
          "application/vnd.jupyter.widget-view+json": {
           "model_id": "3f9ebcec8f7a4f2281676df475c70c03",
           "version_major": 2,
           "version_minor": 0
          },
          "text/plain": "HTML(value='<span style=\"color:rgb(5, 151, 81)\"; \"font-size:10.0pt\">&nbsp&nbsp&nbsp&nbsp&nbsp&nbsp <b>#call_nr…"
         },
         "metadata": {},
         "output_type": "display_data"
        },
        {
         "data": {
          "application/vnd.jupyter.widget-view+json": {
           "model_id": "517859ae86d246b18555683e4cbe443d",
           "version_major": 2,
           "version_minor": 0
          },
          "text/plain": "HTML(value='<span style=\"color:rgb(123, 126, 109)\"; \"font-size:10.0pt\">&nbsp&nbsp&nbsp&nbsp&nbsp&nbsp <b>#call…"
         },
         "metadata": {},
         "output_type": "display_data"
        },
        {
         "data": {
          "application/vnd.jupyter.widget-view+json": {
           "model_id": "4abbdadb3af240438664f2e3f915a43f",
           "version_major": 2,
           "version_minor": 0
          },
          "text/plain": "HTML(value='<span style=\"color:rgb(46, 75, 67)\"; \"font-size:10.0pt\">&nbsp&nbsp&nbsp&nbsp&nbsp&nbsp <b>#call_nr…"
         },
         "metadata": {},
         "output_type": "display_data"
        },
        {
         "data": {
          "application/vnd.jupyter.widget-view+json": {
           "model_id": "7e5cf3ef4c3f4e9ca140cb2cabd04eb8",
           "version_major": 2,
           "version_minor": 0
          },
          "text/plain": "HTML(value='<span style=\"color:rgb(41, 101, 137)\"; \"font-size:10.0pt\">&nbsp&nbsp&nbsp&nbsp&nbsp&nbsp <b>#call_…"
         },
         "metadata": {},
         "output_type": "display_data"
        },
        {
         "data": {
          "application/vnd.jupyter.widget-view+json": {
           "model_id": "7ebb4f93c76e4cc39f8ecff87ffc514b",
           "version_major": 2,
           "version_minor": 0
          },
          "text/plain": "HTML(value='<span style=\"color:rgb(169, 24, 25)\"; \"font-size:10.0pt\">&nbsp&nbsp&nbsp&nbsp&nbsp&nbsp <b>#call_n…"
         },
         "metadata": {},
         "output_type": "display_data"
        },
        {
         "data": {
          "application/vnd.jupyter.widget-view+json": {
           "model_id": "495922234b8844a29354936a6ea37583",
           "version_major": 2,
           "version_minor": 0
          },
          "text/plain": "HTML(value='<span style=\"color:rgb(169, 24, 25)\"; \"font-size:10.0pt\">&nbsp&nbsp&nbsp&nbsp&nbsp&nbsp <b>#call_n…"
         },
         "metadata": {},
         "output_type": "display_data"
        },
        {
         "data": {
          "application/vnd.jupyter.widget-view+json": {
           "model_id": "4765977e11834e65a1e0440aaaea79c4",
           "version_major": 2,
           "version_minor": 0
          },
          "text/plain": "HTML(value='<span style=\"color:rgb(51, 49, 148)\"; \"font-size:10.0pt\">&nbsp&nbsp&nbsp&nbsp&nbsp&nbsp <b>#call_n…"
         },
         "metadata": {},
         "output_type": "display_data"
        },
        {
         "data": {
          "application/vnd.jupyter.widget-view+json": {
           "model_id": "20b00cb933544909959c67f3a50e5071",
           "version_major": 2,
           "version_minor": 0
          },
          "text/plain": "HTML(value='<span style=\"color:rgb(92, 150, 134)\"; \"font-size:10.0pt\">&nbsp&nbsp&nbsp&nbsp&nbsp&nbsp <b>#call_…"
         },
         "metadata": {},
         "output_type": "display_data"
        },
        {
         "data": {
          "application/vnd.jupyter.widget-view+json": {
           "model_id": "a26e1b967c8e4efbb0e92e1b1cd68d13",
           "version_major": 2,
           "version_minor": 0
          },
          "text/plain": "HTML(value='<span style=\"color:rgb(174, 175, 106)\"; \"font-size:10.0pt\">&nbsp&nbsp&nbsp&nbsp&nbsp&nbsp <b>#call…"
         },
         "metadata": {},
         "output_type": "display_data"
        },
        {
         "data": {
          "application/vnd.jupyter.widget-view+json": {
           "model_id": "63f79cbab31943ac97ad1edf3ab90edf",
           "version_major": 2,
           "version_minor": 0
          },
          "text/plain": "HTML(value='<span style=\"color:rgb(133, 74, 120)\"; \"font-size:10.0pt\">&nbsp&nbsp&nbsp&nbsp&nbsp&nbsp <b>#call_…"
         },
         "metadata": {},
         "output_type": "display_data"
        },
        {
         "data": {
          "application/vnd.jupyter.widget-view+json": {
           "model_id": "53ed3fd7b915491c92e4f11b8e0b13f6",
           "version_major": 2,
           "version_minor": 0
          },
          "text/plain": "HTML(value='<span style=\"color:rgb(15, 99, 92)\"; \"font-size:10.0pt\">&nbsp&nbsp&nbsp&nbsp&nbsp&nbsp <b>#call_nr…"
         },
         "metadata": {},
         "output_type": "display_data"
        },
        {
         "data": {
          "application/vnd.jupyter.widget-view+json": {
           "model_id": "670f2cf149894d1686fb4a65df6a009f",
           "version_major": 2,
           "version_minor": 0
          },
          "text/plain": "HTML(value='<span style=\"color:rgb(87, 176, 53)\"; \"font-size:10.0pt\">&nbsp&nbsp&nbsp&nbsp&nbsp&nbsp <b>#call_n…"
         },
         "metadata": {},
         "output_type": "display_data"
        },
        {
         "data": {
          "application/vnd.jupyter.widget-view+json": {
           "model_id": "b01d8d322efc4ffdb08c3f99fc8af3c5",
           "version_major": 2,
           "version_minor": 0
          },
          "text/plain": "HTML(value='<span style=\"color:rgb(56, 23, 78)\"; \"font-size:10.0pt\">&nbsp&nbsp&nbsp&nbsp&nbsp&nbsp <b>#call_nr…"
         },
         "metadata": {},
         "output_type": "display_data"
        },
        {
         "data": {
          "application/vnd.jupyter.widget-view+json": {
           "model_id": "710f7490282649e3b5c55e91ee83b438",
           "version_major": 2,
           "version_minor": 0
          },
          "text/plain": "HTML(value='<span style=\"color:rgb(56, 23, 78)\"; \"font-size:10.0pt\">&nbsp&nbsp&nbsp&nbsp&nbsp&nbsp <b>#call_nr…"
         },
         "metadata": {},
         "output_type": "display_data"
        },
        {
         "data": {
          "application/vnd.jupyter.widget-view+json": {
           "model_id": "4f79e71851234273abc3826131319742",
           "version_major": 2,
           "version_minor": 0
          },
          "text/plain": "HTML(value='<span style=\"color:rgb(92, 150, 134)\"; \"font-size:10.0pt\">&nbsp&nbsp&nbsp&nbsp&nbsp&nbsp <b>#call_…"
         },
         "metadata": {},
         "output_type": "display_data"
        },
        {
         "data": {
          "application/vnd.jupyter.widget-view+json": {
           "model_id": "3317fe9bbdcd42a4ad943bda9f76a0cf",
           "version_major": 2,
           "version_minor": 0
          },
          "text/plain": "HTML(value='<span style=\"color:rgb(51, 49, 148)\"; \"font-size:10.0pt\">&nbsp&nbsp&nbsp&nbsp&nbsp&nbsp <b>#call_n…"
         },
         "metadata": {},
         "output_type": "display_data"
        },
        {
         "data": {
          "application/vnd.jupyter.widget-view+json": {
           "model_id": "121651b113d140eab713bd11fc702d96",
           "version_major": 2,
           "version_minor": 0
          },
          "text/plain": "HTML(value='<span style=\"color:rgb(169, 24, 25)\"; \"font-size:10.0pt\">&nbsp&nbsp&nbsp&nbsp&nbsp&nbsp <b>#call_n…"
         },
         "metadata": {},
         "output_type": "display_data"
        },
        {
         "data": {
          "application/vnd.jupyter.widget-view+json": {
           "model_id": "5ba57c0ac14445cf9c8bdba3e2c70d8e",
           "version_major": 2,
           "version_minor": 0
          },
          "text/plain": "HTML(value='<span style=\"color:rgb(10, 125, 11)\"; \"font-size:10.0pt\">&nbsp&nbsp&nbsp&nbsp&nbsp&nbsp <b>#call_n…"
         },
         "metadata": {},
         "output_type": "display_data"
        },
        {
         "data": {
          "application/vnd.jupyter.widget-view+json": {
           "model_id": "59683fcdcabe434aa4cfc3d852f40945",
           "version_major": 2,
           "version_minor": 0
          },
          "text/plain": "HTML(value='<span style=\"color:rgb(89, 108, 6)\"; \"font-size:10.0pt\">&nbsp&nbsp&nbsp&nbsp&nbsp&nbsp <b>#call_nr…"
         },
         "metadata": {},
         "output_type": "display_data"
        },
        {
         "data": {
          "application/vnd.jupyter.widget-view+json": {
           "model_id": "7f01cc527b8348db8fcdf2901b00d5d6",
           "version_major": 2,
           "version_minor": 0
          },
          "text/plain": "HTML(value='<span style=\"color:rgb(46, 75, 67)\"; \"font-size:10.0pt\">&nbsp&nbsp&nbsp&nbsp&nbsp&nbsp <b>#call_nr…"
         },
         "metadata": {},
         "output_type": "display_data"
        },
        {
         "data": {
          "application/vnd.jupyter.widget-view+json": {
           "model_id": "c273f2404fd5470cb043d368d791726d",
           "version_major": 2,
           "version_minor": 0
          },
          "text/plain": "HTML(value='<span style=\"color:rgb(41, 101, 137)\"; \"font-size:10.0pt\">&nbsp&nbsp&nbsp&nbsp&nbsp&nbsp <b>#call_…"
         },
         "metadata": {},
         "output_type": "display_data"
        },
        {
         "data": {
          "application/vnd.jupyter.widget-view+json": {
           "model_id": "44a5d6b8bdd34290844ace803e231941",
           "version_major": 2,
           "version_minor": 0
          },
          "text/plain": "HTML(value='<span style=\"color:rgb(125, 58, 62)\"; \"font-size:10.0pt\">&nbsp&nbsp&nbsp&nbsp&nbsp&nbsp <b>#call_n…"
         },
         "metadata": {},
         "output_type": "display_data"
        },
        {
         "data": {
          "application/vnd.jupyter.widget-view+json": {
           "model_id": "eaf5112b31df4a7c9d106410fd3696b9",
           "version_major": 2,
           "version_minor": 0
          },
          "text/plain": "HTML(value='<span style=\"color:rgb(92, 150, 134)\"; \"font-size:10.0pt\">&nbsp&nbsp&nbsp&nbsp&nbsp&nbsp <b>#call_…"
         },
         "metadata": {},
         "output_type": "display_data"
        },
        {
         "data": {
          "application/vnd.jupyter.widget-view+json": {
           "model_id": "abfb74c429fe4de58ede993547e37ca9",
           "version_major": 2,
           "version_minor": 0
          },
          "text/plain": "HTML(value='<span style=\"color:rgb(174, 175, 106)\"; \"font-size:10.0pt\">&nbsp&nbsp&nbsp&nbsp&nbsp&nbsp <b>#call…"
         },
         "metadata": {},
         "output_type": "display_data"
        },
        {
         "data": {
          "application/vnd.jupyter.widget-view+json": {
           "model_id": "346bad6ad210426cbcf2b3a7c355e2e3",
           "version_major": 2,
           "version_minor": 0
          },
          "text/plain": "HTML(value='<span style=\"color:rgb(133, 74, 120)\"; \"font-size:10.0pt\">&nbsp&nbsp&nbsp&nbsp&nbsp&nbsp <b>#call_…"
         },
         "metadata": {},
         "output_type": "display_data"
        },
        {
         "data": {
          "application/vnd.jupyter.widget-view+json": {
           "model_id": "89f0804b89c64d77bfc0ee5860a9413b",
           "version_major": 2,
           "version_minor": 0
          },
          "text/plain": "HTML(value='<span style=\"color:rgb(15, 99, 92)\"; \"font-size:10.0pt\">&nbsp&nbsp&nbsp&nbsp&nbsp&nbsp <b>#call_nr…"
         },
         "metadata": {},
         "output_type": "display_data"
        },
        {
         "data": {
          "application/vnd.jupyter.widget-view+json": {
           "model_id": "b14f56dc4a504b23a52cad380aedf9aa",
           "version_major": 2,
           "version_minor": 0
          },
          "text/plain": "HTML(value='<span style=\"color:rgb(87, 176, 53)\"; \"font-size:10.0pt\">&nbsp&nbsp&nbsp&nbsp&nbsp&nbsp <b>#call_n…"
         },
         "metadata": {},
         "output_type": "display_data"
        },
        {
         "data": {
          "application/vnd.jupyter.widget-view+json": {
           "model_id": "116fddf768c042b7b8568c6f0ba785d1",
           "version_major": 2,
           "version_minor": 0
          },
          "text/plain": "HTML(value='<span style=\"color:rgb(56, 23, 78)\"; \"font-size:10.0pt\">&nbsp&nbsp&nbsp&nbsp&nbsp&nbsp <b>#call_nr…"
         },
         "metadata": {},
         "output_type": "display_data"
        },
        {
         "data": {
          "application/vnd.jupyter.widget-view+json": {
           "model_id": "10434bc04dc14bd6a7170ba697bc29c6",
           "version_major": 2,
           "version_minor": 0
          },
          "text/plain": "HTML(value='<span style=\"color:rgb(56, 23, 78)\"; \"font-size:10.0pt\">&nbsp&nbsp&nbsp&nbsp&nbsp&nbsp <b>#call_nr…"
         },
         "metadata": {},
         "output_type": "display_data"
        },
        {
         "data": {
          "application/vnd.jupyter.widget-view+json": {
           "model_id": "ad1dd746ec7c4e64b65597da9458b787",
           "version_major": 2,
           "version_minor": 0
          },
          "text/plain": "HTML(value='<span style=\"color:rgb(97, 124, 64)\"; \"font-size:10.0pt\">&nbsp&nbsp&nbsp&nbsp&nbsp&nbsp <b>#call_n…"
         },
         "metadata": {},
         "output_type": "display_data"
        },
        {
         "data": {
          "application/vnd.jupyter.widget-view+json": {
           "model_id": "7c72e11db50d4f7c9e4cba3ac51788d7",
           "version_major": 2,
           "version_minor": 0
          },
          "text/plain": "HTML(value='<span style=\"color:rgb(97, 124, 64)\"; \"font-size:10.0pt\">&nbsp&nbsp&nbsp&nbsp&nbsp&nbsp <b>#call_n…"
         },
         "metadata": {},
         "output_type": "display_data"
        },
        {
         "data": {
          "application/vnd.jupyter.widget-view+json": {
           "model_id": "aa006d32dbfa4cd9a73603427c99d409",
           "version_major": 2,
           "version_minor": 0
          },
          "text/plain": "HTML(value='<span style=\"color:rgb(92, 150, 134)\"; \"font-size:10.0pt\">&nbsp&nbsp&nbsp&nbsp&nbsp&nbsp <b>#call_…"
         },
         "metadata": {},
         "output_type": "display_data"
        },
        {
         "data": {
          "application/vnd.jupyter.widget-view+json": {
           "model_id": "cce05ad09bd8401b8701fa9c38be627b",
           "version_major": 2,
           "version_minor": 0
          },
          "text/plain": "HTML(value='<span style=\"color:rgb(10, 125, 11)\"; \"font-size:10.0pt\">&nbsp&nbsp&nbsp&nbsp&nbsp&nbsp <b>#call_n…"
         },
         "metadata": {},
         "output_type": "display_data"
        },
        {
         "data": {
          "application/vnd.jupyter.widget-view+json": {
           "model_id": "e46efe5ef44a49bbab5bb9ad01be238b",
           "version_major": 2,
           "version_minor": 0
          },
          "text/plain": "HTML(value='<span style=\"color:rgb(89, 108, 6)\"; \"font-size:10.0pt\">&nbsp&nbsp&nbsp&nbsp&nbsp&nbsp <b>#call_nr…"
         },
         "metadata": {},
         "output_type": "display_data"
        },
        {
         "data": {
          "application/vnd.jupyter.widget-view+json": {
           "model_id": "be89c578c03d4a1994d1b1cc6002c0c9",
           "version_major": 2,
           "version_minor": 0
          },
          "text/plain": "HTML(value='<span style=\"color:rgb(89, 108, 6)\"; \"font-size:10.0pt\">&nbsp&nbsp&nbsp&nbsp&nbsp&nbsp <b>#call_nr…"
         },
         "metadata": {},
         "output_type": "display_data"
        },
        {
         "data": {
          "application/vnd.jupyter.widget-view+json": {
           "model_id": "09118b8096b447e299870a726db86ecc",
           "version_major": 2,
           "version_minor": 0
          },
          "text/plain": "HTML(value='<span style=\"color:rgb(46, 75, 67)\"; \"font-size:10.0pt\">&nbsp&nbsp&nbsp&nbsp&nbsp&nbsp <b>#call_nr…"
         },
         "metadata": {},
         "output_type": "display_data"
        },
        {
         "data": {
          "application/vnd.jupyter.widget-view+json": {
           "model_id": "91a7c9b29c3e4cd7b4c2d1549e525c76",
           "version_major": 2,
           "version_minor": 0
          },
          "text/plain": "HTML(value='<span style=\"color:rgb(87, 176, 53)\"; \"font-size:10.0pt\">&nbsp&nbsp&nbsp&nbsp&nbsp&nbsp <b>#call_n…"
         },
         "metadata": {},
         "output_type": "display_data"
        },
        {
         "data": {
          "application/vnd.jupyter.widget-view+json": {
           "model_id": "098a5f817e264b1193512cc6fa77a928",
           "version_major": 2,
           "version_minor": 0
          },
          "text/plain": "HTML(value='<span style=\"color:rgb(112, 46, 5)\"; \"font-size:10.0pt\">&nbsp&nbsp&nbsp&nbsp&nbsp&nbsp <b>#call_nr…"
         },
         "metadata": {},
         "output_type": "display_data"
        },
        {
         "data": {
          "application/vnd.jupyter.widget-view+json": {
           "model_id": "9a7ea993d3b64149a6d6a935a0106929",
           "version_major": 2,
           "version_minor": 0
          },
          "text/plain": "HTML(value='<span style=\"color:rgb(112, 46, 5)\"; \"font-size:10.0pt\">&nbsp&nbsp&nbsp&nbsp&nbsp&nbsp <b>#call_nr…"
         },
         "metadata": {},
         "output_type": "display_data"
        },
        {
         "data": {
          "application/vnd.jupyter.widget-view+json": {
           "model_id": "3ecca24f29814e77bea5a1c32f850d1a",
           "version_major": 2,
           "version_minor": 0
          },
          "text/plain": "HTML(value='<span style=\"color:rgb(128, 100, 39)\"; \"font-size:10.0pt\">&nbsp&nbsp&nbsp&nbsp&nbsp&nbsp <b>#call_…"
         },
         "metadata": {},
         "output_type": "display_data"
        },
        {
         "data": {
          "application/vnd.jupyter.widget-view+json": {
           "model_id": "1d500b0ff22541bba85caa4942b8b968",
           "version_major": 2,
           "version_minor": 0
          },
          "text/plain": "HTML(value='<span style=\"color:rgb(112, 46, 5)\"; \"font-size:10.0pt\">&nbsp&nbsp&nbsp&nbsp&nbsp&nbsp <b>#call_nr…"
         },
         "metadata": {},
         "output_type": "display_data"
        },
        {
         "data": {
          "application/vnd.jupyter.widget-view+json": {
           "model_id": "9f82e4859d1d49b991112c45ead13ae6",
           "version_major": 2,
           "version_minor": 0
          },
          "text/plain": "HTML(value='<span style=\"color:rgb(128, 100, 39)\"; \"font-size:10.0pt\">&nbsp&nbsp&nbsp&nbsp&nbsp&nbsp <b>#call_…"
         },
         "metadata": {},
         "output_type": "display_data"
        },
        {
         "data": {
          "application/vnd.jupyter.widget-view+json": {
           "model_id": "44852efb1840406c9fc7167fe8f68f32",
           "version_major": 2,
           "version_minor": 0
          },
          "text/plain": "HTML(value='<span style=\"color:rgb(112, 46, 5)\"; \"font-size:10.0pt\">&nbsp&nbsp&nbsp&nbsp&nbsp&nbsp <b>#call_nr…"
         },
         "metadata": {},
         "output_type": "display_data"
        },
        {
         "data": {
          "application/vnd.jupyter.widget-view+json": {
           "model_id": "b377bc1ab20944b7a201fed1752b0a4c",
           "version_major": 2,
           "version_minor": 0
          },
          "text/plain": "HTML(value='<span style=\"color:rgb(128, 100, 39)\"; \"font-size:10.0pt\">&nbsp&nbsp&nbsp&nbsp&nbsp&nbsp <b>#call_…"
         },
         "metadata": {},
         "output_type": "display_data"
        },
        {
         "data": {
          "application/vnd.jupyter.widget-view+json": {
           "model_id": "c6fafd3023a34bb4b0e885af60a6978c",
           "version_major": 2,
           "version_minor": 0
          },
          "text/plain": "HTML(value='<span style=\"color:rgb(112, 46, 5)\"; \"font-size:10.0pt\">&nbsp&nbsp&nbsp&nbsp&nbsp&nbsp <b>#call_nr…"
         },
         "metadata": {},
         "output_type": "display_data"
        },
        {
         "data": {
          "application/vnd.jupyter.widget-view+json": {
           "model_id": "0e307a7265c1431eaf57a7a081b23976",
           "version_major": 2,
           "version_minor": 0
          },
          "text/plain": "HTML(value='<span style=\"color:rgb(128, 100, 39)\"; \"font-size:10.0pt\">&nbsp&nbsp&nbsp&nbsp&nbsp&nbsp <b>#call_…"
         },
         "metadata": {},
         "output_type": "display_data"
        },
        {
         "data": {
          "application/vnd.jupyter.widget-view+json": {
           "model_id": "f103779fb1af4a5a87a1fce1c47c2908",
           "version_major": 2,
           "version_minor": 0
          },
          "text/plain": "HTML(value='<span style=\"color:rgb(112, 46, 5)\"; \"font-size:10.0pt\">&nbsp&nbsp&nbsp&nbsp&nbsp&nbsp <b>#call_nr…"
         },
         "metadata": {},
         "output_type": "display_data"
        },
        {
         "data": {
          "application/vnd.jupyter.widget-view+json": {
           "model_id": "9ddfeb01225a402696bb0705325474f0",
           "version_major": 2,
           "version_minor": 0
          },
          "text/plain": "HTML(value='<span style=\"color:rgb(128, 100, 39)\"; \"font-size:10.0pt\">&nbsp&nbsp&nbsp&nbsp&nbsp&nbsp <b>#call_…"
         },
         "metadata": {},
         "output_type": "display_data"
        },
        {
         "data": {
          "application/vnd.jupyter.widget-view+json": {
           "model_id": "3b9c513e33604546bc1a057e84108652",
           "version_major": 2,
           "version_minor": 0
          },
          "text/plain": "HTML(value='<span style=\"color:rgb(112, 46, 5)\"; \"font-size:10.0pt\">&nbsp&nbsp&nbsp&nbsp&nbsp&nbsp <b>#call_nr…"
         },
         "metadata": {},
         "output_type": "display_data"
        },
        {
         "data": {
          "application/vnd.jupyter.widget-view+json": {
           "model_id": "66b80aa6f73b45608feb9920c3dc9716",
           "version_major": 2,
           "version_minor": 0
          },
          "text/plain": "HTML(value='<span style=\"color:rgb(128, 100, 39)\"; \"font-size:10.0pt\">&nbsp&nbsp&nbsp&nbsp&nbsp&nbsp <b>#call_…"
         },
         "metadata": {},
         "output_type": "display_data"
        },
        {
         "data": {
          "application/vnd.jupyter.widget-view+json": {
           "model_id": "5544e7edc05b4a52ae6ba4ea0a1e5fa8",
           "version_major": 2,
           "version_minor": 0
          },
          "text/plain": "HTML(value='<span style=\"color:rgb(112, 46, 5)\"; \"font-size:10.0pt\">&nbsp&nbsp&nbsp&nbsp&nbsp&nbsp <b>#call_nr…"
         },
         "metadata": {},
         "output_type": "display_data"
        },
        {
         "data": {
          "application/vnd.jupyter.widget-view+json": {
           "model_id": "ab2f018fae7c4926b398ba15a944e8cb",
           "version_major": 2,
           "version_minor": 0
          },
          "text/plain": "HTML(value='<span style=\"color:rgb(128, 100, 39)\"; \"font-size:10.0pt\">&nbsp&nbsp&nbsp&nbsp&nbsp&nbsp <b>#call_…"
         },
         "metadata": {},
         "output_type": "display_data"
        },
        {
         "data": {
          "application/vnd.jupyter.widget-view+json": {
           "model_id": "9488adf2c2e44848b3a76b46e6d6f838",
           "version_major": 2,
           "version_minor": 0
          },
          "text/plain": "HTML(value='<span style=\"color:rgb(159, 114, 142)\"; \"font-size:10.0pt\">&nbsp&nbsp&nbsp&nbsp&nbsp&nbsp <b>#call…"
         },
         "metadata": {},
         "output_type": "display_data"
        },
        {
         "data": {
          "application/vnd.jupyter.widget-view+json": {
           "model_id": "d2a56c2a805342a9b06d28a30e70b5c8",
           "version_major": 2,
           "version_minor": 0
          },
          "text/plain": "HTML(value='<span style=\"color:rgb(159, 102, 86)\"; \"font-size:10.0pt\">&nbsp&nbsp&nbsp&nbsp&nbsp&nbsp <b>#call_…"
         },
         "metadata": {},
         "output_type": "display_data"
        },
        {
         "data": {
          "application/vnd.jupyter.widget-view+json": {
           "model_id": "cdeb6aea59f24e24a3d39139149b44d3",
           "version_major": 2,
           "version_minor": 0
          },
          "text/plain": "HTML(value='<span style=\"color:rgb(74, 9, 65)\"; \"font-size:10.0pt\">&nbsp&nbsp&nbsp&nbsp&nbsp&nbsp <b>#call_nr …"
         },
         "metadata": {},
         "output_type": "display_data"
        },
        {
         "data": {
          "application/vnd.jupyter.widget-view+json": {
           "model_id": "1849205dabaf483ea1cfc94d344e878d",
           "version_major": 2,
           "version_minor": 0
          },
          "text/plain": "HTML(value='<span style=\"color:rgb(115, 110, 51)\"; \"font-size:10.0pt\">&nbsp&nbsp&nbsp&nbsp&nbsp&nbsp <b>#call_…"
         },
         "metadata": {},
         "output_type": "display_data"
        },
        {
         "data": {
          "application/vnd.jupyter.widget-view+json": {
           "model_id": "b445f94c62924f519967bd31863d2ebc",
           "version_major": 2,
           "version_minor": 0
          },
          "text/plain": "HTML(value='<span style=\"color:rgb(174, 175, 106)\"; \"font-size:10.0pt\">&nbsp&nbsp&nbsp&nbsp&nbsp&nbsp <b>#call…"
         },
         "metadata": {},
         "output_type": "display_data"
        },
        {
         "data": {
          "application/vnd.jupyter.widget-view+json": {
           "model_id": "e53a69da0cf24d1288a166f089d79c94",
           "version_major": 2,
           "version_minor": 0
          },
          "text/plain": "HTML(value='<span style=\"color:rgb(120, 84, 132)\"; \"font-size:10.0pt\">&nbsp&nbsp&nbsp&nbsp&nbsp&nbsp <b>#call_…"
         },
         "metadata": {},
         "output_type": "display_data"
        },
        {
         "data": {
          "application/vnd.jupyter.widget-view+json": {
           "model_id": "931e7537940b4017907163ee32699de1",
           "version_major": 2,
           "version_minor": 0
          },
          "text/plain": "HTML(value='<span style=\"color:rgb(120, 84, 132)\"; \"font-size:10.0pt\">&nbsp&nbsp&nbsp&nbsp&nbsp&nbsp <b>#call_…"
         },
         "metadata": {},
         "output_type": "display_data"
        },
        {
         "data": {
          "application/vnd.jupyter.widget-view+json": {
           "model_id": "d124afff8bd9438d93926fb8e3abbfac",
           "version_major": 2,
           "version_minor": 0
          },
          "text/plain": "HTML(value='<span style=\"color:rgb(115, 110, 51)\"; \"font-size:10.0pt\">&nbsp&nbsp&nbsp&nbsp&nbsp&nbsp <b>#call_…"
         },
         "metadata": {},
         "output_type": "display_data"
        },
        {
         "data": {
          "application/vnd.jupyter.widget-view+json": {
           "model_id": "3d82dee61b95481e88a8b8f1590dc16b",
           "version_major": 2,
           "version_minor": 0
          },
          "text/plain": "HTML(value='<span style=\"color:rgb(171, 133, 129)\"; \"font-size:10.0pt\">&nbsp&nbsp&nbsp&nbsp&nbsp&nbsp <b>#call…"
         },
         "metadata": {},
         "output_type": "display_data"
        },
        {
         "data": {
          "application/vnd.jupyter.widget-view+json": {
           "model_id": "e888d206d357460caaaad0aea244c182",
           "version_major": 2,
           "version_minor": 0
          },
          "text/plain": "HTML(value='<span style=\"color:rgb(171, 133, 129)\"; \"font-size:10.0pt\">&nbsp&nbsp&nbsp&nbsp&nbsp&nbsp <b>#call…"
         },
         "metadata": {},
         "output_type": "display_data"
        },
        {
         "data": {
          "application/vnd.jupyter.widget-view+json": {
           "model_id": "05bc1bc007b249909c73fc63d65582c7",
           "version_major": 2,
           "version_minor": 0
          },
          "text/plain": "HTML(value='<span style=\"color:rgb(43, 33, 90)\"; \"font-size:10.0pt\">&nbsp&nbsp&nbsp&nbsp&nbsp&nbsp <b>#call_nr…"
         },
         "metadata": {},
         "output_type": "display_data"
        },
        {
         "data": {
          "application/vnd.jupyter.widget-view+json": {
           "model_id": "144a4236408f4c0eadeaa16b1e18813d",
           "version_major": 2,
           "version_minor": 0
          },
          "text/plain": "HTML(value='<span style=\"color:rgb(174, 175, 106)\"; \"font-size:10.0pt\">&nbsp&nbsp&nbsp&nbsp&nbsp&nbsp <b>#call…"
         },
         "metadata": {},
         "output_type": "display_data"
        },
        {
         "data": {
          "application/vnd.jupyter.widget-view+json": {
           "model_id": "29e5cf9c6f29433b919cee1faf15d4d7",
           "version_major": 2,
           "version_minor": 0
          },
          "text/plain": "HTML(value='<span style=\"color:rgb(92, 150, 134)\"; \"font-size:10.0pt\">&nbsp&nbsp&nbsp&nbsp&nbsp&nbsp <b>#call_…"
         },
         "metadata": {},
         "output_type": "display_data"
        },
        {
         "data": {
          "application/vnd.jupyter.widget-view+json": {
           "model_id": "d5a5a1ed1ca641af9e1a2ded6fb5ba53",
           "version_major": 2,
           "version_minor": 0
          },
          "text/plain": "HTML(value='<span style=\"color:rgb(174, 175, 106)\"; \"font-size:10.0pt\">&nbsp&nbsp&nbsp&nbsp&nbsp&nbsp <b>#call…"
         },
         "metadata": {},
         "output_type": "display_data"
        },
        {
         "data": {
          "application/vnd.jupyter.widget-view+json": {
           "model_id": "ef2e33ad1c654a599b8471f60281e30c",
           "version_major": 2,
           "version_minor": 0
          },
          "text/plain": "HTML(value='<span style=\"color:rgb(133, 74, 120)\"; \"font-size:10.0pt\">&nbsp&nbsp&nbsp&nbsp&nbsp&nbsp <b>#call_…"
         },
         "metadata": {},
         "output_type": "display_data"
        },
        {
         "data": {
          "application/vnd.jupyter.widget-view+json": {
           "model_id": "31abfb646b6d4f3b97dce6fe58d8dc76",
           "version_major": 2,
           "version_minor": 0
          },
          "text/plain": "HTML(value='<span style=\"color:rgb(15, 99, 92)\"; \"font-size:10.0pt\">&nbsp&nbsp&nbsp&nbsp&nbsp&nbsp <b>#call_nr…"
         },
         "metadata": {},
         "output_type": "display_data"
        },
        {
         "data": {
          "application/vnd.jupyter.widget-view+json": {
           "model_id": "8521056a1dee42a490f68a2d2ae4f826",
           "version_major": 2,
           "version_minor": 0
          },
          "text/plain": "HTML(value='<span style=\"color:rgb(87, 176, 53)\"; \"font-size:10.0pt\">&nbsp&nbsp&nbsp&nbsp&nbsp&nbsp <b>#call_n…"
         },
         "metadata": {},
         "output_type": "display_data"
        },
        {
         "data": {
          "application/vnd.jupyter.widget-view+json": {
           "model_id": "3ab1cfecb29540f38553c6b04b8bd6b5",
           "version_major": 2,
           "version_minor": 0
          },
          "text/plain": "HTML(value='<span style=\"color:rgb(56, 23, 78)\"; \"font-size:10.0pt\">&nbsp&nbsp&nbsp&nbsp&nbsp&nbsp <b>#call_nr…"
         },
         "metadata": {},
         "output_type": "display_data"
        },
        {
         "data": {
          "application/vnd.jupyter.widget-view+json": {
           "model_id": "af8a961009b74515a0aaa90195996431",
           "version_major": 2,
           "version_minor": 0
          },
          "text/plain": "HTML(value='<span style=\"color:rgb(56, 23, 78)\"; \"font-size:10.0pt\">&nbsp&nbsp&nbsp&nbsp&nbsp&nbsp <b>#call_nr…"
         },
         "metadata": {},
         "output_type": "display_data"
        },
        {
         "data": {
          "application/vnd.jupyter.widget-view+json": {
           "model_id": "19799e5acb614b76a896f1b9e6a3ef68",
           "version_major": 2,
           "version_minor": 0
          },
          "text/plain": "HTML(value='<span style=\"color:rgb(97, 124, 64)\"; \"font-size:10.0pt\">&nbsp&nbsp&nbsp&nbsp&nbsp&nbsp <b>#call_n…"
         },
         "metadata": {},
         "output_type": "display_data"
        },
        {
         "data": {
          "application/vnd.jupyter.widget-view+json": {
           "model_id": "6b04a4935c164f6e9944e206e6b16a7a",
           "version_major": 2,
           "version_minor": 0
          },
          "text/plain": "HTML(value='<span style=\"color:rgb(174, 175, 106)\"; \"font-size:10.0pt\">&nbsp&nbsp&nbsp&nbsp&nbsp&nbsp <b>#call…"
         },
         "metadata": {},
         "output_type": "display_data"
        },
        {
         "data": {
          "application/vnd.jupyter.widget-view+json": {
           "model_id": "b0e2889079c848e8b681eca89b152e10",
           "version_major": 2,
           "version_minor": 0
          },
          "text/plain": "HTML(value='<span style=\"color:rgb(87, 176, 53)\"; \"font-size:10.0pt\">&nbsp&nbsp&nbsp&nbsp&nbsp&nbsp <b>#call_n…"
         },
         "metadata": {},
         "output_type": "display_data"
        },
        {
         "data": {
          "application/vnd.jupyter.widget-view+json": {
           "model_id": "48b620d46f3d4e3391f3a99ba2821b62",
           "version_major": 2,
           "version_minor": 0
          },
          "text/plain": "HTML(value='<span style=\"color:rgb(97, 124, 64)\"; \"font-size:10.0pt\">&nbsp&nbsp&nbsp&nbsp&nbsp&nbsp <b>#call_n…"
         },
         "metadata": {},
         "output_type": "display_data"
        },
        {
         "data": {
          "application/vnd.jupyter.widget-view+json": {
           "model_id": "4fa351008c0344c589776c858e1944b0",
           "version_major": 2,
           "version_minor": 0
          },
          "text/plain": "HTML(value='<span style=\"color:rgb(171, 133, 129)\"; \"font-size:10.0pt\">&nbsp&nbsp&nbsp&nbsp&nbsp&nbsp <b>#call…"
         },
         "metadata": {},
         "output_type": "display_data"
        },
        {
         "data": {
          "application/vnd.jupyter.widget-view+json": {
           "model_id": "e4eb64e3a71e41ea84a6150335ed41e4",
           "version_major": 2,
           "version_minor": 0
          },
          "text/plain": "HTML(value='<span style=\"color:rgb(171, 133, 129)\"; \"font-size:10.0pt\">&nbsp&nbsp&nbsp&nbsp&nbsp&nbsp <b>#call…"
         },
         "metadata": {},
         "output_type": "display_data"
        },
        {
         "data": {
          "application/vnd.jupyter.widget-view+json": {
           "model_id": "d53a4473fa8e40ba8af0da3408bf8bc8",
           "version_major": 2,
           "version_minor": 0
          },
          "text/plain": "HTML(value='<span style=\"color:rgb(97, 124, 64)\"; \"font-size:10.0pt\">&nbsp&nbsp&nbsp&nbsp&nbsp&nbsp <b>#call_n…"
         },
         "metadata": {},
         "output_type": "display_data"
        },
        {
         "data": {
          "application/vnd.jupyter.widget-view+json": {
           "model_id": "0d03b342999e45978ed73e43b679f889",
           "version_major": 2,
           "version_minor": 0
          },
          "text/plain": "HTML(value='<span style=\"color:rgb(97, 124, 64)\"; \"font-size:10.0pt\">&nbsp&nbsp&nbsp&nbsp&nbsp&nbsp <b>#call_n…"
         },
         "metadata": {},
         "output_type": "display_data"
        },
        {
         "data": {
          "application/vnd.jupyter.widget-view+json": {
           "model_id": "b0a979cb527147119d22ab2f9797162b",
           "version_major": 2,
           "version_minor": 0
          },
          "text/plain": "HTML(value='<span style=\"color:rgb(97, 124, 64)\"; \"font-size:10.0pt\">&nbsp&nbsp&nbsp&nbsp&nbsp&nbsp <b>#call_n…"
         },
         "metadata": {},
         "output_type": "display_data"
        },
        {
         "data": {
          "application/vnd.jupyter.widget-view+json": {
           "model_id": "b4023d2891844a49bafee0b10a72ffb3",
           "version_major": 2,
           "version_minor": 0
          },
          "text/plain": "HTML(value='<span style=\"color:rgb(97, 124, 64)\"; \"font-size:10.0pt\">&nbsp&nbsp&nbsp&nbsp&nbsp&nbsp <b>#call_n…"
         },
         "metadata": {},
         "output_type": "display_data"
        },
        {
         "data": {
          "application/vnd.jupyter.widget-view+json": {
           "model_id": "b2c3e5c5714d47c7a5e64b5337005645",
           "version_major": 2,
           "version_minor": 0
          },
          "text/plain": "HTML(value='<span style=\"color:rgb(97, 124, 64)\"; \"font-size:10.0pt\">&nbsp&nbsp&nbsp&nbsp&nbsp&nbsp <b>#call_n…"
         },
         "metadata": {},
         "output_type": "display_data"
        },
        {
         "data": {
          "application/vnd.jupyter.widget-view+json": {
           "model_id": "8bf618e9c73c4877a03bea43aa1951a4",
           "version_major": 2,
           "version_minor": 0
          },
          "text/plain": "HTML(value='<span style=\"color:rgb(97, 124, 64)\"; \"font-size:10.0pt\">&nbsp&nbsp&nbsp&nbsp&nbsp&nbsp <b>#call_n…"
         },
         "metadata": {},
         "output_type": "display_data"
        },
        {
         "data": {
          "application/vnd.jupyter.widget-view+json": {
           "model_id": "72e3291af48e479ead39232bc4f7a29a",
           "version_major": 2,
           "version_minor": 0
          },
          "text/plain": "HTML(value='<span style=\"color:rgb(97, 124, 64)\"; \"font-size:10.0pt\">&nbsp&nbsp&nbsp&nbsp&nbsp&nbsp <b>#call_n…"
         },
         "metadata": {},
         "output_type": "display_data"
        },
        {
         "data": {
          "application/vnd.jupyter.widget-view+json": {
           "model_id": "3d0a3affbf854902b6a976a1b9b4d99a",
           "version_major": 2,
           "version_minor": 0
          },
          "text/plain": "HTML(value='<span style=\"color:rgb(97, 124, 64)\"; \"font-size:10.0pt\">&nbsp&nbsp&nbsp&nbsp&nbsp&nbsp <b>#call_n…"
         },
         "metadata": {},
         "output_type": "display_data"
        },
        {
         "data": {
          "application/vnd.jupyter.widget-view+json": {
           "model_id": "58b3e736e3fc4fc2809bf2b3158db13e",
           "version_major": 2,
           "version_minor": 0
          },
          "text/plain": "HTML(value='<span style=\"color:rgb(92, 150, 134)\"; \"font-size:10.0pt\">&nbsp&nbsp&nbsp&nbsp&nbsp&nbsp <b>#call_…"
         },
         "metadata": {},
         "output_type": "display_data"
        },
        {
         "data": {
          "application/vnd.jupyter.widget-view+json": {
           "model_id": "4c99edfa5b6342a69913a26e448dc6ea",
           "version_major": 2,
           "version_minor": 0
          },
          "text/plain": "HTML(value='<span style=\"color:rgb(89, 108, 6)\"; \"font-size:10.0pt\">&nbsp&nbsp&nbsp&nbsp&nbsp&nbsp <b>#call_nr…"
         },
         "metadata": {},
         "output_type": "display_data"
        },
        {
         "data": {
          "application/vnd.jupyter.widget-view+json": {
           "model_id": "cda93d4fb2974770939a90a99835431a",
           "version_major": 2,
           "version_minor": 0
          },
          "text/plain": "HTML(value='<span style=\"color:rgb(174, 175, 106)\"; \"font-size:10.0pt\">&nbsp&nbsp&nbsp&nbsp&nbsp&nbsp <b>#call…"
         },
         "metadata": {},
         "output_type": "display_data"
        },
        {
         "data": {
          "application/vnd.jupyter.widget-view+json": {
           "model_id": "b7b79e30a28c484ea62a159b02f867f1",
           "version_major": 2,
           "version_minor": 0
          },
          "text/plain": "HTML(value='<span style=\"color:rgb(156, 34, 37)\"; \"font-size:10.0pt\">&nbsp&nbsp&nbsp&nbsp&nbsp&nbsp <b>#call_n…"
         },
         "metadata": {},
         "output_type": "display_data"
        },
        {
         "data": {
          "application/vnd.jupyter.widget-view+json": {
           "model_id": "73ed07c66eb44766aa0f1779aba4cb81",
           "version_major": 2,
           "version_minor": 0
          },
          "text/plain": "HTML(value='<span style=\"color:rgb(156, 34, 37)\"; \"font-size:10.0pt\">&nbsp&nbsp&nbsp&nbsp&nbsp&nbsp <b>#call_n…"
         },
         "metadata": {},
         "output_type": "display_data"
        },
        {
         "data": {
          "application/vnd.jupyter.widget-view+json": {
           "model_id": "ddfdcdd159f748b6b5de8d5541f29d65",
           "version_major": 2,
           "version_minor": 0
          },
          "text/plain": "HTML(value='<span style=\"color:rgb(87, 176, 53)\"; \"font-size:10.0pt\">&nbsp&nbsp&nbsp&nbsp&nbsp&nbsp <b>#call_n…"
         },
         "metadata": {},
         "output_type": "display_data"
        },
        {
         "data": {
          "application/vnd.jupyter.widget-view+json": {
           "model_id": "270dc1c3238047f18784c496b2dfab80",
           "version_major": 2,
           "version_minor": 0
          },
          "text/plain": "HTML(value='<span style=\"color:rgb(156, 34, 37)\"; \"font-size:10.0pt\">&nbsp&nbsp&nbsp&nbsp&nbsp&nbsp <b>#call_n…"
         },
         "metadata": {},
         "output_type": "display_data"
        },
        {
         "data": {
          "application/vnd.jupyter.widget-view+json": {
           "model_id": "134fc331b7e34d129c7e166e8bc100d0",
           "version_major": 2,
           "version_minor": 0
          },
          "text/plain": "HTML(value='<span style=\"color:rgb(112, 46, 5)\"; \"font-size:10.0pt\">&nbsp&nbsp&nbsp&nbsp&nbsp&nbsp <b>#call_nr…"
         },
         "metadata": {},
         "output_type": "display_data"
        },
        {
         "data": {
          "application/vnd.jupyter.widget-view+json": {
           "model_id": "e37a893fce6b4a8aaf587060dff36ab1",
           "version_major": 2,
           "version_minor": 0
          },
          "text/plain": "HTML(value='<span style=\"color:rgb(128, 100, 39)\"; \"font-size:10.0pt\">&nbsp&nbsp&nbsp&nbsp&nbsp&nbsp <b>#call_…"
         },
         "metadata": {},
         "output_type": "display_data"
        },
        {
         "data": {
          "application/vnd.jupyter.widget-view+json": {
           "model_id": "49c60e07bc824f42bdf98c4d8f2cd2c1",
           "version_major": 2,
           "version_minor": 0
          },
          "text/plain": "HTML(value='<span style=\"color:rgb(156, 34, 37)\"; \"font-size:10.0pt\">&nbsp&nbsp&nbsp&nbsp&nbsp&nbsp <b>#call_n…"
         },
         "metadata": {},
         "output_type": "display_data"
        },
        {
         "data": {
          "application/vnd.jupyter.widget-view+json": {
           "model_id": "ad19b2f3cd8e41c48291556c5097c4b5",
           "version_major": 2,
           "version_minor": 0
          },
          "text/plain": "HTML(value='<span style=\"color:rgb(43, 33, 90)\"; \"font-size:10.0pt\">&nbsp&nbsp&nbsp&nbsp&nbsp&nbsp <b>#call_nr…"
         },
         "metadata": {},
         "output_type": "display_data"
        },
        {
         "data": {
          "application/vnd.jupyter.widget-view+json": {
           "model_id": "acaff1e48e8b4f448f449bda4b589724",
           "version_major": 2,
           "version_minor": 0
          },
          "text/plain": "HTML(value='<span style=\"color:rgb(174, 175, 106)\"; \"font-size:10.0pt\">&nbsp&nbsp&nbsp&nbsp&nbsp&nbsp <b>#call…"
         },
         "metadata": {},
         "output_type": "display_data"
        },
        {
         "data": {
          "application/vnd.jupyter.widget-view+json": {
           "model_id": "9a5e606106364e02a72cb580e5dd6990",
           "version_major": 2,
           "version_minor": 0
          },
          "text/plain": "HTML(value='<span style=\"color:rgb(92, 150, 134)\"; \"font-size:10.0pt\">&nbsp&nbsp&nbsp&nbsp&nbsp&nbsp <b>#call_…"
         },
         "metadata": {},
         "output_type": "display_data"
        },
        {
         "data": {
          "application/vnd.jupyter.widget-view+json": {
           "model_id": "f5f25c8dea074b7f976ac40bb9c9367c",
           "version_major": 2,
           "version_minor": 0
          },
          "text/plain": "HTML(value='<span style=\"color:rgb(174, 175, 106)\"; \"font-size:10.0pt\">&nbsp&nbsp&nbsp&nbsp&nbsp&nbsp <b>#call…"
         },
         "metadata": {},
         "output_type": "display_data"
        },
        {
         "data": {
          "application/vnd.jupyter.widget-view+json": {
           "model_id": "b10a351308bf46059b1dfa39555c7d4d",
           "version_major": 2,
           "version_minor": 0
          },
          "text/plain": "HTML(value='<span style=\"color:rgb(133, 74, 120)\"; \"font-size:10.0pt\">&nbsp&nbsp&nbsp&nbsp&nbsp&nbsp <b>#call_…"
         },
         "metadata": {},
         "output_type": "display_data"
        },
        {
         "data": {
          "application/vnd.jupyter.widget-view+json": {
           "model_id": "b42ccc5840b54af99c96b5844ebd1858",
           "version_major": 2,
           "version_minor": 0
          },
          "text/plain": "HTML(value='<span style=\"color:rgb(15, 99, 92)\"; \"font-size:10.0pt\">&nbsp&nbsp&nbsp&nbsp&nbsp&nbsp <b>#call_nr…"
         },
         "metadata": {},
         "output_type": "display_data"
        },
        {
         "data": {
          "application/vnd.jupyter.widget-view+json": {
           "model_id": "d8e765aff1a945b49d2f051c4d812996",
           "version_major": 2,
           "version_minor": 0
          },
          "text/plain": "HTML(value='<span style=\"color:rgb(87, 176, 53)\"; \"font-size:10.0pt\">&nbsp&nbsp&nbsp&nbsp&nbsp&nbsp <b>#call_n…"
         },
         "metadata": {},
         "output_type": "display_data"
        },
        {
         "data": {
          "application/vnd.jupyter.widget-view+json": {
           "model_id": "aee495df76814a9fb4b70a7f7ba913c4",
           "version_major": 2,
           "version_minor": 0
          },
          "text/plain": "HTML(value='<span style=\"color:rgb(56, 23, 78)\"; \"font-size:10.0pt\">&nbsp&nbsp&nbsp&nbsp&nbsp&nbsp <b>#call_nr…"
         },
         "metadata": {},
         "output_type": "display_data"
        },
        {
         "data": {
          "application/vnd.jupyter.widget-view+json": {
           "model_id": "7191cb606069476ab2e31983b248eb76",
           "version_major": 2,
           "version_minor": 0
          },
          "text/plain": "HTML(value='<span style=\"color:rgb(56, 23, 78)\"; \"font-size:10.0pt\">&nbsp&nbsp&nbsp&nbsp&nbsp&nbsp <b>#call_nr…"
         },
         "metadata": {},
         "output_type": "display_data"
        },
        {
         "data": {
          "application/vnd.jupyter.widget-view+json": {
           "model_id": "6514503915bf4db7a06c109586c2c750",
           "version_major": 2,
           "version_minor": 0
          },
          "text/plain": "HTML(value='<span style=\"color:rgb(97, 124, 64)\"; \"font-size:10.0pt\">&nbsp&nbsp&nbsp&nbsp&nbsp&nbsp <b>#call_n…"
         },
         "metadata": {},
         "output_type": "display_data"
        },
        {
         "data": {
          "application/vnd.jupyter.widget-view+json": {
           "model_id": "a3dfbc4ca7d643ff9c7e341d59bb1229",
           "version_major": 2,
           "version_minor": 0
          },
          "text/plain": "HTML(value='<span style=\"color:rgb(174, 175, 106)\"; \"font-size:10.0pt\">&nbsp&nbsp&nbsp&nbsp&nbsp&nbsp <b>#call…"
         },
         "metadata": {},
         "output_type": "display_data"
        },
        {
         "data": {
          "application/vnd.jupyter.widget-view+json": {
           "model_id": "a1bb6c303a834d678efd53f76b25a6e0",
           "version_major": 2,
           "version_minor": 0
          },
          "text/plain": "HTML(value='<span style=\"color:rgb(87, 176, 53)\"; \"font-size:10.0pt\">&nbsp&nbsp&nbsp&nbsp&nbsp&nbsp <b>#call_n…"
         },
         "metadata": {},
         "output_type": "display_data"
        },
        {
         "data": {
          "application/vnd.jupyter.widget-view+json": {
           "model_id": "64c3574d5ae346e490d0c8e47d769f4e",
           "version_major": 2,
           "version_minor": 0
          },
          "text/plain": "HTML(value='<span style=\"color:rgb(97, 124, 64)\"; \"font-size:10.0pt\">&nbsp&nbsp&nbsp&nbsp&nbsp&nbsp <b>#call_n…"
         },
         "metadata": {},
         "output_type": "display_data"
        },
        {
         "data": {
          "application/vnd.jupyter.widget-view+json": {
           "model_id": "930e66fb3b4f44d98e8ff9d806da701b",
           "version_major": 2,
           "version_minor": 0
          },
          "text/plain": "HTML(value='<span style=\"color:rgb(171, 133, 129)\"; \"font-size:10.0pt\">&nbsp&nbsp&nbsp&nbsp&nbsp&nbsp <b>#call…"
         },
         "metadata": {},
         "output_type": "display_data"
        },
        {
         "data": {
          "application/vnd.jupyter.widget-view+json": {
           "model_id": "4542a9395e7245caa1388cd5f043baee",
           "version_major": 2,
           "version_minor": 0
          },
          "text/plain": "HTML(value='<span style=\"color:rgb(171, 133, 129)\"; \"font-size:10.0pt\">&nbsp&nbsp&nbsp&nbsp&nbsp&nbsp <b>#call…"
         },
         "metadata": {},
         "output_type": "display_data"
        },
        {
         "data": {
          "application/vnd.jupyter.widget-view+json": {
           "model_id": "b2103f2bb0814467bfd68d2f38216687",
           "version_major": 2,
           "version_minor": 0
          },
          "text/plain": "HTML(value='<span style=\"color:rgb(97, 124, 64)\"; \"font-size:10.0pt\">&nbsp&nbsp&nbsp&nbsp&nbsp&nbsp <b>#call_n…"
         },
         "metadata": {},
         "output_type": "display_data"
        },
        {
         "data": {
          "application/vnd.jupyter.widget-view+json": {
           "model_id": "55f1572f919d4de9a894b5ba1ca90daf",
           "version_major": 2,
           "version_minor": 0
          },
          "text/plain": "HTML(value='<span style=\"color:rgb(97, 124, 64)\"; \"font-size:10.0pt\">&nbsp&nbsp&nbsp&nbsp&nbsp&nbsp <b>#call_n…"
         },
         "metadata": {},
         "output_type": "display_data"
        },
        {
         "data": {
          "application/vnd.jupyter.widget-view+json": {
           "model_id": "92c16ecdadf246f5851e25168dab41fe",
           "version_major": 2,
           "version_minor": 0
          },
          "text/plain": "HTML(value='<span style=\"color:rgb(97, 124, 64)\"; \"font-size:10.0pt\">&nbsp&nbsp&nbsp&nbsp&nbsp&nbsp <b>#call_n…"
         },
         "metadata": {},
         "output_type": "display_data"
        },
        {
         "data": {
          "application/vnd.jupyter.widget-view+json": {
           "model_id": "ed7e80d9e3d7434fa4cf6dea85aa39b3",
           "version_major": 2,
           "version_minor": 0
          },
          "text/plain": "HTML(value='<span style=\"color:rgb(97, 124, 64)\"; \"font-size:10.0pt\">&nbsp&nbsp&nbsp&nbsp&nbsp&nbsp <b>#call_n…"
         },
         "metadata": {},
         "output_type": "display_data"
        },
        {
         "data": {
          "application/vnd.jupyter.widget-view+json": {
           "model_id": "2361ca136810477e8bffbf1e56cb4083",
           "version_major": 2,
           "version_minor": 0
          },
          "text/plain": "HTML(value='<span style=\"color:rgb(97, 124, 64)\"; \"font-size:10.0pt\">&nbsp&nbsp&nbsp&nbsp&nbsp&nbsp <b>#call_n…"
         },
         "metadata": {},
         "output_type": "display_data"
        },
        {
         "data": {
          "application/vnd.jupyter.widget-view+json": {
           "model_id": "e82a7f8e314d406d879e85a876c29e6d",
           "version_major": 2,
           "version_minor": 0
          },
          "text/plain": "HTML(value='<span style=\"color:rgb(97, 124, 64)\"; \"font-size:10.0pt\">&nbsp&nbsp&nbsp&nbsp&nbsp&nbsp <b>#call_n…"
         },
         "metadata": {},
         "output_type": "display_data"
        },
        {
         "data": {
          "application/vnd.jupyter.widget-view+json": {
           "model_id": "390f2d4dad554acf9a39bf731358779a",
           "version_major": 2,
           "version_minor": 0
          },
          "text/plain": "HTML(value='<span style=\"color:rgb(97, 124, 64)\"; \"font-size:10.0pt\">&nbsp&nbsp&nbsp&nbsp&nbsp&nbsp <b>#call_n…"
         },
         "metadata": {},
         "output_type": "display_data"
        },
        {
         "data": {
          "application/vnd.jupyter.widget-view+json": {
           "model_id": "f158f99fcb0b43d7b9dd5e719261fdda",
           "version_major": 2,
           "version_minor": 0
          },
          "text/plain": "HTML(value='<span style=\"color:rgb(97, 124, 64)\"; \"font-size:10.0pt\">&nbsp&nbsp&nbsp&nbsp&nbsp&nbsp <b>#call_n…"
         },
         "metadata": {},
         "output_type": "display_data"
        },
        {
         "data": {
          "application/vnd.jupyter.widget-view+json": {
           "model_id": "228c880c41e04626aaeae2652389b36b",
           "version_major": 2,
           "version_minor": 0
          },
          "text/plain": "HTML(value='<span style=\"color:rgb(92, 150, 134)\"; \"font-size:10.0pt\">&nbsp&nbsp&nbsp&nbsp&nbsp&nbsp <b>#call_…"
         },
         "metadata": {},
         "output_type": "display_data"
        },
        {
         "data": {
          "application/vnd.jupyter.widget-view+json": {
           "model_id": "b83efbf3a3754992bc0976e66dc69e57",
           "version_major": 2,
           "version_minor": 0
          },
          "text/plain": "HTML(value='<span style=\"color:rgb(174, 175, 106)\"; \"font-size:10.0pt\">&nbsp&nbsp&nbsp&nbsp&nbsp&nbsp <b>#call…"
         },
         "metadata": {},
         "output_type": "display_data"
        },
        {
         "data": {
          "application/vnd.jupyter.widget-view+json": {
           "model_id": "4bc9351fe04446f89c2f8ee3beea62dc",
           "version_major": 2,
           "version_minor": 0
          },
          "text/plain": "HTML(value='<span style=\"color:rgb(156, 34, 37)\"; \"font-size:10.0pt\">&nbsp&nbsp&nbsp&nbsp&nbsp&nbsp <b>#call_n…"
         },
         "metadata": {},
         "output_type": "display_data"
        },
        {
         "data": {
          "application/vnd.jupyter.widget-view+json": {
           "model_id": "f7326ca3a2354c309158a2f6c4589e82",
           "version_major": 2,
           "version_minor": 0
          },
          "text/plain": "HTML(value='<span style=\"color:rgb(156, 34, 37)\"; \"font-size:10.0pt\">&nbsp&nbsp&nbsp&nbsp&nbsp&nbsp <b>#call_n…"
         },
         "metadata": {},
         "output_type": "display_data"
        },
        {
         "data": {
          "application/vnd.jupyter.widget-view+json": {
           "model_id": "3873932894f24c2ea453fbf0c5083c3c",
           "version_major": 2,
           "version_minor": 0
          },
          "text/plain": "HTML(value='<span style=\"color:rgb(87, 176, 53)\"; \"font-size:10.0pt\">&nbsp&nbsp&nbsp&nbsp&nbsp&nbsp <b>#call_n…"
         },
         "metadata": {},
         "output_type": "display_data"
        },
        {
         "data": {
          "application/vnd.jupyter.widget-view+json": {
           "model_id": "b8535993c5974736bcb729b88721ed4b",
           "version_major": 2,
           "version_minor": 0
          },
          "text/plain": "HTML(value='<span style=\"color:rgb(156, 34, 37)\"; \"font-size:10.0pt\">&nbsp&nbsp&nbsp&nbsp&nbsp&nbsp <b>#call_n…"
         },
         "metadata": {},
         "output_type": "display_data"
        },
        {
         "data": {
          "application/vnd.jupyter.widget-view+json": {
           "model_id": "79328ebadf14451abc6ae4d0514d7fb8",
           "version_major": 2,
           "version_minor": 0
          },
          "text/plain": "HTML(value='<span style=\"color:rgb(112, 46, 5)\"; \"font-size:10.0pt\">&nbsp&nbsp&nbsp&nbsp&nbsp&nbsp <b>#call_nr…"
         },
         "metadata": {},
         "output_type": "display_data"
        },
        {
         "data": {
          "application/vnd.jupyter.widget-view+json": {
           "model_id": "189bd726905e4926b0d1de9b63b50b78",
           "version_major": 2,
           "version_minor": 0
          },
          "text/plain": "HTML(value='<span style=\"color:rgb(128, 100, 39)\"; \"font-size:10.0pt\">&nbsp&nbsp&nbsp&nbsp&nbsp&nbsp <b>#call_…"
         },
         "metadata": {},
         "output_type": "display_data"
        },
        {
         "data": {
          "application/vnd.jupyter.widget-view+json": {
           "model_id": "56e3d9673425402393cd42e70644ba89",
           "version_major": 2,
           "version_minor": 0
          },
          "text/plain": "HTML(value='<span style=\"color:rgb(156, 34, 37)\"; \"font-size:10.0pt\">&nbsp&nbsp&nbsp&nbsp&nbsp&nbsp <b>#call_n…"
         },
         "metadata": {},
         "output_type": "display_data"
        },
        {
         "data": {
          "application/vnd.jupyter.widget-view+json": {
           "model_id": "cebe2b1cbf4644eeb03157d190fdd9b7",
           "version_major": 2,
           "version_minor": 0
          },
          "text/plain": "HTML(value='<span style=\"color:rgb(43, 33, 90)\"; \"font-size:10.0pt\">&nbsp&nbsp&nbsp&nbsp&nbsp&nbsp <b>#call_nr…"
         },
         "metadata": {},
         "output_type": "display_data"
        },
        {
         "data": {
          "application/vnd.jupyter.widget-view+json": {
           "model_id": "d5e408156e644ffeb2b5d8f771c9d46c",
           "version_major": 2,
           "version_minor": 0
          },
          "text/plain": "HTML(value='<span style=\"color:rgb(174, 175, 106)\"; \"font-size:10.0pt\">&nbsp&nbsp&nbsp&nbsp&nbsp&nbsp <b>#call…"
         },
         "metadata": {},
         "output_type": "display_data"
        },
        {
         "data": {
          "application/vnd.jupyter.widget-view+json": {
           "model_id": "41f28bb64e354abdace2b25095ea3c50",
           "version_major": 2,
           "version_minor": 0
          },
          "text/plain": "HTML(value='<span style=\"color:rgb(92, 150, 134)\"; \"font-size:10.0pt\">&nbsp&nbsp&nbsp&nbsp&nbsp&nbsp <b>#call_…"
         },
         "metadata": {},
         "output_type": "display_data"
        },
        {
         "data": {
          "application/vnd.jupyter.widget-view+json": {
           "model_id": "005848be71904e90ac130598c91243d6",
           "version_major": 2,
           "version_minor": 0
          },
          "text/plain": "HTML(value='<span style=\"color:rgb(174, 175, 106)\"; \"font-size:10.0pt\">&nbsp&nbsp&nbsp&nbsp&nbsp&nbsp <b>#call…"
         },
         "metadata": {},
         "output_type": "display_data"
        },
        {
         "data": {
          "application/vnd.jupyter.widget-view+json": {
           "model_id": "e324b68b2ffb461c90f6658b33940301",
           "version_major": 2,
           "version_minor": 0
          },
          "text/plain": "HTML(value='<span style=\"color:rgb(133, 74, 120)\"; \"font-size:10.0pt\">&nbsp&nbsp&nbsp&nbsp&nbsp&nbsp <b>#call_…"
         },
         "metadata": {},
         "output_type": "display_data"
        },
        {
         "data": {
          "application/vnd.jupyter.widget-view+json": {
           "model_id": "14f0517f850e41b2a20a22e4f4440175",
           "version_major": 2,
           "version_minor": 0
          },
          "text/plain": "HTML(value='<span style=\"color:rgb(15, 99, 92)\"; \"font-size:10.0pt\">&nbsp&nbsp&nbsp&nbsp&nbsp&nbsp <b>#call_nr…"
         },
         "metadata": {},
         "output_type": "display_data"
        },
        {
         "data": {
          "application/vnd.jupyter.widget-view+json": {
           "model_id": "b6f7ecf425a14033b018de9ee09c8d89",
           "version_major": 2,
           "version_minor": 0
          },
          "text/plain": "HTML(value='<span style=\"color:rgb(87, 176, 53)\"; \"font-size:10.0pt\">&nbsp&nbsp&nbsp&nbsp&nbsp&nbsp <b>#call_n…"
         },
         "metadata": {},
         "output_type": "display_data"
        },
        {
         "data": {
          "application/vnd.jupyter.widget-view+json": {
           "model_id": "cd4b673f275347f19b8fb68c44b91217",
           "version_major": 2,
           "version_minor": 0
          },
          "text/plain": "HTML(value='<span style=\"color:rgb(56, 23, 78)\"; \"font-size:10.0pt\">&nbsp&nbsp&nbsp&nbsp&nbsp&nbsp <b>#call_nr…"
         },
         "metadata": {},
         "output_type": "display_data"
        },
        {
         "data": {
          "application/vnd.jupyter.widget-view+json": {
           "model_id": "110cbb7344be4b2bb61fd0b2055c909a",
           "version_major": 2,
           "version_minor": 0
          },
          "text/plain": "HTML(value='<span style=\"color:rgb(56, 23, 78)\"; \"font-size:10.0pt\">&nbsp&nbsp&nbsp&nbsp&nbsp&nbsp <b>#call_nr…"
         },
         "metadata": {},
         "output_type": "display_data"
        },
        {
         "data": {
          "application/vnd.jupyter.widget-view+json": {
           "model_id": "a95293a8c827448bbb7943b6fc7156a4",
           "version_major": 2,
           "version_minor": 0
          },
          "text/plain": "HTML(value='<span style=\"color:rgb(97, 124, 64)\"; \"font-size:10.0pt\">&nbsp&nbsp&nbsp&nbsp&nbsp&nbsp <b>#call_n…"
         },
         "metadata": {},
         "output_type": "display_data"
        },
        {
         "data": {
          "application/vnd.jupyter.widget-view+json": {
           "model_id": "33e99c89fa564c43bce4fa8a6abe22ac",
           "version_major": 2,
           "version_minor": 0
          },
          "text/plain": "HTML(value='<span style=\"color:rgb(174, 175, 106)\"; \"font-size:10.0pt\">&nbsp&nbsp&nbsp&nbsp&nbsp&nbsp <b>#call…"
         },
         "metadata": {},
         "output_type": "display_data"
        },
        {
         "data": {
          "application/vnd.jupyter.widget-view+json": {
           "model_id": "a52ecb9bf8564fc9862b3c2924c3b74b",
           "version_major": 2,
           "version_minor": 0
          },
          "text/plain": "HTML(value='<span style=\"color:rgb(87, 176, 53)\"; \"font-size:10.0pt\">&nbsp&nbsp&nbsp&nbsp&nbsp&nbsp <b>#call_n…"
         },
         "metadata": {},
         "output_type": "display_data"
        },
        {
         "data": {
          "application/vnd.jupyter.widget-view+json": {
           "model_id": "0b3c7251d401482e89c3b0916bcabddf",
           "version_major": 2,
           "version_minor": 0
          },
          "text/plain": "HTML(value='<span style=\"color:rgb(97, 124, 64)\"; \"font-size:10.0pt\">&nbsp&nbsp&nbsp&nbsp&nbsp&nbsp <b>#call_n…"
         },
         "metadata": {},
         "output_type": "display_data"
        },
        {
         "data": {
          "application/vnd.jupyter.widget-view+json": {
           "model_id": "f0ee4c5d8baa4044b58f505c3ab83020",
           "version_major": 2,
           "version_minor": 0
          },
          "text/plain": "HTML(value='<span style=\"color:rgb(171, 133, 129)\"; \"font-size:10.0pt\">&nbsp&nbsp&nbsp&nbsp&nbsp&nbsp <b>#call…"
         },
         "metadata": {},
         "output_type": "display_data"
        },
        {
         "data": {
          "application/vnd.jupyter.widget-view+json": {
           "model_id": "697901a1608d4d6db627538eacadc20a",
           "version_major": 2,
           "version_minor": 0
          },
          "text/plain": "HTML(value='<span style=\"color:rgb(171, 133, 129)\"; \"font-size:10.0pt\">&nbsp&nbsp&nbsp&nbsp&nbsp&nbsp <b>#call…"
         },
         "metadata": {},
         "output_type": "display_data"
        },
        {
         "data": {
          "application/vnd.jupyter.widget-view+json": {
           "model_id": "9af64a5423b94790b81b86f460e12e2b",
           "version_major": 2,
           "version_minor": 0
          },
          "text/plain": "HTML(value='<span style=\"color:rgb(97, 124, 64)\"; \"font-size:10.0pt\">&nbsp&nbsp&nbsp&nbsp&nbsp&nbsp <b>#call_n…"
         },
         "metadata": {},
         "output_type": "display_data"
        },
        {
         "data": {
          "application/vnd.jupyter.widget-view+json": {
           "model_id": "8191699695cf44f796f25350d0c4144f",
           "version_major": 2,
           "version_minor": 0
          },
          "text/plain": "HTML(value='<span style=\"color:rgb(97, 124, 64)\"; \"font-size:10.0pt\">&nbsp&nbsp&nbsp&nbsp&nbsp&nbsp <b>#call_n…"
         },
         "metadata": {},
         "output_type": "display_data"
        },
        {
         "data": {
          "application/vnd.jupyter.widget-view+json": {
           "model_id": "999b688cbbef4bd29cdf5dd70b01575f",
           "version_major": 2,
           "version_minor": 0
          },
          "text/plain": "HTML(value='<span style=\"color:rgb(97, 124, 64)\"; \"font-size:10.0pt\">&nbsp&nbsp&nbsp&nbsp&nbsp&nbsp <b>#call_n…"
         },
         "metadata": {},
         "output_type": "display_data"
        },
        {
         "data": {
          "application/vnd.jupyter.widget-view+json": {
           "model_id": "57d1efd3f7644bf7a49334d915c97ba0",
           "version_major": 2,
           "version_minor": 0
          },
          "text/plain": "HTML(value='<span style=\"color:rgb(97, 124, 64)\"; \"font-size:10.0pt\">&nbsp&nbsp&nbsp&nbsp&nbsp&nbsp <b>#call_n…"
         },
         "metadata": {},
         "output_type": "display_data"
        },
        {
         "data": {
          "application/vnd.jupyter.widget-view+json": {
           "model_id": "baf2d3c9b02e449582df5b93d7c5ae43",
           "version_major": 2,
           "version_minor": 0
          },
          "text/plain": "HTML(value='<span style=\"color:rgb(97, 124, 64)\"; \"font-size:10.0pt\">&nbsp&nbsp&nbsp&nbsp&nbsp&nbsp <b>#call_n…"
         },
         "metadata": {},
         "output_type": "display_data"
        },
        {
         "data": {
          "application/vnd.jupyter.widget-view+json": {
           "model_id": "9975140889d4410bb0047651b9a60196",
           "version_major": 2,
           "version_minor": 0
          },
          "text/plain": "HTML(value='<span style=\"color:rgb(97, 124, 64)\"; \"font-size:10.0pt\">&nbsp&nbsp&nbsp&nbsp&nbsp&nbsp <b>#call_n…"
         },
         "metadata": {},
         "output_type": "display_data"
        },
        {
         "data": {
          "application/vnd.jupyter.widget-view+json": {
           "model_id": "981405c58dcb4e59847225bb63501a25",
           "version_major": 2,
           "version_minor": 0
          },
          "text/plain": "HTML(value='<span style=\"color:rgb(97, 124, 64)\"; \"font-size:10.0pt\">&nbsp&nbsp&nbsp&nbsp&nbsp&nbsp <b>#call_n…"
         },
         "metadata": {},
         "output_type": "display_data"
        },
        {
         "data": {
          "application/vnd.jupyter.widget-view+json": {
           "model_id": "9a2f0479fd3243a2a76808ab16fced44",
           "version_major": 2,
           "version_minor": 0
          },
          "text/plain": "HTML(value='<span style=\"color:rgb(97, 124, 64)\"; \"font-size:10.0pt\">&nbsp&nbsp&nbsp&nbsp&nbsp&nbsp <b>#call_n…"
         },
         "metadata": {},
         "output_type": "display_data"
        },
        {
         "data": {
          "application/vnd.jupyter.widget-view+json": {
           "model_id": "fec43b746f7e4568b50aaa0888dac949",
           "version_major": 2,
           "version_minor": 0
          },
          "text/plain": "HTML(value='<span style=\"color:rgb(92, 150, 134)\"; \"font-size:10.0pt\">&nbsp&nbsp&nbsp&nbsp&nbsp&nbsp <b>#call_…"
         },
         "metadata": {},
         "output_type": "display_data"
        },
        {
         "data": {
          "application/vnd.jupyter.widget-view+json": {
           "model_id": "cf721e9e6ac947d284f6aed58364a0f8",
           "version_major": 2,
           "version_minor": 0
          },
          "text/plain": "HTML(value='<span style=\"color:rgb(125, 58, 62)\"; \"font-size:10.0pt\">&nbsp&nbsp&nbsp&nbsp&nbsp&nbsp <b>#call_n…"
         },
         "metadata": {},
         "output_type": "display_data"
        },
        {
         "data": {
          "application/vnd.jupyter.widget-view+json": {
           "model_id": "c9ab0f028f164f3e9413272068088d42",
           "version_major": 2,
           "version_minor": 0
          },
          "text/plain": "HTML(value='<span style=\"color:rgb(174, 175, 106)\"; \"font-size:10.0pt\">&nbsp&nbsp&nbsp&nbsp&nbsp&nbsp <b>#call…"
         },
         "metadata": {},
         "output_type": "display_data"
        },
        {
         "data": {
          "application/vnd.jupyter.widget-view+json": {
           "model_id": "f238fd8a95f84b0fb8122e35a57882d3",
           "version_major": 2,
           "version_minor": 0
          },
          "text/plain": "HTML(value='<span style=\"color:rgb(161, 8, 118)\"; \"font-size:10.0pt\">&nbsp&nbsp&nbsp&nbsp&nbsp&nbsp <b>#call_n…"
         },
         "metadata": {},
         "output_type": "display_data"
        },
        {
         "data": {
          "application/vnd.jupyter.widget-view+json": {
           "model_id": "3f444e8f61064867808772a5768ec2f3",
           "version_major": 2,
           "version_minor": 0
          },
          "text/plain": "HTML(value='<span style=\"color:rgb(120, 84, 132)\"; \"font-size:10.0pt\">&nbsp&nbsp&nbsp&nbsp&nbsp&nbsp <b>#call_…"
         },
         "metadata": {},
         "output_type": "display_data"
        },
        {
         "data": {
          "application/vnd.jupyter.widget-view+json": {
           "model_id": "dd1800552824403fbbdb3f53ad17cd37",
           "version_major": 2,
           "version_minor": 0
          },
          "text/plain": "HTML(value='<span style=\"color:rgb(120, 84, 132)\"; \"font-size:10.0pt\">&nbsp&nbsp&nbsp&nbsp&nbsp&nbsp <b>#call_…"
         },
         "metadata": {},
         "output_type": "display_data"
        },
        {
         "data": {
          "application/vnd.jupyter.widget-view+json": {
           "model_id": "7cc850cfd513400f89ad7eb4cd8f98c8",
           "version_major": 2,
           "version_minor": 0
          },
          "text/plain": "HTML(value='<span style=\"color:rgb(20, 73, 22)\"; \"font-size:10.0pt\">&nbsp&nbsp&nbsp&nbsp&nbsp&nbsp <b>#call_nr…"
         },
         "metadata": {},
         "output_type": "display_data"
        },
        {
         "data": {
          "application/vnd.jupyter.widget-view+json": {
           "model_id": "488d2371999b4f689f7b55a0ff1d928a",
           "version_major": 2,
           "version_minor": 0
          },
          "text/plain": "HTML(value='<span style=\"color:rgb(41, 101, 137)\"; \"font-size:10.0pt\">&nbsp&nbsp&nbsp&nbsp&nbsp&nbsp <b>#call_…"
         },
         "metadata": {},
         "output_type": "display_data"
        },
        {
         "data": {
          "application/vnd.jupyter.widget-view+json": {
           "model_id": "df9be130f6014792980a5e8a889743a2",
           "version_major": 2,
           "version_minor": 0
          },
          "text/plain": "HTML(value='<span style=\"color:rgb(169, 24, 25)\"; \"font-size:10.0pt\">&nbsp&nbsp&nbsp&nbsp&nbsp&nbsp <b>#call_n…"
         },
         "metadata": {},
         "output_type": "display_data"
        },
        {
         "data": {
          "application/vnd.jupyter.widget-view+json": {
           "model_id": "bb40435aaab1474da51550293ef6c387",
           "version_major": 2,
           "version_minor": 0
          },
          "text/plain": "HTML(value='<span style=\"color:rgb(169, 24, 25)\"; \"font-size:10.0pt\">&nbsp&nbsp&nbsp&nbsp&nbsp&nbsp <b>#call_n…"
         },
         "metadata": {},
         "output_type": "display_data"
        },
        {
         "data": {
          "application/vnd.jupyter.widget-view+json": {
           "model_id": "6c297fbc8dd84cad9972ee7f36fa975b",
           "version_major": 2,
           "version_minor": 0
          },
          "text/plain": "HTML(value='<span style=\"color:rgb(51, 49, 148)\"; \"font-size:10.0pt\">&nbsp&nbsp&nbsp&nbsp&nbsp&nbsp <b>#call_n…"
         },
         "metadata": {},
         "output_type": "display_data"
        },
        {
         "data": {
          "application/vnd.jupyter.widget-view+json": {
           "model_id": "dae882f3fbe146e3828a2c4c5042c350",
           "version_major": 2,
           "version_minor": 0
          },
          "text/plain": "HTML(value='<span style=\"color:rgb(92, 150, 134)\"; \"font-size:10.0pt\">&nbsp&nbsp&nbsp&nbsp&nbsp&nbsp <b>#call_…"
         },
         "metadata": {},
         "output_type": "display_data"
        },
        {
         "data": {
          "application/vnd.jupyter.widget-view+json": {
           "model_id": "de0b1d268b3d41c5a9a9435a305683fd",
           "version_major": 2,
           "version_minor": 0
          },
          "text/plain": "HTML(value='<span style=\"color:rgb(174, 175, 106)\"; \"font-size:10.0pt\">&nbsp&nbsp&nbsp&nbsp&nbsp&nbsp <b>#call…"
         },
         "metadata": {},
         "output_type": "display_data"
        },
        {
         "data": {
          "application/vnd.jupyter.widget-view+json": {
           "model_id": "6d17fb1258404f5d940d303ac331b0b1",
           "version_major": 2,
           "version_minor": 0
          },
          "text/plain": "HTML(value='<span style=\"color:rgb(133, 74, 120)\"; \"font-size:10.0pt\">&nbsp&nbsp&nbsp&nbsp&nbsp&nbsp <b>#call_…"
         },
         "metadata": {},
         "output_type": "display_data"
        },
        {
         "data": {
          "application/vnd.jupyter.widget-view+json": {
           "model_id": "e4daec50122f4c419472ebb77f424581",
           "version_major": 2,
           "version_minor": 0
          },
          "text/plain": "HTML(value='<span style=\"color:rgb(15, 99, 92)\"; \"font-size:10.0pt\">&nbsp&nbsp&nbsp&nbsp&nbsp&nbsp <b>#call_nr…"
         },
         "metadata": {},
         "output_type": "display_data"
        },
        {
         "data": {
          "application/vnd.jupyter.widget-view+json": {
           "model_id": "44fd0025ca114182901b6d8e5aeaa01d",
           "version_major": 2,
           "version_minor": 0
          },
          "text/plain": "HTML(value='<span style=\"color:rgb(87, 176, 53)\"; \"font-size:10.0pt\">&nbsp&nbsp&nbsp&nbsp&nbsp&nbsp <b>#call_n…"
         },
         "metadata": {},
         "output_type": "display_data"
        },
        {
         "data": {
          "application/vnd.jupyter.widget-view+json": {
           "model_id": "50439c914d76401d95da5501467d67a4",
           "version_major": 2,
           "version_minor": 0
          },
          "text/plain": "HTML(value='<span style=\"color:rgb(56, 23, 78)\"; \"font-size:10.0pt\">&nbsp&nbsp&nbsp&nbsp&nbsp&nbsp <b>#call_nr…"
         },
         "metadata": {},
         "output_type": "display_data"
        },
        {
         "data": {
          "application/vnd.jupyter.widget-view+json": {
           "model_id": "51a7c71a4c174aeda4e34027564099fb",
           "version_major": 2,
           "version_minor": 0
          },
          "text/plain": "HTML(value='<span style=\"color:rgb(56, 23, 78)\"; \"font-size:10.0pt\">&nbsp&nbsp&nbsp&nbsp&nbsp&nbsp <b>#call_nr…"
         },
         "metadata": {},
         "output_type": "display_data"
        },
        {
         "data": {
          "application/vnd.jupyter.widget-view+json": {
           "model_id": "e3ad8cb8b10f4a44af59d0e0b18875ce",
           "version_major": 2,
           "version_minor": 0
          },
          "text/plain": "HTML(value='<span style=\"color:rgb(92, 150, 134)\"; \"font-size:10.0pt\">&nbsp&nbsp&nbsp&nbsp&nbsp&nbsp <b>#call_…"
         },
         "metadata": {},
         "output_type": "display_data"
        },
        {
         "data": {
          "application/vnd.jupyter.widget-view+json": {
           "model_id": "47f8c1af08914d6b93134279f1affbba",
           "version_major": 2,
           "version_minor": 0
          },
          "text/plain": "HTML(value='<span style=\"color:rgb(51, 49, 148)\"; \"font-size:10.0pt\">&nbsp&nbsp&nbsp&nbsp&nbsp&nbsp <b>#call_n…"
         },
         "metadata": {},
         "output_type": "display_data"
        },
        {
         "data": {
          "application/vnd.jupyter.widget-view+json": {
           "model_id": "9d34f790b59444a8b9e4191c71023757",
           "version_major": 2,
           "version_minor": 0
          },
          "text/plain": "HTML(value='<span style=\"color:rgb(51, 49, 148)\"; \"font-size:10.0pt\">&nbsp&nbsp&nbsp&nbsp&nbsp&nbsp <b>#call_n…"
         },
         "metadata": {},
         "output_type": "display_data"
        },
        {
         "data": {
          "application/vnd.jupyter.widget-view+json": {
           "model_id": "1c0547825c59408a99c304524360875b",
           "version_major": 2,
           "version_minor": 0
          },
          "text/plain": "HTML(value='<span style=\"color:rgb(92, 150, 134)\"; \"font-size:10.0pt\">&nbsp&nbsp&nbsp&nbsp&nbsp&nbsp <b>#call_…"
         },
         "metadata": {},
         "output_type": "display_data"
        },
        {
         "data": {
          "application/vnd.jupyter.widget-view+json": {
           "model_id": "704da9e5e99d4ea195f0625488dae460",
           "version_major": 2,
           "version_minor": 0
          },
          "text/plain": "HTML(value='<span style=\"color:rgb(174, 175, 106)\"; \"font-size:10.0pt\">&nbsp&nbsp&nbsp&nbsp&nbsp&nbsp <b>#call…"
         },
         "metadata": {},
         "output_type": "display_data"
        },
        {
         "data": {
          "application/vnd.jupyter.widget-view+json": {
           "model_id": "508a5bdca61a47788bfa91428400b352",
           "version_major": 2,
           "version_minor": 0
          },
          "text/plain": "HTML(value='<span style=\"color:rgb(133, 74, 120)\"; \"font-size:10.0pt\">&nbsp&nbsp&nbsp&nbsp&nbsp&nbsp <b>#call_…"
         },
         "metadata": {},
         "output_type": "display_data"
        },
        {
         "data": {
          "application/vnd.jupyter.widget-view+json": {
           "model_id": "2888f0c53a084f28994ac3e23a5299d4",
           "version_major": 2,
           "version_minor": 0
          },
          "text/plain": "HTML(value='<span style=\"color:rgb(15, 99, 92)\"; \"font-size:10.0pt\">&nbsp&nbsp&nbsp&nbsp&nbsp&nbsp <b>#call_nr…"
         },
         "metadata": {},
         "output_type": "display_data"
        },
        {
         "data": {
          "application/vnd.jupyter.widget-view+json": {
           "model_id": "2a80ee421df547369fb8709fbdec9670",
           "version_major": 2,
           "version_minor": 0
          },
          "text/plain": "HTML(value='<span style=\"color:rgb(87, 176, 53)\"; \"font-size:10.0pt\">&nbsp&nbsp&nbsp&nbsp&nbsp&nbsp <b>#call_n…"
         },
         "metadata": {},
         "output_type": "display_data"
        },
        {
         "data": {
          "application/vnd.jupyter.widget-view+json": {
           "model_id": "3e5403c643c34d5598dfb8ba00e0a140",
           "version_major": 2,
           "version_minor": 0
          },
          "text/plain": "HTML(value='<span style=\"color:rgb(56, 23, 78)\"; \"font-size:10.0pt\">&nbsp&nbsp&nbsp&nbsp&nbsp&nbsp <b>#call_nr…"
         },
         "metadata": {},
         "output_type": "display_data"
        },
        {
         "data": {
          "application/vnd.jupyter.widget-view+json": {
           "model_id": "4fd76e1b6215475fa67b3a4c0726e5c4",
           "version_major": 2,
           "version_minor": 0
          },
          "text/plain": "HTML(value='<span style=\"color:rgb(56, 23, 78)\"; \"font-size:10.0pt\">&nbsp&nbsp&nbsp&nbsp&nbsp&nbsp <b>#call_nr…"
         },
         "metadata": {},
         "output_type": "display_data"
        },
        {
         "data": {
          "application/vnd.jupyter.widget-view+json": {
           "model_id": "101accb881444b208f77993d9b0d5092",
           "version_major": 2,
           "version_minor": 0
          },
          "text/plain": "HTML(value='<span style=\"color:rgb(92, 150, 134)\"; \"font-size:10.0pt\">&nbsp&nbsp&nbsp&nbsp&nbsp&nbsp <b>#call_…"
         },
         "metadata": {},
         "output_type": "display_data"
        },
        {
         "data": {
          "application/vnd.jupyter.widget-view+json": {
           "model_id": "6e47e5833101465c8ed532869504f232",
           "version_major": 2,
           "version_minor": 0
          },
          "text/plain": "HTML(value='<span style=\"color:rgb(51, 49, 148)\"; \"font-size:10.0pt\">&nbsp&nbsp&nbsp&nbsp&nbsp&nbsp <b>#call_n…"
         },
         "metadata": {},
         "output_type": "display_data"
        },
        {
         "data": {
          "application/vnd.jupyter.widget-view+json": {
           "model_id": "22c7719900c54120a0810c69e4ab8d1f",
           "version_major": 2,
           "version_minor": 0
          },
          "text/plain": "HTML(value='<span style=\"color:rgb(51, 49, 148)\"; \"font-size:10.0pt\">&nbsp&nbsp&nbsp&nbsp&nbsp&nbsp <b>#call_n…"
         },
         "metadata": {},
         "output_type": "display_data"
        },
        {
         "data": {
          "application/vnd.jupyter.widget-view+json": {
           "model_id": "b18fe1ff08b040e9a6bf2baace25ebe9",
           "version_major": 2,
           "version_minor": 0
          },
          "text/plain": "HTML(value='<span style=\"color:rgb(92, 150, 134)\"; \"font-size:10.0pt\">&nbsp&nbsp&nbsp&nbsp&nbsp&nbsp <b>#call_…"
         },
         "metadata": {},
         "output_type": "display_data"
        },
        {
         "data": {
          "application/vnd.jupyter.widget-view+json": {
           "model_id": "16a4825010cd4689b71b716d4927976b",
           "version_major": 2,
           "version_minor": 0
          },
          "text/plain": "HTML(value='<span style=\"color:rgb(92, 150, 134)\"; \"font-size:10.0pt\">&nbsp&nbsp&nbsp&nbsp&nbsp&nbsp <b>#call_…"
         },
         "metadata": {},
         "output_type": "display_data"
        },
        {
         "data": {
          "application/vnd.jupyter.widget-view+json": {
           "model_id": "8f5c0f8f731c49b383597662bd644630",
           "version_major": 2,
           "version_minor": 0
          },
          "text/plain": "HTML(value='<span style=\"color:rgb(51, 49, 148)\"; \"font-size:10.0pt\">&nbsp&nbsp&nbsp&nbsp&nbsp&nbsp <b>#call_n…"
         },
         "metadata": {},
         "output_type": "display_data"
        },
        {
         "data": {
          "application/vnd.jupyter.widget-view+json": {
           "model_id": "3610f3f3ef094ed69047b34f10e682c2",
           "version_major": 2,
           "version_minor": 0
          },
          "text/plain": "HTML(value='<span style=\"color:rgb(169, 24, 25)\"; \"font-size:10.0pt\">&nbsp&nbsp&nbsp&nbsp&nbsp&nbsp <b>#call_n…"
         },
         "metadata": {},
         "output_type": "display_data"
        },
        {
         "data": {
          "application/vnd.jupyter.widget-view+json": {
           "model_id": "295b9681f93b4b598f852a93d4d1a49f",
           "version_major": 2,
           "version_minor": 0
          },
          "text/plain": "HTML(value='<span style=\"color:rgb(10, 125, 11)\"; \"font-size:10.0pt\">&nbsp&nbsp&nbsp&nbsp&nbsp&nbsp <b>#call_n…"
         },
         "metadata": {},
         "output_type": "display_data"
        },
        {
         "data": {
          "application/vnd.jupyter.widget-view+json": {
           "model_id": "6329747f87844f0f9acf754a408db4af",
           "version_major": 2,
           "version_minor": 0
          },
          "text/plain": "HTML(value='<span style=\"color:rgb(89, 108, 6)\"; \"font-size:10.0pt\">&nbsp&nbsp&nbsp&nbsp&nbsp&nbsp <b>#call_nr…"
         },
         "metadata": {},
         "output_type": "display_data"
        },
        {
         "data": {
          "application/vnd.jupyter.widget-view+json": {
           "model_id": "d62954d604f141338ff8c5a4b3775dc2",
           "version_major": 2,
           "version_minor": 0
          },
          "text/plain": "HTML(value='<span style=\"color:rgb(46, 75, 67)\"; \"font-size:10.0pt\">&nbsp&nbsp&nbsp&nbsp&nbsp&nbsp <b>#call_nr…"
         },
         "metadata": {},
         "output_type": "display_data"
        },
        {
         "data": {
          "application/vnd.jupyter.widget-view+json": {
           "model_id": "0631ae5231ab49c88c67c262b7f73b68",
           "version_major": 2,
           "version_minor": 0
          },
          "text/plain": "HTML(value='<span style=\"color:rgb(41, 101, 137)\"; \"font-size:10.0pt\">&nbsp&nbsp&nbsp&nbsp&nbsp&nbsp <b>#call_…"
         },
         "metadata": {},
         "output_type": "display_data"
        }
       ]
      }
     },
     "212937e25b5f4566a7927102c58533d9": {
      "model_module": "@jupyter-widgets/controls",
      "model_module_version": "2.0.0",
      "model_name": "HTMLStyleModel",
      "state": {
       "description_width": "",
       "font_size": null,
       "text_color": null
      }
     },
     "213415e684614ba7a1202e80fe6c327b": {
      "model_module": "@jupyter-widgets/base",
      "model_module_version": "2.0.0",
      "model_name": "LayoutModel",
      "state": {}
     },
     "213dbefcf157405ca17e5fe96fb75496": {
      "model_module": "@jupyter-widgets/controls",
      "model_module_version": "2.0.0",
      "model_name": "DescriptionStyleModel",
      "state": {
       "description_width": ""
      }
     },
     "2168100a13c743bda1e4cef1e48949f8": {
      "model_module": "@jupyter-widgets/base",
      "model_module_version": "2.0.0",
      "model_name": "LayoutModel",
      "state": {}
     },
     "219b8fa34d8c45a0b8c3511451c796fe": {
      "model_module": "@jupyter-widgets/controls",
      "model_module_version": "2.0.0",
      "model_name": "CheckboxStyleModel",
      "state": {
       "description_width": ""
      }
     },
     "21a1c7283a6849c48b63855d8026c976": {
      "model_module": "@jupyter-widgets/controls",
      "model_module_version": "2.0.0",
      "model_name": "DescriptionStyleModel",
      "state": {
       "description_width": ""
      }
     },
     "21d9a631f88c4c199ec4fa88f1cb629a": {
      "model_module": "@jupyter-widgets/base",
      "model_module_version": "2.0.0",
      "model_name": "LayoutModel",
      "state": {}
     },
     "226565a0ae464220bd04a4df082cc9b5": {
      "model_module": "@jupyter-widgets/controls",
      "model_module_version": "2.0.0",
      "model_name": "HTMLStyleModel",
      "state": {
       "description_width": "",
       "font_size": null,
       "text_color": null
      }
     },
     "2288d660bbcd4f468b49f595343845a3": {
      "model_module": "@jupyter-widgets/controls",
      "model_module_version": "2.0.0",
      "model_name": "HTMLStyleModel",
      "state": {
       "description_width": "",
       "font_size": null,
       "text_color": null
      }
     },
     "228c880c41e04626aaeae2652389b36b": {
      "model_module": "@jupyter-widgets/controls",
      "model_module_version": "2.0.0",
      "model_name": "HTMLModel",
      "state": {
       "layout": "IPY_MODEL_e12d873ab91d46919018718ed22107fd",
       "style": "IPY_MODEL_423d45a682c44d0885f30fd4815820a7",
       "value": "<span style=\"color:rgb(92, 150, 134)\"; \"font-size:10.0pt\">&nbsp&nbsp&nbsp&nbsp&nbsp&nbsp <b>#call_nr = 123 - #caller(s): set_batch_upd_dict(), update_batch_dict(), var_button_click()</b> &nbsp&nbsp&nbsp&nbsp&nbsp&nbsp</span><span style=\"color:rgb(92, 150, 134)\"; \"font-size:8.0pt\">set_batch_upd_dict()<br>&nbsp&nbsp&nbsp&nbsp&nbsp&nbsp -- <b>#call_nr = 123 </b> &nbsp&nbsp&nbsp&nbsp&nbsp&nbsp -- step 2<br>&nbsp&nbsp&nbsp&nbsp&nbsp&nbsp -- <b>#call_nr = 123 </b> &nbsp&nbsp&nbsp&nbsp&nbsp&nbsp -- upd_dict_log.value ={'_upd_mode': 'update', '_version': 1, '_orig_name': 'mp2 ', '_new_name': 'mp2 ', '_selected_tool_index': 1, '_tools': {'0': {'multi_plot': [['%', [['SWC_5', 'ETC NRT Meteo', 'SE-Htm']]], ['mmol mol-1', [['H2O', 'ETC NRT Fluxes', 'SE-Htm']]]]}, '1': {'multi_plot': [('°C', [['TA', 'ETC NRT Meteo', 'SE-Htm']])]}}}</span>"
      }
     },
     "229a033d6cd045188d571be4485e96f2": {
      "model_module": "@jupyter-widgets/base",
      "model_module_version": "2.0.0",
      "model_name": "LayoutModel",
      "state": {}
     },
     "22a96da8614a47b492dedc665dd6ab91": {
      "model_module": "@jupyter-widgets/controls",
      "model_module_version": "2.0.0",
      "model_name": "DropdownModel",
      "state": {
       "_options_labels": [
        "plotly",
        "plotly_white",
        "plotly_dark",
        "ggplot2",
        "seaborn",
        "simple_white",
        "none"
       ],
       "index": 0,
       "layout": "IPY_MODEL_dfdf503bef984b608404d84a415820b3",
       "style": "IPY_MODEL_17a015d604b34b449af199c7d88c88a5"
      }
     },
     "22c7719900c54120a0810c69e4ab8d1f": {
      "model_module": "@jupyter-widgets/controls",
      "model_module_version": "2.0.0",
      "model_name": "HTMLModel",
      "state": {
       "layout": "IPY_MODEL_875eb18080d1480382be3d4bda5dc742",
       "style": "IPY_MODEL_42c3269d13c44c2d971c561836b6b752",
       "value": "<span style=\"color:rgb(51, 49, 148)\"; \"font-size:10.0pt\">&nbsp&nbsp&nbsp&nbsp&nbsp&nbsp <b>#call_nr = 185 - #caller(s): changed_batch_drop(), init_batch_drop(), reset_batch_gui()</b> &nbsp&nbsp&nbsp&nbsp&nbsp&nbsp</span><span style=\"color:rgb(51, 49, 148)\"; \"font-size:8.0pt\">changed_batch_drop()<br>&nbsp&nbsp&nbsp&nbsp&nbsp&nbsp -- <b>#call_nr = 185 </b> &nbsp&nbsp&nbsp&nbsp&nbsp&nbsp -- - step 1 - batch value changed, reset displayed selections<br>&nbsp&nbsp&nbsp&nbsp&nbsp&nbsp -- <b>#call_nr = 185 </b> &nbsp&nbsp&nbsp&nbsp&nbsp&nbsp -- c = reset_batch_gui<br>&nbsp&nbsp&nbsp&nbsp&nbsp&nbsp -- <b>#call_nr = 185 </b> &nbsp&nbsp&nbsp&nbsp&nbsp&nbsp -- batch_drop.label = mp2 <br>&nbsp&nbsp&nbsp&nbsp&nbsp&nbsp -- <b>#call_nr = 185 </b> &nbsp&nbsp&nbsp&nbsp&nbsp&nbsp -- batch_drop.value = {'0': {'multi_plot': [['%', [['SWC_5', 'ETC NRT Meteo', 'SE-Htm']]], ['mmol mol-1', [['H2O', 'ETC NRT Fluxes', 'SE-Htm']]]]}, '1': {'multi_plot': [('°C', [['TA', 'ETC NRT Meteo', 'SE-Htm']]), ('mmol mol-1', [['H2O', 'ETC NRT Fluxes', 'SE-Htm']])]}, '_version': '2'}</span>"
      }
     },
     "2361ca136810477e8bffbf1e56cb4083": {
      "model_module": "@jupyter-widgets/controls",
      "model_module_version": "2.0.0",
      "model_name": "HTMLModel",
      "state": {
       "layout": "IPY_MODEL_488eb844b54e4331a78d81ea9d9c8d26",
       "style": "IPY_MODEL_8b269659f3264b33b7f4f54118b2ca78",
       "value": "<span style=\"color:rgb(97, 124, 64)\"; \"font-size:10.0pt\">&nbsp&nbsp&nbsp&nbsp&nbsp&nbsp <b>#call_nr = 119 - #caller(s): reset_var_buttons(), reset_selection(), _notify_observers()</b> &nbsp&nbsp&nbsp&nbsp&nbsp&nbsp</span><span style=\"color:rgb(97, 124, 64)\"; \"font-size:8.0pt\">reset_var_buttons()  -- restore buttons -- <br>&nbsp&nbsp&nbsp&nbsp&nbsp&nbsp -- <b>#call_nr = 119 </b> &nbsp&nbsp&nbsp&nbsp&nbsp&nbsp --  axis_ls = ['°C']<br>&nbsp&nbsp&nbsp&nbsp&nbsp&nbsp -- <b>#call_nr = 119 </b> &nbsp&nbsp&nbsp&nbsp&nbsp&nbsp --  btn.tooltip = %<br>&nbsp&nbsp&nbsp&nbsp&nbsp&nbsp -- <b>#call_nr = 119 </b> &nbsp&nbsp&nbsp&nbsp&nbsp&nbsp --  Button = \"SWC_5 (ETC NRT Meteo)\"<br>&nbsp&nbsp&nbsp&nbsp&nbsp&nbsp -- <b>#call_nr = 119 </b> &nbsp&nbsp&nbsp&nbsp&nbsp&nbsp -- ---- enabled and unchecked</span>"
      }
     },
     "23de70578e674bef869964e6a0ed2c11": {
      "model_module": "@jupyter-widgets/controls",
      "model_module_version": "2.0.0",
      "model_name": "HTMLStyleModel",
      "state": {
       "description_width": "",
       "font_size": null,
       "text_color": null
      }
     },
     "23ffc207c55341f685e561f011180a1d": {
      "model_module": "@jupyter-widgets/base",
      "model_module_version": "2.0.0",
      "model_name": "LayoutModel",
      "state": {}
     },
     "24420e24f3044e889e963a2c8148c196": {
      "model_module": "@jupyter-widgets/base",
      "model_module_version": "2.0.0",
      "model_name": "LayoutModel",
      "state": {}
     },
     "248df720654f4f2fbffd718c86a18eab": {
      "model_module": "@jupyter-widgets/base",
      "model_module_version": "2.0.0",
      "model_name": "LayoutModel",
      "state": {}
     },
     "24d9aaed50f8407db24b6fc8bbb6f820": {
      "model_module": "@jupyter-widgets/controls",
      "model_module_version": "2.0.0",
      "model_name": "HTMLStyleModel",
      "state": {
       "description_width": "",
       "font_size": null,
       "text_color": null
      }
     },
     "24df573a13dc4310878391a213dfa933": {
      "model_module": "@jupyter-widgets/controls",
      "model_module_version": "2.0.0",
      "model_name": "DescriptionStyleModel",
      "state": {
       "description_width": ""
      }
     },
     "251510b9dda3406ca9a8820f7d3b51ef": {
      "model_module": "@jupyter-widgets/controls",
      "model_module_version": "2.0.0",
      "model_name": "HTMLStyleModel",
      "state": {
       "description_width": "",
       "font_size": null,
       "text_color": null
      }
     },
     "2517a9cefc7c4dea8ba68a34d5de3a00": {
      "model_module": "@jupyter-widgets/base",
      "model_module_version": "2.0.0",
      "model_name": "LayoutModel",
      "state": {}
     },
     "25265a4168e443e79d2335eb04c7b171": {
      "model_module": "@jupyter-widgets/base",
      "model_module_version": "2.0.0",
      "model_name": "LayoutModel",
      "state": {
       "max_width": "auto",
       "min_width": "250px"
      }
     },
     "254c5af564304dc3881d55c2c4941df4": {
      "model_module": "@jupyter-widgets/base",
      "model_module_version": "2.0.0",
      "model_name": "LayoutModel",
      "state": {}
     },
     "25ecfe8becd749fdb90a4faa74b361f5": {
      "model_module": "@jupyter-widgets/base",
      "model_module_version": "2.0.0",
      "model_name": "LayoutModel",
      "state": {}
     },
     "26c5fb0c6b1241d39045e9360e05b66d": {
      "model_module": "@jupyter-widgets/controls",
      "model_module_version": "2.0.0",
      "model_name": "HTMLModel",
      "state": {
       "layout": "IPY_MODEL_2a38370d876d4330b42a44ca07707345",
       "style": "IPY_MODEL_df3af80fc1fb49dbbd7709529291ea2d",
       "value": "<b>Split-plot grouping:</b>"
      }
     },
     "270dc1c3238047f18784c496b2dfab80": {
      "model_module": "@jupyter-widgets/controls",
      "model_module_version": "2.0.0",
      "model_name": "HTMLModel",
      "state": {
       "layout": "IPY_MODEL_45de7d964d054878bb802680bbf912ef",
       "style": "IPY_MODEL_b179469e22884ef4a6798405dc1b9b95",
       "value": "<span style=\"color:rgb(156, 34, 37)\"; \"font-size:10.0pt\">&nbsp&nbsp&nbsp&nbsp&nbsp&nbsp <b>#call_nr = 96 - #caller(s): var_button_click(), __call__(), click()</b> &nbsp&nbsp&nbsp&nbsp&nbsp&nbsp</span><span style=\"color:rgb(156, 34, 37)\"; \"font-size:8.0pt\">var_button_click()**** * * * ***<br>&nbsp&nbsp&nbsp&nbsp&nbsp&nbsp -- <b>#call_nr = 96 </b> &nbsp&nbsp&nbsp&nbsp&nbsp&nbsp -- tool_code = multi_plot<br>&nbsp&nbsp&nbsp&nbsp&nbsp&nbsp -- <b>#call_nr = 96 </b> &nbsp&nbsp&nbsp&nbsp&nbsp&nbsp -- multi_plot_auto_cb.value = True</span>"
      }
     },
     "27801df18f504d9f93aec7c2be296c8f": {
      "model_module": "@jupyter-widgets/base",
      "model_module_version": "2.0.0",
      "model_name": "LayoutModel",
      "state": {}
     },
     "28348dde13ea4bcf99b408cd831cb8df": {
      "model_module": "@jupyter-widgets/controls",
      "model_module_version": "2.0.0",
      "model_name": "AccordionModel",
      "state": {
       "children": [
        "IPY_MODEL_3cc016da5db54ccfb110ada31bb9e34d"
       ],
       "layout": "IPY_MODEL_b088b0e3dda8476d9a70ef8ae9b987ef",
       "titles": [
        "Length of time series"
       ]
      }
     },
     "2857d7786d7645d69d24fc174e3f6f76": {
      "model_module": "@jupyter-widgets/base",
      "model_module_version": "2.0.0",
      "model_name": "LayoutModel",
      "state": {}
     },
     "2888f0c53a084f28994ac3e23a5299d4": {
      "model_module": "@jupyter-widgets/controls",
      "model_module_version": "2.0.0",
      "model_name": "HTMLModel",
      "state": {
       "layout": "IPY_MODEL_248df720654f4f2fbffd718c86a18eab",
       "style": "IPY_MODEL_3aabb0fa70c64e6e96facd0e3d97c13d",
       "value": "<span style=\"color:rgb(15, 99, 92)\"; \"font-size:10.0pt\">&nbsp&nbsp&nbsp&nbsp&nbsp&nbsp <b>#call_nr = 179 - #caller(s): format_tool_vars(), reset_selection(), _notify_observers()</b> &nbsp&nbsp&nbsp&nbsp&nbsp&nbsp</span><span style=\"color:rgb(15, 99, 92)\"; \"font-size:8.0pt\">label_of_selected_var_row()<br>&nbsp&nbsp&nbsp&nbsp&nbsp&nbsp -- <b>#call_nr = 179 </b> &nbsp&nbsp&nbsp&nbsp&nbsp&nbsp -- tool_code = {0: {'multi_plot': [['%', [['SWC_5', 'ETC NRT Meteo', 'SE-Htm']]], ['mmol mol-1', [['H2O', 'ETC NRT Fluxes', 'SE-Htm']]]]}, 1: {'multi_plot': [('°C', [['TA', 'ETC NRT Meteo', 'SE-Htm']]), ('mmol mol-1', [['H2O', 'ETC NRT Fluxes', 'SE-Htm']])]}}<br>&nbsp&nbsp&nbsp&nbsp&nbsp&nbsp -- <b>#call_nr = 179 </b> &nbsp&nbsp&nbsp&nbsp&nbsp&nbsp -- batch_drop.value = {'0': {'multi_plot': [['%', [['SWC_5', 'ETC NRT Meteo', 'SE-Htm']]], ['mmol mol-1', [['H2O', 'ETC NRT Fluxes', 'SE-Htm']]]]}, '1': {'multi_plot': [('°C', [['TA', 'ETC NRT Meteo', 'SE-Htm']]), ('mmol mol-1', [['H2O', 'ETC NRT Fluxes', 'SE-Htm']])]}, '_version': '2'}</span>"
      }
     },
     "295b9681f93b4b598f852a93d4d1a49f": {
      "model_module": "@jupyter-widgets/controls",
      "model_module_version": "2.0.0",
      "model_name": "HTMLModel",
      "state": {
       "layout": "IPY_MODEL_bd39b36f9b8d4dbfb7c456aa566f22c7",
       "style": "IPY_MODEL_505eb8730e694e5bbb076f8d7ce24e35",
       "value": "<span style=\"color:rgb(10, 125, 11)\"; \"font-size:10.0pt\">&nbsp&nbsp&nbsp&nbsp&nbsp&nbsp <b>#call_nr = 190 - #caller(s): activate_gui(), reset_batch_gui(), save_batch()</b> &nbsp&nbsp&nbsp&nbsp&nbsp&nbsp</span><span style=\"color:rgb(10, 125, 11)\"; \"font-size:8.0pt\">activate_gui()<br>&nbsp&nbsp&nbsp&nbsp&nbsp&nbsp -- <b>#call_nr = 190 </b> &nbsp&nbsp&nbsp&nbsp&nbsp&nbsp -- upd_active = reset_gui</span>"
      }
     },
     "29740eb0594c40958976c8aa211d1f7b": {
      "model_module": "@jupyter-widgets/controls",
      "model_module_version": "2.0.0",
      "model_name": "HTMLStyleModel",
      "state": {
       "description_width": "",
       "font_size": null,
       "text_color": null
      }
     },
     "2976a975e03242728861d09912113b1d": {
      "model_module": "@jupyter-widgets/base",
      "model_module_version": "2.0.0",
      "model_name": "LayoutModel",
      "state": {}
     },
     "29e5cf9c6f29433b919cee1faf15d4d7": {
      "model_module": "@jupyter-widgets/controls",
      "model_module_version": "2.0.0",
      "model_name": "HTMLModel",
      "state": {
       "layout": "IPY_MODEL_1ce95e1047774f6788815cdd89a3f6fb",
       "style": "IPY_MODEL_29eae51dd51046c383a25bb2fd4ac1d8",
       "value": "<span style=\"color:rgb(92, 150, 134)\"; \"font-size:10.0pt\">&nbsp&nbsp&nbsp&nbsp&nbsp&nbsp <b>#call_nr = 69 - #caller(s): set_batch_upd_dict(), update_batch_dict(), tool_selections()</b> &nbsp&nbsp&nbsp&nbsp&nbsp&nbsp</span><span style=\"color:rgb(92, 150, 134)\"; \"font-size:8.0pt\">set_batch_upd_dict()<br>&nbsp&nbsp&nbsp&nbsp&nbsp&nbsp -- <b>#call_nr = 69 </b> &nbsp&nbsp&nbsp&nbsp&nbsp&nbsp -- step 1<br>&nbsp&nbsp&nbsp&nbsp&nbsp&nbsp -- <b>#call_nr = 69 </b> &nbsp&nbsp&nbsp&nbsp&nbsp&nbsp -- d ={'_upd_mode': 'update', '_version': 1, '_orig_name': 'mp2 ', '_new_name': 'mp2 ', '_selected_tool_index': 1, '_tools': {0: {'multi_plot': [['%', [['SWC_5', 'ETC NRT Meteo', 'SE-Htm']]], ['mmol mol-1', [['H2O', 'ETC NRT Fluxes', 'SE-Htm']]]]}, 1: {'multi_plot': []}}}</span>"
      }
     },
     "29eae51dd51046c383a25bb2fd4ac1d8": {
      "model_module": "@jupyter-widgets/controls",
      "model_module_version": "2.0.0",
      "model_name": "HTMLStyleModel",
      "state": {
       "description_width": "",
       "font_size": null,
       "text_color": null
      }
     },
     "2a38370d876d4330b42a44ca07707345": {
      "model_module": "@jupyter-widgets/base",
      "model_module_version": "2.0.0",
      "model_name": "LayoutModel",
      "state": {
       "max_width": "155px",
       "min_width": "80px"
      }
     },
     "2a7a116a065d4168a295ab67d905f48d": {
      "model_module": "@jupyter-widgets/controls",
      "model_module_version": "2.0.0",
      "model_name": "ButtonModel",
      "state": {
       "description": "Correlation plot (2 vars)",
       "layout": "IPY_MODEL_25265a4168e443e79d2335eb04c7b171",
       "style": "IPY_MODEL_90a39fcc41cc4d04b36c1e7aeef35e74",
       "tooltip": null
      }
     },
     "2a80ee421df547369fb8709fbdec9670": {
      "model_module": "@jupyter-widgets/controls",
      "model_module_version": "2.0.0",
      "model_name": "HTMLModel",
      "state": {
       "layout": "IPY_MODEL_bd5b5c3463fe473a979ee87f7eaca2ac",
       "style": "IPY_MODEL_e37092472dcd42d3b4f16b15fbcae8d5",
       "value": "<span style=\"color:rgb(87, 176, 53)\"; \"font-size:10.0pt\">&nbsp&nbsp&nbsp&nbsp&nbsp&nbsp <b>#call_nr = 180 - #caller(s): get_var_translation_dict(), format_tool_vars(), reset_selection()</b> &nbsp&nbsp&nbsp&nbsp&nbsp&nbsp</span><span style=\"color:rgb(87, 176, 53)\"; \"font-size:8.0pt\">get_var_translation_dict()<br>&nbsp&nbsp&nbsp&nbsp&nbsp&nbsp -- <b>#call_nr = 180 </b> &nbsp&nbsp&nbsp&nbsp&nbsp&nbsp -- var_translation_dict.value = {'SWC_1 (ETC NRT Meteo)': ['SWC_1', 'ETC NRT Meteo', 'SE-Htm'], 'SWC_2 (ETC NRT Meteo)': ['SWC_2', 'ETC NRT Meteo', 'SE-Htm'], 'SWC_3 (ETC NRT Meteo)': ['SWC_3', 'ETC NRT Meteo', 'SE-Htm'], 'SWC_4 (ETC NRT Meteo)': ['SWC_4', 'ETC NRT Meteo', 'SE-Htm'], 'SWC_5 (ETC NRT Meteo)': ['SWC_5', 'ETC NRT Meteo', 'SE-Htm'], 'H2O (ETC NRT Fluxes)': ['H2O', 'ETC NRT Fluxes', 'SE-Htm'], 'TA (ETC NRT Meteo)': ['TA', 'ETC NRT Meteo', 'SE-Htm'], 'Select all': 'All variables'}</span>"
      }
     },
     "2a8f4a64712045b58a5fab4e6cd00441": {
      "model_module": "@jupyter-widgets/base",
      "model_module_version": "2.0.0",
      "model_name": "LayoutModel",
      "state": {}
     },
     "2af5c43069b0431eba17920c8f323600": {
      "model_module": "@jupyter-widgets/base",
      "model_module_version": "2.0.0",
      "model_name": "LayoutModel",
      "state": {}
     },
     "2b4a2d54d5ed4ad9978f7dca3602846a": {
      "model_module": "@jupyter-widgets/controls",
      "model_module_version": "2.0.0",
      "model_name": "HTMLModel",
      "state": {
       "layout": "IPY_MODEL_5f246be1579b4a64b63be003491a8b10",
       "style": "IPY_MODEL_7d5c01f3b07a4e3a84cf9cc43ce8e9b7",
       "value": "<b> Automatic axis selection</b>"
      }
     },
     "2b605831a5c24fc3b34fb428a9df34df": {
      "model_module": "@jupyter-widgets/controls",
      "model_module_version": "2.0.0",
      "model_name": "HTMLStyleModel",
      "state": {
       "description_width": "",
       "font_size": null,
       "text_color": null
      }
     },
     "2b72cfabd5104b2ea1472e0dbbd95b31": {
      "model_module": "@jupyter-widgets/controls",
      "model_module_version": "2.0.0",
      "model_name": "HBoxModel",
      "state": {
       "children": [
        "IPY_MODEL_c12fee9efed243b3965b80e144c946bf",
        "IPY_MODEL_46a96356593349fe9e824b54fc5310ba"
       ],
       "layout": "IPY_MODEL_4bbbc933982b4942a587f8a0235a04b3"
      }
     },
     "2bffa2b00d7d4184b6de1ac112e08b5c": {
      "model_module": "@jupyter-widgets/controls",
      "model_module_version": "2.0.0",
      "model_name": "HTMLStyleModel",
      "state": {
       "description_width": "",
       "font_size": null,
       "text_color": null
      }
     },
     "2c3d76eb3ae04d769be805d4d02a2183": {
      "model_module": "@jupyter-widgets/base",
      "model_module_version": "2.0.0",
      "model_name": "LayoutModel",
      "state": {}
     },
     "2c816647f71e410f941c4cf65c07f490": {
      "model_module": "@jupyter-widgets/base",
      "model_module_version": "2.0.0",
      "model_name": "LayoutModel",
      "state": {}
     },
     "2d04f37cb1514eb1bde3d4876daa13aa": {
      "model_module": "@jupyter-widgets/controls",
      "model_module_version": "2.0.0",
      "model_name": "AccordionModel",
      "state": {
       "children": [
        "IPY_MODEL_3fe6abe11b77432dbc6422a57a6e8506"
       ],
       "layout": "IPY_MODEL_ebc19daa4f13497698dcce3bf13ff42c",
       "titles": [
        "Default settings"
       ]
      }
     },
     "2dc38ead8c804b80bde02591807c6461": {
      "model_module": "@jupyter-widgets/base",
      "model_module_version": "2.0.0",
      "model_name": "LayoutModel",
      "state": {}
     },
     "2dc8b1aa02c14f32ac13e0b95aae66a0": {
      "model_module": "@jupyter-widgets/base",
      "model_module_version": "2.0.0",
      "model_name": "LayoutModel",
      "state": {}
     },
     "2e4d32d712744e218b1c1f0e06e0c93e": {
      "model_module": "@jupyter-widgets/controls",
      "model_module_version": "2.0.0",
      "model_name": "HBoxModel",
      "state": {
       "children": [
        "IPY_MODEL_dc433897305b4ea7ac92b226228ecf61",
        "IPY_MODEL_22a96da8614a47b492dedc665dd6ab91"
       ],
       "layout": "IPY_MODEL_ab57c5c201d24822ba44f2c056105391"
      }
     },
     "2e756a127e6942aeb8bed88f80eee025": {
      "model_module": "@jupyter-widgets/base",
      "model_module_version": "2.0.0",
      "model_name": "LayoutModel",
      "state": {}
     },
     "2ebd5a3e67d84b0ba2857c507bc15295": {
      "model_module": "@jupyter-widgets/base",
      "model_module_version": "2.0.0",
      "model_name": "LayoutModel",
      "state": {}
     },
     "2f9375cbe407402893dc6754aa7c311f": {
      "model_module": "@jupyter-widgets/controls",
      "model_module_version": "2.0.0",
      "model_name": "HTMLModel",
      "state": {
       "layout": "IPY_MODEL_4b600aacf01f40cdbb147bc956b3687d",
       "style": "IPY_MODEL_e050e3b02cd54317adf875dfbc8622ee",
       "value": "<b>Variables (of SE-Htm): </b>SWC_1, SWC_2, SWC_3, SWC_4, SWC_5, H2O, TA<br>&nbsp&nbsp&nbsp&nbsp&nbsp&nbsp&nbsp&nbsp&nbsp&nbsp<b>ETC NRT Meteo: </b>SWC_1, SWC_2, SWC_3, SWC_4, SWC_5, TA<br><br>&nbsp&nbsp&nbsp&nbsp&nbsp&nbsp&nbsp&nbsp&nbsp&nbsp<b>ETC NRT Fluxes: </b>H2O<br>&nbsp&nbsp&nbsp&nbsp&nbsp&nbsp&nbsp&nbsp&nbsp&nbsp<i>(In order of appearance)</i>"
      }
     },
     "3016488802b94d268a097b9560610f49": {
      "model_module": "@jupyter-widgets/controls",
      "model_module_version": "2.0.0",
      "model_name": "HBoxModel",
      "state": {
       "children": [
        "IPY_MODEL_1ba9175d15eb451d8762d424c2351428",
        "IPY_MODEL_79e019647c1542e6b6fb9ff479d74c96"
       ],
       "layout": "IPY_MODEL_2168100a13c743bda1e4cef1e48949f8"
      }
     },
     "3024885539db4e95b1d7086df121b9b7": {
      "model_module": "@jupyter-widgets/controls",
      "model_module_version": "2.0.0",
      "model_name": "ButtonStyleModel",
      "state": {
       "button_color": "LightSeaGreen",
       "font_family": null,
       "font_size": null,
       "font_style": null,
       "font_variant": null,
       "font_weight": null,
       "text_color": null,
       "text_decoration": null
      }
     },
     "30514e01d83e4678aceaa736a15b2aa6": {
      "model_module": "@jupyter-widgets/controls",
      "model_module_version": "2.0.0",
      "model_name": "HTMLStyleModel",
      "state": {
       "description_width": "",
       "font_size": null,
       "text_color": null
      }
     },
     "307cf5981e7b484e885c78f269514af8": {
      "model_module": "@jupyter-widgets/controls",
      "model_module_version": "2.0.0",
      "model_name": "HTMLStyleModel",
      "state": {
       "description_width": "",
       "font_size": null,
       "text_color": null
      }
     },
     "30a1d36a5b514a7ea9fa521b8d4bdc44": {
      "model_module": "@jupyter-widgets/controls",
      "model_module_version": "2.0.0",
      "model_name": "HTMLModel",
      "state": {
       "layout": "IPY_MODEL_1e1d4d20fed84dff8a08373201768c20",
       "style": "IPY_MODEL_a0b4bd05a524478a8b040ff6f428a5df",
       "value": "<b><i>Current setup: </i></b>"
      }
     },
     "30aef3134a8f4086bf67656778179c87": {
      "model_module": "@jupyter-widgets/controls",
      "model_module_version": "2.0.0",
      "model_name": "HBoxModel",
      "state": {
       "children": [
        "IPY_MODEL_88d2712ab502471fb0bf8755d018ebe5",
        "IPY_MODEL_a0de54f61e2247038062bbded43b6c06"
       ],
       "layout": "IPY_MODEL_b5c4e555e4c148fa9ca4dedac628a80b"
      }
     },
     "31abfb646b6d4f3b97dce6fe58d8dc76": {
      "model_module": "@jupyter-widgets/controls",
      "model_module_version": "2.0.0",
      "model_name": "HTMLModel",
      "state": {
       "layout": "IPY_MODEL_2a8f4a64712045b58a5fab4e6cd00441",
       "style": "IPY_MODEL_4ee5cb5827ae428a96f41950d8f2761b",
       "value": "<span style=\"color:rgb(15, 99, 92)\"; \"font-size:10.0pt\">&nbsp&nbsp&nbsp&nbsp&nbsp&nbsp <b>#call_nr = 72 - #caller(s): format_tool_vars(), reset_selection(), _notify_observers()</b> &nbsp&nbsp&nbsp&nbsp&nbsp&nbsp</span><span style=\"color:rgb(15, 99, 92)\"; \"font-size:8.0pt\">label_of_selected_var_row()<br>&nbsp&nbsp&nbsp&nbsp&nbsp&nbsp -- <b>#call_nr = 72 </b> &nbsp&nbsp&nbsp&nbsp&nbsp&nbsp -- tool_code = {0: {'multi_plot': [['%', [['SWC_5', 'ETC NRT Meteo', 'SE-Htm']]], ['mmol mol-1', [['H2O', 'ETC NRT Fluxes', 'SE-Htm']]]]}, 1: {'multi_plot': []}}<br>&nbsp&nbsp&nbsp&nbsp&nbsp&nbsp -- <b>#call_nr = 72 </b> &nbsp&nbsp&nbsp&nbsp&nbsp&nbsp -- batch_drop.value = {'0': {'multi_plot': [['%', [['SWC_5', 'ETC NRT Meteo', 'SE-Htm']]], ['mmol mol-1', [['H2O', 'ETC NRT Fluxes', 'SE-Htm']]]]}, '_version': '1'}</span>"
      }
     },
     "31ff627913fc46fcb970cd8d3c0d5cd8": {
      "model_module": "@jupyter-widgets/controls",
      "model_module_version": "2.0.0",
      "model_name": "HBoxModel",
      "state": {
       "children": [
        "IPY_MODEL_42741b40e89944d089aacd3ffe8ea93d",
        "IPY_MODEL_0014c36aa5f242e7bc78681c30c9cc20"
       ],
       "layout": "IPY_MODEL_cc143d987c2e4dd7ab2b3c4a762041f7"
      }
     },
     "325dd83b0d5b4e918e0fbbb89d218188": {
      "model_module": "@jupyter-widgets/controls",
      "model_module_version": "2.0.0",
      "model_name": "HTMLStyleModel",
      "state": {
       "description_width": "",
       "font_size": null,
       "text_color": null
      }
     },
     "3305af40dd3844da8121d4d27b1a611a": {
      "model_module": "@jupyter-widgets/controls",
      "model_module_version": "2.0.0",
      "model_name": "HTMLStyleModel",
      "state": {
       "description_width": "",
       "font_size": null,
       "text_color": null
      }
     },
     "3317fe9bbdcd42a4ad943bda9f76a0cf": {
      "model_module": "@jupyter-widgets/controls",
      "model_module_version": "2.0.0",
      "model_name": "HTMLModel",
      "state": {
       "layout": "IPY_MODEL_83f340ae16f04befb1a18e84a0ccc315",
       "style": "IPY_MODEL_57a5b01795ba49689902c67e1d26de64",
       "value": "<span style=\"color:rgb(51, 49, 148)\"; \"font-size:10.0pt\">&nbsp&nbsp&nbsp&nbsp&nbsp&nbsp <b>#call_nr = 20 - #caller(s): changed_batch_drop(), _notify_observers(), notify_change()</b> &nbsp&nbsp&nbsp&nbsp&nbsp&nbsp</span><span style=\"color:rgb(51, 49, 148)\"; \"font-size:8.0pt\">changed_batch_drop()<br>&nbsp&nbsp&nbsp&nbsp&nbsp&nbsp -- <b>#call_nr = 20 </b> &nbsp&nbsp&nbsp&nbsp&nbsp&nbsp -- - step 2 - <br>&nbsp&nbsp&nbsp&nbsp&nbsp&nbsp -- <b>#call_nr = 20 </b> &nbsp&nbsp&nbsp&nbsp&nbsp&nbsp -- upd_dict_log.value = {'_upd_mode': 'read_mode_with_batch', '_selected_tool_index': None, '_version': '1', '_tools': {'0': {'multi_plot': [['%', [['SWC_5', 'ETC NRT Meteo', 'SE-Htm']]], ['mmol mol-1', [['H2O', 'ETC NRT Fluxes', 'SE-Htm']]]]}}}</span>"
      }
     },
     "3333a0e26f314e0680c0a7113bf3e1bc": {
      "model_module": "@jupyter-widgets/base",
      "model_module_version": "2.0.0",
      "model_name": "LayoutModel",
      "state": {
       "max_width": "80%"
      }
     },
     "336f6922e25243cf807ddc5e06396746": {
      "model_module": "@jupyter-widgets/controls",
      "model_module_version": "2.0.0",
      "model_name": "HTMLStyleModel",
      "state": {
       "description_width": "",
       "font_size": null,
       "text_color": null
      }
     },
     "33925927540c46de83dfaf872159551e": {
      "model_module": "@jupyter-widgets/controls",
      "model_module_version": "2.0.0",
      "model_name": "HTMLStyleModel",
      "state": {
       "description_width": "",
       "font_size": null,
       "text_color": null
      }
     },
     "3398102c6d6443eb9c8269ee84fc32aa": {
      "model_module": "@jupyter-widgets/base",
      "model_module_version": "2.0.0",
      "model_name": "LayoutModel",
      "state": {}
     },
     "33b5bdb1cf2543ec8f52eb21a2cfc691": {
      "model_module": "@jupyter-widgets/base",
      "model_module_version": "2.0.0",
      "model_name": "LayoutModel",
      "state": {}
     },
     "33e99c89fa564c43bce4fa8a6abe22ac": {
      "model_module": "@jupyter-widgets/controls",
      "model_module_version": "2.0.0",
      "model_name": "HTMLModel",
      "state": {
       "layout": "IPY_MODEL_cef503be3e9b416f8fbc2aab93ad610a",
       "style": "IPY_MODEL_0a8caabdae8246dd86b9e15aa8d1318c",
       "value": "<span style=\"color:rgb(174, 175, 106)\"; \"font-size:10.0pt\">&nbsp&nbsp&nbsp&nbsp&nbsp&nbsp <b>#call_nr = 142 - #caller(s): get_batch_upd_dict(), reset_var_buttons(), reset_selection()</b> &nbsp&nbsp&nbsp&nbsp&nbsp&nbsp</span><span style=\"color:rgb(174, 175, 106)\"; \"font-size:8.0pt\">get_batch_upd_dict()<br>&nbsp&nbsp&nbsp&nbsp&nbsp&nbsp -- <b>#call_nr = 142 </b> &nbsp&nbsp&nbsp&nbsp&nbsp&nbsp -- d ={'_upd_mode': 'update', '_version': 1, '_orig_name': 'mp2 ', '_new_name': 'mp2 ', '_selected_tool_index': 1, '_tools': {0: {'multi_plot': [['%', [['SWC_5', 'ETC NRT Meteo', 'SE-Htm']]], ['mmol mol-1', [['H2O', 'ETC NRT Fluxes', 'SE-Htm']]]]}, 1: {'multi_plot': [('°C', [['TA', 'ETC NRT Meteo', 'SE-Htm']]), ('mmol mol-1', [['H2O', 'ETC NRT Fluxes', 'SE-Htm']])]}}}</span>"
      }
     },
     "346b2f618cb74ae3955580b77983be1f": {
      "model_module": "@jupyter-widgets/base",
      "model_module_version": "2.0.0",
      "model_name": "LayoutModel",
      "state": {}
     },
     "346bad6ad210426cbcf2b3a7c355e2e3": {
      "model_module": "@jupyter-widgets/controls",
      "model_module_version": "2.0.0",
      "model_name": "HTMLModel",
      "state": {
       "layout": "IPY_MODEL_ca00569b8e154ccb8bed731da7fd7a42",
       "style": "IPY_MODEL_d26ae5098ed244c682dc9159fdf5b92b",
       "value": "<span style=\"color:rgb(133, 74, 120)\"; \"font-size:10.0pt\">&nbsp&nbsp&nbsp&nbsp&nbsp&nbsp <b>#call_nr = 29 - #caller(s): reset_selection(), _notify_observers(), notify_change()</b> &nbsp&nbsp&nbsp&nbsp&nbsp&nbsp</span><span style=\"color:rgb(133, 74, 120)\"; \"font-size:8.0pt\">reset_selection()<br>&nbsp&nbsp&nbsp&nbsp&nbsp&nbsp -- <b>#call_nr = 29 </b> &nbsp&nbsp&nbsp&nbsp&nbsp&nbsp -- c = {'name': 'value', 'old': \"{'_upd_mode': 'read_mode_with_batch', '_selected_tool_index': None, '_version': '1', '_tools': {'0': {'multi_plot': [['%', [['SWC_5', 'ETC NRT Meteo', 'SE-Htm']]], ['mmol mol-1', [['H2O', 'ETC NRT Fluxes', 'SE-Htm']]]]}}}\", 'new': \"{'_upd_mode': 'update', '_version': 1, '_orig_name': 'mp2 ', '_new_name': 'mp2 ', '_selected_tool_index': None, '_tools': {'0': {'multi_plot': [['%', [['SWC_5', 'ETC NRT Meteo', 'SE-Htm']]], ['mmol mol-1', [['H2O', 'ETC NRT Fluxes', 'SE-Htm']]]]}}}\", 'owner': Textarea(value=\"{'_upd_mode': 'update', '_version': 1, '_orig_name': 'mp2 ', '_new_name': 'mp2 ', '_selected_tool_index': None, '_tools': {'0': {'multi_plot': [['%', [['SWC_5', 'ETC NRT Meteo', 'SE-Htm']]], ['mmol mol-1', [['H2O', 'ETC NRT Fluxes', 'SE-Htm']]]]}}}\", disabled=True, layout=Layout(align_content='flex-start', display='inline-flex', flex_flow='row wrap', width='99%')), 'type': 'change'}<br>&nbsp&nbsp&nbsp&nbsp&nbsp&nbsp -- <b>#call_nr = 29 </b> &nbsp&nbsp&nbsp&nbsp&nbsp&nbsp -- batch_dict = {'_upd_mode': 'update', '_version': 1, '_orig_name': 'mp2 ', '_new_name': 'mp2 ', '_selected_tool_index': None, '_tools': {0: {'multi_plot': [['%', [['SWC_5', 'ETC NRT Meteo', 'SE-Htm']]], ['mmol mol-1', [['H2O', 'ETC NRT Fluxes', 'SE-Htm']]]]}}}<br>&nbsp&nbsp&nbsp&nbsp&nbsp&nbsp -- <b>#call_nr = 29 </b> &nbsp&nbsp&nbsp&nbsp&nbsp&nbsp -- batch_drop.value = {'0': {'multi_plot': [['%', [['SWC_5', 'ETC NRT Meteo', 'SE-Htm']]], ['mmol mol-1', [['H2O', 'ETC NRT Fluxes', 'SE-Htm']]]]}, '_version': '1'}</span>"
      }
     },
     "346fdb2b96774492b10b6c0cac546891": {
      "model_module": "@jupyter-widgets/controls",
      "model_module_version": "2.0.0",
      "model_name": "VBoxModel",
      "state": {
       "children": [
        "IPY_MODEL_04b769d209e54b0fa804ddf4f4f0f1b5",
        "IPY_MODEL_4e57cf6333d34c21925d62392bca756f",
        "IPY_MODEL_fe1597aceff04d2cb4fea0ebab8a08de",
        "IPY_MODEL_882f81dbfdba4993ba1da72f93e8feb7",
        "IPY_MODEL_5a9af9e179134780a847e8a6df1b54b2"
       ],
       "layout": "IPY_MODEL_fa112b688ef54d53b5654ea5a1611548"
      }
     },
     "34fe376bee5a4cb68da90e253a7ef494": {
      "model_module": "@jupyter-widgets/base",
      "model_module_version": "2.0.0",
      "model_name": "LayoutModel",
      "state": {}
     },
     "354ef2623a8549ec9ea1078620fe62ec": {
      "model_module": "@jupyter-widgets/controls",
      "model_module_version": "2.0.0",
      "model_name": "HBoxModel",
      "state": {
       "children": [
        "IPY_MODEL_094aab0e467d4462ad46dfd1002f1c0a",
        "IPY_MODEL_e25363ae731d4d20b501c714fe170420"
       ],
       "layout": "IPY_MODEL_0afb4ad5aad14ac89f2d9d05cd8b9d87"
      }
     },
     "35e97ffd53424617887f5c3bd9469ab7": {
      "model_module": "@jupyter-widgets/controls",
      "model_module_version": "2.0.0",
      "model_name": "AccordionModel",
      "state": {
       "children": [
        "IPY_MODEL_90c5a56d65864a8d9a01e8fea7444d8d"
       ],
       "layout": "IPY_MODEL_3d9af11e815640428a887bdf05147e06",
       "titles": [
        "Correlation table settings"
       ]
      }
     },
     "3610f3f3ef094ed69047b34f10e682c2": {
      "model_module": "@jupyter-widgets/controls",
      "model_module_version": "2.0.0",
      "model_name": "HTMLModel",
      "state": {
       "layout": "IPY_MODEL_9236884c19694c3fa897790b2f788f77",
       "style": "IPY_MODEL_1668ccd998224cf199ac2c8ef9367195",
       "value": "<span style=\"color:rgb(169, 24, 25)\"; \"font-size:10.0pt\">&nbsp&nbsp&nbsp&nbsp&nbsp&nbsp <b>#call_nr = 189 - #caller(s): init_batch_drop(), reset_batch_gui(), save_batch()</b> &nbsp&nbsp&nbsp&nbsp&nbsp&nbsp</span><span style=\"color:rgb(169, 24, 25)\"; \"font-size:8.0pt\">init_batch_drop()<br>&nbsp&nbsp&nbsp&nbsp&nbsp&nbsp -- <b>#call_nr = 189 </b> &nbsp&nbsp&nbsp&nbsp&nbsp&nbsp -- step 3<br>&nbsp&nbsp&nbsp&nbsp&nbsp&nbsp -- <b>#call_nr = 189 </b> &nbsp&nbsp&nbsp&nbsp&nbsp&nbsp -- batch_drop.label = mp2 <br>&nbsp&nbsp&nbsp&nbsp&nbsp&nbsp -- <b>#call_nr = 189 </b> &nbsp&nbsp&nbsp&nbsp&nbsp&nbsp -- batch_drop.value = {'0': {'multi_plot': [['%', [['SWC_5', 'ETC NRT Meteo', 'SE-Htm']]], ['mmol mol-1', [['H2O', 'ETC NRT Fluxes', 'SE-Htm']]]]}, '1': {'multi_plot': [('°C', [['TA', 'ETC NRT Meteo', 'SE-Htm']]), ('mmol mol-1', [['H2O', 'ETC NRT Fluxes', 'SE-Htm']])]}, '_version': '2'}<br>&nbsp&nbsp&nbsp&nbsp&nbsp&nbsp -- <b>#call_nr = 189 </b> &nbsp&nbsp&nbsp&nbsp&nbsp&nbsp -- -- end--</span>"
      }
     },
     "361f58835e1a4a7ca8c17c06de824976": {
      "model_module": "@jupyter-widgets/controls",
      "model_module_version": "2.0.0",
      "model_name": "ButtonStyleModel",
      "state": {
       "button_color": "MediumSeaGreen",
       "font_family": null,
       "font_size": null,
       "font_style": null,
       "font_variant": null,
       "font_weight": null,
       "text_color": null,
       "text_decoration": null
      }
     },
     "365a923dbb0041198b78a8f87d4d478c": {
      "model_module": "@jupyter-widgets/base",
      "model_module_version": "2.0.0",
      "model_name": "LayoutModel",
      "state": {}
     },
     "36679a4afb5c43629628a1e3fe7ff71e": {
      "model_module": "@jupyter-widgets/output",
      "model_module_version": "1.0.0",
      "model_name": "OutputModel",
      "state": {
       "layout": "IPY_MODEL_dd6e581f5de441dda17c7b195fc33617"
      }
     },
     "36ce3348faf84404972977261fd58659": {
      "model_module": "@jupyter-widgets/base",
      "model_module_version": "2.0.0",
      "model_name": "LayoutModel",
      "state": {
       "display": "none",
       "width": "60px"
      }
     },
     "37313e7e3392484d97e3b33835f3819a": {
      "model_module": "@jupyter-widgets/controls",
      "model_module_version": "2.0.0",
      "model_name": "ButtonModel",
      "state": {
       "description": "Up",
       "icon": "arrow-up",
       "layout": "IPY_MODEL_36ce3348faf84404972977261fd58659",
       "style": "IPY_MODEL_b4a50ee1a5ba4408a584d95f16b5923d",
       "tooltip": "Move selected tool..."
      }
     },
     "377050c49c41441884de949431a455d3": {
      "model_module": "@jupyter-widgets/controls",
      "model_module_version": "2.0.0",
      "model_name": "HTMLMathStyleModel",
      "state": {
       "description_width": "",
       "font_size": null,
       "text_color": null
      }
     },
     "385d4747abf14004a32e90c330613c96": {
      "model_module": "@jupyter-widgets/controls",
      "model_module_version": "2.0.0",
      "model_name": "HTMLStyleModel",
      "state": {
       "description_width": "",
       "font_size": null,
       "text_color": null
      }
     },
     "3873932894f24c2ea453fbf0c5083c3c": {
      "model_module": "@jupyter-widgets/controls",
      "model_module_version": "2.0.0",
      "model_name": "HTMLModel",
      "state": {
       "layout": "IPY_MODEL_52e4a453d4114b9fbba736aeee9e5e86",
       "style": "IPY_MODEL_d6c780d4b31649938b7f7ea21a6f9937",
       "value": "<span style=\"color:rgb(87, 176, 53)\"; \"font-size:10.0pt\">&nbsp&nbsp&nbsp&nbsp&nbsp&nbsp <b>#call_nr = 127 - #caller(s): get_var_translation_dict(), var_button_click(), __call__()</b> &nbsp&nbsp&nbsp&nbsp&nbsp&nbsp</span><span style=\"color:rgb(87, 176, 53)\"; \"font-size:8.0pt\">get_var_translation_dict()<br>&nbsp&nbsp&nbsp&nbsp&nbsp&nbsp -- <b>#call_nr = 127 </b> &nbsp&nbsp&nbsp&nbsp&nbsp&nbsp -- var_translation_dict.value = {'SWC_1 (ETC NRT Meteo)': ['SWC_1', 'ETC NRT Meteo', 'SE-Htm'], 'SWC_2 (ETC NRT Meteo)': ['SWC_2', 'ETC NRT Meteo', 'SE-Htm'], 'SWC_3 (ETC NRT Meteo)': ['SWC_3', 'ETC NRT Meteo', 'SE-Htm'], 'SWC_4 (ETC NRT Meteo)': ['SWC_4', 'ETC NRT Meteo', 'SE-Htm'], 'SWC_5 (ETC NRT Meteo)': ['SWC_5', 'ETC NRT Meteo', 'SE-Htm'], 'H2O (ETC NRT Fluxes)': ['H2O', 'ETC NRT Fluxes', 'SE-Htm'], 'TA (ETC NRT Meteo)': ['TA', 'ETC NRT Meteo', 'SE-Htm'], 'Select all': 'All variables'}</span>"
      }
     },
     "38f488a3202742a78b1e1cef7a53cc71": {
      "model_module": "@jupyter-widgets/output",
      "model_module_version": "1.0.0",
      "model_name": "OutputModel",
      "state": {
       "layout": "IPY_MODEL_6280ef55f714469b803479c95eba11ba",
       "outputs": [
        {
         "name": "stdout",
         "output_type": "stream",
         "text": "*** _user_configurations()\n\nlatex_changed() tex_str = $\\qquad $ $\\qquad $ $\\qquad $ ${\\scriptsize  {\\mathrm  {{CO_2}\\ (\\mu{mol}/{mol})}}}$\n*** _edit_batch_jobs()\n\n"
        },
        {
         "data": {
          "application/vnd.jupyter.widget-view+json": {
           "model_id": "2d04f37cb1514eb1bde3d4876daa13aa",
           "version_major": 2,
           "version_minor": 0
          },
          "text/plain": "Accordion(children=(VBox(children=(HTML(value='<span>Here you can modify certain settings such as: what data t…"
         },
         "metadata": {},
         "output_type": "display_data"
        },
        {
         "data": {
          "application/vnd.jupyter.widget-view+json": {
           "model_id": "f6d688ed658b4cf5b2d4f2a95205127a",
           "version_major": 2,
           "version_minor": 0
          },
          "text/plain": "Accordion(children=(VBox(children=(HBox(children=(Dropdown(layout=Layout(height='40px', width='auto'), options…"
         },
         "metadata": {},
         "output_type": "display_data"
        },
        {
         "data": {
          "application/vnd.jupyter.widget-view+json": {
           "model_id": "36679a4afb5c43629628a1e3fe7ff71e",
           "version_major": 2,
           "version_minor": 0
          },
          "text/plain": "Output()"
         },
         "metadata": {},
         "output_type": "display_data"
        }
       ]
      }
     },
     "390f2d4dad554acf9a39bf731358779a": {
      "model_module": "@jupyter-widgets/controls",
      "model_module_version": "2.0.0",
      "model_name": "HTMLModel",
      "state": {
       "layout": "IPY_MODEL_69d7c4e6238c4aaf9d747a1c1e0dcba7",
       "style": "IPY_MODEL_b2734dce8e1b4a768decba6ef94125bc",
       "value": "<span style=\"color:rgb(97, 124, 64)\"; \"font-size:10.0pt\">&nbsp&nbsp&nbsp&nbsp&nbsp&nbsp <b>#call_nr = 121 - #caller(s): reset_var_buttons(), reset_selection(), _notify_observers()</b> &nbsp&nbsp&nbsp&nbsp&nbsp&nbsp</span><span style=\"color:rgb(97, 124, 64)\"; \"font-size:8.0pt\">reset_var_buttons()  -- restore buttons -- <br>&nbsp&nbsp&nbsp&nbsp&nbsp&nbsp -- <b>#call_nr = 121 </b> &nbsp&nbsp&nbsp&nbsp&nbsp&nbsp --  axis_ls = ['°C']<br>&nbsp&nbsp&nbsp&nbsp&nbsp&nbsp -- <b>#call_nr = 121 </b> &nbsp&nbsp&nbsp&nbsp&nbsp&nbsp --  btn.tooltip = °C<br>&nbsp&nbsp&nbsp&nbsp&nbsp&nbsp -- <b>#call_nr = 121 </b> &nbsp&nbsp&nbsp&nbsp&nbsp&nbsp --  Button = \"TA (ETC NRT Meteo)\"<br>&nbsp&nbsp&nbsp&nbsp&nbsp&nbsp -- <b>#call_nr = 121 </b> &nbsp&nbsp&nbsp&nbsp&nbsp&nbsp -- ---- enabled and checked</span>"
      }
     },
     "39e5894f7de84d5db0549ecf2b7b6503": {
      "model_module": "@jupyter-widgets/controls",
      "model_module_version": "2.0.0",
      "model_name": "FloatTextModel",
      "state": {
       "layout": "IPY_MODEL_8fd7fc9f027d42a4b7812d9ecf7da6f7",
       "step": null,
       "style": "IPY_MODEL_607188a3d52d404da2f431f33493f172"
      }
     },
     "3a68edb66a3a437bbabf19f592ea0813": {
      "model_module": "@jupyter-widgets/base",
      "model_module_version": "2.0.0",
      "model_name": "LayoutModel",
      "state": {}
     },
     "3a6b95e559084287aa1723843d1b8d82": {
      "model_module": "@jupyter-widgets/base",
      "model_module_version": "2.0.0",
      "model_name": "LayoutModel",
      "state": {}
     },
     "3aa01c06e5c24bf58e09c6fb081edd4e": {
      "model_module": "@jupyter-widgets/base",
      "model_module_version": "2.0.0",
      "model_name": "LayoutModel",
      "state": {}
     },
     "3aabb0fa70c64e6e96facd0e3d97c13d": {
      "model_module": "@jupyter-widgets/controls",
      "model_module_version": "2.0.0",
      "model_name": "HTMLStyleModel",
      "state": {
       "description_width": "",
       "font_size": null,
       "text_color": null
      }
     },
     "3aaf6db744fb44b093aa3367311d5b81": {
      "model_module": "@jupyter-widgets/controls",
      "model_module_version": "2.0.0",
      "model_name": "DescriptionStyleModel",
      "state": {
       "description_width": ""
      }
     },
     "3ab1cfecb29540f38553c6b04b8bd6b5": {
      "model_module": "@jupyter-widgets/controls",
      "model_module_version": "2.0.0",
      "model_name": "HTMLModel",
      "state": {
       "layout": "IPY_MODEL_3bc25a0a85fb4180bd139a567c31974f",
       "style": "IPY_MODEL_80c432df529b428fb3be4815cbff79da",
       "value": "<span style=\"color:rgb(56, 23, 78)\"; \"font-size:10.0pt\">&nbsp&nbsp&nbsp&nbsp&nbsp&nbsp <b>#call_nr = 74 - #caller(s): set_selections(), reset_selection(), _notify_observers()</b> &nbsp&nbsp&nbsp&nbsp&nbsp&nbsp</span><span style=\"color:rgb(56, 23, 78)\"; \"font-size:8.0pt\">set_selections()<br>&nbsp&nbsp&nbsp&nbsp&nbsp&nbsp -- <b>#call_nr = 74 </b> &nbsp&nbsp&nbsp&nbsp&nbsp&nbsp -- step 1<br>&nbsp&nbsp&nbsp&nbsp&nbsp&nbsp -- <b>#call_nr = 74 </b> &nbsp&nbsp&nbsp&nbsp&nbsp&nbsp -- sel_tool_ls = [('Multi-plot', 0), ('Multi-plot', 1)]<br>&nbsp&nbsp&nbsp&nbsp&nbsp&nbsp -- <b>#call_nr = 74 </b> &nbsp&nbsp&nbsp&nbsp&nbsp&nbsp -- sel_tool_index = 1<br>&nbsp&nbsp&nbsp&nbsp&nbsp&nbsp -- <b>#call_nr = 74 </b> &nbsp&nbsp&nbsp&nbsp&nbsp&nbsp -- sel_var_ls = [('SWC_5 (ETC NRT Meteo), H2O (ETC NRT Fluxes)', (0, [['%', [['SWC_5', 'ETC NRT Meteo', 'SE-Htm']]], ['mmol mol-1', [['H2O', 'ETC NRT Fluxes', 'SE-Htm']]]])), ('', (1, []))]</span>"
      }
     },
     "3ae56893aa4044cb80cccbbb9e489bac": {
      "model_module": "@jupyter-widgets/base",
      "model_module_version": "2.0.0",
      "model_name": "LayoutModel",
      "state": {}
     },
     "3b444c3e811e4c6f97c1b1708e5d88c3": {
      "model_module": "@jupyter-widgets/base",
      "model_module_version": "2.0.0",
      "model_name": "LayoutModel",
      "state": {}
     },
     "3b78b42c2d6a44d7aecfae1c74e11c77": {
      "model_module": "@jupyter-widgets/base",
      "model_module_version": "2.0.0",
      "model_name": "LayoutModel",
      "state": {}
     },
     "3b9c513e33604546bc1a057e84108652": {
      "model_module": "@jupyter-widgets/controls",
      "model_module_version": "2.0.0",
      "model_name": "HTMLModel",
      "state": {
       "layout": "IPY_MODEL_d7e6fef98e1f43d8b232f1b21f00aca0",
       "style": "IPY_MODEL_e99f8029299443388eb664b992fb2b27",
       "value": "<span style=\"color:rgb(112, 46, 5)\"; \"font-size:10.0pt\">&nbsp&nbsp&nbsp&nbsp&nbsp&nbsp <b>#call_nr = 53 - #caller(s): get_var2unit_dict(), var2unit(), init_group_var_buttons()</b> &nbsp&nbsp&nbsp&nbsp&nbsp&nbsp</span><span style=\"color:rgb(112, 46, 5)\"; \"font-size:8.0pt\">get_var2unit_dict()</span>"
      }
     },
     "3ba338fff97d46cb81c9c31022c5b4c4": {
      "model_module": "@jupyter-widgets/controls",
      "model_module_version": "2.0.0",
      "model_name": "HTMLStyleModel",
      "state": {
       "description_width": "",
       "font_size": null,
       "text_color": null
      }
     },
     "3bc25a0a85fb4180bd139a567c31974f": {
      "model_module": "@jupyter-widgets/base",
      "model_module_version": "2.0.0",
      "model_name": "LayoutModel",
      "state": {}
     },
     "3bcadaaa8cd949a8b256f1f8c2f57158": {
      "model_module": "@jupyter-widgets/controls",
      "model_module_version": "2.0.0",
      "model_name": "HTMLStyleModel",
      "state": {
       "description_width": "",
       "font_size": null,
       "text_color": null
      }
     },
     "3c0507e8bd8d4a20a92c369e0274c844": {
      "model_module": "@jupyter-widgets/controls",
      "model_module_version": "2.0.0",
      "model_name": "DescriptionStyleModel",
      "state": {
       "description_width": ""
      }
     },
     "3c687d88778e4753a1ed896e9971f147": {
      "model_module": "@jupyter-widgets/controls",
      "model_module_version": "2.0.0",
      "model_name": "DropdownModel",
      "state": {
       "_options_labels": [
        "Arial",
        "Balto",
        "Courier New",
        "Droid Sans",
        "Droid Serif",
        "Droid Sans Mono",
        "Gravitas One",
        "Old Standard TT",
        "Open Sans",
        "Overpass",
        "PT Sans Narrow",
        "Raleway",
        "Times New Roman"
       ],
       "index": 0,
       "layout": "IPY_MODEL_1cf4e5bae0f24815b2264537dabf3547",
       "style": "IPY_MODEL_a41bd19e3d9a433d8720b7202e0259f6"
      }
     },
     "3cbc9b9f406946d5864be3325d49908a": {
      "model_module": "@jupyter-widgets/controls",
      "model_module_version": "2.0.0",
      "model_name": "HTMLStyleModel",
      "state": {
       "description_width": "",
       "font_size": null,
       "text_color": null
      }
     },
     "3cc016da5db54ccfb110ada31bb9e34d": {
      "model_module": "@jupyter-widgets/controls",
      "model_module_version": "2.0.0",
      "model_name": "HBoxModel",
      "state": {
       "children": [
        "IPY_MODEL_b7a13ce0b60c4b128c18a657c20c2b01"
       ],
       "layout": "IPY_MODEL_b7b164f838744e499e8e6dd0c2a8819c"
      }
     },
     "3ce10a2f327142d78293fa6e3994aca9": {
      "model_module": "@jupyter-widgets/controls",
      "model_module_version": "2.0.0",
      "model_name": "DropdownModel",
      "state": {
       "_options_labels": [
        "Arial",
        "Balto",
        "Courier New",
        "Droid Sans",
        "Droid Serif",
        "Droid Sans Mono",
        "Gravitas One",
        "Old Standard TT",
        "Open Sans",
        "Overpass",
        "PT Sans Narrow",
        "Raleway",
        "Times New Roman"
       ],
       "index": 0,
       "layout": "IPY_MODEL_1cf4e5bae0f24815b2264537dabf3547",
       "style": "IPY_MODEL_e9b593ca46074036a0e9c71d976f3b03"
      }
     },
     "3d0a3affbf854902b6a976a1b9b4d99a": {
      "model_module": "@jupyter-widgets/controls",
      "model_module_version": "2.0.0",
      "model_name": "HTMLModel",
      "state": {
       "layout": "IPY_MODEL_e109276c9fc644259c22b8a778dc2965",
       "style": "IPY_MODEL_e8c2d82e4b2340b1b64f4b649bb62e80",
       "value": "<span style=\"color:rgb(97, 124, 64)\"; \"font-size:10.0pt\">&nbsp&nbsp&nbsp&nbsp&nbsp&nbsp <b>#call_nr = 89 - #caller(s): reset_var_buttons(), reset_selection(), _notify_observers()</b> &nbsp&nbsp&nbsp&nbsp&nbsp&nbsp</span><span style=\"color:rgb(97, 124, 64)\"; \"font-size:8.0pt\">reset_var_buttons()  -- restore buttons -- <br>&nbsp&nbsp&nbsp&nbsp&nbsp&nbsp -- <b>#call_nr = 89 </b> &nbsp&nbsp&nbsp&nbsp&nbsp&nbsp --  axis_ls = []<br>&nbsp&nbsp&nbsp&nbsp&nbsp&nbsp -- <b>#call_nr = 89 </b> &nbsp&nbsp&nbsp&nbsp&nbsp&nbsp --  btn.tooltip = <br>&nbsp&nbsp&nbsp&nbsp&nbsp&nbsp -- <b>#call_nr = 89 </b> &nbsp&nbsp&nbsp&nbsp&nbsp&nbsp --  Button = \"Select all\"<br>&nbsp&nbsp&nbsp&nbsp&nbsp&nbsp -- <b>#call_nr = 89 </b> &nbsp&nbsp&nbsp&nbsp&nbsp&nbsp -- ---- disabled</span>"
      }
     },
     "3d14359ee9214fdea0b0c80d2b3ac8d1": {
      "model_module": "@jupyter-widgets/base",
      "model_module_version": "2.0.0",
      "model_name": "LayoutModel",
      "state": {}
     },
     "3d82dee61b95481e88a8b8f1590dc16b": {
      "model_module": "@jupyter-widgets/controls",
      "model_module_version": "2.0.0",
      "model_name": "HTMLModel",
      "state": {
       "layout": "IPY_MODEL_abf4a522f82d456099ae2fe6762f83d1",
       "style": "IPY_MODEL_0afa14e13cb14a3592739f49e5e9d705",
       "value": "<span style=\"color:rgb(171, 133, 129)\"; \"font-size:10.0pt\">&nbsp&nbsp&nbsp&nbsp&nbsp&nbsp <b>#call_nr = 65 - #caller(s): reset_multi_plot_auto(), tool_selections(), tool_click()</b> &nbsp&nbsp&nbsp&nbsp&nbsp&nbsp</span><span style=\"color:rgb(171, 133, 129)\"; \"font-size:8.0pt\">reset_multi_plot_auto() - before<br>&nbsp&nbsp&nbsp&nbsp&nbsp&nbsp -- <b>#call_nr = 65 </b> &nbsp&nbsp&nbsp&nbsp&nbsp&nbsp -- hide = False<br>&nbsp&nbsp&nbsp&nbsp&nbsp&nbsp -- <b>#call_nr = 65 </b> &nbsp&nbsp&nbsp&nbsp&nbsp&nbsp -- enable = True<br>&nbsp&nbsp&nbsp&nbsp&nbsp&nbsp -- <b>#call_nr = 65 </b> &nbsp&nbsp&nbsp&nbsp&nbsp&nbsp -- value = True<br>&nbsp&nbsp&nbsp&nbsp&nbsp&nbsp -- <b>#call_nr = 65 </b> &nbsp&nbsp&nbsp&nbsp&nbsp&nbsp -- multi_plot_auto_cb.disabled = False<br>&nbsp&nbsp&nbsp&nbsp&nbsp&nbsp -- <b>#call_nr = 65 </b> &nbsp&nbsp&nbsp&nbsp&nbsp&nbsp -- multi_plot_auto_cb.layout.display = none<br>&nbsp&nbsp&nbsp&nbsp&nbsp&nbsp -- <b>#call_nr = 65 </b> &nbsp&nbsp&nbsp&nbsp&nbsp&nbsp -- multi_plot_auto_cb.value = True</span>"
      }
     },
     "3d9649862cf44f699981fdd6a8c931bd": {
      "model_module": "@jupyter-widgets/controls",
      "model_module_version": "2.0.0",
      "model_name": "HTMLStyleModel",
      "state": {
       "description_width": "",
       "font_size": null,
       "text_color": null
      }
     },
     "3d9af11e815640428a887bdf05147e06": {
      "model_module": "@jupyter-widgets/base",
      "model_module_version": "2.0.0",
      "model_name": "LayoutModel",
      "state": {}
     },
     "3da4134e6f734f5d8f75bdf9ea69e751": {
      "model_module": "@jupyter-widgets/controls",
      "model_module_version": "2.0.0",
      "model_name": "HTMLStyleModel",
      "state": {
       "description_width": "",
       "font_size": null,
       "text_color": null
      }
     },
     "3e5403c643c34d5598dfb8ba00e0a140": {
      "model_module": "@jupyter-widgets/controls",
      "model_module_version": "2.0.0",
      "model_name": "HTMLModel",
      "state": {
       "layout": "IPY_MODEL_ad62437d9a274017a9a03153e1faa93d",
       "style": "IPY_MODEL_a1f93e9e9339482a912bc2deec0fb3a2",
       "value": "<span style=\"color:rgb(56, 23, 78)\"; \"font-size:10.0pt\">&nbsp&nbsp&nbsp&nbsp&nbsp&nbsp <b>#call_nr = 181 - #caller(s): set_selections(), reset_selection(), _notify_observers()</b> &nbsp&nbsp&nbsp&nbsp&nbsp&nbsp</span><span style=\"color:rgb(56, 23, 78)\"; \"font-size:8.0pt\">set_selections()<br>&nbsp&nbsp&nbsp&nbsp&nbsp&nbsp -- <b>#call_nr = 181 </b> &nbsp&nbsp&nbsp&nbsp&nbsp&nbsp -- step 1<br>&nbsp&nbsp&nbsp&nbsp&nbsp&nbsp -- <b>#call_nr = 181 </b> &nbsp&nbsp&nbsp&nbsp&nbsp&nbsp -- sel_tool_ls = [('Multi-plot', 0), ('Multi-plot', 1)]<br>&nbsp&nbsp&nbsp&nbsp&nbsp&nbsp -- <b>#call_nr = 181 </b> &nbsp&nbsp&nbsp&nbsp&nbsp&nbsp -- sel_tool_index = None<br>&nbsp&nbsp&nbsp&nbsp&nbsp&nbsp -- <b>#call_nr = 181 </b> &nbsp&nbsp&nbsp&nbsp&nbsp&nbsp -- sel_var_ls = [('SWC_5 (ETC NRT Meteo), H2O (ETC NRT Fluxes)', (0, [['%', [['SWC_5', 'ETC NRT Meteo', 'SE-Htm']]], ['mmol mol-1', [['H2O', 'ETC NRT Fluxes', 'SE-Htm']]]])), ('TA (ETC NRT Meteo), H2O (ETC NRT Fluxes)', (1, [('°C', [['TA', 'ETC NRT Meteo', 'SE-Htm']]), ('mmol mol-1', [['H2O', 'ETC NRT Fluxes', 'SE-Htm']])]))]</span>"
      }
     },
     "3ebda395d21e4394a3b43f54a07ee036": {
      "model_module": "@jupyter-widgets/base",
      "model_module_version": "2.0.0",
      "model_name": "LayoutModel",
      "state": {}
     },
     "3ecca24f29814e77bea5a1c32f850d1a": {
      "model_module": "@jupyter-widgets/controls",
      "model_module_version": "2.0.0",
      "model_name": "HTMLModel",
      "state": {
       "layout": "IPY_MODEL_06b5301daa534501b5bbb90ecfd9a0a8",
       "style": "IPY_MODEL_75cd921439da4a1d83e7fdbc84ebccd4",
       "value": "<span style=\"color:rgb(128, 100, 39)\"; \"font-size:10.0pt\">&nbsp&nbsp&nbsp&nbsp&nbsp&nbsp <b>#call_nr = 44 - #caller(s): var2unit(), init_group_var_buttons(), activate_gui()</b> &nbsp&nbsp&nbsp&nbsp&nbsp&nbsp</span><span style=\"color:rgb(128, 100, 39)\"; \"font-size:8.0pt\">var2unit()<br>&nbsp&nbsp&nbsp&nbsp&nbsp&nbsp -- <b>#call_nr = 44 </b> &nbsp&nbsp&nbsp&nbsp&nbsp&nbsp -- var = ['SWC_1', 'ETC NRT Meteo', 'SE-Htm']<br>&nbsp&nbsp&nbsp&nbsp&nbsp&nbsp -- <b>#call_nr = 44 </b> &nbsp&nbsp&nbsp&nbsp&nbsp&nbsp -- return unit = %</span>"
      }
     },
     "3f0349760b2c43e3a1738e497022dc69": {
      "model_module": "@jupyter-widgets/base",
      "model_module_version": "2.0.0",
      "model_name": "LayoutModel",
      "state": {}
     },
     "3f1684da053e4d5b895360efe6632a9d": {
      "model_module": "@jupyter-widgets/controls",
      "model_module_version": "2.0.0",
      "model_name": "HTMLStyleModel",
      "state": {
       "description_width": "",
       "font_size": null,
       "text_color": null
      }
     },
     "3f28758665bc4789a0fc62ac52ee8e41": {
      "model_module": "@jupyter-widgets/base",
      "model_module_version": "2.0.0",
      "model_name": "LayoutModel",
      "state": {}
     },
     "3f444e8f61064867808772a5768ec2f3": {
      "model_module": "@jupyter-widgets/controls",
      "model_module_version": "2.0.0",
      "model_name": "HTMLModel",
      "state": {
       "layout": "IPY_MODEL_51a03887c88e4478b4ff7a29bbfc2b3a",
       "style": "IPY_MODEL_7d380bebbfd747b3b195b88bb9ea8916",
       "value": "<span style=\"color:rgb(120, 84, 132)\"; \"font-size:10.0pt\">&nbsp&nbsp&nbsp&nbsp&nbsp&nbsp <b>#call_nr = 159 - #caller(s): cleanup_tools(), save_batch(), __call__()</b> &nbsp&nbsp&nbsp&nbsp&nbsp&nbsp</span><span style=\"color:rgb(120, 84, 132)\"; \"font-size:8.0pt\">cleanup_tools() -- (before)<br>&nbsp&nbsp&nbsp&nbsp&nbsp&nbsp -- <b>#call_nr = 159 </b> &nbsp&nbsp&nbsp&nbsp&nbsp&nbsp -- upd_dict['_tools'] = {'0': {'multi_plot': [['%', [['SWC_5', 'ETC NRT Meteo', 'SE-Htm']]], ['mmol mol-1', [['H2O', 'ETC NRT Fluxes', 'SE-Htm']]]]}, '1': {'multi_plot': [('°C', [['TA', 'ETC NRT Meteo', 'SE-Htm']]), ('mmol mol-1', [['H2O', 'ETC NRT Fluxes', 'SE-Htm']])]}}</span>"
      }
     },
     "3f8af14e9e964002b2d61791979d16b5": {
      "model_module": "@jupyter-widgets/controls",
      "model_module_version": "2.0.0",
      "model_name": "SelectModel",
      "state": {
       "_options_labels": [
        "Multi-plot",
        "Multi-plot"
       ],
       "disabled": true,
       "index": null,
       "layout": "IPY_MODEL_1cb6a71584f349d69981bb0c5614ff08",
       "style": "IPY_MODEL_e7877f3c55674f038507025ef8c83d68",
       "tooltip": "The tools are listed in order of execution.\nUse the Up-button (displayed in update-mode)\nto change the order of \nexecution."
      }
     },
     "3f9ebcec8f7a4f2281676df475c70c03": {
      "model_module": "@jupyter-widgets/controls",
      "model_module_version": "2.0.0",
      "model_name": "HTMLModel",
      "state": {
       "layout": "IPY_MODEL_b4ecae7d9e9240c69504bff636428f04",
       "style": "IPY_MODEL_17f5c63426f94d6dbb3c3628937f327b",
       "value": "<span style=\"color:rgb(5, 151, 81)\"; \"font-size:10.0pt\">&nbsp&nbsp&nbsp&nbsp&nbsp&nbsp <b>#call_nr = 5 - #caller(s): get_group_var_info_text(), set_group_var_info(), changed_group_drop()</b> &nbsp&nbsp&nbsp&nbsp&nbsp&nbsp</span><span style=\"color:rgb(5, 151, 81)\"; \"font-size:8.0pt\">get_group_var_info_text()</span>"
      }
     },
     "3fb65aae528244829caeeed003d95f08": {
      "model_module": "@jupyter-widgets/base",
      "model_module_version": "2.0.0",
      "model_name": "LayoutModel",
      "state": {}
     },
     "3fe6abe11b77432dbc6422a57a6e8506": {
      "model_module": "@jupyter-widgets/controls",
      "model_module_version": "2.0.0",
      "model_name": "VBoxModel",
      "state": {
       "children": [
        "IPY_MODEL_8b9179fdafdd48d993d7c31c16a35329",
        "IPY_MODEL_28348dde13ea4bcf99b408cd831cb8df",
        "IPY_MODEL_591e2c76ff9d4fcc86fdc9e578fe1e17",
        "IPY_MODEL_a25ee7c8d53549b4a178166825230dbd",
        "IPY_MODEL_81c0f3ddfda347419980b85700ff251d",
        "IPY_MODEL_8c1fd7261eda47a091df597a62d52136",
        "IPY_MODEL_35e97ffd53424617887f5c3bd9469ab7",
        "IPY_MODEL_b9d17e3056584698a057f90aa379c813",
        "IPY_MODEL_5d876e9c21c2407ebc451e72497d8a72"
       ],
       "layout": "IPY_MODEL_c70d17a9a5194c86bc8c6d57bba2e08c"
      }
     },
     "4068d63487194569bb5a19297cc6afcb": {
      "model_module": "@jupyter-widgets/controls",
      "model_module_version": "2.0.0",
      "model_name": "HTMLStyleModel",
      "state": {
       "description_width": "",
       "font_size": null,
       "text_color": null
      }
     },
     "4091d48c5f8f478b8ba387e2c681721a": {
      "model_module": "@jupyter-widgets/controls",
      "model_module_version": "2.0.0",
      "model_name": "HTMLStyleModel",
      "state": {
       "description_width": "",
       "font_size": null,
       "text_color": null
      }
     },
     "40bb762d6a7b4f979a672eb4aee9187c": {
      "model_module": "@jupyter-widgets/base",
      "model_module_version": "2.0.0",
      "model_name": "LayoutModel",
      "state": {}
     },
     "40eb30a804fe4071a21189bb4093f7ba": {
      "model_module": "@jupyter-widgets/controls",
      "model_module_version": "2.0.0",
      "model_name": "HTMLModel",
      "state": {
       "layout": "IPY_MODEL_72e58ae1c3bc498290619a15e1e8bf4b",
       "style": "IPY_MODEL_552e0e08a0f543749f54791fc24e3453",
       "value": "<span><b>Guide:</b><br>The <b><i>Correlation table</i></b> can be used to visualize linear dependency between multiple variables (assumed to have the same statistical distribution).<br>The <b><i>Plotly color scale</i></b> is used in order to visualize the correlation coefficients, the color scale can be changed in order to ease variants of <b><i><a href=\"https://www.aao.org/eye-health/diseases/what-is-color-blindness\" target=\"_blank\"><font color=\"DarkBlue\">color deficiencies</font></a></i></b>..</span>"
      }
     },
     "40f301fa7362460eaec2e79aed1a4998": {
      "model_module": "@jupyter-widgets/base",
      "model_module_version": "2.0.0",
      "model_name": "LayoutModel",
      "state": {}
     },
     "41f28bb64e354abdace2b25095ea3c50": {
      "model_module": "@jupyter-widgets/controls",
      "model_module_version": "2.0.0",
      "model_name": "HTMLModel",
      "state": {
       "layout": "IPY_MODEL_7603571e00a74855a3504f0af2ca73a9",
       "style": "IPY_MODEL_ea71cbb8f64a43e8a5e088b25a3f6602",
       "value": "<span style=\"color:rgb(92, 150, 134)\"; \"font-size:10.0pt\">&nbsp&nbsp&nbsp&nbsp&nbsp&nbsp <b>#call_nr = 134 - #caller(s): set_batch_upd_dict(), update_batch_dict(), var_button_click()</b> &nbsp&nbsp&nbsp&nbsp&nbsp&nbsp</span><span style=\"color:rgb(92, 150, 134)\"; \"font-size:8.0pt\">set_batch_upd_dict()<br>&nbsp&nbsp&nbsp&nbsp&nbsp&nbsp -- <b>#call_nr = 134 </b> &nbsp&nbsp&nbsp&nbsp&nbsp&nbsp -- step 1<br>&nbsp&nbsp&nbsp&nbsp&nbsp&nbsp -- <b>#call_nr = 134 </b> &nbsp&nbsp&nbsp&nbsp&nbsp&nbsp -- d ={'_upd_mode': 'update', '_version': 1, '_orig_name': 'mp2 ', '_new_name': 'mp2 ', '_selected_tool_index': 1, '_tools': {0: {'multi_plot': [['%', [['SWC_5', 'ETC NRT Meteo', 'SE-Htm']]], ['mmol mol-1', [['H2O', 'ETC NRT Fluxes', 'SE-Htm']]]]}, 1: {'multi_plot': [('°C', [['TA', 'ETC NRT Meteo', 'SE-Htm']]), ('mmol mol-1', [['H2O', 'ETC NRT Fluxes', 'SE-Htm']])]}}}</span>"
      }
     },
     "423d45a682c44d0885f30fd4815820a7": {
      "model_module": "@jupyter-widgets/controls",
      "model_module_version": "2.0.0",
      "model_name": "HTMLStyleModel",
      "state": {
       "description_width": "",
       "font_size": null,
       "text_color": null
      }
     },
     "42614c08925a426691ad3637b2ef2981": {
      "model_module": "@jupyter-widgets/base",
      "model_module_version": "2.0.0",
      "model_name": "LayoutModel",
      "state": {}
     },
     "42741b40e89944d089aacd3ffe8ea93d": {
      "model_module": "@jupyter-widgets/controls",
      "model_module_version": "2.0.0",
      "model_name": "HTMLModel",
      "state": {
       "layout": "IPY_MODEL_2a38370d876d4330b42a44ca07707345",
       "style": "IPY_MODEL_ac4925c0f729430094452bc47165d504",
       "value": "<b>Title size:</b> "
      }
     },
     "427ff582e1c8492cb09954a20143ed65": {
      "model_module": "@jupyter-widgets/base",
      "model_module_version": "2.0.0",
      "model_name": "LayoutModel",
      "state": {}
     },
     "42982ba06e5d426396677c22a2d36c86": {
      "model_module": "@jupyter-widgets/controls",
      "model_module_version": "2.0.0",
      "model_name": "ButtonModel",
      "state": {
       "description": "SWC_3 (ETC NRT Meteo)",
       "disabled": true,
       "layout": "IPY_MODEL_c1f49a68fa01489bb58010bec927e304",
       "style": "IPY_MODEL_779f1b69d96e49489296c0b8ebefe51b",
       "tooltip": "%"
      }
     },
     "42c3269d13c44c2d971c561836b6b752": {
      "model_module": "@jupyter-widgets/controls",
      "model_module_version": "2.0.0",
      "model_name": "HTMLStyleModel",
      "state": {
       "description_width": "",
       "font_size": null,
       "text_color": null
      }
     },
     "42f7b510417448a2a28e0c8565a34911": {
      "model_module": "@jupyter-widgets/base",
      "model_module_version": "2.0.0",
      "model_name": "LayoutModel",
      "state": {}
     },
     "43293f5cd451422db4646e74fddf9eef": {
      "model_module": "@jupyter-widgets/base",
      "model_module_version": "2.0.0",
      "model_name": "LayoutModel",
      "state": {}
     },
     "440012cdf1da4758a6a6f1391a7dcb93": {
      "model_module": "@jupyter-widgets/controls",
      "model_module_version": "2.0.0",
      "model_name": "DescriptionStyleModel",
      "state": {
       "description_width": ""
      }
     },
     "4443796dfabf425d9cb374e63485fb6f": {
      "model_module": "@jupyter-widgets/controls",
      "model_module_version": "2.0.0",
      "model_name": "HTMLStyleModel",
      "state": {
       "description_width": "",
       "font_size": null,
       "text_color": null
      }
     },
     "44852efb1840406c9fc7167fe8f68f32": {
      "model_module": "@jupyter-widgets/controls",
      "model_module_version": "2.0.0",
      "model_name": "HTMLModel",
      "state": {
       "layout": "IPY_MODEL_3ae56893aa4044cb80cccbbb9e489bac",
       "style": "IPY_MODEL_5331c8ee9695499eb75d10791c7bdc4e",
       "value": "<span style=\"color:rgb(112, 46, 5)\"; \"font-size:10.0pt\">&nbsp&nbsp&nbsp&nbsp&nbsp&nbsp <b>#call_nr = 47 - #caller(s): get_var2unit_dict(), var2unit(), init_group_var_buttons()</b> &nbsp&nbsp&nbsp&nbsp&nbsp&nbsp</span><span style=\"color:rgb(112, 46, 5)\"; \"font-size:8.0pt\">get_var2unit_dict()</span>"
      }
     },
     "449eb2f59f43499f87ac600b8f874ecd": {
      "model_module": "@jupyter-widgets/controls",
      "model_module_version": "2.0.0",
      "model_name": "DescriptionStyleModel",
      "state": {
       "description_width": ""
      }
     },
     "44a5d6b8bdd34290844ace803e231941": {
      "model_module": "@jupyter-widgets/controls",
      "model_module_version": "2.0.0",
      "model_name": "HTMLModel",
      "state": {
       "layout": "IPY_MODEL_b847fc8a4c1e4b6d9a7247724f15254f",
       "style": "IPY_MODEL_3f1684da053e4d5b895360efe6632a9d",
       "value": "<span style=\"color:rgb(125, 58, 62)\"; \"font-size:10.0pt\">&nbsp&nbsp&nbsp&nbsp&nbsp&nbsp <b>#call_nr = 26 - #caller(s): update_batch(), __call__(), click()</b> &nbsp&nbsp&nbsp&nbsp&nbsp&nbsp</span><span style=\"color:rgb(125, 58, 62)\"; \"font-size:8.0pt\">update_batch()<br>&nbsp&nbsp&nbsp&nbsp&nbsp&nbsp -- <b>#call_nr = 26 </b> &nbsp&nbsp&nbsp&nbsp&nbsp&nbsp -- batch_drop.label = mp2 <br>&nbsp&nbsp&nbsp&nbsp&nbsp&nbsp -- <b>#call_nr = 26 </b> &nbsp&nbsp&nbsp&nbsp&nbsp&nbsp -- batch_drop.value = {'0': {'multi_plot': [['%', [['SWC_5', 'ETC NRT Meteo', 'SE-Htm']]], ['mmol mol-1', [['H2O', 'ETC NRT Fluxes', 'SE-Htm']]]]}, '_version': '1'}</span>"
      }
     },
     "44f2a01fa4114a4d946657c48bfbfb17": {
      "model_module": "@jupyter-widgets/controls",
      "model_module_version": "2.0.0",
      "model_name": "HBoxModel",
      "state": {
       "children": [
        "IPY_MODEL_42741b40e89944d089aacd3ffe8ea93d",
        "IPY_MODEL_465d280921db479498b0fd9bb71d99c4"
       ],
       "layout": "IPY_MODEL_664b941c6b63469c98810775dba87cc0"
      }
     },
     "44fd0025ca114182901b6d8e5aeaa01d": {
      "model_module": "@jupyter-widgets/controls",
      "model_module_version": "2.0.0",
      "model_name": "HTMLModel",
      "state": {
       "layout": "IPY_MODEL_1adecedc446940549c1b18f2e06e8a43",
       "style": "IPY_MODEL_9a832740bcec4f5b9ff1259e4c9bbcc2",
       "value": "<span style=\"color:rgb(87, 176, 53)\"; \"font-size:10.0pt\">&nbsp&nbsp&nbsp&nbsp&nbsp&nbsp <b>#call_nr = 170 - #caller(s): get_var_translation_dict(), format_tool_vars(), reset_selection()</b> &nbsp&nbsp&nbsp&nbsp&nbsp&nbsp</span><span style=\"color:rgb(87, 176, 53)\"; \"font-size:8.0pt\">get_var_translation_dict()<br>&nbsp&nbsp&nbsp&nbsp&nbsp&nbsp -- <b>#call_nr = 170 </b> &nbsp&nbsp&nbsp&nbsp&nbsp&nbsp -- var_translation_dict.value = {'SWC_1 (ETC NRT Meteo)': ['SWC_1', 'ETC NRT Meteo', 'SE-Htm'], 'SWC_2 (ETC NRT Meteo)': ['SWC_2', 'ETC NRT Meteo', 'SE-Htm'], 'SWC_3 (ETC NRT Meteo)': ['SWC_3', 'ETC NRT Meteo', 'SE-Htm'], 'SWC_4 (ETC NRT Meteo)': ['SWC_4', 'ETC NRT Meteo', 'SE-Htm'], 'SWC_5 (ETC NRT Meteo)': ['SWC_5', 'ETC NRT Meteo', 'SE-Htm'], 'H2O (ETC NRT Fluxes)': ['H2O', 'ETC NRT Fluxes', 'SE-Htm'], 'TA (ETC NRT Meteo)': ['TA', 'ETC NRT Meteo', 'SE-Htm'], 'Select all': 'All variables'}</span>"
      }
     },
     "44ff14d581f544cc9d9a7f325154149c": {
      "model_module": "@jupyter-widgets/controls",
      "model_module_version": "2.0.0",
      "model_name": "DescriptionStyleModel",
      "state": {
       "description_width": ""
      }
     },
     "4542a9395e7245caa1388cd5f043baee": {
      "model_module": "@jupyter-widgets/controls",
      "model_module_version": "2.0.0",
      "model_name": "HTMLModel",
      "state": {
       "layout": "IPY_MODEL_3398102c6d6443eb9c8269ee84fc32aa",
       "style": "IPY_MODEL_94b2a29d5690443194871d18d053ca99",
       "value": "<span style=\"color:rgb(171, 133, 129)\"; \"font-size:10.0pt\">&nbsp&nbsp&nbsp&nbsp&nbsp&nbsp <b>#call_nr = 114 - #caller(s): reset_multi_plot_auto(), reset_var_buttons(), reset_selection()</b> &nbsp&nbsp&nbsp&nbsp&nbsp&nbsp</span><span style=\"color:rgb(171, 133, 129)\"; \"font-size:8.0pt\">reset_multi_plot_auto() - after<br>&nbsp&nbsp&nbsp&nbsp&nbsp&nbsp -- <b>#call_nr = 114 </b> &nbsp&nbsp&nbsp&nbsp&nbsp&nbsp -- hide = False<br>&nbsp&nbsp&nbsp&nbsp&nbsp&nbsp -- <b>#call_nr = 114 </b> &nbsp&nbsp&nbsp&nbsp&nbsp&nbsp -- enable = True<br>&nbsp&nbsp&nbsp&nbsp&nbsp&nbsp -- <b>#call_nr = 114 </b> &nbsp&nbsp&nbsp&nbsp&nbsp&nbsp -- value = True<br>&nbsp&nbsp&nbsp&nbsp&nbsp&nbsp -- <b>#call_nr = 114 </b> &nbsp&nbsp&nbsp&nbsp&nbsp&nbsp -- multi_plot_auto_cb.disabled = False<br>&nbsp&nbsp&nbsp&nbsp&nbsp&nbsp -- <b>#call_nr = 114 </b> &nbsp&nbsp&nbsp&nbsp&nbsp&nbsp -- multi_plot_auto_cb.layout.display = block<br>&nbsp&nbsp&nbsp&nbsp&nbsp&nbsp -- <b>#call_nr = 114 </b> &nbsp&nbsp&nbsp&nbsp&nbsp&nbsp -- multi_plot_auto_cb.value = True</span>"
      }
     },
     "45435fb67ea54bf8aae2238cbfec4ed4": {
      "model_module": "@jupyter-widgets/controls",
      "model_module_version": "2.0.0",
      "model_name": "DropdownModel",
      "state": {
       "_options_labels": [
        "Split-plot",
        "Multi-plotCorrelation plot",
        "Correlation table"
       ],
       "description": "Tools",
       "index": 0,
       "layout": "IPY_MODEL_f3bf43a7fec24a9391d954b6ff278d4f",
       "style": "IPY_MODEL_440012cdf1da4758a6a6f1391a7dcb93"
      }
     },
     "45554ddd4fee4e4f98786cb72a70e8b7": {
      "model_module": "@jupyter-widgets/controls",
      "model_module_version": "2.0.0",
      "model_name": "DescriptionStyleModel",
      "state": {
       "description_width": ""
      }
     },
     "4587b65b82834de89d2924da2cbcbb4e": {
      "model_module": "@jupyter-widgets/controls",
      "model_module_version": "2.0.0",
      "model_name": "HTMLStyleModel",
      "state": {
       "description_width": "",
       "font_size": null,
       "text_color": null
      }
     },
     "45c01d14618d486396f92f8e85362bd6": {
      "model_module": "@jupyter-widgets/base",
      "model_module_version": "2.0.0",
      "model_name": "LayoutModel",
      "state": {}
     },
     "45de7d964d054878bb802680bbf912ef": {
      "model_module": "@jupyter-widgets/base",
      "model_module_version": "2.0.0",
      "model_name": "LayoutModel",
      "state": {}
     },
     "465d280921db479498b0fd9bb71d99c4": {
      "model_module": "@jupyter-widgets/controls",
      "model_module_version": "2.0.0",
      "model_name": "DropdownModel",
      "state": {
       "_options_labels": [
        "Default",
        "6",
        "8",
        "10",
        "11",
        "12",
        "14",
        "17"
       ],
       "index": 0,
       "layout": "IPY_MODEL_8fd7fc9f027d42a4b7812d9ecf7da6f7",
       "style": "IPY_MODEL_a5707edbfc284ef59c9b71409155b9ce"
      }
     },
     "468f04085bbb41fdb6be0b9b9b292eba": {
      "model_module": "@jupyter-widgets/controls",
      "model_module_version": "2.0.0",
      "model_name": "HTMLStyleModel",
      "state": {
       "description_width": "",
       "font_size": null,
       "text_color": null
      }
     },
     "46a337661a544c748543d589baee92e3": {
      "model_module": "@jupyter-widgets/base",
      "model_module_version": "2.0.0",
      "model_name": "LayoutModel",
      "state": {}
     },
     "46a96356593349fe9e824b54fc5310ba": {
      "model_module": "@jupyter-widgets/controls",
      "model_module_version": "2.0.0",
      "model_name": "DropdownModel",
      "state": {
       "_options_labels": [
        "6",
        "8",
        "10",
        "11",
        "12",
        "14",
        "17"
       ],
       "index": 1,
       "layout": "IPY_MODEL_8fd7fc9f027d42a4b7812d9ecf7da6f7",
       "style": "IPY_MODEL_00bebdd070ac426da8e30780249a1ca6"
      }
     },
     "4765977e11834e65a1e0440aaaea79c4": {
      "model_module": "@jupyter-widgets/controls",
      "model_module_version": "2.0.0",
      "model_name": "HTMLModel",
      "state": {
       "layout": "IPY_MODEL_17b9063a4c0e42e7b0cd32c67af062f1",
       "style": "IPY_MODEL_d049aa12f68b4e3c87e6106b5b3479be",
       "value": "<span style=\"color:rgb(51, 49, 148)\"; \"font-size:10.0pt\">&nbsp&nbsp&nbsp&nbsp&nbsp&nbsp <b>#call_nr = 11 - #caller(s): changed_batch_drop(), _notify_observers(), notify_change()</b> &nbsp&nbsp&nbsp&nbsp&nbsp&nbsp</span><span style=\"color:rgb(51, 49, 148)\"; \"font-size:8.0pt\">changed_batch_drop()<br>&nbsp&nbsp&nbsp&nbsp&nbsp&nbsp -- <b>#call_nr = 11 </b> &nbsp&nbsp&nbsp&nbsp&nbsp&nbsp -- - step 1 - batch value changed, reset displayed selections<br>&nbsp&nbsp&nbsp&nbsp&nbsp&nbsp -- <b>#call_nr = 11 </b> &nbsp&nbsp&nbsp&nbsp&nbsp&nbsp -- c = {'name': 'value', 'old': None, 'new': {'0': {'multi_plot': [['%', [['SWC_5', 'ETC NRT Meteo', 'SE-Htm']]], ['mmol mol-1', [['H2O', 'ETC NRT Fluxes', 'SE-Htm']]]]}, '_version': '1'}, 'owner': Dropdown(index=1, layout=Layout(height='40px', width='auto'), options=(('mp1', {'0': {'multi_plot': [['%', [['SWC_5', 'ETC NRT Meteo', 'SE-Htm'], ['SWC_1', 'ETC NRT Meteo', 'SE-Htm']]], ['mmol mol-1', [['H2O', 'ETC NRT Fluxes', 'SE-Htm']]]]}, '_version': '3'}), ('mp2 ', {'0': {'multi_plot': [['%', [['SWC_5', 'ETC NRT Meteo', 'SE-Htm']]], ['mmol mol-1', [['H2O', 'ETC NRT Fluxes', 'SE-Htm']]]]}, '_version': '1'}), ('sp1', {'0': {'split_plot': [['H2O', 'ETC NRT Fluxes', 'SE-Htm'], ['TA', 'ETC NRT Meteo', 'SE-Htm'], ['SWC_3', 'ETC NRT Meteo', 'SE-Htm']]}, '_version': '3'}), ('split and mult', {'0': {'split_plot': [['SWC_1', 'ETC NRT Meteo', 'SE-Htm'], ['SWC_2', 'ETC NRT Meteo', 'SE-Htm'], ['SWC_3', 'ETC NRT Meteo', 'SE-Htm'], ['SWC_4', 'ETC NRT Meteo', 'SE-Htm'], ['SWC_5', 'ETC NRT Meteo', 'SE-Htm']]}, '1': {'multi_plot': [['%', [['SWC_1', 'ETC NRT Meteo', 'SE-Htm'], ['SWC_5', 'ETC NRT Meteo', 'SE-Htm'], ['SWC_2', 'ETC NRT Meteo', 'SE-Htm'], ['SWC_3', 'ETC NRT Meteo', 'SE-Htm']]], ['mmol mol-1', [['H2O', 'ETC NRT Fluxes', 'SE-Htm']]]]}, '2': {'multi_plot': [['%', [['SWC_1', 'ETC NRT Meteo', 'SE-Htm'], ['SWC_5', 'ETC NRT Meteo', 'SE-Htm']]]]}, '_version': '2'})), tooltip='Name of batch job', value={'0': {'multi_plot': [['%', [['SWC_5', 'ETC NRT Meteo', 'SE-Htm']]], ['mmol mol-1', [['H2O', 'ETC NRT Fluxes', 'SE-Htm']]]]}, '_version': '1'}), 'type': 'change'}<br>&nbsp&nbsp&nbsp&nbsp&nbsp&nbsp -- <b>#call_nr = 11 </b> &nbsp&nbsp&nbsp&nbsp&nbsp&nbsp -- batch_drop.label = mp2 <br>&nbsp&nbsp&nbsp&nbsp&nbsp&nbsp -- <b>#call_nr = 11 </b> &nbsp&nbsp&nbsp&nbsp&nbsp&nbsp -- batch_drop.value = {'0': {'multi_plot': [['%', [['SWC_5', 'ETC NRT Meteo', 'SE-Htm']]], ['mmol mol-1', [['H2O', 'ETC NRT Fluxes', 'SE-Htm']]]]}, '_version': '1'}</span>"
      }
     },
     "47962d0a8320479d8629efeb3c8c3fa1": {
      "model_module": "@jupyter-widgets/base",
      "model_module_version": "2.0.0",
      "model_name": "LayoutModel",
      "state": {}
     },
     "47d6208e0bd244d19fb51512f623f4c1": {
      "model_module": "@jupyter-widgets/base",
      "model_module_version": "2.0.0",
      "model_name": "LayoutModel",
      "state": {}
     },
     "47f8c1af08914d6b93134279f1affbba": {
      "model_module": "@jupyter-widgets/controls",
      "model_module_version": "2.0.0",
      "model_name": "HTMLModel",
      "state": {
       "layout": "IPY_MODEL_06c2b5857f664d13ad8ff0d3b9c0f5f9",
       "style": "IPY_MODEL_773c54128ced4fcca1d60381b11d413c",
       "value": "<span style=\"color:rgb(51, 49, 148)\"; \"font-size:10.0pt\">&nbsp&nbsp&nbsp&nbsp&nbsp&nbsp <b>#call_nr = 174 - #caller(s): changed_batch_drop(), _notify_observers(), notify_change()</b> &nbsp&nbsp&nbsp&nbsp&nbsp&nbsp</span><span style=\"color:rgb(51, 49, 148)\"; \"font-size:8.0pt\">changed_batch_drop()<br>&nbsp&nbsp&nbsp&nbsp&nbsp&nbsp -- <b>#call_nr = 174 </b> &nbsp&nbsp&nbsp&nbsp&nbsp&nbsp -- - step 2 - <br>&nbsp&nbsp&nbsp&nbsp&nbsp&nbsp -- <b>#call_nr = 174 </b> &nbsp&nbsp&nbsp&nbsp&nbsp&nbsp -- upd_dict_log.value = {'_upd_mode': 'read_mode_with_batch', '_selected_tool_index': None, '_version': '3', '_tools': {'0': {'multi_plot': [['%', [['SWC_5', 'ETC NRT Meteo', 'SE-Htm'], ['SWC_1', 'ETC NRT Meteo', 'SE-Htm']]], ['mmol mol-1', [['H2O', 'ETC NRT Fluxes', 'SE-Htm']]]]}}}</span>"
      }
     },
     "488d2371999b4f689f7b55a0ff1d928a": {
      "model_module": "@jupyter-widgets/controls",
      "model_module_version": "2.0.0",
      "model_name": "HTMLModel",
      "state": {
       "layout": "IPY_MODEL_da1be5084fe941339710ff134638350f",
       "style": "IPY_MODEL_acfefeb6657c4b4a89266614bee03a0e",
       "value": "<span style=\"color:rgb(41, 101, 137)\"; \"font-size:10.0pt\">&nbsp&nbsp&nbsp&nbsp&nbsp&nbsp <b>#call_nr = 162 - #caller(s): reset_batch_gui(), save_batch(), __call__()</b> &nbsp&nbsp&nbsp&nbsp&nbsp&nbsp</span><span style=\"color:rgb(41, 101, 137)\"; \"font-size:8.0pt\">reset_batch_gui()<br>&nbsp&nbsp&nbsp&nbsp&nbsp&nbsp -- <b>#call_nr = 162 </b> &nbsp&nbsp&nbsp&nbsp&nbsp&nbsp -- step 1<br>&nbsp&nbsp&nbsp&nbsp&nbsp&nbsp -- <b>#call_nr = 162 </b> &nbsp&nbsp&nbsp&nbsp&nbsp&nbsp -- batch_name = mp2 </span>"
      }
     },
     "488eb844b54e4331a78d81ea9d9c8d26": {
      "model_module": "@jupyter-widgets/base",
      "model_module_version": "2.0.0",
      "model_name": "LayoutModel",
      "state": {}
     },
     "48a516e9d1604a7dbc313bf78319b756": {
      "model_module": "@jupyter-widgets/controls",
      "model_module_version": "2.0.0",
      "model_name": "HTMLStyleModel",
      "state": {
       "description_width": "",
       "font_size": null,
       "text_color": null
      }
     },
     "48b620d46f3d4e3391f3a99ba2821b62": {
      "model_module": "@jupyter-widgets/controls",
      "model_module_version": "2.0.0",
      "model_name": "HTMLModel",
      "state": {
       "layout": "IPY_MODEL_f194ce0c1b474531bed167674170afbb",
       "style": "IPY_MODEL_62e4531695f047e18547cc199655df66",
       "value": "<span style=\"color:rgb(97, 124, 64)\"; \"font-size:10.0pt\">&nbsp&nbsp&nbsp&nbsp&nbsp&nbsp <b>#call_nr = 79 - #caller(s): reset_var_buttons(), reset_selection(), _notify_observers()</b> &nbsp&nbsp&nbsp&nbsp&nbsp&nbsp</span><span style=\"color:rgb(97, 124, 64)\"; \"font-size:8.0pt\">reset_var_buttons()  -- index = 1<br>&nbsp&nbsp&nbsp&nbsp&nbsp&nbsp -- <b>#call_nr = 79 </b> &nbsp&nbsp&nbsp&nbsp&nbsp&nbsp --   --- tool_code = multi_plot<br>&nbsp&nbsp&nbsp&nbsp&nbsp&nbsp -- <b>#call_nr = 79 </b> &nbsp&nbsp&nbsp&nbsp&nbsp&nbsp --   --- var_codes = []</span>"
      }
     },
     "495922234b8844a29354936a6ea37583": {
      "model_module": "@jupyter-widgets/controls",
      "model_module_version": "2.0.0",
      "model_name": "HTMLModel",
      "state": {
       "layout": "IPY_MODEL_e845bea740234291a77e9989f9145db9",
       "style": "IPY_MODEL_a6df15dc1d614e9393407a9c161dd3c4",
       "value": "<span style=\"color:rgb(169, 24, 25)\"; \"font-size:10.0pt\">&nbsp&nbsp&nbsp&nbsp&nbsp&nbsp <b>#call_nr = 10 - #caller(s): init_batch_drop(), reset_batch_gui(), changed_group_drop()</b> &nbsp&nbsp&nbsp&nbsp&nbsp&nbsp</span><span style=\"color:rgb(169, 24, 25)\"; \"font-size:8.0pt\">init_batch_drop()<br>&nbsp&nbsp&nbsp&nbsp&nbsp&nbsp -- <b>#call_nr = 10 </b> &nbsp&nbsp&nbsp&nbsp&nbsp&nbsp -- step 2<br>&nbsp&nbsp&nbsp&nbsp&nbsp&nbsp -- <b>#call_nr = 10 </b> &nbsp&nbsp&nbsp&nbsp&nbsp&nbsp -- batches = {'mp2 ': {'0': {'multi_plot': [['%', [['SWC_5', 'ETC NRT Meteo', 'SE-Htm']]], ['mmol mol-1', [['H2O', 'ETC NRT Fluxes', 'SE-Htm']]]]}, '_version': '1'}, 'mp1': {'0': {'multi_plot': [['%', [['SWC_5', 'ETC NRT Meteo', 'SE-Htm'], ['SWC_1', 'ETC NRT Meteo', 'SE-Htm']]], ['mmol mol-1', [['H2O', 'ETC NRT Fluxes', 'SE-Htm']]]]}, '_version': '3'}, 'sp1': {'0': {'split_plot': [['H2O', 'ETC NRT Fluxes', 'SE-Htm'], ['TA', 'ETC NRT Meteo', 'SE-Htm'], ['SWC_3', 'ETC NRT Meteo', 'SE-Htm']]}, '_version': '3'}, 'split and mult': {'0': {'split_plot': [['SWC_1', 'ETC NRT Meteo', 'SE-Htm'], ['SWC_2', 'ETC NRT Meteo', 'SE-Htm'], ['SWC_3', 'ETC NRT Meteo', 'SE-Htm'], ['SWC_4', 'ETC NRT Meteo', 'SE-Htm'], ['SWC_5', 'ETC NRT Meteo', 'SE-Htm']]}, '1': {'multi_plot': [['%', [['SWC_1', 'ETC NRT Meteo', 'SE-Htm'], ['SWC_5', 'ETC NRT Meteo', 'SE-Htm'], ['SWC_2', 'ETC NRT Meteo', 'SE-Htm'], ['SWC_3', 'ETC NRT Meteo', 'SE-Htm']]], ['mmol mol-1', [['H2O', 'ETC NRT Fluxes', 'SE-Htm']]]]}, '2': {'multi_plot': [['%', [['SWC_1', 'ETC NRT Meteo', 'SE-Htm'], ['SWC_5', 'ETC NRT Meteo', 'SE-Htm']]]]}, '_version': '2'}}</span>"
      }
     },
     "499b931e4afc4630a69a5bd32a9ce83a": {
      "model_module": "@jupyter-widgets/controls",
      "model_module_version": "2.0.0",
      "model_name": "DescriptionStyleModel",
      "state": {
       "description_width": ""
      }
     },
     "49a25995181145bcb7d3118820bd80cb": {
      "model_module": "@jupyter-widgets/controls",
      "model_module_version": "2.0.0",
      "model_name": "HTMLStyleModel",
      "state": {
       "description_width": "",
       "font_size": null,
       "text_color": null
      }
     },
     "49c60e07bc824f42bdf98c4d8f2cd2c1": {
      "model_module": "@jupyter-widgets/controls",
      "model_module_version": "2.0.0",
      "model_name": "HTMLModel",
      "state": {
       "layout": "IPY_MODEL_89d3002fc8b642eb9faa87dddb5f896b",
       "style": "IPY_MODEL_0ed4cd6422d947349ba1add3b47e78b0",
       "value": "<span style=\"color:rgb(156, 34, 37)\"; \"font-size:10.0pt\">&nbsp&nbsp&nbsp&nbsp&nbsp&nbsp <b>#call_nr = 99 - #caller(s): var_button_click(), __call__(), click()</b> &nbsp&nbsp&nbsp&nbsp&nbsp&nbsp</span><span style=\"color:rgb(156, 34, 37)\"; \"font-size:8.0pt\">var_button_click()<br>&nbsp&nbsp&nbsp&nbsp&nbsp&nbsp -- <b>#call_nr = 99 </b> &nbsp&nbsp&nbsp&nbsp&nbsp&nbsp -- after:<br>&nbsp&nbsp&nbsp&nbsp&nbsp&nbsp -- <b>#call_nr = 99 </b> &nbsp&nbsp&nbsp&nbsp&nbsp&nbsp --  - upd_dict[row_index] = {'multi_plot': [('°C', [['TA', 'ETC NRT Meteo', 'SE-Htm']])]}</span>"
      }
     },
     "49f359eb93754e5bb3517facff40c34b": {
      "model_module": "@jupyter-widgets/base",
      "model_module_version": "2.0.0",
      "model_name": "LayoutModel",
      "state": {
       "max_width": "auto",
       "min_width": "200px"
      }
     },
     "4a622f0031c64511817cc20223d8bd4b": {
      "model_module": "@jupyter-widgets/controls",
      "model_module_version": "2.0.0",
      "model_name": "HBoxModel",
      "state": {
       "children": [
        "IPY_MODEL_998b9d8b22264aeea2d87796135181c3",
        "IPY_MODEL_61fac41c7f2045a78e292ce9409dbc39"
       ],
       "layout": "IPY_MODEL_9e383f18633b40689327191b50813eb0"
      }
     },
     "4aa1da1a9f0046be80d6bda06d0a2cff": {
      "model_module": "@jupyter-widgets/base",
      "model_module_version": "2.0.0",
      "model_name": "LayoutModel",
      "state": {}
     },
     "4abbdadb3af240438664f2e3f915a43f": {
      "model_module": "@jupyter-widgets/controls",
      "model_module_version": "2.0.0",
      "model_name": "HTMLModel",
      "state": {
       "layout": "IPY_MODEL_3fb65aae528244829caeeed003d95f08",
       "style": "IPY_MODEL_f6e4bc1684c148b39e72aa3e01389122",
       "value": "<span style=\"color:rgb(46, 75, 67)\"; \"font-size:10.0pt\">&nbsp&nbsp&nbsp&nbsp&nbsp&nbsp <b>#call_nr = 7 - #caller(s): init_group_var_buttons(), changed_group_drop(), _notify_observers()</b> &nbsp&nbsp&nbsp&nbsp&nbsp&nbsp</span><span style=\"color:rgb(46, 75, 67)\"; \"font-size:8.0pt\">init_group_var_buttons()</span>"
      }
     },
     "4abc1b834b7045429155037e50374610": {
      "model_module": "@jupyter-widgets/controls",
      "model_module_version": "2.0.0",
      "model_name": "HTMLStyleModel",
      "state": {
       "description_width": "",
       "font_size": null,
       "text_color": null
      }
     },
     "4ae93d35c7254d77822e4fd2309e9a25": {
      "model_module": "@jupyter-widgets/base",
      "model_module_version": "2.0.0",
      "model_name": "LayoutModel",
      "state": {}
     },
     "4b134b2a156c44b6a9495f503133f5aa": {
      "model_module": "@jupyter-widgets/controls",
      "model_module_version": "2.0.0",
      "model_name": "HTMLStyleModel",
      "state": {
       "description_width": "",
       "font_size": null,
       "text_color": null
      }
     },
     "4b600aacf01f40cdbb147bc956b3687d": {
      "model_module": "@jupyter-widgets/base",
      "model_module_version": "2.0.0",
      "model_name": "LayoutModel",
      "state": {
       "height": "99%",
       "width": "99%"
      }
     },
     "4bbbc933982b4942a587f8a0235a04b3": {
      "model_module": "@jupyter-widgets/base",
      "model_module_version": "2.0.0",
      "model_name": "LayoutModel",
      "state": {}
     },
     "4bc9351fe04446f89c2f8ee3beea62dc": {
      "model_module": "@jupyter-widgets/controls",
      "model_module_version": "2.0.0",
      "model_name": "HTMLModel",
      "state": {
       "layout": "IPY_MODEL_d952d9d944d7483daa0515fd3551907c",
       "style": "IPY_MODEL_b696eb5a8e504eed938073a43b4f27a9",
       "value": "<span style=\"color:rgb(156, 34, 37)\"; \"font-size:10.0pt\">&nbsp&nbsp&nbsp&nbsp&nbsp&nbsp <b>#call_nr = 125 - #caller(s): var_button_click(), __call__(), click()</b> &nbsp&nbsp&nbsp&nbsp&nbsp&nbsp</span><span style=\"color:rgb(156, 34, 37)\"; \"font-size:8.0pt\">var_button_click()<br>&nbsp&nbsp&nbsp&nbsp&nbsp&nbsp -- <b>#call_nr = 125 </b> &nbsp&nbsp&nbsp&nbsp&nbsp&nbsp -- btn.description = H2O (ETC NRT Fluxes)<br>&nbsp&nbsp&nbsp&nbsp&nbsp&nbsp -- <b>#call_nr = 125 </b> &nbsp&nbsp&nbsp&nbsp&nbsp&nbsp -- selected_tools.value = 1<br>&nbsp&nbsp&nbsp&nbsp&nbsp&nbsp -- <b>#call_nr = 125 </b> &nbsp&nbsp&nbsp&nbsp&nbsp&nbsp -- before: - upd_dict[row_index] = {'multi_plot': [('°C', [['TA', 'ETC NRT Meteo', 'SE-Htm']])]}</span>"
      }
     },
     "4bf3c991fa4247e395cd651c9d85bbec": {
      "model_module": "@jupyter-widgets/controls",
      "model_module_version": "2.0.0",
      "model_name": "HTMLModel",
      "state": {
       "layout": "IPY_MODEL_2a38370d876d4330b42a44ca07707345",
       "style": "IPY_MODEL_c93030bde7a74f449c85d759b8b346a8",
       "value": "<b> Use LaTeX</b>"
      }
     },
     "4bfb74b36f3e436cb220ad384d18b11b": {
      "model_module": "@jupyter-widgets/base",
      "model_module_version": "2.0.0",
      "model_name": "LayoutModel",
      "state": {}
     },
     "4c449fbf814c4e50bb90530eac84563b": {
      "model_module": "@jupyter-widgets/output",
      "model_module_version": "1.0.0",
      "model_name": "OutputModel",
      "state": {
       "layout": "IPY_MODEL_e2d3594bd4244850bea731dba5eee12f",
       "outputs": [
        {
         "data": {
          "text/latex": "$\\displaystyle \\qquad $ $\\qquad $ $\\qquad $ ${\\scriptsize  {\\mathrm  {{CO_2}\\ (\\mu{mol}/{mol})}}}$",
          "text/plain": "<IPython.core.display.Math object>"
         },
         "metadata": {},
         "output_type": "display_data"
        }
       ]
      }
     },
     "4c4a4cbce0a148afb91966ac8616ac9a": {
      "model_module": "@jupyter-widgets/controls",
      "model_module_version": "2.0.0",
      "model_name": "ButtonStyleModel",
      "state": {
       "font_family": null,
       "font_size": null,
       "font_style": null,
       "font_variant": null,
       "font_weight": null,
       "text_color": null,
       "text_decoration": null
      }
     },
     "4c5a213725064df88f903ec351137134": {
      "model_module": "@jupyter-widgets/controls",
      "model_module_version": "2.0.0",
      "model_name": "HTMLStyleModel",
      "state": {
       "description_width": "",
       "font_size": null,
       "text_color": null
      }
     },
     "4c8c7df13c644cabb0e9793f8df05807": {
      "model_module": "@jupyter-widgets/base",
      "model_module_version": "2.0.0",
      "model_name": "LayoutModel",
      "state": {}
     },
     "4c99edfa5b6342a69913a26e448dc6ea": {
      "model_module": "@jupyter-widgets/controls",
      "model_module_version": "2.0.0",
      "model_name": "HTMLModel",
      "state": {
       "layout": "IPY_MODEL_2dc8b1aa02c14f32ac13e0b95aae66a0",
       "style": "IPY_MODEL_73089a718e8846169fec2c399a67601f",
       "value": "<span style=\"color:rgb(89, 108, 6)\"; \"font-size:10.0pt\">&nbsp&nbsp&nbsp&nbsp&nbsp&nbsp <b>#call_nr = 91 - #caller(s): set_info_guide(), tool_selections(), tool_click()</b> &nbsp&nbsp&nbsp&nbsp&nbsp&nbsp</span><span style=\"color:rgb(89, 108, 6)\"; \"font-size:8.0pt\">set_info_guide()<br>&nbsp&nbsp&nbsp&nbsp&nbsp&nbsp -- <b>#call_nr = 91 </b> &nbsp&nbsp&nbsp&nbsp&nbsp&nbsp -- info_type = multi_plot<br>&nbsp&nbsp&nbsp&nbsp&nbsp&nbsp -- <b>#call_nr = 91 </b> &nbsp&nbsp&nbsp&nbsp&nbsp&nbsp -- selected_tools.value = 1<br>&nbsp&nbsp&nbsp&nbsp&nbsp&nbsp -- <b>#call_nr = 91 </b> &nbsp&nbsp&nbsp&nbsp&nbsp&nbsp -- selected_tools.options = (('Multi-plot', 0), ('Multi-plot', 1))<br>&nbsp&nbsp&nbsp&nbsp&nbsp&nbsp -- <b>#call_nr = 91 </b> &nbsp&nbsp&nbsp&nbsp&nbsp&nbsp -- selected_vars.options = (('SWC_5 (ETC NRT Meteo), H2O (ETC NRT Fluxes)', (0, [['%', [['SWC_5', 'ETC NRT Meteo', 'SE-Htm']]], ['mmol mol-1', [['H2O', 'ETC NRT Fluxes', 'SE-Htm']]]])), ('', (1, [])))<br>&nbsp&nbsp&nbsp&nbsp&nbsp&nbsp -- <b>#call_nr = 91 </b> &nbsp&nbsp&nbsp&nbsp&nbsp&nbsp -- test</span>"
      }
     },
     "4caad97ad3374b358354a0928cf08f05": {
      "model_module": "@jupyter-widgets/base",
      "model_module_version": "2.0.0",
      "model_name": "LayoutModel",
      "state": {}
     },
     "4d9f1cd4ccd041f48b8b485d0113a6f9": {
      "model_module": "@jupyter-widgets/base",
      "model_module_version": "2.0.0",
      "model_name": "LayoutModel",
      "state": {}
     },
     "4dd686b6f9e84e9c8c69c516156872e7": {
      "model_module": "@jupyter-widgets/controls",
      "model_module_version": "2.0.0",
      "model_name": "HBoxModel",
      "state": {
       "children": [
        "IPY_MODEL_b8de7fcb84904e12b9a5397a8c03fd26",
        "IPY_MODEL_593155ac7e924b72896c66c06ad62797"
       ],
       "layout": "IPY_MODEL_61f6431585f84841a5f55e11a579a6fd"
      }
     },
     "4e02f6f99e8f4a4d8b9fafacfc194b60": {
      "model_module": "@jupyter-widgets/base",
      "model_module_version": "2.0.0",
      "model_name": "LayoutModel",
      "state": {}
     },
     "4e57cf6333d34c21925d62392bca756f": {
      "model_module": "@jupyter-widgets/controls",
      "model_module_version": "2.0.0",
      "model_name": "HBoxModel",
      "state": {
       "children": [
        "IPY_MODEL_42741b40e89944d089aacd3ffe8ea93d",
        "IPY_MODEL_72d10f861c35438ca355f1892e7e9969"
       ],
       "layout": "IPY_MODEL_1823d31bb80f4d9cbd8af6457af7cccf"
      }
     },
     "4e8e3329a5624c7db205c27c73383f11": {
      "model_module": "@jupyter-widgets/base",
      "model_module_version": "2.0.0",
      "model_name": "LayoutModel",
      "state": {
       "max_width": "auto",
       "min_width": "40px"
      }
     },
     "4ee5cb5827ae428a96f41950d8f2761b": {
      "model_module": "@jupyter-widgets/controls",
      "model_module_version": "2.0.0",
      "model_name": "HTMLStyleModel",
      "state": {
       "description_width": "",
       "font_size": null,
       "text_color": null
      }
     },
     "4f1806e9010d4e30abd0abfba2c95305": {
      "model_module": "@jupyter-widgets/base",
      "model_module_version": "2.0.0",
      "model_name": "LayoutModel",
      "state": {}
     },
     "4f5f176f19f04e48a82090c63cfc2608": {
      "model_module": "@jupyter-widgets/base",
      "model_module_version": "2.0.0",
      "model_name": "LayoutModel",
      "state": {}
     },
     "4f79e71851234273abc3826131319742": {
      "model_module": "@jupyter-widgets/controls",
      "model_module_version": "2.0.0",
      "model_name": "HTMLModel",
      "state": {
       "layout": "IPY_MODEL_8b1cfae6c41c463aba918c4596c98809",
       "style": "IPY_MODEL_b374e98398b34274bb35783b5dec208b",
       "value": "<span style=\"color:rgb(92, 150, 134)\"; \"font-size:10.0pt\">&nbsp&nbsp&nbsp&nbsp&nbsp&nbsp <b>#call_nr = 19 - #caller(s): set_batch_upd_dict(), changed_batch_drop(), _notify_observers()</b> &nbsp&nbsp&nbsp&nbsp&nbsp&nbsp</span><span style=\"color:rgb(92, 150, 134)\"; \"font-size:8.0pt\">set_batch_upd_dict()<br>&nbsp&nbsp&nbsp&nbsp&nbsp&nbsp -- <b>#call_nr = 19 </b> &nbsp&nbsp&nbsp&nbsp&nbsp&nbsp -- step 2<br>&nbsp&nbsp&nbsp&nbsp&nbsp&nbsp -- <b>#call_nr = 19 </b> &nbsp&nbsp&nbsp&nbsp&nbsp&nbsp -- upd_dict_log.value ={'_upd_mode': 'read_mode_with_batch', '_selected_tool_index': None, '_version': '1', '_tools': {'0': {'multi_plot': [['%', [['SWC_5', 'ETC NRT Meteo', 'SE-Htm']]], ['mmol mol-1', [['H2O', 'ETC NRT Fluxes', 'SE-Htm']]]]}}}</span>"
      }
     },
     "4f8aa1f478de4859bffa7d5876a057c6": {
      "model_module": "@jupyter-widgets/controls",
      "model_module_version": "2.0.0",
      "model_name": "HTMLStyleModel",
      "state": {
       "description_width": "",
       "font_size": null,
       "text_color": null
      }
     },
     "4fa351008c0344c589776c858e1944b0": {
      "model_module": "@jupyter-widgets/controls",
      "model_module_version": "2.0.0",
      "model_name": "HTMLModel",
      "state": {
       "layout": "IPY_MODEL_40f301fa7362460eaec2e79aed1a4998",
       "style": "IPY_MODEL_86e2505368474dd8915e0d576edbd697",
       "value": "<span style=\"color:rgb(171, 133, 129)\"; \"font-size:10.0pt\">&nbsp&nbsp&nbsp&nbsp&nbsp&nbsp <b>#call_nr = 80 - #caller(s): reset_multi_plot_auto(), reset_var_buttons(), reset_selection()</b> &nbsp&nbsp&nbsp&nbsp&nbsp&nbsp</span><span style=\"color:rgb(171, 133, 129)\"; \"font-size:8.0pt\">reset_multi_plot_auto() - before<br>&nbsp&nbsp&nbsp&nbsp&nbsp&nbsp -- <b>#call_nr = 80 </b> &nbsp&nbsp&nbsp&nbsp&nbsp&nbsp -- hide = False<br>&nbsp&nbsp&nbsp&nbsp&nbsp&nbsp -- <b>#call_nr = 80 </b> &nbsp&nbsp&nbsp&nbsp&nbsp&nbsp -- enable = True<br>&nbsp&nbsp&nbsp&nbsp&nbsp&nbsp -- <b>#call_nr = 80 </b> &nbsp&nbsp&nbsp&nbsp&nbsp&nbsp -- value = True<br>&nbsp&nbsp&nbsp&nbsp&nbsp&nbsp -- <b>#call_nr = 80 </b> &nbsp&nbsp&nbsp&nbsp&nbsp&nbsp -- multi_plot_auto_cb.disabled = False<br>&nbsp&nbsp&nbsp&nbsp&nbsp&nbsp -- <b>#call_nr = 80 </b> &nbsp&nbsp&nbsp&nbsp&nbsp&nbsp -- multi_plot_auto_cb.layout.display = block<br>&nbsp&nbsp&nbsp&nbsp&nbsp&nbsp -- <b>#call_nr = 80 </b> &nbsp&nbsp&nbsp&nbsp&nbsp&nbsp -- multi_plot_auto_cb.value = True</span>"
      }
     },
     "4fd76e1b6215475fa67b3a4c0726e5c4": {
      "model_module": "@jupyter-widgets/controls",
      "model_module_version": "2.0.0",
      "model_name": "HTMLModel",
      "state": {
       "layout": "IPY_MODEL_71674c02877b49908ae781ce8d82701d",
       "style": "IPY_MODEL_212937e25b5f4566a7927102c58533d9",
       "value": "<span style=\"color:rgb(56, 23, 78)\"; \"font-size:10.0pt\">&nbsp&nbsp&nbsp&nbsp&nbsp&nbsp <b>#call_nr = 182 - #caller(s): set_selections(), reset_selection(), _notify_observers()</b> &nbsp&nbsp&nbsp&nbsp&nbsp&nbsp</span><span style=\"color:rgb(56, 23, 78)\"; \"font-size:8.0pt\">set_selections()<br>&nbsp&nbsp&nbsp&nbsp&nbsp&nbsp -- <b>#call_nr = 182 </b> &nbsp&nbsp&nbsp&nbsp&nbsp&nbsp -- end <br>&nbsp&nbsp&nbsp&nbsp&nbsp&nbsp -- <b>#call_nr = 182 </b> &nbsp&nbsp&nbsp&nbsp&nbsp&nbsp -- selected_tools.value = None<br>&nbsp&nbsp&nbsp&nbsp&nbsp&nbsp -- <b>#call_nr = 182 </b> &nbsp&nbsp&nbsp&nbsp&nbsp&nbsp -- selected_tools.options = (('Multi-plot', 0), ('Multi-plot', 1))<br>&nbsp&nbsp&nbsp&nbsp&nbsp&nbsp -- <b>#call_nr = 182 </b> &nbsp&nbsp&nbsp&nbsp&nbsp&nbsp -- selected_vars.options = (('SWC_5 (ETC NRT Meteo), H2O (ETC NRT Fluxes)', (0, [['%', [['SWC_5', 'ETC NRT Meteo', 'SE-Htm']]], ['mmol mol-1', [['H2O', 'ETC NRT Fluxes', 'SE-Htm']]]])), ('TA (ETC NRT Meteo), H2O (ETC NRT Fluxes)', (1, [('°C', [['TA', 'ETC NRT Meteo', 'SE-Htm']]), ('mmol mol-1', [['H2O', 'ETC NRT Fluxes', 'SE-Htm']])])))<br>&nbsp&nbsp&nbsp&nbsp&nbsp&nbsp -- <b>#call_nr = 182 </b> &nbsp&nbsp&nbsp&nbsp&nbsp&nbsp -- selected_vars.tooltip = </span>"
      }
     },
     "5005da9b956549d6bb3318cdaecf7cb8": {
      "model_module": "@jupyter-widgets/base",
      "model_module_version": "2.0.0",
      "model_name": "LayoutModel",
      "state": {}
     },
     "500a31256cc648f49c27ec258b13d522": {
      "model_module": "@jupyter-widgets/base",
      "model_module_version": "2.0.0",
      "model_name": "LayoutModel",
      "state": {}
     },
     "50439c914d76401d95da5501467d67a4": {
      "model_module": "@jupyter-widgets/controls",
      "model_module_version": "2.0.0",
      "model_name": "HTMLModel",
      "state": {
       "layout": "IPY_MODEL_d77d588d6c3847cf9692b12893edcf0c",
       "style": "IPY_MODEL_72bf34dcd04e4686a32022e203b9fb78",
       "value": "<span style=\"color:rgb(56, 23, 78)\"; \"font-size:10.0pt\">&nbsp&nbsp&nbsp&nbsp&nbsp&nbsp <b>#call_nr = 171 - #caller(s): set_selections(), reset_selection(), _notify_observers()</b> &nbsp&nbsp&nbsp&nbsp&nbsp&nbsp</span><span style=\"color:rgb(56, 23, 78)\"; \"font-size:8.0pt\">set_selections()<br>&nbsp&nbsp&nbsp&nbsp&nbsp&nbsp -- <b>#call_nr = 171 </b> &nbsp&nbsp&nbsp&nbsp&nbsp&nbsp -- step 1<br>&nbsp&nbsp&nbsp&nbsp&nbsp&nbsp -- <b>#call_nr = 171 </b> &nbsp&nbsp&nbsp&nbsp&nbsp&nbsp -- sel_tool_ls = [('Multi-plot', 0)]<br>&nbsp&nbsp&nbsp&nbsp&nbsp&nbsp -- <b>#call_nr = 171 </b> &nbsp&nbsp&nbsp&nbsp&nbsp&nbsp -- sel_tool_index = None<br>&nbsp&nbsp&nbsp&nbsp&nbsp&nbsp -- <b>#call_nr = 171 </b> &nbsp&nbsp&nbsp&nbsp&nbsp&nbsp -- sel_var_ls = [('SWC_5 (ETC NRT Meteo), SWC_1 (ETC NRT Meteo), H2O (ETC NRT Fluxes)', (0, [['%', [['SWC_5', 'ETC NRT Meteo', 'SE-Htm'], ['SWC_1', 'ETC NRT Meteo', 'SE-Htm']]], ['mmol mol-1', [['H2O', 'ETC NRT Fluxes', 'SE-Htm']]]]))]</span>"
      }
     },
     "505eb8730e694e5bbb076f8d7ce24e35": {
      "model_module": "@jupyter-widgets/controls",
      "model_module_version": "2.0.0",
      "model_name": "HTMLStyleModel",
      "state": {
       "description_width": "",
       "font_size": null,
       "text_color": null
      }
     },
     "508a5bdca61a47788bfa91428400b352": {
      "model_module": "@jupyter-widgets/controls",
      "model_module_version": "2.0.0",
      "model_name": "HTMLModel",
      "state": {
       "layout": "IPY_MODEL_634818a8a45341bbb3b61b30dfa93e3d",
       "style": "IPY_MODEL_69e759421af845e9aa6a4a304bf454eb",
       "value": "<span style=\"color:rgb(133, 74, 120)\"; \"font-size:10.0pt\">&nbsp&nbsp&nbsp&nbsp&nbsp&nbsp <b>#call_nr = 178 - #caller(s): reset_selection(), _notify_observers(), notify_change()</b> &nbsp&nbsp&nbsp&nbsp&nbsp&nbsp</span><span style=\"color:rgb(133, 74, 120)\"; \"font-size:8.0pt\">reset_selection()<br>&nbsp&nbsp&nbsp&nbsp&nbsp&nbsp -- <b>#call_nr = 178 </b> &nbsp&nbsp&nbsp&nbsp&nbsp&nbsp -- c = {'name': 'value', 'old': \"{'_upd_mode': 'read_mode_with_batch', '_selected_tool_index': None, '_version': '3', '_tools': {'0': {'multi_plot': [['%', [['SWC_5', 'ETC NRT Meteo', 'SE-Htm'], ['SWC_1', 'ETC NRT Meteo', 'SE-Htm']]], ['mmol mol-1', [['H2O', 'ETC NRT Fluxes', 'SE-Htm']]]]}}}\", 'new': \"{'_upd_mode': 'read_mode_with_batch', '_selected_tool_index': None, '_version': '2', '_tools': {'0': {'multi_plot': [['%', [['SWC_5', 'ETC NRT Meteo', 'SE-Htm']]], ['mmol mol-1', [['H2O', 'ETC NRT Fluxes', 'SE-Htm']]]]}, '1': {'multi_plot': [('°C', [['TA', 'ETC NRT Meteo', 'SE-Htm']]), ('mmol mol-1', [['H2O', 'ETC NRT Fluxes', 'SE-Htm']])]}}}\", 'owner': Textarea(value=\"{'_upd_mode': 'read_mode_with_batch', '_selected_tool_index': None, '_version': '2', '_tools': {'0': {'multi_plot': [['%', [['SWC_5', 'ETC NRT Meteo', 'SE-Htm']]], ['mmol mol-1', [['H2O', 'ETC NRT Fluxes', 'SE-Htm']]]]}, '1': {'multi_plot': [('°C', [['TA', 'ETC NRT Meteo', 'SE-Htm']]), ('mmol mol-1', [['H2O', 'ETC NRT Fluxes', 'SE-Htm']])]}}}\", disabled=True, layout=Layout(align_content='flex-start', display='inline-flex', flex_flow='row wrap', width='99%')), 'type': 'change'}<br>&nbsp&nbsp&nbsp&nbsp&nbsp&nbsp -- <b>#call_nr = 178 </b> &nbsp&nbsp&nbsp&nbsp&nbsp&nbsp -- batch_dict = {'_upd_mode': 'read_mode_with_batch', '_selected_tool_index': None, '_version': '2', '_tools': {0: {'multi_plot': [['%', [['SWC_5', 'ETC NRT Meteo', 'SE-Htm']]], ['mmol mol-1', [['H2O', 'ETC NRT Fluxes', 'SE-Htm']]]]}, 1: {'multi_plot': [('°C', [['TA', 'ETC NRT Meteo', 'SE-Htm']]), ('mmol mol-1', [['H2O', 'ETC NRT Fluxes', 'SE-Htm']])]}}}<br>&nbsp&nbsp&nbsp&nbsp&nbsp&nbsp -- <b>#call_nr = 178 </b> &nbsp&nbsp&nbsp&nbsp&nbsp&nbsp -- batch_drop.value = {'0': {'multi_plot': [['%', [['SWC_5', 'ETC NRT Meteo', 'SE-Htm']]], ['mmol mol-1', [['H2O', 'ETC NRT Fluxes', 'SE-Htm']]]]}, '1': {'multi_plot': [('°C', [['TA', 'ETC NRT Meteo', 'SE-Htm']]), ('mmol mol-1', [['H2O', 'ETC NRT Fluxes', 'SE-Htm']])]}, '_version': '2'}</span>"
      }
     },
     "51281d60492644b2be2ed64fa4ee1639": {
      "model_module": "@jupyter-widgets/base",
      "model_module_version": "2.0.0",
      "model_name": "LayoutModel",
      "state": {}
     },
     "5169dd05f1544d3fbb39352d1c1dc13d": {
      "model_module": "@jupyter-widgets/controls",
      "model_module_version": "2.0.0",
      "model_name": "ButtonStyleModel",
      "state": {
       "button_color": "LightSeaGreen",
       "font_family": null,
       "font_size": null,
       "font_style": null,
       "font_variant": null,
       "font_weight": null,
       "text_color": null,
       "text_decoration": null
      }
     },
     "517859ae86d246b18555683e4cbe443d": {
      "model_module": "@jupyter-widgets/controls",
      "model_module_version": "2.0.0",
      "model_name": "HTMLModel",
      "state": {
       "layout": "IPY_MODEL_3f28758665bc4789a0fc62ac52ee8e41",
       "style": "IPY_MODEL_8b8c6613fcc64aef9e726610701e7332",
       "value": "<span style=\"color:rgb(123, 126, 109)\"; \"font-size:10.0pt\">&nbsp&nbsp&nbsp&nbsp&nbsp&nbsp <b>#call_nr = 6 - #caller(s): set_var_translation_dict(), changed_group_drop(), _notify_observers()</b> &nbsp&nbsp&nbsp&nbsp&nbsp&nbsp</span><span style=\"color:rgb(123, 126, 109)\"; \"font-size:8.0pt\">set_var_translation_dict()</span>"
      }
     },
     "51795457197d41cabbda7ae477acde5b": {
      "model_module": "@jupyter-widgets/base",
      "model_module_version": "2.0.0",
      "model_name": "LayoutModel",
      "state": {}
     },
     "519e90ea8eba4bd3bbd95d0aeace1771": {
      "model_module": "@jupyter-widgets/controls",
      "model_module_version": "2.0.0",
      "model_name": "DescriptionStyleModel",
      "state": {
       "description_width": ""
      }
     },
     "51a03887c88e4478b4ff7a29bbfc2b3a": {
      "model_module": "@jupyter-widgets/base",
      "model_module_version": "2.0.0",
      "model_name": "LayoutModel",
      "state": {}
     },
     "51a7c71a4c174aeda4e34027564099fb": {
      "model_module": "@jupyter-widgets/controls",
      "model_module_version": "2.0.0",
      "model_name": "HTMLModel",
      "state": {
       "layout": "IPY_MODEL_23ffc207c55341f685e561f011180a1d",
       "style": "IPY_MODEL_944f8c1aeeef48a588fec87394e20838",
       "value": "<span style=\"color:rgb(56, 23, 78)\"; \"font-size:10.0pt\">&nbsp&nbsp&nbsp&nbsp&nbsp&nbsp <b>#call_nr = 172 - #caller(s): set_selections(), reset_selection(), _notify_observers()</b> &nbsp&nbsp&nbsp&nbsp&nbsp&nbsp</span><span style=\"color:rgb(56, 23, 78)\"; \"font-size:8.0pt\">set_selections()<br>&nbsp&nbsp&nbsp&nbsp&nbsp&nbsp -- <b>#call_nr = 172 </b> &nbsp&nbsp&nbsp&nbsp&nbsp&nbsp -- end <br>&nbsp&nbsp&nbsp&nbsp&nbsp&nbsp -- <b>#call_nr = 172 </b> &nbsp&nbsp&nbsp&nbsp&nbsp&nbsp -- selected_tools.value = None<br>&nbsp&nbsp&nbsp&nbsp&nbsp&nbsp -- <b>#call_nr = 172 </b> &nbsp&nbsp&nbsp&nbsp&nbsp&nbsp -- selected_tools.options = (('Multi-plot', 0),)<br>&nbsp&nbsp&nbsp&nbsp&nbsp&nbsp -- <b>#call_nr = 172 </b> &nbsp&nbsp&nbsp&nbsp&nbsp&nbsp -- selected_vars.options = (('SWC_5 (ETC NRT Meteo), SWC_1 (ETC NRT Meteo), H2O (ETC NRT Fluxes)', (0, [['%', [['SWC_5', 'ETC NRT Meteo', 'SE-Htm'], ['SWC_1', 'ETC NRT Meteo', 'SE-Htm']]], ['mmol mol-1', [['H2O', 'ETC NRT Fluxes', 'SE-Htm']]]])),)<br>&nbsp&nbsp&nbsp&nbsp&nbsp&nbsp -- <b>#call_nr = 172 </b> &nbsp&nbsp&nbsp&nbsp&nbsp&nbsp -- selected_vars.tooltip = </span>"
      }
     },
     "51b98f38829247f4be55e0ba8730061e": {
      "model_module": "@jupyter-widgets/controls",
      "model_module_version": "2.0.0",
      "model_name": "HTMLStyleModel",
      "state": {
       "description_width": "",
       "font_size": null,
       "text_color": null
      }
     },
     "51d757db11c84d45a8ac3a10badd1f0b": {
      "model_module": "@jupyter-widgets/controls",
      "model_module_version": "2.0.0",
      "model_name": "ButtonModel",
      "state": {
       "description": "mp1",
       "layout": "IPY_MODEL_ed2416a492da426ca0ca15465453c523",
       "style": "IPY_MODEL_adb8f97ce38b47e1b55d489fbfa7d99e",
       "tooltip": null
      }
     },
     "52646c4ebc2c46fe89d570fe299df3c0": {
      "model_module": "@jupyter-widgets/base",
      "model_module_version": "2.0.0",
      "model_name": "LayoutModel",
      "state": {}
     },
     "52de7cdd485d419481cbb8df2110c57d": {
      "model_module": "@jupyter-widgets/controls",
      "model_module_version": "2.0.0",
      "model_name": "HBoxModel",
      "state": {
       "children": [
        "IPY_MODEL_5877b3f1fd7e4bbdb5c4369f8a14921a",
        "IPY_MODEL_51d757db11c84d45a8ac3a10badd1f0b",
        "IPY_MODEL_0ab248cc79a849cda383b01c06061d0a",
        "IPY_MODEL_ae1e51864dc94de8be7333fd0bdbc107",
        "IPY_MODEL_934886e398f74628a4e1313bf0c33386"
       ],
       "layout": "IPY_MODEL_5a99a812e5734ca1b1d7bd55788c79de"
      }
     },
     "52dfa8c18b66437595137af014dc3369": {
      "model_module": "@jupyter-widgets/base",
      "model_module_version": "2.0.0",
      "model_name": "LayoutModel",
      "state": {}
     },
     "52e4a453d4114b9fbba736aeee9e5e86": {
      "model_module": "@jupyter-widgets/base",
      "model_module_version": "2.0.0",
      "model_name": "LayoutModel",
      "state": {}
     },
     "5331c8ee9695499eb75d10791c7bdc4e": {
      "model_module": "@jupyter-widgets/controls",
      "model_module_version": "2.0.0",
      "model_name": "HTMLStyleModel",
      "state": {
       "description_width": "",
       "font_size": null,
       "text_color": null
      }
     },
     "5352f8edf2ab45489ce16d2e4f3cc6c6": {
      "model_module": "@jupyter-widgets/controls",
      "model_module_version": "2.0.0",
      "model_name": "ButtonStyleModel",
      "state": {
       "font_family": null,
       "font_size": null,
       "font_style": null,
       "font_variant": null,
       "font_weight": null,
       "text_color": null,
       "text_decoration": null
      }
     },
     "539f526c1fb74e798a02a072551fe535": {
      "model_module": "@jupyter-widgets/base",
      "model_module_version": "2.0.0",
      "model_name": "LayoutModel",
      "state": {}
     },
     "53b0cd39590b47428c7d8699c3f97a03": {
      "model_module": "@jupyter-widgets/controls",
      "model_module_version": "2.0.0",
      "model_name": "DescriptionStyleModel",
      "state": {
       "description_width": ""
      }
     },
     "53bb3f6b9733454380184d1fac3b80fb": {
      "model_module": "@jupyter-widgets/controls",
      "model_module_version": "2.0.0",
      "model_name": "HTMLStyleModel",
      "state": {
       "description_width": "",
       "font_size": null,
       "text_color": null
      }
     },
     "53ed3fd7b915491c92e4f11b8e0b13f6": {
      "model_module": "@jupyter-widgets/controls",
      "model_module_version": "2.0.0",
      "model_name": "HTMLModel",
      "state": {
       "layout": "IPY_MODEL_ff820ca3041644229f1493ca7e5f9173",
       "style": "IPY_MODEL_dc2b027dfc7d473db5dcf1efd7ef807f",
       "value": "<span style=\"color:rgb(15, 99, 92)\"; \"font-size:10.0pt\">&nbsp&nbsp&nbsp&nbsp&nbsp&nbsp <b>#call_nr = 15 - #caller(s): format_tool_vars(), reset_selection(), _notify_observers()</b> &nbsp&nbsp&nbsp&nbsp&nbsp&nbsp</span><span style=\"color:rgb(15, 99, 92)\"; \"font-size:8.0pt\">label_of_selected_var_row()<br>&nbsp&nbsp&nbsp&nbsp&nbsp&nbsp -- <b>#call_nr = 15 </b> &nbsp&nbsp&nbsp&nbsp&nbsp&nbsp -- tool_code = {0: {'multi_plot': [['%', [['SWC_5', 'ETC NRT Meteo', 'SE-Htm']]], ['mmol mol-1', [['H2O', 'ETC NRT Fluxes', 'SE-Htm']]]]}}<br>&nbsp&nbsp&nbsp&nbsp&nbsp&nbsp -- <b>#call_nr = 15 </b> &nbsp&nbsp&nbsp&nbsp&nbsp&nbsp -- batch_drop.value = {'0': {'multi_plot': [['%', [['SWC_5', 'ETC NRT Meteo', 'SE-Htm']]], ['mmol mol-1', [['H2O', 'ETC NRT Fluxes', 'SE-Htm']]]]}, '_version': '1'}</span>"
      }
     },
     "54065f6c61354e8996d03dd0df1bd9bd": {
      "model_module": "@jupyter-widgets/base",
      "model_module_version": "2.0.0",
      "model_name": "LayoutModel",
      "state": {}
     },
     "541d4b1975d048efa24d88536054ac99": {
      "model_module": "@jupyter-widgets/controls",
      "model_module_version": "2.0.0",
      "model_name": "HTMLStyleModel",
      "state": {
       "description_width": "",
       "font_size": null,
       "text_color": null
      }
     },
     "54626fa00ad4475fb5a210d3c2e23475": {
      "model_module": "@jupyter-widgets/controls",
      "model_module_version": "2.0.0",
      "model_name": "HTMLStyleModel",
      "state": {
       "description_width": "",
       "font_size": null,
       "text_color": null
      }
     },
     "54bd56ff19d24e5aa420a4353e016e0f": {
      "model_module": "@jupyter-widgets/controls",
      "model_module_version": "2.0.0",
      "model_name": "HTMLModel",
      "state": {
       "layout": "IPY_MODEL_5768accd8e234c2fae4eebda5fd129e1",
       "style": "IPY_MODEL_b2e954740880461c936264ab312b4f76",
       "value": "<span><b>Guide:</b><br>............................"
      }
     },
     "54dbf7018bae44898c30f9817ae69389": {
      "model_module": "@jupyter-widgets/controls",
      "model_module_version": "2.0.0",
      "model_name": "HTMLMathStyleModel",
      "state": {
       "description_width": "",
       "font_size": null,
       "text_color": null
      }
     },
     "54ede878064e4ec595f7a0d1408102a7": {
      "model_module": "@jupyter-widgets/controls",
      "model_module_version": "2.0.0",
      "model_name": "ButtonModel",
      "state": {
       "button_style": "info",
       "description": "Cancel",
       "disabled": true,
       "icon": "ban",
       "layout": "IPY_MODEL_45c01d14618d486396f92f8e85362bd6",
       "style": "IPY_MODEL_b2f09b0db94e45739279e64bb6e6b186",
       "tooltip": "Enabled in update mode..."
      }
     },
     "54fd7b1febcf4dddad22d3293c81419c": {
      "model_module": "@jupyter-widgets/base",
      "model_module_version": "2.0.0",
      "model_name": "LayoutModel",
      "state": {}
     },
     "5508f7b3c12c43baa32a3b7ff74f39d2": {
      "model_module": "@jupyter-widgets/controls",
      "model_module_version": "2.0.0",
      "model_name": "HBoxModel",
      "state": {
       "children": [
        "IPY_MODEL_87306de3809247ef8074f14fb3f5bbce",
        "IPY_MODEL_612c5482afb74c83ab1fab5ea7308420"
       ],
       "layout": "IPY_MODEL_74c89250824f4e788841ca7f11184260"
      }
     },
     "552e0e08a0f543749f54791fc24e3453": {
      "model_module": "@jupyter-widgets/controls",
      "model_module_version": "2.0.0",
      "model_name": "HTMLStyleModel",
      "state": {
       "description_width": "",
       "font_size": null,
       "text_color": null
      }
     },
     "5544c61f266e4b47b8a9afdc21e8b356": {
      "model_module": "@jupyter-widgets/controls",
      "model_module_version": "2.0.0",
      "model_name": "VBoxModel",
      "state": {
       "children": [
        "IPY_MODEL_c2e6ea1d16ba446db7a1604ea4ce9980",
        "IPY_MODEL_31ff627913fc46fcb970cd8d3c0d5cd8",
        "IPY_MODEL_fe339e68ed314b8faf08af9aeea80c36"
       ],
       "layout": "IPY_MODEL_7729fc6ac6414400b9d1c9d9d676fd8f"
      }
     },
     "5544e7edc05b4a52ae6ba4ea0a1e5fa8": {
      "model_module": "@jupyter-widgets/controls",
      "model_module_version": "2.0.0",
      "model_name": "HTMLModel",
      "state": {
       "layout": "IPY_MODEL_254c5af564304dc3881d55c2c4941df4",
       "style": "IPY_MODEL_041ee02c8bca40888a62b8500ccab327",
       "value": "<span style=\"color:rgb(112, 46, 5)\"; \"font-size:10.0pt\">&nbsp&nbsp&nbsp&nbsp&nbsp&nbsp <b>#call_nr = 55 - #caller(s): get_var2unit_dict(), var2unit(), init_group_var_buttons()</b> &nbsp&nbsp&nbsp&nbsp&nbsp&nbsp</span><span style=\"color:rgb(112, 46, 5)\"; \"font-size:8.0pt\">get_var2unit_dict()</span>"
      }
     },
     "555c53a0f34146079cce227a04ac1763": {
      "model_module": "@jupyter-widgets/controls",
      "model_module_version": "2.0.0",
      "model_name": "HTMLStyleModel",
      "state": {
       "description_width": "",
       "font_size": null,
       "text_color": null
      }
     },
     "55f1572f919d4de9a894b5ba1ca90daf": {
      "model_module": "@jupyter-widgets/controls",
      "model_module_version": "2.0.0",
      "model_name": "HTMLModel",
      "state": {
       "layout": "IPY_MODEL_c814ce49de5d46f1ade79b62ac2062b0",
       "style": "IPY_MODEL_f5c0cdb069d84b8fbb12e659d601bf59",
       "value": "<span style=\"color:rgb(97, 124, 64)\"; \"font-size:10.0pt\">&nbsp&nbsp&nbsp&nbsp&nbsp&nbsp <b>#call_nr = 116 - #caller(s): reset_var_buttons(), reset_selection(), _notify_observers()</b> &nbsp&nbsp&nbsp&nbsp&nbsp&nbsp</span><span style=\"color:rgb(97, 124, 64)\"; \"font-size:8.0pt\">reset_var_buttons()  -- restore buttons -- <br>&nbsp&nbsp&nbsp&nbsp&nbsp&nbsp -- <b>#call_nr = 116 </b> &nbsp&nbsp&nbsp&nbsp&nbsp&nbsp --  axis_ls = ['°C']<br>&nbsp&nbsp&nbsp&nbsp&nbsp&nbsp -- <b>#call_nr = 116 </b> &nbsp&nbsp&nbsp&nbsp&nbsp&nbsp --  btn.tooltip = %<br>&nbsp&nbsp&nbsp&nbsp&nbsp&nbsp -- <b>#call_nr = 116 </b> &nbsp&nbsp&nbsp&nbsp&nbsp&nbsp --  Button = \"SWC_2 (ETC NRT Meteo)\"<br>&nbsp&nbsp&nbsp&nbsp&nbsp&nbsp -- <b>#call_nr = 116 </b> &nbsp&nbsp&nbsp&nbsp&nbsp&nbsp -- ---- enabled and unchecked</span>"
      }
     },
     "55f3629e0dcf4e0eacfed5c8e742adc3": {
      "model_module": "@jupyter-widgets/controls",
      "model_module_version": "2.0.0",
      "model_name": "HTMLStyleModel",
      "state": {
       "description_width": "",
       "font_size": null,
       "text_color": null
      }
     },
     "569322c5c43940f3be5f0d00811bee1f": {
      "model_module": "@jupyter-widgets/base",
      "model_module_version": "2.0.0",
      "model_name": "LayoutModel",
      "state": {}
     },
     "56e3d9673425402393cd42e70644ba89": {
      "model_module": "@jupyter-widgets/controls",
      "model_module_version": "2.0.0",
      "model_name": "HTMLModel",
      "state": {
       "layout": "IPY_MODEL_976a90ada0cb45789be37d7a31e45743",
       "style": "IPY_MODEL_2bffa2b00d7d4184b6de1ac112e08b5c",
       "value": "<span style=\"color:rgb(156, 34, 37)\"; \"font-size:10.0pt\">&nbsp&nbsp&nbsp&nbsp&nbsp&nbsp <b>#call_nr = 131 - #caller(s): var_button_click(), __call__(), click()</b> &nbsp&nbsp&nbsp&nbsp&nbsp&nbsp</span><span style=\"color:rgb(156, 34, 37)\"; \"font-size:8.0pt\">var_button_click()<br>&nbsp&nbsp&nbsp&nbsp&nbsp&nbsp -- <b>#call_nr = 131 </b> &nbsp&nbsp&nbsp&nbsp&nbsp&nbsp -- after:<br>&nbsp&nbsp&nbsp&nbsp&nbsp&nbsp -- <b>#call_nr = 131 </b> &nbsp&nbsp&nbsp&nbsp&nbsp&nbsp --  - upd_dict[row_index] = {'multi_plot': [('°C', [['TA', 'ETC NRT Meteo', 'SE-Htm']]), ('mmol mol-1', [['H2O', 'ETC NRT Fluxes', 'SE-Htm']])]}</span>"
      }
     },
     "570d229dbc87409180c05a07ca136b7e": {
      "model_module": "@jupyter-widgets/controls",
      "model_module_version": "2.0.0",
      "model_name": "HTMLMathModel",
      "state": {
       "layout": "IPY_MODEL_f7e6ccda2ad648ff8a46467ca78b9e3c",
       "style": "IPY_MODEL_54dbf7018bae44898c30f9817ae69389",
       "value": "<b>Select a group of variables, and choose <i>New</i> or <i>Update</i>.</b>"
      }
     },
     "5768accd8e234c2fae4eebda5fd129e1": {
      "model_module": "@jupyter-widgets/base",
      "model_module_version": "2.0.0",
      "model_name": "LayoutModel",
      "state": {}
     },
     "57a5b01795ba49689902c67e1d26de64": {
      "model_module": "@jupyter-widgets/controls",
      "model_module_version": "2.0.0",
      "model_name": "HTMLStyleModel",
      "state": {
       "description_width": "",
       "font_size": null,
       "text_color": null
      }
     },
     "57d1efd3f7644bf7a49334d915c97ba0": {
      "model_module": "@jupyter-widgets/controls",
      "model_module_version": "2.0.0",
      "model_name": "HTMLModel",
      "state": {
       "layout": "IPY_MODEL_de5650f22a704358b532990e9640e529",
       "style": "IPY_MODEL_c918d850607c4378b930c60af6ebb44d",
       "value": "<span style=\"color:rgb(97, 124, 64)\"; \"font-size:10.0pt\">&nbsp&nbsp&nbsp&nbsp&nbsp&nbsp <b>#call_nr = 150 - #caller(s): reset_var_buttons(), reset_selection(), _notify_observers()</b> &nbsp&nbsp&nbsp&nbsp&nbsp&nbsp</span><span style=\"color:rgb(97, 124, 64)\"; \"font-size:8.0pt\">reset_var_buttons()  -- restore buttons -- <br>&nbsp&nbsp&nbsp&nbsp&nbsp&nbsp -- <b>#call_nr = 150 </b> &nbsp&nbsp&nbsp&nbsp&nbsp&nbsp --  axis_ls = ['°C', 'mmol mol-1']<br>&nbsp&nbsp&nbsp&nbsp&nbsp&nbsp -- <b>#call_nr = 150 </b> &nbsp&nbsp&nbsp&nbsp&nbsp&nbsp --  btn.tooltip = %<br>&nbsp&nbsp&nbsp&nbsp&nbsp&nbsp -- <b>#call_nr = 150 </b> &nbsp&nbsp&nbsp&nbsp&nbsp&nbsp --  Button = \"SWC_4 (ETC NRT Meteo)\"<br>&nbsp&nbsp&nbsp&nbsp&nbsp&nbsp -- <b>#call_nr = 150 </b> &nbsp&nbsp&nbsp&nbsp&nbsp&nbsp -- ---- disabled</span>"
      }
     },
     "57e450bc0dbc4325827e56ac3ee4f51d": {
      "model_module": "@jupyter-widgets/base",
      "model_module_version": "2.0.0",
      "model_name": "LayoutModel",
      "state": {}
     },
     "581fe57298634937806d256ab96f44ff": {
      "model_module": "@jupyter-widgets/controls",
      "model_module_version": "2.0.0",
      "model_name": "TextStyleModel",
      "state": {
       "description_width": "",
       "font_size": null,
       "text_color": null
      }
     },
     "583c1447e6584eae95a5def80167c31b": {
      "model_module": "@jupyter-widgets/controls",
      "model_module_version": "2.0.0",
      "model_name": "DatePickerModel",
      "state": {
       "description": "Start date",
       "disabled": false,
       "layout": "IPY_MODEL_f3bf43a7fec24a9391d954b6ff278d4f",
       "max": null,
       "min": null,
       "step": 1,
       "style": "IPY_MODEL_44ff14d581f544cc9d9a7f325154149c",
       "value": {
        "date": 28,
        "month": 8,
        "year": 2023
       }
      }
     },
     "5877b3f1fd7e4bbdb5c4369f8a14921a": {
      "model_module": "@jupyter-widgets/controls",
      "model_module_version": "2.0.0",
      "model_name": "ButtonModel",
      "state": {
       "description": "mp2 ",
       "layout": "IPY_MODEL_4e8e3329a5624c7db205c27c73383f11",
       "style": "IPY_MODEL_0db37daa21f34a6a821444bad27d0e44",
       "tooltip": null
      }
     },
     "58b3e736e3fc4fc2809bf2b3158db13e": {
      "model_module": "@jupyter-widgets/controls",
      "model_module_version": "2.0.0",
      "model_name": "HTMLModel",
      "state": {
       "layout": "IPY_MODEL_98c6ed8028974a469168d5cd3f0dcce4",
       "style": "IPY_MODEL_b8eca286461e4afc9142903ab6658ee4",
       "value": "<span style=\"color:rgb(92, 150, 134)\"; \"font-size:10.0pt\">&nbsp&nbsp&nbsp&nbsp&nbsp&nbsp <b>#call_nr = 90 - #caller(s): set_batch_upd_dict(), update_batch_dict(), tool_selections()</b> &nbsp&nbsp&nbsp&nbsp&nbsp&nbsp</span><span style=\"color:rgb(92, 150, 134)\"; \"font-size:8.0pt\">set_batch_upd_dict()<br>&nbsp&nbsp&nbsp&nbsp&nbsp&nbsp -- <b>#call_nr = 90 </b> &nbsp&nbsp&nbsp&nbsp&nbsp&nbsp -- step 2<br>&nbsp&nbsp&nbsp&nbsp&nbsp&nbsp -- <b>#call_nr = 90 </b> &nbsp&nbsp&nbsp&nbsp&nbsp&nbsp -- upd_dict_log.value ={'_upd_mode': 'update', '_version': 1, '_orig_name': 'mp2 ', '_new_name': 'mp2 ', '_selected_tool_index': 1, '_tools': {'0': {'multi_plot': [['%', [['SWC_5', 'ETC NRT Meteo', 'SE-Htm']]], ['mmol mol-1', [['H2O', 'ETC NRT Fluxes', 'SE-Htm']]]]}, '1': {'multi_plot': []}}}</span>"
      }
     },
     "58e1a21e9c034d8589f0e1d822a379a7": {
      "model_module": "@jupyter-widgets/controls",
      "model_module_version": "2.0.0",
      "model_name": "DropdownModel",
      "state": {
       "_options_labels": [
        "Arial",
        "Balto",
        "Courier New",
        "Droid Sans",
        "Droid Serif",
        "Droid Sans Mono",
        "Gravitas One",
        "Old Standard TT",
        "Open Sans",
        "Overpass",
        "PT Sans Narrow",
        "Raleway",
        "Times New Roman"
       ],
       "index": 0,
       "layout": "IPY_MODEL_1cf4e5bae0f24815b2264537dabf3547",
       "style": "IPY_MODEL_a0813315c1894f7ca9f1856c1fe7caf3"
      }
     },
     "591e2c76ff9d4fcc86fdc9e578fe1e17": {
      "model_module": "@jupyter-widgets/controls",
      "model_module_version": "2.0.0",
      "model_name": "AccordionModel",
      "state": {
       "children": [
        "IPY_MODEL_b4d66ef5da7e44139f2700022e969895"
       ],
       "layout": "IPY_MODEL_42f7b510417448a2a28e0c8565a34911",
       "titles": [
        "LaTeX settings"
       ]
      }
     },
     "593155ac7e924b72896c66c06ad62797": {
      "model_module": "@jupyter-widgets/controls",
      "model_module_version": "2.0.0",
      "model_name": "DropdownModel",
      "state": {
       "_options_labels": [
        "Default",
        "6",
        "8",
        "10",
        "11",
        "12",
        "14",
        "17"
       ],
       "index": 0,
       "layout": "IPY_MODEL_8fd7fc9f027d42a4b7812d9ecf7da6f7",
       "style": "IPY_MODEL_9332fc1222854bb09302618897584c00"
      }
     },
     "59683fcdcabe434aa4cfc3d852f40945": {
      "model_module": "@jupyter-widgets/controls",
      "model_module_version": "2.0.0",
      "model_name": "HTMLModel",
      "state": {
       "layout": "IPY_MODEL_5e38f192dfe3400cb03d3a85cc0c6fee",
       "style": "IPY_MODEL_1ee0b8fa12a94149bde4d1ecf2083107",
       "value": "<span style=\"color:rgb(89, 108, 6)\"; \"font-size:10.0pt\">&nbsp&nbsp&nbsp&nbsp&nbsp&nbsp <b>#call_nr = 23 - #caller(s): set_info_guide(), activate_gui(), reset_batch_gui()</b> &nbsp&nbsp&nbsp&nbsp&nbsp&nbsp</span><span style=\"color:rgb(89, 108, 6)\"; \"font-size:8.0pt\">set_info_guide()<br>&nbsp&nbsp&nbsp&nbsp&nbsp&nbsp -- <b>#call_nr = 23 </b> &nbsp&nbsp&nbsp&nbsp&nbsp&nbsp -- info_type = reset_gui<br>&nbsp&nbsp&nbsp&nbsp&nbsp&nbsp -- <b>#call_nr = 23 </b> &nbsp&nbsp&nbsp&nbsp&nbsp&nbsp -- selected_tools.value = None<br>&nbsp&nbsp&nbsp&nbsp&nbsp&nbsp -- <b>#call_nr = 23 </b> &nbsp&nbsp&nbsp&nbsp&nbsp&nbsp -- selected_tools.options = (('Multi-plot', 0),)<br>&nbsp&nbsp&nbsp&nbsp&nbsp&nbsp -- <b>#call_nr = 23 </b> &nbsp&nbsp&nbsp&nbsp&nbsp&nbsp -- selected_vars.options = (('SWC_5 (ETC NRT Meteo), H2O (ETC NRT Fluxes)', (0, [['%', [['SWC_5', 'ETC NRT Meteo', 'SE-Htm']]], ['mmol mol-1', [['H2O', 'ETC NRT Fluxes', 'SE-Htm']]]])),)<br>&nbsp&nbsp&nbsp&nbsp&nbsp&nbsp -- <b>#call_nr = 23 </b> &nbsp&nbsp&nbsp&nbsp&nbsp&nbsp -- test</span>"
      }
     },
     "59f7be97cca546bf858f27c8c23fc0a6": {
      "model_module": "@jupyter-widgets/controls",
      "model_module_version": "2.0.0",
      "model_name": "HBoxModel",
      "state": {
       "children": [
        "IPY_MODEL_1b36950b631c438ba3e4366dc91beb3c",
        "IPY_MODEL_4bf3c991fa4247e395cd651c9d85bbec"
       ],
       "layout": "IPY_MODEL_77b720b67d264b368d04fcad64f920ed"
      }
     },
     "5a16d741274e4b49ae10a166057a949e": {
      "model_module": "@jupyter-widgets/base",
      "model_module_version": "2.0.0",
      "model_name": "LayoutModel",
      "state": {}
     },
     "5a77b4eaded94426b644be02706ba43c": {
      "model_module": "@jupyter-widgets/controls",
      "model_module_version": "2.0.0",
      "model_name": "HTMLModel",
      "state": {
       "layout": "IPY_MODEL_54fd7b1febcf4dddad22d3293c81419c",
       "style": "IPY_MODEL_f8a715570b094ab0be68a4e68ba55596",
       "value": "<b>Fetch date =</b> The number of days <i>before</i> the start date:"
      }
     },
     "5a99a812e5734ca1b1d7bd55788c79de": {
      "model_module": "@jupyter-widgets/base",
      "model_module_version": "2.0.0",
      "model_name": "LayoutModel",
      "state": {}
     },
     "5a9af9e179134780a847e8a6df1b54b2": {
      "model_module": "@jupyter-widgets/controls",
      "model_module_version": "2.0.0",
      "model_name": "HBoxModel",
      "state": {
       "children": [
        "IPY_MODEL_094aab0e467d4462ad46dfd1002f1c0a",
        "IPY_MODEL_6cf9db497119460196e036bd02c5f557"
       ],
       "layout": "IPY_MODEL_829db529c2954a398087093dd933e61a"
      }
     },
     "5af2ff6778f442abb02a85d48327fdad": {
      "model_module": "@jupyter-widgets/controls",
      "model_module_version": "2.0.0",
      "model_name": "ButtonModel",
      "state": {
       "description": "SWC_4 (ETC NRT Meteo)",
       "disabled": true,
       "layout": "IPY_MODEL_7ad96b7d9c17440fb0102ba5a3aa1eb3",
       "style": "IPY_MODEL_5169dd05f1544d3fbb39352d1c1dc13d",
       "tooltip": "%"
      }
     },
     "5afaeb552d3a430d9a0e92b5b97e237c": {
      "model_module": "@jupyter-widgets/controls",
      "model_module_version": "2.0.0",
      "model_name": "ButtonStyleModel",
      "state": {
       "button_color": "LightSeaGreen",
       "font_family": null,
       "font_size": null,
       "font_style": null,
       "font_variant": null,
       "font_weight": null,
       "text_color": null,
       "text_decoration": null
      }
     },
     "5b00fb5f3af14025b6341f9587b77a20": {
      "model_module": "@jupyter-widgets/base",
      "model_module_version": "2.0.0",
      "model_name": "LayoutModel",
      "state": {}
     },
     "5b2d5009105c4c938659c2d655df41c2": {
      "model_module": "@jupyter-widgets/controls",
      "model_module_version": "2.0.0",
      "model_name": "ButtonStyleModel",
      "state": {
       "button_color": "LightGreen",
       "font_family": null,
       "font_size": null,
       "font_style": null,
       "font_variant": null,
       "font_weight": null,
       "text_color": null,
       "text_decoration": null
      }
     },
     "5b46da064a334a69ac34e2978371f9dd": {
      "model_module": "@jupyter-widgets/base",
      "model_module_version": "2.0.0",
      "model_name": "LayoutModel",
      "state": {}
     },
     "5ba57c0ac14445cf9c8bdba3e2c70d8e": {
      "model_module": "@jupyter-widgets/controls",
      "model_module_version": "2.0.0",
      "model_name": "HTMLModel",
      "state": {
       "layout": "IPY_MODEL_787ccda3a92549ecba8ac5430e54f54d",
       "style": "IPY_MODEL_4b134b2a156c44b6a9495f503133f5aa",
       "value": "<span style=\"color:rgb(10, 125, 11)\"; \"font-size:10.0pt\">&nbsp&nbsp&nbsp&nbsp&nbsp&nbsp <b>#call_nr = 22 - #caller(s): activate_gui(), reset_batch_gui(), changed_group_drop()</b> &nbsp&nbsp&nbsp&nbsp&nbsp&nbsp</span><span style=\"color:rgb(10, 125, 11)\"; \"font-size:8.0pt\">activate_gui()<br>&nbsp&nbsp&nbsp&nbsp&nbsp&nbsp -- <b>#call_nr = 22 </b> &nbsp&nbsp&nbsp&nbsp&nbsp&nbsp -- upd_active = reset_gui</span>"
      }
     },
     "5bbe4ca115914bd5acd37a8b54d386cc": {
      "model_module": "@jupyter-widgets/controls",
      "model_module_version": "2.0.0",
      "model_name": "HTMLStyleModel",
      "state": {
       "description_width": "",
       "font_size": null,
       "text_color": null
      }
     },
     "5c86058b0674405d9d3cdbc8c94b77c5": {
      "model_module": "@jupyter-widgets/controls",
      "model_module_version": "2.0.0",
      "model_name": "HTMLModel",
      "state": {
       "layout": "IPY_MODEL_4caad97ad3374b358354a0928cf08f05",
       "style": "IPY_MODEL_e86b1a37aa2445d78e6e0807fb4ab7a5",
       "value": "<span style=\"color:rgb(82, 25, 123)\"; \"font-size:10.0pt\">&nbsp&nbsp&nbsp&nbsp&nbsp&nbsp <b>#call_nr = 3 - #caller(s): changed_group_drop(), _notify_observers(), notify_change()</b> &nbsp&nbsp&nbsp&nbsp&nbsp&nbsp</span><span style=\"color:rgb(82, 25, 123)\"; \"font-size:8.0pt\">changed_group_drop()</span>"
      }
     },
     "5d38038555654243bfc3cd52fc6ab34a": {
      "model_module": "@jupyter-widgets/controls",
      "model_module_version": "2.0.0",
      "model_name": "VBoxModel",
      "state": {
       "children": [
        "IPY_MODEL_ca74af32d63d4369b82384cab27ec091",
        "IPY_MODEL_6bb4009989d9489da41b2f55d5a0f316"
       ],
       "layout": "IPY_MODEL_db26c6de022b492e96bbcf9861947bce"
      }
     },
     "5d38b655c99f46e19d393ffc92236d25": {
      "model_module": "@jupyter-widgets/base",
      "model_module_version": "2.0.0",
      "model_name": "LayoutModel",
      "state": {
       "max_width": "auto",
       "min_width": "40px"
      }
     },
     "5d876e9c21c2407ebc451e72497d8a72": {
      "model_module": "@jupyter-widgets/controls",
      "model_module_version": "2.0.0",
      "model_name": "HBoxModel",
      "state": {
       "children": [
        "IPY_MODEL_8b1ee789f25e47cd91910813739e61b8",
        "IPY_MODEL_77c57a34c0de4ae49ed138ef70305d94"
       ],
       "layout": "IPY_MODEL_9b8f7c9a1ae9435c86c47c06f2a2b2db"
      }
     },
     "5d886c8cd4a548e9aa8793abbdc5a078": {
      "model_module": "@jupyter-widgets/base",
      "model_module_version": "2.0.0",
      "model_name": "LayoutModel",
      "state": {}
     },
     "5e0be977934842a9956f6c72cc4807c1": {
      "model_module": "@jupyter-widgets/base",
      "model_module_version": "2.0.0",
      "model_name": "LayoutModel",
      "state": {}
     },
     "5e2824b9470c4c37957a9ca8c23b4e67": {
      "model_module": "@jupyter-widgets/base",
      "model_module_version": "2.0.0",
      "model_name": "LayoutModel",
      "state": {}
     },
     "5e38f192dfe3400cb03d3a85cc0c6fee": {
      "model_module": "@jupyter-widgets/base",
      "model_module_version": "2.0.0",
      "model_name": "LayoutModel",
      "state": {}
     },
     "5e702c11ec1d421a9d1c492f3b1054d4": {
      "model_module": "@jupyter-widgets/controls",
      "model_module_version": "2.0.0",
      "model_name": "DropdownModel",
      "state": {
       "_options_labels": [
        "Arial",
        "Balto",
        "Courier New",
        "Droid Sans",
        "Droid Serif",
        "Droid Sans Mono",
        "Gravitas One",
        "Old Standard TT",
        "Open Sans",
        "Overpass",
        "PT Sans Narrow",
        "Raleway",
        "Times New Roman"
       ],
       "index": 0,
       "layout": "IPY_MODEL_1cf4e5bae0f24815b2264537dabf3547",
       "style": "IPY_MODEL_0e87997e434747ca82de97fe04268994"
      }
     },
     "5f246be1579b4a64b63be003491a8b10": {
      "model_module": "@jupyter-widgets/base",
      "model_module_version": "2.0.0",
      "model_name": "LayoutModel",
      "state": {}
     },
     "5f28f6430f644d379940e10f6551235a": {
      "model_module": "@jupyter-widgets/controls",
      "model_module_version": "2.0.0",
      "model_name": "HTMLStyleModel",
      "state": {
       "description_width": "",
       "font_size": null,
       "text_color": null
      }
     },
     "5f2b80fd51ab458ebf972fa3a4907ee3": {
      "model_module": "@jupyter-widgets/base",
      "model_module_version": "2.0.0",
      "model_name": "LayoutModel",
      "state": {}
     },
     "5f4fbefd4e804865adbd33473c66e042": {
      "model_module": "@jupyter-widgets/base",
      "model_module_version": "2.0.0",
      "model_name": "LayoutModel",
      "state": {
       "align_items": "flex-end",
       "display": "flex",
       "flex_flow": "column"
      }
     },
     "5f544b85704146c5974bbf2905359364": {
      "model_module": "@jupyter-widgets/controls",
      "model_module_version": "2.0.0",
      "model_name": "HBoxModel",
      "state": {
       "children": [
        "IPY_MODEL_26c5fb0c6b1241d39045e9360e05b66d",
        "IPY_MODEL_029e5961475b4b3491231d674639908f"
       ],
       "layout": "IPY_MODEL_2857d7786d7645d69d24fc174e3f6f76"
      }
     },
     "5fedaeea6c9e4ce7ac77ff967ae7e538": {
      "model_module": "@jupyter-widgets/controls",
      "model_module_version": "2.0.0",
      "model_name": "HBoxModel",
      "state": {
       "children": [
        "IPY_MODEL_fbe739c802644d8d9ec975b038151799",
        "IPY_MODEL_b993f215309f41a383d9204a5c772d0e"
       ],
       "layout": "IPY_MODEL_2e756a127e6942aeb8bed88f80eee025"
      }
     },
     "5fefba0014824d8bb1b029e9ec70f5df": {
      "model_module": "@jupyter-widgets/base",
      "model_module_version": "2.0.0",
      "model_name": "LayoutModel",
      "state": {}
     },
     "60062ae8f2f8420aabbe05086de1c175": {
      "model_module": "@jupyter-widgets/controls",
      "model_module_version": "2.0.0",
      "model_name": "CheckboxModel",
      "state": {
       "disabled": false,
       "indent": false,
       "layout": "IPY_MODEL_b5729f80a12c47b7ac291b818f1f6668",
       "style": "IPY_MODEL_7f9ee79d1c4248749b45298224a9b2f8",
       "value": true
      }
     },
     "607188a3d52d404da2f431f33493f172": {
      "model_module": "@jupyter-widgets/controls",
      "model_module_version": "2.0.0",
      "model_name": "DescriptionStyleModel",
      "state": {
       "description_width": ""
      }
     },
     "608fdda0608a406fa5201d98ad234c35": {
      "model_module": "@jupyter-widgets/controls",
      "model_module_version": "2.0.0",
      "model_name": "HTMLModel",
      "state": {
       "layout": "IPY_MODEL_f52cfc12f7044597a8500fe90b700b18",
       "style": "IPY_MODEL_6e68e512911a442991c530f575fa094c",
       "value": "When <b><i>Keep exponents</i></b> is <i>deselected</i> negative exponents in units will be converted into fractions."
      }
     },
     "612c5482afb74c83ab1fab5ea7308420": {
      "model_module": "@jupyter-widgets/controls",
      "model_module_version": "2.0.0",
      "model_name": "DropdownModel",
      "state": {
       "_options_labels": [
        "aggrnyl",
        "agsunset",
        "blackbody",
        "bluered",
        "blues",
        "blugrn",
        "bluyl",
        "brwnyl",
        "bugn",
        "bupu",
        "burg",
        "burgyl",
        "cividis",
        "darkmint",
        "electric",
        "emrld",
        "gnbu",
        "greens",
        "greys",
        "hot",
        "inferno",
        "jet",
        "magenta",
        "magma",
        "mint",
        "orrd",
        "oranges",
        "oryel",
        "peach",
        "pinkyl",
        "plasma",
        "plotly3",
        "pubu",
        "pubugn",
        "purd",
        "purp",
        "purples",
        "purpor",
        "rainbow",
        "rdbu",
        "rdpu",
        "redor",
        "reds",
        "sunset",
        "sunsetdark",
        "teal",
        "tealgrn",
        "turbo",
        "viridis",
        "ylgn",
        "ylgnbu",
        "ylorbr",
        "ylorrd",
        "algae",
        "amp",
        "deep",
        "dense",
        "gray",
        "haline",
        "ice",
        "matter",
        "solar",
        "speed",
        "tempo",
        "thermal",
        "turbid",
        "armyrose",
        "brbg",
        "earth",
        "fall",
        "geyser",
        "prgn",
        "piyg",
        "picnic",
        "portland",
        "puor",
        "rdgy",
        "rdylbu",
        "rdylgn",
        "spectral",
        "tealrose",
        "temps",
        "tropic",
        "balance",
        "curl",
        "delta",
        "oxy",
        "edge",
        "hsv",
        "icefire",
        "phase",
        "twilight",
        "mrybm",
        "mygbm"
       ],
       "index": 4,
       "layout": "IPY_MODEL_1cf4e5bae0f24815b2264537dabf3547",
       "style": "IPY_MODEL_b5c3bb81049d42f99013e2e4ae84526f"
      }
     },
     "61f6431585f84841a5f55e11a579a6fd": {
      "model_module": "@jupyter-widgets/base",
      "model_module_version": "2.0.0",
      "model_name": "LayoutModel",
      "state": {}
     },
     "61fac41c7f2045a78e292ce9409dbc39": {
      "model_module": "@jupyter-widgets/controls",
      "model_module_version": "2.0.0",
      "model_name": "VBoxModel",
      "state": {
       "children": [
        "IPY_MODEL_7739e798bdf54d55a365c7c8938bdb0a",
        "IPY_MODEL_78d62eb92e1e4890a1fc9aa771f5d5ec",
        "IPY_MODEL_f0eccb1f2faf4e11b5301ca782133c56",
        "IPY_MODEL_8c2f6680a3184a4f969ed57c8c0a46c0",
        "IPY_MODEL_354ef2623a8549ec9ea1078620fe62ec"
       ],
       "layout": "IPY_MODEL_ef6278a047814d5b8535dfcc34090625"
      }
     },
     "6280ef55f714469b803479c95eba11ba": {
      "model_module": "@jupyter-widgets/base",
      "model_module_version": "2.0.0",
      "model_name": "LayoutModel",
      "state": {}
     },
     "62e4531695f047e18547cc199655df66": {
      "model_module": "@jupyter-widgets/controls",
      "model_module_version": "2.0.0",
      "model_name": "HTMLStyleModel",
      "state": {
       "description_width": "",
       "font_size": null,
       "text_color": null
      }
     },
     "6329747f87844f0f9acf754a408db4af": {
      "model_module": "@jupyter-widgets/controls",
      "model_module_version": "2.0.0",
      "model_name": "HTMLModel",
      "state": {
       "layout": "IPY_MODEL_4c8c7df13c644cabb0e9793f8df05807",
       "style": "IPY_MODEL_ace610da28464d078e3268d8536231e9",
       "value": "<span style=\"color:rgb(89, 108, 6)\"; \"font-size:10.0pt\">&nbsp&nbsp&nbsp&nbsp&nbsp&nbsp <b>#call_nr = 191 - #caller(s): set_info_guide(), activate_gui(), reset_batch_gui()</b> &nbsp&nbsp&nbsp&nbsp&nbsp&nbsp</span><span style=\"color:rgb(89, 108, 6)\"; \"font-size:8.0pt\">set_info_guide()<br>&nbsp&nbsp&nbsp&nbsp&nbsp&nbsp -- <b>#call_nr = 191 </b> &nbsp&nbsp&nbsp&nbsp&nbsp&nbsp -- info_type = reset_gui<br>&nbsp&nbsp&nbsp&nbsp&nbsp&nbsp -- <b>#call_nr = 191 </b> &nbsp&nbsp&nbsp&nbsp&nbsp&nbsp -- selected_tools.value = None<br>&nbsp&nbsp&nbsp&nbsp&nbsp&nbsp -- <b>#call_nr = 191 </b> &nbsp&nbsp&nbsp&nbsp&nbsp&nbsp -- selected_tools.options = (('Multi-plot', 0), ('Multi-plot', 1))<br>&nbsp&nbsp&nbsp&nbsp&nbsp&nbsp -- <b>#call_nr = 191 </b> &nbsp&nbsp&nbsp&nbsp&nbsp&nbsp -- selected_vars.options = (('SWC_5 (ETC NRT Meteo), H2O (ETC NRT Fluxes)', (0, [['%', [['SWC_5', 'ETC NRT Meteo', 'SE-Htm']]], ['mmol mol-1', [['H2O', 'ETC NRT Fluxes', 'SE-Htm']]]])), ('TA (ETC NRT Meteo), H2O (ETC NRT Fluxes)', (1, [('°C', [['TA', 'ETC NRT Meteo', 'SE-Htm']]), ('mmol mol-1', [['H2O', 'ETC NRT Fluxes', 'SE-Htm']])])))<br>&nbsp&nbsp&nbsp&nbsp&nbsp&nbsp -- <b>#call_nr = 191 </b> &nbsp&nbsp&nbsp&nbsp&nbsp&nbsp -- test</span>"
      }
     },
     "634818a8a45341bbb3b61b30dfa93e3d": {
      "model_module": "@jupyter-widgets/base",
      "model_module_version": "2.0.0",
      "model_name": "LayoutModel",
      "state": {}
     },
     "63a500bdcb4547649ee92c8f7875de88": {
      "model_module": "@jupyter-widgets/base",
      "model_module_version": "2.0.0",
      "model_name": "LayoutModel",
      "state": {}
     },
     "63f79cbab31943ac97ad1edf3ab90edf": {
      "model_module": "@jupyter-widgets/controls",
      "model_module_version": "2.0.0",
      "model_name": "HTMLModel",
      "state": {
       "layout": "IPY_MODEL_213415e684614ba7a1202e80fe6c327b",
       "style": "IPY_MODEL_af9236d15552456d9f597d6cc3b9fc5e",
       "value": "<span style=\"color:rgb(133, 74, 120)\"; \"font-size:10.0pt\">&nbsp&nbsp&nbsp&nbsp&nbsp&nbsp <b>#call_nr = 14 - #caller(s): reset_selection(), _notify_observers(), notify_change()</b> &nbsp&nbsp&nbsp&nbsp&nbsp&nbsp</span><span style=\"color:rgb(133, 74, 120)\"; \"font-size:8.0pt\">reset_selection()<br>&nbsp&nbsp&nbsp&nbsp&nbsp&nbsp -- <b>#call_nr = 14 </b> &nbsp&nbsp&nbsp&nbsp&nbsp&nbsp -- c = {'name': 'value', 'old': '{}', 'new': \"{'_upd_mode': 'read_mode_with_batch', '_selected_tool_index': None, '_version': '1', '_tools': {'0': {'multi_plot': [['%', [['SWC_5', 'ETC NRT Meteo', 'SE-Htm']]], ['mmol mol-1', [['H2O', 'ETC NRT Fluxes', 'SE-Htm']]]]}}}\", 'owner': Textarea(value=\"{'_upd_mode': 'read_mode_with_batch', '_selected_tool_index': None, '_version': '1', '_tools': {'0': {'multi_plot': [['%', [['SWC_5', 'ETC NRT Meteo', 'SE-Htm']]], ['mmol mol-1', [['H2O', 'ETC NRT Fluxes', 'SE-Htm']]]]}}}\", disabled=True, layout=Layout(align_content='flex-start', display='inline-flex', flex_flow='row wrap', width='99%')), 'type': 'change'}<br>&nbsp&nbsp&nbsp&nbsp&nbsp&nbsp -- <b>#call_nr = 14 </b> &nbsp&nbsp&nbsp&nbsp&nbsp&nbsp -- batch_dict = {'_upd_mode': 'read_mode_with_batch', '_selected_tool_index': None, '_version': '1', '_tools': {0: {'multi_plot': [['%', [['SWC_5', 'ETC NRT Meteo', 'SE-Htm']]], ['mmol mol-1', [['H2O', 'ETC NRT Fluxes', 'SE-Htm']]]]}}}<br>&nbsp&nbsp&nbsp&nbsp&nbsp&nbsp -- <b>#call_nr = 14 </b> &nbsp&nbsp&nbsp&nbsp&nbsp&nbsp -- batch_drop.value = {'0': {'multi_plot': [['%', [['SWC_5', 'ETC NRT Meteo', 'SE-Htm']]], ['mmol mol-1', [['H2O', 'ETC NRT Fluxes', 'SE-Htm']]]]}, '_version': '1'}</span>"
      }
     },
     "64c3574d5ae346e490d0c8e47d769f4e": {
      "model_module": "@jupyter-widgets/controls",
      "model_module_version": "2.0.0",
      "model_name": "HTMLModel",
      "state": {
       "layout": "IPY_MODEL_add1ab0cfe4a483c9e801faff1a2d672",
       "style": "IPY_MODEL_7a011fa8ab494693878cb4856e12e6f0",
       "value": "<span style=\"color:rgb(97, 124, 64)\"; \"font-size:10.0pt\">&nbsp&nbsp&nbsp&nbsp&nbsp&nbsp <b>#call_nr = 112 - #caller(s): reset_var_buttons(), reset_selection(), _notify_observers()</b> &nbsp&nbsp&nbsp&nbsp&nbsp&nbsp</span><span style=\"color:rgb(97, 124, 64)\"; \"font-size:8.0pt\">reset_var_buttons()  -- index = 1<br>&nbsp&nbsp&nbsp&nbsp&nbsp&nbsp -- <b>#call_nr = 112 </b> &nbsp&nbsp&nbsp&nbsp&nbsp&nbsp --   --- tool_code = multi_plot<br>&nbsp&nbsp&nbsp&nbsp&nbsp&nbsp -- <b>#call_nr = 112 </b> &nbsp&nbsp&nbsp&nbsp&nbsp&nbsp --   --- var_codes = [('°C', [['TA', 'ETC NRT Meteo', 'SE-Htm']])]</span>"
      }
     },
     "6514503915bf4db7a06c109586c2c750": {
      "model_module": "@jupyter-widgets/controls",
      "model_module_version": "2.0.0",
      "model_name": "HTMLModel",
      "state": {
       "layout": "IPY_MODEL_3a68edb66a3a437bbabf19f592ea0813",
       "style": "IPY_MODEL_8f66b4de75014ceaa843ccb706c1faf8",
       "value": "<span style=\"color:rgb(97, 124, 64)\"; \"font-size:10.0pt\">&nbsp&nbsp&nbsp&nbsp&nbsp&nbsp <b>#call_nr = 109 - #caller(s): reset_var_buttons(), reset_selection(), _notify_observers()</b> &nbsp&nbsp&nbsp&nbsp&nbsp&nbsp</span><span style=\"color:rgb(97, 124, 64)\"; \"font-size:8.0pt\">reset_var_buttons()   --- start ---<br>&nbsp&nbsp&nbsp&nbsp&nbsp&nbsp -- <b>#call_nr = 109 </b> &nbsp&nbsp&nbsp&nbsp&nbsp&nbsp --   - index of selected_tools = 1</span>"
      }
     },
     "6616adba3f1a49b09d2de2e72e35342a": {
      "model_module": "@jupyter-widgets/controls",
      "model_module_version": "2.0.0",
      "model_name": "DropdownModel",
      "state": {
       "_options_labels": [
        "Default",
        "6",
        "8",
        "10",
        "11",
        "12",
        "14",
        "17"
       ],
       "index": 0,
       "layout": "IPY_MODEL_8fd7fc9f027d42a4b7812d9ecf7da6f7",
       "style": "IPY_MODEL_3aaf6db744fb44b093aa3367311d5b81"
      }
     },
     "6625d1b3782441f0b2f19b40a5f9df37": {
      "model_module": "@jupyter-widgets/base",
      "model_module_version": "2.0.0",
      "model_name": "LayoutModel",
      "state": {}
     },
     "664b941c6b63469c98810775dba87cc0": {
      "model_module": "@jupyter-widgets/base",
      "model_module_version": "2.0.0",
      "model_name": "LayoutModel",
      "state": {}
     },
     "668900ec5e0e4720a450fe1cd1c8c321": {
      "model_module": "@jupyter-widgets/controls",
      "model_module_version": "2.0.0",
      "model_name": "HTMLStyleModel",
      "state": {
       "description_width": "",
       "font_size": null,
       "text_color": null
      }
     },
     "66b80aa6f73b45608feb9920c3dc9716": {
      "model_module": "@jupyter-widgets/controls",
      "model_module_version": "2.0.0",
      "model_name": "HTMLModel",
      "state": {
       "layout": "IPY_MODEL_ee4414841f914a9cbfad0771a183d1fe",
       "style": "IPY_MODEL_0fe131f037d6480386cb5a237f1df19c",
       "value": "<span style=\"color:rgb(128, 100, 39)\"; \"font-size:10.0pt\">&nbsp&nbsp&nbsp&nbsp&nbsp&nbsp <b>#call_nr = 54 - #caller(s): var2unit(), init_group_var_buttons(), activate_gui()</b> &nbsp&nbsp&nbsp&nbsp&nbsp&nbsp</span><span style=\"color:rgb(128, 100, 39)\"; \"font-size:8.0pt\">var2unit()<br>&nbsp&nbsp&nbsp&nbsp&nbsp&nbsp -- <b>#call_nr = 54 </b> &nbsp&nbsp&nbsp&nbsp&nbsp&nbsp -- var = ['H2O', 'ETC NRT Fluxes', 'SE-Htm']<br>&nbsp&nbsp&nbsp&nbsp&nbsp&nbsp -- <b>#call_nr = 54 </b> &nbsp&nbsp&nbsp&nbsp&nbsp&nbsp -- return unit = mmol mol-1</span>"
      }
     },
     "670f2cf149894d1686fb4a65df6a009f": {
      "model_module": "@jupyter-widgets/controls",
      "model_module_version": "2.0.0",
      "model_name": "HTMLModel",
      "state": {
       "layout": "IPY_MODEL_b7ba0908de0f49079bf36c43b056d3f4",
       "style": "IPY_MODEL_1b14b65b4d2c4a33914b0a8fc55cd4c4",
       "value": "<span style=\"color:rgb(87, 176, 53)\"; \"font-size:10.0pt\">&nbsp&nbsp&nbsp&nbsp&nbsp&nbsp <b>#call_nr = 16 - #caller(s): get_var_translation_dict(), format_tool_vars(), reset_selection()</b> &nbsp&nbsp&nbsp&nbsp&nbsp&nbsp</span><span style=\"color:rgb(87, 176, 53)\"; \"font-size:8.0pt\">get_var_translation_dict()<br>&nbsp&nbsp&nbsp&nbsp&nbsp&nbsp -- <b>#call_nr = 16 </b> &nbsp&nbsp&nbsp&nbsp&nbsp&nbsp -- var_translation_dict.value = {'SWC_1 (ETC NRT Meteo)': ['SWC_1', 'ETC NRT Meteo', 'SE-Htm'], 'SWC_2 (ETC NRT Meteo)': ['SWC_2', 'ETC NRT Meteo', 'SE-Htm'], 'SWC_3 (ETC NRT Meteo)': ['SWC_3', 'ETC NRT Meteo', 'SE-Htm'], 'SWC_4 (ETC NRT Meteo)': ['SWC_4', 'ETC NRT Meteo', 'SE-Htm'], 'SWC_5 (ETC NRT Meteo)': ['SWC_5', 'ETC NRT Meteo', 'SE-Htm'], 'H2O (ETC NRT Fluxes)': ['H2O', 'ETC NRT Fluxes', 'SE-Htm'], 'TA (ETC NRT Meteo)': ['TA', 'ETC NRT Meteo', 'SE-Htm'], 'Select all': 'All variables'}</span>"
      }
     },
     "67ecb346e5104a5d8a4a740546e29771": {
      "model_module": "@jupyter-widgets/base",
      "model_module_version": "2.0.0",
      "model_name": "LayoutModel",
      "state": {}
     },
     "680bd32dd5574958897268017a396fda": {
      "model_module": "@jupyter-widgets/base",
      "model_module_version": "2.0.0",
      "model_name": "LayoutModel",
      "state": {}
     },
     "682b8972e57042baa6101be4b0a437ec": {
      "model_module": "@jupyter-widgets/controls",
      "model_module_version": "2.0.0",
      "model_name": "HTMLModel",
      "state": {
       "layout": "IPY_MODEL_d6fb1fb750fb44c491d29f34d4b26c43",
       "style": "IPY_MODEL_1eafc3bc2bf74f6c9c2a7c6f84684895",
       "value": "<span>The <b>fetch date</b> is used to <i>speed up computations</i>.</span> In case of a re-calculation based on a longer time series, the data between the fetch and the end date is already in RAM."
      }
     },
     "6841eb2516974378aa683bffdf6f736c": {
      "model_module": "@jupyter-widgets/controls",
      "model_module_version": "2.0.0",
      "model_name": "ButtonStyleModel",
      "state": {
       "button_color": "LightSeaGreen",
       "font_family": null,
       "font_size": null,
       "font_style": null,
       "font_variant": null,
       "font_weight": null,
       "text_color": null,
       "text_decoration": null
      }
     },
     "697901a1608d4d6db627538eacadc20a": {
      "model_module": "@jupyter-widgets/controls",
      "model_module_version": "2.0.0",
      "model_name": "HTMLModel",
      "state": {
       "layout": "IPY_MODEL_047a264e43b5417fad9d247c84a4b02f",
       "style": "IPY_MODEL_b8958701730c41b4964eb3f0be014ac3",
       "value": "<span style=\"color:rgb(171, 133, 129)\"; \"font-size:10.0pt\">&nbsp&nbsp&nbsp&nbsp&nbsp&nbsp <b>#call_nr = 146 - #caller(s): reset_multi_plot_auto(), reset_var_buttons(), reset_selection()</b> &nbsp&nbsp&nbsp&nbsp&nbsp&nbsp</span><span style=\"color:rgb(171, 133, 129)\"; \"font-size:8.0pt\">reset_multi_plot_auto() - after<br>&nbsp&nbsp&nbsp&nbsp&nbsp&nbsp -- <b>#call_nr = 146 </b> &nbsp&nbsp&nbsp&nbsp&nbsp&nbsp -- hide = False<br>&nbsp&nbsp&nbsp&nbsp&nbsp&nbsp -- <b>#call_nr = 146 </b> &nbsp&nbsp&nbsp&nbsp&nbsp&nbsp -- enable = True<br>&nbsp&nbsp&nbsp&nbsp&nbsp&nbsp -- <b>#call_nr = 146 </b> &nbsp&nbsp&nbsp&nbsp&nbsp&nbsp -- value = True<br>&nbsp&nbsp&nbsp&nbsp&nbsp&nbsp -- <b>#call_nr = 146 </b> &nbsp&nbsp&nbsp&nbsp&nbsp&nbsp -- multi_plot_auto_cb.disabled = False<br>&nbsp&nbsp&nbsp&nbsp&nbsp&nbsp -- <b>#call_nr = 146 </b> &nbsp&nbsp&nbsp&nbsp&nbsp&nbsp -- multi_plot_auto_cb.layout.display = block<br>&nbsp&nbsp&nbsp&nbsp&nbsp&nbsp -- <b>#call_nr = 146 </b> &nbsp&nbsp&nbsp&nbsp&nbsp&nbsp -- multi_plot_auto_cb.value = True</span>"
      }
     },
     "69d7c4e6238c4aaf9d747a1c1e0dcba7": {
      "model_module": "@jupyter-widgets/base",
      "model_module_version": "2.0.0",
      "model_name": "LayoutModel",
      "state": {}
     },
     "69e759421af845e9aa6a4a304bf454eb": {
      "model_module": "@jupyter-widgets/controls",
      "model_module_version": "2.0.0",
      "model_name": "HTMLStyleModel",
      "state": {
       "description_width": "",
       "font_size": null,
       "text_color": null
      }
     },
     "6b04a4935c164f6e9944e206e6b16a7a": {
      "model_module": "@jupyter-widgets/controls",
      "model_module_version": "2.0.0",
      "model_name": "HTMLModel",
      "state": {
       "layout": "IPY_MODEL_9ae55ff2251146b0b168bdff2f8642bf",
       "style": "IPY_MODEL_15c4b2440a534abc93aadf88f87fb90c",
       "value": "<span style=\"color:rgb(174, 175, 106)\"; \"font-size:10.0pt\">&nbsp&nbsp&nbsp&nbsp&nbsp&nbsp <b>#call_nr = 77 - #caller(s): get_batch_upd_dict(), reset_var_buttons(), reset_selection()</b> &nbsp&nbsp&nbsp&nbsp&nbsp&nbsp</span><span style=\"color:rgb(174, 175, 106)\"; \"font-size:8.0pt\">get_batch_upd_dict()<br>&nbsp&nbsp&nbsp&nbsp&nbsp&nbsp -- <b>#call_nr = 77 </b> &nbsp&nbsp&nbsp&nbsp&nbsp&nbsp -- d ={'_upd_mode': 'update', '_version': 1, '_orig_name': 'mp2 ', '_new_name': 'mp2 ', '_selected_tool_index': 1, '_tools': {0: {'multi_plot': [['%', [['SWC_5', 'ETC NRT Meteo', 'SE-Htm']]], ['mmol mol-1', [['H2O', 'ETC NRT Fluxes', 'SE-Htm']]]]}, 1: {'multi_plot': []}}}</span>"
      }
     },
     "6b0d7bad6e6b4101b8db32cfc016d81e": {
      "model_module": "@jupyter-widgets/controls",
      "model_module_version": "2.0.0",
      "model_name": "ButtonStyleModel",
      "state": {
       "button_color": "LightGreen",
       "font_family": null,
       "font_size": null,
       "font_style": null,
       "font_variant": null,
       "font_weight": null,
       "text_color": null,
       "text_decoration": null
      }
     },
     "6b22ce1676d649a9a0454d160654723d": {
      "model_module": "@jupyter-widgets/base",
      "model_module_version": "2.0.0",
      "model_name": "LayoutModel",
      "state": {}
     },
     "6b418a1bb4634371b96e7e2d394ad5e7": {
      "model_module": "@jupyter-widgets/controls",
      "model_module_version": "2.0.0",
      "model_name": "ButtonModel",
      "state": {
       "description": "SWC_1 (ETC NRT Meteo)",
       "disabled": true,
       "layout": "IPY_MODEL_03be75c074f7479987be2ac0b6f760d1",
       "style": "IPY_MODEL_5afaeb552d3a430d9a0e92b5b97e237c",
       "tooltip": "%"
      }
     },
     "6b5e82ba05ac4cf78decba6d314825ad": {
      "model_module": "@jupyter-widgets/controls",
      "model_module_version": "2.0.0",
      "model_name": "HTMLStyleModel",
      "state": {
       "description_width": "",
       "font_size": null,
       "text_color": null
      }
     },
     "6bb4009989d9489da41b2f55d5a0f316": {
      "model_module": "@jupyter-widgets/controls",
      "model_module_version": "2.0.0",
      "model_name": "HBoxModel",
      "state": {
       "children": [
        "IPY_MODEL_0d2e750b42fe4f5bae795c47763fc2b5",
        "IPY_MODEL_346fdb2b96774492b10b6c0cac546891"
       ],
       "layout": "IPY_MODEL_ccc170661f84478cb2483603df2df09a"
      }
     },
     "6bf19470d73243d395c5688901039eb3": {
      "model_module": "@jupyter-widgets/controls",
      "model_module_version": "2.0.0",
      "model_name": "DescriptionStyleModel",
      "state": {
       "description_width": ""
      }
     },
     "6c297fbc8dd84cad9972ee7f36fa975b": {
      "model_module": "@jupyter-widgets/controls",
      "model_module_version": "2.0.0",
      "model_name": "HTMLModel",
      "state": {
       "layout": "IPY_MODEL_8fdeeb77d9b7472dbf5986ed4acc9fbe",
       "style": "IPY_MODEL_ef00525351fa4c94bfb3aef955ea223b",
       "value": "<span style=\"color:rgb(51, 49, 148)\"; \"font-size:10.0pt\">&nbsp&nbsp&nbsp&nbsp&nbsp&nbsp <b>#call_nr = 165 - #caller(s): changed_batch_drop(), _notify_observers(), notify_change()</b> &nbsp&nbsp&nbsp&nbsp&nbsp&nbsp</span><span style=\"color:rgb(51, 49, 148)\"; \"font-size:8.0pt\">changed_batch_drop()<br>&nbsp&nbsp&nbsp&nbsp&nbsp&nbsp -- <b>#call_nr = 165 </b> &nbsp&nbsp&nbsp&nbsp&nbsp&nbsp -- - step 1 - batch value changed, reset displayed selections<br>&nbsp&nbsp&nbsp&nbsp&nbsp&nbsp -- <b>#call_nr = 165 </b> &nbsp&nbsp&nbsp&nbsp&nbsp&nbsp -- c = {'name': 'value', 'old': {'0': {'multi_plot': [['%', [['SWC_5', 'ETC NRT Meteo', 'SE-Htm']]], ['mmol mol-1', [['H2O', 'ETC NRT Fluxes', 'SE-Htm']]]]}, '_version': '1'}, 'new': {'0': {'multi_plot': [['%', [['SWC_5', 'ETC NRT Meteo', 'SE-Htm'], ['SWC_1', 'ETC NRT Meteo', 'SE-Htm']]], ['mmol mol-1', [['H2O', 'ETC NRT Fluxes', 'SE-Htm']]]]}, '_version': '3'}, 'owner': Dropdown(disabled=True, layout=Layout(height='40px', width='auto'), options=(('mp1', {'0': {'multi_plot': [['%', [['SWC_5', 'ETC NRT Meteo', 'SE-Htm'], ['SWC_1', 'ETC NRT Meteo', 'SE-Htm']]], ['mmol mol-1', [['H2O', 'ETC NRT Fluxes', 'SE-Htm']]]]}, '_version': '3'}), ('mp2 ', {'0': {'multi_plot': [['%', [['SWC_5', 'ETC NRT Meteo', 'SE-Htm']]], ['mmol mol-1', [['H2O', 'ETC NRT Fluxes', 'SE-Htm']]]]}, '1': {'multi_plot': [('°C', [['TA', 'ETC NRT Meteo', 'SE-Htm']]), ('mmol mol-1', [['H2O', 'ETC NRT Fluxes', 'SE-Htm']])]}, '_version': '2'}), ('sp1', {'0': {'split_plot': [['H2O', 'ETC NRT Fluxes', 'SE-Htm'], ['TA', 'ETC NRT Meteo', 'SE-Htm'], ['SWC_3', 'ETC NRT Meteo', 'SE-Htm']]}, '_version': '3'}), ('split and mult', {'0': {'split_plot': [['SWC_1', 'ETC NRT Meteo', 'SE-Htm'], ['SWC_2', 'ETC NRT Meteo', 'SE-Htm'], ['SWC_3', 'ETC NRT Meteo', 'SE-Htm'], ['SWC_4', 'ETC NRT Meteo', 'SE-Htm'], ['SWC_5', 'ETC NRT Meteo', 'SE-Htm']]}, '1': {'multi_plot': [['%', [['SWC_1', 'ETC NRT Meteo', 'SE-Htm'], ['SWC_5', 'ETC NRT Meteo', 'SE-Htm'], ['SWC_2', 'ETC NRT Meteo', 'SE-Htm'], ['SWC_3', 'ETC NRT Meteo', 'SE-Htm']]], ['mmol mol-1', [['H2O', 'ETC NRT Fluxes', 'SE-Htm']]]]}, '2': {'multi_plot': [['%', [['SWC_1', 'ETC NRT Meteo', 'SE-Htm'], ['SWC_5', 'ETC NRT Meteo', 'SE-Htm']]]]}, '_version': '2'})), tooltip='Name of batch job', value={'0': {'multi_plot': [['%', [['SWC_5', 'ETC NRT Meteo', 'SE-Htm'], ['SWC_1', 'ETC NRT Meteo', 'SE-Htm']]], ['mmol mol-1', [['H2O', 'ETC NRT Fluxes', 'SE-Htm']]]]}, '_version': '3'}), 'type': 'change'}<br>&nbsp&nbsp&nbsp&nbsp&nbsp&nbsp -- <b>#call_nr = 165 </b> &nbsp&nbsp&nbsp&nbsp&nbsp&nbsp -- batch_drop.label = mp1<br>&nbsp&nbsp&nbsp&nbsp&nbsp&nbsp -- <b>#call_nr = 165 </b> &nbsp&nbsp&nbsp&nbsp&nbsp&nbsp -- batch_drop.value = {'0': {'multi_plot': [['%', [['SWC_5', 'ETC NRT Meteo', 'SE-Htm'], ['SWC_1', 'ETC NRT Meteo', 'SE-Htm']]], ['mmol mol-1', [['H2O', 'ETC NRT Fluxes', 'SE-Htm']]]]}, '_version': '3'}</span>"
      }
     },
     "6cf9db497119460196e036bd02c5f557": {
      "model_module": "@jupyter-widgets/controls",
      "model_module_version": "2.0.0",
      "model_name": "FloatTextModel",
      "state": {
       "layout": "IPY_MODEL_8fd7fc9f027d42a4b7812d9ecf7da6f7",
       "step": null,
       "style": "IPY_MODEL_b40982e5acce4398bb030c44b8f49183"
      }
     },
     "6d17fb1258404f5d940d303ac331b0b1": {
      "model_module": "@jupyter-widgets/controls",
      "model_module_version": "2.0.0",
      "model_name": "HTMLModel",
      "state": {
       "layout": "IPY_MODEL_189ef1b95a7c418ca957bd6176913f6c",
       "style": "IPY_MODEL_54626fa00ad4475fb5a210d3c2e23475",
       "value": "<span style=\"color:rgb(133, 74, 120)\"; \"font-size:10.0pt\">&nbsp&nbsp&nbsp&nbsp&nbsp&nbsp <b>#call_nr = 168 - #caller(s): reset_selection(), _notify_observers(), notify_change()</b> &nbsp&nbsp&nbsp&nbsp&nbsp&nbsp</span><span style=\"color:rgb(133, 74, 120)\"; \"font-size:8.0pt\">reset_selection()<br>&nbsp&nbsp&nbsp&nbsp&nbsp&nbsp -- <b>#call_nr = 168 </b> &nbsp&nbsp&nbsp&nbsp&nbsp&nbsp -- c = {'name': 'value', 'old': \"{'_upd_mode': 'update', '_version': 1, '_orig_name': 'mp2 ', '_new_name': 'mp2 ', '_selected_tool_index': 1, '_tools': {'0': {'multi_plot': [['%', [['SWC_5', 'ETC NRT Meteo', 'SE-Htm']]], ['mmol mol-1', [['H2O', 'ETC NRT Fluxes', 'SE-Htm']]]]}, '1': {'multi_plot': [('°C', [['TA', 'ETC NRT Meteo', 'SE-Htm']]), ('mmol mol-1', [['H2O', 'ETC NRT Fluxes', 'SE-Htm']])]}}}\", 'new': \"{'_upd_mode': 'read_mode_with_batch', '_selected_tool_index': None, '_version': '3', '_tools': {'0': {'multi_plot': [['%', [['SWC_5', 'ETC NRT Meteo', 'SE-Htm'], ['SWC_1', 'ETC NRT Meteo', 'SE-Htm']]], ['mmol mol-1', [['H2O', 'ETC NRT Fluxes', 'SE-Htm']]]]}}}\", 'owner': Textarea(value=\"{'_upd_mode': 'read_mode_with_batch', '_selected_tool_index': None, '_version': '3', '_tools': {'0': {'multi_plot': [['%', [['SWC_5', 'ETC NRT Meteo', 'SE-Htm'], ['SWC_1', 'ETC NRT Meteo', 'SE-Htm']]], ['mmol mol-1', [['H2O', 'ETC NRT Fluxes', 'SE-Htm']]]]}}}\", disabled=True, layout=Layout(align_content='flex-start', display='inline-flex', flex_flow='row wrap', width='99%')), 'type': 'change'}<br>&nbsp&nbsp&nbsp&nbsp&nbsp&nbsp -- <b>#call_nr = 168 </b> &nbsp&nbsp&nbsp&nbsp&nbsp&nbsp -- batch_dict = {'_upd_mode': 'read_mode_with_batch', '_selected_tool_index': None, '_version': '3', '_tools': {0: {'multi_plot': [['%', [['SWC_5', 'ETC NRT Meteo', 'SE-Htm'], ['SWC_1', 'ETC NRT Meteo', 'SE-Htm']]], ['mmol mol-1', [['H2O', 'ETC NRT Fluxes', 'SE-Htm']]]]}}}<br>&nbsp&nbsp&nbsp&nbsp&nbsp&nbsp -- <b>#call_nr = 168 </b> &nbsp&nbsp&nbsp&nbsp&nbsp&nbsp -- batch_drop.value = {'0': {'multi_plot': [['%', [['SWC_5', 'ETC NRT Meteo', 'SE-Htm'], ['SWC_1', 'ETC NRT Meteo', 'SE-Htm']]], ['mmol mol-1', [['H2O', 'ETC NRT Fluxes', 'SE-Htm']]]]}, '_version': '3'}</span>"
      }
     },
     "6e1118a5df5d42a59931fd9c05c1c15f": {
      "model_module": "@jupyter-widgets/controls",
      "model_module_version": "2.0.0",
      "model_name": "HTMLStyleModel",
      "state": {
       "description_width": "",
       "font_size": null,
       "text_color": null
      }
     },
     "6e2de10704264e34ae8a22fb1bff93cf": {
      "model_module": "@jupyter-widgets/base",
      "model_module_version": "2.0.0",
      "model_name": "LayoutModel",
      "state": {}
     },
     "6e47e5833101465c8ed532869504f232": {
      "model_module": "@jupyter-widgets/controls",
      "model_module_version": "2.0.0",
      "model_name": "HTMLModel",
      "state": {
       "layout": "IPY_MODEL_2dc38ead8c804b80bde02591807c6461",
       "style": "IPY_MODEL_307cf5981e7b484e885c78f269514af8",
       "value": "<span style=\"color:rgb(51, 49, 148)\"; \"font-size:10.0pt\">&nbsp&nbsp&nbsp&nbsp&nbsp&nbsp <b>#call_nr = 184 - #caller(s): changed_batch_drop(), _notify_observers(), notify_change()</b> &nbsp&nbsp&nbsp&nbsp&nbsp&nbsp</span><span style=\"color:rgb(51, 49, 148)\"; \"font-size:8.0pt\">changed_batch_drop()<br>&nbsp&nbsp&nbsp&nbsp&nbsp&nbsp -- <b>#call_nr = 184 </b> &nbsp&nbsp&nbsp&nbsp&nbsp&nbsp -- - step 2 - <br>&nbsp&nbsp&nbsp&nbsp&nbsp&nbsp -- <b>#call_nr = 184 </b> &nbsp&nbsp&nbsp&nbsp&nbsp&nbsp -- upd_dict_log.value = {'_upd_mode': 'read_mode_with_batch', '_selected_tool_index': None, '_version': '2', '_tools': {'0': {'multi_plot': [['%', [['SWC_5', 'ETC NRT Meteo', 'SE-Htm']]], ['mmol mol-1', [['H2O', 'ETC NRT Fluxes', 'SE-Htm']]]]}, '1': {'multi_plot': [('°C', [['TA', 'ETC NRT Meteo', 'SE-Htm']]), ('mmol mol-1', [['H2O', 'ETC NRT Fluxes', 'SE-Htm']])]}}}</span>"
      }
     },
     "6e68e512911a442991c530f575fa094c": {
      "model_module": "@jupyter-widgets/controls",
      "model_module_version": "2.0.0",
      "model_name": "HTMLStyleModel",
      "state": {
       "description_width": "",
       "font_size": null,
       "text_color": null
      }
     },
     "6e96b863fb764d869c8ed300196b3c81": {
      "model_module": "@jupyter-widgets/controls",
      "model_module_version": "2.0.0",
      "model_name": "HTMLStyleModel",
      "state": {
       "description_width": "",
       "font_size": null,
       "text_color": null
      }
     },
     "6f6a0c4ea2904e21b67cfdd1876e7b49": {
      "model_module": "@jupyter-widgets/base",
      "model_module_version": "2.0.0",
      "model_name": "LayoutModel",
      "state": {
       "height": "99%",
       "width": "99%"
      }
     },
     "6fa0e286ec9b4794b05995ccec737348": {
      "model_module": "@jupyter-widgets/base",
      "model_module_version": "2.0.0",
      "model_name": "LayoutModel",
      "state": {}
     },
     "6fb48f76f01f4f23bc8fa063b4bbf613": {
      "model_module": "@jupyter-widgets/controls",
      "model_module_version": "2.0.0",
      "model_name": "HTMLStyleModel",
      "state": {
       "description_width": "",
       "font_size": null,
       "text_color": null
      }
     },
     "704da9e5e99d4ea195f0625488dae460": {
      "model_module": "@jupyter-widgets/controls",
      "model_module_version": "2.0.0",
      "model_name": "HTMLModel",
      "state": {
       "layout": "IPY_MODEL_b112c982ecf345dbbd9558cb432af2ce",
       "style": "IPY_MODEL_468f04085bbb41fdb6be0b9b9b292eba",
       "value": "<span style=\"color:rgb(174, 175, 106)\"; \"font-size:10.0pt\">&nbsp&nbsp&nbsp&nbsp&nbsp&nbsp <b>#call_nr = 177 - #caller(s): get_batch_upd_dict(), reset_selection(), _notify_observers()</b> &nbsp&nbsp&nbsp&nbsp&nbsp&nbsp</span><span style=\"color:rgb(174, 175, 106)\"; \"font-size:8.0pt\">get_batch_upd_dict()<br>&nbsp&nbsp&nbsp&nbsp&nbsp&nbsp -- <b>#call_nr = 177 </b> &nbsp&nbsp&nbsp&nbsp&nbsp&nbsp -- d ={'_upd_mode': 'read_mode_with_batch', '_selected_tool_index': None, '_version': '2', '_tools': {0: {'multi_plot': [['%', [['SWC_5', 'ETC NRT Meteo', 'SE-Htm']]], ['mmol mol-1', [['H2O', 'ETC NRT Fluxes', 'SE-Htm']]]]}, 1: {'multi_plot': [('°C', [['TA', 'ETC NRT Meteo', 'SE-Htm']]), ('mmol mol-1', [['H2O', 'ETC NRT Fluxes', 'SE-Htm']])]}}}</span>"
      }
     },
     "70612199159246d79010db60bb5cc339": {
      "model_module": "@jupyter-widgets/controls",
      "model_module_version": "2.0.0",
      "model_name": "HTMLStyleModel",
      "state": {
       "description_width": "",
       "font_size": null,
       "text_color": null
      }
     },
     "70dc1ad7cd6a4ca3b79f211867f66809": {
      "model_module": "@jupyter-widgets/base",
      "model_module_version": "2.0.0",
      "model_name": "LayoutModel",
      "state": {
       "max_width": "auto",
       "min_width": "100px"
      }
     },
     "70dc32ab5e8a44faa4bc227ddc9ae05e": {
      "model_module": "@jupyter-widgets/controls",
      "model_module_version": "2.0.0",
      "model_name": "HTMLStyleModel",
      "state": {
       "description_width": "",
       "font_size": null,
       "text_color": null
      }
     },
     "710648cc26424178af6fce67e3f8b8eb": {
      "model_module": "@jupyter-widgets/controls",
      "model_module_version": "2.0.0",
      "model_name": "HTMLStyleModel",
      "state": {
       "description_width": "",
       "font_size": null,
       "text_color": null
      }
     },
     "710f7490282649e3b5c55e91ee83b438": {
      "model_module": "@jupyter-widgets/controls",
      "model_module_version": "2.0.0",
      "model_name": "HTMLModel",
      "state": {
       "layout": "IPY_MODEL_9267d66805a24c6a80d2f766354fa464",
       "style": "IPY_MODEL_b793aae36c7243eca164627701b19c47",
       "value": "<span style=\"color:rgb(56, 23, 78)\"; \"font-size:10.0pt\">&nbsp&nbsp&nbsp&nbsp&nbsp&nbsp <b>#call_nr = 18 - #caller(s): set_selections(), reset_selection(), _notify_observers()</b> &nbsp&nbsp&nbsp&nbsp&nbsp&nbsp</span><span style=\"color:rgb(56, 23, 78)\"; \"font-size:8.0pt\">set_selections()<br>&nbsp&nbsp&nbsp&nbsp&nbsp&nbsp -- <b>#call_nr = 18 </b> &nbsp&nbsp&nbsp&nbsp&nbsp&nbsp -- end <br>&nbsp&nbsp&nbsp&nbsp&nbsp&nbsp -- <b>#call_nr = 18 </b> &nbsp&nbsp&nbsp&nbsp&nbsp&nbsp -- selected_tools.value = None<br>&nbsp&nbsp&nbsp&nbsp&nbsp&nbsp -- <b>#call_nr = 18 </b> &nbsp&nbsp&nbsp&nbsp&nbsp&nbsp -- selected_tools.options = (('Multi-plot', 0),)<br>&nbsp&nbsp&nbsp&nbsp&nbsp&nbsp -- <b>#call_nr = 18 </b> &nbsp&nbsp&nbsp&nbsp&nbsp&nbsp -- selected_vars.options = (('SWC_5 (ETC NRT Meteo), H2O (ETC NRT Fluxes)', (0, [['%', [['SWC_5', 'ETC NRT Meteo', 'SE-Htm']]], ['mmol mol-1', [['H2O', 'ETC NRT Fluxes', 'SE-Htm']]]])),)<br>&nbsp&nbsp&nbsp&nbsp&nbsp&nbsp -- <b>#call_nr = 18 </b> &nbsp&nbsp&nbsp&nbsp&nbsp&nbsp -- selected_vars.tooltip = </span>"
      }
     },
     "715f2bb38105461f8c6d4ac481cdb0eb": {
      "model_module": "@jupyter-widgets/base",
      "model_module_version": "2.0.0",
      "model_name": "LayoutModel",
      "state": {}
     },
     "71674c02877b49908ae781ce8d82701d": {
      "model_module": "@jupyter-widgets/base",
      "model_module_version": "2.0.0",
      "model_name": "LayoutModel",
      "state": {}
     },
     "7191cb606069476ab2e31983b248eb76": {
      "model_module": "@jupyter-widgets/controls",
      "model_module_version": "2.0.0",
      "model_name": "HTMLModel",
      "state": {
       "layout": "IPY_MODEL_c1cfd70d340449eabc7a829eb98ce03b",
       "style": "IPY_MODEL_becd01b1d5c643ff9e0abd08c6b628cc",
       "value": "<span style=\"color:rgb(56, 23, 78)\"; \"font-size:10.0pt\">&nbsp&nbsp&nbsp&nbsp&nbsp&nbsp <b>#call_nr = 108 - #caller(s): set_selections(), reset_selection(), _notify_observers()</b> &nbsp&nbsp&nbsp&nbsp&nbsp&nbsp</span><span style=\"color:rgb(56, 23, 78)\"; \"font-size:8.0pt\">set_selections()<br>&nbsp&nbsp&nbsp&nbsp&nbsp&nbsp -- <b>#call_nr = 108 </b> &nbsp&nbsp&nbsp&nbsp&nbsp&nbsp -- end <br>&nbsp&nbsp&nbsp&nbsp&nbsp&nbsp -- <b>#call_nr = 108 </b> &nbsp&nbsp&nbsp&nbsp&nbsp&nbsp -- selected_tools.value = 1<br>&nbsp&nbsp&nbsp&nbsp&nbsp&nbsp -- <b>#call_nr = 108 </b> &nbsp&nbsp&nbsp&nbsp&nbsp&nbsp -- selected_tools.options = (('Multi-plot', 0), ('Multi-plot', 1))<br>&nbsp&nbsp&nbsp&nbsp&nbsp&nbsp -- <b>#call_nr = 108 </b> &nbsp&nbsp&nbsp&nbsp&nbsp&nbsp -- selected_vars.options = (('SWC_5 (ETC NRT Meteo), H2O (ETC NRT Fluxes)', (0, [['%', [['SWC_5', 'ETC NRT Meteo', 'SE-Htm']]], ['mmol mol-1', [['H2O', 'ETC NRT Fluxes', 'SE-Htm']]]])), ('TA (ETC NRT Meteo)', (1, [('°C', [['TA', 'ETC NRT Meteo', 'SE-Htm']])])))<br>&nbsp&nbsp&nbsp&nbsp&nbsp&nbsp -- <b>#call_nr = 108 </b> &nbsp&nbsp&nbsp&nbsp&nbsp&nbsp -- selected_vars.tooltip = TA (ETC NRT Meteo)</span>"
      }
     },
     "71b76084cea9414994a560cf5258397a": {
      "model_module": "@jupyter-widgets/controls",
      "model_module_version": "2.0.0",
      "model_name": "HTMLStyleModel",
      "state": {
       "description_width": "",
       "font_size": null,
       "text_color": null
      }
     },
     "723b9768051f4c3094ee37f875653fb1": {
      "model_module": "@jupyter-widgets/base",
      "model_module_version": "2.0.0",
      "model_name": "LayoutModel",
      "state": {}
     },
     "723f38e5889d4f7e97e06744db06bb11": {
      "model_module": "@jupyter-widgets/base",
      "model_module_version": "2.0.0",
      "model_name": "LayoutModel",
      "state": {
       "max_width": "auto",
       "min_width": "40px"
      }
     },
     "72bf34dcd04e4686a32022e203b9fb78": {
      "model_module": "@jupyter-widgets/controls",
      "model_module_version": "2.0.0",
      "model_name": "HTMLStyleModel",
      "state": {
       "description_width": "",
       "font_size": null,
       "text_color": null
      }
     },
     "72d10f861c35438ca355f1892e7e9969": {
      "model_module": "@jupyter-widgets/controls",
      "model_module_version": "2.0.0",
      "model_name": "DropdownModel",
      "state": {
       "_options_labels": [
        "Default",
        "6",
        "8",
        "10",
        "11",
        "12",
        "14",
        "17"
       ],
       "index": 0,
       "layout": "IPY_MODEL_8fd7fc9f027d42a4b7812d9ecf7da6f7",
       "style": "IPY_MODEL_6bf19470d73243d395c5688901039eb3"
      }
     },
     "72e3291af48e479ead39232bc4f7a29a": {
      "model_module": "@jupyter-widgets/controls",
      "model_module_version": "2.0.0",
      "model_name": "HTMLModel",
      "state": {
       "layout": "IPY_MODEL_dd26f200fafb41eb93eb04af29156306",
       "style": "IPY_MODEL_d9e649ad250045dd977dbe34e77439fb",
       "value": "<span style=\"color:rgb(97, 124, 64)\"; \"font-size:10.0pt\">&nbsp&nbsp&nbsp&nbsp&nbsp&nbsp <b>#call_nr = 88 - #caller(s): reset_var_buttons(), reset_selection(), _notify_observers()</b> &nbsp&nbsp&nbsp&nbsp&nbsp&nbsp</span><span style=\"color:rgb(97, 124, 64)\"; \"font-size:8.0pt\">reset_var_buttons()  -- restore buttons -- <br>&nbsp&nbsp&nbsp&nbsp&nbsp&nbsp -- <b>#call_nr = 88 </b> &nbsp&nbsp&nbsp&nbsp&nbsp&nbsp --  axis_ls = []<br>&nbsp&nbsp&nbsp&nbsp&nbsp&nbsp -- <b>#call_nr = 88 </b> &nbsp&nbsp&nbsp&nbsp&nbsp&nbsp --  btn.tooltip = °C<br>&nbsp&nbsp&nbsp&nbsp&nbsp&nbsp -- <b>#call_nr = 88 </b> &nbsp&nbsp&nbsp&nbsp&nbsp&nbsp --  Button = \"TA (ETC NRT Meteo)\"<br>&nbsp&nbsp&nbsp&nbsp&nbsp&nbsp -- <b>#call_nr = 88 </b> &nbsp&nbsp&nbsp&nbsp&nbsp&nbsp -- ---- enabled and unchecked</span>"
      }
     },
     "72e58ae1c3bc498290619a15e1e8bf4b": {
      "model_module": "@jupyter-widgets/base",
      "model_module_version": "2.0.0",
      "model_name": "LayoutModel",
      "state": {}
     },
     "7302da8201914108a47983befc788514": {
      "model_module": "@jupyter-widgets/base",
      "model_module_version": "2.0.0",
      "model_name": "LayoutModel",
      "state": {}
     },
     "73089a718e8846169fec2c399a67601f": {
      "model_module": "@jupyter-widgets/controls",
      "model_module_version": "2.0.0",
      "model_name": "HTMLStyleModel",
      "state": {
       "description_width": "",
       "font_size": null,
       "text_color": null
      }
     },
     "736ab549798346bcb74f6047f9ba7c58": {
      "model_module": "@jupyter-widgets/controls",
      "model_module_version": "2.0.0",
      "model_name": "HTMLStyleModel",
      "state": {
       "description_width": "",
       "font_size": null,
       "text_color": null
      }
     },
     "73b8148618564404b764dae926207772": {
      "model_module": "@jupyter-widgets/controls",
      "model_module_version": "2.0.0",
      "model_name": "HTMLStyleModel",
      "state": {
       "description_width": "",
       "font_size": null,
       "text_color": null
      }
     },
     "73ed07c66eb44766aa0f1779aba4cb81": {
      "model_module": "@jupyter-widgets/controls",
      "model_module_version": "2.0.0",
      "model_name": "HTMLModel",
      "state": {
       "layout": "IPY_MODEL_c54eb5a0d87e4302b1f06bb615868848",
       "style": "IPY_MODEL_6fb48f76f01f4f23bc8fa063b4bbf613",
       "value": "<span style=\"color:rgb(156, 34, 37)\"; \"font-size:10.0pt\">&nbsp&nbsp&nbsp&nbsp&nbsp&nbsp <b>#call_nr = 94 - #caller(s): var_button_click(), __call__(), click()</b> &nbsp&nbsp&nbsp&nbsp&nbsp&nbsp</span><span style=\"color:rgb(156, 34, 37)\"; \"font-size:8.0pt\">var_button_click() ***<br>&nbsp&nbsp&nbsp&nbsp&nbsp&nbsp -- <b>#call_nr = 94 </b> &nbsp&nbsp&nbsp&nbsp&nbsp&nbsp -- tool_code = multi_plot<br>&nbsp&nbsp&nbsp&nbsp&nbsp&nbsp -- <b>#call_nr = 94 </b> &nbsp&nbsp&nbsp&nbsp&nbsp&nbsp -- selected_var_codes = []</span>"
      }
     },
     "73ffb3a783de424f85a56e46ffd71632": {
      "model_module": "@jupyter-widgets/controls",
      "model_module_version": "2.0.0",
      "model_name": "HTMLStyleModel",
      "state": {
       "description_width": "",
       "font_size": null,
       "text_color": null
      }
     },
     "74027ce42dc0412281903feaa792c60b": {
      "model_module": "@jupyter-widgets/base",
      "model_module_version": "2.0.0",
      "model_name": "LayoutModel",
      "state": {}
     },
     "74303402408344738c81b7296d89f804": {
      "model_module": "@jupyter-widgets/controls",
      "model_module_version": "2.0.0",
      "model_name": "HTMLStyleModel",
      "state": {
       "description_width": "",
       "font_size": null,
       "text_color": null
      }
     },
     "74374a3a24df4a958f86f53e66735cae": {
      "model_module": "@jupyter-widgets/controls",
      "model_module_version": "2.0.0",
      "model_name": "ButtonModel",
      "state": {
       "button_style": "success",
       "description": "Save",
       "disabled": true,
       "icon": "save",
       "layout": "IPY_MODEL_8981c9daead847b4996016d76fe80236",
       "style": "IPY_MODEL_b093344c48004696a1f546dd82b6e2bc",
       "tooltip": "Enabled in update mode..."
      }
     },
     "74682258c5454ce1a17ae5c91988651b": {
      "model_module": "@jupyter-widgets/controls",
      "model_module_version": "2.0.0",
      "model_name": "HTMLStyleModel",
      "state": {
       "description_width": "",
       "font_size": null,
       "text_color": null
      }
     },
     "74b8deaf920f43d0bdf6fa7b690954ab": {
      "model_module": "@jupyter-widgets/controls",
      "model_module_version": "2.0.0",
      "model_name": "CheckboxStyleModel",
      "state": {
       "description_width": ""
      }
     },
     "74bdb26225aa47fba82d87da98966f49": {
      "model_module": "@jupyter-widgets/base",
      "model_module_version": "2.0.0",
      "model_name": "LayoutModel",
      "state": {}
     },
     "74c89250824f4e788841ca7f11184260": {
      "model_module": "@jupyter-widgets/base",
      "model_module_version": "2.0.0",
      "model_name": "LayoutModel",
      "state": {}
     },
     "750bbcd28c694c4da68207d6d46fbfba": {
      "model_module": "@jupyter-widgets/controls",
      "model_module_version": "2.0.0",
      "model_name": "HTMLStyleModel",
      "state": {
       "description_width": "",
       "font_size": null,
       "text_color": null
      }
     },
     "75b953e82bea4fb1be3e88cc927186cf": {
      "model_module": "@jupyter-widgets/controls",
      "model_module_version": "2.0.0",
      "model_name": "DescriptionStyleModel",
      "state": {
       "description_width": ""
      }
     },
     "75cd921439da4a1d83e7fdbc84ebccd4": {
      "model_module": "@jupyter-widgets/controls",
      "model_module_version": "2.0.0",
      "model_name": "HTMLStyleModel",
      "state": {
       "description_width": "",
       "font_size": null,
       "text_color": null
      }
     },
     "7603571e00a74855a3504f0af2ca73a9": {
      "model_module": "@jupyter-widgets/base",
      "model_module_version": "2.0.0",
      "model_name": "LayoutModel",
      "state": {}
     },
     "76273159004449ee8a14f22f6ab3aa2d": {
      "model_module": "@jupyter-widgets/controls",
      "model_module_version": "2.0.0",
      "model_name": "HTMLStyleModel",
      "state": {
       "description_width": "",
       "font_size": null,
       "text_color": null
      }
     },
     "769ec951e7cb4ce9871af59a810cc432": {
      "model_module": "@jupyter-widgets/controls",
      "model_module_version": "2.0.0",
      "model_name": "HTMLStyleModel",
      "state": {
       "description_width": "",
       "font_size": null,
       "text_color": null
      }
     },
     "7729fc6ac6414400b9d1c9d9d676fd8f": {
      "model_module": "@jupyter-widgets/base",
      "model_module_version": "2.0.0",
      "model_name": "LayoutModel",
      "state": {}
     },
     "7739e798bdf54d55a365c7c8938bdb0a": {
      "model_module": "@jupyter-widgets/controls",
      "model_module_version": "2.0.0",
      "model_name": "HBoxModel",
      "state": {
       "children": [
        "IPY_MODEL_e78fd035b4084ebc9215a08e918509f2",
        "IPY_MODEL_3ce10a2f327142d78293fa6e3994aca9"
       ],
       "layout": "IPY_MODEL_cbeaf2cee58b4a388e83a0910739d455"
      }
     },
     "773c54128ced4fcca1d60381b11d413c": {
      "model_module": "@jupyter-widgets/controls",
      "model_module_version": "2.0.0",
      "model_name": "HTMLStyleModel",
      "state": {
       "description_width": "",
       "font_size": null,
       "text_color": null
      }
     },
     "779f1b69d96e49489296c0b8ebefe51b": {
      "model_module": "@jupyter-widgets/controls",
      "model_module_version": "2.0.0",
      "model_name": "ButtonStyleModel",
      "state": {
       "button_color": "LightSeaGreen",
       "font_family": null,
       "font_size": null,
       "font_style": null,
       "font_variant": null,
       "font_weight": null,
       "text_color": null,
       "text_decoration": null
      }
     },
     "77b720b67d264b368d04fcad64f920ed": {
      "model_module": "@jupyter-widgets/base",
      "model_module_version": "2.0.0",
      "model_name": "LayoutModel",
      "state": {}
     },
     "77b8ce3f55164db1a3828542ba3dd91c": {
      "model_module": "@jupyter-widgets/base",
      "model_module_version": "2.0.0",
      "model_name": "LayoutModel",
      "state": {}
     },
     "77c57a34c0de4ae49ed138ef70305d94": {
      "model_module": "@jupyter-widgets/controls",
      "model_module_version": "2.0.0",
      "model_name": "ButtonModel",
      "state": {
       "button_style": "info",
       "description": "cancel",
       "disabled": true,
       "icon": "cancel",
       "layout": "IPY_MODEL_81a3b123621a4a759ca13d7f6b80d7eb",
       "style": "IPY_MODEL_91a9a79fa22f4233a12069dfbe42c6bd",
       "tooltip": null
      }
     },
     "783221636ccc41c5b80f6da78712fe66": {
      "model_module": "@jupyter-widgets/controls",
      "model_module_version": "2.0.0",
      "model_name": "HBoxModel",
      "state": {
       "children": [
        "IPY_MODEL_87237f1b5e9b4f36955d39d3cc8d6973",
        "IPY_MODEL_13e3086c76174c188fe0e06f92c76ef9"
       ],
       "layout": "IPY_MODEL_15b2f42af8544a949f457795cfe1ca8e"
      }
     },
     "787ccda3a92549ecba8ac5430e54f54d": {
      "model_module": "@jupyter-widgets/base",
      "model_module_version": "2.0.0",
      "model_name": "LayoutModel",
      "state": {}
     },
     "78d62eb92e1e4890a1fc9aa771f5d5ec": {
      "model_module": "@jupyter-widgets/controls",
      "model_module_version": "2.0.0",
      "model_name": "HBoxModel",
      "state": {
       "children": [
        "IPY_MODEL_42741b40e89944d089aacd3ffe8ea93d",
        "IPY_MODEL_1f99222732994b73a1cfbacf36bdda9c"
       ],
       "layout": "IPY_MODEL_80fa0d95d12a41b4a99276307e5a6c63"
      }
     },
     "79328ebadf14451abc6ae4d0514d7fb8": {
      "model_module": "@jupyter-widgets/controls",
      "model_module_version": "2.0.0",
      "model_name": "HTMLModel",
      "state": {
       "layout": "IPY_MODEL_0c090f1164f24c97a1ebb64caf6f46c7",
       "style": "IPY_MODEL_4f8aa1f478de4859bffa7d5876a057c6",
       "value": "<span style=\"color:rgb(112, 46, 5)\"; \"font-size:10.0pt\">&nbsp&nbsp&nbsp&nbsp&nbsp&nbsp <b>#call_nr = 129 - #caller(s): get_var2unit_dict(), var2unit(), var_button_click()</b> &nbsp&nbsp&nbsp&nbsp&nbsp&nbsp</span><span style=\"color:rgb(112, 46, 5)\"; \"font-size:8.0pt\">get_var2unit_dict()</span>"
      }
     },
     "79e019647c1542e6b6fb9ff479d74c96": {
      "model_module": "@jupyter-widgets/controls",
      "model_module_version": "2.0.0",
      "model_name": "HTMLModel",
      "state": {
       "layout": "IPY_MODEL_01cda241efd74a6f83ff0a2feb3c3304",
       "style": "IPY_MODEL_736ab549798346bcb74f6047f9ba7c58",
       "value": "<b> Keep exponents</b>"
      }
     },
     "7a011fa8ab494693878cb4856e12e6f0": {
      "model_module": "@jupyter-widgets/controls",
      "model_module_version": "2.0.0",
      "model_name": "HTMLStyleModel",
      "state": {
       "description_width": "",
       "font_size": null,
       "text_color": null
      }
     },
     "7a2e23751d9949f7bd5d29f1f01cfd6f": {
      "model_module": "@jupyter-widgets/controls",
      "model_module_version": "2.0.0",
      "model_name": "HTMLStyleModel",
      "state": {
       "description_width": "",
       "font_size": null,
       "text_color": null
      }
     },
     "7ad96b7d9c17440fb0102ba5a3aa1eb3": {
      "model_module": "@jupyter-widgets/base",
      "model_module_version": "2.0.0",
      "model_name": "LayoutModel",
      "state": {
       "max_width": "auto",
       "min_width": "210px"
      }
     },
     "7bb2ea5bc98e426588da2743e4298bc9": {
      "model_module": "@jupyter-widgets/controls",
      "model_module_version": "2.0.0",
      "model_name": "HTMLStyleModel",
      "state": {
       "description_width": "",
       "font_size": null,
       "text_color": null
      }
     },
     "7c72e11db50d4f7c9e4cba3ac51788d7": {
      "model_module": "@jupyter-widgets/controls",
      "model_module_version": "2.0.0",
      "model_name": "HTMLModel",
      "state": {
       "layout": "IPY_MODEL_365a923dbb0041198b78a8f87d4d478c",
       "style": "IPY_MODEL_91e9b2fda08e43e699a7b4a22dcaa646",
       "value": "<span style=\"color:rgb(97, 124, 64)\"; \"font-size:10.0pt\">&nbsp&nbsp&nbsp&nbsp&nbsp&nbsp <b>#call_nr = 35 - #caller(s): reset_var_buttons(), reset_selection(), _notify_observers()</b> &nbsp&nbsp&nbsp&nbsp&nbsp&nbsp</span><span style=\"color:rgb(97, 124, 64)\"; \"font-size:8.0pt\">reset_var_buttons()   -- index = None<br>&nbsp&nbsp&nbsp&nbsp&nbsp&nbsp -- <b>#call_nr = 35 </b> &nbsp&nbsp&nbsp&nbsp&nbsp&nbsp --   -- deselecting and disabling all <br>&nbsp&nbsp&nbsp&nbsp&nbsp&nbsp -- <b>#call_nr = 35 </b> &nbsp&nbsp&nbsp&nbsp&nbsp&nbsp -- var-buttons and the \"Up\"-btn</span>"
      }
     },
     "7cc850cfd513400f89ad7eb4cd8f98c8": {
      "model_module": "@jupyter-widgets/controls",
      "model_module_version": "2.0.0",
      "model_name": "HTMLModel",
      "state": {
       "layout": "IPY_MODEL_0b81000bb6a74093ab112a4c0b558ed5",
       "style": "IPY_MODEL_9d0c1fa1c9734b3d97265d55d185e6c7",
       "value": "<span style=\"color:rgb(20, 73, 22)\"; \"font-size:10.0pt\">&nbsp&nbsp&nbsp&nbsp&nbsp&nbsp <b>#call_nr = 161 - #caller(s): save_batch(), __call__(), click()</b> &nbsp&nbsp&nbsp&nbsp&nbsp&nbsp</span><span style=\"color:rgb(20, 73, 22)\"; \"font-size:8.0pt\">save_batch()<br>&nbsp&nbsp&nbsp&nbsp&nbsp&nbsp -- <b>#call_nr = 161 </b> &nbsp&nbsp&nbsp&nbsp&nbsp&nbsp -- batches = {'mp1': {'0': {'multi_plot': [['%', [['SWC_5', 'ETC NRT Meteo', 'SE-Htm'], ['SWC_1', 'ETC NRT Meteo', 'SE-Htm']]], ['mmol mol-1', [['H2O', 'ETC NRT Fluxes', 'SE-Htm']]]]}, '_version': '3'}, 'sp1': {'0': {'split_plot': [['H2O', 'ETC NRT Fluxes', 'SE-Htm'], ['TA', 'ETC NRT Meteo', 'SE-Htm'], ['SWC_3', 'ETC NRT Meteo', 'SE-Htm']]}, '_version': '3'}, 'split and mult': {'0': {'split_plot': [['SWC_1', 'ETC NRT Meteo', 'SE-Htm'], ['SWC_2', 'ETC NRT Meteo', 'SE-Htm'], ['SWC_3', 'ETC NRT Meteo', 'SE-Htm'], ['SWC_4', 'ETC NRT Meteo', 'SE-Htm'], ['SWC_5', 'ETC NRT Meteo', 'SE-Htm']]}, '1': {'multi_plot': [['%', [['SWC_1', 'ETC NRT Meteo', 'SE-Htm'], ['SWC_5', 'ETC NRT Meteo', 'SE-Htm'], ['SWC_2', 'ETC NRT Meteo', 'SE-Htm'], ['SWC_3', 'ETC NRT Meteo', 'SE-Htm']]], ['mmol mol-1', [['H2O', 'ETC NRT Fluxes', 'SE-Htm']]]]}, '2': {'multi_plot': [['%', [['SWC_1', 'ETC NRT Meteo', 'SE-Htm'], ['SWC_5', 'ETC NRT Meteo', 'SE-Htm']]]]}, '_version': '2'}, 'mp2 ': {'0': {'multi_plot': [['%', [['SWC_5', 'ETC NRT Meteo', 'SE-Htm']]], ['mmol mol-1', [['H2O', 'ETC NRT Fluxes', 'SE-Htm']]]]}, '1': {'multi_plot': [('°C', [['TA', 'ETC NRT Meteo', 'SE-Htm']]), ('mmol mol-1', [['H2O', 'ETC NRT Fluxes', 'SE-Htm']])]}, '_version': '2'}}</span>"
      }
     },
     "7cd34b8396f943e49159c177f0b27659": {
      "model_module": "@jupyter-widgets/controls",
      "model_module_version": "2.0.0",
      "model_name": "HTMLStyleModel",
      "state": {
       "description_width": "",
       "font_size": null,
       "text_color": null
      }
     },
     "7d380bebbfd747b3b195b88bb9ea8916": {
      "model_module": "@jupyter-widgets/controls",
      "model_module_version": "2.0.0",
      "model_name": "HTMLStyleModel",
      "state": {
       "description_width": "",
       "font_size": null,
       "text_color": null
      }
     },
     "7d5c01f3b07a4e3a84cf9cc43ce8e9b7": {
      "model_module": "@jupyter-widgets/controls",
      "model_module_version": "2.0.0",
      "model_name": "HTMLStyleModel",
      "state": {
       "description_width": "",
       "font_size": null,
       "text_color": null
      }
     },
     "7ddf1e443e0045be9959f263befc5191": {
      "model_module": "@jupyter-widgets/base",
      "model_module_version": "2.0.0",
      "model_name": "LayoutModel",
      "state": {}
     },
     "7e5cf3ef4c3f4e9ca140cb2cabd04eb8": {
      "model_module": "@jupyter-widgets/controls",
      "model_module_version": "2.0.0",
      "model_name": "HTMLModel",
      "state": {
       "layout": "IPY_MODEL_43293f5cd451422db4646e74fddf9eef",
       "style": "IPY_MODEL_f130e8bbecc6455fbf7954c866924d75",
       "value": "<span style=\"color:rgb(41, 101, 137)\"; \"font-size:10.0pt\">&nbsp&nbsp&nbsp&nbsp&nbsp&nbsp <b>#call_nr = 8 - #caller(s): reset_batch_gui(), changed_group_drop(), _notify_observers()</b> &nbsp&nbsp&nbsp&nbsp&nbsp&nbsp</span><span style=\"color:rgb(41, 101, 137)\"; \"font-size:8.0pt\">reset_batch_gui()<br>&nbsp&nbsp&nbsp&nbsp&nbsp&nbsp -- <b>#call_nr = 8 </b> &nbsp&nbsp&nbsp&nbsp&nbsp&nbsp -- step 1<br>&nbsp&nbsp&nbsp&nbsp&nbsp&nbsp -- <b>#call_nr = 8 </b> &nbsp&nbsp&nbsp&nbsp&nbsp&nbsp -- batch_name = None</span>"
      }
     },
     "7ebb4f93c76e4cc39f8ecff87ffc514b": {
      "model_module": "@jupyter-widgets/controls",
      "model_module_version": "2.0.0",
      "model_name": "HTMLModel",
      "state": {
       "layout": "IPY_MODEL_3a6b95e559084287aa1723843d1b8d82",
       "style": "IPY_MODEL_a68f30dc77814457b3cb3fe95ff3899d",
       "value": "<span style=\"color:rgb(169, 24, 25)\"; \"font-size:10.0pt\">&nbsp&nbsp&nbsp&nbsp&nbsp&nbsp <b>#call_nr = 9 - #caller(s): init_batch_drop(), reset_batch_gui(), changed_group_drop()</b> &nbsp&nbsp&nbsp&nbsp&nbsp&nbsp</span><span style=\"color:rgb(169, 24, 25)\"; \"font-size:8.0pt\">init_batch_drop()<br>&nbsp&nbsp&nbsp&nbsp&nbsp&nbsp -- <b>#call_nr = 9 </b> &nbsp&nbsp&nbsp&nbsp&nbsp&nbsp -- step 1<br>&nbsp&nbsp&nbsp&nbsp&nbsp&nbsp -- <b>#call_nr = 9 </b> &nbsp&nbsp&nbsp&nbsp&nbsp&nbsp -- (input) batch_name = None<br>&nbsp&nbsp&nbsp&nbsp&nbsp&nbsp -- <b>#call_nr = 9 </b> &nbsp&nbsp&nbsp&nbsp&nbsp&nbsp -- group = Meteo SWC<br>&nbsp&nbsp&nbsp&nbsp&nbsp&nbsp -- <b>#call_nr = 9 </b> &nbsp&nbsp&nbsp&nbsp&nbsp&nbsp -- cache['_groups']['Meteo SWC'] = {'_group_vars': [['SWC_1', 'ETC NRT Meteo', 'SE-Htm'], ['SWC_2', 'ETC NRT Meteo', 'SE-Htm'], ['SWC_3', 'ETC NRT Meteo', 'SE-Htm'], ['SWC_4', 'ETC NRT Meteo', 'SE-Htm'], ['SWC_5', 'ETC NRT Meteo', 'SE-Htm'], ['H2O', 'ETC NRT Fluxes', 'SE-Htm'], ['TA', 'ETC NRT Meteo', 'SE-Htm']], '_batches': {'mp2 ': {'0': {'multi_plot': [['%', [['SWC_5', 'ETC NRT Meteo', 'SE-Htm']]], ['mmol mol-1', [['H2O', 'ETC NRT Fluxes', 'SE-Htm']]]]}, '_version': '1'}, 'mp1': {'0': {'multi_plot': [['%', [['SWC_5', 'ETC NRT Meteo', 'SE-Htm'], ['SWC_1', 'ETC NRT Meteo', 'SE-Htm']]], ['mmol mol-1', [['H2O', 'ETC NRT Fluxes', 'SE-Htm']]]]}, '_version': '3'}, 'sp1': {'0': {'split_plot': [['H2O', 'ETC NRT Fluxes', 'SE-Htm'], ['TA', 'ETC NRT Meteo', 'SE-Htm'], ['SWC_3', 'ETC NRT Meteo', 'SE-Htm']]}, '_version': '3'}, 'split and mult': {'0': {'split_plot': [['SWC_1', 'ETC NRT Meteo', 'SE-Htm'], ['SWC_2', 'ETC NRT Meteo', 'SE-Htm'], ['SWC_3', 'ETC NRT Meteo', 'SE-Htm'], ['SWC_4', 'ETC NRT Meteo', 'SE-Htm'], ['SWC_5', 'ETC NRT Meteo', 'SE-Htm']]}, '1': {'multi_plot': [['%', [['SWC_1', 'ETC NRT Meteo', 'SE-Htm'], ['SWC_5', 'ETC NRT Meteo', 'SE-Htm'], ['SWC_2', 'ETC NRT Meteo', 'SE-Htm'], ['SWC_3', 'ETC NRT Meteo', 'SE-Htm']]], ['mmol mol-1', [['H2O', 'ETC NRT Fluxes', 'SE-Htm']]]]}, '2': {'multi_plot': [['%', [['SWC_1', 'ETC NRT Meteo', 'SE-Htm'], ['SWC_5', 'ETC NRT Meteo', 'SE-Htm']]]]}, '_version': '2'}}}</span>"
      }
     },
     "7ef7b24cd6b845108d128d11bf335232": {
      "model_module": "@jupyter-widgets/base",
      "model_module_version": "2.0.0",
      "model_name": "LayoutModel",
      "state": {}
     },
     "7f01cc527b8348db8fcdf2901b00d5d6": {
      "model_module": "@jupyter-widgets/controls",
      "model_module_version": "2.0.0",
      "model_name": "HTMLModel",
      "state": {
       "layout": "IPY_MODEL_5b00fb5f3af14025b6341f9587b77a20",
       "style": "IPY_MODEL_eb6b99a055724fdb9f9e00b4a5d4bed8",
       "value": "<span style=\"color:rgb(46, 75, 67)\"; \"font-size:10.0pt\">&nbsp&nbsp&nbsp&nbsp&nbsp&nbsp <b>#call_nr = 24 - #caller(s): init_group_var_buttons(), activate_gui(), reset_batch_gui()</b> &nbsp&nbsp&nbsp&nbsp&nbsp&nbsp</span><span style=\"color:rgb(46, 75, 67)\"; \"font-size:8.0pt\">init_group_var_buttons()</span>"
      }
     },
     "7f9ee79d1c4248749b45298224a9b2f8": {
      "model_module": "@jupyter-widgets/controls",
      "model_module_version": "2.0.0",
      "model_name": "CheckboxStyleModel",
      "state": {
       "description_width": ""
      }
     },
     "80c432df529b428fb3be4815cbff79da": {
      "model_module": "@jupyter-widgets/controls",
      "model_module_version": "2.0.0",
      "model_name": "HTMLStyleModel",
      "state": {
       "description_width": "",
       "font_size": null,
       "text_color": null
      }
     },
     "80fa0d95d12a41b4a99276307e5a6c63": {
      "model_module": "@jupyter-widgets/base",
      "model_module_version": "2.0.0",
      "model_name": "LayoutModel",
      "state": {}
     },
     "817f12f521d542b8b2ee1191b0b8da47": {
      "model_module": "@jupyter-widgets/base",
      "model_module_version": "2.0.0",
      "model_name": "LayoutModel",
      "state": {}
     },
     "8191699695cf44f796f25350d0c4144f": {
      "model_module": "@jupyter-widgets/controls",
      "model_module_version": "2.0.0",
      "model_name": "HTMLModel",
      "state": {
       "layout": "IPY_MODEL_4ae93d35c7254d77822e4fd2309e9a25",
       "style": "IPY_MODEL_a02235e120994bffb1c699505cac7cdb",
       "value": "<span style=\"color:rgb(97, 124, 64)\"; \"font-size:10.0pt\">&nbsp&nbsp&nbsp&nbsp&nbsp&nbsp <b>#call_nr = 148 - #caller(s): reset_var_buttons(), reset_selection(), _notify_observers()</b> &nbsp&nbsp&nbsp&nbsp&nbsp&nbsp</span><span style=\"color:rgb(97, 124, 64)\"; \"font-size:8.0pt\">reset_var_buttons()  -- restore buttons -- <br>&nbsp&nbsp&nbsp&nbsp&nbsp&nbsp -- <b>#call_nr = 148 </b> &nbsp&nbsp&nbsp&nbsp&nbsp&nbsp --  axis_ls = ['°C', 'mmol mol-1']<br>&nbsp&nbsp&nbsp&nbsp&nbsp&nbsp -- <b>#call_nr = 148 </b> &nbsp&nbsp&nbsp&nbsp&nbsp&nbsp --  btn.tooltip = %<br>&nbsp&nbsp&nbsp&nbsp&nbsp&nbsp -- <b>#call_nr = 148 </b> &nbsp&nbsp&nbsp&nbsp&nbsp&nbsp --  Button = \"SWC_2 (ETC NRT Meteo)\"<br>&nbsp&nbsp&nbsp&nbsp&nbsp&nbsp -- <b>#call_nr = 148 </b> &nbsp&nbsp&nbsp&nbsp&nbsp&nbsp -- ---- disabled</span>"
      }
     },
     "81a3b123621a4a759ca13d7f6b80d7eb": {
      "model_module": "@jupyter-widgets/base",
      "model_module_version": "2.0.0",
      "model_name": "LayoutModel",
      "state": {}
     },
     "81c0f3ddfda347419980b85700ff251d": {
      "model_module": "@jupyter-widgets/controls",
      "model_module_version": "2.0.0",
      "model_name": "AccordionModel",
      "state": {
       "children": [
        "IPY_MODEL_5d38038555654243bfc3cd52fc6ab34a"
       ],
       "layout": "IPY_MODEL_bf332efe55a64425a5dea67346a0a4ae",
       "titles": [
        "Multi-plot settings"
       ]
      }
     },
     "81c55138697c4801bdc8dbac5e40f1e7": {
      "model_module": "@jupyter-widgets/base",
      "model_module_version": "2.0.0",
      "model_name": "LayoutModel",
      "state": {}
     },
     "81dce627550348eb989d2b5eb10ed3f3": {
      "model_module": "@jupyter-widgets/controls",
      "model_module_version": "2.0.0",
      "model_name": "ButtonModel",
      "state": {
       "button_style": "danger",
       "description": "Delete",
       "disabled": true,
       "icon": "trash",
       "layout": "IPY_MODEL_24420e24f3044e889e963a2c8148c196",
       "style": "IPY_MODEL_4c4a4cbce0a148afb91966ac8616ac9a",
       "tooltip": "Enabled in update mode..."
      }
     },
     "8200d7d03cf948c695ce2ae121cba77b": {
      "model_module": "@jupyter-widgets/base",
      "model_module_version": "2.0.0",
      "model_name": "LayoutModel",
      "state": {}
     },
     "829db529c2954a398087093dd933e61a": {
      "model_module": "@jupyter-widgets/base",
      "model_module_version": "2.0.0",
      "model_name": "LayoutModel",
      "state": {}
     },
     "82f292f19f0247e9834e8ed6559e3e35": {
      "model_module": "@jupyter-widgets/controls",
      "model_module_version": "2.0.0",
      "model_name": "CheckboxStyleModel",
      "state": {
       "description_width": ""
      }
     },
     "835b078cd4f744558f19e88170ccd9aa": {
      "model_module": "@jupyter-widgets/base",
      "model_module_version": "2.0.0",
      "model_name": "LayoutModel",
      "state": {}
     },
     "83f340ae16f04befb1a18e84a0ccc315": {
      "model_module": "@jupyter-widgets/base",
      "model_module_version": "2.0.0",
      "model_name": "LayoutModel",
      "state": {}
     },
     "8435356e9be74dd9831dd7d91788fefb": {
      "model_module": "@jupyter-widgets/controls",
      "model_module_version": "2.0.0",
      "model_name": "DescriptionStyleModel",
      "state": {
       "description_width": ""
      }
     },
     "84587d1024724cee8e462ce44751bd95": {
      "model_module": "@jupyter-widgets/controls",
      "model_module_version": "2.0.0",
      "model_name": "ButtonModel",
      "state": {
       "description": "Correlation table",
       "layout": "IPY_MODEL_acdcac5fcf544f97a73c61970eff2d37",
       "style": "IPY_MODEL_0c8926f41fbf43ae9690fa6143a0b2f5",
       "tooltip": null
      }
     },
     "8492572a3984481f8de2002614132cd6": {
      "model_module": "@jupyter-widgets/controls",
      "model_module_version": "2.0.0",
      "model_name": "CheckboxStyleModel",
      "state": {
       "description_width": ""
      }
     },
     "84ca5b9ef70546448235677fca444071": {
      "model_module": "@jupyter-widgets/base",
      "model_module_version": "2.0.0",
      "model_name": "LayoutModel",
      "state": {}
     },
     "8521056a1dee42a490f68a2d2ae4f826": {
      "model_module": "@jupyter-widgets/controls",
      "model_module_version": "2.0.0",
      "model_name": "HTMLModel",
      "state": {
       "layout": "IPY_MODEL_ca65847ddee943fb9ef5c99bf18260ab",
       "style": "IPY_MODEL_0398063545fa4c72a0f40953a5d82fcc",
       "value": "<span style=\"color:rgb(87, 176, 53)\"; \"font-size:10.0pt\">&nbsp&nbsp&nbsp&nbsp&nbsp&nbsp <b>#call_nr = 73 - #caller(s): get_var_translation_dict(), format_tool_vars(), reset_selection()</b> &nbsp&nbsp&nbsp&nbsp&nbsp&nbsp</span><span style=\"color:rgb(87, 176, 53)\"; \"font-size:8.0pt\">get_var_translation_dict()<br>&nbsp&nbsp&nbsp&nbsp&nbsp&nbsp -- <b>#call_nr = 73 </b> &nbsp&nbsp&nbsp&nbsp&nbsp&nbsp -- var_translation_dict.value = {'SWC_1 (ETC NRT Meteo)': ['SWC_1', 'ETC NRT Meteo', 'SE-Htm'], 'SWC_2 (ETC NRT Meteo)': ['SWC_2', 'ETC NRT Meteo', 'SE-Htm'], 'SWC_3 (ETC NRT Meteo)': ['SWC_3', 'ETC NRT Meteo', 'SE-Htm'], 'SWC_4 (ETC NRT Meteo)': ['SWC_4', 'ETC NRT Meteo', 'SE-Htm'], 'SWC_5 (ETC NRT Meteo)': ['SWC_5', 'ETC NRT Meteo', 'SE-Htm'], 'H2O (ETC NRT Fluxes)': ['H2O', 'ETC NRT Fluxes', 'SE-Htm'], 'TA (ETC NRT Meteo)': ['TA', 'ETC NRT Meteo', 'SE-Htm'], 'Select all': 'All variables'}</span>"
      }
     },
     "854dcd148386400f8219fb4a6ea7d1ae": {
      "model_module": "@jupyter-widgets/controls",
      "model_module_version": "2.0.0",
      "model_name": "HTMLModel",
      "state": {
       "layout": "IPY_MODEL_569322c5c43940f3be5f0d00811bee1f",
       "style": "IPY_MODEL_af6442739d4e44d680f6880f4bb3020f",
       "value": "<span><b>Guide:</b><br>Plots and statistics are based on values measured between the <b>start</b> and <b>end dates</b>, displayed in the <b>Start</b> menu. Here, you can modify the default method on how to calculate these dates. </span> <br>The displayed dates can be changed for each run. "
      }
     },
     "86e2505368474dd8915e0d576edbd697": {
      "model_module": "@jupyter-widgets/controls",
      "model_module_version": "2.0.0",
      "model_name": "HTMLStyleModel",
      "state": {
       "description_width": "",
       "font_size": null,
       "text_color": null
      }
     },
     "8719492138e74ced92ca1e8a9f70d727": {
      "model_module": "@jupyter-widgets/base",
      "model_module_version": "2.0.0",
      "model_name": "LayoutModel",
      "state": {}
     },
     "87237f1b5e9b4f36955d39d3cc8d6973": {
      "model_module": "@jupyter-widgets/controls",
      "model_module_version": "2.0.0",
      "model_name": "HTMLModel",
      "state": {
       "layout": "IPY_MODEL_e7e5484d0722442e89699df245814f42",
       "style": "IPY_MODEL_fc1e326da57941bfb795fad8709c9a6f",
       "value": "<b>Start date =</b> The number of days <i>before</i> the end date:"
      }
     },
     "87306de3809247ef8074f14fb3f5bbce": {
      "model_module": "@jupyter-widgets/controls",
      "model_module_version": "2.0.0",
      "model_name": "HTMLModel",
      "state": {
       "layout": "IPY_MODEL_2a38370d876d4330b42a44ca07707345",
       "style": "IPY_MODEL_710648cc26424178af6fce67e3f8b8eb",
       "value": "<b>Plotly color scale:</b> "
      }
     },
     "874a1d7879fb4484bc22ea98f5745f4a": {
      "model_module": "@jupyter-widgets/controls",
      "model_module_version": "2.0.0",
      "model_name": "HTMLStyleModel",
      "state": {
       "description_width": "",
       "font_size": null,
       "text_color": null
      }
     },
     "875eb18080d1480382be3d4bda5dc742": {
      "model_module": "@jupyter-widgets/base",
      "model_module_version": "2.0.0",
      "model_name": "LayoutModel",
      "state": {}
     },
     "87a32bd73f8b4088a510938700425e0c": {
      "model_module": "@jupyter-widgets/base",
      "model_module_version": "2.0.0",
      "model_name": "LayoutModel",
      "state": {}
     },
     "87a4f5653940402e9281902cbd987237": {
      "model_module": "@jupyter-widgets/base",
      "model_module_version": "2.0.0",
      "model_name": "LayoutModel",
      "state": {}
     },
     "87f88b2625884686b8fcc45017f0666e": {
      "model_module": "@jupyter-widgets/base",
      "model_module_version": "2.0.0",
      "model_name": "LayoutModel",
      "state": {}
     },
     "8806e307189c451aa1a34646b243995b": {
      "model_module": "@jupyter-widgets/controls",
      "model_module_version": "2.0.0",
      "model_name": "HTMLStyleModel",
      "state": {
       "description_width": "",
       "font_size": null,
       "text_color": null
      }
     },
     "882f81dbfdba4993ba1da72f93e8feb7": {
      "model_module": "@jupyter-widgets/controls",
      "model_module_version": "2.0.0",
      "model_name": "HBoxModel",
      "state": {
       "children": [
        "IPY_MODEL_ce3f9a68c5d746fabebd6c438ed83d48",
        "IPY_MODEL_39e5894f7de84d5db0549ecf2b7b6503"
       ],
       "layout": "IPY_MODEL_e0ec2771846a40039439ad33709cd5d0"
      }
     },
     "88d14c60d7384840956e07a668c28a6d": {
      "model_module": "@jupyter-widgets/base",
      "model_module_version": "2.0.0",
      "model_name": "LayoutModel",
      "state": {}
     },
     "88d2712ab502471fb0bf8755d018ebe5": {
      "model_module": "@jupyter-widgets/controls",
      "model_module_version": "2.0.0",
      "model_name": "HTMLModel",
      "state": {
       "layout": "IPY_MODEL_1e1d4d20fed84dff8a08373201768c20",
       "style": "IPY_MODEL_10c58b15c9be4b68a4befe4139693812",
       "value": "<b><i>Available variables: </i></b>"
      }
     },
     "8981c9daead847b4996016d76fe80236": {
      "model_module": "@jupyter-widgets/base",
      "model_module_version": "2.0.0",
      "model_name": "LayoutModel",
      "state": {}
     },
     "89d3002fc8b642eb9faa87dddb5f896b": {
      "model_module": "@jupyter-widgets/base",
      "model_module_version": "2.0.0",
      "model_name": "LayoutModel",
      "state": {}
     },
     "89d5d5bbcd0744fa9f3faec4a08c3044": {
      "model_module": "@jupyter-widgets/base",
      "model_module_version": "2.0.0",
      "model_name": "LayoutModel",
      "state": {}
     },
     "89f0804b89c64d77bfc0ee5860a9413b": {
      "model_module": "@jupyter-widgets/controls",
      "model_module_version": "2.0.0",
      "model_name": "HTMLModel",
      "state": {
       "layout": "IPY_MODEL_c0346ad4db5445b4a9a2d0d55f5fcc74",
       "style": "IPY_MODEL_76273159004449ee8a14f22f6ab3aa2d",
       "value": "<span style=\"color:rgb(15, 99, 92)\"; \"font-size:10.0pt\">&nbsp&nbsp&nbsp&nbsp&nbsp&nbsp <b>#call_nr = 30 - #caller(s): format_tool_vars(), reset_selection(), _notify_observers()</b> &nbsp&nbsp&nbsp&nbsp&nbsp&nbsp</span><span style=\"color:rgb(15, 99, 92)\"; \"font-size:8.0pt\">label_of_selected_var_row()<br>&nbsp&nbsp&nbsp&nbsp&nbsp&nbsp -- <b>#call_nr = 30 </b> &nbsp&nbsp&nbsp&nbsp&nbsp&nbsp -- tool_code = {0: {'multi_plot': [['%', [['SWC_5', 'ETC NRT Meteo', 'SE-Htm']]], ['mmol mol-1', [['H2O', 'ETC NRT Fluxes', 'SE-Htm']]]]}}<br>&nbsp&nbsp&nbsp&nbsp&nbsp&nbsp -- <b>#call_nr = 30 </b> &nbsp&nbsp&nbsp&nbsp&nbsp&nbsp -- batch_drop.value = {'0': {'multi_plot': [['%', [['SWC_5', 'ETC NRT Meteo', 'SE-Htm']]], ['mmol mol-1', [['H2O', 'ETC NRT Fluxes', 'SE-Htm']]]]}, '_version': '1'}</span>"
      }
     },
     "8a16135890cf49a4b85bd5260a8f17c5": {
      "model_module": "@jupyter-widgets/controls",
      "model_module_version": "2.0.0",
      "model_name": "HTMLStyleModel",
      "state": {
       "description_width": "",
       "font_size": null,
       "text_color": null
      }
     },
     "8a20ac71250247df8f9a23af9e169857": {
      "model_module": "@jupyter-widgets/controls",
      "model_module_version": "2.0.0",
      "model_name": "DescriptionStyleModel",
      "state": {
       "description_width": ""
      }
     },
     "8a24d4e0cea542aa981b53b6e9bd9293": {
      "model_module": "@jupyter-widgets/controls",
      "model_module_version": "2.0.0",
      "model_name": "HTMLStyleModel",
      "state": {
       "description_width": "",
       "font_size": null,
       "text_color": null
      }
     },
     "8a7a97247541468fb265e54f4af933f9": {
      "model_module": "@jupyter-widgets/base",
      "model_module_version": "2.0.0",
      "model_name": "LayoutModel",
      "state": {}
     },
     "8a936a52604c44e396468a2868f8ba0c": {
      "model_module": "@jupyter-widgets/controls",
      "model_module_version": "2.0.0",
      "model_name": "VBoxModel",
      "state": {
       "children": [
        "IPY_MODEL_3016488802b94d268a097b9560610f49"
       ],
       "layout": "IPY_MODEL_0a2bf4c860b44b53bec543b6263f71ba"
      }
     },
     "8aae7c0e12114661ba12fb37cfdbd90b": {
      "model_module": "@jupyter-widgets/base",
      "model_module_version": "2.0.0",
      "model_name": "LayoutModel",
      "state": {}
     },
     "8b1cfae6c41c463aba918c4596c98809": {
      "model_module": "@jupyter-widgets/base",
      "model_module_version": "2.0.0",
      "model_name": "LayoutModel",
      "state": {}
     },
     "8b1ee789f25e47cd91910813739e61b8": {
      "model_module": "@jupyter-widgets/controls",
      "model_module_version": "2.0.0",
      "model_name": "ButtonModel",
      "state": {
       "button_style": "danger",
       "description": "Save",
       "disabled": true,
       "icon": "save",
       "layout": "IPY_MODEL_ee3c4bcd02c6436f89b1391ca1e258fb",
       "style": "IPY_MODEL_12b3214c533a480189f99942e3e46d05",
       "tooltip": null
      }
     },
     "8b269659f3264b33b7f4f54118b2ca78": {
      "model_module": "@jupyter-widgets/controls",
      "model_module_version": "2.0.0",
      "model_name": "HTMLStyleModel",
      "state": {
       "description_width": "",
       "font_size": null,
       "text_color": null
      }
     },
     "8b48c7266dd9476e932bca88014dbde0": {
      "model_module": "@jupyter-widgets/controls",
      "model_module_version": "2.0.0",
      "model_name": "FloatTextModel",
      "state": {
       "layout": "IPY_MODEL_8fd7fc9f027d42a4b7812d9ecf7da6f7",
       "step": null,
       "style": "IPY_MODEL_45554ddd4fee4e4f98786cb72a70e8b7"
      }
     },
     "8b8c6613fcc64aef9e726610701e7332": {
      "model_module": "@jupyter-widgets/controls",
      "model_module_version": "2.0.0",
      "model_name": "HTMLStyleModel",
      "state": {
       "description_width": "",
       "font_size": null,
       "text_color": null
      }
     },
     "8b9179fdafdd48d993d7c31c16a35329": {
      "model_module": "@jupyter-widgets/controls",
      "model_module_version": "2.0.0",
      "model_name": "HTMLModel",
      "state": {
       "layout": "IPY_MODEL_0ee9739ec9be46b79a09680e784de2d2",
       "style": "IPY_MODEL_165741e0d2cc4489ade8242da42f59f7",
       "value": "<span>Here you can modify certain settings such as: what data to use, visualizations of different plots and texts. <i>Please note</i> that the <b>Save</b>-button below is enabled when a value is changed and the user press &lttab&gt or clicks outside the widget holding the value.</span"
      }
     },
     "8bded2ce7cd3436696e38fdf691a64b6": {
      "model_module": "@jupyter-widgets/controls",
      "model_module_version": "2.0.0",
      "model_name": "HTMLStyleModel",
      "state": {
       "description_width": "",
       "font_size": null,
       "text_color": null
      }
     },
     "8bdfabca01434fac82352bf2bd322d7c": {
      "model_module": "@jupyter-widgets/base",
      "model_module_version": "2.0.0",
      "model_name": "LayoutModel",
      "state": {
       "display": "none"
      }
     },
     "8bf618e9c73c4877a03bea43aa1951a4": {
      "model_module": "@jupyter-widgets/controls",
      "model_module_version": "2.0.0",
      "model_name": "HTMLModel",
      "state": {
       "layout": "IPY_MODEL_0b172f6c5e1c447e8cc05c0910dcc072",
       "style": "IPY_MODEL_ece530c3c6b34350800dce1e56b1e070",
       "value": "<span style=\"color:rgb(97, 124, 64)\"; \"font-size:10.0pt\">&nbsp&nbsp&nbsp&nbsp&nbsp&nbsp <b>#call_nr = 87 - #caller(s): reset_var_buttons(), reset_selection(), _notify_observers()</b> &nbsp&nbsp&nbsp&nbsp&nbsp&nbsp</span><span style=\"color:rgb(97, 124, 64)\"; \"font-size:8.0pt\">reset_var_buttons()  -- restore buttons -- <br>&nbsp&nbsp&nbsp&nbsp&nbsp&nbsp -- <b>#call_nr = 87 </b> &nbsp&nbsp&nbsp&nbsp&nbsp&nbsp --  axis_ls = []<br>&nbsp&nbsp&nbsp&nbsp&nbsp&nbsp -- <b>#call_nr = 87 </b> &nbsp&nbsp&nbsp&nbsp&nbsp&nbsp --  btn.tooltip = mmol mol-1<br>&nbsp&nbsp&nbsp&nbsp&nbsp&nbsp -- <b>#call_nr = 87 </b> &nbsp&nbsp&nbsp&nbsp&nbsp&nbsp --  Button = \"H2O (ETC NRT Fluxes)\"<br>&nbsp&nbsp&nbsp&nbsp&nbsp&nbsp -- <b>#call_nr = 87 </b> &nbsp&nbsp&nbsp&nbsp&nbsp&nbsp -- ---- enabled and unchecked</span>"
      }
     },
     "8c1fd7261eda47a091df597a62d52136": {
      "model_module": "@jupyter-widgets/controls",
      "model_module_version": "2.0.0",
      "model_name": "AccordionModel",
      "state": {
       "children": [
        "IPY_MODEL_eadcfcfce67b46ecb90c6e61db5a8de9"
       ],
       "layout": "IPY_MODEL_5b46da064a334a69ac34e2978371f9dd",
       "titles": [
        "Correlation-plot settings"
       ]
      }
     },
     "8c2f6680a3184a4f969ed57c8c0a46c0": {
      "model_module": "@jupyter-widgets/controls",
      "model_module_version": "2.0.0",
      "model_name": "HBoxModel",
      "state": {
       "children": [
        "IPY_MODEL_ce3f9a68c5d746fabebd6c438ed83d48",
        "IPY_MODEL_8b48c7266dd9476e932bca88014dbde0"
       ],
       "layout": "IPY_MODEL_9a39221cde5a4272a3586a94094a94e4"
      }
     },
     "8db8a619088c4273ad89399a1d4616f4": {
      "model_module": "@jupyter-widgets/controls",
      "model_module_version": "2.0.0",
      "model_name": "HTMLModel",
      "state": {
       "layout": "IPY_MODEL_8aae7c0e12114661ba12fb37cfdbd90b",
       "style": "IPY_MODEL_f12d2974af2c447186ddde9f85e34fc3",
       "value": "<span style=\"color:rgb(0, 0, 0)\"; \"font-size:10.0pt\">&nbsp&nbsp&nbsp&nbsp&nbsp&nbsp <b>#call_nr = 1 - #caller(s): init_group_drop(), _edit_batch_jobs(), _user_configurations()</b> &nbsp&nbsp&nbsp&nbsp&nbsp&nbsp</span><span style=\"color:rgb(0, 0, 0)\"; \"font-size:8.0pt\">init_group_drop()<br>&nbsp&nbsp&nbsp&nbsp&nbsp&nbsp -- <b>#call_nr = 1 </b> &nbsp&nbsp&nbsp&nbsp&nbsp&nbsp -- --- start ---<br>&nbsp&nbsp&nbsp&nbsp&nbsp&nbsp -- <b>#call_nr = 1 </b> &nbsp&nbsp&nbsp&nbsp&nbsp&nbsp -- group list = ['Meteo SWC', 'NGEN 14 - Htm+Sor+Sto ']</span>"
      }
     },
     "8e8ba6f81be44930b635ef83f3078e10": {
      "model_module": "@jupyter-widgets/controls",
      "model_module_version": "2.0.0",
      "model_name": "HTMLStyleModel",
      "state": {
       "description_width": "",
       "font_size": null,
       "text_color": null
      }
     },
     "8f5c0f8f731c49b383597662bd644630": {
      "model_module": "@jupyter-widgets/controls",
      "model_module_version": "2.0.0",
      "model_name": "HTMLModel",
      "state": {
       "layout": "IPY_MODEL_9401e50a21ea4363955ae6c272b8b709",
       "style": "IPY_MODEL_6e1118a5df5d42a59931fd9c05c1c15f",
       "value": "<span style=\"color:rgb(51, 49, 148)\"; \"font-size:10.0pt\">&nbsp&nbsp&nbsp&nbsp&nbsp&nbsp <b>#call_nr = 188 - #caller(s): changed_batch_drop(), init_batch_drop(), reset_batch_gui()</b> &nbsp&nbsp&nbsp&nbsp&nbsp&nbsp</span><span style=\"color:rgb(51, 49, 148)\"; \"font-size:8.0pt\">changed_batch_drop()<br>&nbsp&nbsp&nbsp&nbsp&nbsp&nbsp -- <b>#call_nr = 188 </b> &nbsp&nbsp&nbsp&nbsp&nbsp&nbsp -- - step 2 - <br>&nbsp&nbsp&nbsp&nbsp&nbsp&nbsp -- <b>#call_nr = 188 </b> &nbsp&nbsp&nbsp&nbsp&nbsp&nbsp -- upd_dict_log.value = {'_upd_mode': 'read_mode_with_batch', '_selected_tool_index': None, '_version': '2', '_tools': {'0': {'multi_plot': [['%', [['SWC_5', 'ETC NRT Meteo', 'SE-Htm']]], ['mmol mol-1', [['H2O', 'ETC NRT Fluxes', 'SE-Htm']]]]}, '1': {'multi_plot': [('°C', [['TA', 'ETC NRT Meteo', 'SE-Htm']]), ('mmol mol-1', [['H2O', 'ETC NRT Fluxes', 'SE-Htm']])]}}}</span>"
      }
     },
     "8f66b4de75014ceaa843ccb706c1faf8": {
      "model_module": "@jupyter-widgets/controls",
      "model_module_version": "2.0.0",
      "model_name": "HTMLStyleModel",
      "state": {
       "description_width": "",
       "font_size": null,
       "text_color": null
      }
     },
     "8fceb73ede664b63a64d99dd633d16cd": {
      "model_module": "@jupyter-widgets/controls",
      "model_module_version": "2.0.0",
      "model_name": "HTMLStyleModel",
      "state": {
       "description_width": "",
       "font_size": null,
       "text_color": null
      }
     },
     "8fd7fc9f027d42a4b7812d9ecf7da6f7": {
      "model_module": "@jupyter-widgets/base",
      "model_module_version": "2.0.0",
      "model_name": "LayoutModel",
      "state": {
       "width": "55px"
      }
     },
     "8fdeeb77d9b7472dbf5986ed4acc9fbe": {
      "model_module": "@jupyter-widgets/base",
      "model_module_version": "2.0.0",
      "model_name": "LayoutModel",
      "state": {}
     },
     "8fe1888a306f44c7a2c4daba25eb6cce": {
      "model_module": "@jupyter-widgets/controls",
      "model_module_version": "2.0.0",
      "model_name": "HTMLStyleModel",
      "state": {
       "description_width": "",
       "font_size": null,
       "text_color": null
      }
     },
     "903c80feb5024bbda41210706b77bab9": {
      "model_module": "@jupyter-widgets/base",
      "model_module_version": "2.0.0",
      "model_name": "LayoutModel",
      "state": {}
     },
     "90903cb47d0d4121ba8121c79a7f8c3e": {
      "model_module": "@jupyter-widgets/controls",
      "model_module_version": "2.0.0",
      "model_name": "DropdownModel",
      "state": {
       "_options_labels": [
        "mp1",
        "mp2 ",
        "sp1",
        "split and mult"
       ],
       "index": 1,
       "layout": "IPY_MODEL_a014525179ba4291967468289fa6956a",
       "style": "IPY_MODEL_449eb2f59f43499f87ac600b8f874ecd",
       "tooltip": "Name of batch job"
      }
     },
     "90a39fcc41cc4d04b36c1e7aeef35e74": {
      "model_module": "@jupyter-widgets/controls",
      "model_module_version": "2.0.0",
      "model_name": "ButtonStyleModel",
      "state": {
       "button_color": "LightGreen",
       "font_family": null,
       "font_size": null,
       "font_style": null,
       "font_variant": null,
       "font_weight": null,
       "text_color": null,
       "text_decoration": null
      }
     },
     "90c5a56d65864a8d9a01e8fea7444d8d": {
      "model_module": "@jupyter-widgets/controls",
      "model_module_version": "2.0.0",
      "model_name": "VBoxModel",
      "state": {
       "children": [
        "IPY_MODEL_40eb30a804fe4071a21189bb4093f7ba",
        "IPY_MODEL_12f91133e1de498785361a5b62169c2d"
       ],
       "layout": "IPY_MODEL_af7685f2f7fd440497bb62fca827ecb5"
      }
     },
     "9145d535a89e4bd187660a9e3b0e6664": {
      "model_module": "@jupyter-widgets/controls",
      "model_module_version": "2.0.0",
      "model_name": "HBoxModel",
      "state": {
       "children": [
        "IPY_MODEL_d76408d29f6141e198fb7c6942655d3f",
        "IPY_MODEL_dd1734976e594079a14677a1f35cfa01"
       ],
       "layout": "IPY_MODEL_1fc3d5ed4ad64994bfda345a61e32a9d"
      }
     },
     "918be4ee1b854be8bc4204104d0fea3f": {
      "model_module": "@jupyter-widgets/controls",
      "model_module_version": "2.0.0",
      "model_name": "ButtonModel",
      "state": {
       "description": "Select all",
       "disabled": true,
       "layout": "IPY_MODEL_b6e105e26a9946bb80f6ea604df69af6",
       "style": "IPY_MODEL_361f58835e1a4a7ca8c17c06de824976"
      }
     },
     "91939912c0a64fddbcf18f5b088eac12": {
      "model_module": "@jupyter-widgets/base",
      "model_module_version": "2.0.0",
      "model_name": "LayoutModel",
      "state": {}
     },
     "91a7424a746148feaec3dabac0ff96f3": {
      "model_module": "@jupyter-widgets/controls",
      "model_module_version": "2.0.0",
      "model_name": "CheckboxModel",
      "state": {
       "description": "Choose axis according to unit",
       "disabled": false,
       "layout": "IPY_MODEL_19e0a7f8f05344e4b43f10e6994d18f6",
       "style": "IPY_MODEL_74b8deaf920f43d0bdf6fa7b690954ab",
       "value": true
      }
     },
     "91a7c9b29c3e4cd7b4c2d1549e525c76": {
      "model_module": "@jupyter-widgets/controls",
      "model_module_version": "2.0.0",
      "model_name": "HTMLModel",
      "state": {
       "layout": "IPY_MODEL_120cc87e0a84454298c7b6b2658a4a36",
       "style": "IPY_MODEL_70612199159246d79010db60bb5cc339",
       "value": "<span style=\"color:rgb(87, 176, 53)\"; \"font-size:10.0pt\">&nbsp&nbsp&nbsp&nbsp&nbsp&nbsp <b>#call_nr = 41 - #caller(s): get_var_translation_dict(), init_group_var_buttons(), activate_gui()</b> &nbsp&nbsp&nbsp&nbsp&nbsp&nbsp</span><span style=\"color:rgb(87, 176, 53)\"; \"font-size:8.0pt\">get_var_translation_dict()<br>&nbsp&nbsp&nbsp&nbsp&nbsp&nbsp -- <b>#call_nr = 41 </b> &nbsp&nbsp&nbsp&nbsp&nbsp&nbsp -- var_translation_dict.value = {'SWC_1 (ETC NRT Meteo)': ['SWC_1', 'ETC NRT Meteo', 'SE-Htm'], 'SWC_2 (ETC NRT Meteo)': ['SWC_2', 'ETC NRT Meteo', 'SE-Htm'], 'SWC_3 (ETC NRT Meteo)': ['SWC_3', 'ETC NRT Meteo', 'SE-Htm'], 'SWC_4 (ETC NRT Meteo)': ['SWC_4', 'ETC NRT Meteo', 'SE-Htm'], 'SWC_5 (ETC NRT Meteo)': ['SWC_5', 'ETC NRT Meteo', 'SE-Htm'], 'H2O (ETC NRT Fluxes)': ['H2O', 'ETC NRT Fluxes', 'SE-Htm'], 'TA (ETC NRT Meteo)': ['TA', 'ETC NRT Meteo', 'SE-Htm'], 'Select all': 'All variables'}</span>"
      }
     },
     "91a9a79fa22f4233a12069dfbe42c6bd": {
      "model_module": "@jupyter-widgets/controls",
      "model_module_version": "2.0.0",
      "model_name": "ButtonStyleModel",
      "state": {
       "font_family": null,
       "font_size": null,
       "font_style": null,
       "font_variant": null,
       "font_weight": null,
       "text_color": null,
       "text_decoration": null
      }
     },
     "91c7e261adf5437f8440015c05cdb6b0": {
      "model_module": "@jupyter-widgets/controls",
      "model_module_version": "2.0.0",
      "model_name": "DropdownModel",
      "state": {
       "_options_labels": [
        "Default",
        "6",
        "8",
        "10",
        "11",
        "12",
        "14",
        "17"
       ],
       "index": 0,
       "layout": "IPY_MODEL_8fd7fc9f027d42a4b7812d9ecf7da6f7",
       "style": "IPY_MODEL_53b0cd39590b47428c7d8699c3f97a03"
      }
     },
     "91e9b2fda08e43e699a7b4a22dcaa646": {
      "model_module": "@jupyter-widgets/controls",
      "model_module_version": "2.0.0",
      "model_name": "HTMLStyleModel",
      "state": {
       "description_width": "",
       "font_size": null,
       "text_color": null
      }
     },
     "9236884c19694c3fa897790b2f788f77": {
      "model_module": "@jupyter-widgets/base",
      "model_module_version": "2.0.0",
      "model_name": "LayoutModel",
      "state": {}
     },
     "9267d66805a24c6a80d2f766354fa464": {
      "model_module": "@jupyter-widgets/base",
      "model_module_version": "2.0.0",
      "model_name": "LayoutModel",
      "state": {}
     },
     "92c16ecdadf246f5851e25168dab41fe": {
      "model_module": "@jupyter-widgets/controls",
      "model_module_version": "2.0.0",
      "model_name": "HTMLModel",
      "state": {
       "layout": "IPY_MODEL_cdfebabef5574e12987d61406dd7cf90",
       "style": "IPY_MODEL_33925927540c46de83dfaf872159551e",
       "value": "<span style=\"color:rgb(97, 124, 64)\"; \"font-size:10.0pt\">&nbsp&nbsp&nbsp&nbsp&nbsp&nbsp <b>#call_nr = 117 - #caller(s): reset_var_buttons(), reset_selection(), _notify_observers()</b> &nbsp&nbsp&nbsp&nbsp&nbsp&nbsp</span><span style=\"color:rgb(97, 124, 64)\"; \"font-size:8.0pt\">reset_var_buttons()  -- restore buttons -- <br>&nbsp&nbsp&nbsp&nbsp&nbsp&nbsp -- <b>#call_nr = 117 </b> &nbsp&nbsp&nbsp&nbsp&nbsp&nbsp --  axis_ls = ['°C']<br>&nbsp&nbsp&nbsp&nbsp&nbsp&nbsp -- <b>#call_nr = 117 </b> &nbsp&nbsp&nbsp&nbsp&nbsp&nbsp --  btn.tooltip = %<br>&nbsp&nbsp&nbsp&nbsp&nbsp&nbsp -- <b>#call_nr = 117 </b> &nbsp&nbsp&nbsp&nbsp&nbsp&nbsp --  Button = \"SWC_3 (ETC NRT Meteo)\"<br>&nbsp&nbsp&nbsp&nbsp&nbsp&nbsp -- <b>#call_nr = 117 </b> &nbsp&nbsp&nbsp&nbsp&nbsp&nbsp -- ---- enabled and unchecked</span>"
      }
     },
     "92cbb620b4054c9aafd953752f2fb9cd": {
      "model_module": "@jupyter-widgets/controls",
      "model_module_version": "2.0.0",
      "model_name": "DropdownModel",
      "state": {
       "_options_labels": [
        "0",
        "1",
        "2",
        "3",
        "4",
        "5",
        "6",
        "7",
        "8",
        "9",
        "10",
        "11",
        "12",
        "13",
        "14"
       ],
       "index": 6,
       "layout": "IPY_MODEL_8fd7fc9f027d42a4b7812d9ecf7da6f7",
       "style": "IPY_MODEL_499b931e4afc4630a69a5bd32a9ce83a"
      }
     },
     "930e66fb3b4f44d98e8ff9d806da701b": {
      "model_module": "@jupyter-widgets/controls",
      "model_module_version": "2.0.0",
      "model_name": "HTMLModel",
      "state": {
       "layout": "IPY_MODEL_4d9f1cd4ccd041f48b8b485d0113a6f9",
       "style": "IPY_MODEL_1792d7758fc5407195858d60cfa5fd39",
       "value": "<span style=\"color:rgb(171, 133, 129)\"; \"font-size:10.0pt\">&nbsp&nbsp&nbsp&nbsp&nbsp&nbsp <b>#call_nr = 113 - #caller(s): reset_multi_plot_auto(), reset_var_buttons(), reset_selection()</b> &nbsp&nbsp&nbsp&nbsp&nbsp&nbsp</span><span style=\"color:rgb(171, 133, 129)\"; \"font-size:8.0pt\">reset_multi_plot_auto() - before<br>&nbsp&nbsp&nbsp&nbsp&nbsp&nbsp -- <b>#call_nr = 113 </b> &nbsp&nbsp&nbsp&nbsp&nbsp&nbsp -- hide = False<br>&nbsp&nbsp&nbsp&nbsp&nbsp&nbsp -- <b>#call_nr = 113 </b> &nbsp&nbsp&nbsp&nbsp&nbsp&nbsp -- enable = True<br>&nbsp&nbsp&nbsp&nbsp&nbsp&nbsp -- <b>#call_nr = 113 </b> &nbsp&nbsp&nbsp&nbsp&nbsp&nbsp -- value = True<br>&nbsp&nbsp&nbsp&nbsp&nbsp&nbsp -- <b>#call_nr = 113 </b> &nbsp&nbsp&nbsp&nbsp&nbsp&nbsp -- multi_plot_auto_cb.disabled = False<br>&nbsp&nbsp&nbsp&nbsp&nbsp&nbsp -- <b>#call_nr = 113 </b> &nbsp&nbsp&nbsp&nbsp&nbsp&nbsp -- multi_plot_auto_cb.layout.display = block<br>&nbsp&nbsp&nbsp&nbsp&nbsp&nbsp -- <b>#call_nr = 113 </b> &nbsp&nbsp&nbsp&nbsp&nbsp&nbsp -- multi_plot_auto_cb.value = True</span>"
      }
     },
     "931212e16be54c9eb0c2b2225c63c8b9": {
      "model_module": "@jupyter-widgets/controls",
      "model_module_version": "2.0.0",
      "model_name": "VBoxModel",
      "state": {
       "children": [
        "IPY_MODEL_95ec2b9d5d234393af2d565107bb4339",
        "IPY_MODEL_c34dce360cf543cc87490c0f2e0b02e5",
        "IPY_MODEL_52de7cdd485d419481cbb8df2110c57d",
        "IPY_MODEL_aa7f6fb024bd4c608973fc81fe7d0182"
       ],
       "layout": "IPY_MODEL_51795457197d41cabbda7ae477acde5b"
      }
     },
     "931e7537940b4017907163ee32699de1": {
      "model_module": "@jupyter-widgets/controls",
      "model_module_version": "2.0.0",
      "model_name": "HTMLModel",
      "state": {
       "layout": "IPY_MODEL_427ff582e1c8492cb09954a20143ed65",
       "style": "IPY_MODEL_b03e01e7a3ba4e738829f80ac94ffdbf",
       "value": "<span style=\"color:rgb(120, 84, 132)\"; \"font-size:10.0pt\">&nbsp&nbsp&nbsp&nbsp&nbsp&nbsp <b>#call_nr = 63 - #caller(s): cleanup_tools(), tool_selections(), tool_click()</b> &nbsp&nbsp&nbsp&nbsp&nbsp&nbsp</span><span style=\"color:rgb(120, 84, 132)\"; \"font-size:8.0pt\">cleanup_tools() -- (after)<br>&nbsp&nbsp&nbsp&nbsp&nbsp&nbsp -- <b>#call_nr = 63 </b> &nbsp&nbsp&nbsp&nbsp&nbsp&nbsp -- d = {0: {'multi_plot': [['%', [['SWC_5', 'ETC NRT Meteo', 'SE-Htm']]], ['mmol mol-1', [['H2O', 'ETC NRT Fluxes', 'SE-Htm']]]]}}<br>&nbsp&nbsp&nbsp&nbsp&nbsp&nbsp -- <b>#call_nr = 63 </b> &nbsp&nbsp&nbsp&nbsp&nbsp&nbsp -- dict_has_changed = False</span>"
      }
     },
     "9322a1c53ce147159b46931e483f044a": {
      "model_module": "@jupyter-widgets/base",
      "model_module_version": "2.0.0",
      "model_name": "LayoutModel",
      "state": {}
     },
     "9332fc1222854bb09302618897584c00": {
      "model_module": "@jupyter-widgets/controls",
      "model_module_version": "2.0.0",
      "model_name": "DescriptionStyleModel",
      "state": {
       "description_width": ""
      }
     },
     "933cf1f44f054236bc7148c5ecc0b5dd": {
      "model_module": "@jupyter-widgets/controls",
      "model_module_version": "2.0.0",
      "model_name": "HBoxModel",
      "state": {
       "children": [
        "IPY_MODEL_094aab0e467d4462ad46dfd1002f1c0a",
        "IPY_MODEL_a991fe2a0c3a4f24927edbc617e01591"
       ],
       "layout": "IPY_MODEL_8a7a97247541468fb265e54f4af933f9"
      }
     },
     "934886e398f74628a4e1313bf0c33386": {
      "model_module": "@jupyter-widgets/controls",
      "model_module_version": "2.0.0",
      "model_name": "ButtonModel",
      "state": {
       "description": "Run all batch jobs",
       "layout": "IPY_MODEL_df736b49ffd34e8db5113ef55185fc62",
       "style": "IPY_MODEL_1d9d107fb7564a939f7191c9cbe32dca",
       "tooltip": null
      }
     },
     "93bcca0b5d834b83bc4effe0da8cc17c": {
      "model_module": "@jupyter-widgets/controls",
      "model_module_version": "2.0.0",
      "model_name": "ButtonModel",
      "state": {
       "description": "Numerical Statistics",
       "layout": "IPY_MODEL_49f359eb93754e5bb3517facff40c34b",
       "style": "IPY_MODEL_cedcbbb23b5641d0887f0be99b01038d",
       "tooltip": null
      }
     },
     "9401e50a21ea4363955ae6c272b8b709": {
      "model_module": "@jupyter-widgets/base",
      "model_module_version": "2.0.0",
      "model_name": "LayoutModel",
      "state": {}
     },
     "944f8c1aeeef48a588fec87394e20838": {
      "model_module": "@jupyter-widgets/controls",
      "model_module_version": "2.0.0",
      "model_name": "HTMLStyleModel",
      "state": {
       "description_width": "",
       "font_size": null,
       "text_color": null
      }
     },
     "94645990483544eb99a39cd8ed13b6e5": {
      "model_module": "@jupyter-widgets/controls",
      "model_module_version": "2.0.0",
      "model_name": "DescriptionStyleModel",
      "state": {
       "description_width": ""
      }
     },
     "9488adf2c2e44848b3a76b46e6d6f838": {
      "model_module": "@jupyter-widgets/controls",
      "model_module_version": "2.0.0",
      "model_name": "HTMLModel",
      "state": {
       "layout": "IPY_MODEL_6b22ce1676d649a9a0454d160654723d",
       "style": "IPY_MODEL_98dacf5a20b441a79d1eff2d185b228c",
       "value": "<span style=\"color:rgb(159, 114, 142)\"; \"font-size:10.0pt\">&nbsp&nbsp&nbsp&nbsp&nbsp&nbsp <b>#call_nr = 57 - #caller(s): activate_gui(), update_batch(), __call__()</b> &nbsp&nbsp&nbsp&nbsp&nbsp&nbsp</span><span style=\"color:rgb(159, 114, 142)\"; \"font-size:8.0pt\">999<br>&nbsp&nbsp&nbsp&nbsp&nbsp&nbsp -- <b>#call_nr = 57 </b> &nbsp&nbsp&nbsp&nbsp&nbsp&nbsp -- update<br>&nbsp&nbsp&nbsp&nbsp&nbsp&nbsp -- <b>#call_nr = 57 </b> &nbsp&nbsp&nbsp&nbsp&nbsp&nbsp -- False<br>&nbsp&nbsp&nbsp&nbsp&nbsp&nbsp -- <b>#call_nr = 57 </b> &nbsp&nbsp&nbsp&nbsp&nbsp&nbsp -- True<br>&nbsp&nbsp&nbsp&nbsp&nbsp&nbsp -- <b>#call_nr = 57 </b> &nbsp&nbsp&nbsp&nbsp&nbsp&nbsp -- Button(button_style='danger', description='Delete', disabled=True, icon='trash', style=ButtonStyle(), tooltip='Enabled in update mode...')</span>"
      }
     },
     "94b2a29d5690443194871d18d053ca99": {
      "model_module": "@jupyter-widgets/controls",
      "model_module_version": "2.0.0",
      "model_name": "HTMLStyleModel",
      "state": {
       "description_width": "",
       "font_size": null,
       "text_color": null
      }
     },
     "95ec2b9d5d234393af2d565107bb4339": {
      "model_module": "@jupyter-widgets/controls",
      "model_module_version": "2.0.0",
      "model_name": "HBoxModel",
      "state": {
       "children": [
        "IPY_MODEL_e64e881b2a4b460d8937c7811354ca4b",
        "IPY_MODEL_45435fb67ea54bf8aae2238cbfec4ed4",
        "IPY_MODEL_bc35ee9f8cfa4644a247482ff33409bf"
       ],
       "layout": "IPY_MODEL_9ef0b368be194b99b0258da3ba1d89a0"
      }
     },
     "96d8977ab181472f825f196e7edf9186": {
      "model_module": "@jupyter-widgets/controls",
      "model_module_version": "2.0.0",
      "model_name": "DescriptionStyleModel",
      "state": {
       "description_width": ""
      }
     },
     "97226e53c4a74c0fad2e3de3c2cf93db": {
      "model_module": "@jupyter-widgets/controls",
      "model_module_version": "2.0.0",
      "model_name": "HTMLStyleModel",
      "state": {
       "description_width": "",
       "font_size": null,
       "text_color": null
      }
     },
     "9750737cf37d41be84699e7d42747a39": {
      "model_module": "@jupyter-widgets/base",
      "model_module_version": "2.0.0",
      "model_name": "LayoutModel",
      "state": {
       "display": "none",
       "height": "auto",
       "min_width": "45%",
       "width": "auto"
      }
     },
     "976a90ada0cb45789be37d7a31e45743": {
      "model_module": "@jupyter-widgets/base",
      "model_module_version": "2.0.0",
      "model_name": "LayoutModel",
      "state": {}
     },
     "97aaad4dc7a34bb68812802e6af81a18": {
      "model_module": "@jupyter-widgets/base",
      "model_module_version": "2.0.0",
      "model_name": "LayoutModel",
      "state": {}
     },
     "97f0d596ed8c414abcaf857680a99814": {
      "model_module": "@jupyter-widgets/base",
      "model_module_version": "2.0.0",
      "model_name": "LayoutModel",
      "state": {}
     },
     "981405c58dcb4e59847225bb63501a25": {
      "model_module": "@jupyter-widgets/controls",
      "model_module_version": "2.0.0",
      "model_name": "HTMLModel",
      "state": {
       "layout": "IPY_MODEL_d133c23aebf14091841a51854eae95b4",
       "style": "IPY_MODEL_668900ec5e0e4720a450fe1cd1c8c321",
       "value": "<span style=\"color:rgb(97, 124, 64)\"; \"font-size:10.0pt\">&nbsp&nbsp&nbsp&nbsp&nbsp&nbsp <b>#call_nr = 153 - #caller(s): reset_var_buttons(), reset_selection(), _notify_observers()</b> &nbsp&nbsp&nbsp&nbsp&nbsp&nbsp</span><span style=\"color:rgb(97, 124, 64)\"; \"font-size:8.0pt\">reset_var_buttons()  -- restore buttons -- <br>&nbsp&nbsp&nbsp&nbsp&nbsp&nbsp -- <b>#call_nr = 153 </b> &nbsp&nbsp&nbsp&nbsp&nbsp&nbsp --  axis_ls = ['°C', 'mmol mol-1']<br>&nbsp&nbsp&nbsp&nbsp&nbsp&nbsp -- <b>#call_nr = 153 </b> &nbsp&nbsp&nbsp&nbsp&nbsp&nbsp --  btn.tooltip = °C<br>&nbsp&nbsp&nbsp&nbsp&nbsp&nbsp -- <b>#call_nr = 153 </b> &nbsp&nbsp&nbsp&nbsp&nbsp&nbsp --  Button = \"TA (ETC NRT Meteo)\"<br>&nbsp&nbsp&nbsp&nbsp&nbsp&nbsp -- <b>#call_nr = 153 </b> &nbsp&nbsp&nbsp&nbsp&nbsp&nbsp -- ---- enabled and checked</span>"
      }
     },
     "986826f66eaa40bebdec56ef7b7bd851": {
      "model_module": "@jupyter-widgets/controls",
      "model_module_version": "2.0.0",
      "model_name": "HTMLStyleModel",
      "state": {
       "description_width": "",
       "font_size": null,
       "text_color": null
      }
     },
     "98c6ed8028974a469168d5cd3f0dcce4": {
      "model_module": "@jupyter-widgets/base",
      "model_module_version": "2.0.0",
      "model_name": "LayoutModel",
      "state": {}
     },
     "98dacf5a20b441a79d1eff2d185b228c": {
      "model_module": "@jupyter-widgets/controls",
      "model_module_version": "2.0.0",
      "model_name": "HTMLStyleModel",
      "state": {
       "description_width": "",
       "font_size": null,
       "text_color": null
      }
     },
     "9903583bd1184dd0967532fb91ad7ce9": {
      "model_module": "@jupyter-widgets/base",
      "model_module_version": "2.0.0",
      "model_name": "LayoutModel",
      "state": {}
     },
     "9975140889d4410bb0047651b9a60196": {
      "model_module": "@jupyter-widgets/controls",
      "model_module_version": "2.0.0",
      "model_name": "HTMLModel",
      "state": {
       "layout": "IPY_MODEL_9e10308ce0e3454ea034ab0d18042816",
       "style": "IPY_MODEL_0e1102a159524f869247a45c80460f8d",
       "value": "<span style=\"color:rgb(97, 124, 64)\"; \"font-size:10.0pt\">&nbsp&nbsp&nbsp&nbsp&nbsp&nbsp <b>#call_nr = 152 - #caller(s): reset_var_buttons(), reset_selection(), _notify_observers()</b> &nbsp&nbsp&nbsp&nbsp&nbsp&nbsp</span><span style=\"color:rgb(97, 124, 64)\"; \"font-size:8.0pt\">reset_var_buttons()  -- restore buttons -- <br>&nbsp&nbsp&nbsp&nbsp&nbsp&nbsp -- <b>#call_nr = 152 </b> &nbsp&nbsp&nbsp&nbsp&nbsp&nbsp --  axis_ls = ['°C', 'mmol mol-1']<br>&nbsp&nbsp&nbsp&nbsp&nbsp&nbsp -- <b>#call_nr = 152 </b> &nbsp&nbsp&nbsp&nbsp&nbsp&nbsp --  btn.tooltip = mmol mol-1<br>&nbsp&nbsp&nbsp&nbsp&nbsp&nbsp -- <b>#call_nr = 152 </b> &nbsp&nbsp&nbsp&nbsp&nbsp&nbsp --  Button = \"H2O (ETC NRT Fluxes)\"<br>&nbsp&nbsp&nbsp&nbsp&nbsp&nbsp -- <b>#call_nr = 152 </b> &nbsp&nbsp&nbsp&nbsp&nbsp&nbsp -- ---- enabled and checked</span>"
      }
     },
     "99810d5a32f44f89b18bb696d3e7c674": {
      "model_module": "@jupyter-widgets/controls",
      "model_module_version": "2.0.0",
      "model_name": "HBoxModel",
      "state": {
       "children": [
        "IPY_MODEL_0583dc89cc8347ada7422301b8505194",
        "IPY_MODEL_90903cb47d0d4121ba8121c79a7f8c3e",
        "IPY_MODEL_a35fce313e1547c6be537c4d83de9e73"
       ],
       "layout": "IPY_MODEL_6f6a0c4ea2904e21b67cfdd1876e7b49"
      }
     },
     "998b9d8b22264aeea2d87796135181c3": {
      "model_module": "@jupyter-widgets/controls",
      "model_module_version": "2.0.0",
      "model_name": "VBoxModel",
      "state": {
       "children": [
        "IPY_MODEL_0b9b1b6db60146d691f64ccf61e201e6",
        "IPY_MODEL_2e4d32d712744e218b1c1f0e06e0c93e",
        "IPY_MODEL_5508f7b3c12c43baa32a3b7ff74f39d2"
       ],
       "layout": "IPY_MODEL_1e2a81dfbdfa47cca10c1bc9f3a49d85"
      }
     },
     "999b688cbbef4bd29cdf5dd70b01575f": {
      "model_module": "@jupyter-widgets/controls",
      "model_module_version": "2.0.0",
      "model_name": "HTMLModel",
      "state": {
       "layout": "IPY_MODEL_2ebd5a3e67d84b0ba2857c507bc15295",
       "style": "IPY_MODEL_325dd83b0d5b4e918e0fbbb89d218188",
       "value": "<span style=\"color:rgb(97, 124, 64)\"; \"font-size:10.0pt\">&nbsp&nbsp&nbsp&nbsp&nbsp&nbsp <b>#call_nr = 149 - #caller(s): reset_var_buttons(), reset_selection(), _notify_observers()</b> &nbsp&nbsp&nbsp&nbsp&nbsp&nbsp</span><span style=\"color:rgb(97, 124, 64)\"; \"font-size:8.0pt\">reset_var_buttons()  -- restore buttons -- <br>&nbsp&nbsp&nbsp&nbsp&nbsp&nbsp -- <b>#call_nr = 149 </b> &nbsp&nbsp&nbsp&nbsp&nbsp&nbsp --  axis_ls = ['°C', 'mmol mol-1']<br>&nbsp&nbsp&nbsp&nbsp&nbsp&nbsp -- <b>#call_nr = 149 </b> &nbsp&nbsp&nbsp&nbsp&nbsp&nbsp --  btn.tooltip = %<br>&nbsp&nbsp&nbsp&nbsp&nbsp&nbsp -- <b>#call_nr = 149 </b> &nbsp&nbsp&nbsp&nbsp&nbsp&nbsp --  Button = \"SWC_3 (ETC NRT Meteo)\"<br>&nbsp&nbsp&nbsp&nbsp&nbsp&nbsp -- <b>#call_nr = 149 </b> &nbsp&nbsp&nbsp&nbsp&nbsp&nbsp -- ---- disabled</span>"
      }
     },
     "99d37de657ba417cb61ed5f901f57bef": {
      "model_module": "@jupyter-widgets/base",
      "model_module_version": "2.0.0",
      "model_name": "LayoutModel",
      "state": {}
     },
     "99fafc829c5444cdacb84b6d39cfd154": {
      "model_module": "@jupyter-widgets/controls",
      "model_module_version": "2.0.0",
      "model_name": "HTMLStyleModel",
      "state": {
       "description_width": "",
       "font_size": null,
       "text_color": null
      }
     },
     "9a2f0479fd3243a2a76808ab16fced44": {
      "model_module": "@jupyter-widgets/controls",
      "model_module_version": "2.0.0",
      "model_name": "HTMLModel",
      "state": {
       "layout": "IPY_MODEL_5005da9b956549d6bb3318cdaecf7cb8",
       "style": "IPY_MODEL_874a1d7879fb4484bc22ea98f5745f4a",
       "value": "<span style=\"color:rgb(97, 124, 64)\"; \"font-size:10.0pt\">&nbsp&nbsp&nbsp&nbsp&nbsp&nbsp <b>#call_nr = 154 - #caller(s): reset_var_buttons(), reset_selection(), _notify_observers()</b> &nbsp&nbsp&nbsp&nbsp&nbsp&nbsp</span><span style=\"color:rgb(97, 124, 64)\"; \"font-size:8.0pt\">reset_var_buttons()  -- restore buttons -- <br>&nbsp&nbsp&nbsp&nbsp&nbsp&nbsp -- <b>#call_nr = 154 </b> &nbsp&nbsp&nbsp&nbsp&nbsp&nbsp --  axis_ls = ['°C', 'mmol mol-1']<br>&nbsp&nbsp&nbsp&nbsp&nbsp&nbsp -- <b>#call_nr = 154 </b> &nbsp&nbsp&nbsp&nbsp&nbsp&nbsp --  btn.tooltip = <br>&nbsp&nbsp&nbsp&nbsp&nbsp&nbsp -- <b>#call_nr = 154 </b> &nbsp&nbsp&nbsp&nbsp&nbsp&nbsp --  Button = \"Select all\"<br>&nbsp&nbsp&nbsp&nbsp&nbsp&nbsp -- <b>#call_nr = 154 </b> &nbsp&nbsp&nbsp&nbsp&nbsp&nbsp -- ---- disabled</span>"
      }
     },
     "9a39221cde5a4272a3586a94094a94e4": {
      "model_module": "@jupyter-widgets/base",
      "model_module_version": "2.0.0",
      "model_name": "LayoutModel",
      "state": {}
     },
     "9a42115445e141e8a3d7305f3beb87ba": {
      "model_module": "@jupyter-widgets/controls",
      "model_module_version": "2.0.0",
      "model_name": "HBoxModel",
      "state": {
       "children": [
        "IPY_MODEL_5a77b4eaded94426b644be02706ba43c",
        "IPY_MODEL_92cbb620b4054c9aafd953752f2fb9cd"
       ],
       "layout": "IPY_MODEL_b42c074c8d65425e88c8754217357099"
      }
     },
     "9a5e606106364e02a72cb580e5dd6990": {
      "model_module": "@jupyter-widgets/controls",
      "model_module_version": "2.0.0",
      "model_name": "HTMLModel",
      "state": {
       "layout": "IPY_MODEL_4f1806e9010d4e30abd0abfba2c95305",
       "style": "IPY_MODEL_e0ac8bfd4ae643a892ccbc4db64fb6b7",
       "value": "<span style=\"color:rgb(92, 150, 134)\"; \"font-size:10.0pt\">&nbsp&nbsp&nbsp&nbsp&nbsp&nbsp <b>#call_nr = 102 - #caller(s): set_batch_upd_dict(), update_batch_dict(), var_button_click()</b> &nbsp&nbsp&nbsp&nbsp&nbsp&nbsp</span><span style=\"color:rgb(92, 150, 134)\"; \"font-size:8.0pt\">set_batch_upd_dict()<br>&nbsp&nbsp&nbsp&nbsp&nbsp&nbsp -- <b>#call_nr = 102 </b> &nbsp&nbsp&nbsp&nbsp&nbsp&nbsp -- step 1<br>&nbsp&nbsp&nbsp&nbsp&nbsp&nbsp -- <b>#call_nr = 102 </b> &nbsp&nbsp&nbsp&nbsp&nbsp&nbsp -- d ={'_upd_mode': 'update', '_version': 1, '_orig_name': 'mp2 ', '_new_name': 'mp2 ', '_selected_tool_index': 1, '_tools': {0: {'multi_plot': [['%', [['SWC_5', 'ETC NRT Meteo', 'SE-Htm']]], ['mmol mol-1', [['H2O', 'ETC NRT Fluxes', 'SE-Htm']]]]}, 1: {'multi_plot': [('°C', [['TA', 'ETC NRT Meteo', 'SE-Htm']])]}}}</span>"
      }
     },
     "9a7ea993d3b64149a6d6a935a0106929": {
      "model_module": "@jupyter-widgets/controls",
      "model_module_version": "2.0.0",
      "model_name": "HTMLModel",
      "state": {
       "layout": "IPY_MODEL_e0cf303752674129824a0ef222f33def",
       "style": "IPY_MODEL_d9144d8fb9f740bfb28aaf9058b3c71b",
       "value": "<span style=\"color:rgb(112, 46, 5)\"; \"font-size:10.0pt\">&nbsp&nbsp&nbsp&nbsp&nbsp&nbsp <b>#call_nr = 43 - #caller(s): get_var2unit_dict(), var2unit(), init_group_var_buttons()</b> &nbsp&nbsp&nbsp&nbsp&nbsp&nbsp</span><span style=\"color:rgb(112, 46, 5)\"; \"font-size:8.0pt\">get_var2unit_dict()</span>"
      }
     },
     "9a832740bcec4f5b9ff1259e4c9bbcc2": {
      "model_module": "@jupyter-widgets/controls",
      "model_module_version": "2.0.0",
      "model_name": "HTMLStyleModel",
      "state": {
       "description_width": "",
       "font_size": null,
       "text_color": null
      }
     },
     "9ae55ff2251146b0b168bdff2f8642bf": {
      "model_module": "@jupyter-widgets/base",
      "model_module_version": "2.0.0",
      "model_name": "LayoutModel",
      "state": {}
     },
     "9af64a5423b94790b81b86f460e12e2b": {
      "model_module": "@jupyter-widgets/controls",
      "model_module_version": "2.0.0",
      "model_name": "HTMLModel",
      "state": {
       "layout": "IPY_MODEL_7ddf1e443e0045be9959f263befc5191",
       "style": "IPY_MODEL_abd84a64978c48e3becd23084bc28898",
       "value": "<span style=\"color:rgb(97, 124, 64)\"; \"font-size:10.0pt\">&nbsp&nbsp&nbsp&nbsp&nbsp&nbsp <b>#call_nr = 147 - #caller(s): reset_var_buttons(), reset_selection(), _notify_observers()</b> &nbsp&nbsp&nbsp&nbsp&nbsp&nbsp</span><span style=\"color:rgb(97, 124, 64)\"; \"font-size:8.0pt\">reset_var_buttons()  -- restore buttons -- <br>&nbsp&nbsp&nbsp&nbsp&nbsp&nbsp -- <b>#call_nr = 147 </b> &nbsp&nbsp&nbsp&nbsp&nbsp&nbsp --  axis_ls = ['°C', 'mmol mol-1']<br>&nbsp&nbsp&nbsp&nbsp&nbsp&nbsp -- <b>#call_nr = 147 </b> &nbsp&nbsp&nbsp&nbsp&nbsp&nbsp --  btn.tooltip = %<br>&nbsp&nbsp&nbsp&nbsp&nbsp&nbsp -- <b>#call_nr = 147 </b> &nbsp&nbsp&nbsp&nbsp&nbsp&nbsp --  Button = \"SWC_1 (ETC NRT Meteo)\"<br>&nbsp&nbsp&nbsp&nbsp&nbsp&nbsp -- <b>#call_nr = 147 </b> &nbsp&nbsp&nbsp&nbsp&nbsp&nbsp -- ---- disabled</span>"
      }
     },
     "9b8f7c9a1ae9435c86c47c06f2a2b2db": {
      "model_module": "@jupyter-widgets/base",
      "model_module_version": "2.0.0",
      "model_name": "LayoutModel",
      "state": {}
     },
     "9ce293fb526344f7a5f638e3baccd2ea": {
      "model_module": "@jupyter-widgets/controls",
      "model_module_version": "2.0.0",
      "model_name": "HBoxModel",
      "state": {
       "children": [
        "IPY_MODEL_c65771833bec47d785ede288a3646b4f",
        "IPY_MODEL_4bf3c991fa4247e395cd651c9d85bbec"
       ],
       "layout": "IPY_MODEL_e9e021af1a184b60b8073f040f618ed2"
      }
     },
     "9d0c1fa1c9734b3d97265d55d185e6c7": {
      "model_module": "@jupyter-widgets/controls",
      "model_module_version": "2.0.0",
      "model_name": "HTMLStyleModel",
      "state": {
       "description_width": "",
       "font_size": null,
       "text_color": null
      }
     },
     "9d18e2c3d96d4af3b941d88e0ca49b4b": {
      "model_module": "@jupyter-widgets/base",
      "model_module_version": "2.0.0",
      "model_name": "LayoutModel",
      "state": {
       "max_width": "auto",
       "min_width": "210px"
      }
     },
     "9d34f790b59444a8b9e4191c71023757": {
      "model_module": "@jupyter-widgets/controls",
      "model_module_version": "2.0.0",
      "model_name": "HTMLModel",
      "state": {
       "layout": "IPY_MODEL_1c1591fa21e743d199c130d32ed75cdd",
       "style": "IPY_MODEL_8a24d4e0cea542aa981b53b6e9bd9293",
       "value": "<span style=\"color:rgb(51, 49, 148)\"; \"font-size:10.0pt\">&nbsp&nbsp&nbsp&nbsp&nbsp&nbsp <b>#call_nr = 175 - #caller(s): changed_batch_drop(), _notify_observers(), notify_change()</b> &nbsp&nbsp&nbsp&nbsp&nbsp&nbsp</span><span style=\"color:rgb(51, 49, 148)\"; \"font-size:8.0pt\">changed_batch_drop()<br>&nbsp&nbsp&nbsp&nbsp&nbsp&nbsp -- <b>#call_nr = 175 </b> &nbsp&nbsp&nbsp&nbsp&nbsp&nbsp -- - step 1 - batch value changed, reset displayed selections<br>&nbsp&nbsp&nbsp&nbsp&nbsp&nbsp -- <b>#call_nr = 175 </b> &nbsp&nbsp&nbsp&nbsp&nbsp&nbsp -- c = {'name': 'value', 'old': {'0': {'multi_plot': [['%', [['SWC_5', 'ETC NRT Meteo', 'SE-Htm'], ['SWC_1', 'ETC NRT Meteo', 'SE-Htm']]], ['mmol mol-1', [['H2O', 'ETC NRT Fluxes', 'SE-Htm']]]]}, '_version': '3'}, 'new': {'0': {'multi_plot': [['%', [['SWC_5', 'ETC NRT Meteo', 'SE-Htm']]], ['mmol mol-1', [['H2O', 'ETC NRT Fluxes', 'SE-Htm']]]]}, '1': {'multi_plot': [('°C', [['TA', 'ETC NRT Meteo', 'SE-Htm']]), ('mmol mol-1', [['H2O', 'ETC NRT Fluxes', 'SE-Htm']])]}, '_version': '2'}, 'owner': Dropdown(disabled=True, index=1, layout=Layout(height='40px', width='auto'), options=(('mp1', {'0': {'multi_plot': [['%', [['SWC_5', 'ETC NRT Meteo', 'SE-Htm'], ['SWC_1', 'ETC NRT Meteo', 'SE-Htm']]], ['mmol mol-1', [['H2O', 'ETC NRT Fluxes', 'SE-Htm']]]]}, '_version': '3'}), ('mp2 ', {'0': {'multi_plot': [['%', [['SWC_5', 'ETC NRT Meteo', 'SE-Htm']]], ['mmol mol-1', [['H2O', 'ETC NRT Fluxes', 'SE-Htm']]]]}, '1': {'multi_plot': [('°C', [['TA', 'ETC NRT Meteo', 'SE-Htm']]), ('mmol mol-1', [['H2O', 'ETC NRT Fluxes', 'SE-Htm']])]}, '_version': '2'}), ('sp1', {'0': {'split_plot': [['H2O', 'ETC NRT Fluxes', 'SE-Htm'], ['TA', 'ETC NRT Meteo', 'SE-Htm'], ['SWC_3', 'ETC NRT Meteo', 'SE-Htm']]}, '_version': '3'}), ('split and mult', {'0': {'split_plot': [['SWC_1', 'ETC NRT Meteo', 'SE-Htm'], ['SWC_2', 'ETC NRT Meteo', 'SE-Htm'], ['SWC_3', 'ETC NRT Meteo', 'SE-Htm'], ['SWC_4', 'ETC NRT Meteo', 'SE-Htm'], ['SWC_5', 'ETC NRT Meteo', 'SE-Htm']]}, '1': {'multi_plot': [['%', [['SWC_1', 'ETC NRT Meteo', 'SE-Htm'], ['SWC_5', 'ETC NRT Meteo', 'SE-Htm'], ['SWC_2', 'ETC NRT Meteo', 'SE-Htm'], ['SWC_3', 'ETC NRT Meteo', 'SE-Htm']]], ['mmol mol-1', [['H2O', 'ETC NRT Fluxes', 'SE-Htm']]]]}, '2': {'multi_plot': [['%', [['SWC_1', 'ETC NRT Meteo', 'SE-Htm'], ['SWC_5', 'ETC NRT Meteo', 'SE-Htm']]]]}, '_version': '2'})), tooltip='Name of batch job', value={'0': {'multi_plot': [['%', [['SWC_5', 'ETC NRT Meteo', 'SE-Htm']]], ['mmol mol-1', [['H2O', 'ETC NRT Fluxes', 'SE-Htm']]]]}, '1': {'multi_plot': [('°C', [['TA', 'ETC NRT Meteo', 'SE-Htm']]), ('mmol mol-1', [['H2O', 'ETC NRT Fluxes', 'SE-Htm']])]}, '_version': '2'}), 'type': 'change'}<br>&nbsp&nbsp&nbsp&nbsp&nbsp&nbsp -- <b>#call_nr = 175 </b> &nbsp&nbsp&nbsp&nbsp&nbsp&nbsp -- batch_drop.label = mp2 <br>&nbsp&nbsp&nbsp&nbsp&nbsp&nbsp -- <b>#call_nr = 175 </b> &nbsp&nbsp&nbsp&nbsp&nbsp&nbsp -- batch_drop.value = {'0': {'multi_plot': [['%', [['SWC_5', 'ETC NRT Meteo', 'SE-Htm']]], ['mmol mol-1', [['H2O', 'ETC NRT Fluxes', 'SE-Htm']]]]}, '1': {'multi_plot': [('°C', [['TA', 'ETC NRT Meteo', 'SE-Htm']]), ('mmol mol-1', [['H2O', 'ETC NRT Fluxes', 'SE-Htm']])]}, '_version': '2'}</span>"
      }
     },
     "9ddfeb01225a402696bb0705325474f0": {
      "model_module": "@jupyter-widgets/controls",
      "model_module_version": "2.0.0",
      "model_name": "HTMLModel",
      "state": {
       "layout": "IPY_MODEL_5a16d741274e4b49ae10a166057a949e",
       "style": "IPY_MODEL_4068d63487194569bb5a19297cc6afcb",
       "value": "<span style=\"color:rgb(128, 100, 39)\"; \"font-size:10.0pt\">&nbsp&nbsp&nbsp&nbsp&nbsp&nbsp <b>#call_nr = 52 - #caller(s): var2unit(), init_group_var_buttons(), activate_gui()</b> &nbsp&nbsp&nbsp&nbsp&nbsp&nbsp</span><span style=\"color:rgb(128, 100, 39)\"; \"font-size:8.0pt\">var2unit()<br>&nbsp&nbsp&nbsp&nbsp&nbsp&nbsp -- <b>#call_nr = 52 </b> &nbsp&nbsp&nbsp&nbsp&nbsp&nbsp -- var = ['SWC_5', 'ETC NRT Meteo', 'SE-Htm']<br>&nbsp&nbsp&nbsp&nbsp&nbsp&nbsp -- <b>#call_nr = 52 </b> &nbsp&nbsp&nbsp&nbsp&nbsp&nbsp -- return unit = %</span>"
      }
     },
     "9e10308ce0e3454ea034ab0d18042816": {
      "model_module": "@jupyter-widgets/base",
      "model_module_version": "2.0.0",
      "model_name": "LayoutModel",
      "state": {}
     },
     "9e383f18633b40689327191b50813eb0": {
      "model_module": "@jupyter-widgets/base",
      "model_module_version": "2.0.0",
      "model_name": "LayoutModel",
      "state": {}
     },
     "9ee1d9cd42684c719c3edd6c2f683801": {
      "model_module": "@jupyter-widgets/controls",
      "model_module_version": "2.0.0",
      "model_name": "HTMLStyleModel",
      "state": {
       "description_width": "",
       "font_size": null,
       "text_color": null
      }
     },
     "9ef0b368be194b99b0258da3ba1d89a0": {
      "model_module": "@jupyter-widgets/base",
      "model_module_version": "2.0.0",
      "model_name": "LayoutModel",
      "state": {}
     },
     "9f20827db6114605b7f50f6bdcb00378": {
      "model_module": "@jupyter-widgets/controls",
      "model_module_version": "2.0.0",
      "model_name": "HTMLStyleModel",
      "state": {
       "description_width": "",
       "font_size": null,
       "text_color": null
      }
     },
     "9f82e4859d1d49b991112c45ead13ae6": {
      "model_module": "@jupyter-widgets/controls",
      "model_module_version": "2.0.0",
      "model_name": "HTMLModel",
      "state": {
       "layout": "IPY_MODEL_9ff78079bcce42da898628d787632cd1",
       "style": "IPY_MODEL_251510b9dda3406ca9a8820f7d3b51ef",
       "value": "<span style=\"color:rgb(128, 100, 39)\"; \"font-size:10.0pt\">&nbsp&nbsp&nbsp&nbsp&nbsp&nbsp <b>#call_nr = 46 - #caller(s): var2unit(), init_group_var_buttons(), activate_gui()</b> &nbsp&nbsp&nbsp&nbsp&nbsp&nbsp</span><span style=\"color:rgb(128, 100, 39)\"; \"font-size:8.0pt\">var2unit()<br>&nbsp&nbsp&nbsp&nbsp&nbsp&nbsp -- <b>#call_nr = 46 </b> &nbsp&nbsp&nbsp&nbsp&nbsp&nbsp -- var = ['SWC_2', 'ETC NRT Meteo', 'SE-Htm']<br>&nbsp&nbsp&nbsp&nbsp&nbsp&nbsp -- <b>#call_nr = 46 </b> &nbsp&nbsp&nbsp&nbsp&nbsp&nbsp -- return unit = %</span>"
      }
     },
     "9ff78079bcce42da898628d787632cd1": {
      "model_module": "@jupyter-widgets/base",
      "model_module_version": "2.0.0",
      "model_name": "LayoutModel",
      "state": {}
     },
     "a011263c8eaf4bddb51ce1b8288ed381": {
      "model_module": "@jupyter-widgets/base",
      "model_module_version": "2.0.0",
      "model_name": "LayoutModel",
      "state": {
       "max_width": "auto",
       "min_width": "100px"
      }
     },
     "a014525179ba4291967468289fa6956a": {
      "model_module": "@jupyter-widgets/base",
      "model_module_version": "2.0.0",
      "model_name": "LayoutModel",
      "state": {
       "height": "40px",
       "width": "auto"
      }
     },
     "a018739228b3402790965a36f12134ca": {
      "model_module": "@jupyter-widgets/base",
      "model_module_version": "2.0.0",
      "model_name": "LayoutModel",
      "state": {}
     },
     "a02235e120994bffb1c699505cac7cdb": {
      "model_module": "@jupyter-widgets/controls",
      "model_module_version": "2.0.0",
      "model_name": "HTMLStyleModel",
      "state": {
       "description_width": "",
       "font_size": null,
       "text_color": null
      }
     },
     "a07482048005439db0aca9d2b7eb86c4": {
      "model_module": "@jupyter-widgets/controls",
      "model_module_version": "2.0.0",
      "model_name": "ButtonStyleModel",
      "state": {
       "button_color": "LightSeaGreen",
       "font_family": null,
       "font_size": null,
       "font_style": null,
       "font_variant": null,
       "font_weight": null,
       "text_color": null,
       "text_decoration": null
      }
     },
     "a0813315c1894f7ca9f1856c1fe7caf3": {
      "model_module": "@jupyter-widgets/controls",
      "model_module_version": "2.0.0",
      "model_name": "DescriptionStyleModel",
      "state": {
       "description_width": ""
      }
     },
     "a0b4bd05a524478a8b040ff6f428a5df": {
      "model_module": "@jupyter-widgets/controls",
      "model_module_version": "2.0.0",
      "model_name": "HTMLStyleModel",
      "state": {
       "description_width": "",
       "font_size": null,
       "text_color": null
      }
     },
     "a0de54f61e2247038062bbded43b6c06": {
      "model_module": "@jupyter-widgets/controls",
      "model_module_version": "2.0.0",
      "model_name": "HBoxModel",
      "state": {
       "children": [
        "IPY_MODEL_6b418a1bb4634371b96e7e2d394ad5e7",
        "IPY_MODEL_0ff9200379734843bff87e0d8c61c104",
        "IPY_MODEL_42982ba06e5d426396677c22a2d36c86",
        "IPY_MODEL_5af2ff6778f442abb02a85d48327fdad",
        "IPY_MODEL_a46432c11fce489aacac0a6beda589dd",
        "IPY_MODEL_cb84ebfc9c5e4f5792e914a4c3cd25d2",
        "IPY_MODEL_cfb96bff571c4786a9e449bd18581e6f",
        "IPY_MODEL_918be4ee1b854be8bc4204104d0fea3f"
       ],
       "layout": "IPY_MODEL_c963e5eb45a7411691384fe325340f97"
      }
     },
     "a136bc642bcb4aefb28c5976bad86293": {
      "model_module": "@jupyter-widgets/controls",
      "model_module_version": "2.0.0",
      "model_name": "HTMLStyleModel",
      "state": {
       "description_width": "",
       "font_size": null,
       "text_color": null
      }
     },
     "a1689089430742ca95fbc44585cdc35c": {
      "model_module": "@jupyter-widgets/controls",
      "model_module_version": "2.0.0",
      "model_name": "HTMLStyleModel",
      "state": {
       "description_width": "",
       "font_size": null,
       "text_color": null
      }
     },
     "a1bb6c303a834d678efd53f76b25a6e0": {
      "model_module": "@jupyter-widgets/controls",
      "model_module_version": "2.0.0",
      "model_name": "HTMLModel",
      "state": {
       "layout": "IPY_MODEL_6fa0e286ec9b4794b05995ccec737348",
       "style": "IPY_MODEL_3da4134e6f734f5d8f75bdf9ea69e751",
       "value": "<span style=\"color:rgb(87, 176, 53)\"; \"font-size:10.0pt\">&nbsp&nbsp&nbsp&nbsp&nbsp&nbsp <b>#call_nr = 111 - #caller(s): get_var_translation_dict(), reset_var_buttons(), reset_selection()</b> &nbsp&nbsp&nbsp&nbsp&nbsp&nbsp</span><span style=\"color:rgb(87, 176, 53)\"; \"font-size:8.0pt\">get_var_translation_dict()<br>&nbsp&nbsp&nbsp&nbsp&nbsp&nbsp -- <b>#call_nr = 111 </b> &nbsp&nbsp&nbsp&nbsp&nbsp&nbsp -- var_translation_dict.value = {'SWC_1 (ETC NRT Meteo)': ['SWC_1', 'ETC NRT Meteo', 'SE-Htm'], 'SWC_2 (ETC NRT Meteo)': ['SWC_2', 'ETC NRT Meteo', 'SE-Htm'], 'SWC_3 (ETC NRT Meteo)': ['SWC_3', 'ETC NRT Meteo', 'SE-Htm'], 'SWC_4 (ETC NRT Meteo)': ['SWC_4', 'ETC NRT Meteo', 'SE-Htm'], 'SWC_5 (ETC NRT Meteo)': ['SWC_5', 'ETC NRT Meteo', 'SE-Htm'], 'H2O (ETC NRT Fluxes)': ['H2O', 'ETC NRT Fluxes', 'SE-Htm'], 'TA (ETC NRT Meteo)': ['TA', 'ETC NRT Meteo', 'SE-Htm'], 'Select all': 'All variables'}</span>"
      }
     },
     "a1e8a83731974fba9ead052a86197286": {
      "model_module": "@jupyter-widgets/base",
      "model_module_version": "2.0.0",
      "model_name": "LayoutModel",
      "state": {}
     },
     "a1f93e9e9339482a912bc2deec0fb3a2": {
      "model_module": "@jupyter-widgets/controls",
      "model_module_version": "2.0.0",
      "model_name": "HTMLStyleModel",
      "state": {
       "description_width": "",
       "font_size": null,
       "text_color": null
      }
     },
     "a23bb14246864bcf99bf595171a1c145": {
      "model_module": "@jupyter-widgets/base",
      "model_module_version": "2.0.0",
      "model_name": "LayoutModel",
      "state": {}
     },
     "a25ee7c8d53549b4a178166825230dbd": {
      "model_module": "@jupyter-widgets/controls",
      "model_module_version": "2.0.0",
      "model_name": "AccordionModel",
      "state": {
       "children": [
        "IPY_MODEL_a2db5151c71341d595a98b58069db0c2"
       ],
       "layout": "IPY_MODEL_03118687d58242c2ad4a6e2616bcca20",
       "titles": [
        "Split-plot settings"
       ]
      }
     },
     "a26e1b967c8e4efbb0e92e1b1cd68d13": {
      "model_module": "@jupyter-widgets/controls",
      "model_module_version": "2.0.0",
      "model_name": "HTMLModel",
      "state": {
       "layout": "IPY_MODEL_bcd8f1ec1fdd419286eff5d61ffebca9",
       "style": "IPY_MODEL_4587b65b82834de89d2924da2cbcbb4e",
       "value": "<span style=\"color:rgb(174, 175, 106)\"; \"font-size:10.0pt\">&nbsp&nbsp&nbsp&nbsp&nbsp&nbsp <b>#call_nr = 13 - #caller(s): get_batch_upd_dict(), reset_selection(), _notify_observers()</b> &nbsp&nbsp&nbsp&nbsp&nbsp&nbsp</span><span style=\"color:rgb(174, 175, 106)\"; \"font-size:8.0pt\">get_batch_upd_dict()<br>&nbsp&nbsp&nbsp&nbsp&nbsp&nbsp -- <b>#call_nr = 13 </b> &nbsp&nbsp&nbsp&nbsp&nbsp&nbsp -- d ={'_upd_mode': 'read_mode_with_batch', '_selected_tool_index': None, '_version': '1', '_tools': {0: {'multi_plot': [['%', [['SWC_5', 'ETC NRT Meteo', 'SE-Htm']]], ['mmol mol-1', [['H2O', 'ETC NRT Fluxes', 'SE-Htm']]]]}}}</span>"
      }
     },
     "a2c036c75926471e9ab2fa248bf6608b": {
      "model_module": "@jupyter-widgets/controls",
      "model_module_version": "2.0.0",
      "model_name": "ButtonStyleModel",
      "state": {
       "font_family": null,
       "font_size": null,
       "font_style": null,
       "font_variant": null,
       "font_weight": null,
       "text_color": null,
       "text_decoration": null
      }
     },
     "a2db5151c71341d595a98b58069db0c2": {
      "model_module": "@jupyter-widgets/controls",
      "model_module_version": "2.0.0",
      "model_name": "VBoxModel",
      "state": {
       "children": [
        "IPY_MODEL_adb50a2ca0d14846aeff66cb752896cb",
        "IPY_MODEL_5fedaeea6c9e4ce7ac77ff967ae7e538"
       ],
       "layout": "IPY_MODEL_8200d7d03cf948c695ce2ae121cba77b"
      }
     },
     "a35fce313e1547c6be537c4d83de9e73": {
      "model_module": "@jupyter-widgets/controls",
      "model_module_version": "2.0.0",
      "model_name": "AccordionModel",
      "state": {
       "children": [
        "IPY_MODEL_2f9375cbe407402893dc6754aa7c311f"
       ],
       "layout": "IPY_MODEL_6f6a0c4ea2904e21b67cfdd1876e7b49",
       "titles": [
        "Content of group Meteo SWC"
       ]
      }
     },
     "a39c413300694ae9ad6dc6ce7ce98d3b": {
      "model_module": "@jupyter-widgets/controls",
      "model_module_version": "2.0.0",
      "model_name": "DescriptionStyleModel",
      "state": {
       "description_width": ""
      }
     },
     "a3acba5110464bab8e218a34b0ff911a": {
      "model_module": "@jupyter-widgets/controls",
      "model_module_version": "2.0.0",
      "model_name": "HBoxModel",
      "state": {
       "children": [
        "IPY_MODEL_87306de3809247ef8074f14fb3f5bbce",
        "IPY_MODEL_de4aed5ec3b449edb7dcf6c6197fb917"
       ],
       "layout": "IPY_MODEL_cf76a55fb7c046438c8d396f3b578b05"
      }
     },
     "a3dfbc4ca7d643ff9c7e341d59bb1229": {
      "model_module": "@jupyter-widgets/controls",
      "model_module_version": "2.0.0",
      "model_name": "HTMLModel",
      "state": {
       "layout": "IPY_MODEL_715f2bb38105461f8c6d4ac481cdb0eb",
       "style": "IPY_MODEL_cc8375066b6c44cfad39237812475bd0",
       "value": "<span style=\"color:rgb(174, 175, 106)\"; \"font-size:10.0pt\">&nbsp&nbsp&nbsp&nbsp&nbsp&nbsp <b>#call_nr = 110 - #caller(s): get_batch_upd_dict(), reset_var_buttons(), reset_selection()</b> &nbsp&nbsp&nbsp&nbsp&nbsp&nbsp</span><span style=\"color:rgb(174, 175, 106)\"; \"font-size:8.0pt\">get_batch_upd_dict()<br>&nbsp&nbsp&nbsp&nbsp&nbsp&nbsp -- <b>#call_nr = 110 </b> &nbsp&nbsp&nbsp&nbsp&nbsp&nbsp -- d ={'_upd_mode': 'update', '_version': 1, '_orig_name': 'mp2 ', '_new_name': 'mp2 ', '_selected_tool_index': 1, '_tools': {0: {'multi_plot': [['%', [['SWC_5', 'ETC NRT Meteo', 'SE-Htm']]], ['mmol mol-1', [['H2O', 'ETC NRT Fluxes', 'SE-Htm']]]]}, 1: {'multi_plot': [('°C', [['TA', 'ETC NRT Meteo', 'SE-Htm']])]}}}</span>"
      }
     },
     "a41bd19e3d9a433d8720b7202e0259f6": {
      "model_module": "@jupyter-widgets/controls",
      "model_module_version": "2.0.0",
      "model_name": "DescriptionStyleModel",
      "state": {
       "description_width": ""
      }
     },
     "a420a914d5c44a7f8a5dcc02bd61a88c": {
      "model_module": "@jupyter-widgets/base",
      "model_module_version": "2.0.0",
      "model_name": "LayoutModel",
      "state": {}
     },
     "a46432c11fce489aacac0a6beda589dd": {
      "model_module": "@jupyter-widgets/controls",
      "model_module_version": "2.0.0",
      "model_name": "ButtonModel",
      "state": {
       "description": "SWC_5 (ETC NRT Meteo)",
       "disabled": true,
       "layout": "IPY_MODEL_c85f707fc58542dd9086d8f72aebdfc7",
       "style": "IPY_MODEL_a07482048005439db0aca9d2b7eb86c4",
       "tooltip": "%"
      }
     },
     "a470ab3a2b774623a190435b3b1d436e": {
      "model_module": "@jupyter-widgets/controls",
      "model_module_version": "2.0.0",
      "model_name": "HTMLStyleModel",
      "state": {
       "description_width": "",
       "font_size": null,
       "text_color": null
      }
     },
     "a50857ca1c114ce7aa7ba942839a4cb7": {
      "model_module": "@jupyter-widgets/controls",
      "model_module_version": "2.0.0",
      "model_name": "HTMLStyleModel",
      "state": {
       "description_width": "",
       "font_size": null,
       "text_color": null
      }
     },
     "a52ecb9bf8564fc9862b3c2924c3b74b": {
      "model_module": "@jupyter-widgets/controls",
      "model_module_version": "2.0.0",
      "model_name": "HTMLModel",
      "state": {
       "layout": "IPY_MODEL_99d37de657ba417cb61ed5f901f57bef",
       "style": "IPY_MODEL_ac80f8b1465e4c45b27a77bfa7b428bd",
       "value": "<span style=\"color:rgb(87, 176, 53)\"; \"font-size:10.0pt\">&nbsp&nbsp&nbsp&nbsp&nbsp&nbsp <b>#call_nr = 143 - #caller(s): get_var_translation_dict(), reset_var_buttons(), reset_selection()</b> &nbsp&nbsp&nbsp&nbsp&nbsp&nbsp</span><span style=\"color:rgb(87, 176, 53)\"; \"font-size:8.0pt\">get_var_translation_dict()<br>&nbsp&nbsp&nbsp&nbsp&nbsp&nbsp -- <b>#call_nr = 143 </b> &nbsp&nbsp&nbsp&nbsp&nbsp&nbsp -- var_translation_dict.value = {'SWC_1 (ETC NRT Meteo)': ['SWC_1', 'ETC NRT Meteo', 'SE-Htm'], 'SWC_2 (ETC NRT Meteo)': ['SWC_2', 'ETC NRT Meteo', 'SE-Htm'], 'SWC_3 (ETC NRT Meteo)': ['SWC_3', 'ETC NRT Meteo', 'SE-Htm'], 'SWC_4 (ETC NRT Meteo)': ['SWC_4', 'ETC NRT Meteo', 'SE-Htm'], 'SWC_5 (ETC NRT Meteo)': ['SWC_5', 'ETC NRT Meteo', 'SE-Htm'], 'H2O (ETC NRT Fluxes)': ['H2O', 'ETC NRT Fluxes', 'SE-Htm'], 'TA (ETC NRT Meteo)': ['TA', 'ETC NRT Meteo', 'SE-Htm'], 'Select all': 'All variables'}</span>"
      }
     },
     "a5707edbfc284ef59c9b71409155b9ce": {
      "model_module": "@jupyter-widgets/controls",
      "model_module_version": "2.0.0",
      "model_name": "DescriptionStyleModel",
      "state": {
       "description_width": ""
      }
     },
     "a5b035b16aea4f2785ec3b82dcb68d1f": {
      "model_module": "@jupyter-widgets/controls",
      "model_module_version": "2.0.0",
      "model_name": "HTMLStyleModel",
      "state": {
       "description_width": "",
       "font_size": null,
       "text_color": null
      }
     },
     "a68f30dc77814457b3cb3fe95ff3899d": {
      "model_module": "@jupyter-widgets/controls",
      "model_module_version": "2.0.0",
      "model_name": "HTMLStyleModel",
      "state": {
       "description_width": "",
       "font_size": null,
       "text_color": null
      }
     },
     "a6df15dc1d614e9393407a9c161dd3c4": {
      "model_module": "@jupyter-widgets/controls",
      "model_module_version": "2.0.0",
      "model_name": "HTMLStyleModel",
      "state": {
       "description_width": "",
       "font_size": null,
       "text_color": null
      }
     },
     "a75091b1b4104cd49f6ffd1aa4b74a12": {
      "model_module": "@jupyter-widgets/base",
      "model_module_version": "2.0.0",
      "model_name": "LayoutModel",
      "state": {}
     },
     "a80828ce6e6f4551b9b805b969140539": {
      "model_module": "@jupyter-widgets/controls",
      "model_module_version": "2.0.0",
      "model_name": "VBoxModel",
      "state": {
       "children": [
        "IPY_MODEL_1fa32c1b189f4146949779ba1a697d07",
        "IPY_MODEL_38f488a3202742a78b1e1cef7a53cc71"
       ],
       "layout": "IPY_MODEL_a23bb14246864bcf99bf595171a1c145"
      }
     },
     "a82d9cc78b914e6598d58f98b47fe35c": {
      "model_module": "@jupyter-widgets/controls",
      "model_module_version": "2.0.0",
      "model_name": "HTMLModel",
      "state": {
       "layout": "IPY_MODEL_54065f6c61354e8996d03dd0df1bd9bd",
       "style": "IPY_MODEL_1b26b34228a74b088ada35ff012e0910",
       "value": "<b>End date =</b> The number of days <i>before</i> today:"
      }
     },
     "a905405206fb4f0ba1c3f24dfa917f26": {
      "model_module": "@jupyter-widgets/controls",
      "model_module_version": "2.0.0",
      "model_name": "ButtonModel",
      "state": {
       "description": "Split-plot",
       "layout": "IPY_MODEL_a011263c8eaf4bddb51ce1b8288ed381",
       "style": "IPY_MODEL_5b2d5009105c4c938659c2d655df41c2",
       "tooltip": null
      }
     },
     "a95293a8c827448bbb7943b6fc7156a4": {
      "model_module": "@jupyter-widgets/controls",
      "model_module_version": "2.0.0",
      "model_name": "HTMLModel",
      "state": {
       "layout": "IPY_MODEL_e5a09f6cc5504d9cbc9b19752032a013",
       "style": "IPY_MODEL_70dc32ab5e8a44faa4bc227ddc9ae05e",
       "value": "<span style=\"color:rgb(97, 124, 64)\"; \"font-size:10.0pt\">&nbsp&nbsp&nbsp&nbsp&nbsp&nbsp <b>#call_nr = 141 - #caller(s): reset_var_buttons(), reset_selection(), _notify_observers()</b> &nbsp&nbsp&nbsp&nbsp&nbsp&nbsp</span><span style=\"color:rgb(97, 124, 64)\"; \"font-size:8.0pt\">reset_var_buttons()   --- start ---<br>&nbsp&nbsp&nbsp&nbsp&nbsp&nbsp -- <b>#call_nr = 141 </b> &nbsp&nbsp&nbsp&nbsp&nbsp&nbsp --   - index of selected_tools = 1</span>"
      }
     },
     "a9906cbea7ee4907832cd4c8947ff97f": {
      "model_module": "@jupyter-widgets/base",
      "model_module_version": "2.0.0",
      "model_name": "LayoutModel",
      "state": {
       "min_width": "200px"
      }
     },
     "a991fe2a0c3a4f24927edbc617e01591": {
      "model_module": "@jupyter-widgets/controls",
      "model_module_version": "2.0.0",
      "model_name": "FloatTextModel",
      "state": {
       "layout": "IPY_MODEL_8fd7fc9f027d42a4b7812d9ecf7da6f7",
       "step": null,
       "style": "IPY_MODEL_94645990483544eb99a39cd8ed13b6e5"
      }
     },
     "aa006d32dbfa4cd9a73603427c99d409": {
      "model_module": "@jupyter-widgets/controls",
      "model_module_version": "2.0.0",
      "model_name": "HTMLModel",
      "state": {
       "layout": "IPY_MODEL_57e450bc0dbc4325827e56ac3ee4f51d",
       "style": "IPY_MODEL_7a2e23751d9949f7bd5d29f1f01cfd6f",
       "value": "<span style=\"color:rgb(92, 150, 134)\"; \"font-size:10.0pt\">&nbsp&nbsp&nbsp&nbsp&nbsp&nbsp <b>#call_nr = 36 - #caller(s): set_batch_upd_dict(), update_batch(), __call__()</b> &nbsp&nbsp&nbsp&nbsp&nbsp&nbsp</span><span style=\"color:rgb(92, 150, 134)\"; \"font-size:8.0pt\">set_batch_upd_dict()<br>&nbsp&nbsp&nbsp&nbsp&nbsp&nbsp -- <b>#call_nr = 36 </b> &nbsp&nbsp&nbsp&nbsp&nbsp&nbsp -- step 2<br>&nbsp&nbsp&nbsp&nbsp&nbsp&nbsp -- <b>#call_nr = 36 </b> &nbsp&nbsp&nbsp&nbsp&nbsp&nbsp -- upd_dict_log.value ={'_upd_mode': 'update', '_version': 1, '_orig_name': 'mp2 ', '_new_name': 'mp2 ', '_selected_tool_index': None, '_tools': {'0': {'multi_plot': [['%', [['SWC_5', 'ETC NRT Meteo', 'SE-Htm']]], ['mmol mol-1', [['H2O', 'ETC NRT Fluxes', 'SE-Htm']]]]}}}</span>"
      }
     },
     "aa69c0ba3ec943e5be257ecd809a7888": {
      "model_module": "@jupyter-widgets/base",
      "model_module_version": "2.0.0",
      "model_name": "LayoutModel",
      "state": {}
     },
     "aa7f6fb024bd4c608973fc81fe7d0182": {
      "model_module": "@jupyter-widgets/output",
      "model_module_version": "1.0.0",
      "model_name": "OutputModel",
      "state": {
       "layout": "IPY_MODEL_d236be56b0f347439afedd0a2ece5cb4"
      }
     },
     "ab2f018fae7c4926b398ba15a944e8cb": {
      "model_module": "@jupyter-widgets/controls",
      "model_module_version": "2.0.0",
      "model_name": "HTMLModel",
      "state": {
       "layout": "IPY_MODEL_a75091b1b4104cd49f6ffd1aa4b74a12",
       "style": "IPY_MODEL_3bcadaaa8cd949a8b256f1f8c2f57158",
       "value": "<span style=\"color:rgb(128, 100, 39)\"; \"font-size:10.0pt\">&nbsp&nbsp&nbsp&nbsp&nbsp&nbsp <b>#call_nr = 56 - #caller(s): var2unit(), init_group_var_buttons(), activate_gui()</b> &nbsp&nbsp&nbsp&nbsp&nbsp&nbsp</span><span style=\"color:rgb(128, 100, 39)\"; \"font-size:8.0pt\">var2unit()<br>&nbsp&nbsp&nbsp&nbsp&nbsp&nbsp -- <b>#call_nr = 56 </b> &nbsp&nbsp&nbsp&nbsp&nbsp&nbsp -- var = ['TA', 'ETC NRT Meteo', 'SE-Htm']<br>&nbsp&nbsp&nbsp&nbsp&nbsp&nbsp -- <b>#call_nr = 56 </b> &nbsp&nbsp&nbsp&nbsp&nbsp&nbsp -- return unit = °C</span>"
      }
     },
     "ab57c5c201d24822ba44f2c056105391": {
      "model_module": "@jupyter-widgets/base",
      "model_module_version": "2.0.0",
      "model_name": "LayoutModel",
      "state": {}
     },
     "ab6f02f1b7674d94a2781eac65cb1afc": {
      "model_module": "@jupyter-widgets/base",
      "model_module_version": "2.0.0",
      "model_name": "LayoutModel",
      "state": {}
     },
     "ab70e4131f2c4a32927fb88e257c9817": {
      "model_module": "@jupyter-widgets/controls",
      "model_module_version": "2.0.0",
      "model_name": "TextareaModel",
      "state": {
       "disabled": true,
       "layout": "IPY_MODEL_c963e5eb45a7411691384fe325340f97",
       "style": "IPY_MODEL_bb43414645194cbc8107695a653dc737",
       "value": "{'_upd_mode': 'read_mode_with_batch', '_selected_tool_index': None, '_version': '2', '_tools': {'0': {'multi_plot': [['%', [['SWC_5', 'ETC NRT Meteo', 'SE-Htm']]], ['mmol mol-1', [['H2O', 'ETC NRT Fluxes', 'SE-Htm']]]]}, '1': {'multi_plot': [('°C', [['TA', 'ETC NRT Meteo', 'SE-Htm']]), ('mmol mol-1', [['H2O', 'ETC NRT Fluxes', 'SE-Htm']])]}}}"
      }
     },
     "abac1581b63e48d28c4c398dd397ed6e": {
      "model_module": "@jupyter-widgets/controls",
      "model_module_version": "2.0.0",
      "model_name": "DropdownModel",
      "state": {
       "_options_labels": [
        "1",
        "2",
        "3",
        "4",
        "5",
        "6",
        "7",
        "8",
        "9"
       ],
       "description": "Plot sliders",
       "index": 0,
       "layout": "IPY_MODEL_f3bf43a7fec24a9391d954b6ff278d4f",
       "style": "IPY_MODEL_21a1c7283a6849c48b63855d8026c976"
      }
     },
     "abd84a64978c48e3becd23084bc28898": {
      "model_module": "@jupyter-widgets/controls",
      "model_module_version": "2.0.0",
      "model_name": "HTMLStyleModel",
      "state": {
       "description_width": "",
       "font_size": null,
       "text_color": null
      }
     },
     "abf4a522f82d456099ae2fe6762f83d1": {
      "model_module": "@jupyter-widgets/base",
      "model_module_version": "2.0.0",
      "model_name": "LayoutModel",
      "state": {}
     },
     "abfb74c429fe4de58ede993547e37ca9": {
      "model_module": "@jupyter-widgets/controls",
      "model_module_version": "2.0.0",
      "model_name": "HTMLModel",
      "state": {
       "layout": "IPY_MODEL_21d9a631f88c4c199ec4fa88f1cb629a",
       "style": "IPY_MODEL_8e8ba6f81be44930b635ef83f3078e10",
       "value": "<span style=\"color:rgb(174, 175, 106)\"; \"font-size:10.0pt\">&nbsp&nbsp&nbsp&nbsp&nbsp&nbsp <b>#call_nr = 28 - #caller(s): get_batch_upd_dict(), reset_selection(), _notify_observers()</b> &nbsp&nbsp&nbsp&nbsp&nbsp&nbsp</span><span style=\"color:rgb(174, 175, 106)\"; \"font-size:8.0pt\">get_batch_upd_dict()<br>&nbsp&nbsp&nbsp&nbsp&nbsp&nbsp -- <b>#call_nr = 28 </b> &nbsp&nbsp&nbsp&nbsp&nbsp&nbsp -- d ={'_upd_mode': 'update', '_version': 1, '_orig_name': 'mp2 ', '_new_name': 'mp2 ', '_selected_tool_index': None, '_tools': {0: {'multi_plot': [['%', [['SWC_5', 'ETC NRT Meteo', 'SE-Htm']]], ['mmol mol-1', [['H2O', 'ETC NRT Fluxes', 'SE-Htm']]]]}}}</span>"
      }
     },
     "ac4925c0f729430094452bc47165d504": {
      "model_module": "@jupyter-widgets/controls",
      "model_module_version": "2.0.0",
      "model_name": "HTMLStyleModel",
      "state": {
       "description_width": "",
       "font_size": null,
       "text_color": null
      }
     },
     "ac5750ef22b844c9b9f7d2821c005fb4": {
      "model_module": "@jupyter-widgets/controls",
      "model_module_version": "2.0.0",
      "model_name": "HBoxModel",
      "state": {
       "children": [
        "IPY_MODEL_b94f617e08954d2d8475610dc6d84d31",
        "IPY_MODEL_f265f9398fa1435e817736fed46745dd"
       ],
       "layout": "IPY_MODEL_c963e5eb45a7411691384fe325340f97"
      }
     },
     "ac80f8b1465e4c45b27a77bfa7b428bd": {
      "model_module": "@jupyter-widgets/controls",
      "model_module_version": "2.0.0",
      "model_name": "HTMLStyleModel",
      "state": {
       "description_width": "",
       "font_size": null,
       "text_color": null
      }
     },
     "acaff1e48e8b4f448f449bda4b589724": {
      "model_module": "@jupyter-widgets/controls",
      "model_module_version": "2.0.0",
      "model_name": "HTMLModel",
      "state": {
       "layout": "IPY_MODEL_d11164669a4d470ca800f463d944d7eb",
       "style": "IPY_MODEL_0d828f11921d417ba803d3c5cb334f7f",
       "value": "<span style=\"color:rgb(174, 175, 106)\"; \"font-size:10.0pt\">&nbsp&nbsp&nbsp&nbsp&nbsp&nbsp <b>#call_nr = 101 - #caller(s): get_batch_upd_dict(), update_batch_dict(), var_button_click()</b> &nbsp&nbsp&nbsp&nbsp&nbsp&nbsp</span><span style=\"color:rgb(174, 175, 106)\"; \"font-size:8.0pt\">get_batch_upd_dict()<br>&nbsp&nbsp&nbsp&nbsp&nbsp&nbsp -- <b>#call_nr = 101 </b> &nbsp&nbsp&nbsp&nbsp&nbsp&nbsp -- d ={'_upd_mode': 'update', '_version': 1, '_orig_name': 'mp2 ', '_new_name': 'mp2 ', '_selected_tool_index': 1, '_tools': {0: {'multi_plot': [['%', [['SWC_5', 'ETC NRT Meteo', 'SE-Htm']]], ['mmol mol-1', [['H2O', 'ETC NRT Fluxes', 'SE-Htm']]]]}, 1: {'multi_plot': []}}}</span>"
      }
     },
     "acdcac5fcf544f97a73c61970eff2d37": {
      "model_module": "@jupyter-widgets/base",
      "model_module_version": "2.0.0",
      "model_name": "LayoutModel",
      "state": {
       "max_width": "auto",
       "min_width": "170px"
      }
     },
     "ace610da28464d078e3268d8536231e9": {
      "model_module": "@jupyter-widgets/controls",
      "model_module_version": "2.0.0",
      "model_name": "HTMLStyleModel",
      "state": {
       "description_width": "",
       "font_size": null,
       "text_color": null
      }
     },
     "acfefeb6657c4b4a89266614bee03a0e": {
      "model_module": "@jupyter-widgets/controls",
      "model_module_version": "2.0.0",
      "model_name": "HTMLStyleModel",
      "state": {
       "description_width": "",
       "font_size": null,
       "text_color": null
      }
     },
     "ad19b2f3cd8e41c48291556c5097c4b5": {
      "model_module": "@jupyter-widgets/controls",
      "model_module_version": "2.0.0",
      "model_name": "HTMLModel",
      "state": {
       "layout": "IPY_MODEL_4f5f176f19f04e48a82090c63cfc2608",
       "style": "IPY_MODEL_51b98f38829247f4be55e0ba8730061e",
       "value": "<span style=\"color:rgb(43, 33, 90)\"; \"font-size:10.0pt\">&nbsp&nbsp&nbsp&nbsp&nbsp&nbsp <b>#call_nr = 100 - #caller(s): update_batch_dict(), var_button_click(), __call__()</b> &nbsp&nbsp&nbsp&nbsp&nbsp&nbsp</span><span style=\"color:rgb(43, 33, 90)\"; \"font-size:8.0pt\">update_batch_dict()<br>&nbsp&nbsp&nbsp&nbsp&nbsp&nbsp -- <b>#call_nr = 100 </b> &nbsp&nbsp&nbsp&nbsp&nbsp&nbsp -- d = {'_tools': {0: {'multi_plot': [['%', [['SWC_5', 'ETC NRT Meteo', 'SE-Htm']]], ['mmol mol-1', [['H2O', 'ETC NRT Fluxes', 'SE-Htm']]]]}, 1: {'multi_plot': [('°C', [['TA', 'ETC NRT Meteo', 'SE-Htm']])]}}, '_selected_tool_index': 1}</span>"
      }
     },
     "ad1dd746ec7c4e64b65597da9458b787": {
      "model_module": "@jupyter-widgets/controls",
      "model_module_version": "2.0.0",
      "model_name": "HTMLModel",
      "state": {
       "layout": "IPY_MODEL_0f9430e838b74cff8aaa83e57c3ef971",
       "style": "IPY_MODEL_8806e307189c451aa1a34646b243995b",
       "value": "<span style=\"color:rgb(97, 124, 64)\"; \"font-size:10.0pt\">&nbsp&nbsp&nbsp&nbsp&nbsp&nbsp <b>#call_nr = 34 - #caller(s): reset_var_buttons(), reset_selection(), _notify_observers()</b> &nbsp&nbsp&nbsp&nbsp&nbsp&nbsp</span><span style=\"color:rgb(97, 124, 64)\"; \"font-size:8.0pt\">reset_var_buttons()   --- start ---<br>&nbsp&nbsp&nbsp&nbsp&nbsp&nbsp -- <b>#call_nr = 34 </b> &nbsp&nbsp&nbsp&nbsp&nbsp&nbsp --   - index of selected_tools = None</span>"
      }
     },
     "ad2ad34c14ea43d5a5f78be05158e4fe": {
      "model_module": "@jupyter-widgets/controls",
      "model_module_version": "2.0.0",
      "model_name": "HTMLMathModel",
      "state": {
       "layout": "IPY_MODEL_b958666a53694ff6a5d08cd34bd58ddb",
       "style": "IPY_MODEL_377050c49c41441884de949431a455d3"
      }
     },
     "ad62437d9a274017a9a03153e1faa93d": {
      "model_module": "@jupyter-widgets/base",
      "model_module_version": "2.0.0",
      "model_name": "LayoutModel",
      "state": {}
     },
     "adb50a2ca0d14846aeff66cb752896cb": {
      "model_module": "@jupyter-widgets/controls",
      "model_module_version": "2.0.0",
      "model_name": "HTMLModel",
      "state": {
       "layout": "IPY_MODEL_decc4664e89a4126bac114d73f25020c",
       "style": "IPY_MODEL_1061d84a70f64219b5c3364ee4fcd130",
       "value": "<span><b>Guide:</b><br>In a <b><i>Split-plot</i></b> you can visualize several variables in interconnected individual plots. The plots are connected using a <i>zoom-slider</i>. The value of <b><i>Split-plot grouping</i></b> is the number of graphs displayed before the first zoom-slider.<br>The background color can be changed by switching the <b><i><a href=\"https://plotly.com/python/templates/\" target=\"_blank\"><font color=\"DarkBlue\">Plotly template</font></a></i></b>.<br>Setting <b><i>Height</i></b> or <b><i>Width</i></b> to a value below 200 will lead to plotly default value. These values will be applied for each split-plot.<br></span>"
      }
     },
     "adb8f97ce38b47e1b55d489fbfa7d99e": {
      "model_module": "@jupyter-widgets/controls",
      "model_module_version": "2.0.0",
      "model_name": "ButtonStyleModel",
      "state": {
       "button_color": "LightSeaGreen",
       "font_family": null,
       "font_size": null,
       "font_style": null,
       "font_variant": null,
       "font_weight": null,
       "text_color": null,
       "text_decoration": null
      }
     },
     "add1ab0cfe4a483c9e801faff1a2d672": {
      "model_module": "@jupyter-widgets/base",
      "model_module_version": "2.0.0",
      "model_name": "LayoutModel",
      "state": {}
     },
     "ae1e51864dc94de8be7333fd0bdbc107": {
      "model_module": "@jupyter-widgets/controls",
      "model_module_version": "2.0.0",
      "model_name": "ButtonModel",
      "state": {
       "description": "split and mult",
       "layout": "IPY_MODEL_d38a6d2139c542f8b0be432ca2f65706",
       "style": "IPY_MODEL_f094cd7048c74d28bb64eff387ea3b9c",
       "tooltip": null
      }
     },
     "ae646251b5e7480dad6fb045450ef1d5": {
      "model_module": "@jupyter-widgets/base",
      "model_module_version": "2.0.0",
      "model_name": "LayoutModel",
      "state": {}
     },
     "ae6f520529c84161a3336aec7da9c980": {
      "model_module": "@jupyter-widgets/controls",
      "model_module_version": "2.0.0",
      "model_name": "DescriptionStyleModel",
      "state": {
       "description_width": ""
      }
     },
     "ae852ae27453481b9cb1d998167802df": {
      "model_module": "@jupyter-widgets/controls",
      "model_module_version": "2.0.0",
      "model_name": "HTMLStyleModel",
      "state": {
       "description_width": "",
       "font_size": null,
       "text_color": null
      }
     },
     "aeb34b9705234553a650b5885e5ce597": {
      "model_module": "@jupyter-widgets/base",
      "model_module_version": "2.0.0",
      "model_name": "LayoutModel",
      "state": {}
     },
     "aee495df76814a9fb4b70a7f7ba913c4": {
      "model_module": "@jupyter-widgets/controls",
      "model_module_version": "2.0.0",
      "model_name": "HTMLModel",
      "state": {
       "layout": "IPY_MODEL_3f0349760b2c43e3a1738e497022dc69",
       "style": "IPY_MODEL_a1689089430742ca95fbc44585cdc35c",
       "value": "<span style=\"color:rgb(56, 23, 78)\"; \"font-size:10.0pt\">&nbsp&nbsp&nbsp&nbsp&nbsp&nbsp <b>#call_nr = 107 - #caller(s): set_selections(), reset_selection(), _notify_observers()</b> &nbsp&nbsp&nbsp&nbsp&nbsp&nbsp</span><span style=\"color:rgb(56, 23, 78)\"; \"font-size:8.0pt\">set_selections()<br>&nbsp&nbsp&nbsp&nbsp&nbsp&nbsp -- <b>#call_nr = 107 </b> &nbsp&nbsp&nbsp&nbsp&nbsp&nbsp -- step 1<br>&nbsp&nbsp&nbsp&nbsp&nbsp&nbsp -- <b>#call_nr = 107 </b> &nbsp&nbsp&nbsp&nbsp&nbsp&nbsp -- sel_tool_ls = [('Multi-plot', 0), ('Multi-plot', 1)]<br>&nbsp&nbsp&nbsp&nbsp&nbsp&nbsp -- <b>#call_nr = 107 </b> &nbsp&nbsp&nbsp&nbsp&nbsp&nbsp -- sel_tool_index = 1<br>&nbsp&nbsp&nbsp&nbsp&nbsp&nbsp -- <b>#call_nr = 107 </b> &nbsp&nbsp&nbsp&nbsp&nbsp&nbsp -- sel_var_ls = [('SWC_5 (ETC NRT Meteo), H2O (ETC NRT Fluxes)', (0, [['%', [['SWC_5', 'ETC NRT Meteo', 'SE-Htm']]], ['mmol mol-1', [['H2O', 'ETC NRT Fluxes', 'SE-Htm']]]])), ('TA (ETC NRT Meteo)', (1, [('°C', [['TA', 'ETC NRT Meteo', 'SE-Htm']])]))]</span>"
      }
     },
     "af2f3c02fc11477caff3accd02c7a425": {
      "model_module": "@jupyter-widgets/controls",
      "model_module_version": "2.0.0",
      "model_name": "HTMLStyleModel",
      "state": {
       "description_width": "",
       "font_size": null,
       "text_color": null
      }
     },
     "af5aeb3dd7cb47549613f59a6acdd135": {
      "model_module": "@jupyter-widgets/base",
      "model_module_version": "2.0.0",
      "model_name": "LayoutModel",
      "state": {}
     },
     "af6442739d4e44d680f6880f4bb3020f": {
      "model_module": "@jupyter-widgets/controls",
      "model_module_version": "2.0.0",
      "model_name": "HTMLStyleModel",
      "state": {
       "description_width": "",
       "font_size": null,
       "text_color": null
      }
     },
     "af7685f2f7fd440497bb62fca827ecb5": {
      "model_module": "@jupyter-widgets/base",
      "model_module_version": "2.0.0",
      "model_name": "LayoutModel",
      "state": {}
     },
     "af8a961009b74515a0aaa90195996431": {
      "model_module": "@jupyter-widgets/controls",
      "model_module_version": "2.0.0",
      "model_name": "HTMLModel",
      "state": {
       "layout": "IPY_MODEL_e898cfd7a6d841cca4b2e3ef1de3188e",
       "style": "IPY_MODEL_07ecb3e42b7f42b19cdb32ca3d083818",
       "value": "<span style=\"color:rgb(56, 23, 78)\"; \"font-size:10.0pt\">&nbsp&nbsp&nbsp&nbsp&nbsp&nbsp <b>#call_nr = 75 - #caller(s): set_selections(), reset_selection(), _notify_observers()</b> &nbsp&nbsp&nbsp&nbsp&nbsp&nbsp</span><span style=\"color:rgb(56, 23, 78)\"; \"font-size:8.0pt\">set_selections()<br>&nbsp&nbsp&nbsp&nbsp&nbsp&nbsp -- <b>#call_nr = 75 </b> &nbsp&nbsp&nbsp&nbsp&nbsp&nbsp -- end <br>&nbsp&nbsp&nbsp&nbsp&nbsp&nbsp -- <b>#call_nr = 75 </b> &nbsp&nbsp&nbsp&nbsp&nbsp&nbsp -- selected_tools.value = 1<br>&nbsp&nbsp&nbsp&nbsp&nbsp&nbsp -- <b>#call_nr = 75 </b> &nbsp&nbsp&nbsp&nbsp&nbsp&nbsp -- selected_tools.options = (('Multi-plot', 0), ('Multi-plot', 1))<br>&nbsp&nbsp&nbsp&nbsp&nbsp&nbsp -- <b>#call_nr = 75 </b> &nbsp&nbsp&nbsp&nbsp&nbsp&nbsp -- selected_vars.options = (('SWC_5 (ETC NRT Meteo), H2O (ETC NRT Fluxes)', (0, [['%', [['SWC_5', 'ETC NRT Meteo', 'SE-Htm']]], ['mmol mol-1', [['H2O', 'ETC NRT Fluxes', 'SE-Htm']]]])), ('', (1, [])))<br>&nbsp&nbsp&nbsp&nbsp&nbsp&nbsp -- <b>#call_nr = 75 </b> &nbsp&nbsp&nbsp&nbsp&nbsp&nbsp -- selected_vars.tooltip = </span>"
      }
     },
     "af9236d15552456d9f597d6cc3b9fc5e": {
      "model_module": "@jupyter-widgets/controls",
      "model_module_version": "2.0.0",
      "model_name": "HTMLStyleModel",
      "state": {
       "description_width": "",
       "font_size": null,
       "text_color": null
      }
     },
     "b01d8d322efc4ffdb08c3f99fc8af3c5": {
      "model_module": "@jupyter-widgets/controls",
      "model_module_version": "2.0.0",
      "model_name": "HTMLModel",
      "state": {
       "layout": "IPY_MODEL_c32d877732ba4a5e8efd2f72110a8483",
       "style": "IPY_MODEL_b4d0f84364c34b07831b411f3aa9484c",
       "value": "<span style=\"color:rgb(56, 23, 78)\"; \"font-size:10.0pt\">&nbsp&nbsp&nbsp&nbsp&nbsp&nbsp <b>#call_nr = 17 - #caller(s): set_selections(), reset_selection(), _notify_observers()</b> &nbsp&nbsp&nbsp&nbsp&nbsp&nbsp</span><span style=\"color:rgb(56, 23, 78)\"; \"font-size:8.0pt\">set_selections()<br>&nbsp&nbsp&nbsp&nbsp&nbsp&nbsp -- <b>#call_nr = 17 </b> &nbsp&nbsp&nbsp&nbsp&nbsp&nbsp -- step 1<br>&nbsp&nbsp&nbsp&nbsp&nbsp&nbsp -- <b>#call_nr = 17 </b> &nbsp&nbsp&nbsp&nbsp&nbsp&nbsp -- sel_tool_ls = [('Multi-plot', 0)]<br>&nbsp&nbsp&nbsp&nbsp&nbsp&nbsp -- <b>#call_nr = 17 </b> &nbsp&nbsp&nbsp&nbsp&nbsp&nbsp -- sel_tool_index = None<br>&nbsp&nbsp&nbsp&nbsp&nbsp&nbsp -- <b>#call_nr = 17 </b> &nbsp&nbsp&nbsp&nbsp&nbsp&nbsp -- sel_var_ls = [('SWC_5 (ETC NRT Meteo), H2O (ETC NRT Fluxes)', (0, [['%', [['SWC_5', 'ETC NRT Meteo', 'SE-Htm']]], ['mmol mol-1', [['H2O', 'ETC NRT Fluxes', 'SE-Htm']]]]))]</span>"
      }
     },
     "b03e01e7a3ba4e738829f80ac94ffdbf": {
      "model_module": "@jupyter-widgets/controls",
      "model_module_version": "2.0.0",
      "model_name": "HTMLStyleModel",
      "state": {
       "description_width": "",
       "font_size": null,
       "text_color": null
      }
     },
     "b05d87bde52641708c095a3c480d05cd": {
      "model_module": "@jupyter-widgets/controls",
      "model_module_version": "2.0.0",
      "model_name": "TextStyleModel",
      "state": {
       "description_width": "",
       "font_size": null,
       "text_color": null
      }
     },
     "b088b0e3dda8476d9a70ef8ae9b987ef": {
      "model_module": "@jupyter-widgets/base",
      "model_module_version": "2.0.0",
      "model_name": "LayoutModel",
      "state": {}
     },
     "b093344c48004696a1f546dd82b6e2bc": {
      "model_module": "@jupyter-widgets/controls",
      "model_module_version": "2.0.0",
      "model_name": "ButtonStyleModel",
      "state": {
       "font_family": null,
       "font_size": null,
       "font_style": null,
       "font_variant": null,
       "font_weight": null,
       "text_color": null,
       "text_decoration": null
      }
     },
     "b09dfd8fe4284c868b6b047f95b437a1": {
      "model_module": "@jupyter-widgets/controls",
      "model_module_version": "2.0.0",
      "model_name": "HTMLModel",
      "state": {
       "layout": "IPY_MODEL_09f1d4bdb29147e19c6e91629f4c64e5",
       "style": "IPY_MODEL_028414b25f374e10840d3b7fb5b99894",
       "value": "<b><i>Batch name: </i></b>"
      }
     },
     "b0a979cb527147119d22ab2f9797162b": {
      "model_module": "@jupyter-widgets/controls",
      "model_module_version": "2.0.0",
      "model_name": "HTMLModel",
      "state": {
       "layout": "IPY_MODEL_1f91896065fc483c8c89816f47fabe01",
       "style": "IPY_MODEL_eff3707ef15448c8990ba7f93da5e274",
       "value": "<span style=\"color:rgb(97, 124, 64)\"; \"font-size:10.0pt\">&nbsp&nbsp&nbsp&nbsp&nbsp&nbsp <b>#call_nr = 84 - #caller(s): reset_var_buttons(), reset_selection(), _notify_observers()</b> &nbsp&nbsp&nbsp&nbsp&nbsp&nbsp</span><span style=\"color:rgb(97, 124, 64)\"; \"font-size:8.0pt\">reset_var_buttons()  -- restore buttons -- <br>&nbsp&nbsp&nbsp&nbsp&nbsp&nbsp -- <b>#call_nr = 84 </b> &nbsp&nbsp&nbsp&nbsp&nbsp&nbsp --  axis_ls = []<br>&nbsp&nbsp&nbsp&nbsp&nbsp&nbsp -- <b>#call_nr = 84 </b> &nbsp&nbsp&nbsp&nbsp&nbsp&nbsp --  btn.tooltip = %<br>&nbsp&nbsp&nbsp&nbsp&nbsp&nbsp -- <b>#call_nr = 84 </b> &nbsp&nbsp&nbsp&nbsp&nbsp&nbsp --  Button = \"SWC_3 (ETC NRT Meteo)\"<br>&nbsp&nbsp&nbsp&nbsp&nbsp&nbsp -- <b>#call_nr = 84 </b> &nbsp&nbsp&nbsp&nbsp&nbsp&nbsp -- ---- enabled and unchecked</span>"
      }
     },
     "b0e2889079c848e8b681eca89b152e10": {
      "model_module": "@jupyter-widgets/controls",
      "model_module_version": "2.0.0",
      "model_name": "HTMLModel",
      "state": {
       "layout": "IPY_MODEL_42614c08925a426691ad3637b2ef2981",
       "style": "IPY_MODEL_8a16135890cf49a4b85bd5260a8f17c5",
       "value": "<span style=\"color:rgb(87, 176, 53)\"; \"font-size:10.0pt\">&nbsp&nbsp&nbsp&nbsp&nbsp&nbsp <b>#call_nr = 78 - #caller(s): get_var_translation_dict(), reset_var_buttons(), reset_selection()</b> &nbsp&nbsp&nbsp&nbsp&nbsp&nbsp</span><span style=\"color:rgb(87, 176, 53)\"; \"font-size:8.0pt\">get_var_translation_dict()<br>&nbsp&nbsp&nbsp&nbsp&nbsp&nbsp -- <b>#call_nr = 78 </b> &nbsp&nbsp&nbsp&nbsp&nbsp&nbsp -- var_translation_dict.value = {'SWC_1 (ETC NRT Meteo)': ['SWC_1', 'ETC NRT Meteo', 'SE-Htm'], 'SWC_2 (ETC NRT Meteo)': ['SWC_2', 'ETC NRT Meteo', 'SE-Htm'], 'SWC_3 (ETC NRT Meteo)': ['SWC_3', 'ETC NRT Meteo', 'SE-Htm'], 'SWC_4 (ETC NRT Meteo)': ['SWC_4', 'ETC NRT Meteo', 'SE-Htm'], 'SWC_5 (ETC NRT Meteo)': ['SWC_5', 'ETC NRT Meteo', 'SE-Htm'], 'H2O (ETC NRT Fluxes)': ['H2O', 'ETC NRT Fluxes', 'SE-Htm'], 'TA (ETC NRT Meteo)': ['TA', 'ETC NRT Meteo', 'SE-Htm'], 'Select all': 'All variables'}</span>"
      }
     },
     "b10a351308bf46059b1dfa39555c7d4d": {
      "model_module": "@jupyter-widgets/controls",
      "model_module_version": "2.0.0",
      "model_name": "HTMLModel",
      "state": {
       "layout": "IPY_MODEL_74bdb26225aa47fba82d87da98966f49",
       "style": "IPY_MODEL_0a74141ca929464a84cc09813177b46d",
       "value": "<span style=\"color:rgb(133, 74, 120)\"; \"font-size:10.0pt\">&nbsp&nbsp&nbsp&nbsp&nbsp&nbsp <b>#call_nr = 104 - #caller(s): reset_selection(), _notify_observers(), notify_change()</b> &nbsp&nbsp&nbsp&nbsp&nbsp&nbsp</span><span style=\"color:rgb(133, 74, 120)\"; \"font-size:8.0pt\">reset_selection()<br>&nbsp&nbsp&nbsp&nbsp&nbsp&nbsp -- <b>#call_nr = 104 </b> &nbsp&nbsp&nbsp&nbsp&nbsp&nbsp -- c = {'name': 'value', 'old': \"{'_upd_mode': 'update', '_version': 1, '_orig_name': 'mp2 ', '_new_name': 'mp2 ', '_selected_tool_index': 1, '_tools': {'0': {'multi_plot': [['%', [['SWC_5', 'ETC NRT Meteo', 'SE-Htm']]], ['mmol mol-1', [['H2O', 'ETC NRT Fluxes', 'SE-Htm']]]]}, '1': {'multi_plot': []}}}\", 'new': \"{'_upd_mode': 'update', '_version': 1, '_orig_name': 'mp2 ', '_new_name': 'mp2 ', '_selected_tool_index': 1, '_tools': {'0': {'multi_plot': [['%', [['SWC_5', 'ETC NRT Meteo', 'SE-Htm']]], ['mmol mol-1', [['H2O', 'ETC NRT Fluxes', 'SE-Htm']]]]}, '1': {'multi_plot': [('°C', [['TA', 'ETC NRT Meteo', 'SE-Htm']])]}}}\", 'owner': Textarea(value=\"{'_upd_mode': 'update', '_version': 1, '_orig_name': 'mp2 ', '_new_name': 'mp2 ', '_selected_tool_index': 1, '_tools': {'0': {'multi_plot': [['%', [['SWC_5', 'ETC NRT Meteo', 'SE-Htm']]], ['mmol mol-1', [['H2O', 'ETC NRT Fluxes', 'SE-Htm']]]]}, '1': {'multi_plot': [('°C', [['TA', 'ETC NRT Meteo', 'SE-Htm']])]}}}\", disabled=True, layout=Layout(align_content='flex-start', display='inline-flex', flex_flow='row wrap', width='99%')), 'type': 'change'}<br>&nbsp&nbsp&nbsp&nbsp&nbsp&nbsp -- <b>#call_nr = 104 </b> &nbsp&nbsp&nbsp&nbsp&nbsp&nbsp -- batch_dict = {'_upd_mode': 'update', '_version': 1, '_orig_name': 'mp2 ', '_new_name': 'mp2 ', '_selected_tool_index': 1, '_tools': {0: {'multi_plot': [['%', [['SWC_5', 'ETC NRT Meteo', 'SE-Htm']]], ['mmol mol-1', [['H2O', 'ETC NRT Fluxes', 'SE-Htm']]]]}, 1: {'multi_plot': [('°C', [['TA', 'ETC NRT Meteo', 'SE-Htm']])]}}}<br>&nbsp&nbsp&nbsp&nbsp&nbsp&nbsp -- <b>#call_nr = 104 </b> &nbsp&nbsp&nbsp&nbsp&nbsp&nbsp -- batch_drop.value = {'0': {'multi_plot': [['%', [['SWC_5', 'ETC NRT Meteo', 'SE-Htm']]], ['mmol mol-1', [['H2O', 'ETC NRT Fluxes', 'SE-Htm']]]]}, '_version': '1'}</span>"
      }
     },
     "b112c982ecf345dbbd9558cb432af2ce": {
      "model_module": "@jupyter-widgets/base",
      "model_module_version": "2.0.0",
      "model_name": "LayoutModel",
      "state": {}
     },
     "b14f56dc4a504b23a52cad380aedf9aa": {
      "model_module": "@jupyter-widgets/controls",
      "model_module_version": "2.0.0",
      "model_name": "HTMLModel",
      "state": {
       "layout": "IPY_MODEL_4e02f6f99e8f4a4d8b9fafacfc194b60",
       "style": "IPY_MODEL_3cbc9b9f406946d5864be3325d49908a",
       "value": "<span style=\"color:rgb(87, 176, 53)\"; \"font-size:10.0pt\">&nbsp&nbsp&nbsp&nbsp&nbsp&nbsp <b>#call_nr = 31 - #caller(s): get_var_translation_dict(), format_tool_vars(), reset_selection()</b> &nbsp&nbsp&nbsp&nbsp&nbsp&nbsp</span><span style=\"color:rgb(87, 176, 53)\"; \"font-size:8.0pt\">get_var_translation_dict()<br>&nbsp&nbsp&nbsp&nbsp&nbsp&nbsp -- <b>#call_nr = 31 </b> &nbsp&nbsp&nbsp&nbsp&nbsp&nbsp -- var_translation_dict.value = {'SWC_1 (ETC NRT Meteo)': ['SWC_1', 'ETC NRT Meteo', 'SE-Htm'], 'SWC_2 (ETC NRT Meteo)': ['SWC_2', 'ETC NRT Meteo', 'SE-Htm'], 'SWC_3 (ETC NRT Meteo)': ['SWC_3', 'ETC NRT Meteo', 'SE-Htm'], 'SWC_4 (ETC NRT Meteo)': ['SWC_4', 'ETC NRT Meteo', 'SE-Htm'], 'SWC_5 (ETC NRT Meteo)': ['SWC_5', 'ETC NRT Meteo', 'SE-Htm'], 'H2O (ETC NRT Fluxes)': ['H2O', 'ETC NRT Fluxes', 'SE-Htm'], 'TA (ETC NRT Meteo)': ['TA', 'ETC NRT Meteo', 'SE-Htm'], 'Select all': 'All variables'}</span>"
      }
     },
     "b1683496149f4990aa90a95ddfbbc1ca": {
      "model_module": "@jupyter-widgets/controls",
      "model_module_version": "2.0.0",
      "model_name": "HTMLStyleModel",
      "state": {
       "description_width": "",
       "font_size": null,
       "text_color": null
      }
     },
     "b179469e22884ef4a6798405dc1b9b95": {
      "model_module": "@jupyter-widgets/controls",
      "model_module_version": "2.0.0",
      "model_name": "HTMLStyleModel",
      "state": {
       "description_width": "",
       "font_size": null,
       "text_color": null
      }
     },
     "b18fe1ff08b040e9a6bf2baace25ebe9": {
      "model_module": "@jupyter-widgets/controls",
      "model_module_version": "2.0.0",
      "model_name": "HTMLModel",
      "state": {
       "layout": "IPY_MODEL_27801df18f504d9f93aec7c2be296c8f",
       "style": "IPY_MODEL_f35aefb8579d4a82be0449fda0a1d9e0",
       "value": "<span style=\"color:rgb(92, 150, 134)\"; \"font-size:10.0pt\">&nbsp&nbsp&nbsp&nbsp&nbsp&nbsp <b>#call_nr = 186 - #caller(s): set_batch_upd_dict(), changed_batch_drop(), init_batch_drop()</b> &nbsp&nbsp&nbsp&nbsp&nbsp&nbsp</span><span style=\"color:rgb(92, 150, 134)\"; \"font-size:8.0pt\">set_batch_upd_dict()<br>&nbsp&nbsp&nbsp&nbsp&nbsp&nbsp -- <b>#call_nr = 186 </b> &nbsp&nbsp&nbsp&nbsp&nbsp&nbsp -- step 1<br>&nbsp&nbsp&nbsp&nbsp&nbsp&nbsp -- <b>#call_nr = 186 </b> &nbsp&nbsp&nbsp&nbsp&nbsp&nbsp -- d ={'_upd_mode': 'read_mode_with_batch', '_tools': {'0': {'multi_plot': [['%', [['SWC_5', 'ETC NRT Meteo', 'SE-Htm']]], ['mmol mol-1', [['H2O', 'ETC NRT Fluxes', 'SE-Htm']]]]}, '1': {'multi_plot': [('°C', [['TA', 'ETC NRT Meteo', 'SE-Htm']]), ('mmol mol-1', [['H2O', 'ETC NRT Fluxes', 'SE-Htm']])]}}, '_selected_tool_index': None, '_version': '2'}</span>"
      }
     },
     "b2103f2bb0814467bfd68d2f38216687": {
      "model_module": "@jupyter-widgets/controls",
      "model_module_version": "2.0.0",
      "model_name": "HTMLModel",
      "state": {
       "layout": "IPY_MODEL_67ecb346e5104a5d8a4a740546e29771",
       "style": "IPY_MODEL_5f28f6430f644d379940e10f6551235a",
       "value": "<span style=\"color:rgb(97, 124, 64)\"; \"font-size:10.0pt\">&nbsp&nbsp&nbsp&nbsp&nbsp&nbsp <b>#call_nr = 115 - #caller(s): reset_var_buttons(), reset_selection(), _notify_observers()</b> &nbsp&nbsp&nbsp&nbsp&nbsp&nbsp</span><span style=\"color:rgb(97, 124, 64)\"; \"font-size:8.0pt\">reset_var_buttons()  -- restore buttons -- <br>&nbsp&nbsp&nbsp&nbsp&nbsp&nbsp -- <b>#call_nr = 115 </b> &nbsp&nbsp&nbsp&nbsp&nbsp&nbsp --  axis_ls = ['°C']<br>&nbsp&nbsp&nbsp&nbsp&nbsp&nbsp -- <b>#call_nr = 115 </b> &nbsp&nbsp&nbsp&nbsp&nbsp&nbsp --  btn.tooltip = %<br>&nbsp&nbsp&nbsp&nbsp&nbsp&nbsp -- <b>#call_nr = 115 </b> &nbsp&nbsp&nbsp&nbsp&nbsp&nbsp --  Button = \"SWC_1 (ETC NRT Meteo)\"<br>&nbsp&nbsp&nbsp&nbsp&nbsp&nbsp -- <b>#call_nr = 115 </b> &nbsp&nbsp&nbsp&nbsp&nbsp&nbsp -- ---- enabled and unchecked</span>"
      }
     },
     "b2734dce8e1b4a768decba6ef94125bc": {
      "model_module": "@jupyter-widgets/controls",
      "model_module_version": "2.0.0",
      "model_name": "HTMLStyleModel",
      "state": {
       "description_width": "",
       "font_size": null,
       "text_color": null
      }
     },
     "b27704c02daa426c93a8b5cf2f771e64": {
      "model_module": "@jupyter-widgets/controls",
      "model_module_version": "2.0.0",
      "model_name": "VBoxModel",
      "state": {
       "children": [
        "IPY_MODEL_570d229dbc87409180c05a07ca136b7e",
        "IPY_MODEL_91a7424a746148feaec3dabac0ff96f3"
       ],
       "layout": "IPY_MODEL_52dfa8c18b66437595137af014dc3369"
      }
     },
     "b2c3e5c5714d47c7a5e64b5337005645": {
      "model_module": "@jupyter-widgets/controls",
      "model_module_version": "2.0.0",
      "model_name": "HTMLModel",
      "state": {
       "layout": "IPY_MODEL_aeb34b9705234553a650b5885e5ce597",
       "style": "IPY_MODEL_b6bb7abd5400413f9e632a898be81e42",
       "value": "<span style=\"color:rgb(97, 124, 64)\"; \"font-size:10.0pt\">&nbsp&nbsp&nbsp&nbsp&nbsp&nbsp <b>#call_nr = 86 - #caller(s): reset_var_buttons(), reset_selection(), _notify_observers()</b> &nbsp&nbsp&nbsp&nbsp&nbsp&nbsp</span><span style=\"color:rgb(97, 124, 64)\"; \"font-size:8.0pt\">reset_var_buttons()  -- restore buttons -- <br>&nbsp&nbsp&nbsp&nbsp&nbsp&nbsp -- <b>#call_nr = 86 </b> &nbsp&nbsp&nbsp&nbsp&nbsp&nbsp --  axis_ls = []<br>&nbsp&nbsp&nbsp&nbsp&nbsp&nbsp -- <b>#call_nr = 86 </b> &nbsp&nbsp&nbsp&nbsp&nbsp&nbsp --  btn.tooltip = %<br>&nbsp&nbsp&nbsp&nbsp&nbsp&nbsp -- <b>#call_nr = 86 </b> &nbsp&nbsp&nbsp&nbsp&nbsp&nbsp --  Button = \"SWC_5 (ETC NRT Meteo)\"<br>&nbsp&nbsp&nbsp&nbsp&nbsp&nbsp -- <b>#call_nr = 86 </b> &nbsp&nbsp&nbsp&nbsp&nbsp&nbsp -- ---- enabled and unchecked</span>"
      }
     },
     "b2e954740880461c936264ab312b4f76": {
      "model_module": "@jupyter-widgets/controls",
      "model_module_version": "2.0.0",
      "model_name": "HTMLStyleModel",
      "state": {
       "description_width": "",
       "font_size": null,
       "text_color": null
      }
     },
     "b2f09b0db94e45739279e64bb6e6b186": {
      "model_module": "@jupyter-widgets/controls",
      "model_module_version": "2.0.0",
      "model_name": "ButtonStyleModel",
      "state": {
       "font_family": null,
       "font_size": null,
       "font_style": null,
       "font_variant": null,
       "font_weight": null,
       "text_color": null,
       "text_decoration": null
      }
     },
     "b374e98398b34274bb35783b5dec208b": {
      "model_module": "@jupyter-widgets/controls",
      "model_module_version": "2.0.0",
      "model_name": "HTMLStyleModel",
      "state": {
       "description_width": "",
       "font_size": null,
       "text_color": null
      }
     },
     "b377bc1ab20944b7a201fed1752b0a4c": {
      "model_module": "@jupyter-widgets/controls",
      "model_module_version": "2.0.0",
      "model_name": "HTMLModel",
      "state": {
       "layout": "IPY_MODEL_aa69c0ba3ec943e5be257ecd809a7888",
       "style": "IPY_MODEL_4abc1b834b7045429155037e50374610",
       "value": "<span style=\"color:rgb(128, 100, 39)\"; \"font-size:10.0pt\">&nbsp&nbsp&nbsp&nbsp&nbsp&nbsp <b>#call_nr = 48 - #caller(s): var2unit(), init_group_var_buttons(), activate_gui()</b> &nbsp&nbsp&nbsp&nbsp&nbsp&nbsp</span><span style=\"color:rgb(128, 100, 39)\"; \"font-size:8.0pt\">var2unit()<br>&nbsp&nbsp&nbsp&nbsp&nbsp&nbsp -- <b>#call_nr = 48 </b> &nbsp&nbsp&nbsp&nbsp&nbsp&nbsp -- var = ['SWC_3', 'ETC NRT Meteo', 'SE-Htm']<br>&nbsp&nbsp&nbsp&nbsp&nbsp&nbsp -- <b>#call_nr = 48 </b> &nbsp&nbsp&nbsp&nbsp&nbsp&nbsp -- return unit = %</span>"
      }
     },
     "b4023d2891844a49bafee0b10a72ffb3": {
      "model_module": "@jupyter-widgets/controls",
      "model_module_version": "2.0.0",
      "model_name": "HTMLModel",
      "state": {
       "layout": "IPY_MODEL_74027ce42dc0412281903feaa792c60b",
       "style": "IPY_MODEL_3305af40dd3844da8121d4d27b1a611a",
       "value": "<span style=\"color:rgb(97, 124, 64)\"; \"font-size:10.0pt\">&nbsp&nbsp&nbsp&nbsp&nbsp&nbsp <b>#call_nr = 85 - #caller(s): reset_var_buttons(), reset_selection(), _notify_observers()</b> &nbsp&nbsp&nbsp&nbsp&nbsp&nbsp</span><span style=\"color:rgb(97, 124, 64)\"; \"font-size:8.0pt\">reset_var_buttons()  -- restore buttons -- <br>&nbsp&nbsp&nbsp&nbsp&nbsp&nbsp -- <b>#call_nr = 85 </b> &nbsp&nbsp&nbsp&nbsp&nbsp&nbsp --  axis_ls = []<br>&nbsp&nbsp&nbsp&nbsp&nbsp&nbsp -- <b>#call_nr = 85 </b> &nbsp&nbsp&nbsp&nbsp&nbsp&nbsp --  btn.tooltip = %<br>&nbsp&nbsp&nbsp&nbsp&nbsp&nbsp -- <b>#call_nr = 85 </b> &nbsp&nbsp&nbsp&nbsp&nbsp&nbsp --  Button = \"SWC_4 (ETC NRT Meteo)\"<br>&nbsp&nbsp&nbsp&nbsp&nbsp&nbsp -- <b>#call_nr = 85 </b> &nbsp&nbsp&nbsp&nbsp&nbsp&nbsp -- ---- enabled and unchecked</span>"
      }
     },
     "b40982e5acce4398bb030c44b8f49183": {
      "model_module": "@jupyter-widgets/controls",
      "model_module_version": "2.0.0",
      "model_name": "DescriptionStyleModel",
      "state": {
       "description_width": ""
      }
     },
     "b42c074c8d65425e88c8754217357099": {
      "model_module": "@jupyter-widgets/base",
      "model_module_version": "2.0.0",
      "model_name": "LayoutModel",
      "state": {}
     },
     "b42ccc5840b54af99c96b5844ebd1858": {
      "model_module": "@jupyter-widgets/controls",
      "model_module_version": "2.0.0",
      "model_name": "HTMLModel",
      "state": {
       "layout": "IPY_MODEL_4bfb74b36f3e436cb220ad384d18b11b",
       "style": "IPY_MODEL_d56328c32a3842aba3131b74feff68d5",
       "value": "<span style=\"color:rgb(15, 99, 92)\"; \"font-size:10.0pt\">&nbsp&nbsp&nbsp&nbsp&nbsp&nbsp <b>#call_nr = 105 - #caller(s): format_tool_vars(), reset_selection(), _notify_observers()</b> &nbsp&nbsp&nbsp&nbsp&nbsp&nbsp</span><span style=\"color:rgb(15, 99, 92)\"; \"font-size:8.0pt\">label_of_selected_var_row()<br>&nbsp&nbsp&nbsp&nbsp&nbsp&nbsp -- <b>#call_nr = 105 </b> &nbsp&nbsp&nbsp&nbsp&nbsp&nbsp -- tool_code = {0: {'multi_plot': [['%', [['SWC_5', 'ETC NRT Meteo', 'SE-Htm']]], ['mmol mol-1', [['H2O', 'ETC NRT Fluxes', 'SE-Htm']]]]}, 1: {'multi_plot': [('°C', [['TA', 'ETC NRT Meteo', 'SE-Htm']])]}}<br>&nbsp&nbsp&nbsp&nbsp&nbsp&nbsp -- <b>#call_nr = 105 </b> &nbsp&nbsp&nbsp&nbsp&nbsp&nbsp -- batch_drop.value = {'0': {'multi_plot': [['%', [['SWC_5', 'ETC NRT Meteo', 'SE-Htm']]], ['mmol mol-1', [['H2O', 'ETC NRT Fluxes', 'SE-Htm']]]]}, '_version': '1'}</span>"
      }
     },
     "b445f94c62924f519967bd31863d2ebc": {
      "model_module": "@jupyter-widgets/controls",
      "model_module_version": "2.0.0",
      "model_name": "HTMLModel",
      "state": {
       "layout": "IPY_MODEL_0bf07272424f449894b370b7cd2972bf",
       "style": "IPY_MODEL_74303402408344738c81b7296d89f804",
       "value": "<span style=\"color:rgb(174, 175, 106)\"; \"font-size:10.0pt\">&nbsp&nbsp&nbsp&nbsp&nbsp&nbsp <b>#call_nr = 61 - #caller(s): get_batch_upd_dict(), tool_selections(), tool_click()</b> &nbsp&nbsp&nbsp&nbsp&nbsp&nbsp</span><span style=\"color:rgb(174, 175, 106)\"; \"font-size:8.0pt\">get_batch_upd_dict()<br>&nbsp&nbsp&nbsp&nbsp&nbsp&nbsp -- <b>#call_nr = 61 </b> &nbsp&nbsp&nbsp&nbsp&nbsp&nbsp -- d ={'_upd_mode': 'update', '_version': 1, '_orig_name': 'mp2 ', '_new_name': 'mp2 ', '_selected_tool_index': None, '_tools': {0: {'multi_plot': [['%', [['SWC_5', 'ETC NRT Meteo', 'SE-Htm']]], ['mmol mol-1', [['H2O', 'ETC NRT Fluxes', 'SE-Htm']]]]}}}</span>"
      }
     },
     "b4872877eb3f42eb89ece13859b15010": {
      "model_module": "@jupyter-widgets/base",
      "model_module_version": "2.0.0",
      "model_name": "LayoutModel",
      "state": {}
     },
     "b4a50ee1a5ba4408a584d95f16b5923d": {
      "model_module": "@jupyter-widgets/controls",
      "model_module_version": "2.0.0",
      "model_name": "ButtonStyleModel",
      "state": {
       "font_family": null,
       "font_size": null,
       "font_style": null,
       "font_variant": null,
       "font_weight": null,
       "text_color": null,
       "text_decoration": null
      }
     },
     "b4d0f84364c34b07831b411f3aa9484c": {
      "model_module": "@jupyter-widgets/controls",
      "model_module_version": "2.0.0",
      "model_name": "HTMLStyleModel",
      "state": {
       "description_width": "",
       "font_size": null,
       "text_color": null
      }
     },
     "b4d66ef5da7e44139f2700022e969895": {
      "model_module": "@jupyter-widgets/controls",
      "model_module_version": "2.0.0",
      "model_name": "VBoxModel",
      "state": {
       "children": [
        "IPY_MODEL_ef3015bc55cf49d9bbb7f146288077ef",
        "IPY_MODEL_4c449fbf814c4e50bb90530eac84563b",
        "IPY_MODEL_608fdda0608a406fa5201d98ad234c35",
        "IPY_MODEL_eabcdc9c4a8744f989da3a9e8601399e"
       ],
       "layout": "IPY_MODEL_84ca5b9ef70546448235677fca444071"
      }
     },
     "b4ecae7d9e9240c69504bff636428f04": {
      "model_module": "@jupyter-widgets/base",
      "model_module_version": "2.0.0",
      "model_name": "LayoutModel",
      "state": {}
     },
     "b521a9238af94f7b9b0cbcf5c85bc421": {
      "model_module": "@jupyter-widgets/base",
      "model_module_version": "2.0.0",
      "model_name": "LayoutModel",
      "state": {}
     },
     "b56c93fc47b64a47ade46c726fcb5124": {
      "model_module": "@jupyter-widgets/base",
      "model_module_version": "2.0.0",
      "model_name": "LayoutModel",
      "state": {}
     },
     "b5729f80a12c47b7ac291b818f1f6668": {
      "model_module": "@jupyter-widgets/base",
      "model_module_version": "2.0.0",
      "model_name": "LayoutModel",
      "state": {
       "width": "20px"
      }
     },
     "b5c3bb81049d42f99013e2e4ae84526f": {
      "model_module": "@jupyter-widgets/controls",
      "model_module_version": "2.0.0",
      "model_name": "DescriptionStyleModel",
      "state": {
       "description_width": ""
      }
     },
     "b5c4e555e4c148fa9ca4dedac628a80b": {
      "model_module": "@jupyter-widgets/base",
      "model_module_version": "2.0.0",
      "model_name": "LayoutModel",
      "state": {
       "display": "none"
      }
     },
     "b696eb5a8e504eed938073a43b4f27a9": {
      "model_module": "@jupyter-widgets/controls",
      "model_module_version": "2.0.0",
      "model_name": "HTMLStyleModel",
      "state": {
       "description_width": "",
       "font_size": null,
       "text_color": null
      }
     },
     "b699a1d91693477bb6e3e886ab0fc785": {
      "model_module": "@jupyter-widgets/base",
      "model_module_version": "2.0.0",
      "model_name": "LayoutModel",
      "state": {}
     },
     "b6bb7abd5400413f9e632a898be81e42": {
      "model_module": "@jupyter-widgets/controls",
      "model_module_version": "2.0.0",
      "model_name": "HTMLStyleModel",
      "state": {
       "description_width": "",
       "font_size": null,
       "text_color": null
      }
     },
     "b6e047d522bc4de2b11e1a6013652125": {
      "model_module": "@jupyter-widgets/base",
      "model_module_version": "2.0.0",
      "model_name": "LayoutModel",
      "state": {}
     },
     "b6e105e26a9946bb80f6ea604df69af6": {
      "model_module": "@jupyter-widgets/base",
      "model_module_version": "2.0.0",
      "model_name": "LayoutModel",
      "state": {
       "max_width": "auto",
       "min_width": "100px"
      }
     },
     "b6f7ecf425a14033b018de9ee09c8d89": {
      "model_module": "@jupyter-widgets/controls",
      "model_module_version": "2.0.0",
      "model_name": "HTMLModel",
      "state": {
       "layout": "IPY_MODEL_c063b1daa4384baaa25c0e4a9c4cbca3",
       "style": "IPY_MODEL_2b605831a5c24fc3b34fb428a9df34df",
       "value": "<span style=\"color:rgb(87, 176, 53)\"; \"font-size:10.0pt\">&nbsp&nbsp&nbsp&nbsp&nbsp&nbsp <b>#call_nr = 138 - #caller(s): get_var_translation_dict(), format_tool_vars(), reset_selection()</b> &nbsp&nbsp&nbsp&nbsp&nbsp&nbsp</span><span style=\"color:rgb(87, 176, 53)\"; \"font-size:8.0pt\">get_var_translation_dict()<br>&nbsp&nbsp&nbsp&nbsp&nbsp&nbsp -- <b>#call_nr = 138 </b> &nbsp&nbsp&nbsp&nbsp&nbsp&nbsp -- var_translation_dict.value = {'SWC_1 (ETC NRT Meteo)': ['SWC_1', 'ETC NRT Meteo', 'SE-Htm'], 'SWC_2 (ETC NRT Meteo)': ['SWC_2', 'ETC NRT Meteo', 'SE-Htm'], 'SWC_3 (ETC NRT Meteo)': ['SWC_3', 'ETC NRT Meteo', 'SE-Htm'], 'SWC_4 (ETC NRT Meteo)': ['SWC_4', 'ETC NRT Meteo', 'SE-Htm'], 'SWC_5 (ETC NRT Meteo)': ['SWC_5', 'ETC NRT Meteo', 'SE-Htm'], 'H2O (ETC NRT Fluxes)': ['H2O', 'ETC NRT Fluxes', 'SE-Htm'], 'TA (ETC NRT Meteo)': ['TA', 'ETC NRT Meteo', 'SE-Htm'], 'Select all': 'All variables'}</span>"
      }
     },
     "b7066104ebe14586ba1242dfb3ca4e04": {
      "model_module": "@jupyter-widgets/controls",
      "model_module_version": "2.0.0",
      "model_name": "HTMLModel",
      "state": {
       "layout": "IPY_MODEL_2a38370d876d4330b42a44ca07707345",
       "style": "IPY_MODEL_b1683496149f4990aa90a95ddfbbc1ca",
       "value": "<b>Font style: </b>"
      }
     },
     "b70b292b8df54f4a8ff1f73e818c8f25": {
      "model_module": "@jupyter-widgets/base",
      "model_module_version": "2.0.0",
      "model_name": "LayoutModel",
      "state": {}
     },
     "b75a04ccbaeb4295b84de8d83a0bdee6": {
      "model_module": "@jupyter-widgets/controls",
      "model_module_version": "2.0.0",
      "model_name": "TextareaModel",
      "state": {
       "disabled": true,
       "layout": "IPY_MODEL_5e2824b9470c4c37957a9ca8c23b4e67",
       "style": "IPY_MODEL_581fe57298634937806d256ab96f44ff",
       "value": "{'TIMESTAMP': 'Unitless', 'TIMESTAMP_END': 'Unitless', 'D_SNOW': 'cm', 'G_1': 'W m-2', 'G_2': 'W m-2', 'LW_IN': 'W m-2', 'LW_OUT': 'W m-2', 'P': 'mm', 'PA': 'kPa', 'PPFD_DIF': 'µmol m-2 s-1', 'PPFD_IN': 'µmol m-2 s-1', 'PPFD_OUT': 'µmol m-2 s-1', 'RH': '%', 'SWC_1': '%', 'SWC_2': '%', 'SWC_3': '%', 'SWC_4': '%', 'SWC_5': '%', 'SW_IN': 'W m-2', 'SW_OUT': 'W m-2', 'TA': '°C', 'TA_1': '°C', 'TA_2': '°C', 'TA_3': '°C', 'TA_4': '°C', 'TA_5': '°C', 'TA_6': '°C', 'TA_7': '°C', 'TS_1': '°C', 'TS_2': '°C', 'TS_3': '°C', 'TS_4': '°C', 'TS_5': '°C', 'TS_6': '°C', 'VPD': 'hPa', 'WTD': 'm', 'VPD_1': 'hPa', 'PPFD_BC_IN': 'µmol m-2 s-1', 'WS': 'm s-1', 'WD': '°', 'PPFD_IN_1': 'µmol m-2 s-1', 'PPFD_IN_2': 'µmol m-2 s-1', 'SW_IN_1': 'W m-2', 'SW_IN_2': 'W m-2', 'FC': 'µmol m-2 s-1', 'H': 'W m-2', 'H2O': 'mmol mol-1', 'LE': 'W m-2', 'SC': 'µmol m-2 s-1', 'TAU': 'kg m-1 s-2', 'USTAR': 'm s-1', 'W_SIGMA': 'm s-1', 'ZL': 'Unitless', 'NEE': 'µmol m-2 s-1', 'CO2': 'µmol mol-1', 'NEE_UNCLEANED': 'µmol m-2 s-1', 'LE_UNCLEANED': 'W m-2', 'H_UNCLEANED': 'W m-2', 'TA_10': '°C', 'TA_11': '°C', 'TA_12': '°C', 'TA_8': '°C', 'TA_9': '°C', 'SWC_6': '%', 'TS_7': '°C'}"
      }
     },
     "b793aae36c7243eca164627701b19c47": {
      "model_module": "@jupyter-widgets/controls",
      "model_module_version": "2.0.0",
      "model_name": "HTMLStyleModel",
      "state": {
       "description_width": "",
       "font_size": null,
       "text_color": null
      }
     },
     "b7a13ce0b60c4b128c18a657c20c2b01": {
      "model_module": "@jupyter-widgets/controls",
      "model_module_version": "2.0.0",
      "model_name": "VBoxModel",
      "state": {
       "children": [
        "IPY_MODEL_854dcd148386400f8219fb4a6ea7d1ae",
        "IPY_MODEL_d08303ae60a3485382ad68e711d24a7e",
        "IPY_MODEL_783221636ccc41c5b80f6da78712fe66",
        "IPY_MODEL_682b8972e57042baa6101be4b0a437ec",
        "IPY_MODEL_9a42115445e141e8a3d7305f3beb87ba"
       ],
       "layout": "IPY_MODEL_e448a0d4972441d2bc289d36921ec10e"
      }
     },
     "b7b164f838744e499e8e6dd0c2a8819c": {
      "model_module": "@jupyter-widgets/base",
      "model_module_version": "2.0.0",
      "model_name": "LayoutModel",
      "state": {}
     },
     "b7b79e30a28c484ea62a159b02f867f1": {
      "model_module": "@jupyter-widgets/controls",
      "model_module_version": "2.0.0",
      "model_name": "HTMLModel",
      "state": {
       "layout": "IPY_MODEL_df2fea8497e546c69cc42b2e0a9d5523",
       "style": "IPY_MODEL_8fceb73ede664b63a64d99dd633d16cd",
       "value": "<span style=\"color:rgb(156, 34, 37)\"; \"font-size:10.0pt\">&nbsp&nbsp&nbsp&nbsp&nbsp&nbsp <b>#call_nr = 93 - #caller(s): var_button_click(), __call__(), click()</b> &nbsp&nbsp&nbsp&nbsp&nbsp&nbsp</span><span style=\"color:rgb(156, 34, 37)\"; \"font-size:8.0pt\">var_button_click()<br>&nbsp&nbsp&nbsp&nbsp&nbsp&nbsp -- <b>#call_nr = 93 </b> &nbsp&nbsp&nbsp&nbsp&nbsp&nbsp -- btn.description = TA (ETC NRT Meteo)<br>&nbsp&nbsp&nbsp&nbsp&nbsp&nbsp -- <b>#call_nr = 93 </b> &nbsp&nbsp&nbsp&nbsp&nbsp&nbsp -- selected_tools.value = 1<br>&nbsp&nbsp&nbsp&nbsp&nbsp&nbsp -- <b>#call_nr = 93 </b> &nbsp&nbsp&nbsp&nbsp&nbsp&nbsp -- before: - upd_dict[row_index] = {'multi_plot': []}</span>"
      }
     },
     "b7ba0908de0f49079bf36c43b056d3f4": {
      "model_module": "@jupyter-widgets/base",
      "model_module_version": "2.0.0",
      "model_name": "LayoutModel",
      "state": {}
     },
     "b83efbf3a3754992bc0976e66dc69e57": {
      "model_module": "@jupyter-widgets/controls",
      "model_module_version": "2.0.0",
      "model_name": "HTMLModel",
      "state": {
       "layout": "IPY_MODEL_e9a28325999d42a5b58636c655ab5159",
       "style": "IPY_MODEL_3ba338fff97d46cb81c9c31022c5b4c4",
       "value": "<span style=\"color:rgb(174, 175, 106)\"; \"font-size:10.0pt\">&nbsp&nbsp&nbsp&nbsp&nbsp&nbsp <b>#call_nr = 124 - #caller(s): get_batch_upd_dict(), var_button_click(), __call__()</b> &nbsp&nbsp&nbsp&nbsp&nbsp&nbsp</span><span style=\"color:rgb(174, 175, 106)\"; \"font-size:8.0pt\">get_batch_upd_dict()<br>&nbsp&nbsp&nbsp&nbsp&nbsp&nbsp -- <b>#call_nr = 124 </b> &nbsp&nbsp&nbsp&nbsp&nbsp&nbsp -- d ={'_upd_mode': 'update', '_version': 1, '_orig_name': 'mp2 ', '_new_name': 'mp2 ', '_selected_tool_index': 1, '_tools': {0: {'multi_plot': [['%', [['SWC_5', 'ETC NRT Meteo', 'SE-Htm']]], ['mmol mol-1', [['H2O', 'ETC NRT Fluxes', 'SE-Htm']]]]}, 1: {'multi_plot': [('°C', [['TA', 'ETC NRT Meteo', 'SE-Htm']])]}}}</span>"
      }
     },
     "b847fc8a4c1e4b6d9a7247724f15254f": {
      "model_module": "@jupyter-widgets/base",
      "model_module_version": "2.0.0",
      "model_name": "LayoutModel",
      "state": {}
     },
     "b8535993c5974736bcb729b88721ed4b": {
      "model_module": "@jupyter-widgets/controls",
      "model_module_version": "2.0.0",
      "model_name": "HTMLModel",
      "state": {
       "layout": "IPY_MODEL_51281d60492644b2be2ed64fa4ee1639",
       "style": "IPY_MODEL_071898311ecc439b85c7dd44ca342a56",
       "value": "<span style=\"color:rgb(156, 34, 37)\"; \"font-size:10.0pt\">&nbsp&nbsp&nbsp&nbsp&nbsp&nbsp <b>#call_nr = 128 - #caller(s): var_button_click(), __call__(), click()</b> &nbsp&nbsp&nbsp&nbsp&nbsp&nbsp</span><span style=\"color:rgb(156, 34, 37)\"; \"font-size:8.0pt\">var_button_click()**** * * * ***<br>&nbsp&nbsp&nbsp&nbsp&nbsp&nbsp -- <b>#call_nr = 128 </b> &nbsp&nbsp&nbsp&nbsp&nbsp&nbsp -- tool_code = multi_plot<br>&nbsp&nbsp&nbsp&nbsp&nbsp&nbsp -- <b>#call_nr = 128 </b> &nbsp&nbsp&nbsp&nbsp&nbsp&nbsp -- multi_plot_auto_cb.value = True</span>"
      }
     },
     "b8958701730c41b4964eb3f0be014ac3": {
      "model_module": "@jupyter-widgets/controls",
      "model_module_version": "2.0.0",
      "model_name": "HTMLStyleModel",
      "state": {
       "description_width": "",
       "font_size": null,
       "text_color": null
      }
     },
     "b8c71ef241224cdc95df4d5733076427": {
      "model_module": "@jupyter-widgets/controls",
      "model_module_version": "2.0.0",
      "model_name": "SelectModel",
      "state": {
       "_options_labels": [
        "SWC_5 (ETC NRT Meteo), H2O (ETC NRT Fluxes)",
        "TA (ETC NRT Meteo), H2O (ETC NRT Fluxes)"
       ],
       "disabled": true,
       "index": null,
       "layout": "IPY_MODEL_3333a0e26f314e0680c0a7113bf3e1bc",
       "style": "IPY_MODEL_0c5a120d29b04126a9203cc17875df9e",
       "tooltip": ""
      }
     },
     "b8de7fcb84904e12b9a5397a8c03fd26": {
      "model_module": "@jupyter-widgets/controls",
      "model_module_version": "2.0.0",
      "model_name": "HTMLModel",
      "state": {
       "layout": "IPY_MODEL_2a38370d876d4330b42a44ca07707345",
       "style": "IPY_MODEL_73ffb3a783de424f85a56e46ffd71632",
       "value": "<b>Subtitle size:</b> "
      }
     },
     "b8eca286461e4afc9142903ab6658ee4": {
      "model_module": "@jupyter-widgets/controls",
      "model_module_version": "2.0.0",
      "model_name": "HTMLStyleModel",
      "state": {
       "description_width": "",
       "font_size": null,
       "text_color": null
      }
     },
     "b94f617e08954d2d8475610dc6d84d31": {
      "model_module": "@jupyter-widgets/controls",
      "model_module_version": "2.0.0",
      "model_name": "ButtonModel",
      "state": {
       "button_style": "primary",
       "description": "New",
       "icon": "plus",
       "layout": "IPY_MODEL_b6e047d522bc4de2b11e1a6013652125",
       "style": "IPY_MODEL_c7751aad7b8b46a880712fec51af9a92",
       "tooltip": "New batch job..."
      }
     },
     "b958666a53694ff6a5d08cd34bd58ddb": {
      "model_module": "@jupyter-widgets/base",
      "model_module_version": "2.0.0",
      "model_name": "LayoutModel",
      "state": {
       "height": "auto",
       "max_width": "90%",
       "width": "90%"
      }
     },
     "b993f215309f41a383d9204a5c772d0e": {
      "model_module": "@jupyter-widgets/controls",
      "model_module_version": "2.0.0",
      "model_name": "VBoxModel",
      "state": {
       "children": [
        "IPY_MODEL_1efa412ed01a452e90b9c2c7d1393f0d",
        "IPY_MODEL_44f2a01fa4114a4d946657c48bfbfb17",
        "IPY_MODEL_4dd686b6f9e84e9c8c69c516156872e7",
        "IPY_MODEL_fc4d5d53afe3400796b726a88303245a",
        "IPY_MODEL_933cf1f44f054236bc7148c5ecc0b5dd"
       ],
       "layout": "IPY_MODEL_500a31256cc648f49c27ec258b13d522"
      }
     },
     "b9d17e3056584698a057f90aa379c813": {
      "model_module": "@jupyter-widgets/controls",
      "model_module_version": "2.0.0",
      "model_name": "AccordionModel",
      "state": {
       "children": [
        "IPY_MODEL_54bd56ff19d24e5aa420a4353e016e0f"
       ],
       "layout": "IPY_MODEL_b70b292b8df54f4a8ff1f73e818c8f25",
       "titles": [
        "Numerical statistics settings"
       ]
      }
     },
     "ba0e54ccc2b743b09f97805e37d548c9": {
      "model_module": "@jupyter-widgets/base",
      "model_module_version": "2.0.0",
      "model_name": "LayoutModel",
      "state": {
       "max_width": "auto",
       "min_width": "180px"
      }
     },
     "ba2cb700fb5d4ced9e185daee10584bb": {
      "model_module": "@jupyter-widgets/base",
      "model_module_version": "2.0.0",
      "model_name": "LayoutModel",
      "state": {}
     },
     "ba3795e956c3434eac7685ca3c13830b": {
      "model_module": "@jupyter-widgets/controls",
      "model_module_version": "2.0.0",
      "model_name": "HBoxModel",
      "state": {
       "children": [
        "IPY_MODEL_dc433897305b4ea7ac92b226228ecf61",
        "IPY_MODEL_e85800dea3fd49819ec793b2b6c6a060"
       ],
       "layout": "IPY_MODEL_d9199aac0d704cee9d2537b7fb101844"
      }
     },
     "bab6f3e1f2114e1f8cb50c23e069be96": {
      "model_module": "@jupyter-widgets/base",
      "model_module_version": "2.0.0",
      "model_name": "LayoutModel",
      "state": {}
     },
     "baf2d3c9b02e449582df5b93d7c5ae43": {
      "model_module": "@jupyter-widgets/controls",
      "model_module_version": "2.0.0",
      "model_name": "HTMLModel",
      "state": {
       "layout": "IPY_MODEL_eff0f6eff2db40a080332db01936ab05",
       "style": "IPY_MODEL_55f3629e0dcf4e0eacfed5c8e742adc3",
       "value": "<span style=\"color:rgb(97, 124, 64)\"; \"font-size:10.0pt\">&nbsp&nbsp&nbsp&nbsp&nbsp&nbsp <b>#call_nr = 151 - #caller(s): reset_var_buttons(), reset_selection(), _notify_observers()</b> &nbsp&nbsp&nbsp&nbsp&nbsp&nbsp</span><span style=\"color:rgb(97, 124, 64)\"; \"font-size:8.0pt\">reset_var_buttons()  -- restore buttons -- <br>&nbsp&nbsp&nbsp&nbsp&nbsp&nbsp -- <b>#call_nr = 151 </b> &nbsp&nbsp&nbsp&nbsp&nbsp&nbsp --  axis_ls = ['°C', 'mmol mol-1']<br>&nbsp&nbsp&nbsp&nbsp&nbsp&nbsp -- <b>#call_nr = 151 </b> &nbsp&nbsp&nbsp&nbsp&nbsp&nbsp --  btn.tooltip = %<br>&nbsp&nbsp&nbsp&nbsp&nbsp&nbsp -- <b>#call_nr = 151 </b> &nbsp&nbsp&nbsp&nbsp&nbsp&nbsp --  Button = \"SWC_5 (ETC NRT Meteo)\"<br>&nbsp&nbsp&nbsp&nbsp&nbsp&nbsp -- <b>#call_nr = 151 </b> &nbsp&nbsp&nbsp&nbsp&nbsp&nbsp -- ---- disabled</span>"
      }
     },
     "bb40435aaab1474da51550293ef6c387": {
      "model_module": "@jupyter-widgets/controls",
      "model_module_version": "2.0.0",
      "model_name": "HTMLModel",
      "state": {
       "layout": "IPY_MODEL_c39d03fde4954c638203454bd41581b9",
       "style": "IPY_MODEL_05098aa436e04563b6e857d5d9d0d8fd",
       "value": "<span style=\"color:rgb(169, 24, 25)\"; \"font-size:10.0pt\">&nbsp&nbsp&nbsp&nbsp&nbsp&nbsp <b>#call_nr = 164 - #caller(s): init_batch_drop(), reset_batch_gui(), save_batch()</b> &nbsp&nbsp&nbsp&nbsp&nbsp&nbsp</span><span style=\"color:rgb(169, 24, 25)\"; \"font-size:8.0pt\">init_batch_drop()<br>&nbsp&nbsp&nbsp&nbsp&nbsp&nbsp -- <b>#call_nr = 164 </b> &nbsp&nbsp&nbsp&nbsp&nbsp&nbsp -- step 2<br>&nbsp&nbsp&nbsp&nbsp&nbsp&nbsp -- <b>#call_nr = 164 </b> &nbsp&nbsp&nbsp&nbsp&nbsp&nbsp -- batches = {'mp1': {'0': {'multi_plot': [['%', [['SWC_5', 'ETC NRT Meteo', 'SE-Htm'], ['SWC_1', 'ETC NRT Meteo', 'SE-Htm']]], ['mmol mol-1', [['H2O', 'ETC NRT Fluxes', 'SE-Htm']]]]}, '_version': '3'}, 'sp1': {'0': {'split_plot': [['H2O', 'ETC NRT Fluxes', 'SE-Htm'], ['TA', 'ETC NRT Meteo', 'SE-Htm'], ['SWC_3', 'ETC NRT Meteo', 'SE-Htm']]}, '_version': '3'}, 'split and mult': {'0': {'split_plot': [['SWC_1', 'ETC NRT Meteo', 'SE-Htm'], ['SWC_2', 'ETC NRT Meteo', 'SE-Htm'], ['SWC_3', 'ETC NRT Meteo', 'SE-Htm'], ['SWC_4', 'ETC NRT Meteo', 'SE-Htm'], ['SWC_5', 'ETC NRT Meteo', 'SE-Htm']]}, '1': {'multi_plot': [['%', [['SWC_1', 'ETC NRT Meteo', 'SE-Htm'], ['SWC_5', 'ETC NRT Meteo', 'SE-Htm'], ['SWC_2', 'ETC NRT Meteo', 'SE-Htm'], ['SWC_3', 'ETC NRT Meteo', 'SE-Htm']]], ['mmol mol-1', [['H2O', 'ETC NRT Fluxes', 'SE-Htm']]]]}, '2': {'multi_plot': [['%', [['SWC_1', 'ETC NRT Meteo', 'SE-Htm'], ['SWC_5', 'ETC NRT Meteo', 'SE-Htm']]]]}, '_version': '2'}, 'mp2 ': {'0': {'multi_plot': [['%', [['SWC_5', 'ETC NRT Meteo', 'SE-Htm']]], ['mmol mol-1', [['H2O', 'ETC NRT Fluxes', 'SE-Htm']]]]}, '1': {'multi_plot': [('°C', [['TA', 'ETC NRT Meteo', 'SE-Htm']]), ('mmol mol-1', [['H2O', 'ETC NRT Fluxes', 'SE-Htm']])]}, '_version': '2'}}</span>"
      }
     },
     "bb43414645194cbc8107695a653dc737": {
      "model_module": "@jupyter-widgets/controls",
      "model_module_version": "2.0.0",
      "model_name": "TextStyleModel",
      "state": {
       "description_width": "",
       "font_size": null,
       "text_color": null
      }
     },
     "bc35ee9f8cfa4644a247482ff33409bf": {
      "model_module": "@jupyter-widgets/controls",
      "model_module_version": "2.0.0",
      "model_name": "ButtonModel",
      "state": {
       "button_style": "success",
       "description": "Run",
       "icon": "area-chart",
       "layout": "IPY_MODEL_97f0d596ed8c414abcaf857680a99814",
       "style": "IPY_MODEL_5352f8edf2ab45489ce16d2e4f3cc6c6",
       "tooltip": null
      }
     },
     "bc47b41e07724dfca3a36cb4795c1c4f": {
      "model_module": "@jupyter-widgets/controls",
      "model_module_version": "2.0.0",
      "model_name": "ButtonStyleModel",
      "state": {
       "button_color": "LightSeaGreen",
       "font_family": null,
       "font_size": null,
       "font_style": null,
       "font_variant": null,
       "font_weight": null,
       "text_color": null,
       "text_decoration": null
      }
     },
     "bcd8f1ec1fdd419286eff5d61ffebca9": {
      "model_module": "@jupyter-widgets/base",
      "model_module_version": "2.0.0",
      "model_name": "LayoutModel",
      "state": {}
     },
     "bd39b36f9b8d4dbfb7c456aa566f22c7": {
      "model_module": "@jupyter-widgets/base",
      "model_module_version": "2.0.0",
      "model_name": "LayoutModel",
      "state": {}
     },
     "bd5b5c3463fe473a979ee87f7eaca2ac": {
      "model_module": "@jupyter-widgets/base",
      "model_module_version": "2.0.0",
      "model_name": "LayoutModel",
      "state": {}
     },
     "be89c578c03d4a1994d1b1cc6002c0c9": {
      "model_module": "@jupyter-widgets/controls",
      "model_module_version": "2.0.0",
      "model_name": "HTMLModel",
      "state": {
       "layout": "IPY_MODEL_5e0be977934842a9956f6c72cc4807c1",
       "style": "IPY_MODEL_e5ec3d49f6d44ef7a3d9e272183a626b",
       "value": "<span style=\"color:rgb(89, 108, 6)\"; \"font-size:10.0pt\">&nbsp&nbsp&nbsp&nbsp&nbsp&nbsp <b>#call_nr = 39 - #caller(s): set_info_guide(), activate_gui(), update_batch()</b> &nbsp&nbsp&nbsp&nbsp&nbsp&nbsp</span><span style=\"color:rgb(89, 108, 6)\"; \"font-size:8.0pt\">set_info_guide()<br>&nbsp&nbsp&nbsp&nbsp&nbsp&nbsp -- <b>#call_nr = 39 </b> &nbsp&nbsp&nbsp&nbsp&nbsp&nbsp -- ['<b>You are in <i>update mode</i>.</b>', 'Either add a new tool or select a tool, in order to add variables to it.']<br>&nbsp&nbsp&nbsp&nbsp&nbsp&nbsp -- <b>#call_nr = 39 </b> &nbsp&nbsp&nbsp&nbsp&nbsp&nbsp -- []</span>"
      }
     },
     "becd01b1d5c643ff9e0abd08c6b628cc": {
      "model_module": "@jupyter-widgets/controls",
      "model_module_version": "2.0.0",
      "model_name": "HTMLStyleModel",
      "state": {
       "description_width": "",
       "font_size": null,
       "text_color": null
      }
     },
     "bef815784d5c42d8b04a6e9b07a38a94": {
      "model_module": "@jupyter-widgets/base",
      "model_module_version": "2.0.0",
      "model_name": "LayoutModel",
      "state": {}
     },
     "bf332efe55a64425a5dea67346a0a4ae": {
      "model_module": "@jupyter-widgets/base",
      "model_module_version": "2.0.0",
      "model_name": "LayoutModel",
      "state": {}
     },
     "bf65413e6b804b6b9bec1f9018c0bcd2": {
      "model_module": "@jupyter-widgets/base",
      "model_module_version": "2.0.0",
      "model_name": "LayoutModel",
      "state": {}
     },
     "bf6e176a514e44f6896da5507e5e69db": {
      "model_module": "@jupyter-widgets/controls",
      "model_module_version": "2.0.0",
      "model_name": "HTMLStyleModel",
      "state": {
       "description_width": "",
       "font_size": null,
       "text_color": null
      }
     },
     "c02286c862a24cf0a33de34d76103bfa": {
      "model_module": "@jupyter-widgets/controls",
      "model_module_version": "2.0.0",
      "model_name": "HTMLStyleModel",
      "state": {
       "description_width": "",
       "font_size": null,
       "text_color": null
      }
     },
     "c0346ad4db5445b4a9a2d0d55f5fcc74": {
      "model_module": "@jupyter-widgets/base",
      "model_module_version": "2.0.0",
      "model_name": "LayoutModel",
      "state": {}
     },
     "c063b1daa4384baaa25c0e4a9c4cbca3": {
      "model_module": "@jupyter-widgets/base",
      "model_module_version": "2.0.0",
      "model_name": "LayoutModel",
      "state": {}
     },
     "c12fee9efed243b3965b80e144c946bf": {
      "model_module": "@jupyter-widgets/controls",
      "model_module_version": "2.0.0",
      "model_name": "HTMLModel",
      "state": {
       "layout": "IPY_MODEL_2a38370d876d4330b42a44ca07707345",
       "style": "IPY_MODEL_24d9aaed50f8407db24b6fc8bbb6f820",
       "value": "<b>Font size: </b>"
      }
     },
     "c1795d1c18d646ce9915274f76574443": {
      "model_module": "@jupyter-widgets/controls",
      "model_module_version": "2.0.0",
      "model_name": "HBoxModel",
      "state": {
       "children": [
        "IPY_MODEL_ac5750ef22b844c9b9f7d2821c005fb4",
        "IPY_MODEL_0595059d087946bfaf6154b047f0ad82",
        "IPY_MODEL_d5e1fafa2cb24aafbe63cc7409c7ba74"
       ],
       "layout": "IPY_MODEL_c963e5eb45a7411691384fe325340f97"
      }
     },
     "c1cfd70d340449eabc7a829eb98ce03b": {
      "model_module": "@jupyter-widgets/base",
      "model_module_version": "2.0.0",
      "model_name": "LayoutModel",
      "state": {}
     },
     "c1f49a68fa01489bb58010bec927e304": {
      "model_module": "@jupyter-widgets/base",
      "model_module_version": "2.0.0",
      "model_name": "LayoutModel",
      "state": {
       "max_width": "auto",
       "min_width": "210px"
      }
     },
     "c2377b79a36345c489a892e0b0f4510a": {
      "model_module": "@jupyter-widgets/base",
      "model_module_version": "2.0.0",
      "model_name": "LayoutModel",
      "state": {}
     },
     "c24ff67f530d4748aafca448fd9ae388": {
      "model_module": "@jupyter-widgets/controls",
      "model_module_version": "2.0.0",
      "model_name": "HTMLStyleModel",
      "state": {
       "description_width": "",
       "font_size": null,
       "text_color": null
      }
     },
     "c273f2404fd5470cb043d368d791726d": {
      "model_module": "@jupyter-widgets/controls",
      "model_module_version": "2.0.0",
      "model_name": "HTMLModel",
      "state": {
       "layout": "IPY_MODEL_ae646251b5e7480dad6fb045450ef1d5",
       "style": "IPY_MODEL_ebb94c2cf20345ed9f600ab3720bc1a5",
       "value": "<span style=\"color:rgb(41, 101, 137)\"; \"font-size:10.0pt\">&nbsp&nbsp&nbsp&nbsp&nbsp&nbsp <b>#call_nr = 25 - #caller(s): reset_batch_gui(), changed_group_drop(), _notify_observers()</b> &nbsp&nbsp&nbsp&nbsp&nbsp&nbsp</span><span style=\"color:rgb(41, 101, 137)\"; \"font-size:8.0pt\">reset_batch_gui()<br>&nbsp&nbsp&nbsp&nbsp&nbsp&nbsp -- <b>#call_nr = 25 </b> &nbsp&nbsp&nbsp&nbsp&nbsp&nbsp -- --- end ---</span>"
      }
     },
     "c2cb2ad66bb14326a9a0106c2508fac7": {
      "model_module": "@jupyter-widgets/base",
      "model_module_version": "2.0.0",
      "model_name": "LayoutModel",
      "state": {}
     },
     "c2e6ea1d16ba446db7a1604ea4ce9980": {
      "model_module": "@jupyter-widgets/controls",
      "model_module_version": "2.0.0",
      "model_name": "HBoxModel",
      "state": {
       "children": [
        "IPY_MODEL_e78fd035b4084ebc9215a08e918509f2",
        "IPY_MODEL_3c687d88778e4753a1ed896e9971f147"
       ],
       "layout": "IPY_MODEL_d58bfd45907b49988a4749f47d134442"
      }
     },
     "c32d877732ba4a5e8efd2f72110a8483": {
      "model_module": "@jupyter-widgets/base",
      "model_module_version": "2.0.0",
      "model_name": "LayoutModel",
      "state": {}
     },
     "c337eb652aa6454faae6a235946979a0": {
      "model_module": "@jupyter-widgets/controls",
      "model_module_version": "2.0.0",
      "model_name": "HTMLStyleModel",
      "state": {
       "description_width": "",
       "font_size": null,
       "text_color": null
      }
     },
     "c34dce360cf543cc87490c0f2e0b02e5": {
      "model_module": "@jupyter-widgets/controls",
      "model_module_version": "2.0.0",
      "model_name": "HBoxModel",
      "state": {
       "children": [
        "IPY_MODEL_583c1447e6584eae95a5def80167c31b",
        "IPY_MODEL_ecd376633dd34f218d3790b0979784bd"
       ],
       "layout": "IPY_MODEL_9322a1c53ce147159b46931e483f044a"
      }
     },
     "c39d03fde4954c638203454bd41581b9": {
      "model_module": "@jupyter-widgets/base",
      "model_module_version": "2.0.0",
      "model_name": "LayoutModel",
      "state": {}
     },
     "c4a1515136424f2abce827590f4fc34c": {
      "model_module": "@jupyter-widgets/base",
      "model_module_version": "2.0.0",
      "model_name": "LayoutModel",
      "state": {}
     },
     "c54eb5a0d87e4302b1f06bb615868848": {
      "model_module": "@jupyter-widgets/base",
      "model_module_version": "2.0.0",
      "model_name": "LayoutModel",
      "state": {}
     },
     "c5f12f8f33c44c20af9d93a6e9392979": {
      "model_module": "@jupyter-widgets/controls",
      "model_module_version": "2.0.0",
      "model_name": "HTMLStyleModel",
      "state": {
       "description_width": "",
       "font_size": null,
       "text_color": null
      }
     },
     "c617211e607c47c0b18696269e60f5e3": {
      "model_module": "@jupyter-widgets/controls",
      "model_module_version": "2.0.0",
      "model_name": "DescriptionStyleModel",
      "state": {
       "description_width": ""
      }
     },
     "c624bccc6f184f83aed0e990bf1b8b0e": {
      "model_module": "@jupyter-widgets/controls",
      "model_module_version": "2.0.0",
      "model_name": "ButtonModel",
      "state": {
       "description": "Clear debug list",
       "layout": "IPY_MODEL_88d14c60d7384840956e07a668c28a6d",
       "style": "IPY_MODEL_a2c036c75926471e9ab2fa248bf6608b",
       "tooltip": null
      }
     },
     "c626a38eae4643dc928a54e47e3ce516": {
      "model_module": "@jupyter-widgets/controls",
      "model_module_version": "2.0.0",
      "model_name": "HTMLStyleModel",
      "state": {
       "description_width": "",
       "font_size": null,
       "text_color": null
      }
     },
     "c6569f3d471046049057f907b6d27cce": {
      "model_module": "@jupyter-widgets/controls",
      "model_module_version": "2.0.0",
      "model_name": "DropdownModel",
      "state": {
       "_options_labels": [
        "1",
        "2",
        "3",
        "4",
        "5",
        "6",
        "7",
        "8",
        "9",
        "10",
        "11",
        "12",
        "13",
        "14",
        "15",
        "16",
        "17",
        "18",
        "19",
        "20",
        "21",
        "22",
        "23",
        "24",
        "25",
        "26",
        "27",
        "28",
        "29",
        "30",
        "31",
        "32",
        "33",
        "34",
        "35",
        "36",
        "37",
        "38",
        "39",
        "40",
        "41",
        "42",
        "43",
        "44",
        "45",
        "46",
        "47",
        "48",
        "49",
        "50",
        "51",
        "52",
        "53",
        "54",
        "55",
        "56",
        "57",
        "58",
        "59",
        "60",
        "61",
        "62",
        "63",
        "64",
        "65",
        "66",
        "67",
        "68",
        "69",
        "70",
        "71",
        "72",
        "73",
        "74",
        "75",
        "76",
        "77",
        "78",
        "79",
        "80",
        "81",
        "82",
        "83",
        "84",
        "85",
        "86",
        "87",
        "88",
        "89",
        "90",
        "91",
        "92",
        "93",
        "94",
        "95",
        "96",
        "97",
        "98",
        "99"
       ],
       "description": "Max days",
       "index": 5,
       "layout": "IPY_MODEL_f3bf43a7fec24a9391d954b6ff278d4f",
       "style": "IPY_MODEL_3c0507e8bd8d4a20a92c369e0274c844"
      }
     },
     "c65771833bec47d785ede288a3646b4f": {
      "model_module": "@jupyter-widgets/controls",
      "model_module_version": "2.0.0",
      "model_name": "CheckboxModel",
      "state": {
       "disabled": false,
       "indent": false,
       "layout": "IPY_MODEL_b5729f80a12c47b7ac291b818f1f6668",
       "style": "IPY_MODEL_82f292f19f0247e9834e8ed6559e3e35",
       "tooltip": "Applies to the y-axis",
       "value": true
      }
     },
     "c6fafd3023a34bb4b0e885af60a6978c": {
      "model_module": "@jupyter-widgets/controls",
      "model_module_version": "2.0.0",
      "model_name": "HTMLModel",
      "state": {
       "layout": "IPY_MODEL_87a32bd73f8b4088a510938700425e0c",
       "style": "IPY_MODEL_c24ff67f530d4748aafca448fd9ae388",
       "value": "<span style=\"color:rgb(112, 46, 5)\"; \"font-size:10.0pt\">&nbsp&nbsp&nbsp&nbsp&nbsp&nbsp <b>#call_nr = 49 - #caller(s): get_var2unit_dict(), var2unit(), init_group_var_buttons()</b> &nbsp&nbsp&nbsp&nbsp&nbsp&nbsp</span><span style=\"color:rgb(112, 46, 5)\"; \"font-size:8.0pt\">get_var2unit_dict()</span>"
      }
     },
     "c70d17a9a5194c86bc8c6d57bba2e08c": {
      "model_module": "@jupyter-widgets/base",
      "model_module_version": "2.0.0",
      "model_name": "LayoutModel",
      "state": {}
     },
     "c7751aad7b8b46a880712fec51af9a92": {
      "model_module": "@jupyter-widgets/controls",
      "model_module_version": "2.0.0",
      "model_name": "ButtonStyleModel",
      "state": {
       "font_family": null,
       "font_size": null,
       "font_style": null,
       "font_variant": null,
       "font_weight": null,
       "text_color": null,
       "text_decoration": null
      }
     },
     "c814ce49de5d46f1ade79b62ac2062b0": {
      "model_module": "@jupyter-widgets/base",
      "model_module_version": "2.0.0",
      "model_name": "LayoutModel",
      "state": {}
     },
     "c8322976fb034cca819c93eb5894d8c6": {
      "model_module": "@jupyter-widgets/controls",
      "model_module_version": "2.0.0",
      "model_name": "HTMLStyleModel",
      "state": {
       "description_width": "",
       "font_size": null,
       "text_color": null
      }
     },
     "c83ee99141634265806e5eca5ac129cd": {
      "model_module": "@jupyter-widgets/controls",
      "model_module_version": "2.0.0",
      "model_name": "HBoxModel",
      "state": {
       "children": [
        "IPY_MODEL_60062ae8f2f8420aabbe05086de1c175",
        "IPY_MODEL_2b4a2d54d5ed4ad9978f7dca3602846a"
       ],
       "layout": "IPY_MODEL_fff486796c2345c4b5c79372ea77ac6b"
      }
     },
     "c85f707fc58542dd9086d8f72aebdfc7": {
      "model_module": "@jupyter-widgets/base",
      "model_module_version": "2.0.0",
      "model_name": "LayoutModel",
      "state": {
       "max_width": "auto",
       "min_width": "210px"
      }
     },
     "c918d850607c4378b930c60af6ebb44d": {
      "model_module": "@jupyter-widgets/controls",
      "model_module_version": "2.0.0",
      "model_name": "HTMLStyleModel",
      "state": {
       "description_width": "",
       "font_size": null,
       "text_color": null
      }
     },
     "c93030bde7a74f449c85d759b8b346a8": {
      "model_module": "@jupyter-widgets/controls",
      "model_module_version": "2.0.0",
      "model_name": "HTMLStyleModel",
      "state": {
       "description_width": "",
       "font_size": null,
       "text_color": null
      }
     },
     "c963e5eb45a7411691384fe325340f97": {
      "model_module": "@jupyter-widgets/base",
      "model_module_version": "2.0.0",
      "model_name": "LayoutModel",
      "state": {
       "align_content": "flex-start",
       "display": "inline-flex",
       "flex_flow": "row wrap",
       "width": "99%"
      }
     },
     "c96aff835b4a41f49f56f513767a535f": {
      "model_module": "@jupyter-widgets/controls",
      "model_module_version": "2.0.0",
      "model_name": "HTMLStyleModel",
      "state": {
       "description_width": "",
       "font_size": null,
       "text_color": null
      }
     },
     "c9ab0f028f164f3e9413272068088d42": {
      "model_module": "@jupyter-widgets/controls",
      "model_module_version": "2.0.0",
      "model_name": "HTMLModel",
      "state": {
       "layout": "IPY_MODEL_ed9a013f62114af3abdb4abf834862fc",
       "style": "IPY_MODEL_541d4b1975d048efa24d88536054ac99",
       "value": "<span style=\"color:rgb(174, 175, 106)\"; \"font-size:10.0pt\">&nbsp&nbsp&nbsp&nbsp&nbsp&nbsp <b>#call_nr = 157 - #caller(s): get_batch_upd_dict(), validate_name(), save_batch()</b> &nbsp&nbsp&nbsp&nbsp&nbsp&nbsp</span><span style=\"color:rgb(174, 175, 106)\"; \"font-size:8.0pt\">get_batch_upd_dict()<br>&nbsp&nbsp&nbsp&nbsp&nbsp&nbsp -- <b>#call_nr = 157 </b> &nbsp&nbsp&nbsp&nbsp&nbsp&nbsp -- d ={'_upd_mode': 'update', '_version': 1, '_orig_name': 'mp2 ', '_new_name': 'mp2 ', '_selected_tool_index': 1, '_tools': {0: {'multi_plot': [['%', [['SWC_5', 'ETC NRT Meteo', 'SE-Htm']]], ['mmol mol-1', [['H2O', 'ETC NRT Fluxes', 'SE-Htm']]]]}, 1: {'multi_plot': [('°C', [['TA', 'ETC NRT Meteo', 'SE-Htm']]), ('mmol mol-1', [['H2O', 'ETC NRT Fluxes', 'SE-Htm']])]}}}</span>"
      }
     },
     "ca00569b8e154ccb8bed731da7fd7a42": {
      "model_module": "@jupyter-widgets/base",
      "model_module_version": "2.0.0",
      "model_name": "LayoutModel",
      "state": {}
     },
     "ca65847ddee943fb9ef5c99bf18260ab": {
      "model_module": "@jupyter-widgets/base",
      "model_module_version": "2.0.0",
      "model_name": "LayoutModel",
      "state": {}
     },
     "ca74af32d63d4369b82384cab27ec091": {
      "model_module": "@jupyter-widgets/controls",
      "model_module_version": "2.0.0",
      "model_name": "HTMLModel",
      "state": {
       "layout": "IPY_MODEL_81c55138697c4801bdc8dbac5e40f1e7",
       "style": "IPY_MODEL_4c5a213725064df88f903ec351137134",
       "value": "<span><b>Guide:</b><br>In a <b><i>Multi-plot</i></b> you can visualize several variables in one plot. The maximum number of y-axes is limited to 2, with maximum one unit per axis.<br>When selecting variables for a multi-plot they will, by default, be mapped to the y-axis according to their unit. However, this behaviour can be changed using the checkbox <b><i>Automatic axis selection</b></i>, in which case it is possible two have variables with the same unit on different axes.<br>The background color can be changed by switching the <b><i><a href=\"https://plotly.com/python/templates/\" target=\"_blank\"><font color=\"DarkBlue\">Plotly template</font></a></i></b>.<br>Setting <b><i>Height</i></b> or <b><i>Width</i></b> to a value below 200 will lead to plotly default value. <br></span>"
      }
     },
     "cb0ce781e89845ce8f2ab58013c16429": {
      "model_module": "@jupyter-widgets/controls",
      "model_module_version": "2.0.0",
      "model_name": "ButtonStyleModel",
      "state": {
       "font_family": null,
       "font_size": null,
       "font_style": null,
       "font_variant": null,
       "font_weight": null,
       "text_color": null,
       "text_decoration": null
      }
     },
     "cb84ebfc9c5e4f5792e914a4c3cd25d2": {
      "model_module": "@jupyter-widgets/controls",
      "model_module_version": "2.0.0",
      "model_name": "ButtonModel",
      "state": {
       "description": "H2O (ETC NRT Fluxes)",
       "layout": "IPY_MODEL_06f3f9dc16ce4bf18a0283d982a417a9",
       "style": "IPY_MODEL_3024885539db4e95b1d7086df121b9b7",
       "tooltip": "mmol mol-1"
      }
     },
     "cb8d859687ae4a429a6d3fd4e7f4d2ea": {
      "model_module": "@jupyter-widgets/controls",
      "model_module_version": "2.0.0",
      "model_name": "HTMLStyleModel",
      "state": {
       "description_width": "",
       "font_size": null,
       "text_color": null
      }
     },
     "cbaee1e8b35d41eeb5abf9304a911d7c": {
      "model_module": "@jupyter-widgets/controls",
      "model_module_version": "2.0.0",
      "model_name": "HTMLStyleModel",
      "state": {
       "description_width": "",
       "font_size": null,
       "text_color": null
      }
     },
     "cbc3d7ef50e448fba007e6ae5dba6fba": {
      "model_module": "@jupyter-widgets/controls",
      "model_module_version": "2.0.0",
      "model_name": "DescriptionStyleModel",
      "state": {
       "description_width": ""
      }
     },
     "cbeaf2cee58b4a388e83a0910739d455": {
      "model_module": "@jupyter-widgets/base",
      "model_module_version": "2.0.0",
      "model_name": "LayoutModel",
      "state": {}
     },
     "cc143d987c2e4dd7ab2b3c4a762041f7": {
      "model_module": "@jupyter-widgets/base",
      "model_module_version": "2.0.0",
      "model_name": "LayoutModel",
      "state": {}
     },
     "cc8375066b6c44cfad39237812475bd0": {
      "model_module": "@jupyter-widgets/controls",
      "model_module_version": "2.0.0",
      "model_name": "HTMLStyleModel",
      "state": {
       "description_width": "",
       "font_size": null,
       "text_color": null
      }
     },
     "ccc170661f84478cb2483603df2df09a": {
      "model_module": "@jupyter-widgets/base",
      "model_module_version": "2.0.0",
      "model_name": "LayoutModel",
      "state": {}
     },
     "cce05ad09bd8401b8701fa9c38be627b": {
      "model_module": "@jupyter-widgets/controls",
      "model_module_version": "2.0.0",
      "model_name": "HTMLModel",
      "state": {
       "layout": "IPY_MODEL_ba2cb700fb5d4ced9e185daee10584bb",
       "style": "IPY_MODEL_ce3d366f82464265a04846c4e7a0a7ac",
       "value": "<span style=\"color:rgb(10, 125, 11)\"; \"font-size:10.0pt\">&nbsp&nbsp&nbsp&nbsp&nbsp&nbsp <b>#call_nr = 37 - #caller(s): activate_gui(), update_batch(), __call__()</b> &nbsp&nbsp&nbsp&nbsp&nbsp&nbsp</span><span style=\"color:rgb(10, 125, 11)\"; \"font-size:8.0pt\">activate_gui()<br>&nbsp&nbsp&nbsp&nbsp&nbsp&nbsp -- <b>#call_nr = 37 </b> &nbsp&nbsp&nbsp&nbsp&nbsp&nbsp -- upd_active = update</span>"
      }
     },
     "cd4b673f275347f19b8fb68c44b91217": {
      "model_module": "@jupyter-widgets/controls",
      "model_module_version": "2.0.0",
      "model_name": "HTMLModel",
      "state": {
       "layout": "IPY_MODEL_6e2de10704264e34ae8a22fb1bff93cf",
       "style": "IPY_MODEL_6e96b863fb764d869c8ed300196b3c81",
       "value": "<span style=\"color:rgb(56, 23, 78)\"; \"font-size:10.0pt\">&nbsp&nbsp&nbsp&nbsp&nbsp&nbsp <b>#call_nr = 139 - #caller(s): set_selections(), reset_selection(), _notify_observers()</b> &nbsp&nbsp&nbsp&nbsp&nbsp&nbsp</span><span style=\"color:rgb(56, 23, 78)\"; \"font-size:8.0pt\">set_selections()<br>&nbsp&nbsp&nbsp&nbsp&nbsp&nbsp -- <b>#call_nr = 139 </b> &nbsp&nbsp&nbsp&nbsp&nbsp&nbsp -- step 1<br>&nbsp&nbsp&nbsp&nbsp&nbsp&nbsp -- <b>#call_nr = 139 </b> &nbsp&nbsp&nbsp&nbsp&nbsp&nbsp -- sel_tool_ls = [('Multi-plot', 0), ('Multi-plot', 1)]<br>&nbsp&nbsp&nbsp&nbsp&nbsp&nbsp -- <b>#call_nr = 139 </b> &nbsp&nbsp&nbsp&nbsp&nbsp&nbsp -- sel_tool_index = 1<br>&nbsp&nbsp&nbsp&nbsp&nbsp&nbsp -- <b>#call_nr = 139 </b> &nbsp&nbsp&nbsp&nbsp&nbsp&nbsp -- sel_var_ls = [('SWC_5 (ETC NRT Meteo), H2O (ETC NRT Fluxes)', (0, [['%', [['SWC_5', 'ETC NRT Meteo', 'SE-Htm']]], ['mmol mol-1', [['H2O', 'ETC NRT Fluxes', 'SE-Htm']]]])), ('TA (ETC NRT Meteo), H2O (ETC NRT Fluxes)', (1, [('°C', [['TA', 'ETC NRT Meteo', 'SE-Htm']]), ('mmol mol-1', [['H2O', 'ETC NRT Fluxes', 'SE-Htm']])]))]</span>"
      }
     },
     "cd9b990e54504d00a972867118238116": {
      "model_module": "@jupyter-widgets/controls",
      "model_module_version": "2.0.0",
      "model_name": "HTMLStyleModel",
      "state": {
       "description_width": "",
       "font_size": null,
       "text_color": null
      }
     },
     "cda93d4fb2974770939a90a99835431a": {
      "model_module": "@jupyter-widgets/controls",
      "model_module_version": "2.0.0",
      "model_name": "HTMLModel",
      "state": {
       "layout": "IPY_MODEL_f8436c4a1c2246c1952c4171d3f50c89",
       "style": "IPY_MODEL_e1005a2032b74b4798b1314bf57d29c9",
       "value": "<span style=\"color:rgb(174, 175, 106)\"; \"font-size:10.0pt\">&nbsp&nbsp&nbsp&nbsp&nbsp&nbsp <b>#call_nr = 92 - #caller(s): get_batch_upd_dict(), var_button_click(), __call__()</b> &nbsp&nbsp&nbsp&nbsp&nbsp&nbsp</span><span style=\"color:rgb(174, 175, 106)\"; \"font-size:8.0pt\">get_batch_upd_dict()<br>&nbsp&nbsp&nbsp&nbsp&nbsp&nbsp -- <b>#call_nr = 92 </b> &nbsp&nbsp&nbsp&nbsp&nbsp&nbsp -- d ={'_upd_mode': 'update', '_version': 1, '_orig_name': 'mp2 ', '_new_name': 'mp2 ', '_selected_tool_index': 1, '_tools': {0: {'multi_plot': [['%', [['SWC_5', 'ETC NRT Meteo', 'SE-Htm']]], ['mmol mol-1', [['H2O', 'ETC NRT Fluxes', 'SE-Htm']]]]}, 1: {'multi_plot': []}}}</span>"
      }
     },
     "cdeb6aea59f24e24a3d39139149b44d3": {
      "model_module": "@jupyter-widgets/controls",
      "model_module_version": "2.0.0",
      "model_name": "HTMLModel",
      "state": {
       "layout": "IPY_MODEL_ec0b02fba9c441a6aa9c35ce464187d6",
       "style": "IPY_MODEL_226565a0ae464220bd04a4df082cc9b5",
       "value": "<span style=\"color:rgb(74, 9, 65)\"; \"font-size:10.0pt\">&nbsp&nbsp&nbsp&nbsp&nbsp&nbsp <b>#call_nr = 59 - #caller(s): tool_click(), __call__(), click()</b> &nbsp&nbsp&nbsp&nbsp&nbsp&nbsp</span><span style=\"color:rgb(74, 9, 65)\"; \"font-size:8.0pt\">tool_click()<br>&nbsp&nbsp&nbsp&nbsp&nbsp&nbsp -- <b>#call_nr = 59 </b> &nbsp&nbsp&nbsp&nbsp&nbsp&nbsp -- tool.description = Multi-plot<br>&nbsp&nbsp&nbsp&nbsp&nbsp&nbsp -- <b>#call_nr = 59 </b> &nbsp&nbsp&nbsp&nbsp&nbsp&nbsp -- tool.icon = </span>"
      }
     },
     "cdfebabef5574e12987d61406dd7cf90": {
      "model_module": "@jupyter-widgets/base",
      "model_module_version": "2.0.0",
      "model_name": "LayoutModel",
      "state": {}
     },
     "ce3d366f82464265a04846c4e7a0a7ac": {
      "model_module": "@jupyter-widgets/controls",
      "model_module_version": "2.0.0",
      "model_name": "HTMLStyleModel",
      "state": {
       "description_width": "",
       "font_size": null,
       "text_color": null
      }
     },
     "ce3f9a68c5d746fabebd6c438ed83d48": {
      "model_module": "@jupyter-widgets/controls",
      "model_module_version": "2.0.0",
      "model_name": "HTMLModel",
      "state": {
       "layout": "IPY_MODEL_2a38370d876d4330b42a44ca07707345",
       "style": "IPY_MODEL_336f6922e25243cf807ddc5e06396746",
       "value": "<b>Height:</b>"
      }
     },
     "cebe2b1cbf4644eeb03157d190fdd9b7": {
      "model_module": "@jupyter-widgets/controls",
      "model_module_version": "2.0.0",
      "model_name": "HTMLModel",
      "state": {
       "layout": "IPY_MODEL_bef815784d5c42d8b04a6e9b07a38a94",
       "style": "IPY_MODEL_f4b0911f556b41c181aa9d72c36bfe36",
       "value": "<span style=\"color:rgb(43, 33, 90)\"; \"font-size:10.0pt\">&nbsp&nbsp&nbsp&nbsp&nbsp&nbsp <b>#call_nr = 132 - #caller(s): update_batch_dict(), var_button_click(), __call__()</b> &nbsp&nbsp&nbsp&nbsp&nbsp&nbsp</span><span style=\"color:rgb(43, 33, 90)\"; \"font-size:8.0pt\">update_batch_dict()<br>&nbsp&nbsp&nbsp&nbsp&nbsp&nbsp -- <b>#call_nr = 132 </b> &nbsp&nbsp&nbsp&nbsp&nbsp&nbsp -- d = {'_tools': {0: {'multi_plot': [['%', [['SWC_5', 'ETC NRT Meteo', 'SE-Htm']]], ['mmol mol-1', [['H2O', 'ETC NRT Fluxes', 'SE-Htm']]]]}, 1: {'multi_plot': [('°C', [['TA', 'ETC NRT Meteo', 'SE-Htm']]), ('mmol mol-1', [['H2O', 'ETC NRT Fluxes', 'SE-Htm']])]}}, '_selected_tool_index': 1}</span>"
      }
     },
     "cedcbbb23b5641d0887f0be99b01038d": {
      "model_module": "@jupyter-widgets/controls",
      "model_module_version": "2.0.0",
      "model_name": "ButtonStyleModel",
      "state": {
       "button_color": "LightGreen",
       "font_family": null,
       "font_size": null,
       "font_style": null,
       "font_variant": null,
       "font_weight": null,
       "text_color": null,
       "text_decoration": null
      }
     },
     "cef503be3e9b416f8fbc2aab93ad610a": {
      "model_module": "@jupyter-widgets/base",
      "model_module_version": "2.0.0",
      "model_name": "LayoutModel",
      "state": {}
     },
     "cf6e84d2c78c460a939d7b0c12ad315c": {
      "model_module": "@jupyter-widgets/base",
      "model_module_version": "2.0.0",
      "model_name": "LayoutModel",
      "state": {}
     },
     "cf721e9e6ac947d284f6aed58364a0f8": {
      "model_module": "@jupyter-widgets/controls",
      "model_module_version": "2.0.0",
      "model_name": "HTMLModel",
      "state": {
       "layout": "IPY_MODEL_539f526c1fb74e798a02a072551fe535",
       "style": "IPY_MODEL_d89647d5e9a94469b80d663935ce32e2",
       "value": "<span style=\"color:rgb(125, 58, 62)\"; \"font-size:10.0pt\">&nbsp&nbsp&nbsp&nbsp&nbsp&nbsp <b>#call_nr = 156 - #caller(s): save_batch(), __call__(), click()</b> &nbsp&nbsp&nbsp&nbsp&nbsp&nbsp</span><span style=\"color:rgb(125, 58, 62)\"; \"font-size:8.0pt\">save_batch()<br>&nbsp&nbsp&nbsp&nbsp&nbsp&nbsp -- <b>#call_nr = 156 </b> &nbsp&nbsp&nbsp&nbsp&nbsp&nbsp -- upd_dict = {'_upd_mode': 'update', '_version': 1, '_orig_name': 'mp2 ', '_new_name': 'mp2 ', '_selected_tool_index': 1, '_tools': {'0': {'multi_plot': [['%', [['SWC_5', 'ETC NRT Meteo', 'SE-Htm']]], ['mmol mol-1', [['H2O', 'ETC NRT Fluxes', 'SE-Htm']]]]}, '1': {'multi_plot': [('°C', [['TA', 'ETC NRT Meteo', 'SE-Htm']]), ('mmol mol-1', [['H2O', 'ETC NRT Fluxes', 'SE-Htm']])]}}}</span>"
      }
     },
     "cf76a55fb7c046438c8d396f3b578b05": {
      "model_module": "@jupyter-widgets/base",
      "model_module_version": "2.0.0",
      "model_name": "LayoutModel",
      "state": {}
     },
     "cfb96bff571c4786a9e449bd18581e6f": {
      "model_module": "@jupyter-widgets/controls",
      "model_module_version": "2.0.0",
      "model_name": "ButtonModel",
      "state": {
       "description": "TA (ETC NRT Meteo)",
       "layout": "IPY_MODEL_ba0e54ccc2b743b09f97805e37d548c9",
       "style": "IPY_MODEL_6841eb2516974378aa683bffdf6f736c",
       "tooltip": "°C"
      }
     },
     "d049aa12f68b4e3c87e6106b5b3479be": {
      "model_module": "@jupyter-widgets/controls",
      "model_module_version": "2.0.0",
      "model_name": "HTMLStyleModel",
      "state": {
       "description_width": "",
       "font_size": null,
       "text_color": null
      }
     },
     "d08303ae60a3485382ad68e711d24a7e": {
      "model_module": "@jupyter-widgets/controls",
      "model_module_version": "2.0.0",
      "model_name": "HBoxModel",
      "state": {
       "children": [
        "IPY_MODEL_a82d9cc78b914e6598d58f98b47fe35c",
        "IPY_MODEL_f36c740465784c1a8fc76acaec30a077"
       ],
       "layout": "IPY_MODEL_b699a1d91693477bb6e3e886ab0fc785"
      }
     },
     "d11164669a4d470ca800f463d944d7eb": {
      "model_module": "@jupyter-widgets/base",
      "model_module_version": "2.0.0",
      "model_name": "LayoutModel",
      "state": {}
     },
     "d124afff8bd9438d93926fb8e3abbfac": {
      "model_module": "@jupyter-widgets/controls",
      "model_module_version": "2.0.0",
      "model_name": "HTMLModel",
      "state": {
       "layout": "IPY_MODEL_3b78b42c2d6a44d7aecfae1c74e11c77",
       "style": "IPY_MODEL_8bded2ce7cd3436696e38fdf691a64b6",
       "value": "<span style=\"color:rgb(115, 110, 51)\"; \"font-size:10.0pt\">&nbsp&nbsp&nbsp&nbsp&nbsp&nbsp <b>#call_nr = 64 - #caller(s): tool_selections(), tool_click(), __call__()</b> &nbsp&nbsp&nbsp&nbsp&nbsp&nbsp</span><span style=\"color:rgb(115, 110, 51)\"; \"font-size:8.0pt\">tool_selections()<br>&nbsp&nbsp&nbsp&nbsp&nbsp&nbsp -- <b>#call_nr = 64 </b> &nbsp&nbsp&nbsp&nbsp&nbsp&nbsp -- tools (cleaned) ={0: {'multi_plot': [['%', [['SWC_5', 'ETC NRT Meteo', 'SE-Htm']]], ['mmol mol-1', [['H2O', 'ETC NRT Fluxes', 'SE-Htm']]]]}}</span>"
      }
     },
     "d133c23aebf14091841a51854eae95b4": {
      "model_module": "@jupyter-widgets/base",
      "model_module_version": "2.0.0",
      "model_name": "LayoutModel",
      "state": {}
     },
     "d14d0811db834135b39b6b5f4a695c98": {
      "model_module": "@jupyter-widgets/base",
      "model_module_version": "2.0.0",
      "model_name": "LayoutModel",
      "state": {}
     },
     "d236be56b0f347439afedd0a2ece5cb4": {
      "model_module": "@jupyter-widgets/base",
      "model_module_version": "2.0.0",
      "model_name": "LayoutModel",
      "state": {}
     },
     "d26ae5098ed244c682dc9159fdf5b92b": {
      "model_module": "@jupyter-widgets/controls",
      "model_module_version": "2.0.0",
      "model_name": "HTMLStyleModel",
      "state": {
       "description_width": "",
       "font_size": null,
       "text_color": null
      }
     },
     "d2a56c2a805342a9b06d28a30e70b5c8": {
      "model_module": "@jupyter-widgets/controls",
      "model_module_version": "2.0.0",
      "model_name": "HTMLModel",
      "state": {
       "layout": "IPY_MODEL_1636c870f1604861af0d799216ce3d9d",
       "style": "IPY_MODEL_ef250d2b35af4ac2af0d2a74d411d615",
       "value": "<span style=\"color:rgb(159, 102, 86)\"; \"font-size:10.0pt\">&nbsp&nbsp&nbsp&nbsp&nbsp&nbsp <b>#call_nr = 58 - #caller(s): activate_gui(), update_batch(), __call__()</b> &nbsp&nbsp&nbsp&nbsp&nbsp&nbsp</span><span style=\"color:rgb(159, 102, 86)\"; \"font-size:8.0pt\">9999<br>&nbsp&nbsp&nbsp&nbsp&nbsp&nbsp -- <b>#call_nr = 58 </b> &nbsp&nbsp&nbsp&nbsp&nbsp&nbsp -- update<br>&nbsp&nbsp&nbsp&nbsp&nbsp&nbsp -- <b>#call_nr = 58 </b> &nbsp&nbsp&nbsp&nbsp&nbsp&nbsp -- False<br>&nbsp&nbsp&nbsp&nbsp&nbsp&nbsp -- <b>#call_nr = 58 </b> &nbsp&nbsp&nbsp&nbsp&nbsp&nbsp -- False<br>&nbsp&nbsp&nbsp&nbsp&nbsp&nbsp -- <b>#call_nr = 58 </b> &nbsp&nbsp&nbsp&nbsp&nbsp&nbsp -- Button(button_style='danger', description='Delete', icon='trash', style=ButtonStyle(), tooltip='Click to delete...')</span>"
      }
     },
     "d2db21a83d014abbb0f9a5b757b97433": {
      "model_module": "@jupyter-widgets/controls",
      "model_module_version": "2.0.0",
      "model_name": "HTMLStyleModel",
      "state": {
       "description_width": "",
       "font_size": null,
       "text_color": null
      }
     },
     "d35a195b4aa24bb7a693fe00cd19e36f": {
      "model_module": "@jupyter-widgets/controls",
      "model_module_version": "2.0.0",
      "model_name": "ButtonStyleModel",
      "state": {
       "font_family": null,
       "font_size": null,
       "font_style": null,
       "font_variant": null,
       "font_weight": null,
       "text_color": null,
       "text_decoration": null
      }
     },
     "d38a6d2139c542f8b0be432ca2f65706": {
      "model_module": "@jupyter-widgets/base",
      "model_module_version": "2.0.0",
      "model_name": "LayoutModel",
      "state": {
       "max_width": "auto",
       "min_width": "140px"
      }
     },
     "d3ea58e934234eaba7e48754ca72da83": {
      "model_module": "@jupyter-widgets/base",
      "model_module_version": "2.0.0",
      "model_name": "LayoutModel",
      "state": {}
     },
     "d53a4473fa8e40ba8af0da3408bf8bc8": {
      "model_module": "@jupyter-widgets/controls",
      "model_module_version": "2.0.0",
      "model_name": "HTMLModel",
      "state": {
       "layout": "IPY_MODEL_47d6208e0bd244d19fb51512f623f4c1",
       "style": "IPY_MODEL_a50857ca1c114ce7aa7ba942839a4cb7",
       "value": "<span style=\"color:rgb(97, 124, 64)\"; \"font-size:10.0pt\">&nbsp&nbsp&nbsp&nbsp&nbsp&nbsp <b>#call_nr = 82 - #caller(s): reset_var_buttons(), reset_selection(), _notify_observers()</b> &nbsp&nbsp&nbsp&nbsp&nbsp&nbsp</span><span style=\"color:rgb(97, 124, 64)\"; \"font-size:8.0pt\">reset_var_buttons()  -- restore buttons -- <br>&nbsp&nbsp&nbsp&nbsp&nbsp&nbsp -- <b>#call_nr = 82 </b> &nbsp&nbsp&nbsp&nbsp&nbsp&nbsp --  axis_ls = []<br>&nbsp&nbsp&nbsp&nbsp&nbsp&nbsp -- <b>#call_nr = 82 </b> &nbsp&nbsp&nbsp&nbsp&nbsp&nbsp --  btn.tooltip = %<br>&nbsp&nbsp&nbsp&nbsp&nbsp&nbsp -- <b>#call_nr = 82 </b> &nbsp&nbsp&nbsp&nbsp&nbsp&nbsp --  Button = \"SWC_1 (ETC NRT Meteo)\"<br>&nbsp&nbsp&nbsp&nbsp&nbsp&nbsp -- <b>#call_nr = 82 </b> &nbsp&nbsp&nbsp&nbsp&nbsp&nbsp -- ---- enabled and unchecked</span>"
      }
     },
     "d56328c32a3842aba3131b74feff68d5": {
      "model_module": "@jupyter-widgets/controls",
      "model_module_version": "2.0.0",
      "model_name": "HTMLStyleModel",
      "state": {
       "description_width": "",
       "font_size": null,
       "text_color": null
      }
     },
     "d58bfd45907b49988a4749f47d134442": {
      "model_module": "@jupyter-widgets/base",
      "model_module_version": "2.0.0",
      "model_name": "LayoutModel",
      "state": {}
     },
     "d5a5a1ed1ca641af9e1a2ded6fb5ba53": {
      "model_module": "@jupyter-widgets/controls",
      "model_module_version": "2.0.0",
      "model_name": "HTMLModel",
      "state": {
       "layout": "IPY_MODEL_f352a9dec9f34175a3d5f7611fd9a34a",
       "style": "IPY_MODEL_cb8d859687ae4a429a6d3fd4e7f4d2ea",
       "value": "<span style=\"color:rgb(174, 175, 106)\"; \"font-size:10.0pt\">&nbsp&nbsp&nbsp&nbsp&nbsp&nbsp <b>#call_nr = 70 - #caller(s): get_batch_upd_dict(), reset_selection(), _notify_observers()</b> &nbsp&nbsp&nbsp&nbsp&nbsp&nbsp</span><span style=\"color:rgb(174, 175, 106)\"; \"font-size:8.0pt\">get_batch_upd_dict()<br>&nbsp&nbsp&nbsp&nbsp&nbsp&nbsp -- <b>#call_nr = 70 </b> &nbsp&nbsp&nbsp&nbsp&nbsp&nbsp -- d ={'_upd_mode': 'update', '_version': 1, '_orig_name': 'mp2 ', '_new_name': 'mp2 ', '_selected_tool_index': 1, '_tools': {0: {'multi_plot': [['%', [['SWC_5', 'ETC NRT Meteo', 'SE-Htm']]], ['mmol mol-1', [['H2O', 'ETC NRT Fluxes', 'SE-Htm']]]]}, 1: {'multi_plot': []}}}</span>"
      }
     },
     "d5e1fafa2cb24aafbe63cc7409c7ba74": {
      "model_module": "@jupyter-widgets/controls",
      "model_module_version": "2.0.0",
      "model_name": "ButtonModel",
      "state": {
       "button_style": "info",
       "description": "User guide",
       "icon": "info-circle",
       "layout": "IPY_MODEL_c2cb2ad66bb14326a9a0106c2508fac7",
       "style": "IPY_MODEL_cb0ce781e89845ce8f2ab58013c16429",
       "tooltip": "Show user guide..."
      }
     },
     "d5e408156e644ffeb2b5d8f771c9d46c": {
      "model_module": "@jupyter-widgets/controls",
      "model_module_version": "2.0.0",
      "model_name": "HTMLModel",
      "state": {
       "layout": "IPY_MODEL_e80e519f1c5a4fc6a91de87eae372a2d",
       "style": "IPY_MODEL_385d4747abf14004a32e90c330613c96",
       "value": "<span style=\"color:rgb(174, 175, 106)\"; \"font-size:10.0pt\">&nbsp&nbsp&nbsp&nbsp&nbsp&nbsp <b>#call_nr = 133 - #caller(s): get_batch_upd_dict(), update_batch_dict(), var_button_click()</b> &nbsp&nbsp&nbsp&nbsp&nbsp&nbsp</span><span style=\"color:rgb(174, 175, 106)\"; \"font-size:8.0pt\">get_batch_upd_dict()<br>&nbsp&nbsp&nbsp&nbsp&nbsp&nbsp -- <b>#call_nr = 133 </b> &nbsp&nbsp&nbsp&nbsp&nbsp&nbsp -- d ={'_upd_mode': 'update', '_version': 1, '_orig_name': 'mp2 ', '_new_name': 'mp2 ', '_selected_tool_index': 1, '_tools': {0: {'multi_plot': [['%', [['SWC_5', 'ETC NRT Meteo', 'SE-Htm']]], ['mmol mol-1', [['H2O', 'ETC NRT Fluxes', 'SE-Htm']]]]}, 1: {'multi_plot': [('°C', [['TA', 'ETC NRT Meteo', 'SE-Htm']])]}}}</span>"
      }
     },
     "d62954d604f141338ff8c5a4b3775dc2": {
      "model_module": "@jupyter-widgets/controls",
      "model_module_version": "2.0.0",
      "model_name": "HTMLModel",
      "state": {
       "layout": "IPY_MODEL_9903583bd1184dd0967532fb91ad7ce9",
       "style": "IPY_MODEL_c626a38eae4643dc928a54e47e3ce516",
       "value": "<span style=\"color:rgb(46, 75, 67)\"; \"font-size:10.0pt\">&nbsp&nbsp&nbsp&nbsp&nbsp&nbsp <b>#call_nr = 192 - #caller(s): init_group_var_buttons(), activate_gui(), reset_batch_gui()</b> &nbsp&nbsp&nbsp&nbsp&nbsp&nbsp</span><span style=\"color:rgb(46, 75, 67)\"; \"font-size:8.0pt\">init_group_var_buttons()</span>"
      }
     },
     "d6c780d4b31649938b7f7ea21a6f9937": {
      "model_module": "@jupyter-widgets/controls",
      "model_module_version": "2.0.0",
      "model_name": "HTMLStyleModel",
      "state": {
       "description_width": "",
       "font_size": null,
       "text_color": null
      }
     },
     "d6f882ba5f5c498ea2246b5ae111bb1d": {
      "model_module": "@jupyter-widgets/controls",
      "model_module_version": "2.0.0",
      "model_name": "AccordionModel",
      "state": {
       "children": [
        "IPY_MODEL_f1fcaab381f94365bc2281f631cea41f"
       ],
       "layout": "IPY_MODEL_9750737cf37d41be84699e7d42747a39",
       "titles": [
        "User guide"
       ]
      }
     },
     "d6fb1fb750fb44c491d29f34d4b26c43": {
      "model_module": "@jupyter-widgets/base",
      "model_module_version": "2.0.0",
      "model_name": "LayoutModel",
      "state": {}
     },
     "d7483281960043658c917d2fb27098ee": {
      "model_module": "@jupyter-widgets/base",
      "model_module_version": "2.0.0",
      "model_name": "LayoutModel",
      "state": {}
     },
     "d76408d29f6141e198fb7c6942655d3f": {
      "model_module": "@jupyter-widgets/controls",
      "model_module_version": "2.0.0",
      "model_name": "HTMLModel",
      "state": {
       "layout": "IPY_MODEL_1e1d4d20fed84dff8a08373201768c20",
       "style": "IPY_MODEL_0e1dd6e9d8da4149bf42c63c46b1ab7b",
       "value": "<b><i>Available tools: </i></b>"
      }
     },
     "d77d588d6c3847cf9692b12893edcf0c": {
      "model_module": "@jupyter-widgets/base",
      "model_module_version": "2.0.0",
      "model_name": "LayoutModel",
      "state": {}
     },
     "d7b0e30156b54b4bad10381461f36f74": {
      "model_module": "@jupyter-widgets/output",
      "model_module_version": "1.0.0",
      "model_name": "OutputModel",
      "state": {
       "layout": "IPY_MODEL_5fefba0014824d8bb1b029e9ec70f5df"
      }
     },
     "d7e6fef98e1f43d8b232f1b21f00aca0": {
      "model_module": "@jupyter-widgets/base",
      "model_module_version": "2.0.0",
      "model_name": "LayoutModel",
      "state": {}
     },
     "d89647d5e9a94469b80d663935ce32e2": {
      "model_module": "@jupyter-widgets/controls",
      "model_module_version": "2.0.0",
      "model_name": "HTMLStyleModel",
      "state": {
       "description_width": "",
       "font_size": null,
       "text_color": null
      }
     },
     "d8e765aff1a945b49d2f051c4d812996": {
      "model_module": "@jupyter-widgets/controls",
      "model_module_version": "2.0.0",
      "model_name": "HTMLModel",
      "state": {
       "layout": "IPY_MODEL_97aaad4dc7a34bb68812802e6af81a18",
       "style": "IPY_MODEL_73b8148618564404b764dae926207772",
       "value": "<span style=\"color:rgb(87, 176, 53)\"; \"font-size:10.0pt\">&nbsp&nbsp&nbsp&nbsp&nbsp&nbsp <b>#call_nr = 106 - #caller(s): get_var_translation_dict(), format_tool_vars(), reset_selection()</b> &nbsp&nbsp&nbsp&nbsp&nbsp&nbsp</span><span style=\"color:rgb(87, 176, 53)\"; \"font-size:8.0pt\">get_var_translation_dict()<br>&nbsp&nbsp&nbsp&nbsp&nbsp&nbsp -- <b>#call_nr = 106 </b> &nbsp&nbsp&nbsp&nbsp&nbsp&nbsp -- var_translation_dict.value = {'SWC_1 (ETC NRT Meteo)': ['SWC_1', 'ETC NRT Meteo', 'SE-Htm'], 'SWC_2 (ETC NRT Meteo)': ['SWC_2', 'ETC NRT Meteo', 'SE-Htm'], 'SWC_3 (ETC NRT Meteo)': ['SWC_3', 'ETC NRT Meteo', 'SE-Htm'], 'SWC_4 (ETC NRT Meteo)': ['SWC_4', 'ETC NRT Meteo', 'SE-Htm'], 'SWC_5 (ETC NRT Meteo)': ['SWC_5', 'ETC NRT Meteo', 'SE-Htm'], 'H2O (ETC NRT Fluxes)': ['H2O', 'ETC NRT Fluxes', 'SE-Htm'], 'TA (ETC NRT Meteo)': ['TA', 'ETC NRT Meteo', 'SE-Htm'], 'Select all': 'All variables'}</span>"
      }
     },
     "d8ec0080d069475baf00a7d1ee0339b1": {
      "model_module": "@jupyter-widgets/controls",
      "model_module_version": "2.0.0",
      "model_name": "HTMLStyleModel",
      "state": {
       "description_width": "",
       "font_size": null,
       "text_color": null
      }
     },
     "d9144d8fb9f740bfb28aaf9058b3c71b": {
      "model_module": "@jupyter-widgets/controls",
      "model_module_version": "2.0.0",
      "model_name": "HTMLStyleModel",
      "state": {
       "description_width": "",
       "font_size": null,
       "text_color": null
      }
     },
     "d9199aac0d704cee9d2537b7fb101844": {
      "model_module": "@jupyter-widgets/base",
      "model_module_version": "2.0.0",
      "model_name": "LayoutModel",
      "state": {}
     },
     "d952d9d944d7483daa0515fd3551907c": {
      "model_module": "@jupyter-widgets/base",
      "model_module_version": "2.0.0",
      "model_name": "LayoutModel",
      "state": {}
     },
     "d9e649ad250045dd977dbe34e77439fb": {
      "model_module": "@jupyter-widgets/controls",
      "model_module_version": "2.0.0",
      "model_name": "HTMLStyleModel",
      "state": {
       "description_width": "",
       "font_size": null,
       "text_color": null
      }
     },
     "da0f1de55784492f9149d91f79548426": {
      "model_module": "@jupyter-widgets/controls",
      "model_module_version": "2.0.0",
      "model_name": "HTMLStyleModel",
      "state": {
       "description_width": "",
       "font_size": null,
       "text_color": null
      }
     },
     "da1be5084fe941339710ff134638350f": {
      "model_module": "@jupyter-widgets/base",
      "model_module_version": "2.0.0",
      "model_name": "LayoutModel",
      "state": {}
     },
     "dae882f3fbe146e3828a2c4c5042c350": {
      "model_module": "@jupyter-widgets/controls",
      "model_module_version": "2.0.0",
      "model_name": "HTMLModel",
      "state": {
       "layout": "IPY_MODEL_723b9768051f4c3094ee37f875653fb1",
       "style": "IPY_MODEL_9ee1d9cd42684c719c3edd6c2f683801",
       "value": "<span style=\"color:rgb(92, 150, 134)\"; \"font-size:10.0pt\">&nbsp&nbsp&nbsp&nbsp&nbsp&nbsp <b>#call_nr = 166 - #caller(s): set_batch_upd_dict(), changed_batch_drop(), _notify_observers()</b> &nbsp&nbsp&nbsp&nbsp&nbsp&nbsp</span><span style=\"color:rgb(92, 150, 134)\"; \"font-size:8.0pt\">set_batch_upd_dict()<br>&nbsp&nbsp&nbsp&nbsp&nbsp&nbsp -- <b>#call_nr = 166 </b> &nbsp&nbsp&nbsp&nbsp&nbsp&nbsp -- step 1<br>&nbsp&nbsp&nbsp&nbsp&nbsp&nbsp -- <b>#call_nr = 166 </b> &nbsp&nbsp&nbsp&nbsp&nbsp&nbsp -- d ={'_upd_mode': 'read_mode_with_batch', '_tools': {'0': {'multi_plot': [['%', [['SWC_5', 'ETC NRT Meteo', 'SE-Htm'], ['SWC_1', 'ETC NRT Meteo', 'SE-Htm']]], ['mmol mol-1', [['H2O', 'ETC NRT Fluxes', 'SE-Htm']]]]}}, '_selected_tool_index': None, '_version': '3'}</span>"
      }
     },
     "db26c6de022b492e96bbcf9861947bce": {
      "model_module": "@jupyter-widgets/base",
      "model_module_version": "2.0.0",
      "model_name": "LayoutModel",
      "state": {}
     },
     "dbd542d2dfb74d5aaf91efac00077e90": {
      "model_module": "@jupyter-widgets/base",
      "model_module_version": "2.0.0",
      "model_name": "LayoutModel",
      "state": {}
     },
     "dc25bac0e5824435a3bfb1b4e0fae72e": {
      "model_module": "@jupyter-widgets/base",
      "model_module_version": "2.0.0",
      "model_name": "LayoutModel",
      "state": {}
     },
     "dc2b027dfc7d473db5dcf1efd7ef807f": {
      "model_module": "@jupyter-widgets/controls",
      "model_module_version": "2.0.0",
      "model_name": "HTMLStyleModel",
      "state": {
       "description_width": "",
       "font_size": null,
       "text_color": null
      }
     },
     "dc433897305b4ea7ac92b226228ecf61": {
      "model_module": "@jupyter-widgets/controls",
      "model_module_version": "2.0.0",
      "model_name": "HTMLModel",
      "state": {
       "layout": "IPY_MODEL_2a38370d876d4330b42a44ca07707345",
       "style": "IPY_MODEL_c96aff835b4a41f49f56f513767a535f",
       "value": "<b>Plotly template:</b>"
      }
     },
     "dd0dde20c71f4e1fbdcbf3235c3c3c7b": {
      "model_module": "@jupyter-widgets/base",
      "model_module_version": "2.0.0",
      "model_name": "LayoutModel",
      "state": {}
     },
     "dd1734976e594079a14677a1f35cfa01": {
      "model_module": "@jupyter-widgets/controls",
      "model_module_version": "2.0.0",
      "model_name": "HBoxModel",
      "state": {
       "children": [
        "IPY_MODEL_a905405206fb4f0ba1c3f24dfa917f26",
        "IPY_MODEL_f45dabd35b96488ca3a019c063ba3d66",
        "IPY_MODEL_2a7a116a065d4168a295ab67d905f48d",
        "IPY_MODEL_84587d1024724cee8e462ce44751bd95",
        "IPY_MODEL_93bcca0b5d834b83bc4effe0da8cc17c"
       ],
       "layout": "IPY_MODEL_c963e5eb45a7411691384fe325340f97"
      }
     },
     "dd1800552824403fbbdb3f53ad17cd37": {
      "model_module": "@jupyter-widgets/controls",
      "model_module_version": "2.0.0",
      "model_name": "HTMLModel",
      "state": {
       "layout": "IPY_MODEL_b521a9238af94f7b9b0cbcf5c85bc421",
       "style": "IPY_MODEL_a470ab3a2b774623a190435b3b1d436e",
       "value": "<span style=\"color:rgb(120, 84, 132)\"; \"font-size:10.0pt\">&nbsp&nbsp&nbsp&nbsp&nbsp&nbsp <b>#call_nr = 160 - #caller(s): cleanup_tools(), save_batch(), __call__()</b> &nbsp&nbsp&nbsp&nbsp&nbsp&nbsp</span><span style=\"color:rgb(120, 84, 132)\"; \"font-size:8.0pt\">cleanup_tools() -- (after)<br>&nbsp&nbsp&nbsp&nbsp&nbsp&nbsp -- <b>#call_nr = 160 </b> &nbsp&nbsp&nbsp&nbsp&nbsp&nbsp -- d = {'0': {'multi_plot': [['%', [['SWC_5', 'ETC NRT Meteo', 'SE-Htm']]], ['mmol mol-1', [['H2O', 'ETC NRT Fluxes', 'SE-Htm']]]]}, '1': {'multi_plot': [('°C', [['TA', 'ETC NRT Meteo', 'SE-Htm']]), ('mmol mol-1', [['H2O', 'ETC NRT Fluxes', 'SE-Htm']])]}}<br>&nbsp&nbsp&nbsp&nbsp&nbsp&nbsp -- <b>#call_nr = 160 </b> &nbsp&nbsp&nbsp&nbsp&nbsp&nbsp -- dict_has_changed = False</span>"
      }
     },
     "dd26f200fafb41eb93eb04af29156306": {
      "model_module": "@jupyter-widgets/base",
      "model_module_version": "2.0.0",
      "model_name": "LayoutModel",
      "state": {}
     },
     "dd6e581f5de441dda17c7b195fc33617": {
      "model_module": "@jupyter-widgets/base",
      "model_module_version": "2.0.0",
      "model_name": "LayoutModel",
      "state": {}
     },
     "ddfdcdd159f748b6b5de8d5541f29d65": {
      "model_module": "@jupyter-widgets/controls",
      "model_module_version": "2.0.0",
      "model_name": "HTMLModel",
      "state": {
       "layout": "IPY_MODEL_e914f8b2143a4c15802b440157971039",
       "style": "IPY_MODEL_97226e53c4a74c0fad2e3de3c2cf93db",
       "value": "<span style=\"color:rgb(87, 176, 53)\"; \"font-size:10.0pt\">&nbsp&nbsp&nbsp&nbsp&nbsp&nbsp <b>#call_nr = 95 - #caller(s): get_var_translation_dict(), var_button_click(), __call__()</b> &nbsp&nbsp&nbsp&nbsp&nbsp&nbsp</span><span style=\"color:rgb(87, 176, 53)\"; \"font-size:8.0pt\">get_var_translation_dict()<br>&nbsp&nbsp&nbsp&nbsp&nbsp&nbsp -- <b>#call_nr = 95 </b> &nbsp&nbsp&nbsp&nbsp&nbsp&nbsp -- var_translation_dict.value = {'SWC_1 (ETC NRT Meteo)': ['SWC_1', 'ETC NRT Meteo', 'SE-Htm'], 'SWC_2 (ETC NRT Meteo)': ['SWC_2', 'ETC NRT Meteo', 'SE-Htm'], 'SWC_3 (ETC NRT Meteo)': ['SWC_3', 'ETC NRT Meteo', 'SE-Htm'], 'SWC_4 (ETC NRT Meteo)': ['SWC_4', 'ETC NRT Meteo', 'SE-Htm'], 'SWC_5 (ETC NRT Meteo)': ['SWC_5', 'ETC NRT Meteo', 'SE-Htm'], 'H2O (ETC NRT Fluxes)': ['H2O', 'ETC NRT Fluxes', 'SE-Htm'], 'TA (ETC NRT Meteo)': ['TA', 'ETC NRT Meteo', 'SE-Htm'], 'Select all': 'All variables'}</span>"
      }
     },
     "de0b1d268b3d41c5a9a9435a305683fd": {
      "model_module": "@jupyter-widgets/controls",
      "model_module_version": "2.0.0",
      "model_name": "HTMLModel",
      "state": {
       "layout": "IPY_MODEL_25ecfe8becd749fdb90a4faa74b361f5",
       "style": "IPY_MODEL_4443796dfabf425d9cb374e63485fb6f",
       "value": "<span style=\"color:rgb(174, 175, 106)\"; \"font-size:10.0pt\">&nbsp&nbsp&nbsp&nbsp&nbsp&nbsp <b>#call_nr = 167 - #caller(s): get_batch_upd_dict(), reset_selection(), _notify_observers()</b> &nbsp&nbsp&nbsp&nbsp&nbsp&nbsp</span><span style=\"color:rgb(174, 175, 106)\"; \"font-size:8.0pt\">get_batch_upd_dict()<br>&nbsp&nbsp&nbsp&nbsp&nbsp&nbsp -- <b>#call_nr = 167 </b> &nbsp&nbsp&nbsp&nbsp&nbsp&nbsp -- d ={'_upd_mode': 'read_mode_with_batch', '_selected_tool_index': None, '_version': '3', '_tools': {0: {'multi_plot': [['%', [['SWC_5', 'ETC NRT Meteo', 'SE-Htm'], ['SWC_1', 'ETC NRT Meteo', 'SE-Htm']]], ['mmol mol-1', [['H2O', 'ETC NRT Fluxes', 'SE-Htm']]]]}}}</span>"
      }
     },
     "de4aed5ec3b449edb7dcf6c6197fb917": {
      "model_module": "@jupyter-widgets/controls",
      "model_module_version": "2.0.0",
      "model_name": "DropdownModel",
      "state": {
       "_options_labels": [
        "aggrnyl",
        "agsunset",
        "blackbody",
        "bluered",
        "blues",
        "blugrn",
        "bluyl",
        "brwnyl",
        "bugn",
        "bupu",
        "burg",
        "burgyl",
        "cividis",
        "darkmint",
        "electric",
        "emrld",
        "gnbu",
        "greens",
        "greys",
        "hot",
        "inferno",
        "jet",
        "magenta",
        "magma",
        "mint",
        "orrd",
        "oranges",
        "oryel",
        "peach",
        "pinkyl",
        "plasma",
        "plotly3",
        "pubu",
        "pubugn",
        "purd",
        "purp",
        "purples",
        "purpor",
        "rainbow",
        "rdbu",
        "rdpu",
        "redor",
        "reds",
        "sunset",
        "sunsetdark",
        "teal",
        "tealgrn",
        "turbo",
        "viridis",
        "ylgn",
        "ylgnbu",
        "ylorbr",
        "ylorrd",
        "algae",
        "amp",
        "deep",
        "dense",
        "gray",
        "haline",
        "ice",
        "matter",
        "solar",
        "speed",
        "tempo",
        "thermal",
        "turbid",
        "armyrose",
        "brbg",
        "earth",
        "fall",
        "geyser",
        "prgn",
        "piyg",
        "picnic",
        "portland",
        "puor",
        "rdgy",
        "rdylbu",
        "rdylgn",
        "spectral",
        "tealrose",
        "temps",
        "tropic",
        "balance",
        "curl",
        "delta",
        "oxy",
        "edge",
        "hsv",
        "icefire",
        "phase",
        "twilight",
        "mrybm",
        "mygbm"
       ],
       "index": 4,
       "layout": "IPY_MODEL_1cf4e5bae0f24815b2264537dabf3547",
       "style": "IPY_MODEL_96d8977ab181472f825f196e7edf9186"
      }
     },
     "de5650f22a704358b532990e9640e529": {
      "model_module": "@jupyter-widgets/base",
      "model_module_version": "2.0.0",
      "model_name": "LayoutModel",
      "state": {}
     },
     "deae865c346f4b0b98bb28b5ce946fcc": {
      "model_module": "@jupyter-widgets/controls",
      "model_module_version": "2.0.0",
      "model_name": "HTMLStyleModel",
      "state": {
       "description_width": "",
       "font_size": null,
       "text_color": null
      }
     },
     "decc4664e89a4126bac114d73f25020c": {
      "model_module": "@jupyter-widgets/base",
      "model_module_version": "2.0.0",
      "model_name": "LayoutModel",
      "state": {}
     },
     "df2fea8497e546c69cc42b2e0a9d5523": {
      "model_module": "@jupyter-widgets/base",
      "model_module_version": "2.0.0",
      "model_name": "LayoutModel",
      "state": {}
     },
     "df3af80fc1fb49dbbd7709529291ea2d": {
      "model_module": "@jupyter-widgets/controls",
      "model_module_version": "2.0.0",
      "model_name": "HTMLStyleModel",
      "state": {
       "description_width": "",
       "font_size": null,
       "text_color": null
      }
     },
     "df736b49ffd34e8db5113ef55185fc62": {
      "model_module": "@jupyter-widgets/base",
      "model_module_version": "2.0.0",
      "model_name": "LayoutModel",
      "state": {
       "max_width": "auto",
       "min_width": "180px"
      }
     },
     "df9be130f6014792980a5e8a889743a2": {
      "model_module": "@jupyter-widgets/controls",
      "model_module_version": "2.0.0",
      "model_name": "HTMLModel",
      "state": {
       "layout": "IPY_MODEL_ed9a964e6db04316b9469bcd4de18310",
       "style": "IPY_MODEL_d8ec0080d069475baf00a7d1ee0339b1",
       "value": "<span style=\"color:rgb(169, 24, 25)\"; \"font-size:10.0pt\">&nbsp&nbsp&nbsp&nbsp&nbsp&nbsp <b>#call_nr = 163 - #caller(s): init_batch_drop(), reset_batch_gui(), save_batch()</b> &nbsp&nbsp&nbsp&nbsp&nbsp&nbsp</span><span style=\"color:rgb(169, 24, 25)\"; \"font-size:8.0pt\">init_batch_drop()<br>&nbsp&nbsp&nbsp&nbsp&nbsp&nbsp -- <b>#call_nr = 163 </b> &nbsp&nbsp&nbsp&nbsp&nbsp&nbsp -- step 1<br>&nbsp&nbsp&nbsp&nbsp&nbsp&nbsp -- <b>#call_nr = 163 </b> &nbsp&nbsp&nbsp&nbsp&nbsp&nbsp -- (input) batch_name = mp2 <br>&nbsp&nbsp&nbsp&nbsp&nbsp&nbsp -- <b>#call_nr = 163 </b> &nbsp&nbsp&nbsp&nbsp&nbsp&nbsp -- group = Meteo SWC<br>&nbsp&nbsp&nbsp&nbsp&nbsp&nbsp -- <b>#call_nr = 163 </b> &nbsp&nbsp&nbsp&nbsp&nbsp&nbsp -- cache['_groups']['Meteo SWC'] = {'_group_vars': [['SWC_1', 'ETC NRT Meteo', 'SE-Htm'], ['SWC_2', 'ETC NRT Meteo', 'SE-Htm'], ['SWC_3', 'ETC NRT Meteo', 'SE-Htm'], ['SWC_4', 'ETC NRT Meteo', 'SE-Htm'], ['SWC_5', 'ETC NRT Meteo', 'SE-Htm'], ['H2O', 'ETC NRT Fluxes', 'SE-Htm'], ['TA', 'ETC NRT Meteo', 'SE-Htm']], '_batches': {'mp1': {'0': {'multi_plot': [['%', [['SWC_5', 'ETC NRT Meteo', 'SE-Htm'], ['SWC_1', 'ETC NRT Meteo', 'SE-Htm']]], ['mmol mol-1', [['H2O', 'ETC NRT Fluxes', 'SE-Htm']]]]}, '_version': '3'}, 'sp1': {'0': {'split_plot': [['H2O', 'ETC NRT Fluxes', 'SE-Htm'], ['TA', 'ETC NRT Meteo', 'SE-Htm'], ['SWC_3', 'ETC NRT Meteo', 'SE-Htm']]}, '_version': '3'}, 'split and mult': {'0': {'split_plot': [['SWC_1', 'ETC NRT Meteo', 'SE-Htm'], ['SWC_2', 'ETC NRT Meteo', 'SE-Htm'], ['SWC_3', 'ETC NRT Meteo', 'SE-Htm'], ['SWC_4', 'ETC NRT Meteo', 'SE-Htm'], ['SWC_5', 'ETC NRT Meteo', 'SE-Htm']]}, '1': {'multi_plot': [['%', [['SWC_1', 'ETC NRT Meteo', 'SE-Htm'], ['SWC_5', 'ETC NRT Meteo', 'SE-Htm'], ['SWC_2', 'ETC NRT Meteo', 'SE-Htm'], ['SWC_3', 'ETC NRT Meteo', 'SE-Htm']]], ['mmol mol-1', [['H2O', 'ETC NRT Fluxes', 'SE-Htm']]]]}, '2': {'multi_plot': [['%', [['SWC_1', 'ETC NRT Meteo', 'SE-Htm'], ['SWC_5', 'ETC NRT Meteo', 'SE-Htm']]]]}, '_version': '2'}, 'mp2 ': {'0': {'multi_plot': [['%', [['SWC_5', 'ETC NRT Meteo', 'SE-Htm']]], ['mmol mol-1', [['H2O', 'ETC NRT Fluxes', 'SE-Htm']]]]}, '1': {'multi_plot': [('°C', [['TA', 'ETC NRT Meteo', 'SE-Htm']]), ('mmol mol-1', [['H2O', 'ETC NRT Fluxes', 'SE-Htm']])]}, '_version': '2'}}}</span>"
      }
     },
     "dfdf503bef984b608404d84a415820b3": {
      "model_module": "@jupyter-widgets/base",
      "model_module_version": "2.0.0",
      "model_name": "LayoutModel",
      "state": {
       "max_width": "110px",
       "min_width": "70px"
      }
     },
     "e050e3b02cd54317adf875dfbc8622ee": {
      "model_module": "@jupyter-widgets/controls",
      "model_module_version": "2.0.0",
      "model_name": "HTMLStyleModel",
      "state": {
       "description_width": "",
       "font_size": null,
       "text_color": null
      }
     },
     "e0ac8bfd4ae643a892ccbc4db64fb6b7": {
      "model_module": "@jupyter-widgets/controls",
      "model_module_version": "2.0.0",
      "model_name": "HTMLStyleModel",
      "state": {
       "description_width": "",
       "font_size": null,
       "text_color": null
      }
     },
     "e0cf303752674129824a0ef222f33def": {
      "model_module": "@jupyter-widgets/base",
      "model_module_version": "2.0.0",
      "model_name": "LayoutModel",
      "state": {}
     },
     "e0ec2771846a40039439ad33709cd5d0": {
      "model_module": "@jupyter-widgets/base",
      "model_module_version": "2.0.0",
      "model_name": "LayoutModel",
      "state": {}
     },
     "e1005a2032b74b4798b1314bf57d29c9": {
      "model_module": "@jupyter-widgets/controls",
      "model_module_version": "2.0.0",
      "model_name": "HTMLStyleModel",
      "state": {
       "description_width": "",
       "font_size": null,
       "text_color": null
      }
     },
     "e109276c9fc644259c22b8a778dc2965": {
      "model_module": "@jupyter-widgets/base",
      "model_module_version": "2.0.0",
      "model_name": "LayoutModel",
      "state": {}
     },
     "e12d873ab91d46919018718ed22107fd": {
      "model_module": "@jupyter-widgets/base",
      "model_module_version": "2.0.0",
      "model_name": "LayoutModel",
      "state": {}
     },
     "e1b3bcc9732e401f897f4431fdd3d048": {
      "model_module": "@jupyter-widgets/controls",
      "model_module_version": "2.0.0",
      "model_name": "HTMLStyleModel",
      "state": {
       "description_width": "",
       "font_size": null,
       "text_color": null
      }
     },
     "e1e308cffc9449efa08eb1b9a5f6ba40": {
      "model_module": "@jupyter-widgets/base",
      "model_module_version": "2.0.0",
      "model_name": "LayoutModel",
      "state": {}
     },
     "e21f0bc367ef4eebb34760a77109c32a": {
      "model_module": "@jupyter-widgets/controls",
      "model_module_version": "2.0.0",
      "model_name": "HTMLStyleModel",
      "state": {
       "description_width": "",
       "font_size": null,
       "text_color": null
      }
     },
     "e25363ae731d4d20b501c714fe170420": {
      "model_module": "@jupyter-widgets/controls",
      "model_module_version": "2.0.0",
      "model_name": "FloatTextModel",
      "state": {
       "layout": "IPY_MODEL_8fd7fc9f027d42a4b7812d9ecf7da6f7",
       "step": null,
       "style": "IPY_MODEL_c617211e607c47c0b18696269e60f5e3"
      }
     },
     "e2d3594bd4244850bea731dba5eee12f": {
      "model_module": "@jupyter-widgets/base",
      "model_module_version": "2.0.0",
      "model_name": "LayoutModel",
      "state": {}
     },
     "e324b68b2ffb461c90f6658b33940301": {
      "model_module": "@jupyter-widgets/controls",
      "model_module_version": "2.0.0",
      "model_name": "HTMLModel",
      "state": {
       "layout": "IPY_MODEL_0af17bb5c8e84226bbf826ce0aa33c74",
       "style": "IPY_MODEL_f5c6ed8a376549c69e671ab94be78dbb",
       "value": "<span style=\"color:rgb(133, 74, 120)\"; \"font-size:10.0pt\">&nbsp&nbsp&nbsp&nbsp&nbsp&nbsp <b>#call_nr = 136 - #caller(s): reset_selection(), _notify_observers(), notify_change()</b> &nbsp&nbsp&nbsp&nbsp&nbsp&nbsp</span><span style=\"color:rgb(133, 74, 120)\"; \"font-size:8.0pt\">reset_selection()<br>&nbsp&nbsp&nbsp&nbsp&nbsp&nbsp -- <b>#call_nr = 136 </b> &nbsp&nbsp&nbsp&nbsp&nbsp&nbsp -- c = {'name': 'value', 'old': \"{'_upd_mode': 'update', '_version': 1, '_orig_name': 'mp2 ', '_new_name': 'mp2 ', '_selected_tool_index': 1, '_tools': {'0': {'multi_plot': [['%', [['SWC_5', 'ETC NRT Meteo', 'SE-Htm']]], ['mmol mol-1', [['H2O', 'ETC NRT Fluxes', 'SE-Htm']]]]}, '1': {'multi_plot': [('°C', [['TA', 'ETC NRT Meteo', 'SE-Htm']])]}}}\", 'new': \"{'_upd_mode': 'update', '_version': 1, '_orig_name': 'mp2 ', '_new_name': 'mp2 ', '_selected_tool_index': 1, '_tools': {'0': {'multi_plot': [['%', [['SWC_5', 'ETC NRT Meteo', 'SE-Htm']]], ['mmol mol-1', [['H2O', 'ETC NRT Fluxes', 'SE-Htm']]]]}, '1': {'multi_plot': [('°C', [['TA', 'ETC NRT Meteo', 'SE-Htm']]), ('mmol mol-1', [['H2O', 'ETC NRT Fluxes', 'SE-Htm']])]}}}\", 'owner': Textarea(value=\"{'_upd_mode': 'update', '_version': 1, '_orig_name': 'mp2 ', '_new_name': 'mp2 ', '_selected_tool_index': 1, '_tools': {'0': {'multi_plot': [['%', [['SWC_5', 'ETC NRT Meteo', 'SE-Htm']]], ['mmol mol-1', [['H2O', 'ETC NRT Fluxes', 'SE-Htm']]]]}, '1': {'multi_plot': [('°C', [['TA', 'ETC NRT Meteo', 'SE-Htm']]), ('mmol mol-1', [['H2O', 'ETC NRT Fluxes', 'SE-Htm']])]}}}\", disabled=True, layout=Layout(align_content='flex-start', display='inline-flex', flex_flow='row wrap', width='99%')), 'type': 'change'}<br>&nbsp&nbsp&nbsp&nbsp&nbsp&nbsp -- <b>#call_nr = 136 </b> &nbsp&nbsp&nbsp&nbsp&nbsp&nbsp -- batch_dict = {'_upd_mode': 'update', '_version': 1, '_orig_name': 'mp2 ', '_new_name': 'mp2 ', '_selected_tool_index': 1, '_tools': {0: {'multi_plot': [['%', [['SWC_5', 'ETC NRT Meteo', 'SE-Htm']]], ['mmol mol-1', [['H2O', 'ETC NRT Fluxes', 'SE-Htm']]]]}, 1: {'multi_plot': [('°C', [['TA', 'ETC NRT Meteo', 'SE-Htm']]), ('mmol mol-1', [['H2O', 'ETC NRT Fluxes', 'SE-Htm']])]}}}<br>&nbsp&nbsp&nbsp&nbsp&nbsp&nbsp -- <b>#call_nr = 136 </b> &nbsp&nbsp&nbsp&nbsp&nbsp&nbsp -- batch_drop.value = {'0': {'multi_plot': [['%', [['SWC_5', 'ETC NRT Meteo', 'SE-Htm']]], ['mmol mol-1', [['H2O', 'ETC NRT Fluxes', 'SE-Htm']]]]}, '_version': '1'}</span>"
      }
     },
     "e37092472dcd42d3b4f16b15fbcae8d5": {
      "model_module": "@jupyter-widgets/controls",
      "model_module_version": "2.0.0",
      "model_name": "HTMLStyleModel",
      "state": {
       "description_width": "",
       "font_size": null,
       "text_color": null
      }
     },
     "e37a893fce6b4a8aaf587060dff36ab1": {
      "model_module": "@jupyter-widgets/controls",
      "model_module_version": "2.0.0",
      "model_name": "HTMLModel",
      "state": {
       "layout": "IPY_MODEL_91939912c0a64fddbcf18f5b088eac12",
       "style": "IPY_MODEL_cbaee1e8b35d41eeb5abf9304a911d7c",
       "value": "<span style=\"color:rgb(128, 100, 39)\"; \"font-size:10.0pt\">&nbsp&nbsp&nbsp&nbsp&nbsp&nbsp <b>#call_nr = 98 - #caller(s): var2unit(), var_button_click(), __call__()</b> &nbsp&nbsp&nbsp&nbsp&nbsp&nbsp</span><span style=\"color:rgb(128, 100, 39)\"; \"font-size:8.0pt\">var2unit()<br>&nbsp&nbsp&nbsp&nbsp&nbsp&nbsp -- <b>#call_nr = 98 </b> &nbsp&nbsp&nbsp&nbsp&nbsp&nbsp -- var = ['TA', 'ETC NRT Meteo', 'SE-Htm']<br>&nbsp&nbsp&nbsp&nbsp&nbsp&nbsp -- <b>#call_nr = 98 </b> &nbsp&nbsp&nbsp&nbsp&nbsp&nbsp -- return unit = °C</span>"
      }
     },
     "e3ad8cb8b10f4a44af59d0e0b18875ce": {
      "model_module": "@jupyter-widgets/controls",
      "model_module_version": "2.0.0",
      "model_name": "HTMLModel",
      "state": {
       "layout": "IPY_MODEL_e7974556a6d64c41b1fe76422948e96f",
       "style": "IPY_MODEL_deae865c346f4b0b98bb28b5ce946fcc",
       "value": "<span style=\"color:rgb(92, 150, 134)\"; \"font-size:10.0pt\">&nbsp&nbsp&nbsp&nbsp&nbsp&nbsp <b>#call_nr = 173 - #caller(s): set_batch_upd_dict(), changed_batch_drop(), _notify_observers()</b> &nbsp&nbsp&nbsp&nbsp&nbsp&nbsp</span><span style=\"color:rgb(92, 150, 134)\"; \"font-size:8.0pt\">set_batch_upd_dict()<br>&nbsp&nbsp&nbsp&nbsp&nbsp&nbsp -- <b>#call_nr = 173 </b> &nbsp&nbsp&nbsp&nbsp&nbsp&nbsp -- step 2<br>&nbsp&nbsp&nbsp&nbsp&nbsp&nbsp -- <b>#call_nr = 173 </b> &nbsp&nbsp&nbsp&nbsp&nbsp&nbsp -- upd_dict_log.value ={'_upd_mode': 'read_mode_with_batch', '_selected_tool_index': None, '_version': '3', '_tools': {'0': {'multi_plot': [['%', [['SWC_5', 'ETC NRT Meteo', 'SE-Htm'], ['SWC_1', 'ETC NRT Meteo', 'SE-Htm']]], ['mmol mol-1', [['H2O', 'ETC NRT Fluxes', 'SE-Htm']]]]}}}</span>"
      }
     },
     "e448a0d4972441d2bc289d36921ec10e": {
      "model_module": "@jupyter-widgets/base",
      "model_module_version": "2.0.0",
      "model_name": "LayoutModel",
      "state": {}
     },
     "e46efe5ef44a49bbab5bb9ad01be238b": {
      "model_module": "@jupyter-widgets/controls",
      "model_module_version": "2.0.0",
      "model_name": "HTMLModel",
      "state": {
       "layout": "IPY_MODEL_d14d0811db834135b39b6b5f4a695c98",
       "style": "IPY_MODEL_7cd34b8396f943e49159c177f0b27659",
       "value": "<span style=\"color:rgb(89, 108, 6)\"; \"font-size:10.0pt\">&nbsp&nbsp&nbsp&nbsp&nbsp&nbsp <b>#call_nr = 38 - #caller(s): set_info_guide(), activate_gui(), update_batch()</b> &nbsp&nbsp&nbsp&nbsp&nbsp&nbsp</span><span style=\"color:rgb(89, 108, 6)\"; \"font-size:8.0pt\">set_info_guide()<br>&nbsp&nbsp&nbsp&nbsp&nbsp&nbsp -- <b>#call_nr = 38 </b> &nbsp&nbsp&nbsp&nbsp&nbsp&nbsp -- info_type = update<br>&nbsp&nbsp&nbsp&nbsp&nbsp&nbsp -- <b>#call_nr = 38 </b> &nbsp&nbsp&nbsp&nbsp&nbsp&nbsp -- selected_tools.value = None<br>&nbsp&nbsp&nbsp&nbsp&nbsp&nbsp -- <b>#call_nr = 38 </b> &nbsp&nbsp&nbsp&nbsp&nbsp&nbsp -- selected_tools.options = (('Multi-plot', 0),)<br>&nbsp&nbsp&nbsp&nbsp&nbsp&nbsp -- <b>#call_nr = 38 </b> &nbsp&nbsp&nbsp&nbsp&nbsp&nbsp -- selected_vars.options = (('SWC_5 (ETC NRT Meteo), H2O (ETC NRT Fluxes)', (0, [['%', [['SWC_5', 'ETC NRT Meteo', 'SE-Htm']]], ['mmol mol-1', [['H2O', 'ETC NRT Fluxes', 'SE-Htm']]]])),)<br>&nbsp&nbsp&nbsp&nbsp&nbsp&nbsp -- <b>#call_nr = 38 </b> &nbsp&nbsp&nbsp&nbsp&nbsp&nbsp -- test</span>"
      }
     },
     "e4daec50122f4c419472ebb77f424581": {
      "model_module": "@jupyter-widgets/controls",
      "model_module_version": "2.0.0",
      "model_name": "HTMLModel",
      "state": {
       "layout": "IPY_MODEL_e56ed9d362384114baaa425e4510e8f8",
       "style": "IPY_MODEL_3d9649862cf44f699981fdd6a8c931bd",
       "value": "<span style=\"color:rgb(15, 99, 92)\"; \"font-size:10.0pt\">&nbsp&nbsp&nbsp&nbsp&nbsp&nbsp <b>#call_nr = 169 - #caller(s): format_tool_vars(), reset_selection(), _notify_observers()</b> &nbsp&nbsp&nbsp&nbsp&nbsp&nbsp</span><span style=\"color:rgb(15, 99, 92)\"; \"font-size:8.0pt\">label_of_selected_var_row()<br>&nbsp&nbsp&nbsp&nbsp&nbsp&nbsp -- <b>#call_nr = 169 </b> &nbsp&nbsp&nbsp&nbsp&nbsp&nbsp -- tool_code = {0: {'multi_plot': [['%', [['SWC_5', 'ETC NRT Meteo', 'SE-Htm'], ['SWC_1', 'ETC NRT Meteo', 'SE-Htm']]], ['mmol mol-1', [['H2O', 'ETC NRT Fluxes', 'SE-Htm']]]]}}<br>&nbsp&nbsp&nbsp&nbsp&nbsp&nbsp -- <b>#call_nr = 169 </b> &nbsp&nbsp&nbsp&nbsp&nbsp&nbsp -- batch_drop.value = {'0': {'multi_plot': [['%', [['SWC_5', 'ETC NRT Meteo', 'SE-Htm'], ['SWC_1', 'ETC NRT Meteo', 'SE-Htm']]], ['mmol mol-1', [['H2O', 'ETC NRT Fluxes', 'SE-Htm']]]]}, '_version': '3'}</span>"
      }
     },
     "e4eb64e3a71e41ea84a6150335ed41e4": {
      "model_module": "@jupyter-widgets/controls",
      "model_module_version": "2.0.0",
      "model_name": "HTMLModel",
      "state": {
       "layout": "IPY_MODEL_47962d0a8320479d8629efeb3c8c3fa1",
       "style": "IPY_MODEL_c02286c862a24cf0a33de34d76103bfa",
       "value": "<span style=\"color:rgb(171, 133, 129)\"; \"font-size:10.0pt\">&nbsp&nbsp&nbsp&nbsp&nbsp&nbsp <b>#call_nr = 81 - #caller(s): reset_multi_plot_auto(), reset_var_buttons(), reset_selection()</b> &nbsp&nbsp&nbsp&nbsp&nbsp&nbsp</span><span style=\"color:rgb(171, 133, 129)\"; \"font-size:8.0pt\">reset_multi_plot_auto() - after<br>&nbsp&nbsp&nbsp&nbsp&nbsp&nbsp -- <b>#call_nr = 81 </b> &nbsp&nbsp&nbsp&nbsp&nbsp&nbsp -- hide = False<br>&nbsp&nbsp&nbsp&nbsp&nbsp&nbsp -- <b>#call_nr = 81 </b> &nbsp&nbsp&nbsp&nbsp&nbsp&nbsp -- enable = True<br>&nbsp&nbsp&nbsp&nbsp&nbsp&nbsp -- <b>#call_nr = 81 </b> &nbsp&nbsp&nbsp&nbsp&nbsp&nbsp -- value = True<br>&nbsp&nbsp&nbsp&nbsp&nbsp&nbsp -- <b>#call_nr = 81 </b> &nbsp&nbsp&nbsp&nbsp&nbsp&nbsp -- multi_plot_auto_cb.disabled = False<br>&nbsp&nbsp&nbsp&nbsp&nbsp&nbsp -- <b>#call_nr = 81 </b> &nbsp&nbsp&nbsp&nbsp&nbsp&nbsp -- multi_plot_auto_cb.layout.display = block<br>&nbsp&nbsp&nbsp&nbsp&nbsp&nbsp -- <b>#call_nr = 81 </b> &nbsp&nbsp&nbsp&nbsp&nbsp&nbsp -- multi_plot_auto_cb.value = True</span>"
      }
     },
     "e53a69da0cf24d1288a166f089d79c94": {
      "model_module": "@jupyter-widgets/controls",
      "model_module_version": "2.0.0",
      "model_name": "HTMLModel",
      "state": {
       "layout": "IPY_MODEL_1117f31150a04125b24b4a8eb273a10d",
       "style": "IPY_MODEL_c8322976fb034cca819c93eb5894d8c6",
       "value": "<span style=\"color:rgb(120, 84, 132)\"; \"font-size:10.0pt\">&nbsp&nbsp&nbsp&nbsp&nbsp&nbsp <b>#call_nr = 62 - #caller(s): cleanup_tools(), tool_selections(), tool_click()</b> &nbsp&nbsp&nbsp&nbsp&nbsp&nbsp</span><span style=\"color:rgb(120, 84, 132)\"; \"font-size:8.0pt\">cleanup_tools() -- (before)<br>&nbsp&nbsp&nbsp&nbsp&nbsp&nbsp -- <b>#call_nr = 62 </b> &nbsp&nbsp&nbsp&nbsp&nbsp&nbsp -- upd_dict['_tools'] = {0: {'multi_plot': [['%', [['SWC_5', 'ETC NRT Meteo', 'SE-Htm']]], ['mmol mol-1', [['H2O', 'ETC NRT Fluxes', 'SE-Htm']]]]}}</span>"
      }
     },
     "e543b0159ece440f88e6b25d3a2d49b0": {
      "model_module": "@jupyter-widgets/controls",
      "model_module_version": "2.0.0",
      "model_name": "VBoxModel",
      "state": {
       "children": [
        "IPY_MODEL_30a1d36a5b514a7ea9fa521b8d4bdc44",
        "IPY_MODEL_37313e7e3392484d97e3b33835f3819a"
       ],
       "layout": "IPY_MODEL_1e1d4d20fed84dff8a08373201768c20"
      }
     },
     "e55e84d71d70469ba21dbd86948f32f3": {
      "model_module": "@jupyter-widgets/controls",
      "model_module_version": "2.0.0",
      "model_name": "DropdownModel",
      "state": {
       "_options_labels": [
        "Roman (serifs, default)",
        "Sans Serif (no serifs)",
        "Italic (serifs)",
        "Typewriter (serifs)",
        "Bold (serifs)",
        "Normal"
       ],
       "index": 0,
       "layout": "IPY_MODEL_1cf4e5bae0f24815b2264537dabf3547",
       "style": "IPY_MODEL_8a20ac71250247df8f9a23af9e169857"
      }
     },
     "e56ed9d362384114baaa425e4510e8f8": {
      "model_module": "@jupyter-widgets/base",
      "model_module_version": "2.0.0",
      "model_name": "LayoutModel",
      "state": {}
     },
     "e5a09f6cc5504d9cbc9b19752032a013": {
      "model_module": "@jupyter-widgets/base",
      "model_module_version": "2.0.0",
      "model_name": "LayoutModel",
      "state": {}
     },
     "e5ec3d49f6d44ef7a3d9e272183a626b": {
      "model_module": "@jupyter-widgets/controls",
      "model_module_version": "2.0.0",
      "model_name": "HTMLStyleModel",
      "state": {
       "description_width": "",
       "font_size": null,
       "text_color": null
      }
     },
     "e64e881b2a4b460d8937c7811354ca4b": {
      "model_module": "@jupyter-widgets/controls",
      "model_module_version": "2.0.0",
      "model_name": "DropdownModel",
      "state": {
       "_options_labels": [
        "Meteo SWC",
        "NGEN 14 - Htm+Sor+Sto "
       ],
       "description": "Groups",
       "index": 0,
       "layout": "IPY_MODEL_f3bf43a7fec24a9391d954b6ff278d4f",
       "style": "IPY_MODEL_a39c413300694ae9ad6dc6ce7ce98d3b"
      }
     },
     "e65de521d41146ecbe25266add1001aa": {
      "model_module": "@jupyter-widgets/controls",
      "model_module_version": "2.0.0",
      "model_name": "DescriptionStyleModel",
      "state": {
       "description_width": ""
      }
     },
     "e7877f3c55674f038507025ef8c83d68": {
      "model_module": "@jupyter-widgets/controls",
      "model_module_version": "2.0.0",
      "model_name": "DescriptionStyleModel",
      "state": {
       "description_width": ""
      }
     },
     "e78c7085a7c343d8944077e2bcb977dc": {
      "model_module": "@jupyter-widgets/controls",
      "model_module_version": "2.0.0",
      "model_name": "HTMLStyleModel",
      "state": {
       "description_width": "",
       "font_size": null,
       "text_color": null
      }
     },
     "e78fd035b4084ebc9215a08e918509f2": {
      "model_module": "@jupyter-widgets/controls",
      "model_module_version": "2.0.0",
      "model_name": "HTMLModel",
      "state": {
       "layout": "IPY_MODEL_2a38370d876d4330b42a44ca07707345",
       "style": "IPY_MODEL_8fe1888a306f44c7a2c4daba25eb6cce",
       "value": "<b>Title font:</b> "
      }
     },
     "e7974556a6d64c41b1fe76422948e96f": {
      "model_module": "@jupyter-widgets/base",
      "model_module_version": "2.0.0",
      "model_name": "LayoutModel",
      "state": {}
     },
     "e7e5484d0722442e89699df245814f42": {
      "model_module": "@jupyter-widgets/base",
      "model_module_version": "2.0.0",
      "model_name": "LayoutModel",
      "state": {}
     },
     "e80e519f1c5a4fc6a91de87eae372a2d": {
      "model_module": "@jupyter-widgets/base",
      "model_module_version": "2.0.0",
      "model_name": "LayoutModel",
      "state": {}
     },
     "e82a7f8e314d406d879e85a876c29e6d": {
      "model_module": "@jupyter-widgets/controls",
      "model_module_version": "2.0.0",
      "model_name": "HTMLModel",
      "state": {
       "layout": "IPY_MODEL_7302da8201914108a47983befc788514",
       "style": "IPY_MODEL_9f20827db6114605b7f50f6bdcb00378",
       "value": "<span style=\"color:rgb(97, 124, 64)\"; \"font-size:10.0pt\">&nbsp&nbsp&nbsp&nbsp&nbsp&nbsp <b>#call_nr = 120 - #caller(s): reset_var_buttons(), reset_selection(), _notify_observers()</b> &nbsp&nbsp&nbsp&nbsp&nbsp&nbsp</span><span style=\"color:rgb(97, 124, 64)\"; \"font-size:8.0pt\">reset_var_buttons()  -- restore buttons -- <br>&nbsp&nbsp&nbsp&nbsp&nbsp&nbsp -- <b>#call_nr = 120 </b> &nbsp&nbsp&nbsp&nbsp&nbsp&nbsp --  axis_ls = ['°C']<br>&nbsp&nbsp&nbsp&nbsp&nbsp&nbsp -- <b>#call_nr = 120 </b> &nbsp&nbsp&nbsp&nbsp&nbsp&nbsp --  btn.tooltip = mmol mol-1<br>&nbsp&nbsp&nbsp&nbsp&nbsp&nbsp -- <b>#call_nr = 120 </b> &nbsp&nbsp&nbsp&nbsp&nbsp&nbsp --  Button = \"H2O (ETC NRT Fluxes)\"<br>&nbsp&nbsp&nbsp&nbsp&nbsp&nbsp -- <b>#call_nr = 120 </b> &nbsp&nbsp&nbsp&nbsp&nbsp&nbsp -- ---- enabled and unchecked</span>"
      }
     },
     "e845bea740234291a77e9989f9145db9": {
      "model_module": "@jupyter-widgets/base",
      "model_module_version": "2.0.0",
      "model_name": "LayoutModel",
      "state": {}
     },
     "e85800dea3fd49819ec793b2b6c6a060": {
      "model_module": "@jupyter-widgets/controls",
      "model_module_version": "2.0.0",
      "model_name": "DropdownModel",
      "state": {
       "_options_labels": [
        "plotly",
        "plotly_white",
        "plotly_dark",
        "ggplot2",
        "seaborn",
        "simple_white",
        "none"
       ],
       "index": 0,
       "layout": "IPY_MODEL_dfdf503bef984b608404d84a415820b3",
       "style": "IPY_MODEL_213dbefcf157405ca17e5fe96fb75496"
      }
     },
     "e86b1a37aa2445d78e6e0807fb4ab7a5": {
      "model_module": "@jupyter-widgets/controls",
      "model_module_version": "2.0.0",
      "model_name": "HTMLStyleModel",
      "state": {
       "description_width": "",
       "font_size": null,
       "text_color": null
      }
     },
     "e888d206d357460caaaad0aea244c182": {
      "model_module": "@jupyter-widgets/controls",
      "model_module_version": "2.0.0",
      "model_name": "HTMLModel",
      "state": {
       "layout": "IPY_MODEL_b56c93fc47b64a47ade46c726fcb5124",
       "style": "IPY_MODEL_a5b035b16aea4f2785ec3b82dcb68d1f",
       "value": "<span style=\"color:rgb(171, 133, 129)\"; \"font-size:10.0pt\">&nbsp&nbsp&nbsp&nbsp&nbsp&nbsp <b>#call_nr = 66 - #caller(s): reset_multi_plot_auto(), tool_selections(), tool_click()</b> &nbsp&nbsp&nbsp&nbsp&nbsp&nbsp</span><span style=\"color:rgb(171, 133, 129)\"; \"font-size:8.0pt\">reset_multi_plot_auto() - after<br>&nbsp&nbsp&nbsp&nbsp&nbsp&nbsp -- <b>#call_nr = 66 </b> &nbsp&nbsp&nbsp&nbsp&nbsp&nbsp -- hide = False<br>&nbsp&nbsp&nbsp&nbsp&nbsp&nbsp -- <b>#call_nr = 66 </b> &nbsp&nbsp&nbsp&nbsp&nbsp&nbsp -- enable = True<br>&nbsp&nbsp&nbsp&nbsp&nbsp&nbsp -- <b>#call_nr = 66 </b> &nbsp&nbsp&nbsp&nbsp&nbsp&nbsp -- value = True<br>&nbsp&nbsp&nbsp&nbsp&nbsp&nbsp -- <b>#call_nr = 66 </b> &nbsp&nbsp&nbsp&nbsp&nbsp&nbsp -- multi_plot_auto_cb.disabled = False<br>&nbsp&nbsp&nbsp&nbsp&nbsp&nbsp -- <b>#call_nr = 66 </b> &nbsp&nbsp&nbsp&nbsp&nbsp&nbsp -- multi_plot_auto_cb.layout.display = block<br>&nbsp&nbsp&nbsp&nbsp&nbsp&nbsp -- <b>#call_nr = 66 </b> &nbsp&nbsp&nbsp&nbsp&nbsp&nbsp -- multi_plot_auto_cb.value = True</span>"
      }
     },
     "e898cfd7a6d841cca4b2e3ef1de3188e": {
      "model_module": "@jupyter-widgets/base",
      "model_module_version": "2.0.0",
      "model_name": "LayoutModel",
      "state": {}
     },
     "e8c2d82e4b2340b1b64f4b649bb62e80": {
      "model_module": "@jupyter-widgets/controls",
      "model_module_version": "2.0.0",
      "model_name": "HTMLStyleModel",
      "state": {
       "description_width": "",
       "font_size": null,
       "text_color": null
      }
     },
     "e9095a8333484435996fb046e65b09d4": {
      "model_module": "@jupyter-widgets/base",
      "model_module_version": "2.0.0",
      "model_name": "LayoutModel",
      "state": {}
     },
     "e914f8b2143a4c15802b440157971039": {
      "model_module": "@jupyter-widgets/base",
      "model_module_version": "2.0.0",
      "model_name": "LayoutModel",
      "state": {}
     },
     "e95aba12293841908c6b8b1d8082b15e": {
      "model_module": "@jupyter-widgets/controls",
      "model_module_version": "2.0.0",
      "model_name": "HTMLModel",
      "state": {
       "layout": "IPY_MODEL_f2d96ba9fe194f3e924dcff46de21ee6",
       "style": "IPY_MODEL_53bb3f6b9733454380184d1fac3b80fb",
       "value": "<span style=\"color:rgb(164, 50, 95)\"; \"font-size:10.0pt\">&nbsp&nbsp&nbsp&nbsp&nbsp&nbsp <b>#call_nr = 4 - #caller(s): set_group_var_info(), changed_group_drop(), _notify_observers()</b> &nbsp&nbsp&nbsp&nbsp&nbsp&nbsp</span><span style=\"color:rgb(164, 50, 95)\"; \"font-size:8.0pt\">set_group_var_info()</span>"
      }
     },
     "e99f8029299443388eb664b992fb2b27": {
      "model_module": "@jupyter-widgets/controls",
      "model_module_version": "2.0.0",
      "model_name": "HTMLStyleModel",
      "state": {
       "description_width": "",
       "font_size": null,
       "text_color": null
      }
     },
     "e9a28325999d42a5b58636c655ab5159": {
      "model_module": "@jupyter-widgets/base",
      "model_module_version": "2.0.0",
      "model_name": "LayoutModel",
      "state": {}
     },
     "e9b593ca46074036a0e9c71d976f3b03": {
      "model_module": "@jupyter-widgets/controls",
      "model_module_version": "2.0.0",
      "model_name": "DescriptionStyleModel",
      "state": {
       "description_width": ""
      }
     },
     "e9e021af1a184b60b8073f040f618ed2": {
      "model_module": "@jupyter-widgets/base",
      "model_module_version": "2.0.0",
      "model_name": "LayoutModel",
      "state": {}
     },
     "ea71cbb8f64a43e8a5e088b25a3f6602": {
      "model_module": "@jupyter-widgets/controls",
      "model_module_version": "2.0.0",
      "model_name": "HTMLStyleModel",
      "state": {
       "description_width": "",
       "font_size": null,
       "text_color": null
      }
     },
     "eabcdc9c4a8744f989da3a9e8601399e": {
      "model_module": "@jupyter-widgets/controls",
      "model_module_version": "2.0.0",
      "model_name": "HBoxModel",
      "state": {
       "children": [
        "IPY_MODEL_8a936a52604c44e396468a2868f8ba0c",
        "IPY_MODEL_15a4fa66673f41668b9526eaf63c3620"
       ],
       "layout": "IPY_MODEL_2c816647f71e410f941c4cf65c07f490"
      }
     },
     "eadcfcfce67b46ecb90c6e61db5a8de9": {
      "model_module": "@jupyter-widgets/controls",
      "model_module_version": "2.0.0",
      "model_name": "VBoxModel",
      "state": {
       "children": [
        "IPY_MODEL_16b9574ab1af41949251a4f5f40b7828",
        "IPY_MODEL_4a622f0031c64511817cc20223d8bd4b"
       ],
       "layout": "IPY_MODEL_903c80feb5024bbda41210706b77bab9"
      }
     },
     "eaf5112b31df4a7c9d106410fd3696b9": {
      "model_module": "@jupyter-widgets/controls",
      "model_module_version": "2.0.0",
      "model_name": "HTMLModel",
      "state": {
       "layout": "IPY_MODEL_026063f430af4bf79625533db1e85aed",
       "style": "IPY_MODEL_af2f3c02fc11477caff3accd02c7a425",
       "value": "<span style=\"color:rgb(92, 150, 134)\"; \"font-size:10.0pt\">&nbsp&nbsp&nbsp&nbsp&nbsp&nbsp <b>#call_nr = 27 - #caller(s): set_batch_upd_dict(), update_batch(), __call__()</b> &nbsp&nbsp&nbsp&nbsp&nbsp&nbsp</span><span style=\"color:rgb(92, 150, 134)\"; \"font-size:8.0pt\">set_batch_upd_dict()<br>&nbsp&nbsp&nbsp&nbsp&nbsp&nbsp -- <b>#call_nr = 27 </b> &nbsp&nbsp&nbsp&nbsp&nbsp&nbsp -- step 1<br>&nbsp&nbsp&nbsp&nbsp&nbsp&nbsp -- <b>#call_nr = 27 </b> &nbsp&nbsp&nbsp&nbsp&nbsp&nbsp -- d ={'_upd_mode': 'update', '_version': 1, '_tools': {'0': {'multi_plot': [['%', [['SWC_5', 'ETC NRT Meteo', 'SE-Htm']]], ['mmol mol-1', [['H2O', 'ETC NRT Fluxes', 'SE-Htm']]]]}}, '_orig_name': 'mp2 ', '_new_name': 'mp2 ', '_selected_tool_index': None}</span>"
      }
     },
     "eb6b99a055724fdb9f9e00b4a5d4bed8": {
      "model_module": "@jupyter-widgets/controls",
      "model_module_version": "2.0.0",
      "model_name": "HTMLStyleModel",
      "state": {
       "description_width": "",
       "font_size": null,
       "text_color": null
      }
     },
     "eb9dcd79582d4250a33c355f5e98e46e": {
      "model_module": "@jupyter-widgets/base",
      "model_module_version": "2.0.0",
      "model_name": "LayoutModel",
      "state": {}
     },
     "ebb94c2cf20345ed9f600ab3720bc1a5": {
      "model_module": "@jupyter-widgets/controls",
      "model_module_version": "2.0.0",
      "model_name": "HTMLStyleModel",
      "state": {
       "description_width": "",
       "font_size": null,
       "text_color": null
      }
     },
     "ebc19daa4f13497698dcce3bf13ff42c": {
      "model_module": "@jupyter-widgets/base",
      "model_module_version": "2.0.0",
      "model_name": "LayoutModel",
      "state": {}
     },
     "ec0b02fba9c441a6aa9c35ce464187d6": {
      "model_module": "@jupyter-widgets/base",
      "model_module_version": "2.0.0",
      "model_name": "LayoutModel",
      "state": {}
     },
     "ecd376633dd34f218d3790b0979784bd": {
      "model_module": "@jupyter-widgets/controls",
      "model_module_version": "2.0.0",
      "model_name": "DatePickerModel",
      "state": {
       "description": "End date",
       "disabled": false,
       "layout": "IPY_MODEL_f3bf43a7fec24a9391d954b6ff278d4f",
       "max": null,
       "min": null,
       "step": 1,
       "style": "IPY_MODEL_24df573a13dc4310878391a213dfa933",
       "tooltip": "Default is yesterday",
       "value": {
        "date": 6,
        "month": 9,
        "year": 2023
       }
      }
     },
     "ece530c3c6b34350800dce1e56b1e070": {
      "model_module": "@jupyter-widgets/controls",
      "model_module_version": "2.0.0",
      "model_name": "HTMLStyleModel",
      "state": {
       "description_width": "",
       "font_size": null,
       "text_color": null
      }
     },
     "ed2416a492da426ca0ca15465453c523": {
      "model_module": "@jupyter-widgets/base",
      "model_module_version": "2.0.0",
      "model_name": "LayoutModel",
      "state": {
       "max_width": "auto",
       "min_width": "40px"
      }
     },
     "ed7e80d9e3d7434fa4cf6dea85aa39b3": {
      "model_module": "@jupyter-widgets/controls",
      "model_module_version": "2.0.0",
      "model_name": "HTMLModel",
      "state": {
       "layout": "IPY_MODEL_e9095a8333484435996fb046e65b09d4",
       "style": "IPY_MODEL_e21f0bc367ef4eebb34760a77109c32a",
       "value": "<span style=\"color:rgb(97, 124, 64)\"; \"font-size:10.0pt\">&nbsp&nbsp&nbsp&nbsp&nbsp&nbsp <b>#call_nr = 118 - #caller(s): reset_var_buttons(), reset_selection(), _notify_observers()</b> &nbsp&nbsp&nbsp&nbsp&nbsp&nbsp</span><span style=\"color:rgb(97, 124, 64)\"; \"font-size:8.0pt\">reset_var_buttons()  -- restore buttons -- <br>&nbsp&nbsp&nbsp&nbsp&nbsp&nbsp -- <b>#call_nr = 118 </b> &nbsp&nbsp&nbsp&nbsp&nbsp&nbsp --  axis_ls = ['°C']<br>&nbsp&nbsp&nbsp&nbsp&nbsp&nbsp -- <b>#call_nr = 118 </b> &nbsp&nbsp&nbsp&nbsp&nbsp&nbsp --  btn.tooltip = %<br>&nbsp&nbsp&nbsp&nbsp&nbsp&nbsp -- <b>#call_nr = 118 </b> &nbsp&nbsp&nbsp&nbsp&nbsp&nbsp --  Button = \"SWC_4 (ETC NRT Meteo)\"<br>&nbsp&nbsp&nbsp&nbsp&nbsp&nbsp -- <b>#call_nr = 118 </b> &nbsp&nbsp&nbsp&nbsp&nbsp&nbsp -- ---- enabled and unchecked</span>"
      }
     },
     "ed9a013f62114af3abdb4abf834862fc": {
      "model_module": "@jupyter-widgets/base",
      "model_module_version": "2.0.0",
      "model_name": "LayoutModel",
      "state": {}
     },
     "ed9a964e6db04316b9469bcd4de18310": {
      "model_module": "@jupyter-widgets/base",
      "model_module_version": "2.0.0",
      "model_name": "LayoutModel",
      "state": {}
     },
     "ee3c4bcd02c6436f89b1391ca1e258fb": {
      "model_module": "@jupyter-widgets/base",
      "model_module_version": "2.0.0",
      "model_name": "LayoutModel",
      "state": {}
     },
     "ee4414841f914a9cbfad0771a183d1fe": {
      "model_module": "@jupyter-widgets/base",
      "model_module_version": "2.0.0",
      "model_name": "LayoutModel",
      "state": {}
     },
     "ee7b1e3a5ccc4fceb4b45bf376141fa0": {
      "model_module": "@jupyter-widgets/controls",
      "model_module_version": "2.0.0",
      "model_name": "TextStyleModel",
      "state": {
       "description_width": "",
       "font_size": null,
       "text_color": "darkgreen"
      }
     },
     "ef00525351fa4c94bfb3aef955ea223b": {
      "model_module": "@jupyter-widgets/controls",
      "model_module_version": "2.0.0",
      "model_name": "HTMLStyleModel",
      "state": {
       "description_width": "",
       "font_size": null,
       "text_color": null
      }
     },
     "ef250d2b35af4ac2af0d2a74d411d615": {
      "model_module": "@jupyter-widgets/controls",
      "model_module_version": "2.0.0",
      "model_name": "HTMLStyleModel",
      "state": {
       "description_width": "",
       "font_size": null,
       "text_color": null
      }
     },
     "ef2e33ad1c654a599b8471f60281e30c": {
      "model_module": "@jupyter-widgets/controls",
      "model_module_version": "2.0.0",
      "model_name": "HTMLModel",
      "state": {
       "layout": "IPY_MODEL_eb9dcd79582d4250a33c355f5e98e46e",
       "style": "IPY_MODEL_09b8a31258ba4518bb7e2215d6e30bbd",
       "value": "<span style=\"color:rgb(133, 74, 120)\"; \"font-size:10.0pt\">&nbsp&nbsp&nbsp&nbsp&nbsp&nbsp <b>#call_nr = 71 - #caller(s): reset_selection(), _notify_observers(), notify_change()</b> &nbsp&nbsp&nbsp&nbsp&nbsp&nbsp</span><span style=\"color:rgb(133, 74, 120)\"; \"font-size:8.0pt\">reset_selection()<br>&nbsp&nbsp&nbsp&nbsp&nbsp&nbsp -- <b>#call_nr = 71 </b> &nbsp&nbsp&nbsp&nbsp&nbsp&nbsp -- c = {'name': 'value', 'old': \"{'_upd_mode': 'update', '_version': 1, '_orig_name': 'mp2 ', '_new_name': 'mp2 ', '_selected_tool_index': None, '_tools': {'0': {'multi_plot': [['%', [['SWC_5', 'ETC NRT Meteo', 'SE-Htm']]], ['mmol mol-1', [['H2O', 'ETC NRT Fluxes', 'SE-Htm']]]]}}}\", 'new': \"{'_upd_mode': 'update', '_version': 1, '_orig_name': 'mp2 ', '_new_name': 'mp2 ', '_selected_tool_index': 1, '_tools': {'0': {'multi_plot': [['%', [['SWC_5', 'ETC NRT Meteo', 'SE-Htm']]], ['mmol mol-1', [['H2O', 'ETC NRT Fluxes', 'SE-Htm']]]]}, '1': {'multi_plot': []}}}\", 'owner': Textarea(value=\"{'_upd_mode': 'update', '_version': 1, '_orig_name': 'mp2 ', '_new_name': 'mp2 ', '_selected_tool_index': 1, '_tools': {'0': {'multi_plot': [['%', [['SWC_5', 'ETC NRT Meteo', 'SE-Htm']]], ['mmol mol-1', [['H2O', 'ETC NRT Fluxes', 'SE-Htm']]]]}, '1': {'multi_plot': []}}}\", disabled=True, layout=Layout(align_content='flex-start', display='inline-flex', flex_flow='row wrap', width='99%')), 'type': 'change'}<br>&nbsp&nbsp&nbsp&nbsp&nbsp&nbsp -- <b>#call_nr = 71 </b> &nbsp&nbsp&nbsp&nbsp&nbsp&nbsp -- batch_dict = {'_upd_mode': 'update', '_version': 1, '_orig_name': 'mp2 ', '_new_name': 'mp2 ', '_selected_tool_index': 1, '_tools': {0: {'multi_plot': [['%', [['SWC_5', 'ETC NRT Meteo', 'SE-Htm']]], ['mmol mol-1', [['H2O', 'ETC NRT Fluxes', 'SE-Htm']]]]}, 1: {'multi_plot': []}}}<br>&nbsp&nbsp&nbsp&nbsp&nbsp&nbsp -- <b>#call_nr = 71 </b> &nbsp&nbsp&nbsp&nbsp&nbsp&nbsp -- batch_drop.value = {'0': {'multi_plot': [['%', [['SWC_5', 'ETC NRT Meteo', 'SE-Htm']]], ['mmol mol-1', [['H2O', 'ETC NRT Fluxes', 'SE-Htm']]]]}, '_version': '1'}</span>"
      }
     },
     "ef3015bc55cf49d9bbb7f146288077ef": {
      "model_module": "@jupyter-widgets/controls",
      "model_module_version": "2.0.0",
      "model_name": "HTMLModel",
      "state": {
       "layout": "IPY_MODEL_8719492138e74ced92ca1e8a9f70d727",
       "style": "IPY_MODEL_c5f12f8f33c44c20af9d93a6e9392979",
       "value": "<span><b>Guide:<br> <i>LaTeX settings</i></b> applies to axis labels of plots.<br>For example, if a plot represent CO2-measurements the y-axis will, depending on the settings, look similar to: </span>"
      }
     },
     "ef6278a047814d5b8535dfcc34090625": {
      "model_module": "@jupyter-widgets/base",
      "model_module_version": "2.0.0",
      "model_name": "LayoutModel",
      "state": {}
     },
     "ef875794e38f40f9bfd2be6fd4bc7e7b": {
      "model_module": "@jupyter-widgets/base",
      "model_module_version": "2.0.0",
      "model_name": "LayoutModel",
      "state": {}
     },
     "eff0f6eff2db40a080332db01936ab05": {
      "model_module": "@jupyter-widgets/base",
      "model_module_version": "2.0.0",
      "model_name": "LayoutModel",
      "state": {}
     },
     "eff3707ef15448c8990ba7f93da5e274": {
      "model_module": "@jupyter-widgets/controls",
      "model_module_version": "2.0.0",
      "model_name": "HTMLStyleModel",
      "state": {
       "description_width": "",
       "font_size": null,
       "text_color": null
      }
     },
     "f094cd7048c74d28bb64eff387ea3b9c": {
      "model_module": "@jupyter-widgets/controls",
      "model_module_version": "2.0.0",
      "model_name": "ButtonStyleModel",
      "state": {
       "button_color": "LightSeaGreen",
       "font_family": null,
       "font_size": null,
       "font_style": null,
       "font_variant": null,
       "font_weight": null,
       "text_color": null,
       "text_decoration": null
      }
     },
     "f0c3526676d84c30ac4dacd169d0094a": {
      "model_module": "@jupyter-widgets/controls",
      "model_module_version": "2.0.0",
      "model_name": "HTMLModel",
      "state": {
       "layout": "IPY_MODEL_a420a914d5c44a7f8a5dcc02bd61a88c",
       "style": "IPY_MODEL_49a25995181145bcb7d3118820bd80cb",
       "value": "<span style=\"color:rgb(0, 0, 0)\"; \"font-size:10.0pt\">&nbsp&nbsp&nbsp&nbsp&nbsp&nbsp <b>#call_nr = 2 - #caller(s): set_group_value(), _edit_batch_jobs(), _user_configurations()</b> &nbsp&nbsp&nbsp&nbsp&nbsp&nbsp</span><span style=\"color:rgb(0, 0, 0)\"; \"font-size:8.0pt\">set_group_value()   --- Here we go ----<br>&nbsp&nbsp&nbsp&nbsp&nbsp&nbsp -- <b>#call_nr = 2 </b> &nbsp&nbsp&nbsp&nbsp&nbsp&nbsp -- group = None</span>"
      }
     },
     "f0eccb1f2faf4e11b5301ca782133c56": {
      "model_module": "@jupyter-widgets/controls",
      "model_module_version": "2.0.0",
      "model_name": "HBoxModel",
      "state": {
       "children": [
        "IPY_MODEL_b8de7fcb84904e12b9a5397a8c03fd26",
        "IPY_MODEL_91c7e261adf5437f8440015c05cdb6b0"
       ],
       "layout": "IPY_MODEL_fbbd9e7f2ca04875bd89121ec74cd2d3"
      }
     },
     "f0ee4c5d8baa4044b58f505c3ab83020": {
      "model_module": "@jupyter-widgets/controls",
      "model_module_version": "2.0.0",
      "model_name": "HTMLModel",
      "state": {
       "layout": "IPY_MODEL_3b444c3e811e4c6f97c1b1708e5d88c3",
       "style": "IPY_MODEL_555c53a0f34146079cce227a04ac1763",
       "value": "<span style=\"color:rgb(171, 133, 129)\"; \"font-size:10.0pt\">&nbsp&nbsp&nbsp&nbsp&nbsp&nbsp <b>#call_nr = 145 - #caller(s): reset_multi_plot_auto(), reset_var_buttons(), reset_selection()</b> &nbsp&nbsp&nbsp&nbsp&nbsp&nbsp</span><span style=\"color:rgb(171, 133, 129)\"; \"font-size:8.0pt\">reset_multi_plot_auto() - before<br>&nbsp&nbsp&nbsp&nbsp&nbsp&nbsp -- <b>#call_nr = 145 </b> &nbsp&nbsp&nbsp&nbsp&nbsp&nbsp -- hide = False<br>&nbsp&nbsp&nbsp&nbsp&nbsp&nbsp -- <b>#call_nr = 145 </b> &nbsp&nbsp&nbsp&nbsp&nbsp&nbsp -- enable = True<br>&nbsp&nbsp&nbsp&nbsp&nbsp&nbsp -- <b>#call_nr = 145 </b> &nbsp&nbsp&nbsp&nbsp&nbsp&nbsp -- value = True<br>&nbsp&nbsp&nbsp&nbsp&nbsp&nbsp -- <b>#call_nr = 145 </b> &nbsp&nbsp&nbsp&nbsp&nbsp&nbsp -- multi_plot_auto_cb.disabled = False<br>&nbsp&nbsp&nbsp&nbsp&nbsp&nbsp -- <b>#call_nr = 145 </b> &nbsp&nbsp&nbsp&nbsp&nbsp&nbsp -- multi_plot_auto_cb.layout.display = block<br>&nbsp&nbsp&nbsp&nbsp&nbsp&nbsp -- <b>#call_nr = 145 </b> &nbsp&nbsp&nbsp&nbsp&nbsp&nbsp -- multi_plot_auto_cb.value = True</span>"
      }
     },
     "f103779fb1af4a5a87a1fce1c47c2908": {
      "model_module": "@jupyter-widgets/controls",
      "model_module_version": "2.0.0",
      "model_name": "HTMLModel",
      "state": {
       "layout": "IPY_MODEL_00ae9e3993da49ab99fad7ac783bbdea",
       "style": "IPY_MODEL_48a516e9d1604a7dbc313bf78319b756",
       "value": "<span style=\"color:rgb(112, 46, 5)\"; \"font-size:10.0pt\">&nbsp&nbsp&nbsp&nbsp&nbsp&nbsp <b>#call_nr = 51 - #caller(s): get_var2unit_dict(), var2unit(), init_group_var_buttons()</b> &nbsp&nbsp&nbsp&nbsp&nbsp&nbsp</span><span style=\"color:rgb(112, 46, 5)\"; \"font-size:8.0pt\">get_var2unit_dict()</span>"
      }
     },
     "f12d2974af2c447186ddde9f85e34fc3": {
      "model_module": "@jupyter-widgets/controls",
      "model_module_version": "2.0.0",
      "model_name": "HTMLStyleModel",
      "state": {
       "description_width": "",
       "font_size": null,
       "text_color": null
      }
     },
     "f130e8bbecc6455fbf7954c866924d75": {
      "model_module": "@jupyter-widgets/controls",
      "model_module_version": "2.0.0",
      "model_name": "HTMLStyleModel",
      "state": {
       "description_width": "",
       "font_size": null,
       "text_color": null
      }
     },
     "f158f99fcb0b43d7b9dd5e719261fdda": {
      "model_module": "@jupyter-widgets/controls",
      "model_module_version": "2.0.0",
      "model_name": "HTMLModel",
      "state": {
       "layout": "IPY_MODEL_ef875794e38f40f9bfd2be6fd4bc7e7b",
       "style": "IPY_MODEL_6b5e82ba05ac4cf78decba6d314825ad",
       "value": "<span style=\"color:rgb(97, 124, 64)\"; \"font-size:10.0pt\">&nbsp&nbsp&nbsp&nbsp&nbsp&nbsp <b>#call_nr = 122 - #caller(s): reset_var_buttons(), reset_selection(), _notify_observers()</b> &nbsp&nbsp&nbsp&nbsp&nbsp&nbsp</span><span style=\"color:rgb(97, 124, 64)\"; \"font-size:8.0pt\">reset_var_buttons()  -- restore buttons -- <br>&nbsp&nbsp&nbsp&nbsp&nbsp&nbsp -- <b>#call_nr = 122 </b> &nbsp&nbsp&nbsp&nbsp&nbsp&nbsp --  axis_ls = ['°C']<br>&nbsp&nbsp&nbsp&nbsp&nbsp&nbsp -- <b>#call_nr = 122 </b> &nbsp&nbsp&nbsp&nbsp&nbsp&nbsp --  btn.tooltip = <br>&nbsp&nbsp&nbsp&nbsp&nbsp&nbsp -- <b>#call_nr = 122 </b> &nbsp&nbsp&nbsp&nbsp&nbsp&nbsp --  Button = \"Select all\"<br>&nbsp&nbsp&nbsp&nbsp&nbsp&nbsp -- <b>#call_nr = 122 </b> &nbsp&nbsp&nbsp&nbsp&nbsp&nbsp -- ---- disabled</span>"
      }
     },
     "f194ce0c1b474531bed167674170afbb": {
      "model_module": "@jupyter-widgets/base",
      "model_module_version": "2.0.0",
      "model_name": "LayoutModel",
      "state": {}
     },
     "f1fcaab381f94365bc2281f631cea41f": {
      "model_module": "@jupyter-widgets/controls",
      "model_module_version": "2.0.0",
      "model_name": "VBoxModel",
      "state": {
       "children": [
        "IPY_MODEL_ad2ad34c14ea43d5a5f78be05158e4fe",
        "IPY_MODEL_ab70e4131f2c4a32927fb88e257c9817"
       ],
       "layout": "IPY_MODEL_346b2f618cb74ae3955580b77983be1f"
      }
     },
     "f238fd8a95f84b0fb8122e35a57882d3": {
      "model_module": "@jupyter-widgets/controls",
      "model_module_version": "2.0.0",
      "model_name": "HTMLModel",
      "state": {
       "layout": "IPY_MODEL_33b5bdb1cf2543ec8f52eb21a2cfc691",
       "style": "IPY_MODEL_d2db21a83d014abbb0f9a5b757b97433",
       "value": "<span style=\"color:rgb(161, 8, 118)\"; \"font-size:10.0pt\">&nbsp&nbsp&nbsp&nbsp&nbsp&nbsp <b>#call_nr = 158 - #caller(s): validate_name(), save_batch(), __call__()</b> &nbsp&nbsp&nbsp&nbsp&nbsp&nbsp</span><span style=\"color:rgb(161, 8, 118)\"; \"font-size:8.0pt\">validate_name()<br>&nbsp&nbsp&nbsp&nbsp&nbsp&nbsp -- <b>#call_nr = 158 </b> &nbsp&nbsp&nbsp&nbsp&nbsp&nbsp -- name = mp2 <br>&nbsp&nbsp&nbsp&nbsp&nbsp&nbsp -- <b>#call_nr = 158 </b> &nbsp&nbsp&nbsp&nbsp&nbsp&nbsp -- error_ls = []</span>"
      }
     },
     "f265f9398fa1435e817736fed46745dd": {
      "model_module": "@jupyter-widgets/controls",
      "model_module_version": "2.0.0",
      "model_name": "ButtonModel",
      "state": {
       "button_style": "info",
       "description": "Update",
       "icon": "pen",
       "layout": "IPY_MODEL_77b8ce3f55164db1a3828542ba3dd91c",
       "style": "IPY_MODEL_d35a195b4aa24bb7a693fe00cd19e36f",
       "tooltip": "Update batch job..."
      }
     },
     "f2d96ba9fe194f3e924dcff46de21ee6": {
      "model_module": "@jupyter-widgets/base",
      "model_module_version": "2.0.0",
      "model_name": "LayoutModel",
      "state": {}
     },
     "f33a4d8762e0443a8d91dc789fc8bdc6": {
      "model_module": "@jupyter-widgets/controls",
      "model_module_version": "2.0.0",
      "model_name": "HTMLStyleModel",
      "state": {
       "description_width": "",
       "font_size": null,
       "text_color": null
      }
     },
     "f352a9dec9f34175a3d5f7611fd9a34a": {
      "model_module": "@jupyter-widgets/base",
      "model_module_version": "2.0.0",
      "model_name": "LayoutModel",
      "state": {}
     },
     "f35aefb8579d4a82be0449fda0a1d9e0": {
      "model_module": "@jupyter-widgets/controls",
      "model_module_version": "2.0.0",
      "model_name": "HTMLStyleModel",
      "state": {
       "description_width": "",
       "font_size": null,
       "text_color": null
      }
     },
     "f36c740465784c1a8fc76acaec30a077": {
      "model_module": "@jupyter-widgets/controls",
      "model_module_version": "2.0.0",
      "model_name": "IntTextModel",
      "state": {
       "layout": "IPY_MODEL_8fd7fc9f027d42a4b7812d9ecf7da6f7",
       "step": 1,
       "style": "IPY_MODEL_1154353089884c96acdce0fdf6228762"
      }
     },
     "f3bf43a7fec24a9391d954b6ff278d4f": {
      "model_module": "@jupyter-widgets/base",
      "model_module_version": "2.0.0",
      "model_name": "LayoutModel",
      "state": {
       "height": "30px",
       "width": "148pt"
      }
     },
     "f42c2839965a4414a6bdc4852d652916": {
      "model_module": "@jupyter-widgets/base",
      "model_module_version": "2.0.0",
      "model_name": "LayoutModel",
      "state": {
       "max_width": "160px",
       "min_width": "80px"
      }
     },
     "f45dabd35b96488ca3a019c063ba3d66": {
      "model_module": "@jupyter-widgets/controls",
      "model_module_version": "2.0.0",
      "model_name": "ButtonModel",
      "state": {
       "description": "Multi-plot",
       "layout": "IPY_MODEL_70dc1ad7cd6a4ca3b79f211867f66809",
       "style": "IPY_MODEL_6b0d7bad6e6b4101b8db32cfc016d81e",
       "tooltip": null
      }
     },
     "f48adac2526f4064b33c9c99c6e80403": {
      "model_module": "@jupyter-widgets/controls",
      "model_module_version": "2.0.0",
      "model_name": "TextareaModel",
      "state": {
       "disabled": true,
       "layout": "IPY_MODEL_2c3d76eb3ae04d769be805d4d02a2183",
       "style": "IPY_MODEL_b05d87bde52641708c095a3c480d05cd",
       "value": "{'SWC_1 (ETC NRT Meteo)': ['SWC_1', 'ETC NRT Meteo', 'SE-Htm'], 'SWC_2 (ETC NRT Meteo)': ['SWC_2', 'ETC NRT Meteo', 'SE-Htm'], 'SWC_3 (ETC NRT Meteo)': ['SWC_3', 'ETC NRT Meteo', 'SE-Htm'], 'SWC_4 (ETC NRT Meteo)': ['SWC_4', 'ETC NRT Meteo', 'SE-Htm'], 'SWC_5 (ETC NRT Meteo)': ['SWC_5', 'ETC NRT Meteo', 'SE-Htm'], 'H2O (ETC NRT Fluxes)': ['H2O', 'ETC NRT Fluxes', 'SE-Htm'], 'TA (ETC NRT Meteo)': ['TA', 'ETC NRT Meteo', 'SE-Htm'], 'Select all': 'All variables'}"
      }
     },
     "f4b0911f556b41c181aa9d72c36bfe36": {
      "model_module": "@jupyter-widgets/controls",
      "model_module_version": "2.0.0",
      "model_name": "HTMLStyleModel",
      "state": {
       "description_width": "",
       "font_size": null,
       "text_color": null
      }
     },
     "f52cfc12f7044597a8500fe90b700b18": {
      "model_module": "@jupyter-widgets/base",
      "model_module_version": "2.0.0",
      "model_name": "LayoutModel",
      "state": {}
     },
     "f5c0cdb069d84b8fbb12e659d601bf59": {
      "model_module": "@jupyter-widgets/controls",
      "model_module_version": "2.0.0",
      "model_name": "HTMLStyleModel",
      "state": {
       "description_width": "",
       "font_size": null,
       "text_color": null
      }
     },
     "f5c6ed8a376549c69e671ab94be78dbb": {
      "model_module": "@jupyter-widgets/controls",
      "model_module_version": "2.0.0",
      "model_name": "HTMLStyleModel",
      "state": {
       "description_width": "",
       "font_size": null,
       "text_color": null
      }
     },
     "f5f25c8dea074b7f976ac40bb9c9367c": {
      "model_module": "@jupyter-widgets/controls",
      "model_module_version": "2.0.0",
      "model_name": "HTMLModel",
      "state": {
       "layout": "IPY_MODEL_34fe376bee5a4cb68da90e253a7ef494",
       "style": "IPY_MODEL_750bbcd28c694c4da68207d6d46fbfba",
       "value": "<span style=\"color:rgb(174, 175, 106)\"; \"font-size:10.0pt\">&nbsp&nbsp&nbsp&nbsp&nbsp&nbsp <b>#call_nr = 103 - #caller(s): get_batch_upd_dict(), reset_selection(), _notify_observers()</b> &nbsp&nbsp&nbsp&nbsp&nbsp&nbsp</span><span style=\"color:rgb(174, 175, 106)\"; \"font-size:8.0pt\">get_batch_upd_dict()<br>&nbsp&nbsp&nbsp&nbsp&nbsp&nbsp -- <b>#call_nr = 103 </b> &nbsp&nbsp&nbsp&nbsp&nbsp&nbsp -- d ={'_upd_mode': 'update', '_version': 1, '_orig_name': 'mp2 ', '_new_name': 'mp2 ', '_selected_tool_index': 1, '_tools': {0: {'multi_plot': [['%', [['SWC_5', 'ETC NRT Meteo', 'SE-Htm']]], ['mmol mol-1', [['H2O', 'ETC NRT Fluxes', 'SE-Htm']]]]}, 1: {'multi_plot': [('°C', [['TA', 'ETC NRT Meteo', 'SE-Htm']])]}}}</span>"
      }
     },
     "f6d688ed658b4cf5b2d4f2a95205127a": {
      "model_module": "@jupyter-widgets/controls",
      "model_module_version": "2.0.0",
      "model_name": "AccordionModel",
      "state": {
       "children": [
        "IPY_MODEL_0a00b93826ac4cb7a8bf0a359e85ce07"
       ],
       "layout": "IPY_MODEL_bab6f3e1f2114e1f8cb50c23e069be96",
       "titles": [
        "Batch jobs"
       ]
      }
     },
     "f6e4bc1684c148b39e72aa3e01389122": {
      "model_module": "@jupyter-widgets/controls",
      "model_module_version": "2.0.0",
      "model_name": "HTMLStyleModel",
      "state": {
       "description_width": "",
       "font_size": null,
       "text_color": null
      }
     },
     "f701dd1a293b48bcbbd937a016f088a9": {
      "model_module": "@jupyter-widgets/controls",
      "model_module_version": "2.0.0",
      "model_name": "DescriptionStyleModel",
      "state": {
       "description_width": ""
      }
     },
     "f7326ca3a2354c309158a2f6c4589e82": {
      "model_module": "@jupyter-widgets/controls",
      "model_module_version": "2.0.0",
      "model_name": "HTMLModel",
      "state": {
       "layout": "IPY_MODEL_7ef7b24cd6b845108d128d11bf335232",
       "style": "IPY_MODEL_5bbe4ca115914bd5acd37a8b54d386cc",
       "value": "<span style=\"color:rgb(156, 34, 37)\"; \"font-size:10.0pt\">&nbsp&nbsp&nbsp&nbsp&nbsp&nbsp <b>#call_nr = 126 - #caller(s): var_button_click(), __call__(), click()</b> &nbsp&nbsp&nbsp&nbsp&nbsp&nbsp</span><span style=\"color:rgb(156, 34, 37)\"; \"font-size:8.0pt\">var_button_click() ***<br>&nbsp&nbsp&nbsp&nbsp&nbsp&nbsp -- <b>#call_nr = 126 </b> &nbsp&nbsp&nbsp&nbsp&nbsp&nbsp -- tool_code = multi_plot<br>&nbsp&nbsp&nbsp&nbsp&nbsp&nbsp -- <b>#call_nr = 126 </b> &nbsp&nbsp&nbsp&nbsp&nbsp&nbsp -- selected_var_codes = [('°C', [['TA', 'ETC NRT Meteo', 'SE-Htm']])]</span>"
      }
     },
     "f7e6ccda2ad648ff8a46467ca78b9e3c": {
      "model_module": "@jupyter-widgets/base",
      "model_module_version": "2.0.0",
      "model_name": "LayoutModel",
      "state": {
       "align_content": "flex-start",
       "display": "inline-flex",
       "flex_flow": "row wrap",
       "width": "99%"
      }
     },
     "f8436c4a1c2246c1952c4171d3f50c89": {
      "model_module": "@jupyter-widgets/base",
      "model_module_version": "2.0.0",
      "model_name": "LayoutModel",
      "state": {}
     },
     "f8a715570b094ab0be68a4e68ba55596": {
      "model_module": "@jupyter-widgets/controls",
      "model_module_version": "2.0.0",
      "model_name": "HTMLStyleModel",
      "state": {
       "description_width": "",
       "font_size": null,
       "text_color": null
      }
     },
     "f8cfe264713a43c483fe5e3a0d7ff745": {
      "model_module": "@jupyter-widgets/controls",
      "model_module_version": "2.0.0",
      "model_name": "HTMLStyleModel",
      "state": {
       "description_width": "",
       "font_size": null,
       "text_color": null
      }
     },
     "f9474a8440e143a2babb221f40721069": {
      "model_module": "@jupyter-widgets/controls",
      "model_module_version": "2.0.0",
      "model_name": "HTMLStyleModel",
      "state": {
       "description_width": "",
       "font_size": null,
       "text_color": null
      }
     },
     "f9770ad4050445d5856d274d17c12767": {
      "model_module": "@jupyter-widgets/base",
      "model_module_version": "2.0.0",
      "model_name": "LayoutModel",
      "state": {}
     },
     "f99b553c13d3422b9f1e419c87d141c9": {
      "model_module": "@jupyter-widgets/base",
      "model_module_version": "2.0.0",
      "model_name": "LayoutModel",
      "state": {}
     },
     "fa112b688ef54d53b5654ea5a1611548": {
      "model_module": "@jupyter-widgets/base",
      "model_module_version": "2.0.0",
      "model_name": "LayoutModel",
      "state": {}
     },
     "fb99d4be357c468f84aa3b5a0ff96002": {
      "model_module": "@jupyter-widgets/controls",
      "model_module_version": "2.0.0",
      "model_name": "FloatTextModel",
      "state": {
       "layout": "IPY_MODEL_8fd7fc9f027d42a4b7812d9ecf7da6f7",
       "step": null,
       "style": "IPY_MODEL_519e90ea8eba4bd3bbd95d0aeace1771"
      }
     },
     "fbbd9e7f2ca04875bd89121ec74cd2d3": {
      "model_module": "@jupyter-widgets/base",
      "model_module_version": "2.0.0",
      "model_name": "LayoutModel",
      "state": {}
     },
     "fbe739c802644d8d9ec975b038151799": {
      "model_module": "@jupyter-widgets/controls",
      "model_module_version": "2.0.0",
      "model_name": "VBoxModel",
      "state": {
       "children": [
        "IPY_MODEL_9ce293fb526344f7a5f638e3baccd2ea",
        "IPY_MODEL_ba3795e956c3434eac7685ca3c13830b",
        "IPY_MODEL_5f544b85704146c5974bbf2905359364"
       ],
       "layout": "IPY_MODEL_c2377b79a36345c489a892e0b0f4510a"
      }
     },
     "fc1e326da57941bfb795fad8709c9a6f": {
      "model_module": "@jupyter-widgets/controls",
      "model_module_version": "2.0.0",
      "model_name": "HTMLStyleModel",
      "state": {
       "description_width": "",
       "font_size": null,
       "text_color": null
      }
     },
     "fc26fc9f069e4aa99ea8eaad0f58df44": {
      "model_module": "@jupyter-widgets/controls",
      "model_module_version": "2.0.0",
      "model_name": "VBoxModel",
      "state": {
       "children": [
        "IPY_MODEL_a3acba5110464bab8e218a34b0ff911a"
       ],
       "layout": "IPY_MODEL_154b7d7558884f35a14526665ac4b4b2"
      }
     },
     "fc4d5d53afe3400796b726a88303245a": {
      "model_module": "@jupyter-widgets/controls",
      "model_module_version": "2.0.0",
      "model_name": "HBoxModel",
      "state": {
       "children": [
        "IPY_MODEL_ce3f9a68c5d746fabebd6c438ed83d48",
        "IPY_MODEL_fb99d4be357c468f84aa3b5a0ff96002"
       ],
       "layout": "IPY_MODEL_2976a975e03242728861d09912113b1d"
      }
     },
     "fcbc41501c1a44ddaf94234fd46cc498": {
      "model_module": "@jupyter-widgets/controls",
      "model_module_version": "2.0.0",
      "model_name": "HTMLStyleModel",
      "state": {
       "description_width": "",
       "font_size": null,
       "text_color": null
      }
     },
     "fe1597aceff04d2cb4fea0ebab8a08de": {
      "model_module": "@jupyter-widgets/controls",
      "model_module_version": "2.0.0",
      "model_name": "HBoxModel",
      "state": {
       "children": [
        "IPY_MODEL_b8de7fcb84904e12b9a5397a8c03fd26",
        "IPY_MODEL_6616adba3f1a49b09d2de2e72e35342a"
       ],
       "layout": "IPY_MODEL_d7483281960043658c917d2fb27098ee"
      }
     },
     "fe339e68ed314b8faf08af9aeea80c36": {
      "model_module": "@jupyter-widgets/controls",
      "model_module_version": "2.0.0",
      "model_name": "HBoxModel",
      "state": {
       "children": [
        "IPY_MODEL_b8de7fcb84904e12b9a5397a8c03fd26",
        "IPY_MODEL_0b43a11a9c29477ea497cd264c8137da"
       ],
       "layout": "IPY_MODEL_b4872877eb3f42eb89ece13859b15010"
      }
     },
     "feadc8c49b10447eaf8769cd4ad903b5": {
      "model_module": "@jupyter-widgets/controls",
      "model_module_version": "2.0.0",
      "model_name": "HTMLStyleModel",
      "state": {
       "description_width": "",
       "font_size": null,
       "text_color": null
      }
     },
     "fec43b746f7e4568b50aaa0888dac949": {
      "model_module": "@jupyter-widgets/controls",
      "model_module_version": "2.0.0",
      "model_name": "HTMLModel",
      "state": {
       "layout": "IPY_MODEL_f99b553c13d3422b9f1e419c87d141c9",
       "style": "IPY_MODEL_a136bc642bcb4aefb28c5976bad86293",
       "value": "<span style=\"color:rgb(92, 150, 134)\"; \"font-size:10.0pt\">&nbsp&nbsp&nbsp&nbsp&nbsp&nbsp <b>#call_nr = 155 - #caller(s): set_batch_upd_dict(), update_batch_dict(), var_button_click()</b> &nbsp&nbsp&nbsp&nbsp&nbsp&nbsp</span><span style=\"color:rgb(92, 150, 134)\"; \"font-size:8.0pt\">set_batch_upd_dict()<br>&nbsp&nbsp&nbsp&nbsp&nbsp&nbsp -- <b>#call_nr = 155 </b> &nbsp&nbsp&nbsp&nbsp&nbsp&nbsp -- step 2<br>&nbsp&nbsp&nbsp&nbsp&nbsp&nbsp -- <b>#call_nr = 155 </b> &nbsp&nbsp&nbsp&nbsp&nbsp&nbsp -- upd_dict_log.value ={'_upd_mode': 'update', '_version': 1, '_orig_name': 'mp2 ', '_new_name': 'mp2 ', '_selected_tool_index': 1, '_tools': {'0': {'multi_plot': [['%', [['SWC_5', 'ETC NRT Meteo', 'SE-Htm']]], ['mmol mol-1', [['H2O', 'ETC NRT Fluxes', 'SE-Htm']]]]}, '1': {'multi_plot': [('°C', [['TA', 'ETC NRT Meteo', 'SE-Htm']]), ('mmol mol-1', [['H2O', 'ETC NRT Fluxes', 'SE-Htm']])]}}}</span>"
      }
     },
     "ff820ca3041644229f1493ca7e5f9173": {
      "model_module": "@jupyter-widgets/base",
      "model_module_version": "2.0.0",
      "model_name": "LayoutModel",
      "state": {}
     },
     "fff486796c2345c4b5c79372ea77ac6b": {
      "model_module": "@jupyter-widgets/base",
      "model_module_version": "2.0.0",
      "model_name": "LayoutModel",
      "state": {}
     }
    },
    "version_major": 2,
    "version_minor": 0
   }
  }
 },
 "nbformat": 4,
 "nbformat_minor": 5
}
