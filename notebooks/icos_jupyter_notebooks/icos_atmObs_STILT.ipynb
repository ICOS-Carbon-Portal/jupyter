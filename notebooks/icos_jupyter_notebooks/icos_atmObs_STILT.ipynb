{
 "cells": [
  {
   "cell_type": "markdown",
   "metadata": {},
   "source": [
    "<img src=\"https://www.icos-cp.eu/sites/default/files/2017-11/ICOS_CP_logo.png\" width=\"400\" align=\"left\"/>\n",
    "<img src=\"logos/stilt_logo.png\" width=\"180\" align=\"right\"/>"
   ]
  },
  {
   "cell_type": "markdown",
   "metadata": {},
   "source": [
    "<a id='intro'></a>"
   ]
  },
  {
   "cell_type": "markdown",
   "metadata": {},
   "source": [
    "# 1. Introduction\n",
    "In this notebook we present data from [ICOS CP](https://www.icos-cp.eu/)  in conjunction with results of the Stochastic Time-Inverted Lagrangian Transport model - [STILT](http://stilt-model.org/index.php/Main/HomePage). It is possible to run the STILT model and produce new results using the [STILT footprint tool](https://www.icos-cp.eu/footprint-tool), which is available on ICOS CP.\n",
    "<br>\n",
    "\n",
    "The notebook is divided in three parts; the first part shows a [data availability table](#data_availability) per data package, the second presents [visualizations of STILT Model Results and ICOS Atmospheric Observations](#stilt_icosAtmObs) and the third part displays STILT [footprint maps](#fp_maps). Every part contains a short description of the output and/or the tool used to produce the output. All the code used to produce these outputs is included in the *icos_stilt_tools notebook*.\n",
    "\n",
    "It is possible to navigate to different parts of the notebook using the links at the right side of the notebook code cells.\n",
    "\n",
    "Type __?__ and the name of a Python function, to view a short description of what that particular function does. \n",
    "\n",
    "\n",
    "<br>\n",
    "<br>\n",
    "<br>\n",
    "<a id='tools'></a>\n",
    "\n",
    "## Import tools"
   ]
  },
  {
   "cell_type": "code",
   "execution_count": null,
   "metadata": {},
   "outputs": [],
   "source": [
    "#Run notebook with tools:\n",
    "%run icos_STILT/icos_stilt_tools.ipynb"
   ]
  },
  {
   "cell_type": "markdown",
   "metadata": {},
   "source": [
    "<a id='data_availability'></a>\n",
    "<br>\n",
    "<br>\n",
    "<br>"
   ]
  },
  {
   "cell_type": "markdown",
   "metadata": {},
   "source": [
    "# 2. Data Availability\n",
    "This part presents the data availability of different data products. More in particular, it presents a table of available STILT model results for ICOS Atmospheric Stations. It should be noted that the content of the table is updated dyanmically. At present, STILT model results are only available for a subset of the existent ICOS Atmospheric Stations. The interactive table is colorcoded to mark the availability of any combination of ICOS Level-1 Atmospheric $CO_2$ Data, ICOS Level-2 Atmospheric $CO_2$ Data and STILT outputs. A legend with the marker symbols for every data category can be found below the table. The legend is interactive, allowing you to switch layers on and off, simply by clicking on a legend item. Use the *Box Zoom* and *Wheel Zoom* tools from the table toolbar (located at the right part of the table) to zoom-in or zoom-out in different parts of the table. Use the *Hover* tool to get more information regarding what year and what month a certain data product is available for. Note that in order to use a tool from the table toolbar, you have to activate it. A tool can be activated, simply by clicking on it. Active tools are highlighted with a blue line on the left part of their corresponding icon.\n",
    "\n",
    "An interactive map is also provided, depicting the location of all ICOS Atmospheric Stations. Zoom-in and zoom-out to get a good overview of the surrounding area of a station. Zoom-out to see which other ICOS stations are nearby. Click on the station markers to get more information about every station (e.g. station name, station PI, station country, station longitude, station latitude, available sampling heights, etc.). Click on the station name in the marker tooltip to be redirected to the corresponding station landing page o ICOS CP. From there it is possible to view and download all available data for that station.\n",
    "\n",
    "<br>\n",
    "<br>\n",
    "<div style=\"text-align: right\"> \n",
    "    <a href=\"#intro\">Back to top</a>\n",
    "</div>"
   ]
  },
  {
   "cell_type": "markdown",
   "metadata": {},
   "source": [
    "<a id='data_availability_table'></a>\n",
    "## 2.1 Data Availability Table\n",
    "<br>"
   ]
  },
  {
   "cell_type": "code",
   "execution_count": null,
   "metadata": {},
   "outputs": [],
   "source": [
    "#Plot STILT & ICOS data availability (for ICOS Atmosphere Stations only):\n",
    "update_availability_plot()"
   ]
  },
  {
   "cell_type": "markdown",
   "metadata": {},
   "source": [
    "<br>\n",
    "<div style=\"text-align: right\"> \n",
    "    <a href=\"#stilt_icosAtmObs\">[Go to plot]</a>\n",
    "    &nbsp;&nbsp;&nbsp;&nbsp;&nbsp;&nbsp;&nbsp;&nbsp;\n",
    "    <a href=\"#fp_maps\">[Go to footprint map]</a>\n",
    "    &nbsp;&nbsp;&nbsp;&nbsp;&nbsp;&nbsp;&nbsp;&nbsp;\n",
    "    <a href=\"#intro\">Back to top</a>\n",
    "<br>\n",
    "<br>\n",
    "<br>\n"
   ]
  },
  {
   "cell_type": "markdown",
   "metadata": {},
   "source": [
    "<a id='icos_stilt_station_map'></a>\n",
    "## 2.2 Map displaying ICOS Atmospheric Stations with STILT Model Outputs\n",
    "<br>"
   ]
  },
  {
   "cell_type": "code",
   "execution_count": null,
   "metadata": {},
   "outputs": [],
   "source": [
    "#Call function to display widget-form with ICOS stations\n",
    "#for which STILT-results are available:\n",
    "map_wdgt_form_icos_stilt()"
   ]
  },
  {
   "cell_type": "markdown",
   "metadata": {},
   "source": [
    "<br>\n",
    "<div style=\"text-align: right\"> \n",
    "    <a href=\"#intro\">Back to top</a>\n",
    "</div>\n",
    "<br>\n",
    "<br>\n",
    "<br>"
   ]
  },
  {
   "cell_type": "markdown",
   "metadata": {},
   "source": [
    "<a id='stilt_icosAtmObs'></a>"
   ]
  },
  {
   "cell_type": "markdown",
   "metadata": {},
   "source": [
    "# 3. Plot STILT Model Results with ICOS Atmospheric Observations\n",
    "This part presents visualizations of STILT Model Results in combination with ICOS Level-1 and/or Level-2 Atmospheric Observations for $CO_2$. More in particular, this part presents an interactive plot with STILT Model results in conjunction with ICOS Level-1 and Level-2 CO2 Atmospheric Data. The results can be viewed by year. In the plots given bad data has been removed, more specifically we only plot data having the quality control flags *U-Flag* or *O-Flag*. For more information regarding data processing at ICOS ATC we refer to Hazan et al., Atmos. Meas. Tech., 9, 4719–4736, https://doi.org/10.5194/amt-9-4719-2016.\n",
    "\n",
    "\n",
    "If you wish to use data from this tool in your work, click on the \"citation\" checkbox to get the text of the recommended citation format.\n",
    "\n",
    "Note that the sampling height in the Station dropdown list refers to the sampling height defined by the user for the STILT model run and not to the actual sampling height(s) of the station. Plots displaying ICOS data (with or without STILT model results) will have the actual station sampling height stated in the title, whereas plots displaying only STILT model results will display the sampling height defined by the user for the model run.\n",
    "\n",
    "\n",
    "\n",
    "<br>\n",
    "<div style=\"text-align: right\"> \n",
    "    <a href=\"#intro\">Back to top</a>\n",
    "</div>\n",
    "<br>"
   ]
  },
  {
   "cell_type": "code",
   "execution_count": null,
   "metadata": {},
   "outputs": [],
   "source": [
    "#Call function to display widgets:\n",
    "create_widgets_stilt_icos_plots()"
   ]
  },
  {
   "cell_type": "markdown",
   "metadata": {},
   "source": [
    "<br>\n",
    "<div style=\"text-align: right\"> \n",
    "    <a href=\"#data_availability_table\">[Back to availability table]</a>\n",
    "    &emsp; &emsp;\n",
    "    <a href=\"#intro\">Back to top</a>\n",
    "</div>\n",
    "<br>\n",
    "<br>\n",
    "<br>"
   ]
  },
  {
   "cell_type": "markdown",
   "metadata": {},
   "source": [
    "<a id='fp_maps'></a>"
   ]
  },
  {
   "cell_type": "markdown",
   "metadata": {},
   "source": [
    "# 4. STILT Footprint Maps\n",
    "This part presents an interactive plot with STILT Model results in conjunction with ICOS Level-1 and Level-2 CO2 Atmospheric Data. It is possible to perform a more detailed search with the help of the date-picker widgets. These features enable you to perform a search that may span over a few days, months or years. As abowe, in the plots presented we have removed bad data, more specifically we only plot data having the quality control flags *U-Flag* or *O-Flag*. For more information regarding data processing at ICOS ATC we refer to Hazan et al., Atmos. Meas. Tech., 9, 4719–4736, https://doi.org/10.5194/amt-9-4719-2016.\n",
    "\n",
    "In cases, where STILT Model Results are available it is also possible to view maps of their corresponding footprints.\n",
    "If you wish to use data from this tool in your work, click on the \"citation\" checkbox to get the text of the recommended citation format.\n",
    "\n",
    "In the title of the footprint maps, \"n\" represents the total number of footprints that were aggregated, whilst \"min\" and \"max\" correspond to the minimum and maximum footprint values. Note that, if a logarithmic colorscale is used, the \"min\" and \"max\" values in the title will not correspond to the min and max values of the colormap values.\n",
    "\n",
    "<br>\n",
    "<div style=\"text-align: right\"> \n",
    "    <a href=\"#intro\">Back to top</a>\n",
    "</div>\n",
    "<br>\n",
    "<br>\n",
    "<br>"
   ]
  },
  {
   "cell_type": "code",
   "execution_count": null,
   "metadata": {},
   "outputs": [],
   "source": [
    "#Call function to show widgets:\n",
    "create_widgets_stilt_icos_fp()"
   ]
  },
  {
   "cell_type": "markdown",
   "metadata": {},
   "source": [
    "<br>\n",
    "<div style=\"text-align: right\"> \n",
    "    <a href=\"#data_availability_table\">[Back to availability table]</a>\n",
    "    &emsp; &emsp;\n",
    "    <a href=\"#intro\">Back to top</a>\n",
    "</div>\n",
    "<br>\n",
    "<br>\n",
    "<br>"
   ]
  },
  {
   "cell_type": "markdown",
   "metadata": {},
   "source": [
    "# 5. Get Access to ICOS Jupyter Notebook Developing Environment\n",
    "For more information about ICOS Jupyter solutions, please visit: https://www.icos-cp.eu/data-services/tools/jupyter-notebook\n",
    "\n",
    "If you wish to extend the functionality of the already existent ICOS notebooks or develop your own Jupyter notebooks in collaboration with the ICOS community, apply for an account here: https://www.icos-cp.eu/jupyter-personal-account-application\n",
    "\n",
    "For jupyter-related comments and questions, send us an email to: <jupyter-info@icos-cp.eu>.\n",
    "\n",
    "<br>\n",
    "<br>\n",
    "<div style=\"text-align: right\"> \n",
    "    <a href=\"#intro\">Back to top</a>\n",
    "</div>\n",
    "<br>\n",
    "<br>\n",
    "<br>"
   ]
  }
 ],
 "metadata": {
  "kernelspec": {
   "display_name": "Python 3 (ipykernel)",
   "language": "python",
   "name": "python3"
  },
  "language_info": {
   "codemirror_mode": {
    "name": "ipython",
    "version": 3
   },
   "file_extension": ".py",
   "mimetype": "text/x-python",
   "name": "python",
   "nbconvert_exporter": "python",
   "pygments_lexer": "ipython3",
   "version": "3.10.6"
  },
  "toc": {
   "base_numbering": 1,
   "nav_menu": {},
   "number_sections": false,
   "sideBar": true,
   "skip_h1_title": true,
   "title_cell": "Table of Contents",
   "title_sidebar": "Contents",
   "toc_cell": false,
   "toc_position": {},
   "toc_section_display": true,
   "toc_window_display": false
  }
 },
 "nbformat": 4,
 "nbformat_minor": 4
}
