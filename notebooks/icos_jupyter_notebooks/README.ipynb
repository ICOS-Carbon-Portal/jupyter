{
 "cells": [
  {
   "cell_type": "markdown",
   "id": "sound-puppy",
   "metadata": {},
   "source": [
    "<img src=\"https://www.icos-cp.eu/sites/default/files/2017-11/ICOS_CP_logo.png\" width=\"300\" align=\"right\"/>\n",
    "<br>\n",
    "<br>\n",
    "<br> \n",
    "<br>\n",
    "<br>\n",
    "\n",
    "# Content\n",
    "This folder contains Jupyter Notebooks that process ICOS data and folders with Python help functions and ancillary data.\n",
    "\n",
    "<br>\n",
    "\n",
    "## Structure\n",
    "The structure of the folder is the following:\n",
    "\n",
    "* Jupyter Notebooks processing ICOS data:\n",
    "  * Explore ICOS Atmosphere data products: includes interactive maps and plots of ICOS atmosphere data products\n",
    "  * Compare atmospheric model results (STILT) to ICOS Atmospheric Data\n",
    "  * Calculate statistics over ICOS Atmosphere data: includes statistics and interactive plots & visualizations of ICOS atmosphere data products\n",
    "  * Curve-fitting methods for CO2 time series (ccgcrv)\n",
    "  * Interactive availability table for ICOS data products\n",
    "* Data folder (includes ancillary data files)\n",
    "* Logos folder (includes files with logos)\n",
    "* CCG folder (includes Python code files for curve fitting methods)\n",
    "* as_obs_tools (includes Python code files for visualizations of ICOS atmosphere data products)\n",
    "* as_stat_tools (includes Python code files for calculating statistics over ICOS atmosphere data products)\n",
    "* availability_tools (includes Python modules for ICOS interactive data product availability table)\n",
    "* icos_stilt_tools (includes Python code files for processing ICOS and STILT data)\n",
    "* Station characterization folder (includes notebooks and folders with ancillary data that are aimed for providing additional information about ICOS stations)\n",
    "* tools folder (includes python modules developed for processing & visualizing ICOS data products - the modules can be used by all icos notebooks)\n",
    "\n",
    "<br>\n",
    "\n",
    "## License\n",
    "* Copyright © 2019-2020 ICOS ERIC\n",
    "* This work is licensed under a\n",
    "Creative Commons Attribution 4.0 International License ([CC BY 4.0](http://creativecommons.org/licenses/by/4.0/)).\n"
   ]
  }
 ],
 "metadata": {
  "kernelspec": {
   "display_name": "Python 3",
   "language": "python",
   "name": "python3"
  },
  "language_info": {
   "codemirror_mode": {
    "name": "ipython",
    "version": 3
   },
   "file_extension": ".py",
   "mimetype": "text/x-python",
   "name": "python",
   "nbconvert_exporter": "python",
   "pygments_lexer": "ipython3",
   "version": "3.8.6"
  },
  "toc": {
   "base_numbering": 1,
   "nav_menu": {},
   "number_sections": false,
   "sideBar": true,
   "skip_h1_title": true,
   "title_cell": "Table of Contents",
   "title_sidebar": "Contents",
   "toc_cell": false,
   "toc_position": {},
   "toc_section_display": true,
   "toc_window_display": false
  }
 },
 "nbformat": 4,
 "nbformat_minor": 5
}
