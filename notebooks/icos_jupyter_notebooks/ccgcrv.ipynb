{
 "cells": [
  {
   "cell_type": "markdown",
   "metadata": {},
   "source": [
    "\n",
    "<img src=\"logos/Icos_cp_Logo_RGB.svg\" width=\"400\" align=\"left\"/>\n",
    "<img src=\"logos/NOAA_logo.png\" width=\"90\" align=\"right\"/>"
   ]
  },
  {
   "cell_type": "markdown",
   "metadata": {},
   "source": [
    "<a id='introduction'></a>\n",
    "<br>\n",
    "\n",
    "\n",
    "# Curve fitting methods for CO$_2$ time series\n",
    "\n",
    "This notebook includes examples of curve fitting methods for time series. For more detailed information regarding the implemented methods visit [NOAA](https://www.esrl.noaa.gov/gmd/ccgg/mbl/crvfit/crvfit.html). The curve fitting methods are applied over CO$_2$ measurements from ICOS stations as well as a selection of non-ICOS stations. Data from all stations are included in the Drought 2018 Atmospheric Product (part of the Drought 2018 Project) which is stored and can be downloaded from the [ICOS Carbon Portal](https://www.icos-cp.eu/data-services/about-data-portal).\n",
    "\n",
    "The notebook is divided into the following parts:\n",
    "- [Import tools](#tools)\n",
    "- [Map with stations](#map)\n",
    "- [Plots](#plots)\n",
    "- [Access to ICOS Jupyter Developing Environment](#access_to_jup_hub)\n",
    "\n",
    "Every part includes a short description of its content and a quick link to return to the table of contents in this introductory part. Use the links to quickly navigate from one part of the notebook to another.\n",
    "\n",
    "The first part is dedicated on executing the code necessary for producing the visualizations in this notebook. The second part, includes an interactive map of all the stations for which data is available for, so that the user might get an overview of all available datasets. This part also provides the opportunity to get more detailed information about each station. The map can be used to study the proximity of stations, as an inspiration for checking if the trends of their corresponding measurements follow a similar pattern. The third part includes a form of controls/widgets (i.e. dropdown lists, checkboxes, etc.) that allows the user to apply curve fitting methods over a the measurements of a station of choice. The controls allow the user to control some of the input parameters for the curve fitting methods. Finally, the last part includes contact information to the ICOS Carbon Portal, in case you are interested in joining our Jupyter Hub. You may work on existent notebooks with ICOS data but you can also contribute in expanding the existing python services by producing new notebooks.\n",
    "\n",
    "<br>\n",
    "\n",
    "### Run the notebook\n",
    "To run the notebook, click on **Kernel** and then **Restart & Run All** in the menubar at the top of the page.\n"
   ]
  },
  {
   "cell_type": "markdown",
   "metadata": {},
   "source": [
    "<br>\n",
    "<br>\n",
    "<a id='tools'></a>\n",
    "\n",
    "## 1. Import tools\n",
    "The code-cell below executes the notebook containing all the Python functions that produce the visualizations in this notebook.."
   ]
  },
  {
   "cell_type": "code",
   "execution_count": null,
   "metadata": {
    "scrolled": false
   },
   "outputs": [],
   "source": [
    "#Run notebook with tools:\n",
    "%run ccg/ccg_icos_tools.ipynb"
   ]
  },
  {
   "cell_type": "markdown",
   "metadata": {},
   "source": [
    "<br>\n",
    "<div style=\"text-align: right\"> \n",
    "    <a href=\"#introduction\">Back to top</a>\n",
    "</div>\n",
    "<br>\n",
    "<br>\n",
    "<br>"
   ]
  },
  {
   "cell_type": "markdown",
   "metadata": {},
   "source": [
    "\n",
    "<a id='map'></a>\n",
    "\n",
    "## 2. Map with stations \n",
    "This part includes an interactive map with all the stations for which data is available. You may scroll to zoom-in on the map and get a better idea of the surroundings of each station. To get more information about a specific station, click on its corresponding marker. If you know the name of a station but are somewhat unsure about its exact location, you may select it from the drop-down list and press the update-map button. This will create a new instance of the map, where the selected station's marker is highlighted in red.\n",
    "\n",
    "Click on the **Update map** button to display the map."
   ]
  },
  {
   "cell_type": "code",
   "execution_count": null,
   "metadata": {
    "scrolled": false
   },
   "outputs": [],
   "source": [
    "#Call function to display widget:\n",
    "create_widget_map()"
   ]
  },
  {
   "cell_type": "markdown",
   "metadata": {},
   "source": [
    "<br>\n",
    "<div style=\"text-align: right\"> \n",
    "    <a href=\"#introduction\">Back to top</a>\n",
    "</div>\n",
    "<br>\n",
    "<br>\n",
    "<br>"
   ]
  },
  {
   "cell_type": "markdown",
   "metadata": {},
   "source": [
    "<a id='plots'></a>\n",
    "\n",
    "## 3. Plots\n",
    "This part includes a form with controls that allow the user to apply the curve fitting methods over CO$_2$ measurements from a station of choice. The user may also select the time period the measurments should come from.\n",
    "\n",
    "- The start-year and end-year should cover a time period of 2 years minimum. The **starting date** and **end date** can be selected from the corresponding datetime-pickers.\n",
    "\n",
    "- **Timezero** refers to the time for which the trend is set to zero. Here you select the year that then corresponds to the 1st of January. _Timezero_ should refer to a year between the start-date year and end-date year.\n",
    "\n",
    "- The user may select a **color** to display the _CO$_2$ measurements_ in all plots.\n",
    "\n",
    "- By checking the **Daytime** checkbox, the data is filtered to only include daytime measurements (i.e. measurments taken between 10:00 am and 18:00 am).\n",
    "\n",
    "- If the **Citation** checkbox is checked, the citation strings for all data used in the plots, will appear after the last plot.\n",
    "\n",
    "- Check the **Save plots** checkbox to save all plots as png-files under the following folder in your home directory: ```output/ccg/```\n",
    "\n",
    "- Check **Export data** to download a csv-file with the monthly mean and standard deviation of the measurements under the following folder in your home directory: ```output/ccg/```.\n",
    "\n",
    "\n",
    "Note that the plot containing the detrended values is an interactive plot. Click on the labels in the legend to add or remove data from the plot. Use the toolbox on the right of the plot to pan, zoom-in, save, or reset the plot to its initial state. You may also use the hover tool to get information for every sepparate data point. You need to activate a tool before using it. You can activate a tool by clicking on its icon. Active tools are highlighted with a blue line on the left side of their corresponding icon."
   ]
  },
  {
   "cell_type": "code",
   "execution_count": null,
   "metadata": {
    "scrolled": false
   },
   "outputs": [],
   "source": [
    "#Call function to display widget form:\n",
    "create_widget_ccgcrv()"
   ]
  },
  {
   "cell_type": "markdown",
   "metadata": {},
   "source": [
    "<br>\n",
    "<div style=\"text-align: right\"> \n",
    "    <a href=\"#introduction\">Back to top</a>\n",
    "</div>\n",
    "<br>\n",
    "<br>\n",
    "<br>"
   ]
  },
  {
   "cell_type": "markdown",
   "metadata": {},
   "source": [
    "<a id='access_to_jup_hub'></a>\n",
    "\n",
    "## 4. Get Access to ICOS Jupyter Notebook Developing Environment\n",
    "If you wish to extend the functionality of the already existent ICOS notebooks or develop your own Jupyter notebook with direct access to ICOS data, send an email with your request to <jupyter-info@icos-cp.eu>.\n",
    "\n",
    "<br>\n",
    "<div style=\"text-align: right\"> \n",
    "    <a href=\"#introduction\">Back to top</a>\n",
    "</div>\n",
    "<br>\n",
    "<br>\n",
    "<br>"
   ]
  }
 ],
 "metadata": {
  "kernelspec": {
   "display_name": "Python 3",
   "language": "python",
   "name": "python3"
  },
  "language_info": {
   "codemirror_mode": {
    "name": "ipython",
    "version": 3
   },
   "file_extension": ".py",
   "mimetype": "text/x-python",
   "name": "python",
   "nbconvert_exporter": "python",
   "pygments_lexer": "ipython3",
   "version": "3.8.6"
  }
 },
 "nbformat": 4,
 "nbformat_minor": 4
}
