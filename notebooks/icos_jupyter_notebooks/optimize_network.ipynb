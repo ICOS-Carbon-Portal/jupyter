{
 "cells": [
  {
   "cell_type": "markdown",
   "id": "romantic-tackle",
   "metadata": {},
   "source": [
    "<img src=\"logos/Icos_cp_Logo_RGB.svg\" align=\"right\" width=\"400\"> <br clear=\"all\" />\n",
    "\n",
    "\n",
    "# Optimize site selection based on multipe variables\n",
    "\n",
    "\n",
    "For questions and feedback contact ida.storm@nateko.lu.se\n",
    "\n",
    "To use the tool, <span style=\"background-color: #FFFF00\">run all the Notebook cells</span> (see image below).\n",
    "\n",
    "<img src=\"network_characterization/screenshots_for_into_text/how_to_run.PNG\" align=\"left\"> <br clear=\"all\" />\n",
    "\n",
    "\n",
    "\n",
    "### Background\n",
    "\n",
    "ICOS currently has 13 member states and deploys almost 150 stations in the three domains atmosphere, ecosystem and ocean. \n",
    "Essential to monitor the net greenhouse gas balance of Europe and its immediate surroundings is to optimise the observation network to the evolving needs of science and policy makers. Providing the necessary information to further improve and develop models that answer the needs of these users is crucial. Extending the network to new member states and optimising the density in existing member states to fulfil these requirements can be assisted by network design tools.\n",
    "\n",
    "\n",
    "For the atmosphere domain the current ICOS network consists of 38 stations that monitor CO2, CH4, CO and in increasing cases also N2O with high precision and accuracy, presenting an unprecedented dense network compared to the rest of the world. One of the main applications of the ICOS atmosphere observations is the use in regional inversion models. Inversion models, by combining observations, prior information and models, can be used to reduce the uncertainty on estimates of the net greenhouse gas fluxes at high spatial and temporal resolution and to distinguish contributions of different source and sink categories. Previous studies show that uncertainty in the atmospheric transport as well as the still existing regional gaps in the observation network are the determining factors that currently limits these inverse models. Future enhancement of methods and models and increasing high quality observations can reduce these limitations. The location for additional (ICOS-) stations needs to be carefully planned to create maximum impact on the models and enhancement of the existing network.\n",
    "\n",
    "### Tool overview\n",
    "\n",
    "To assist the national networks in evaluating the current and possible atmospheric network configurations, the ICOS Carbon Portal has extended its STILT footprint service with a Jupyter notebook based tools. The is the <a href=\"https://exploredata.icos-cp.eu/user/username/notebooks/icos_jupyter_notebooks/network_characterization.ipynb\"> network characterization tool</a> which allows the user to test any potential network configuration on its capability to capture the influence of sources and sinks. The <a href=\"https://exploredata.icos-cp.eu/user/username/notebooks/icos_jupyter_notebooks/station_characterization.ipynb\"> station characterization tool</a> offers insight to the characteristics of any hypothetical station.  This notebook is intended to be used as a complement to these tools. It allows the user to explore the relationship between selected sites – potential and/or existing – in terms of selected variables.  What makes for a good site, and hence what variables are interesting to compare is up to the user to define.\n",
    "\n",
    "#### Settings\n",
    "\n",
    "A \"settings file\" (settings.json) which specifies all the settings used to produce the result can be downloaded. It will end up in a folder called “output” in the home directory. In the output folder there will be a subfolder called “optimize network”. It can in turn be uploaded to replicate the run in the future by uploading it to the optional \"Load settings \n"
   ]
  },
  {
   "cell_type": "code",
   "execution_count": null,
   "id": "intended-denmark",
   "metadata": {},
   "outputs": [],
   "source": [
    "%%javascript\n",
    "IPython.OutputArea.prototype._should_scroll = function(lines) {\n",
    "    return false;\n",
    "}"
   ]
  },
  {
   "cell_type": "code",
   "execution_count": null,
   "id": "refined-inflation",
   "metadata": {},
   "outputs": [],
   "source": [
    "import sys\n",
    "sys.path.append('./optimize_network')\n",
    "sys.path.append('./station_characterization')\n",
    "import gui_optimize_network"
   ]
  }
 ],
 "metadata": {
  "kernelspec": {
   "display_name": "Python 3",
   "language": "python",
   "name": "python3"
  },
  "language_info": {
   "codemirror_mode": {
    "name": "ipython",
    "version": 3
   },
   "file_extension": ".py",
   "mimetype": "text/x-python",
   "name": "python",
   "nbconvert_exporter": "python",
   "pygments_lexer": "ipython3",
   "version": "3.8.6"
  },
  "toc": {
   "base_numbering": 1,
   "nav_menu": {},
   "number_sections": false,
   "sideBar": true,
   "skip_h1_title": true,
   "title_cell": "Table of Contents",
   "title_sidebar": "Contents",
   "toc_cell": false,
   "toc_position": {},
   "toc_section_display": true,
   "toc_window_display": false
  }
 },
 "nbformat": 4,
 "nbformat_minor": 5
}
