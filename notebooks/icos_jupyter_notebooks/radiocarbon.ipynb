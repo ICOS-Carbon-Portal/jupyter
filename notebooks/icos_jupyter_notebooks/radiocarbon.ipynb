{
 "cells": [
  {
   "cell_type": "markdown",
   "metadata": {},
   "source": [
    "<img src=\"logos/Icos_cp_Logo_RGB.svg\" align=\"right\" width=\"400\"> <br clear=\"all\" />\n",
    "<a id='section0'></a>\n",
    "\n",
    "# Radiocarbon\n",
    "\n",
    "For questions and feedback contact jupyter-info@icos-cp.eu\n",
    "\n",
    "To use the tool, <span style=\"background-color: #FFFF00\">run all the Notebook cells</span> (see image below).\n",
    "\n",
    "<img src=\"network_characterization/screenshots_for_into_texts/how_to_run.PNG\" align=\"left\"> <br clear=\"all\" />\n",
    "\n",
    "### Background\n",
    "There are several different isotopes of carbon, meaning carbon atoms with different neutron numbers. The most common is the stable 12C, which makes up about 98,9% of all the carbon atoms. In the case of the radioactive carbon isotope 14C (radiocarbon), its natural production and long half-life make the 14C to 12C ratio an interesting carbon dating tool. Carbon is replenished in the tissue as long as the organic object is alive. Once dead and buried with no further exchange with the environment, the 14C/12C ratio of a sample will decrease at the known 14C decay rate (half-life of 14C=5700 years) and its age can be determined.\n",
    "\n",
    "\n",
    "In this notebook the focus is on the 14C/C ratio in atmospheric CO2 and how it can be used as a tracer to estimate the fossil component of CO2 at a measurement station. From now on, the 14C/C ratio is referred to as ∆14C, i.e. the 14C/C deviation in per-mil from an internationally agreed standard ratio. In fossil fuels, all the original 14C has decayed during the long storage time. Burning fossil fuels like oil and natural gas thus produces CO2 that does not contain any 14C. An addition of fossil CO2 to an air sample (e.g. at a polluted station) thus causes a negative shift in ∆14C. This 14C depletion compared to clean background air can be used to estimate how much fossil CO2 is contained in the sample. However, there are a couple of additional factors to consider:\n",
    "\n",
    "- The background ∆14C needs to be known. Due to an ongoing input of fossil CO2 into the global atmosphere, the 14C/C ratio in background CO2 is steadily decreasing. For Europe we measure a continental Δ14C background e.g. at the high-altitude station Jungfraujoch in the Swiss Alps. A maritime background can be measured e.g. at the Irish station Mace Head or at Izana on Tenerife Island (used in this notebook). Background air needs to be continuously monitored for estimating the fossil fuel CO2 component at a continental (ICOS) station.\n",
    "\n",
    "<mark>Update 2024-09-04:</mark> An updated version of maritime background at the Irish station Mace Head is used for the background ∆14C. \n",
    "\n",
    "\n",
    "- European air can be contaminated by 14C emissions from nuclear facilities. These nuclear 14C emissions can significantly increase the ∆14C measured at a station, if a facility is located in the station’s footprint. To make a best estimate of the fossil fuel component this contamination needs to be calculated and the measured -Δ14C needs to be adjusted.\n",
    "\n",
    "With the combination of a station’s footprint (<a href=\"http://stilt-model.org/index.php/Main/HomePage\" target=\"_blank\">STILT</a>) for a given point in time and a spatially and temporally resolved emissions database where emissions are separated by sector <a href=\"https://doi.org/10.5194/essd-11-959-2019\" target=\"_blank\">(EDGAR v4.3.2)</a> it is possible to estimate what the fossil fuel component at the station could be according to the model. Accounting for the biogenic component through a combination of the footprint with a biogenic model <a href=\"https://doi.org/10.1029/2006GB002735\" target=\"_blank\">(VPRM)</a> allows for an estimate of the CO2 concentration at the station when combined with the anthropogenic emissions plus a background (model edge) concentration. Given the modelled fossil fuel component and the modelled CO2 concentration, the estimated nuclear contamination, and the (measured) background ∆14C, an estimate can be made of what the ∆14C at a station would be according to the model -estimates. How this can be done is described in <a href=\"https://agupubs.onlinelibrary.wiley.com/doi/10.1029/2003GL018477\" target=\"_blank\">Levin et al.,2003</a> (equation 3). The nuclear contamination is not accounted for here. ∆14C measurements can hence be compared to model deduced values. Uncertainties in the modelled ratio stem from many different sources: the transport model footprints, the anthropogenic and biogenic emission databases and the nuclear emissions values used to estimate the nuclear contamination.\n"
   ]
  },
  {
   "cell_type": "markdown",
   "metadata": {},
   "source": [
    "### Table of contents\n",
    "\n",
    "<ul>\n",
    "    <li><a href='#section1'>Overview amp showing emissions of 14C from nuclear facilities within STILT domain (Europe)</a><br>\n",
    "    <li><a href='#section4'>How to interact with output plots</a></li>   \n",
    "    <li><a href='#section2'>Model-based results</a></li>                                                                                         \n",
    "    <li><a href='#section3'>Model-based results compared to measurements: Carbon Portal data</a></li>\n",
    "</ul>"
   ]
  },
  {
   "cell_type": "markdown",
   "metadata": {},
   "source": [
    "<div style=\"text-align: right\"><a href='#section0' align='left'>Back to top</a></div>\n",
    "<a id='section1'></a>\n",
    "\n",
    "## Overview on emissions of 14C from nuclear facilities within the STILT domain (Europe)\n",
    "\n",
    "Annual emission totals of 14CO2 in GBq from nuclear power plants and reprocessing facilities for the years 2006-2022 are considered. The dataset has the following sources:\n",
    "\n",
    "Facilities in countries <b>within the EU</b> are collected from the European Commission <a href = \"https://europa.eu/radd/index.dox\" target = \"_blank\">Radioactive Discharges Database</a> (RADD).\n",
    "\n",
    "\n",
    "<b>Switzerland's</b> data is from the Swiss Federal Nuclear Safety Inspectorate (ENSI). The data was extracted from their Radiological Protection annual reports, which can be accessed <a href = \"https://www.ensi.ch/en/documents/document-category/jahresberichte-ensi/\" target = \"blank\">here</a>. Choose \"Emissions\" in the topic dropdown of the search interface.\n",
    "\n",
    "<b>UK</b> facilities ceased reporting to RADD after the year 2019. For later years, the data is from the RIFE (Radioactivity in Food and the Environment) annual reports which are prepared on behalf of the UK Environment Agency. They can be accessed <a href= \"https://www.food.gov.uk/search?keywords=RIFE\" target = \"blank\">here</a>.\n",
    "\n",
    "\n",
    "<b>Ukraine</b> and <b>Russia</b> have no such reports. Instead, the method based on emission factors outlined in <a href = \"https://doi.org/10.1017/RDC.2018.42\" target =\"blank\">Zazzeri et al., 2018</a> was employed: <i>\"Emission factor-based estimates in TBq/yr are calculated by multiplying the standard emission factors in Table 1 by the power production values from the IAEA PRIS Database.\"</i> The IAEA PRIS database can be accessed <a href = \"https://pris.iaea.org/\" target = \"blank\">here</a>.\n",
    "\n",
    "\n",
    "Regardless of the source of the data, all facilities with pressurized water reactors (PWRs) are expected to release only 28% of the 14C as 14CO2 and the values were adjusted accordingly: <i>\"A fraction of 72% of 14C released as CH4 from the PWRs has been used in the estimation, with all other 14C released in the form of CO2\"</i> (<a href=\"https://doi.org/10.1017/RDC.2018.42\" target = \"blank\"> Zazzeri et al., 2018</a>). The only exception is for the RADD data in the case of other information provided in the column “CHEMICAL_FORM_COMMENT”.\n",
    "\n",
    "<b>2022 data is preliminary (2023-10-27)</b>\n",
    "\n",
    "Preliminary emissions for 2022 are included, with reported or inferred emissions for 42 out of 88 facilities. For the remaining 46 facilities, emission values for 2021 are used:\n",
    "\n",
    "- RADD is still missing entries from the 18 German facilities, 2 Finnish facilities, and one Bulgarian facility.\n",
    "- Ukraine has not reported energy production to the IAEA PRIS for the year 2021.\n",
    "- The 2022 report for Switzerland has not yet been released.\n",
    "- The 2022 report for the UK has not yet been released.\n",
    "\n",
    "\n",
    "The full emission dataset, can be found in a <a href= \"https://meta.icos-cp.eu/objects/Qa5PvLgEeiXW3IRAfTU5d_Oo\" target = \"_blank\">csv-file</a> uploaded to the ICOS Carbon Portal.\n",
    "\n",
    "<mark>Update 2024-07-09</mark>: Adjusted emissions for UK facility Sizewell A+B. Sizewell B is a PWR which was not accounted for in the years 2020-2022. \n",
    "\n",
    "<mark>Update 2024-09-04</mark>: Adjusted emissions for Philipsburg 2 (combined with Philipsburg 1 in the dataset) year 2017. There was an error in the \"Chemical form comment\" in RADD: \"6.3 E-01 GBq CO2\" should be \"6.3 E+01 GBq CO2\".\n",
    "\n",
    "\n",
    "Run the below cells to show the user interface and display the facilities on an interactive map. Click on the map to get more information about the facilities and ICOS stations. "
   ]
  },
  {
   "cell_type": "code",
   "execution_count": null,
   "metadata": {},
   "outputs": [],
   "source": [
    "import sys\n",
    "from importlib import reload\n",
    "sys.path.append('./radiocarbon')\n",
    "if \"gui_overview_radiocarbon\" not in dir(): \n",
    "    import gui_overview_radiocarbon\n",
    "else:\n",
    "    reload(gui_overview_radiocarbon)"
   ]
  },
  {
   "cell_type": "markdown",
   "metadata": {},
   "source": [
    "<div style=\"text-align: right\"><a href='#section0' align='left'>Back to top</a></div>\n",
    "<a id='section4'></a>\n",
    "\n",
    "\n",
    "## How to interact with output plots\n",
    "\n",
    "Bokeh plots include tools to help the user interact with the plot. In the figure below the tools are presented at the right side of the plot. The user must activate a tool before using it. Active tools are highlighted with a blue bar at the left side of their corresponding icon (e.g. “hover” is the only activated tool in the example below). It is possible to change the status of a tool (activate/deactivate) simply by clicking on it.\n",
    "\n",
    "<img src=\"radiocarbon/example_bokeh.PNG\" width=\"900\" style=\"float:left\"><br clear=\"all\" />\n",
    "\n",
    "Below is a list of the most commonly used Bokeh tools with their description: \n",
    "\n",
    "**Pan**: You can use this tool to move to different parts of the plot by panning (on touch devices) or left-dragging (on mouse devices). Tip: this tool might become handy if you have zoomed-in to an area that does not cover the entire area you initially intended to zoom-in to. \n",
    "\n",
    "**Box Zoom**: Draw a box over the plot area you wish to zoom-in to, by left-dragging your mouse.\n",
    "\n",
    "**Wheel Zoom**: Activate this tool to use scroll for zooming-in to areas of interest in the plot.\n",
    "\n",
    "**Reset**: Click on this tool to return the plot to its initial state.\n",
    "\n",
    "**Save**: Click on this tool to save a copy of the plot (in PNG format) to your computer.\n",
    "\n",
    "**Hover**: Hover over the plot’s contents to view pop-ups with information associated to every depicted value."
   ]
  },
  {
   "cell_type": "markdown",
   "metadata": {},
   "source": [
    "<div style=\"text-align: right\"><a href='#section0' align='left'>Back to top</a></div>\n",
    "<a id='section2'></a>\n",
    "\n",
    "## Model-based results \n",
    "\n",
    "\n",
    "- Fossil fuel component (∆14C fossil fuel)\n",
    "- Nuclear contamination (∆14C nuclear)\n",
    "- Modelled ∆14C taken into account ∆14C fossil fuel, ∆14C nuclear and ∆14C background\n",
    "\n",
    "If the user wishes to download the results, it will end up in the \"output\" folder in the home directory in a subfolder called \"radiocarbon_model_result\".\n",
    "\n",
    "Run the cell below to show the user interface.\n"
   ]
  },
  {
   "cell_type": "code",
   "execution_count": null,
   "metadata": {},
   "outputs": [],
   "source": [
    "import sys\n",
    "from importlib import reload\n",
    "sys.path.append('./radiocarbon')\n",
    "if \"gui_stilt\" not in dir(): \n",
    "    import gui_stilt\n",
    "else:\n",
    "    reload(gui_stilt)"
   ]
  },
  {
   "cell_type": "markdown",
   "metadata": {},
   "source": [
    "<div style=\"text-align: right\"><a href='#section0' align='left'>Back to top</a></div>\n",
    "<a id='section3'></a>\n",
    "\n",
    "## Model-based results compared to measurements: Carbon Portal data\n",
    "\n",
    "14C data from the Carbon Portal (available through search for <a href=\"https://data.icos-cp.eu/portal/#%7B%22filterCategories%22%3A%7B%22project%22%3A%5B%22icos%22%5D%2C%22theme%22%3A%5B%22atmosphere%22%5D%2C%22type%22%3A%5B%22atcC14L2DataObject%22%5D%7D%7D\" target=\"_blank\">ICOS ATC 14C Release at the data portal</a>)\n",
    "\n",
    "The measurements are integrated over 14-21 days and model results are averaged over the measurement date ranges for comparisons. The user doesn’t specify a date range, but rather results are\n",
    "output for all date ranges that have STILT runs so that the measurements can be compared to model results.\n",
    "\n",
    "If the user wishes to download the results, it will end up in the \"output\" folder in the home directory in a subfolder called \"radiocarbon_cp_result\"."
   ]
  },
  {
   "cell_type": "code",
   "execution_count": null,
   "metadata": {},
   "outputs": [],
   "source": [
    "import sys\n",
    "from importlib import reload\n",
    "sys.path.append('./radiocarbon')\n",
    "if \"gui_measured_cp\" not in dir(): \n",
    "    import gui_measured_cp\n",
    "else:\n",
    "    reload(gui_measured_cp)"
   ]
  }
 ],
 "metadata": {
  "kernelspec": {
   "display_name": "Python 3 (ipykernel)",
   "language": "python",
   "name": "python3"
  },
  "language_info": {
   "codemirror_mode": {
    "name": "ipython",
    "version": 3
   },
   "file_extension": ".py",
   "mimetype": "text/x-python",
   "name": "python",
   "nbconvert_exporter": "python",
   "pygments_lexer": "ipython3",
   "version": "3.10.6"
  },
  "toc": {
   "base_numbering": 1,
   "nav_menu": {},
   "number_sections": false,
   "sideBar": true,
   "skip_h1_title": true,
   "title_cell": "Table of Contents",
   "title_sidebar": "Contents",
   "toc_cell": false,
   "toc_position": {},
   "toc_section_display": true,
   "toc_window_display": false
  }
 },
 "nbformat": 4,
 "nbformat_minor": 4
}
