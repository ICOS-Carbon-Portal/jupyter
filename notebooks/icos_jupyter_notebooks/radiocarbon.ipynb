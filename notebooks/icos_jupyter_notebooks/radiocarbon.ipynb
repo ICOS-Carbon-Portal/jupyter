{
 "cells": [
  {
   "cell_type": "markdown",
   "metadata": {},
   "source": [
    "<a id='section0'></a>\n",
    "\n",
    "# Radiocarbon\n",
    "\n",
    "### Background\n",
    "There are several different isotopes of carbon, meaning carbon molecules with different neutron numbers. The most common is the stable 12C, \n",
    "which makes up about 98,9% of all the carbon molecules. Out of the non-stable carbon isotopes, a natural production and a long half-life of 14C \n",
    "(radiocarbon) makes the 14C to 12C ratio interesting for carbon dating. Carbon is replenished in the tissue as long as the organic object is \n",
    "alive. Once dead and buried\n",
    "with no oxidation, the exchange with the environment stops. At this point, the ratio will change at a known rate as 14C molecules have a half- life \n",
    "of 5730 years and its age can be solved for. <br><br>\n",
    "In this notebook the focus is on the 14C and 12C ratio in the atmosphere and how it can be used as a tracer to estimate the fossil fuel \n",
    "burnt in a measurement station’s influence area (footprint). From now on, this is referred to as ∆14C: the shift measured in per-mil from the standard ratio between the isotopes. In fossil fuels, all the 14C has decayed and burning it means an influx of 12C, which causes \n",
    "a negative shift in ∆14C.  This 14C depletion compared to clean background air  can be used to estimate how much fossil was \n",
    "likely burnt. However, there are a couple of additional factors to consider: \n",
    "- The background ∆14C needs to be accounted for. There is generally a small positive shift away from the standard ratio because of the influx of 14C from the atomic bomb tests in the last century. The ratio has since then levelled but there is still an ongoing small decrease. Measuring the ratio in what can be expected to be clean background air, such as at a mountain station far from emission\n",
    "sources, allow us to adjust for this before estimating the fossil fuel component. \n",
    "- There is a positive influx of 14C from nuclear facility emissions.  These nuclear 14C emissions can significantly contaminate the ∆14C measured at a station, if a facility is captured by the station’s footprint. To make a best estimate of the fossil fuel component this\n",
    "needs to be adjusted as well.<br>\n",
    "\n",
    "\n",
    "With the combination of a station’s footprint (<a href=\"http://stilt-model.org/index.php/Main/HomePage\" target=\"_blank\">STILT</a>) for a given point in time and a spatially and temporally resolved emissions database where \n",
    "emissions are separated by sector <a href=\"https://doi.org/10.5194/essd-11-959-2019\" target=\"_blank\">(EDGAR v4.3.2)</a> it is possible to estimate \n",
    "what the fossil fuel component at the station is. Accounting for the biogenic \n",
    "component through a combination of the footprint with a biogenic model <a href=\"https://doi.org/10.1029/2006GB002735\" target=\"_blank\">(VPRM)</a>\n",
    "allows for an estimate of the CO2 concentration at the station when\n",
    "combined with the anthropogenic emissions plus a background (model edge) concentration. Given the fossil fuel component and the modelled CO2 concentration, the estimated nuclear contamination,\n",
    "and the (measured) background ∆14C an estimate of what ∆14C at a station should be can be made. How this can be done is described in \n",
    "<a href=\"https://agupubs.onlinelibrary.wiley.com/doi/10.1029/2003GL018477\" target=\"_blank\">Levin et al.,2003</a> (equation 3). The nuclear contamination is not accounted for here. ∆14C measurements can hence be compared to model deduced values.\n",
    "Uncertainties in the modelled ratio stem from many different sources: the transport model footprints, the anthropogenic and biogenic \n",
    "databases and the nuclear emissions values used to estimate the nuclear contamination. \n"
   ]
  },
  {
   "cell_type": "markdown",
   "metadata": {},
   "source": [
    "### Table of contents\n",
    "\n",
    "<ul>\n",
    "    <li><a href='#section1'>Overview emissions of 14C from nuclear facilities within STILT domain (Europe)</a><br>\n",
    "        <ul>\n",
    "            <li>Interactive map of radiocarbon emitting nuclear facilities</li>\n",
    "            <li>Static map of radiocarbon emitting nuclear facilities</li>\n",
    "        </ul>\n",
    "    <li><a href='#section4'>How to interact with output plots</a></li>   \n",
    "    <li><a href='#section2'>Model based results</a></li>                                                                                         \n",
    "    <li><a href='#section3'>Model based results compared to measurements: Carbon Portal data</a></li>\n",
    "</ul>"
   ]
  },
  {
   "cell_type": "markdown",
   "metadata": {},
   "source": [
    "<div style=\"text-align: right\"><a href='#section0' align='left'>Back to top</a></div>\n",
    "<a id='section1'></a>\n",
    "\n",
    "## Overview emissions of 14C from nuclear facilities within STILT domain (Europe)\n",
    "\n",
    "Overview of the radiocarbon emission data that is used to calculate the nuclear contamination in this notebook. \n",
    "\n",
    "Run the below cells to show the user interface."
   ]
  },
  {
   "cell_type": "code",
   "execution_count": null,
   "metadata": {},
   "outputs": [],
   "source": [
    "%%javascript\n",
    "IPython.OutputArea.prototype._should_scroll = function(lines) {\n",
    "    return false;\n",
    "}"
   ]
  },
  {
   "cell_type": "code",
   "execution_count": null,
   "metadata": {},
   "outputs": [],
   "source": [
    "import sys\n",
    "sys.path.append('./radiocarbon')\n",
    "import gui_overview_radiocarbon"
   ]
  },
  {
   "cell_type": "markdown",
   "metadata": {},
   "source": [
    "<div style=\"text-align: right\"><a href='#section0' align='left'>Back to top</a></div>\n",
    "<a id='section4'></a>\n",
    "\n",
    "\n",
    "## How to interact with output plots\n",
    "\n",
    "Bokeh plots include tools to help the user interact with the plot. In the figure below the tools are presented at the right part of the plot. The user must activate a tool before using it. Active tools are highlighted with a blue bar at the left side of their corresponding icon (e.g. “hover” is the only activated tool in the example below). It is possible to change the status of a tool (activate/deactivate) simply by clicking on it.\n",
    "\n",
    "<img src=\"radiocarbon\\example_bokeh.PNG\" width=\"900\" style=\"float:left\"><br clear=\"all\" />\n",
    "\n",
    "Below is a list of the most commonly used Bokeh tools with their description: \n",
    "\n",
    "**Pan**: You can use this tool to move to different parts of the plot by panning (on touch devices) or left-dragging (on mouse devices).Tip: this tool might become handy if you have zoomed-in to an area that does not cover the entire area you initially intended to zoom-in to. \n",
    "\n",
    "**Box Zoom**: Draw a box over the plot area you wish to zoom-in to, by left-dragging your mouse.\n",
    "\n",
    "**Wheel Zoom**: Activate this tool to use scroll for zooming-in to areas of interest in the plot.\n",
    "\n",
    "**Reset**: Click on this tool to return the plot to its initial state.\n",
    "\n",
    "**Save**: Click on this tool to save a copy of the plot (in PNG format) to your computer.\n",
    "\n",
    "**Hover**: Hover over the plot’s content to view pop-ups with information associated to every depicted value."
   ]
  },
  {
   "cell_type": "markdown",
   "metadata": {},
   "source": [
    "<div style=\"text-align: right\"><a href='#section0' align='left'>Back to top</a></div>\n",
    "<a id='section2'></a>\n",
    "\n",
    "## Model based results \n",
    "\n",
    "\n",
    "- Fossil fuel component (∆14C fossil fuel)\n",
    "- Nuclear contamination (∆14C nuclear)\n",
    "- Modelled ∆14C given ∆14C fossil fuel, ∆14C nuclear and ∆14C background\n",
    "\n",
    "Run the cell below to show the user interface.\n"
   ]
  },
  {
   "cell_type": "code",
   "execution_count": null,
   "metadata": {
    "scrolled": true
   },
   "outputs": [],
   "source": [
    "import sys\n",
    "sys.path.append('./radiocarbon')\n",
    "import gui_stilt"
   ]
  },
  {
   "cell_type": "markdown",
   "metadata": {},
   "source": [
    "<div style=\"text-align: right\"><a href='#section0' align='left'>Back to top</a></div>\n",
    "<a id='section3'></a>\n",
    "\n",
    "## Model based results compared to measurements: Carbon Portal data \n",
    "\n",
    "14C data from the carbon portal (available through search for <a href=\"https://data.icos-cp.eu/portal/#%7B%22filterCategories%22%3A%7B%22project%22%3A%5B%22icos%22%5D%2C%22theme%22%3A%5B%22atmosphere%22%5D%2C%22type%22%3A%5B%22atcC14L2DataObject%22%5D%7D%7D\" target=\"_blank\">ICOS ATC 14C Release at the data portal</a>)\n",
    "\n",
    "The measurements are integrated over 14-21 days and model results are average over the measurement date ranges for comparisons. The user doesn’t specify a date range, but rather results are\n",
    "output for all date ranges that have STILT runs so that the measurements can be compared to model results.\n",
    "\n",
    "If the user wishes to download the result (csv-files with data presented in the output timeseries), it will end up in the folder \"radiocarbon_cp_result\". \n"
   ]
  },
  {
   "cell_type": "code",
   "execution_count": null,
   "metadata": {},
   "outputs": [],
   "source": [
    "import sys\n",
    "sys.path.append('./radiocarbon')\n",
    "import gui_measured_cp"
   ]
  }
 ],
 "metadata": {
  "kernelspec": {
   "display_name": "Python 3",
   "language": "python",
   "name": "python3"
  },
  "language_info": {
   "codemirror_mode": {
    "name": "ipython",
    "version": 3
   },
   "file_extension": ".py",
   "mimetype": "text/x-python",
   "name": "python",
   "nbconvert_exporter": "python",
   "pygments_lexer": "ipython3",
   "version": "3.8.6"
  },
  "toc": {
   "base_numbering": 1,
   "nav_menu": {},
   "number_sections": false,
   "sideBar": true,
   "skip_h1_title": true,
   "title_cell": "Table of Contents",
   "title_sidebar": "Contents",
   "toc_cell": false,
   "toc_position": {},
   "toc_section_display": true,
   "toc_window_display": false
  }
 },
 "nbformat": 4,
 "nbformat_minor": 4
}
