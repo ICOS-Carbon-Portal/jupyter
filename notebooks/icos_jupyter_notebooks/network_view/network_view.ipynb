{
 "cells": [
  {
   "cell_type": "markdown",
   "id": "interesting-lawsuit",
   "metadata": {},
   "source": [
    "### 3.1 The view from individual stations"
   ]
  },
  {
   "cell_type": "code",
   "execution_count": null,
   "id": "amateur-comparative",
   "metadata": {},
   "outputs": [],
   "source": [
    "import sys\n",
    "import network_analysis_functions\n",
    "from importlib import reload\n",
    "if \"gui_station\" not in dir(): \n",
    "    import gui_station\n",
    "else:\n",
    "    reload(gui_station)"
   ]
  },
  {
   "cell_type": "markdown",
   "id": "federal-activity",
   "metadata": {},
   "source": [
    "### 3.2 The view from the current ICOS network "
   ]
  },
  {
   "cell_type": "code",
   "execution_count": null,
   "id": "blond-herald",
   "metadata": {},
   "outputs": [],
   "source": [
    "import sys\n",
    "import network_analysis_functions\n",
    "from importlib import reload\n",
    "if \"gui_network\" not in dir(): \n",
    "    import gui_network\n",
    "else:\n",
    "    reload(gui_network)"
   ]
  },
  {
   "cell_type": "markdown",
   "id": "still-fault",
   "metadata": {},
   "source": [
    "#### Figure 6: Monitoring potential maps\n",
    "\n",
    "<mark>Requires that the above cell has been run.</mark>\n",
    "\n",
    "Limited to countries in dropdown for this release. "
   ]
  },
  {
   "cell_type": "code",
   "execution_count": null,
   "id": "forty-local",
   "metadata": {
    "tags": []
   },
   "outputs": [],
   "source": [
    "import network_analysis_functions\n",
    "reload(network_analysis_functions)\n",
    "network_analysis_functions.initiate_monitoring_potential_maps(gui_network.nwc)"
   ]
  },
  {
   "cell_type": "markdown",
   "id": "cheap-hunter",
   "metadata": {},
   "source": [
    "### 3.3 The view from the extended ICOS network"
   ]
  },
  {
   "cell_type": "markdown",
   "id": "scheduled-science",
   "metadata": {},
   "source": [
    "#### Figure 8"
   ]
  },
  {
   "cell_type": "code",
   "execution_count": null,
   "id": "dramatic-harris",
   "metadata": {},
   "outputs": [],
   "source": [
    "import network_analysis_functions\n",
    "reload(network_analysis_functions)\n",
    "network_analysis_functions.display_network_with_extended(gui_network.nwc)"
   ]
  },
  {
   "cell_type": "markdown",
   "id": "fleet-retrieval",
   "metadata": {},
   "source": [
    "#### Figure 6 (extended network improved monitoring potential)"
   ]
  },
  {
   "cell_type": "code",
   "execution_count": null,
   "id": "laden-geometry",
   "metadata": {},
   "outputs": [],
   "source": [
    "import network_analysis_functions\n",
    "reload(network_analysis_functions)\n",
    "network_analysis_functions.initiate_monitoring_potential_maps(gui_network.nwc, extended = True)"
   ]
  },
  {
   "cell_type": "code",
   "execution_count": null,
   "id": "0a428b57-3ac3-406c-8975-8409412e3f0a",
   "metadata": {},
   "outputs": [],
   "source": []
  }
 ],
 "metadata": {
  "kernelspec": {
   "display_name": "Python 3 (ipykernel)",
   "language": "python",
   "name": "python3"
  },
  "language_info": {
   "codemirror_mode": {
    "name": "ipython",
    "version": 3
   },
   "file_extension": ".py",
   "mimetype": "text/x-python",
   "name": "python",
   "nbconvert_exporter": "python",
   "pygments_lexer": "ipython3",
   "version": "3.10.6"
  }
 },
 "nbformat": 4,
 "nbformat_minor": 5
}
