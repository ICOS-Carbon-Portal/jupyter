{
 "cells": [
  {
   "cell_type": "code",
   "execution_count": 1,
   "id": "bridal-electric",
   "metadata": {},
   "outputs": [
    {
     "data": {
      "application/vnd.jupyter.widget-view+json": {
       "model_id": "a18e6771c9e646788f3bb9e39170e046",
       "version_major": 2,
       "version_minor": 0
      },
      "text/plain": [
       "IntProgress(value=0, description='Creating footprints (1/2):', max=16, style=ProgressStyle(description_width='…"
      ]
     },
     "metadata": {},
     "output_type": "display_data"
    }
   ],
   "source": [
    "import create_network_analysis\n",
    "\n",
    "# input list of stations (stiltstation codes - find in the stilt viewer: https://stilt.icos-cp.eu/viewer/)\n",
    "stations = ['HTM150', 'PAL', 'UTO', 'SVB150']\n",
    "\n",
    "# name of the output csv-file\n",
    "name_save = 'Scandinavia'\n",
    "\n",
    "# optional notes:\n",
    "notes = 'Testing'\n",
    "\n",
    "# percent threshold for the footprints (0 - 1)\n",
    "fp_percent = 0.5\n",
    "\n",
    "# year: currenly only the VPRM data for 2020 is used. this will be different in the future.\n",
    "year = 2020\n",
    "\n",
    "# after running the cell, return to the analysis notebook and re-run the cell. \n",
    "create_network_analysis.create_network_fps(year, stations, name_save, fp_percent=fp_percent, notes = notes)"
   ]
  },
  {
   "cell_type": "code",
   "execution_count": null,
   "id": "remarkable-marine",
   "metadata": {},
   "outputs": [],
   "source": []
  }
 ],
 "metadata": {
  "kernelspec": {
   "display_name": "Python 3 (ipykernel)",
   "language": "python",
   "name": "python3"
  },
  "language_info": {
   "codemirror_mode": {
    "name": "ipython",
    "version": 3
   },
   "file_extension": ".py",
   "mimetype": "text/x-python",
   "name": "python",
   "nbconvert_exporter": "python",
   "pygments_lexer": "ipython3",
   "version": "3.10.6"
  }
 },
 "nbformat": 4,
 "nbformat_minor": 5
}
