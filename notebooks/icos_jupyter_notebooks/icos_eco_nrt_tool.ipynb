{
 "cells": [
  {
   "cell_type": "markdown",
   "id": "15c5323c-bbe7-4043-afe7-9bbeb7a15e0d",
   "metadata": {},
   "source": [
    "### Under construction...\n"
   ]
  },
  {
   "cell_type": "code",
   "execution_count": 5,
   "id": "247a553a-e069-45d0-929c-56a24938f657",
   "metadata": {},
   "outputs": [
    {
     "data": {
      "application/vnd.jupyter.widget-view+json": {
       "model_id": "dc52bb3a22924052b6e13a1a18e66fd7",
       "version_major": 2,
       "version_minor": 0
      },
      "text/plain": [
       "VBox(children=(ToggleButtons(button_style='success', icons=('area-chart', 'list', 'cog', 'info-circle'), optio…"
      ]
     },
     "metadata": {},
     "output_type": "display_data"
    }
   ],
   "source": [
    "import warnings\n",
    "warnings.simplefilter(\"ignore\", FutureWarning)\n",
    "from eco_tool import gui\n",
    "\n",
    "g = gui.AnalysisGui(theme='ES');"
   ]
  },
  {
   "cell_type": "code",
   "execution_count": 2,
   "id": "259f63e3-bb35-46f7-8f44-e20d5c6e92bb",
   "metadata": {},
   "outputs": [
    {
     "data": {
      "application/vnd.jupyter.widget-view+json": {
       "model_id": "4c0fc953502f40ec8a3106dd54852d54",
       "version_major": 2,
       "version_minor": 0
      },
      "text/plain": [
       "HTMLMath(value='$x^9_\\\\alpha$')"
      ]
     },
     "execution_count": 2,
     "metadata": {},
     "output_type": "execute_result"
    }
   ],
   "source": [
    "#................ Latex engine\n",
    "from ipywidgets import widgets as wd\n",
    "lat = '$x^9_\\\\alpha$'\n",
    "wd.HTMLMath(lat)"
   ]
  },
  {
   "cell_type": "code",
   "execution_count": 3,
   "id": "f70e8ba2-0fa2-4c77-8fc9-33f1584886f6",
   "metadata": {},
   "outputs": [
    {
     "data": {
      "text/latex": [
       "$$(a+b)^{2} = a^{2}+2ab+b^{2}$$\n"
      ],
      "text/plain": [
       "<IPython.core.display.Latex object>"
      ]
     },
     "metadata": {},
     "output_type": "display_data"
    }
   ],
   "source": [
    "\n",
    "%%latex\n",
    "$$(a+b)^{2} = a^{2}+2ab+b^{2}$$\n"
   ]
  },
  {
   "cell_type": "code",
   "execution_count": 4,
   "id": "14914079-b109-4991-8355-f8026c7ce50a",
   "metadata": {},
   "outputs": [
    {
     "data": {
      "text/latex": [
       "$\\displaystyle x^9_\\alpha$"
      ],
      "text/plain": [
       "<IPython.core.display.Math object>"
      ]
     },
     "execution_count": 4,
     "metadata": {},
     "output_type": "execute_result"
    }
   ],
   "source": [
    "# latex test 2\n",
    "from IPython.display import display, Math\n",
    "dir(Math)\n",
    "m = Math(lat)\n",
    "m"
   ]
  },
  {
   "cell_type": "code",
   "execution_count": null,
   "id": "67ef8bef-6335-432e-97d8-8e6d59c617f9",
   "metadata": {},
   "outputs": [],
   "source": []
  }
 ],
 "metadata": {
  "kernelspec": {
   "display_name": "Python 3 (ipykernel)",
   "language": "python",
   "name": "python3"
  },
  "language_info": {
   "codemirror_mode": {
    "name": "ipython",
    "version": 3
   },
   "file_extension": ".py",
   "mimetype": "text/x-python",
   "name": "python",
   "nbconvert_exporter": "python",
   "pygments_lexer": "ipython3",
   "version": "3.9.16"
  },
  "widgets": {
   "application/vnd.jupyter.widget-state+json": {
    "state": {},
    "version_major": 2,
    "version_minor": 0
   }
  }
 },
 "nbformat": 4,
 "nbformat_minor": 5
}
