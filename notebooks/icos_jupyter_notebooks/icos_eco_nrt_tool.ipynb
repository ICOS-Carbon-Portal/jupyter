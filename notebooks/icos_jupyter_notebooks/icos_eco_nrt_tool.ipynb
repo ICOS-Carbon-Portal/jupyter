{
 "cells": [
  {
   "cell_type": "markdown",
   "id": "15c5323c-bbe7-4043-afe7-9bbeb7a15e0d",
   "metadata": {},
   "source": [
    "## Under construction...\n"
   ]
  },
  {
   "cell_type": "code",
   "execution_count": null,
   "id": "247a553a-e069-45d0-929c-56a24938f657",
   "metadata": {},
   "outputs": [],
   "source": [
    "import warnings\n",
    "warnings.simplefilter(\"ignore\", FutureWarning)\n",
    "from eco_tool import gui\n",
    "\n",
    "g = gui.AnalysisGui();"
   ]
  },
  {
   "cell_type": "markdown",
   "id": "318da10f-926c-492c-b763-fa0721aca8df",
   "metadata": {},
   "source": [
    "### An introduction to the Near Real Time ECO app...\n",
    "For now this is found under the help menu...\n",
    "\n",
    "### Other applications\n",
    "The user can also use the app to extract data from the ICOS Carbon Portal as in the below example.\n",
    "\n",
    "#### Example\n",
    "Here it is assumed that the user has created a group of variables named <i>fluxes</i>. \n",
    "\n",
    "##### Step 1. \n",
    "The user execute the code \n",
    "\n",
    "        import warnings\n",
    "        warnings.simplefilter(\"ignore\", FutureWarning)\n",
    "        from eco_tool import gui\n",
    "        g = gui.AnalysisGui(theme='ES');\n",
    "\n",
    "##### Step 2.\n",
    "The user select the group <i>fluxes</i> and press <b>Run</b>.\n",
    "\n",
    "##### Step 3.\n",
    "To get the data there are two alternatives\n",
    "##### Method A \n",
    "\n",
    "        df = g.get_data()\n",
    "        # or df = g.get_data('fluxes')\n",
    "Here <i>df</i> is an <i>IcosFrame</i>, which is a <i>pandas.DataFrame</i> together with metadata that can be reached using the properties \n",
    "\n",
    "    icos_meta -> dict\n",
    "    icos_accessUrl -> str\n",
    "    icos_pid -> str\n",
    "    icos_previousVersion -> str\n",
    "    icos_station_name -> str\n",
    "    icos_station_id -> str\n",
    "    icos_station_uri -> str\n",
    "    icos_product -> str\n",
    "    icos_citationBibTex -> str\n",
    "    icos_citationRis -> str\n",
    "    icos_citationString -> str\n",
    "    icos_title -> str\n",
    "    icos_columns -> dict\n",
    "    icos_var_unit_ls -> list\n",
    "        \n",
    "##### Method B\n",
    "\n",
    "        d = g.get_data_dict\n",
    "        # or d = g.get_data('fluxes')\n",
    "Here <i>d</i> is a dictionary with group names as keys. To fetch the data, related to the group <i>fluxes</i>, we write\n",
    "\n",
    "        df = d['fluxes']['df']\n",
    "\n"
   ]
  }
 ],
 "metadata": {
  "kernelspec": {
   "display_name": "Python 3 (ipykernel)",
   "language": "python",
   "name": "python3"
  },
  "language_info": {
   "codemirror_mode": {
    "name": "ipython",
    "version": 3
   },
   "file_extension": ".py",
   "mimetype": "text/x-python",
   "name": "python",
   "nbconvert_exporter": "python",
   "pygments_lexer": "ipython3",
   "version": "3.10.6"
  },
  "widgets": {
   "application/vnd.jupyter.widget-state+json": {
    "state": {},
    "version_major": 2,
    "version_minor": 0
   }
  }
 },
 "nbformat": 4,
 "nbformat_minor": 5
}
