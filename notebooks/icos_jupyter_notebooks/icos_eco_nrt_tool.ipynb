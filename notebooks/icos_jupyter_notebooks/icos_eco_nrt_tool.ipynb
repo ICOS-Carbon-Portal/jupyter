{
 "cells": [
  {
   "cell_type": "markdown",
   "id": "15c5323c-bbe7-4043-afe7-9bbeb7a15e0d",
   "metadata": {},
   "source": [
    "<img src='https://www.icos-cp.eu/sites/default/files/2017-11/ICOS_CP_logo.png' width=400 align=right>\n",
    "\n",
    "# ICOS Carbon Portal tool for Ecosystem NRT data\n",
    "#### How to use it \n",
    " - In the ***Visualise-menu*** the user run reports using different plot setups. \n",
    " - Under ***Plot setups*** the user sets up different plot types to analyse variables of a group of variables. The plot setups appear as a buttons in the *Visualisation-view*. \n",
    " - The user specify what variables to work with in the ***Group menu*** - hence this is the starting point *for a new user*.\n",
    "\n",
    "##### First run\n",
    "- In the first run of the eco-tool, the user will enter the ***Group menu*** in update mode.\n",
    "- By adding **\"+p\"** to the end of the group name, the user will get an example plot setup in order to get examples on how the plots look like - look for the button ***Plot example*** in the *Visualisation-view*.\n",
    " \n",
    "##### Guidance on setting up/editing groups of variables/batch jobs\n",
    "- When choosing **New** or **Update** in the ***Group menu*** or in the ***Plot setup menu***. the user will find guidance through the ***User guide***.\n",
    " \n",
    "##### Change of default behaviour\n",
    "- In ***Settings***, the user can manage various *default behaviour*, such as *Run configurations* or setup *templates for different plots*. Most settings are explained if needed.\n",
    "      \n",
    "More information is found in the ***Help menu***.  \n",
    " \n",
    "*Please note that the application is under construction*\n",
    "\n",
    "<hr>\n",
    "\n",
    "***To run:*** \n",
    "- Mark the cell below and press **Ctrl+Enter** or hit the **Play** button.\n",
    "\n",
    "<hr>\n"
   ]
  },
  {
   "cell_type": "code",
   "execution_count": null,
   "id": "247a553a-e069-45d0-929c-56a24938f657",
   "metadata": {},
   "outputs": [],
   "source": [
    "from eco_tool import gui\n",
    "gui.AnalysisGui();"
   ]
  },
  {
   "cell_type": "code",
   "execution_count": null,
   "id": "bfc0e970-c732-4c59-944a-b4f546019ce5",
   "metadata": {},
   "outputs": [],
   "source": []
  }
 ],
 "metadata": {
  "kernelspec": {
   "display_name": "Python 3 (ipykernel)",
   "language": "python",
   "name": "python3"
  },
  "language_info": {
   "codemirror_mode": {
    "name": "ipython",
    "version": 3
   },
   "file_extension": ".py",
   "mimetype": "text/x-python",
   "name": "python",
   "nbconvert_exporter": "python",
   "pygments_lexer": "ipython3",
   "version": "3.10.6"
  },
  "widgets": {
   "application/vnd.jupyter.widget-state+json": {
    "state": {},
    "version_major": 2,
    "version_minor": 0
   }
  }
 },
 "nbformat": 4,
 "nbformat_minor": 5
}
