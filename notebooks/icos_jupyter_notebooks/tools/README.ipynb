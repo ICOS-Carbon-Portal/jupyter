{
 "cells": [
  {
   "cell_type": "markdown",
   "id": "growing-celebrity",
   "metadata": {},
   "source": [
    "<img src=\"https://www.icos-cp.eu/sites/default/files/2017-11/ICOS_CP_logo.png\" width=\"300\" align=\"right\"/>\n",
    "<br>\n",
    "<br>\n",
    "<br> \n",
    "<br>\n",
    "<br>\n",
    "\n",
    "# Content\n",
    "This folder contains python modules to process and visualize ICOS data products.\n",
    "\n",
    "<br>\n",
    "\n",
    "## Structure\n",
    "The structure of the folder is the following:\n",
    "\n",
    "* **check funcs**: contains Python functions that check the data type and format of input variables.\n",
    "* **country**: contains Python functions that handle ISO 3166 country codes and country names.\n",
    "* **math**: contains mathematic help-functions in Python (e.g. functions that round-up or round-down a numeric variable to its closest ±10, ±20 or ±100 integer).\n",
    "* **time**: contains Python functions that handle time-variables in connection to ICOS data products.\n",
    "* **visualization**: contains Python functions for visualizations of ICOS data products.\n",
    "  * availability (module that can be used to create an interactive availability table for ICOS data products with Bokeh visualization library)\n",
    "  * bokeh help funcs (module including help-functions for Bokeh visualizations in Python)\n",
    "  * string (module for formatting string output messages in Jupyter Notebooks with Python)\n",
    " \n",
    "<br>\n",
    "\n",
    "## License\n",
    "* Copyright © 2019-2020 ICOS ERIC\n",
    "* This work is licensed under a\n",
    "Creative Commons Attribution 4.0 International License ([CC BY 4.0](http://creativecommons.org/licenses/by/4.0/)).\n",
    "\n"
   ]
  }
 ],
 "metadata": {
  "kernelspec": {
   "display_name": "Python 3",
   "language": "python",
   "name": "python3"
  },
  "toc": {
   "base_numbering": 1,
   "nav_menu": {},
   "number_sections": false,
   "sideBar": true,
   "skip_h1_title": true,
   "title_cell": "Table of Contents",
   "title_sidebar": "Contents",
   "toc_cell": false,
   "toc_position": {},
   "toc_section_display": true,
   "toc_window_display": false
  }
 },
 "nbformat": 4,
 "nbformat_minor": 5
}
