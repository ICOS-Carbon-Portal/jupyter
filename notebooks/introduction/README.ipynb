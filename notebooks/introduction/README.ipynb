{
 "cells": [
  {
   "cell_type": "markdown",
   "id": "victorian-september",
   "metadata": {},
   "source": [
    "<img src=\"https://www.icos-cp.eu/sites/default/files/2017-11/ICOS_CP_logo.png\" width=\"300\" align=\"right\"/>\n",
    "<br>\n",
    "<br>\n",
    "<br> \n",
    "<br>\n",
    "<br>\n",
    "\n",
    "# Introduction\n",
    "This folder icludes introductory tutorials to Python programming and scientific computing.\n",
    "The notebooks are aimed for people who have no prior knowledge in programming but also for people who wish to brush up their memory in programmng with Python or are already familiar with programming in another programming language and want to become acquainted with Python.\n",
    "\n",
    "<br>\n",
    "\n",
    "## Structure\n",
    "The folder includes two jupyter notebooks:\n",
    "\n",
    "* **Quickstart to Python**\n",
    "Introduction to basic principles of programming with Python.\n",
    "\n",
    "* **Scientific Computing with Python**\n",
    "Examples of how to organize and process data in NumPy arrays and Pandas DataFrames.\n",
    "\n",
    "<br>\n",
    "\n",
    "The folder also includes subfolders with ancillary data:\n",
    "* explanatory images (used in the notebooks)\n",
    "* logos\n",
    "\n",
    "<br>\n",
    "\n",
    "## Licence\n",
    "This work is licensed under a Creative Commons Attribution 4.0 International License (CC BY 4.0). <br>\n",
    "Copyright © 2019-2020 ICOS ERIC"
   ]
  }
 ],
 "metadata": {
  "kernelspec": {
   "display_name": "Python 3",
   "language": "python",
   "name": "python3"
  },
  "language_info": {
   "codemirror_mode": {
    "name": "ipython",
    "version": 3
   },
   "file_extension": ".py",
   "mimetype": "text/x-python",
   "name": "python",
   "nbconvert_exporter": "python",
   "pygments_lexer": "ipython3",
   "version": "3.8.6"
  },
  "toc": {
   "base_numbering": 1,
   "nav_menu": {},
   "number_sections": false,
   "sideBar": true,
   "skip_h1_title": true,
   "title_cell": "Table of Contents",
   "title_sidebar": "Contents",
   "toc_cell": false,
   "toc_position": {},
   "toc_section_display": true,
   "toc_window_display": false
  }
 },
 "nbformat": 4,
 "nbformat_minor": 5
}
