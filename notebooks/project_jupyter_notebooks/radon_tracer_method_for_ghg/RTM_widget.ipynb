{
 "cells": [
  {
   "cell_type": "markdown",
   "metadata": {},
   "source": [
    "# Radon Tracer Method - Loop over previous data \n",
    "This notebook allows to calculate GHG fluxes using GHG and $^{222}$Rn mixing ratios and  $^{222}$Rn flux for a chosen day or days (loop over old data) with data available on the CP, directly from the Icos database (with login/pwd).\n",
    "Different options are available to compute the $^{222}$Rn flux: \n",
    "    * use a constant average value from previous studies (flux measurements, geological maps)\n",
    "    * use the value from the pixel from the radon map (TraceRadon new map based on ERA5 or GLDAS)\n",
    "    * use an average value using a radon map and an averaged footprint -> for now traceRadon new maps with aggregated STILT station footprint over 2019.\n",
    "    * use an average value using a radon map (for now TraceRadon new map) and footprint (from STILT, no Rn decay for any stations/period) of the studied day when available. Average decay is calculated in the RTM software.\n",
    "\n",
    "As of March 2023, on the CP, stations with Rn at the same sampling height than GHG measurements currently are OPE, TRN, SAC, WAO.\n",
    "OPE and TRN have data since 2019-12-09, SAC since 2020-11-30 and WAO since 2021-12-03.\n",
    "\n",
    "STILT retrotrajectories currently run to end of 2021."
   ]
  },
  {
   "cell_type": "code",
   "execution_count": null,
   "metadata": {},
   "outputs": [],
   "source": [
    "import os\n",
    "import sys"
   ]
  },
  {
   "cell_type": "code",
   "execution_count": null,
   "metadata": {},
   "outputs": [],
   "source": [
    "!pip3 install ipyfilechooser"
   ]
  },
  {
   "cell_type": "code",
   "execution_count": null,
   "metadata": {},
   "outputs": [],
   "source": [
    "HOME = os.path.expanduser(\"~\")+'/'\n",
    "sys.path.insert(0,'modules')\n",
    "import widget4"
   ]
  }
 ],
 "metadata": {
  "kernelspec": {
   "display_name": "Python 3 (ipykernel)",
   "language": "python",
   "name": "python3"
  },
  "language_info": {
   "codemirror_mode": {
    "name": "ipython",
    "version": 3
   },
   "file_extension": ".py",
   "mimetype": "text/x-python",
   "name": "python",
   "nbconvert_exporter": "python",
   "pygments_lexer": "ipython3",
   "version": "3.10.6"
  }
 },
 "nbformat": 4,
 "nbformat_minor": 4
}
