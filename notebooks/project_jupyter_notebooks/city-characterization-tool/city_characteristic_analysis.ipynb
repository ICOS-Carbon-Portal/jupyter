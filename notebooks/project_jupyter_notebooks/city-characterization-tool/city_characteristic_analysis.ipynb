{
 "cells": [
  {
   "cell_type": "markdown",
   "id": "1ffabbf1-4830-4409-bda4-8ba2ada93569",
   "metadata": {
    "tags": []
   },
   "source": [
    "<img src='https://www.icos-cp.eu/sites/default/files/2017-11/ICOS_CP_logo.png' width=\"400\" align=\"right\"/> <br clear=\"all\" />\n",
    "# Analysis of city characteristics\n",
    "For questions and feedback contact jupyter-info@icos-ri.eu.\n",
    "\n",
    "This notebook and associated notebooks are designed to produce the type of analyses presented in the paper \"Monitoring CO₂ in diverse European cities: Highlighting needs and challenges through characterization\" (Storm et al., 2025 in preparation). \n"
   ]
  },
  {
   "cell_type": "markdown",
   "id": "d414c7eb-8098-4c2b-baaa-27e5d5bc63b9",
   "metadata": {},
   "source": [
    "## Brief overview of the notebook\n",
    "\n",
    "Note that these steps should be followed in sequence, as each often depends on the previous one.\n",
    "\n",
    "1. Select characteristics\n",
    "\n",
    "    18 characteristics are used in the study, with additional characteristics available here.\n",
    "    Possible to upload selection files used in the study, and download new custom selection files.\n",
    "\n",
    "2. Select cities\n",
    "\n",
    "    Choose a subset from the available 308 cities based on the percentile range of a selected characteristic or by country.\n",
    "\n",
    "3. Prepare selected characteristics for integration and analysis\n",
    "    - Apply min-max normalization within the 10th to 90th percentile range.\n",
    "    - Invert values for relevant characteritics so that larger values indicate a greater monitoring challenge.\n",
    "    - Weight characteristics according to their relative importance.<br><br>\n",
    "\n",
    "4. Analyze the integrated characteristics\n",
    "    - Calculate the challenge score.\n",
    "    - Generate a similarity matrix, used for similarity searches between cities.\n",
    "    - Conduct dendrogram cluster analysis.\n",
    "    - Create a map showing city cluster associations."
   ]
  },
  {
   "cell_type": "markdown",
   "id": "59abcad9-58aa-4b95-915f-e88c02dffb09",
   "metadata": {},
   "source": [
    "## Select characteristics and cities "
   ]
  },
  {
   "cell_type": "markdown",
   "id": "e0dc69df-0b4b-4b32-b745-8ccc9f515e4c",
   "metadata": {
    "jp-MarkdownHeadingCollapsed": true,
    "tags": []
   },
   "source": [
    "### Available characteristics (sect. 2.2.1 though sect. 2.2.6)\n",
    "\n",
    "Below is a more extensive overview of the different characteristics to choose from in the tool below. Relevant sections in the study by Storm et al. (2025) are referenced, and a summary of all datasets and their sources is found in Table 1. Characteristics included in the study are in bold, and references to data sources for characteristics not included in the study are provided below.\n",
    "\n",
    "<details>\n",
    "<summary>  \n",
    "    <b>General characteristics</b>\n",
    "</summary>\n",
    "    \n",
    "Total population 2018. Data downloaded from <a href = \"https://ec.europa.eu/eurostat/web/gisco/geodata/population-distribution/geostat\" target =\"_blank\">GEOSTAT</a> (last access 2024-10-26)\n",
    "   \n",
    "     \n",
    "- <b>Total_pop</b>\n",
    "\n",
    "Share of the city area containing 50% of the population (same method as \"non-point-source aggregation\" (Eq. 1))\n",
    "    \n",
    "- area_50percent_pop\n",
    "\n",
    "Area in km²\n",
    "- area\n",
    "\n",
    "Distance to closest city in km\n",
    "    \n",
    "Calculated based on the minimum distance between city borders using ArcGIS Pro v. 3.3 tool \"Close\".\n",
    "- dist_closest_city\n",
    "\n",
    "Share of times the wind is >2m/s Jan/Feb 2018 hours 9:00 - 18:00UTC (sect. 2.2.1).\n",
    "- <b>share_over_2m_s</b>\n",
    "\n",
    "Share of times the wind originates from the dominant 30-degree wind direction (sect. 2.2.1)\n",
    "- dominant_wind_share\n",
    "    \n",
    "Share of days (fraction between 0 and 1) with cloud cover less than 30% at 11:00UTC year 2018 (sect. 2.2.6): \n",
    "- share_cloud_over30percent\n",
    "\n",
    "Share of days (fraction between 0 and 1) with cloud cover less than 30% at 11:00UTC year summer (J+J) 2018 (sect. 2.2.6).\n",
    "- <b>share_cloud_over30percent_summer</b>\n",
    "    \n",
    "Share of days (fraction between 0 and 1) with cloud cover less than 30% at 11:00UTC year winter (J+F) 2018 (sect. 2.2.6).\n",
    "- <b>share_cloud_over30percent_winter</b>\n",
    "    \n",
    "    \n",
    "</details>\n",
    "\n",
    "<details>\n",
    "<summary>  \n",
    "    <b>Land cover</b>\n",
    "</summary>\n",
    "    \n",
    "Share of vegetation (%)\n",
    "- vegetation\n",
    "    \n",
    "The percent of edge cells for vegetated areas (sect. 2.2.3).\n",
    "- <b>veg_share_edge_area</b>\n",
    "    \n",
    "Share of cropland in the 20 km buffer zone (sect. 2.2.3).\n",
    "- <b>40_buffer</b>\n",
    "\n",
    "Share of cropland in the 20 km buffer zone in the dominant wind direction. Only when wind is >2m/s (sect. 2.2.1; sect. 2.2.3).\n",
    "- <b>40_buffer_dom_wind</b>\n",
    "\n",
    "Share of water in the 20 km buffer zone around the city\n",
    "- share_water_buffer\n",
    "\n",
    "Share of vegetation in the 20 km buffer zone around the city\n",
    "- share_vegetation_buffer\n",
    "\n",
    "Share of different land cover classes (used to calculate the total share of vegetation):\n",
    "- 10: Trees (ESA Worldcover class 10)\n",
    "- 20: Shrubland (ESA Worldcover class 20)\n",
    "- 30: Grassland (ESA Worldcover class 30)\n",
    "- 40: Cropland (ESA Worldcover class 40)\n",
    "- 50: Built-up (ESA Worldcover class 50)\n",
    "- 60: Bare / sparse vegetation (ESA Worldcover class 60)\n",
    "- 70: Snow and ice (ESA Worldcover class 70)\n",
    "- 80: Permanent water bodies (ESA Worldcover class 80)\n",
    "- 90: Herbaceous wetland (ESA Worldcover class 90)\n",
    "- 95: Mangroves (ESA Worldcover class 95)\n",
    "- 100: Moss and lichen (ESA Worldcover class 100)\n",
    "\n",
    "\n",
    "</details>\n",
    "\n",
    "<details>\n",
    "<summary>  \n",
    "    <b>CO<sub>2</sub> emissions: from TNO</b>\n",
    "</summary>\n",
    " \n",
    "Total emissions 2018 (kg)\n",
    "- co2_ff_total\n",
    "\n",
    "Total emission per km²\n",
    "- co2_ff_total_km2\n",
    "\n",
    "Total emission per person\n",
    "- co2_ff_total_pop\n",
    "\n",
    "Share of point source emissions (sect 2.2.2)\n",
    "- <b>co2_ff_share_point_sources_total</b>\n",
    "\n",
    "Total non-point source emissions 2018\n",
    "- co2_ff_total_no_point\n",
    "\n",
    "Total non-point emission per km²\n",
    "- co2_ff_total_no_point_km2\n",
    "\n",
    "Total non-point emission per person\n",
    "- co2_ff_total_no_point_pop\n",
    "\n",
    "Share of city area containing 50% of the emissions (sect. 2.2.2; Eq. 1)\n",
    "- <b>area_percentage</b>\n",
    "\n",
    "Emission intensity (kg CO<sub>2</sub> / km²) within 20km buffer zone (sect. 2.2.2)\n",
    "- <b>co2_ff_total_20km_buffer_km2</b>\n",
    "    \n",
    "Emission intensity (kg CO<sub>2</sub> / km²) within 20km buffer in the dominant wind direction (Jan/Feb 2018 hours 9:00 - 18:00UTC). Only when wind is >2m/s. (sect. 2.2.1; sect. 2.2.2)\n",
    "- <b>emiss_intensity_buff_dom_wind_jan_feb_9_18</b>\n",
    "\n",
    "Share of emissions from point sources in the buffer zone\n",
    "- co2_ff_total_20km_buffer_share_point_sources\n",
    "\n",
    "Count of point sources in the buffer zone\n",
    "- co2_ff_total_20km_buffer_count_point_sources\n",
    "\n",
    "\n",
    "Emission shares per sector (for absolute emissions co2_ff_[letter]). These sectors account for 96% of the emissions in the available cities. Shipping is also included, although it is negligible for many cities. \n",
    "\n",
    "Public power\n",
    "- co2_ff_A_share\n",
    "- co2_ff_A_share_point_sources\n",
    "- co2_ff_count_point_sources_A\n",
    "\n",
    "Industry\n",
    "- co2_ff_B_share\n",
    "- co2_ff_B_share_point_sources\n",
    "- co2_ff_count_point_sources_B\n",
    "\n",
    "Other stationary combustions\n",
    "- co2_ff_C_share\n",
    "- No point sources\n",
    "\n",
    "Road transport\n",
    "- co2_ff_F_share\n",
    "- No point sources\n",
    "\n",
    "Shipping \n",
    "- co2_ff_G_share\n",
    "- No point sources\n",
    "\n",
    "\n",
    "</details>\n",
    "\n",
    "<details>\n",
    "<summary>  \n",
    "    <b>CO<sub>2</sub> emissions: from ODIAC</b>\n",
    "</summary>\n",
    "\n",
    "\"The Open-Data Inventory for Anthropogenic Carbon dioxide (ODIAC) is a high-spatial resolution global emission data product of CO<sub>2</sub> emissions from fossil fuel combustion (Oda and Maksyutov, 2011)\"\n",
    "\n",
    "Downloaded from <a href = \"https://db.cger.nies.go.jp/dataset/ODIAC/\" target = \"blank\">here</a> 2024-06-03. Total CO<sub>2</sub> emissions from fossil fuel combustion in year 2018 (montly files summed).Emissions from international aviation and marine bunker are not included.\n",
    "    \n",
    "Montly emission files available (can apply temporal profiles also: \"Weekly/diurnal emissions can be modeled by applying the TIMES (Temporal Improvements for Modeling Emissions by Scaling, Nassar et al. 2013) temporal scaling factors to the ODIAC monthly emission fields.\"). \n",
    "\n",
    "Total emissions in year 2018\n",
    "\n",
    "- co2_ff_total_ODIAC    \n",
    "    \n",
    "</details>\n",
    "\n",
    "<details>\n",
    "<summary>  \n",
    "    <b>Biogenic activity</b>\n",
    "</summary>\n",
    "    \n",
    "Average NEE in µmol/m²/s for the whole city during January and February 2018. Average per hour in different columns. (sect. 2.2.3)\n",
    "- NEE_average_[hour between 0 and 23] (<b>NEE_average_15</b>)\n",
    "\n",
    "Average NEE to calculate the average net added or removed CO<sub>2</sub> for each hour of the day for the entire city. Values during January and February 2018. Average per hour in different columns. \n",
    "- tCO2_offset_per_hour_[hour between 0 and 23]\n",
    "\n",
    "Above estimates are compared to the hourly fossil fuel emissions from TNO (scaled using standard temporal profiles from Ingrid Super, updated from Denier van der Gon et al., 2011) for each hour of the day for the entire city. (sect. 2.2.3: sect. 2.2.2)\n",
    "- tCO2_rel_emission_per_hour_[hour between 0 and 23]  (<b>tCO2_rel_emission_per_hour_15</b>)\n",
    "\n",
    "</details>\n",
    "\n",
    "<details>\n",
    "<summary>  \n",
    "    <b>Urban topography</b>\n",
    "</summary>\n",
    "\n",
    "Mean building height in meters (sect. 2.2.4)\n",
    "- <b>mean_built_up</b>\n",
    "\n",
    "</details>\n",
    "\n",
    "<details>\n",
    "<summary>  \n",
    "    <b>Natural topography</b>\n",
    "</summary>\n",
    "\n",
    "Share of flat areas \n",
    "- share_flatness\n",
    "\n",
    "Mean Terrain Ruggedness Index (sect. 2.2.4). \n",
    "- <b>Mean_TRI</b> \n",
    "\n",
    "</details>\n",
    "\n",
    "<details>\n",
    "<summary>  \n",
    "    <b>Nuclear contamination</b>\n",
    "</summary>\n",
    "Average nuclear contamination winter (J+F) afternoons (12 and 15 UTC)\n",
    "- average_nuclear_contamination_permil_winter\n",
    "    \n",
    "Share of days >0.5 permil nuclear contamination winter\n",
    "    \n",
    "- share_daily_average_over_0_5_permil_winter\n",
    "\n",
    "Share of days >0.3 permil nuclear contamination winter\n",
    "    \n",
    "- share_daily_average_over_0_3_permil_winter\n",
    "    \n",
    "Average nuclear masking potential winter (%)\n",
    "    \n",
    "- nuclear_masking_potential_winter\n",
    "    \n",
    "Average ffCO<sub>2</sub> STILT signal winter\n",
    "\n",
    "- average_modelled_ffco2_signal_winter\n",
    "    \n",
    "Average ffCO<sub>2</sub> STILT signal on days >0.5 permil nuclear contamination winter\n",
    "    \n",
    "- average_modelled_ffco2_signal_days_below_0_5permil_winter\n",
    "    \n",
    "Average representation bias due to sample selection (>0.5 permil) winter in percent (sect 2.2.5)\n",
    "\n",
    "- <b>representation_bias_sample_selection_winter </b> \n",
    "    \n",
    "Average nuclear masking potential winter in percent (sect 2.2.5)\n",
    "- <b>nuclear_masking_potential_winter</b>\n",
    "    \n"
   ]
  },
  {
   "cell_type": "markdown",
   "id": "d75d1976-fd4d-4fa9-aaf4-5ef599c0441f",
   "metadata": {},
   "source": [
    "### Make selection of variables\n",
    "\n",
    "Use the checkboxes next to each characteristic description to make your selection. Selected variables will appear directly in the dataframe below the selection cell, shown by their short names. Full descriptions are available in the \"Available variables\" section as well as below the dataframe.\n",
    "\n",
    "Variables that are of interest but should not be included in the analysis can also be selected. These can be excluded by assigning them a weight of zero in a later step.\n",
    "\n",
    "- E.g. in the study, the \"Population year 2018\" variable is used to subset the 308 cities to the 96 cities with over 200,000 inhabitants.\n",
    "\n",
    "You can also upload selection files (\"Upload (0)\"), such as those available from the study (see below). The selections specified in an uploaded file can still be adjusted by toggling checkboxes on or off.\n",
    "\n",
    "Additionally, it is possible to download a custom selection file (\"Save Selection\")."
   ]
  },
  {
   "cell_type": "markdown",
   "id": "927baadd-5fe0-4761-beb7-e7b5c37c3c91",
   "metadata": {
    "tags": []
   },
   "source": [
    "\n",
    "#### Variables used in the study\n",
    "\n",
    "To reproduce the variable selection in Storm et al. (2025), you can upload one of the following selection files in the tool below. Each file represents a specific challenge analyzed in the study.\n",
    "\n",
    "<details>\n",
    "    <summary><b>Available challenge selection files</b></summary>\n",
    "\n",
    "The tool in the study was used to produce results for each individual challenge:\n",
    "\n",
    "- **Background challenge**  \n",
    "  [Open selection file](./saved_selections_and_weights/selection_background_challenge.json)\n",
    "\n",
    "- **Biogenic challenge**  \n",
    "  [Open selection file](./saved_selections_and_weights/selection_biogenic_challenge.json)\n",
    "\n",
    "- **Modelling challenge**  \n",
    "  [Open selection file](./saved_selections_and_weights/selection_modelling_challenge.json)\n",
    "\n",
    "- **Observational challenge**  \n",
    "  [Open selection file](./saved_selections_and_weights/selection_observational_challenge.json)\n",
    "\n",
    "For the **Overall challenge**, all 18 metrics from the individual challenges are combined. This selection was used to produce the cluster analysis in the study:\n",
    "\n",
    "- **Overall challenge**  \n",
    "  [Open selection file](./saved_selections_and_weights/selection_overall_challenge.json)\n",
    "\n",
    "Once the selection file is opened, click on \"File\" > \"Download\" in the top left corner. \n",
    "\n",
    "</details>\n",
    "\n",
    "#### Save Selection\n",
    "The selection can be downloaded to a file, which can then be uploaded in the same way as the selection files listed above. To do this, click on the \"Save Selection\" button, which saves the file to an output folder located in the home directory. To locate the output folder, follow the links to the output generated by other sections of this notebook."
   ]
  },
  {
   "cell_type": "code",
   "execution_count": null,
   "id": "f3458a31-4caf-4e5d-9a63-41da22d20c8c",
   "metadata": {
    "tags": []
   },
   "outputs": [],
   "source": [
    "import city_characteristic_analysis_functions as functions\n",
    "\n",
    "# Callback function to capture the subset dataframe for use in the next step.\n",
    "def capture_subset_df(subset_df):\n",
    "    global subset_df_global\n",
    "    subset_df_global = subset_df\n",
    "\n",
    "# Call the function with the callback\n",
    "functions.column_selection(capture_subset_df)"
   ]
  },
  {
   "cell_type": "markdown",
   "id": "b3626f94-8157-404b-8816-755a8c91d0fd",
   "metadata": {
    "tags": []
   },
   "source": [
    "### (Optionally) create a subset of the cities (sect. 2.1)\n",
    "\n",
    "<mark><b>Note that this cell needs to be run</b></mark> even if you intend to keep all cities (simply run the cell and proceed to the next cell).\n",
    "\n",
    "By default, cities from all available countries are included (Fig. 1). By toggling off a country’s checkbox, its cities will be excluded.\n",
    "\n",
    "Only selected characteristics can be used to subset the dataframe based on a specified percentile range. The percentile range is based on all 308 cities, even if some cities have already been excluded by unchecking their associated checkboxes. Press enter after setting the percentile range and see how the number of cities has changed in the resulting dataframe.\n",
    "\n",
    "- To replicate the analyses in the study, the characteristic \"Total_pop\" (total population in 2018) must be selected. We subset the data to include cities between the 69th and 100th percentiles, which corresponds to a population threshold of 200,000, selecting 96 of the possible 308 cities."
   ]
  },
  {
   "cell_type": "code",
   "execution_count": null,
   "id": "d89853f1-3929-4390-b7df-37c033444938",
   "metadata": {
    "tags": []
   },
   "outputs": [],
   "source": [
    "def capture_filtered_df(subset_df):\n",
    "    global subset_df_filtered\n",
    "    subset_df_filtered = subset_df\n",
    "    \n",
    "functions.subset_cities(subset_df_global, capture_filtered_df)"
   ]
  },
  {
   "cell_type": "markdown",
   "id": "7a2c53eb-56bd-4cb2-a284-6696f2aea724",
   "metadata": {},
   "source": [
    "## Prepare the selected data for further analysis "
   ]
  },
  {
   "cell_type": "markdown",
   "id": "42efb06a-facd-4b1c-81c2-59d018115bf2",
   "metadata": {},
   "source": [
    "### min-max normalization to the 10th to 90th percentile range (sect 2.4)\n",
    "\n",
    "The resulting dataframe will have values between 0 (below 10th percentile) and 1 (above 90th percentile)."
   ]
  },
  {
   "cell_type": "code",
   "execution_count": null,
   "id": "69fe3c33-9128-430a-b3ea-12a51c64c645",
   "metadata": {
    "tags": []
   },
   "outputs": [],
   "source": [
    "def capture_scaled_df(subset_df):\n",
    "    global subset_df_scaled\n",
    "    subset_df_scaled = subset_df\n",
    "    \n",
    "functions.scale_df(subset_df_filtered, capture_scaled_df)"
   ]
  },
  {
   "cell_type": "markdown",
   "id": "29ac1b56-04cd-4f8c-82d3-abaf859e2468",
   "metadata": {},
   "source": [
    "### Invert values for relevant characteristics (sect. 2.4)\n",
    "\n",
    "Applied to the following variables in the study to ensure that a higher value always indicates a greater challenge:\n",
    "\n",
    "- share_over_2m_s_scaled (share wind >2 m s−1): The more often wind speeds reach at least 2 m/s, the less challenging it is expected to be.\n",
    "- share_flatness_scaled (share flatness): The flatter a city is, the less challenging it is expected to be.\n",
    "- dominant_wind_share_scaled (share wind from dominant wind direction): The more frequently the wind comes from its dominant direction, the less challenging it is expected to be.\n",
    "\n",
    "If these variables are selected, their checkboxes will be checked automatically when the cell below is run. All checkboxes can be toggled on and off.\n"
   ]
  },
  {
   "cell_type": "code",
   "execution_count": null,
   "id": "e335ea20-3ca0-4f2f-b448-df9c91551248",
   "metadata": {},
   "outputs": [],
   "source": [
    "def capture_inverted_df(subset_df):\n",
    "    global subset_df_scaled_inverted\n",
    "    subset_df_scaled_inverted = subset_df\n",
    "    \n",
    "functions.invert_values(subset_df_scaled, capture_inverted_df)"
   ]
  },
  {
   "cell_type": "markdown",
   "id": "f63f0241-5694-4202-949d-d975337961bf",
   "metadata": {},
   "source": [
    "#### Optionally save resulting dataframe\n",
    "\n",
    "- The resulting dataframe for the \"overall challenge\" was saved and used to create Figure 3.\n",
    "\n",
    "Un-comment (remove #) to download the data as a csv-file. It will be located in the same folder as this notebook. "
   ]
  },
  {
   "cell_type": "code",
   "execution_count": null,
   "id": "dfd7e19e-f5b3-4822-b943-30a8b5853726",
   "metadata": {},
   "outputs": [],
   "source": [
    "#subset_df_scaled_inverted.to_csv('data_for_figure3_creation.csv', encoding = 'utf-8-sig')"
   ]
  },
  {
   "cell_type": "markdown",
   "id": "88f85866-7b7e-480d-8138-8fbb6db92d27",
   "metadata": {
    "tags": []
   },
   "source": [
    "### Weigh the variables (Sect. 2.4.1)\n",
    "\n",
    "Weighing the variables is optional, but the cell <mark><b>must be run</b></mark> (by clicking the 'Run' button) for the subsequent cells to function properly. It is only possible to run the cell if the weights add up to 100.\n",
    "\n",
    "The default weights have no effect, meaning all characteristics influence the subsequent analysis equally."
   ]
  },
  {
   "cell_type": "markdown",
   "id": "3ea34220-fdd6-4332-8d72-f5996a0d5b19",
   "metadata": {},
   "source": [
    "#### Weights used in the study (Table 1)\n",
    "\n",
    "To reproduce the variable selection in *Storm et al., 2025*, you can upload one of the following weight files in the tool below. Each file represents a specific challenge analyzed in the study.\n",
    "\n",
    "<details>\n",
    "    <summary><b>Available challenge weight files</b></summary>\n",
    "\n",
    "The tool in the study was used to produce results for each individual challenge:\n",
    "\n",
    "- **Background challenge**  \n",
    "  [Open weight file](./saved_selections_and_weights/weights_background_challenge.json)\n",
    "\n",
    "- **Biogenic challenge**  \n",
    "  [Open weight file](./saved_selections_and_weights/weights_biogenic_challenge.json)\n",
    "\n",
    "- **Modelling challenge**  \n",
    "  [Open weight file](./saved_selections_and_weights/weights_modelling_challenge.json)\n",
    "\n",
    "- **Observational challenge**  \n",
    "  [Open weight file](./saved_selections_and_weights/weights_observational_challenge.json)\n",
    "\n",
    "For the **Overall challenge**, all 18 metrics from the individual challenges are combined. This selection was used to produce the cluster analysis in the study:\n",
    "\n",
    "- **Overall challenge**  \n",
    "  [Open weight file](./saved_selections_and_weights/weights_overall_challenge.json)\n",
    "\n",
    "Once the weight file is opened, click on \"File\" > \"Download\" in the top left corner. \n",
    "\n",
    "</details>"
   ]
  },
  {
   "cell_type": "code",
   "execution_count": null,
   "id": "457872e7-ef13-40c8-b139-b6d1f6d37ed7",
   "metadata": {
    "tags": []
   },
   "outputs": [],
   "source": [
    "def capture_weighted_df(subset_df):\n",
    "    global subset_df_scaled_inverted_weighted\n",
    "    subset_df_scaled_inverted_weighted = subset_df\n",
    "    \n",
    "functions.weigh_variables_df(subset_df_scaled_inverted, capture_weighted_df)"
   ]
  },
  {
   "cell_type": "markdown",
   "id": "0d4d5d6b-cae1-4118-8223-24441fafd8ed",
   "metadata": {},
   "source": [
    "## Challenge score (sect. 2.4.1)\n",
    "\n",
    "The relative combined challenge scores are calculated based on all selected variables. These scores for the overall challenge are used to scale the size of the points representing cities in Figure 1.\n",
    "\n",
    "The score can range between 0% and 100% (0 and 1), indicating minimum to maximum relative challenge. The minimum and maximum values can be achieved if a city consistently falls within the bottom 10th or top 90th percentile for all metrics. \n",
    "\n",
    "In the output dataframe, which can optionally be downloaded as \"challenge_score.csv\" (by checking \"Save as CSV\"), the columns \"challenge_rank\" and \"challenge_quartile\" are included. A higher challenge score, rank, and quartile indicate a higher relative challenge.\n"
   ]
  },
  {
   "cell_type": "code",
   "execution_count": null,
   "id": "40a4ceed-eb88-4d36-bc0f-9f7e521ecfdd",
   "metadata": {},
   "outputs": [],
   "source": [
    "functions.calculate_challenge_score(subset_df_scaled_inverted_weighted)"
   ]
  },
  {
   "cell_type": "markdown",
   "id": "314ee537-0b7c-457f-9129-05457490f214",
   "metadata": {
    "tags": []
   },
   "source": [
    "## Similarity matrix (sect 2.4.2; sect. 3.3)\n",
    "\n",
    "Similarity matrices show the similarity between each city and all other cities given distances across all selected (and weighted) variables. In the study, Munich's similarity matrix scores for the different challenges are displayed in Table 4.\n",
    "\n",
    "The default distance calculation method in the tool below is Euclidean distance, which is also the method used in the study (Sect. 2.4.2). Read more about the available options in the SciPy manual <a href=\"https://docs.scipy.org/doc/scipy/reference/generated/scipy.spatial.distance.pdist.html\" target=\"_blank\">here</a>.\n",
    "\n",
    "The shorter the distances across the metrics, the more similar a city is. If a metric is given more weight, its distance in that aspect will have a greater impact on the integrated distance score. For easier interpretation, when Euclidean distance is selected, values are inverted in the tool as follows:\n",
    "\n",
    "`similarity_matrix = (1 - similarity_matrix) * 100`\n",
    "\n",
    "Multiplying the inverted similarity matrix by 100 provides a similarity score in percentage.\n",
    "\n",
    "Note that this only applies when <mark>Euclidean distance is selected</mark>. For other distance calculation methods, a lower value still indicates shorter distances and greater similarity.\n",
    "\n",
    "The full similarity matrix resulting from the tool will be used in subsequent steps. However, for ease of interpretation, the tool allows the selection of specific cities to be displayed in a subset similarity matrix. The cities listed under \"Selected Cities\" will appear in the subset similarity matrix after running the tool (\"Run\"). Initially, Paris, Munich, and Zurich are included in this list—if they are available in the dataframe. Use the buttons \"Add City\" and \"Remove City\" to change the list of selected cities. "
   ]
  },
  {
   "cell_type": "code",
   "execution_count": null,
   "id": "4300fa85-8f2e-4c4c-91a5-5b55020abc35",
   "metadata": {},
   "outputs": [],
   "source": [
    "def capture_similarity_matrix(similarity_matrix_result):\n",
    "    global similarity_matrix\n",
    "    similarity_matrix = similarity_matrix_result\n",
    "    \n",
    "functions.create_similarity_matrix(subset_df_scaled_inverted_weighted, capture_similarity_matrix)"
   ]
  },
  {
   "cell_type": "markdown",
   "id": "8c256a0f-161d-4e74-81cc-902cd793375e",
   "metadata": {},
   "source": [
    "## Cluster analysis: dendrogram (sect. 2.4.3; sect. 3.4)\n",
    "\n",
    "The cluster analysis in this study is used to identify cities that differ—i.e., fall into different clusters—from Paris, Munich, and Zurich.\n",
    "\n",
    "The linkage method used for the dendrogram is \"ward\". You can read about the different options in the SciPy manual <a href=\"https://docs.scipy.org/doc/scipy/reference/generated/scipy.cluster.hierarchy.linkage.html\" target=\"_blank\">here</a>. \n",
    "\n",
    "Note that clusters in the dendrogram are created by drawing a horizontal line across the y-axis. Therefore, reaching the exact target number of clusters (\"Target clusters\") may not be possible. In such cases, the closest achievable number of clusters to the target will be used.\n"
   ]
  },
  {
   "cell_type": "code",
   "execution_count": null,
   "id": "ff5a51ec-9574-44a8-b9bc-cde46d930895",
   "metadata": {
    "tags": []
   },
   "outputs": [],
   "source": [
    "def capture_clusters_dendrogram(clusters_df):\n",
    "    global clusters_dendrogram\n",
    "    clusters_dendrogram = clusters_df\n",
    "    \n",
    "functions.create_dendrogram(similarity_matrix, capture_clusters_dendrogram)"
   ]
  },
  {
   "cell_type": "markdown",
   "id": "74d6c8d2-ef45-4b62-8019-5c58baf93e53",
   "metadata": {},
   "source": [
    "### Spatial representation of dendrogram clusters \n",
    "\n",
    "Table and map showing cities and their associated dendrogram clusters."
   ]
  },
  {
   "cell_type": "code",
   "execution_count": null,
   "id": "1f2727c9-6964-447b-9f0a-700f316e9c14",
   "metadata": {},
   "outputs": [],
   "source": [
    "display(clusters_dendrogram)\n",
    "\n",
    "functions.cluster_map(clusters_dendrogram)"
   ]
  }
 ],
 "metadata": {
  "kernelspec": {
   "display_name": "Python 3 (ipykernel)",
   "language": "python",
   "name": "python3"
  },
  "language_info": {
   "codemirror_mode": {
    "name": "ipython",
    "version": 3
   },
   "file_extension": ".py",
   "mimetype": "text/x-python",
   "name": "python",
   "nbconvert_exporter": "python",
   "pygments_lexer": "ipython3",
   "version": "3.10.6"
  }
 },
 "nbformat": 4,
 "nbformat_minor": 5
}
