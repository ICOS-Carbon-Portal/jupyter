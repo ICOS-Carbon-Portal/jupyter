{
 "cells": [
  {
   "cell_type": "markdown",
   "metadata": {},
   "source": [
    "<img src=\"logos/ringo_logo_0.jpg\" width=\"200\" align=\"right\"/>\n",
    "<img src=\"logos/Icos_cp_Logo_RGB.svg\" width=\"300\" align=\"left\"/>"
   ]
  },
  {
   "cell_type": "markdown",
   "metadata": {},
   "source": [
    "# Jupyter Notebook for selecting high fossil fuel CO2 events at ICOS stations\n",
    "\n",
    "\n",
    "This Jupyter Notebook supports the selection of an appropriate CO-offset threshold to identify events with potentially high fossil fuel CO2 contribution based on:\n",
    "- ICOS measurement time series (ICOS release and NRT) for all ICOS atmospheric stations\n",
    "\n",
    "- STILT footprints and concentration time series (for selected stations only)\n",
    "\n",
    "For questions and feedback contact ute.karstens@nateko.lu.se"
   ]
  },
  {
   "cell_type": "markdown",
   "metadata": {},
   "source": [
    "## 1. Introduction\n",
    "\n",
    "### Flask sampling strategy\n",
    "The notebook is supporting the flask sampling strategy presented in the paper:\n",
    "\n",
    "Levin, I., Karstens, U., Eritt, M., Maier, F., Arnold, S., Rzesanke, D., Hammer, S., Ramonet, M., Vítková, G., Conil, S., Heliasz, M., Kubistin, D., and Lindauer, M.: A dedicated flask sampling strategy developed for Integrated Carbon Observation System (ICOS) stations based on CO2 and CO measurements and Stochastic Time-Inverted Lagrangian Transport (STILT) footprint modelling, Atmos. Chem. Phys., 20, 11161–11180, https://doi.org/10.5194/acp-20-11161-2020, 2020.\n",
    "\n",
    "### Structure of the notebook\n",
    "\n",
    "ICOS measurement time series of CO2 and CO can be explored to select an appropriate threshold of the CO offset (difference signal - background) as indicator for high fossil fuel CO2 events. The CO background is defined as lowest value in previous 3 days. \n",
    "\n",
    "STILT model results are available for selected stations only. In STILT the CO2 concentration is separated into contributions from regional fossil fuel emissions, from regional biospheric fluxes and from global fluxes. This allows  direct identification of high fossil fuel CO2 events and assessment of the CO offset as indicator for these events. STILT footprints are available for further analysis of the surface influence areas contributing to these events. The station footprints are combined with fossil fuel CO2 emissions from the EDGAR v4.3.2 emission inventory to visualize the influence areas.\n",
    "\n",
    "The notebook consists of two parts:\n",
    "\n",
    "1. ICOS release and NRT data is directly accessed from ICOS Carbon Portal\n",
    "    - Data for all stations currently available at ICOS CP are included\n",
    "    - Highest level at ICOS tower sites\n",
    "    - Selection of high fossil fuel CO2 events based on CO offset (difference signal - background) as indicator\n",
    "        - set threshold for CO offset 'highco'\n",
    "        - select sampling time, e.g. 13:00 local time (12 UTC) \n",
    "\n",
    "\n",
    "2. Test sampling strategy on 1-hourly STILT time series\n",
    "    - 1-hourly STILT results currently available for 2017 and 2018 at selected stations only\n",
    "    - Highest level at ICOS tower sites\n",
    "    - Selection of 'target' events\n",
    "        - select high fossil fuel CO2 events (only available in model results)\n",
    "            - set threshold 'high'\n",
    "        - select CO offset (difference signal - background) as indicator for high fossil fuel CO2 event\n",
    "            - set threshold for offset 'highco'\n",
    "        - select sampling time, e.g. 13:00 local time (12 UTC) \n",
    "  \n",
    "\n",
    "<br>\n"
   ]
  },
  {
   "cell_type": "markdown",
   "metadata": {},
   "source": [
    "### Preparation: Import tools & basic settings\n",
    "\n",
    "Python functions and modules are provided separately in notebooks and python scripts in the directory 'modules'.\n",
    "- flasksampling_modules_ff.ipynb\n",
    "- STILT_modules_plus.py (imported in flasksampling_modules.ipynb)\n",
    "- extra_sparqls.py (imported in flasksampling_modules.ipynb)"
   ]
  },
  {
   "cell_type": "code",
   "execution_count": null,
   "metadata": {
    "init_cell": true,
    "scrolled": false
   },
   "outputs": [
    {
     "name": "stdout",
     "output_type": "stream",
     "text": [
      "Plots are stored in:  /home/jovyan/output/flasksampling\n"
     ]
    },
    {
     "data": {
      "application/javascript": [
       "IPython.OutputArea.prototype._should_scroll = function(lines) {\n",
       "    return false;\n",
       "}\n"
      ],
      "text/plain": [
       "<IPython.core.display.Javascript object>"
      ]
     },
     "metadata": {},
     "output_type": "display_data"
    }
   ],
   "source": [
    "# Import functions used in this notebook from the Jupyter Notebook flasksampling_modules.ipynb\n",
    "%run ./modules/flasksampling_modules_ff.ipynb\n"
   ]
  },
  {
   "cell_type": "markdown",
   "metadata": {},
   "source": [
    "## 2. Test sampling strategy for high fossil fuel CO2 events on ICOS observation time series\n",
    "based on ICOS ATC release and NRT growing time series of CO2, CO and meteo\n",
    "### Select input parameters in the form below:"
   ]
  },
  {
   "cell_type": "code",
   "execution_count": null,
   "metadata": {
    "init_cell": true,
    "scrolled": false
   },
   "outputs": [],
   "source": [
    "#Call function to present widget:\n",
    "create_widget_selection_icos_ff()"
   ]
  },
  {
   "cell_type": "markdown",
   "metadata": {},
   "source": [
    "\n",
    "## 3. Test sampling strategy based on STILT model results and ICOS observation time series\n",
    "based on 1-hourly STILT footprints, which are currently only available for 2017-2018 and for selected stations\n",
    "### Select input parameters in the form below:"
   ]
  },
  {
   "cell_type": "code",
   "execution_count": null,
   "metadata": {
    "init_cell": true,
    "scrolled": false
   },
   "outputs": [],
   "source": [
    "#Call function to present widget:\n",
    "create_widget_selection_ff()"
   ]
  }
 ],
 "metadata": {
  "celltoolbar": "Initialization Cell",
  "kernelspec": {
   "display_name": "Python 3",
   "language": "python",
   "name": "python3"
  },
  "language_info": {
   "codemirror_mode": {
    "name": "ipython",
    "version": 3
   },
   "file_extension": ".py",
   "mimetype": "text/x-python",
   "name": "python",
   "nbconvert_exporter": "python",
   "pygments_lexer": "ipython3",
   "version": "3.8.6"
  },
  "toc": {
   "base_numbering": 1,
   "nav_menu": {},
   "number_sections": false,
   "sideBar": true,
   "skip_h1_title": true,
   "title_cell": "Table of Contents",
   "title_sidebar": "Contents",
   "toc_cell": false,
   "toc_position": {
    "height": "calc(100% - 180px)",
    "left": "10px",
    "top": "150px",
    "width": "299px"
   },
   "toc_section_display": true,
   "toc_window_display": false
  }
 },
 "nbformat": 4,
 "nbformat_minor": 2
}
