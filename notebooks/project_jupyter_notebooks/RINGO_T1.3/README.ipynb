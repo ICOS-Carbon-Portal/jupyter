{
 "cells": [
  {
   "cell_type": "markdown",
   "id": "senior-stanley",
   "metadata": {},
   "source": [
    "<img src=\"https://www.icos-cp.eu/sites/default/files/2017-11/ICOS_CP_logo.png\" width=\"300\" align=\"right\"/>\n",
    "<br>\n",
    "<br>\n",
    "<br> \n",
    "<br>\n",
    "<br>\n",
    "\n",
    "# ICOS Project-specific Jupyter Notebooks - RINGO T1.3\n",
    "This folder includes notebooks and ancillary data files for presenting an evaluation of different sampling strategies related to the RINGO project. The notebook supports the analysis presented in Levin et al., A dedicated flask sampling strategy developed for Integrated Carbon Observation System (ICOS) stations based on CO2 and CO measurements and Stochastic Time-Inverted Lagrangian Transport (STILT) footprint modelling, Atmos. Chem. Phys., 20, 11161–11180, https://doi.org/10.5194/acp-20-11161-2020, 2020.\n",
    "\n",
    "<br>\n",
    "\n",
    "## Structure\n",
    "The folder is divided into the following parts:\n",
    "\n",
    "* Jupyter Notebook for evaluation of flask sampling strategies for (1) quality control for in situ observations, (2) representative information on atmospheric components currently not monitored in situ at the stations, (3) samples for 14CO2 analysis that are significantly influenced by fossil fuel CO2 (ffCO2) emission areas. Evaluation of sampling strategies is based on STILT footprints (part 1) and ICOS measurement data (part 2). \n",
    "\n",
    "* Jupyter notebook for selecting an appropriate CO-offset threshold to identify events with potentially high fossil fuel CO2 contribution for ICOS measurement time series (ICOS release and NRT) for all ICOS atmospheric stations.\n",
    "\n",
    "* modules folder (contains Python scripts to handle STILT footprints)\n",
    "\n",
    "* majorCitiesEurope.xlsx (contains list of major cities in Europe)\n",
    "\n",
    "* logos folder (contains RINGO logo)\n",
    "\n",
    "<br>\n",
    "\n",
    "## Licence\n",
    "This work is licensed under a Creative Commons Attribution 4.0 International License (CC BY 4.0). <br>\n",
    "Copyright © 2019-2020 ICOS ERIC\n"
   ]
  },
  {
   "cell_type": "code",
   "execution_count": null,
   "id": "expressed-explosion",
   "metadata": {
    "scrolled": false
   },
   "outputs": [],
   "source": []
  }
 ],
 "metadata": {
  "kernelspec": {
   "display_name": "Python 3",
   "language": "python",
   "name": "python3"
  },
  "language_info": {
   "codemirror_mode": {
    "name": "ipython",
    "version": 3
   },
   "file_extension": ".py",
   "mimetype": "text/x-python",
   "name": "python",
   "nbconvert_exporter": "python",
   "pygments_lexer": "ipython3",
   "version": "3.8.6"
  },
  "toc": {
   "base_numbering": 1,
   "nav_menu": {},
   "number_sections": false,
   "sideBar": true,
   "skip_h1_title": true,
   "title_cell": "Table of Contents",
   "title_sidebar": "Contents",
   "toc_cell": false,
   "toc_position": {},
   "toc_section_display": true,
   "toc_window_display": false
  }
 },
 "nbformat": 4,
 "nbformat_minor": 5
}
