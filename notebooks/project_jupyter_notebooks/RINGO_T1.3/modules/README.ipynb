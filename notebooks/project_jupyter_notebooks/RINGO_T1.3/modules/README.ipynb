{
 "cells": [
  {
   "cell_type": "markdown",
   "id": "excessive-playback",
   "metadata": {},
   "source": [
    "<img src=\"https://www.icos-cp.eu/sites/default/files/2017-11/ICOS_CP_logo.png\" width=\"300\" align=\"right\"/>\n",
    "<br>\n",
    "<br>\n",
    "<br> \n",
    "<br>\n",
    "<br>\n",
    "\n",
    "# Content\n",
    "\n",
    "<br>\n",
    "\n",
    "The folder contains python modules for the RINGO T1.3 flasksampling notebooks:\n",
    "\n",
    "* flasksampling_modules.ipynb notebook contains routines for the analysis of STILT results together with ICOS measurement timeseries to evaluate different parameters for the flask sampling strategy\n",
    "\n",
    "* flasksampling_modules_ff.ipynb notebook contains routines for the analysis ICOS measurement timeseries to evaluate thresholds for the flask sampling strategy\n",
    "\n",
    "* STILT_modules_plus.py contains STILT-specific python routines plus a routine to read ICOS atmospheric measurement data\n",
    "\n",
    "* extra_sparqls.py contains additional sparql queries\n",
    "\n",
    "<br>\n",
    "\n",
    "## Licence\n",
    "This work is licensed under a Creative Commons Attribution 4.0 International License (CC BY 4.0). <br>\n",
    "Copyright © 2019-2020 ICOS ERIC"
   ]
  },
  {
   "cell_type": "code",
   "execution_count": null,
   "id": "compressed-blackjack",
   "metadata": {
    "collapsed": false
   },
   "outputs": [],
   "source": []
  }
 ],
 "metadata": {
  "kernelspec": {
   "display_name": "Python 3",
   "language": "python",
   "name": "python3"
  },
  "language_info": {
   "codemirror_mode": {
    "name": "ipython",
    "version": 3
   },
   "file_extension": ".py",
   "mimetype": "text/x-python",
   "name": "python",
   "nbconvert_exporter": "python",
   "pygments_lexer": "ipython3",
   "version": "3.8.6"
  },
  "toc": {
   "base_numbering": 1,
   "nav_menu": {},
   "number_sections": false,
   "sideBar": true,
   "skip_h1_title": true,
   "title_cell": "Table of Contents",
   "title_sidebar": "Contents",
   "toc_cell": false,
   "toc_position": {},
   "toc_section_display": true,
   "toc_window_display": false
  }
 },
 "nbformat": 4,
 "nbformat_minor": 5
}
