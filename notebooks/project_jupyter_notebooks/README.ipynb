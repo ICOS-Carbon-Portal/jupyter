{
 "cells": [
  {
   "cell_type": "markdown",
   "id": "dangerous-saying",
   "metadata": {},
   "source": [
    "<img src=\"https://www.icos-cp.eu/sites/default/files/2017-11/ICOS_CP_logo.png\" width=\"300\" align=\"right\"/>\n",
    "<br>\n",
    "<br>\n",
    "<br> \n",
    "<br>\n",
    "<br>\n",
    "\n",
    "# ICOS Project-specific Jupyter Notebooks\n",
    "This folder includes notebooks that present the scientific output of projects in which ICOS has collaborated with other partners. The scientific output is presented in a way that enhances the user's understanding of the applied processes and methods. Users may interact with the content and test alternative theories by altering code in the code cells or by using interactive widgets.\n",
    "\n",
    "<br>\n",
    "\n",
    "## Structure\n",
    "The folder is divided by project. Every project has its own folder of notebooks and ancillary data files.\n",
    "\n",
    "* **RINGO_T1.3:** includes notebooks presenting an evaluation of different sampling strategies related to the RINGO project \n",
    "\n",
    "* **OTC Data Reduction Workshop:** includes notebooks from the Ocean Thematic Centre on how to calibrate and process data for flux measurements\n",
    "\n",
    "* **envrifair winterschool:** contains notebooks to demonstrate how to create interactive maps, load icos data and create interactive graphs.\n",
    "\n",
    "## Licence\n",
    "This work is licensed under a Creative Commons Attribution 4.0 International License (CC BY 4.0). <br>\n",
    "Copyright © 2019-2020 ICOS ERIC"
   ]
  }
 ],
 "metadata": {
  "kernelspec": {
   "display_name": "Python 3",
   "language": "python",
   "name": "python3"
  },
  "language_info": {
   "codemirror_mode": {
    "name": "ipython",
    "version": 3
   },
   "file_extension": ".py",
   "mimetype": "text/x-python",
   "name": "python",
   "nbconvert_exporter": "python",
   "pygments_lexer": "ipython3",
   "version": "3.8.6"
  },
  "toc": {
   "base_numbering": 1,
   "nav_menu": {},
   "number_sections": false,
   "sideBar": true,
   "skip_h1_title": true,
   "title_cell": "Table of Contents",
   "title_sidebar": "Contents",
   "toc_cell": false,
   "toc_position": {},
   "toc_section_display": true,
   "toc_window_display": false
  }
 },
 "nbformat": 4,
 "nbformat_minor": 5
}
