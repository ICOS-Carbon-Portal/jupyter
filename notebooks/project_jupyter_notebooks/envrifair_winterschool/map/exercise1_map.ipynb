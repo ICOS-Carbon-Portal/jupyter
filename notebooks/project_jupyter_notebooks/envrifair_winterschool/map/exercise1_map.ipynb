{
 "cells": [
  {
   "cell_type": "markdown",
   "metadata": {},
   "source": [
    "<img src='../images/logo.png'>"
   ]
  },
  {
   "cell_type": "markdown",
   "metadata": {},
   "source": [
    "# Create an Interactive Map\n",
    "\n",
    "Based on a javascript library, leaflet: [https://leafletjs.com/](https://leafletjs.com/), a python interface is available, called folium: [https://python-visualization.github.io/folium/](https://python-visualization.github.io/folium/).\n",
    "\n",
    "We will use this library to setup an interactive map, where you can zoom in and out, add markers, customize the markers and download the maps as a static website (.html)."
   ]
  },
  {
   "cell_type": "markdown",
   "metadata": {},
   "source": [
    "## Import librararies"
   ]
  },
  {
   "cell_type": "code",
   "execution_count": null,
   "metadata": {
    "collapsed": false
   },
   "outputs": [],
   "source": [
    "import folium"
   ]
  },
  {
   "cell_type": "markdown",
   "metadata": {},
   "source": [
    "## Create an empty map\n",
    "\n",
    "For the reminder of this notebook, we assume that you always come back display the map again. Of course you can display the map anytime in another cell as well, just issue the command 'myMap'.<br>\n",
    "The following one line, will create a map with the center of the map on latitutde: 0 and longitude: 0.\n"
   ]
  },
  {
   "cell_type": "code",
   "execution_count": null,
   "metadata": {
    "collapsed": false
   },
   "outputs": [],
   "source": [
    "myMap = folium.Map(location=[0, 0], zoom_start=3)"
   ]
  },
  {
   "cell_type": "markdown",
   "metadata": {},
   "source": [
    "## Show map"
   ]
  },
  {
   "cell_type": "code",
   "execution_count": null,
   "metadata": {
    "collapsed": false,
    "scrolled": false
   },
   "outputs": [],
   "source": [
    "myMap"
   ]
  },
  {
   "cell_type": "markdown",
   "metadata": {},
   "source": [
    "## Add a marker\n",
    "We will add the Location for the Greenwich Observatory, UTC\n"
   ]
  },
  {
   "cell_type": "code",
   "execution_count": null,
   "metadata": {
    "collapsed": false
   },
   "outputs": [],
   "source": [
    "marker = folium.Marker(location=[51.4779, -0.00189], popup=folium.Popup('Greenwich Observatory, UTC'))\n",
    "marker.add_to(myMap)\n",
    "#myMap.add_child(marker)"
   ]
  },
  {
   "cell_type": "markdown",
   "metadata": {},
   "source": [
    "## Show the map again\n",
    "\n",
    "Either go back to the cell with `myMap` and execute that cell again\n",
    "OR\n",
    "Insert a new cell below, write `myMap` and execute. "
   ]
  },
  {
   "cell_type": "markdown",
   "metadata": {},
   "source": [
    "## Customize the marker\n",
    "- add a popup message (display a message when you `click` on the marker)<br>\n",
    "    the message is \"html\", hence you can write any html tags as well\n",
    "   \n",
    "\n",
    "- change the standard icon, try: <b>leaf, glass, cloud, asterisk, user, film, star, heart</b>\n",
    "<br>(and many more https://getbootstrap.com/docs/3.3/components/)<br>\n",
    "\n",
    "\n",
    "- icon colors:<b>['red', 'blue', 'green', 'purple', 'orange', 'darkred',\n",
    "'lightred', 'beige', 'darkblue', 'darkgreen', 'cadetblue', 'darkpurple', 'white', 'pink', 'lightblue', 'lightgreen', 'gray', 'black', 'lightgray']</b>\n",
    "\n",
    "\n",
    "Add a second marker for the the ICOS Carbon Portal HQ, choose an ICON, and insert a url link to the popup message"
   ]
  },
  {
   "cell_type": "code",
   "execution_count": null,
   "metadata": {
    "collapsed": false
   },
   "outputs": [],
   "source": [
    "marker = folium.Marker(\n",
    "        location=[55.7094, 13.2011],\n",
    "        popup='ICOS Carbon Portal HQ.<br><a href=\"https://www.icos-cp.eu\" target=_blank>https://www.icos-cp.eu</a>',\n",
    "        icon=folium.Icon(icon='leaf', color='green')\n",
    "    )\n",
    "marker.add_to(myMap)"
   ]
  },
  {
   "cell_type": "markdown",
   "metadata": {},
   "source": [
    "## Save the map to a html file"
   ]
  },
  {
   "cell_type": "code",
   "execution_count": null,
   "metadata": {
    "collapsed": false
   },
   "outputs": [],
   "source": [
    "import os\n",
    "folder = os.path.join(os.path.expanduser('~'), 'output/envrifair/')\n",
    "if not os.path.exists(folder):\n",
    "    os.makedirs(folder)\n",
    "file = os.path.join(folder, 'myMap.html')\n",
    "myMap.save(file)"
   ]
  },
  {
   "cell_type": "markdown",
   "metadata": {},
   "source": [
    "### open the map \n",
    "Go back to the files...and the folder you have been working in. You can just `click` the map.html file and it will open in your browser. \n",
    "\n",
    "### download the map\n",
    "you can select the map and download. Now you should have a file on your computer calle `myMap.html` and you can open this in your internet browser. There is no nee for you to be connectet to the jupter hub or anything, it is completely stand-alone.\n"
   ]
  }
 ],
 "metadata": {
  "kernelspec": {
   "display_name": "Python 3",
   "language": "python",
   "name": "python3"
  },
  "language_info": {
   "codemirror_mode": {
    "name": "ipython",
    "version": 3
   },
   "file_extension": ".py",
   "mimetype": "text/x-python",
   "name": "python",
   "nbconvert_exporter": "python",
   "pygments_lexer": "ipython3",
   "version": "3.8.5"
  },
  "toc": {
   "base_numbering": 1,
   "nav_menu": {},
   "number_sections": false,
   "sideBar": true,
   "skip_h1_title": false,
   "title_cell": "Table of Contents",
   "title_sidebar": "Contents",
   "toc_cell": false,
   "toc_position": {
    "height": "calc(100% - 180px)",
    "left": "10px",
    "top": "150px",
    "width": "240.594px"
   },
   "toc_section_display": true,
   "toc_window_display": true
  }
 },
 "nbformat": 4,
 "nbformat_minor": 4
}
