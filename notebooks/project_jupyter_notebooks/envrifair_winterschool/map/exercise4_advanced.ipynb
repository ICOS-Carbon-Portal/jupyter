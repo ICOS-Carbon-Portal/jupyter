{
 "cells": [
  {
   "cell_type": "markdown",
   "metadata": {},
   "source": [
    "<img src='../images/logo.png'>"
   ]
  },
  {
   "cell_type": "markdown",
   "metadata": {},
   "source": [
    "# Create a  Map\n",
    "\n",
    "Based on a javascript library, leaflet: [https://leafletjs.com/](https://leafletjs.com/), a python interface is available, called folium: [https://python-visualization.github.io/folium/](https://python-visualization.github.io/folium/).\n",
    "\n",
    "- We will use this library to set up an interactive map with different basemaps and plugin-ins like measurement tools or full-screen view. \n",
    "- We will write a function to `prettify` the html context in the popup message"
   ]
  },
  {
   "cell_type": "markdown",
   "metadata": {},
   "source": [
    "## Import libraries"
   ]
  },
  {
   "cell_type": "code",
   "execution_count": null,
   "metadata": {},
   "outputs": [],
   "source": [
    "# import libraries\n",
    "import folium\n",
    "from folium.plugins import Fullscreen, MeasureControl, MiniMap, MarkerCluster\n",
    "from icoscp.cpb.dobj import Dobj\n",
    "import pandas as pd"
   ]
  },
  {
   "cell_type": "markdown",
   "metadata": {},
   "source": [
    "# Create an empty map\n",
    "\n",
    "The following one line, will create a map with the center of the map on latitude: 0 and longitude: 0."
   ]
  },
  {
   "cell_type": "code",
   "execution_count": null,
   "metadata": {},
   "outputs": [],
   "source": [
    "myMap = folium.Map(location=[0, 0], zoom_start=3)\n",
    "myMap"
   ]
  },
  {
   "cell_type": "markdown",
   "metadata": {},
   "source": [
    "## Add different base maps\n",
    "\n",
    "A control is added on the **top right corner** to switch between basemaps"
   ]
  },
  {
   "cell_type": "code",
   "execution_count": null,
   "metadata": {},
   "outputs": [],
   "source": [
    "# built-in tile layers\n",
    "folium.TileLayer('openstreetmap').add_to(myMap)\n",
    "folium.TileLayer('cartodbpositron').add_to(myMap)\n",
    "folium.TileLayer('cartodbdark_matter').add_to(myMap)\n",
    "folium.TileLayer('stamenwatercolor').add_to(myMap)\n",
    "folium.TileLayer('stamentoner').add_to(myMap)\n",
    "folium.TileLayer('stamenterrain').add_to(myMap)\n",
    "\n",
    "# add another layer with satellite images from ESRI\n",
    "folium.TileLayer(\n",
    "    tiles = 'https://server.arcgisonline.com/ArcGIS/rest/services/World_Imagery/MapServer/tile/{z}/{y}/{x}',\n",
    "    attr = 'Esri',\n",
    "    name = 'Esri Satellite',\n",
    "    overlay = False,\n",
    "    opacity = 1.0,\n",
    "    control = True).add_to(myMap)\n",
    "\n",
    "# add the control (top right in the map) to switch\n",
    "# between different tiles and the feature group\n",
    "\n",
    "myMap.add_child(folium.LayerControl())"
   ]
  },
  {
   "cell_type": "markdown",
   "metadata": {},
   "source": [
    "## Add plugins\n",
    "By adding just a couple of built-in helpers, the functionality of the displayed map can be greatly enhanced. Have a look at https://python-visualization.github.io/folium/plugins.html "
   ]
  },
  {
   "cell_type": "code",
   "execution_count": null,
   "metadata": {
    "scrolled": false
   },
   "outputs": [],
   "source": [
    "MeasureControl().add_to(myMap)\n",
    "Fullscreen().add_to(myMap)\n",
    "MiniMap().add_to(myMap)\n",
    "myMap"
   ]
  },
  {
   "cell_type": "markdown",
   "metadata": {},
   "source": [
    "## A function to prettify our context\n",
    "\n",
    "The following function `def prettyHtml()` creates a full html website with our content (the popup message), and adds some CSS styling code to make the table a bit more readable. We load a public available stylesheet from https://www.w3schools.com/w3css/w3css_tables.asp\n",
    "<br>\n",
    "Since we now have the style sheet, you can play around and try some other table styles.<br> For example `w3-bordered` instead of `w3-striped`. \n",
    "\n",
    "Step 1: execute the function below \n",
    "\n",
    "Step 2: read the member file again (like in exercise 2)\n",
    "\n",
    "Step 3: Create the map and `click a marker`....the output has changed (compare to exercise 2)"
   ]
  },
  {
   "cell_type": "code",
   "execution_count": null,
   "metadata": {},
   "outputs": [],
   "source": [
    "def prettyHtml(body):\n",
    "    header = \"\"\"<!DOCTYPE html>\n",
    "                <html>\n",
    "                <link rel=\"stylesheet\" href=\"https://www.w3schools.com/w3css/4/w3.css\">\n",
    "                <body><div class=\"w3-container\">\n",
    "                    My new stylish table:\n",
    "                    <table class=\"w3-table w3-striped\">\n",
    "                \"\"\"\n",
    "    \n",
    "    footer = \"</div></body></html>\"\n",
    "    \n",
    "    body = body.replace('<table border=\"1\" class=\"dataframe\">', '')\n",
    "    html = header + body + footer\n",
    "    \n",
    "    return html"
   ]
  },
  {
   "cell_type": "markdown",
   "metadata": {},
   "source": [
    "### read the members file"
   ]
  },
  {
   "cell_type": "code",
   "execution_count": null,
   "metadata": {},
   "outputs": [],
   "source": [
    "members = pd.read_csv('members.csv')"
   ]
  },
  {
   "cell_type": "markdown",
   "metadata": {},
   "source": [
    "### create the map\n",
    "\n",
    "Please note: the `info` is now processed with the function above: `prettyHtml()`"
   ]
  },
  {
   "cell_type": "code",
   "execution_count": null,
   "metadata": {},
   "outputs": [],
   "source": [
    "myMap = folium.Map(location=[50, 10], zoom_start=4)\n",
    "mc = MarkerCluster()\n",
    "for idx in members.index.values:\n",
    "    try:\n",
    "        lat = members.iloc[idx].latitude\n",
    "        lon = members.iloc[idx].longitude    \n",
    "        info = prettyHtml(members[members.index == idx].T.to_html())\n",
    "        marker = folium.Marker(location=[lat, lon], popup=info) \n",
    "        mc.add_child(marker)\n",
    "    except:\n",
    "        pass\n",
    "    \n",
    "myMap.add_child(mc)"
   ]
  },
  {
   "cell_type": "code",
   "execution_count": null,
   "metadata": {},
   "outputs": [],
   "source": []
  },
  {
   "cell_type": "code",
   "execution_count": null,
   "metadata": {},
   "outputs": [],
   "source": []
  }
 ],
 "metadata": {
  "kernelspec": {
   "display_name": "Python 3",
   "language": "python",
   "name": "python3"
  },
  "language_info": {
   "codemirror_mode": {
    "name": "ipython",
    "version": 3
   },
   "file_extension": ".py",
   "mimetype": "text/x-python",
   "name": "python",
   "nbconvert_exporter": "python",
   "pygments_lexer": "ipython3",
   "version": "3.8.6"
  },
  "toc": {
   "base_numbering": 1,
   "nav_menu": {},
   "number_sections": false,
   "sideBar": true,
   "skip_h1_title": false,
   "title_cell": "Table of Contents",
   "title_sidebar": "Contents",
   "toc_cell": false,
   "toc_position": {
    "height": "calc(100% - 180px)",
    "left": "10px",
    "top": "150px",
    "width": "165px"
   },
   "toc_section_display": true,
   "toc_window_display": true
  }
 },
 "nbformat": 4,
 "nbformat_minor": 2
}
