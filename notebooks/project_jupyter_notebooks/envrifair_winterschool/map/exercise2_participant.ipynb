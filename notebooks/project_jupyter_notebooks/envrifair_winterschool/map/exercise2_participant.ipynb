{
 "cells": [
  {
   "cell_type": "markdown",
   "metadata": {},
   "source": [
    "<img src='../images/logo.png'>"
   ]
  },
  {
   "cell_type": "markdown",
   "metadata": {},
   "source": [
    "# Map with workshop members\n",
    "\n",
    "In this demo, we will take all the members' location to plot on a map.\n",
    "Could we please ask you to fill in your details. If you don't feel comfortable\n",
    "giving us this information, you can create a 'fake' one (with sensible values)\n",
    "Open this link, and add your information\n",
    "https://fileshare.icos-cp.eu/apps/onlyoffice/s/ByCDKPH8LC5Jqz4\n",
    "\n",
    "If you don't know your location you can check out this site: https://mylocation.org/"
   ]
  },
  {
   "cell_type": "code",
   "execution_count": null,
   "metadata": {
    "collapsed": false
   },
   "outputs": [],
   "source": [
    "# import libraries\n",
    "import pandas as pd\n",
    "import folium\n",
    "from folium.plugins import MarkerCluster"
   ]
  },
  {
   "cell_type": "markdown",
   "metadata": {},
   "source": [
    "## Read the members file"
   ]
  },
  {
   "cell_type": "code",
   "execution_count": null,
   "metadata": {
    "collapsed": false
   },
   "outputs": [],
   "source": [
    "members = pd.read_csv('members.csv')"
   ]
  },
  {
   "cell_type": "code",
   "execution_count": null,
   "metadata": {
    "collapsed": false,
    "scrolled": true
   },
   "outputs": [],
   "source": [
    "members"
   ]
  },
  {
   "cell_type": "markdown",
   "metadata": {},
   "source": [
    "# Create a map\n",
    "The map created will be centered on the location of the ICOS Carbon Portal offices at Lund University with (latitude, longitude) = (55.709, 13.201)"
   ]
  },
  {
   "cell_type": "code",
   "execution_count": null,
   "metadata": {
    "collapsed": false
   },
   "outputs": [],
   "source": [
    "myMap = folium.Map(location=[55.709, 13.201], zoom_start=4)\n",
    "myMap"
   ]
  },
  {
   "cell_type": "markdown",
   "metadata": {},
   "source": [
    "## Create markers and context\n",
    "MarkerCluster is a folium plugin to declutter your map if you have too many markers in one spot.\n",
    "(check the libraries imported above..)\n",
    "\n",
    "\n",
    "https://python-visualization.github.io/folium/plugins.html\n",
    "\n",
    "We loop through the members (available as pandas data frame, see above). We will select each row,\n",
    "extract latitude and longitude to create a marker, and we will add all the information from the\n",
    "row as a html table. The Marker is then added to the 'MarkerCluster' and finally we add the 'MarkerCluster' to the map."
   ]
  },
  {
   "cell_type": "code",
   "execution_count": null,
   "metadata": {
    "collapsed": false
   },
   "outputs": [],
   "source": [
    "mc = MarkerCluster()\n",
    "for idx in members.index.values:\n",
    "    try:\n",
    "        lat = members.iloc[idx].latitude\n",
    "        lon = members.iloc[idx].longitude    \n",
    "        info = members[members.index == idx].T.to_html()    \n",
    "\n",
    "        marker = folium.Marker(location=[lat, lon],popup=info) \n",
    "        mc.add_child(marker)\n",
    "    except:\n",
    "        pass\n",
    "    \n",
    "myMap.add_child(mc)"
   ]
  },
  {
   "cell_type": "markdown",
   "metadata": {},
   "source": [
    "# Save the map to a standard html file.\n",
    "You can simply save the map to html file. You can download the file to your computer and run in your browser. There is no need to have Jupyter or Python or anything installed.\n",
    "You will need an internet connection though. It is as simple as `myMap.save(\"map.html\")`"
   ]
  },
  {
   "cell_type": "code",
   "execution_count": null,
   "metadata": {
    "collapsed": false
   },
   "outputs": [],
   "source": [
    "import os\n",
    "folder = os.path.join(os.path.expanduser('~'), 'output/envrifair/')\n",
    "if not os.path.exists(folder):\n",
    "    os.makedirs(folder)\n",
    "file = os.path.join(folder, 'myMap.html')\n",
    "myMap.save(file)"
   ]
  }
 ],
 "metadata": {
  "kernelspec": {
   "display_name": "Python 3",
   "language": "python",
   "name": "python3"
  },
  "language_info": {
   "codemirror_mode": {
    "name": "ipython",
    "version": 3
   },
   "file_extension": ".py",
   "mimetype": "text/x-python",
   "name": "python",
   "nbconvert_exporter": "python",
   "pygments_lexer": "ipython3",
   "version": "3.8.6"
  },
  "toc": {
   "base_numbering": 1,
   "nav_menu": {},
   "number_sections": false,
   "sideBar": true,
   "skip_h1_title": false,
   "title_cell": "Table of Contents",
   "title_sidebar": "Contents",
   "toc_cell": false,
   "toc_position": {
    "height": "calc(100% - 180px)",
    "left": "10px",
    "top": "150px",
    "width": "194px"
   },
   "toc_section_display": true,
   "toc_window_display": true
  }
 },
 "nbformat": 4,
 "nbformat_minor": 4
}
