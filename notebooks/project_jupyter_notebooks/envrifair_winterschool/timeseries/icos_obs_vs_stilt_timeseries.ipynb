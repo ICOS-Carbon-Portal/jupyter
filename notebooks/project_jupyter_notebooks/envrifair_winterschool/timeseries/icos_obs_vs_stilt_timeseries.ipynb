{
 "cells": [
  {
   "cell_type": "markdown",
   "metadata": {},
   "source": [
    "<a id='intro'></a>\n",
    "<img src='../images/logo.png'>\n",
    "<br>\n",
    "<br>\n",
    "<br>\n",
    "    \n",
    "# <font color='CD9202'>Part II</font><font color='lightgray'> - </font><font color='navyblue'>ICOS obs vs STILT model output</font>\n",
    "    \n",
    "\n",
    "<br>\n",
    "<br>\n",
    "<br>\n",
    "\n",
    "In this part of the webinar, we will work with two types of ICOS data products: observations of greenhouse gas concentrations and outputs from an atmospheric model called STILT. More in particular, this notebook is dedicated to accessing ICOS data and metadata for CO$_2$-concentrations measured at ICOS atmosphere stations as well as accessing simulated CO$_2$-concentrations from [STILT](https://www.icos-cp.eu/data-services/tools/stilt-footprint\n",
    ") model outputs (elaborated data product). Data and metadata will be accessed using the icoscp Python library. You will get a chance to compare simulated CO$_2$-concentrations to observed CO$_2$-concentrations and assess how well the simulated values fit the real observations.\n",
    "\n",
    "Throughout the different steps included in this notebook, you will get an impression of how ICOS deals with data provenance and get some ideas on how to utilize metadata information in data analysis processes as well as in data visualizations. \n",
    "\n",
    "The notebook is divided into the following parts:\n",
    "- [Explore ICOS atmosphere stations](#explore_icos_as)\n",
    "- [Import Python modules & ICOS tools](#import_modules)\n",
    "- [Access observations](#access_st_data)\n",
    "- [Plot observations](#plot_st_data)\n",
    "- [Analyze observations](#data_analysis)\n",
    "- [Access model output](#model_output)\n",
    "- [Compare model output to observations](#model_output_vs_observations)\n",
    "\n",
    "<br>\n",
    "<br>"
   ]
  },
  {
   "cell_type": "markdown",
   "metadata": {},
   "source": [
    "<a id='explore_icos_as'></a>\n",
    "\n",
    "## 1. Explore ICOS atmosphere stations\n",
    "\n",
    "To get an overview of the available ICOS data products and the stations that produce them, go to: https://www.icos-cp.eu/ <br>\n",
    "In the top menu, select: **OBSERVATIONS** --- > **Atmosphere stations**\n",
    "<br><br>\n",
    "<img src='../images/icoscp_obs.png' width=600> <br><br>\n",
    "Scroll down to the map and hover over the markers with your mouse. The pop up message includes a selection of the most important metadata in relation to a station (incl. the station 3-character code):\n",
    "<br><img src='../images/icos_as_map.png' width=350 height=350><br><br>\n",
    "ICOS stores rich metadata for every station and its corresponding data products. The icoscp Python library was developed to make it easy for users to access this descriptive information, and use it to create informative illustrations of where the data measurements come from (see exercise with maps) as well as interactive visualizations of the measurements themselves and their related metadata (e.g. quality flags, citation string, etc.).<br>\n",
    "As an exercise for this module, you will choose a station from the ICOS website and use its corresponding 3-character code to extract metadata about it with the help of the icoscp library.\n",
    "\n",
    "<br>\n",
    "\n",
    "As STILT model outputs are not necessarily available for all ICOS stations for all years, we present an indicative list from which you can select stations from:\n",
    "\n",
    "| ICOS station id | sampling height | STILT station id | ICOS station name |\n",
    "|-----------------|-----------------|------------------|-------------------|\n",
    "|HTM|150|HTM150|Hyltemossa|\n",
    "|KRE|250|KRE250|Kresin u Pacova|\n",
    "|OPE|120|OPE120|Observatoire perenne d l'environnement|\n",
    "|SAC|100|SAC100|Saclay|\n",
    "|TOH|147|TOH147|Torfhaus|\n",
    "|SVB|150|SVB150|Svartberget|\n",
    "|SMR|125|SMR125|Hyytiälä|\n",
    "|KIT|200|KIT200|Karlsruhe|\n",
    "|LIN|98|LIN099|Lindenberg|"
   ]
  },
  {
   "cell_type": "markdown",
   "metadata": {},
   "source": [
    "<div style=\"text-align: right\"><a href=\"#intro\">Back to top</a></div>\n",
    "<a id='import_modules'></a>\n",
    "<br>\n",
    "<br>\n",
    "\n",
    "## 2. Import modules & ICOS tools\n",
    "In the next code-cell, we will import all Python modules needed for executing all operations included in this notebook. We will also import a set of modules that have been specially developed by the ICOS Carbon Portal Team to process ICOS data (e.g. modules from the icoscp library)."
   ]
  },
  {
   "cell_type": "code",
   "execution_count": null,
   "metadata": {
    "collapsed": false
   },
   "outputs": [],
   "source": [
    "#Import modules:\n",
    "import pandas as pd\n",
    "from pandas.tseries.frequencies import to_offset\n",
    "from bokeh.io import show, output_notebook, reset_output\n",
    "\n",
    "#Import ICOS tools:\n",
    "from icoscp.cpb.dobj import Dobj\n",
    "\n",
    "#Import STILT tools:\n",
    "from icoscp.stilt import stiltstation\n",
    "\n",
    "#Import Bokeh supporting tools:\n",
    "from modules.bokeh_funcs import add_bokeh_label, plot_icos_single_station_binary, plot_ps_timeseries\n",
    "\n",
    "#Set outputlocation for Bokeh plots:\n",
    "reset_output()\n",
    "output_notebook()"
   ]
  },
  {
   "cell_type": "markdown",
   "metadata": {},
   "source": [
    "<div style=\"text-align: right\"><a href=\"#intro\">Back to top</a></div>\n",
    "<a id='access_st_data'></a>\n",
    "<br>\n",
    "<br>\n",
    "\n",
    "## 3. Access observations\n",
    "Our next step is to extract observed CO$_2$-concentration data from the selected station. Every data object has a unique Persistent Identifier (PID) assigned to it. The icoscp library allows you to get access to data using PIDs. We will visit the ICOS Data Portal to get the PID for the dataset we want. \n",
    "\n",
    "### 3.1. Explore search form in data portal \n",
    "#### 3.1.1\n",
    "Enter the following URL (https://www.icos-cp.eu/) and click on the tabs that are presented in the image below: \n",
    "<br>\n",
    "<img src='../images/dataportal.png' width=600>\n",
    "<br>\n",
    "\n",
    "#### 3.1.2\n",
    "This will bring up the data search application page (see image below).\n",
    "<br>\n",
    "<img src='../images/dataportal_search.png' width=600>\n",
    "<br>\n",
    "\n",
    "#### 3.1.3\n",
    "Enter the following information in the corresponding fields of the search form at the left-hand side of the page:\n",
    "<img src='../images/dataportal_form_search.png' width=650>\n",
    "<br>\n",
    "\n",
    "#### 3.1.4\n",
    "Once you have finished entering all the information in the form, click on the dataset in the results field (right side of your webpage) as indicated in the image below:\n",
    "<br>\n",
    "<img src='../images/datasearch_selection.PNG' width=600>\n",
    "<br>\n",
    "\n",
    "#### 3.1.5\n",
    "After clicking on the dataset name, you will be redirected to the *data object's landing page*. This page includes summarized information (metadata) that describes the selected dataset. Here you can also get access to previous versions of the dataset. You will now copy the PID-value (see highlighted text in next image) and paste it in the notebook. \n",
    "<br>\n",
    "<img src='../images/pid.PNG' width=600>\n",
    "<br>\n",
    "<br>\n",
    "\n",
    "### 3.2. Use data object PID to access the data\n",
    "Enter your copied PID string as an input parameter to the ```Dobj()``` data object retrieval method. Note that it is up to you to enter the plain PID string or the corresponding full URL. The method will work either way."
   ]
  },
  {
   "cell_type": "code",
   "execution_count": null,
   "metadata": {
    "collapsed": false
   },
   "outputs": [],
   "source": [
    "#Call method to get a data object containing\n",
    "#data & metadata info for the selected data product:\n",
    "dobj = Dobj('11676/IM7PJYcuhiBpHtvEVuLhVk2M')"
   ]
  },
  {
   "cell_type": "markdown",
   "metadata": {},
   "source": [
    "<br>\n",
    "\n",
    "### 3.3. Get the data (time series)\n",
    "Call the ```data``` attribute of the data object, to get a data frame containing the CO$_2$-concentration time series. The output displays the 5 first and 5 last rows of the data frame."
   ]
  },
  {
   "cell_type": "code",
   "execution_count": null,
   "metadata": {
    "collapsed": false
   },
   "outputs": [],
   "source": [
    "#Get data for this object:\n",
    "dobj.data"
   ]
  },
  {
   "cell_type": "markdown",
   "metadata": {},
   "source": [
    "<br>\n",
    "\n",
    "### 3.4. Filter data based on metadata values\n",
    "In the next example, we will filter CO$_2$-measurements based on their corresponding quality flag values. The table below presents a description of every flag value:\n",
    "\n",
    "<br>\n",
    "\n",
    "| Quality Flag | Description |\n",
    "|--------------|-------------|\n",
    "|U|Data correct before manual quality control|\n",
    "|O|Data correct after manual quality control|\n",
    "|N|Data incorrect before manual quality control|\n",
    "|K|Data incorrect after manual quality control|\n",
    "\n",
    "For more detailed information regarding the quality flags, please read [Hazan et. al, 2016], https://doi.org/10.5194/amt-9-4719-2016"
   ]
  },
  {
   "cell_type": "code",
   "execution_count": null,
   "metadata": {
    "collapsed": false
   },
   "outputs": [],
   "source": [
    "#Filter observations using quality flag values:\n",
    "dobj.data.co2.loc[dobj.data.Flag=='O']"
   ]
  },
  {
   "cell_type": "markdown",
   "metadata": {},
   "source": [
    "<br>\n",
    "\n",
    "### 3.4. Explore the available metadata \n",
    "On the landing page The data object’s metadata is accessible with the help of the ```meta``` attribute. The metadata is stored in a dictionary, with information about the data file, its content, and the station where the data was collected. The following code examples, and further below, shows how data can explored:"
   ]
  },
  {
   "cell_type": "code",
   "execution_count": null,
   "metadata": {
    "collapsed": false
   },
   "outputs": [],
   "source": [
    "#The metadata dictionary keys are:\n",
    "dobj.meta.keys()"
   ]
  },
  {
   "cell_type": "code",
   "execution_count": null,
   "metadata": {
    "collapsed": false
   },
   "outputs": [],
   "source": [
    "#The PID to the data object\n",
    "dobj.meta['pid'] "
   ]
  },
  {
   "cell_type": "code",
   "execution_count": null,
   "metadata": {
    "collapsed": false
   },
   "outputs": [],
   "source": [
    "#The 'accessUrl' key gives a link where the data can be downloaded  \n",
    "dobj.meta['accessUrl']"
   ]
  },
  {
   "cell_type": "code",
   "execution_count": null,
   "metadata": {
    "collapsed": false
   },
   "outputs": [],
   "source": [
    "#The key 'coverageGeo' holds information on the geographical position of the station:\n",
    "dobj.meta['coverageGeo']"
   ]
  },
  {
   "cell_type": "code",
   "execution_count": null,
   "metadata": {
    "collapsed": false
   },
   "outputs": [],
   "source": [
    "#Under 'specificInfo' we have info about the station and about the data itself:\n",
    "dobj.meta['specificInfo']"
   ]
  },
  {
   "cell_type": "code",
   "execution_count": null,
   "metadata": {
    "collapsed": false
   },
   "outputs": [],
   "source": [
    "# or we can use the property .variables\n",
    "dobj.variables"
   ]
  },
  {
   "cell_type": "markdown",
   "metadata": {},
   "source": [
    "<div style=\"text-align: right\"><a href=\"#intro\">Back to top</a></div>\n",
    "<a id='plot_st_data'></a>\n",
    "<br>\n",
    "<br>\n",
    "\n",
    "## 4. Plot observations\n",
    "In this part, you will learn how to create quick plots of your dataset. You will also view examples of how the data object's metadata can be used to provide the plot with a title, axes labels and a legend. \n",
    "\n",
    "One way of promoting the FAIRness of your data products is by creating interactive visualizations of your data and metadata. Part 4.5 presents an example of such a visualization. \n",
    "<br>\n",
    "\n",
    "### 4.1. Simple plot\n",
    "Produce a simple plot using the Python pandas built-in function ```plot()```. Enter the name of the column that stores the time information as the value of the *x* input parameter. Enter the name of the column that stores the CO$_2$-concentration as the corresponding value of the *y* input parameter."
   ]
  },
  {
   "cell_type": "code",
   "execution_count": null,
   "metadata": {
    "collapsed": false
   },
   "outputs": [],
   "source": [
    "#Plot CO2 time series:\n",
    "dobj.data.plot(x='TIMESTAMP', y='co2')"
   ]
  },
  {
   "cell_type": "markdown",
   "metadata": {},
   "source": [
    "<br>\n",
    "\n",
    "### 4.2. Use station metadata to add title and labels to the plot\n",
    "The plot will be much more pleasing and useful if we add a title and a  y-axis label. Using Python’s ```+``` operator, we will concatenate strings of metadata items to produce the text for the plot's title."
   ]
  },
  {
   "cell_type": "code",
   "execution_count": null,
   "metadata": {
    "collapsed": false
   },
   "outputs": [],
   "source": [
    "#Label for the data\n",
    "label_of_data = dobj.meta['specification']['self']['label']\n",
    "\n",
    "#Name of station. Here it is relevant to mention that the dictionary dobj.station is \n",
    "#a shortname for dobj.meta['specificInfo']['acquisition']['station'] \n",
    "station_name = dobj.station['org']['name']  \n",
    "\n",
    "sampling_height = str(dobj.meta['specificInfo']['acquisition']['samplingHeight'])\n",
    "\n",
    "# title\n",
    "plot_title=label_of_data + ' (' + station_name + ', ' + sampling_height + 'm)'\n",
    "\n",
    "# unit\n",
    "dobj.variables.set_index('name', inplace=True)\n",
    "y_unit = dobj.variables.loc['co2']['unit']\n",
    "\n",
    "#Use station metadata to add a title & an y-axis label to the plot:\n",
    "dobj.data.plot(x='TIMESTAMP', y='co2',\n",
    "               title=plot_title,\n",
    "               ylabel=y_unit)"
   ]
  },
  {
   "cell_type": "markdown",
   "metadata": {},
   "source": [
    "<br>\n",
    "\n",
    "### 4.3. Change the size of the plot\n",
    "By default, the plots are quite small and compact. Especially when displaying long time series, it can be very useful to make the plot larger, using the figsize parameter."
   ]
  },
  {
   "cell_type": "code",
   "execution_count": null,
   "metadata": {
    "collapsed": false
   },
   "outputs": [],
   "source": [
    "#Change the size of the plot:\n",
    "x = dobj.data.plot(x='TIMESTAMP', y='co2', figsize=(16,8),\n",
    "               title=plot_title,\n",
    "               ylabel=y_unit)"
   ]
  },
  {
   "cell_type": "markdown",
   "metadata": {},
   "source": [
    "<br>\n",
    "\n",
    "### 4.4. Add citation\n",
    "In order to be *FAIR*, we need to properly cite the data in our plot. Every data object includes an attribute with the corresponding citation string."
   ]
  },
  {
   "cell_type": "code",
   "execution_count": null,
   "metadata": {
    "collapsed": false
   },
   "outputs": [],
   "source": [
    "#Add data citation to your plot:\n",
    "dobj.citation"
   ]
  },
  {
   "cell_type": "markdown",
   "metadata": {},
   "source": [
    "<br>\n",
    "\n",
    "### 4.5. Interactive plot - using ICOS tools\n",
    "Finally, by setting up interactive visualizations you allow for eye-catching and interesting ways for end users to investigate and explore your data and metadata. This example uses the Bokeh visualization library."
   ]
  },
  {
   "cell_type": "code",
   "execution_count": null,
   "metadata": {
    "collapsed": false
   },
   "outputs": [],
   "source": [
    "#Call function to get plot object:\n",
    "p = plot_icos_single_station_binary(dobj, 'co2', glyph='line', color='#0F0C08') #line/point\n",
    "\n",
    "#Show interactive plot:\n",
    "show(p)"
   ]
  },
  {
   "cell_type": "markdown",
   "metadata": {},
   "source": [
    "<div style=\"text-align: right\"><a href=\"#intro\">Back to top</a></div>\n",
    "<a id='data_analysis'></a>\n",
    "<br>\n",
    "<br>\n",
    "\n",
    "## 5. Analyzing observations\n",
    "The next code-cells show how to get summarized statistics over the content of a data frame as well as how to produce some aggregated statistics (e.g. monthly means & monthly standard deviation) using some Python pandas built-in functions.\n",
    "<br>\n",
    "\n",
    "### 5.1. View summarized statistics\n",
    "Use the Python pandas built-in method ```describe()```, to view summarized statistics for a column of your choice (e.g. co2)"
   ]
  },
  {
   "cell_type": "code",
   "execution_count": null,
   "metadata": {
    "collapsed": false
   },
   "outputs": [],
   "source": [
    "#View summarized statistics for co2 observations:\n",
    "dobj.data.co2.describe()"
   ]
  },
  {
   "cell_type": "markdown",
   "metadata": {},
   "source": [
    "<br>\n",
    "\n",
    "### 5.2. Set time as index\n",
    "By default pandas dataframes have a numeric index. When it comes to processing time series of data, several Python pandas built-in functions require the dataframe to have time as index. The code-cell below shows how you can select a column with time information as index."
   ]
  },
  {
   "cell_type": "code",
   "execution_count": null,
   "metadata": {
    "collapsed": false
   },
   "outputs": [],
   "source": [
    "#Set time as index:\n",
    "co2_df = dobj.data.set_index('TIMESTAMP')\n",
    "\n",
    "#Show data frame (5 first rows):\n",
    "co2_df.head(5)"
   ]
  },
  {
   "cell_type": "markdown",
   "metadata": {},
   "source": [
    "<br>\n",
    "\n",
    "### 5.3. Calculate monthly means\n",
    "Use the Python pandas built-in method ```resample()```, with ```'M'``` as an input parameter, to aggregate the values in your selected data frame column per month. Then use the Python pandas built-in method ```mean()``` to calculate the monthly mean of these values. By adding ```dropna()``` built-in method, you instruct the program to disregard NaN-values. After you have produced the aggregated monthly values, assign them to the middle of the month using the built-in functions ```offsets.MonthBegin()``` and ```to_offset()```."
   ]
  },
  {
   "cell_type": "code",
   "execution_count": null,
   "metadata": {
    "collapsed": false
   },
   "outputs": [],
   "source": [
    "#Calculate montly mean:\n",
    "co2_monthly_mean = co2_df.co2.resample('M').mean().dropna()\n",
    "\n",
    "#Assign monthly mean value to mid of month:\n",
    "co2_monthly_mean.index = co2_monthly_mean.index - pd.offsets.MonthBegin(1) + to_offset(pd.Timedelta(14, 'd'))"
   ]
  },
  {
   "cell_type": "markdown",
   "metadata": {},
   "source": [
    "<br>\n",
    "\n",
    "### 5.4. Calculate monthly standard deviation\n",
    "Use the Python pandas built-in method ```resample()```, with ```'M'``` as an input parameter, to aggregate the values in your selected data frame column per month. Then use the Python pandas built-in method ```std()``` to calculate the monthly standard deviation of these values. By adding ```dropna()``` built-in method, you instruct the program to disregard NaN-values."
   ]
  },
  {
   "cell_type": "code",
   "execution_count": null,
   "metadata": {
    "collapsed": false
   },
   "outputs": [],
   "source": [
    "#Calculate standard deviation per month:\n",
    "myStation_monthly_std = co2_df.co2.resample('M').std().dropna()\n",
    "\n",
    "#Assign standard deviation value to mid of month:\n",
    "myStation_monthly_std.index = myStation_monthly_std.index - pd.offsets.MonthBegin(1) + to_offset(pd.Timedelta(14, 'd'))"
   ]
  },
  {
   "cell_type": "markdown",
   "metadata": {},
   "source": [
    "<br>\n",
    "\n",
    "### 5.5 Plot monthly means & standard deviation"
   ]
  },
  {
   "cell_type": "code",
   "execution_count": null,
   "metadata": {
    "collapsed": false
   },
   "outputs": [],
   "source": [
    "#Plot monthly means:\n",
    "co2_plot = co2_monthly_mean.plot(kind='line',figsize=(16,8),linestyle = '--',\n",
    "                                 title=plot_title,\n",
    "                                 ylabel=y_unit)\n",
    "\n",
    "#Add standard deviation info to plot:\n",
    "co2_plot.fill_between(co2_monthly_mean.index,\n",
    "                      co2_monthly_mean-myStation_monthly_std,\n",
    "                      co2_monthly_mean+myStation_monthly_std,\n",
    "                      color='lightblue', alpha=0.8)"
   ]
  },
  {
   "cell_type": "markdown",
   "metadata": {},
   "source": [
    "<div style=\"text-align: right\"><a href=\"#intro\">Back to top</a></div>\n",
    "<a id='model_output'></a>\n",
    "<br>\n",
    "<br>\n",
    "\n",
    "## 6. Accessing model output\n",
    "Now we are going to access and visualize CO$_2$ concentrations calculated using the STILT model, for the same station and time period that we used above to look at observations, with the goal to compare the two time series.\n",
    "\n",
    "### 6.1. Access STILT model output\n",
    "First we need to specify the \"station\" that the STILT calculations were done for. In this example, we picked the station of Gartow with an inlet height of 344 meters (i.e. meters above ground level where the measuring instrument is installed at). The corresponding STILT station ID is *GAT344* and we use the function ```stiltstation.get()``` to create a ```stiltobject```.\n"
   ]
  },
  {
   "cell_type": "code",
   "execution_count": null,
   "metadata": {
    "collapsed": false
   },
   "outputs": [],
   "source": [
    "#Create STILT-object:\n",
    "station = 'GAT344'\n",
    "sobj = stiltstation.get(id = station)"
   ]
  },
  {
   "cell_type": "markdown",
   "metadata": {},
   "source": [
    "Using the STILT-object we can retrieve the timeseries using the function ```get_ts()```."
   ]
  },
  {
   "cell_type": "code",
   "execution_count": null,
   "metadata": {
    "collapsed": false
   },
   "outputs": [],
   "source": [
    "stilt_df = sobj.get_ts('2016-05-10','2020-05-31')\n",
    "stilt_df"
   ]
  },
  {
   "cell_type": "markdown",
   "metadata": {},
   "source": [
    "<br>\n",
    "\n",
    "### 6.2. Plot STILT model output (time series)\n",
    "Let’s create a simple plot, to get a quick impression of the time series:\n"
   ]
  },
  {
   "cell_type": "code",
   "execution_count": null,
   "metadata": {
    "collapsed": false
   },
   "outputs": [],
   "source": [
    "stilt_df['co2.stilt'].plot(title='STILT CO2 time series ('+station+')',\n",
    "                        ylabel='CO2 (ppm)')"
   ]
  },
  {
   "cell_type": "markdown",
   "metadata": {},
   "source": [
    "<div style=\"text-align: right\"><a href=\"#intro\">Back to top</a></div>\n",
    "<a id='model_output_vs_observations'></a>\n",
    "<br>\n",
    "<br>\n",
    "\n",
    "## 7. Compare model output to observations\n",
    "In this part, we will compare the STILT model output to real world observations (i.e. the ICOS observed CO$_2$-concentration dataset we worked with above), in order to determine how well the model performed for the selected station.\n",
    "\n",
    "<br>\n",
    "\n",
    "### 7.1. Plot model output time series and observation time series in same plot\n",
    "Our first step will be to visually inspect how well the model output fits the real observations. We will do this by plotting the data sets in the same plot."
   ]
  },
  {
   "cell_type": "code",
   "execution_count": null,
   "metadata": {
    "collapsed": false
   },
   "outputs": [],
   "source": [
    "ax = dobj.data.plot(x='TIMESTAMP', y='co2', figsize=(16,8),\n",
    "                    title=plot_title,\n",
    "                    ylabel=y_unit)\n",
    "\n",
    "stilt_df.plot(y='co2.stilt', ax=ax, title=plot_title + ' and STILT CO2 time series ('+station+')')"
   ]
  },
  {
   "cell_type": "markdown",
   "metadata": {},
   "source": [
    "<br>\n",
    "\n",
    "### 7.2. Calculate and plot the difference between model output & observations \n",
    "It is important to quantify the difference between the model output and the real observations. Even more important is to identify the date and time the largest deviations are observed, in order to determine the underlying reason behind this behaviour.\n",
    "\n",
    "In this part, we will calculate the difference between the two data sets by subtracting the values of one from the other. Before we move on to do this, we need to make sure that the data sets are harmonized (i.e. they have the same *units* and *temporal resolution*). The units are the same, but ICOS observations have an hourly temporal resolutions while the STILT model output has a 3-hourly temporal resolution.   "
   ]
  },
  {
   "cell_type": "markdown",
   "metadata": {},
   "source": [
    "#### 7.2.1. Harmonize datasets\n",
    "One way of harmonizing ICOS observations to 3-hourly intervals is to filter the ICOS observation data frame to only include values for the same time steps that the STILT model output provides results for."
   ]
  },
  {
   "cell_type": "code",
   "execution_count": null,
   "metadata": {
    "collapsed": false
   },
   "outputs": [],
   "source": [
    "#Select co2 observations in 3-hourly intervals:\n",
    "co2_3h_df = co2_df['co2'].loc[(co2_df['co2'].index.hour==0) |\n",
    "                              (co2_df['co2'].index.hour==3) |\n",
    "                              (co2_df['co2'].index.hour==6) |\n",
    "                              (co2_df['co2'].index.hour==9) |\n",
    "                              (co2_df['co2'].index.hour==12) |\n",
    "                              (co2_df['co2'].index.hour==15) |\n",
    "                              (co2_df['co2'].index.hour==18) |\n",
    "                              (co2_df['co2'].index.hour==21)]\n",
    "\n",
    "#Show the first rows of the series:\n",
    "co2_3h_df.head()"
   ]
  },
  {
   "cell_type": "markdown",
   "metadata": {},
   "source": [
    "#### 7.2.2. Calculate difference\n",
    "Now that the datasets are harmonized, you can subtract the simulated values from the observed values."
   ]
  },
  {
   "cell_type": "code",
   "execution_count": null,
   "metadata": {
    "collapsed": false
   },
   "outputs": [],
   "source": [
    "#Calculate diff:\n",
    "diff = co2_3h_df - stilt_df['co2.stilt']\n",
    "\n",
    "#Show output:\n",
    "diff"
   ]
  },
  {
   "cell_type": "markdown",
   "metadata": {},
   "source": [
    "#### 7.2.3. Alternative approach\n",
    "Just as an example we include an alternative way of to calculate the difference."
   ]
  },
  {
   "cell_type": "code",
   "execution_count": null,
   "metadata": {
    "collapsed": false
   },
   "outputs": [],
   "source": [
    "#Calculate diff_alternative:\n",
    "diff_alternative = co2_df['co2'] - stilt_df['co2.stilt']\n",
    "\n",
    "#Show output:\n",
    "diff_alternative"
   ]
  },
  {
   "cell_type": "markdown",
   "metadata": {},
   "source": [
    "Here we got many *NaN*-values (Not a Number), which we can remove."
   ]
  },
  {
   "cell_type": "code",
   "execution_count": null,
   "metadata": {
    "collapsed": false
   },
   "outputs": [],
   "source": [
    "diff_alternative.dropna(inplace=True)\n",
    "diff_alternative"
   ]
  },
  {
   "cell_type": "markdown",
   "metadata": {},
   "source": [
    "#### 7.2.4. Filter difference by time\n",
    "If you are particularly interested in inspecting the difference between simulated and observed values over a specific time period, you can filter the result to only contain values for that time period using the code below."
   ]
  },
  {
   "cell_type": "code",
   "execution_count": null,
   "metadata": {
    "collapsed": false
   },
   "outputs": [],
   "source": [
    "#Filter by time:\n",
    "#diff = diff.loc[datetime(2018,1,1):datetime(2019,1,1)]\n",
    "\n",
    "#Show result:\n",
    "#diff"
   ]
  },
  {
   "cell_type": "markdown",
   "metadata": {},
   "source": [
    "<br>\n",
    "\n",
    "#### 7.2.5. Plot difference \n",
    "\n",
    "##### 7.2.5.1. Plot difference (static plot)"
   ]
  },
  {
   "cell_type": "code",
   "execution_count": null,
   "metadata": {
    "collapsed": false
   },
   "outputs": [],
   "source": [
    "#Plot diff (static plot):\n",
    "diff.plot(figsize=(16,8), kind='line', linestyle=':', color='black',\n",
    "          title = 'Difference between ICOS observations & STILT model output',\n",
    "          xlabel='date', ylabel='ppm')"
   ]
  },
  {
   "cell_type": "markdown",
   "metadata": {},
   "source": [
    "##### 7.2.5.2. Plot diff (interactive plot)"
   ]
  },
  {
   "cell_type": "code",
   "execution_count": null,
   "metadata": {
    "collapsed": false
   },
   "outputs": [],
   "source": [
    "#Call function to get plot object:\n",
    "p2 = plot_ps_timeseries(diff, 'line',\n",
    "                        title = 'Difference between ICOS observations & STILT model output',\n",
    "                        xlabel='Time (UTC)', ylabel='ppm', color='#0F0C08')\n",
    "\n",
    "#Show interactive plot:\n",
    "show(p2)"
   ]
  },
  {
   "cell_type": "markdown",
   "metadata": {},
   "source": [
    "<font color='darkblue'>\n",
    "\n",
    "**Question:** Is this a good fit? What do you think? <br><br></font>\n",
    "As a first step towards answering this question, you may want to use Python pandas built-in method ```describe()``` for obtaining descriptive statistics over the dataset."
   ]
  },
  {
   "cell_type": "code",
   "execution_count": null,
   "metadata": {
    "collapsed": false
   },
   "outputs": [],
   "source": [
    "#Get descriptive statistics over the difference:\n",
    "diff.describe()"
   ]
  },
  {
   "cell_type": "markdown",
   "metadata": {},
   "source": [
    "Another way to test the goodness of fit between the STILT model output and the real observations, is to compute the *correlation* between the two datasets. Python pandas library includes a built-in method [```corr()```](https://pandas.pydata.org/pandas-docs/stable/reference/api/pandas.Series.corr.html) that computes the correlation between two datasets."
   ]
  },
  {
   "cell_type": "code",
   "execution_count": null,
   "metadata": {
    "collapsed": false
   },
   "outputs": [],
   "source": [
    "co2_3h_df.corr(stilt_df['co2.stilt'], method='pearson')"
   ]
  },
  {
   "cell_type": "code",
   "execution_count": null,
   "metadata": {
    "collapsed": false
   },
   "outputs": [],
   "source": [
    "#Attention! Make sure that you have performed the analysis over data from the same station:\n",
    "print('ICOS station:  ', dobj.station['id'],str(dobj.meta['specificInfo']['acquisition']['samplingHeight']))\n",
    "print('STILT station: ', sobj.id) "
   ]
  },
  {
   "cell_type": "markdown",
   "metadata": {},
   "source": [
    "<br>\n",
    "<br>\n",
    "\n",
    "If you are interested in continue exploring other methods of data processing and visualization, please have a look at the Jupyter Notebooks stored under the *icos_jupyter_notebooks* folder on https://exploredata.icos-cp.eu.\n",
    "\n",
    "<br>\n",
    "<br>\n",
    "\n",
    "<div style=\"text-align: right\"><a href=\"#intro\">Back to top</a></div>\n",
    "<br>\n",
    "<br>\n",
    "\n",
    "**Student name:** Karolina Pantazatou <br>\n",
    "**Affiliation:** ICOS Carbon Portal"
   ]
  },
  {
   "cell_type": "code",
   "execution_count": null,
   "metadata": {
    "collapsed": false
   },
   "outputs": [],
   "source": []
  }
 ],
 "metadata": {
  "kernelspec": {
   "display_name": "Python 3",
   "language": "python",
   "name": "python3"
  },
  "language_info": {
   "codemirror_mode": {
    "name": "ipython",
    "version": 3
   },
   "file_extension": ".py",
   "mimetype": "text/x-python",
   "name": "python",
   "nbconvert_exporter": "python",
   "pygments_lexer": "ipython3",
   "version": "3.8.6"
  },
  "toc": {
   "base_numbering": 1,
   "nav_menu": {},
   "number_sections": false,
   "sideBar": true,
   "skip_h1_title": false,
   "title_cell": "Table of Contents",
   "title_sidebar": "Contents",
   "toc_cell": false,
   "toc_position": {},
   "toc_section_display": true,
   "toc_window_display": false
  }
 },
 "nbformat": 4,
 "nbformat_minor": 4
}
