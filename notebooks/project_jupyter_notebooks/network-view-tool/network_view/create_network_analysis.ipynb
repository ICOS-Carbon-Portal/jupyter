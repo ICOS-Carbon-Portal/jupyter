{
 "cells": [
  {
   "cell_type": "markdown",
   "id": "59e189fa-dc2c-4cca-bcc1-b14b4f05154c",
   "metadata": {},
   "source": [
    "## Introduction\n",
    "\n",
    "It is possible to create a network from any of the stations in the station map. Use the <a href=\"https://stilt.icos-cp.eu/worker/\" target=\"blank\">on demand calculator</a> to create new stations. \n",
    "\n",
    "On exploredata, this tool is intended for analyses of shorter time-periods (1-3 months). Once a new network is created, it can be used directly in the network_view notebook. The network can also be extended using \"extend an existing network\". \n",
    "\n",
    "For longer time-periods, where all hours of the day (\"Time of day\") are analysed, please consider <a href=\"https://www.icos-cp.eu/jupyter-personal-account-application\" target=\"blank\">applying for a Jupyter account</a>. The tool is available there as well, but users have more resources. If the tool exceeds the resource limit here, the kernel will restart. To avoid this, users can free up memory from other notebooks that have been used (\"Kernel\" > \"Shut down all kernels\") and consider limit the \"Time of day\" to fewer hours. \n",
    "\n",
    "Please contact ida.storm@nateko.lu.se or jupyter-info@icos-cp.eu if there are problems or if you have questions. "
   ]
  },
  {
   "cell_type": "markdown",
   "id": "29033a81-f908-4838-977b-e923b1190aa3",
   "metadata": {},
   "source": [
    "### Station map"
   ]
  },
  {
   "cell_type": "code",
   "execution_count": null,
   "id": "7e7d8b43-8b3a-40c0-bfa0-80dea517b024",
   "metadata": {
    "tags": []
   },
   "outputs": [],
   "source": [
    "import station_map\n",
    "station_map.station_map()"
   ]
  },
  {
   "cell_type": "markdown",
   "id": "c48b4415-49c2-429e-aa62-beb5b3c2bbb0",
   "metadata": {
    "tags": []
   },
   "source": [
    "### Create a network"
   ]
  },
  {
   "cell_type": "code",
   "execution_count": null,
   "id": "7e5a8801-631a-4c0b-81ec-03055fd12416",
   "metadata": {},
   "outputs": [],
   "source": [
    "from importlib import reload\n",
    "if \"gui_create_network_view\" not in dir(): \n",
    "    import gui_create_network_view\n",
    "else:\n",
    "    reload(gui_create_network_view)"
   ]
  },
  {
   "cell_type": "markdown",
   "id": "e813369f-e6dd-48a7-8596-7dcfe1310568",
   "metadata": {},
   "source": [
    "### Extend an existing network \n",
    "\n",
    "Note that the time-period is automatically the time-period of the network that is extended. This means that extending the pre-computed current (\"current_2020\") or extended (\"extended_2020\") ICOS network will automatically use the full year, and all hours, 2020. For this, please consider <a href=\"https://www.icos-cp.eu/jupyter-personal-account-application\" target=\"blank\">applying for a Jupyter account</a> or free up memory from other notebooks (\"Kernel\" > \"Shut down all kernels\") before running the tool. "
   ]
  },
  {
   "cell_type": "code",
   "execution_count": null,
   "id": "dbba2aca-0112-4136-8d12-d41807a55e99",
   "metadata": {
    "tags": []
   },
   "outputs": [],
   "source": [
    "from importlib import reload\n",
    "if \"gui_create_network_view_from_extension\" not in dir(): \n",
    "    import gui_create_network_view_from_extension\n",
    "else:\n",
    "    reload(gui_create_network_view_from_extension)"
   ]
  }
 ],
 "metadata": {
  "kernelspec": {
   "display_name": "Python 3 (ipykernel)",
   "language": "python",
   "name": "python3"
  },
  "language_info": {
   "codemirror_mode": {
    "name": "ipython",
    "version": 3
   },
   "file_extension": ".py",
   "mimetype": "text/x-python",
   "name": "python",
   "nbconvert_exporter": "python",
   "pygments_lexer": "ipython3",
   "version": "3.10.6"
  }
 },
 "nbformat": 4,
 "nbformat_minor": 5
}
