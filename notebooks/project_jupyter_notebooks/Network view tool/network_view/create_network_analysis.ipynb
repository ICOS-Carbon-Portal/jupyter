{
 "cells": [
  {
   "cell_type": "markdown",
   "id": "c48b4415-49c2-429e-aa62-beb5b3c2bbb0",
   "metadata": {
    "tags": []
   },
   "source": [
    "### Create a network"
   ]
  },
  {
   "cell_type": "code",
   "execution_count": null,
   "id": "7e5a8801-631a-4c0b-81ec-03055fd12416",
   "metadata": {},
   "outputs": [],
   "source": [
    "import sys\n",
    "sys.path.append('./network_view')\n",
    "from importlib import reload\n",
    "if \"gui_create_network_view\" not in dir(): \n",
    "    import gui_create_network_view\n",
    "else:\n",
    "    reload(gui_create_network_view)"
   ]
  },
  {
   "cell_type": "markdown",
   "id": "e813369f-e6dd-48a7-8596-7dcfe1310568",
   "metadata": {},
   "source": [
    "### Extend an existing network "
   ]
  },
  {
   "cell_type": "code",
   "execution_count": null,
   "id": "dbba2aca-0112-4136-8d12-d41807a55e99",
   "metadata": {
    "tags": []
   },
   "outputs": [],
   "source": [
    "from importlib import reload\n",
    "if \"gui_create_network_view_from_extension\" not in dir(): \n",
    "    import gui_create_network_view_from_extension\n",
    "else:\n",
    "    reload(gui_create_network_view_from_extension)"
   ]
  }
 ],
 "metadata": {
  "kernelspec": {
   "display_name": "Python 3 (ipykernel)",
   "language": "python",
   "name": "python3"
  },
  "language_info": {
   "codemirror_mode": {
    "name": "ipython",
    "version": 3
   },
   "file_extension": ".py",
   "mimetype": "text/x-python",
   "name": "python",
   "nbconvert_exporter": "python",
   "pygments_lexer": "ipython3",
   "version": "3.10.6"
  }
 },
 "nbformat": 4,
 "nbformat_minor": 5
}
