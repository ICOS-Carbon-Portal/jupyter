{
 "cells": [
  {
   "cell_type": "markdown",
   "metadata": {},
   "source": [
    "<img src=\"img/logo.svg\" width=\"400\" align=\"right\"><br><img src=\"img/pangaea-logo.png\" width=\"150\" align=\"right\">\n",
    "\n",
    "# ICOS Carbon Portal\n",
    "# PANGAEA\n",
    "    \n",
    "\n",
    "# Example: Multisource\n"
   ]
  },
  {
   "cell_type": "markdown",
   "metadata": {},
   "source": [
    "## Documentation\n",
    "\n",
    "Full documentation for the ICOS library on the [project page](https://icos-carbon-portal.github.io/pylib/), how to install and wheel on [pypi.org](https://pypi.org/project/icoscp/), source available on [github](https://github.com/ICOS-Carbon-Portal/pylib).\n",
    "\n",
    "\n",
    "The Pangaea library is available on [pypi.org](https://pypi.org/project/pangaeapy/), source and documentation [github]\n",
    "(https://github.com/pangaea-data-publisher/pangaeapy).\n"
   ]
  },
  {
   "cell_type": "markdown",
   "metadata": {},
   "source": [
    "## Import libraries"
   ]
  },
  {
   "cell_type": "code",
   "execution_count": null,
   "metadata": {},
   "outputs": [],
   "source": [
    "# Import some standard libraries\n",
    "import matplotlib.pyplot as plt\n",
    "import folium\n",
    "import os\n",
    "import cartopy\n",
    "cartopy.config['data_dir'] = '/data/project/cartopy/'\n",
    "import cartopy.crs as ccrs\n",
    "import cartopy.feature as feat\n",
    "\n",
    "# Import ICOS and PANGAEA library\n",
    "from icoscp.cpb.dobj import Dobj\n",
    "from pangaeapy import PanDataSet"
   ]
  },
  {
   "cell_type": "markdown",
   "metadata": {},
   "source": [
    "## Multi Source\n",
    "\n",
    "This example highlights the possibility to use two independent data sets. One is loaded from the ICOS Carbon Portal, ocean domain and contains data from a boat traveling from Europe to Brazil. The second data set contains similar data, collected from another boat travelling from Europe to South America.\n",
    "\n",
    "This example was created as demonstrator and in support for <b>\"Integrating data and analysis technologies within leading environmental research infrastructures: Challenges and approaches\"</b>, Huber et al., 2021,  [https://doi.org/10.1016/j.ecoinf.2021.101245](https://doi.org/10.1016/j.ecoinf.2021.101245)"
   ]
  },
  {
   "cell_type": "markdown",
   "metadata": {},
   "source": [
    "## Loading data from ICOS and PANGAEA"
   ]
  },
  {
   "cell_type": "code",
   "execution_count": null,
   "metadata": {},
   "outputs": [],
   "source": [
    "icosdata = Dobj('https://meta.icos-cp.eu/objects/xgu4rfCmqvXb4w1wGGD6mYsB')\n",
    "icosdata_frame = icosdata.get()\n",
    "\n",
    "pandata = PanDataSet('10.1594/PANGAEA.889516')\n",
    "pandata_frame=pandata.data"
   ]
  },
  {
   "cell_type": "markdown",
   "metadata": {},
   "source": [
    "## Lets have a look at the data returned"
   ]
  },
  {
   "cell_type": "code",
   "execution_count": null,
   "metadata": {},
   "outputs": [],
   "source": [
    "icosdata_frame.head(3)"
   ]
  },
  {
   "cell_type": "code",
   "execution_count": null,
   "metadata": {},
   "outputs": [],
   "source": [
    "pandata_frame.head(3)"
   ]
  },
  {
   "cell_type": "markdown",
   "metadata": {},
   "source": [
    "## Plotting water temperature\n",
    "Now we can plot the water temperature from both campaigns into one plot. You will see the rise in temperature while traveling through the equator."
   ]
  },
  {
   "cell_type": "code",
   "execution_count": null,
   "metadata": {},
   "outputs": [],
   "source": [
    "plt.figure(figsize=(12,12))\n",
    "ax = plt.axes()\n",
    "icosdata_frame.plot(x='TIMESTAMP', y='Temp [degC]',ax=ax,linestyle='None', marker='o',grid='on',legend=True)\n",
    "pandata_frame.plot(x='Date/Time', y='Temp',ax=ax, linestyle='None', marker='o',grid='on')\n",
    "plt.show()"
   ]
  },
  {
   "cell_type": "markdown",
   "metadata": {},
   "source": [
    "## Interactive map (geolocation)\n",
    "To make more sense, of the data plot, we probably want to get a map. Using folium, which is the python interface to leaflet, we get a zoomable map, we can add different basemaps etc."
   ]
  },
  {
   "cell_type": "code",
   "execution_count": null,
   "metadata": {},
   "outputs": [],
   "source": [
    "# Extract the coordinates from both datasets\n",
    "icos_coord = list(zip(icosdata_frame.Latitude, icosdata_frame.Longitude))\n",
    "pan_coord = list(zip(pandata_frame.Latitude, pandata_frame.Longitude))\n",
    "\n",
    "# Create the map with two layers of tiles\n",
    "myMap = folium.Map(location=[20, 0], zoom_start=2)\n",
    "folium.TileLayer('openstreetmap').add_to(myMap)\n",
    "folium.TileLayer('stamenterrain').add_to(myMap)\n",
    "\n",
    "# add dataframe coordinates\n",
    "folium.PolyLine(locations = icos_coord,color='red').add_to(myMap)\n",
    "folium.PolyLine(locations = pan_coord, color='black').add_to(myMap)\n",
    "folium.LayerControl().add_to(myMap)\n",
    "myMap"
   ]
  },
  {
   "cell_type": "markdown",
   "metadata": {},
   "source": [
    "## Map, geolocation, colourcoded\n",
    "This time lets use cartopy and matplotlib, to create a figure displaying the boats movement where water temperature and location is combined. The water temperature is colour coded to the geolocation."
   ]
  },
  {
   "cell_type": "code",
   "execution_count": null,
   "metadata": {},
   "outputs": [],
   "source": [
    "proj=ccrs.cartopy.crs.Miller()\n",
    "plt.figure(dpi=150)\n",
    "ax = plt.axes(projection=proj)\n",
    "ax.set_extent([-60, 20, 40, -40])\n",
    "ax.stock_img()\n",
    "land_50m = feat.NaturalEarthFeature('physical', 'land', '50m',edgecolor='grey',facecolor=feat.COLORS['land'])\n",
    "ax.add_feature(land_50m)\n",
    "ax.coastlines()\n",
    "\n",
    "ax.scatter(pandata_frame['Longitude'],pandata_frame['Latitude'],c=pandata_frame['Temp'],s=0.2,transform=ccrs.PlateCarree())\n",
    "ax.scatter(icosdata_frame['Longitude'],icosdata_frame['Latitude'],c=icosdata_frame['Temp [degC]'],s=0.3,transform=ccrs.PlateCarree())\n",
    "plt.show()"
   ]
  },
  {
   "cell_type": "markdown",
   "metadata": {},
   "source": [
    "## Citing the data set"
   ]
  },
  {
   "cell_type": "code",
   "execution_count": null,
   "metadata": {},
   "outputs": [],
   "source": [
    "for references in [icosdata.citation, pandata.citation]:\n",
    "    print(references)"
   ]
  }
 ],
 "metadata": {
  "kernelspec": {
   "display_name": "Python 3 (ipykernel)",
   "language": "python",
   "name": "python3"
  },
  "language_info": {
   "codemirror_mode": {
    "name": "ipython",
    "version": 3
   },
   "file_extension": ".py",
   "mimetype": "text/x-python",
   "name": "python",
   "nbconvert_exporter": "python",
   "pygments_lexer": "ipython3",
   "version": "3.10.6"
  },
  "toc": {
   "base_numbering": 1,
   "nav_menu": {},
   "number_sections": false,
   "sideBar": true,
   "skip_h1_title": false,
   "title_cell": "Table of Contents",
   "title_sidebar": "Contents",
   "toc_cell": false,
   "toc_position": {
    "height": "calc(100% - 180px)",
    "left": "10px",
    "top": "150px",
    "width": "349.091px"
   },
   "toc_section_display": true,
   "toc_window_display": true
  }
 },
 "nbformat": 4,
 "nbformat_minor": 4
}
