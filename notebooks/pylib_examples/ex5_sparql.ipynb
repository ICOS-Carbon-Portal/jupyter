{
 "cells": [
  {
   "cell_type": "markdown",
   "metadata": {},
   "source": [
    "<img src='https://www.icos-cp.eu/sites/default/files/2017-11/ICOS_CP_logo.png' width=400 align=right>\n",
    "\n",
    "# ICOS Carbon Portal Python Libraries: icoscp_core\n",
    "\n",
    "This example uses a foundational library called `icoscp_core` which can be used to access time-series ICOS data that are <i>previewable</i> in the ICOS Data Portal. \"Previewable\" means that it is possible to visualize the data variables in the preview plot. The library can also be used to access (meta-)data from [ICOS Cities](https://citydata.icos-cp.eu/portal/) and [SITES](https://data.fieldsites.se/portal/) data repositories. \n",
    "\n",
    "Documentation of the library, including information on running it locally, can be found on [PyPI.org](https://pypi.org/project/icoscp_core/).\n",
    "\n",
    "# Example: Execute SPARQL queries for custom metadata searches\n",
    "\n",
    "**Note** that to develop and test the queries, it is convenient to use the [SPARQL client web app](https://meta.icos-cp.eu/sparqlclient/)"
   ]
  },
  {
   "cell_type": "markdown",
   "metadata": {},
   "source": [
    "## Import helpful functions"
   ]
  },
  {
   "cell_type": "code",
   "execution_count": null,
   "metadata": {},
   "outputs": [],
   "source": [
    "from icoscp_core.icos import meta\n",
    "from icoscp_core.sparql import as_string, as_opt_str, as_uri\n",
    "import pandas as pd"
   ]
  },
  {
   "cell_type": "markdown",
   "metadata": {},
   "source": [
    "## Discover ecosystem types"
   ]
  },
  {
   "cell_type": "code",
   "execution_count": null,
   "metadata": {},
   "outputs": [],
   "source": [
    "query = \"\"\"\n",
    "prefix rdfs: <http://www.w3.org/2000/01/rdf-schema#>\n",
    "prefix cpmeta: <http://meta.icos-cp.eu/ontologies/cpmeta/>\n",
    "select * where{\n",
    "    ?et a cpmeta:EcosystemType ; rdfs:label ?etName .\n",
    "    filter(strstarts(str(?et), \"http://meta.icos-cp.eu\")) # to filter out SITES instances\n",
    "    optional{?et rdfs:comment ?etComment}\n",
    "}\n",
    "\"\"\"\n",
    "\n",
    "eco_types = [\n",
    "    {\n",
    "        \"uri\": as_uri(\"et\", row),\n",
    "        \"name\": as_string(\"etName\", row),\n",
    "        \"comment\": as_opt_str(\"etComment\", row)\n",
    "    }\n",
    "    for row in meta.sparql_select(query).bindings\n",
    "]\n",
    "pd.DataFrame(eco_types)"
   ]
  },
  {
   "cell_type": "markdown",
   "metadata": {},
   "source": [
    "## Filter stations by ecosystem and country code\n",
    "\n",
    "Let us find stations in Deciduous Broadleaf Forests in Belgium, France, Germany, Italy."
   ]
  },
  {
   "cell_type": "code",
   "execution_count": null,
   "metadata": {},
   "outputs": [],
   "source": [
    "query = \"\"\"\n",
    "prefix cpmeta: <http://meta.icos-cp.eu/ontologies/cpmeta/>\n",
    "select ?s ?name where{\n",
    "    values ?countryCode {\"BE\" \"FR\" \"DE\" \"IT\"}\n",
    "    ?s cpmeta:hasEcosystemType <http://meta.icos-cp.eu/ontologies/cpmeta/igbp_DBF> ;\n",
    "        cpmeta:countryCode ?countryCode ;\n",
    "        cpmeta:hasName ?name .\n",
    "}\n",
    "\"\"\"\n",
    "selected_stations = {\n",
    "    as_uri(\"s\", row): as_string(\"name\", row)\n",
    "    for row in meta.sparql_select(query).bindings\n",
    "}\n",
    "selected_stations"
   ]
  },
  {
   "cell_type": "markdown",
   "metadata": {},
   "source": [
    "## Find interesting data objects\n",
    "\n",
    "For the selected stations, find `ETC L2 Fluxnet` (http://meta.icos-cp.eu/resources/cpmeta/etcL2Fluxnet) data objects that overlap with a chosen time interval"
   ]
  },
  {
   "cell_type": "code",
   "execution_count": null,
   "metadata": {},
   "outputs": [],
   "source": [
    "from icoscp_core.metaclient import TimeFilter\n",
    "\n",
    "start_date = '2023-01-01'\n",
    "end_date = '2023-12-31'\n",
    "\n",
    "data_objs = meta.list_data_objects(\n",
    "    datatype=\"http://meta.icos-cp.eu/resources/cpmeta/etcL2Fluxnet\",\n",
    "    station=list(selected_stations),\n",
    "    filters = [\n",
    "        TimeFilter(\"timeStart\", \"<\", f\"{end_date}T12:00:00Z\"),\n",
    "        TimeFilter(\"timeEnd\", \">\", f\"{start_date}T12:00:00Z\")\n",
    "    ]\n",
    ")\n",
    "pd.DataFrame(data_objs)"
   ]
  },
  {
   "cell_type": "markdown",
   "metadata": {},
   "source": [
    "## Pick an interesting variable and SPARQL for its unit of measurement\n",
    "\n",
    "The following query relies on the variable name being unique (i.e. not used in other data types). For non-unique variables, the query would need to be enhanced to give the variable the context of a data type."
   ]
  },
  {
   "cell_type": "code",
   "execution_count": null,
   "metadata": {},
   "outputs": [],
   "source": [
    "ts_col = \"TIMESTAMP\"\n",
    "nee_col = \"NEE_VUT_REF\"\n",
    "\n",
    "query = \"\"\"\n",
    "prefix cpmeta: <http://meta.icos-cp.eu/ontologies/cpmeta/>\n",
    "select ?unit where{\n",
    "    ?col cpmeta:hasColumnTitle \"NEE_VUT_REF\" ;\n",
    "        cpmeta:hasValueType/cpmeta:hasUnit ?unit .\n",
    "}\n",
    "\"\"\"\n",
    "\n",
    "nee_unit = [\n",
    "    as_string(\"unit\", row)\n",
    "    for row in meta.sparql_select(query).bindings\n",
    "][0]\n",
    "nee_unit"
   ]
  },
  {
   "cell_type": "markdown",
   "metadata": {},
   "source": [
    "## Import modules for subsequent data fetching and plotting"
   ]
  },
  {
   "cell_type": "code",
   "execution_count": null,
   "metadata": {},
   "outputs": [],
   "source": [
    "from icoscp_core.icos import data\n",
    "import numpy as np\n",
    "\n",
    "# bokeh for plotting the data\n",
    "from bokeh.plotting import figure, show\n",
    "from bokeh.layouts import gridplot, column, row\n",
    "from bokeh.io import output_notebook\n",
    "from bokeh.models import Div\n",
    "output_notebook()"
   ]
  },
  {
   "cell_type": "markdown",
   "metadata": {},
   "source": [
    "## Fetch data, plot the graphs"
   ]
  },
  {
   "cell_type": "code",
   "execution_count": null,
   "metadata": {},
   "outputs": [],
   "source": [
    "data_batch = data.batch_get_columns_as_arrays(data_objs, [ts_col, nee_col])\n",
    "\n",
    "figures = []\n",
    "\n",
    "for dobj, arrs in data_batch:\n",
    "\n",
    "    # prepare a date mask\n",
    "    mask = (arrs[ts_col] >= np.datetime64(start_date)) & (arrs[ts_col] <= np.datetime64(end_date))\n",
    "\n",
    "    # prepare columns with the date mask filter\n",
    "    cols = {col: arrs[col][mask] for col in [ts_col, nee_col]}\n",
    "    \n",
    "    fig = figure(plot_width=350, plot_height=300, title=selected_stations[dobj.station_uri], x_axis_type='datetime')\n",
    "    fig.circle(cols[ts_col], cols[nee_col], size=1, alpha=0.3)\n",
    "    fig.yaxis.axis_label = nee_unit\n",
    "    \n",
    "    figures.append(fig)\n",
    "\n",
    "rows_of_3 = [figures[i:i+3] for i in range(0, len(figures), 3)]\n",
    "\n",
    "title = Div(text='<h2>Net Ecosystem Exchange in selected deciduous broadleaf forest stations</h2>')\n",
    "\n",
    "show(column(title, gridplot(rows_of_3)))"
   ]
  },
  {
   "cell_type": "markdown",
   "metadata": {},
   "source": [
    "## Get a custom data-search sparql query from the portal app\n",
    "\n",
    "- Go to https://data.icos-cp.eu  and find datasets you want\n",
    "- Press the icon in the middle of the screen (see image below),  to copy your sparql query\n",
    "- Come back here and create the variable `query` \n",
    "\n",
    "<img src=\"img/sparql.png\" width=\"80%\">"
   ]
  },
  {
   "cell_type": "markdown",
   "metadata": {},
   "source": [
    "For the following example, we have searched for 20 latest data objects directly associated with a chosen keyword:\n",
    "\n",
    "https://data.icos-cp.eu/portal/#%7B%22filterKeywords%22%3A%5B%22AVENGERS%22%5D%7D\n",
    "\n"
   ]
  },
  {
   "cell_type": "code",
   "execution_count": null,
   "metadata": {},
   "outputs": [],
   "source": [
    "query = '''\n",
    "prefix cpmeta: <http://meta.icos-cp.eu/ontologies/cpmeta/>\n",
    "prefix prov: <http://www.w3.org/ns/prov#>\n",
    "prefix xsd: <http://www.w3.org/2001/XMLSchema#>\n",
    "prefix geo: <http://www.opengis.net/ont/geosparql#>\n",
    "select ?dobj ?hasNextVersion ?spec ?fileName ?size ?submTime ?timeStart ?timeEnd\n",
    "where {\n",
    "    ?spec cpmeta:hasDataLevel [] .\n",
    "    FILTER(STRSTARTS(str(?spec), \"http://meta.icos-cp.eu/\"))\n",
    "    FILTER NOT EXISTS {?spec cpmeta:hasAssociatedProject/cpmeta:hasHideFromSearchPolicy \"true\"^^xsd:boolean}\n",
    "    ?dobj cpmeta:hasObjectSpec ?spec .\n",
    "    BIND(EXISTS{[] cpmeta:isNextVersionOf ?dobj} AS ?hasNextVersion)\n",
    "    ?dobj cpmeta:hasSizeInBytes ?size .\n",
    "    ?dobj cpmeta:hasName ?fileName .\n",
    "    ?dobj cpmeta:wasSubmittedBy/prov:endedAtTime ?submTime .\n",
    "    ?dobj cpmeta:hasStartTime | (cpmeta:wasAcquiredBy / prov:startedAtTime) ?timeStart .\n",
    "    ?dobj cpmeta:hasEndTime | (cpmeta:wasAcquiredBy / prov:endedAtTime) ?timeEnd .\n",
    "    FILTER NOT EXISTS {[] cpmeta:isNextVersionOf ?dobj}\n",
    "    VALUES ?keyword {\"AVENGERS\"^^xsd:string}\n",
    "    ?dobj cpmeta:hasKeyword ?keyword\n",
    "}\n",
    "order by desc(?submTime)\n",
    "offset 0 limit 20\n",
    "\n",
    "'''\n",
    "\n",
    "dobjs = [\n",
    "    (as_uri(\"dobj\", row), as_string(\"fileName\", row))\n",
    "    for row in meta.sparql_select(query).bindings\n",
    "]\n",
    "dobjs"
   ]
  }
 ],
 "metadata": {
  "kernelspec": {
   "display_name": "Python 3 (ipykernel)",
   "language": "python",
   "name": "python3"
  },
  "language_info": {
   "codemirror_mode": {
    "name": "ipython",
    "version": 3
   },
   "file_extension": ".py",
   "mimetype": "text/x-python",
   "name": "python",
   "nbconvert_exporter": "python",
   "pygments_lexer": "ipython3",
   "version": "3.10.6"
  },
  "toc": {
   "base_numbering": 1,
   "nav_menu": {},
   "number_sections": false,
   "sideBar": true,
   "skip_h1_title": false,
   "title_cell": "Table of Contents",
   "title_sidebar": "Contents",
   "toc_cell": false,
   "toc_position": {
    "height": "calc(100% - 180px)",
    "left": "10px",
    "top": "150px",
    "width": "349.091px"
   },
   "toc_section_display": true,
   "toc_window_display": true
  }
 },
 "nbformat": 4,
 "nbformat_minor": 4
}
