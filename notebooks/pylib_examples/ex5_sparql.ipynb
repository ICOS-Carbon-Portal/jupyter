{
 "cells": [
  {
   "cell_type": "markdown",
   "metadata": {},
   "source": [
    "<img src=\"https://www.icos-cp.eu/sites/default/files/2017-11/ICOS_CP_logo.png\" width=\"300\" align=\"right\"/>\n",
    "\n",
    "# ICOS Carbon Portal Python Library\n",
    "\n",
    "# Example: Load data based on a sparql query\n"
   ]
  },
  {
   "cell_type": "markdown",
   "metadata": {},
   "source": [
    "## Documentation, installation, source\n",
    "- documentation for the library on the [project page](https://icos-carbon-portal.github.io/pylib/)\n",
    "- install with pip [pypi.org](https://pypi.org/project/icoscp/)\n",
    "- source available on [github](https://github.com/ICOS-Carbon-Portal/pylib)"
   ]
  },
  {
   "cell_type": "markdown",
   "metadata": {},
   "source": [
    "## Import the libraries "
   ]
  },
  {
   "cell_type": "code",
   "execution_count": null,
   "metadata": {},
   "outputs": [],
   "source": [
    "# represent a digital object, containing the data\n",
    "from icoscp.cpb.dobj import Dobj \n",
    "\n",
    "# execute a sparql query and return the result\n",
    "from icoscp.sparql.runsparql import RunSparql  "
   ]
  },
  {
   "cell_type": "markdown",
   "metadata": {},
   "source": [
    "<img src=\"img/sparql.png\" width=\"400\"  style=\"float:right\">\n",
    "\n",
    "## You can copy your own sparql query, based on your search criteria \n",
    "\n",
    "- Go to https://data.icos-cp.eu  and find datasets you want\n",
    "- press the icon in the middle of the screen (see image to the right),  to copy your sparql query\n",
    "- come back here and create the variable `query` "
   ]
  },
  {
   "cell_type": "markdown",
   "metadata": {},
   "source": [
    "For the following example, we have searched for:<br>\n",
    " - Project: ICOS\n",
    " - Theme: EcoSystem data \n",
    " - Ecosystem type: Deciduous Broadleaf Forests \n",
    " - Data type: ETC L2 Fluxnet (half-hourly)\n",
    " - Data level: 2\n",
    " - Responsible country: Belgium, France, Germany, Italy<br>\n",
    "https://data.icos-cp.eu/portal/#%7B%22filterCategories%22%3A%7B%22project%22%3A%5B%22icos%22%5D%2C%22theme%22%3A%5B%22ecosystem%22%5D%2C%22ecosystem%22%3A%5B%22igbp_DBF%22%5D%2C%22level%22%3A%5B2%5D%2C%22type%22%3A%5B%22etcL2Fluxnet%22%5D%2C%22countryCode%22%3A%5B%22BE%22%2C%22FR%22%2C%22DE%22%2C%22IT%22%5D%7D%7D\n",
    "with the goal to plot NEE over time"
   ]
  },
  {
   "cell_type": "code",
   "execution_count": null,
   "metadata": {},
   "outputs": [],
   "source": [
    "query = '''\n",
    "prefix cpmeta: <http://meta.icos-cp.eu/ontologies/cpmeta/>\n",
    "prefix prov: <http://www.w3.org/ns/prov#>\n",
    "prefix xsd: <http://www.w3.org/2001/XMLSchema#>\n",
    "select ?dobj ?hasNextVersion ?spec ?fileName ?size ?submTime ?timeStart ?timeEnd\n",
    "where {\n",
    "\tVALUES ?spec {<http://meta.icos-cp.eu/resources/cpmeta/etcL2Fluxnet>}\n",
    "\t?dobj cpmeta:hasObjectSpec ?spec .\n",
    "\tBIND(EXISTS{[] cpmeta:isNextVersionOf ?dobj} AS ?hasNextVersion)\n",
    "\tVALUES ?station {<http://meta.icos-cp.eu/resources/stations/ES_DE-Hai> <http://meta.icos-cp.eu/resources/stations/ES_IT-BFt> <http://meta.icos-cp.eu/resources/stations/ES_DE-HoH> <http://meta.icos-cp.eu/resources/stations/ES_FR-Fon> <http://meta.icos-cp.eu/resources/stations/ES_BE-Lcr>}\n",
    "\t\t\t?dobj cpmeta:wasAcquiredBy/prov:wasAssociatedWith ?station .\n",
    "\t?dobj cpmeta:hasSizeInBytes ?size .\n",
    "?dobj cpmeta:hasName ?fileName .\n",
    "?dobj cpmeta:wasSubmittedBy/prov:endedAtTime ?submTime .\n",
    "?dobj cpmeta:hasStartTime | (cpmeta:wasAcquiredBy / prov:startedAtTime) ?timeStart .\n",
    "?dobj cpmeta:hasEndTime | (cpmeta:wasAcquiredBy / prov:endedAtTime) ?timeEnd .\n",
    "\tFILTER NOT EXISTS {[] cpmeta:isNextVersionOf ?dobj}\n",
    "}\n",
    "order by desc(?submTime)\n",
    "'''"
   ]
  },
  {
   "cell_type": "code",
   "execution_count": null,
   "metadata": {},
   "outputs": [],
   "source": [
    "result = RunSparql(query, 'pandas')   # look at the documentation for different outputformats...\n",
    "result.run()\n",
    "result.data()"
   ]
  },
  {
   "cell_type": "code",
   "execution_count": null,
   "metadata": {},
   "outputs": [],
   "source": [
    "result.data()['dobj'].values"
   ]
  },
  {
   "cell_type": "code",
   "execution_count": null,
   "metadata": {},
   "outputs": [],
   "source": [
    "dobj_list = []\n",
    "for d in result.data()['dobj']:\n",
    "    dobj_list.append(Dobj(d))\n",
    "\n",
    "dobj_list"
   ]
  },
  {
   "cell_type": "code",
   "execution_count": null,
   "metadata": {},
   "outputs": [],
   "source": [
    "for o in dobj_list:\n",
    "    display(o.data.head())"
   ]
  },
  {
   "cell_type": "code",
   "execution_count": null,
   "metadata": {},
   "outputs": [],
   "source": [
    "# bokeh for plotting the data\n",
    "from bokeh.plotting import figure, show\n",
    "from bokeh.layouts import gridplot, column, row\n",
    "from bokeh.io import output_notebook\n",
    "from bokeh.models import Div\n",
    "output_notebook()"
   ]
  },
  {
   "cell_type": "code",
   "execution_count": null,
   "metadata": {},
   "outputs": [],
   "source": [
    "figure_list = []\n",
    "title = Div(text='<h2>Net Ecosystem Exchange</h2>')\n",
    "\n",
    "start_date = '2021-01-01'\n",
    "end_date = '2021-12-31'\n",
    "\n",
    "for dobj in dobj_list:\n",
    "    mask = (dobj.data['TIMESTAMP'] >= start_date) & (dobj.data['TIMESTAMP'] <= end_date)\n",
    "    data = dobj.data[mask]  # filter by date\n",
    "    \n",
    "    # create a figure with title\n",
    "    fig = figure(plot_width=350, plot_height=300, title=dobj.station['id'], x_axis_type='datetime')\n",
    "    # plot data    \n",
    "    fig.circle(data['TIMESTAMP'], data['NEE_VUT_REF'], size=1, alpha=0.3)\n",
    "    \n",
    "    #append to list\n",
    "    figure_list.append(fig)\n",
    "    \n",
    "#link x & y axis for all figures\n",
    "for i in range(1,len(figure_list)):    \n",
    "    figure_list[i].x_range=figure_list[0].x_range\n",
    "    figure_list[i].y_range=figure_list[0].y_range\n",
    "    \n",
    "grid = gridplot([figure_list])\n",
    "show(column(title, grid))"
   ]
  }
 ],
 "metadata": {
  "kernelspec": {
   "display_name": "Python 3 (ipykernel)",
   "language": "python",
   "name": "python3"
  },
  "language_info": {
   "codemirror_mode": {
    "name": "ipython",
    "version": 3
   },
   "file_extension": ".py",
   "mimetype": "text/x-python",
   "name": "python",
   "nbconvert_exporter": "python",
   "pygments_lexer": "ipython3",
   "version": "3.10.6"
  },
  "toc": {
   "base_numbering": 1,
   "nav_menu": {},
   "number_sections": false,
   "sideBar": true,
   "skip_h1_title": false,
   "title_cell": "Table of Contents",
   "title_sidebar": "Contents",
   "toc_cell": false,
   "toc_position": {
    "height": "calc(100% - 180px)",
    "left": "10px",
    "top": "150px",
    "width": "349.091px"
   },
   "toc_section_display": true,
   "toc_window_display": true
  }
 },
 "nbformat": 4,
 "nbformat_minor": 4
}
