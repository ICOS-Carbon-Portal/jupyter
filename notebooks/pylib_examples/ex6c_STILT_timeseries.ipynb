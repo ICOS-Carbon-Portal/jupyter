{
 "cells": [
  {
   "cell_type": "markdown",
   "metadata": {},
   "source": [
    "<img src='https://www.icos-cp.eu/sites/default/files/2017-11/ICOS_CP_logo.png' width=400 align=right>\n",
    "\n",
    "# ICOS Carbon Portal Python Library\n",
    "## Example: STILT footprints and timeseries\n",
    "\n",
    "This example shows how to load timeseries data and footprints, and make some plots using Holoviews and Geoviews to create a map."
   ]
  },
  {
   "cell_type": "markdown",
   "metadata": {},
   "source": [
    "## Documentation\n",
    "Full documentation for the library on the [project page](https://icos-carbon-portal.github.io/pylib/), how to install and wheel on [pypi.org](https://pypi.org/project/icoscp/), source is available on [github](https://github.com/ICOS-Carbon-Portal/pylib)"
   ]
  },
  {
   "cell_type": "code",
   "execution_count": null,
   "metadata": {},
   "outputs": [],
   "source": [
    "# import matplotlib\n",
    "import matplotlib.pyplot as plt\n",
    "import matplotlib.dates as mdates\n",
    "\n",
    "import pandas as pd\n",
    "\n",
    "#Import STILT tools:\n",
    "from icoscp.stilt import stiltstation"
   ]
  },
  {
   "cell_type": "markdown",
   "metadata": {},
   "source": [
    "### Create a STILT station object"
   ]
  },
  {
   "cell_type": "code",
   "execution_count": null,
   "metadata": {},
   "outputs": [],
   "source": [
    "st = stiltstation.get(id='kit100')\n",
    "print(st)"
   ]
  },
  {
   "cell_type": "markdown",
   "metadata": {},
   "source": [
    "### Retrieve the default time series data"
   ]
  },
  {
   "cell_type": "code",
   "execution_count": null,
   "metadata": {},
   "outputs": [],
   "source": [
    "yearstart = '2018-01-01'\n",
    "yearend = '2018-12-31'\n",
    "\n",
    "# When retrieving the station data the default is to load the columns\n",
    "# [\"isodate\",\"co2.stilt\",\"co2.fuel\",\"co2.bio\", \"co2.background\"]\n",
    "data = st.get_ts(yearstart, yearend)\n",
    "data.head()"
   ]
  },
  {
   "cell_type": "markdown",
   "metadata": {},
   "source": [
    "### Plot STILT time series"
   ]
  },
  {
   "cell_type": "code",
   "execution_count": null,
   "metadata": {},
   "outputs": [],
   "source": [
    "data.plot(y=['co2.stilt', 'co2.background'], title=st.id, ylabel='ppm', figsize=(8,4))"
   ]
  },
  {
   "cell_type": "markdown",
   "metadata": {},
   "source": [
    "### Extract time series with columns = 'co2'\n",
    "See the documentation what columns you can return\n",
    "[https://icos-carbon-portal.github.io/pylib/modules/#get_tsstart_date-end_date-hours-columns](https://icos-carbon-portal.github.io/pylib/modules/#get_tsstart_date-end_date-hours-columns)"
   ]
  },
  {
   "cell_type": "code",
   "execution_count": null,
   "metadata": {},
   "outputs": [],
   "source": [
    "# These date constraints will be used in the rest of this example notebook\n",
    "start = '2018-01-01'\n",
    "end = '2018-01-31'"
   ]
  },
  {
   "cell_type": "code",
   "execution_count": null,
   "metadata": {},
   "outputs": [],
   "source": [
    "stiltdata = st.get_ts(start, end, columns='co2')\n",
    "stiltdata.head()"
   ]
  },
  {
   "cell_type": "code",
   "execution_count": null,
   "metadata": {},
   "outputs": [],
   "source": [
    "# This dataset has 16 columns given by\n",
    "stiltdata.columns"
   ]
  },
  {
   "cell_type": "markdown",
   "metadata": {},
   "source": [
    "### A comment on relations between the columns \n",
    "The columns are related by\n",
    "- `co2.stilt = co2.bio + co2.fuel + co2.cement + co2.background`\n",
    "\n",
    "Where the biospheric natural fluxes: `co2.bio` split into photosynthetic uptake and release by respiration:\n",
    "- `co2.bio = co2.bio.gee + co2.bio.resp`\n",
    "\n",
    "The anthropogenic emissions related to fuel burning split up according to the fuel types:\n",
    "- `co2.fuel = co2.fuel.coal + co2.fuel.oil + co2.fuel.gas + co2.fuel.bio + \"waste burning\"`<br>\n",
    "However, by now *waste burning is not explicitly* stored in the STILT dataset.\n",
    "\n",
    "Other anthropogenic source category emissions are related according to the formula: \n",
    "- `co2.fuel + co2.cement = co2.energy + co2.transport + co2.industry + co2.others`\n"
   ]
  },
  {
   "cell_type": "code",
   "execution_count": null,
   "metadata": {},
   "outputs": [],
   "source": [
    "df_bio = stiltdata[['co2.bio','co2.bio.gee', 'co2.bio.resp']]\n",
    "df_fuel = stiltdata[['co2.fuel','co2.fuel.coal','co2.fuel.oil','co2.fuel.gas','co2.fuel.bio']]\n",
    "# The waste burning column can be included like below \n",
    "df_fuel = pd.concat([df_fuel,(df_fuel['co2.fuel']-df_fuel.iloc[:,1:].sum(axis=1)).rename('calc.waste')],axis=1)\n",
    "df_source = stiltdata[['co2.fuel','co2.cement','co2.energy','co2.transport','co2.industry','co2.others']]\n"
   ]
  },
  {
   "cell_type": "markdown",
   "metadata": {},
   "source": [
    "### Pie charts\n",
    "In the next example we sum each column and visualize the data in pie charts.<br> \n",
    "**Note:** Here we take the *absolute value* in the biospheric components since the columns contain both positive and negative values. The biospheric flux relation should then be replaced by `co2.bio = - co2.bio.gee + co2.bio.resp`, the proportions are however the same.   "
   ]
  },
  {
   "cell_type": "code",
   "execution_count": null,
   "metadata": {},
   "outputs": [],
   "source": [
    "biocomponent = abs(df_bio.agg('sum'))\n",
    "fuelcomponent = df_fuel.agg('sum')\n",
    "sourcecomponent = df_source.agg('sum')\n",
    "\n",
    "# Note: \n",
    "biocomponent"
   ]
  },
  {
   "cell_type": "code",
   "execution_count": null,
   "metadata": {},
   "outputs": [],
   "source": [
    "fig, axes = plt.subplots(1, 3,figsize=(8,2))\n",
    "\n",
    "for ax in range(0,3):\n",
    "    current_data = [biocomponent, fuelcomponent, sourcecomponent][ax]\n",
    "    curent_title = ['STILT bio components', 'STILT fuel components','STILT source components'][ax]\n",
    "    axes[ax].pie(current_data, labels=current_data.index, textprops={'fontsize': 8}) \n",
    "    axes[ax].set_xlabel(str(curent_title))\n",
    "fig.subplots_adjust(wspace = 1.3)\n",
    "fig.suptitle('STILT CO$_2$ components', fontsize=16)\n",
    "\n",
    "\n",
    "plt.show()"
   ]
  },
  {
   "cell_type": "markdown",
   "metadata": {},
   "source": [
    "### Plotting the co2 components"
   ]
  },
  {
   "cell_type": "code",
   "execution_count": null,
   "metadata": {},
   "outputs": [],
   "source": [
    "ax = pd.concat([df_bio,df_fuel,df_source.drop(['co2.fuel'],axis=1)],axis=1).plot()\n",
    "ax.legend(bbox_to_anchor=(1.01,1), loc='upper left', fontsize=8)\n",
    "ax.plot()"
   ]
  },
  {
   "cell_type": "markdown",
   "metadata": {},
   "source": [
    "### Aggregate by day\n",
    "As an example, we now aggregate the data daily and create a stacked bar graph"
   ]
  },
  {
   "cell_type": "code",
   "execution_count": null,
   "metadata": {},
   "outputs": [],
   "source": [
    "day = stiltdata.iloc[:,2:15].resample('D').sum()\n",
    "day"
   ]
  },
  {
   "cell_type": "code",
   "execution_count": null,
   "metadata": {},
   "outputs": [],
   "source": [
    "# plot the bar graph\n",
    "ax1 = day.plot.bar(stacked='True')\n",
    "ax1.legend(loc='best', fontsize=8)\n",
    "\n",
    "# adjust the xticks\n",
    "ax1.xaxis.set_major_formatter(mdates.DateFormatter('%m-%d'))\n",
    "ax1.set_ylabel('$\\mathbf{Note:}$ These values are not independent')\n",
    "ax1.set_title('$\\mathbf{Note:}$ These values are not independent')\n",
    "# display\n",
    "ax1.plot()"
   ]
  },
  {
   "cell_type": "markdown",
   "metadata": {},
   "source": [
    "## Load observation and compare to model result"
   ]
  },
  {
   "cell_type": "code",
   "execution_count": null,
   "metadata": {},
   "outputs": [],
   "source": [
    "from icoscp.cpb.dobj import Dobj"
   ]
  },
  {
   "cell_type": "code",
   "execution_count": null,
   "metadata": {},
   "outputs": [],
   "source": [
    "kit100 = Dobj('https://hdl.handle.net/11676/LJ4uetvEho7-k9K9TUnLHfFh')"
   ]
  },
  {
   "cell_type": "code",
   "execution_count": null,
   "metadata": {},
   "outputs": [],
   "source": [
    "kit100.citation"
   ]
  },
  {
   "cell_type": "markdown",
   "metadata": {},
   "source": [
    "### Create a mask to get the same timeframe as the STILT data\n",
    "Here, `start` and `end` dates are from the Notebook cell number 5"
   ]
  },
  {
   "cell_type": "code",
   "execution_count": null,
   "metadata": {},
   "outputs": [],
   "source": [
    "# Now the last date (or rather datetime) of our STILT data was sampled at 2018-01-31 21:00:00.\n",
    "# In order to avoid discrepancies when we compare observed data with the STILT data we set \n",
    "enddate = pd.to_datetime(end) + pd.DateOffset(hours=21)\n",
    "mask = (kit100.data['TIMESTAMP'] >= start) & (kit100.data['TIMESTAMP'] <= enddate)\n",
    "\n",
    "obsdata = kit100.data[mask]\n",
    "obsdata.set_index('TIMESTAMP', inplace=True)\n",
    "obsdata['co2']"
   ]
  },
  {
   "cell_type": "markdown",
   "metadata": {},
   "source": [
    "### Resample STILT data\n",
    "Because the observation are hourly aggregates, we resample the STILT output to make our lives easier to compare the observation vs model."
   ]
  },
  {
   "cell_type": "code",
   "execution_count": null,
   "metadata": {},
   "outputs": [],
   "source": [
    "stilthourly = stiltdata.resample('1H').mean().interpolate('linear')\n",
    "stilthourly['co2.stilt']"
   ]
  },
  {
   "cell_type": "markdown",
   "metadata": {},
   "source": [
    "### Data harmonization and plot\n",
    "Next, we merge our data frames. If we look at the length of the dataframes there could have been a discrepancy. Observations may contain fewer data points due to some interruption of the measurement or QA / QC removed values. When merging dataframes the data missing values would be represented as NaN."
   ]
  },
  {
   "cell_type": "code",
   "execution_count": null,
   "metadata": {},
   "outputs": [],
   "source": [
    "harmonized = stilthourly.join(obsdata)\n",
    "harmonized.plot(y = ['co2.stilt', 'co2'], grid=True, linewidth=0.5)"
   ]
  },
  {
   "cell_type": "markdown",
   "metadata": {},
   "source": [
    "### Plot difference"
   ]
  },
  {
   "cell_type": "code",
   "execution_count": null,
   "metadata": {},
   "outputs": [],
   "source": [
    "harmonized['diff'] = harmonized['co2.stilt']-harmonized['co2']"
   ]
  },
  {
   "cell_type": "code",
   "execution_count": null,
   "metadata": {},
   "outputs": [],
   "source": [
    "fig_dif, ax_dif = plt.subplots()\n",
    "ax_dif = plt.axes()\n",
    "ax_dif.plot(harmonized['diff'])\n",
    "ax_dif.grid(color='0.9')\n",
    "ax_dif.set_ylabel('diff (ppm)')\n",
    "\n",
    "# adjust the xticks\n",
    "ax_dif.xaxis.set_major_formatter(mdates.DateFormatter('%d'))"
   ]
  }
 ],
 "metadata": {
  "kernelspec": {
   "display_name": "Python 3",
   "language": "python",
   "name": "python3"
  },
  "language_info": {
   "codemirror_mode": {
    "name": "ipython",
    "version": 3
   },
   "file_extension": ".py",
   "mimetype": "text/x-python",
   "name": "python",
   "nbconvert_exporter": "python",
   "pygments_lexer": "ipython3",
   "version": "3.8.6"
  },
  "toc": {
   "base_numbering": 1,
   "nav_menu": {},
   "number_sections": false,
   "sideBar": true,
   "skip_h1_title": true,
   "title_cell": "Table of Contents",
   "title_sidebar": "Contents",
   "toc_cell": false,
   "toc_position": {},
   "toc_section_display": true,
   "toc_window_display": true
  }
 },
 "nbformat": 4,
 "nbformat_minor": 4
}
