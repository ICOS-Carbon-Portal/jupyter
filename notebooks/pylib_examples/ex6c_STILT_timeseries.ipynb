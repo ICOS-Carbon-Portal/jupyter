{
 "cells": [
  {
   "cell_type": "markdown",
   "id": "8ef1bf4d-bcd5-4345-b49d-6f4b00d207a5",
   "metadata": {},
   "source": [
    "<img src='https://www.icos-cp.eu/sites/default/files/2017-11/ICOS_CP_logo.png' width=400 align=right>\n",
    "\n",
    "# ICOS Carbon Portal Python Library\n",
    "## Example: STILT CH$_4$ & CO$_2$  timeseries\n",
    "\n",
    "In this example, we load STILT timeseries data, create some plots, and compare the STILT data with observed data.\n"
   ]
  },
  {
   "cell_type": "markdown",
   "id": "68edc265-f2bd-4fff-9749-02fb28105fb5",
   "metadata": {
    "tags": []
   },
   "source": [
    "### Documentation\n",
    "\n",
    "Full documentation for the library is available on the [project page](https://icos-carbon-portal.github.io/pylib/). Information on how to install it and obtain the wheel package can be found on [pypi.org](https://pypi.org/project/icoscp/), while the source code is accessible on [Github](https://github.com/ICOS-Carbon-Portal/pylib)."
   ]
  },
  {
   "cell_type": "code",
   "execution_count": null,
   "id": "92115cd5-7a24-425e-abbd-4200e69cddf1",
   "metadata": {},
   "outputs": [],
   "source": [
    "# Import STILT tools:\n",
    "from icoscp.stilt import stiltstation\n",
    "import matplotlib.pyplot as plt\n",
    "import matplotlib.dates as mdates\n",
    "import pandas as pd\n",
    "\n",
    "# allow for interactive plots\n",
    "#%matplotlib widget\n",
    "\n",
    "# default size for plots\n",
    "plt.rcParams['figure.figsize'] = [10, 5] \n"
   ]
  },
  {
   "cell_type": "markdown",
   "id": "bf0f5ca0-bfcb-4be7-917f-2482f93b39ee",
   "metadata": {
    "tags": []
   },
   "source": [
    "## Model results"
   ]
  },
  {
   "cell_type": "markdown",
   "id": "44a4c226-2861-47c1-8f20-10cc066f0393",
   "metadata": {
    "tags": []
   },
   "source": [
    "### Create a STILT station object\n",
    "\n",
    "Find available stations and create new ones in the [STILT viewer](https://stilt.icos-cp.eu/)."
   ]
  },
  {
   "cell_type": "code",
   "execution_count": null,
   "id": "537252d7-8d1d-401c-9dbf-eadd4b16b2a2",
   "metadata": {},
   "outputs": [],
   "source": [
    "STILT_station = stiltstation.get(id='KIT100')\n",
    "\n",
    "# the STILT station object has information that is used in later cells, such as its id.\n",
    "print(STILT_station)"
   ]
  },
  {
   "cell_type": "markdown",
   "id": "ee3d751a-c196-4f2d-8109-eee4fe9d2178",
   "metadata": {
    "tags": []
   },
   "source": [
    "### Retrieve the CO$_2$ and CH$_4$ time series\n",
    "\n",
    "Find more information on how to use 'get_ts' to retrieve time series data for the station object [here](https://icos-carbon-portal.github.io/pylib/modules/#get_tsstart_date-end_date-hours-columns)."
   ]
  },
  {
   "cell_type": "code",
   "execution_count": null,
   "id": "495c4513-65b3-44ea-81b8-891c89fdebdc",
   "metadata": {},
   "outputs": [],
   "source": [
    "# it is possible to change the start and end date, as long as there is model result available (see link to STILT viewer in previous cell)\n",
    "start_date = '2018-01-01'  \n",
    "end_date  = '2018-12-31'\n",
    "\n",
    "STILT_co2 = STILT_station.get_ts(start_date, end_date, columns = 'co2')\n",
    "\n",
    "# .head() shows the first five rows of the dataframe\n",
    "display(STILT_co2.head())\n",
    "\n",
    "STILT_ch4 = STILT_station.get_ts(start_date, end_date, columns = 'ch4')\n",
    "display(STILT_ch4.head())"
   ]
  },
  {
   "cell_type": "markdown",
   "id": "f18da63e-dacf-49d1-aa61-bfb534af5e6e",
   "metadata": {
    "tags": []
   },
   "source": [
    "#### Information about the time series columns \n",
    "\n",
    "<b>CO$_2$</b>\n",
    "\n",
    "`co2.stilt = co2.bio + co2.fuel + co2.cement + co2.background`\n",
    "\n",
    "Where the biospheric natural fluxes `co2.bio` are split into photosynthetic uptake and release by respiration:\n",
    "\n",
    "`co2.bio = co2.bio.gee + co2.bio.resp`\n",
    "\n",
    "The anthropogenic emissions related to fuel burning are split up according to the fuel types:\n",
    "\n",
    "`co2.fuel = co2.fuel.coal + co2.fuel.oil + co2.fuel.gas + co2.fuel.bio + co2.fuel.waste`\n",
    "\n",
    "Other anthropogenic source category emissions are related according to the formula: \n",
    "\n",
    "`co2.fuel + co2.cement = co2.energy + co2.transport + co2.industry + co2.residential + co2.other_categories`\n",
    "\n",
    "<br>\n",
    "\n",
    "<b>CH$_4$</b>\n",
    "\n",
    "`ch4.stilt = ch4.anthropogenic + ch4.natural + ch4.background`\n",
    "\n",
    "Where the biospheric natural fluxes `ch4.natural` are split into microbial uptake and release and emissions from wildfires:\n",
    "\n",
    "`ch4.natural = ch4.wetlands + ch4.soil_uptake + ch4.wildfire + ch4.other_natural`\n",
    "\n",
    "The anthropogenic emissions are split into:\n",
    "\n",
    "`ch4.anthropogenic = ch4.agriculture + ch4.waste + ch4.energy + ch4.other_categories`\n"
   ]
  },
  {
   "cell_type": "markdown",
   "id": "b44c6d5d-bcc2-40a9-b89c-35aaf29c97f6",
   "metadata": {
    "tags": []
   },
   "source": [
    "#### Plot STILT time series "
   ]
  },
  {
   "cell_type": "code",
   "execution_count": null,
   "id": "d62e5c16-4c7c-4c76-aa70-95ce87b7a117",
   "metadata": {},
   "outputs": [],
   "source": [
    "# plot the modelled concentrations \n",
    "STILT_co2.plot(y=['co2.stilt','co2.background'], \n",
    "               title = STILT_station.id + ' modelled CO$_2$', \n",
    "               ylabel = 'CO$_2$ [ppm]');\n",
    "\n",
    "# plot the fuel components \n",
    "columns_to_plot = ['co2.fuel.coal', 'co2.fuel.oil', 'co2.fuel.gas', 'co2.fuel.bio', 'co2.fuel.waste']\n",
    "STILT_co2.plot(y=columns_to_plot, \n",
    "               title = STILT_station.id + ' modelled CO$_2$ components', \n",
    "               ylabel = 'CO$_2$ [ppm]');\n",
    "\n",
    "# un-comment to display the modelled concentrations for CH4\n",
    "#STILT_ch4.plot(y=['ch4.stilt'], \n",
    "              #title = STILT_station.id + ' modelled CH$_4$', ylabel = 'ppb');"
   ]
  },
  {
   "cell_type": "markdown",
   "id": "a253ebd4-c695-4c1e-a96e-3eec9ec126af",
   "metadata": {
    "tags": []
   },
   "source": [
    "#### Retrieve and plot the average over the entire time period\n"
   ]
  },
  {
   "cell_type": "code",
   "execution_count": null,
   "id": "8b32e71a-b05b-4abf-9c37-406f34912bc8",
   "metadata": {},
   "outputs": [],
   "source": [
    "# select what columns to average and visualize\n",
    "columns_to_plot = ['co2.fuel.coal', 'co2.fuel.oil', 'co2.fuel.gas', 'co2.fuel.bio', 'co2.fuel.waste']\n",
    "\n",
    "STILT_co2_mean = STILT_co2[columns_to_plot].agg('mean').to_frame(name='Mean values CO$_2$ [ppm]')\n",
    "\n",
    "display(STILT_co2_mean)\n",
    "\n",
    "# calculate the total to compute the percentage for autopct\n",
    "total = STILT_co2_mean['Mean values CO$_2$ [ppm]'].sum()\n",
    "\n",
    "# plot pie chart with actual values displayed\n",
    "STILT_co2_mean.plot.pie(y='Mean values CO$_2$ [ppm]', \n",
    "                        autopct=lambda p: '{:.1f}'.format(p * total / 100),\n",
    "                        title = STILT_station.id + ' average modelled CO$_2$ components')\n",
    "\n",
    "plt.show()\n",
    "\n",
    "# un-comment for CH4 example\n",
    "#columns_to_plot = ['ch4.agriculture','ch4.waste','ch4.energy','ch4.other_categories']\n",
    "\n",
    "#STILT_ch4_mean = STILT_ch4[columns_to_plot].agg('mean').to_frame(name='Mean values (ppb)')\n",
    "\n",
    "#total = STILT_ch4_mean['Mean values (ppb)'].sum()\n",
    "\n",
    "#STILT_ch4_mean.plot.pie(y='Mean values (ppb)', \n",
    "#                        autopct=lambda p: '{:.1f}'.format(p * total / 100), \n",
    "#                        title = STILT_station.id + ' average modelled CH$_4$ components')\n",
    "\n",
    "#plt.show()"
   ]
  },
  {
   "cell_type": "markdown",
   "id": "e8c024bb-acac-4522-9f05-011d66c25a12",
   "metadata": {
    "tags": []
   },
   "source": [
    "#### Retrieve and plot the daily averages"
   ]
  },
  {
   "cell_type": "code",
   "execution_count": null,
   "id": "6bd37c90-c7dc-4025-ad54-10cfb1509ed4",
   "metadata": {},
   "outputs": [],
   "source": [
    "# create dataframe with daily averages\n",
    "STILT_ch4_daily_average = STILT_ch4.resample('D').mean().reset_index()\n",
    "\n",
    "# convert to datetime for proper display on y-axis\n",
    "STILT_ch4_daily_average['date'] = pd.to_datetime(STILT_ch4_daily_average['date'], format='%Y-%m-%d')\n",
    "\n",
    "# filter for specific month\n",
    "month_to_plot = 6\n",
    "\n",
    "# choose components to plot\n",
    "columns_to_plot = ['ch4.wetlands', 'ch4.soil_uptake', 'ch4.wildfire', 'ch4.other_natural']\n",
    "\n",
    "# subset to specific month\n",
    "STILT_ch4_daily_average_subset = STILT_ch4_daily_average[STILT_ch4_daily_average['date'].dt.month == month_to_plot]\n",
    "\n",
    "# set 'date' as the index which is the x-axis in the final graph\n",
    "STILT_ch4_daily_average_subset.set_index('date', inplace=True)\n",
    "\n",
    "ax = STILT_ch4_daily_average_subset[columns_to_plot].plot.bar(stacked=True, \n",
    "                                                              ylabel = 'CH$_4$ [ppb]', \n",
    "                                                              title = STILT_station.id + ' modelled natural CH$_4$ components \\n Month: ' + str(month_to_plot))\n",
    "\n",
    "# set the x-axis major formatter to display dates properly\n",
    "ax.xaxis.set_major_formatter(mdates.DateFormatter('%d'))\n",
    "\n",
    "# adjust the x-axis date labels to prevent overlap\n",
    "plt.xticks(rotation=45)\n",
    "\n",
    "plt.show()\n"
   ]
  },
  {
   "cell_type": "markdown",
   "id": "48d40bd2-c466-49ff-8de0-da14e64c1e25",
   "metadata": {
    "tags": []
   },
   "source": [
    "## Observations\n",
    "\n",
    "Find observations that match modelled concentrations from STILT footprints by selecting the same station and elevation, in this case Karlsruhe at 100m elevation (STILT code KIT100). CO$_2$ and CH$_4$ is in this case loaded separately.\n",
    "\n",
    "Browse data in the <a href=\"https://data.icos-cp.eu\" target = \"_blank\">ICOS data portal</a> and paste the PID of the dataset for the desired station. "
   ]
  },
  {
   "cell_type": "markdown",
   "id": "7f89f72c-89f0-46ed-a1ef-d00f3d4f2a21",
   "metadata": {},
   "source": [
    "#### Load the data"
   ]
  },
  {
   "cell_type": "code",
   "execution_count": null,
   "id": "8c6dc9c0-d2f0-4b07-b254-547fa1a8aa38",
   "metadata": {},
   "outputs": [],
   "source": [
    "from icoscp.cpb.dobj import Dobj"
   ]
  },
  {
   "cell_type": "code",
   "execution_count": null,
   "id": "a7715130-733c-4ac1-a863-79d789ce313b",
   "metadata": {},
   "outputs": [],
   "source": [
    "observations_co2 = Dobj('https://meta.icos-cp.eu/objects/X5BbGcMRUH6pNLIPHvUB7utv')\n",
    "\n",
    "# here is how to access the data for CH4 at KIT100 instead\n",
    "observations_ch4 = Dobj('https://meta.icos-cp.eu/objects/3AhyD7AhmO4YLTkJd2FY1WmT')\n",
    "\n",
    "# observations_co2 is an object which contain the data comparable to the STILT data\n",
    "display(observations_co2.data.head())\n",
    "\n",
    "# it also contains metadata, such as the citation string\n",
    "print(observations_co2.citation)\n"
   ]
  },
  {
   "cell_type": "markdown",
   "id": "1c66d5df-9fa2-4935-ac06-3e1d47bb7d37",
   "metadata": {},
   "source": [
    "#### Compare observations and STILT model result\n",
    "While ICOS observations are hourly, the STILT results are only available 3-hourly. Therefore we have to merge the two datasets for further analysis."
   ]
  },
  {
   "cell_type": "code",
   "execution_count": null,
   "id": "dbbc0b22-5d85-48f1-8020-d55f928548b1",
   "metadata": {},
   "outputs": [],
   "source": [
    "# merge the observations to the STILT data\n",
    "STILT_observations_co2 = STILT_co2.merge(observations_co2.data, left_on = STILT_co2.index, right_on = 'TIMESTAMP')\n",
    "STILT_observations_co2.set_index('TIMESTAMP', inplace=True)\n",
    "\n",
    "ax = STILT_observations_co2.plot(y = ['co2.stilt', 'co2'], grid=True, linewidth=0.5, ylabel = 'CO$_2$ [ppm]')\n",
    "\n",
    "plt.title('CO$_2$ STILT vs CO$_2$ observations')\n",
    "\n",
    "plt.show()"
   ]
  },
  {
   "cell_type": "code",
   "execution_count": null,
   "id": "057f962f-7182-44ea-939a-0a3261c79429",
   "metadata": {},
   "outputs": [],
   "source": [
    "# add a column with the model data mismatch\n",
    "STILT_observations_co2['Model data mismatch'] = STILT_observations_co2['co2.stilt']-STILT_observations_co2['co2']\n",
    "\n",
    "ax = STILT_observations_co2.plot(y = ['Model data mismatch'], grid=True, linewidth=0.5, ylabel = 'CO$_2$ [ppm]')\n",
    "\n",
    "plt.title('CO$_2$ STILT - CO$_2$ observation')\n",
    "\n",
    "plt.show()"
   ]
  },
  {
   "cell_type": "markdown",
   "id": "db0e905a-a63e-4359-bc3f-caf73a31e6a9",
   "metadata": {},
   "source": [
    "#### Zoom options\n",
    "If you would like to zoom in to just see a few days or weeks, <br>\n",
    "- either enable interactive plots by activating this line in the first cell \n",
    "    \n",
    "    `%matplotlib widget`  \n",
    "    \n",
    "    and rerun the notebook\n",
    "- or restrict the plot to a specific time span like in the next cell."
   ]
  },
  {
   "cell_type": "code",
   "execution_count": null,
   "id": "bc25d04b-12da-45c2-b147-b58be7a695eb",
   "metadata": {},
   "outputs": [],
   "source": [
    "# start and end date of plot\n",
    "plot_start = '2018-06-01 00:00:00'\n",
    "plot_end = '2018-07-01 00:00:00'\n",
    "\n",
    "ax = STILT_observations_co2.plot(y = ['co2.stilt', 'co2'], \n",
    "                                 grid=True, linewidth=0.5, xlim = (plot_start, plot_end), ylabel = 'CO$_2$ [ppm]')\n",
    "\n",
    "plt.title('CO$_2$ STILT vs CO$_2$ observations')\n",
    "plt.show()"
   ]
  },
  {
   "cell_type": "markdown",
   "id": "94d7db60-5746-4404-9f4e-a96c5d206541",
   "metadata": {},
   "source": [
    "### Compare CO$_2$ and CH$_4$\n",
    "\n",
    "Combine the CO$_2$ and CH$_4$ datasets into one dataset "
   ]
  },
  {
   "cell_type": "code",
   "execution_count": null,
   "id": "7b62cc5f-ca77-4a4c-b10e-f32afffb2340",
   "metadata": {},
   "outputs": [],
   "source": [
    "# but first merge the observations to the STILT data\n",
    "STILT_observations_ch4 = STILT_ch4.merge(observations_ch4.data, left_on = STILT_ch4.index, right_on = 'TIMESTAMP')\n",
    "STILT_observations_ch4.set_index('TIMESTAMP', inplace=True)\n",
    "\n",
    "# merge the CH4 dataset to the CO2 dataset\n",
    "STILT_observations_co2_ch4 = STILT_observations_co2.merge(STILT_observations_ch4, left_on = 'TIMESTAMP', right_on = 'TIMESTAMP')\n",
    "\n",
    "# plot the CO2 and CH4 time series in one plot with shared time axis\n",
    "fig, axs = plt.subplots(2, 1, figsize=(12,5), sharex=True)\n",
    "\n",
    "# Remove horizontal space between axes\n",
    "fig.subplots_adjust(hspace=0)\n",
    "\n",
    "plot_start = '2018-02-01 00:00:00'\n",
    "plot_end = '2018-03-29 00:00:00'\n",
    "\n",
    "i=0\n",
    "STILT_observations_co2_ch4.plot(y=['co2.stilt'], xlim = (plot_start, plot_end), color= 'tab:blue', ax=axs[i]) \n",
    "STILT_observations_co2_ch4.plot(y=['co2'], xlim = (plot_start, plot_end), color= 'k', ax=axs[i])\n",
    "axs[i].set_ylabel('CO$_2$ [ppm]')\n",
    "axs[i].grid(axis='both',color='lightgray')\n",
    "axs[i].set_title('STILT vs Observations at '+STILT_station.name)\n",
    "\n",
    "i+=1\n",
    "STILT_observations_co2_ch4.plot(y=['ch4.stilt'], xlim = (plot_start, plot_end), color= 'tab:orange', ax=axs[i])\n",
    "STILT_observations_co2_ch4.plot(y=['ch4'], xlim = (plot_start, plot_end), color ='k', ax=axs[i])\n",
    "axs[i].set_ylabel('CH$_4$ [ppb]')\n",
    "axs[i].grid(axis='both',color='lightgray')\n",
    "plt.show()"
   ]
  }
 ],
 "metadata": {
  "kernelspec": {
   "display_name": "Python 3 (ipykernel)",
   "language": "python",
   "name": "python3"
  },
  "language_info": {
   "codemirror_mode": {
    "name": "ipython",
    "version": 3
   },
   "file_extension": ".py",
   "mimetype": "text/x-python",
   "name": "python",
   "nbconvert_exporter": "python",
   "pygments_lexer": "ipython3",
   "version": "3.10.6"
  }
 },
 "nbformat": 4,
 "nbformat_minor": 5
}
