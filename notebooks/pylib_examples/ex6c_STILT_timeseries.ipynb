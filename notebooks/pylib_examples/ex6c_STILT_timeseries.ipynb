{
 "cells": [
  {
   "cell_type": "markdown",
   "metadata": {},
   "source": [
    "<img src='https://www.icos-cp.eu/sites/default/files/2017-11/ICOS_CP_logo.png' width=400 align=right>\n",
    "\n",
    "# ICOS Carbon Portal Python Library\n",
    "## Example: STILT timeseries\n",
    "\n",
    "In this example we load different STILT timeseries data, make some plots and compare the STILT data with observed data."
   ]
  },
  {
   "cell_type": "markdown",
   "metadata": {},
   "source": [
    "## Documentation\n",
    "Full documentation for the library on the [project page](https://icos-carbon-portal.github.io/pylib/), how to install and wheel on [pypi.org](https://pypi.org/project/icoscp/), the source code is available on [github](https://github.com/ICOS-Carbon-Portal/pylib)"
   ]
  },
  {
   "cell_type": "code",
   "execution_count": null,
   "metadata": {
    "scrolled": false
   },
   "outputs": [],
   "source": [
    "# Import STILT tools:\n",
    "from icoscp.stilt import stiltstation\n",
    "\n",
    "# Import matplotlib and pandas\n",
    "import matplotlib.pyplot as plt\n",
    "import matplotlib.dates as mdates\n",
    "import pandas as pd\n",
    "\n",
    "# In this notebook we use matplot widgets, \n",
    "# that opens up for interactions in plots.\n",
    "%matplotlib widget\n"
   ]
  },
  {
   "cell_type": "code",
   "execution_count": null,
   "metadata": {
    "scrolled": false
   },
   "outputs": [],
   "source": [
    "# We can set common properties for plots using a function\n",
    "def my_figure_properties(fig):\n",
    "    # We do not want figure labels \n",
    "    fig.canvas.header_visible = False\n",
    "    # We wish to see a menu for figures\n",
    "    fig.canvas.toolbar_visible = True  \n",
    "    fig.canvas.toolbar_position = 'top'\n",
    "    # Disable the resizing feature\n",
    "    fig.canvas.resizable = True\n",
    "    # If true then scrolling while the mouse is over the \n",
    "    # canvas will not move the entire notebook\n",
    "    fig.canvas.capture_scroll = True\n",
    "    fig.tight_layout()\n",
    "    return fig\n",
    "\n",
    "def my_figure():\n",
    "    fig = plt.figure()\n",
    "    my_figure_properties(fig)\n",
    "    return fig\n"
   ]
  },
  {
   "cell_type": "markdown",
   "metadata": {},
   "source": [
    "### Create a STILT station object"
   ]
  },
  {
   "cell_type": "code",
   "execution_count": null,
   "metadata": {
    "scrolled": false
   },
   "outputs": [],
   "source": [
    "st = stiltstation.get(id='kit100')\n",
    "print(st)"
   ]
  },
  {
   "cell_type": "markdown",
   "metadata": {},
   "source": [
    "### Retrieve the default time series data\n",
    "Now that we have our station, we can download its time series for a specific time period. This is retrieved using `get_ts` which is part of the `stiltstation`. In our case we will look into CO$_2$-values, other options are described in the [documentation](https://icos-carbon-portal.github.io/pylib/modules/#get_tsstart_date-end_date-hours-columns)."
   ]
  },
  {
   "cell_type": "code",
   "execution_count": null,
   "metadata": {
    "scrolled": false
   },
   "outputs": [],
   "source": [
    "yearstart = '2018-01-01'  # This is a version of the ISO 8601 format,\n",
    "yearend   = '2018-12-31'  # for different formats see the documentantion.\n",
    "\n",
    "# When retrieving the station data the default is to load the columns\n",
    "# [\"isodate\",\"co2.stilt\",\"co2.bio\",\"co2.fuel\",\"co2.cement\",\"co2.background\"]\n",
    "data = st.get_ts(yearstart, yearend)\n",
    "data.head()"
   ]
  },
  {
   "cell_type": "markdown",
   "metadata": {},
   "source": [
    "### Plot STILT time series"
   ]
  },
  {
   "cell_type": "code",
   "execution_count": null,
   "metadata": {
    "scrolled": false
   },
   "outputs": [],
   "source": [
    "fig_with_properties = my_figure()\n",
    "axis_to_plot = fig_with_properties.gca()  # Note: gca = get current axis\n",
    "data.plot(y = ['co2.stilt', 'co2.background'], \n",
    "          title = st.id, ylabel = 'ppm', \n",
    "          figsize = (8,4), ax = axis_to_plot)\n",
    "plt.show()"
   ]
  },
  {
   "cell_type": "markdown",
   "metadata": {},
   "source": [
    "### Extract time series with `columns = 'co2'`\n",
    "Again, we refer to the [documentation](https://icos-carbon-portal.github.io/pylib/modules/#get_tsstart_date-end_date-hours-columns) what columns you can return. <a id='set_dates'></a>"
   ]
  },
  {
   "cell_type": "code",
   "execution_count": null,
   "metadata": {
    "scrolled": false
   },
   "outputs": [],
   "source": [
    "# These date constraints will be used in the rest of this example notebook\n",
    "start = '2018-01-01'\n",
    "end   = '2018-01-31'"
   ]
  },
  {
   "cell_type": "code",
   "execution_count": null,
   "metadata": {
    "scrolled": false
   },
   "outputs": [],
   "source": [
    "stiltdata = st.get_ts(start, end, columns='co2')\n",
    "stiltdata.head()"
   ]
  },
  {
   "cell_type": "code",
   "execution_count": null,
   "metadata": {
    "scrolled": false
   },
   "outputs": [],
   "source": [
    "# This dataset has 18 columns given by\n",
    "stiltdata.columns"
   ]
  },
  {
   "cell_type": "markdown",
   "metadata": {},
   "source": [
    "### A comment on relations between the columns \n",
    "The columns are related by\n",
    "- `co2.stilt = co2.bio + co2.fuel + co2.cement + co2.background`\n",
    "\n",
    "Where the biospheric natural fluxes: `co2.bio` split into photosynthetic uptake and release by respiration:\n",
    "- `co2.bio = co2.bio.gee + co2.bio.resp`\n",
    "\n",
    "The anthropogenic emissions related to fuel burning split up according to the fuel types:\n",
    "- `co2.fuel = co2.fuel.coal + co2.fuel.oil + co2.fuel.gas + co2.fuel.bio + co2.fuel.waste`\n",
    "\n",
    "Other anthropogenic source category emissions are related according to the formula: \n",
    "- `co2.fuel + co2.cement = co2.energy + co2.transport + co2.industry + co2.residential + co2.other_categories`\n"
   ]
  },
  {
   "cell_type": "code",
   "execution_count": null,
   "metadata": {
    "scrolled": false
   },
   "outputs": [],
   "source": [
    "df_bio = stiltdata[['co2.bio','co2.bio.gee', 'co2.bio.resp']]\n",
    "df_fuel = stiltdata[['co2.fuel','co2.fuel.coal','co2.fuel.oil','co2.fuel.gas','co2.fuel.bio','co2.fuel.waste']]\n",
    "df_source = stiltdata[['co2.fuel','co2.cement','co2.energy','co2.transport','co2.industry','co2.residential','co2.other_categories']]\n"
   ]
  },
  {
   "cell_type": "markdown",
   "metadata": {},
   "source": [
    "### Pie charts\n",
    "In the next example we sum each column and visualize the data in pie charts.<br> \n",
    "**Note:** Here we take the *absolute value* in the biospheric components since the columns contain both positive and negative values. The biospheric flux relation should then be replaced by `co2.bio = - co2.bio.gee + co2.bio.resp`, the proportions are however the same.   "
   ]
  },
  {
   "cell_type": "code",
   "execution_count": null,
   "metadata": {
    "scrolled": false
   },
   "outputs": [],
   "source": [
    "biocomponent = abs(df_bio.agg('sum'))\n",
    "fuelcomponent = df_fuel.agg('sum')\n",
    "sourcecomponent = df_source.agg('sum')\n",
    "\n",
    "# Note: \n",
    "biocomponent"
   ]
  },
  {
   "cell_type": "code",
   "execution_count": null,
   "metadata": {
    "scrolled": false
   },
   "outputs": [],
   "source": [
    "fig, axes = plt.subplots(1,3,figsize=(8,2))\n",
    "fig = my_figure_properties(fig)\n",
    "\n",
    "for ax in range(0,3):\n",
    "    current_data = [biocomponent, fuelcomponent, sourcecomponent][ax]\n",
    "    curent_title = ['STILT bio components', 'STILT fuel components','STILT source components'][ax]\n",
    "    axes[ax].pie(current_data, labels=current_data.index, textprops={'fontsize': 8}) \n",
    "    axes[ax].set_xlabel(str(curent_title))\n",
    "fig.subplots_adjust(wspace = 0.5)\n",
    "fig.suptitle('STILT CO$_2$ components', fontsize=14)\n",
    "\n",
    "\n",
    "plt.show()"
   ]
  },
  {
   "cell_type": "markdown",
   "metadata": {},
   "source": [
    "### Example of the widget"
   ]
  },
  {
   "cell_type": "code",
   "execution_count": null,
   "metadata": {
    "scrolled": false
   },
   "outputs": [],
   "source": [
    "# When using the widgets, we can change behaviour afterwards\n",
    "fig.canvas.toolbar_position = 'bottom'\n",
    "fig.suptitle('CO$_2$ pie charts', fontsize=14)\n"
   ]
  },
  {
   "cell_type": "markdown",
   "metadata": {},
   "source": [
    "### Plotting the CO${}_2$ components"
   ]
  },
  {
   "cell_type": "code",
   "execution_count": null,
   "metadata": {
    "scrolled": false
   },
   "outputs": [],
   "source": [
    "fig = my_figure()\n",
    "axis_to_plot = fig.gca()\n",
    "pd.concat([df_bio,df_fuel,df_source.drop(['co2.fuel'],axis=1)],axis=1).plot(ax = axis_to_plot)\n",
    "axis_to_plot.legend(bbox_to_anchor=(0.88,1.04), loc='upper left', fontsize=8)\n",
    "plt.plot()"
   ]
  },
  {
   "cell_type": "markdown",
   "metadata": {},
   "source": [
    "### Aggregate by day\n",
    "As an example, we now aggregate the data daily and create a stacked bar graph"
   ]
  },
  {
   "cell_type": "code",
   "execution_count": null,
   "metadata": {
    "scrolled": false
   },
   "outputs": [],
   "source": [
    "day = stiltdata.iloc[:,2:17].resample('D').sum()\n",
    "day"
   ]
  },
  {
   "cell_type": "code",
   "execution_count": null,
   "metadata": {
    "scrolled": false
   },
   "outputs": [],
   "source": [
    "# Plot the bar graph\n",
    "fig = my_figure()\n",
    "axis_to_plot = day.plot.bar(stacked='True', ax = fig.gca())\n",
    "\n",
    "# Adjust the xticks\n",
    "axis_to_plot.legend(loc='best', fontsize=8)\n",
    "axis_to_plot.xaxis.set_major_formatter(mdates.DateFormatter('%m-%d'))\n",
    "axis_to_plot.set_ylabel('$\\mathbf{Note:}$ These values are not independent')\n",
    "axis_to_plot.set_title('$\\mathbf{Note:}$ These values are not independent')\n",
    "# display\n",
    "plt.plot()"
   ]
  },
  {
   "cell_type": "markdown",
   "metadata": {},
   "source": [
    "## Load observation and compare to model result\n",
    "Next, we will compare the data from the STILT model with observed/measured data. "
   ]
  },
  {
   "cell_type": "code",
   "execution_count": null,
   "metadata": {
    "scrolled": false
   },
   "outputs": [],
   "source": [
    "from icoscp.cpb.dobj import Dobj"
   ]
  },
  {
   "cell_type": "code",
   "execution_count": null,
   "metadata": {
    "scrolled": false
   },
   "outputs": [],
   "source": [
    "kit100 = Dobj('https://hdl.handle.net/11676/LJ4uetvEho7-k9K9TUnLHfFh')"
   ]
  },
  {
   "cell_type": "code",
   "execution_count": null,
   "metadata": {
    "scrolled": false
   },
   "outputs": [],
   "source": [
    "kit100.citation"
   ]
  },
  {
   "cell_type": "markdown",
   "metadata": {},
   "source": [
    "### Create a mask to get the same timeframe as the STILT data\n",
    "Here, `start` and `end` dates are from this <a href=\"#set_dates\">notebook cell</a>. Now the last timestamp of our STILT data is `2018-01-31 21:00:00`, in order to avoid discrepancies when we compare observed data with the STILT data, we first filter the observed data.  "
   ]
  },
  {
   "cell_type": "code",
   "execution_count": null,
   "metadata": {
    "scrolled": false
   },
   "outputs": [],
   "source": [
    "enddate = pd.to_datetime(end) + pd.DateOffset(hours=21)\n",
    "mask = (kit100.data['TIMESTAMP'] >= start) & (kit100.data['TIMESTAMP'] <= enddate)\n",
    "\n",
    "obsdata = kit100.data[mask]\n",
    "obsdata.set_index('TIMESTAMP', inplace=True)\n",
    "obsdata['co2']"
   ]
  },
  {
   "cell_type": "markdown",
   "metadata": {},
   "source": [
    "### Resample STILT data\n",
    "Next, since the observation data has hourly aggregates, we now resample the STILT output to make our lives easier to compare the observation vs model."
   ]
  },
  {
   "cell_type": "code",
   "execution_count": null,
   "metadata": {
    "scrolled": false
   },
   "outputs": [],
   "source": [
    "stilthourly = stiltdata.resample('1H').mean().interpolate('linear')\n",
    "stilthourly['co2.stilt']"
   ]
  },
  {
   "cell_type": "markdown",
   "metadata": {},
   "source": [
    "### Data harmonization and plot\n",
    "Next, we merge our data frames. If we look at the length of the dataframes there could have been a discrepancy. Observations may contain fewer data points due to some interruption of the measurement or QA / QC removed values. When merging dataframes the data missing values would be represented as NaN."
   ]
  },
  {
   "cell_type": "code",
   "execution_count": null,
   "metadata": {
    "scrolled": false
   },
   "outputs": [],
   "source": [
    "harmonized = stilthourly.join(obsdata)\n",
    "fig_for_plot = my_figure()\n",
    "harmonized.plot(y = ['co2.stilt', 'co2'], grid=True, linewidth=0.5, ax =fig_for_plot.gca())"
   ]
  },
  {
   "cell_type": "markdown",
   "metadata": {},
   "source": [
    "### Plot difference"
   ]
  },
  {
   "cell_type": "code",
   "execution_count": null,
   "metadata": {
    "scrolled": false
   },
   "outputs": [],
   "source": [
    "harmonized['diff'] = harmonized['co2.stilt']-harmonized['co2']"
   ]
  },
  {
   "cell_type": "code",
   "execution_count": null,
   "metadata": {
    "scrolled": false
   },
   "outputs": [],
   "source": [
    "fig_dif = my_figure()\n",
    "ax_dif = plt.axes()\n",
    "ax_dif.plot(harmonized['diff'])\n",
    "ax_dif.grid(color='0.9')\n",
    "ax_dif.set_ylabel('diff (ppm)')\n",
    "\n",
    "# adjust the xticks\n",
    "ax_dif.xaxis.set_major_formatter(mdates.DateFormatter('%d'))"
   ]
  }
 ],
 "metadata": {
  "kernelspec": {
   "display_name": "Python 3",
   "language": "python",
   "name": "python3"
  },
  "language_info": {
   "codemirror_mode": {
    "name": "ipython",
    "version": 3
   },
   "file_extension": ".py",
   "mimetype": "text/x-python",
   "name": "python",
   "nbconvert_exporter": "python",
   "pygments_lexer": "ipython3",
   "version": "3.8.6"
  },
  "toc": {
   "base_numbering": 1,
   "nav_menu": {},
   "number_sections": false,
   "sideBar": true,
   "skip_h1_title": true,
   "title_cell": "Table of Contents",
   "title_sidebar": "Contents",
   "toc_cell": false,
   "toc_position": {},
   "toc_section_display": true,
   "toc_window_display": true
  }
 },
 "nbformat": 4,
 "nbformat_minor": 4
}
