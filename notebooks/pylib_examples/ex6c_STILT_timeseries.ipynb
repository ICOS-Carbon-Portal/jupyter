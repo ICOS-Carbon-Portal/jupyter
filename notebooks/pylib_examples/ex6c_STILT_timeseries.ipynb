{
 "cells": [
  {
   "cell_type": "markdown",
   "metadata": {},
   "source": [
    "<img src='https://www.icos-cp.eu/sites/default/files/2017-11/ICOS_CP_logo.png' width=400 align=right>\n",
    "\n",
    "# ICOS Carbon Portal Python Library\n",
    "## Example: STILT: footprints and timeseries\n",
    "\n",
    "This example shows how to load timeseries data and footprints, and make some plots using Holoviews and Geoviews to create a map."
   ]
  },
  {
   "cell_type": "markdown",
   "metadata": {},
   "source": [
    "## Documentation\n",
    "Full documentation for the library on the [project page](https://icos-carbon-portal.github.io/pylib/), how to install and wheel on [pypi.org](https://pypi.org/project/icoscp/\"), source is available on [github](https://github.com/ICOS-Carbon-Portal/pylib)"
   ]
  },
  {
   "cell_type": "code",
   "execution_count": 1,
   "metadata": {},
   "outputs": [],
   "source": [
    "# import matplotlib\n",
    "import matplotlib.pyplot as plt\n",
    "import matplotlib.dates as mdates\n",
    "%matplotlib widget\n",
    "\n",
    "import pandas as pd\n",
    "\n",
    "#Import STILT tools:\n",
    "from icoscp.stilt import stiltstation"
   ]
  },
  {
   "cell_type": "markdown",
   "metadata": {},
   "source": [
    "### Create a STILT station object"
   ]
  },
  {
   "cell_type": "code",
   "execution_count": 2,
   "metadata": {},
   "outputs": [
    {
     "data": {
      "application/vnd.jupyter.widget-view+json": {
       "model_id": "a44a5fdbc5b343819dda954c62185091",
       "version_major": 2,
       "version_minor": 0
      },
      "text/plain": [
       "  0%|          | 0/170 [00:00<?, ?it/s]"
      ]
     },
     "metadata": {},
     "output_type": "display_data"
    },
    {
     "name": "stdout",
     "output_type": "stream",
     "text": [
      "{\"id:\": \"KIT100\", \"name:\": \"KIT Karlsruhe 100m\", \"lat:\": 49.09, \"lon:\": 8.43, \"alt [m]:\": 100, \"country\": {\"common\": \"Germany\", \"official\": \"Federal Republic of Germany\", \"native\": {\"deu\": {\"official\": \"Bundesrepublik Deutschland\", \"common\": \"Deutschland\"}}}}\n"
     ]
    }
   ],
   "source": [
    "st = stiltstation.get(id='kit100')\n",
    "print(st)"
   ]
  },
  {
   "cell_type": "markdown",
   "metadata": {},
   "source": [
    "### Get time series data"
   ]
  },
  {
   "cell_type": "code",
   "execution_count": 3,
   "metadata": {},
   "outputs": [
    {
     "data": {
      "text/html": [
       "<div>\n",
       "<style scoped>\n",
       "    .dataframe tbody tr th:only-of-type {\n",
       "        vertical-align: middle;\n",
       "    }\n",
       "\n",
       "    .dataframe tbody tr th {\n",
       "        vertical-align: top;\n",
       "    }\n",
       "\n",
       "    .dataframe thead th {\n",
       "        text-align: right;\n",
       "    }\n",
       "</style>\n",
       "<table border=\"1\" class=\"dataframe\">\n",
       "  <thead>\n",
       "    <tr style=\"text-align: right;\">\n",
       "      <th></th>\n",
       "      <th>isodate</th>\n",
       "      <th>co2.stilt</th>\n",
       "      <th>co2.fuel</th>\n",
       "      <th>co2.bio</th>\n",
       "      <th>co2.background</th>\n",
       "    </tr>\n",
       "    <tr>\n",
       "      <th>date</th>\n",
       "      <th></th>\n",
       "      <th></th>\n",
       "      <th></th>\n",
       "      <th></th>\n",
       "      <th></th>\n",
       "    </tr>\n",
       "  </thead>\n",
       "  <tbody>\n",
       "    <tr>\n",
       "      <th>2018-01-01 00:00:00</th>\n",
       "      <td>1.514765e+09</td>\n",
       "      <td>413.143475</td>\n",
       "      <td>3.221731</td>\n",
       "      <td>2.403763</td>\n",
       "      <td>407.349177</td>\n",
       "    </tr>\n",
       "    <tr>\n",
       "      <th>2018-01-01 03:00:00</th>\n",
       "      <td>1.514776e+09</td>\n",
       "      <td>410.528320</td>\n",
       "      <td>1.637321</td>\n",
       "      <td>1.537977</td>\n",
       "      <td>407.294744</td>\n",
       "    </tr>\n",
       "    <tr>\n",
       "      <th>2018-01-01 06:00:00</th>\n",
       "      <td>1.514786e+09</td>\n",
       "      <td>410.118267</td>\n",
       "      <td>1.656064</td>\n",
       "      <td>1.483178</td>\n",
       "      <td>406.948165</td>\n",
       "    </tr>\n",
       "    <tr>\n",
       "      <th>2018-01-01 09:00:00</th>\n",
       "      <td>1.514797e+09</td>\n",
       "      <td>411.312663</td>\n",
       "      <td>2.844276</td>\n",
       "      <td>1.411304</td>\n",
       "      <td>407.015383</td>\n",
       "    </tr>\n",
       "    <tr>\n",
       "      <th>2018-01-01 12:00:00</th>\n",
       "      <td>1.514808e+09</td>\n",
       "      <td>410.124651</td>\n",
       "      <td>1.810577</td>\n",
       "      <td>1.090457</td>\n",
       "      <td>407.017072</td>\n",
       "    </tr>\n",
       "  </tbody>\n",
       "</table>\n",
       "</div>"
      ],
      "text/plain": [
       "                          isodate   co2.stilt  co2.fuel   co2.bio  \\\n",
       "date                                                                \n",
       "2018-01-01 00:00:00  1.514765e+09  413.143475  3.221731  2.403763   \n",
       "2018-01-01 03:00:00  1.514776e+09  410.528320  1.637321  1.537977   \n",
       "2018-01-01 06:00:00  1.514786e+09  410.118267  1.656064  1.483178   \n",
       "2018-01-01 09:00:00  1.514797e+09  411.312663  2.844276  1.411304   \n",
       "2018-01-01 12:00:00  1.514808e+09  410.124651  1.810577  1.090457   \n",
       "\n",
       "                     co2.background  \n",
       "date                                 \n",
       "2018-01-01 00:00:00      407.349177  \n",
       "2018-01-01 03:00:00      407.294744  \n",
       "2018-01-01 06:00:00      406.948165  \n",
       "2018-01-01 09:00:00      407.015383  \n",
       "2018-01-01 12:00:00      407.017072  "
      ]
     },
     "execution_count": 3,
     "metadata": {},
     "output_type": "execute_result"
    }
   ],
   "source": [
    "start = '2018-01-01'\n",
    "end = '2018-12-31'\n",
    "\n",
    "data = st.get_ts(start, end)\n",
    "data.head()"
   ]
  },
  {
   "cell_type": "markdown",
   "metadata": {},
   "source": [
    "### Plot STILT time series"
   ]
  },
  {
   "cell_type": "code",
   "execution_count": 4,
   "metadata": {},
   "outputs": [
    {
     "data": {
      "application/vnd.jupyter.widget-view+json": {
       "model_id": "8ea636f99f904921aec7d22b54092f1d",
       "version_major": 2,
       "version_minor": 0
      },
      "text/plain": [
       "Canvas(toolbar=Toolbar(toolitems=[('Home', 'Reset original view', 'home', 'home'), ('Back', 'Back to previous …"
      ]
     },
     "metadata": {},
     "output_type": "display_data"
    },
    {
     "data": {
      "text/plain": [
       "<AxesSubplot:title={'center':'KIT100'}, xlabel='date', ylabel='ppm'>"
      ]
     },
     "execution_count": 4,
     "metadata": {},
     "output_type": "execute_result"
    }
   ],
   "source": [
    "data.plot(y=['co2.stilt', 'co2.background'], title=st.id, ylabel='ppm', figsize=(8,4))"
   ]
  },
  {
   "cell_type": "markdown",
   "metadata": {},
   "source": [
    "## Extract time series with columns = 'co2'\n",
    "see documentation what columns you can return\n",
    "[https://icos-carbon-portal.github.io/pylib/modules/#get_tsstart_date-end_date-hours-columns](https://icos-carbon-portal.github.io/pylib/modules/#get_tsstart_date-end_date-hours-columns)"
   ]
  },
  {
   "cell_type": "code",
   "execution_count": 5,
   "metadata": {},
   "outputs": [],
   "source": [
    "# set date constraints for the rest of this example notebook\n",
    "start = '2018-01-01'\n",
    "end = '2018-01-31'"
   ]
  },
  {
   "cell_type": "code",
   "execution_count": 6,
   "metadata": {},
   "outputs": [
    {
     "data": {
      "text/html": [
       "<div>\n",
       "<style scoped>\n",
       "    .dataframe tbody tr th:only-of-type {\n",
       "        vertical-align: middle;\n",
       "    }\n",
       "\n",
       "    .dataframe tbody tr th {\n",
       "        vertical-align: top;\n",
       "    }\n",
       "\n",
       "    .dataframe thead th {\n",
       "        text-align: right;\n",
       "    }\n",
       "</style>\n",
       "<table border=\"1\" class=\"dataframe\">\n",
       "  <thead>\n",
       "    <tr style=\"text-align: right;\">\n",
       "      <th></th>\n",
       "      <th>isodate</th>\n",
       "      <th>co2.stilt</th>\n",
       "      <th>co2.fuel</th>\n",
       "      <th>co2.bio</th>\n",
       "      <th>co2.fuel.coal</th>\n",
       "      <th>co2.fuel.oil</th>\n",
       "      <th>co2.fuel.gas</th>\n",
       "      <th>co2.fuel.bio</th>\n",
       "      <th>co2.energy</th>\n",
       "      <th>co2.transport</th>\n",
       "      <th>co2.industry</th>\n",
       "      <th>co2.others</th>\n",
       "      <th>co2.cement</th>\n",
       "      <th>co2.background</th>\n",
       "    </tr>\n",
       "    <tr>\n",
       "      <th>date</th>\n",
       "      <th></th>\n",
       "      <th></th>\n",
       "      <th></th>\n",
       "      <th></th>\n",
       "      <th></th>\n",
       "      <th></th>\n",
       "      <th></th>\n",
       "      <th></th>\n",
       "      <th></th>\n",
       "      <th></th>\n",
       "      <th></th>\n",
       "      <th></th>\n",
       "      <th></th>\n",
       "      <th></th>\n",
       "    </tr>\n",
       "  </thead>\n",
       "  <tbody>\n",
       "    <tr>\n",
       "      <th>2018-01-01 00:00:00</th>\n",
       "      <td>1.514765e+09</td>\n",
       "      <td>413.143475</td>\n",
       "      <td>3.221731</td>\n",
       "      <td>2.403763</td>\n",
       "      <td>0.286773</td>\n",
       "      <td>1.343621</td>\n",
       "      <td>1.119607</td>\n",
       "      <td>0.420045</td>\n",
       "      <td>1.271024</td>\n",
       "      <td>0.628513</td>\n",
       "      <td>0.430774</td>\n",
       "      <td>1.060224</td>\n",
       "      <td>0.168803</td>\n",
       "      <td>407.349177</td>\n",
       "    </tr>\n",
       "    <tr>\n",
       "      <th>2018-01-01 03:00:00</th>\n",
       "      <td>1.514776e+09</td>\n",
       "      <td>410.528320</td>\n",
       "      <td>1.637321</td>\n",
       "      <td>1.537977</td>\n",
       "      <td>0.264017</td>\n",
       "      <td>0.544036</td>\n",
       "      <td>0.619384</td>\n",
       "      <td>0.192084</td>\n",
       "      <td>1.034464</td>\n",
       "      <td>0.145997</td>\n",
       "      <td>0.218527</td>\n",
       "      <td>0.296610</td>\n",
       "      <td>0.058278</td>\n",
       "      <td>407.294744</td>\n",
       "    </tr>\n",
       "    <tr>\n",
       "      <th>2018-01-01 06:00:00</th>\n",
       "      <td>1.514786e+09</td>\n",
       "      <td>410.118267</td>\n",
       "      <td>1.656064</td>\n",
       "      <td>1.483178</td>\n",
       "      <td>0.279643</td>\n",
       "      <td>0.527059</td>\n",
       "      <td>0.631566</td>\n",
       "      <td>0.198606</td>\n",
       "      <td>1.071911</td>\n",
       "      <td>0.113382</td>\n",
       "      <td>0.109647</td>\n",
       "      <td>0.391984</td>\n",
       "      <td>0.030859</td>\n",
       "      <td>406.948165</td>\n",
       "    </tr>\n",
       "    <tr>\n",
       "      <th>2018-01-01 09:00:00</th>\n",
       "      <td>1.514797e+09</td>\n",
       "      <td>411.312663</td>\n",
       "      <td>2.844276</td>\n",
       "      <td>1.411304</td>\n",
       "      <td>0.381485</td>\n",
       "      <td>1.080131</td>\n",
       "      <td>1.007604</td>\n",
       "      <td>0.345954</td>\n",
       "      <td>1.281742</td>\n",
       "      <td>0.414996</td>\n",
       "      <td>0.171809</td>\n",
       "      <td>1.017430</td>\n",
       "      <td>0.041701</td>\n",
       "      <td>407.015383</td>\n",
       "    </tr>\n",
       "    <tr>\n",
       "      <th>2018-01-01 12:00:00</th>\n",
       "      <td>1.514808e+09</td>\n",
       "      <td>410.124651</td>\n",
       "      <td>1.810577</td>\n",
       "      <td>1.090457</td>\n",
       "      <td>0.266500</td>\n",
       "      <td>0.680725</td>\n",
       "      <td>0.587117</td>\n",
       "      <td>0.256929</td>\n",
       "      <td>0.882811</td>\n",
       "      <td>0.230719</td>\n",
       "      <td>0.289990</td>\n",
       "      <td>0.613603</td>\n",
       "      <td>0.206545</td>\n",
       "      <td>407.017072</td>\n",
       "    </tr>\n",
       "  </tbody>\n",
       "</table>\n",
       "</div>"
      ],
      "text/plain": [
       "                          isodate   co2.stilt  co2.fuel   co2.bio  \\\n",
       "date                                                                \n",
       "2018-01-01 00:00:00  1.514765e+09  413.143475  3.221731  2.403763   \n",
       "2018-01-01 03:00:00  1.514776e+09  410.528320  1.637321  1.537977   \n",
       "2018-01-01 06:00:00  1.514786e+09  410.118267  1.656064  1.483178   \n",
       "2018-01-01 09:00:00  1.514797e+09  411.312663  2.844276  1.411304   \n",
       "2018-01-01 12:00:00  1.514808e+09  410.124651  1.810577  1.090457   \n",
       "\n",
       "                     co2.fuel.coal  co2.fuel.oil  co2.fuel.gas  co2.fuel.bio  \\\n",
       "date                                                                           \n",
       "2018-01-01 00:00:00       0.286773      1.343621      1.119607      0.420045   \n",
       "2018-01-01 03:00:00       0.264017      0.544036      0.619384      0.192084   \n",
       "2018-01-01 06:00:00       0.279643      0.527059      0.631566      0.198606   \n",
       "2018-01-01 09:00:00       0.381485      1.080131      1.007604      0.345954   \n",
       "2018-01-01 12:00:00       0.266500      0.680725      0.587117      0.256929   \n",
       "\n",
       "                     co2.energy  co2.transport  co2.industry  co2.others  \\\n",
       "date                                                                       \n",
       "2018-01-01 00:00:00    1.271024       0.628513      0.430774    1.060224   \n",
       "2018-01-01 03:00:00    1.034464       0.145997      0.218527    0.296610   \n",
       "2018-01-01 06:00:00    1.071911       0.113382      0.109647    0.391984   \n",
       "2018-01-01 09:00:00    1.281742       0.414996      0.171809    1.017430   \n",
       "2018-01-01 12:00:00    0.882811       0.230719      0.289990    0.613603   \n",
       "\n",
       "                     co2.cement  co2.background  \n",
       "date                                             \n",
       "2018-01-01 00:00:00    0.168803      407.349177  \n",
       "2018-01-01 03:00:00    0.058278      407.294744  \n",
       "2018-01-01 06:00:00    0.030859      406.948165  \n",
       "2018-01-01 09:00:00    0.041701      407.015383  \n",
       "2018-01-01 12:00:00    0.206545      407.017072  "
      ]
     },
     "execution_count": 6,
     "metadata": {},
     "output_type": "execute_result"
    }
   ],
   "source": [
    "stiltdata = st.get_ts(start, end, columns='co2')\n",
    "stiltdata.head()"
   ]
  },
  {
   "cell_type": "code",
   "execution_count": 7,
   "metadata": {},
   "outputs": [
    {
     "data": {
      "text/plain": [
       "Index(['isodate', 'co2.stilt', 'co2.fuel', 'co2.bio', 'co2.fuel.coal',\n",
       "       'co2.fuel.oil', 'co2.fuel.gas', 'co2.fuel.bio', 'co2.energy',\n",
       "       'co2.transport', 'co2.industry', 'co2.others', 'co2.cement',\n",
       "       'co2.background'],\n",
       "      dtype='object')"
      ]
     },
     "execution_count": 7,
     "metadata": {},
     "output_type": "execute_result"
    }
   ],
   "source": [
    "stiltdata.columns"
   ]
  },
  {
   "cell_type": "code",
   "execution_count": 8,
   "metadata": {},
   "outputs": [
    {
     "data": {
      "text/plain": [
       "['co2.fuel',\n",
       " 'co2.bio',\n",
       " 'co2.fuel.coal',\n",
       " 'co2.fuel.oil',\n",
       " 'co2.fuel.gas',\n",
       " 'co2.fuel.bio',\n",
       " 'co2.energy',\n",
       " 'co2.transport',\n",
       " 'co2.industry',\n",
       " 'co2.others',\n",
       " 'co2.cement']"
      ]
     },
     "execution_count": 8,
     "metadata": {},
     "output_type": "execute_result"
    }
   ],
   "source": [
    "stiltdata.columns[2:13].to_list()"
   ]
  },
  {
   "cell_type": "markdown",
   "metadata": {},
   "source": [
    "### Create a plot with all co2 components"
   ]
  },
  {
   "cell_type": "code",
   "execution_count": 9,
   "metadata": {},
   "outputs": [
    {
     "data": {
      "application/vnd.jupyter.widget-view+json": {
       "model_id": "191c29d3b9a04e81ade973ff31850062",
       "version_major": 2,
       "version_minor": 0
      },
      "text/plain": [
       "Canvas(toolbar=Toolbar(toolitems=[('Home', 'Reset original view', 'home', 'home'), ('Back', 'Back to previous …"
      ]
     },
     "metadata": {},
     "output_type": "display_data"
    },
    {
     "data": {
      "text/plain": [
       "[]"
      ]
     },
     "execution_count": 9,
     "metadata": {},
     "output_type": "execute_result"
    }
   ],
   "source": [
    "ax = stiltdata[stiltdata.columns[2:13].to_list()].plot()\n",
    "ax.legend(loc='best', fontsize=8)\n",
    "ax.plot()"
   ]
  },
  {
   "cell_type": "markdown",
   "metadata": {},
   "source": [
    "### Aggregate by day\n",
    "and create a stacked bar graph"
   ]
  },
  {
   "cell_type": "code",
   "execution_count": 10,
   "metadata": {},
   "outputs": [],
   "source": [
    "day = stiltdata.resample('D').sum()"
   ]
  },
  {
   "cell_type": "code",
   "execution_count": 11,
   "metadata": {},
   "outputs": [
    {
     "data": {
      "application/vnd.jupyter.widget-view+json": {
       "model_id": "2b37481f2ccb4e40ae0af928e0b1d629",
       "version_major": 2,
       "version_minor": 0
      },
      "text/plain": [
       "Canvas(toolbar=Toolbar(toolitems=[('Home', 'Reset original view', 'home', 'home'), ('Back', 'Back to previous …"
      ]
     },
     "metadata": {},
     "output_type": "display_data"
    },
    {
     "data": {
      "text/plain": [
       "[]"
      ]
     },
     "execution_count": 11,
     "metadata": {},
     "output_type": "execute_result"
    }
   ],
   "source": [
    "# plot the bar graph\n",
    "ax1 = day[stiltdata.columns[2:13].to_list()].plot.bar(stacked='True')\n",
    "ax1.legend(loc='best', fontsize=8)\n",
    "\n",
    "# adjust the xticks\n",
    "ax1.xaxis.set_major_formatter(mdates.DateFormatter('%m-%d'))\n",
    "\n",
    "# display\n",
    "ax1.plot()"
   ]
  },
  {
   "cell_type": "markdown",
   "metadata": {},
   "source": [
    "## Load observation and compare to model result"
   ]
  },
  {
   "cell_type": "code",
   "execution_count": 12,
   "metadata": {},
   "outputs": [],
   "source": [
    "from icoscp.cpb.dobj import Dobj"
   ]
  },
  {
   "cell_type": "code",
   "execution_count": 13,
   "metadata": {},
   "outputs": [],
   "source": [
    "kit100 = Dobj('https://hdl.handle.net/11676/LJ4uetvEho7-k9K9TUnLHfFh')"
   ]
  },
  {
   "cell_type": "code",
   "execution_count": 14,
   "metadata": {},
   "outputs": [
    {
     "data": {
      "text/plain": [
       "'Kubistin, D., Plaß-Dülmer, C., Arnold, S., Lindauer, M., Müller-Williams, J., Schumacher, M., ICOS RI, 2021. ICOS ATC CO2 Release, Karlsruhe (100.0 m), 2016-12-16–2021-01-31, https://hdl.handle.net/11676/LJ4uetvEho7-k9K9TUnLHfFh'"
      ]
     },
     "execution_count": 14,
     "metadata": {},
     "output_type": "execute_result"
    }
   ],
   "source": [
    "kit100.citation"
   ]
  },
  {
   "cell_type": "markdown",
   "metadata": {},
   "source": [
    "### create a mask to get the same timeframe"
   ]
  },
  {
   "cell_type": "code",
   "execution_count": 15,
   "metadata": {},
   "outputs": [
    {
     "data": {
      "text/plain": [
       "TIMESTAMP\n",
       "2018-01-01 00:00:00    412.360992\n",
       "2018-01-01 01:00:00    412.373993\n",
       "2018-01-01 02:00:00    413.381989\n",
       "2018-01-01 03:00:00    416.872009\n",
       "2018-01-01 04:00:00    414.395996\n",
       "                          ...    \n",
       "2018-01-30 20:00:00    430.531006\n",
       "2018-01-30 21:00:00    428.112000\n",
       "2018-01-30 22:00:00    431.802002\n",
       "2018-01-30 23:00:00    434.117004\n",
       "2018-01-31 00:00:00    431.378998\n",
       "Name: co2, Length: 721, dtype: float64"
      ]
     },
     "execution_count": 15,
     "metadata": {},
     "output_type": "execute_result"
    }
   ],
   "source": [
    "# we have set start and end date above (cell number 5)\n",
    "mask = (kit100.data['TIMESTAMP'] >= start) & (kit100.data['TIMESTAMP'] <= end)\n",
    "obsdata = kit100.data[mask]\n",
    "obsdata.set_index('TIMESTAMP', inplace=True)\n",
    "obsdata['co2']"
   ]
  },
  {
   "cell_type": "markdown",
   "metadata": {},
   "source": [
    "### Resample STILT data\n",
    "Because the observation are hourly aggregates, we resample the STILT output to make our lives easier to compare the observation vs model."
   ]
  },
  {
   "cell_type": "code",
   "execution_count": 16,
   "metadata": {},
   "outputs": [
    {
     "data": {
      "text/plain": [
       "date\n",
       "2018-01-01 00:00:00    413.143475\n",
       "2018-01-01 01:00:00    412.271756\n",
       "2018-01-01 02:00:00    411.400038\n",
       "2018-01-01 03:00:00    410.528320\n",
       "2018-01-01 04:00:00    410.391636\n",
       "                          ...    \n",
       "2018-01-31 17:00:00    416.111737\n",
       "2018-01-31 18:00:00    415.513248\n",
       "2018-01-31 19:00:00    415.647334\n",
       "2018-01-31 20:00:00    415.781419\n",
       "2018-01-31 21:00:00    415.915505\n",
       "Freq: H, Name: co2.stilt, Length: 742, dtype: float64"
      ]
     },
     "execution_count": 16,
     "metadata": {},
     "output_type": "execute_result"
    }
   ],
   "source": [
    "stilthourly = stiltdata.resample('1H').mean().interpolate('linear')\n",
    "stilthourly['co2.stilt']"
   ]
  },
  {
   "cell_type": "markdown",
   "metadata": {},
   "source": [
    "### Data harmonization and plot\n",
    "If you look at the lenght of the dataframes above you will see a discrepancy. Observation contains less data points. Most likely an interuption of the measurement or QA/QC removed values. We need to merge the files together on index (both have now the Time/Date se as index). Missing values will be NaN in the pandas data frame"
   ]
  },
  {
   "cell_type": "code",
   "execution_count": 17,
   "metadata": {},
   "outputs": [
    {
     "data": {
      "application/vnd.jupyter.widget-view+json": {
       "model_id": "4d199994f44c4582b2385d76386d8cdb",
       "version_major": 2,
       "version_minor": 0
      },
      "text/plain": [
       "Canvas(toolbar=Toolbar(toolitems=[('Home', 'Reset original view', 'home', 'home'), ('Back', 'Back to previous …"
      ]
     },
     "metadata": {},
     "output_type": "display_data"
    },
    {
     "data": {
      "text/plain": [
       "<AxesSubplot:xlabel='date'>"
      ]
     },
     "execution_count": 17,
     "metadata": {},
     "output_type": "execute_result"
    }
   ],
   "source": [
    "harmonized = stilthourly.join(obsdata)\n",
    "harmonized.plot(y = ['co2.stilt', 'co2'], use_index=True, grid=True)"
   ]
  },
  {
   "cell_type": "markdown",
   "metadata": {},
   "source": [
    "### Plot difference"
   ]
  },
  {
   "cell_type": "code",
   "execution_count": 18,
   "metadata": {},
   "outputs": [],
   "source": [
    "harmonized['diff'] = harmonized['co2.stilt']-harmonized['co2']"
   ]
  },
  {
   "cell_type": "code",
   "execution_count": 19,
   "metadata": {},
   "outputs": [
    {
     "data": {
      "application/vnd.jupyter.widget-view+json": {
       "model_id": "5a75d445d85b4198a81f1f360f34b4aa",
       "version_major": 2,
       "version_minor": 0
      },
      "text/plain": [
       "Canvas(toolbar=Toolbar(toolitems=[('Home', 'Reset original view', 'home', 'home'), ('Back', 'Back to previous …"
      ]
     },
     "metadata": {},
     "output_type": "display_data"
    }
   ],
   "source": [
    "plt.figure(figsize=(8,4))\n",
    "#plt.grid(color='0.9')\n",
    "ax2 = plt.axes()\n",
    "ax2.plot(harmonized['diff'])\n",
    "ax2.grid(color='0.9')\n",
    "\n",
    "# adjust the xticks\n",
    "ax2.xaxis.set_major_formatter(mdates.DateFormatter('%m-%d'))"
   ]
  }
 ],
 "metadata": {
  "kernelspec": {
   "display_name": "Python 3",
   "language": "python",
   "name": "python3"
  },
  "language_info": {
   "codemirror_mode": {
    "name": "ipython",
    "version": 3
   },
   "file_extension": ".py",
   "mimetype": "text/x-python",
   "name": "python",
   "nbconvert_exporter": "python",
   "pygments_lexer": "ipython3",
   "version": "3.8.6"
  },
  "toc": {
   "base_numbering": 1,
   "nav_menu": {},
   "number_sections": false,
   "sideBar": true,
   "skip_h1_title": true,
   "title_cell": "Table of Contents",
   "title_sidebar": "Contents",
   "toc_cell": false,
   "toc_position": {},
   "toc_section_display": true,
   "toc_window_display": true
  }
 },
 "nbformat": 4,
 "nbformat_minor": 4
}
