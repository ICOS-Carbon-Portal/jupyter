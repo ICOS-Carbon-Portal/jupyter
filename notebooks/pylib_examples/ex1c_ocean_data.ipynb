{
 "cells": [
  {
   "cell_type": "markdown",
   "id": "1d91472a-fd22-47f5-aa06-e9ae5c334723",
   "metadata": {},
   "source": [
    "<img src='https://www.icos-cp.eu/sites/default/files/2017-11/ICOS_CP_logo.png' width=400 align=right>\n",
    "\n",
    "# ICOS Carbon Portal Python Libraries: icoscp_core\n",
    "\n",
    "This example uses a foundational library called `icoscp_core` which can be used to access time-series ICOS data that are <i>previewable</i> in the ICOS Data Portal. \"Previewable\" means that it is possible to visualize the data variables in the preview plot. The library can also be used to access (meta-)data from [ICOS Cities](https://citydata.icos-cp.eu/portal/) and [SITES](https://data.fieldsites.se/portal/) data repositories. \n",
    "\n",
    "Documentation of the library, including information on running it locally, can be found on [PyPI.org](https://pypi.org/project/icoscp_core/).\n",
    "\n",
    "# Example: Access and work with ocean data\n",
    "\n",
    "More examples for how to work with ocean data can be found in \"ex3_multisource\"."
   ]
  },
  {
   "cell_type": "markdown",
   "id": "4de460f0-1516-493f-8d79-12deded0fc0f",
   "metadata": {},
   "source": [
    "### Import libraries"
   ]
  },
  {
   "cell_type": "code",
   "execution_count": null,
   "id": "f8bb8e94-2b2c-48bf-8bde-60191e27a4e7",
   "metadata": {},
   "outputs": [],
   "source": [
    "from icoscp_core.icos import data, meta, ATMO_STATION, ECO_STATION, OCEAN_STATION\n",
    "import pandas as pd\n",
    "import numpy as np\n",
    "import matplotlib.pyplot as plt\n",
    "import matplotlib.dates as mdates"
   ]
  },
  {
   "cell_type": "markdown",
   "id": "9165704b-de55-4ae4-b8ce-c52781c63b65",
   "metadata": {},
   "source": [
    "### List stations"
   ]
  },
  {
   "cell_type": "code",
   "execution_count": null,
   "id": "6c176133-d59f-4d59-a09f-cd922c2bb5fb",
   "metadata": {},
   "outputs": [],
   "source": [
    "# Stations specific for the ocean domain (see example 1a and 1b for examples for the atmosphere and ecosystem domains) \n",
    "stations = meta.list_stations(OCEAN_STATION)\n",
    "\n",
    "# Filter stations by country (e.g., Germany, 'DE')\n",
    "country_code = 'DE'\n",
    "filtered_stations = [\n",
    "    s for s in stations\n",
    "    if s.country_code == country_code\n",
    "]\n",
    "\n",
    "# Display available stations in selected country for the ocean domain\n",
    "print(\"Available stations:\")\n",
    "for station in filtered_stations:\n",
    "    print(f\"Station ID: {station.id}, Name: {station.name}, URI: {station.uri}\")\n"
   ]
  },
  {
   "cell_type": "markdown",
   "id": "50fec332-1a46-4f25-b504-c72069a74cdc",
   "metadata": {},
   "source": [
    "### View metadata for a selected station \n",
    "\n",
    "The example shows how to access some of the metadata associated with the station. "
   ]
  },
  {
   "cell_type": "code",
   "execution_count": null,
   "id": "4e605437-0d45-4433-adff-0929c01933a3",
   "metadata": {},
   "outputs": [],
   "source": [
    "# Specify a station uri from list above\n",
    "station_uri = 'http://meta.icos-cp.eu/resources/stations/OS_BALTIC-VOS'\n",
    "station_meta = meta.get_station_meta(station_uri)\n",
    "\n",
    "# Print the station name\n",
    "print('Name:', station_meta.org.name)\n",
    "\n",
    "print('Staff:')\n",
    "# Loop over all staff members and print their first name, last name, and email\n",
    "for staff_member in station_meta.staff:\n",
    "    first_name = staff_member.person.firstName\n",
    "    last_name = staff_member.person.lastName\n",
    "    email = staff_member.person.email\n",
    "    print(f\"{first_name} {last_name} ({email})\")\n"
   ]
  },
  {
   "cell_type": "markdown",
   "id": "fb7e082e-2f12-444f-85b9-33fa31dcc947",
   "metadata": {
    "tags": []
   },
   "source": [
    "### See a list of data types\n",
    "\n",
    "There are data types that in combination with the selected station make it possible to access specific data objects. In the example, filters are applied so that only data types associated with ICOS Level 2 data from the ocean domain that are previewable are shown. See more information [about data levels](https://www.icos-cp.eu/data-services/data-collection/data-levels-quality) here. Additional filters can be applied. Please refer to the documentation for more details."
   ]
  },
  {
   "cell_type": "code",
   "execution_count": null,
   "id": "439711aa-fe18-481c-bf45-8b680ce87966",
   "metadata": {},
   "outputs": [],
   "source": [
    "# Available datatypes\n",
    "data_types = meta.list_datatypes()\n",
    "\n",
    "# filters applied:\n",
    "# data types with data access (possible to view with Python)\n",
    "# data types with level 2 data\n",
    "# data types associated with stations from the ocean domain\n",
    "data_level = 2\n",
    "previewable_datatypes = [\n",
    "    dt for dt in data_types\n",
    "    if dt.has_data_access and dt.data_level==data_level and dt.theme.label == 'Ocean data'\n",
    "]\n",
    "\n",
    "for data_type in previewable_datatypes:\n",
    "    datatype_uri = data_type.uri\n",
    "    datatype_label = data_type.label\n",
    "    \n",
    "    print(f\"{datatype_label} ({datatype_uri})\")\n",
    "    "
   ]
  },
  {
   "cell_type": "markdown",
   "id": "e4fee990-be4e-40cf-9a5f-33e72d9aafab",
   "metadata": {},
   "source": [
    "### Find data objects based on the selected station and a specified data type\n",
    "\n",
    "This example shows how to get a list of data objects associated with the selected station and the data type \"ICOS OTC SOOP Release\". "
   ]
  },
  {
   "cell_type": "code",
   "execution_count": null,
   "id": "5e0bec9e-8e37-4354-8eed-f5db6edf6798",
   "metadata": {},
   "outputs": [],
   "source": [
    "# Specify a data type from the list above \n",
    "data_type = 'http://meta.icos-cp.eu/resources/cpmeta/icosOtcL2Product'\n",
    "\n",
    "station_data_objects = meta.list_data_objects(datatype = data_type, \n",
    "                                         station = station_uri)\n",
    "for station_data_object in station_data_objects:\n",
    "    station_object_filename = station_data_object.filename\n",
    "\n",
    "    print(station_object_filename)\n",
    "\n",
    "if len(station_data_objects) == 0:\n",
    "    print(f'No available objects with data type {data_type} at station {station_uri}')"
   ]
  },
  {
   "cell_type": "markdown",
   "id": "3cbda2ca-dc1e-41d2-b807-427c91dd3e69",
   "metadata": {},
   "source": [
    "### Access data for a single data object \n",
    "\n",
    "This example shows how to access the data and metadata for 34FM20231206.csv."
   ]
  },
  {
   "cell_type": "code",
   "execution_count": null,
   "id": "158c6556-035a-48f3-83a3-92a203470c85",
   "metadata": {},
   "outputs": [],
   "source": [
    "# Select a filename from the list above\n",
    "filename = '34FM20231206.csv'\n",
    "selected_data_object = next((station_data_object for station_data_object in station_data_objects if station_data_object.filename == filename), None)\n",
    "\n",
    "if selected_data_object is not None:\n",
    "    # Access metadata associated with the object\n",
    "    dobj_meta = meta.get_dobj_meta(selected_data_object)\n",
    "\n",
    "    # Access the object's data\n",
    "    dobj_arrays = data.get_columns_as_arrays(dobj_meta)\n",
    "\n",
    "    # Convert to a pandas dataframe\n",
    "    df = pd.DataFrame(dobj_arrays)\n",
    "\n",
    "    display(df)\n",
    "else:\n",
    "    print('Check filename')"
   ]
  },
  {
   "cell_type": "markdown",
   "id": "7cae5b52-b023-4bc1-b1d2-384fedf9c376",
   "metadata": {},
   "source": [
    "### Make a plot: single data column\n",
    "\n",
    "The selected data_object that has been accessed contains data for about temperature (stored in the \"Temp [degC]\" column in the DataFrame above). If you access a different data object, the data may be stored in a column with a different name. Additionally, the names of the columns containing the observation timestamp and quality flag may also differ.\n",
    "\n",
    "Before the data is plotted, quality flags are applied to exclude poor data"
   ]
  },
  {
   "cell_type": "code",
   "execution_count": null,
   "id": "71da6f51-5cb5-404d-9643-6d2a35c00c72",
   "metadata": {},
   "outputs": [],
   "source": [
    "# Run this to see available all columns\n",
    "df.columns"
   ]
  },
  {
   "cell_type": "code",
   "execution_count": null,
   "id": "1dc56ddf-adf0-4cd3-a45a-89ac9a7d4eb9",
   "metadata": {},
   "outputs": [],
   "source": [
    "time_column = 'TIMESTAMP'\n",
    "data_column = 'Temp [degC]'\n",
    "quality_flag = 'Temp [degC] QC Flag'\n",
    "value_accept_quality = '2'\n",
    "\n",
    "# Find the latest year based on the time_column\n",
    "latest_year = df[time_column].dt.year.max()\n",
    "\n",
    "columns_meta = dobj_meta.specificInfo.columns\n",
    "\n",
    "if data_column in df.columns and time_column in df.columns:\n",
    "\n",
    "    # find metadata associated with the selected column (data_column)\n",
    "    dobj_value_type = [col for col in columns_meta if col.label==data_column][0].valueType\n",
    "\n",
    "    # create label for y-axis based on the metadata\n",
    "    y_axis_label = f\"{dobj_value_type.self.label} [{dobj_value_type.unit}]\"\n",
    "    station = dobj_meta.specificInfo.acquisition.station.org.name\n",
    "\n",
    "    plot = df.plot(x=time_column, y=data_column, grid=True, title=station, style='o', markersize=3)\n",
    "    plot.set(ylabel=y_axis_label)\n",
    "\n",
    "else:\n",
    "    print(f'The selected data_column or time_column is not one of the columns in df. Choose among {list(df.columns)}.' )"
   ]
  },
  {
   "cell_type": "markdown",
   "id": "9ca6b6f9-b63c-4ec2-9ef7-060a411a626f",
   "metadata": {},
   "source": [
    "### Combine data for all data objects given the station and data type\n",
    "\n",
    "Combination of selected data columns from objects in the list \"station_data_objects\".\n",
    "\n",
    "All objects will be considered, but will only be added if they have data stored in columns with the names listed in \"data_columns\" or \"additional_column\". Columns in \"additional_columns\" are seperated from \"data_columns\" because they do not need saved information about units.  \n",
    "\n",
    "This example looks different compared to the examples for the atmosphere (ex1a) and ecosystem (ex2a) domains. The reason is that the data objects for a specific data type and station usually have files that correspond to different time periods. These should be concatenated and not merged. Concatenation in this case means that all the rows are just appended and if new columns are introduced by a data object, NaN values are assigned for the rows that miss this new column. \n"
   ]
  },
  {
   "cell_type": "code",
   "execution_count": null,
   "id": "7d1c4e1a-0f7c-403b-9b23-ad1344937ca8",
   "metadata": {},
   "outputs": [],
   "source": [
    "time_column = 'TIMESTAMP'\n",
    "\n",
    "# in the example list of station_data_objects, there are many more additional columns. Have a look at the output and add columns as needed.\n",
    "data_columns = ['Temp [degC]', 'pCO2 [uatm]']\n",
    "# quality flag columns should be listed here as well as other columns that may be interesting to have in the final df.\n",
    "additional_columns = ['Temp [degC] QC Flag', 'fCO2 [uatm] QC Flag', 'Latitude', 'Longitude']\n",
    "\n",
    "available_data_columns = []\n",
    "y_axis_labels = []\n",
    "\n",
    "first = True\n",
    "for dobj, arrs in data.batch_get_columns_as_arrays(station_data_objects):\n",
    "\n",
    "    # Convert the arrays into a DataFrame\n",
    "    df = pd.DataFrame(arrs)\n",
    "\n",
    "    if time_column not in df.columns:\n",
    "        print(f\"The column given for time ('{time_column}') is not found in {dobj.filename}. Skipping this object.\")\n",
    "        print(f\"Available columnns are '{list(df.columns)}'\")\n",
    "        continue\n",
    "        \n",
    "    # see which of the desired data_columns are available.\n",
    "    # save metadata for these.\n",
    "    found_columns = []\n",
    "    for data_column in data_columns:\n",
    "        \n",
    "        if data_column in df.columns:\n",
    "            found_columns.append(data_column)\n",
    "\n",
    "            if data_column not in available_data_columns:\n",
    "\n",
    "                available_data_columns.append(data_column)\n",
    "\n",
    "                # find y-axis label for column (used in graph)\n",
    "                dobj_meta = meta.get_dobj_meta(dobj)\n",
    "                columns_meta = dobj_meta.specificInfo.columns\n",
    "                dobj_value_type = [col for col in columns_meta if col.label==data_column][0].valueType\n",
    "                y_axis_labels.append(f\"{dobj_value_type.self.label} [{dobj_value_type.unit}]\")\n",
    "                \n",
    "    df = df[[time_column] + found_columns + additional_columns]\n",
    "\n",
    "    if len(found_columns) > 0:\n",
    "        \n",
    "        if first:\n",
    "            final_df = df\n",
    "            first = False\n",
    "        else:\n",
    "            final_df = pd.concat([final_df, df], axis=0)\n",
    "            \n",
    "    else:\n",
    "            \n",
    "        print(f\"None of '{data_columns}' found for {dobj.filename}. Skipping this object.\")\n",
    "        print(f\"Available columns are '{list(df_latest_year.columns)}'\")\n",
    "\n",
    "# time_column should be in datetime format. If not alrady, it will be convert to it here:\n",
    "final_df[time_column] = pd.to_datetime(final_df[time_column])\n",
    "\n",
    "# Make sure it is in the right order\n",
    "final_df = final_df.sort_values(time_column)\n",
    "\n",
    "display(final_df)"
   ]
  },
  {
   "cell_type": "markdown",
   "id": "4852d7d6-de2d-43d7-be29-93e8599ded97",
   "metadata": {
    "tags": []
   },
   "source": [
    "### Make a plot: two data columns on different axes\n",
    "\n",
    "Possible for two of the selected data columns. Even if more are given, only the first two in the list \"selected_data_columns\" will be used.\n",
    "\n",
    "<mark>Note that only the latest year of data is plotted</mark>. This selection was made because there are very many data points.\n",
    "\n",
    "Before the data is plotted, quality flags are applied to exclude poor data\n"
   ]
  },
  {
   "cell_type": "code",
   "execution_count": null,
   "id": "ec2164ad-8b55-4cf8-9f8b-c43e68da96c1",
   "metadata": {},
   "outputs": [],
   "source": [
    "time_column = 'TIMESTAMP'\n",
    "# Select two of the data column in dataframe \"df\"\n",
    "data_column1 = 'Temp [degC]'\n",
    "quality_flag1 = 'Temp [degC] QC Flag'\n",
    "value_accept_quality1 = '2'\n",
    "\n",
    "data_column2 = 'pCO2 [uatm]'\n",
    "quality_flag2 = 'fCO2 [uatm] QC Flag'\n",
    "value_accept_quality2 = '2'\n",
    "\n",
    "# Find the latest year based on the time_column\n",
    "latest_year = final_df[time_column].dt.year.max()\n",
    "\n",
    "# Filter the DataFrame to include only rows from the latest year\n",
    "df_latest_year = final_df[final_df[time_column].dt.year == latest_year]\n",
    "\n",
    "# Set up the plot with the first variable\n",
    "fig, ax1 = plt.subplots()\n",
    "\n",
    "# Filter based on quality flag associated with selected data_column1\n",
    "df_latest_year_quality = df_latest_year[df_latest_year[quality_flag1] == value_accept_quality1]\n",
    "\n",
    "# Find the unit for data column 1 \n",
    "dobj_value_type = [col for col in columns_meta if col.label==data_column1][0].valueType\n",
    "\n",
    "# create label for y-axis based on the metadata\n",
    "y_axis_label1 = f\"{dobj_value_type.self.label} [{dobj_value_type.unit}]\"\n",
    "\n",
    "# b stands for blue and \".\" for circle markers\n",
    "ax1.plot(df_latest_year_quality[time_column], df_latest_year_quality[data_column1], 'b.')\n",
    "ax1.set_xlabel('Time')\n",
    "ax1.set_ylabel(y_axis_label1, color='b')\n",
    "ax1.tick_params(axis='y', labelcolor='b')\n",
    "\n",
    "# Find station name\n",
    "# dobj_meta accessed in \"Access data for a single object\" section\n",
    "station = dobj_meta.specificInfo.acquisition.station.org.name\n",
    "\n",
    "# Set the title with the station name\n",
    "ax1.set_title(station)\n",
    "\n",
    "# Create a secondary y-axis for the second variable\n",
    "ax2 = ax1.twinx()  # instantiate a second axes that shares the same x-axis\n",
    "\n",
    "# Filter based on quality flag associated with selected data_column2\n",
    "df_latest_year_quality = df_latest_year[df_latest_year[quality_flag2] == value_accept_quality2]\n",
    "\n",
    "# Find the unit for data column 2\n",
    "dobj_value_type = [col for col in columns_meta if col.label==data_column2][0].valueType\n",
    "\n",
    "# create label for y-axis based on the metadata\n",
    "y_axis_label2 = f\"{dobj_value_type.self.label} [{dobj_value_type.unit}]\"\n",
    "\n",
    "# r stands for red and \".\" for circle markers\n",
    "ax2.plot(df_latest_year_quality[time_column], df_latest_year_quality[data_column2], 'r.')\n",
    "ax2.set_ylabel(y_axis_label2, color='r')\n",
    "ax2.tick_params(axis='y', labelcolor='r')\n",
    "\n",
    "# show the dates in this specific format (YYYY-MM-DD)\n",
    "ax1.xaxis.set_major_formatter(mdates.DateFormatter('%Y-%m-%d'))\n",
    "\n",
    "# Rotate the dates to fit better\n",
    "ax1.tick_params(axis='x', rotation=45)\n",
    "\n",
    "# Add grid\n",
    "ax1.grid(True)\n",
    "\n",
    "# Show the plot\n",
    "fig.tight_layout()  # to make sure labels/axes don't overlap\n",
    "plt.show()"
   ]
  }
 ],
 "metadata": {
  "kernelspec": {
   "display_name": "Python 3 (ipykernel)",
   "language": "python",
   "name": "python3"
  },
  "language_info": {
   "codemirror_mode": {
    "name": "ipython",
    "version": 3
   },
   "file_extension": ".py",
   "mimetype": "text/x-python",
   "name": "python",
   "nbconvert_exporter": "python",
   "pygments_lexer": "ipython3",
   "version": "3.10.6"
  }
 },
 "nbformat": 4,
 "nbformat_minor": 5
}
