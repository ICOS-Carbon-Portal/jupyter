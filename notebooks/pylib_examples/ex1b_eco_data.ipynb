{
 "cells": [
  {
   "cell_type": "markdown",
   "id": "1d91472a-fd22-47f5-aa06-e9ae5c334723",
   "metadata": {},
   "source": [
    "<img src='https://www.icos-cp.eu/sites/default/files/2017-11/ICOS_CP_logo.png' width=400 align=right>\n",
    "\n",
    "# ICOS Carbon Portal Python Libraries: icoscp_core\n",
    "\n",
    "This example uses a foundational library called `icoscp_core` which can be used to access time-series ICOS data that are <i>previewable</i> in the ICOS Data Portal. \"Previewable\" means that it is possible to visualize the data variables in the preview plot. The library can also be used to access (meta-)data from [ICOS Cities](https://citydata.icos-cp.eu/portal/) and [SITES](https://data.fieldsites.se/portal/) data repositories. \n",
    "\n",
    "Documentation of the library, including information on running it locally, can be found on [PyPI.org](https://pypi.org/project/icoscp_core/).\n",
    "\n",
    "# Example: Access and work with ecosystem data"
   ]
  },
  {
   "cell_type": "markdown",
   "id": "4de460f0-1516-493f-8d79-12deded0fc0f",
   "metadata": {},
   "source": [
    "### Import libraries"
   ]
  },
  {
   "cell_type": "code",
   "execution_count": null,
   "id": "f8bb8e94-2b2c-48bf-8bde-60191e27a4e7",
   "metadata": {},
   "outputs": [],
   "source": [
    "from icoscp_core.icos import data, meta, ATMO_STATION, ECO_STATION, OCEAN_STATION\n",
    "import pandas as pd\n",
    "import numpy as np\n",
    "import matplotlib.pyplot as plt\n",
    "import matplotlib.dates as mdates"
   ]
  },
  {
   "cell_type": "markdown",
   "id": "9165704b-de55-4ae4-b8ce-c52781c63b65",
   "metadata": {},
   "source": [
    "### List stations"
   ]
  },
  {
   "cell_type": "code",
   "execution_count": null,
   "id": "6c176133-d59f-4d59-a09f-cd922c2bb5fb",
   "metadata": {},
   "outputs": [],
   "source": [
    "# Stations specific for the ecosystem domain (see example 1a and 1c for examples for the atmosphere and ocean domains) \n",
    "stations = meta.list_stations(ECO_STATION)\n",
    "\n",
    "# Filter stations by country (e.g., Sweden, 'SE')\n",
    "country_code = 'SE'\n",
    "filtered_stations = [\n",
    "    s for s in stations\n",
    "    if s.country_code == country_code\n",
    "]\n",
    "\n",
    "# Display available stations in selected country for the ecosystem domain\n",
    "print(\"Available stations:\")\n",
    "for station in filtered_stations:\n",
    "    print(f\"Station ID: {station.id}, Name: {station.name}, URI: {station.uri}\")\n"
   ]
  },
  {
   "cell_type": "markdown",
   "id": "50fec332-1a46-4f25-b504-c72069a74cdc",
   "metadata": {},
   "source": [
    "### View metadata for a selected station \n",
    "\n",
    "The example shows how to access some of the metadata associated with the station. "
   ]
  },
  {
   "cell_type": "code",
   "execution_count": null,
   "id": "4e605437-0d45-4433-adff-0929c01933a3",
   "metadata": {},
   "outputs": [],
   "source": [
    "# Specify a station uri from list above\n",
    "station_uri = 'http://meta.icos-cp.eu/resources/stations/ES_SE-Deg'\n",
    "station_meta = meta.get_station_meta(station_uri)\n",
    "\n",
    "# Print the station name\n",
    "print('Name:', station_meta.org.name)\n",
    "\n",
    "print('Staff:')\n",
    "# Loop over all staff members and print their first name, last name, and email\n",
    "for staff_member in station_meta.staff:\n",
    "    first_name = staff_member.person.firstName\n",
    "    last_name = staff_member.person.lastName\n",
    "    email = staff_member.person.email\n",
    "    print(f\"{first_name} {last_name} ({email})\")\n"
   ]
  },
  {
   "cell_type": "markdown",
   "id": "fb7e082e-2f12-444f-85b9-33fa31dcc947",
   "metadata": {
    "tags": []
   },
   "source": [
    "### See a list of data types\n",
    "\n",
    "There are data types that in combination with the selected station make it possible to access specific data objects. In the example, filters are applied so that only data types associated with ICOS Level 2 data from the ecosystem domain that are previewable are shown. See more information [about data levels](https://www.icos-cp.eu/data-services/data-collection/data-levels-quality) here. Additional filters can be applied. Please refer to the documentation for more details.\n"
   ]
  },
  {
   "cell_type": "code",
   "execution_count": null,
   "id": "439711aa-fe18-481c-bf45-8b680ce87966",
   "metadata": {},
   "outputs": [],
   "source": [
    "# Available datatypes\n",
    "data_types = meta.list_datatypes()\n",
    "\n",
    "# filters applied:\n",
    "# data types with data access (possible to view with Python)\n",
    "# data types with level 2 data\n",
    "# data types associated with stations from the ecosystem domain\n",
    "data_level = 2\n",
    "previewable_datatypes = [\n",
    "    dt for dt in data_types\n",
    "    if dt.has_data_access and dt.data_level==data_level and dt.theme.label == 'Ecosystem data'\n",
    "]\n",
    "\n",
    "for data_type in previewable_datatypes:\n",
    "    datatype_uri = data_type.uri\n",
    "    datatype_label = data_type.label\n",
    "    \n",
    "    print(f\"{datatype_label} ({datatype_uri})\")"
   ]
  },
  {
   "cell_type": "markdown",
   "id": "e4fee990-be4e-40cf-9a5f-33e72d9aafab",
   "metadata": {},
   "source": [
    "### Find data objects based on the selected station and a specified data type\n",
    "\n",
    "This example shows how to get a list of data objects associated with the selected station and the data type \"Fluxnet Product\". In this case, it is only one object available."
   ]
  },
  {
   "cell_type": "code",
   "execution_count": null,
   "id": "3f0f17fd-b918-4200-9f32-e527f9f0b2e2",
   "metadata": {
    "tags": []
   },
   "outputs": [],
   "source": [
    "# Specify a data type from the list above \n",
    "data_type = 'http://meta.icos-cp.eu/resources/cpmeta/miscFluxnetProduct'\n",
    "\n",
    "station_data_objects = meta.list_data_objects(datatype = data_type, \n",
    "                                         station = station_uri)\n",
    "for station_data_object in station_data_objects:\n",
    "    station_object_filename = station_data_object.filename\n",
    "\n",
    "    print(station_object_filename)\n",
    "\n",
    "if len(station_data_objects) == 0:\n",
    "    print(f'No available objects with data type {data_type} at station {station_uri}')"
   ]
  },
  {
   "cell_type": "markdown",
   "id": "3cbda2ca-dc1e-41d2-b807-427c91dd3e69",
   "metadata": {},
   "source": [
    "### Access data\n",
    "\n",
    "This example shows how to access the data and metadata from FLX_SE-Deg_FLUXNET2015_FULLSET_HH_2001-2020_beta-3.csv.zip.\n"
   ]
  },
  {
   "cell_type": "code",
   "execution_count": null,
   "id": "65af3541-a30e-4e22-aad4-259c391cc6d2",
   "metadata": {},
   "outputs": [],
   "source": [
    "# Select a filename from the list above\n",
    "filename = 'FLX_SE-Deg_FLUXNET2015_FULLSET_HH_2001-2020_beta-3.csv.zip'\n",
    "selected_data_object = next((station_data_object for station_data_object in station_data_objects if station_data_object.filename == filename), None)\n",
    "\n",
    "if selected_data_object is not None:\n",
    "    # Access metadata associated with the object\n",
    "    dobj_meta = meta.get_dobj_meta(selected_data_object)\n",
    "\n",
    "    # Access the object's data\n",
    "    dobj_arrays = data.get_columns_as_arrays(dobj_meta)\n",
    "\n",
    "    # Convert to a pandas dataframe\n",
    "    df = pd.DataFrame(dobj_arrays)\n",
    "\n",
    "    display(df)\n",
    "else:\n",
    "    print('Check filename')\n"
   ]
  },
  {
   "cell_type": "markdown",
   "id": "7cae5b52-b023-4bc1-b1d2-384fedf9c376",
   "metadata": {},
   "source": [
    "### Make a plot: single data column\n",
    "\n",
    "The selected data object that has been accessed contains data for GPP, which can be calculated in different ways. In this example, we use the GPP stored in the \"GPP_DT_VUT_REF\" column in the dataframe df above. If you access a different data object, the data may be stored in a column with a different name. Additionally, the names of the columns containing the observation timestamp and quality flag may also differ.\n",
    "\n",
    "<mark>Note that only the latest year of data are plotted</mark>. This selection was made because there are very many data points. \n",
    "\n",
    "Before the data is plotted, the \"NEE_VUT_REF_QC\" column is used to exclude data that has been marked as poor."
   ]
  },
  {
   "cell_type": "code",
   "execution_count": null,
   "id": "0cbc5fba-c26b-44cc-bb3e-9dbc537e9f79",
   "metadata": {},
   "outputs": [],
   "source": [
    "# Run this to see available all columns\n",
    "df.columns"
   ]
  },
  {
   "cell_type": "code",
   "execution_count": null,
   "id": "1dc56ddf-adf0-4cd3-a45a-89ac9a7d4eb9",
   "metadata": {},
   "outputs": [],
   "source": [
    "time_column = 'TIMESTAMP'\n",
    "data_column = 'GPP_DT_VUT_REF'\n",
    "quality_flag = 'NEE_VUT_REF_QC'\n",
    "value_accept_quality = '0'\n",
    "\n",
    "# Find the latest year based on the time_column\n",
    "latest_year = df[time_column].dt.year.max()\n",
    "\n",
    "# Filter the DataFrame to include only rows from the latest year\n",
    "df_latest_year = df[df[time_column].dt.year == latest_year]\n",
    "\n",
    "# apply flag to excluded poor data (maked \"U\" in column \"Flag\")\n",
    "df_latest_year_quality = df_latest_year[df_latest_year[quality_flag] == value_accept_quality]\n",
    "\n",
    "# dobj_meta accessed in \"Access data\" section\n",
    "columns_meta = dobj_meta.specificInfo.columns\n",
    "\n",
    "if data_column in df_latest_year_quality.columns and time_column in df_latest_year_quality.columns:\n",
    "\n",
    "    # find metadata associated with the selected column (data_column)\n",
    "    dobj_value_type = [col for col in columns_meta if col.label==data_column][0].valueType\n",
    "\n",
    "    # create label for y-axis based on the metadata\n",
    "    y_axis_label = f\"{dobj_value_type.self.label} [{dobj_value_type.unit}]\"\n",
    "    station = dobj_meta.specificInfo.acquisition.station.org.name\n",
    "\n",
    "    plot = df_latest_year_quality.plot(x=time_column, y=data_column, grid=True, title=station, style='o', markersize = 3)\n",
    "    plot.set(ylabel=y_axis_label)\n",
    "\n",
    "else:\n",
    "    print(f'The selected data_column or time_column is not one of the columns in df. Choose among {list(df.columns)}.' )"
   ]
  },
  {
   "cell_type": "markdown",
   "id": "4852d7d6-de2d-43d7-be29-93e8599ded97",
   "metadata": {},
   "source": [
    "### Make a plot: two data columns on different axes\n",
    "\n",
    "Possible for two of the selected data columns. Even if more are given, only the first two in the list \"selected_data_columns\" will be used.\n",
    "\n",
    "<mark>Note that only the latest year of data are plotted</mark>. This selection was made because there are very many data points. \n",
    "\n",
    "Before the data is plotted, quality flags are applied to exclude poor data."
   ]
  },
  {
   "cell_type": "code",
   "execution_count": null,
   "id": "9250bc91-9ca4-401b-a5f9-d599e6c822be",
   "metadata": {},
   "outputs": [],
   "source": [
    "time_column = 'TIMESTAMP'\n",
    "# Select two of the data column in dataframe \"df\"\n",
    "data_column1 = 'GPP_DT_VUT_REF'\n",
    "quality_flag1 = 'NEE_VUT_REF_QC'\n",
    "value_accept_quality1 = '0'\n",
    "\n",
    "data_column2 = 'SW_IN_F'\n",
    "quality_flag2 = 'SW_IN_F_QC'\n",
    "value_accept_quality2 = '0'\n",
    "\n",
    "# Find the latest year based on the time_column\n",
    "latest_year = df[time_column].dt.year.max()\n",
    "\n",
    "# Filter the DataFrame to include only rows from the latest year\n",
    "df_latest_year = df[df[time_column].dt.year == latest_year]\n",
    "\n",
    "# Set up the plot with the first variable\n",
    "fig, ax1 = plt.subplots()\n",
    "\n",
    "# Filter based on quality flag associated with selected data_column1\n",
    "df_latest_year_quality = df_latest_year[df_latest_year[quality_flag1] == value_accept_quality1]\n",
    "\n",
    "# Find the unit for data column 1 \n",
    "dobj_value_type = [col for col in columns_meta if col.label==data_column1][0].valueType\n",
    "\n",
    "# create label for y-axis based on the metadata\n",
    "y_axis_label1 = f\"{dobj_value_type.self.label} [{dobj_value_type.unit}]\"\n",
    "\n",
    "# b stands for blue and \".\" for circle markers\n",
    "ax1.plot(df_latest_year_quality[time_column], df_latest_year_quality[data_column1], 'b.')\n",
    "ax1.set_xlabel('Time')\n",
    "ax1.set_ylabel(y_axis_label1, color='b')\n",
    "ax1.tick_params(axis='y', labelcolor='b')\n",
    "\n",
    "# Find station name\n",
    "# dobj_meta accessed in \"Access data\" section\n",
    "station = dobj_meta.specificInfo.acquisition.station.org.name\n",
    "\n",
    "# Set the title with the station name\n",
    "ax1.set_title(station)\n",
    "\n",
    "# Create a secondary y-axis for the second variable\n",
    "ax2 = ax1.twinx()  # instantiate a second axes that shares the same x-axis\n",
    "\n",
    "# Filter based on quality flag associated with selected data_column2\n",
    "df_latest_year_quality = df_latest_year[df_latest_year[quality_flag2] == value_accept_quality2]\n",
    "\n",
    "# Find the unit for data column 2\n",
    "dobj_value_type = [col for col in columns_meta if col.label==data_column2][0].valueType\n",
    "\n",
    "# create label for y-axis based on the metadata\n",
    "y_axis_label2 = f\"{dobj_value_type.self.label} [{dobj_value_type.unit}]\"\n",
    "\n",
    "# r stands for red and \".\" for circle markers\n",
    "ax2.plot(df_latest_year_quality[time_column], df_latest_year_quality[data_column2], 'r.')\n",
    "ax2.set_ylabel(y_axis_label2, color='r')\n",
    "ax2.tick_params(axis='y', labelcolor='r')\n",
    "\n",
    "# show the dates in this specific format (YYYY-MM-DD)\n",
    "ax1.xaxis.set_major_formatter(mdates.DateFormatter('%Y-%m-%d'))\n",
    "\n",
    "# Rotate the dates to fit better\n",
    "ax1.tick_params(axis='x', rotation=45)\n",
    "\n",
    "# Add grid\n",
    "ax1.grid(True)\n",
    "\n",
    "# Show the plot\n",
    "fig.tight_layout()  # to make sure labels/axes don't overlap\n",
    "plt.show()"
   ]
  }
 ],
 "metadata": {
  "kernelspec": {
   "display_name": "Python 3 (ipykernel)",
   "language": "python",
   "name": "python3"
  },
  "language_info": {
   "codemirror_mode": {
    "name": "ipython",
    "version": 3
   },
   "file_extension": ".py",
   "mimetype": "text/x-python",
   "name": "python",
   "nbconvert_exporter": "python",
   "pygments_lexer": "ipython3",
   "version": "3.10.6"
  }
 },
 "nbformat": 4,
 "nbformat_minor": 5
}
