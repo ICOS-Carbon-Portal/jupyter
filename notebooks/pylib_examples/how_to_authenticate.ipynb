{
 "cells": [
  {
   "cell_type": "markdown",
   "id": "cbd43b33-e6f5-408b-8ccb-9a9aab522524",
   "metadata": {},
   "source": [
    "<img src='https://www.icos-cp.eu/sites/default/files/2017-11/ICOS_CP_logo.png' width=400 align=right>\n",
    "\n",
    "\n",
    "## Authentication\n",
    "\n",
    "Authenticate for:\n",
    "\n",
    "- The ability to run all example notebooks locally instead of on the ICOS servers  (exploredata.icos-cp.eu and jupyter.icos-cp.eu). This is necessary to access the data, but not the metadata.\n",
    "    \n",
    "- The ability to access (meta-)data from [ICOS Cities](https://citydata.icos-cp.eu/portal/) and [SITES](https://data.fieldsites.se/portal/) locally and on our servers (exploredata.icos-cp.eu and jupyter.icos-cp.eu).\n",
    "\n",
    "In short, to use the library without restrictions, you must accept the license agreements associated with the different portals. Once accepted, this information will be recorded in a file that is automatically created when you run the code below, and it will be checked before you can use the library.\n",
    "\n",
    "When you run the code below, you will be prompted to provide your login credentials. These credentials are the same as those used to log in to the portals and must be provided via the \"password login\" tab.\n",
    "\n",
    "It is worth mentioning that ICOS and ICOS Cities share a joint authentication system, meaning the same credentials can be used to log in to both data portals. However, the license agreement acceptance is not shared between them.\n",
    "\n",
    "<b>Before running the code</b>, ensure you have logged in and accepted the license agreements. See examples of how to do this for the individual portals below."
   ]
  },
  {
   "cell_type": "markdown",
   "id": "91438e98-6966-4b01-9300-bd9592f3bf52",
   "metadata": {},
   "source": [
    "## ICOS Carbon Portal\n",
    "\n",
    "1. Got to the [ICOS data portal](https://data.icos-cp.eu)\n",
    "2. Log in (top right corner)\n",
    "3. Choose \"Password sign in\" (use \"Create account / forgot password\" as needed)\n",
    "\n",
    "<img src=\"img/password_signin.png\" align=\"left\"> <br clear=\"all\" />\n",
    "\n",
    "4. Go to \"My account\" (top right corner)\n",
    "5. Check the \"Accept license\" box\n",
    "6. Click on \"Save profile\"\n",
    "\n",
    "<img src=\"img/accept_license.png\" align=\"left\"> <br clear=\"all\" />\n",
    "\n",
    "7. Come back here and run below cell\n",
    "8. Use the same login as used for \"Password sign in\""
   ]
  },
  {
   "cell_type": "code",
   "execution_count": null,
   "id": "7ac74a91-d7fc-4847-9299-5ce6e7b9d08e",
   "metadata": {},
   "outputs": [],
   "source": [
    "from icoscp_core.icos import auth\n",
    "auth.init_config_file()\n",
    "# Check for successful authentication.\n",
    "try:\n",
    "    print('---')\n",
    "    auth.get_token()\n",
    "except Exception as e:\n",
    "    print(f'\\x1b[38;2;231;92;88;48;2;255;221;221mException\\x1b[30m: {str(e)} \\x1b[m')\n",
    "else:\n",
    "    print('authentication OK')"
   ]
  },
  {
   "cell_type": "markdown",
   "id": "847d13f5-5600-42c0-91f1-50414dd78a97",
   "metadata": {},
   "source": [
    "## ICOS Cities\n",
    "\n",
    "1. Go to [ICOS Cities data portal](https://citydata.icos-cp.eu/portal/)\n",
    "\n",
    "Follow steps 2-8 outlined for authentication with the ICOS data portal. The only difference is the styling of the pages. Finish by running the cell below."
   ]
  },
  {
   "cell_type": "code",
   "execution_count": null,
   "id": "5a143d3e-3be0-47c5-84af-8b8f312f3732",
   "metadata": {},
   "outputs": [],
   "source": [
    "from icoscp_core.cities import auth\n",
    "auth.init_config_file()\n",
    "# Check for successful authentication.\n",
    "try:\n",
    "    print('---')\n",
    "    auth.get_token()\n",
    "except Exception as e:\n",
    "    print(f'\\x1b[38;2;231;92;88;48;2;255;221;221mException\\x1b[30m: {str(e)} \\x1b[m')\n",
    "else:\n",
    "    print('authentication OK')"
   ]
  },
  {
   "cell_type": "markdown",
   "id": "1d16c14c-5fdb-4d70-bb3f-7963bc98b212",
   "metadata": {},
   "source": [
    "## SITES\n",
    "\n",
    "1. Go to [SITES data portal](https://data.fieldsites.se/portal/)\n",
    "\n",
    "Follow steps 2-8 outlined for authentication with the ICOS data portal. The only difference is the styling of the pages. Finish by running the cell below."
   ]
  },
  {
   "cell_type": "code",
   "execution_count": null,
   "id": "c2e0f0c0-a12e-45a9-b226-07e193a06cae",
   "metadata": {},
   "outputs": [],
   "source": [
    "from icoscp_core.sites import auth\n",
    "auth.init_config_file()\n",
    "# Check for successful authentication.\n",
    "try:\n",
    "    print('---')\n",
    "    auth.get_token()\n",
    "except Exception as e:\n",
    "    print(f'\\x1b[38;2;231;92;88;48;2;255;221;221mException\\x1b[30m: {str(e)} \\x1b[m')\n",
    "else:\n",
    "    print('authentication OK')"
   ]
  }
 ],
 "metadata": {
  "kernelspec": {
   "display_name": "Python 3 (ipykernel)",
   "language": "python",
   "name": "python3"
  },
  "language_info": {
   "codemirror_mode": {
    "name": "ipython",
    "version": 3
   },
   "file_extension": ".py",
   "mimetype": "text/x-python",
   "name": "python",
   "nbconvert_exporter": "python",
   "pygments_lexer": "ipython3",
   "version": "3.10.6"
  },
  "widgets": {
   "application/vnd.jupyter.widget-state+json": {
    "state": {},
    "version_major": 2,
    "version_minor": 0
   }
  }
 },
 "nbformat": 4,
 "nbformat_minor": 5
}
