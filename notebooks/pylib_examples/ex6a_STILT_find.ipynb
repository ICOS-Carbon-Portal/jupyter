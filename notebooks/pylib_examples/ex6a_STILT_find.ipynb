{
 "cells": [
  {
   "cell_type": "markdown",
   "id": "analyzed-dividend",
   "metadata": {},
   "source": [
    "<img src='https://www.icos-cp.eu/sites/default/files/2017-11/ICOS_CP_logo.png' width=400 align=right>\n",
    "\n",
    "# ICOS Carbon Portal Python Library\n",
    "## Example: STILT\n",
    "\n",
    "This example is showcasing how to **search** for STILT stations"
   ]
  },
  {
   "cell_type": "markdown",
   "id": "confident-relation",
   "metadata": {},
   "source": [
    "## Documentation\n",
    "Full documentation for the library on the [project page](https://icos-carbon-portal.github.io/pylib/), how to install and wheel on [pypi.org](https://pypi.org/project/icoscp/\"), source is available on [github](https://github.com/ICOS-Carbon-Portal/pylib)"
   ]
  },
  {
   "cell_type": "markdown",
   "id": "absolute-archives",
   "metadata": {},
   "source": [
    "## Load the library"
   ]
  },
  {
   "cell_type": "code",
   "execution_count": null,
   "id": "welcome-saturn",
   "metadata": {},
   "outputs": [],
   "source": [
    "from icoscp.stilt import stiltstation"
   ]
  },
  {
   "cell_type": "code",
   "execution_count": null,
   "id": "lightweight-grocery",
   "metadata": {},
   "outputs": [],
   "source": [
    "# create a simple function to prit the Station name\n",
    "def stprint(stations):\n",
    "    if not 'empty' in stations.keys():\n",
    "        for s in stations.keys():\n",
    "            print(stations[s]['id'],stations[s]['name'], stations[s]['years'])\n",
    "    else:\n",
    "        print(stations)"
   ]
  },
  {
   "cell_type": "markdown",
   "id": "numerous-grounds",
   "metadata": {},
   "source": [
    "## Help"
   ]
  },
  {
   "cell_type": "code",
   "execution_count": null,
   "id": "opponent-disney",
   "metadata": {},
   "outputs": [],
   "source": [
    "help(stiltstation)"
   ]
  },
  {
   "cell_type": "markdown",
   "id": "massive-trading",
   "metadata": {},
   "source": [
    "## Find stations:"
   ]
  },
  {
   "cell_type": "markdown",
   "id": "innocent-blogger",
   "metadata": {},
   "source": [
    "\n",
    "### arbitrary text search"
   ]
  },
  {
   "cell_type": "code",
   "execution_count": null,
   "id": "public-seller",
   "metadata": {},
   "outputs": [],
   "source": [
    "myStations = stiltstation.find(search='KIT')\n",
    "stprint(myStations)"
   ]
  },
  {
   "cell_type": "markdown",
   "id": "undefined-coordinate",
   "metadata": {},
   "source": [
    "### by country"
   ]
  },
  {
   "cell_type": "code",
   "execution_count": null,
   "id": "commercial-proposal",
   "metadata": {},
   "outputs": [],
   "source": [
    "myStations = stiltstation.find(country='poland')\n",
    "stprint(myStations)"
   ]
  },
  {
   "cell_type": "markdown",
   "id": "sealed-border",
   "metadata": {},
   "source": [
    "### by ID"
   ]
  },
  {
   "cell_type": "code",
   "execution_count": null,
   "id": "fifteen-charm",
   "metadata": {},
   "outputs": [],
   "source": [
    "myStations = stiltstation.find(id='TA')\n",
    "stprint(myStations)"
   ]
  },
  {
   "cell_type": "code",
   "execution_count": null,
   "id": "pretty-ancient",
   "metadata": {},
   "outputs": [],
   "source": [
    "myStations = stiltstation.find(id='KIT')\n",
    "stprint(myStations)"
   ]
  },
  {
   "cell_type": "markdown",
   "id": "revolutionary-richardson",
   "metadata": {},
   "source": [
    "### spatial filters\n",
    "\n",
    "#### bounding box\n",
    "approximately scandinavia"
   ]
  },
  {
   "cell_type": "code",
   "execution_count": null,
   "id": "happy-lemon",
   "metadata": {},
   "outputs": [],
   "source": [
    "myStations = stiltstation.find(bbox=[(70,5),(55,32)]) \n",
    "stprint(myStations)"
   ]
  },
  {
   "cell_type": "markdown",
   "id": "thousand-superintendent",
   "metadata": {},
   "source": [
    "#### pinpoint\n",
    "approximately Lund with 200 km distance."
   ]
  },
  {
   "cell_type": "code",
   "execution_count": null,
   "id": "advance-phase",
   "metadata": {},
   "outputs": [],
   "source": [
    "myStations = stiltstation.find(pinpoint=[55.7,13.1,200]) \n",
    "stprint(myStations)"
   ]
  },
  {
   "cell_type": "markdown",
   "id": "patent-persian",
   "metadata": {},
   "source": [
    "### temporal\n",
    "Please be aware, that the actual data is not filtered, the result will return stations where data is **available** according to your filter. Three keywords are available, **sdate**: >= start date, **edate**: <= end date, **>dates**: [ ], a list of dates, NOT a range. If you provide sdate AND edate, stations are returned where data is available within that range.\n",
    "<br> The following input formats are accepted:\n",
    "- string: yyyy yyyy-mm yyyy/mm yyyy-mm-dd yyyy/mm/dd \n",
    "- float or integer representing a unixtimestamp for seconds since 1970.01.01\n",
    "- python datetime object\n",
    "- pandas datetime object"
   ]
  },
  {
   "cell_type": "markdown",
   "id": "frozen-monday",
   "metadata": {},
   "source": [
    "#### start date"
   ]
  },
  {
   "cell_type": "code",
   "execution_count": null,
   "id": "determined-conservative",
   "metadata": {},
   "outputs": [],
   "source": [
    "myStations = stiltstation.find(sdate='2020/05')\n",
    "stprint(myStations)"
   ]
  },
  {
   "cell_type": "markdown",
   "id": "baking-astrology",
   "metadata": {},
   "source": [
    "#### end date"
   ]
  },
  {
   "cell_type": "code",
   "execution_count": null,
   "id": "rocky-mustang",
   "metadata": {},
   "outputs": [],
   "source": [
    "import datetime\n",
    "myStations = stiltstation.find(edate='2006-12-31')\n",
    "stprint(myStations)"
   ]
  },
  {
   "cell_type": "code",
   "execution_count": null,
   "id": "identical-johnston",
   "metadata": {},
   "outputs": [],
   "source": [
    "# Using a UNIX Timestamp (seconds sincs 1970-01-01)\n",
    "import time\n",
    "now = time.time()\n",
    "print(now)\n",
    "myStations = stiltstation.find(edate=now)\n",
    "len(myStations)"
   ]
  },
  {
   "cell_type": "markdown",
   "id": "empirical-israeli",
   "metadata": {},
   "source": [
    "#### range"
   ]
  },
  {
   "cell_type": "code",
   "execution_count": null,
   "id": "parental-permit",
   "metadata": {},
   "outputs": [],
   "source": [
    "myStations = stiltstation.find(sdate= '2018-05-01', edate='2018-06-01')\n",
    "for s in myStations:\n",
    "    print(myStations[s]['id'], sorted(myStations[s]['years']))"
   ]
  },
  {
   "cell_type": "code",
   "execution_count": null,
   "id": "lyric-friday",
   "metadata": {},
   "outputs": [],
   "source": [
    "myStations = stiltstation.find(sdate= '2018', edate='2018')\n",
    "stprint(myStations)"
   ]
  },
  {
   "cell_type": "markdown",
   "id": "artificial-burlington",
   "metadata": {},
   "source": [
    "### combine filters\n",
    "Filters are applied in sequence of input and each result is the base for the next filter.\n",
    "<br>For example you could search for stations in a bounding box and filter the result for a specific country"
   ]
  },
  {
   "cell_type": "code",
   "execution_count": null,
   "id": "beneficial-accent",
   "metadata": {},
   "outputs": [],
   "source": [
    "myStations = stiltstation.find(bbox=[(70,5),(55,32)], country='Norway') \n",
    "stprint(myStations)"
   ]
  },
  {
   "cell_type": "code",
   "execution_count": null,
   "id": "recorded-lease",
   "metadata": {},
   "outputs": [],
   "source": [
    "myStations = stiltstation.find(sdate= '2018-05-01', edate='2018-06-01', country='IT')\n",
    "for s in myStations:\n",
    "    print(myStations[s]['id'], sorted(myStations[s]['years']))"
   ]
  },
  {
   "cell_type": "markdown",
   "id": "recreational-soccer",
   "metadata": {},
   "source": [
    "## Output format"
   ]
  },
  {
   "cell_type": "markdown",
   "id": "dependent-track",
   "metadata": {},
   "source": [
    "### pandas"
   ]
  },
  {
   "cell_type": "code",
   "execution_count": null,
   "id": "racial-puzzle",
   "metadata": {},
   "outputs": [],
   "source": [
    "stiltstation.find(country=['hungary','austria'], outfmt='pandas')"
   ]
  },
  {
   "cell_type": "markdown",
   "id": "individual-metadata",
   "metadata": {},
   "source": [
    "### map (folium, leaflet)\n",
    "Display the map directly if you are working in a Jupyter Notebook, \n",
    "<br> or save the map to html file if you work in python."
   ]
  },
  {
   "cell_type": "code",
   "execution_count": null,
   "id": "owned-internship",
   "metadata": {},
   "outputs": [],
   "source": [
    "stiltstation.find(country='italy' ,outfmt='map')"
   ]
  },
  {
   "cell_type": "code",
   "execution_count": null,
   "id": "about-central",
   "metadata": {},
   "outputs": [],
   "source": [
    "stiltstation.find(country='finland' ,outfmt='map').save('myMap.html')"
   ]
  }
 ],
 "metadata": {
  "kernelspec": {
   "display_name": "Python 3",
   "language": "python",
   "name": "python3"
  },
  "language_info": {
   "codemirror_mode": {
    "name": "ipython",
    "version": 3
   },
   "file_extension": ".py",
   "mimetype": "text/x-python",
   "name": "python",
   "nbconvert_exporter": "python",
   "pygments_lexer": "ipython3",
   "version": "3.8.6"
  },
  "toc": {
   "base_numbering": 1,
   "nav_menu": {},
   "number_sections": false,
   "sideBar": true,
   "skip_h1_title": true,
   "title_cell": "Table of Contents",
   "title_sidebar": "Contents",
   "toc_cell": false,
   "toc_position": {
    "height": "calc(100% - 180px)",
    "left": "10px",
    "top": "150px",
    "width": "165px"
   },
   "toc_section_display": true,
   "toc_window_display": true
  }
 },
 "nbformat": 4,
 "nbformat_minor": 5
}
