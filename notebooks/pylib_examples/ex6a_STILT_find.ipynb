{
 "cells": [
  {
   "cell_type": "markdown",
   "id": "second-activity",
   "metadata": {},
   "source": [
    "<img src='https://www.icos-cp.eu/sites/default/files/2017-11/ICOS_CP_logo.png' width=400 align=right>\n",
    "\n",
    "# ICOS Carbon Portal Python Library\n",
    "## Example: STILT\n",
    "\n",
    "This example is showcasing how to **search** for STILT stations"
   ]
  },
  {
   "cell_type": "markdown",
   "id": "satisfied-fight",
   "metadata": {},
   "source": [
    "## Documentation\n",
    "Full documentation for the library on the [project page](https://icos-carbon-portal.github.io/pylib/), how to install and wheel on [pypi.org](https://pypi.org/project/icoscp/), source is available on [github](https://github.com/ICOS-Carbon-Portal/pylib)"
   ]
  },
  {
   "cell_type": "markdown",
   "id": "unexpected-rescue",
   "metadata": {},
   "source": [
    "## Load the library"
   ]
  },
  {
   "cell_type": "code",
   "execution_count": null,
   "id": "subsequent-naples",
   "metadata": {},
   "outputs": [],
   "source": [
    "import os\n",
    "import matplotlib.pyplot as plt\n",
    "from matplotlib import colors\n",
    "import datetime as dt\n",
    "from icoscp.stilt import stiltstation"
   ]
  },
  {
   "cell_type": "code",
   "execution_count": null,
   "id": "prompt-pillow",
   "metadata": {},
   "outputs": [],
   "source": [
    "# create a simple function to prit the Station name\n",
    "def stprint(stations):\n",
    "    if not 'empty' in stations.keys():\n",
    "        for s in stations.keys():\n",
    "            print(stations[s]['id'],stations[s]['name'], stations[s]['years'])\n",
    "    else:\n",
    "        print(stations)"
   ]
  },
  {
   "cell_type": "markdown",
   "id": "subtle-right",
   "metadata": {},
   "source": [
    "## Help"
   ]
  },
  {
   "cell_type": "code",
   "execution_count": null,
   "id": "excess-compilation",
   "metadata": {},
   "outputs": [],
   "source": [
    "help(stiltstation)"
   ]
  },
  {
   "cell_type": "markdown",
   "id": "pressed-original",
   "metadata": {},
   "source": [
    "## Find stations:"
   ]
  },
  {
   "cell_type": "markdown",
   "id": "deadly-internet",
   "metadata": {},
   "source": [
    "\n",
    "### arbitrary text search"
   ]
  },
  {
   "cell_type": "code",
   "execution_count": null,
   "id": "monetary-jacksonville",
   "metadata": {},
   "outputs": [],
   "source": [
    "myStations = stiltstation.find(search='KIT')\n",
    "stprint(myStations)"
   ]
  },
  {
   "cell_type": "markdown",
   "id": "opening-wright",
   "metadata": {},
   "source": [
    "### by country"
   ]
  },
  {
   "cell_type": "code",
   "execution_count": null,
   "id": "ranging-forty",
   "metadata": {},
   "outputs": [],
   "source": [
    "myStations = stiltstation.find(country='poland')\n",
    "stprint(myStations)"
   ]
  },
  {
   "cell_type": "markdown",
   "id": "fewer-fellow",
   "metadata": {},
   "source": [
    "### by ID"
   ]
  },
  {
   "cell_type": "code",
   "execution_count": null,
   "id": "entitled-miniature",
   "metadata": {},
   "outputs": [],
   "source": [
    "myStations = stiltstation.find(id='TA')\n",
    "stprint(myStations)"
   ]
  },
  {
   "cell_type": "code",
   "execution_count": null,
   "id": "sapphire-stocks",
   "metadata": {},
   "outputs": [],
   "source": [
    "myStations = stiltstation.find(id='KIT')\n",
    "stprint(myStations)"
   ]
  },
  {
   "cell_type": "markdown",
   "id": "ruled-oriental",
   "metadata": {},
   "source": [
    "### spatial filters\n",
    "\n",
    "#### bounding box\n",
    "approximately scandinavia"
   ]
  },
  {
   "cell_type": "code",
   "execution_count": null,
   "id": "about-literature",
   "metadata": {},
   "outputs": [],
   "source": [
    "myStations = stiltstation.find(bbox=[(70,5),(55,32)]) \n",
    "stprint(myStations)"
   ]
  },
  {
   "cell_type": "markdown",
   "id": "muslim-clinic",
   "metadata": {},
   "source": [
    "#### pinpoint\n",
    "approximately Lund with 200 km distance."
   ]
  },
  {
   "cell_type": "code",
   "execution_count": null,
   "id": "flying-petersburg",
   "metadata": {},
   "outputs": [],
   "source": [
    "myStations = stiltstation.find(pinpoint=[55.7,13.1,200]) \n",
    "stprint(myStations)"
   ]
  },
  {
   "cell_type": "markdown",
   "id": "upset-lightning",
   "metadata": {},
   "source": [
    "### temporal\n",
    "Please be aware, that the actual data is not filtered, the result will return stations where data is **available** according to your filter. Three keywords are available, **sdate**: >= start date, **edate**: <= end date, **>dates**: [ ], a list of dates, NOT a range. If you provide sdate AND edate, stations are returned where data is available within that range.\n",
    "<br> The following input formats are accepted:\n",
    "- string: yyyy yyyy-mm yyyy/mm yyyy-mm-dd yyyy/mm/dd \n",
    "- float or integer representing a unixtimestamp for seconds since 1970.01.01\n",
    "- python datetime object\n",
    "- pandas datetime object"
   ]
  },
  {
   "cell_type": "markdown",
   "id": "still-scientist",
   "metadata": {},
   "source": [
    "#### start date"
   ]
  },
  {
   "cell_type": "code",
   "execution_count": null,
   "id": "generic-completion",
   "metadata": {},
   "outputs": [],
   "source": [
    "myStations = stiltstation.find(sdate='2020/05')\n",
    "stprint(myStations)"
   ]
  },
  {
   "cell_type": "markdown",
   "id": "armed-hepatitis",
   "metadata": {},
   "source": [
    "#### end date"
   ]
  },
  {
   "cell_type": "code",
   "execution_count": null,
   "id": "grand-camera",
   "metadata": {},
   "outputs": [],
   "source": [
    "import datetime\n",
    "myStations = stiltstation.find(edate='2006-12-31')\n",
    "stprint(myStations)"
   ]
  },
  {
   "cell_type": "code",
   "execution_count": null,
   "id": "renewable-penetration",
   "metadata": {},
   "outputs": [],
   "source": [
    "# Using a UNIX Timestamp (seconds sincs 1970-01-01)\n",
    "import time\n",
    "now = time.time()\n",
    "print(now)\n",
    "myStations = stiltstation.find(edate=now)\n",
    "len(myStations)"
   ]
  },
  {
   "cell_type": "markdown",
   "id": "atmospheric-script",
   "metadata": {},
   "source": [
    "#### range"
   ]
  },
  {
   "cell_type": "code",
   "execution_count": null,
   "id": "mexican-lafayette",
   "metadata": {},
   "outputs": [],
   "source": [
    "myStations = stiltstation.find(sdate= '2018-05-01', edate='2018-06-01')\n",
    "for s in myStations:\n",
    "    print(myStations[s]['id'], sorted(myStations[s]['years']))"
   ]
  },
  {
   "cell_type": "code",
   "execution_count": null,
   "id": "central-beatles",
   "metadata": {},
   "outputs": [],
   "source": [
    "myStations = stiltstation.find(sdate= '2018', edate='2018')\n",
    "stprint(myStations)"
   ]
  },
  {
   "cell_type": "markdown",
   "id": "posted-printing",
   "metadata": {},
   "source": [
    "#### project\n",
    "The choice `project = 'icos'` will only return STILT-stations that are ICOS-stations."
   ]
  },
  {
   "cell_type": "code",
   "execution_count": null,
   "id": "excellent-interference",
   "metadata": {},
   "outputs": [],
   "source": [
    "myStations = stiltstation.find(project = 'icos')\n",
    "stprint(myStations)"
   ]
  },
  {
   "cell_type": "markdown",
   "id": "thrown-carol",
   "metadata": {},
   "source": [
    "### combine filters\n",
    "Filters are applied in sequence of input and each result is the base for the next filter.\n",
    "<br>For example you could search for stations in a bounding box and filter the result for a specific country."
   ]
  },
  {
   "cell_type": "code",
   "execution_count": null,
   "id": "narrow-merit",
   "metadata": {},
   "outputs": [],
   "source": [
    "myStations = stiltstation.find(bbox=[(70,5),(55,32)], country='Norway') \n",
    "stprint(myStations)"
   ]
  },
  {
   "cell_type": "code",
   "execution_count": null,
   "id": "korean-shakespeare",
   "metadata": {},
   "outputs": [],
   "source": [
    "myStations = stiltstation.find(sdate= '2018-05-01', edate='2018-06-01', country='IT')\n",
    "for s in myStations:\n",
    "    print(myStations[s]['id'], sorted(myStations[s]['years']))"
   ]
  },
  {
   "cell_type": "markdown",
   "id": "blond-partition",
   "metadata": {},
   "source": [
    "## Output format\n",
    "### dict (default)"
   ]
  },
  {
   "cell_type": "code",
   "execution_count": null,
   "id": "executed-therapy",
   "metadata": {},
   "outputs": [],
   "source": [
    "stiltstation.find(id='HUN115', outfmt='dict')"
   ]
  },
  {
   "cell_type": "markdown",
   "id": "smoking-stake",
   "metadata": {},
   "source": [
    "### pandas"
   ]
  },
  {
   "cell_type": "code",
   "execution_count": null,
   "id": "alive-transcript",
   "metadata": {},
   "outputs": [],
   "source": [
    "stiltstation.find(country=['hungary','austria'], outfmt='pandas')"
   ]
  },
  {
   "cell_type": "markdown",
   "id": "contemporary-trick",
   "metadata": {},
   "source": [
    "### map (folium, leaflet)\n",
    "Display the map directly if you are working in a Jupyter Notebook, \n",
    "<br> or save the map to html file if you work in python."
   ]
  },
  {
   "cell_type": "code",
   "execution_count": null,
   "id": "physical-local",
   "metadata": {},
   "outputs": [],
   "source": [
    "stiltstation.find(country='italy' ,outfmt='map')"
   ]
  },
  {
   "cell_type": "markdown",
   "id": "later-afternoon",
   "metadata": {},
   "source": [
    "#### save the map"
   ]
  },
  {
   "cell_type": "code",
   "execution_count": null,
   "id": "derived-reading",
   "metadata": {},
   "outputs": [],
   "source": [
    "# define the output folder\n",
    "output_directory = os.path.join(os.path.expanduser('~'), 'output/')\n",
    "if not os.path.exists(output_directory):\n",
    "    os.makedirs(output_directory)\n",
    "\n",
    "# this is the actual command to save the map\n",
    "stiltstation.find(country='finland' ,outfmt='map').save(output_directory + 'myMap.html')"
   ]
  },
  {
   "cell_type": "markdown",
   "id": "sustainable-capitol",
   "metadata": {},
   "source": [
    "### Availability of data\n",
    "The flag `outfmt = 'avail'` returns a pandas dataframe with information about the availability of data over time."
   ]
  },
  {
   "cell_type": "code",
   "execution_count": null,
   "id": "civilian-people",
   "metadata": {},
   "outputs": [],
   "source": [
    "df = stiltstation.find(outfmt = 'avail')\n",
    "\n",
    "# We can save into a csv-file (first we repeat \n",
    "# the code of the cell above, in case you did not run it: \n",
    "output_directory = os.path.join(os.path.expanduser('~'), 'output/')\n",
    "if not os.path.exists(output_directory):\n",
    "    os.makedirs(output_directory)\n",
    "df.to_csv(output_directory + 'Stilt_availability_' + dt.datetime.now().strftime('%Y%m%d') + '.csv')\n",
    "\n",
    "df"
   ]
  },
  {
   "cell_type": "markdown",
   "id": "inappropriate-acrylic",
   "metadata": {},
   "source": [
    "#### Better view of the availability table\n",
    "To get better overview we color the values using the pandas `Styler` object. <br>\n",
    "For further reading see: https://pandas.pydata.org/pandas-docs/version/1.1/user_guide/style.html"
   ]
  },
  {
   "cell_type": "code",
   "execution_count": null,
   "id": "forced-livestock",
   "metadata": {},
   "outputs": [],
   "source": [
    "def background_gradient(colormap = 'Blues', m =-5, M=17):\n",
    "    # This function will just run once to produce a list of 13 colors   \n",
    "    #     - colormap 'Blues' is a gradient color in blue\n",
    "    #       m = -5 means very light blue, M = 17 means dark blue\n",
    "\n",
    "    norm = colors.Normalize(m,M)\n",
    "    normed = norm(range(13))      \n",
    "    month_hexcolors = [colors.rgb2hex(x) for x in plt.cm.get_cmap(colormap)(normed)]\n",
    "    return month_hexcolors\n",
    "\n",
    "def cell_style(column, palette):\n",
    "    return ['text-align:center; background-color: %s' % palette[val] for val in column]\n",
    "    \n",
    "color_palette = background_gradient()\n",
    "    \n",
    "# Coloring cells and center the values of the dataframe \n",
    "# (The return df_styled is actually a 'Styler' (pandas.io.formats.style.Styler)\n",
    "df_styled = df.style.apply(cell_style, subset = df.columns[1:-1], palette = color_palette) \n",
    "\n",
    "# Also, we might like a title \n",
    "df_styled.set_caption('<center style=\"font-size:16px\"> <b>STILT availability</b></center>')"
   ]
  }
 ],
 "metadata": {
  "kernelspec": {
   "display_name": "Python 3",
   "language": "python",
   "name": "python3"
  },
  "language_info": {
   "codemirror_mode": {
    "name": "ipython",
    "version": 3
   },
   "file_extension": ".py",
   "mimetype": "text/x-python",
   "name": "python",
   "nbconvert_exporter": "python",
   "pygments_lexer": "ipython3",
   "version": "3.8.6"
  },
  "toc": {
   "base_numbering": 1,
   "nav_menu": {},
   "number_sections": false,
   "sideBar": true,
   "skip_h1_title": true,
   "title_cell": "Table of Contents",
   "title_sidebar": "Contents",
   "toc_cell": false,
   "toc_position": {
    "height": "calc(100% - 180px)",
    "left": "10px",
    "top": "150px",
    "width": "165px"
   },
   "toc_section_display": true,
   "toc_window_display": true
  }
 },
 "nbformat": 4,
 "nbformat_minor": 5
}
