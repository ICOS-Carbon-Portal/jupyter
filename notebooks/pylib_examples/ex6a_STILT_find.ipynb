{
 "cells": [
  {
   "cell_type": "markdown",
   "id": "related-paintball",
   "metadata": {},
   "source": [
    "<img src='https://www.icos-cp.eu/sites/default/files/2017-11/ICOS_CP_logo.png' width=400 align=right>\n",
    "\n",
    "# ICOS Carbon Portal Python STILT Library\n",
    "## Example: find STILT \"stations\"\n",
    "\n",
    "## Documentation\n",
    "Full documentation for the library on the [project page](https://icos-carbon-portal.github.io/pylib/icoscp_stilt/), how to install and wheel on [pypi.org](https://pypi.org/project/icoscp_stilt/), source is available on [github](https://github.com/ICOS-Carbon-Portal/pylib)"
   ]
  },
  {
   "cell_type": "markdown",
   "id": "authorized-death",
   "metadata": {},
   "source": [
    "## Imports"
   ]
  },
  {
   "cell_type": "code",
   "execution_count": null,
   "id": "consistent-final",
   "metadata": {},
   "outputs": [],
   "source": [
    "from icoscp_stilt import stilt\n",
    "from icoscp_stilt.stilt import StiltStation #for type annotations\n",
    "import pandas as pd"
   ]
  },
  {
   "cell_type": "markdown",
   "id": "joint-marsh",
   "metadata": {},
   "source": [
    "## Help"
   ]
  },
  {
   "cell_type": "code",
   "execution_count": null,
   "id": "7b54fe9d-79bf-446c-a5a0-95a27a5b7ef5",
   "metadata": {},
   "outputs": [],
   "source": [
    "help(StiltStation)"
   ]
  },
  {
   "cell_type": "code",
   "execution_count": null,
   "id": "cheap-korean",
   "metadata": {},
   "outputs": [],
   "source": [
    "help(stilt)"
   ]
  },
  {
   "cell_type": "markdown",
   "id": "black-commitment",
   "metadata": {},
   "source": [
    "## Find stations:"
   ]
  },
  {
   "cell_type": "code",
   "execution_count": null,
   "id": "b2c3467a-781e-4a48-8131-3bf3aae7659d",
   "metadata": {},
   "outputs": [],
   "source": [
    "all_stations: list[StiltStation] = stilt.list_stations()\n",
    "stations_by_id: dict[str, StiltStation] = {s.id: s for s in all_stations}"
   ]
  },
  {
   "cell_type": "markdown",
   "id": "73298fe3-c5fa-4e55-9c00-78f93dfdcf18",
   "metadata": {},
   "source": [
    "### Lookup by station id"
   ]
  },
  {
   "cell_type": "code",
   "execution_count": null,
   "id": "b4e2e382-14e6-4d11-8352-a95d2fc0ea9c",
   "metadata": {},
   "outputs": [],
   "source": [
    "htm150: StiltStation = stations_by_id['HTM150']\n",
    "htm150"
   ]
  },
  {
   "cell_type": "markdown",
   "id": "furnished-booth",
   "metadata": {},
   "source": [
    "### Filter by ISO country code"
   ]
  },
  {
   "cell_type": "code",
   "execution_count": null,
   "id": "demonstrated-letters",
   "metadata": {},
   "outputs": [],
   "source": [
    "polish_stations: list[StiltStation] = [s for s in all_stations if s.countryCode == 'PL']\n",
    "pd.DataFrame(polish_stations)"
   ]
  },
  {
   "cell_type": "markdown",
   "id": "79ead3c0-ab73-460d-9bf2-f4e1c4aae442",
   "metadata": {},
   "source": [
    "### Filter by altitude"
   ]
  },
  {
   "cell_type": "code",
   "execution_count": null,
   "id": "6d3ff904-3467-465c-bdfd-7de8d2827a9c",
   "metadata": {},
   "outputs": [],
   "source": [
    "high_alts = [s for s in all_stations if s.alt > 300]\n",
    "pd.DataFrame(high_alts).sort_values(by='alt')"
   ]
  },
  {
   "cell_type": "markdown",
   "id": "5c7bb4b8-e84a-4107-b729-c653b6655c1c",
   "metadata": {},
   "source": [
    "### Filter by simulation time year"
   ]
  },
  {
   "cell_type": "code",
   "execution_count": null,
   "id": "12c2ee2a-9d01-41cc-b89e-59944aa8c8d6",
   "metadata": {},
   "outputs": [],
   "source": [
    "with_2006 = [s for s in all_stations if 2006 in s.years]\n",
    "pd.DataFrame(with_2006)"
   ]
  },
  {
   "cell_type": "markdown",
   "id": "5d862a6f-5cee-4614-b820-82e215a520bb",
   "metadata": {},
   "source": [
    "### Filter by observation data availability"
   ]
  },
  {
   "cell_type": "code",
   "execution_count": null,
   "id": "ece29fee-97b5-425d-a60f-ae4815af573a",
   "metadata": {},
   "outputs": [],
   "source": [
    "with_obs = [s for s in all_stations if s.has_observation_data]\n",
    "pd.DataFrame(with_obs)"
   ]
  },
  {
   "cell_type": "markdown",
   "id": "40614b47-10ac-4412-980f-b48211b63476",
   "metadata": {},
   "source": [
    "### Filter \"proper\" ICOS stations"
   ]
  },
  {
   "cell_type": "code",
   "execution_count": null,
   "id": "237847e1-0785-4f11-bbbd-6335af4f08ea",
   "metadata": {},
   "outputs": [],
   "source": [
    "icos_stations = [s for s in all_stations if s.is_icos_proper]\n",
    "pd.DataFrame(icos_stations)"
   ]
  },
  {
   "cell_type": "markdown",
   "id": "9ca64f6b-8890-4681-9feb-94b2e3f5f2c8",
   "metadata": {},
   "source": [
    "## Look up available simulation months"
   ]
  },
  {
   "cell_type": "code",
   "execution_count": null,
   "id": "012622bb-5375-4763-b46c-fd9378163221",
   "metadata": {},
   "outputs": [],
   "source": [
    "stilt.available_months('KRE250', 2022)"
   ]
  },
  {
   "cell_type": "code",
   "execution_count": null,
   "id": "e3a36f80-e554-4061-a8c7-6d14ccb47a74",
   "metadata": {},
   "outputs": [],
   "source": [
    "stilt.available_year_months(htm150)"
   ]
  },
  {
   "cell_type": "markdown",
   "id": "d8207e42-5b0b-4a92-9c76-ba14b612afd9",
   "metadata": {},
   "source": [
    "---\n",
    "# Legacy functionality\n",
    "---"
   ]
  },
  {
   "cell_type": "markdown",
   "id": "b7a24b1c-3909-46f4-9bcf-a252e0518627",
   "metadata": {},
   "source": [
    "## Imports"
   ]
  },
  {
   "cell_type": "code",
   "execution_count": null,
   "id": "2ce50ac1-9136-461d-8b18-d3aac551a221",
   "metadata": {},
   "outputs": [],
   "source": [
    "import os\n",
    "import matplotlib.pyplot as plt\n",
    "from matplotlib import colors\n",
    "import datetime as dt\n",
    "from icoscp_stilt import stiltstation"
   ]
  },
  {
   "cell_type": "markdown",
   "id": "8ab8cd89-95db-4ff6-86b7-95edbc659ea0",
   "metadata": {},
   "source": [
    "## Help"
   ]
  },
  {
   "cell_type": "code",
   "execution_count": null,
   "id": "2a6e7512-af71-43a5-8279-5a26d0d46ec6",
   "metadata": {},
   "outputs": [],
   "source": [
    "help(stiltstation)"
   ]
  },
  {
   "cell_type": "code",
   "execution_count": null,
   "id": "4d24b40a-9fb7-4fed-9223-d0d4606c14d2",
   "metadata": {},
   "outputs": [],
   "source": [
    "# create a simple function to prit the Station name\n",
    "def stprint(stations):\n",
    "    if not 'empty' in stations.keys():\n",
    "        for s in stations.keys():\n",
    "            print(stations[s]['id'],stations[s]['name'], stations[s]['years'])\n",
    "    else:\n",
    "        print(stations)"
   ]
  },
  {
   "cell_type": "markdown",
   "id": "floppy-shark",
   "metadata": {},
   "source": [
    "### arbitrary text search"
   ]
  },
  {
   "cell_type": "code",
   "execution_count": null,
   "id": "essential-financing",
   "metadata": {},
   "outputs": [],
   "source": [
    "myStations = stiltstation.find(search='KIT')\n",
    "stprint(myStations)"
   ]
  },
  {
   "cell_type": "markdown",
   "id": "streaming-operator",
   "metadata": {},
   "source": [
    "### spatial filters\n",
    "\n",
    "#### bounding box\n",
    "approximately scandinavia"
   ]
  },
  {
   "cell_type": "code",
   "execution_count": null,
   "id": "theoretical-burning",
   "metadata": {},
   "outputs": [],
   "source": [
    "myStations = stiltstation.find(bbox=[(70,5),(55,32)]) \n",
    "stprint(myStations)"
   ]
  },
  {
   "cell_type": "markdown",
   "id": "naked-webcam",
   "metadata": {},
   "source": [
    "#### pinpoint\n",
    "approximately Lund with 200 km distance."
   ]
  },
  {
   "cell_type": "code",
   "execution_count": null,
   "id": "proper-given",
   "metadata": {},
   "outputs": [],
   "source": [
    "myStations = stiltstation.find(pinpoint=[55.7,13.1,200])\n",
    "stprint(myStations)"
   ]
  },
  {
   "cell_type": "markdown",
   "id": "aquatic-certificate",
   "metadata": {},
   "source": [
    "### temporal\n",
    "Please be aware, that the actual data is not filtered, the result will return stations where data is **available** according to your filter. Three keywords are available, **sdate**: >= start date, **edate**: <= end date, **>dates**: [ ], a list of dates, NOT a range. If you provide sdate AND edate, stations are returned where data is available within that range.\n",
    "<br> The following input formats are accepted:\n",
    "- string: yyyy yyyy-mm yyyy/mm yyyy-mm-dd yyyy/mm/dd \n",
    "- float or integer representing a unixtimestamp for seconds since 1970.01.01\n",
    "- python datetime object\n",
    "- pandas datetime object"
   ]
  },
  {
   "cell_type": "markdown",
   "id": "honest-corps",
   "metadata": {},
   "source": [
    "#### start date"
   ]
  },
  {
   "cell_type": "code",
   "execution_count": null,
   "id": "normal-variation",
   "metadata": {},
   "outputs": [],
   "source": [
    "myStations = stiltstation.find(sdate='2020/05')\n",
    "stprint(myStations)"
   ]
  },
  {
   "cell_type": "markdown",
   "id": "affecting-whale",
   "metadata": {},
   "source": [
    "#### end date"
   ]
  },
  {
   "cell_type": "code",
   "execution_count": null,
   "id": "peaceful-yugoslavia",
   "metadata": {},
   "outputs": [],
   "source": [
    "import datetime\n",
    "myStations = stiltstation.find(edate='2006-12-31')\n",
    "stprint(myStations)"
   ]
  },
  {
   "cell_type": "code",
   "execution_count": null,
   "id": "utility-tournament",
   "metadata": {},
   "outputs": [],
   "source": [
    "# Using a UNIX Timestamp (seconds sincs 1970-01-01)\n",
    "import time\n",
    "now = time.time()\n",
    "print(now)\n",
    "myStations = stiltstation.find(edate=now)\n",
    "len(myStations)"
   ]
  },
  {
   "cell_type": "markdown",
   "id": "amazing-viewer",
   "metadata": {},
   "source": [
    "#### range"
   ]
  },
  {
   "cell_type": "code",
   "execution_count": null,
   "id": "amazing-edmonton",
   "metadata": {},
   "outputs": [],
   "source": [
    "myStations = stiltstation.find(sdate= '2018-05-01', edate='2018-06-01')\n",
    "for s in myStations:\n",
    "    print(myStations[s]['id'], sorted(myStations[s]['years']))"
   ]
  },
  {
   "cell_type": "code",
   "execution_count": null,
   "id": "arbitrary-thickness",
   "metadata": {},
   "outputs": [],
   "source": [
    "myStations = stiltstation.find(sdate= '2018', edate='2018')\n",
    "stprint(myStations)"
   ]
  },
  {
   "cell_type": "markdown",
   "id": "aggressive-private",
   "metadata": {},
   "source": [
    "#### project\n",
    "The choice `project = 'icos'` will only return STILT-stations that are ICOS-stations."
   ]
  },
  {
   "cell_type": "code",
   "execution_count": null,
   "id": "imperial-lemon",
   "metadata": {},
   "outputs": [],
   "source": [
    "myStations = stiltstation.find(project = 'icos')\n",
    "stprint(myStations)"
   ]
  },
  {
   "cell_type": "markdown",
   "id": "chronic-green",
   "metadata": {},
   "source": [
    "### combine filters\n",
    "Filters are applied in sequence of input and each result is the base for the next filter.\n",
    "<br>For example you could search for stations in a bounding box and filter the result for a specific country."
   ]
  },
  {
   "cell_type": "code",
   "execution_count": null,
   "id": "indonesian-password",
   "metadata": {},
   "outputs": [],
   "source": [
    "myStations = stiltstation.find(bbox=[(70,5),(55,32)], country='NO') \n",
    "stprint(myStations)"
   ]
  },
  {
   "cell_type": "code",
   "execution_count": null,
   "id": "victorian-injection",
   "metadata": {},
   "outputs": [],
   "source": [
    "myStations = stiltstation.find(sdate= '2018-05-01', edate='2018-06-01', country='IT')\n",
    "for s in myStations:\n",
    "    print(myStations[s]['id'], sorted(myStations[s]['years']))"
   ]
  },
  {
   "cell_type": "markdown",
   "id": "administrative-writer",
   "metadata": {},
   "source": [
    "## Output format\n",
    "### dict (default)"
   ]
  },
  {
   "cell_type": "code",
   "execution_count": null,
   "id": "similar-polish",
   "metadata": {},
   "outputs": [],
   "source": [
    "stiltstation.find(id='HUN115', outfmt='dict')"
   ]
  },
  {
   "cell_type": "markdown",
   "id": "nuclear-might",
   "metadata": {},
   "source": [
    "### pandas"
   ]
  },
  {
   "cell_type": "code",
   "execution_count": null,
   "id": "hearing-while",
   "metadata": {},
   "outputs": [],
   "source": [
    "stiltstation.find(country='HU', outfmt='pandas')"
   ]
  },
  {
   "cell_type": "markdown",
   "id": "remarkable-example",
   "metadata": {},
   "source": [
    "### map (folium, leaflet)\n",
    "Display the map directly if you are working in a Jupyter Notebook, \n",
    "<br> or save the map to html file if you work in python."
   ]
  },
  {
   "cell_type": "code",
   "execution_count": null,
   "id": "joined-driving",
   "metadata": {},
   "outputs": [],
   "source": [
    "stiltstation.find(country='IT' ,outfmt='map')"
   ]
  },
  {
   "cell_type": "markdown",
   "id": "graduate-notification",
   "metadata": {},
   "source": [
    "#### save the map"
   ]
  },
  {
   "cell_type": "code",
   "execution_count": null,
   "id": "expressed-regulation",
   "metadata": {},
   "outputs": [],
   "source": [
    "# define the output folder\n",
    "output_directory = os.path.join(os.path.expanduser('~'), 'output/')\n",
    "if not os.path.exists(output_directory):\n",
    "    os.makedirs(output_directory)\n",
    "\n",
    "# this is the actual command to save the map\n",
    "stiltstation.find(country='FI' ,outfmt='map').save(output_directory + 'myMap.html')"
   ]
  },
  {
   "cell_type": "markdown",
   "id": "married-samuel",
   "metadata": {},
   "source": [
    "### Availability of data\n",
    "The flag `outfmt = 'avail'` returns a pandas dataframe with information about the availability of data over time."
   ]
  },
  {
   "cell_type": "code",
   "execution_count": null,
   "id": "aggressive-husband",
   "metadata": {},
   "outputs": [],
   "source": [
    "df = stiltstation.find(outfmt = 'avail')\n",
    "\n",
    "# We can save into a csv-file (first we repeat\n",
    "# the code of the cell above, in case you did not run it:\n",
    "output_directory = os.path.join(os.path.expanduser('~'), 'output/')\n",
    "if not os.path.exists(output_directory):\n",
    "    os.makedirs(output_directory)\n",
    "df.to_csv(output_directory + 'Stilt_availability_' + dt.datetime.now().strftime('%Y%m%d') + '.csv')\n",
    "\n",
    "df"
   ]
  },
  {
   "cell_type": "markdown",
   "id": "following-classification",
   "metadata": {},
   "source": [
    "#### Better view of the availability table\n",
    "To get better overview we color the values using pandas. <br>\n",
    "For further reading see: https://pandas.pydata.org/pandas-docs/version/1.1/user_guide/style.html"
   ]
  },
  {
   "cell_type": "code",
   "execution_count": null,
   "id": "limited-report",
   "metadata": {},
   "outputs": [],
   "source": [
    "def background_gradient(colormap = 'Blues', m =-5, M=17):\n",
    "    # This function will just run once to produce a list of 13 colors   \n",
    "    #     - colormap 'Blues' is a gradient color in blue\n",
    "    #       m = -5 means very light blue, M = 17 means dark blue\n",
    "\n",
    "    norm = colors.Normalize(m,M)\n",
    "    normed = norm(range(13))      \n",
    "    month_hexcolors = [colors.rgb2hex(x) for x in plt.cm.get_cmap(colormap)(normed)]\n",
    "    return month_hexcolors\n",
    "\n",
    "def cell_style(column, palette):\n",
    "    return ['text-align:center; background-color: %s' % palette[val] for val in column]\n",
    "    \n",
    "color_palette = background_gradient()\n",
    "    \n",
    "# Coloring cells and center the values of the dataframe \n",
    "# (The return df_styled is actually a 'Styler' (pandas.io.formats.style.Styler)\n",
    "year_ls = [y for y in df.columns if isinstance(y,int)]\n",
    "df_styled = df.style.apply(cell_style, subset = year_ls, palette = color_palette) \n",
    "\n",
    "# Also, we might like a title \n",
    "df_styled.set_caption('<center style=\"font-size:16px\"> <b>STILT availability</b></center>')"
   ]
  }
 ],
 "metadata": {
  "kernelspec": {
   "display_name": "Python 3 (ipykernel)",
   "language": "python",
   "name": "python3"
  },
  "language_info": {
   "codemirror_mode": {
    "name": "ipython",
    "version": 3
   },
   "file_extension": ".py",
   "mimetype": "text/x-python",
   "name": "python",
   "nbconvert_exporter": "python",
   "pygments_lexer": "ipython3",
   "version": "3.10.6"
  },
  "toc": {
   "base_numbering": 1,
   "nav_menu": {},
   "number_sections": false,
   "sideBar": true,
   "skip_h1_title": true,
   "title_cell": "Table of Contents",
   "title_sidebar": "Contents",
   "toc_cell": false,
   "toc_position": {
    "height": "calc(100% - 180px)",
    "left": "10px",
    "top": "150px",
    "width": "165px"
   },
   "toc_section_display": true,
   "toc_window_display": true
  }
 },
 "nbformat": 4,
 "nbformat_minor": 5
}
