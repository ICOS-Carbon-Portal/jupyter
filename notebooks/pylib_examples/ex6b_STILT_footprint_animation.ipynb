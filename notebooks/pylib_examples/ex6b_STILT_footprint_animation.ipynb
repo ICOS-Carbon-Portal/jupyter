{
 "cells": [
  {
   "cell_type": "markdown",
   "metadata": {},
   "source": [
    "<img src='https://www.icos-cp.eu/sites/default/files/2017-11/ICOS_CP_logo.png' width=400 align=right>\n",
    "\n",
    "# ICOS Carbon Portal Python Library\n",
    "## Example: STILT, create a simple animation\n",
    "\n",
    "This example shows how to search for STILT stations, load the data and create some simple visualisations and animations."
   ]
  },
  {
   "cell_type": "markdown",
   "metadata": {},
   "source": [
    "## Documentation\n",
    "Full documentation for the library on the [project page](https://icos-carbon-portal.github.io/pylib/), how to install and wheel on [pypi.org](https://pypi.org/project/icoscp/), source is available on [github](https://github.com/ICOS-Carbon-Portal/pylib)"
   ]
  },
  {
   "cell_type": "markdown",
   "metadata": {},
   "source": [
    "## Load libraries"
   ]
  },
  {
   "cell_type": "code",
   "execution_count": null,
   "metadata": {},
   "outputs": [],
   "source": [
    "from icoscp.stilt import stiltstation\n",
    "\n",
    "import numpy as np\n",
    "from IPython.display import HTML, display\n",
    "from matplotlib import pyplot as plt, animation\n",
    "\n",
    "# Display footprints in logarithmic scale\n",
    "from matplotlib.colors import LogNorm\n",
    "\n",
    "# Import plotting modules from cartopy:\n",
    "import cartopy\n",
    "cartopy.config['data_dir'] = '/data/project/cartopy/'\n",
    "import cartopy.crs as ccrs\n",
    "\n",
    "# Import modules for spatiotemporal visualization:\n",
    "import holoviews as hv\n",
    "import geoviews as gv\n",
    "import geoviews.feature as gf\n",
    "import geoviews.tile_sources as gvts\n",
    "from cartopy import crs\n",
    "gv.extension('bokeh')\n"
   ]
  },
  {
   "cell_type": "markdown",
   "metadata": {},
   "source": [
    "## Create STILT station object\n",
    "Remember, that station get always returns a LIST of stilt stations objects"
   ]
  },
  {
   "cell_type": "code",
   "execution_count": null,
   "metadata": {},
   "outputs": [],
   "source": [
    "st = stiltstation.get(id='KIT030')\n",
    "print(st)"
   ]
  },
  {
   "cell_type": "markdown",
   "metadata": {},
   "source": [
    "## Load footprints\n",
    "The .get_fp function returns by default an xarray object"
   ]
  },
  {
   "cell_type": "code",
   "execution_count": null,
   "metadata": {},
   "outputs": [],
   "source": [
    "start = '2018-01-01'\n",
    "end = '2018-01-08'\n",
    "\n",
    "stilt_fp = st.get_fp(start, end)\n",
    "\n",
    "#View fp xarray:\n",
    "stilt_fp"
   ]
  },
  {
   "cell_type": "markdown",
   "metadata": {},
   "source": [
    "## Create 'images' with matplotlib"
   ]
  },
  {
   "cell_type": "code",
   "execution_count": null,
   "metadata": {},
   "outputs": [],
   "source": [
    "# extract the footprints where a value is calculated....\n",
    "fp = stilt_fp.foot.where(stilt_fp.foot>0)"
   ]
  },
  {
   "cell_type": "code",
   "execution_count": null,
   "metadata": {},
   "outputs": [],
   "source": [
    "# just to see if it works, we create the first three images\n",
    "# display footprints in logarithmic scale\n",
    "\n",
    "for i in range(3):\n",
    "    fp[i,:,:].plot(figsize=(4,3),norm=LogNorm())\n",
    "    plt.grid(True)\n",
    "    plt.show()\n",
    "    plt.close()"
   ]
  },
  {
   "cell_type": "markdown",
   "metadata": {},
   "source": [
    "## Create the figures for all footprints"
   ]
  },
  {
   "cell_type": "code",
   "execution_count": null,
   "metadata": {},
   "outputs": [],
   "source": [
    "# Get a handle on the figure and the axes\n",
    "fig, ax = plt.subplots(figsize=(8,4),subplot_kw=dict(projection=ccrs.PlateCarree()))\n",
    "\n",
    "# Plot the initial frame. \n",
    "\n",
    "cax = fp[0,:,:].plot(    \n",
    "    add_colorbar=True,\n",
    "    cmap='GnBu',\n",
    "    vmin=1.e-5,\n",
    "    #vmin=np.min(fp).values,\n",
    "    vmax=np.max(fp).values,\n",
    "    cbar_kwargs={'extend':'neither'},\n",
    "    norm=LogNorm()\n",
    ")\n",
    "gl = ax.gridlines(draw_labels=True)\n",
    "gl.top_labels = gl.right_labels = False\n",
    "ax.coastlines('50m')\n",
    "#define map extent to display only model domain\n",
    "map_extent = [stilt_fp.lon.min(),stilt_fp.lon.max(),stilt_fp.lat.min(),stilt_fp.lat.max()]\n",
    "ax.set_extent(map_extent,crs=ccrs.PlateCarree())\n",
    "\n",
    "# Next we need to create a function that updates the values for the colormesh, as well as the title.\n",
    "def animate(frame):\n",
    "    cax.set_array(fp[frame,:,:].values.flatten())\n",
    "    ax.set_title(\"Time = \" + str(fp.coords['time'].values[frame])[:13])\n",
    "    \n",
    "\n",
    "# Finally, we use the animation module to create the animation.\n",
    "ani = animation.FuncAnimation(\n",
    "    fig,                  # figure\n",
    "    animate,              # name of the function above\n",
    "    frames=len(fp),       # Could also be iterable or list\n",
    "    interval=200          # ms between frames\n",
    ")\n",
    "\n",
    "plt.close(fig)"
   ]
  },
  {
   "cell_type": "markdown",
   "metadata": {},
   "source": [
    "## Animation with python built in libraries\n",
    "\n",
    "Note: Based on how many footprints you have, as given by `len(fp)`, it can take a while to create the animation, and you may possibly run out of memory. <br>\n",
    "For this example we have selected footprints for all time slots (every 3h) of a week in 2018, and the selection yields **calculate 57 images**, which requires approximately **30 seconds.....be patient**.<br>\n",
    "For faster animations we refer to the *[STILT-viewer](https://stilt.icos-cp.eu/viewer/)*. \n",
    "\n"
   ]
  },
  {
   "cell_type": "code",
   "execution_count": null,
   "metadata": {},
   "outputs": [],
   "source": [
    "HTML(ani.to_jshtml())"
   ]
  },
  {
   "cell_type": "markdown",
   "metadata": {},
   "source": [
    "### Sources\n",
    "https://climate-cms.org/2019/09/03/python-animation.html"
   ]
  },
  {
   "cell_type": "markdown",
   "metadata": {},
   "source": [
    "## Animation with Holoview & Geoview"
   ]
  },
  {
   "cell_type": "code",
   "execution_count": null,
   "metadata": {},
   "outputs": [],
   "source": [
    "#Function to extract max absolute value from a tuple:\n",
    "def return_max(val1, val2):\n",
    "    \n",
    "    if(abs(val1)>=abs(val2)):\n",
    "        return abs(val1)\n",
    "    \n",
    "    else:\n",
    "        return abs(val2)\n",
    "    \n",
    "\n",
    "#Set dimensions:\n",
    "kdims = ['time', 'lon', 'lat']\n",
    "vdims = ['foot']\n",
    "\n",
    "#Get a tuple with min & max values for selected variable:\n",
    "var_range = gv.Dataset(stilt_fp.foot.where(stilt_fp.foot>0.0, drop=True),\n",
    "                       kdims=kdims, vdims=vdims).range('foot')\n",
    "\n",
    "#Create geoviews dataset obj:\n",
    "xr_dataset = gv.Dataset(stilt_fp.foot.where(stilt_fp.foot>0.0, drop=True),\n",
    "                        kdims=kdims, vdims=vdims).redim.range(foot=(min(var_range),\n",
    "                                                                    return_max(var_range[0],\n",
    "                                                                               var_range[1])))\n",
    "\n",
    "#Format dates:\n",
    "hv.Dimension.type_formatters[np.datetime64] = '%Y-%m-%dT%H:%M:%S'\n",
    "\n",
    "#Set location of slider:\n",
    "hv.output(widget_location='bottom')"
   ]
  },
  {
   "cell_type": "code",
   "execution_count": null,
   "metadata": {},
   "outputs": [],
   "source": [
    "%%opts Image [logz=True]\n",
    "\n",
    "gvpoints = gv.Points([(st.lon,st.lat)]).opts(color='darkred',width=500)\n",
    "xr_dataset.to(gv.Image, ['lon', 'lat'], dynamic=True).opts(cmap='viridis',colorbar=True, alpha=0.5, #cmap='gist_heat_r'\n",
    "                                                           width=600, height=500, \n",
    "                                                           tools=['hover'],)*gvts.CartoLight*gvpoints"
   ]
  },
  {
   "cell_type": "markdown",
   "metadata": {},
   "source": [
    "### Sources\n",
    "http://xarray.pydata.org/en/stable/io.html <br>\n",
    "https://poopcode.com/coronavirus-covid-19-live-tracking-dashboard-death-counts/ <br>\n",
    "https://stackoverflow.com/questions/17170229/setting-transparency-based-on-pixel-values-in-matplotlib <br>\n",
    "https://data-dive.com/interactive-maps-made-easy-geoviews <br>"
   ]
  }
 ],
 "metadata": {
  "kernelspec": {
   "display_name": "Python 3 (ipykernel)",
   "language": "python",
   "name": "python3"
  },
  "language_info": {
   "codemirror_mode": {
    "name": "ipython",
    "version": 3
   },
   "file_extension": ".py",
   "mimetype": "text/x-python",
   "name": "python",
   "nbconvert_exporter": "python",
   "pygments_lexer": "ipython3",
   "version": "3.10.6"
  },
  "toc": {
   "base_numbering": 1,
   "nav_menu": {},
   "number_sections": false,
   "sideBar": true,
   "skip_h1_title": true,
   "title_cell": "Table of Contents",
   "title_sidebar": "Contents",
   "toc_cell": false,
   "toc_position": {
    "height": "calc(100% - 180px)",
    "left": "10px",
    "top": "150px",
    "width": "237.188px"
   },
   "toc_section_display": true,
   "toc_window_display": true
  }
 },
 "nbformat": 4,
 "nbformat_minor": 4
}
