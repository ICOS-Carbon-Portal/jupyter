{
 "cells": [
  {
   "cell_type": "markdown",
   "metadata": {},
   "source": [
    "<img src='https://www.icos-cp.eu/sites/default/files/2017-11/ICOS_CP_logo.png' width=400 align=right>\n",
    "\n",
    "# ICOS Carbon Portal Python Libraries\n",
    "\n",
    "This example uses a foundational library called `icoscp_core` which can be used to access time-series ICOS data that are <i>previewable</i> in the ICOS Data Portal. \"Previewable\" means that it is possible to visualize the data variables in the preview plot. The library can also be used to access (meta-)data from [ICOS Cities](https://citydata.icos-cp.eu/portal/) and [SITES](https://data.fieldsites.se/portal/) data repositories. \n",
    "\n",
    "General information on all ICOS Carbon Portal Python libraries can be found on our [help pages](https://icos-carbon-portal.github.io/pylib/). \n",
    "\n",
    "Documentation of the `icoscp_core` library, including information on running it locally, can also be found on [PyPI.org](https://pypi.org/project/icoscp_core/).\n",
    "\n",
    "Note that for running this example locally, authentication is required (see the `how_to_authenticate.ipynb` notebook).\n",
    "\n",
    "# Example: Access metadata and data of a single data object\n"
   ]
  },
  {
   "cell_type": "markdown",
   "metadata": {},
   "source": [
    "## Import the ICOS modules"
   ]
  },
  {
   "cell_type": "code",
   "execution_count": null,
   "metadata": {},
   "outputs": [],
   "source": [
    "from icoscp_core.icos import meta, data"
   ]
  },
  {
   "cell_type": "markdown",
   "metadata": {},
   "source": [
    " ## Fetch full data object metadata"
   ]
  },
  {
   "cell_type": "code",
   "execution_count": null,
   "metadata": {},
   "outputs": [],
   "source": [
    "landing_page_uri = 'https://meta.icos-cp.eu/objects/mcZCu-5WouAxMyUJ8RJZ9y5j'\n",
    "dobj_meta = meta.get_dobj_meta(landing_page_uri)"
   ]
  },
  {
   "cell_type": "markdown",
   "metadata": {
    "tags": []
   },
   "source": [
    "## Access metadata properties\n",
    "### Get help on data object metadata\n",
    "For assistance with metadata-access code, one can use autocomplete with Tab key after \".\"\n",
    "\n",
    "Alternatively, it is possible to discover the metadata structure and its substructures as follows:"
   ]
  },
  {
   "cell_type": "code",
   "execution_count": null,
   "metadata": {},
   "outputs": [],
   "source": [
    "from icoscp_core import metacore\n",
    "help(metacore.DataObject)\n",
    "#help(metacore.References)\n",
    "#help(metacore.StationTimeSeriesMeta)\n",
    "#help(metacore.DataAcquisition)\n",
    "#help(metacore.Station)"
   ]
  },
  {
   "cell_type": "markdown",
   "metadata": {},
   "source": [
    "### List column metadata of a station-specific time-series data object"
   ]
  },
  {
   "cell_type": "code",
   "execution_count": null,
   "metadata": {},
   "outputs": [],
   "source": [
    "dobj_meta.specificInfo.columns"
   ]
  },
  {
   "cell_type": "markdown",
   "metadata": {},
   "source": [
    "### List column labels only"
   ]
  },
  {
   "cell_type": "code",
   "execution_count": null,
   "metadata": {},
   "outputs": [],
   "source": [
    "[col.label for col in dobj_meta.specificInfo.columns]"
   ]
  },
  {
   "cell_type": "markdown",
   "metadata": {},
   "source": [
    "### Textual citation string"
   ]
  },
  {
   "cell_type": "code",
   "execution_count": null,
   "metadata": {},
   "outputs": [],
   "source": [
    "dobj_meta.references.citationString"
   ]
  },
  {
   "cell_type": "markdown",
   "metadata": {},
   "source": [
    "### BibTeX citation string"
   ]
  },
  {
   "cell_type": "code",
   "execution_count": null,
   "metadata": {},
   "outputs": [],
   "source": [
    "dobj_meta.references.citationBibTex"
   ]
  },
  {
   "cell_type": "markdown",
   "metadata": {},
   "source": [
    "### Data licence metadata"
   ]
  },
  {
   "cell_type": "code",
   "execution_count": null,
   "metadata": {},
   "outputs": [],
   "source": [
    "dobj_meta.references.licence"
   ]
  },
  {
   "cell_type": "markdown",
   "metadata": {},
   "source": [
    "## Get the data\n",
    "\n",
    "This step would require authentication for local use (non on an ICOS-hosted Jupyter service)\n",
    "\n",
    "**NOTE** the following example is appropriate mostly for the case of *single* data object, or for inhomogeneous lists of data objects of different data types. For homogeneous lists, it is highly recommended to use `batch_get_columns_as_arrays` method for much better performance due to reduced number of server calls."
   ]
  },
  {
   "cell_type": "code",
   "execution_count": null,
   "metadata": {},
   "outputs": [],
   "source": [
    "import pandas as pd\n",
    "dobj_cols = data.get_columns_as_arrays(dobj_meta)\n",
    "dobj_data = pd.DataFrame(dobj_cols)"
   ]
  },
  {
   "cell_type": "markdown",
   "metadata": {},
   "source": [
    "## Make a plot"
   ]
  },
  {
   "cell_type": "code",
   "execution_count": null,
   "metadata": {},
   "outputs": [],
   "source": [
    "import matplotlib.pyplot as plt\n",
    "dobj_data.plot(x='TIMESTAMP', y='ch4', grid=True)\n",
    "plt.show()"
   ]
  },
  {
   "cell_type": "markdown",
   "metadata": {},
   "source": [
    "## Make a better plot"
   ]
  },
  {
   "cell_type": "code",
   "execution_count": null,
   "metadata": {},
   "outputs": [],
   "source": [
    "# get 'value type' part of column metadata for ch4 column\n",
    "columns_meta = dobj_meta.specificInfo.columns\n",
    "ch4_value_type = [col for col in columns_meta if col.label=='ch4'][0].valueType\n",
    "\n",
    "y_axis_label = f\"{ch4_value_type.self.label} [{ch4_value_type.unit}]\"\n",
    "station = dobj_meta.specificInfo.acquisition.station.org.name\n",
    "\n",
    "plot = dobj_data.plot(x='TIMESTAMP', y='ch4', grid=True, title=station)\n",
    "plot.set(ylabel=y_axis_label)\n",
    "plt.show()"
   ]
  },
  {
   "cell_type": "markdown",
   "metadata": {},
   "source": [
    "### Add monthly averages to the plot"
   ]
  },
  {
   "cell_type": "code",
   "execution_count": null,
   "metadata": {},
   "outputs": [],
   "source": [
    "# ch4 timeseries: same as before\n",
    "plot = dobj_data.plot(x='TIMESTAMP', y='ch4', grid=True, title=station)\n",
    "plot.set(ylabel=y_axis_label)\n",
    "\n",
    "# compute monthly averages\n",
    "by_month = dobj_data.groupby(pd.Grouper(key='TIMESTAMP', freq='M')).mean().reset_index()\n",
    "\n",
    "by_month.plot(x='TIMESTAMP', y='ch4', grid=True, ax=plot, color='red', linewidth=2, label='ch4 monthly')\n",
    "\n",
    "plt.show()"
   ]
  },
  {
   "cell_type": "markdown",
   "metadata": {},
   "source": [
    "## Make an interactive plot"
   ]
  },
  {
   "cell_type": "code",
   "execution_count": null,
   "metadata": {},
   "outputs": [],
   "source": [
    "from bokeh.plotting import figure\n",
    "from bokeh.io import output_notebook, show, reset_output\n",
    "reset_output()\n",
    "output_notebook()"
   ]
  },
  {
   "cell_type": "code",
   "execution_count": null,
   "metadata": {},
   "outputs": [],
   "source": [
    "x = list(dobj_data['TIMESTAMP'])\n",
    "y = list(dobj_data['ch4'])\n",
    "\n",
    "# create a new plot with a title and axis labels\n",
    "p = figure(x_axis_label=\"TIMESTAMP\", x_axis_type=\"datetime\", y_axis_label=y_axis_label, width=1000)\n",
    "\n",
    "# add a line renderer with legend and line thickness\n",
    "p.line(x, y, legend_label=station, line_width=1)\n",
    "\n",
    "# show the results\n",
    "show(p)"
   ]
  }
 ],
 "metadata": {
  "kernelspec": {
   "display_name": "Python 3 (ipykernel)",
   "language": "python",
   "name": "python3"
  },
  "language_info": {
   "codemirror_mode": {
    "name": "ipython",
    "version": 3
   },
   "file_extension": ".py",
   "mimetype": "text/x-python",
   "name": "python",
   "nbconvert_exporter": "python",
   "pygments_lexer": "ipython3",
   "version": "3.10.6"
  },
  "toc": {
   "base_numbering": 1,
   "nav_menu": {},
   "number_sections": false,
   "sideBar": true,
   "skip_h1_title": false,
   "title_cell": "Table of Contents",
   "title_sidebar": "Contents",
   "toc_cell": false,
   "toc_position": {
    "height": "calc(100% - 180px)",
    "left": "10px",
    "top": "150px",
    "width": "205.075px"
   },
   "toc_section_display": true,
   "toc_window_display": true
  }
 },
 "nbformat": 4,
 "nbformat_minor": 4
}
