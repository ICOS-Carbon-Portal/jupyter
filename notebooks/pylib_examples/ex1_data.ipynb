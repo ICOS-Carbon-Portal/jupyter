{
 "cells": [
  {
   "cell_type": "markdown",
   "metadata": {},
   "source": [
    "<img src='https://www.icos-cp.eu/sites/default/files/2017-11/ICOS_CP_logo.png' width=400 align=right>\n",
    "\n",
    "# ICOS Carbon Portal Python Libraries: icoscp\n",
    "\n",
    "This example uses the library called icoscp which can be used to access ICOS data that is <i>previewable</i> in the ICOS Data Portal. \"Previewable\" means that it is possible to visualize the data variables in the preview plot. Please see the icoscp_core library examples for access to other variables and datasets, as well as data from [ICOS Cities](https://citydata.icos-cp.eu/portal/) and [SITES](https://data.fieldsites.se/portal/). \n",
    "\n",
    "Here you can find more [documentation on the libraries](https://icos-carbon-portal.github.io/pylib/) and the source code is available on [GitHub](https://github.com/ICOS-Carbon-Portal/pylib).\n",
    "\n",
    "For installation of the library locally, more information can be found on [PyPI.org](https://pypi.org/project/icoscp/). Note that for running the examples locally, authentication is required (see the [final example notebook](https://exploredata.icos-cp.eu/hub/user-redirect/lab/tree/pylib_examples/how_to_authenticate.ipynb)). \n",
    "\n",
    "\n",
    "\n",
    "# Example: Access data and meta data\n"
   ]
  },
  {
   "cell_type": "markdown",
   "metadata": {},
   "source": [
    "## Import the library"
   ]
  },
  {
   "cell_type": "code",
   "execution_count": null,
   "metadata": {},
   "outputs": [],
   "source": [
    "from icoscp.dobj import Dobj"
   ]
  },
  {
   "cell_type": "markdown",
   "metadata": {},
   "source": [
    "## Get help"
   ]
  },
  {
   "cell_type": "code",
   "execution_count": null,
   "metadata": {},
   "outputs": [],
   "source": [
    "help(Dobj)"
   ]
  },
  {
   "cell_type": "markdown",
   "metadata": {},
   "source": [
    " ## Create a data object"
   ]
  },
  {
   "cell_type": "code",
   "execution_count": null,
   "metadata": {},
   "outputs": [],
   "source": [
    "pid = 'https://meta.icos-cp.eu/objects/mcZCu-5WouAxMyUJ8RJZ9y5j'\n",
    "dobj = Dobj(pid)"
   ]
  },
  {
   "cell_type": "markdown",
   "metadata": {
    "tags": []
   },
   "source": [
    "## Meta data\n",
    "Ask for information (meta data) about the data set. For a full list of available attributes, please check the [documentation](https://icos-carbon-portal.github.io/pylib/icoscp/modules/#dobj)."
   ]
  },
  {
   "cell_type": "code",
   "execution_count": null,
   "metadata": {},
   "outputs": [],
   "source": [
    "dobj.colNames"
   ]
  },
  {
   "cell_type": "code",
   "execution_count": null,
   "metadata": {},
   "outputs": [],
   "source": [
    "dobj.citation"
   ]
  },
  {
   "cell_type": "code",
   "execution_count": null,
   "metadata": {},
   "outputs": [],
   "source": [
    "dobj.licence"
   ]
  },
  {
   "cell_type": "code",
   "execution_count": null,
   "metadata": {
    "tags": []
   },
   "outputs": [],
   "source": [
    "# all meta data\n",
    "dobj.meta"
   ]
  },
  {
   "cell_type": "markdown",
   "metadata": {},
   "source": [
    "## Get the data\n",
    "\n",
    "This step requires authentication for local use (see the information at the top of this notebook)."
   ]
  },
  {
   "cell_type": "code",
   "execution_count": null,
   "metadata": {},
   "outputs": [],
   "source": [
    "dobj.data.head()"
   ]
  },
  {
   "cell_type": "markdown",
   "metadata": {},
   "source": [
    "## Make a plot"
   ]
  },
  {
   "cell_type": "code",
   "execution_count": null,
   "metadata": {},
   "outputs": [],
   "source": [
    "import matplotlib.pyplot as plt\n",
    "dobj.data.plot(x='TIMESTAMP', y='ch4', grid=True)\n",
    "plt.show()"
   ]
  },
  {
   "cell_type": "markdown",
   "metadata": {},
   "source": [
    "## Make a better plot"
   ]
  },
  {
   "cell_type": "code",
   "execution_count": null,
   "metadata": {},
   "outputs": [],
   "source": [
    "unit = dobj.variables[dobj.variables.name == 'ch4'].unit.values[0]\n",
    "name = dobj.station['org']['name']\n",
    "uri = dobj.station['org']['self']['uri']\n",
    "title = f\"{name} \\n {uri}\""
   ]
  },
  {
   "cell_type": "code",
   "execution_count": null,
   "metadata": {},
   "outputs": [],
   "source": [
    "plot = dobj.data.plot(x='TIMESTAMP', y='ch4', grid=True, title=title)\n",
    "plot.set(ylabel=unit)\n",
    "plt.show()"
   ]
  },
  {
   "cell_type": "markdown",
   "metadata": {},
   "source": [
    "### Add monthly averages to the plot"
   ]
  },
  {
   "cell_type": "code",
   "execution_count": null,
   "metadata": {},
   "outputs": [],
   "source": [
    "import pandas as pd\n",
    "# ch4 timeseries: same as before\n",
    "plot = dobj.data.plot(x='TIMESTAMP', y='ch4', grid=True, title=title)\n",
    "plot.set(ylabel=unit)\n",
    "\n",
    "# compute monthly averages\n",
    "by_month = dobj.data.groupby(pd.Grouper(key='TIMESTAMP', freq='M')).mean().reset_index()\n",
    "\n",
    "by_month.plot(x='TIMESTAMP', y='ch4', grid=True, ax=plot, color='red', linewidth=2, label='ch4 monthly', title=title)\n",
    "plot.set(ylabel=unit)\n",
    "plt.show()"
   ]
  },
  {
   "cell_type": "markdown",
   "metadata": {},
   "source": [
    "## Make an interactive plot"
   ]
  },
  {
   "cell_type": "code",
   "execution_count": null,
   "metadata": {},
   "outputs": [],
   "source": [
    "from bokeh.plotting import figure, show\n",
    "from datetime import datetime\n",
    "from bokeh.io import output_notebook, show, reset_output\n",
    "reset_output()\n",
    "output_notebook()"
   ]
  },
  {
   "cell_type": "code",
   "execution_count": null,
   "metadata": {},
   "outputs": [],
   "source": [
    "x = list(dobj.data['TIMESTAMP'])\n",
    "y = list(dobj.data['ch4'])\n",
    "\n",
    "# create a new plot with a title and axis labels\n",
    "p = figure(title=\"Norunda\", x_axis_label=\"TIMESTAMP\", x_axis_type=\"datetime\", y_axis_label=\"ch4\", width=1000)\n",
    "\n",
    "# add a line renderer with legend and line thickness\n",
    "p.line(x, y, legend_label=\"ch4\", line_width=1)\n",
    "\n",
    "# Set the y-axis label properly\n",
    "p.yaxis.axis_label = unit\n",
    "\n",
    "# show the results\n",
    "show(p)"
   ]
  }
 ],
 "metadata": {
  "kernelspec": {
   "display_name": "Python 3 (ipykernel)",
   "language": "python",
   "name": "python3"
  },
  "language_info": {
   "codemirror_mode": {
    "name": "ipython",
    "version": 3
   },
   "file_extension": ".py",
   "mimetype": "text/x-python",
   "name": "python",
   "nbconvert_exporter": "python",
   "pygments_lexer": "ipython3",
   "version": "3.10.6"
  },
  "toc": {
   "base_numbering": 1,
   "nav_menu": {},
   "number_sections": false,
   "sideBar": true,
   "skip_h1_title": false,
   "title_cell": "Table of Contents",
   "title_sidebar": "Contents",
   "toc_cell": false,
   "toc_position": {
    "height": "calc(100% - 180px)",
    "left": "10px",
    "top": "150px",
    "width": "205.075px"
   },
   "toc_section_display": true,
   "toc_window_display": true
  }
 },
 "nbformat": 4,
 "nbformat_minor": 4
}
