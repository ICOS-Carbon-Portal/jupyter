{
 "cells": [
  {
   "cell_type": "markdown",
   "id": "f6da89d9-3761-443c-834a-7874862faa1b",
   "metadata": {},
   "source": []
  },
  {
   "cell_type": "markdown",
   "id": "0d6d5f68-2e2c-4cc7-ab34-4608bcc0bf66",
   "metadata": {},
   "source": [
    "<img src='https://www.icos-cp.eu/sites/default/files/2017-11/ICOS_CP_logo.png' width=400 align=right>\n",
    "\n",
    "# ICOS Carbon Portal Python Libraries\n",
    "\n",
    "\n",
    "# Example: Reading an ObsPack collection\n",
    "\n",
    "We will showcase two different methods / ways of reading the OpsPack data with python\n",
    "\n",
    "1. Download the file, unpack and load the data\n",
    "2. Access the collection using our python library<br>\n",
    "   Load data directly into memory, no need to download. This works on this Jupyter Service from the ICOS Carbon Portal \n",
    "   or locally (on your computer) after authentication (see the `how_to_authenticate.ipynb` notebook)\n"
   ]
  },
  {
   "cell_type": "markdown",
   "id": "2dc9d538-ee48-4bac-9300-710a4d1401bc",
   "metadata": {},
   "source": [
    "## Introduction\n",
    "The goal of this notebook is to show you the ease of use of Jupyter Notebooks and to familiarize you with ObsPack collections and the files stored within these ObsPacks. This notebook will first show how to read in a local NetCDF file that originates from an ObsPack collection (for a specific station, tracer, and sampling height), and how to subset and plot the measurements within the file. \n",
    "\n",
    "In a next step, we will show how to read in an ObsPack file using the ICOS Python Library `icoscp_core`. This is an API that allows you to read in all data stored on the ICOS Carbon Portal without having to download the data, providing an efficient way to read in and process atmospheric measurements and model results in memory. \n",
    "\n",
    "Documentation of the library, including information on running it locally, can be found on [PyPI.org](https://pypi.org/project/icoscp_core/).\n"
   ]
  },
  {
   "cell_type": "markdown",
   "id": "30e7a475-8151-46fc-85d8-092a17183c45",
   "metadata": {},
   "source": [
    "## Import python packages\n",
    "Note: We chose to make use of the xarray package instead of the netCDF4 package, as the former is more versatile and better supported."
   ]
  },
  {
   "cell_type": "code",
   "execution_count": null,
   "id": "504f0e16-4fa2-43de-9d15-e51c7eae2fb6",
   "metadata": {},
   "outputs": [],
   "source": [
    "import os\n",
    "import xarray as xr\n",
    "import matplotlib.pyplot as plt\n",
    "\n",
    "# Make the matplotlib figures interactive with zoom, pan, move, save figures etc... but the figures are not that nice anymore\n",
    "# %matplotlib widget\n",
    "\n",
    "from pylab import plot, boxplot, setp\n",
    "import seaborn as sns\n",
    "color_pal = sns.color_palette()\n",
    "import zipfile\n",
    "import datetime\n",
    "import numpy as np\n",
    "import math\n",
    "from tqdm.notebook import tqdm\n",
    "import pandas as pd\n",
    "\n",
    "# ICOS Library\n",
    "from icoscp_core.icos import meta, data\n"
   ]
  },
  {
   "cell_type": "markdown",
   "id": "d6ea759a-7b61-44b6-9f4e-6fd949e2144f",
   "metadata": {},
   "source": [
    "## Define functions, used later in the notebook"
   ]
  },
  {
   "cell_type": "markdown",
   "id": "4968a5b3-b1a2-44a9-bf5e-b3b765816968",
   "metadata": {},
   "source": [
    "### Label\n",
    "return a 'label' containing station information, location and sampling height"
   ]
  },
  {
   "cell_type": "code",
   "execution_count": null,
   "id": "21671d0b-34b7-4f76-8fe8-936790b5e059",
   "metadata": {},
   "outputs": [],
   "source": [
    "def label(dobj, ret='string'):\n",
    "    '''\n",
    "    A function to extract information from a digital object containing the full set of metadata of a data object.\n",
    "    For convenience, we extract some of the information to display.\n",
    "    Parameters: dobj: metadata object, as returned from an icoscp_core library call \n",
    "                ret: [string | dictionary]returned format, default String, or a dictionary.\n",
    "      \n",
    "    Returns a string with the station id, name, location, and the sampling height of the specific data object.\n",
    "    This can be for example added to the data frame for grouping, or used as series title\n",
    "    '''\n",
    "    info ={}\n",
    "    # sampling height (in meters above ground)\n",
    "    info['sh'] = dobj.specificInfo.acquisition.samplingHeight\n",
    "    # station id & name\n",
    "    info['id'] = dobj.specificInfo.acquisition.station.id\n",
    "    info['name'] = dobj.specificInfo.acquisition.station.org.name\n",
    "    # station location\n",
    "    info['lat'] = dobj.specificInfo.acquisition.station.location.lat\n",
    "    info['lon'] = dobj.specificInfo.acquisition.station.location.lon\n",
    "    info['alt'] = dobj.specificInfo.acquisition.station.location.alt\n",
    "    \n",
    "    if ret=='dictionary':\n",
    "        return info\n",
    "    \n",
    "    return f\"{info['id']} {info['name']} {info['sh']} m (Lat: {info['lat']}, Lon: {info['lon']}, Alt: {info['alt']})\"\n",
    "    "
   ]
  },
  {
   "cell_type": "markdown",
   "id": "786012b2-a730-44f6-ad04-93b77ac8f4f7",
   "metadata": {},
   "source": [
    "### Data Features\n",
    "To work with the dataset we create a add feature function to add some conveniences:\n",
    "- add features so we can group by month or year\n",
    "- change the index to datetime, makes it much easier to plot time series data"
   ]
  },
  {
   "cell_type": "code",
   "execution_count": null,
   "id": "e793504f-1c8f-4480-9003-58694171c4cd",
   "metadata": {},
   "outputs": [],
   "source": [
    "def data_feature(dobj):\n",
    "    '''\n",
    "    A data wrangling function to return the data as pandas dataframe\n",
    "    with index set to the timestamp for easy plotting\n",
    "    and add some features for data analysis.\n",
    "    \n",
    "\n",
    "    Parameters\n",
    "    ----------\n",
    "    dobj : data object, as returned from an icoscp_core library call \n",
    "    \n",
    "    Returns\n",
    "    -------\n",
    "    Pandas Dataframe    \n",
    "    '''\n",
    "    df = dobj\n",
    "    # set index to datetime\n",
    "    df.index = pd.to_datetime(df.time)\n",
    "    \n",
    "    # add columns to aggregate on\n",
    "    df['day'] = df.index.day\n",
    "    df['month'] = df.index.month\n",
    "    df['year'] = df.index.year\n",
    "    \n",
    "    return df    "
   ]
  },
  {
   "cell_type": "markdown",
   "id": "004d7300-74d5-45a4-841f-7b5fc0f49351",
   "metadata": {},
   "source": [
    "### Rolling z-score\n",
    "Z-Score will show how many standard deviations the value is away from the mean.<br>\n",
    "For seasonal data, it seems a good choice to have z-score calculated from a rolling mean/std to find and display outliers<br>\n",
    "The following function is adapted from [https://stackoverflow.com/](https://stackoverflow.com/questions/47164950/compute-rolling-z-score-in-pandas-dataframe)\n",
    ", apparently much faster than the built-in function from pandas.\n",
    "    "
   ]
  },
  {
   "cell_type": "code",
   "execution_count": null,
   "id": "103d859d-9175-4348-b4ff-7274924c9b11",
   "metadata": {},
   "outputs": [],
   "source": [
    "def zscore(data, window=720):\n",
    "    '''\n",
    "    Calculate the z-score... how much standard deviation is the data point away from the mean\n",
    "    We will use this to plot outliers. For this example we now that we have hourly\n",
    "    measurements; we have opted for a default window size of a month (24*30=720)\n",
    "\n",
    "    Parameters\n",
    "    ----------\n",
    "    data : Pandas series\n",
    "    \n",
    "    Returns\n",
    "    -------\n",
    "    Pandas Series\n",
    "    '''\n",
    "    r = data.rolling(window=window)    \n",
    "    m = r.mean().shift(1)\n",
    "    #m = r.mean()\n",
    "    s = r.std(ddof=0).shift(1)\n",
    "    z = (data-m)/s\n",
    "    return z"
   ]
  },
  {
   "cell_type": "markdown",
   "id": "55b4389b-41f8-4552-b479-a463dcedc676",
   "metadata": {},
   "source": [
    "# 1. Download the file, unpack and load the data"
   ]
  },
  {
   "cell_type": "markdown",
   "id": "6abf2375-b70a-41db-a9ed-536fabdf56c6",
   "metadata": {},
   "source": [
    "### How to read in a local NetCDF file coming from an ObsPack collection"
   ]
  },
  {
   "cell_type": "markdown",
   "id": "cf511509-5a99-4e6a-9ba8-de018a31d82b",
   "metadata": {},
   "source": [
    "#### Read in the data\n",
    "The following NetCDF file will be used as an example: co2_cbw_tower-insitu_445_allvalid-207magl.nc. This file contains CO2 mole fraction observations from the Cabauw station at 207 meters a.g.l.\n",
    "Files like this are available, if you download the collection from the data portal ( [https://doi.org/10.18160/X450-GTAY](https://doi.org/10.18160/X450-GTAY) ). Then you can work offline on your own computer. For this demo, we have made one of the files available in the current 'data' folder"
   ]
  },
  {
   "cell_type": "code",
   "execution_count": null,
   "id": "3d4a04e5-621e-4d70-88bd-80f4f20492e6",
   "metadata": {},
   "outputs": [],
   "source": [
    "# Give the path of local nc file\n",
    "path = './data/co2_cbw_tower-insitu_445_allvalid-207magl.nc'\n",
    "\n",
    "# Open the local nc file\n",
    "cbw_data = xr.open_dataset(path)\n",
    "\n",
    "# Explore some of the characteristics of the data\n",
    "print(\"These are the dimensions of the data set:\")\n",
    "print(str(list(cbw_data.coords)) + \"\\n\")\n",
    "\n",
    "print(\"These are the variables of the data set:\")\n",
    "print(str(list(cbw_data.keys())))"
   ]
  },
  {
   "cell_type": "markdown",
   "id": "fa50eba6-8a61-4fea-8b41-d2e00b1a6882",
   "metadata": {},
   "source": [
    "### Explore the ObsPack entry"
   ]
  },
  {
   "cell_type": "code",
   "execution_count": null,
   "id": "fc3bdc2c-f4bc-42a0-b08c-d51a46b70926",
   "metadata": {},
   "outputs": [],
   "source": [
    "cbw_data"
   ]
  },
  {
   "cell_type": "markdown",
   "id": "87125364-61fe-4df6-8149-a7eb1f0887e4",
   "metadata": {},
   "source": [
    "### Subset the data"
   ]
  },
  {
   "cell_type": "code",
   "execution_count": null,
   "id": "50c69402-0195-4cab-9a10-ef966f36b80c",
   "metadata": {},
   "outputs": [],
   "source": [
    "# Select a time period of interest. Here: JJA 2018\n",
    "cbw_subset = cbw_data.sel(time=slice('2018-06-01', '2018-09-01'))"
   ]
  },
  {
   "cell_type": "markdown",
   "id": "84d54f54-7fff-43ed-bdb9-b178eb77033e",
   "metadata": {},
   "source": [
    "### Creating a CO2 mixing ratio timeseries"
   ]
  },
  {
   "cell_type": "code",
   "execution_count": null,
   "id": "d801fcd5-6ced-4a7f-8f99-c24b0947012b",
   "metadata": {},
   "outputs": [],
   "source": [
    "fig, ax = plt.subplots(nrows=1, ncols = 1, figsize=(12,4))\n",
    "ax.grid(zorder=0)\n",
    "plt.plot(cbw_subset.time, cbw_subset.value * 1e6, '-', zorder=2, label = 'CO2 dry mole fraction')\n",
    "ax.set_title(cbw_subset.site_name)\n",
    "ax.set_ylabel(str(cbw_data.value.standard_name) + ' [ppm]')\n",
    "ax.set_xlabel('time')\n",
    "ax.set_xlim([min(cbw_subset.time),max(cbw_subset.time)])\n",
    "ax.set_ylim([380,460])\n",
    "plt.xticks(rotation = 45)\n",
    "plt.legend()\n",
    "\n",
    "# if you want to save the image... uncomment the following line\n",
    "# plt.savefig('co2_cabauw.png')"
   ]
  },
  {
   "cell_type": "markdown",
   "id": "ac052c16-cc4e-4071-ac6c-b24b0d85857e",
   "metadata": {},
   "source": [
    "### Assigning a new variable to the ObsPack using xarray"
   ]
  },
  {
   "cell_type": "code",
   "execution_count": null,
   "id": "b9385e0e-b4c3-4ee9-945a-c60535b2408e",
   "metadata": {},
   "outputs": [],
   "source": [
    "## Create a synthetic mole fraction observation variable with a randomized uncertainty (noise)\n",
    "noise = np.random.normal(2.1e-6, 1.5e-6, len(cbw_subset.value))\n",
    "model = cbw_subset.value + noise\n",
    "\n",
    "## Insert the newly created variable into the ObsPack\n",
    "## (Use the xr.assign() function)\n",
    "cbw_subset = cbw_subset.assign(model=model)\n",
    "cbw_subset"
   ]
  },
  {
   "cell_type": "markdown",
   "id": "985bcfc4-6848-4070-801f-e6ca5690b87a",
   "metadata": {},
   "source": [
    "### Adding the synthetic simulation results to the timeseries plot"
   ]
  },
  {
   "cell_type": "code",
   "execution_count": null,
   "id": "8b4737a7-3b5a-416c-bfa7-aee1662060b3",
   "metadata": {},
   "outputs": [],
   "source": [
    "## Make a timeseries plot similar to the one before, but now adding the synthetic model results\n",
    "fig, ax = plt.subplots(nrows=1, ncols = 1, figsize=(10,4))\n",
    "ax.grid(zorder=0)\n",
    "plt.plot(cbw_subset.time, cbw_subset.value * 1e6, '-', zorder=2, label = 'Observed CO2 dry mole fraction')\n",
    "plt.plot(cbw_subset.time, cbw_subset.model * 1e6, '-', zorder=2, label = 'Modelled CO2 dry mole fraction')\n",
    "ax.set_title(cbw_subset.site_name)\n",
    "ax.set_ylabel(str(cbw_data.value.standard_name) + ' [ppm]')\n",
    "ax.set_xlabel('time')\n",
    "ax.set_xlim([min(cbw_subset.time),max(cbw_subset.time)])\n",
    "ax.set_ylim([380,460])\n",
    "plt.xticks(rotation = 0)\n",
    "plt.legend()"
   ]
  },
  {
   "cell_type": "markdown",
   "id": "ab412ee6-9bd5-4566-9c8f-679fb1d03fb1",
   "metadata": {},
   "source": [
    "### Plotting a timeseries of the residuals"
   ]
  },
  {
   "cell_type": "code",
   "execution_count": null,
   "id": "dfd24fe6-1465-4e7a-8f27-6c5cb7b7e837",
   "metadata": {},
   "outputs": [],
   "source": [
    "## Make a residual timeseries plot\n",
    "fig, ax = plt.subplots(nrows=1, ncols = 1, figsize=(12,4))\n",
    "ax.grid(zorder=0)\n",
    "plt.plot(cbw_subset.time, (cbw_subset.model - cbw_subset.value) * 1e6, '-', c = 'r', zorder=2, label = 'Model error / residual CO2 mole fraction')\n",
    "ax.set_title(cbw_subset.site_name)\n",
    "ax.set_ylabel(str(cbw_data.value.standard_name) + '\\n residual [ppm]')\n",
    "ax.set_xlabel('time')\n",
    "ax.set_xlim([min(cbw_subset.time),max(cbw_subset.time)])\n",
    "ax.set_ylim([-7.5,7.5])\n",
    "plt.xticks(rotation = 10, fontsize=8)\n",
    "plt.legend()"
   ]
  },
  {
   "cell_type": "code",
   "execution_count": null,
   "id": "c6381e9a-f759-4dad-92e9-4bbb0f79665b",
   "metadata": {},
   "outputs": [],
   "source": [
    "## Calculate the RMSE between the observed and synthetic CO2 mole fractions\n",
    "MSE = np.square(np.subtract(cbw_subset.value,cbw_subset.model)).mean() \n",
    "MSE_ppm = np.square(np.subtract(cbw_subset.value*1e6,cbw_subset.model*1e6)).mean() \n",
    " \n",
    "RMSE = math.sqrt(MSE)\n",
    "RMSE_ppm = math.sqrt(MSE_ppm)\n",
    "print(\"Root Mean Square Error:\")\n",
    "print(RMSE)\n",
    "\n",
    "print(\"Root Mean Square Error (in ppm):\")\n",
    "print(RMSE_ppm)"
   ]
  },
  {
   "cell_type": "markdown",
   "id": "3521d6a3-35a5-4e87-902b-9d50df3f9d02",
   "metadata": {},
   "source": [
    "# 2. Access the collection using our python library\n",
    "directly into memory, no need to download. This works on this Jupyter Service from the ICOS Carbon Portal or locally (on your computer) after authentication (see the `how_to_authenticate.ipynb` notebook)\n",
    "\n",
    "## Read the collection of ObsPack files\n",
    "Now we proceed to read the collection of ObsPack files directly, you can think of a collection as a zip file, containing many files. **Be aware... there might be a LOT of files**, the following example contains more than 100 data objects, and loading them all into memory can make things slow. The ObsPack collection for CO2, CH4, and N2O is published with a DOI [https://doi.org/10.18160/YDMA-2X1H](https://doi.org/10.18160/YDMA-2X1H), that is what we are using to access the data and metadata. \n",
    "\n",
    "Note that ObsPacks are published as separate *data objects* for CO2, CH4, and since summer 2024 also N2O, all three with their own DOI and that in paralell also an ObsPack *collection* combining data for all three gases is published with a single DOI. This *collection* allows easy access using our ICOS CP Python libraries."
   ]
  },
  {
   "cell_type": "markdown",
   "id": "529f7020-af42-4dd4-aace-9a90d6f799e5",
   "metadata": {},
   "source": [
    "### Resolve the DOI\n"
   ]
  },
  {
   "cell_type": "code",
   "execution_count": null,
   "id": "1d902002-0961-4946-8b59-fc7eef8a1a36",
   "metadata": {},
   "outputs": [],
   "source": [
    "import requests\n",
    "doi = \"10.18160/YDMA-2X1H\"\n",
    "coll_uri = requests.head(f\"https://doi.org/{doi}\").headers.get('Location')\n",
    "coll_uri"
   ]
  },
  {
   "cell_type": "markdown",
   "id": "55300000-b017-458f-b819-1fde0b2bbe8e",
   "metadata": {},
   "source": [
    "### Read collection metadata"
   ]
  },
  {
   "cell_type": "code",
   "execution_count": null,
   "id": "864500a2-6c8b-4a9b-9307-948a5150bf1c",
   "metadata": {
    "tags": []
   },
   "outputs": [],
   "source": [
    "coll = meta.get_collection_meta(coll_uri)\n",
    "coll.title"
   ]
  },
  {
   "cell_type": "code",
   "execution_count": null,
   "id": "03eab6d0-894d-44ea-b7bd-45ffd6d17507",
   "metadata": {},
   "outputs": [],
   "source": [
    "coll.latestVersion"
   ]
  },
  {
   "cell_type": "markdown",
   "id": "4f024b0c-84a8-423c-b699-e5a1c485431f",
   "metadata": {},
   "source": [
    "### Fast-forward to the latest version\n",
    "This step is also optional, should only be used if the code should find the latest version of the collection"
   ]
  },
  {
   "cell_type": "code",
   "execution_count": null,
   "id": "bfcd59df-293d-4049-8662-528ddf5d8c84",
   "metadata": {
    "tags": []
   },
   "outputs": [],
   "source": [
    "coll = meta.get_collection_meta(coll.latestVersion)\n",
    "coll.title"
   ]
  },
  {
   "cell_type": "markdown",
   "id": "41c7f2f0-3c11-48ae-a591-73a365eeef3d",
   "metadata": {},
   "source": [
    "### Citation\n",
    "\n",
    "Note that a citation string is only available for collections that have a DOI."
   ]
  },
  {
   "cell_type": "code",
   "execution_count": null,
   "id": "5091a685-bf4a-4d36-9265-c5d938d7362c",
   "metadata": {},
   "outputs": [],
   "source": [
    "coll.references.citationString"
   ]
  },
  {
   "cell_type": "markdown",
   "id": "d18f755e-e94d-45fc-95d4-ab1962a181fb",
   "metadata": {},
   "source": [
    "### Collection description"
   ]
  },
  {
   "cell_type": "code",
   "execution_count": null,
   "id": "36083aea-3100-44d9-98b7-097afd327660",
   "metadata": {},
   "outputs": [],
   "source": [
    "coll.description"
   ]
  },
  {
   "cell_type": "markdown",
   "id": "b14b3348-e683-4ff5-ad86-85eb106265b7",
   "metadata": {},
   "source": [
    "### A list of all the 'files' or data sets included\n",
    "We will display only the first 5, but actually there are many more"
   ]
  },
  {
   "cell_type": "code",
   "execution_count": null,
   "id": "a4838337-7dbf-43bf-bcce-5cb29e53e6f8",
   "metadata": {},
   "outputs": [],
   "source": [
    "# Print a list of the data object in the collection, which includes the links to the landing pages and the filename for each dataset\n",
    "print(f\"Available datasets: {len(coll.members)}\")\n",
    "coll.members[:5]"
   ]
  },
  {
   "cell_type": "markdown",
   "id": "eaea0eb1-19be-41b6-b056-ae9e0040fc20",
   "metadata": {},
   "source": [
    "### Select CO2 data sets only "
   ]
  },
  {
   "cell_type": "code",
   "execution_count": null,
   "id": "6ada759e-a83a-4e2a-a68a-b82da15ab2fc",
   "metadata": {},
   "outputs": [],
   "source": [
    "co2_coll = [s for s in coll.members if 'co2' in s.name]\n",
    "print(f\"Available datasets: {len(co2_coll)}\")\n",
    "co2_coll[:5]"
   ]
  },
  {
   "cell_type": "markdown",
   "id": "f3399505-9bfd-464c-9fd1-28cdeeeda43e",
   "metadata": {},
   "source": [
    "## Look at one dataset\n",
    "The collection contains already a list of data objects as displayed above. A data object contains meta data about the dataset and allows direct access to the actual measurements.<br>\n",
    "Please have a look at the documentation of the `icoscp_core` python library for further details on how to work with collections and datasets.<br>\n",
    "\n",
    "This time we will use plotly to create box plots for all the stations. But before we loop through all the files, we have a look at the first dataset.\n",
    "    \n",
    "    \n"
   ]
  },
  {
   "cell_type": "code",
   "execution_count": null,
   "id": "23ea379e-b491-4826-8646-3326d2e415b8",
   "metadata": {},
   "outputs": [],
   "source": [
    "dataset = co2_coll[37] # just choosing a random station out of the collection\n",
    "\n",
    "# This is the landing page uri information that we need for access to metadata and data of the object.\n",
    "dataset.res"
   ]
  },
  {
   "cell_type": "markdown",
   "id": "da93d94c-2723-4cee-bd4e-ee08e7b13861",
   "metadata": {},
   "source": [
    "### Get the metadata\n",
    "\n",
    "Extract information on the selected station and the selected dataset"
   ]
  },
  {
   "cell_type": "code",
   "execution_count": null,
   "id": "7f1d61fd-b4d7-4ba0-99cd-e7fc30fa4857",
   "metadata": {
    "tags": []
   },
   "outputs": [],
   "source": [
    "# Get the data object metadata\n",
    "dobj_meta = meta.get_dobj_meta(dataset.res)\n",
    "dobj_meta.references.title"
   ]
  },
  {
   "cell_type": "code",
   "execution_count": null,
   "id": "4a854a2b-ff09-4f04-bf2b-2af5f043ba04",
   "metadata": {},
   "outputs": [],
   "source": [
    "# many more properties are available...\n",
    "print([p for p in dir(dobj_meta) if not p.startswith('_')])"
   ]
  },
  {
   "cell_type": "code",
   "execution_count": null,
   "id": "14c754d6-c448-4158-90b2-9d76f7a52777",
   "metadata": {},
   "outputs": [],
   "source": [
    "# custom built function using this properties ... see beginning of notebook\n",
    "label(dobj_meta)"
   ]
  },
  {
   "cell_type": "markdown",
   "id": "32617b67-dccd-4a9d-8188-6503f2dee629",
   "metadata": {},
   "source": [
    "### Get the data\n",
    "This step would require authentication for local use (not on an ICOS-hosted Jupyter service)\n",
    "\n",
    "NOTE the following example is appropriate mostly for the case of single data object, or for inhomogeneous lists of data objects of different data types. For homogeneous lists, it is highly recommended to use batch_get_columns_as_arrays method for much better performance due to reduced number of server calls."
   ]
  },
  {
   "cell_type": "code",
   "execution_count": null,
   "id": "e93537bd-ba12-4179-a999-78b4d90662dd",
   "metadata": {},
   "outputs": [],
   "source": [
    "dobj_cols = data.get_columns_as_arrays(dobj_meta)\n",
    "dobj_data = pd.DataFrame(dobj_cols)\n",
    "dobj_data.head()"
   ]
  },
  {
   "cell_type": "code",
   "execution_count": null,
   "id": "c685ff52-30fe-4c27-8203-1376bd58c8c2",
   "metadata": {},
   "outputs": [],
   "source": [
    "# For CO2 convert units mol mol-1 to ppm\n",
    "dobj_data['CO2 [ppm]'] = dobj_data['value'] * 1e6"
   ]
  },
  {
   "cell_type": "code",
   "execution_count": null,
   "id": "2a8d902d-3520-496a-b5f6-4718ab25d32c",
   "metadata": {},
   "outputs": [],
   "source": [
    "# add some features to the dataset... see function in the beginning of the notebook. this helps later on to group the data\n",
    "dobj_data = data_feature(dobj_data)\n",
    "dobj_data.head()"
   ]
  },
  {
   "cell_type": "markdown",
   "id": "738b6cb5-789e-4b4b-bb6d-356133168fcb",
   "metadata": {},
   "source": [
    "### Simple Plot\n",
    "Obviously one would need to work more on the figure... like putting on units, and lables, etc,<br>\n",
    "but for right now we just quickly plot the data."
   ]
  },
  {
   "cell_type": "code",
   "execution_count": null,
   "id": "bd77444c-556f-48c1-b841-89ba21f92692",
   "metadata": {},
   "outputs": [],
   "source": [
    "simplefig, ax = plt.subplots(figsize=(10,4))\n",
    "ax.grid(color='grey', linestyle='--', linewidth=0.5)\n",
    "ax.set_title(label(dobj_meta)) \n",
    "ax.scatter(dobj_data.index, dobj_data['CO2 [ppm]'], s=0.5) # s = size of marker\n",
    "simplefig.show()"
   ]
  },
  {
   "cell_type": "markdown",
   "id": "cebb4f2b-9201-45f8-bdbe-0e56ef165b0f",
   "metadata": {},
   "source": [
    "### Add rolling mean"
   ]
  },
  {
   "cell_type": "code",
   "execution_count": null,
   "id": "64401454-235d-461d-8872-ae956964a76e",
   "metadata": {},
   "outputs": [],
   "source": [
    "# add a rolling mean with approximately a monthly window\n",
    "rm = dobj_data.ewm(span = 720).mean()\n",
    "ax.plot(rm.index, rm['CO2 [ppm]'], color='black', linestyle='dashed')"
   ]
  },
  {
   "cell_type": "markdown",
   "id": "6c58885a-5fe1-4528-b785-6cb5b91849e2",
   "metadata": {},
   "source": [
    "### Add outliers from a rolling mean\n",
    "As you can see, there are some outliers in the dataset. We will hightlight them with zscore (see functions in the beginning of the notebook). The function will calculate the distance in standard deviations for a rolling window. First we will add the zscore to the dataset (we could have done this in the add data features section as well). Assuming the data would follow a normal distribution, we will highlight data points which have a distance of more than 3 standard deviations (per rolling window). As a default the window size is set to approximately a monthly window."
   ]
  },
  {
   "cell_type": "code",
   "execution_count": null,
   "id": "1c92bd70-63a4-41cd-8432-a032580b6137",
   "metadata": {},
   "outputs": [],
   "source": [
    "# add the zscore to the data set\n",
    "dobj_data['zscore'] = zscore(dobj_data['CO2 [ppm]'])\n",
    "zfilter = (dobj_data.zscore > 3) | (dobj_data.zscore < -3) \n",
    "outliers = dobj_data[zfilter]\n",
    "ax.plot(outliers.index, outliers['CO2 [ppm]'], 'ro',markersize='1')"
   ]
  },
  {
   "cell_type": "code",
   "execution_count": null,
   "id": "792ce6d2-9914-41da-b27d-0c7ac9d08672",
   "metadata": {},
   "outputs": [],
   "source": [
    "simplefig"
   ]
  },
  {
   "cell_type": "markdown",
   "id": "74d153ff-819f-4354-9161-184b78c0fd2c",
   "metadata": {},
   "source": [
    "### Aggregate data plot"
   ]
  },
  {
   "cell_type": "code",
   "execution_count": null,
   "id": "95cb8c8b-9a3f-476e-b08e-501f7167faa1",
   "metadata": {},
   "outputs": [],
   "source": [
    "# create a plot with running average and aggregate by month\n",
    "fig, (ax1, ax2) = plt.subplots(1, 2, figsize=(13, 4))\n",
    "fig.suptitle(label(dobj_meta), fontsize=12, y=1.05)\n",
    "\n",
    "# a rolling mean with a monthly window (30 days x 24 hours = 720), makes a trend clearly visible\n",
    "dobj_data.ewm(span = 720).mean().plot(y='CO2 [ppm]', grid=True, ax=ax1)\n",
    "ax1.set_title('rolling mean')\n",
    "ax1.grid(color='grey', linestyle='--', linewidth=0.5)\n",
    "\n",
    "# aggregate by month, to show seasonality\n",
    "dobj_data.groupby(dobj_data.index.month, sort=False, group_keys=False ).mean().sort_index().plot(y='CO2 [ppm]',grid=True, ax=ax2)\n",
    "ax2.set_title('aggregate by month')\n",
    "ax2.grid(color='grey', linestyle='--', linewidth=0.5)\n",
    "\n",
    "fig.show()"
   ]
  },
  {
   "cell_type": "markdown",
   "id": "2010224a-c1c2-41a8-8e74-280b9144faf0",
   "metadata": {},
   "source": [
    "### Boxplot"
   ]
  },
  {
   "cell_type": "code",
   "execution_count": null,
   "id": "61d24d3f-297c-4540-a168-355535c58b57",
   "metadata": {},
   "outputs": [],
   "source": [
    "# create a more fancy plot with seaborn\n",
    "\n",
    "fig, (ax1, ax2) = plt.subplots(1, 2, figsize=(13, 4))\n",
    "fig.suptitle(label(dobj_meta), fontsize=12, y=1.05)\n",
    "sns.boxplot(data=dobj_data, x=dobj_data.index.year, y='CO2 [ppm]', palette='Blues', ax=ax1)\n",
    "ax1.set_title('values by year')\n",
    "ax1.grid(color='grey', linestyle='--', linewidth=0.5)\n",
    "ax1.set_xticklabels(ax1.get_xticklabels(),rotation=45)\n",
    "\n",
    "sns.violinplot(data=dobj_data, x=dobj_data.index.month, y='CO2 [ppm]', palette='Blues', ax=ax2)\n",
    "ax2.set_title('aggregate by month')\n",
    "ax2.grid(color='grey', linestyle='--', linewidth=0.5)\n",
    "ax2.set_xlabel('month')\n",
    "\n",
    "fig.show()"
   ]
  },
  {
   "cell_type": "markdown",
   "id": "4858e93c-34ea-4646-9a91-a3c12ac45f3a",
   "metadata": {},
   "source": [
    "## Loop through the collection\n",
    "\n",
    "Since we now have a better understanding of the underlying data, we can plot many datasets side by side to compare.<br>\n",
    "We demonstrate a simple filter implententation for country and/or station id.<br>\n",
    "The following example finds all stations from **Switzerland** plus adding the **'Schauinsland'** station from Germany and **'Weybourne'** from Great Britain."
   ]
  },
  {
   "cell_type": "markdown",
   "id": "7c91b285-45bd-47e1-b283-306afad030b2",
   "metadata": {},
   "source": [
    "### Create a list of metadata objects\n",
    "Remember, above we have a created a list of objects for co2, called **coll_co2**<br>\n",
    "We are now using this list, and load the metadata for each dataset"
   ]
  },
  {
   "cell_type": "code",
   "execution_count": null,
   "id": "f2b6188e-52b4-4af3-aaa7-aad2f14b79cf",
   "metadata": {},
   "outputs": [],
   "source": [
    "all_co2_meta = [meta.get_dobj_meta(do.res) for do in tqdm(co2_coll)]"
   ]
  },
  {
   "cell_type": "markdown",
   "id": "54ab86ba-ce6f-4957-ae50-9bc9875bafa6",
   "metadata": {},
   "source": [
    "### Filter by country and/or station\n",
    "We will save the resulting list of meta data for further analysis. \n",
    "- You can add multiple countries as filter, like this ['CH', 'PL'], or if you want to plot **ALL** countries, please set the country filter to ['ALL']. You will find the country code for each digital object in their metadata with ```all_co2_meta[0].specificInfo.acquisition.station.countryCode ```\n",
    "- The same applies for stationId ```all_co2_meta[0].specificInfo.acquisition.station.station.id ```\n"
   ]
  },
  {
   "cell_type": "code",
   "execution_count": null,
   "id": "6d5a6e7d-a133-4b78-9785-5158737e6695",
   "metadata": {},
   "outputs": [],
   "source": [
    "# for the country filter the following applies\n",
    "# ['ALL'] -> find all countries, equivalent to no filter\n",
    "# [] -> empty list, find 'nothing'\n",
    "\n",
    "country = ['CH']\n",
    "stationId = ['SSL', 'WAO']"
   ]
  },
  {
   "cell_type": "code",
   "execution_count": null,
   "id": "0ba8cee7-2c07-4699-8a03-5aee1a5d4097",
   "metadata": {},
   "outputs": [],
   "source": [
    "country_list = []\n",
    "station_list = []\n",
    "\n",
    "if 'ALL' in country:\n",
    "    country_list = all_co2_meta\n",
    "elif country:\n",
    "    country_list = [do for do in all_co2_meta if do.specificInfo.acquisition.station.countryCode in country]\n",
    "\n",
    "if stationId and (not 'ALL' in country):\n",
    "    station_list = [do for do in all_co2_meta if do.specificInfo.acquisition.station.id in stationId]\n",
    "    \n",
    "filtered_co2_meta = country_list + station_list\n",
    "\n",
    "for selected in filtered_co2_meta:\n",
    "    print(f'{label(selected)}')"
   ]
  },
  {
   "cell_type": "markdown",
   "id": "400444f6-5b19-4305-a0d7-7fc1a0f128d9",
   "metadata": {},
   "source": [
    "### Load data and create a plot"
   ]
  },
  {
   "cell_type": "code",
   "execution_count": null,
   "id": "61016b29-f8b1-4c7a-8da5-ac143520f708",
   "metadata": {},
   "outputs": [],
   "source": [
    "# create a plot with running average and aggregate by month\n",
    "fig, (ax1, ax2) = plt.subplots(1, 2, figsize=(13, 4))\n",
    "fig.suptitle('Aggregate data', fontsize=12)\n",
    "\n",
    "ax1.set_title('moving average')\n",
    "ax1.grid(color='grey', linestyle='--', linewidth=0.5)\n",
    "\n",
    "ax2.set_title('aggregate by month')\n",
    "ax2.grid(color='grey', linestyle='--', linewidth=0.5)\n",
    "\n",
    "for do_meta in tqdm(filtered_co2_meta):\n",
    "\n",
    "    # extract the data frame\n",
    "    df = pd.DataFrame(data.get_columns_as_arrays(do_meta))\n",
    "    \n",
    "    # For CO2 convert units mol mol-1 to ppm\n",
    "    df['CO2 [ppm]'] = df['value'] * 1e6\n",
    "    \n",
    "    # add features for aggregation\n",
    "    df = data_feature(df)\n",
    "    \n",
    "    # plot    \n",
    "    serieslabel = label(do_meta)\n",
    "    df.ewm(span = 3600).mean().plot(y='CO2 [ppm]', grid=True, ax=ax1, label=serieslabel)\n",
    "    df = df.groupby(['month'], sort=False, group_keys=False ).mean().sort_index()\n",
    "    df.plot(y='CO2 [ppm]',grid=True, ax=ax2, label=serieslabel, marker='o', linestyle='dashed')\n",
    "    \n",
    "    # move the legend below the plot\n",
    "    ax1.legend(loc='upper center', bbox_to_anchor=(0.5, -0.2),fancybox=True, shadow=True, ncol=1)\n",
    "    ax2.legend(loc='upper center', bbox_to_anchor=(0.5, -0.2),fancybox=True, shadow=True, ncol=1)\n",
    "    \n",
    "plt.show()\n",
    "    "
   ]
  },
  {
   "cell_type": "markdown",
   "id": "7647615c-504b-4e8e-9380-243e7b6d790b",
   "metadata": {},
   "source": [
    "### BoxPlot many stations\n",
    "We will use the same filter applied from above"
   ]
  },
  {
   "cell_type": "code",
   "execution_count": null,
   "id": "2e34f588-153c-413c-9ad0-cab4eb2d40db",
   "metadata": {},
   "outputs": [],
   "source": [
    "# depending on how many stations you want to display, \n",
    "# you probably want to adjust the figure and font size\n",
    "# for all 132 stations you can try the following values\n",
    "#figuresize = [10,30] \n",
    "#fontsize = 9\n",
    "\n",
    "figuresize = [8,8] \n",
    "fontsize = 12\n",
    "\n",
    "# Initialize the figure\n",
    "f, ax = plt.subplots(figsize=figuresize)\n",
    "frames= []\n",
    "\n",
    "#------------------------------------\n",
    "for do_meta in tqdm(filtered_co2_meta):\n",
    "\n",
    "    # extract the data frame\n",
    "    df = pd.DataFrame(data.get_columns_as_arrays(do_meta))\n",
    "    \n",
    "    # For CO2 convert units mol mol-1 to ppm\n",
    "    df['CO2 [ppm]'] = df['value'] * 1e6\n",
    "    \n",
    "    # add features for aggregation\n",
    "    df = data_feature(df)\n",
    "    df['label'] = label(do_meta)\n",
    "    frames.append(df)\n",
    "\n",
    "if(frames):\n",
    "    result = pd.concat(frames)\n",
    "    result.boxplot('CO2 [ppm]',by='label',vert=False, ax=ax, fontsize=fontsize,flierprops={'marker': '.'},patch_artist = True)\n",
    "\n",
    "    f.suptitle('ObsPack CO2 mole fraction observations')\n",
    "    ax.set_xlabel('CO2 [ppm]')\n",
    "    plt.show()\n",
    "else:\n",
    "    print('no results')\n",
    "    f.clear()\n",
    "    ax.clear"
   ]
  }
 ],
 "metadata": {
  "kernelspec": {
   "display_name": "Python 3 (ipykernel)",
   "language": "python",
   "name": "python3"
  },
  "language_info": {
   "codemirror_mode": {
    "name": "ipython",
    "version": 3
   },
   "file_extension": ".py",
   "mimetype": "text/x-python",
   "name": "python",
   "nbconvert_exporter": "python",
   "pygments_lexer": "ipython3",
   "version": "3.10.6"
  },
  "widgets": {
   "application/vnd.jupyter.widget-state+json": {
    "state": {},
    "version_major": 2,
    "version_minor": 0
   }
  }
 },
 "nbformat": 4,
 "nbformat_minor": 5
}
