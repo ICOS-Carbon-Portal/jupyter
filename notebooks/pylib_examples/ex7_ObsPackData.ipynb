{
 "cells": [
  {
   "cell_type": "markdown",
   "id": "0d6d5f68-2e2c-4cc7-ab34-4608bcc0bf66",
   "metadata": {},
   "source": [
    "<img src='https://www.icos-cp.eu/sites/default/files/2017-11/ICOS_CP_logo.png' width=400 align=right>\n",
    "\n",
    "# ICOS Carbon Portal Python Library\n",
    "## Example: Reading a ObsPack collection\n",
    "\n",
    "We will showcase two different methods or ways of reading the OpsPack data with python\n",
    "\n",
    "1. Download the file, unpack und load the data\n",
    "2. Access the collection usgin our python library, directly into memory, no need to download. This works external, (on your computer) or after you login to this Jupyter Service from the ICOS Carbon Portal."
   ]
  },
  {
   "cell_type": "markdown",
   "id": "b590e55e-4ee7-43b4-b52d-5860dad4b883",
   "metadata": {},
   "source": [
    "## Documentation\n",
    "Full documentation for the ICOS python library is availalbe on the [project page](https://icos-carbon-portal.github.io/pylib/), how to install and wheel on [pypi.org](https://pypi.org/project/icoscp/), source is available on [github](https://github.com/ICOS-Carbon-Portal/pylib)"
   ]
  },
  {
   "cell_type": "markdown",
   "id": "2dc9d538-ee48-4bac-9300-710a4d1401bc",
   "metadata": {},
   "source": [
    "## Introduction\n",
    "The goal of this notebook is to show you the ease of use of Jupyter Notebooks and to familiarize you with ObsPack collections and the files stored within these ObsPacks. This notebook will first show how to read in a local NetCDF file that originates from an ObsPack collection (for a specific station, tracer, and measurement height), and how to subset and plot the measurements within the file. \n",
    "\n",
    "In a next step, we will show how to read in an ObsPack file using the ICOS Python Library (i.e. the *pylib* Python package). This is an API that allows you to read in all data stored on the ICOS Carbon Portal without having to read the data into local memory, providing an efficient way to read in and process atmospheric measurements and model results.\n",
    "\n",
    "Even though direct access of ObsPack collections is not yet supported by the *pylib* in a convenient way, we will show you an alternative way of accessing the ObsPack collections through the internal ICOS servers."
   ]
  },
  {
   "cell_type": "markdown",
   "id": "30e7a475-8151-46fc-85d8-092a17183c45",
   "metadata": {},
   "source": [
    "## Import python packages\n",
    "Note: We chose to make use of the xarray package instead of the netCDF4 package, as the former is more versatile and better supported."
   ]
  },
  {
   "cell_type": "code",
   "execution_count": null,
   "id": "504f0e16-4fa2-43de-9d15-e51c7eae2fb6",
   "metadata": {
    "tags": []
   },
   "outputs": [],
   "source": [
    "import os\n",
    "import xarray as xr\n",
    "import matplotlib.pyplot as plt\n",
    "# Make the matplotlib figures interactive with \n",
    "# zoom, pan, move, save figures etc..\n",
    "# %matplotlib widget\n",
    "from pylab import plot, boxplot, setp\n",
    "import seaborn as sns\n",
    "color_pal = sns.color_palette()\n",
    "import zipfile\n",
    "import datetime\n",
    "import numpy as np\n",
    "import math\n",
    "from tqdm.notebook import tqdm\n",
    "import pandas as pd\n",
    "from icoscp.collection import collection\n",
    "from icoscp.cpb.dobj import Dobj"
   ]
  },
  {
   "cell_type": "markdown",
   "id": "55b4389b-41f8-4552-b479-a463dcedc676",
   "metadata": {},
   "source": [
    "# 1. Download the file, unpack und load the data"
   ]
  },
  {
   "cell_type": "markdown",
   "id": "6abf2375-b70a-41db-a9ed-536fabdf56c6",
   "metadata": {},
   "source": [
    "### How to read in a local NetCDF file coming from an ObsPack collection"
   ]
  },
  {
   "cell_type": "markdown",
   "id": "cf511509-5a99-4e6a-9ba8-de018a31d82b",
   "metadata": {},
   "source": [
    "#### Read in the data\n",
    "The following NetCDF file will be used as an example: co2_cbw_tower-insitu_445_allvalid-207magl.nc. This file contains CO2 mole fraction observations from the Cabauw station at 207 meters a.g.l.\n",
    "Files like this are available, if you download the collection from the data portal ( [https://www.icos-cp.eu/data-products/CEC4-CAGK](https://www.icos-cp.eu/data-products/CEC4-CAGK) ). Then you can work offline on your own computer. For this demo, we have made one of the files available in the current 'data' folder"
   ]
  },
  {
   "cell_type": "code",
   "execution_count": null,
   "id": "3d4a04e5-621e-4d70-88bd-80f4f20492e6",
   "metadata": {
    "tags": []
   },
   "outputs": [],
   "source": [
    "# Give the path of local nc file\n",
    "path = './data/co2_cbw_tower-insitu_445_allvalid-207magl.nc'\n",
    "\n",
    "# Open the local nc file\n",
    "cbw_data = xr.open_dataset(path)\n",
    "\n",
    "# Explore some of the characteristics of the data\n",
    "print(\"These are the dimensions of the data set:\")\n",
    "print(str(list(cbw_data.coords)) + \"\\n\")\n",
    "\n",
    "print(\"These are the variables of the data set:\")\n",
    "print(str(list(cbw_data.keys())))"
   ]
  },
  {
   "cell_type": "markdown",
   "id": "fa50eba6-8a61-4fea-8b41-d2e00b1a6882",
   "metadata": {},
   "source": [
    "### Explore the ObsPack entry"
   ]
  },
  {
   "cell_type": "code",
   "execution_count": null,
   "id": "fc3bdc2c-f4bc-42a0-b08c-d51a46b70926",
   "metadata": {
    "tags": []
   },
   "outputs": [],
   "source": [
    "cbw_data"
   ]
  },
  {
   "cell_type": "markdown",
   "id": "87125364-61fe-4df6-8149-a7eb1f0887e4",
   "metadata": {},
   "source": [
    "### Subset the data"
   ]
  },
  {
   "cell_type": "code",
   "execution_count": null,
   "id": "50c69402-0195-4cab-9a10-ef966f36b80c",
   "metadata": {
    "tags": []
   },
   "outputs": [],
   "source": [
    "# Select a time period of interest. Here: JJA 2018\n",
    "cbw_subset = cbw_data.sel(time=slice('2018-06-01', '2018-09-01'))"
   ]
  },
  {
   "cell_type": "markdown",
   "id": "84d54f54-7fff-43ed-bdb9-b178eb77033e",
   "metadata": {},
   "source": [
    "### Creating a CO2 mixing ratio timeseries"
   ]
  },
  {
   "cell_type": "code",
   "execution_count": null,
   "id": "d801fcd5-6ced-4a7f-8f99-c24b0947012b",
   "metadata": {
    "tags": []
   },
   "outputs": [],
   "source": [
    "fig, ax = plt.subplots(nrows=1, ncols = 1, figsize=(12,4))\n",
    "ax.grid(zorder=0)\n",
    "plt.plot(cbw_subset.time, cbw_subset.value * 1e6, '-', zorder=2, label = 'CO2 dry mole fraction')\n",
    "ax.set_title(cbw_subset.site_name)\n",
    "ax.set_ylabel(str(cbw_data.value.standard_name) + ' [ppm]')\n",
    "ax.set_xlabel('time')\n",
    "ax.set_xlim([min(cbw_subset.time),max(cbw_subset.time)])\n",
    "ax.set_ylim([380,460])\n",
    "plt.xticks(rotation = 45)\n",
    "plt.legend()\n",
    "\n",
    "# if you want to save the image... uncomment the following line\n",
    "# plt.savefig('co2_cabauw.png')"
   ]
  },
  {
   "cell_type": "markdown",
   "id": "ac052c16-cc4e-4071-ac6c-b24b0d85857e",
   "metadata": {},
   "source": [
    "### Assigning a new variable to the ObsPack using xarray"
   ]
  },
  {
   "cell_type": "code",
   "execution_count": null,
   "id": "b9385e0e-b4c3-4ee9-945a-c60535b2408e",
   "metadata": {
    "tags": []
   },
   "outputs": [],
   "source": [
    "## Create a synthetic mole fraction observation variable with a randomized uncertainty (noise)\n",
    "noise = np.random.normal(2.1e-6, 1.5e-6, len(cbw_subset.value))\n",
    "model = cbw_subset.value + noise\n",
    "\n",
    "## Insert the newly created variable into the ObsPack\n",
    "## (Use the xr.assign() function)\n",
    "cbw_subset = cbw_subset.assign(model=model)\n",
    "cbw_subset"
   ]
  },
  {
   "cell_type": "markdown",
   "id": "985bcfc4-6848-4070-801f-e6ca5690b87a",
   "metadata": {},
   "source": [
    "### Adding the synthetic simulation results to the timeseries"
   ]
  },
  {
   "cell_type": "code",
   "execution_count": null,
   "id": "8b4737a7-3b5a-416c-bfa7-aee1662060b3",
   "metadata": {
    "tags": []
   },
   "outputs": [],
   "source": [
    "## Make a timeseries plot similar to the one before, but now adding the synthetic model results\n",
    "fig, ax = plt.subplots(nrows=1, ncols = 1, figsize=(10,4))\n",
    "ax.grid(zorder=0)\n",
    "plt.plot(cbw_subset.time, cbw_subset.value * 1e6, '-', zorder=2, label = 'Observed CO2 dry mole fraction')\n",
    "plt.plot(cbw_subset.time, cbw_subset.model * 1e6, '-', zorder=2, label = 'Modelled CO2 dry mole fraction')\n",
    "ax.set_title(cbw_subset.site_name)\n",
    "ax.set_ylabel(str(cbw_data.value.standard_name) + ' [ppm]')\n",
    "ax.set_xlabel('time')\n",
    "ax.set_xlim([min(cbw_subset.time),max(cbw_subset.time)])\n",
    "ax.set_ylim([380,460])\n",
    "plt.xticks(rotation = 0)\n",
    "plt.legend()"
   ]
  },
  {
   "cell_type": "markdown",
   "id": "ab412ee6-9bd5-4566-9c8f-679fb1d03fb1",
   "metadata": {},
   "source": [
    "### Plotting a timeseries of the residuals"
   ]
  },
  {
   "cell_type": "code",
   "execution_count": null,
   "id": "dfd24fe6-1465-4e7a-8f27-6c5cb7b7e837",
   "metadata": {
    "tags": []
   },
   "outputs": [],
   "source": [
    "## Make a residual timeseries plot\n",
    "fig, ax = plt.subplots(nrows=1, ncols = 1, figsize=(12,4))\n",
    "ax.grid(zorder=0)\n",
    "plt.plot(cbw_subset.time, (cbw_subset.model - cbw_subset.value) * 1e6, '-', c = 'r', zorder=2, label = 'Model error / residual CO2 mole fraction')\n",
    "ax.set_title(cbw_subset.site_name)\n",
    "ax.set_ylabel(str(cbw_data.value.standard_name) + '\\n residual [ppm]')\n",
    "ax.set_xlabel('time')\n",
    "ax.set_xlim([min(cbw_subset.time),max(cbw_subset.time)])\n",
    "ax.set_ylim([-7.5,7.5])\n",
    "plt.xticks(rotation = 10, fontsize=8)\n",
    "plt.legend()"
   ]
  },
  {
   "cell_type": "code",
   "execution_count": null,
   "id": "c6381e9a-f759-4dad-92e9-4bbb0f79665b",
   "metadata": {
    "tags": []
   },
   "outputs": [],
   "source": [
    "## Calcualte the RMSE between the observed and synthetic CO2 mole fractions\n",
    "MSE = np.square(np.subtract(cbw_subset.value,cbw_subset.model)).mean() \n",
    "MSE_ppm = np.square(np.subtract(cbw_subset.value*1e6,cbw_subset.model*1e6)).mean() \n",
    " \n",
    "RMSE = math.sqrt(MSE)\n",
    "RMSE_ppm = math.sqrt(MSE_ppm)\n",
    "print(\"Root Mean Square Error:\")\n",
    "print(RMSE)\n",
    "\n",
    "print(\"Root Mean Square Error (in ppm):\")\n",
    "print(RMSE_ppm)"
   ]
  },
  {
   "cell_type": "markdown",
   "id": "3f857036-c96e-4a9f-b81d-ac85ce459668",
   "metadata": {},
   "source": [
    "# 2. Access the collection using our python library\n",
    "directly into memory, no need to download. This works external, (on your computer) or after you login to this Jupyter Service from the ICOS Carbon Portal.\n",
    "## Read the collection of ObsPack files\n",
    "Now we proceed to read the collection of ObsPack files directly into memory, you can think of a collection as a zip file, containing many files. **Be aware... there might be a LOT of files**, the following example contains 132 data objects, and loading them all in to memory can make things slow. The ObsPack is published with a DOI [https://doi.org/10.18160/CEC4-CAGK](https://doi.org/10.18160/CEC4-CAGK), that is what we are using to access the data and meta data"
   ]
  },
  {
   "cell_type": "markdown",
   "id": "c5b33d8b-2ba7-40ee-9620-b872999324ff",
   "metadata": {},
   "source": [
    "### Import the ICOS python library"
   ]
  },
  {
   "cell_type": "code",
   "execution_count": null,
   "id": "4e6e6cb9-f4e9-4b71-8e2b-0ec29ac10a3b",
   "metadata": {},
   "outputs": [],
   "source": [
    "# official DOI\n",
    "collection_doi = '10.18160/CEC4-CAGK'\n",
    "\n",
    "# get all datasets in the collection. Returns a list of icoscp.Dobj including meta data about the collection itself.\n",
    "coll = collection.get(collection_doi)"
   ]
  },
  {
   "cell_type": "markdown",
   "id": "e085ec23-63cb-4093-821e-77181884400a",
   "metadata": {},
   "source": [
    "### Display information about the collection"
   ]
  },
  {
   "cell_type": "code",
   "execution_count": null,
   "id": "154331a6-c62d-4d0b-b812-cbb520713c9b",
   "metadata": {},
   "outputs": [],
   "source": [
    "print(coll.title,' \\n') \n",
    "print(coll.description,' \\n') \n",
    "print(coll.citation,' \\n') "
   ]
  },
  {
   "cell_type": "markdown",
   "id": "b14b3348-e683-4ff5-ad86-85eb106265b7",
   "metadata": {},
   "source": [
    "### A list of all the 'files' or data sets inluded\n",
    "We will display on the first 5, but actually there are many more"
   ]
  },
  {
   "cell_type": "code",
   "execution_count": null,
   "id": "a4838337-7dbf-43bf-bcce-5cb29e53e6f8",
   "metadata": {},
   "outputs": [],
   "source": [
    "coll.datalink[0:5]"
   ]
  },
  {
   "cell_type": "code",
   "execution_count": null,
   "id": "e93d8f80-7c78-468d-bfc6-4566436c4e8d",
   "metadata": {},
   "outputs": [],
   "source": [
    "coll.data[0:5]"
   ]
  },
  {
   "cell_type": "markdown",
   "id": "f3399505-9bfd-464c-9fd1-28cdeeeda43e",
   "metadata": {},
   "source": [
    "### Look at a dataset\n",
    "The collection contains already a list of data objects as displayed above. A data object contains meta data about the dataset and allows direct access to the actual measurements\n",
    "Please have a look at the documentation of the 'pylib' for further details on how to work with collections and datasets. For the moment we will just use the .data option which provides a list for all dataobject within the collection. This time we will use plotly to create box plots for all the stations. But before we loop through all the files, we have a look at the first data set file from the collection."
   ]
  },
  {
   "cell_type": "code",
   "execution_count": null,
   "id": "063cf01a-2e06-419b-b819-a4ca33f967b8",
   "metadata": {},
   "outputs": [],
   "source": [
    "# configure all the digital objects, to make sure we have the correct timestamp\n",
    "for do in coll.data:\n",
    "    do.dateTimeConvert = False"
   ]
  },
  {
   "cell_type": "code",
   "execution_count": null,
   "id": "23ea379e-b491-4826-8646-3326d2e415b8",
   "metadata": {},
   "outputs": [],
   "source": [
    "dataset = coll.data[25] # just choosing a random station out of the collection"
   ]
  },
  {
   "cell_type": "code",
   "execution_count": null,
   "id": "e7871b59-a15a-4a81-a217-a7ba4122fbd3",
   "metadata": {},
   "outputs": [],
   "source": [
    "data = dataset.data\n",
    "data.head()"
   ]
  },
  {
   "cell_type": "markdown",
   "id": "dfbdfa22-e3ea-44c0-9d7c-dcae88437203",
   "metadata": {},
   "source": [
    "### Dataframe adjustments\n",
    "To work with the dataset we create a add feature function to add some conveniences:\n",
    "- add a few features (so we can group by month or year\n",
    "- change the index to datetime, makes it much easier to plot time series data\n",
    "- add a column with 'ppm' values\n",
    "\n",
    "and we extract some metadata from the station with the label function\n",
    "- return a string with station id, name, and samplingheigth "
   ]
  },
  {
   "cell_type": "code",
   "execution_count": null,
   "id": "2f65fc8a-11bc-4e45-991e-446de53ccdd1",
   "metadata": {},
   "outputs": [],
   "source": [
    "def data_feature(df):\n",
    "    '''\n",
    "    create a function to set the index to a the timestamp\n",
    "    and add some features for data analysis\n",
    "    '''\n",
    "    # set index to datetime\n",
    "    df.index = pd.to_datetime(df.time)\n",
    "    \n",
    "    # add colums to aggregate on\n",
    "    df['day'] = df.index.day\n",
    "    df['month'] = df.index.month\n",
    "    df['year'] = df.index.year\n",
    "    \n",
    "        # multiply the *value* with 10^6 to disply 'ppm'\n",
    "    df['ppm'] = df.value * 1e6\n",
    "    \n",
    "    return df    "
   ]
  },
  {
   "cell_type": "code",
   "execution_count": null,
   "id": "b0365c53-ee8b-40c9-8158-0127841dc396",
   "metadata": {},
   "outputs": [],
   "source": [
    "data = data_feature(data)\n",
    "data.head()"
   ]
  },
  {
   "cell_type": "markdown",
   "id": "0a145f79-6dd5-4ceb-bf03-92b4e228359d",
   "metadata": {},
   "source": [
    "The following function extracts some station metadata as a string. We will use this later on to group data.<br>"
   ]
  },
  {
   "cell_type": "code",
   "execution_count": null,
   "id": "3552688c-efbd-449d-9459-d40850864604",
   "metadata": {},
   "outputs": [],
   "source": [
    "def label(do):\n",
    "    '''\n",
    "    A function to extract information from the metadata.\n",
    "    A digitial Object (do) includes a very rich set of meta data.\n",
    "    For conveninece we extract some of the informtion to disiplay.\n",
    "    Returns a string , which is added to the data frame for grouping\n",
    "    '''\n",
    "    info ={}\n",
    "    # sampling height\n",
    "    info['sh'] = do.meta['specificInfo']['acquisition']['samplingHeight']\n",
    "    # station id & name\n",
    "    info['id'] = do.meta['specificInfo']['acquisition']['station']['id']\n",
    "    info['name'] = do.meta['specificInfo']['acquisition']['station']['org']['name']\n",
    "    \n",
    "    return f\"{info['id']} {info['name']} {info['sh']} m\""
   ]
  },
  {
   "cell_type": "code",
   "execution_count": null,
   "id": "9672d199-3f4c-457d-9bfb-2876c5870036",
   "metadata": {},
   "outputs": [],
   "source": [
    "# Print the first 20 stations in the collection\n",
    "for do in coll.data[0:20]:\n",
    "    print(label(do))"
   ]
  },
  {
   "cell_type": "markdown",
   "id": "738b6cb5-789e-4b4b-bb6d-356133168fcb",
   "metadata": {},
   "source": [
    "### Simple plot"
   ]
  },
  {
   "cell_type": "code",
   "execution_count": null,
   "id": "bd77444c-556f-48c1-b841-89ba21f92692",
   "metadata": {},
   "outputs": [],
   "source": [
    "fig, ax = plt.subplots(figsize=(10,4))\n",
    "ax.grid(color='grey', linestyle='--', linewidth=0.5)\n",
    "ax.set_title('Station: ' + str(dataset.station['location']))\n",
    "ax.scatter(data.time, data.value, s=0.5) # s = size of marker\n",
    "fig.show()"
   ]
  },
  {
   "cell_type": "markdown",
   "id": "74d153ff-819f-4354-9161-184b78c0fd2c",
   "metadata": {},
   "source": [
    "### Aggreate data plot"
   ]
  },
  {
   "cell_type": "code",
   "execution_count": null,
   "id": "95cb8c8b-9a3f-476e-b08e-501f7167faa1",
   "metadata": {},
   "outputs": [],
   "source": [
    "# create a plot with running average and aggreate by month\n",
    "fig, (ax1, ax2) = plt.subplots(1, 2, figsize=(13, 4))\n",
    "fig.suptitle('Station: ' + str(dataset.station['location'])+ '\\n', fontsize=12)\n",
    "\n",
    "# a smothed average by year, makes a trend clearly visible\n",
    "data.ewm(span = 3600).mean().plot(y='ppm', grid=True, ax=ax1)\n",
    "ax1.set_title('values by year')\n",
    "ax1.grid(color='grey', linestyle='--', linewidth=0.5)\n",
    "\n",
    "# aggregate by month, to show seasonality\n",
    "data.groupby(['month'], sort=False, group_keys=False ).mean().sort_index().plot(y='ppm',grid=True, ax=ax2)\n",
    "ax2.set_title('aggregate by month')\n",
    "ax2.grid(color='grey', linestyle='--', linewidth=0.5)\n",
    "\n",
    "fig.show()"
   ]
  },
  {
   "cell_type": "markdown",
   "id": "2010224a-c1c2-41a8-8e74-280b9144faf0",
   "metadata": {},
   "source": [
    "### Boxplot"
   ]
  },
  {
   "cell_type": "code",
   "execution_count": null,
   "id": "61d24d3f-297c-4540-a168-355535c58b57",
   "metadata": {},
   "outputs": [],
   "source": [
    "# create a more fancy plot with seaborn\n",
    "\n",
    "fig, (ax1, ax2) = plt.subplots(1, 2, figsize=(13, 4))\n",
    "fig.suptitle('Station: ' + str(dataset.station['location'])+ '\\n', fontsize=12)\n",
    "sns.boxplot(data=data, x='year', y='ppm', palette='Blues', ax=ax1)\n",
    "ax1.set_title('values by year')\n",
    "ax1.grid(color='grey', linestyle='--', linewidth=0.5)\n",
    "ax1.set_xticklabels(ax1.get_xticklabels(),rotation=45)\n",
    "\n",
    "sns.violinplot(data=data, x='month', y='ppm', palette='Blues', ax=ax2)\n",
    "ax2.set_title('aggregate by month')\n",
    "ax2.grid(color='grey', linestyle='--', linewidth=0.5)\n",
    "\n",
    "fig.show()"
   ]
  },
  {
   "cell_type": "markdown",
   "id": "4858e93c-34ea-4646-9a91-a3c12ac45f3a",
   "metadata": {},
   "source": [
    "### Loop through the collection\n",
    "\n",
    "Since we now have a better understanding of the underlying data, we can plot many datasets side by side to compare.<br>\n",
    "We demonstrate a simple filter implententation for country and/or station id. If you want to have all (countries or stations) set the filter to an empty list.<br>\n",
    "The following example finds all stations from Switzerland plus adding the 'Schauinsland' station from Germany and 'Weybourne' from Great Brittain."
   ]
  },
  {
   "cell_type": "code",
   "execution_count": null,
   "id": "22251ed9-334d-4342-9ecb-860a67647769",
   "metadata": {},
   "outputs": [],
   "source": [
    "# filter by country, you can add multiple countries as filter, or leave empty for all\n",
    "country = ['CH']\n",
    "\n",
    "# filter by station id, you can add multiple stations as filter, or leave empty for all\n",
    "stationid = ['SSL', 'WAO']\n",
    "\n",
    "# create a plot with running average and aggreate by month\n",
    "fig, (ax1, ax2) = plt.subplots(1, 2, figsize=(13, 4))\n",
    "fig.suptitle('Aggregate data', fontsize=12)\n",
    "\n",
    "ax1.set_title('moving average')\n",
    "ax1.grid(color='grey', linestyle='--', linewidth=0.5)\n",
    "\n",
    "\n",
    "ax2.set_title('aggregate by month')\n",
    "ax2.grid(color='grey', linestyle='--', linewidth=0.5)\n",
    "\n",
    "\n",
    "for do in tqdm(coll.data):\n",
    "    # filter by station and cound\n",
    "    if (do.station['specificInfo']['countryCode'] not in country) and (do.station['id'] not in stationid):\n",
    "        continue \n",
    "        \n",
    "    # plot\n",
    "    data = data_feature(do.data)\n",
    "    data.ewm(span = 3600).mean().plot(y='ppm', grid=True, ax=ax1, label=f\"{do.station['id']}\")\n",
    "    data = data.groupby(['month'], sort=False, group_keys=False ).mean().sort_index()\n",
    "    data.plot(y='ppm',grid=True, ax=ax2, label=do.station['id'],marker='o', linestyle='dashed')\n",
    "    \n",
    "plt.show()\n",
    "    "
   ]
  },
  {
   "cell_type": "markdown",
   "id": "7647615c-504b-4e8e-9380-243e7b6d790b",
   "metadata": {},
   "source": [
    "### BoxPlot many stations"
   ]
  },
  {
   "cell_type": "code",
   "execution_count": null,
   "id": "611dc9f5-6eba-4838-9036-74e26dc7689f",
   "metadata": {},
   "outputs": [],
   "source": [
    "def label(do):\n",
    "    '''\n",
    "    A function to extract information from the metadata.\n",
    "    A digitial Object (do) includes a very rich set of meta data.\n",
    "    For conveninece we extract some of the informtion to disiplay.\n",
    "    Returns a string , which is added to the data frame for grouping\n",
    "    '''\n",
    "    info ={}\n",
    "    # sampling height\n",
    "    info['sh'] = do.meta['specificInfo']['acquisition']['samplingHeight']\n",
    "    # station id & name\n",
    "    info['id'] = do.meta['specificInfo']['acquisition']['station']['id']\n",
    "    info['name'] = do.meta['specificInfo']['acquisition']['station']['org']['name']\n",
    "    \n",
    "    return f\"{info['id']} {info['name']} {info['sh']} m\"\n",
    "    "
   ]
  },
  {
   "cell_type": "code",
   "execution_count": null,
   "id": "052a4513-7d0d-413c-84da-e5e1de613032",
   "metadata": {},
   "outputs": [],
   "source": [
    "# filter by country, you can add multiple countries as filter, or leave empty for all\n",
    "country = ['CH']\n",
    "\n",
    "# filter by station id, you can add multiple stations as filter, or leave empty for all\n",
    "stationid = ['SSL', 'WAO']\n",
    "\n",
    "# depending on how many stations you want to display, \n",
    "# you probably want to adjust the figure and font size\n",
    "# for all 132 stations you can try the following values\n",
    "#figuresize = [10,24] \n",
    "#fontsize = 9\n",
    "\n",
    "figuresize = [8,8] \n",
    "fontsize = 12\n",
    "\n",
    "# Initialize the figure\n",
    "f, ax = plt.subplots(figsize=figuresize)\n",
    "frames= []\n",
    "\n",
    "#------------------------------------\n",
    "for do in tqdm(coll.data):\n",
    "    \n",
    "    # filter by station and cound\n",
    "    if (do.station['specificInfo']['countryCode'] not in country) and (do.station['id'] not in stationid):\n",
    "        continue        \n",
    "    \n",
    "    # add features, like day, month, ppm for ease of use\n",
    "    data = data_feature(do.data)\n",
    "    # add some feature from the metatdata of the objec\n",
    "    data['label'] = label(do)\n",
    "    frames.append(data)\n",
    "   \n",
    "if(frames):\n",
    "    result = pd.concat(frames)\n",
    "    result.boxplot('ppm',by='label',vert=False, ax=ax, fontsize=fontsize,flierprops={'marker': '.'},patch_artist = True)\n",
    "\n",
    "    f.suptitle('ObsPack CO2 mole fraction observations')\n",
    "    ax.set_xlabel('ppm')\n",
    "    plt.show()\n",
    "else:\n",
    "    print('no results')\n",
    "    f.clear()\n",
    "    ax.clear"
   ]
  },
  {
   "cell_type": "code",
   "execution_count": null,
   "id": "5db06127-d8db-4e79-9279-63fd755c21d9",
   "metadata": {},
   "outputs": [],
   "source": []
  }
 ],
 "metadata": {
  "kernelspec": {
   "display_name": "Python 3 (ipykernel)",
   "language": "python",
   "name": "python3"
  },
  "language_info": {
   "codemirror_mode": {
    "name": "ipython",
    "version": 3
   },
   "file_extension": ".py",
   "mimetype": "text/x-python",
   "name": "python",
   "nbconvert_exporter": "python",
   "pygments_lexer": "ipython3",
   "version": "3.10.6"
  },
  "widgets": {
   "application/vnd.jupyter.widget-state+json": {
    "state": {},
    "version_major": 2,
    "version_minor": 0
   }
  }
 },
 "nbformat": 4,
 "nbformat_minor": 5
}
