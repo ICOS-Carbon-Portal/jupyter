{
 "cells": [
  {
   "cell_type": "markdown",
   "metadata": {},
   "source": [
    "<img src='https://www.icos-cp.eu/sites/default/files/2017-11/ICOS_CP_logo.png' width=400 align=right>\n",
    "\n",
    "# ICOS Carbon Portal Python Libraries\n",
    "\n",
    "This example uses a foundational library called `icoscp_core` which can be used to access time-series ICOS data that are <i>previewable</i> in the ICOS Data Portal. \"Previewable\" means that it is possible to visualize the data variables in the preview plot. The library can also be used to access (meta-)data from [ICOS Cities](https://citydata.icos-cp.eu/portal/) and [SITES](https://data.fieldsites.se/portal/) data repositories. \n",
    "\n",
    "General information on all ICOS Carbon Portal Python libraries can be found on our [help pages](https://icos-carbon-portal.github.io/pylib/). \n",
    "\n",
    "Documentation of the `icoscp_core` library, including information on running it locally, can also be found on [PyPI.org](https://pypi.org/project/icoscp_core/).\n",
    "\n",
    "Note that for running this example locally, authentication is required (see the `how_to_authenticate.ipynb` notebook).\n"
   ]
  },
  {
   "cell_type": "markdown",
   "metadata": {},
   "source": [
    "\n",
    "# Example: Access collection data and meta data"
   ]
  },
  {
   "cell_type": "markdown",
   "metadata": {},
   "source": [
    "## Import the library"
   ]
  },
  {
   "cell_type": "code",
   "execution_count": null,
   "metadata": {},
   "outputs": [],
   "source": [
    "from icoscp_core.icos import meta\n",
    "\n",
    "# bokeh for plotting the data\n",
    "from bokeh.plotting import figure, show\n",
    "from bokeh.layouts import gridplot, column, row\n",
    "from bokeh.io import output_notebook\n",
    "from bokeh.models import Div\n",
    "output_notebook()"
   ]
  },
  {
   "cell_type": "markdown",
   "metadata": {},
   "source": [
    "## Read collection metadata\n",
    "\n",
    "### Resolve a DOI\n",
    "This step can be skipped if the collection landing page URI is known"
   ]
  },
  {
   "cell_type": "code",
   "execution_count": null,
   "metadata": {},
   "outputs": [],
   "source": [
    "import requests\n",
    "doi = \"10.18160/VXCS-95EV\"\n",
    "coll_uri = requests.head(f\"https://doi.org/{doi}\").headers.get('Location')\n",
    "coll_uri"
   ]
  },
  {
   "cell_type": "markdown",
   "metadata": {},
   "source": [
    "### Read the metadata"
   ]
  },
  {
   "cell_type": "code",
   "execution_count": null,
   "metadata": {},
   "outputs": [],
   "source": [
    "coll = meta.get_collection_meta(coll_uri)\n",
    "coll.title"
   ]
  },
  {
   "cell_type": "markdown",
   "metadata": {},
   "source": [
    "### Fast-forward to the latest version if a later version exists\n",
    "This step is also optional, should only be used if the code should find the latest version of the collection"
   ]
  },
  {
   "cell_type": "code",
   "execution_count": null,
   "metadata": {},
   "outputs": [],
   "source": [
    "if coll.latestVersion != coll_uri:\n",
    "    coll = meta.get_collection_meta(coll.latestVersion)\n",
    "coll.title"
   ]
  },
  {
   "cell_type": "markdown",
   "metadata": {},
   "source": [
    "## Collection metadata overview\n",
    "\n",
    "Available (nested) metadata properties can be discovered with Tab-completion after \".\"\n",
    "\n",
    "For a more principled discovery of the metadata properties, one can examine Python documentation for respective types as follows."
   ]
  },
  {
   "cell_type": "code",
   "execution_count": null,
   "metadata": {
    "tags": []
   },
   "outputs": [],
   "source": [
    "from icoscp_core import metacore\n",
    "help(metacore.StaticCollection)\n",
    "#metacore.StaticDataItem # is a union type to represent collection members (objects and other collections)\n",
    "#help(metacore.PlainStaticObject)\n",
    "#metacore.Sha256Sum # is an alias for str\n",
    "#metacore.URI # is an alias for str"
   ]
  },
  {
   "cell_type": "markdown",
   "metadata": {},
   "source": [
    "### Citation"
   ]
  },
  {
   "cell_type": "code",
   "execution_count": null,
   "metadata": {},
   "outputs": [],
   "source": [
    "coll.references.citationString"
   ]
  },
  {
   "cell_type": "code",
   "execution_count": null,
   "metadata": {},
   "outputs": [],
   "source": [
    "coll.references.citationBibTex"
   ]
  },
  {
   "cell_type": "markdown",
   "metadata": {},
   "source": [
    "### Collection description"
   ]
  },
  {
   "cell_type": "code",
   "execution_count": null,
   "metadata": {},
   "outputs": [],
   "source": [
    "coll.description"
   ]
  },
  {
   "cell_type": "markdown",
   "metadata": {},
   "source": [
    "### List collection members"
   ]
  },
  {
   "cell_type": "code",
   "execution_count": null,
   "metadata": {},
   "outputs": [],
   "source": [
    "coll.members[:4]"
   ]
  },
  {
   "cell_type": "markdown",
   "metadata": {},
   "source": [
    "### Group the collection members by station and data type\n",
    "\n",
    "This is a rather fragile code, fully relying on file naming conventions used by the Atmosphere Thematic Center.\n",
    "An alternative is to perform a batch lookup of data-type- and station URIs for each of the objects in the collection,\n",
    "which at the time of this writing requires a custom SPARQL query.\n",
    "It should also be noted that the following grouping is done only to match the design of this example. In many practical situations\n",
    "one would want to work with uniform lists of data objects of a certain data type, rather than with a handful different types of objects."
   ]
  },
  {
   "cell_type": "code",
   "execution_count": null,
   "metadata": {},
   "outputs": [],
   "source": [
    "from icoscp_core.metacore import PlainStaticObject\n",
    "\n",
    "# extract short label for the data type from the file name\n",
    "def data_type(pso):\n",
    "    # filename segment after last underscore, minus the file extension\n",
    "    return pso.name.split('_')[-1][:-4]\n",
    "\n",
    "# extract station id from the file name\n",
    "def station_id(pso):\n",
    "    return pso.name.split('_')[4]\n",
    "\n",
    "# generic function to group Python lists by a key function into dictionaries with lists as values\n",
    "def groupby(elem_list, key_func):\n",
    "    res = {}\n",
    "    for elem in elem_list:\n",
    "        res.setdefault(key_func(elem), []).append(elem)\n",
    "    return res\n",
    "\n",
    "# helper function to group PlainStaticObject list by data type, and take the last\n",
    "# data object landing page URI from each group\n",
    "def by_datatype(memb_list):\n",
    "    return {\n",
    "        key: group[-1].res\n",
    "        for key, group in groupby(memb_list, data_type).items()\n",
    "    }\n",
    "\n",
    "# use only plain data object members, ignore subcollections, if any\n",
    "plain_obj_members = [memb for memb in coll.members if isinstance(memb, PlainStaticObject)]\n",
    "\n",
    "# commence the grouping\n",
    "by_station = groupby(plain_obj_members, station_id)\n",
    "by_station_and_type = {station: by_datatype(group) for station, group in by_station.items()}\n",
    "\n",
    "# show part of the resulting dictionary of dictionaries\n",
    "dict(list(by_station_and_type.items())[:3])"
   ]
  },
  {
   "cell_type": "markdown",
   "metadata": {},
   "source": [
    "## Linked plot for CO2, CH4, N2O and CO \n",
    "Let's create a plot to compare some of the data provided by the collection. The plot is interactive (the toolbar is on the top right) and the x-axes are linked. So, if you zoom in in one plot, all three plots are zoomed. As a title we use meta data provided from the collection."
   ]
  },
  {
   "cell_type": "code",
   "execution_count": null,
   "metadata": {},
   "outputs": [],
   "source": [
    "from icoscp_core.icos import data\n",
    "\n",
    "chosen_station = 'CBW' # choose Cabaw\n",
    "by_type = by_station_and_type.get(chosen_station)\n",
    "\n",
    "def make_subplot(data_type_label):\n",
    "    dobj_uri = by_type.get(data_type_label)\n",
    "    d_meta = meta.get_dobj_meta(dobj_uri)\n",
    "    d_data = data.get_columns_as_arrays(d_meta)\n",
    "\n",
    "    var_name = data_type_label.lower()\n",
    "    var_arr = d_data.get(var_name)\n",
    "    time_arr = d_data.get('TIMESTAMP')\n",
    "\n",
    "    columns_meta = d_meta.specificInfo.columns\n",
    "    unit = [col for col in columns_meta if col.label==var_name][0].valueType.unit\n",
    "\n",
    "    subplot = figure(plot_width=300, plot_height=300, title=data_type_label, x_axis_type=\"datetime\",y_axis_label=unit)\n",
    "    subplot.circle(time_arr, var_arr, size=1, color=\"navy\", alpha=0.3)\n",
    "    return subplot\n",
    "    \n",
    "p = gridplot([[\n",
    "    make_subplot('CO2'),\n",
    "    make_subplot('CH4'),\n",
    "    make_subplot('N2O'),\n",
    "    make_subplot('CO')\n",
    "]])\n",
    "    \n",
    "# show the results\n",
    "show(column(Div(text=\"<h2>\" + coll.title+ \"</h2><br>\" + coll.description + \"<br>\" + coll.references.citationString),p))"
   ]
  }
 ],
 "metadata": {
  "kernelspec": {
   "display_name": "Python 3 (ipykernel)",
   "language": "python",
   "name": "python3"
  },
  "language_info": {
   "codemirror_mode": {
    "name": "ipython",
    "version": 3
   },
   "file_extension": ".py",
   "mimetype": "text/x-python",
   "name": "python",
   "nbconvert_exporter": "python",
   "pygments_lexer": "ipython3",
   "version": "3.10.6"
  },
  "toc": {
   "base_numbering": 1,
   "nav_menu": {},
   "number_sections": false,
   "sideBar": true,
   "skip_h1_title": false,
   "title_cell": "Table of Contents",
   "title_sidebar": "Contents",
   "toc_cell": false,
   "toc_position": {},
   "toc_section_display": true,
   "toc_window_display": true
  }
 },
 "nbformat": 4,
 "nbformat_minor": 4
}
