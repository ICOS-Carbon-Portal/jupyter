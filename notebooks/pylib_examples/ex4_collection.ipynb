{
 "cells": [
  {
   "cell_type": "markdown",
   "metadata": {},
   "source": [
    "<img src='https://www.icos-cp.eu/sites/default/files/2017-11/ICOS_CP_logo.png' width=400 align=right>\n",
    "\n",
    "# ICOS Carbon Portal Python Library<br>\n",
    "\n",
    "# Example: Access data and meta data"
   ]
  },
  {
   "cell_type": "markdown",
   "metadata": {},
   "source": [
    "## Documentation\n",
    "\n",
    "Full documentation for the library on the [project page](https://icos-carbon-portal.github.io/pylib/), how to install and wheel on [pypi.org](https://pypi.org/project/icoscp/), source available on [github](https://github.com/ICOS-Carbon-Portal/pylib)\n"
   ]
  },
  {
   "cell_type": "markdown",
   "metadata": {},
   "source": [
    "## Import the library"
   ]
  },
  {
   "cell_type": "code",
   "execution_count": null,
   "metadata": {
    "scrolled": false
   },
   "outputs": [],
   "source": [
    "#icos library for collection\n",
    "from icoscp.collection import collection\n",
    "\n",
    "# bokeh for plotting the data\n",
    "from bokeh.plotting import figure, show\n",
    "from bokeh.layouts import gridplot, column, row\n",
    "from bokeh.io import output_notebook\n",
    "from bokeh.models import Div\n",
    "output_notebook()"
   ]
  },
  {
   "cell_type": "markdown",
   "metadata": {},
   "source": [
    "## Get a list of all collections available \n",
    "\n",
    "Please pay close attention to the 'count' column. This is the amount of data files included in the collection. <br>We have collections with a LOT of files...."
   ]
  },
  {
   "cell_type": "code",
   "execution_count": null,
   "metadata": {
    "scrolled": false
   },
   "outputs": [],
   "source": [
    "cl = collection.getIdList()\n",
    "cl"
   ]
  },
  {
   "cell_type": "markdown",
   "metadata": {},
   "source": [
    "## Create a collection object\n",
    "To extract all metadata and data objects for the collection, you may provide <br>\n",
    "either the DOI, or the collection uri. For collection from the table above with index 0<br>\n",
    "you can use \n",
    "- collection.get('https://meta.icos-cp.eu/collections/WM5ShdLFqPSI0coyVa57G1_Z')\n",
    "- collection.get('10.18160/P7E9-EKEA')"
   ]
  },
  {
   "cell_type": "code",
   "execution_count": null,
   "metadata": {
    "scrolled": false
   },
   "outputs": [],
   "source": [
    "coll = collection.get('10.18160/KCYX-HA35')"
   ]
  },
  {
   "cell_type": "markdown",
   "metadata": {},
   "source": [
    "## Collection overview\n",
    "\n",
    "An overview for the collection is available with coll.info().<br>\n",
    "More attributes are available [data, datalink, getCitation()], check it out in the [documentation](https://icos-carbon-portal.github.io/pylib/modules#collection)."
   ]
  },
  {
   "cell_type": "code",
   "execution_count": null,
   "metadata": {
    "scrolled": false
   },
   "outputs": [],
   "source": [
    "# by default returns a dict, but you can get html or a pandas data frame with coll.info('html'), coll.info('pandas')\n",
    "coll.info(fmt='pandas')"
   ]
  },
  {
   "cell_type": "markdown",
   "metadata": {},
   "source": [
    "## List data objects\n",
    "List all data objects for this collection, the value (PID) is a valid link to a landing page at the ICOS Carbon Portal. <br>\n",
    "This pid can be used to access the data. But please see the convenience method below (.data) which does the job for you."
   ]
  },
  {
   "cell_type": "code",
   "execution_count": null,
   "metadata": {
    "scrolled": false
   },
   "outputs": [],
   "source": [
    "coll.datalink"
   ]
  },
  {
   "cell_type": "markdown",
   "metadata": {},
   "source": [
    "## Get the data objects\n",
    "This is a list of data objects as described in example 1."
   ]
  },
  {
   "cell_type": "code",
   "execution_count": null,
   "metadata": {
    "scrolled": false
   },
   "outputs": [],
   "source": [
    "coll.data"
   ]
  },
  {
   "cell_type": "code",
   "execution_count": null,
   "metadata": {
    "scrolled": false
   },
   "outputs": [],
   "source": [
    "coll.data[3].citation"
   ]
  },
  {
   "cell_type": "code",
   "execution_count": null,
   "metadata": {
    "scrolled": false
   },
   "outputs": [],
   "source": [
    "coll.data[3].colNames"
   ]
  },
  {
   "cell_type": "markdown",
   "metadata": {},
   "source": [
    "## Linked plot for CO2, CH4, N2O and CO \n",
    "Lets create a plot to compare some of the data provided by the collection. The plot is interactive (the toolbar is on the top right) and the x-axes are linked. So if you zoom in in one plot, all three plots are zoomed. As a title we use meta data provided from the collection"
   ]
  },
  {
   "cell_type": "code",
   "execution_count": null,
   "metadata": {
    "scrolled": false
   },
   "outputs": [],
   "source": [
    "## Dataframes and corresponding units\n",
    "df_co2 = coll.data[148].data\n",
    "unit_co2 = coll.data[148].variables[coll.data[148].variables.name=='co2'].unit.values[0]\n",
    "df_ch4 = coll.data[147].data\n",
    "unit_ch4 = coll.data[147].variables[coll.data[147].variables.name=='ch4'].unit.values[0]\n",
    "df_co = coll.data[149].data\n",
    "unit_co = coll.data[149].variables[coll.data[149].variables.name=='co'].unit.values[0]\n",
    "df_n2o = coll.data[154].data\n",
    "unit_n2o = coll.data[154].variables[coll.data[154].variables.name=='n2o'].unit.values[0]\n",
    "\n",
    "# subplots\n",
    "sp_co2 = figure(plot_width=350, plot_height=300, title='CO2', x_axis_type='datetime',y_axis_label=unit_co2)\n",
    "sp_co2.circle(df_co2.TIMESTAMP, df_co2.co2, size=1, color=\"navy\", alpha=0.3)\n",
    "sp_ch4 = figure(plot_width=300, plot_height=300, title='CH4', x_axis_type='datetime',x_range=sp_co2.x_range,y_axis_label=unit_ch4)\n",
    "sp_ch4.circle(df_ch4.TIMESTAMP, df_ch4.ch4, size=1, color=\"navy\", alpha=0.3)\n",
    "sp_n2o = figure(plot_width=300, plot_height=300, title='N2O', x_axis_type='datetime',x_range=sp_co2.x_range,y_axis_label=unit_n2o)\n",
    "sp_n2o.circle(df_n2o.TIMESTAMP, df_n2o.n2o, size=1, color=\"navy\", alpha=0.3)\n",
    "sp_co = figure(plot_width=300, plot_height=300, title='CO', x_axis_type='datetime',x_range=sp_co2.x_range,y_axis_label=unit_co)\n",
    "sp_co.circle(df_co.TIMESTAMP, df_co.co, size=1, color=\"navy\", alpha=0.3)\n",
    "    \n",
    "p = gridplot([[sp_co2, sp_ch4, sp_n2o, sp_co]])\n",
    "    \n",
    "# show the results\n",
    "show(column(Div(text='<h2>'+coll.title+'</h2><br>'+coll.description+'<br>'+coll.citation),p))"
   ]
  }
 ],
 "metadata": {
  "kernelspec": {
   "display_name": "Python 3 (ipykernel)",
   "language": "python",
   "name": "python3"
  },
  "language_info": {
   "codemirror_mode": {
    "name": "ipython",
    "version": 3
   },
   "file_extension": ".py",
   "mimetype": "text/x-python",
   "name": "python",
   "nbconvert_exporter": "python",
   "pygments_lexer": "ipython3",
   "version": "3.10.6"
  },
  "toc": {
   "base_numbering": 1,
   "nav_menu": {},
   "number_sections": false,
   "sideBar": true,
   "skip_h1_title": false,
   "title_cell": "Table of Contents",
   "title_sidebar": "Contents",
   "toc_cell": false,
   "toc_position": {},
   "toc_section_display": true,
   "toc_window_display": true
  }
 },
 "nbformat": 4,
 "nbformat_minor": 4
}
