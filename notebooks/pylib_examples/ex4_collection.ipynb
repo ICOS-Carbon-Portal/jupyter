{
 "cells": [
  {
   "cell_type": "markdown",
   "metadata": {},
   "source": [
    "<img src='https://www.icos-cp.eu/sites/default/files/2017-11/ICOS_CP_logo.png' width=400 align=right>\n",
    "\n",
    "# ICOS Carbon Portal Python Library<br>\n",
    "\n",
    "# Example: Access data and meta data"
   ]
  },
  {
   "cell_type": "markdown",
   "metadata": {},
   "source": [
    "## Documentation\n",
    "\n",
    "Full documentation for the library on the [project page](https://icos-carbon-portal.github.io/pylib/), how to install and wheel on [pypi.org](https://pypi.org/project/icoscp/), source available on [github](https://github.com/ICOS-Carbon-Portal/pylib)\n"
   ]
  },
  {
   "cell_type": "markdown",
   "metadata": {},
   "source": [
    "## Import the library"
   ]
  },
  {
   "cell_type": "code",
   "execution_count": null,
   "metadata": {},
   "outputs": [],
   "source": [
    "#icos library for collection\n",
    "from icoscp.collection import collection\n",
    "\n",
    "# bokeh for plotting the data\n",
    "from bokeh.plotting import figure, show\n",
    "from bokeh.layouts import gridplot, column, row\n",
    "from bokeh.io import output_notebook\n",
    "from bokeh.models import Div\n",
    "output_notebook()"
   ]
  },
  {
   "cell_type": "markdown",
   "metadata": {},
   "source": [
    "## Get a list of all collections available \n",
    "\n",
    "Please pay close attention to the 'count' column. This is the amount of data files included in the collection. <br>We have collections with a LOT of files...."
   ]
  },
  {
   "cell_type": "code",
   "execution_count": null,
   "metadata": {},
   "outputs": [],
   "source": [
    "cl = collection.getIdList()\n",
    "cl"
   ]
  },
  {
   "cell_type": "markdown",
   "metadata": {},
   "source": [
    "## Create a collection object\n",
    "To extract all metadata and data objects for the collection, you may provide <br>\n",
    "either the DOI, or the collection uri. For collection from the table above with index 0<br>\n",
    "you can use \n",
    "- collection.get('https://meta.icos-cp.eu/collections/WM5ShdLFqPSI0coyVa57G1_Z')\n",
    "- collection.get('10.18160/P7E9-EKEA')"
   ]
  },
  {
   "cell_type": "code",
   "execution_count": null,
   "metadata": {},
   "outputs": [],
   "source": [
    "coll = collection.get('10.18160/TCCX-HYPU')\n"
   ]
  },
  {
   "cell_type": "markdown",
   "metadata": {},
   "source": [
    "## Collection overview\n",
    "\n",
    "An overview for the collection is available with coll.info().<br>\n",
    "More attributes are available [data, datalink, getCitation()], check it out in the [documentation](https://icos-carbon-portal.github.io/pylib/modules#collection)."
   ]
  },
  {
   "cell_type": "code",
   "execution_count": null,
   "metadata": {},
   "outputs": [],
   "source": [
    "# by default returns a dict, but you can get html or a pandas data frame with coll.info('html'), coll.info('pandas')\n",
    "coll.info(fmt='pandas')"
   ]
  },
  {
   "cell_type": "markdown",
   "metadata": {},
   "source": [
    "## List data objects\n",
    "List all data objects for this collection, the value (PID) is a valid link to a landing page at the ICOS Carbon Portal. <br>\n",
    "This pid can be used to access the data. But please see the convenience method below (.data) which does the job for you."
   ]
  },
  {
   "cell_type": "code",
   "execution_count": null,
   "metadata": {},
   "outputs": [],
   "source": [
    "coll.datalink"
   ]
  },
  {
   "cell_type": "markdown",
   "metadata": {},
   "source": [
    "## Get the data objects\n",
    "This is a list of data objects as described in example 1."
   ]
  },
  {
   "cell_type": "code",
   "execution_count": null,
   "metadata": {},
   "outputs": [],
   "source": [
    "coll.data"
   ]
  },
  {
   "cell_type": "code",
   "execution_count": null,
   "metadata": {},
   "outputs": [],
   "source": [
    "coll.data[3].citation"
   ]
  },
  {
   "cell_type": "code",
   "execution_count": null,
   "metadata": {},
   "outputs": [],
   "source": [
    "coll.data[3].colNames"
   ]
  },
  {
   "cell_type": "markdown",
   "metadata": {},
   "source": [
    "## Linked plot for CO2, CO, CH4\n",
    "Lets create a plot to compare CO, CO2, and CH4, data provided by the collection. The plot is interactive (the toolbar is on the top right) and the x-axes are linked. So if you zoom in in one plot, all three plots are zoomed. As a title we use meta data provided from the collection"
   ]
  },
  {
   "cell_type": "code",
   "execution_count": null,
   "metadata": {},
   "outputs": [],
   "source": [
    "# create subplots\n",
    "\n",
    "s1 = figure(plot_width=350, plot_height=300, title='CH4', x_axis_type='datetime',y_axis_label='nmol mol-1')\n",
    "s1.circle(coll.data[1].data.TIMESTAMP, coll.data[1].data.ch4, size=1, color=\"navy\", alpha=0.3)\n",
    "\n",
    "s2 = figure(plot_width=300, plot_height=300, title='CO', x_axis_type='datetime',x_range=s1.x_range,y_axis_label='nmol mol-1')\n",
    "s2.circle(coll.data[2].data.TIMESTAMP, coll.data[2].data.co, size=1, color=\"navy\", alpha=0.3)\n",
    "\n",
    "s3 = figure(plot_width=300, plot_height=300, title='CO2', x_axis_type='datetime',x_range=s1.x_range,y_axis_label='umol mol-1')\n",
    "s3.circle(coll.data[3].data.TIMESTAMP, coll.data[3].data.co2, size=1, color=\"navy\", alpha=0.3)\n",
    "\n",
    "p = gridplot([[s1, s2, s3]])\n",
    "\n",
    "# show the results\n",
    "\n",
    "show(column(Div(text='<h2>'+coll.title+'</h2><br>'+coll.description+'<br>'+coll.citation),p))"
   ]
  },
  {
   "cell_type": "code",
   "execution_count": null,
   "metadata": {},
   "outputs": [],
   "source": []
  }
 ],
 "metadata": {
  "kernelspec": {
   "display_name": "Python 3 (ipykernel)",
   "language": "python",
   "name": "python3"
  },
  "language_info": {
   "codemirror_mode": {
    "name": "ipython",
    "version": 3
   },
   "file_extension": ".py",
   "mimetype": "text/x-python",
   "name": "python",
   "nbconvert_exporter": "python",
   "pygments_lexer": "ipython3",
   "version": "3.8.5"
  },
  "toc": {
   "base_numbering": 1,
   "nav_menu": {},
   "number_sections": false,
   "sideBar": true,
   "skip_h1_title": false,
   "title_cell": "Table of Contents",
   "title_sidebar": "Contents",
   "toc_cell": false,
   "toc_position": {},
   "toc_section_display": true,
   "toc_window_display": true
  }
 },
 "nbformat": 4,
 "nbformat_minor": 4
}