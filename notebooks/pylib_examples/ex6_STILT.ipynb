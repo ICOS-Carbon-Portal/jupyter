{
 "cells": [
  {
   "cell_type": "markdown",
   "id": "floppy-prescription",
   "metadata": {},
   "source": [
    "<img src='https://www.icos-cp.eu/sites/default/files/2017-11/ICOS_CP_logo.png' width=400 align=right>\n",
    "\n",
    "# ICOS Carbon Portal Python Library\n",
    "## Example: STILT\n",
    "\n",
    "This example is showcasing how to **search** for STILT stations"
   ]
  },
  {
   "cell_type": "markdown",
   "id": "applicable-pipeline",
   "metadata": {},
   "source": [
    "## Documentation\n",
    "Full documentation for the library on the [project page](https://icos-carbon-portal.github.io/pylib/), how to install and wheel on [pypi.org](https://pypi.org/project/icoscp/\"), source is available on [github](https://github.com/ICOS-Carbon-Portal/pylib)"
   ]
  },
  {
   "cell_type": "markdown",
   "id": "perfect-asset",
   "metadata": {},
   "source": [
    "## Load the library"
   ]
  },
  {
   "cell_type": "code",
   "execution_count": 1,
   "id": "opened-study",
   "metadata": {},
   "outputs": [],
   "source": [
    "from icoscp.stilt import station"
   ]
  },
  {
   "cell_type": "code",
   "execution_count": 2,
   "id": "rubber-transformation",
   "metadata": {},
   "outputs": [],
   "source": [
    "# create a simple function to prit the Station name\n",
    "def stprint(stations):\n",
    "    if not 'empty' in stations.keys():\n",
    "        for s in stations.keys():\n",
    "            print(stations[s]['id'],stations[s]['name'])\n",
    "    else:\n",
    "        print(stations)"
   ]
  },
  {
   "cell_type": "markdown",
   "id": "caroline-distribution",
   "metadata": {},
   "source": [
    "## Help"
   ]
  },
  {
   "cell_type": "code",
   "execution_count": 3,
   "id": "parliamentary-observation",
   "metadata": {},
   "outputs": [
    {
     "name": "stdout",
     "output_type": "stream",
     "text": [
      "Help on module icoscp.stilt.station in icoscp.stilt:\n",
      "\n",
      "NAME\n",
      "    icoscp.stilt.station\n",
      "\n",
      "DESCRIPTION\n",
      "    Extract all STILT stations from the ICOS Carbon Portal Server\n",
      "    The main function is station.get() to filter and search. See\n",
      "    Description of keyword arguments.\n",
      "\n",
      "FUNCTIONS\n",
      "    find(**kwargs)\n",
      "        Return a list of stilt stations. Providing no keyword arguments will\n",
      "        return a complete list of all stations. You can filter the result by\n",
      "        by providing the following keywords:\n",
      "        \n",
      "        \n",
      "        Parameters\n",
      "        ----------\n",
      "        \n",
      "        id STR, list of STR:\n",
      "            Provide station id or list of id's. You can provide\n",
      "            either stilt or icos id's mixed together.\n",
      "            Example:    station.get(id='HTM')\n",
      "                        station.get(id=['NOR', 'GAT344'])\n",
      "        \n",
      "        search STR:\n",
      "            Arbitrary string search keyword\n",
      "            \n",
      "        \n",
      "        stations DICT\n",
      "            all actions are performed on this dictionary, rather than\n",
      "            dynamically search for all stilt station on our server.\n",
      "            Can be useful for creating a map, or getting a subset of stations\n",
      "            from an existing search.\n",
      "        \n",
      "        # Spatial search keywords:\n",
      "        \n",
      "        country STR, list of STR:\n",
      "            Provide country code either fullname, 2 or 3 digit\n",
      "            where country is e.g \"SE\", \"SWE\" or \"Sweden\"\n",
      "            Example:    station.get(country='Sweden')\n",
      "        \n",
      "        bbox LIST of Tuples:\n",
      "            spatial filter by bounding box where bbox=[Topleft(lat,lon), BR(lat,lon)]\n",
      "            The following example is approximately covering scandinavia\n",
      "            Example:    station.get(bbox=[(70,5),(55,32)])\n",
      "        \n",
      "        pinpoint LIST: [lat, lon, distanceKM]\n",
      "            spatial filter by pinpoint location plus distance in KM\n",
      "            distance in km is use to create a bounding box\n",
      "            We use a very rough estimate of 1degree = 100 km\n",
      "        \n",
      "        # Temporal keywords:\n",
      "        sdate Input formats:\n",
      "               - datetime.date objs\n",
      "               - unix timestamp\n",
      "               - pandas.datetime\n",
      "               - STR: \"YYYY-MM-DD\":\n",
      "            where 'sdate' is a list of dates.\n",
      "            single list-item refers to start date (if edate is also provided) of a period or a single date\n",
      "            single list-item refers (if edate is not provided)\n",
      "            multiple items for list of single dates option\n",
      "        \n",
      "        edate Input format see sdata:\n",
      "            where 'sdate' is a single date\n",
      "        \n",
      "        \n",
      "        outfmt STR ['pandas' | 'dict' | 'list' | 'map']:\n",
      "            the result is returned as\n",
      "                pandas,  dataframe with some key information\n",
      "                dict:       dictionary with full metadata for each station\n",
      "                list:       list of stilt station objects\n",
      "                map:        folium map, can be displayed directly in notebooks\n",
      "                            or save to a static (leaflet) .html webpage\n",
      "        \n",
      "        Returns\n",
      "        -------\n",
      "        List of Stiltstation in the form of outfmt=format, see above. \n",
      "        Default DICT\n",
      "    \n",
      "    get(id=None)\n",
      "        This function returns a stilt station object or a list of\n",
      "        stiltstation objects. \n",
      "        A stilt station object, gives access to the underlying data\n",
      "        (timeseries and footprints)\n",
      "        You may provide a str or list of STILT id's or the 'result' of a .find() \n",
      "        \n",
      "        Example: .get('HTM030')\n",
      "                .get(['HTM030'])\n",
      "                    returns one stiltobject for HTM030\n",
      "                 \n",
      "                 .get(['HTM030','HTM150'])\n",
      "                     returns a list of two stiltobjects\n",
      "            \n",
      "                .get('KIT') \n",
      "                    returns a list of stiltstations based on .find(search='KIT')\n",
      "                    \n",
      "                .get(find(country=['Sweden','Finland']))\n",
      "                    returns a list of stilstations found in Sweden and Finland\n",
      "        Parameters\n",
      "        ----------\n",
      "        id :    DICT | LIST[DICT]\n",
      "                    The result of .find(....) where one station (DICT) is found or \n",
      "                    multiple stations (LIST[DICT])\n",
      "            \n",
      "                STR | LIST[STR]\n",
      "                    A single string or a list of strings containing one or more\n",
      "                    stilt station ids.\n",
      "        \n",
      "        Returns\n",
      "        -------\n",
      "        LIST[stiltstation]\n",
      "\n",
      "DATA\n",
      "    __email__ = ['info@icos-cp.eu', 'claudio.donofrio@nateko.lu.se']\n",
      "    __license__ = 'GPL-3.0'\n",
      "    __maintainer__ = 'ICOS Carbon Portal, elaborated products team'\n",
      "    __status__ = 'rc1'\n",
      "\n",
      "VERSION\n",
      "    0.1.0\n",
      "\n",
      "DATE\n",
      "    2021-04-12\n",
      "\n",
      "CREDITS\n",
      "    ICOS Carbon Portal\n",
      "\n",
      "FILE\n",
      "    /project/stilt_module/pylib/icoscp/stilt/station.py\n",
      "\n",
      "\n"
     ]
    }
   ],
   "source": [
    "help(station)"
   ]
  },
  {
   "cell_type": "markdown",
   "id": "accompanied-north",
   "metadata": {},
   "source": [
    "## Find stations:"
   ]
  },
  {
   "cell_type": "markdown",
   "id": "equal-motor",
   "metadata": {},
   "source": [
    "### arbitrary text search"
   ]
  },
  {
   "cell_type": "code",
   "execution_count": 4,
   "id": "funded-plaintiff",
   "metadata": {},
   "outputs": [
    {
     "data": {
      "application/vnd.jupyter.widget-view+json": {
       "model_id": "f52ae01768d2488cba156b6bebe1742f",
       "version_major": 2,
       "version_minor": 0
      },
      "text/plain": [
       "  0%|          | 0/170 [00:00<?, ?it/s]"
      ]
     },
     "metadata": {},
     "output_type": "display_data"
    },
    {
     "name": "stdout",
     "output_type": "stream",
     "text": [
      "KIT100 KIT Karlsruhe 100m\n",
      "KIT200 KIT Karlsruhe 200m\n",
      "KIT030 KIT Karlsruhe 30m\n",
      "KIT050 KIT Karlsruhe 50m\n"
     ]
    }
   ],
   "source": [
    "myStations = station.find(search='KIT')\n",
    "stprint(myStations)"
   ]
  },
  {
   "cell_type": "markdown",
   "id": "unknown-exhaust",
   "metadata": {},
   "source": [
    "### by country"
   ]
  },
  {
   "cell_type": "code",
   "execution_count": 5,
   "id": "nominated-graphics",
   "metadata": {},
   "outputs": [
    {
     "data": {
      "application/vnd.jupyter.widget-view+json": {
       "model_id": "f64e833f6e5f47ed9ec51f06dfca2cde",
       "version_major": 2,
       "version_minor": 0
      },
      "text/plain": [
       "  0%|          | 0/170 [00:00<?, ?it/s]"
      ]
     },
     "metadata": {},
     "output_type": "display_data"
    },
    {
     "name": "stdout",
     "output_type": "stream",
     "text": [
      "WAO Weybourne 10m\n",
      "LON LON 30m\n",
      "TTA050 Angus 50m\n",
      "RGL Ridge Hill 152m\n",
      "HFD Heathfield 135m\n",
      "TTA222 Angus 222m\n",
      "EGH Egham 10m\n",
      "SKK Selkirk 229m\n",
      "TAC191 Tacolneston Tall Tower 191m\n"
     ]
    }
   ],
   "source": [
    "myStations = station.find(country='UK')\n",
    "stprint(myStations)"
   ]
  },
  {
   "cell_type": "markdown",
   "id": "overall-ghana",
   "metadata": {},
   "source": [
    "### by ID"
   ]
  },
  {
   "cell_type": "code",
   "execution_count": 6,
   "id": "czech-weather",
   "metadata": {},
   "outputs": [
    {
     "data": {
      "application/vnd.jupyter.widget-view+json": {
       "model_id": "85758c072f204f7f8bcd94fb411acba3",
       "version_major": 2,
       "version_minor": 0
      },
      "text/plain": [
       "  0%|          | 0/170 [00:00<?, ?it/s]"
      ]
     },
     "metadata": {},
     "output_type": "display_data"
    },
    {
     "name": "stdout",
     "output_type": "stream",
     "text": [
      "{'empty': 'no stiltstations found'}\n"
     ]
    }
   ],
   "source": [
    "myStations = station.find(id='TA')\n",
    "stprint(myStations)"
   ]
  },
  {
   "cell_type": "markdown",
   "id": "worthy-pizza",
   "metadata": {},
   "source": [
    "### spatial bounding box\n",
    "approximately scandinavia"
   ]
  },
  {
   "cell_type": "code",
   "execution_count": 7,
   "id": "incoming-glass",
   "metadata": {},
   "outputs": [
    {
     "data": {
      "application/vnd.jupyter.widget-view+json": {
       "model_id": "ed4c24d13b7c4bf2b3eee47229c6ca9e",
       "version_major": 2,
       "version_minor": 0
      },
      "text/plain": [
       "  0%|          | 0/170 [00:00<?, ?it/s]"
      ]
     },
     "metadata": {},
     "output_type": "display_data"
    },
    {
     "name": "stdout",
     "output_type": "stream",
     "text": [
      "322 322 3m\n",
      "ARR Andoya 5m\n",
      "BAL Baltic Sea 28m\n",
      "BIR Birkenes 40m\n",
      "CDO CDO 150m\n",
      "ERERER ERERER 100m\n",
      "HTM030 HTM030 30m\n",
      "HTM150 Hyltemossa 150m\n",
      "IDA IDA 150m\n",
      "IDS IDS 100m\n",
      "NOR100 Norunda 100m\n",
      "OES Östergarnsholm 50m\n",
      "OST Østerild 200m\n",
      "OTTA OTTA 100m\n",
      "PAL Pallas-Sammaltunturi 7m\n",
      "PUI Puijo 176m\n",
      "RIS Risø 100m\n",
      "SMR125 SMEAR/Hyytiälä 125m\n",
      "SMR127 SMEAR/Hyytiälä 127m\n",
      "STH Stockholm 50m\n",
      "STH_DW Stockholm downwind 50m\n",
      "SVB150 Svartberget 150m\n",
      "TEST TEST 100m\n",
      "UTO Utö 60m\n",
      "VOI Voeikovo 6m\n"
     ]
    }
   ],
   "source": [
    "myStations = station.find(bbox=[(70,5),(55,32)]) \n",
    "stprint(myStations)"
   ]
  },
  {
   "cell_type": "markdown",
   "id": "enabling-playing",
   "metadata": {},
   "source": [
    "### spatial pinpoint\n",
    "approximately Lund with 200 km distance"
   ]
  },
  {
   "cell_type": "code",
   "execution_count": 8,
   "id": "empirical-tennessee",
   "metadata": {},
   "outputs": [
    {
     "data": {
      "application/vnd.jupyter.widget-view+json": {
       "model_id": "b1bc811032094b9dbfb5c65345a7b7e9",
       "version_major": 2,
       "version_minor": 0
      },
      "text/plain": [
       "  0%|          | 0/170 [00:00<?, ?it/s]"
      ]
     },
     "metadata": {},
     "output_type": "display_data"
    },
    {
     "name": "stdout",
     "output_type": "stream",
     "text": [
      "ERERER ERERER 100m\n",
      "HTM030 HTM030 30m\n",
      "HTM150 Hyltemossa 150m\n",
      "RIS Risø 100m\n",
      "ZRK ZRK 4m\n"
     ]
    }
   ],
   "source": [
    "myStations = station.find(pinpoint=[55.7,13.1,200]) \n",
    "stprint(myStations)"
   ]
  },
  {
   "cell_type": "markdown",
   "id": "whole-massage",
   "metadata": {},
   "source": [
    "### temporal\n",
    "Please be aware, that the actual data is not filtered, the result will return stations where data is **available** according to your filter.\n",
    "<br>sdate: >= start date\n",
    "<br>edate: <= end date"
   ]
  },
  {
   "cell_type": "code",
   "execution_count": 9,
   "id": "seasonal-wallpaper",
   "metadata": {},
   "outputs": [
    {
     "data": {
      "application/vnd.jupyter.widget-view+json": {
       "model_id": "f6d05088c67742aabe5056908d7dacbc",
       "version_major": 2,
       "version_minor": 0
      },
      "text/plain": [
       "  0%|          | 0/170 [00:00<?, ?it/s]"
      ]
     },
     "metadata": {},
     "output_type": "display_data"
    },
    {
     "name": "stdout",
     "output_type": "stream",
     "text": [
      "322 322 3m\n",
      "BAN112 BAN112 112m\n",
      "BAN953 BAN953 953m\n",
      "BIK300 Bialystok 300m\n",
      "BIR Birkenes 40m\n",
      "BRM212 BRM212 212m\n",
      "BRM213 BRM213 212m\n",
      "CBW CBW 207m\n",
      "CBW027 CBW027 27m\n",
      "CBW067 CBW067 67m\n",
      "CBW127 CBW127 127m\n",
      "CBW207 CBW207 207m\n",
      "CDO CDO 150m\n",
      "CES020 Cabauw 20m\n",
      "CES200 Cabauw 200m\n",
      "CGR CGR 10m\n",
      "CMN Monte Cimone 13m\n",
      "CMN760 CMN760 760m\n",
      "FRE Freinsheim 30m\n",
      "GAT030 Gartow 30m\n",
      "GAT132 Gartow 132m\n",
      "GAT344 Gartow 344m\n",
      "HEI Heidelberg 30m\n",
      "HEL Helgoland 15m\n",
      "HPB131 Hohenpeissenberg 131m\n",
      "HTM030 HTM030 30m\n",
      "HTM150 Hyltemossa 150m\n",
      "HUN096 Hegyhatsal 96m\n",
      "IPR100 Ispra 100m\n",
      "ISEN ISEN 75m\n",
      "JENA Jena 100m\n",
      "JFJ Jungfraujoch 720m\n",
      "JFJ960 JFJ960 960m\n",
      "JUE Forschungszentrum Jülich 100m\n",
      "KIT030 KIT Karlsruhe 30m\n",
      "KIT100 KIT Karlsruhe 100m\n",
      "KIT200 KIT Karlsruhe 200m\n",
      "KRE010 KRE010 10m\n",
      "KRE125 Kresin 125m\n",
      "KRE250 Kresin 250m\n",
      "LIN099 Lindenberg 99m\n",
      "LMP Lampedusa 10m\n",
      "LON LON 30m\n",
      "LUT Lutjewad 60m\n",
      "MHD Mace Head 15m\n",
      "MIL Milano 50m\n",
      "NOR100 Norunda 100m\n",
      "OPE010 OPE010 10m\n",
      "OPE120 OPE 120m\n",
      "OPO OPO 100m\n",
      "OXK163 Ochsenkopf 163m\n",
      "PAL Pallas-Sammaltunturi 7m\n",
      "PAR Paris 50m\n",
      "POING POING 100m\n",
      "POING5 POING5 50m\n",
      "PRA Prague 50m\n",
      "PRS Plateau Rosa 500m\n",
      "PTL PTL 250m\n",
      "PUI Puijo 176m\n",
      "PUY Puy de Dome 400m\n",
      "RGL Ridge Hill 152m\n",
      "RMS RMS 100m\n",
      "SAC060 SAC060 60m\n",
      "SAC100 Saclay 100m\n",
      "SCHOEN SCHOEN 100m\n",
      "SMR125 SMEAR/Hyytiälä 125m\n",
      "SSL Schauinsland 230m\n",
      "SSL12 SSL12 12m\n",
      "STE252 STE252 252m\n",
      "STK200 Steinkimmen 200m\n",
      "STR STR 100m\n",
      "SVB150 Svartberget 150m\n",
      "THRB THRB 3m\n",
      "TOH147 Torfhaus 147m\n",
      "TRN180 Trainou 180m\n",
      "UTO Utö 60m\n",
      "VND VND 150m\n",
      "WAO Weybourne 10m\n",
      "WES Westerland 15m\n",
      "ZSF ZSF 730m\n"
     ]
    }
   ],
   "source": [
    "myStations = station.find(sdate='2018-04-01')\n",
    "stprint(myStations)"
   ]
  },
  {
   "cell_type": "code",
   "execution_count": 10,
   "id": "pacific-adaptation",
   "metadata": {},
   "outputs": [
    {
     "data": {
      "application/vnd.jupyter.widget-view+json": {
       "model_id": "74c2133107df4b7db53e8a954464bee2",
       "version_major": 2,
       "version_minor": 0
      },
      "text/plain": [
       "  0%|          | 0/170 [00:00<?, ?it/s]"
      ]
     },
     "metadata": {},
     "output_type": "display_data"
    },
    {
     "name": "stdout",
     "output_type": "stream",
     "text": [
      "BER_UW BER_UW 50m\n",
      "BIR Birkenes 40m\n",
      "CES200 Cabauw 200m\n",
      "CMN Monte Cimone 13m\n",
      "DAO DAO 1639m\n",
      "DAV DAV 682m\n",
      "ERERER ERERER 100m\n",
      "HEI Heidelberg 30m\n",
      "HTM030 HTM030 30m\n",
      "HTM150 Hyltemossa 150m\n",
      "JFJ Jungfraujoch 720m\n",
      "JFJ960 JFJ960 960m\n",
      "LIN099 Lindenberg 99m\n",
      "MHD Mace Head 15m\n",
      "NOR100 Norunda 100m\n",
      "PAL Pallas-Sammaltunturi 7m\n",
      "POLAND POLAND 100m\n",
      "ROM1 ROM1 125m\n",
      "SET SET 100m\n",
      "SMR127 SMEAR/Hyytiälä 127m\n",
      "SSL Schauinsland 230m\n",
      "SSL12 SSL12 12m\n",
      "STH Stockholm 50m\n",
      "TEST TEST 100m\n",
      "TST TST 1m\n",
      "VOI Voeikovo 6m\n"
     ]
    }
   ],
   "source": [
    "myStations = station.find(edate='2006-12-31')\n",
    "stprint(myStations)"
   ]
  },
  {
   "cell_type": "markdown",
   "id": "baking-supply",
   "metadata": {},
   "source": [
    "### combine filters\n",
    "Filters are applied in sequence of input and each result is the base for the next filter.\n",
    "<br>For example you could search for stations in a bounding box and filter the result for a specific country"
   ]
  },
  {
   "cell_type": "code",
   "execution_count": 11,
   "id": "naval-trader",
   "metadata": {},
   "outputs": [
    {
     "data": {
      "application/vnd.jupyter.widget-view+json": {
       "model_id": "ff8d2f7f315349489add1db29ddd12c7",
       "version_major": 2,
       "version_minor": 0
      },
      "text/plain": [
       "  0%|          | 0/170 [00:00<?, ?it/s]"
      ]
     },
     "metadata": {},
     "output_type": "display_data"
    },
    {
     "name": "stdout",
     "output_type": "stream",
     "text": [
      "BIR Birkenes 40m\n",
      "ARR Andoya 5m\n",
      "CDO CDO 150m\n",
      "TEST TEST 100m\n",
      "OTTA OTTA 100m\n"
     ]
    }
   ],
   "source": [
    "myStations = station.find(bbox=[(70,5),(55,32)], country='Norway') \n",
    "stprint(myStations)"
   ]
  },
  {
   "cell_type": "code",
   "execution_count": 12,
   "id": "tired-ideal",
   "metadata": {},
   "outputs": [
    {
     "data": {
      "application/vnd.jupyter.widget-view+json": {
       "model_id": "be356f84b14d4e99b075f74a0595b47e",
       "version_major": 2,
       "version_minor": 0
      },
      "text/plain": [
       "  0%|          | 0/170 [00:00<?, ?it/s]"
      ]
     },
     "metadata": {},
     "output_type": "display_data"
    },
    {
     "name": "stdout",
     "output_type": "stream",
     "text": [
      "BIK300 ['2007', '2008', '2009', '2010', '2011', '2012', '2013', '2014', '2015', '2016', '2017', '2018']\n",
      "BIR ['2006', '2007', '2008', '2009', '2015', '2016', '2017', '2018', '2019']\n",
      "BRM212 ['2010', '2011', '2012', '2019']\n",
      "BRM213 ['2010', '2011', '2012', '2019']\n",
      "CBW ['2011', '2012', '2013', '2014', '2015', '2016', '2017', '2018', '2019']\n",
      "CBW027 ['2018', '2019']\n",
      "CBW067 ['2018']\n",
      "CBW127 ['2018']\n",
      "CBW207 ['2011', '2012', '2013', '2014', '2015', '2016', '2017', '2018', '2019']\n",
      "CES020 ['2007', '2008', '2009', '2010', '2011', '2012', '2013', '2014', '2015', '2016', '2017', '2018']\n",
      "CES200 ['2006', '2007', '2008', '2009', '2010', '2011', '2012', '2013', '2014', '2015', '2016', '2017', '2018']\n",
      "CGR ['2014', '2015', '2016', '2017', '2018', '2019']\n",
      "CMN ['2006', '2007', '2014', '2015', '2016', '2017', '2018', '2019', '2020']\n",
      "CMN760 ['2018']\n",
      "FRE ['2014', '2015', '2016', '2017', '2018', '2019']\n",
      "GAT030 ['2012', '2018', '2019']\n",
      "GAT132 ['2012', '2013', '2014', '2015', '2016', '2017', '2018']\n",
      "GAT344 ['2012', '2015', '2016', '2017', '2018', '2019']\n",
      "HEI ['2006', '2007', '2008', '2009', '2010', '2011', '2012', '2013', '2014', '2015', '2016', '2017', '2018', '2019']\n",
      "HEL ['2007', '2015', '2016', '2017', '2018', '2019']\n",
      "HPB131 ['2013', '2014', '2015', '2016', '2017', '2018', '2019']\n",
      "HTM030 ['2006', '2018']\n",
      "HTM150 ['2006', '2012', '2015', '2016', '2017', '2018', '2019', '2020']\n",
      "HUN096 ['2007', '2008', '2009', '2010', '2011', '2012', '2013', '2014', '2015', '2016', '2017', '2018']\n",
      "IPR100 ['2013', '2014', '2015', '2016', '2017', '2018']\n",
      "JENA ['2012', '2016', '2019']\n",
      "JFJ ['2006', '2007', '2008', '2009', '2010', '2011', '2012', '2013', '2014', '2015', '2016', '2017', '2018', '2019']\n",
      "JFJ960 ['2006', '2007', '2008', '2009', '2010', '2011', '2012', '2013', '2014', '2015', '2016', '2017', '2018', '2019']\n",
      "JUE ['2007', '2014', '2015', '2016', '2017', '2018']\n",
      "KIT030 ['2014', '2017', '2018', '2019']\n",
      "KIT100 ['2007', '2014', '2015', '2016', '2017', '2018']\n",
      "KIT200 ['2014', '2015', '2016', '2017', '2018', '2019']\n",
      "KRE010 ['2018']\n",
      "KRE125 ['2014', '2015', '2016', '2017', '2018']\n",
      "KRE250 ['2015', '2016', '2017', '2018', '2019']\n",
      "LIN099 ['2006', '2014', '2015', '2016', '2017', '2018', '2019']\n",
      "LMP ['2007', '2008', '2009', '2010', '2011', '2014', '2015', '2016', '2017', '2018', '2019', '2020']\n",
      "LON ['2018']\n",
      "LUT ['2007', '2008', '2009', '2010', '2011', '2012', '2013', '2015', '2016', '2017', '2018']\n",
      "MHD ['2006', '2007', '2008', '2009', '2010', '2011', '2012', '2013', '2014', '2015', '2016', '2017', '2018', '2019']\n",
      "MIL ['2009', '2010', '2011', '2012', '2013', '2014', '2015', '2016', '2017', '2018']\n",
      "NOR100 ['2006', '2007', '2015', '2016', '2017', '2018', '2019']\n",
      "OPE010 ['2016', '2018']\n",
      "OPE120 ['2007', '2011', '2012', '2013', '2014', '2015', '2016', '2017', '2018', '2019']\n",
      "OPO ['2015', '2016', '2017', '2018']\n",
      "OXK163 ['2007', '2008', '2009', '2010', '2011', '2012', '2015', '2016', '2017', '2018']\n",
      "PAL ['2006', '2007', '2008', '2009', '2010', '2011', '2012', '2015', '2016', '2017', '2018', '2019']\n",
      "PAR ['2009', '2010', '2011', '2012', '2013', '2014', '2015', '2016', '2017', '2018']\n",
      "PRA ['2009', '2010', '2011', '2012', '2013', '2014', '2015', '2016', '2017', '2018']\n",
      "PRS ['2007', '2009', '2010', '2011', '2012', '2013', '2014', '2015', '2016', '2017', '2018', '2019']\n",
      "PTL ['2015', '2016', '2017', '2018', '2019']\n",
      "PUI ['2007', '2015', '2016', '2017', '2018']\n",
      "PUY ['2007', '2008', '2009', '2010', '2011', '2012', '2015', '2016', '2017', '2018']\n",
      "RGL ['2007', '2017', '2018', '2019']\n",
      "RMS ['2018']\n",
      "SAC100 ['2009', '2014', '2015', '2016', '2017', '2018', '2019']\n",
      "SMR125 ['2013', '2014', '2015', '2016', '2017', '2018', '2019']\n",
      "SSL ['2006', '2007', '2008', '2009', '2010', '2011', '2012', '2013', '2014', '2015', '2016', '2017', '2018', '2019']\n",
      "SSL12 ['2006', '2007', '2008', '2009', '2010', '2011', '2012', '2013', '2014', '2015', '2016', '2017', '2018', '2019']\n",
      "STE252 ['2015', '2017', '2018', '2019']\n",
      "STK200 ['2014', '2015', '2016', '2017', '2018']\n",
      "SVB150 ['2007', '2015', '2016', '2017', '2018', '2019']\n",
      "THRB ['2018']\n",
      "TOH147 ['2015', '2016', '2017', '2018', '2019']\n",
      "TRN180 ['2007', '2008', '2009', '2010', '2011', '2012', '2013', '2014', '2015', '2016', '2017', '2018', '2019']\n",
      "UTO ['2007', '2015', '2016', '2017', '2018']\n",
      "VND ['2014', '2015', '2016', '2017', '2018', '2019']\n",
      "WAO ['2007', '2008', '2009', '2010', '2011', '2012', '2013', '2014', '2015', '2016', '2017', '2018', '2019', '2020']\n",
      "WES ['2007', '2018', '2019']\n",
      "ZSF ['2018', '2019']\n"
     ]
    }
   ],
   "source": [
    "myStations = station.find(sdate= '2018-05-01', edate='2018-06-01')\n",
    "for s in myStations:\n",
    "    print(myStations[s]['id'], sorted(myStations[s]['years']))"
   ]
  },
  {
   "cell_type": "markdown",
   "id": "incident-uganda",
   "metadata": {},
   "source": [
    "## Output format"
   ]
  },
  {
   "cell_type": "markdown",
   "id": "tribal-column",
   "metadata": {},
   "source": [
    "### pandas"
   ]
  },
  {
   "cell_type": "code",
   "execution_count": 13,
   "id": "functional-tenant",
   "metadata": {},
   "outputs": [
    {
     "data": {
      "application/vnd.jupyter.widget-view+json": {
       "model_id": "79dbd4bcf12b462fbf8574f3ef0f45c0",
       "version_major": 2,
       "version_minor": 0
      },
      "text/plain": [
       "  0%|          | 0/170 [00:00<?, ?it/s]"
      ]
     },
     "metadata": {},
     "output_type": "display_data"
    },
    {
     "data": {
      "text/html": [
       "<div>\n",
       "<style scoped>\n",
       "    .dataframe tbody tr th:only-of-type {\n",
       "        vertical-align: middle;\n",
       "    }\n",
       "\n",
       "    .dataframe tbody tr th {\n",
       "        vertical-align: top;\n",
       "    }\n",
       "\n",
       "    .dataframe thead th {\n",
       "        text-align: right;\n",
       "    }\n",
       "</style>\n",
       "<table border=\"1\" class=\"dataframe\">\n",
       "  <thead>\n",
       "    <tr style=\"text-align: right;\">\n",
       "      <th></th>\n",
       "      <th>lat</th>\n",
       "      <th>lon</th>\n",
       "      <th>alt</th>\n",
       "      <th>locIdent</th>\n",
       "      <th>id</th>\n",
       "      <th>name</th>\n",
       "      <th>icos</th>\n",
       "      <th>years</th>\n",
       "      <th>2016</th>\n",
       "      <th>geoinfo</th>\n",
       "      <th>...</th>\n",
       "      <th>2007</th>\n",
       "      <th>2008</th>\n",
       "      <th>2009</th>\n",
       "      <th>2010</th>\n",
       "      <th>2011</th>\n",
       "      <th>2012</th>\n",
       "      <th>2013</th>\n",
       "      <th>2014</th>\n",
       "      <th>2015</th>\n",
       "      <th>2017</th>\n",
       "    </tr>\n",
       "  </thead>\n",
       "  <tbody>\n",
       "    <tr>\n",
       "      <th>VIE_DW</th>\n",
       "      <td>48.41</td>\n",
       "      <td>16.07</td>\n",
       "      <td>50</td>\n",
       "      <td>48.41Nx016.07Ex00050</td>\n",
       "      <td>VIE_DW</td>\n",
       "      <td>VIE_DW 50m</td>\n",
       "      <td>False</td>\n",
       "      <td>[2016]</td>\n",
       "      <td>{'months': ['01', '02', '03'], 'nmonths': 3}</td>\n",
       "      <td>{'name': 'Austria', 'topLevelDomain': ['.at'],...</td>\n",
       "      <td>...</td>\n",
       "      <td>NaN</td>\n",
       "      <td>NaN</td>\n",
       "      <td>NaN</td>\n",
       "      <td>NaN</td>\n",
       "      <td>NaN</td>\n",
       "      <td>NaN</td>\n",
       "      <td>NaN</td>\n",
       "      <td>NaN</td>\n",
       "      <td>NaN</td>\n",
       "      <td>NaN</td>\n",
       "    </tr>\n",
       "    <tr>\n",
       "      <th>ZSF</th>\n",
       "      <td>47.42</td>\n",
       "      <td>10.98</td>\n",
       "      <td>730</td>\n",
       "      <td>47.42Nx010.98Ex00730</td>\n",
       "      <td>ZSF</td>\n",
       "      <td>ZSF 730m</td>\n",
       "      <td>{'stationId': 'ZSF', 'name': 'Zugspitze', 'the...</td>\n",
       "      <td>[2018, 2019]</td>\n",
       "      <td>NaN</td>\n",
       "      <td>{'name': 'Austria', 'topLevelDomain': ['.at'],...</td>\n",
       "      <td>...</td>\n",
       "      <td>NaN</td>\n",
       "      <td>NaN</td>\n",
       "      <td>NaN</td>\n",
       "      <td>NaN</td>\n",
       "      <td>NaN</td>\n",
       "      <td>NaN</td>\n",
       "      <td>NaN</td>\n",
       "      <td>NaN</td>\n",
       "      <td>NaN</td>\n",
       "      <td>NaN</td>\n",
       "    </tr>\n",
       "    <tr>\n",
       "      <th>VIE</th>\n",
       "      <td>48.2</td>\n",
       "      <td>16.37</td>\n",
       "      <td>50</td>\n",
       "      <td>48.20Nx016.37Ex00050</td>\n",
       "      <td>VIE</td>\n",
       "      <td>VIE 50m</td>\n",
       "      <td>False</td>\n",
       "      <td>[2016]</td>\n",
       "      <td>{'months': ['01', '02', '03'], 'nmonths': 3}</td>\n",
       "      <td>{'name': 'Austria', 'topLevelDomain': ['.at'],...</td>\n",
       "      <td>...</td>\n",
       "      <td>NaN</td>\n",
       "      <td>NaN</td>\n",
       "      <td>NaN</td>\n",
       "      <td>NaN</td>\n",
       "      <td>NaN</td>\n",
       "      <td>NaN</td>\n",
       "      <td>NaN</td>\n",
       "      <td>NaN</td>\n",
       "      <td>NaN</td>\n",
       "      <td>NaN</td>\n",
       "    </tr>\n",
       "    <tr>\n",
       "      <th>HUN096</th>\n",
       "      <td>46.95</td>\n",
       "      <td>16.65</td>\n",
       "      <td>96</td>\n",
       "      <td>46.95Nx016.65Ex00096</td>\n",
       "      <td>HUN096</td>\n",
       "      <td>Hegyhatsal 96m</td>\n",
       "      <td>False</td>\n",
       "      <td>[2011, 2008, 2013, 2018, 2015, 2007, 2014, 201...</td>\n",
       "      <td>{'months': ['01', '02', '03', '04', '05', '06'...</td>\n",
       "      <td>{'name': 'Hungary', 'topLevelDomain': ['.hu'],...</td>\n",
       "      <td>...</td>\n",
       "      <td>{'months': ['01', '02', '03', '04', '05', '06'...</td>\n",
       "      <td>{'months': ['01', '02', '03', '04', '05', '06'...</td>\n",
       "      <td>{'months': ['01', '02', '03', '04', '05', '06'...</td>\n",
       "      <td>{'months': ['01', '02', '03', '04', '05', '06'...</td>\n",
       "      <td>{'months': ['01', '02', '03', '04', '05', '06'...</td>\n",
       "      <td>{'months': ['01', '02', '03', '04', '05', '06'...</td>\n",
       "      <td>{'months': ['01', '02', '03', '04', '05', '06'...</td>\n",
       "      <td>{'months': ['01', '02', '03', '04', '05', '06'...</td>\n",
       "      <td>{'months': ['01', '02', '03', '04', '05', '06'...</td>\n",
       "      <td>{'months': ['01', '02', '03', '04', '05', '06'...</td>\n",
       "    </tr>\n",
       "    <tr>\n",
       "      <th>VIE_UW</th>\n",
       "      <td>47.88</td>\n",
       "      <td>16.86</td>\n",
       "      <td>50</td>\n",
       "      <td>47.88Nx016.86Ex00050</td>\n",
       "      <td>VIE_UW</td>\n",
       "      <td>VIE_UW 50m</td>\n",
       "      <td>False</td>\n",
       "      <td>[2016]</td>\n",
       "      <td>{'months': ['01', '02', '03'], 'nmonths': 3}</td>\n",
       "      <td>{'name': 'Austria', 'topLevelDomain': ['.at'],...</td>\n",
       "      <td>...</td>\n",
       "      <td>NaN</td>\n",
       "      <td>NaN</td>\n",
       "      <td>NaN</td>\n",
       "      <td>NaN</td>\n",
       "      <td>NaN</td>\n",
       "      <td>NaN</td>\n",
       "      <td>NaN</td>\n",
       "      <td>NaN</td>\n",
       "      <td>NaN</td>\n",
       "      <td>NaN</td>\n",
       "    </tr>\n",
       "  </tbody>\n",
       "</table>\n",
       "<p>5 rows × 22 columns</p>\n",
       "</div>"
      ],
      "text/plain": [
       "          lat    lon  alt              locIdent      id            name  \\\n",
       "VIE_DW  48.41  16.07   50  48.41Nx016.07Ex00050  VIE_DW      VIE_DW 50m   \n",
       "ZSF     47.42  10.98  730  47.42Nx010.98Ex00730     ZSF        ZSF 730m   \n",
       "VIE      48.2  16.37   50  48.20Nx016.37Ex00050     VIE         VIE 50m   \n",
       "HUN096  46.95  16.65   96  46.95Nx016.65Ex00096  HUN096  Hegyhatsal 96m   \n",
       "VIE_UW  47.88  16.86   50  47.88Nx016.86Ex00050  VIE_UW      VIE_UW 50m   \n",
       "\n",
       "                                                     icos  \\\n",
       "VIE_DW                                              False   \n",
       "ZSF     {'stationId': 'ZSF', 'name': 'Zugspitze', 'the...   \n",
       "VIE                                                 False   \n",
       "HUN096                                              False   \n",
       "VIE_UW                                              False   \n",
       "\n",
       "                                                    years  \\\n",
       "VIE_DW                                             [2016]   \n",
       "ZSF                                          [2018, 2019]   \n",
       "VIE                                                [2016]   \n",
       "HUN096  [2011, 2008, 2013, 2018, 2015, 2007, 2014, 201...   \n",
       "VIE_UW                                             [2016]   \n",
       "\n",
       "                                                     2016  \\\n",
       "VIE_DW       {'months': ['01', '02', '03'], 'nmonths': 3}   \n",
       "ZSF                                                   NaN   \n",
       "VIE          {'months': ['01', '02', '03'], 'nmonths': 3}   \n",
       "HUN096  {'months': ['01', '02', '03', '04', '05', '06'...   \n",
       "VIE_UW       {'months': ['01', '02', '03'], 'nmonths': 3}   \n",
       "\n",
       "                                                  geoinfo  ...  \\\n",
       "VIE_DW  {'name': 'Austria', 'topLevelDomain': ['.at'],...  ...   \n",
       "ZSF     {'name': 'Austria', 'topLevelDomain': ['.at'],...  ...   \n",
       "VIE     {'name': 'Austria', 'topLevelDomain': ['.at'],...  ...   \n",
       "HUN096  {'name': 'Hungary', 'topLevelDomain': ['.hu'],...  ...   \n",
       "VIE_UW  {'name': 'Austria', 'topLevelDomain': ['.at'],...  ...   \n",
       "\n",
       "                                                     2007  \\\n",
       "VIE_DW                                                NaN   \n",
       "ZSF                                                   NaN   \n",
       "VIE                                                   NaN   \n",
       "HUN096  {'months': ['01', '02', '03', '04', '05', '06'...   \n",
       "VIE_UW                                                NaN   \n",
       "\n",
       "                                                     2008  \\\n",
       "VIE_DW                                                NaN   \n",
       "ZSF                                                   NaN   \n",
       "VIE                                                   NaN   \n",
       "HUN096  {'months': ['01', '02', '03', '04', '05', '06'...   \n",
       "VIE_UW                                                NaN   \n",
       "\n",
       "                                                     2009  \\\n",
       "VIE_DW                                                NaN   \n",
       "ZSF                                                   NaN   \n",
       "VIE                                                   NaN   \n",
       "HUN096  {'months': ['01', '02', '03', '04', '05', '06'...   \n",
       "VIE_UW                                                NaN   \n",
       "\n",
       "                                                     2010  \\\n",
       "VIE_DW                                                NaN   \n",
       "ZSF                                                   NaN   \n",
       "VIE                                                   NaN   \n",
       "HUN096  {'months': ['01', '02', '03', '04', '05', '06'...   \n",
       "VIE_UW                                                NaN   \n",
       "\n",
       "                                                     2011  \\\n",
       "VIE_DW                                                NaN   \n",
       "ZSF                                                   NaN   \n",
       "VIE                                                   NaN   \n",
       "HUN096  {'months': ['01', '02', '03', '04', '05', '06'...   \n",
       "VIE_UW                                                NaN   \n",
       "\n",
       "                                                     2012  \\\n",
       "VIE_DW                                                NaN   \n",
       "ZSF                                                   NaN   \n",
       "VIE                                                   NaN   \n",
       "HUN096  {'months': ['01', '02', '03', '04', '05', '06'...   \n",
       "VIE_UW                                                NaN   \n",
       "\n",
       "                                                     2013  \\\n",
       "VIE_DW                                                NaN   \n",
       "ZSF                                                   NaN   \n",
       "VIE                                                   NaN   \n",
       "HUN096  {'months': ['01', '02', '03', '04', '05', '06'...   \n",
       "VIE_UW                                                NaN   \n",
       "\n",
       "                                                     2014  \\\n",
       "VIE_DW                                                NaN   \n",
       "ZSF                                                   NaN   \n",
       "VIE                                                   NaN   \n",
       "HUN096  {'months': ['01', '02', '03', '04', '05', '06'...   \n",
       "VIE_UW                                                NaN   \n",
       "\n",
       "                                                     2015  \\\n",
       "VIE_DW                                                NaN   \n",
       "ZSF                                                   NaN   \n",
       "VIE                                                   NaN   \n",
       "HUN096  {'months': ['01', '02', '03', '04', '05', '06'...   \n",
       "VIE_UW                                                NaN   \n",
       "\n",
       "                                                     2017  \n",
       "VIE_DW                                                NaN  \n",
       "ZSF                                                   NaN  \n",
       "VIE                                                   NaN  \n",
       "HUN096  {'months': ['01', '02', '03', '04', '05', '06'...  \n",
       "VIE_UW                                                NaN  \n",
       "\n",
       "[5 rows x 22 columns]"
      ]
     },
     "execution_count": 13,
     "metadata": {},
     "output_type": "execute_result"
    }
   ],
   "source": [
    "station.find(country=['hungary','austria'], outfmt='pandas')"
   ]
  },
  {
   "cell_type": "markdown",
   "id": "compressed-teach",
   "metadata": {},
   "source": [
    "### map (folium, leaflet)\n",
    "Display the map directly if you are working in a Jupyter Notebook, \n",
    "<br> or save the map to html file if you work in python."
   ]
  },
  {
   "cell_type": "code",
   "execution_count": 14,
   "id": "destroyed-shuttle",
   "metadata": {},
   "outputs": [
    {
     "data": {
      "application/vnd.jupyter.widget-view+json": {
       "model_id": "b3b17cc23a3d475d80439826af1d0108",
       "version_major": 2,
       "version_minor": 0
      },
      "text/plain": [
       "  0%|          | 0/170 [00:00<?, ?it/s]"
      ]
     },
     "metadata": {},
     "output_type": "display_data"
    },
    {
     "data": {
      "text/html": [
       "<div style=\"width:100%;\"><div style=\"position:relative;width:100%;height:0;padding-bottom:60%;\"><span style=\"color:#565656\">Make this Notebook Trusted to load map: File -> Trust Notebook</span><iframe src=\"about:blank\" style=\"position:absolute;width:100%;height:100%;left:0;top:0;border:none !important;\" data-html=%3C%21DOCTYPE%20html%3E%0A%3Chead%3E%20%20%20%20%0A%20%20%20%20%3Cmeta%20http-equiv%3D%22content-type%22%20content%3D%22text/html%3B%20charset%3DUTF-8%22%20/%3E%0A%20%20%20%20%0A%20%20%20%20%20%20%20%20%3Cscript%3E%0A%20%20%20%20%20%20%20%20%20%20%20%20L_NO_TOUCH%20%3D%20false%3B%0A%20%20%20%20%20%20%20%20%20%20%20%20L_DISABLE_3D%20%3D%20false%3B%0A%20%20%20%20%20%20%20%20%3C/script%3E%0A%20%20%20%20%0A%20%20%20%20%3Cstyle%3Ehtml%2C%20body%20%7Bwidth%3A%20100%25%3Bheight%3A%20100%25%3Bmargin%3A%200%3Bpadding%3A%200%3B%7D%3C/style%3E%0A%20%20%20%20%3Cstyle%3E%23map%20%7Bposition%3Aabsolute%3Btop%3A0%3Bbottom%3A0%3Bright%3A0%3Bleft%3A0%3B%7D%3C/style%3E%0A%20%20%20%20%3Cscript%20src%3D%22https%3A//cdn.jsdelivr.net/npm/leaflet%401.6.0/dist/leaflet.js%22%3E%3C/script%3E%0A%20%20%20%20%3Cscript%20src%3D%22https%3A//code.jquery.com/jquery-1.12.4.min.js%22%3E%3C/script%3E%0A%20%20%20%20%3Cscript%20src%3D%22https%3A//maxcdn.bootstrapcdn.com/bootstrap/3.2.0/js/bootstrap.min.js%22%3E%3C/script%3E%0A%20%20%20%20%3Cscript%20src%3D%22https%3A//cdnjs.cloudflare.com/ajax/libs/Leaflet.awesome-markers/2.0.2/leaflet.awesome-markers.js%22%3E%3C/script%3E%0A%20%20%20%20%3Clink%20rel%3D%22stylesheet%22%20href%3D%22https%3A//cdn.jsdelivr.net/npm/leaflet%401.6.0/dist/leaflet.css%22/%3E%0A%20%20%20%20%3Clink%20rel%3D%22stylesheet%22%20href%3D%22https%3A//maxcdn.bootstrapcdn.com/bootstrap/3.2.0/css/bootstrap.min.css%22/%3E%0A%20%20%20%20%3Clink%20rel%3D%22stylesheet%22%20href%3D%22https%3A//maxcdn.bootstrapcdn.com/bootstrap/3.2.0/css/bootstrap-theme.min.css%22/%3E%0A%20%20%20%20%3Clink%20rel%3D%22stylesheet%22%20href%3D%22https%3A//maxcdn.bootstrapcdn.com/font-awesome/4.6.3/css/font-awesome.min.css%22/%3E%0A%20%20%20%20%3Clink%20rel%3D%22stylesheet%22%20href%3D%22https%3A//cdnjs.cloudflare.com/ajax/libs/Leaflet.awesome-markers/2.0.2/leaflet.awesome-markers.css%22/%3E%0A%20%20%20%20%3Clink%20rel%3D%22stylesheet%22%20href%3D%22https%3A//cdn.jsdelivr.net/gh/python-visualization/folium/folium/templates/leaflet.awesome.rotate.min.css%22/%3E%0A%20%20%20%20%0A%20%20%20%20%20%20%20%20%20%20%20%20%3Cmeta%20name%3D%22viewport%22%20content%3D%22width%3Ddevice-width%2C%0A%20%20%20%20%20%20%20%20%20%20%20%20%20%20%20%20initial-scale%3D1.0%2C%20maximum-scale%3D1.0%2C%20user-scalable%3Dno%22%20/%3E%0A%20%20%20%20%20%20%20%20%20%20%20%20%3Cstyle%3E%0A%20%20%20%20%20%20%20%20%20%20%20%20%20%20%20%20%23map_1ef6da4f48064a649b2c403159e787dd%20%7B%0A%20%20%20%20%20%20%20%20%20%20%20%20%20%20%20%20%20%20%20%20position%3A%20relative%3B%0A%20%20%20%20%20%20%20%20%20%20%20%20%20%20%20%20%20%20%20%20width%3A%20100.0%25%3B%0A%20%20%20%20%20%20%20%20%20%20%20%20%20%20%20%20%20%20%20%20height%3A%20100.0%25%3B%0A%20%20%20%20%20%20%20%20%20%20%20%20%20%20%20%20%20%20%20%20left%3A%200.0%25%3B%0A%20%20%20%20%20%20%20%20%20%20%20%20%20%20%20%20%20%20%20%20top%3A%200.0%25%3B%0A%20%20%20%20%20%20%20%20%20%20%20%20%20%20%20%20%7D%0A%20%20%20%20%20%20%20%20%20%20%20%20%3C/style%3E%0A%20%20%20%20%20%20%20%20%0A%20%20%20%20%3Cscript%20src%3D%22https%3A//cdnjs.cloudflare.com/ajax/libs/leaflet.markercluster/1.1.0/leaflet.markercluster.js%22%3E%3C/script%3E%0A%20%20%20%20%3Clink%20rel%3D%22stylesheet%22%20href%3D%22https%3A//cdnjs.cloudflare.com/ajax/libs/leaflet.markercluster/1.1.0/MarkerCluster.css%22/%3E%0A%20%20%20%20%3Clink%20rel%3D%22stylesheet%22%20href%3D%22https%3A//cdnjs.cloudflare.com/ajax/libs/leaflet.markercluster/1.1.0/MarkerCluster.Default.css%22/%3E%0A%3C/head%3E%0A%3Cbody%3E%20%20%20%20%0A%20%20%20%20%0A%20%20%20%20%20%20%20%20%20%20%20%20%3Cdiv%20class%3D%22folium-map%22%20id%3D%22map_1ef6da4f48064a649b2c403159e787dd%22%20%3E%3C/div%3E%0A%20%20%20%20%20%20%20%20%0A%3C/body%3E%0A%3Cscript%3E%20%20%20%20%0A%20%20%20%20%0A%20%20%20%20%20%20%20%20%20%20%20%20var%20map_1ef6da4f48064a649b2c403159e787dd%20%3D%20L.map%28%0A%20%20%20%20%20%20%20%20%20%20%20%20%20%20%20%20%22map_1ef6da4f48064a649b2c403159e787dd%22%2C%0A%20%20%20%20%20%20%20%20%20%20%20%20%20%20%20%20%7B%0A%20%20%20%20%20%20%20%20%20%20%20%20%20%20%20%20%20%20%20%20center%3A%20%5B0%2C%200%5D%2C%0A%20%20%20%20%20%20%20%20%20%20%20%20%20%20%20%20%20%20%20%20crs%3A%20L.CRS.EPSG3857%2C%0A%20%20%20%20%20%20%20%20%20%20%20%20%20%20%20%20%20%20%20%20zoom%3A%201%2C%0A%20%20%20%20%20%20%20%20%20%20%20%20%20%20%20%20%20%20%20%20zoomControl%3A%20true%2C%0A%20%20%20%20%20%20%20%20%20%20%20%20%20%20%20%20%20%20%20%20preferCanvas%3A%20false%2C%0A%20%20%20%20%20%20%20%20%20%20%20%20%20%20%20%20%20%20%20%20noWrap%3A%20true%2C%0A%20%20%20%20%20%20%20%20%20%20%20%20%20%20%20%20%7D%0A%20%20%20%20%20%20%20%20%20%20%20%20%29%3B%0A%0A%20%20%20%20%20%20%20%20%20%20%20%20%0A%0A%20%20%20%20%20%20%20%20%0A%20%20%20%20%0A%20%20%20%20%20%20%20%20%20%20%20%20var%20tile_layer_219bf604671748cd96680f95d126a37b%20%3D%20L.tileLayer%28%0A%20%20%20%20%20%20%20%20%20%20%20%20%20%20%20%20%22https%3A//%7Bs%7D.tile.openstreetmap.org/%7Bz%7D/%7Bx%7D/%7By%7D.png%22%2C%0A%20%20%20%20%20%20%20%20%20%20%20%20%20%20%20%20%7B%22attribution%22%3A%20%22Data%20by%20%5Cu0026copy%3B%20%5Cu003ca%20href%3D%5C%22http%3A//openstreetmap.org%5C%22%5Cu003eOpenStreetMap%5Cu003c/a%5Cu003e%2C%20under%20%5Cu003ca%20href%3D%5C%22http%3A//www.openstreetmap.org/copyright%5C%22%5Cu003eODbL%5Cu003c/a%5Cu003e.%22%2C%20%22detectRetina%22%3A%20false%2C%20%22maxNativeZoom%22%3A%2018%2C%20%22maxZoom%22%3A%2018%2C%20%22minZoom%22%3A%200%2C%20%22noWrap%22%3A%20false%2C%20%22opacity%22%3A%201%2C%20%22subdomains%22%3A%20%22abc%22%2C%20%22tms%22%3A%20false%7D%0A%20%20%20%20%20%20%20%20%20%20%20%20%29.addTo%28map_1ef6da4f48064a649b2c403159e787dd%29%3B%0A%20%20%20%20%20%20%20%20%0A%20%20%20%20%0A%20%20%20%20%20%20%20%20%20%20%20%20var%20tile_layer_a565058f9e3a4469989dc4d899e29d4e%20%3D%20L.tileLayer%28%0A%20%20%20%20%20%20%20%20%20%20%20%20%20%20%20%20%22https%3A//%7Bs%7D.tile.openstreetmap.org/%7Bz%7D/%7Bx%7D/%7By%7D.png%22%2C%0A%20%20%20%20%20%20%20%20%20%20%20%20%20%20%20%20%7B%22attribution%22%3A%20%22Data%20by%20%5Cu0026copy%3B%20%5Cu003ca%20href%3D%5C%22http%3A//openstreetmap.org%5C%22%5Cu003eOpenStreetMap%5Cu003c/a%5Cu003e%2C%20under%20%5Cu003ca%20href%3D%5C%22http%3A//www.openstreetmap.org/copyright%5C%22%5Cu003eODbL%5Cu003c/a%5Cu003e.%22%2C%20%22detectRetina%22%3A%20false%2C%20%22maxNativeZoom%22%3A%2018%2C%20%22maxZoom%22%3A%2018%2C%20%22minZoom%22%3A%200%2C%20%22noWrap%22%3A%20false%2C%20%22opacity%22%3A%201%2C%20%22subdomains%22%3A%20%22abc%22%2C%20%22tms%22%3A%20false%7D%0A%20%20%20%20%20%20%20%20%20%20%20%20%29.addTo%28map_1ef6da4f48064a649b2c403159e787dd%29%3B%0A%20%20%20%20%20%20%20%20%0A%20%20%20%20%0A%20%20%20%20%20%20%20%20%20%20%20%20var%20tile_layer_3f238583bcbc40509726aed2a811fcfb%20%3D%20L.tileLayer%28%0A%20%20%20%20%20%20%20%20%20%20%20%20%20%20%20%20%22https%3A//cartodb-basemaps-%7Bs%7D.global.ssl.fastly.net/light_all/%7Bz%7D/%7Bx%7D/%7By%7D.png%22%2C%0A%20%20%20%20%20%20%20%20%20%20%20%20%20%20%20%20%7B%22attribution%22%3A%20%22%5Cu0026copy%3B%20%5Cu003ca%20href%3D%5C%22http%3A//www.openstreetmap.org/copyright%5C%22%5Cu003eOpenStreetMap%5Cu003c/a%5Cu003e%20contributors%20%5Cu0026copy%3B%20%5Cu003ca%20href%3D%5C%22http%3A//cartodb.com/attributions%5C%22%5Cu003eCartoDB%5Cu003c/a%5Cu003e%2C%20CartoDB%20%5Cu003ca%20href%20%3D%5C%22http%3A//cartodb.com/attributions%5C%22%5Cu003eattributions%5Cu003c/a%5Cu003e%22%2C%20%22detectRetina%22%3A%20false%2C%20%22maxNativeZoom%22%3A%2018%2C%20%22maxZoom%22%3A%2018%2C%20%22minZoom%22%3A%200%2C%20%22noWrap%22%3A%20false%2C%20%22opacity%22%3A%201%2C%20%22subdomains%22%3A%20%22abc%22%2C%20%22tms%22%3A%20false%7D%0A%20%20%20%20%20%20%20%20%20%20%20%20%29.addTo%28map_1ef6da4f48064a649b2c403159e787dd%29%3B%0A%20%20%20%20%20%20%20%20%0A%20%20%20%20%0A%20%20%20%20%20%20%20%20%20%20%20%20var%20tile_layer_4b44f15c792145bbab3f6b104cd200b9%20%3D%20L.tileLayer%28%0A%20%20%20%20%20%20%20%20%20%20%20%20%20%20%20%20%22https%3A//stamen-tiles-%7Bs%7D.a.ssl.fastly.net/toner/%7Bz%7D/%7Bx%7D/%7By%7D.png%22%2C%0A%20%20%20%20%20%20%20%20%20%20%20%20%20%20%20%20%7B%22attribution%22%3A%20%22Map%20tiles%20by%20%5Cu003ca%20href%3D%5C%22http%3A//stamen.com%5C%22%5Cu003eStamen%20Design%5Cu003c/a%5Cu003e%2C%20under%20%5Cu003ca%20href%3D%5C%22http%3A//creativecommons.org/licenses/by/3.0%5C%22%5Cu003eCC%20BY%203.0%5Cu003c/a%5Cu003e.%20Data%20by%20%5Cu0026copy%3B%20%5Cu003ca%20href%3D%5C%22http%3A//openstreetmap.org%5C%22%5Cu003eOpenStreetMap%5Cu003c/a%5Cu003e%2C%20under%20%5Cu003ca%20href%3D%5C%22http%3A//www.openstreetmap.org/copyright%5C%22%5Cu003eODbL%5Cu003c/a%5Cu003e.%22%2C%20%22detectRetina%22%3A%20false%2C%20%22maxNativeZoom%22%3A%2018%2C%20%22maxZoom%22%3A%2018%2C%20%22minZoom%22%3A%200%2C%20%22noWrap%22%3A%20false%2C%20%22opacity%22%3A%201%2C%20%22subdomains%22%3A%20%22abc%22%2C%20%22tms%22%3A%20false%7D%0A%20%20%20%20%20%20%20%20%20%20%20%20%29.addTo%28map_1ef6da4f48064a649b2c403159e787dd%29%3B%0A%20%20%20%20%20%20%20%20%0A%20%20%20%20%0A%20%20%20%20%20%20%20%20%20%20%20%20var%20tile_layer_9d45b228ea2d4097be9c96ba94b105ea%20%3D%20L.tileLayer%28%0A%20%20%20%20%20%20%20%20%20%20%20%20%20%20%20%20%22https%3A//stamen-tiles-%7Bs%7D.a.ssl.fastly.net/terrain/%7Bz%7D/%7Bx%7D/%7By%7D.jpg%22%2C%0A%20%20%20%20%20%20%20%20%20%20%20%20%20%20%20%20%7B%22attribution%22%3A%20%22Map%20tiles%20by%20%5Cu003ca%20href%3D%5C%22http%3A//stamen.com%5C%22%5Cu003eStamen%20Design%5Cu003c/a%5Cu003e%2C%20under%20%5Cu003ca%20href%3D%5C%22http%3A//creativecommons.org/licenses/by/3.0%5C%22%5Cu003eCC%20BY%203.0%5Cu003c/a%5Cu003e.%20Data%20by%20%5Cu0026copy%3B%20%5Cu003ca%20href%3D%5C%22http%3A//openstreetmap.org%5C%22%5Cu003eOpenStreetMap%5Cu003c/a%5Cu003e%2C%20under%20%5Cu003ca%20href%3D%5C%22http%3A//creativecommons.org/licenses/by-sa/3.0%5C%22%5Cu003eCC%20BY%20SA%5Cu003c/a%5Cu003e.%22%2C%20%22detectRetina%22%3A%20false%2C%20%22maxNativeZoom%22%3A%2018%2C%20%22maxZoom%22%3A%2018%2C%20%22minZoom%22%3A%200%2C%20%22noWrap%22%3A%20false%2C%20%22opacity%22%3A%201%2C%20%22subdomains%22%3A%20%22abc%22%2C%20%22tms%22%3A%20false%7D%0A%20%20%20%20%20%20%20%20%20%20%20%20%29.addTo%28map_1ef6da4f48064a649b2c403159e787dd%29%3B%0A%20%20%20%20%20%20%20%20%0A%20%20%20%20%0A%20%20%20%20%20%20%20%20%20%20%20%20var%20marker_cluster_3e2e35d41e64452ea3fcdbbbb0f19ccd%20%3D%20L.markerClusterGroup%28%0A%20%20%20%20%20%20%20%20%20%20%20%20%20%20%20%20%7B%7D%0A%20%20%20%20%20%20%20%20%20%20%20%20%29%3B%0A%20%20%20%20%20%20%20%20%20%20%20%20map_1ef6da4f48064a649b2c403159e787dd.addLayer%28marker_cluster_3e2e35d41e64452ea3fcdbbbb0f19ccd%29%3B%0A%20%20%20%20%20%20%20%20%0A%20%20%20%20%0A%20%20%20%20%20%20%20%20%20%20%20%20var%20marker_19116fa0475e49ed86ba469e92d64f15%20%3D%20L.marker%28%0A%20%20%20%20%20%20%20%20%20%20%20%20%20%20%20%20%5B67.97%2C%2024.12%5D%2C%0A%20%20%20%20%20%20%20%20%20%20%20%20%20%20%20%20%7B%7D%0A%20%20%20%20%20%20%20%20%20%20%20%20%29.addTo%28marker_cluster_3e2e35d41e64452ea3fcdbbbb0f19ccd%29%3B%0A%20%20%20%20%20%20%20%20%0A%20%20%20%20%0A%20%20%20%20%20%20%20%20var%20popup_194011bfbafe49609ffe9729c02f7245%20%3D%20L.popup%28%7B%22maxWidth%22%3A%20%22100%25%22%7D%29%3B%0A%0A%20%20%20%20%20%20%20%20%0A%20%20%20%20%20%20%20%20%20%20%20%20var%20html_9b9173dc074f45a7a9bcbf6ab7473d4e%20%3D%20%24%28%60%3Cdiv%20id%3D%22html_9b9173dc074f45a7a9bcbf6ab7473d4e%22%20style%3D%22width%3A%20100.0%25%3B%20height%3A%20100.0%25%3B%22%3E%3C%21DOCTYPE%20html%3E%20%20%20%20%20%20%20%20%20%20%20%20%20%20%20%20%20%3Chtml%3E%20%20%20%20%20%20%20%20%20%20%20%20%20%20%20%20%20%3Clink%20rel%3D%22stylesheet%22%20href%3D%22https%3A//www.w3schools.com/w3css/4/w3.css%22%3E%20%20%20%20%20%20%20%20%20%20%20%20%20%20%20%20%20%3Cbody%3E%3Cdiv%20class%3D%22w3-container%22%3E%20%20%20%20%20%20%20%20%20%20%20%20%20%20%20%20%20%20%20%20%20%3Ctable%20width%3D%22200%22%20class%3D%22w3-striped%22%3E%20%20%20%20%20%20%20%20%20%20%20%20%20%20%20%20%20%3Ctr%3E%3Ctd%20colspan%3D%222%22%3EStilt%20Station%20info%3A%20%3C/td%3E%3C/tr%3E%3Ctr%3E%3Ctd%3EStilt%20id%3A%20%3C/td%3E%3Ctd%3EPAL%3C/td%3E%3C/tr%3E%3Ctr%3E%3Ctd%3EICOS%20id%3A%20%3C/td%3E%3Ctd%3E%3Ca%20href%3D%20%22http%3A//meta.icos-cp.eu/resources/stations/AS_PAL%22%3EPAL%3C/a%3E%3C/td%3E%3C/tr%3E%3Ctr%3E%3Ctd%3Elat%3A%20%3C/td%3E%3Ctd%3E67.97%3C/td%3E%3C/tr%3E%3Ctr%3E%3Ctd%3Elon%3A%20%3C/td%3E%3Ctd%3E24.12%3C/td%3E%3C/tr%3E%3C/table%3E%3C/div%3E%3C/body%3E%3C/html%3E%3C/div%3E%60%29%5B0%5D%3B%0A%20%20%20%20%20%20%20%20%20%20%20%20popup_194011bfbafe49609ffe9729c02f7245.setContent%28html_9b9173dc074f45a7a9bcbf6ab7473d4e%29%3B%0A%20%20%20%20%20%20%20%20%0A%0A%20%20%20%20%20%20%20%20marker_19116fa0475e49ed86ba469e92d64f15.bindPopup%28popup_194011bfbafe49609ffe9729c02f7245%29%0A%20%20%20%20%20%20%20%20%3B%0A%0A%20%20%20%20%20%20%20%20%0A%20%20%20%20%0A%20%20%20%20%0A%20%20%20%20%20%20%20%20%20%20%20%20var%20marker_f448311877424479a5a2f69a75d4fd14%20%3D%20L.marker%28%0A%20%20%20%20%20%20%20%20%20%20%20%20%20%20%20%20%5B61.85%2C%2024.29%5D%2C%0A%20%20%20%20%20%20%20%20%20%20%20%20%20%20%20%20%7B%7D%0A%20%20%20%20%20%20%20%20%20%20%20%20%29.addTo%28marker_cluster_3e2e35d41e64452ea3fcdbbbb0f19ccd%29%3B%0A%20%20%20%20%20%20%20%20%0A%20%20%20%20%0A%20%20%20%20%20%20%20%20var%20popup_4b1e8aee6edc46e7821cc622eaaf11db%20%3D%20L.popup%28%7B%22maxWidth%22%3A%20%22100%25%22%7D%29%3B%0A%0A%20%20%20%20%20%20%20%20%0A%20%20%20%20%20%20%20%20%20%20%20%20var%20html_0c8618eb6f08476ebfdad682c7ce1bb1%20%3D%20%24%28%60%3Cdiv%20id%3D%22html_0c8618eb6f08476ebfdad682c7ce1bb1%22%20style%3D%22width%3A%20100.0%25%3B%20height%3A%20100.0%25%3B%22%3E%3C%21DOCTYPE%20html%3E%20%20%20%20%20%20%20%20%20%20%20%20%20%20%20%20%20%3Chtml%3E%20%20%20%20%20%20%20%20%20%20%20%20%20%20%20%20%20%3Clink%20rel%3D%22stylesheet%22%20href%3D%22https%3A//www.w3schools.com/w3css/4/w3.css%22%3E%20%20%20%20%20%20%20%20%20%20%20%20%20%20%20%20%20%3Cbody%3E%3Cdiv%20class%3D%22w3-container%22%3E%20%20%20%20%20%20%20%20%20%20%20%20%20%20%20%20%20%20%20%20%20%3Ctable%20width%3D%22200%22%20class%3D%22w3-striped%22%3E%20%20%20%20%20%20%20%20%20%20%20%20%20%20%20%20%20%3Ctr%3E%3Ctd%20colspan%3D%222%22%3EStilt%20Station%20info%3A%20%3C/td%3E%3C/tr%3E%3Ctr%3E%3Ctd%3EStilt%20id%3A%20%3C/td%3E%3Ctd%3ESMR125%3C/td%3E%3C/tr%3E%3Ctr%3E%3Ctd%3EICOS%20id%3A%20%3C/td%3E%3Ctd%3E%3Ca%20href%3D%20%22http%3A//meta.icos-cp.eu/resources/stations/AS_SMR%22%3ESMR%3C/a%3E%3C/td%3E%3C/tr%3E%3Ctr%3E%3Ctd%3Elat%3A%20%3C/td%3E%3Ctd%3E61.85%3C/td%3E%3C/tr%3E%3Ctr%3E%3Ctd%3Elon%3A%20%3C/td%3E%3Ctd%3E24.29%3C/td%3E%3C/tr%3E%3C/table%3E%3C/div%3E%3C/body%3E%3C/html%3E%3C/div%3E%60%29%5B0%5D%3B%0A%20%20%20%20%20%20%20%20%20%20%20%20popup_4b1e8aee6edc46e7821cc622eaaf11db.setContent%28html_0c8618eb6f08476ebfdad682c7ce1bb1%29%3B%0A%20%20%20%20%20%20%20%20%0A%0A%20%20%20%20%20%20%20%20marker_f448311877424479a5a2f69a75d4fd14.bindPopup%28popup_4b1e8aee6edc46e7821cc622eaaf11db%29%0A%20%20%20%20%20%20%20%20%3B%0A%0A%20%20%20%20%20%20%20%20%0A%20%20%20%20%0A%20%20%20%20%0A%20%20%20%20%20%20%20%20%20%20%20%20var%20marker_ccb11ff5ab56448190c2c75811c89306%20%3D%20L.marker%28%0A%20%20%20%20%20%20%20%20%20%20%20%20%20%20%20%20%5B59.78%2C%2021.38%5D%2C%0A%20%20%20%20%20%20%20%20%20%20%20%20%20%20%20%20%7B%7D%0A%20%20%20%20%20%20%20%20%20%20%20%20%29.addTo%28marker_cluster_3e2e35d41e64452ea3fcdbbbb0f19ccd%29%3B%0A%20%20%20%20%20%20%20%20%0A%20%20%20%20%0A%20%20%20%20%20%20%20%20var%20popup_8758b8f135f74da8b65188f6f80b4cf5%20%3D%20L.popup%28%7B%22maxWidth%22%3A%20%22100%25%22%7D%29%3B%0A%0A%20%20%20%20%20%20%20%20%0A%20%20%20%20%20%20%20%20%20%20%20%20var%20html_58b3e997c57f4745bdc4ae15c55279bc%20%3D%20%24%28%60%3Cdiv%20id%3D%22html_58b3e997c57f4745bdc4ae15c55279bc%22%20style%3D%22width%3A%20100.0%25%3B%20height%3A%20100.0%25%3B%22%3E%3C%21DOCTYPE%20html%3E%20%20%20%20%20%20%20%20%20%20%20%20%20%20%20%20%20%3Chtml%3E%20%20%20%20%20%20%20%20%20%20%20%20%20%20%20%20%20%3Clink%20rel%3D%22stylesheet%22%20href%3D%22https%3A//www.w3schools.com/w3css/4/w3.css%22%3E%20%20%20%20%20%20%20%20%20%20%20%20%20%20%20%20%20%3Cbody%3E%3Cdiv%20class%3D%22w3-container%22%3E%20%20%20%20%20%20%20%20%20%20%20%20%20%20%20%20%20%20%20%20%20%3Ctable%20width%3D%22200%22%20class%3D%22w3-striped%22%3E%20%20%20%20%20%20%20%20%20%20%20%20%20%20%20%20%20%3Ctr%3E%3Ctd%20colspan%3D%222%22%3EStilt%20Station%20info%3A%20%3C/td%3E%3C/tr%3E%3Ctr%3E%3Ctd%3EStilt%20id%3A%20%3C/td%3E%3Ctd%3EUTO%3C/td%3E%3C/tr%3E%3Ctr%3E%3Ctd%3EICOS%20id%3A%20%3C/td%3E%3Ctd%3E%3Ca%20href%3D%20%22http%3A//meta.icos-cp.eu/resources/stations/AS_UTO%22%3EUTO%3C/a%3E%3C/td%3E%3C/tr%3E%3Ctr%3E%3Ctd%3Elat%3A%20%3C/td%3E%3Ctd%3E59.78%3C/td%3E%3C/tr%3E%3Ctr%3E%3Ctd%3Elon%3A%20%3C/td%3E%3Ctd%3E21.38%3C/td%3E%3C/tr%3E%3C/table%3E%3C/div%3E%3C/body%3E%3C/html%3E%3C/div%3E%60%29%5B0%5D%3B%0A%20%20%20%20%20%20%20%20%20%20%20%20popup_8758b8f135f74da8b65188f6f80b4cf5.setContent%28html_58b3e997c57f4745bdc4ae15c55279bc%29%3B%0A%20%20%20%20%20%20%20%20%0A%0A%20%20%20%20%20%20%20%20marker_ccb11ff5ab56448190c2c75811c89306.bindPopup%28popup_8758b8f135f74da8b65188f6f80b4cf5%29%0A%20%20%20%20%20%20%20%20%3B%0A%0A%20%20%20%20%20%20%20%20%0A%20%20%20%20%0A%20%20%20%20%0A%20%20%20%20%20%20%20%20%20%20%20%20var%20marker_33c5c0f0b6a941a8b6d368d9e489b30f%20%3D%20L.marker%28%0A%20%20%20%20%20%20%20%20%20%20%20%20%20%20%20%20%5B61.85%2C%2024.29%5D%2C%0A%20%20%20%20%20%20%20%20%20%20%20%20%20%20%20%20%7B%7D%0A%20%20%20%20%20%20%20%20%20%20%20%20%29.addTo%28marker_cluster_3e2e35d41e64452ea3fcdbbbb0f19ccd%29%3B%0A%20%20%20%20%20%20%20%20%0A%20%20%20%20%0A%20%20%20%20%20%20%20%20var%20popup_e73fbf84a1024d01ae236160ecd0a0b9%20%3D%20L.popup%28%7B%22maxWidth%22%3A%20%22100%25%22%7D%29%3B%0A%0A%20%20%20%20%20%20%20%20%0A%20%20%20%20%20%20%20%20%20%20%20%20var%20html_3f3b7a398b7046fc99fb4c62068640eb%20%3D%20%24%28%60%3Cdiv%20id%3D%22html_3f3b7a398b7046fc99fb4c62068640eb%22%20style%3D%22width%3A%20100.0%25%3B%20height%3A%20100.0%25%3B%22%3E%3C%21DOCTYPE%20html%3E%20%20%20%20%20%20%20%20%20%20%20%20%20%20%20%20%20%3Chtml%3E%20%20%20%20%20%20%20%20%20%20%20%20%20%20%20%20%20%3Clink%20rel%3D%22stylesheet%22%20href%3D%22https%3A//www.w3schools.com/w3css/4/w3.css%22%3E%20%20%20%20%20%20%20%20%20%20%20%20%20%20%20%20%20%3Cbody%3E%3Cdiv%20class%3D%22w3-container%22%3E%20%20%20%20%20%20%20%20%20%20%20%20%20%20%20%20%20%20%20%20%20%3Ctable%20width%3D%22200%22%20class%3D%22w3-striped%22%3E%20%20%20%20%20%20%20%20%20%20%20%20%20%20%20%20%20%3Ctr%3E%3Ctd%20colspan%3D%222%22%3EStilt%20Station%20info%3A%20%3C/td%3E%3C/tr%3E%3Ctr%3E%3Ctd%3EStilt%20id%3A%20%3C/td%3E%3Ctd%3ESMR127%3C/td%3E%3C/tr%3E%3Ctr%3E%3Ctd%3EICOS%20id%3A%20%3C/td%3E%3Ctd%3E%3Ca%20href%3D%20%22http%3A//meta.icos-cp.eu/resources/stations/AS_SMR%22%3ESMR%3C/a%3E%3C/td%3E%3C/tr%3E%3Ctr%3E%3Ctd%3Elat%3A%20%3C/td%3E%3Ctd%3E61.85%3C/td%3E%3C/tr%3E%3Ctr%3E%3Ctd%3Elon%3A%20%3C/td%3E%3Ctd%3E24.29%3C/td%3E%3C/tr%3E%3C/table%3E%3C/div%3E%3C/body%3E%3C/html%3E%3C/div%3E%60%29%5B0%5D%3B%0A%20%20%20%20%20%20%20%20%20%20%20%20popup_e73fbf84a1024d01ae236160ecd0a0b9.setContent%28html_3f3b7a398b7046fc99fb4c62068640eb%29%3B%0A%20%20%20%20%20%20%20%20%0A%0A%20%20%20%20%20%20%20%20marker_33c5c0f0b6a941a8b6d368d9e489b30f.bindPopup%28popup_e73fbf84a1024d01ae236160ecd0a0b9%29%0A%20%20%20%20%20%20%20%20%3B%0A%0A%20%20%20%20%20%20%20%20%0A%20%20%20%20%0A%20%20%20%20%0A%20%20%20%20%20%20%20%20%20%20%20%20var%20marker_e08144d816ad46bead7f2bcf794f4f90%20%3D%20L.marker%28%0A%20%20%20%20%20%20%20%20%20%20%20%20%20%20%20%20%5B62.91%2C%2027.66%5D%2C%0A%20%20%20%20%20%20%20%20%20%20%20%20%20%20%20%20%7B%7D%0A%20%20%20%20%20%20%20%20%20%20%20%20%29.addTo%28marker_cluster_3e2e35d41e64452ea3fcdbbbb0f19ccd%29%3B%0A%20%20%20%20%20%20%20%20%0A%20%20%20%20%0A%20%20%20%20%20%20%20%20var%20popup_b6b5e61cafff414e8a5a3bda46289778%20%3D%20L.popup%28%7B%22maxWidth%22%3A%20%22100%25%22%7D%29%3B%0A%0A%20%20%20%20%20%20%20%20%0A%20%20%20%20%20%20%20%20%20%20%20%20var%20html_a5ec9b93f2ca4d7388e83df4b021bb65%20%3D%20%24%28%60%3Cdiv%20id%3D%22html_a5ec9b93f2ca4d7388e83df4b021bb65%22%20style%3D%22width%3A%20100.0%25%3B%20height%3A%20100.0%25%3B%22%3E%3C%21DOCTYPE%20html%3E%20%20%20%20%20%20%20%20%20%20%20%20%20%20%20%20%20%3Chtml%3E%20%20%20%20%20%20%20%20%20%20%20%20%20%20%20%20%20%3Clink%20rel%3D%22stylesheet%22%20href%3D%22https%3A//www.w3schools.com/w3css/4/w3.css%22%3E%20%20%20%20%20%20%20%20%20%20%20%20%20%20%20%20%20%3Cbody%3E%3Cdiv%20class%3D%22w3-container%22%3E%20%20%20%20%20%20%20%20%20%20%20%20%20%20%20%20%20%20%20%20%20%3Ctable%20width%3D%22200%22%20class%3D%22w3-striped%22%3E%20%20%20%20%20%20%20%20%20%20%20%20%20%20%20%20%20%3Ctr%3E%3Ctd%20colspan%3D%222%22%3EStilt%20Station%20info%3A%20%3C/td%3E%3C/tr%3E%3Ctr%3E%3Ctd%3EStilt%20id%3A%20%3C/td%3E%3Ctd%3EPUI%3C/td%3E%3C/tr%3E%3Ctr%3E%3Ctd%3EICOS%20id%3A%20%3C/td%3E%3Ctd%3E%3Ca%20href%3D%20%22http%3A//meta.icos-cp.eu/resources/stations/AS_PUI%22%3EPUI%3C/a%3E%3C/td%3E%3C/tr%3E%3Ctr%3E%3Ctd%3Elat%3A%20%3C/td%3E%3Ctd%3E62.91%3C/td%3E%3C/tr%3E%3Ctr%3E%3Ctd%3Elon%3A%20%3C/td%3E%3Ctd%3E27.66%3C/td%3E%3C/tr%3E%3C/table%3E%3C/div%3E%3C/body%3E%3C/html%3E%3C/div%3E%60%29%5B0%5D%3B%0A%20%20%20%20%20%20%20%20%20%20%20%20popup_b6b5e61cafff414e8a5a3bda46289778.setContent%28html_a5ec9b93f2ca4d7388e83df4b021bb65%29%3B%0A%20%20%20%20%20%20%20%20%0A%0A%20%20%20%20%20%20%20%20marker_e08144d816ad46bead7f2bcf794f4f90.bindPopup%28popup_b6b5e61cafff414e8a5a3bda46289778%29%0A%20%20%20%20%20%20%20%20%3B%0A%0A%20%20%20%20%20%20%20%20%0A%20%20%20%20%0A%20%20%20%20%0A%20%20%20%20%20%20%20%20%20%20%20%20map_1ef6da4f48064a649b2c403159e787dd.fitBounds%28%0A%20%20%20%20%20%20%20%20%20%20%20%20%20%20%20%20%5B%5B59.78%2C%2021.38%5D%2C%20%5B67.97%2C%2027.66%5D%5D%2C%0A%20%20%20%20%20%20%20%20%20%20%20%20%20%20%20%20%7B%7D%0A%20%20%20%20%20%20%20%20%20%20%20%20%29%3B%0A%20%20%20%20%20%20%20%20%0A%20%20%20%20%0A%20%20%20%20%20%20%20%20%20%20%20%20var%20layer_control_736a054c1c4c445e8d5aa158b1dc2383%20%3D%20%7B%0A%20%20%20%20%20%20%20%20%20%20%20%20%20%20%20%20base_layers%20%3A%20%7B%0A%20%20%20%20%20%20%20%20%20%20%20%20%20%20%20%20%20%20%20%20%22openstreetmap%22%20%3A%20tile_layer_a565058f9e3a4469989dc4d899e29d4e%2C%0A%20%20%20%20%20%20%20%20%20%20%20%20%20%20%20%20%20%20%20%20%22cartodbpositron%22%20%3A%20tile_layer_3f238583bcbc40509726aed2a811fcfb%2C%0A%20%20%20%20%20%20%20%20%20%20%20%20%20%20%20%20%20%20%20%20%22stamentoner%22%20%3A%20tile_layer_4b44f15c792145bbab3f6b104cd200b9%2C%0A%20%20%20%20%20%20%20%20%20%20%20%20%20%20%20%20%20%20%20%20%22stamenterrain%22%20%3A%20tile_layer_9d45b228ea2d4097be9c96ba94b105ea%2C%0A%20%20%20%20%20%20%20%20%20%20%20%20%20%20%20%20%7D%2C%0A%20%20%20%20%20%20%20%20%20%20%20%20%20%20%20%20overlays%20%3A%20%20%7B%0A%20%20%20%20%20%20%20%20%20%20%20%20%20%20%20%20%20%20%20%20%22StiltStations%22%20%3A%20marker_cluster_3e2e35d41e64452ea3fcdbbbb0f19ccd%2C%0A%20%20%20%20%20%20%20%20%20%20%20%20%20%20%20%20%7D%2C%0A%20%20%20%20%20%20%20%20%20%20%20%20%7D%3B%0A%20%20%20%20%20%20%20%20%20%20%20%20L.control.layers%28%0A%20%20%20%20%20%20%20%20%20%20%20%20%20%20%20%20layer_control_736a054c1c4c445e8d5aa158b1dc2383.base_layers%2C%0A%20%20%20%20%20%20%20%20%20%20%20%20%20%20%20%20layer_control_736a054c1c4c445e8d5aa158b1dc2383.overlays%2C%0A%20%20%20%20%20%20%20%20%20%20%20%20%20%20%20%20%7B%22autoZIndex%22%3A%20true%2C%20%22collapsed%22%3A%20true%2C%20%22position%22%3A%20%22topright%22%7D%0A%20%20%20%20%20%20%20%20%20%20%20%20%29.addTo%28map_1ef6da4f48064a649b2c403159e787dd%29%3B%0A%20%20%20%20%20%20%20%20%20%20%20%20tile_layer_3f238583bcbc40509726aed2a811fcfb.remove%28%29%3B%0A%20%20%20%20%20%20%20%20%20%20%20%20tile_layer_4b44f15c792145bbab3f6b104cd200b9.remove%28%29%3B%0A%20%20%20%20%20%20%20%20%20%20%20%20tile_layer_9d45b228ea2d4097be9c96ba94b105ea.remove%28%29%3B%0A%20%20%20%20%20%20%20%20%0A%3C/script%3E onload=\"this.contentDocument.open();this.contentDocument.write(    decodeURIComponent(this.getAttribute('data-html')));this.contentDocument.close();\" allowfullscreen webkitallowfullscreen mozallowfullscreen></iframe></div></div>"
      ],
      "text/plain": [
       "<folium.folium.Map at 0x7fdeae0df670>"
      ]
     },
     "execution_count": 14,
     "metadata": {},
     "output_type": "execute_result"
    }
   ],
   "source": [
    "station.find(country='finland' ,outfmt='map')"
   ]
  },
  {
   "cell_type": "code",
   "execution_count": 15,
   "id": "olive-outline",
   "metadata": {},
   "outputs": [
    {
     "data": {
      "application/vnd.jupyter.widget-view+json": {
       "model_id": "398afed7529e4db996f07f770c57fb68",
       "version_major": 2,
       "version_minor": 0
      },
      "text/plain": [
       "  0%|          | 0/170 [00:00<?, ?it/s]"
      ]
     },
     "metadata": {},
     "output_type": "display_data"
    }
   ],
   "source": [
    "station.find(country='finland' ,outfmt='map').save('myMap.html')"
   ]
  }
 ],
 "metadata": {
  "kernelspec": {
   "display_name": "Python 3",
   "language": "python",
   "name": "python3"
  },
  "language_info": {
   "codemirror_mode": {
    "name": "ipython",
    "version": 3
   },
   "file_extension": ".py",
   "mimetype": "text/x-python",
   "name": "python",
   "nbconvert_exporter": "python",
   "pygments_lexer": "ipython3",
   "version": "3.8.6"
  },
  "toc": {
   "base_numbering": 1,
   "nav_menu": {},
   "number_sections": false,
   "sideBar": true,
   "skip_h1_title": true,
   "title_cell": "Table of Contents",
   "title_sidebar": "Contents",
   "toc_cell": false,
   "toc_position": {
    "height": "calc(100% - 180px)",
    "left": "10px",
    "top": "150px",
    "width": "165px"
   },
   "toc_section_display": true,
   "toc_window_display": true
  }
 },
 "nbformat": 4,
 "nbformat_minor": 5
}
