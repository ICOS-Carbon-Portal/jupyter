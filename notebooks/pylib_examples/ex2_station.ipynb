{
 "cells": [
  {
   "cell_type": "markdown",
   "metadata": {},
   "source": [
    "<img src='https://www.icos-cp.eu/sites/default/files/2017-11/ICOS_CP_logo.png' width=400 align=right>\n",
    "\n",
    "# ICOS Carbon Portal Python Libraries: icoscp_core\n",
    "\n",
    "This example uses a foundational library called `icoscp_core` which can be used to access time-series ICOS data that are <i>previewable</i> in the ICOS Data Portal. \"Previewable\" means that it is possible to visualize the data variables in the preview plot. The library can also be used to access (meta-)data from [ICOS Cities](https://citydata.icos-cp.eu/portal/) and [SITES](https://data.fieldsites.se/portal/) data repositories. \n",
    "\n",
    "Documentation of the library, including information on running it locally, can be found on [PyPI.org](https://pypi.org/project/icoscp_core/).\n",
    "\n",
    "\n",
    "# Example: Explore ICOS stations and list their data\n"
   ]
  },
  {
   "cell_type": "markdown",
   "metadata": {},
   "source": [
    "## Import the library"
   ]
  },
  {
   "cell_type": "code",
   "execution_count": null,
   "metadata": {},
   "outputs": [],
   "source": [
    "from icoscp_core.icos import meta, station_class_lookup"
   ]
  },
  {
   "cell_type": "markdown",
   "metadata": {},
   "source": [
    "## Get help"
   ]
  },
  {
   "cell_type": "code",
   "execution_count": null,
   "metadata": {
    "tags": []
   },
   "outputs": [],
   "source": [
    "import icoscp_core\n",
    "help(meta.list_stations)\n",
    "#help(icoscp_core.queries.stationlist.StationLite)"
   ]
  },
  {
   "cell_type": "markdown",
   "metadata": {},
   "source": [
    "## List of stations\n",
    "Get a list of all ICOS stations as a pandas dataframe table with basic information. Only final certified ICOS stations are listed.\n",
    "<br>Good to know:\n",
    "- uri => landing page URI and stable metadata id for the station at the ICOS Carbon Portal\n",
    "- id  => ICOS-internal station id\n",
    "- elevation => meter above sea level\n",
    "- type_uri => URI representing the type of station, last segment of the URI: ES=EcoSystem, AS=Atmosphere, OS=Ocean\n"
   ]
  },
  {
   "cell_type": "code",
   "execution_count": null,
   "metadata": {},
   "outputs": [],
   "source": [
    "import pandas as pd\n",
    "\n",
    "icoslike_stations = meta.list_stations()\n",
    "\n",
    "icos_stations = [\n",
    "    s for s in icoslike_stations\n",
    "    # only stations with ICOS station class are proper ICOS stations\n",
    "    if station_class_lookup().get(s.uri)\n",
    "]\n",
    "\n",
    "pd.DataFrame(icos_stations)"
   ]
  },
  {
   "cell_type": "markdown",
   "metadata": {},
   "source": [
    "## Map of stations\n",
    "Generate a folium map of stations. Each marker in the map represents a station and contains station related information."
   ]
  },
  {
   "cell_type": "code",
   "execution_count": null,
   "metadata": {},
   "outputs": [],
   "source": [
    "import folium\n",
    "\n",
    "icon_lookup = {}\n",
    "for st_class in [\"AS\", \"ES\", \"OS\"]:\n",
    "    st_class_uri = f\"http://meta.icos-cp.eu/ontologies/cpmeta/{st_class}\"\n",
    "    icon_uri = f\"https://static.icos-cp.eu/share/stations/icons/{st_class.lower()}.png\"\n",
    "    icon_lookup[st_class_uri] = icon_uri\n",
    "\n",
    "myMap = folium.Map(location=[53, 0], zoom_start=4)\n",
    "\n",
    "for s in icos_stations:\n",
    "\n",
    "    if s.geo_json:\n",
    "        folium.GeoJson(\n",
    "            data=s.geo_json,\n",
    "            tooltip=s.label,\n",
    "            marker=folium.CircleMarker()\n",
    "        ).add_to(myMap)\n",
    "\n",
    "    if s.lat:\n",
    "        icon_url = icon_lookup.get(s.type_uri)\n",
    "        folium.Marker(\n",
    "            location=[s.lat, s.lon],\n",
    "            tooltip=s.label,\n",
    "            icon=folium.CustomIcon(icon_url, (23, 28)) if icon_url is not None else None\n",
    "        ).add_to(myMap)\n",
    "myMap"
   ]
  },
  {
   "cell_type": "markdown",
   "metadata": {},
   "source": [
    "## Station meta data\n",
    "\n",
    "### Fetch and use station metadata"
   ]
  },
  {
   "cell_type": "code",
   "execution_count": null,
   "metadata": {},
   "outputs": [],
   "source": [
    "# pick a station from the list of stations above, use its URI to identify it\n",
    "zep_uri = \"http://meta.icos-cp.eu/resources/stations/AS_ZEP\"\n",
    "zep = meta.get_station_meta(zep_uri)"
   ]
  },
  {
   "cell_type": "code",
   "execution_count": null,
   "metadata": {},
   "outputs": [],
   "source": [
    "zep.id"
   ]
  },
  {
   "cell_type": "code",
   "execution_count": null,
   "metadata": {},
   "outputs": [],
   "source": [
    "zep.org.name"
   ]
  },
  {
   "cell_type": "code",
   "execution_count": null,
   "metadata": {},
   "outputs": [],
   "source": [
    "zep.org.self.uri"
   ]
  },
  {
   "cell_type": "code",
   "execution_count": null,
   "metadata": {},
   "outputs": [],
   "source": [
    "zep.location"
   ]
  },
  {
   "cell_type": "code",
   "execution_count": null,
   "metadata": {},
   "outputs": [],
   "source": [
    "zep.pictures"
   ]
  },
  {
   "cell_type": "code",
   "execution_count": null,
   "metadata": {},
   "outputs": [],
   "source": [
    "zep.specificInfo"
   ]
  },
  {
   "cell_type": "code",
   "execution_count": null,
   "metadata": {},
   "outputs": [],
   "source": [
    "zep.staff"
   ]
  },
  {
   "cell_type": "markdown",
   "metadata": {},
   "source": [
    "### Station metadata reference\n",
    "\n",
    "Available (nested) metadata properties can be discovered with Tab-completion after \".\"\n",
    "\n",
    "For a more principled discovery of the metadata properties, one can examine Python documentation for respective types as follows."
   ]
  },
  {
   "cell_type": "code",
   "execution_count": null,
   "metadata": {},
   "outputs": [],
   "source": [
    "from icoscp_core import metacore\n",
    "from icoscp_core.metaclient import Station\n",
    "help(Station)\n",
    "#help(metacore.Organization)\n",
    "#help(metacore.UriResource)\n",
    "#metacore.URI # alias for str\n",
    "#help(metacore.Position)\n",
    "#help(icoscp_core.rolemeta.Membership)\n",
    "#help(icoscp_core.rolemeta.RoleDetails)\n",
    "#help(metacore.Funding)\n",
    "#metacore.StationSpecifics\n",
    "#help(metacore.AtcStationSpecifics)\n",
    "#metacore.IcosStationClass"
   ]
  },
  {
   "cell_type": "markdown",
   "metadata": {},
   "source": [
    "## Data associated with a station\n",
    "List all L2 data objects associated with a specific station."
   ]
  },
  {
   "cell_type": "code",
   "execution_count": null,
   "metadata": {},
   "outputs": [],
   "source": [
    "# first discover all L2 data types\n",
    "l2_data_types = [dt for dt in meta.list_datatypes() if dt.data_level == 2]\n",
    "data_objs = meta.list_data_objects(datatype=l2_data_types, station=zep_uri)\n",
    "pd.DataFrame(data_objs)"
   ]
  }
 ],
 "metadata": {
  "kernelspec": {
   "display_name": "Python 3 (ipykernel)",
   "language": "python",
   "name": "python3"
  },
  "language_info": {
   "codemirror_mode": {
    "name": "ipython",
    "version": 3
   },
   "file_extension": ".py",
   "mimetype": "text/x-python",
   "name": "python",
   "nbconvert_exporter": "python",
   "pygments_lexer": "ipython3",
   "version": "3.10.6"
  },
  "toc": {
   "base_numbering": 1,
   "nav_menu": {},
   "number_sections": false,
   "sideBar": true,
   "skip_h1_title": false,
   "title_cell": "Table of Contents",
   "title_sidebar": "Contents",
   "toc_cell": false,
   "toc_position": {
    "height": "calc(100% - 180px)",
    "left": "10px",
    "top": "150px",
    "width": "282.898px"
   },
   "toc_section_display": true,
   "toc_window_display": true
  }
 },
 "nbformat": 4,
 "nbformat_minor": 4
}
