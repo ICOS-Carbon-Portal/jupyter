{
 "cells": [
  {
   "cell_type": "markdown",
   "metadata": {},
   "source": [
    "<img src=\"../ancillarydata/logos/LundUniversity_C2line_RGB.png\" width=\"150\" align=\"left\"/>\n",
    "<br>\n",
    "<img src=\"../ancillarydata/logos/Icos_Logo_CMYK_Regular_SMpng.png\" width=\"327\" align=\"right\"/>\n",
    "<br>"
   ]
  },
  {
   "cell_type": "markdown",
   "metadata": {},
   "source": [
    "<br>\n",
    "\n",
    "# <font color=#B98F57>PhD course</font>\n",
    "### <font color=#000083>From CO$_2$ in situ measurements to carbon balance maps as a tool to support national carbon accounting</font>\n",
    "\n",
    "<br>\n",
    "\n",
    "**Organized by:** Lund University dept. of Physical Geography & Ecosystem Science and ICOS ERIC <br>\n",
    "**Funded by:**    Lund University dept. of Physical Geography & Ecosystem Science, ICOS ERIC and ClimBEco <br>\n",
    "**Course dates:** March 9th 2020 - March 13th 2020 <br>\n",
    "**Location:** Lund, Sweden\n",
    "\n",
    "**Notebook developed by:** Karolina Pantazatou\n",
    "\n"
   ]
  },
  {
   "cell_type": "markdown",
   "metadata": {},
   "source": [
    "<a id='introduction'></a>"
   ]
  },
  {
   "cell_type": "markdown",
   "metadata": {},
   "source": [
    "# Inspect variables in FLUXNET-files \n",
    "In this course you will work with data from 18 stations in northern Europe. The aim of this notebook is to help you inspect all variables included in the corresponding FLUXNET-files.\n",
    "\n",
    "\n",
    "The inspection is done by viewing a sequence of interactive plots. You may update the content of an interactive plot  using widgets (e.g. dropdown lists, checkboxes). It is also possible to interact with the content of the plot by using the plot toolbox (found on the right side of the plot). Some variables are presented with an interactive legend. In this case, it is possible to switch on or off a layer, simply by clicking on its name in the legend.\n",
    "\n",
    "\n",
    "An interactive map is produced at every run with the selected station highlighted in red. Click on the markers to view some summarized information about the stations. If you click on the link provided in the popup, you will be redirected to the _European Fluxes Database Cluster_ webpage which includes more detailed information regarding the selected station.\n",
    "\n",
    "\n",
    "If you wish to view a more detailed description of the FLUXNET variables click [here](https://fluxnet.fluxdata.org/data/fluxnet2015-dataset/fullset-data-product/).\n",
    "\n",
    "<br>\n",
    "<br>\n",
    "\n",
    "# Instructions on how to Run the Notebook\n",
    "Go to the menu at the top of the page and click on __Kernel__  and then __Restart & Run All__, to execute all the code in the notebook.\n",
    "\n",
    "<br>\n",
    "<br>\n",
    "\n",
    "<img src=\"../ancillarydata/images/restart_run_all_nb_pic.png\" width=\"250\" align=\"center\"/>\n",
    "\n",
    "<br>\n",
    "<br>\n",
    "\n",
    "When your notebook has finished executing you will be redirected to the bottom of the page. Use the links to move back to the top. Select which part of the notebook you wish to work with; _daily values_ or _half-hourly values_ using the corresponding links and start interacting with the widgets.  "
   ]
  },
  {
   "cell_type": "code",
   "execution_count": null,
   "metadata": {},
   "outputs": [],
   "source": [
    "#Run tools notebook:\n",
    "%run ./tools.ipynb"
   ]
  },
  {
   "cell_type": "markdown",
   "metadata": {},
   "source": [
    "<br>\n",
    "<br>\n",
    "<div style=\"text-align: right\"> \n",
    "    <a href=\"#introduction\">Back to top</a>\n",
    "</div>"
   ]
  },
  {
   "cell_type": "markdown",
   "metadata": {},
   "source": [
    "<a id='fluxnet_daily'></a>\n",
    "<br>\n",
    "<br>"
   ]
  },
  {
   "cell_type": "markdown",
   "metadata": {},
   "source": [
    "## Inspect FLUXNET-files with daily values \n",
    "This part is dedicated on presenting plots of variables in FLUXNET-files with daily values.\n",
    "\n",
    "<br>\n",
    "<div style=\"text-align: right\"> \n",
    "    <a href=\"#fluxnet_daily_plot\">Go to plot</a>\n",
    "</div>"
   ]
  },
  {
   "cell_type": "markdown",
   "metadata": {},
   "source": [
    "<a id='fluxnet_daily_plot'></a>"
   ]
  },
  {
   "cell_type": "code",
   "execution_count": null,
   "metadata": {
    "scrolled": false
   },
   "outputs": [],
   "source": [
    "#Call function to display widgets:\n",
    "create_fluxnet_dd_widgets()\n",
    "    "
   ]
  },
  {
   "cell_type": "markdown",
   "metadata": {},
   "source": [
    "<br>\n",
    "<br>\n",
    "<div style=\"text-align: right\"> \n",
    "    <a href=\"#introduction\">Back to top</a>\n",
    "</div>"
   ]
  },
  {
   "cell_type": "markdown",
   "metadata": {},
   "source": [
    "# Data references\n",
    "    \n",
    "   \n",
    "Drought 2018 Team & ICOS Ecosystem Thematic Centre (2020). Drought-2018 ecosystem eddy covariance flux product in FLUXNET-Archive format - release 2019-2 (Version 1.0). ICOS Carbon Portal. https://doi.org/10.18160/yvr0-4898\n",
    "\n",
    "<br>\n",
    "<br>\n",
    "<div style=\"text-align: right\"> \n",
    "    <a href=\"#intro\">Back to top</a>\n",
    "</div>\n",
    "<br>\n",
    "<br>"
   ]
  },
  {
   "cell_type": "markdown",
   "metadata": {},
   "source": [
    "<br>\n",
    "<br>\n",
    "<br>\n",
    "<br>\n",
    "<img src=\"../ancillarydata/logos/sponsors_climbeco_course_2020.PNG\" width=\"1000\" align=\"left\"/>\n",
    "<br>\n",
    "<br>"
   ]
  }
 ],
 "metadata": {
  "kernelspec": {
   "display_name": "Python 3",
   "language": "python",
   "name": "python3"
  },
  "language_info": {
   "codemirror_mode": {
    "name": "ipython",
    "version": 3
   },
   "file_extension": ".py",
   "mimetype": "text/x-python",
   "name": "python",
   "nbconvert_exporter": "python",
   "pygments_lexer": "ipython3",
   "version": "3.8.4"
  }
 },
 "nbformat": 4,
 "nbformat_minor": 2
}
