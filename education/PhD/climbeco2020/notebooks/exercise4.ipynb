{
 "cells": [
  {
   "cell_type": "markdown",
   "metadata": {},
   "source": [
    "<img src=\"../ancillarydata/logos/LundUniversity_C2line_RGB.png\" width=\"150\" align=\"left\"/>\n",
    "<br>\n",
    "<img src=\"../ancillarydata/logos/Icos_Logo_CMYK_Regular_SMpng.png\" width=\"327\" align=\"right\"/>\n",
    "<br>"
   ]
  },
  {
   "cell_type": "markdown",
   "metadata": {},
   "source": [
    "<br>\n",
    "\n",
    "# <font color=#B98F57>PhD course</font>\n",
    "### <font color=#000083>From CO$_2$ in situ measurements to carbon balance maps as a tool to support national carbon accounting</font>\n",
    "\n",
    "<br>\n",
    "\n",
    "**Organized by:** Lund University dept. of Physical Geography & Ecosystem Science and ICOS ERIC <br>\n",
    "**Funded by:**    Lund University dept. of Physical Geography & Ecosystem Science, ICOS ERIC and ClimBEco <br>\n",
    "**Course dates:** March 9th 2020 - March 13th 2020 <br>\n",
    "**Location:** Lund, Sweden\n",
    "\n",
    "**Exercise developed by:** Lars Harrie, Claudio D' Onofrio & Karolina Pantazatou\n",
    "\n",
    "<br>\n",
    "\n",
    "**Data references:** For more information regarding the datasets used in this exercise please click on the [link](#data_ref).\n"
   ]
  },
  {
   "cell_type": "markdown",
   "metadata": {},
   "source": [
    "<a id=\"intro\"></a>"
   ]
  },
  {
   "cell_type": "markdown",
   "metadata": {},
   "source": [
    "<br>\n",
    "<br>\n",
    "\n",
    "\n",
    "# <font color=#800000> Exercise 4</font>  \n",
    "## _Estimating national budgets_\n",
    "<br>\n",
    "\n",
    "This exercise package is focusing on how to use country masks on modelling results (i.e. vegetation modelling, inverse modelling) to estimate national budgets. You will use modelling results with different spatial resolutions together with country masks of different resolution and/or country coverage (i.e. incl. Exclusive Economic Zones - EEZ or not incl. EEZ).\n",
    "\n",
    "<b>INPUT DATA</b>\n",
    "\n",
    "- EDGAR annual total emissions (in 0.1 and 0.5 deg resolutions) --- > anthropogenic emissions\n",
    "- LUMIA output (0.5 deg resolution) --- > biospheric fluxes (annual totals need to be computed)\n",
    "- Country masks\n",
    "\n",
    "    - EEZ (0.1 deg grid resolution)\n",
    "    - EEZ (0.5 deg grid resolution)\n",
    "    - No EEZ (0.1 deg grid resolution)\n",
    "    - No EEZ (0.5 deg grid resolution)\n",
    "\n",
    "More infos about marine regions, borders etc: [marine regions, interactive map](http://www.marineregions.org/eezsearch.php) , [wiki: exclusive economic zone](https://en.wikipedia.org/wiki/Exclusive_economic_zone)\n",
    "\n",
    "More information about the EDGAR fossil fuel emission can be found [HERE](https://edgar.jrc.ec.europa.eu/overview.php?v=booklet2019#)\n",
    "\n",
    "The exercise includes the following tasks:\n",
    "\n",
    "1. Visually inspect an [interactive map](#cmask_map) presenting country masks (EEZ & No EEZ) in different resolutions (0.1 degree or 0.5 degree).\n",
    "2. Select 2 countries (e.g. \"Sweden\" and \"Switzerland\", one country with coastal borders and one without). Create a [plot comparing EDGAR-data with different combinations of country masks](#edgar_anthrop_emis) (i.e. EEZ or No EEZ) and EDGAR grid-resolutions (0.1 deg or 0.5 deg) for every country. Do you see any differences?\n",
    "3. Create a [plot showing the differences in estimated national budgets](#national_budgets) for 2 countries with EDGAR-data and LUMIA-data of 0.5 deg grid resolution with and without EEZ country masks."
   ]
  },
  {
   "cell_type": "code",
   "execution_count": null,
   "metadata": {},
   "outputs": [],
   "source": [
    "# imort some helper functions and libraries\n",
    "%run ./tools.ipynb"
   ]
  },
  {
   "cell_type": "markdown",
   "metadata": {},
   "source": [
    "<a id=\"cmask_map\"></a>"
   ]
  },
  {
   "cell_type": "markdown",
   "metadata": {},
   "source": [
    "## <font color='#80000'>Task 1</font> - Country mask map\n",
    "In this task you will visually inspect differences between different country masks (including or excluding EEZ) and different country mask resolutions. Use the form below to select a country, a type of country mask an a grid resolution for the country mask. Click on the ```Run```-button to view the results of your selection.\n",
    "\n",
    "Use the interactive map to zoom in to the country boarders and activate the ```Hover```-tool from the toolbox located on the right side of your map. Hover over the country boundaries to view the how big part of the cell is included in the country mask."
   ]
  },
  {
   "cell_type": "code",
   "execution_count": null,
   "metadata": {},
   "outputs": [],
   "source": [
    "#Call function to display widgets:\n",
    "cmask_widget_form()"
   ]
  },
  {
   "cell_type": "markdown",
   "metadata": {},
   "source": [
    "<div style=\"text-align: right\">    <a href=\"#intro\">Back to top</a> </div><a id=\"edgar_anthrop_emis\"></a>"
   ]
  },
  {
   "cell_type": "markdown",
   "metadata": {},
   "source": [
    "## <font color='#800000'>Task 2</font> - Annual total anthropogenic emissions per country (EDGAR)\n",
    "<table><tr><td width='300'>\n",
    "<p>Calculate the emission for two countries and create a plot to compare the results.\n",
    "For each country you should use two grid resolutions (0.1 and 0.5) and two \"masks\", \n",
    "the EEZ (Exclusive Economic Zone) and the territorial waters one. Below are two cells, in the first one you should make the calculations. If you keep the variable names, the second cell will produce a plot to compare the two countries.</p></td><td><img src=\"../ancillarydata/images/exercise4/task2.png\"></td></tr></table>"
   ]
  },
  {
   "cell_type": "markdown",
   "metadata": {},
   "source": [
    "Fossil fuel emisions from [EDGAR](https://edgar.jrc.ec.europa.eu/overview.php?v=CO2andGHG1970-2016#) (Emissions Database for Global Atmospheric Research) are available as annual emissions on a 0.1° x 0.1° grid. But in the inversions the emission data are regridded to the model-specific grid, e.g. on a 0.5° x 0.5° grid in LUMIA (used in exercise 2)."
   ]
  },
  {
   "cell_type": "markdown",
   "metadata": {},
   "source": [
    "### Read EDGAR emission data"
   ]
  },
  {
   "cell_type": "code",
   "execution_count": null,
   "metadata": {},
   "outputs": [],
   "source": [
    "# read EDGAR anthropogenic emissions on 0.5 degree x 0.5 degree grid\n",
    "lon_edgar_05, lat_edgar_05, emis_edgar_05, edgar_units_05 = read_edgar(path_edgar,0.5)\n",
    "xx_edgar_05,yy_edgar_05 = get_mesh(lon_edgar_05,lat_edgar_05)\n",
    "\n",
    "# read EDGAR anthropogenic emissions on 0.1 degree x 0.1 degree grid\n",
    "lon_edgar_01, lat_edgar_01, emis_edgar_01, edgar_units_01 = read_edgar(path_edgar,0.1)\n",
    "xx_edgar_01,yy_edgar_01 = get_mesh(lon_edgar_01,lat_edgar_01)\n",
    "\n",
    "edgar_units_01, edgar_units_05"
   ]
  },
  {
   "cell_type": "markdown",
   "metadata": {},
   "source": [
    "Fossil fuel emisions from EDGAR are given in kg CO2 / m2 / s. In LUMIA we have gC / m2 / d <br>\n",
    "We will use the LUMIA unit for our comparison, hence you need to convert the EDGAR emissions. Don't forget to also convert carbon dioxide to carbon (https://ecometrica.com/white-papers/greenhouse-gases-co2-co2e-and-carbon-what-do-all-these-terms-mean)\n",
    "> kg (to) g: * 1000<br>\n",
    "> CO2 (to) C: * 0.27  or * (12 / 44)<br>\n",
    "> s (to) d: * 86400 (24 * 60 * 60)<br>\n",
    "\n",
    "Be aware of how you calculate numbers. Floating point conversions, can make a difference. Which one is better? The unit is now Carbon / m2 / day. If you think of how many m2 we have and the emissions for a year...."
   ]
  },
  {
   "cell_type": "code",
   "execution_count": null,
   "metadata": {},
   "outputs": [],
   "source": [
    "convert1 = 1000 * 86400 * (12/44)\n",
    "convert2 = 1000 * 86400 * 0.27\n",
    "print([convert1, convert2])\n",
    "print('edgar01 emission sum in gC / m2 / d: ', emis_edgar_01.sum()* convert1)\n",
    "print('edgar01 emission sum in gC / m2 / d: ', emis_edgar_01.sum()* convert2)"
   ]
  },
  {
   "cell_type": "markdown",
   "metadata": {},
   "source": [
    "### Plot EDGAR emission data"
   ]
  },
  {
   "cell_type": "code",
   "execution_count": null,
   "metadata": {},
   "outputs": [],
   "source": [
    "fig = plt.figure(figsize=(15,20))\n",
    "rows = 1\n",
    "cols = 2\n",
    "xx=xx_edgar_05\n",
    "yy=yy_edgar_05\n",
    "title='EDGAR FF 2010 0.5x0.5'\n",
    "zz=emis_edgar_05[:,:] * convert1  #convert to gC/m2/d\n",
    "plot_map(fig,xx,yy,zz,rows,cols,1,title,units='gC/m2/d',vmin='0', vmax='3',cb_name='Greys', extend='max')\n",
    "\n",
    "xx=xx_edgar_01\n",
    "yy=yy_edgar_01\n",
    "title='EDGAR FF 2010 0.1x0.1'\n",
    "zz=emis_edgar_01[:,:] * convert1  #convert to gC/m2/d\n",
    "plot_map(fig,xx,yy,zz,rows,cols,2,title,units='gC/m2/d',vmin='0', vmax='3',cb_name='Greys',extend='max')\n",
    "\n",
    "plt.show()\n",
    "plt.close()"
   ]
  },
  {
   "cell_type": "markdown",
   "metadata": {},
   "source": [
    "Now you have ceated a pretty plot, but what is the meaning of the colorbar and why did we choose min/max values? The minium of zero(0) is because a negativ fossil fuel emission is not possible. The maximum value is significantly different between grid 0.1 and grid 0.5, so why did we choose vmax=3? Have a look at the data itself and the distribution. Create a histogram of the data and you will see that most of the data points are between 0 and 3. Basically the colorbar in the plot means, that values greater or equal 3 have the same color (black in our example). If you would like play around with colormaps, here a few more: \n",
    "'Greys', 'Purples', 'Blues', 'Greens', 'Oranges', 'Reds'.<br>\n",
    "The first three lines will print the values of the distribution of the data. The plt commands, will produce a histogram plot.\n",
    "> hist, bin_edges = np.histogram(zz,100)<br>\n",
    "> print(hist)<br>\n",
    "> print(bin_edges)<br>\n",
    "> plt.figure(figsize=[5,4])<br>\n",
    "> plt.bar(bin_edges[:-1], hist, width = 5)<br>\n",
    "> plt.xlim(min(bin_edges),20)<br>\n",
    "> plt.grid(axis='y', alpha=0.75)<br>\n",
    "> plt.xlabel('Value',fontsize=15)<br>\n",
    "> plt.ylabel('Frequency',fontsize=15)<br>\n",
    "> plt.xticks(fontsize=15)<br>\n",
    "> plt.yticks(fontsize=15)<br>\n",
    "> plt.ylabel('Frequency',fontsize=15)<br>\n",
    "> plt.title('Normal Distribution Histogram',fontsize=15)<br>\n",
    "> plt.show()\n",
    "\n"
   ]
  },
  {
   "cell_type": "code",
   "execution_count": null,
   "metadata": {},
   "outputs": [],
   "source": [
    "# look at the distribution\n"
   ]
  },
  {
   "cell_type": "markdown",
   "metadata": {},
   "source": [
    "### Read country masks \n",
    "*To look at the differences between grid resolution in a visual fashion, go to the map visualization at the top of the notebook.*\n",
    "<div style=\"text-align: right\"><a href=\"#cmask_map\">Go to map</a></div><a id=\"country_mask\"></a>"
   ]
  },
  {
   "cell_type": "code",
   "execution_count": null,
   "metadata": {},
   "outputs": [],
   "source": [
    "# read country masks\n",
    "masks05 = ['eurocomCountryMask_0.5x0.5_noship.nc','eurocomCountryMaskEEZ_0.5x0.5_noship.nc']\n",
    "lonMask05, latMask05, countryMask05, countryCode05, countryName05  = read_country_masks(path_masks+masks05[0])\n",
    "lonMask05EEZ, latMask05EEZ, countryMask05EEZ, countryCode05EEZ, countryName05EEZ  = read_country_masks(path_masks+masks05[1])\n",
    "\n",
    "masks01 = ['eurocomCountryMask_0.1x0.1_noship.nc','eurocomCountryMaskEEZ_0.1x0.1_noship.nc']\n",
    "lonMask01, latMask01, countryMask01, countryCode01, countryName01  = read_country_masks(path_masks+masks01[0])\n",
    "lonMask01EEZ, latMask01EEZ, countryMask01EEZ, countryCode01EEZ, countryName01EEZ  = read_country_masks(path_masks+masks01[1])\n",
    "\n",
    "# for computation of country emissions we need to convert from per m2 to per gridcell\n",
    "# read in grid cell area\n",
    "cell_lon_05, cell_lat_05, cellarea_05 = read_cellarea('cellarea_0.5x0.5.nc')\n",
    "cell_lon_01, cell_lat_01, cellarea_01 = read_cellarea('cellarea_0.1x0.1.nc')\n"
   ]
  },
  {
   "cell_type": "code",
   "execution_count": null,
   "metadata": {},
   "outputs": [],
   "source": [
    "# remember the convert factor from above\n",
    "# Define the conversion factors to get to Gg CO2 / year and Gg C / year\n",
    "# the original dataset is in kg CO2 / m2 / s\n",
    "# the arec (m2 to grid area we have taken care of, it is stored in cellarea....nc)\n",
    "# just convert the \"physical units and time\"\n",
    "\n",
    "unit1 = 'Gg CO2 / yr'\n",
    "unit1_factor = 365 * 24 * 60 * 60 * 1e-6\n",
    "\n",
    "unit2 = 'Gg C / yr'\n",
    "unit2_factor = unit1_factor * (44/12)\n"
   ]
  },
  {
   "cell_type": "code",
   "execution_count": null,
   "metadata": {},
   "outputs": [],
   "source": [
    "# loop through all the countries and get the emissions\n",
    "# you should end up with 4 pandas dataframes\n",
    "# grid01 , grid01 EEZ, grid 05, grid 05 EEZ\n",
    "\n",
    "df_grid01 = []\n",
    "df_grid01EEZ = []\n",
    "for n in range(np.size(countryCode01)):    \n",
    "    em = (emis_edgar_01 * cellarea_01 * countryMask01[n,:,:]).sum()    \n",
    "    em1 = em * unit1_factor  # unit1\n",
    "    em2 = em * unit2_factor  # unit2    \n",
    "    df_grid01.append([n, countryCode01[n], countryName01[n], em1, em2])\n",
    "    \n",
    "    em = (emis_edgar_01 * cellarea_01 * countryMask01EEZ[n,:,:]).sum()\n",
    "    em1 = em * unit1_factor  # unit1\n",
    "    em2 = em * unit2_factor  # unit2    \n",
    "    df_grid01EEZ.append([n, countryCode01EEZ[n], countryName01EEZ[n], em1, em2])\n",
    "\n",
    "df_grid05 = []    \n",
    "df_grid05EEZ = []    \n",
    "for n in range(np.size(countryCode05)):    \n",
    "    em = (emis_edgar_05 * cellarea_05 * countryMask05[n,:,:]).sum()\n",
    "    em1 = em * unit1_factor  # unit1\n",
    "    em2 = em * unit2_factor  # unit2    \n",
    "    df_grid05.append([n, countryCode05[n], countryName05[n], em1, em2])\n",
    "    \n",
    "    em = (emis_edgar_05 * cellarea_05 * countryMask05EEZ[n,:,:]).sum()\n",
    "    em1 = em * unit1_factor  # unit1\n",
    "    em2 = em * unit2_factor  # unit2    \n",
    "    df_grid05EEZ.append([n, countryCode05EEZ[n], countryName05EEZ[n], em1, em2])\n",
    "    \n",
    "colnames = ['index', 'c_code', 'c_name',unit1, unit2]\n",
    "df_grid01 = pd.DataFrame(df_grid01, columns=colnames)\n",
    "df_grid01EEZ = pd.DataFrame(df_grid01EEZ, columns=colnames)\n",
    "df_grid05 = pd.DataFrame(df_grid05, columns=colnames)\n",
    "df_grid05EEZ = pd.DataFrame(df_grid05EEZ, columns=colnames)"
   ]
  },
  {
   "cell_type": "markdown",
   "metadata": {},
   "source": [
    "### Tables of emissions per country\n",
    "#### resolution 0.1° x 0.1°"
   ]
  },
  {
   "cell_type": "code",
   "execution_count": null,
   "metadata": {
    "scrolled": false
   },
   "outputs": [],
   "source": [
    "# now we should have four pandas data frames for 0.1 and 0.5 grid and EEZ with all countries\n",
    "# and their respective emissions. Look at the data. Change index to [1:] to see all entries.\n",
    "multi_table([df_grid01[1:5],df_grid01EEZ[1:5]], ['Grid 01','Grid 01 EEZ'])"
   ]
  },
  {
   "cell_type": "markdown",
   "metadata": {},
   "source": [
    "#### resolution 0.5° x 0.5°"
   ]
  },
  {
   "cell_type": "code",
   "execution_count": null,
   "metadata": {},
   "outputs": [],
   "source": [
    "multi_table([df_grid05[1:5],df_grid05EEZ[1:5]], ['Grid 05', 'Grid 05 EEZ'])"
   ]
  },
  {
   "cell_type": "code",
   "execution_count": null,
   "metadata": {},
   "outputs": [],
   "source": [
    "# or you can create plot with countries (index 5 to 30)\n",
    "ax = df_grid01[5:30].plot.bar(x='c_name', y =unit1,figsize=(12,5), grid=True)"
   ]
  },
  {
   "cell_type": "markdown",
   "metadata": {},
   "source": [
    "### Select country\n",
    "To find the c_code for the country you are looking for, just print all entries of the data frames above:\n",
    "```python\n",
    "multi_table([df_grid05[1:],df_grid05EEZ[1:]], ['Grid 05', 'Grid 05 EEZ'])\n",
    "```"
   ]
  },
  {
   "cell_type": "code",
   "execution_count": null,
   "metadata": {},
   "outputs": [],
   "source": [
    "multi_table([df_grid05[1:],df_grid05EEZ[1:]], ['Grid 05', 'Grid 05 EEZ'])"
   ]
  },
  {
   "cell_type": "code",
   "execution_count": null,
   "metadata": {},
   "outputs": [],
   "source": [
    "#extract emission for a country.\n",
    "# the helper function returns a list of emissions \n",
    "de = getEmissions([df_grid01,df_grid01EEZ, df_grid05,df_grid05EEZ],'DEU', unit1)\n",
    "de, unit1"
   ]
  },
  {
   "cell_type": "markdown",
   "metadata": {},
   "source": [
    "You can change the countries you want compare by changing the country codes in the following python command.\n",
    "```python\n",
    "#define two countries to compare\n",
    "countries = ['SWE', 'CHE']\n",
    "```"
   ]
  },
  {
   "cell_type": "code",
   "execution_count": null,
   "metadata": {},
   "outputs": [],
   "source": [
    "# this part (cell) you need to compute the \"real\" data\n",
    "# and adjust the names and labels\n",
    "# Select two country codes from the above list.\n",
    "# Keep the variable names, or adjust the plot function below\n",
    "# except of the countries and unit\n",
    "\n",
    "#define two countries to compare\n",
    "countries = ['SWE', 'CHE']\n",
    "\n",
    "emission_data = [df_grid01,df_grid01EEZ, df_grid05,df_grid05EEZ]\n",
    "c1 = getEmissions(emission_data,countries[0], unit1)\n",
    "c2 = getEmissions(emission_data,countries[1], unit1)\n",
    "\n",
    "grid_resolution=['Grid 0.1','Grid 0.5']\n",
    "country_mask = ['No EEZ','EEZ']\n",
    "\n",
    "ylabel_1 = 'unit of emission'\n",
    "ylabel_1 = unit1\n",
    "\n",
    "# edgar emissions country_grid[No EEZ , EEZ]\n",
    "c1_edgar_grid1 = np.array([c1[0],c1[1]])\n",
    "c1_edgar_grid2 = np.array([c1[2],c1[3]])\n",
    "\n",
    "c2_edgar_grid1 = np.array([c2[0],c2[1]])\n",
    "c2_edgar_grid2 = np.array([c2[2],c2[3]])"
   ]
  },
  {
   "cell_type": "code",
   "execution_count": null,
   "metadata": {},
   "outputs": [],
   "source": [
    "# compare edgar country masks for different grid resolution\n",
    "# if you kept the variable names you don't need to change\n",
    "#anything in this cell. just execute to create the plot\n",
    "#-----------------------------------------------------------\n",
    "# create plot\n",
    "fig1,(ax1,ax2) = plt.subplots(1,2,sharey=True)\n",
    "fig1.set_size_inches(10,6)\n",
    "x = np.arange(len(grid_resolution))\n",
    "barwidth = 0.4\n",
    "# create the \"left\" subplot and add edgar numbers\n",
    "# to compare grid and country mask\n",
    "ax1.bar(x-barwidth/2,c1_edgar_grid1,barwidth, label=grid_resolution[0])\n",
    "ax1.bar(x+barwidth/2,c1_edgar_grid2,barwidth, label=grid_resolution[1])\n",
    "\n",
    "# add annotation\n",
    "ax1.set_xticks(x)\n",
    "ax1.set_xticklabels(country_mask)\n",
    "ax1.grid(axis='y')\n",
    "ax1.legend(loc='upper left')\n",
    "ax1.set_xlabel(countries[0])\n",
    "ax1.set_ylabel(ylabel_1)\n",
    "\n",
    "# the next country..\n",
    "ax2.bar(x-barwidth/2,c2_edgar_grid1,barwidth, label=grid_resolution[0])\n",
    "ax2.bar(x+barwidth/2,c2_edgar_grid2,barwidth, label=grid_resolution[1])\n",
    "\n",
    "# add annotation\n",
    "ax2.set_xticks(x)\n",
    "ax2.set_xticklabels(country_mask)\n",
    "ax2.grid(axis='y')\n",
    "ax2.legend(loc='upper left')\n",
    "ax2.set_xlabel(countries[1])\n",
    "\n",
    "plt.show()"
   ]
  },
  {
   "cell_type": "markdown",
   "metadata": {},
   "source": [
    "<div style=\"text-align: right\"> <a href=\"#intro\">Back to top</a></div><a id=\"national_budgets\"></a>"
   ]
  },
  {
   "cell_type": "markdown",
   "metadata": {},
   "source": [
    "## <font color='#800000'>Task 3</font> - Estimated national budgets from different models & country masks\n",
    "<table><tr><td width='300'>\n",
    "<p>We will reuse the emission from above, but now we will add the \"lumia\" biosphere emmision, to discuss the ratio of antropogenic and biosphere emission, and impact of country mask selection. The goal here is to create a plot for two countries, show \"edgar\" \"lumia\" and and the corresponding total amount of emission for each country and mask (NoEEZ, EEZ). We do have only 0.5 grid values for Lumia, so we do not compare the impact of grid resolution this time.</p></td><td><img src=\"../ancillarydata/images/exercise4/task3.png\"></td></tr></table>"
   ]
  },
  {
   "cell_type": "markdown",
   "metadata": {},
   "source": [
    "### Read LUMIA NEE"
   ]
  },
  {
   "cell_type": "code",
   "execution_count": null,
   "metadata": {},
   "outputs": [],
   "source": [
    "# LUMIA inversion using core sites\n",
    "filename='co2flux_monthly_lumia_core_2009_2018.nc'\n",
    "lon_LUMIA,lat_LUMIA,time_LUMIA,bio_prior_LUMIA_map,bio_poste_LUMIA_map,oce_LUMIA_map,ff_LUMIA_map,cell_area_LUMIA_map,flux_units_LUMIA,comment = read_EUROCOM_drought_fluxmap(path_lumia+filename)\n",
    "xx_LUMIA,yy_LUMIA = get_mesh(lon_LUMIA,lat_LUMIA)\n",
    "\n",
    "flux_units_LUMIA"
   ]
  },
  {
   "cell_type": "markdown",
   "metadata": {},
   "source": [
    "### Plot LUMIA NEE"
   ]
  },
  {
   "cell_type": "code",
   "execution_count": null,
   "metadata": {},
   "outputs": [],
   "source": [
    "# NEE\n",
    "# fluxes are given in kgC/m2/h in the netcdf files\n",
    "# convert fluxes to gC / m2 / d\n",
    "fact = 1000*24\n",
    "units_bio='gC/m2/d'\n",
    "\n",
    "year = 2010\n",
    "month = 10\n",
    "ind_LUMIA=[n for n in range(len(time_LUMIA)) if ((time_LUMIA[n].year==year)& (time_LUMIA[n].month==month))][0]\n",
    "\n",
    "#LUMIA posterior\n",
    "title ='LUMIA posterior '+ str(year) + '/' + str(month)\n",
    "NEE = bio_poste_LUMIA_map[ind_LUMIA,:,:] * fact\n",
    "\n",
    "fig = plt.figure(figsize=(12,10))\n",
    "plot_map(fig,xx_LUMIA , yy_LUMIA , NEE, 1,1,1, title,units=units_bio)\n"
   ]
  },
  {
   "cell_type": "markdown",
   "metadata": {},
   "source": [
    "### Apply country masks on LUMIA to compute national total biosphere fluxes "
   ]
  },
  {
   "cell_type": "code",
   "execution_count": null,
   "metadata": {},
   "outputs": [],
   "source": [
    "# Calculate the emissions per country as we have done before with EDGAR emissions.\n",
    "# The country masks and cell area is still available from above.\n",
    "\n",
    "#first we need select the complete year (in the plot above you have select one month...)\n",
    "year = 2010\n",
    "ind_LUMIA=[n for n in range(len(time_LUMIA)) if (time_LUMIA[n].year==year)]\n",
    "#and compute the annual mean emissions\n",
    "NEE = np.mean(bio_poste_LUMIA_map[ind_LUMIA,:,:],axis=0) * fact\n",
    "\n",
    "df_lumia05 = []    \n",
    "df_lumia05EEZ = []    \n",
    "for n in range(np.size(countryCode05)):    \n",
    "    em = (NEE * cell_area_LUMIA_map * countryMask05[n,:,:]).sum()\n",
    "    em1 = em / 1e+6    \n",
    "    df_lumia05.append([n, countryCode05[n], countryName05[n], em1])\n",
    "    \n",
    "    em = (NEE * cell_area_LUMIA_map * countryMask05EEZ[n,:,:]).sum()\n",
    "    em1 = em / 1e+6     \n",
    "    df_lumia05EEZ.append([n, countryCode05EEZ[n], countryName05EEZ[n], em1])\n",
    "\n",
    "colnames = ['index', 'c_code', 'c_name',unit1]\n",
    "df_lumia05 = pd.DataFrame(df_lumia05)\n",
    "df_lumia05.columns = colnames\n",
    "df_lumia05EEZ = pd.DataFrame(df_lumia05EEZ)\n",
    "df_lumia05EEZ.columns = colnames    \n",
    "    "
   ]
  },
  {
   "cell_type": "markdown",
   "metadata": {},
   "source": [
    "#### Table with biosphere fluxes for all countries"
   ]
  },
  {
   "cell_type": "code",
   "execution_count": null,
   "metadata": {},
   "outputs": [],
   "source": [
    "multi_table([df_lumia05[1:],df_lumia05EEZ[1:]], ['Lumia 05','Lumia EEZ'])"
   ]
  },
  {
   "cell_type": "markdown",
   "metadata": {},
   "source": [
    "### Compute national budgets "
   ]
  },
  {
   "cell_type": "code",
   "execution_count": null,
   "metadata": {},
   "outputs": [],
   "source": [
    "# For Lumia, we only have values for gridresolution 0.5\n",
    "# create two array's (one for each country) containing\n",
    "# the emission for mask1 (NoEEZ) and mask2 (EEZ)\n",
    "# country0_lumia = np.array([val for mask1, val for mask2])\n",
    "lumia_emissions = [df_lumia05,df_lumia05EEZ]\n",
    "\n",
    "c1_lumia = getEmissions(lumia_emissions,countries[0],unit1)\n",
    "c2_lumia = getEmissions(lumia_emissions,countries[1],unit1)"
   ]
  },
  {
   "cell_type": "code",
   "execution_count": null,
   "metadata": {},
   "outputs": [],
   "source": [
    "# country total emission\n",
    "# sum up the fossil fuel and biosphere emissions\n",
    "c1_total = c1_edgar_grid2 + c1_lumia\n",
    "c2_total = c2_edgar_grid2 + c2_lumia"
   ]
  },
  {
   "cell_type": "markdown",
   "metadata": {},
   "source": [
    "### Plot national budgets"
   ]
  },
  {
   "cell_type": "code",
   "execution_count": null,
   "metadata": {},
   "outputs": [],
   "source": [
    "#-----------------------------------------------------------\n",
    "# compare two countries for country mask,\n",
    "#Fossil Fuel, Biosphere emission and Total Carbon Budget\n",
    "#-----------------------------------------------------------\n",
    "\n",
    "unit = unit1\n",
    "\n",
    "# create plot\n",
    "fig2,(ax1,ax2) = plt.subplots(1,2,sharey=True)\n",
    "fig2.set_size_inches(11,8)\n",
    "\n",
    "x = np.arange(len(grid_resolution))\n",
    "barwidth = 0.3\n",
    "# add edgar\n",
    "ax1.bar(x-barwidth,c1_edgar_grid2,barwidth, label=\"Edgar\")\n",
    "ax1.bar(x, c1_lumia,barwidth, label=\"Lumia\")\n",
    "ax1.bar(x+barwidth,c1_total,barwidth, label='Total')\n",
    "\n",
    "# add annotation\n",
    "ax1.set_xticks(x)\n",
    "ax1.set_xticklabels(country_mask)\n",
    "ax1.grid(axis='y')\n",
    "ax1.legend(loc='upper left')\n",
    "ax1.set_xlabel(countries[0])\n",
    "ax1.set_ylabel(unit1)\n",
    "\n",
    "# add lumia\n",
    "ax2.bar(x-barwidth,c2_edgar_grid2,barwidth, label=\"Edgar\")\n",
    "ax2.bar(x, c2_lumia,barwidth, label=\"Lumia\")\n",
    "ax2.bar(x+barwidth,c2_total,barwidth, label='Total')\n",
    "\n",
    "# add annotation\n",
    "ax2.set_xticks(x)\n",
    "ax2.set_xticklabels(country_mask)\n",
    "ax2.grid(axis='y')\n",
    "ax2.legend(loc='upper left')\n",
    "ax2.set_xlabel(countries[1])\n",
    "\n",
    "plt.show()\n"
   ]
  },
  {
   "cell_type": "markdown",
   "metadata": {},
   "source": [
    "<br>\n",
    "<br>\n",
    "<div style=\"text-align: right\"> \n",
    "    <a href=\"#intro\">Back to top</a>\n",
    "</div>"
   ]
  },
  {
   "cell_type": "markdown",
   "metadata": {},
   "source": [
    "## <font color='blue'>Questions: </font>\n",
    "1. What is the motivation of including /excluding the EEZ zones? What is the effect of including/excluding the EEZ zones in a practical example? Are there any political/economical problems of including the EEZ zones in the national budget?\n",
    "\n",
    "2. What type of effect does the spatial resolution on the grid have on computation on the national budgets? What is the main problem of using a coarse grid? Could this problem be solved by using partial values for the countries in the land mask? Please, provide some test result using the Jupyter notebook.\n",
    "\n",
    "3. (If time permits) A challenge is that the inverse model deals the earth as a sphere while the geographic data (including the national boundary data) are based on an ellipsoidal earth model. What error could be introduced here? Which strategies could be used to reduce the effect of the flattening of the earth? (No easy answer on this…). Test the effect of using a spherical or ellipsoidal earth model in the step going from grid values to a national budget using two countries, e.g. Sweden and Italy. How does the geographic position of the country affect the difference emerging from the different earth models?\n",
    "\n",
    "<br>\n",
    "<br>\n",
    "<div style=\"text-align: right\"> \n",
    "    <a href=\"#intro\">Back to top</a>\n",
    "</div>"
   ]
  },
  {
   "cell_type": "markdown",
   "metadata": {},
   "source": [
    "<a id='data_ref'>"
   ]
  },
  {
   "cell_type": "markdown",
   "metadata": {},
   "source": [
    "# Data references\n",
    "\n",
    "### EDGAR\n",
    "Global anthropogenic CO2 emissions for 2006-2019 based on EDGARv4.3, fuel type and category specific emissions provided by Greet Janssens-Maenhout (EU-JRC), BP statistics 2019, temporal variations based on MACC-TNO (Denier van der Gon et al. (2011)), temporal extrapolation and disaggregation described in COFFEE (Steinbach et al. 2011)\n",
    "\n",
    "The emission map used in this notebook is strictly for educational purposes, and not to be used for research publications or commercial applications.\n",
    "\n",
    "The dataset is available on [ICOS Carbon Portal](https://data.icos-cp.eu/portal) using the following DOI: <br>\n",
    "**Dataset DOI:** https://doi.org/10.18160/Y9QV-S113\n",
    "\n",
    "\n",
    "### LUMIA\n",
    "LUMIA inverse modelling estimates of European CO2 fluxes for 2009-2018 as part of the inversion intercomparison for the 2018 drought, using only atmospheric sites with nearly continuous records (LU-select); monthly fluxes; 0.5 deg. x 0.5 deg.; NEE prior: LPJ-GUESS; Anthropogenic emissions: EDGARv3.2 + TNO profiles + BP statistics, http://doi.org/10.18160/y9qv-s113; Model description in Monteil and Scholze, 2019, https://doi.org/10.5194/gmd-2019-227; Supplementary material for Thompson et al.: Changes in Net ecosystem exchange over Europe during the 2018 drought based on atmospheric observations, Phil. Trans. R. Soc. B 20190512, 2020, http://dx.doi.org/10.1098/rstb.2019.0512\n",
    "\n",
    "The dataset is available on [ICOS Carbon Portal](https://data.icos-cp.eu/portal) using the following PID: <br>\n",
    "**Dataset PID:** https://hdl.handle.net/11676/mP7Syr2esEs2-0lImmOFNHae\n",
    "\n",
    "<br>\n",
    "<br>\n",
    "<div style=\"text-align: right\"> \n",
    "    <a href=\"#intro\">Back to top</a>\n",
    "</div>"
   ]
  },
  {
   "cell_type": "markdown",
   "metadata": {},
   "source": [
    "\n",
    "<br>\n",
    "<br>\n",
    "<br>\n",
    "<br>\n",
    "<img src=\"../ancillarydata/logos/sponsors_climbeco_course_2020.PNG\" width=\"1000\" align=\"left\"/>\n",
    "<br>\n",
    "<br>"
   ]
  }
 ],
 "metadata": {
  "kernelspec": {
   "display_name": "Python 3",
   "language": "python",
   "name": "python3"
  },
  "language_info": {
   "codemirror_mode": {
    "name": "ipython",
    "version": 3
   },
   "file_extension": ".py",
   "mimetype": "text/x-python",
   "name": "python",
   "nbconvert_exporter": "python",
   "pygments_lexer": "ipython3",
   "version": "3.8.4"
  }
 },
 "nbformat": 4,
 "nbformat_minor": 2
}
