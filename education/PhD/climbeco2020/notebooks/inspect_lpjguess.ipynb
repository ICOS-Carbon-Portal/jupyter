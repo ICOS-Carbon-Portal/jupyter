{
 "cells": [
  {
   "cell_type": "markdown",
   "metadata": {},
   "source": [
    "<img src=\"../ancillarydata/logos/LundUniversity_C2line_RGB.png\" width=\"150\" align=\"left\"/>\n",
    "<br>\n",
    "<img src=\"../ancillarydata/logos/Icos_Logo_CMYK_Regular_SMpng.png\" width=\"327\" align=\"right\"/>\n",
    "<br>\n",
    "<a id='introduction'></a>\n",
    "<br>"
   ]
  },
  {
   "cell_type": "markdown",
   "metadata": {},
   "source": [
    "<br>\n",
    "\n",
    "# <font color=#B98F57>PhD course</font>\n",
    "### <font color=#000083>From CO$_2$ in situ measurements to carbon balance maps as a tool to support national carbon accounting</font>\n",
    "\n",
    "<br>\n",
    "\n",
    "**Organized by:** Lund University dept. of Physical Geography & Ecosystem Science and ICOS ERIC <br>\n",
    "**Funded by:**    Lund University dept. of Physical Geography & Ecosystem Science, ICOS ERIC and ClimBEco <br>\n",
    "**Course dates:** March 9th 2020 - March 13th 2020 <br>\n",
    "**Location:** Lund, Sweden\n",
    "\n",
    "**Notebook developed by:** Karolina Pantazatou\n",
    "\n",
    "<br>\n",
    "<br>"
   ]
  },
  {
   "cell_type": "markdown",
   "metadata": {},
   "source": [
    "# Compare LPJ-GUESS model output & FLUXNET observations\n",
    "This notebook is dedicated on presenting interactive NEE-, GPP- and RTOT-plots for a given station. You can compare, zoom-in and hover over the content of the plot. It is also possible to switch layers on or off by clicking on the layer names in the legend. By clicking on the checkbox, you will view averaged monthly values.\n",
    "\n",
    "Site runs with LPJ-GUESS were made without site-specific calibration and with minimal adaptation to local conditions. For more details, please read the [data references](#data_ref)."
   ]
  },
  {
   "cell_type": "markdown",
   "metadata": {},
   "source": [
    "### Run functions in tools"
   ]
  },
  {
   "cell_type": "code",
   "execution_count": null,
   "metadata": {},
   "outputs": [],
   "source": [
    "#from tools import read_fluxnet_dd, read_fluxnet_hh\n",
    "%run ./tools.ipynb"
   ]
  },
  {
   "cell_type": "markdown",
   "metadata": {},
   "source": [
    "<a id='plot'></a>"
   ]
  },
  {
   "cell_type": "code",
   "execution_count": null,
   "metadata": {
    "scrolled": false
   },
   "outputs": [],
   "source": [
    "#Call function to display form:\n",
    "lpj_var_dropdown(lpj_var_dict)"
   ]
  },
  {
   "cell_type": "markdown",
   "metadata": {},
   "source": [
    "<a id=\"data_ref\">"
   ]
  },
  {
   "cell_type": "markdown",
   "metadata": {},
   "source": [
    "<br>\n",
    "<br>\n",
    "<br>\n",
    "\n",
    "# Data references\n",
    "    \n",
    "Site runs with LPJ-GUESS (http://iis4.nateko.lu.se/lpj-guess/) were carried out with version 4.0 of the model (Smith et al. 2014), but without site-specific calibration. To mimic local conditions, the model was forced with daily surface air temperature, precipitation and incoming shortwave radiation measured at the sites (for years 2015-2018), but inputs of nitrogen deposition and soil properties were taken from global datasets. In certain cases, the plant functional types and species that can establish in the model were restricted to match site conditions, but neither site management history nor disturbances were considered. Finally, no wetland features were activated.\n",
    "\n",
    "The model output is strictly for educational purposes, and not to be used for research publications or commercial applications.\n",
    "\n",
    "Smith, B., Wårlind, D., Arneth, A., Hickler, T., Leadley, P., Siltberg, J. & Zaehle, S. 2014. Implications of incorporating N cycling and N limitations on primary production in an individual-based dynamic vegetation model. Biogeosciences 11: 2027-2054.\n"
   ]
  },
  {
   "cell_type": "markdown",
   "metadata": {},
   "source": [
    "<br>\n",
    "<br>\n",
    "<br>\n",
    "<br>\n",
    "<img src=\"../ancillarydata/logos/sponsors_climbeco_course_2020.PNG\" width=\"1000\" align=\"left\"/>\n",
    "<br>\n",
    "<br>"
   ]
  }
 ],
 "metadata": {
  "kernelspec": {
   "display_name": "Python 3",
   "language": "python",
   "name": "python3"
  },
  "language_info": {
   "codemirror_mode": {
    "name": "ipython",
    "version": 3
   },
   "file_extension": ".py",
   "mimetype": "text/x-python",
   "name": "python",
   "nbconvert_exporter": "python",
   "pygments_lexer": "ipython3",
   "version": "3.8.4"
  }
 },
 "nbformat": 4,
 "nbformat_minor": 4
}
