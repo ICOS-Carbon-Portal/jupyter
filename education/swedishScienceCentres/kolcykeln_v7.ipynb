{
 "cells": [
  {
   "cell_type": "markdown",
   "metadata": {
    "deletable": false,
    "editable": false
   },
   "source": [
    "<img src=\"images/carboncycle_nb_header_swe2.png\" width=\"890\" align=\"center\"/>"
   ]
  },
  {
   "cell_type": "markdown",
   "metadata": {
    "deletable": false,
    "editable": false
   },
   "source": [
    "<a id='intro'></a>"
   ]
  },
  {
   "cell_type": "markdown",
   "metadata": {
    "deletable": false,
    "editable": false
   },
   "source": [
    "# Kolcykeln - Programmeringsövningar med koldioxid-data\n",
    "Det är svårt att beräkna statistik över flera tusentals värden med papper och penna. Dessutom ökar möjligheten av misstag i beräkningarna. Programmering ger oss möjligheten att utföra beräkningar över många värden snabbt och med större säkerhet. Syftet med följande övningar är att få en provsmak av hur det är att programmera i Python. Ett flertal övningar har tagits fram för att beskriva enklare principer inom Python-programmering. Övningarna beskriver oftast problem som är relaterade till kolets kretslopp (kolcykeln), dvs hur kol tas upp eller släpps ut mellan delar av ett ekosystem.\n",
    "\n",
    "Denna Jupyter Notebook innehåller övningar som koncentrerar sig på kolcykeln och på dagliga samt årliga förändringar av koldioxidkoncentrationer. Programmeringsmässigt berörs följande koncept:\n",
    "\n",
    "-  Läsa in data från csv-filer\n",
    "-  Organisera data i tabeller\n",
    "-  Extrahera data från tabeller med hjälp av index\n",
    "-  Beräkna statistik\n",
    "-  Plotta data i interaktiva diagram\n",
    "\n",
    "<br>\n",
    "<br>\n",
    "Notebooken består av följande delar:\n",
    "\n",
    "-  [1. Vad är CO$_2$](#co2_definition)\n",
    "\n",
    "\n",
    "-  [2. Kolcykeln](#carbon_cycle_definition)\n",
    "\n",
    "\n",
    "-  [3. Ett År i Koldioxidens Liv på Jorden](#co2_youtube)\n",
    "\n",
    "\n",
    "-  [4. Quiz - Hur bra koll har du på kol?](#quiz_environmentalist)\n",
    "\n",
    "\n",
    "-  [5. Övning med Data från ICOS Hyltemossa Station](#exercise_icos_htm)\n",
    "    -  [5.1. Importera Python moduler](#exercise_import_modules_py)\n",
    "    -  [5.2. Läs in CSV-filer till tabeller i Python](#exercise_read_csv_to_pandas)\n",
    "    -  [5.3. Definiera Index för en tabell](#add_index_to_pandas)\n",
    "    -  [5.4. Statistik över kolumner i en Tabell](#pandas_stats)\n",
    "    -  [5.5. Plotta Data i Interaktiva Diagram](#exercise_plot_data_bokeh)\n",
    "\n",
    "\n",
    "-  [6. Övning: Hjälp forskaren](#final_exercise_py) \n",
    "\n",
    "\n",
    "<br>\n",
    "<br>\n",
    "<br>\n",
    "<br>\n"
   ]
  },
  {
   "cell_type": "markdown",
   "metadata": {
    "deletable": false,
    "editable": false
   },
   "source": [
    "## Gör så här\n",
    "För att köra denna Jupyter Notebook, börja med att klicka på **Kernel** i menyn och sedan **Restart & Run All**. \n",
    "<br>\n",
    "<br>\n",
    "\n",
    "<img src=\"images/restart_run_all_nb_pic.png\" width=\"290\" align=\"center\"/>\n",
    "\n",
    "<br>\n",
    "<br>\n",
    "\n",
    "\n",
    "<span style=\"color:blue\">\n",
    "\n",
    "### Kör kod\n",
    "\n",
    "</span>\n",
    "\n",
    "En Jupyter Notebook består av kod-celler. I kod-cellen kan man skriva Python-kod och sedan köra den koden genom att trycka på **Run** i menyn högst upp. \n",
    "<br>\n",
    "<br>\n",
    "\n",
    "<img src=\"images/run_code_cell_nb.png\" width=\"580\" align=\"center\"/>\n",
    "\n",
    "<br>\n",
    "<br>\n",
    "\n",
    "\n",
    "<span style=\"color:blue\">\n",
    "\n",
    "### Aktiv kod-cell\n",
    "\n",
    "</span>\n",
    "Observera att endast den kod-cellen som är aktiv (kod-cellen som är markerad med blå eller grön färg) kommer att exekveras.\n",
    "<br>\n",
    "<br>\n",
    "\n",
    "<img src=\"images/marked_code_cell_nb_py.png\" width=\"580\" align=\"center\"/>\n",
    "\n",
    "<br>\n",
    "<br>\n",
    "\n",
    "\n",
    "<span style=\"color:blue\">\n",
    "\n",
    "### Lägg till ny kod-cell\n",
    "\n",
    "</span>\n",
    "\n",
    "För att lägga till en ny kod-cell under nuvarande aktiv kod_cell klicka på **\"+\"** i menyn.\n",
    "<br>\n",
    "<br>\n",
    "\n",
    "<img src=\"images/add_new_code_cell_nb.png\" width=\"580\" align=\"center\"/>\n",
    "\n",
    "<br>\n",
    "<br>\n",
    "\n",
    "<br>\n",
    "<br>\n",
    "<br>\n",
    "<br>"
   ]
  },
  {
   "cell_type": "markdown",
   "metadata": {
    "deletable": false,
    "editable": false
   },
   "source": [
    "<a id='co2_definition'></a>"
   ]
  },
  {
   "cell_type": "markdown",
   "metadata": {
    "deletable": false,
    "editable": false
   },
   "source": [
    "## 1. Vad är Koldioxid - CO$_2$ \n",
    "\n",
    "Koldioxid är en gas, som är lukt- och färglös i normala temperaturer. Gasen bildas vid fullständig förbränning av kolföreningar i syre. Vid förbränning av biomassa ökar inte halten av koldioxid i atmosfären, så länge biomassan tillåts växa upp igen och åter absorbera samma mängd koldioxid. Vid förbränning av fossila bränslen som kol, petroleum, naturgas, oljeskiffer, tjärsand, sopor och vid gasfackling återförs kol till atmosfären som varit utanför kretsloppet väldigt länge. När återfört kol inte binds i ny biomassa, ökar koldioxidhalten i atmosfären.\n",
    "\n",
    "Koldioxid som är en växthusgas förekommer naturligt i atmosfären och släpper igenom solens strålar men minskar värmeutsläppet från jorden. På det viset fängslas värme i atmosfären. Utan växthusgaser skulle temperaturen på Jorden vara för låg för att levande varelser skulle kunna existera. Växthuseffekten är anledningen varför där finns liv på Jorden. Problemet uppstår när den totala mängden växthusgaser i atmosfären börjar öka. Ökad mängd av växthusgaser i atmosfären leder till att mer värme fängslas i atmosfären, som i sin tur leder till högre temperaturer på Jorden. Konsekvenserna av det är smältande glaciärer, stigande havsnivåer, oftare extrema förekomster av nederbörd eller torka och förändrade förutsättningar för jordbruket. Ökade halter av koldioxid i luften är även länkade till havsförsurning. Havsförsurning är en process där havets pH-värde långsamt sjunker p.g.a. att allt högre mängder koldioxid i atmosfären tas upp av haven.\n",
    "<br>"
   ]
  },
  {
   "cell_type": "markdown",
   "metadata": {
    "deletable": false,
    "editable": false
   },
   "source": [
    "<br>\n",
    "<br>\n",
    "<div style=\"text-align: right\"> \n",
    "    <a href=\"#intro\">Tillbaka till innehåll</a>\n",
    "</div>"
   ]
  },
  {
   "cell_type": "markdown",
   "metadata": {
    "deletable": false,
    "editable": false
   },
   "source": [
    "<br>\n",
    "<br>\n",
    "<a id='carbon_cycle_definition'></a>"
   ]
  },
  {
   "cell_type": "markdown",
   "metadata": {
    "deletable": false,
    "editable": false
   },
   "source": [
    "## 2. Kolcykeln\n",
    "Koldioxid (CO$_2$), kolmonoxid (CO) och metan (CH$_4$) ingår i kolets livscykel. Bilden nedan visar hur kol transporteras från olika källor till sänkor. De blåa pilarna representerar upptaget av kol medan de röda pilarna representerar utsläppet av kol.\n",
    "\n",
    "Kol i form av koldioxid släpps ut i atmosfären från människors, djurs och växters respiration (utandning). Förbränning av fossila bränslen (som t.ex. kol, olja, eller naturgas) bidrar till en stor del av kolutsläppet i atmosfären. Kol i form av koldioxid och kolmonoxid släpps ut vid skogsbränder. Havets djur och växter släpper också ut koldioxid med deras respiration (utandning). Betesdjur och framför allt kor rapar och släpper ut metan. Metan släpps även ut från bakterier som finns i människors och djurs avföring (bajs). Koldioxid och metan släpps ut i luften när nedbrytare (t.ex. svampar och daggmaskar) bryter ner organiskt material spm t.ex. döda djur eller växter till jord. Alla processer som leder till att kol släpps ut i atmosfären kallas för **källor**.\n",
    "\n",
    "Kol tas upp från atmosfären när växter fotosyntetiserar. Fotosyntes är en process under vilken växter tar in koldioxid, vatten och solenergi, och omvandlar dem till syre och druvsocker. Denna process utförs både av växter på land och i haven. Processen utförs endast när det finns tillräkligt med soljus, vilket begränsar den till dagtid. Under natten sker ingen fotosyntes, utan växterna andas in syre och andas ut koldioxid. Växter lagrar kol när de använder druvsockret för att skapa nya grenar, löv och rötter eller för att öka storleken av deras stammar. Kol kommer in i jorden i form av organiskt material. Alla levande organismer (växter, människor och djur) består av organiskt material. När växter tappar löv eller grenar på marken, så tappar de organiskt material. Samma sak sker med människors och djurs urin och avföring. I marina ekosystem omvandlas dött liv till sediment. Kol som lagrats i jorden kan omvandlas till naturgas och olja. Det är dock en flerårig process som kan ta 50,000,000 till 500,000,000 år. Alla processer som tar upp kol kallas för **sänkor**."
   ]
  },
  {
   "cell_type": "markdown",
   "metadata": {
    "deletable": false,
    "editable": false
   },
   "source": [
    "<img src=\"images/carboncycle_swe3.png\" width=\"900\" align=\"center\">"
   ]
  },
  {
   "cell_type": "markdown",
   "metadata": {
    "deletable": false,
    "editable": false
   },
   "source": [
    "<br>\n",
    "<br>\n",
    "<div style=\"text-align: right\"> \n",
    "    <a href=\"#intro\">Tillbaka till innehåll</a>\n",
    "</div>"
   ]
  },
  {
   "cell_type": "markdown",
   "metadata": {
    "deletable": false,
    "editable": false
   },
   "source": [
    "<br>\n",
    "<br>\n",
    "<a id='co2_youtube'></a>"
   ]
  },
  {
   "cell_type": "markdown",
   "metadata": {
    "deletable": false,
    "editable": false
   },
   "source": [
    "## 3. Ett År i Koldioxidens Liv på Jorden (NASA)\n",
    "Klicka på videon för att se hur koldioxidens koncentration förändras under olika årstider över hela jordklotet för ett år. Observera att koldioxid visas i en färgskala från mårkblå till lila. Högre värden visas i röd och lila färg. Kolmonoxid visas i svartvit skala. Högre kolmonoxid-värden visas i ljusare grå och vit färg."
   ]
  },
  {
   "cell_type": "code",
   "execution_count": null,
   "metadata": {
    "deletable": false,
    "editable": false
   },
   "outputs": [],
   "source": [
    "############################################################################################################\n",
    "################## Python & Javascript Code - handling code visibility (entire document)####################\n",
    "############################################################################################################\n",
    "\n",
    "#Import modules:\n",
    "from IPython.display import HTML\n",
    "\n",
    "HTML('''<script> $('div .input').hide()''')"
   ]
  },
  {
   "cell_type": "code",
   "execution_count": null,
   "metadata": {
    "deletable": false,
    "editable": false
   },
   "outputs": [],
   "source": [
    "%%javascript\n",
    "IPython.OutputArea.prototype._should_scroll = function(lines) {\n",
    "    return false;\n",
    "}"
   ]
  },
  {
   "cell_type": "code",
   "execution_count": null,
   "metadata": {
    "deletable": false,
    "editable": false
   },
   "outputs": [],
   "source": [
    "############################################################################################################\n",
    "############################### Python & Javascript Kod - Dölj kod-cell  ###################################\n",
    "############################################################################################################\n",
    "\n",
    "#Importera moduler:\n",
    "from IPython.core.display import display, HTML\n",
    "\n",
    "#Kod för att dölja en kod-cell\n",
    "toggle_code_str = '''\n",
    "<form action=\"javascript:code_toggle()\"><input type=\"submit\" id=\"toggleButton\" value=\"Visa/Dölj Kod\"></form>\n",
    "'''\n",
    "\n",
    "toggle_code_prepare_str = '''\n",
    "    <script>\n",
    "    function code_toggle() {\n",
    "        if ($('div.cell.code_cell.rendered.selected div.input').css('display')!='none'){\n",
    "            $('div.cell.code_cell.rendered.selected div.input').hide();\n",
    "            $('#toggleButton').val('Visa Kod');\n",
    "        } else {\n",
    "            $('div.cell.code_cell.rendered.selected div.input').show();\n",
    "            $('#toggleButton').val('Dölj Kod');\n",
    "        }\n",
    "    }\n",
    "    </script>\n",
    "\n",
    "'''\n",
    "\n",
    "display(HTML(toggle_code_prepare_str + toggle_code_str))\n",
    "\n",
    "#Anrop till funktion som döljer kod-celler:\n",
    "def toggle_code():\n",
    "    display(HTML(toggle_code_str))\n",
    "    \n",
    "############################################################################################################\n",
    "############################################################################################################\n",
    "############################################################################################################\n",
    "\n",
    "\n",
    "\n",
    "\n",
    "\n",
    "#Importera modul för att play youtube video:\n",
    "from IPython.display import YouTubeVideo\n",
    "\n",
    "#Visa NASA video - \"A Year in the Life of Earth's CO2\":\n",
    "YouTubeVideo('x1SgmFa0r04', width=970, height=576)"
   ]
  },
  {
   "cell_type": "markdown",
   "metadata": {
    "deletable": false,
    "editable": false
   },
   "source": [
    "<br>\n",
    "<br>\n",
    "<div style=\"text-align: right\"> \n",
    "    <a href=\"#intro\">Tillbaka till innehåll</a>\n",
    "</div>"
   ]
  },
  {
   "cell_type": "markdown",
   "metadata": {
    "deletable": false,
    "editable": false
   },
   "source": [
    "<br>\n",
    "<br>\n",
    "<a id='quiz_environmentalist'></a>"
   ]
  },
  {
   "cell_type": "markdown",
   "metadata": {
    "deletable": false,
    "editable": false
   },
   "source": [
    "## 4. Quiz -  Hur bra koll har du på kol?\n",
    "Testa dina kunskaper genom att svara på frågorna nedan. Observera att frågorna 2 - 4 kan ha mer en ett korrekt svar.\n",
    "\n",
    "När du är färdig trycker du på \n",
    "<span style=\"color:white\">\n",
    "<span style=\"background-color:#3973ac\">  Visa resultat  </span></span>-knappen. Se vilket miljö-emblem du får!"
   ]
  },
  {
   "cell_type": "code",
   "execution_count": null,
   "metadata": {
    "deletable": false,
    "editable": false,
    "scrolled": true
   },
   "outputs": [],
   "source": [
    "#Create quiz questions:  \n",
    "q1_prompt = '\\n\\n1. Vilken gas har den högsta koncentrationen i Jordens atmosfär?'\n",
    "q2_prompt = '\\n\\n2. Vilka av följande gaser är växthusgaser? (3 rätta svar)'\n",
    "q3_prompt = '\\n\\n3. Välj vilka av följande är koldioxidsänkor (3 rätta svar):'\n",
    "q4_prompt = '\\n\\n4. Välj vilka av följande är koldioxidkällor (4 rätta svar):'\n",
    "q5_prompt = '\\n\\n5. Under vilken årstid uppmärksammas den högsta koncentrationen av CO\\u2082 i atmosfären på Jordens norra halvklot?'\n",
    "q6_prompt = '\\n\\n6. Vilken process är ansvarig för förekomsten av lägre CO\\u2082-koncentrationer under hösten på Jordens norra halvklot?'\n",
    "    \n",
    "#Create a list of options for every question:\n",
    "q1_options = ['Koldioxid (CO\\u2082)', 'Syre (O\\u2082)', 'Kväve (N\\u2082)', 'Argon (Ar)']\n",
    "q2_options = ['Lustgas (N\\u2082O)', 'Koldioxid (CO\\u2082)', 'Syre (O\\u2082)', 'Kväve (N\\u2082)', 'Metan (CH\\u2084)']\n",
    "q3_options = ['Träd & vegetation', 'Oceanisk Respiration', 'Återplantering av Skog',  'Avskogning', 'Oceanisk Fotosyntes', 'Växt-respiration']\n",
    "q4_options = ['Skogsbränder', 'Vulkaner', 'Djur- och Växtförfall',  'Återplantering av Skog', 'Användning av Fossila Bränslen', 'Gödselhantering']\n",
    "q5_options = ['Vår', 'Sommar', 'Höst', 'Vinter']\n",
    "q6_options = ['Djurhållning', 'Användning av Fossila Bränslen', 'Skogsbränder', 'Fotosyntes']\n",
    "    \n",
    "#Create a list of feedbacks per option for every question:\n",
    "q1_feedback = ['\\033[1;93m'+'Ungefär 0.04% av Jordens Atmosfär består av Koldioxid (CO\\u2082).'+'\\033[1;93m',\n",
    "               '\\033[1;93m'+'Ungefär 20.95%'+' av Jordens Atmosfär består av Syre (O\\u2082).'+'\\033[1;93m',\n",
    "               '\\033[1;96m'+'Korrekt!\\nUngefär 78% av Jordens Atmosfär består av Kväve (N\\u2082). '+'\\033[1;96m',\n",
    "               '\\033[1;93m'+'Ungefär 0.93% av Jordens Atmosfär består av Argon (Ar)'+'\\033[1;93m']\n",
    "    \n",
    "q2_feedback = ['\\033[1;96m'+'Korrekt! N\\u2082O frigörs bl.a. från kvävegödslad åkermark.'+'\\033[1;96m',\n",
    "               '\\033[1;96m'+'Korrekt! CO\\u2082 frigörs bl.a. av förbränning av fossila bränslen.'+'\\033[1;96m',\n",
    "               '\\033[1;93m'+'O\\u2082 är inte en växthusgas. Alla levande organismer behöver O\\u2082 för att andas.'+'\\033[1;93m',\n",
    "               '\\033[1;93m'+'N\\u2082 är inte en växthusgas. N\\u2082 är den vanligaste gasen i jordens atmosfär.'+'\\033[1;93m', \n",
    "               '\\033[1;96m'+'Korrekt! CH\\u2084 frigörs bl.a. från djurs matsmältningsprocess.'+'\\033[1;96m']\n",
    "    \n",
    "q3_feedback = ['\\033[1;96m'+'Korrekt! Träd och vegetation tar upp CO\\u2082 under fotosyntes.'+'\\033[1;96m',\n",
    "               '\\033[1;93m'+'Under oceanisk respiration släpps CO\\u2082 ut från oceanerna.'+'\\033[1;93m',\n",
    "               '\\033[1;96m'+'Korrekt! Träd och vegetation tar upp CO\\u2082 under fotosyntes.'+'\\033[1;96m',\n",
    "               '\\033[1;93m'+'Färre träd leder till minskat upptag av CO\\u2082 för fotosyntes.'+'\\033[1;93m', \n",
    "               '\\033[1;96m'+'Korrekt! När havets växter fotosyntetiserar, tar de upp CO\\u2082.'+'\\033[1;96m',\n",
    "               '\\033[1;93m'+'När växter andas släpper de ut CO\\u2082.'+'\\033[1;93m']\n",
    "\n",
    "q4_feedback = ['\\033[1;96m'+'Korrekt! Skogsbränder ansvarar för större utsläpp av CO\\u2082.'+'\\033[1;96m',\n",
    "               '\\033[1;96m'+'Korrekt! Vid volkanutbrott frigörs stora mängder CO\\u2082 till atmosfären.'+'\\033[1;96m',\n",
    "               '\\033[1;96m'+'Korrekt! När döda kvistar & löv förrutnar släpps CO\\u2082 ut till atmosfären.'+'\\033[1;96m',\n",
    "               '\\033[1;93m'+'Mer skog betyder mer växter som tar upp CO\\u2082.'+'\\033[1;93m', \n",
    "               '\\033[1;96m'+'Korrekt! Vid förbränning av fossila bränlsen släpps CO\\u2082 ut till atmosfären.'+'\\033[1;96m',\n",
    "               '\\033[1;93m'+'Vid gödselhantering släpps metan (CH\\u2084) och Lustgas ut (N\\u2082O).'+'\\033[1;93m']\n",
    "\n",
    "q5_feedback = ['\\033[1;96m'+'Korrekt!\\nUnder vintertid ackumuleras CO\\u2082.\\nSom efterföljnad, mäts de högsta CO\\u2082-värdena under början på våren.'+'\\033[1;96m',\n",
    "               '\\033[1;93m'+'Under sommaren ökar fotosyntesen och mer CO\\u2082 tas upp från atmosfären.\\nPå det viset går den totala koncentrationen av CO₂ i Atmosfären ner.'+'\\033[1;93m',\n",
    "               '\\033[1;93m'+'Under hösten börjar växter fotosyntetisera mindre och mindre CO\\u2082 tas upp.\\nDen totala koncentrationen av CO₂ i Atmosfären börjar gå upp.'+'\\033[1;93m',\n",
    "               '\\033[1;93m'+'Under vintertid minskar fotosyntesen drastiskt och mindre CO\\u2082 tas upp.\\nDen totala koncentrationen av CO₂ i Atmosfären går upp.'+'\\033[1;93m']\n",
    "\n",
    "q6_feedback = ['\\033[1;93m'+'Djurhållning ansvarar för större ustläpp av växthusgaser.'+'\\033[1;93m',\n",
    "               '\\033[1;93m'+'Förbränning av fossila bränslen ansvarar för större ustläpp av CO\\u2082.'+'\\033[1;93m',\n",
    "               '\\033[1;93m'+'Skogsbränder ansvarar för större utsläpp av CO\\u2082.'+'\\033[1;93m',\n",
    "               '\\033[1;96m'+'Korrekt!\\nUnder våren & sommaren tas mer CO\\u2082 upp från växter p.g.a. fotosyntes.'+'\\033[1;96m']\n",
    "\n",
    "############################################################################################################\n",
    "\n",
    "#Create a class that includes all information of a question\n",
    "class Question:\n",
    "    \n",
    "    #Set the values for all the object's attributes:\n",
    "    def __init__(self, num, prompt, list_of_options, list_of_feedback, answer, widget_type):\n",
    "        \n",
    "        self.num = num\n",
    "        self.prompt = prompt\n",
    "        self.list_of_options = list_of_options\n",
    "        self.list_of_feedback = list_of_feedback\n",
    "        self.feedback_dict = {list_of_options[i]:list_of_feedback[i] for i in range(len(list_of_options))} #alt. dict(zip(q1_options, q1_feedback))\n",
    "        self.answer = answer\n",
    "        self.widget_type = widget_type\n",
    "        \n",
    "    #Function that returns the values of all the object's attributes:    \n",
    "    def __str__(self):\n",
    "        return 'Question number: {}\\nPrompt: {}\\nList of options: {}\\nList of feedback: {}\\nAnswer: {}\\nWidget Type: {}'.format(self.num, self.prompt.replace('\\n\\n',''), self.list_of_options, self.list_of_feedback, self.answer, self.widget_type)\n",
    "        \n",
    "############################################################################################################\n",
    "\n",
    "#Function that creates and returns an Image widget from an existing image file:\n",
    "def add_image_widget(fullpath, imageFormat, im_width, im_hight):\n",
    "\n",
    "    #Import modules:\n",
    "    from ipywidgets import Image\n",
    "    \n",
    "    #Open file at given path:\n",
    "    file = open(fullpath, \"rb\")\n",
    "    \n",
    "    #Read file:\n",
    "    image = file.read()\n",
    "    \n",
    "    #Create image widget and set layout format:\n",
    "    widget = Image(value=image,\n",
    "                   format=imageFormat,\n",
    "                   width=im_width,\n",
    "                   height=im_hight)\n",
    "    \n",
    "    #Return widget\n",
    "    return widget\n",
    "\n",
    "############################################################################################################\n",
    "\n",
    "#Function that creates and returns a widget for a given question object:\n",
    "def create_q_widget(q):\n",
    "    \n",
    "    #Import modules:\n",
    "    from ipywidgets import RadioButtons, Checkbox, Output, VBox, HBox\n",
    "    from IPython.display import clear_output\n",
    "    \n",
    "    #Initialize description output:\n",
    "    description_out = Output()\n",
    "    \n",
    "    #Add quiz question to the description output:\n",
    "    with description_out:\n",
    "        print(q.prompt)\n",
    "    \n",
    "    #Check what type of widget should be created:\n",
    "    if q.widget_type == 'RadioButtons':\n",
    "        \n",
    "        #Create RadioButtons-widget:\n",
    "        w = RadioButtons(options = q.list_of_options,\n",
    "                         description = ' ',\n",
    "                         disabled = False)\n",
    "        \n",
    "        #Set widget width:\n",
    "        w.layout.width = '370px'\n",
    "        \n",
    "        #Define feedback output:\n",
    "        feedback = Output()\n",
    "        \n",
    "        #Open feedback object:\n",
    "        with feedback:\n",
    "            \n",
    "            #Clear previous feedback:\n",
    "            clear_output()\n",
    "            \n",
    "            #Print new feedback:\n",
    "            print('')\n",
    "    \n",
    "        \n",
    "        #Return widget in VBox:\n",
    "        return VBox([description_out, w, feedback])\n",
    "        \n",
    "    \n",
    "    #If the selected type of widget is \"\"Checkbox:\n",
    "    elif q.widget_type == 'Checkbox':\n",
    "        \n",
    "        #Create list to store HBoxes:\n",
    "        hbox_ls = []\n",
    "        \n",
    "        #Create a list of HBoxes, where every HBox includes a\n",
    "        #Checkbox-widget and its corresponding feedback-output():\n",
    "        for option in q.list_of_options:\n",
    "            \n",
    "            #Create widget:\n",
    "            w = Checkbox(value=False, description=option, disabled=False)\n",
    "            \n",
    "            #Define feedback output:\n",
    "            feedback = Output()\n",
    "            \n",
    "            #Open feedback object:\n",
    "            with feedback:\n",
    "\n",
    "                #Clear previous feedback:\n",
    "                clear_output()\n",
    "\n",
    "                #Print new feedback:\n",
    "                print('')\n",
    "            \n",
    "            #Add Checkbox-widget and output()-widget with feedback to list:\n",
    "            hbox_ls.append(HBox([w, feedback]))\n",
    "        \n",
    "        \n",
    "        #Return all horizontal boxes in a vertical box including the prompt:\n",
    "        return VBox([description_out] + hbox_ls)\n",
    "\n",
    "\n",
    "    else:\n",
    "        print('Question object has unknown widget type!')\n",
    "\n",
    "############################################################################################################\n",
    "\n",
    "def create_widget_form():\n",
    "    \n",
    "    #Import moduels:\n",
    "    from ipywidgets import Button, Image, Output, VBox, HBox, Checkbox\n",
    "    from IPython.display import clear_output\n",
    "    \n",
    "    #Create a question object for question 1:\n",
    "    q1 = Question(1,\n",
    "                  q1_prompt,\n",
    "                  q1_options,\n",
    "                  q1_feedback,\n",
    "                  'Kväve (N\\u2082)',\n",
    "                  'RadioButtons')\n",
    "    \n",
    "    #Create a question object for question 2:\n",
    "    q2 = Question(2,\n",
    "                  q2_prompt,\n",
    "                  q2_options,\n",
    "                  q2_feedback,\n",
    "                  ['Lustgas (N\\u2082O)', 'Koldioxid (CO\\u2082)', 'Metan (CH\\u2084)'],\n",
    "                  'Checkbox')\n",
    "\n",
    "    #Create a question object for question 3:\n",
    "    q3 = Question(3,\n",
    "                  q3_prompt,\n",
    "                  q3_options,\n",
    "                  q3_feedback,\n",
    "                  ['Träd & vegetation', 'Återplantering av Skog', 'Oceanisk Fotosyntes'],\n",
    "                  'Checkbox')\n",
    "    \n",
    "    #Create a question object for question 4:\n",
    "    q4 = Question(4,\n",
    "                  q4_prompt,\n",
    "                  q4_options,\n",
    "                  q4_feedback,\n",
    "                  ['Skogsbränder', 'Vulkaner', 'Djur- och Växtförfall', 'Användning av Fossila Bränslen'],\n",
    "                  'Checkbox')\n",
    "    \n",
    "    #Create a question object for question 5:\n",
    "    q5 = Question(5,\n",
    "                  q5_prompt,\n",
    "                  q5_options,\n",
    "                  q5_feedback,\n",
    "                  'Vår',\n",
    "                  'RadioButtons')\n",
    "    \n",
    "    #Create a question object for question 6:\n",
    "    q6 = Question(6,\n",
    "                  q6_prompt,\n",
    "                  q6_options,\n",
    "                  q6_feedback,\n",
    "                  'Fotosyntes',\n",
    "                  'RadioButtons')\n",
    "\n",
    "\n",
    "\n",
    "\n",
    "    #Call function to create widgets:\n",
    "    w_q1 = create_q_widget(q1)\n",
    "    w_q2 = create_q_widget(q2)\n",
    "    w_q3 = create_q_widget(q3)\n",
    "    w_q4 = create_q_widget(q4)\n",
    "    w_q5 = create_q_widget(q5)\n",
    "    w_q6 = create_q_widget(q6)\n",
    "    \n",
    "    \n",
    "    \n",
    "    #Create button widget (execution):\n",
    "    button_exe = Button(description='Visa resultat',\n",
    "                        disabled=False,\n",
    "                        button_style='danger', # 'success', 'info', 'warning', 'danger' or ''\n",
    "                        tooltip='Tryck på knappen för att visa resultat',\n",
    "                        icon='check')\n",
    "    \n",
    "    #Style button:\n",
    "    button_exe.style.button_color = '#3973ac'\n",
    "    button_exe.layout.width = '250px'\n",
    "    button_exe.layout.margin = '50px 100px 40px 300px'\n",
    "    \n",
    "    #Create button widget (retake quiz):\n",
    "    button_init = Button(description='   Försök igen',\n",
    "                         disabled=False,\n",
    "                         button_style='success', # 'success', 'info', 'warning', 'danger' or ''\n",
    "                         tooltip='Tryck på knappen för att ta om testet',\n",
    "                         icon='repeat')\n",
    "    \n",
    "    #Style button:\n",
    "    button_init.layout.width = '130px'\n",
    "    button_init.layout.margin = '50px 50px 40px 100px'\n",
    "    \n",
    "    #Initialize quiz-form output:\n",
    "    form_out = Output()\n",
    "    \n",
    "    #Initialize results output:\n",
    "    results_out = Output()\n",
    "    \n",
    "    #Initialize icon output:\n",
    "    icon_out = Output()\n",
    "    \n",
    "    \n",
    "    #Open quiz-form object:\n",
    "    with form_out:\n",
    "        \n",
    "        #Clear previous quiz:\n",
    "        clear_output()\n",
    "        \n",
    "        #Display widgets:\n",
    "        display(w_q1, w_q2, w_q3, w_q4, w_q5, w_q6, HBox([button_exe, button_init]), icon_out, results_out)\n",
    "    \n",
    "    \n",
    "    #function that unchecks checked checkboxes:\n",
    "    def uncheck_checkbox(q, w_q, i):\n",
    "        \n",
    "        #Set checkbox-value to False --> i.e. uncheck checked checkbox\n",
    "        w_q.children[i].children[0].value=False\n",
    "        \n",
    "        \n",
    "        \n",
    "    \n",
    "    \n",
    "    #Function that deletes the feedback of a radiobutton-question:\n",
    "    def del_feedback_radiobutton(q, w_q):\n",
    "            \n",
    "        #Open Output-object:\n",
    "        with w_q.children[2]:\n",
    "            \n",
    "            #Delete current feedback-output:\n",
    "            clear_output()\n",
    "                \n",
    "            #Print feedback:\n",
    "            #print('')\n",
    "                \n",
    "                \n",
    "                \n",
    "    #Function that deletes the feedback of a checkbox-question:\n",
    "    def del_feedback_checkbox(q, w_q, i):\n",
    "            \n",
    "        #Open Output-object:\n",
    "        with w_q.children[i].children[1]:\n",
    "            \n",
    "            #Delete current feedback-output:\n",
    "            clear_output()\n",
    "        \n",
    "    \n",
    "    \n",
    "    \n",
    "    #Function that prints the number of correct answers:\n",
    "    def show_grade(num_of_corr_ans, corr_ans_total):\n",
    "        \n",
    "        #Open results_out object:\n",
    "        with results_out:\n",
    "            \n",
    "            #Clear previous feedback:\n",
    "            clear_output()\n",
    "                \n",
    "            #Print new feedback:\n",
    "            print('\\033[1;96m'+'\\t\\t\\t\\t       ', num_of_corr_ans, '/', corr_ans_total, ' rätta svar!'+'\\033[1;96m')\n",
    "    \n",
    "    \n",
    "    \n",
    "    \n",
    "    #Function that executes on button_click (reset quiz):\n",
    "    def on_init_button_clicked(button_c):\n",
    "        \n",
    "        #Open results object:\n",
    "        with results_out:\n",
    "            \n",
    "            #Delete previous results:\n",
    "            clear_output()\n",
    "            \n",
    "            print('')\n",
    "            \n",
    "        \n",
    "        #Open icon object:\n",
    "        with icon_out:\n",
    "            \n",
    "            #Delete previous icon:\n",
    "            clear_output()\n",
    "            \n",
    "            print('')\n",
    "        \n",
    "        \n",
    "        #Open quiz-form object:\n",
    "        with form_out:\n",
    "\n",
    "            #Delete previous quiz:\n",
    "            clear_output()\n",
    "            \n",
    "            #Uncheck checkboxes:\n",
    "            [uncheck_checkbox(q2, w_q2, j) for j in range(1,len(w_q2.children))]\n",
    "            [uncheck_checkbox(q3, w_q3, j) for j in range(1,len(w_q3.children))]\n",
    "            [uncheck_checkbox(q4, w_q4, j) for j in range(1,len(w_q4.children))]\n",
    "            \n",
    "            #Reset radiobuttons:\n",
    "            w_q1.children[1].value = 'Koldioxid (CO\\u2082)'\n",
    "            w_q5.children[1].value = 'Vår'\n",
    "            w_q6.children[1].value = 'Djurhållning'\n",
    "            \n",
    "            \n",
    "            #Delete feedback:\n",
    "            del_feedback_radiobutton(q1, w_q1)\n",
    "            [del_feedback_checkbox(q2, w_q2, i) for i in range(1,len(w_q2.children))]\n",
    "            [del_feedback_checkbox(q3, w_q3, i) for i in range(1,len(w_q3.children))]\n",
    "            [del_feedback_checkbox(q4, w_q4, i) for i in range(1,len(w_q4.children))]\n",
    "            del_feedback_radiobutton(q5, w_q5)\n",
    "            del_feedback_radiobutton(q6, w_q6)\n",
    "\n",
    "\n",
    "            #Display widgets:\n",
    "            display(w_q1, w_q2, w_q3, w_q4, w_q5, w_q6, HBox([button_exe, button_init]), icon_out, results_out)\n",
    "\n",
    "\n",
    "\n",
    "    \n",
    "    \n",
    "    \n",
    "    #Function that executes on button_click (calculate score):\n",
    "    def on_exe_button_clicked(button_c):\n",
    "        \n",
    "        #Variable to count correct answers:\n",
    "        count = 0\n",
    "        \n",
    "        #Variable to count wrong answers:\n",
    "        false_ans_count = 0\n",
    "        \n",
    "        #Check answer of 1st question:\n",
    "        if(w_q1.children[1].value == q1.answer):\n",
    "            \n",
    "            count = count + 1\n",
    "            \n",
    "            \n",
    "        #Check answer of 5th question:\n",
    "        if(w_q5.children[1].value == q5.answer):\n",
    "             \n",
    "            count = count + 1\n",
    "            \n",
    "\n",
    "        #Check answer of 6th question:\n",
    "        if(w_q6.children[1].value == q6.answer):\n",
    "             \n",
    "            count = count + 1\n",
    "            \n",
    "            \n",
    "        \n",
    "        #Check answer of 1st question:\n",
    "        if(w_q1.children[1].value != q1.answer):\n",
    "            \n",
    "            false_ans_count = false_ans_count + 1\n",
    "            \n",
    "            \n",
    "        #Check answer of 5th question:\n",
    "        if(w_q5.children[1].value != q5.answer):\n",
    "             \n",
    "            false_ans_count = false_ans_count + 1\n",
    "            \n",
    "\n",
    "        #Check answer of 6th question:\n",
    "        if(w_q6.children[1].value != q6.answer):\n",
    "             \n",
    "            false_ans_count = false_ans_count + 1\n",
    "            \n",
    "\n",
    "\n",
    "        #Get a list of the values of the selected checkboxes:\n",
    "        wq2_selected_boxes = [[w_q2.children[i].children[0].description,i] for i in range(1,len(w_q2.children)) if w_q2.children[i].children[0].value==True]\n",
    "        wq3_selected_boxes = [[w_q3.children[i].children[0].description,i] for i in range(1,len(w_q3.children)) if w_q3.children[i].children[0].value==True]\n",
    "        wq4_selected_boxes = [[w_q4.children[i].children[0].description,i] for i in range(1,len(w_q4.children)) if w_q4.children[i].children[0].value==True]\n",
    "        \n",
    "        \n",
    "        #Get number of correct answers for checkbox-questions (q2, q3, q4):\n",
    "        q2_corr_ans = len([val2[0] for val2 in wq2_selected_boxes if val2[0] in q2.answer])\n",
    "        q3_corr_ans = len([val3[0] for val3 in wq3_selected_boxes if val3[0] in q3.answer])\n",
    "        q4_corr_ans = len([val4[0] for val4 in wq4_selected_boxes if val4[0] in q4.answer])\n",
    "        \n",
    "        #Get number of false values of the selected checkboxes:\n",
    "        q2_false_ans = len([val2[0] for val2 in wq2_selected_boxes if val2[0] not in q2.answer])\n",
    "        q3_false_ans = len([val3[0] for val3 in wq3_selected_boxes if val3[0] not in q3.answer])\n",
    "        q4_false_ans = len([val4[0] for val4 in wq4_selected_boxes if val4[0] not in q4.answer])\n",
    "        \n",
    "        \n",
    "        #If the total number of correct answers for q2 is less than 3 --> wrong answer:\n",
    "        if((q2_corr_ans - q2_false_ans) == 3):\n",
    "            q2_ans = 1\n",
    "        \n",
    "        else:\n",
    "            q2_ans = 0\n",
    "        \n",
    "        \n",
    "        #If the total number of correct answers for q3 is less than 3 --> wrong answer:\n",
    "        if((q3_corr_ans - q3_false_ans) == 3):\n",
    "            q3_ans = 1\n",
    "        \n",
    "        else:\n",
    "            q3_ans = 0\n",
    "        \n",
    "        \n",
    "        #If the total number of correct answers for q4 is less than 4 --> wrong answer:\n",
    "        if((q4_corr_ans - q4_false_ans) == 4):\n",
    "            q4_ans = 1\n",
    "        \n",
    "        else:\n",
    "            q4_ans = 0\n",
    "        \n",
    "        \n",
    "        #Add the total number of correct answers (from the checkbox questions) to count:\n",
    "        score = count + q2_ans + q3_ans + q4_ans\n",
    "\n",
    "  \n",
    "        #Check number of correct answers:\n",
    "        if(score<3):            \n",
    "            \n",
    "            \n",
    "            #Show badge:\n",
    "            with icon_out:\n",
    "                \n",
    "                #Delete previous image widget:\n",
    "                clear_output()\n",
    "                \n",
    "                #Create image widget:\n",
    "                black_fp = add_image_widget('images/black_fp_swe.png', 'png', 300, 400)\n",
    "                \n",
    "                #Define the layout of the image widget:\n",
    "                black_fp.layout.margin = '50px 10px 40px 300px'\n",
    "                \n",
    "                #Display image widget:\n",
    "                display(black_fp)\n",
    "                \n",
    "            \n",
    "            #Show grade:\n",
    "            show_grade(score, 6)\n",
    "\n",
    "            \n",
    "        #Check number of correct answers:   \n",
    "        elif(score>2 and score<4):\n",
    "            \n",
    "            #Show badge:\n",
    "            with icon_out:\n",
    "                \n",
    "                #Delete previous image widget:\n",
    "                clear_output()\n",
    "                \n",
    "                #Create image widget:\n",
    "                orange_fp = add_image_widget('images/orange_fp_swe.png', 'png', 300, 400)\n",
    "                \n",
    "                #Define the layout of the image widget:\n",
    "                orange_fp.layout.margin = '50px 100px 40px 300px'\n",
    "                \n",
    "                #Display image widget:\n",
    "                display(orange_fp)\n",
    "                \n",
    "            \n",
    "            #Show grade:\n",
    "            show_grade(score, 6)\n",
    "                \n",
    "            \n",
    "        #Check number of correct answers:  \n",
    "        elif(score>3 and score<6):\n",
    "            \n",
    "            #Show badge:\n",
    "            with icon_out:\n",
    "                \n",
    "                #Delete previous image widget:\n",
    "                clear_output()\n",
    "                \n",
    "                #Create image widget:\n",
    "                green_fp = add_image_widget('images/green_fp_swe.png', 'png', 300, 400)\n",
    "                \n",
    "                #Define the layout of the image widget:\n",
    "                green_fp.layout.margin = '50px 100px 40px 300px'\n",
    "                \n",
    "                #Display image widget:\n",
    "                display(green_fp)\n",
    "            \n",
    "            \n",
    "            #Show grade:\n",
    "            show_grade(score, 6)\n",
    "                \n",
    "         \n",
    "                \n",
    "        #Check number of correct answers:    \n",
    "        else:\n",
    "            \n",
    "            #Show badge:\n",
    "            with icon_out:\n",
    "                \n",
    "                #Delete previous image widget:\n",
    "                clear_output()\n",
    "\n",
    "                #Create image widget:\n",
    "                clim_champ = add_image_widget('images/clim_champ_swe.png', 'png', 300, 400)\n",
    "                \n",
    "                #Define the layout of the image widget:\n",
    "                clim_champ.layout.margin = '50px 100px 40px 300px'\n",
    "                \n",
    "                #Display image widget:\n",
    "                display(clim_champ)\n",
    "                \n",
    "            \n",
    "            #Show grade:\n",
    "            show_grade(score, 6)\n",
    "            \n",
    "        \n",
    "        \n",
    "        ##### Feedback - Radiobuttons ######\n",
    "        #Function that returns a feedback-output for a given question-object\n",
    "        #and question-widget:\n",
    "        def return_feedback_radiobutton(q, w_q):\n",
    "            \n",
    "            #Open Output-object:\n",
    "            with w_q.children[2]:\n",
    "                \n",
    "                #Delete current feedback-output:\n",
    "                clear_output()\n",
    "                \n",
    "                #Print feedback:\n",
    "                print(q.feedback_dict[w_q.children[1].value])\n",
    "\n",
    "        \n",
    "        ###### Feedback - Checkboxes #####\n",
    "        #Function that returns a feedback-output for a given question-object,\n",
    "        #question-widget and checkbox number (i.e. order in question-widget):\n",
    "        def return_feedback_checkbox(q, w_q, i):\n",
    "            \n",
    "            #Open Output-object:\n",
    "            with w_q.children[i].children[1]:\n",
    "            \n",
    "                #Delete current feedback-output:\n",
    "                clear_output()\n",
    "\n",
    "                #If current checkbox is checked:\n",
    "                if(w_q.children[i].children[0].value):\n",
    "\n",
    "                    #Print feedback:\n",
    "                    print(q.feedback_dict[w_q.children[i].children[0].description])\n",
    "                \n",
    "                #If current checkbox is not checked:\n",
    "                else:\n",
    "                    \n",
    "                    #Print feedback:\n",
    "                    print('')\n",
    "                    \n",
    "        \n",
    "        \n",
    "        \n",
    "                \n",
    "        #Print feedback for question 1:  \n",
    "        return_feedback_radiobutton(q1, w_q1)\n",
    "            \n",
    "        #Print Feedback for question 2:\n",
    "        [return_feedback_checkbox(q2, w_q2, i) for i in range(1,len(w_q2.children))]\n",
    "        \n",
    "        #Print Feedback for question 3:\n",
    "        [return_feedback_checkbox(q3, w_q3, i) for i in range(1,len(w_q3.children))]\n",
    "        \n",
    "        #Print Feedback for question 4:\n",
    "        [return_feedback_checkbox(q4, w_q4, i) for i in range(1,len(w_q4.children))]\n",
    "        \n",
    "        #Print feedback for question 5:  \n",
    "        return_feedback_radiobutton(q5, w_q5)\n",
    "        \n",
    "        #Print feedback for question 6:  \n",
    "        return_feedback_radiobutton(q6, w_q6)\n",
    " \n",
    " \n",
    "            \n",
    "    #Call function on button_click-event (calculate score):\n",
    "    button_exe.on_click(on_exe_button_clicked)\n",
    "    \n",
    "    #Call function on button_click-event (retake quiz):\n",
    "    button_init.on_click(on_init_button_clicked)\n",
    "\n",
    "        \n",
    "    #Display results:\n",
    "    display(form_out)\n",
    "    \n",
    "############################################################################################################\n",
    "\n",
    "#Call function to display quiz:\n",
    "create_widget_form()\n",
    "    "
   ]
  },
  {
   "cell_type": "markdown",
   "metadata": {
    "deletable": false,
    "editable": false
   },
   "source": [
    "<br>\n",
    "<br>\n",
    "<div style=\"text-align: right\"> \n",
    "    <a href=\"#intro\">Tillbaka till innehåll</a>\n",
    "</div>"
   ]
  },
  {
   "cell_type": "markdown",
   "metadata": {
    "deletable": false,
    "editable": false
   },
   "source": [
    "<br>\n",
    "<br>\n",
    "<a id='exercise_icos_htm'></a>"
   ]
  },
  {
   "cell_type": "markdown",
   "metadata": {
    "deletable": false,
    "editable": false
   },
   "source": [
    "## 5. Övningar med koldioxid-data från Hyltemossa mätstation\n",
    "I följande övningar kommer vi att beräkna statistik över större datamängder av koldioxid-värden (ca 17,856 mätningar) för 2017 – 2019 från Hyltemossa forskningsstation. Vi ska även visualisera koldioxid-värden genom att skapa ett interaktiv diagram och använda diagramets verktyg för att få ut mer information om dem presenterade värdena.\n",
    "\n",
    "För att beräkna denna statistik måste koldioxid-värdena, som finns sparade i en datafil, först läsas in i en tabell. I Python kan man använda färdiga program (moduler) för att läsa in data från en datafil till en tabell. En modul måste importeras innan det är möjligt att använda den. \n",
    "\n",
    "Ibland kan det vara intressant att beräkna statistik över kortare tidsperioder (som t.ex. en månad) istället för t.ex. ett helt år. Data som är lagrat i en tabell går att filtrera. Här kommer du att lära dig filtrera en tabell efter tid och beräkna statistik för den tidsperioden. \n",
    "\n",
    "I den sista delen av övningen får du chansen att hjälpa en forskare genom att testa dina nya programmeringsfärdigheter. Du kommer att få skriva kod för att besvara ett antal frågor som kräver att du filtrerar data enligt tid och beräknar statistik för värdena som tillhör den tidsperioden.\n",
    "\n",
    "Innan du fortsätter med övningarna, är det viktigt att du får lite mer information angående [Hyltemossa forskningsstation](https://www.icos-sweden.se/station_hyltemossa.html) som ligger söder om Perstorp i nordvästra Skåne. Stationen är belägen nära en 30-år gammal förvaltad granskog och är mätstation för forskningsinfrastrukturen [ICOS Sweden](https://www.icos-sweden.se/). ICOS, som är ett akronym för [Integrated Carbon Observation System](https://www.icos-cp.eu/), är en europeisk infrastruktur som bedriver mätningar över lång tid för att kartlägga Europas kolbalans och de växthusgaser som finns i luften. Vid stationen utförs miljöövervakning.  \n",
    "\n",
    "\n",
    "Mätningarna av koldioxid vid en mätstation påverkas av vad som finns i stationens omgivning. Vindens riktning kan också spela stor roll. Zooma in på kartan nedan för att se vad som finns omkring Hyltemossa forskningsstation. Kan du hitta Nedre Store sjö, Perstorps industrimark eller Ljungbyheds flygplats på kartan?"
   ]
  },
  {
   "cell_type": "code",
   "execution_count": null,
   "metadata": {
    "deletable": false,
    "editable": false,
    "scrolled": true
   },
   "outputs": [],
   "source": [
    "#Import modules:\n",
    "import folium\n",
    "\n",
    "#Create map object:\n",
    "m = folium.Map(location=[56.097991, 13.420181], zoom_start=7)\n",
    "\n",
    "#Add marker:\n",
    "folium.Marker(location=[56.097991, 13.420181],\n",
    "              popup='Hyltemossa Mätstation',\n",
    "              icon=folium.Icon(color='darkred', icon='cloud')).add_to(m)\n",
    "\n",
    "#Show map\n",
    "m"
   ]
  },
  {
   "cell_type": "markdown",
   "metadata": {
    "deletable": false,
    "editable": false
   },
   "source": [
    "<br>\n",
    "<br>\n",
    "<div style=\"text-align: right\"> \n",
    "    <a href=\"#intro\">Tillbaka till innehåll</a>\n",
    "</div>"
   ]
  },
  {
   "cell_type": "markdown",
   "metadata": {
    "deletable": false,
    "editable": false
   },
   "source": [
    "<br>\n",
    "<br>\n",
    "<a id='exercise_import_modules_py'></a>"
   ]
  },
  {
   "cell_type": "markdown",
   "metadata": {
    "deletable": false,
    "editable": false
   },
   "source": [
    "### 5.1. Importera Python moduler\n",
    "Python är ett programmeringsspråk som har inbyggda moduler. En modul kan beskrivas som ett packet av funktioner. För att använda dessa färdiga funktioner, behöver man först importera modulen de tillhör. Det är vanligt att man importerar moduler i början av ett python-program.\n",
    "\n",
    "I nästa kodcell visas syntaxen för hur man importerar python-moduler. Det går att importera alla funktioner från en modul (t.ex. <code style=\"color:#CD5C5C\">import numpy</code>).\n",
    "\n",
    "När man importerar en modul kan man byta dess namn efter kommandot <code style=\"color:#CD5C5C\">as</code>. Oftast är det en förkortning av dess angivna namn. <code style=\"color:#CD5C5C\">import numpy as np</code> betyder, importera modulen _numpy_ och ändra dess namn till _np_. På det viset behöver man inte skriva hela modulens namn när man ska anropa en funktion som tillhör den."
   ]
  },
  {
   "cell_type": "code",
   "execution_count": null,
   "metadata": {
    "deletable": false,
    "editable": false
   },
   "outputs": [],
   "source": [
    "################################\n",
    "#Add button to hide/show code:\n",
    "toggle_code()\n",
    "################################\n",
    "\n",
    "\n",
    "#Importera moduler:\n",
    "import numpy as np\n",
    "import pandas as pd\n",
    "from datetime import datetime"
   ]
  },
  {
   "cell_type": "markdown",
   "metadata": {
    "deletable": false,
    "editable": false
   },
   "source": [
    "<br>\n",
    "<br>\n",
    "<div style=\"text-align: right\"> \n",
    "    <a href=\"#intro\">Tillbaka till innehåll</a>\n",
    "</div>"
   ]
  },
  {
   "cell_type": "markdown",
   "metadata": {},
   "source": [
    "<br>\n",
    "<br>\n",
    "<a id='exercise_read_csv_to_pandas'></a>"
   ]
  },
  {
   "cell_type": "markdown",
   "metadata": {
    "deletable": false,
    "editable": false
   },
   "source": [
    "### 5.2. Läs in CSV-filer till tabeller i Python\n",
    "I Python kan man använda tabeller för att spara data. En tabell innehåller kolumner och rader. Python har olika typer av tabeller. I den typen av tabeller vi kommer att använda här är det möjligt att lagra data som tillhör olika data typer. T.ex. det är tillåtet att lagra en kolumn med text (strängar), en annan kolumn med nummer (t.ex. decimaltal) och en tredje kolumn med tidsobjekt i samma tabell (se figur).\n",
    "\n",
    "<br>\n",
    "<br>\n",
    "\n",
    "<img src=\"images/pandas_py_icos_ex_swe.png\" width=\"550\" align=\"center\">\n",
    "<br>\n",
    "<br>\n",
    "\n",
    "Varje värde i en tabell definieras av kolumnen och raden det tillhör. T.ex. värdet *413.473* i tabellen ovan tillhör kolumnen *co2* och radnummer *4*. Observera att radnummer i Python börjar med *0* istället för *1*. \n",
    "\n",
    "Radnummer fungerar oftast som index. Index används för att hitta data. För tillfället, går det bra att föreställa sig ett index som en av tabellens kolumner som innehåller unika värden för varje rad i tabellen. I det här fallet består indexet av ett nummer som är annnorlunda för varje rad. Ett index behöver inte endast bestå av nummer. Kolumner som består av tidsobjekt, som t.ex. kolumnen *DateTime* i övre figuren, skulle också kunna fungera som ett index. Det beror på att det inte är möjligt för två olika CO$_2$-mätningar att ha utförts under exakt samma tid.\n",
    "\n",
    "\n",
    "I nästa kodcell visas hur man läser in csv-filer till tabeller i Python. En csv-fil (comma sepparated values) är en text-fil som innehåller kommaseparerade värden. Den typen av filer kan lagra data från tabeller. Filen innehåller lika många rader som tabellen. Värden som tillhör samma rad men olika kolumner är separerade med kommatecken. Oftast innehåller första raden i dessa filer namnen för tabellens kolumner.\n",
    "\n",
    "För att läsa in data från en csv-fil till en tabell används funktionen <code style=\"color:#CD5C5C\">read_csv()</code> från modulen _pandas_, som omdöpts till _pd_ vid importering.\n",
    "<br>\n",
    "<br>\n",
    "<u>**Syntax:**</u>\n",
    "\n",
    "```python\n",
    "pandas.read_csv(\"sökväg_till_fill\",\n",
    "                \"rad_i_fil_som_innehåller_namn_till_kolumner\",\n",
    "                \"avgränsare\",\n",
    "                \"namn_för_kolumn_med_tidsinformation\")\n",
    "```\n",
    "<br>\n",
    "<br>\n"
   ]
  },
  {
   "cell_type": "markdown",
   "metadata": {
    "deletable": false,
    "editable": false
   },
   "source": [
    "#### 5.2.1.  Läs in CO$_2$ Data till Tabell\n",
    "För att läsa in data från en datafil behöver man kunna sökvägen. Sökvägen visar var en fil finns sparad i datorn eller i servern. Ifall filen innehåller en rad med kolumnnamn, får man skriva numret på den raden i *header*. Värden i en csv-fil kan vara separerade med kommatecken eller andra tecken. Du anger tecknet som används som avgränsare i *sep*. Python har en speciellt sätt att spara och hantera tidsvariabler. När en datafil innehåller en kolumn med tidsvariabler, får man ange namnet på den kolumnen i inläsningsfunktionen i *parse_dates*.\n",
    "\n",
    "I det här fallet, innehåller datafilen data för 5 kolumner:\n",
    "- **Site**: Förkortning av mästationens namn (*HTM* för Hyltemossa)\n",
    "- **SamplingHeight**: höjd (i meter) ovanför marken där sensorn mäter CO$_2$-värden.\n",
    "- **InstrumentId**: Kod för mätinstrumentet som utför mätningen. Varje instrument har en unik kod.\n",
    "- **DateTime**: Tidpunkt då mätningen utfördes.\n",
    "- **co2**: Koldioxid-värdet för en given tidpunkt."
   ]
  },
  {
   "cell_type": "markdown",
   "metadata": {
    "deletable": false,
    "editable": false
   },
   "source": [
    "<span style=\"color:blue\">**Exempel**</span>"
   ]
  },
  {
   "cell_type": "code",
   "execution_count": null,
   "metadata": {
    "deletable": false,
    "editable": false
   },
   "outputs": [],
   "source": [
    "################################\n",
    "#Add button to hide/show code:\n",
    "toggle_code()\n",
    "################################\n",
    "\n",
    "\n",
    "#Importera Kvalitetskontrollerad CO2-data från csv-fil:\n",
    "co2_tabell = pd.read_csv('data/icos/co2_concentrations/htm_150m_co2',\n",
    "                          header=0,\n",
    "                          sep=';',\n",
    "                          parse_dates=['DateTime'])\n",
    "\n",
    "#Visa tabellens 5 första rader:\n",
    "co2_tabell.head(5)"
   ]
  },
  {
   "cell_type": "markdown",
   "metadata": {
    "deletable": false,
    "editable": false
   },
   "source": [
    "<br>"
   ]
  },
  {
   "cell_type": "markdown",
   "metadata": {
    "deletable": false,
    "editable": false
   },
   "source": [
    "**Övning 1:** Testa med att visa tabellens 10 första rader.\n",
    "\n",
    "**Frivillig övning:** Försök att visa tabellens första rad. Obs! Kom ihåg att radnummer i Python börjar med **0**."
   ]
  },
  {
   "cell_type": "code",
   "execution_count": null,
   "metadata": {
    "deletable": false
   },
   "outputs": [],
   "source": [
    "################################\n",
    "#Add button to hide/show code:\n",
    "toggle_code()\n",
    "################################\n",
    "\n",
    "\n",
    "\n",
    "#Skriv din kod under denna text:\n",
    "\n"
   ]
  },
  {
   "cell_type": "markdown",
   "metadata": {
    "deletable": false,
    "editable": false
   },
   "source": [
    "<br>"
   ]
  },
  {
   "cell_type": "markdown",
   "metadata": {
    "deletable": false,
    "editable": false
   },
   "source": [
    "#### 5.2.2.  Hur många rader innehåller en tabell\n",
    "Det är möjligt att ta reda på hur många rader en tabell har med hjälp av kommandot ```len()```. ```len``` är en förkortning på det engelska ordet *length* och i det här sammanhanget har den betydelsen: *hur lång en tabell är*.\n",
    "\n",
    "Syntaxet är: \n",
    "\n",
    "```python\n",
    "len(tabell_namn)```\n",
    "\n",
    "<br>\n",
    "<br>\n",
    "\n",
    "<span style=\"color:blue\">**Exempel:**</span> Visa hur många rader tabellen \"co2_tabell\" har."
   ]
  },
  {
   "cell_type": "code",
   "execution_count": null,
   "metadata": {
    "deletable": false,
    "editable": false
   },
   "outputs": [],
   "source": [
    "################################\n",
    "#Add button to hide/show code:\n",
    "toggle_code()\n",
    "################################\n",
    "\n",
    "\n",
    "\n",
    "#Visa hur många rader tabellen \"co2_tabell\" har:\n",
    "len(co2_tabell)"
   ]
  },
  {
   "cell_type": "markdown",
   "metadata": {
    "deletable": false,
    "editable": false
   },
   "source": [
    "<br>\n",
    "<br>\n",
    "<div style=\"text-align: right\"> \n",
    "    <a href=\"#intro\">Tillbaka till innehåll</a>\n",
    "</div>"
   ]
  },
  {
   "cell_type": "markdown",
   "metadata": {
    "deletable": false,
    "editable": false
   },
   "source": [
    "<br>\n",
    "<br>\n",
    "<a id='add_index_to_pandas'></a>"
   ]
  },
  {
   "cell_type": "markdown",
   "metadata": {
    "deletable": false,
    "editable": false
   },
   "source": [
    "### 5.3. Definiera Index för en Tabell\n",
    "När man skapar en tabell, definieras automatiskt ett numeriskt index. Första raden har ett index som är lika med \"**0**\". Andra raden har ett index so är lika med \"**1**\". Tredje raden har ett index som är lika med \"**2**\", osv. Indexet fortsätter inkrementärt för varje rad.\n",
    "\n",
    "\n",
    "Ett index används för att välja och extrahera data från en tabell. Det är till exempel möjligt att extrahera alla värden som finns i rad \"**1**\" i tabellen ```co2_tabell```, genom att använda kommandot <code style=\"color:#CD5C5C\">co2_tabell.loc[0]</code>.\n",
    "\n",
    "\n",
    "Det går även att definiera ett eget index för en tabell med hjälp av inbyggda metoden <code style=\"color:#CD5C5C\">set_index()</code>. Indexet kan bestå av numeriska värden, text eller speciella tidsobjekt (strukturer som används för att spara datum och tid). Ett index bör bestå av en kolumn vars värden är unika för varje rad i tabellen (dvs ett index bör inte innehålla några dubletter).\n",
    "Den ovannämnda inbyggda metoden möjliggör att sätta en av tabellens existernade kolumner som index:\n",
    "<br>\n",
    "<br>\n",
    "$$ tabell\\_namn.set\\_index(kolumn\\_namn) $$\n",
    "<br>\n",
    "<br>\n"
   ]
  },
  {
   "cell_type": "markdown",
   "metadata": {
    "deletable": false,
    "editable": false
   },
   "source": [
    "<span style=\"color:blue\">**Exempel 1:**</span> Extrahera alla värden från tabellens första rad."
   ]
  },
  {
   "cell_type": "code",
   "execution_count": null,
   "metadata": {
    "deletable": false,
    "editable": false
   },
   "outputs": [],
   "source": [
    "################################\n",
    "#Add button to hide/show code:\n",
    "toggle_code()\n",
    "################################\n",
    "\n",
    "\n",
    "\n",
    "#Extrahera alla värden från tabellens första rad:\n",
    "co2_tabell.loc[0]"
   ]
  },
  {
   "cell_type": "markdown",
   "metadata": {
    "deletable": false,
    "editable": false
   },
   "source": [
    "<br>\n",
    "\n",
    "<span style=\"color:blue\">**Exempel 2:**</span> Extrahera CO$_2$-värdet från tabellens första rad."
   ]
  },
  {
   "cell_type": "code",
   "execution_count": null,
   "metadata": {
    "deletable": false,
    "editable": false
   },
   "outputs": [],
   "source": [
    "################################\n",
    "#Add button to hide/show code:\n",
    "toggle_code()\n",
    "################################\n",
    "\n",
    "\n",
    "\n",
    "#Extrahera CO2-värdet från tabellens första rad:\n",
    "co2_tabell.loc[0].co2"
   ]
  },
  {
   "cell_type": "code",
   "execution_count": null,
   "metadata": {
    "deletable": false,
    "editable": false
   },
   "outputs": [],
   "source": [
    "def create_coding_quiz_question(question_num, correct_answer):\n",
    "    \n",
    "    #Import modules:\n",
    "    from ipywidgets import FloatText, Button, Output, HBox, Valid\n",
    "    from IPython.display import clear_output\n",
    "    \n",
    "\n",
    "    #Create a FloatText widget:\n",
    "    py_q = FloatText(value=0.01,\n",
    "                     description=str(question_num)+'.',\n",
    "                     disabled=False)\n",
    "\n",
    "    #Create button widget:\n",
    "    answer_btn = Button(description='Kontrollera resultat',\n",
    "                        disabled=False,\n",
    "                        button_style='danger', # 'success', 'info', 'warning', 'danger', 'primary' or ''\n",
    "                        tooltip='Tryck på knappen för att kontrollera svaret') \n",
    "\n",
    "\n",
    "    #Style button:\n",
    "    answer_btn.style.button_color ='#3973ac'\n",
    "    answer_btn.layout.width = '140px'\n",
    "\n",
    "\n",
    "    #Create output widget:\n",
    "    feedback_out = Output()\n",
    "\n",
    "    #Create Valid widget to mark answer:\n",
    "    #feedback = Valid(value=True,\n",
    "                     #description='',\n",
    "                     #readout='')\n",
    "\n",
    "\n",
    "    def on_btn_click(btn):\n",
    "\n",
    "        #Check user's answer:\n",
    "        if((py_q.value < correct_answer+1.0) and (py_q.value > correct_answer-1.0)):\n",
    "\n",
    "            #Change feedback-value to TRUE:\n",
    "            #feedback.value = True\n",
    "\n",
    "            #Correct answer:\n",
    "            feedback_text = '\\033[1;32m'+u'\\u2713'+ '\\033[0m'\n",
    "\n",
    "\n",
    "        else:\n",
    "\n",
    "            #Change feedback-value to FALSE:\n",
    "            #feedback.value = False\n",
    "\n",
    "            #Wrong answer:\n",
    "            feedback_text = '\\033[1;33m'+'X'+ '\\033[0m'\n",
    "\n",
    "        #Clear previous feedback output and add mark:\n",
    "        with feedback_out:\n",
    "            \n",
    "            #Clear previous output:\n",
    "            clear_output()\n",
    "            \n",
    "            #display(feedback)\n",
    "            \n",
    "            #Display new feedback:\n",
    "            print(feedback_text)\n",
    "            \n",
    "        return\n",
    "\n",
    "\n",
    "\n",
    "\n",
    "    #Call function on button_click-event:\n",
    "    answer_btn.on_click(on_btn_click)\n",
    "\n",
    "\n",
    "\n",
    "    #Display widget:\n",
    "    return HBox([py_q, answer_btn, feedback_out])"
   ]
  },
  {
   "cell_type": "code",
   "execution_count": null,
   "metadata": {
    "deletable": false,
    "editable": false
   },
   "outputs": [],
   "source": [
    "def create_coding_quiz_question_true_false(question_num, correct_answer):\n",
    "    \n",
    "    #Import modules:\n",
    "    from ipywidgets import FloatText, Dropdown, Button, Output, HBox, Valid\n",
    "    from IPython.display import clear_output\n",
    "    \n",
    "    \n",
    "\n",
    "        \n",
    "    #Create a Dropdown widget (with True-False options):\n",
    "    py_q = Dropdown(options=['Vet inte', 'Korrekt', 'Fel'],\n",
    "                    value='Vet inte',\n",
    "                    description=str(question_num)+'.',\n",
    "                    disabled=False)\n",
    "        \n",
    "        \n",
    "\n",
    "    #Create button widget:\n",
    "    answer_btn = Button(description='Kontrollera resultat',\n",
    "                        disabled=False,\n",
    "                        button_style='danger', # 'success', 'info', 'warning', 'danger', 'primary' or ''\n",
    "                        tooltip='Tryck på knappen för att kontrollera svaret') \n",
    "\n",
    "\n",
    "    #Style button:\n",
    "    answer_btn.style.button_color ='#3973ac'\n",
    "    answer_btn.layout.width = '140px'\n",
    "\n",
    "\n",
    "    #Create output widget:\n",
    "    feedback_out = Output()\n",
    "\n",
    "    #Create Valid widget to mark answer:\n",
    "    #feedback = Valid(value=True,\n",
    "                     #description='',\n",
    "                     #readout='')\n",
    "\n",
    "\n",
    "    def on_btn_click(btn):\n",
    "\n",
    "        #Check user's answer:\n",
    "        if(py_q.value == 'Korrekt'):\n",
    "\n",
    "            #Change feedback-value to TRUE:\n",
    "            #feedback.value = True\n",
    "\n",
    "            #Correct answer:\n",
    "            feedback_text = '\\033[1;32m'+u'\\u2713'+ '\\033[0m'\n",
    "\n",
    "\n",
    "        else:\n",
    "\n",
    "            #Change feedback-value to FALSE:\n",
    "            #feedback.value = False\n",
    "\n",
    "            #Wrong answer:\n",
    "            feedback_text = '\\033[1;33m'+'X'+ '\\033[0m'\n",
    "\n",
    "        #Clear previous feedback output and add mark:\n",
    "        with feedback_out:\n",
    "            \n",
    "            #Clear previous output:\n",
    "            clear_output()\n",
    "            \n",
    "            #display(feedback)\n",
    "            \n",
    "            #Display new feedback:\n",
    "            print(feedback_text)\n",
    "            \n",
    "        return\n",
    "\n",
    "\n",
    "\n",
    "\n",
    "    #Call function on button_click-event:\n",
    "    answer_btn.on_click(on_btn_click)\n",
    "\n",
    "\n",
    "\n",
    "    #Display widget:\n",
    "    return HBox([py_q, answer_btn, feedback_out])"
   ]
  },
  {
   "cell_type": "markdown",
   "metadata": {
    "deletable": false,
    "editable": false
   },
   "source": [
    "<br>"
   ]
  },
  {
   "cell_type": "markdown",
   "metadata": {
    "deletable": false,
    "editable": false
   },
   "source": [
    "**Övning 2:** Testa att extrahera koldioxid-värdet för tabellens 8:e rad. Obs! Kom ihåg att radnummer i Python börjar med **0**.\n",
    "\n",
    "**Övning 3:** Testa extrahera koldioxid-värdet för tabellens 1001:e rad.\n",
    "\n",
    "-  Klicka på knappen ```Visa/Dölj Kod``` nedan för att skriva din kod.\n",
    "-  Kör din kod genom att klicka på ```Run```.\n",
    "-  Kopiera och klistra in ditt resultat i motsvarande svarfält nedan. Klicka sedan på ```Kontrollera resultat```-knappen för att se ifall ditt svar är korrekt.\n"
   ]
  },
  {
   "cell_type": "code",
   "execution_count": null,
   "metadata": {
    "deletable": false
   },
   "outputs": [],
   "source": [
    "################################\n",
    "#Add button to hide/show code:\n",
    "toggle_code()\n",
    "################################\n",
    "\n",
    "\n",
    "#Skriv din kod under denna text:\n",
    "\n"
   ]
  },
  {
   "cell_type": "code",
   "execution_count": null,
   "metadata": {
    "deletable": false,
    "editable": false
   },
   "outputs": [],
   "source": [
    "#Import widgets:\n",
    "from ipywidgets import VBox\n",
    "\n",
    "#Display both answer-control boxes in the same column:\n",
    "display(VBox([create_coding_quiz_question('Övning 2', 414.511),\n",
    "              create_coding_quiz_question('Övning 3', 402.561)]))"
   ]
  },
  {
   "cell_type": "markdown",
   "metadata": {
    "deletable": false,
    "editable": false
   },
   "source": [
    "<br>\n",
    "<br>\n",
    "<br>"
   ]
  },
  {
   "cell_type": "markdown",
   "metadata": {
    "deletable": false,
    "editable": false
   },
   "source": [
    "**Sätt kolumnen \"DateTime\" som Index**"
   ]
  },
  {
   "cell_type": "code",
   "execution_count": null,
   "metadata": {
    "deletable": false,
    "editable": false
   },
   "outputs": [],
   "source": [
    "################################\n",
    "#Add button to hide/show code:\n",
    "toggle_code()\n",
    "################################\n",
    "\n",
    "\n",
    "\n",
    "#Sätt kolumnen \"DateTime\" som index i tabellen:\n",
    "co2_tabell_ind = co2_tabell.copy().set_index('DateTime')\n",
    "\n",
    "#Visa resultat:\n",
    "co2_tabell_ind.head()"
   ]
  },
  {
   "cell_type": "markdown",
   "metadata": {
    "deletable": false,
    "editable": false
   },
   "source": [
    "<br>\n",
    "<br>\n",
    "<br>"
   ]
  },
  {
   "cell_type": "markdown",
   "metadata": {
    "deletable": false,
    "editable": false
   },
   "source": [
    "**Filtrera en tabell med tids-index (en tidspunkt)**\n",
    "\n",
    "\n",
    "Använd följande kod för att extrahera alla rader som innehåller data för en given datum och tid i en tabell:\n",
    "\n",
    "<br>\n",
    "<br>\n",
    "$$tabell\\_namn[tabell\\_namn.index == datetime(år, månad, dag)]$$\n",
    "<br>\n",
    "<br>\n",
    "\n",
    "<span style=\"color:blue\">**Exempel:**</span> Visa data för en given datum och tid  --- > 1 Juni 2017 kl. 07:00:00"
   ]
  },
  {
   "cell_type": "code",
   "execution_count": null,
   "metadata": {
    "deletable": false,
    "editable": false
   },
   "outputs": [],
   "source": [
    "################################\n",
    "#Add button to hide/show code:\n",
    "toggle_code()\n",
    "################################\n",
    "\n",
    "\n",
    "\n",
    "#Visa alla rader som innehåller data för en given datum och tid:\n",
    "co2_tabell_ind[co2_tabell_ind.index==datetime(2017, 6, 1, 7, 0, 0)]"
   ]
  },
  {
   "cell_type": "markdown",
   "metadata": {
    "deletable": false,
    "editable": false
   },
   "source": [
    "<br>"
   ]
  },
  {
   "cell_type": "markdown",
   "metadata": {
    "deletable": false,
    "editable": false
   },
   "source": [
    "**Övning 4:** Testa att visa data för den 1 Juni 2017 kl. 15:00:00. \n",
    "\n",
    "**Övning 5:** Testa att visa data för den 31 December 2017 kl. 21:00:00.\n",
    "\n",
    "-  Klicka på knappen ```Visa/Dölj Kod``` nedan för att skriva din kod.\n",
    "-  Kör din kod genom att klicka på ```Run```.\n",
    "-  Kopiera och klistra in koldioxid-värdet för varje övning i motsvarande svarfält nedan. Klicka sedan på ```Kontrollera resultat```-knappen för att se ifall ditt svar är korrekt."
   ]
  },
  {
   "cell_type": "code",
   "execution_count": null,
   "metadata": {
    "deletable": false
   },
   "outputs": [],
   "source": [
    "################################\n",
    "#Add button to hide/show code:\n",
    "toggle_code()\n",
    "################################\n",
    "\n",
    "\n",
    "#Skriv din kod under denna text:\n",
    "\n"
   ]
  },
  {
   "cell_type": "code",
   "execution_count": null,
   "metadata": {
    "deletable": false,
    "editable": false
   },
   "outputs": [],
   "source": [
    "#Import widgets:\n",
    "from ipywidgets import VBox\n",
    "\n",
    "#Display both answer-control boxes in the same column:\n",
    "display(VBox([create_coding_quiz_question('Övning 4', 407.01),\n",
    "              create_coding_quiz_question('Övning 5', 414.307)]))"
   ]
  },
  {
   "cell_type": "markdown",
   "metadata": {
    "deletable": false,
    "editable": false
   },
   "source": [
    "<br>\n",
    "<br>\n",
    "<br>"
   ]
  },
  {
   "cell_type": "markdown",
   "metadata": {
    "deletable": false,
    "editable": false
   },
   "source": [
    "**Filtrera en tabell till tidsperioder med hjälp av ett tids-index**\n",
    "\n",
    "\n",
    "Det är möjligt att dela data i en tabell till olika tidsperioder med hjälp av ett tids-index. Följande kod visar hur man kan göra för att få ut data för en definierad tidsperiod. Syntaxet vi kommer att använda är:\n",
    "\n",
    "<br>\n",
    "<br>\n",
    "$$tabell\\_namn[datetime(år_{start}, månad_{start}, dag_{start}):datetime(år_{slut}, månad_{slut}, dag_{slut}, timme_{slut}, minut_{slut})]$$\n",
    "<br>\n",
    "<br>\n",
    "\n",
    "<span style=\"color:blue\">**Exempel:**</span> Visa data för en given tidsperiod  --- > 1 Juni 2017 kl. 00:00:00 - 1 Juni 2017 kl. 23:00:00."
   ]
  },
  {
   "cell_type": "code",
   "execution_count": null,
   "metadata": {
    "deletable": false,
    "editable": false
   },
   "outputs": [],
   "source": [
    "################################\n",
    "#Add button to hide/show code:\n",
    "toggle_code()\n",
    "################################\n",
    "\n",
    "\n",
    "\n",
    "#Visa alla rader som innehåller data för den 1 juni 2017 (1 dag):\n",
    "co2_tabell_ind[datetime(2017, 6, 1):datetime(2017, 6, 1, 23, 59)]"
   ]
  },
  {
   "cell_type": "markdown",
   "metadata": {
    "deletable": false,
    "editable": false
   },
   "source": [
    "<br>"
   ]
  },
  {
   "cell_type": "markdown",
   "metadata": {
    "deletable": false,
    "editable": false
   },
   "source": [
    "**Övning 6:** Testa att visa data för den 31 December 2017 från kl. 08:00 till 17:00. \n",
    "\n",
    "**Frivillig övning:** Testa att visa data från den 31 December 2017 kl. 21:30 till den 1 Januari 2018 kl. 12:00.\n"
   ]
  },
  {
   "cell_type": "code",
   "execution_count": null,
   "metadata": {
    "deletable": false
   },
   "outputs": [],
   "source": [
    "################################\n",
    "#Add button to hide/show code:\n",
    "toggle_code()\n",
    "################################\n",
    "\n",
    "\n",
    "#Skriv din kod under denna text:\n",
    "\n",
    "\n"
   ]
  },
  {
   "cell_type": "markdown",
   "metadata": {
    "deletable": false,
    "editable": false
   },
   "source": [
    "<br>\n",
    "<br>\n",
    "<div style=\"text-align: right\"> \n",
    "    <a href=\"#intro\">Tillbaka till innehåll</a>\n",
    "</div>"
   ]
  },
  {
   "cell_type": "markdown",
   "metadata": {
    "deletable": false,
    "editable": false
   },
   "source": [
    "<br>\n",
    "<br>\n",
    "<a id='pandas_stats'></a>"
   ]
  },
  {
   "cell_type": "markdown",
   "metadata": {
    "deletable": false,
    "editable": false
   },
   "source": [
    "### 5.4. Statistik över kolumner i en tabell\n",
    "I tabellen som presenterades i början av del 5.2 var det enkelt att se vilket det högsta eller lägsta CO$_2$-värdet var. Det skulle även vara möjligt att beräkna medelvärdet av CO$_2$-värdena med papper och penna. Det är inte lika enkelt att beräkna den typen av statistik när en tabell innehåller flera tusen rader. I dem fallen behöver man använda programmering.\n",
    "\n",
    "\n",
    "Tabeller i Python innehåller en del inbyggda funktioner som kan användas för att beräkna statistik över värdena i en kolumn. Det är, till exempel, möjligt att beräkna minimum ```min()```, maximum ```max()``` och medelvärde ```mean()``` . Syntaxet för dessa beräkningar är:\n",
    "<br>\n",
    "<br>\n",
    "$$tabell\\_namn.kolumn\\_namn.funktion()$$\n",
    "<br>\n",
    "<br>"
   ]
  },
  {
   "cell_type": "markdown",
   "metadata": {
    "deletable": false,
    "editable": false
   },
   "source": [
    "<br>\n",
    "<br>"
   ]
  },
  {
   "cell_type": "markdown",
   "metadata": {
    "deletable": false,
    "editable": false
   },
   "source": [
    "<span style=\"color:blue\">**Exempel:**</span> Beräkna det lägsta värdet av koldioxid för hela datasetet"
   ]
  },
  {
   "cell_type": "code",
   "execution_count": null,
   "metadata": {
    "deletable": false,
    "editable": false
   },
   "outputs": [],
   "source": [
    "################################\n",
    "#Add button to hide/show code:\n",
    "toggle_code()\n",
    "################################\n",
    "\n",
    "\n",
    "\n",
    "#Beräkna det minsta värdet för kolumnen 'co2':\n",
    "co2_tabell_ind.co2.min()"
   ]
  },
  {
   "cell_type": "markdown",
   "metadata": {
    "deletable": false,
    "editable": false
   },
   "source": [
    "<br>"
   ]
  },
  {
   "cell_type": "markdown",
   "metadata": {
    "deletable": false,
    "editable": false
   },
   "source": [
    "**Övning 7:** Testa att beräkna det största värdet för kolumnen *co2*.\n",
    "\n",
    "**Övning 8:** Testa att beräkna medelvärdet för kolumnen *co2*.\n",
    "\n",
    "-  Klicka på knappen ```Visa/Dölj Kod``` nedan för att skriva din kod.\n",
    "-  Kör din kod genom att klicka på ```Run```.\n",
    "-  Kopiera och klistra in resultatet för varje övning i motsvarande svarfält nedan. Klicka sedan på ```Kontrollera resultat```-knappen för att se ifall ditt svar är korrekt."
   ]
  },
  {
   "cell_type": "code",
   "execution_count": null,
   "metadata": {
    "deletable": false
   },
   "outputs": [],
   "source": [
    "################################\n",
    "#Add button to hide/show code:\n",
    "toggle_code()\n",
    "################################\n",
    "\n",
    "\n",
    "#Skriv din kod under denna text:\n",
    "\n"
   ]
  },
  {
   "cell_type": "code",
   "execution_count": null,
   "metadata": {
    "deletable": false,
    "editable": false
   },
   "outputs": [],
   "source": [
    "#Import widgets:\n",
    "from ipywidgets import VBox\n",
    "\n",
    "#Display both answer-control boxes in the same column:\n",
    "display(VBox([create_coding_quiz_question('Övning 7', 452.815),\n",
    "              create_coding_quiz_question('Övning 8', 411.61789244104784)]))"
   ]
  },
  {
   "cell_type": "markdown",
   "metadata": {
    "deletable": false,
    "editable": false
   },
   "source": [
    "<br>\n"
   ]
  },
  {
   "cell_type": "markdown",
   "metadata": {
    "deletable": false,
    "editable": false
   },
   "source": [
    "<span style=\"color:blue\">**Exempel:**</span>\n",
    "\n",
    "I Python går det att kombinera flera processer på samma rad. Koden i exemplet nedan filtrerar tabellen på tid och beräknar statistik för den tidsperioden med en funktion.\n",
    "\n",
    "```python\n",
    "\n",
    "tabell_namn[datetime(år, månad, dag, timme, minut):datetime(år, månad, dag, timme, minut)].kolumn_namn.funktion()\n",
    "\n",
    "\n",
    "```\n",
    "\n",
    "\n",
    "För exempel, för att beräkna genomsnittet för co$_2$-värden mellan kl. 08:00 och kl. 17:00 den 31 Decemeber 2018 kan man skriva:\n",
    "\n",
    "```python\n",
    "\n",
    "co2_tabell_ind[datetime(2018, 12, 31, 8):datetime(2018, 12, 31, 17, 0)].co2.mean()\n",
    "\n",
    "```\n"
   ]
  },
  {
   "cell_type": "markdown",
   "metadata": {
    "deletable": false,
    "editable": false
   },
   "source": [
    "<br>"
   ]
  },
  {
   "cell_type": "markdown",
   "metadata": {},
   "source": [
    "**Övning 9:** Testa att beräkna det lägsta värdet för kolumnen *co2*  mellan kl. 08:00 och kl. 14:00 den 10 Juni 2018.\n",
    "\n",
    "**Övning 10:** Testa att beräkna det lägsta värdet för kolumnen *co2*  mellan kl. 08:00 och kl. 14:00 den 31 Decemeber 2018.\n",
    "\n",
    "-  Klicka på knappen ```Visa/Dölj Kod``` nedan för att skriva din kod.\n",
    "-  Kör din kod genom att klicka på ```Run```.\n",
    "-  Kopiera och klistra in resultatet för varje övning i motsvarande svarfält nedan. Klicka sedan på ```Kontrollera resultat```-knappen för att se ifall ditt svar är korrekt."
   ]
  },
  {
   "cell_type": "code",
   "execution_count": null,
   "metadata": {
    "deletable": false
   },
   "outputs": [],
   "source": [
    "################################\n",
    "#Add button to hide/show code:\n",
    "toggle_code()\n",
    "################################\n",
    "\n",
    "\n",
    "#Skriv din kod under denna text:\n",
    "\n",
    "\n"
   ]
  },
  {
   "cell_type": "code",
   "execution_count": null,
   "metadata": {
    "deletable": false,
    "editable": false
   },
   "outputs": [],
   "source": [
    "#Import widgets:\n",
    "from ipywidgets import VBox\n",
    "\n",
    "#Display both answer-control boxes in the same column:\n",
    "display(VBox([create_coding_quiz_question('Övning 9', 393.825),\n",
    "              create_coding_quiz_question('Övning 10', 418.103)]))"
   ]
  },
  {
   "cell_type": "markdown",
   "metadata": {
    "deletable": false,
    "editable": false
   },
   "source": [
    "<br>\n",
    "<br>\n",
    "<div style=\"text-align: right\"> \n",
    "    <a href=\"#intro\">Tillbaka till innehåll</a>\n",
    "</div>"
   ]
  },
  {
   "cell_type": "markdown",
   "metadata": {
    "deletable": false,
    "editable": false
   },
   "source": [
    "<br>\n",
    "<br>\n",
    "<a id='exercise_plot_data_bokeh'></a>"
   ]
  },
  {
   "cell_type": "markdown",
   "metadata": {
    "deletable": false,
    "editable": false
   },
   "source": [
    "### 5.5. Plotta Data i ett Interaktivt Diagram\n",
    "I den här delen kommer vi att plotta tabellen med CO$_2$-data till ett interaktivt diagram. Det finns flera visualiseringsbibliotek i Python för att plotta data. Visualiseringsbibliotek innehåller färdig kod som man kan använda för att visualisera data på olika sätt. I det här fallet, kommer du att få en färdig funktion som innehåller kommando för att skapa ett interaktivt diagram.\n",
    "\n",
    "En funktion är en samling av kod (dvs. ett kodblock) som bara körs när funktionen blir anropad. Den kan innehålla variabler, operatorer (t.ex. <code style=\"color:gray\">+</code>, <code style=\"color:gray\">-</code>, <code style=\"color:gray\">*</code>, <code style=\"color:gray\">/</code> eller <code style=\"color:gray\">%</code>), if-satser, loopar, mm. \n",
    "\n",
    "Det är möjligt att importera värden till en funktion med hjälp av argument (parametrar). En funktion kan ha noll, en eller flera argument. En funktion kan returnera data som resultat med hjälp av return-stasen. <code style=\"color:#CD5C5C\">return</code> används vanligtvis i slutet av en funktion för att returnera resultatet.\n",
    "Så skriver man för att skapa en funktion i Python:\n",
    "\n",
    "<br>\n",
    "\n",
    "```python\n",
    "def funktion_namn(argument1, argument2):\n",
    "    \n",
    "    summa = argument1 + argument2\n",
    "    \n",
    "    return summa\n",
    "```\n",
    "\n",
    "\n",
    "<br>\n",
    "Funktionen vi kommer att använda har två argument. Det första argumentet representerar en tabell med koldioxid-värden. Det andra argumentet representerar färgen som plotten ska ha. Observera att du behöver inte förstå koden i funktionen. Det som är meningen här är att du gör dig bekant med att mata in data i en funktion med hjälp av argument. Funktionen kommer att returnera olika resultat baserat på vilka värden du anger som parametrar. Kika gärna på ditt A4-ark med instruktioner för att se hur du kan använda diagramets verktyg.\n"
   ]
  },
  {
   "cell_type": "code",
   "execution_count": null,
   "metadata": {
    "deletable": false,
    "editable": false
   },
   "outputs": [],
   "source": [
    "#Funktion som skapar en interaktiv plott från en pandas dataframe med co2-data i given färg:\n",
    "def plott(df_L2, color):\n",
    "    \n",
    "    #Importera moduler:\n",
    "    from datetime import datetime\n",
    "    from bokeh.plotting import figure\n",
    "    from bokeh.models import ColumnDataSource, HoverTool, Label\n",
    "    from bokeh.io import show, output_notebook\n",
    "\n",
    "    #Nyckel-värdetabell för att omvandla nummer till deras motsvarande superscript eller subscript varianter:\n",
    "    SUB = str.maketrans(\"0123456789\", \"₀₁₂₃₄₅₆₇₈₉\")\n",
    "    SUP = str.maketrans(\"0123456789\", \"⁰¹²³⁴⁵⁶⁷⁸⁹\")\n",
    "\n",
    "    #Skapa ett figur-objekt:\n",
    "    p = figure(plot_width=900,\n",
    "               plot_height=500,\n",
    "               x_axis_label='Time (UTC)', \n",
    "               y_axis_label='CO2'.translate(SUB)+' (' +'\\u03BC'+ 'mol.mol-1'.translate(SUP) + ')',\n",
    "               x_axis_type='datetime',\n",
    "               title = 'Koldioxidkoncentration (Hyltemossa, Sverige, '+str(df_L2.SamplingHeight.iloc[0])+'m)' ,\n",
    "               tools='pan,box_zoom,wheel_zoom,reset,save')\n",
    "\n",
    "\n",
    "    #Skapa en tomm lista som ska lagra all legend-info:\n",
    "    legend_it = []\n",
    "\n",
    "\n",
    "    #Extrahera tid- och gas-värden för kvalitetskontrollerad och icke kvalitetskontrollerad data:\n",
    "    x1 = df_L2.index.values\n",
    "    y1 = df_L2.co2.values\n",
    "\n",
    "    #Skapa en cirkel-glyph:\n",
    "    r0 = p.circle(x1, y1, radius=.12, color=color)\n",
    "    \n",
    "    #Skapa en linje-glyph:\n",
    "    r1 = p.line(x1, y1,\n",
    "                line_width=1, color=color)\n",
    "\n",
    "    #Lägg till tooltip:\n",
    "    p.add_tools(HoverTool(tooltips=[\n",
    "        ('Time (UTC)','@x{%Y-%m-%d %H:%M:%S}'),\n",
    "        ('CO2'.translate(SUB),'@y{0.f}'),\n",
    "        ],\n",
    "        formatters={\n",
    "            'x'      : 'datetime', \n",
    "        },\n",
    "        # visa ett tooltip när musen är i lodrätt-linje med motsvarande glyph\n",
    "        mode='vline'\n",
    "        ))  \n",
    "\n",
    "    #Definiera formatteringsattribut för plottens titel:\n",
    "    p.title.align = 'center'\n",
    "    p.title.text_font_size = '13pt'\n",
    "    p.title.offset = 15\n",
    "\n",
    "    #Definiera font för x-axel och y-axel titlarna :\n",
    "    p.xaxis.axis_label_text_font_style = 'normal'\n",
    "    p.yaxis.axis_label_text_font_style = 'normal'\n",
    "    p.xaxis.axis_label_standoff = 15 #Sets the distance of the label from the x-axis in screen units\n",
    "    p.yaxis.axis_label_standoff = 15 #Sets the distance of the label from the y-axis in screen units\n",
    "\n",
    "    #Definiera vart copyright-texten ska stå:\n",
    "    label_opts = dict(x=0, y=10,\n",
    "                      x_units='screen', y_units='screen')\n",
    "\n",
    "    #Skapa copyright-texten:\n",
    "    caption1 = Label(text=\"© ICOS ERIC\", **label_opts)\n",
    "    caption1.text_font_size = '8pt'\n",
    "\n",
    "    #Inaktivera hover-verktyget, som är alltid aktivt annars:\n",
    "    p.toolbar.active_inspect = None\n",
    "\n",
    "    #Lägg till copyright-texten till plotten:\n",
    "    p.add_layout(caption1, 'below')\n",
    "\n",
    "    #Definiera vart resultatet ska visas:\n",
    "    output_notebook()\n",
    "    \n",
    "    #Visa plott:\n",
    "    show(p)"
   ]
  },
  {
   "cell_type": "code",
   "execution_count": null,
   "metadata": {
    "deletable": false,
    "editable": false
   },
   "outputs": [],
   "source": [
    "#Funktion som skapar en interaktiv plott från en pandas dataframe med co2-data i given färg:\n",
    "def plotta_stat(df_L2, start_month, end_month, statistic, color):\n",
    "    \n",
    "    #Importera moduler:\n",
    "    from datetime import datetime\n",
    "    from bokeh.plotting import figure\n",
    "    from bokeh.models import ColumnDataSource, HoverTool, Label\n",
    "    from bokeh.io import show, output_notebook\n",
    "\n",
    "    #Nyckel-värdetabell för att omvandla nummer till deras motsvarande superscript eller subscript varianter:\n",
    "    SUB = str.maketrans(\"0123456789\", \"₀₁₂₃₄₅₆₇₈₉\")\n",
    "    SUP = str.maketrans(\"0123456789\", \"⁰¹²³⁴⁵⁶⁷⁸⁹\")\n",
    "    \n",
    "    #Addera kolumn och fyll med NaN-värden:\n",
    "    df_L2['co2_filtered'] = np.NaN\n",
    "\n",
    "    \n",
    "    \n",
    "    \n",
    "    #Kontrollera ifall start_month är ett lägre nummer än end_month:\n",
    "    if(start_month<end_month):\n",
    "    \n",
    "        #Kontrollera vilken typ av statistik:\n",
    "        if statistic=='min':\n",
    "\n",
    "            #Filtrera tabell och beräkna statistik för varje år:\n",
    "            stat_2017 = df_L2[datetime(2017, start_month, 1):datetime(2017, end_month, 30, 23, 59)].co2.min()\n",
    "            stat_2018 = df_L2[datetime(2018, start_month, 1):datetime(2018, end_month, 30, 23, 59)].co2.min()\n",
    "            stat_2019 = df_L2[datetime(2019, start_month, 1):datetime(2019, end_month, 30, 23, 59)].co2.min()\n",
    "\n",
    "\n",
    "        elif statistic=='max':\n",
    "\n",
    "            #Filtrera tabell och beräkna statistik för varje år:\n",
    "            stat_2017 = df_L2[datetime(2017, start_month, 1):datetime(2017, end_month, 30, 23, 59)].co2.max()\n",
    "            stat_2018 = df_L2[datetime(2018, start_month, 1):datetime(2018, end_month, 30, 23, 59)].co2.max()\n",
    "            stat_2019 = df_L2[datetime(2019, start_month, 1):datetime(2019, end_month, 30, 23, 59)].co2.max()\n",
    "\n",
    "\n",
    "        elif statistic=='mean':\n",
    "\n",
    "            #Filtrera tabell och beräkna statistik för varje år:\n",
    "            stat_2017 = df_L2[datetime(2017, start_month, 1):datetime(2017, end_month, 30, 23, 59)].co2.mean()\n",
    "            stat_2018 = df_L2[datetime(2018, start_month, 1):datetime(2018, end_month, 30, 23, 59)].co2.mean()\n",
    "            stat_2019 = df_L2[datetime(2019, start_month, 1):datetime(2019, end_month, 30, 23, 59)].co2.mean()\n",
    "\n",
    "\n",
    "        else:\n",
    "\n",
    "            print('Error! Invalid name of statistic!')\n",
    "            \n",
    "            \n",
    "        #Ändra värdena på den nya kolumnen:\n",
    "        df_L2.loc[datetime(2017, start_month, 1):datetime(2017, end_month, 30, 23, 59), 'co2_filtered'] = stat_2017\n",
    "        df_L2.loc[datetime(2018, start_month, 1):datetime(2018, end_month, 30, 23, 59), 'co2_filtered'] = stat_2018\n",
    "        df_L2.loc[datetime(2019, start_month, 1):datetime(2019, end_month, 30, 23, 59), 'co2_filtered'] = stat_2019\n",
    "\n",
    "\n",
    "    \n",
    "    #Ifall \"start_month\" är ett större nummer än \"end_month\":\n",
    "    else:\n",
    "        \n",
    "        #Kontrollera vilken typ av statistik:\n",
    "        if statistic=='min':\n",
    "\n",
    "            #Filtrera tabell och beräkna statistik för varje år:\n",
    "            stat_2017 = df_L2[datetime(2017, start_month, 1):datetime(2018, end_month, 30, 23, 59)].co2.min()\n",
    "            stat_2018 = df_L2[datetime(2018, start_month, 1):datetime(2019, end_month, 30, 23, 59)].co2.min()\n",
    "            stat_2019 = df_L2[datetime(2019, start_month, 1):datetime(2020, end_month, 30, 23, 59)].co2.min()\n",
    "\n",
    "\n",
    "        elif statistic=='max':\n",
    "\n",
    "            #Filtrera tabell och beräkna statistik för varje år:\n",
    "            stat_2017 = df_L2[datetime(2017, start_month, 1):datetime(2018, end_month, 30, 23, 59)].co2.max()\n",
    "            stat_2018 = df_L2[datetime(2018, start_month, 1):datetime(2019, end_month, 30, 23, 59)].co2.max()\n",
    "            stat_2019 = df_L2[datetime(2019, start_month, 1):datetime(2020, end_month, 30, 23, 59)].co2.max()\n",
    "\n",
    "\n",
    "        elif statistic=='mean':\n",
    "\n",
    "            #Filtrera tabell och beräkna statistik för varje år:\n",
    "            stat_2017 = df_L2[datetime(2017, start_month, 1):datetime(2018, end_month, 30, 23, 59)].co2.mean()\n",
    "            stat_2018 = df_L2[datetime(2018, start_month, 1):datetime(2019, end_month, 30, 23, 59)].co2.mean()\n",
    "            stat_2019 = df_L2[datetime(2019, start_month, 1):datetime(2020, end_month, 30, 23, 59)].co2.mean()\n",
    "\n",
    "\n",
    "        else:\n",
    "\n",
    "            print('Error! Invalid name of statistic!')\n",
    "        \n",
    "        \n",
    "        #Ändra värdena på den nya kolumnen:\n",
    "        df_L2.loc[datetime(2017, start_month, 1):datetime(2018, end_month, 30, 23, 59), 'co2_filtered'] = stat_2017\n",
    "        df_L2.loc[datetime(2018, start_month, 1):datetime(2019, end_month, 30, 23, 59), 'co2_filtered'] = stat_2018\n",
    "        df_L2.loc[datetime(2019, start_month, 1):datetime(2020, end_month, 30, 23, 59), 'co2_filtered'] = stat_2019\n",
    "\n",
    "        \n",
    "        \n",
    "    \n",
    "    #Skapa ett figur-objekt:\n",
    "    p = figure(plot_width=900,\n",
    "               plot_height=500,\n",
    "               x_axis_label='Time (UTC)', \n",
    "               y_axis_label='CO2'.translate(SUB)+' (' +'\\u03BC'+ 'mol.mol-1'.translate(SUP) + ')',\n",
    "               x_axis_type='datetime',\n",
    "               title = 'Koldioxidkoncentration (Hyltemossa, Sverige, '+str(df_L2.SamplingHeight.iloc[0])+'m)' ,\n",
    "               tools='pan,box_zoom,wheel_zoom,reset,save')\n",
    "\n",
    "\n",
    "    #Skapa en tomm lista som ska lagra all legend-info:\n",
    "    legend_it = []\n",
    "\n",
    "\n",
    "    #Extrahera tid- och gas-värden för kvalitetskontrollerad och icke kvalitetskontrollerad data:\n",
    "    x1 = df_L2.index.values\n",
    "    y2 = df_L2.co2.values\n",
    "    y1 = df_L2.co2_filtered.values\n",
    "\n",
    "    #Skapa en cirkel-glyph:\n",
    "    r01 = p.circle(x1, y2, radius=.12, color='lightgray', name='observationer')\n",
    "    r0 = p.circle(x1, y1, radius=.12, color=color, name=statistic)\n",
    "    \n",
    "    #Skapa en linje-glyph:\n",
    "    r11 = p.line(x1, y2, line_width=0.5, color='lightgray', name='observationer')\n",
    "    r1 = p.line(x1, y1, line_width=2, color=color, name=statistic)\n",
    "\n",
    "    #Lägg till tooltip:\n",
    "    p.add_tools(HoverTool(tooltips=[\n",
    "        ('Time (UTC)','@x{%Y-%m-%d %H:%M:%S}'),\n",
    "        ('CO2'.translate(SUB),'@y{0.f}'),\n",
    "        ('Typ','$name'),\n",
    "        ],\n",
    "        formatters={\n",
    "            'x'      : 'datetime', \n",
    "        },\n",
    "        # visa ett tooltip när musen är i lodrätt-linje med motsvarande glyph\n",
    "        mode='vline'\n",
    "        ))  \n",
    "\n",
    "    #Definiera formatteringsattribut för plottens titel:\n",
    "    p.title.align = 'center'\n",
    "    p.title.text_font_size = '13pt'\n",
    "    p.title.offset = 15\n",
    "\n",
    "    #Definiera font för x-axel och y-axel titlarna :\n",
    "    p.xaxis.axis_label_text_font_style = 'normal'\n",
    "    p.yaxis.axis_label_text_font_style = 'normal'\n",
    "    p.xaxis.axis_label_standoff = 15 #Sets the distance of the label from the x-axis in screen units\n",
    "    p.yaxis.axis_label_standoff = 15 #Sets the distance of the label from the y-axis in screen units\n",
    "\n",
    "    #Definiera vart copyright-texten ska stå:\n",
    "    label_opts = dict(x=0, y=10,\n",
    "                      x_units='screen', y_units='screen')\n",
    "\n",
    "    #Skapa copyright-texten:\n",
    "    caption1 = Label(text=\"© ICOS ERIC\", **label_opts)\n",
    "    caption1.text_font_size = '8pt'\n",
    "\n",
    "    #Inaktivera hover-verktyget, som är alltid aktivt annars:\n",
    "    p.toolbar.active_inspect = None\n",
    "\n",
    "    #Lägg till copyright-texten till plotten:\n",
    "    p.add_layout(caption1, 'below')\n",
    "\n",
    "    #Definiera vart resultatet ska visas:\n",
    "    output_notebook()\n",
    "    \n",
    "    #Visa plott:\n",
    "    show(p)"
   ]
  },
  {
   "cell_type": "markdown",
   "metadata": {
    "deletable": false,
    "editable": false
   },
   "source": [
    "<span style=\"color:green\">**Kalla funktion**</span>"
   ]
  },
  {
   "cell_type": "code",
   "execution_count": null,
   "metadata": {
    "deletable": false,
    "editable": false
   },
   "outputs": [],
   "source": [
    "################################\n",
    "#Add button to hide/show code:\n",
    "toggle_code()\n",
    "################################\n",
    "\n",
    "\n",
    "\n",
    "#Kalla funktion för att plotta data från två tabeller. Ange även vilken färg du vill plotten ska ha.\n",
    "plott(co2_tabell_ind, color='green')"
   ]
  },
  {
   "cell_type": "markdown",
   "metadata": {
    "deletable": false,
    "editable": false
   },
   "source": [
    "__Övning 11:__\n",
    "\n",
    "1. Försök att skapa en likadan plot med en annan färg och spara din plott med hjälp av \"Save\"-knappen i Bokeh toolbar. Tryck på ```Visa/Dölj Kod```-knappen nedan och skriv in din kod.\n",
    "2. Använd verktygen Box-Zoom & Hover från Bokeh toolbar för att zooma in på plotten och se under vilka månader de högsta värdena observerats. Varför är värdena höga under dem månaderna?\n",
    "3. Använd verktygen Box-Zoom och Hover från Bokeh toolbar för att se under vilka månader de lägsta värdena observeras? Vad tror du att det beror på?\n",
    "4. Använd verktygen Box-Zoom och Hover från Bokeh toolbar för att zooma in på dagen den 24 Juli 2017. Observera att värdena är höga så länge det är mörkt och går ner så länge det är ljust. Vilken process tror du orsakar detta?"
   ]
  },
  {
   "cell_type": "markdown",
   "metadata": {
    "deletable": false,
    "editable": false
   },
   "source": [
    "<span style=\"color:gray\">**Skriv kod för övning 11.1 här**</span>"
   ]
  },
  {
   "cell_type": "code",
   "execution_count": null,
   "metadata": {
    "deletable": false
   },
   "outputs": [],
   "source": [
    "################################\n",
    "#Add button to hide/show code:\n",
    "toggle_code()\n",
    "################################\n",
    "\n",
    "\n",
    "\n",
    "#Skriv kod för övning 11.1 under denna rad:\n",
    "\n",
    "\n"
   ]
  },
  {
   "cell_type": "markdown",
   "metadata": {
    "deletable": false,
    "editable": false
   },
   "source": [
    "<br>\n",
    "<br>\n",
    "<div style=\"text-align: right\"> \n",
    "    <a href=\"#intro\">Tillbaka till innehåll</a>\n",
    "</div>"
   ]
  },
  {
   "cell_type": "markdown",
   "metadata": {
    "deletable": false,
    "editable": false
   },
   "source": [
    "<br>\n",
    "<br>\n",
    "<a id='final_exercise_py'></a>"
   ]
  },
  {
   "cell_type": "markdown",
   "metadata": {
    "deletable": false,
    "editable": false
   },
   "source": [
    "## 6. Hjälp Forskaren\n",
    "\n",
    "Annika är klimatforskare och vill undersöka ifall koldioxidkoncentrationen ökat från 2017 till 2019 nära Hyltemossa mätstation. För att göra det behöver hon beräkna medelvärdet av koldioxidkoncentrationen för varje år.\n",
    "\n",
    "\n",
    "Annika har fullt upp med fältarbete.\n",
    "Kan du hjälpa henne med att genomföra beräkningarna?\n",
    "\n",
    "**Fråga 1.** Vilket år observeras det högsta medelvärdet av koldioxidkoncentration?\n",
    "<br>\n",
    "**Fråga 2.** Vilket var det högsta medelvärdet av koldioxidkoncentration?\n",
    "<br>\n",
    "**Fråga 3.** Har koldioxidkoncentrationen nära Hyltemossa ökat genom åren?\n",
    "\n",
    "En kollega till Annika har skickat henne kod för en funktion i Python som plottar statistik. Använd funktionen för att svara på fråga 3:\n",
    "```python\n",
    "plotta_stat(tabell_namn, start_månad, slut_månad, statistik_typ, färg)\n",
    "```\n",
    "\n",
    "Ex.\n",
    "```python\n",
    "plotta_stat(co2_tabell_ind, 1, 6, 'max', color='red')\n",
    "```\n",
    "\n",
    "\n",
    "<br>\n",
    "\n",
    "-  Klicka på knappen ```Visa/Dölj Kod``` nedan för att skriva din kod.\n",
    "-  Kör din kod genom att klicka på ```Run```.\n",
    "-  Kopiera och klistra in resultatet för varje fråga i motsvarande svarfält nedan. Klicka sedan på ```Kontrollera resultat```-knappen för att se ifall ditt svar är korrekt."
   ]
  },
  {
   "cell_type": "code",
   "execution_count": null,
   "metadata": {
    "deletable": false
   },
   "outputs": [],
   "source": [
    "################################\n",
    "#Add button to hide/show code:\n",
    "toggle_code()\n",
    "################################\n",
    "\n",
    "\n",
    "\n",
    "#Skriv din kod under denna rad:\n",
    "\n"
   ]
  },
  {
   "cell_type": "code",
   "execution_count": null,
   "metadata": {
    "deletable": false,
    "editable": false
   },
   "outputs": [],
   "source": [
    "#Import widgets:\n",
    "from ipywidgets import VBox\n",
    "\n",
    "#Display both answer-control boxes in the same column:\n",
    "display(VBox([create_coding_quiz_question('Fråga 1', 2019),\n",
    "              create_coding_quiz_question('Fråga 2', 414.0263449756651),\n",
    "              create_coding_quiz_question_true_false('Fråga 3', 'Korrekt')]))"
   ]
  },
  {
   "cell_type": "markdown",
   "metadata": {
    "deletable": false,
    "editable": false
   },
   "source": [
    "<br>\n",
    "<br>\n",
    "<div style=\"text-align: right\"> \n",
    "    <a href=\"#intro\">Tillbaka till innehåll</a>\n",
    "</div>\n",
    "<br>\n",
    "<br>"
   ]
  },
  {
   "cell_type": "markdown",
   "metadata": {
    "deletable": false,
    "editable": false
   },
   "source": [
    "<img src=\"logos/logos_vattenhallen.png\" width=\"800\" align=\"center\"/>"
   ]
  },
  {
   "cell_type": "markdown",
   "metadata": {
    "deletable": false,
    "editable": false
   },
   "source": [
    "\n",
    " <font size=\"0.7\"><b>icon credits</b></font><br>\n",
    " <font size=\"0.7\">CO$_2$-icon made by Freepik from www.flaticon.com</font>"
   ]
  }
 ],
 "metadata": {
  "kernelspec": {
   "display_name": "Python 3",
   "language": "python",
   "name": "python3"
  },
  "language_info": {
   "codemirror_mode": {
    "name": "ipython",
    "version": 3
   },
   "file_extension": ".py",
   "mimetype": "text/x-python",
   "name": "python",
   "nbconvert_exporter": "python",
   "pygments_lexer": "ipython3",
   "version": "3.7.4"
  }
 },
 "nbformat": 4,
 "nbformat_minor": 2
}
