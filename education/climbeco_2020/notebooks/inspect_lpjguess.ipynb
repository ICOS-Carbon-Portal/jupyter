{
 "cells": [
  {
   "cell_type": "markdown",
   "metadata": {},
   "source": [
    "<img src=\"../ancillarydata/logos/climbeco_course_logo.png\" width=\"1000\" align=\"left\"/>\n",
    "<a id='introduction'></a>\n",
    "<br>"
   ]
  },
  {
   "cell_type": "markdown",
   "metadata": {},
   "source": [
    "# Compare LPJ-GUESS model output & FLUXNET observations\n",
    "This notebook is dedicated on presenting interactive NEE-, GPP- and RTOT-plots for a given station. You can compare, zoom-in and hover over the content of the plot. It is also possible to switch layers on or off by clicking on the layer names in the legend. By clicking on the checkbox, you will view averaged monthly values."
   ]
  },
  {
   "cell_type": "markdown",
   "metadata": {},
   "source": [
    "### Run functions in tools"
   ]
  },
  {
   "cell_type": "code",
   "execution_count": null,
   "metadata": {},
   "outputs": [],
   "source": [
    "#from tools import read_fluxnet_dd, read_fluxnet_hh\n",
    "%run ./tools.ipynb"
   ]
  },
  {
   "cell_type": "markdown",
   "metadata": {},
   "source": [
    "<a id='plot'></a>"
   ]
  },
  {
   "cell_type": "code",
   "execution_count": null,
   "metadata": {
    "scrolled": false
   },
   "outputs": [],
   "source": [
    "#Call function to display form:\n",
    "lpj_var_dropdown(lpj_var_dict)"
   ]
  },
  {
   "cell_type": "markdown",
   "metadata": {},
   "source": [
    "<img src=\"../ancillarydata/logos/climbeco_contributors_logo.png\" width=\"1000\" align=\"left\"/>"
   ]
  }
 ],
 "metadata": {
  "kernelspec": {
   "display_name": "Python 3",
   "language": "python",
   "name": "python3"
  },
  "language_info": {
   "codemirror_mode": {
    "name": "ipython",
    "version": 3
   },
   "file_extension": ".py",
   "mimetype": "text/x-python",
   "name": "python",
   "nbconvert_exporter": "python",
   "pygments_lexer": "ipython3",
   "version": "3.7.6"
  }
 },
 "nbformat": 4,
 "nbformat_minor": 4
}
