{
 "cells": [
  {
   "cell_type": "markdown",
   "metadata": {},
   "source": [
    "<img src=\"../ancillarydata/logos/climbeco_course_logo.png\" width=\"1000\" align=\"left\"/>\n",
    "<br>\n",
    "<br>\n",
    "<br>\n",
    "<br>\n",
    "<br>"
   ]
  },
  {
   "cell_type": "markdown",
   "metadata": {},
   "source": [
    "<a id='introduction'></a>"
   ]
  },
  {
   "cell_type": "markdown",
   "metadata": {},
   "source": [
    "# ClimBEco - Inspect variables in FLUXNET-files \n",
    "In this course you will work with data from 18 stations in northern Europe. The aim of this notebook is to help you inspect all variables included in the corresponding FLUXNET-files.\n",
    "\n",
    "\n",
    "The inspection is done by viewing a sequence of interactive plots. You may update the content of an interactive plot  using widgets (e.g. dropdown lists, checkboxes). It is also possible to interact with the content of the plot by using the plot toolbox (found on the right side of the plot). Some variables are presented with an interactive legend. In this case, it is possible to switch on or off a layer, simply by clicking on its name in the legend.\n",
    "\n",
    "\n",
    "An interactive map is produced at every run with the selected station highlighted in red. Click on the markers to view some summarized information about the stations. If you click on the link provided in the popup, you will be redirected to the _European Fluxes Database Cluster_ webpage which includes more detailed information regarding the selected station.\n",
    "\n",
    "\n",
    "If you wish to view a more detailed description of the FLUXNET variables click [here](https://fluxnet.fluxdata.org/data/fluxnet2015-dataset/fullset-data-product/).\n",
    "\n",
    "<br>\n",
    "<br>\n",
    "\n",
    "# Instructions on how to Run the Notebook\n",
    "Go to the menu at the top of the page and click on __Kernel__  and then __Restart & Run All__, to execute all the code in the notebook.\n",
    "\n",
    "<br>\n",
    "<br>\n",
    "\n",
    "<img src=\"../ancillarydata/images/restart_run_all_nb_pic.png\" width=\"250\" align=\"center\"/>\n",
    "\n",
    "<br>\n",
    "<br>\n",
    "\n",
    "When your notebook has finished executing you will be redirected to the bottom of the page. Use the links to move back to the top. Select which part of the notebook you wish to work with; _daily values_ or _half-hourly values_ using the corresponding links and start interacting with the widgets.  "
   ]
  },
  {
   "cell_type": "code",
   "execution_count": null,
   "metadata": {},
   "outputs": [],
   "source": [
    "#Run tools notebook:\n",
    "%run ./tools.ipynb"
   ]
  },
  {
   "cell_type": "markdown",
   "metadata": {},
   "source": [
    "<br>\n",
    "<br>\n",
    "<div style=\"text-align: right\"> \n",
    "    <a href=\"#introduction\">Back to top</a>\n",
    "</div>"
   ]
  },
  {
   "cell_type": "markdown",
   "metadata": {},
   "source": [
    "<a id='fluxnet_daily'></a>\n",
    "<br>\n",
    "<br>"
   ]
  },
  {
   "cell_type": "markdown",
   "metadata": {},
   "source": [
    "## Inspect FLUXNET-files with daily values \n",
    "This part is dedicated on presenting plots of variables in FLUXNET-files with daily values.\n",
    "\n",
    "<br>\n",
    "<div style=\"text-align: right\"> \n",
    "    <a href=\"#fluxnet_daily_plot\">Go to plot</a>\n",
    "</div>"
   ]
  },
  {
   "cell_type": "markdown",
   "metadata": {},
   "source": [
    "<a id='fluxnet_daily_plot'></a>"
   ]
  },
  {
   "cell_type": "code",
   "execution_count": null,
   "metadata": {
    "scrolled": false
   },
   "outputs": [],
   "source": [
    "#Call function to display widgets:\n",
    "create_fluxnet_dd_widgets()\n",
    "    "
   ]
  },
  {
   "cell_type": "markdown",
   "metadata": {},
   "source": [
    "<br>\n",
    "<br>\n",
    "<div style=\"text-align: right\"> \n",
    "    <a href=\"#introduction\">Back to top</a>\n",
    "</div>"
   ]
  },
  {
   "cell_type": "markdown",
   "metadata": {},
   "source": [
    "<br>\n",
    "<br>\n",
    "<br>\n",
    "<br>\n",
    "<img src=\"../ancillarydata/logos/climbeco_contributors_logo.png\" width=\"1000\" align=\"left\"/>\n",
    "<br>\n",
    "<br>\n",
    "<br>\n",
    "<br>\n",
    "<br>\n",
    "<br>\n",
    "<br>\n",
    "<br>"
   ]
  }
 ],
 "metadata": {
  "kernelspec": {
   "display_name": "Python 3",
   "language": "python",
   "name": "python3"
  },
  "language_info": {
   "codemirror_mode": {
    "name": "ipython",
    "version": 3
   },
   "file_extension": ".py",
   "mimetype": "text/x-python",
   "name": "python",
   "nbconvert_exporter": "python",
   "pygments_lexer": "ipython3",
   "version": "3.7.6"
  }
 },
 "nbformat": 4,
 "nbformat_minor": 2
}
