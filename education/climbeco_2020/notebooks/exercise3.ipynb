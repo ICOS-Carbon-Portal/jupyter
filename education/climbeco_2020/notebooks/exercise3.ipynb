{
 "cells": [
  {
   "cell_type": "markdown",
   "metadata": {},
   "source": [
    "<img src=\"../ancillarydata/logos/climbeco_course_logo.png\" width=\"1000\" align=\"left\"/>\n",
    "<a id='introduction'></a>\n",
    "<br>"
   ]
  },
  {
   "cell_type": "markdown",
   "metadata": {},
   "source": [
    "<br>\n",
    "<br>\n",
    "\n",
    "\n",
    "# <font color=#800000> Exercise 3</font>  \n",
    "## _Upscaling eddy covariance GPP with remote sensing_\n",
    "<br>\n",
    "\n",
    "This exercise package is focusing on how to use remote sensing (RS) observations from satellite for upscaling eddy covariance measurements, based on the light use efficiency (LUE) model ``` GPP = PAR * fAPAR * LUE ```. ```PAR``` is the photosynthetically active radiation, ```fAPAR``` is the fractional absorbed PAR by vegetation, ```LUE``` is the efficiency of vegetation to convert the light energy into biomaterials. The aim of the exercise is to provide an insight into how remote sensing can be used to upscale GPP and to stimulate a discussion on strengths and weaknesses of this approach.\n",
    "\n",
    "\n",
    "### Input Data:\n",
    "- MODIS EVI2 observations from the Nadir Bidirectional Reflectance Distribution Function (BRDF)-Adjusted Reflectance (NBAR) dataset ([MCD43A4 Version 6](https://lpdaac.usgs.gov/products/mcd43a4v006/)) during 2017-2018, aggregated to a 16-day temporal resolution to reduce noise. EVI2 is a vegetation index derived from red and near-infrared reflectance. fAPAR is estimated with the equation: ```fAPAR = (EVI2 - 0.1) * 1.25```, following [Zhang et al. (2017) Scientific Data, doi: 10.1038/sdata.2017.165](https://www.nature.com/articles/sdata2017165).\n",
    "\n",
    "\n",
    "- 18 ICOS eddy-covariance (EC) sites with measurements during 2015-2018, including GPP and PAR. The measurements were aggregated to 16-day averages to match the MODIS data.\n",
    "\n",
    "\n",
    "- MODIS land cover types data (a static map from [IGBP 2017](https://developers.google.com/earth-engine/datasets/catalog/MODIS_006_MCD12Q1)).\n",
    "\n",
    "\n",
    "- ECMWF ERA5 surface shortwave incoming radiation ([SSIR](https://www.ecmwf.int/)), resampled and aggregated to match the MODIS EVI2 data. PAR can be obtained by multiplying a scalar of 0.45 to SSIR: ```PAR = 0.45 * SSIR```.\n",
    "\n",
    "<br>\n",
    "<br>\n",
    "\n",
    "The exercise includes the following parts:\n",
    "1. [Calculate the LUE coefficients with EC and remote sensing data for different vegetation types](#part1).\n",
    "\n",
    "2. [Create a LUE raster from the land cover classification map by assigning the calculated LUE values to certain land cover types](#part2).\n",
    "\n",
    "3. [Upscale GPP from the remote sensing observations (e.g., EVI2), PAR estimations from ECMWF, and the created LUE raster](#part3).\n",
    "\n",
    "4. [Investigate the upscaled GPP data](#part4).\n",
    "\n",
    "5. [Tasks](#part5)\n",
    "\n",
    "<br>\n",
    "<br>"
   ]
  },
  {
   "cell_type": "markdown",
   "metadata": {},
   "source": [
    "## Import modules\n",
    "The code-cell below includes code for importing all the modules needed for completing the tasks."
   ]
  },
  {
   "cell_type": "code",
   "execution_count": null,
   "metadata": {},
   "outputs": [],
   "source": [
    "#Import modules:\n",
    "import os\n",
    "import pandas as pd\n",
    "import numpy as np\n",
    "import gdal\n",
    "from sklearn import linear_model\n",
    "from sklearn.metrics import r2_score\n",
    "import seaborn as sns\n",
    "import matplotlib.pyplot as plt\n",
    "import matplotlib as mpl\n",
    "from datetime import datetime\n",
    "from IPython.display import display, HTML\n",
    "from tqdm.notebook import tqdm\n",
    "\n",
    "#Disable warnings:\n",
    "import warnings\n",
    "warnings.filterwarnings('ignore')\n",
    "\n",
    "#Use Seaborn gray background grid:\n",
    "sns.set(color_codes=True)\n",
    "\n",
    "#Make single matplotlib plots being displayed at the center of the notebook:\n",
    "display(HTML(\"\"\"\n",
    "<style>\n",
    ".output_png img {\n",
    "    display: block;\n",
    "    margin-left: auto;\n",
    "    margin-right: auto;\n",
    "}\n",
    "</style>\n",
    "\"\"\"))"
   ]
  },
  {
   "cell_type": "markdown",
   "metadata": {},
   "source": [
    "<br>\n",
    "\n",
    "## Define paths\n",
    "In the next code-cell we define the paths to the datafiles."
   ]
  },
  {
   "cell_type": "code",
   "execution_count": null,
   "metadata": {},
   "outputs": [],
   "source": [
    "personal_home = os.path.expanduser('~')\n",
    "path_rs = personal_home + '/climbeco/data/rs/'\n",
    "path_evi2 = path_rs +'EVI2/'\n",
    "path_par = path_rs +'PAR/'"
   ]
  },
  {
   "cell_type": "markdown",
   "metadata": {},
   "source": [
    "<div style=\"text-align: right\"><a href=\"#introduction\">Back to top</a></div>"
   ]
  },
  {
   "cell_type": "markdown",
   "metadata": {},
   "source": [
    "<a id=\"part1\"></a>"
   ]
  },
  {
   "cell_type": "markdown",
   "metadata": {},
   "source": [
    "<br>\n",
    "<br>\n",
    "\n",
    "## <font color='#B22222'>Part 1</font> - Calculate the LUE coefficients for different vegetation types\n",
    "In this part you will calculate the LUE coefficient for different vegetation types using EC measurements and satellite data. The data is found in _RS_GPP.xlsx_ and has been preprocessed to include both EC measurements info (e.g. timestamp, station name, vegetation type, GPP and PAR), MODIS data (EVI2) and fAPAR computed as ```fAPAR = (EVI2 - 0.1) * 1.25```."
   ]
  },
  {
   "cell_type": "markdown",
   "metadata": {},
   "source": [
    "<br>\n",
    "\n",
    "### <font color='navy'>Import data</font>\n",
    "Import excel-file containing ICOS flux data and processed MODIS data.\n"
   ]
  },
  {
   "cell_type": "code",
   "execution_count": null,
   "metadata": {},
   "outputs": [],
   "source": [
    "#Read excel-file containing the following information:\n",
    "#time, station, vegetation_type, GPP, PAR, MODevi2 & fAPAR\n",
    "df = pd.read_excel(path_rs+'RS_GPP.xlsx',\n",
    "                    converters = {'TIMESTAMP': pd.to_datetime})\n",
    "\n",
    "#Sort dataframe by time:\n",
    "df.sort_values(by = 'TIMESTAMP').head()"
   ]
  },
  {
   "cell_type": "markdown",
   "metadata": {},
   "source": [
    "<br>\n",
    "\n",
    "### <font color='navy'>Filter data</font>\n",
    "GPP-values equal to 0 were filtered out to remove the influence from freezing temperature conditions. Also, PAR and  fAPAR values that were equal to NaN were also filtered out."
   ]
  },
  {
   "cell_type": "code",
   "execution_count": null,
   "metadata": {
    "scrolled": true
   },
   "outputs": [],
   "source": [
    "#Filter out rows, where GPP = 0:\n",
    "df_filtered = df.loc[(df.GPP>0) & (np.isnan(df.PAR)==False) & (np.isnan(df.fAPAR)==False)].copy()\n",
    "\n",
    "#Show dataframe:\n",
    "df_filtered.head()"
   ]
  },
  {
   "cell_type": "markdown",
   "metadata": {},
   "source": [
    "<br>\n",
    "\n",
    "### <font color='navy'>Add column with the product of _PAR_ and _fAPAR_ </font>\n",
    "Add a new column to your Pandas DataFrame including the product of the columns _PAR_ and _fAPAR_."
   ]
  },
  {
   "cell_type": "code",
   "execution_count": null,
   "metadata": {},
   "outputs": [],
   "source": [
    "#Add a column containing the product of \"PAR\" and \"fAPAR\":\n",
    "df_filtered['PAR_fAPAR_prod'] = df_filtered.PAR * df_filtered.fAPAR\n",
    "\n",
    "#Show dataframe:\n",
    "df_filtered.head()"
   ]
  },
  {
   "cell_type": "markdown",
   "metadata": {},
   "source": [
    "<br>\n",
    "\n",
    "### <font color='navy'>Set index</font>\n",
    "Set the \"TIMESTAMP\" column as index and order index in ascending order."
   ]
  },
  {
   "cell_type": "code",
   "execution_count": null,
   "metadata": {},
   "outputs": [],
   "source": [
    "#Create a copy of your Pandas DataFrame & set \"TIMESTAMP\" as index:\n",
    "df_ind = df_filtered.copy().set_index('TIMESTAMP').sort_index()\n",
    "\n",
    "#Show dataframe:\n",
    "df_ind.head()"
   ]
  },
  {
   "cell_type": "markdown",
   "metadata": {},
   "source": [
    "<br>\n",
    "\n",
    "### <font color='navy'>Overview</font>\n",
    "You may get an overview over what the regression results might look like, by using the following piece of code:\n",
    "\n",
    "```python\n",
    "#Use Seaborn gray background grid:\n",
    "sns.set(color_codes=True)\n",
    "\n",
    "#Plot GPP/PAR*fAPAR regression:\n",
    "sns.lmplot(x=\"PAR_fAPAR_prod\",\n",
    "           y=\"GPP\",\n",
    "           col='Type',\n",
    "           data=df_filt_no_nans,\n",
    "           col_wrap=3,\n",
    "           col_order=sorted(list(df_filt_no_nans.Type.unique())));\n",
    "```\n",
    "\n",
    "<br>\n",
    "\n",
    "which will generate:\n",
    "\n",
    "<img src='../ancillarydata/images/exercise3/linear_regr.png'>"
   ]
  },
  {
   "cell_type": "markdown",
   "metadata": {},
   "source": [
    "<br>\n",
    "\n",
    "### <font color='navy'>Compute linear regression of GPP vs PAR * fAPAR per vegetation type</font>\n",
    "You are given 3 ready functions:\n",
    "- ```calc_Linear_Reg_GPP( )``` computes the linear regression of GPP and PAR * fAPAR for a given vegetation type\n",
    "- ```plot_regr( )``` produces a plot of the linear regression results\n",
    "- ```linear_reg_widget( )``` produces a form of widgets that allow the user to select a vegetation type and get the plot for the corresponding GPP vs PAR * fAPAR linear regression result.\n",
    "\n",
    "Run the functions and use the widgets to extract the LUE values for every vegetation type."
   ]
  },
  {
   "cell_type": "code",
   "execution_count": null,
   "metadata": {},
   "outputs": [],
   "source": [
    "def calc_Linear_Reg_GPP(df, veg_type):\n",
    "    \n",
    "    '''\n",
    "    Description: Function that computes the linear regression of GPP vs PAR * fAPAR\n",
    "                 for a given vegetation type and returns the result.\n",
    "    \n",
    "    Input:       1. GPP & PAR*fAPAR (Pandas DataFrame)\n",
    "                 2. Vegetation type (String)\n",
    "             \n",
    "    Output:      1. PAR*fAPAR   (Numpy Array)\n",
    "                 2. GPP         (Numpy Array)\n",
    "                 3. predictions (Numpy Array)\n",
    "                 4. coefficient (Float)\n",
    "                 5. intercept   (Float)\n",
    "                 6. r2-score    (Float)\n",
    "    \n",
    "    '''\n",
    "    \n",
    "    #Define data/predictors:\n",
    "    x = df.PAR_fAPAR_prod.loc[df.Type==veg_type]\n",
    "\n",
    "    #Define target:\n",
    "    target = pd.DataFrame(df.GPP.loc[df.Type==veg_type], columns=[\"GPP\"])\n",
    "    y = target.GPP\n",
    "    \n",
    "    #Reshape Pandas Series to a 2-dimensional array (rows, col)\n",
    "    X = x.values.reshape(-1,1)\n",
    "    Y = y.values.reshape(-1,1)\n",
    "    \n",
    "    #Select model:\n",
    "    lm = linear_model.LinearRegression()\n",
    "\n",
    "    #Fit model:\n",
    "    model = lm.fit(X,Y)\n",
    "\n",
    "    #Get predictions by the model for GPP:\n",
    "    predictions = lm.predict(X)\n",
    "\n",
    "    #Get coefficient/slope (here: LUE):\n",
    "    coef = lm.coef_\n",
    "\n",
    "    #Get intercept:\n",
    "    intercept = lm.intercept_\n",
    "\n",
    "    #Get R2-score:\n",
    "    r2 = r2_score(Y, predictions)\n",
    "    \n",
    "    #Return values:\n",
    "    return X, Y, predictions, round(coef[0][0], 4), round(intercept[0], 3), round(r2, 2)  "
   ]
  },
  {
   "cell_type": "code",
   "execution_count": null,
   "metadata": {},
   "outputs": [],
   "source": [
    "def plot_regr(veg_type, x, y, predict, intercept, coef, r2):\n",
    "    \n",
    "    '''\n",
    "    Description: Function that takes as input the output parameters of a\n",
    "                 linear regression computation for a specific vegetation\n",
    "                 type and creates a plot.\n",
    "                \n",
    "    Input:       1. Vegetation type (String)\n",
    "                 2. PAR*fAPAR       (Numpy Array)\n",
    "                 3. GPP             (Numpy Array)\n",
    "                 4. predictions     (Numpy Array)\n",
    "                 5. coefficient     (Float)\n",
    "                 6. intercept       (Float)\n",
    "                 7. r2-score        (Float)\n",
    "    \n",
    "    Output:      1. Matplotlib Plot\n",
    "    \n",
    "    '''\n",
    "    \n",
    "    #Use Seaborn gray background grid:\n",
    "    sns.set(color_codes=True)\n",
    "    \n",
    "    #Create a plot (i.e. \"figure\") object and set the size of your plot:\n",
    "    fig = plt.figure(figsize=(8, 5))\n",
    "\n",
    "    #Plot outputs:\n",
    "    plt.scatter(x, y, color='cornflowerblue')\n",
    "    plt.plot(x, predict, color='firebrick', linewidth=3)\n",
    "\n",
    "    #Add plot title:\n",
    "    plt.title(veg_type)\n",
    "\n",
    "    #Add axes labels:\n",
    "    plt.xlabel('fAPAR * PAR')\n",
    "    plt.ylabel('GPP')\n",
    "\n",
    "    #Add annotation - regression formula:\n",
    "    plt.text(x.min(), round(y.max())-1,\n",
    "             'y = '+str(coef) +' x  + '+str(intercept),\n",
    "             style='italic',\n",
    "             bbox={'facecolor': '#FFED83', \n",
    "                   'alpha': 0.5,\n",
    "                   'pad': 5})\n",
    "\n",
    "    #Add annotation - R2:\n",
    "    plt.text(x.min(), round(y.max())-3,\n",
    "             'R\\u00b2 = '+ str(r2),\n",
    "             style='italic',\n",
    "             bbox={'facecolor': '#f0c43d',\n",
    "                   'alpha': 0.4,\n",
    "                   'pad': 3})\n",
    "\n",
    "\n",
    "    #Show plot:\n",
    "    plt.show()\n",
    "    "
   ]
  },
  {
   "cell_type": "code",
   "execution_count": null,
   "metadata": {},
   "outputs": [],
   "source": [
    "def linear_reg_widget(df):\n",
    "    \n",
    "    '''\n",
    "    Description: Function that creates a dropdown widget with different\n",
    "                 vegetation types and a button. The user selects a\n",
    "                 vegetation type from the dropdown list and once he/she\n",
    "                 clicks on the \"Update Plot\" button, a new plot appears\n",
    "                 with linear regression results for the selected\n",
    "                 vegetation type.\n",
    "                 \n",
    "    Input:       GPP & PAR*fAPAR (Pandas DataFrame)\n",
    "    \n",
    "    Output:      Matplotlib Plot\n",
    "    \n",
    "    '''\n",
    "    \n",
    "    #Import modules:\n",
    "    from ipywidgets import Dropdown, interact_manual\n",
    "        \n",
    "    #Create dropdown widget:\n",
    "    veg_types = Dropdown(options=['Coniferous Forest',\n",
    "                                  'Cropland',\n",
    "                                  'Deciduous Forest',\n",
    "                                  'Grassland',\n",
    "                                  'Wetland'],\n",
    "                         description='Vegetation:',\n",
    "                         disabled=False)\n",
    "    \n",
    "    #Update plot:\n",
    "    def update_func(vegetation):\n",
    "        \n",
    "        #Call function to get Linear-Regression results between \"GPP/PAR*fAPAR\" for \"Coniferous Forest\":\n",
    "        x1, y1, predict, coef, interc, r2 = calc_Linear_Reg_GPP(df, vegetation)\n",
    "\n",
    "        #Call function to plot Linear-Regression results between \"GPP/PAR*fAPAR\" for \"Coniferous Forest:\n",
    "        plot_regr(vegetation, x1, y1, predict, interc, coef, r2)\n",
    "        \n",
    "        \n",
    "    #Create widget-form:    \n",
    "    interact_c = interact_manual(update_func, vegetation=veg_types)\n",
    "\n",
    "    #Format widgets:\n",
    "    interact_c.widget.children[0].layout.width = '400px'\n",
    "    interact_c.widget.children[0].layout.margin = '40px 2px 2px 270px'\n",
    "    interact_c.widget.children[1].description = 'Update Plot'\n",
    "    interact_c.widget.children[1].button_style = 'danger'\n",
    "    interact_c.widget.children[1].style.button_color = '#3973ac'\n",
    "    interact_c.widget.children[1].layout.margin = '10px 10px 50px 440px' # top/right/bottom/left\n",
    "    \n",
    "    "
   ]
  },
  {
   "cell_type": "code",
   "execution_count": null,
   "metadata": {},
   "outputs": [],
   "source": [
    "#Call function to display widgets:\n",
    "linear_reg_widget(df_ind)"
   ]
  },
  {
   "cell_type": "markdown",
   "metadata": {},
   "source": [
    "<div style=\"text-align: right\"><a href=\"#introduction\">Back to top</a></div>\n",
    "<br>"
   ]
  },
  {
   "cell_type": "markdown",
   "metadata": {},
   "source": [
    "<a id=\"part2\"></a>"
   ]
  },
  {
   "cell_type": "markdown",
   "metadata": {},
   "source": [
    "<br>\n",
    "\n",
    "## <font color='#B22222'>Part 2</font> - Create a LUE raster\n",
    "In this part, we will create a LUE raster. We first read in the MODIS land cover raster and plot it. Then the LUE raster is obtained by assigning the LUE values of different vegetation types (calculated above) to the MODIS land cover types (shown in the figure below). For example, Needleleaf forest types are assigned with a value of 0.096, croplands are assigned with a value of 0.0752, etc. The land cover code of IGBP can be found [here](https://developers.google.com/earth-engine/datasets/catalog/MODIS_006_MCD12Q1). The raster has a spatial resolution of 500m. \n",
    "\n",
    "We also create a mask using the MODIS land cover raster. Land cover types that correspond to _background_ or _water bodies_ are assigned with _NaN_ while all other land cover types are assigned with _1_. "
   ]
  },
  {
   "cell_type": "markdown",
   "metadata": {},
   "source": [
    "<br>\n",
    "\n",
    "### <font color='navy'>Read tiff with MODIS land cover</font>\n",
    "Read the MODIS land cover tiff to a numpy array. The array stores land cover types as integers."
   ]
  },
  {
   "cell_type": "code",
   "execution_count": null,
   "metadata": {},
   "outputs": [],
   "source": [
    "#Open tiff-file with MODIS Landcover:\n",
    "lc_tiff = gdal.Open(path_rs+'landcoverLC_sinprojection.tif')\n",
    "\n",
    "#Import tiff as numpy array:\n",
    "lc = lc_tiff.GetRasterBand(1).ReadAsArray()\n",
    "\n",
    "#Convert values to int:\n",
    "lc.astype(int)\n",
    "\n",
    "#Set negative values to NaN:\n",
    "lc[lc<0]=np.nan"
   ]
  },
  {
   "cell_type": "markdown",
   "metadata": {},
   "source": [
    "<br>\n",
    "\n",
    "### <font color='navy'>Get coordinates for the lower left and upper right corner of the raster</font>\n",
    "In order to plot the MODIS land cover raster, we need to define its spatial extent. In other words, we need to know the values for its lower left and upper right corner. We can get this information using the gdal module's ```GetGeoTransform() ``` function. This function returns the minimum x-value, the raster resolution, the maximum y-value and the skewness coefficients of x and y. follow the [link](https://gdal.org/user/raster_data_model.html) for more information."
   ]
  },
  {
   "cell_type": "code",
   "execution_count": null,
   "metadata": {},
   "outputs": [],
   "source": [
    "#Get total num of columns in raster:\n",
    "width = lc_tiff.RasterXSize\n",
    "\n",
    "#Get total num of rows in raster:\n",
    "height = lc_tiff.RasterYSize\n",
    "\n",
    "# Get a list with:\n",
    "# [min x-value, pixel width (≈500m), skewness coefficient of x,\n",
    "#  max y-value, pixel height (≈500m), skewness coefficient of y]\n",
    "gt = lc_tiff.GetGeoTransform() \n",
    "\n",
    "#Get coordinates for lower left corner and upper right corner of raster: \n",
    "min_x = gt[0]\n",
    "min_y = gt[3] + width*gt[4] + height*gt[5] \n",
    "max_x = gt[0] + width*gt[1] + height*gt[2]\n",
    "max_y = gt[3] "
   ]
  },
  {
   "cell_type": "markdown",
   "metadata": {},
   "source": [
    "<br>\n",
    "\n",
    "### <font color='navy'>Plot MODIS land cover</font>\n",
    "Create a plot of the MODIS land cover array using the combination of IGBP land cover code and color from [here](https://developers.google.com/earth-engine/datasets/catalog/MODIS_006_MCD12Q1). "
   ]
  },
  {
   "cell_type": "code",
   "execution_count": null,
   "metadata": {
    "scrolled": false
   },
   "outputs": [],
   "source": [
    "mpl.rcParams.update({'font.size': 11})\n",
    "hfont = {'fontname':'Calibri'}\n",
    "\n",
    "\n",
    "#Create figure to store plot:\n",
    "fig = plt.figure(figsize = (11, 9)) \n",
    "\n",
    "#Add plot title:\n",
    "plt.title('MODIS - Land Cover Map')\n",
    "\n",
    "#Create colormap:\n",
    "cmap = mpl.colors.ListedColormap([\"#05450a\", \"#086a10\",\n",
    "                                  \"#54a708\", \"#78d203\", \"#009900\",\n",
    "                                  \"#c6b044\", \"#dcd159\", \"#dade48\",\n",
    "                                  \"#fbff13\", \"#b6ff05\", \"#27ff87\",\n",
    "                                  \"#c24f44\", \"#a5a5a5\", \"#ff6d4c\",\n",
    "                                  \"#69fff8\", \"#f9ffa4\", \"#1c0dff\"])\n",
    "\n",
    "#Create plot by inserting the name of the raster/array as parameter:\n",
    "m = plt.imshow(lc,        #raster/array to be plotted\n",
    "               cmap=cmap, #colormap\n",
    "               extent = (min_x, max_x, min_y+1, max_y)) #define spatial extent of raster to add coord-ticks\n",
    "\n",
    "#Set location of colorbar ticks:\n",
    "bounds = np.arange(1.5, 19, 0.95)\n",
    "\n",
    "#Add colorbal label:\n",
    "cbar = plt.colorbar(m, ticks=bounds)\n",
    "\n",
    "#Set colorbar tick-labels:          \n",
    "cbar.set_ticklabels([\"Evergreen Needleleaf Forests\",\n",
    "                     \"Evergreen Broadleaf Forests\", \n",
    "                     \"Deciduous Needleleaf Forests\",\n",
    "                     \"Deciduous Broadleaf Forests\",\n",
    "                     \"Mixed Forests\",\n",
    "                     \"Closed Shrublands\",\n",
    "                     \"Open Shrublands\",\n",
    "                     \"Woody Savannas\",\n",
    "                     \"Savannas\",\n",
    "                     \"Grasslands\",\n",
    "                     \"Permanent Wetlands\",\n",
    "                     \"Croplands\",\n",
    "                     \"Urban and Built-up Lands\",\n",
    "                     \"Cropland/Natural Vegetation Mosaics\",\n",
    "                     \"Permanent Snow and Ice\",\n",
    "                     \"Barren\",\n",
    "                     \"Water Bodies\"])\n",
    "\n",
    "# save plot as png-file\n",
    "#plt.savefig('myplot.png')\n",
    "\n",
    "#Show plot:\n",
    "plt.show()\n",
    "\n",
    "plt.close()"
   ]
  },
  {
   "cell_type": "markdown",
   "metadata": {},
   "source": [
    "<br>\n",
    "\n",
    "### <font color='navy'>Create LUE raster </font>\n",
    "Create a copy of the MODIS land cover array. In the new array, assign the LUE values you calculated earlier for the different vegetation types to the different MODIS land cover types."
   ]
  },
  {
   "cell_type": "code",
   "execution_count": null,
   "metadata": {},
   "outputs": [],
   "source": [
    "#Create a copy of the MODIS landcover raster and convert its values to float:\n",
    "LUE = lc.copy().astype(np.float32)\n",
    "\n",
    "#Assign MODIS land cover types with the corresponding LUE-value:\n",
    "LUE[LUE==1] = 0.096   #Evergreen Needleleaf Forests --> LUE for Coniferous Forest\n",
    "LUE[LUE==2] = 0.096   #Evergreen Broadleaf Forests  --> LUE for Coniferous Forest\n",
    "LUE[LUE==3] = 0.068   #Deciduous Needleleaf Forests --> LUE for Deciduous Forest\n",
    "LUE[LUE==4] = 0.068   #Deciduous Broadleaf Forests  --> LUE for Deciduous Forest\n",
    "LUE[LUE==5] = 0.068   #Mixed Forests                --> LUE for Deciduous Forest\n",
    "LUE[LUE==6] = 0.068   #Closed Shrublands            --> LUE for Deciduous Forest\n",
    "LUE[LUE==7] = 0.0583  #Open Shrublands              --> LUE for Grassland\n",
    "LUE[LUE==8] = 0.0583  #Woody Savannas               --> LUE for Grassland\n",
    "LUE[LUE==9] = 0.0583  #Savannas                     --> LUE for Grassland\n",
    "LUE[LUE==10] = 0.0583 #Grasslands                   --> LUE for Grassland\n",
    "LUE[LUE==11] = 0.0565 #Permanent Wetlands           --> LUE for Wetland\n",
    "LUE[LUE==12] = 0.0752 #Croplands                    --> LUE for Cropland\n",
    "LUE[LUE==13] = 0.0    #Urban & Built-up Lands\n",
    "LUE[LUE==14] = 0.0752 #Cropland/Natural Veg. Mosaic --> LUE for Cropland\n",
    "LUE[LUE==15] = 0.0    #Permanent Snow and Ice\n",
    "LUE[LUE==16] = 0.0    #Barren\n",
    "LUE[LUE==17] = 0.0    #Water Bodies\n",
    "\n",
    "#Show the unique values of the array:\n",
    "np.unique(LUE)"
   ]
  },
  {
   "cell_type": "markdown",
   "metadata": {},
   "source": [
    "<br>\n",
    "\n",
    "### <font color='navy'> Create mask excluding _background_ and _water bodies_ </font>\n",
    "Create a mask from the MODIS land cover array to mask out cells with _background_ or _water bodies_ values. Cells with the aforementioned values will be assigned with _NaN_ whilst the rest of the cells will be assigned with _1_."
   ]
  },
  {
   "cell_type": "code",
   "execution_count": null,
   "metadata": {},
   "outputs": [],
   "source": [
    "#Mask out values that represent \"Background\" or \"Water Bodies\":\n",
    "int_mask = np.where((lc !=0) & (lc != 17) & (lc>0), 1, np.nan)\n"
   ]
  },
  {
   "cell_type": "markdown",
   "metadata": {},
   "source": [
    "<div style=\"text-align: right\"><a href=\"#introduction\">Back to top</a></div>\n",
    "<br>"
   ]
  },
  {
   "cell_type": "markdown",
   "metadata": {},
   "source": [
    "<a id=\"part3\"></a>"
   ]
  },
  {
   "cell_type": "markdown",
   "metadata": {},
   "source": [
    "<br>\n",
    "\n",
    "## <font color='#B22222'>Part 3</font> - GPP upscaling\n",
    "In this part we will estimate GPP from MODIS EVI2 images, ERA5 SSIR data, and the LUE raster (calculated above) using the equation:<br> ```GPP = PAR * fAPAR * LUE```."
   ]
  },
  {
   "cell_type": "markdown",
   "metadata": {},
   "source": [
    "### <font color='navy'> Read MODIS EVI2 and ERA5 SSIR images (tiffs) to estimate GPP</font>\n",
    "The MODIS EVI2 data covers the h18v03 tile. We have downloaded 16-day data for 2017 and 2018. The ERA5 SSIR data covers the same tile as MODIS EVI2. \n",
    "We have prepared a set of functions to help you calculate the upscaled GPP:\n",
    "- ```read_tiff()``` reads a specified tiff-file from a specified folder and returns a NumPy array.\n",
    "- ```apply_mask()```applies a mask over an array. Note that both the mask-array and the to-be-masked array have to have the same dimensions.\n",
    "- ```calc_gpp()``` calculates the upscaled GPP using the equation: ``` GPP = (SSIR * 0.1 * 0.45)  * (EVI2 * 0.0001) - 0.1) * LUE ```.\n",
    "\n",
    "The dimension of the MODIS EVI2 and SSIR arrays is: (2309, 2232).<br>\n",
    "Longitudes: 2309<br>\n",
    "Latitudes: 2232<br>\n",
    "<br>\n",
    "There are 46 MODIS EVI2 and SSIR files, of which 23 files include values for 2017 and 23 for 2018. The datasets have the same temporal resolution. Note that EVI2- and SSIR-data are stored as integers to reduce storage space. Therefore, in order to obtain the actual values, we need to multiple a scalar of 0.0001 to the EVI2 data and 0.1 to the radiation data. Also, keep in mind that ```PAR = SSIR * 0.45``` and ```fAPAR = (EVI2 - 0.1) * 1.25```.\n",
    "\n",
    "Negative GPP values are assigned with 0. "
   ]
  },
  {
   "cell_type": "code",
   "execution_count": null,
   "metadata": {},
   "outputs": [],
   "source": [
    "#Function that reads a tiff into a numpy array:\n",
    "def read_tiff(path, filename, mask=None):\n",
    "    \n",
    "    #Open file:\n",
    "    tiff = gdal.Open(path + filename)\n",
    "    \n",
    "    if(mask is None):\n",
    "    \n",
    "        #Import tiff as numpy array:\n",
    "        tiff_arr = tiff.GetRasterBand(1).ReadAsArray()\n",
    "        \n",
    "    else:\n",
    "        \n",
    "        #Import tiff as numpy array:\n",
    "        tiff_arr = tiff.GetRasterBand(1).ReadAsArray()*mask\n",
    "        \n",
    "    \n",
    "    #Return array:\n",
    "    return tiff_arr    "
   ]
  },
  {
   "cell_type": "code",
   "execution_count": null,
   "metadata": {},
   "outputs": [],
   "source": [
    "#Function that applies a mask over an array.\n",
    "#Both input arrays must have the same dimensions.\n",
    "def apply_mask(array, mask_array):\n",
    "    \n",
    "    return array * mask_array"
   ]
  },
  {
   "cell_type": "code",
   "execution_count": null,
   "metadata": {},
   "outputs": [],
   "source": [
    "def calc_gpp(ssir, evi2, lue):\n",
    "    \n",
    "    #Compute upscaled gpp:\n",
    "    gpp = ((ssir * 0.1 * 0.45) * ((evi2 * 0.0001) - 0.1) * 1.25 * lue)\n",
    "    \n",
    "    #Set negative gpp-values to zero:\n",
    "    gpp[gpp<0] = 0\n",
    "    \n",
    "    #Return result:\n",
    "    return gpp"
   ]
  },
  {
   "cell_type": "markdown",
   "metadata": {},
   "source": [
    "<div style=\"text-align: right\"><a href=\"#introduction\">Back to top</a></div>\n",
    "<br>"
   ]
  },
  {
   "cell_type": "markdown",
   "metadata": {},
   "source": [
    "<a id=\"part4\"></a>"
   ]
  },
  {
   "cell_type": "markdown",
   "metadata": {},
   "source": [
    "<br>\n",
    "\n",
    "## <font color='#B22222'>Part 4</font> - Investigate the upscaled GPP\n",
    "Now that we have the functions to calculate upscaled GPP, we could compare the upcaled GPP between 2017 and 2018. Below are some examples of how to perform these comparisons. Go through the examples and elaborate on what other analysis methods could be used.\n",
    "\n",
    "List of examples:\n",
    "\n",
    "1. [Compare annual mean GPP of 2017 and 2018](#ex1)\n",
    "2. [Compare mean GPP for summer (June-July) 2017 and summer (June-July) 2018](#ex2)\n",
    "3. [Compare difference between 2017 & 2018 for EVI2 & PAR](#ex3)\n",
    "4. [Statistics for different land cover types](#ex4)\n",
    "5. [Compare EVI time series of different vegetation types](#ex5)\n",
    "6. [Compare aggregated EVI time series for regions with different vegetation type](#ex6)"
   ]
  },
  {
   "cell_type": "markdown",
   "metadata": {},
   "source": [
    "<a id=\"ex1\"></a>"
   ]
  },
  {
   "cell_type": "markdown",
   "metadata": {},
   "source": [
    "### <font color='navy'>Example 1: _Compare annual mean GPP of 2017 and 2018_ </font>\n",
    "In this example, we will compute the annual mean of upscaled GPP for 2017 and 2018 and plot the difference.<br>\n",
    "We will use the following functions:\n",
    "\n",
    "- ```calc_annual_mean()``` returns the annual mean of upscaled GPP, EVI2 or PAR.\n",
    "- ```plot_2D()``` creates a plot for a given 2D-array. You may pass the plot title, colorbar label and colorbar limits as input parameters.\n"
   ]
  },
  {
   "cell_type": "code",
   "execution_count": null,
   "metadata": {},
   "outputs": [],
   "source": [
    "def calc_annual_mean(year, variable):\n",
    "    \n",
    "    #Check year:\n",
    "    if year==2017:\n",
    "        index=range(0,23) #indices for files with values for 2017\n",
    "            \n",
    "    elif year==2018:\n",
    "        index=range(23,46) #indices of files with values for 2018\n",
    "            \n",
    "    else:\n",
    "        print('Error!\\nDataset only available for 2017-2018...')\n",
    "    \n",
    "    #Create & initialize array to store results:\n",
    "    total_sum = np.zeros((LUE.shape[0], LUE.shape[1]))\n",
    "    \n",
    "    #If input-variable is \"gpp\":\n",
    "    if(variable=='gpp'):\n",
    "        \n",
    "        #Get an ordered list of the available EVI2/PAR filenames:\n",
    "        evi2_files = sorted(os.listdir(path_evi2))    \n",
    "        par_files = sorted(os.listdir(path_par))\n",
    "        \n",
    "        #Loop through every file in the index:\n",
    "        for i in tqdm(index):\n",
    "            \n",
    "            #Compute upscaled gpp and add it to total_sum:\n",
    "            total_sum = np.add(total_sum, calc_gpp(read_tiff(path_par, par_files[i]), read_tiff(path_evi2, evi2_files[i]), LUE)) \n",
    "    \n",
    "    \n",
    "    #If input-variable is \"evi2\":    \n",
    "    elif(variable=='evi2'):\n",
    "        \n",
    "        #Get an ordered list of the available EVI2 filenames:\n",
    "        evi2_files = sorted(os.listdir(path_evi2)) \n",
    "        \n",
    "        #Loop through every file in the index:\n",
    "        for i in tqdm(index):\n",
    "            \n",
    "            #Read EVI2 tiff from current filename and add its corresponding array to the sum:\n",
    "            total_sum = np.add(total_sum, read_tiff(path_evi2, evi2_files[i])*0.0001)\n",
    "    \n",
    "    \n",
    "    #If input-variable is \"par\":  \n",
    "    elif(variable=='par'):\n",
    "        \n",
    "        #Get an ordered list of the available PAR filenames:\n",
    "        par_files = sorted(os.listdir(path_par))\n",
    "        \n",
    "        #Loop through every file in the index:\n",
    "        for i in tqdm(index):\n",
    "            \n",
    "            #Read EVI2 tiff from current filename and add its corresponding array to the sum:\n",
    "            total_sum = np.add(total_sum, read_tiff(path_par, par_files[i])*0.1*0.45)  \n",
    "    \n",
    "    \n",
    "    #Return annual-mean array:\n",
    "    return total_sum/len(index)   "
   ]
  },
  {
   "cell_type": "code",
   "execution_count": null,
   "metadata": {},
   "outputs": [],
   "source": [
    "def plot_2D(array2D, plot_title, cbar_title, cbar_min_limit, cbar_max_limit):\n",
    "    \n",
    "    #Create figure to store plot:\n",
    "    fig = plt.figure(figsize = (11, 9)) \n",
    "    plt.imshow(array2D,#[100:,:],\n",
    "               cmap=\"Spectral_r\",\n",
    "               clim=(cbar_min_limit,cbar_max_limit),\n",
    "               extent = (min_x, max_x, min_y, max_y)) \n",
    "\n",
    "    #Add colorbar:\n",
    "    cbar = plt.colorbar()\n",
    "\n",
    "    #Add colorbar title:\n",
    "    cbar.set_label(cbar_title, rotation=270, labelpad=15)\n",
    "\n",
    "    #Add title:\n",
    "    plt.title(plot_title)\n",
    "\n",
    "    #Show plot:\n",
    "    plt.show()  "
   ]
  },
  {
   "cell_type": "code",
   "execution_count": null,
   "metadata": {},
   "outputs": [],
   "source": [
    "#Calculate annual mean of upscaled GPP for 2017:\n",
    "gpp_2017 = calc_annual_mean(2017, 'gpp')"
   ]
  },
  {
   "cell_type": "code",
   "execution_count": null,
   "metadata": {
    "scrolled": true
   },
   "outputs": [],
   "source": [
    "#Calculate annual mean of upscaled GPP for 2018:\n",
    "gpp_2018 = calc_annual_mean(2018, 'gpp')"
   ]
  },
  {
   "cell_type": "code",
   "execution_count": null,
   "metadata": {},
   "outputs": [],
   "source": [
    "#Calculate difference of GPP annual means:\n",
    "gpp_annual_means_diff = gpp_2018 - gpp_2017\n",
    "\n",
    "#Plot difference of GPP annual means:\n",
    "plot_2D(apply_mask(gpp_annual_means_diff, int_mask), 'GPP annual mean difference (2018 - 2017)', 'GPP diff', -3, 3)"
   ]
  },
  {
   "cell_type": "markdown",
   "metadata": {},
   "source": [
    "<div style=\"text-align: right\"><a href=\"#part4\">[Back to examples]</a></div>\n",
    "<br>"
   ]
  },
  {
   "cell_type": "markdown",
   "metadata": {},
   "source": [
    "<a id=\"ex2\"></a>\n",
    "<br>"
   ]
  },
  {
   "cell_type": "markdown",
   "metadata": {},
   "source": [
    "### <font color='navy'>Example 2: _Compare mean GPP for summer (June-July) 2017 and summer (June-July) 2018_ </font>\n",
    "This example shows how you can perform a similar comparison to example 1, by calculating the mean for just June-July 2017 and June-July 2018. Bear in mind that during the summer of 2018 the region covered by our dataset experienced a severe drought. Can you see which regions were most seriously affected by the drought in the map? Are there any stations near the affected areas and what is their dominant vegetation type?"
   ]
  },
  {
   "cell_type": "code",
   "execution_count": null,
   "metadata": {},
   "outputs": [],
   "source": [
    "def calc_summer_mean(year, variable):\n",
    "    \n",
    "    #Check year:\n",
    "    if year==2017:\n",
    "        index=range(10,14) #indices for files with values for June-July 2017\n",
    "            \n",
    "    elif year==2018:\n",
    "        index=range(33,37) #indices of files with values for June-July 2018\n",
    "            \n",
    "    else:\n",
    "        print('Error!\\nDataset only available for 2017-2018...')\n",
    "        \n",
    "    #Create & initialize array to store results:\n",
    "    total_sum = np.zeros((LUE.shape[0], LUE.shape[1]))\n",
    "    \n",
    "    #Check variable:\n",
    "    if(variable=='gpp'):\n",
    "        \n",
    "        #Get an ordered list of the available EVI2/PAR filenames:\n",
    "        evi2_files = sorted(os.listdir(path_evi2))    \n",
    "        par_files = sorted(os.listdir(path_par))\n",
    "        \n",
    "        #Loop through every file in the index:\n",
    "        for i in tqdm(index):\n",
    "            \n",
    "            #Compute upscaled gpp and add it to total_sum:\n",
    "            total_sum = np.add(total_sum, calc_gpp(read_tiff(path_par, par_files[i]), read_tiff(path_evi2, evi2_files[i]), LUE)) \n",
    "        \n",
    "    #Return annual-mean array:\n",
    "    return total_sum/len(index)   \n",
    "        \n",
    "    "
   ]
  },
  {
   "cell_type": "code",
   "execution_count": null,
   "metadata": {},
   "outputs": [],
   "source": [
    "#Calculate summer mean GPP for 2017:\n",
    "gpp_summer_mean_2017 = calc_summer_mean(2017, 'gpp')"
   ]
  },
  {
   "cell_type": "code",
   "execution_count": null,
   "metadata": {},
   "outputs": [],
   "source": [
    "#Calculate summer mean GPP for 2018:\n",
    "gpp_summer_mean_2018 = calc_summer_mean(2018, 'gpp')"
   ]
  },
  {
   "cell_type": "code",
   "execution_count": null,
   "metadata": {},
   "outputs": [],
   "source": [
    "#Calculate difference of GPP annual summer means (2017-2018):\n",
    "gpp_summer_means_diff = gpp_summer_mean_2018 - gpp_summer_mean_2017\n",
    "\n",
    "#Plot difference of GPP summer annual means:\n",
    "plot_2D(apply_mask(gpp_summer_means_diff, int_mask), 'GPP annual mean (June and July) difference (2018 - 2017)', 'GPP diff', -3, 3)"
   ]
  },
  {
   "cell_type": "markdown",
   "metadata": {},
   "source": [
    "<div style=\"text-align: right\"><a href=\"#part4\">[Back to examples]</a></div>\n",
    "<br>"
   ]
  },
  {
   "cell_type": "markdown",
   "metadata": {},
   "source": [
    "<a id=\"ex3\"></a>\n",
    "<br>"
   ]
  },
  {
   "cell_type": "markdown",
   "metadata": {},
   "source": [
    "### <font color='navy'>Example 3: _Compare difference between 2017 & 2018 for EVI2 & PAR_ </font>\n",
    "Repeat the same process as described in examples 1 and 2 for EVI and PAR."
   ]
  },
  {
   "cell_type": "code",
   "execution_count": null,
   "metadata": {},
   "outputs": [],
   "source": [
    "#Extract EVI2 annual means:\n",
    "evi2017 = calc_annual_mean(2017, 'evi2')\n",
    "evi2018 = calc_annual_mean(2018, 'evi2')\n",
    "\n",
    "#Calculate difference:\n",
    "evi2_diff = evi2018 - evi2017"
   ]
  },
  {
   "cell_type": "code",
   "execution_count": null,
   "metadata": {},
   "outputs": [],
   "source": [
    "#Extract PAR annual means:\n",
    "par2017 = calc_annual_mean(2017, 'par')\n",
    "par2018 = calc_annual_mean(2018, 'par')\n",
    "\n",
    "#Calculate difference:\n",
    "par_diff = par2018 - par2017"
   ]
  },
  {
   "cell_type": "code",
   "execution_count": null,
   "metadata": {},
   "outputs": [],
   "source": [
    "#Plot results:\n",
    "plot_2D(apply_mask(evi2_diff, int_mask), 'EVI2 annual mean difference (2018 - 2017)', 'EVI2 diff', None, None)\n",
    "plot_2D(apply_mask(par_diff, int_mask), 'PAR annual mean difference (2018 - 2017)', 'PAR diff', None, None)"
   ]
  },
  {
   "cell_type": "markdown",
   "metadata": {},
   "source": [
    "<div style=\"text-align: right\"><a href=\"#part4\">[Back to examples]</a></div>\n",
    "<br>"
   ]
  },
  {
   "cell_type": "markdown",
   "metadata": {},
   "source": [
    "<a id=\"ex4\"></a>\n",
    "<br>"
   ]
  },
  {
   "cell_type": "markdown",
   "metadata": {},
   "source": [
    "### <font color='navy'> Example 4: Statistics for different land cover types </font>\n",
    "In this example we will create a [boxplot](https://towardsdatascience.com/understanding-boxplots-5e2df7bcbd51) of the difference between GPP annual mean of 2017 and 2018."
   ]
  },
  {
   "cell_type": "code",
   "execution_count": null,
   "metadata": {},
   "outputs": [],
   "source": [
    "#Get list of indices for every landcover type:\n",
    "ls1 = np.where(lc == 1)\n",
    "ls2 = np.where(lc == 2)\n",
    "ls3 = np.where(lc == 3)\n",
    "ls4 = np.where(lc == 4)\n",
    "ls5 = np.where(lc == 5)\n",
    "ls6 = np.where(lc == 6)\n",
    "ls7 = np.where(lc == 7)\n",
    "ls8 = np.where(lc == 8)\n",
    "ls9 = np.where(lc == 9)\n",
    "ls10 = np.where(lc == 10)\n",
    "ls11 = np.where(lc == 11)\n",
    "ls12 = np.where(lc == 12)\n",
    "ls13 = np.where(lc == 13)\n",
    "ls14 = np.where(lc == 14)\n",
    "ls15 = np.where(lc == 15)\n",
    "ls16 = np.where(lc == 16)"
   ]
  },
  {
   "cell_type": "code",
   "execution_count": null,
   "metadata": {},
   "outputs": [],
   "source": [
    "#Get GPP mean diff between 2017 and 2018 for every landcover:\n",
    "ls1_val = gpp_annual_means_diff[ls1]\n",
    "ls2_val = gpp_annual_means_diff[ls2]\n",
    "ls3_val = gpp_annual_means_diff[ls3]\n",
    "ls4_val = gpp_annual_means_diff[ls4]\n",
    "ls5_val = gpp_annual_means_diff[ls5]\n",
    "ls6_val = gpp_annual_means_diff[ls6]\n",
    "ls7_val = gpp_annual_means_diff[ls7]\n",
    "ls8_val = gpp_annual_means_diff[ls8]\n",
    "ls9_val = gpp_annual_means_diff[ls9]\n",
    "ls10_val = gpp_annual_means_diff[ls10]\n",
    "ls11_val = gpp_annual_means_diff[ls11]\n",
    "ls12_val = gpp_annual_means_diff[ls12]\n",
    "ls13_val = gpp_annual_means_diff[ls13]\n",
    "ls14_val = gpp_annual_means_diff[ls14]\n",
    "ls15_val = gpp_annual_means_diff[ls15]\n",
    "ls16_val = gpp_annual_means_diff[ls16]"
   ]
  },
  {
   "cell_type": "code",
   "execution_count": null,
   "metadata": {},
   "outputs": [],
   "source": [
    "#Create figure to store plot:\n",
    "fig = plt.figure(figsize=(12,8))\n",
    "\n",
    "#Create plot:\n",
    "ax = fig.add_subplot(111)\n",
    "\n",
    "#Add boxplot:\n",
    "ax.boxplot([np.nan_to_num(ls1_val, nan=0),\n",
    "            np.nan_to_num(ls2_val, nan=0),\n",
    "            np.nan_to_num(ls3_val, nan=0),\n",
    "            np.nan_to_num(ls4_val, nan=0),\n",
    "            np.nan_to_num(ls5_val, nan=0),\n",
    "            np.nan_to_num(ls6_val, nan=0),\n",
    "            np.nan_to_num(ls7_val, nan=0),\n",
    "            np.nan_to_num(ls8_val, nan=0),\n",
    "            np.nan_to_num(ls9_val, nan=0),\n",
    "            np.nan_to_num(ls10_val, nan=0),\n",
    "            np.nan_to_num(ls11_val, nan=0),\n",
    "            np.nan_to_num(ls12_val, nan=0),\n",
    "            np.nan_to_num(ls13_val, nan=0),\n",
    "            np.nan_to_num(ls14_val, nan=0),\n",
    "            np.nan_to_num(ls15_val, nan=0),\n",
    "            np.nan_to_num(ls16_val, nan=0)],\n",
    "           labels=['Evergreen Needleleaf Forests',\n",
    "                   'Evergreen Broadleaf Forests',\n",
    "                   'Deciduous Needleleaf Forests',\n",
    "                   'Deciduous Broadleaf Forests',\n",
    "                   'Mixed Forests',\n",
    "                   'Closed Shrublands',\n",
    "                   'Open Shrublands',\n",
    "                   'Woody Savannas',\n",
    "                   'Savannas',\n",
    "                   'Grasslands',\n",
    "                   'Permanent Wetlands',\n",
    "                   'Croplands',\n",
    "                   'Urban and Built-up Lands',\n",
    "                   'Cropland/Natural Vegetation Mosaics',\n",
    "                   'Permanent Snow and Ice',\n",
    "                   'Barren'],\n",
    "           showfliers=False)\n",
    "\n",
    "#Set title:\n",
    "plt.title('Boxplot comparison for different land cover types')\n",
    "\n",
    "#Rotate x-axis labels (i.e. land cover types):\n",
    "plt.xticks(rotation=90)\n",
    "\n",
    "#Add y-axis label:\n",
    "plt.ylabel('GPP mean diff 2018-2017')\n",
    "\n",
    "#Show plot:\n",
    "plt.show()\n",
    "\n",
    "#Close plot:\n",
    "plt.close()"
   ]
  },
  {
   "cell_type": "markdown",
   "metadata": {},
   "source": [
    "<div style=\"text-align: right\"><a href=\"#part4\">[Back to examples]</a></div>\n",
    "<br>"
   ]
  },
  {
   "cell_type": "markdown",
   "metadata": {},
   "source": [
    "<a id=\"ex5\"></a>\n",
    "<br>"
   ]
  },
  {
   "cell_type": "markdown",
   "metadata": {},
   "source": [
    "### <font color='navy'>Example 5: Compare EVI time series for different vegetation types</font>\n",
    "Use the Pandas DataFrame from Part 1 and extract the EVI2 values for a given vegetation type. Aggregate the EVI2 values from all stations having the same vegetation by averaging. Plot the result. Do stations with the same vegetation type have similar EVI2 time series? Try aggregating by station."
   ]
  },
  {
   "cell_type": "code",
   "execution_count": null,
   "metadata": {},
   "outputs": [],
   "source": [
    "#Get average daily values of EVI2 for cropland:\n",
    "crop_df = df_ind.loc[df_ind.Type=='Cropland'].groupby('TIMESTAMP').mean()\n",
    "\n",
    "#Get average daily values of EVI2 for coniferous forest:\n",
    "conif_df = df_ind.loc[df_ind.Type=='Coniferous Forest'].groupby('TIMESTAMP').mean()"
   ]
  },
  {
   "cell_type": "code",
   "execution_count": null,
   "metadata": {},
   "outputs": [],
   "source": [
    "#Create a plot (i.e. \"figure\") object and set the size of your plot:\n",
    "fig, ax = plt.subplots(figsize=(16, 6))\n",
    "\n",
    "#Plot EVI2 values for cropland:\n",
    "ax.plot(crop_df.index.values, crop_df.MODevi2, label='Cropland')\n",
    "\n",
    "#Plot EVI2 values for coniferous forest:\n",
    "ax.plot(conif_df.index.values, conif_df.MODevi2, label='Coniferous Forest')\n",
    "\n",
    "#Add plot title:\n",
    "plt.title('16-day mean EVI2 per vegetation type (station cells - all stations)')\n",
    "\n",
    "#Add x-axis label:\n",
    "plt.xlabel('Time')\n",
    "\n",
    "#Add y-axis label:\n",
    "plt.ylabel('EVI2')\n",
    "\n",
    "#Add legend:\n",
    "ax.legend(bbox_to_anchor=(1.05, 1), loc='upper left', borderaxespad=0.)\n",
    "\n",
    "#Show plot:\n",
    "plt.show()\n",
    "\n",
    "#Close plot:\n",
    "plt.close()"
   ]
  },
  {
   "cell_type": "markdown",
   "metadata": {},
   "source": [
    "<div style=\"text-align: right\"><a href=\"#part4\">[Back to examples]</a></div>\n",
    "<br>"
   ]
  },
  {
   "cell_type": "markdown",
   "metadata": {},
   "source": [
    "<a id='ex6'></a>"
   ]
  },
  {
   "cell_type": "markdown",
   "metadata": {},
   "source": [
    "### <font color='navy'>Example 6: Compare aggregated EVI time series for regions with different vegetation type </font>\n",
    "In example 5, you used the EVI2 values for EVI2 cells including the coordinates of a station. In this example, we will use all the cells of the EVI2 raster that correspond to a specific vegetation type and compute the mean of those cells for every date. This way we will produce a time series of aggregated EVI2 values per vegetation type that we can plot."
   ]
  },
  {
   "cell_type": "code",
   "execution_count": null,
   "metadata": {},
   "outputs": [],
   "source": [
    "def check_evi2(evi2_arr):\n",
    "    \n",
    "    #Multiply imported evi2 with scalar 0.0001 to get acCurate EVI2 values:\n",
    "    evi2 = evi2_arr * 0.0001\n",
    "    \n",
    "    #Set EVI-values that are out of range [-1,1] to NaN:\n",
    "    evi2[evi2<-1.0]=np.NaN\n",
    "    \n",
    "    #Return result:\n",
    "    return evi2\n",
    "  "
   ]
  },
  {
   "cell_type": "code",
   "execution_count": null,
   "metadata": {},
   "outputs": [],
   "source": [
    "def time_series_per_veg_type(veg_type_indices, variable):\n",
    "    \n",
    "    if variable=='evi2':\n",
    "        \n",
    "        #Get an ordered list of the available EVI2 filenames:\n",
    "        evi2_files = sorted(os.listdir(path_evi2)) \n",
    "        \n",
    "        #Loop through every file in the index:\n",
    "        #for i in tqdm(range(len(evi2_files))):\n",
    "            \n",
    "        #Get EVI2-values for cells representing a certain vegetation type.\n",
    "        #Compute the mean for every timepoint\n",
    "        #Return a list of tuples where every tuple represents:\n",
    "        #(Timepoint, mean EVI2 from all cells defined as cropland in current file)\n",
    "        time_series = pd.DataFrame([(modis_dates[i], np.nanmean(check_evi2(read_tiff(path_evi2, evi2_files[i])[veg_type_indices])))\n",
    "                       for i in tqdm(range(len(evi2_files)))], columns=['Time', variable.upper()])\n",
    "        \n",
    "    #Return Pandas DataFrame with time series:    \n",
    "    return time_series\n",
    "   "
   ]
  },
  {
   "cell_type": "code",
   "execution_count": null,
   "metadata": {},
   "outputs": [],
   "source": [
    "#Get a list of the dates for which MODIS-EVI2 is available from their corresponding filenames:\n",
    "modis_dates = [datetime.strptime(modis_date[11:15] + ' ' +modis_date[15:18], '%Y %j')\n",
    "               for modis_date in sorted(os.listdir(path_evi2))]"
   ]
  },
  {
   "cell_type": "code",
   "execution_count": null,
   "metadata": {},
   "outputs": [],
   "source": [
    "#Get indices for cells representing coniferous forest using the land cover array:\n",
    "conif = np.where((lc == 1) | (lc == 2))\n",
    "\n",
    "#Get indices for cells representing croplands using the land cover array:\n",
    "cropl = np.where((lc == 12) | (lc == 14))"
   ]
  },
  {
   "cell_type": "code",
   "execution_count": null,
   "metadata": {},
   "outputs": [],
   "source": [
    "#Get EVI2 time series for vegetation type: \"Coniferous Forest\"\n",
    "evi_conif_df = time_series_per_veg_type(conif, 'evi2')\n",
    "\n",
    "#Get EVI2 time series for vegetation type: \"Cropland\"\n",
    "evi_cropl_df = time_series_per_veg_type(cropl, 'evi2')"
   ]
  },
  {
   "cell_type": "code",
   "execution_count": null,
   "metadata": {},
   "outputs": [],
   "source": [
    "#Import modules:\n",
    "from matplotlib import pyplot as plt\n",
    "\n",
    "#Create a plot (i.e. \"figure\") object and set the size of your plot:\n",
    "fig, ax = plt.subplots(figsize=(16, 6))\n",
    "\n",
    "#Plot values for Air Temperature (daily values):\n",
    "ax.plot(evi_cropl_df.Time, evi_cropl_df.EVI2, label='Cropland')\n",
    "\n",
    "#Plot values for daytime GPP (daily values):\n",
    "ax.plot(evi_conif_df.Time, evi_conif_df.EVI2, label='Coniferous Forest')\n",
    "\n",
    "#Add plot title:\n",
    "plt.title('16-day mean EVI2 per vegetation type (all cells)')\n",
    "\n",
    "#Add x-axis label:\n",
    "plt.xlabel('Time')\n",
    "\n",
    "#Add y-axis label:\n",
    "plt.ylabel('EVI2')\n",
    "\n",
    "#Add legend:\n",
    "ax.legend(bbox_to_anchor=(1.05, 1), loc='upper left', borderaxespad=0.)\n",
    "\n",
    "#Show plot:\n",
    "plt.show()\n",
    "\n",
    "#Close plot:\n",
    "plt.close()"
   ]
  },
  {
   "cell_type": "markdown",
   "metadata": {},
   "source": [
    "<a id='ex7'></a>"
   ]
  },
  {
   "cell_type": "markdown",
   "metadata": {},
   "source": [
    "<div style=\"text-align: right\"><a href=\"#introduction\">Back to top</a></div>\n",
    "<br>"
   ]
  },
  {
   "cell_type": "markdown",
   "metadata": {},
   "source": [
    "<a id='part5'>"
   ]
  },
  {
   "cell_type": "markdown",
   "metadata": {},
   "source": [
    "<br>\n",
    "\n",
    "## <font color='#B22222'>Part 5</font> - Tasks\n",
    "Based on the aforementioned parts, you are asked to complete the following tasks:\n",
    "1. Does the estimated GPP capture the GPP reduction due to drought in 2018 as compared to 2017? What do you think are the possible reasons? How can we improve our estimates?\n",
    "\n",
    "\n",
    "2. Does the LUE keep constant during the study period? If not, how can you improve the accuracy of LUE? What about calculting LUE for individual years?\n",
    "\n",
    "\n",
    "3. Does the greeness index (EVI2) go down during the 2018 drought? How do EVI2 values of different vegetation types respond to the drought. E.g, compare forests with crops.\n",
    "\n",
    "\n",
    "4. What factors may have an influence on the LUE values except from the different vegetation types? What about the influence of climate or nutrients? Can you think about methods to incrorporate these impacts?"
   ]
  },
  {
   "cell_type": "markdown",
   "metadata": {},
   "source": [
    "<div style=\"text-align: right\"><a href=\"#introduction\">Back to top</a></div>\n",
    "<br>"
   ]
  },
  {
   "cell_type": "markdown",
   "metadata": {},
   "source": [
    "<br>\n",
    "<br>\n",
    "<br>\n",
    "<br>\n",
    "<img src=\"../ancillarydata/logos/climbeco_contributors_logo.png\" width=\"1000\" align=\"left\"/>\n",
    "<br>\n",
    "<br>"
   ]
  }
 ],
 "metadata": {
  "kernelspec": {
   "display_name": "Python 3",
   "language": "python",
   "name": "python3"
  },
  "language_info": {
   "codemirror_mode": {
    "name": "ipython",
    "version": 3
   },
   "file_extension": ".py",
   "mimetype": "text/x-python",
   "name": "python",
   "nbconvert_exporter": "python",
   "pygments_lexer": "ipython3",
   "version": "3.7.6"
  }
 },
 "nbformat": 4,
 "nbformat_minor": 4
}
