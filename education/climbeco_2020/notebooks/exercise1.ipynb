{
 "cells": [
  {
   "cell_type": "markdown",
   "metadata": {},
   "source": [
    "<img src=\"../ancillarydata/logos/climbeco_course_logo.png\" width=\"1000\" align=\"left\"/>\n",
    "<br>\n",
    "<br>"
   ]
  },
  {
   "cell_type": "markdown",
   "metadata": {},
   "source": [
    "\n",
    "# <font color=#800000> Exercise 1</font>  \n",
    "## _Intro to Jupyter Notebooks using ICOS/FLUXNET data_\n",
    "<br>\n",
    "In this exercise you will learn how to read data from csv-files to Pandas DataFrames (i.e. two-dimensional arrays) using Python. You will also learn how to process data in your Pandas DataFrame and create static plots with Matplotlib. You will then be able to use the these tools to statisitcally compare measurements from different stations in northern Europe.\n",
    "\n",
    "The module is divided in the following parts:\n",
    "\n",
    "- [Read data from csv into a Pandas DataFrame](#import_data)\n",
    "\n",
    "\n",
    "- [Create plot with Matplotlib](#create_plot)\n",
    "    \n",
    "    - [Plot single variable](#plot_single_var)\n",
    "    \n",
    "    - [Plot two variables](#plot_two_var)\n",
    "\n",
    "\n",
    "- [Format plot parameters](#plot_param)\n",
    "\n",
    "\n",
    "- [Compare variables from different stations](#compare_var)\n",
    "\n",
    "\n",
    "- [Calculate statistics](#calc_stat)"
   ]
  },
  {
   "cell_type": "code",
   "execution_count": null,
   "metadata": {},
   "outputs": [],
   "source": []
  },
  {
   "cell_type": "markdown",
   "metadata": {},
   "source": [
    "<br>\n",
    "\n",
    "### <font color='#B22222'>Task 1</font> - Import data from csv \n",
    "Read the FLUXNET data for a specific ICOS station and save it to a Pandas DataFrame. <br>\n",
    "There are two ways to do this: <br>\n",
    "1. Read data from a FLUXNET csv-file to a Pandas DataFrame using the example below.\n",
    "\n",
    "```python\n",
    "    pd.read_csv(\"~/climbeco/data/fluxnet/obs_dd/FLX_SE-Htm_DD_2015_2018.csv\",\n",
    "                header = 0,\n",
    "                sep = \",\",\n",
    "                parse_dates = [\"TIMESTAMP\"])```\n",
    "\n",
    "<br>\n",
    "\n",
    "2. Use the pre-prepared functions (*dd* for daily values, *hh* for half hourly values):\n",
    "    - ```python\n",
    "         read_fluxnet_dd(path, station_code, station_country_code)\n",
    "         ```      \n",
    "    - ```python\n",
    "         read_fluxnet_hh(path, station_code, station_country_code)```\n",
    "\n",
    "<br>\n",
    "\n",
    "#### <font color='#8b0000'> Information to read the files </font>\n",
    "\n",
    "**Paths** <br>\n",
    "The path to the FLUXNET files (daily values) is: <font color='royalblue'> _\"~/climbeco/data/fluxnet/obs_dd/\"_ </font>\n",
    "<br>\n",
    "The path to the FLUXNET files (half-hourly values) is: <font color='royalblue'> _\"~/climbeco/data/fluxnet/obs_hh/\"_ </font>\n",
    "\n",
    "<br>\n",
    "\n",
    "**Data filename format** <br>\n",
    "The filename format of a FLUXNET file (daily values) is: _\"FLX_countryCode-stationCode_DD_2015_2018.csv\"_\n",
    "<br>\n",
    "(e.g. <font color='darkorange'> _FLX_SE-Htm_DD_2015_2018.csv_ </font>)\n",
    "<br>\n",
    "The filename format of a FLUXNET file (half-hourly values) is: _\"FLX_countryCode-stationCode_HH_2015_2018.csv\"_\n",
    "<br>\n",
    "(e.g. <font color='darkorange'> _FLX_SE-Htm_HH_2015_2018.csv_ </font>)\n",
    "\n",
    "\n",
    "To import dara for a specific station you need to know the 3-character long station code (e.g. \"Htm\" for Hyltemossa) and the corresponding 2-character country code (e.g. 'SE' for Sweden). A list of the available station names and country codes can be found [here](../ancillarydata/docs/climbeco_course_station_list.png).\n",
    "<br>\n",
    "<br>"
   ]
  },
  {
   "cell_type": "code",
   "execution_count": 4,
   "metadata": {},
   "outputs": [],
   "source": [
    "%matplotlib inline\n",
    "\n",
    "#Import modules:\n",
    "import pandas as pd\n",
    "from datetime import datetime\n",
    "from matplotlib import pyplot as plt\n",
    "\n",
    "#from tools import read_fluxnet_dd, read_fluxnet_hh"
   ]
  },
  {
   "cell_type": "code",
   "execution_count": 5,
   "metadata": {},
   "outputs": [],
   "source": [
    "#Define path to data:\n",
    "path_fluxnet_hh = \"~/climbeco/data/fluxnet/obs_hh/\" #Path to directory storing half-hourly values\n",
    "path_fluxnet_dd = \"~/climbeco/data/fluxnet/obs_dd/\" #Path to directory storing daily values"
   ]
  },
  {
   "cell_type": "code",
   "execution_count": 6,
   "metadata": {},
   "outputs": [],
   "source": [
    "#Create function to read FLUXNET-file with daily values:\n",
    "def read_fluxnet_hh(path, st_code, st_country_code):\n",
    "      \n",
    "    #Define file name:\n",
    "    file = \"FLX_\"+st_country_code+\"-\"+st_code+\"_HH_2015_2018.csv\"\n",
    "    \n",
    "    #Create full path to file:\n",
    "    fullpath = path + file\n",
    "    \n",
    "    #Read csv to pandas dataframe:\n",
    "    df = pd.read_csv(fullpath,\n",
    "                     header = 0,\n",
    "                     sep = \",\",\n",
    "                     parse_dates = [\"TIMESTAMP_START\"])\n",
    "\n",
    "    #Return dataframe:\n",
    "    return df\n"
   ]
  },
  {
   "cell_type": "code",
   "execution_count": 7,
   "metadata": {},
   "outputs": [
    {
     "ename": "FileNotFoundError",
     "evalue": "[Errno 2] File C:\\Users\\Claudio/climbeco/data/fluxnet/obs_hh/FLX_SE-Htm_HH_2015_2018.csv does not exist: 'C:\\\\Users\\\\Claudio/climbeco/data/fluxnet/obs_hh/FLX_SE-Htm_HH_2015_2018.csv'",
     "output_type": "error",
     "traceback": [
      "\u001b[1;31m---------------------------------------------------------------------------\u001b[0m",
      "\u001b[1;31mFileNotFoundError\u001b[0m                         Traceback (most recent call last)",
      "\u001b[1;32m<ipython-input-7-b9e075eee1bb>\u001b[0m in \u001b[0;36m<module>\u001b[1;34m\u001b[0m\n\u001b[0;32m      1\u001b[0m \u001b[1;31m#Call function to read FLUXNET half-hourly values for Hyltemossa station:\u001b[0m\u001b[1;33m\u001b[0m\u001b[1;33m\u001b[0m\u001b[1;33m\u001b[0m\u001b[0m\n\u001b[1;32m----> 2\u001b[1;33m \u001b[0mhh_df\u001b[0m \u001b[1;33m=\u001b[0m \u001b[0mread_fluxnet_hh\u001b[0m\u001b[1;33m(\u001b[0m\u001b[0mpath_fluxnet_hh\u001b[0m\u001b[1;33m,\u001b[0m \u001b[1;34m'Htm'\u001b[0m\u001b[1;33m,\u001b[0m \u001b[1;34m'SE'\u001b[0m\u001b[1;33m)\u001b[0m\u001b[1;33m\u001b[0m\u001b[1;33m\u001b[0m\u001b[0m\n\u001b[0m\u001b[0;32m      3\u001b[0m \u001b[1;33m\u001b[0m\u001b[0m\n\u001b[0;32m      4\u001b[0m \u001b[1;31m#Show dataframe:\u001b[0m\u001b[1;33m\u001b[0m\u001b[1;33m\u001b[0m\u001b[1;33m\u001b[0m\u001b[0m\n\u001b[0;32m      5\u001b[0m \u001b[0mhh_df\u001b[0m\u001b[1;33m.\u001b[0m\u001b[0mhead\u001b[0m\u001b[1;33m(\u001b[0m\u001b[1;33m)\u001b[0m\u001b[1;33m\u001b[0m\u001b[1;33m\u001b[0m\u001b[0m\n",
      "\u001b[1;32m<ipython-input-6-5038cc9b8926>\u001b[0m in \u001b[0;36mread_fluxnet_hh\u001b[1;34m(path, st_code, st_country_code)\u001b[0m\n\u001b[0;32m      9\u001b[0m \u001b[1;33m\u001b[0m\u001b[0m\n\u001b[0;32m     10\u001b[0m     \u001b[1;31m#Read csv to pandas dataframe:\u001b[0m\u001b[1;33m\u001b[0m\u001b[1;33m\u001b[0m\u001b[1;33m\u001b[0m\u001b[0m\n\u001b[1;32m---> 11\u001b[1;33m     df = pd.read_csv(fullpath,\n\u001b[0m\u001b[0;32m     12\u001b[0m                      \u001b[0mheader\u001b[0m \u001b[1;33m=\u001b[0m \u001b[1;36m0\u001b[0m\u001b[1;33m,\u001b[0m\u001b[1;33m\u001b[0m\u001b[1;33m\u001b[0m\u001b[0m\n\u001b[0;32m     13\u001b[0m                      \u001b[0msep\u001b[0m \u001b[1;33m=\u001b[0m \u001b[1;34m\",\"\u001b[0m\u001b[1;33m,\u001b[0m\u001b[1;33m\u001b[0m\u001b[1;33m\u001b[0m\u001b[0m\n",
      "\u001b[1;32m~\\Apps\\Miniconda3\\envs\\jupyterlab\\lib\\site-packages\\pandas\\io\\parsers.py\u001b[0m in \u001b[0;36mparser_f\u001b[1;34m(filepath_or_buffer, sep, delimiter, header, names, index_col, usecols, squeeze, prefix, mangle_dupe_cols, dtype, engine, converters, true_values, false_values, skipinitialspace, skiprows, skipfooter, nrows, na_values, keep_default_na, na_filter, verbose, skip_blank_lines, parse_dates, infer_datetime_format, keep_date_col, date_parser, dayfirst, cache_dates, iterator, chunksize, compression, thousands, decimal, lineterminator, quotechar, quoting, doublequote, escapechar, comment, encoding, dialect, error_bad_lines, warn_bad_lines, delim_whitespace, low_memory, memory_map, float_precision)\u001b[0m\n\u001b[0;32m    674\u001b[0m         )\n\u001b[0;32m    675\u001b[0m \u001b[1;33m\u001b[0m\u001b[0m\n\u001b[1;32m--> 676\u001b[1;33m         \u001b[1;32mreturn\u001b[0m \u001b[0m_read\u001b[0m\u001b[1;33m(\u001b[0m\u001b[0mfilepath_or_buffer\u001b[0m\u001b[1;33m,\u001b[0m \u001b[0mkwds\u001b[0m\u001b[1;33m)\u001b[0m\u001b[1;33m\u001b[0m\u001b[1;33m\u001b[0m\u001b[0m\n\u001b[0m\u001b[0;32m    677\u001b[0m \u001b[1;33m\u001b[0m\u001b[0m\n\u001b[0;32m    678\u001b[0m     \u001b[0mparser_f\u001b[0m\u001b[1;33m.\u001b[0m\u001b[0m__name__\u001b[0m \u001b[1;33m=\u001b[0m \u001b[0mname\u001b[0m\u001b[1;33m\u001b[0m\u001b[1;33m\u001b[0m\u001b[0m\n",
      "\u001b[1;32m~\\Apps\\Miniconda3\\envs\\jupyterlab\\lib\\site-packages\\pandas\\io\\parsers.py\u001b[0m in \u001b[0;36m_read\u001b[1;34m(filepath_or_buffer, kwds)\u001b[0m\n\u001b[0;32m    446\u001b[0m \u001b[1;33m\u001b[0m\u001b[0m\n\u001b[0;32m    447\u001b[0m     \u001b[1;31m# Create the parser.\u001b[0m\u001b[1;33m\u001b[0m\u001b[1;33m\u001b[0m\u001b[1;33m\u001b[0m\u001b[0m\n\u001b[1;32m--> 448\u001b[1;33m     \u001b[0mparser\u001b[0m \u001b[1;33m=\u001b[0m \u001b[0mTextFileReader\u001b[0m\u001b[1;33m(\u001b[0m\u001b[0mfp_or_buf\u001b[0m\u001b[1;33m,\u001b[0m \u001b[1;33m**\u001b[0m\u001b[0mkwds\u001b[0m\u001b[1;33m)\u001b[0m\u001b[1;33m\u001b[0m\u001b[1;33m\u001b[0m\u001b[0m\n\u001b[0m\u001b[0;32m    449\u001b[0m \u001b[1;33m\u001b[0m\u001b[0m\n\u001b[0;32m    450\u001b[0m     \u001b[1;32mif\u001b[0m \u001b[0mchunksize\u001b[0m \u001b[1;32mor\u001b[0m \u001b[0miterator\u001b[0m\u001b[1;33m:\u001b[0m\u001b[1;33m\u001b[0m\u001b[1;33m\u001b[0m\u001b[0m\n",
      "\u001b[1;32m~\\Apps\\Miniconda3\\envs\\jupyterlab\\lib\\site-packages\\pandas\\io\\parsers.py\u001b[0m in \u001b[0;36m__init__\u001b[1;34m(self, f, engine, **kwds)\u001b[0m\n\u001b[0;32m    878\u001b[0m             \u001b[0mself\u001b[0m\u001b[1;33m.\u001b[0m\u001b[0moptions\u001b[0m\u001b[1;33m[\u001b[0m\u001b[1;34m\"has_index_names\"\u001b[0m\u001b[1;33m]\u001b[0m \u001b[1;33m=\u001b[0m \u001b[0mkwds\u001b[0m\u001b[1;33m[\u001b[0m\u001b[1;34m\"has_index_names\"\u001b[0m\u001b[1;33m]\u001b[0m\u001b[1;33m\u001b[0m\u001b[1;33m\u001b[0m\u001b[0m\n\u001b[0;32m    879\u001b[0m \u001b[1;33m\u001b[0m\u001b[0m\n\u001b[1;32m--> 880\u001b[1;33m         \u001b[0mself\u001b[0m\u001b[1;33m.\u001b[0m\u001b[0m_make_engine\u001b[0m\u001b[1;33m(\u001b[0m\u001b[0mself\u001b[0m\u001b[1;33m.\u001b[0m\u001b[0mengine\u001b[0m\u001b[1;33m)\u001b[0m\u001b[1;33m\u001b[0m\u001b[1;33m\u001b[0m\u001b[0m\n\u001b[0m\u001b[0;32m    881\u001b[0m \u001b[1;33m\u001b[0m\u001b[0m\n\u001b[0;32m    882\u001b[0m     \u001b[1;32mdef\u001b[0m \u001b[0mclose\u001b[0m\u001b[1;33m(\u001b[0m\u001b[0mself\u001b[0m\u001b[1;33m)\u001b[0m\u001b[1;33m:\u001b[0m\u001b[1;33m\u001b[0m\u001b[1;33m\u001b[0m\u001b[0m\n",
      "\u001b[1;32m~\\Apps\\Miniconda3\\envs\\jupyterlab\\lib\\site-packages\\pandas\\io\\parsers.py\u001b[0m in \u001b[0;36m_make_engine\u001b[1;34m(self, engine)\u001b[0m\n\u001b[0;32m   1112\u001b[0m     \u001b[1;32mdef\u001b[0m \u001b[0m_make_engine\u001b[0m\u001b[1;33m(\u001b[0m\u001b[0mself\u001b[0m\u001b[1;33m,\u001b[0m \u001b[0mengine\u001b[0m\u001b[1;33m=\u001b[0m\u001b[1;34m\"c\"\u001b[0m\u001b[1;33m)\u001b[0m\u001b[1;33m:\u001b[0m\u001b[1;33m\u001b[0m\u001b[1;33m\u001b[0m\u001b[0m\n\u001b[0;32m   1113\u001b[0m         \u001b[1;32mif\u001b[0m \u001b[0mengine\u001b[0m \u001b[1;33m==\u001b[0m \u001b[1;34m\"c\"\u001b[0m\u001b[1;33m:\u001b[0m\u001b[1;33m\u001b[0m\u001b[1;33m\u001b[0m\u001b[0m\n\u001b[1;32m-> 1114\u001b[1;33m             \u001b[0mself\u001b[0m\u001b[1;33m.\u001b[0m\u001b[0m_engine\u001b[0m \u001b[1;33m=\u001b[0m \u001b[0mCParserWrapper\u001b[0m\u001b[1;33m(\u001b[0m\u001b[0mself\u001b[0m\u001b[1;33m.\u001b[0m\u001b[0mf\u001b[0m\u001b[1;33m,\u001b[0m \u001b[1;33m**\u001b[0m\u001b[0mself\u001b[0m\u001b[1;33m.\u001b[0m\u001b[0moptions\u001b[0m\u001b[1;33m)\u001b[0m\u001b[1;33m\u001b[0m\u001b[1;33m\u001b[0m\u001b[0m\n\u001b[0m\u001b[0;32m   1115\u001b[0m         \u001b[1;32melse\u001b[0m\u001b[1;33m:\u001b[0m\u001b[1;33m\u001b[0m\u001b[1;33m\u001b[0m\u001b[0m\n\u001b[0;32m   1116\u001b[0m             \u001b[1;32mif\u001b[0m \u001b[0mengine\u001b[0m \u001b[1;33m==\u001b[0m \u001b[1;34m\"python\"\u001b[0m\u001b[1;33m:\u001b[0m\u001b[1;33m\u001b[0m\u001b[1;33m\u001b[0m\u001b[0m\n",
      "\u001b[1;32m~\\Apps\\Miniconda3\\envs\\jupyterlab\\lib\\site-packages\\pandas\\io\\parsers.py\u001b[0m in \u001b[0;36m__init__\u001b[1;34m(self, src, **kwds)\u001b[0m\n\u001b[0;32m   1889\u001b[0m         \u001b[0mkwds\u001b[0m\u001b[1;33m[\u001b[0m\u001b[1;34m\"usecols\"\u001b[0m\u001b[1;33m]\u001b[0m \u001b[1;33m=\u001b[0m \u001b[0mself\u001b[0m\u001b[1;33m.\u001b[0m\u001b[0musecols\u001b[0m\u001b[1;33m\u001b[0m\u001b[1;33m\u001b[0m\u001b[0m\n\u001b[0;32m   1890\u001b[0m \u001b[1;33m\u001b[0m\u001b[0m\n\u001b[1;32m-> 1891\u001b[1;33m         \u001b[0mself\u001b[0m\u001b[1;33m.\u001b[0m\u001b[0m_reader\u001b[0m \u001b[1;33m=\u001b[0m \u001b[0mparsers\u001b[0m\u001b[1;33m.\u001b[0m\u001b[0mTextReader\u001b[0m\u001b[1;33m(\u001b[0m\u001b[0msrc\u001b[0m\u001b[1;33m,\u001b[0m \u001b[1;33m**\u001b[0m\u001b[0mkwds\u001b[0m\u001b[1;33m)\u001b[0m\u001b[1;33m\u001b[0m\u001b[1;33m\u001b[0m\u001b[0m\n\u001b[0m\u001b[0;32m   1892\u001b[0m         \u001b[0mself\u001b[0m\u001b[1;33m.\u001b[0m\u001b[0munnamed_cols\u001b[0m \u001b[1;33m=\u001b[0m \u001b[0mself\u001b[0m\u001b[1;33m.\u001b[0m\u001b[0m_reader\u001b[0m\u001b[1;33m.\u001b[0m\u001b[0munnamed_cols\u001b[0m\u001b[1;33m\u001b[0m\u001b[1;33m\u001b[0m\u001b[0m\n\u001b[0;32m   1893\u001b[0m \u001b[1;33m\u001b[0m\u001b[0m\n",
      "\u001b[1;32mpandas\\_libs\\parsers.pyx\u001b[0m in \u001b[0;36mpandas._libs.parsers.TextReader.__cinit__\u001b[1;34m()\u001b[0m\n",
      "\u001b[1;32mpandas\\_libs\\parsers.pyx\u001b[0m in \u001b[0;36mpandas._libs.parsers.TextReader._setup_parser_source\u001b[1;34m()\u001b[0m\n",
      "\u001b[1;31mFileNotFoundError\u001b[0m: [Errno 2] File C:\\Users\\Claudio/climbeco/data/fluxnet/obs_hh/FLX_SE-Htm_HH_2015_2018.csv does not exist: 'C:\\\\Users\\\\Claudio/climbeco/data/fluxnet/obs_hh/FLX_SE-Htm_HH_2015_2018.csv'"
     ]
    }
   ],
   "source": [
    "#Call function to read FLUXNET half-hourly values for Hyltemossa station:\n",
    "hh_df = read_fluxnet_hh(path_fluxnet_hh, 'Htm', 'SE')\n",
    "\n",
    "#Show dataframe:\n",
    "hh_df.head()"
   ]
  },
  {
   "cell_type": "code",
   "execution_count": 8,
   "metadata": {},
   "outputs": [],
   "source": [
    "#Create function to read FLUXNET-file with daily values:\n",
    "def read_fluxnet_dd(path, st_code, st_country_code):\n",
    "      \n",
    "    #Define file name:\n",
    "    file = \"FLX_\"+st_country_code+\"-\"+st_code+\"_DD_2015_2018.csv\"\n",
    "    \n",
    "    #Create full path to file:\n",
    "    fullpath = path + file\n",
    "    \n",
    "    #Read csv to pandas dataframe:\n",
    "    df = pd.read_csv(fullpath,\n",
    "                     header = 0,\n",
    "                     sep = \",\",\n",
    "                     parse_dates = [\"TIMESTAMP\"])\n",
    "\n",
    "    #Return dataframe:\n",
    "    return df\n"
   ]
  },
  {
   "cell_type": "code",
   "execution_count": 9,
   "metadata": {},
   "outputs": [
    {
     "ename": "FileNotFoundError",
     "evalue": "[Errno 2] File C:\\Users\\Claudio/climbeco/data/fluxnet/obs_dd/FLX_SE-Htm_DD_2015_2018.csv does not exist: 'C:\\\\Users\\\\Claudio/climbeco/data/fluxnet/obs_dd/FLX_SE-Htm_DD_2015_2018.csv'",
     "output_type": "error",
     "traceback": [
      "\u001b[1;31m---------------------------------------------------------------------------\u001b[0m",
      "\u001b[1;31mFileNotFoundError\u001b[0m                         Traceback (most recent call last)",
      "\u001b[1;32m<ipython-input-9-7af959dd3bd2>\u001b[0m in \u001b[0;36m<module>\u001b[1;34m\u001b[0m\n\u001b[0;32m      1\u001b[0m \u001b[1;31m#Call function to read FLUXNET daily values for Hyltemossa station:\u001b[0m\u001b[1;33m\u001b[0m\u001b[1;33m\u001b[0m\u001b[1;33m\u001b[0m\u001b[0m\n\u001b[1;32m----> 2\u001b[1;33m \u001b[0mdd_df\u001b[0m \u001b[1;33m=\u001b[0m \u001b[0mread_fluxnet_dd\u001b[0m\u001b[1;33m(\u001b[0m\u001b[0mpath_fluxnet_dd\u001b[0m\u001b[1;33m,\u001b[0m \u001b[1;34m'Htm'\u001b[0m\u001b[1;33m,\u001b[0m \u001b[1;34m'SE'\u001b[0m\u001b[1;33m)\u001b[0m\u001b[1;33m\u001b[0m\u001b[1;33m\u001b[0m\u001b[0m\n\u001b[0m\u001b[0;32m      3\u001b[0m \u001b[1;33m\u001b[0m\u001b[0m\n\u001b[0;32m      4\u001b[0m \u001b[1;31m#Show dataframe:\u001b[0m\u001b[1;33m\u001b[0m\u001b[1;33m\u001b[0m\u001b[1;33m\u001b[0m\u001b[0m\n\u001b[0;32m      5\u001b[0m \u001b[0mdd_df\u001b[0m\u001b[1;33m.\u001b[0m\u001b[0mhead\u001b[0m\u001b[1;33m(\u001b[0m\u001b[1;33m)\u001b[0m\u001b[1;33m\u001b[0m\u001b[1;33m\u001b[0m\u001b[0m\n",
      "\u001b[1;32m<ipython-input-8-460038064570>\u001b[0m in \u001b[0;36mread_fluxnet_dd\u001b[1;34m(path, st_code, st_country_code)\u001b[0m\n\u001b[0;32m      9\u001b[0m \u001b[1;33m\u001b[0m\u001b[0m\n\u001b[0;32m     10\u001b[0m     \u001b[1;31m#Read csv to pandas dataframe:\u001b[0m\u001b[1;33m\u001b[0m\u001b[1;33m\u001b[0m\u001b[1;33m\u001b[0m\u001b[0m\n\u001b[1;32m---> 11\u001b[1;33m     df = pd.read_csv(fullpath,\n\u001b[0m\u001b[0;32m     12\u001b[0m                      \u001b[0mheader\u001b[0m \u001b[1;33m=\u001b[0m \u001b[1;36m0\u001b[0m\u001b[1;33m,\u001b[0m\u001b[1;33m\u001b[0m\u001b[1;33m\u001b[0m\u001b[0m\n\u001b[0;32m     13\u001b[0m                      \u001b[0msep\u001b[0m \u001b[1;33m=\u001b[0m \u001b[1;34m\",\"\u001b[0m\u001b[1;33m,\u001b[0m\u001b[1;33m\u001b[0m\u001b[1;33m\u001b[0m\u001b[0m\n",
      "\u001b[1;32m~\\Apps\\Miniconda3\\envs\\jupyterlab\\lib\\site-packages\\pandas\\io\\parsers.py\u001b[0m in \u001b[0;36mparser_f\u001b[1;34m(filepath_or_buffer, sep, delimiter, header, names, index_col, usecols, squeeze, prefix, mangle_dupe_cols, dtype, engine, converters, true_values, false_values, skipinitialspace, skiprows, skipfooter, nrows, na_values, keep_default_na, na_filter, verbose, skip_blank_lines, parse_dates, infer_datetime_format, keep_date_col, date_parser, dayfirst, cache_dates, iterator, chunksize, compression, thousands, decimal, lineterminator, quotechar, quoting, doublequote, escapechar, comment, encoding, dialect, error_bad_lines, warn_bad_lines, delim_whitespace, low_memory, memory_map, float_precision)\u001b[0m\n\u001b[0;32m    674\u001b[0m         )\n\u001b[0;32m    675\u001b[0m \u001b[1;33m\u001b[0m\u001b[0m\n\u001b[1;32m--> 676\u001b[1;33m         \u001b[1;32mreturn\u001b[0m \u001b[0m_read\u001b[0m\u001b[1;33m(\u001b[0m\u001b[0mfilepath_or_buffer\u001b[0m\u001b[1;33m,\u001b[0m \u001b[0mkwds\u001b[0m\u001b[1;33m)\u001b[0m\u001b[1;33m\u001b[0m\u001b[1;33m\u001b[0m\u001b[0m\n\u001b[0m\u001b[0;32m    677\u001b[0m \u001b[1;33m\u001b[0m\u001b[0m\n\u001b[0;32m    678\u001b[0m     \u001b[0mparser_f\u001b[0m\u001b[1;33m.\u001b[0m\u001b[0m__name__\u001b[0m \u001b[1;33m=\u001b[0m \u001b[0mname\u001b[0m\u001b[1;33m\u001b[0m\u001b[1;33m\u001b[0m\u001b[0m\n",
      "\u001b[1;32m~\\Apps\\Miniconda3\\envs\\jupyterlab\\lib\\site-packages\\pandas\\io\\parsers.py\u001b[0m in \u001b[0;36m_read\u001b[1;34m(filepath_or_buffer, kwds)\u001b[0m\n\u001b[0;32m    446\u001b[0m \u001b[1;33m\u001b[0m\u001b[0m\n\u001b[0;32m    447\u001b[0m     \u001b[1;31m# Create the parser.\u001b[0m\u001b[1;33m\u001b[0m\u001b[1;33m\u001b[0m\u001b[1;33m\u001b[0m\u001b[0m\n\u001b[1;32m--> 448\u001b[1;33m     \u001b[0mparser\u001b[0m \u001b[1;33m=\u001b[0m \u001b[0mTextFileReader\u001b[0m\u001b[1;33m(\u001b[0m\u001b[0mfp_or_buf\u001b[0m\u001b[1;33m,\u001b[0m \u001b[1;33m**\u001b[0m\u001b[0mkwds\u001b[0m\u001b[1;33m)\u001b[0m\u001b[1;33m\u001b[0m\u001b[1;33m\u001b[0m\u001b[0m\n\u001b[0m\u001b[0;32m    449\u001b[0m \u001b[1;33m\u001b[0m\u001b[0m\n\u001b[0;32m    450\u001b[0m     \u001b[1;32mif\u001b[0m \u001b[0mchunksize\u001b[0m \u001b[1;32mor\u001b[0m \u001b[0miterator\u001b[0m\u001b[1;33m:\u001b[0m\u001b[1;33m\u001b[0m\u001b[1;33m\u001b[0m\u001b[0m\n",
      "\u001b[1;32m~\\Apps\\Miniconda3\\envs\\jupyterlab\\lib\\site-packages\\pandas\\io\\parsers.py\u001b[0m in \u001b[0;36m__init__\u001b[1;34m(self, f, engine, **kwds)\u001b[0m\n\u001b[0;32m    878\u001b[0m             \u001b[0mself\u001b[0m\u001b[1;33m.\u001b[0m\u001b[0moptions\u001b[0m\u001b[1;33m[\u001b[0m\u001b[1;34m\"has_index_names\"\u001b[0m\u001b[1;33m]\u001b[0m \u001b[1;33m=\u001b[0m \u001b[0mkwds\u001b[0m\u001b[1;33m[\u001b[0m\u001b[1;34m\"has_index_names\"\u001b[0m\u001b[1;33m]\u001b[0m\u001b[1;33m\u001b[0m\u001b[1;33m\u001b[0m\u001b[0m\n\u001b[0;32m    879\u001b[0m \u001b[1;33m\u001b[0m\u001b[0m\n\u001b[1;32m--> 880\u001b[1;33m         \u001b[0mself\u001b[0m\u001b[1;33m.\u001b[0m\u001b[0m_make_engine\u001b[0m\u001b[1;33m(\u001b[0m\u001b[0mself\u001b[0m\u001b[1;33m.\u001b[0m\u001b[0mengine\u001b[0m\u001b[1;33m)\u001b[0m\u001b[1;33m\u001b[0m\u001b[1;33m\u001b[0m\u001b[0m\n\u001b[0m\u001b[0;32m    881\u001b[0m \u001b[1;33m\u001b[0m\u001b[0m\n\u001b[0;32m    882\u001b[0m     \u001b[1;32mdef\u001b[0m \u001b[0mclose\u001b[0m\u001b[1;33m(\u001b[0m\u001b[0mself\u001b[0m\u001b[1;33m)\u001b[0m\u001b[1;33m:\u001b[0m\u001b[1;33m\u001b[0m\u001b[1;33m\u001b[0m\u001b[0m\n",
      "\u001b[1;32m~\\Apps\\Miniconda3\\envs\\jupyterlab\\lib\\site-packages\\pandas\\io\\parsers.py\u001b[0m in \u001b[0;36m_make_engine\u001b[1;34m(self, engine)\u001b[0m\n\u001b[0;32m   1112\u001b[0m     \u001b[1;32mdef\u001b[0m \u001b[0m_make_engine\u001b[0m\u001b[1;33m(\u001b[0m\u001b[0mself\u001b[0m\u001b[1;33m,\u001b[0m \u001b[0mengine\u001b[0m\u001b[1;33m=\u001b[0m\u001b[1;34m\"c\"\u001b[0m\u001b[1;33m)\u001b[0m\u001b[1;33m:\u001b[0m\u001b[1;33m\u001b[0m\u001b[1;33m\u001b[0m\u001b[0m\n\u001b[0;32m   1113\u001b[0m         \u001b[1;32mif\u001b[0m \u001b[0mengine\u001b[0m \u001b[1;33m==\u001b[0m \u001b[1;34m\"c\"\u001b[0m\u001b[1;33m:\u001b[0m\u001b[1;33m\u001b[0m\u001b[1;33m\u001b[0m\u001b[0m\n\u001b[1;32m-> 1114\u001b[1;33m             \u001b[0mself\u001b[0m\u001b[1;33m.\u001b[0m\u001b[0m_engine\u001b[0m \u001b[1;33m=\u001b[0m \u001b[0mCParserWrapper\u001b[0m\u001b[1;33m(\u001b[0m\u001b[0mself\u001b[0m\u001b[1;33m.\u001b[0m\u001b[0mf\u001b[0m\u001b[1;33m,\u001b[0m \u001b[1;33m**\u001b[0m\u001b[0mself\u001b[0m\u001b[1;33m.\u001b[0m\u001b[0moptions\u001b[0m\u001b[1;33m)\u001b[0m\u001b[1;33m\u001b[0m\u001b[1;33m\u001b[0m\u001b[0m\n\u001b[0m\u001b[0;32m   1115\u001b[0m         \u001b[1;32melse\u001b[0m\u001b[1;33m:\u001b[0m\u001b[1;33m\u001b[0m\u001b[1;33m\u001b[0m\u001b[0m\n\u001b[0;32m   1116\u001b[0m             \u001b[1;32mif\u001b[0m \u001b[0mengine\u001b[0m \u001b[1;33m==\u001b[0m \u001b[1;34m\"python\"\u001b[0m\u001b[1;33m:\u001b[0m\u001b[1;33m\u001b[0m\u001b[1;33m\u001b[0m\u001b[0m\n",
      "\u001b[1;32m~\\Apps\\Miniconda3\\envs\\jupyterlab\\lib\\site-packages\\pandas\\io\\parsers.py\u001b[0m in \u001b[0;36m__init__\u001b[1;34m(self, src, **kwds)\u001b[0m\n\u001b[0;32m   1889\u001b[0m         \u001b[0mkwds\u001b[0m\u001b[1;33m[\u001b[0m\u001b[1;34m\"usecols\"\u001b[0m\u001b[1;33m]\u001b[0m \u001b[1;33m=\u001b[0m \u001b[0mself\u001b[0m\u001b[1;33m.\u001b[0m\u001b[0musecols\u001b[0m\u001b[1;33m\u001b[0m\u001b[1;33m\u001b[0m\u001b[0m\n\u001b[0;32m   1890\u001b[0m \u001b[1;33m\u001b[0m\u001b[0m\n\u001b[1;32m-> 1891\u001b[1;33m         \u001b[0mself\u001b[0m\u001b[1;33m.\u001b[0m\u001b[0m_reader\u001b[0m \u001b[1;33m=\u001b[0m \u001b[0mparsers\u001b[0m\u001b[1;33m.\u001b[0m\u001b[0mTextReader\u001b[0m\u001b[1;33m(\u001b[0m\u001b[0msrc\u001b[0m\u001b[1;33m,\u001b[0m \u001b[1;33m**\u001b[0m\u001b[0mkwds\u001b[0m\u001b[1;33m)\u001b[0m\u001b[1;33m\u001b[0m\u001b[1;33m\u001b[0m\u001b[0m\n\u001b[0m\u001b[0;32m   1892\u001b[0m         \u001b[0mself\u001b[0m\u001b[1;33m.\u001b[0m\u001b[0munnamed_cols\u001b[0m \u001b[1;33m=\u001b[0m \u001b[0mself\u001b[0m\u001b[1;33m.\u001b[0m\u001b[0m_reader\u001b[0m\u001b[1;33m.\u001b[0m\u001b[0munnamed_cols\u001b[0m\u001b[1;33m\u001b[0m\u001b[1;33m\u001b[0m\u001b[0m\n\u001b[0;32m   1893\u001b[0m \u001b[1;33m\u001b[0m\u001b[0m\n",
      "\u001b[1;32mpandas\\_libs\\parsers.pyx\u001b[0m in \u001b[0;36mpandas._libs.parsers.TextReader.__cinit__\u001b[1;34m()\u001b[0m\n",
      "\u001b[1;32mpandas\\_libs\\parsers.pyx\u001b[0m in \u001b[0;36mpandas._libs.parsers.TextReader._setup_parser_source\u001b[1;34m()\u001b[0m\n",
      "\u001b[1;31mFileNotFoundError\u001b[0m: [Errno 2] File C:\\Users\\Claudio/climbeco/data/fluxnet/obs_dd/FLX_SE-Htm_DD_2015_2018.csv does not exist: 'C:\\\\Users\\\\Claudio/climbeco/data/fluxnet/obs_dd/FLX_SE-Htm_DD_2015_2018.csv'"
     ]
    }
   ],
   "source": [
    "#Call function to read FLUXNET daily values for Hyltemossa station:\n",
    "dd_df = read_fluxnet_dd(path_fluxnet_dd, 'Htm', 'SE')\n",
    "\n",
    "#Show dataframe:\n",
    "dd_df.head()"
   ]
  },
  {
   "cell_type": "markdown",
   "metadata": {},
   "source": [
    "<br>\n",
    "<br>\n",
    "<div style=\"text-align: right\"> \n",
    "    <a href=\"#intro\">Back to top</a>\n",
    "</div>"
   ]
  },
  {
   "cell_type": "markdown",
   "metadata": {},
   "source": [
    "<a id=\"create_plot\"></a>"
   ]
  },
  {
   "cell_type": "markdown",
   "metadata": {},
   "source": [
    "<br>\n",
    "\n",
    "### <font color='#B22222'>Task 2</font> - Create a plot using Matplotlib\n",
    "Matplotlib is a visualization library for plotting in Python. In this twofold task you will learn how to create plots for one or more variables stored as columns in a Pandas DataFrame.\n",
    "\n",
    "Before you move on creating the plots, take a look at the columns of your Pandas DataFrame. It can be hard to guess the content of a column based on its current name. A detailed description of the FLUXNET variables along with their corresponding unit can be found [here](https://fluxnet.fluxdata.org/data/fluxnet2015-dataset/fullset-data-product/). \n",
    "\n",
    "Observe that some variables are only available for the dataset with daily values whilst others might only be available for the dataset with half-hourly values. Also note that the unit for a variable available in both datasets (i.e. half-hourly & daily) might be different. "
   ]
  },
  {
   "cell_type": "markdown",
   "metadata": {},
   "source": [
    "<a id=\"plot_single_var\"></a>"
   ]
  },
  {
   "cell_type": "markdown",
   "metadata": {},
   "source": [
    "\n",
    "#### <font color='#B22222'>Task 2.1</font> - Create a plot using Matplotlib (1 variable)\n",
    "In this part, you will plot a timeseries for one variable. The code in the example below plots air temperature (daily values) over time (2015-2018).\n",
    "\n",
    "<br>\n",
    "\n",
    "Here's the syntax to create a simple plot in Python:\n",
    "\n",
    "```python\n",
    "%matplotlib inline\n",
    "\n",
    "#Import modules:\n",
    "from matplotlib import pyplot as plt\n",
    "\n",
    "#Create a plot (i.e. \"figure\") object and set the size of your plot:\n",
    "fig = plt.figure(figsize=(10, 6))\n",
    "\n",
    "#Plot Air Temperature (daily values):\n",
    "plt.plot(dd_df.TIMESTAMP, dd_df.TA_F)\n",
    "\n",
    "#Show plot:\n",
    "plt.show()\n",
    "\n",
    "```\n",
    "\n",
    "<br>\n",
    "\n",
    "```%matplotlib inline``` is a command that tells your Jupyter notebook to create static matplotlib plots. The command is used once, in the first code-cell of the notebook. **dd_df** is a variable representing a Pandas DataFrame with FLUXNET daily values. **TIMESTAMP** and **TA_F** are the FLUXNET variable names for time and air temperature respectively.  \n",
    "If you execute the code above, it should generate the following output. \n",
    "\n",
    "<img src=\"../ancillarydata/images/mod1/plot1_ex.png\">\n",
    "\n",
    "<br>\n",
    "\n",
    "Try to create plots for other variables in your Pandas DataFrame.\n",
    "\n",
    "<br>\n",
    "<br>"
   ]
  },
  {
   "cell_type": "code",
   "execution_count": 10,
   "metadata": {},
   "outputs": [
    {
     "ename": "NameError",
     "evalue": "name 'dd_df' is not defined",
     "output_type": "error",
     "traceback": [
      "\u001b[1;31m---------------------------------------------------------------------------\u001b[0m",
      "\u001b[1;31mNameError\u001b[0m                                 Traceback (most recent call last)",
      "\u001b[1;32m<ipython-input-10-1c8327a8c8e0>\u001b[0m in \u001b[0;36m<module>\u001b[1;34m\u001b[0m\n\u001b[0;32m      6\u001b[0m \u001b[1;33m\u001b[0m\u001b[0m\n\u001b[0;32m      7\u001b[0m \u001b[1;31m#Plot values for daily Air Temperature:\u001b[0m\u001b[1;33m\u001b[0m\u001b[1;33m\u001b[0m\u001b[1;33m\u001b[0m\u001b[0m\n\u001b[1;32m----> 8\u001b[1;33m \u001b[0mplt\u001b[0m\u001b[1;33m.\u001b[0m\u001b[0mplot\u001b[0m\u001b[1;33m(\u001b[0m\u001b[0mdd_df\u001b[0m\u001b[1;33m.\u001b[0m\u001b[0mTIMESTAMP\u001b[0m\u001b[1;33m,\u001b[0m \u001b[0mdd_df\u001b[0m\u001b[1;33m.\u001b[0m\u001b[0mTA_F\u001b[0m\u001b[1;33m)\u001b[0m\u001b[1;33m\u001b[0m\u001b[1;33m\u001b[0m\u001b[0m\n\u001b[0m\u001b[0;32m      9\u001b[0m \u001b[1;33m\u001b[0m\u001b[0m\n\u001b[0;32m     10\u001b[0m \u001b[1;31m#show plot:\u001b[0m\u001b[1;33m\u001b[0m\u001b[1;33m\u001b[0m\u001b[1;33m\u001b[0m\u001b[0m\n",
      "\u001b[1;31mNameError\u001b[0m: name 'dd_df' is not defined"
     ]
    },
    {
     "data": {
      "text/plain": [
       "<Figure size 576x432 with 0 Axes>"
      ]
     },
     "metadata": {},
     "output_type": "display_data"
    }
   ],
   "source": [
    "#Import modules:\n",
    "from matplotlib import pyplot as plt\n",
    "\n",
    "#Create a plot (i.e. \"figure\") object and set the size of your plot:\n",
    "fig = plt.figure(figsize=(8, 6))\n",
    "\n",
    "#Plot values for daily Air Temperature:\n",
    "plt.plot(dd_df.TIMESTAMP, dd_df.TA_F)\n",
    "\n",
    "#show plot:\n",
    "plt.show()"
   ]
  },
  {
   "cell_type": "markdown",
   "metadata": {},
   "source": [
    "<br>\n",
    "<br>\n",
    "<div style=\"text-align: right\"> \n",
    "    <a href=\"#intro\">Back to top</a>\n",
    "</div>\n",
    "<br>\n",
    "<br>"
   ]
  },
  {
   "cell_type": "markdown",
   "metadata": {},
   "source": [
    "<a id=\"plot_two_var\"></a>"
   ]
  },
  {
   "cell_type": "markdown",
   "metadata": {},
   "source": [
    "#### <font color='#B22222'>Task 2.2</font> - Create a plot using Matplotlib (two variables)\n",
    "Here's the syntax to create a simple plot of two variables in Python:\n",
    "\n",
    "```python\n",
    "\n",
    "#Import modules:\n",
    "from matplotlib import pyplot as plt\n",
    "\n",
    "#Create a plot (i.e. \"figure\") object and set the size of your plot:\n",
    "fig = plt.figure(figsize=(10, 6))\n",
    "\n",
    "#Plot values for Air Temperature (daily values):\n",
    "plt.plot(dd_df.TIMESTAMP, dd_df.TA_F)\n",
    "\n",
    "#Plot values for daytime GPP (daily values):\n",
    "plt.plot(dd_df.TIMESTAMP, dd_df.GPP_DT_VUT_MEAN)\n",
    "\n",
    "#Show plot:\n",
    "plt.show()\n",
    "\n",
    "```\n",
    "\n",
    "<br>\n",
    "\n",
    " **dd_df** is a variable representing a Pandas DataFrame with daily values for FLUXNET variables measured at Hyltemossa ICOS station in Sweden. **TIMESTAMP**, **TA_F** and **GPP_DT_VUT_MEAN** are the corresponding FLUXNET variable names for time, air temperature and GPP (daytime).  \n",
    "If you execute the code above, it should generate the following output. \n",
    "\n",
    "<img src=\"../ancillarydata/images/mod1/plot2_ex.png\">\n",
    "\n",
    "<br>\n",
    "\n",
    "Try to produce a plot for another combination of variables."
   ]
  },
  {
   "cell_type": "code",
   "execution_count": null,
   "metadata": {},
   "outputs": [],
   "source": [
    "\n",
    "#Import modules:\n",
    "from matplotlib import pyplot as plt\n",
    "\n",
    "#Create a plot (i.e. \"figure\") object and set the size of your plot:\n",
    "fig = plt.figure(figsize=(10, 6))\n",
    "\n",
    "#Plot values for daily Air Temperature:\n",
    "plt.plot(dd_df.TIMESTAMP, dd_df.TA_F)\n",
    "\n",
    "#Plot values for daytime GPP (daily values):\n",
    "plt.plot(dd_df.TIMESTAMP, dd_df.GPP_DT_VUT_MEAN)\n",
    "\n",
    "plt.show()"
   ]
  },
  {
   "cell_type": "markdown",
   "metadata": {},
   "source": [
    "<br>\n",
    "<br>\n",
    "<div style=\"text-align: right\"> \n",
    "    <a href=\"#intro\">Back to top</a>\n",
    "</div>\n",
    "<br>\n",
    "<br>"
   ]
  },
  {
   "cell_type": "markdown",
   "metadata": {},
   "source": [
    "<a id=\"plot_param\">"
   ]
  },
  {
   "cell_type": "markdown",
   "metadata": {},
   "source": [
    "<br>\n",
    "\n",
    "### <font color='#B22222'>Task 3</font> - Format plot parameters\n",
    "A plot is not complete without a title, axes labels and a legend. The next example showcases how these can be added to your plot. You will also see how to change the type and/or color of the line as well as how to add a secondary y-axis to the plot. More information on how to style your plot can be found [here](https://matplotlib.org/3.1.1/api/_as_gen/matplotlib.pyplot.plot.html).\n",
    "\n",
    "```python\n",
    "\n",
    "#Add grid:\n",
    "plt.style.use('seaborn-whitegrid')\n",
    "\n",
    "#Create a plot (i.e. \"figure\") object and set the size of your plot:\n",
    "fig, ax = plt.subplots(figsize=(16, 6))\n",
    "\n",
    "#Add plot title:\n",
    "plt.title('AIR TEMPERATURE & GPP - FLUXNET TIMESERIES (HTM, SE)')\n",
    "\n",
    "#Plot values for daily Air Temperature:\n",
    "ax.plot(dd_df.TIMESTAMP, dd_df.TA_F,\n",
    "        linestyle = '-.', linewidth = 0.6, color = 'darkorange',\n",
    "        label = 'Air Temperature')\n",
    "\n",
    "#Plot values for daytime GPP (daily values):\n",
    "ax.plot(dd_df.TIMESTAMP, dd_df.GPP_DT_VUT_MEAN,\n",
    "        linestyle = '-', linewidth = 1.7, color = '#6699CC',\n",
    "        label = 'GPP')\n",
    "\n",
    "#Add secondary y-axis:\n",
    "secaxy = ax.secondary_yaxis('right')\n",
    "\n",
    "#Add x-axis label:\n",
    "plt.xlabel('Time')\n",
    "\n",
    "#Add y-axis label:\n",
    "plt.ylabel('Air Temperature (C \\N{DEGREE SIGN})')\n",
    "\n",
    "#Add secondary y-axis label:\n",
    "secaxy.set_ylabel('GPP (gC / m2 / d)')\n",
    "\n",
    "#Add legend:\n",
    "ax.legend(bbox_to_anchor=(1.05, 1), loc='upper left', borderaxespad=0.)\n",
    "    \n",
    "#Show plot:\n",
    "plt.show()\n",
    "```\n",
    "\n",
    "<br>\n",
    "\n",
    "If you run the code above, you should get the following output:\n",
    "<br>\n",
    "\n",
    "<img src='../ancillarydata/images/mod1/plot2ndyaxis_ex.png' width=800>\n",
    "\n",
    "<br>\n",
    "\n",
    "Try to add and format the plot parameters of the plots you created in task 2.\n",
    "\n",
    "<br>\n",
    "<br>"
   ]
  },
  {
   "cell_type": "code",
   "execution_count": 11,
   "metadata": {},
   "outputs": [
    {
     "ename": "NameError",
     "evalue": "name 'dd_df' is not defined",
     "output_type": "error",
     "traceback": [
      "\u001b[1;31m---------------------------------------------------------------------------\u001b[0m",
      "\u001b[1;31mNameError\u001b[0m                                 Traceback (most recent call last)",
      "\u001b[1;32m<ipython-input-11-ccf905a215c5>\u001b[0m in \u001b[0;36m<module>\u001b[1;34m\u001b[0m\n\u001b[0;32m      9\u001b[0m \u001b[1;33m\u001b[0m\u001b[0m\n\u001b[0;32m     10\u001b[0m \u001b[1;31m#Plot values for daily Air Temperature:\u001b[0m\u001b[1;33m\u001b[0m\u001b[1;33m\u001b[0m\u001b[1;33m\u001b[0m\u001b[0m\n\u001b[1;32m---> 11\u001b[1;33m ax.plot(dd_df.TIMESTAMP, dd_df.TA_F,\n\u001b[0m\u001b[0;32m     12\u001b[0m          \u001b[0mlinestyle\u001b[0m \u001b[1;33m=\u001b[0m \u001b[1;34m'-.'\u001b[0m\u001b[1;33m,\u001b[0m \u001b[0mlinewidth\u001b[0m \u001b[1;33m=\u001b[0m \u001b[1;36m0.6\u001b[0m\u001b[1;33m,\u001b[0m \u001b[0mcolor\u001b[0m \u001b[1;33m=\u001b[0m \u001b[1;34m'darkorange'\u001b[0m\u001b[1;33m,\u001b[0m\u001b[1;33m\u001b[0m\u001b[1;33m\u001b[0m\u001b[0m\n\u001b[0;32m     13\u001b[0m          label = 'Air Temperature')\n",
      "\u001b[1;31mNameError\u001b[0m: name 'dd_df' is not defined"
     ]
    },
    {
     "data": {
      "image/png": "[encoded data removed]",
      "text/plain": [
       "<Figure size 1008x432 with 1 Axes>"
      ]
     },
     "metadata": {},
     "output_type": "display_data"
    }
   ],
   "source": [
    "#Add grid:\n",
    "plt.style.use('seaborn-whitegrid')\n",
    "\n",
    "#Create a plot (i.e. \"figure\") object and set the size of your plot:\n",
    "fig, ax = plt.subplots(figsize=(14, 6))\n",
    "\n",
    "#Add plot title:\n",
    "plt.title('AIR TEMPERATURE & GPP - FLUXNET TIMESERIES (HTM, SE)')\n",
    "\n",
    "#Plot values for daily Air Temperature:\n",
    "ax.plot(dd_df.TIMESTAMP, dd_df.TA_F,\n",
    "         linestyle = '-.', linewidth = 0.6, color = 'darkorange',\n",
    "         label = 'Air Temperature')\n",
    "\n",
    "#Plot values for daytime GPP (daily values):\n",
    "ax.plot(dd_df.TIMESTAMP, dd_df.GPP_DT_VUT_MEAN,\n",
    "         linestyle = '-', linewidth = 1.7, color = '#6699CC',\n",
    "         label = 'GPP')\n",
    "\n",
    "#Add secondary y-axis:\n",
    "secaxy = ax.secondary_yaxis('right')\n",
    "\n",
    "#Add x-axis label:\n",
    "plt.xlabel('Time')\n",
    "\n",
    "#Add y-axis label:\n",
    "plt.ylabel('Air Temperature (C \\N{DEGREE SIGN})')\n",
    "\n",
    "#Add secondary y-axis label:\n",
    "secaxy.set_ylabel('GPP (gC / m2 / d)')\n",
    "\n",
    "#Add legend:\n",
    "ax.legend(bbox_to_anchor=(1.02, 1), loc='upper left', borderaxespad=0.)\n",
    "    \n",
    "#Show plot:\n",
    "plt.show()\n",
    "\n"
   ]
  },
  {
   "cell_type": "markdown",
   "metadata": {},
   "source": [
    "<br>\n",
    "<br>\n",
    "<div style=\"text-align: right\"> \n",
    "    <a href=\"#intro\">Back to top</a>\n",
    "</div>\n",
    "<br>\n",
    "<br>"
   ]
  },
  {
   "cell_type": "markdown",
   "metadata": {},
   "source": [
    "<a id=\"compare_var\">"
   ]
  },
  {
   "cell_type": "markdown",
   "metadata": {},
   "source": [
    "<br>\n",
    "\n",
    "### <font color='#B22222'>Task 4</font> - Compare the same variable from 2 stations\n",
    "Here you will create a matplotlib plot including values from the same variable from two different stations. Before you create the plot, you need to read the values from another station to a Pandas DataFrame (see task 1). Then you plot the values of the same variable for both stations.\n",
    "\n",
    "Here's an example of the code:\n",
    "\n",
    "```python\n",
    "\n",
    "#Read data from Hyltemossa station:\n",
    "htm_df = pd.read_csv(\"~/climbeco/data/fluxnet/obs_dd/FLX_SE-Htm_DD_2015_2018.csv\",\n",
    "                     header = 0,\n",
    "                     sep = \",\",\n",
    "                     parse_dates = [\"TIMESTAMP\"])\n",
    "\n",
    "#Read data from Lanna station:\n",
    "lnn_df = pd.read_csv(\"~/climbeco/data/fluxnet/obs_dd/FLX_SE-Lnn_DD_2015_2018.csv\",\n",
    "                     header = 0,\n",
    "                     sep = \",\",\n",
    "                     parse_dates = [\"TIMESTAMP\"])\n",
    "\n",
    "\n",
    "\n",
    "#Add grid:\n",
    "plt.style.use('seaborn-whitegrid')\n",
    "\n",
    "#Create a plot (i.e. \"figure\") object and set the size of your plot:\n",
    "fig = plt.figure(figsize=(16, 6))\n",
    "\n",
    "#Add plot title:\n",
    "plt.title('GPP - FLUXNET TIMESERIES (daily values)')\n",
    "\n",
    "#Plot values for Hyltemossa:\n",
    "plt.plot(htm_df.TIMESTAMP, htm_df.GPP_DT_VUT_MEAN,\n",
    "         linestyle = '-.', linewidth = 0.5, color = 'green',\n",
    "         label = 'Hyltemossa')\n",
    "\n",
    "#Plot values for Lanna:\n",
    "plt.plot(lnn_df.TIMESTAMP, lnn_df.GPP_DT_VUT_MEAN,\n",
    "         linestyle = '-', linewidth = 1.7, color = 'darkgreen',\n",
    "         label = 'Lanna')\n",
    "\n",
    "#Add x-axis label:\n",
    "plt.xlabel('Time')\n",
    "\n",
    "#Add y-axis label:\n",
    "plt.ylabel('GPP (gC / m2 / d)')\n",
    "\n",
    "#Add legend:\n",
    "plt.legend(bbox_to_anchor=(1.05, 1), loc='upper left', borderaxespad=0.)\n",
    "    \n",
    "#Show plot:\n",
    "plt.show()\n",
    "\n",
    "```\n",
    "\n",
    "<br>\n",
    "\n",
    "The code from the example above creates a plot of GPP daily values for the stations Hyltemossa and Lanna in Sweden. The output should look like this:\n",
    "\n",
    "<img src='climbeco/images/mod1/plot2stations.png'>\n",
    "\n",
    "<br>\n",
    "\n",
    "Now, try to create plots for other stations. For instance, it might be interesting to compare variables from stations with the same vegetation type. It might also be worth to compare the same variable from stations that have different vegetation types.\n",
    "\n",
    "Use the _inspect_fluxnet_files_ notebok to view a map of the stations. Hover over the markers to get a pop-up window with additional info about the corresponding station. Alternatively, click [here](/climbeco/ancillarydata/docs/climbeco_course_station_list.png) to view the station info table.\n",
    "\n",
    "<br>\n",
    "<br>"
   ]
  },
  {
   "cell_type": "code",
   "execution_count": 12,
   "metadata": {},
   "outputs": [
    {
     "ename": "FileNotFoundError",
     "evalue": "[Errno 2] File C:\\Users\\Claudio/climbeco/data/fluxnet/obs_dd/FLX_SE-Htm_DD_2015_2018.csv does not exist: 'C:\\\\Users\\\\Claudio/climbeco/data/fluxnet/obs_dd/FLX_SE-Htm_DD_2015_2018.csv'",
     "output_type": "error",
     "traceback": [
      "\u001b[1;31m---------------------------------------------------------------------------\u001b[0m",
      "\u001b[1;31mFileNotFoundError\u001b[0m                         Traceback (most recent call last)",
      "\u001b[1;32m<ipython-input-12-9151275b36c2>\u001b[0m in \u001b[0;36m<module>\u001b[1;34m\u001b[0m\n\u001b[0;32m      1\u001b[0m \u001b[1;31m#Read data from Hyltemossa station:\u001b[0m\u001b[1;33m\u001b[0m\u001b[1;33m\u001b[0m\u001b[1;33m\u001b[0m\u001b[0m\n\u001b[1;32m----> 2\u001b[1;33m htm_df = pd.read_csv(\"~/climbeco/data/fluxnet/obs_dd/FLX_SE-Htm_DD_2015_2018.csv\",\n\u001b[0m\u001b[0;32m      3\u001b[0m                      \u001b[0mheader\u001b[0m \u001b[1;33m=\u001b[0m \u001b[1;36m0\u001b[0m\u001b[1;33m,\u001b[0m\u001b[1;33m\u001b[0m\u001b[1;33m\u001b[0m\u001b[0m\n\u001b[0;32m      4\u001b[0m                      \u001b[0msep\u001b[0m \u001b[1;33m=\u001b[0m \u001b[1;34m\",\"\u001b[0m\u001b[1;33m,\u001b[0m\u001b[1;33m\u001b[0m\u001b[1;33m\u001b[0m\u001b[0m\n\u001b[0;32m      5\u001b[0m                      parse_dates = [\"TIMESTAMP\"])\n",
      "\u001b[1;32m~\\Apps\\Miniconda3\\envs\\jupyterlab\\lib\\site-packages\\pandas\\io\\parsers.py\u001b[0m in \u001b[0;36mparser_f\u001b[1;34m(filepath_or_buffer, sep, delimiter, header, names, index_col, usecols, squeeze, prefix, mangle_dupe_cols, dtype, engine, converters, true_values, false_values, skipinitialspace, skiprows, skipfooter, nrows, na_values, keep_default_na, na_filter, verbose, skip_blank_lines, parse_dates, infer_datetime_format, keep_date_col, date_parser, dayfirst, cache_dates, iterator, chunksize, compression, thousands, decimal, lineterminator, quotechar, quoting, doublequote, escapechar, comment, encoding, dialect, error_bad_lines, warn_bad_lines, delim_whitespace, low_memory, memory_map, float_precision)\u001b[0m\n\u001b[0;32m    674\u001b[0m         )\n\u001b[0;32m    675\u001b[0m \u001b[1;33m\u001b[0m\u001b[0m\n\u001b[1;32m--> 676\u001b[1;33m         \u001b[1;32mreturn\u001b[0m \u001b[0m_read\u001b[0m\u001b[1;33m(\u001b[0m\u001b[0mfilepath_or_buffer\u001b[0m\u001b[1;33m,\u001b[0m \u001b[0mkwds\u001b[0m\u001b[1;33m)\u001b[0m\u001b[1;33m\u001b[0m\u001b[1;33m\u001b[0m\u001b[0m\n\u001b[0m\u001b[0;32m    677\u001b[0m \u001b[1;33m\u001b[0m\u001b[0m\n\u001b[0;32m    678\u001b[0m     \u001b[0mparser_f\u001b[0m\u001b[1;33m.\u001b[0m\u001b[0m__name__\u001b[0m \u001b[1;33m=\u001b[0m \u001b[0mname\u001b[0m\u001b[1;33m\u001b[0m\u001b[1;33m\u001b[0m\u001b[0m\n",
      "\u001b[1;32m~\\Apps\\Miniconda3\\envs\\jupyterlab\\lib\\site-packages\\pandas\\io\\parsers.py\u001b[0m in \u001b[0;36m_read\u001b[1;34m(filepath_or_buffer, kwds)\u001b[0m\n\u001b[0;32m    446\u001b[0m \u001b[1;33m\u001b[0m\u001b[0m\n\u001b[0;32m    447\u001b[0m     \u001b[1;31m# Create the parser.\u001b[0m\u001b[1;33m\u001b[0m\u001b[1;33m\u001b[0m\u001b[1;33m\u001b[0m\u001b[0m\n\u001b[1;32m--> 448\u001b[1;33m     \u001b[0mparser\u001b[0m \u001b[1;33m=\u001b[0m \u001b[0mTextFileReader\u001b[0m\u001b[1;33m(\u001b[0m\u001b[0mfp_or_buf\u001b[0m\u001b[1;33m,\u001b[0m \u001b[1;33m**\u001b[0m\u001b[0mkwds\u001b[0m\u001b[1;33m)\u001b[0m\u001b[1;33m\u001b[0m\u001b[1;33m\u001b[0m\u001b[0m\n\u001b[0m\u001b[0;32m    449\u001b[0m \u001b[1;33m\u001b[0m\u001b[0m\n\u001b[0;32m    450\u001b[0m     \u001b[1;32mif\u001b[0m \u001b[0mchunksize\u001b[0m \u001b[1;32mor\u001b[0m \u001b[0miterator\u001b[0m\u001b[1;33m:\u001b[0m\u001b[1;33m\u001b[0m\u001b[1;33m\u001b[0m\u001b[0m\n",
      "\u001b[1;32m~\\Apps\\Miniconda3\\envs\\jupyterlab\\lib\\site-packages\\pandas\\io\\parsers.py\u001b[0m in \u001b[0;36m__init__\u001b[1;34m(self, f, engine, **kwds)\u001b[0m\n\u001b[0;32m    878\u001b[0m             \u001b[0mself\u001b[0m\u001b[1;33m.\u001b[0m\u001b[0moptions\u001b[0m\u001b[1;33m[\u001b[0m\u001b[1;34m\"has_index_names\"\u001b[0m\u001b[1;33m]\u001b[0m \u001b[1;33m=\u001b[0m \u001b[0mkwds\u001b[0m\u001b[1;33m[\u001b[0m\u001b[1;34m\"has_index_names\"\u001b[0m\u001b[1;33m]\u001b[0m\u001b[1;33m\u001b[0m\u001b[1;33m\u001b[0m\u001b[0m\n\u001b[0;32m    879\u001b[0m \u001b[1;33m\u001b[0m\u001b[0m\n\u001b[1;32m--> 880\u001b[1;33m         \u001b[0mself\u001b[0m\u001b[1;33m.\u001b[0m\u001b[0m_make_engine\u001b[0m\u001b[1;33m(\u001b[0m\u001b[0mself\u001b[0m\u001b[1;33m.\u001b[0m\u001b[0mengine\u001b[0m\u001b[1;33m)\u001b[0m\u001b[1;33m\u001b[0m\u001b[1;33m\u001b[0m\u001b[0m\n\u001b[0m\u001b[0;32m    881\u001b[0m \u001b[1;33m\u001b[0m\u001b[0m\n\u001b[0;32m    882\u001b[0m     \u001b[1;32mdef\u001b[0m \u001b[0mclose\u001b[0m\u001b[1;33m(\u001b[0m\u001b[0mself\u001b[0m\u001b[1;33m)\u001b[0m\u001b[1;33m:\u001b[0m\u001b[1;33m\u001b[0m\u001b[1;33m\u001b[0m\u001b[0m\n",
      "\u001b[1;32m~\\Apps\\Miniconda3\\envs\\jupyterlab\\lib\\site-packages\\pandas\\io\\parsers.py\u001b[0m in \u001b[0;36m_make_engine\u001b[1;34m(self, engine)\u001b[0m\n\u001b[0;32m   1112\u001b[0m     \u001b[1;32mdef\u001b[0m \u001b[0m_make_engine\u001b[0m\u001b[1;33m(\u001b[0m\u001b[0mself\u001b[0m\u001b[1;33m,\u001b[0m \u001b[0mengine\u001b[0m\u001b[1;33m=\u001b[0m\u001b[1;34m\"c\"\u001b[0m\u001b[1;33m)\u001b[0m\u001b[1;33m:\u001b[0m\u001b[1;33m\u001b[0m\u001b[1;33m\u001b[0m\u001b[0m\n\u001b[0;32m   1113\u001b[0m         \u001b[1;32mif\u001b[0m \u001b[0mengine\u001b[0m \u001b[1;33m==\u001b[0m \u001b[1;34m\"c\"\u001b[0m\u001b[1;33m:\u001b[0m\u001b[1;33m\u001b[0m\u001b[1;33m\u001b[0m\u001b[0m\n\u001b[1;32m-> 1114\u001b[1;33m             \u001b[0mself\u001b[0m\u001b[1;33m.\u001b[0m\u001b[0m_engine\u001b[0m \u001b[1;33m=\u001b[0m \u001b[0mCParserWrapper\u001b[0m\u001b[1;33m(\u001b[0m\u001b[0mself\u001b[0m\u001b[1;33m.\u001b[0m\u001b[0mf\u001b[0m\u001b[1;33m,\u001b[0m \u001b[1;33m**\u001b[0m\u001b[0mself\u001b[0m\u001b[1;33m.\u001b[0m\u001b[0moptions\u001b[0m\u001b[1;33m)\u001b[0m\u001b[1;33m\u001b[0m\u001b[1;33m\u001b[0m\u001b[0m\n\u001b[0m\u001b[0;32m   1115\u001b[0m         \u001b[1;32melse\u001b[0m\u001b[1;33m:\u001b[0m\u001b[1;33m\u001b[0m\u001b[1;33m\u001b[0m\u001b[0m\n\u001b[0;32m   1116\u001b[0m             \u001b[1;32mif\u001b[0m \u001b[0mengine\u001b[0m \u001b[1;33m==\u001b[0m \u001b[1;34m\"python\"\u001b[0m\u001b[1;33m:\u001b[0m\u001b[1;33m\u001b[0m\u001b[1;33m\u001b[0m\u001b[0m\n",
      "\u001b[1;32m~\\Apps\\Miniconda3\\envs\\jupyterlab\\lib\\site-packages\\pandas\\io\\parsers.py\u001b[0m in \u001b[0;36m__init__\u001b[1;34m(self, src, **kwds)\u001b[0m\n\u001b[0;32m   1889\u001b[0m         \u001b[0mkwds\u001b[0m\u001b[1;33m[\u001b[0m\u001b[1;34m\"usecols\"\u001b[0m\u001b[1;33m]\u001b[0m \u001b[1;33m=\u001b[0m \u001b[0mself\u001b[0m\u001b[1;33m.\u001b[0m\u001b[0musecols\u001b[0m\u001b[1;33m\u001b[0m\u001b[1;33m\u001b[0m\u001b[0m\n\u001b[0;32m   1890\u001b[0m \u001b[1;33m\u001b[0m\u001b[0m\n\u001b[1;32m-> 1891\u001b[1;33m         \u001b[0mself\u001b[0m\u001b[1;33m.\u001b[0m\u001b[0m_reader\u001b[0m \u001b[1;33m=\u001b[0m \u001b[0mparsers\u001b[0m\u001b[1;33m.\u001b[0m\u001b[0mTextReader\u001b[0m\u001b[1;33m(\u001b[0m\u001b[0msrc\u001b[0m\u001b[1;33m,\u001b[0m \u001b[1;33m**\u001b[0m\u001b[0mkwds\u001b[0m\u001b[1;33m)\u001b[0m\u001b[1;33m\u001b[0m\u001b[1;33m\u001b[0m\u001b[0m\n\u001b[0m\u001b[0;32m   1892\u001b[0m         \u001b[0mself\u001b[0m\u001b[1;33m.\u001b[0m\u001b[0munnamed_cols\u001b[0m \u001b[1;33m=\u001b[0m \u001b[0mself\u001b[0m\u001b[1;33m.\u001b[0m\u001b[0m_reader\u001b[0m\u001b[1;33m.\u001b[0m\u001b[0munnamed_cols\u001b[0m\u001b[1;33m\u001b[0m\u001b[1;33m\u001b[0m\u001b[0m\n\u001b[0;32m   1893\u001b[0m \u001b[1;33m\u001b[0m\u001b[0m\n",
      "\u001b[1;32mpandas\\_libs\\parsers.pyx\u001b[0m in \u001b[0;36mpandas._libs.parsers.TextReader.__cinit__\u001b[1;34m()\u001b[0m\n",
      "\u001b[1;32mpandas\\_libs\\parsers.pyx\u001b[0m in \u001b[0;36mpandas._libs.parsers.TextReader._setup_parser_source\u001b[1;34m()\u001b[0m\n",
      "\u001b[1;31mFileNotFoundError\u001b[0m: [Errno 2] File C:\\Users\\Claudio/climbeco/data/fluxnet/obs_dd/FLX_SE-Htm_DD_2015_2018.csv does not exist: 'C:\\\\Users\\\\Claudio/climbeco/data/fluxnet/obs_dd/FLX_SE-Htm_DD_2015_2018.csv'"
     ]
    }
   ],
   "source": [
    "#Read data from Hyltemossa station:\n",
    "htm_df = pd.read_csv(\"~/climbeco/data/fluxnet/obs_dd/FLX_SE-Htm_DD_2015_2018.csv\",\n",
    "                     header = 0,\n",
    "                     sep = \",\",\n",
    "                     parse_dates = [\"TIMESTAMP\"])\n",
    "\n",
    "#Read data from Lanna station:\n",
    "lnn_df = pd.read_csv(\"~/climbeco/data/fluxnet/obs_dd/FLX_SE-Lnn_DD_2015_2018.csv\",\n",
    "                     header = 0,\n",
    "                     sep = \",\",\n",
    "                     parse_dates = [\"TIMESTAMP\"])\n",
    "\n",
    "\n",
    "\n",
    "#Add grid:\n",
    "plt.style.use('seaborn-whitegrid')\n",
    "\n",
    "#Create a plot (i.e. \"figure\") object and set the size of your plot:\n",
    "fig = plt.figure(figsize=(16, 6))\n",
    "\n",
    "#Add plot title:\n",
    "plt.title('GPP - FLUXNET TIMESERIES (daily values)')\n",
    "\n",
    "#Plot values for Hyltemossa:\n",
    "plt.plot(htm_df.TIMESTAMP, htm_df.GPP_DT_VUT_MEAN,\n",
    "         linestyle = '-.', linewidth = 0.5, color = 'green',\n",
    "         label = 'Hyltemossa')\n",
    "\n",
    "#Plot values for Lanna:\n",
    "plt.plot(lnn_df.TIMESTAMP, lnn_df.GPP_DT_VUT_MEAN,\n",
    "         linestyle = '-', linewidth = 1.7, color = 'darkgreen',\n",
    "         label = 'Lanna')\n",
    "\n",
    "#Add x-axis label:\n",
    "plt.xlabel('Time')\n",
    "\n",
    "#Add y-axis label:\n",
    "plt.ylabel('GPP (gC / m2 / d)')\n",
    "\n",
    "#Add legend:\n",
    "plt.legend(bbox_to_anchor=(1.01, 1), loc='upper left', borderaxespad=0.)\n",
    "    \n",
    "#Show plot:\n",
    "plt.show()\n",
    "\n"
   ]
  },
  {
   "cell_type": "markdown",
   "metadata": {},
   "source": [
    "<br>\n",
    "<br>\n",
    "<div style=\"text-align: right\"> \n",
    "    <a href=\"#intro\">Back to top</a>\n",
    "</div>\n",
    "<br>\n",
    "<br>"
   ]
  },
  {
   "cell_type": "markdown",
   "metadata": {},
   "source": [
    "<a id=\"calc_stat\">"
   ]
  },
  {
   "cell_type": "markdown",
   "metadata": {},
   "source": [
    "<br>\n",
    "\n",
    "### <font color='#B22222'>Task 5</font> - Calculate and plot statistics\n",
    "Use the _drought 2018_ - notebook with ICOS data from Hyltemossa station to see how to filter a Pandas DataFrame by time and calculate statistics. Apply the same code to the FLUXNET-data to calculate statistics for variables and stations of your choice. You can plot the results using code from the previous tasks or by using the [\"one-liner\"](https://pandas.pydata.org/pandas-docs/stable/reference/api/pandas.DataFrame.plot.html) command below:\n",
    "\n",
    "```python\n",
    "pandas_df_name.plot(type='line', 'colName_Xaxis', 'colName_Yaxis')```\n",
    "\n",
    "<br>\n",
    "<br>\n",
    "\n",
    "<font color='darkred'>**Example 1 (barplot)**</font>\n",
    "<br>\n",
    "Here's an example of calculating the minimum air temperature per year for Hyltemossa station:\n",
    "\n",
    "```python\n",
    "\n",
    "#Read data from Hyltemossa station:\n",
    "htm_df = pd.read_csv(\"~/climbeco/data/fluxnet/obs_dd/FLX_SE-Htm_DD_2015_2018.csv\",\n",
    "                     header = 0,\n",
    "                     sep = \",\",\n",
    "                     parse_dates = [\"TIMESTAMP\"])\n",
    "\n",
    "#Set the \"TIMESTAMP\" column as index:\n",
    "htm_df_ind = htm_df.set_index('TIMESTAMP')\n",
    "\n",
    "#Calculate minimum temperature for every year:\n",
    "annual_mean_temp = htm_df_ind.TA_F.resample('Y').min().dropna()\n",
    "\n",
    "#Create barplot:\n",
    "annual_mean_temp.plot(kind='bar', figsize=(10,6))\n",
    "```\n",
    "\n",
    "<br>\n",
    "\n",
    "The code above will generate the following output:\n",
    "<br>\n",
    "<img src=\"../ancillarydata/images/mod1/barplot.png\" width=500>\n",
    "\n",
    "<br>\n",
    "<br>\n",
    "\n",
    "<font color='darkred'>**Example 2 (line-plot)**</font>\n",
    "<br>\n",
    "Here's an example of calculating the mean GPP per month for Hyltemossa station:\n",
    "\n",
    "```python\n",
    "\n",
    "#Read data from Hyltemossa station:\n",
    "htm_df = pd.read_csv(\"~/climbeco/data/fluxnet/obs_dd/FLX_SE-Htm_DD_2015_2018.csv\",\n",
    "                     header = 0,\n",
    "                     sep = \",\",\n",
    "                     parse_dates = [\"TIMESTAMP\"])\n",
    "\n",
    "#Set the \"TIMESTAMP\" column as index:\n",
    "htm_df_ind = htm_df.set_index('TIMESTAMP')\n",
    "\n",
    "#Calculate the mean GPP value for every month in the dataset:\n",
    "annual_mean_temp = htm_df_ind.GPP_DT_VUT_MEAN.resample('M').mean().dropna()\n",
    "\n",
    "#Create line-plot:\n",
    "annual_mean_temp.plot(kind='line', figsize=(10,6))\n",
    "```\n",
    "\n",
    "<br>\n",
    "\n",
    "The code above will generate the following output:\n",
    "<br>\n",
    "<img src=\"../ancillarydata/images/mod1/lineplot.png\" width=500>\n"
   ]
  },
  {
   "cell_type": "code",
   "execution_count": null,
   "metadata": {},
   "outputs": [],
   "source": [
    "#Read data from Hyltemossa station:\n",
    "htm_df = pd.read_csv(\"~/climbeco/data/fluxnet/obs_dd/FLX_SE-Htm_DD_2015_2018.csv\",\n",
    "                     header = 0,\n",
    "                     sep = \",\",\n",
    "                     parse_dates = [\"TIMESTAMP\"])\n",
    "\n",
    "#Set the \"TIMESTAMP\" column as index:\n",
    "htm_df_ind = htm_df.set_index('TIMESTAMP')\n",
    "\n",
    "#Calculate minimum temperature for every year:\n",
    "annual_mean_temp = htm_df_ind.TA_F.resample('Y').min().dropna()\n",
    "\n",
    "#Create barplot:\n",
    "annual_mean_temp.plot(kind='bar', figsize=(10,6))\n",
    "\n"
   ]
  },
  {
   "cell_type": "code",
   "execution_count": null,
   "metadata": {},
   "outputs": [],
   "source": [
    "#Read data from Hyltemossa station:\n",
    "htm_df = pd.read_csv(\"~/climbeco/data/fluxnet/obs_dd/FLX_SE-Htm_DD_2015_2018.csv\",\n",
    "                     header = 0,\n",
    "                     sep = \",\",\n",
    "                     parse_dates = [\"TIMESTAMP\"])\n",
    "\n",
    "#Set the \"TIMESTAMP\" column as index:\n",
    "htm_df_ind = htm_df.set_index('TIMESTAMP')\n",
    "\n",
    "#Calculate mean GPP for every month:\n",
    "annual_mean_temp = htm_df_ind.GPP_DT_VUT_MEAN.resample('M').mean().dropna()\n",
    "\n",
    "#Create line-plot:\n",
    "annual_mean_temp.plot(kind='line', figsize=(10,6))"
   ]
  },
  {
   "cell_type": "markdown",
   "metadata": {},
   "source": [
    "<br>\n",
    "<br>\n",
    "<div style=\"text-align: right\"> \n",
    "    <a href=\"#intro\">Back to top</a>\n",
    "</div>\n",
    "<br>\n",
    "<br>"
   ]
  },
  {
   "cell_type": "markdown",
   "metadata": {},
   "source": [
    "<br>\n",
    "<br>\n",
    "<br>\n",
    "<br>\n",
    "<img src=\"../ancillarydata/logos/climbeco_contributors_logo.png\" width=\"1000\" align=\"left\"/>\n",
    "<br>\n",
    "<br>\n",
    "<br>\n",
    "<br>\n",
    "<br>\n",
    "<br>\n",
    "<br>\n",
    "<br>"
   ]
  },
  {
   "cell_type": "code",
   "execution_count": null,
   "metadata": {},
   "outputs": [],
   "source": []
  }
 ],
 "metadata": {
  "kernelspec": {
   "display_name": "Python 3",
   "language": "python",
   "name": "python3"
  },
  "language_info": {
   "codemirror_mode": {
    "name": "ipython",
    "version": 3
   },
   "file_extension": ".py",
   "mimetype": "text/x-python",
   "name": "python",
   "nbconvert_exporter": "python",
   "pygments_lexer": "ipython3",
   "version": "3.8.1"
  }
 },
 "nbformat": 4,
 "nbformat_minor": 4
}
