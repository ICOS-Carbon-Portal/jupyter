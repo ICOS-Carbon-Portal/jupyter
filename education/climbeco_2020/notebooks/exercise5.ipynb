{
 "cells": [
  {
   "cell_type": "markdown",
   "metadata": {},
   "source": [
    "<img src=\"logos/climbeco_course_logo.png\" width=\"1000\" align=\"left\"/>\n",
    "\n",
    "<br>\n",
    "<br>\n",
    "<br>\n",
    "<br>\n",
    "<br>"
   ]
  },
  {
   "cell_type": "markdown",
   "metadata": {},
   "source": [
    "#  Exercise 5: _Estimating national budgets_\n",
    "<br>\n",
    "This exercise package is focusing on how to use land masks on modelling results (i.e. vegetation modelling, inverse modelling) to estimate national budgets. You will use modelling results with different resolutions together with land masks of different resolution and/or country coverage (i.e. incl. Exclusive Economic Zones - EEZ or not incl. EEZ).\n",
    "\n",
    "<font color='blue'>INPUT DATA</font>\n",
    "\n",
    "- EDGAR annual total emissions (in 0.1 and 0.5 deg resolutions) --- > anthropogenic emissions\n",
    "- LUMIA output (0.5 deg resolution) --- > biospheric fluxes (annual totals need to be computed)\n",
    "- Country masks\n",
    "\n",
    "    - EEZ (0.1 deg grid resolution)\n",
    "    - EEZ (0.5 deg grid resolution)\n",
    "    - No EEZ (0.1 deg grid resolution)\n",
    "    - No EEZ (0.5 deg grid resolution)\n",
    "\n",
    "**Tasks:**\n",
    "1. Interactive map presenting country masks (EEZ & No EEZ) in different resolutions (0.1 degree or 0.5 degree).\n",
    "2. Select 2 countries (e.g. \"Sweden\" and \"Switzerland\", one country with coastal borders and one without). Create a plot comparing EDGAR-data with different combinations of country masks (i.e. EEZ or No EEZ) and EDGAR grid-resolutions (0.1 deg or 0.5 deg) for every country. Do you see any differences?\n",
    "3. Create a plot showing the differences in estimated national budgets for 2 countries with EDGAR-data and LUMIA-data of 0.5 deg grid resolution with and without EEZ country masks."
   ]
  },
  {
   "cell_type": "markdown",
   "metadata": {},
   "source": [
    "## Task 1:"
   ]
  },
  {
   "cell_type": "code",
   "execution_count": null,
   "metadata": {},
   "outputs": [],
   "source": []
  },
  {
   "cell_type": "code",
   "execution_count": 1,
   "metadata": {},
   "outputs": [],
   "source": [
    "import matplotlib.pyplot as plt\n",
    "import numpy as np"
   ]
  },
  {
   "cell_type": "markdown",
   "metadata": {},
   "source": [
    "## Task 2:\n",
    "<table><tr><td width='300'>\n",
    "<p>Calculate the emission for two countries and create a plot to compare the results.\n",
    "For each country you should use two grid resolutions (0.1 and 0.5) and two \"masks\", \n",
    "the EEZ (Exclusive Economic Zone) and the territorial waters one. Below are two cells, in the first one you should make the calculations. If you keep the variable names, the second cell will produce a plot to compare the two countries.</p></td><td><img src=\"images/day3/excercise2.png\"></td></tr></table>\n",
    "\n",
    "More infos about marine regions, borders etc: [marine regions, interactive map](http://www.marineregions.org/eezsearch.php) , [wiki: exclusive economic zone](https://en.wikipedia.org/wiki/Exclusive_economic_zone)\n",
    "    \n"
   ]
  },
  {
   "cell_type": "code",
   "execution_count": 6,
   "metadata": {},
   "outputs": [
    {
     "ename": "NameError",
     "evalue": "name 'read_edgar' is not defined",
     "output_type": "error",
     "traceback": [
      "\u001b[1;31m---------------------------------------------------------------------------\u001b[0m",
      "\u001b[1;31mNameError\u001b[0m                                 Traceback (most recent call last)",
      "\u001b[1;32m<ipython-input-6-70f6efce2577>\u001b[0m in \u001b[0;36m<module>\u001b[1;34m\u001b[0m\n\u001b[0;32m      1\u001b[0m \u001b[1;31m# read EDGAR anthropogenic emissions on 0.5 degree x 0.5 degree grid\u001b[0m\u001b[1;33m\u001b[0m\u001b[1;33m\u001b[0m\u001b[1;33m\u001b[0m\u001b[0m\n\u001b[1;32m----> 2\u001b[1;33m \u001b[0mlon_edgar_05\u001b[0m\u001b[1;33m,\u001b[0m \u001b[0mlat_edgar_05\u001b[0m\u001b[1;33m,\u001b[0m \u001b[0memis_edgar_05\u001b[0m\u001b[1;33m,\u001b[0m \u001b[0medgar_units_05\u001b[0m \u001b[1;33m=\u001b[0m \u001b[0mread_edgar\u001b[0m\u001b[1;33m(\u001b[0m\u001b[0mpath_edgar\u001b[0m\u001b[1;33m,\u001b[0m\u001b[1;36m0.5\u001b[0m\u001b[1;33m)\u001b[0m\u001b[1;33m\u001b[0m\u001b[1;33m\u001b[0m\u001b[0m\n\u001b[0m\u001b[0;32m      3\u001b[0m \u001b[0mxx_edgar_05\u001b[0m\u001b[1;33m,\u001b[0m\u001b[0myy_edgar_05\u001b[0m \u001b[1;33m=\u001b[0m \u001b[0mget_mesh\u001b[0m\u001b[1;33m(\u001b[0m\u001b[0mlon_edgar_05\u001b[0m\u001b[1;33m,\u001b[0m\u001b[0mlat_edgar_05\u001b[0m\u001b[1;33m)\u001b[0m\u001b[1;33m\u001b[0m\u001b[1;33m\u001b[0m\u001b[0m\n\u001b[0;32m      4\u001b[0m \u001b[1;33m\u001b[0m\u001b[0m\n\u001b[0;32m      5\u001b[0m \u001b[1;31m# read EDGAR anthropogenic emissions on 0.1 degree x 0.1 degree grid\u001b[0m\u001b[1;33m\u001b[0m\u001b[1;33m\u001b[0m\u001b[1;33m\u001b[0m\u001b[0m\n",
      "\u001b[1;31mNameError\u001b[0m: name 'read_edgar' is not defined"
     ]
    }
   ],
   "source": [
    "# read EDGAR anthropogenic emissions on 0.5 degree x 0.5 degree grid\n",
    "lon_edgar_05, lat_edgar_05, emis_edgar_05, edgar_units_05 = read_edgar(path_edgar,0.5)\n",
    "xx_edgar_05,yy_edgar_05 = get_mesh(lon_edgar_05,lat_edgar_05)\n",
    "\n",
    "# read EDGAR anthropogenic emissions on 0.1 degree x 0.1 degree grid\n",
    "lon_edgar_01, lat_edgar_01, emis_edgar_01, edgar_units_01 = read_edgar(path_edgar,0.1)\n",
    "xx_edgar_01,yy_edgar_01 = get_mesh(lon_edgar_01,lat_edgar_01)\n"
   ]
  },
  {
   "cell_type": "code",
   "execution_count": 2,
   "metadata": {},
   "outputs": [],
   "source": [
    "# this part (cell) you need to compute the \"real\" data\n",
    "# and adjust the names and labels\n",
    "# Keep the variable names or adjust the plot function below\n",
    "\n",
    "countries = ['country 1', 'country 2']\n",
    "grid_resolution=['Grid 0.1','Grid 0.5']\n",
    "country_mask = ['No EEZ','EEZ']\n",
    "\n",
    "ylabel_1 = 'unit of emission'\n",
    "\n",
    "# edgar emissions country_grid[No EEZ , EEZ]\n",
    "country0_edgar_grid1 = np.array([7.5,9])\n",
    "country0_edgar_grid2 = np.array([6.9,8])\n",
    "\n",
    "country1_edgar_grid1 = np.array([2.5,5])\n",
    "country1_edgar_grid2 = np.array([5,7.7])"
   ]
  },
  {
   "cell_type": "code",
   "execution_count": 3,
   "metadata": {},
   "outputs": [
    {
     "data": {
      "image/png": "[encoded data removed]",
      "text/plain": [
       "<Figure size 720x432 with 2 Axes>"
      ]
     },
     "metadata": {
      "needs_background": "light"
     },
     "output_type": "display_data"
    }
   ],
   "source": [
    "# compare edgar country masks for different grid resolution\n",
    "# if you kept the variable names you don't need to change\n",
    "#anything in this cell. just execute to create the plot\n",
    "#-----------------------------------------------------------\n",
    "# create plot\n",
    "fig1,(ax1,ax2) = plt.subplots(1,2,sharey=True)\n",
    "fig1.set_size_inches(10,6)\n",
    "x = np.arange(len(grid_resolution))\n",
    "barwidth = 0.4\n",
    "# create the \"left\" subplot and add edgar numbers\n",
    "# to compare grid and country mask\n",
    "ax1.bar(x-barwidth/2,country0_edgar_grid1,barwidth, label=grid_resolution[0])\n",
    "ax1.bar(x+barwidth/2,country0_edgar_grid2,barwidth, label=grid_resolution[1])\n",
    "\n",
    "# add annotation\n",
    "ax1.set_xticks(x)\n",
    "ax1.set_xticklabels(country_mask)\n",
    "ax1.grid(axis='y')\n",
    "ax1.legend(loc='upper left')\n",
    "ax1.set_xlabel(countries[0])\n",
    "ax1.set_ylabel(ylabel_1)\n",
    "\n",
    "# the next country..\n",
    "ax2.bar(x-barwidth/2,country1_edgar_grid1,barwidth, label=grid_resolution[0])\n",
    "ax2.bar(x+barwidth/2,country1_edgar_grid2,barwidth, label=grid_resolution[1])\n",
    "\n",
    "# add annotation\n",
    "ax2.set_xticks(x)\n",
    "ax2.set_xticklabels(country_mask)\n",
    "ax2.grid(axis='y')\n",
    "ax2.legend(loc='upper left')\n",
    "ax2.set_xlabel(countries[1])\n",
    "\n",
    "plt.show()"
   ]
  },
  {
   "cell_type": "markdown",
   "metadata": {},
   "source": [
    "## Task 3\n",
    "We will reuse the emission from above, but now we will add the \"lumia\" biosphere emmision, to discuss the the ratio of antropogenic and biosphere emission, and impact of country mask selection. The goald here is to create a plot for two countries, show \"edgar\" \"lumia\" and and the corresponding total amount of emission for each country and mask (NoEEZ, EEZ). We do have only 0.5 grid values for Lumia, so we do not compare the impact of grid resolution this time.\n"
   ]
  },
  {
   "cell_type": "code",
   "execution_count": 4,
   "metadata": {},
   "outputs": [],
   "source": [
    "# For Lumia, we only have value for gridresolution 0.5\n",
    "# create an two array's (one for each country) containing\n",
    "# the emission for mask1 (NoEEZ) and mask2 (EEZ)\n",
    "# country0_lumia = np.array([val for mask1, val for mask2])\n",
    "country0_lumia = np.array([-0.55,2.1])\n",
    "country1_lumia = np.array([-1.15, -4.1])\n",
    "\n",
    "# country total emission\n",
    "# sum the antropogenic and fossil fuel emmision\n",
    "country0_total = country0_edgar_grid2 + country0_lumia\n",
    "country1_total = country1_edgar_grid2 + country1_lumia"
   ]
  },
  {
   "cell_type": "code",
   "execution_count": 5,
   "metadata": {},
   "outputs": [
    {
     "data": {
      "image/png": "[encoded data removed]",
      "text/plain": [
       "<Figure size 720x432 with 2 Axes>"
      ]
     },
     "metadata": {
      "needs_background": "light"
     },
     "output_type": "display_data"
    }
   ],
   "source": [
    "#-----------------------------------------------------------\n",
    "# compare edgar country masks for different grid resolution\n",
    "#-----------------------------------------------------------\n",
    "# create plot\n",
    "fig2,(ax1,ax2) = plt.subplots(1,2,sharey=True)\n",
    "fig2.set_size_inches(10,6)\n",
    "x = np.arange(len(grid_resolution))\n",
    "barwidth = 0.25\n",
    "\n",
    "# add lumia\n",
    "ax1.bar(x-barwidth,country0_edgar_grid2,barwidth, label=\"Edgar\")\n",
    "ax1.bar(x, country0_lumia,barwidth, label=\"Lumia\")\n",
    "ax1.bar(x+barwidth,country0_total,barwidth, label='Total')\n",
    "\n",
    "# add annotation\n",
    "ax1.set_xticks(x)\n",
    "ax1.set_xticklabels(country_mask)\n",
    "ax1.grid(axis='y')\n",
    "ax1.legend(loc='upper left')\n",
    "ax1.set_xlabel(countries[0])\n",
    "ax1.set_ylabel(ylabel_1)\n",
    "\n",
    "# add lumia\n",
    "ax2.bar(x-barwidth,country1_edgar_grid2,barwidth, label=\"Edgar\")\n",
    "ax2.bar(x, country1_lumia,barwidth, label=\"Lumia\")\n",
    "ax2.bar(x+barwidth,country1_total,barwidth, label='Total')\n",
    "\n",
    "# add annotation\n",
    "ax2.set_xticks(x)\n",
    "ax2.set_xticklabels(country_mask)\n",
    "ax2.grid(axis='y')\n",
    "ax2.legend(loc='upper left')\n",
    "ax2.set_xlabel(countries[1])\n",
    "\n",
    "plt.show()\n",
    "#-----------------------------------------------------"
   ]
  },
  {
   "cell_type": "markdown",
   "metadata": {},
   "source": [
    "<br>\n",
    "<br>\n",
    "<br>\n",
    "<br>\n",
    "<img src=\"logos/climbeco_contributors_logo.png\" width=\"1000\" align=\"left\"/>\n",
    "<br>\n",
    "<br>\n",
    "<br>\n",
    "<br>\n",
    "<br>\n",
    "<br>\n",
    "<br>\n",
    "<br>"
   ]
  },
  {
   "cell_type": "code",
   "execution_count": null,
   "metadata": {},
   "outputs": [],
   "source": []
  }
 ],
 "metadata": {
  "kernelspec": {
   "display_name": "Python 3",
   "language": "python",
   "name": "python3"
  },
  "language_info": {
   "codemirror_mode": {
    "name": "ipython",
    "version": 3
   },
   "file_extension": ".py",
   "mimetype": "text/x-python",
   "name": "python",
   "nbconvert_exporter": "python",
   "pygments_lexer": "ipython3",
   "version": "3.8.1"
  }
 },
 "nbformat": 4,
 "nbformat_minor": 2
}
