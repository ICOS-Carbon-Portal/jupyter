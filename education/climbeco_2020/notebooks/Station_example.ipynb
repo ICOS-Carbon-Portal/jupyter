{
 "cells": [
  {
   "cell_type": "markdown",
   "metadata": {},
   "source": [
    "# Station Class - Example"
   ]
  },
  {
   "cell_type": "code",
   "execution_count": null,
   "metadata": {},
   "outputs": [],
   "source": [
    "#from tools import read_fluxnet_dd, read_fluxnet_hh\n",
    "%run ./tools.ipynb"
   ]
  },
  {
   "cell_type": "markdown",
   "metadata": {},
   "source": [
    "Use the following variables as input parameters to the function that reads LPJ-GUESS output:\n",
    "\n",
    "LPJ-GUESS Vegetation Types:\n",
    "- coniferous\n",
    "- deciduous\n",
    "- grass_wet_crop\n",
    "- pnv\n",
    "\n",
    "LPJ-GUES Ecosystem Variables:\n",
    "- gpp\n",
    "- npp\n",
    "- nee\n",
    "- rtot\n",
    "- prec\n",
    "- swrad\n",
    "- temp"
   ]
  },
  {
   "cell_type": "code",
   "execution_count": null,
   "metadata": {},
   "outputs": [],
   "source": [
    "#Create station obj from Station class:\n",
    "loobos = Station('Loo', 'gpp')\n",
    "\n",
    "#Show station info:\n",
    "loobos.info"
   ]
  },
  {
   "cell_type": "code",
   "execution_count": null,
   "metadata": {},
   "outputs": [],
   "source": [
    "#Read LPJ-data to a Pandas DataFrame and store in station obj:\n",
    "loobos.lpj=read_lpjguess_st('conif', 'gpp', 'Loo')\n",
    "\n",
    "#Show DataFrame:\n",
    "loobos.lpj"
   ]
  },
  {
   "cell_type": "code",
   "execution_count": null,
   "metadata": {},
   "outputs": [],
   "source": [
    "#Plot LPJ-data for station obj:\n",
    "loobos.lpj.plot(x='time', y='Value', figsize=(20,5))"
   ]
  },
  {
   "cell_type": "code",
   "execution_count": null,
   "metadata": {},
   "outputs": [],
   "source": [
    "#Read FLUXNET-data:\n",
    "loobos.fluxnet=read_fluxnet_dd(\"~/climbeco/data/fluxnet/obs_dd/\" , 'Loo')\n",
    "\n",
    "#Show DataFrame:\n",
    "loobos.fluxnet"
   ]
  },
  {
   "cell_type": "code",
   "execution_count": null,
   "metadata": {},
   "outputs": [],
   "source": [
    "#Plot FLUXNET-data for station obj:\n",
    "loobos.fluxnet.plot(x='TIMESTAMP', y='GPP_DT_VUT_MEAN', figsize=(20,5))"
   ]
  },
  {
   "cell_type": "code",
   "execution_count": null,
   "metadata": {},
   "outputs": [],
   "source": [
    "#Add grid:\n",
    "plt.style.use('seaborn-whitegrid')\n",
    "\n",
    "#Create a plot (i.e. \"figure\") object and set the size of your plot:\n",
    "fig = plt.figure(figsize=(15, 6))\n",
    "\n",
    "#Add plot title:\n",
    "plt.title('GPP - FLUXNET TIMESERIES (daily values)')\n",
    "\n",
    "#Plot values for Hyltemossa:\n",
    "plt.plot(loobos.lpj.time, loobos.lpj.Value*1000,\n",
    "         linestyle = 'dotted', linewidth = 0.5, color = 'blue',\n",
    "         label = 'Loobos - LPJ')\n",
    "\n",
    "#Plot values for Lanna:\n",
    "plt.plot(loobos.fluxnet.TIMESTAMP, loobos.fluxnet.GPP_DT_VUT_MEAN,\n",
    "         linestyle = 'dotted', linewidth = 0.5, color = 'darkgreen',\n",
    "         label = 'Loobos -FLUXNET')\n",
    "\n",
    "\n",
    "\n",
    "#Add x-axis label:\n",
    "plt.xlabel('Time')\n",
    "\n",
    "#Add y-axis label:\n",
    "plt.ylabel('GPP (gC / m2 / d)')\n",
    "\n",
    "#Add legend:\n",
    "plt.legend(bbox_to_anchor=(1.05, 1), loc='upper left', borderaxespad=0.)\n",
    "\n",
    "#Show plot:\n",
    "plt.show()"
   ]
  }
 ],
 "metadata": {
  "kernelspec": {
   "display_name": "Python 3",
   "language": "python",
   "name": "python3"
  },
  "language_info": {
   "codemirror_mode": {
    "name": "ipython",
    "version": 3
   },
   "file_extension": ".py",
   "mimetype": "text/x-python",
   "name": "python",
   "nbconvert_exporter": "python",
   "pygments_lexer": "ipython3",
   "version": "3.7.6"
  }
 },
 "nbformat": 4,
 "nbformat_minor": 4
}
